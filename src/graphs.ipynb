{
 "cells": [
  {
   "cell_type": "code",
   "execution_count": 380,
   "metadata": {},
   "outputs": [],
   "source": [
    "import pandas as pd\n",
    "import os\n",
    "import matplotlib.pyplot as pl\n",
    "\n",
    "import seaborn as sns\n",
    "import matplotlib.pyplot as plt\n",
    "# sns.set_theme(style=\"ticks\", color_codes=True)"
   ]
  },
  {
   "cell_type": "code",
   "execution_count": 381,
   "metadata": {},
   "outputs": [],
   "source": [
    "evals = pd.read_csv(r\"C:\\Users\\lianl\\Repositories\\Q1-Project-Code\\data\\out\\nips4b_birds_classificationfile001.csv\") "
   ]
  },
  {
   "cell_type": "code",
   "execution_count": 383,
   "metadata": {},
   "outputs": [
    {
     "data": {
      "text/plain": [
       "216"
      ]
     },
     "execution_count": 383,
     "metadata": {},
     "output_type": "execute_result"
    }
   ],
   "source": [
    "len(evals['label'])"
   ]
  },
  {
   "cell_type": "code",
   "execution_count": 357,
   "metadata": {},
   "outputs": [
    {
     "data": {
      "text/plain": [
       "str"
      ]
     },
     "execution_count": 357,
     "metadata": {},
     "output_type": "execute_result"
    }
   ],
   "source": [
    "title = evals['file'].unique()[0]\n",
    "type(title)"
   ]
  },
  {
   "cell_type": "code",
   "execution_count": 358,
   "metadata": {},
   "outputs": [],
   "source": [
    "to_plot = evals[['pred','label','temporal_frame_start_times']].copy(True)\n",
    "# df.drop(df[df['Age'] < 25].index, inplace = True)\n",
    "to_plot.drop(to_plot[(to_plot['pred'] == 0) & (to_plot['label'] == 0)].index, inplace = True)\n",
    "# to_plot"
   ]
  },
  {
   "cell_type": "code",
   "execution_count": 359,
   "metadata": {},
   "outputs": [],
   "source": [
    "# to_plot"
   ]
  },
  {
   "cell_type": "code",
   "execution_count": 360,
   "metadata": {},
   "outputs": [],
   "source": [
    "pred = to_plot['pred'].values.tolist()"
   ]
  },
  {
   "cell_type": "code",
   "execution_count": 361,
   "metadata": {},
   "outputs": [],
   "source": [
    "label = to_plot['label'].values.tolist()"
   ]
  },
  {
   "cell_type": "code",
   "execution_count": 362,
   "metadata": {},
   "outputs": [
    {
     "data": {
      "text/plain": [
       "[0.023219954648526,\n",
       " 0.0928798185941043,\n",
       " 0.1160997732426303,\n",
       " 0.1393197278911564,\n",
       " 0.1625396825396825,\n",
       " 0.1857596371882086,\n",
       " 0.2089795918367347,\n",
       " 0.2321995464852607,\n",
       " 0.2554195011337868,\n",
       " 0.2786394557823129,\n",
       " 0.301859410430839,\n",
       " 0.3250793650793651,\n",
       " 0.3482993197278911,\n",
       " 0.3715192743764172,\n",
       " 0.3947392290249433,\n",
       " 0.4179591836734694,\n",
       " 0.4411791383219954,\n",
       " 0.4643990929705215,\n",
       " 0.4876190476190476,\n",
       " 0.5108390022675737,\n",
       " 0.5340589569160997,\n",
       " 0.5572789115646258,\n",
       " 0.5804988662131519,\n",
       " 0.603718820861678,\n",
       " 0.626938775510204,\n",
       " 0.6501587301587302,\n",
       " 0.6733786848072563,\n",
       " 0.6965986394557823,\n",
       " 0.7198185941043084,\n",
       " 0.7430385487528345,\n",
       " 0.7662585034013606,\n",
       " 0.7894784580498866,\n",
       " 0.8126984126984127,\n",
       " 0.8359183673469388,\n",
       " 0.8591383219954648,\n",
       " 0.8823582766439909,\n",
       " 0.905578231292517,\n",
       " 0.9287981859410432,\n",
       " 0.9520181405895692,\n",
       " 0.9752380952380952,\n",
       " 0.9984580498866212,\n",
       " 1.0216780045351477,\n",
       " 1.0448979591836736,\n",
       " 1.0681179138321997,\n",
       " 1.0913378684807256,\n",
       " 1.1145578231292517,\n",
       " 1.3003174603174603,\n",
       " 1.3235374149659864,\n",
       " 1.3467573696145123,\n",
       " 1.3699773242630386,\n",
       " 1.3931972789115643,\n",
       " 1.4164172335600906,\n",
       " 1.4396371882086167,\n",
       " 1.4628571428571429,\n",
       " 1.486077097505669,\n",
       " 1.509297052154195,\n",
       " 1.6021768707482993,\n",
       " 1.6253968253968254,\n",
       " 1.6486167800453515,\n",
       " 1.6718367346938776,\n",
       " 1.6950566893424035,\n",
       " 1.7182766439909296,\n",
       " 1.7414965986394555,\n",
       " 1.7647165532879818,\n",
       " 1.787936507936508,\n",
       " 1.811156462585034,\n",
       " 1.83437641723356,\n",
       " 1.8575963718820865,\n",
       " 1.880816326530612,\n",
       " 1.9040362811791385,\n",
       " 1.9272562358276644,\n",
       " 1.9504761904761905,\n",
       " 1.9736961451247168,\n",
       " 1.9969160997732427,\n",
       " 2.020136054421769,\n",
       " 2.043356009070295,\n",
       " 2.066575963718821,\n",
       " 2.089795918367347,\n",
       " 2.113015873015873,\n",
       " 2.136235827664399,\n",
       " 2.159455782312925,\n",
       " 2.182675736961451,\n",
       " 2.205895691609977,\n",
       " 2.229115646258504,\n",
       " 2.252335600907029,\n",
       " 2.275555555555556,\n",
       " 2.2987755102040817,\n",
       " 2.321995464852608,\n",
       " 2.345215419501134,\n",
       " 2.36843537414966,\n",
       " 2.391655328798186,\n",
       " 2.414875283446712,\n",
       " 2.4380952380952383,\n",
       " 2.461315192743764,\n",
       " 2.48453514739229,\n",
       " 2.507755102040816,\n",
       " 2.5309750566893423,\n",
       " 2.5541950113378684,\n",
       " 2.5774149659863945,\n",
       " 2.6006349206349206,\n",
       " 2.6238548752834467,\n",
       " 2.647074829931973,\n",
       " 2.670294784580499,\n",
       " 2.693514739229025,\n",
       " 2.716734693877551,\n",
       " 2.7399546485260773,\n",
       " 2.7631746031746034,\n",
       " 2.786394557823129,\n",
       " 2.809614512471655,\n",
       " 2.8328344671201813,\n",
       " 2.8560544217687074,\n",
       " 2.879274376417233,\n",
       " 2.90249433106576,\n",
       " 2.9257142857142857,\n",
       " 2.948934240362812,\n",
       " 2.972154195011338,\n",
       " 2.995374149659864,\n",
       " 3.01859410430839,\n",
       " 3.0418140589569163,\n",
       " 3.0650340136054424,\n",
       " 3.0882539682539685,\n",
       " 3.111473922902494,\n",
       " 3.13469387755102,\n",
       " 3.1579138321995464,\n",
       " 3.1811337868480725,\n",
       " 3.2043537414965986,\n",
       " 3.2275736961451247,\n",
       " 3.250793650793651,\n",
       " 3.297233560090703,\n",
       " 3.320453514739229,\n",
       " 3.3901133786848074,\n",
       " 3.4133333333333336,\n",
       " 3.436553287981859,\n",
       " 3.4597732426303853,\n",
       " 3.4829931972789114,\n",
       " 3.506213151927437,\n",
       " 3.529433106575964,\n",
       " 3.5526530612244898,\n",
       " 3.575873015873016,\n",
       " 3.599092970521542,\n",
       " 3.622312925170068,\n",
       " 3.645532879818594,\n",
       " 3.66875283446712,\n",
       " 3.6919727891156464,\n",
       " 3.715192743764173,\n",
       " 3.738412698412698,\n",
       " 3.761632653061224,\n",
       " 3.7848526077097504,\n",
       " 3.808072562358277,\n",
       " 3.831292517006802,\n",
       " 3.8545124716553287,\n",
       " 3.877732426303855,\n",
       " 3.900952380952381,\n",
       " 3.924172335600907,\n",
       " 3.947392290249433,\n",
       " 3.9706122448979593,\n",
       " 3.993832199546485,\n",
       " 4.017052154195011,\n",
       " 4.040272108843538,\n",
       " 4.063492063492063,\n",
       " 4.08671201814059,\n",
       " 4.109931972789116,\n",
       " 4.133151927437642,\n",
       " 4.156371882086168,\n",
       " 4.179591836734694,\n",
       " 4.20281179138322,\n",
       " 4.2260317460317465,\n",
       " 4.249251700680272,\n",
       " 4.272471655328798,\n",
       " 4.295691609977324,\n",
       " 4.31891156462585,\n",
       " 4.342131519274377,\n",
       " 4.365351473922902,\n",
       " 4.388571428571429,\n",
       " 4.4117913832199545,\n",
       " 4.435011337868481,\n",
       " 4.458231292517007,\n",
       " 4.481451247165533,\n",
       " 4.504671201814059,\n",
       " 4.527891156462585,\n",
       " 4.551111111111111,\n",
       " 4.574331065759637,\n",
       " 4.597551020408163,\n",
       " 4.620770975056689,\n",
       " 4.643990929705216,\n",
       " 4.667210884353741,\n",
       " 4.690430839002268,\n",
       " 4.713650793650793,\n",
       " 4.73687074829932,\n",
       " 4.760090702947846,\n",
       " 4.783310657596372,\n",
       " 4.806530612244898,\n",
       " 4.829750566893424,\n",
       " 4.85297052154195,\n",
       " 4.876190476190477,\n",
       " 4.899410430839002,\n",
       " 4.922630385487528,\n",
       " 4.96907029478458,\n",
       " 4.992290249433107]"
      ]
     },
     "execution_count": 362,
     "metadata": {},
     "output_type": "execute_result"
    }
   ],
   "source": [
    "time = to_plot['temporal_frame_start_times'].values.tolist()\n",
    "time"
   ]
  },
  {
   "cell_type": "code",
   "execution_count": 363,
   "metadata": {},
   "outputs": [],
   "source": [
    "#pred,label,time"
   ]
  },
  {
   "cell_type": "code",
   "execution_count": 364,
   "metadata": {},
   "outputs": [],
   "source": [
    "# pl.plot(to_plot)\n",
    "# pl.show()"
   ]
  },
  {
   "cell_type": "code",
   "execution_count": 365,
   "metadata": {},
   "outputs": [],
   "source": [
    "# sns.catplot(x=\"temporal_frame_start_times\", y=\"pred\", hue=\"pred\", kind=\"swarm\", data= to_plot)\n",
    "# pl.show()"
   ]
  },
  {
   "cell_type": "code",
   "execution_count": 366,
   "metadata": {},
   "outputs": [],
   "source": [
    "# sns.catplot(x=\"temporal_frame_start_times\", y=\"label\", hue=\"label\", kind=\"swarm\", data= to_plot)\n",
    "# pl.show()"
   ]
  },
  {
   "cell_type": "code",
   "execution_count": 367,
   "metadata": {},
   "outputs": [],
   "source": [
    "dfm = to_plot.melt(\"temporal_frame_start_times\", var_name='bin', value_name='vals')"
   ]
  },
  {
   "cell_type": "code",
   "execution_count": 368,
   "metadata": {},
   "outputs": [],
   "source": [
    "# sns.catplot(x=\"temporal_frame_start_times\", y='vals', hue=\"bin\", kind=\"swarm\", data= dfm)\n",
    "# pl.show()"
   ]
  },
  {
   "cell_type": "code",
   "execution_count": 369,
   "metadata": {},
   "outputs": [],
   "source": [
    "viz = to_plot.copy(True)"
   ]
  },
  {
   "cell_type": "code",
   "execution_count": 370,
   "metadata": {},
   "outputs": [],
   "source": [
    "\n",
    "viz = viz.replace({'label':{0:0,1:2}})\n",
    "viz = viz.replace({'pred':{0:0,1:1}})"
   ]
  },
  {
   "cell_type": "code",
   "execution_count": 371,
   "metadata": {},
   "outputs": [],
   "source": [
    "# viz"
   ]
  },
  {
   "cell_type": "code",
   "execution_count": 372,
   "metadata": {},
   "outputs": [],
   "source": [
    "dfm_viz = viz.melt(\"temporal_frame_start_times\", var_name='bin', value_name='Presence')\n",
    "# dfm"
   ]
  },
  {
   "cell_type": "code",
   "execution_count": 373,
   "metadata": {},
   "outputs": [
    {
     "data": {
      "text/html": [
       "<div>\n",
       "<style scoped>\n",
       "    .dataframe tbody tr th:only-of-type {\n",
       "        vertical-align: middle;\n",
       "    }\n",
       "\n",
       "    .dataframe tbody tr th {\n",
       "        vertical-align: top;\n",
       "    }\n",
       "\n",
       "    .dataframe thead th {\n",
       "        text-align: right;\n",
       "    }\n",
       "</style>\n",
       "<table border=\"1\" class=\"dataframe\">\n",
       "  <thead>\n",
       "    <tr style=\"text-align: right;\">\n",
       "      <th></th>\n",
       "      <th>temporal_frame_start_times</th>\n",
       "      <th>bin</th>\n",
       "      <th>Presence</th>\n",
       "    </tr>\n",
       "  </thead>\n",
       "  <tbody>\n",
       "    <tr>\n",
       "      <th>120</th>\n",
       "      <td>3.088254</td>\n",
       "      <td>pred</td>\n",
       "      <td>1</td>\n",
       "    </tr>\n",
       "  </tbody>\n",
       "</table>\n",
       "</div>"
      ],
      "text/plain": [
       "     temporal_frame_start_times   bin  Presence\n",
       "120                    3.088254  pred         1"
      ]
     },
     "execution_count": 373,
     "metadata": {},
     "output_type": "execute_result"
    }
   ],
   "source": [
    "pd.set_option(\"display.max_rows\", None, \"display.max_columns\", None)\n",
    "dfm_viz.sample()#.head(10)"
   ]
  },
  {
   "cell_type": "code",
   "execution_count": 374,
   "metadata": {},
   "outputs": [
    {
     "data": {
      "text/plain": [
       "Index(['temporal_frame_start_times', 'bin', 'Presence'], dtype='object')"
      ]
     },
     "execution_count": 374,
     "metadata": {},
     "output_type": "execute_result"
    }
   ],
   "source": [
    "dfm_viz.columns"
   ]
  },
  {
   "cell_type": "code",
   "execution_count": 375,
   "metadata": {},
   "outputs": [
    {
     "data": {
      "text/html": [
       "<div>\n",
       "<style scoped>\n",
       "    .dataframe tbody tr th:only-of-type {\n",
       "        vertical-align: middle;\n",
       "    }\n",
       "\n",
       "    .dataframe tbody tr th {\n",
       "        vertical-align: top;\n",
       "    }\n",
       "\n",
       "    .dataframe thead th {\n",
       "        text-align: right;\n",
       "    }\n",
       "</style>\n",
       "<table border=\"1\" class=\"dataframe\">\n",
       "  <thead>\n",
       "    <tr style=\"text-align: right;\">\n",
       "      <th></th>\n",
       "      <th>temporal_frame_start_times</th>\n",
       "      <th>bin</th>\n",
       "      <th>Presence</th>\n",
       "    </tr>\n",
       "  </thead>\n",
       "  <tbody>\n",
       "    <tr>\n",
       "      <th>294</th>\n",
       "      <td>2.507755</td>\n",
       "      <td>label</td>\n",
       "      <td>2</td>\n",
       "    </tr>\n",
       "  </tbody>\n",
       "</table>\n",
       "</div>"
      ],
      "text/plain": [
       "     temporal_frame_start_times    bin  Presence\n",
       "294                    2.507755  label         2"
      ]
     },
     "execution_count": 375,
     "metadata": {},
     "output_type": "execute_result"
    }
   ],
   "source": [
    "# to_plot.drop(to_plot[(to_plot['pred'] == 0) & (to_plot['label'] == 0)].index, inplace = True)\n",
    "dfm_viz.drop(dfm_viz[dfm_viz['Presence'] == 0].index, inplace = True)\n",
    "dfm_viz.sample()"
   ]
  },
  {
   "cell_type": "code",
   "execution_count": 376,
   "metadata": {},
   "outputs": [],
   "source": [
    "# import seaborn as sns\n",
    "# import numpy as np\n",
    "# import matplotlib.pyplot as plt\n",
    "# import matplotlib.ticker as ticker"
   ]
  },
  {
   "cell_type": "code",
   "execution_count": 379,
   "metadata": {},
   "outputs": [
    {
     "data": {
      "image/png": "[encoded data removed]",
      "text/plain": [
       "<Figure size 1296x216 with 1 Axes>"
      ]
     },
     "metadata": {},
     "output_type": "display_data"
    }
   ],
   "source": [
    "sns.set_theme()\n",
    "g = sns.catplot(x=\"temporal_frame_start_times\", y='bin', kind=\"swarm\",height = 3,aspect = 6,data= dfm_viz)\n",
    "# g = sns.scatterplot(data=dfm_viz, x=\"temporal_frame_start_times\", y=\"Presence\", hue=\"bin\")\n",
    "# g.set(rc={'figure.figsize':(12,8.27)})\n",
    "# g.set(xticklabels=[])  \n",
    "# g.set(yticklabels=[]) \n",
    "# g.yaxis.set_major_locator(ticker.MultipleLocator(1)) \n",
    "# g.set(title='Penguins: Body Mass by Species for Gender')\n",
    "g.fig.subplots_adjust(top=0.9)\n",
    "g.fig.suptitle(title)\n",
    "g.set(ylabel=None)\n",
    "# g.tick_params(bottom=False)\n",
    "pl.show()"
   ]
  },
  {
   "cell_type": "code",
   "execution_count": null,
   "metadata": {},
   "outputs": [],
   "source": []
  },
  {
   "cell_type": "code",
   "execution_count": null,
   "metadata": {},
   "outputs": [],
   "source": []
  },
  {
   "cell_type": "code",
   "execution_count": null,
   "metadata": {},
   "outputs": [],
   "source": []
  },
  {
   "cell_type": "code",
   "execution_count": 32,
   "metadata": {},
   "outputs": [],
   "source": [
    "#DATAMINING"
   ]
  },
  {
   "cell_type": "code",
   "execution_count": 189,
   "metadata": {},
   "outputs": [],
   "source": [
    "import numpy as np\n",
    "import matplotlib.ticker as tkr"
   ]
  },
  {
   "cell_type": "code",
   "execution_count": 4,
   "metadata": {},
   "outputs": [],
   "source": [
    "datamine = pd.read_csv(r\"C:\\Users\\lianl\\Repositories\\Q1-Project-Code\\data\\raw\\NIPS4B_BIRD_CHALLENGE_TRAIN_TEST_WAV\\temporal_annotations_nips4b\\annotation_train001.csv\") "
   ]
  },
  {
   "cell_type": "code",
   "execution_count": 5,
   "metadata": {},
   "outputs": [
    {
     "data": {
      "text/html": [
       "<div>\n",
       "<style scoped>\n",
       "    .dataframe tbody tr th:only-of-type {\n",
       "        vertical-align: middle;\n",
       "    }\n",
       "\n",
       "    .dataframe tbody tr th {\n",
       "        vertical-align: top;\n",
       "    }\n",
       "\n",
       "    .dataframe thead th {\n",
       "        text-align: right;\n",
       "    }\n",
       "</style>\n",
       "<table border=\"1\" class=\"dataframe\">\n",
       "  <thead>\n",
       "    <tr style=\"text-align: right;\">\n",
       "      <th></th>\n",
       "      <th>0.095782313</th>\n",
       "      <th>0.044988662</th>\n",
       "      <th>Unknown</th>\n",
       "    </tr>\n",
       "  </thead>\n",
       "  <tbody>\n",
       "    <tr>\n",
       "      <th>0</th>\n",
       "      <td>0.220590</td>\n",
       "      <td>0.243810</td>\n",
       "      <td>Butbut_call</td>\n",
       "    </tr>\n",
       "    <tr>\n",
       "      <th>1</th>\n",
       "      <td>0.592109</td>\n",
       "      <td>0.023220</td>\n",
       "      <td>Erirub_call</td>\n",
       "    </tr>\n",
       "    <tr>\n",
       "      <th>2</th>\n",
       "      <td>0.825760</td>\n",
       "      <td>0.026122</td>\n",
       "      <td>Erirub_call</td>\n",
       "    </tr>\n",
       "    <tr>\n",
       "      <th>3</th>\n",
       "      <td>1.584762</td>\n",
       "      <td>0.400544</td>\n",
       "      <td>Butbut_call</td>\n",
       "    </tr>\n",
       "    <tr>\n",
       "      <th>4</th>\n",
       "      <td>2.265397</td>\n",
       "      <td>0.020317</td>\n",
       "      <td>Erirub_call</td>\n",
       "    </tr>\n",
       "    <tr>\n",
       "      <th>5</th>\n",
       "      <td>2.356825</td>\n",
       "      <td>0.201723</td>\n",
       "      <td>Parate_call</td>\n",
       "    </tr>\n",
       "    <tr>\n",
       "      <th>6</th>\n",
       "      <td>2.478730</td>\n",
       "      <td>0.046440</td>\n",
       "      <td>Erirub_call</td>\n",
       "    </tr>\n",
       "    <tr>\n",
       "      <th>7</th>\n",
       "      <td>3.601995</td>\n",
       "      <td>0.236553</td>\n",
       "      <td>Unknown</td>\n",
       "    </tr>\n",
       "  </tbody>\n",
       "</table>\n",
       "</div>"
      ],
      "text/plain": [
       "   0.095782313  0.044988662      Unknown\n",
       "0     0.220590     0.243810  Butbut_call\n",
       "1     0.592109     0.023220  Erirub_call\n",
       "2     0.825760     0.026122  Erirub_call\n",
       "3     1.584762     0.400544  Butbut_call\n",
       "4     2.265397     0.020317  Erirub_call\n",
       "5     2.356825     0.201723  Parate_call\n",
       "6     2.478730     0.046440  Erirub_call\n",
       "7     3.601995     0.236553      Unknown"
      ]
     },
     "execution_count": 5,
     "metadata": {},
     "output_type": "execute_result"
    }
   ],
   "source": [
    "datamine"
   ]
  },
  {
   "cell_type": "code",
   "execution_count": null,
   "metadata": {},
   "outputs": [],
   "source": [
    "g = sns.catplot(x=\"temporal_frame_start_times\", y='Presence', hue=\"bin\", kind=\"swarm\",height = 12, aspect = 3,data= dfm_viz)\n",
    "\n",
    "pl.show()"
   ]
  },
  {
   "cell_type": "code",
   "execution_count": 37,
   "metadata": {},
   "outputs": [
    {
     "data": {
      "image/png": "[encoded data removed]",
      "text/plain": [
       "<Figure size 432x288 with 1 Axes>"
      ]
     },
     "metadata": {},
     "output_type": "display_data"
    }
   ],
   "source": [
    "pl.plot(datamine[datamine.columns[:2]], 'o')\n",
    "pl.plot(style=['o','rx'])\n",
    "plt.show()"
   ]
  },
  {
   "cell_type": "code",
   "execution_count": 44,
   "metadata": {},
   "outputs": [
    {
     "data": {
      "text/plain": [
       "0    0.464399\n",
       "1    0.615329\n",
       "2    0.851882\n",
       "3    1.985306\n",
       "4    2.285714\n",
       "5    2.558549\n",
       "6    2.525170\n",
       "7    3.838549\n",
       "dtype: float64"
      ]
     },
     "execution_count": 44,
     "metadata": {},
     "output_type": "execute_result"
    }
   ],
   "source": [
    "start = datamine[datamine.columns[0]]\n",
    "duration = datamine[datamine.columns[1]]\n",
    "end = start + duration\n",
    "end"
   ]
  },
  {
   "cell_type": "code",
   "execution_count": 61,
   "metadata": {},
   "outputs": [
    {
     "ename": "AttributeError",
     "evalue": "'Series' object has no attribute 'index_set'",
     "output_type": "error",
     "traceback": [
      "\u001b[1;31m---------------------------------------------------------------------------\u001b[0m",
      "\u001b[1;31mAttributeError\u001b[0m                            Traceback (most recent call last)",
      "\u001b[1;32m<ipython-input-61-c2d97cb46e14>\u001b[0m in \u001b[0;36m<module>\u001b[1;34m\u001b[0m\n\u001b[0;32m      1\u001b[0m \u001b[0msing\u001b[0m \u001b[1;33m=\u001b[0m \u001b[0mstart\u001b[0m\u001b[1;33m.\u001b[0m\u001b[0mappend\u001b[0m\u001b[1;33m(\u001b[0m\u001b[0mend\u001b[0m\u001b[1;33m)\u001b[0m\u001b[1;33m.\u001b[0m\u001b[0msort_values\u001b[0m\u001b[1;33m(\u001b[0m\u001b[1;33m)\u001b[0m\u001b[1;33m\u001b[0m\u001b[1;33m\u001b[0m\u001b[0m\n\u001b[1;32m----> 2\u001b[1;33m \u001b[0msing\u001b[0m\u001b[1;33m.\u001b[0m\u001b[0mindex_set\u001b[0m\u001b[1;33m(\u001b[0m\u001b[1;36m1\u001b[0m\u001b[1;33m)\u001b[0m\u001b[1;33m\u001b[0m\u001b[1;33m\u001b[0m\u001b[0m\n\u001b[0m",
      "\u001b[1;32m~\\anaconda3\\envs\\tweety\\lib\\site-packages\\pandas\\core\\generic.py\u001b[0m in \u001b[0;36m__getattr__\u001b[1;34m(self, name)\u001b[0m\n\u001b[0;32m   5485\u001b[0m         ):\n\u001b[0;32m   5486\u001b[0m             \u001b[1;32mreturn\u001b[0m \u001b[0mself\u001b[0m\u001b[1;33m[\u001b[0m\u001b[0mname\u001b[0m\u001b[1;33m]\u001b[0m\u001b[1;33m\u001b[0m\u001b[1;33m\u001b[0m\u001b[0m\n\u001b[1;32m-> 5487\u001b[1;33m         \u001b[1;32mreturn\u001b[0m \u001b[0mobject\u001b[0m\u001b[1;33m.\u001b[0m\u001b[0m__getattribute__\u001b[0m\u001b[1;33m(\u001b[0m\u001b[0mself\u001b[0m\u001b[1;33m,\u001b[0m \u001b[0mname\u001b[0m\u001b[1;33m)\u001b[0m\u001b[1;33m\u001b[0m\u001b[1;33m\u001b[0m\u001b[0m\n\u001b[0m\u001b[0;32m   5488\u001b[0m \u001b[1;33m\u001b[0m\u001b[0m\n\u001b[0;32m   5489\u001b[0m     \u001b[1;32mdef\u001b[0m \u001b[0m__setattr__\u001b[0m\u001b[1;33m(\u001b[0m\u001b[0mself\u001b[0m\u001b[1;33m,\u001b[0m \u001b[0mname\u001b[0m\u001b[1;33m:\u001b[0m \u001b[0mstr\u001b[0m\u001b[1;33m,\u001b[0m \u001b[0mvalue\u001b[0m\u001b[1;33m)\u001b[0m \u001b[1;33m->\u001b[0m \u001b[1;32mNone\u001b[0m\u001b[1;33m:\u001b[0m\u001b[1;33m\u001b[0m\u001b[1;33m\u001b[0m\u001b[0m\n",
      "\u001b[1;31mAttributeError\u001b[0m: 'Series' object has no attribute 'index_set'"
     ]
    }
   ],
   "source": [
    "sing = start.append(end).sort_values()\n",
    "sing.index_set(1)"
   ]
  },
  {
   "cell_type": "code",
   "execution_count": 46,
   "metadata": {},
   "outputs": [
    {
     "data": {
      "image/png": "[encoded data removed]",
      "text/plain": [
       "<Figure size 432x288 with 1 Axes>"
      ]
     },
     "metadata": {},
     "output_type": "display_data"
    }
   ],
   "source": [
    "pl.plot(start, 'o')\n",
    "pl.plot(style=['o','rx'])\n",
    "plt.show()"
   ]
  },
  {
   "cell_type": "code",
   "execution_count": 47,
   "metadata": {},
   "outputs": [
    {
     "data": {
      "image/png": "[encoded data removed]",
      "text/plain": [
       "<Figure size 432x288 with 1 Axes>"
      ]
     },
     "metadata": {},
     "output_type": "display_data"
    }
   ],
   "source": [
    "pl.plot(end, 'o')\n",
    "pl.plot(style=['o','rx'])\n",
    "plt.show()"
   ]
  },
  {
   "cell_type": "code",
   "execution_count": 48,
   "metadata": {},
   "outputs": [
    {
     "data": {
      "image/png": "[encoded data removed]",
      "text/plain": [
       "<Figure size 432x288 with 1 Axes>"
      ]
     },
     "metadata": {},
     "output_type": "display_data"
    }
   ],
   "source": [
    "pl.plot(start,end, 'o')\n",
    "pl.plot(style=['o','rx'])\n",
    "plt.show()"
   ]
  },
  {
   "cell_type": "code",
   "execution_count": 58,
   "metadata": {},
   "outputs": [
    {
     "data": {
      "image/png": "[encoded data removed]",
      "text/plain": [
       "<Figure size 432x288 with 1 Axes>"
      ]
     },
     "metadata": {},
     "output_type": "display_data"
    }
   ],
   "source": [
    "pl.plot(sing,sing.index.to_list(), 'o')\n",
    "plt.show()"
   ]
  },
  {
   "cell_type": "code",
   "execution_count": 60,
   "metadata": {},
   "outputs": [
    {
     "data": {
      "text/plain": [
       "[0, 0, 1, 1, 2, 2, 3, 3, 4, 4, 5, 6, 6, 5, 7, 7]"
      ]
     },
     "execution_count": 60,
     "metadata": {},
     "output_type": "execute_result"
    }
   ],
   "source": []
  },
  {
   "cell_type": "code",
   "execution_count": null,
   "metadata": {},
   "outputs": [],
   "source": []
  }
 ],
 "metadata": {
  "interpreter": {
   "hash": "d1b7c51cb1c07a1a0543a455994ca61e31e66a1747528d0d0492d9b5937ed4ce"
  },
  "kernelspec": {
   "display_name": "Python 3.8.12 64-bit ('tweety': conda)",
   "language": "python",
   "name": "python3"
  },
  "language_info": {
   "codemirror_mode": {
    "name": "ipython",
    "version": 3
   },
   "file_extension": ".py",
   "mimetype": "text/x-python",
   "name": "python",
   "nbconvert_exporter": "python",
   "pygments_lexer": "ipython3",
   "version": "3.8.12"
  },
  "orig_nbformat": 4
 },
 "nbformat": 4,
 "nbformat_minor": 2
}
