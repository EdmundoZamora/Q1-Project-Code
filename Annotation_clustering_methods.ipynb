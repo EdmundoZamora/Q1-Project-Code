{
 "cells": [
  {
   "cell_type": "code",
   "execution_count": 2,
   "metadata": {},
   "outputs": [],
   "source": [
    "import pandas as pd\n",
    "import numpy as np\n",
    "import matplotlib.pyplot as plt\n",
    "from scipy import stats\n",
    "import seaborn as sns"
   ]
  },
  {
   "cell_type": "code",
   "execution_count": 3,
   "metadata": {},
   "outputs": [],
   "source": [
    "frame = pd.read_csv('for_data_science_newline_fixed.csv', usecols = [\"IN FILE\",\"CLIP LENGTH\",\"OFFSET\",\"DURATION\",\"MAX FREQ\",\"MIN FREQ\",\"SAMPLE RATE\"])"
   ]
  },
  {
   "cell_type": "code",
   "execution_count": 4,
   "metadata": {},
   "outputs": [],
   "source": [
    "CLIP_LENGTHS = frame.groupby(\"IN FILE\")[[\"CLIP LENGTH\"]].max()"
   ]
  },
  {
   "cell_type": "code",
   "execution_count": 5,
   "metadata": {},
   "outputs": [],
   "source": [
    "SUM_DURATIONS = frame.groupby(\"IN FILE\")[[\"DURATION\"]].sum()"
   ]
  },
  {
   "cell_type": "code",
   "execution_count": 6,
   "metadata": {},
   "outputs": [],
   "source": [
    "MEDIAN_DURATIONS = frame.groupby(\"IN FILE\")[[\"DURATION\"]].median()\n",
    "MEDIAN_DURATIONS = MEDIAN_DURATIONS.rename(columns={'DURATION': 'MEDIAN DURATION'})"
   ]
  },
  {
   "cell_type": "code",
   "execution_count": 7,
   "metadata": {},
   "outputs": [],
   "source": [
    "NUMBER_ANN = frame.groupby(\"IN FILE\")[[\"OFFSET\"]].count()\n",
    "NUMBER_ANN = NUMBER_ANN.rename(columns = {'OFFSET':'OFFSET COUNT'})"
   ]
  },
  {
   "cell_type": "code",
   "execution_count": 8,
   "metadata": {},
   "outputs": [],
   "source": [
    "MED_DIST_BW_ANNS = frame.copy(True)\n",
    "\n",
    "MED_DIST_BW_ANNS = MED_DIST_BW_ANNS.sort_values(['IN FILE','OFFSET'])\n",
    "MED_DIST_BW_ANNS['ENDSET'] = MED_DIST_BW_ANNS['OFFSET'] + MED_DIST_BW_ANNS['DURATION']\n",
    "\n",
    "MED_DIST_BW_ANNS = MED_DIST_BW_ANNS[['IN FILE','CLIP LENGTH','OFFSET','ENDSET']]\n",
    "\n",
    "MED_DIST_BW_ANNS['PREV END'] = MED_DIST_BW_ANNS.loc[MED_DIST_BW_ANNS['IN FILE'].shift(-1) == MED_DIST_BW_ANNS['IN FILE'], 'ENDSET']\n",
    "MED_DIST_BW_ANNS['PREV END'] = MED_DIST_BW_ANNS['PREV END'].shift()\n",
    "\n",
    "MED_DIST_BW_ANNS = MED_DIST_BW_ANNS.fillna(0)\n",
    "MED_DIST_BW_ANNS['DIST BETWEEN ANN PREV'] = MED_DIST_BW_ANNS['OFFSET'] - MED_DIST_BW_ANNS['PREV END']\n",
    "\n",
    "MED_DIST_BW_ANNS['OVERLAP'] = MED_DIST_BW_ANNS['DIST BETWEEN ANN PREV'].loc[MED_DIST_BW_ANNS['DIST BETWEEN ANN PREV'] < 0]"
   ]
  },
  {
   "cell_type": "code",
   "execution_count": 9,
   "metadata": {},
   "outputs": [],
   "source": [
    "OVER_LAP = MED_DIST_BW_ANNS.groupby('IN FILE')[['OVERLAP']].count()\n",
    "OVER_LAP = OVER_LAP.rename(columns = {'OVERLAP':'OVERLAP COUNT'})"
   ]
  },
  {
   "cell_type": "code",
   "execution_count": 10,
   "metadata": {},
   "outputs": [],
   "source": [
    "DIST_BETWEEN_ANN_PREV = MED_DIST_BW_ANNS.groupby('IN FILE')[['DIST BETWEEN ANN PREV']].median()\n",
    "DIST_BETWEEN_ANN_PREV = DIST_BETWEEN_ANN_PREV.rename(columns={'DIST BETWEEN ANN PREV': 'MEDIAN DIST B/W ANNS'})"
   ]
  },
  {
   "cell_type": "code",
   "execution_count": 11,
   "metadata": {},
   "outputs": [],
   "source": [
    "WHITE_SPACE = frame.copy(True)\n",
    "DUR = WHITE_SPACE.groupby(['IN FILE'])[['DURATION']].sum()\n",
    "DUR = DUR.rename(columns = {'DURATION':'SUM DURATION'})\n",
    "LEN = WHITE_SPACE.groupby(['IN FILE'])[['CLIP LENGTH']].max()\n",
    "WHITE_SPACE = LEN.join(DUR)\n",
    "WHITE_SPACE['WHITE SPACE'] = WHITE_SPACE['CLIP LENGTH'] - WHITE_SPACE['SUM DURATION']"
   ]
  },
  {
   "cell_type": "code",
   "execution_count": 12,
   "metadata": {},
   "outputs": [
    {
     "data": {
      "text/html": [
       "<div>\n",
       "<style scoped>\n",
       "    .dataframe tbody tr th:only-of-type {\n",
       "        vertical-align: middle;\n",
       "    }\n",
       "\n",
       "    .dataframe tbody tr th {\n",
       "        vertical-align: top;\n",
       "    }\n",
       "\n",
       "    .dataframe thead th {\n",
       "        text-align: right;\n",
       "    }\n",
       "</style>\n",
       "<table border=\"1\" class=\"dataframe\">\n",
       "  <thead>\n",
       "    <tr style=\"text-align: right;\">\n",
       "      <th></th>\n",
       "      <th>IN FILE</th>\n",
       "      <th>CLIP LENGTH</th>\n",
       "      <th>SUM DURATION</th>\n",
       "      <th>WHITE SPACE</th>\n",
       "      <th>OVERLAP COUNT</th>\n",
       "      <th>MEDIAN DIST B/W ANNS</th>\n",
       "      <th>MEDIAN DURATION</th>\n",
       "      <th>OFFSET COUNT</th>\n",
       "    </tr>\n",
       "  </thead>\n",
       "  <tbody>\n",
       "    <tr>\n",
       "      <th>0</th>\n",
       "      <td>Aburria-aburri-257423.wav</td>\n",
       "      <td>24.63350</td>\n",
       "      <td>8.7813</td>\n",
       "      <td>15.85220</td>\n",
       "      <td>0</td>\n",
       "      <td>2.36140</td>\n",
       "      <td>3.32050</td>\n",
       "      <td>3</td>\n",
       "    </tr>\n",
       "    <tr>\n",
       "      <th>1</th>\n",
       "      <td>Aburria-aburri-387212.wav</td>\n",
       "      <td>84.48000</td>\n",
       "      <td>9.4200</td>\n",
       "      <td>75.06000</td>\n",
       "      <td>0</td>\n",
       "      <td>26.76000</td>\n",
       "      <td>3.14000</td>\n",
       "      <td>3</td>\n",
       "    </tr>\n",
       "    <tr>\n",
       "      <th>2</th>\n",
       "      <td>Accipiter-bicolor-451839.wav</td>\n",
       "      <td>5.66857</td>\n",
       "      <td>4.6442</td>\n",
       "      <td>1.02437</td>\n",
       "      <td>3</td>\n",
       "      <td>0.00000</td>\n",
       "      <td>0.21550</td>\n",
       "      <td>20</td>\n",
       "    </tr>\n",
       "    <tr>\n",
       "      <th>3</th>\n",
       "      <td>Accipiter-collaris-260335.wav</td>\n",
       "      <td>45.37470</td>\n",
       "      <td>7.6708</td>\n",
       "      <td>37.70390</td>\n",
       "      <td>0</td>\n",
       "      <td>5.19555</td>\n",
       "      <td>1.03010</td>\n",
       "      <td>8</td>\n",
       "    </tr>\n",
       "    <tr>\n",
       "      <th>4</th>\n",
       "      <td>Accipiter-collaris-260336.wav</td>\n",
       "      <td>26.93220</td>\n",
       "      <td>4.8604</td>\n",
       "      <td>22.07180</td>\n",
       "      <td>1</td>\n",
       "      <td>1.03060</td>\n",
       "      <td>0.57010</td>\n",
       "      <td>8</td>\n",
       "    </tr>\n",
       "    <tr>\n",
       "      <th>...</th>\n",
       "      <td>...</td>\n",
       "      <td>...</td>\n",
       "      <td>...</td>\n",
       "      <td>...</td>\n",
       "      <td>...</td>\n",
       "      <td>...</td>\n",
       "      <td>...</td>\n",
       "      <td>...</td>\n",
       "    </tr>\n",
       "    <tr>\n",
       "      <th>2438</th>\n",
       "      <td>Zimmerius-gracilipes-258668.wav</td>\n",
       "      <td>12.19920</td>\n",
       "      <td>3.2975</td>\n",
       "      <td>8.90170</td>\n",
       "      <td>0</td>\n",
       "      <td>1.48075</td>\n",
       "      <td>0.81325</td>\n",
       "      <td>4</td>\n",
       "    </tr>\n",
       "    <tr>\n",
       "      <th>2439</th>\n",
       "      <td>Zimmerius-gracilipes-258669.wav</td>\n",
       "      <td>27.55920</td>\n",
       "      <td>10.8399</td>\n",
       "      <td>16.71930</td>\n",
       "      <td>0</td>\n",
       "      <td>0.68000</td>\n",
       "      <td>0.52000</td>\n",
       "      <td>21</td>\n",
       "    </tr>\n",
       "    <tr>\n",
       "      <th>2440</th>\n",
       "      <td>Zonotrichia-capensis-232609.wav</td>\n",
       "      <td>98.85600</td>\n",
       "      <td>31.5518</td>\n",
       "      <td>67.30420</td>\n",
       "      <td>0</td>\n",
       "      <td>3.73360</td>\n",
       "      <td>1.70010</td>\n",
       "      <td>17</td>\n",
       "    </tr>\n",
       "    <tr>\n",
       "      <th>2441</th>\n",
       "      <td>Zonotrichia-capensis-377483.wav</td>\n",
       "      <td>18.25960</td>\n",
       "      <td>7.7298</td>\n",
       "      <td>10.52980</td>\n",
       "      <td>0</td>\n",
       "      <td>3.01990</td>\n",
       "      <td>2.35990</td>\n",
       "      <td>3</td>\n",
       "    </tr>\n",
       "    <tr>\n",
       "      <th>2442</th>\n",
       "      <td>Zonotrichia-capensis-47546.wav</td>\n",
       "      <td>54.93550</td>\n",
       "      <td>8.2310</td>\n",
       "      <td>46.70450</td>\n",
       "      <td>0</td>\n",
       "      <td>11.16470</td>\n",
       "      <td>2.05525</td>\n",
       "      <td>4</td>\n",
       "    </tr>\n",
       "  </tbody>\n",
       "</table>\n",
       "<p>2443 rows × 8 columns</p>\n",
       "</div>"
      ],
      "text/plain": [
       "                              IN FILE  CLIP LENGTH  SUM DURATION  WHITE SPACE  \\\n",
       "0           Aburria-aburri-257423.wav     24.63350        8.7813     15.85220   \n",
       "1           Aburria-aburri-387212.wav     84.48000        9.4200     75.06000   \n",
       "2        Accipiter-bicolor-451839.wav      5.66857        4.6442      1.02437   \n",
       "3       Accipiter-collaris-260335.wav     45.37470        7.6708     37.70390   \n",
       "4       Accipiter-collaris-260336.wav     26.93220        4.8604     22.07180   \n",
       "...                               ...          ...           ...          ...   \n",
       "2438  Zimmerius-gracilipes-258668.wav     12.19920        3.2975      8.90170   \n",
       "2439  Zimmerius-gracilipes-258669.wav     27.55920       10.8399     16.71930   \n",
       "2440  Zonotrichia-capensis-232609.wav     98.85600       31.5518     67.30420   \n",
       "2441  Zonotrichia-capensis-377483.wav     18.25960        7.7298     10.52980   \n",
       "2442   Zonotrichia-capensis-47546.wav     54.93550        8.2310     46.70450   \n",
       "\n",
       "      OVERLAP COUNT  MEDIAN DIST B/W ANNS  MEDIAN DURATION  OFFSET COUNT  \n",
       "0                 0               2.36140          3.32050             3  \n",
       "1                 0              26.76000          3.14000             3  \n",
       "2                 3               0.00000          0.21550            20  \n",
       "3                 0               5.19555          1.03010             8  \n",
       "4                 1               1.03060          0.57010             8  \n",
       "...             ...                   ...              ...           ...  \n",
       "2438              0               1.48075          0.81325             4  \n",
       "2439              0               0.68000          0.52000            21  \n",
       "2440              0               3.73360          1.70010            17  \n",
       "2441              0               3.01990          2.35990             3  \n",
       "2442              0              11.16470          2.05525             4  \n",
       "\n",
       "[2443 rows x 8 columns]"
      ]
     },
     "execution_count": 12,
     "metadata": {},
     "output_type": "execute_result"
    }
   ],
   "source": [
    "WHITE_SPACE = WHITE_SPACE.join(OVER_LAP)\n",
    "WHITE_SPACE = WHITE_SPACE.join(DIST_BETWEEN_ANN_PREV)\n",
    "WHITE_SPACE = WHITE_SPACE.join(MEDIAN_DURATIONS)\n",
    "WHITE_SPACE = WHITE_SPACE.join(NUMBER_ANN)\n",
    "WHITE_SPACE.reset_index(inplace=True)\n",
    "WHITE_SPACE"
   ]
  },
  {
   "cell_type": "code",
   "execution_count": 13,
   "metadata": {},
   "outputs": [
    {
     "data": {
      "text/html": [
       "<div>\n",
       "<style scoped>\n",
       "    .dataframe tbody tr th:only-of-type {\n",
       "        vertical-align: middle;\n",
       "    }\n",
       "\n",
       "    .dataframe tbody tr th {\n",
       "        vertical-align: top;\n",
       "    }\n",
       "\n",
       "    .dataframe thead th {\n",
       "        text-align: right;\n",
       "    }\n",
       "</style>\n",
       "<table border=\"1\" class=\"dataframe\">\n",
       "  <thead>\n",
       "    <tr style=\"text-align: right;\">\n",
       "      <th></th>\n",
       "      <th>IN FILE</th>\n",
       "      <th>CLIP LENGTH</th>\n",
       "      <th>SUM DURATION</th>\n",
       "      <th>WHITE SPACE</th>\n",
       "      <th>OVERLAP COUNT</th>\n",
       "      <th>MEDIAN DIST B/W ANNS</th>\n",
       "      <th>MEDIAN DURATION</th>\n",
       "      <th>OFFSET COUNT</th>\n",
       "      <th>Genus</th>\n",
       "    </tr>\n",
       "  </thead>\n",
       "  <tbody>\n",
       "    <tr>\n",
       "      <th>0</th>\n",
       "      <td>Aburria-aburri-257423.wav</td>\n",
       "      <td>24.63350</td>\n",
       "      <td>8.7813</td>\n",
       "      <td>15.85220</td>\n",
       "      <td>0</td>\n",
       "      <td>2.36140</td>\n",
       "      <td>3.32050</td>\n",
       "      <td>3</td>\n",
       "      <td>Aburria</td>\n",
       "    </tr>\n",
       "    <tr>\n",
       "      <th>1</th>\n",
       "      <td>Aburria-aburri-387212.wav</td>\n",
       "      <td>84.48000</td>\n",
       "      <td>9.4200</td>\n",
       "      <td>75.06000</td>\n",
       "      <td>0</td>\n",
       "      <td>26.76000</td>\n",
       "      <td>3.14000</td>\n",
       "      <td>3</td>\n",
       "      <td>Aburria</td>\n",
       "    </tr>\n",
       "    <tr>\n",
       "      <th>2</th>\n",
       "      <td>Accipiter-bicolor-451839.wav</td>\n",
       "      <td>5.66857</td>\n",
       "      <td>4.6442</td>\n",
       "      <td>1.02437</td>\n",
       "      <td>3</td>\n",
       "      <td>0.00000</td>\n",
       "      <td>0.21550</td>\n",
       "      <td>20</td>\n",
       "      <td>Accipiter</td>\n",
       "    </tr>\n",
       "    <tr>\n",
       "      <th>3</th>\n",
       "      <td>Accipiter-collaris-260335.wav</td>\n",
       "      <td>45.37470</td>\n",
       "      <td>7.6708</td>\n",
       "      <td>37.70390</td>\n",
       "      <td>0</td>\n",
       "      <td>5.19555</td>\n",
       "      <td>1.03010</td>\n",
       "      <td>8</td>\n",
       "      <td>Accipiter</td>\n",
       "    </tr>\n",
       "    <tr>\n",
       "      <th>4</th>\n",
       "      <td>Accipiter-collaris-260336.wav</td>\n",
       "      <td>26.93220</td>\n",
       "      <td>4.8604</td>\n",
       "      <td>22.07180</td>\n",
       "      <td>1</td>\n",
       "      <td>1.03060</td>\n",
       "      <td>0.57010</td>\n",
       "      <td>8</td>\n",
       "      <td>Accipiter</td>\n",
       "    </tr>\n",
       "    <tr>\n",
       "      <th>...</th>\n",
       "      <td>...</td>\n",
       "      <td>...</td>\n",
       "      <td>...</td>\n",
       "      <td>...</td>\n",
       "      <td>...</td>\n",
       "      <td>...</td>\n",
       "      <td>...</td>\n",
       "      <td>...</td>\n",
       "      <td>...</td>\n",
       "    </tr>\n",
       "    <tr>\n",
       "      <th>2438</th>\n",
       "      <td>Zimmerius-gracilipes-258668.wav</td>\n",
       "      <td>12.19920</td>\n",
       "      <td>3.2975</td>\n",
       "      <td>8.90170</td>\n",
       "      <td>0</td>\n",
       "      <td>1.48075</td>\n",
       "      <td>0.81325</td>\n",
       "      <td>4</td>\n",
       "      <td>Zimmerius</td>\n",
       "    </tr>\n",
       "    <tr>\n",
       "      <th>2439</th>\n",
       "      <td>Zimmerius-gracilipes-258669.wav</td>\n",
       "      <td>27.55920</td>\n",
       "      <td>10.8399</td>\n",
       "      <td>16.71930</td>\n",
       "      <td>0</td>\n",
       "      <td>0.68000</td>\n",
       "      <td>0.52000</td>\n",
       "      <td>21</td>\n",
       "      <td>Zimmerius</td>\n",
       "    </tr>\n",
       "    <tr>\n",
       "      <th>2440</th>\n",
       "      <td>Zonotrichia-capensis-232609.wav</td>\n",
       "      <td>98.85600</td>\n",
       "      <td>31.5518</td>\n",
       "      <td>67.30420</td>\n",
       "      <td>0</td>\n",
       "      <td>3.73360</td>\n",
       "      <td>1.70010</td>\n",
       "      <td>17</td>\n",
       "      <td>Zonotrichia</td>\n",
       "    </tr>\n",
       "    <tr>\n",
       "      <th>2441</th>\n",
       "      <td>Zonotrichia-capensis-377483.wav</td>\n",
       "      <td>18.25960</td>\n",
       "      <td>7.7298</td>\n",
       "      <td>10.52980</td>\n",
       "      <td>0</td>\n",
       "      <td>3.01990</td>\n",
       "      <td>2.35990</td>\n",
       "      <td>3</td>\n",
       "      <td>Zonotrichia</td>\n",
       "    </tr>\n",
       "    <tr>\n",
       "      <th>2442</th>\n",
       "      <td>Zonotrichia-capensis-47546.wav</td>\n",
       "      <td>54.93550</td>\n",
       "      <td>8.2310</td>\n",
       "      <td>46.70450</td>\n",
       "      <td>0</td>\n",
       "      <td>11.16470</td>\n",
       "      <td>2.05525</td>\n",
       "      <td>4</td>\n",
       "      <td>Zonotrichia</td>\n",
       "    </tr>\n",
       "  </tbody>\n",
       "</table>\n",
       "<p>2443 rows × 9 columns</p>\n",
       "</div>"
      ],
      "text/plain": [
       "                              IN FILE  CLIP LENGTH  SUM DURATION  WHITE SPACE  \\\n",
       "0           Aburria-aburri-257423.wav     24.63350        8.7813     15.85220   \n",
       "1           Aburria-aburri-387212.wav     84.48000        9.4200     75.06000   \n",
       "2        Accipiter-bicolor-451839.wav      5.66857        4.6442      1.02437   \n",
       "3       Accipiter-collaris-260335.wav     45.37470        7.6708     37.70390   \n",
       "4       Accipiter-collaris-260336.wav     26.93220        4.8604     22.07180   \n",
       "...                               ...          ...           ...          ...   \n",
       "2438  Zimmerius-gracilipes-258668.wav     12.19920        3.2975      8.90170   \n",
       "2439  Zimmerius-gracilipes-258669.wav     27.55920       10.8399     16.71930   \n",
       "2440  Zonotrichia-capensis-232609.wav     98.85600       31.5518     67.30420   \n",
       "2441  Zonotrichia-capensis-377483.wav     18.25960        7.7298     10.52980   \n",
       "2442   Zonotrichia-capensis-47546.wav     54.93550        8.2310     46.70450   \n",
       "\n",
       "      OVERLAP COUNT  MEDIAN DIST B/W ANNS  MEDIAN DURATION  OFFSET COUNT  \\\n",
       "0                 0               2.36140          3.32050             3   \n",
       "1                 0              26.76000          3.14000             3   \n",
       "2                 3               0.00000          0.21550            20   \n",
       "3                 0               5.19555          1.03010             8   \n",
       "4                 1               1.03060          0.57010             8   \n",
       "...             ...                   ...              ...           ...   \n",
       "2438              0               1.48075          0.81325             4   \n",
       "2439              0               0.68000          0.52000            21   \n",
       "2440              0               3.73360          1.70010            17   \n",
       "2441              0               3.01990          2.35990             3   \n",
       "2442              0              11.16470          2.05525             4   \n",
       "\n",
       "            Genus  \n",
       "0         Aburria  \n",
       "1         Aburria  \n",
       "2       Accipiter  \n",
       "3       Accipiter  \n",
       "4       Accipiter  \n",
       "...           ...  \n",
       "2438    Zimmerius  \n",
       "2439    Zimmerius  \n",
       "2440  Zonotrichia  \n",
       "2441  Zonotrichia  \n",
       "2442  Zonotrichia  \n",
       "\n",
       "[2443 rows x 9 columns]"
      ]
     },
     "execution_count": 13,
     "metadata": {},
     "output_type": "execute_result"
    }
   ],
   "source": [
    "def species(row):\n",
    "    species = row['IN FILE']\n",
    "    spec = species.split('-')\n",
    "    # print(spec)\n",
    "    # print(spec[:-1])\n",
    "    spec_to = '-'.join(spec[:-2])\n",
    "    return spec_to\n",
    "\n",
    "WHITE_SPACE['Genus'] = WHITE_SPACE.apply (lambda row: species(row), axis=1)\n",
    "\n",
    "# diff_genus = frame[frame['Genus']].value_counts().index_values()#.to_list()\n",
    "# print(diff_genus[:3])\n",
    "\n",
    "# WHITE_SPACE = WHITE_SPACE[(WHITE_SPACE['Genus'] ==  'Himantopus-mexicanus') | (WHITE_SPACE['Genus'] ==  'Ramphocaenus-sticturus')] # or \n",
    "len(WHITE_SPACE['Genus'].unique())\n",
    "WHITE_SPACE"
   ]
  },
  {
   "cell_type": "code",
   "execution_count": 14,
   "metadata": {},
   "outputs": [
    {
     "data": {
      "text/plain": [
       "2443"
      ]
     },
     "execution_count": 14,
     "metadata": {},
     "output_type": "execute_result"
    }
   ],
   "source": [
    "# pca_data['IN FILE']=pd.Categorical(pca_data['IN FILE'])\n",
    "# my_color=pca_data['IN FILE'].cat.codes\n",
    "\n",
    "X = WHITE_SPACE.drop(columns = ['IN FILE','Genus'])\n",
    "\n",
    "Y = np.array(WHITE_SPACE['Genus'])\n",
    "len(Y)"
   ]
  },
  {
   "cell_type": "code",
   "execution_count": 15,
   "metadata": {},
   "outputs": [
    {
     "data": {
      "text/html": [
       "<div>\n",
       "<style scoped>\n",
       "    .dataframe tbody tr th:only-of-type {\n",
       "        vertical-align: middle;\n",
       "    }\n",
       "\n",
       "    .dataframe tbody tr th {\n",
       "        vertical-align: top;\n",
       "    }\n",
       "\n",
       "    .dataframe thead th {\n",
       "        text-align: right;\n",
       "    }\n",
       "</style>\n",
       "<table border=\"1\" class=\"dataframe\">\n",
       "  <thead>\n",
       "    <tr style=\"text-align: right;\">\n",
       "      <th></th>\n",
       "      <th>CLIP LENGTH</th>\n",
       "      <th>SUM DURATION</th>\n",
       "      <th>WHITE SPACE</th>\n",
       "      <th>OVERLAP COUNT</th>\n",
       "      <th>MEDIAN DIST B/W ANNS</th>\n",
       "      <th>MEDIAN DURATION</th>\n",
       "      <th>OFFSET COUNT</th>\n",
       "    </tr>\n",
       "  </thead>\n",
       "  <tbody>\n",
       "    <tr>\n",
       "      <th>0</th>\n",
       "      <td>24.63350</td>\n",
       "      <td>8.7813</td>\n",
       "      <td>15.85220</td>\n",
       "      <td>0</td>\n",
       "      <td>2.36140</td>\n",
       "      <td>3.32050</td>\n",
       "      <td>3</td>\n",
       "    </tr>\n",
       "    <tr>\n",
       "      <th>1</th>\n",
       "      <td>84.48000</td>\n",
       "      <td>9.4200</td>\n",
       "      <td>75.06000</td>\n",
       "      <td>0</td>\n",
       "      <td>26.76000</td>\n",
       "      <td>3.14000</td>\n",
       "      <td>3</td>\n",
       "    </tr>\n",
       "    <tr>\n",
       "      <th>2</th>\n",
       "      <td>5.66857</td>\n",
       "      <td>4.6442</td>\n",
       "      <td>1.02437</td>\n",
       "      <td>3</td>\n",
       "      <td>0.00000</td>\n",
       "      <td>0.21550</td>\n",
       "      <td>20</td>\n",
       "    </tr>\n",
       "    <tr>\n",
       "      <th>3</th>\n",
       "      <td>45.37470</td>\n",
       "      <td>7.6708</td>\n",
       "      <td>37.70390</td>\n",
       "      <td>0</td>\n",
       "      <td>5.19555</td>\n",
       "      <td>1.03010</td>\n",
       "      <td>8</td>\n",
       "    </tr>\n",
       "    <tr>\n",
       "      <th>4</th>\n",
       "      <td>26.93220</td>\n",
       "      <td>4.8604</td>\n",
       "      <td>22.07180</td>\n",
       "      <td>1</td>\n",
       "      <td>1.03060</td>\n",
       "      <td>0.57010</td>\n",
       "      <td>8</td>\n",
       "    </tr>\n",
       "    <tr>\n",
       "      <th>...</th>\n",
       "      <td>...</td>\n",
       "      <td>...</td>\n",
       "      <td>...</td>\n",
       "      <td>...</td>\n",
       "      <td>...</td>\n",
       "      <td>...</td>\n",
       "      <td>...</td>\n",
       "    </tr>\n",
       "    <tr>\n",
       "      <th>2438</th>\n",
       "      <td>12.19920</td>\n",
       "      <td>3.2975</td>\n",
       "      <td>8.90170</td>\n",
       "      <td>0</td>\n",
       "      <td>1.48075</td>\n",
       "      <td>0.81325</td>\n",
       "      <td>4</td>\n",
       "    </tr>\n",
       "    <tr>\n",
       "      <th>2439</th>\n",
       "      <td>27.55920</td>\n",
       "      <td>10.8399</td>\n",
       "      <td>16.71930</td>\n",
       "      <td>0</td>\n",
       "      <td>0.68000</td>\n",
       "      <td>0.52000</td>\n",
       "      <td>21</td>\n",
       "    </tr>\n",
       "    <tr>\n",
       "      <th>2440</th>\n",
       "      <td>98.85600</td>\n",
       "      <td>31.5518</td>\n",
       "      <td>67.30420</td>\n",
       "      <td>0</td>\n",
       "      <td>3.73360</td>\n",
       "      <td>1.70010</td>\n",
       "      <td>17</td>\n",
       "    </tr>\n",
       "    <tr>\n",
       "      <th>2441</th>\n",
       "      <td>18.25960</td>\n",
       "      <td>7.7298</td>\n",
       "      <td>10.52980</td>\n",
       "      <td>0</td>\n",
       "      <td>3.01990</td>\n",
       "      <td>2.35990</td>\n",
       "      <td>3</td>\n",
       "    </tr>\n",
       "    <tr>\n",
       "      <th>2442</th>\n",
       "      <td>54.93550</td>\n",
       "      <td>8.2310</td>\n",
       "      <td>46.70450</td>\n",
       "      <td>0</td>\n",
       "      <td>11.16470</td>\n",
       "      <td>2.05525</td>\n",
       "      <td>4</td>\n",
       "    </tr>\n",
       "  </tbody>\n",
       "</table>\n",
       "<p>2443 rows × 7 columns</p>\n",
       "</div>"
      ],
      "text/plain": [
       "      CLIP LENGTH  SUM DURATION  WHITE SPACE  OVERLAP COUNT  \\\n",
       "0        24.63350        8.7813     15.85220              0   \n",
       "1        84.48000        9.4200     75.06000              0   \n",
       "2         5.66857        4.6442      1.02437              3   \n",
       "3        45.37470        7.6708     37.70390              0   \n",
       "4        26.93220        4.8604     22.07180              1   \n",
       "...           ...           ...          ...            ...   \n",
       "2438     12.19920        3.2975      8.90170              0   \n",
       "2439     27.55920       10.8399     16.71930              0   \n",
       "2440     98.85600       31.5518     67.30420              0   \n",
       "2441     18.25960        7.7298     10.52980              0   \n",
       "2442     54.93550        8.2310     46.70450              0   \n",
       "\n",
       "      MEDIAN DIST B/W ANNS  MEDIAN DURATION  OFFSET COUNT  \n",
       "0                  2.36140          3.32050             3  \n",
       "1                 26.76000          3.14000             3  \n",
       "2                  0.00000          0.21550            20  \n",
       "3                  5.19555          1.03010             8  \n",
       "4                  1.03060          0.57010             8  \n",
       "...                    ...              ...           ...  \n",
       "2438               1.48075          0.81325             4  \n",
       "2439               0.68000          0.52000            21  \n",
       "2440               3.73360          1.70010            17  \n",
       "2441               3.01990          2.35990             3  \n",
       "2442              11.16470          2.05525             4  \n",
       "\n",
       "[2443 rows x 7 columns]"
      ]
     },
     "execution_count": 15,
     "metadata": {},
     "output_type": "execute_result"
    }
   ],
   "source": [
    "X"
   ]
  },
  {
   "cell_type": "code",
   "execution_count": 16,
   "metadata": {},
   "outputs": [
    {
     "data": {
      "text/plain": [
       "2443"
      ]
     },
     "execution_count": 16,
     "metadata": {},
     "output_type": "execute_result"
    }
   ],
   "source": [
    "len(Y)"
   ]
  },
  {
   "cell_type": "code",
   "execution_count": 17,
   "metadata": {},
   "outputs": [],
   "source": [
    "from sklearn.preprocessing import StandardScaler\n",
    "scaler = StandardScaler(with_mean=False)\n",
    "scaler.fit(X)\n",
    "X_standardized = scaler.transform(X)\n",
    "X_standardized = pd.DataFrame(X_standardized, columns = X.columns)"
   ]
  },
  {
   "cell_type": "code",
   "execution_count": 18,
   "metadata": {},
   "outputs": [
    {
     "data": {
      "text/plain": [
       "array([[-0.71294525,  0.35848707,  0.56694143,  0.10122985, -0.25513868,\n",
       "         0.04189677],\n",
       "       [ 1.70831859,  3.80248116, -0.8566543 ,  2.67362394,  1.14526387,\n",
       "         0.19557623],\n",
       "       [-0.91913383, -1.24842282, -0.4541633 ,  0.30815556, -0.04157813,\n",
       "         0.17914997],\n",
       "       ...,\n",
       "       [ 2.14783924,  0.65063545, -0.03618134, -0.51815381, -0.14326161,\n",
       "        -0.32800658],\n",
       "       [-0.92197595,  0.2729909 ,  0.27041941,  0.15819108, -0.03188663,\n",
       "        -0.06375334],\n",
       "       [ 0.41904371,  1.63111639, -0.43691857,  0.8801086 ,  0.18249796,\n",
       "        -0.00600767]])"
      ]
     },
     "execution_count": 18,
     "metadata": {},
     "output_type": "execute_result"
    }
   ],
   "source": [
    "from sklearn.decomposition import PCA\n",
    "pca = PCA(n_components = 6, random_state = 0)\n",
    "pca.fit(X_standardized)\n",
    "X_dim_reducted = pca.transform(X_standardized)\n",
    "X_dim_reducted"
   ]
  },
  {
   "cell_type": "code",
   "execution_count": 19,
   "metadata": {},
   "outputs": [
    {
     "data": {
      "text/html": [
       "<div>\n",
       "<style scoped>\n",
       "    .dataframe tbody tr th:only-of-type {\n",
       "        vertical-align: middle;\n",
       "    }\n",
       "\n",
       "    .dataframe tbody tr th {\n",
       "        vertical-align: top;\n",
       "    }\n",
       "\n",
       "    .dataframe thead th {\n",
       "        text-align: right;\n",
       "    }\n",
       "</style>\n",
       "<table border=\"1\" class=\"dataframe\">\n",
       "  <thead>\n",
       "    <tr style=\"text-align: right;\">\n",
       "      <th></th>\n",
       "      <th>PCA1</th>\n",
       "      <th>PCA2</th>\n",
       "      <th>PCA3</th>\n",
       "      <th>PCA4</th>\n",
       "      <th>PCA5</th>\n",
       "      <th>PCA6</th>\n",
       "    </tr>\n",
       "  </thead>\n",
       "  <tbody>\n",
       "    <tr>\n",
       "      <th>0</th>\n",
       "      <td>-0.712945</td>\n",
       "      <td>0.358487</td>\n",
       "      <td>0.566941</td>\n",
       "      <td>0.101230</td>\n",
       "      <td>-0.255139</td>\n",
       "      <td>0.041897</td>\n",
       "    </tr>\n",
       "    <tr>\n",
       "      <th>1</th>\n",
       "      <td>1.708319</td>\n",
       "      <td>3.802481</td>\n",
       "      <td>-0.856654</td>\n",
       "      <td>2.673624</td>\n",
       "      <td>1.145264</td>\n",
       "      <td>0.195576</td>\n",
       "    </tr>\n",
       "    <tr>\n",
       "      <th>2</th>\n",
       "      <td>-0.919134</td>\n",
       "      <td>-1.248423</td>\n",
       "      <td>-0.454163</td>\n",
       "      <td>0.308156</td>\n",
       "      <td>-0.041578</td>\n",
       "      <td>0.179150</td>\n",
       "    </tr>\n",
       "    <tr>\n",
       "      <th>3</th>\n",
       "      <td>0.049454</td>\n",
       "      <td>0.677315</td>\n",
       "      <td>-0.515589</td>\n",
       "      <td>0.133121</td>\n",
       "      <td>-0.099598</td>\n",
       "      <td>-0.018630</td>\n",
       "    </tr>\n",
       "    <tr>\n",
       "      <th>4</th>\n",
       "      <td>-0.607152</td>\n",
       "      <td>-0.160026</td>\n",
       "      <td>-0.450342</td>\n",
       "      <td>-0.073785</td>\n",
       "      <td>-0.363433</td>\n",
       "      <td>-0.104832</td>\n",
       "    </tr>\n",
       "    <tr>\n",
       "      <th>...</th>\n",
       "      <td>...</td>\n",
       "      <td>...</td>\n",
       "      <td>...</td>\n",
       "      <td>...</td>\n",
       "      <td>...</td>\n",
       "      <td>...</td>\n",
       "    </tr>\n",
       "    <tr>\n",
       "      <th>2438</th>\n",
       "      <td>-1.201450</td>\n",
       "      <td>-0.038395</td>\n",
       "      <td>-0.258561</td>\n",
       "      <td>-0.082562</td>\n",
       "      <td>-0.101911</td>\n",
       "      <td>-0.114834</td>\n",
       "    </tr>\n",
       "    <tr>\n",
       "      <th>2439</th>\n",
       "      <td>-0.278987</td>\n",
       "      <td>-0.553867</td>\n",
       "      <td>-0.353281</td>\n",
       "      <td>-0.364901</td>\n",
       "      <td>0.195263</td>\n",
       "      <td>0.295597</td>\n",
       "    </tr>\n",
       "    <tr>\n",
       "      <th>2440</th>\n",
       "      <td>2.147839</td>\n",
       "      <td>0.650635</td>\n",
       "      <td>-0.036181</td>\n",
       "      <td>-0.518154</td>\n",
       "      <td>-0.143262</td>\n",
       "      <td>-0.328007</td>\n",
       "    </tr>\n",
       "    <tr>\n",
       "      <th>2441</th>\n",
       "      <td>-0.921976</td>\n",
       "      <td>0.272991</td>\n",
       "      <td>0.270419</td>\n",
       "      <td>0.158191</td>\n",
       "      <td>-0.031887</td>\n",
       "      <td>-0.063753</td>\n",
       "    </tr>\n",
       "    <tr>\n",
       "      <th>2442</th>\n",
       "      <td>0.419044</td>\n",
       "      <td>1.631116</td>\n",
       "      <td>-0.436919</td>\n",
       "      <td>0.880109</td>\n",
       "      <td>0.182498</td>\n",
       "      <td>-0.006008</td>\n",
       "    </tr>\n",
       "  </tbody>\n",
       "</table>\n",
       "<p>2443 rows × 6 columns</p>\n",
       "</div>"
      ],
      "text/plain": [
       "          PCA1      PCA2      PCA3      PCA4      PCA5      PCA6\n",
       "0    -0.712945  0.358487  0.566941  0.101230 -0.255139  0.041897\n",
       "1     1.708319  3.802481 -0.856654  2.673624  1.145264  0.195576\n",
       "2    -0.919134 -1.248423 -0.454163  0.308156 -0.041578  0.179150\n",
       "3     0.049454  0.677315 -0.515589  0.133121 -0.099598 -0.018630\n",
       "4    -0.607152 -0.160026 -0.450342 -0.073785 -0.363433 -0.104832\n",
       "...        ...       ...       ...       ...       ...       ...\n",
       "2438 -1.201450 -0.038395 -0.258561 -0.082562 -0.101911 -0.114834\n",
       "2439 -0.278987 -0.553867 -0.353281 -0.364901  0.195263  0.295597\n",
       "2440  2.147839  0.650635 -0.036181 -0.518154 -0.143262 -0.328007\n",
       "2441 -0.921976  0.272991  0.270419  0.158191 -0.031887 -0.063753\n",
       "2442  0.419044  1.631116 -0.436919  0.880109  0.182498 -0.006008\n",
       "\n",
       "[2443 rows x 6 columns]"
      ]
     },
     "execution_count": 19,
     "metadata": {},
     "output_type": "execute_result"
    }
   ],
   "source": [
    "boba = pd.DataFrame(X_dim_reducted, columns = ['PCA1','PCA2','PCA3','PCA4','PCA5','PCA6'])\n",
    "boba"
   ]
  },
  {
   "cell_type": "code",
   "execution_count": 20,
   "metadata": {},
   "outputs": [
    {
     "data": {
      "image/png": "[encoded data removed]",
      "text/plain": [
       "<Figure size 432x288 with 1 Axes>"
      ]
     },
     "metadata": {
      "needs_background": "light"
     },
     "output_type": "display_data"
    }
   ],
   "source": [
    "%matplotlib inline\n",
    "import matplotlib.pyplot as plt\n",
    "import seaborn as sns\n",
    "\n",
    "sns.scatterplot(x = 'PCA1', y='PCA2',hue = Y, palette=sns.color_palette(\"hls\", 515), data = boba, legend = False)\n",
    "plt.show()"
   ]
  },
  {
   "cell_type": "code",
   "execution_count": 21,
   "metadata": {},
   "outputs": [],
   "source": [
    "from sklearn.manifold import TSNE"
   ]
  },
  {
   "cell_type": "code",
   "execution_count": 22,
   "metadata": {},
   "outputs": [
    {
     "name": "stderr",
     "output_type": "stream",
     "text": [
      "C:\\Users\\lianl\\anaconda3\\envs\\tweety\\lib\\site-packages\\sklearn\\manifold\\_t_sne.py:780: FutureWarning: The default initialization in TSNE will change from 'random' to 'pca' in 1.2.\n",
      "  warnings.warn(\n",
      "C:\\Users\\lianl\\anaconda3\\envs\\tweety\\lib\\site-packages\\sklearn\\manifold\\_t_sne.py:790: FutureWarning: The default learning rate in TSNE will change from 200.0 to 'auto' in 1.2.\n",
      "  warnings.warn(\n"
     ]
    },
    {
     "name": "stdout",
     "output_type": "stream",
     "text": [
      "[t-SNE] Computing 121 nearest neighbors...\n",
      "[t-SNE] Indexed 2443 samples in 0.005s...\n",
      "[t-SNE] Computed neighbors for 2443 samples in 0.245s...\n",
      "[t-SNE] Computed conditional probabilities for sample 1000 / 2443\n",
      "[t-SNE] Computed conditional probabilities for sample 2000 / 2443\n",
      "[t-SNE] Computed conditional probabilities for sample 2443 / 2443\n",
      "[t-SNE] Mean sigma: 0.198836\n",
      "[t-SNE] KL divergence after 250 iterations with early exaggeration: 68.441032\n",
      "[t-SNE] KL divergence after 300 iterations: 0.908177\n"
     ]
    }
   ],
   "source": [
    "tsne = TSNE(n_components=3, verbose=1, perplexity=40, n_iter=300)\n",
    "tsne_results = tsne.fit_transform(X_standardized) "
   ]
  },
  {
   "cell_type": "code",
   "execution_count": 23,
   "metadata": {},
   "outputs": [
    {
     "data": {
      "text/html": [
       "<div>\n",
       "<style scoped>\n",
       "    .dataframe tbody tr th:only-of-type {\n",
       "        vertical-align: middle;\n",
       "    }\n",
       "\n",
       "    .dataframe tbody tr th {\n",
       "        vertical-align: top;\n",
       "    }\n",
       "\n",
       "    .dataframe thead th {\n",
       "        text-align: right;\n",
       "    }\n",
       "</style>\n",
       "<table border=\"1\" class=\"dataframe\">\n",
       "  <thead>\n",
       "    <tr style=\"text-align: right;\">\n",
       "      <th></th>\n",
       "      <th>TSNE1</th>\n",
       "      <th>TSNE2</th>\n",
       "      <th>TSNE3</th>\n",
       "    </tr>\n",
       "  </thead>\n",
       "  <tbody>\n",
       "    <tr>\n",
       "      <th>0</th>\n",
       "      <td>-3.699374</td>\n",
       "      <td>2.402111</td>\n",
       "      <td>-2.102303</td>\n",
       "    </tr>\n",
       "    <tr>\n",
       "      <th>1</th>\n",
       "      <td>-1.030149</td>\n",
       "      <td>8.711246</td>\n",
       "      <td>3.716187</td>\n",
       "    </tr>\n",
       "    <tr>\n",
       "      <th>2</th>\n",
       "      <td>3.373241</td>\n",
       "      <td>-4.714645</td>\n",
       "      <td>-5.239885</td>\n",
       "    </tr>\n",
       "    <tr>\n",
       "      <th>3</th>\n",
       "      <td>-0.829720</td>\n",
       "      <td>1.638806</td>\n",
       "      <td>5.147428</td>\n",
       "    </tr>\n",
       "    <tr>\n",
       "      <th>4</th>\n",
       "      <td>0.299129</td>\n",
       "      <td>-4.760780</td>\n",
       "      <td>3.298485</td>\n",
       "    </tr>\n",
       "    <tr>\n",
       "      <th>...</th>\n",
       "      <td>...</td>\n",
       "      <td>...</td>\n",
       "      <td>...</td>\n",
       "    </tr>\n",
       "    <tr>\n",
       "      <th>2438</th>\n",
       "      <td>-4.000903</td>\n",
       "      <td>-5.388359</td>\n",
       "      <td>-0.313045</td>\n",
       "    </tr>\n",
       "    <tr>\n",
       "      <th>2439</th>\n",
       "      <td>4.926737</td>\n",
       "      <td>-2.585036</td>\n",
       "      <td>0.411771</td>\n",
       "    </tr>\n",
       "    <tr>\n",
       "      <th>2440</th>\n",
       "      <td>3.569412</td>\n",
       "      <td>5.904851</td>\n",
       "      <td>1.642508</td>\n",
       "    </tr>\n",
       "    <tr>\n",
       "      <th>2441</th>\n",
       "      <td>-4.710129</td>\n",
       "      <td>0.480875</td>\n",
       "      <td>-0.960584</td>\n",
       "    </tr>\n",
       "    <tr>\n",
       "      <th>2442</th>\n",
       "      <td>-2.110553</td>\n",
       "      <td>5.988949</td>\n",
       "      <td>4.621834</td>\n",
       "    </tr>\n",
       "  </tbody>\n",
       "</table>\n",
       "<p>2443 rows × 3 columns</p>\n",
       "</div>"
      ],
      "text/plain": [
       "         TSNE1     TSNE2     TSNE3\n",
       "0    -3.699374  2.402111 -2.102303\n",
       "1    -1.030149  8.711246  3.716187\n",
       "2     3.373241 -4.714645 -5.239885\n",
       "3    -0.829720  1.638806  5.147428\n",
       "4     0.299129 -4.760780  3.298485\n",
       "...        ...       ...       ...\n",
       "2438 -4.000903 -5.388359 -0.313045\n",
       "2439  4.926737 -2.585036  0.411771\n",
       "2440  3.569412  5.904851  1.642508\n",
       "2441 -4.710129  0.480875 -0.960584\n",
       "2442 -2.110553  5.988949  4.621834\n",
       "\n",
       "[2443 rows x 3 columns]"
      ]
     },
     "execution_count": 23,
     "metadata": {},
     "output_type": "execute_result"
    }
   ],
   "source": [
    "tsneed = pd.DataFrame(tsne_results, columns = ['TSNE1','TSNE2','TSNE3']) # ,'TSNE4','TSNE5','TSNE6'\n",
    "tsneed"
   ]
  },
  {
   "cell_type": "code",
   "execution_count": 24,
   "metadata": {},
   "outputs": [
    {
     "data": {
      "text/plain": [
       "array(['Aburria', 'Aburria', 'Accipiter', ..., 'Zonotrichia',\n",
       "       'Zonotrichia', 'Zonotrichia'], dtype=object)"
      ]
     },
     "execution_count": 24,
     "metadata": {},
     "output_type": "execute_result"
    }
   ],
   "source": [
    "Y"
   ]
  },
  {
   "cell_type": "code",
   "execution_count": 25,
   "metadata": {},
   "outputs": [
    {
     "data": {
      "application/vnd.plotly.v1+json": {
       "config": {
        "plotlyServerURL": "https://plot.ly"
       },
       "data": [
        {
         "hovertemplate": "color=Aburria<br>TSNE1=%{x}<br>TSNE2=%{y}<extra></extra>",
         "legendgroup": "Aburria",
         "marker": {
          "color": "#3366CC",
          "symbol": "circle"
         },
         "mode": "markers",
         "name": "Aburria",
         "showlegend": true,
         "type": "scattergl",
         "x": [
          -3.6993744373321533,
          -1.0301486253738403
         ],
         "xaxis": "x",
         "y": [
          2.4021108150482178,
          8.711246490478516
         ],
         "yaxis": "y"
        },
        {
         "hovertemplate": "color=Accipiter<br>TSNE1=%{x}<br>TSNE2=%{y}<extra></extra>",
         "legendgroup": "Accipiter",
         "marker": {
          "color": "#DC3912",
          "symbol": "circle"
         },
         "mode": "markers",
         "name": "Accipiter",
         "showlegend": true,
         "type": "scattergl",
         "x": [
          3.3732407093048096,
          -0.8297201991081238,
          0.2991293966770172,
          1.0901741981506348,
          0.7367643117904663,
          0.1829182207584381,
          -5.31256103515625,
          2.7428019046783447,
          2.7055907249450684
         ],
         "xaxis": "x",
         "y": [
          -4.714644908905029,
          1.638805627822876,
          -4.760779857635498,
          8.200455665588379,
          -5.1026930809021,
          -8.027262687683105,
          -8.2952880859375,
          4.199470520019531,
          4.218369007110596
         ],
         "yaxis": "y"
        },
        {
         "hovertemplate": "color=Actitis<br>TSNE1=%{x}<br>TSNE2=%{y}<extra></extra>",
         "legendgroup": "Actitis",
         "marker": {
          "color": "#FF9900",
          "symbol": "circle"
         },
         "mode": "markers",
         "name": "Actitis",
         "showlegend": true,
         "type": "scattergl",
         "x": [
          -2.3466172218322754,
          7.322153568267822,
          4.027085781097412,
          -2.589916944503784
         ],
         "xaxis": "x",
         "y": [
          -4.072359085083008,
          0.5408355593681335,
          -5.458262920379639,
          -8.77350902557373
         ],
         "yaxis": "y"
        },
        {
         "hovertemplate": "color=Adelomyia<br>TSNE1=%{x}<br>TSNE2=%{y}<extra></extra>",
         "legendgroup": "Adelomyia",
         "marker": {
          "color": "#109618",
          "symbol": "circle"
         },
         "mode": "markers",
         "name": "Adelomyia",
         "showlegend": true,
         "type": "scattergl",
         "x": [
          1.2757787704467773,
          8.957249641418457,
          3.4042601585388184
         ],
         "xaxis": "x",
         "y": [
          -3.5182065963745117,
          2.0588414669036865,
          -4.315682888031006
         ],
         "yaxis": "y"
        },
        {
         "hovertemplate": "color=Aeronautes<br>TSNE1=%{x}<br>TSNE2=%{y}<extra></extra>",
         "legendgroup": "Aeronautes",
         "marker": {
          "color": "#990099",
          "symbol": "circle"
         },
         "mode": "markers",
         "name": "Aeronautes",
         "showlegend": true,
         "type": "scattergl",
         "x": [
          -0.06553297489881516,
          1.0379329919815063,
          0.9020945429801941,
          1.747530221939087,
          -1.2825082540512085,
          -1.2008912563323975
         ],
         "xaxis": "x",
         "y": [
          -2.7317025661468506,
          3.035273790359497,
          2.2130112648010254,
          -4.472902297973633,
          -1.0485258102416992,
          1.2078319787979126
         ],
         "yaxis": "y"
        },
        {
         "hovertemplate": "color=Agamia<br>TSNE1=%{x}<br>TSNE2=%{y}<extra></extra>",
         "legendgroup": "Agamia",
         "marker": {
          "color": "#0099C6",
          "symbol": "circle"
         },
         "mode": "markers",
         "name": "Agamia",
         "showlegend": true,
         "type": "scattergl",
         "x": [
          1.4257290363311768,
          6.141516208648682,
          -1.2428357601165771
         ],
         "xaxis": "x",
         "y": [
          -3.3596041202545166,
          -4.603109359741211,
          -4.843652248382568
         ],
         "yaxis": "y"
        },
        {
         "hovertemplate": "color=Agelasticus<br>TSNE1=%{x}<br>TSNE2=%{y}<extra></extra>",
         "legendgroup": "Agelasticus",
         "marker": {
          "color": "#DD4477",
          "symbol": "circle"
         },
         "mode": "markers",
         "name": "Agelasticus",
         "showlegend": true,
         "type": "scattergl",
         "x": [
          1.3121353387832642,
          3.2443511486053467,
          -5.686215400695801
         ],
         "xaxis": "x",
         "y": [
          -8.472731590270996,
          -2.7966325283050537,
          -3.9340105056762695
         ],
         "yaxis": "y"
        },
        {
         "hovertemplate": "color=Aglaeactis<br>TSNE1=%{x}<br>TSNE2=%{y}<extra></extra>",
         "legendgroup": "Aglaeactis",
         "marker": {
          "color": "#66AA00",
          "symbol": "circle"
         },
         "mode": "markers",
         "name": "Aglaeactis",
         "showlegend": true,
         "type": "scattergl",
         "x": [
          -1.9557597637176514
         ],
         "xaxis": "x",
         "y": [
          -7.714470386505127
         ],
         "yaxis": "y"
        },
        {
         "hovertemplate": "color=Aglaiocercus<br>TSNE1=%{x}<br>TSNE2=%{y}<extra></extra>",
         "legendgroup": "Aglaiocercus",
         "marker": {
          "color": "#B82E2E",
          "symbol": "circle"
         },
         "mode": "markers",
         "name": "Aglaiocercus",
         "showlegend": true,
         "type": "scattergl",
         "x": [
          6.452279567718506,
          1.5796998739242554,
          -6.533599376678467
         ],
         "xaxis": "x",
         "y": [
          -3.6989688873291016,
          -7.039229393005371,
          -7.349825382232666
         ],
         "yaxis": "y"
        },
        {
         "hovertemplate": "color=Akletos<br>TSNE1=%{x}<br>TSNE2=%{y}<extra></extra>",
         "legendgroup": "Akletos",
         "marker": {
          "color": "#316395",
          "symbol": "circle"
         },
         "mode": "markers",
         "name": "Akletos",
         "showlegend": true,
         "type": "scattergl",
         "x": [
          -2.028362274169922,
          -1.5374524593353271,
          -3.080230712890625,
          8.922746658325195,
          0.39659568667411804
         ],
         "xaxis": "x",
         "y": [
          4.319177150726318,
          2.434842824935913,
          -6.934170722961426,
          2.391993999481201,
          6.738149642944336
         ],
         "yaxis": "y"
        },
        {
         "hovertemplate": "color=Alopochelidon<br>TSNE1=%{x}<br>TSNE2=%{y}<extra></extra>",
         "legendgroup": "Alopochelidon",
         "marker": {
          "color": "#3366CC",
          "symbol": "circle"
         },
         "mode": "markers",
         "name": "Alopochelidon",
         "showlegend": true,
         "type": "scattergl",
         "x": [
          3.2129299640655518
         ],
         "xaxis": "x",
         "y": [
          -4.524624824523926
         ],
         "yaxis": "y"
        },
        {
         "hovertemplate": "color=Amaurolimnas<br>TSNE1=%{x}<br>TSNE2=%{y}<extra></extra>",
         "legendgroup": "Amaurolimnas",
         "marker": {
          "color": "#DC3912",
          "symbol": "circle"
         },
         "mode": "markers",
         "name": "Amaurolimnas",
         "showlegend": true,
         "type": "scattergl",
         "x": [
          6.875548362731934,
          5.490794658660889,
          6.772768020629883
         ],
         "xaxis": "x",
         "y": [
          0.14932981133460999,
          -1.279524803161621,
          -0.07464336603879929
         ],
         "yaxis": "y"
        },
        {
         "hovertemplate": "color=Amazilia<br>TSNE1=%{x}<br>TSNE2=%{y}<extra></extra>",
         "legendgroup": "Amazilia",
         "marker": {
          "color": "#FF9900",
          "symbol": "circle"
         },
         "mode": "markers",
         "name": "Amazilia",
         "showlegend": true,
         "type": "scattergl",
         "x": [
          -1.939261794090271,
          3.904006242752075,
          8.562834739685059
         ],
         "xaxis": "x",
         "y": [
          -8.849787712097168,
          3.80633544921875,
          0.5046302676200867
         ],
         "yaxis": "y"
        },
        {
         "hovertemplate": "color=Amazona<br>TSNE1=%{x}<br>TSNE2=%{y}<extra></extra>",
         "legendgroup": "Amazona",
         "marker": {
          "color": "#109618",
          "symbol": "circle"
         },
         "mode": "markers",
         "name": "Amazona",
         "showlegend": true,
         "type": "scattergl",
         "x": [
          6.5315446853637695,
          -0.00569746783003211,
          3.0719897747039795,
          -1.2528038024902344,
          -1.3141682147979736,
          -3.1935460567474365,
          2.981104612350464,
          1.7984799146652222,
          6.076798915863037,
          7.098834991455078,
          -1.5439538955688477,
          3.219728946685791,
          3.5060081481933594,
          5.749161243438721
         ],
         "xaxis": "x",
         "y": [
          -1.1900396347045898,
          -2.183624029159546,
          -4.256577014923096,
          3.700289011001587,
          -3.702993154525757,
          -8.270162582397461,
          -3.5211806297302246,
          -0.1822797656059265,
          -0.2608332931995392,
          0.8272918462753296,
          -4.9838128089904785,
          -4.3516154289245605,
          -4.094031810760498,
          -1.1744810342788696
         ],
         "yaxis": "y"
        },
        {
         "hovertemplate": "color=Amazonetta<br>TSNE1=%{x}<br>TSNE2=%{y}<extra></extra>",
         "legendgroup": "Amazonetta",
         "marker": {
          "color": "#990099",
          "symbol": "circle"
         },
         "mode": "markers",
         "name": "Amazonetta",
         "showlegend": true,
         "type": "scattergl",
         "x": [
          -4.749998092651367,
          0.04366122558712959,
          2.3949756622314453
         ],
         "xaxis": "x",
         "y": [
          -7.7692999839782715,
          -6.225451946258545,
          -7.864096164703369
         ],
         "yaxis": "y"
        },
        {
         "hovertemplate": "color=Amblycercus<br>TSNE1=%{x}<br>TSNE2=%{y}<extra></extra>",
         "legendgroup": "Amblycercus",
         "marker": {
          "color": "#0099C6",
          "symbol": "circle"
         },
         "mode": "markers",
         "name": "Amblycercus",
         "showlegend": true,
         "type": "scattergl",
         "x": [
          2.998262882232666,
          0.5521829128265381,
          2.339884042739868
         ],
         "xaxis": "x",
         "y": [
          6.874405384063721,
          -5.638284206390381,
          -4.390799522399902
         ],
         "yaxis": "y"
        },
        {
         "hovertemplate": "color=Ammodramus<br>TSNE1=%{x}<br>TSNE2=%{y}<extra></extra>",
         "legendgroup": "Ammodramus",
         "marker": {
          "color": "#DD4477",
          "symbol": "circle"
         },
         "mode": "markers",
         "name": "Ammodramus",
         "showlegend": true,
         "type": "scattergl",
         "x": [
          8.751989364624023,
          2.458749532699585,
          -3.847156286239624,
          5.592861652374268,
          0.7701882719993591
         ],
         "xaxis": "x",
         "y": [
          0.43511471152305603,
          -1.2049158811569214,
          -7.712803363800049,
          -2.367849826812744,
          -5.198142051696777
         ],
         "yaxis": "y"
        },
        {
         "hovertemplate": "color=Ampelioides<br>TSNE1=%{x}<br>TSNE2=%{y}<extra></extra>",
         "legendgroup": "Ampelioides",
         "marker": {
          "color": "#66AA00",
          "symbol": "circle"
         },
         "mode": "markers",
         "name": "Ampelioides",
         "showlegend": true,
         "type": "scattergl",
         "x": [
          -4.993322372436523,
          -1.2714101076126099
         ],
         "xaxis": "x",
         "y": [
          3.813645362854004,
          4.617073059082031
         ],
         "yaxis": "y"
        },
        {
         "hovertemplate": "color=Ampelion<br>TSNE1=%{x}<br>TSNE2=%{y}<extra></extra>",
         "legendgroup": "Ampelion",
         "marker": {
          "color": "#B82E2E",
          "symbol": "circle"
         },
         "mode": "markers",
         "name": "Ampelion",
         "showlegend": true,
         "type": "scattergl",
         "x": [
          -3.761446952819824,
          -6.934108734130859
         ],
         "xaxis": "x",
         "y": [
          -8.761106491088867,
          -4.543529033660889
         ],
         "yaxis": "y"
        },
        {
         "hovertemplate": "color=Anabacerthia<br>TSNE1=%{x}<br>TSNE2=%{y}<extra></extra>",
         "legendgroup": "Anabacerthia",
         "marker": {
          "color": "#316395",
          "symbol": "circle"
         },
         "mode": "markers",
         "name": "Anabacerthia",
         "showlegend": true,
         "type": "scattergl",
         "x": [
          2.9648892879486084,
          -5.526651382446289,
          7.005018711090088,
          -5.360365867614746,
          2.5080926418304443,
          5.423417568206787,
          0.7891801595687866,
          7.528249740600586,
          2.8878579139709473,
          -3.8351070880889893
         ],
         "xaxis": "x",
         "y": [
          -7.803158283233643,
          1.207864761352539,
          -1.096463918685913,
          1.982709527015686,
          -4.974214553833008,
          -2.8133544921875,
          -7.508345127105713,
          1.5642889738082886,
          -4.574639797210693,
          -6.743525981903076
         ],
         "yaxis": "y"
        },
        {
         "hovertemplate": "color=Anairetes<br>TSNE1=%{x}<br>TSNE2=%{y}<extra></extra>",
         "legendgroup": "Anairetes",
         "marker": {
          "color": "#3366CC",
          "symbol": "circle"
         },
         "mode": "markers",
         "name": "Anairetes",
         "showlegend": true,
         "type": "scattergl",
         "x": [
          -5.100289821624756,
          -1.562591314315796,
          2.4165117740631104,
          -1.9654016494750977
         ],
         "xaxis": "x",
         "y": [
          -8.019461631774902,
          4.652002811431885,
          -5.000489711761475,
          -5.657787322998047
         ],
         "yaxis": "y"
        },
        {
         "hovertemplate": "color=Anas<br>TSNE1=%{x}<br>TSNE2=%{y}<extra></extra>",
         "legendgroup": "Anas",
         "marker": {
          "color": "#DC3912",
          "symbol": "circle"
         },
         "mode": "markers",
         "name": "Anas",
         "showlegend": true,
         "type": "scattergl",
         "x": [
          1.151615858078003,
          -2.7188823223114014
         ],
         "xaxis": "x",
         "y": [
          -2.0335216522216797,
          -8.9000825881958
         ],
         "yaxis": "y"
        },
        {
         "hovertemplate": "color=Andigena<br>TSNE1=%{x}<br>TSNE2=%{y}<extra></extra>",
         "legendgroup": "Andigena",
         "marker": {
          "color": "#FF9900",
          "symbol": "circle"
         },
         "mode": "markers",
         "name": "Andigena",
         "showlegend": true,
         "type": "scattergl",
         "x": [
          8.832832336425781,
          -5.675045490264893,
          6.9514570236206055
         ],
         "xaxis": "x",
         "y": [
          1.189873456954956,
          -2.860788345336914,
          3.5143373012542725
         ],
         "yaxis": "y"
        },
        {
         "hovertemplate": "color=Anhima<br>TSNE1=%{x}<br>TSNE2=%{y}<extra></extra>",
         "legendgroup": "Anhima",
         "marker": {
          "color": "#109618",
          "symbol": "circle"
         },
         "mode": "markers",
         "name": "Anhima",
         "showlegend": true,
         "type": "scattergl",
         "x": [
          3.2904138565063477,
          6.031121730804443,
          1.6279278993606567
         ],
         "xaxis": "x",
         "y": [
          0.4792870581150055,
          -0.12332527339458466,
          -4.788773059844971
         ],
         "yaxis": "y"
        },
        {
         "hovertemplate": "color=Anhinga<br>TSNE1=%{x}<br>TSNE2=%{y}<extra></extra>",
         "legendgroup": "Anhinga",
         "marker": {
          "color": "#990099",
          "symbol": "circle"
         },
         "mode": "markers",
         "name": "Anhinga",
         "showlegend": true,
         "type": "scattergl",
         "x": [
          1.0583099126815796,
          -0.5620946288108826,
          -6.585453033447266,
          -2.0088136196136475,
          -2.8439862728118896
         ],
         "xaxis": "x",
         "y": [
          -5.385472297668457,
          0.5713534355163574,
          -1.810446858406067,
          -4.984166622161865,
          -3.353466033935547
         ],
         "yaxis": "y"
        },
        {
         "hovertemplate": "color=Anthracothorax<br>TSNE1=%{x}<br>TSNE2=%{y}<extra></extra>",
         "legendgroup": "Anthracothorax",
         "marker": {
          "color": "#0099C6",
          "symbol": "circle"
         },
         "mode": "markers",
         "name": "Anthracothorax",
         "showlegend": true,
         "type": "scattergl",
         "x": [
          6.392430305480957,
          -3.3051836490631104
         ],
         "xaxis": "x",
         "y": [
          -3.4022462368011475,
          -8.12061882019043
         ],
         "yaxis": "y"
        },
        {
         "hovertemplate": "color=Anthus<br>TSNE1=%{x}<br>TSNE2=%{y}<extra></extra>",
         "legendgroup": "Anthus",
         "marker": {
          "color": "#DD4477",
          "symbol": "circle"
         },
         "mode": "markers",
         "name": "Anthus",
         "showlegend": true,
         "type": "scattergl",
         "x": [
          0.2701197564601898,
          3.5478904247283936
         ],
         "xaxis": "x",
         "y": [
          -4.814853668212891,
          -3.9927098751068115
         ],
         "yaxis": "y"
        },
        {
         "hovertemplate": "color=Antrostomus<br>TSNE1=%{x}<br>TSNE2=%{y}<extra></extra>",
         "legendgroup": "Antrostomus",
         "marker": {
          "color": "#66AA00",
          "symbol": "circle"
         },
         "mode": "markers",
         "name": "Antrostomus",
         "showlegend": true,
         "type": "scattergl",
         "x": [
          4.121368408203125,
          3.0423998832702637
         ],
         "xaxis": "x",
         "y": [
          3.8532166481018066,
          2.5574190616607666
         ],
         "yaxis": "y"
        },
        {
         "hovertemplate": "color=Ara<br>TSNE1=%{x}<br>TSNE2=%{y}<extra></extra>",
         "legendgroup": "Ara",
         "marker": {
          "color": "#B82E2E",
          "symbol": "circle"
         },
         "mode": "markers",
         "name": "Ara",
         "showlegend": true,
         "type": "scattergl",
         "x": [
          -2.877980947494507,
          2.403930425643921,
          3.2479405403137207,
          1.1018378734588623,
          -3.6721229553222656,
          3.2214581966400146,
          2.4516923427581787,
          3.762308359146118,
          2.5366363525390625,
          5.907863616943359,
          -0.6620526909828186,
          2.4790728092193604,
          1.6990684270858765,
          2.230409622192383,
          -2.4056406021118164
         ],
         "xaxis": "x",
         "y": [
          -5.340194225311279,
          -3.9307684898376465,
          -1.1156671047210693,
          8.245532035827637,
          -5.245390892028809,
          1.8717979192733765,
          3.8952369689941406,
          -0.8658732175827026,
          0.5483996272087097,
          -0.25913766026496887,
          -3.0454108715057373,
          0.3336302638053894,
          3.440281867980957,
          3.634253740310669,
          1.902004361152649
         ],
         "yaxis": "y"
        },
        {
         "hovertemplate": "color=Aramides<br>TSNE1=%{x}<br>TSNE2=%{y}<extra></extra>",
         "legendgroup": "Aramides",
         "marker": {
          "color": "#316395",
          "symbol": "circle"
         },
         "mode": "markers",
         "name": "Aramides",
         "showlegend": true,
         "type": "scattergl",
         "x": [
          3.4538345336914062,
          -3.430650472640991,
          -1.750154972076416
         ],
         "xaxis": "x",
         "y": [
          5.433600425720215,
          7.331791877746582,
          -1.4071252346038818
         ],
         "yaxis": "y"
        },
        {
         "hovertemplate": "color=Aramus<br>TSNE1=%{x}<br>TSNE2=%{y}<extra></extra>",
         "legendgroup": "Aramus",
         "marker": {
          "color": "#3366CC",
          "symbol": "circle"
         },
         "mode": "markers",
         "name": "Aramus",
         "showlegend": true,
         "type": "scattergl",
         "x": [
          6.541975975036621
         ],
         "xaxis": "x",
         "y": [
          3.7206664085388184
         ],
         "yaxis": "y"
        },
        {
         "hovertemplate": "color=Aratinga<br>TSNE1=%{x}<br>TSNE2=%{y}<extra></extra>",
         "legendgroup": "Aratinga",
         "marker": {
          "color": "#DC3912",
          "symbol": "circle"
         },
         "mode": "markers",
         "name": "Aratinga",
         "showlegend": true,
         "type": "scattergl",
         "x": [
          6.356450080871582
         ],
         "xaxis": "x",
         "y": [
          0.9726629853248596
         ],
         "yaxis": "y"
        },
        {
         "hovertemplate": "color=Ardea<br>TSNE1=%{x}<br>TSNE2=%{y}<extra></extra>",
         "legendgroup": "Ardea",
         "marker": {
          "color": "#FF9900",
          "symbol": "circle"
         },
         "mode": "markers",
         "name": "Ardea",
         "showlegend": true,
         "type": "scattergl",
         "x": [
          -0.7838618755340576,
          2.8581864833831787,
          -1.3137842416763306,
          -3.2279043197631836,
          -5.864943981170654,
          2.0052499771118164
         ],
         "xaxis": "x",
         "y": [
          -8.01417350769043,
          -4.626143455505371,
          -4.8363165855407715,
          -7.314883708953857,
          -5.458030700683594,
          -7.121521472930908
         ],
         "yaxis": "y"
        },
        {
         "hovertemplate": "color=Arenaria<br>TSNE1=%{x}<br>TSNE2=%{y}<extra></extra>",
         "legendgroup": "Arenaria",
         "marker": {
          "color": "#109618",
          "symbol": "circle"
         },
         "mode": "markers",
         "name": "Arenaria",
         "showlegend": true,
         "type": "scattergl",
         "x": [
          1.5820297002792358,
          -3.2683613300323486
         ],
         "xaxis": "x",
         "y": [
          -7.24965763092041,
          2.1240527629852295
         ],
         "yaxis": "y"
        },
        {
         "hovertemplate": "color=Arremon<br>TSNE1=%{x}<br>TSNE2=%{y}<extra></extra>",
         "legendgroup": "Arremon",
         "marker": {
          "color": "#990099",
          "symbol": "circle"
         },
         "mode": "markers",
         "name": "Arremon",
         "showlegend": true,
         "type": "scattergl",
         "x": [
          2.6703829765319824,
          -5.548384189605713,
          -5.633195400238037,
          -2.7537567615509033,
          1.6909738779067993,
          1.7618372440338135,
          -1.9545414447784424,
          -3.98199725151062,
          -2.1372039318084717
         ],
         "xaxis": "x",
         "y": [
          3.7516801357269287,
          0.029067032039165497,
          0.28811171650886536,
          -2.8763489723205566,
          5.92259407043457,
          1.2645723819732666,
          -1.5963902473449707,
          1.9009748697280884,
          1.483181118965149
         ],
         "yaxis": "y"
        },
        {
         "hovertemplate": "color=Arundinicola<br>TSNE1=%{x}<br>TSNE2=%{y}<extra></extra>",
         "legendgroup": "Arundinicola",
         "marker": {
          "color": "#0099C6",
          "symbol": "circle"
         },
         "mode": "markers",
         "name": "Arundinicola",
         "showlegend": true,
         "type": "scattergl",
         "x": [
          1.7450618743896484,
          1.2800440788269043,
          -5.609010696411133
         ],
         "xaxis": "x",
         "y": [
          -0.42542484402656555,
          6.844017505645752,
          -6.579928398132324
         ],
         "yaxis": "y"
        },
        {
         "hovertemplate": "color=Asthenes<br>TSNE1=%{x}<br>TSNE2=%{y}<extra></extra>",
         "legendgroup": "Asthenes",
         "marker": {
          "color": "#DD4477",
          "symbol": "circle"
         },
         "mode": "markers",
         "name": "Asthenes",
         "showlegend": true,
         "type": "scattergl",
         "x": [
          1.2437846660614014,
          3.043238878250122,
          -2.9131276607513428,
          -2.489518880844116,
          6.759441375732422
         ],
         "xaxis": "x",
         "y": [
          -7.493615627288818,
          5.868110656738281,
          -3.355344772338867,
          5.594432353973389,
          1.6030577421188354
         ],
         "yaxis": "y"
        },
        {
         "hovertemplate": "color=Athene<br>TSNE1=%{x}<br>TSNE2=%{y}<extra></extra>",
         "legendgroup": "Athene",
         "marker": {
          "color": "#66AA00",
          "symbol": "circle"
         },
         "mode": "markers",
         "name": "Athene",
         "showlegend": true,
         "type": "scattergl",
         "x": [
          -2.7584633827209473,
          5.232625961303711,
          6.360257625579834,
          3.3497681617736816
         ],
         "xaxis": "x",
         "y": [
          -9.096277236938477,
          -5.519752502441406,
          -1.7454270124435425,
          -6.067152500152588
         ],
         "yaxis": "y"
        },
        {
         "hovertemplate": "color=Atlapetes<br>TSNE1=%{x}<br>TSNE2=%{y}<extra></extra>",
         "legendgroup": "Atlapetes",
         "marker": {
          "color": "#B82E2E",
          "symbol": "circle"
         },
         "mode": "markers",
         "name": "Atlapetes",
         "showlegend": true,
         "type": "scattergl",
         "x": [
          1.994637131690979,
          1.776652216911316,
          -2.178724765777588,
          1.0195962190628052
         ],
         "xaxis": "x",
         "y": [
          6.524303913116455,
          2.2664411067962646,
          -0.6601582765579224,
          1.4749412536621094
         ],
         "yaxis": "y"
        },
        {
         "hovertemplate": "color=Atticora<br>TSNE1=%{x}<br>TSNE2=%{y}<extra></extra>",
         "legendgroup": "Atticora",
         "marker": {
          "color": "#316395",
          "symbol": "circle"
         },
         "mode": "markers",
         "name": "Atticora",
         "showlegend": true,
         "type": "scattergl",
         "x": [
          5.815411567687988,
          4.953585624694824,
          6.8517165184021
         ],
         "xaxis": "x",
         "y": [
          1.9203144311904907,
          -2.398805856704712,
          -2.681623935699463
         ],
         "yaxis": "y"
        },
        {
         "hovertemplate": "color=Attila<br>TSNE1=%{x}<br>TSNE2=%{y}<extra></extra>",
         "legendgroup": "Attila",
         "marker": {
          "color": "#3366CC",
          "symbol": "circle"
         },
         "mode": "markers",
         "name": "Attila",
         "showlegend": true,
         "type": "scattergl",
         "x": [
          1.111954689025879,
          7.119406700134277,
          -4.972546100616455,
          5.241450309753418,
          2.541412353515625,
          3.831052780151367,
          -6.629673004150391,
          8.250815391540527,
          1.7231025695800781
         ],
         "xaxis": "x",
         "y": [
          -1.2243772745132446,
          5.817479133605957,
          -4.095527172088623,
          0.7780808806419373,
          2.0001134872436523,
          5.838195323944092,
          -1.7018945217132568,
          2.3756420612335205,
          -6.576349258422852
         ],
         "yaxis": "y"
        },
        {
         "hovertemplate": "color=Aulacorhynchus<br>TSNE1=%{x}<br>TSNE2=%{y}<extra></extra>",
         "legendgroup": "Aulacorhynchus",
         "marker": {
          "color": "#DC3912",
          "symbol": "circle"
         },
         "mode": "markers",
         "name": "Aulacorhynchus",
         "showlegend": true,
         "type": "scattergl",
         "x": [
          4.573050022125244,
          7.936402320861816,
          8.322357177734375
         ],
         "xaxis": "x",
         "y": [
          -3.9860217571258545,
          1.9728610515594482,
          4.695158004760742
         ],
         "yaxis": "y"
        },
        {
         "hovertemplate": "color=Automolus<br>TSNE1=%{x}<br>TSNE2=%{y}<extra></extra>",
         "legendgroup": "Automolus",
         "marker": {
          "color": "#FF9900",
          "symbol": "circle"
         },
         "mode": "markers",
         "name": "Automolus",
         "showlegend": true,
         "type": "scattergl",
         "x": [
          2.441322088241577,
          6.630029201507568,
          7.690552234649658,
          -1.000438928604126,
          -1.931105136871338,
          -3.9302518367767334,
          -0.5398783683776855,
          5.831858158111572,
          -3.9125940799713135,
          -0.8184449672698975
         ],
         "xaxis": "x",
         "y": [
          -1.746519923210144,
          3.7382030487060547,
          2.3487908840179443,
          -1.1780145168304443,
          -1.4815237522125244,
          -3.1406147480010986,
          1.666211485862732,
          2.586113452911377,
          -3.887263774871826,
          -0.9285441637039185
         ],
         "yaxis": "y"
        },
        {
         "hovertemplate": "color=Bartramia<br>TSNE1=%{x}<br>TSNE2=%{y}<extra></extra>",
         "legendgroup": "Bartramia",
         "marker": {
          "color": "#109618",
          "symbol": "circle"
         },
         "mode": "markers",
         "name": "Bartramia",
         "showlegend": true,
         "type": "scattergl",
         "x": [
          1.7581120729446411,
          -3.900787591934204,
          -5.056893348693848
         ],
         "xaxis": "x",
         "y": [
          -4.932130813598633,
          -6.116025447845459,
          -8.433226585388184
         ],
         "yaxis": "y"
        },
        {
         "hovertemplate": "color=Baryphthengus<br>TSNE1=%{x}<br>TSNE2=%{y}<extra></extra>",
         "legendgroup": "Baryphthengus",
         "marker": {
          "color": "#990099",
          "symbol": "circle"
         },
         "mode": "markers",
         "name": "Baryphthengus",
         "showlegend": true,
         "type": "scattergl",
         "x": [
          4.010046482086182,
          -1.324056625366211,
          -0.023864716291427612
         ],
         "xaxis": "x",
         "y": [
          7.793555736541748,
          1.4549710750579834,
          -3.84212327003479
         ],
         "yaxis": "y"
        },
        {
         "hovertemplate": "color=Basileuterus<br>TSNE1=%{x}<br>TSNE2=%{y}<extra></extra>",
         "legendgroup": "Basileuterus",
         "marker": {
          "color": "#0099C6",
          "symbol": "circle"
         },
         "mode": "markers",
         "name": "Basileuterus",
         "showlegend": true,
         "type": "scattergl",
         "x": [
          2.445434808731079,
          -1.607222080230713
         ],
         "xaxis": "x",
         "y": [
          -3.9875640869140625,
          3.9137253761291504
         ],
         "yaxis": "y"
        },
        {
         "hovertemplate": "color=Berlepschia<br>TSNE1=%{x}<br>TSNE2=%{y}<extra></extra>",
         "legendgroup": "Berlepschia",
         "marker": {
          "color": "#DD4477",
          "symbol": "circle"
         },
         "mode": "markers",
         "name": "Berlepschia",
         "showlegend": true,
         "type": "scattergl",
         "x": [
          0.07798390090465546,
          2.413304567337036
         ],
         "xaxis": "x",
         "y": [
          6.879402160644531,
          -8.13881778717041
         ],
         "yaxis": "y"
        },
        {
         "hovertemplate": "color=Bolborhynchus<br>TSNE1=%{x}<br>TSNE2=%{y}<extra></extra>",
         "legendgroup": "Bolborhynchus",
         "marker": {
          "color": "#66AA00",
          "symbol": "circle"
         },
         "mode": "markers",
         "name": "Bolborhynchus",
         "showlegend": true,
         "type": "scattergl",
         "x": [
          -0.38030150532722473,
          2.939725637435913,
          2.8045194149017334,
          6.558486461639404,
          3.680669069290161
         ],
         "xaxis": "x",
         "y": [
          -3.726923704147339,
          -4.027534484863281,
          2.8633499145507812,
          2.667933702468872,
          -4.14972448348999
         ],
         "yaxis": "y"
        },
        {
         "hovertemplate": "color=Brachygalba<br>TSNE1=%{x}<br>TSNE2=%{y}<extra></extra>",
         "legendgroup": "Brachygalba",
         "marker": {
          "color": "#B82E2E",
          "symbol": "circle"
         },
         "mode": "markers",
         "name": "Brachygalba",
         "showlegend": true,
         "type": "scattergl",
         "x": [
          2.8696887493133545,
          0.4529823064804077
         ],
         "xaxis": "x",
         "y": [
          3.7646026611328125,
          -0.49201837182044983
         ],
         "yaxis": "y"
        },
        {
         "hovertemplate": "color=Brotogeris<br>TSNE1=%{x}<br>TSNE2=%{y}<extra></extra>",
         "legendgroup": "Brotogeris",
         "marker": {
          "color": "#316395",
          "symbol": "circle"
         },
         "mode": "markers",
         "name": "Brotogeris",
         "showlegend": true,
         "type": "scattergl",
         "x": [
          -0.6544445157051086,
          -3.031332015991211,
          0.998568594455719,
          2.423145294189453,
          5.83351469039917,
          2.5111818313598633
         ],
         "xaxis": "x",
         "y": [
          -1.6804267168045044,
          -5.383631706237793,
          2.915874719619751,
          2.814021348953247,
          -1.0142420530319214,
          -0.6289762854576111
         ],
         "yaxis": "y"
        },
        {
         "hovertemplate": "color=Bubo<br>TSNE1=%{x}<br>TSNE2=%{y}<extra></extra>",
         "legendgroup": "Bubo",
         "marker": {
          "color": "#3366CC",
          "symbol": "circle"
         },
         "mode": "markers",
         "name": "Bubo",
         "showlegend": true,
         "type": "scattergl",
         "x": [
          -5.999797821044922
         ],
         "xaxis": "x",
         "y": [
          -1.8227134943008423
         ],
         "yaxis": "y"
        },
        {
         "hovertemplate": "color=Bubulcus<br>TSNE1=%{x}<br>TSNE2=%{y}<extra></extra>",
         "legendgroup": "Bubulcus",
         "marker": {
          "color": "#DC3912",
          "symbol": "circle"
         },
         "mode": "markers",
         "name": "Bubulcus",
         "showlegend": true,
         "type": "scattergl",
         "x": [
          0.12122692167758942,
          0.9636237621307373
         ],
         "xaxis": "x",
         "y": [
          -6.84873628616333,
          -0.5013719201087952
         ],
         "yaxis": "y"
        },
        {
         "hovertemplate": "color=Bucco<br>TSNE1=%{x}<br>TSNE2=%{y}<extra></extra>",
         "legendgroup": "Bucco",
         "marker": {
          "color": "#FF9900",
          "symbol": "circle"
         },
         "mode": "markers",
         "name": "Bucco",
         "showlegend": true,
         "type": "scattergl",
         "x": [
          1.295959234237671,
          2.1525399684906006,
          -0.005882743280380964,
          4.037510395050049,
          2.2183406352996826,
          -1.453303337097168,
          5.511209487915039,
          7.969755172729492
         ],
         "xaxis": "x",
         "y": [
          -1.0219494104385376,
          -0.19131126999855042,
          -1.86216402053833,
          -0.8315593600273132,
          0.45498722791671753,
          5.620151042938232,
          2.9651830196380615,
          0.8546329140663147
         ],
         "yaxis": "y"
        },
        {
         "hovertemplate": "color=Busarellus<br>TSNE1=%{x}<br>TSNE2=%{y}<extra></extra>",
         "legendgroup": "Busarellus",
         "marker": {
          "color": "#109618",
          "symbol": "circle"
         },
         "mode": "markers",
         "name": "Busarellus",
         "showlegend": true,
         "type": "scattergl",
         "x": [
          -3.653737783432007,
          2.3892650604248047,
          -0.3034951686859131,
          -6.401329040527344,
          -4.284078121185303
         ],
         "xaxis": "x",
         "y": [
          -4.01223087310791,
          -3.375258445739746,
          1.066149353981018,
          -1.645214319229126,
          -0.48057571053504944
         ],
         "yaxis": "y"
        },
        {
         "hovertemplate": "color=Buteo<br>TSNE1=%{x}<br>TSNE2=%{y}<extra></extra>",
         "legendgroup": "Buteo",
         "marker": {
          "color": "#990099",
          "symbol": "circle"
         },
         "mode": "markers",
         "name": "Buteo",
         "showlegend": true,
         "type": "scattergl",
         "x": [
          4.027770519256592,
          -3.9936399459838867,
          -7.154715538024902,
          -2.374979257583618,
          -3.6896235942840576,
          -2.354626417160034,
          -1.3963441848754883,
          -1.2962223291397095,
          -6.464406490325928,
          -4.12831449508667,
          -3.8109405040740967,
          -6.376841068267822,
          3.451077699661255,
          -5.059197902679443,
          -3.167099952697754,
          -1.3762282133102417,
          -5.948323726654053,
          7.123744010925293,
          -3.8001160621643066,
          -2.514225959777832
         ],
         "xaxis": "x",
         "y": [
          7.039985179901123,
          -3.016496181488037,
          -4.33128547668457,
          -0.8018537759780884,
          -0.11507245898246765,
          3.258526086807251,
          0.06306792795658112,
          4.385052680969238,
          -4.97674560546875,
          -3.487074851989746,
          4.510724067687988,
          -5.633742332458496,
          0.2700599133968353,
          3.9407827854156494,
          2.329350471496582,
          4.854175090789795,
          1.032068133354187,
          0.5442424416542053,
          -1.8587055206298828,
          -7.819361209869385
         ],
         "yaxis": "y"
        },
        {
         "hovertemplate": "color=Buteogallus<br>TSNE1=%{x}<br>TSNE2=%{y}<extra></extra>",
         "legendgroup": "Buteogallus",
         "marker": {
          "color": "#0099C6",
          "symbol": "circle"
         },
         "mode": "markers",
         "name": "Buteogallus",
         "showlegend": true,
         "type": "scattergl",
         "x": [
          -5.417996883392334,
          -5.7007832527160645,
          -4.220141410827637,
          0.6862285137176514,
          -4.882425308227539,
          -3.0826377868652344,
          -5.953644275665283,
          -1.698718786239624,
          -2.353511095046997,
          -6.252646446228027,
          -6.373753547668457,
          -3.8912477493286133,
          -2.8914520740509033,
          -3.2692315578460693
         ],
         "xaxis": "x",
         "y": [
          3.1824934482574463,
          2.064915657043457,
          1.451939582824707,
          4.277064323425293,
          4.526941776275635,
          -1.034885287284851,
          -1.6654117107391357,
          4.979107856750488,
          6.005293846130371,
          -1.6070003509521484,
          -0.32738882303237915,
          0.06003687530755997,
          7.5388078689575195,
          6.832752704620361
         ],
         "yaxis": "y"
        },
        {
         "hovertemplate": "color=Butorides<br>TSNE1=%{x}<br>TSNE2=%{y}<extra></extra>",
         "legendgroup": "Butorides",
         "marker": {
          "color": "#DD4477",
          "symbol": "circle"
         },
         "mode": "markers",
         "name": "Butorides",
         "showlegend": true,
         "type": "scattergl",
         "x": [
          -3.7197132110595703,
          -2.5747945308685303,
          -3.6454479694366455
         ],
         "xaxis": "x",
         "y": [
          -7.709178924560547,
          -7.533675670623779,
          0.8279197216033936
         ],
         "yaxis": "y"
        },
        {
         "hovertemplate": "color=Cacicus<br>TSNE1=%{x}<br>TSNE2=%{y}<extra></extra>",
         "legendgroup": "Cacicus",
         "marker": {
          "color": "#66AA00",
          "symbol": "circle"
         },
         "mode": "markers",
         "name": "Cacicus",
         "showlegend": true,
         "type": "scattergl",
         "x": [
          -0.30953729152679443,
          3.1277401447296143,
          4.896537780761719,
          4.003106594085693,
          6.630751609802246,
          -0.8381332159042358,
          0.36257514357566833,
          1.6531574726104736,
          3.5247914791107178,
          4.1021809577941895,
          -1.2543824911117554,
          -4.571315288543701,
          -4.732954025268555
         ],
         "xaxis": "x",
         "y": [
          -0.318097323179245,
          3.652092218399048,
          8.619397163391113,
          -5.033425807952881,
          2.509810209274292,
          -8.322197914123535,
          -0.8766141533851624,
          -1.050197720527649,
          -4.175951957702637,
          2.5230953693389893,
          -7.486663341522217,
          0.6570848822593689,
          -5.266541957855225
         ],
         "yaxis": "y"
        },
        {
         "hovertemplate": "color=Calidris<br>TSNE1=%{x}<br>TSNE2=%{y}<extra></extra>",
         "legendgroup": "Calidris",
         "marker": {
          "color": "#B82E2E",
          "symbol": "circle"
         },
         "mode": "markers",
         "name": "Calidris",
         "showlegend": true,
         "type": "scattergl",
         "x": [
          -3.619168519973755,
          -6.002442836761475,
          -1.655745029449463,
          1.6506894826889038,
          4.411550998687744,
          7.007225036621094,
          3.02990984916687,
          1.9077191352844238,
          5.663870334625244,
          -3.454590082168579,
          -1.1523617506027222,
          3.6051430702209473,
          7.9105987548828125,
          -3.3638830184936523,
          3.7532365322113037,
          0.6056827306747437,
          2.3878414630889893,
          -3.6436760425567627,
          4.044941425323486,
          -1.324358344078064,
          -2.781921148300171,
          -1.956800937652588,
          -3.4251906871795654,
          -3.324479341506958,
          -6.808844089508057
         ],
         "xaxis": "x",
         "y": [
          -1.3281214237213135,
          -3.010350227355957,
          -9.119516372680664,
          -8.03996467590332,
          -5.204214572906494,
          0.2968566417694092,
          3.859797477722168,
          3.6936233043670654,
          4.264133930206299,
          5.9925217628479,
          -7.057936191558838,
          1.8695898056030273,
          3.946021318435669,
          -9.042402267456055,
          -1.0283817052841187,
          -6.79995059967041,
          -4.069152355194092,
          -8.20034408569336,
          -6.304175853729248,
          -7.184813022613525,
          6.705235958099365,
          4.136168003082275,
          -8.156087875366211,
          -8.040284156799316,
          -6.331605911254883
         ],
         "yaxis": "y"
        },
        {
         "hovertemplate": "color=Calliphlox<br>TSNE1=%{x}<br>TSNE2=%{y}<extra></extra>",
         "legendgroup": "Calliphlox",
         "marker": {
          "color": "#316395",
          "symbol": "circle"
         },
         "mode": "markers",
         "name": "Calliphlox",
         "showlegend": true,
         "type": "scattergl",
         "x": [
          1.7244062423706055
         ],
         "xaxis": "x",
         "y": [
          -3.833134651184082
         ],
         "yaxis": "y"
        },
        {
         "hovertemplate": "color=Campephilus<br>TSNE1=%{x}<br>TSNE2=%{y}<extra></extra>",
         "legendgroup": "Campephilus",
         "marker": {
          "color": "#3366CC",
          "symbol": "circle"
         },
         "mode": "markers",
         "name": "Campephilus",
         "showlegend": true,
         "type": "scattergl",
         "x": [
          -6.384224891662598,
          -5.860246181488037,
          -4.920106410980225,
          -6.839599132537842,
          2.6128385066986084,
          7.561358451843262,
          0.9078132510185242,
          -2.862532615661621,
          -0.7845709323883057,
          -7.168004035949707,
          3.9992434978485107
         ],
         "xaxis": "x",
         "y": [
          -0.6294005513191223,
          2.0285427570343018,
          4.500290393829346,
          -6.192681789398193,
          -4.089629173278809,
          3.4205548763275146,
          -3.949878692626953,
          7.319763660430908,
          -4.995589733123779,
          -5.773075103759766,
          -2.887600898742676
         ],
         "yaxis": "y"
        },
        {
         "hovertemplate": "color=Camptostoma<br>TSNE1=%{x}<br>TSNE2=%{y}<extra></extra>",
         "legendgroup": "Camptostoma",
         "marker": {
          "color": "#DC3912",
          "symbol": "circle"
         },
         "mode": "markers",
         "name": "Camptostoma",
         "showlegend": true,
         "type": "scattergl",
         "x": [
          -5.597441673278809,
          3.6929869651794434
         ],
         "xaxis": "x",
         "y": [
          0.49383309483528137,
          -3.789064407348633
         ],
         "yaxis": "y"
        },
        {
         "hovertemplate": "color=Campylopterus<br>TSNE1=%{x}<br>TSNE2=%{y}<extra></extra>",
         "legendgroup": "Campylopterus",
         "marker": {
          "color": "#FF9900",
          "symbol": "circle"
         },
         "mode": "markers",
         "name": "Campylopterus",
         "showlegend": true,
         "type": "scattergl",
         "x": [
          0.8243324160575867,
          4.055988788604736,
          1.789191722869873
         ],
         "xaxis": "x",
         "y": [
          -7.136420726776123,
          -6.1840128898620605,
          -5.157620429992676
         ],
         "yaxis": "y"
        },
        {
         "hovertemplate": "color=Campylorhamphus<br>TSNE1=%{x}<br>TSNE2=%{y}<extra></extra>",
         "legendgroup": "Campylorhamphus",
         "marker": {
          "color": "#109618",
          "symbol": "circle"
         },
         "mode": "markers",
         "name": "Campylorhamphus",
         "showlegend": true,
         "type": "scattergl",
         "x": [
          -0.4254414439201355,
          -5.533563613891602,
          -4.658905982971191,
          -6.438450813293457
         ],
         "xaxis": "x",
         "y": [
          4.220395088195801,
          1.3246564865112305,
          -5.505065441131592,
          -1.9253212213516235
         ],
         "yaxis": "y"
        },
        {
         "hovertemplate": "color=Campylorhynchus<br>TSNE1=%{x}<br>TSNE2=%{y}<extra></extra>",
         "legendgroup": "Campylorhynchus",
         "marker": {
          "color": "#990099",
          "symbol": "circle"
         },
         "mode": "markers",
         "name": "Campylorhynchus",
         "showlegend": true,
         "type": "scattergl",
         "x": [
          -0.2212224304676056,
          0.922042965888977,
          -2.540127754211426
         ],
         "xaxis": "x",
         "y": [
          -8.287670135498047,
          -5.2953338623046875,
          -5.974355220794678
         ],
         "yaxis": "y"
        },
        {
         "hovertemplate": "color=Cantorchilus<br>TSNE1=%{x}<br>TSNE2=%{y}<extra></extra>",
         "legendgroup": "Cantorchilus",
         "marker": {
          "color": "#0099C6",
          "symbol": "circle"
         },
         "mode": "markers",
         "name": "Cantorchilus",
         "showlegend": true,
         "type": "scattergl",
         "x": [
          -1.4902499914169312,
          -1.5792503356933594,
          -1.0194177627563477
         ],
         "xaxis": "x",
         "y": [
          -2.161306381225586,
          -1.1328258514404297,
          4.227832317352295
         ],
         "yaxis": "y"
        },
        {
         "hovertemplate": "color=Capito<br>TSNE1=%{x}<br>TSNE2=%{y}<extra></extra>",
         "legendgroup": "Capito",
         "marker": {
          "color": "#DD4477",
          "symbol": "circle"
         },
         "mode": "markers",
         "name": "Capito",
         "showlegend": true,
         "type": "scattergl",
         "x": [
          5.575819492340088,
          8.675384521484375,
          -0.08394826948642731,
          -0.22840678691864014,
          4.349483966827393,
          6.3449273109436035
         ],
         "xaxis": "x",
         "y": [
          -1.4067295789718628,
          2.2242441177368164,
          -0.6527649760246277,
          -0.14678509533405304,
          1.1744415760040283,
          1.149080514907837
         ],
         "yaxis": "y"
        },
        {
         "hovertemplate": "color=Capsiempis<br>TSNE1=%{x}<br>TSNE2=%{y}<extra></extra>",
         "legendgroup": "Capsiempis",
         "marker": {
          "color": "#66AA00",
          "symbol": "circle"
         },
         "mode": "markers",
         "name": "Capsiempis",
         "showlegend": true,
         "type": "scattergl",
         "x": [
          -3.418957471847534,
          -1.347205400466919
         ],
         "xaxis": "x",
         "y": [
          -2.394998788833618,
          -0.4734174907207489
         ],
         "yaxis": "y"
        },
        {
         "hovertemplate": "color=Caracara<br>TSNE1=%{x}<br>TSNE2=%{y}<extra></extra>",
         "legendgroup": "Caracara",
         "marker": {
          "color": "#B82E2E",
          "symbol": "circle"
         },
         "mode": "markers",
         "name": "Caracara",
         "showlegend": true,
         "type": "scattergl",
         "x": [
          5.4105682373046875,
          -1.2581830024719238,
          8.47153091430664
         ],
         "xaxis": "x",
         "y": [
          -0.9157280325889587,
          -2.874438762664795,
          1.7598240375518799
         ],
         "yaxis": "y"
        },
        {
         "hovertemplate": "color=Cardellina<br>TSNE1=%{x}<br>TSNE2=%{y}<extra></extra>",
         "legendgroup": "Cardellina",
         "marker": {
          "color": "#316395",
          "symbol": "circle"
         },
         "mode": "markers",
         "name": "Cardellina",
         "showlegend": true,
         "type": "scattergl",
         "x": [
          6.400672435760498,
          -0.9994800090789795,
          3.495828866958618
         ],
         "xaxis": "x",
         "y": [
          -2.531792640686035,
          -0.18570971488952637,
          -4.056219577789307
         ],
         "yaxis": "y"
        },
        {
         "hovertemplate": "color=Casiornis<br>TSNE1=%{x}<br>TSNE2=%{y}<extra></extra>",
         "legendgroup": "Casiornis",
         "marker": {
          "color": "#3366CC",
          "symbol": "circle"
         },
         "mode": "markers",
         "name": "Casiornis",
         "showlegend": true,
         "type": "scattergl",
         "x": [
          -6.054521083831787,
          -2.6674907207489014,
          -6.554185390472412,
          -6.484941482543945
         ],
         "xaxis": "x",
         "y": [
          0.6581946611404419,
          7.75767183303833,
          -4.180252552032471,
          -6.395459175109863
         ],
         "yaxis": "y"
        },
        {
         "hovertemplate": "color=Catamblyrhynchus<br>TSNE1=%{x}<br>TSNE2=%{y}<extra></extra>",
         "legendgroup": "Catamblyrhynchus",
         "marker": {
          "color": "#DC3912",
          "symbol": "circle"
         },
         "mode": "markers",
         "name": "Catamblyrhynchus",
         "showlegend": true,
         "type": "scattergl",
         "x": [
          6.034073829650879,
          4.873239517211914,
          9.335907936096191
         ],
         "xaxis": "x",
         "y": [
          -4.255568981170654,
          -3.6614487171173096,
          5.0350565910339355
         ],
         "yaxis": "y"
        },
        {
         "hovertemplate": "color=Catamenia<br>TSNE1=%{x}<br>TSNE2=%{y}<extra></extra>",
         "legendgroup": "Catamenia",
         "marker": {
          "color": "#FF9900",
          "symbol": "circle"
         },
         "mode": "markers",
         "name": "Catamenia",
         "showlegend": true,
         "type": "scattergl",
         "x": [
          -3.6582281589508057,
          6.136058330535889,
          -2.1561055183410645,
          -3.6858906745910645,
          2.8540611267089844,
          3.0743303298950195,
          0.8700804710388184,
          0.1970706284046173,
          -4.969152927398682
         ],
         "xaxis": "x",
         "y": [
          4.613397121429443,
          4.918564319610596,
          4.460824966430664,
          1.039123296737671,
          3.934814214706421,
          -2.7271039485931396,
          -5.237762928009033,
          -4.673113822937012,
          2.75982666015625
         ],
         "yaxis": "y"
        },
        {
         "hovertemplate": "color=Cathartes<br>TSNE1=%{x}<br>TSNE2=%{y}<extra></extra>",
         "legendgroup": "Cathartes",
         "marker": {
          "color": "#109618",
          "symbol": "circle"
         },
         "mode": "markers",
         "name": "Cathartes",
         "showlegend": true,
         "type": "scattergl",
         "x": [
          4.064150333404541
         ],
         "xaxis": "x",
         "y": [
          7.550098896026611
         ],
         "yaxis": "y"
        },
        {
         "hovertemplate": "color=Catharus<br>TSNE1=%{x}<br>TSNE2=%{y}<extra></extra>",
         "legendgroup": "Catharus",
         "marker": {
          "color": "#990099",
          "symbol": "circle"
         },
         "mode": "markers",
         "name": "Catharus",
         "showlegend": true,
         "type": "scattergl",
         "x": [
          3.281869411468506,
          2.383892059326172,
          3.5964369773864746,
          3.5779049396514893,
          -1.1378690004348755,
          -6.479683876037598,
          -2.0108413696289062,
          3.00248646736145,
          3.5252022743225098,
          1.2751903533935547,
          4.932057857513428,
          4.694515705108643,
          -1.2325448989868164,
          -3.8427765369415283
         ],
         "xaxis": "x",
         "y": [
          0.862873375415802,
          0.1718393862247467,
          0.9682340621948242,
          1.9091544151306152,
          -1.0036399364471436,
          -1.812355875968933,
          1.327203631401062,
          1.7495628595352173,
          2.711300849914551,
          -1.6918177604675293,
          3.8909308910369873,
          4.625335693359375,
          -2.7009401321411133,
          -2.7645981311798096
         ],
         "yaxis": "y"
        },
        {
         "hovertemplate": "color=Celeus<br>TSNE1=%{x}<br>TSNE2=%{y}<extra></extra>",
         "legendgroup": "Celeus",
         "marker": {
          "color": "#0099C6",
          "symbol": "circle"
         },
         "mode": "markers",
         "name": "Celeus",
         "showlegend": true,
         "type": "scattergl",
         "x": [
          -5.896754741668701,
          -4.895169258117676,
          -5.407053470611572,
          4.498410224914551,
          -5.540472984313965,
          -2.000300645828247,
          1.2667077779769897,
          4.087942123413086,
          -1.207817792892456,
          -0.9303288459777832,
          3.903360366821289,
          -5.0829854011535645
         ],
         "xaxis": "x",
         "y": [
          -5.487263202667236,
          2.953432559967041,
          1.927682876586914,
          -0.5978665351867676,
          -4.438304901123047,
          -0.9625270366668701,
          8.060164451599121,
          6.491537094116211,
          4.1509013175964355,
          7.579570770263672,
          3.90847110748291,
          4.135295391082764
         ],
         "yaxis": "y"
        },
        {
         "hovertemplate": "color=Cephalopterus<br>TSNE1=%{x}<br>TSNE2=%{y}<extra></extra>",
         "legendgroup": "Cephalopterus",
         "marker": {
          "color": "#DD4477",
          "symbol": "circle"
         },
         "mode": "markers",
         "name": "Cephalopterus",
         "showlegend": true,
         "type": "scattergl",
         "x": [
          -6.473001956939697
         ],
         "xaxis": "x",
         "y": [
          -2.475740909576416
         ],
         "yaxis": "y"
        },
        {
         "hovertemplate": "color=Ceratopipra<br>TSNE1=%{x}<br>TSNE2=%{y}<extra></extra>",
         "legendgroup": "Ceratopipra",
         "marker": {
          "color": "#66AA00",
          "symbol": "circle"
         },
         "mode": "markers",
         "name": "Ceratopipra",
         "showlegend": true,
         "type": "scattergl",
         "x": [
          -4.341195106506348,
          -4.116331577301025,
          -0.21788088977336884,
          4.230996131896973,
          -2.155367851257324,
          -7.314934253692627
         ],
         "xaxis": "x",
         "y": [
          2.5299601554870605,
          -6.129649639129639,
          6.597827434539795,
          1.765396237373352,
          0.08666893094778061,
          -1.5721468925476074
         ],
         "yaxis": "y"
        },
        {
         "hovertemplate": "color=Cercomacra<br>TSNE1=%{x}<br>TSNE2=%{y}<extra></extra>",
         "legendgroup": "Cercomacra",
         "marker": {
          "color": "#B82E2E",
          "symbol": "circle"
         },
         "mode": "markers",
         "name": "Cercomacra",
         "showlegend": true,
         "type": "scattergl",
         "x": [
          5.901421546936035,
          7.960214614868164,
          -2.082094430923462,
          -3.741320848464966,
          -2.081805467605591,
          -2.862438917160034
         ],
         "xaxis": "x",
         "y": [
          1.7161903381347656,
          1.6197606325149536,
          4.19302225112915,
          2.669896125793457,
          4.173804759979248,
          6.758918762207031
         ],
         "yaxis": "y"
        },
        {
         "hovertemplate": "color=Cercomacroides<br>TSNE1=%{x}<br>TSNE2=%{y}<extra></extra>",
         "legendgroup": "Cercomacroides",
         "marker": {
          "color": "#316395",
          "symbol": "circle"
         },
         "mode": "markers",
         "name": "Cercomacroides",
         "showlegend": true,
         "type": "scattergl",
         "x": [
          -1.1739850044250488,
          -6.882428169250488,
          -6.162570476531982,
          -7.092028617858887,
          6.539092063903809,
          -0.8155558705329895,
          7.261740684509277,
          -1.6575939655303955,
          1.8437449932098389
         ],
         "xaxis": "x",
         "y": [
          1.4207347631454468,
          -4.5284342765808105,
          -3.839224338531494,
          -1.197954535484314,
          -1.3653204441070557,
          2.0965099334716797,
          1.177627444267273,
          3.1566474437713623,
          5.103634834289551
         ],
         "yaxis": "y"
        },
        {
         "hovertemplate": "color=Certhiaxis<br>TSNE1=%{x}<br>TSNE2=%{y}<extra></extra>",
         "legendgroup": "Certhiaxis",
         "marker": {
          "color": "#3366CC",
          "symbol": "circle"
         },
         "mode": "markers",
         "name": "Certhiaxis",
         "showlegend": true,
         "type": "scattergl",
         "x": [
          3.2221295833587646,
          -5.581509113311768,
          -2.9897685050964355
         ],
         "xaxis": "x",
         "y": [
          2.5532467365264893,
          2.2438673973083496,
          3.2605440616607666
         ],
         "yaxis": "y"
        },
        {
         "hovertemplate": "color=Chaetocercus<br>TSNE1=%{x}<br>TSNE2=%{y}<extra></extra>",
         "legendgroup": "Chaetocercus",
         "marker": {
          "color": "#DC3912",
          "symbol": "circle"
         },
         "mode": "markers",
         "name": "Chaetocercus",
         "showlegend": true,
         "type": "scattergl",
         "x": [
          -3.4764153957366943
         ],
         "xaxis": "x",
         "y": [
          -8.180703163146973
         ],
         "yaxis": "y"
        },
        {
         "hovertemplate": "color=Chaetura<br>TSNE1=%{x}<br>TSNE2=%{y}<extra></extra>",
         "legendgroup": "Chaetura",
         "marker": {
          "color": "#FF9900",
          "symbol": "circle"
         },
         "mode": "markers",
         "name": "Chaetura",
         "showlegend": true,
         "type": "scattergl",
         "x": [
          1.1397740840911865,
          -3.264730930328369,
          1.4393272399902344,
          -2.25947904586792,
          -1.75721275806427,
          4.766403675079346,
          -6.696836471557617,
          4.079215049743652,
          -4.435292720794678,
          4.221039772033691,
          0.5598075985908508,
          2.2047250270843506
         ],
         "xaxis": "x",
         "y": [
          -1.1104533672332764,
          0.4215054512023926,
          -1.3939648866653442,
          0.5845943689346313,
          -3.4151813983917236,
          0.35611286759376526,
          -1.7699261903762817,
          -6.700228214263916,
          0.9851270318031311,
          7.611777305603027,
          0.17347975075244904,
          -8.082621574401855
         ],
         "yaxis": "y"
        },
        {
         "hovertemplate": "color=Chamaepetes<br>TSNE1=%{x}<br>TSNE2=%{y}<extra></extra>",
         "legendgroup": "Chamaepetes",
         "marker": {
          "color": "#109618",
          "symbol": "circle"
         },
         "mode": "markers",
         "name": "Chamaepetes",
         "showlegend": true,
         "type": "scattergl",
         "x": [
          6.944728851318359,
          -3.5834949016571045
         ],
         "xaxis": "x",
         "y": [
          6.3914361000061035,
          -7.620612621307373
         ],
         "yaxis": "y"
        },
        {
         "hovertemplate": "color=Chamaeza<br>TSNE1=%{x}<br>TSNE2=%{y}<extra></extra>",
         "legendgroup": "Chamaeza",
         "marker": {
          "color": "#990099",
          "symbol": "circle"
         },
         "mode": "markers",
         "name": "Chamaeza",
         "showlegend": true,
         "type": "scattergl",
         "x": [
          -2.2616827487945557,
          -2.2888119220733643,
          -2.758152723312378,
          -2.943505048751831
         ],
         "xaxis": "x",
         "y": [
          7.130279064178467,
          6.993206024169922,
          -1.5601688623428345,
          6.246835231781006
         ],
         "yaxis": "y"
        },
        {
         "hovertemplate": "color=Charadrius<br>TSNE1=%{x}<br>TSNE2=%{y}<extra></extra>",
         "legendgroup": "Charadrius",
         "marker": {
          "color": "#0099C6",
          "symbol": "circle"
         },
         "mode": "markers",
         "name": "Charadrius",
         "showlegend": true,
         "type": "scattergl",
         "x": [
          -4.026834011077881,
          0.11266224086284637,
          -4.037264347076416,
          -1.5537004470825195,
          -3.980520725250244
         ],
         "xaxis": "x",
         "y": [
          -7.062958240509033,
          -1.2290810346603394,
          -6.6803412437438965,
          -8.310551643371582,
          -8.083056449890137
         ],
         "yaxis": "y"
        },
        {
         "hovertemplate": "color=Chauna<br>TSNE1=%{x}<br>TSNE2=%{y}<extra></extra>",
         "legendgroup": "Chauna",
         "marker": {
          "color": "#DD4477",
          "symbol": "circle"
         },
         "mode": "markers",
         "name": "Chauna",
         "showlegend": true,
         "type": "scattergl",
         "x": [
          -5.608041286468506,
          -2.828369617462158
         ],
         "xaxis": "x",
         "y": [
          -2.78539776802063,
          -1.0506312847137451
         ],
         "yaxis": "y"
        },
        {
         "hovertemplate": "color=Chelidoptera<br>TSNE1=%{x}<br>TSNE2=%{y}<extra></extra>",
         "legendgroup": "Chelidoptera",
         "marker": {
          "color": "#66AA00",
          "symbol": "circle"
         },
         "mode": "markers",
         "name": "Chelidoptera",
         "showlegend": true,
         "type": "scattergl",
         "x": [
          0.858930766582489,
          -4.498795986175537,
          -4.784642219543457
         ],
         "xaxis": "x",
         "y": [
          1.590599536895752,
          -8.37128734588623,
          -5.31671667098999
         ],
         "yaxis": "y"
        },
        {
         "hovertemplate": "color=Chiroxiphia<br>TSNE1=%{x}<br>TSNE2=%{y}<extra></extra>",
         "legendgroup": "Chiroxiphia",
         "marker": {
          "color": "#B82E2E",
          "symbol": "circle"
         },
         "mode": "markers",
         "name": "Chiroxiphia",
         "showlegend": true,
         "type": "scattergl",
         "x": [
          -2.8752424716949463,
          4.595719337463379,
          -4.340168476104736,
          3.6777093410491943,
          -3.888108730316162
         ],
         "xaxis": "x",
         "y": [
          -3.728067636489868,
          4.75184440612793,
          -0.6240360736846924,
          8.850127220153809,
          -5.834473133087158
         ],
         "yaxis": "y"
        },
        {
         "hovertemplate": "color=Chlorestes<br>TSNE1=%{x}<br>TSNE2=%{y}<extra></extra>",
         "legendgroup": "Chlorestes",
         "marker": {
          "color": "#316395",
          "symbol": "circle"
         },
         "mode": "markers",
         "name": "Chlorestes",
         "showlegend": true,
         "type": "scattergl",
         "x": [
          4.500744342803955
         ],
         "xaxis": "x",
         "y": [
          7.71931266784668
         ],
         "yaxis": "y"
        },
        {
         "hovertemplate": "color=Chloroceryle<br>TSNE1=%{x}<br>TSNE2=%{y}<extra></extra>",
         "legendgroup": "Chloroceryle",
         "marker": {
          "color": "#3366CC",
          "symbol": "circle"
         },
         "mode": "markers",
         "name": "Chloroceryle",
         "showlegend": true,
         "type": "scattergl",
         "x": [
          -0.42732933163642883,
          -4.948792457580566,
          4.068411350250244,
          -6.842870712280273,
          1.7541468143463135,
          -3.918102264404297,
          0.6925328373908997,
          -6.7281293869018555,
          -4.856927394866943,
          8.239805221557617,
          -0.9017601609230042,
          2.708291530609131,
          1.7374261617660522,
          -3.7757444381713867,
          -3.3143272399902344
         ],
         "xaxis": "x",
         "y": [
          0.9144748449325562,
          -4.468277931213379,
          -5.440351486206055,
          -2.779555082321167,
          -8.178340911865234,
          -3.232435703277588,
          -4.549668788909912,
          -2.179943799972534,
          3.7364070415496826,
          1.4756138324737549,
          -2.742340326309204,
          -3.96543550491333,
          -4.3743577003479,
          -8.659208297729492,
          -5.56319522857666
         ],
         "yaxis": "y"
        },
        {
         "hovertemplate": "color=Chlorochrysa<br>TSNE1=%{x}<br>TSNE2=%{y}<extra></extra>",
         "legendgroup": "Chlorochrysa",
         "marker": {
          "color": "#DC3912",
          "symbol": "circle"
         },
         "mode": "markers",
         "name": "Chlorochrysa",
         "showlegend": true,
         "type": "scattergl",
         "x": [
          -1.9716347455978394,
          -3.5677621364593506,
          8.135931968688965
         ],
         "xaxis": "x",
         "y": [
          -2.0114126205444336,
          -1.1501407623291016,
          0.23594766855239868
         ],
         "yaxis": "y"
        },
        {
         "hovertemplate": "color=Chlorophanes<br>TSNE1=%{x}<br>TSNE2=%{y}<extra></extra>",
         "legendgroup": "Chlorophanes",
         "marker": {
          "color": "#FF9900",
          "symbol": "circle"
         },
         "mode": "markers",
         "name": "Chlorophanes",
         "showlegend": true,
         "type": "scattergl",
         "x": [
          1.0468668937683105,
          7.009487628936768,
          -5.865971088409424,
          5.090374946594238
         ],
         "xaxis": "x",
         "y": [
          -5.2366204261779785,
          -0.7158747911453247,
          -4.839836597442627,
          -4.705629348754883
         ],
         "yaxis": "y"
        },
        {
         "hovertemplate": "color=Chlorophonia<br>TSNE1=%{x}<br>TSNE2=%{y}<extra></extra>",
         "legendgroup": "Chlorophonia",
         "marker": {
          "color": "#109618",
          "symbol": "circle"
         },
         "mode": "markers",
         "name": "Chlorophonia",
         "showlegend": true,
         "type": "scattergl",
         "x": [
          1.046164870262146,
          -1.313706398010254
         ],
         "xaxis": "x",
         "y": [
          -1.9856008291244507,
          -5.108121871948242
         ],
         "yaxis": "y"
        },
        {
         "hovertemplate": "color=Chloropipo<br>TSNE1=%{x}<br>TSNE2=%{y}<extra></extra>",
         "legendgroup": "Chloropipo",
         "marker": {
          "color": "#990099",
          "symbol": "circle"
         },
         "mode": "markers",
         "name": "Chloropipo",
         "showlegend": true,
         "type": "scattergl",
         "x": [
          -6.835604190826416,
          -7.243399143218994,
          1.8732341527938843
         ],
         "xaxis": "x",
         "y": [
          -5.392995834350586,
          -4.252327919006348,
          3.5693953037261963
         ],
         "yaxis": "y"
        },
        {
         "hovertemplate": "color=Chlorospingus<br>TSNE1=%{x}<br>TSNE2=%{y}<extra></extra>",
         "legendgroup": "Chlorospingus",
         "marker": {
          "color": "#0099C6",
          "symbol": "circle"
         },
         "mode": "markers",
         "name": "Chlorospingus",
         "showlegend": true,
         "type": "scattergl",
         "x": [
          6.720431804656982,
          3.784442663192749,
          0.8238357901573181,
          6.101010322570801,
          8.710426330566406,
          8.712312698364258,
          2.2584807872772217
         ],
         "xaxis": "x",
         "y": [
          0.25297048687934875,
          2.7135870456695557,
          -4.681840419769287,
          1.811919927597046,
          4.573249816894531,
          4.36851167678833,
          0.24416984617710114
         ],
         "yaxis": "y"
        },
        {
         "hovertemplate": "color=Chlorostilbon<br>TSNE1=%{x}<br>TSNE2=%{y}<extra></extra>",
         "legendgroup": "Chlorostilbon",
         "marker": {
          "color": "#DD4477",
          "symbol": "circle"
         },
         "mode": "markers",
         "name": "Chlorostilbon",
         "showlegend": true,
         "type": "scattergl",
         "x": [
          -3.42419695854187,
          -3.3005025386810303
         ],
         "xaxis": "x",
         "y": [
          -5.9440765380859375,
          -7.994396209716797
         ],
         "yaxis": "y"
        },
        {
         "hovertemplate": "color=Chlorothraupis<br>TSNE1=%{x}<br>TSNE2=%{y}<extra></extra>",
         "legendgroup": "Chlorothraupis",
         "marker": {
          "color": "#66AA00",
          "symbol": "circle"
         },
         "mode": "markers",
         "name": "Chlorothraupis",
         "showlegend": true,
         "type": "scattergl",
         "x": [
          -0.7111499905586243,
          -3.9395370483398438,
          0.9026098847389221
         ],
         "xaxis": "x",
         "y": [
          -0.841755747795105,
          -3.4223737716674805,
          -5.37627649307251
         ],
         "yaxis": "y"
        },
        {
         "hovertemplate": "color=Chondrohierax<br>TSNE1=%{x}<br>TSNE2=%{y}<extra></extra>",
         "legendgroup": "Chondrohierax",
         "marker": {
          "color": "#B82E2E",
          "symbol": "circle"
         },
         "mode": "markers",
         "name": "Chondrohierax",
         "showlegend": true,
         "type": "scattergl",
         "x": [
          -1.027040719985962,
          1.6060528755187988,
          -6.5890326499938965
         ],
         "xaxis": "x",
         "y": [
          7.294240474700928,
          -4.050701141357422,
          -5.414815425872803
         ],
         "yaxis": "y"
        },
        {
         "hovertemplate": "color=Chordeiles<br>TSNE1=%{x}<br>TSNE2=%{y}<extra></extra>",
         "legendgroup": "Chordeiles",
         "marker": {
          "color": "#316395",
          "symbol": "circle"
         },
         "mode": "markers",
         "name": "Chordeiles",
         "showlegend": true,
         "type": "scattergl",
         "x": [
          0.6309654116630554,
          -1.7966558933258057,
          -6.650846481323242,
          -1.0745384693145752,
          5.975793838500977,
          -5.099318981170654
         ],
         "xaxis": "x",
         "y": [
          -4.0967254638671875,
          -4.811992645263672,
          -6.865854263305664,
          0.4310210049152374,
          -0.5839217901229858,
          -8.356886863708496
         ],
         "yaxis": "y"
        },
        {
         "hovertemplate": "color=Chroicocephalus<br>TSNE1=%{x}<br>TSNE2=%{y}<extra></extra>",
         "legendgroup": "Chroicocephalus",
         "marker": {
          "color": "#3366CC",
          "symbol": "circle"
         },
         "mode": "markers",
         "name": "Chroicocephalus",
         "showlegend": true,
         "type": "scattergl",
         "x": [
          0.5029930472373962,
          5.072361946105957,
          4.715242385864258
         ],
         "xaxis": "x",
         "y": [
          0.6658213138580322,
          -0.866258978843689,
          -3.8506932258605957
         ],
         "yaxis": "y"
        },
        {
         "hovertemplate": "color=Chrysuronia<br>TSNE1=%{x}<br>TSNE2=%{y}<extra></extra>",
         "legendgroup": "Chrysuronia",
         "marker": {
          "color": "#DC3912",
          "symbol": "circle"
         },
         "mode": "markers",
         "name": "Chrysuronia",
         "showlegend": true,
         "type": "scattergl",
         "x": [
          1.1974509954452515,
          -0.08827081322669983
         ],
         "xaxis": "x",
         "y": [
          2.9633736610412598,
          -3.015462636947632
         ],
         "yaxis": "y"
        },
        {
         "hovertemplate": "color=Ciconia<br>TSNE1=%{x}<br>TSNE2=%{y}<extra></extra>",
         "legendgroup": "Ciconia",
         "marker": {
          "color": "#FF9900",
          "symbol": "circle"
         },
         "mode": "markers",
         "name": "Ciconia",
         "showlegend": true,
         "type": "scattergl",
         "x": [
          2.864663600921631
         ],
         "xaxis": "x",
         "y": [
          -7.303741931915283
         ],
         "yaxis": "y"
        },
        {
         "hovertemplate": "color=Cinclodes<br>TSNE1=%{x}<br>TSNE2=%{y}<extra></extra>",
         "legendgroup": "Cinclodes",
         "marker": {
          "color": "#109618",
          "symbol": "circle"
         },
         "mode": "markers",
         "name": "Cinclodes",
         "showlegend": true,
         "type": "scattergl",
         "x": [
          -0.3929181396961212,
          -2.7211949825286865
         ],
         "xaxis": "x",
         "y": [
          2.0772016048431396,
          -6.004889011383057
         ],
         "yaxis": "y"
        },
        {
         "hovertemplate": "color=Cinnycerthia<br>TSNE1=%{x}<br>TSNE2=%{y}<extra></extra>",
         "legendgroup": "Cinnycerthia",
         "marker": {
          "color": "#990099",
          "symbol": "circle"
         },
         "mode": "markers",
         "name": "Cinnycerthia",
         "showlegend": true,
         "type": "scattergl",
         "x": [
          2.933396339416504,
          8.936904907226562,
          5.860169887542725
         ],
         "xaxis": "x",
         "y": [
          0.32612982392311096,
          2.5072999000549316,
          -0.7522516846656799
         ],
         "yaxis": "y"
        },
        {
         "hovertemplate": "color=Circus<br>TSNE1=%{x}<br>TSNE2=%{y}<extra></extra>",
         "legendgroup": "Circus",
         "marker": {
          "color": "#0099C6",
          "symbol": "circle"
         },
         "mode": "markers",
         "name": "Circus",
         "showlegend": true,
         "type": "scattergl",
         "x": [
          2.4001219272613525,
          2.7012298107147217
         ],
         "xaxis": "x",
         "y": [
          -4.060090065002441,
          7.346322059631348
         ],
         "yaxis": "y"
        },
        {
         "hovertemplate": "color=Cissopis<br>TSNE1=%{x}<br>TSNE2=%{y}<extra></extra>",
         "legendgroup": "Cissopis",
         "marker": {
          "color": "#DD4477",
          "symbol": "circle"
         },
         "mode": "markers",
         "name": "Cissopis",
         "showlegend": true,
         "type": "scattergl",
         "x": [
          -5.02044153213501,
          5.099689960479736,
          -0.003157320898026228
         ],
         "xaxis": "x",
         "y": [
          -7.2529706954956055,
          -2.1971116065979004,
          -3.771289825439453
         ],
         "yaxis": "y"
        },
        {
         "hovertemplate": "color=Claravis<br>TSNE1=%{x}<br>TSNE2=%{y}<extra></extra>",
         "legendgroup": "Claravis",
         "marker": {
          "color": "#66AA00",
          "symbol": "circle"
         },
         "mode": "markers",
         "name": "Claravis",
         "showlegend": true,
         "type": "scattergl",
         "x": [
          0.25851911306381226
         ],
         "xaxis": "x",
         "y": [
          -5.182544708251953
         ],
         "yaxis": "y"
        },
        {
         "hovertemplate": "color=Clibanornis<br>TSNE1=%{x}<br>TSNE2=%{y}<extra></extra>",
         "legendgroup": "Clibanornis",
         "marker": {
          "color": "#B82E2E",
          "symbol": "circle"
         },
         "mode": "markers",
         "name": "Clibanornis",
         "showlegend": true,
         "type": "scattergl",
         "x": [
          7.106556415557861,
          -3.5737991333007812,
          -3.9777910709381104,
          4.108383655548096
         ],
         "xaxis": "x",
         "y": [
          6.106370449066162,
          -3.3105099201202393,
          -3.264458656311035,
          2.2833142280578613
         ],
         "yaxis": "y"
        },
        {
         "hovertemplate": "color=Cnemotriccus<br>TSNE1=%{x}<br>TSNE2=%{y}<extra></extra>",
         "legendgroup": "Cnemotriccus",
         "marker": {
          "color": "#316395",
          "symbol": "circle"
         },
         "mode": "markers",
         "name": "Cnemotriccus",
         "showlegend": true,
         "type": "scattergl",
         "x": [
          -3.939871311187744,
          -2.521498441696167
         ],
         "xaxis": "x",
         "y": [
          2.2454092502593994,
          6.656411647796631
         ],
         "yaxis": "y"
        },
        {
         "hovertemplate": "color=Cnipodectes<br>TSNE1=%{x}<br>TSNE2=%{y}<extra></extra>",
         "legendgroup": "Cnipodectes",
         "marker": {
          "color": "#3366CC",
          "symbol": "circle"
         },
         "mode": "markers",
         "name": "Cnipodectes",
         "showlegend": true,
         "type": "scattergl",
         "x": [
          -2.1371700763702393,
          3.187629222869873,
          7.991644859313965,
          1.4891496896743774
         ],
         "xaxis": "x",
         "y": [
          6.455934047698975,
          7.915492057800293,
          1.430433988571167,
          5.219470500946045
         ],
         "yaxis": "y"
        },
        {
         "hovertemplate": "color=Coccycua<br>TSNE1=%{x}<br>TSNE2=%{y}<extra></extra>",
         "legendgroup": "Coccycua",
         "marker": {
          "color": "#DC3912",
          "symbol": "circle"
         },
         "mode": "markers",
         "name": "Coccycua",
         "showlegend": true,
         "type": "scattergl",
         "x": [
          -5.248117446899414,
          6.344969272613525,
          -3.814223527908325,
          0.28494828939437866
         ],
         "xaxis": "x",
         "y": [
          0.9290948510169983,
          1.2156193256378174,
          -5.679664611816406,
          5.876305103302002
         ],
         "yaxis": "y"
        },
        {
         "hovertemplate": "color=Coccyzus<br>TSNE1=%{x}<br>TSNE2=%{y}<extra></extra>",
         "legendgroup": "Coccyzus",
         "marker": {
          "color": "#FF9900",
          "symbol": "circle"
         },
         "mode": "markers",
         "name": "Coccyzus",
         "showlegend": true,
         "type": "scattergl",
         "x": [
          -4.469725608825684,
          -3.1247305870056152,
          -3.9204635620117188,
          7.176238536834717,
          6.704992771148682,
          2.155202865600586,
          -5.026451587677002
         ],
         "xaxis": "x",
         "y": [
          4.6564812660217285,
          -5.467776775360107,
          -2.892320156097412,
          5.179123878479004,
          1.9424593448638916,
          -4.205007553100586,
          3.8044934272766113
         ],
         "yaxis": "y"
        },
        {
         "hovertemplate": "color=Cochlearius<br>TSNE1=%{x}<br>TSNE2=%{y}<extra></extra>",
         "legendgroup": "Cochlearius",
         "marker": {
          "color": "#109618",
          "symbol": "circle"
         },
         "mode": "markers",
         "name": "Cochlearius",
         "showlegend": true,
         "type": "scattergl",
         "x": [
          -0.21370269358158112,
          -3.202533483505249,
          1.111851453781128
         ],
         "xaxis": "x",
         "y": [
          -7.6283721923828125,
          -4.724132537841797,
          1.0344152450561523
         ],
         "yaxis": "y"
        },
        {
         "hovertemplate": "color=Coeligena<br>TSNE1=%{x}<br>TSNE2=%{y}<extra></extra>",
         "legendgroup": "Coeligena",
         "marker": {
          "color": "#990099",
          "symbol": "circle"
         },
         "mode": "markers",
         "name": "Coeligena",
         "showlegend": true,
         "type": "scattergl",
         "x": [
          8.789158821105957,
          7.952852249145508,
          1.6693447828292847,
          7.094473838806152,
          -3.2789714336395264
         ],
         "xaxis": "x",
         "y": [
          3.569450616836548,
          0.1541539877653122,
          -7.586703300476074,
          -1.1618388891220093,
          -8.890158653259277
         ],
         "yaxis": "y"
        },
        {
         "hovertemplate": "color=Coereba<br>TSNE1=%{x}<br>TSNE2=%{y}<extra></extra>",
         "legendgroup": "Coereba",
         "marker": {
          "color": "#0099C6",
          "symbol": "circle"
         },
         "mode": "markers",
         "name": "Coereba",
         "showlegend": true,
         "type": "scattergl",
         "x": [
          -0.3830626904964447,
          -3.6120808124542236,
          4.175803184509277
         ],
         "xaxis": "x",
         "y": [
          2.7570924758911133,
          -0.08158541470766068,
          -4.917910575866699
         ],
         "yaxis": "y"
        },
        {
         "hovertemplate": "color=Colaptes<br>TSNE1=%{x}<br>TSNE2=%{y}<extra></extra>",
         "legendgroup": "Colaptes",
         "marker": {
          "color": "#DD4477",
          "symbol": "circle"
         },
         "mode": "markers",
         "name": "Colaptes",
         "showlegend": true,
         "type": "scattergl",
         "x": [
          -5.352226734161377,
          -3.638976812362671,
          -5.014347553253174,
          -4.180075645446777,
          -6.534238815307617,
          -1.6492115259170532,
          2.870556354522705,
          -1.5671751499176025,
          2.8522703647613525,
          2.5722620487213135,
          -6.842300891876221,
          3.4510321617126465,
          -6.248477935791016,
          -4.199991226196289,
          0.3364575207233429,
          -1.9496841430664062
         ],
         "xaxis": "x",
         "y": [
          2.5830435752868652,
          -4.1682353019714355,
          3.432528257369995,
          -6.381590843200684,
          -2.242093563079834,
          -3.866246461868286,
          -1.7855173349380493,
          -7.135888576507568,
          -4.231633186340332,
          -8.036294937133789,
          -6.753170967102051,
          5.885634899139404,
          -1.5005075931549072,
          -6.3297810554504395,
          -7.712532043457031,
          -7.853363513946533
         ],
         "yaxis": "y"
        },
        {
         "hovertemplate": "color=Colibri<br>TSNE1=%{x}<br>TSNE2=%{y}<extra></extra>",
         "legendgroup": "Colibri",
         "marker": {
          "color": "#66AA00",
          "symbol": "circle"
         },
         "mode": "markers",
         "name": "Colibri",
         "showlegend": true,
         "type": "scattergl",
         "x": [
          1.132764458656311,
          8.66108512878418,
          5.027176380157471,
          -5.33159065246582,
          -0.0498393289744854,
          3.9772000312805176
         ],
         "xaxis": "x",
         "y": [
          -4.485311031341553,
          3.6564087867736816,
          -4.167755126953125,
          1.5661954879760742,
          3.264003038406372,
          7.471468925476074
         ],
         "yaxis": "y"
        },
        {
         "hovertemplate": "color=Colonia<br>TSNE1=%{x}<br>TSNE2=%{y}<extra></extra>",
         "legendgroup": "Colonia",
         "marker": {
          "color": "#B82E2E",
          "symbol": "circle"
         },
         "mode": "markers",
         "name": "Colonia",
         "showlegend": true,
         "type": "scattergl",
         "x": [
          -6.5724992752075195,
          2.2675232887268066
         ],
         "xaxis": "x",
         "y": [
          -6.865801811218262,
          -2.7266478538513184
         ],
         "yaxis": "y"
        },
        {
         "hovertemplate": "color=Columba<br>TSNE1=%{x}<br>TSNE2=%{y}<extra></extra>",
         "legendgroup": "Columba",
         "marker": {
          "color": "#316395",
          "symbol": "circle"
         },
         "mode": "markers",
         "name": "Columba",
         "showlegend": true,
         "type": "scattergl",
         "x": [
          1.7001585960388184,
          2.3346877098083496
         ],
         "xaxis": "x",
         "y": [
          -4.053971767425537,
          -2.8352010250091553
         ],
         "yaxis": "y"
        },
        {
         "hovertemplate": "color=Columbina<br>TSNE1=%{x}<br>TSNE2=%{y}<extra></extra>",
         "legendgroup": "Columbina",
         "marker": {
          "color": "#3366CC",
          "symbol": "circle"
         },
         "mode": "markers",
         "name": "Columbina",
         "showlegend": true,
         "type": "scattergl",
         "x": [
          6.507907390594482,
          -3.4995675086975098,
          0.5009779930114746
         ],
         "xaxis": "x",
         "y": [
          2.197457790374756,
          -8.756728172302246,
          -6.090341567993164
         ],
         "yaxis": "y"
        },
        {
         "hovertemplate": "color=Conioptilon<br>TSNE1=%{x}<br>TSNE2=%{y}<extra></extra>",
         "legendgroup": "Conioptilon",
         "marker": {
          "color": "#DC3912",
          "symbol": "circle"
         },
         "mode": "markers",
         "name": "Conioptilon",
         "showlegend": true,
         "type": "scattergl",
         "x": [
          -1.5625215768814087,
          1.0405302047729492
         ],
         "xaxis": "x",
         "y": [
          -2.721519947052002,
          -1.273755431175232
         ],
         "yaxis": "y"
        },
        {
         "hovertemplate": "color=Conirostrum<br>TSNE1=%{x}<br>TSNE2=%{y}<extra></extra>",
         "legendgroup": "Conirostrum",
         "marker": {
          "color": "#FF9900",
          "symbol": "circle"
         },
         "mode": "markers",
         "name": "Conirostrum",
         "showlegend": true,
         "type": "scattergl",
         "x": [
          1.7179423570632935,
          -2.151926040649414,
          -0.9913036823272705,
          -2.819769859313965,
          2.8819735050201416,
          3.9801766872406006,
          -0.1255476176738739
         ],
         "xaxis": "x",
         "y": [
          -4.2770280838012695,
          -5.348052024841309,
          -6.698851585388184,
          -4.95999002456665,
          -3.86777400970459,
          -3.7917048931121826,
          3.166954517364502
         ],
         "yaxis": "y"
        },
        {
         "hovertemplate": "color=Conopias<br>TSNE1=%{x}<br>TSNE2=%{y}<extra></extra>",
         "legendgroup": "Conopias",
         "marker": {
          "color": "#109618",
          "symbol": "circle"
         },
         "mode": "markers",
         "name": "Conopias",
         "showlegend": true,
         "type": "scattergl",
         "x": [
          -3.758014678955078,
          -6.7515363693237305,
          -3.6840293407440186,
          6.489880084991455,
          6.866769313812256
         ],
         "xaxis": "x",
         "y": [
          -2.0674307346343994,
          -2.030473470687866,
          -0.34311679005622864,
          -3.4245493412017822,
          -0.8941534757614136
         ],
         "yaxis": "y"
        },
        {
         "hovertemplate": "color=Conopophaga<br>TSNE1=%{x}<br>TSNE2=%{y}<extra></extra>",
         "legendgroup": "Conopophaga",
         "marker": {
          "color": "#990099",
          "symbol": "circle"
         },
         "mode": "markers",
         "name": "Conopophaga",
         "showlegend": true,
         "type": "scattergl",
         "x": [
          2.6492888927459717,
          -3.448183059692383,
          0.506013035774231,
          3.9239890575408936,
          -1.4100522994995117
         ],
         "xaxis": "x",
         "y": [
          -3.4113214015960693,
          -5.303234100341797,
          -4.4734578132629395,
          2.6858553886413574,
          0.9772996306419373
         ],
         "yaxis": "y"
        },
        {
         "hovertemplate": "color=Conothraupis<br>TSNE1=%{x}<br>TSNE2=%{y}<extra></extra>",
         "legendgroup": "Conothraupis",
         "marker": {
          "color": "#0099C6",
          "symbol": "circle"
         },
         "mode": "markers",
         "name": "Conothraupis",
         "showlegend": true,
         "type": "scattergl",
         "x": [
          -1.843241572380066,
          0.6759635806083679
         ],
         "xaxis": "x",
         "y": [
          -4.824472904205322,
          4.474173069000244
         ],
         "yaxis": "y"
        },
        {
         "hovertemplate": "color=Contopus<br>TSNE1=%{x}<br>TSNE2=%{y}<extra></extra>",
         "legendgroup": "Contopus",
         "marker": {
          "color": "#DD4477",
          "symbol": "circle"
         },
         "mode": "markers",
         "name": "Contopus",
         "showlegend": true,
         "type": "scattergl",
         "x": [
          3.7357351779937744,
          -3.8410637378692627,
          2.559452772140503,
          8.036269187927246,
          7.350944995880127,
          -6.875114440917969,
          -1.327978491783142,
          1.4756593704223633,
          -3.555783748626709,
          -1.7778505086898804,
          4.030033588409424
         ],
         "xaxis": "x",
         "y": [
          -1.1940704584121704,
          -0.6195530891418457,
          0.39732250571250916,
          -1.607596516609192,
          5.966255187988281,
          -4.049561023712158,
          -1.5962082147598267,
          -0.38186731934547424,
          -3.5701940059661865,
          -2.672002077102661,
          6.740029335021973
         ],
         "yaxis": "y"
        },
        {
         "hovertemplate": "color=Coragyps<br>TSNE1=%{x}<br>TSNE2=%{y}<extra></extra>",
         "legendgroup": "Coragyps",
         "marker": {
          "color": "#66AA00",
          "symbol": "circle"
         },
         "mode": "markers",
         "name": "Coragyps",
         "showlegend": true,
         "type": "scattergl",
         "x": [
          -3.727436065673828
         ],
         "xaxis": "x",
         "y": [
          -1.6099977493286133
         ],
         "yaxis": "y"
        },
        {
         "hovertemplate": "color=Coryphaspiza<br>TSNE1=%{x}<br>TSNE2=%{y}<extra></extra>",
         "legendgroup": "Coryphaspiza",
         "marker": {
          "color": "#B82E2E",
          "symbol": "circle"
         },
         "mode": "markers",
         "name": "Coryphaspiza",
         "showlegend": true,
         "type": "scattergl",
         "x": [
          -5.0432844161987305
         ],
         "xaxis": "x",
         "y": [
          -2.953623056411743
         ],
         "yaxis": "y"
        },
        {
         "hovertemplate": "color=Corythopis<br>TSNE1=%{x}<br>TSNE2=%{y}<extra></extra>",
         "legendgroup": "Corythopis",
         "marker": {
          "color": "#316395",
          "symbol": "circle"
         },
         "mode": "markers",
         "name": "Corythopis",
         "showlegend": true,
         "type": "scattergl",
         "x": [
          2.76493763923645
         ],
         "xaxis": "x",
         "y": [
          7.471836090087891
         ],
         "yaxis": "y"
        },
        {
         "hovertemplate": "color=Cotinga<br>TSNE1=%{x}<br>TSNE2=%{y}<extra></extra>",
         "legendgroup": "Cotinga",
         "marker": {
          "color": "#3366CC",
          "symbol": "circle"
         },
         "mode": "markers",
         "name": "Cotinga",
         "showlegend": true,
         "type": "scattergl",
         "x": [
          -7.055810451507568,
          -6.902194023132324,
          -6.845946311950684
         ],
         "xaxis": "x",
         "y": [
          -5.708501815795898,
          -2.9792885780334473,
          -4.1277971267700195
         ],
         "yaxis": "y"
        },
        {
         "hovertemplate": "color=Cranioleuca<br>TSNE1=%{x}<br>TSNE2=%{y}<extra></extra>",
         "legendgroup": "Cranioleuca",
         "marker": {
          "color": "#DC3912",
          "symbol": "circle"
         },
         "mode": "markers",
         "name": "Cranioleuca",
         "showlegend": true,
         "type": "scattergl",
         "x": [
          1.4919073581695557,
          1.348556637763977,
          -0.6932693123817444,
          8.237244606018066,
          2.4373362064361572,
          2.706087589263916,
          -3.072978973388672,
          6.143864631652832,
          5.885168075561523,
          -1.853926420211792
         ],
         "xaxis": "x",
         "y": [
          3.1525402069091797,
          -4.558364391326904,
          4.253775596618652,
          1.583906650543213,
          3.6868503093719482,
          -1.7278473377227783,
          -0.8818491697311401,
          4.168846130371094,
          4.018078804016113,
          -4.682586669921875
         ],
         "yaxis": "y"
        },
        {
         "hovertemplate": "color=Crax<br>TSNE1=%{x}<br>TSNE2=%{y}<extra></extra>",
         "legendgroup": "Crax",
         "marker": {
          "color": "#FF9900",
          "symbol": "circle"
         },
         "mode": "markers",
         "name": "Crax",
         "showlegend": true,
         "type": "scattergl",
         "x": [
          1.0145695209503174
         ],
         "xaxis": "x",
         "y": [
          -2.674978494644165
         ],
         "yaxis": "y"
        },
        {
         "hovertemplate": "color=Creurgops<br>TSNE1=%{x}<br>TSNE2=%{y}<extra></extra>",
         "legendgroup": "Creurgops",
         "marker": {
          "color": "#109618",
          "symbol": "circle"
         },
         "mode": "markers",
         "name": "Creurgops",
         "showlegend": true,
         "type": "scattergl",
         "x": [
          4.237917423248291
         ],
         "xaxis": "x",
         "y": [
          1.5905863046646118
         ],
         "yaxis": "y"
        },
        {
         "hovertemplate": "color=Crotophaga<br>TSNE1=%{x}<br>TSNE2=%{y}<extra></extra>",
         "legendgroup": "Crotophaga",
         "marker": {
          "color": "#990099",
          "symbol": "circle"
         },
         "mode": "markers",
         "name": "Crotophaga",
         "showlegend": true,
         "type": "scattergl",
         "x": [
          3.0840394496917725,
          2.064255475997925,
          2.866509437561035
         ],
         "xaxis": "x",
         "y": [
          3.2281394004821777,
          -0.0970216616988182,
          5.924853801727295
         ],
         "yaxis": "y"
        },
        {
         "hovertemplate": "color=Cryptopipo<br>TSNE1=%{x}<br>TSNE2=%{y}<extra></extra>",
         "legendgroup": "Cryptopipo",
         "marker": {
          "color": "#0099C6",
          "symbol": "circle"
         },
         "mode": "markers",
         "name": "Cryptopipo",
         "showlegend": true,
         "type": "scattergl",
         "x": [
          3.8679051399230957
         ],
         "xaxis": "x",
         "y": [
          1.3547415733337402
         ],
         "yaxis": "y"
        },
        {
         "hovertemplate": "color=Crypturellus<br>TSNE1=%{x}<br>TSNE2=%{y}<extra></extra>",
         "legendgroup": "Crypturellus",
         "marker": {
          "color": "#DD4477",
          "symbol": "circle"
         },
         "mode": "markers",
         "name": "Crypturellus",
         "showlegend": true,
         "type": "scattergl",
         "x": [
          -1.033821702003479,
          3.327047348022461,
          6.8282670974731445,
          0.45586585998535156,
          -0.7572298645973206,
          -1.656404733657837,
          2.2070152759552,
          3.920027732849121,
          6.041438579559326,
          0.851426899433136,
          -2.7385435104370117,
          -1.980769157409668,
          4.799830436706543,
          2.153691291809082,
          -1.1766856908798218,
          -4.457057952880859,
          0.6503111124038696,
          -6.577226638793945
         ],
         "xaxis": "x",
         "y": [
          9.22876262664795,
          0.12861277163028717,
          6.584293365478516,
          -4.962340354919434,
          -0.9723243713378906,
          6.920101642608643,
          6.163919925689697,
          -5.318751335144043,
          -0.6567279696464539,
          -0.9739410877227783,
          2.910041570663452,
          3.69685697555542,
          4.66849946975708,
          5.780766487121582,
          8.641393661499023,
          4.690124034881592,
          3.7555110454559326,
          -0.4902690649032593
         ],
         "yaxis": "y"
        },
        {
         "hovertemplate": "color=Cyanerpes<br>TSNE1=%{x}<br>TSNE2=%{y}<extra></extra>",
         "legendgroup": "Cyanerpes",
         "marker": {
          "color": "#66AA00",
          "symbol": "circle"
         },
         "mode": "markers",
         "name": "Cyanerpes",
         "showlegend": true,
         "type": "scattergl",
         "x": [
          6.874337196350098,
          2.1070494651794434,
          3.709456443786621,
          1.2648285627365112
         ],
         "xaxis": "x",
         "y": [
          2.0240445137023926,
          -1.9554661512374878,
          -2.807609796524048,
          -2.085148811340332
         ],
         "yaxis": "y"
        },
        {
         "hovertemplate": "color=Cyanocorax<br>TSNE1=%{x}<br>TSNE2=%{y}<extra></extra>",
         "legendgroup": "Cyanocorax",
         "marker": {
          "color": "#B82E2E",
          "symbol": "circle"
         },
         "mode": "markers",
         "name": "Cyanocorax",
         "showlegend": true,
         "type": "scattergl",
         "x": [
          3.0316224098205566,
          -1.2846019268035889,
          3.8825786113739014,
          -1.095117211341858,
          8.297725677490234,
          -0.4201185703277588,
          3.1794004440307617,
          -1.0202181339263916
         ],
         "xaxis": "x",
         "y": [
          2.9767847061157227,
          -1.1810084581375122,
          -2.0837314128875732,
          -2.3127377033233643,
          4.7695512771606445,
          -5.690550804138184,
          -0.2750774323940277,
          -0.13701634109020233
         ],
         "yaxis": "y"
        },
        {
         "hovertemplate": "color=Cyanolyca<br>TSNE1=%{x}<br>TSNE2=%{y}<extra></extra>",
         "legendgroup": "Cyanolyca",
         "marker": {
          "color": "#316395",
          "symbol": "circle"
         },
         "mode": "markers",
         "name": "Cyanolyca",
         "showlegend": true,
         "type": "scattergl",
         "x": [
          1.1183644533157349
         ],
         "xaxis": "x",
         "y": [
          -6.003413677215576
         ],
         "yaxis": "y"
        },
        {
         "hovertemplate": "color=Cyclarhis<br>TSNE1=%{x}<br>TSNE2=%{y}<extra></extra>",
         "legendgroup": "Cyclarhis",
         "marker": {
          "color": "#3366CC",
          "symbol": "circle"
         },
         "mode": "markers",
         "name": "Cyclarhis",
         "showlegend": true,
         "type": "scattergl",
         "x": [
          -4.150569438934326,
          0.7972787618637085,
          3.1262660026550293
         ],
         "xaxis": "x",
         "y": [
          1.354540228843689,
          3.007690191268921,
          2.5667521953582764
         ],
         "yaxis": "y"
        },
        {
         "hovertemplate": "color=Cymbilaimus<br>TSNE1=%{x}<br>TSNE2=%{y}<extra></extra>",
         "legendgroup": "Cymbilaimus",
         "marker": {
          "color": "#DC3912",
          "symbol": "circle"
         },
         "mode": "markers",
         "name": "Cymbilaimus",
         "showlegend": true,
         "type": "scattergl",
         "x": [
          -3.4920907020568848,
          2.464360475540161,
          -2.2608370780944824,
          0.5264014005661011,
          -1.9350574016571045,
          -0.22416169941425323,
          -1.4129173755645752,
          -2.735281467437744
         ],
         "xaxis": "x",
         "y": [
          -5.938615798950195,
          0.47997137904167175,
          5.113758563995361,
          6.527443885803223,
          6.261562824249268,
          7.260557651519775,
          4.7730793952941895,
          5.839313983917236
         ],
         "yaxis": "y"
        },
        {
         "hovertemplate": "color=Cyphorhinus<br>TSNE1=%{x}<br>TSNE2=%{y}<extra></extra>",
         "legendgroup": "Cyphorhinus",
         "marker": {
          "color": "#FF9900",
          "symbol": "circle"
         },
         "mode": "markers",
         "name": "Cyphorhinus",
         "showlegend": true,
         "type": "scattergl",
         "x": [
          -0.7916145324707031
         ],
         "xaxis": "x",
         "y": [
          3.3960468769073486
         ],
         "yaxis": "y"
        },
        {
         "hovertemplate": "color=Cypseloides<br>TSNE1=%{x}<br>TSNE2=%{y}<extra></extra>",
         "legendgroup": "Cypseloides",
         "marker": {
          "color": "#109618",
          "symbol": "circle"
         },
         "mode": "markers",
         "name": "Cypseloides",
         "showlegend": true,
         "type": "scattergl",
         "x": [
          4.031662940979004
         ],
         "xaxis": "x",
         "y": [
          -4.654627323150635
         ],
         "yaxis": "y"
        },
        {
         "hovertemplate": "color=Dacnis<br>TSNE1=%{x}<br>TSNE2=%{y}<extra></extra>",
         "legendgroup": "Dacnis",
         "marker": {
          "color": "#990099",
          "symbol": "circle"
         },
         "mode": "markers",
         "name": "Dacnis",
         "showlegend": true,
         "type": "scattergl",
         "x": [
          6.639129161834717,
          5.160726070404053,
          -6.109885215759277,
          -2.6417481899261475,
          6.302908420562744,
          -0.4880523681640625
         ],
         "xaxis": "x",
         "y": [
          -1.4846774339675903,
          1.040755271911621,
          0.7973616123199463,
          -4.335028648376465,
          0.5751820802688599,
          -5.337662220001221
         ],
         "yaxis": "y"
        },
        {
         "hovertemplate": "color=Daptrius<br>TSNE1=%{x}<br>TSNE2=%{y}<extra></extra>",
         "legendgroup": "Daptrius",
         "marker": {
          "color": "#0099C6",
          "symbol": "circle"
         },
         "mode": "markers",
         "name": "Daptrius",
         "showlegend": true,
         "type": "scattergl",
         "x": [
          1.7300732135772705,
          -2.9236598014831543,
          -0.9435535669326782,
          1.9651010036468506,
          -4.247272491455078
         ],
         "xaxis": "x",
         "y": [
          0.3451420068740845,
          -2.6553711891174316,
          1.4211585521697998,
          3.121044397354126,
          -2.0348756313323975
         ],
         "yaxis": "y"
        },
        {
         "hovertemplate": "color=Deconychura<br>TSNE1=%{x}<br>TSNE2=%{y}<extra></extra>",
         "legendgroup": "Deconychura",
         "marker": {
          "color": "#DD4477",
          "symbol": "circle"
         },
         "mode": "markers",
         "name": "Deconychura",
         "showlegend": true,
         "type": "scattergl",
         "x": [
          7.7498779296875,
          0.17655764520168304
         ],
         "xaxis": "x",
         "y": [
          2.2293970584869385,
          3.893497943878174
         ],
         "yaxis": "y"
        },
        {
         "hovertemplate": "color=Dendrexetastes<br>TSNE1=%{x}<br>TSNE2=%{y}<extra></extra>",
         "legendgroup": "Dendrexetastes",
         "marker": {
          "color": "#66AA00",
          "symbol": "circle"
         },
         "mode": "markers",
         "name": "Dendrexetastes",
         "showlegend": true,
         "type": "scattergl",
         "x": [
          -2.555574417114258,
          -0.8297733068466187
         ],
         "xaxis": "x",
         "y": [
          7.022516250610352,
          8.665680885314941
         ],
         "yaxis": "y"
        },
        {
         "hovertemplate": "color=Dendrocincla<br>TSNE1=%{x}<br>TSNE2=%{y}<extra></extra>",
         "legendgroup": "Dendrocincla",
         "marker": {
          "color": "#B82E2E",
          "symbol": "circle"
         },
         "mode": "markers",
         "name": "Dendrocincla",
         "showlegend": true,
         "type": "scattergl",
         "x": [
          -7.032810211181641,
          -5.94680643081665,
          -6.972293853759766,
          3.3750159740448,
          0.8034358620643616,
          -4.467486381530762
         ],
         "xaxis": "x",
         "y": [
          -1.3231816291809082,
          -2.5340723991394043,
          -3.273930549621582,
          -3.975369691848755,
          -5.126534938812256,
          -6.361698150634766
         ],
         "yaxis": "y"
        },
        {
         "hovertemplate": "color=Dendrocolaptes<br>TSNE1=%{x}<br>TSNE2=%{y}<extra></extra>",
         "legendgroup": "Dendrocolaptes",
         "marker": {
          "color": "#316395",
          "symbol": "circle"
         },
         "mode": "markers",
         "name": "Dendrocolaptes",
         "showlegend": true,
         "type": "scattergl",
         "x": [
          3.113915205001831,
          -1.807444453239441,
          6.054346561431885,
          0.8343555927276611,
          0.9782004356384277,
          -3.0298755168914795
         ],
         "xaxis": "x",
         "y": [
          0.8204599022865295,
          6.9508891105651855,
          1.030733585357666,
          4.49802303314209,
          6.5684309005737305,
          4.355312824249268
         ],
         "yaxis": "y"
        },
        {
         "hovertemplate": "color=Dendrocygna<br>TSNE1=%{x}<br>TSNE2=%{y}<extra></extra>",
         "legendgroup": "Dendrocygna",
         "marker": {
          "color": "#3366CC",
          "symbol": "circle"
         },
         "mode": "markers",
         "name": "Dendrocygna",
         "showlegend": true,
         "type": "scattergl",
         "x": [
          -6.080134868621826,
          -1.6934850215911865,
          -3.1606292724609375
         ],
         "xaxis": "x",
         "y": [
          -1.712425708770752,
          -8.385462760925293,
          -5.758537769317627
         ],
         "yaxis": "y"
        },
        {
         "hovertemplate": "color=Dendroplex<br>TSNE1=%{x}<br>TSNE2=%{y}<extra></extra>",
         "legendgroup": "Dendroplex",
         "marker": {
          "color": "#DC3912",
          "symbol": "circle"
         },
         "mode": "markers",
         "name": "Dendroplex",
         "showlegend": true,
         "type": "scattergl",
         "x": [
          -1.1768497228622437,
          -5.955322742462158
         ],
         "xaxis": "x",
         "y": [
          1.2966049909591675,
          -0.6147745251655579
         ],
         "yaxis": "y"
        },
        {
         "hovertemplate": "color=Dichrozona<br>TSNE1=%{x}<br>TSNE2=%{y}<extra></extra>",
         "legendgroup": "Dichrozona",
         "marker": {
          "color": "#FF9900",
          "symbol": "circle"
         },
         "mode": "markers",
         "name": "Dichrozona",
         "showlegend": true,
         "type": "scattergl",
         "x": [
          4.82676362991333,
          0.8766809701919556,
          5.264095783233643
         ],
         "xaxis": "x",
         "y": [
          0.20110681653022766,
          -2.9628794193267822,
          2.2177555561065674
         ],
         "yaxis": "y"
        },
        {
         "hovertemplate": "color=Diglossa<br>TSNE1=%{x}<br>TSNE2=%{y}<extra></extra>",
         "legendgroup": "Diglossa",
         "marker": {
          "color": "#109618",
          "symbol": "circle"
         },
         "mode": "markers",
         "name": "Diglossa",
         "showlegend": true,
         "type": "scattergl",
         "x": [
          -5.940526008605957,
          1.6389816999435425,
          -3.8654050827026367,
          -5.076162338256836,
          0.9236670732498169,
          -6.03457498550415,
          6.064149379730225
         ],
         "xaxis": "x",
         "y": [
          -2.9267187118530273,
          3.3082029819488525,
          -1.4503016471862793,
          1.7459559440612793,
          -1.9054983854293823,
          -0.22847074270248413,
          1.4437452554702759
         ],
         "yaxis": "y"
        },
        {
         "hovertemplate": "color=Diopsittaca<br>TSNE1=%{x}<br>TSNE2=%{y}<extra></extra>",
         "legendgroup": "Diopsittaca",
         "marker": {
          "color": "#990099",
          "symbol": "circle"
         },
         "mode": "markers",
         "name": "Diopsittaca",
         "showlegend": true,
         "type": "scattergl",
         "x": [
          -0.27288880944252014,
          3.3009085655212402
         ],
         "xaxis": "x",
         "y": [
          2.5599372386932373,
          2.8120086193084717
         ],
         "yaxis": "y"
        },
        {
         "hovertemplate": "color=Discosura<br>TSNE1=%{x}<br>TSNE2=%{y}<extra></extra>",
         "legendgroup": "Discosura",
         "marker": {
          "color": "#0099C6",
          "symbol": "circle"
         },
         "mode": "markers",
         "name": "Discosura",
         "showlegend": true,
         "type": "scattergl",
         "x": [
          0.19340427219867706,
          -4.621551513671875,
          0.20569530129432678,
          -4.7048444747924805
         ],
         "xaxis": "x",
         "y": [
          0.6357675790786743,
          -8.241545677185059,
          -4.462993144989014,
          -6.434300422668457
         ],
         "yaxis": "y"
        },
        {
         "hovertemplate": "color=Dolichonyx<br>TSNE1=%{x}<br>TSNE2=%{y}<extra></extra>",
         "legendgroup": "Dolichonyx",
         "marker": {
          "color": "#DD4477",
          "symbol": "circle"
         },
         "mode": "markers",
         "name": "Dolichonyx",
         "showlegend": true,
         "type": "scattergl",
         "x": [
          -3.9144811630249023
         ],
         "xaxis": "x",
         "y": [
          5.219151973724365
         ],
         "yaxis": "y"
        },
        {
         "hovertemplate": "color=Donacobius<br>TSNE1=%{x}<br>TSNE2=%{y}<extra></extra>",
         "legendgroup": "Donacobius",
         "marker": {
          "color": "#66AA00",
          "symbol": "circle"
         },
         "mode": "markers",
         "name": "Donacobius",
         "showlegend": true,
         "type": "scattergl",
         "x": [
          5.196559906005859,
          -3.6911470890045166,
          8.300467491149902
         ],
         "xaxis": "x",
         "y": [
          4.791975975036621,
          6.05630350112915,
          2.0406835079193115
         ],
         "yaxis": "y"
        },
        {
         "hovertemplate": "color=Doryfera<br>TSNE1=%{x}<br>TSNE2=%{y}<extra></extra>",
         "legendgroup": "Doryfera",
         "marker": {
          "color": "#B82E2E",
          "symbol": "circle"
         },
         "mode": "markers",
         "name": "Doryfera",
         "showlegend": true,
         "type": "scattergl",
         "x": [
          5.032655239105225,
          8.76655101776123,
          -1.0764695405960083,
          -6.2917985916137695,
          6.0872802734375
         ],
         "xaxis": "x",
         "y": [
          -3.005885362625122,
          3.185882091522217,
          -0.8672540783882141,
          -6.480407238006592,
          -3.6207141876220703
         ],
         "yaxis": "y"
        },
        {
         "hovertemplate": "color=Dromococcyx<br>TSNE1=%{x}<br>TSNE2=%{y}<extra></extra>",
         "legendgroup": "Dromococcyx",
         "marker": {
          "color": "#316395",
          "symbol": "circle"
         },
         "mode": "markers",
         "name": "Dromococcyx",
         "showlegend": true,
         "type": "scattergl",
         "x": [
          -4.542191982269287,
          -4.533975124359131
         ],
         "xaxis": "x",
         "y": [
          0.42099690437316895,
          0.5238950848579407
         ],
         "yaxis": "y"
        },
        {
         "hovertemplate": "color=Drymophila<br>TSNE1=%{x}<br>TSNE2=%{y}<extra></extra>",
         "legendgroup": "Drymophila",
         "marker": {
          "color": "#3366CC",
          "symbol": "circle"
         },
         "mode": "markers",
         "name": "Drymophila",
         "showlegend": true,
         "type": "scattergl",
         "x": [
          -0.8679754137992859,
          -1.8876837491989136,
          -1.721376895904541,
          -2.6912569999694824,
          -0.491407573223114
         ],
         "xaxis": "x",
         "y": [
          4.3208513259887695,
          4.655844211578369,
          4.444597244262695,
          1.1845732927322388,
          3.1147713661193848
         ],
         "yaxis": "y"
        },
        {
         "hovertemplate": "color=Dryocopus<br>TSNE1=%{x}<br>TSNE2=%{y}<extra></extra>",
         "legendgroup": "Dryocopus",
         "marker": {
          "color": "#DC3912",
          "symbol": "circle"
         },
         "mode": "markers",
         "name": "Dryocopus",
         "showlegend": true,
         "type": "scattergl",
         "x": [
          3.296996831893921,
          1.5230581760406494,
          -1.3602787256240845,
          3.0212771892547607
         ],
         "xaxis": "x",
         "y": [
          -4.756078720092773,
          -0.2990352213382721,
          8.04596996307373,
          3.2823314666748047
         ],
         "yaxis": "y"
        },
        {
         "hovertemplate": "color=Dubusia<br>TSNE1=%{x}<br>TSNE2=%{y}<extra></extra>",
         "legendgroup": "Dubusia",
         "marker": {
          "color": "#FF9900",
          "symbol": "circle"
         },
         "mode": "markers",
         "name": "Dubusia",
         "showlegend": true,
         "type": "scattergl",
         "x": [
          -1.376044750213623
         ],
         "xaxis": "x",
         "y": [
          2.3884623050689697
         ],
         "yaxis": "y"
        },
        {
         "hovertemplate": "color=Dysithamnus<br>TSNE1=%{x}<br>TSNE2=%{y}<extra></extra>",
         "legendgroup": "Dysithamnus",
         "marker": {
          "color": "#109618",
          "symbol": "circle"
         },
         "mode": "markers",
         "name": "Dysithamnus",
         "showlegend": true,
         "type": "scattergl",
         "x": [
          -3.865846633911133
         ],
         "xaxis": "x",
         "y": [
          -2.088012933731079
         ],
         "yaxis": "y"
        },
        {
         "hovertemplate": "color=Egretta<br>TSNE1=%{x}<br>TSNE2=%{y}<extra></extra>",
         "legendgroup": "Egretta",
         "marker": {
          "color": "#990099",
          "symbol": "circle"
         },
         "mode": "markers",
         "name": "Egretta",
         "showlegend": true,
         "type": "scattergl",
         "x": [
          -3.642568826675415,
          -0.5927978754043579,
          2.00956654548645,
          -3.6831133365631104,
          -5.008411407470703
         ],
         "xaxis": "x",
         "y": [
          -7.315902233123779,
          1.1522191762924194,
          -6.4810566902160645,
          -7.101870059967041,
          -8.044547080993652
         ],
         "yaxis": "y"
        },
        {
         "hovertemplate": "color=Elaenia<br>TSNE1=%{x}<br>TSNE2=%{y}<extra></extra>",
         "legendgroup": "Elaenia",
         "marker": {
          "color": "#0099C6",
          "symbol": "circle"
         },
         "mode": "markers",
         "name": "Elaenia",
         "showlegend": true,
         "type": "scattergl",
         "x": [
          4.858187675476074,
          -1.264570713043213,
          6.598904132843018,
          -5.123215198516846,
          -2.2486751079559326,
          -4.678051948547363,
          -7.069767951965332,
          3.423276901245117,
          -1.6392669677734375,
          -3.7820165157318115,
          -1.9958189725875854
         ],
         "xaxis": "x",
         "y": [
          6.150832176208496,
          -0.7257134914398193,
          2.9967641830444336,
          -2.6284632682800293,
          -6.389361381530762,
          3.5514237880706787,
          -4.814335346221924,
          -4.250043869018555,
          0.7775024175643921,
          -2.9989259243011475,
          0.10262849926948547
         ],
         "yaxis": "y"
        },
        {
         "hovertemplate": "color=Elanoides<br>TSNE1=%{x}<br>TSNE2=%{y}<extra></extra>",
         "legendgroup": "Elanoides",
         "marker": {
          "color": "#DD4477",
          "symbol": "circle"
         },
         "mode": "markers",
         "name": "Elanoides",
         "showlegend": true,
         "type": "scattergl",
         "x": [
          -3.718458890914917,
          -3.372166156768799
         ],
         "xaxis": "x",
         "y": [
          -1.3239108324050903,
          -8.145246505737305
         ],
         "yaxis": "y"
        },
        {
         "hovertemplate": "color=Elanus<br>TSNE1=%{x}<br>TSNE2=%{y}<extra></extra>",
         "legendgroup": "Elanus",
         "marker": {
          "color": "#66AA00",
          "symbol": "circle"
         },
         "mode": "markers",
         "name": "Elanus",
         "showlegend": true,
         "type": "scattergl",
         "x": [
          7.1537089347839355
         ],
         "xaxis": "x",
         "y": [
          6.298260688781738
         ],
         "yaxis": "y"
        },
        {
         "hovertemplate": "color=Electron<br>TSNE1=%{x}<br>TSNE2=%{y}<extra></extra>",
         "legendgroup": "Electron",
         "marker": {
          "color": "#B82E2E",
          "symbol": "circle"
         },
         "mode": "markers",
         "name": "Electron",
         "showlegend": true,
         "type": "scattergl",
         "x": [
          -2.367126703262329,
          1.2168923616409302
         ],
         "xaxis": "x",
         "y": [
          -0.8804664015769958,
          -3.677996873855591
         ],
         "yaxis": "y"
        },
        {
         "hovertemplate": "color=Emberizoides<br>TSNE1=%{x}<br>TSNE2=%{y}<extra></extra>",
         "legendgroup": "Emberizoides",
         "marker": {
          "color": "#316395",
          "symbol": "circle"
         },
         "mode": "markers",
         "name": "Emberizoides",
         "showlegend": true,
         "type": "scattergl",
         "x": [
          -1.6500723361968994,
          5.375174522399902
         ],
         "xaxis": "x",
         "y": [
          -3.2960493564605713,
          3.848330020904541
         ],
         "yaxis": "y"
        },
        {
         "hovertemplate": "color=Empidonax<br>TSNE1=%{x}<br>TSNE2=%{y}<extra></extra>",
         "legendgroup": "Empidonax",
         "marker": {
          "color": "#3366CC",
          "symbol": "circle"
         },
         "mode": "markers",
         "name": "Empidonax",
         "showlegend": true,
         "type": "scattergl",
         "x": [
          -4.368201732635498
         ],
         "xaxis": "x",
         "y": [
          -5.281472206115723
         ],
         "yaxis": "y"
        },
        {
         "hovertemplate": "color=Empidonomus<br>TSNE1=%{x}<br>TSNE2=%{y}<extra></extra>",
         "legendgroup": "Empidonomus",
         "marker": {
          "color": "#DC3912",
          "symbol": "circle"
         },
         "mode": "markers",
         "name": "Empidonomus",
         "showlegend": true,
         "type": "scattergl",
         "x": [
          -5.318790435791016,
          -0.810033917427063
         ],
         "xaxis": "x",
         "y": [
          -6.027844429016113,
          2.762267589569092
         ],
         "yaxis": "y"
        },
        {
         "hovertemplate": "color=Entomodestes<br>TSNE1=%{x}<br>TSNE2=%{y}<extra></extra>",
         "legendgroup": "Entomodestes",
         "marker": {
          "color": "#FF9900",
          "symbol": "circle"
         },
         "mode": "markers",
         "name": "Entomodestes",
         "showlegend": true,
         "type": "scattergl",
         "x": [
          -6.5837531089782715,
          -3.592991352081299
         ],
         "xaxis": "x",
         "y": [
          -1.1404783725738525,
          1.8950481414794922
         ],
         "yaxis": "y"
        },
        {
         "hovertemplate": "color=Epinecrophylla<br>TSNE1=%{x}<br>TSNE2=%{y}<extra></extra>",
         "legendgroup": "Epinecrophylla",
         "marker": {
          "color": "#109618",
          "symbol": "circle"
         },
         "mode": "markers",
         "name": "Epinecrophylla",
         "showlegend": true,
         "type": "scattergl",
         "x": [
          -2.9940807819366455,
          -1.506026029586792,
          -3.1762964725494385,
          -0.23343931138515472,
          -0.4780525267124176,
          -1.4779162406921387,
          -0.8748510479927063,
          6.489895343780518,
          -3.2047462463378906,
          2.517116069793701
         ],
         "xaxis": "x",
         "y": [
          2.284654378890991,
          1.6085278987884521,
          2.1073098182678223,
          2.421159505844116,
          4.596800804138184,
          2.5703585147857666,
          -0.18929484486579895,
          -1.1265212297439575,
          -2.1931822299957275,
          2.3994858264923096
         ],
         "yaxis": "y"
        },
        {
         "hovertemplate": "color=Eubucco<br>TSNE1=%{x}<br>TSNE2=%{y}<extra></extra>",
         "legendgroup": "Eubucco",
         "marker": {
          "color": "#990099",
          "symbol": "circle"
         },
         "mode": "markers",
         "name": "Eubucco",
         "showlegend": true,
         "type": "scattergl",
         "x": [
          6.215351581573486,
          -2.0490715503692627
         ],
         "xaxis": "x",
         "y": [
          -4.028291702270508,
          4.2041215896606445
         ],
         "yaxis": "y"
        },
        {
         "hovertemplate": "color=Euchrepomis<br>TSNE1=%{x}<br>TSNE2=%{y}<extra></extra>",
         "legendgroup": "Euchrepomis",
         "marker": {
          "color": "#0099C6",
          "symbol": "circle"
         },
         "mode": "markers",
         "name": "Euchrepomis",
         "showlegend": true,
         "type": "scattergl",
         "x": [
          -3.972136974334717,
          -4.2676215171813965,
          -4.608923435211182,
          1.5141850709915161,
          -3.346555709838867
         ],
         "xaxis": "x",
         "y": [
          2.09189772605896,
          0.06472697108983994,
          3.0059306621551514,
          3.810741424560547,
          6.122872829437256
         ],
         "yaxis": "y"
        },
        {
         "hovertemplate": "color=Eucometis<br>TSNE1=%{x}<br>TSNE2=%{y}<extra></extra>",
         "legendgroup": "Eucometis",
         "marker": {
          "color": "#DD4477",
          "symbol": "circle"
         },
         "mode": "markers",
         "name": "Eucometis",
         "showlegend": true,
         "type": "scattergl",
         "x": [
          -1.730205774307251,
          -3.194563865661621
         ],
         "xaxis": "x",
         "y": [
          -7.6603522300720215,
          6.163858413696289
         ],
         "yaxis": "y"
        },
        {
         "hovertemplate": "color=Eupetomena<br>TSNE1=%{x}<br>TSNE2=%{y}<extra></extra>",
         "legendgroup": "Eupetomena",
         "marker": {
          "color": "#66AA00",
          "symbol": "circle"
         },
         "mode": "markers",
         "name": "Eupetomena",
         "showlegend": true,
         "type": "scattergl",
         "x": [
          8.012937545776367,
          2.623300790786743,
          3.728386402130127
         ],
         "xaxis": "x",
         "y": [
          -1.962813138961792,
          -7.830502033233643,
          -4.59373140335083
         ],
         "yaxis": "y"
        },
        {
         "hovertemplate": "color=Euphonia<br>TSNE1=%{x}<br>TSNE2=%{y}<extra></extra>",
         "legendgroup": "Euphonia",
         "marker": {
          "color": "#B82E2E",
          "symbol": "circle"
         },
         "mode": "markers",
         "name": "Euphonia",
         "showlegend": true,
         "type": "scattergl",
         "x": [
          6.14443302154541,
          8.137909889221191,
          -6.330915451049805,
          3.74759840965271,
          0.6215493679046631,
          -4.0550689697265625,
          -2.132215738296509,
          -4.294948577880859,
          -2.1511573791503906,
          4.51223087310791,
          8.90717887878418,
          7.471014022827148,
          0.06471311300992966,
          -5.6876325607299805,
          -4.7821221351623535,
          -6.616410255432129
         ],
         "xaxis": "x",
         "y": [
          -1.2174659967422485,
          1.5615077018737793,
          -2.8129444122314453,
          6.552913188934326,
          -4.283780574798584,
          3.055124044418335,
          3.952035665512085,
          -2.274042844772339,
          -5.6393351554870605,
          -1.0399185419082642,
          2.015537977218628,
          3.3543601036071777,
          -0.09577701985836029,
          2.1565470695495605,
          4.15692138671875,
          -2.623615026473999
         ],
         "yaxis": "y"
        },
        {
         "hovertemplate": "color=Eupsittula<br>TSNE1=%{x}<br>TSNE2=%{y}<extra></extra>",
         "legendgroup": "Eupsittula",
         "marker": {
          "color": "#316395",
          "symbol": "circle"
         },
         "mode": "markers",
         "name": "Eupsittula",
         "showlegend": true,
         "type": "scattergl",
         "x": [
          2.0300285816192627,
          1.86544668674469
         ],
         "xaxis": "x",
         "y": [
          -3.509599208831787,
          0.377470999956131
         ],
         "yaxis": "y"
        },
        {
         "hovertemplate": "color=Eurypyga<br>TSNE1=%{x}<br>TSNE2=%{y}<extra></extra>",
         "legendgroup": "Eurypyga",
         "marker": {
          "color": "#3366CC",
          "symbol": "circle"
         },
         "mode": "markers",
         "name": "Eurypyga",
         "showlegend": true,
         "type": "scattergl",
         "x": [
          1.8205853700637817
         ],
         "xaxis": "x",
         "y": [
          -3.7464537620544434
         ],
         "yaxis": "y"
        },
        {
         "hovertemplate": "color=Euscarthmus<br>TSNE1=%{x}<br>TSNE2=%{y}<extra></extra>",
         "legendgroup": "Euscarthmus",
         "marker": {
          "color": "#DC3912",
          "symbol": "circle"
         },
         "mode": "markers",
         "name": "Euscarthmus",
         "showlegend": true,
         "type": "scattergl",
         "x": [
          2.091770648956299,
          -3.4940834045410156
         ],
         "xaxis": "x",
         "y": [
          -4.082755088806152,
          -2.8591067790985107
         ],
         "yaxis": "y"
        },
        {
         "hovertemplate": "color=Eutoxeres<br>TSNE1=%{x}<br>TSNE2=%{y}<extra></extra>",
         "legendgroup": "Eutoxeres",
         "marker": {
          "color": "#FF9900",
          "symbol": "circle"
         },
         "mode": "markers",
         "name": "Eutoxeres",
         "showlegend": true,
         "type": "scattergl",
         "x": [
          1.8859692811965942
         ],
         "xaxis": "x",
         "y": [
          6.269595146179199
         ],
         "yaxis": "y"
        },
        {
         "hovertemplate": "color=Falco<br>TSNE1=%{x}<br>TSNE2=%{y}<extra></extra>",
         "legendgroup": "Falco",
         "marker": {
          "color": "#109618",
          "symbol": "circle"
         },
         "mode": "markers",
         "name": "Falco",
         "showlegend": true,
         "type": "scattergl",
         "x": [
          0.6220067739486694,
          -4.566100120544434,
          6.652898788452148,
          -2.408818006515503,
          2.6527891159057617,
          -1.679505705833435,
          -3.750368595123291,
          -3.6121439933776855,
          -1.3213917016983032,
          -4.722032070159912,
          -5.50246000289917,
          -1.144418716430664,
          3.65612530708313,
          2.5094664096832275
         ],
         "xaxis": "x",
         "y": [
          -1.4978270530700684,
          2.741269588470459,
          -1.4275052547454834,
          8.189440727233887,
          -4.535322666168213,
          -5.339414596557617,
          5.5262932777404785,
          -0.4082357585430145,
          6.452073574066162,
          3.104857921600342,
          -2.5051209926605225,
          -3.103990077972412,
          -5.112115859985352,
          6.4854302406311035
         ],
         "yaxis": "y"
        },
        {
         "hovertemplate": "color=Florisuga<br>TSNE1=%{x}<br>TSNE2=%{y}<extra></extra>",
         "legendgroup": "Florisuga",
         "marker": {
          "color": "#990099",
          "symbol": "circle"
         },
         "mode": "markers",
         "name": "Florisuga",
         "showlegend": true,
         "type": "scattergl",
         "x": [
          -0.31086739897727966
         ],
         "xaxis": "x",
         "y": [
          -8.393778800964355
         ],
         "yaxis": "y"
        },
        {
         "hovertemplate": "color=Fluvicola<br>TSNE1=%{x}<br>TSNE2=%{y}<extra></extra>",
         "legendgroup": "Fluvicola",
         "marker": {
          "color": "#0099C6",
          "symbol": "circle"
         },
         "mode": "markers",
         "name": "Fluvicola",
         "showlegend": true,
         "type": "scattergl",
         "x": [
          4.809903144836426,
          -5.018897533416748
         ],
         "xaxis": "x",
         "y": [
          0.8167406916618347,
          -7.4679341316223145
         ],
         "yaxis": "y"
        },
        {
         "hovertemplate": "color=Formicarius<br>TSNE1=%{x}<br>TSNE2=%{y}<extra></extra>",
         "legendgroup": "Formicarius",
         "marker": {
          "color": "#DD4477",
          "symbol": "circle"
         },
         "mode": "markers",
         "name": "Formicarius",
         "showlegend": true,
         "type": "scattergl",
         "x": [
          -5.71049165725708,
          -2.9112257957458496,
          -3.4368999004364014,
          -0.6711165308952332,
          -3.019164562225342,
          -6.1047844886779785,
          -4.96352481842041
         ],
         "xaxis": "x",
         "y": [
          -2.5517849922180176,
          -1.324923038482666,
          5.28055477142334,
          8.244749069213867,
          6.820907115936279,
          0.8567459583282471,
          -8.287394523620605
         ],
         "yaxis": "y"
        },
        {
         "hovertemplate": "color=Formicivora<br>TSNE1=%{x}<br>TSNE2=%{y}<extra></extra>",
         "legendgroup": "Formicivora",
         "marker": {
          "color": "#66AA00",
          "symbol": "circle"
         },
         "mode": "markers",
         "name": "Formicivora",
         "showlegend": true,
         "type": "scattergl",
         "x": [
          5.716680526733398,
          2.876107692718506
         ],
         "xaxis": "x",
         "y": [
          0.05352490395307541,
          -6.358053207397461
         ],
         "yaxis": "y"
        },
        {
         "hovertemplate": "color=Forpus<br>TSNE1=%{x}<br>TSNE2=%{y}<extra></extra>",
         "legendgroup": "Forpus",
         "marker": {
          "color": "#B82E2E",
          "symbol": "circle"
         },
         "mode": "markers",
         "name": "Forpus",
         "showlegend": true,
         "type": "scattergl",
         "x": [
          2.608351707458496,
          5.013794422149658,
          0.5137766599655151,
          3.6903886795043945
         ],
         "xaxis": "x",
         "y": [
          -3.1407437324523926,
          4.492455005645752,
          -1.049721360206604,
          -1.0985969305038452
         ],
         "yaxis": "y"
        },
        {
         "hovertemplate": "color=Furnarius<br>TSNE1=%{x}<br>TSNE2=%{y}<extra></extra>",
         "legendgroup": "Furnarius",
         "marker": {
          "color": "#316395",
          "symbol": "circle"
         },
         "mode": "markers",
         "name": "Furnarius",
         "showlegend": true,
         "type": "scattergl",
         "x": [
          4.421608924865723,
          8.6165132522583
         ],
         "xaxis": "x",
         "y": [
          -5.97304630279541,
          0.8634220361709595
         ],
         "yaxis": "y"
        },
        {
         "hovertemplate": "color=Galbalcyrhynchus<br>TSNE1=%{x}<br>TSNE2=%{y}<extra></extra>",
         "legendgroup": "Galbalcyrhynchus",
         "marker": {
          "color": "#3366CC",
          "symbol": "circle"
         },
         "mode": "markers",
         "name": "Galbalcyrhynchus",
         "showlegend": true,
         "type": "scattergl",
         "x": [
          -2.7797913551330566,
          6.660120010375977
         ],
         "xaxis": "x",
         "y": [
          7.246153831481934,
          1.759362816810608
         ],
         "yaxis": "y"
        },
        {
         "hovertemplate": "color=Galbula<br>TSNE1=%{x}<br>TSNE2=%{y}<extra></extra>",
         "legendgroup": "Galbula",
         "marker": {
          "color": "#DC3912",
          "symbol": "circle"
         },
         "mode": "markers",
         "name": "Galbula",
         "showlegend": true,
         "type": "scattergl",
         "x": [
          -5.355920791625977,
          -3.4244556427001953,
          0.7564917802810669,
          6.388518333435059,
          6.484678268432617,
          0.19203899800777435,
          7.639379501342773
         ],
         "xaxis": "x",
         "y": [
          0.1931396871805191,
          5.369053363800049,
          -4.77529239654541,
          1.0463484525680542,
          -1.269818663597107,
          3.8001444339752197,
          0.8840756416320801
         ],
         "yaxis": "y"
        },
        {
         "hovertemplate": "color=Gallinago<br>TSNE1=%{x}<br>TSNE2=%{y}<extra></extra>",
         "legendgroup": "Gallinago",
         "marker": {
          "color": "#FF9900",
          "symbol": "circle"
         },
         "mode": "markers",
         "name": "Gallinago",
         "showlegend": true,
         "type": "scattergl",
         "x": [
          -5.306394577026367
         ],
         "xaxis": "x",
         "y": [
          1.025929570198059
         ],
         "yaxis": "y"
        },
        {
         "hovertemplate": "color=Gallinula<br>TSNE1=%{x}<br>TSNE2=%{y}<extra></extra>",
         "legendgroup": "Gallinula",
         "marker": {
          "color": "#109618",
          "symbol": "circle"
         },
         "mode": "markers",
         "name": "Gallinula",
         "showlegend": true,
         "type": "scattergl",
         "x": [
          -5.303065299987793
         ],
         "xaxis": "x",
         "y": [
          2.5740468502044678
         ],
         "yaxis": "y"
        },
        {
         "hovertemplate": "color=Gampsonyx<br>TSNE1=%{x}<br>TSNE2=%{y}<extra></extra>",
         "legendgroup": "Gampsonyx",
         "marker": {
          "color": "#990099",
          "symbol": "circle"
         },
         "mode": "markers",
         "name": "Gampsonyx",
         "showlegend": true,
         "type": "scattergl",
         "x": [
          -2.057133197784424
         ],
         "xaxis": "x",
         "y": [
          3.651370048522949
         ],
         "yaxis": "y"
        },
        {
         "hovertemplate": "color=Geothlypis<br>TSNE1=%{x}<br>TSNE2=%{y}<extra></extra>",
         "legendgroup": "Geothlypis",
         "marker": {
          "color": "#0099C6",
          "symbol": "circle"
         },
         "mode": "markers",
         "name": "Geothlypis",
         "showlegend": true,
         "type": "scattergl",
         "x": [
          -0.2573131024837494,
          4.469208240509033
         ],
         "xaxis": "x",
         "y": [
          4.305182933807373,
          7.704752445220947
         ],
         "yaxis": "y"
        },
        {
         "hovertemplate": "color=Geotrygon<br>TSNE1=%{x}<br>TSNE2=%{y}<extra></extra>",
         "legendgroup": "Geotrygon",
         "marker": {
          "color": "#DD4477",
          "symbol": "circle"
         },
         "mode": "markers",
         "name": "Geotrygon",
         "showlegend": true,
         "type": "scattergl",
         "x": [
          1.28620445728302,
          0.35664838552474976,
          1.8298442363739014,
          -0.7003065943717957,
          -6.875356674194336,
          -0.08426085859537125
         ],
         "xaxis": "x",
         "y": [
          0.41438978910446167,
          -0.570931613445282,
          -1.0793122053146362,
          -0.7966894507408142,
          -2.6788902282714844,
          -0.6254209876060486
         ],
         "yaxis": "y"
        },
        {
         "hovertemplate": "color=Geranoaetus<br>TSNE1=%{x}<br>TSNE2=%{y}<extra></extra>",
         "legendgroup": "Geranoaetus",
         "marker": {
          "color": "#66AA00",
          "symbol": "circle"
         },
         "mode": "markers",
         "name": "Geranoaetus",
         "showlegend": true,
         "type": "scattergl",
         "x": [
          -3.136840581893921
         ],
         "xaxis": "x",
         "y": [
          -8.90501594543457
         ],
         "yaxis": "y"
        },
        {
         "hovertemplate": "color=Geranospiza<br>TSNE1=%{x}<br>TSNE2=%{y}<extra></extra>",
         "legendgroup": "Geranospiza",
         "marker": {
          "color": "#B82E2E",
          "symbol": "circle"
         },
         "mode": "markers",
         "name": "Geranospiza",
         "showlegend": true,
         "type": "scattergl",
         "x": [
          -3.953075408935547,
          -1.2327576875686646
         ],
         "xaxis": "x",
         "y": [
          4.441319465637207,
          -0.05438322201371193
         ],
         "yaxis": "y"
        },
        {
         "hovertemplate": "color=Glaucidium<br>TSNE1=%{x}<br>TSNE2=%{y}<extra></extra>",
         "legendgroup": "Glaucidium",
         "marker": {
          "color": "#316395",
          "symbol": "circle"
         },
         "mode": "markers",
         "name": "Glaucidium",
         "showlegend": true,
         "type": "scattergl",
         "x": [
          8.799732208251953,
          -3.643009662628174,
          1.9770100116729736
         ],
         "xaxis": "x",
         "y": [
          1.3438761234283447,
          5.756267547607422,
          3.0735981464385986
         ],
         "yaxis": "y"
        },
        {
         "hovertemplate": "color=Glaucis<br>TSNE1=%{x}<br>TSNE2=%{y}<extra></extra>",
         "legendgroup": "Glaucis",
         "marker": {
          "color": "#3366CC",
          "symbol": "circle"
         },
         "mode": "markers",
         "name": "Glaucis",
         "showlegend": true,
         "type": "scattergl",
         "x": [
          -1.2504867315292358
         ],
         "xaxis": "x",
         "y": [
          -3.630890130996704
         ],
         "yaxis": "y"
        },
        {
         "hovertemplate": "color=Glyphorynchus<br>TSNE1=%{x}<br>TSNE2=%{y}<extra></extra>",
         "legendgroup": "Glyphorynchus",
         "marker": {
          "color": "#DC3912",
          "symbol": "circle"
         },
         "mode": "markers",
         "name": "Glyphorynchus",
         "showlegend": true,
         "type": "scattergl",
         "x": [
          2.3140337467193604,
          -4.163700103759766
         ],
         "xaxis": "x",
         "y": [
          -5.877763748168945,
          1.8068267107009888
         ],
         "yaxis": "y"
        },
        {
         "hovertemplate": "color=Gnorimopsar<br>TSNE1=%{x}<br>TSNE2=%{y}<extra></extra>",
         "legendgroup": "Gnorimopsar",
         "marker": {
          "color": "#FF9900",
          "symbol": "circle"
         },
         "mode": "markers",
         "name": "Gnorimopsar",
         "showlegend": true,
         "type": "scattergl",
         "x": [
          -2.8479933738708496
         ],
         "xaxis": "x",
         "y": [
          3.1544952392578125
         ],
         "yaxis": "y"
        },
        {
         "hovertemplate": "color=Grallaria<br>TSNE1=%{x}<br>TSNE2=%{y}<extra></extra>",
         "legendgroup": "Grallaria",
         "marker": {
          "color": "#109618",
          "symbol": "circle"
         },
         "mode": "markers",
         "name": "Grallaria",
         "showlegend": true,
         "type": "scattergl",
         "x": [
          5.693168640136719,
          -1.5896495580673218,
          2.9519524574279785,
          -6.838438034057617,
          2.0013082027435303,
          0.43759676814079285
         ],
         "xaxis": "x",
         "y": [
          2.8201255798339844,
          4.930075645446777,
          0.7920322418212891,
          -6.414588451385498,
          4.145112991333008,
          9.040699005126953
         ],
         "yaxis": "y"
        },
        {
         "hovertemplate": "color=Grallaricula<br>TSNE1=%{x}<br>TSNE2=%{y}<extra></extra>",
         "legendgroup": "Grallaricula",
         "marker": {
          "color": "#990099",
          "symbol": "circle"
         },
         "mode": "markers",
         "name": "Grallaricula",
         "showlegend": true,
         "type": "scattergl",
         "x": [
          -5.852163791656494,
          -1.9060677289962769,
          1.0368722677230835
         ],
         "xaxis": "x",
         "y": [
          0.5202164649963379,
          2.671009063720703,
          6.483149528503418
         ],
         "yaxis": "y"
        },
        {
         "hovertemplate": "color=Gymnomystax<br>TSNE1=%{x}<br>TSNE2=%{y}<extra></extra>",
         "legendgroup": "Gymnomystax",
         "marker": {
          "color": "#0099C6",
          "symbol": "circle"
         },
         "mode": "markers",
         "name": "Gymnomystax",
         "showlegend": true,
         "type": "scattergl",
         "x": [
          1.8854433298110962
         ],
         "xaxis": "x",
         "y": [
          3.157599925994873
         ],
         "yaxis": "y"
        },
        {
         "hovertemplate": "color=Habia<br>TSNE1=%{x}<br>TSNE2=%{y}<extra></extra>",
         "legendgroup": "Habia",
         "marker": {
          "color": "#DD4477",
          "symbol": "circle"
         },
         "mode": "markers",
         "name": "Habia",
         "showlegend": true,
         "type": "scattergl",
         "x": [
          -1.5401525497436523,
          -6.538193225860596
         ],
         "xaxis": "x",
         "y": [
          -0.12527041137218475,
          -5.180995464324951
         ],
         "yaxis": "y"
        },
        {
         "hovertemplate": "color=Hafferia<br>TSNE1=%{x}<br>TSNE2=%{y}<extra></extra>",
         "legendgroup": "Hafferia",
         "marker": {
          "color": "#66AA00",
          "symbol": "circle"
         },
         "mode": "markers",
         "name": "Hafferia",
         "showlegend": true,
         "type": "scattergl",
         "x": [
          4.522637367248535,
          -1.1849267482757568
         ],
         "xaxis": "x",
         "y": [
          8.502830505371094,
          1.248779535293579
         ],
         "yaxis": "y"
        },
        {
         "hovertemplate": "color=Haplophaedia<br>TSNE1=%{x}<br>TSNE2=%{y}<extra></extra>",
         "legendgroup": "Haplophaedia",
         "marker": {
          "color": "#B82E2E",
          "symbol": "circle"
         },
         "mode": "markers",
         "name": "Haplophaedia",
         "showlegend": true,
         "type": "scattergl",
         "x": [
          8.240232467651367
         ],
         "xaxis": "x",
         "y": [
          -0.9924249053001404
         ],
         "yaxis": "y"
        },
        {
         "hovertemplate": "color=Haplospiza<br>TSNE1=%{x}<br>TSNE2=%{y}<extra></extra>",
         "legendgroup": "Haplospiza",
         "marker": {
          "color": "#316395",
          "symbol": "circle"
         },
         "mode": "markers",
         "name": "Haplospiza",
         "showlegend": true,
         "type": "scattergl",
         "x": [
          4.3002119064331055,
          3.62994647026062,
          -4.404491424560547,
          -1.2832155227661133,
          -0.23939074575901031
         ],
         "xaxis": "x",
         "y": [
          6.107726097106934,
          6.649612903594971,
          4.213992595672607,
          -5.103184700012207,
          -0.42975345253944397
         ],
         "yaxis": "y"
        },
        {
         "hovertemplate": "color=Harpagus<br>TSNE1=%{x}<br>TSNE2=%{y}<extra></extra>",
         "legendgroup": "Harpagus",
         "marker": {
          "color": "#3366CC",
          "symbol": "circle"
         },
         "mode": "markers",
         "name": "Harpagus",
         "showlegend": true,
         "type": "scattergl",
         "x": [
          2.179219961166382,
          -2.4867665767669678,
          -6.765594482421875
         ],
         "xaxis": "x",
         "y": [
          -3.004045248031616,
          -1.4759995937347412,
          -4.6058430671691895
         ],
         "yaxis": "y"
        },
        {
         "hovertemplate": "color=Harpia<br>TSNE1=%{x}<br>TSNE2=%{y}<extra></extra>",
         "legendgroup": "Harpia",
         "marker": {
          "color": "#DC3912",
          "symbol": "circle"
         },
         "mode": "markers",
         "name": "Harpia",
         "showlegend": true,
         "type": "scattergl",
         "x": [
          1.4544483423233032
         ],
         "xaxis": "x",
         "y": [
          1.1692887544631958
         ],
         "yaxis": "y"
        },
        {
         "hovertemplate": "color=Helicolestes<br>TSNE1=%{x}<br>TSNE2=%{y}<extra></extra>",
         "legendgroup": "Helicolestes",
         "marker": {
          "color": "#FF9900",
          "symbol": "circle"
         },
         "mode": "markers",
         "name": "Helicolestes",
         "showlegend": true,
         "type": "scattergl",
         "x": [
          -0.25074663758277893,
          -1.4771220684051514,
          8.006549835205078
         ],
         "xaxis": "x",
         "y": [
          2.8218584060668945,
          0.15412773191928864,
          2.103209972381592
         ],
         "yaxis": "y"
        },
        {
         "hovertemplate": "color=Heliodoxa<br>TSNE1=%{x}<br>TSNE2=%{y}<extra></extra>",
         "legendgroup": "Heliodoxa",
         "marker": {
          "color": "#109618",
          "symbol": "circle"
         },
         "mode": "markers",
         "name": "Heliodoxa",
         "showlegend": true,
         "type": "scattergl",
         "x": [
          -7.253520965576172,
          -4.3239898681640625,
          7.362143039703369,
          -2.2406225204467773,
          -2.57169771194458,
          6.667718410491943,
          5.422976016998291,
          -3.271338701248169,
          -4.447473049163818
         ],
         "xaxis": "x",
         "y": [
          -1.1506272554397583,
          -5.981692790985107,
          3.712681770324707,
          8.473318099975586,
          -3.0065901279449463,
          0.058684464544057846,
          -1.1097571849822998,
          2.4614055156707764,
          4.710956573486328
         ],
         "yaxis": "y"
        },
        {
         "hovertemplate": "color=Heliomaster<br>TSNE1=%{x}<br>TSNE2=%{y}<extra></extra>",
         "legendgroup": "Heliomaster",
         "marker": {
          "color": "#990099",
          "symbol": "circle"
         },
         "mode": "markers",
         "name": "Heliomaster",
         "showlegend": true,
         "type": "scattergl",
         "x": [
          7.064469814300537,
          -4.175942897796631
         ],
         "xaxis": "x",
         "y": [
          0.08687478303909302,
          -5.941154479980469
         ],
         "yaxis": "y"
        },
        {
         "hovertemplate": "color=Heliornis<br>TSNE1=%{x}<br>TSNE2=%{y}<extra></extra>",
         "legendgroup": "Heliornis",
         "marker": {
          "color": "#0099C6",
          "symbol": "circle"
         },
         "mode": "markers",
         "name": "Heliornis",
         "showlegend": true,
         "type": "scattergl",
         "x": [
          0.3254120945930481
         ],
         "xaxis": "x",
         "y": [
          -4.186041355133057
         ],
         "yaxis": "y"
        },
        {
         "hovertemplate": "color=Heliothryx<br>TSNE1=%{x}<br>TSNE2=%{y}<extra></extra>",
         "legendgroup": "Heliothryx",
         "marker": {
          "color": "#DD4477",
          "symbol": "circle"
         },
         "mode": "markers",
         "name": "Heliothryx",
         "showlegend": true,
         "type": "scattergl",
         "x": [
          -0.5295122861862183
         ],
         "xaxis": "x",
         "y": [
          -5.288666725158691
         ],
         "yaxis": "y"
        },
        {
         "hovertemplate": "color=Hemithraupis<br>TSNE1=%{x}<br>TSNE2=%{y}<extra></extra>",
         "legendgroup": "Hemithraupis",
         "marker": {
          "color": "#66AA00",
          "symbol": "circle"
         },
         "mode": "markers",
         "name": "Hemithraupis",
         "showlegend": true,
         "type": "scattergl",
         "x": [
          -0.5552946329116821,
          2.35176682472229,
          -6.054769039154053
         ],
         "xaxis": "x",
         "y": [
          -5.2024688720703125,
          -6.067171573638916,
          0.7809824347496033
         ],
         "yaxis": "y"
        },
        {
         "hovertemplate": "color=Hemitriccus<br>TSNE1=%{x}<br>TSNE2=%{y}<extra></extra>",
         "legendgroup": "Hemitriccus",
         "marker": {
          "color": "#B82E2E",
          "symbol": "circle"
         },
         "mode": "markers",
         "name": "Hemitriccus",
         "showlegend": true,
         "type": "scattergl",
         "x": [
          6.750759601593018,
          0.9631834030151367,
          3.3262834548950195,
          5.904821395874023,
          6.4088921546936035,
          8.165655136108398,
          0.050774235278367996,
          -2.9627177715301514,
          -6.8266520500183105,
          -3.7006795406341553,
          1.1625757217407227,
          4.4518303871154785
         ],
         "xaxis": "x",
         "y": [
          6.573906898498535,
          6.125720024108887,
          -2.5523757934570312,
          6.148634433746338,
          -1.7482762336730957,
          1.9061545133590698,
          3.3061814308166504,
          7.3979411125183105,
          -4.091531753540039,
          2.484686851501465,
          3.144749164581299,
          5.716485023498535
         ],
         "yaxis": "y"
        },
        {
         "hovertemplate": "color=Henicorhina<br>TSNE1=%{x}<br>TSNE2=%{y}<extra></extra>",
         "legendgroup": "Henicorhina",
         "marker": {
          "color": "#316395",
          "symbol": "circle"
         },
         "mode": "markers",
         "name": "Henicorhina",
         "showlegend": true,
         "type": "scattergl",
         "x": [
          -3.9603588581085205,
          8.29433822631836
         ],
         "xaxis": "x",
         "y": [
          2.6396377086639404,
          1.658478021621704
         ],
         "yaxis": "y"
        },
        {
         "hovertemplate": "color=Herpetotheres<br>TSNE1=%{x}<br>TSNE2=%{y}<extra></extra>",
         "legendgroup": "Herpetotheres",
         "marker": {
          "color": "#3366CC",
          "symbol": "circle"
         },
         "mode": "markers",
         "name": "Herpetotheres",
         "showlegend": true,
         "type": "scattergl",
         "x": [
          4.766757488250732,
          8.809517860412598
         ],
         "xaxis": "x",
         "y": [
          -4.350044250488281,
          2.3035311698913574
         ],
         "yaxis": "y"
        },
        {
         "hovertemplate": "color=Herpsilochmus<br>TSNE1=%{x}<br>TSNE2=%{y}<extra></extra>",
         "legendgroup": "Herpsilochmus",
         "marker": {
          "color": "#DC3912",
          "symbol": "circle"
         },
         "mode": "markers",
         "name": "Herpsilochmus",
         "showlegend": true,
         "type": "scattergl",
         "x": [
          -5.978043556213379,
          -1.9483604431152344,
          0.19620288908481598,
          1.5532869100570679,
          -3.7363290786743164,
          -1.7502068281173706
         ],
         "xaxis": "x",
         "y": [
          -1.4655245542526245,
          3.8766119480133057,
          6.225189208984375,
          3.3129348754882812,
          -7.001330852508545,
          4.767107009887695
         ],
         "yaxis": "y"
        },
        {
         "hovertemplate": "color=Heterocercus<br>TSNE1=%{x}<br>TSNE2=%{y}<extra></extra>",
         "legendgroup": "Heterocercus",
         "marker": {
          "color": "#FF9900",
          "symbol": "circle"
         },
         "mode": "markers",
         "name": "Heterocercus",
         "showlegend": true,
         "type": "scattergl",
         "x": [
          0.38210979104042053
         ],
         "xaxis": "x",
         "y": [
          -2.3442859649658203
         ],
         "yaxis": "y"
        },
        {
         "hovertemplate": "color=Himantopus<br>TSNE1=%{x}<br>TSNE2=%{y}<extra></extra>",
         "legendgroup": "Himantopus",
         "marker": {
          "color": "#109618",
          "symbol": "circle"
         },
         "mode": "markers",
         "name": "Himantopus",
         "showlegend": true,
         "type": "scattergl",
         "x": [
          2.9131228923797607,
          9.345561027526855,
          9.493269920349121
         ],
         "xaxis": "x",
         "y": [
          4.125592231750488,
          4.905202388763428,
          5.011388301849365
         ],
         "yaxis": "y"
        },
        {
         "hovertemplate": "color=Hirundinea<br>TSNE1=%{x}<br>TSNE2=%{y}<extra></extra>",
         "legendgroup": "Hirundinea",
         "marker": {
          "color": "#990099",
          "symbol": "circle"
         },
         "mode": "markers",
         "name": "Hirundinea",
         "showlegend": true,
         "type": "scattergl",
         "x": [
          -6.133943557739258,
          3.6299808025360107,
          -4.793745517730713,
          -2.6624503135681152
         ],
         "xaxis": "x",
         "y": [
          -2.1572115421295166,
          2.8831892013549805,
          -2.8468472957611084,
          0.24700957536697388
         ],
         "yaxis": "y"
        },
        {
         "hovertemplate": "color=Hydropsalis<br>TSNE1=%{x}<br>TSNE2=%{y}<extra></extra>",
         "legendgroup": "Hydropsalis",
         "marker": {
          "color": "#0099C6",
          "symbol": "circle"
         },
         "mode": "markers",
         "name": "Hydropsalis",
         "showlegend": true,
         "type": "scattergl",
         "x": [
          -0.02917475439608097,
          -3.6998941898345947,
          -4.045612335205078,
          4.6763482093811035,
          8.746697425842285
         ],
         "xaxis": "x",
         "y": [
          -1.9182159900665283,
          -2.8383564949035645,
          0.25462883710861206,
          -3.0642459392547607,
          5.537879943847656
         ],
         "yaxis": "y"
        },
        {
         "hovertemplate": "color=Hylexetastes<br>TSNE1=%{x}<br>TSNE2=%{y}<extra></extra>",
         "legendgroup": "Hylexetastes",
         "marker": {
          "color": "#DD4477",
          "symbol": "circle"
         },
         "mode": "markers",
         "name": "Hylexetastes",
         "showlegend": true,
         "type": "scattergl",
         "x": [
          -0.6150097846984863,
          -4.816229820251465,
          -4.913802146911621,
          -1.5383986234664917
         ],
         "xaxis": "x",
         "y": [
          8.595059394836426,
          3.1019625663757324,
          3.8159844875335693,
          8.247775077819824
         ],
         "yaxis": "y"
        },
        {
         "hovertemplate": "color=Hylopezus<br>TSNE1=%{x}<br>TSNE2=%{y}<extra></extra>",
         "legendgroup": "Hylopezus",
         "marker": {
          "color": "#66AA00",
          "symbol": "circle"
         },
         "mode": "markers",
         "name": "Hylopezus",
         "showlegend": true,
         "type": "scattergl",
         "x": [
          2.6218273639678955
         ],
         "xaxis": "x",
         "y": [
          -3.6275768280029297
         ],
         "yaxis": "y"
        },
        {
         "hovertemplate": "color=Hylophilus<br>TSNE1=%{x}<br>TSNE2=%{y}<extra></extra>",
         "legendgroup": "Hylophilus",
         "marker": {
          "color": "#B82E2E",
          "symbol": "circle"
         },
         "mode": "markers",
         "name": "Hylophilus",
         "showlegend": true,
         "type": "scattergl",
         "x": [
          -1.2268810272216797,
          -4.753516674041748
         ],
         "xaxis": "x",
         "y": [
          2.0855600833892822,
          0.46800497174263
         ],
         "yaxis": "y"
        },
        {
         "hovertemplate": "color=Hylophylax<br>TSNE1=%{x}<br>TSNE2=%{y}<extra></extra>",
         "legendgroup": "Hylophylax",
         "marker": {
          "color": "#316395",
          "symbol": "circle"
         },
         "mode": "markers",
         "name": "Hylophylax",
         "showlegend": true,
         "type": "scattergl",
         "x": [
          0.2894987463951111,
          -0.10809330642223358,
          5.602604866027832
         ],
         "xaxis": "x",
         "y": [
          4.378068923950195,
          4.018289566040039,
          2.615140676498413
         ],
         "yaxis": "y"
        },
        {
         "hovertemplate": "color=Hypocnemis<br>TSNE1=%{x}<br>TSNE2=%{y}<extra></extra>",
         "legendgroup": "Hypocnemis",
         "marker": {
          "color": "#3366CC",
          "symbol": "circle"
         },
         "mode": "markers",
         "name": "Hypocnemis",
         "showlegend": true,
         "type": "scattergl",
         "x": [
          -5.5692667961120605,
          -0.28786322474479675,
          7.382700443267822,
          -1.498898983001709,
          -3.6933066844940186
         ],
         "xaxis": "x",
         "y": [
          2.1250081062316895,
          8.072633743286133,
          0.5275723338127136,
          2.6938557624816895,
          2.466542959213257
         ],
         "yaxis": "y"
        },
        {
         "hovertemplate": "color=Hypocnemoides<br>TSNE1=%{x}<br>TSNE2=%{y}<extra></extra>",
         "legendgroup": "Hypocnemoides",
         "marker": {
          "color": "#DC3912",
          "symbol": "circle"
         },
         "mode": "markers",
         "name": "Hypocnemoides",
         "showlegend": true,
         "type": "scattergl",
         "x": [
          2.7531373500823975,
          4.776542663574219
         ],
         "xaxis": "x",
         "y": [
          5.937652111053467,
          4.572892665863037
         ],
         "yaxis": "y"
        },
        {
         "hovertemplate": "color=Ibycter<br>TSNE1=%{x}<br>TSNE2=%{y}<extra></extra>",
         "legendgroup": "Ibycter",
         "marker": {
          "color": "#FF9900",
          "symbol": "circle"
         },
         "mode": "markers",
         "name": "Ibycter",
         "showlegend": true,
         "type": "scattergl",
         "x": [
          2.879436731338501
         ],
         "xaxis": "x",
         "y": [
          4.0037360191345215
         ],
         "yaxis": "y"
        },
        {
         "hovertemplate": "color=Icterus<br>TSNE1=%{x}<br>TSNE2=%{y}<extra></extra>",
         "legendgroup": "Icterus",
         "marker": {
          "color": "#109618",
          "symbol": "circle"
         },
         "mode": "markers",
         "name": "Icterus",
         "showlegend": true,
         "type": "scattergl",
         "x": [
          1.3380253314971924,
          -6.342905521392822,
          3.1533682346343994
         ],
         "xaxis": "x",
         "y": [
          3.182142972946167,
          -2.182065010070801,
          -4.92081880569458
         ],
         "yaxis": "y"
        },
        {
         "hovertemplate": "color=Ictinia<br>TSNE1=%{x}<br>TSNE2=%{y}<extra></extra>",
         "legendgroup": "Ictinia",
         "marker": {
          "color": "#990099",
          "symbol": "circle"
         },
         "mode": "markers",
         "name": "Ictinia",
         "showlegend": true,
         "type": "scattergl",
         "x": [
          -1.639991044998169,
          -3.801389455795288,
          -6.890438079833984,
          -3.730914354324341,
          -7.007182598114014
         ],
         "xaxis": "x",
         "y": [
          -4.848240852355957,
          -2.447890281677246,
          -4.690366268157959,
          0.019634202122688293,
          -3.8633718490600586
         ],
         "yaxis": "y"
        },
        {
         "hovertemplate": "color=Inezia<br>TSNE1=%{x}<br>TSNE2=%{y}<extra></extra>",
         "legendgroup": "Inezia",
         "marker": {
          "color": "#0099C6",
          "symbol": "circle"
         },
         "mode": "markers",
         "name": "Inezia",
         "showlegend": true,
         "type": "scattergl",
         "x": [
          -5.911230564117432,
          -3.0174648761749268,
          -6.859146595001221
         ],
         "xaxis": "x",
         "y": [
          -5.827398777008057,
          -1.0295777320861816,
          -3.8202438354492188
         ],
         "yaxis": "y"
        },
        {
         "hovertemplate": "color=Iodopleura<br>TSNE1=%{x}<br>TSNE2=%{y}<extra></extra>",
         "legendgroup": "Iodopleura",
         "marker": {
          "color": "#DD4477",
          "symbol": "circle"
         },
         "mode": "markers",
         "name": "Iodopleura",
         "showlegend": true,
         "type": "scattergl",
         "x": [
          2.061133861541748,
          5.226974964141846,
          2.032075881958008
         ],
         "xaxis": "x",
         "y": [
          5.17785120010376,
          -0.5102589130401611,
          -1.80938720703125
         ],
         "yaxis": "y"
        },
        {
         "hovertemplate": "color=Iridophanes<br>TSNE1=%{x}<br>TSNE2=%{y}<extra></extra>",
         "legendgroup": "Iridophanes",
         "marker": {
          "color": "#66AA00",
          "symbol": "circle"
         },
         "mode": "markers",
         "name": "Iridophanes",
         "showlegend": true,
         "type": "scattergl",
         "x": [
          -3.037320613861084
         ],
         "xaxis": "x",
         "y": [
          4.468708515167236
         ],
         "yaxis": "y"
        },
        {
         "hovertemplate": "color=Iridosornis<br>TSNE1=%{x}<br>TSNE2=%{y}<extra></extra>",
         "legendgroup": "Iridosornis",
         "marker": {
          "color": "#B82E2E",
          "symbol": "circle"
         },
         "mode": "markers",
         "name": "Iridosornis",
         "showlegend": true,
         "type": "scattergl",
         "x": [
          -2.3453032970428467,
          0.11871349811553955,
          2.940295457839966,
          3.6842546463012695,
          8.824518203735352,
          4.33442497253418
         ],
         "xaxis": "x",
         "y": [
          -0.9555103182792664,
          0.5214269161224365,
          -6.975016117095947,
          6.793054580688477,
          1.7768871784210205,
          4.39838981628418
         ],
         "yaxis": "y"
        },
        {
         "hovertemplate": "color=Isleria<br>TSNE1=%{x}<br>TSNE2=%{y}<extra></extra>",
         "legendgroup": "Isleria",
         "marker": {
          "color": "#316395",
          "symbol": "circle"
         },
         "mode": "markers",
         "name": "Isleria",
         "showlegend": true,
         "type": "scattergl",
         "x": [
          -5.521082401275635,
          -1.5339523553848267
         ],
         "xaxis": "x",
         "y": [
          1.6567325592041016,
          1.2701362371444702
         ],
         "yaxis": "y"
        },
        {
         "hovertemplate": "color=Ixobrychus<br>TSNE1=%{x}<br>TSNE2=%{y}<extra></extra>",
         "legendgroup": "Ixobrychus",
         "marker": {
          "color": "#3366CC",
          "symbol": "circle"
         },
         "mode": "markers",
         "name": "Ixobrychus",
         "showlegend": true,
         "type": "scattergl",
         "x": [
          -5.341528415679932,
          -2.8702423572540283,
          -6.177491188049316
         ],
         "xaxis": "x",
         "y": [
          -2.5579445362091064,
          -8.093266487121582,
          -5.559828281402588
         ],
         "yaxis": "y"
        },
        {
         "hovertemplate": "color=Jabiru<br>TSNE1=%{x}<br>TSNE2=%{y}<extra></extra>",
         "legendgroup": "Jabiru",
         "marker": {
          "color": "#DC3912",
          "symbol": "circle"
         },
         "mode": "markers",
         "name": "Jabiru",
         "showlegend": true,
         "type": "scattergl",
         "x": [
          3.038925886154175,
          6.669676303863525
         ],
         "xaxis": "x",
         "y": [
          -0.4900650680065155,
          0.24346742033958435
         ],
         "yaxis": "y"
        },
        {
         "hovertemplate": "color=Jacamerops<br>TSNE1=%{x}<br>TSNE2=%{y}<extra></extra>",
         "legendgroup": "Jacamerops",
         "marker": {
          "color": "#FF9900",
          "symbol": "circle"
         },
         "mode": "markers",
         "name": "Jacamerops",
         "showlegend": true,
         "type": "scattergl",
         "x": [
          -2.3518083095550537,
          -5.647141933441162,
          -6.211872100830078
         ],
         "xaxis": "x",
         "y": [
          3.582698345184326,
          2.2576775550842285,
          -1.7603387832641602
         ],
         "yaxis": "y"
        },
        {
         "hovertemplate": "color=Jacana<br>TSNE1=%{x}<br>TSNE2=%{y}<extra></extra>",
         "legendgroup": "Jacana",
         "marker": {
          "color": "#109618",
          "symbol": "circle"
         },
         "mode": "markers",
         "name": "Jacana",
         "showlegend": true,
         "type": "scattergl",
         "x": [
          -3.643479824066162
         ],
         "xaxis": "x",
         "y": [
          -1.4286662340164185
         ],
         "yaxis": "y"
        },
        {
         "hovertemplate": "color=Klais<br>TSNE1=%{x}<br>TSNE2=%{y}<extra></extra>",
         "legendgroup": "Klais",
         "marker": {
          "color": "#990099",
          "symbol": "circle"
         },
         "mode": "markers",
         "name": "Klais",
         "showlegend": true,
         "type": "scattergl",
         "x": [
          8.842963218688965
         ],
         "xaxis": "x",
         "y": [
          0.8974003791809082
         ],
         "yaxis": "y"
        },
        {
         "hovertemplate": "color=Knipolegus<br>TSNE1=%{x}<br>TSNE2=%{y}<extra></extra>",
         "legendgroup": "Knipolegus",
         "marker": {
          "color": "#0099C6",
          "symbol": "circle"
         },
         "mode": "markers",
         "name": "Knipolegus",
         "showlegend": true,
         "type": "scattergl",
         "x": [
          -6.121472358703613,
          1.7035536766052246,
          -1.7008649110794067,
          3.7543346881866455,
          6.346987247467041,
          8.625884056091309
         ],
         "xaxis": "x",
         "y": [
          -7.662405967712402,
          -8.084634780883789,
          -9.044241905212402,
          7.939066410064697,
          -4.130087852478027,
          0.8217992186546326
         ],
         "yaxis": "y"
        },
        {
         "hovertemplate": "color=Lamprospiza<br>TSNE1=%{x}<br>TSNE2=%{y}<extra></extra>",
         "legendgroup": "Lamprospiza",
         "marker": {
          "color": "#DD4477",
          "symbol": "circle"
         },
         "mode": "markers",
         "name": "Lamprospiza",
         "showlegend": true,
         "type": "scattergl",
         "x": [
          5.794856071472168,
          5.968559741973877
         ],
         "xaxis": "x",
         "y": [
          5.444849967956543,
          1.466463565826416
         ],
         "yaxis": "y"
        },
        {
         "hovertemplate": "color=Laniisoma<br>TSNE1=%{x}<br>TSNE2=%{y}<extra></extra>",
         "legendgroup": "Laniisoma",
         "marker": {
          "color": "#66AA00",
          "symbol": "circle"
         },
         "mode": "markers",
         "name": "Laniisoma",
         "showlegend": true,
         "type": "scattergl",
         "x": [
          3.9356443881988525,
          4.798376083374023
         ],
         "xaxis": "x",
         "y": [
          3.3493738174438477,
          2.5855729579925537
         ],
         "yaxis": "y"
        },
        {
         "hovertemplate": "color=Lanio<br>TSNE1=%{x}<br>TSNE2=%{y}<extra></extra>",
         "legendgroup": "Lanio",
         "marker": {
          "color": "#B82E2E",
          "symbol": "circle"
         },
         "mode": "markers",
         "name": "Lanio",
         "showlegend": true,
         "type": "scattergl",
         "x": [
          -1.6816097497940063,
          2.1383371353149414
         ],
         "xaxis": "x",
         "y": [
          -1.3788803815841675,
          0.2986642122268677
         ],
         "yaxis": "y"
        },
        {
         "hovertemplate": "color=Laniocera<br>TSNE1=%{x}<br>TSNE2=%{y}<extra></extra>",
         "legendgroup": "Laniocera",
         "marker": {
          "color": "#316395",
          "symbol": "circle"
         },
         "mode": "markers",
         "name": "Laniocera",
         "showlegend": true,
         "type": "scattergl",
         "x": [
          4.95202112197876
         ],
         "xaxis": "x",
         "y": [
          3.9892115592956543
         ],
         "yaxis": "y"
        },
        {
         "hovertemplate": "color=Laterallus<br>TSNE1=%{x}<br>TSNE2=%{y}<extra></extra>",
         "legendgroup": "Laterallus",
         "marker": {
          "color": "#3366CC",
          "symbol": "circle"
         },
         "mode": "markers",
         "name": "Laterallus",
         "showlegend": true,
         "type": "scattergl",
         "x": [
          -5.2931294441223145,
          1.6280615329742432
         ],
         "xaxis": "x",
         "y": [
          0.07145632058382034,
          2.6663856506347656
         ],
         "yaxis": "y"
        },
        {
         "hovertemplate": "color=Lathrotriccus<br>TSNE1=%{x}<br>TSNE2=%{y}<extra></extra>",
         "legendgroup": "Lathrotriccus",
         "marker": {
          "color": "#DC3912",
          "symbol": "circle"
         },
         "mode": "markers",
         "name": "Lathrotriccus",
         "showlegend": true,
         "type": "scattergl",
         "x": [
          4.754767417907715,
          4.491599082946777
         ],
         "xaxis": "x",
         "y": [
          2.8910582065582275,
          -0.7223660349845886
         ],
         "yaxis": "y"
        },
        {
         "hovertemplate": "color=Legatus<br>TSNE1=%{x}<br>TSNE2=%{y}<extra></extra>",
         "legendgroup": "Legatus",
         "marker": {
          "color": "#FF9900",
          "symbol": "circle"
         },
         "mode": "markers",
         "name": "Legatus",
         "showlegend": true,
         "type": "scattergl",
         "x": [
          4.03714656829834,
          5.944629192352295
         ],
         "xaxis": "x",
         "y": [
          3.6207919120788574,
          2.465498208999634
         ],
         "yaxis": "y"
        },
        {
         "hovertemplate": "color=Leistes<br>TSNE1=%{x}<br>TSNE2=%{y}<extra></extra>",
         "legendgroup": "Leistes",
         "marker": {
          "color": "#109618",
          "symbol": "circle"
         },
         "mode": "markers",
         "name": "Leistes",
         "showlegend": true,
         "type": "scattergl",
         "x": [
          -4.130764484405518,
          -1.189704179763794
         ],
         "xaxis": "x",
         "y": [
          -2.305119752883911,
          3.7988486289978027
         ],
         "yaxis": "y"
        },
        {
         "hovertemplate": "color=Lepidocolaptes<br>TSNE1=%{x}<br>TSNE2=%{y}<extra></extra>",
         "legendgroup": "Lepidocolaptes",
         "marker": {
          "color": "#990099",
          "symbol": "circle"
         },
         "mode": "markers",
         "name": "Lepidocolaptes",
         "showlegend": true,
         "type": "scattergl",
         "x": [
          -5.9839043617248535,
          6.902161598205566,
          -1.653374195098877
         ],
         "xaxis": "x",
         "y": [
          -1.297478437423706,
          6.298410415649414,
          5.123770713806152
         ],
         "yaxis": "y"
        },
        {
         "hovertemplate": "color=Lepidothrix<br>TSNE1=%{x}<br>TSNE2=%{y}<extra></extra>",
         "legendgroup": "Lepidothrix",
         "marker": {
          "color": "#0099C6",
          "symbol": "circle"
         },
         "mode": "markers",
         "name": "Lepidothrix",
         "showlegend": true,
         "type": "scattergl",
         "x": [
          3.332019090652466,
          0.6311951279640198,
          -1.5412126779556274,
          -3.8947417736053467,
          -3.8488106727600098,
          -0.15708452463150024,
          4.355635643005371
         ],
         "xaxis": "x",
         "y": [
          -0.0644705593585968,
          -5.032928943634033,
          -0.6051331162452698,
          -2.6208693981170654,
          -2.5333008766174316,
          -7.829583644866943,
          4.115644931793213
         ],
         "yaxis": "y"
        },
        {
         "hovertemplate": "color=Leptodon<br>TSNE1=%{x}<br>TSNE2=%{y}<extra></extra>",
         "legendgroup": "Leptodon",
         "marker": {
          "color": "#DD4477",
          "symbol": "circle"
         },
         "mode": "markers",
         "name": "Leptodon",
         "showlegend": true,
         "type": "scattergl",
         "x": [
          8.979820251464844,
          -6.720789432525635
         ],
         "xaxis": "x",
         "y": [
          2.0773837566375732,
          -2.080070972442627
         ],
         "yaxis": "y"
        },
        {
         "hovertemplate": "color=Leptopogon<br>TSNE1=%{x}<br>TSNE2=%{y}<extra></extra>",
         "legendgroup": "Leptopogon",
         "marker": {
          "color": "#66AA00",
          "symbol": "circle"
         },
         "mode": "markers",
         "name": "Leptopogon",
         "showlegend": true,
         "type": "scattergl",
         "x": [
          -6.5493974685668945,
          -6.109745025634766,
          -3.6727559566497803,
          -4.1275553703308105,
          3.494093418121338,
          4.730090618133545,
          -0.9580172300338745
         ],
         "xaxis": "x",
         "y": [
          -6.358134746551514,
          -2.0447399616241455,
          -3.085451602935791,
          -8.595086097717285,
          1.445736289024353,
          -1.0550965070724487,
          -5.365618705749512
         ],
         "yaxis": "y"
        },
        {
         "hovertemplate": "color=Leptosittaca<br>TSNE1=%{x}<br>TSNE2=%{y}<extra></extra>",
         "legendgroup": "Leptosittaca",
         "marker": {
          "color": "#B82E2E",
          "symbol": "circle"
         },
         "mode": "markers",
         "name": "Leptosittaca",
         "showlegend": true,
         "type": "scattergl",
         "x": [
          -0.5726242065429688,
          -3.600205898284912
         ],
         "xaxis": "x",
         "y": [
          -1.4939833879470825,
          -7.961917877197266
         ],
         "yaxis": "y"
        },
        {
         "hovertemplate": "color=Leptotila<br>TSNE1=%{x}<br>TSNE2=%{y}<extra></extra>",
         "legendgroup": "Leptotila",
         "marker": {
          "color": "#316395",
          "symbol": "circle"
         },
         "mode": "markers",
         "name": "Leptotila",
         "showlegend": true,
         "type": "scattergl",
         "x": [
          1.0475963354110718,
          -0.06429440528154373,
          -2.057654857635498,
          -3.7312135696411133
         ],
         "xaxis": "x",
         "y": [
          2.4361815452575684,
          1.3049805164337158,
          -0.7586567401885986,
          -0.4146220088005066
         ],
         "yaxis": "y"
        },
        {
         "hovertemplate": "color=Leucopternis<br>TSNE1=%{x}<br>TSNE2=%{y}<extra></extra>",
         "legendgroup": "Leucopternis",
         "marker": {
          "color": "#3366CC",
          "symbol": "circle"
         },
         "mode": "markers",
         "name": "Leucopternis",
         "showlegend": true,
         "type": "scattergl",
         "x": [
          -3.3760528564453125,
          -4.777638912200928,
          -1.5658376216888428,
          5.813072681427002
         ],
         "xaxis": "x",
         "y": [
          -5.139932632446289,
          -4.69700813293457,
          -2.84645938873291,
          -0.5994851589202881
         ],
         "yaxis": "y"
        },
        {
         "hovertemplate": "color=Limnodromus<br>TSNE1=%{x}<br>TSNE2=%{y}<extra></extra>",
         "legendgroup": "Limnodromus",
         "marker": {
          "color": "#DC3912",
          "symbol": "circle"
         },
         "mode": "markers",
         "name": "Limnodromus",
         "showlegend": true,
         "type": "scattergl",
         "x": [
          5.135261535644531
         ],
         "xaxis": "x",
         "y": [
          2.333710193634033
         ],
         "yaxis": "y"
        },
        {
         "hovertemplate": "color=Limosa<br>TSNE1=%{x}<br>TSNE2=%{y}<extra></extra>",
         "legendgroup": "Limosa",
         "marker": {
          "color": "#FF9900",
          "symbol": "circle"
         },
         "mode": "markers",
         "name": "Limosa",
         "showlegend": true,
         "type": "scattergl",
         "x": [
          5.4193525314331055,
          7.567350387573242
         ],
         "xaxis": "x",
         "y": [
          -0.12239551544189453,
          -0.825629711151123
         ],
         "yaxis": "y"
        },
        {
         "hovertemplate": "color=Liosceles<br>TSNE1=%{x}<br>TSNE2=%{y}<extra></extra>",
         "legendgroup": "Liosceles",
         "marker": {
          "color": "#109618",
          "symbol": "circle"
         },
         "mode": "markers",
         "name": "Liosceles",
         "showlegend": true,
         "type": "scattergl",
         "x": [
          4.002160549163818,
          -0.0988650843501091,
          1.9226138591766357
         ],
         "xaxis": "x",
         "y": [
          9.347058296203613,
          9.001225471496582,
          -6.402046203613281
         ],
         "yaxis": "y"
        },
        {
         "hovertemplate": "color=Lochmias<br>TSNE1=%{x}<br>TSNE2=%{y}<extra></extra>",
         "legendgroup": "Lochmias",
         "marker": {
          "color": "#990099",
          "symbol": "circle"
         },
         "mode": "markers",
         "name": "Lochmias",
         "showlegend": true,
         "type": "scattergl",
         "x": [
          2.993161678314209,
          -2.4667434692382812
         ],
         "xaxis": "x",
         "y": [
          6.92164945602417,
          7.161291122436523
         ],
         "yaxis": "y"
        },
        {
         "hovertemplate": "color=Lophornis<br>TSNE1=%{x}<br>TSNE2=%{y}<extra></extra>",
         "legendgroup": "Lophornis",
         "marker": {
          "color": "#0099C6",
          "symbol": "circle"
         },
         "mode": "markers",
         "name": "Lophornis",
         "showlegend": true,
         "type": "scattergl",
         "x": [
          -3.8363890647888184,
          -4.6619110107421875
         ],
         "xaxis": "x",
         "y": [
          -8.152059555053711,
          -7.80474853515625
         ],
         "yaxis": "y"
        },
        {
         "hovertemplate": "color=Lophostrix<br>TSNE1=%{x}<br>TSNE2=%{y}<extra></extra>",
         "legendgroup": "Lophostrix",
         "marker": {
          "color": "#DD4477",
          "symbol": "circle"
         },
         "mode": "markers",
         "name": "Lophostrix",
         "showlegend": true,
         "type": "scattergl",
         "x": [
          -1.54171621799469,
          3.8126168251037598
         ],
         "xaxis": "x",
         "y": [
          -3.347317934036255,
          7.641402244567871
         ],
         "yaxis": "y"
        },
        {
         "hovertemplate": "color=Lophotriccus<br>TSNE1=%{x}<br>TSNE2=%{y}<extra></extra>",
         "legendgroup": "Lophotriccus",
         "marker": {
          "color": "#66AA00",
          "symbol": "circle"
         },
         "mode": "markers",
         "name": "Lophotriccus",
         "showlegend": true,
         "type": "scattergl",
         "x": [
          -3.936197519302368,
          0.42862364649772644,
          -3.205947160720825
         ],
         "xaxis": "x",
         "y": [
          -0.5050011873245239,
          -8.024555206298828,
          -3.6060948371887207
         ],
         "yaxis": "y"
        },
        {
         "hovertemplate": "color=Lurocalis<br>TSNE1=%{x}<br>TSNE2=%{y}<extra></extra>",
         "legendgroup": "Lurocalis",
         "marker": {
          "color": "#B82E2E",
          "symbol": "circle"
         },
         "mode": "markers",
         "name": "Lurocalis",
         "showlegend": true,
         "type": "scattergl",
         "x": [
          2.2205088138580322,
          1.9784098863601685,
          -4.830252647399902,
          -4.850670337677002,
          -5.262154579162598
         ],
         "xaxis": "x",
         "y": [
          0.5114036202430725,
          -6.06581974029541,
          2.993133306503296,
          -7.547527313232422,
          -8.069921493530273
         ],
         "yaxis": "y"
        },
        {
         "hovertemplate": "color=Machaeropterus<br>TSNE1=%{x}<br>TSNE2=%{y}<extra></extra>",
         "legendgroup": "Machaeropterus",
         "marker": {
          "color": "#316395",
          "symbol": "circle"
         },
         "mode": "markers",
         "name": "Machaeropterus",
         "showlegend": true,
         "type": "scattergl",
         "x": [
          1.8803340196609497,
          0.937782883644104
         ],
         "xaxis": "x",
         "y": [
          -1.5576510429382324,
          3.8686373233795166
         ],
         "yaxis": "y"
        },
        {
         "hovertemplate": "color=Malacoptila<br>TSNE1=%{x}<br>TSNE2=%{y}<extra></extra>",
         "legendgroup": "Malacoptila",
         "marker": {
          "color": "#3366CC",
          "symbol": "circle"
         },
         "mode": "markers",
         "name": "Malacoptila",
         "showlegend": true,
         "type": "scattergl",
         "x": [
          -1.1655757427215576,
          0.26773297786712646,
          -2.6576521396636963,
          -0.9459223747253418,
          -0.30610814690589905
         ],
         "xaxis": "x",
         "y": [
          -0.6728479862213135,
          -2.8465728759765625,
          -6.000428199768066,
          0.7523244619369507,
          -3.4831511974334717
         ],
         "yaxis": "y"
        },
        {
         "hovertemplate": "color=Margarornis<br>TSNE1=%{x}<br>TSNE2=%{y}<extra></extra>",
         "legendgroup": "Margarornis",
         "marker": {
          "color": "#DC3912",
          "symbol": "circle"
         },
         "mode": "markers",
         "name": "Margarornis",
         "showlegend": true,
         "type": "scattergl",
         "x": [
          0.45650792121887207,
          8.169020652770996
         ],
         "xaxis": "x",
         "y": [
          0.21564429998397827,
          -0.3270805776119232
         ],
         "yaxis": "y"
        },
        {
         "hovertemplate": "color=Mazaria<br>TSNE1=%{x}<br>TSNE2=%{y}<extra></extra>",
         "legendgroup": "Mazaria",
         "marker": {
          "color": "#FF9900",
          "symbol": "circle"
         },
         "mode": "markers",
         "name": "Mazaria",
         "showlegend": true,
         "type": "scattergl",
         "x": [
          1.5158298015594482
         ],
         "xaxis": "x",
         "y": [
          0.04008224606513977
         ],
         "yaxis": "y"
        },
        {
         "hovertemplate": "color=Mecocerculus<br>TSNE1=%{x}<br>TSNE2=%{y}<extra></extra>",
         "legendgroup": "Mecocerculus",
         "marker": {
          "color": "#109618",
          "symbol": "circle"
         },
         "mode": "markers",
         "name": "Mecocerculus",
         "showlegend": true,
         "type": "scattergl",
         "x": [
          7.098238468170166
         ],
         "xaxis": "x",
         "y": [
          6.423105716705322
         ],
         "yaxis": "y"
        },
        {
         "hovertemplate": "color=Megaceryle<br>TSNE1=%{x}<br>TSNE2=%{y}<extra></extra>",
         "legendgroup": "Megaceryle",
         "marker": {
          "color": "#990099",
          "symbol": "circle"
         },
         "mode": "markers",
         "name": "Megaceryle",
         "showlegend": true,
         "type": "scattergl",
         "x": [
          -0.17331235110759735,
          -4.8682942390441895,
          -5.460733890533447
         ],
         "xaxis": "x",
         "y": [
          0.676642119884491,
          4.146340847015381,
          2.187117099761963
         ],
         "yaxis": "y"
        },
        {
         "hovertemplate": "color=Megarynchus<br>TSNE1=%{x}<br>TSNE2=%{y}<extra></extra>",
         "legendgroup": "Megarynchus",
         "marker": {
          "color": "#0099C6",
          "symbol": "circle"
         },
         "mode": "markers",
         "name": "Megarynchus",
         "showlegend": true,
         "type": "scattergl",
         "x": [
          2.0624701976776123,
          -1.4772998094558716
         ],
         "xaxis": "x",
         "y": [
          -2.9303858280181885,
          -4.132080554962158
         ],
         "yaxis": "y"
        },
        {
         "hovertemplate": "color=Megascops<br>TSNE1=%{x}<br>TSNE2=%{y}<extra></extra>",
         "legendgroup": "Megascops",
         "marker": {
          "color": "#DD4477",
          "symbol": "circle"
         },
         "mode": "markers",
         "name": "Megascops",
         "showlegend": true,
         "type": "scattergl",
         "x": [
          -4.8202409744262695,
          -4.144205570220947,
          1.6230394840240479,
          -0.7129364609718323,
          -4.997040271759033,
          -2.7276675701141357
         ],
         "xaxis": "x",
         "y": [
          4.640685558319092,
          1.7929739952087402,
          3.311338424682617,
          4.423595428466797,
          3.4916677474975586,
          5.843944072723389
         ],
         "yaxis": "y"
        },
        {
         "hovertemplate": "color=Melanerpes<br>TSNE1=%{x}<br>TSNE2=%{y}<extra></extra>",
         "legendgroup": "Melanerpes",
         "marker": {
          "color": "#66AA00",
          "symbol": "circle"
         },
         "mode": "markers",
         "name": "Melanerpes",
         "showlegend": true,
         "type": "scattergl",
         "x": [
          7.221303462982178,
          -3.8201236724853516,
          2.2160868644714355
         ],
         "xaxis": "x",
         "y": [
          0.4195196032524109,
          -4.855409145355225,
          -8.282121658325195
         ],
         "yaxis": "y"
        },
        {
         "hovertemplate": "color=Mesembrinibis<br>TSNE1=%{x}<br>TSNE2=%{y}<extra></extra>",
         "legendgroup": "Mesembrinibis",
         "marker": {
          "color": "#B82E2E",
          "symbol": "circle"
         },
         "mode": "markers",
         "name": "Mesembrinibis",
         "showlegend": true,
         "type": "scattergl",
         "x": [
          8.090575218200684,
          -3.3962509632110596
         ],
         "xaxis": "x",
         "y": [
          1.3870655298233032,
          2.3211312294006348
         ],
         "yaxis": "y"
        },
        {
         "hovertemplate": "color=Metallura<br>TSNE1=%{x}<br>TSNE2=%{y}<extra></extra>",
         "legendgroup": "Metallura",
         "marker": {
          "color": "#316395",
          "symbol": "circle"
         },
         "mode": "markers",
         "name": "Metallura",
         "showlegend": true,
         "type": "scattergl",
         "x": [
          0.5953396558761597
         ],
         "xaxis": "x",
         "y": [
          -0.7247563004493713
         ],
         "yaxis": "y"
        },
        {
         "hovertemplate": "color=Metopothrix<br>TSNE1=%{x}<br>TSNE2=%{y}<extra></extra>",
         "legendgroup": "Metopothrix",
         "marker": {
          "color": "#3366CC",
          "symbol": "circle"
         },
         "mode": "markers",
         "name": "Metopothrix",
         "showlegend": true,
         "type": "scattergl",
         "x": [
          6.370662689208984,
          4.66330099105835,
          0.07820060849189758
         ],
         "xaxis": "x",
         "y": [
          -2.1800670623779297,
          -3.9226977825164795,
          -3.1392626762390137
         ],
         "yaxis": "y"
        },
        {
         "hovertemplate": "color=Metriopelia<br>TSNE1=%{x}<br>TSNE2=%{y}<extra></extra>",
         "legendgroup": "Metriopelia",
         "marker": {
          "color": "#DC3912",
          "symbol": "circle"
         },
         "mode": "markers",
         "name": "Metriopelia",
         "showlegend": true,
         "type": "scattergl",
         "x": [
          -6.673048496246338,
          -2.11611270904541
         ],
         "xaxis": "x",
         "y": [
          -5.690244674682617,
          -3.596930980682373
         ],
         "yaxis": "y"
        },
        {
         "hovertemplate": "color=Micrastur<br>TSNE1=%{x}<br>TSNE2=%{y}<extra></extra>",
         "legendgroup": "Micrastur",
         "marker": {
          "color": "#FF9900",
          "symbol": "circle"
         },
         "mode": "markers",
         "name": "Micrastur",
         "showlegend": true,
         "type": "scattergl",
         "x": [
          6.187051296234131,
          1.3605854511260986,
          -1.1649848222732544,
          5.62449312210083,
          -1.2383211851119995,
          4.492028713226318,
          -1.5220903158187866,
          5.627922534942627,
          3.4071388244628906,
          8.450894355773926,
          1.7195968627929688,
          1.010525107383728,
          -0.7856078147888184,
          -4.890773773193359,
          -0.7401942014694214
         ],
         "xaxis": "x",
         "y": [
          -1.5514379739761353,
          2.4130163192749023,
          1.110588550567627,
          -0.07749023288488388,
          1.3275505304336548,
          -3.1653010845184326,
          -3.3926618099212646,
          4.547520637512207,
          3.2838592529296875,
          4.963626861572266,
          2.353604555130005,
          1.2527753114700317,
          -5.645161151885986,
          -5.939478874206543,
          1.5275686979293823
         ],
         "yaxis": "y"
        },
        {
         "hovertemplate": "color=Microbates<br>TSNE1=%{x}<br>TSNE2=%{y}<extra></extra>",
         "legendgroup": "Microbates",
         "marker": {
          "color": "#109618",
          "symbol": "circle"
         },
         "mode": "markers",
         "name": "Microbates",
         "showlegend": true,
         "type": "scattergl",
         "x": [
          7.352907180786133,
          -2.816227436065674
         ],
         "xaxis": "x",
         "y": [
          0.629608154296875,
          0.31822288036346436
         ],
         "yaxis": "y"
        },
        {
         "hovertemplate": "color=Microcerculus<br>TSNE1=%{x}<br>TSNE2=%{y}<extra></extra>",
         "legendgroup": "Microcerculus",
         "marker": {
          "color": "#990099",
          "symbol": "circle"
         },
         "mode": "markers",
         "name": "Microcerculus",
         "showlegend": true,
         "type": "scattergl",
         "x": [
          -3.310117483139038,
          -2.345792055130005,
          -2.3150134086608887,
          -2.624899387359619
         ],
         "xaxis": "x",
         "y": [
          6.064494609832764,
          -3.723006010055542,
          -3.4483566284179688,
          7.823371887207031
         ],
         "yaxis": "y"
        },
        {
         "hovertemplate": "color=Micromonacha<br>TSNE1=%{x}<br>TSNE2=%{y}<extra></extra>",
         "legendgroup": "Micromonacha",
         "marker": {
          "color": "#0099C6",
          "symbol": "circle"
         },
         "mode": "markers",
         "name": "Micromonacha",
         "showlegend": true,
         "type": "scattergl",
         "x": [
          -4.9045491218566895,
          -4.674104690551758
         ],
         "xaxis": "x",
         "y": [
          3.5820772647857666,
          4.2664289474487305
         ],
         "yaxis": "y"
        },
        {
         "hovertemplate": "color=Micropygia<br>TSNE1=%{x}<br>TSNE2=%{y}<extra></extra>",
         "legendgroup": "Micropygia",
         "marker": {
          "color": "#DD4477",
          "symbol": "circle"
         },
         "mode": "markers",
         "name": "Micropygia",
         "showlegend": true,
         "type": "scattergl",
         "x": [
          -3.260326862335205,
          6.503368377685547,
          5.854703903198242,
          3.346921682357788
         ],
         "xaxis": "x",
         "y": [
          6.25513219833374,
          3.9198527336120605,
          4.230845928192139,
          2.405184507369995
         ],
         "yaxis": "y"
        },
        {
         "hovertemplate": "color=Microrhopias<br>TSNE1=%{x}<br>TSNE2=%{y}<extra></extra>",
         "legendgroup": "Microrhopias",
         "marker": {
          "color": "#66AA00",
          "symbol": "circle"
         },
         "mode": "markers",
         "name": "Microrhopias",
         "showlegend": true,
         "type": "scattergl",
         "x": [
          2.5001883506774902,
          3.396245002746582
         ],
         "xaxis": "x",
         "y": [
          3.1185998916625977,
          6.600517272949219
         ],
         "yaxis": "y"
        },
        {
         "hovertemplate": "color=Microxenops<br>TSNE1=%{x}<br>TSNE2=%{y}<extra></extra>",
         "legendgroup": "Microxenops",
         "marker": {
          "color": "#B82E2E",
          "symbol": "circle"
         },
         "mode": "markers",
         "name": "Microxenops",
         "showlegend": true,
         "type": "scattergl",
         "x": [
          -5.255896091461182,
          -5.548527717590332
         ],
         "xaxis": "x",
         "y": [
          2.75079083442688,
          2.3960909843444824
         ],
         "yaxis": "y"
        },
        {
         "hovertemplate": "color=Milvago<br>TSNE1=%{x}<br>TSNE2=%{y}<extra></extra>",
         "legendgroup": "Milvago",
         "marker": {
          "color": "#316395",
          "symbol": "circle"
         },
         "mode": "markers",
         "name": "Milvago",
         "showlegend": true,
         "type": "scattergl",
         "x": [
          2.2694880962371826,
          0.9990668296813965,
          -2.145488739013672,
          -6.4609527587890625,
          -6.100519180297852
         ],
         "xaxis": "x",
         "y": [
          6.700186252593994,
          -1.0453742742538452,
          8.614768028259277,
          -5.5390400886535645,
          -5.556044578552246
         ],
         "yaxis": "y"
        },
        {
         "hovertemplate": "color=Mimus<br>TSNE1=%{x}<br>TSNE2=%{y}<extra></extra>",
         "legendgroup": "Mimus",
         "marker": {
          "color": "#3366CC",
          "symbol": "circle"
         },
         "mode": "markers",
         "name": "Mimus",
         "showlegend": true,
         "type": "scattergl",
         "x": [
          -5.960672378540039,
          -6.587188720703125,
          1.5938585996627808
         ],
         "xaxis": "x",
         "y": [
          -4.471508026123047,
          -6.199552536010742,
          -3.603466272354126
         ],
         "yaxis": "y"
        },
        {
         "hovertemplate": "color=Mionectes<br>TSNE1=%{x}<br>TSNE2=%{y}<extra></extra>",
         "legendgroup": "Mionectes",
         "marker": {
          "color": "#DC3912",
          "symbol": "circle"
         },
         "mode": "markers",
         "name": "Mionectes",
         "showlegend": true,
         "type": "scattergl",
         "x": [
          -5.261762619018555,
          7.763270378112793,
          6.185534477233887,
          3.172001838684082,
          -0.6013236045837402,
          7.606813430786133,
          8.57105541229248,
          5.159409046173096
         ],
         "xaxis": "x",
         "y": [
          2.2392020225524902,
          5.148597717285156,
          1.892506718635559,
          2.881155252456665,
          3.3331871032714844,
          0.07727116346359253,
          1.845452070236206,
          0.3946077227592468
         ],
         "yaxis": "y"
        },
        {
         "hovertemplate": "color=Mitu<br>TSNE1=%{x}<br>TSNE2=%{y}<extra></extra>",
         "legendgroup": "Mitu",
         "marker": {
          "color": "#FF9900",
          "symbol": "circle"
         },
         "mode": "markers",
         "name": "Mitu",
         "showlegend": true,
         "type": "scattergl",
         "x": [
          4.554558753967285,
          1.8693972826004028
         ],
         "xaxis": "x",
         "y": [
          1.7476638555526733,
          5.2288408279418945
         ],
         "yaxis": "y"
        },
        {
         "hovertemplate": "color=Molothrus<br>TSNE1=%{x}<br>TSNE2=%{y}<extra></extra>",
         "legendgroup": "Molothrus",
         "marker": {
          "color": "#109618",
          "symbol": "circle"
         },
         "mode": "markers",
         "name": "Molothrus",
         "showlegend": true,
         "type": "scattergl",
         "x": [
          4.309483051300049,
          -0.616711437702179,
          1.3227111101150513,
          -4.083027362823486,
          -4.525732040405273
         ],
         "xaxis": "x",
         "y": [
          8.582717895507812,
          1.0637527704238892,
          3.959545612335205,
          -8.138113975524902,
          -5.317251205444336
         ],
         "yaxis": "y"
        },
        {
         "hovertemplate": "color=Momotus<br>TSNE1=%{x}<br>TSNE2=%{y}<extra></extra>",
         "legendgroup": "Momotus",
         "marker": {
          "color": "#990099",
          "symbol": "circle"
         },
         "mode": "markers",
         "name": "Momotus",
         "showlegend": true,
         "type": "scattergl",
         "x": [
          -0.01247271429747343,
          0.34101834893226624,
          -0.9209379553794861,
          0.7718389630317688,
          0.659713864326477
         ],
         "xaxis": "x",
         "y": [
          -4.751917839050293,
          -4.277617931365967,
          -1.8117170333862305,
          6.0495195388793945,
          -1.4573614597320557
         ],
         "yaxis": "y"
        },
        {
         "hovertemplate": "color=Monasa<br>TSNE1=%{x}<br>TSNE2=%{y}<extra></extra>",
         "legendgroup": "Monasa",
         "marker": {
          "color": "#0099C6",
          "symbol": "circle"
         },
         "mode": "markers",
         "name": "Monasa",
         "showlegend": true,
         "type": "scattergl",
         "x": [
          1.6516634225845337,
          6.042895317077637,
          -2.622157335281372,
          8.717626571655273,
          1.234095573425293,
          1.3670295476913452
         ],
         "xaxis": "x",
         "y": [
          2.7002110481262207,
          -0.27423927187919617,
          7.653087615966797,
          2.01621150970459,
          5.783387184143066,
          5.156280517578125
         ],
         "yaxis": "y"
        },
        {
         "hovertemplate": "color=Morphnus<br>TSNE1=%{x}<br>TSNE2=%{y}<extra></extra>",
         "legendgroup": "Morphnus",
         "marker": {
          "color": "#DD4477",
          "symbol": "circle"
         },
         "mode": "markers",
         "name": "Morphnus",
         "showlegend": true,
         "type": "scattergl",
         "x": [
          -4.546420574188232
         ],
         "xaxis": "x",
         "y": [
          -7.400375843048096
         ],
         "yaxis": "y"
        },
        {
         "hovertemplate": "color=Myadestes<br>TSNE1=%{x}<br>TSNE2=%{y}<extra></extra>",
         "legendgroup": "Myadestes",
         "marker": {
          "color": "#66AA00",
          "symbol": "circle"
         },
         "mode": "markers",
         "name": "Myadestes",
         "showlegend": true,
         "type": "scattergl",
         "x": [
          4.178790092468262,
          1.4675675630569458,
          3.383765935897827
         ],
         "xaxis": "x",
         "y": [
          0.2318357527256012,
          0.5092793107032776,
          2.5172863006591797
         ],
         "yaxis": "y"
        },
        {
         "hovertemplate": "color=Mycteria<br>TSNE1=%{x}<br>TSNE2=%{y}<extra></extra>",
         "legendgroup": "Mycteria",
         "marker": {
          "color": "#B82E2E",
          "symbol": "circle"
         },
         "mode": "markers",
         "name": "Mycteria",
         "showlegend": true,
         "type": "scattergl",
         "x": [
          4.093535900115967,
          -3.1371874809265137,
          4.634395122528076
         ],
         "xaxis": "x",
         "y": [
          7.582403182983398,
          -5.165796279907227,
          7.748631954193115
         ],
         "yaxis": "y"
        },
        {
         "hovertemplate": "color=Myiarchus<br>TSNE1=%{x}<br>TSNE2=%{y}<extra></extra>",
         "legendgroup": "Myiarchus",
         "marker": {
          "color": "#316395",
          "symbol": "circle"
         },
         "mode": "markers",
         "name": "Myiarchus",
         "showlegend": true,
         "type": "scattergl",
         "x": [
          4.456887245178223,
          -1.4262653589248657,
          -6.554490566253662,
          0.6772950887680054,
          3.0804238319396973,
          4.3135247230529785,
          0.15138106048107147,
          3.216048002243042,
          3.4475784301757812,
          0.49829787015914917,
          -3.957512855529785,
          -4.800483226776123,
          -4.312941074371338,
          3.848257303237915,
          -0.28685277700424194,
          -0.9527978301048279
         ],
         "xaxis": "x",
         "y": [
          -2.6800975799560547,
          -2.6154940128326416,
          -1.2532025575637817,
          -1.0841155052185059,
          0.9594042301177979,
          2.371060371398926,
          -1.9522931575775146,
          -1.5401874780654907,
          0.662547767162323,
          6.16153621673584,
          -2.3402774333953857,
          -1.090944766998291,
          -4.983762264251709,
          2.2046334743499756,
          1.2279514074325562,
          -3.0950005054473877
         ],
         "yaxis": "y"
        },
        {
         "hovertemplate": "color=Myiobius<br>TSNE1=%{x}<br>TSNE2=%{y}<extra></extra>",
         "legendgroup": "Myiobius",
         "marker": {
          "color": "#3366CC",
          "symbol": "circle"
         },
         "mode": "markers",
         "name": "Myiobius",
         "showlegend": true,
         "type": "scattergl",
         "x": [
          5.843948841094971,
          -6.727895259857178,
          6.286916255950928,
          1.3826967477798462,
          -3.998164653778076,
          -5.510069847106934,
          -5.196171283721924,
          1.3621834516525269,
          -3.983044147491455,
          -1.8438575267791748,
          -6.617060661315918
         ],
         "xaxis": "x",
         "y": [
          -1.6345115900039673,
          -6.573388576507568,
          2.046445608139038,
          -1.7401604652404785,
          -7.078159332275391,
          -8.00413703918457,
          -4.4762396812438965,
          6.984068870544434,
          0.19051457941532135,
          -4.982915878295898,
          -6.631709098815918
         ],
         "yaxis": "y"
        },
        {
         "hovertemplate": "color=Myioborus<br>TSNE1=%{x}<br>TSNE2=%{y}<extra></extra>",
         "legendgroup": "Myioborus",
         "marker": {
          "color": "#DC3912",
          "symbol": "circle"
         },
         "mode": "markers",
         "name": "Myioborus",
         "showlegend": true,
         "type": "scattergl",
         "x": [
          -2.821948528289795,
          4.899683475494385,
          -3.3134915828704834,
          -3.3743855953216553,
          0.14331574738025665,
          -0.6484623551368713
         ],
         "xaxis": "x",
         "y": [
          6.781480312347412,
          0.7427719831466675,
          6.750703811645508,
          2.0827393531799316,
          -3.046659469604492,
          1.0241211652755737
         ],
         "yaxis": "y"
        },
        {
         "hovertemplate": "color=Myiodynastes<br>TSNE1=%{x}<br>TSNE2=%{y}<extra></extra>",
         "legendgroup": "Myiodynastes",
         "marker": {
          "color": "#FF9900",
          "symbol": "circle"
         },
         "mode": "markers",
         "name": "Myiodynastes",
         "showlegend": true,
         "type": "scattergl",
         "x": [
          -1.7412643432617188,
          1.1764525175094604,
          -5.562180519104004,
          5.161995887756348,
          4.103911399841309,
          4.23771333694458,
          5.125755310058594,
          -4.773873329162598,
          -0.17613348364830017,
          4.301474571228027
         ],
         "xaxis": "x",
         "y": [
          -0.00954592414200306,
          -1.7418696880340576,
          -5.410305500030518,
          -0.962766170501709,
          9.79738998413086,
          -3.9224109649658203,
          4.025783061981201,
          -7.712379455566406,
          -3.880357265472412,
          -2.3441333770751953
         ],
         "yaxis": "y"
        },
        {
         "hovertemplate": "color=Myiopagis<br>TSNE1=%{x}<br>TSNE2=%{y}<extra></extra>",
         "legendgroup": "Myiopagis",
         "marker": {
          "color": "#109618",
          "symbol": "circle"
         },
         "mode": "markers",
         "name": "Myiopagis",
         "showlegend": true,
         "type": "scattergl",
         "x": [
          1.7479264736175537,
          1.577533483505249,
          1.5987615585327148,
          1.9679557085037231,
          -1.9586424827575684,
          -4.547721862792969,
          -0.3009780943393707,
          -3.0704400539398193,
          1.2967228889465332,
          -5.859804153442383,
          -0.6733257174491882,
          -1.71664559841156,
          -2.9286022186279297,
          -4.447399139404297
         ],
         "xaxis": "x",
         "y": [
          0.27812659740448,
          2.7942495346069336,
          4.715454578399658,
          -5.777884483337402,
          0.31868094205856323,
          3.4442946910858154,
          6.868414402008057,
          7.326075553894043,
          8.243450164794922,
          -5.995580196380615,
          4.460402488708496,
          6.94382381439209,
          -5.333002090454102,
          4.189401626586914
         ],
         "yaxis": "y"
        },
        {
         "hovertemplate": "color=Myiophobus<br>TSNE1=%{x}<br>TSNE2=%{y}<extra></extra>",
         "legendgroup": "Myiophobus",
         "marker": {
          "color": "#990099",
          "symbol": "circle"
         },
         "mode": "markers",
         "name": "Myiophobus",
         "showlegend": true,
         "type": "scattergl",
         "x": [
          -3.484811305999756,
          -6.356543064117432,
          -0.43469905853271484,
          -2.182919979095459
         ],
         "xaxis": "x",
         "y": [
          -2.0573441982269287,
          -2.4251527786254883,
          -4.17894172668457,
          -9.097705841064453
         ],
         "yaxis": "y"
        },
        {
         "hovertemplate": "color=Myiornis<br>TSNE1=%{x}<br>TSNE2=%{y}<extra></extra>",
         "legendgroup": "Myiornis",
         "marker": {
          "color": "#0099C6",
          "symbol": "circle"
         },
         "mode": "markers",
         "name": "Myiornis",
         "showlegend": true,
         "type": "scattergl",
         "x": [
          2.7491321563720703,
          -1.6900273561477661,
          -4.948530673980713
         ],
         "xaxis": "x",
         "y": [
          1.0119400024414062,
          -1.0835096836090088,
          2.562896251678467
         ],
         "yaxis": "y"
        },
        {
         "hovertemplate": "color=Myiotheretes<br>TSNE1=%{x}<br>TSNE2=%{y}<extra></extra>",
         "legendgroup": "Myiotheretes",
         "marker": {
          "color": "#DD4477",
          "symbol": "circle"
         },
         "mode": "markers",
         "name": "Myiotheretes",
         "showlegend": true,
         "type": "scattergl",
         "x": [
          -1.9159787893295288,
          1.2912254333496094,
          1.63920259475708,
          -2.6070759296417236,
          -2.112433433532715,
          1.4644978046417236
         ],
         "xaxis": "x",
         "y": [
          0.65935218334198,
          3.4084157943725586,
          0.19183513522148132,
          7.857420921325684,
          -2.527681350708008,
          -0.22433491051197052
         ],
         "yaxis": "y"
        },
        {
         "hovertemplate": "color=Myiothlypis<br>TSNE1=%{x}<br>TSNE2=%{y}<extra></extra>",
         "legendgroup": "Myiothlypis",
         "marker": {
          "color": "#66AA00",
          "symbol": "circle"
         },
         "mode": "markers",
         "name": "Myiothlypis",
         "showlegend": true,
         "type": "scattergl",
         "x": [
          -0.8340618014335632,
          -1.5692225694656372,
          -6.447994709014893,
          -2.4571588039398193,
          -3.9936771392822266,
          2.656440258026123,
          -1.4018945693969727,
          -2.0845911502838135,
          -2.6773853302001953,
          -1.2237207889556885,
          1.7053040266036987,
          -3.670753240585327,
          0.31605297327041626,
          1.3378275632858276,
          -3.2581615447998047
         ],
         "xaxis": "x",
         "y": [
          -0.15623022615909576,
          4.8408589363098145,
          -1.945063829421997,
          1.2488603591918945,
          1.6755573749542236,
          6.238709449768066,
          1.1712417602539062,
          8.677666664123535,
          7.508522987365723,
          2.5834755897521973,
          5.309396743774414,
          2.474137783050537,
          -4.7675251960754395,
          4.789008140563965,
          6.304652690887451
         ],
         "yaxis": "y"
        },
        {
         "hovertemplate": "color=Myiotriccus<br>TSNE1=%{x}<br>TSNE2=%{y}<extra></extra>",
         "legendgroup": "Myiotriccus",
         "marker": {
          "color": "#B82E2E",
          "symbol": "circle"
         },
         "mode": "markers",
         "name": "Myiotriccus",
         "showlegend": true,
         "type": "scattergl",
         "x": [
          7.471212863922119,
          7.0223469734191895,
          3.096982479095459,
          7.206347465515137
         ],
         "xaxis": "x",
         "y": [
          0.6891778111457825,
          -2.8410439491271973,
          1.060373067855835,
          5.798719882965088
         ],
         "yaxis": "y"
        },
        {
         "hovertemplate": "color=Myiozetetes<br>TSNE1=%{x}<br>TSNE2=%{y}<extra></extra>",
         "legendgroup": "Myiozetetes",
         "marker": {
          "color": "#316395",
          "symbol": "circle"
         },
         "mode": "markers",
         "name": "Myiozetetes",
         "showlegend": true,
         "type": "scattergl",
         "x": [
          -2.6204771995544434,
          0.4637162387371063,
          4.703188419342041,
          -1.8442151546478271,
          2.901102304458618,
          5.879397869110107,
          2.223507881164551,
          -3.522845506668091,
          -2.351391553878784,
          -3.7886831760406494,
          5.583212375640869
         ],
         "xaxis": "x",
         "y": [
          3.9310731887817383,
          -7.78436803817749,
          4.1305975914001465,
          1.8395158052444458,
          2.310121536254883,
          4.039643287658691,
          5.228603363037109,
          -6.287676811218262,
          -7.755442142486572,
          -3.2181499004364014,
          4.052438259124756
         ],
         "yaxis": "y"
        },
        {
         "hovertemplate": "color=Myrmelastes<br>TSNE1=%{x}<br>TSNE2=%{y}<extra></extra>",
         "legendgroup": "Myrmelastes",
         "marker": {
          "color": "#3366CC",
          "symbol": "circle"
         },
         "mode": "markers",
         "name": "Myrmelastes",
         "showlegend": true,
         "type": "scattergl",
         "x": [
          -0.526382565498352,
          1.9086613655090332,
          -6.212050437927246,
          -0.8924629092216492,
          -1.7995697259902954,
          -2.05422043800354,
          0.785071849822998,
          -0.5219060182571411,
          -6.1835408210754395,
          -2.0028393268585205
         ],
         "xaxis": "x",
         "y": [
          3.0120420455932617,
          4.791758060455322,
          0.43456777930259705,
          2.8927249908447266,
          5.161003589630127,
          -7.261958599090576,
          -7.448770046234131,
          6.399950981140137,
          -2.0205469131469727,
          8.809423446655273
         ],
         "yaxis": "y"
        },
        {
         "hovertemplate": "color=Myrmoborus<br>TSNE1=%{x}<br>TSNE2=%{y}<extra></extra>",
         "legendgroup": "Myrmoborus",
         "marker": {
          "color": "#DC3912",
          "symbol": "circle"
         },
         "mode": "markers",
         "name": "Myrmoborus",
         "showlegend": true,
         "type": "scattergl",
         "x": [
          -5.788208961486816,
          0.5892434120178223,
          -5.20894718170166,
          -1.4930003881454468,
          3.7799713611602783,
          -4.635035037994385
         ],
         "xaxis": "x",
         "y": [
          -5.640463829040527,
          4.365460395812988,
          2.2906484603881836,
          5.180111885070801,
          0.10917913913726807,
          2.485023021697998
         ],
         "yaxis": "y"
        },
        {
         "hovertemplate": "color=Myrmophylax<br>TSNE1=%{x}<br>TSNE2=%{y}<extra></extra>",
         "legendgroup": "Myrmophylax",
         "marker": {
          "color": "#FF9900",
          "symbol": "circle"
         },
         "mode": "markers",
         "name": "Myrmophylax",
         "showlegend": true,
         "type": "scattergl",
         "x": [
          -2.2515172958374023,
          -3.730990409851074,
          -3.8702499866485596
         ],
         "xaxis": "x",
         "y": [
          3.5925180912017822,
          -5.392446041107178,
          -6.927023410797119
         ],
         "yaxis": "y"
        },
        {
         "hovertemplate": "color=Myrmothera<br>TSNE1=%{x}<br>TSNE2=%{y}<extra></extra>",
         "legendgroup": "Myrmothera",
         "marker": {
          "color": "#109618",
          "symbol": "circle"
         },
         "mode": "markers",
         "name": "Myrmothera",
         "showlegend": true,
         "type": "scattergl",
         "x": [
          -0.9571166634559631,
          -4.593430519104004,
          -5.257268905639648
         ],
         "xaxis": "x",
         "y": [
          6.738729000091553,
          4.5598320960998535,
          2.8239259719848633
         ],
         "yaxis": "y"
        },
        {
         "hovertemplate": "color=Myrmotherula<br>TSNE1=%{x}<br>TSNE2=%{y}<extra></extra>",
         "legendgroup": "Myrmotherula",
         "marker": {
          "color": "#990099",
          "symbol": "circle"
         },
         "mode": "markers",
         "name": "Myrmotherula",
         "showlegend": true,
         "type": "scattergl",
         "x": [
          -0.8594248294830322,
          -3.5160841941833496,
          -3.4608283042907715,
          -1.529645562171936,
          0.9089493155479431,
          0.8197000622749329,
          1.4118869304656982,
          -5.6183695793151855,
          0.3664158284664154,
          5.701366901397705,
          1.0188617706298828,
          2.0857906341552734,
          2.2826733589172363,
          -4.252510070800781,
          -2.8211417198181152,
          -5.462273597717285,
          -5.883484363555908,
          1.2861950397491455,
          -5.074668884277344,
          -3.4663095474243164,
          -0.835470974445343,
          -6.7793354988098145,
          1.1935213804244995,
          -0.057597942650318146,
          5.293853759765625,
          4.120012283325195,
          -2.222790479660034,
          -2.159104347229004,
          4.964909553527832,
          6.622750282287598,
          5.975338935852051
         ],
         "xaxis": "x",
         "y": [
          -4.021788597106934,
          2.6705129146575928,
          3.575347900390625,
          -3.9547228813171387,
          1.0877656936645508,
          6.943903923034668,
          3.4707040786743164,
          0.022942880168557167,
          4.262609004974365,
          3.9931297302246094,
          6.054431438446045,
          6.4112958908081055,
          6.864574432373047,
          0.686039924621582,
          6.800074577331543,
          1.69208824634552,
          -5.156671047210693,
          5.758528709411621,
          2.624682903289795,
          5.489080905914307,
          7.637173652648926,
          -1.2507853507995605,
          5.972677230834961,
          7.8943586349487305,
          -2.0892844200134277,
          6.819924354553223,
          -3.0100646018981934,
          -5.085672378540039,
          3.9921951293945312,
          -0.2414722740650177,
          4.241514682769775
         ],
         "yaxis": "y"
        },
        {
         "hovertemplate": "color=Nannopsittaca<br>TSNE1=%{x}<br>TSNE2=%{y}<extra></extra>",
         "legendgroup": "Nannopsittaca",
         "marker": {
          "color": "#0099C6",
          "symbol": "circle"
         },
         "mode": "markers",
         "name": "Nannopsittaca",
         "showlegend": true,
         "type": "scattergl",
         "x": [
          2.002349615097046,
          -5.767458438873291
         ],
         "xaxis": "x",
         "y": [
          -2.9956936836242676,
          -5.303418159484863
         ],
         "yaxis": "y"
        },
        {
         "hovertemplate": "color=Nasica<br>TSNE1=%{x}<br>TSNE2=%{y}<extra></extra>",
         "legendgroup": "Nasica",
         "marker": {
          "color": "#DD4477",
          "symbol": "circle"
         },
         "mode": "markers",
         "name": "Nasica",
         "showlegend": true,
         "type": "scattergl",
         "x": [
          -4.509705543518066
         ],
         "xaxis": "x",
         "y": [
          -5.673819541931152
         ],
         "yaxis": "y"
        },
        {
         "hovertemplate": "color=Nemosia<br>TSNE1=%{x}<br>TSNE2=%{y}<extra></extra>",
         "legendgroup": "Nemosia",
         "marker": {
          "color": "#66AA00",
          "symbol": "circle"
         },
         "mode": "markers",
         "name": "Nemosia",
         "showlegend": true,
         "type": "scattergl",
         "x": [
          3.148132801055908,
          8.250799179077148,
          -7.142064094543457
         ],
         "xaxis": "x",
         "y": [
          -4.620546340942383,
          1.7004529237747192,
          -4.371745586395264
         ],
         "yaxis": "y"
        },
        {
         "hovertemplate": "color=Neoctantes<br>TSNE1=%{x}<br>TSNE2=%{y}<extra></extra>",
         "legendgroup": "Neoctantes",
         "marker": {
          "color": "#B82E2E",
          "symbol": "circle"
         },
         "mode": "markers",
         "name": "Neoctantes",
         "showlegend": true,
         "type": "scattergl",
         "x": [
          8.879908561706543,
          8.233938217163086,
          8.740988731384277,
          -1.8203864097595215
         ],
         "xaxis": "x",
         "y": [
          1.5311779975891113,
          -0.3830643594264984,
          3.2718656063079834,
          9.035873413085938
         ],
         "yaxis": "y"
        },
        {
         "hovertemplate": "color=Neomorphus<br>TSNE1=%{x}<br>TSNE2=%{y}<extra></extra>",
         "legendgroup": "Neomorphus",
         "marker": {
          "color": "#316395",
          "symbol": "circle"
         },
         "mode": "markers",
         "name": "Neomorphus",
         "showlegend": true,
         "type": "scattergl",
         "x": [
          -4.641076564788818
         ],
         "xaxis": "x",
         "y": [
          0.4909222424030304
         ],
         "yaxis": "y"
        },
        {
         "hovertemplate": "color=Neopelma<br>TSNE1=%{x}<br>TSNE2=%{y}<extra></extra>",
         "legendgroup": "Neopelma",
         "marker": {
          "color": "#3366CC",
          "symbol": "circle"
         },
         "mode": "markers",
         "name": "Neopelma",
         "showlegend": true,
         "type": "scattergl",
         "x": [
          -3.7483198642730713,
          -3.9669132232666016,
          -6.003475666046143
         ],
         "xaxis": "x",
         "y": [
          2.0870697498321533,
          3.3208746910095215,
          -2.5917439460754395
         ],
         "yaxis": "y"
        },
        {
         "hovertemplate": "color=Neopipo<br>TSNE1=%{x}<br>TSNE2=%{y}<extra></extra>",
         "legendgroup": "Neopipo",
         "marker": {
          "color": "#DC3912",
          "symbol": "circle"
         },
         "mode": "markers",
         "name": "Neopipo",
         "showlegend": true,
         "type": "scattergl",
         "x": [
          -3.7349395751953125,
          -2.1972970962524414
         ],
         "xaxis": "x",
         "y": [
          5.525450229644775,
          5.997908115386963
         ],
         "yaxis": "y"
        },
        {
         "hovertemplate": "color=Nephelomyias<br>TSNE1=%{x}<br>TSNE2=%{y}<extra></extra>",
         "legendgroup": "Nephelomyias",
         "marker": {
          "color": "#FF9900",
          "symbol": "circle"
         },
         "mode": "markers",
         "name": "Nephelomyias",
         "showlegend": true,
         "type": "scattergl",
         "x": [
          -3.6338274478912354,
          -4.985632419586182
         ],
         "xaxis": "x",
         "y": [
          -1.4860855340957642,
          -7.562994480133057
         ],
         "yaxis": "y"
        },
        {
         "hovertemplate": "color=Netta<br>TSNE1=%{x}<br>TSNE2=%{y}<extra></extra>",
         "legendgroup": "Netta",
         "marker": {
          "color": "#109618",
          "symbol": "circle"
         },
         "mode": "markers",
         "name": "Netta",
         "showlegend": true,
         "type": "scattergl",
         "x": [
          -5.9415483474731445,
          0.4639439880847931,
          -6.040490627288818
         ],
         "xaxis": "x",
         "y": [
          -6.5533623695373535,
          -4.928706169128418,
          -5.385829925537109
         ],
         "yaxis": "y"
        },
        {
         "hovertemplate": "color=Nomonyx<br>TSNE1=%{x}<br>TSNE2=%{y}<extra></extra>",
         "legendgroup": "Nomonyx",
         "marker": {
          "color": "#990099",
          "symbol": "circle"
         },
         "mode": "markers",
         "name": "Nomonyx",
         "showlegend": true,
         "type": "scattergl",
         "x": [
          4.063711166381836,
          -4.925792694091797
         ],
         "xaxis": "x",
         "y": [
          6.710620403289795,
          3.028736114501953
         ],
         "yaxis": "y"
        },
        {
         "hovertemplate": "color=Nonnula<br>TSNE1=%{x}<br>TSNE2=%{y}<extra></extra>",
         "legendgroup": "Nonnula",
         "marker": {
          "color": "#0099C6",
          "symbol": "circle"
         },
         "mode": "markers",
         "name": "Nonnula",
         "showlegend": true,
         "type": "scattergl",
         "x": [
          -3.7657017707824707,
          1.7694100141525269,
          6.7175517082214355,
          -3.326054573059082
         ],
         "xaxis": "x",
         "y": [
          5.490365505218506,
          -5.474785804748535,
          -2.540677309036255,
          0.247641459107399
         ],
         "yaxis": "y"
        },
        {
         "hovertemplate": "color=Notharchus<br>TSNE1=%{x}<br>TSNE2=%{y}<extra></extra>",
         "legendgroup": "Notharchus",
         "marker": {
          "color": "#DD4477",
          "symbol": "circle"
         },
         "mode": "markers",
         "name": "Notharchus",
         "showlegend": true,
         "type": "scattergl",
         "x": [
          -0.7414122223854065,
          -4.7755937576293945,
          -4.509588241577148,
          -2.771122932434082,
          -2.3247768878936768,
          -3.4955978393554688,
          -2.503894090652466,
          -3.750368118286133,
          0.2030482143163681
         ],
         "xaxis": "x",
         "y": [
          7.681205749511719,
          4.135879993438721,
          3.0635433197021484,
          7.57948112487793,
          6.976343631744385,
          5.945456027984619,
          7.932699203491211,
          6.004851818084717,
          0.11732065677642822
         ],
         "yaxis": "y"
        },
        {
         "hovertemplate": "color=Nothocercus<br>TSNE1=%{x}<br>TSNE2=%{y}<extra></extra>",
         "legendgroup": "Nothocercus",
         "marker": {
          "color": "#66AA00",
          "symbol": "circle"
         },
         "mode": "markers",
         "name": "Nothocercus",
         "showlegend": true,
         "type": "scattergl",
         "x": [
          -1.7974210977554321,
          1.7139219045639038
         ],
         "xaxis": "x",
         "y": [
          -5.062878131866455,
          0.07114885002374649
         ],
         "yaxis": "y"
        },
        {
         "hovertemplate": "color=Nyctibius<br>TSNE1=%{x}<br>TSNE2=%{y}<extra></extra>",
         "legendgroup": "Nyctibius",
         "marker": {
          "color": "#B82E2E",
          "symbol": "circle"
         },
         "mode": "markers",
         "name": "Nyctibius",
         "showlegend": true,
         "type": "scattergl",
         "x": [
          -5.787950038909912,
          -6.240854740142822,
          -1.8777282238006592,
          -4.874702453613281,
          -0.44852176308631897,
          -1.5589616298675537,
          -0.9913079738616943,
          -2.8969669342041016,
          3.946178674697876,
          1.3158780336380005,
          -2.7156031131744385,
          -1.687729001045227,
          -4.683131217956543
         ],
         "xaxis": "x",
         "y": [
          -1.4932985305786133,
          -0.9499966502189636,
          7.68259334564209,
          4.460251808166504,
          2.9136295318603516,
          -0.32015782594680786,
          -5.858993053436279,
          7.004397869110107,
          9.664969444274902,
          8.303004264831543,
          7.0532732009887695,
          6.8239054679870605,
          4.1557230949401855
         ],
         "yaxis": "y"
        },
        {
         "hovertemplate": "color=Nycticorax<br>TSNE1=%{x}<br>TSNE2=%{y}<extra></extra>",
         "legendgroup": "Nycticorax",
         "marker": {
          "color": "#316395",
          "symbol": "circle"
         },
         "mode": "markers",
         "name": "Nycticorax",
         "showlegend": true,
         "type": "scattergl",
         "x": [
          2.2267403602600098,
          -6.545713901519775
         ],
         "xaxis": "x",
         "y": [
          -4.7762041091918945,
          -2.4150002002716064
         ],
         "yaxis": "y"
        },
        {
         "hovertemplate": "color=Nyctidromus<br>TSNE1=%{x}<br>TSNE2=%{y}<extra></extra>",
         "legendgroup": "Nyctidromus",
         "marker": {
          "color": "#3366CC",
          "symbol": "circle"
         },
         "mode": "markers",
         "name": "Nyctidromus",
         "showlegend": true,
         "type": "scattergl",
         "x": [
          0.5041980743408203,
          4.155936241149902
         ],
         "xaxis": "x",
         "y": [
          -3.7384228706359863,
          9.864740371704102
         ],
         "yaxis": "y"
        },
        {
         "hovertemplate": "color=Nyctiphrynus<br>TSNE1=%{x}<br>TSNE2=%{y}<extra></extra>",
         "legendgroup": "Nyctiphrynus",
         "marker": {
          "color": "#DC3912",
          "symbol": "circle"
         },
         "mode": "markers",
         "name": "Nyctiphrynus",
         "showlegend": true,
         "type": "scattergl",
         "x": [
          -0.1466284543275833,
          2.153794288635254,
          5.177828788757324,
          0.7157730460166931
         ],
         "xaxis": "x",
         "y": [
          -1.459515929222107,
          -3.949979305267334,
          7.407217979431152,
          -4.052332878112793
         ],
         "yaxis": "y"
        },
        {
         "hovertemplate": "color=Nyctipolus<br>TSNE1=%{x}<br>TSNE2=%{y}<extra></extra>",
         "legendgroup": "Nyctipolus",
         "marker": {
          "color": "#FF9900",
          "symbol": "circle"
         },
         "mode": "markers",
         "name": "Nyctipolus",
         "showlegend": true,
         "type": "scattergl",
         "x": [
          4.577091217041016,
          -5.9098310470581055,
          -0.007818480022251606,
          -4.197053909301758
         ],
         "xaxis": "x",
         "y": [
          5.80131196975708,
          -6.4561872482299805,
          -4.512416362762451,
          4.269436836242676
         ],
         "yaxis": "y"
        },
        {
         "hovertemplate": "color=Nystalus<br>TSNE1=%{x}<br>TSNE2=%{y}<extra></extra>",
         "legendgroup": "Nystalus",
         "marker": {
          "color": "#109618",
          "symbol": "circle"
         },
         "mode": "markers",
         "name": "Nystalus",
         "showlegend": true,
         "type": "scattergl",
         "x": [
          -4.892091751098633,
          1.2107336521148682,
          0.9313597083091736,
          -2.078988790512085,
          1.9357452392578125,
          1.6307621002197266
         ],
         "xaxis": "x",
         "y": [
          3.9210352897644043,
          -1.0285024642944336,
          -5.319029808044434,
          4.088387966156006,
          2.2224199771881104,
          -0.2370486557483673
         ],
         "yaxis": "y"
        },
        {
         "hovertemplate": "color=Ochthoeca<br>TSNE1=%{x}<br>TSNE2=%{y}<extra></extra>",
         "legendgroup": "Ochthoeca",
         "marker": {
          "color": "#990099",
          "symbol": "circle"
         },
         "mode": "markers",
         "name": "Ochthoeca",
         "showlegend": true,
         "type": "scattergl",
         "x": [
          -4.44047737121582,
          -0.03141527995467186,
          -2.4481184482574463
         ],
         "xaxis": "x",
         "y": [
          0.754677951335907,
          1.1857059001922607,
          1.280290126800537
         ],
         "yaxis": "y"
        },
        {
         "hovertemplate": "color=Ochthornis<br>TSNE1=%{x}<br>TSNE2=%{y}<extra></extra>",
         "legendgroup": "Ochthornis",
         "marker": {
          "color": "#0099C6",
          "symbol": "circle"
         },
         "mode": "markers",
         "name": "Ochthornis",
         "showlegend": true,
         "type": "scattergl",
         "x": [
          -6.813418388366699,
          -2.1214802265167236,
          -0.8697530031204224
         ],
         "xaxis": "x",
         "y": [
          -4.565948009490967,
          -1.7091639041900635,
          -2.6034679412841797
         ],
         "yaxis": "y"
        },
        {
         "hovertemplate": "color=Ocreatus<br>TSNE1=%{x}<br>TSNE2=%{y}<extra></extra>",
         "legendgroup": "Ocreatus",
         "marker": {
          "color": "#DD4477",
          "symbol": "circle"
         },
         "mode": "markers",
         "name": "Ocreatus",
         "showlegend": true,
         "type": "scattergl",
         "x": [
          -0.2690219581127167,
          -0.5473968982696533
         ],
         "xaxis": "x",
         "y": [
          -3.482642412185669,
          1.23406183719635
         ],
         "yaxis": "y"
        },
        {
         "hovertemplate": "color=Odontophorus<br>TSNE1=%{x}<br>TSNE2=%{y}<extra></extra>",
         "legendgroup": "Odontophorus",
         "marker": {
          "color": "#66AA00",
          "symbol": "circle"
         },
         "mode": "markers",
         "name": "Odontophorus",
         "showlegend": true,
         "type": "scattergl",
         "x": [
          -2.809842348098755,
          -3.3059589862823486,
          -2.2982778549194336,
          0.9849578738212585,
          1.3977261781692505,
          2.041619300842285,
          1.9083442687988281,
          1.3770216703414917,
          0.5451253652572632,
          -0.7607787251472473,
          1.1250536441802979,
          -5.140660285949707
         ],
         "xaxis": "x",
         "y": [
          7.516876220703125,
          6.753032207489014,
          -2.413179636001587,
          4.233401298522949,
          5.331550598144531,
          -6.527085781097412,
          5.737856864929199,
          6.05790376663208,
          -7.312730312347412,
          -1.0360815525054932,
          -2.775502920150757,
          1.6063833236694336
         ],
         "yaxis": "y"
        },
        {
         "hovertemplate": "color=Odontorchilus<br>TSNE1=%{x}<br>TSNE2=%{y}<extra></extra>",
         "legendgroup": "Odontorchilus",
         "marker": {
          "color": "#B82E2E",
          "symbol": "circle"
         },
         "mode": "markers",
         "name": "Odontorchilus",
         "showlegend": true,
         "type": "scattergl",
         "x": [
          4.6778082847595215,
          -4.044008731842041,
          0.6459922790527344
         ],
         "xaxis": "x",
         "y": [
          -1.8948330879211426,
          1.1465119123458862,
          4.005116939544678
         ],
         "yaxis": "y"
        },
        {
         "hovertemplate": "color=Oneillornis<br>TSNE1=%{x}<br>TSNE2=%{y}<extra></extra>",
         "legendgroup": "Oneillornis",
         "marker": {
          "color": "#316395",
          "symbol": "circle"
         },
         "mode": "markers",
         "name": "Oneillornis",
         "showlegend": true,
         "type": "scattergl",
         "x": [
          -3.0573012828826904,
          1.0175155401229858
         ],
         "xaxis": "x",
         "y": [
          5.493389129638672,
          3.8737988471984863
         ],
         "yaxis": "y"
        },
        {
         "hovertemplate": "color=Onychorhynchus<br>TSNE1=%{x}<br>TSNE2=%{y}<extra></extra>",
         "legendgroup": "Onychorhynchus",
         "marker": {
          "color": "#3366CC",
          "symbol": "circle"
         },
         "mode": "markers",
         "name": "Onychorhynchus",
         "showlegend": true,
         "type": "scattergl",
         "x": [
          -0.9928708672523499,
          -0.8954227566719055
         ],
         "xaxis": "x",
         "y": [
          0.8265913128852844,
          0.8776575326919556
         ],
         "yaxis": "y"
        },
        {
         "hovertemplate": "color=Opisthocomus<br>TSNE1=%{x}<br>TSNE2=%{y}<extra></extra>",
         "legendgroup": "Opisthocomus",
         "marker": {
          "color": "#DC3912",
          "symbol": "circle"
         },
         "mode": "markers",
         "name": "Opisthocomus",
         "showlegend": true,
         "type": "scattergl",
         "x": [
          -0.9364757537841797,
          -3.287135601043701,
          -1.7571932077407837
         ],
         "xaxis": "x",
         "y": [
          1.1372402906417847,
          6.3048529624938965,
          6.228918552398682
         ],
         "yaxis": "y"
        },
        {
         "hovertemplate": "color=Oporornis<br>TSNE1=%{x}<br>TSNE2=%{y}<extra></extra>",
         "legendgroup": "Oporornis",
         "marker": {
          "color": "#FF9900",
          "symbol": "circle"
         },
         "mode": "markers",
         "name": "Oporornis",
         "showlegend": true,
         "type": "scattergl",
         "x": [
          1.2613924741744995,
          -2.22550106048584,
          4.151811599731445
         ],
         "xaxis": "x",
         "y": [
          8.050127983093262,
          3.275754451751709,
          9.853686332702637
         ],
         "yaxis": "y"
        },
        {
         "hovertemplate": "color=Oreopholus<br>TSNE1=%{x}<br>TSNE2=%{y}<extra></extra>",
         "legendgroup": "Oreopholus",
         "marker": {
          "color": "#109618",
          "symbol": "circle"
         },
         "mode": "markers",
         "name": "Oreopholus",
         "showlegend": true,
         "type": "scattergl",
         "x": [
          1.8986752033233643,
          -3.984959840774536,
          1.0845606327056885
         ],
         "xaxis": "x",
         "y": [
          2.3203229904174805,
          -8.468381881713867,
          -6.959301471710205
         ],
         "yaxis": "y"
        },
        {
         "hovertemplate": "color=Ornithion<br>TSNE1=%{x}<br>TSNE2=%{y}<extra></extra>",
         "legendgroup": "Ornithion",
         "marker": {
          "color": "#990099",
          "symbol": "circle"
         },
         "mode": "markers",
         "name": "Ornithion",
         "showlegend": true,
         "type": "scattergl",
         "x": [
          -4.759600639343262,
          0.4996841549873352,
          -5.067975044250488
         ],
         "xaxis": "x",
         "y": [
          -5.01161527633667,
          -3.373201370239258,
          -4.818864822387695
         ],
         "yaxis": "y"
        },
        {
         "hovertemplate": "color=Ortalis<br>TSNE1=%{x}<br>TSNE2=%{y}<extra></extra>",
         "legendgroup": "Ortalis",
         "marker": {
          "color": "#0099C6",
          "symbol": "circle"
         },
         "mode": "markers",
         "name": "Ortalis",
         "showlegend": true,
         "type": "scattergl",
         "x": [
          -4.010527610778809,
          -1.3698513507843018
         ],
         "xaxis": "x",
         "y": [
          5.123467445373535,
          2.524829387664795
         ],
         "yaxis": "y"
        },
        {
         "hovertemplate": "color=Orthopsittaca<br>TSNE1=%{x}<br>TSNE2=%{y}<extra></extra>",
         "legendgroup": "Orthopsittaca",
         "marker": {
          "color": "#DD4477",
          "symbol": "circle"
         },
         "mode": "markers",
         "name": "Orthopsittaca",
         "showlegend": true,
         "type": "scattergl",
         "x": [
          1.569596529006958,
          -3.114330768585205,
          -0.42990875244140625,
          -0.7446134090423584,
          -0.802889883518219
         ],
         "xaxis": "x",
         "y": [
          1.8152673244476318,
          -4.644192695617676,
          -0.9955040812492371,
          -5.702573299407959,
          1.476809024810791
         ],
         "yaxis": "y"
        },
        {
         "hovertemplate": "color=Oxyruncus<br>TSNE1=%{x}<br>TSNE2=%{y}<extra></extra>",
         "legendgroup": "Oxyruncus",
         "marker": {
          "color": "#66AA00",
          "symbol": "circle"
         },
         "mode": "markers",
         "name": "Oxyruncus",
         "showlegend": true,
         "type": "scattergl",
         "x": [
          -5.634322643280029,
          -5.262633323669434
         ],
         "xaxis": "x",
         "y": [
          2.223801612854004,
          2.7227957248687744
         ],
         "yaxis": "y"
        },
        {
         "hovertemplate": "color=Oxyura<br>TSNE1=%{x}<br>TSNE2=%{y}<extra></extra>",
         "legendgroup": "Oxyura",
         "marker": {
          "color": "#B82E2E",
          "symbol": "circle"
         },
         "mode": "markers",
         "name": "Oxyura",
         "showlegend": true,
         "type": "scattergl",
         "x": [
          1.7543669939041138,
          -4.747807502746582
         ],
         "xaxis": "x",
         "y": [
          3.1687183380126953,
          -3.157226800918579
         ],
         "yaxis": "y"
        },
        {
         "hovertemplate": "color=Pachyramphus<br>TSNE1=%{x}<br>TSNE2=%{y}<extra></extra>",
         "legendgroup": "Pachyramphus",
         "marker": {
          "color": "#316395",
          "symbol": "circle"
         },
         "mode": "markers",
         "name": "Pachyramphus",
         "showlegend": true,
         "type": "scattergl",
         "x": [
          1.3613452911376953,
          -5.840614318847656,
          -5.450033664703369,
          -3.479214906692505,
          1.63552725315094,
          -4.678532600402832,
          3.290475606918335,
          -5.870754718780518,
          -1.079208493232727,
          -2.135126829147339,
          -6.374628067016602,
          -3.3339550495147705,
          -4.441368579864502,
          -2.5127296447753906,
          2.838711977005005,
          -3.56284236907959,
          5.125274658203125,
          -6.193602085113525,
          2.9334092140197754
         ],
         "xaxis": "x",
         "y": [
          3.4193966388702393,
          -2.45847749710083,
          -2.511746644973755,
          -6.083693027496338,
          2.822436571121216,
          -8.531961441040039,
          6.630471229553223,
          -5.425230979919434,
          0.9446693658828735,
          5.414736747741699,
          -0.6058056354522705,
          4.124477863311768,
          4.551591396331787,
          -5.724843978881836,
          1.729418158531189,
          -2.9852993488311768,
          -2.38962984085083,
          -5.901885509490967,
          -5.804150104522705
         ],
         "yaxis": "y"
        },
        {
         "hovertemplate": "color=Panyptila<br>TSNE1=%{x}<br>TSNE2=%{y}<extra></extra>",
         "legendgroup": "Panyptila",
         "marker": {
          "color": "#3366CC",
          "symbol": "circle"
         },
         "mode": "markers",
         "name": "Panyptila",
         "showlegend": true,
         "type": "scattergl",
         "x": [
          -5.858330249786377,
          1.7297104597091675,
          1.213378667831421
         ],
         "xaxis": "x",
         "y": [
          0.4205731153488159,
          5.376147747039795,
          -1.9592429399490356
         ],
         "yaxis": "y"
        },
        {
         "hovertemplate": "color=Parabuteo<br>TSNE1=%{x}<br>TSNE2=%{y}<extra></extra>",
         "legendgroup": "Parabuteo",
         "marker": {
          "color": "#DC3912",
          "symbol": "circle"
         },
         "mode": "markers",
         "name": "Parabuteo",
         "showlegend": true,
         "type": "scattergl",
         "x": [
          6.537417888641357,
          -1.8248058557510376,
          -2.911379814147949
         ],
         "xaxis": "x",
         "y": [
          2.949491024017334,
          6.696982383728027,
          -3.7210376262664795
         ],
         "yaxis": "y"
        },
        {
         "hovertemplate": "color=Pardirallus<br>TSNE1=%{x}<br>TSNE2=%{y}<extra></extra>",
         "legendgroup": "Pardirallus",
         "marker": {
          "color": "#FF9900",
          "symbol": "circle"
         },
         "mode": "markers",
         "name": "Pardirallus",
         "showlegend": true,
         "type": "scattergl",
         "x": [
          -5.099872589111328,
          4.761212348937988,
          0.5720426440238953,
          -1.2287927865982056
         ],
         "xaxis": "x",
         "y": [
          2.1576650142669678,
          1.132946491241455,
          3.9585986137390137,
          1.4364320039749146
         ],
         "yaxis": "y"
        },
        {
         "hovertemplate": "color=Parkerthraustes<br>TSNE1=%{x}<br>TSNE2=%{y}<extra></extra>",
         "legendgroup": "Parkerthraustes",
         "marker": {
          "color": "#109618",
          "symbol": "circle"
         },
         "mode": "markers",
         "name": "Parkerthraustes",
         "showlegend": true,
         "type": "scattergl",
         "x": [
          -3.842449188232422
         ],
         "xaxis": "x",
         "y": [
          -0.42964550852775574
         ],
         "yaxis": "y"
        },
        {
         "hovertemplate": "color=Paroaria<br>TSNE1=%{x}<br>TSNE2=%{y}<extra></extra>",
         "legendgroup": "Paroaria",
         "marker": {
          "color": "#990099",
          "symbol": "circle"
         },
         "mode": "markers",
         "name": "Paroaria",
         "showlegend": true,
         "type": "scattergl",
         "x": [
          5.0198073387146,
          -6.9379730224609375,
          4.643853187561035
         ],
         "xaxis": "x",
         "y": [
          0.3260157108306885,
          -6.23134708404541,
          8.169493675231934
         ],
         "yaxis": "y"
        },
        {
         "hovertemplate": "color=Passer<br>TSNE1=%{x}<br>TSNE2=%{y}<extra></extra>",
         "legendgroup": "Passer",
         "marker": {
          "color": "#0099C6",
          "symbol": "circle"
         },
         "mode": "markers",
         "name": "Passer",
         "showlegend": true,
         "type": "scattergl",
         "x": [
          5.886536121368408,
          1.1009845733642578
         ],
         "xaxis": "x",
         "y": [
          -0.11660028994083405,
          4.721508979797363
         ],
         "yaxis": "y"
        },
        {
         "hovertemplate": "color=Patagioenas<br>TSNE1=%{x}<br>TSNE2=%{y}<extra></extra>",
         "legendgroup": "Patagioenas",
         "marker": {
          "color": "#DD4477",
          "symbol": "circle"
         },
         "mode": "markers",
         "name": "Patagioenas",
         "showlegend": true,
         "type": "scattergl",
         "x": [
          4.174839973449707,
          1.6685411930084229,
          -2.8887672424316406,
          -6.686968803405762,
          7.0111894607543945,
          6.730363368988037,
          0.9549859762191772,
          -3.04601788520813,
          1.703517198562622,
          -0.32906731963157654,
          1.9939982891082764,
          -1.9812819957733154,
          1.436205267906189,
          -6.782383918762207,
          -0.7318986058235168,
          -5.896271705627441,
          1.512291431427002,
          4.778544902801514,
          -0.40201178193092346
         ],
         "xaxis": "x",
         "y": [
          7.61112642288208,
          -7.285552024841309,
          7.0654497146606445,
          -2.5676441192626953,
          6.122720718383789,
          2.792907476425171,
          -5.590314865112305,
          5.5598883628845215,
          0.954286515712738,
          -4.0741071701049805,
          -0.3778180778026581,
          7.6262102127075195,
          -0.42914170026779175,
          -6.711157321929932,
          -1.7436190843582153,
          -3.9597055912017822,
          1.4576255083084106,
          4.693851470947266,
          -0.07322967052459717
         ],
         "yaxis": "y"
        },
        {
         "hovertemplate": "color=Pauxi<br>TSNE1=%{x}<br>TSNE2=%{y}<extra></extra>",
         "legendgroup": "Pauxi",
         "marker": {
          "color": "#66AA00",
          "symbol": "circle"
         },
         "mode": "markers",
         "name": "Pauxi",
         "showlegend": true,
         "type": "scattergl",
         "x": [
          -0.16264599561691284
         ],
         "xaxis": "x",
         "y": [
          -3.45550537109375
         ],
         "yaxis": "y"
        },
        {
         "hovertemplate": "color=Penelope<br>TSNE1=%{x}<br>TSNE2=%{y}<extra></extra>",
         "legendgroup": "Penelope",
         "marker": {
          "color": "#B82E2E",
          "symbol": "circle"
         },
         "mode": "markers",
         "name": "Penelope",
         "showlegend": true,
         "type": "scattergl",
         "x": [
          8.506978988647461,
          -5.385865688323975,
          0.6113135814666748
         ],
         "xaxis": "x",
         "y": [
          5.891418933868408,
          0.17572596669197083,
          -1.7818653583526611
         ],
         "yaxis": "y"
        },
        {
         "hovertemplate": "color=Petrochelidon<br>TSNE1=%{x}<br>TSNE2=%{y}<extra></extra>",
         "legendgroup": "Petrochelidon",
         "marker": {
          "color": "#316395",
          "symbol": "circle"
         },
         "mode": "markers",
         "name": "Petrochelidon",
         "showlegend": true,
         "type": "scattergl",
         "x": [
          3.455212354660034,
          4.865758895874023,
          2.664630174636841
         ],
         "xaxis": "x",
         "y": [
          -4.359103202819824,
          1.4824990034103394,
          -4.408142566680908
         ],
         "yaxis": "y"
        },
        {
         "hovertemplate": "color=Phaeomyias<br>TSNE1=%{x}<br>TSNE2=%{y}<extra></extra>",
         "legendgroup": "Phaeomyias",
         "marker": {
          "color": "#3366CC",
          "symbol": "circle"
         },
         "mode": "markers",
         "name": "Phaeomyias",
         "showlegend": true,
         "type": "scattergl",
         "x": [
          -6.211937427520752,
          1.3037986755371094,
          -6.600924491882324,
          0.023337531834840775,
          -3.8285768032073975
         ],
         "xaxis": "x",
         "y": [
          0.37071728706359863,
          2.8356683254241943,
          -4.583400249481201,
          -1.4952481985092163,
          -0.19014036655426025
         ],
         "yaxis": "y"
        },
        {
         "hovertemplate": "color=Phaethornis<br>TSNE1=%{x}<br>TSNE2=%{y}<extra></extra>",
         "legendgroup": "Phaethornis",
         "marker": {
          "color": "#DC3912",
          "symbol": "circle"
         },
         "mode": "markers",
         "name": "Phaethornis",
         "showlegend": true,
         "type": "scattergl",
         "x": [
          8.597886085510254,
          7.855627059936523,
          -2.464508533477783,
          7.907495021820068,
          8.754209518432617,
          6.508120059967041,
          1.4378013610839844,
          -2.6260199546813965,
          4.509640693664551,
          8.567094802856445,
          8.80303955078125,
          6.536474704742432,
          -0.5377320647239685,
          1.0683746337890625,
          -1.0367367267608643,
          -0.5250275135040283,
          -7.479129314422607
         ],
         "xaxis": "x",
         "y": [
          3.506303548812866,
          -0.8596314191818237,
          7.5719451904296875,
          -0.7403249144554138,
          0.6187732219696045,
          -2.8457248210906982,
          6.678889274597168,
          -8.000065803527832,
          7.7480034828186035,
          4.481064796447754,
          3.579683542251587,
          -3.5543911457061768,
          3.018406629562378,
          5.95458984375,
          1.1494314670562744,
          -2.545607566833496,
          -5.689478397369385
         ],
         "yaxis": "y"
        },
        {
         "hovertemplate": "color=Phaetusa<br>TSNE1=%{x}<br>TSNE2=%{y}<extra></extra>",
         "legendgroup": "Phaetusa",
         "marker": {
          "color": "#FF9900",
          "symbol": "circle"
         },
         "mode": "markers",
         "name": "Phaetusa",
         "showlegend": true,
         "type": "scattergl",
         "x": [
          -0.897303581237793,
          5.581997871398926
         ],
         "xaxis": "x",
         "y": [
          -4.997541427612305,
          4.069189548492432
         ],
         "yaxis": "y"
        },
        {
         "hovertemplate": "color=Phalacrocorax<br>TSNE1=%{x}<br>TSNE2=%{y}<extra></extra>",
         "legendgroup": "Phalacrocorax",
         "marker": {
          "color": "#109618",
          "symbol": "circle"
         },
         "mode": "markers",
         "name": "Phalacrocorax",
         "showlegend": true,
         "type": "scattergl",
         "x": [
          -1.579525351524353,
          4.08071756362915
         ],
         "xaxis": "x",
         "y": [
          -4.404872417449951,
          4.755245685577393
         ],
         "yaxis": "y"
        },
        {
         "hovertemplate": "color=Phalaropus<br>TSNE1=%{x}<br>TSNE2=%{y}<extra></extra>",
         "legendgroup": "Phalaropus",
         "marker": {
          "color": "#990099",
          "symbol": "circle"
         },
         "mode": "markers",
         "name": "Phalaropus",
         "showlegend": true,
         "type": "scattergl",
         "x": [
          3.9009082317352295,
          -0.19575415551662445
         ],
         "xaxis": "x",
         "y": [
          7.556705951690674,
          -7.783782958984375
         ],
         "yaxis": "y"
        },
        {
         "hovertemplate": "color=Pharomachrus<br>TSNE1=%{x}<br>TSNE2=%{y}<extra></extra>",
         "legendgroup": "Pharomachrus",
         "marker": {
          "color": "#0099C6",
          "symbol": "circle"
         },
         "mode": "markers",
         "name": "Pharomachrus",
         "showlegend": true,
         "type": "scattergl",
         "x": [
          -0.9752606749534607,
          3.2759788036346436,
          -0.37803587317466736,
          0.05885649099946022,
          4.044042587280273,
          2.3823137283325195,
          1.5688798427581787,
          -5.819788455963135
         ],
         "xaxis": "x",
         "y": [
          -1.6010037660598755,
          2.120732307434082,
          -8.120200157165527,
          0.9174625873565674,
          2.164250612258911,
          3.570756196975708,
          0.5285383462905884,
          -3.2537214756011963
         ],
         "yaxis": "y"
        },
        {
         "hovertemplate": "color=Pheucticus<br>TSNE1=%{x}<br>TSNE2=%{y}<extra></extra>",
         "legendgroup": "Pheucticus",
         "marker": {
          "color": "#DD4477",
          "symbol": "circle"
         },
         "mode": "markers",
         "name": "Pheucticus",
         "showlegend": true,
         "type": "scattergl",
         "x": [
          0.9648916721343994,
          -0.40128207206726074,
          -3.2757301330566406,
          -4.203118801116943
         ],
         "xaxis": "x",
         "y": [
          -0.3380148112773895,
          4.679866313934326,
          0.4210108518600464,
          -6.423376560211182
         ],
         "yaxis": "y"
        },
        {
         "hovertemplate": "color=Pheugopedius<br>TSNE1=%{x}<br>TSNE2=%{y}<extra></extra>",
         "legendgroup": "Pheugopedius",
         "marker": {
          "color": "#66AA00",
          "symbol": "circle"
         },
         "mode": "markers",
         "name": "Pheugopedius",
         "showlegend": true,
         "type": "scattergl",
         "x": [
          4.08508825302124,
          2.3952622413635254,
          2.133565664291382,
          4.449634075164795,
          -2.1920323371887207,
          6.689920902252197
         ],
         "xaxis": "x",
         "y": [
          2.982572317123413,
          -7.775469779968262,
          5.098004341125488,
          -1.9228090047836304,
          1.5945619344711304,
          -1.0946447849273682
         ],
         "yaxis": "y"
        },
        {
         "hovertemplate": "color=Philydor<br>TSNE1=%{x}<br>TSNE2=%{y}<extra></extra>",
         "legendgroup": "Philydor",
         "marker": {
          "color": "#B82E2E",
          "symbol": "circle"
         },
         "mode": "markers",
         "name": "Philydor",
         "showlegend": true,
         "type": "scattergl",
         "x": [
          2.579784870147705,
          -6.290822982788086,
          -6.516415119171143,
          -6.616023063659668,
          3.2837166786193848,
          0.9140304327011108,
          2.879734754562378,
          -1.7154566049575806,
          -2.2785441875457764,
          -4.423372745513916,
          6.473006248474121
         ],
         "xaxis": "x",
         "y": [
          -3.8631479740142822,
          -6.239028453826904,
          -2.2764394283294678,
          -1.0882692337036133,
          -5.023038864135742,
          6.670498847961426,
          -3.496408224105835,
          -0.6193549633026123,
          6.812295436859131,
          3.497626781463623,
          1.3729939460754395
         ],
         "yaxis": "y"
        },
        {
         "hovertemplate": "color=Phlegopsis<br>TSNE1=%{x}<br>TSNE2=%{y}<extra></extra>",
         "legendgroup": "Phlegopsis",
         "marker": {
          "color": "#316395",
          "symbol": "circle"
         },
         "mode": "markers",
         "name": "Phlegopsis",
         "showlegend": true,
         "type": "scattergl",
         "x": [
          4.003066539764404,
          -5.547116756439209,
          -1.534744381904602,
          1.8220000267028809,
          -5.6966938972473145,
          -4.589865207672119,
          3.0454978942871094,
          -3.6933481693267822
         ],
         "xaxis": "x",
         "y": [
          4.295702934265137,
          0.9628071188926697,
          -4.296659469604492,
          -1.3364259004592896,
          2.12783145904541,
          2.1798973083496094,
          1.9109023809432983,
          -2.073293924331665
         ],
         "yaxis": "y"
        },
        {
         "hovertemplate": "color=Phleocryptes<br>TSNE1=%{x}<br>TSNE2=%{y}<extra></extra>",
         "legendgroup": "Phleocryptes",
         "marker": {
          "color": "#3366CC",
          "symbol": "circle"
         },
         "mode": "markers",
         "name": "Phleocryptes",
         "showlegend": true,
         "type": "scattergl",
         "x": [
          -1.9721959829330444,
          2.389857769012451,
          -2.3998003005981445
         ],
         "xaxis": "x",
         "y": [
          8.798946380615234,
          -8.05813980102539,
          -5.644424915313721
         ],
         "yaxis": "y"
        },
        {
         "hovertemplate": "color=Phlogophilus<br>TSNE1=%{x}<br>TSNE2=%{y}<extra></extra>",
         "legendgroup": "Phlogophilus",
         "marker": {
          "color": "#DC3912",
          "symbol": "circle"
         },
         "mode": "markers",
         "name": "Phlogophilus",
         "showlegend": true,
         "type": "scattergl",
         "x": [
          4.774724960327148,
          -1.8296600580215454,
          -6.506369590759277
         ],
         "xaxis": "x",
         "y": [
          -1.8735202550888062,
          0.8659178018569946,
          -5.977187156677246
         ],
         "yaxis": "y"
        },
        {
         "hovertemplate": "color=Phrygilus<br>TSNE1=%{x}<br>TSNE2=%{y}<extra></extra>",
         "legendgroup": "Phrygilus",
         "marker": {
          "color": "#FF9900",
          "symbol": "circle"
         },
         "mode": "markers",
         "name": "Phrygilus",
         "showlegend": true,
         "type": "scattergl",
         "x": [
          -4.108835697174072,
          -0.5300276875495911,
          3.567885160446167
         ],
         "xaxis": "x",
         "y": [
          -3.319631576538086,
          -0.7474585175514221,
          6.983407974243164
         ],
         "yaxis": "y"
        },
        {
         "hovertemplate": "color=Phyllomyias<br>TSNE1=%{x}<br>TSNE2=%{y}<extra></extra>",
         "legendgroup": "Phyllomyias",
         "marker": {
          "color": "#109618",
          "symbol": "circle"
         },
         "mode": "markers",
         "name": "Phyllomyias",
         "showlegend": true,
         "type": "scattergl",
         "x": [
          4.454949378967285,
          4.485371112823486,
          5.271825790405273,
          -1.8108763694763184,
          -5.116546154022217,
          2.478452205657959,
          -1.4595621824264526,
          -6.56916618347168,
          3.7140982151031494,
          0.6893270611763,
          -6.731962203979492,
          2.4119222164154053,
          3.858173131942749,
          -0.42796197533607483
         ],
         "xaxis": "x",
         "y": [
          2.267996311187744,
          -0.7136218547821045,
          3.8382086753845215,
          -2.730478286743164,
          3.946043014526367,
          6.529492378234863,
          -1.173010230064392,
          -1.926578164100647,
          8.838764190673828,
          3.9283385276794434,
          -6.490697860717773,
          3.899109363555908,
          -0.8671691417694092,
          -4.992713928222656
         ],
         "yaxis": "y"
        },
        {
         "hovertemplate": "color=Phylloscartes<br>TSNE1=%{x}<br>TSNE2=%{y}<extra></extra>",
         "legendgroup": "Phylloscartes",
         "marker": {
          "color": "#990099",
          "symbol": "circle"
         },
         "mode": "markers",
         "name": "Phylloscartes",
         "showlegend": true,
         "type": "scattergl",
         "x": [
          -3.5263991355895996,
          -3.866640567779541,
          -3.496055841445923,
          -1.0390969514846802,
          0.2179117649793625
         ],
         "xaxis": "x",
         "y": [
          -0.5974846482276917,
          -6.815299987792969,
          -4.34369421005249,
          -6.650193691253662,
          -5.358836650848389
         ],
         "yaxis": "y"
        },
        {
         "hovertemplate": "color=Piaya<br>TSNE1=%{x}<br>TSNE2=%{y}<extra></extra>",
         "legendgroup": "Piaya",
         "marker": {
          "color": "#0099C6",
          "symbol": "circle"
         },
         "mode": "markers",
         "name": "Piaya",
         "showlegend": true,
         "type": "scattergl",
         "x": [
          -6.6997389793396,
          -6.882298469543457,
          4.017062187194824,
          4.01732873916626,
          5.2678351402282715,
          -4.151310443878174
         ],
         "xaxis": "x",
         "y": [
          -6.537420272827148,
          -5.636981964111328,
          -1.5268089771270752,
          1.834183931350708,
          -2.2325427532196045,
          -7.996464252471924
         ],
         "yaxis": "y"
        },
        {
         "hovertemplate": "color=Piculus<br>TSNE1=%{x}<br>TSNE2=%{y}<extra></extra>",
         "legendgroup": "Piculus",
         "marker": {
          "color": "#DD4477",
          "symbol": "circle"
         },
         "mode": "markers",
         "name": "Piculus",
         "showlegend": true,
         "type": "scattergl",
         "x": [
          -5.608273983001709,
          -6.094508171081543,
          -1.1027774810791016,
          -4.941348075866699,
          -5.879818439483643,
          -7.068626403808594,
          -0.1619763970375061
         ],
         "xaxis": "x",
         "y": [
          -5.579958915710449,
          -0.10933931916952133,
          -2.623152256011963,
          3.8320906162261963,
          -5.548051357269287,
          -1.3636078834533691,
          8.914194107055664
         ],
         "yaxis": "y"
        },
        {
         "hovertemplate": "color=Picumnus<br>TSNE1=%{x}<br>TSNE2=%{y}<extra></extra>",
         "legendgroup": "Picumnus",
         "marker": {
          "color": "#66AA00",
          "symbol": "circle"
         },
         "mode": "markers",
         "name": "Picumnus",
         "showlegend": true,
         "type": "scattergl",
         "x": [
          -3.8186652660369873,
          3.4022786617279053,
          -1.9674952030181885,
          -4.883397579193115,
          -0.7369007468223572,
          -2.1790151596069336,
          -6.757436752319336,
          -0.5599023103713989,
          1.3336290121078491,
          2.464397668838501,
          3.288043260574341
         ],
         "xaxis": "x",
         "y": [
          0.3752233684062958,
          6.1908745765686035,
          3.5060501098632812,
          2.0016136169433594,
          -0.21234002709388733,
          -3.976080894470215,
          -6.6940789222717285,
          0.10756848752498627,
          -0.47782808542251587,
          -2.393465518951416,
          7.434911727905273
         ],
         "yaxis": "y"
        },
        {
         "hovertemplate": "color=Pilherodius<br>TSNE1=%{x}<br>TSNE2=%{y}<extra></extra>",
         "legendgroup": "Pilherodius",
         "marker": {
          "color": "#B82E2E",
          "symbol": "circle"
         },
         "mode": "markers",
         "name": "Pilherodius",
         "showlegend": true,
         "type": "scattergl",
         "x": [
          -5.895726680755615,
          3.475935935974121
         ],
         "xaxis": "x",
         "y": [
          -5.810959339141846,
          8.302708625793457
         ],
         "yaxis": "y"
        },
        {
         "hovertemplate": "color=Pionites<br>TSNE1=%{x}<br>TSNE2=%{y}<extra></extra>",
         "legendgroup": "Pionites",
         "marker": {
          "color": "#316395",
          "symbol": "circle"
         },
         "mode": "markers",
         "name": "Pionites",
         "showlegend": true,
         "type": "scattergl",
         "x": [
          -3.120363235473633,
          8.118146896362305
         ],
         "xaxis": "x",
         "y": [
          4.146008014678955,
          2.0018234252929688
         ],
         "yaxis": "y"
        },
        {
         "hovertemplate": "color=Pionus<br>TSNE1=%{x}<br>TSNE2=%{y}<extra></extra>",
         "legendgroup": "Pionus",
         "marker": {
          "color": "#3366CC",
          "symbol": "circle"
         },
         "mode": "markers",
         "name": "Pionus",
         "showlegend": true,
         "type": "scattergl",
         "x": [
          -1.6297410726547241,
          0.3600117862224579,
          3.843783378601074,
          -3.256225824356079,
          -0.2583918869495392,
          3.2220308780670166,
          0.22682538628578186,
          0.24709860980510712
         ],
         "xaxis": "x",
         "y": [
          -1.1198276281356812,
          -0.7894846200942993,
          5.280262470245361,
          -8.024725914001465,
          -8.247224807739258,
          3.7184274196624756,
          -0.13347090780735016,
          -0.7997499108314514
         ],
         "yaxis": "y"
        },
        {
         "hovertemplate": "color=Pipile<br>TSNE1=%{x}<br>TSNE2=%{y}<extra></extra>",
         "legendgroup": "Pipile",
         "marker": {
          "color": "#DC3912",
          "symbol": "circle"
         },
         "mode": "markers",
         "name": "Pipile",
         "showlegend": true,
         "type": "scattergl",
         "x": [
          2.243802309036255,
          6.321435928344727,
          -1.024312138557434,
          7.567684650421143
         ],
         "xaxis": "x",
         "y": [
          -3.931514024734497,
          -1.390061378479004,
          1.207131028175354,
          0.3450346887111664
         ],
         "yaxis": "y"
        },
        {
         "hovertemplate": "color=Pipra<br>TSNE1=%{x}<br>TSNE2=%{y}<extra></extra>",
         "legendgroup": "Pipra",
         "marker": {
          "color": "#FF9900",
          "symbol": "circle"
         },
         "mode": "markers",
         "name": "Pipra",
         "showlegend": true,
         "type": "scattergl",
         "x": [
          -3.4317893981933594,
          -6.597402572631836,
          -0.59878009557724,
          0.09962785989046097
         ],
         "xaxis": "x",
         "y": [
          -0.29356324672698975,
          -5.825878620147705,
          6.934176921844482,
          4.089634895324707
         ],
         "yaxis": "y"
        },
        {
         "hovertemplate": "color=Pipraeidea<br>TSNE1=%{x}<br>TSNE2=%{y}<extra></extra>",
         "legendgroup": "Pipraeidea",
         "marker": {
          "color": "#109618",
          "symbol": "circle"
         },
         "mode": "markers",
         "name": "Pipraeidea",
         "showlegend": true,
         "type": "scattergl",
         "x": [
          2.8524444103240967,
          -3.613410472869873,
          -2.92279314994812
         ],
         "xaxis": "x",
         "y": [
          -4.384347915649414,
          1.875779151916504,
          1.8868048191070557
         ],
         "yaxis": "y"
        },
        {
         "hovertemplate": "color=Pipreola<br>TSNE1=%{x}<br>TSNE2=%{y}<extra></extra>",
         "legendgroup": "Pipreola",
         "marker": {
          "color": "#990099",
          "symbol": "circle"
         },
         "mode": "markers",
         "name": "Pipreola",
         "showlegend": true,
         "type": "scattergl",
         "x": [
          -0.5427981019020081,
          -5.988140106201172,
          3.883244514465332,
          -5.567816257476807,
          3.9164657592773438,
          1.5206259489059448,
          -4.998259544372559,
          1.4064245223999023,
          -5.143479824066162,
          -5.7100605964660645,
          -5.434962749481201
         ],
         "xaxis": "x",
         "y": [
          2.0630433559417725,
          -1.6681920289993286,
          7.826348781585693,
          0.43512454628944397,
          5.7081451416015625,
          -1.849934697151184,
          0.9814432263374329,
          8.242124557495117,
          -4.636074542999268,
          2.6412596702575684,
          2.1804497241973877
         ],
         "yaxis": "y"
        },
        {
         "hovertemplate": "color=Piprites<br>TSNE1=%{x}<br>TSNE2=%{y}<extra></extra>",
         "legendgroup": "Piprites",
         "marker": {
          "color": "#0099C6",
          "symbol": "circle"
         },
         "mode": "markers",
         "name": "Piprites",
         "showlegend": true,
         "type": "scattergl",
         "x": [
          1.6468544006347656,
          -1.0617883205413818,
          -5.11328125
         ],
         "xaxis": "x",
         "y": [
          -1.567138671875,
          7.650751113891602,
          1.6040012836456299
         ],
         "yaxis": "y"
        },
        {
         "hovertemplate": "color=Piranga<br>TSNE1=%{x}<br>TSNE2=%{y}<extra></extra>",
         "legendgroup": "Piranga",
         "marker": {
          "color": "#DD4477",
          "symbol": "circle"
         },
         "mode": "markers",
         "name": "Piranga",
         "showlegend": true,
         "type": "scattergl",
         "x": [
          -0.19760443270206451,
          -2.631934642791748,
          1.6045799255371094,
          4.814154148101807,
          -0.5140790343284607,
          1.0135501623153687,
          -0.9238544702529907,
          4.197124481201172,
          4.103389739990234,
          3.907693862915039,
          4.840198040008545,
          -2.0610616207122803,
          -2.8734447956085205,
          4.750735282897949,
          -3.573326349258423
         ],
         "xaxis": "x",
         "y": [
          -4.032597064971924,
          -9.017843246459961,
          -5.003419399261475,
          7.440844535827637,
          1.3578200340270996,
          -6.748734951019287,
          -5.761561393737793,
          6.430543899536133,
          5.64717960357666,
          5.1925950050354,
          8.536809921264648,
          4.005284786224365,
          -4.431997299194336,
          -1.8777586221694946,
          -4.7333574295043945
         ],
         "yaxis": "y"
        },
        {
         "hovertemplate": "color=Pitangus<br>TSNE1=%{x}<br>TSNE2=%{y}<extra></extra>",
         "legendgroup": "Pitangus",
         "marker": {
          "color": "#66AA00",
          "symbol": "circle"
         },
         "mode": "markers",
         "name": "Pitangus",
         "showlegend": true,
         "type": "scattergl",
         "x": [
          -2.918816089630127
         ],
         "xaxis": "x",
         "y": [
          -1.8250635862350464
         ],
         "yaxis": "y"
        },
        {
         "hovertemplate": "color=Platalea<br>TSNE1=%{x}<br>TSNE2=%{y}<extra></extra>",
         "legendgroup": "Platalea",
         "marker": {
          "color": "#B82E2E",
          "symbol": "circle"
         },
         "mode": "markers",
         "name": "Platalea",
         "showlegend": true,
         "type": "scattergl",
         "x": [
          -0.16938111186027527,
          -4.370245456695557
         ],
         "xaxis": "x",
         "y": [
          -8.096413612365723,
          -3.412004232406616
         ],
         "yaxis": "y"
        },
        {
         "hovertemplate": "color=Platyrinchus<br>TSNE1=%{x}<br>TSNE2=%{y}<extra></extra>",
         "legendgroup": "Platyrinchus",
         "marker": {
          "color": "#316395",
          "symbol": "circle"
         },
         "mode": "markers",
         "name": "Platyrinchus",
         "showlegend": true,
         "type": "scattergl",
         "x": [
          0.8758527636528015,
          1.787703514099121,
          -0.29538872838020325,
          -0.42115768790245056,
          -6.286032199859619,
          -4.26146125793457,
          6.371644496917725,
          3.131514310836792,
          -2.7463247776031494
         ],
         "xaxis": "x",
         "y": [
          5.98369026184082,
          -6.179336071014404,
          -2.7889273166656494,
          1.2933592796325684,
          -0.06775467097759247,
          1.1516443490982056,
          1.618554711341858,
          1.8282194137573242,
          6.585362434387207
         ],
         "yaxis": "y"
        },
        {
         "hovertemplate": "color=Plegadis<br>TSNE1=%{x}<br>TSNE2=%{y}<extra></extra>",
         "legendgroup": "Plegadis",
         "marker": {
          "color": "#3366CC",
          "symbol": "circle"
         },
         "mode": "markers",
         "name": "Plegadis",
         "showlegend": true,
         "type": "scattergl",
         "x": [
          -1.809261441230774,
          2.0121662616729736,
          -0.9257795810699463
         ],
         "xaxis": "x",
         "y": [
          -8.66153621673584,
          -5.710355758666992,
          -8.474846839904785
         ],
         "yaxis": "y"
        },
        {
         "hovertemplate": "color=Pluvialis<br>TSNE1=%{x}<br>TSNE2=%{y}<extra></extra>",
         "legendgroup": "Pluvialis",
         "marker": {
          "color": "#DC3912",
          "symbol": "circle"
         },
         "mode": "markers",
         "name": "Pluvialis",
         "showlegend": true,
         "type": "scattergl",
         "x": [
          -4.776085376739502,
          -3.8252604007720947,
          -4.520454406738281
         ],
         "xaxis": "x",
         "y": [
          -3.299156904220581,
          -5.645264148712158,
          3.0433802604675293
         ],
         "yaxis": "y"
        },
        {
         "hovertemplate": "color=Podilymbus<br>TSNE1=%{x}<br>TSNE2=%{y}<extra></extra>",
         "legendgroup": "Podilymbus",
         "marker": {
          "color": "#FF9900",
          "symbol": "circle"
         },
         "mode": "markers",
         "name": "Podilymbus",
         "showlegend": true,
         "type": "scattergl",
         "x": [
          -1.3182469606399536,
          -5.81427526473999,
          4.083863735198975
         ],
         "xaxis": "x",
         "y": [
          1.4014233350753784,
          1.104392170906067,
          -1.4436578750610352
         ],
         "yaxis": "y"
        },
        {
         "hovertemplate": "color=Poecilotriccus<br>TSNE1=%{x}<br>TSNE2=%{y}<extra></extra>",
         "legendgroup": "Poecilotriccus",
         "marker": {
          "color": "#109618",
          "symbol": "circle"
         },
         "mode": "markers",
         "name": "Poecilotriccus",
         "showlegend": true,
         "type": "scattergl",
         "x": [
          -5.161423206329346,
          -6.016736030578613,
          -0.09104467183351517,
          -0.6623477339744568,
          6.21236515045166,
          -6.7681779861450195,
          -0.2091875970363617,
          -1.8718048334121704,
          3.264037609100342,
          2.850343704223633,
          -1.2972791194915771,
          -0.42127808928489685,
          -3.3204503059387207,
          -3.9315943717956543,
          3.4503328800201416
         ],
         "xaxis": "x",
         "y": [
          3.8181312084198,
          -1.360329031944275,
          -4.381415843963623,
          -4.7368621826171875,
          5.1205034255981445,
          -6.4900360107421875,
          -4.860422611236572,
          -5.979726791381836,
          -2.7279796600341797,
          -4.261137008666992,
          -7.348330497741699,
          -5.691247463226318,
          -8.664194107055664,
          -8.224167823791504,
          -0.24191531538963318
         ],
         "yaxis": "y"
        },
        {
         "hovertemplate": "color=Polioptila<br>TSNE1=%{x}<br>TSNE2=%{y}<extra></extra>",
         "legendgroup": "Polioptila",
         "marker": {
          "color": "#990099",
          "symbol": "circle"
         },
         "mode": "markers",
         "name": "Polioptila",
         "showlegend": true,
         "type": "scattergl",
         "x": [
          2.0378880500793457,
          -0.40071776509284973,
          -2.043027400970459
         ],
         "xaxis": "x",
         "y": [
          2.6648318767547607,
          -4.204889297485352,
          -1.582895278930664
         ],
         "yaxis": "y"
        },
        {
         "hovertemplate": "color=Polytmus<br>TSNE1=%{x}<br>TSNE2=%{y}<extra></extra>",
         "legendgroup": "Polytmus",
         "marker": {
          "color": "#0099C6",
          "symbol": "circle"
         },
         "mode": "markers",
         "name": "Polytmus",
         "showlegend": true,
         "type": "scattergl",
         "x": [
          3.30558443069458,
          8.015353202819824,
          1.548377513885498,
          -4.742386341094971
         ],
         "xaxis": "x",
         "y": [
          -4.994952201843262,
          -0.8360288143157959,
          2.9931743144989014,
          2.761462926864624
         ],
         "yaxis": "y"
        },
        {
         "hovertemplate": "color=Porphyrio<br>TSNE1=%{x}<br>TSNE2=%{y}<extra></extra>",
         "legendgroup": "Porphyrio",
         "marker": {
          "color": "#DD4477",
          "symbol": "circle"
         },
         "mode": "markers",
         "name": "Porphyrio",
         "showlegend": true,
         "type": "scattergl",
         "x": [
          -0.7681758403778076,
          4.815458297729492,
          -6.07394552230835,
          -5.598642826080322
         ],
         "xaxis": "x",
         "y": [
          -4.225254535675049,
          0.8090980052947998,
          -2.8325374126434326,
          -0.3830961585044861
         ],
         "yaxis": "y"
        },
        {
         "hovertemplate": "color=Porphyrolaema<br>TSNE1=%{x}<br>TSNE2=%{y}<extra></extra>",
         "legendgroup": "Porphyrolaema",
         "marker": {
          "color": "#66AA00",
          "symbol": "circle"
         },
         "mode": "markers",
         "name": "Porphyrolaema",
         "showlegend": true,
         "type": "scattergl",
         "x": [
          3.188735246658325
         ],
         "xaxis": "x",
         "y": [
          1.451370120048523
         ],
         "yaxis": "y"
        },
        {
         "hovertemplate": "color=Premnoplex<br>TSNE1=%{x}<br>TSNE2=%{y}<extra></extra>",
         "legendgroup": "Premnoplex",
         "marker": {
          "color": "#B82E2E",
          "symbol": "circle"
         },
         "mode": "markers",
         "name": "Premnoplex",
         "showlegend": true,
         "type": "scattergl",
         "x": [
          -1.4907444715499878,
          -0.02040955424308777,
          3.4517714977264404
         ],
         "xaxis": "x",
         "y": [
          1.1377835273742676,
          4.13176965713501,
          -0.4054917097091675
         ],
         "yaxis": "y"
        },
        {
         "hovertemplate": "color=Premnornis<br>TSNE1=%{x}<br>TSNE2=%{y}<extra></extra>",
         "legendgroup": "Premnornis",
         "marker": {
          "color": "#316395",
          "symbol": "circle"
         },
         "mode": "markers",
         "name": "Premnornis",
         "showlegend": true,
         "type": "scattergl",
         "x": [
          7.534193515777588,
          -0.8126781582832336,
          0.9870920777320862,
          7.2292327880859375
         ],
         "xaxis": "x",
         "y": [
          0.5783392786979675,
          -1.1178133487701416,
          -3.5263571739196777,
          -0.5259582996368408
         ],
         "yaxis": "y"
        },
        {
         "hovertemplate": "color=Primolius<br>TSNE1=%{x}<br>TSNE2=%{y}<extra></extra>",
         "legendgroup": "Primolius",
         "marker": {
          "color": "#3366CC",
          "symbol": "circle"
         },
         "mode": "markers",
         "name": "Primolius",
         "showlegend": true,
         "type": "scattergl",
         "x": [
          6.71544885635376,
          3.335797071456909
         ],
         "xaxis": "x",
         "y": [
          2.8481569290161133,
          -3.2136995792388916
         ],
         "yaxis": "y"
        },
        {
         "hovertemplate": "color=Progne<br>TSNE1=%{x}<br>TSNE2=%{y}<extra></extra>",
         "legendgroup": "Progne",
         "marker": {
          "color": "#DC3912",
          "symbol": "circle"
         },
         "mode": "markers",
         "name": "Progne",
         "showlegend": true,
         "type": "scattergl",
         "x": [
          -0.6429312825202942,
          8.135540962219238,
          6.750257968902588,
          4.066495418548584,
          3.1093907356262207,
          -0.19525447487831116,
          7.550716400146484,
          5.00676155090332,
          1.5569356679916382
         ],
         "xaxis": "x",
         "y": [
          -3.1354622840881348,
          -1.376567006111145,
          6.599721431732178,
          9.452288627624512,
          -2.5641393661499023,
          -1.3053807020187378,
          1.0333459377288818,
          4.088777542114258,
          4.7071967124938965
         ],
         "yaxis": "y"
        },
        {
         "hovertemplate": "color=Psarocolius<br>TSNE1=%{x}<br>TSNE2=%{y}<extra></extra>",
         "legendgroup": "Psarocolius",
         "marker": {
          "color": "#FF9900",
          "symbol": "circle"
         },
         "mode": "markers",
         "name": "Psarocolius",
         "showlegend": true,
         "type": "scattergl",
         "x": [
          3.473235607147217,
          3.4785265922546387,
          1.1014643907546997,
          -1.8863344192504883,
          2.5485591888427734,
          2.224824905395508,
          3.419010877609253,
          0.2508322298526764,
          8.174389839172363,
          -2.051490306854248,
          -2.1079015731811523,
          1.1193844079971313,
          -6.573723793029785,
          -1.2596992254257202
         ],
         "xaxis": "x",
         "y": [
          8.333491325378418,
          6.665403366088867,
          2.072330951690674,
          5.7388529777526855,
          -2.2091593742370605,
          7.908050060272217,
          8.195198059082031,
          7.85457181930542,
          -1.3844988346099854,
          5.664554595947266,
          -3.5408174991607666,
          7.230687618255615,
          -1.6187585592269897,
          4.649646282196045
         ],
         "yaxis": "y"
        },
        {
         "hovertemplate": "color=Pseudastur<br>TSNE1=%{x}<br>TSNE2=%{y}<extra></extra>",
         "legendgroup": "Pseudastur",
         "marker": {
          "color": "#109618",
          "symbol": "circle"
         },
         "mode": "markers",
         "name": "Pseudastur",
         "showlegend": true,
         "type": "scattergl",
         "x": [
          -2.8950343132019043,
          2.211315155029297
         ],
         "xaxis": "x",
         "y": [
          -0.6443327069282532,
          -3.5769476890563965
         ],
         "yaxis": "y"
        },
        {
         "hovertemplate": "color=Pseudocolopteryx<br>TSNE1=%{x}<br>TSNE2=%{y}<extra></extra>",
         "legendgroup": "Pseudocolopteryx",
         "marker": {
          "color": "#990099",
          "symbol": "circle"
         },
         "mode": "markers",
         "name": "Pseudocolopteryx",
         "showlegend": true,
         "type": "scattergl",
         "x": [
          -2.2671027183532715,
          0.9472241401672363,
          0.4182175397872925
         ],
         "xaxis": "x",
         "y": [
          -9.123559951782227,
          -5.480310916900635,
          -5.818830490112305
         ],
         "yaxis": "y"
        },
        {
         "hovertemplate": "color=Pseudotriccus<br>TSNE1=%{x}<br>TSNE2=%{y}<extra></extra>",
         "legendgroup": "Pseudotriccus",
         "marker": {
          "color": "#0099C6",
          "symbol": "circle"
         },
         "mode": "markers",
         "name": "Pseudotriccus",
         "showlegend": true,
         "type": "scattergl",
         "x": [
          -2.838707208633423,
          3.428520917892456,
          -0.7617174983024597,
          -5.515265941619873
         ],
         "xaxis": "x",
         "y": [
          7.611816883087158,
          6.58784818649292,
          2.9350292682647705,
          -5.236776351928711
         ],
         "yaxis": "y"
        },
        {
         "hovertemplate": "color=Psittacara<br>TSNE1=%{x}<br>TSNE2=%{y}<extra></extra>",
         "legendgroup": "Psittacara",
         "marker": {
          "color": "#DD4477",
          "symbol": "circle"
         },
         "mode": "markers",
         "name": "Psittacara",
         "showlegend": true,
         "type": "scattergl",
         "x": [
          0.2947525084018707,
          0.49773308634757996,
          3.7463879585266113
         ],
         "xaxis": "x",
         "y": [
          -0.4304172992706299,
          -0.9209710359573364,
          -4.936314582824707
         ],
         "yaxis": "y"
        },
        {
         "hovertemplate": "color=Psophia<br>TSNE1=%{x}<br>TSNE2=%{y}<extra></extra>",
         "legendgroup": "Psophia",
         "marker": {
          "color": "#66AA00",
          "symbol": "circle"
         },
         "mode": "markers",
         "name": "Psophia",
         "showlegend": true,
         "type": "scattergl",
         "x": [
          5.927229404449463,
          0.8890171051025391
         ],
         "xaxis": "x",
         "y": [
          0.2923904359340668,
          1.8100323677062988
         ],
         "yaxis": "y"
        },
        {
         "hovertemplate": "color=Pteroglossus<br>TSNE1=%{x}<br>TSNE2=%{y}<extra></extra>",
         "legendgroup": "Pteroglossus",
         "marker": {
          "color": "#B82E2E",
          "symbol": "circle"
         },
         "mode": "markers",
         "name": "Pteroglossus",
         "showlegend": true,
         "type": "scattergl",
         "x": [
          9.238923072814941,
          8.86611557006836,
          1.2658723592758179,
          1.3555232286453247,
          3.8782756328582764,
          4.545047760009766,
          5.436889171600342,
          1.9685873985290527,
          8.463562965393066,
          5.409980297088623,
          6.855818271636963
         ],
         "xaxis": "x",
         "y": [
          4.651453971862793,
          0.5202551484107971,
          -0.7871602773666382,
          0.6411547064781189,
          -4.492056369781494,
          0.3336288034915924,
          -1.1996012926101685,
          -3.6481924057006836,
          1.2126834392547607,
          -0.6168960928916931,
          1.4521737098693848
         ],
         "yaxis": "y"
        },
        {
         "hovertemplate": "color=Pulsatrix<br>TSNE1=%{x}<br>TSNE2=%{y}<extra></extra>",
         "legendgroup": "Pulsatrix",
         "marker": {
          "color": "#316395",
          "symbol": "circle"
         },
         "mode": "markers",
         "name": "Pulsatrix",
         "showlegend": true,
         "type": "scattergl",
         "x": [
          1.2018219232559204,
          -2.759577512741089,
          -2.7751052379608154,
          -2.612142324447632,
          -3.478766441345215,
          -0.2878149151802063
         ],
         "xaxis": "x",
         "y": [
          6.318449974060059,
          7.365856170654297,
          -5.568573951721191,
          5.902233123779297,
          -0.06128111481666565,
          7.638258934020996
         ],
         "yaxis": "y"
        },
        {
         "hovertemplate": "color=Pygiptila<br>TSNE1=%{x}<br>TSNE2=%{y}<extra></extra>",
         "legendgroup": "Pygiptila",
         "marker": {
          "color": "#3366CC",
          "symbol": "circle"
         },
         "mode": "markers",
         "name": "Pygiptila",
         "showlegend": true,
         "type": "scattergl",
         "x": [
          3.1382699012756348,
          5.331364631652832
         ],
         "xaxis": "x",
         "y": [
          2.633608341217041,
          -2.0986955165863037
         ],
         "yaxis": "y"
        },
        {
         "hovertemplate": "color=Pyrilia<br>TSNE1=%{x}<br>TSNE2=%{y}<extra></extra>",
         "legendgroup": "Pyrilia",
         "marker": {
          "color": "#DC3912",
          "symbol": "circle"
         },
         "mode": "markers",
         "name": "Pyrilia",
         "showlegend": true,
         "type": "scattergl",
         "x": [
          0.503337025642395,
          -5.824315547943115
         ],
         "xaxis": "x",
         "y": [
          4.653069496154785,
          -5.397706985473633
         ],
         "yaxis": "y"
        },
        {
         "hovertemplate": "color=Pyrocephalus<br>TSNE1=%{x}<br>TSNE2=%{y}<extra></extra>",
         "legendgroup": "Pyrocephalus",
         "marker": {
          "color": "#FF9900",
          "symbol": "circle"
         },
         "mode": "markers",
         "name": "Pyrocephalus",
         "showlegend": true,
         "type": "scattergl",
         "x": [
          1.9892041683197021,
          5.854626178741455
         ],
         "xaxis": "x",
         "y": [
          -0.9073294401168823,
          1.965467929840088
         ],
         "yaxis": "y"
        },
        {
         "hovertemplate": "color=Pyrrhomyias<br>TSNE1=%{x}<br>TSNE2=%{y}<extra></extra>",
         "legendgroup": "Pyrrhomyias",
         "marker": {
          "color": "#109618",
          "symbol": "circle"
         },
         "mode": "markers",
         "name": "Pyrrhomyias",
         "showlegend": true,
         "type": "scattergl",
         "x": [
          4.691558837890625,
          4.255598545074463
         ],
         "xaxis": "x",
         "y": [
          -4.090630054473877,
          4.730856418609619
         ],
         "yaxis": "y"
        },
        {
         "hovertemplate": "color=Pyrrhura<br>TSNE1=%{x}<br>TSNE2=%{y}<extra></extra>",
         "legendgroup": "Pyrrhura",
         "marker": {
          "color": "#990099",
          "symbol": "circle"
         },
         "mode": "markers",
         "name": "Pyrrhura",
         "showlegend": true,
         "type": "scattergl",
         "x": [
          5.29625940322876,
          5.007045269012451,
          0.3026238679885864
         ],
         "xaxis": "x",
         "y": [
          -3.054518461227417,
          2.37294864654541,
          -6.566405296325684
         ],
         "yaxis": "y"
        },
        {
         "hovertemplate": "color=Querula<br>TSNE1=%{x}<br>TSNE2=%{y}<extra></extra>",
         "legendgroup": "Querula",
         "marker": {
          "color": "#0099C6",
          "symbol": "circle"
         },
         "mode": "markers",
         "name": "Querula",
         "showlegend": true,
         "type": "scattergl",
         "x": [
          -3.2498621940612793,
          -2.3578848838806152
         ],
         "xaxis": "x",
         "y": [
          0.6538197994232178,
          -5.7800164222717285
         ],
         "yaxis": "y"
        },
        {
         "hovertemplate": "color=Ramphastos<br>TSNE1=%{x}<br>TSNE2=%{y}<extra></extra>",
         "legendgroup": "Ramphastos",
         "marker": {
          "color": "#DD4477",
          "symbol": "circle"
         },
         "mode": "markers",
         "name": "Ramphastos",
         "showlegend": true,
         "type": "scattergl",
         "x": [
          1.0953612327575684,
          0.8136296272277832,
          -0.835789144039154,
          4.059896469116211,
          8.955111503601074,
          -1.8909480571746826,
          5.7425537109375,
          2.27534556388855
         ],
         "xaxis": "x",
         "y": [
          -7.016158103942871,
          -7.67683744430542,
          -5.086833477020264,
          5.516869068145752,
          2.2438554763793945,
          8.863869667053223,
          -0.8200463652610779,
          -2.424016237258911
         ],
         "yaxis": "y"
        },
        {
         "hovertemplate": "color=Ramphocaenus<br>TSNE1=%{x}<br>TSNE2=%{y}<extra></extra>",
         "legendgroup": "Ramphocaenus",
         "marker": {
          "color": "#66AA00",
          "symbol": "circle"
         },
         "mode": "markers",
         "name": "Ramphocaenus",
         "showlegend": true,
         "type": "scattergl",
         "x": [
          5.051075458526611,
          1.1440083980560303,
          6.303847312927246,
          8.968233108520508,
          -4.610339641571045,
          9.027153015136719
         ],
         "xaxis": "x",
         "y": [
          4.022507190704346,
          3.5105879306793213,
          -4.269873142242432,
          2.0608956813812256,
          1.7796021699905396,
          2.097612142562866
         ],
         "yaxis": "y"
        },
        {
         "hovertemplate": "color=Ramphocelus<br>TSNE1=%{x}<br>TSNE2=%{y}<extra></extra>",
         "legendgroup": "Ramphocelus",
         "marker": {
          "color": "#B82E2E",
          "symbol": "circle"
         },
         "mode": "markers",
         "name": "Ramphocelus",
         "showlegend": true,
         "type": "scattergl",
         "x": [
          2.233598470687866,
          7.174920558929443,
          6.646690368652344,
          6.711658954620361,
          3.1716647148132324,
          6.949502468109131,
          6.2715678215026855
         ],
         "xaxis": "x",
         "y": [
          -1.430999994277954,
          5.817498207092285,
          3.1822640895843506,
          3.055617332458496,
          -1.2097524404525757,
          -0.012216011993587017,
          1.8025689125061035
         ],
         "yaxis": "y"
        },
        {
         "hovertemplate": "color=Ramphotrigon<br>TSNE1=%{x}<br>TSNE2=%{y}<extra></extra>",
         "legendgroup": "Ramphotrigon",
         "marker": {
          "color": "#316395",
          "symbol": "circle"
         },
         "mode": "markers",
         "name": "Ramphotrigon",
         "showlegend": true,
         "type": "scattergl",
         "x": [
          1.3411507606506348,
          0.06989261507987976,
          5.899185657501221,
          -3.2631676197052,
          1.152101755142212,
          -0.2256374955177307,
          0.623358428478241
         ],
         "xaxis": "x",
         "y": [
          -2.916234016418457,
          3.6184754371643066,
          1.5899440050125122,
          -3.3540549278259277,
          -1.9969834089279175,
          3.179013967514038,
          6.506478309631348
         ],
         "yaxis": "y"
        },
        {
         "hovertemplate": "color=Rhegmatorhina<br>TSNE1=%{x}<br>TSNE2=%{y}<extra></extra>",
         "legendgroup": "Rhegmatorhina",
         "marker": {
          "color": "#3366CC",
          "symbol": "circle"
         },
         "mode": "markers",
         "name": "Rhegmatorhina",
         "showlegend": true,
         "type": "scattergl",
         "x": [
          1.8747169971466064,
          3.5957865715026855
         ],
         "xaxis": "x",
         "y": [
          5.131092071533203,
          5.04812479019165
         ],
         "yaxis": "y"
        },
        {
         "hovertemplate": "color=Rhynchocyclus<br>TSNE1=%{x}<br>TSNE2=%{y}<extra></extra>",
         "legendgroup": "Rhynchocyclus",
         "marker": {
          "color": "#DC3912",
          "symbol": "circle"
         },
         "mode": "markers",
         "name": "Rhynchocyclus",
         "showlegend": true,
         "type": "scattergl",
         "x": [
          -6.772315979003906,
          -5.8872270584106445,
          -1.965859293937683,
          5.519915580749512,
          -1.092018961906433
         ],
         "xaxis": "x",
         "y": [
          -1.297110915184021,
          -2.6422536373138428,
          -2.4670095443725586,
          -0.524253249168396,
          8.834840774536133
         ],
         "yaxis": "y"
        },
        {
         "hovertemplate": "color=Rhynchotus<br>TSNE1=%{x}<br>TSNE2=%{y}<extra></extra>",
         "legendgroup": "Rhynchotus",
         "marker": {
          "color": "#FF9900",
          "symbol": "circle"
         },
         "mode": "markers",
         "name": "Rhynchotus",
         "showlegend": true,
         "type": "scattergl",
         "x": [
          2.5450222492218018,
          4.580805778503418
         ],
         "xaxis": "x",
         "y": [
          -4.212203025817871,
          4.357758045196533
         ],
         "yaxis": "y"
        },
        {
         "hovertemplate": "color=Rhytipterna<br>TSNE1=%{x}<br>TSNE2=%{y}<extra></extra>",
         "legendgroup": "Rhytipterna",
         "marker": {
          "color": "#109618",
          "symbol": "circle"
         },
         "mode": "markers",
         "name": "Rhytipterna",
         "showlegend": true,
         "type": "scattergl",
         "x": [
          -6.714280128479004,
          -6.3295087814331055,
          -5.98107385635376,
          -5.6696648597717285,
          3.4456539154052734
         ],
         "xaxis": "x",
         "y": [
          -5.8502326011657715,
          -2.9214720726013184,
          -0.6099121570587158,
          -2.374859094619751,
          7.338723182678223
         ],
         "yaxis": "y"
        },
        {
         "hovertemplate": "color=Riparia<br>TSNE1=%{x}<br>TSNE2=%{y}<extra></extra>",
         "legendgroup": "Riparia",
         "marker": {
          "color": "#990099",
          "symbol": "circle"
         },
         "mode": "markers",
         "name": "Riparia",
         "showlegend": true,
         "type": "scattergl",
         "x": [
          8.91482925415039,
          8.893972396850586
         ],
         "xaxis": "x",
         "y": [
          1.5623506307601929,
          1.1638280153274536
         ],
         "yaxis": "y"
        },
        {
         "hovertemplate": "color=Rollandia<br>TSNE1=%{x}<br>TSNE2=%{y}<extra></extra>",
         "legendgroup": "Rollandia",
         "marker": {
          "color": "#0099C6",
          "symbol": "circle"
         },
         "mode": "markers",
         "name": "Rollandia",
         "showlegend": true,
         "type": "scattergl",
         "x": [
          2.9591987133026123,
          -6.846737384796143,
          6.837279319763184
         ],
         "xaxis": "x",
         "y": [
          -4.71075963973999,
          -1.159646987915039,
          -2.5844273567199707
         ],
         "yaxis": "y"
        },
        {
         "hovertemplate": "color=Rostrhamus<br>TSNE1=%{x}<br>TSNE2=%{y}<extra></extra>",
         "legendgroup": "Rostrhamus",
         "marker": {
          "color": "#DD4477",
          "symbol": "circle"
         },
         "mode": "markers",
         "name": "Rostrhamus",
         "showlegend": true,
         "type": "scattergl",
         "x": [
          -3.8026978969573975
         ],
         "xaxis": "x",
         "y": [
          0.4717293679714203
         ],
         "yaxis": "y"
        },
        {
         "hovertemplate": "color=Rupicola<br>TSNE1=%{x}<br>TSNE2=%{y}<extra></extra>",
         "legendgroup": "Rupicola",
         "marker": {
          "color": "#66AA00",
          "symbol": "circle"
         },
         "mode": "markers",
         "name": "Rupicola",
         "showlegend": true,
         "type": "scattergl",
         "x": [
          8.397649765014648,
          0.7203550338745117,
          8.412153244018555,
          3.2415101528167725,
          -6.200972557067871
         ],
         "xaxis": "x",
         "y": [
          4.612227439880371,
          3.893786907196045,
          2.6732399463653564,
          -2.7909154891967773,
          -3.991609573364258
         ],
         "yaxis": "y"
        },
        {
         "hovertemplate": "color=Rupornis<br>TSNE1=%{x}<br>TSNE2=%{y}<extra></extra>",
         "legendgroup": "Rupornis",
         "marker": {
          "color": "#B82E2E",
          "symbol": "circle"
         },
         "mode": "markers",
         "name": "Rupornis",
         "showlegend": true,
         "type": "scattergl",
         "x": [
          8.894424438476562,
          -3.598637580871582,
          -2.394099473953247
         ],
         "xaxis": "x",
         "y": [
          2.0665905475616455,
          0.028758741915225983,
          6.681410312652588
         ],
         "yaxis": "y"
        },
        {
         "hovertemplate": "color=Rynchops<br>TSNE1=%{x}<br>TSNE2=%{y}<extra></extra>",
         "legendgroup": "Rynchops",
         "marker": {
          "color": "#316395",
          "symbol": "circle"
         },
         "mode": "markers",
         "name": "Rynchops",
         "showlegend": true,
         "type": "scattergl",
         "x": [
          8.808600425720215,
          -1.9412670135498047,
          8.426283836364746,
          7.629954814910889
         ],
         "xaxis": "x",
         "y": [
          4.042934894561768,
          -8.841107368469238,
          -0.06091092526912689,
          0.1657715141773224
         ],
         "yaxis": "y"
        },
        {
         "hovertemplate": "color=Saltator<br>TSNE1=%{x}<br>TSNE2=%{y}<extra></extra>",
         "legendgroup": "Saltator",
         "marker": {
          "color": "#3366CC",
          "symbol": "circle"
         },
         "mode": "markers",
         "name": "Saltator",
         "showlegend": true,
         "type": "scattergl",
         "x": [
          -5.668076515197754,
          2.385723352432251,
          -5.470643043518066,
          -3.305036783218384,
          -2.3021788597106934,
          -1.772605538368225,
          -3.3093104362487793,
          6.225403785705566,
          1.929904580116272,
          4.225192546844482
         ],
         "xaxis": "x",
         "y": [
          0.3403488099575043,
          -1.8642323017120361,
          0.3670634925365448,
          -1.5145448446273804,
          -1.1367671489715576,
          1.9387999773025513,
          2.280541181564331,
          1.3079335689544678,
          -0.26392292976379395,
          0.15111304819583893
         ],
         "yaxis": "y"
        },
        {
         "hovertemplate": "color=Sarcoramphus<br>TSNE1=%{x}<br>TSNE2=%{y}<extra></extra>",
         "legendgroup": "Sarcoramphus",
         "marker": {
          "color": "#DC3912",
          "symbol": "circle"
         },
         "mode": "markers",
         "name": "Sarcoramphus",
         "showlegend": true,
         "type": "scattergl",
         "x": [
          0.9855406880378723,
          -3.7110564708709717
         ],
         "xaxis": "x",
         "y": [
          8.478242874145508,
          -7.113345623016357
         ],
         "yaxis": "y"
        },
        {
         "hovertemplate": "color=Satrapa<br>TSNE1=%{x}<br>TSNE2=%{y}<extra></extra>",
         "legendgroup": "Satrapa",
         "marker": {
          "color": "#FF9900",
          "symbol": "circle"
         },
         "mode": "markers",
         "name": "Satrapa",
         "showlegend": true,
         "type": "scattergl",
         "x": [
          -7.3091936111450195
         ],
         "xaxis": "x",
         "y": [
          -4.115967273712158
         ],
         "yaxis": "y"
        },
        {
         "hovertemplate": "color=Sayornis<br>TSNE1=%{x}<br>TSNE2=%{y}<extra></extra>",
         "legendgroup": "Sayornis",
         "marker": {
          "color": "#109618",
          "symbol": "circle"
         },
         "mode": "markers",
         "name": "Sayornis",
         "showlegend": true,
         "type": "scattergl",
         "x": [
          1.8786498308181763,
          8.418485641479492,
          -0.41394931077957153
         ],
         "xaxis": "x",
         "y": [
          -4.529293537139893,
          5.296568393707275,
          -7.393503189086914
         ],
         "yaxis": "y"
        },
        {
         "hovertemplate": "color=Schiffornis<br>TSNE1=%{x}<br>TSNE2=%{y}<extra></extra>",
         "legendgroup": "Schiffornis",
         "marker": {
          "color": "#990099",
          "symbol": "circle"
         },
         "mode": "markers",
         "name": "Schiffornis",
         "showlegend": true,
         "type": "scattergl",
         "x": [
          -1.902726411819458,
          -0.7558677196502686,
          -0.8733591437339783,
          -1.8560476303100586,
          4.686159133911133,
          0.3134295344352722,
          2.5789451599121094,
          4.610034942626953,
          3.7508559226989746
         ],
         "xaxis": "x",
         "y": [
          0.6145831346511841,
          0.8630236983299255,
          1.0444599390029907,
          -2.0341851711273193,
          1.876533031463623,
          -5.354841709136963,
          -3.975209951400757,
          4.49928092956543,
          1.3494188785552979
         ],
         "yaxis": "y"
        },
        {
         "hovertemplate": "color=Schistes<br>TSNE1=%{x}<br>TSNE2=%{y}<extra></extra>",
         "legendgroup": "Schistes",
         "marker": {
          "color": "#0099C6",
          "symbol": "circle"
         },
         "mode": "markers",
         "name": "Schistes",
         "showlegend": true,
         "type": "scattergl",
         "x": [
          8.777763366699219,
          8.091012954711914
         ],
         "xaxis": "x",
         "y": [
          0.3209036886692047,
          -0.21535135805606842
         ],
         "yaxis": "y"
        },
        {
         "hovertemplate": "color=Schistochlamys<br>TSNE1=%{x}<br>TSNE2=%{y}<extra></extra>",
         "legendgroup": "Schistochlamys",
         "marker": {
          "color": "#DD4477",
          "symbol": "circle"
         },
         "mode": "markers",
         "name": "Schistochlamys",
         "showlegend": true,
         "type": "scattergl",
         "x": [
          4.708518981933594,
          0.03430625796318054
         ],
         "xaxis": "x",
         "y": [
          1.2444888353347778,
          -4.906793594360352
         ],
         "yaxis": "y"
        },
        {
         "hovertemplate": "color=Sciaphylax<br>TSNE1=%{x}<br>TSNE2=%{y}<extra></extra>",
         "legendgroup": "Sciaphylax",
         "marker": {
          "color": "#66AA00",
          "symbol": "circle"
         },
         "mode": "markers",
         "name": "Sciaphylax",
         "showlegend": true,
         "type": "scattergl",
         "x": [
          0.20532344281673431,
          -1.708722710609436,
          -6.211937427520752
         ],
         "xaxis": "x",
         "y": [
          4.504650115966797,
          6.249867916107178,
          -5.17264461517334
         ],
         "yaxis": "y"
        },
        {
         "hovertemplate": "color=Sclateria<br>TSNE1=%{x}<br>TSNE2=%{y}<extra></extra>",
         "legendgroup": "Sclateria",
         "marker": {
          "color": "#B82E2E",
          "symbol": "circle"
         },
         "mode": "markers",
         "name": "Sclateria",
         "showlegend": true,
         "type": "scattergl",
         "x": [
          0.9464290738105774,
          0.25559744238853455,
          -1.9148253202438354
         ],
         "xaxis": "x",
         "y": [
          4.076459884643555,
          3.9955601692199707,
          6.350835800170898
         ],
         "yaxis": "y"
        },
        {
         "hovertemplate": "color=Sclerurus<br>TSNE1=%{x}<br>TSNE2=%{y}<extra></extra>",
         "legendgroup": "Sclerurus",
         "marker": {
          "color": "#316395",
          "symbol": "circle"
         },
         "mode": "markers",
         "name": "Sclerurus",
         "showlegend": true,
         "type": "scattergl",
         "x": [
          5.598642826080322,
          5.289164066314697,
          5.377235412597656,
          5.035533905029297,
          -3.1918041706085205,
          5.502229690551758,
          6.984994888305664,
          -3.6974966526031494,
          4.195566654205322
         ],
         "xaxis": "x",
         "y": [
          2.7499516010284424,
          -2.303504228591919,
          0.6995524764060974,
          4.509998798370361,
          0.7673419117927551,
          -2.061891555786133,
          6.411723613739014,
          -8.1073637008667,
          3.9445595741271973
         ],
         "yaxis": "y"
        },
        {
         "hovertemplate": "color=Scytalopus<br>TSNE1=%{x}<br>TSNE2=%{y}<extra></extra>",
         "legendgroup": "Scytalopus",
         "marker": {
          "color": "#3366CC",
          "symbol": "circle"
         },
         "mode": "markers",
         "name": "Scytalopus",
         "showlegend": true,
         "type": "scattergl",
         "x": [
          3.333616256713867,
          2.302903175354004,
          2.964353084564209,
          1.5448068380355835,
          3.718892812728882,
          -5.990475654602051,
          3.745875358581543,
          -2.5923173427581787,
          6.474131107330322,
          3.226200819015503,
          -1.9259673357009888,
          -1.9965111017227173
         ],
         "xaxis": "x",
         "y": [
          0.8141641616821289,
          -1.9729305505752563,
          1.9811358451843262,
          5.599243640899658,
          7.368626594543457,
          0.9709577560424805,
          4.940436363220215,
          7.725865840911865,
          -3.1353373527526855,
          -6.457639694213867,
          8.911661148071289,
          8.817986488342285
         ],
         "yaxis": "y"
        },
        {
         "hovertemplate": "color=Selenidera<br>TSNE1=%{x}<br>TSNE2=%{y}<extra></extra>",
         "legendgroup": "Selenidera",
         "marker": {
          "color": "#DC3912",
          "symbol": "circle"
         },
         "mode": "markers",
         "name": "Selenidera",
         "showlegend": true,
         "type": "scattergl",
         "x": [
          -3.7715842723846436,
          1.8529078960418701
         ],
         "xaxis": "x",
         "y": [
          5.4746198654174805,
          -5.442368507385254
         ],
         "yaxis": "y"
        },
        {
         "hovertemplate": "color=Serpophaga<br>TSNE1=%{x}<br>TSNE2=%{y}<extra></extra>",
         "legendgroup": "Serpophaga",
         "marker": {
          "color": "#FF9900",
          "symbol": "circle"
         },
         "mode": "markers",
         "name": "Serpophaga",
         "showlegend": true,
         "type": "scattergl",
         "x": [
          -2.4727237224578857,
          -2.4904050827026367,
          -4.583991527557373,
          -4.661577224731445,
          -0.07653442025184631,
          -4.4840617179870605,
          -5.558595657348633
         ],
         "xaxis": "x",
         "y": [
          -1.7282507419586182,
          -4.859663009643555,
          2.4858815670013428,
          -2.795175790786743,
          -4.4289374351501465,
          -5.068713188171387,
          -3.953810930252075
         ],
         "yaxis": "y"
        },
        {
         "hovertemplate": "color=Setopagis<br>TSNE1=%{x}<br>TSNE2=%{y}<extra></extra>",
         "legendgroup": "Setopagis",
         "marker": {
          "color": "#109618",
          "symbol": "circle"
         },
         "mode": "markers",
         "name": "Setopagis",
         "showlegend": true,
         "type": "scattergl",
         "x": [
          -5.465986728668213,
          -4.357607364654541,
          -2.134735107421875
         ],
         "xaxis": "x",
         "y": [
          0.4525470733642578,
          2.4858365058898926,
          -1.7353767156600952
         ],
         "yaxis": "y"
        },
        {
         "hovertemplate": "color=Setophaga<br>TSNE1=%{x}<br>TSNE2=%{y}<extra></extra>",
         "legendgroup": "Setophaga",
         "marker": {
          "color": "#990099",
          "symbol": "circle"
         },
         "mode": "markers",
         "name": "Setophaga",
         "showlegend": true,
         "type": "scattergl",
         "x": [
          -5.978415489196777,
          -6.052729606628418,
          4.037089824676514,
          6.5848188400268555,
          -3.3378257751464844,
          5.128096103668213,
          1.6776894330978394,
          0.8745735883712769,
          8.996614456176758,
          -1.2853916883468628,
          -4.308774948120117,
          -0.7744432091712952,
          -1.210056185722351,
          -2.14043927192688,
          -0.8762942552566528,
          1.786451816558838,
          -0.5454456210136414
         ],
         "xaxis": "x",
         "y": [
          -2.7483115196228027,
          -2.995213508605957,
          9.522082328796387,
          -2.792816400527954,
          -3.053091526031494,
          -2.906233072280884,
          2.2266135215759277,
          -4.999426364898682,
          0.3138706088066101,
          3.114103078842163,
          1.9389121532440186,
          3.9167776107788086,
          2.966963529586792,
          4.1086039543151855,
          7.849198341369629,
          7.735628604888916,
          -4.718800067901611
         ],
         "yaxis": "y"
        },
        {
         "hovertemplate": "color=Sicalis<br>TSNE1=%{x}<br>TSNE2=%{y}<extra></extra>",
         "legendgroup": "Sicalis",
         "marker": {
          "color": "#0099C6",
          "symbol": "circle"
         },
         "mode": "markers",
         "name": "Sicalis",
         "showlegend": true,
         "type": "scattergl",
         "x": [
          -1.4115947484970093,
          -4.043790817260742,
          -3.0829660892486572,
          -1.8068583011627197,
          -0.7257776260375977,
          -3.0450003147125244
         ],
         "xaxis": "x",
         "y": [
          2.3088979721069336,
          3.4882853031158447,
          0.2880152761936188,
          3.6015610694885254,
          0.5919094085693359,
          -3.6119680404663086
         ],
         "yaxis": "y"
        },
        {
         "hovertemplate": "color=Sirystes<br>TSNE1=%{x}<br>TSNE2=%{y}<extra></extra>",
         "legendgroup": "Sirystes",
         "marker": {
          "color": "#DD4477",
          "symbol": "circle"
         },
         "mode": "markers",
         "name": "Sirystes",
         "showlegend": true,
         "type": "scattergl",
         "x": [
          0.13133613765239716,
          2.552114486694336,
          -4.886613845825195,
          4.581362247467041
         ],
         "xaxis": "x",
         "y": [
          -2.079185962677002,
          1.0389618873596191,
          2.848607301712036,
          3.7326416969299316
         ],
         "yaxis": "y"
        },
        {
         "hovertemplate": "color=Sittasomus<br>TSNE1=%{x}<br>TSNE2=%{y}<extra></extra>",
         "legendgroup": "Sittasomus",
         "marker": {
          "color": "#66AA00",
          "symbol": "circle"
         },
         "mode": "markers",
         "name": "Sittasomus",
         "showlegend": true,
         "type": "scattergl",
         "x": [
          -3.6659438610076904,
          -4.921604633331299,
          -2.2958500385284424
         ],
         "xaxis": "x",
         "y": [
          0.13779401779174805,
          0.6233120560646057,
          1.4182027578353882
         ],
         "yaxis": "y"
        },
        {
         "hovertemplate": "color=Snowornis<br>TSNE1=%{x}<br>TSNE2=%{y}<extra></extra>",
         "legendgroup": "Snowornis",
         "marker": {
          "color": "#B82E2E",
          "symbol": "circle"
         },
         "mode": "markers",
         "name": "Snowornis",
         "showlegend": true,
         "type": "scattergl",
         "x": [
          -6.603262424468994,
          -6.324989318847656,
          -5.840147972106934
         ],
         "xaxis": "x",
         "y": [
          -6.940805912017822,
          -6.436524868011475,
          0.34565436840057373
         ],
         "yaxis": "y"
        },
        {
         "hovertemplate": "color=Spatula<br>TSNE1=%{x}<br>TSNE2=%{y}<extra></extra>",
         "legendgroup": "Spatula",
         "marker": {
          "color": "#316395",
          "symbol": "circle"
         },
         "mode": "markers",
         "name": "Spatula",
         "showlegend": true,
         "type": "scattergl",
         "x": [
          -0.1810206174850464,
          -4.4814982414245605,
          -1.6081435680389404,
          2.607200860977173,
          -0.9727010130882263,
          3.445148468017578,
          -3.483983039855957,
          -2.9199044704437256
         ],
         "xaxis": "x",
         "y": [
          -7.9675116539001465,
          -7.937465190887451,
          -8.01346492767334,
          6.607551574707031,
          -7.527992248535156,
          -4.525179862976074,
          -7.323629379272461,
          8.025615692138672
         ],
         "yaxis": "y"
        },
        {
         "hovertemplate": "color=Spinus<br>TSNE1=%{x}<br>TSNE2=%{y}<extra></extra>",
         "legendgroup": "Spinus",
         "marker": {
          "color": "#3366CC",
          "symbol": "circle"
         },
         "mode": "markers",
         "name": "Spinus",
         "showlegend": true,
         "type": "scattergl",
         "x": [
          2.7520716190338135,
          5.2626519203186035,
          2.551483392715454,
          -0.1890762448310852,
          -1.112758994102478,
          -3.9326834678649902,
          5.352965831756592
         ],
         "xaxis": "x",
         "y": [
          6.7718505859375,
          0.2152053713798523,
          4.475631237030029,
          -3.581683397293091,
          1.8296384811401367,
          -8.243252754211426,
          0.8571286201477051
         ],
         "yaxis": "y"
        },
        {
         "hovertemplate": "color=Spizaetus<br>TSNE1=%{x}<br>TSNE2=%{y}<extra></extra>",
         "legendgroup": "Spizaetus",
         "marker": {
          "color": "#DC3912",
          "symbol": "circle"
         },
         "mode": "markers",
         "name": "Spizaetus",
         "showlegend": true,
         "type": "scattergl",
         "x": [
          -4.8680243492126465,
          3.275841474533081,
          -2.347350835800171,
          4.170013904571533,
          -1.43175208568573,
          6.178194046020508,
          4.565655708312988,
          4.092404842376709,
          -2.8963236808776855,
          -1.3426110744476318,
          -0.6695653200149536
         ],
         "xaxis": "x",
         "y": [
          2.493391752243042,
          7.287901401519775,
          1.5706865787506104,
          6.530490875244141,
          1.325537085533142,
          0.6912715435028076,
          -2.9314019680023193,
          -3.0641422271728516,
          -3.061352014541626,
          -5.227428436279297,
          -3.566133737564087
         ],
         "yaxis": "y"
        },
        {
         "hovertemplate": "color=Sporophila<br>TSNE1=%{x}<br>TSNE2=%{y}<extra></extra>",
         "legendgroup": "Sporophila",
         "marker": {
          "color": "#FF9900",
          "symbol": "circle"
         },
         "mode": "markers",
         "name": "Sporophila",
         "showlegend": true,
         "type": "scattergl",
         "x": [
          -5.006082057952881,
          -1.7063921689987183,
          -1.7371857166290283,
          -4.476100444793701,
          -0.2127806395292282,
          -6.012847900390625,
          -1.1742335557937622,
          -0.45367076992988586,
          -5.938714981079102,
          -0.8609941005706787,
          -0.8931502103805542,
          -1.68598473072052,
          -5.968470573425293,
          -0.308399498462677,
          7.699104309082031,
          -5.013333320617676,
          -3.5704522132873535,
          -1.4453340768814087,
          -6.052046775817871,
          -2.924661159515381,
          -2.356419086456299,
          -4.372014045715332,
          4.335879325866699,
          4.627891540527344,
          0.10571014136075974,
          -2.8474831581115723,
          -5.179440975189209,
          -5.524028301239014,
          -5.053196430206299,
          -4.3465375900268555,
          2.88004994392395,
          8.630964279174805,
          -5.518093585968018,
          -1.4767154455184937,
          2.5753610134124756,
          3.2810840606689453,
          -0.7643457055091858,
          -1.886126160621643,
          -5.4360151290893555
         ],
         "xaxis": "x",
         "y": [
          0.6161082983016968,
          1.0580494403839111,
          3.756967306137085,
          2.3814537525177,
          1.0831416845321655,
          1.2529152631759644,
          -1.4549683332443237,
          4.227413654327393,
          -2.625143051147461,
          1.0723732709884644,
          5.98682165145874,
          1.8386930227279663,
          0.15494787693023682,
          -4.3219451904296875,
          -1.54188072681427,
          2.7264389991760254,
          -8.086628913879395,
          5.124648571014404,
          -2.5318987369537354,
          -2.426802158355713,
          -6.75735330581665,
          -6.386894702911377,
          -1.9044950008392334,
          -1.9997761249542236,
          -7.498815059661865,
          5.408888816833496,
          2.3016865253448486,
          -0.04939159005880356,
          -2.6834354400634766,
          -8.533076286315918,
          -1.824448585510254,
          4.104363918304443,
          2.5116138458251953,
          5.307495594024658,
          6.359591007232666,
          7.078981399536133,
          6.067336082458496,
          3.8361005783081055,
          -2.657086133956909
         ],
         "yaxis": "y"
        },
        {
         "hovertemplate": "color=Steatornis<br>TSNE1=%{x}<br>TSNE2=%{y}<extra></extra>",
         "legendgroup": "Steatornis",
         "marker": {
          "color": "#109618",
          "symbol": "circle"
         },
         "mode": "markers",
         "name": "Steatornis",
         "showlegend": true,
         "type": "scattergl",
         "x": [
          1.1160403490066528,
          -0.875893771648407
         ],
         "xaxis": "x",
         "y": [
          -1.2720874547958374,
          1.1425769329071045
         ],
         "yaxis": "y"
        },
        {
         "hovertemplate": "color=Stelgidopteryx<br>TSNE1=%{x}<br>TSNE2=%{y}<extra></extra>",
         "legendgroup": "Stelgidopteryx",
         "marker": {
          "color": "#990099",
          "symbol": "circle"
         },
         "mode": "markers",
         "name": "Stelgidopteryx",
         "showlegend": true,
         "type": "scattergl",
         "x": [
          -3.9143688678741455,
          -3.729180335998535
         ],
         "xaxis": "x",
         "y": [
          -5.290741920471191,
          -6.709340572357178
         ],
         "yaxis": "y"
        },
        {
         "hovertemplate": "color=Sterna<br>TSNE1=%{x}<br>TSNE2=%{y}<extra></extra>",
         "legendgroup": "Sterna",
         "marker": {
          "color": "#0099C6",
          "symbol": "circle"
         },
         "mode": "markers",
         "name": "Sterna",
         "showlegend": true,
         "type": "scattergl",
         "x": [
          5.05238676071167,
          3.8385772705078125,
          -4.689026355743408
         ],
         "xaxis": "x",
         "y": [
          5.473507404327393,
          -1.018536925315857,
          -5.713128566741943
         ],
         "yaxis": "y"
        },
        {
         "hovertemplate": "color=Sternula<br>TSNE1=%{x}<br>TSNE2=%{y}<extra></extra>",
         "legendgroup": "Sternula",
         "marker": {
          "color": "#DD4477",
          "symbol": "circle"
         },
         "mode": "markers",
         "name": "Sternula",
         "showlegend": true,
         "type": "scattergl",
         "x": [
          2.331774950027466,
          -2.128453493118286,
          1.7180418968200684,
          -4.55373477935791,
          -0.26463237404823303
         ],
         "xaxis": "x",
         "y": [
          -4.479124069213867,
          8.63917064666748,
          0.23090389370918274,
          -3.065701723098755,
          2.8732118606567383
         ],
         "yaxis": "y"
        },
        {
         "hovertemplate": "color=Streptoprocne<br>TSNE1=%{x}<br>TSNE2=%{y}<extra></extra>",
         "legendgroup": "Streptoprocne",
         "marker": {
          "color": "#66AA00",
          "symbol": "circle"
         },
         "mode": "markers",
         "name": "Streptoprocne",
         "showlegend": true,
         "type": "scattergl",
         "x": [
          -1.9269073009490967,
          -1.756800651550293,
          -3.4288523197174072,
          -0.6917210221290588,
          -4.062079429626465,
          -5.126711845397949,
          -5.146030902862549,
          -2.696810483932495,
          -3.2366693019866943
         ],
         "xaxis": "x",
         "y": [
          1.7627863883972168,
          -5.535160541534424,
          6.529515743255615,
          6.081619739532471,
          5.393366813659668,
          2.0653276443481445,
          2.0184240341186523,
          6.337052822113037,
          6.314574718475342
         ],
         "yaxis": "y"
        },
        {
         "hovertemplate": "color=Sublegatus<br>TSNE1=%{x}<br>TSNE2=%{y}<extra></extra>",
         "legendgroup": "Sublegatus",
         "marker": {
          "color": "#B82E2E",
          "symbol": "circle"
         },
         "mode": "markers",
         "name": "Sublegatus",
         "showlegend": true,
         "type": "scattergl",
         "x": [
          -0.519817054271698,
          2.9255897998809814,
          -3.7271902561187744,
          -6.667939186096191,
          -2.917833089828491
         ],
         "xaxis": "x",
         "y": [
          -2.1870603561401367,
          2.815713405609131,
          -5.9758124351501465,
          -6.628816604614258,
          1.0482643842697144
         ],
         "yaxis": "y"
        },
        {
         "hovertemplate": "color=Synallaxis<br>TSNE1=%{x}<br>TSNE2=%{y}<extra></extra>",
         "legendgroup": "Synallaxis",
         "marker": {
          "color": "#316395",
          "symbol": "circle"
         },
         "mode": "markers",
         "name": "Synallaxis",
         "showlegend": true,
         "type": "scattergl",
         "x": [
          8.224815368652344,
          4.1401848793029785,
          7.449010372161865,
          5.129851341247559,
          2.287177324295044,
          6.140290260314941,
          5.141716480255127,
          -3.9883248805999756,
          -1.7689156532287598,
          6.784971714019775,
          -1.1949080228805542,
          3.5564019680023193,
          1.6775550842285156,
          1.7652571201324463,
          -2.920881986618042,
          1.418376088142395,
          5.574466705322266,
          4.814191818237305
         ],
         "xaxis": "x",
         "y": [
          4.802592754364014,
          -1.4032474756240845,
          5.468776702880859,
          3.8193414211273193,
          0.2693350911140442,
          3.577366828918457,
          0.04846931993961334,
          -3.8089725971221924,
          -3.8535828590393066,
          3.0430784225463867,
          1.1895955801010132,
          2.6540215015411377,
          -2.491865634918213,
          4.489686012268066,
          2.0450899600982666,
          -0.22165201604366302,
          3.0642147064208984,
          0.18067523837089539
         ],
         "yaxis": "y"
        },
        {
         "hovertemplate": "color=Syndactyla<br>TSNE1=%{x}<br>TSNE2=%{y}<extra></extra>",
         "legendgroup": "Syndactyla",
         "marker": {
          "color": "#3366CC",
          "symbol": "circle"
         },
         "mode": "markers",
         "name": "Syndactyla",
         "showlegend": true,
         "type": "scattergl",
         "x": [
          -1.1995328664779663,
          3.0834720134735107,
          3.3336968421936035,
          -5.259679794311523,
          1.2977186441421509,
          0.10243476182222366
         ],
         "xaxis": "x",
         "y": [
          2.8977479934692383,
          -0.44563156366348267,
          7.475719451904297,
          -4.762717247009277,
          -1.8272889852523804,
          6.528599262237549
         ],
         "yaxis": "y"
        },
        {
         "hovertemplate": "color=Tachornis<br>TSNE1=%{x}<br>TSNE2=%{y}<extra></extra>",
         "legendgroup": "Tachornis",
         "marker": {
          "color": "#DC3912",
          "symbol": "circle"
         },
         "mode": "markers",
         "name": "Tachornis",
         "showlegend": true,
         "type": "scattergl",
         "x": [
          -6.836736679077148,
          -0.7553495764732361,
          -4.718257904052734
         ],
         "xaxis": "x",
         "y": [
          -4.744513511657715,
          -4.983914852142334,
          3.2914512157440186
         ],
         "yaxis": "y"
        },
        {
         "hovertemplate": "color=Tachybaptus<br>TSNE1=%{x}<br>TSNE2=%{y}<extra></extra>",
         "legendgroup": "Tachybaptus",
         "marker": {
          "color": "#FF9900",
          "symbol": "circle"
         },
         "mode": "markers",
         "name": "Tachybaptus",
         "showlegend": true,
         "type": "scattergl",
         "x": [
          -2.2110989093780518,
          -6.752691745758057,
          -1.862311601638794,
          0.7499875426292419,
          5.621707439422607
         ],
         "xaxis": "x",
         "y": [
          8.518844604492188,
          -6.474244594573975,
          1.3408277034759521,
          -0.1975048929452896,
          4.092651844024658
         ],
         "yaxis": "y"
        },
        {
         "hovertemplate": "color=Tachycineta<br>TSNE1=%{x}<br>TSNE2=%{y}<extra></extra>",
         "legendgroup": "Tachycineta",
         "marker": {
          "color": "#109618",
          "symbol": "circle"
         },
         "mode": "markers",
         "name": "Tachycineta",
         "showlegend": true,
         "type": "scattergl",
         "x": [
          -1.1361106634140015,
          -1.2442253828048706,
          2.9473605155944824,
          -0.11258431524038315,
          1.5581474304199219
         ],
         "xaxis": "x",
         "y": [
          -5.259572505950928,
          -5.568237781524658,
          -3.6026811599731445,
          -8.322901725769043,
          -5.921433925628662
         ],
         "yaxis": "y"
        },
        {
         "hovertemplate": "color=Tachyphonus<br>TSNE1=%{x}<br>TSNE2=%{y}<extra></extra>",
         "legendgroup": "Tachyphonus",
         "marker": {
          "color": "#990099",
          "symbol": "circle"
         },
         "mode": "markers",
         "name": "Tachyphonus",
         "showlegend": true,
         "type": "scattergl",
         "x": [
          7.384357452392578,
          7.5489325523376465,
          -0.5184849500656128,
          6.971120834350586,
          -1.6401187181472778
         ],
         "xaxis": "x",
         "y": [
          5.525689601898193,
          1.8777570724487305,
          4.349285125732422,
          -0.8822786211967468,
          -8.504988670349121
         ],
         "yaxis": "y"
        },
        {
         "hovertemplate": "color=Tangara<br>TSNE1=%{x}<br>TSNE2=%{y}<extra></extra>",
         "legendgroup": "Tangara",
         "marker": {
          "color": "#0099C6",
          "symbol": "circle"
         },
         "mode": "markers",
         "name": "Tangara",
         "showlegend": true,
         "type": "scattergl",
         "x": [
          -6.806684970855713,
          1.0933889150619507,
          1.9016618728637695,
          -4.159972190856934,
          1.271068811416626,
          2.4922375679016113,
          0.44622331857681274,
          8.89368724822998,
          2.879136562347412,
          5.416933536529541,
          5.289292335510254,
          6.119639873504639,
          5.800023078918457,
          6.709612846374512,
          -5.482142925262451,
          -6.425319671630859,
          -4.061714172363281,
          2.5372064113616943,
          4.2953572273254395,
          0.8598909378051758,
          -1.5270562171936035,
          -5.456491470336914,
          -3.5206644535064697,
          2.158287763595581,
          -1.5930509567260742,
          -5.082533359527588,
          7.60188627243042,
          -1.1201001405715942,
          1.7357172966003418,
          -0.9292312264442444,
          -3.40991473197937,
          2.9037625789642334,
          2.0404937267303467,
          4.7738728523254395,
          3.670431613922119,
          1.0087642669677734
         ],
         "xaxis": "x",
         "y": [
          -6.25039005279541,
          -5.843498706817627,
          -5.483090877532959,
          -5.474881172180176,
          -3.7049875259399414,
          0.2744891941547394,
          -8.150334358215332,
          2.0785694122314453,
          -6.327955722808838,
          -2.969592332839966,
          0.4378087818622589,
          -1.0033005475997925,
          1.1272283792495728,
          1.066938877105713,
          1.4011375904083252,
          -2.226078748703003,
          0.1319463551044464,
          -3.9791579246520996,
          7.539119243621826,
          -0.33938974142074585,
          -4.9769792556762695,
          2.4348671436309814,
          -6.1870832443237305,
          4.908273220062256,
          -3.97316837310791,
          -3.488888740539551,
          0.3360264301300049,
          -3.6506247520446777,
          1.0463860034942627,
          2.453329086303711,
          -8.860302925109863,
          6.798283576965332,
          0.4568430483341217,
          3.517550230026245,
          2.667534351348877,
          -3.550511360168457
         ],
         "yaxis": "y"
        },
        {
         "hovertemplate": "color=Tapera<br>TSNE1=%{x}<br>TSNE2=%{y}<extra></extra>",
         "legendgroup": "Tapera",
         "marker": {
          "color": "#DD4477",
          "symbol": "circle"
         },
         "mode": "markers",
         "name": "Tapera",
         "showlegend": true,
         "type": "scattergl",
         "x": [
          3.2360825538635254,
          2.3883862495422363
         ],
         "xaxis": "x",
         "y": [
          5.835667610168457,
          2.0446696281433105
         ],
         "yaxis": "y"
        },
        {
         "hovertemplate": "color=Taphrospilus<br>TSNE1=%{x}<br>TSNE2=%{y}<extra></extra>",
         "legendgroup": "Taphrospilus",
         "marker": {
          "color": "#66AA00",
          "symbol": "circle"
         },
         "mode": "markers",
         "name": "Taphrospilus",
         "showlegend": true,
         "type": "scattergl",
         "x": [
          -3.272444009780884,
          -1.7792772054672241,
          -3.068201780319214
         ],
         "xaxis": "x",
         "y": [
          3.708425283432007,
          -3.224228858947754,
          -5.772855758666992
         ],
         "yaxis": "y"
        },
        {
         "hovertemplate": "color=Taraba<br>TSNE1=%{x}<br>TSNE2=%{y}<extra></extra>",
         "legendgroup": "Taraba",
         "marker": {
          "color": "#B82E2E",
          "symbol": "circle"
         },
         "mode": "markers",
         "name": "Taraba",
         "showlegend": true,
         "type": "scattergl",
         "x": [
          -3.6177687644958496,
          -0.5497416853904724,
          -3.688905954360962
         ],
         "xaxis": "x",
         "y": [
          6.218277454376221,
          6.281701564788818,
          6.055601596832275
         ],
         "yaxis": "y"
        },
        {
         "hovertemplate": "color=Terenotriccus<br>TSNE1=%{x}<br>TSNE2=%{y}<extra></extra>",
         "legendgroup": "Terenotriccus",
         "marker": {
          "color": "#316395",
          "symbol": "circle"
         },
         "mode": "markers",
         "name": "Terenotriccus",
         "showlegend": true,
         "type": "scattergl",
         "x": [
          4.060556411743164,
          1.7152345180511475,
          -6.510916709899902,
          -0.8128424286842346
         ],
         "xaxis": "x",
         "y": [
          3.954085111618042,
          3.437025308609009,
          -1.2649866342544556,
          1.7683430910110474
         ],
         "yaxis": "y"
        },
        {
         "hovertemplate": "color=Tersina<br>TSNE1=%{x}<br>TSNE2=%{y}<extra></extra>",
         "legendgroup": "Tersina",
         "marker": {
          "color": "#3366CC",
          "symbol": "circle"
         },
         "mode": "markers",
         "name": "Tersina",
         "showlegend": true,
         "type": "scattergl",
         "x": [
          -4.2903337478637695,
          -3.090081214904785,
          5.246363162994385,
          -1.9018930196762085
         ],
         "xaxis": "x",
         "y": [
          3.234973430633545,
          -2.289320468902588,
          2.421774387359619,
          -3.2496914863586426
         ],
         "yaxis": "y"
        },
        {
         "hovertemplate": "color=Thalurania<br>TSNE1=%{x}<br>TSNE2=%{y}<extra></extra>",
         "legendgroup": "Thalurania",
         "marker": {
          "color": "#DC3912",
          "symbol": "circle"
         },
         "mode": "markers",
         "name": "Thalurania",
         "showlegend": true,
         "type": "scattergl",
         "x": [
          8.755594253540039,
          2.159943103790283,
          6.597545146942139
         ],
         "xaxis": "x",
         "y": [
          0.7249355316162109,
          -5.098847389221191,
          1.4976180791854858
         ],
         "yaxis": "y"
        },
        {
         "hovertemplate": "color=Thamnistes<br>TSNE1=%{x}<br>TSNE2=%{y}<extra></extra>",
         "legendgroup": "Thamnistes",
         "marker": {
          "color": "#FF9900",
          "symbol": "circle"
         },
         "mode": "markers",
         "name": "Thamnistes",
         "showlegend": true,
         "type": "scattergl",
         "x": [
          -3.1043143272399902,
          -3.858024835586548,
          -5.434484481811523
         ],
         "xaxis": "x",
         "y": [
          -2.4008350372314453,
          3.171419858932495,
          1.7377885580062866
         ],
         "yaxis": "y"
        },
        {
         "hovertemplate": "color=Thamnomanes<br>TSNE1=%{x}<br>TSNE2=%{y}<extra></extra>",
         "legendgroup": "Thamnomanes",
         "marker": {
          "color": "#109618",
          "symbol": "circle"
         },
         "mode": "markers",
         "name": "Thamnomanes",
         "showlegend": true,
         "type": "scattergl",
         "x": [
          -2.0169601440429688,
          1.0762745141983032,
          -1.0104334354400635
         ],
         "xaxis": "x",
         "y": [
          -7.308745861053467,
          -2.9217326641082764,
          3.2942042350769043
         ],
         "yaxis": "y"
        },
        {
         "hovertemplate": "color=Thamnophilus<br>TSNE1=%{x}<br>TSNE2=%{y}<extra></extra>",
         "legendgroup": "Thamnophilus",
         "marker": {
          "color": "#990099",
          "symbol": "circle"
         },
         "mode": "markers",
         "name": "Thamnophilus",
         "showlegend": true,
         "type": "scattergl",
         "x": [
          -4.974411487579346,
          -2.6972436904907227,
          -3.484372854232788,
          -0.9420886635780334,
          7.07519006729126,
          -5.33184289932251,
          -4.974849700927734,
          4.265247821807861,
          2.401916265487671,
          -1.3417975902557373,
          -3.25455641746521,
          0.03573394939303398,
          4.858878135681152,
          3.0369386672973633,
          -2.4890623092651367,
          -0.9856287240982056,
          -3.764176368713379,
          -4.5288987159729,
          -2.5683913230895996,
          -3.0168488025665283,
          2.300800085067749,
          -3.8034276962280273,
          -3.091325283050537,
          -2.531071424484253,
          -0.28930017352104187,
          -0.8184332251548767,
          -3.5926315784454346
         ],
         "xaxis": "x",
         "y": [
          3.8025529384613037,
          4.1961669921875,
          0.7032276391983032,
          3.9584500789642334,
          0.3114511966705322,
          -5.308835029602051,
          3.7850215435028076,
          -1.8462101221084595,
          1.6789871454238892,
          -3.2060000896453857,
          2.448030948638916,
          2.8675262928009033,
          0.7045425772666931,
          0.8845581412315369,
          -8.627665519714355,
          6.791389465332031,
          -2.901038408279419,
          2.270716667175293,
          5.687939167022705,
          -0.1026022806763649,
          6.063055992126465,
          0.1793030947446823,
          3.4225962162017822,
          6.1984381675720215,
          6.924280166625977,
          3.333733081817627,
          6.179323673248291
         ],
         "yaxis": "y"
        },
        {
         "hovertemplate": "color=Theristicus<br>TSNE1=%{x}<br>TSNE2=%{y}<extra></extra>",
         "legendgroup": "Theristicus",
         "marker": {
          "color": "#0099C6",
          "symbol": "circle"
         },
         "mode": "markers",
         "name": "Theristicus",
         "showlegend": true,
         "type": "scattergl",
         "x": [
          2.90108323097229,
          4.260954856872559,
          1.0613181591033936,
          -3.7443113327026367,
          -1.7186402082443237,
          -3.9676167964935303
         ],
         "xaxis": "x",
         "y": [
          -4.534663677215576,
          -6.211644172668457,
          -8.068479537963867,
          3.174140691757202,
          -3.044377565383911,
          -5.565615653991699
         ],
         "yaxis": "y"
        },
        {
         "hovertemplate": "color=Thlypopsis<br>TSNE1=%{x}<br>TSNE2=%{y}<extra></extra>",
         "legendgroup": "Thlypopsis",
         "marker": {
          "color": "#DD4477",
          "symbol": "circle"
         },
         "mode": "markers",
         "name": "Thlypopsis",
         "showlegend": true,
         "type": "scattergl",
         "x": [
          -0.048219211399555206,
          -5.409676551818848,
          -2.8021504878997803,
          -5.342048645019531,
          0.8112979531288147
         ],
         "xaxis": "x",
         "y": [
          3.328613042831421,
          1.7801083326339722,
          3.5426621437072754,
          0.4649500846862793,
          3.1022958755493164
         ],
         "yaxis": "y"
        },
        {
         "hovertemplate": "color=Thraupis<br>TSNE1=%{x}<br>TSNE2=%{y}<extra></extra>",
         "legendgroup": "Thraupis",
         "marker": {
          "color": "#66AA00",
          "symbol": "circle"
         },
         "mode": "markers",
         "name": "Thraupis",
         "showlegend": true,
         "type": "scattergl",
         "x": [
          5.569815158843994,
          -5.019800662994385,
          0.9669108390808105,
          -4.0101318359375,
          0.8490714430809021,
          -4.586551189422607,
          -5.326294422149658
         ],
         "xaxis": "x",
         "y": [
          1.5272690057754517,
          2.7475509643554688,
          3.997340679168701,
          5.48859167098999,
          4.319559097290039,
          4.406389236450195,
          2.7169666290283203
         ],
         "yaxis": "y"
        },
        {
         "hovertemplate": "color=Threnetes<br>TSNE1=%{x}<br>TSNE2=%{y}<extra></extra>",
         "legendgroup": "Threnetes",
         "marker": {
          "color": "#B82E2E",
          "symbol": "circle"
         },
         "mode": "markers",
         "name": "Threnetes",
         "showlegend": true,
         "type": "scattergl",
         "x": [
          7.917677879333496,
          3.0233325958251953,
          4.165814399719238,
          2.3056747913360596
         ],
         "xaxis": "x",
         "y": [
          2.31174898147583,
          4.028357028961182,
          4.040256500244141,
          2.2660367488861084
         ],
         "yaxis": "y"
        },
        {
         "hovertemplate": "color=Thripadectes<br>TSNE1=%{x}<br>TSNE2=%{y}<extra></extra>",
         "legendgroup": "Thripadectes",
         "marker": {
          "color": "#316395",
          "symbol": "circle"
         },
         "mode": "markers",
         "name": "Thripadectes",
         "showlegend": true,
         "type": "scattergl",
         "x": [
          -6.276900291442871,
          7.056079864501953,
          7.365698337554932,
          -1.4075024127960205,
          -4.198696613311768,
          2.5641071796417236,
          0.23411034047603607,
          -1.947803020477295
         ],
         "xaxis": "x",
         "y": [
          -0.4898262321949005,
          1.4959068298339844,
          0.6393770575523376,
          0.48034775257110596,
          -0.12864148616790771,
          -1.0885266065597534,
          2.7157464027404785,
          4.267289161682129
         ],
         "yaxis": "y"
        },
        {
         "hovertemplate": "color=Thripophaga<br>TSNE1=%{x}<br>TSNE2=%{y}<extra></extra>",
         "legendgroup": "Thripophaga",
         "marker": {
          "color": "#3366CC",
          "symbol": "circle"
         },
         "mode": "markers",
         "name": "Thripophaga",
         "showlegend": true,
         "type": "scattergl",
         "x": [
          -2.6523754596710205,
          -1.2718452215194702
         ],
         "xaxis": "x",
         "y": [
          7.5478668212890625,
          4.737730979919434
         ],
         "yaxis": "y"
        },
        {
         "hovertemplate": "color=Tigrisoma<br>TSNE1=%{x}<br>TSNE2=%{y}<extra></extra>",
         "legendgroup": "Tigrisoma",
         "marker": {
          "color": "#DC3912",
          "symbol": "circle"
         },
         "mode": "markers",
         "name": "Tigrisoma",
         "showlegend": true,
         "type": "scattergl",
         "x": [
          -6.43196439743042,
          5.623067378997803,
          -3.4128193855285645,
          -6.075482368469238
         ],
         "xaxis": "x",
         "y": [
          -6.991085052490234,
          2.7231521606445312,
          6.529175281524658,
          1.5104870796203613
         ],
         "yaxis": "y"
        },
        {
         "hovertemplate": "color=Tinamus<br>TSNE1=%{x}<br>TSNE2=%{y}<extra></extra>",
         "legendgroup": "Tinamus",
         "marker": {
          "color": "#FF9900",
          "symbol": "circle"
         },
         "mode": "markers",
         "name": "Tinamus",
         "showlegend": true,
         "type": "scattergl",
         "x": [
          0.79746413230896,
          0.4665759205818176,
          -3.3876113891601562,
          0.31772929430007935,
          -3.439530849456787,
          3.774491786956787,
          -2.4264543056488037,
          2.809145450592041,
          -2.0433404445648193,
          -4.074948310852051,
          4.865966320037842,
          -2.642375946044922,
          -0.7699230313301086
         ],
         "xaxis": "x",
         "y": [
          -2.7857348918914795,
          -7.29189395904541,
          0.47722485661506653,
          6.857302665710449,
          5.823915958404541,
          7.69194221496582,
          3.0791447162628174,
          5.92282247543335,
          3.989784002304077,
          3.485039234161377,
          8.524003982543945,
          -8.923141479492188,
          8.723332405090332
         ],
         "yaxis": "y"
        },
        {
         "hovertemplate": "color=Tityra<br>TSNE1=%{x}<br>TSNE2=%{y}<extra></extra>",
         "legendgroup": "Tityra",
         "marker": {
          "color": "#109618",
          "symbol": "circle"
         },
         "mode": "markers",
         "name": "Tityra",
         "showlegend": true,
         "type": "scattergl",
         "x": [
          -4.009329795837402,
          -4.194072723388672,
          -7.1786322593688965,
          -0.2572290003299713,
          -2.376617193222046,
          1.7707316875457764,
          1.1873903274536133,
          -3.258702039718628,
          -3.9376964569091797,
          -0.8255131244659424,
          -4.175775051116943
         ],
         "xaxis": "x",
         "y": [
          0.14601999521255493,
          -5.814742565155029,
          -5.444230079650879,
          1.9443978071212769,
          -6.689314365386963,
          5.241631031036377,
          -7.977762222290039,
          -8.715027809143066,
          -0.3137463629245758,
          4.031908988952637,
          2.776153802871704
         ],
         "yaxis": "y"
        },
        {
         "hovertemplate": "color=Todirostrum<br>TSNE1=%{x}<br>TSNE2=%{y}<extra></extra>",
         "legendgroup": "Todirostrum",
         "marker": {
          "color": "#990099",
          "symbol": "circle"
         },
         "mode": "markers",
         "name": "Todirostrum",
         "showlegend": true,
         "type": "scattergl",
         "x": [
          -1.7615457773208618,
          2.811183452606201,
          0.12777866423130035,
          -1.9755958318710327,
          7.802611351013184,
          8.319721221923828,
          -2.548089027404785,
          -0.08376292139291763,
          -3.742053270339966,
          -2.914801836013794,
          6.388852119445801,
          -0.17373478412628174
         ],
         "xaxis": "x",
         "y": [
          1.2469704151153564,
          6.784079074859619,
          -0.7571471929550171,
          -4.574909210205078,
          2.4508657455444336,
          1.6793546676635742,
          -1.3771578073501587,
          0.7534206509590149,
          -7.3756561279296875,
          -5.255277156829834,
          1.615057349205017,
          -7.887096405029297
         ],
         "yaxis": "y"
        },
        {
         "hovertemplate": "color=Tolmomyias<br>TSNE1=%{x}<br>TSNE2=%{y}<extra></extra>",
         "legendgroup": "Tolmomyias",
         "marker": {
          "color": "#0099C6",
          "symbol": "circle"
         },
         "mode": "markers",
         "name": "Tolmomyias",
         "showlegend": true,
         "type": "scattergl",
         "x": [
          3.3455119132995605,
          0.40686485171318054,
          4.340606212615967,
          -6.661627769470215,
          4.222595691680908,
          -6.936152935028076,
          2.4387733936309814,
          2.6316590309143066,
          0.6953467130661011,
          -5.492622375488281,
          4.954132556915283,
          -1.6925216913223267,
          4.06837797164917,
          1.7071772813796997
         ],
         "xaxis": "x",
         "y": [
          4.215653419494629,
          -2.545987844467163,
          5.207108497619629,
          -5.24904727935791,
          3.167070150375366,
          -4.399299621582031,
          0.1956108957529068,
          -4.157105445861816,
          -4.092545509338379,
          -4.221783638000488,
          4.269832611083984,
          -8.433097839355469,
          7.997690200805664,
          -0.030153056606650352
         ],
         "yaxis": "y"
        },
        {
         "hovertemplate": "color=Touit<br>TSNE1=%{x}<br>TSNE2=%{y}<extra></extra>",
         "legendgroup": "Touit",
         "marker": {
          "color": "#DD4477",
          "symbol": "circle"
         },
         "mode": "markers",
         "name": "Touit",
         "showlegend": true,
         "type": "scattergl",
         "x": [
          4.511746406555176,
          -3.819861650466919,
          0.8395391702651978
         ],
         "xaxis": "x",
         "y": [
          -1.819610834121704,
          -1.7109097242355347,
          4.614135265350342
         ],
         "yaxis": "y"
        },
        {
         "hovertemplate": "color=Trichothraupis<br>TSNE1=%{x}<br>TSNE2=%{y}<extra></extra>",
         "legendgroup": "Trichothraupis",
         "marker": {
          "color": "#66AA00",
          "symbol": "circle"
         },
         "mode": "markers",
         "name": "Trichothraupis",
         "showlegend": true,
         "type": "scattergl",
         "x": [
          3.626826763153076,
          2.9361307621002197,
          4.591258525848389
         ],
         "xaxis": "x",
         "y": [
          8.643067359924316,
          -2.174755573272705,
          -3.394771099090576
         ],
         "yaxis": "y"
        },
        {
         "hovertemplate": "color=Tringa<br>TSNE1=%{x}<br>TSNE2=%{y}<extra></extra>",
         "legendgroup": "Tringa",
         "marker": {
          "color": "#B82E2E",
          "symbol": "circle"
         },
         "mode": "markers",
         "name": "Tringa",
         "showlegend": true,
         "type": "scattergl",
         "x": [
          6.46598482131958,
          -4.441058158874512,
          1.8380552530288696,
          -0.10947004705667496,
          4.131382465362549,
          1.6917322874069214,
          -3.525049924850464,
          -6.626153945922852,
          -2.3062238693237305,
          -3.954023838043213,
          -5.572551727294922,
          -1.8038021326065063,
          4.1040191650390625
         ],
         "xaxis": "x",
         "y": [
          -4.101627826690674,
          -7.876993179321289,
          -4.570420742034912,
          -1.277482509613037,
          -4.519828796386719,
          -0.43863001465797424,
          -6.151857852935791,
          -6.221192836761475,
          -3.681838274002075,
          -0.15404614806175232,
          -7.443418025970459,
          -2.4361798763275146,
          3.5264344215393066
         ],
         "yaxis": "y"
        },
        {
         "hovertemplate": "color=Troglodytes<br>TSNE1=%{x}<br>TSNE2=%{y}<extra></extra>",
         "legendgroup": "Troglodytes",
         "marker": {
          "color": "#316395",
          "symbol": "circle"
         },
         "mode": "markers",
         "name": "Troglodytes",
         "showlegend": true,
         "type": "scattergl",
         "x": [
          -1.3364652395248413,
          -1.8778291940689087,
          6.29503870010376,
          8.85891056060791
         ],
         "xaxis": "x",
         "y": [
          1.8924782276153564,
          1.4179500341415405,
          -0.4399159848690033,
          2.047621250152588
         ],
         "yaxis": "y"
        },
        {
         "hovertemplate": "color=Trogon<br>TSNE1=%{x}<br>TSNE2=%{y}<extra></extra>",
         "legendgroup": "Trogon",
         "marker": {
          "color": "#3366CC",
          "symbol": "circle"
         },
         "mode": "markers",
         "name": "Trogon",
         "showlegend": true,
         "type": "scattergl",
         "x": [
          -6.647302150726318,
          -2.3985042572021484,
          2.241713523864746,
          -4.1826171875,
          -1.201339840888977,
          -2.2132787704467773,
          -1.520587682723999,
          -2.3959908485412598,
          -1.5659157037734985,
          2.6889989376068115,
          8.198841094970703,
          -3.2092854976654053,
          8.394947052001953,
          -1.422876000404358,
          -1.0046155452728271,
          -1.7971056699752808,
          -0.8820542693138123,
          6.921485900878906,
          -3.1285414695739746
         ],
         "xaxis": "x",
         "y": [
          -1.1500351428985596,
          3.63718581199646,
          7.634187698364258,
          -2.433424472808838,
          5.765790939331055,
          6.01135778427124,
          6.102802753448486,
          -2.40214467048645,
          7.377926826477051,
          -1.6107877492904663,
          1.7464724779129028,
          6.100913047790527,
          5.176853179931641,
          6.6149444580078125,
          4.59640645980835,
          6.330989360809326,
          4.092464923858643,
          -1.1759006977081299,
          6.853700637817383
         ],
         "yaxis": "y"
        },
        {
         "hovertemplate": "color=Turdus<br>TSNE1=%{x}<br>TSNE2=%{y}<extra></extra>",
         "legendgroup": "Turdus",
         "marker": {
          "color": "#DC3912",
          "symbol": "circle"
         },
         "mode": "markers",
         "name": "Turdus",
         "showlegend": true,
         "type": "scattergl",
         "x": [
          1.4175623655319214,
          7.313178062438965,
          -2.4748523235321045,
          -1.0760868787765503,
          5.129816055297852,
          -7.351734638214111,
          -5.386324882507324,
          -3.146075963973999,
          4.013635158538818,
          5.5555644035339355,
          4.878647327423096,
          -6.308760166168213,
          4.449106693267822,
          3.905738353729248,
          2.1765365600585938,
          4.526435375213623,
          -2.4559848308563232,
          -5.0274810791015625,
          3.803722858428955,
          3.3854281902313232,
          -4.294747352600098,
          -0.873894214630127,
          0.5698626637458801,
          -2.738983154296875,
          1.3774163722991943
         ],
         "xaxis": "x",
         "y": [
          5.279575347900391,
          2.8959338665008545,
          8.508002281188965,
          9.417236328125,
          5.093815803527832,
          -1.6324121952056885,
          3.968337297439575,
          6.808447360992432,
          9.32827091217041,
          6.3537468910217285,
          8.5667085647583,
          -2.0573017597198486,
          8.484177589416504,
          6.100421905517578,
          3.6781184673309326,
          5.540066719055176,
          0.16809962689876556,
          -2.76723051071167,
          2.4648163318634033,
          -5.299983978271484,
          -5.961134433746338,
          3.258984327316284,
          -3.6052041053771973,
          -2.1440281867980957,
          -8.272671699523926
         ],
         "yaxis": "y"
        },
        {
         "hovertemplate": "color=Tyranneutes<br>TSNE1=%{x}<br>TSNE2=%{y}<extra></extra>",
         "legendgroup": "Tyranneutes",
         "marker": {
          "color": "#FF9900",
          "symbol": "circle"
         },
         "mode": "markers",
         "name": "Tyranneutes",
         "showlegend": true,
         "type": "scattergl",
         "x": [
          0.3848578631877899,
          -4.3832526206970215
         ],
         "xaxis": "x",
         "y": [
          -4.3923444747924805,
          3.6276214122772217
         ],
         "yaxis": "y"
        },
        {
         "hovertemplate": "color=Tyrannopsis<br>TSNE1=%{x}<br>TSNE2=%{y}<extra></extra>",
         "legendgroup": "Tyrannopsis",
         "marker": {
          "color": "#109618",
          "symbol": "circle"
         },
         "mode": "markers",
         "name": "Tyrannopsis",
         "showlegend": true,
         "type": "scattergl",
         "x": [
          6.2751946449279785,
          1.1043102741241455
         ],
         "xaxis": "x",
         "y": [
          5.18960428237915,
          5.9497199058532715
         ],
         "yaxis": "y"
        },
        {
         "hovertemplate": "color=Tyrannulus<br>TSNE1=%{x}<br>TSNE2=%{y}<extra></extra>",
         "legendgroup": "Tyrannulus",
         "marker": {
          "color": "#990099",
          "symbol": "circle"
         },
         "mode": "markers",
         "name": "Tyrannulus",
         "showlegend": true,
         "type": "scattergl",
         "x": [
          1.3598321676254272,
          -6.744498252868652,
          -5.0658278465271,
          -5.13590145111084
         ],
         "xaxis": "x",
         "y": [
          -6.278221607208252,
          -5.7125091552734375,
          -8.495141983032227,
          4.0635504722595215
         ],
         "yaxis": "y"
        },
        {
         "hovertemplate": "color=Tyrannus<br>TSNE1=%{x}<br>TSNE2=%{y}<extra></extra>",
         "legendgroup": "Tyrannus",
         "marker": {
          "color": "#0099C6",
          "symbol": "circle"
         },
         "mode": "markers",
         "name": "Tyrannus",
         "showlegend": true,
         "type": "scattergl",
         "x": [
          -6.087107181549072,
          5.069247722625732,
          -2.5864157676696777,
          2.5233986377716064,
          0.8793065547943115,
          4.179412364959717,
          -1.511227011680603,
          4.752541542053223,
          0.13494740426540375
         ],
         "xaxis": "x",
         "y": [
          -2.847052574157715,
          -2.930236339569092,
          -7.931166172027588,
          0.5003552436828613,
          -8.7618408203125,
          -5.042344093322754,
          3.8250839710235596,
          7.76542329788208,
          0.1576475352048874
         ],
         "yaxis": "y"
        },
        {
         "hovertemplate": "color=Tyto<br>TSNE1=%{x}<br>TSNE2=%{y}<extra></extra>",
         "legendgroup": "Tyto",
         "marker": {
          "color": "#DD4477",
          "symbol": "circle"
         },
         "mode": "markers",
         "name": "Tyto",
         "showlegend": true,
         "type": "scattergl",
         "x": [
          -6.224153995513916,
          1.3960968255996704,
          -6.007321834564209
         ],
         "xaxis": "x",
         "y": [
          -4.247927188873291,
          0.12050023674964905,
          -3.68337082862854
         ],
         "yaxis": "y"
        },
        {
         "hovertemplate": "color=Uropsalis<br>TSNE1=%{x}<br>TSNE2=%{y}<extra></extra>",
         "legendgroup": "Uropsalis",
         "marker": {
          "color": "#66AA00",
          "symbol": "circle"
         },
         "mode": "markers",
         "name": "Uropsalis",
         "showlegend": true,
         "type": "scattergl",
         "x": [
          -1.0849355459213257,
          2.2664670944213867,
          -3.5090832710266113,
          4.372759819030762
         ],
         "xaxis": "x",
         "y": [
          7.799980640411377,
          2.143606662750244,
          5.126521587371826,
          6.634852409362793
         ],
         "yaxis": "y"
        },
        {
         "hovertemplate": "color=Vanellus<br>TSNE1=%{x}<br>TSNE2=%{y}<extra></extra>",
         "legendgroup": "Vanellus",
         "marker": {
          "color": "#B82E2E",
          "symbol": "circle"
         },
         "mode": "markers",
         "name": "Vanellus",
         "showlegend": true,
         "type": "scattergl",
         "x": [
          5.922863006591797,
          4.846980094909668,
          4.40873908996582
         ],
         "xaxis": "x",
         "y": [
          -4.78482723236084,
          -4.48966121673584,
          -6.185973167419434
         ],
         "yaxis": "y"
        },
        {
         "hovertemplate": "color=Veniliornis<br>TSNE1=%{x}<br>TSNE2=%{y}<extra></extra>",
         "legendgroup": "Veniliornis",
         "marker": {
          "color": "#316395",
          "symbol": "circle"
         },
         "mode": "markers",
         "name": "Veniliornis",
         "showlegend": true,
         "type": "scattergl",
         "x": [
          -1.9919911623001099,
          -0.31833508610725403,
          5.918854236602783,
          -6.527490615844727,
          -3.3469369411468506
         ],
         "xaxis": "x",
         "y": [
          -3.089191198348999,
          3.0594770908355713,
          5.30520486831665,
          -1.9595708847045898,
          -6.978549480438232
         ],
         "yaxis": "y"
        },
        {
         "hovertemplate": "color=Vireo<br>TSNE1=%{x}<br>TSNE2=%{y}<extra></extra>",
         "legendgroup": "Vireo",
         "marker": {
          "color": "#3366CC",
          "symbol": "circle"
         },
         "mode": "markers",
         "name": "Vireo",
         "showlegend": true,
         "type": "scattergl",
         "x": [
          6.188121318817139,
          8.58238410949707,
          -2.672616958618164,
          1.736436128616333,
          5.299089431762695,
          -1.8428410291671753,
          -4.659438610076904,
          -5.53741455078125,
          -4.536686420440674,
          7.010134220123291,
          8.461466789245605,
          8.323972702026367,
          -4.94537353515625
         ],
         "xaxis": "x",
         "y": [
          -0.6377646327018738,
          5.248366355895996,
          8.367486953735352,
          -4.208227634429932,
          -2.3020567893981934,
          -1.6134556531906128,
          0.5400446653366089,
          1.4163672924041748,
          0.666929304599762,
          3.611086368560791,
          5.934203624725342,
          1.7428338527679443,
          -5.514090538024902
         ],
         "yaxis": "y"
        },
        {
         "hovertemplate": "color=Vireolanius<br>TSNE1=%{x}<br>TSNE2=%{y}<extra></extra>",
         "legendgroup": "Vireolanius",
         "marker": {
          "color": "#DC3912",
          "symbol": "circle"
         },
         "mode": "markers",
         "name": "Vireolanius",
         "showlegend": true,
         "type": "scattergl",
         "x": [
          1.882727861404419,
          4.764376640319824,
          3.7873387336730957,
          4.546783924102783
         ],
         "xaxis": "x",
         "y": [
          -4.4671454429626465,
          5.3356451988220215,
          -1.6969056129455566,
          -1.3378595113754272
         ],
         "yaxis": "y"
        },
        {
         "hovertemplate": "color=Volatinia<br>TSNE1=%{x}<br>TSNE2=%{y}<extra></extra>",
         "legendgroup": "Volatinia",
         "marker": {
          "color": "#FF9900",
          "symbol": "circle"
         },
         "mode": "markers",
         "name": "Volatinia",
         "showlegend": true,
         "type": "scattergl",
         "x": [
          -0.9714542627334595
         ],
         "xaxis": "x",
         "y": [
          0.4433352053165436
         ],
         "yaxis": "y"
        },
        {
         "hovertemplate": "color=Willisornis<br>TSNE1=%{x}<br>TSNE2=%{y}<extra></extra>",
         "legendgroup": "Willisornis",
         "marker": {
          "color": "#109618",
          "symbol": "circle"
         },
         "mode": "markers",
         "name": "Willisornis",
         "showlegend": true,
         "type": "scattergl",
         "x": [
          8.055581092834473,
          8.360613822937012
         ],
         "xaxis": "x",
         "y": [
          1.5741605758666992,
          1.6916550397872925
         ],
         "yaxis": "y"
        },
        {
         "hovertemplate": "color=Xenopipo<br>TSNE1=%{x}<br>TSNE2=%{y}<extra></extra>",
         "legendgroup": "Xenopipo",
         "marker": {
          "color": "#990099",
          "symbol": "circle"
         },
         "mode": "markers",
         "name": "Xenopipo",
         "showlegend": true,
         "type": "scattergl",
         "x": [
          -4.255897521972656,
          -4.950496673583984,
          -6.8236846923828125
         ],
         "xaxis": "x",
         "y": [
          0.3502037227153778,
          4.314059257507324,
          -1.934775710105896
         ],
         "yaxis": "y"
        },
        {
         "hovertemplate": "color=Xenops<br>TSNE1=%{x}<br>TSNE2=%{y}<extra></extra>",
         "legendgroup": "Xenops",
         "marker": {
          "color": "#0099C6",
          "symbol": "circle"
         },
         "mode": "markers",
         "name": "Xenops",
         "showlegend": true,
         "type": "scattergl",
         "x": [
          2.1475534439086914,
          0.65540611743927,
          -6.161794662475586,
          5.539141654968262,
          -2.952171802520752,
          -4.882059574127197,
          -2.649554967880249,
          -7.1666741371154785
         ],
         "xaxis": "x",
         "y": [
          -4.074620246887207,
          -4.703159332275391,
          0.8334452509880066,
          4.113022804260254,
          0.08089841902256012,
          3.2542574405670166,
          8.364744186401367,
          -1.1465805768966675
         ],
         "yaxis": "y"
        },
        {
         "hovertemplate": "color=Xenopsaris<br>TSNE1=%{x}<br>TSNE2=%{y}<extra></extra>",
         "legendgroup": "Xenopsaris",
         "marker": {
          "color": "#DD4477",
          "symbol": "circle"
         },
         "mode": "markers",
         "name": "Xenopsaris",
         "showlegend": true,
         "type": "scattergl",
         "x": [
          -2.4066121578216553,
          -5.576569080352783
         ],
         "xaxis": "x",
         "y": [
          8.525216102600098,
          -5.297856330871582
         ],
         "yaxis": "y"
        },
        {
         "hovertemplate": "color=Xiphocolaptes<br>TSNE1=%{x}<br>TSNE2=%{y}<extra></extra>",
         "legendgroup": "Xiphocolaptes",
         "marker": {
          "color": "#66AA00",
          "symbol": "circle"
         },
         "mode": "markers",
         "name": "Xiphocolaptes",
         "showlegend": true,
         "type": "scattergl",
         "x": [
          7.077224254608154,
          7.048496246337891,
          7.626380920410156,
          8.214447021484375,
          7.516881942749023
         ],
         "xaxis": "x",
         "y": [
          0.20818963646888733,
          0.1953405737876892,
          0.95677250623703,
          1.587975025177002,
          0.8198811411857605
         ],
         "yaxis": "y"
        },
        {
         "hovertemplate": "color=Xiphorhynchus<br>TSNE1=%{x}<br>TSNE2=%{y}<extra></extra>",
         "legendgroup": "Xiphorhynchus",
         "marker": {
          "color": "#B82E2E",
          "symbol": "circle"
         },
         "mode": "markers",
         "name": "Xiphorhynchus",
         "showlegend": true,
         "type": "scattergl",
         "x": [
          -4.926095008850098,
          8.991989135742188,
          -4.533181667327881,
          -1.9591991901397705,
          6.1134467124938965,
          -1.8907513618469238,
          -5.971867084503174,
          -0.582223653793335,
          -6.4213361740112305,
          6.837921619415283,
          -4.760709762573242,
          -4.545577049255371,
          1.0457348823547363,
          -4.04472541809082,
          -2.403409481048584,
          -2.2735960483551025
         ],
         "xaxis": "x",
         "y": [
          -6.1467671394348145,
          2.153944730758667,
          3.901812791824341,
          5.229969501495361,
          4.623012542724609,
          5.968750953674316,
          -1.2306809425354004,
          6.289852142333984,
          -2.3901541233062744,
          6.0184783935546875,
          -8.125889778137207,
          3.441373348236084,
          8.526305198669434,
          -2.3844122886657715,
          -2.3959057331085205,
          -8.221126556396484
         ],
         "yaxis": "y"
        },
        {
         "hovertemplate": "color=Xolmis<br>TSNE1=%{x}<br>TSNE2=%{y}<extra></extra>",
         "legendgroup": "Xolmis",
         "marker": {
          "color": "#316395",
          "symbol": "circle"
         },
         "mode": "markers",
         "name": "Xolmis",
         "showlegend": true,
         "type": "scattergl",
         "x": [
          2.0730130672454834,
          -2.5741050243377686
         ],
         "xaxis": "x",
         "y": [
          5.286149978637695,
          -2.350698232650757
         ],
         "yaxis": "y"
        },
        {
         "hovertemplate": "color=Zebrilus<br>TSNE1=%{x}<br>TSNE2=%{y}<extra></extra>",
         "legendgroup": "Zebrilus",
         "marker": {
          "color": "#3366CC",
          "symbol": "circle"
         },
         "mode": "markers",
         "name": "Zebrilus",
         "showlegend": true,
         "type": "scattergl",
         "x": [
          -1.5601656436920166,
          3.230379581451416,
          -0.034471675753593445
         ],
         "xaxis": "x",
         "y": [
          0.9612830877304077,
          6.543701648712158,
          8.899035453796387
         ],
         "yaxis": "y"
        },
        {
         "hovertemplate": "color=Zenaida<br>TSNE1=%{x}<br>TSNE2=%{y}<extra></extra>",
         "legendgroup": "Zenaida",
         "marker": {
          "color": "#DC3912",
          "symbol": "circle"
         },
         "mode": "markers",
         "name": "Zenaida",
         "showlegend": true,
         "type": "scattergl",
         "x": [
          4.217071056365967,
          4.138680458068848,
          3.5332818031311035
         ],
         "xaxis": "x",
         "y": [
          4.1117167472839355,
          1.8838450908660889,
          -0.01303694024682045
         ],
         "yaxis": "y"
        },
        {
         "hovertemplate": "color=Zentrygon<br>TSNE1=%{x}<br>TSNE2=%{y}<extra></extra>",
         "legendgroup": "Zentrygon",
         "marker": {
          "color": "#FF9900",
          "symbol": "circle"
         },
         "mode": "markers",
         "name": "Zentrygon",
         "showlegend": true,
         "type": "scattergl",
         "x": [
          3.6489875316619873,
          2.1096436977386475
         ],
         "xaxis": "x",
         "y": [
          1.9635175466537476,
          1.228990912437439
         ],
         "yaxis": "y"
        },
        {
         "hovertemplate": "color=Zimmerius<br>TSNE1=%{x}<br>TSNE2=%{y}<extra></extra>",
         "legendgroup": "Zimmerius",
         "marker": {
          "color": "#109618",
          "symbol": "circle"
         },
         "mode": "markers",
         "name": "Zimmerius",
         "showlegend": true,
         "type": "scattergl",
         "x": [
          -4.102754592895508,
          9.531486511230469,
          6.401124477386475,
          -4.137026786804199,
          2.1855318546295166,
          -4.0009026527404785,
          4.926737308502197
         ],
         "xaxis": "x",
         "y": [
          0.4540329575538635,
          4.512465000152588,
          -0.11430896818637848,
          -0.25854572653770447,
          -8.220988273620605,
          -5.388359069824219,
          -2.585035562515259
         ],
         "yaxis": "y"
        },
        {
         "hovertemplate": "color=Zonotrichia<br>TSNE1=%{x}<br>TSNE2=%{y}<extra></extra>",
         "legendgroup": "Zonotrichia",
         "marker": {
          "color": "#990099",
          "symbol": "circle"
         },
         "mode": "markers",
         "name": "Zonotrichia",
         "showlegend": true,
         "type": "scattergl",
         "x": [
          3.5694124698638916,
          -4.7101287841796875,
          -2.11055326461792
         ],
         "xaxis": "x",
         "y": [
          5.90485143661499,
          0.48087483644485474,
          5.988949298858643
         ],
         "yaxis": "y"
        }
       ],
       "layout": {
        "legend": {
         "title": {
          "text": "color"
         },
         "tracegroupgap": 0
        },
        "margin": {
         "t": 60
        },
        "template": {
         "data": {
          "bar": [
           {
            "error_x": {
             "color": "#2a3f5f"
            },
            "error_y": {
             "color": "#2a3f5f"
            },
            "marker": {
             "line": {
              "color": "#E5ECF6",
              "width": 0.5
             },
             "pattern": {
              "fillmode": "overlay",
              "size": 10,
              "solidity": 0.2
             }
            },
            "type": "bar"
           }
          ],
          "barpolar": [
           {
            "marker": {
             "line": {
              "color": "#E5ECF6",
              "width": 0.5
             },
             "pattern": {
              "fillmode": "overlay",
              "size": 10,
              "solidity": 0.2
             }
            },
            "type": "barpolar"
           }
          ],
          "carpet": [
           {
            "aaxis": {
             "endlinecolor": "#2a3f5f",
             "gridcolor": "white",
             "linecolor": "white",
             "minorgridcolor": "white",
             "startlinecolor": "#2a3f5f"
            },
            "baxis": {
             "endlinecolor": "#2a3f5f",
             "gridcolor": "white",
             "linecolor": "white",
             "minorgridcolor": "white",
             "startlinecolor": "#2a3f5f"
            },
            "type": "carpet"
           }
          ],
          "choropleth": [
           {
            "colorbar": {
             "outlinewidth": 0,
             "ticks": ""
            },
            "type": "choropleth"
           }
          ],
          "contour": [
           {
            "colorbar": {
             "outlinewidth": 0,
             "ticks": ""
            },
            "colorscale": [
             [
              0,
              "#0d0887"
             ],
             [
              0.1111111111111111,
              "#46039f"
             ],
             [
              0.2222222222222222,
              "#7201a8"
             ],
             [
              0.3333333333333333,
              "#9c179e"
             ],
             [
              0.4444444444444444,
              "#bd3786"
             ],
             [
              0.5555555555555556,
              "#d8576b"
             ],
             [
              0.6666666666666666,
              "#ed7953"
             ],
             [
              0.7777777777777778,
              "#fb9f3a"
             ],
             [
              0.8888888888888888,
              "#fdca26"
             ],
             [
              1,
              "#f0f921"
             ]
            ],
            "type": "contour"
           }
          ],
          "contourcarpet": [
           {
            "colorbar": {
             "outlinewidth": 0,
             "ticks": ""
            },
            "type": "contourcarpet"
           }
          ],
          "heatmap": [
           {
            "colorbar": {
             "outlinewidth": 0,
             "ticks": ""
            },
            "colorscale": [
             [
              0,
              "#0d0887"
             ],
             [
              0.1111111111111111,
              "#46039f"
             ],
             [
              0.2222222222222222,
              "#7201a8"
             ],
             [
              0.3333333333333333,
              "#9c179e"
             ],
             [
              0.4444444444444444,
              "#bd3786"
             ],
             [
              0.5555555555555556,
              "#d8576b"
             ],
             [
              0.6666666666666666,
              "#ed7953"
             ],
             [
              0.7777777777777778,
              "#fb9f3a"
             ],
             [
              0.8888888888888888,
              "#fdca26"
             ],
             [
              1,
              "#f0f921"
             ]
            ],
            "type": "heatmap"
           }
          ],
          "heatmapgl": [
           {
            "colorbar": {
             "outlinewidth": 0,
             "ticks": ""
            },
            "colorscale": [
             [
              0,
              "#0d0887"
             ],
             [
              0.1111111111111111,
              "#46039f"
             ],
             [
              0.2222222222222222,
              "#7201a8"
             ],
             [
              0.3333333333333333,
              "#9c179e"
             ],
             [
              0.4444444444444444,
              "#bd3786"
             ],
             [
              0.5555555555555556,
              "#d8576b"
             ],
             [
              0.6666666666666666,
              "#ed7953"
             ],
             [
              0.7777777777777778,
              "#fb9f3a"
             ],
             [
              0.8888888888888888,
              "#fdca26"
             ],
             [
              1,
              "#f0f921"
             ]
            ],
            "type": "heatmapgl"
           }
          ],
          "histogram": [
           {
            "marker": {
             "pattern": {
              "fillmode": "overlay",
              "size": 10,
              "solidity": 0.2
             }
            },
            "type": "histogram"
           }
          ],
          "histogram2d": [
           {
            "colorbar": {
             "outlinewidth": 0,
             "ticks": ""
            },
            "colorscale": [
             [
              0,
              "#0d0887"
             ],
             [
              0.1111111111111111,
              "#46039f"
             ],
             [
              0.2222222222222222,
              "#7201a8"
             ],
             [
              0.3333333333333333,
              "#9c179e"
             ],
             [
              0.4444444444444444,
              "#bd3786"
             ],
             [
              0.5555555555555556,
              "#d8576b"
             ],
             [
              0.6666666666666666,
              "#ed7953"
             ],
             [
              0.7777777777777778,
              "#fb9f3a"
             ],
             [
              0.8888888888888888,
              "#fdca26"
             ],
             [
              1,
              "#f0f921"
             ]
            ],
            "type": "histogram2d"
           }
          ],
          "histogram2dcontour": [
           {
            "colorbar": {
             "outlinewidth": 0,
             "ticks": ""
            },
            "colorscale": [
             [
              0,
              "#0d0887"
             ],
             [
              0.1111111111111111,
              "#46039f"
             ],
             [
              0.2222222222222222,
              "#7201a8"
             ],
             [
              0.3333333333333333,
              "#9c179e"
             ],
             [
              0.4444444444444444,
              "#bd3786"
             ],
             [
              0.5555555555555556,
              "#d8576b"
             ],
             [
              0.6666666666666666,
              "#ed7953"
             ],
             [
              0.7777777777777778,
              "#fb9f3a"
             ],
             [
              0.8888888888888888,
              "#fdca26"
             ],
             [
              1,
              "#f0f921"
             ]
            ],
            "type": "histogram2dcontour"
           }
          ],
          "mesh3d": [
           {
            "colorbar": {
             "outlinewidth": 0,
             "ticks": ""
            },
            "type": "mesh3d"
           }
          ],
          "parcoords": [
           {
            "line": {
             "colorbar": {
              "outlinewidth": 0,
              "ticks": ""
             }
            },
            "type": "parcoords"
           }
          ],
          "pie": [
           {
            "automargin": true,
            "type": "pie"
           }
          ],
          "scatter": [
           {
            "marker": {
             "colorbar": {
              "outlinewidth": 0,
              "ticks": ""
             }
            },
            "type": "scatter"
           }
          ],
          "scatter3d": [
           {
            "line": {
             "colorbar": {
              "outlinewidth": 0,
              "ticks": ""
             }
            },
            "marker": {
             "colorbar": {
              "outlinewidth": 0,
              "ticks": ""
             }
            },
            "type": "scatter3d"
           }
          ],
          "scattercarpet": [
           {
            "marker": {
             "colorbar": {
              "outlinewidth": 0,
              "ticks": ""
             }
            },
            "type": "scattercarpet"
           }
          ],
          "scattergeo": [
           {
            "marker": {
             "colorbar": {
              "outlinewidth": 0,
              "ticks": ""
             }
            },
            "type": "scattergeo"
           }
          ],
          "scattergl": [
           {
            "marker": {
             "colorbar": {
              "outlinewidth": 0,
              "ticks": ""
             }
            },
            "type": "scattergl"
           }
          ],
          "scattermapbox": [
           {
            "marker": {
             "colorbar": {
              "outlinewidth": 0,
              "ticks": ""
             }
            },
            "type": "scattermapbox"
           }
          ],
          "scatterpolar": [
           {
            "marker": {
             "colorbar": {
              "outlinewidth": 0,
              "ticks": ""
             }
            },
            "type": "scatterpolar"
           }
          ],
          "scatterpolargl": [
           {
            "marker": {
             "colorbar": {
              "outlinewidth": 0,
              "ticks": ""
             }
            },
            "type": "scatterpolargl"
           }
          ],
          "scatterternary": [
           {
            "marker": {
             "colorbar": {
              "outlinewidth": 0,
              "ticks": ""
             }
            },
            "type": "scatterternary"
           }
          ],
          "surface": [
           {
            "colorbar": {
             "outlinewidth": 0,
             "ticks": ""
            },
            "colorscale": [
             [
              0,
              "#0d0887"
             ],
             [
              0.1111111111111111,
              "#46039f"
             ],
             [
              0.2222222222222222,
              "#7201a8"
             ],
             [
              0.3333333333333333,
              "#9c179e"
             ],
             [
              0.4444444444444444,
              "#bd3786"
             ],
             [
              0.5555555555555556,
              "#d8576b"
             ],
             [
              0.6666666666666666,
              "#ed7953"
             ],
             [
              0.7777777777777778,
              "#fb9f3a"
             ],
             [
              0.8888888888888888,
              "#fdca26"
             ],
             [
              1,
              "#f0f921"
             ]
            ],
            "type": "surface"
           }
          ],
          "table": [
           {
            "cells": {
             "fill": {
              "color": "#EBF0F8"
             },
             "line": {
              "color": "white"
             }
            },
            "header": {
             "fill": {
              "color": "#C8D4E3"
             },
             "line": {
              "color": "white"
             }
            },
            "type": "table"
           }
          ]
         },
         "layout": {
          "annotationdefaults": {
           "arrowcolor": "#2a3f5f",
           "arrowhead": 0,
           "arrowwidth": 1
          },
          "autotypenumbers": "strict",
          "coloraxis": {
           "colorbar": {
            "outlinewidth": 0,
            "ticks": ""
           }
          },
          "colorscale": {
           "diverging": [
            [
             0,
             "#8e0152"
            ],
            [
             0.1,
             "#c51b7d"
            ],
            [
             0.2,
             "#de77ae"
            ],
            [
             0.3,
             "#f1b6da"
            ],
            [
             0.4,
             "#fde0ef"
            ],
            [
             0.5,
             "#f7f7f7"
            ],
            [
             0.6,
             "#e6f5d0"
            ],
            [
             0.7,
             "#b8e186"
            ],
            [
             0.8,
             "#7fbc41"
            ],
            [
             0.9,
             "#4d9221"
            ],
            [
             1,
             "#276419"
            ]
           ],
           "sequential": [
            [
             0,
             "#0d0887"
            ],
            [
             0.1111111111111111,
             "#46039f"
            ],
            [
             0.2222222222222222,
             "#7201a8"
            ],
            [
             0.3333333333333333,
             "#9c179e"
            ],
            [
             0.4444444444444444,
             "#bd3786"
            ],
            [
             0.5555555555555556,
             "#d8576b"
            ],
            [
             0.6666666666666666,
             "#ed7953"
            ],
            [
             0.7777777777777778,
             "#fb9f3a"
            ],
            [
             0.8888888888888888,
             "#fdca26"
            ],
            [
             1,
             "#f0f921"
            ]
           ],
           "sequentialminus": [
            [
             0,
             "#0d0887"
            ],
            [
             0.1111111111111111,
             "#46039f"
            ],
            [
             0.2222222222222222,
             "#7201a8"
            ],
            [
             0.3333333333333333,
             "#9c179e"
            ],
            [
             0.4444444444444444,
             "#bd3786"
            ],
            [
             0.5555555555555556,
             "#d8576b"
            ],
            [
             0.6666666666666666,
             "#ed7953"
            ],
            [
             0.7777777777777778,
             "#fb9f3a"
            ],
            [
             0.8888888888888888,
             "#fdca26"
            ],
            [
             1,
             "#f0f921"
            ]
           ]
          },
          "colorway": [
           "#636efa",
           "#EF553B",
           "#00cc96",
           "#ab63fa",
           "#FFA15A",
           "#19d3f3",
           "#FF6692",
           "#B6E880",
           "#FF97FF",
           "#FECB52"
          ],
          "font": {
           "color": "#2a3f5f"
          },
          "geo": {
           "bgcolor": "white",
           "lakecolor": "white",
           "landcolor": "#E5ECF6",
           "showlakes": true,
           "showland": true,
           "subunitcolor": "white"
          },
          "hoverlabel": {
           "align": "left"
          },
          "hovermode": "closest",
          "mapbox": {
           "style": "light"
          },
          "paper_bgcolor": "white",
          "plot_bgcolor": "#E5ECF6",
          "polar": {
           "angularaxis": {
            "gridcolor": "white",
            "linecolor": "white",
            "ticks": ""
           },
           "bgcolor": "#E5ECF6",
           "radialaxis": {
            "gridcolor": "white",
            "linecolor": "white",
            "ticks": ""
           }
          },
          "scene": {
           "xaxis": {
            "backgroundcolor": "#E5ECF6",
            "gridcolor": "white",
            "gridwidth": 2,
            "linecolor": "white",
            "showbackground": true,
            "ticks": "",
            "zerolinecolor": "white"
           },
           "yaxis": {
            "backgroundcolor": "#E5ECF6",
            "gridcolor": "white",
            "gridwidth": 2,
            "linecolor": "white",
            "showbackground": true,
            "ticks": "",
            "zerolinecolor": "white"
           },
           "zaxis": {
            "backgroundcolor": "#E5ECF6",
            "gridcolor": "white",
            "gridwidth": 2,
            "linecolor": "white",
            "showbackground": true,
            "ticks": "",
            "zerolinecolor": "white"
           }
          },
          "shapedefaults": {
           "line": {
            "color": "#2a3f5f"
           }
          },
          "ternary": {
           "aaxis": {
            "gridcolor": "white",
            "linecolor": "white",
            "ticks": ""
           },
           "baxis": {
            "gridcolor": "white",
            "linecolor": "white",
            "ticks": ""
           },
           "bgcolor": "#E5ECF6",
           "caxis": {
            "gridcolor": "white",
            "linecolor": "white",
            "ticks": ""
           }
          },
          "title": {
           "x": 0.05
          },
          "xaxis": {
           "automargin": true,
           "gridcolor": "white",
           "linecolor": "white",
           "ticks": "",
           "title": {
            "standoff": 15
           },
           "zerolinecolor": "white",
           "zerolinewidth": 2
          },
          "yaxis": {
           "automargin": true,
           "gridcolor": "white",
           "linecolor": "white",
           "ticks": "",
           "title": {
            "standoff": 15
           },
           "zerolinecolor": "white",
           "zerolinewidth": 2
          }
         }
        },
        "xaxis": {
         "anchor": "y",
         "domain": [
          0,
          1
         ],
         "title": {
          "text": "TSNE1"
         }
        },
        "yaxis": {
         "anchor": "x",
         "domain": [
          0,
          1
         ],
         "title": {
          "text": "TSNE2"
         }
        }
       }
      }
     },
     "metadata": {},
     "output_type": "display_data"
    }
   ],
   "source": [
    "import plotly.express as px\n",
    "\n",
    "# plt.figure(figsize=(16,10))\n",
    "# ['Alphabet',\n",
    "#  'Antique',\n",
    "#  'Bold',\n",
    "#  'D3',\n",
    "#  'Dark2',\n",
    "#  'Dark24',\n",
    "#  'G10',......]\n",
    "\n",
    "fig = px.scatter(tsneed,x=\"TSNE1\", y=\"TSNE2\",color = Y,color_discrete_sequence= px.colors.qualitative.G10) #legend = \"Full\", palette=sns.color_palette(\"hls\", 947)\n",
    "fig.show()"
   ]
  },
  {
   "cell_type": "code",
   "execution_count": 26,
   "metadata": {},
   "outputs": [
    {
     "data": {
      "application/vnd.plotly.v1+json": {
       "config": {
        "plotlyServerURL": "https://plot.ly"
       },
       "data": [
        {
         "hovertemplate": "color=Aburria<br>TSNE1=%{x}<br>TSNE2=%{y}<br>TSNE3=%{z}<extra></extra>",
         "legendgroup": "Aburria",
         "marker": {
          "color": "#3366CC",
          "symbol": "circle"
         },
         "mode": "markers",
         "name": "Aburria",
         "scene": "scene",
         "showlegend": true,
         "type": "scatter3d",
         "x": [
          -3.6993744373321533,
          -1.0301486253738403
         ],
         "y": [
          2.4021108150482178,
          8.711246490478516
         ],
         "z": [
          -2.1023032665252686,
          3.716187000274658
         ]
        },
        {
         "hovertemplate": "color=Accipiter<br>TSNE1=%{x}<br>TSNE2=%{y}<br>TSNE3=%{z}<extra></extra>",
         "legendgroup": "Accipiter",
         "marker": {
          "color": "#DC3912",
          "symbol": "circle"
         },
         "mode": "markers",
         "name": "Accipiter",
         "scene": "scene",
         "showlegend": true,
         "type": "scatter3d",
         "x": [
          3.3732407093048096,
          -0.8297201991081238,
          0.2991293966770172,
          1.0901741981506348,
          0.7367643117904663,
          0.1829182207584381,
          -5.31256103515625,
          2.7428019046783447,
          2.7055907249450684
         ],
         "y": [
          -4.714644908905029,
          1.638805627822876,
          -4.760779857635498,
          8.200455665588379,
          -5.1026930809021,
          -8.027262687683105,
          -8.2952880859375,
          4.199470520019531,
          4.218369007110596
         ],
         "z": [
          -5.239884853363037,
          5.147427558898926,
          3.2984845638275146,
          3.741408109664917,
          1.157183289527893,
          -3.583127498626709,
          -3.3817248344421387,
          -2.107416868209839,
          -2.0815558433532715
         ]
        },
        {
         "hovertemplate": "color=Actitis<br>TSNE1=%{x}<br>TSNE2=%{y}<br>TSNE3=%{z}<extra></extra>",
         "legendgroup": "Actitis",
         "marker": {
          "color": "#FF9900",
          "symbol": "circle"
         },
         "mode": "markers",
         "name": "Actitis",
         "scene": "scene",
         "showlegend": true,
         "type": "scatter3d",
         "x": [
          -2.3466172218322754,
          7.322153568267822,
          4.027085781097412,
          -2.589916944503784
         ],
         "y": [
          -4.072359085083008,
          0.5408355593681335,
          -5.458262920379639,
          -8.77350902557373
         ],
         "z": [
          2.8608205318450928,
          -5.2038397789001465,
          -0.46969959139823914,
          -3.8452272415161133
         ]
        },
        {
         "hovertemplate": "color=Adelomyia<br>TSNE1=%{x}<br>TSNE2=%{y}<br>TSNE3=%{z}<extra></extra>",
         "legendgroup": "Adelomyia",
         "marker": {
          "color": "#109618",
          "symbol": "circle"
         },
         "mode": "markers",
         "name": "Adelomyia",
         "scene": "scene",
         "showlegend": true,
         "type": "scatter3d",
         "x": [
          1.2757787704467773,
          8.957249641418457,
          3.4042601585388184
         ],
         "y": [
          -3.5182065963745117,
          2.0588414669036865,
          -4.315682888031006
         ],
         "z": [
          -1.2507573366165161,
          -6.446835994720459,
          0.9322952032089233
         ]
        },
        {
         "hovertemplate": "color=Aeronautes<br>TSNE1=%{x}<br>TSNE2=%{y}<br>TSNE3=%{z}<extra></extra>",
         "legendgroup": "Aeronautes",
         "marker": {
          "color": "#990099",
          "symbol": "circle"
         },
         "mode": "markers",
         "name": "Aeronautes",
         "scene": "scene",
         "showlegend": true,
         "type": "scatter3d",
         "x": [
          -0.06553297489881516,
          1.0379329919815063,
          0.9020945429801941,
          1.747530221939087,
          -1.2825082540512085,
          -1.2008912563323975
         ],
         "y": [
          -2.7317025661468506,
          3.035273790359497,
          2.2130112648010254,
          -4.472902297973633,
          -1.0485258102416992,
          1.2078319787979126
         ],
         "z": [
          2.53505802154541,
          -4.06689453125,
          -3.595081329345703,
          3.616238594055176,
          -3.1407365798950195,
          2.5858099460601807
         ]
        },
        {
         "hovertemplate": "color=Agamia<br>TSNE1=%{x}<br>TSNE2=%{y}<br>TSNE3=%{z}<extra></extra>",
         "legendgroup": "Agamia",
         "marker": {
          "color": "#0099C6",
          "symbol": "circle"
         },
         "mode": "markers",
         "name": "Agamia",
         "scene": "scene",
         "showlegend": true,
         "type": "scatter3d",
         "x": [
          1.4257290363311768,
          6.141516208648682,
          -1.2428357601165771
         ],
         "y": [
          -3.3596041202545166,
          -4.603109359741211,
          -4.843652248382568
         ],
         "z": [
          2.5704665184020996,
          -0.8354714512825012,
          -2.7349560260772705
         ]
        },
        {
         "hovertemplate": "color=Agelasticus<br>TSNE1=%{x}<br>TSNE2=%{y}<br>TSNE3=%{z}<extra></extra>",
         "legendgroup": "Agelasticus",
         "marker": {
          "color": "#DD4477",
          "symbol": "circle"
         },
         "mode": "markers",
         "name": "Agelasticus",
         "scene": "scene",
         "showlegend": true,
         "type": "scatter3d",
         "x": [
          1.3121353387832642,
          3.2443511486053467,
          -5.686215400695801
         ],
         "y": [
          -8.472731590270996,
          -2.7966325283050537,
          -3.9340105056762695
         ],
         "z": [
          -3.0780692100524902,
          5.136803150177002,
          -3.258329391479492
         ]
        },
        {
         "hovertemplate": "color=Aglaeactis<br>TSNE1=%{x}<br>TSNE2=%{y}<br>TSNE3=%{z}<extra></extra>",
         "legendgroup": "Aglaeactis",
         "marker": {
          "color": "#66AA00",
          "symbol": "circle"
         },
         "mode": "markers",
         "name": "Aglaeactis",
         "scene": "scene",
         "showlegend": true,
         "type": "scatter3d",
         "x": [
          -1.9557597637176514
         ],
         "y": [
          -7.714470386505127
         ],
         "z": [
          -1.1862871646881104
         ]
        },
        {
         "hovertemplate": "color=Aglaiocercus<br>TSNE1=%{x}<br>TSNE2=%{y}<br>TSNE3=%{z}<extra></extra>",
         "legendgroup": "Aglaiocercus",
         "marker": {
          "color": "#B82E2E",
          "symbol": "circle"
         },
         "mode": "markers",
         "name": "Aglaiocercus",
         "scene": "scene",
         "showlegend": true,
         "type": "scatter3d",
         "x": [
          6.452279567718506,
          1.5796998739242554,
          -6.533599376678467
         ],
         "y": [
          -3.6989688873291016,
          -7.039229393005371,
          -7.349825382232666
         ],
         "z": [
          -0.4213028848171234,
          -2.3412022590637207,
          -2.414996862411499
         ]
        },
        {
         "hovertemplate": "color=Akletos<br>TSNE1=%{x}<br>TSNE2=%{y}<br>TSNE3=%{z}<extra></extra>",
         "legendgroup": "Akletos",
         "marker": {
          "color": "#316395",
          "symbol": "circle"
         },
         "mode": "markers",
         "name": "Akletos",
         "scene": "scene",
         "showlegend": true,
         "type": "scatter3d",
         "x": [
          -2.028362274169922,
          -1.5374524593353271,
          -3.080230712890625,
          8.922746658325195,
          0.39659568667411804
         ],
         "y": [
          4.319177150726318,
          2.434842824935913,
          -6.934170722961426,
          2.391993999481201,
          6.738149642944336
         ],
         "z": [
          1.7966290712356567,
          1.517223596572876,
          -1.93063223361969,
          -6.1686811447143555,
          2.3358511924743652
         ]
        },
        {
         "hovertemplate": "color=Alopochelidon<br>TSNE1=%{x}<br>TSNE2=%{y}<br>TSNE3=%{z}<extra></extra>",
         "legendgroup": "Alopochelidon",
         "marker": {
          "color": "#3366CC",
          "symbol": "circle"
         },
         "mode": "markers",
         "name": "Alopochelidon",
         "scene": "scene",
         "showlegend": true,
         "type": "scatter3d",
         "x": [
          3.2129299640655518
         ],
         "y": [
          -4.524624824523926
         ],
         "z": [
          -3.1881449222564697
         ]
        },
        {
         "hovertemplate": "color=Amaurolimnas<br>TSNE1=%{x}<br>TSNE2=%{y}<br>TSNE3=%{z}<extra></extra>",
         "legendgroup": "Amaurolimnas",
         "marker": {
          "color": "#DC3912",
          "symbol": "circle"
         },
         "mode": "markers",
         "name": "Amaurolimnas",
         "scene": "scene",
         "showlegend": true,
         "type": "scatter3d",
         "x": [
          6.875548362731934,
          5.490794658660889,
          6.772768020629883
         ],
         "y": [
          0.14932981133460999,
          -1.279524803161621,
          -0.07464336603879929
         ],
         "z": [
          -3.77750301361084,
          -1.9771324396133423,
          -4.726175785064697
         ]
        },
        {
         "hovertemplate": "color=Amazilia<br>TSNE1=%{x}<br>TSNE2=%{y}<br>TSNE3=%{z}<extra></extra>",
         "legendgroup": "Amazilia",
         "marker": {
          "color": "#FF9900",
          "symbol": "circle"
         },
         "mode": "markers",
         "name": "Amazilia",
         "scene": "scene",
         "showlegend": true,
         "type": "scatter3d",
         "x": [
          -1.939261794090271,
          3.904006242752075,
          8.562834739685059
         ],
         "y": [
          -8.849787712097168,
          3.80633544921875,
          0.5046302676200867
         ],
         "z": [
          -3.636733293533325,
          3.78812575340271,
          -0.3806184232234955
         ]
        },
        {
         "hovertemplate": "color=Amazona<br>TSNE1=%{x}<br>TSNE2=%{y}<br>TSNE3=%{z}<extra></extra>",
         "legendgroup": "Amazona",
         "marker": {
          "color": "#109618",
          "symbol": "circle"
         },
         "mode": "markers",
         "name": "Amazona",
         "scene": "scene",
         "showlegend": true,
         "type": "scatter3d",
         "x": [
          6.5315446853637695,
          -0.00569746783003211,
          3.0719897747039795,
          -1.2528038024902344,
          -1.3141682147979736,
          -3.1935460567474365,
          2.981104612350464,
          1.7984799146652222,
          6.076798915863037,
          7.098834991455078,
          -1.5439538955688477,
          3.219728946685791,
          3.5060081481933594,
          5.749161243438721
         ],
         "y": [
          -1.1900396347045898,
          -2.183624029159546,
          -4.256577014923096,
          3.700289011001587,
          -3.702993154525757,
          -8.270162582397461,
          -3.5211806297302246,
          -0.1822797656059265,
          -0.2608332931995392,
          0.8272918462753296,
          -4.9838128089904785,
          -4.3516154289245605,
          -4.094031810760498,
          -1.1744810342788696
         ],
         "z": [
          -3.6503748893737793,
          -3.932392120361328,
          -5.177749156951904,
          -3.42637300491333,
          -3.017061948776245,
          -3.5228471755981445,
          1.053733229637146,
          5.40212345123291,
          -1.4929664134979248,
          -1.0345919132232666,
          2.448065996170044,
          -4.764064788818359,
          -0.41631412506103516,
          -1.7414504289627075
         ]
        },
        {
         "hovertemplate": "color=Amazonetta<br>TSNE1=%{x}<br>TSNE2=%{y}<br>TSNE3=%{z}<extra></extra>",
         "legendgroup": "Amazonetta",
         "marker": {
          "color": "#990099",
          "symbol": "circle"
         },
         "mode": "markers",
         "name": "Amazonetta",
         "scene": "scene",
         "showlegend": true,
         "type": "scatter3d",
         "x": [
          -4.749998092651367,
          0.04366122558712959,
          2.3949756622314453
         ],
         "y": [
          -7.7692999839782715,
          -6.225451946258545,
          -7.864096164703369
         ],
         "z": [
          -0.5408983826637268,
          -3.263582706451416,
          -2.426079273223877
         ]
        },
        {
         "hovertemplate": "color=Amblycercus<br>TSNE1=%{x}<br>TSNE2=%{y}<br>TSNE3=%{z}<extra></extra>",
         "legendgroup": "Amblycercus",
         "marker": {
          "color": "#0099C6",
          "symbol": "circle"
         },
         "mode": "markers",
         "name": "Amblycercus",
         "scene": "scene",
         "showlegend": true,
         "type": "scatter3d",
         "x": [
          2.998262882232666,
          0.5521829128265381,
          2.339884042739868
         ],
         "y": [
          6.874405384063721,
          -5.638284206390381,
          -4.390799522399902
         ],
         "z": [
          -2.4718477725982666,
          -2.8248119354248047,
          -2.038381338119507
         ]
        },
        {
         "hovertemplate": "color=Ammodramus<br>TSNE1=%{x}<br>TSNE2=%{y}<br>TSNE3=%{z}<extra></extra>",
         "legendgroup": "Ammodramus",
         "marker": {
          "color": "#DD4477",
          "symbol": "circle"
         },
         "mode": "markers",
         "name": "Ammodramus",
         "scene": "scene",
         "showlegend": true,
         "type": "scatter3d",
         "x": [
          8.751989364624023,
          2.458749532699585,
          -3.847156286239624,
          5.592861652374268,
          0.7701882719993591
         ],
         "y": [
          0.43511471152305603,
          -1.2049158811569214,
          -7.712803363800049,
          -2.367849826812744,
          -5.198142051696777
         ],
         "z": [
          -0.6462072730064392,
          2.6071665287017822,
          -4.1691131591796875,
          1.5605567693710327,
          1.0465973615646362
         ]
        },
        {
         "hovertemplate": "color=Ampelioides<br>TSNE1=%{x}<br>TSNE2=%{y}<br>TSNE3=%{z}<extra></extra>",
         "legendgroup": "Ampelioides",
         "marker": {
          "color": "#66AA00",
          "symbol": "circle"
         },
         "mode": "markers",
         "name": "Ampelioides",
         "scene": "scene",
         "showlegend": true,
         "type": "scatter3d",
         "x": [
          -4.993322372436523,
          -1.2714101076126099
         ],
         "y": [
          3.813645362854004,
          4.617073059082031
         ],
         "z": [
          4.942144870758057,
          4.9884867668151855
         ]
        },
        {
         "hovertemplate": "color=Ampelion<br>TSNE1=%{x}<br>TSNE2=%{y}<br>TSNE3=%{z}<extra></extra>",
         "legendgroup": "Ampelion",
         "marker": {
          "color": "#B82E2E",
          "symbol": "circle"
         },
         "mode": "markers",
         "name": "Ampelion",
         "scene": "scene",
         "showlegend": true,
         "type": "scatter3d",
         "x": [
          -3.761446952819824,
          -6.934108734130859
         ],
         "y": [
          -8.761106491088867,
          -4.543529033660889
         ],
         "z": [
          -3.9736993312835693,
          1.2510415315628052
         ]
        },
        {
         "hovertemplate": "color=Anabacerthia<br>TSNE1=%{x}<br>TSNE2=%{y}<br>TSNE3=%{z}<extra></extra>",
         "legendgroup": "Anabacerthia",
         "marker": {
          "color": "#316395",
          "symbol": "circle"
         },
         "mode": "markers",
         "name": "Anabacerthia",
         "scene": "scene",
         "showlegend": true,
         "type": "scatter3d",
         "x": [
          2.9648892879486084,
          -5.526651382446289,
          7.005018711090088,
          -5.360365867614746,
          2.5080926418304443,
          5.423417568206787,
          0.7891801595687866,
          7.528249740600586,
          2.8878579139709473,
          -3.8351070880889893
         ],
         "y": [
          -7.803158283233643,
          1.207864761352539,
          -1.096463918685913,
          1.982709527015686,
          -4.974214553833008,
          -2.8133544921875,
          -7.508345127105713,
          1.5642889738082886,
          -4.574639797210693,
          -6.743525981903076
         ],
         "z": [
          -2.296480417251587,
          -2.259087324142456,
          -3.7074437141418457,
          -1.4645700454711914,
          -5.398744106292725,
          -1.337354063987732,
          -1.4184765815734863,
          -2.415257453918457,
          -5.087642669677734,
          1.5386275053024292
         ]
        },
        {
         "hovertemplate": "color=Anairetes<br>TSNE1=%{x}<br>TSNE2=%{y}<br>TSNE3=%{z}<extra></extra>",
         "legendgroup": "Anairetes",
         "marker": {
          "color": "#3366CC",
          "symbol": "circle"
         },
         "mode": "markers",
         "name": "Anairetes",
         "scene": "scene",
         "showlegend": true,
         "type": "scatter3d",
         "x": [
          -5.100289821624756,
          -1.562591314315796,
          2.4165117740631104,
          -1.9654016494750977
         ],
         "y": [
          -8.019461631774902,
          4.652002811431885,
          -5.000489711761475,
          -5.657787322998047
         ],
         "z": [
          -3.5785419940948486,
          4.926482677459717,
          -5.441531181335449,
          -3.0578808784484863
         ]
        },
        {
         "hovertemplate": "color=Anas<br>TSNE1=%{x}<br>TSNE2=%{y}<br>TSNE3=%{z}<extra></extra>",
         "legendgroup": "Anas",
         "marker": {
          "color": "#DC3912",
          "symbol": "circle"
         },
         "mode": "markers",
         "name": "Anas",
         "scene": "scene",
         "showlegend": true,
         "type": "scatter3d",
         "x": [
          1.151615858078003,
          -2.7188823223114014
         ],
         "y": [
          -2.0335216522216797,
          -8.9000825881958
         ],
         "z": [
          3.5399184226989746,
          -3.859475612640381
         ]
        },
        {
         "hovertemplate": "color=Andigena<br>TSNE1=%{x}<br>TSNE2=%{y}<br>TSNE3=%{z}<extra></extra>",
         "legendgroup": "Andigena",
         "marker": {
          "color": "#FF9900",
          "symbol": "circle"
         },
         "mode": "markers",
         "name": "Andigena",
         "scene": "scene",
         "showlegend": true,
         "type": "scatter3d",
         "x": [
          8.832832336425781,
          -5.675045490264893,
          6.9514570236206055
         ],
         "y": [
          1.189873456954956,
          -2.860788345336914,
          3.5143373012542725
         ],
         "z": [
          -0.9542732834815979,
          -3.9022483825683594,
          -1.1859887838363647
         ]
        },
        {
         "hovertemplate": "color=Anhima<br>TSNE1=%{x}<br>TSNE2=%{y}<br>TSNE3=%{z}<extra></extra>",
         "legendgroup": "Anhima",
         "marker": {
          "color": "#109618",
          "symbol": "circle"
         },
         "mode": "markers",
         "name": "Anhima",
         "scene": "scene",
         "showlegend": true,
         "type": "scatter3d",
         "x": [
          3.2904138565063477,
          6.031121730804443,
          1.6279278993606567
         ],
         "y": [
          0.4792870581150055,
          -0.12332527339458466,
          -4.788773059844971
         ],
         "z": [
          0.44880443811416626,
          -3.3331100940704346,
          -2.0160584449768066
         ]
        },
        {
         "hovertemplate": "color=Anhinga<br>TSNE1=%{x}<br>TSNE2=%{y}<br>TSNE3=%{z}<extra></extra>",
         "legendgroup": "Anhinga",
         "marker": {
          "color": "#990099",
          "symbol": "circle"
         },
         "mode": "markers",
         "name": "Anhinga",
         "scene": "scene",
         "showlegend": true,
         "type": "scatter3d",
         "x": [
          1.0583099126815796,
          -0.5620946288108826,
          -6.585453033447266,
          -2.0088136196136475,
          -2.8439862728118896
         ],
         "y": [
          -5.385472297668457,
          0.5713534355163574,
          -1.810446858406067,
          -4.984166622161865,
          -3.353466033935547
         ],
         "z": [
          -5.800600528717041,
          5.851571083068848,
          -0.9631374478340149,
          -1.1877251863479614,
          2.9204792976379395
         ]
        },
        {
         "hovertemplate": "color=Anthracothorax<br>TSNE1=%{x}<br>TSNE2=%{y}<br>TSNE3=%{z}<extra></extra>",
         "legendgroup": "Anthracothorax",
         "marker": {
          "color": "#0099C6",
          "symbol": "circle"
         },
         "mode": "markers",
         "name": "Anthracothorax",
         "scene": "scene",
         "showlegend": true,
         "type": "scatter3d",
         "x": [
          6.392430305480957,
          -3.3051836490631104
         ],
         "y": [
          -3.4022462368011475,
          -8.12061882019043
         ],
         "z": [
          -0.10895846784114838,
          -0.6521682143211365
         ]
        },
        {
         "hovertemplate": "color=Anthus<br>TSNE1=%{x}<br>TSNE2=%{y}<br>TSNE3=%{z}<extra></extra>",
         "legendgroup": "Anthus",
         "marker": {
          "color": "#DD4477",
          "symbol": "circle"
         },
         "mode": "markers",
         "name": "Anthus",
         "scene": "scene",
         "showlegend": true,
         "type": "scatter3d",
         "x": [
          0.2701197564601898,
          3.5478904247283936
         ],
         "y": [
          -4.814853668212891,
          -3.9927098751068115
         ],
         "z": [
          0.36147257685661316,
          2.147736072540283
         ]
        },
        {
         "hovertemplate": "color=Antrostomus<br>TSNE1=%{x}<br>TSNE2=%{y}<br>TSNE3=%{z}<extra></extra>",
         "legendgroup": "Antrostomus",
         "marker": {
          "color": "#66AA00",
          "symbol": "circle"
         },
         "mode": "markers",
         "name": "Antrostomus",
         "scene": "scene",
         "showlegend": true,
         "type": "scatter3d",
         "x": [
          4.121368408203125,
          3.0423998832702637
         ],
         "y": [
          3.8532166481018066,
          2.5574190616607666
         ],
         "z": [
          -1.6969486474990845,
          -0.8698670268058777
         ]
        },
        {
         "hovertemplate": "color=Ara<br>TSNE1=%{x}<br>TSNE2=%{y}<br>TSNE3=%{z}<extra></extra>",
         "legendgroup": "Ara",
         "marker": {
          "color": "#B82E2E",
          "symbol": "circle"
         },
         "mode": "markers",
         "name": "Ara",
         "scene": "scene",
         "showlegend": true,
         "type": "scatter3d",
         "x": [
          -2.877980947494507,
          2.403930425643921,
          3.2479405403137207,
          1.1018378734588623,
          -3.6721229553222656,
          3.2214581966400146,
          2.4516923427581787,
          3.762308359146118,
          2.5366363525390625,
          5.907863616943359,
          -0.6620526909828186,
          2.4790728092193604,
          1.6990684270858765,
          2.230409622192383,
          -2.4056406021118164
         ],
         "y": [
          -5.340194225311279,
          -3.9307684898376465,
          -1.1156671047210693,
          8.245532035827637,
          -5.245390892028809,
          1.8717979192733765,
          3.8952369689941406,
          -0.8658732175827026,
          0.5483996272087097,
          -0.25913766026496887,
          -3.0454108715057373,
          0.3336302638053894,
          3.440281867980957,
          3.634253740310669,
          1.902004361152649
         ],
         "z": [
          2.2946395874023438,
          -0.5747529864311218,
          1.3254667520523071,
          3.78255295753479,
          -1.5021355152130127,
          4.165558338165283,
          4.322926998138428,
          2.5689070224761963,
          -2.8775269985198975,
          -4.7559404373168945,
          -0.23934227228164673,
          5.374118328094482,
          -0.9768441319465637,
          -1.0444492101669312,
          2.9719173908233643
         ]
        },
        {
         "hovertemplate": "color=Aramides<br>TSNE1=%{x}<br>TSNE2=%{y}<br>TSNE3=%{z}<extra></extra>",
         "legendgroup": "Aramides",
         "marker": {
          "color": "#316395",
          "symbol": "circle"
         },
         "mode": "markers",
         "name": "Aramides",
         "scene": "scene",
         "showlegend": true,
         "type": "scatter3d",
         "x": [
          3.4538345336914062,
          -3.430650472640991,
          -1.750154972076416
         ],
         "y": [
          5.433600425720215,
          7.331791877746582,
          -1.4071252346038818
         ],
         "z": [
          0.23818150162696838,
          4.597038269042969,
          -2.8186917304992676
         ]
        },
        {
         "hovertemplate": "color=Aramus<br>TSNE1=%{x}<br>TSNE2=%{y}<br>TSNE3=%{z}<extra></extra>",
         "legendgroup": "Aramus",
         "marker": {
          "color": "#3366CC",
          "symbol": "circle"
         },
         "mode": "markers",
         "name": "Aramus",
         "scene": "scene",
         "showlegend": true,
         "type": "scatter3d",
         "x": [
          6.541975975036621
         ],
         "y": [
          3.7206664085388184
         ],
         "z": [
          2.135706663131714
         ]
        },
        {
         "hovertemplate": "color=Aratinga<br>TSNE1=%{x}<br>TSNE2=%{y}<br>TSNE3=%{z}<extra></extra>",
         "legendgroup": "Aratinga",
         "marker": {
          "color": "#DC3912",
          "symbol": "circle"
         },
         "mode": "markers",
         "name": "Aratinga",
         "scene": "scene",
         "showlegend": true,
         "type": "scatter3d",
         "x": [
          6.356450080871582
         ],
         "y": [
          0.9726629853248596
         ],
         "z": [
          -3.5371103286743164
         ]
        },
        {
         "hovertemplate": "color=Ardea<br>TSNE1=%{x}<br>TSNE2=%{y}<br>TSNE3=%{z}<extra></extra>",
         "legendgroup": "Ardea",
         "marker": {
          "color": "#FF9900",
          "symbol": "circle"
         },
         "mode": "markers",
         "name": "Ardea",
         "scene": "scene",
         "showlegend": true,
         "type": "scatter3d",
         "x": [
          -0.7838618755340576,
          2.8581864833831787,
          -1.3137842416763306,
          -3.2279043197631836,
          -5.864943981170654,
          2.0052499771118164
         ],
         "y": [
          -8.01417350769043,
          -4.626143455505371,
          -4.8363165855407715,
          -7.314883708953857,
          -5.458030700683594,
          -7.121521472930908
         ],
         "z": [
          -3.0769474506378174,
          0.1044507771730423,
          -3.0990822315216064,
          -2.5911035537719727,
          -4.591398239135742,
          -2.536264181137085
         ]
        },
        {
         "hovertemplate": "color=Arenaria<br>TSNE1=%{x}<br>TSNE2=%{y}<br>TSNE3=%{z}<extra></extra>",
         "legendgroup": "Arenaria",
         "marker": {
          "color": "#109618",
          "symbol": "circle"
         },
         "mode": "markers",
         "name": "Arenaria",
         "scene": "scene",
         "showlegend": true,
         "type": "scatter3d",
         "x": [
          1.5820297002792358,
          -3.2683613300323486
         ],
         "y": [
          -7.24965763092041,
          2.1240527629852295
         ],
         "z": [
          -2.2515125274658203,
          -2.3506007194519043
         ]
        },
        {
         "hovertemplate": "color=Arremon<br>TSNE1=%{x}<br>TSNE2=%{y}<br>TSNE3=%{z}<extra></extra>",
         "legendgroup": "Arremon",
         "marker": {
          "color": "#990099",
          "symbol": "circle"
         },
         "mode": "markers",
         "name": "Arremon",
         "scene": "scene",
         "showlegend": true,
         "type": "scatter3d",
         "x": [
          2.6703829765319824,
          -5.548384189605713,
          -5.633195400238037,
          -2.7537567615509033,
          1.6909738779067993,
          1.7618372440338135,
          -1.9545414447784424,
          -3.98199725151062,
          -2.1372039318084717
         ],
         "y": [
          3.7516801357269287,
          0.029067032039165497,
          0.28811171650886536,
          -2.8763489723205566,
          5.92259407043457,
          1.2645723819732666,
          -1.5963902473449707,
          1.9009748697280884,
          1.483181118965149
         ],
         "z": [
          0.67711341381073,
          -2.3079707622528076,
          0.4821450412273407,
          2.404087543487549,
          -3.1681065559387207,
          4.279843807220459,
          -3.161227226257324,
          2.548367977142334,
          0.851262629032135
         ]
        },
        {
         "hovertemplate": "color=Arundinicola<br>TSNE1=%{x}<br>TSNE2=%{y}<br>TSNE3=%{z}<extra></extra>",
         "legendgroup": "Arundinicola",
         "marker": {
          "color": "#0099C6",
          "symbol": "circle"
         },
         "mode": "markers",
         "name": "Arundinicola",
         "scene": "scene",
         "showlegend": true,
         "type": "scatter3d",
         "x": [
          1.7450618743896484,
          1.2800440788269043,
          -5.609010696411133
         ],
         "y": [
          -0.42542484402656555,
          6.844017505645752,
          -6.579928398132324
         ],
         "z": [
          5.354201793670654,
          4.25456428527832,
          0.5010258555412292
         ]
        },
        {
         "hovertemplate": "color=Asthenes<br>TSNE1=%{x}<br>TSNE2=%{y}<br>TSNE3=%{z}<extra></extra>",
         "legendgroup": "Asthenes",
         "marker": {
          "color": "#DD4477",
          "symbol": "circle"
         },
         "mode": "markers",
         "name": "Asthenes",
         "scene": "scene",
         "showlegend": true,
         "type": "scatter3d",
         "x": [
          1.2437846660614014,
          3.043238878250122,
          -2.9131276607513428,
          -2.489518880844116,
          6.759441375732422
         ],
         "y": [
          -7.493615627288818,
          5.868110656738281,
          -3.355344772338867,
          5.594432353973389,
          1.6030577421188354
         ],
         "z": [
          -1.553246021270752,
          1.2296782732009888,
          4.23676061630249,
          4.131336212158203,
          -1.26064133644104
         ]
        },
        {
         "hovertemplate": "color=Athene<br>TSNE1=%{x}<br>TSNE2=%{y}<br>TSNE3=%{z}<extra></extra>",
         "legendgroup": "Athene",
         "marker": {
          "color": "#66AA00",
          "symbol": "circle"
         },
         "mode": "markers",
         "name": "Athene",
         "scene": "scene",
         "showlegend": true,
         "type": "scatter3d",
         "x": [
          -2.7584633827209473,
          5.232625961303711,
          6.360257625579834,
          3.3497681617736816
         ],
         "y": [
          -9.096277236938477,
          -5.519752502441406,
          -1.7454270124435425,
          -6.067152500152588
         ],
         "z": [
          -4.112484931945801,
          -1.1416486501693726,
          -3.3747971057891846,
          -0.3042915165424347
         ]
        },
        {
         "hovertemplate": "color=Atlapetes<br>TSNE1=%{x}<br>TSNE2=%{y}<br>TSNE3=%{z}<extra></extra>",
         "legendgroup": "Atlapetes",
         "marker": {
          "color": "#B82E2E",
          "symbol": "circle"
         },
         "mode": "markers",
         "name": "Atlapetes",
         "scene": "scene",
         "showlegend": true,
         "type": "scatter3d",
         "x": [
          1.994637131690979,
          1.776652216911316,
          -2.178724765777588,
          1.0195962190628052
         ],
         "y": [
          6.524303913116455,
          2.2664411067962646,
          -0.6601582765579224,
          1.4749412536621094
         ],
         "z": [
          -1.465421438217163,
          -3.6721980571746826,
          4.641199588775635,
          4.261928081512451
         ]
        },
        {
         "hovertemplate": "color=Atticora<br>TSNE1=%{x}<br>TSNE2=%{y}<br>TSNE3=%{z}<extra></extra>",
         "legendgroup": "Atticora",
         "marker": {
          "color": "#316395",
          "symbol": "circle"
         },
         "mode": "markers",
         "name": "Atticora",
         "scene": "scene",
         "showlegend": true,
         "type": "scatter3d",
         "x": [
          5.815411567687988,
          4.953585624694824,
          6.8517165184021
         ],
         "y": [
          1.9203144311904907,
          -2.398805856704712,
          -2.681623935699463
         ],
         "z": [
          0.8815035223960876,
          0.4682595133781433,
          -1.167152762413025
         ]
        },
        {
         "hovertemplate": "color=Attila<br>TSNE1=%{x}<br>TSNE2=%{y}<br>TSNE3=%{z}<extra></extra>",
         "legendgroup": "Attila",
         "marker": {
          "color": "#3366CC",
          "symbol": "circle"
         },
         "mode": "markers",
         "name": "Attila",
         "scene": "scene",
         "showlegend": true,
         "type": "scatter3d",
         "x": [
          1.111954689025879,
          7.119406700134277,
          -4.972546100616455,
          5.241450309753418,
          2.541412353515625,
          3.831052780151367,
          -6.629673004150391,
          8.250815391540527,
          1.7231025695800781
         ],
         "y": [
          -1.2243772745132446,
          5.817479133605957,
          -4.095527172088623,
          0.7780808806419373,
          2.0001134872436523,
          5.838195323944092,
          -1.7018945217132568,
          2.3756420612335205,
          -6.576349258422852
         ],
         "z": [
          -1.2186696529388428,
          -0.7623676657676697,
          1.34940505027771,
          -2.9029698371887207,
          1.8990514278411865,
          1.6337194442749023,
          1.2513519525527954,
          -4.421982288360596,
          -2.758903980255127
         ]
        },
        {
         "hovertemplate": "color=Aulacorhynchus<br>TSNE1=%{x}<br>TSNE2=%{y}<br>TSNE3=%{z}<extra></extra>",
         "legendgroup": "Aulacorhynchus",
         "marker": {
          "color": "#DC3912",
          "symbol": "circle"
         },
         "mode": "markers",
         "name": "Aulacorhynchus",
         "scene": "scene",
         "showlegend": true,
         "type": "scatter3d",
         "x": [
          4.573050022125244,
          7.936402320861816,
          8.322357177734375
         ],
         "y": [
          -3.9860217571258545,
          1.9728610515594482,
          4.695158004760742
         ],
         "z": [
          -1.2960999011993408,
          -0.23649989068508148,
          -0.5162835121154785
         ]
        },
        {
         "hovertemplate": "color=Automolus<br>TSNE1=%{x}<br>TSNE2=%{y}<br>TSNE3=%{z}<extra></extra>",
         "legendgroup": "Automolus",
         "marker": {
          "color": "#FF9900",
          "symbol": "circle"
         },
         "mode": "markers",
         "name": "Automolus",
         "scene": "scene",
         "showlegend": true,
         "type": "scatter3d",
         "x": [
          2.441322088241577,
          6.630029201507568,
          7.690552234649658,
          -1.000438928604126,
          -1.931105136871338,
          -3.9302518367767334,
          -0.5398783683776855,
          5.831858158111572,
          -3.9125940799713135,
          -0.8184449672698975
         ],
         "y": [
          -1.746519923210144,
          3.7382030487060547,
          2.3487908840179443,
          -1.1780145168304443,
          -1.4815237522125244,
          -3.1406147480010986,
          1.666211485862732,
          2.586113452911377,
          -3.887263774871826,
          -0.9285441637039185
         ],
         "z": [
          3.932819128036499,
          -1.3476201295852661,
          -1.781789779663086,
          -2.473628282546997,
          1.372798204421997,
          0.5219666957855225,
          4.0963616371154785,
          0.39925575256347656,
          -0.5394211411476135,
          1.2122422456741333
         ]
        },
        {
         "hovertemplate": "color=Bartramia<br>TSNE1=%{x}<br>TSNE2=%{y}<br>TSNE3=%{z}<extra></extra>",
         "legendgroup": "Bartramia",
         "marker": {
          "color": "#109618",
          "symbol": "circle"
         },
         "mode": "markers",
         "name": "Bartramia",
         "scene": "scene",
         "showlegend": true,
         "type": "scatter3d",
         "x": [
          1.7581120729446411,
          -3.900787591934204,
          -5.056893348693848
         ],
         "y": [
          -4.932130813598633,
          -6.116025447845459,
          -8.433226585388184
         ],
         "z": [
          -0.20958925783634186,
          0.8738560080528259,
          -3.7655980587005615
         ]
        },
        {
         "hovertemplate": "color=Baryphthengus<br>TSNE1=%{x}<br>TSNE2=%{y}<br>TSNE3=%{z}<extra></extra>",
         "legendgroup": "Baryphthengus",
         "marker": {
          "color": "#990099",
          "symbol": "circle"
         },
         "mode": "markers",
         "name": "Baryphthengus",
         "scene": "scene",
         "showlegend": true,
         "type": "scatter3d",
         "x": [
          4.010046482086182,
          -1.324056625366211,
          -0.023864716291427612
         ],
         "y": [
          7.793555736541748,
          1.4549710750579834,
          -3.84212327003479
         ],
         "z": [
          3.2677807807922363,
          -2.576887607574463,
          2.707947015762329
         ]
        },
        {
         "hovertemplate": "color=Basileuterus<br>TSNE1=%{x}<br>TSNE2=%{y}<br>TSNE3=%{z}<extra></extra>",
         "legendgroup": "Basileuterus",
         "marker": {
          "color": "#0099C6",
          "symbol": "circle"
         },
         "mode": "markers",
         "name": "Basileuterus",
         "scene": "scene",
         "showlegend": true,
         "type": "scatter3d",
         "x": [
          2.445434808731079,
          -1.607222080230713
         ],
         "y": [
          -3.9875640869140625,
          3.9137253761291504
         ],
         "z": [
          -5.262044906616211,
          -3.7049295902252197
         ]
        },
        {
         "hovertemplate": "color=Berlepschia<br>TSNE1=%{x}<br>TSNE2=%{y}<br>TSNE3=%{z}<extra></extra>",
         "legendgroup": "Berlepschia",
         "marker": {
          "color": "#DD4477",
          "symbol": "circle"
         },
         "mode": "markers",
         "name": "Berlepschia",
         "scene": "scene",
         "showlegend": true,
         "type": "scatter3d",
         "x": [
          0.07798390090465546,
          2.413304567337036
         ],
         "y": [
          6.879402160644531,
          -8.13881778717041
         ],
         "z": [
          2.3102099895477295,
          -2.598925828933716
         ]
        },
        {
         "hovertemplate": "color=Bolborhynchus<br>TSNE1=%{x}<br>TSNE2=%{y}<br>TSNE3=%{z}<extra></extra>",
         "legendgroup": "Bolborhynchus",
         "marker": {
          "color": "#66AA00",
          "symbol": "circle"
         },
         "mode": "markers",
         "name": "Bolborhynchus",
         "scene": "scene",
         "showlegend": true,
         "type": "scatter3d",
         "x": [
          -0.38030150532722473,
          2.939725637435913,
          2.8045194149017334,
          6.558486461639404,
          3.680669069290161
         ],
         "y": [
          -3.726923704147339,
          -4.027534484863281,
          2.8633499145507812,
          2.667933702468872,
          -4.14972448348999
         ],
         "z": [
          -0.7149513363838196,
          -5.276180267333984,
          -2.9605748653411865,
          1.9645943641662598,
          -2.160067081451416
         ]
        },
        {
         "hovertemplate": "color=Brachygalba<br>TSNE1=%{x}<br>TSNE2=%{y}<br>TSNE3=%{z}<extra></extra>",
         "legendgroup": "Brachygalba",
         "marker": {
          "color": "#B82E2E",
          "symbol": "circle"
         },
         "mode": "markers",
         "name": "Brachygalba",
         "scene": "scene",
         "showlegend": true,
         "type": "scatter3d",
         "x": [
          2.8696887493133545,
          0.4529823064804077
         ],
         "y": [
          3.7646026611328125,
          -0.49201837182044983
         ],
         "z": [
          -2.814034938812256,
          -1.544964075088501
         ]
        },
        {
         "hovertemplate": "color=Brotogeris<br>TSNE1=%{x}<br>TSNE2=%{y}<br>TSNE3=%{z}<extra></extra>",
         "legendgroup": "Brotogeris",
         "marker": {
          "color": "#316395",
          "symbol": "circle"
         },
         "mode": "markers",
         "name": "Brotogeris",
         "scene": "scene",
         "showlegend": true,
         "type": "scatter3d",
         "x": [
          -0.6544445157051086,
          -3.031332015991211,
          0.998568594455719,
          2.423145294189453,
          5.83351469039917,
          2.5111818313598633
         ],
         "y": [
          -1.6804267168045044,
          -5.383631706237793,
          2.915874719619751,
          2.814021348953247,
          -1.0142420530319214,
          -0.6289762854576111
         ],
         "z": [
          -4.076179027557373,
          1.7922186851501465,
          -3.921659231185913,
          -3.450695276260376,
          -1.416993260383606,
          -2.0890932083129883
         ]
        },
        {
         "hovertemplate": "color=Bubo<br>TSNE1=%{x}<br>TSNE2=%{y}<br>TSNE3=%{z}<extra></extra>",
         "legendgroup": "Bubo",
         "marker": {
          "color": "#3366CC",
          "symbol": "circle"
         },
         "mode": "markers",
         "name": "Bubo",
         "scene": "scene",
         "showlegend": true,
         "type": "scatter3d",
         "x": [
          -5.999797821044922
         ],
         "y": [
          -1.8227134943008423
         ],
         "z": [
          -4.476146697998047
         ]
        },
        {
         "hovertemplate": "color=Bubulcus<br>TSNE1=%{x}<br>TSNE2=%{y}<br>TSNE3=%{z}<extra></extra>",
         "legendgroup": "Bubulcus",
         "marker": {
          "color": "#DC3912",
          "symbol": "circle"
         },
         "mode": "markers",
         "name": "Bubulcus",
         "scene": "scene",
         "showlegend": true,
         "type": "scatter3d",
         "x": [
          0.12122692167758942,
          0.9636237621307373
         ],
         "y": [
          -6.84873628616333,
          -0.5013719201087952
         ],
         "z": [
          -2.446314811706543,
          -3.8650708198547363
         ]
        },
        {
         "hovertemplate": "color=Bucco<br>TSNE1=%{x}<br>TSNE2=%{y}<br>TSNE3=%{z}<extra></extra>",
         "legendgroup": "Bucco",
         "marker": {
          "color": "#FF9900",
          "symbol": "circle"
         },
         "mode": "markers",
         "name": "Bucco",
         "scene": "scene",
         "showlegend": true,
         "type": "scatter3d",
         "x": [
          1.295959234237671,
          2.1525399684906006,
          -0.005882743280380964,
          4.037510395050049,
          2.2183406352996826,
          -1.453303337097168,
          5.511209487915039,
          7.969755172729492
         ],
         "y": [
          -1.0219494104385376,
          -0.19131126999855042,
          -1.86216402053833,
          -0.8315593600273132,
          0.45498722791671753,
          5.620151042938232,
          2.9651830196380615,
          0.8546329140663147
         ],
         "z": [
          -1.7797611951828003,
          -2.5695252418518066,
          1.623172640800476,
          2.835759401321411,
          1.4757838249206543,
          -3.6398088932037354,
          -3.2230067253112793,
          -3.2112131118774414
         ]
        },
        {
         "hovertemplate": "color=Busarellus<br>TSNE1=%{x}<br>TSNE2=%{y}<br>TSNE3=%{z}<extra></extra>",
         "legendgroup": "Busarellus",
         "marker": {
          "color": "#109618",
          "symbol": "circle"
         },
         "mode": "markers",
         "name": "Busarellus",
         "scene": "scene",
         "showlegend": true,
         "type": "scatter3d",
         "x": [
          -3.653737783432007,
          2.3892650604248047,
          -0.3034951686859131,
          -6.401329040527344,
          -4.284078121185303
         ],
         "y": [
          -4.01223087310791,
          -3.375258445739746,
          1.066149353981018,
          -1.645214319229126,
          -0.48057571053504944
         ],
         "z": [
          2.625800609588623,
          0.8767733573913574,
          2.140984058380127,
          -1.6182887554168701,
          5.125057697296143
         ]
        },
        {
         "hovertemplate": "color=Buteo<br>TSNE1=%{x}<br>TSNE2=%{y}<br>TSNE3=%{z}<extra></extra>",
         "legendgroup": "Buteo",
         "marker": {
          "color": "#990099",
          "symbol": "circle"
         },
         "mode": "markers",
         "name": "Buteo",
         "scene": "scene",
         "showlegend": true,
         "type": "scatter3d",
         "x": [
          4.027770519256592,
          -3.9936399459838867,
          -7.154715538024902,
          -2.374979257583618,
          -3.6896235942840576,
          -2.354626417160034,
          -1.3963441848754883,
          -1.2962223291397095,
          -6.464406490325928,
          -4.12831449508667,
          -3.8109405040740967,
          -6.376841068267822,
          3.451077699661255,
          -5.059197902679443,
          -3.167099952697754,
          -1.3762282133102417,
          -5.948323726654053,
          7.123744010925293,
          -3.8001160621643066,
          -2.514225959777832
         ],
         "y": [
          7.039985179901123,
          -3.016496181488037,
          -4.33128547668457,
          -0.8018537759780884,
          -0.11507245898246765,
          3.258526086807251,
          0.06306792795658112,
          4.385052680969238,
          -4.97674560546875,
          -3.487074851989746,
          4.510724067687988,
          -5.633742332458496,
          0.2700599133968353,
          3.9407827854156494,
          2.329350471496582,
          4.854175090789795,
          1.032068133354187,
          0.5442424416542053,
          -1.8587055206298828,
          -7.819361209869385
         ],
         "z": [
          2.537034273147583,
          0.02499719336628914,
          0.8177568912506104,
          -2.9000353813171387,
          -0.6551982164382935,
          3.784388780593872,
          3.544543504714966,
          4.999786376953125,
          -3.540625810623169,
          -0.13995081186294556,
          4.581470489501953,
          -3.568399667739868,
          3.895235061645508,
          4.870998382568359,
          3.4481680393218994,
          4.426487445831299,
          3.8062758445739746,
          -1.688055396080017,
          -3.376110076904297,
          -2.851868152618408
         ]
        },
        {
         "hovertemplate": "color=Buteogallus<br>TSNE1=%{x}<br>TSNE2=%{y}<br>TSNE3=%{z}<extra></extra>",
         "legendgroup": "Buteogallus",
         "marker": {
          "color": "#0099C6",
          "symbol": "circle"
         },
         "mode": "markers",
         "name": "Buteogallus",
         "scene": "scene",
         "showlegend": true,
         "type": "scatter3d",
         "x": [
          -5.417996883392334,
          -5.7007832527160645,
          -4.220141410827637,
          0.6862285137176514,
          -4.882425308227539,
          -3.0826377868652344,
          -5.953644275665283,
          -1.698718786239624,
          -2.353511095046997,
          -6.252646446228027,
          -6.373753547668457,
          -3.8912477493286133,
          -2.8914520740509033,
          -3.2692315578460693
         ],
         "y": [
          3.1824934482574463,
          2.064915657043457,
          1.451939582824707,
          4.277064323425293,
          4.526941776275635,
          -1.034885287284851,
          -1.6654117107391357,
          4.979107856750488,
          6.005293846130371,
          -1.6070003509521484,
          -0.32738882303237915,
          0.06003687530755997,
          7.5388078689575195,
          6.832752704620361
         ],
         "z": [
          4.572251796722412,
          0.9773163199424744,
          4.341068267822266,
          5.1345624923706055,
          4.52114200592041,
          -3.0645594596862793,
          -1.536400556564331,
          5.097318649291992,
          -3.8231472969055176,
          -1.8980306386947632,
          1.0635892152786255,
          -3.744285821914673,
          4.527026653289795,
          -4.3776421546936035
         ]
        },
        {
         "hovertemplate": "color=Butorides<br>TSNE1=%{x}<br>TSNE2=%{y}<br>TSNE3=%{z}<extra></extra>",
         "legendgroup": "Butorides",
         "marker": {
          "color": "#DD4477",
          "symbol": "circle"
         },
         "mode": "markers",
         "name": "Butorides",
         "scene": "scene",
         "showlegend": true,
         "type": "scatter3d",
         "x": [
          -3.7197132110595703,
          -2.5747945308685303,
          -3.6454479694366455
         ],
         "y": [
          -7.709178924560547,
          -7.533675670623779,
          0.8279197216033936
         ],
         "z": [
          -3.6200311183929443,
          -2.7570927143096924,
          0.9422026872634888
         ]
        },
        {
         "hovertemplate": "color=Cacicus<br>TSNE1=%{x}<br>TSNE2=%{y}<br>TSNE3=%{z}<extra></extra>",
         "legendgroup": "Cacicus",
         "marker": {
          "color": "#66AA00",
          "symbol": "circle"
         },
         "mode": "markers",
         "name": "Cacicus",
         "scene": "scene",
         "showlegend": true,
         "type": "scatter3d",
         "x": [
          -0.30953729152679443,
          3.1277401447296143,
          4.896537780761719,
          4.003106594085693,
          6.630751609802246,
          -0.8381332159042358,
          0.36257514357566833,
          1.6531574726104736,
          3.5247914791107178,
          4.1021809577941895,
          -1.2543824911117554,
          -4.571315288543701,
          -4.732954025268555
         ],
         "y": [
          -0.318097323179245,
          3.652092218399048,
          8.619397163391113,
          -5.033425807952881,
          2.509810209274292,
          -8.322197914123535,
          -0.8766141533851624,
          -1.050197720527649,
          -4.175951957702637,
          2.5230953693389893,
          -7.486663341522217,
          0.6570848822593689,
          -5.266541957855225
         ],
         "z": [
          1.9229209423065186,
          -2.548957586288452,
          1.46388840675354,
          -0.3887122869491577,
          -0.7048451900482178,
          -3.416144371032715,
          3.39333438873291,
          4.2462992668151855,
          -0.8580650687217712,
          3.0166537761688232,
          -0.731281042098999,
          4.762814521789551,
          -3.546074628829956
         ]
        },
        {
         "hovertemplate": "color=Calidris<br>TSNE1=%{x}<br>TSNE2=%{y}<br>TSNE3=%{z}<extra></extra>",
         "legendgroup": "Calidris",
         "marker": {
          "color": "#B82E2E",
          "symbol": "circle"
         },
         "mode": "markers",
         "name": "Calidris",
         "scene": "scene",
         "showlegend": true,
         "type": "scatter3d",
         "x": [
          -3.619168519973755,
          -6.002442836761475,
          -1.655745029449463,
          1.6506894826889038,
          4.411550998687744,
          7.007225036621094,
          3.02990984916687,
          1.9077191352844238,
          5.663870334625244,
          -3.454590082168579,
          -1.1523617506027222,
          3.6051430702209473,
          7.9105987548828125,
          -3.3638830184936523,
          3.7532365322113037,
          0.6056827306747437,
          2.3878414630889893,
          -3.6436760425567627,
          4.044941425323486,
          -1.324358344078064,
          -2.781921148300171,
          -1.956800937652588,
          -3.4251906871795654,
          -3.324479341506958,
          -6.808844089508057
         ],
         "y": [
          -1.3281214237213135,
          -3.010350227355957,
          -9.119516372680664,
          -8.03996467590332,
          -5.204214572906494,
          0.2968566417694092,
          3.859797477722168,
          3.6936233043670654,
          4.264133930206299,
          5.9925217628479,
          -7.057936191558838,
          1.8695898056030273,
          3.946021318435669,
          -9.042402267456055,
          -1.0283817052841187,
          -6.79995059967041,
          -4.069152355194092,
          -8.20034408569336,
          -6.304175853729248,
          -7.184813022613525,
          6.705235958099365,
          4.136168003082275,
          -8.156087875366211,
          -8.040284156799316,
          -6.331605911254883
         ],
         "z": [
          -3.319014549255371,
          -1.5412287712097168,
          -3.6893951892852783,
          -2.291564702987671,
          -0.2642301321029663,
          -0.5655390024185181,
          -2.8670151233673096,
          5.01807165145874,
          -1.7949950695037842,
          -4.1157355308532715,
          -0.19543521106243134,
          2.5751492977142334,
          -0.8191034197807312,
          -3.9562220573425293,
          0.11102500557899475,
          -2.6511480808258057,
          3.0558571815490723,
          -2.5749127864837646,
          -1.4214998483657837,
          -0.48917755484580994,
          4.399746894836426,
          5.580073833465576,
          -2.4097206592559814,
          -0.4399900436401367,
          -0.11824717372655869
         ]
        },
        {
         "hovertemplate": "color=Calliphlox<br>TSNE1=%{x}<br>TSNE2=%{y}<br>TSNE3=%{z}<extra></extra>",
         "legendgroup": "Calliphlox",
         "marker": {
          "color": "#316395",
          "symbol": "circle"
         },
         "mode": "markers",
         "name": "Calliphlox",
         "scene": "scene",
         "showlegend": true,
         "type": "scatter3d",
         "x": [
          1.7244062423706055
         ],
         "y": [
          -3.833134651184082
         ],
         "z": [
          -2.2216274738311768
         ]
        },
        {
         "hovertemplate": "color=Campephilus<br>TSNE1=%{x}<br>TSNE2=%{y}<br>TSNE3=%{z}<extra></extra>",
         "legendgroup": "Campephilus",
         "marker": {
          "color": "#3366CC",
          "symbol": "circle"
         },
         "mode": "markers",
         "name": "Campephilus",
         "scene": "scene",
         "showlegend": true,
         "type": "scatter3d",
         "x": [
          -6.384224891662598,
          -5.860246181488037,
          -4.920106410980225,
          -6.839599132537842,
          2.6128385066986084,
          7.561358451843262,
          0.9078132510185242,
          -2.862532615661621,
          -0.7845709323883057,
          -7.168004035949707,
          3.9992434978485107
         ],
         "y": [
          -0.6294005513191223,
          2.0285427570343018,
          4.500290393829346,
          -6.192681789398193,
          -4.089629173278809,
          3.4205548763275146,
          -3.949878692626953,
          7.319763660430908,
          -4.995589733123779,
          -5.773075103759766,
          -2.887600898742676
         ],
         "z": [
          -1.0374151468276978,
          0.5087481737136841,
          5.023301601409912,
          -0.4382409453392029,
          2.488339424133301,
          -1.0926423072814941,
          3.1297237873077393,
          4.741452693939209,
          1.4593104124069214,
          0.1997765749692917,
          1.986436367034912
         ]
        },
        {
         "hovertemplate": "color=Camptostoma<br>TSNE1=%{x}<br>TSNE2=%{y}<br>TSNE3=%{z}<extra></extra>",
         "legendgroup": "Camptostoma",
         "marker": {
          "color": "#DC3912",
          "symbol": "circle"
         },
         "mode": "markers",
         "name": "Camptostoma",
         "scene": "scene",
         "showlegend": true,
         "type": "scatter3d",
         "x": [
          -5.597441673278809,
          3.6929869651794434
         ],
         "y": [
          0.49383309483528137,
          -3.789064407348633
         ],
         "z": [
          -2.1993257999420166,
          1.1171036958694458
         ]
        },
        {
         "hovertemplate": "color=Campylopterus<br>TSNE1=%{x}<br>TSNE2=%{y}<br>TSNE3=%{z}<extra></extra>",
         "legendgroup": "Campylopterus",
         "marker": {
          "color": "#FF9900",
          "symbol": "circle"
         },
         "mode": "markers",
         "name": "Campylopterus",
         "scene": "scene",
         "showlegend": true,
         "type": "scatter3d",
         "x": [
          0.8243324160575867,
          4.055988788604736,
          1.789191722869873
         ],
         "y": [
          -7.136420726776123,
          -6.1840128898620605,
          -5.157620429992676
         ],
         "z": [
          -1.1321486234664917,
          -1.344502568244934,
          -2.1773629188537598
         ]
        },
        {
         "hovertemplate": "color=Campylorhamphus<br>TSNE1=%{x}<br>TSNE2=%{y}<br>TSNE3=%{z}<extra></extra>",
         "legendgroup": "Campylorhamphus",
         "marker": {
          "color": "#109618",
          "symbol": "circle"
         },
         "mode": "markers",
         "name": "Campylorhamphus",
         "scene": "scene",
         "showlegend": true,
         "type": "scatter3d",
         "x": [
          -0.4254414439201355,
          -5.533563613891602,
          -4.658905982971191,
          -6.438450813293457
         ],
         "y": [
          4.220395088195801,
          1.3246564865112305,
          -5.505065441131592,
          -1.9253212213516235
         ],
         "z": [
          -0.22077254951000214,
          -2.6987123489379883,
          0.13414409756660461,
          -1.5122312307357788
         ]
        },
        {
         "hovertemplate": "color=Campylorhynchus<br>TSNE1=%{x}<br>TSNE2=%{y}<br>TSNE3=%{z}<extra></extra>",
         "legendgroup": "Campylorhynchus",
         "marker": {
          "color": "#990099",
          "symbol": "circle"
         },
         "mode": "markers",
         "name": "Campylorhynchus",
         "scene": "scene",
         "showlegend": true,
         "type": "scatter3d",
         "x": [
          -0.2212224304676056,
          0.922042965888977,
          -2.540127754211426
         ],
         "y": [
          -8.287670135498047,
          -5.2953338623046875,
          -5.974355220794678
         ],
         "z": [
          -2.9718477725982666,
          1.0873347520828247,
          -3.1937360763549805
         ]
        },
        {
         "hovertemplate": "color=Cantorchilus<br>TSNE1=%{x}<br>TSNE2=%{y}<br>TSNE3=%{z}<extra></extra>",
         "legendgroup": "Cantorchilus",
         "marker": {
          "color": "#0099C6",
          "symbol": "circle"
         },
         "mode": "markers",
         "name": "Cantorchilus",
         "scene": "scene",
         "showlegend": true,
         "type": "scatter3d",
         "x": [
          -1.4902499914169312,
          -1.5792503356933594,
          -1.0194177627563477
         ],
         "y": [
          -2.161306381225586,
          -1.1328258514404297,
          4.227832317352295
         ],
         "z": [
          2.8249669075012207,
          2.186293363571167,
          4.049912929534912
         ]
        },
        {
         "hovertemplate": "color=Capito<br>TSNE1=%{x}<br>TSNE2=%{y}<br>TSNE3=%{z}<extra></extra>",
         "legendgroup": "Capito",
         "marker": {
          "color": "#DD4477",
          "symbol": "circle"
         },
         "mode": "markers",
         "name": "Capito",
         "scene": "scene",
         "showlegend": true,
         "type": "scatter3d",
         "x": [
          5.575819492340088,
          8.675384521484375,
          -0.08394826948642731,
          -0.22840678691864014,
          4.349483966827393,
          6.3449273109436035
         ],
         "y": [
          -1.4067295789718628,
          2.2242441177368164,
          -0.6527649760246277,
          -0.14678509533405304,
          1.1744415760040283,
          1.149080514907837
         ],
         "z": [
          -0.775770902633667,
          -2.322235107421875,
          -4.079391002655029,
          -4.162967205047607,
          -2.1079018115997314,
          -1.3325400352478027
         ]
        },
        {
         "hovertemplate": "color=Capsiempis<br>TSNE1=%{x}<br>TSNE2=%{y}<br>TSNE3=%{z}<extra></extra>",
         "legendgroup": "Capsiempis",
         "marker": {
          "color": "#66AA00",
          "symbol": "circle"
         },
         "mode": "markers",
         "name": "Capsiempis",
         "scene": "scene",
         "showlegend": true,
         "type": "scatter3d",
         "x": [
          -3.418957471847534,
          -1.347205400466919
         ],
         "y": [
          -2.394998788833618,
          -0.4734174907207489
         ],
         "z": [
          1.3681623935699463,
          4.077333450317383
         ]
        },
        {
         "hovertemplate": "color=Caracara<br>TSNE1=%{x}<br>TSNE2=%{y}<br>TSNE3=%{z}<extra></extra>",
         "legendgroup": "Caracara",
         "marker": {
          "color": "#B82E2E",
          "symbol": "circle"
         },
         "mode": "markers",
         "name": "Caracara",
         "scene": "scene",
         "showlegend": true,
         "type": "scatter3d",
         "x": [
          5.4105682373046875,
          -1.2581830024719238,
          8.47153091430664
         ],
         "y": [
          -0.9157280325889587,
          -2.874438762664795,
          1.7598240375518799
         ],
         "z": [
          0.6264716982841492,
          -0.25608089566230774,
          -6.071890830993652
         ]
        },
        {
         "hovertemplate": "color=Cardellina<br>TSNE1=%{x}<br>TSNE2=%{y}<br>TSNE3=%{z}<extra></extra>",
         "legendgroup": "Cardellina",
         "marker": {
          "color": "#316395",
          "symbol": "circle"
         },
         "mode": "markers",
         "name": "Cardellina",
         "scene": "scene",
         "showlegend": true,
         "type": "scatter3d",
         "x": [
          6.400672435760498,
          -0.9994800090789795,
          3.495828866958618
         ],
         "y": [
          -2.531792640686035,
          -0.18570971488952637,
          -4.056219577789307
         ],
         "z": [
          0.442186564207077,
          1.0073429346084595,
          2.090614080429077
         ]
        },
        {
         "hovertemplate": "color=Casiornis<br>TSNE1=%{x}<br>TSNE2=%{y}<br>TSNE3=%{z}<extra></extra>",
         "legendgroup": "Casiornis",
         "marker": {
          "color": "#3366CC",
          "symbol": "circle"
         },
         "mode": "markers",
         "name": "Casiornis",
         "scene": "scene",
         "showlegend": true,
         "type": "scatter3d",
         "x": [
          -6.054521083831787,
          -2.6674907207489014,
          -6.554185390472412,
          -6.484941482543945
         ],
         "y": [
          0.6581946611404419,
          7.75767183303833,
          -4.180252552032471,
          -6.395459175109863
         ],
         "z": [
          4.271517276763916,
          4.624906539916992,
          1.299271821975708,
          -2.3839147090911865
         ]
        },
        {
         "hovertemplate": "color=Catamblyrhynchus<br>TSNE1=%{x}<br>TSNE2=%{y}<br>TSNE3=%{z}<extra></extra>",
         "legendgroup": "Catamblyrhynchus",
         "marker": {
          "color": "#DC3912",
          "symbol": "circle"
         },
         "mode": "markers",
         "name": "Catamblyrhynchus",
         "scene": "scene",
         "showlegend": true,
         "type": "scatter3d",
         "x": [
          6.034073829650879,
          4.873239517211914,
          9.335907936096191
         ],
         "y": [
          -4.255568981170654,
          -3.6614487171173096,
          5.0350565910339355
         ],
         "z": [
          -0.945911169052124,
          -1.4268132448196411,
          -0.3696732223033905
         ]
        },
        {
         "hovertemplate": "color=Catamenia<br>TSNE1=%{x}<br>TSNE2=%{y}<br>TSNE3=%{z}<extra></extra>",
         "legendgroup": "Catamenia",
         "marker": {
          "color": "#FF9900",
          "symbol": "circle"
         },
         "mode": "markers",
         "name": "Catamenia",
         "scene": "scene",
         "showlegend": true,
         "type": "scatter3d",
         "x": [
          -3.6582281589508057,
          6.136058330535889,
          -2.1561055183410645,
          -3.6858906745910645,
          2.8540611267089844,
          3.0743303298950195,
          0.8700804710388184,
          0.1970706284046173,
          -4.969152927398682
         ],
         "y": [
          4.613397121429443,
          4.918564319610596,
          4.460824966430664,
          1.039123296737671,
          3.934814214706421,
          -2.7271039485931396,
          -5.237762928009033,
          -4.673113822937012,
          2.75982666015625
         ],
         "z": [
          -0.30558738112449646,
          2.328577756881714,
          1.9679043292999268,
          1.1600247621536255,
          -2.9108946323394775,
          3.1739838123321533,
          0.9927932024002075,
          -3.2501087188720703,
          -2.751190662384033
         ]
        },
        {
         "hovertemplate": "color=Cathartes<br>TSNE1=%{x}<br>TSNE2=%{y}<br>TSNE3=%{z}<extra></extra>",
         "legendgroup": "Cathartes",
         "marker": {
          "color": "#109618",
          "symbol": "circle"
         },
         "mode": "markers",
         "name": "Cathartes",
         "scene": "scene",
         "showlegend": true,
         "type": "scatter3d",
         "x": [
          4.064150333404541
         ],
         "y": [
          7.550098896026611
         ],
         "z": [
          -2.1713714599609375
         ]
        },
        {
         "hovertemplate": "color=Catharus<br>TSNE1=%{x}<br>TSNE2=%{y}<br>TSNE3=%{z}<extra></extra>",
         "legendgroup": "Catharus",
         "marker": {
          "color": "#990099",
          "symbol": "circle"
         },
         "mode": "markers",
         "name": "Catharus",
         "scene": "scene",
         "showlegend": true,
         "type": "scatter3d",
         "x": [
          3.281869411468506,
          2.383892059326172,
          3.5964369773864746,
          3.5779049396514893,
          -1.1378690004348755,
          -6.479683876037598,
          -2.0108413696289062,
          3.00248646736145,
          3.5252022743225098,
          1.2751903533935547,
          4.932057857513428,
          4.694515705108643,
          -1.2325448989868164,
          -3.8427765369415283
         ],
         "y": [
          0.862873375415802,
          0.1718393862247467,
          0.9682340621948242,
          1.9091544151306152,
          -1.0036399364471436,
          -1.812355875968933,
          1.327203631401062,
          1.7495628595352173,
          2.711300849914551,
          -1.6918177604675293,
          3.8909308910369873,
          4.625335693359375,
          -2.7009401321411133,
          -2.7645981311798096
         ],
         "z": [
          0.6769638657569885,
          0.06503427773714066,
          1.2593601942062378,
          -0.22799170017242432,
          0.1190686821937561,
          3.1457889080047607,
          0.3700844943523407,
          2.112517833709717,
          2.1817195415496826,
          -1.1379445791244507,
          0.6010539531707764,
          -0.5705356597900391,
          2.3129537105560303,
          4.311071872711182
         ]
        },
        {
         "hovertemplate": "color=Celeus<br>TSNE1=%{x}<br>TSNE2=%{y}<br>TSNE3=%{z}<extra></extra>",
         "legendgroup": "Celeus",
         "marker": {
          "color": "#0099C6",
          "symbol": "circle"
         },
         "mode": "markers",
         "name": "Celeus",
         "scene": "scene",
         "showlegend": true,
         "type": "scatter3d",
         "x": [
          -5.896754741668701,
          -4.895169258117676,
          -5.407053470611572,
          4.498410224914551,
          -5.540472984313965,
          -2.000300645828247,
          1.2667077779769897,
          4.087942123413086,
          -1.207817792892456,
          -0.9303288459777832,
          3.903360366821289,
          -5.0829854011535645
         ],
         "y": [
          -5.487263202667236,
          2.953432559967041,
          1.927682876586914,
          -0.5978665351867676,
          -4.438304901123047,
          -0.9625270366668701,
          8.060164451599121,
          6.491537094116211,
          4.1509013175964355,
          7.579570770263672,
          3.90847110748291,
          4.135295391082764
         ],
         "z": [
          -4.494693756103516,
          4.314314365386963,
          1.3544658422470093,
          3.266592025756836,
          -4.3692216873168945,
          -2.094688892364502,
          3.7796716690063477,
          2.4164493083953857,
          4.343984127044678,
          4.420660972595215,
          3.7853240966796875,
          3.3645520210266113
         ]
        },
        {
         "hovertemplate": "color=Cephalopterus<br>TSNE1=%{x}<br>TSNE2=%{y}<br>TSNE3=%{z}<extra></extra>",
         "legendgroup": "Cephalopterus",
         "marker": {
          "color": "#DD4477",
          "symbol": "circle"
         },
         "mode": "markers",
         "name": "Cephalopterus",
         "scene": "scene",
         "showlegend": true,
         "type": "scatter3d",
         "x": [
          -6.473001956939697
         ],
         "y": [
          -2.475740909576416
         ],
         "z": [
          -1.352112054824829
         ]
        },
        {
         "hovertemplate": "color=Ceratopipra<br>TSNE1=%{x}<br>TSNE2=%{y}<br>TSNE3=%{z}<extra></extra>",
         "legendgroup": "Ceratopipra",
         "marker": {
          "color": "#66AA00",
          "symbol": "circle"
         },
         "mode": "markers",
         "name": "Ceratopipra",
         "scene": "scene",
         "showlegend": true,
         "type": "scatter3d",
         "x": [
          -4.341195106506348,
          -4.116331577301025,
          -0.21788088977336884,
          4.230996131896973,
          -2.155367851257324,
          -7.314934253692627
         ],
         "y": [
          2.5299601554870605,
          -6.129649639129639,
          6.597827434539795,
          1.765396237373352,
          0.08666893094778061,
          -1.5721468925476074
         ],
         "z": [
          2.741298198699951,
          -1.3180830478668213,
          4.848160743713379,
          3.9693424701690674,
          2.788705825805664,
          2.1033337116241455
         ]
        },
        {
         "hovertemplate": "color=Cercomacra<br>TSNE1=%{x}<br>TSNE2=%{y}<br>TSNE3=%{z}<extra></extra>",
         "legendgroup": "Cercomacra",
         "marker": {
          "color": "#B82E2E",
          "symbol": "circle"
         },
         "mode": "markers",
         "name": "Cercomacra",
         "scene": "scene",
         "showlegend": true,
         "type": "scatter3d",
         "x": [
          5.901421546936035,
          7.960214614868164,
          -2.082094430923462,
          -3.741320848464966,
          -2.081805467605591,
          -2.862438917160034
         ],
         "y": [
          1.7161903381347656,
          1.6197606325149536,
          4.19302225112915,
          2.669896125793457,
          4.173804759979248,
          6.758918762207031
         ],
         "z": [
          1.7207444906234741,
          -3.9114370346069336,
          2.02614426612854,
          1.3256964683532715,
          2.029146909713745,
          4.325054168701172
         ]
        },
        {
         "hovertemplate": "color=Cercomacroides<br>TSNE1=%{x}<br>TSNE2=%{y}<br>TSNE3=%{z}<extra></extra>",
         "legendgroup": "Cercomacroides",
         "marker": {
          "color": "#316395",
          "symbol": "circle"
         },
         "mode": "markers",
         "name": "Cercomacroides",
         "scene": "scene",
         "showlegend": true,
         "type": "scatter3d",
         "x": [
          -1.1739850044250488,
          -6.882428169250488,
          -6.162570476531982,
          -7.092028617858887,
          6.539092063903809,
          -0.8155558705329895,
          7.261740684509277,
          -1.6575939655303955,
          1.8437449932098389
         ],
         "y": [
          1.4207347631454468,
          -4.5284342765808105,
          -3.839224338531494,
          -1.197954535484314,
          -1.3653204441070557,
          2.0965099334716797,
          1.177627444267273,
          3.1566474437713623,
          5.103634834289551
         ],
         "z": [
          2.171685218811035,
          0.41181761026382446,
          0.9680212736129761,
          1.8997056484222412,
          -3.3341705799102783,
          4.444389343261719,
          0.9132707118988037,
          -0.1519034057855606,
          -1.9357361793518066
         ]
        },
        {
         "hovertemplate": "color=Certhiaxis<br>TSNE1=%{x}<br>TSNE2=%{y}<br>TSNE3=%{z}<extra></extra>",
         "legendgroup": "Certhiaxis",
         "marker": {
          "color": "#3366CC",
          "symbol": "circle"
         },
         "mode": "markers",
         "name": "Certhiaxis",
         "scene": "scene",
         "showlegend": true,
         "type": "scatter3d",
         "x": [
          3.2221295833587646,
          -5.581509113311768,
          -2.9897685050964355
         ],
         "y": [
          2.5532467365264893,
          2.2438673973083496,
          3.2605440616607666
         ],
         "z": [
          -1.2588059902191162,
          1.008618950843811,
          -3.913395881652832
         ]
        },
        {
         "hovertemplate": "color=Chaetocercus<br>TSNE1=%{x}<br>TSNE2=%{y}<br>TSNE3=%{z}<extra></extra>",
         "legendgroup": "Chaetocercus",
         "marker": {
          "color": "#DC3912",
          "symbol": "circle"
         },
         "mode": "markers",
         "name": "Chaetocercus",
         "scene": "scene",
         "showlegend": true,
         "type": "scatter3d",
         "x": [
          -3.4764153957366943
         ],
         "y": [
          -8.180703163146973
         ],
         "z": [
          -2.000840663909912
         ]
        },
        {
         "hovertemplate": "color=Chaetura<br>TSNE1=%{x}<br>TSNE2=%{y}<br>TSNE3=%{z}<extra></extra>",
         "legendgroup": "Chaetura",
         "marker": {
          "color": "#FF9900",
          "symbol": "circle"
         },
         "mode": "markers",
         "name": "Chaetura",
         "scene": "scene",
         "showlegend": true,
         "type": "scatter3d",
         "x": [
          1.1397740840911865,
          -3.264730930328369,
          1.4393272399902344,
          -2.25947904586792,
          -1.75721275806427,
          4.766403675079346,
          -6.696836471557617,
          4.079215049743652,
          -4.435292720794678,
          4.221039772033691,
          0.5598075985908508,
          2.2047250270843506
         ],
         "y": [
          -1.1104533672332764,
          0.4215054512023926,
          -1.3939648866653442,
          0.5845943689346313,
          -3.4151813983917236,
          0.35611286759376526,
          -1.7699261903762817,
          -6.700228214263916,
          0.9851270318031311,
          7.611777305603027,
          0.17347975075244904,
          -8.082621574401855
         ],
         "z": [
          -2.16209077835083,
          0.7015125751495361,
          2.01072359085083,
          -3.4714436531066895,
          -3.451458215713501,
          -1.9099775552749634,
          -0.692426323890686,
          -1.4553780555725098,
          -4.5113139152526855,
          -2.085594654083252,
          -2.6823501586914062,
          -2.6288223266601562
         ]
        },
        {
         "hovertemplate": "color=Chamaepetes<br>TSNE1=%{x}<br>TSNE2=%{y}<br>TSNE3=%{z}<extra></extra>",
         "legendgroup": "Chamaepetes",
         "marker": {
          "color": "#109618",
          "symbol": "circle"
         },
         "mode": "markers",
         "name": "Chamaepetes",
         "scene": "scene",
         "showlegend": true,
         "type": "scatter3d",
         "x": [
          6.944728851318359,
          -3.5834949016571045
         ],
         "y": [
          6.3914361000061035,
          -7.620612621307373
         ],
         "z": [
          -0.25241100788116455,
          -1.890665888786316
         ]
        },
        {
         "hovertemplate": "color=Chamaeza<br>TSNE1=%{x}<br>TSNE2=%{y}<br>TSNE3=%{z}<extra></extra>",
         "legendgroup": "Chamaeza",
         "marker": {
          "color": "#990099",
          "symbol": "circle"
         },
         "mode": "markers",
         "name": "Chamaeza",
         "scene": "scene",
         "showlegend": true,
         "type": "scatter3d",
         "x": [
          -2.2616827487945557,
          -2.2888119220733643,
          -2.758152723312378,
          -2.943505048751831
         ],
         "y": [
          7.130279064178467,
          6.993206024169922,
          -1.5601688623428345,
          6.246835231781006
         ],
         "z": [
          -2.8082516193389893,
          -2.7329554557800293,
          4.884682655334473,
          -4.0689897537231445
         ]
        },
        {
         "hovertemplate": "color=Charadrius<br>TSNE1=%{x}<br>TSNE2=%{y}<br>TSNE3=%{z}<extra></extra>",
         "legendgroup": "Charadrius",
         "marker": {
          "color": "#0099C6",
          "symbol": "circle"
         },
         "mode": "markers",
         "name": "Charadrius",
         "scene": "scene",
         "showlegend": true,
         "type": "scatter3d",
         "x": [
          -4.026834011077881,
          0.11266224086284637,
          -4.037264347076416,
          -1.5537004470825195,
          -3.980520725250244
         ],
         "y": [
          -7.062958240509033,
          -1.2290810346603394,
          -6.6803412437438965,
          -8.310551643371582,
          -8.083056449890137
         ],
         "z": [
          0.9902260899543762,
          -3.8945369720458984,
          1.2670257091522217,
          -2.9854772090911865,
          -0.9998120665550232
         ]
        },
        {
         "hovertemplate": "color=Chauna<br>TSNE1=%{x}<br>TSNE2=%{y}<br>TSNE3=%{z}<extra></extra>",
         "legendgroup": "Chauna",
         "marker": {
          "color": "#DD4477",
          "symbol": "circle"
         },
         "mode": "markers",
         "name": "Chauna",
         "scene": "scene",
         "showlegend": true,
         "type": "scatter3d",
         "x": [
          -5.608041286468506,
          -2.828369617462158
         ],
         "y": [
          -2.78539776802063,
          -1.0506312847137451
         ],
         "z": [
          3.285076856613159,
          4.920012474060059
         ]
        },
        {
         "hovertemplate": "color=Chelidoptera<br>TSNE1=%{x}<br>TSNE2=%{y}<br>TSNE3=%{z}<extra></extra>",
         "legendgroup": "Chelidoptera",
         "marker": {
          "color": "#66AA00",
          "symbol": "circle"
         },
         "mode": "markers",
         "name": "Chelidoptera",
         "scene": "scene",
         "showlegend": true,
         "type": "scatter3d",
         "x": [
          0.858930766582489,
          -4.498795986175537,
          -4.784642219543457
         ],
         "y": [
          1.590599536895752,
          -8.37128734588623,
          -5.31671667098999
         ],
         "z": [
          -3.2520394325256348,
          -3.5416505336761475,
          1.801544189453125
         ]
        },
        {
         "hovertemplate": "color=Chiroxiphia<br>TSNE1=%{x}<br>TSNE2=%{y}<br>TSNE3=%{z}<extra></extra>",
         "legendgroup": "Chiroxiphia",
         "marker": {
          "color": "#B82E2E",
          "symbol": "circle"
         },
         "mode": "markers",
         "name": "Chiroxiphia",
         "scene": "scene",
         "showlegend": true,
         "type": "scatter3d",
         "x": [
          -2.8752424716949463,
          4.595719337463379,
          -4.340168476104736,
          3.6777093410491943,
          -3.888108730316162
         ],
         "y": [
          -3.728067636489868,
          4.75184440612793,
          -0.6240360736846924,
          8.850127220153809,
          -5.834473133087158
         ],
         "z": [
          3.9275062084198,
          1.0022163391113281,
          5.126011848449707,
          3.180939197540283,
          -2.3566243648529053
         ]
        },
        {
         "hovertemplate": "color=Chlorestes<br>TSNE1=%{x}<br>TSNE2=%{y}<br>TSNE3=%{z}<extra></extra>",
         "legendgroup": "Chlorestes",
         "marker": {
          "color": "#316395",
          "symbol": "circle"
         },
         "mode": "markers",
         "name": "Chlorestes",
         "scene": "scene",
         "showlegend": true,
         "type": "scatter3d",
         "x": [
          4.500744342803955
         ],
         "y": [
          7.71931266784668
         ],
         "z": [
          -2.1164488792419434
         ]
        },
        {
         "hovertemplate": "color=Chloroceryle<br>TSNE1=%{x}<br>TSNE2=%{y}<br>TSNE3=%{z}<extra></extra>",
         "legendgroup": "Chloroceryle",
         "marker": {
          "color": "#3366CC",
          "symbol": "circle"
         },
         "mode": "markers",
         "name": "Chloroceryle",
         "scene": "scene",
         "showlegend": true,
         "type": "scatter3d",
         "x": [
          -0.42732933163642883,
          -4.948792457580566,
          4.068411350250244,
          -6.842870712280273,
          1.7541468143463135,
          -3.918102264404297,
          0.6925328373908997,
          -6.7281293869018555,
          -4.856927394866943,
          8.239805221557617,
          -0.9017601609230042,
          2.708291530609131,
          1.7374261617660522,
          -3.7757444381713867,
          -3.3143272399902344
         ],
         "y": [
          0.9144748449325562,
          -4.468277931213379,
          -5.440351486206055,
          -2.779555082321167,
          -8.178340911865234,
          -3.232435703277588,
          -4.549668788909912,
          -2.179943799972534,
          3.7364070415496826,
          1.4756138324737549,
          -2.742340326309204,
          -3.96543550491333,
          -4.3743577003479,
          -8.659208297729492,
          -5.56319522857666
         ],
         "z": [
          5.614930629730225,
          1.191114068031311,
          -1.1802866458892822,
          2.5394246578216553,
          -2.512739658355713,
          -3.0914220809936523,
          -5.673120498657227,
          1.7746307849884033,
          -4.540080547332764,
          -0.07110440731048584,
          -3.1803464889526367,
          2.797454357147217,
          -2.0902886390686035,
          -3.5272319316864014,
          1.8321073055267334
         ]
        },
        {
         "hovertemplate": "color=Chlorochrysa<br>TSNE1=%{x}<br>TSNE2=%{y}<br>TSNE3=%{z}<extra></extra>",
         "legendgroup": "Chlorochrysa",
         "marker": {
          "color": "#DC3912",
          "symbol": "circle"
         },
         "mode": "markers",
         "name": "Chlorochrysa",
         "scene": "scene",
         "showlegend": true,
         "type": "scatter3d",
         "x": [
          -1.9716347455978394,
          -3.5677621364593506,
          8.135931968688965
         ],
         "y": [
          -2.0114126205444336,
          -1.1501407623291016,
          0.23594766855239868
         ],
         "z": [
          -2.460409641265869,
          -3.338412284851074,
          -0.7838760018348694
         ]
        },
        {
         "hovertemplate": "color=Chlorophanes<br>TSNE1=%{x}<br>TSNE2=%{y}<br>TSNE3=%{z}<extra></extra>",
         "legendgroup": "Chlorophanes",
         "marker": {
          "color": "#FF9900",
          "symbol": "circle"
         },
         "mode": "markers",
         "name": "Chlorophanes",
         "scene": "scene",
         "showlegend": true,
         "type": "scatter3d",
         "x": [
          1.0468668937683105,
          7.009487628936768,
          -5.865971088409424,
          5.090374946594238
         ],
         "y": [
          -5.2366204261779785,
          -0.7158747911453247,
          -4.839836597442627,
          -4.705629348754883
         ],
         "z": [
          2.4697999954223633,
          -0.8602126240730286,
          -4.5480146408081055,
          -0.3787972927093506
         ]
        },
        {
         "hovertemplate": "color=Chlorophonia<br>TSNE1=%{x}<br>TSNE2=%{y}<br>TSNE3=%{z}<extra></extra>",
         "legendgroup": "Chlorophonia",
         "marker": {
          "color": "#109618",
          "symbol": "circle"
         },
         "mode": "markers",
         "name": "Chlorophonia",
         "scene": "scene",
         "showlegend": true,
         "type": "scatter3d",
         "x": [
          1.046164870262146,
          -1.313706398010254
         ],
         "y": [
          -1.9856008291244507,
          -5.108121871948242
         ],
         "z": [
          2.5573761463165283,
          2.6246960163116455
         ]
        },
        {
         "hovertemplate": "color=Chloropipo<br>TSNE1=%{x}<br>TSNE2=%{y}<br>TSNE3=%{z}<extra></extra>",
         "legendgroup": "Chloropipo",
         "marker": {
          "color": "#990099",
          "symbol": "circle"
         },
         "mode": "markers",
         "name": "Chloropipo",
         "scene": "scene",
         "showlegend": true,
         "type": "scatter3d",
         "x": [
          -6.835604190826416,
          -7.243399143218994,
          1.8732341527938843
         ],
         "y": [
          -5.392995834350586,
          -4.252327919006348,
          3.5693953037261963
         ],
         "z": [
          0.33433598279953003,
          1.6480674743652344,
          5.039069175720215
         ]
        },
        {
         "hovertemplate": "color=Chlorospingus<br>TSNE1=%{x}<br>TSNE2=%{y}<br>TSNE3=%{z}<extra></extra>",
         "legendgroup": "Chlorospingus",
         "marker": {
          "color": "#0099C6",
          "symbol": "circle"
         },
         "mode": "markers",
         "name": "Chlorospingus",
         "scene": "scene",
         "showlegend": true,
         "type": "scatter3d",
         "x": [
          6.720431804656982,
          3.784442663192749,
          0.8238357901573181,
          6.101010322570801,
          8.710426330566406,
          8.712312698364258,
          2.2584807872772217
         ],
         "y": [
          0.25297048687934875,
          2.7135870456695557,
          -4.681840419769287,
          1.811919927597046,
          4.573249816894531,
          4.36851167678833,
          0.24416984617710114
         ],
         "z": [
          -1.8069976568222046,
          -1.6435317993164062,
          3.2496161460876465,
          -1.32334303855896,
          -0.5950887203216553,
          -0.6494143605232239,
          -2.8759944438934326
         ]
        },
        {
         "hovertemplate": "color=Chlorostilbon<br>TSNE1=%{x}<br>TSNE2=%{y}<br>TSNE3=%{z}<extra></extra>",
         "legendgroup": "Chlorostilbon",
         "marker": {
          "color": "#DD4477",
          "symbol": "circle"
         },
         "mode": "markers",
         "name": "Chlorostilbon",
         "scene": "scene",
         "showlegend": true,
         "type": "scatter3d",
         "x": [
          -3.42419695854187,
          -3.3005025386810303
         ],
         "y": [
          -5.9440765380859375,
          -7.994396209716797
         ],
         "z": [
          -3.1310057640075684,
          -0.2958563268184662
         ]
        },
        {
         "hovertemplate": "color=Chlorothraupis<br>TSNE1=%{x}<br>TSNE2=%{y}<br>TSNE3=%{z}<extra></extra>",
         "legendgroup": "Chlorothraupis",
         "marker": {
          "color": "#66AA00",
          "symbol": "circle"
         },
         "mode": "markers",
         "name": "Chlorothraupis",
         "scene": "scene",
         "showlegend": true,
         "type": "scatter3d",
         "x": [
          -0.7111499905586243,
          -3.9395370483398438,
          0.9026098847389221
         ],
         "y": [
          -0.841755747795105,
          -3.4223737716674805,
          -5.37627649307251
         ],
         "z": [
          -4.078594207763672,
          0.368661105632782,
          -5.9235334396362305
         ]
        },
        {
         "hovertemplate": "color=Chondrohierax<br>TSNE1=%{x}<br>TSNE2=%{y}<br>TSNE3=%{z}<extra></extra>",
         "legendgroup": "Chondrohierax",
         "marker": {
          "color": "#B82E2E",
          "symbol": "circle"
         },
         "mode": "markers",
         "name": "Chondrohierax",
         "scene": "scene",
         "showlegend": true,
         "type": "scatter3d",
         "x": [
          -1.027040719985962,
          1.6060528755187988,
          -6.5890326499938965
         ],
         "y": [
          7.294240474700928,
          -4.050701141357422,
          -5.414815425872803
         ],
         "z": [
          4.576493740081787,
          -5.793430328369141,
          -3.2462408542633057
         ]
        },
        {
         "hovertemplate": "color=Chordeiles<br>TSNE1=%{x}<br>TSNE2=%{y}<br>TSNE3=%{z}<extra></extra>",
         "legendgroup": "Chordeiles",
         "marker": {
          "color": "#316395",
          "symbol": "circle"
         },
         "mode": "markers",
         "name": "Chordeiles",
         "scene": "scene",
         "showlegend": true,
         "type": "scatter3d",
         "x": [
          0.6309654116630554,
          -1.7966558933258057,
          -6.650846481323242,
          -1.0745384693145752,
          5.975793838500977,
          -5.099318981170654
         ],
         "y": [
          -4.0967254638671875,
          -4.811992645263672,
          -6.865854263305664,
          0.4310210049152374,
          -0.5839217901229858,
          -8.356886863708496
         ],
         "z": [
          -0.17654137313365936,
          2.863844156265259,
          -2.3960113525390625,
          5.9742112159729,
          -3.1708457469940186,
          -3.7299046516418457
         ]
        },
        {
         "hovertemplate": "color=Chroicocephalus<br>TSNE1=%{x}<br>TSNE2=%{y}<br>TSNE3=%{z}<extra></extra>",
         "legendgroup": "Chroicocephalus",
         "marker": {
          "color": "#3366CC",
          "symbol": "circle"
         },
         "mode": "markers",
         "name": "Chroicocephalus",
         "scene": "scene",
         "showlegend": true,
         "type": "scatter3d",
         "x": [
          0.5029930472373962,
          5.072361946105957,
          4.715242385864258
         ],
         "y": [
          0.6658213138580322,
          -0.866258978843689,
          -3.8506932258605957
         ],
         "z": [
          -3.3145432472229004,
          3.228942632675171,
          0.7136653065681458
         ]
        },
        {
         "hovertemplate": "color=Chrysuronia<br>TSNE1=%{x}<br>TSNE2=%{y}<br>TSNE3=%{z}<extra></extra>",
         "legendgroup": "Chrysuronia",
         "marker": {
          "color": "#DC3912",
          "symbol": "circle"
         },
         "mode": "markers",
         "name": "Chrysuronia",
         "scene": "scene",
         "showlegend": true,
         "type": "scatter3d",
         "x": [
          1.1974509954452515,
          -0.08827081322669983
         ],
         "y": [
          2.9633736610412598,
          -3.015462636947632
         ],
         "z": [
          0.8886651396751404,
          2.3157551288604736
         ]
        },
        {
         "hovertemplate": "color=Ciconia<br>TSNE1=%{x}<br>TSNE2=%{y}<br>TSNE3=%{z}<extra></extra>",
         "legendgroup": "Ciconia",
         "marker": {
          "color": "#FF9900",
          "symbol": "circle"
         },
         "mode": "markers",
         "name": "Ciconia",
         "scene": "scene",
         "showlegend": true,
         "type": "scatter3d",
         "x": [
          2.864663600921631
         ],
         "y": [
          -7.303741931915283
         ],
         "z": [
          -1.6809953451156616
         ]
        },
        {
         "hovertemplate": "color=Cinclodes<br>TSNE1=%{x}<br>TSNE2=%{y}<br>TSNE3=%{z}<extra></extra>",
         "legendgroup": "Cinclodes",
         "marker": {
          "color": "#109618",
          "symbol": "circle"
         },
         "mode": "markers",
         "name": "Cinclodes",
         "scene": "scene",
         "showlegend": true,
         "type": "scatter3d",
         "x": [
          -0.3929181396961212,
          -2.7211949825286865
         ],
         "y": [
          2.0772016048431396,
          -6.004889011383057
         ],
         "z": [
          -3.3238065242767334,
          -2.4089787006378174
         ]
        },
        {
         "hovertemplate": "color=Cinnycerthia<br>TSNE1=%{x}<br>TSNE2=%{y}<br>TSNE3=%{z}<extra></extra>",
         "legendgroup": "Cinnycerthia",
         "marker": {
          "color": "#990099",
          "symbol": "circle"
         },
         "mode": "markers",
         "name": "Cinnycerthia",
         "scene": "scene",
         "showlegend": true,
         "type": "scatter3d",
         "x": [
          2.933396339416504,
          8.936904907226562,
          5.860169887542725
         ],
         "y": [
          0.32612982392311096,
          2.5072999000549316,
          -0.7522516846656799
         ],
         "z": [
          0.25839298963546753,
          -2.2770466804504395,
          -2.8060061931610107
         ]
        },
        {
         "hovertemplate": "color=Circus<br>TSNE1=%{x}<br>TSNE2=%{y}<br>TSNE3=%{z}<extra></extra>",
         "legendgroup": "Circus",
         "marker": {
          "color": "#0099C6",
          "symbol": "circle"
         },
         "mode": "markers",
         "name": "Circus",
         "scene": "scene",
         "showlegend": true,
         "type": "scatter3d",
         "x": [
          2.4001219272613525,
          2.7012298107147217
         ],
         "y": [
          -4.060090065002441,
          7.346322059631348
         ],
         "z": [
          2.8061909675598145,
          2.9656550884246826
         ]
        },
        {
         "hovertemplate": "color=Cissopis<br>TSNE1=%{x}<br>TSNE2=%{y}<br>TSNE3=%{z}<extra></extra>",
         "legendgroup": "Cissopis",
         "marker": {
          "color": "#DD4477",
          "symbol": "circle"
         },
         "mode": "markers",
         "name": "Cissopis",
         "scene": "scene",
         "showlegend": true,
         "type": "scatter3d",
         "x": [
          -5.02044153213501,
          5.099689960479736,
          -0.003157320898026228
         ],
         "y": [
          -7.2529706954956055,
          -2.1971116065979004,
          -3.771289825439453
         ],
         "z": [
          -3.7111599445343018,
          0.7050155401229858,
          -0.8062559366226196
         ]
        },
        {
         "hovertemplate": "color=Claravis<br>TSNE1=%{x}<br>TSNE2=%{y}<br>TSNE3=%{z}<extra></extra>",
         "legendgroup": "Claravis",
         "marker": {
          "color": "#66AA00",
          "symbol": "circle"
         },
         "mode": "markers",
         "name": "Claravis",
         "scene": "scene",
         "showlegend": true,
         "type": "scatter3d",
         "x": [
          0.25851911306381226
         ],
         "y": [
          -5.182544708251953
         ],
         "z": [
          0.4542527496814728
         ]
        },
        {
         "hovertemplate": "color=Clibanornis<br>TSNE1=%{x}<br>TSNE2=%{y}<br>TSNE3=%{z}<extra></extra>",
         "legendgroup": "Clibanornis",
         "marker": {
          "color": "#B82E2E",
          "symbol": "circle"
         },
         "mode": "markers",
         "name": "Clibanornis",
         "scene": "scene",
         "showlegend": true,
         "type": "scatter3d",
         "x": [
          7.106556415557861,
          -3.5737991333007812,
          -3.9777910709381104,
          4.108383655548096
         ],
         "y": [
          6.106370449066162,
          -3.3105099201202393,
          -3.264458656311035,
          2.2833142280578613
         ],
         "z": [
          -0.4656409025192261,
          0.3922821581363678,
          -2.972986936569214,
          0.13188564777374268
         ]
        },
        {
         "hovertemplate": "color=Cnemotriccus<br>TSNE1=%{x}<br>TSNE2=%{y}<br>TSNE3=%{z}<extra></extra>",
         "legendgroup": "Cnemotriccus",
         "marker": {
          "color": "#316395",
          "symbol": "circle"
         },
         "mode": "markers",
         "name": "Cnemotriccus",
         "scene": "scene",
         "showlegend": true,
         "type": "scatter3d",
         "x": [
          -3.939871311187744,
          -2.521498441696167
         ],
         "y": [
          2.2454092502593994,
          6.656411647796631
         ],
         "z": [
          1.989924430847168,
          4.780684947967529
         ]
        },
        {
         "hovertemplate": "color=Cnipodectes<br>TSNE1=%{x}<br>TSNE2=%{y}<br>TSNE3=%{z}<extra></extra>",
         "legendgroup": "Cnipodectes",
         "marker": {
          "color": "#3366CC",
          "symbol": "circle"
         },
         "mode": "markers",
         "name": "Cnipodectes",
         "scene": "scene",
         "showlegend": true,
         "type": "scatter3d",
         "x": [
          -2.1371700763702393,
          3.187629222869873,
          7.991644859313965,
          1.4891496896743774
         ],
         "y": [
          6.455934047698975,
          7.915492057800293,
          1.430433988571167,
          5.219470500946045
         ],
         "z": [
          4.872631549835205,
          3.160979986190796,
          -3.7994961738586426,
          4.0832977294921875
         ]
        },
        {
         "hovertemplate": "color=Coccycua<br>TSNE1=%{x}<br>TSNE2=%{y}<br>TSNE3=%{z}<extra></extra>",
         "legendgroup": "Coccycua",
         "marker": {
          "color": "#DC3912",
          "symbol": "circle"
         },
         "mode": "markers",
         "name": "Coccycua",
         "scene": "scene",
         "showlegend": true,
         "type": "scatter3d",
         "x": [
          -5.248117446899414,
          6.344969272613525,
          -3.814223527908325,
          0.28494828939437866
         ],
         "y": [
          0.9290948510169983,
          1.2156193256378174,
          -5.679664611816406,
          5.876305103302002
         ],
         "z": [
          -4.415031909942627,
          1.3128489255905151,
          -3.3871877193450928,
          5.035414695739746
         ]
        },
        {
         "hovertemplate": "color=Coccyzus<br>TSNE1=%{x}<br>TSNE2=%{y}<br>TSNE3=%{z}<extra></extra>",
         "legendgroup": "Coccyzus",
         "marker": {
          "color": "#FF9900",
          "symbol": "circle"
         },
         "mode": "markers",
         "name": "Coccyzus",
         "scene": "scene",
         "showlegend": true,
         "type": "scatter3d",
         "x": [
          -4.469725608825684,
          -3.1247305870056152,
          -3.9204635620117188,
          7.176238536834717,
          6.704992771148682,
          2.155202865600586,
          -5.026451587677002
         ],
         "y": [
          4.6564812660217285,
          -5.467776775360107,
          -2.892320156097412,
          5.179123878479004,
          1.9424593448638916,
          -4.205007553100586,
          3.8044934272766113
         ],
         "z": [
          -4.549131870269775,
          -3.5270519256591797,
          -3.560786724090576,
          -0.8397899270057678,
          -1.257229208946228,
          -0.03270956873893738,
          1.983661413192749
         ]
        },
        {
         "hovertemplate": "color=Cochlearius<br>TSNE1=%{x}<br>TSNE2=%{y}<br>TSNE3=%{z}<extra></extra>",
         "legendgroup": "Cochlearius",
         "marker": {
          "color": "#109618",
          "symbol": "circle"
         },
         "mode": "markers",
         "name": "Cochlearius",
         "scene": "scene",
         "showlegend": true,
         "type": "scatter3d",
         "x": [
          -0.21370269358158112,
          -3.202533483505249,
          1.111851453781128
         ],
         "y": [
          -7.6283721923828125,
          -4.724132537841797,
          1.0344152450561523
         ],
         "z": [
          -1.12974214553833,
          -0.8772698640823364,
          -2.9755897521972656
         ]
        },
        {
         "hovertemplate": "color=Coeligena<br>TSNE1=%{x}<br>TSNE2=%{y}<br>TSNE3=%{z}<extra></extra>",
         "legendgroup": "Coeligena",
         "marker": {
          "color": "#990099",
          "symbol": "circle"
         },
         "mode": "markers",
         "name": "Coeligena",
         "scene": "scene",
         "showlegend": true,
         "type": "scatter3d",
         "x": [
          8.789158821105957,
          7.952852249145508,
          1.6693447828292847,
          7.094473838806152,
          -3.2789714336395264
         ],
         "y": [
          3.569450616836548,
          0.1541539877653122,
          -7.586703300476074,
          -1.1618388891220093,
          -8.890158653259277
         ],
         "z": [
          -1.0215625762939453,
          -0.7700790166854858,
          -2.766890525817871,
          -0.44732826948165894,
          -4.252942085266113
         ]
        },
        {
         "hovertemplate": "color=Coereba<br>TSNE1=%{x}<br>TSNE2=%{y}<br>TSNE3=%{z}<extra></extra>",
         "legendgroup": "Coereba",
         "marker": {
          "color": "#0099C6",
          "symbol": "circle"
         },
         "mode": "markers",
         "name": "Coereba",
         "scene": "scene",
         "showlegend": true,
         "type": "scatter3d",
         "x": [
          -0.3830626904964447,
          -3.6120808124542236,
          4.175803184509277
         ],
         "y": [
          2.7570924758911133,
          -0.08158541470766068,
          -4.917910575866699
         ],
         "z": [
          -1.9140690565109253,
          -0.27138710021972656,
          -0.47827860713005066
         ]
        },
        {
         "hovertemplate": "color=Colaptes<br>TSNE1=%{x}<br>TSNE2=%{y}<br>TSNE3=%{z}<extra></extra>",
         "legendgroup": "Colaptes",
         "marker": {
          "color": "#DD4477",
          "symbol": "circle"
         },
         "mode": "markers",
         "name": "Colaptes",
         "scene": "scene",
         "showlegend": true,
         "type": "scatter3d",
         "x": [
          -5.352226734161377,
          -3.638976812362671,
          -5.014347553253174,
          -4.180075645446777,
          -6.534238815307617,
          -1.6492115259170532,
          2.870556354522705,
          -1.5671751499176025,
          2.8522703647613525,
          2.5722620487213135,
          -6.842300891876221,
          3.4510321617126465,
          -6.248477935791016,
          -4.199991226196289,
          0.3364575207233429,
          -1.9496841430664062
         ],
         "y": [
          2.5830435752868652,
          -4.1682353019714355,
          3.432528257369995,
          -6.381590843200684,
          -2.242093563079834,
          -3.866246461868286,
          -1.7855173349380493,
          -7.135888576507568,
          -4.231633186340332,
          -8.036294937133789,
          -6.753170967102051,
          5.885634899139404,
          -1.5005075931549072,
          -6.3297810554504395,
          -7.712532043457031,
          -7.853363513946533
         ],
         "z": [
          -4.520279884338379,
          -4.160460472106934,
          -4.722002983093262,
          0.9547158479690552,
          -2.23091721534729,
          -3.0080816745758057,
          3.379664421081543,
          -0.39459818601608276,
          -6.025661468505859,
          -2.472092628479004,
          -1.6416689157485962,
          1.4335565567016602,
          -3.6846842765808105,
          0.04405338689684868,
          -1.347815990447998,
          -1.864721655845642
         ]
        },
        {
         "hovertemplate": "color=Colibri<br>TSNE1=%{x}<br>TSNE2=%{y}<br>TSNE3=%{z}<extra></extra>",
         "legendgroup": "Colibri",
         "marker": {
          "color": "#66AA00",
          "symbol": "circle"
         },
         "mode": "markers",
         "name": "Colibri",
         "scene": "scene",
         "showlegend": true,
         "type": "scatter3d",
         "x": [
          1.132764458656311,
          8.66108512878418,
          5.027176380157471,
          -5.33159065246582,
          -0.0498393289744854,
          3.9772000312805176
         ],
         "y": [
          -4.485311031341553,
          3.6564087867736816,
          -4.167755126953125,
          1.5661954879760742,
          3.264003038406372,
          7.471468925476074
         ],
         "z": [
          -2.458245277404785,
          -0.7221340537071228,
          -1.4146292209625244,
          -4.058566570281982,
          -1.7567825317382812,
          -2.0565550327301025
         ]
        },
        {
         "hovertemplate": "color=Colonia<br>TSNE1=%{x}<br>TSNE2=%{y}<br>TSNE3=%{z}<extra></extra>",
         "legendgroup": "Colonia",
         "marker": {
          "color": "#B82E2E",
          "symbol": "circle"
         },
         "mode": "markers",
         "name": "Colonia",
         "scene": "scene",
         "showlegend": true,
         "type": "scatter3d",
         "x": [
          -6.5724992752075195,
          2.2675232887268066
         ],
         "y": [
          -6.865801811218262,
          -2.7266478538513184
         ],
         "z": [
          -2.6077332496643066,
          1.477919101715088
         ]
        },
        {
         "hovertemplate": "color=Columba<br>TSNE1=%{x}<br>TSNE2=%{y}<br>TSNE3=%{z}<extra></extra>",
         "legendgroup": "Columba",
         "marker": {
          "color": "#316395",
          "symbol": "circle"
         },
         "mode": "markers",
         "name": "Columba",
         "scene": "scene",
         "showlegend": true,
         "type": "scatter3d",
         "x": [
          1.7001585960388184,
          2.3346877098083496
         ],
         "y": [
          -4.053971767425537,
          -2.8352010250091553
         ],
         "z": [
          -2.01859974861145,
          -2.3264880180358887
         ]
        },
        {
         "hovertemplate": "color=Columbina<br>TSNE1=%{x}<br>TSNE2=%{y}<br>TSNE3=%{z}<extra></extra>",
         "legendgroup": "Columbina",
         "marker": {
          "color": "#3366CC",
          "symbol": "circle"
         },
         "mode": "markers",
         "name": "Columbina",
         "scene": "scene",
         "showlegend": true,
         "type": "scatter3d",
         "x": [
          6.507907390594482,
          -3.4995675086975098,
          0.5009779930114746
         ],
         "y": [
          2.197457790374756,
          -8.756728172302246,
          -6.090341567993164
         ],
         "z": [
          1.6258680820465088,
          -4.055476665496826,
          -1.7285360097885132
         ]
        },
        {
         "hovertemplate": "color=Conioptilon<br>TSNE1=%{x}<br>TSNE2=%{y}<br>TSNE3=%{z}<extra></extra>",
         "legendgroup": "Conioptilon",
         "marker": {
          "color": "#DC3912",
          "symbol": "circle"
         },
         "mode": "markers",
         "name": "Conioptilon",
         "scene": "scene",
         "showlegend": true,
         "type": "scatter3d",
         "x": [
          -1.5625215768814087,
          1.0405302047729492
         ],
         "y": [
          -2.721519947052002,
          -1.273755431175232
         ],
         "z": [
          1.9136784076690674,
          -2.0987398624420166
         ]
        },
        {
         "hovertemplate": "color=Conirostrum<br>TSNE1=%{x}<br>TSNE2=%{y}<br>TSNE3=%{z}<extra></extra>",
         "legendgroup": "Conirostrum",
         "marker": {
          "color": "#FF9900",
          "symbol": "circle"
         },
         "mode": "markers",
         "name": "Conirostrum",
         "scene": "scene",
         "showlegend": true,
         "type": "scatter3d",
         "x": [
          1.7179423570632935,
          -2.151926040649414,
          -0.9913036823272705,
          -2.819769859313965,
          2.8819735050201416,
          3.9801766872406006,
          -0.1255476176738739
         ],
         "y": [
          -4.2770280838012695,
          -5.348052024841309,
          -6.698851585388184,
          -4.95999002456665,
          -3.86777400970459,
          -3.7917048931121826,
          3.166954517364502
         ],
         "z": [
          -2.27573561668396,
          3.028367280960083,
          -0.5007361769676208,
          -0.8392700552940369,
          2.7352445125579834,
          -0.25287947058677673,
          -1.9672521352767944
         ]
        },
        {
         "hovertemplate": "color=Conopias<br>TSNE1=%{x}<br>TSNE2=%{y}<br>TSNE3=%{z}<extra></extra>",
         "legendgroup": "Conopias",
         "marker": {
          "color": "#109618",
          "symbol": "circle"
         },
         "mode": "markers",
         "name": "Conopias",
         "scene": "scene",
         "showlegend": true,
         "type": "scatter3d",
         "x": [
          -3.758014678955078,
          -6.7515363693237305,
          -3.6840293407440186,
          6.489880084991455,
          6.866769313812256
         ],
         "y": [
          -2.0674307346343994,
          -2.030473470687866,
          -0.34311679005622864,
          -3.4245493412017822,
          -0.8941534757614136
         ],
         "z": [
          -3.1877641677856445,
          2.9157185554504395,
          -3.16835880279541,
          -0.8274718523025513,
          -3.658695936203003
         ]
        },
        {
         "hovertemplate": "color=Conopophaga<br>TSNE1=%{x}<br>TSNE2=%{y}<br>TSNE3=%{z}<extra></extra>",
         "legendgroup": "Conopophaga",
         "marker": {
          "color": "#990099",
          "symbol": "circle"
         },
         "mode": "markers",
         "name": "Conopophaga",
         "scene": "scene",
         "showlegend": true,
         "type": "scatter3d",
         "x": [
          2.6492888927459717,
          -3.448183059692383,
          0.506013035774231,
          3.9239890575408936,
          -1.4100522994995117
         ],
         "y": [
          -3.4113214015960693,
          -5.303234100341797,
          -4.4734578132629395,
          2.6858553886413574,
          0.9772996306419373
         ],
         "z": [
          0.5437642335891724,
          1.8291553258895874,
          3.198176383972168,
          3.808248281478882,
          5.802837371826172
         ]
        },
        {
         "hovertemplate": "color=Conothraupis<br>TSNE1=%{x}<br>TSNE2=%{y}<br>TSNE3=%{z}<extra></extra>",
         "legendgroup": "Conothraupis",
         "marker": {
          "color": "#0099C6",
          "symbol": "circle"
         },
         "mode": "markers",
         "name": "Conothraupis",
         "scene": "scene",
         "showlegend": true,
         "type": "scatter3d",
         "x": [
          -1.843241572380066,
          0.6759635806083679
         ],
         "y": [
          -4.824472904205322,
          4.474173069000244
         ],
         "z": [
          -1.2153174877166748,
          5.152719020843506
         ]
        },
        {
         "hovertemplate": "color=Contopus<br>TSNE1=%{x}<br>TSNE2=%{y}<br>TSNE3=%{z}<extra></extra>",
         "legendgroup": "Contopus",
         "marker": {
          "color": "#DD4477",
          "symbol": "circle"
         },
         "mode": "markers",
         "name": "Contopus",
         "scene": "scene",
         "showlegend": true,
         "type": "scatter3d",
         "x": [
          3.7357351779937744,
          -3.8410637378692627,
          2.559452772140503,
          8.036269187927246,
          7.350944995880127,
          -6.875114440917969,
          -1.327978491783142,
          1.4756593704223633,
          -3.555783748626709,
          -1.7778505086898804,
          4.030033588409424
         ],
         "y": [
          -1.1940704584121704,
          -0.6195530891418457,
          0.39732250571250916,
          -1.607596516609192,
          5.966255187988281,
          -4.049561023712158,
          -1.5962082147598267,
          -0.38186731934547424,
          -3.5701940059661865,
          -2.672002077102661,
          6.740029335021973
         ],
         "z": [
          -0.518018364906311,
          -0.019994821399450302,
          -0.47929927706718445,
          -0.40175095200538635,
          0.7366491556167603,
          1.6271182298660278,
          3.466263771057129,
          -2.278380870819092,
          0.06753343343734741,
          1.877160906791687,
          2.359356164932251
         ]
        },
        {
         "hovertemplate": "color=Coragyps<br>TSNE1=%{x}<br>TSNE2=%{y}<br>TSNE3=%{z}<extra></extra>",
         "legendgroup": "Coragyps",
         "marker": {
          "color": "#66AA00",
          "symbol": "circle"
         },
         "mode": "markers",
         "name": "Coragyps",
         "scene": "scene",
         "showlegend": true,
         "type": "scatter3d",
         "x": [
          -3.727436065673828
         ],
         "y": [
          -1.6099977493286133
         ],
         "z": [
          -3.4369897842407227
         ]
        },
        {
         "hovertemplate": "color=Coryphaspiza<br>TSNE1=%{x}<br>TSNE2=%{y}<br>TSNE3=%{z}<extra></extra>",
         "legendgroup": "Coryphaspiza",
         "marker": {
          "color": "#B82E2E",
          "symbol": "circle"
         },
         "mode": "markers",
         "name": "Coryphaspiza",
         "scene": "scene",
         "showlegend": true,
         "type": "scatter3d",
         "x": [
          -5.0432844161987305
         ],
         "y": [
          -2.953623056411743
         ],
         "z": [
          3.0901706218719482
         ]
        },
        {
         "hovertemplate": "color=Corythopis<br>TSNE1=%{x}<br>TSNE2=%{y}<br>TSNE3=%{z}<extra></extra>",
         "legendgroup": "Corythopis",
         "marker": {
          "color": "#316395",
          "symbol": "circle"
         },
         "mode": "markers",
         "name": "Corythopis",
         "scene": "scene",
         "showlegend": true,
         "type": "scatter3d",
         "x": [
          2.76493763923645
         ],
         "y": [
          7.471836090087891
         ],
         "z": [
          3.3101353645324707
         ]
        },
        {
         "hovertemplate": "color=Cotinga<br>TSNE1=%{x}<br>TSNE2=%{y}<br>TSNE3=%{z}<extra></extra>",
         "legendgroup": "Cotinga",
         "marker": {
          "color": "#3366CC",
          "symbol": "circle"
         },
         "mode": "markers",
         "name": "Cotinga",
         "scene": "scene",
         "showlegend": true,
         "type": "scatter3d",
         "x": [
          -7.055810451507568,
          -6.902194023132324,
          -6.845946311950684
         ],
         "y": [
          -5.708501815795898,
          -2.9792885780334473,
          -4.1277971267700195
         ],
         "z": [
          0.21668870747089386,
          2.725684881210327,
          0.9010741710662842
         ]
        },
        {
         "hovertemplate": "color=Cranioleuca<br>TSNE1=%{x}<br>TSNE2=%{y}<br>TSNE3=%{z}<extra></extra>",
         "legendgroup": "Cranioleuca",
         "marker": {
          "color": "#DC3912",
          "symbol": "circle"
         },
         "mode": "markers",
         "name": "Cranioleuca",
         "scene": "scene",
         "showlegend": true,
         "type": "scatter3d",
         "x": [
          1.4919073581695557,
          1.348556637763977,
          -0.6932693123817444,
          8.237244606018066,
          2.4373362064361572,
          2.706087589263916,
          -3.072978973388672,
          6.143864631652832,
          5.885168075561523,
          -1.853926420211792
         ],
         "y": [
          3.1525402069091797,
          -4.558364391326904,
          4.253775596618652,
          1.583906650543213,
          3.6868503093719482,
          -1.7278473377227783,
          -0.8818491697311401,
          4.168846130371094,
          4.018078804016113,
          -4.682586669921875
         ],
         "z": [
          -0.7387822270393372,
          2.91913104057312,
          4.295297145843506,
          -5.819989204406738,
          -1.0632073879241943,
          3.769859552383423,
          0.8332698941230774,
          -1.5168992280960083,
          0.3173512816429138,
          -1.1375682353973389
         ]
        },
        {
         "hovertemplate": "color=Crax<br>TSNE1=%{x}<br>TSNE2=%{y}<br>TSNE3=%{z}<extra></extra>",
         "legendgroup": "Crax",
         "marker": {
          "color": "#FF9900",
          "symbol": "circle"
         },
         "mode": "markers",
         "name": "Crax",
         "scene": "scene",
         "showlegend": true,
         "type": "scatter3d",
         "x": [
          1.0145695209503174
         ],
         "y": [
          -2.674978494644165
         ],
         "z": [
          -0.7084729075431824
         ]
        },
        {
         "hovertemplate": "color=Creurgops<br>TSNE1=%{x}<br>TSNE2=%{y}<br>TSNE3=%{z}<extra></extra>",
         "legendgroup": "Creurgops",
         "marker": {
          "color": "#109618",
          "symbol": "circle"
         },
         "mode": "markers",
         "name": "Creurgops",
         "scene": "scene",
         "showlegend": true,
         "type": "scatter3d",
         "x": [
          4.237917423248291
         ],
         "y": [
          1.5905863046646118
         ],
         "z": [
          4.216033458709717
         ]
        },
        {
         "hovertemplate": "color=Crotophaga<br>TSNE1=%{x}<br>TSNE2=%{y}<br>TSNE3=%{z}<extra></extra>",
         "legendgroup": "Crotophaga",
         "marker": {
          "color": "#990099",
          "symbol": "circle"
         },
         "mode": "markers",
         "name": "Crotophaga",
         "scene": "scene",
         "showlegend": true,
         "type": "scatter3d",
         "x": [
          3.0840394496917725,
          2.064255475997925,
          2.866509437561035
         ],
         "y": [
          3.2281394004821777,
          -0.0970216616988182,
          5.924853801727295
         ],
         "z": [
          3.2470507621765137,
          -0.5791062712669373,
          4.357799053192139
         ]
        },
        {
         "hovertemplate": "color=Cryptopipo<br>TSNE1=%{x}<br>TSNE2=%{y}<br>TSNE3=%{z}<extra></extra>",
         "legendgroup": "Cryptopipo",
         "marker": {
          "color": "#0099C6",
          "symbol": "circle"
         },
         "mode": "markers",
         "name": "Cryptopipo",
         "scene": "scene",
         "showlegend": true,
         "type": "scatter3d",
         "x": [
          3.8679051399230957
         ],
         "y": [
          1.3547415733337402
         ],
         "z": [
          2.562359094619751
         ]
        },
        {
         "hovertemplate": "color=Crypturellus<br>TSNE1=%{x}<br>TSNE2=%{y}<br>TSNE3=%{z}<extra></extra>",
         "legendgroup": "Crypturellus",
         "marker": {
          "color": "#DD4477",
          "symbol": "circle"
         },
         "mode": "markers",
         "name": "Crypturellus",
         "scene": "scene",
         "showlegend": true,
         "type": "scatter3d",
         "x": [
          -1.033821702003479,
          3.327047348022461,
          6.8282670974731445,
          0.45586585998535156,
          -0.7572298645973206,
          -1.656404733657837,
          2.2070152759552,
          3.920027732849121,
          6.041438579559326,
          0.851426899433136,
          -2.7385435104370117,
          -1.980769157409668,
          4.799830436706543,
          2.153691291809082,
          -1.1766856908798218,
          -4.457057952880859,
          0.6503111124038696,
          -6.577226638793945
         ],
         "y": [
          9.22876262664795,
          0.12861277163028717,
          6.584293365478516,
          -4.962340354919434,
          -0.9723243713378906,
          6.920101642608643,
          6.163919925689697,
          -5.318751335144043,
          -0.6567279696464539,
          -0.9739410877227783,
          2.910041570663452,
          3.69685697555542,
          4.66849946975708,
          5.780766487121582,
          8.641393661499023,
          4.690124034881592,
          3.7555110454559326,
          -0.4902690649032593
         ],
         "z": [
          3.81097149848938,
          -2.5565316677093506,
          0.34353718161582947,
          -3.2812211513519287,
          0.4167088568210602,
          4.784401893615723,
          4.21951961517334,
          -0.6392748951911926,
          -0.05937320739030838,
          -3.4496893882751465,
          3.5602376461029053,
          4.077818393707275,
          -0.5695979595184326,
          4.146876335144043,
          3.4712092876434326,
          -4.50673770904541,
          2.693978786468506,
          1.3180214166641235
         ]
        },
        {
         "hovertemplate": "color=Cyanerpes<br>TSNE1=%{x}<br>TSNE2=%{y}<br>TSNE3=%{z}<extra></extra>",
         "legendgroup": "Cyanerpes",
         "marker": {
          "color": "#66AA00",
          "symbol": "circle"
         },
         "mode": "markers",
         "name": "Cyanerpes",
         "scene": "scene",
         "showlegend": true,
         "type": "scatter3d",
         "x": [
          6.874337196350098,
          2.1070494651794434,
          3.709456443786621,
          1.2648285627365112
         ],
         "y": [
          2.0240445137023926,
          -1.9554661512374878,
          -2.807609796524048,
          -2.085148811340332
         ],
         "z": [
          -0.6095004677772522,
          -2.1183359622955322,
          2.3558876514434814,
          -1.1959805488586426
         ]
        },
        {
         "hovertemplate": "color=Cyanocorax<br>TSNE1=%{x}<br>TSNE2=%{y}<br>TSNE3=%{z}<extra></extra>",
         "legendgroup": "Cyanocorax",
         "marker": {
          "color": "#B82E2E",
          "symbol": "circle"
         },
         "mode": "markers",
         "name": "Cyanocorax",
         "scene": "scene",
         "showlegend": true,
         "type": "scatter3d",
         "x": [
          3.0316224098205566,
          -1.2846019268035889,
          3.8825786113739014,
          -1.095117211341858,
          8.297725677490234,
          -0.4201185703277588,
          3.1794004440307617,
          -1.0202181339263916
         ],
         "y": [
          2.9767847061157227,
          -1.1810084581375122,
          -2.0837314128875732,
          -2.3127377033233643,
          4.7695512771606445,
          -5.690550804138184,
          -0.2750774323940277,
          -0.13701634109020233
         ],
         "z": [
          -0.9820480346679688,
          -2.2869479656219482,
          -1.1099461317062378,
          2.5695278644561768,
          -1.2388074398040771,
          2.6270532608032227,
          0.4349939227104187,
          4.0165228843688965
         ]
        },
        {
         "hovertemplate": "color=Cyanolyca<br>TSNE1=%{x}<br>TSNE2=%{y}<br>TSNE3=%{z}<extra></extra>",
         "legendgroup": "Cyanolyca",
         "marker": {
          "color": "#316395",
          "symbol": "circle"
         },
         "mode": "markers",
         "name": "Cyanolyca",
         "scene": "scene",
         "showlegend": true,
         "type": "scatter3d",
         "x": [
          1.1183644533157349
         ],
         "y": [
          -6.003413677215576
         ],
         "z": [
          -2.3623127937316895
         ]
        },
        {
         "hovertemplate": "color=Cyclarhis<br>TSNE1=%{x}<br>TSNE2=%{y}<br>TSNE3=%{z}<extra></extra>",
         "legendgroup": "Cyclarhis",
         "marker": {
          "color": "#3366CC",
          "symbol": "circle"
         },
         "mode": "markers",
         "name": "Cyclarhis",
         "scene": "scene",
         "showlegend": true,
         "type": "scatter3d",
         "x": [
          -4.150569438934326,
          0.7972787618637085,
          3.1262660026550293
         ],
         "y": [
          1.354540228843689,
          3.007690191268921,
          2.5667521953582764
         ],
         "z": [
          1.2678608894348145,
          3.0133073329925537,
          -1.2127623558044434
         ]
        },
        {
         "hovertemplate": "color=Cymbilaimus<br>TSNE1=%{x}<br>TSNE2=%{y}<br>TSNE3=%{z}<extra></extra>",
         "legendgroup": "Cymbilaimus",
         "marker": {
          "color": "#DC3912",
          "symbol": "circle"
         },
         "mode": "markers",
         "name": "Cymbilaimus",
         "scene": "scene",
         "showlegend": true,
         "type": "scatter3d",
         "x": [
          -3.4920907020568848,
          2.464360475540161,
          -2.2608370780944824,
          0.5264014005661011,
          -1.9350574016571045,
          -0.22416169941425323,
          -1.4129173755645752,
          -2.735281467437744
         ],
         "y": [
          -5.938615798950195,
          0.47997137904167175,
          5.113758563995361,
          6.527443885803223,
          6.261562824249268,
          7.260557651519775,
          4.7730793952941895,
          5.839313983917236
         ],
         "z": [
          0.7548956871032715,
          5.330921649932861,
          0.2852969467639923,
          1.5359054803848267,
          1.6079505681991577,
          1.9886642694473267,
          0.842860996723175,
          0.46493294835090637
         ]
        },
        {
         "hovertemplate": "color=Cyphorhinus<br>TSNE1=%{x}<br>TSNE2=%{y}<br>TSNE3=%{z}<extra></extra>",
         "legendgroup": "Cyphorhinus",
         "marker": {
          "color": "#FF9900",
          "symbol": "circle"
         },
         "mode": "markers",
         "name": "Cyphorhinus",
         "scene": "scene",
         "showlegend": true,
         "type": "scatter3d",
         "x": [
          -0.7916145324707031
         ],
         "y": [
          3.3960468769073486
         ],
         "z": [
          0.020706839859485626
         ]
        },
        {
         "hovertemplate": "color=Cypseloides<br>TSNE1=%{x}<br>TSNE2=%{y}<br>TSNE3=%{z}<extra></extra>",
         "legendgroup": "Cypseloides",
         "marker": {
          "color": "#109618",
          "symbol": "circle"
         },
         "mode": "markers",
         "name": "Cypseloides",
         "scene": "scene",
         "showlegend": true,
         "type": "scatter3d",
         "x": [
          4.031662940979004
         ],
         "y": [
          -4.654627323150635
         ],
         "z": [
          -1.9021191596984863
         ]
        },
        {
         "hovertemplate": "color=Dacnis<br>TSNE1=%{x}<br>TSNE2=%{y}<br>TSNE3=%{z}<extra></extra>",
         "legendgroup": "Dacnis",
         "marker": {
          "color": "#990099",
          "symbol": "circle"
         },
         "mode": "markers",
         "name": "Dacnis",
         "scene": "scene",
         "showlegend": true,
         "type": "scatter3d",
         "x": [
          6.639129161834717,
          5.160726070404053,
          -6.109885215759277,
          -2.6417481899261475,
          6.302908420562744,
          -0.4880523681640625
         ],
         "y": [
          -1.4846774339675903,
          1.040755271911621,
          0.7973616123199463,
          -4.335028648376465,
          0.5751820802688599,
          -5.337662220001221
         ],
         "z": [
          -3.4738032817840576,
          3.4813458919525146,
          4.259062767028809,
          3.5896735191345215,
          -3.893998861312866,
          2.501797914505005
         ]
        },
        {
         "hovertemplate": "color=Daptrius<br>TSNE1=%{x}<br>TSNE2=%{y}<br>TSNE3=%{z}<extra></extra>",
         "legendgroup": "Daptrius",
         "marker": {
          "color": "#0099C6",
          "symbol": "circle"
         },
         "mode": "markers",
         "name": "Daptrius",
         "scene": "scene",
         "showlegend": true,
         "type": "scatter3d",
         "x": [
          1.7300732135772705,
          -2.9236598014831543,
          -0.9435535669326782,
          1.9651010036468506,
          -4.247272491455078
         ],
         "y": [
          0.3451420068740845,
          -2.6553711891174316,
          1.4211585521697998,
          3.121044397354126,
          -2.0348756313323975
         ],
         "z": [
          1.8363347053527832,
          1.2411577701568604,
          4.625120162963867,
          2.584041118621826,
          2.9090793132781982
         ]
        },
        {
         "hovertemplate": "color=Deconychura<br>TSNE1=%{x}<br>TSNE2=%{y}<br>TSNE3=%{z}<extra></extra>",
         "legendgroup": "Deconychura",
         "marker": {
          "color": "#DD4477",
          "symbol": "circle"
         },
         "mode": "markers",
         "name": "Deconychura",
         "scene": "scene",
         "showlegend": true,
         "type": "scatter3d",
         "x": [
          7.7498779296875,
          0.17655764520168304
         ],
         "y": [
          2.2293970584869385,
          3.893497943878174
         ],
         "z": [
          -0.3896382749080658,
          4.761460781097412
         ]
        },
        {
         "hovertemplate": "color=Dendrexetastes<br>TSNE1=%{x}<br>TSNE2=%{y}<br>TSNE3=%{z}<extra></extra>",
         "legendgroup": "Dendrexetastes",
         "marker": {
          "color": "#66AA00",
          "symbol": "circle"
         },
         "mode": "markers",
         "name": "Dendrexetastes",
         "scene": "scene",
         "showlegend": true,
         "type": "scatter3d",
         "x": [
          -2.555574417114258,
          -0.8297733068466187
         ],
         "y": [
          7.022516250610352,
          8.665680885314941
         ],
         "z": [
          2.4941890239715576,
          3.5046820640563965
         ]
        },
        {
         "hovertemplate": "color=Dendrocincla<br>TSNE1=%{x}<br>TSNE2=%{y}<br>TSNE3=%{z}<extra></extra>",
         "legendgroup": "Dendrocincla",
         "marker": {
          "color": "#B82E2E",
          "symbol": "circle"
         },
         "mode": "markers",
         "name": "Dendrocincla",
         "scene": "scene",
         "showlegend": true,
         "type": "scatter3d",
         "x": [
          -7.032810211181641,
          -5.94680643081665,
          -6.972293853759766,
          3.3750159740448,
          0.8034358620643616,
          -4.467486381530762
         ],
         "y": [
          -1.3231816291809082,
          -2.5340723991394043,
          -3.273930549621582,
          -3.975369691848755,
          -5.126534938812256,
          -6.361698150634766
         ],
         "z": [
          1.227822184562683,
          2.8307225704193115,
          2.051741123199463,
          0.2845962941646576,
          2.938340425491333,
          -1.342431902885437
         ]
        },
        {
         "hovertemplate": "color=Dendrocolaptes<br>TSNE1=%{x}<br>TSNE2=%{y}<br>TSNE3=%{z}<extra></extra>",
         "legendgroup": "Dendrocolaptes",
         "marker": {
          "color": "#316395",
          "symbol": "circle"
         },
         "mode": "markers",
         "name": "Dendrocolaptes",
         "scene": "scene",
         "showlegend": true,
         "type": "scatter3d",
         "x": [
          3.113915205001831,
          -1.807444453239441,
          6.054346561431885,
          0.8343555927276611,
          0.9782004356384277,
          -3.0298755168914795
         ],
         "y": [
          0.8204599022865295,
          6.9508891105651855,
          1.030733585357666,
          4.49802303314209,
          6.5684309005737305,
          4.355312824249268
         ],
         "z": [
          0.9340469837188721,
          4.539190769195557,
          1.162639856338501,
          4.367163181304932,
          1.156995177268982,
          -0.7279379963874817
         ]
        },
        {
         "hovertemplate": "color=Dendrocygna<br>TSNE1=%{x}<br>TSNE2=%{y}<br>TSNE3=%{z}<extra></extra>",
         "legendgroup": "Dendrocygna",
         "marker": {
          "color": "#3366CC",
          "symbol": "circle"
         },
         "mode": "markers",
         "name": "Dendrocygna",
         "scene": "scene",
         "showlegend": true,
         "type": "scatter3d",
         "x": [
          -6.080134868621826,
          -1.6934850215911865,
          -3.1606292724609375
         ],
         "y": [
          -1.712425708770752,
          -8.385462760925293,
          -5.758537769317627
         ],
         "z": [
          -4.023151397705078,
          -3.481302261352539,
          1.729189157485962
         ]
        },
        {
         "hovertemplate": "color=Dendroplex<br>TSNE1=%{x}<br>TSNE2=%{y}<br>TSNE3=%{z}<extra></extra>",
         "legendgroup": "Dendroplex",
         "marker": {
          "color": "#DC3912",
          "symbol": "circle"
         },
         "mode": "markers",
         "name": "Dendroplex",
         "scene": "scene",
         "showlegend": true,
         "type": "scatter3d",
         "x": [
          -1.1768497228622437,
          -5.955322742462158
         ],
         "y": [
          1.2966049909591675,
          -0.6147745251655579
         ],
         "z": [
          -3.0136470794677734,
          -4.0932841300964355
         ]
        },
        {
         "hovertemplate": "color=Dichrozona<br>TSNE1=%{x}<br>TSNE2=%{y}<br>TSNE3=%{z}<extra></extra>",
         "legendgroup": "Dichrozona",
         "marker": {
          "color": "#FF9900",
          "symbol": "circle"
         },
         "mode": "markers",
         "name": "Dichrozona",
         "scene": "scene",
         "showlegend": true,
         "type": "scatter3d",
         "x": [
          4.82676362991333,
          0.8766809701919556,
          5.264095783233643
         ],
         "y": [
          0.20110681653022766,
          -2.9628794193267822,
          2.2177555561065674
         ],
         "z": [
          -1.617690920829773,
          -3.320075511932373,
          0.6251199841499329
         ]
        },
        {
         "hovertemplate": "color=Diglossa<br>TSNE1=%{x}<br>TSNE2=%{y}<br>TSNE3=%{z}<extra></extra>",
         "legendgroup": "Diglossa",
         "marker": {
          "color": "#109618",
          "symbol": "circle"
         },
         "mode": "markers",
         "name": "Diglossa",
         "scene": "scene",
         "showlegend": true,
         "type": "scatter3d",
         "x": [
          -5.940526008605957,
          1.6389816999435425,
          -3.8654050827026367,
          -5.076162338256836,
          0.9236670732498169,
          -6.03457498550415,
          6.064149379730225
         ],
         "y": [
          -2.9267187118530273,
          3.3082029819488525,
          -1.4503016471862793,
          1.7459559440612793,
          -1.9054983854293823,
          -0.22847074270248413,
          1.4437452554702759
         ],
         "z": [
          -4.172675132751465,
          2.7428715229034424,
          -3.4980335235595703,
          -1.3389290571212769,
          -0.7728319764137268,
          -0.12330508977174759,
          -4.270211219787598
         ]
        },
        {
         "hovertemplate": "color=Diopsittaca<br>TSNE1=%{x}<br>TSNE2=%{y}<br>TSNE3=%{z}<extra></extra>",
         "legendgroup": "Diopsittaca",
         "marker": {
          "color": "#990099",
          "symbol": "circle"
         },
         "mode": "markers",
         "name": "Diopsittaca",
         "scene": "scene",
         "showlegend": true,
         "type": "scatter3d",
         "x": [
          -0.27288880944252014,
          3.3009085655212402
         ],
         "y": [
          2.5599372386932373,
          2.8120086193084717
         ],
         "z": [
          -3.790438175201416,
          -1.5551393032073975
         ]
        },
        {
         "hovertemplate": "color=Discosura<br>TSNE1=%{x}<br>TSNE2=%{y}<br>TSNE3=%{z}<extra></extra>",
         "legendgroup": "Discosura",
         "marker": {
          "color": "#0099C6",
          "symbol": "circle"
         },
         "mode": "markers",
         "name": "Discosura",
         "scene": "scene",
         "showlegend": true,
         "type": "scatter3d",
         "x": [
          0.19340427219867706,
          -4.621551513671875,
          0.20569530129432678,
          -4.7048444747924805
         ],
         "y": [
          0.6357675790786743,
          -8.241545677185059,
          -4.462993144989014,
          -6.434300422668457
         ],
         "z": [
          4.214725971221924,
          -0.7790493369102478,
          3.877509832382202,
          1.6152676343917847
         ]
        },
        {
         "hovertemplate": "color=Dolichonyx<br>TSNE1=%{x}<br>TSNE2=%{y}<br>TSNE3=%{z}<extra></extra>",
         "legendgroup": "Dolichonyx",
         "marker": {
          "color": "#DD4477",
          "symbol": "circle"
         },
         "mode": "markers",
         "name": "Dolichonyx",
         "scene": "scene",
         "showlegend": true,
         "type": "scatter3d",
         "x": [
          -3.9144811630249023
         ],
         "y": [
          5.219151973724365
         ],
         "z": [
          -3.858687400817871
         ]
        },
        {
         "hovertemplate": "color=Donacobius<br>TSNE1=%{x}<br>TSNE2=%{y}<br>TSNE3=%{z}<extra></extra>",
         "legendgroup": "Donacobius",
         "marker": {
          "color": "#66AA00",
          "symbol": "circle"
         },
         "mode": "markers",
         "name": "Donacobius",
         "scene": "scene",
         "showlegend": true,
         "type": "scatter3d",
         "x": [
          5.196559906005859,
          -3.6911470890045166,
          8.300467491149902
         ],
         "y": [
          4.791975975036621,
          6.05630350112915,
          2.0406835079193115
         ],
         "z": [
          1.1340137720108032,
          -4.0318403244018555,
          -3.7166545391082764
         ]
        },
        {
         "hovertemplate": "color=Doryfera<br>TSNE1=%{x}<br>TSNE2=%{y}<br>TSNE3=%{z}<extra></extra>",
         "legendgroup": "Doryfera",
         "marker": {
          "color": "#B82E2E",
          "symbol": "circle"
         },
         "mode": "markers",
         "name": "Doryfera",
         "scene": "scene",
         "showlegend": true,
         "type": "scatter3d",
         "x": [
          5.032655239105225,
          8.76655101776123,
          -1.0764695405960083,
          -6.2917985916137695,
          6.0872802734375
         ],
         "y": [
          -3.005885362625122,
          3.185882091522217,
          -0.8672540783882141,
          -6.480407238006592,
          -3.6207141876220703
         ],
         "z": [
          2.0996878147125244,
          -0.9401466250419617,
          -3.7921409606933594,
          -0.19321352243423462,
          0.14815901219844818
         ]
        },
        {
         "hovertemplate": "color=Dromococcyx<br>TSNE1=%{x}<br>TSNE2=%{y}<br>TSNE3=%{z}<extra></extra>",
         "legendgroup": "Dromococcyx",
         "marker": {
          "color": "#316395",
          "symbol": "circle"
         },
         "mode": "markers",
         "name": "Dromococcyx",
         "scene": "scene",
         "showlegend": true,
         "type": "scatter3d",
         "x": [
          -4.542191982269287,
          -4.533975124359131
         ],
         "y": [
          0.42099690437316895,
          0.5238950848579407
         ],
         "z": [
          -0.4483167231082916,
          0.1559632271528244
         ]
        },
        {
         "hovertemplate": "color=Drymophila<br>TSNE1=%{x}<br>TSNE2=%{y}<br>TSNE3=%{z}<extra></extra>",
         "legendgroup": "Drymophila",
         "marker": {
          "color": "#3366CC",
          "symbol": "circle"
         },
         "mode": "markers",
         "name": "Drymophila",
         "scene": "scene",
         "showlegend": true,
         "type": "scatter3d",
         "x": [
          -0.8679754137992859,
          -1.8876837491989136,
          -1.721376895904541,
          -2.6912569999694824,
          -0.491407573223114
         ],
         "y": [
          4.3208513259887695,
          4.655844211578369,
          4.444597244262695,
          1.1845732927322388,
          3.1147713661193848
         ],
         "z": [
          0.1944180577993393,
          1.6129200458526611,
          0.7664139866828918,
          0.8961120247840881,
          0.6170555353164673
         ]
        },
        {
         "hovertemplate": "color=Dryocopus<br>TSNE1=%{x}<br>TSNE2=%{y}<br>TSNE3=%{z}<extra></extra>",
         "legendgroup": "Dryocopus",
         "marker": {
          "color": "#DC3912",
          "symbol": "circle"
         },
         "mode": "markers",
         "name": "Dryocopus",
         "scene": "scene",
         "showlegend": true,
         "type": "scatter3d",
         "x": [
          3.296996831893921,
          1.5230581760406494,
          -1.3602787256240845,
          3.0212771892547607
         ],
         "y": [
          -4.756078720092773,
          -0.2990352213382721,
          8.04596996307373,
          3.2823314666748047
         ],
         "z": [
          -5.285148620605469,
          0.38526904582977295,
          4.195792198181152,
          -0.4099283218383789
         ]
        },
        {
         "hovertemplate": "color=Dubusia<br>TSNE1=%{x}<br>TSNE2=%{y}<br>TSNE3=%{z}<extra></extra>",
         "legendgroup": "Dubusia",
         "marker": {
          "color": "#FF9900",
          "symbol": "circle"
         },
         "mode": "markers",
         "name": "Dubusia",
         "scene": "scene",
         "showlegend": true,
         "type": "scatter3d",
         "x": [
          -1.376044750213623
         ],
         "y": [
          2.3884623050689697
         ],
         "z": [
          0.9896149039268494
         ]
        },
        {
         "hovertemplate": "color=Dysithamnus<br>TSNE1=%{x}<br>TSNE2=%{y}<br>TSNE3=%{z}<extra></extra>",
         "legendgroup": "Dysithamnus",
         "marker": {
          "color": "#109618",
          "symbol": "circle"
         },
         "mode": "markers",
         "name": "Dysithamnus",
         "scene": "scene",
         "showlegend": true,
         "type": "scatter3d",
         "x": [
          -3.865846633911133
         ],
         "y": [
          -2.088012933731079
         ],
         "z": [
          -4.048891544342041
         ]
        },
        {
         "hovertemplate": "color=Egretta<br>TSNE1=%{x}<br>TSNE2=%{y}<br>TSNE3=%{z}<extra></extra>",
         "legendgroup": "Egretta",
         "marker": {
          "color": "#990099",
          "symbol": "circle"
         },
         "mode": "markers",
         "name": "Egretta",
         "scene": "scene",
         "showlegend": true,
         "type": "scatter3d",
         "x": [
          -3.642568826675415,
          -0.5927978754043579,
          2.00956654548645,
          -3.6831133365631104,
          -5.008411407470703
         ],
         "y": [
          -7.315902233123779,
          1.1522191762924194,
          -6.4810566902160645,
          -7.101870059967041,
          -8.044547080993652
         ],
         "z": [
          -2.9873034954071045,
          5.905130863189697,
          -2.438288688659668,
          -1.6770219802856445,
          -2.7481186389923096
         ]
        },
        {
         "hovertemplate": "color=Elaenia<br>TSNE1=%{x}<br>TSNE2=%{y}<br>TSNE3=%{z}<extra></extra>",
         "legendgroup": "Elaenia",
         "marker": {
          "color": "#0099C6",
          "symbol": "circle"
         },
         "mode": "markers",
         "name": "Elaenia",
         "scene": "scene",
         "showlegend": true,
         "type": "scatter3d",
         "x": [
          4.858187675476074,
          -1.264570713043213,
          6.598904132843018,
          -5.123215198516846,
          -2.2486751079559326,
          -4.678051948547363,
          -7.069767951965332,
          3.423276901245117,
          -1.6392669677734375,
          -3.7820165157318115,
          -1.9958189725875854
         ],
         "y": [
          6.150832176208496,
          -0.7257134914398193,
          2.9967641830444336,
          -2.6284632682800293,
          -6.389361381530762,
          3.5514237880706787,
          -4.814335346221924,
          -4.250043869018555,
          0.7775024175643921,
          -2.9989259243011475,
          0.10262849926948547
         ],
         "z": [
          2.3571133613586426,
          4.632382869720459,
          2.087880849838257,
          3.588294506072998,
          -0.8443966507911682,
          5.18269681930542,
          1.3581441640853882,
          0.6551589369773865,
          3.765320301055908,
          4.189871311187744,
          5.34345006942749
         ]
        },
        {
         "hovertemplate": "color=Elanoides<br>TSNE1=%{x}<br>TSNE2=%{y}<br>TSNE3=%{z}<extra></extra>",
         "legendgroup": "Elanoides",
         "marker": {
          "color": "#DD4477",
          "symbol": "circle"
         },
         "mode": "markers",
         "name": "Elanoides",
         "scene": "scene",
         "showlegend": true,
         "type": "scatter3d",
         "x": [
          -3.718458890914917,
          -3.372166156768799
         ],
         "y": [
          -1.3239108324050903,
          -8.145246505737305
         ],
         "z": [
          -3.159864664077759,
          -4.147170066833496
         ]
        },
        {
         "hovertemplate": "color=Elanus<br>TSNE1=%{x}<br>TSNE2=%{y}<br>TSNE3=%{z}<extra></extra>",
         "legendgroup": "Elanus",
         "marker": {
          "color": "#66AA00",
          "symbol": "circle"
         },
         "mode": "markers",
         "name": "Elanus",
         "scene": "scene",
         "showlegend": true,
         "type": "scatter3d",
         "x": [
          7.1537089347839355
         ],
         "y": [
          6.298260688781738
         ],
         "z": [
          0.5488788485527039
         ]
        },
        {
         "hovertemplate": "color=Electron<br>TSNE1=%{x}<br>TSNE2=%{y}<br>TSNE3=%{z}<extra></extra>",
         "legendgroup": "Electron",
         "marker": {
          "color": "#B82E2E",
          "symbol": "circle"
         },
         "mode": "markers",
         "name": "Electron",
         "scene": "scene",
         "showlegend": true,
         "type": "scatter3d",
         "x": [
          -2.367126703262329,
          1.2168923616409302
         ],
         "y": [
          -0.8804664015769958,
          -3.677996873855591
         ],
         "z": [
          4.987367630004883,
          -0.17269304394721985
         ]
        },
        {
         "hovertemplate": "color=Emberizoides<br>TSNE1=%{x}<br>TSNE2=%{y}<br>TSNE3=%{z}<extra></extra>",
         "legendgroup": "Emberizoides",
         "marker": {
          "color": "#316395",
          "symbol": "circle"
         },
         "mode": "markers",
         "name": "Emberizoides",
         "scene": "scene",
         "showlegend": true,
         "type": "scatter3d",
         "x": [
          -1.6500723361968994,
          5.375174522399902
         ],
         "y": [
          -3.2960493564605713,
          3.848330020904541
         ],
         "z": [
          -2.8675384521484375,
          0.9640503525733948
         ]
        },
        {
         "hovertemplate": "color=Empidonax<br>TSNE1=%{x}<br>TSNE2=%{y}<br>TSNE3=%{z}<extra></extra>",
         "legendgroup": "Empidonax",
         "marker": {
          "color": "#3366CC",
          "symbol": "circle"
         },
         "mode": "markers",
         "name": "Empidonax",
         "scene": "scene",
         "showlegend": true,
         "type": "scatter3d",
         "x": [
          -4.368201732635498
         ],
         "y": [
          -5.281472206115723
         ],
         "z": [
          2.0400285720825195
         ]
        },
        {
         "hovertemplate": "color=Empidonomus<br>TSNE1=%{x}<br>TSNE2=%{y}<br>TSNE3=%{z}<extra></extra>",
         "legendgroup": "Empidonomus",
         "marker": {
          "color": "#DC3912",
          "symbol": "circle"
         },
         "mode": "markers",
         "name": "Empidonomus",
         "scene": "scene",
         "showlegend": true,
         "type": "scatter3d",
         "x": [
          -5.318790435791016,
          -0.810033917427063
         ],
         "y": [
          -6.027844429016113,
          2.762267589569092
         ],
         "z": [
          1.0440912246704102,
          -3.4134531021118164
         ]
        },
        {
         "hovertemplate": "color=Entomodestes<br>TSNE1=%{x}<br>TSNE2=%{y}<br>TSNE3=%{z}<extra></extra>",
         "legendgroup": "Entomodestes",
         "marker": {
          "color": "#FF9900",
          "symbol": "circle"
         },
         "mode": "markers",
         "name": "Entomodestes",
         "scene": "scene",
         "showlegend": true,
         "type": "scatter3d",
         "x": [
          -6.5837531089782715,
          -3.592991352081299
         ],
         "y": [
          -1.1404783725738525,
          1.8950481414794922
         ],
         "z": [
          3.0415573120117188,
          3.8535523414611816
         ]
        },
        {
         "hovertemplate": "color=Epinecrophylla<br>TSNE1=%{x}<br>TSNE2=%{y}<br>TSNE3=%{z}<extra></extra>",
         "legendgroup": "Epinecrophylla",
         "marker": {
          "color": "#109618",
          "symbol": "circle"
         },
         "mode": "markers",
         "name": "Epinecrophylla",
         "scene": "scene",
         "showlegend": true,
         "type": "scatter3d",
         "x": [
          -2.9940807819366455,
          -1.506026029586792,
          -3.1762964725494385,
          -0.23343931138515472,
          -0.4780525267124176,
          -1.4779162406921387,
          -0.8748510479927063,
          6.489895343780518,
          -3.2047462463378906,
          2.517116069793701
         ],
         "y": [
          2.284654378890991,
          1.6085278987884521,
          2.1073098182678223,
          2.421159505844116,
          4.596800804138184,
          2.5703585147857666,
          -0.18929484486579895,
          -1.1265212297439575,
          -2.1931822299957275,
          2.3994858264923096
         ],
         "z": [
          2.7780466079711914,
          -1.8331619501113892,
          1.5945992469787598,
          -3.78485107421875,
          -3.660731554031372,
          0.6601598858833313,
          1.1901215314865112,
          -3.9047329425811768,
          1.4991194009780884,
          2.564487934112549
         ]
        },
        {
         "hovertemplate": "color=Eubucco<br>TSNE1=%{x}<br>TSNE2=%{y}<br>TSNE3=%{z}<extra></extra>",
         "legendgroup": "Eubucco",
         "marker": {
          "color": "#990099",
          "symbol": "circle"
         },
         "mode": "markers",
         "name": "Eubucco",
         "scene": "scene",
         "showlegend": true,
         "type": "scatter3d",
         "x": [
          6.215351581573486,
          -2.0490715503692627
         ],
         "y": [
          -4.028291702270508,
          4.2041215896606445
         ],
         "z": [
          -0.6112352013587952,
          1.606865406036377
         ]
        },
        {
         "hovertemplate": "color=Euchrepomis<br>TSNE1=%{x}<br>TSNE2=%{y}<br>TSNE3=%{z}<extra></extra>",
         "legendgroup": "Euchrepomis",
         "marker": {
          "color": "#0099C6",
          "symbol": "circle"
         },
         "mode": "markers",
         "name": "Euchrepomis",
         "scene": "scene",
         "showlegend": true,
         "type": "scatter3d",
         "x": [
          -3.972136974334717,
          -4.2676215171813965,
          -4.608923435211182,
          1.5141850709915161,
          -3.346555709838867
         ],
         "y": [
          2.09189772605896,
          0.06472697108983994,
          3.0059306621551514,
          3.810741424560547,
          6.122872829437256
         ],
         "z": [
          1.4035627841949463,
          -0.6435658931732178,
          -4.0444769859313965,
          -1.1055147647857666,
          4.221107006072998
         ]
        },
        {
         "hovertemplate": "color=Eucometis<br>TSNE1=%{x}<br>TSNE2=%{y}<br>TSNE3=%{z}<extra></extra>",
         "legendgroup": "Eucometis",
         "marker": {
          "color": "#DD4477",
          "symbol": "circle"
         },
         "mode": "markers",
         "name": "Eucometis",
         "scene": "scene",
         "showlegend": true,
         "type": "scatter3d",
         "x": [
          -1.730205774307251,
          -3.194563865661621
         ],
         "y": [
          -7.6603522300720215,
          6.163858413696289
         ],
         "z": [
          -1.4618715047836304,
          -3.7515556812286377
         ]
        },
        {
         "hovertemplate": "color=Eupetomena<br>TSNE1=%{x}<br>TSNE2=%{y}<br>TSNE3=%{z}<extra></extra>",
         "legendgroup": "Eupetomena",
         "marker": {
          "color": "#66AA00",
          "symbol": "circle"
         },
         "mode": "markers",
         "name": "Eupetomena",
         "scene": "scene",
         "showlegend": true,
         "type": "scatter3d",
         "x": [
          8.012937545776367,
          2.623300790786743,
          3.728386402130127
         ],
         "y": [
          -1.962813138961792,
          -7.830502033233643,
          -4.59373140335083
         ],
         "z": [
          -0.28287753462791443,
          -2.447645664215088,
          0.3355925977230072
         ]
        },
        {
         "hovertemplate": "color=Euphonia<br>TSNE1=%{x}<br>TSNE2=%{y}<br>TSNE3=%{z}<extra></extra>",
         "legendgroup": "Euphonia",
         "marker": {
          "color": "#B82E2E",
          "symbol": "circle"
         },
         "mode": "markers",
         "name": "Euphonia",
         "scene": "scene",
         "showlegend": true,
         "type": "scatter3d",
         "x": [
          6.14443302154541,
          8.137909889221191,
          -6.330915451049805,
          3.74759840965271,
          0.6215493679046631,
          -4.0550689697265625,
          -2.132215738296509,
          -4.294948577880859,
          -2.1511573791503906,
          4.51223087310791,
          8.90717887878418,
          7.471014022827148,
          0.06471311300992966,
          -5.6876325607299805,
          -4.7821221351623535,
          -6.616410255432129
         ],
         "y": [
          -1.2174659967422485,
          1.5615077018737793,
          -2.8129444122314453,
          6.552913188934326,
          -4.283780574798584,
          3.055124044418335,
          3.952035665512085,
          -2.274042844772339,
          -5.6393351554870605,
          -1.0399185419082642,
          2.015537977218628,
          3.3543601036071777,
          -0.09577701985836029,
          2.1565470695495605,
          4.15692138671875,
          -2.623615026473999
         ],
         "z": [
          -2.8955459594726562,
          -3.784250259399414,
          -1.7378004789352417,
          2.30649995803833,
          3.4804084300994873,
          -3.900092124938965,
          2.3681581020355225,
          2.942970037460327,
          -2.1498970985412598,
          2.6641151905059814,
          -6.428284645080566,
          -1.0124789476394653,
          2.4071083068847656,
          1.1482040882110596,
          4.9252028465271,
          2.016421318054199
         ]
        },
        {
         "hovertemplate": "color=Eupsittula<br>TSNE1=%{x}<br>TSNE2=%{y}<br>TSNE3=%{z}<extra></extra>",
         "legendgroup": "Eupsittula",
         "marker": {
          "color": "#316395",
          "symbol": "circle"
         },
         "mode": "markers",
         "name": "Eupsittula",
         "scene": "scene",
         "showlegend": true,
         "type": "scatter3d",
         "x": [
          2.0300285816192627,
          1.86544668674469
         ],
         "y": [
          -3.509599208831787,
          0.377470999956131
         ],
         "z": [
          -0.17244049906730652,
          -2.680654287338257
         ]
        },
        {
         "hovertemplate": "color=Eurypyga<br>TSNE1=%{x}<br>TSNE2=%{y}<br>TSNE3=%{z}<extra></extra>",
         "legendgroup": "Eurypyga",
         "marker": {
          "color": "#3366CC",
          "symbol": "circle"
         },
         "mode": "markers",
         "name": "Eurypyga",
         "scene": "scene",
         "showlegend": true,
         "type": "scatter3d",
         "x": [
          1.8205853700637817
         ],
         "y": [
          -3.7464537620544434
         ],
         "z": [
          -5.630036354064941
         ]
        },
        {
         "hovertemplate": "color=Euscarthmus<br>TSNE1=%{x}<br>TSNE2=%{y}<br>TSNE3=%{z}<extra></extra>",
         "legendgroup": "Euscarthmus",
         "marker": {
          "color": "#DC3912",
          "symbol": "circle"
         },
         "mode": "markers",
         "name": "Euscarthmus",
         "scene": "scene",
         "showlegend": true,
         "type": "scatter3d",
         "x": [
          2.091770648956299,
          -3.4940834045410156
         ],
         "y": [
          -4.082755088806152,
          -2.8591067790985107
         ],
         "z": [
          1.9516775608062744,
          4.247310161590576
         ]
        },
        {
         "hovertemplate": "color=Eutoxeres<br>TSNE1=%{x}<br>TSNE2=%{y}<br>TSNE3=%{z}<extra></extra>",
         "legendgroup": "Eutoxeres",
         "marker": {
          "color": "#FF9900",
          "symbol": "circle"
         },
         "mode": "markers",
         "name": "Eutoxeres",
         "scene": "scene",
         "showlegend": true,
         "type": "scatter3d",
         "x": [
          1.8859692811965942
         ],
         "y": [
          6.269595146179199
         ],
         "z": [
          -2.9546308517456055
         ]
        },
        {
         "hovertemplate": "color=Falco<br>TSNE1=%{x}<br>TSNE2=%{y}<br>TSNE3=%{z}<extra></extra>",
         "legendgroup": "Falco",
         "marker": {
          "color": "#109618",
          "symbol": "circle"
         },
         "mode": "markers",
         "name": "Falco",
         "scene": "scene",
         "showlegend": true,
         "type": "scatter3d",
         "x": [
          0.6220067739486694,
          -4.566100120544434,
          6.652898788452148,
          -2.408818006515503,
          2.6527891159057617,
          -1.679505705833435,
          -3.750368595123291,
          -3.6121439933776855,
          -1.3213917016983032,
          -4.722032070159912,
          -5.50246000289917,
          -1.144418716430664,
          3.65612530708313,
          2.5094664096832275
         ],
         "y": [
          -1.4978270530700684,
          2.741269588470459,
          -1.4275052547454834,
          8.189440727233887,
          -4.535322666168213,
          -5.339414596557617,
          5.5262932777404785,
          -0.4082357585430145,
          6.452073574066162,
          3.104857921600342,
          -2.5051209926605225,
          -3.103990077972412,
          -5.112115859985352,
          6.4854302406311035
         ],
         "z": [
          -0.1675221025943756,
          -2.5945022106170654,
          -0.6579451560974121,
          -4.223897457122803,
          -1.8510063886642456,
          -2.764651298522949,
          -4.078556537628174,
          -3.0504865646362305,
          1.5069059133529663,
          -3.274402379989624,
          -4.006270408630371,
          -0.6365066766738892,
          -2.1143734455108643,
          -0.7140962481498718
         ]
        },
        {
         "hovertemplate": "color=Florisuga<br>TSNE1=%{x}<br>TSNE2=%{y}<br>TSNE3=%{z}<extra></extra>",
         "legendgroup": "Florisuga",
         "marker": {
          "color": "#990099",
          "symbol": "circle"
         },
         "mode": "markers",
         "name": "Florisuga",
         "scene": "scene",
         "showlegend": true,
         "type": "scatter3d",
         "x": [
          -0.31086739897727966
         ],
         "y": [
          -8.393778800964355
         ],
         "z": [
          -2.88662052154541
         ]
        },
        {
         "hovertemplate": "color=Fluvicola<br>TSNE1=%{x}<br>TSNE2=%{y}<br>TSNE3=%{z}<extra></extra>",
         "legendgroup": "Fluvicola",
         "marker": {
          "color": "#0099C6",
          "symbol": "circle"
         },
         "mode": "markers",
         "name": "Fluvicola",
         "scene": "scene",
         "showlegend": true,
         "type": "scatter3d",
         "x": [
          4.809903144836426,
          -5.018897533416748
         ],
         "y": [
          0.8167406916618347,
          -7.4679341316223145
         ],
         "z": [
          4.101302146911621,
          -0.2659243643283844
         ]
        },
        {
         "hovertemplate": "color=Formicarius<br>TSNE1=%{x}<br>TSNE2=%{y}<br>TSNE3=%{z}<extra></extra>",
         "legendgroup": "Formicarius",
         "marker": {
          "color": "#DD4477",
          "symbol": "circle"
         },
         "mode": "markers",
         "name": "Formicarius",
         "scene": "scene",
         "showlegend": true,
         "type": "scatter3d",
         "x": [
          -5.71049165725708,
          -2.9112257957458496,
          -3.4368999004364014,
          -0.6711165308952332,
          -3.019164562225342,
          -6.1047844886779785,
          -4.96352481842041
         ],
         "y": [
          -2.5517849922180176,
          -1.324923038482666,
          5.28055477142334,
          8.244749069213867,
          6.820907115936279,
          0.8567459583282471,
          -8.287394523620605
         ],
         "z": [
          -2.21478009223938,
          4.891068458557129,
          -0.30653050541877747,
          2.774350881576538,
          2.526069402694702,
          3.9617767333984375,
          -3.674762725830078
         ]
        },
        {
         "hovertemplate": "color=Formicivora<br>TSNE1=%{x}<br>TSNE2=%{y}<br>TSNE3=%{z}<extra></extra>",
         "legendgroup": "Formicivora",
         "marker": {
          "color": "#66AA00",
          "symbol": "circle"
         },
         "mode": "markers",
         "name": "Formicivora",
         "scene": "scene",
         "showlegend": true,
         "type": "scatter3d",
         "x": [
          5.716680526733398,
          2.876107692718506
         ],
         "y": [
          0.05352490395307541,
          -6.358053207397461
         ],
         "z": [
          -1.3330442905426025,
          -2.166884422302246
         ]
        },
        {
         "hovertemplate": "color=Forpus<br>TSNE1=%{x}<br>TSNE2=%{y}<br>TSNE3=%{z}<extra></extra>",
         "legendgroup": "Forpus",
         "marker": {
          "color": "#B82E2E",
          "symbol": "circle"
         },
         "mode": "markers",
         "name": "Forpus",
         "scene": "scene",
         "showlegend": true,
         "type": "scatter3d",
         "x": [
          2.608351707458496,
          5.013794422149658,
          0.5137766599655151,
          3.6903886795043945
         ],
         "y": [
          -3.1407437324523926,
          4.492455005645752,
          -1.049721360206604,
          -1.0985969305038452
         ],
         "z": [
          -2.013669967651367,
          1.1496119499206543,
          -2.334401845932007,
          0.10369101166725159
         ]
        },
        {
         "hovertemplate": "color=Furnarius<br>TSNE1=%{x}<br>TSNE2=%{y}<br>TSNE3=%{z}<extra></extra>",
         "legendgroup": "Furnarius",
         "marker": {
          "color": "#316395",
          "symbol": "circle"
         },
         "mode": "markers",
         "name": "Furnarius",
         "scene": "scene",
         "showlegend": true,
         "type": "scatter3d",
         "x": [
          4.421608924865723,
          8.6165132522583
         ],
         "y": [
          -5.97304630279541,
          0.8634220361709595
         ],
         "z": [
          -1.0246093273162842,
          -0.9238836169242859
         ]
        },
        {
         "hovertemplate": "color=Galbalcyrhynchus<br>TSNE1=%{x}<br>TSNE2=%{y}<br>TSNE3=%{z}<extra></extra>",
         "legendgroup": "Galbalcyrhynchus",
         "marker": {
          "color": "#3366CC",
          "symbol": "circle"
         },
         "mode": "markers",
         "name": "Galbalcyrhynchus",
         "scene": "scene",
         "showlegend": true,
         "type": "scatter3d",
         "x": [
          -2.7797913551330566,
          6.660120010375977
         ],
         "y": [
          7.246153831481934,
          1.759362816810608
         ],
         "z": [
          -4.2527008056640625,
          -3.144836664199829
         ]
        },
        {
         "hovertemplate": "color=Galbula<br>TSNE1=%{x}<br>TSNE2=%{y}<br>TSNE3=%{z}<extra></extra>",
         "legendgroup": "Galbula",
         "marker": {
          "color": "#DC3912",
          "symbol": "circle"
         },
         "mode": "markers",
         "name": "Galbula",
         "scene": "scene",
         "showlegend": true,
         "type": "scatter3d",
         "x": [
          -5.355920791625977,
          -3.4244556427001953,
          0.7564917802810669,
          6.388518333435059,
          6.484678268432617,
          0.19203899800777435,
          7.639379501342773
         ],
         "y": [
          0.1931396871805191,
          5.369053363800049,
          -4.77529239654541,
          1.0463484525680542,
          -1.269818663597107,
          3.8001444339752197,
          0.8840756416320801
         ],
         "z": [
          -2.5034682750701904,
          -0.5136171579360962,
          -5.725717544555664,
          0.8040124773979187,
          -3.2637369632720947,
          -0.9785358309745789,
          -5.386280059814453
         ]
        },
        {
         "hovertemplate": "color=Gallinago<br>TSNE1=%{x}<br>TSNE2=%{y}<br>TSNE3=%{z}<extra></extra>",
         "legendgroup": "Gallinago",
         "marker": {
          "color": "#FF9900",
          "symbol": "circle"
         },
         "mode": "markers",
         "name": "Gallinago",
         "scene": "scene",
         "showlegend": true,
         "type": "scatter3d",
         "x": [
          -5.306394577026367
         ],
         "y": [
          1.025929570198059
         ],
         "z": [
          -4.251758575439453
         ]
        },
        {
         "hovertemplate": "color=Gallinula<br>TSNE1=%{x}<br>TSNE2=%{y}<br>TSNE3=%{z}<extra></extra>",
         "legendgroup": "Gallinula",
         "marker": {
          "color": "#109618",
          "symbol": "circle"
         },
         "mode": "markers",
         "name": "Gallinula",
         "scene": "scene",
         "showlegend": true,
         "type": "scatter3d",
         "x": [
          -5.303065299987793
         ],
         "y": [
          2.5740468502044678
         ],
         "z": [
          -4.675715446472168
         ]
        },
        {
         "hovertemplate": "color=Gampsonyx<br>TSNE1=%{x}<br>TSNE2=%{y}<br>TSNE3=%{z}<extra></extra>",
         "legendgroup": "Gampsonyx",
         "marker": {
          "color": "#990099",
          "symbol": "circle"
         },
         "mode": "markers",
         "name": "Gampsonyx",
         "scene": "scene",
         "showlegend": true,
         "type": "scatter3d",
         "x": [
          -2.057133197784424
         ],
         "y": [
          3.651370048522949
         ],
         "z": [
          -4.068394660949707
         ]
        },
        {
         "hovertemplate": "color=Geothlypis<br>TSNE1=%{x}<br>TSNE2=%{y}<br>TSNE3=%{z}<extra></extra>",
         "legendgroup": "Geothlypis",
         "marker": {
          "color": "#0099C6",
          "symbol": "circle"
         },
         "mode": "markers",
         "name": "Geothlypis",
         "scene": "scene",
         "showlegend": true,
         "type": "scatter3d",
         "x": [
          -0.2573131024837494,
          4.469208240509033
         ],
         "y": [
          4.305182933807373,
          7.704752445220947
         ],
         "z": [
          1.6488394737243652,
          -2.090906858444214
         ]
        },
        {
         "hovertemplate": "color=Geotrygon<br>TSNE1=%{x}<br>TSNE2=%{y}<br>TSNE3=%{z}<extra></extra>",
         "legendgroup": "Geotrygon",
         "marker": {
          "color": "#DD4477",
          "symbol": "circle"
         },
         "mode": "markers",
         "name": "Geotrygon",
         "scene": "scene",
         "showlegend": true,
         "type": "scatter3d",
         "x": [
          1.28620445728302,
          0.35664838552474976,
          1.8298442363739014,
          -0.7003065943717957,
          -6.875356674194336,
          -0.08426085859537125
         ],
         "y": [
          0.41438978910446167,
          -0.570931613445282,
          -1.0793122053146362,
          -0.7966894507408142,
          -2.6788902282714844,
          -0.6254209876060486
         ],
         "z": [
          3.5826621055603027,
          2.6657419204711914,
          -0.131487175822258,
          1.4085861444473267,
          2.580495595932007,
          1.7315162420272827
         ]
        },
        {
         "hovertemplate": "color=Geranoaetus<br>TSNE1=%{x}<br>TSNE2=%{y}<br>TSNE3=%{z}<extra></extra>",
         "legendgroup": "Geranoaetus",
         "marker": {
          "color": "#66AA00",
          "symbol": "circle"
         },
         "mode": "markers",
         "name": "Geranoaetus",
         "scene": "scene",
         "showlegend": true,
         "type": "scatter3d",
         "x": [
          -3.136840581893921
         ],
         "y": [
          -8.90501594543457
         ],
         "z": [
          -3.9983294010162354
         ]
        },
        {
         "hovertemplate": "color=Geranospiza<br>TSNE1=%{x}<br>TSNE2=%{y}<br>TSNE3=%{z}<extra></extra>",
         "legendgroup": "Geranospiza",
         "marker": {
          "color": "#B82E2E",
          "symbol": "circle"
         },
         "mode": "markers",
         "name": "Geranospiza",
         "scene": "scene",
         "showlegend": true,
         "type": "scatter3d",
         "x": [
          -3.953075408935547,
          -1.2327576875686646
         ],
         "y": [
          4.441319465637207,
          -0.05438322201371193
         ],
         "z": [
          5.257909774780273,
          4.610611915588379
         ]
        },
        {
         "hovertemplate": "color=Glaucidium<br>TSNE1=%{x}<br>TSNE2=%{y}<br>TSNE3=%{z}<extra></extra>",
         "legendgroup": "Glaucidium",
         "marker": {
          "color": "#316395",
          "symbol": "circle"
         },
         "mode": "markers",
         "name": "Glaucidium",
         "scene": "scene",
         "showlegend": true,
         "type": "scatter3d",
         "x": [
          8.799732208251953,
          -3.643009662628174,
          1.9770100116729736
         ],
         "y": [
          1.3438761234283447,
          5.756267547607422,
          3.0735981464385986
         ],
         "z": [
          -1.9214590787887573,
          -4.222060203552246,
          1.0613164901733398
         ]
        },
        {
         "hovertemplate": "color=Glaucis<br>TSNE1=%{x}<br>TSNE2=%{y}<br>TSNE3=%{z}<extra></extra>",
         "legendgroup": "Glaucis",
         "marker": {
          "color": "#3366CC",
          "symbol": "circle"
         },
         "mode": "markers",
         "name": "Glaucis",
         "scene": "scene",
         "showlegend": true,
         "type": "scatter3d",
         "x": [
          -1.2504867315292358
         ],
         "y": [
          -3.630890130996704
         ],
         "z": [
          -3.0744307041168213
         ]
        },
        {
         "hovertemplate": "color=Glyphorynchus<br>TSNE1=%{x}<br>TSNE2=%{y}<br>TSNE3=%{z}<extra></extra>",
         "legendgroup": "Glyphorynchus",
         "marker": {
          "color": "#DC3912",
          "symbol": "circle"
         },
         "mode": "markers",
         "name": "Glyphorynchus",
         "scene": "scene",
         "showlegend": true,
         "type": "scatter3d",
         "x": [
          2.3140337467193604,
          -4.163700103759766
         ],
         "y": [
          -5.877763748168945,
          1.8068267107009888
         ],
         "z": [
          0.5742422342300415,
          3.6432812213897705
         ]
        },
        {
         "hovertemplate": "color=Gnorimopsar<br>TSNE1=%{x}<br>TSNE2=%{y}<br>TSNE3=%{z}<extra></extra>",
         "legendgroup": "Gnorimopsar",
         "marker": {
          "color": "#FF9900",
          "symbol": "circle"
         },
         "mode": "markers",
         "name": "Gnorimopsar",
         "scene": "scene",
         "showlegend": true,
         "type": "scatter3d",
         "x": [
          -2.8479933738708496
         ],
         "y": [
          3.1544952392578125
         ],
         "z": [
          1.778828501701355
         ]
        },
        {
         "hovertemplate": "color=Grallaria<br>TSNE1=%{x}<br>TSNE2=%{y}<br>TSNE3=%{z}<extra></extra>",
         "legendgroup": "Grallaria",
         "marker": {
          "color": "#109618",
          "symbol": "circle"
         },
         "mode": "markers",
         "name": "Grallaria",
         "scene": "scene",
         "showlegend": true,
         "type": "scatter3d",
         "x": [
          5.693168640136719,
          -1.5896495580673218,
          2.9519524574279785,
          -6.838438034057617,
          2.0013082027435303,
          0.43759676814079285
         ],
         "y": [
          2.8201255798339844,
          4.930075645446777,
          0.7920322418212891,
          -6.414588451385498,
          4.145112991333008,
          9.040699005126953
         ],
         "z": [
          0.3880787193775177,
          4.895871162414551,
          0.8118994235992432,
          -0.7689869999885559,
          4.871779441833496,
          3.553536891937256
         ]
        },
        {
         "hovertemplate": "color=Grallaricula<br>TSNE1=%{x}<br>TSNE2=%{y}<br>TSNE3=%{z}<extra></extra>",
         "legendgroup": "Grallaricula",
         "marker": {
          "color": "#990099",
          "symbol": "circle"
         },
         "mode": "markers",
         "name": "Grallaricula",
         "scene": "scene",
         "showlegend": true,
         "type": "scatter3d",
         "x": [
          -5.852163791656494,
          -1.9060677289962769,
          1.0368722677230835
         ],
         "y": [
          0.5202164649963379,
          2.671009063720703,
          6.483149528503418
         ],
         "z": [
          4.5136260986328125,
          1.2085742950439453,
          1.186902403831482
         ]
        },
        {
         "hovertemplate": "color=Gymnomystax<br>TSNE1=%{x}<br>TSNE2=%{y}<br>TSNE3=%{z}<extra></extra>",
         "legendgroup": "Gymnomystax",
         "marker": {
          "color": "#0099C6",
          "symbol": "circle"
         },
         "mode": "markers",
         "name": "Gymnomystax",
         "scene": "scene",
         "showlegend": true,
         "type": "scatter3d",
         "x": [
          1.8854433298110962
         ],
         "y": [
          3.157599925994873
         ],
         "z": [
          -0.8486030697822571
         ]
        },
        {
         "hovertemplate": "color=Habia<br>TSNE1=%{x}<br>TSNE2=%{y}<br>TSNE3=%{z}<extra></extra>",
         "legendgroup": "Habia",
         "marker": {
          "color": "#DD4477",
          "symbol": "circle"
         },
         "mode": "markers",
         "name": "Habia",
         "scene": "scene",
         "showlegend": true,
         "type": "scatter3d",
         "x": [
          -1.5401525497436523,
          -6.538193225860596
         ],
         "y": [
          -0.12527041137218475,
          -5.180995464324951
         ],
         "z": [
          3.873278856277466,
          -3.388170003890991
         ]
        },
        {
         "hovertemplate": "color=Hafferia<br>TSNE1=%{x}<br>TSNE2=%{y}<br>TSNE3=%{z}<extra></extra>",
         "legendgroup": "Hafferia",
         "marker": {
          "color": "#66AA00",
          "symbol": "circle"
         },
         "mode": "markers",
         "name": "Hafferia",
         "scene": "scene",
         "showlegend": true,
         "type": "scatter3d",
         "x": [
          4.522637367248535,
          -1.1849267482757568
         ],
         "y": [
          8.502830505371094,
          1.248779535293579
         ],
         "z": [
          1.4374102354049683,
          -2.7367911338806152
         ]
        },
        {
         "hovertemplate": "color=Haplophaedia<br>TSNE1=%{x}<br>TSNE2=%{y}<br>TSNE3=%{z}<extra></extra>",
         "legendgroup": "Haplophaedia",
         "marker": {
          "color": "#B82E2E",
          "symbol": "circle"
         },
         "mode": "markers",
         "name": "Haplophaedia",
         "scene": "scene",
         "showlegend": true,
         "type": "scatter3d",
         "x": [
          8.240232467651367
         ],
         "y": [
          -0.9924249053001404
         ],
         "z": [
          -0.5920987129211426
         ]
        },
        {
         "hovertemplate": "color=Haplospiza<br>TSNE1=%{x}<br>TSNE2=%{y}<br>TSNE3=%{z}<extra></extra>",
         "legendgroup": "Haplospiza",
         "marker": {
          "color": "#316395",
          "symbol": "circle"
         },
         "mode": "markers",
         "name": "Haplospiza",
         "scene": "scene",
         "showlegend": true,
         "type": "scatter3d",
         "x": [
          4.3002119064331055,
          3.62994647026062,
          -4.404491424560547,
          -1.2832155227661133,
          -0.23939074575901031
         ],
         "y": [
          6.107726097106934,
          6.649612903594971,
          4.213992595672607,
          -5.103184700012207,
          -0.42975345253944397
         ],
         "z": [
          0.7261691093444824,
          2.3360087871551514,
          4.93987512588501,
          2.5578627586364746,
          1.4466233253479004
         ]
        },
        {
         "hovertemplate": "color=Harpagus<br>TSNE1=%{x}<br>TSNE2=%{y}<br>TSNE3=%{z}<extra></extra>",
         "legendgroup": "Harpagus",
         "marker": {
          "color": "#3366CC",
          "symbol": "circle"
         },
         "mode": "markers",
         "name": "Harpagus",
         "scene": "scene",
         "showlegend": true,
         "type": "scatter3d",
         "x": [
          2.179219961166382,
          -2.4867665767669678,
          -6.765594482421875
         ],
         "y": [
          -3.004045248031616,
          -1.4759995937347412,
          -4.6058430671691895
         ],
         "z": [
          -2.2431387901306152,
          2.1918938159942627,
          -0.1554260551929474
         ]
        },
        {
         "hovertemplate": "color=Harpia<br>TSNE1=%{x}<br>TSNE2=%{y}<br>TSNE3=%{z}<extra></extra>",
         "legendgroup": "Harpia",
         "marker": {
          "color": "#DC3912",
          "symbol": "circle"
         },
         "mode": "markers",
         "name": "Harpia",
         "scene": "scene",
         "showlegend": true,
         "type": "scatter3d",
         "x": [
          1.4544483423233032
         ],
         "y": [
          1.1692887544631958
         ],
         "z": [
          1.5789029598236084
         ]
        },
        {
         "hovertemplate": "color=Helicolestes<br>TSNE1=%{x}<br>TSNE2=%{y}<br>TSNE3=%{z}<extra></extra>",
         "legendgroup": "Helicolestes",
         "marker": {
          "color": "#FF9900",
          "symbol": "circle"
         },
         "mode": "markers",
         "name": "Helicolestes",
         "scene": "scene",
         "showlegend": true,
         "type": "scatter3d",
         "x": [
          -0.25074663758277893,
          -1.4771220684051514,
          8.006549835205078
         ],
         "y": [
          2.8218584060668945,
          0.15412773191928864,
          2.103209972381592
         ],
         "z": [
          4.003110408782959,
          2.960815668106079,
          -5.056938648223877
         ]
        },
        {
         "hovertemplate": "color=Heliodoxa<br>TSNE1=%{x}<br>TSNE2=%{y}<br>TSNE3=%{z}<extra></extra>",
         "legendgroup": "Heliodoxa",
         "marker": {
          "color": "#109618",
          "symbol": "circle"
         },
         "mode": "markers",
         "name": "Heliodoxa",
         "scene": "scene",
         "showlegend": true,
         "type": "scatter3d",
         "x": [
          -7.253520965576172,
          -4.3239898681640625,
          7.362143039703369,
          -2.2406225204467773,
          -2.57169771194458,
          6.667718410491943,
          5.422976016998291,
          -3.271338701248169,
          -4.447473049163818
         ],
         "y": [
          -1.1506272554397583,
          -5.981692790985107,
          3.712681770324707,
          8.473318099975586,
          -3.0065901279449463,
          0.058684464544057846,
          -1.1097571849822998,
          2.4614055156707764,
          4.710956573486328
         ],
         "z": [
          1.978744387626648,
          0.8139755129814148,
          -1.0785458087921143,
          -4.20262336730957,
          4.427494525909424,
          1.5538113117218018,
          2.7215192317962646,
          -1.6397147178649902,
          -4.363250255584717
         ]
        },
        {
         "hovertemplate": "color=Heliomaster<br>TSNE1=%{x}<br>TSNE2=%{y}<br>TSNE3=%{z}<extra></extra>",
         "legendgroup": "Heliomaster",
         "marker": {
          "color": "#990099",
          "symbol": "circle"
         },
         "mode": "markers",
         "name": "Heliomaster",
         "scene": "scene",
         "showlegend": true,
         "type": "scatter3d",
         "x": [
          7.064469814300537,
          -4.175942897796631
         ],
         "y": [
          0.08687478303909302,
          -5.941154479980469
         ],
         "z": [
          -0.3483249545097351,
          0.572685182094574
         ]
        },
        {
         "hovertemplate": "color=Heliornis<br>TSNE1=%{x}<br>TSNE2=%{y}<br>TSNE3=%{z}<extra></extra>",
         "legendgroup": "Heliornis",
         "marker": {
          "color": "#0099C6",
          "symbol": "circle"
         },
         "mode": "markers",
         "name": "Heliornis",
         "scene": "scene",
         "showlegend": true,
         "type": "scatter3d",
         "x": [
          0.3254120945930481
         ],
         "y": [
          -4.186041355133057
         ],
         "z": [
          3.23966908454895
         ]
        },
        {
         "hovertemplate": "color=Heliothryx<br>TSNE1=%{x}<br>TSNE2=%{y}<br>TSNE3=%{z}<extra></extra>",
         "legendgroup": "Heliothryx",
         "marker": {
          "color": "#DD4477",
          "symbol": "circle"
         },
         "mode": "markers",
         "name": "Heliothryx",
         "scene": "scene",
         "showlegend": true,
         "type": "scatter3d",
         "x": [
          -0.5295122861862183
         ],
         "y": [
          -5.288666725158691
         ],
         "z": [
          2.93440842628479
         ]
        },
        {
         "hovertemplate": "color=Hemithraupis<br>TSNE1=%{x}<br>TSNE2=%{y}<br>TSNE3=%{z}<extra></extra>",
         "legendgroup": "Hemithraupis",
         "marker": {
          "color": "#66AA00",
          "symbol": "circle"
         },
         "mode": "markers",
         "name": "Hemithraupis",
         "scene": "scene",
         "showlegend": true,
         "type": "scatter3d",
         "x": [
          -0.5552946329116821,
          2.35176682472229,
          -6.054769039154053
         ],
         "y": [
          -5.2024688720703125,
          -6.067171573638916,
          0.7809824347496033
         ],
         "z": [
          3.169664144515991,
          0.1346200555562973,
          4.074160099029541
         ]
        },
        {
         "hovertemplate": "color=Hemitriccus<br>TSNE1=%{x}<br>TSNE2=%{y}<br>TSNE3=%{z}<extra></extra>",
         "legendgroup": "Hemitriccus",
         "marker": {
          "color": "#B82E2E",
          "symbol": "circle"
         },
         "mode": "markers",
         "name": "Hemitriccus",
         "scene": "scene",
         "showlegend": true,
         "type": "scatter3d",
         "x": [
          6.750759601593018,
          0.9631834030151367,
          3.3262834548950195,
          5.904821395874023,
          6.4088921546936035,
          8.165655136108398,
          0.050774235278367996,
          -2.9627177715301514,
          -6.8266520500183105,
          -3.7006795406341553,
          1.1625757217407227,
          4.4518303871154785
         ],
         "y": [
          6.573906898498535,
          6.125720024108887,
          -2.5523757934570312,
          6.148634433746338,
          -1.7482762336730957,
          1.9061545133590698,
          3.3061814308166504,
          7.3979411125183105,
          -4.091531753540039,
          2.484686851501465,
          3.144749164581299,
          5.716485023498535
         ],
         "z": [
          0.49317657947540283,
          4.695041656494141,
          2.896974563598633,
          2.0381386280059814,
          -0.8690952062606812,
          -3.7368972301483154,
          0.9677459597587585,
          4.60847806930542,
          0.5260347723960876,
          -2.247075080871582,
          1.8264976739883423,
          1.6176366806030273
         ]
        },
        {
         "hovertemplate": "color=Henicorhina<br>TSNE1=%{x}<br>TSNE2=%{y}<br>TSNE3=%{z}<extra></extra>",
         "legendgroup": "Henicorhina",
         "marker": {
          "color": "#316395",
          "symbol": "circle"
         },
         "mode": "markers",
         "name": "Henicorhina",
         "scene": "scene",
         "showlegend": true,
         "type": "scatter3d",
         "x": [
          -3.9603588581085205,
          8.29433822631836
         ],
         "y": [
          2.6396377086639404,
          1.658478021621704
         ],
         "z": [
          -2.426732063293457,
          -5.916566371917725
         ]
        },
        {
         "hovertemplate": "color=Herpetotheres<br>TSNE1=%{x}<br>TSNE2=%{y}<br>TSNE3=%{z}<extra></extra>",
         "legendgroup": "Herpetotheres",
         "marker": {
          "color": "#3366CC",
          "symbol": "circle"
         },
         "mode": "markers",
         "name": "Herpetotheres",
         "scene": "scene",
         "showlegend": true,
         "type": "scatter3d",
         "x": [
          4.766757488250732,
          8.809517860412598
         ],
         "y": [
          -4.350044250488281,
          2.3035311698913574
         ],
         "z": [
          -1.1679961681365967,
          -2.386867046356201
         ]
        },
        {
         "hovertemplate": "color=Herpsilochmus<br>TSNE1=%{x}<br>TSNE2=%{y}<br>TSNE3=%{z}<extra></extra>",
         "legendgroup": "Herpsilochmus",
         "marker": {
          "color": "#DC3912",
          "symbol": "circle"
         },
         "mode": "markers",
         "name": "Herpsilochmus",
         "scene": "scene",
         "showlegend": true,
         "type": "scatter3d",
         "x": [
          -5.978043556213379,
          -1.9483604431152344,
          0.19620288908481598,
          1.5532869100570679,
          -3.7363290786743164,
          -1.7502068281173706
         ],
         "y": [
          -1.4655245542526245,
          3.8766119480133057,
          6.225189208984375,
          3.3129348754882812,
          -7.001330852508545,
          4.767107009887695
         ],
         "z": [
          -4.443087100982666,
          3.7706103324890137,
          3.1381375789642334,
          2.879103899002075,
          1.2888785600662231,
          5.009995460510254
         ]
        },
        {
         "hovertemplate": "color=Heterocercus<br>TSNE1=%{x}<br>TSNE2=%{y}<br>TSNE3=%{z}<extra></extra>",
         "legendgroup": "Heterocercus",
         "marker": {
          "color": "#FF9900",
          "symbol": "circle"
         },
         "mode": "markers",
         "name": "Heterocercus",
         "scene": "scene",
         "showlegend": true,
         "type": "scatter3d",
         "x": [
          0.38210979104042053
         ],
         "y": [
          -2.3442859649658203
         ],
         "z": [
          3.016235113143921
         ]
        },
        {
         "hovertemplate": "color=Himantopus<br>TSNE1=%{x}<br>TSNE2=%{y}<br>TSNE3=%{z}<extra></extra>",
         "legendgroup": "Himantopus",
         "marker": {
          "color": "#109618",
          "symbol": "circle"
         },
         "mode": "markers",
         "name": "Himantopus",
         "scene": "scene",
         "showlegend": true,
         "type": "scatter3d",
         "x": [
          2.9131228923797607,
          9.345561027526855,
          9.493269920349121
         ],
         "y": [
          4.125592231750488,
          4.905202388763428,
          5.011388301849365
         ],
         "z": [
          -3.0333001613616943,
          -0.43387725949287415,
          -0.3636355996131897
         ]
        },
        {
         "hovertemplate": "color=Hirundinea<br>TSNE1=%{x}<br>TSNE2=%{y}<br>TSNE3=%{z}<extra></extra>",
         "legendgroup": "Hirundinea",
         "marker": {
          "color": "#990099",
          "symbol": "circle"
         },
         "mode": "markers",
         "name": "Hirundinea",
         "scene": "scene",
         "showlegend": true,
         "type": "scatter3d",
         "x": [
          -6.133943557739258,
          3.6299808025360107,
          -4.793745517730713,
          -2.6624503135681152
         ],
         "y": [
          -2.1572115421295166,
          2.8831892013549805,
          -2.8468472957611084,
          0.24700957536697388
         ],
         "z": [
          -1.4846341609954834,
          -2.016658306121826,
          2.7384324073791504,
          2.7049942016601562
         ]
        },
        {
         "hovertemplate": "color=Hydropsalis<br>TSNE1=%{x}<br>TSNE2=%{y}<br>TSNE3=%{z}<extra></extra>",
         "legendgroup": "Hydropsalis",
         "marker": {
          "color": "#0099C6",
          "symbol": "circle"
         },
         "mode": "markers",
         "name": "Hydropsalis",
         "scene": "scene",
         "showlegend": true,
         "type": "scatter3d",
         "x": [
          -0.02917475439608097,
          -3.6998941898345947,
          -4.045612335205078,
          4.6763482093811035,
          8.746697425842285
         ],
         "y": [
          -1.9182159900665283,
          -2.8383564949035645,
          0.25462883710861206,
          -3.0642459392547607,
          5.537879943847656
         ],
         "z": [
          1.622927188873291,
          0.9939929842948914,
          5.133789539337158,
          2.2199366092681885,
          0.08623384684324265
         ]
        },
        {
         "hovertemplate": "color=Hylexetastes<br>TSNE1=%{x}<br>TSNE2=%{y}<br>TSNE3=%{z}<extra></extra>",
         "legendgroup": "Hylexetastes",
         "marker": {
          "color": "#DD4477",
          "symbol": "circle"
         },
         "mode": "markers",
         "name": "Hylexetastes",
         "scene": "scene",
         "showlegend": true,
         "type": "scatter3d",
         "x": [
          -0.6150097846984863,
          -4.816229820251465,
          -4.913802146911621,
          -1.5383986234664917
         ],
         "y": [
          8.595059394836426,
          3.1019625663757324,
          3.8159844875335693,
          8.247775077819824
         ],
         "z": [
          3.3256967067718506,
          -2.906461715698242,
          1.6224464178085327,
          4.07780122756958
         ]
        },
        {
         "hovertemplate": "color=Hylopezus<br>TSNE1=%{x}<br>TSNE2=%{y}<br>TSNE3=%{z}<extra></extra>",
         "legendgroup": "Hylopezus",
         "marker": {
          "color": "#66AA00",
          "symbol": "circle"
         },
         "mode": "markers",
         "name": "Hylopezus",
         "scene": "scene",
         "showlegend": true,
         "type": "scatter3d",
         "x": [
          2.6218273639678955
         ],
         "y": [
          -3.6275768280029297
         ],
         "z": [
          -0.8418855667114258
         ]
        },
        {
         "hovertemplate": "color=Hylophilus<br>TSNE1=%{x}<br>TSNE2=%{y}<br>TSNE3=%{z}<extra></extra>",
         "legendgroup": "Hylophilus",
         "marker": {
          "color": "#B82E2E",
          "symbol": "circle"
         },
         "mode": "markers",
         "name": "Hylophilus",
         "scene": "scene",
         "showlegend": true,
         "type": "scatter3d",
         "x": [
          -1.2268810272216797,
          -4.753516674041748
         ],
         "y": [
          2.0855600833892822,
          0.46800497174263
         ],
         "z": [
          1.146979570388794,
          -1.802383542060852
         ]
        },
        {
         "hovertemplate": "color=Hylophylax<br>TSNE1=%{x}<br>TSNE2=%{y}<br>TSNE3=%{z}<extra></extra>",
         "legendgroup": "Hylophylax",
         "marker": {
          "color": "#316395",
          "symbol": "circle"
         },
         "mode": "markers",
         "name": "Hylophylax",
         "scene": "scene",
         "showlegend": true,
         "type": "scatter3d",
         "x": [
          0.2894987463951111,
          -0.10809330642223358,
          5.602604866027832
         ],
         "y": [
          4.378068923950195,
          4.018289566040039,
          2.615140676498413
         ],
         "z": [
          -1.1356875896453857,
          -0.6656184792518616,
          -3.411829948425293
         ]
        },
        {
         "hovertemplate": "color=Hypocnemis<br>TSNE1=%{x}<br>TSNE2=%{y}<br>TSNE3=%{z}<extra></extra>",
         "legendgroup": "Hypocnemis",
         "marker": {
          "color": "#3366CC",
          "symbol": "circle"
         },
         "mode": "markers",
         "name": "Hypocnemis",
         "scene": "scene",
         "showlegend": true,
         "type": "scatter3d",
         "x": [
          -5.5692667961120605,
          -0.28786322474479675,
          7.382700443267822,
          -1.498898983001709,
          -3.6933066844940186
         ],
         "y": [
          2.1250081062316895,
          8.072633743286133,
          0.5275723338127136,
          2.6938557624816895,
          2.466542959213257
         ],
         "z": [
          -3.960967779159546,
          4.050340175628662,
          -5.156702995300293,
          0.4674285352230072,
          0.8832236528396606
         ]
        },
        {
         "hovertemplate": "color=Hypocnemoides<br>TSNE1=%{x}<br>TSNE2=%{y}<br>TSNE3=%{z}<extra></extra>",
         "legendgroup": "Hypocnemoides",
         "marker": {
          "color": "#DC3912",
          "symbol": "circle"
         },
         "mode": "markers",
         "name": "Hypocnemoides",
         "scene": "scene",
         "showlegend": true,
         "type": "scatter3d",
         "x": [
          2.7531373500823975,
          4.776542663574219
         ],
         "y": [
          5.937652111053467,
          4.572892665863037
         ],
         "z": [
          -0.34702351689338684,
          -0.4662865400314331
         ]
        },
        {
         "hovertemplate": "color=Ibycter<br>TSNE1=%{x}<br>TSNE2=%{y}<br>TSNE3=%{z}<extra></extra>",
         "legendgroup": "Ibycter",
         "marker": {
          "color": "#FF9900",
          "symbol": "circle"
         },
         "mode": "markers",
         "name": "Ibycter",
         "scene": "scene",
         "showlegend": true,
         "type": "scatter3d",
         "x": [
          2.879436731338501
         ],
         "y": [
          4.0037360191345215
         ],
         "z": [
          -1.861006736755371
         ]
        },
        {
         "hovertemplate": "color=Icterus<br>TSNE1=%{x}<br>TSNE2=%{y}<br>TSNE3=%{z}<extra></extra>",
         "legendgroup": "Icterus",
         "marker": {
          "color": "#109618",
          "symbol": "circle"
         },
         "mode": "markers",
         "name": "Icterus",
         "scene": "scene",
         "showlegend": true,
         "type": "scatter3d",
         "x": [
          1.3380253314971924,
          -6.342905521392822,
          3.1533682346343994
         ],
         "y": [
          3.182142972946167,
          -2.182065010070801,
          -4.92081880569458
         ],
         "z": [
          -0.9469532370567322,
          -1.8525608777999878,
          -3.4626572132110596
         ]
        },
        {
         "hovertemplate": "color=Ictinia<br>TSNE1=%{x}<br>TSNE2=%{y}<br>TSNE3=%{z}<extra></extra>",
         "legendgroup": "Ictinia",
         "marker": {
          "color": "#990099",
          "symbol": "circle"
         },
         "mode": "markers",
         "name": "Ictinia",
         "scene": "scene",
         "showlegend": true,
         "type": "scatter3d",
         "x": [
          -1.639991044998169,
          -3.801389455795288,
          -6.890438079833984,
          -3.730914354324341,
          -7.007182598114014
         ],
         "y": [
          -4.848240852355957,
          -2.447890281677246,
          -4.690366268157959,
          0.019634202122688293,
          -3.8633718490600586
         ],
         "z": [
          -1.2645412683486938,
          1.6541645526885986,
          0.6725050806999207,
          4.935211658477783,
          1.1761804819107056
         ]
        },
        {
         "hovertemplate": "color=Inezia<br>TSNE1=%{x}<br>TSNE2=%{y}<br>TSNE3=%{z}<extra></extra>",
         "legendgroup": "Inezia",
         "marker": {
          "color": "#0099C6",
          "symbol": "circle"
         },
         "mode": "markers",
         "name": "Inezia",
         "scene": "scene",
         "showlegend": true,
         "type": "scatter3d",
         "x": [
          -5.911230564117432,
          -3.0174648761749268,
          -6.859146595001221
         ],
         "y": [
          -5.827398777008057,
          -1.0295777320861816,
          -3.8202438354492188
         ],
         "z": [
          -4.556384086608887,
          4.506889820098877,
          0.8983321785926819
         ]
        },
        {
         "hovertemplate": "color=Iodopleura<br>TSNE1=%{x}<br>TSNE2=%{y}<br>TSNE3=%{z}<extra></extra>",
         "legendgroup": "Iodopleura",
         "marker": {
          "color": "#DD4477",
          "symbol": "circle"
         },
         "mode": "markers",
         "name": "Iodopleura",
         "scene": "scene",
         "showlegend": true,
         "type": "scatter3d",
         "x": [
          2.061133861541748,
          5.226974964141846,
          2.032075881958008
         ],
         "y": [
          5.17785120010376,
          -0.5102589130401611,
          -1.80938720703125
         ],
         "z": [
          4.69973087310791,
          2.69050669670105,
          3.916966676712036
         ]
        },
        {
         "hovertemplate": "color=Iridophanes<br>TSNE1=%{x}<br>TSNE2=%{y}<br>TSNE3=%{z}<extra></extra>",
         "legendgroup": "Iridophanes",
         "marker": {
          "color": "#66AA00",
          "symbol": "circle"
         },
         "mode": "markers",
         "name": "Iridophanes",
         "scene": "scene",
         "showlegend": true,
         "type": "scatter3d",
         "x": [
          -3.037320613861084
         ],
         "y": [
          4.468708515167236
         ],
         "z": [
          5.380558490753174
         ]
        },
        {
         "hovertemplate": "color=Iridosornis<br>TSNE1=%{x}<br>TSNE2=%{y}<br>TSNE3=%{z}<extra></extra>",
         "legendgroup": "Iridosornis",
         "marker": {
          "color": "#B82E2E",
          "symbol": "circle"
         },
         "mode": "markers",
         "name": "Iridosornis",
         "scene": "scene",
         "showlegend": true,
         "type": "scatter3d",
         "x": [
          -2.3453032970428467,
          0.11871349811553955,
          2.940295457839966,
          3.6842546463012695,
          8.824518203735352,
          4.33442497253418
         ],
         "y": [
          -0.9555103182792664,
          0.5214269161224365,
          -6.975016117095947,
          6.793054580688477,
          1.7768871784210205,
          4.39838981628418
         ],
         "z": [
          4.880639553070068,
          2.7245092391967773,
          -1.1570156812667847,
          2.5864264965057373,
          -2.32891845703125,
          4.745576858520508
         ]
        },
        {
         "hovertemplate": "color=Isleria<br>TSNE1=%{x}<br>TSNE2=%{y}<br>TSNE3=%{z}<extra></extra>",
         "legendgroup": "Isleria",
         "marker": {
          "color": "#316395",
          "symbol": "circle"
         },
         "mode": "markers",
         "name": "Isleria",
         "scene": "scene",
         "showlegend": true,
         "type": "scatter3d",
         "x": [
          -5.521082401275635,
          -1.5339523553848267
         ],
         "y": [
          1.6567325592041016,
          1.2701362371444702
         ],
         "z": [
          -1.0431278944015503,
          -0.8940867185592651
         ]
        },
        {
         "hovertemplate": "color=Ixobrychus<br>TSNE1=%{x}<br>TSNE2=%{y}<br>TSNE3=%{z}<extra></extra>",
         "legendgroup": "Ixobrychus",
         "marker": {
          "color": "#3366CC",
          "symbol": "circle"
         },
         "mode": "markers",
         "name": "Ixobrychus",
         "scene": "scene",
         "showlegend": true,
         "type": "scatter3d",
         "x": [
          -5.341528415679932,
          -2.8702423572540283,
          -6.177491188049316
         ],
         "y": [
          -2.5579445362091064,
          -8.093266487121582,
          -5.559828281402588
         ],
         "z": [
          3.468280553817749,
          -0.9109667539596558,
          -3.8228604793548584
         ]
        },
        {
         "hovertemplate": "color=Jabiru<br>TSNE1=%{x}<br>TSNE2=%{y}<br>TSNE3=%{z}<extra></extra>",
         "legendgroup": "Jabiru",
         "marker": {
          "color": "#DC3912",
          "symbol": "circle"
         },
         "mode": "markers",
         "name": "Jabiru",
         "scene": "scene",
         "showlegend": true,
         "type": "scatter3d",
         "x": [
          3.038925886154175,
          6.669676303863525
         ],
         "y": [
          -0.4900650680065155,
          0.24346742033958435
         ],
         "z": [
          4.793851852416992,
          -4.145098686218262
         ]
        },
        {
         "hovertemplate": "color=Jacamerops<br>TSNE1=%{x}<br>TSNE2=%{y}<br>TSNE3=%{z}<extra></extra>",
         "legendgroup": "Jacamerops",
         "marker": {
          "color": "#FF9900",
          "symbol": "circle"
         },
         "mode": "markers",
         "name": "Jacamerops",
         "scene": "scene",
         "showlegend": true,
         "type": "scatter3d",
         "x": [
          -2.3518083095550537,
          -5.647141933441162,
          -6.211872100830078
         ],
         "y": [
          3.582698345184326,
          2.2576775550842285,
          -1.7603387832641602
         ],
         "z": [
          2.411548376083374,
          1.1619162559509277,
          -3.5615909099578857
         ]
        },
        {
         "hovertemplate": "color=Jacana<br>TSNE1=%{x}<br>TSNE2=%{y}<br>TSNE3=%{z}<extra></extra>",
         "legendgroup": "Jacana",
         "marker": {
          "color": "#109618",
          "symbol": "circle"
         },
         "mode": "markers",
         "name": "Jacana",
         "scene": "scene",
         "showlegend": true,
         "type": "scatter3d",
         "x": [
          -3.643479824066162
         ],
         "y": [
          -1.4286662340164185
         ],
         "z": [
          -3.344353675842285
         ]
        },
        {
         "hovertemplate": "color=Klais<br>TSNE1=%{x}<br>TSNE2=%{y}<br>TSNE3=%{z}<extra></extra>",
         "legendgroup": "Klais",
         "marker": {
          "color": "#990099",
          "symbol": "circle"
         },
         "mode": "markers",
         "name": "Klais",
         "scene": "scene",
         "showlegend": true,
         "type": "scatter3d",
         "x": [
          8.842963218688965
         ],
         "y": [
          0.8974003791809082
         ],
         "z": [
          -0.6180338859558105
         ]
        },
        {
         "hovertemplate": "color=Knipolegus<br>TSNE1=%{x}<br>TSNE2=%{y}<br>TSNE3=%{z}<extra></extra>",
         "legendgroup": "Knipolegus",
         "marker": {
          "color": "#0099C6",
          "symbol": "circle"
         },
         "mode": "markers",
         "name": "Knipolegus",
         "scene": "scene",
         "showlegend": true,
         "type": "scatter3d",
         "x": [
          -6.121472358703613,
          1.7035536766052246,
          -1.7008649110794067,
          3.7543346881866455,
          6.346987247467041,
          8.625884056091309
         ],
         "y": [
          -7.662405967712402,
          -8.084634780883789,
          -9.044241905212402,
          7.939066410064697,
          -4.130087852478027,
          0.8217992186546326
         ],
         "z": [
          -2.979074478149414,
          -2.424471616744995,
          -3.8062825202941895,
          3.532255172729492,
          -0.6486579179763794,
          -0.5481550693511963
         ]
        },
        {
         "hovertemplate": "color=Lamprospiza<br>TSNE1=%{x}<br>TSNE2=%{y}<br>TSNE3=%{z}<extra></extra>",
         "legendgroup": "Lamprospiza",
         "marker": {
          "color": "#DD4477",
          "symbol": "circle"
         },
         "mode": "markers",
         "name": "Lamprospiza",
         "scene": "scene",
         "showlegend": true,
         "type": "scatter3d",
         "x": [
          5.794856071472168,
          5.968559741973877
         ],
         "y": [
          5.444849967956543,
          1.466463565826416
         ],
         "z": [
          2.2264132499694824,
          0.9124948382377625
         ]
        },
        {
         "hovertemplate": "color=Laniisoma<br>TSNE1=%{x}<br>TSNE2=%{y}<br>TSNE3=%{z}<extra></extra>",
         "legendgroup": "Laniisoma",
         "marker": {
          "color": "#66AA00",
          "symbol": "circle"
         },
         "mode": "markers",
         "name": "Laniisoma",
         "scene": "scene",
         "showlegend": true,
         "type": "scatter3d",
         "x": [
          3.9356443881988525,
          4.798376083374023
         ],
         "y": [
          3.3493738174438477,
          2.5855729579925537
         ],
         "z": [
          3.8908982276916504,
          0.8931072354316711
         ]
        },
        {
         "hovertemplate": "color=Lanio<br>TSNE1=%{x}<br>TSNE2=%{y}<br>TSNE3=%{z}<extra></extra>",
         "legendgroup": "Lanio",
         "marker": {
          "color": "#B82E2E",
          "symbol": "circle"
         },
         "mode": "markers",
         "name": "Lanio",
         "scene": "scene",
         "showlegend": true,
         "type": "scatter3d",
         "x": [
          -1.6816097497940063,
          2.1383371353149414
         ],
         "y": [
          -1.3788803815841675,
          0.2986642122268677
         ],
         "z": [
          4.613734245300293,
          1.6529247760772705
         ]
        },
        {
         "hovertemplate": "color=Laniocera<br>TSNE1=%{x}<br>TSNE2=%{y}<br>TSNE3=%{z}<extra></extra>",
         "legendgroup": "Laniocera",
         "marker": {
          "color": "#316395",
          "symbol": "circle"
         },
         "mode": "markers",
         "name": "Laniocera",
         "scene": "scene",
         "showlegend": true,
         "type": "scatter3d",
         "x": [
          4.95202112197876
         ],
         "y": [
          3.9892115592956543
         ],
         "z": [
          -0.05440390855073929
         ]
        },
        {
         "hovertemplate": "color=Laterallus<br>TSNE1=%{x}<br>TSNE2=%{y}<br>TSNE3=%{z}<extra></extra>",
         "legendgroup": "Laterallus",
         "marker": {
          "color": "#3366CC",
          "symbol": "circle"
         },
         "mode": "markers",
         "name": "Laterallus",
         "scene": "scene",
         "showlegend": true,
         "type": "scatter3d",
         "x": [
          -5.2931294441223145,
          1.6280615329742432
         ],
         "y": [
          0.07145632058382034,
          2.6663856506347656
         ],
         "z": [
          -2.6053626537323,
          -4.193857669830322
         ]
        },
        {
         "hovertemplate": "color=Lathrotriccus<br>TSNE1=%{x}<br>TSNE2=%{y}<br>TSNE3=%{z}<extra></extra>",
         "legendgroup": "Lathrotriccus",
         "marker": {
          "color": "#DC3912",
          "symbol": "circle"
         },
         "mode": "markers",
         "name": "Lathrotriccus",
         "scene": "scene",
         "showlegend": true,
         "type": "scatter3d",
         "x": [
          4.754767417907715,
          4.491599082946777
         ],
         "y": [
          2.8910582065582275,
          -0.7223660349845886
         ],
         "z": [
          0.1995965540409088,
          0.5903578996658325
         ]
        },
        {
         "hovertemplate": "color=Legatus<br>TSNE1=%{x}<br>TSNE2=%{y}<br>TSNE3=%{z}<extra></extra>",
         "legendgroup": "Legatus",
         "marker": {
          "color": "#FF9900",
          "symbol": "circle"
         },
         "mode": "markers",
         "name": "Legatus",
         "scene": "scene",
         "showlegend": true,
         "type": "scatter3d",
         "x": [
          4.03714656829834,
          5.944629192352295
         ],
         "y": [
          3.6207919120788574,
          2.465498208999634
         ],
         "z": [
          3.6130897998809814,
          0.23052828013896942
         ]
        },
        {
         "hovertemplate": "color=Leistes<br>TSNE1=%{x}<br>TSNE2=%{y}<br>TSNE3=%{z}<extra></extra>",
         "legendgroup": "Leistes",
         "marker": {
          "color": "#109618",
          "symbol": "circle"
         },
         "mode": "markers",
         "name": "Leistes",
         "scene": "scene",
         "showlegend": true,
         "type": "scatter3d",
         "x": [
          -4.130764484405518,
          -1.189704179763794
         ],
         "y": [
          -2.305119752883911,
          3.7988486289978027
         ],
         "z": [
          2.0322699546813965,
          -3.289316415786743
         ]
        },
        {
         "hovertemplate": "color=Lepidocolaptes<br>TSNE1=%{x}<br>TSNE2=%{y}<br>TSNE3=%{z}<extra></extra>",
         "legendgroup": "Lepidocolaptes",
         "marker": {
          "color": "#990099",
          "symbol": "circle"
         },
         "mode": "markers",
         "name": "Lepidocolaptes",
         "scene": "scene",
         "showlegend": true,
         "type": "scatter3d",
         "x": [
          -5.9839043617248535,
          6.902161598205566,
          -1.653374195098877
         ],
         "y": [
          -1.297478437423706,
          6.298410415649414,
          5.123770713806152
         ],
         "z": [
          -4.335166931152344,
          0.964737594127655,
          1.7113447189331055
         ]
        },
        {
         "hovertemplate": "color=Lepidothrix<br>TSNE1=%{x}<br>TSNE2=%{y}<br>TSNE3=%{z}<extra></extra>",
         "legendgroup": "Lepidothrix",
         "marker": {
          "color": "#0099C6",
          "symbol": "circle"
         },
         "mode": "markers",
         "name": "Lepidothrix",
         "scene": "scene",
         "showlegend": true,
         "type": "scatter3d",
         "x": [
          3.332019090652466,
          0.6311951279640198,
          -1.5412126779556274,
          -3.8947417736053467,
          -3.8488106727600098,
          -0.15708452463150024,
          4.355635643005371
         ],
         "y": [
          -0.0644705593585968,
          -5.032928943634033,
          -0.6051331162452698,
          -2.6208693981170654,
          -2.5333008766174316,
          -7.829583644866943,
          4.115644931793213
         ],
         "z": [
          3.724323034286499,
          -2.9746885299682617,
          4.146849632263184,
          0.8513054251670837,
          1.5465818643569946,
          -2.934051990509033,
          3.4561057090759277
         ]
        },
        {
         "hovertemplate": "color=Leptodon<br>TSNE1=%{x}<br>TSNE2=%{y}<br>TSNE3=%{z}<extra></extra>",
         "legendgroup": "Leptodon",
         "marker": {
          "color": "#DD4477",
          "symbol": "circle"
         },
         "mode": "markers",
         "name": "Leptodon",
         "scene": "scene",
         "showlegend": true,
         "type": "scatter3d",
         "x": [
          8.979820251464844,
          -6.720789432525635
         ],
         "y": [
          2.0773837566375732,
          -2.080070972442627
         ],
         "z": [
          -6.462531566619873,
          1.3483422994613647
         ]
        },
        {
         "hovertemplate": "color=Leptopogon<br>TSNE1=%{x}<br>TSNE2=%{y}<br>TSNE3=%{z}<extra></extra>",
         "legendgroup": "Leptopogon",
         "marker": {
          "color": "#66AA00",
          "symbol": "circle"
         },
         "mode": "markers",
         "name": "Leptopogon",
         "scene": "scene",
         "showlegend": true,
         "type": "scatter3d",
         "x": [
          -6.5493974685668945,
          -6.109745025634766,
          -3.6727559566497803,
          -4.1275553703308105,
          3.494093418121338,
          4.730090618133545,
          -0.9580172300338745
         ],
         "y": [
          -6.358134746551514,
          -2.0447399616241455,
          -3.085451602935791,
          -8.595086097717285,
          1.445736289024353,
          -1.0550965070724487,
          -5.365618705749512
         ],
         "z": [
          -2.8920488357543945,
          -3.8720529079437256,
          3.3111960887908936,
          -2.5885231494903564,
          2.1979477405548096,
          3.0390639305114746,
          1.6509140729904175
         ]
        },
        {
         "hovertemplate": "color=Leptosittaca<br>TSNE1=%{x}<br>TSNE2=%{y}<br>TSNE3=%{z}<extra></extra>",
         "legendgroup": "Leptosittaca",
         "marker": {
          "color": "#B82E2E",
          "symbol": "circle"
         },
         "mode": "markers",
         "name": "Leptosittaca",
         "scene": "scene",
         "showlegend": true,
         "type": "scatter3d",
         "x": [
          -0.5726242065429688,
          -3.600205898284912
         ],
         "y": [
          -1.4939833879470825,
          -7.961917877197266
         ],
         "z": [
          -3.9045047760009766,
          -1.7485240697860718
         ]
        },
        {
         "hovertemplate": "color=Leptotila<br>TSNE1=%{x}<br>TSNE2=%{y}<br>TSNE3=%{z}<extra></extra>",
         "legendgroup": "Leptotila",
         "marker": {
          "color": "#316395",
          "symbol": "circle"
         },
         "mode": "markers",
         "name": "Leptotila",
         "scene": "scene",
         "showlegend": true,
         "type": "scatter3d",
         "x": [
          1.0475963354110718,
          -0.06429440528154373,
          -2.057654857635498,
          -3.7312135696411133
         ],
         "y": [
          2.4361815452575684,
          1.3049805164337158,
          -0.7586567401885986,
          -0.4146220088005066
         ],
         "z": [
          2.0480823516845703,
          5.1772003173828125,
          4.492967128753662,
          4.5725789070129395
         ]
        },
        {
         "hovertemplate": "color=Leucopternis<br>TSNE1=%{x}<br>TSNE2=%{y}<br>TSNE3=%{z}<extra></extra>",
         "legendgroup": "Leucopternis",
         "marker": {
          "color": "#3366CC",
          "symbol": "circle"
         },
         "mode": "markers",
         "name": "Leucopternis",
         "scene": "scene",
         "showlegend": true,
         "type": "scatter3d",
         "x": [
          -3.3760528564453125,
          -4.777638912200928,
          -1.5658376216888428,
          5.813072681427002
         ],
         "y": [
          -5.139932632446289,
          -4.69700813293457,
          -2.84645938873291,
          -0.5994851589202881
         ],
         "z": [
          1.332081913948059,
          0.9251151084899902,
          -0.023903438821434975,
          -4.70502233505249
         ]
        },
        {
         "hovertemplate": "color=Limnodromus<br>TSNE1=%{x}<br>TSNE2=%{y}<br>TSNE3=%{z}<extra></extra>",
         "legendgroup": "Limnodromus",
         "marker": {
          "color": "#DC3912",
          "symbol": "circle"
         },
         "mode": "markers",
         "name": "Limnodromus",
         "scene": "scene",
         "showlegend": true,
         "type": "scatter3d",
         "x": [
          5.135261535644531
         ],
         "y": [
          2.333710193634033
         ],
         "z": [
          0.7215780019760132
         ]
        },
        {
         "hovertemplate": "color=Limosa<br>TSNE1=%{x}<br>TSNE2=%{y}<br>TSNE3=%{z}<extra></extra>",
         "legendgroup": "Limosa",
         "marker": {
          "color": "#FF9900",
          "symbol": "circle"
         },
         "mode": "markers",
         "name": "Limosa",
         "scene": "scene",
         "showlegend": true,
         "type": "scatter3d",
         "x": [
          5.4193525314331055,
          7.567350387573242
         ],
         "y": [
          -0.12239551544189453,
          -0.825629711151123
         ],
         "z": [
          -1.5475951433181763,
          -0.2775563895702362
         ]
        },
        {
         "hovertemplate": "color=Liosceles<br>TSNE1=%{x}<br>TSNE2=%{y}<br>TSNE3=%{z}<extra></extra>",
         "legendgroup": "Liosceles",
         "marker": {
          "color": "#109618",
          "symbol": "circle"
         },
         "mode": "markers",
         "name": "Liosceles",
         "scene": "scene",
         "showlegend": true,
         "type": "scatter3d",
         "x": [
          4.002160549163818,
          -0.0988650843501091,
          1.9226138591766357
         ],
         "y": [
          9.347058296203613,
          9.001225471496582,
          -6.402046203613281
         ],
         "z": [
          2.7587571144104004,
          3.5388927459716797,
          -2.121539831161499
         ]
        },
        {
         "hovertemplate": "color=Lochmias<br>TSNE1=%{x}<br>TSNE2=%{y}<br>TSNE3=%{z}<extra></extra>",
         "legendgroup": "Lochmias",
         "marker": {
          "color": "#990099",
          "symbol": "circle"
         },
         "mode": "markers",
         "name": "Lochmias",
         "scene": "scene",
         "showlegend": true,
         "type": "scatter3d",
         "x": [
          2.993161678314209,
          -2.4667434692382812
         ],
         "y": [
          6.92164945602417,
          7.161291122436523
         ],
         "z": [
          -2.4180376529693604,
          -4.1559834480285645
         ]
        },
        {
         "hovertemplate": "color=Lophornis<br>TSNE1=%{x}<br>TSNE2=%{y}<br>TSNE3=%{z}<extra></extra>",
         "legendgroup": "Lophornis",
         "marker": {
          "color": "#0099C6",
          "symbol": "circle"
         },
         "mode": "markers",
         "name": "Lophornis",
         "scene": "scene",
         "showlegend": true,
         "type": "scatter3d",
         "x": [
          -3.8363890647888184,
          -4.6619110107421875
         ],
         "y": [
          -8.152059555053711,
          -7.80474853515625
         ],
         "z": [
          -1.0073221921920776,
          -0.3070674538612366
         ]
        },
        {
         "hovertemplate": "color=Lophostrix<br>TSNE1=%{x}<br>TSNE2=%{y}<br>TSNE3=%{z}<extra></extra>",
         "legendgroup": "Lophostrix",
         "marker": {
          "color": "#DD4477",
          "symbol": "circle"
         },
         "mode": "markers",
         "name": "Lophostrix",
         "scene": "scene",
         "showlegend": true,
         "type": "scatter3d",
         "x": [
          -1.54171621799469,
          3.8126168251037598
         ],
         "y": [
          -3.347317934036255,
          7.641402244567871
         ],
         "z": [
          4.721835136413574,
          2.993133306503296
         ]
        },
        {
         "hovertemplate": "color=Lophotriccus<br>TSNE1=%{x}<br>TSNE2=%{y}<br>TSNE3=%{z}<extra></extra>",
         "legendgroup": "Lophotriccus",
         "marker": {
          "color": "#66AA00",
          "symbol": "circle"
         },
         "mode": "markers",
         "name": "Lophotriccus",
         "scene": "scene",
         "showlegend": true,
         "type": "scatter3d",
         "x": [
          -3.936197519302368,
          0.42862364649772644,
          -3.205947160720825
         ],
         "y": [
          -0.5050011873245239,
          -8.024555206298828,
          -3.6060948371887207
         ],
         "z": [
          -2.958096981048584,
          -3.4943041801452637,
          -3.773855686187744
         ]
        },
        {
         "hovertemplate": "color=Lurocalis<br>TSNE1=%{x}<br>TSNE2=%{y}<br>TSNE3=%{z}<extra></extra>",
         "legendgroup": "Lurocalis",
         "marker": {
          "color": "#B82E2E",
          "symbol": "circle"
         },
         "mode": "markers",
         "name": "Lurocalis",
         "scene": "scene",
         "showlegend": true,
         "type": "scatter3d",
         "x": [
          2.2205088138580322,
          1.9784098863601685,
          -4.830252647399902,
          -4.850670337677002,
          -5.262154579162598
         ],
         "y": [
          0.5114036202430725,
          -6.06581974029541,
          2.993133306503296,
          -7.547527313232422,
          -8.069921493530273
         ],
         "z": [
          -2.1664276123046875,
          0.06206030771136284,
          -2.9165849685668945,
          -0.655203104019165,
          -3.4830408096313477
         ]
        },
        {
         "hovertemplate": "color=Machaeropterus<br>TSNE1=%{x}<br>TSNE2=%{y}<br>TSNE3=%{z}<extra></extra>",
         "legendgroup": "Machaeropterus",
         "marker": {
          "color": "#316395",
          "symbol": "circle"
         },
         "mode": "markers",
         "name": "Machaeropterus",
         "scene": "scene",
         "showlegend": true,
         "type": "scatter3d",
         "x": [
          1.8803340196609497,
          0.937782883644104
         ],
         "y": [
          -1.5576510429382324,
          3.8686373233795166
         ],
         "z": [
          3.986650228500366,
          5.2581868171691895
         ]
        },
        {
         "hovertemplate": "color=Malacoptila<br>TSNE1=%{x}<br>TSNE2=%{y}<br>TSNE3=%{z}<extra></extra>",
         "legendgroup": "Malacoptila",
         "marker": {
          "color": "#3366CC",
          "symbol": "circle"
         },
         "mode": "markers",
         "name": "Malacoptila",
         "scene": "scene",
         "showlegend": true,
         "type": "scatter3d",
         "x": [
          -1.1655757427215576,
          0.26773297786712646,
          -2.6576521396636963,
          -0.9459223747253418,
          -0.30610814690589905
         ],
         "y": [
          -0.6728479862213135,
          -2.8465728759765625,
          -6.000428199768066,
          0.7523244619369507,
          -3.4831511974334717
         ],
         "z": [
          1.6592439413070679,
          3.1704492568969727,
          -2.8326919078826904,
          -2.5950357913970947,
          -0.6390182971954346
         ]
        },
        {
         "hovertemplate": "color=Margarornis<br>TSNE1=%{x}<br>TSNE2=%{y}<br>TSNE3=%{z}<extra></extra>",
         "legendgroup": "Margarornis",
         "marker": {
          "color": "#DC3912",
          "symbol": "circle"
         },
         "mode": "markers",
         "name": "Margarornis",
         "scene": "scene",
         "showlegend": true,
         "type": "scatter3d",
         "x": [
          0.45650792121887207,
          8.169020652770996
         ],
         "y": [
          0.21564429998397827,
          -0.3270805776119232
         ],
         "z": [
          -3.846344232559204,
          -0.6455263495445251
         ]
        },
        {
         "hovertemplate": "color=Mazaria<br>TSNE1=%{x}<br>TSNE2=%{y}<br>TSNE3=%{z}<extra></extra>",
         "legendgroup": "Mazaria",
         "marker": {
          "color": "#FF9900",
          "symbol": "circle"
         },
         "mode": "markers",
         "name": "Mazaria",
         "scene": "scene",
         "showlegend": true,
         "type": "scatter3d",
         "x": [
          1.5158298015594482
         ],
         "y": [
          0.04008224606513977
         ],
         "z": [
          4.406813144683838
         ]
        },
        {
         "hovertemplate": "color=Mecocerculus<br>TSNE1=%{x}<br>TSNE2=%{y}<br>TSNE3=%{z}<extra></extra>",
         "legendgroup": "Mecocerculus",
         "marker": {
          "color": "#109618",
          "symbol": "circle"
         },
         "mode": "markers",
         "name": "Mecocerculus",
         "scene": "scene",
         "showlegend": true,
         "type": "scatter3d",
         "x": [
          7.098238468170166
         ],
         "y": [
          6.423105716705322
         ],
         "z": [
          -0.23197796940803528
         ]
        },
        {
         "hovertemplate": "color=Megaceryle<br>TSNE1=%{x}<br>TSNE2=%{y}<br>TSNE3=%{z}<extra></extra>",
         "legendgroup": "Megaceryle",
         "marker": {
          "color": "#990099",
          "symbol": "circle"
         },
         "mode": "markers",
         "name": "Megaceryle",
         "scene": "scene",
         "showlegend": true,
         "type": "scatter3d",
         "x": [
          -0.17331235110759735,
          -4.8682942390441895,
          -5.460733890533447
         ],
         "y": [
          0.676642119884491,
          4.146340847015381,
          2.187117099761963
         ],
         "z": [
          -2.675672769546509,
          -3.5390915870666504,
          -4.4224090576171875
         ]
        },
        {
         "hovertemplate": "color=Megarynchus<br>TSNE1=%{x}<br>TSNE2=%{y}<br>TSNE3=%{z}<extra></extra>",
         "legendgroup": "Megarynchus",
         "marker": {
          "color": "#0099C6",
          "symbol": "circle"
         },
         "mode": "markers",
         "name": "Megarynchus",
         "scene": "scene",
         "showlegend": true,
         "type": "scatter3d",
         "x": [
          2.0624701976776123,
          -1.4772998094558716
         ],
         "y": [
          -2.9303858280181885,
          -4.132080554962158
         ],
         "z": [
          -1.986498236656189,
          -0.9129694104194641
         ]
        },
        {
         "hovertemplate": "color=Megascops<br>TSNE1=%{x}<br>TSNE2=%{y}<br>TSNE3=%{z}<extra></extra>",
         "legendgroup": "Megascops",
         "marker": {
          "color": "#DD4477",
          "symbol": "circle"
         },
         "mode": "markers",
         "name": "Megascops",
         "scene": "scene",
         "showlegend": true,
         "type": "scatter3d",
         "x": [
          -4.8202409744262695,
          -4.144205570220947,
          1.6230394840240479,
          -0.7129364609718323,
          -4.997040271759033,
          -2.7276675701141357
         ],
         "y": [
          4.640685558319092,
          1.7929739952087402,
          3.311338424682617,
          4.423595428466797,
          3.4916677474975586,
          5.843944072723389
         ],
         "z": [
          4.664412021636963,
          4.142592430114746,
          2.910001754760742,
          -0.2498769313097,
          -4.588611125946045,
          0.51895672082901
         ]
        },
        {
         "hovertemplate": "color=Melanerpes<br>TSNE1=%{x}<br>TSNE2=%{y}<br>TSNE3=%{z}<extra></extra>",
         "legendgroup": "Melanerpes",
         "marker": {
          "color": "#66AA00",
          "symbol": "circle"
         },
         "mode": "markers",
         "name": "Melanerpes",
         "scene": "scene",
         "showlegend": true,
         "type": "scatter3d",
         "x": [
          7.221303462982178,
          -3.8201236724853516,
          2.2160868644714355
         ],
         "y": [
          0.4195196032524109,
          -4.855409145355225,
          -8.282121658325195
         ],
         "z": [
          -5.083750247955322,
          -3.7444889545440674,
          -2.7057723999023438
         ]
        },
        {
         "hovertemplate": "color=Mesembrinibis<br>TSNE1=%{x}<br>TSNE2=%{y}<br>TSNE3=%{z}<extra></extra>",
         "legendgroup": "Mesembrinibis",
         "marker": {
          "color": "#B82E2E",
          "symbol": "circle"
         },
         "mode": "markers",
         "name": "Mesembrinibis",
         "scene": "scene",
         "showlegend": true,
         "type": "scatter3d",
         "x": [
          8.090575218200684,
          -3.3962509632110596
         ],
         "y": [
          1.3870655298233032,
          2.3211312294006348
         ],
         "z": [
          -4.863000392913818,
          3.531545400619507
         ]
        },
        {
         "hovertemplate": "color=Metallura<br>TSNE1=%{x}<br>TSNE2=%{y}<br>TSNE3=%{z}<extra></extra>",
         "legendgroup": "Metallura",
         "marker": {
          "color": "#316395",
          "symbol": "circle"
         },
         "mode": "markers",
         "name": "Metallura",
         "scene": "scene",
         "showlegend": true,
         "type": "scatter3d",
         "x": [
          0.5953396558761597
         ],
         "y": [
          -0.7247563004493713
         ],
         "z": [
          -2.1092653274536133
         ]
        },
        {
         "hovertemplate": "color=Metopothrix<br>TSNE1=%{x}<br>TSNE2=%{y}<br>TSNE3=%{z}<extra></extra>",
         "legendgroup": "Metopothrix",
         "marker": {
          "color": "#3366CC",
          "symbol": "circle"
         },
         "mode": "markers",
         "name": "Metopothrix",
         "scene": "scene",
         "showlegend": true,
         "type": "scatter3d",
         "x": [
          6.370662689208984,
          4.66330099105835,
          0.07820060849189758
         ],
         "y": [
          -2.1800670623779297,
          -3.9226977825164795,
          -3.1392626762390137
         ],
         "z": [
          0.5666635036468506,
          1.4152811765670776,
          4.709304332733154
         ]
        },
        {
         "hovertemplate": "color=Metriopelia<br>TSNE1=%{x}<br>TSNE2=%{y}<br>TSNE3=%{z}<extra></extra>",
         "legendgroup": "Metriopelia",
         "marker": {
          "color": "#DC3912",
          "symbol": "circle"
         },
         "mode": "markers",
         "name": "Metriopelia",
         "scene": "scene",
         "showlegend": true,
         "type": "scatter3d",
         "x": [
          -6.673048496246338,
          -2.11611270904541
         ],
         "y": [
          -5.690244674682617,
          -3.596930980682373
         ],
         "z": [
          -2.8126814365386963,
          -0.490116149187088
         ]
        },
        {
         "hovertemplate": "color=Micrastur<br>TSNE1=%{x}<br>TSNE2=%{y}<br>TSNE3=%{z}<extra></extra>",
         "legendgroup": "Micrastur",
         "marker": {
          "color": "#FF9900",
          "symbol": "circle"
         },
         "mode": "markers",
         "name": "Micrastur",
         "scene": "scene",
         "showlegend": true,
         "type": "scatter3d",
         "x": [
          6.187051296234131,
          1.3605854511260986,
          -1.1649848222732544,
          5.62449312210083,
          -1.2383211851119995,
          4.492028713226318,
          -1.5220903158187866,
          5.627922534942627,
          3.4071388244628906,
          8.450894355773926,
          1.7195968627929688,
          1.010525107383728,
          -0.7856078147888184,
          -4.890773773193359,
          -0.7401942014694214
         ],
         "y": [
          -1.5514379739761353,
          2.4130163192749023,
          1.110588550567627,
          -0.07749023288488388,
          1.3275505304336548,
          -3.1653010845184326,
          -3.3926618099212646,
          4.547520637512207,
          3.2838592529296875,
          4.963626861572266,
          2.353604555130005,
          1.2527753114700317,
          -5.645161151885986,
          -5.939478874206543,
          1.5275686979293823
         ],
         "z": [
          -3.1430013179779053,
          1.1096580028533936,
          -1.05419921875,
          1.3344148397445679,
          -4.050234317779541,
          1.223294734954834,
          4.759327411651611,
          0.8389564752578735,
          -2.3883955478668213,
          -0.2654099464416504,
          2.8837358951568604,
          -3.169126033782959,
          0.4854947328567505,
          0.44514182209968567,
          5.484299659729004
         ]
        },
        {
         "hovertemplate": "color=Microbates<br>TSNE1=%{x}<br>TSNE2=%{y}<br>TSNE3=%{z}<extra></extra>",
         "legendgroup": "Microbates",
         "marker": {
          "color": "#109618",
          "symbol": "circle"
         },
         "mode": "markers",
         "name": "Microbates",
         "scene": "scene",
         "showlegend": true,
         "type": "scatter3d",
         "x": [
          7.352907180786133,
          -2.816227436065674
         ],
         "y": [
          0.629608154296875,
          0.31822288036346436
         ],
         "z": [
          -3.382554054260254,
          0.21152153611183167
         ]
        },
        {
         "hovertemplate": "color=Microcerculus<br>TSNE1=%{x}<br>TSNE2=%{y}<br>TSNE3=%{z}<extra></extra>",
         "legendgroup": "Microcerculus",
         "marker": {
          "color": "#990099",
          "symbol": "circle"
         },
         "mode": "markers",
         "name": "Microcerculus",
         "scene": "scene",
         "showlegend": true,
         "type": "scatter3d",
         "x": [
          -3.310117483139038,
          -2.345792055130005,
          -2.3150134086608887,
          -2.624899387359619
         ],
         "y": [
          6.064494609832764,
          -3.723006010055542,
          -3.4483566284179688,
          7.823371887207031
         ],
         "z": [
          -3.8528597354888916,
          -3.791317939758301,
          -3.725911855697632,
          -4.29658317565918
         ]
        },
        {
         "hovertemplate": "color=Micromonacha<br>TSNE1=%{x}<br>TSNE2=%{y}<br>TSNE3=%{z}<extra></extra>",
         "legendgroup": "Micromonacha",
         "marker": {
          "color": "#0099C6",
          "symbol": "circle"
         },
         "mode": "markers",
         "name": "Micromonacha",
         "scene": "scene",
         "showlegend": true,
         "type": "scatter3d",
         "x": [
          -4.9045491218566895,
          -4.674104690551758
         ],
         "y": [
          3.5820772647857666,
          4.2664289474487305
         ],
         "z": [
          -4.611721038818359,
          -4.365267753601074
         ]
        },
        {
         "hovertemplate": "color=Micropygia<br>TSNE1=%{x}<br>TSNE2=%{y}<br>TSNE3=%{z}<extra></extra>",
         "legendgroup": "Micropygia",
         "marker": {
          "color": "#DD4477",
          "symbol": "circle"
         },
         "mode": "markers",
         "name": "Micropygia",
         "scene": "scene",
         "showlegend": true,
         "type": "scatter3d",
         "x": [
          -3.260326862335205,
          6.503368377685547,
          5.854703903198242,
          3.346921682357788
         ],
         "y": [
          6.25513219833374,
          3.9198527336120605,
          4.230845928192139,
          2.405184507369995
         ],
         "z": [
          -4.1791887283325195,
          -1.3626681566238403,
          -1.5668336153030396,
          -2.331587553024292
         ]
        },
        {
         "hovertemplate": "color=Microrhopias<br>TSNE1=%{x}<br>TSNE2=%{y}<br>TSNE3=%{z}<extra></extra>",
         "legendgroup": "Microrhopias",
         "marker": {
          "color": "#66AA00",
          "symbol": "circle"
         },
         "mode": "markers",
         "name": "Microrhopias",
         "scene": "scene",
         "showlegend": true,
         "type": "scatter3d",
         "x": [
          2.5001883506774902,
          3.396245002746582
         ],
         "y": [
          3.1185998916625977,
          6.600517272949219
         ],
         "z": [
          0.9214389324188232,
          2.9077510833740234
         ]
        },
        {
         "hovertemplate": "color=Microxenops<br>TSNE1=%{x}<br>TSNE2=%{y}<br>TSNE3=%{z}<extra></extra>",
         "legendgroup": "Microxenops",
         "marker": {
          "color": "#B82E2E",
          "symbol": "circle"
         },
         "mode": "markers",
         "name": "Microxenops",
         "scene": "scene",
         "showlegend": true,
         "type": "scatter3d",
         "x": [
          -5.255896091461182,
          -5.548527717590332
         ],
         "y": [
          2.75079083442688,
          2.3960909843444824
         ],
         "z": [
          -4.675772190093994,
          1.5016467571258545
         ]
        },
        {
         "hovertemplate": "color=Milvago<br>TSNE1=%{x}<br>TSNE2=%{y}<br>TSNE3=%{z}<extra></extra>",
         "legendgroup": "Milvago",
         "marker": {
          "color": "#316395",
          "symbol": "circle"
         },
         "mode": "markers",
         "name": "Milvago",
         "scene": "scene",
         "showlegend": true,
         "type": "scatter3d",
         "x": [
          2.2694880962371826,
          0.9990668296813965,
          -2.145488739013672,
          -6.4609527587890625,
          -6.100519180297852
         ],
         "y": [
          6.700186252593994,
          -1.0453742742538452,
          8.614768028259277,
          -5.5390400886535645,
          -5.556044578552246
         ],
         "z": [
          -1.2803443670272827,
          2.4828317165374756,
          -4.177037239074707,
          -3.3791582584381104,
          -4.1082940101623535
         ]
        },
        {
         "hovertemplate": "color=Mimus<br>TSNE1=%{x}<br>TSNE2=%{y}<br>TSNE3=%{z}<extra></extra>",
         "legendgroup": "Mimus",
         "marker": {
          "color": "#3366CC",
          "symbol": "circle"
         },
         "mode": "markers",
         "name": "Mimus",
         "scene": "scene",
         "showlegend": true,
         "type": "scatter3d",
         "x": [
          -5.960672378540039,
          -6.587188720703125,
          1.5938585996627808
         ],
         "y": [
          -4.471508026123047,
          -6.199552536010742,
          -3.603466272354126
         ],
         "z": [
          1.6136162281036377,
          0.19357481598854065,
          1.967360258102417
         ]
        },
        {
         "hovertemplate": "color=Mionectes<br>TSNE1=%{x}<br>TSNE2=%{y}<br>TSNE3=%{z}<extra></extra>",
         "legendgroup": "Mionectes",
         "marker": {
          "color": "#DC3912",
          "symbol": "circle"
         },
         "mode": "markers",
         "name": "Mionectes",
         "scene": "scene",
         "showlegend": true,
         "type": "scatter3d",
         "x": [
          -5.261762619018555,
          7.763270378112793,
          6.185534477233887,
          3.172001838684082,
          -0.6013236045837402,
          7.606813430786133,
          8.57105541229248,
          5.159409046173096
         ],
         "y": [
          2.2392020225524902,
          5.148597717285156,
          1.892506718635559,
          2.881155252456665,
          3.3331871032714844,
          0.07727116346359253,
          1.845452070236206,
          0.3946077227592468
         ],
         "z": [
          1.8572686910629272,
          -0.5431842803955078,
          -0.848746657371521,
          -2.450735092163086,
          0.06327749788761139,
          -1.062174916267395,
          -6.135468482971191,
          3.416638135910034
         ]
        },
        {
         "hovertemplate": "color=Mitu<br>TSNE1=%{x}<br>TSNE2=%{y}<br>TSNE3=%{z}<extra></extra>",
         "legendgroup": "Mitu",
         "marker": {
          "color": "#FF9900",
          "symbol": "circle"
         },
         "mode": "markers",
         "name": "Mitu",
         "scene": "scene",
         "showlegend": true,
         "type": "scatter3d",
         "x": [
          4.554558753967285,
          1.8693972826004028
         ],
         "y": [
          1.7476638555526733,
          5.2288408279418945
         ],
         "z": [
          3.5328383445739746,
          -2.2924962043762207
         ]
        },
        {
         "hovertemplate": "color=Molothrus<br>TSNE1=%{x}<br>TSNE2=%{y}<br>TSNE3=%{z}<extra></extra>",
         "legendgroup": "Molothrus",
         "marker": {
          "color": "#109618",
          "symbol": "circle"
         },
         "mode": "markers",
         "name": "Molothrus",
         "scene": "scene",
         "showlegend": true,
         "type": "scatter3d",
         "x": [
          4.309483051300049,
          -0.616711437702179,
          1.3227111101150513,
          -4.083027362823486,
          -4.525732040405273
         ],
         "y": [
          8.582717895507812,
          1.0637527704238892,
          3.959545612335205,
          -8.138113975524902,
          -5.317251205444336
         ],
         "z": [
          2.0116240978240967,
          2.936403512954712,
          -1.025699257850647,
          -3.4871490001678467,
          -4.142319679260254
         ]
        },
        {
         "hovertemplate": "color=Momotus<br>TSNE1=%{x}<br>TSNE2=%{y}<br>TSNE3=%{z}<extra></extra>",
         "legendgroup": "Momotus",
         "marker": {
          "color": "#990099",
          "symbol": "circle"
         },
         "mode": "markers",
         "name": "Momotus",
         "scene": "scene",
         "showlegend": true,
         "type": "scatter3d",
         "x": [
          -0.01247271429747343,
          0.34101834893226624,
          -0.9209379553794861,
          0.7718389630317688,
          0.659713864326477
         ],
         "y": [
          -4.751917839050293,
          -4.277617931365967,
          -1.8117170333862305,
          6.0495195388793945,
          -1.4573614597320557
         ],
         "z": [
          0.8212904930114746,
          3.7286956310272217,
          -4.109936714172363,
          4.790541648864746,
          -0.22980840504169464
         ]
        },
        {
         "hovertemplate": "color=Monasa<br>TSNE1=%{x}<br>TSNE2=%{y}<br>TSNE3=%{z}<extra></extra>",
         "legendgroup": "Monasa",
         "marker": {
          "color": "#0099C6",
          "symbol": "circle"
         },
         "mode": "markers",
         "name": "Monasa",
         "scene": "scene",
         "showlegend": true,
         "type": "scatter3d",
         "x": [
          1.6516634225845337,
          6.042895317077637,
          -2.622157335281372,
          8.717626571655273,
          1.234095573425293,
          1.3670295476913452
         ],
         "y": [
          2.7002110481262207,
          -0.27423927187919617,
          7.653087615966797,
          2.01621150970459,
          5.783387184143066,
          5.156280517578125
         ],
         "z": [
          -4.137022972106934,
          -4.878580570220947,
          -4.272585868835449,
          -2.582618236541748,
          -3.3266046047210693,
          -3.460038900375366
         ]
        },
        {
         "hovertemplate": "color=Morphnus<br>TSNE1=%{x}<br>TSNE2=%{y}<br>TSNE3=%{z}<extra></extra>",
         "legendgroup": "Morphnus",
         "marker": {
          "color": "#DD4477",
          "symbol": "circle"
         },
         "mode": "markers",
         "name": "Morphnus",
         "scene": "scene",
         "showlegend": true,
         "type": "scatter3d",
         "x": [
          -4.546420574188232
         ],
         "y": [
          -7.400375843048096
         ],
         "z": [
          -3.4238922595977783
         ]
        },
        {
         "hovertemplate": "color=Myadestes<br>TSNE1=%{x}<br>TSNE2=%{y}<br>TSNE3=%{z}<extra></extra>",
         "legendgroup": "Myadestes",
         "marker": {
          "color": "#66AA00",
          "symbol": "circle"
         },
         "mode": "markers",
         "name": "Myadestes",
         "scene": "scene",
         "showlegend": true,
         "type": "scatter3d",
         "x": [
          4.178790092468262,
          1.4675675630569458,
          3.383765935897827
         ],
         "y": [
          0.2318357527256012,
          0.5092793107032776,
          2.5172863006591797
         ],
         "z": [
          1.3368337154388428,
          -2.4081008434295654,
          3.726062059402466
         ]
        },
        {
         "hovertemplate": "color=Mycteria<br>TSNE1=%{x}<br>TSNE2=%{y}<br>TSNE3=%{z}<extra></extra>",
         "legendgroup": "Mycteria",
         "marker": {
          "color": "#B82E2E",
          "symbol": "circle"
         },
         "mode": "markers",
         "name": "Mycteria",
         "scene": "scene",
         "showlegend": true,
         "type": "scatter3d",
         "x": [
          4.093535900115967,
          -3.1371874809265137,
          4.634395122528076
         ],
         "y": [
          7.582403182983398,
          -5.165796279907227,
          7.748631954193115
         ],
         "z": [
          -2.1799941062927246,
          1.8435460329055786,
          -2.068931818008423
         ]
        },
        {
         "hovertemplate": "color=Myiarchus<br>TSNE1=%{x}<br>TSNE2=%{y}<br>TSNE3=%{z}<extra></extra>",
         "legendgroup": "Myiarchus",
         "marker": {
          "color": "#316395",
          "symbol": "circle"
         },
         "mode": "markers",
         "name": "Myiarchus",
         "scene": "scene",
         "showlegend": true,
         "type": "scatter3d",
         "x": [
          4.456887245178223,
          -1.4262653589248657,
          -6.554490566253662,
          0.6772950887680054,
          3.0804238319396973,
          4.3135247230529785,
          0.15138106048107147,
          3.216048002243042,
          3.4475784301757812,
          0.49829787015914917,
          -3.957512855529785,
          -4.800483226776123,
          -4.312941074371338,
          3.848257303237915,
          -0.28685277700424194,
          -0.9527978301048279
         ],
         "y": [
          -2.6800975799560547,
          -2.6154940128326416,
          -1.2532025575637817,
          -1.0841155052185059,
          0.9594042301177979,
          2.371060371398926,
          -1.9522931575775146,
          -1.5401874780654907,
          0.662547767162323,
          6.16153621673584,
          -2.3402774333953857,
          -1.090944766998291,
          -4.983762264251709,
          2.2046334743499756,
          1.2279514074325562,
          -3.0950005054473877
         ],
         "z": [
          2.8950252532958984,
          2.00182843208313,
          3.620537757873535,
          2.564560651779175,
          4.817390441894531,
          0.41923803091049194,
          1.0898852348327637,
          1.9484343528747559,
          0.7616041898727417,
          4.813138484954834,
          2.3835256099700928,
          0.05717264860868454,
          0.25708556175231934,
          -0.12664087116718292,
          3.9878153800964355,
          -0.186451256275177
         ]
        },
        {
         "hovertemplate": "color=Myiobius<br>TSNE1=%{x}<br>TSNE2=%{y}<br>TSNE3=%{z}<extra></extra>",
         "legendgroup": "Myiobius",
         "marker": {
          "color": "#3366CC",
          "symbol": "circle"
         },
         "mode": "markers",
         "name": "Myiobius",
         "scene": "scene",
         "showlegend": true,
         "type": "scatter3d",
         "x": [
          5.843948841094971,
          -6.727895259857178,
          6.286916255950928,
          1.3826967477798462,
          -3.998164653778076,
          -5.510069847106934,
          -5.196171283721924,
          1.3621834516525269,
          -3.983044147491455,
          -1.8438575267791748,
          -6.617060661315918
         ],
         "y": [
          -1.6345115900039673,
          -6.573388576507568,
          2.046445608139038,
          -1.7401604652404785,
          -7.078159332275391,
          -8.00413703918457,
          -4.4762396812438965,
          6.984068870544434,
          0.19051457941532135,
          -4.982915878295898,
          -6.631709098815918
         ],
         "z": [
          2.1522278785705566,
          -2.397367238998413,
          1.1129251718521118,
          -1.1821681261062622,
          1.0295568704605103,
          -3.076225519180298,
          1.7415063381195068,
          4.022399425506592,
          5.242115497589111,
          3.0177364349365234,
          -2.187516450881958
         ]
        },
        {
         "hovertemplate": "color=Myioborus<br>TSNE1=%{x}<br>TSNE2=%{y}<br>TSNE3=%{z}<extra></extra>",
         "legendgroup": "Myioborus",
         "marker": {
          "color": "#DC3912",
          "symbol": "circle"
         },
         "mode": "markers",
         "name": "Myioborus",
         "scene": "scene",
         "showlegend": true,
         "type": "scatter3d",
         "x": [
          -2.821948528289795,
          4.899683475494385,
          -3.3134915828704834,
          -3.3743855953216553,
          0.14331574738025665,
          -0.6484623551368713
         ],
         "y": [
          6.781480312347412,
          0.7427719831466675,
          6.750703811645508,
          2.0827393531799316,
          -3.046659469604492,
          1.0241211652755737
         ],
         "z": [
          -3.7801673412323,
          3.9767229557037354,
          4.266903400421143,
          3.0085642337799072,
          4.899511814117432,
          -1.091506004333496
         ]
        },
        {
         "hovertemplate": "color=Myiodynastes<br>TSNE1=%{x}<br>TSNE2=%{y}<br>TSNE3=%{z}<extra></extra>",
         "legendgroup": "Myiodynastes",
         "marker": {
          "color": "#FF9900",
          "symbol": "circle"
         },
         "mode": "markers",
         "name": "Myiodynastes",
         "scene": "scene",
         "showlegend": true,
         "type": "scatter3d",
         "x": [
          -1.7412643432617188,
          1.1764525175094604,
          -5.562180519104004,
          5.161995887756348,
          4.103911399841309,
          4.23771333694458,
          5.125755310058594,
          -4.773873329162598,
          -0.17613348364830017,
          4.301474571228027
         ],
         "y": [
          -0.00954592414200306,
          -1.7418696880340576,
          -5.410305500030518,
          -0.962766170501709,
          9.79738998413086,
          -3.9224109649658203,
          4.025783061981201,
          -7.712379455566406,
          -3.880357265472412,
          -2.3441333770751953
         ],
         "z": [
          3.6994709968566895,
          3.150388717651367,
          -4.460632801055908,
          -0.840001106262207,
          2.5130159854888916,
          0.058293864130973816,
          0.2826053202152252,
          -0.4181729853153229,
          -1.1506519317626953,
          2.4014694690704346
         ]
        },
        {
         "hovertemplate": "color=Myiopagis<br>TSNE1=%{x}<br>TSNE2=%{y}<br>TSNE3=%{z}<extra></extra>",
         "legendgroup": "Myiopagis",
         "marker": {
          "color": "#109618",
          "symbol": "circle"
         },
         "mode": "markers",
         "name": "Myiopagis",
         "scene": "scene",
         "showlegend": true,
         "type": "scatter3d",
         "x": [
          1.7479264736175537,
          1.577533483505249,
          1.5987615585327148,
          1.9679557085037231,
          -1.9586424827575684,
          -4.547721862792969,
          -0.3009780943393707,
          -3.0704400539398193,
          1.2967228889465332,
          -5.859804153442383,
          -0.6733257174491882,
          -1.71664559841156,
          -2.9286022186279297,
          -4.447399139404297
         ],
         "y": [
          0.27812659740448,
          2.7942495346069336,
          4.715454578399658,
          -5.777884483337402,
          0.31868094205856323,
          3.4442946910858154,
          6.868414402008057,
          7.326075553894043,
          8.243450164794922,
          -5.995580196380615,
          4.460402488708496,
          6.94382381439209,
          -5.333002090454102,
          4.189401626586914
         ],
         "z": [
          -0.14902344346046448,
          0.16242192685604095,
          3.8425769805908203,
          -5.088320255279541,
          2.984334707260132,
          5.21226167678833,
          4.700826644897461,
          4.699309349060059,
          3.73469614982605,
          -4.442392826080322,
          5.093995094299316,
          4.814444065093994,
          1.0411313772201538,
          5.031009197235107
         ]
        },
        {
         "hovertemplate": "color=Myiophobus<br>TSNE1=%{x}<br>TSNE2=%{y}<br>TSNE3=%{z}<extra></extra>",
         "legendgroup": "Myiophobus",
         "marker": {
          "color": "#990099",
          "symbol": "circle"
         },
         "mode": "markers",
         "name": "Myiophobus",
         "scene": "scene",
         "showlegend": true,
         "type": "scatter3d",
         "x": [
          -3.484811305999756,
          -6.356543064117432,
          -0.43469905853271484,
          -2.182919979095459
         ],
         "y": [
          -2.0573441982269287,
          -2.4251527786254883,
          -4.17894172668457,
          -9.097705841064453
         ],
         "z": [
          1.8767378330230713,
          -1.6871429681777954,
          3.5334177017211914,
          -3.8855972290039062
         ]
        },
        {
         "hovertemplate": "color=Myiornis<br>TSNE1=%{x}<br>TSNE2=%{y}<br>TSNE3=%{z}<extra></extra>",
         "legendgroup": "Myiornis",
         "marker": {
          "color": "#0099C6",
          "symbol": "circle"
         },
         "mode": "markers",
         "name": "Myiornis",
         "scene": "scene",
         "showlegend": true,
         "type": "scatter3d",
         "x": [
          2.7491321563720703,
          -1.6900273561477661,
          -4.948530673980713
         ],
         "y": [
          1.0119400024414062,
          -1.0835096836090088,
          2.562896251678467
         ],
         "z": [
          1.2992727756500244,
          2.2059366703033447,
          -4.360585689544678
         ]
        },
        {
         "hovertemplate": "color=Myiotheretes<br>TSNE1=%{x}<br>TSNE2=%{y}<br>TSNE3=%{z}<extra></extra>",
         "legendgroup": "Myiotheretes",
         "marker": {
          "color": "#DD4477",
          "symbol": "circle"
         },
         "mode": "markers",
         "name": "Myiotheretes",
         "scene": "scene",
         "showlegend": true,
         "type": "scatter3d",
         "x": [
          -1.9159787893295288,
          1.2912254333496094,
          1.63920259475708,
          -2.6070759296417236,
          -2.112433433532715,
          1.4644978046417236
         ],
         "y": [
          0.65935218334198,
          3.4084157943725586,
          0.19183513522148132,
          7.857420921325684,
          -2.527681350708008,
          -0.22433491051197052
         ],
         "z": [
          0.37360310554504395,
          -0.8379507064819336,
          -0.22942766547203064,
          -4.295016288757324,
          1.4544025659561157,
          4.463784217834473
         ]
        },
        {
         "hovertemplate": "color=Myiothlypis<br>TSNE1=%{x}<br>TSNE2=%{y}<br>TSNE3=%{z}<extra></extra>",
         "legendgroup": "Myiothlypis",
         "marker": {
          "color": "#66AA00",
          "symbol": "circle"
         },
         "mode": "markers",
         "name": "Myiothlypis",
         "scene": "scene",
         "showlegend": true,
         "type": "scatter3d",
         "x": [
          -0.8340618014335632,
          -1.5692225694656372,
          -6.447994709014893,
          -2.4571588039398193,
          -3.9936771392822266,
          2.656440258026123,
          -1.4018945693969727,
          -2.0845911502838135,
          -2.6773853302001953,
          -1.2237207889556885,
          1.7053040266036987,
          -3.670753240585327,
          0.31605297327041626,
          1.3378275632858276,
          -3.2581615447998047
         ],
         "y": [
          -0.15623022615909576,
          4.8408589363098145,
          -1.945063829421997,
          1.2488603591918945,
          1.6755573749542236,
          6.238709449768066,
          1.1712417602539062,
          8.677666664123535,
          7.508522987365723,
          2.5834755897521973,
          5.309396743774414,
          2.474137783050537,
          -4.7675251960754395,
          4.789008140563965,
          6.304652690887451
         ],
         "z": [
          1.9594151973724365,
          -3.8842766284942627,
          -1.271217942237854,
          0.76142418384552,
          0.9974631667137146,
          -0.23273906111717224,
          -3.060788869857788,
          -4.159830093383789,
          -4.269176006317139,
          -3.8406991958618164,
          -1.9468200206756592,
          -2.286044120788574,
          -3.2235910892486572,
          -0.8830618262290955,
          -4.235665798187256
         ]
        },
        {
         "hovertemplate": "color=Myiotriccus<br>TSNE1=%{x}<br>TSNE2=%{y}<br>TSNE3=%{z}<extra></extra>",
         "legendgroup": "Myiotriccus",
         "marker": {
          "color": "#B82E2E",
          "symbol": "circle"
         },
         "mode": "markers",
         "name": "Myiotriccus",
         "scene": "scene",
         "showlegend": true,
         "type": "scatter3d",
         "x": [
          7.471212863922119,
          7.0223469734191895,
          3.096982479095459,
          7.206347465515137
         ],
         "y": [
          0.6891778111457825,
          -2.8410439491271973,
          1.060373067855835,
          5.798719882965088
         ],
         "z": [
          -5.209814548492432,
          -1.4983875751495361,
          4.921164512634277,
          -0.7140665650367737
         ]
        },
        {
         "hovertemplate": "color=Myiozetetes<br>TSNE1=%{x}<br>TSNE2=%{y}<br>TSNE3=%{z}<extra></extra>",
         "legendgroup": "Myiozetetes",
         "marker": {
          "color": "#316395",
          "symbol": "circle"
         },
         "mode": "markers",
         "name": "Myiozetetes",
         "scene": "scene",
         "showlegend": true,
         "type": "scatter3d",
         "x": [
          -2.6204771995544434,
          0.4637162387371063,
          4.703188419342041,
          -1.8442151546478271,
          2.901102304458618,
          5.879397869110107,
          2.223507881164551,
          -3.522845506668091,
          -2.351391553878784,
          -3.7886831760406494,
          5.583212375640869
         ],
         "y": [
          3.9310731887817383,
          -7.78436803817749,
          4.1305975914001465,
          1.8395158052444458,
          2.310121536254883,
          4.039643287658691,
          5.228603363037109,
          -6.287676811218262,
          -7.755442142486572,
          -3.2181499004364014,
          4.052438259124756
         ],
         "z": [
          -1.0223734378814697,
          -3.163403034210205,
          -0.6650611758232117,
          5.609993934631348,
          -1.1885524988174438,
          -1.107077956199646,
          4.599251747131348,
          1.4115450382232666,
          -1.8286659717559814,
          0.775529146194458,
          -1.0307880640029907
         ]
        },
        {
         "hovertemplate": "color=Myrmelastes<br>TSNE1=%{x}<br>TSNE2=%{y}<br>TSNE3=%{z}<extra></extra>",
         "legendgroup": "Myrmelastes",
         "marker": {
          "color": "#3366CC",
          "symbol": "circle"
         },
         "mode": "markers",
         "name": "Myrmelastes",
         "scene": "scene",
         "showlegend": true,
         "type": "scatter3d",
         "x": [
          -0.526382565498352,
          1.9086613655090332,
          -6.212050437927246,
          -0.8924629092216492,
          -1.7995697259902954,
          -2.05422043800354,
          0.785071849822998,
          -0.5219060182571411,
          -6.1835408210754395,
          -2.0028393268585205
         ],
         "y": [
          3.0120420455932617,
          4.791758060455322,
          0.43456777930259705,
          2.8927249908447266,
          5.161003589630127,
          -7.261958599090576,
          -7.448770046234131,
          6.399950981140137,
          -2.0205469131469727,
          8.809423446655273
         ],
         "z": [
          -1.5480048656463623,
          -3.3573505878448486,
          4.256229877471924,
          -3.3275599479675293,
          1.8319027423858643,
          -2.4409701824188232,
          -1.4992039203643799,
          1.7666248083114624,
          -3.6798524856567383,
          -4.135362148284912
         ]
        },
        {
         "hovertemplate": "color=Myrmoborus<br>TSNE1=%{x}<br>TSNE2=%{y}<br>TSNE3=%{z}<extra></extra>",
         "legendgroup": "Myrmoborus",
         "marker": {
          "color": "#DC3912",
          "symbol": "circle"
         },
         "mode": "markers",
         "name": "Myrmoborus",
         "scene": "scene",
         "showlegend": true,
         "type": "scatter3d",
         "x": [
          -5.788208961486816,
          0.5892434120178223,
          -5.20894718170166,
          -1.4930003881454468,
          3.7799713611602783,
          -4.635035037994385
         ],
         "y": [
          -5.640463829040527,
          4.365460395812988,
          2.2906484603881836,
          5.180111885070801,
          0.10917913913726807,
          2.485023021697998
         ],
         "z": [
          0.5542296171188354,
          -0.6500409841537476,
          -2.8666703701019287,
          -3.660382032394409,
          -2.1741509437561035,
          0.5200162529945374
         ]
        },
        {
         "hovertemplate": "color=Myrmophylax<br>TSNE1=%{x}<br>TSNE2=%{y}<br>TSNE3=%{z}<extra></extra>",
         "legendgroup": "Myrmophylax",
         "marker": {
          "color": "#FF9900",
          "symbol": "circle"
         },
         "mode": "markers",
         "name": "Myrmophylax",
         "scene": "scene",
         "showlegend": true,
         "type": "scatter3d",
         "x": [
          -2.2515172958374023,
          -3.730990409851074,
          -3.8702499866485596
         ],
         "y": [
          3.5925180912017822,
          -5.392446041107178,
          -6.927023410797119
         ],
         "z": [
          2.8140978813171387,
          -1.2766509056091309,
          -2.29233980178833
         ]
        },
        {
         "hovertemplate": "color=Myrmothera<br>TSNE1=%{x}<br>TSNE2=%{y}<br>TSNE3=%{z}<extra></extra>",
         "legendgroup": "Myrmothera",
         "marker": {
          "color": "#109618",
          "symbol": "circle"
         },
         "mode": "markers",
         "name": "Myrmothera",
         "scene": "scene",
         "showlegend": true,
         "type": "scatter3d",
         "x": [
          -0.9571166634559631,
          -4.593430519104004,
          -5.257268905639648
         ],
         "y": [
          6.738729000091553,
          4.5598320960998535,
          2.8239259719848633
         ],
         "z": [
          4.188371181488037,
          4.402461051940918,
          4.477197647094727
         ]
        },
        {
         "hovertemplate": "color=Myrmotherula<br>TSNE1=%{x}<br>TSNE2=%{y}<br>TSNE3=%{z}<extra></extra>",
         "legendgroup": "Myrmotherula",
         "marker": {
          "color": "#990099",
          "symbol": "circle"
         },
         "mode": "markers",
         "name": "Myrmotherula",
         "scene": "scene",
         "showlegend": true,
         "type": "scatter3d",
         "x": [
          -0.8594248294830322,
          -3.5160841941833496,
          -3.4608283042907715,
          -1.529645562171936,
          0.9089493155479431,
          0.8197000622749329,
          1.4118869304656982,
          -5.6183695793151855,
          0.3664158284664154,
          5.701366901397705,
          1.0188617706298828,
          2.0857906341552734,
          2.2826733589172363,
          -4.252510070800781,
          -2.8211417198181152,
          -5.462273597717285,
          -5.883484363555908,
          1.2861950397491455,
          -5.074668884277344,
          -3.4663095474243164,
          -0.835470974445343,
          -6.7793354988098145,
          1.1935213804244995,
          -0.057597942650318146,
          5.293853759765625,
          4.120012283325195,
          -2.222790479660034,
          -2.159104347229004,
          4.964909553527832,
          6.622750282287598,
          5.975338935852051
         ],
         "y": [
          -4.021788597106934,
          2.6705129146575928,
          3.575347900390625,
          -3.9547228813171387,
          1.0877656936645508,
          6.943903923034668,
          3.4707040786743164,
          0.022942880168557167,
          4.262609004974365,
          3.9931297302246094,
          6.054431438446045,
          6.4112958908081055,
          6.864574432373047,
          0.686039924621582,
          6.800074577331543,
          1.69208824634552,
          -5.156671047210693,
          5.758528709411621,
          2.624682903289795,
          5.489080905914307,
          7.637173652648926,
          -1.2507853507995605,
          5.972677230834961,
          7.8943586349487305,
          -2.0892844200134277,
          6.819924354553223,
          -3.0100646018981934,
          -5.085672378540039,
          3.9921951293945312,
          -0.2414722740650177,
          4.241514682769775
         ],
         "z": [
          -2.7367191314697266,
          -1.4852484464645386,
          2.3025896549224854,
          -2.923715591430664,
          4.025013446807861,
          3.4217591285705566,
          -0.9078811407089233,
          -0.128916397690773,
          -2.5155465602874756,
          1.014082431793213,
          -3.2370593547821045,
          -2.7912919521331787,
          -1.554585337638855,
          5.688708305358887,
          2.5023632049560547,
          -2.404940366744995,
          -3.837587594985962,
          -3.2952682971954346,
          -2.516232490539551,
          -1.191988468170166,
          1.8258079290390015,
          1.543823003768921,
          -3.2863070964813232,
          4.264028072357178,
          -1.0668734312057495,
          1.986941933631897,
          0.21098464727401733,
          3.2000515460968018,
          0.6895442008972168,
          -1.8626155853271484,
          0.7953628897666931
         ]
        },
        {
         "hovertemplate": "color=Nannopsittaca<br>TSNE1=%{x}<br>TSNE2=%{y}<br>TSNE3=%{z}<extra></extra>",
         "legendgroup": "Nannopsittaca",
         "marker": {
          "color": "#0099C6",
          "symbol": "circle"
         },
         "mode": "markers",
         "name": "Nannopsittaca",
         "scene": "scene",
         "showlegend": true,
         "type": "scatter3d",
         "x": [
          2.002349615097046,
          -5.767458438873291
         ],
         "y": [
          -2.9956936836242676,
          -5.303418159484863
         ],
         "z": [
          -2.3681554794311523,
          -4.725017547607422
         ]
        },
        {
         "hovertemplate": "color=Nasica<br>TSNE1=%{x}<br>TSNE2=%{y}<br>TSNE3=%{z}<extra></extra>",
         "legendgroup": "Nasica",
         "marker": {
          "color": "#DD4477",
          "symbol": "circle"
         },
         "mode": "markers",
         "name": "Nasica",
         "scene": "scene",
         "showlegend": true,
         "type": "scatter3d",
         "x": [
          -4.509705543518066
         ],
         "y": [
          -5.673819541931152
         ],
         "z": [
          -4.073638439178467
         ]
        },
        {
         "hovertemplate": "color=Nemosia<br>TSNE1=%{x}<br>TSNE2=%{y}<br>TSNE3=%{z}<extra></extra>",
         "legendgroup": "Nemosia",
         "marker": {
          "color": "#66AA00",
          "symbol": "circle"
         },
         "mode": "markers",
         "name": "Nemosia",
         "scene": "scene",
         "showlegend": true,
         "type": "scatter3d",
         "x": [
          3.148132801055908,
          8.250799179077148,
          -7.142064094543457
         ],
         "y": [
          -4.620546340942383,
          1.7004529237747192,
          -4.371745586395264
         ],
         "z": [
          -5.276405334472656,
          -5.775847434997559,
          0.7045227289199829
         ]
        },
        {
         "hovertemplate": "color=Neoctantes<br>TSNE1=%{x}<br>TSNE2=%{y}<br>TSNE3=%{z}<extra></extra>",
         "legendgroup": "Neoctantes",
         "marker": {
          "color": "#B82E2E",
          "symbol": "circle"
         },
         "mode": "markers",
         "name": "Neoctantes",
         "scene": "scene",
         "showlegend": true,
         "type": "scatter3d",
         "x": [
          8.879908561706543,
          8.233938217163086,
          8.740988731384277,
          -1.8203864097595215
         ],
         "y": [
          1.5311779975891113,
          -0.3830643594264984,
          3.2718656063079834,
          9.035873413085938
         ],
         "z": [
          -1.2364921569824219,
          -0.5167669057846069,
          -1.0748684406280518,
          -4.069965362548828
         ]
        },
        {
         "hovertemplate": "color=Neomorphus<br>TSNE1=%{x}<br>TSNE2=%{y}<br>TSNE3=%{z}<extra></extra>",
         "legendgroup": "Neomorphus",
         "marker": {
          "color": "#316395",
          "symbol": "circle"
         },
         "mode": "markers",
         "name": "Neomorphus",
         "scene": "scene",
         "showlegend": true,
         "type": "scatter3d",
         "x": [
          -4.641076564788818
         ],
         "y": [
          0.4909222424030304
         ],
         "z": [
          0.08777036517858505
         ]
        },
        {
         "hovertemplate": "color=Neopelma<br>TSNE1=%{x}<br>TSNE2=%{y}<br>TSNE3=%{z}<extra></extra>",
         "legendgroup": "Neopelma",
         "marker": {
          "color": "#3366CC",
          "symbol": "circle"
         },
         "mode": "markers",
         "name": "Neopelma",
         "scene": "scene",
         "showlegend": true,
         "type": "scatter3d",
         "x": [
          -3.7483198642730713,
          -3.9669132232666016,
          -6.003475666046143
         ],
         "y": [
          2.0870697498321533,
          3.3208746910095215,
          -2.5917439460754395
         ],
         "z": [
          1.3329689502716064,
          5.363635540008545,
          2.902512550354004
         ]
        },
        {
         "hovertemplate": "color=Neopipo<br>TSNE1=%{x}<br>TSNE2=%{y}<br>TSNE3=%{z}<extra></extra>",
         "legendgroup": "Neopipo",
         "marker": {
          "color": "#DC3912",
          "symbol": "circle"
         },
         "mode": "markers",
         "name": "Neopipo",
         "scene": "scene",
         "showlegend": true,
         "type": "scatter3d",
         "x": [
          -3.7349395751953125,
          -2.1972970962524414
         ],
         "y": [
          5.525450229644775,
          5.997908115386963
         ],
         "z": [
          -3.617523193359375,
          -3.7705397605895996
         ]
        },
        {
         "hovertemplate": "color=Nephelomyias<br>TSNE1=%{x}<br>TSNE2=%{y}<br>TSNE3=%{z}<extra></extra>",
         "legendgroup": "Nephelomyias",
         "marker": {
          "color": "#FF9900",
          "symbol": "circle"
         },
         "mode": "markers",
         "name": "Nephelomyias",
         "scene": "scene",
         "showlegend": true,
         "type": "scatter3d",
         "x": [
          -3.6338274478912354,
          -4.985632419586182
         ],
         "y": [
          -1.4860855340957642,
          -7.562994480133057
         ],
         "z": [
          4.980706214904785,
          -0.615665853023529
         ]
        },
        {
         "hovertemplate": "color=Netta<br>TSNE1=%{x}<br>TSNE2=%{y}<br>TSNE3=%{z}<extra></extra>",
         "legendgroup": "Netta",
         "marker": {
          "color": "#109618",
          "symbol": "circle"
         },
         "mode": "markers",
         "name": "Netta",
         "scene": "scene",
         "showlegend": true,
         "type": "scatter3d",
         "x": [
          -5.9415483474731445,
          0.4639439880847931,
          -6.040490627288818
         ],
         "y": [
          -6.5533623695373535,
          -4.928706169128418,
          -5.385829925537109
         ],
         "z": [
          -2.4107682704925537,
          -2.114680767059326,
          -3.3478150367736816
         ]
        },
        {
         "hovertemplate": "color=Nomonyx<br>TSNE1=%{x}<br>TSNE2=%{y}<br>TSNE3=%{z}<extra></extra>",
         "legendgroup": "Nomonyx",
         "marker": {
          "color": "#990099",
          "symbol": "circle"
         },
         "mode": "markers",
         "name": "Nomonyx",
         "scene": "scene",
         "showlegend": true,
         "type": "scatter3d",
         "x": [
          4.063711166381836,
          -4.925792694091797
         ],
         "y": [
          6.710620403289795,
          3.028736114501953
         ],
         "z": [
          1.038716435432434,
          -2.661353588104248
         ]
        },
        {
         "hovertemplate": "color=Nonnula<br>TSNE1=%{x}<br>TSNE2=%{y}<br>TSNE3=%{z}<extra></extra>",
         "legendgroup": "Nonnula",
         "marker": {
          "color": "#0099C6",
          "symbol": "circle"
         },
         "mode": "markers",
         "name": "Nonnula",
         "scene": "scene",
         "showlegend": true,
         "type": "scatter3d",
         "x": [
          -3.7657017707824707,
          1.7694100141525269,
          6.7175517082214355,
          -3.326054573059082
         ],
         "y": [
          5.490365505218506,
          -5.474785804748535,
          -2.540677309036255,
          0.247641459107399
         ],
         "z": [
          -3.4967336654663086,
          -1.9902747869491577,
          -0.36356303095817566,
          -4.0552978515625
         ]
        },
        {
         "hovertemplate": "color=Notharchus<br>TSNE1=%{x}<br>TSNE2=%{y}<br>TSNE3=%{z}<extra></extra>",
         "legendgroup": "Notharchus",
         "marker": {
          "color": "#DD4477",
          "symbol": "circle"
         },
         "mode": "markers",
         "name": "Notharchus",
         "scene": "scene",
         "showlegend": true,
         "type": "scatter3d",
         "x": [
          -0.7414122223854065,
          -4.7755937576293945,
          -4.509588241577148,
          -2.771122932434082,
          -2.3247768878936768,
          -3.4955978393554688,
          -2.503894090652466,
          -3.750368118286133,
          0.2030482143163681
         ],
         "y": [
          7.681205749511719,
          4.135879993438721,
          3.0635433197021484,
          7.57948112487793,
          6.976343631744385,
          5.945456027984619,
          7.932699203491211,
          6.004851818084717,
          0.11732065677642822
         ],
         "z": [
          2.007084846496582,
          -4.083491325378418,
          5.02390193939209,
          -4.320542812347412,
          -2.4845316410064697,
          -4.1593427658081055,
          -4.249683856964111,
          -3.6164462566375732,
          3.136767864227295
         ]
        },
        {
         "hovertemplate": "color=Nothocercus<br>TSNE1=%{x}<br>TSNE2=%{y}<br>TSNE3=%{z}<extra></extra>",
         "legendgroup": "Nothocercus",
         "marker": {
          "color": "#66AA00",
          "symbol": "circle"
         },
         "mode": "markers",
         "name": "Nothocercus",
         "scene": "scene",
         "showlegend": true,
         "type": "scatter3d",
         "x": [
          -1.7974210977554321,
          1.7139219045639038
         ],
         "y": [
          -5.062878131866455,
          0.07114885002374649
         ],
         "z": [
          2.6262855529785156,
          4.467643737792969
         ]
        },
        {
         "hovertemplate": "color=Nyctibius<br>TSNE1=%{x}<br>TSNE2=%{y}<br>TSNE3=%{z}<extra></extra>",
         "legendgroup": "Nyctibius",
         "marker": {
          "color": "#B82E2E",
          "symbol": "circle"
         },
         "mode": "markers",
         "name": "Nyctibius",
         "scene": "scene",
         "showlegend": true,
         "type": "scatter3d",
         "x": [
          -5.787950038909912,
          -6.240854740142822,
          -1.8777282238006592,
          -4.874702453613281,
          -0.44852176308631897,
          -1.5589616298675537,
          -0.9913079738616943,
          -2.8969669342041016,
          3.946178674697876,
          1.3158780336380005,
          -2.7156031131744385,
          -1.687729001045227,
          -4.683131217956543
         ],
         "y": [
          -1.4932985305786133,
          -0.9499966502189636,
          7.68259334564209,
          4.460251808166504,
          2.9136295318603516,
          -0.32015782594680786,
          -5.858993053436279,
          7.004397869110107,
          9.664969444274902,
          8.303004264831543,
          7.0532732009887695,
          6.8239054679870605,
          4.1557230949401855
         ],
         "z": [
          -3.815915107727051,
          -1.415643334388733,
          2.251896381378174,
          4.498342037200928,
          3.9436349868774414,
          1.5553805828094482,
          -1.2140511274337769,
          2.9579150676727295,
          2.650216817855835,
          3.61818790435791,
          3.0392117500305176,
          1.5274393558502197,
          -4.599010467529297
         ]
        },
        {
         "hovertemplate": "color=Nycticorax<br>TSNE1=%{x}<br>TSNE2=%{y}<br>TSNE3=%{z}<extra></extra>",
         "legendgroup": "Nycticorax",
         "marker": {
          "color": "#316395",
          "symbol": "circle"
         },
         "mode": "markers",
         "name": "Nycticorax",
         "scene": "scene",
         "showlegend": true,
         "type": "scatter3d",
         "x": [
          2.2267403602600098,
          -6.545713901519775
         ],
         "y": [
          -4.7762041091918945,
          -2.4150002002716064
         ],
         "z": [
          -5.759092807769775,
          3.006326675415039
         ]
        },
        {
         "hovertemplate": "color=Nyctidromus<br>TSNE1=%{x}<br>TSNE2=%{y}<br>TSNE3=%{z}<extra></extra>",
         "legendgroup": "Nyctidromus",
         "marker": {
          "color": "#3366CC",
          "symbol": "circle"
         },
         "mode": "markers",
         "name": "Nyctidromus",
         "scene": "scene",
         "showlegend": true,
         "type": "scatter3d",
         "x": [
          0.5041980743408203,
          4.155936241149902
         ],
         "y": [
          -3.7384228706359863,
          9.864740371704102
         ],
         "z": [
          -1.0279250144958496,
          2.4294865131378174
         ]
        },
        {
         "hovertemplate": "color=Nyctiphrynus<br>TSNE1=%{x}<br>TSNE2=%{y}<br>TSNE3=%{z}<extra></extra>",
         "legendgroup": "Nyctiphrynus",
         "marker": {
          "color": "#DC3912",
          "symbol": "circle"
         },
         "mode": "markers",
         "name": "Nyctiphrynus",
         "scene": "scene",
         "showlegend": true,
         "type": "scatter3d",
         "x": [
          -0.1466284543275833,
          2.153794288635254,
          5.177828788757324,
          0.7157730460166931
         ],
         "y": [
          -1.459515929222107,
          -3.949979305267334,
          7.407217979431152,
          -4.052332878112793
         ],
         "z": [
          1.3205442428588867,
          -5.715001106262207,
          2.120037794113159,
          -0.05903241038322449
         ]
        },
        {
         "hovertemplate": "color=Nyctipolus<br>TSNE1=%{x}<br>TSNE2=%{y}<br>TSNE3=%{z}<extra></extra>",
         "legendgroup": "Nyctipolus",
         "marker": {
          "color": "#FF9900",
          "symbol": "circle"
         },
         "mode": "markers",
         "name": "Nyctipolus",
         "scene": "scene",
         "showlegend": true,
         "type": "scatter3d",
         "x": [
          4.577091217041016,
          -5.9098310470581055,
          -0.007818480022251606,
          -4.197053909301758
         ],
         "y": [
          5.80131196975708,
          -6.4561872482299805,
          -4.512416362762451,
          4.269436836242676
         ],
         "z": [
          2.500037908554077,
          0.34239551424980164,
          3.799140453338623,
          -4.398988246917725
         ]
        },
        {
         "hovertemplate": "color=Nystalus<br>TSNE1=%{x}<br>TSNE2=%{y}<br>TSNE3=%{z}<extra></extra>",
         "legendgroup": "Nystalus",
         "marker": {
          "color": "#109618",
          "symbol": "circle"
         },
         "mode": "markers",
         "name": "Nystalus",
         "scene": "scene",
         "showlegend": true,
         "type": "scatter3d",
         "x": [
          -4.892091751098633,
          1.2107336521148682,
          0.9313597083091736,
          -2.078988790512085,
          1.9357452392578125,
          1.6307621002197266
         ],
         "y": [
          3.9210352897644043,
          -1.0285024642944336,
          -5.319029808044434,
          4.088387966156006,
          2.2224199771881104,
          -0.2370486557483673
         ],
         "z": [
          1.6806178092956543,
          -1.7507494688034058,
          -5.874307155609131,
          -0.988814651966095,
          2.336988925933838,
          5.028687953948975
         ]
        },
        {
         "hovertemplate": "color=Ochthoeca<br>TSNE1=%{x}<br>TSNE2=%{y}<br>TSNE3=%{z}<extra></extra>",
         "legendgroup": "Ochthoeca",
         "marker": {
          "color": "#990099",
          "symbol": "circle"
         },
         "mode": "markers",
         "name": "Ochthoeca",
         "scene": "scene",
         "showlegend": true,
         "type": "scatter3d",
         "x": [
          -4.44047737121582,
          -0.03141527995467186,
          -2.4481184482574463
         ],
         "y": [
          0.754677951335907,
          1.1857059001922607,
          1.280290126800537
         ],
         "z": [
          4.75894832611084,
          5.203372955322266,
          5.094698429107666
         ]
        },
        {
         "hovertemplate": "color=Ochthornis<br>TSNE1=%{x}<br>TSNE2=%{y}<br>TSNE3=%{z}<extra></extra>",
         "legendgroup": "Ochthornis",
         "marker": {
          "color": "#0099C6",
          "symbol": "circle"
         },
         "mode": "markers",
         "name": "Ochthornis",
         "scene": "scene",
         "showlegend": true,
         "type": "scatter3d",
         "x": [
          -6.813418388366699,
          -2.1214802265167236,
          -0.8697530031204224
         ],
         "y": [
          -4.565948009490967,
          -1.7091639041900635,
          -2.6034679412841797
         ],
         "z": [
          1.7619531154632568,
          4.705810070037842,
          4.606163024902344
         ]
        },
        {
         "hovertemplate": "color=Ocreatus<br>TSNE1=%{x}<br>TSNE2=%{y}<br>TSNE3=%{z}<extra></extra>",
         "legendgroup": "Ocreatus",
         "marker": {
          "color": "#DD4477",
          "symbol": "circle"
         },
         "mode": "markers",
         "name": "Ocreatus",
         "scene": "scene",
         "showlegend": true,
         "type": "scatter3d",
         "x": [
          -0.2690219581127167,
          -0.5473968982696533
         ],
         "y": [
          -3.482642412185669,
          1.23406183719635
         ],
         "z": [
          -0.5789895057678223,
          2.8374273777008057
         ]
        },
        {
         "hovertemplate": "color=Odontophorus<br>TSNE1=%{x}<br>TSNE2=%{y}<br>TSNE3=%{z}<extra></extra>",
         "legendgroup": "Odontophorus",
         "marker": {
          "color": "#66AA00",
          "symbol": "circle"
         },
         "mode": "markers",
         "name": "Odontophorus",
         "scene": "scene",
         "showlegend": true,
         "type": "scatter3d",
         "x": [
          -2.809842348098755,
          -3.3059589862823486,
          -2.2982778549194336,
          0.9849578738212585,
          1.3977261781692505,
          2.041619300842285,
          1.9083442687988281,
          1.3770216703414917,
          0.5451253652572632,
          -0.7607787251472473,
          1.1250536441802979,
          -5.140660285949707
         ],
         "y": [
          7.516876220703125,
          6.753032207489014,
          -2.413179636001587,
          4.233401298522949,
          5.331550598144531,
          -6.527085781097412,
          5.737856864929199,
          6.05790376663208,
          -7.312730312347412,
          -1.0360815525054932,
          -2.775502920150757,
          1.6063833236694336
         ],
         "z": [
          -4.33782958984375,
          -4.365870475769043,
          0.24810965359210968,
          -1.3542033433914185,
          -3.369403839111328,
          -2.6160898208618164,
          -2.2146871089935303,
          -3.2417523860931396,
          -2.8827216625213623,
          -2.204310655593872,
          -3.301989793777466,
          -4.525656223297119
         ]
        },
        {
         "hovertemplate": "color=Odontorchilus<br>TSNE1=%{x}<br>TSNE2=%{y}<br>TSNE3=%{z}<extra></extra>",
         "legendgroup": "Odontorchilus",
         "marker": {
          "color": "#B82E2E",
          "symbol": "circle"
         },
         "mode": "markers",
         "name": "Odontorchilus",
         "scene": "scene",
         "showlegend": true,
         "type": "scatter3d",
         "x": [
          4.6778082847595215,
          -4.044008731842041,
          0.6459922790527344
         ],
         "y": [
          -1.8948330879211426,
          1.1465119123458862,
          4.005116939544678
         ],
         "z": [
          2.994804859161377,
          1.1642009019851685,
          5.361012935638428
         ]
        },
        {
         "hovertemplate": "color=Oneillornis<br>TSNE1=%{x}<br>TSNE2=%{y}<br>TSNE3=%{z}<extra></extra>",
         "legendgroup": "Oneillornis",
         "marker": {
          "color": "#316395",
          "symbol": "circle"
         },
         "mode": "markers",
         "name": "Oneillornis",
         "scene": "scene",
         "showlegend": true,
         "type": "scatter3d",
         "x": [
          -3.0573012828826904,
          1.0175155401229858
         ],
         "y": [
          5.493389129638672,
          3.8737988471984863
         ],
         "z": [
          0.11392410099506378,
          -1.1226270198822021
         ]
        },
        {
         "hovertemplate": "color=Onychorhynchus<br>TSNE1=%{x}<br>TSNE2=%{y}<br>TSNE3=%{z}<extra></extra>",
         "legendgroup": "Onychorhynchus",
         "marker": {
          "color": "#3366CC",
          "symbol": "circle"
         },
         "mode": "markers",
         "name": "Onychorhynchus",
         "scene": "scene",
         "showlegend": true,
         "type": "scatter3d",
         "x": [
          -0.9928708672523499,
          -0.8954227566719055
         ],
         "y": [
          0.8265913128852844,
          0.8776575326919556
         ],
         "z": [
          5.790727138519287,
          5.86100959777832
         ]
        },
        {
         "hovertemplate": "color=Opisthocomus<br>TSNE1=%{x}<br>TSNE2=%{y}<br>TSNE3=%{z}<extra></extra>",
         "legendgroup": "Opisthocomus",
         "marker": {
          "color": "#DC3912",
          "symbol": "circle"
         },
         "mode": "markers",
         "name": "Opisthocomus",
         "scene": "scene",
         "showlegend": true,
         "type": "scatter3d",
         "x": [
          -0.9364757537841797,
          -3.287135601043701,
          -1.7571932077407837
         ],
         "y": [
          1.1372402906417847,
          6.3048529624938965,
          6.228918552398682
         ],
         "z": [
          -4.065885543823242,
          -4.259726524353027,
          -3.909651756286621
         ]
        },
        {
         "hovertemplate": "color=Oporornis<br>TSNE1=%{x}<br>TSNE2=%{y}<br>TSNE3=%{z}<extra></extra>",
         "legendgroup": "Oporornis",
         "marker": {
          "color": "#FF9900",
          "symbol": "circle"
         },
         "mode": "markers",
         "name": "Oporornis",
         "scene": "scene",
         "showlegend": true,
         "type": "scatter3d",
         "x": [
          1.2613924741744995,
          -2.22550106048584,
          4.151811599731445
         ],
         "y": [
          8.050127983093262,
          3.275754451751709,
          9.853686332702637
         ],
         "z": [
          3.755903482437134,
          3.6571829319000244,
          2.434305191040039
         ]
        },
        {
         "hovertemplate": "color=Oreopholus<br>TSNE1=%{x}<br>TSNE2=%{y}<br>TSNE3=%{z}<extra></extra>",
         "legendgroup": "Oreopholus",
         "marker": {
          "color": "#109618",
          "symbol": "circle"
         },
         "mode": "markers",
         "name": "Oreopholus",
         "scene": "scene",
         "showlegend": true,
         "type": "scatter3d",
         "x": [
          1.8986752033233643,
          -3.984959840774536,
          1.0845606327056885
         ],
         "y": [
          2.3203229904174805,
          -8.468381881713867,
          -6.959301471710205
         ],
         "z": [
          -0.29142341017723083,
          -3.778557062149048,
          -1.8379769325256348
         ]
        },
        {
         "hovertemplate": "color=Ornithion<br>TSNE1=%{x}<br>TSNE2=%{y}<br>TSNE3=%{z}<extra></extra>",
         "legendgroup": "Ornithion",
         "marker": {
          "color": "#990099",
          "symbol": "circle"
         },
         "mode": "markers",
         "name": "Ornithion",
         "scene": "scene",
         "showlegend": true,
         "type": "scatter3d",
         "x": [
          -4.759600639343262,
          0.4996841549873352,
          -5.067975044250488
         ],
         "y": [
          -5.01161527633667,
          -3.373201370239258,
          -4.818864822387695
         ],
         "z": [
          0.753100574016571,
          2.2974472045898438,
          1.2357349395751953
         ]
        },
        {
         "hovertemplate": "color=Ortalis<br>TSNE1=%{x}<br>TSNE2=%{y}<br>TSNE3=%{z}<extra></extra>",
         "legendgroup": "Ortalis",
         "marker": {
          "color": "#0099C6",
          "symbol": "circle"
         },
         "mode": "markers",
         "name": "Ortalis",
         "scene": "scene",
         "showlegend": true,
         "type": "scatter3d",
         "x": [
          -4.010527610778809,
          -1.3698513507843018
         ],
         "y": [
          5.123467445373535,
          2.524829387664795
         ],
         "z": [
          -3.3157951831817627,
          1.3397959470748901
         ]
        },
        {
         "hovertemplate": "color=Orthopsittaca<br>TSNE1=%{x}<br>TSNE2=%{y}<br>TSNE3=%{z}<extra></extra>",
         "legendgroup": "Orthopsittaca",
         "marker": {
          "color": "#DD4477",
          "symbol": "circle"
         },
         "mode": "markers",
         "name": "Orthopsittaca",
         "scene": "scene",
         "showlegend": true,
         "type": "scatter3d",
         "x": [
          1.569596529006958,
          -3.114330768585205,
          -0.42990875244140625,
          -0.7446134090423584,
          -0.802889883518219
         ],
         "y": [
          1.8152673244476318,
          -4.644192695617676,
          -0.9955040812492371,
          -5.702573299407959,
          1.476809024810791
         ],
         "z": [
          4.203330039978027,
          -1.1446690559387207,
          -4.0716681480407715,
          -0.428350567817688,
          -4.107082366943359
         ]
        },
        {
         "hovertemplate": "color=Oxyruncus<br>TSNE1=%{x}<br>TSNE2=%{y}<br>TSNE3=%{z}<extra></extra>",
         "legendgroup": "Oxyruncus",
         "marker": {
          "color": "#66AA00",
          "symbol": "circle"
         },
         "mode": "markers",
         "name": "Oxyruncus",
         "scene": "scene",
         "showlegend": true,
         "type": "scatter3d",
         "x": [
          -5.634322643280029,
          -5.262633323669434
         ],
         "y": [
          2.223801612854004,
          2.7227957248687744
         ],
         "z": [
          -3.615868330001831,
          -4.63511848449707
         ]
        },
        {
         "hovertemplate": "color=Oxyura<br>TSNE1=%{x}<br>TSNE2=%{y}<br>TSNE3=%{z}<extra></extra>",
         "legendgroup": "Oxyura",
         "marker": {
          "color": "#B82E2E",
          "symbol": "circle"
         },
         "mode": "markers",
         "name": "Oxyura",
         "scene": "scene",
         "showlegend": true,
         "type": "scatter3d",
         "x": [
          1.7543669939041138,
          -4.747807502746582
         ],
         "y": [
          3.1687183380126953,
          -3.157226800918579
         ],
         "z": [
          -0.7063549757003784,
          -2.849863290786743
         ]
        },
        {
         "hovertemplate": "color=Pachyramphus<br>TSNE1=%{x}<br>TSNE2=%{y}<br>TSNE3=%{z}<extra></extra>",
         "legendgroup": "Pachyramphus",
         "marker": {
          "color": "#316395",
          "symbol": "circle"
         },
         "mode": "markers",
         "name": "Pachyramphus",
         "scene": "scene",
         "showlegend": true,
         "type": "scatter3d",
         "x": [
          1.3613452911376953,
          -5.840614318847656,
          -5.450033664703369,
          -3.479214906692505,
          1.63552725315094,
          -4.678532600402832,
          3.290475606918335,
          -5.870754718780518,
          -1.079208493232727,
          -2.135126829147339,
          -6.374628067016602,
          -3.3339550495147705,
          -4.441368579864502,
          -2.5127296447753906,
          2.838711977005005,
          -3.56284236907959,
          5.125274658203125,
          -6.193602085113525,
          2.9334092140197754
         ],
         "y": [
          3.4193966388702393,
          -2.45847749710083,
          -2.511746644973755,
          -6.083693027496338,
          2.822436571121216,
          -8.531961441040039,
          6.630471229553223,
          -5.425230979919434,
          0.9446693658828735,
          5.414736747741699,
          -0.6058056354522705,
          4.124477863311768,
          4.551591396331787,
          -5.724843978881836,
          1.729418158531189,
          -2.9852993488311768,
          -2.38962984085083,
          -5.901885509490967,
          -5.804150104522705
         ],
         "z": [
          2.638202428817749,
          -3.8581488132476807,
          3.332609176635742,
          -3.640157461166382,
          0.15640830993652344,
          -3.5243210792541504,
          4.022661209106445,
          -4.565123081207275,
          5.800108432769775,
          4.4259490966796875,
          1.3049498796463013,
          4.924448490142822,
          4.767867565155029,
          -3.2093095779418945,
          2.209108591079712,
          3.687378406524658,
          0.7015668749809265,
          -3.262716054916382,
          -2.1908652782440186
         ]
        },
        {
         "hovertemplate": "color=Panyptila<br>TSNE1=%{x}<br>TSNE2=%{y}<br>TSNE3=%{z}<extra></extra>",
         "legendgroup": "Panyptila",
         "marker": {
          "color": "#3366CC",
          "symbol": "circle"
         },
         "mode": "markers",
         "name": "Panyptila",
         "scene": "scene",
         "showlegend": true,
         "type": "scatter3d",
         "x": [
          -5.858330249786377,
          1.7297104597091675,
          1.213378667831421
         ],
         "y": [
          0.4205731153488159,
          5.376147747039795,
          -1.9592429399490356
         ],
         "z": [
          0.528781533241272,
          -2.274573564529419,
          3.2954633235931396
         ]
        },
        {
         "hovertemplate": "color=Parabuteo<br>TSNE1=%{x}<br>TSNE2=%{y}<br>TSNE3=%{z}<extra></extra>",
         "legendgroup": "Parabuteo",
         "marker": {
          "color": "#DC3912",
          "symbol": "circle"
         },
         "mode": "markers",
         "name": "Parabuteo",
         "scene": "scene",
         "showlegend": true,
         "type": "scatter3d",
         "x": [
          6.537417888641357,
          -1.8248058557510376,
          -2.911379814147949
         ],
         "y": [
          2.949491024017334,
          6.696982383728027,
          -3.7210376262664795
         ],
         "z": [
          2.082761287689209,
          4.806828498840332,
          -3.888014793395996
         ]
        },
        {
         "hovertemplate": "color=Pardirallus<br>TSNE1=%{x}<br>TSNE2=%{y}<br>TSNE3=%{z}<extra></extra>",
         "legendgroup": "Pardirallus",
         "marker": {
          "color": "#FF9900",
          "symbol": "circle"
         },
         "mode": "markers",
         "name": "Pardirallus",
         "scene": "scene",
         "showlegend": true,
         "type": "scatter3d",
         "x": [
          -5.099872589111328,
          4.761212348937988,
          0.5720426440238953,
          -1.2287927865982056
         ],
         "y": [
          2.1576650142669678,
          1.132946491241455,
          3.9585986137390137,
          1.4364320039749146
         ],
         "z": [
          -4.374528884887695,
          3.986882209777832,
          5.009971618652344,
          -3.828573703765869
         ]
        },
        {
         "hovertemplate": "color=Parkerthraustes<br>TSNE1=%{x}<br>TSNE2=%{y}<br>TSNE3=%{z}<extra></extra>",
         "legendgroup": "Parkerthraustes",
         "marker": {
          "color": "#109618",
          "symbol": "circle"
         },
         "mode": "markers",
         "name": "Parkerthraustes",
         "scene": "scene",
         "showlegend": true,
         "type": "scatter3d",
         "x": [
          -3.842449188232422
         ],
         "y": [
          -0.42964550852775574
         ],
         "z": [
          -2.5080857276916504
         ]
        },
        {
         "hovertemplate": "color=Paroaria<br>TSNE1=%{x}<br>TSNE2=%{y}<br>TSNE3=%{z}<extra></extra>",
         "legendgroup": "Paroaria",
         "marker": {
          "color": "#990099",
          "symbol": "circle"
         },
         "mode": "markers",
         "name": "Paroaria",
         "scene": "scene",
         "showlegend": true,
         "type": "scatter3d",
         "x": [
          5.0198073387146,
          -6.9379730224609375,
          4.643853187561035
         ],
         "y": [
          0.3260157108306885,
          -6.23134708404541,
          8.169493675231934
         ],
         "z": [
          -1.5120867490768433,
          -0.11861176043748856,
          2.6745097637176514
         ]
        },
        {
         "hovertemplate": "color=Passer<br>TSNE1=%{x}<br>TSNE2=%{y}<br>TSNE3=%{z}<extra></extra>",
         "legendgroup": "Passer",
         "marker": {
          "color": "#0099C6",
          "symbol": "circle"
         },
         "mode": "markers",
         "name": "Passer",
         "scene": "scene",
         "showlegend": true,
         "type": "scatter3d",
         "x": [
          5.886536121368408,
          1.1009845733642578
         ],
         "y": [
          -0.11660028994083405,
          4.721508979797363
         ],
         "z": [
          -4.635631561279297,
          -3.5364904403686523
         ]
        },
        {
         "hovertemplate": "color=Patagioenas<br>TSNE1=%{x}<br>TSNE2=%{y}<br>TSNE3=%{z}<extra></extra>",
         "legendgroup": "Patagioenas",
         "marker": {
          "color": "#DD4477",
          "symbol": "circle"
         },
         "mode": "markers",
         "name": "Patagioenas",
         "scene": "scene",
         "showlegend": true,
         "type": "scatter3d",
         "x": [
          4.174839973449707,
          1.6685411930084229,
          -2.8887672424316406,
          -6.686968803405762,
          7.0111894607543945,
          6.730363368988037,
          0.9549859762191772,
          -3.04601788520813,
          1.703517198562622,
          -0.32906731963157654,
          1.9939982891082764,
          -1.9812819957733154,
          1.436205267906189,
          -6.782383918762207,
          -0.7318986058235168,
          -5.896271705627441,
          1.512291431427002,
          4.778544902801514,
          -0.40201178193092346
         ],
         "y": [
          7.61112642288208,
          -7.285552024841309,
          7.0654497146606445,
          -2.5676441192626953,
          6.122720718383789,
          2.792907476425171,
          -5.590314865112305,
          5.5598883628845215,
          0.954286515712738,
          -4.0741071701049805,
          -0.3778180778026581,
          7.6262102127075195,
          -0.42914170026779175,
          -6.711157321929932,
          -1.7436190843582153,
          -3.9597055912017822,
          1.4576255083084106,
          4.693851470947266,
          -0.07322967052459717
         ],
         "z": [
          -2.104511260986328,
          -2.6978652477264404,
          4.7114362716674805,
          2.875659704208374,
          1.118537187576294,
          1.828487753868103,
          -2.0054590702056885,
          0.16733244061470032,
          4.224414825439453,
          4.407040596008301,
          5.019984245300293,
          2.5066463947296143,
          4.39125919342041,
          -1.1262407302856445,
          0.028519991785287857,
          -3.207197427749634,
          3.804511547088623,
          -0.26780015230178833,
          2.220229387283325
         ]
        },
        {
         "hovertemplate": "color=Pauxi<br>TSNE1=%{x}<br>TSNE2=%{y}<br>TSNE3=%{z}<extra></extra>",
         "legendgroup": "Pauxi",
         "marker": {
          "color": "#66AA00",
          "symbol": "circle"
         },
         "mode": "markers",
         "name": "Pauxi",
         "scene": "scene",
         "showlegend": true,
         "type": "scatter3d",
         "x": [
          -0.16264599561691284
         ],
         "y": [
          -3.45550537109375
         ],
         "z": [
          5.17399263381958
         ]
        },
        {
         "hovertemplate": "color=Penelope<br>TSNE1=%{x}<br>TSNE2=%{y}<br>TSNE3=%{z}<extra></extra>",
         "legendgroup": "Penelope",
         "marker": {
          "color": "#B82E2E",
          "symbol": "circle"
         },
         "mode": "markers",
         "name": "Penelope",
         "scene": "scene",
         "showlegend": true,
         "type": "scatter3d",
         "x": [
          8.506978988647461,
          -5.385865688323975,
          0.6113135814666748
         ],
         "y": [
          5.891418933868408,
          0.17572596669197083,
          -1.7818653583526611
         ],
         "z": [
          -0.13779813051223755,
          -2.6996846199035645,
          -0.36342722177505493
         ]
        },
        {
         "hovertemplate": "color=Petrochelidon<br>TSNE1=%{x}<br>TSNE2=%{y}<br>TSNE3=%{z}<extra></extra>",
         "legendgroup": "Petrochelidon",
         "marker": {
          "color": "#316395",
          "symbol": "circle"
         },
         "mode": "markers",
         "name": "Petrochelidon",
         "scene": "scene",
         "showlegend": true,
         "type": "scatter3d",
         "x": [
          3.455212354660034,
          4.865758895874023,
          2.664630174636841
         ],
         "y": [
          -4.359103202819824,
          1.4824990034103394,
          -4.408142566680908
         ],
         "z": [
          0.5558326244354248,
          2.760035276412964,
          -1.959317922592163
         ]
        },
        {
         "hovertemplate": "color=Phaeomyias<br>TSNE1=%{x}<br>TSNE2=%{y}<br>TSNE3=%{z}<extra></extra>",
         "legendgroup": "Phaeomyias",
         "marker": {
          "color": "#3366CC",
          "symbol": "circle"
         },
         "mode": "markers",
         "name": "Phaeomyias",
         "scene": "scene",
         "showlegend": true,
         "type": "scatter3d",
         "x": [
          -6.211937427520752,
          1.3037986755371094,
          -6.600924491882324,
          0.023337531834840775,
          -3.8285768032073975
         ],
         "y": [
          0.37071728706359863,
          2.8356683254241943,
          -4.583400249481201,
          -1.4952481985092163,
          -0.19014036655426025
         ],
         "z": [
          4.125633239746094,
          1.1752125024795532,
          1.5365358591079712,
          1.3679248094558716,
          5.034736633300781
         ]
        },
        {
         "hovertemplate": "color=Phaethornis<br>TSNE1=%{x}<br>TSNE2=%{y}<br>TSNE3=%{z}<extra></extra>",
         "legendgroup": "Phaethornis",
         "marker": {
          "color": "#DC3912",
          "symbol": "circle"
         },
         "mode": "markers",
         "name": "Phaethornis",
         "scene": "scene",
         "showlegend": true,
         "type": "scatter3d",
         "x": [
          8.597886085510254,
          7.855627059936523,
          -2.464508533477783,
          7.907495021820068,
          8.754209518432617,
          6.508120059967041,
          1.4378013610839844,
          -2.6260199546813965,
          4.509640693664551,
          8.567094802856445,
          8.80303955078125,
          6.536474704742432,
          -0.5377320647239685,
          1.0683746337890625,
          -1.0367367267608643,
          -0.5250275135040283,
          -7.479129314422607
         ],
         "y": [
          3.506303548812866,
          -0.8596314191818237,
          7.5719451904296875,
          -0.7403249144554138,
          0.6187732219696045,
          -2.8457248210906982,
          6.678889274597168,
          -8.000065803527832,
          7.7480034828186035,
          4.481064796447754,
          3.579683542251587,
          -3.5543911457061768,
          3.018406629562378,
          5.95458984375,
          1.1494314670562744,
          -2.545607566833496,
          -5.689478397369385
         ],
         "z": [
          -1.054999828338623,
          -0.3842853605747223,
          -4.182025909423828,
          0.04052712768316269,
          -0.6305615901947021,
          -1.0412092208862305,
          -3.137984275817871,
          -1.200639247894287,
          -2.0968730449676514,
          -0.7728253602981567,
          -1.0517114400863647,
          -0.3779647946357727,
          -3.96634578704834,
          -3.2455203533172607,
          -4.103785037994385,
          2.6697826385498047,
          0.6119218468666077
         ]
        },
        {
         "hovertemplate": "color=Phaetusa<br>TSNE1=%{x}<br>TSNE2=%{y}<br>TSNE3=%{z}<extra></extra>",
         "legendgroup": "Phaetusa",
         "marker": {
          "color": "#FF9900",
          "symbol": "circle"
         },
         "mode": "markers",
         "name": "Phaetusa",
         "scene": "scene",
         "showlegend": true,
         "type": "scatter3d",
         "x": [
          -0.897303581237793,
          5.581997871398926
         ],
         "y": [
          -4.997541427612305,
          4.069189548492432
         ],
         "z": [
          2.1129510402679443,
          -1.2347261905670166
         ]
        },
        {
         "hovertemplate": "color=Phalacrocorax<br>TSNE1=%{x}<br>TSNE2=%{y}<br>TSNE3=%{z}<extra></extra>",
         "legendgroup": "Phalacrocorax",
         "marker": {
          "color": "#109618",
          "symbol": "circle"
         },
         "mode": "markers",
         "name": "Phalacrocorax",
         "scene": "scene",
         "showlegend": true,
         "type": "scatter3d",
         "x": [
          -1.579525351524353,
          4.08071756362915
         ],
         "y": [
          -4.404872417449951,
          4.755245685577393
         ],
         "z": [
          -1.6787244081497192,
          2.8632566928863525
         ]
        },
        {
         "hovertemplate": "color=Phalaropus<br>TSNE1=%{x}<br>TSNE2=%{y}<br>TSNE3=%{z}<extra></extra>",
         "legendgroup": "Phalaropus",
         "marker": {
          "color": "#990099",
          "symbol": "circle"
         },
         "mode": "markers",
         "name": "Phalaropus",
         "scene": "scene",
         "showlegend": true,
         "type": "scatter3d",
         "x": [
          3.9009082317352295,
          -0.19575415551662445
         ],
         "y": [
          7.556705951690674,
          -7.783782958984375
         ],
         "z": [
          3.578951358795166,
          -1.6381922960281372
         ]
        },
        {
         "hovertemplate": "color=Pharomachrus<br>TSNE1=%{x}<br>TSNE2=%{y}<br>TSNE3=%{z}<extra></extra>",
         "legendgroup": "Pharomachrus",
         "marker": {
          "color": "#0099C6",
          "symbol": "circle"
         },
         "mode": "markers",
         "name": "Pharomachrus",
         "scene": "scene",
         "showlegend": true,
         "type": "scatter3d",
         "x": [
          -0.9752606749534607,
          3.2759788036346436,
          -0.37803587317466736,
          0.05885649099946022,
          4.044042587280273,
          2.3823137283325195,
          1.5688798427581787,
          -5.819788455963135
         ],
         "y": [
          -1.6010037660598755,
          2.120732307434082,
          -8.120200157165527,
          0.9174625873565674,
          2.164250612258911,
          3.570756196975708,
          0.5285383462905884,
          -3.2537214756011963
         ],
         "z": [
          0.1970980167388916,
          2.239840030670166,
          -3.6601579189300537,
          3.5191962718963623,
          3.2151272296905518,
          4.434427738189697,
          1.5504462718963623,
          -2.3297321796417236
         ]
        },
        {
         "hovertemplate": "color=Pheucticus<br>TSNE1=%{x}<br>TSNE2=%{y}<br>TSNE3=%{z}<extra></extra>",
         "legendgroup": "Pheucticus",
         "marker": {
          "color": "#DD4477",
          "symbol": "circle"
         },
         "mode": "markers",
         "name": "Pheucticus",
         "scene": "scene",
         "showlegend": true,
         "type": "scatter3d",
         "x": [
          0.9648916721343994,
          -0.40128207206726074,
          -3.2757301330566406,
          -4.203118801116943
         ],
         "y": [
          -0.3380148112773895,
          4.679866313934326,
          0.4210108518600464,
          -6.423376560211182
         ],
         "z": [
          1.7113934755325317,
          2.052274703979492,
          -1.6801730394363403,
          0.8321012854576111
         ]
        },
        {
         "hovertemplate": "color=Pheugopedius<br>TSNE1=%{x}<br>TSNE2=%{y}<br>TSNE3=%{z}<extra></extra>",
         "legendgroup": "Pheugopedius",
         "marker": {
          "color": "#66AA00",
          "symbol": "circle"
         },
         "mode": "markers",
         "name": "Pheugopedius",
         "scene": "scene",
         "showlegend": true,
         "type": "scatter3d",
         "x": [
          4.08508825302124,
          2.3952622413635254,
          2.133565664291382,
          4.449634075164795,
          -2.1920323371887207,
          6.689920902252197
         ],
         "y": [
          2.982572317123413,
          -7.775469779968262,
          5.098004341125488,
          -1.9228090047836304,
          1.5945619344711304,
          -1.0946447849273682
         ],
         "z": [
          3.6322405338287354,
          -2.261833906173706,
          4.597565174102783,
          -0.06008870527148247,
          4.924532413482666,
          -0.6690870523452759
         ]
        },
        {
         "hovertemplate": "color=Philydor<br>TSNE1=%{x}<br>TSNE2=%{y}<br>TSNE3=%{z}<extra></extra>",
         "legendgroup": "Philydor",
         "marker": {
          "color": "#B82E2E",
          "symbol": "circle"
         },
         "mode": "markers",
         "name": "Philydor",
         "scene": "scene",
         "showlegend": true,
         "type": "scatter3d",
         "x": [
          2.579784870147705,
          -6.290822982788086,
          -6.516415119171143,
          -6.616023063659668,
          3.2837166786193848,
          0.9140304327011108,
          2.879734754562378,
          -1.7154566049575806,
          -2.2785441875457764,
          -4.423372745513916,
          6.473006248474121
         ],
         "y": [
          -3.8631479740142822,
          -6.239028453826904,
          -2.2764394283294678,
          -1.0882692337036133,
          -5.023038864135742,
          6.670498847961426,
          -3.496408224105835,
          -0.6193549633026123,
          6.812295436859131,
          3.497626781463623,
          1.3729939460754395
         ],
         "z": [
          2.6450655460357666,
          0.3132205307483673,
          3.0215871334075928,
          3.6044039726257324,
          -2.272505760192871,
          1.0729506015777588,
          1.2308870553970337,
          1.858660340309143,
          -2.421583652496338,
          -4.454104423522949,
          1.6692830324172974
         ]
        },
        {
         "hovertemplate": "color=Phlegopsis<br>TSNE1=%{x}<br>TSNE2=%{y}<br>TSNE3=%{z}<extra></extra>",
         "legendgroup": "Phlegopsis",
         "marker": {
          "color": "#316395",
          "symbol": "circle"
         },
         "mode": "markers",
         "name": "Phlegopsis",
         "scene": "scene",
         "showlegend": true,
         "type": "scatter3d",
         "x": [
          4.003066539764404,
          -5.547116756439209,
          -1.534744381904602,
          1.8220000267028809,
          -5.6966938972473145,
          -4.589865207672119,
          3.0454978942871094,
          -3.6933481693267822
         ],
         "y": [
          4.295702934265137,
          0.9628071188926697,
          -4.296659469604492,
          -1.3364259004592896,
          2.12783145904541,
          2.1798973083496094,
          1.9109023809432983,
          -2.073293924331665
         ],
         "z": [
          3.592635154724121,
          -2.2579753398895264,
          -2.8010060787200928,
          2.0854921340942383,
          0.8950414657592773,
          3.79109525680542,
          3.1261370182037354,
          2.7492923736572266
         ]
        },
        {
         "hovertemplate": "color=Phleocryptes<br>TSNE1=%{x}<br>TSNE2=%{y}<br>TSNE3=%{z}<extra></extra>",
         "legendgroup": "Phleocryptes",
         "marker": {
          "color": "#3366CC",
          "symbol": "circle"
         },
         "mode": "markers",
         "name": "Phleocryptes",
         "scene": "scene",
         "showlegend": true,
         "type": "scatter3d",
         "x": [
          -1.9721959829330444,
          2.389857769012451,
          -2.3998003005981445
         ],
         "y": [
          8.798946380615234,
          -8.05813980102539,
          -5.644424915313721
         ],
         "z": [
          -4.127261638641357,
          -2.4837913513183594,
          2.916179656982422
         ]
        },
        {
         "hovertemplate": "color=Phlogophilus<br>TSNE1=%{x}<br>TSNE2=%{y}<br>TSNE3=%{z}<extra></extra>",
         "legendgroup": "Phlogophilus",
         "marker": {
          "color": "#DC3912",
          "symbol": "circle"
         },
         "mode": "markers",
         "name": "Phlogophilus",
         "scene": "scene",
         "showlegend": true,
         "type": "scatter3d",
         "x": [
          4.774724960327148,
          -1.8296600580215454,
          -6.506369590759277
         ],
         "y": [
          -1.8735202550888062,
          0.8659178018569946,
          -5.977187156677246
         ],
         "z": [
          0.07739254087209702,
          4.92135763168335,
          -3.3004677295684814
         ]
        },
        {
         "hovertemplate": "color=Phrygilus<br>TSNE1=%{x}<br>TSNE2=%{y}<br>TSNE3=%{z}<extra></extra>",
         "legendgroup": "Phrygilus",
         "marker": {
          "color": "#FF9900",
          "symbol": "circle"
         },
         "mode": "markers",
         "name": "Phrygilus",
         "scene": "scene",
         "showlegend": true,
         "type": "scatter3d",
         "x": [
          -4.108835697174072,
          -0.5300276875495911,
          3.567885160446167
         ],
         "y": [
          -3.319631576538086,
          -0.7474585175514221,
          6.983407974243164
         ],
         "z": [
          -0.023940660059452057,
          -3.982137441635132,
          2.472860813140869
         ]
        },
        {
         "hovertemplate": "color=Phyllomyias<br>TSNE1=%{x}<br>TSNE2=%{y}<br>TSNE3=%{z}<extra></extra>",
         "legendgroup": "Phyllomyias",
         "marker": {
          "color": "#109618",
          "symbol": "circle"
         },
         "mode": "markers",
         "name": "Phyllomyias",
         "scene": "scene",
         "showlegend": true,
         "type": "scatter3d",
         "x": [
          4.454949378967285,
          4.485371112823486,
          5.271825790405273,
          -1.8108763694763184,
          -5.116546154022217,
          2.478452205657959,
          -1.4595621824264526,
          -6.56916618347168,
          3.7140982151031494,
          0.6893270611763,
          -6.731962203979492,
          2.4119222164154053,
          3.858173131942749,
          -0.42796197533607483
         ],
         "y": [
          2.267996311187744,
          -0.7136218547821045,
          3.8382086753845215,
          -2.730478286743164,
          3.946043014526367,
          6.529492378234863,
          -1.173010230064392,
          -1.926578164100647,
          8.838764190673828,
          3.9283385276794434,
          -6.490697860717773,
          3.899109363555908,
          -0.8671691417694092,
          -4.992713928222656
         ],
         "z": [
          0.35876813530921936,
          2.567004442214966,
          -1.0506271123886108,
          -3.572289228439331,
          4.811640739440918,
          -0.7119117975234985,
          -2.4547548294067383,
          -1.0869581699371338,
          3.2205264568328857,
          5.060555934906006,
          -0.9514320492744446,
          -1.1206247806549072,
          0.7068940997123718,
          -1.0066273212432861
         ]
        },
        {
         "hovertemplate": "color=Phylloscartes<br>TSNE1=%{x}<br>TSNE2=%{y}<br>TSNE3=%{z}<extra></extra>",
         "legendgroup": "Phylloscartes",
         "marker": {
          "color": "#990099",
          "symbol": "circle"
         },
         "mode": "markers",
         "name": "Phylloscartes",
         "scene": "scene",
         "showlegend": true,
         "type": "scatter3d",
         "x": [
          -3.5263991355895996,
          -3.866640567779541,
          -3.496055841445923,
          -1.0390969514846802,
          0.2179117649793625
         ],
         "y": [
          -0.5974846482276917,
          -6.815299987792969,
          -4.34369421005249,
          -6.650193691253662,
          -5.358836650848389
         ],
         "z": [
          -0.3726550340652466,
          1.511515498161316,
          2.811943531036377,
          -0.6761909127235413,
          2.3450136184692383
         ]
        },
        {
         "hovertemplate": "color=Piaya<br>TSNE1=%{x}<br>TSNE2=%{y}<br>TSNE3=%{z}<extra></extra>",
         "legendgroup": "Piaya",
         "marker": {
          "color": "#0099C6",
          "symbol": "circle"
         },
         "mode": "markers",
         "name": "Piaya",
         "scene": "scene",
         "showlegend": true,
         "type": "scatter3d",
         "x": [
          -6.6997389793396,
          -6.882298469543457,
          4.017062187194824,
          4.01732873916626,
          5.2678351402282715,
          -4.151310443878174
         ],
         "y": [
          -6.537420272827148,
          -5.636981964111328,
          -1.5268089771270752,
          1.834183931350708,
          -2.2325427532196045,
          -7.996464252471924
         ],
         "z": [
          -1.2200701236724854,
          0.41250860691070557,
          -0.7290759086608887,
          4.333607196807861,
          -0.39039915800094604,
          -1.1884989738464355
         ]
        },
        {
         "hovertemplate": "color=Piculus<br>TSNE1=%{x}<br>TSNE2=%{y}<br>TSNE3=%{z}<extra></extra>",
         "legendgroup": "Piculus",
         "marker": {
          "color": "#DD4477",
          "symbol": "circle"
         },
         "mode": "markers",
         "name": "Piculus",
         "scene": "scene",
         "showlegend": true,
         "type": "scatter3d",
         "x": [
          -5.608273983001709,
          -6.094508171081543,
          -1.1027774810791016,
          -4.941348075866699,
          -5.879818439483643,
          -7.068626403808594,
          -0.1619763970375061
         ],
         "y": [
          -5.579958915710449,
          -0.10933931916952133,
          -2.623152256011963,
          3.8320906162261963,
          -5.548051357269287,
          -1.3636078834533691,
          8.914194107055664
         ],
         "z": [
          -4.458991527557373,
          0.8750360012054443,
          0.08314036577939987,
          4.923437118530273,
          -4.522135257720947,
          0.7001755833625793,
          3.557722806930542
         ]
        },
        {
         "hovertemplate": "color=Picumnus<br>TSNE1=%{x}<br>TSNE2=%{y}<br>TSNE3=%{z}<extra></extra>",
         "legendgroup": "Picumnus",
         "marker": {
          "color": "#66AA00",
          "symbol": "circle"
         },
         "mode": "markers",
         "name": "Picumnus",
         "scene": "scene",
         "showlegend": true,
         "type": "scatter3d",
         "x": [
          -3.8186652660369873,
          3.4022786617279053,
          -1.9674952030181885,
          -4.883397579193115,
          -0.7369007468223572,
          -2.1790151596069336,
          -6.757436752319336,
          -0.5599023103713989,
          1.3336290121078491,
          2.464397668838501,
          3.288043260574341
         ],
         "y": [
          0.3752233684062958,
          6.1908745765686035,
          3.5060501098632812,
          2.0016136169433594,
          -0.21234002709388733,
          -3.976080894470215,
          -6.6940789222717285,
          0.10756848752498627,
          -0.47782808542251587,
          -2.393465518951416,
          7.434911727905273
         ],
         "z": [
          0.1838110387325287,
          2.1927478313446045,
          3.439211130142212,
          4.256719589233398,
          1.2551467418670654,
          0.45365241169929504,
          -1.8825603723526,
          1.843139886856079,
          4.835750579833984,
          -0.09541873633861542,
          1.7245146036148071
         ]
        },
        {
         "hovertemplate": "color=Pilherodius<br>TSNE1=%{x}<br>TSNE2=%{y}<br>TSNE3=%{z}<extra></extra>",
         "legendgroup": "Pilherodius",
         "marker": {
          "color": "#B82E2E",
          "symbol": "circle"
         },
         "mode": "markers",
         "name": "Pilherodius",
         "scene": "scene",
         "showlegend": true,
         "type": "scatter3d",
         "x": [
          -5.895726680755615,
          3.475935935974121
         ],
         "y": [
          -5.810959339141846,
          8.302708625793457
         ],
         "z": [
          -4.466675281524658,
          3.066711902618408
         ]
        },
        {
         "hovertemplate": "color=Pionites<br>TSNE1=%{x}<br>TSNE2=%{y}<br>TSNE3=%{z}<extra></extra>",
         "legendgroup": "Pionites",
         "marker": {
          "color": "#316395",
          "symbol": "circle"
         },
         "mode": "markers",
         "name": "Pionites",
         "scene": "scene",
         "showlegend": true,
         "type": "scatter3d",
         "x": [
          -3.120363235473633,
          8.118146896362305
         ],
         "y": [
          4.146008014678955,
          2.0018234252929688
         ],
         "z": [
          5.236995220184326,
          -5.545542240142822
         ]
        },
        {
         "hovertemplate": "color=Pionus<br>TSNE1=%{x}<br>TSNE2=%{y}<br>TSNE3=%{z}<extra></extra>",
         "legendgroup": "Pionus",
         "marker": {
          "color": "#3366CC",
          "symbol": "circle"
         },
         "mode": "markers",
         "name": "Pionus",
         "scene": "scene",
         "showlegend": true,
         "type": "scatter3d",
         "x": [
          -1.6297410726547241,
          0.3600117862224579,
          3.843783378601074,
          -3.256225824356079,
          -0.2583918869495392,
          3.2220308780670166,
          0.22682538628578186,
          0.24709860980510712
         ],
         "y": [
          -1.1198276281356812,
          -0.7894846200942993,
          5.280262470245361,
          -8.024725914001465,
          -8.247224807739258,
          3.7184274196624756,
          -0.13347090780735016,
          -0.7997499108314514
         ],
         "z": [
          -2.5918641090393066,
          -1.9076992273330688,
          -0.3962988257408142,
          -3.4342620372772217,
          -2.9392952919006348,
          -2.7991249561309814,
          1.5568678379058838,
          -1.8794370889663696
         ]
        },
        {
         "hovertemplate": "color=Pipile<br>TSNE1=%{x}<br>TSNE2=%{y}<br>TSNE3=%{z}<extra></extra>",
         "legendgroup": "Pipile",
         "marker": {
          "color": "#DC3912",
          "symbol": "circle"
         },
         "mode": "markers",
         "name": "Pipile",
         "scene": "scene",
         "showlegend": true,
         "type": "scatter3d",
         "x": [
          2.243802309036255,
          6.321435928344727,
          -1.024312138557434,
          7.567684650421143
         ],
         "y": [
          -3.931514024734497,
          -1.390061378479004,
          1.207131028175354,
          0.3450346887111664
         ],
         "z": [
          -1.1219593286514282,
          -3.3573405742645264,
          -4.150643348693848,
          -3.3383679389953613
         ]
        },
        {
         "hovertemplate": "color=Pipra<br>TSNE1=%{x}<br>TSNE2=%{y}<br>TSNE3=%{z}<extra></extra>",
         "legendgroup": "Pipra",
         "marker": {
          "color": "#FF9900",
          "symbol": "circle"
         },
         "mode": "markers",
         "name": "Pipra",
         "scene": "scene",
         "showlegend": true,
         "type": "scatter3d",
         "x": [
          -3.4317893981933594,
          -6.597402572631836,
          -0.59878009557724,
          0.09962785989046097
         ],
         "y": [
          -0.29356324672698975,
          -5.825878620147705,
          6.934176921844482,
          4.089634895324707
         ],
         "z": [
          4.934874534606934,
          -3.0433199405670166,
          4.658651351928711,
          5.10718297958374
         ]
        },
        {
         "hovertemplate": "color=Pipraeidea<br>TSNE1=%{x}<br>TSNE2=%{y}<br>TSNE3=%{z}<extra></extra>",
         "legendgroup": "Pipraeidea",
         "marker": {
          "color": "#109618",
          "symbol": "circle"
         },
         "mode": "markers",
         "name": "Pipraeidea",
         "scene": "scene",
         "showlegend": true,
         "type": "scatter3d",
         "x": [
          2.8524444103240967,
          -3.613410472869873,
          -2.92279314994812
         ],
         "y": [
          -4.384347915649414,
          1.875779151916504,
          1.8868048191070557
         ],
         "z": [
          -5.089139938354492,
          3.0000975131988525,
          2.9477005004882812
         ]
        },
        {
         "hovertemplate": "color=Pipreola<br>TSNE1=%{x}<br>TSNE2=%{y}<br>TSNE3=%{z}<extra></extra>",
         "legendgroup": "Pipreola",
         "marker": {
          "color": "#990099",
          "symbol": "circle"
         },
         "mode": "markers",
         "name": "Pipreola",
         "scene": "scene",
         "showlegend": true,
         "type": "scatter3d",
         "x": [
          -0.5427981019020081,
          -5.988140106201172,
          3.883244514465332,
          -5.567816257476807,
          3.9164657592773438,
          1.5206259489059448,
          -4.998259544372559,
          1.4064245223999023,
          -5.143479824066162,
          -5.7100605964660645,
          -5.434962749481201
         ],
         "y": [
          2.0630433559417725,
          -1.6681920289993286,
          7.826348781585693,
          0.43512454628944397,
          5.7081451416015625,
          -1.849934697151184,
          0.9814432263374329,
          8.242124557495117,
          -4.636074542999268,
          2.6412596702575684,
          2.1804497241973877
         ],
         "z": [
          4.253680229187012,
          -4.358161449432373,
          2.563121795654297,
          -2.2866227626800537,
          2.044780731201172,
          3.5461888313293457,
          -0.32322847843170166,
          3.6764304637908936,
          1.7012420892715454,
          1.2832355499267578,
          -4.4636735916137695
         ]
        },
        {
         "hovertemplate": "color=Piprites<br>TSNE1=%{x}<br>TSNE2=%{y}<br>TSNE3=%{z}<extra></extra>",
         "legendgroup": "Piprites",
         "marker": {
          "color": "#0099C6",
          "symbol": "circle"
         },
         "mode": "markers",
         "name": "Piprites",
         "scene": "scene",
         "showlegend": true,
         "type": "scatter3d",
         "x": [
          1.6468544006347656,
          -1.0617883205413818,
          -5.11328125
         ],
         "y": [
          -1.567138671875,
          7.650751113891602,
          1.6040012836456299
         ],
         "z": [
          2.0361461639404297,
          4.391202449798584,
          -0.6601706147193909
         ]
        },
        {
         "hovertemplate": "color=Piranga<br>TSNE1=%{x}<br>TSNE2=%{y}<br>TSNE3=%{z}<extra></extra>",
         "legendgroup": "Piranga",
         "marker": {
          "color": "#DD4477",
          "symbol": "circle"
         },
         "mode": "markers",
         "name": "Piranga",
         "scene": "scene",
         "showlegend": true,
         "type": "scatter3d",
         "x": [
          -0.19760443270206451,
          -2.631934642791748,
          1.6045799255371094,
          4.814154148101807,
          -0.5140790343284607,
          1.0135501623153687,
          -0.9238544702529907,
          4.197124481201172,
          4.103389739990234,
          3.907693862915039,
          4.840198040008545,
          -2.0610616207122803,
          -2.8734447956085205,
          4.750735282897949,
          -3.573326349258423
         ],
         "y": [
          -4.032597064971924,
          -9.017843246459961,
          -5.003419399261475,
          7.440844535827637,
          1.3578200340270996,
          -6.748734951019287,
          -5.761561393737793,
          6.430543899536133,
          5.64717960357666,
          5.1925950050354,
          8.536809921264648,
          4.005284786224365,
          -4.431997299194336,
          -1.8777586221694946,
          -4.7333574295043945
         ],
         "z": [
          3.7548627853393555,
          -3.787076473236084,
          -5.842825889587402,
          2.067786693572998,
          4.3494696617126465,
          -1.5896666049957275,
          -0.28645968437194824,
          1.991194725036621,
          2.002676248550415,
          0.8540679812431335,
          0.98590087890625,
          3.711787462234497,
          2.9838919639587402,
          -0.039994675666093826,
          -1.3911312818527222
         ]
        },
        {
         "hovertemplate": "color=Pitangus<br>TSNE1=%{x}<br>TSNE2=%{y}<br>TSNE3=%{z}<extra></extra>",
         "legendgroup": "Pitangus",
         "marker": {
          "color": "#66AA00",
          "symbol": "circle"
         },
         "mode": "markers",
         "name": "Pitangus",
         "scene": "scene",
         "showlegend": true,
         "type": "scatter3d",
         "x": [
          -2.918816089630127
         ],
         "y": [
          -1.8250635862350464
         ],
         "z": [
          1.3620455265045166
         ]
        },
        {
         "hovertemplate": "color=Platalea<br>TSNE1=%{x}<br>TSNE2=%{y}<br>TSNE3=%{z}<extra></extra>",
         "legendgroup": "Platalea",
         "marker": {
          "color": "#B82E2E",
          "symbol": "circle"
         },
         "mode": "markers",
         "name": "Platalea",
         "scene": "scene",
         "showlegend": true,
         "type": "scatter3d",
         "x": [
          -0.16938111186027527,
          -4.370245456695557
         ],
         "y": [
          -8.096413612365723,
          -3.412004232406616
         ],
         "z": [
          -2.4001100063323975,
          -4.005327224731445
         ]
        },
        {
         "hovertemplate": "color=Platyrinchus<br>TSNE1=%{x}<br>TSNE2=%{y}<br>TSNE3=%{z}<extra></extra>",
         "legendgroup": "Platyrinchus",
         "marker": {
          "color": "#316395",
          "symbol": "circle"
         },
         "mode": "markers",
         "name": "Platyrinchus",
         "scene": "scene",
         "showlegend": true,
         "type": "scatter3d",
         "x": [
          0.8758527636528015,
          1.787703514099121,
          -0.29538872838020325,
          -0.42115768790245056,
          -6.286032199859619,
          -4.26146125793457,
          6.371644496917725,
          3.131514310836792,
          -2.7463247776031494
         ],
         "y": [
          5.98369026184082,
          -6.179336071014404,
          -2.7889273166656494,
          1.2933592796325684,
          -0.06775467097759247,
          1.1516443490982056,
          1.618554711341858,
          1.8282194137573242,
          6.585362434387207
         ],
         "z": [
          4.718778133392334,
          0.16992634534835815,
          -3.9204134941101074,
          6.117804050445557,
          4.138386249542236,
          5.426951885223389,
          1.3990265130996704,
          4.1120123863220215,
          4.283377647399902
         ]
        },
        {
         "hovertemplate": "color=Plegadis<br>TSNE1=%{x}<br>TSNE2=%{y}<br>TSNE3=%{z}<extra></extra>",
         "legendgroup": "Plegadis",
         "marker": {
          "color": "#3366CC",
          "symbol": "circle"
         },
         "mode": "markers",
         "name": "Plegadis",
         "scene": "scene",
         "showlegend": true,
         "type": "scatter3d",
         "x": [
          -1.809261441230774,
          2.0121662616729736,
          -0.9257795810699463
         ],
         "y": [
          -8.66153621673584,
          -5.710355758666992,
          -8.474846839904785
         ],
         "z": [
          -3.4403867721557617,
          -4.985622882843018,
          -3.085148811340332
         ]
        },
        {
         "hovertemplate": "color=Pluvialis<br>TSNE1=%{x}<br>TSNE2=%{y}<br>TSNE3=%{z}<extra></extra>",
         "legendgroup": "Pluvialis",
         "marker": {
          "color": "#DC3912",
          "symbol": "circle"
         },
         "mode": "markers",
         "name": "Pluvialis",
         "scene": "scene",
         "showlegend": true,
         "type": "scatter3d",
         "x": [
          -4.776085376739502,
          -3.8252604007720947,
          -4.520454406738281
         ],
         "y": [
          -3.299156904220581,
          -5.645264148712158,
          3.0433802604675293
         ],
         "z": [
          -2.9894583225250244,
          -1.6090013980865479,
          5.194685459136963
         ]
        },
        {
         "hovertemplate": "color=Podilymbus<br>TSNE1=%{x}<br>TSNE2=%{y}<br>TSNE3=%{z}<extra></extra>",
         "legendgroup": "Podilymbus",
         "marker": {
          "color": "#FF9900",
          "symbol": "circle"
         },
         "mode": "markers",
         "name": "Podilymbus",
         "scene": "scene",
         "showlegend": true,
         "type": "scatter3d",
         "x": [
          -1.3182469606399536,
          -5.81427526473999,
          4.083863735198975
         ],
         "y": [
          1.4014233350753784,
          1.104392170906067,
          -1.4436578750610352
         ],
         "z": [
          -4.0815749168396,
          -2.729534864425659,
          2.9656822681427
         ]
        },
        {
         "hovertemplate": "color=Poecilotriccus<br>TSNE1=%{x}<br>TSNE2=%{y}<br>TSNE3=%{z}<extra></extra>",
         "legendgroup": "Poecilotriccus",
         "marker": {
          "color": "#109618",
          "symbol": "circle"
         },
         "mode": "markers",
         "name": "Poecilotriccus",
         "scene": "scene",
         "showlegend": true,
         "type": "scatter3d",
         "x": [
          -5.161423206329346,
          -6.016736030578613,
          -0.09104467183351517,
          -0.6623477339744568,
          6.21236515045166,
          -6.7681779861450195,
          -0.2091875970363617,
          -1.8718048334121704,
          3.264037609100342,
          2.850343704223633,
          -1.2972791194915771,
          -0.42127808928489685,
          -3.3204503059387207,
          -3.9315943717956543,
          3.4503328800201416
         ],
         "y": [
          3.8181312084198,
          -1.360329031944275,
          -4.381415843963623,
          -4.7368621826171875,
          5.1205034255981445,
          -6.4900360107421875,
          -4.860422611236572,
          -5.979726791381836,
          -2.7279796600341797,
          -4.261137008666992,
          -7.348330497741699,
          -5.691247463226318,
          -8.664194107055664,
          -8.224167823791504,
          -0.24191531538963318
         ],
         "z": [
          3.73840594291687,
          -4.253620624542236,
          3.1979990005493164,
          4.1494059562683105,
          2.1993460655212402,
          -1.6387079954147339,
          -5.792860507965088,
          -2.685375690460205,
          5.057747840881348,
          -5.919939041137695,
          -0.29581254720687866,
          3.051316261291504,
          -3.698282241821289,
          -3.874070167541504,
          3.4353280067443848
         ]
        },
        {
         "hovertemplate": "color=Polioptila<br>TSNE1=%{x}<br>TSNE2=%{y}<br>TSNE3=%{z}<extra></extra>",
         "legendgroup": "Polioptila",
         "marker": {
          "color": "#990099",
          "symbol": "circle"
         },
         "mode": "markers",
         "name": "Polioptila",
         "scene": "scene",
         "showlegend": true,
         "type": "scatter3d",
         "x": [
          2.0378880500793457,
          -0.40071776509284973,
          -2.043027400970459
         ],
         "y": [
          2.6648318767547607,
          -4.204889297485352,
          -1.582895278930664
         ],
         "z": [
          1.8826382160186768,
          -1.3430668115615845,
          -2.971550941467285
         ]
        },
        {
         "hovertemplate": "color=Polytmus<br>TSNE1=%{x}<br>TSNE2=%{y}<br>TSNE3=%{z}<extra></extra>",
         "legendgroup": "Polytmus",
         "marker": {
          "color": "#0099C6",
          "symbol": "circle"
         },
         "mode": "markers",
         "name": "Polytmus",
         "scene": "scene",
         "showlegend": true,
         "type": "scatter3d",
         "x": [
          3.30558443069458,
          8.015353202819824,
          1.548377513885498,
          -4.742386341094971
         ],
         "y": [
          -4.994952201843262,
          -0.8360288143157959,
          2.9931743144989014,
          2.761462926864624
         ],
         "z": [
          1.3570107221603394,
          -0.23001214861869812,
          1.765018105506897,
          -4.150608062744141
         ]
        },
        {
         "hovertemplate": "color=Porphyrio<br>TSNE1=%{x}<br>TSNE2=%{y}<br>TSNE3=%{z}<extra></extra>",
         "legendgroup": "Porphyrio",
         "marker": {
          "color": "#DD4477",
          "symbol": "circle"
         },
         "mode": "markers",
         "name": "Porphyrio",
         "scene": "scene",
         "showlegend": true,
         "type": "scatter3d",
         "x": [
          -0.7681758403778076,
          4.815458297729492,
          -6.07394552230835,
          -5.598642826080322
         ],
         "y": [
          -4.225254535675049,
          0.8090980052947998,
          -2.8325374126434326,
          -0.3830961585044861
         ],
         "z": [
          4.63990592956543,
          4.092310428619385,
          3.1591439247131348,
          -4.440863132476807
         ]
        },
        {
         "hovertemplate": "color=Porphyrolaema<br>TSNE1=%{x}<br>TSNE2=%{y}<br>TSNE3=%{z}<extra></extra>",
         "legendgroup": "Porphyrolaema",
         "marker": {
          "color": "#66AA00",
          "symbol": "circle"
         },
         "mode": "markers",
         "name": "Porphyrolaema",
         "scene": "scene",
         "showlegend": true,
         "type": "scatter3d",
         "x": [
          3.188735246658325
         ],
         "y": [
          1.451370120048523
         ],
         "z": [
          1.2774436473846436
         ]
        },
        {
         "hovertemplate": "color=Premnoplex<br>TSNE1=%{x}<br>TSNE2=%{y}<br>TSNE3=%{z}<extra></extra>",
         "legendgroup": "Premnoplex",
         "marker": {
          "color": "#B82E2E",
          "symbol": "circle"
         },
         "mode": "markers",
         "name": "Premnoplex",
         "scene": "scene",
         "showlegend": true,
         "type": "scatter3d",
         "x": [
          -1.4907444715499878,
          -0.02040955424308777,
          3.4517714977264404
         ],
         "y": [
          1.1377835273742676,
          4.13176965713501,
          -0.4054917097091675
         ],
         "z": [
          3.8970913887023926,
          4.929871082305908,
          3.4060990810394287
         ]
        },
        {
         "hovertemplate": "color=Premnornis<br>TSNE1=%{x}<br>TSNE2=%{y}<br>TSNE3=%{z}<extra></extra>",
         "legendgroup": "Premnornis",
         "marker": {
          "color": "#316395",
          "symbol": "circle"
         },
         "mode": "markers",
         "name": "Premnornis",
         "scene": "scene",
         "showlegend": true,
         "type": "scatter3d",
         "x": [
          7.534193515777588,
          -0.8126781582832336,
          0.9870920777320862,
          7.2292327880859375
         ],
         "y": [
          0.5783392786979675,
          -1.1178133487701416,
          -3.5263571739196777,
          -0.5259582996368408
         ],
         "z": [
          -0.7887814044952393,
          -3.5157642364501953,
          -1.114124059677124,
          0.05591166391968727
         ]
        },
        {
         "hovertemplate": "color=Primolius<br>TSNE1=%{x}<br>TSNE2=%{y}<br>TSNE3=%{z}<extra></extra>",
         "legendgroup": "Primolius",
         "marker": {
          "color": "#3366CC",
          "symbol": "circle"
         },
         "mode": "markers",
         "name": "Primolius",
         "scene": "scene",
         "showlegend": true,
         "type": "scatter3d",
         "x": [
          6.71544885635376,
          3.335797071456909
         ],
         "y": [
          2.8481569290161133,
          -3.2136995792388916
         ],
         "z": [
          1.734318733215332,
          -0.6661067008972168
         ]
        },
        {
         "hovertemplate": "color=Progne<br>TSNE1=%{x}<br>TSNE2=%{y}<br>TSNE3=%{z}<extra></extra>",
         "legendgroup": "Progne",
         "marker": {
          "color": "#DC3912",
          "symbol": "circle"
         },
         "mode": "markers",
         "name": "Progne",
         "scene": "scene",
         "showlegend": true,
         "type": "scatter3d",
         "x": [
          -0.6429312825202942,
          8.135540962219238,
          6.750257968902588,
          4.066495418548584,
          3.1093907356262207,
          -0.19525447487831116,
          7.550716400146484,
          5.00676155090332,
          1.5569356679916382
         ],
         "y": [
          -3.1354622840881348,
          -1.376567006111145,
          6.599721431732178,
          9.452288627624512,
          -2.5641393661499023,
          -1.3053807020187378,
          1.0333459377288818,
          4.088777542114258,
          4.7071967124938965
         ],
         "z": [
          -0.07562823593616486,
          -0.37171611189842224,
          0.6490985155105591,
          2.644739866256714,
          -2.0844640731811523,
          -3.91267991065979,
          -5.097884654998779,
          0.15461213886737823,
          3.933640718460083
         ]
        },
        {
         "hovertemplate": "color=Psarocolius<br>TSNE1=%{x}<br>TSNE2=%{y}<br>TSNE3=%{z}<extra></extra>",
         "legendgroup": "Psarocolius",
         "marker": {
          "color": "#FF9900",
          "symbol": "circle"
         },
         "mode": "markers",
         "name": "Psarocolius",
         "scene": "scene",
         "showlegend": true,
         "type": "scatter3d",
         "x": [
          3.473235607147217,
          3.4785265922546387,
          1.1014643907546997,
          -1.8863344192504883,
          2.5485591888427734,
          2.224824905395508,
          3.419010877609253,
          0.2508322298526764,
          8.174389839172363,
          -2.051490306854248,
          -2.1079015731811523,
          1.1193844079971313,
          -6.573723793029785,
          -1.2596992254257202
         ],
         "y": [
          8.333491325378418,
          6.665403366088867,
          2.072330951690674,
          5.7388529777526855,
          -2.2091593742370605,
          7.908050060272217,
          8.195198059082031,
          7.85457181930542,
          -1.3844988346099854,
          5.664554595947266,
          -3.5408174991607666,
          7.230687618255615,
          -1.6187585592269897,
          4.649646282196045
         ],
         "z": [
          2.946017026901245,
          3.2363853454589844,
          -3.5173373222351074,
          5.136971950531006,
          3.8665220737457275,
          3.5082852840423584,
          2.8351566791534424,
          3.999840021133423,
          -0.35449978709220886,
          4.508507251739502,
          0.48353517055511475,
          3.9559805393218994,
          -1.2579550743103027,
          5.139433860778809
         ]
        },
        {
         "hovertemplate": "color=Pseudastur<br>TSNE1=%{x}<br>TSNE2=%{y}<br>TSNE3=%{z}<extra></extra>",
         "legendgroup": "Pseudastur",
         "marker": {
          "color": "#109618",
          "symbol": "circle"
         },
         "mode": "markers",
         "name": "Pseudastur",
         "scene": "scene",
         "showlegend": true,
         "type": "scatter3d",
         "x": [
          -2.8950343132019043,
          2.211315155029297
         ],
         "y": [
          -0.6443327069282532,
          -3.5769476890563965
         ],
         "z": [
          4.866344451904297,
          -2.2107014656066895
         ]
        },
        {
         "hovertemplate": "color=Pseudocolopteryx<br>TSNE1=%{x}<br>TSNE2=%{y}<br>TSNE3=%{z}<extra></extra>",
         "legendgroup": "Pseudocolopteryx",
         "marker": {
          "color": "#990099",
          "symbol": "circle"
         },
         "mode": "markers",
         "name": "Pseudocolopteryx",
         "scene": "scene",
         "showlegend": true,
         "type": "scatter3d",
         "x": [
          -2.2671027183532715,
          0.9472241401672363,
          0.4182175397872925
         ],
         "y": [
          -9.123559951782227,
          -5.480310916900635,
          -5.818830490112305
         ],
         "z": [
          -3.9880123138427734,
          -5.946221351623535,
          1.7092269659042358
         ]
        },
        {
         "hovertemplate": "color=Pseudotriccus<br>TSNE1=%{x}<br>TSNE2=%{y}<br>TSNE3=%{z}<extra></extra>",
         "legendgroup": "Pseudotriccus",
         "marker": {
          "color": "#0099C6",
          "symbol": "circle"
         },
         "mode": "markers",
         "name": "Pseudotriccus",
         "scene": "scene",
         "showlegend": true,
         "type": "scatter3d",
         "x": [
          -2.838707208633423,
          3.428520917892456,
          -0.7617174983024597,
          -5.515265941619873
         ],
         "y": [
          7.611816883087158,
          6.58784818649292,
          2.9350292682647705,
          -5.236776351928711
         ],
         "z": [
          4.588644504547119,
          2.8255581855773926,
          4.4751877784729,
          -4.198675632476807
         ]
        },
        {
         "hovertemplate": "color=Psittacara<br>TSNE1=%{x}<br>TSNE2=%{y}<br>TSNE3=%{z}<extra></extra>",
         "legendgroup": "Psittacara",
         "marker": {
          "color": "#DD4477",
          "symbol": "circle"
         },
         "mode": "markers",
         "name": "Psittacara",
         "scene": "scene",
         "showlegend": true,
         "type": "scatter3d",
         "x": [
          0.2947525084018707,
          0.49773308634757996,
          3.7463879585266113
         ],
         "y": [
          -0.4304172992706299,
          -0.9209710359573364,
          -4.936314582824707
         ],
         "z": [
          -3.82763409614563,
          2.745727777481079,
          -2.0745162963867188
         ]
        },
        {
         "hovertemplate": "color=Psophia<br>TSNE1=%{x}<br>TSNE2=%{y}<br>TSNE3=%{z}<extra></extra>",
         "legendgroup": "Psophia",
         "marker": {
          "color": "#66AA00",
          "symbol": "circle"
         },
         "mode": "markers",
         "name": "Psophia",
         "scene": "scene",
         "showlegend": true,
         "type": "scatter3d",
         "x": [
          5.927229404449463,
          0.8890171051025391
         ],
         "y": [
          0.2923904359340668,
          1.8100323677062988
         ],
         "z": [
          -1.2805744409561157,
          -3.6005101203918457
         ]
        },
        {
         "hovertemplate": "color=Pteroglossus<br>TSNE1=%{x}<br>TSNE2=%{y}<br>TSNE3=%{z}<extra></extra>",
         "legendgroup": "Pteroglossus",
         "marker": {
          "color": "#B82E2E",
          "symbol": "circle"
         },
         "mode": "markers",
         "name": "Pteroglossus",
         "scene": "scene",
         "showlegend": true,
         "type": "scatter3d",
         "x": [
          9.238923072814941,
          8.86611557006836,
          1.2658723592758179,
          1.3555232286453247,
          3.8782756328582764,
          4.545047760009766,
          5.436889171600342,
          1.9685873985290527,
          8.463562965393066,
          5.409980297088623,
          6.855818271636963
         ],
         "y": [
          4.651453971862793,
          0.5202551484107971,
          -0.7871602773666382,
          0.6411547064781189,
          -4.492056369781494,
          0.3336288034915924,
          -1.1996012926101685,
          -3.6481924057006836,
          1.2126834392547607,
          -0.6168960928916931,
          1.4521737098693848
         ],
         "z": [
          -0.5623911619186401,
          -0.7183640599250793,
          -1.8271853923797607,
          -3.1282150745391846,
          -0.4092542231082916,
          -1.9810068607330322,
          -1.2458704710006714,
          0.8913097381591797,
          -2.5397534370422363,
          -3.1622703075408936,
          -4.523641109466553
         ]
        },
        {
         "hovertemplate": "color=Pulsatrix<br>TSNE1=%{x}<br>TSNE2=%{y}<br>TSNE3=%{z}<extra></extra>",
         "legendgroup": "Pulsatrix",
         "marker": {
          "color": "#316395",
          "symbol": "circle"
         },
         "mode": "markers",
         "name": "Pulsatrix",
         "scene": "scene",
         "showlegend": true,
         "type": "scatter3d",
         "x": [
          1.2018219232559204,
          -2.759577512741089,
          -2.7751052379608154,
          -2.612142324447632,
          -3.478766441345215,
          -0.2878149151802063
         ],
         "y": [
          6.318449974060059,
          7.365856170654297,
          -5.568573951721191,
          5.902233123779297,
          -0.06128111481666565,
          7.638258934020996
         ],
         "z": [
          1.1114941835403442,
          4.597084999084473,
          -0.024823712185025215,
          4.327516555786133,
          -2.936908483505249,
          4.329726219177246
         ]
        },
        {
         "hovertemplate": "color=Pygiptila<br>TSNE1=%{x}<br>TSNE2=%{y}<br>TSNE3=%{z}<extra></extra>",
         "legendgroup": "Pygiptila",
         "marker": {
          "color": "#3366CC",
          "symbol": "circle"
         },
         "mode": "markers",
         "name": "Pygiptila",
         "scene": "scene",
         "showlegend": true,
         "type": "scatter3d",
         "x": [
          3.1382699012756348,
          5.331364631652832
         ],
         "y": [
          2.633608341217041,
          -2.0986955165863037
         ],
         "z": [
          -2.171466112136841,
          -1.0098167657852173
         ]
        },
        {
         "hovertemplate": "color=Pyrilia<br>TSNE1=%{x}<br>TSNE2=%{y}<br>TSNE3=%{z}<extra></extra>",
         "legendgroup": "Pyrilia",
         "marker": {
          "color": "#DC3912",
          "symbol": "circle"
         },
         "mode": "markers",
         "name": "Pyrilia",
         "scene": "scene",
         "showlegend": true,
         "type": "scatter3d",
         "x": [
          0.503337025642395,
          -5.824315547943115
         ],
         "y": [
          4.653069496154785,
          -5.397706985473633
         ],
         "z": [
          5.103674411773682,
          -4.579975605010986
         ]
        },
        {
         "hovertemplate": "color=Pyrocephalus<br>TSNE1=%{x}<br>TSNE2=%{y}<br>TSNE3=%{z}<extra></extra>",
         "legendgroup": "Pyrocephalus",
         "marker": {
          "color": "#FF9900",
          "symbol": "circle"
         },
         "mode": "markers",
         "name": "Pyrocephalus",
         "scene": "scene",
         "showlegend": true,
         "type": "scatter3d",
         "x": [
          1.9892041683197021,
          5.854626178741455
         ],
         "y": [
          -0.9073294401168823,
          1.965467929840088
         ],
         "z": [
          1.878623127937317,
          2.1047050952911377
         ]
        },
        {
         "hovertemplate": "color=Pyrrhomyias<br>TSNE1=%{x}<br>TSNE2=%{y}<br>TSNE3=%{z}<extra></extra>",
         "legendgroup": "Pyrrhomyias",
         "marker": {
          "color": "#109618",
          "symbol": "circle"
         },
         "mode": "markers",
         "name": "Pyrrhomyias",
         "scene": "scene",
         "showlegend": true,
         "type": "scatter3d",
         "x": [
          4.691558837890625,
          4.255598545074463
         ],
         "y": [
          -4.090630054473877,
          4.730856418609619
         ],
         "z": [
          0.9429102540016174,
          3.2050349712371826
         ]
        },
        {
         "hovertemplate": "color=Pyrrhura<br>TSNE1=%{x}<br>TSNE2=%{y}<br>TSNE3=%{z}<extra></extra>",
         "legendgroup": "Pyrrhura",
         "marker": {
          "color": "#990099",
          "symbol": "circle"
         },
         "mode": "markers",
         "name": "Pyrrhura",
         "scene": "scene",
         "showlegend": true,
         "type": "scatter3d",
         "x": [
          5.29625940322876,
          5.007045269012451,
          0.3026238679885864
         ],
         "y": [
          -3.054518461227417,
          2.37294864654541,
          -6.566405296325684
         ],
         "z": [
          -1.4068036079406738,
          1.381253719329834,
          -0.9885287284851074
         ]
        },
        {
         "hovertemplate": "color=Querula<br>TSNE1=%{x}<br>TSNE2=%{y}<br>TSNE3=%{z}<extra></extra>",
         "legendgroup": "Querula",
         "marker": {
          "color": "#0099C6",
          "symbol": "circle"
         },
         "mode": "markers",
         "name": "Querula",
         "scene": "scene",
         "showlegend": true,
         "type": "scatter3d",
         "x": [
          -3.2498621940612793,
          -2.3578848838806152
         ],
         "y": [
          0.6538197994232178,
          -5.7800164222717285
         ],
         "z": [
          -3.7709243297576904,
          -3.3432445526123047
         ]
        },
        {
         "hovertemplate": "color=Ramphastos<br>TSNE1=%{x}<br>TSNE2=%{y}<br>TSNE3=%{z}<extra></extra>",
         "legendgroup": "Ramphastos",
         "marker": {
          "color": "#DD4477",
          "symbol": "circle"
         },
         "mode": "markers",
         "name": "Ramphastos",
         "scene": "scene",
         "showlegend": true,
         "type": "scatter3d",
         "x": [
          1.0953612327575684,
          0.8136296272277832,
          -0.835789144039154,
          4.059896469116211,
          8.955111503601074,
          -1.8909480571746826,
          5.7425537109375,
          2.27534556388855
         ],
         "y": [
          -7.016158103942871,
          -7.67683744430542,
          -5.086833477020264,
          5.516869068145752,
          2.2438554763793945,
          8.863869667053223,
          -0.8200463652610779,
          -2.424016237258911
         ],
         "z": [
          -2.6457951068878174,
          -1.5806127786636353,
          2.438354730606079,
          0.289667546749115,
          -6.266608715057373,
          -4.104396820068359,
          -0.46884188055992126,
          -1.8993116617202759
         ]
        },
        {
         "hovertemplate": "color=Ramphocaenus<br>TSNE1=%{x}<br>TSNE2=%{y}<br>TSNE3=%{z}<extra></extra>",
         "legendgroup": "Ramphocaenus",
         "marker": {
          "color": "#66AA00",
          "symbol": "circle"
         },
         "mode": "markers",
         "name": "Ramphocaenus",
         "scene": "scene",
         "showlegend": true,
         "type": "scatter3d",
         "x": [
          5.051075458526611,
          1.1440083980560303,
          6.303847312927246,
          8.968233108520508,
          -4.610339641571045,
          9.027153015136719
         ],
         "y": [
          4.022507190704346,
          3.5105879306793213,
          -4.269873142242432,
          2.0608956813812256,
          1.7796021699905396,
          2.097612142562866
         ],
         "z": [
          0.32682955265045166,
          -0.6035036444664001,
          -0.833948016166687,
          -6.4606032371521,
          -1.4435142278671265,
          -6.499678611755371
         ]
        },
        {
         "hovertemplate": "color=Ramphocelus<br>TSNE1=%{x}<br>TSNE2=%{y}<br>TSNE3=%{z}<extra></extra>",
         "legendgroup": "Ramphocelus",
         "marker": {
          "color": "#B82E2E",
          "symbol": "circle"
         },
         "mode": "markers",
         "name": "Ramphocelus",
         "scene": "scene",
         "showlegend": true,
         "type": "scatter3d",
         "x": [
          2.233598470687866,
          7.174920558929443,
          6.646690368652344,
          6.711658954620361,
          3.1716647148132324,
          6.949502468109131,
          6.2715678215026855
         ],
         "y": [
          -1.430999994277954,
          5.817498207092285,
          3.1822640895843506,
          3.055617332458496,
          -1.2097524404525757,
          -0.012216011993587017,
          1.8025689125061035
         ],
         "z": [
          2.8495936393737793,
          -0.7120963931083679,
          2.107759952545166,
          1.970282793045044,
          1.2584621906280518,
          -4.483198165893555,
          1.5809581279754639
         ]
        },
        {
         "hovertemplate": "color=Ramphotrigon<br>TSNE1=%{x}<br>TSNE2=%{y}<br>TSNE3=%{z}<extra></extra>",
         "legendgroup": "Ramphotrigon",
         "marker": {
          "color": "#316395",
          "symbol": "circle"
         },
         "mode": "markers",
         "name": "Ramphotrigon",
         "scene": "scene",
         "showlegend": true,
         "type": "scatter3d",
         "x": [
          1.3411507606506348,
          0.06989261507987976,
          5.899185657501221,
          -3.2631676197052,
          1.152101755142212,
          -0.2256374955177307,
          0.623358428478241
         ],
         "y": [
          -2.916234016418457,
          3.6184754371643066,
          1.5899440050125122,
          -3.3540549278259277,
          -1.9969834089279175,
          3.179013967514038,
          6.506478309631348
         ],
         "z": [
          -0.8147585391998291,
          -0.4958832263946533,
          1.2001832723617554,
          3.734877347946167,
          -1.332586407661438,
          4.513672828674316,
          4.447102069854736
         ]
        },
        {
         "hovertemplate": "color=Rhegmatorhina<br>TSNE1=%{x}<br>TSNE2=%{y}<br>TSNE3=%{z}<extra></extra>",
         "legendgroup": "Rhegmatorhina",
         "marker": {
          "color": "#3366CC",
          "symbol": "circle"
         },
         "mode": "markers",
         "name": "Rhegmatorhina",
         "scene": "scene",
         "showlegend": true,
         "type": "scatter3d",
         "x": [
          1.8747169971466064,
          3.5957865715026855
         ],
         "y": [
          5.131092071533203,
          5.04812479019165
         ],
         "z": [
          -0.4765089154243469,
          3.0215840339660645
         ]
        },
        {
         "hovertemplate": "color=Rhynchocyclus<br>TSNE1=%{x}<br>TSNE2=%{y}<br>TSNE3=%{z}<extra></extra>",
         "legendgroup": "Rhynchocyclus",
         "marker": {
          "color": "#DC3912",
          "symbol": "circle"
         },
         "mode": "markers",
         "name": "Rhynchocyclus",
         "scene": "scene",
         "showlegend": true,
         "type": "scatter3d",
         "x": [
          -6.772315979003906,
          -5.8872270584106445,
          -1.965859293937683,
          5.519915580749512,
          -1.092018961906433
         ],
         "y": [
          -1.297110915184021,
          -2.6422536373138428,
          -2.4670095443725586,
          -0.524253249168396,
          8.834840774536133
         ],
         "z": [
          1.6917506456375122,
          3.3543248176574707,
          1.1730265617370605,
          0.8779586553573608,
          3.7961556911468506
         ]
        },
        {
         "hovertemplate": "color=Rhynchotus<br>TSNE1=%{x}<br>TSNE2=%{y}<br>TSNE3=%{z}<extra></extra>",
         "legendgroup": "Rhynchotus",
         "marker": {
          "color": "#FF9900",
          "symbol": "circle"
         },
         "mode": "markers",
         "name": "Rhynchotus",
         "scene": "scene",
         "showlegend": true,
         "type": "scatter3d",
         "x": [
          2.5450222492218018,
          4.580805778503418
         ],
         "y": [
          -4.212203025817871,
          4.357758045196533
         ],
         "z": [
          2.79833984375,
          5.202911853790283
         ]
        },
        {
         "hovertemplate": "color=Rhytipterna<br>TSNE1=%{x}<br>TSNE2=%{y}<br>TSNE3=%{z}<extra></extra>",
         "legendgroup": "Rhytipterna",
         "marker": {
          "color": "#109618",
          "symbol": "circle"
         },
         "mode": "markers",
         "name": "Rhytipterna",
         "scene": "scene",
         "showlegend": true,
         "type": "scatter3d",
         "x": [
          -6.714280128479004,
          -6.3295087814331055,
          -5.98107385635376,
          -5.6696648597717285,
          3.4456539154052734
         ],
         "y": [
          -5.8502326011657715,
          -2.9214720726013184,
          -0.6099121570587158,
          -2.374859094619751,
          7.338723182678223
         ],
         "z": [
          -2.0657265186309814,
          -1.614452838897705,
          -4.15225076675415,
          2.9595706462860107,
          3.5984063148498535
         ]
        },
        {
         "hovertemplate": "color=Riparia<br>TSNE1=%{x}<br>TSNE2=%{y}<br>TSNE3=%{z}<extra></extra>",
         "legendgroup": "Riparia",
         "marker": {
          "color": "#990099",
          "symbol": "circle"
         },
         "mode": "markers",
         "name": "Riparia",
         "scene": "scene",
         "showlegend": true,
         "type": "scatter3d",
         "x": [
          8.91482925415039,
          8.893972396850586
         ],
         "y": [
          1.5623506307601929,
          1.1638280153274536
         ],
         "z": [
          -1.0104279518127441,
          -0.9756731986999512
         ]
        },
        {
         "hovertemplate": "color=Rollandia<br>TSNE1=%{x}<br>TSNE2=%{y}<br>TSNE3=%{z}<extra></extra>",
         "legendgroup": "Rollandia",
         "marker": {
          "color": "#0099C6",
          "symbol": "circle"
         },
         "mode": "markers",
         "name": "Rollandia",
         "scene": "scene",
         "showlegend": true,
         "type": "scatter3d",
         "x": [
          2.9591987133026123,
          -6.846737384796143,
          6.837279319763184
         ],
         "y": [
          -4.71075963973999,
          -1.159646987915039,
          -2.5844273567199707
         ],
         "z": [
          1.8104876279830933,
          1.27942955493927,
          -0.23973821103572845
         ]
        },
        {
         "hovertemplate": "color=Rostrhamus<br>TSNE1=%{x}<br>TSNE2=%{y}<br>TSNE3=%{z}<extra></extra>",
         "legendgroup": "Rostrhamus",
         "marker": {
          "color": "#DD4477",
          "symbol": "circle"
         },
         "mode": "markers",
         "name": "Rostrhamus",
         "scene": "scene",
         "showlegend": true,
         "type": "scatter3d",
         "x": [
          -3.8026978969573975
         ],
         "y": [
          0.4717293679714203
         ],
         "z": [
          4.973864555358887
         ]
        },
        {
         "hovertemplate": "color=Rupicola<br>TSNE1=%{x}<br>TSNE2=%{y}<br>TSNE3=%{z}<extra></extra>",
         "legendgroup": "Rupicola",
         "marker": {
          "color": "#66AA00",
          "symbol": "circle"
         },
         "mode": "markers",
         "name": "Rupicola",
         "scene": "scene",
         "showlegend": true,
         "type": "scatter3d",
         "x": [
          8.397649765014648,
          0.7203550338745117,
          8.412153244018555,
          3.2415101528167725,
          -6.200972557067871
         ],
         "y": [
          4.612227439880371,
          3.893786907196045,
          2.6732399463653564,
          -2.7909154891967773,
          -3.991609573364258
         ],
         "z": [
          -1.3758938312530518,
          5.430784702301025,
          -4.71225118637085,
          5.14216947555542,
          2.075960636138916
         ]
        },
        {
         "hovertemplate": "color=Rupornis<br>TSNE1=%{x}<br>TSNE2=%{y}<br>TSNE3=%{z}<extra></extra>",
         "legendgroup": "Rupornis",
         "marker": {
          "color": "#B82E2E",
          "symbol": "circle"
         },
         "mode": "markers",
         "name": "Rupornis",
         "scene": "scene",
         "showlegend": true,
         "type": "scatter3d",
         "x": [
          8.894424438476562,
          -3.598637580871582,
          -2.394099473953247
         ],
         "y": [
          2.0665905475616455,
          0.028758741915225983,
          6.681410312652588
         ],
         "z": [
          -2.1916635036468506,
          4.789745330810547,
          4.786211013793945
         ]
        },
        {
         "hovertemplate": "color=Rynchops<br>TSNE1=%{x}<br>TSNE2=%{y}<br>TSNE3=%{z}<extra></extra>",
         "legendgroup": "Rynchops",
         "marker": {
          "color": "#316395",
          "symbol": "circle"
         },
         "mode": "markers",
         "name": "Rynchops",
         "scene": "scene",
         "showlegend": true,
         "type": "scatter3d",
         "x": [
          8.808600425720215,
          -1.9412670135498047,
          8.426283836364746,
          7.629954814910889
         ],
         "y": [
          4.042934894561768,
          -8.841107368469238,
          -0.06091092526912689,
          0.1657715141773224
         ],
         "z": [
          -0.9548996686935425,
          -3.54746675491333,
          -0.7014749050140381,
          -2.9625260829925537
         ]
        },
        {
         "hovertemplate": "color=Saltator<br>TSNE1=%{x}<br>TSNE2=%{y}<br>TSNE3=%{z}<extra></extra>",
         "legendgroup": "Saltator",
         "marker": {
          "color": "#3366CC",
          "symbol": "circle"
         },
         "mode": "markers",
         "name": "Saltator",
         "scene": "scene",
         "showlegend": true,
         "type": "scatter3d",
         "x": [
          -5.668076515197754,
          2.385723352432251,
          -5.470643043518066,
          -3.305036783218384,
          -2.3021788597106934,
          -1.772605538368225,
          -3.3093104362487793,
          6.225403785705566,
          1.929904580116272,
          4.225192546844482
         ],
         "y": [
          0.3403488099575043,
          -1.8642323017120361,
          0.3670634925365448,
          -1.5145448446273804,
          -1.1367671489715576,
          1.9387999773025513,
          2.280541181564331,
          1.3079335689544678,
          -0.26392292976379395,
          0.15111304819583893
         ],
         "z": [
          0.45413562655448914,
          3.8412561416625977,
          -0.2047504037618637,
          1.2477480173110962,
          1.0572781562805176,
          5.20867395401001,
          3.587726593017578,
          1.0064133405685425,
          5.449434757232666,
          0.6923786997795105
         ]
        },
        {
         "hovertemplate": "color=Sarcoramphus<br>TSNE1=%{x}<br>TSNE2=%{y}<br>TSNE3=%{z}<extra></extra>",
         "legendgroup": "Sarcoramphus",
         "marker": {
          "color": "#DC3912",
          "symbol": "circle"
         },
         "mode": "markers",
         "name": "Sarcoramphus",
         "scene": "scene",
         "showlegend": true,
         "type": "scatter3d",
         "x": [
          0.9855406880378723,
          -3.7110564708709717
         ],
         "y": [
          8.478242874145508,
          -7.113345623016357
         ],
         "z": [
          3.7035388946533203,
          -2.0883054733276367
         ]
        },
        {
         "hovertemplate": "color=Satrapa<br>TSNE1=%{x}<br>TSNE2=%{y}<br>TSNE3=%{z}<extra></extra>",
         "legendgroup": "Satrapa",
         "marker": {
          "color": "#FF9900",
          "symbol": "circle"
         },
         "mode": "markers",
         "name": "Satrapa",
         "scene": "scene",
         "showlegend": true,
         "type": "scatter3d",
         "x": [
          -7.3091936111450195
         ],
         "y": [
          -4.115967273712158
         ],
         "z": [
          1.7734366655349731
         ]
        },
        {
         "hovertemplate": "color=Sayornis<br>TSNE1=%{x}<br>TSNE2=%{y}<br>TSNE3=%{z}<extra></extra>",
         "legendgroup": "Sayornis",
         "marker": {
          "color": "#109618",
          "symbol": "circle"
         },
         "mode": "markers",
         "name": "Sayornis",
         "scene": "scene",
         "showlegend": true,
         "type": "scatter3d",
         "x": [
          1.8786498308181763,
          8.418485641479492,
          -0.41394931077957153
         ],
         "y": [
          -4.529293537139893,
          5.296568393707275,
          -7.393503189086914
         ],
         "z": [
          -1.4934067726135254,
          0.19914565980434418,
          -0.9749168157577515
         ]
        },
        {
         "hovertemplate": "color=Schiffornis<br>TSNE1=%{x}<br>TSNE2=%{y}<br>TSNE3=%{z}<extra></extra>",
         "legendgroup": "Schiffornis",
         "marker": {
          "color": "#990099",
          "symbol": "circle"
         },
         "mode": "markers",
         "name": "Schiffornis",
         "scene": "scene",
         "showlegend": true,
         "type": "scatter3d",
         "x": [
          -1.902726411819458,
          -0.7558677196502686,
          -0.8733591437339783,
          -1.8560476303100586,
          4.686159133911133,
          0.3134295344352722,
          2.5789451599121094,
          4.610034942626953,
          3.7508559226989746
         ],
         "y": [
          0.6145831346511841,
          0.8630236983299255,
          1.0444599390029907,
          -2.0341851711273193,
          1.876533031463623,
          -5.354841709136963,
          -3.975209951400757,
          4.49928092956543,
          1.3494188785552979
         ],
         "z": [
          -0.1993160843849182,
          -1.8460191488265991,
          -1.2289488315582275,
          1.9752002954483032,
          3.150848388671875,
          -3.277857542037964,
          -5.49363899230957,
          5.097290515899658,
          3.895601511001587
         ]
        },
        {
         "hovertemplate": "color=Schistes<br>TSNE1=%{x}<br>TSNE2=%{y}<br>TSNE3=%{z}<extra></extra>",
         "legendgroup": "Schistes",
         "marker": {
          "color": "#0099C6",
          "symbol": "circle"
         },
         "mode": "markers",
         "name": "Schistes",
         "scene": "scene",
         "showlegend": true,
         "type": "scatter3d",
         "x": [
          8.777763366699219,
          8.091012954711914
         ],
         "y": [
          0.3209036886692047,
          -0.21535135805606842
         ],
         "z": [
          -0.7054765820503235,
          -0.6312159895896912
         ]
        },
        {
         "hovertemplate": "color=Schistochlamys<br>TSNE1=%{x}<br>TSNE2=%{y}<br>TSNE3=%{z}<extra></extra>",
         "legendgroup": "Schistochlamys",
         "marker": {
          "color": "#DD4477",
          "symbol": "circle"
         },
         "mode": "markers",
         "name": "Schistochlamys",
         "scene": "scene",
         "showlegend": true,
         "type": "scatter3d",
         "x": [
          4.708518981933594,
          0.03430625796318054
         ],
         "y": [
          1.2444888353347778,
          -4.906793594360352
         ],
         "z": [
          4.1518235206604,
          -5.798175811767578
         ]
        },
        {
         "hovertemplate": "color=Sciaphylax<br>TSNE1=%{x}<br>TSNE2=%{y}<br>TSNE3=%{z}<extra></extra>",
         "legendgroup": "Sciaphylax",
         "marker": {
          "color": "#66AA00",
          "symbol": "circle"
         },
         "mode": "markers",
         "name": "Sciaphylax",
         "scene": "scene",
         "showlegend": true,
         "type": "scatter3d",
         "x": [
          0.20532344281673431,
          -1.708722710609436,
          -6.211937427520752
         ],
         "y": [
          4.504650115966797,
          6.249867916107178,
          -5.17264461517334
         ],
         "z": [
          4.591925621032715,
          4.819966793060303,
          -4.011358737945557
         ]
        },
        {
         "hovertemplate": "color=Sclateria<br>TSNE1=%{x}<br>TSNE2=%{y}<br>TSNE3=%{z}<extra></extra>",
         "legendgroup": "Sclateria",
         "marker": {
          "color": "#B82E2E",
          "symbol": "circle"
         },
         "mode": "markers",
         "name": "Sclateria",
         "scene": "scene",
         "showlegend": true,
         "type": "scatter3d",
         "x": [
          0.9464290738105774,
          0.25559744238853455,
          -1.9148253202438354
         ],
         "y": [
          4.076459884643555,
          3.9955601692199707,
          6.350835800170898
         ],
         "z": [
          -0.9704470634460449,
          -0.7192922830581665,
          1.5014530420303345
         ]
        },
        {
         "hovertemplate": "color=Sclerurus<br>TSNE1=%{x}<br>TSNE2=%{y}<br>TSNE3=%{z}<extra></extra>",
         "legendgroup": "Sclerurus",
         "marker": {
          "color": "#316395",
          "symbol": "circle"
         },
         "mode": "markers",
         "name": "Sclerurus",
         "scene": "scene",
         "showlegend": true,
         "type": "scatter3d",
         "x": [
          5.598642826080322,
          5.289164066314697,
          5.377235412597656,
          5.035533905029297,
          -3.1918041706085205,
          5.502229690551758,
          6.984994888305664,
          -3.6974966526031494,
          4.195566654205322
         ],
         "y": [
          2.7499516010284424,
          -2.303504228591919,
          0.6995524764060974,
          4.509998798370361,
          0.7673419117927551,
          -2.061891555786133,
          6.411723613739014,
          -8.1073637008667,
          3.9445595741271973
         ],
         "z": [
          -3.2691335678100586,
          0.8714597225189209,
          -2.878471612930298,
          -0.4927319884300232,
          -3.304593563079834,
          0.53496253490448,
          0.45264843106269836,
          -0.8314324021339417,
          4.135892391204834
         ]
        },
        {
         "hovertemplate": "color=Scytalopus<br>TSNE1=%{x}<br>TSNE2=%{y}<br>TSNE3=%{z}<extra></extra>",
         "legendgroup": "Scytalopus",
         "marker": {
          "color": "#3366CC",
          "symbol": "circle"
         },
         "mode": "markers",
         "name": "Scytalopus",
         "scene": "scene",
         "showlegend": true,
         "type": "scatter3d",
         "x": [
          3.333616256713867,
          2.302903175354004,
          2.964353084564209,
          1.5448068380355835,
          3.718892812728882,
          -5.990475654602051,
          3.745875358581543,
          -2.5923173427581787,
          6.474131107330322,
          3.226200819015503,
          -1.9259673357009888,
          -1.9965111017227173
         ],
         "y": [
          0.8141641616821289,
          -1.9729305505752563,
          1.9811358451843262,
          5.599243640899658,
          7.368626594543457,
          0.9709577560424805,
          4.940436363220215,
          7.725865840911865,
          -3.1353373527526855,
          -6.457639694213867,
          8.911661148071289,
          8.817986488342285
         ],
         "z": [
          0.651297926902771,
          -1.9615330696105957,
          -2.035198926925659,
          -2.910191774368286,
          -2.267138957977295,
          3.8726470470428467,
          0.929324746131897,
          -4.260302543640137,
          -0.00388140045106411,
          -2.0091562271118164,
          -4.10781192779541,
          -4.133299350738525
         ]
        },
        {
         "hovertemplate": "color=Selenidera<br>TSNE1=%{x}<br>TSNE2=%{y}<br>TSNE3=%{z}<extra></extra>",
         "legendgroup": "Selenidera",
         "marker": {
          "color": "#DC3912",
          "symbol": "circle"
         },
         "mode": "markers",
         "name": "Selenidera",
         "scene": "scene",
         "showlegend": true,
         "type": "scatter3d",
         "x": [
          -3.7715842723846436,
          1.8529078960418701
         ],
         "y": [
          5.4746198654174805,
          -5.442368507385254
         ],
         "z": [
          -3.5499160289764404,
          -1.8645318746566772
         ]
        },
        {
         "hovertemplate": "color=Serpophaga<br>TSNE1=%{x}<br>TSNE2=%{y}<br>TSNE3=%{z}<extra></extra>",
         "legendgroup": "Serpophaga",
         "marker": {
          "color": "#FF9900",
          "symbol": "circle"
         },
         "mode": "markers",
         "name": "Serpophaga",
         "scene": "scene",
         "showlegend": true,
         "type": "scatter3d",
         "x": [
          -2.4727237224578857,
          -2.4904050827026367,
          -4.583991527557373,
          -4.661577224731445,
          -0.07653442025184631,
          -4.4840617179870605,
          -5.558595657348633
         ],
         "y": [
          -1.7282507419586182,
          -4.859663009643555,
          2.4858815670013428,
          -2.795175790786743,
          -4.4289374351501465,
          -5.068713188171387,
          -3.953810930252075
         ],
         "z": [
          4.882974147796631,
          3.1313326358795166,
          1.532940149307251,
          3.731346368789673,
          3.3490259647369385,
          1.3564890623092651,
          -3.900881767272949
         ]
        },
        {
         "hovertemplate": "color=Setopagis<br>TSNE1=%{x}<br>TSNE2=%{y}<br>TSNE3=%{z}<extra></extra>",
         "legendgroup": "Setopagis",
         "marker": {
          "color": "#109618",
          "symbol": "circle"
         },
         "mode": "markers",
         "name": "Setopagis",
         "scene": "scene",
         "showlegend": true,
         "type": "scatter3d",
         "x": [
          -5.465986728668213,
          -4.357607364654541,
          -2.134735107421875
         ],
         "y": [
          0.4525470733642578,
          2.4858365058898926,
          -1.7353767156600952
         ],
         "z": [
          0.5045924782752991,
          4.146791458129883,
          1.4412509202957153
         ]
        },
        {
         "hovertemplate": "color=Setophaga<br>TSNE1=%{x}<br>TSNE2=%{y}<br>TSNE3=%{z}<extra></extra>",
         "legendgroup": "Setophaga",
         "marker": {
          "color": "#990099",
          "symbol": "circle"
         },
         "mode": "markers",
         "name": "Setophaga",
         "scene": "scene",
         "showlegend": true,
         "type": "scatter3d",
         "x": [
          -5.978415489196777,
          -6.052729606628418,
          4.037089824676514,
          6.5848188400268555,
          -3.3378257751464844,
          5.128096103668213,
          1.6776894330978394,
          0.8745735883712769,
          8.996614456176758,
          -1.2853916883468628,
          -4.308774948120117,
          -0.7744432091712952,
          -1.210056185722351,
          -2.14043927192688,
          -0.8762942552566528,
          1.786451816558838,
          -0.5454456210136414
         ],
         "y": [
          -2.7483115196228027,
          -2.995213508605957,
          9.522082328796387,
          -2.792816400527954,
          -3.053091526031494,
          -2.906233072280884,
          2.2266135215759277,
          -4.999426364898682,
          0.3138706088066101,
          3.114103078842163,
          1.9389121532440186,
          3.9167776107788086,
          2.966963529586792,
          4.1086039543151855,
          7.849198341369629,
          7.735628604888916,
          -4.718800067901611
         ],
         "z": [
          -4.188697338104248,
          -4.044505596160889,
          2.6453094482421875,
          0.5061755776405334,
          4.387324810028076,
          2.041940927505493,
          2.8163340091705322,
          3.0913069248199463,
          -0.8055086135864258,
          4.07124137878418,
          4.174299716949463,
          4.3806071281433105,
          4.487268924713135,
          2.395871639251709,
          4.288434982299805,
          3.4865002632141113,
          3.728229284286499
         ]
        },
        {
         "hovertemplate": "color=Sicalis<br>TSNE1=%{x}<br>TSNE2=%{y}<br>TSNE3=%{z}<extra></extra>",
         "legendgroup": "Sicalis",
         "marker": {
          "color": "#0099C6",
          "symbol": "circle"
         },
         "mode": "markers",
         "name": "Sicalis",
         "scene": "scene",
         "showlegend": true,
         "type": "scatter3d",
         "x": [
          -1.4115947484970093,
          -4.043790817260742,
          -3.0829660892486572,
          -1.8068583011627197,
          -0.7257776260375977,
          -3.0450003147125244
         ],
         "y": [
          2.3088979721069336,
          3.4882853031158447,
          0.2880152761936188,
          3.6015610694885254,
          0.5919094085693359,
          -3.6119680404663086
         ],
         "z": [
          -4.084925651550293,
          -4.329861164093018,
          -1.514308214187622,
          -0.504834771156311,
          6.09781551361084,
          -3.9525527954101562
         ]
        },
        {
         "hovertemplate": "color=Sirystes<br>TSNE1=%{x}<br>TSNE2=%{y}<br>TSNE3=%{z}<extra></extra>",
         "legendgroup": "Sirystes",
         "marker": {
          "color": "#DD4477",
          "symbol": "circle"
         },
         "mode": "markers",
         "name": "Sirystes",
         "scene": "scene",
         "showlegend": true,
         "type": "scatter3d",
         "x": [
          0.13133613765239716,
          2.552114486694336,
          -4.886613845825195,
          4.581362247467041
         ],
         "y": [
          -2.079185962677002,
          1.0389618873596191,
          2.848607301712036,
          3.7326416969299316
         ],
         "z": [
          0.28599318861961365,
          2.07310152053833,
          -2.940638303756714,
          0.7557175159454346
         ]
        },
        {
         "hovertemplate": "color=Sittasomus<br>TSNE1=%{x}<br>TSNE2=%{y}<br>TSNE3=%{z}<extra></extra>",
         "legendgroup": "Sittasomus",
         "marker": {
          "color": "#66AA00",
          "symbol": "circle"
         },
         "mode": "markers",
         "name": "Sittasomus",
         "scene": "scene",
         "showlegend": true,
         "type": "scatter3d",
         "x": [
          -3.6659438610076904,
          -4.921604633331299,
          -2.2958500385284424
         ],
         "y": [
          0.13779401779174805,
          0.6233120560646057,
          1.4182027578353882
         ],
         "z": [
          -3.204955577850342,
          -2.3336892127990723,
          -2.4954140186309814
         ]
        },
        {
         "hovertemplate": "color=Snowornis<br>TSNE1=%{x}<br>TSNE2=%{y}<br>TSNE3=%{z}<extra></extra>",
         "legendgroup": "Snowornis",
         "marker": {
          "color": "#B82E2E",
          "symbol": "circle"
         },
         "mode": "markers",
         "name": "Snowornis",
         "scene": "scene",
         "showlegend": true,
         "type": "scatter3d",
         "x": [
          -6.603262424468994,
          -6.324989318847656,
          -5.840147972106934
         ],
         "y": [
          -6.940805912017822,
          -6.436524868011475,
          0.34565436840057373
         ],
         "z": [
          -2.534860849380493,
          -3.161900043487549,
          4.574235439300537
         ]
        },
        {
         "hovertemplate": "color=Spatula<br>TSNE1=%{x}<br>TSNE2=%{y}<br>TSNE3=%{z}<extra></extra>",
         "legendgroup": "Spatula",
         "marker": {
          "color": "#316395",
          "symbol": "circle"
         },
         "mode": "markers",
         "name": "Spatula",
         "scene": "scene",
         "showlegend": true,
         "type": "scatter3d",
         "x": [
          -0.1810206174850464,
          -4.4814982414245605,
          -1.6081435680389404,
          2.607200860977173,
          -0.9727010130882263,
          3.445148468017578,
          -3.483983039855957,
          -2.9199044704437256
         ],
         "y": [
          -7.9675116539001465,
          -7.937465190887451,
          -8.01346492767334,
          6.607551574707031,
          -7.527992248535156,
          -4.525179862976074,
          -7.323629379272461,
          8.025615692138672
         ],
         "z": [
          -2.4474611282348633,
          -1.772599458694458,
          -2.6517300605773926,
          -2.611417770385742,
          -0.5885747075080872,
          -0.49595019221305847,
          -2.2083816528320312,
          4.528284072875977
         ]
        },
        {
         "hovertemplate": "color=Spinus<br>TSNE1=%{x}<br>TSNE2=%{y}<br>TSNE3=%{z}<extra></extra>",
         "legendgroup": "Spinus",
         "marker": {
          "color": "#3366CC",
          "symbol": "circle"
         },
         "mode": "markers",
         "name": "Spinus",
         "scene": "scene",
         "showlegend": true,
         "type": "scatter3d",
         "x": [
          2.7520716190338135,
          5.2626519203186035,
          2.551483392715454,
          -0.1890762448310852,
          -1.112758994102478,
          -3.9326834678649902,
          5.352965831756592
         ],
         "y": [
          6.7718505859375,
          0.2152053713798523,
          4.475631237030029,
          -3.581683397293091,
          1.8296384811401367,
          -8.243252754211426,
          0.8571286201477051
         ],
         "z": [
          -2.535578727722168,
          3.1863131523132324,
          -3.0789260864257812,
          4.962734222412109,
          -4.026537895202637,
          -1.7383860349655151,
          3.341362237930298
         ]
        },
        {
         "hovertemplate": "color=Spizaetus<br>TSNE1=%{x}<br>TSNE2=%{y}<br>TSNE3=%{z}<extra></extra>",
         "legendgroup": "Spizaetus",
         "marker": {
          "color": "#DC3912",
          "symbol": "circle"
         },
         "mode": "markers",
         "name": "Spizaetus",
         "scene": "scene",
         "showlegend": true,
         "type": "scatter3d",
         "x": [
          -4.8680243492126465,
          3.275841474533081,
          -2.347350835800171,
          4.170013904571533,
          -1.43175208568573,
          6.178194046020508,
          4.565655708312988,
          4.092404842376709,
          -2.8963236808776855,
          -1.3426110744476318,
          -0.6695653200149536
         ],
         "y": [
          2.493391752243042,
          7.287901401519775,
          1.5706865787506104,
          6.530490875244141,
          1.325537085533142,
          0.6912715435028076,
          -2.9314019680023193,
          -3.0641422271728516,
          -3.061352014541626,
          -5.227428436279297,
          -3.566133737564087
         ],
         "z": [
          -2.7132644653320312,
          0.21987910568714142,
          -3.929633617401123,
          1.6782227754592896,
          -4.042953014373779,
          0.7508948445320129,
          0.5902084112167358,
          1.8877418041229248,
          3.3102481365203857,
          -2.5693461894989014,
          -3.0123836994171143
         ]
        },
        {
         "hovertemplate": "color=Sporophila<br>TSNE1=%{x}<br>TSNE2=%{y}<br>TSNE3=%{z}<extra></extra>",
         "legendgroup": "Sporophila",
         "marker": {
          "color": "#FF9900",
          "symbol": "circle"
         },
         "mode": "markers",
         "name": "Sporophila",
         "scene": "scene",
         "showlegend": true,
         "type": "scatter3d",
         "x": [
          -5.006082057952881,
          -1.7063921689987183,
          -1.7371857166290283,
          -4.476100444793701,
          -0.2127806395292282,
          -6.012847900390625,
          -1.1742335557937622,
          -0.45367076992988586,
          -5.938714981079102,
          -0.8609941005706787,
          -0.8931502103805542,
          -1.68598473072052,
          -5.968470573425293,
          -0.308399498462677,
          7.699104309082031,
          -5.013333320617676,
          -3.5704522132873535,
          -1.4453340768814087,
          -6.052046775817871,
          -2.924661159515381,
          -2.356419086456299,
          -4.372014045715332,
          4.335879325866699,
          4.627891540527344,
          0.10571014136075974,
          -2.8474831581115723,
          -5.179440975189209,
          -5.524028301239014,
          -5.053196430206299,
          -4.3465375900268555,
          2.88004994392395,
          8.630964279174805,
          -5.518093585968018,
          -1.4767154455184937,
          2.5753610134124756,
          3.2810840606689453,
          -0.7643457055091858,
          -1.886126160621643,
          -5.4360151290893555
         ],
         "y": [
          0.6161082983016968,
          1.0580494403839111,
          3.756967306137085,
          2.3814537525177,
          1.0831416845321655,
          1.2529152631759644,
          -1.4549683332443237,
          4.227413654327393,
          -2.625143051147461,
          1.0723732709884644,
          5.98682165145874,
          1.8386930227279663,
          0.15494787693023682,
          -4.3219451904296875,
          -1.54188072681427,
          2.7264389991760254,
          -8.086628913879395,
          5.124648571014404,
          -2.5318987369537354,
          -2.426802158355713,
          -6.75735330581665,
          -6.386894702911377,
          -1.9044950008392334,
          -1.9997761249542236,
          -7.498815059661865,
          5.408888816833496,
          2.3016865253448486,
          -0.04939159005880356,
          -2.6834354400634766,
          -8.533076286315918,
          -1.824448585510254,
          4.104363918304443,
          2.5116138458251953,
          5.307495594024658,
          6.359591007232666,
          7.078981399536133,
          6.067336082458496,
          3.8361005783081055,
          -2.657086133956909
         ],
         "z": [
          0.33275145292282104,
          3.15636944770813,
          4.1426215171813965,
          4.063996315002441,
          2.538912057876587,
          3.2807772159576416,
          4.131287097930908,
          4.818387031555176,
          -1.2849481105804443,
          5.9809393882751465,
          -3.304072618484497,
          -4.039678573608398,
          4.442163467407227,
          4.2914886474609375,
          0.04064316302537918,
          -2.634627103805542,
          -2.3581669330596924,
          -3.5636465549468994,
          -4.099296569824219,
          4.692929267883301,
          0.6911991834640503,
          1.3755626678466797,
          -0.6899729371070862,
          -0.15706965327262878,
          -3.4824275970458984,
          4.275871276855469,
          -2.6340084075927734,
          -4.3005757331848145,
          3.322509288787842,
          -3.638096809387207,
          2.2698264122009277,
          -0.5674746632575989,
          1.3127341270446777,
          -3.590651035308838,
          -0.6337088346481323,
          3.7547359466552734,
          1.8074523210525513,
          -0.2813413143157959,
          -2.99796199798584
         ]
        },
        {
         "hovertemplate": "color=Steatornis<br>TSNE1=%{x}<br>TSNE2=%{y}<br>TSNE3=%{z}<extra></extra>",
         "legendgroup": "Steatornis",
         "marker": {
          "color": "#109618",
          "symbol": "circle"
         },
         "mode": "markers",
         "name": "Steatornis",
         "scene": "scene",
         "showlegend": true,
         "type": "scatter3d",
         "x": [
          1.1160403490066528,
          -0.875893771648407
         ],
         "y": [
          -1.2720874547958374,
          1.1425769329071045
         ],
         "z": [
          0.1763366460800171,
          5.968380928039551
         ]
        },
        {
         "hovertemplate": "color=Stelgidopteryx<br>TSNE1=%{x}<br>TSNE2=%{y}<br>TSNE3=%{z}<extra></extra>",
         "legendgroup": "Stelgidopteryx",
         "marker": {
          "color": "#990099",
          "symbol": "circle"
         },
         "mode": "markers",
         "name": "Stelgidopteryx",
         "scene": "scene",
         "showlegend": true,
         "type": "scatter3d",
         "x": [
          -3.9143688678741455,
          -3.729180335998535
         ],
         "y": [
          -5.290741920471191,
          -6.709340572357178
         ],
         "z": [
          -1.8473246097564697,
          -2.650660276412964
         ]
        },
        {
         "hovertemplate": "color=Sterna<br>TSNE1=%{x}<br>TSNE2=%{y}<br>TSNE3=%{z}<extra></extra>",
         "legendgroup": "Sterna",
         "marker": {
          "color": "#0099C6",
          "symbol": "circle"
         },
         "mode": "markers",
         "name": "Sterna",
         "scene": "scene",
         "showlegend": true,
         "type": "scatter3d",
         "x": [
          5.05238676071167,
          3.8385772705078125,
          -4.689026355743408
         ],
         "y": [
          5.473507404327393,
          -1.018536925315857,
          -5.713128566741943
         ],
         "z": [
          1.3119792938232422,
          0.05451779067516327,
          -4.1347479820251465
         ]
        },
        {
         "hovertemplate": "color=Sternula<br>TSNE1=%{x}<br>TSNE2=%{y}<br>TSNE3=%{z}<extra></extra>",
         "legendgroup": "Sternula",
         "marker": {
          "color": "#DD4477",
          "symbol": "circle"
         },
         "mode": "markers",
         "name": "Sternula",
         "scene": "scene",
         "showlegend": true,
         "type": "scatter3d",
         "x": [
          2.331774950027466,
          -2.128453493118286,
          1.7180418968200684,
          -4.55373477935791,
          -0.26463237404823303
         ],
         "y": [
          -4.479124069213867,
          8.63917064666748,
          0.23090389370918274,
          -3.065701723098755,
          2.8732118606567383
         ],
         "z": [
          -1.9079028367996216,
          -4.172451972961426,
          -3.1501879692077637,
          -3.992044448852539,
          -2.148435592651367
         ]
        },
        {
         "hovertemplate": "color=Streptoprocne<br>TSNE1=%{x}<br>TSNE2=%{y}<br>TSNE3=%{z}<extra></extra>",
         "legendgroup": "Streptoprocne",
         "marker": {
          "color": "#66AA00",
          "symbol": "circle"
         },
         "mode": "markers",
         "name": "Streptoprocne",
         "scene": "scene",
         "showlegend": true,
         "type": "scatter3d",
         "x": [
          -1.9269073009490967,
          -1.756800651550293,
          -3.4288523197174072,
          -0.6917210221290588,
          -4.062079429626465,
          -5.126711845397949,
          -5.146030902862549,
          -2.696810483932495,
          -3.2366693019866943
         ],
         "y": [
          1.7627863883972168,
          -5.535160541534424,
          6.529515743255615,
          6.081619739532471,
          5.393366813659668,
          2.0653276443481445,
          2.0184240341186523,
          6.337052822113037,
          6.314574718475342
         ],
         "z": [
          -3.564871072769165,
          -2.899671792984009,
          -4.346246719360352,
          -3.233156204223633,
          -4.379113674163818,
          -4.158040523529053,
          -4.48834228515625,
          -2.8839311599731445,
          -4.201444149017334
         ]
        },
        {
         "hovertemplate": "color=Sublegatus<br>TSNE1=%{x}<br>TSNE2=%{y}<br>TSNE3=%{z}<extra></extra>",
         "legendgroup": "Sublegatus",
         "marker": {
          "color": "#B82E2E",
          "symbol": "circle"
         },
         "mode": "markers",
         "name": "Sublegatus",
         "scene": "scene",
         "showlegend": true,
         "type": "scatter3d",
         "x": [
          -0.519817054271698,
          2.9255897998809814,
          -3.7271902561187744,
          -6.667939186096191,
          -2.917833089828491
         ],
         "y": [
          -2.1870603561401367,
          2.815713405609131,
          -5.9758124351501465,
          -6.628816604614258,
          1.0482643842697144
         ],
         "z": [
          -0.12276537716388702,
          2.534207344055176,
          -3.8099663257598877,
          -2.5356528759002686,
          -3.653175115585327
         ]
        },
        {
         "hovertemplate": "color=Synallaxis<br>TSNE1=%{x}<br>TSNE2=%{y}<br>TSNE3=%{z}<extra></extra>",
         "legendgroup": "Synallaxis",
         "marker": {
          "color": "#316395",
          "symbol": "circle"
         },
         "mode": "markers",
         "name": "Synallaxis",
         "scene": "scene",
         "showlegend": true,
         "type": "scatter3d",
         "x": [
          8.224815368652344,
          4.1401848793029785,
          7.449010372161865,
          5.129851341247559,
          2.287177324295044,
          6.140290260314941,
          5.141716480255127,
          -3.9883248805999756,
          -1.7689156532287598,
          6.784971714019775,
          -1.1949080228805542,
          3.5564019680023193,
          1.6775550842285156,
          1.7652571201324463,
          -2.920881986618042,
          1.418376088142395,
          5.574466705322266,
          4.814191818237305
         ],
         "y": [
          4.802592754364014,
          -1.4032474756240845,
          5.468776702880859,
          3.8193414211273193,
          0.2693350911140442,
          3.577366828918457,
          0.04846931993961334,
          -3.8089725971221924,
          -3.8535828590393066,
          3.0430784225463867,
          1.1895955801010132,
          2.6540215015411377,
          -2.491865634918213,
          4.489686012268066,
          2.0450899600982666,
          -0.22165201604366302,
          3.0642147064208984,
          0.18067523837089539
         ],
         "z": [
          -0.46443915367126465,
          -0.2483999878168106,
          -0.811280369758606,
          -1.0778735876083374,
          -2.249019145965576,
          -1.3101691007614136,
          -1.6282044649124146,
          -0.43623214960098267,
          -3.0438153743743896,
          -1.394126057624817,
          2.190109968185425,
          4.682641983032227,
          -1.75016450881958,
          -1.1437015533447266,
          3.0991628170013428,
          4.53826379776001,
          -1.1960936784744263,
          -1.8577830791473389
         ]
        },
        {
         "hovertemplate": "color=Syndactyla<br>TSNE1=%{x}<br>TSNE2=%{y}<br>TSNE3=%{z}<extra></extra>",
         "legendgroup": "Syndactyla",
         "marker": {
          "color": "#3366CC",
          "symbol": "circle"
         },
         "mode": "markers",
         "name": "Syndactyla",
         "scene": "scene",
         "showlegend": true,
         "type": "scatter3d",
         "x": [
          -1.1995328664779663,
          3.0834720134735107,
          3.3336968421936035,
          -5.259679794311523,
          1.2977186441421509,
          0.10243476182222366
         ],
         "y": [
          2.8977479934692383,
          -0.44563156366348267,
          7.475719451904297,
          -4.762717247009277,
          -1.8272889852523804,
          6.528599262237549
         ],
         "z": [
          0.3519522249698639,
          0.8615987300872803,
          1.7053855657577515,
          1.9440780878067017,
          3.8397743701934814,
          2.2553188800811768
         ]
        },
        {
         "hovertemplate": "color=Tachornis<br>TSNE1=%{x}<br>TSNE2=%{y}<br>TSNE3=%{z}<extra></extra>",
         "legendgroup": "Tachornis",
         "marker": {
          "color": "#DC3912",
          "symbol": "circle"
         },
         "mode": "markers",
         "name": "Tachornis",
         "scene": "scene",
         "showlegend": true,
         "type": "scatter3d",
         "x": [
          -6.836736679077148,
          -0.7553495764732361,
          -4.718257904052734
         ],
         "y": [
          -4.744513511657715,
          -4.983914852142334,
          3.2914512157440186
         ],
         "z": [
          0.235658198595047,
          3.217245101928711,
          4.851088523864746
         ]
        },
        {
         "hovertemplate": "color=Tachybaptus<br>TSNE1=%{x}<br>TSNE2=%{y}<br>TSNE3=%{z}<extra></extra>",
         "legendgroup": "Tachybaptus",
         "marker": {
          "color": "#FF9900",
          "symbol": "circle"
         },
         "mode": "markers",
         "name": "Tachybaptus",
         "scene": "scene",
         "showlegend": true,
         "type": "scatter3d",
         "x": [
          -2.2110989093780518,
          -6.752691745758057,
          -1.862311601638794,
          0.7499875426292419,
          5.621707439422607
         ],
         "y": [
          8.518844604492188,
          -6.474244594573975,
          1.3408277034759521,
          -0.1975048929452896,
          4.092651844024658
         ],
         "z": [
          -4.1949238777160645,
          -1.5128852128982544,
          -0.26626500487327576,
          0.9955105781555176,
          -2.0379884243011475
         ]
        },
        {
         "hovertemplate": "color=Tachycineta<br>TSNE1=%{x}<br>TSNE2=%{y}<br>TSNE3=%{z}<extra></extra>",
         "legendgroup": "Tachycineta",
         "marker": {
          "color": "#109618",
          "symbol": "circle"
         },
         "mode": "markers",
         "name": "Tachycineta",
         "scene": "scene",
         "showlegend": true,
         "type": "scatter3d",
         "x": [
          -1.1361106634140015,
          -1.2442253828048706,
          2.9473605155944824,
          -0.11258431524038315,
          1.5581474304199219
         ],
         "y": [
          -5.259572505950928,
          -5.568237781524658,
          -3.6026811599731445,
          -8.322901725769043,
          -5.921433925628662
         ],
         "z": [
          -1.0640466213226318,
          -2.979417562484741,
          0.33476293087005615,
          -3.390294313430786,
          -2.586700677871704
         ]
        },
        {
         "hovertemplate": "color=Tachyphonus<br>TSNE1=%{x}<br>TSNE2=%{y}<br>TSNE3=%{z}<extra></extra>",
         "legendgroup": "Tachyphonus",
         "marker": {
          "color": "#990099",
          "symbol": "circle"
         },
         "mode": "markers",
         "name": "Tachyphonus",
         "scene": "scene",
         "showlegend": true,
         "type": "scatter3d",
         "x": [
          7.384357452392578,
          7.5489325523376465,
          -0.5184849500656128,
          6.971120834350586,
          -1.6401187181472778
         ],
         "y": [
          5.525689601898193,
          1.8777570724487305,
          4.349285125732422,
          -0.8822786211967468,
          -8.504988670349121
         ],
         "z": [
          -0.7674874663352966,
          -4.383301734924316,
          -0.5424060225486755,
          -0.3551788628101349,
          -3.685765027999878
         ]
        },
        {
         "hovertemplate": "color=Tangara<br>TSNE1=%{x}<br>TSNE2=%{y}<br>TSNE3=%{z}<extra></extra>",
         "legendgroup": "Tangara",
         "marker": {
          "color": "#0099C6",
          "symbol": "circle"
         },
         "mode": "markers",
         "name": "Tangara",
         "scene": "scene",
         "showlegend": true,
         "type": "scatter3d",
         "x": [
          -6.806684970855713,
          1.0933889150619507,
          1.9016618728637695,
          -4.159972190856934,
          1.271068811416626,
          2.4922375679016113,
          0.44622331857681274,
          8.89368724822998,
          2.879136562347412,
          5.416933536529541,
          5.289292335510254,
          6.119639873504639,
          5.800023078918457,
          6.709612846374512,
          -5.482142925262451,
          -6.425319671630859,
          -4.061714172363281,
          2.5372064113616943,
          4.2953572273254395,
          0.8598909378051758,
          -1.5270562171936035,
          -5.456491470336914,
          -3.5206644535064697,
          2.158287763595581,
          -1.5930509567260742,
          -5.082533359527588,
          7.60188627243042,
          -1.1201001405715942,
          1.7357172966003418,
          -0.9292312264442444,
          -3.40991473197937,
          2.9037625789642334,
          2.0404937267303467,
          4.7738728523254395,
          3.670431613922119,
          1.0087642669677734
         ],
         "y": [
          -6.25039005279541,
          -5.843498706817627,
          -5.483090877532959,
          -5.474881172180176,
          -3.7049875259399414,
          0.2744891941547394,
          -8.150334358215332,
          2.0785694122314453,
          -6.327955722808838,
          -2.969592332839966,
          0.4378087818622589,
          -1.0033005475997925,
          1.1272283792495728,
          1.066938877105713,
          1.4011375904083252,
          -2.226078748703003,
          0.1319463551044464,
          -3.9791579246520996,
          7.539119243621826,
          -0.33938974142074585,
          -4.9769792556762695,
          2.4348671436309814,
          -6.1870832443237305,
          4.908273220062256,
          -3.97316837310791,
          -3.488888740539551,
          0.3360264301300049,
          -3.6506247520446777,
          1.0463860034942627,
          2.453329086303711,
          -8.860302925109863,
          6.798283576965332,
          0.4568430483341217,
          3.517550230026245,
          2.667534351348877,
          -3.550511360168457
         ],
         "z": [
          -2.2097554206848145,
          -2.4956278800964355,
          -2.027247667312622,
          -3.054701566696167,
          -0.17684923112392426,
          -1.8617485761642456,
          -3.174421548843384,
          -6.339599609375,
          -2.274372100830078,
          -1.385715126991272,
          -1.499951720237732,
          -0.7249523401260376,
          0.826084554195404,
          -1.1775999069213867,
          -2.8802592754364014,
          -1.5120469331741333,
          5.245613098144531,
          2.5204384326934814,
          2.560396194458008,
          -3.6910572052001953,
          -3.9243695735931396,
          -4.345294952392578,
          -2.633146047592163,
          -3.122858762741089,
          -3.0202715396881104,
          2.295347213745117,
          -0.6482569575309753,
          -3.38739013671875,
          -2.8766794204711914,
          -3.946147918701172,
          -3.820420742034912,
          -2.5717716217041016,
          -2.2141079902648926,
          -1.1939997673034668,
          2.339104413986206,
          -0.19595962762832642
         ]
        },
        {
         "hovertemplate": "color=Tapera<br>TSNE1=%{x}<br>TSNE2=%{y}<br>TSNE3=%{z}<extra></extra>",
         "legendgroup": "Tapera",
         "marker": {
          "color": "#DD4477",
          "symbol": "circle"
         },
         "mode": "markers",
         "name": "Tapera",
         "scene": "scene",
         "showlegend": true,
         "type": "scatter3d",
         "x": [
          3.2360825538635254,
          2.3883862495422363
         ],
         "y": [
          5.835667610168457,
          2.0446696281433105
         ],
         "z": [
          0.20802640914916992,
          -1.9196480512619019
         ]
        },
        {
         "hovertemplate": "color=Taphrospilus<br>TSNE1=%{x}<br>TSNE2=%{y}<br>TSNE3=%{z}<extra></extra>",
         "legendgroup": "Taphrospilus",
         "marker": {
          "color": "#66AA00",
          "symbol": "circle"
         },
         "mode": "markers",
         "name": "Taphrospilus",
         "scene": "scene",
         "showlegend": true,
         "type": "scatter3d",
         "x": [
          -3.272444009780884,
          -1.7792772054672241,
          -3.068201780319214
         ],
         "y": [
          3.708425283432007,
          -3.224228858947754,
          -5.772855758666992
         ],
         "z": [
          -4.295932769775391,
          -3.3752732276916504,
          0.4805249869823456
         ]
        },
        {
         "hovertemplate": "color=Taraba<br>TSNE1=%{x}<br>TSNE2=%{y}<br>TSNE3=%{z}<extra></extra>",
         "legendgroup": "Taraba",
         "marker": {
          "color": "#B82E2E",
          "symbol": "circle"
         },
         "mode": "markers",
         "name": "Taraba",
         "scene": "scene",
         "showlegend": true,
         "type": "scatter3d",
         "x": [
          -3.6177687644958496,
          -0.5497416853904724,
          -3.688905954360962
         ],
         "y": [
          6.218277454376221,
          6.281701564788818,
          6.055601596832275
         ],
         "z": [
          -4.032008171081543,
          -2.9757912158966064,
          -4.1917219161987305
         ]
        },
        {
         "hovertemplate": "color=Terenotriccus<br>TSNE1=%{x}<br>TSNE2=%{y}<br>TSNE3=%{z}<extra></extra>",
         "legendgroup": "Terenotriccus",
         "marker": {
          "color": "#316395",
          "symbol": "circle"
         },
         "mode": "markers",
         "name": "Terenotriccus",
         "scene": "scene",
         "showlegend": true,
         "type": "scatter3d",
         "x": [
          4.060556411743164,
          1.7152345180511475,
          -6.510916709899902,
          -0.8128424286842346
         ],
         "y": [
          3.954085111618042,
          3.437025308609009,
          -1.2649866342544556,
          1.7683430910110474
         ],
         "z": [
          3.777521848678589,
          2.6461644172668457,
          -0.7805524468421936,
          4.551277160644531
         ]
        },
        {
         "hovertemplate": "color=Tersina<br>TSNE1=%{x}<br>TSNE2=%{y}<br>TSNE3=%{z}<extra></extra>",
         "legendgroup": "Tersina",
         "marker": {
          "color": "#3366CC",
          "symbol": "circle"
         },
         "mode": "markers",
         "name": "Tersina",
         "scene": "scene",
         "showlegend": true,
         "type": "scatter3d",
         "x": [
          -4.2903337478637695,
          -3.090081214904785,
          5.246363162994385,
          -1.9018930196762085
         ],
         "y": [
          3.234973430633545,
          -2.289320468902588,
          2.421774387359619,
          -3.2496914863586426
         ],
         "z": [
          1.8673419952392578,
          1.9873645305633545,
          1.455238699913025,
          -1.0391130447387695
         ]
        },
        {
         "hovertemplate": "color=Thalurania<br>TSNE1=%{x}<br>TSNE2=%{y}<br>TSNE3=%{z}<extra></extra>",
         "legendgroup": "Thalurania",
         "marker": {
          "color": "#DC3912",
          "symbol": "circle"
         },
         "mode": "markers",
         "name": "Thalurania",
         "scene": "scene",
         "showlegend": true,
         "type": "scatter3d",
         "x": [
          8.755594253540039,
          2.159943103790283,
          6.597545146942139
         ],
         "y": [
          0.7249355316162109,
          -5.098847389221191,
          1.4976180791854858
         ],
         "z": [
          -0.7700591087341309,
          -5.586389541625977,
          -1.0765975713729858
         ]
        },
        {
         "hovertemplate": "color=Thamnistes<br>TSNE1=%{x}<br>TSNE2=%{y}<br>TSNE3=%{z}<extra></extra>",
         "legendgroup": "Thamnistes",
         "marker": {
          "color": "#FF9900",
          "symbol": "circle"
         },
         "mode": "markers",
         "name": "Thamnistes",
         "scene": "scene",
         "showlegend": true,
         "type": "scatter3d",
         "x": [
          -3.1043143272399902,
          -3.858024835586548,
          -5.434484481811523
         ],
         "y": [
          -2.4008350372314453,
          3.171419858932495,
          1.7377885580062866
         ],
         "z": [
          1.1222981214523315,
          -4.0178351402282715,
          -2.5765469074249268
         ]
        },
        {
         "hovertemplate": "color=Thamnomanes<br>TSNE1=%{x}<br>TSNE2=%{y}<br>TSNE3=%{z}<extra></extra>",
         "legendgroup": "Thamnomanes",
         "marker": {
          "color": "#109618",
          "symbol": "circle"
         },
         "mode": "markers",
         "name": "Thamnomanes",
         "scene": "scene",
         "showlegend": true,
         "type": "scatter3d",
         "x": [
          -2.0169601440429688,
          1.0762745141983032,
          -1.0104334354400635
         ],
         "y": [
          -7.308745861053467,
          -2.9217326641082764,
          3.2942042350769043
         ],
         "z": [
          -2.1809935569763184,
          -3.3610267639160156,
          3.961927652359009
         ]
        },
        {
         "hovertemplate": "color=Thamnophilus<br>TSNE1=%{x}<br>TSNE2=%{y}<br>TSNE3=%{z}<extra></extra>",
         "legendgroup": "Thamnophilus",
         "marker": {
          "color": "#990099",
          "symbol": "circle"
         },
         "mode": "markers",
         "name": "Thamnophilus",
         "scene": "scene",
         "showlegend": true,
         "type": "scatter3d",
         "x": [
          -4.974411487579346,
          -2.6972436904907227,
          -3.484372854232788,
          -0.9420886635780334,
          7.07519006729126,
          -5.33184289932251,
          -4.974849700927734,
          4.265247821807861,
          2.401916265487671,
          -1.3417975902557373,
          -3.25455641746521,
          0.03573394939303398,
          4.858878135681152,
          3.0369386672973633,
          -2.4890623092651367,
          -0.9856287240982056,
          -3.764176368713379,
          -4.5288987159729,
          -2.5683913230895996,
          -3.0168488025665283,
          2.300800085067749,
          -3.8034276962280273,
          -3.091325283050537,
          -2.531071424484253,
          -0.28930017352104187,
          -0.8184332251548767,
          -3.5926315784454346
         ],
         "y": [
          3.8025529384613037,
          4.1961669921875,
          0.7032276391983032,
          3.9584500789642334,
          0.3114511966705322,
          -5.308835029602051,
          3.7850215435028076,
          -1.8462101221084595,
          1.6789871454238892,
          -3.2060000896453857,
          2.448030948638916,
          2.8675262928009033,
          0.7045425772666931,
          0.8845581412315369,
          -8.627665519714355,
          6.791389465332031,
          -2.901038408279419,
          2.270716667175293,
          5.687939167022705,
          -0.1026022806763649,
          6.063055992126465,
          0.1793030947446823,
          3.4225962162017822,
          6.1984381675720215,
          6.924280166625977,
          3.333733081817627,
          6.179323673248291
         ],
         "z": [
          1.6890170574188232,
          -0.30131515860557556,
          -3.8507680892944336,
          0.04783429205417633,
          -5.04271125793457,
          0.8757911920547485,
          1.6831363439559937,
          -0.7905319333076477,
          4.208174705505371,
          -0.167130708694458,
          -2.306241035461426,
          -2.24501633644104,
          4.000266075134277,
          0.21580791473388672,
          -3.665536642074585,
          4.16541862487793,
          0.7817042469978333,
          1.5926659107208252,
          4.280834674835205,
          -3.416696786880493,
          1.1449991464614868,
          -3.723686456680298,
          -4.142454624176025,
          1.0715101957321167,
          1.543312907218933,
          0.2138001024723053,
          4.212559223175049
         ]
        },
        {
         "hovertemplate": "color=Theristicus<br>TSNE1=%{x}<br>TSNE2=%{y}<br>TSNE3=%{z}<extra></extra>",
         "legendgroup": "Theristicus",
         "marker": {
          "color": "#0099C6",
          "symbol": "circle"
         },
         "mode": "markers",
         "name": "Theristicus",
         "scene": "scene",
         "showlegend": true,
         "type": "scatter3d",
         "x": [
          2.90108323097229,
          4.260954856872559,
          1.0613181591033936,
          -3.7443113327026367,
          -1.7186402082443237,
          -3.9676167964935303
         ],
         "y": [
          -4.534663677215576,
          -6.211644172668457,
          -8.068479537963867,
          3.174140691757202,
          -3.044377565383911,
          -5.565615653991699
         ],
         "z": [
          0.6418277621269226,
          -1.2023987770080566,
          -1.9311699867248535,
          -4.211780548095703,
          0.1938178837299347,
          -3.924315929412842
         ]
        },
        {
         "hovertemplate": "color=Thlypopsis<br>TSNE1=%{x}<br>TSNE2=%{y}<br>TSNE3=%{z}<extra></extra>",
         "legendgroup": "Thlypopsis",
         "marker": {
          "color": "#DD4477",
          "symbol": "circle"
         },
         "mode": "markers",
         "name": "Thlypopsis",
         "scene": "scene",
         "showlegend": true,
         "type": "scatter3d",
         "x": [
          -0.048219211399555206,
          -5.409676551818848,
          -2.8021504878997803,
          -5.342048645019531,
          0.8112979531288147
         ],
         "y": [
          3.328613042831421,
          1.7801083326339722,
          3.5426621437072754,
          0.4649500846862793,
          3.1022958755493164
         ],
         "z": [
          -3.8945131301879883,
          -3.390197992324829,
          -1.1233471632003784,
          -4.459920883178711,
          -4.19874382019043
         ]
        },
        {
         "hovertemplate": "color=Thraupis<br>TSNE1=%{x}<br>TSNE2=%{y}<br>TSNE3=%{z}<extra></extra>",
         "legendgroup": "Thraupis",
         "marker": {
          "color": "#66AA00",
          "symbol": "circle"
         },
         "mode": "markers",
         "name": "Thraupis",
         "scene": "scene",
         "showlegend": true,
         "type": "scatter3d",
         "x": [
          5.569815158843994,
          -5.019800662994385,
          0.9669108390808105,
          -4.0101318359375,
          0.8490714430809021,
          -4.586551189422607,
          -5.326294422149658
         ],
         "y": [
          1.5272690057754517,
          2.7475509643554688,
          3.997340679168701,
          5.48859167098999,
          4.319559097290039,
          4.406389236450195,
          2.7169666290283203
         ],
         "z": [
          -4.486202716827393,
          -2.6604087352752686,
          -3.724196434020996,
          -4.295026779174805,
          -3.8177554607391357,
          -4.56702995300293,
          -4.431528568267822
         ]
        },
        {
         "hovertemplate": "color=Threnetes<br>TSNE1=%{x}<br>TSNE2=%{y}<br>TSNE3=%{z}<extra></extra>",
         "legendgroup": "Threnetes",
         "marker": {
          "color": "#B82E2E",
          "symbol": "circle"
         },
         "mode": "markers",
         "name": "Threnetes",
         "scene": "scene",
         "showlegend": true,
         "type": "scatter3d",
         "x": [
          7.917677879333496,
          3.0233325958251953,
          4.165814399719238,
          2.3056747913360596
         ],
         "y": [
          2.31174898147583,
          4.028357028961182,
          4.040256500244141,
          2.2660367488861084
         ],
         "z": [
          -5.236044406890869,
          0.6947440505027771,
          -1.3352344036102295,
          -0.941189706325531
         ]
        },
        {
         "hovertemplate": "color=Thripadectes<br>TSNE1=%{x}<br>TSNE2=%{y}<br>TSNE3=%{z}<extra></extra>",
         "legendgroup": "Thripadectes",
         "marker": {
          "color": "#316395",
          "symbol": "circle"
         },
         "mode": "markers",
         "name": "Thripadectes",
         "scene": "scene",
         "showlegend": true,
         "type": "scatter3d",
         "x": [
          -6.276900291442871,
          7.056079864501953,
          7.365698337554932,
          -1.4075024127960205,
          -4.198696613311768,
          2.5641071796417236,
          0.23411034047603607,
          -1.947803020477295
         ],
         "y": [
          -0.4898262321949005,
          1.4959068298339844,
          0.6393770575523376,
          0.48034775257110596,
          -0.12864148616790771,
          -1.0885266065597534,
          2.7157464027404785,
          4.267289161682129
         ],
         "z": [
          1.332946538925171,
          -4.672450542449951,
          -5.1796345710754395,
          0.4729865491390228,
          5.127379417419434,
          1.8740724325180054,
          -3.3733975887298584,
          2.408416509628296
         ]
        },
        {
         "hovertemplate": "color=Thripophaga<br>TSNE1=%{x}<br>TSNE2=%{y}<br>TSNE3=%{z}<extra></extra>",
         "legendgroup": "Thripophaga",
         "marker": {
          "color": "#3366CC",
          "symbol": "circle"
         },
         "mode": "markers",
         "name": "Thripophaga",
         "scene": "scene",
         "showlegend": true,
         "type": "scatter3d",
         "x": [
          -2.6523754596710205,
          -1.2718452215194702
         ],
         "y": [
          7.5478668212890625,
          4.737730979919434
         ],
         "z": [
          -4.25230598449707,
          -3.6821529865264893
         ]
        },
        {
         "hovertemplate": "color=Tigrisoma<br>TSNE1=%{x}<br>TSNE2=%{y}<br>TSNE3=%{z}<extra></extra>",
         "legendgroup": "Tigrisoma",
         "marker": {
          "color": "#DC3912",
          "symbol": "circle"
         },
         "mode": "markers",
         "name": "Tigrisoma",
         "scene": "scene",
         "showlegend": true,
         "type": "scatter3d",
         "x": [
          -6.43196439743042,
          5.623067378997803,
          -3.4128193855285645,
          -6.075482368469238
         ],
         "y": [
          -6.991085052490234,
          2.7231521606445312,
          6.529175281524658,
          1.5104870796203613
         ],
         "z": [
          -2.9039032459259033,
          -3.327415704727173,
          -4.365915298461914,
          -1.2614479064941406
         ]
        },
        {
         "hovertemplate": "color=Tinamus<br>TSNE1=%{x}<br>TSNE2=%{y}<br>TSNE3=%{z}<extra></extra>",
         "legendgroup": "Tinamus",
         "marker": {
          "color": "#FF9900",
          "symbol": "circle"
         },
         "mode": "markers",
         "name": "Tinamus",
         "scene": "scene",
         "showlegend": true,
         "type": "scatter3d",
         "x": [
          0.79746413230896,
          0.4665759205818176,
          -3.3876113891601562,
          0.31772929430007935,
          -3.439530849456787,
          3.774491786956787,
          -2.4264543056488037,
          2.809145450592041,
          -2.0433404445648193,
          -4.074948310852051,
          4.865966320037842,
          -2.642375946044922,
          -0.7699230313301086
         ],
         "y": [
          -2.7857348918914795,
          -7.29189395904541,
          0.47722485661506653,
          6.857302665710449,
          5.823915958404541,
          7.69194221496582,
          3.0791447162628174,
          5.92282247543335,
          3.989784002304077,
          3.485039234161377,
          8.524003982543945,
          -8.923141479492188,
          8.723332405090332
         ],
         "z": [
          -3.4072072505950928,
          -3.305298328399658,
          -3.890110731124878,
          0.8152447938919067,
          -3.677807331085205,
          2.3363595008850098,
          -0.8301374912261963,
          4.372440814971924,
          3.4373157024383545,
          2.3389997482299805,
          1.120679259300232,
          -3.8316831588745117,
          3.743622064590454
         ]
        },
        {
         "hovertemplate": "color=Tityra<br>TSNE1=%{x}<br>TSNE2=%{y}<br>TSNE3=%{z}<extra></extra>",
         "legendgroup": "Tityra",
         "marker": {
          "color": "#109618",
          "symbol": "circle"
         },
         "mode": "markers",
         "name": "Tityra",
         "scene": "scene",
         "showlegend": true,
         "type": "scatter3d",
         "x": [
          -4.009329795837402,
          -4.194072723388672,
          -7.1786322593688965,
          -0.2572290003299713,
          -2.376617193222046,
          1.7707316875457764,
          1.1873903274536133,
          -3.258702039718628,
          -3.9376964569091797,
          -0.8255131244659424,
          -4.175775051116943
         ],
         "y": [
          0.14601999521255493,
          -5.814742565155029,
          -5.444230079650879,
          1.9443978071212769,
          -6.689314365386963,
          5.241631031036377,
          -7.977762222290039,
          -8.715027809143066,
          -0.3137463629245758,
          4.031908988952637,
          2.776153802871704
         ],
         "z": [
          5.075015068054199,
          0.513949990272522,
          0.4791429042816162,
          4.315049171447754,
          0.6420320868492126,
          -1.905189871788025,
          -2.8625247478485107,
          -3.859734058380127,
          -3.285515546798706,
          -3.035567283630371,
          -2.69075083732605
         ]
        },
        {
         "hovertemplate": "color=Todirostrum<br>TSNE1=%{x}<br>TSNE2=%{y}<br>TSNE3=%{z}<extra></extra>",
         "legendgroup": "Todirostrum",
         "marker": {
          "color": "#990099",
          "symbol": "circle"
         },
         "mode": "markers",
         "name": "Todirostrum",
         "scene": "scene",
         "showlegend": true,
         "type": "scatter3d",
         "x": [
          -1.7615457773208618,
          2.811183452606201,
          0.12777866423130035,
          -1.9755958318710327,
          7.802611351013184,
          8.319721221923828,
          -2.548089027404785,
          -0.08376292139291763,
          -3.742053270339966,
          -2.914801836013794,
          6.388852119445801,
          -0.17373478412628174
         ],
         "y": [
          1.2469704151153564,
          6.784079074859619,
          -0.7571471929550171,
          -4.574909210205078,
          2.4508657455444336,
          1.6793546676635742,
          -1.3771578073501587,
          0.7534206509590149,
          -7.3756561279296875,
          -5.255277156829834,
          1.615057349205017,
          -7.887096405029297
         ],
         "z": [
          -4.22991418838501,
          -2.6077401638031006,
          -3.965233087539673,
          2.9001576900482178,
          -0.3939811885356903,
          -5.918511390686035,
          4.565221309661865,
          -3.781353235244751,
          -3.01155161857605,
          -0.32680442929267883,
          0.9312864542007446,
          -2.8389737606048584
         ]
        },
        {
         "hovertemplate": "color=Tolmomyias<br>TSNE1=%{x}<br>TSNE2=%{y}<br>TSNE3=%{z}<extra></extra>",
         "legendgroup": "Tolmomyias",
         "marker": {
          "color": "#0099C6",
          "symbol": "circle"
         },
         "mode": "markers",
         "name": "Tolmomyias",
         "scene": "scene",
         "showlegend": true,
         "type": "scatter3d",
         "x": [
          3.3455119132995605,
          0.40686485171318054,
          4.340606212615967,
          -6.661627769470215,
          4.222595691680908,
          -6.936152935028076,
          2.4387733936309814,
          2.6316590309143066,
          0.6953467130661011,
          -5.492622375488281,
          4.954132556915283,
          -1.6925216913223267,
          4.06837797164917,
          1.7071772813796997
         ],
         "y": [
          4.215653419494629,
          -2.545987844467163,
          5.207108497619629,
          -5.24904727935791,
          3.167070150375366,
          -4.399299621582031,
          0.1956108957529068,
          -4.157105445861816,
          -4.092545509338379,
          -4.221783638000488,
          4.269832611083984,
          -8.433097839355469,
          7.997690200805664,
          -0.030153056606650352
         ],
         "z": [
          4.1372971534729,
          3.1251437664031982,
          4.656239986419678,
          0.30942302942276,
          -0.31740447878837585,
          0.7056756019592285,
          5.304838180541992,
          -5.772273540496826,
          0.0657978504896164,
          2.0978565216064453,
          -0.7155284285545349,
          -3.570466995239258,
          2.516709804534912,
          4.694813251495361
         ]
        },
        {
         "hovertemplate": "color=Touit<br>TSNE1=%{x}<br>TSNE2=%{y}<br>TSNE3=%{z}<extra></extra>",
         "legendgroup": "Touit",
         "marker": {
          "color": "#DD4477",
          "symbol": "circle"
         },
         "mode": "markers",
         "name": "Touit",
         "scene": "scene",
         "showlegend": true,
         "type": "scatter3d",
         "x": [
          4.511746406555176,
          -3.819861650466919,
          0.8395391702651978
         ],
         "y": [
          -1.819610834121704,
          -1.7109097242355347,
          4.614135265350342
         ],
         "z": [
          -0.9119783043861389,
          -3.612321138381958,
          -3.6574225425720215
         ]
        },
        {
         "hovertemplate": "color=Trichothraupis<br>TSNE1=%{x}<br>TSNE2=%{y}<br>TSNE3=%{z}<extra></extra>",
         "legendgroup": "Trichothraupis",
         "marker": {
          "color": "#66AA00",
          "symbol": "circle"
         },
         "mode": "markers",
         "name": "Trichothraupis",
         "scene": "scene",
         "showlegend": true,
         "type": "scatter3d",
         "x": [
          3.626826763153076,
          2.9361307621002197,
          4.591258525848389
         ],
         "y": [
          8.643067359924316,
          -2.174755573272705,
          -3.394771099090576
         ],
         "z": [
          3.268681526184082,
          3.2940890789031982,
          1.1284496784210205
         ]
        },
        {
         "hovertemplate": "color=Tringa<br>TSNE1=%{x}<br>TSNE2=%{y}<br>TSNE3=%{z}<extra></extra>",
         "legendgroup": "Tringa",
         "marker": {
          "color": "#B82E2E",
          "symbol": "circle"
         },
         "mode": "markers",
         "name": "Tringa",
         "scene": "scene",
         "showlegend": true,
         "type": "scatter3d",
         "x": [
          6.46598482131958,
          -4.441058158874512,
          1.8380552530288696,
          -0.10947004705667496,
          4.131382465362549,
          1.6917322874069214,
          -3.525049924850464,
          -6.626153945922852,
          -2.3062238693237305,
          -3.954023838043213,
          -5.572551727294922,
          -1.8038021326065063,
          4.1040191650390625
         ],
         "y": [
          -4.101627826690674,
          -7.876993179321289,
          -4.570420742034912,
          -1.277482509613037,
          -4.519828796386719,
          -0.43863001465797424,
          -6.151857852935791,
          -6.221192836761475,
          -3.681838274002075,
          -0.15404614806175232,
          -7.443418025970459,
          -2.4361798763275146,
          3.5264344215393066
         ],
         "z": [
          -0.4765539765357971,
          -0.38154974579811096,
          -5.699342727661133,
          -4.003678321838379,
          -1.6760666370391846,
          5.212000846862793,
          1.0415892601013184,
          -0.6344040036201477,
          -3.6570146083831787,
          4.979217052459717,
          -1.782062292098999,
          -3.6463706493377686,
          3.866657257080078
         ]
        },
        {
         "hovertemplate": "color=Troglodytes<br>TSNE1=%{x}<br>TSNE2=%{y}<br>TSNE3=%{z}<extra></extra>",
         "legendgroup": "Troglodytes",
         "marker": {
          "color": "#316395",
          "symbol": "circle"
         },
         "mode": "markers",
         "name": "Troglodytes",
         "scene": "scene",
         "showlegend": true,
         "type": "scatter3d",
         "x": [
          -1.3364652395248413,
          -1.8778291940689087,
          6.29503870010376,
          8.85891056060791
         ],
         "y": [
          1.8924782276153564,
          1.4179500341415405,
          -0.4399159848690033,
          2.047621250152588
         ],
         "z": [
          2.0458171367645264,
          0.2132255584001541,
          -0.49409472942352295,
          -6.33374547958374
         ]
        },
        {
         "hovertemplate": "color=Trogon<br>TSNE1=%{x}<br>TSNE2=%{y}<br>TSNE3=%{z}<extra></extra>",
         "legendgroup": "Trogon",
         "marker": {
          "color": "#3366CC",
          "symbol": "circle"
         },
         "mode": "markers",
         "name": "Trogon",
         "scene": "scene",
         "showlegend": true,
         "type": "scatter3d",
         "x": [
          -6.647302150726318,
          -2.3985042572021484,
          2.241713523864746,
          -4.1826171875,
          -1.201339840888977,
          -2.2132787704467773,
          -1.520587682723999,
          -2.3959908485412598,
          -1.5659157037734985,
          2.6889989376068115,
          8.198841094970703,
          -3.2092854976654053,
          8.394947052001953,
          -1.422876000404358,
          -1.0046155452728271,
          -1.7971056699752808,
          -0.8820542693138123,
          6.921485900878906,
          -3.1285414695739746
         ],
         "y": [
          -1.1500351428985596,
          3.63718581199646,
          7.634187698364258,
          -2.433424472808838,
          5.765790939331055,
          6.01135778427124,
          6.102802753448486,
          -2.40214467048645,
          7.377926826477051,
          -1.6107877492904663,
          1.7464724779129028,
          6.100913047790527,
          5.176853179931641,
          6.6149444580078125,
          4.59640645980835,
          6.330989360809326,
          4.092464923858643,
          -1.1759006977081299,
          6.853700637817383
         ],
         "z": [
          1.5662418603897095,
          3.8524820804595947,
          3.4082319736480713,
          2.7444112300872803,
          -3.4558236598968506,
          0.8863692283630371,
          1.5854809284210205,
          2.3105175495147705,
          1.7533010244369507,
          4.141294002532959,
          -5.67275333404541,
          -3.4341514110565186,
          0.06602760404348373,
          1.415918231010437,
          4.286438465118408,
          1.3159387111663818,
          -3.289771556854248,
          -4.169271945953369,
          2.765967845916748
         ]
        },
        {
         "hovertemplate": "color=Turdus<br>TSNE1=%{x}<br>TSNE2=%{y}<br>TSNE3=%{z}<extra></extra>",
         "legendgroup": "Turdus",
         "marker": {
          "color": "#DC3912",
          "symbol": "circle"
         },
         "mode": "markers",
         "name": "Turdus",
         "scene": "scene",
         "showlegend": true,
         "type": "scatter3d",
         "x": [
          1.4175623655319214,
          7.313178062438965,
          -2.4748523235321045,
          -1.0760868787765503,
          5.129816055297852,
          -7.351734638214111,
          -5.386324882507324,
          -3.146075963973999,
          4.013635158538818,
          5.5555644035339355,
          4.878647327423096,
          -6.308760166168213,
          4.449106693267822,
          3.905738353729248,
          2.1765365600585938,
          4.526435375213623,
          -2.4559848308563232,
          -5.0274810791015625,
          3.803722858428955,
          3.3854281902313232,
          -4.294747352600098,
          -0.873894214630127,
          0.5698626637458801,
          -2.738983154296875,
          1.3774163722991943
         ],
         "y": [
          5.279575347900391,
          2.8959338665008545,
          8.508002281188965,
          9.417236328125,
          5.093815803527832,
          -1.6324121952056885,
          3.968337297439575,
          6.808447360992432,
          9.32827091217041,
          6.3537468910217285,
          8.5667085647583,
          -2.0573017597198486,
          8.484177589416504,
          6.100421905517578,
          3.6781184673309326,
          5.540066719055176,
          0.16809962689876556,
          -2.76723051071167,
          2.4648163318634033,
          -5.299983978271484,
          -5.961134433746338,
          3.258984327316284,
          -3.6052041053771973,
          -2.1440281867980957,
          -8.272671699523926
         ],
         "z": [
          -0.7419092655181885,
          -0.8359187841415405,
          4.298542022705078,
          3.8308281898498535,
          0.057699233293533325,
          2.2109768390655518,
          2.8659493923187256,
          2.3121414184570312,
          2.7403464317321777,
          1.9656057357788086,
          1.1804051399230957,
          -2.066209316253662,
          1.8559800386428833,
          1.4594388008117676,
          4.748866558074951,
          0.8865786194801331,
          1.9743684530258179,
          3.6343557834625244,
          2.92387318611145,
          0.6989206671714783,
          -0.48390036821365356,
          -3.831965684890747,
          2.6134748458862305,
          4.917875289916992,
          -2.594379186630249
         ]
        },
        {
         "hovertemplate": "color=Tyranneutes<br>TSNE1=%{x}<br>TSNE2=%{y}<br>TSNE3=%{z}<extra></extra>",
         "legendgroup": "Tyranneutes",
         "marker": {
          "color": "#FF9900",
          "symbol": "circle"
         },
         "mode": "markers",
         "name": "Tyranneutes",
         "scene": "scene",
         "showlegend": true,
         "type": "scatter3d",
         "x": [
          0.3848578631877899,
          -4.3832526206970215
         ],
         "y": [
          -4.3923444747924805,
          3.6276214122772217
         ],
         "z": [
          3.548151731491089,
          5.328120708465576
         ]
        },
        {
         "hovertemplate": "color=Tyrannopsis<br>TSNE1=%{x}<br>TSNE2=%{y}<br>TSNE3=%{z}<extra></extra>",
         "legendgroup": "Tyrannopsis",
         "marker": {
          "color": "#109618",
          "symbol": "circle"
         },
         "mode": "markers",
         "name": "Tyrannopsis",
         "scene": "scene",
         "showlegend": true,
         "type": "scatter3d",
         "x": [
          6.2751946449279785,
          1.1043102741241455
         ],
         "y": [
          5.18960428237915,
          5.9497199058532715
         ],
         "z": [
          2.1605606079101562,
          4.777998447418213
         ]
        },
        {
         "hovertemplate": "color=Tyrannulus<br>TSNE1=%{x}<br>TSNE2=%{y}<br>TSNE3=%{z}<extra></extra>",
         "legendgroup": "Tyrannulus",
         "marker": {
          "color": "#990099",
          "symbol": "circle"
         },
         "mode": "markers",
         "name": "Tyrannulus",
         "scene": "scene",
         "showlegend": true,
         "type": "scatter3d",
         "x": [
          1.3598321676254272,
          -6.744498252868652,
          -5.0658278465271,
          -5.13590145111084
         ],
         "y": [
          -6.278221607208252,
          -5.7125091552734375,
          -8.495141983032227,
          4.0635504722595215
         ],
         "z": [
          -1.624477505683899,
          0.20856814086437225,
          -3.6883504390716553,
          4.971651077270508
         ]
        },
        {
         "hovertemplate": "color=Tyrannus<br>TSNE1=%{x}<br>TSNE2=%{y}<br>TSNE3=%{z}<extra></extra>",
         "legendgroup": "Tyrannus",
         "marker": {
          "color": "#0099C6",
          "symbol": "circle"
         },
         "mode": "markers",
         "name": "Tyrannus",
         "scene": "scene",
         "showlegend": true,
         "type": "scatter3d",
         "x": [
          -6.087107181549072,
          5.069247722625732,
          -2.5864157676696777,
          2.5233986377716064,
          0.8793065547943115,
          4.179412364959717,
          -1.511227011680603,
          4.752541542053223,
          0.13494740426540375
         ],
         "y": [
          -2.847052574157715,
          -2.930236339569092,
          -7.931166172027588,
          0.5003552436828613,
          -8.7618408203125,
          -5.042344093322754,
          3.8250839710235596,
          7.76542329788208,
          0.1576475352048874
         ],
         "z": [
          3.104116678237915,
          1.952446699142456,
          -2.738920211791992,
          0.8450061678886414,
          -3.139857530593872,
          -0.3900805413722992,
          -3.8854334354400635,
          -2.0602312088012695,
          5.9272332191467285
         ]
        },
        {
         "hovertemplate": "color=Tyto<br>TSNE1=%{x}<br>TSNE2=%{y}<br>TSNE3=%{z}<extra></extra>",
         "legendgroup": "Tyto",
         "marker": {
          "color": "#DD4477",
          "symbol": "circle"
         },
         "mode": "markers",
         "name": "Tyto",
         "scene": "scene",
         "showlegend": true,
         "type": "scatter3d",
         "x": [
          -6.224153995513916,
          1.3960968255996704,
          -6.007321834564209
         ],
         "y": [
          -4.247927188873291,
          0.12050023674964905,
          -3.68337082862854
         ],
         "z": [
          -3.8453855514526367,
          1.5551468133926392,
          -4.190041542053223
         ]
        },
        {
         "hovertemplate": "color=Uropsalis<br>TSNE1=%{x}<br>TSNE2=%{y}<br>TSNE3=%{z}<extra></extra>",
         "legendgroup": "Uropsalis",
         "marker": {
          "color": "#66AA00",
          "symbol": "circle"
         },
         "mode": "markers",
         "name": "Uropsalis",
         "scene": "scene",
         "showlegend": true,
         "type": "scatter3d",
         "x": [
          -1.0849355459213257,
          2.2664670944213867,
          -3.5090832710266113,
          4.372759819030762
         ],
         "y": [
          7.799980640411377,
          2.143606662750244,
          5.126521587371826,
          6.634852409362793
         ],
         "z": [
          2.1374828815460205,
          -2.7356247901916504,
          -0.3815964162349701,
          2.2224209308624268
         ]
        },
        {
         "hovertemplate": "color=Vanellus<br>TSNE1=%{x}<br>TSNE2=%{y}<br>TSNE3=%{z}<extra></extra>",
         "legendgroup": "Vanellus",
         "marker": {
          "color": "#B82E2E",
          "symbol": "circle"
         },
         "mode": "markers",
         "name": "Vanellus",
         "scene": "scene",
         "showlegend": true,
         "type": "scatter3d",
         "x": [
          5.922863006591797,
          4.846980094909668,
          4.40873908996582
         ],
         "y": [
          -4.78482723236084,
          -4.48966121673584,
          -6.185973167419434
         ],
         "z": [
          -0.8809405565261841,
          -1.4186848402023315,
          -1.235480785369873
         ]
        },
        {
         "hovertemplate": "color=Veniliornis<br>TSNE1=%{x}<br>TSNE2=%{y}<br>TSNE3=%{z}<extra></extra>",
         "legendgroup": "Veniliornis",
         "marker": {
          "color": "#316395",
          "symbol": "circle"
         },
         "mode": "markers",
         "name": "Veniliornis",
         "scene": "scene",
         "showlegend": true,
         "type": "scatter3d",
         "x": [
          -1.9919911623001099,
          -0.31833508610725403,
          5.918854236602783,
          -6.527490615844727,
          -3.3469369411468506
         ],
         "y": [
          -3.089191198348999,
          3.0594770908355713,
          5.30520486831665,
          -1.9595708847045898,
          -6.978549480438232
         ],
         "z": [
          -3.387331485748291,
          0.5906352996826172,
          2.2461321353912354,
          -1.1617735624313354,
          1.5010226964950562
         ]
        },
        {
         "hovertemplate": "color=Vireo<br>TSNE1=%{x}<br>TSNE2=%{y}<br>TSNE3=%{z}<extra></extra>",
         "legendgroup": "Vireo",
         "marker": {
          "color": "#3366CC",
          "symbol": "circle"
         },
         "mode": "markers",
         "name": "Vireo",
         "scene": "scene",
         "showlegend": true,
         "type": "scatter3d",
         "x": [
          6.188121318817139,
          8.58238410949707,
          -2.672616958618164,
          1.736436128616333,
          5.299089431762695,
          -1.8428410291671753,
          -4.659438610076904,
          -5.53741455078125,
          -4.536686420440674,
          7.010134220123291,
          8.461466789245605,
          8.323972702026367,
          -4.94537353515625
         ],
         "y": [
          -0.6377646327018738,
          5.248366355895996,
          8.367486953735352,
          -4.208227634429932,
          -2.3020567893981934,
          -1.6134556531906128,
          0.5400446653366089,
          1.4163672924041748,
          0.666929304599762,
          3.611086368560791,
          5.934203624725342,
          1.7428338527679443,
          -5.514090538024902
         ],
         "z": [
          -0.5430365800857544,
          -0.060263387858867645,
          4.410177230834961,
          2.7751097679138184,
          -0.2388935685157776,
          -3.1291239261627197,
          0.32071468234062195,
          1.2323447465896606,
          0.45435550808906555,
          -1.2076295614242554,
          -0.016837548464536667,
          -5.900158882141113,
          0.7812768220901489
         ]
        },
        {
         "hovertemplate": "color=Vireolanius<br>TSNE1=%{x}<br>TSNE2=%{y}<br>TSNE3=%{z}<extra></extra>",
         "legendgroup": "Vireolanius",
         "marker": {
          "color": "#DC3912",
          "symbol": "circle"
         },
         "mode": "markers",
         "name": "Vireolanius",
         "scene": "scene",
         "showlegend": true,
         "type": "scatter3d",
         "x": [
          1.882727861404419,
          4.764376640319824,
          3.7873387336730957,
          4.546783924102783
         ],
         "y": [
          -4.4671454429626465,
          5.3356451988220215,
          -1.6969056129455566,
          -1.3378595113754272
         ],
         "z": [
          -1.3304342031478882,
          2.032818078994751,
          2.3414885997772217,
          0.13052216172218323
         ]
        },
        {
         "hovertemplate": "color=Volatinia<br>TSNE1=%{x}<br>TSNE2=%{y}<br>TSNE3=%{z}<extra></extra>",
         "legendgroup": "Volatinia",
         "marker": {
          "color": "#FF9900",
          "symbol": "circle"
         },
         "mode": "markers",
         "name": "Volatinia",
         "scene": "scene",
         "showlegend": true,
         "type": "scatter3d",
         "x": [
          -0.9714542627334595
         ],
         "y": [
          0.4433352053165436
         ],
         "z": [
          5.887398719787598
         ]
        },
        {
         "hovertemplate": "color=Willisornis<br>TSNE1=%{x}<br>TSNE2=%{y}<br>TSNE3=%{z}<extra></extra>",
         "legendgroup": "Willisornis",
         "marker": {
          "color": "#109618",
          "symbol": "circle"
         },
         "mode": "markers",
         "name": "Willisornis",
         "scene": "scene",
         "showlegend": true,
         "type": "scatter3d",
         "x": [
          8.055581092834473,
          8.360613822937012
         ],
         "y": [
          1.5741605758666992,
          1.6916550397872925
         ],
         "z": [
          -5.32234525680542,
          -5.9883599281311035
         ]
        },
        {
         "hovertemplate": "color=Xenopipo<br>TSNE1=%{x}<br>TSNE2=%{y}<br>TSNE3=%{z}<extra></extra>",
         "legendgroup": "Xenopipo",
         "marker": {
          "color": "#990099",
          "symbol": "circle"
         },
         "mode": "markers",
         "name": "Xenopipo",
         "scene": "scene",
         "showlegend": true,
         "type": "scatter3d",
         "x": [
          -4.255897521972656,
          -4.950496673583984,
          -6.8236846923828125
         ],
         "y": [
          0.3502037227153778,
          4.314059257507324,
          -1.934775710105896
         ],
         "z": [
          5.054744720458984,
          4.799100875854492,
          -0.5646974444389343
         ]
        },
        {
         "hovertemplate": "color=Xenops<br>TSNE1=%{x}<br>TSNE2=%{y}<br>TSNE3=%{z}<extra></extra>",
         "legendgroup": "Xenops",
         "marker": {
          "color": "#0099C6",
          "symbol": "circle"
         },
         "mode": "markers",
         "name": "Xenops",
         "scene": "scene",
         "showlegend": true,
         "type": "scatter3d",
         "x": [
          2.1475534439086914,
          0.65540611743927,
          -6.161794662475586,
          5.539141654968262,
          -2.952171802520752,
          -4.882059574127197,
          -2.649554967880249,
          -7.1666741371154785
         ],
         "y": [
          -4.074620246887207,
          -4.703159332275391,
          0.8334452509880066,
          4.113022804260254,
          0.08089841902256012,
          3.2542574405670166,
          8.364744186401367,
          -1.1465805768966675
         ],
         "z": [
          0.26990145444869995,
          1.2495079040527344,
          4.354049205780029,
          -2.291379451751709,
          -0.26954832673072815,
          4.679622173309326,
          4.3866472244262695,
          1.5867632627487183
         ]
        },
        {
         "hovertemplate": "color=Xenopsaris<br>TSNE1=%{x}<br>TSNE2=%{y}<br>TSNE3=%{z}<extra></extra>",
         "legendgroup": "Xenopsaris",
         "marker": {
          "color": "#DD4477",
          "symbol": "circle"
         },
         "mode": "markers",
         "name": "Xenopsaris",
         "scene": "scene",
         "showlegend": true,
         "type": "scatter3d",
         "x": [
          -2.4066121578216553,
          -5.576569080352783
         ],
         "y": [
          8.525216102600098,
          -5.297856330871582
         ],
         "z": [
          4.253331661224365,
          -3.925868272781372
         ]
        },
        {
         "hovertemplate": "color=Xiphocolaptes<br>TSNE1=%{x}<br>TSNE2=%{y}<br>TSNE3=%{z}<extra></extra>",
         "legendgroup": "Xiphocolaptes",
         "marker": {
          "color": "#66AA00",
          "symbol": "circle"
         },
         "mode": "markers",
         "name": "Xiphocolaptes",
         "scene": "scene",
         "showlegend": true,
         "type": "scatter3d",
         "x": [
          7.077224254608154,
          7.048496246337891,
          7.626380920410156,
          8.214447021484375,
          7.516881942749023
         ],
         "y": [
          0.20818963646888733,
          0.1953405737876892,
          0.95677250623703,
          1.587975025177002,
          0.8198811411857605
         ],
         "z": [
          -5.1758856773376465,
          -5.187231063842773,
          -5.356987953186035,
          -5.841146945953369,
          -5.1990814208984375
         ]
        },
        {
         "hovertemplate": "color=Xiphorhynchus<br>TSNE1=%{x}<br>TSNE2=%{y}<br>TSNE3=%{z}<extra></extra>",
         "legendgroup": "Xiphorhynchus",
         "marker": {
          "color": "#B82E2E",
          "symbol": "circle"
         },
         "mode": "markers",
         "name": "Xiphorhynchus",
         "scene": "scene",
         "showlegend": true,
         "type": "scatter3d",
         "x": [
          -4.926095008850098,
          8.991989135742188,
          -4.533181667327881,
          -1.9591991901397705,
          6.1134467124938965,
          -1.8907513618469238,
          -5.971867084503174,
          -0.582223653793335,
          -6.4213361740112305,
          6.837921619415283,
          -4.760709762573242,
          -4.545577049255371,
          1.0457348823547363,
          -4.04472541809082,
          -2.403409481048584,
          -2.2735960483551025
         ],
         "y": [
          -6.1467671394348145,
          2.153944730758667,
          3.901812791824341,
          5.229969501495361,
          4.623012542724609,
          5.968750953674316,
          -1.2306809425354004,
          6.289852142333984,
          -2.3901541233062744,
          6.0184783935546875,
          -8.125889778137207,
          3.441373348236084,
          8.526305198669434,
          -2.3844122886657715,
          -2.3959057331085205,
          -8.221126556396484
         ],
         "z": [
          1.025524377822876,
          -6.386564254760742,
          1.4498581886291504,
          1.1057544946670532,
          2.236370086669922,
          1.826377034187317,
          -4.312589645385742,
          1.8213741779327393,
          -2.3283493518829346,
          1.3159657716751099,
          -2.811530351638794,
          5.035837650299072,
          3.7094244956970215,
          2.1287598609924316,
          4.697181701660156,
          -3.3882863521575928
         ]
        },
        {
         "hovertemplate": "color=Xolmis<br>TSNE1=%{x}<br>TSNE2=%{y}<br>TSNE3=%{z}<extra></extra>",
         "legendgroup": "Xolmis",
         "marker": {
          "color": "#316395",
          "symbol": "circle"
         },
         "mode": "markers",
         "name": "Xolmis",
         "scene": "scene",
         "showlegend": true,
         "type": "scatter3d",
         "x": [
          2.0730130672454834,
          -2.5741050243377686
         ],
         "y": [
          5.286149978637695,
          -2.350698232650757
         ],
         "z": [
          4.683731555938721,
          2.79962420463562
         ]
        },
        {
         "hovertemplate": "color=Zebrilus<br>TSNE1=%{x}<br>TSNE2=%{y}<br>TSNE3=%{z}<extra></extra>",
         "legendgroup": "Zebrilus",
         "marker": {
          "color": "#3366CC",
          "symbol": "circle"
         },
         "mode": "markers",
         "name": "Zebrilus",
         "scene": "scene",
         "showlegend": true,
         "type": "scatter3d",
         "x": [
          -1.5601656436920166,
          3.230379581451416,
          -0.034471675753593445
         ],
         "y": [
          0.9612830877304077,
          6.543701648712158,
          8.899035453796387
         ],
         "z": [
          5.999729633331299,
          3.6575653553009033,
          3.6802313327789307
         ]
        },
        {
         "hovertemplate": "color=Zenaida<br>TSNE1=%{x}<br>TSNE2=%{y}<br>TSNE3=%{z}<extra></extra>",
         "legendgroup": "Zenaida",
         "marker": {
          "color": "#DC3912",
          "symbol": "circle"
         },
         "mode": "markers",
         "name": "Zenaida",
         "scene": "scene",
         "showlegend": true,
         "type": "scatter3d",
         "x": [
          4.217071056365967,
          4.138680458068848,
          3.5332818031311035
         ],
         "y": [
          4.1117167472839355,
          1.8838450908660889,
          -0.01303694024682045
         ],
         "z": [
          3.502261161804199,
          3.0378928184509277,
          3.647488832473755
         ]
        },
        {
         "hovertemplate": "color=Zentrygon<br>TSNE1=%{x}<br>TSNE2=%{y}<br>TSNE3=%{z}<extra></extra>",
         "legendgroup": "Zentrygon",
         "marker": {
          "color": "#FF9900",
          "symbol": "circle"
         },
         "mode": "markers",
         "name": "Zentrygon",
         "scene": "scene",
         "showlegend": true,
         "type": "scatter3d",
         "x": [
          3.6489875316619873,
          2.1096436977386475
         ],
         "y": [
          1.9635175466537476,
          1.228990912437439
         ],
         "z": [
          2.419102907180786,
          4.5188889503479
         ]
        },
        {
         "hovertemplate": "color=Zimmerius<br>TSNE1=%{x}<br>TSNE2=%{y}<br>TSNE3=%{z}<extra></extra>",
         "legendgroup": "Zimmerius",
         "marker": {
          "color": "#109618",
          "symbol": "circle"
         },
         "mode": "markers",
         "name": "Zimmerius",
         "scene": "scene",
         "showlegend": true,
         "type": "scatter3d",
         "x": [
          -4.102754592895508,
          9.531486511230469,
          6.401124477386475,
          -4.137026786804199,
          2.1855318546295166,
          -4.0009026527404785,
          4.926737308502197
         ],
         "y": [
          0.4540329575538635,
          4.512465000152588,
          -0.11430896818637848,
          -0.25854572653770447,
          -8.220988273620605,
          -5.388359069824219,
          -2.585035562515259
         ],
         "z": [
          5.634769439697266,
          -0.7113757133483887,
          -1.3988209962844849,
          5.228638172149658,
          -2.6049935817718506,
          -0.3130446970462799,
          0.41177138686180115
         ]
        },
        {
         "hovertemplate": "color=Zonotrichia<br>TSNE1=%{x}<br>TSNE2=%{y}<br>TSNE3=%{z}<extra></extra>",
         "legendgroup": "Zonotrichia",
         "marker": {
          "color": "#990099",
          "symbol": "circle"
         },
         "mode": "markers",
         "name": "Zonotrichia",
         "scene": "scene",
         "showlegend": true,
         "type": "scatter3d",
         "x": [
          3.5694124698638916,
          -4.7101287841796875,
          -2.11055326461792
         ],
         "y": [
          5.90485143661499,
          0.48087483644485474,
          5.988949298858643
         ],
         "z": [
          1.6425076723098755,
          -0.9605835676193237,
          4.6218342781066895
         ]
        }
       ],
       "layout": {
        "legend": {
         "title": {
          "text": "color"
         },
         "tracegroupgap": 0
        },
        "margin": {
         "t": 60
        },
        "scene": {
         "domain": {
          "x": [
           0,
           1
          ],
          "y": [
           0,
           1
          ]
         },
         "xaxis": {
          "title": {
           "text": "TSNE1"
          }
         },
         "yaxis": {
          "title": {
           "text": "TSNE2"
          }
         },
         "zaxis": {
          "title": {
           "text": "TSNE3"
          }
         }
        },
        "template": {
         "data": {
          "bar": [
           {
            "error_x": {
             "color": "#2a3f5f"
            },
            "error_y": {
             "color": "#2a3f5f"
            },
            "marker": {
             "line": {
              "color": "#E5ECF6",
              "width": 0.5
             },
             "pattern": {
              "fillmode": "overlay",
              "size": 10,
              "solidity": 0.2
             }
            },
            "type": "bar"
           }
          ],
          "barpolar": [
           {
            "marker": {
             "line": {
              "color": "#E5ECF6",
              "width": 0.5
             },
             "pattern": {
              "fillmode": "overlay",
              "size": 10,
              "solidity": 0.2
             }
            },
            "type": "barpolar"
           }
          ],
          "carpet": [
           {
            "aaxis": {
             "endlinecolor": "#2a3f5f",
             "gridcolor": "white",
             "linecolor": "white",
             "minorgridcolor": "white",
             "startlinecolor": "#2a3f5f"
            },
            "baxis": {
             "endlinecolor": "#2a3f5f",
             "gridcolor": "white",
             "linecolor": "white",
             "minorgridcolor": "white",
             "startlinecolor": "#2a3f5f"
            },
            "type": "carpet"
           }
          ],
          "choropleth": [
           {
            "colorbar": {
             "outlinewidth": 0,
             "ticks": ""
            },
            "type": "choropleth"
           }
          ],
          "contour": [
           {
            "colorbar": {
             "outlinewidth": 0,
             "ticks": ""
            },
            "colorscale": [
             [
              0,
              "#0d0887"
             ],
             [
              0.1111111111111111,
              "#46039f"
             ],
             [
              0.2222222222222222,
              "#7201a8"
             ],
             [
              0.3333333333333333,
              "#9c179e"
             ],
             [
              0.4444444444444444,
              "#bd3786"
             ],
             [
              0.5555555555555556,
              "#d8576b"
             ],
             [
              0.6666666666666666,
              "#ed7953"
             ],
             [
              0.7777777777777778,
              "#fb9f3a"
             ],
             [
              0.8888888888888888,
              "#fdca26"
             ],
             [
              1,
              "#f0f921"
             ]
            ],
            "type": "contour"
           }
          ],
          "contourcarpet": [
           {
            "colorbar": {
             "outlinewidth": 0,
             "ticks": ""
            },
            "type": "contourcarpet"
           }
          ],
          "heatmap": [
           {
            "colorbar": {
             "outlinewidth": 0,
             "ticks": ""
            },
            "colorscale": [
             [
              0,
              "#0d0887"
             ],
             [
              0.1111111111111111,
              "#46039f"
             ],
             [
              0.2222222222222222,
              "#7201a8"
             ],
             [
              0.3333333333333333,
              "#9c179e"
             ],
             [
              0.4444444444444444,
              "#bd3786"
             ],
             [
              0.5555555555555556,
              "#d8576b"
             ],
             [
              0.6666666666666666,
              "#ed7953"
             ],
             [
              0.7777777777777778,
              "#fb9f3a"
             ],
             [
              0.8888888888888888,
              "#fdca26"
             ],
             [
              1,
              "#f0f921"
             ]
            ],
            "type": "heatmap"
           }
          ],
          "heatmapgl": [
           {
            "colorbar": {
             "outlinewidth": 0,
             "ticks": ""
            },
            "colorscale": [
             [
              0,
              "#0d0887"
             ],
             [
              0.1111111111111111,
              "#46039f"
             ],
             [
              0.2222222222222222,
              "#7201a8"
             ],
             [
              0.3333333333333333,
              "#9c179e"
             ],
             [
              0.4444444444444444,
              "#bd3786"
             ],
             [
              0.5555555555555556,
              "#d8576b"
             ],
             [
              0.6666666666666666,
              "#ed7953"
             ],
             [
              0.7777777777777778,
              "#fb9f3a"
             ],
             [
              0.8888888888888888,
              "#fdca26"
             ],
             [
              1,
              "#f0f921"
             ]
            ],
            "type": "heatmapgl"
           }
          ],
          "histogram": [
           {
            "marker": {
             "pattern": {
              "fillmode": "overlay",
              "size": 10,
              "solidity": 0.2
             }
            },
            "type": "histogram"
           }
          ],
          "histogram2d": [
           {
            "colorbar": {
             "outlinewidth": 0,
             "ticks": ""
            },
            "colorscale": [
             [
              0,
              "#0d0887"
             ],
             [
              0.1111111111111111,
              "#46039f"
             ],
             [
              0.2222222222222222,
              "#7201a8"
             ],
             [
              0.3333333333333333,
              "#9c179e"
             ],
             [
              0.4444444444444444,
              "#bd3786"
             ],
             [
              0.5555555555555556,
              "#d8576b"
             ],
             [
              0.6666666666666666,
              "#ed7953"
             ],
             [
              0.7777777777777778,
              "#fb9f3a"
             ],
             [
              0.8888888888888888,
              "#fdca26"
             ],
             [
              1,
              "#f0f921"
             ]
            ],
            "type": "histogram2d"
           }
          ],
          "histogram2dcontour": [
           {
            "colorbar": {
             "outlinewidth": 0,
             "ticks": ""
            },
            "colorscale": [
             [
              0,
              "#0d0887"
             ],
             [
              0.1111111111111111,
              "#46039f"
             ],
             [
              0.2222222222222222,
              "#7201a8"
             ],
             [
              0.3333333333333333,
              "#9c179e"
             ],
             [
              0.4444444444444444,
              "#bd3786"
             ],
             [
              0.5555555555555556,
              "#d8576b"
             ],
             [
              0.6666666666666666,
              "#ed7953"
             ],
             [
              0.7777777777777778,
              "#fb9f3a"
             ],
             [
              0.8888888888888888,
              "#fdca26"
             ],
             [
              1,
              "#f0f921"
             ]
            ],
            "type": "histogram2dcontour"
           }
          ],
          "mesh3d": [
           {
            "colorbar": {
             "outlinewidth": 0,
             "ticks": ""
            },
            "type": "mesh3d"
           }
          ],
          "parcoords": [
           {
            "line": {
             "colorbar": {
              "outlinewidth": 0,
              "ticks": ""
             }
            },
            "type": "parcoords"
           }
          ],
          "pie": [
           {
            "automargin": true,
            "type": "pie"
           }
          ],
          "scatter": [
           {
            "marker": {
             "colorbar": {
              "outlinewidth": 0,
              "ticks": ""
             }
            },
            "type": "scatter"
           }
          ],
          "scatter3d": [
           {
            "line": {
             "colorbar": {
              "outlinewidth": 0,
              "ticks": ""
             }
            },
            "marker": {
             "colorbar": {
              "outlinewidth": 0,
              "ticks": ""
             }
            },
            "type": "scatter3d"
           }
          ],
          "scattercarpet": [
           {
            "marker": {
             "colorbar": {
              "outlinewidth": 0,
              "ticks": ""
             }
            },
            "type": "scattercarpet"
           }
          ],
          "scattergeo": [
           {
            "marker": {
             "colorbar": {
              "outlinewidth": 0,
              "ticks": ""
             }
            },
            "type": "scattergeo"
           }
          ],
          "scattergl": [
           {
            "marker": {
             "colorbar": {
              "outlinewidth": 0,
              "ticks": ""
             }
            },
            "type": "scattergl"
           }
          ],
          "scattermapbox": [
           {
            "marker": {
             "colorbar": {
              "outlinewidth": 0,
              "ticks": ""
             }
            },
            "type": "scattermapbox"
           }
          ],
          "scatterpolar": [
           {
            "marker": {
             "colorbar": {
              "outlinewidth": 0,
              "ticks": ""
             }
            },
            "type": "scatterpolar"
           }
          ],
          "scatterpolargl": [
           {
            "marker": {
             "colorbar": {
              "outlinewidth": 0,
              "ticks": ""
             }
            },
            "type": "scatterpolargl"
           }
          ],
          "scatterternary": [
           {
            "marker": {
             "colorbar": {
              "outlinewidth": 0,
              "ticks": ""
             }
            },
            "type": "scatterternary"
           }
          ],
          "surface": [
           {
            "colorbar": {
             "outlinewidth": 0,
             "ticks": ""
            },
            "colorscale": [
             [
              0,
              "#0d0887"
             ],
             [
              0.1111111111111111,
              "#46039f"
             ],
             [
              0.2222222222222222,
              "#7201a8"
             ],
             [
              0.3333333333333333,
              "#9c179e"
             ],
             [
              0.4444444444444444,
              "#bd3786"
             ],
             [
              0.5555555555555556,
              "#d8576b"
             ],
             [
              0.6666666666666666,
              "#ed7953"
             ],
             [
              0.7777777777777778,
              "#fb9f3a"
             ],
             [
              0.8888888888888888,
              "#fdca26"
             ],
             [
              1,
              "#f0f921"
             ]
            ],
            "type": "surface"
           }
          ],
          "table": [
           {
            "cells": {
             "fill": {
              "color": "#EBF0F8"
             },
             "line": {
              "color": "white"
             }
            },
            "header": {
             "fill": {
              "color": "#C8D4E3"
             },
             "line": {
              "color": "white"
             }
            },
            "type": "table"
           }
          ]
         },
         "layout": {
          "annotationdefaults": {
           "arrowcolor": "#2a3f5f",
           "arrowhead": 0,
           "arrowwidth": 1
          },
          "autotypenumbers": "strict",
          "coloraxis": {
           "colorbar": {
            "outlinewidth": 0,
            "ticks": ""
           }
          },
          "colorscale": {
           "diverging": [
            [
             0,
             "#8e0152"
            ],
            [
             0.1,
             "#c51b7d"
            ],
            [
             0.2,
             "#de77ae"
            ],
            [
             0.3,
             "#f1b6da"
            ],
            [
             0.4,
             "#fde0ef"
            ],
            [
             0.5,
             "#f7f7f7"
            ],
            [
             0.6,
             "#e6f5d0"
            ],
            [
             0.7,
             "#b8e186"
            ],
            [
             0.8,
             "#7fbc41"
            ],
            [
             0.9,
             "#4d9221"
            ],
            [
             1,
             "#276419"
            ]
           ],
           "sequential": [
            [
             0,
             "#0d0887"
            ],
            [
             0.1111111111111111,
             "#46039f"
            ],
            [
             0.2222222222222222,
             "#7201a8"
            ],
            [
             0.3333333333333333,
             "#9c179e"
            ],
            [
             0.4444444444444444,
             "#bd3786"
            ],
            [
             0.5555555555555556,
             "#d8576b"
            ],
            [
             0.6666666666666666,
             "#ed7953"
            ],
            [
             0.7777777777777778,
             "#fb9f3a"
            ],
            [
             0.8888888888888888,
             "#fdca26"
            ],
            [
             1,
             "#f0f921"
            ]
           ],
           "sequentialminus": [
            [
             0,
             "#0d0887"
            ],
            [
             0.1111111111111111,
             "#46039f"
            ],
            [
             0.2222222222222222,
             "#7201a8"
            ],
            [
             0.3333333333333333,
             "#9c179e"
            ],
            [
             0.4444444444444444,
             "#bd3786"
            ],
            [
             0.5555555555555556,
             "#d8576b"
            ],
            [
             0.6666666666666666,
             "#ed7953"
            ],
            [
             0.7777777777777778,
             "#fb9f3a"
            ],
            [
             0.8888888888888888,
             "#fdca26"
            ],
            [
             1,
             "#f0f921"
            ]
           ]
          },
          "colorway": [
           "#636efa",
           "#EF553B",
           "#00cc96",
           "#ab63fa",
           "#FFA15A",
           "#19d3f3",
           "#FF6692",
           "#B6E880",
           "#FF97FF",
           "#FECB52"
          ],
          "font": {
           "color": "#2a3f5f"
          },
          "geo": {
           "bgcolor": "white",
           "lakecolor": "white",
           "landcolor": "#E5ECF6",
           "showlakes": true,
           "showland": true,
           "subunitcolor": "white"
          },
          "hoverlabel": {
           "align": "left"
          },
          "hovermode": "closest",
          "mapbox": {
           "style": "light"
          },
          "paper_bgcolor": "white",
          "plot_bgcolor": "#E5ECF6",
          "polar": {
           "angularaxis": {
            "gridcolor": "white",
            "linecolor": "white",
            "ticks": ""
           },
           "bgcolor": "#E5ECF6",
           "radialaxis": {
            "gridcolor": "white",
            "linecolor": "white",
            "ticks": ""
           }
          },
          "scene": {
           "xaxis": {
            "backgroundcolor": "#E5ECF6",
            "gridcolor": "white",
            "gridwidth": 2,
            "linecolor": "white",
            "showbackground": true,
            "ticks": "",
            "zerolinecolor": "white"
           },
           "yaxis": {
            "backgroundcolor": "#E5ECF6",
            "gridcolor": "white",
            "gridwidth": 2,
            "linecolor": "white",
            "showbackground": true,
            "ticks": "",
            "zerolinecolor": "white"
           },
           "zaxis": {
            "backgroundcolor": "#E5ECF6",
            "gridcolor": "white",
            "gridwidth": 2,
            "linecolor": "white",
            "showbackground": true,
            "ticks": "",
            "zerolinecolor": "white"
           }
          },
          "shapedefaults": {
           "line": {
            "color": "#2a3f5f"
           }
          },
          "ternary": {
           "aaxis": {
            "gridcolor": "white",
            "linecolor": "white",
            "ticks": ""
           },
           "baxis": {
            "gridcolor": "white",
            "linecolor": "white",
            "ticks": ""
           },
           "bgcolor": "#E5ECF6",
           "caxis": {
            "gridcolor": "white",
            "linecolor": "white",
            "ticks": ""
           }
          },
          "title": {
           "x": 0.05
          },
          "xaxis": {
           "automargin": true,
           "gridcolor": "white",
           "linecolor": "white",
           "ticks": "",
           "title": {
            "standoff": 15
           },
           "zerolinecolor": "white",
           "zerolinewidth": 2
          },
          "yaxis": {
           "automargin": true,
           "gridcolor": "white",
           "linecolor": "white",
           "ticks": "",
           "title": {
            "standoff": 15
           },
           "zerolinecolor": "white",
           "zerolinewidth": 2
          }
         }
        }
       }
      }
     },
     "metadata": {},
     "output_type": "display_data"
    }
   ],
   "source": [
    "import plotly.express as px \n",
    "\n",
    "fig = px.scatter_3d(tsneed, x=\"TSNE1\", y=\"TSNE2\", z='TSNE3',color = Y, color_discrete_sequence= px.colors.qualitative.G10)\n",
    "\n",
    "fig.show()"
   ]
  },
  {
   "cell_type": "code",
   "execution_count": 27,
   "metadata": {},
   "outputs": [],
   "source": [
    "# from sklearn.mixture import GaussianMixture\n",
    "\n",
    "# gm = GaussianMixture(n_components = 3)\n",
    "# gm.fit(X_standardized)\n",
    "\n",
    "# y_cluster_gmm = gm.predict(X_standardized)\n",
    "# y_cluster_gmm\n",
    "\n",
    "# from sklearn.metrics.cluster import adjusted_rand_score\n",
    "\n",
    "# score = adjusted_rand_score(Y, y_cluster_gmm)\n",
    "# score\n",
    "\n"
   ]
  },
  {
   "cell_type": "code",
   "execution_count": 28,
   "metadata": {},
   "outputs": [],
   "source": [
    "# from sklearn.cluster import KMeans"
   ]
  },
  {
   "cell_type": "code",
   "execution_count": 29,
   "metadata": {},
   "outputs": [],
   "source": [
    "# kmeans = KMeans(n_clusters = 3)\n",
    "# kmeans.fit(X_standardized)"
   ]
  },
  {
   "cell_type": "code",
   "execution_count": 30,
   "metadata": {},
   "outputs": [],
   "source": [
    "# y_cluster_kmeans = kmeans.predict(X_standardized)\n",
    "# y_cluster_kmeans"
   ]
  },
  {
   "cell_type": "code",
   "execution_count": 31,
   "metadata": {},
   "outputs": [],
   "source": [
    "# score = adjusted_rand_score(Y, y_cluster_kmeans)\n",
    "# score"
   ]
  }
 ],
 "metadata": {
  "interpreter": {
   "hash": "d1b7c51cb1c07a1a0543a455994ca61e31e66a1747528d0d0492d9b5937ed4ce"
  },
  "kernelspec": {
   "display_name": "Python 3.8.12 ('tweety')",
   "language": "python",
   "name": "python3"
  },
  "language_info": {
   "codemirror_mode": {
    "name": "ipython",
    "version": 3
   },
   "file_extension": ".py",
   "mimetype": "text/x-python",
   "name": "python",
   "nbconvert_exporter": "python",
   "pygments_lexer": "ipython3",
   "version": "3.8.12"
  },
  "orig_nbformat": 4
 },
 "nbformat": 4,
 "nbformat_minor": 2
}
