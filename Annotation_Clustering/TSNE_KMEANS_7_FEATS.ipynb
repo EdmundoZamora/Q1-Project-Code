{
 "cells": [
  {
   "cell_type": "code",
   "execution_count": 1,
   "metadata": {},
   "outputs": [],
   "source": [
    "import numpy as np\n",
    "import pandas as pd\n",
    "import matplotlib.pyplot as plt\n",
    "import seaborn as sns\n",
    "import random\n",
    "sns.set()\n",
    "\n",
    "from sklearn.preprocessing import StandardScaler\n",
    "\n",
    "from sklearn.cluster import KMeans\n",
    "from sklearn.decomposition import PCA\n",
    "from sklearn.manifold import TSNE"
   ]
  },
  {
   "cell_type": "code",
   "execution_count": 2,
   "metadata": {},
   "outputs": [],
   "source": [
    "frame = pd.read_csv('for_data_science_newline_fixed.csv', usecols = [\"IN FILE\",\"CLIP LENGTH\",\"OFFSET\",\"DURATION\",\"MAX FREQ\",\"MIN FREQ\",\"SAMPLE RATE\",\"LAST MOD BY\"])\n",
    "# frame.head(10)"
   ]
  },
  {
   "cell_type": "code",
   "execution_count": 3,
   "metadata": {},
   "outputs": [],
   "source": [
    "CLIP_LENGTHS = frame.groupby(\"IN FILE\")[[\"CLIP LENGTH\"]].max()\n",
    "SUM_DURATIONS = frame.groupby(\"IN FILE\")[[\"DURATION\"]].sum()\n",
    "\n",
    "MEDIAN_DURATIONS = frame.groupby(\"IN FILE\")[[\"DURATION\"]].median()\n",
    "MEDIAN_DURATIONS = MEDIAN_DURATIONS.rename(columns={'DURATION': 'MEDIAN DURATION'})\n",
    "\n",
    "NUMBER_ANN = frame.groupby(\"IN FILE\")[[\"OFFSET\"]].count()\n",
    "NUMBER_ANN = NUMBER_ANN.rename(columns = {'OFFSET':'OFFSET COUNT'})\n",
    "\n",
    "MED_DIST_BW_ANNS = frame.copy(True)\n",
    "\n",
    "MED_DIST_BW_ANNS = MED_DIST_BW_ANNS.sort_values(['IN FILE','OFFSET'])\n",
    "MED_DIST_BW_ANNS['ENDSET'] = MED_DIST_BW_ANNS['OFFSET'] + MED_DIST_BW_ANNS['DURATION']\n",
    "\n",
    "MED_DIST_BW_ANNS = MED_DIST_BW_ANNS[['IN FILE','CLIP LENGTH','OFFSET','ENDSET','LAST MOD BY']]\n",
    "\n",
    "MED_DIST_BW_ANNS['PREV END'] = MED_DIST_BW_ANNS.loc[MED_DIST_BW_ANNS['IN FILE'].shift(-1) == MED_DIST_BW_ANNS['IN FILE'], 'ENDSET']\n",
    "MED_DIST_BW_ANNS['PREV END'] = MED_DIST_BW_ANNS['PREV END'].shift()\n",
    "\n",
    "MED_DIST_BW_ANNS = MED_DIST_BW_ANNS.fillna(0)\n",
    "MED_DIST_BW_ANNS['DIST BETWEEN ANN PREV'] = MED_DIST_BW_ANNS['OFFSET'] - MED_DIST_BW_ANNS['PREV END']\n",
    "\n",
    "MED_DIST_BW_ANNS['OVERLAP'] = MED_DIST_BW_ANNS['DIST BETWEEN ANN PREV'].loc[MED_DIST_BW_ANNS['DIST BETWEEN ANN PREV'] < 0]\n",
    "\n",
    "OVER_LAP = MED_DIST_BW_ANNS.groupby('IN FILE')[['OVERLAP']].count()\n",
    "OVER_LAP = OVER_LAP.rename(columns = {'OVERLAP':'OVERLAP COUNT'})\n",
    "\n",
    "DIST_BETWEEN_ANN_PREV = MED_DIST_BW_ANNS.groupby('IN FILE')[['DIST BETWEEN ANN PREV']].median()\n",
    "DIST_BETWEEN_ANN_PREV = DIST_BETWEEN_ANN_PREV.rename(columns={'DIST BETWEEN ANN PREV': 'MEDIAN DIST B/W ANNS'})\n",
    "\n",
    "LAST_MOD_BY = MED_DIST_BW_ANNS.groupby('IN FILE')[['LAST MOD BY']].max()\n",
    "\n",
    "WHITE_SPACE = frame.copy(True)\n",
    "DUR = WHITE_SPACE.groupby(['IN FILE'])[['DURATION']].sum()\n",
    "DUR = DUR.rename(columns = {'DURATION':'SUM DURATION'})\n",
    "LEN = WHITE_SPACE.groupby(['IN FILE'])[['CLIP LENGTH']].max()\n",
    "WHITE_SPACE = LEN.join(DUR)\n",
    "WHITE_SPACE['WHITE SPACE'] = WHITE_SPACE['CLIP LENGTH'] - WHITE_SPACE['SUM DURATION']\n",
    "\n",
    "WHITE_SPACE = WHITE_SPACE.join(OVER_LAP)\n",
    "WHITE_SPACE = WHITE_SPACE.join(DIST_BETWEEN_ANN_PREV)\n",
    "WHITE_SPACE = WHITE_SPACE.join(MEDIAN_DURATIONS)\n",
    "WHITE_SPACE = WHITE_SPACE.join(NUMBER_ANN)\n",
    "WHITE_SPACE = WHITE_SPACE.join(LAST_MOD_BY)\n",
    "WHITE_SPACE.reset_index(inplace=True)\n",
    "# WHITE_SPACE.head(10)\n",
    "# MED_DIST_BW_ANNS"
   ]
  },
  {
   "cell_type": "code",
   "execution_count": 4,
   "metadata": {},
   "outputs": [
    {
     "data": {
      "text/plain": [
       "515"
      ]
     },
     "execution_count": 4,
     "metadata": {},
     "output_type": "execute_result"
    }
   ],
   "source": [
    "def species(row):\n",
    "    species = row['IN FILE']\n",
    "    spec = species.split('-')\n",
    "    spec_to = '-'.join(spec[:-2])\n",
    "    return spec_to\n",
    "\n",
    "WHITE_SPACE['GENUS'] = WHITE_SPACE.apply(lambda row: species(row), axis=1)\n",
    "len(WHITE_SPACE['GENUS'].unique())\n",
    "# WHITE_SPACE.head(10)"
   ]
  },
  {
   "cell_type": "code",
   "execution_count": 5,
   "metadata": {},
   "outputs": [],
   "source": [
    "# # resample if sampled is admin user\n",
    "# annotator = WHITE_SPACE['LAST MOD BY'].unique()\n",
    "# sampled_annotator = ['EdZamora'] #random.sample(list(annotator),1) #['kkong', 'JacobGlennAyers']  \n",
    "# # ['EdZamora'], ['kkong', 'sunqiaochen'], ['kkong', 'JacobGlennAyers'], ['kushagra1067', 'EdZamora'], ['hjagarla', 'alarce'], ['dnelson', 'sunqiaochen'], ['sunqiaochen', 'j4yang'](not gud), ['dnelson', 'hjagarla']\n",
    "# # ['weszhen', 'JacobGlennAyers', 'dnelson']\n",
    "# sampled_annotator "
   ]
  },
  {
   "cell_type": "code",
   "execution_count": 6,
   "metadata": {},
   "outputs": [
    {
     "name": "stdout",
     "output_type": "stream",
     "text": [
      "['EdZamora', 'kkong']\n",
      "Index(['Tangara', 'Psarocolius', 'Schiffornis', 'Saltator', 'Euphonia'], dtype='object')\n"
     ]
    },
    {
     "data": {
      "text/html": [
       "<div>\n",
       "<style scoped>\n",
       "    .dataframe tbody tr th:only-of-type {\n",
       "        vertical-align: middle;\n",
       "    }\n",
       "\n",
       "    .dataframe tbody tr th {\n",
       "        vertical-align: top;\n",
       "    }\n",
       "\n",
       "    .dataframe thead th {\n",
       "        text-align: right;\n",
       "    }\n",
       "</style>\n",
       "<table border=\"1\" class=\"dataframe\">\n",
       "  <thead>\n",
       "    <tr style=\"text-align: right;\">\n",
       "      <th></th>\n",
       "      <th>IN FILE</th>\n",
       "      <th>CLIP LENGTH</th>\n",
       "      <th>SUM DURATION</th>\n",
       "      <th>WHITE SPACE</th>\n",
       "      <th>OVERLAP COUNT</th>\n",
       "      <th>MEDIAN DIST B/W ANNS</th>\n",
       "      <th>MEDIAN DURATION</th>\n",
       "      <th>OFFSET COUNT</th>\n",
       "      <th>LAST MOD BY</th>\n",
       "      <th>GENUS</th>\n",
       "    </tr>\n",
       "  </thead>\n",
       "  <tbody>\n",
       "    <tr>\n",
       "      <th>788</th>\n",
       "      <td>Euphonia-chlorotica-264822.wav</td>\n",
       "      <td>27.7420</td>\n",
       "      <td>15.9111</td>\n",
       "      <td>11.8309</td>\n",
       "      <td>2</td>\n",
       "      <td>0.180</td>\n",
       "      <td>0.56505</td>\n",
       "      <td>24</td>\n",
       "      <td>EdZamora</td>\n",
       "      <td>Euphonia</td>\n",
       "    </tr>\n",
       "    <tr>\n",
       "      <th>789</th>\n",
       "      <td>Euphonia-chlorotica-392016.wav</td>\n",
       "      <td>42.8880</td>\n",
       "      <td>20.7294</td>\n",
       "      <td>22.1586</td>\n",
       "      <td>9</td>\n",
       "      <td>0.190</td>\n",
       "      <td>0.33000</td>\n",
       "      <td>53</td>\n",
       "      <td>EdZamora</td>\n",
       "      <td>Euphonia</td>\n",
       "    </tr>\n",
       "    <tr>\n",
       "      <th>791</th>\n",
       "      <td>Euphonia-chrysopasta-171246.wav</td>\n",
       "      <td>113.1600</td>\n",
       "      <td>29.9445</td>\n",
       "      <td>83.2155</td>\n",
       "      <td>0</td>\n",
       "      <td>4.665</td>\n",
       "      <td>1.46000</td>\n",
       "      <td>18</td>\n",
       "      <td>kkong</td>\n",
       "      <td>Euphonia</td>\n",
       "    </tr>\n",
       "    <tr>\n",
       "      <th>793</th>\n",
       "      <td>Euphonia-cyanocephala-275607.wav</td>\n",
       "      <td>17.0841</td>\n",
       "      <td>11.0761</td>\n",
       "      <td>6.0080</td>\n",
       "      <td>0</td>\n",
       "      <td>1.445</td>\n",
       "      <td>4.13860</td>\n",
       "      <td>3</td>\n",
       "      <td>kkong</td>\n",
       "      <td>Euphonia</td>\n",
       "    </tr>\n",
       "    <tr>\n",
       "      <th>798</th>\n",
       "      <td>Euphonia-laniirostris-45661.wav</td>\n",
       "      <td>30.4849</td>\n",
       "      <td>27.9454</td>\n",
       "      <td>2.5395</td>\n",
       "      <td>48</td>\n",
       "      <td>-0.020</td>\n",
       "      <td>0.42495</td>\n",
       "      <td>58</td>\n",
       "      <td>EdZamora</td>\n",
       "      <td>Euphonia</td>\n",
       "    </tr>\n",
       "  </tbody>\n",
       "</table>\n",
       "</div>"
      ],
      "text/plain": [
       "                              IN FILE  CLIP LENGTH  SUM DURATION  WHITE SPACE  \\\n",
       "788    Euphonia-chlorotica-264822.wav      27.7420       15.9111      11.8309   \n",
       "789    Euphonia-chlorotica-392016.wav      42.8880       20.7294      22.1586   \n",
       "791   Euphonia-chrysopasta-171246.wav     113.1600       29.9445      83.2155   \n",
       "793  Euphonia-cyanocephala-275607.wav      17.0841       11.0761       6.0080   \n",
       "798   Euphonia-laniirostris-45661.wav      30.4849       27.9454       2.5395   \n",
       "\n",
       "     OVERLAP COUNT  MEDIAN DIST B/W ANNS  MEDIAN DURATION  OFFSET COUNT  \\\n",
       "788              2                 0.180          0.56505            24   \n",
       "789              9                 0.190          0.33000            53   \n",
       "791              0                 4.665          1.46000            18   \n",
       "793              0                 1.445          4.13860             3   \n",
       "798             48                -0.020          0.42495            58   \n",
       "\n",
       "    LAST MOD BY     GENUS  \n",
       "788    EdZamora  Euphonia  \n",
       "789    EdZamora  Euphonia  \n",
       "791       kkong  Euphonia  \n",
       "793       kkong  Euphonia  \n",
       "798    EdZamora  Euphonia  "
      ]
     },
     "execution_count": 6,
     "metadata": {},
     "output_type": "execute_result"
    }
   ],
   "source": [
    "annotator = WHITE_SPACE['LAST MOD BY'].unique()\n",
    "sampled_annotator = ['EdZamora','kkong'] #random.sample(list(annotator),1)\n",
    "print(sampled_annotator)\n",
    "annotator_df = WHITE_SPACE[WHITE_SPACE['LAST MOD BY'].isin(sampled_annotator)]\n",
    "\n",
    "genus_counts = annotator_df['GENUS'].value_counts()\n",
    "sampled_genus = genus_counts.index[:5]#random.sample(list(genus)counts),1)\n",
    "print(sampled_genus)\n",
    "\n",
    "# genus = annotator_df[['LAST MOD BY','GENUS']].groupby(['GENUS','LAST MOD BY'])[['LAST MOD BY']].count().rename(columns = {\"LAST MOD BY\":'COUNT'}).reset_index()\n",
    "# genus['LAST MOD BY'] = (genus['LAST MOD BY']+' '+genus['COUNT'].astype(str))\n",
    "# genus = genus.drop(columns = ['COUNT']).groupby('GENUS')['LAST MOD BY'].apply(list).to_dict()\n",
    "# shared_genus_anns = [i for i in genus if len(genus.get(i)) == 2]\n",
    "# print(shared_genus_anns)\n",
    "\n",
    "WHITE_SPACE = annotator_df[annotator_df['GENUS'].isin(sampled_genus)] # shared_genus_anns\n",
    "WHITE_SPACE.head()"
   ]
  },
  {
   "cell_type": "code",
   "execution_count": 7,
   "metadata": {},
   "outputs": [],
   "source": [
    "X = WHITE_SPACE.drop(columns = ['IN FILE','GENUS','LAST MOD BY']) # expand to taxa rather than species\n",
    "\n",
    "Y = np.array(WHITE_SPACE['GENUS'])\n",
    "Y_2 = np.array(WHITE_SPACE['LAST MOD BY'])\n",
    "Y_3 = np.array(WHITE_SPACE['IN FILE'])"
   ]
  },
  {
   "cell_type": "code",
   "execution_count": 8,
   "metadata": {},
   "outputs": [
    {
     "data": {
      "text/plain": [
       "array([[-5.13176831e-01,  1.43237709e-02, -5.69571367e-01,\n",
       "         8.54635864e-02, -8.03878842e-01, -9.50575313e-01,\n",
       "         9.04773535e-01],\n",
       "       [-1.13182164e-01,  3.98452788e-01, -2.69624834e-01,\n",
       "         1.09629152e+00, -8.01263583e-01, -1.21184651e+00,\n",
       "         3.24663727e+00],\n",
       "       [ 1.74264942e+00,  1.13310761e+00,  1.50364565e+00,\n",
       "        -2.03344395e-01,  3.69064815e-01,  4.42115655e-02,\n",
       "         4.20250002e-01],\n",
       "       [-7.94644094e-01, -3.71136619e-01, -7.38685369e-01,\n",
       "        -2.03344395e-01, -4.73048580e-01,  3.02162498e+00,\n",
       "        -7.91058828e-01],\n",
       "       [-4.40738869e-01,  9.73733486e-01, -8.39420726e-01,\n",
       "         6.72804716e+00, -8.56184021e-01, -1.10630428e+00,\n",
       "         3.65040688e+00],\n",
       "       [ 3.88805068e-01,  1.33585897e+00, -5.90723982e-02,\n",
       "        -2.03344395e-01, -7.77726252e-01, -1.23407762e+00,\n",
       "         3.08512943e+00],\n",
       "       [-7.81230830e-01, -8.53101622e-01, -5.48355517e-01,\n",
       "        -2.03344395e-01,  6.96861376e-01,  1.21723642e+00,\n",
       "        -8.71812750e-01],\n",
       "       [-4.52467222e-01, -9.78314464e-01, -1.41191246e-01,\n",
       "        -2.03344395e-01,  1.77484498e+00, -3.00370738e-01,\n",
       "        -7.91058828e-01],\n",
       "       [ 3.20234210e+00,  7.40440262e-01,  3.25195374e+00,\n",
       "        -2.03344395e-01,  1.56242057e+00,  1.49809368e-01,\n",
       "         2.58742158e-01],\n",
       "       [ 1.66751508e+00,  1.88765525e-01,  1.76504061e+00,\n",
       "        -2.03344395e-01,  1.99033752e-01, -4.83888603e-01,\n",
       "         4.20250002e-01],\n",
       "       [-3.19319651e-01,  9.66646118e-01, -7.03311096e-01,\n",
       "        -2.03344395e-01, -8.32646690e-01,  1.03371855e+00,\n",
       "        -3.06535296e-01],\n",
       "       [ 1.55558475e-01, -8.95442473e-01,  4.97279528e-01,\n",
       "        -2.03344395e-01,  1.89739601e+00, -6.22833080e-01,\n",
       "        -6.29550984e-01],\n",
       "       [ 2.16984563e+00, -2.20978471e-01,  2.46673491e+00,\n",
       "        -2.03344395e-01,  1.62431067e+00, -5.33853037e-01,\n",
       "        -6.42735298e-02],\n",
       "       [ 2.97289844e+00,  1.14457176e+00,  2.85240452e+00,\n",
       "        -2.03344395e-01,  1.52361012e+00,  8.22189481e-01,\n",
       "         9.72343143e-02],\n",
       "       [ 1.40675003e+00, -1.50782427e-01,  1.60196754e+00,\n",
       "        -2.03344395e-01,  3.12035650e+00,  9.94591789e-01,\n",
       "        -5.48797062e-01],\n",
       "       [ 2.51894178e-01, -3.75593131e-01,  4.13842132e-01,\n",
       "        -2.03344395e-01,  1.89255779e+00,  8.11296234e-01,\n",
       "        -6.29550984e-01],\n",
       "       [ 1.41242802e+00, -2.97536406e-01,  1.66167397e+00,\n",
       "        -2.03344395e-01,  2.02441914e+00,  8.30048635e-02,\n",
       "        -3.87289218e-01],\n",
       "       [ 2.17039235e-01, -7.23185128e-01,  5.02138408e-01,\n",
       "        -2.03344395e-01,  1.27009999e+00, -3.50390749e-01,\n",
       "        -5.48797062e-01],\n",
       "       [-7.98785066e-01, -7.76687189e-01, -5.95497979e-01,\n",
       "        -2.03344395e-01,  2.96962124e-01,  6.33002681e-01,\n",
       "        -7.91058828e-01],\n",
       "       [-2.35155977e-01, -7.21622558e-01,  4.27891667e-03,\n",
       "        -2.03344395e-01, -3.08300340e-01, -1.05622869e+00,\n",
       "         9.72343143e-02],\n",
       "       [-8.35346047e-01, -7.37001112e-01, -6.50162558e-01,\n",
       "        -2.03344395e-01,  1.28016394e-01,  8.76655716e-01,\n",
       "        -7.91058828e-01],\n",
       "       [-6.49081529e-01, -6.56345419e-01, -4.74705583e-01,\n",
       "        -2.03344395e-01, -2.73038376e-02,  6.61092151e-02,\n",
       "        -6.29550984e-01],\n",
       "       [-5.57327834e-01, -5.22291304e-01, -4.22637442e-01,\n",
       "        -2.03344395e-01, -1.66409463e-01,  1.16462694e-01,\n",
       "        -5.48797062e-01],\n",
       "       [-1.22707985e-01, -8.42809391e-01,  1.72088891e-01,\n",
       "        -2.03344395e-01,  6.44870028e-01, -7.26129508e-02,\n",
       "        -7.10304906e-01],\n",
       "       [-2.99314636e-01, -6.39491991e-01, -9.61979590e-02,\n",
       "        -2.03344395e-01,  7.75737587e-01,  3.22100520e-01,\n",
       "        -6.29550984e-01],\n",
       "       [ 4.70032081e-02,  3.19351692e-01, -6.46486382e-02,\n",
       "        -2.03344395e-01, -6.60065750e-01, -8.56259801e-01,\n",
       "         1.47005099e+00],\n",
       "       [-1.18252743e-01,  1.95063637e-01, -2.01106784e-01,\n",
       "        -2.03344395e-01, -5.61993538e-01, -6.50621975e-01,\n",
       "         7.43265691e-01],\n",
       "       [-4.90306411e-01, -2.38549406e-01, -4.52298973e-01,\n",
       "        -2.03344395e-01, -1.94575802e-01,  7.94400586e-01,\n",
       "        -5.48797062e-01],\n",
       "       [-4.63685876e-01,  3.63831070e-02, -5.23181116e-01,\n",
       "        -2.03344395e-01, -3.99873633e-01,  6.77520492e-01,\n",
       "        -3.87289218e-01],\n",
       "       [-3.61640492e-01,  8.67839464e-02, -4.29320217e-01,\n",
       "        -2.03344395e-01, -2.74288896e-01,  7.66722846e-01,\n",
       "        -3.06535296e-01],\n",
       "       [-5.31504859e-01, -6.86576356e-01, -3.34390538e-01,\n",
       "        -2.03344395e-01, -2.55890549e-01, -2.44904102e-01,\n",
       "        -5.48797062e-01],\n",
       "       [ 3.39050021e-01, -1.32430208e-01,  4.21105766e-01,\n",
       "        -2.03344395e-01, -8.36569579e-01, -9.61746448e-01,\n",
       "         9.04773535e-01],\n",
       "       [-1.00436637e+00, -6.98734103e-01, -8.49978989e-01,\n",
       "        -2.03344395e-01, -8.39812500e-01, -6.91193763e-01,\n",
       "        -3.06535296e-01],\n",
       "       [-6.87023715e-01, -5.73345871e-01, -5.46668123e-01,\n",
       "         2.29867577e-01, -8.45722985e-01, -6.67184157e-01,\n",
       "        -3.06535296e-01],\n",
       "       [ 9.22454364e-01,  4.59743781e-01,  8.46962058e-01,\n",
       "         8.07483540e-01, -8.48220558e-01, -3.22713010e-01,\n",
       "         4.20250002e-01],\n",
       "       [ 2.60772971e-01, -3.11870590e-01,  4.00392357e-01,\n",
       "        -2.03344395e-01, -8.23362521e-01, -9.95148701e-01,\n",
       "         2.58742158e-01],\n",
       "       [-6.40802226e-01, -4.92028478e-01, -5.25460985e-01,\n",
       "        -2.03344395e-01, -5.50198720e-01, -9.78419786e-01,\n",
       "        -1.45027452e-01],\n",
       "       [-6.42183430e-01,  3.59213160e-01, -8.37085676e-01,\n",
       "        -2.03344395e-01, -7.80341511e-01, -7.82818855e-02,\n",
       "        -3.06535296e-01],\n",
       "       [-1.04997147e+00, -6.99475527e-01, -8.99861941e-01,\n",
       "        -2.03344395e-01, -8.32777453e-01, -6.37005417e-01,\n",
       "        -5.48797062e-01],\n",
       "       [ 2.04294126e-01,  2.59961099e+00, -7.22366154e-01,\n",
       "        -2.03344395e-01, -7.52881291e-01,  2.41727208e+00,\n",
       "        -6.42735298e-02],\n",
       "       [-9.15371390e-01, -6.95106710e-01, -7.53430458e-01,\n",
       "        -2.03344395e-01, -6.26368138e-01, -4.53376396e-01,\n",
       "        -5.48797062e-01],\n",
       "       [-7.91884326e-01, -7.84627594e-01, -5.85016391e-01,\n",
       "        -2.03344395e-01,  1.72601756e-02, -8.67264204e-01,\n",
       "        -7.91058828e-01],\n",
       "       [-8.56042985e-01, -4.49799239e-01, -7.77550600e-01,\n",
       "        -2.03344395e-01, -7.01883741e-01, -7.00530832e-01,\n",
       "        -6.29550984e-01],\n",
       "       [-3.35019957e-01,  6.98928530e-01, -6.23048091e-01,\n",
       "        -2.03344395e-01, -6.71808263e-01,  3.33049344e-01,\n",
       "        -6.42735298e-02],\n",
       "       [-5.40079946e-01,  3.63007971e-01, -7.26182393e-01,\n",
       "        -2.03344395e-01, -7.79504628e-01,  2.34968948e+00,\n",
       "        -5.48797062e-01],\n",
       "       [-1.13130328e+00, -1.15116973e+00, -8.24753182e-01,\n",
       "        -2.03344395e-01, -7.31253099e-01, -1.35773821e+00,\n",
       "        -7.10304906e-01],\n",
       "       [ 1.06192431e+00,  4.68720388e+00, -5.39715249e-01,\n",
       "        -2.03344395e-01, -7.25447224e-01,  1.83348296e+00,\n",
       "         6.62511769e-01],\n",
       "       [-3.23460623e-01,  4.35755149e-01, -5.14462432e-01,\n",
       "        -2.03344395e-01, -5.73788356e-01,  1.07537354e-02,\n",
       "         1.64803923e-02],\n",
       "       [-6.27845843e-01, -4.60912616e-01, -5.22547981e-01,\n",
       "        -2.03344395e-01, -5.04431687e-01, -9.89535344e-01,\n",
       "        -2.25781374e-01]])"
      ]
     },
     "execution_count": 8,
     "metadata": {},
     "output_type": "execute_result"
    }
   ],
   "source": [
    "scaler = StandardScaler()\n",
    "X_std = scaler.fit_transform(X)\n",
    "X_std"
   ]
  },
  {
   "cell_type": "code",
   "execution_count": 9,
   "metadata": {},
   "outputs": [
    {
     "name": "stderr",
     "output_type": "stream",
     "text": [
      "C:\\Users\\lianl\\anaconda3\\envs\\tweety\\lib\\site-packages\\sklearn\\manifold\\_t_sne.py:780: FutureWarning: The default initialization in TSNE will change from 'random' to 'pca' in 1.2.\n",
      "  warnings.warn(\n",
      "C:\\Users\\lianl\\anaconda3\\envs\\tweety\\lib\\site-packages\\sklearn\\manifold\\_t_sne.py:790: FutureWarning: The default learning rate in TSNE will change from 200.0 to 'auto' in 1.2.\n",
      "  warnings.warn(\n"
     ]
    },
    {
     "name": "stdout",
     "output_type": "stream",
     "text": [
      "[t-SNE] Computing 48 nearest neighbors...\n",
      "[t-SNE] Indexed 49 samples in 0.000s...\n",
      "[t-SNE] Computed neighbors for 49 samples in 0.004s...\n",
      "[t-SNE] Computed conditional probabilities for sample 49 / 49\n",
      "[t-SNE] Mean sigma: 3.226858\n",
      "[t-SNE] KL divergence after 250 iterations with early exaggeration: 68.113403\n",
      "[t-SNE] KL divergence after 300 iterations: 2.602046\n"
     ]
    },
    {
     "data": {
      "text/html": [
       "<div>\n",
       "<style scoped>\n",
       "    .dataframe tbody tr th:only-of-type {\n",
       "        vertical-align: middle;\n",
       "    }\n",
       "\n",
       "    .dataframe tbody tr th {\n",
       "        vertical-align: top;\n",
       "    }\n",
       "\n",
       "    .dataframe thead th {\n",
       "        text-align: right;\n",
       "    }\n",
       "</style>\n",
       "<table border=\"1\" class=\"dataframe\">\n",
       "  <thead>\n",
       "    <tr style=\"text-align: right;\">\n",
       "      <th></th>\n",
       "      <th>TSNE1</th>\n",
       "      <th>TSNE2</th>\n",
       "      <th>TSNE3</th>\n",
       "    </tr>\n",
       "  </thead>\n",
       "  <tbody>\n",
       "    <tr>\n",
       "      <th>0</th>\n",
       "      <td>-23.178389</td>\n",
       "      <td>-3.220867</td>\n",
       "      <td>21.237505</td>\n",
       "    </tr>\n",
       "    <tr>\n",
       "      <th>1</th>\n",
       "      <td>-250.206467</td>\n",
       "      <td>-300.373566</td>\n",
       "      <td>5.019143</td>\n",
       "    </tr>\n",
       "    <tr>\n",
       "      <th>2</th>\n",
       "      <td>4.962339</td>\n",
       "      <td>-24.507654</td>\n",
       "      <td>-53.072372</td>\n",
       "    </tr>\n",
       "    <tr>\n",
       "      <th>3</th>\n",
       "      <td>-722.116272</td>\n",
       "      <td>159.159943</td>\n",
       "      <td>2733.287842</td>\n",
       "    </tr>\n",
       "    <tr>\n",
       "      <th>4</th>\n",
       "      <td>394.650879</td>\n",
       "      <td>127.622719</td>\n",
       "      <td>18.881477</td>\n",
       "    </tr>\n",
       "    <tr>\n",
       "      <th>5</th>\n",
       "      <td>-31.410391</td>\n",
       "      <td>-4.005569</td>\n",
       "      <td>70.722191</td>\n",
       "    </tr>\n",
       "    <tr>\n",
       "      <th>6</th>\n",
       "      <td>-79.317238</td>\n",
       "      <td>5.572232</td>\n",
       "      <td>-238.312866</td>\n",
       "    </tr>\n",
       "    <tr>\n",
       "      <th>7</th>\n",
       "      <td>27.475866</td>\n",
       "      <td>4.874140</td>\n",
       "      <td>13.477080</td>\n",
       "    </tr>\n",
       "    <tr>\n",
       "      <th>8</th>\n",
       "      <td>-17.240417</td>\n",
       "      <td>89.722435</td>\n",
       "      <td>-255.469131</td>\n",
       "    </tr>\n",
       "    <tr>\n",
       "      <th>9</th>\n",
       "      <td>-7.620309</td>\n",
       "      <td>-42.214977</td>\n",
       "      <td>280.919159</td>\n",
       "    </tr>\n",
       "    <tr>\n",
       "      <th>10</th>\n",
       "      <td>19.689651</td>\n",
       "      <td>-44.967056</td>\n",
       "      <td>-9.647125</td>\n",
       "    </tr>\n",
       "    <tr>\n",
       "      <th>11</th>\n",
       "      <td>-36.020077</td>\n",
       "      <td>26.007179</td>\n",
       "      <td>-59.879734</td>\n",
       "    </tr>\n",
       "    <tr>\n",
       "      <th>12</th>\n",
       "      <td>-25.465506</td>\n",
       "      <td>32.461758</td>\n",
       "      <td>-19.054808</td>\n",
       "    </tr>\n",
       "    <tr>\n",
       "      <th>13</th>\n",
       "      <td>35.158493</td>\n",
       "      <td>-0.579450</td>\n",
       "      <td>-26.987461</td>\n",
       "    </tr>\n",
       "    <tr>\n",
       "      <th>14</th>\n",
       "      <td>-47.708065</td>\n",
       "      <td>37.341690</td>\n",
       "      <td>19.654997</td>\n",
       "    </tr>\n",
       "    <tr>\n",
       "      <th>15</th>\n",
       "      <td>799.457031</td>\n",
       "      <td>-228.510269</td>\n",
       "      <td>-1955.020752</td>\n",
       "    </tr>\n",
       "    <tr>\n",
       "      <th>16</th>\n",
       "      <td>112.747757</td>\n",
       "      <td>355.823151</td>\n",
       "      <td>-146.900269</td>\n",
       "    </tr>\n",
       "    <tr>\n",
       "      <th>17</th>\n",
       "      <td>9.983029</td>\n",
       "      <td>27.590126</td>\n",
       "      <td>-52.654942</td>\n",
       "    </tr>\n",
       "    <tr>\n",
       "      <th>18</th>\n",
       "      <td>-6.724038</td>\n",
       "      <td>-48.648018</td>\n",
       "      <td>24.349178</td>\n",
       "    </tr>\n",
       "    <tr>\n",
       "      <th>19</th>\n",
       "      <td>-68.655334</td>\n",
       "      <td>-116.534492</td>\n",
       "      <td>-15.815004</td>\n",
       "    </tr>\n",
       "    <tr>\n",
       "      <th>20</th>\n",
       "      <td>-27.859388</td>\n",
       "      <td>-57.172703</td>\n",
       "      <td>60.520454</td>\n",
       "    </tr>\n",
       "    <tr>\n",
       "      <th>21</th>\n",
       "      <td>-0.671329</td>\n",
       "      <td>41.893627</td>\n",
       "      <td>17.082075</td>\n",
       "    </tr>\n",
       "    <tr>\n",
       "      <th>22</th>\n",
       "      <td>56.605518</td>\n",
       "      <td>-15.499150</td>\n",
       "      <td>64.515419</td>\n",
       "    </tr>\n",
       "    <tr>\n",
       "      <th>23</th>\n",
       "      <td>98.182663</td>\n",
       "      <td>-34.772957</td>\n",
       "      <td>-24.785780</td>\n",
       "    </tr>\n",
       "    <tr>\n",
       "      <th>24</th>\n",
       "      <td>-289.025238</td>\n",
       "      <td>-3.811050</td>\n",
       "      <td>94.799217</td>\n",
       "    </tr>\n",
       "    <tr>\n",
       "      <th>25</th>\n",
       "      <td>-59.626617</td>\n",
       "      <td>-23.973907</td>\n",
       "      <td>33.618275</td>\n",
       "    </tr>\n",
       "    <tr>\n",
       "      <th>26</th>\n",
       "      <td>9.924561</td>\n",
       "      <td>-14.015819</td>\n",
       "      <td>57.055267</td>\n",
       "    </tr>\n",
       "    <tr>\n",
       "      <th>27</th>\n",
       "      <td>20.348598</td>\n",
       "      <td>-171.195648</td>\n",
       "      <td>-227.313889</td>\n",
       "    </tr>\n",
       "    <tr>\n",
       "      <th>28</th>\n",
       "      <td>12.282830</td>\n",
       "      <td>31.365648</td>\n",
       "      <td>54.819412</td>\n",
       "    </tr>\n",
       "    <tr>\n",
       "      <th>29</th>\n",
       "      <td>82.953857</td>\n",
       "      <td>-100.642502</td>\n",
       "      <td>68.645821</td>\n",
       "    </tr>\n",
       "    <tr>\n",
       "      <th>30</th>\n",
       "      <td>-21.382530</td>\n",
       "      <td>119.045876</td>\n",
       "      <td>-129.839401</td>\n",
       "    </tr>\n",
       "    <tr>\n",
       "      <th>31</th>\n",
       "      <td>-20.979198</td>\n",
       "      <td>-17.010391</td>\n",
       "      <td>-18.213326</td>\n",
       "    </tr>\n",
       "    <tr>\n",
       "      <th>32</th>\n",
       "      <td>67.771187</td>\n",
       "      <td>56.234108</td>\n",
       "      <td>-135.537216</td>\n",
       "    </tr>\n",
       "    <tr>\n",
       "      <th>33</th>\n",
       "      <td>-313.476898</td>\n",
       "      <td>-94.300690</td>\n",
       "      <td>11.998507</td>\n",
       "    </tr>\n",
       "    <tr>\n",
       "      <th>34</th>\n",
       "      <td>48.042336</td>\n",
       "      <td>41.104637</td>\n",
       "      <td>73.824417</td>\n",
       "    </tr>\n",
       "    <tr>\n",
       "      <th>35</th>\n",
       "      <td>-250.595581</td>\n",
       "      <td>-81.161186</td>\n",
       "      <td>-20.703384</td>\n",
       "    </tr>\n",
       "    <tr>\n",
       "      <th>36</th>\n",
       "      <td>191.158615</td>\n",
       "      <td>-2.300758</td>\n",
       "      <td>-264.771698</td>\n",
       "    </tr>\n",
       "    <tr>\n",
       "      <th>37</th>\n",
       "      <td>29.592321</td>\n",
       "      <td>49.567364</td>\n",
       "      <td>-14.001518</td>\n",
       "    </tr>\n",
       "    <tr>\n",
       "      <th>38</th>\n",
       "      <td>44.449966</td>\n",
       "      <td>-34.663506</td>\n",
       "      <td>26.818731</td>\n",
       "    </tr>\n",
       "    <tr>\n",
       "      <th>39</th>\n",
       "      <td>-34.101906</td>\n",
       "      <td>-34.159393</td>\n",
       "      <td>-72.238480</td>\n",
       "    </tr>\n",
       "    <tr>\n",
       "      <th>40</th>\n",
       "      <td>-13.012396</td>\n",
       "      <td>-77.109108</td>\n",
       "      <td>114.149956</td>\n",
       "    </tr>\n",
       "    <tr>\n",
       "      <th>41</th>\n",
       "      <td>68.867783</td>\n",
       "      <td>-4.612102</td>\n",
       "      <td>224.737625</td>\n",
       "    </tr>\n",
       "    <tr>\n",
       "      <th>42</th>\n",
       "      <td>69.799950</td>\n",
       "      <td>-4.238004</td>\n",
       "      <td>-55.318981</td>\n",
       "    </tr>\n",
       "    <tr>\n",
       "      <th>43</th>\n",
       "      <td>205.606277</td>\n",
       "      <td>35.702011</td>\n",
       "      <td>-45.104576</td>\n",
       "    </tr>\n",
       "    <tr>\n",
       "      <th>44</th>\n",
       "      <td>96.220909</td>\n",
       "      <td>262.623260</td>\n",
       "      <td>419.199036</td>\n",
       "    </tr>\n",
       "    <tr>\n",
       "      <th>45</th>\n",
       "      <td>25.448471</td>\n",
       "      <td>-3.259122</td>\n",
       "      <td>-95.139526</td>\n",
       "    </tr>\n",
       "    <tr>\n",
       "      <th>46</th>\n",
       "      <td>74.752457</td>\n",
       "      <td>35.094952</td>\n",
       "      <td>17.212521</td>\n",
       "    </tr>\n",
       "    <tr>\n",
       "      <th>47</th>\n",
       "      <td>-235.119247</td>\n",
       "      <td>-160.871017</td>\n",
       "      <td>142.180496</td>\n",
       "    </tr>\n",
       "    <tr>\n",
       "      <th>48</th>\n",
       "      <td>118.315750</td>\n",
       "      <td>377.107758</td>\n",
       "      <td>-26.684713</td>\n",
       "    </tr>\n",
       "  </tbody>\n",
       "</table>\n",
       "</div>"
      ],
      "text/plain": [
       "         TSNE1       TSNE2        TSNE3\n",
       "0   -23.178389   -3.220867    21.237505\n",
       "1  -250.206467 -300.373566     5.019143\n",
       "2     4.962339  -24.507654   -53.072372\n",
       "3  -722.116272  159.159943  2733.287842\n",
       "4   394.650879  127.622719    18.881477\n",
       "5   -31.410391   -4.005569    70.722191\n",
       "6   -79.317238    5.572232  -238.312866\n",
       "7    27.475866    4.874140    13.477080\n",
       "8   -17.240417   89.722435  -255.469131\n",
       "9    -7.620309  -42.214977   280.919159\n",
       "10   19.689651  -44.967056    -9.647125\n",
       "11  -36.020077   26.007179   -59.879734\n",
       "12  -25.465506   32.461758   -19.054808\n",
       "13   35.158493   -0.579450   -26.987461\n",
       "14  -47.708065   37.341690    19.654997\n",
       "15  799.457031 -228.510269 -1955.020752\n",
       "16  112.747757  355.823151  -146.900269\n",
       "17    9.983029   27.590126   -52.654942\n",
       "18   -6.724038  -48.648018    24.349178\n",
       "19  -68.655334 -116.534492   -15.815004\n",
       "20  -27.859388  -57.172703    60.520454\n",
       "21   -0.671329   41.893627    17.082075\n",
       "22   56.605518  -15.499150    64.515419\n",
       "23   98.182663  -34.772957   -24.785780\n",
       "24 -289.025238   -3.811050    94.799217\n",
       "25  -59.626617  -23.973907    33.618275\n",
       "26    9.924561  -14.015819    57.055267\n",
       "27   20.348598 -171.195648  -227.313889\n",
       "28   12.282830   31.365648    54.819412\n",
       "29   82.953857 -100.642502    68.645821\n",
       "30  -21.382530  119.045876  -129.839401\n",
       "31  -20.979198  -17.010391   -18.213326\n",
       "32   67.771187   56.234108  -135.537216\n",
       "33 -313.476898  -94.300690    11.998507\n",
       "34   48.042336   41.104637    73.824417\n",
       "35 -250.595581  -81.161186   -20.703384\n",
       "36  191.158615   -2.300758  -264.771698\n",
       "37   29.592321   49.567364   -14.001518\n",
       "38   44.449966  -34.663506    26.818731\n",
       "39  -34.101906  -34.159393   -72.238480\n",
       "40  -13.012396  -77.109108   114.149956\n",
       "41   68.867783   -4.612102   224.737625\n",
       "42   69.799950   -4.238004   -55.318981\n",
       "43  205.606277   35.702011   -45.104576\n",
       "44   96.220909  262.623260   419.199036\n",
       "45   25.448471   -3.259122   -95.139526\n",
       "46   74.752457   35.094952    17.212521\n",
       "47 -235.119247 -160.871017   142.180496\n",
       "48  118.315750  377.107758   -26.684713"
      ]
     },
     "execution_count": 9,
     "metadata": {},
     "output_type": "execute_result"
    }
   ],
   "source": [
    "tsne = TSNE(n_components=3, verbose=1, perplexity=40, n_iter=300)\n",
    "tsne_results = tsne.fit_transform(X_std) \n",
    "\n",
    "tsneed = pd.DataFrame(tsne_results, columns = ['TSNE1','TSNE2','TSNE3']) # ,'TSNE4','TSNE5','TSNE6'\n",
    "tsneed"
   ]
  },
  {
   "cell_type": "code",
   "execution_count": 10,
   "metadata": {},
   "outputs": [],
   "source": [
    "wcss = []\n",
    "for i in range(1,21):\n",
    "    kmeans_iqr = KMeans(n_clusters = i, init = 'k-means++', random_state = 42)\n",
    "    kmeans_iqr.fit(tsne_results)\n",
    "    wcss.append(kmeans_iqr.inertia_)"
   ]
  },
  {
   "cell_type": "code",
   "execution_count": 11,
   "metadata": {},
   "outputs": [
    {
     "data": {
      "image/png": "[encoded data removed]",
      "text/plain": [
       "<Figure size 720x576 with 1 Axes>"
      ]
     },
     "metadata": {},
     "output_type": "display_data"
    }
   ],
   "source": [
    "plt.figure(figsize = (10,8))\n",
    "plt.plot(range(1,21),wcss,marker = 'o', linestyle = '--')\n",
    "plt.xlabel('Number of Clusters')\n",
    "plt.ylabel('WCSS')\n",
    "plt.title('K-means with 7 Feat TSNE Clustering')\n",
    "plt.show()"
   ]
  },
  {
   "cell_type": "code",
   "execution_count": 12,
   "metadata": {},
   "outputs": [
    {
     "data": {
      "text/plain": [
       "KMeans(n_clusters=5, random_state=42)"
      ]
     },
     "execution_count": 12,
     "metadata": {},
     "output_type": "execute_result"
    }
   ],
   "source": [
    "kmeans_iqr = KMeans(n_clusters = 5, init = 'k-means++',random_state = 42)\n",
    "kmeans_iqr.fit(tsne_results)"
   ]
  },
  {
   "cell_type": "code",
   "execution_count": 13,
   "metadata": {},
   "outputs": [],
   "source": [
    "df_segm_iqr_kmeans = pd.concat([X.reset_index(drop = True), pd.DataFrame(tsne_results,columns = tsneed.columns)], axis = 1)\n",
    "\n",
    "df_segm_iqr_kmeans['Segment K-means IQR'] = kmeans_iqr.labels_\n",
    "df_segm_iqr_kmeans['Cluster'] = df_segm_iqr_kmeans['Segment K-means IQR'].map({0:'first',1:'second',2:'third',3:'fourth',4:'fifth'})\n",
    "df_segm_iqr_kmeans['IN FILE'],df_segm_iqr_kmeans['LAST MOD BY'], df_segm_iqr_kmeans['Genus'] = Y_3,Y_2, Y"
   ]
  },
  {
   "cell_type": "code",
   "execution_count": 14,
   "metadata": {},
   "outputs": [
    {
     "data": {
      "text/html": [
       "<div>\n",
       "<style scoped>\n",
       "    .dataframe tbody tr th:only-of-type {\n",
       "        vertical-align: middle;\n",
       "    }\n",
       "\n",
       "    .dataframe tbody tr th {\n",
       "        vertical-align: top;\n",
       "    }\n",
       "\n",
       "    .dataframe thead th {\n",
       "        text-align: right;\n",
       "    }\n",
       "</style>\n",
       "<table border=\"1\" class=\"dataframe\">\n",
       "  <thead>\n",
       "    <tr style=\"text-align: right;\">\n",
       "      <th></th>\n",
       "      <th>CLIP LENGTH</th>\n",
       "      <th>SUM DURATION</th>\n",
       "      <th>WHITE SPACE</th>\n",
       "      <th>OVERLAP COUNT</th>\n",
       "      <th>MEDIAN DIST B/W ANNS</th>\n",
       "      <th>MEDIAN DURATION</th>\n",
       "      <th>OFFSET COUNT</th>\n",
       "      <th>TSNE1</th>\n",
       "      <th>TSNE2</th>\n",
       "      <th>TSNE3</th>\n",
       "      <th>Segment K-means IQR</th>\n",
       "      <th>Cluster</th>\n",
       "      <th>IN FILE</th>\n",
       "      <th>LAST MOD BY</th>\n",
       "      <th>Genus</th>\n",
       "    </tr>\n",
       "  </thead>\n",
       "  <tbody>\n",
       "    <tr>\n",
       "      <th>0</th>\n",
       "      <td>27.74200</td>\n",
       "      <td>15.9111</td>\n",
       "      <td>11.83090</td>\n",
       "      <td>2</td>\n",
       "      <td>0.18000</td>\n",
       "      <td>0.56505</td>\n",
       "      <td>24</td>\n",
       "      <td>-23.178389</td>\n",
       "      <td>-3.220867</td>\n",
       "      <td>21.237505</td>\n",
       "      <td>0</td>\n",
       "      <td>first</td>\n",
       "      <td>Euphonia-chlorotica-264822.wav</td>\n",
       "      <td>EdZamora</td>\n",
       "      <td>Euphonia</td>\n",
       "    </tr>\n",
       "    <tr>\n",
       "      <th>1</th>\n",
       "      <td>42.88800</td>\n",
       "      <td>20.7294</td>\n",
       "      <td>22.15860</td>\n",
       "      <td>9</td>\n",
       "      <td>0.19000</td>\n",
       "      <td>0.33000</td>\n",
       "      <td>53</td>\n",
       "      <td>-250.206467</td>\n",
       "      <td>-300.373566</td>\n",
       "      <td>5.019143</td>\n",
       "      <td>4</td>\n",
       "      <td>fifth</td>\n",
       "      <td>Euphonia-chlorotica-392016.wav</td>\n",
       "      <td>EdZamora</td>\n",
       "      <td>Euphonia</td>\n",
       "    </tr>\n",
       "    <tr>\n",
       "      <th>2</th>\n",
       "      <td>113.16000</td>\n",
       "      <td>29.9445</td>\n",
       "      <td>83.21550</td>\n",
       "      <td>0</td>\n",
       "      <td>4.66500</td>\n",
       "      <td>1.46000</td>\n",
       "      <td>18</td>\n",
       "      <td>4.962339</td>\n",
       "      <td>-24.507654</td>\n",
       "      <td>-53.072372</td>\n",
       "      <td>0</td>\n",
       "      <td>first</td>\n",
       "      <td>Euphonia-chrysopasta-171246.wav</td>\n",
       "      <td>kkong</td>\n",
       "      <td>Euphonia</td>\n",
       "    </tr>\n",
       "    <tr>\n",
       "      <th>3</th>\n",
       "      <td>17.08410</td>\n",
       "      <td>11.0761</td>\n",
       "      <td>6.00800</td>\n",
       "      <td>0</td>\n",
       "      <td>1.44500</td>\n",
       "      <td>4.13860</td>\n",
       "      <td>3</td>\n",
       "      <td>-722.116272</td>\n",
       "      <td>159.159943</td>\n",
       "      <td>2733.287842</td>\n",
       "      <td>1</td>\n",
       "      <td>second</td>\n",
       "      <td>Euphonia-cyanocephala-275607.wav</td>\n",
       "      <td>kkong</td>\n",
       "      <td>Euphonia</td>\n",
       "    </tr>\n",
       "    <tr>\n",
       "      <th>4</th>\n",
       "      <td>30.48490</td>\n",
       "      <td>27.9454</td>\n",
       "      <td>2.53950</td>\n",
       "      <td>48</td>\n",
       "      <td>-0.02000</td>\n",
       "      <td>0.42495</td>\n",
       "      <td>58</td>\n",
       "      <td>394.650879</td>\n",
       "      <td>127.622719</td>\n",
       "      <td>18.881477</td>\n",
       "      <td>3</td>\n",
       "      <td>fourth</td>\n",
       "      <td>Euphonia-laniirostris-45661.wav</td>\n",
       "      <td>EdZamora</td>\n",
       "      <td>Euphonia</td>\n",
       "    </tr>\n",
       "    <tr>\n",
       "      <th>5</th>\n",
       "      <td>61.89600</td>\n",
       "      <td>32.4877</td>\n",
       "      <td>29.40830</td>\n",
       "      <td>0</td>\n",
       "      <td>0.28000</td>\n",
       "      <td>0.31000</td>\n",
       "      <td>51</td>\n",
       "      <td>-31.410391</td>\n",
       "      <td>-4.005569</td>\n",
       "      <td>70.722191</td>\n",
       "      <td>0</td>\n",
       "      <td>first</td>\n",
       "      <td>Euphonia-mesochrysa-468090.wav</td>\n",
       "      <td>EdZamora</td>\n",
       "      <td>Euphonia</td>\n",
       "    </tr>\n",
       "    <tr>\n",
       "      <th>6</th>\n",
       "      <td>17.59200</td>\n",
       "      <td>5.0306</td>\n",
       "      <td>12.56140</td>\n",
       "      <td>0</td>\n",
       "      <td>5.91840</td>\n",
       "      <td>2.51530</td>\n",
       "      <td>2</td>\n",
       "      <td>-79.317238</td>\n",
       "      <td>5.572232</td>\n",
       "      <td>-238.312866</td>\n",
       "      <td>0</td>\n",
       "      <td>first</td>\n",
       "      <td>Euphonia-rufiventris-427361.wav</td>\n",
       "      <td>kkong</td>\n",
       "      <td>Euphonia</td>\n",
       "    </tr>\n",
       "    <tr>\n",
       "      <th>7</th>\n",
       "      <td>30.04080</td>\n",
       "      <td>3.4600</td>\n",
       "      <td>26.58080</td>\n",
       "      <td>0</td>\n",
       "      <td>10.04030</td>\n",
       "      <td>1.15000</td>\n",
       "      <td>3</td>\n",
       "      <td>27.475866</td>\n",
       "      <td>4.874140</td>\n",
       "      <td>13.477080</td>\n",
       "      <td>0</td>\n",
       "      <td>first</td>\n",
       "      <td>Euphonia-rufiventris-65575.wav</td>\n",
       "      <td>kkong</td>\n",
       "      <td>Euphonia</td>\n",
       "    </tr>\n",
       "    <tr>\n",
       "      <th>8</th>\n",
       "      <td>168.43200</td>\n",
       "      <td>25.0191</td>\n",
       "      <td>143.41290</td>\n",
       "      <td>0</td>\n",
       "      <td>9.22805</td>\n",
       "      <td>1.55500</td>\n",
       "      <td>16</td>\n",
       "      <td>-17.240417</td>\n",
       "      <td>89.722435</td>\n",
       "      <td>-255.469131</td>\n",
       "      <td>0</td>\n",
       "      <td>first</td>\n",
       "      <td>Psarocolius-angustifrons-122307.wav</td>\n",
       "      <td>EdZamora</td>\n",
       "      <td>Psarocolius</td>\n",
       "    </tr>\n",
       "    <tr>\n",
       "      <th>9</th>\n",
       "      <td>110.31500</td>\n",
       "      <td>18.0992</td>\n",
       "      <td>92.21580</td>\n",
       "      <td>0</td>\n",
       "      <td>4.01485</td>\n",
       "      <td>0.98490</td>\n",
       "      <td>18</td>\n",
       "      <td>-7.620309</td>\n",
       "      <td>-42.214977</td>\n",
       "      <td>280.919159</td>\n",
       "      <td>0</td>\n",
       "      <td>first</td>\n",
       "      <td>Psarocolius-angustifrons-27823.wav</td>\n",
       "      <td>kkong</td>\n",
       "      <td>Psarocolius</td>\n",
       "    </tr>\n",
       "    <tr>\n",
       "      <th>10</th>\n",
       "      <td>35.08250</td>\n",
       "      <td>27.8565</td>\n",
       "      <td>7.22600</td>\n",
       "      <td>0</td>\n",
       "      <td>0.07000</td>\n",
       "      <td>2.35020</td>\n",
       "      <td>9</td>\n",
       "      <td>19.689651</td>\n",
       "      <td>-44.967056</td>\n",
       "      <td>-9.647125</td>\n",
       "      <td>0</td>\n",
       "      <td>first</td>\n",
       "      <td>Psarocolius-angustifrons-45659.wav</td>\n",
       "      <td>kkong</td>\n",
       "      <td>Psarocolius</td>\n",
       "    </tr>\n",
       "    <tr>\n",
       "      <th>11</th>\n",
       "      <td>53.06400</td>\n",
       "      <td>4.4995</td>\n",
       "      <td>48.56450</td>\n",
       "      <td>0</td>\n",
       "      <td>10.50890</td>\n",
       "      <td>0.85990</td>\n",
       "      <td>5</td>\n",
       "      <td>-36.020077</td>\n",
       "      <td>26.007179</td>\n",
       "      <td>-59.879734</td>\n",
       "      <td>0</td>\n",
       "      <td>first</td>\n",
       "      <td>Psarocolius-atrovirens-228641.wav</td>\n",
       "      <td>kkong</td>\n",
       "      <td>Psarocolius</td>\n",
       "    </tr>\n",
       "    <tr>\n",
       "      <th>12</th>\n",
       "      <td>129.33600</td>\n",
       "      <td>12.9596</td>\n",
       "      <td>116.37640</td>\n",
       "      <td>0</td>\n",
       "      <td>9.46470</td>\n",
       "      <td>0.93995</td>\n",
       "      <td>12</td>\n",
       "      <td>-25.465506</td>\n",
       "      <td>32.461758</td>\n",
       "      <td>-19.054808</td>\n",
       "      <td>0</td>\n",
       "      <td>first</td>\n",
       "      <td>Psarocolius-atrovirens-97799.wav</td>\n",
       "      <td>kkong</td>\n",
       "      <td>Psarocolius</td>\n",
       "    </tr>\n",
       "    <tr>\n",
       "      <th>13</th>\n",
       "      <td>159.74400</td>\n",
       "      <td>30.0883</td>\n",
       "      <td>129.65570</td>\n",
       "      <td>0</td>\n",
       "      <td>9.07965</td>\n",
       "      <td>2.15990</td>\n",
       "      <td>14</td>\n",
       "      <td>35.158493</td>\n",
       "      <td>-0.579450</td>\n",
       "      <td>-26.987461</td>\n",
       "      <td>0</td>\n",
       "      <td>first</td>\n",
       "      <td>Psarocolius-bifasciatus-128985.wav</td>\n",
       "      <td>kkong</td>\n",
       "      <td>Psarocolius</td>\n",
       "    </tr>\n",
       "    <tr>\n",
       "      <th>14</th>\n",
       "      <td>100.44100</td>\n",
       "      <td>13.8401</td>\n",
       "      <td>86.60090</td>\n",
       "      <td>0</td>\n",
       "      <td>15.18515</td>\n",
       "      <td>2.31500</td>\n",
       "      <td>6</td>\n",
       "      <td>-47.708065</td>\n",
       "      <td>37.341690</td>\n",
       "      <td>19.654997</td>\n",
       "      <td>0</td>\n",
       "      <td>first</td>\n",
       "      <td>Psarocolius-bifasciatus-146525.wav</td>\n",
       "      <td>kkong</td>\n",
       "      <td>Psarocolius</td>\n",
       "    </tr>\n",
       "    <tr>\n",
       "      <th>15</th>\n",
       "      <td>56.71180</td>\n",
       "      <td>11.0202</td>\n",
       "      <td>45.69160</td>\n",
       "      <td>0</td>\n",
       "      <td>10.49040</td>\n",
       "      <td>2.15010</td>\n",
       "      <td>5</td>\n",
       "      <td>799.457031</td>\n",
       "      <td>-228.510269</td>\n",
       "      <td>-1955.020752</td>\n",
       "      <td>2</td>\n",
       "      <td>third</td>\n",
       "      <td>Psarocolius-bifasciatus-38449.wav</td>\n",
       "      <td>kkong</td>\n",
       "      <td>Psarocolius</td>\n",
       "    </tr>\n",
       "    <tr>\n",
       "      <th>16</th>\n",
       "      <td>100.65600</td>\n",
       "      <td>11.9993</td>\n",
       "      <td>88.65670</td>\n",
       "      <td>0</td>\n",
       "      <td>10.99460</td>\n",
       "      <td>1.49490</td>\n",
       "      <td>8</td>\n",
       "      <td>112.747757</td>\n",
       "      <td>355.823151</td>\n",
       "      <td>-146.900269</td>\n",
       "      <td>3</td>\n",
       "      <td>fourth</td>\n",
       "      <td>Psarocolius-decumanus-122330.wav</td>\n",
       "      <td>kkong</td>\n",
       "      <td>Psarocolius</td>\n",
       "    </tr>\n",
       "    <tr>\n",
       "      <th>17</th>\n",
       "      <td>55.39200</td>\n",
       "      <td>6.6602</td>\n",
       "      <td>48.73180</td>\n",
       "      <td>0</td>\n",
       "      <td>8.11030</td>\n",
       "      <td>1.10500</td>\n",
       "      <td>6</td>\n",
       "      <td>9.983029</td>\n",
       "      <td>27.590126</td>\n",
       "      <td>-52.654942</td>\n",
       "      <td>0</td>\n",
       "      <td>first</td>\n",
       "      <td>Psarocolius-decumanus-76074.wav</td>\n",
       "      <td>kkong</td>\n",
       "      <td>Psarocolius</td>\n",
       "    </tr>\n",
       "    <tr>\n",
       "      <th>18</th>\n",
       "      <td>16.92730</td>\n",
       "      <td>5.9891</td>\n",
       "      <td>10.93820</td>\n",
       "      <td>0</td>\n",
       "      <td>4.38930</td>\n",
       "      <td>1.98970</td>\n",
       "      <td>3</td>\n",
       "      <td>-6.724038</td>\n",
       "      <td>-48.648018</td>\n",
       "      <td>24.349178</td>\n",
       "      <td>0</td>\n",
       "      <td>first</td>\n",
       "      <td>Saltator-coerulescens-188095.wav</td>\n",
       "      <td>EdZamora</td>\n",
       "      <td>Saltator</td>\n",
       "    </tr>\n",
       "    <tr>\n",
       "      <th>19</th>\n",
       "      <td>38.26940</td>\n",
       "      <td>6.6798</td>\n",
       "      <td>31.58960</td>\n",
       "      <td>0</td>\n",
       "      <td>2.07495</td>\n",
       "      <td>0.47000</td>\n",
       "      <td>14</td>\n",
       "      <td>-68.655334</td>\n",
       "      <td>-116.534492</td>\n",
       "      <td>-15.815004</td>\n",
       "      <td>0</td>\n",
       "      <td>first</td>\n",
       "      <td>Saltator-coerulescens-259778.wav</td>\n",
       "      <td>EdZamora</td>\n",
       "      <td>Saltator</td>\n",
       "    </tr>\n",
       "    <tr>\n",
       "      <th>20</th>\n",
       "      <td>15.54290</td>\n",
       "      <td>6.4869</td>\n",
       "      <td>9.05600</td>\n",
       "      <td>0</td>\n",
       "      <td>3.74330</td>\n",
       "      <td>2.20890</td>\n",
       "      <td>3</td>\n",
       "      <td>-27.859388</td>\n",
       "      <td>-57.172703</td>\n",
       "      <td>60.520454</td>\n",
       "      <td>0</td>\n",
       "      <td>first</td>\n",
       "      <td>Saltator-coerulescens-270937.wav</td>\n",
       "      <td>EdZamora</td>\n",
       "      <td>Saltator</td>\n",
       "    </tr>\n",
       "    <tr>\n",
       "      <th>21</th>\n",
       "      <td>22.59590</td>\n",
       "      <td>7.4986</td>\n",
       "      <td>15.09730</td>\n",
       "      <td>0</td>\n",
       "      <td>3.14940</td>\n",
       "      <td>1.47970</td>\n",
       "      <td>5</td>\n",
       "      <td>-0.671329</td>\n",
       "      <td>41.893627</td>\n",
       "      <td>17.082075</td>\n",
       "      <td>0</td>\n",
       "      <td>first</td>\n",
       "      <td>Saltator-grossus-151795.wav</td>\n",
       "      <td>kkong</td>\n",
       "      <td>Saltator</td>\n",
       "    </tr>\n",
       "    <tr>\n",
       "      <th>22</th>\n",
       "      <td>26.07020</td>\n",
       "      <td>9.1801</td>\n",
       "      <td>16.89010</td>\n",
       "      <td>0</td>\n",
       "      <td>2.61750</td>\n",
       "      <td>1.52500</td>\n",
       "      <td>6</td>\n",
       "      <td>56.605518</td>\n",
       "      <td>-15.499150</td>\n",
       "      <td>64.515419</td>\n",
       "      <td>0</td>\n",
       "      <td>first</td>\n",
       "      <td>Saltator-grossus-259800.wav</td>\n",
       "      <td>EdZamora</td>\n",
       "      <td>Saltator</td>\n",
       "    </tr>\n",
       "    <tr>\n",
       "      <th>23</th>\n",
       "      <td>42.52730</td>\n",
       "      <td>5.1597</td>\n",
       "      <td>37.36760</td>\n",
       "      <td>0</td>\n",
       "      <td>5.71960</td>\n",
       "      <td>1.35490</td>\n",
       "      <td>4</td>\n",
       "      <td>98.182663</td>\n",
       "      <td>-34.772957</td>\n",
       "      <td>-24.785780</td>\n",
       "      <td>0</td>\n",
       "      <td>first</td>\n",
       "      <td>Saltator-grossus-27833.wav</td>\n",
       "      <td>EdZamora</td>\n",
       "      <td>Saltator</td>\n",
       "    </tr>\n",
       "    <tr>\n",
       "      <th>24</th>\n",
       "      <td>35.84000</td>\n",
       "      <td>7.7100</td>\n",
       "      <td>28.13000</td>\n",
       "      <td>0</td>\n",
       "      <td>6.22000</td>\n",
       "      <td>1.71000</td>\n",
       "      <td>5</td>\n",
       "      <td>-289.025238</td>\n",
       "      <td>-3.811050</td>\n",
       "      <td>94.799217</td>\n",
       "      <td>4</td>\n",
       "      <td>fifth</td>\n",
       "      <td>Saltator-maximus-214115.wav</td>\n",
       "      <td>EdZamora</td>\n",
       "      <td>Saltator</td>\n",
       "    </tr>\n",
       "    <tr>\n",
       "      <th>25</th>\n",
       "      <td>48.95350</td>\n",
       "      <td>19.7372</td>\n",
       "      <td>29.21630</td>\n",
       "      <td>0</td>\n",
       "      <td>0.72990</td>\n",
       "      <td>0.64990</td>\n",
       "      <td>31</td>\n",
       "      <td>-59.626617</td>\n",
       "      <td>-23.973907</td>\n",
       "      <td>33.618275</td>\n",
       "      <td>0</td>\n",
       "      <td>first</td>\n",
       "      <td>Saltator-maximus-214117.wav</td>\n",
       "      <td>EdZamora</td>\n",
       "      <td>Saltator</td>\n",
       "    </tr>\n",
       "    <tr>\n",
       "      <th>26</th>\n",
       "      <td>42.69600</td>\n",
       "      <td>18.1782</td>\n",
       "      <td>24.51780</td>\n",
       "      <td>0</td>\n",
       "      <td>1.10490</td>\n",
       "      <td>0.83490</td>\n",
       "      <td>22</td>\n",
       "      <td>9.924561</td>\n",
       "      <td>-14.015819</td>\n",
       "      <td>57.055267</td>\n",
       "      <td>0</td>\n",
       "      <td>first</td>\n",
       "      <td>Saltator-maximus-450251.wav</td>\n",
       "      <td>EdZamora</td>\n",
       "      <td>Saltator</td>\n",
       "    </tr>\n",
       "    <tr>\n",
       "      <th>27</th>\n",
       "      <td>28.60800</td>\n",
       "      <td>12.7392</td>\n",
       "      <td>15.86880</td>\n",
       "      <td>0</td>\n",
       "      <td>2.50980</td>\n",
       "      <td>2.13490</td>\n",
       "      <td>6</td>\n",
       "      <td>20.348598</td>\n",
       "      <td>-171.195648</td>\n",
       "      <td>-227.313889</td>\n",
       "      <td>0</td>\n",
       "      <td>first</td>\n",
       "      <td>Schiffornis-aenea-542811.wav</td>\n",
       "      <td>EdZamora</td>\n",
       "      <td>Schiffornis</td>\n",
       "    </tr>\n",
       "    <tr>\n",
       "      <th>28</th>\n",
       "      <td>29.61600</td>\n",
       "      <td>16.1878</td>\n",
       "      <td>13.42820</td>\n",
       "      <td>0</td>\n",
       "      <td>1.72480</td>\n",
       "      <td>2.02975</td>\n",
       "      <td>8</td>\n",
       "      <td>12.282830</td>\n",
       "      <td>31.365648</td>\n",
       "      <td>54.819412</td>\n",
       "      <td>0</td>\n",
       "      <td>first</td>\n",
       "      <td>Schiffornis-aenea-542813.wav</td>\n",
       "      <td>EdZamora</td>\n",
       "      <td>Schiffornis</td>\n",
       "    </tr>\n",
       "    <tr>\n",
       "      <th>29</th>\n",
       "      <td>33.48000</td>\n",
       "      <td>16.8200</td>\n",
       "      <td>16.66000</td>\n",
       "      <td>0</td>\n",
       "      <td>2.20500</td>\n",
       "      <td>2.11000</td>\n",
       "      <td>9</td>\n",
       "      <td>82.953857</td>\n",
       "      <td>-100.642502</td>\n",
       "      <td>68.645821</td>\n",
       "      <td>0</td>\n",
       "      <td>first</td>\n",
       "      <td>Schiffornis-aenea-542814.wav</td>\n",
       "      <td>EdZamora</td>\n",
       "      <td>Schiffornis</td>\n",
       "    </tr>\n",
       "    <tr>\n",
       "      <th>30</th>\n",
       "      <td>27.04800</td>\n",
       "      <td>7.1194</td>\n",
       "      <td>19.92860</td>\n",
       "      <td>0</td>\n",
       "      <td>2.27535</td>\n",
       "      <td>1.19990</td>\n",
       "      <td>6</td>\n",
       "      <td>-21.382530</td>\n",
       "      <td>119.045876</td>\n",
       "      <td>-129.839401</td>\n",
       "      <td>0</td>\n",
       "      <td>first</td>\n",
       "      <td>Schiffornis-major-102619.wav</td>\n",
       "      <td>EdZamora</td>\n",
       "      <td>Schiffornis</td>\n",
       "    </tr>\n",
       "    <tr>\n",
       "      <th>31</th>\n",
       "      <td>60.01200</td>\n",
       "      <td>14.0703</td>\n",
       "      <td>45.94170</td>\n",
       "      <td>0</td>\n",
       "      <td>0.05500</td>\n",
       "      <td>0.55500</td>\n",
       "      <td>24</td>\n",
       "      <td>-20.979198</td>\n",
       "      <td>-17.010391</td>\n",
       "      <td>-18.213326</td>\n",
       "      <td>0</td>\n",
       "      <td>first</td>\n",
       "      <td>Schiffornis-major-229321.wav</td>\n",
       "      <td>EdZamora</td>\n",
       "      <td>Schiffornis</td>\n",
       "    </tr>\n",
       "    <tr>\n",
       "      <th>32</th>\n",
       "      <td>9.14286</td>\n",
       "      <td>6.9669</td>\n",
       "      <td>2.17596</td>\n",
       "      <td>0</td>\n",
       "      <td>0.04260</td>\n",
       "      <td>0.79840</td>\n",
       "      <td>9</td>\n",
       "      <td>67.771187</td>\n",
       "      <td>56.234108</td>\n",
       "      <td>-135.537216</td>\n",
       "      <td>0</td>\n",
       "      <td>first</td>\n",
       "      <td>Schiffornis-major-296584.wav</td>\n",
       "      <td>EdZamora</td>\n",
       "      <td>Schiffornis</td>\n",
       "    </tr>\n",
       "    <tr>\n",
       "      <th>33</th>\n",
       "      <td>21.15920</td>\n",
       "      <td>8.5397</td>\n",
       "      <td>12.61950</td>\n",
       "      <td>3</td>\n",
       "      <td>0.02000</td>\n",
       "      <td>0.82000</td>\n",
       "      <td>9</td>\n",
       "      <td>-313.476898</td>\n",
       "      <td>-94.300690</td>\n",
       "      <td>11.998507</td>\n",
       "      <td>4</td>\n",
       "      <td>fifth</td>\n",
       "      <td>Schiffornis-turdina-151821.wav</td>\n",
       "      <td>EdZamora</td>\n",
       "      <td>Schiffornis</td>\n",
       "    </tr>\n",
       "    <tr>\n",
       "      <th>34</th>\n",
       "      <td>82.10290</td>\n",
       "      <td>21.4982</td>\n",
       "      <td>60.60470</td>\n",
       "      <td>7</td>\n",
       "      <td>0.01045</td>\n",
       "      <td>1.12990</td>\n",
       "      <td>18</td>\n",
       "      <td>48.042336</td>\n",
       "      <td>41.104637</td>\n",
       "      <td>73.824417</td>\n",
       "      <td>0</td>\n",
       "      <td>first</td>\n",
       "      <td>Schiffornis-turdina-27841.wav</td>\n",
       "      <td>EdZamora</td>\n",
       "      <td>Schiffornis</td>\n",
       "    </tr>\n",
       "    <tr>\n",
       "      <th>35</th>\n",
       "      <td>57.04800</td>\n",
       "      <td>11.8195</td>\n",
       "      <td>45.22850</td>\n",
       "      <td>0</td>\n",
       "      <td>0.10550</td>\n",
       "      <td>0.52495</td>\n",
       "      <td>16</td>\n",
       "      <td>-250.595581</td>\n",
       "      <td>-81.161186</td>\n",
       "      <td>-20.703384</td>\n",
       "      <td>4</td>\n",
       "      <td>fifth</td>\n",
       "      <td>Schiffornis-turdina-76029.wav</td>\n",
       "      <td>EdZamora</td>\n",
       "      <td>Schiffornis</td>\n",
       "    </tr>\n",
       "    <tr>\n",
       "      <th>36</th>\n",
       "      <td>22.90940</td>\n",
       "      <td>9.5597</td>\n",
       "      <td>13.34970</td>\n",
       "      <td>0</td>\n",
       "      <td>1.15000</td>\n",
       "      <td>0.54000</td>\n",
       "      <td>11</td>\n",
       "      <td>191.158615</td>\n",
       "      <td>-2.300758</td>\n",
       "      <td>-264.771698</td>\n",
       "      <td>0</td>\n",
       "      <td>first</td>\n",
       "      <td>Tangara-callophrys-296563.wav</td>\n",
       "      <td>kkong</td>\n",
       "      <td>Tangara</td>\n",
       "    </tr>\n",
       "    <tr>\n",
       "      <th>37</th>\n",
       "      <td>22.85710</td>\n",
       "      <td>20.2372</td>\n",
       "      <td>2.61990</td>\n",
       "      <td>0</td>\n",
       "      <td>0.27000</td>\n",
       "      <td>1.34980</td>\n",
       "      <td>9</td>\n",
       "      <td>29.592321</td>\n",
       "      <td>49.567364</td>\n",
       "      <td>-14.001518</td>\n",
       "      <td>0</td>\n",
       "      <td>first</td>\n",
       "      <td>Tangara-mexicana-297052.wav</td>\n",
       "      <td>kkong</td>\n",
       "      <td>Tangara</td>\n",
       "    </tr>\n",
       "    <tr>\n",
       "      <th>38</th>\n",
       "      <td>7.41600</td>\n",
       "      <td>6.9576</td>\n",
       "      <td>0.45840</td>\n",
       "      <td>0</td>\n",
       "      <td>0.06950</td>\n",
       "      <td>0.84715</td>\n",
       "      <td>6</td>\n",
       "      <td>44.449966</td>\n",
       "      <td>-34.663506</td>\n",
       "      <td>26.818731</td>\n",
       "      <td>0</td>\n",
       "      <td>first</td>\n",
       "      <td>Tangara-mexicana-428038.wav</td>\n",
       "      <td>kkong</td>\n",
       "      <td>Tangara</td>\n",
       "    </tr>\n",
       "    <tr>\n",
       "      <th>39</th>\n",
       "      <td>54.90940</td>\n",
       "      <td>48.3395</td>\n",
       "      <td>6.56990</td>\n",
       "      <td>0</td>\n",
       "      <td>0.37500</td>\n",
       "      <td>3.59490</td>\n",
       "      <td>12</td>\n",
       "      <td>-34.101906</td>\n",
       "      <td>-34.159393</td>\n",
       "      <td>-72.238480</td>\n",
       "      <td>0</td>\n",
       "      <td>first</td>\n",
       "      <td>Tangara-nigroviridis-261182.wav</td>\n",
       "      <td>kkong</td>\n",
       "      <td>Tangara</td>\n",
       "    </tr>\n",
       "    <tr>\n",
       "      <th>40</th>\n",
       "      <td>12.51270</td>\n",
       "      <td>7.0124</td>\n",
       "      <td>5.50030</td>\n",
       "      <td>0</td>\n",
       "      <td>0.85875</td>\n",
       "      <td>1.01235</td>\n",
       "      <td>6</td>\n",
       "      <td>-13.012396</td>\n",
       "      <td>-77.109108</td>\n",
       "      <td>114.149956</td>\n",
       "      <td>0</td>\n",
       "      <td>first</td>\n",
       "      <td>Tangara-nigroviridis-261185.wav</td>\n",
       "      <td>kkong</td>\n",
       "      <td>Tangara</td>\n",
       "    </tr>\n",
       "    <tr>\n",
       "      <th>41</th>\n",
       "      <td>17.18860</td>\n",
       "      <td>5.8895</td>\n",
       "      <td>11.29910</td>\n",
       "      <td>0</td>\n",
       "      <td>3.31980</td>\n",
       "      <td>0.64000</td>\n",
       "      <td>3</td>\n",
       "      <td>68.867783</td>\n",
       "      <td>-4.612102</td>\n",
       "      <td>224.737625</td>\n",
       "      <td>0</td>\n",
       "      <td>first</td>\n",
       "      <td>Tangara-nigroviridis-262564.wav</td>\n",
       "      <td>kkong</td>\n",
       "      <td>Tangara</td>\n",
       "    </tr>\n",
       "    <tr>\n",
       "      <th>42</th>\n",
       "      <td>14.75920</td>\n",
       "      <td>10.0894</td>\n",
       "      <td>4.66980</td>\n",
       "      <td>0</td>\n",
       "      <td>0.57000</td>\n",
       "      <td>0.79000</td>\n",
       "      <td>5</td>\n",
       "      <td>69.799950</td>\n",
       "      <td>-4.238004</td>\n",
       "      <td>-55.318981</td>\n",
       "      <td>0</td>\n",
       "      <td>first</td>\n",
       "      <td>Tangara-schrankii-150598.wav</td>\n",
       "      <td>kkong</td>\n",
       "      <td>Tangara</td>\n",
       "    </tr>\n",
       "    <tr>\n",
       "      <th>43</th>\n",
       "      <td>34.48800</td>\n",
       "      <td>24.4984</td>\n",
       "      <td>9.98960</td>\n",
       "      <td>0</td>\n",
       "      <td>0.68500</td>\n",
       "      <td>1.71985</td>\n",
       "      <td>12</td>\n",
       "      <td>205.606277</td>\n",
       "      <td>35.702011</td>\n",
       "      <td>-45.104576</td>\n",
       "      <td>0</td>\n",
       "      <td>first</td>\n",
       "      <td>Tangara-schrankii-230521.wav</td>\n",
       "      <td>kkong</td>\n",
       "      <td>Tangara</td>\n",
       "    </tr>\n",
       "    <tr>\n",
       "      <th>44</th>\n",
       "      <td>26.72330</td>\n",
       "      <td>20.2848</td>\n",
       "      <td>6.43850</td>\n",
       "      <td>0</td>\n",
       "      <td>0.27320</td>\n",
       "      <td>3.53410</td>\n",
       "      <td>6</td>\n",
       "      <td>96.220909</td>\n",
       "      <td>262.623260</td>\n",
       "      <td>419.199036</td>\n",
       "      <td>3</td>\n",
       "      <td>fourth</td>\n",
       "      <td>Tangara-schrankii-436529.wav</td>\n",
       "      <td>kkong</td>\n",
       "      <td>Tangara</td>\n",
       "    </tr>\n",
       "    <tr>\n",
       "      <th>45</th>\n",
       "      <td>4.33633</td>\n",
       "      <td>1.2918</td>\n",
       "      <td>3.04453</td>\n",
       "      <td>0</td>\n",
       "      <td>0.45770</td>\n",
       "      <td>0.19875</td>\n",
       "      <td>4</td>\n",
       "      <td>25.448471</td>\n",
       "      <td>-3.259122</td>\n",
       "      <td>-95.139526</td>\n",
       "      <td>0</td>\n",
       "      <td>first</td>\n",
       "      <td>Tangara-velia-206320.wav</td>\n",
       "      <td>kkong</td>\n",
       "      <td>Tangara</td>\n",
       "    </tr>\n",
       "    <tr>\n",
       "      <th>46</th>\n",
       "      <td>87.38400</td>\n",
       "      <td>74.5251</td>\n",
       "      <td>12.85890</td>\n",
       "      <td>0</td>\n",
       "      <td>0.47990</td>\n",
       "      <td>3.06970</td>\n",
       "      <td>21</td>\n",
       "      <td>74.752457</td>\n",
       "      <td>35.094952</td>\n",
       "      <td>17.212521</td>\n",
       "      <td>0</td>\n",
       "      <td>first</td>\n",
       "      <td>Tangara-velia-499792.wav</td>\n",
       "      <td>kkong</td>\n",
       "      <td>Tangara</td>\n",
       "    </tr>\n",
       "    <tr>\n",
       "      <th>47</th>\n",
       "      <td>34.92570</td>\n",
       "      <td>21.1973</td>\n",
       "      <td>13.72840</td>\n",
       "      <td>0</td>\n",
       "      <td>1.05980</td>\n",
       "      <td>1.42990</td>\n",
       "      <td>13</td>\n",
       "      <td>-235.119247</td>\n",
       "      <td>-160.871017</td>\n",
       "      <td>142.180496</td>\n",
       "      <td>4</td>\n",
       "      <td>fifth</td>\n",
       "      <td>Tangara-velia-9654.wav</td>\n",
       "      <td>kkong</td>\n",
       "      <td>Tangara</td>\n",
       "    </tr>\n",
       "    <tr>\n",
       "      <th>48</th>\n",
       "      <td>23.40000</td>\n",
       "      <td>9.9500</td>\n",
       "      <td>13.45000</td>\n",
       "      <td>0</td>\n",
       "      <td>1.32500</td>\n",
       "      <td>0.53000</td>\n",
       "      <td>10</td>\n",
       "      <td>118.315750</td>\n",
       "      <td>377.107758</td>\n",
       "      <td>-26.684713</td>\n",
       "      <td>3</td>\n",
       "      <td>fourth</td>\n",
       "      <td>Tangara-xanthocephala-45830.wav</td>\n",
       "      <td>kkong</td>\n",
       "      <td>Tangara</td>\n",
       "    </tr>\n",
       "  </tbody>\n",
       "</table>\n",
       "</div>"
      ],
      "text/plain": [
       "    CLIP LENGTH  SUM DURATION  WHITE SPACE  OVERLAP COUNT  \\\n",
       "0      27.74200       15.9111     11.83090              2   \n",
       "1      42.88800       20.7294     22.15860              9   \n",
       "2     113.16000       29.9445     83.21550              0   \n",
       "3      17.08410       11.0761      6.00800              0   \n",
       "4      30.48490       27.9454      2.53950             48   \n",
       "5      61.89600       32.4877     29.40830              0   \n",
       "6      17.59200        5.0306     12.56140              0   \n",
       "7      30.04080        3.4600     26.58080              0   \n",
       "8     168.43200       25.0191    143.41290              0   \n",
       "9     110.31500       18.0992     92.21580              0   \n",
       "10     35.08250       27.8565      7.22600              0   \n",
       "11     53.06400        4.4995     48.56450              0   \n",
       "12    129.33600       12.9596    116.37640              0   \n",
       "13    159.74400       30.0883    129.65570              0   \n",
       "14    100.44100       13.8401     86.60090              0   \n",
       "15     56.71180       11.0202     45.69160              0   \n",
       "16    100.65600       11.9993     88.65670              0   \n",
       "17     55.39200        6.6602     48.73180              0   \n",
       "18     16.92730        5.9891     10.93820              0   \n",
       "19     38.26940        6.6798     31.58960              0   \n",
       "20     15.54290        6.4869      9.05600              0   \n",
       "21     22.59590        7.4986     15.09730              0   \n",
       "22     26.07020        9.1801     16.89010              0   \n",
       "23     42.52730        5.1597     37.36760              0   \n",
       "24     35.84000        7.7100     28.13000              0   \n",
       "25     48.95350       19.7372     29.21630              0   \n",
       "26     42.69600       18.1782     24.51780              0   \n",
       "27     28.60800       12.7392     15.86880              0   \n",
       "28     29.61600       16.1878     13.42820              0   \n",
       "29     33.48000       16.8200     16.66000              0   \n",
       "30     27.04800        7.1194     19.92860              0   \n",
       "31     60.01200       14.0703     45.94170              0   \n",
       "32      9.14286        6.9669      2.17596              0   \n",
       "33     21.15920        8.5397     12.61950              3   \n",
       "34     82.10290       21.4982     60.60470              7   \n",
       "35     57.04800       11.8195     45.22850              0   \n",
       "36     22.90940        9.5597     13.34970              0   \n",
       "37     22.85710       20.2372      2.61990              0   \n",
       "38      7.41600        6.9576      0.45840              0   \n",
       "39     54.90940       48.3395      6.56990              0   \n",
       "40     12.51270        7.0124      5.50030              0   \n",
       "41     17.18860        5.8895     11.29910              0   \n",
       "42     14.75920       10.0894      4.66980              0   \n",
       "43     34.48800       24.4984      9.98960              0   \n",
       "44     26.72330       20.2848      6.43850              0   \n",
       "45      4.33633        1.2918      3.04453              0   \n",
       "46     87.38400       74.5251     12.85890              0   \n",
       "47     34.92570       21.1973     13.72840              0   \n",
       "48     23.40000        9.9500     13.45000              0   \n",
       "\n",
       "    MEDIAN DIST B/W ANNS  MEDIAN DURATION  OFFSET COUNT       TSNE1  \\\n",
       "0                0.18000          0.56505            24  -23.178389   \n",
       "1                0.19000          0.33000            53 -250.206467   \n",
       "2                4.66500          1.46000            18    4.962339   \n",
       "3                1.44500          4.13860             3 -722.116272   \n",
       "4               -0.02000          0.42495            58  394.650879   \n",
       "5                0.28000          0.31000            51  -31.410391   \n",
       "6                5.91840          2.51530             2  -79.317238   \n",
       "7               10.04030          1.15000             3   27.475866   \n",
       "8                9.22805          1.55500            16  -17.240417   \n",
       "9                4.01485          0.98490            18   -7.620309   \n",
       "10               0.07000          2.35020             9   19.689651   \n",
       "11              10.50890          0.85990             5  -36.020077   \n",
       "12               9.46470          0.93995            12  -25.465506   \n",
       "13               9.07965          2.15990            14   35.158493   \n",
       "14              15.18515          2.31500             6  -47.708065   \n",
       "15              10.49040          2.15010             5  799.457031   \n",
       "16              10.99460          1.49490             8  112.747757   \n",
       "17               8.11030          1.10500             6    9.983029   \n",
       "18               4.38930          1.98970             3   -6.724038   \n",
       "19               2.07495          0.47000            14  -68.655334   \n",
       "20               3.74330          2.20890             3  -27.859388   \n",
       "21               3.14940          1.47970             5   -0.671329   \n",
       "22               2.61750          1.52500             6   56.605518   \n",
       "23               5.71960          1.35490             4   98.182663   \n",
       "24               6.22000          1.71000             5 -289.025238   \n",
       "25               0.72990          0.64990            31  -59.626617   \n",
       "26               1.10490          0.83490            22    9.924561   \n",
       "27               2.50980          2.13490             6   20.348598   \n",
       "28               1.72480          2.02975             8   12.282830   \n",
       "29               2.20500          2.11000             9   82.953857   \n",
       "30               2.27535          1.19990             6  -21.382530   \n",
       "31               0.05500          0.55500            24  -20.979198   \n",
       "32               0.04260          0.79840             9   67.771187   \n",
       "33               0.02000          0.82000             9 -313.476898   \n",
       "34               0.01045          1.12990            18   48.042336   \n",
       "35               0.10550          0.52495            16 -250.595581   \n",
       "36               1.15000          0.54000            11  191.158615   \n",
       "37               0.27000          1.34980             9   29.592321   \n",
       "38               0.06950          0.84715             6   44.449966   \n",
       "39               0.37500          3.59490            12  -34.101906   \n",
       "40               0.85875          1.01235             6  -13.012396   \n",
       "41               3.31980          0.64000             3   68.867783   \n",
       "42               0.57000          0.79000             5   69.799950   \n",
       "43               0.68500          1.71985            12  205.606277   \n",
       "44               0.27320          3.53410             6   96.220909   \n",
       "45               0.45770          0.19875             4   25.448471   \n",
       "46               0.47990          3.06970            21   74.752457   \n",
       "47               1.05980          1.42990            13 -235.119247   \n",
       "48               1.32500          0.53000            10  118.315750   \n",
       "\n",
       "         TSNE2        TSNE3  Segment K-means IQR Cluster  \\\n",
       "0    -3.220867    21.237505                    0   first   \n",
       "1  -300.373566     5.019143                    4   fifth   \n",
       "2   -24.507654   -53.072372                    0   first   \n",
       "3   159.159943  2733.287842                    1  second   \n",
       "4   127.622719    18.881477                    3  fourth   \n",
       "5    -4.005569    70.722191                    0   first   \n",
       "6     5.572232  -238.312866                    0   first   \n",
       "7     4.874140    13.477080                    0   first   \n",
       "8    89.722435  -255.469131                    0   first   \n",
       "9   -42.214977   280.919159                    0   first   \n",
       "10  -44.967056    -9.647125                    0   first   \n",
       "11   26.007179   -59.879734                    0   first   \n",
       "12   32.461758   -19.054808                    0   first   \n",
       "13   -0.579450   -26.987461                    0   first   \n",
       "14   37.341690    19.654997                    0   first   \n",
       "15 -228.510269 -1955.020752                    2   third   \n",
       "16  355.823151  -146.900269                    3  fourth   \n",
       "17   27.590126   -52.654942                    0   first   \n",
       "18  -48.648018    24.349178                    0   first   \n",
       "19 -116.534492   -15.815004                    0   first   \n",
       "20  -57.172703    60.520454                    0   first   \n",
       "21   41.893627    17.082075                    0   first   \n",
       "22  -15.499150    64.515419                    0   first   \n",
       "23  -34.772957   -24.785780                    0   first   \n",
       "24   -3.811050    94.799217                    4   fifth   \n",
       "25  -23.973907    33.618275                    0   first   \n",
       "26  -14.015819    57.055267                    0   first   \n",
       "27 -171.195648  -227.313889                    0   first   \n",
       "28   31.365648    54.819412                    0   first   \n",
       "29 -100.642502    68.645821                    0   first   \n",
       "30  119.045876  -129.839401                    0   first   \n",
       "31  -17.010391   -18.213326                    0   first   \n",
       "32   56.234108  -135.537216                    0   first   \n",
       "33  -94.300690    11.998507                    4   fifth   \n",
       "34   41.104637    73.824417                    0   first   \n",
       "35  -81.161186   -20.703384                    4   fifth   \n",
       "36   -2.300758  -264.771698                    0   first   \n",
       "37   49.567364   -14.001518                    0   first   \n",
       "38  -34.663506    26.818731                    0   first   \n",
       "39  -34.159393   -72.238480                    0   first   \n",
       "40  -77.109108   114.149956                    0   first   \n",
       "41   -4.612102   224.737625                    0   first   \n",
       "42   -4.238004   -55.318981                    0   first   \n",
       "43   35.702011   -45.104576                    0   first   \n",
       "44  262.623260   419.199036                    3  fourth   \n",
       "45   -3.259122   -95.139526                    0   first   \n",
       "46   35.094952    17.212521                    0   first   \n",
       "47 -160.871017   142.180496                    4   fifth   \n",
       "48  377.107758   -26.684713                    3  fourth   \n",
       "\n",
       "                                IN FILE LAST MOD BY        Genus  \n",
       "0        Euphonia-chlorotica-264822.wav    EdZamora     Euphonia  \n",
       "1        Euphonia-chlorotica-392016.wav    EdZamora     Euphonia  \n",
       "2       Euphonia-chrysopasta-171246.wav       kkong     Euphonia  \n",
       "3      Euphonia-cyanocephala-275607.wav       kkong     Euphonia  \n",
       "4       Euphonia-laniirostris-45661.wav    EdZamora     Euphonia  \n",
       "5        Euphonia-mesochrysa-468090.wav    EdZamora     Euphonia  \n",
       "6       Euphonia-rufiventris-427361.wav       kkong     Euphonia  \n",
       "7        Euphonia-rufiventris-65575.wav       kkong     Euphonia  \n",
       "8   Psarocolius-angustifrons-122307.wav    EdZamora  Psarocolius  \n",
       "9    Psarocolius-angustifrons-27823.wav       kkong  Psarocolius  \n",
       "10   Psarocolius-angustifrons-45659.wav       kkong  Psarocolius  \n",
       "11    Psarocolius-atrovirens-228641.wav       kkong  Psarocolius  \n",
       "12     Psarocolius-atrovirens-97799.wav       kkong  Psarocolius  \n",
       "13   Psarocolius-bifasciatus-128985.wav       kkong  Psarocolius  \n",
       "14   Psarocolius-bifasciatus-146525.wav       kkong  Psarocolius  \n",
       "15    Psarocolius-bifasciatus-38449.wav       kkong  Psarocolius  \n",
       "16     Psarocolius-decumanus-122330.wav       kkong  Psarocolius  \n",
       "17      Psarocolius-decumanus-76074.wav       kkong  Psarocolius  \n",
       "18     Saltator-coerulescens-188095.wav    EdZamora     Saltator  \n",
       "19     Saltator-coerulescens-259778.wav    EdZamora     Saltator  \n",
       "20     Saltator-coerulescens-270937.wav    EdZamora     Saltator  \n",
       "21          Saltator-grossus-151795.wav       kkong     Saltator  \n",
       "22          Saltator-grossus-259800.wav    EdZamora     Saltator  \n",
       "23           Saltator-grossus-27833.wav    EdZamora     Saltator  \n",
       "24          Saltator-maximus-214115.wav    EdZamora     Saltator  \n",
       "25          Saltator-maximus-214117.wav    EdZamora     Saltator  \n",
       "26          Saltator-maximus-450251.wav    EdZamora     Saltator  \n",
       "27         Schiffornis-aenea-542811.wav    EdZamora  Schiffornis  \n",
       "28         Schiffornis-aenea-542813.wav    EdZamora  Schiffornis  \n",
       "29         Schiffornis-aenea-542814.wav    EdZamora  Schiffornis  \n",
       "30         Schiffornis-major-102619.wav    EdZamora  Schiffornis  \n",
       "31         Schiffornis-major-229321.wav    EdZamora  Schiffornis  \n",
       "32         Schiffornis-major-296584.wav    EdZamora  Schiffornis  \n",
       "33       Schiffornis-turdina-151821.wav    EdZamora  Schiffornis  \n",
       "34        Schiffornis-turdina-27841.wav    EdZamora  Schiffornis  \n",
       "35        Schiffornis-turdina-76029.wav    EdZamora  Schiffornis  \n",
       "36        Tangara-callophrys-296563.wav       kkong      Tangara  \n",
       "37          Tangara-mexicana-297052.wav       kkong      Tangara  \n",
       "38          Tangara-mexicana-428038.wav       kkong      Tangara  \n",
       "39      Tangara-nigroviridis-261182.wav       kkong      Tangara  \n",
       "40      Tangara-nigroviridis-261185.wav       kkong      Tangara  \n",
       "41      Tangara-nigroviridis-262564.wav       kkong      Tangara  \n",
       "42         Tangara-schrankii-150598.wav       kkong      Tangara  \n",
       "43         Tangara-schrankii-230521.wav       kkong      Tangara  \n",
       "44         Tangara-schrankii-436529.wav       kkong      Tangara  \n",
       "45             Tangara-velia-206320.wav       kkong      Tangara  \n",
       "46             Tangara-velia-499792.wav       kkong      Tangara  \n",
       "47               Tangara-velia-9654.wav       kkong      Tangara  \n",
       "48      Tangara-xanthocephala-45830.wav       kkong      Tangara  "
      ]
     },
     "execution_count": 14,
     "metadata": {},
     "output_type": "execute_result"
    }
   ],
   "source": [
    "df_segm_iqr_kmeans"
   ]
  },
  {
   "cell_type": "code",
   "execution_count": 15,
   "metadata": {},
   "outputs": [
    {
     "data": {
      "application/vnd.plotly.v1+json": {
       "config": {
        "plotlyServerURL": "https://plot.ly"
       },
       "data": [
        {
         "hovertemplate": "<b>%{hovertext}</b><br><br>Cluster=first<br>TSNE1=%{x}<br>TSNE2=%{y}<br>TSNE3=%{z}<extra></extra>",
         "hovertext": [
          [
           "Euphonia-chlorotica-264822.wav",
           "EdZamora"
          ],
          [
           "Euphonia-chrysopasta-171246.wav",
           "kkong"
          ],
          [
           "Euphonia-mesochrysa-468090.wav",
           "EdZamora"
          ],
          [
           "Euphonia-rufiventris-427361.wav",
           "kkong"
          ],
          [
           "Euphonia-rufiventris-65575.wav",
           "kkong"
          ],
          [
           "Psarocolius-angustifrons-122307.wav",
           "EdZamora"
          ],
          [
           "Psarocolius-angustifrons-27823.wav",
           "kkong"
          ],
          [
           "Psarocolius-angustifrons-45659.wav",
           "kkong"
          ],
          [
           "Psarocolius-atrovirens-228641.wav",
           "kkong"
          ],
          [
           "Psarocolius-atrovirens-97799.wav",
           "kkong"
          ],
          [
           "Psarocolius-bifasciatus-128985.wav",
           "kkong"
          ],
          [
           "Psarocolius-bifasciatus-146525.wav",
           "kkong"
          ],
          [
           "Psarocolius-decumanus-76074.wav",
           "kkong"
          ],
          [
           "Saltator-coerulescens-188095.wav",
           "EdZamora"
          ],
          [
           "Saltator-coerulescens-259778.wav",
           "EdZamora"
          ],
          [
           "Saltator-coerulescens-270937.wav",
           "EdZamora"
          ],
          [
           "Saltator-grossus-151795.wav",
           "kkong"
          ],
          [
           "Saltator-grossus-259800.wav",
           "EdZamora"
          ],
          [
           "Saltator-grossus-27833.wav",
           "EdZamora"
          ],
          [
           "Saltator-maximus-214117.wav",
           "EdZamora"
          ],
          [
           "Saltator-maximus-450251.wav",
           "EdZamora"
          ],
          [
           "Schiffornis-aenea-542811.wav",
           "EdZamora"
          ],
          [
           "Schiffornis-aenea-542813.wav",
           "EdZamora"
          ],
          [
           "Schiffornis-aenea-542814.wav",
           "EdZamora"
          ],
          [
           "Schiffornis-major-102619.wav",
           "EdZamora"
          ],
          [
           "Schiffornis-major-229321.wav",
           "EdZamora"
          ],
          [
           "Schiffornis-major-296584.wav",
           "EdZamora"
          ],
          [
           "Schiffornis-turdina-27841.wav",
           "EdZamora"
          ],
          [
           "Tangara-callophrys-296563.wav",
           "kkong"
          ],
          [
           "Tangara-mexicana-297052.wav",
           "kkong"
          ],
          [
           "Tangara-mexicana-428038.wav",
           "kkong"
          ],
          [
           "Tangara-nigroviridis-261182.wav",
           "kkong"
          ],
          [
           "Tangara-nigroviridis-261185.wav",
           "kkong"
          ],
          [
           "Tangara-nigroviridis-262564.wav",
           "kkong"
          ],
          [
           "Tangara-schrankii-150598.wav",
           "kkong"
          ],
          [
           "Tangara-schrankii-230521.wav",
           "kkong"
          ],
          [
           "Tangara-velia-206320.wav",
           "kkong"
          ],
          [
           "Tangara-velia-499792.wav",
           "kkong"
          ]
         ],
         "legendgroup": "first",
         "marker": {
          "color": "#636efa",
          "symbol": "circle"
         },
         "mode": "markers",
         "name": "first",
         "scene": "scene",
         "showlegend": true,
         "type": "scatter3d",
         "x": [
          -23.178388595581055,
          4.962339401245117,
          -31.410390853881836,
          -79.3172378540039,
          27.475866317749023,
          -17.24041748046875,
          -7.620308876037598,
          19.689651489257812,
          -36.020076751708984,
          -25.465505599975586,
          35.15849304199219,
          -47.708065032958984,
          9.98302936553955,
          -6.7240376472473145,
          -68.65533447265625,
          -27.85938835144043,
          -0.6713287234306335,
          56.60551834106445,
          98.18266296386719,
          -59.626617431640625,
          9.924560546875,
          20.34859848022461,
          12.282830238342285,
          82.953857421875,
          -21.382530212402344,
          -20.979198455810547,
          67.77118682861328,
          48.042335510253906,
          191.1586151123047,
          29.592321395874023,
          44.44996643066406,
          -34.101905822753906,
          -13.012395858764648,
          68.86778259277344,
          69.7999496459961,
          205.6062774658203,
          25.448471069335938,
          74.75245666503906
         ],
         "y": [
          -3.220867395401001,
          -24.507654190063477,
          -4.0055694580078125,
          5.572232246398926,
          4.874139785766602,
          89.7224349975586,
          -42.2149772644043,
          -44.96705627441406,
          26.007179260253906,
          32.46175765991211,
          -0.5794500112533569,
          37.34169006347656,
          27.590126037597656,
          -48.64801788330078,
          -116.53449249267578,
          -57.17270278930664,
          41.89362716674805,
          -15.499150276184082,
          -34.77295684814453,
          -23.973907470703125,
          -14.01581859588623,
          -171.19564819335938,
          31.36564826965332,
          -100.64250183105469,
          119.0458755493164,
          -17.010391235351562,
          56.234107971191406,
          41.104637145996094,
          -2.300757884979248,
          49.56736373901367,
          -34.66350555419922,
          -34.159393310546875,
          -77.1091079711914,
          -4.6121015548706055,
          -4.238004207611084,
          35.70201110839844,
          -3.259121894836426,
          35.09495162963867
         ],
         "z": [
          21.237504959106445,
          -53.07237243652344,
          70.7221908569336,
          -238.3128662109375,
          13.477080345153809,
          -255.46913146972656,
          280.9191589355469,
          -9.647125244140625,
          -59.87973403930664,
          -19.054807662963867,
          -26.98746109008789,
          19.654996871948242,
          -52.65494155883789,
          24.349178314208984,
          -15.815004348754883,
          60.52045440673828,
          17.082075119018555,
          64.51541900634766,
          -24.78577995300293,
          33.6182746887207,
          57.055267333984375,
          -227.3138885498047,
          54.81941223144531,
          68.64582061767578,
          -129.8394012451172,
          -18.21332550048828,
          -135.53721618652344,
          73.82441711425781,
          -264.7716979980469,
          -14.001518249511719,
          26.8187313079834,
          -72.23847961425781,
          114.14995574951172,
          224.7376251220703,
          -55.3189811706543,
          -45.104576110839844,
          -95.1395263671875,
          17.212520599365234
         ]
        },
        {
         "hovertemplate": "<b>%{hovertext}</b><br><br>Cluster=fifth<br>TSNE1=%{x}<br>TSNE2=%{y}<br>TSNE3=%{z}<extra></extra>",
         "hovertext": [
          [
           "Euphonia-chlorotica-392016.wav",
           "EdZamora"
          ],
          [
           "Saltator-maximus-214115.wav",
           "EdZamora"
          ],
          [
           "Schiffornis-turdina-151821.wav",
           "EdZamora"
          ],
          [
           "Schiffornis-turdina-76029.wav",
           "EdZamora"
          ],
          [
           "Tangara-velia-9654.wav",
           "kkong"
          ]
         ],
         "legendgroup": "fifth",
         "marker": {
          "color": "#EF553B",
          "symbol": "circle"
         },
         "mode": "markers",
         "name": "fifth",
         "scene": "scene",
         "showlegend": true,
         "type": "scatter3d",
         "x": [
          -250.2064666748047,
          -289.0252380371094,
          -313.4768981933594,
          -250.5955810546875,
          -235.11924743652344
         ],
         "y": [
          -300.3735656738281,
          -3.8110504150390625,
          -94.30068969726562,
          -81.16118621826172,
          -160.8710174560547
         ],
         "z": [
          5.0191426277160645,
          94.7992172241211,
          11.998506546020508,
          -20.703384399414062,
          142.1804962158203
         ]
        },
        {
         "hovertemplate": "<b>%{hovertext}</b><br><br>Cluster=second<br>TSNE1=%{x}<br>TSNE2=%{y}<br>TSNE3=%{z}<extra></extra>",
         "hovertext": [
          [
           "Euphonia-cyanocephala-275607.wav",
           "kkong"
          ]
         ],
         "legendgroup": "second",
         "marker": {
          "color": "#00cc96",
          "symbol": "circle"
         },
         "mode": "markers",
         "name": "second",
         "scene": "scene",
         "showlegend": true,
         "type": "scatter3d",
         "x": [
          -722.1162719726562
         ],
         "y": [
          159.15994262695312
         ],
         "z": [
          2733.287841796875
         ]
        },
        {
         "hovertemplate": "<b>%{hovertext}</b><br><br>Cluster=fourth<br>TSNE1=%{x}<br>TSNE2=%{y}<br>TSNE3=%{z}<extra></extra>",
         "hovertext": [
          [
           "Euphonia-laniirostris-45661.wav",
           "EdZamora"
          ],
          [
           "Psarocolius-decumanus-122330.wav",
           "kkong"
          ],
          [
           "Tangara-schrankii-436529.wav",
           "kkong"
          ],
          [
           "Tangara-xanthocephala-45830.wav",
           "kkong"
          ]
         ],
         "legendgroup": "fourth",
         "marker": {
          "color": "#ab63fa",
          "symbol": "circle"
         },
         "mode": "markers",
         "name": "fourth",
         "scene": "scene",
         "showlegend": true,
         "type": "scatter3d",
         "x": [
          394.65087890625,
          112.74775695800781,
          96.22090911865234,
          118.31575012207031
         ],
         "y": [
          127.62271881103516,
          355.8231506347656,
          262.6232604980469,
          377.1077575683594
         ],
         "z": [
          18.88147735595703,
          -146.9002685546875,
          419.19903564453125,
          -26.68471336364746
         ]
        },
        {
         "hovertemplate": "<b>%{hovertext}</b><br><br>Cluster=third<br>TSNE1=%{x}<br>TSNE2=%{y}<br>TSNE3=%{z}<extra></extra>",
         "hovertext": [
          [
           "Psarocolius-bifasciatus-38449.wav",
           "kkong"
          ]
         ],
         "legendgroup": "third",
         "marker": {
          "color": "#FFA15A",
          "symbol": "circle"
         },
         "mode": "markers",
         "name": "third",
         "scene": "scene",
         "showlegend": true,
         "type": "scatter3d",
         "x": [
          799.45703125
         ],
         "y": [
          -228.51026916503906
         ],
         "z": [
          -1955.020751953125
         ]
        },
        {
         "color": "lightblue",
         "opacity": 0.5,
         "type": "mesh3d",
         "x": [
          -23.178388595581055,
          4.962339401245117,
          -31.410390853881836,
          -79.3172378540039,
          27.475866317749023,
          -17.24041748046875,
          -7.620308876037598,
          19.689651489257812,
          -36.020076751708984,
          -25.465505599975586,
          35.15849304199219,
          -47.708065032958984,
          9.98302936553955,
          -6.7240376472473145,
          -68.65533447265625,
          -27.85938835144043,
          -0.6713287234306335,
          56.60551834106445,
          98.18266296386719,
          -59.626617431640625,
          9.924560546875,
          20.34859848022461,
          12.282830238342285,
          82.953857421875,
          -21.382530212402344,
          -20.979198455810547,
          67.77118682861328,
          48.042335510253906,
          191.1586151123047,
          29.592321395874023,
          44.44996643066406,
          -34.101905822753906,
          -13.012395858764648,
          68.86778259277344,
          69.7999496459961,
          205.6062774658203,
          25.448471069335938,
          74.75245666503906
         ],
         "y": [
          -3.220867395401001,
          -24.507654190063477,
          -4.0055694580078125,
          5.572232246398926,
          4.874139785766602,
          89.7224349975586,
          -42.2149772644043,
          -44.96705627441406,
          26.007179260253906,
          32.46175765991211,
          -0.5794500112533569,
          37.34169006347656,
          27.590126037597656,
          -48.64801788330078,
          -116.53449249267578,
          -57.17270278930664,
          41.89362716674805,
          -15.499150276184082,
          -34.77295684814453,
          -23.973907470703125,
          -14.01581859588623,
          -171.19564819335938,
          31.36564826965332,
          -100.64250183105469,
          119.0458755493164,
          -17.010391235351562,
          56.234107971191406,
          41.104637145996094,
          -2.300757884979248,
          49.56736373901367,
          -34.66350555419922,
          -34.159393310546875,
          -77.1091079711914,
          -4.6121015548706055,
          -4.238004207611084,
          35.70201110839844,
          -3.259121894836426,
          35.09495162963867
         ],
         "z": [
          21.237504959106445,
          -53.07237243652344,
          70.7221908569336,
          -238.3128662109375,
          13.477080345153809,
          -255.46913146972656,
          280.9191589355469,
          -9.647125244140625,
          -59.87973403930664,
          -19.054807662963867,
          -26.98746109008789,
          19.654996871948242,
          -52.65494155883789,
          24.349178314208984,
          -15.815004348754883,
          60.52045440673828,
          17.082075119018555,
          64.51541900634766,
          -24.78577995300293,
          33.6182746887207,
          57.055267333984375,
          -227.3138885498047,
          54.81941223144531,
          68.64582061767578,
          -129.8394012451172,
          -18.21332550048828,
          -135.53721618652344,
          73.82441711425781,
          -264.7716979980469,
          -14.001518249511719,
          26.8187313079834,
          -72.23847961425781,
          114.14995574951172,
          224.7376251220703,
          -55.3189811706543,
          -45.104576110839844,
          -95.1395263671875,
          17.212520599365234
         ]
        },
        {
         "color": "lightblue",
         "opacity": 0.5,
         "type": "mesh3d",
         "x": [
          -722.1162719726562
         ],
         "y": [
          159.15994262695312
         ],
         "z": [
          2733.287841796875
         ]
        },
        {
         "color": "lightblue",
         "opacity": 0.5,
         "type": "mesh3d",
         "x": [
          799.45703125
         ],
         "y": [
          -228.51026916503906
         ],
         "z": [
          -1955.020751953125
         ]
        },
        {
         "color": "lightblue",
         "opacity": 0.5,
         "type": "mesh3d",
         "x": [
          394.65087890625,
          112.74775695800781,
          96.22090911865234,
          118.31575012207031
         ],
         "y": [
          127.62271881103516,
          355.8231506347656,
          262.6232604980469,
          377.1077575683594
         ],
         "z": [
          18.88147735595703,
          -146.9002685546875,
          419.19903564453125,
          -26.68471336364746
         ]
        },
        {
         "color": "lightblue",
         "opacity": 0.5,
         "type": "mesh3d",
         "x": [
          -250.2064666748047,
          -289.0252380371094,
          -313.4768981933594,
          -250.5955810546875,
          -235.11924743652344
         ],
         "y": [
          -300.3735656738281,
          -3.8110504150390625,
          -94.30068969726562,
          -81.16118621826172,
          -160.8710174560547
         ],
         "z": [
          5.0191426277160645,
          94.7992172241211,
          11.998506546020508,
          -20.703384399414062,
          142.1804962158203
         ]
        }
       ],
       "layout": {
        "legend": {
         "title": {
          "text": "Cluster"
         },
         "tracegroupgap": 0
        },
        "margin": {
         "t": 60
        },
        "scene": {
         "domain": {
          "x": [
           0,
           1
          ],
          "y": [
           0,
           1
          ]
         },
         "xaxis": {
          "title": {
           "text": "TSNE1"
          }
         },
         "yaxis": {
          "title": {
           "text": "TSNE2"
          }
         },
         "zaxis": {
          "title": {
           "text": "TSNE3"
          }
         }
        },
        "template": {
         "data": {
          "bar": [
           {
            "error_x": {
             "color": "#2a3f5f"
            },
            "error_y": {
             "color": "#2a3f5f"
            },
            "marker": {
             "line": {
              "color": "#E5ECF6",
              "width": 0.5
             },
             "pattern": {
              "fillmode": "overlay",
              "size": 10,
              "solidity": 0.2
             }
            },
            "type": "bar"
           }
          ],
          "barpolar": [
           {
            "marker": {
             "line": {
              "color": "#E5ECF6",
              "width": 0.5
             },
             "pattern": {
              "fillmode": "overlay",
              "size": 10,
              "solidity": 0.2
             }
            },
            "type": "barpolar"
           }
          ],
          "carpet": [
           {
            "aaxis": {
             "endlinecolor": "#2a3f5f",
             "gridcolor": "white",
             "linecolor": "white",
             "minorgridcolor": "white",
             "startlinecolor": "#2a3f5f"
            },
            "baxis": {
             "endlinecolor": "#2a3f5f",
             "gridcolor": "white",
             "linecolor": "white",
             "minorgridcolor": "white",
             "startlinecolor": "#2a3f5f"
            },
            "type": "carpet"
           }
          ],
          "choropleth": [
           {
            "colorbar": {
             "outlinewidth": 0,
             "ticks": ""
            },
            "type": "choropleth"
           }
          ],
          "contour": [
           {
            "colorbar": {
             "outlinewidth": 0,
             "ticks": ""
            },
            "colorscale": [
             [
              0,
              "#0d0887"
             ],
             [
              0.1111111111111111,
              "#46039f"
             ],
             [
              0.2222222222222222,
              "#7201a8"
             ],
             [
              0.3333333333333333,
              "#9c179e"
             ],
             [
              0.4444444444444444,
              "#bd3786"
             ],
             [
              0.5555555555555556,
              "#d8576b"
             ],
             [
              0.6666666666666666,
              "#ed7953"
             ],
             [
              0.7777777777777778,
              "#fb9f3a"
             ],
             [
              0.8888888888888888,
              "#fdca26"
             ],
             [
              1,
              "#f0f921"
             ]
            ],
            "type": "contour"
           }
          ],
          "contourcarpet": [
           {
            "colorbar": {
             "outlinewidth": 0,
             "ticks": ""
            },
            "type": "contourcarpet"
           }
          ],
          "heatmap": [
           {
            "colorbar": {
             "outlinewidth": 0,
             "ticks": ""
            },
            "colorscale": [
             [
              0,
              "#0d0887"
             ],
             [
              0.1111111111111111,
              "#46039f"
             ],
             [
              0.2222222222222222,
              "#7201a8"
             ],
             [
              0.3333333333333333,
              "#9c179e"
             ],
             [
              0.4444444444444444,
              "#bd3786"
             ],
             [
              0.5555555555555556,
              "#d8576b"
             ],
             [
              0.6666666666666666,
              "#ed7953"
             ],
             [
              0.7777777777777778,
              "#fb9f3a"
             ],
             [
              0.8888888888888888,
              "#fdca26"
             ],
             [
              1,
              "#f0f921"
             ]
            ],
            "type": "heatmap"
           }
          ],
          "heatmapgl": [
           {
            "colorbar": {
             "outlinewidth": 0,
             "ticks": ""
            },
            "colorscale": [
             [
              0,
              "#0d0887"
             ],
             [
              0.1111111111111111,
              "#46039f"
             ],
             [
              0.2222222222222222,
              "#7201a8"
             ],
             [
              0.3333333333333333,
              "#9c179e"
             ],
             [
              0.4444444444444444,
              "#bd3786"
             ],
             [
              0.5555555555555556,
              "#d8576b"
             ],
             [
              0.6666666666666666,
              "#ed7953"
             ],
             [
              0.7777777777777778,
              "#fb9f3a"
             ],
             [
              0.8888888888888888,
              "#fdca26"
             ],
             [
              1,
              "#f0f921"
             ]
            ],
            "type": "heatmapgl"
           }
          ],
          "histogram": [
           {
            "marker": {
             "pattern": {
              "fillmode": "overlay",
              "size": 10,
              "solidity": 0.2
             }
            },
            "type": "histogram"
           }
          ],
          "histogram2d": [
           {
            "colorbar": {
             "outlinewidth": 0,
             "ticks": ""
            },
            "colorscale": [
             [
              0,
              "#0d0887"
             ],
             [
              0.1111111111111111,
              "#46039f"
             ],
             [
              0.2222222222222222,
              "#7201a8"
             ],
             [
              0.3333333333333333,
              "#9c179e"
             ],
             [
              0.4444444444444444,
              "#bd3786"
             ],
             [
              0.5555555555555556,
              "#d8576b"
             ],
             [
              0.6666666666666666,
              "#ed7953"
             ],
             [
              0.7777777777777778,
              "#fb9f3a"
             ],
             [
              0.8888888888888888,
              "#fdca26"
             ],
             [
              1,
              "#f0f921"
             ]
            ],
            "type": "histogram2d"
           }
          ],
          "histogram2dcontour": [
           {
            "colorbar": {
             "outlinewidth": 0,
             "ticks": ""
            },
            "colorscale": [
             [
              0,
              "#0d0887"
             ],
             [
              0.1111111111111111,
              "#46039f"
             ],
             [
              0.2222222222222222,
              "#7201a8"
             ],
             [
              0.3333333333333333,
              "#9c179e"
             ],
             [
              0.4444444444444444,
              "#bd3786"
             ],
             [
              0.5555555555555556,
              "#d8576b"
             ],
             [
              0.6666666666666666,
              "#ed7953"
             ],
             [
              0.7777777777777778,
              "#fb9f3a"
             ],
             [
              0.8888888888888888,
              "#fdca26"
             ],
             [
              1,
              "#f0f921"
             ]
            ],
            "type": "histogram2dcontour"
           }
          ],
          "mesh3d": [
           {
            "colorbar": {
             "outlinewidth": 0,
             "ticks": ""
            },
            "type": "mesh3d"
           }
          ],
          "parcoords": [
           {
            "line": {
             "colorbar": {
              "outlinewidth": 0,
              "ticks": ""
             }
            },
            "type": "parcoords"
           }
          ],
          "pie": [
           {
            "automargin": true,
            "type": "pie"
           }
          ],
          "scatter": [
           {
            "marker": {
             "colorbar": {
              "outlinewidth": 0,
              "ticks": ""
             }
            },
            "type": "scatter"
           }
          ],
          "scatter3d": [
           {
            "line": {
             "colorbar": {
              "outlinewidth": 0,
              "ticks": ""
             }
            },
            "marker": {
             "colorbar": {
              "outlinewidth": 0,
              "ticks": ""
             }
            },
            "type": "scatter3d"
           }
          ],
          "scattercarpet": [
           {
            "marker": {
             "colorbar": {
              "outlinewidth": 0,
              "ticks": ""
             }
            },
            "type": "scattercarpet"
           }
          ],
          "scattergeo": [
           {
            "marker": {
             "colorbar": {
              "outlinewidth": 0,
              "ticks": ""
             }
            },
            "type": "scattergeo"
           }
          ],
          "scattergl": [
           {
            "marker": {
             "colorbar": {
              "outlinewidth": 0,
              "ticks": ""
             }
            },
            "type": "scattergl"
           }
          ],
          "scattermapbox": [
           {
            "marker": {
             "colorbar": {
              "outlinewidth": 0,
              "ticks": ""
             }
            },
            "type": "scattermapbox"
           }
          ],
          "scatterpolar": [
           {
            "marker": {
             "colorbar": {
              "outlinewidth": 0,
              "ticks": ""
             }
            },
            "type": "scatterpolar"
           }
          ],
          "scatterpolargl": [
           {
            "marker": {
             "colorbar": {
              "outlinewidth": 0,
              "ticks": ""
             }
            },
            "type": "scatterpolargl"
           }
          ],
          "scatterternary": [
           {
            "marker": {
             "colorbar": {
              "outlinewidth": 0,
              "ticks": ""
             }
            },
            "type": "scatterternary"
           }
          ],
          "surface": [
           {
            "colorbar": {
             "outlinewidth": 0,
             "ticks": ""
            },
            "colorscale": [
             [
              0,
              "#0d0887"
             ],
             [
              0.1111111111111111,
              "#46039f"
             ],
             [
              0.2222222222222222,
              "#7201a8"
             ],
             [
              0.3333333333333333,
              "#9c179e"
             ],
             [
              0.4444444444444444,
              "#bd3786"
             ],
             [
              0.5555555555555556,
              "#d8576b"
             ],
             [
              0.6666666666666666,
              "#ed7953"
             ],
             [
              0.7777777777777778,
              "#fb9f3a"
             ],
             [
              0.8888888888888888,
              "#fdca26"
             ],
             [
              1,
              "#f0f921"
             ]
            ],
            "type": "surface"
           }
          ],
          "table": [
           {
            "cells": {
             "fill": {
              "color": "#EBF0F8"
             },
             "line": {
              "color": "white"
             }
            },
            "header": {
             "fill": {
              "color": "#C8D4E3"
             },
             "line": {
              "color": "white"
             }
            },
            "type": "table"
           }
          ]
         },
         "layout": {
          "annotationdefaults": {
           "arrowcolor": "#2a3f5f",
           "arrowhead": 0,
           "arrowwidth": 1
          },
          "autotypenumbers": "strict",
          "coloraxis": {
           "colorbar": {
            "outlinewidth": 0,
            "ticks": ""
           }
          },
          "colorscale": {
           "diverging": [
            [
             0,
             "#8e0152"
            ],
            [
             0.1,
             "#c51b7d"
            ],
            [
             0.2,
             "#de77ae"
            ],
            [
             0.3,
             "#f1b6da"
            ],
            [
             0.4,
             "#fde0ef"
            ],
            [
             0.5,
             "#f7f7f7"
            ],
            [
             0.6,
             "#e6f5d0"
            ],
            [
             0.7,
             "#b8e186"
            ],
            [
             0.8,
             "#7fbc41"
            ],
            [
             0.9,
             "#4d9221"
            ],
            [
             1,
             "#276419"
            ]
           ],
           "sequential": [
            [
             0,
             "#0d0887"
            ],
            [
             0.1111111111111111,
             "#46039f"
            ],
            [
             0.2222222222222222,
             "#7201a8"
            ],
            [
             0.3333333333333333,
             "#9c179e"
            ],
            [
             0.4444444444444444,
             "#bd3786"
            ],
            [
             0.5555555555555556,
             "#d8576b"
            ],
            [
             0.6666666666666666,
             "#ed7953"
            ],
            [
             0.7777777777777778,
             "#fb9f3a"
            ],
            [
             0.8888888888888888,
             "#fdca26"
            ],
            [
             1,
             "#f0f921"
            ]
           ],
           "sequentialminus": [
            [
             0,
             "#0d0887"
            ],
            [
             0.1111111111111111,
             "#46039f"
            ],
            [
             0.2222222222222222,
             "#7201a8"
            ],
            [
             0.3333333333333333,
             "#9c179e"
            ],
            [
             0.4444444444444444,
             "#bd3786"
            ],
            [
             0.5555555555555556,
             "#d8576b"
            ],
            [
             0.6666666666666666,
             "#ed7953"
            ],
            [
             0.7777777777777778,
             "#fb9f3a"
            ],
            [
             0.8888888888888888,
             "#fdca26"
            ],
            [
             1,
             "#f0f921"
            ]
           ]
          },
          "colorway": [
           "#636efa",
           "#EF553B",
           "#00cc96",
           "#ab63fa",
           "#FFA15A",
           "#19d3f3",
           "#FF6692",
           "#B6E880",
           "#FF97FF",
           "#FECB52"
          ],
          "font": {
           "color": "#2a3f5f"
          },
          "geo": {
           "bgcolor": "white",
           "lakecolor": "white",
           "landcolor": "#E5ECF6",
           "showlakes": true,
           "showland": true,
           "subunitcolor": "white"
          },
          "hoverlabel": {
           "align": "left"
          },
          "hovermode": "closest",
          "mapbox": {
           "style": "light"
          },
          "paper_bgcolor": "white",
          "plot_bgcolor": "#E5ECF6",
          "polar": {
           "angularaxis": {
            "gridcolor": "white",
            "linecolor": "white",
            "ticks": ""
           },
           "bgcolor": "#E5ECF6",
           "radialaxis": {
            "gridcolor": "white",
            "linecolor": "white",
            "ticks": ""
           }
          },
          "scene": {
           "xaxis": {
            "backgroundcolor": "#E5ECF6",
            "gridcolor": "white",
            "gridwidth": 2,
            "linecolor": "white",
            "showbackground": true,
            "ticks": "",
            "zerolinecolor": "white"
           },
           "yaxis": {
            "backgroundcolor": "#E5ECF6",
            "gridcolor": "white",
            "gridwidth": 2,
            "linecolor": "white",
            "showbackground": true,
            "ticks": "",
            "zerolinecolor": "white"
           },
           "zaxis": {
            "backgroundcolor": "#E5ECF6",
            "gridcolor": "white",
            "gridwidth": 2,
            "linecolor": "white",
            "showbackground": true,
            "ticks": "",
            "zerolinecolor": "white"
           }
          },
          "shapedefaults": {
           "line": {
            "color": "#2a3f5f"
           }
          },
          "ternary": {
           "aaxis": {
            "gridcolor": "white",
            "linecolor": "white",
            "ticks": ""
           },
           "baxis": {
            "gridcolor": "white",
            "linecolor": "white",
            "ticks": ""
           },
           "bgcolor": "#E5ECF6",
           "caxis": {
            "gridcolor": "white",
            "linecolor": "white",
            "ticks": ""
           }
          },
          "title": {
           "x": 0.05
          },
          "xaxis": {
           "automargin": true,
           "gridcolor": "white",
           "linecolor": "white",
           "ticks": "",
           "title": {
            "standoff": 15
           },
           "zerolinecolor": "white",
           "zerolinewidth": 2
          },
          "yaxis": {
           "automargin": true,
           "gridcolor": "white",
           "linecolor": "white",
           "ticks": "",
           "title": {
            "standoff": 15
           },
           "zerolinecolor": "white",
           "zerolinewidth": 2
          }
         }
        },
        "title": {
         "text": "EdZamora & kkong Annotations",
         "x": 0.5
        }
       }
      }
     },
     "metadata": {},
     "output_type": "display_data"
    }
   ],
   "source": [
    "import plotly.express as px \n",
    "import plotly.graph_objects as go\n",
    "import numpy as np\n",
    "\n",
    "\n",
    "fig = px.scatter_3d(df_segm_iqr_kmeans, \n",
    "                    x='TSNE1',\n",
    "                    y='TSNE2',\n",
    "                    z='TSNE3' , \n",
    "                    color = df_segm_iqr_kmeans['Cluster'],\n",
    "                    hover_name = list(tuple(zip(df_segm_iqr_kmeans['IN FILE'],df_segm_iqr_kmeans['LAST MOD BY'])))) \n",
    "\n",
    "\n",
    "#color = Y, color_discrete_sequence= px.colors.qualitative.G10)\n",
    "\n",
    "\n",
    "clust_1 = df_segm_iqr_kmeans[df_segm_iqr_kmeans['Cluster'] == 'first']\n",
    "x, y, z = clust_1['TSNE1'], clust_1['TSNE2'], clust_1['TSNE3']\n",
    "fig.add_trace(go.Figure(data=[go.Mesh3d(x=x, y=y, z=z, color='lightblue', opacity=0.50)]).data[0])\n",
    "\n",
    "\n",
    "clust_2 = df_segm_iqr_kmeans[df_segm_iqr_kmeans['Cluster'] == 'second']\n",
    "x2, y2, z2 = clust_2['TSNE1'], clust_2['TSNE2'], clust_2['TSNE3']\n",
    "fig.add_trace(go.Figure(data=[go.Mesh3d(x=x2, y=y2, z=z2, color='lightblue', opacity=0.50)]).data[0])\n",
    "\n",
    "\n",
    "clust_3 = df_segm_iqr_kmeans[df_segm_iqr_kmeans['Cluster'] == 'third']\n",
    "x3, y3, z3 = clust_3['TSNE1'], clust_3['TSNE2'], clust_3['TSNE3']\n",
    "fig.add_trace(go.Figure(data=[go.Mesh3d(x=x3, y=y3, z=z3, color='lightblue', opacity=0.50)]).data[0])\n",
    "\n",
    "\n",
    "clust_4 = df_segm_iqr_kmeans[df_segm_iqr_kmeans['Cluster'] == 'fourth']\n",
    "x4, y4, z4 = clust_4['TSNE1'], clust_4['TSNE2'], clust_4['TSNE3']\n",
    "fig.add_trace(go.Figure(data=[go.Mesh3d(x=x4, y=y4, z=z4, color='lightblue', opacity=0.50)]).data[0])\n",
    "\n",
    "\n",
    "clust_5 = df_segm_iqr_kmeans[df_segm_iqr_kmeans['Cluster'] == 'fifth']\n",
    "x5, y5, z5 = clust_5['TSNE1'], clust_5['TSNE2'], clust_5['TSNE3']\n",
    "fig.add_trace(go.Figure(data=[go.Mesh3d(x=x5, y=y5, z=z5, color='lightblue', opacity=0.50)]).data[0])\n",
    "\n",
    "\n",
    "fig.update_layout(title_text= (' & '.join(df_segm_iqr_kmeans['LAST MOD BY'].unique()) + ' Annotations'), title_x=0.5)\n",
    "fig.show()"
   ]
  }
 ],
 "metadata": {
  "interpreter": {
   "hash": "d1b7c51cb1c07a1a0543a455994ca61e31e66a1747528d0d0492d9b5937ed4ce"
  },
  "kernelspec": {
   "display_name": "Python 3.8.12 ('tweety')",
   "language": "python",
   "name": "python3"
  },
  "language_info": {
   "codemirror_mode": {
    "name": "ipython",
    "version": 3
   },
   "file_extension": ".py",
   "mimetype": "text/x-python",
   "name": "python",
   "nbconvert_exporter": "python",
   "pygments_lexer": "ipython3",
   "version": "3.8.12"
  },
  "orig_nbformat": 4
 },
 "nbformat": 4,
 "nbformat_minor": 2
}
