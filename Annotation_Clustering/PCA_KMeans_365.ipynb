{
 "cells": [
  {
   "cell_type": "code",
   "execution_count": 1,
   "metadata": {},
   "outputs": [],
   "source": [
    "import numpy as np\n",
    "import pandas as pd\n",
    "import matplotlib.pyplot as plt\n",
    "import seaborn as sns\n",
    "import random\n",
    "sns.set()\n",
    "\n",
    "from sklearn.preprocessing import StandardScaler\n",
    "\n",
    "from sklearn.cluster import KMeans\n",
    "from sklearn.decomposition import PCA"
   ]
  },
  {
   "cell_type": "code",
   "execution_count": 2,
   "metadata": {},
   "outputs": [],
   "source": [
    "frame = pd.read_csv('for_data_science_newline_fixed.csv', usecols = [\"IN FILE\",\"CLIP LENGTH\",\"OFFSET\",\"DURATION\",\"MAX FREQ\",\"MIN FREQ\",\"SAMPLE RATE\",\"LAST MOD BY\"])\n",
    "# frame.head(10)"
   ]
  },
  {
   "cell_type": "code",
   "execution_count": 3,
   "metadata": {},
   "outputs": [],
   "source": [
    "CLIP_LENGTHS = frame.groupby(\"IN FILE\")[[\"CLIP LENGTH\"]].max()\n",
    "SUM_DURATIONS = frame.groupby(\"IN FILE\")[[\"DURATION\"]].sum()\n",
    "\n",
    "MEDIAN_DURATIONS = frame.groupby(\"IN FILE\")[[\"DURATION\"]].median()\n",
    "MEDIAN_DURATIONS = MEDIAN_DURATIONS.rename(columns={'DURATION': 'MEDIAN DURATION'})\n",
    "\n",
    "NUMBER_ANN = frame.groupby(\"IN FILE\")[[\"OFFSET\"]].count()\n",
    "NUMBER_ANN = NUMBER_ANN.rename(columns = {'OFFSET':'OFFSET COUNT'})\n",
    "\n",
    "MED_DIST_BW_ANNS = frame.copy(True)\n",
    "\n",
    "MED_DIST_BW_ANNS = MED_DIST_BW_ANNS.sort_values(['IN FILE','OFFSET'])\n",
    "MED_DIST_BW_ANNS['ENDSET'] = MED_DIST_BW_ANNS['OFFSET'] + MED_DIST_BW_ANNS['DURATION']\n",
    "\n",
    "MED_DIST_BW_ANNS = MED_DIST_BW_ANNS[['IN FILE','CLIP LENGTH','OFFSET','ENDSET','LAST MOD BY']]\n",
    "\n",
    "MED_DIST_BW_ANNS['PREV END'] = MED_DIST_BW_ANNS.loc[MED_DIST_BW_ANNS['IN FILE'].shift(-1) == MED_DIST_BW_ANNS['IN FILE'], 'ENDSET']\n",
    "MED_DIST_BW_ANNS['PREV END'] = MED_DIST_BW_ANNS['PREV END'].shift()\n",
    "\n",
    "MED_DIST_BW_ANNS = MED_DIST_BW_ANNS.fillna(0)\n",
    "MED_DIST_BW_ANNS['DIST BETWEEN ANN PREV'] = MED_DIST_BW_ANNS['OFFSET'] - MED_DIST_BW_ANNS['PREV END']\n",
    "\n",
    "MED_DIST_BW_ANNS['OVERLAP'] = MED_DIST_BW_ANNS['DIST BETWEEN ANN PREV'].loc[MED_DIST_BW_ANNS['DIST BETWEEN ANN PREV'] < 0]\n",
    "\n",
    "OVER_LAP = MED_DIST_BW_ANNS.groupby('IN FILE')[['OVERLAP']].count()\n",
    "OVER_LAP = OVER_LAP.rename(columns = {'OVERLAP':'OVERLAP COUNT'})\n",
    "\n",
    "DIST_BETWEEN_ANN_PREV = MED_DIST_BW_ANNS.groupby('IN FILE')[['DIST BETWEEN ANN PREV']].median()\n",
    "DIST_BETWEEN_ANN_PREV = DIST_BETWEEN_ANN_PREV.rename(columns={'DIST BETWEEN ANN PREV': 'MEDIAN DIST B/W ANNS'})\n",
    "\n",
    "LAST_MOD_BY = MED_DIST_BW_ANNS.groupby('IN FILE')[['LAST MOD BY']].max()\n",
    "\n",
    "WHITE_SPACE = frame.copy(True)\n",
    "DUR = WHITE_SPACE.groupby(['IN FILE'])[['DURATION']].sum()\n",
    "DUR = DUR.rename(columns = {'DURATION':'SUM DURATION'})\n",
    "LEN = WHITE_SPACE.groupby(['IN FILE'])[['CLIP LENGTH']].max()\n",
    "WHITE_SPACE = LEN.join(DUR)\n",
    "WHITE_SPACE['WHITE SPACE'] = WHITE_SPACE['CLIP LENGTH'] - WHITE_SPACE['SUM DURATION']\n",
    "\n",
    "WHITE_SPACE = WHITE_SPACE.join(OVER_LAP)\n",
    "WHITE_SPACE = WHITE_SPACE.join(DIST_BETWEEN_ANN_PREV)\n",
    "WHITE_SPACE = WHITE_SPACE.join(MEDIAN_DURATIONS)\n",
    "WHITE_SPACE = WHITE_SPACE.join(NUMBER_ANN)\n",
    "WHITE_SPACE = WHITE_SPACE.join(LAST_MOD_BY)\n",
    "WHITE_SPACE.reset_index(inplace=True)\n",
    "# WHITE_SPACE.head(10)\n",
    "# MED_DIST_BW_ANNS"
   ]
  },
  {
   "cell_type": "code",
   "execution_count": 4,
   "metadata": {},
   "outputs": [
    {
     "data": {
      "text/plain": [
       "515"
      ]
     },
     "execution_count": 4,
     "metadata": {},
     "output_type": "execute_result"
    }
   ],
   "source": [
    "def species(row):\n",
    "    species = row['IN FILE']\n",
    "    spec = species.split('-')\n",
    "    spec_to = '-'.join(spec[:-2])\n",
    "    return spec_to\n",
    "\n",
    "WHITE_SPACE['Genus'] = WHITE_SPACE.apply(lambda row: species(row), axis=1)\n",
    "len(WHITE_SPACE['Genus'].unique())\n",
    "# WHITE_SPACE.head(10)"
   ]
  },
  {
   "cell_type": "code",
   "execution_count": 5,
   "metadata": {},
   "outputs": [
    {
     "data": {
      "text/plain": [
       "['EdZamora']"
      ]
     },
     "execution_count": 5,
     "metadata": {},
     "output_type": "execute_result"
    }
   ],
   "source": [
    "# resample if sampled is admin user\n",
    "annotator = WHITE_SPACE['LAST MOD BY'].unique()\n",
    "sampled_annotator = ['EdZamora'] #random.sample(list(annotator),1) #['kkong', 'JacobGlennAyers']  \n",
    "# ['EdZamora'], ['kkong', 'sunqiaochen'], ['kkong', 'JacobGlennAyers'], ['kushagra1067', 'EdZamora'], ['hjagarla', 'alarce'], ['dnelson', 'sunqiaochen'], ['sunqiaochen', 'j4yang'](not gud), ['dnelson', 'hjagarla']\n",
    "# ['weszhen', 'JacobGlennAyers', 'dnelson']\n",
    "sampled_annotator "
   ]
  },
  {
   "cell_type": "code",
   "execution_count": 6,
   "metadata": {},
   "outputs": [
    {
     "data": {
      "text/html": [
       "<div>\n",
       "<style scoped>\n",
       "    .dataframe tbody tr th:only-of-type {\n",
       "        vertical-align: middle;\n",
       "    }\n",
       "\n",
       "    .dataframe tbody tr th {\n",
       "        vertical-align: top;\n",
       "    }\n",
       "\n",
       "    .dataframe thead th {\n",
       "        text-align: right;\n",
       "    }\n",
       "</style>\n",
       "<table border=\"1\" class=\"dataframe\">\n",
       "  <thead>\n",
       "    <tr style=\"text-align: right;\">\n",
       "      <th></th>\n",
       "      <th>IN FILE</th>\n",
       "      <th>CLIP LENGTH</th>\n",
       "      <th>SUM DURATION</th>\n",
       "      <th>WHITE SPACE</th>\n",
       "      <th>OVERLAP COUNT</th>\n",
       "      <th>MEDIAN DIST B/W ANNS</th>\n",
       "      <th>MEDIAN DURATION</th>\n",
       "      <th>OFFSET COUNT</th>\n",
       "      <th>LAST MOD BY</th>\n",
       "      <th>Genus</th>\n",
       "    </tr>\n",
       "  </thead>\n",
       "  <tbody>\n",
       "    <tr>\n",
       "      <th>22</th>\n",
       "      <td>Aeronautes-montivagus-257782.wav</td>\n",
       "      <td>20.6890</td>\n",
       "      <td>12.1193</td>\n",
       "      <td>8.5697</td>\n",
       "      <td>0</td>\n",
       "      <td>1.0903</td>\n",
       "      <td>1.88990</td>\n",
       "      <td>7</td>\n",
       "      <td>EdZamora</td>\n",
       "      <td>Aeronautes</td>\n",
       "    </tr>\n",
       "    <tr>\n",
       "      <th>42</th>\n",
       "      <td>Amaurolimnas-concolor-456372.wav</td>\n",
       "      <td>16.2482</td>\n",
       "      <td>15.6881</td>\n",
       "      <td>0.5601</td>\n",
       "      <td>7</td>\n",
       "      <td>0.0300</td>\n",
       "      <td>0.77990</td>\n",
       "      <td>21</td>\n",
       "      <td>EdZamora</td>\n",
       "      <td>Amaurolimnas</td>\n",
       "    </tr>\n",
       "    <tr>\n",
       "      <th>60</th>\n",
       "      <td>Amazonetta-brasiliensis-116242.wav</td>\n",
       "      <td>8.8800</td>\n",
       "      <td>0.8228</td>\n",
       "      <td>8.0572</td>\n",
       "      <td>0</td>\n",
       "      <td>1.4084</td>\n",
       "      <td>0.27830</td>\n",
       "      <td>3</td>\n",
       "      <td>EdZamora</td>\n",
       "      <td>Amazonetta</td>\n",
       "    </tr>\n",
       "    <tr>\n",
       "      <th>69</th>\n",
       "      <td>Ammodramus-humeralis-422153.wav</td>\n",
       "      <td>34.6645</td>\n",
       "      <td>8.9483</td>\n",
       "      <td>25.7162</td>\n",
       "      <td>1</td>\n",
       "      <td>0.1400</td>\n",
       "      <td>0.30990</td>\n",
       "      <td>23</td>\n",
       "      <td>EdZamora</td>\n",
       "      <td>Ammodramus</td>\n",
       "    </tr>\n",
       "    <tr>\n",
       "      <th>76</th>\n",
       "      <td>Anabacerthia-ruficaudata-264549.wav</td>\n",
       "      <td>13.6882</td>\n",
       "      <td>5.6851</td>\n",
       "      <td>8.0031</td>\n",
       "      <td>0</td>\n",
       "      <td>3.0832</td>\n",
       "      <td>2.84255</td>\n",
       "      <td>2</td>\n",
       "      <td>EdZamora</td>\n",
       "      <td>Anabacerthia</td>\n",
       "    </tr>\n",
       "  </tbody>\n",
       "</table>\n",
       "</div>"
      ],
      "text/plain": [
       "                                IN FILE  CLIP LENGTH  SUM DURATION  \\\n",
       "22     Aeronautes-montivagus-257782.wav      20.6890       12.1193   \n",
       "42     Amaurolimnas-concolor-456372.wav      16.2482       15.6881   \n",
       "60   Amazonetta-brasiliensis-116242.wav       8.8800        0.8228   \n",
       "69      Ammodramus-humeralis-422153.wav      34.6645        8.9483   \n",
       "76  Anabacerthia-ruficaudata-264549.wav      13.6882        5.6851   \n",
       "\n",
       "    WHITE SPACE  OVERLAP COUNT  MEDIAN DIST B/W ANNS  MEDIAN DURATION  \\\n",
       "22       8.5697              0                1.0903          1.88990   \n",
       "42       0.5601              7                0.0300          0.77990   \n",
       "60       8.0572              0                1.4084          0.27830   \n",
       "69      25.7162              1                0.1400          0.30990   \n",
       "76       8.0031              0                3.0832          2.84255   \n",
       "\n",
       "    OFFSET COUNT LAST MOD BY         Genus  \n",
       "22             7    EdZamora    Aeronautes  \n",
       "42            21    EdZamora  Amaurolimnas  \n",
       "60             3    EdZamora    Amazonetta  \n",
       "69            23    EdZamora    Ammodramus  \n",
       "76             2    EdZamora  Anabacerthia  "
      ]
     },
     "execution_count": 6,
     "metadata": {},
     "output_type": "execute_result"
    }
   ],
   "source": [
    "annotator_df = WHITE_SPACE[WHITE_SPACE['LAST MOD BY'].isin(sampled_annotator)]\n",
    "annotator_df.head()"
   ]
  },
  {
   "cell_type": "code",
   "execution_count": 7,
   "metadata": {},
   "outputs": [
    {
     "data": {
      "text/plain": [
       "Index(['Schiffornis', 'Saltator', 'Sclerurus', 'Ramphocaenus', 'Ramphotrigon'], dtype='object')"
      ]
     },
     "execution_count": 7,
     "metadata": {},
     "output_type": "execute_result"
    }
   ],
   "source": [
    "genus = annotator_df['Genus'].value_counts()\n",
    "sampled_genus = genus.index[:5]#random.sample(list(genus),1)\n",
    "sampled_genus\n",
    "# genus"
   ]
  },
  {
   "cell_type": "code",
   "execution_count": 8,
   "metadata": {},
   "outputs": [
    {
     "data": {
      "text/html": [
       "<div>\n",
       "<style scoped>\n",
       "    .dataframe tbody tr th:only-of-type {\n",
       "        vertical-align: middle;\n",
       "    }\n",
       "\n",
       "    .dataframe tbody tr th {\n",
       "        vertical-align: top;\n",
       "    }\n",
       "\n",
       "    .dataframe thead th {\n",
       "        text-align: right;\n",
       "    }\n",
       "</style>\n",
       "<table border=\"1\" class=\"dataframe\">\n",
       "  <thead>\n",
       "    <tr style=\"text-align: right;\">\n",
       "      <th></th>\n",
       "      <th>IN FILE</th>\n",
       "      <th>CLIP LENGTH</th>\n",
       "      <th>SUM DURATION</th>\n",
       "      <th>WHITE SPACE</th>\n",
       "      <th>OVERLAP COUNT</th>\n",
       "      <th>MEDIAN DIST B/W ANNS</th>\n",
       "      <th>MEDIAN DURATION</th>\n",
       "      <th>OFFSET COUNT</th>\n",
       "      <th>LAST MOD BY</th>\n",
       "      <th>Genus</th>\n",
       "    </tr>\n",
       "  </thead>\n",
       "  <tbody>\n",
       "    <tr>\n",
       "      <th>1810</th>\n",
       "      <td>Ramphocaenus-melanurus-149300.wav</td>\n",
       "      <td>73.6131</td>\n",
       "      <td>30.8374</td>\n",
       "      <td>42.7757</td>\n",
       "      <td>0</td>\n",
       "      <td>1.109900e+00</td>\n",
       "      <td>0.44995</td>\n",
       "      <td>28</td>\n",
       "      <td>EdZamora</td>\n",
       "      <td>Ramphocaenus</td>\n",
       "    </tr>\n",
       "    <tr>\n",
       "      <th>1811</th>\n",
       "      <td>Ramphocaenus-melanurus-27794.wav</td>\n",
       "      <td>54.0473</td>\n",
       "      <td>25.2886</td>\n",
       "      <td>28.7587</td>\n",
       "      <td>0</td>\n",
       "      <td>2.729900e+00</td>\n",
       "      <td>2.62980</td>\n",
       "      <td>11</td>\n",
       "      <td>EdZamora</td>\n",
       "      <td>Ramphocaenus</td>\n",
       "    </tr>\n",
       "    <tr>\n",
       "      <th>1812</th>\n",
       "      <td>Ramphocaenus-sticturus-2312.wav</td>\n",
       "      <td>10.1094</td>\n",
       "      <td>6.5372</td>\n",
       "      <td>3.5722</td>\n",
       "      <td>0</td>\n",
       "      <td>1.213000e-01</td>\n",
       "      <td>0.24270</td>\n",
       "      <td>27</td>\n",
       "      <td>EdZamora</td>\n",
       "      <td>Ramphocaenus</td>\n",
       "    </tr>\n",
       "    <tr>\n",
       "      <th>1813</th>\n",
       "      <td>Ramphocaenus-sticturus-424936.wav</td>\n",
       "      <td>38.8320</td>\n",
       "      <td>18.0810</td>\n",
       "      <td>20.7510</td>\n",
       "      <td>50</td>\n",
       "      <td>-1.110223e-15</td>\n",
       "      <td>0.19000</td>\n",
       "      <td>98</td>\n",
       "      <td>EdZamora</td>\n",
       "      <td>Ramphocaenus</td>\n",
       "    </tr>\n",
       "    <tr>\n",
       "      <th>1814</th>\n",
       "      <td>Ramphocaenus-sticturus-91665.wav</td>\n",
       "      <td>21.3420</td>\n",
       "      <td>8.7208</td>\n",
       "      <td>12.6212</td>\n",
       "      <td>0</td>\n",
       "      <td>3.160300e+00</td>\n",
       "      <td>2.95020</td>\n",
       "      <td>3</td>\n",
       "      <td>EdZamora</td>\n",
       "      <td>Ramphocaenus</td>\n",
       "    </tr>\n",
       "  </tbody>\n",
       "</table>\n",
       "</div>"
      ],
      "text/plain": [
       "                                IN FILE  CLIP LENGTH  SUM DURATION  \\\n",
       "1810  Ramphocaenus-melanurus-149300.wav      73.6131       30.8374   \n",
       "1811   Ramphocaenus-melanurus-27794.wav      54.0473       25.2886   \n",
       "1812    Ramphocaenus-sticturus-2312.wav      10.1094        6.5372   \n",
       "1813  Ramphocaenus-sticturus-424936.wav      38.8320       18.0810   \n",
       "1814   Ramphocaenus-sticturus-91665.wav      21.3420        8.7208   \n",
       "\n",
       "      WHITE SPACE  OVERLAP COUNT  MEDIAN DIST B/W ANNS  MEDIAN DURATION  \\\n",
       "1810      42.7757              0          1.109900e+00          0.44995   \n",
       "1811      28.7587              0          2.729900e+00          2.62980   \n",
       "1812       3.5722              0          1.213000e-01          0.24270   \n",
       "1813      20.7510             50         -1.110223e-15          0.19000   \n",
       "1814      12.6212              0          3.160300e+00          2.95020   \n",
       "\n",
       "      OFFSET COUNT LAST MOD BY         Genus  \n",
       "1810            28    EdZamora  Ramphocaenus  \n",
       "1811            11    EdZamora  Ramphocaenus  \n",
       "1812            27    EdZamora  Ramphocaenus  \n",
       "1813            98    EdZamora  Ramphocaenus  \n",
       "1814             3    EdZamora  Ramphocaenus  "
      ]
     },
     "execution_count": 8,
     "metadata": {},
     "output_type": "execute_result"
    }
   ],
   "source": [
    "annotator_genus_df = annotator_df[annotator_df['Genus'].isin(sampled_genus)]\n",
    "annotator_genus_df.head()\n",
    "# annotator_genus_df.shape"
   ]
  },
  {
   "cell_type": "code",
   "execution_count": 9,
   "metadata": {},
   "outputs": [],
   "source": [
    "# annotator_genus_df.iloc[:,2]\n",
    "# annotator_genus_df.iloc[:,4]"
   ]
  },
  {
   "cell_type": "code",
   "execution_count": 10,
   "metadata": {},
   "outputs": [],
   "source": [
    "X = annotator_genus_df.drop(columns = ['IN FILE','Genus','LAST MOD BY']) # expand to taxa rather than species\n",
    "\n",
    "Y = np.array(annotator_genus_df['Genus'])\n",
    "Y_2 = np.array(annotator_genus_df['LAST MOD BY'])\n",
    "Y_3 = np.array(annotator_genus_df['IN FILE'])"
   ]
  },
  {
   "cell_type": "code",
   "execution_count": 11,
   "metadata": {},
   "outputs": [],
   "source": [
    "# X"
   ]
  },
  {
   "cell_type": "code",
   "execution_count": 12,
   "metadata": {},
   "outputs": [
    {
     "data": {
      "text/plain": [
       "array([[ 1.55587634,  1.74237592,  0.95602973, -0.27944338, -0.41044284,\n",
       "        -0.92374916,  0.29323891],\n",
       "       [ 0.63894682,  1.15639443,  0.15363863, -0.27944338,  0.3439925 ,\n",
       "         1.63707259, -0.32135771],\n",
       "       [-1.42015414, -0.82384872, -1.28814089, -0.27944338, -0.87083468,\n",
       "        -1.16722018,  0.25708617],\n",
       "       [-0.07410134,  0.39523524, -0.30475527,  3.84349173, -0.92732419,\n",
       "        -1.22913055,  2.8239309 ],\n",
       "       [-0.8937508 , -0.59324946, -0.77013867, -0.27944338,  0.54443014,\n",
       "         2.01346881, -0.61057965],\n",
       "       [ 0.60956785,  1.56840211, -0.10558001,  4.33824395, -0.92732419,\n",
       "        -1.25262594,  4.74002626],\n",
       "       [-0.80742751, -0.40037234, -0.76924566, -0.27944338, -0.5208605 ,\n",
       "        -0.3249103 , -0.32135771],\n",
       "       [ 0.53212995,  0.61577033,  0.31621198, -0.27944338, -0.1402665 ,\n",
       "         2.35967344, -0.42981594],\n",
       "       [-0.86314399, -1.15839506, -0.42641051, -0.27944338,  0.49276063,\n",
       "        -0.75352503, -0.50212143],\n",
       "       [ 0.6438441 , -0.36098164,  0.98212733, -0.27944338,  1.49208476,\n",
       "         0.13947617, -0.42981594],\n",
       "       [ 2.06626629, -0.45824392,  2.77233475, -0.27944338,  3.75031465,\n",
       "         0.22734894, -0.46596868],\n",
       "       [-1.10064082, -0.88173087, -0.86648056, -0.27944338,  1.11677646,\n",
       "         0.8851025 , -0.61057965],\n",
       "       [-0.10046697, -0.80878944,  0.31569106, -0.27944338,  0.03898175,\n",
       "        -0.90019503, -0.21289948],\n",
       "       [-1.16551919, -0.82916066, -0.97422548, -0.27944338,  0.81593372,\n",
       "         1.14261202, -0.61057965],\n",
       "       [-0.67216895, -0.54474505, -0.52576917, -0.27944338,  0.29164773,\n",
       "         0.33918702, -0.50212143],\n",
       "       [ 0.0990748 , -0.96931972,  0.6464477 , -0.27944338,  1.73629827,\n",
       "         0.13935869, -0.57442691],\n",
       "       [-0.2143181 , -0.69999508,  0.11764924, -0.27944338,  1.96933497,\n",
       "         0.55651941, -0.53827417],\n",
       "       [ 0.40023153,  0.57013838,  0.17983355, -0.27944338, -0.58740915,\n",
       "        -0.68885396,  0.40169714],\n",
       "       [ 0.10698073,  0.40550005, -0.08912804, -0.27944338, -0.41277134,\n",
       "        -0.47152156,  0.07632246],\n",
       "       [-0.55323776, -0.168886  , -0.58423261, -0.27944338,  0.24149175,\n",
       "         1.05567906, -0.50212143],\n",
       "       [-0.50599896,  0.19530369, -0.72394265, -0.27944338, -0.1240834 ,\n",
       "         0.93215203, -0.42981594],\n",
       "       [-0.32491689,  0.26206723, -0.53894104, -0.27944338,  0.09954614,\n",
       "         1.0264273 , -0.3936632 ],\n",
       "       [-0.62634543, -0.76236544, -0.35183285, -0.27944338,  0.13230819,\n",
       "        -0.04273062, -0.50212143],\n",
       "       [ 0.91847587, -0.02831507,  1.13726467, -0.27944338, -0.90171064,\n",
       "        -0.8003396 ,  0.14862794],\n",
       "       [-1.46544997, -0.77847022, -1.36806745, -0.27944338, -0.90748533,\n",
       "        -0.51440066, -0.3936632 ],\n",
       "       [-0.90231752, -0.61237454, -0.77023599, -0.03206727, -0.91801017,\n",
       "        -0.48902563, -0.3936632 ],\n",
       "       [ 1.95374141,  0.75610893,  1.97663549,  0.29776754, -0.92245761,\n",
       "        -0.1249645 , -0.06828851],\n",
       "       [ 0.7795713 , -0.26601099,  1.09643815, -0.27944338, -0.87819275,\n",
       "        -0.83564143, -0.140594  ],\n",
       "       [ 1.03601051,  2.7226551 , -0.21035396, -0.03206727, -0.67817425,\n",
       "         0.54471298,  0.29323891],\n",
       "       [-0.39240089, -0.42225371, -0.25043058, -0.27944338, -0.52216447,\n",
       "        -0.94718582,  0.1124752 ],\n",
       "       [ 0.088985  ,  1.53525267, -0.72350187, -0.11452598, -0.68515976,\n",
       "        -0.01911775,  0.18478068],\n",
       "       [ 1.81907801,  2.49559361,  0.86924189, -0.19698468, -0.60366211,\n",
       "         0.1923408 ,  0.3655444 ],\n",
       "       [-1.02106593, -0.35495159, -1.05482523, -0.27944338, -0.07297273,\n",
       "         1.82444836, -0.57442691],\n",
       "       [-0.37552989, -0.23427666, -0.33171726, -0.27944338, -0.84815505,\n",
       "        -1.12927512,  0.14862794],\n",
       "       [-1.51441805, -1.41727536, -1.08161205, -0.27944338, -0.41193308,\n",
       "        -1.23664907, -0.53827417],\n",
       "       [ 1.74459255, -0.84678615,  2.59002362, -0.27944338,  0.20549308,\n",
       "        -1.16451821,  0.22093343]])"
      ]
     },
     "execution_count": 12,
     "metadata": {},
     "output_type": "execute_result"
    }
   ],
   "source": [
    "scaler = StandardScaler()\n",
    "X_std = scaler.fit_transform(X)\n",
    "X_std"
   ]
  },
  {
   "cell_type": "code",
   "execution_count": 13,
   "metadata": {},
   "outputs": [
    {
     "data": {
      "text/plain": [
       "PCA()"
      ]
     },
     "execution_count": 13,
     "metadata": {},
     "output_type": "execute_result"
    }
   ],
   "source": [
    "pca = PCA()\n",
    "pca.fit(X_std)"
   ]
  },
  {
   "cell_type": "code",
   "execution_count": 14,
   "metadata": {},
   "outputs": [
    {
     "data": {
      "text/plain": [
       "array([3.90655062e-01, 2.91268821e-01, 1.57952897e-01, 1.26746160e-01,\n",
       "       2.88206616e-02, 4.55639822e-03, 3.37103296e-33])"
      ]
     },
     "execution_count": 14,
     "metadata": {},
     "output_type": "execute_result"
    }
   ],
   "source": [
    "pca.explained_variance_ratio_"
   ]
  },
  {
   "cell_type": "code",
   "execution_count": 15,
   "metadata": {},
   "outputs": [
    {
     "data": {
      "image/png": "[encoded data removed]",
      "text/plain": [
       "<Figure size 720x576 with 1 Axes>"
      ]
     },
     "metadata": {},
     "output_type": "display_data"
    }
   ],
   "source": [
    "plt.figure(figsize = (10,8))\n",
    "plt.plot(range(1,8),pca.explained_variance_ratio_.cumsum(),marker = 'o', linestyle = '--')\n",
    "plt.title('Explained Variance by Components')\n",
    "plt.xlabel('Number of Components')\n",
    "plt.ylabel('Cumilative Explained Variance')\n",
    "plt.show()"
   ]
  },
  {
   "cell_type": "code",
   "execution_count": 16,
   "metadata": {},
   "outputs": [],
   "source": [
    "pca = PCA(n_components= 4)"
   ]
  },
  {
   "cell_type": "code",
   "execution_count": 17,
   "metadata": {},
   "outputs": [
    {
     "data": {
      "text/plain": [
       "PCA(n_components=4)"
      ]
     },
     "execution_count": 17,
     "metadata": {},
     "output_type": "execute_result"
    }
   ],
   "source": [
    "pca.fit(X_std)\n",
    "# pca.components_"
   ]
  },
  {
   "cell_type": "code",
   "execution_count": 18,
   "metadata": {},
   "outputs": [],
   "source": [
    "X_standard = pd.DataFrame(X_std, columns = X.columns)\n",
    "# X_standard"
   ]
  },
  {
   "cell_type": "code",
   "execution_count": 19,
   "metadata": {},
   "outputs": [
    {
     "data": {
      "text/html": [
       "<div>\n",
       "<style scoped>\n",
       "    .dataframe tbody tr th:only-of-type {\n",
       "        vertical-align: middle;\n",
       "    }\n",
       "\n",
       "    .dataframe tbody tr th {\n",
       "        vertical-align: top;\n",
       "    }\n",
       "\n",
       "    .dataframe thead th {\n",
       "        text-align: right;\n",
       "    }\n",
       "</style>\n",
       "<table border=\"1\" class=\"dataframe\">\n",
       "  <thead>\n",
       "    <tr style=\"text-align: right;\">\n",
       "      <th></th>\n",
       "      <th>CLIP LENGTH</th>\n",
       "      <th>SUM DURATION</th>\n",
       "      <th>WHITE SPACE</th>\n",
       "      <th>OVERLAP COUNT</th>\n",
       "      <th>MEDIAN DIST B/W ANNS</th>\n",
       "      <th>MEDIAN DURATION</th>\n",
       "      <th>OFFSET COUNT</th>\n",
       "    </tr>\n",
       "  </thead>\n",
       "  <tbody>\n",
       "    <tr>\n",
       "      <th>PC-1</th>\n",
       "      <td>0.350024</td>\n",
       "      <td>0.395778</td>\n",
       "      <td>0.213019</td>\n",
       "      <td>0.467136</td>\n",
       "      <td>-0.271629</td>\n",
       "      <td>-0.297817</td>\n",
       "      <td>0.542929</td>\n",
       "    </tr>\n",
       "    <tr>\n",
       "      <th>PC-2</th>\n",
       "      <td>0.564268</td>\n",
       "      <td>0.153108</td>\n",
       "      <td>0.606259</td>\n",
       "      <td>-0.248315</td>\n",
       "      <td>0.396006</td>\n",
       "      <td>0.168797</td>\n",
       "      <td>-0.208894</td>\n",
       "    </tr>\n",
       "    <tr>\n",
       "      <th>PC-3</th>\n",
       "      <td>0.041911</td>\n",
       "      <td>0.637078</td>\n",
       "      <td>-0.294140</td>\n",
       "      <td>-0.067850</td>\n",
       "      <td>-0.214479</td>\n",
       "      <td>0.672386</td>\n",
       "      <td>-0.056122</td>\n",
       "    </tr>\n",
       "    <tr>\n",
       "      <th>PC-4</th>\n",
       "      <td>-0.119216</td>\n",
       "      <td>-0.157298</td>\n",
       "      <td>-0.060357</td>\n",
       "      <td>0.530573</td>\n",
       "      <td>0.641051</td>\n",
       "      <td>0.413657</td>\n",
       "      <td>0.306325</td>\n",
       "    </tr>\n",
       "  </tbody>\n",
       "</table>\n",
       "</div>"
      ],
      "text/plain": [
       "      CLIP LENGTH  SUM DURATION  WHITE SPACE  OVERLAP COUNT  \\\n",
       "PC-1     0.350024      0.395778     0.213019       0.467136   \n",
       "PC-2     0.564268      0.153108     0.606259      -0.248315   \n",
       "PC-3     0.041911      0.637078    -0.294140      -0.067850   \n",
       "PC-4    -0.119216     -0.157298    -0.060357       0.530573   \n",
       "\n",
       "      MEDIAN DIST B/W ANNS  MEDIAN DURATION  OFFSET COUNT  \n",
       "PC-1             -0.271629        -0.297817      0.542929  \n",
       "PC-2              0.396006         0.168797     -0.208894  \n",
       "PC-3             -0.214479         0.672386     -0.056122  \n",
       "PC-4              0.641051         0.413657      0.306325  "
      ]
     },
     "execution_count": 19,
     "metadata": {},
     "output_type": "execute_result"
    }
   ],
   "source": [
    "components = pd.DataFrame(pca.components_,columns = X_standard.columns,index = ['PC-1','PC-2','PC-3','PC-4'])\n",
    "components"
   ]
  },
  {
   "cell_type": "code",
   "execution_count": 20,
   "metadata": {},
   "outputs": [
    {
     "data": {
      "text/plain": [
       "array([[ 1.85310747e+00,  1.41397439e+00,  3.63449949e-01,\n",
       "        -1.22092905e+00],\n",
       "       [-1.71947612e-01,  1.17981139e+00,  1.78226187e+00,\n",
       "         3.83653346e-01],\n",
       "       [-5.04345092e-01, -2.23462486e+00, -7.98997537e-01,\n",
       "        -7.33948281e-01],\n",
       "       [ 4.01214228e+00, -2.28505767e+00, -7.08493198e-01,\n",
       "         1.76645392e+00],\n",
       "       [-1.92125098e+00, -3.09647574e-01,  1.10141044e+00,\n",
       "         1.09294068e+00],\n",
       "       [ 6.03660278e+00, -2.12599280e+00, -1.47928335e-01,\n",
       "         2.32812304e+00],\n",
       "       [-6.71709606e-01, -1.10785568e+00, -1.32399090e-01,\n",
       "        -5.09339472e-01],\n",
       "       [-5.31220935e-01,  1.08818583e+00,  1.98136276e+00,\n",
       "         4.26864338e-01],\n",
       "       [-1.16401299e+00, -6.80696275e-01, -1.21394493e+00,\n",
       "         1.29571151e-02],\n",
       "       [-5.19026144e-01,  1.67704765e+00, -6.75028025e-01,\n",
       "         6.55016397e-01],\n",
       "       [-3.37490275e-01,  4.46676860e+00, -1.62717611e+00,\n",
       "         1.86560455e+00],\n",
       "       [-1.94778474e+00, -4.92778888e-01,  5.58387308e-02,\n",
       "         1.06894498e+00],\n",
       "       [-2.76642191e-01, -1.17821977e-02, -1.19506040e+00,\n",
       "        -4.40720095e-01],\n",
       "       [-1.96761216e+00, -6.62328514e-01,  3.55973069e-01,\n",
       "         9.88578347e-01],\n",
       "       [-1.14626251e+00, -4.34412369e-01, -7.91426237e-03,\n",
       "         2.22744827e-01],\n",
       "       [-1.16679584e+00,  1.19990004e+00, -1.03102370e+00,\n",
       "         9.48119337e-01],\n",
       "       [-1.45045074e+00,  8.98856918e-01, -4.88554370e-01,\n",
       "         1.30805760e+00],\n",
       "       [ 8.56311647e-01,  5.87401520e-02, -1.36721677e-02,\n",
       "        -8.34973458e-01],\n",
       "       [ 3.42395329e-01, -1.21188214e-01,  7.51979872e-02,\n",
       "        -6.55699967e-01],\n",
       "       [-1.16809000e+00, -2.44120304e-01,  7.46234662e-01,\n",
       "         4.17202281e-01],\n",
       "       [-8.61831620e-01, -4.27130041e-01,  1.01261828e+00,\n",
       "         9.94156584e-02],\n",
       "       [-8.01808840e-01, -1.05650470e-01,  1.02172153e+00,\n",
       "         2.49589982e-01],\n",
       "       [-1.02227821e+00, -4.63990686e-01, -4.18417533e-01,\n",
       "        -1.91127152e-02],\n",
       "       [ 9.85982853e-01,  7.49572778e-01, -6.48179595e-01,\n",
       "        -1.18553044e+00],\n",
       "       [-1.05704142e+00, -2.07007434e+00, -2.65148047e-01,\n",
       "        -6.83654898e-01],\n",
       "       [-5.55984806e-01, -1.42575745e+00, -3.09041889e-01,\n",
       "        -6.77998354e-01],\n",
       "       [ 1.79397446e+00,  1.97048548e+00,  7.96289588e-02,\n",
       "        -9.77121506e-01],\n",
       "       [ 6.81689543e-01,  6.73819811e-01, -8.05972206e-01,\n",
       "        -1.21724020e+00],\n",
       "       [ 1.56160324e+00,  6.44011295e-01,  2.33726704e+00,\n",
       "        -6.75688410e-01],\n",
       "       [-3.36446974e-03, -7.58663336e-01, -7.24026188e-01,\n",
       "        -7.12039853e-01],\n",
       "       [ 7.23273932e-01, -4.38073594e-01,  1.32611360e+00,\n",
       "        -6.59724157e-01],\n",
       "       [ 2.02272444e+00,  1.70149572e+00,  1.66209885e+00,\n",
       "        -9.61834291e-01],\n",
       "       [-1.68851824e+00, -8.01549045e-01,  1.33492254e+00,\n",
       "         6.24915750e-01],\n",
       "       [ 2.22028671e-01, -9.37025906e-01, -6.34198651e-01,\n",
       "        -1.01193797e+00],\n",
       "       [-1.26400881e+00, -1.91730943e+00, -1.34222601e+00,\n",
       "        -6.20010381e-01],\n",
       "       [ 1.10764159e+00,  2.33303957e+00, -2.04869801e+00,\n",
       "        -6.61678665e-01]])"
      ]
     },
     "execution_count": 20,
     "metadata": {},
     "output_type": "execute_result"
    }
   ],
   "source": [
    "pca.transform(X_std)\n",
    "scores_pca = pca.transform(X_std)\n",
    "scores_pca"
   ]
  },
  {
   "cell_type": "code",
   "execution_count": 21,
   "metadata": {},
   "outputs": [
    {
     "data": {
      "text/html": [
       "<div>\n",
       "<style scoped>\n",
       "    .dataframe tbody tr th:only-of-type {\n",
       "        vertical-align: middle;\n",
       "    }\n",
       "\n",
       "    .dataframe tbody tr th {\n",
       "        vertical-align: top;\n",
       "    }\n",
       "\n",
       "    .dataframe thead th {\n",
       "        text-align: right;\n",
       "    }\n",
       "</style>\n",
       "<table border=\"1\" class=\"dataframe\">\n",
       "  <thead>\n",
       "    <tr style=\"text-align: right;\">\n",
       "      <th></th>\n",
       "      <th>PC-1</th>\n",
       "      <th>PC-2</th>\n",
       "      <th>PC-3</th>\n",
       "      <th>PC-4</th>\n",
       "      <th>IN FILE</th>\n",
       "      <th>LAST MOD BY</th>\n",
       "      <th>Genus</th>\n",
       "    </tr>\n",
       "  </thead>\n",
       "  <tbody>\n",
       "    <tr>\n",
       "      <th>0</th>\n",
       "      <td>1.853107</td>\n",
       "      <td>1.413974</td>\n",
       "      <td>0.363450</td>\n",
       "      <td>-1.220929</td>\n",
       "      <td>Ramphocaenus-melanurus-149300.wav</td>\n",
       "      <td>EdZamora</td>\n",
       "      <td>Ramphocaenus</td>\n",
       "    </tr>\n",
       "    <tr>\n",
       "      <th>1</th>\n",
       "      <td>-0.171948</td>\n",
       "      <td>1.179811</td>\n",
       "      <td>1.782262</td>\n",
       "      <td>0.383653</td>\n",
       "      <td>Ramphocaenus-melanurus-27794.wav</td>\n",
       "      <td>EdZamora</td>\n",
       "      <td>Ramphocaenus</td>\n",
       "    </tr>\n",
       "    <tr>\n",
       "      <th>2</th>\n",
       "      <td>-0.504345</td>\n",
       "      <td>-2.234625</td>\n",
       "      <td>-0.798998</td>\n",
       "      <td>-0.733948</td>\n",
       "      <td>Ramphocaenus-sticturus-2312.wav</td>\n",
       "      <td>EdZamora</td>\n",
       "      <td>Ramphocaenus</td>\n",
       "    </tr>\n",
       "    <tr>\n",
       "      <th>3</th>\n",
       "      <td>4.012142</td>\n",
       "      <td>-2.285058</td>\n",
       "      <td>-0.708493</td>\n",
       "      <td>1.766454</td>\n",
       "      <td>Ramphocaenus-sticturus-424936.wav</td>\n",
       "      <td>EdZamora</td>\n",
       "      <td>Ramphocaenus</td>\n",
       "    </tr>\n",
       "    <tr>\n",
       "      <th>4</th>\n",
       "      <td>-1.921251</td>\n",
       "      <td>-0.309648</td>\n",
       "      <td>1.101410</td>\n",
       "      <td>1.092941</td>\n",
       "      <td>Ramphocaenus-sticturus-91665.wav</td>\n",
       "      <td>EdZamora</td>\n",
       "      <td>Ramphocaenus</td>\n",
       "    </tr>\n",
       "    <tr>\n",
       "      <th>5</th>\n",
       "      <td>6.036603</td>\n",
       "      <td>-2.125993</td>\n",
       "      <td>-0.147928</td>\n",
       "      <td>2.328123</td>\n",
       "      <td>Ramphocaenus-sticturus-91680.wav</td>\n",
       "      <td>EdZamora</td>\n",
       "      <td>Ramphocaenus</td>\n",
       "    </tr>\n",
       "    <tr>\n",
       "      <th>6</th>\n",
       "      <td>-0.671710</td>\n",
       "      <td>-1.107856</td>\n",
       "      <td>-0.132399</td>\n",
       "      <td>-0.509339</td>\n",
       "      <td>Ramphotrigon-fuscicauda-102716.wav</td>\n",
       "      <td>EdZamora</td>\n",
       "      <td>Ramphotrigon</td>\n",
       "    </tr>\n",
       "    <tr>\n",
       "      <th>7</th>\n",
       "      <td>-0.531221</td>\n",
       "      <td>1.088186</td>\n",
       "      <td>1.981363</td>\n",
       "      <td>0.426864</td>\n",
       "      <td>Ramphotrigon-fuscicauda-229017.wav</td>\n",
       "      <td>EdZamora</td>\n",
       "      <td>Ramphotrigon</td>\n",
       "    </tr>\n",
       "    <tr>\n",
       "      <th>8</th>\n",
       "      <td>-1.164013</td>\n",
       "      <td>-0.680696</td>\n",
       "      <td>-1.213945</td>\n",
       "      <td>0.012957</td>\n",
       "      <td>Ramphotrigon-megacephalum-206161.wav</td>\n",
       "      <td>EdZamora</td>\n",
       "      <td>Ramphotrigon</td>\n",
       "    </tr>\n",
       "    <tr>\n",
       "      <th>9</th>\n",
       "      <td>-0.519026</td>\n",
       "      <td>1.677048</td>\n",
       "      <td>-0.675028</td>\n",
       "      <td>0.655016</td>\n",
       "      <td>Ramphotrigon-ruficauda-27821.wav</td>\n",
       "      <td>EdZamora</td>\n",
       "      <td>Ramphotrigon</td>\n",
       "    </tr>\n",
       "    <tr>\n",
       "      <th>10</th>\n",
       "      <td>-0.337490</td>\n",
       "      <td>4.466769</td>\n",
       "      <td>-1.627176</td>\n",
       "      <td>1.865605</td>\n",
       "      <td>Ramphotrigon-ruficauda-76085.wav</td>\n",
       "      <td>EdZamora</td>\n",
       "      <td>Ramphotrigon</td>\n",
       "    </tr>\n",
       "    <tr>\n",
       "      <th>11</th>\n",
       "      <td>-1.947785</td>\n",
       "      <td>-0.492779</td>\n",
       "      <td>0.055839</td>\n",
       "      <td>1.068945</td>\n",
       "      <td>Saltator-coerulescens-188095.wav</td>\n",
       "      <td>EdZamora</td>\n",
       "      <td>Saltator</td>\n",
       "    </tr>\n",
       "    <tr>\n",
       "      <th>12</th>\n",
       "      <td>-0.276642</td>\n",
       "      <td>-0.011782</td>\n",
       "      <td>-1.195060</td>\n",
       "      <td>-0.440720</td>\n",
       "      <td>Saltator-coerulescens-259778.wav</td>\n",
       "      <td>EdZamora</td>\n",
       "      <td>Saltator</td>\n",
       "    </tr>\n",
       "    <tr>\n",
       "      <th>13</th>\n",
       "      <td>-1.967612</td>\n",
       "      <td>-0.662329</td>\n",
       "      <td>0.355973</td>\n",
       "      <td>0.988578</td>\n",
       "      <td>Saltator-coerulescens-270937.wav</td>\n",
       "      <td>EdZamora</td>\n",
       "      <td>Saltator</td>\n",
       "    </tr>\n",
       "    <tr>\n",
       "      <th>14</th>\n",
       "      <td>-1.146263</td>\n",
       "      <td>-0.434412</td>\n",
       "      <td>-0.007914</td>\n",
       "      <td>0.222745</td>\n",
       "      <td>Saltator-grossus-259800.wav</td>\n",
       "      <td>EdZamora</td>\n",
       "      <td>Saltator</td>\n",
       "    </tr>\n",
       "    <tr>\n",
       "      <th>15</th>\n",
       "      <td>-1.166796</td>\n",
       "      <td>1.199900</td>\n",
       "      <td>-1.031024</td>\n",
       "      <td>0.948119</td>\n",
       "      <td>Saltator-grossus-27833.wav</td>\n",
       "      <td>EdZamora</td>\n",
       "      <td>Saltator</td>\n",
       "    </tr>\n",
       "    <tr>\n",
       "      <th>16</th>\n",
       "      <td>-1.450451</td>\n",
       "      <td>0.898857</td>\n",
       "      <td>-0.488554</td>\n",
       "      <td>1.308058</td>\n",
       "      <td>Saltator-maximus-214115.wav</td>\n",
       "      <td>EdZamora</td>\n",
       "      <td>Saltator</td>\n",
       "    </tr>\n",
       "    <tr>\n",
       "      <th>17</th>\n",
       "      <td>0.856312</td>\n",
       "      <td>0.058740</td>\n",
       "      <td>-0.013672</td>\n",
       "      <td>-0.834973</td>\n",
       "      <td>Saltator-maximus-214117.wav</td>\n",
       "      <td>EdZamora</td>\n",
       "      <td>Saltator</td>\n",
       "    </tr>\n",
       "    <tr>\n",
       "      <th>18</th>\n",
       "      <td>0.342395</td>\n",
       "      <td>-0.121188</td>\n",
       "      <td>0.075198</td>\n",
       "      <td>-0.655700</td>\n",
       "      <td>Saltator-maximus-450251.wav</td>\n",
       "      <td>EdZamora</td>\n",
       "      <td>Saltator</td>\n",
       "    </tr>\n",
       "    <tr>\n",
       "      <th>19</th>\n",
       "      <td>-1.168090</td>\n",
       "      <td>-0.244120</td>\n",
       "      <td>0.746235</td>\n",
       "      <td>0.417202</td>\n",
       "      <td>Schiffornis-aenea-542811.wav</td>\n",
       "      <td>EdZamora</td>\n",
       "      <td>Schiffornis</td>\n",
       "    </tr>\n",
       "    <tr>\n",
       "      <th>20</th>\n",
       "      <td>-0.861832</td>\n",
       "      <td>-0.427130</td>\n",
       "      <td>1.012618</td>\n",
       "      <td>0.099416</td>\n",
       "      <td>Schiffornis-aenea-542813.wav</td>\n",
       "      <td>EdZamora</td>\n",
       "      <td>Schiffornis</td>\n",
       "    </tr>\n",
       "    <tr>\n",
       "      <th>21</th>\n",
       "      <td>-0.801809</td>\n",
       "      <td>-0.105650</td>\n",
       "      <td>1.021722</td>\n",
       "      <td>0.249590</td>\n",
       "      <td>Schiffornis-aenea-542814.wav</td>\n",
       "      <td>EdZamora</td>\n",
       "      <td>Schiffornis</td>\n",
       "    </tr>\n",
       "    <tr>\n",
       "      <th>22</th>\n",
       "      <td>-1.022278</td>\n",
       "      <td>-0.463991</td>\n",
       "      <td>-0.418418</td>\n",
       "      <td>-0.019113</td>\n",
       "      <td>Schiffornis-major-102619.wav</td>\n",
       "      <td>EdZamora</td>\n",
       "      <td>Schiffornis</td>\n",
       "    </tr>\n",
       "    <tr>\n",
       "      <th>23</th>\n",
       "      <td>0.985983</td>\n",
       "      <td>0.749573</td>\n",
       "      <td>-0.648180</td>\n",
       "      <td>-1.185530</td>\n",
       "      <td>Schiffornis-major-229321.wav</td>\n",
       "      <td>EdZamora</td>\n",
       "      <td>Schiffornis</td>\n",
       "    </tr>\n",
       "    <tr>\n",
       "      <th>24</th>\n",
       "      <td>-1.057041</td>\n",
       "      <td>-2.070074</td>\n",
       "      <td>-0.265148</td>\n",
       "      <td>-0.683655</td>\n",
       "      <td>Schiffornis-major-296584.wav</td>\n",
       "      <td>EdZamora</td>\n",
       "      <td>Schiffornis</td>\n",
       "    </tr>\n",
       "    <tr>\n",
       "      <th>25</th>\n",
       "      <td>-0.555985</td>\n",
       "      <td>-1.425757</td>\n",
       "      <td>-0.309042</td>\n",
       "      <td>-0.677998</td>\n",
       "      <td>Schiffornis-turdina-151821.wav</td>\n",
       "      <td>EdZamora</td>\n",
       "      <td>Schiffornis</td>\n",
       "    </tr>\n",
       "    <tr>\n",
       "      <th>26</th>\n",
       "      <td>1.793974</td>\n",
       "      <td>1.970485</td>\n",
       "      <td>0.079629</td>\n",
       "      <td>-0.977122</td>\n",
       "      <td>Schiffornis-turdina-27841.wav</td>\n",
       "      <td>EdZamora</td>\n",
       "      <td>Schiffornis</td>\n",
       "    </tr>\n",
       "    <tr>\n",
       "      <th>27</th>\n",
       "      <td>0.681690</td>\n",
       "      <td>0.673820</td>\n",
       "      <td>-0.805972</td>\n",
       "      <td>-1.217240</td>\n",
       "      <td>Schiffornis-turdina-76029.wav</td>\n",
       "      <td>EdZamora</td>\n",
       "      <td>Schiffornis</td>\n",
       "    </tr>\n",
       "    <tr>\n",
       "      <th>28</th>\n",
       "      <td>1.561603</td>\n",
       "      <td>0.644011</td>\n",
       "      <td>2.337267</td>\n",
       "      <td>-0.675688</td>\n",
       "      <td>Sclerurus-albigularis-170550.wav</td>\n",
       "      <td>EdZamora</td>\n",
       "      <td>Sclerurus</td>\n",
       "    </tr>\n",
       "    <tr>\n",
       "      <th>29</th>\n",
       "      <td>-0.003364</td>\n",
       "      <td>-0.758663</td>\n",
       "      <td>-0.724026</td>\n",
       "      <td>-0.712040</td>\n",
       "      <td>Sclerurus-albigularis-171021.wav</td>\n",
       "      <td>EdZamora</td>\n",
       "      <td>Sclerurus</td>\n",
       "    </tr>\n",
       "    <tr>\n",
       "      <th>30</th>\n",
       "      <td>0.723274</td>\n",
       "      <td>-0.438074</td>\n",
       "      <td>1.326114</td>\n",
       "      <td>-0.659724</td>\n",
       "      <td>Sclerurus-albigularis-475900.wav</td>\n",
       "      <td>EdZamora</td>\n",
       "      <td>Sclerurus</td>\n",
       "    </tr>\n",
       "    <tr>\n",
       "      <th>31</th>\n",
       "      <td>2.022724</td>\n",
       "      <td>1.701496</td>\n",
       "      <td>1.662099</td>\n",
       "      <td>-0.961834</td>\n",
       "      <td>Sclerurus-albigularis-74173.wav</td>\n",
       "      <td>EdZamora</td>\n",
       "      <td>Sclerurus</td>\n",
       "    </tr>\n",
       "    <tr>\n",
       "      <th>32</th>\n",
       "      <td>-1.688518</td>\n",
       "      <td>-0.801549</td>\n",
       "      <td>1.334923</td>\n",
       "      <td>0.624916</td>\n",
       "      <td>Sclerurus-caudacutus-296569.wav</td>\n",
       "      <td>EdZamora</td>\n",
       "      <td>Sclerurus</td>\n",
       "    </tr>\n",
       "    <tr>\n",
       "      <th>33</th>\n",
       "      <td>0.222029</td>\n",
       "      <td>-0.937026</td>\n",
       "      <td>-0.634199</td>\n",
       "      <td>-1.011938</td>\n",
       "      <td>Sclerurus-caudacutus-39129.wav</td>\n",
       "      <td>EdZamora</td>\n",
       "      <td>Sclerurus</td>\n",
       "    </tr>\n",
       "    <tr>\n",
       "      <th>34</th>\n",
       "      <td>-1.264009</td>\n",
       "      <td>-1.917309</td>\n",
       "      <td>-1.342226</td>\n",
       "      <td>-0.620010</td>\n",
       "      <td>Sclerurus-caudacutus-394817.wav</td>\n",
       "      <td>EdZamora</td>\n",
       "      <td>Sclerurus</td>\n",
       "    </tr>\n",
       "    <tr>\n",
       "      <th>35</th>\n",
       "      <td>1.107642</td>\n",
       "      <td>2.333040</td>\n",
       "      <td>-2.048698</td>\n",
       "      <td>-0.661679</td>\n",
       "      <td>Sclerurus-mexicanus-534691.wav</td>\n",
       "      <td>EdZamora</td>\n",
       "      <td>Sclerurus</td>\n",
       "    </tr>\n",
       "  </tbody>\n",
       "</table>\n",
       "</div>"
      ],
      "text/plain": [
       "        PC-1      PC-2      PC-3      PC-4  \\\n",
       "0   1.853107  1.413974  0.363450 -1.220929   \n",
       "1  -0.171948  1.179811  1.782262  0.383653   \n",
       "2  -0.504345 -2.234625 -0.798998 -0.733948   \n",
       "3   4.012142 -2.285058 -0.708493  1.766454   \n",
       "4  -1.921251 -0.309648  1.101410  1.092941   \n",
       "5   6.036603 -2.125993 -0.147928  2.328123   \n",
       "6  -0.671710 -1.107856 -0.132399 -0.509339   \n",
       "7  -0.531221  1.088186  1.981363  0.426864   \n",
       "8  -1.164013 -0.680696 -1.213945  0.012957   \n",
       "9  -0.519026  1.677048 -0.675028  0.655016   \n",
       "10 -0.337490  4.466769 -1.627176  1.865605   \n",
       "11 -1.947785 -0.492779  0.055839  1.068945   \n",
       "12 -0.276642 -0.011782 -1.195060 -0.440720   \n",
       "13 -1.967612 -0.662329  0.355973  0.988578   \n",
       "14 -1.146263 -0.434412 -0.007914  0.222745   \n",
       "15 -1.166796  1.199900 -1.031024  0.948119   \n",
       "16 -1.450451  0.898857 -0.488554  1.308058   \n",
       "17  0.856312  0.058740 -0.013672 -0.834973   \n",
       "18  0.342395 -0.121188  0.075198 -0.655700   \n",
       "19 -1.168090 -0.244120  0.746235  0.417202   \n",
       "20 -0.861832 -0.427130  1.012618  0.099416   \n",
       "21 -0.801809 -0.105650  1.021722  0.249590   \n",
       "22 -1.022278 -0.463991 -0.418418 -0.019113   \n",
       "23  0.985983  0.749573 -0.648180 -1.185530   \n",
       "24 -1.057041 -2.070074 -0.265148 -0.683655   \n",
       "25 -0.555985 -1.425757 -0.309042 -0.677998   \n",
       "26  1.793974  1.970485  0.079629 -0.977122   \n",
       "27  0.681690  0.673820 -0.805972 -1.217240   \n",
       "28  1.561603  0.644011  2.337267 -0.675688   \n",
       "29 -0.003364 -0.758663 -0.724026 -0.712040   \n",
       "30  0.723274 -0.438074  1.326114 -0.659724   \n",
       "31  2.022724  1.701496  1.662099 -0.961834   \n",
       "32 -1.688518 -0.801549  1.334923  0.624916   \n",
       "33  0.222029 -0.937026 -0.634199 -1.011938   \n",
       "34 -1.264009 -1.917309 -1.342226 -0.620010   \n",
       "35  1.107642  2.333040 -2.048698 -0.661679   \n",
       "\n",
       "                                 IN FILE LAST MOD BY         Genus  \n",
       "0      Ramphocaenus-melanurus-149300.wav    EdZamora  Ramphocaenus  \n",
       "1       Ramphocaenus-melanurus-27794.wav    EdZamora  Ramphocaenus  \n",
       "2        Ramphocaenus-sticturus-2312.wav    EdZamora  Ramphocaenus  \n",
       "3      Ramphocaenus-sticturus-424936.wav    EdZamora  Ramphocaenus  \n",
       "4       Ramphocaenus-sticturus-91665.wav    EdZamora  Ramphocaenus  \n",
       "5       Ramphocaenus-sticturus-91680.wav    EdZamora  Ramphocaenus  \n",
       "6     Ramphotrigon-fuscicauda-102716.wav    EdZamora  Ramphotrigon  \n",
       "7     Ramphotrigon-fuscicauda-229017.wav    EdZamora  Ramphotrigon  \n",
       "8   Ramphotrigon-megacephalum-206161.wav    EdZamora  Ramphotrigon  \n",
       "9       Ramphotrigon-ruficauda-27821.wav    EdZamora  Ramphotrigon  \n",
       "10      Ramphotrigon-ruficauda-76085.wav    EdZamora  Ramphotrigon  \n",
       "11      Saltator-coerulescens-188095.wav    EdZamora      Saltator  \n",
       "12      Saltator-coerulescens-259778.wav    EdZamora      Saltator  \n",
       "13      Saltator-coerulescens-270937.wav    EdZamora      Saltator  \n",
       "14           Saltator-grossus-259800.wav    EdZamora      Saltator  \n",
       "15            Saltator-grossus-27833.wav    EdZamora      Saltator  \n",
       "16           Saltator-maximus-214115.wav    EdZamora      Saltator  \n",
       "17           Saltator-maximus-214117.wav    EdZamora      Saltator  \n",
       "18           Saltator-maximus-450251.wav    EdZamora      Saltator  \n",
       "19          Schiffornis-aenea-542811.wav    EdZamora   Schiffornis  \n",
       "20          Schiffornis-aenea-542813.wav    EdZamora   Schiffornis  \n",
       "21          Schiffornis-aenea-542814.wav    EdZamora   Schiffornis  \n",
       "22          Schiffornis-major-102619.wav    EdZamora   Schiffornis  \n",
       "23          Schiffornis-major-229321.wav    EdZamora   Schiffornis  \n",
       "24          Schiffornis-major-296584.wav    EdZamora   Schiffornis  \n",
       "25        Schiffornis-turdina-151821.wav    EdZamora   Schiffornis  \n",
       "26         Schiffornis-turdina-27841.wav    EdZamora   Schiffornis  \n",
       "27         Schiffornis-turdina-76029.wav    EdZamora   Schiffornis  \n",
       "28      Sclerurus-albigularis-170550.wav    EdZamora     Sclerurus  \n",
       "29      Sclerurus-albigularis-171021.wav    EdZamora     Sclerurus  \n",
       "30      Sclerurus-albigularis-475900.wav    EdZamora     Sclerurus  \n",
       "31       Sclerurus-albigularis-74173.wav    EdZamora     Sclerurus  \n",
       "32       Sclerurus-caudacutus-296569.wav    EdZamora     Sclerurus  \n",
       "33        Sclerurus-caudacutus-39129.wav    EdZamora     Sclerurus  \n",
       "34       Sclerurus-caudacutus-394817.wav    EdZamora     Sclerurus  \n",
       "35        Sclerurus-mexicanus-534691.wav    EdZamora     Sclerurus  "
      ]
     },
     "execution_count": 21,
     "metadata": {},
     "output_type": "execute_result"
    }
   ],
   "source": [
    "scores_components = pd.DataFrame(scores_pca,columns = ['PC-1','PC-2','PC-3','PC-4'])\n",
    "scores_components['IN FILE'],scores_components['LAST MOD BY'], scores_components['Genus'] = Y_3,Y_2, Y\n",
    "scores_components"
   ]
  },
  {
   "cell_type": "code",
   "execution_count": 22,
   "metadata": {},
   "outputs": [],
   "source": [
    "# Within Cluster Sum of Squares\n",
    "# Elbow Technique\n",
    "\n",
    "wcss = []\n",
    "for i in range(1,21):\n",
    "    kmeans_pca = KMeans(n_clusters = i, init = 'k-means++', random_state = 42)\n",
    "    kmeans_pca.fit(scores_pca)\n",
    "    wcss.append(kmeans_pca.inertia_)"
   ]
  },
  {
   "cell_type": "code",
   "execution_count": 23,
   "metadata": {},
   "outputs": [
    {
     "data": {
      "image/png": "[encoded data removed]",
      "text/plain": [
       "<Figure size 720x576 with 1 Axes>"
      ]
     },
     "metadata": {},
     "output_type": "display_data"
    }
   ],
   "source": [
    "plt.figure(figsize = (10,8))\n",
    "plt.plot(range(1,21),wcss,marker = 'o', linestyle = '--')\n",
    "plt.xlabel('Number of Clusters')\n",
    "plt.ylabel('WCSS')\n",
    "plt.title('K-means with PCA Clustering')\n",
    "plt.show()"
   ]
  },
  {
   "cell_type": "code",
   "execution_count": 24,
   "metadata": {},
   "outputs": [],
   "source": [
    "kmeans_pca = KMeans(n_clusters = 5, init = 'k-means++',random_state = 42)"
   ]
  },
  {
   "cell_type": "code",
   "execution_count": 25,
   "metadata": {},
   "outputs": [
    {
     "data": {
      "text/plain": [
       "KMeans(n_clusters=5, random_state=42)"
      ]
     },
     "execution_count": 25,
     "metadata": {},
     "output_type": "execute_result"
    }
   ],
   "source": [
    "kmeans_pca.fit(scores_pca)"
   ]
  },
  {
   "cell_type": "code",
   "execution_count": 26,
   "metadata": {},
   "outputs": [],
   "source": [
    "df_segm_pca_kmeans = pd.concat([X.reset_index(drop = True), pd.DataFrame(scores_pca)], axis = 1)\n",
    "df_segm_pca_kmeans.columns.values[-4:] = ['PCA1','PCA2','PCA3','PCA4']\n",
    "\n",
    "df_segm_pca_kmeans['Segment K-means PCA'] = kmeans_pca.labels_"
   ]
  },
  {
   "cell_type": "code",
   "execution_count": 27,
   "metadata": {},
   "outputs": [
    {
     "data": {
      "text/html": [
       "<div>\n",
       "<style scoped>\n",
       "    .dataframe tbody tr th:only-of-type {\n",
       "        vertical-align: middle;\n",
       "    }\n",
       "\n",
       "    .dataframe tbody tr th {\n",
       "        vertical-align: top;\n",
       "    }\n",
       "\n",
       "    .dataframe thead th {\n",
       "        text-align: right;\n",
       "    }\n",
       "</style>\n",
       "<table border=\"1\" class=\"dataframe\">\n",
       "  <thead>\n",
       "    <tr style=\"text-align: right;\">\n",
       "      <th></th>\n",
       "      <th>CLIP LENGTH</th>\n",
       "      <th>SUM DURATION</th>\n",
       "      <th>WHITE SPACE</th>\n",
       "      <th>OVERLAP COUNT</th>\n",
       "      <th>MEDIAN DIST B/W ANNS</th>\n",
       "      <th>MEDIAN DURATION</th>\n",
       "      <th>OFFSET COUNT</th>\n",
       "      <th>PCA1</th>\n",
       "      <th>PCA2</th>\n",
       "      <th>PCA3</th>\n",
       "      <th>PCA4</th>\n",
       "      <th>Segment K-means PCA</th>\n",
       "    </tr>\n",
       "  </thead>\n",
       "  <tbody>\n",
       "    <tr>\n",
       "      <th>0</th>\n",
       "      <td>73.6131</td>\n",
       "      <td>30.8374</td>\n",
       "      <td>42.7757</td>\n",
       "      <td>0</td>\n",
       "      <td>1.109900e+00</td>\n",
       "      <td>0.44995</td>\n",
       "      <td>28</td>\n",
       "      <td>1.853107</td>\n",
       "      <td>1.413974</td>\n",
       "      <td>0.363450</td>\n",
       "      <td>-1.220929</td>\n",
       "      <td>4</td>\n",
       "    </tr>\n",
       "    <tr>\n",
       "      <th>1</th>\n",
       "      <td>54.0473</td>\n",
       "      <td>25.2886</td>\n",
       "      <td>28.7587</td>\n",
       "      <td>0</td>\n",
       "      <td>2.729900e+00</td>\n",
       "      <td>2.62980</td>\n",
       "      <td>11</td>\n",
       "      <td>-0.171948</td>\n",
       "      <td>1.179811</td>\n",
       "      <td>1.782262</td>\n",
       "      <td>0.383653</td>\n",
       "      <td>0</td>\n",
       "    </tr>\n",
       "    <tr>\n",
       "      <th>2</th>\n",
       "      <td>10.1094</td>\n",
       "      <td>6.5372</td>\n",
       "      <td>3.5722</td>\n",
       "      <td>0</td>\n",
       "      <td>1.213000e-01</td>\n",
       "      <td>0.24270</td>\n",
       "      <td>27</td>\n",
       "      <td>-0.504345</td>\n",
       "      <td>-2.234625</td>\n",
       "      <td>-0.798998</td>\n",
       "      <td>-0.733948</td>\n",
       "      <td>1</td>\n",
       "    </tr>\n",
       "    <tr>\n",
       "      <th>3</th>\n",
       "      <td>38.8320</td>\n",
       "      <td>18.0810</td>\n",
       "      <td>20.7510</td>\n",
       "      <td>50</td>\n",
       "      <td>-1.110223e-15</td>\n",
       "      <td>0.19000</td>\n",
       "      <td>98</td>\n",
       "      <td>4.012142</td>\n",
       "      <td>-2.285058</td>\n",
       "      <td>-0.708493</td>\n",
       "      <td>1.766454</td>\n",
       "      <td>2</td>\n",
       "    </tr>\n",
       "    <tr>\n",
       "      <th>4</th>\n",
       "      <td>21.3420</td>\n",
       "      <td>8.7208</td>\n",
       "      <td>12.6212</td>\n",
       "      <td>0</td>\n",
       "      <td>3.160300e+00</td>\n",
       "      <td>2.95020</td>\n",
       "      <td>3</td>\n",
       "      <td>-1.921251</td>\n",
       "      <td>-0.309648</td>\n",
       "      <td>1.101410</td>\n",
       "      <td>1.092941</td>\n",
       "      <td>0</td>\n",
       "    </tr>\n",
       "  </tbody>\n",
       "</table>\n",
       "</div>"
      ],
      "text/plain": [
       "   CLIP LENGTH  SUM DURATION  WHITE SPACE  OVERLAP COUNT  \\\n",
       "0      73.6131       30.8374      42.7757              0   \n",
       "1      54.0473       25.2886      28.7587              0   \n",
       "2      10.1094        6.5372       3.5722              0   \n",
       "3      38.8320       18.0810      20.7510             50   \n",
       "4      21.3420        8.7208      12.6212              0   \n",
       "\n",
       "   MEDIAN DIST B/W ANNS  MEDIAN DURATION  OFFSET COUNT      PCA1      PCA2  \\\n",
       "0          1.109900e+00          0.44995            28  1.853107  1.413974   \n",
       "1          2.729900e+00          2.62980            11 -0.171948  1.179811   \n",
       "2          1.213000e-01          0.24270            27 -0.504345 -2.234625   \n",
       "3         -1.110223e-15          0.19000            98  4.012142 -2.285058   \n",
       "4          3.160300e+00          2.95020             3 -1.921251 -0.309648   \n",
       "\n",
       "       PCA3      PCA4  Segment K-means PCA  \n",
       "0  0.363450 -1.220929                    4  \n",
       "1  1.782262  0.383653                    0  \n",
       "2 -0.798998 -0.733948                    1  \n",
       "3 -0.708493  1.766454                    2  \n",
       "4  1.101410  1.092941                    0  "
      ]
     },
     "execution_count": 27,
     "metadata": {},
     "output_type": "execute_result"
    }
   ],
   "source": [
    "df_segm_pca_kmeans.head()"
   ]
  },
  {
   "cell_type": "code",
   "execution_count": 28,
   "metadata": {},
   "outputs": [],
   "source": [
    "df_segm_pca_kmeans['Cluster'] = df_segm_pca_kmeans['Segment K-means PCA'].map({0:'first',1:'second',2:'third',3:'fourth',4:'fifth'})\n",
    "# df_segm_pca_kmeans"
   ]
  },
  {
   "cell_type": "code",
   "execution_count": 29,
   "metadata": {},
   "outputs": [],
   "source": [
    "df_segm_pca_kmeans['IN FILE'],df_segm_pca_kmeans['LAST MOD BY'], df_segm_pca_kmeans['Genus'] = Y_3,Y_2, Y"
   ]
  },
  {
   "cell_type": "code",
   "execution_count": 30,
   "metadata": {},
   "outputs": [
    {
     "data": {
      "text/html": [
       "<div>\n",
       "<style scoped>\n",
       "    .dataframe tbody tr th:only-of-type {\n",
       "        vertical-align: middle;\n",
       "    }\n",
       "\n",
       "    .dataframe tbody tr th {\n",
       "        vertical-align: top;\n",
       "    }\n",
       "\n",
       "    .dataframe thead th {\n",
       "        text-align: right;\n",
       "    }\n",
       "</style>\n",
       "<table border=\"1\" class=\"dataframe\">\n",
       "  <thead>\n",
       "    <tr style=\"text-align: right;\">\n",
       "      <th></th>\n",
       "      <th>CLIP LENGTH</th>\n",
       "      <th>SUM DURATION</th>\n",
       "      <th>WHITE SPACE</th>\n",
       "      <th>OVERLAP COUNT</th>\n",
       "      <th>MEDIAN DIST B/W ANNS</th>\n",
       "      <th>MEDIAN DURATION</th>\n",
       "      <th>OFFSET COUNT</th>\n",
       "      <th>PCA1</th>\n",
       "      <th>PCA2</th>\n",
       "      <th>PCA3</th>\n",
       "      <th>PCA4</th>\n",
       "      <th>Segment K-means PCA</th>\n",
       "      <th>Cluster</th>\n",
       "      <th>IN FILE</th>\n",
       "      <th>LAST MOD BY</th>\n",
       "      <th>Genus</th>\n",
       "    </tr>\n",
       "  </thead>\n",
       "  <tbody>\n",
       "    <tr>\n",
       "      <th>0</th>\n",
       "      <td>73.61310</td>\n",
       "      <td>30.8374</td>\n",
       "      <td>42.77570</td>\n",
       "      <td>0</td>\n",
       "      <td>1.109900e+00</td>\n",
       "      <td>0.44995</td>\n",
       "      <td>28</td>\n",
       "      <td>1.853107</td>\n",
       "      <td>1.413974</td>\n",
       "      <td>0.363450</td>\n",
       "      <td>-1.220929</td>\n",
       "      <td>4</td>\n",
       "      <td>fifth</td>\n",
       "      <td>Ramphocaenus-melanurus-149300.wav</td>\n",
       "      <td>EdZamora</td>\n",
       "      <td>Ramphocaenus</td>\n",
       "    </tr>\n",
       "    <tr>\n",
       "      <th>1</th>\n",
       "      <td>54.04730</td>\n",
       "      <td>25.2886</td>\n",
       "      <td>28.75870</td>\n",
       "      <td>0</td>\n",
       "      <td>2.729900e+00</td>\n",
       "      <td>2.62980</td>\n",
       "      <td>11</td>\n",
       "      <td>-0.171948</td>\n",
       "      <td>1.179811</td>\n",
       "      <td>1.782262</td>\n",
       "      <td>0.383653</td>\n",
       "      <td>0</td>\n",
       "      <td>first</td>\n",
       "      <td>Ramphocaenus-melanurus-27794.wav</td>\n",
       "      <td>EdZamora</td>\n",
       "      <td>Ramphocaenus</td>\n",
       "    </tr>\n",
       "    <tr>\n",
       "      <th>2</th>\n",
       "      <td>10.10940</td>\n",
       "      <td>6.5372</td>\n",
       "      <td>3.57220</td>\n",
       "      <td>0</td>\n",
       "      <td>1.213000e-01</td>\n",
       "      <td>0.24270</td>\n",
       "      <td>27</td>\n",
       "      <td>-0.504345</td>\n",
       "      <td>-2.234625</td>\n",
       "      <td>-0.798998</td>\n",
       "      <td>-0.733948</td>\n",
       "      <td>1</td>\n",
       "      <td>second</td>\n",
       "      <td>Ramphocaenus-sticturus-2312.wav</td>\n",
       "      <td>EdZamora</td>\n",
       "      <td>Ramphocaenus</td>\n",
       "    </tr>\n",
       "    <tr>\n",
       "      <th>3</th>\n",
       "      <td>38.83200</td>\n",
       "      <td>18.0810</td>\n",
       "      <td>20.75100</td>\n",
       "      <td>50</td>\n",
       "      <td>-1.110223e-15</td>\n",
       "      <td>0.19000</td>\n",
       "      <td>98</td>\n",
       "      <td>4.012142</td>\n",
       "      <td>-2.285058</td>\n",
       "      <td>-0.708493</td>\n",
       "      <td>1.766454</td>\n",
       "      <td>2</td>\n",
       "      <td>third</td>\n",
       "      <td>Ramphocaenus-sticturus-424936.wav</td>\n",
       "      <td>EdZamora</td>\n",
       "      <td>Ramphocaenus</td>\n",
       "    </tr>\n",
       "    <tr>\n",
       "      <th>4</th>\n",
       "      <td>21.34200</td>\n",
       "      <td>8.7208</td>\n",
       "      <td>12.62120</td>\n",
       "      <td>0</td>\n",
       "      <td>3.160300e+00</td>\n",
       "      <td>2.95020</td>\n",
       "      <td>3</td>\n",
       "      <td>-1.921251</td>\n",
       "      <td>-0.309648</td>\n",
       "      <td>1.101410</td>\n",
       "      <td>1.092941</td>\n",
       "      <td>0</td>\n",
       "      <td>first</td>\n",
       "      <td>Ramphocaenus-sticturus-91665.wav</td>\n",
       "      <td>EdZamora</td>\n",
       "      <td>Ramphocaenus</td>\n",
       "    </tr>\n",
       "    <tr>\n",
       "      <th>5</th>\n",
       "      <td>53.42040</td>\n",
       "      <td>29.1900</td>\n",
       "      <td>24.23040</td>\n",
       "      <td>56</td>\n",
       "      <td>0.000000e+00</td>\n",
       "      <td>0.17000</td>\n",
       "      <td>151</td>\n",
       "      <td>6.036603</td>\n",
       "      <td>-2.125993</td>\n",
       "      <td>-0.147928</td>\n",
       "      <td>2.328123</td>\n",
       "      <td>2</td>\n",
       "      <td>third</td>\n",
       "      <td>Ramphocaenus-sticturus-91680.wav</td>\n",
       "      <td>EdZamora</td>\n",
       "      <td>Ramphocaenus</td>\n",
       "    </tr>\n",
       "    <tr>\n",
       "      <th>6</th>\n",
       "      <td>23.18400</td>\n",
       "      <td>10.5472</td>\n",
       "      <td>12.63680</td>\n",
       "      <td>0</td>\n",
       "      <td>8.728000e-01</td>\n",
       "      <td>0.95970</td>\n",
       "      <td>11</td>\n",
       "      <td>-0.671710</td>\n",
       "      <td>-1.107856</td>\n",
       "      <td>-0.132399</td>\n",
       "      <td>-0.509339</td>\n",
       "      <td>1</td>\n",
       "      <td>second</td>\n",
       "      <td>Ramphotrigon-fuscicauda-102716.wav</td>\n",
       "      <td>EdZamora</td>\n",
       "      <td>Ramphotrigon</td>\n",
       "    </tr>\n",
       "    <tr>\n",
       "      <th>7</th>\n",
       "      <td>51.76800</td>\n",
       "      <td>20.1693</td>\n",
       "      <td>31.59870</td>\n",
       "      <td>0</td>\n",
       "      <td>1.690050e+00</td>\n",
       "      <td>3.24490</td>\n",
       "      <td>8</td>\n",
       "      <td>-0.531221</td>\n",
       "      <td>1.088186</td>\n",
       "      <td>1.981363</td>\n",
       "      <td>0.426864</td>\n",
       "      <td>0</td>\n",
       "      <td>first</td>\n",
       "      <td>Ramphotrigon-fuscicauda-229017.wav</td>\n",
       "      <td>EdZamora</td>\n",
       "      <td>Ramphotrigon</td>\n",
       "    </tr>\n",
       "    <tr>\n",
       "      <th>8</th>\n",
       "      <td>21.99510</td>\n",
       "      <td>3.3693</td>\n",
       "      <td>18.62580</td>\n",
       "      <td>0</td>\n",
       "      <td>3.049350e+00</td>\n",
       "      <td>0.59485</td>\n",
       "      <td>6</td>\n",
       "      <td>-1.164013</td>\n",
       "      <td>-0.680696</td>\n",
       "      <td>-1.213945</td>\n",
       "      <td>0.012957</td>\n",
       "      <td>1</td>\n",
       "      <td>second</td>\n",
       "      <td>Ramphotrigon-megacephalum-206161.wav</td>\n",
       "      <td>EdZamora</td>\n",
       "      <td>Ramphotrigon</td>\n",
       "    </tr>\n",
       "    <tr>\n",
       "      <th>9</th>\n",
       "      <td>54.15180</td>\n",
       "      <td>10.9202</td>\n",
       "      <td>43.23160</td>\n",
       "      <td>0</td>\n",
       "      <td>5.195200e+00</td>\n",
       "      <td>1.35500</td>\n",
       "      <td>8</td>\n",
       "      <td>-0.519026</td>\n",
       "      <td>1.677048</td>\n",
       "      <td>-0.675028</td>\n",
       "      <td>0.655016</td>\n",
       "      <td>3</td>\n",
       "      <td>fourth</td>\n",
       "      <td>Ramphotrigon-ruficauda-27821.wav</td>\n",
       "      <td>EdZamora</td>\n",
       "      <td>Ramphotrigon</td>\n",
       "    </tr>\n",
       "    <tr>\n",
       "      <th>10</th>\n",
       "      <td>84.50400</td>\n",
       "      <td>9.9992</td>\n",
       "      <td>74.50480</td>\n",
       "      <td>0</td>\n",
       "      <td>1.004430e+01</td>\n",
       "      <td>1.42980</td>\n",
       "      <td>7</td>\n",
       "      <td>-0.337490</td>\n",
       "      <td>4.466769</td>\n",
       "      <td>-1.627176</td>\n",
       "      <td>1.865605</td>\n",
       "      <td>3</td>\n",
       "      <td>fourth</td>\n",
       "      <td>Ramphotrigon-ruficauda-76085.wav</td>\n",
       "      <td>EdZamora</td>\n",
       "      <td>Ramphotrigon</td>\n",
       "    </tr>\n",
       "    <tr>\n",
       "      <th>11</th>\n",
       "      <td>16.92730</td>\n",
       "      <td>5.9891</td>\n",
       "      <td>10.93820</td>\n",
       "      <td>0</td>\n",
       "      <td>4.389300e+00</td>\n",
       "      <td>1.98970</td>\n",
       "      <td>3</td>\n",
       "      <td>-1.947785</td>\n",
       "      <td>-0.492779</td>\n",
       "      <td>0.055839</td>\n",
       "      <td>1.068945</td>\n",
       "      <td>0</td>\n",
       "      <td>first</td>\n",
       "      <td>Saltator-coerulescens-188095.wav</td>\n",
       "      <td>EdZamora</td>\n",
       "      <td>Saltator</td>\n",
       "    </tr>\n",
       "    <tr>\n",
       "      <th>12</th>\n",
       "      <td>38.26940</td>\n",
       "      <td>6.6798</td>\n",
       "      <td>31.58960</td>\n",
       "      <td>0</td>\n",
       "      <td>2.074950e+00</td>\n",
       "      <td>0.47000</td>\n",
       "      <td>14</td>\n",
       "      <td>-0.276642</td>\n",
       "      <td>-0.011782</td>\n",
       "      <td>-1.195060</td>\n",
       "      <td>-0.440720</td>\n",
       "      <td>1</td>\n",
       "      <td>second</td>\n",
       "      <td>Saltator-coerulescens-259778.wav</td>\n",
       "      <td>EdZamora</td>\n",
       "      <td>Saltator</td>\n",
       "    </tr>\n",
       "    <tr>\n",
       "      <th>13</th>\n",
       "      <td>15.54290</td>\n",
       "      <td>6.4869</td>\n",
       "      <td>9.05600</td>\n",
       "      <td>0</td>\n",
       "      <td>3.743300e+00</td>\n",
       "      <td>2.20890</td>\n",
       "      <td>3</td>\n",
       "      <td>-1.967612</td>\n",
       "      <td>-0.662329</td>\n",
       "      <td>0.355973</td>\n",
       "      <td>0.988578</td>\n",
       "      <td>0</td>\n",
       "      <td>first</td>\n",
       "      <td>Saltator-coerulescens-270937.wav</td>\n",
       "      <td>EdZamora</td>\n",
       "      <td>Saltator</td>\n",
       "    </tr>\n",
       "    <tr>\n",
       "      <th>14</th>\n",
       "      <td>26.07020</td>\n",
       "      <td>9.1801</td>\n",
       "      <td>16.89010</td>\n",
       "      <td>0</td>\n",
       "      <td>2.617500e+00</td>\n",
       "      <td>1.52500</td>\n",
       "      <td>6</td>\n",
       "      <td>-1.146263</td>\n",
       "      <td>-0.434412</td>\n",
       "      <td>-0.007914</td>\n",
       "      <td>0.222745</td>\n",
       "      <td>0</td>\n",
       "      <td>first</td>\n",
       "      <td>Saltator-grossus-259800.wav</td>\n",
       "      <td>EdZamora</td>\n",
       "      <td>Saltator</td>\n",
       "    </tr>\n",
       "    <tr>\n",
       "      <th>15</th>\n",
       "      <td>42.52730</td>\n",
       "      <td>5.1597</td>\n",
       "      <td>37.36760</td>\n",
       "      <td>0</td>\n",
       "      <td>5.719600e+00</td>\n",
       "      <td>1.35490</td>\n",
       "      <td>4</td>\n",
       "      <td>-1.166796</td>\n",
       "      <td>1.199900</td>\n",
       "      <td>-1.031024</td>\n",
       "      <td>0.948119</td>\n",
       "      <td>3</td>\n",
       "      <td>fourth</td>\n",
       "      <td>Saltator-grossus-27833.wav</td>\n",
       "      <td>EdZamora</td>\n",
       "      <td>Saltator</td>\n",
       "    </tr>\n",
       "    <tr>\n",
       "      <th>16</th>\n",
       "      <td>35.84000</td>\n",
       "      <td>7.7100</td>\n",
       "      <td>28.13000</td>\n",
       "      <td>0</td>\n",
       "      <td>6.220000e+00</td>\n",
       "      <td>1.71000</td>\n",
       "      <td>5</td>\n",
       "      <td>-1.450451</td>\n",
       "      <td>0.898857</td>\n",
       "      <td>-0.488554</td>\n",
       "      <td>1.308058</td>\n",
       "      <td>0</td>\n",
       "      <td>first</td>\n",
       "      <td>Saltator-maximus-214115.wav</td>\n",
       "      <td>EdZamora</td>\n",
       "      <td>Saltator</td>\n",
       "    </tr>\n",
       "    <tr>\n",
       "      <th>17</th>\n",
       "      <td>48.95350</td>\n",
       "      <td>19.7372</td>\n",
       "      <td>29.21630</td>\n",
       "      <td>0</td>\n",
       "      <td>7.299000e-01</td>\n",
       "      <td>0.64990</td>\n",
       "      <td>31</td>\n",
       "      <td>0.856312</td>\n",
       "      <td>0.058740</td>\n",
       "      <td>-0.013672</td>\n",
       "      <td>-0.834973</td>\n",
       "      <td>4</td>\n",
       "      <td>fifth</td>\n",
       "      <td>Saltator-maximus-214117.wav</td>\n",
       "      <td>EdZamora</td>\n",
       "      <td>Saltator</td>\n",
       "    </tr>\n",
       "    <tr>\n",
       "      <th>18</th>\n",
       "      <td>42.69600</td>\n",
       "      <td>18.1782</td>\n",
       "      <td>24.51780</td>\n",
       "      <td>0</td>\n",
       "      <td>1.104900e+00</td>\n",
       "      <td>0.83490</td>\n",
       "      <td>22</td>\n",
       "      <td>0.342395</td>\n",
       "      <td>-0.121188</td>\n",
       "      <td>0.075198</td>\n",
       "      <td>-0.655700</td>\n",
       "      <td>4</td>\n",
       "      <td>fifth</td>\n",
       "      <td>Saltator-maximus-450251.wav</td>\n",
       "      <td>EdZamora</td>\n",
       "      <td>Saltator</td>\n",
       "    </tr>\n",
       "    <tr>\n",
       "      <th>19</th>\n",
       "      <td>28.60800</td>\n",
       "      <td>12.7392</td>\n",
       "      <td>15.86880</td>\n",
       "      <td>0</td>\n",
       "      <td>2.509800e+00</td>\n",
       "      <td>2.13490</td>\n",
       "      <td>6</td>\n",
       "      <td>-1.168090</td>\n",
       "      <td>-0.244120</td>\n",
       "      <td>0.746235</td>\n",
       "      <td>0.417202</td>\n",
       "      <td>0</td>\n",
       "      <td>first</td>\n",
       "      <td>Schiffornis-aenea-542811.wav</td>\n",
       "      <td>EdZamora</td>\n",
       "      <td>Schiffornis</td>\n",
       "    </tr>\n",
       "    <tr>\n",
       "      <th>20</th>\n",
       "      <td>29.61600</td>\n",
       "      <td>16.1878</td>\n",
       "      <td>13.42820</td>\n",
       "      <td>0</td>\n",
       "      <td>1.724800e+00</td>\n",
       "      <td>2.02975</td>\n",
       "      <td>8</td>\n",
       "      <td>-0.861832</td>\n",
       "      <td>-0.427130</td>\n",
       "      <td>1.012618</td>\n",
       "      <td>0.099416</td>\n",
       "      <td>0</td>\n",
       "      <td>first</td>\n",
       "      <td>Schiffornis-aenea-542813.wav</td>\n",
       "      <td>EdZamora</td>\n",
       "      <td>Schiffornis</td>\n",
       "    </tr>\n",
       "    <tr>\n",
       "      <th>21</th>\n",
       "      <td>33.48000</td>\n",
       "      <td>16.8200</td>\n",
       "      <td>16.66000</td>\n",
       "      <td>0</td>\n",
       "      <td>2.205000e+00</td>\n",
       "      <td>2.11000</td>\n",
       "      <td>9</td>\n",
       "      <td>-0.801809</td>\n",
       "      <td>-0.105650</td>\n",
       "      <td>1.021722</td>\n",
       "      <td>0.249590</td>\n",
       "      <td>0</td>\n",
       "      <td>first</td>\n",
       "      <td>Schiffornis-aenea-542814.wav</td>\n",
       "      <td>EdZamora</td>\n",
       "      <td>Schiffornis</td>\n",
       "    </tr>\n",
       "    <tr>\n",
       "      <th>22</th>\n",
       "      <td>27.04800</td>\n",
       "      <td>7.1194</td>\n",
       "      <td>19.92860</td>\n",
       "      <td>0</td>\n",
       "      <td>2.275350e+00</td>\n",
       "      <td>1.19990</td>\n",
       "      <td>6</td>\n",
       "      <td>-1.022278</td>\n",
       "      <td>-0.463991</td>\n",
       "      <td>-0.418418</td>\n",
       "      <td>-0.019113</td>\n",
       "      <td>1</td>\n",
       "      <td>second</td>\n",
       "      <td>Schiffornis-major-102619.wav</td>\n",
       "      <td>EdZamora</td>\n",
       "      <td>Schiffornis</td>\n",
       "    </tr>\n",
       "    <tr>\n",
       "      <th>23</th>\n",
       "      <td>60.01200</td>\n",
       "      <td>14.0703</td>\n",
       "      <td>45.94170</td>\n",
       "      <td>0</td>\n",
       "      <td>5.500000e-02</td>\n",
       "      <td>0.55500</td>\n",
       "      <td>24</td>\n",
       "      <td>0.985983</td>\n",
       "      <td>0.749573</td>\n",
       "      <td>-0.648180</td>\n",
       "      <td>-1.185530</td>\n",
       "      <td>4</td>\n",
       "      <td>fifth</td>\n",
       "      <td>Schiffornis-major-229321.wav</td>\n",
       "      <td>EdZamora</td>\n",
       "      <td>Schiffornis</td>\n",
       "    </tr>\n",
       "    <tr>\n",
       "      <th>24</th>\n",
       "      <td>9.14286</td>\n",
       "      <td>6.9669</td>\n",
       "      <td>2.17596</td>\n",
       "      <td>0</td>\n",
       "      <td>4.260000e-02</td>\n",
       "      <td>0.79840</td>\n",
       "      <td>9</td>\n",
       "      <td>-1.057041</td>\n",
       "      <td>-2.070074</td>\n",
       "      <td>-0.265148</td>\n",
       "      <td>-0.683655</td>\n",
       "      <td>1</td>\n",
       "      <td>second</td>\n",
       "      <td>Schiffornis-major-296584.wav</td>\n",
       "      <td>EdZamora</td>\n",
       "      <td>Schiffornis</td>\n",
       "    </tr>\n",
       "    <tr>\n",
       "      <th>25</th>\n",
       "      <td>21.15920</td>\n",
       "      <td>8.5397</td>\n",
       "      <td>12.61950</td>\n",
       "      <td>3</td>\n",
       "      <td>2.000000e-02</td>\n",
       "      <td>0.82000</td>\n",
       "      <td>9</td>\n",
       "      <td>-0.555985</td>\n",
       "      <td>-1.425757</td>\n",
       "      <td>-0.309042</td>\n",
       "      <td>-0.677998</td>\n",
       "      <td>1</td>\n",
       "      <td>second</td>\n",
       "      <td>Schiffornis-turdina-151821.wav</td>\n",
       "      <td>EdZamora</td>\n",
       "      <td>Schiffornis</td>\n",
       "    </tr>\n",
       "    <tr>\n",
       "      <th>26</th>\n",
       "      <td>82.10290</td>\n",
       "      <td>21.4982</td>\n",
       "      <td>60.60470</td>\n",
       "      <td>7</td>\n",
       "      <td>1.045000e-02</td>\n",
       "      <td>1.12990</td>\n",
       "      <td>18</td>\n",
       "      <td>1.793974</td>\n",
       "      <td>1.970485</td>\n",
       "      <td>0.079629</td>\n",
       "      <td>-0.977122</td>\n",
       "      <td>4</td>\n",
       "      <td>fifth</td>\n",
       "      <td>Schiffornis-turdina-27841.wav</td>\n",
       "      <td>EdZamora</td>\n",
       "      <td>Schiffornis</td>\n",
       "    </tr>\n",
       "    <tr>\n",
       "      <th>27</th>\n",
       "      <td>57.04800</td>\n",
       "      <td>11.8195</td>\n",
       "      <td>45.22850</td>\n",
       "      <td>0</td>\n",
       "      <td>1.055000e-01</td>\n",
       "      <td>0.52495</td>\n",
       "      <td>16</td>\n",
       "      <td>0.681690</td>\n",
       "      <td>0.673820</td>\n",
       "      <td>-0.805972</td>\n",
       "      <td>-1.217240</td>\n",
       "      <td>4</td>\n",
       "      <td>fifth</td>\n",
       "      <td>Schiffornis-turdina-76029.wav</td>\n",
       "      <td>EdZamora</td>\n",
       "      <td>Schiffornis</td>\n",
       "    </tr>\n",
       "    <tr>\n",
       "      <th>28</th>\n",
       "      <td>62.52000</td>\n",
       "      <td>40.1199</td>\n",
       "      <td>22.40010</td>\n",
       "      <td>3</td>\n",
       "      <td>5.350000e-01</td>\n",
       "      <td>1.69995</td>\n",
       "      <td>28</td>\n",
       "      <td>1.561603</td>\n",
       "      <td>0.644011</td>\n",
       "      <td>2.337267</td>\n",
       "      <td>-0.675688</td>\n",
       "      <td>4</td>\n",
       "      <td>fifth</td>\n",
       "      <td>Sclerurus-albigularis-170550.wav</td>\n",
       "      <td>EdZamora</td>\n",
       "      <td>Sclerurus</td>\n",
       "    </tr>\n",
       "    <tr>\n",
       "      <th>29</th>\n",
       "      <td>32.04000</td>\n",
       "      <td>10.3400</td>\n",
       "      <td>21.70000</td>\n",
       "      <td>0</td>\n",
       "      <td>8.700000e-01</td>\n",
       "      <td>0.43000</td>\n",
       "      <td>23</td>\n",
       "      <td>-0.003364</td>\n",
       "      <td>-0.758663</td>\n",
       "      <td>-0.724026</td>\n",
       "      <td>-0.712040</td>\n",
       "      <td>1</td>\n",
       "      <td>second</td>\n",
       "      <td>Sclerurus-albigularis-171021.wav</td>\n",
       "      <td>EdZamora</td>\n",
       "      <td>Sclerurus</td>\n",
       "    </tr>\n",
       "    <tr>\n",
       "      <th>30</th>\n",
       "      <td>42.31200</td>\n",
       "      <td>28.8761</td>\n",
       "      <td>13.43590</td>\n",
       "      <td>2</td>\n",
       "      <td>5.200000e-01</td>\n",
       "      <td>1.22000</td>\n",
       "      <td>25</td>\n",
       "      <td>0.723274</td>\n",
       "      <td>-0.438074</td>\n",
       "      <td>1.326114</td>\n",
       "      <td>-0.659724</td>\n",
       "      <td>4</td>\n",
       "      <td>fifth</td>\n",
       "      <td>Sclerurus-albigularis-475900.wav</td>\n",
       "      <td>EdZamora</td>\n",
       "      <td>Sclerurus</td>\n",
       "    </tr>\n",
       "    <tr>\n",
       "      <th>31</th>\n",
       "      <td>79.22940</td>\n",
       "      <td>37.9698</td>\n",
       "      <td>41.25960</td>\n",
       "      <td>1</td>\n",
       "      <td>6.950000e-01</td>\n",
       "      <td>1.40000</td>\n",
       "      <td>30</td>\n",
       "      <td>2.022724</td>\n",
       "      <td>1.701496</td>\n",
       "      <td>1.662099</td>\n",
       "      <td>-0.961834</td>\n",
       "      <td>4</td>\n",
       "      <td>fifth</td>\n",
       "      <td>Sclerurus-albigularis-74173.wav</td>\n",
       "      <td>EdZamora</td>\n",
       "      <td>Sclerurus</td>\n",
       "    </tr>\n",
       "    <tr>\n",
       "      <th>32</th>\n",
       "      <td>18.62530</td>\n",
       "      <td>10.9773</td>\n",
       "      <td>7.64800</td>\n",
       "      <td>0</td>\n",
       "      <td>1.834550e+00</td>\n",
       "      <td>2.78930</td>\n",
       "      <td>4</td>\n",
       "      <td>-1.688518</td>\n",
       "      <td>-0.801549</td>\n",
       "      <td>1.334923</td>\n",
       "      <td>0.624916</td>\n",
       "      <td>0</td>\n",
       "      <td>first</td>\n",
       "      <td>Sclerurus-caudacutus-296569.wav</td>\n",
       "      <td>EdZamora</td>\n",
       "      <td>Sclerurus</td>\n",
       "    </tr>\n",
       "    <tr>\n",
       "      <th>33</th>\n",
       "      <td>32.40000</td>\n",
       "      <td>12.1200</td>\n",
       "      <td>20.28000</td>\n",
       "      <td>0</td>\n",
       "      <td>1.700000e-01</td>\n",
       "      <td>0.27500</td>\n",
       "      <td>24</td>\n",
       "      <td>0.222029</td>\n",
       "      <td>-0.937026</td>\n",
       "      <td>-0.634199</td>\n",
       "      <td>-1.011938</td>\n",
       "      <td>1</td>\n",
       "      <td>second</td>\n",
       "      <td>Sclerurus-caudacutus-39129.wav</td>\n",
       "      <td>EdZamora</td>\n",
       "      <td>Sclerurus</td>\n",
       "    </tr>\n",
       "    <tr>\n",
       "      <th>34</th>\n",
       "      <td>8.09796</td>\n",
       "      <td>0.9179</td>\n",
       "      <td>7.18006</td>\n",
       "      <td>0</td>\n",
       "      <td>1.106700e+00</td>\n",
       "      <td>0.18360</td>\n",
       "      <td>5</td>\n",
       "      <td>-1.264009</td>\n",
       "      <td>-1.917309</td>\n",
       "      <td>-1.342226</td>\n",
       "      <td>-0.620010</td>\n",
       "      <td>1</td>\n",
       "      <td>second</td>\n",
       "      <td>Sclerurus-caudacutus-394817.wav</td>\n",
       "      <td>EdZamora</td>\n",
       "      <td>Sclerurus</td>\n",
       "    </tr>\n",
       "    <tr>\n",
       "      <th>35</th>\n",
       "      <td>77.64000</td>\n",
       "      <td>6.3200</td>\n",
       "      <td>71.32000</td>\n",
       "      <td>0</td>\n",
       "      <td>2.432500e+00</td>\n",
       "      <td>0.24500</td>\n",
       "      <td>26</td>\n",
       "      <td>1.107642</td>\n",
       "      <td>2.333040</td>\n",
       "      <td>-2.048698</td>\n",
       "      <td>-0.661679</td>\n",
       "      <td>3</td>\n",
       "      <td>fourth</td>\n",
       "      <td>Sclerurus-mexicanus-534691.wav</td>\n",
       "      <td>EdZamora</td>\n",
       "      <td>Sclerurus</td>\n",
       "    </tr>\n",
       "  </tbody>\n",
       "</table>\n",
       "</div>"
      ],
      "text/plain": [
       "    CLIP LENGTH  SUM DURATION  WHITE SPACE  OVERLAP COUNT  \\\n",
       "0      73.61310       30.8374     42.77570              0   \n",
       "1      54.04730       25.2886     28.75870              0   \n",
       "2      10.10940        6.5372      3.57220              0   \n",
       "3      38.83200       18.0810     20.75100             50   \n",
       "4      21.34200        8.7208     12.62120              0   \n",
       "5      53.42040       29.1900     24.23040             56   \n",
       "6      23.18400       10.5472     12.63680              0   \n",
       "7      51.76800       20.1693     31.59870              0   \n",
       "8      21.99510        3.3693     18.62580              0   \n",
       "9      54.15180       10.9202     43.23160              0   \n",
       "10     84.50400        9.9992     74.50480              0   \n",
       "11     16.92730        5.9891     10.93820              0   \n",
       "12     38.26940        6.6798     31.58960              0   \n",
       "13     15.54290        6.4869      9.05600              0   \n",
       "14     26.07020        9.1801     16.89010              0   \n",
       "15     42.52730        5.1597     37.36760              0   \n",
       "16     35.84000        7.7100     28.13000              0   \n",
       "17     48.95350       19.7372     29.21630              0   \n",
       "18     42.69600       18.1782     24.51780              0   \n",
       "19     28.60800       12.7392     15.86880              0   \n",
       "20     29.61600       16.1878     13.42820              0   \n",
       "21     33.48000       16.8200     16.66000              0   \n",
       "22     27.04800        7.1194     19.92860              0   \n",
       "23     60.01200       14.0703     45.94170              0   \n",
       "24      9.14286        6.9669      2.17596              0   \n",
       "25     21.15920        8.5397     12.61950              3   \n",
       "26     82.10290       21.4982     60.60470              7   \n",
       "27     57.04800       11.8195     45.22850              0   \n",
       "28     62.52000       40.1199     22.40010              3   \n",
       "29     32.04000       10.3400     21.70000              0   \n",
       "30     42.31200       28.8761     13.43590              2   \n",
       "31     79.22940       37.9698     41.25960              1   \n",
       "32     18.62530       10.9773      7.64800              0   \n",
       "33     32.40000       12.1200     20.28000              0   \n",
       "34      8.09796        0.9179      7.18006              0   \n",
       "35     77.64000        6.3200     71.32000              0   \n",
       "\n",
       "    MEDIAN DIST B/W ANNS  MEDIAN DURATION  OFFSET COUNT      PCA1      PCA2  \\\n",
       "0           1.109900e+00          0.44995            28  1.853107  1.413974   \n",
       "1           2.729900e+00          2.62980            11 -0.171948  1.179811   \n",
       "2           1.213000e-01          0.24270            27 -0.504345 -2.234625   \n",
       "3          -1.110223e-15          0.19000            98  4.012142 -2.285058   \n",
       "4           3.160300e+00          2.95020             3 -1.921251 -0.309648   \n",
       "5           0.000000e+00          0.17000           151  6.036603 -2.125993   \n",
       "6           8.728000e-01          0.95970            11 -0.671710 -1.107856   \n",
       "7           1.690050e+00          3.24490             8 -0.531221  1.088186   \n",
       "8           3.049350e+00          0.59485             6 -1.164013 -0.680696   \n",
       "9           5.195200e+00          1.35500             8 -0.519026  1.677048   \n",
       "10          1.004430e+01          1.42980             7 -0.337490  4.466769   \n",
       "11          4.389300e+00          1.98970             3 -1.947785 -0.492779   \n",
       "12          2.074950e+00          0.47000            14 -0.276642 -0.011782   \n",
       "13          3.743300e+00          2.20890             3 -1.967612 -0.662329   \n",
       "14          2.617500e+00          1.52500             6 -1.146263 -0.434412   \n",
       "15          5.719600e+00          1.35490             4 -1.166796  1.199900   \n",
       "16          6.220000e+00          1.71000             5 -1.450451  0.898857   \n",
       "17          7.299000e-01          0.64990            31  0.856312  0.058740   \n",
       "18          1.104900e+00          0.83490            22  0.342395 -0.121188   \n",
       "19          2.509800e+00          2.13490             6 -1.168090 -0.244120   \n",
       "20          1.724800e+00          2.02975             8 -0.861832 -0.427130   \n",
       "21          2.205000e+00          2.11000             9 -0.801809 -0.105650   \n",
       "22          2.275350e+00          1.19990             6 -1.022278 -0.463991   \n",
       "23          5.500000e-02          0.55500            24  0.985983  0.749573   \n",
       "24          4.260000e-02          0.79840             9 -1.057041 -2.070074   \n",
       "25          2.000000e-02          0.82000             9 -0.555985 -1.425757   \n",
       "26          1.045000e-02          1.12990            18  1.793974  1.970485   \n",
       "27          1.055000e-01          0.52495            16  0.681690  0.673820   \n",
       "28          5.350000e-01          1.69995            28  1.561603  0.644011   \n",
       "29          8.700000e-01          0.43000            23 -0.003364 -0.758663   \n",
       "30          5.200000e-01          1.22000            25  0.723274 -0.438074   \n",
       "31          6.950000e-01          1.40000            30  2.022724  1.701496   \n",
       "32          1.834550e+00          2.78930             4 -1.688518 -0.801549   \n",
       "33          1.700000e-01          0.27500            24  0.222029 -0.937026   \n",
       "34          1.106700e+00          0.18360             5 -1.264009 -1.917309   \n",
       "35          2.432500e+00          0.24500            26  1.107642  2.333040   \n",
       "\n",
       "        PCA3      PCA4  Segment K-means PCA Cluster  \\\n",
       "0   0.363450 -1.220929                    4   fifth   \n",
       "1   1.782262  0.383653                    0   first   \n",
       "2  -0.798998 -0.733948                    1  second   \n",
       "3  -0.708493  1.766454                    2   third   \n",
       "4   1.101410  1.092941                    0   first   \n",
       "5  -0.147928  2.328123                    2   third   \n",
       "6  -0.132399 -0.509339                    1  second   \n",
       "7   1.981363  0.426864                    0   first   \n",
       "8  -1.213945  0.012957                    1  second   \n",
       "9  -0.675028  0.655016                    3  fourth   \n",
       "10 -1.627176  1.865605                    3  fourth   \n",
       "11  0.055839  1.068945                    0   first   \n",
       "12 -1.195060 -0.440720                    1  second   \n",
       "13  0.355973  0.988578                    0   first   \n",
       "14 -0.007914  0.222745                    0   first   \n",
       "15 -1.031024  0.948119                    3  fourth   \n",
       "16 -0.488554  1.308058                    0   first   \n",
       "17 -0.013672 -0.834973                    4   fifth   \n",
       "18  0.075198 -0.655700                    4   fifth   \n",
       "19  0.746235  0.417202                    0   first   \n",
       "20  1.012618  0.099416                    0   first   \n",
       "21  1.021722  0.249590                    0   first   \n",
       "22 -0.418418 -0.019113                    1  second   \n",
       "23 -0.648180 -1.185530                    4   fifth   \n",
       "24 -0.265148 -0.683655                    1  second   \n",
       "25 -0.309042 -0.677998                    1  second   \n",
       "26  0.079629 -0.977122                    4   fifth   \n",
       "27 -0.805972 -1.217240                    4   fifth   \n",
       "28  2.337267 -0.675688                    4   fifth   \n",
       "29 -0.724026 -0.712040                    1  second   \n",
       "30  1.326114 -0.659724                    4   fifth   \n",
       "31  1.662099 -0.961834                    4   fifth   \n",
       "32  1.334923  0.624916                    0   first   \n",
       "33 -0.634199 -1.011938                    1  second   \n",
       "34 -1.342226 -0.620010                    1  second   \n",
       "35 -2.048698 -0.661679                    3  fourth   \n",
       "\n",
       "                                 IN FILE LAST MOD BY         Genus  \n",
       "0      Ramphocaenus-melanurus-149300.wav    EdZamora  Ramphocaenus  \n",
       "1       Ramphocaenus-melanurus-27794.wav    EdZamora  Ramphocaenus  \n",
       "2        Ramphocaenus-sticturus-2312.wav    EdZamora  Ramphocaenus  \n",
       "3      Ramphocaenus-sticturus-424936.wav    EdZamora  Ramphocaenus  \n",
       "4       Ramphocaenus-sticturus-91665.wav    EdZamora  Ramphocaenus  \n",
       "5       Ramphocaenus-sticturus-91680.wav    EdZamora  Ramphocaenus  \n",
       "6     Ramphotrigon-fuscicauda-102716.wav    EdZamora  Ramphotrigon  \n",
       "7     Ramphotrigon-fuscicauda-229017.wav    EdZamora  Ramphotrigon  \n",
       "8   Ramphotrigon-megacephalum-206161.wav    EdZamora  Ramphotrigon  \n",
       "9       Ramphotrigon-ruficauda-27821.wav    EdZamora  Ramphotrigon  \n",
       "10      Ramphotrigon-ruficauda-76085.wav    EdZamora  Ramphotrigon  \n",
       "11      Saltator-coerulescens-188095.wav    EdZamora      Saltator  \n",
       "12      Saltator-coerulescens-259778.wav    EdZamora      Saltator  \n",
       "13      Saltator-coerulescens-270937.wav    EdZamora      Saltator  \n",
       "14           Saltator-grossus-259800.wav    EdZamora      Saltator  \n",
       "15            Saltator-grossus-27833.wav    EdZamora      Saltator  \n",
       "16           Saltator-maximus-214115.wav    EdZamora      Saltator  \n",
       "17           Saltator-maximus-214117.wav    EdZamora      Saltator  \n",
       "18           Saltator-maximus-450251.wav    EdZamora      Saltator  \n",
       "19          Schiffornis-aenea-542811.wav    EdZamora   Schiffornis  \n",
       "20          Schiffornis-aenea-542813.wav    EdZamora   Schiffornis  \n",
       "21          Schiffornis-aenea-542814.wav    EdZamora   Schiffornis  \n",
       "22          Schiffornis-major-102619.wav    EdZamora   Schiffornis  \n",
       "23          Schiffornis-major-229321.wav    EdZamora   Schiffornis  \n",
       "24          Schiffornis-major-296584.wav    EdZamora   Schiffornis  \n",
       "25        Schiffornis-turdina-151821.wav    EdZamora   Schiffornis  \n",
       "26         Schiffornis-turdina-27841.wav    EdZamora   Schiffornis  \n",
       "27         Schiffornis-turdina-76029.wav    EdZamora   Schiffornis  \n",
       "28      Sclerurus-albigularis-170550.wav    EdZamora     Sclerurus  \n",
       "29      Sclerurus-albigularis-171021.wav    EdZamora     Sclerurus  \n",
       "30      Sclerurus-albigularis-475900.wav    EdZamora     Sclerurus  \n",
       "31       Sclerurus-albigularis-74173.wav    EdZamora     Sclerurus  \n",
       "32       Sclerurus-caudacutus-296569.wav    EdZamora     Sclerurus  \n",
       "33        Sclerurus-caudacutus-39129.wav    EdZamora     Sclerurus  \n",
       "34       Sclerurus-caudacutus-394817.wav    EdZamora     Sclerurus  \n",
       "35        Sclerurus-mexicanus-534691.wav    EdZamora     Sclerurus  "
      ]
     },
     "execution_count": 30,
     "metadata": {},
     "output_type": "execute_result"
    }
   ],
   "source": [
    "df_segm_pca_kmeans"
   ]
  },
  {
   "cell_type": "code",
   "execution_count": 31,
   "metadata": {},
   "outputs": [
    {
     "data": {
      "image/png": "[encoded data removed]",
      "text/plain": [
       "<Figure size 720x576 with 1 Axes>"
      ]
     },
     "metadata": {},
     "output_type": "display_data"
    }
   ],
   "source": [
    "plt.figure(figsize=(10,8))\n",
    "sns.scatterplot(data = df_segm_pca_kmeans,x = 'PCA2', y = 'PCA1', hue = df_segm_pca_kmeans['Cluster'])\n",
    "plt.title('Clusters by PCA Components')\n",
    "plt.show()"
   ]
  },
  {
   "cell_type": "code",
   "execution_count": 32,
   "metadata": {},
   "outputs": [
    {
     "data": {
      "application/vnd.plotly.v1+json": {
       "config": {
        "plotlyServerURL": "https://plot.ly"
       },
       "data": [
        {
         "hovertemplate": "<b>%{hovertext}</b><br><br>Cluster=fifth<br>PCA1=%{x}<br>PCA2=%{y}<br>PCA3=%{z}<extra></extra>",
         "hovertext": [
          [
           "Ramphocaenus-melanurus-149300.wav",
           "EdZamora"
          ],
          [
           "Saltator-maximus-214117.wav",
           "EdZamora"
          ],
          [
           "Saltator-maximus-450251.wav",
           "EdZamora"
          ],
          [
           "Schiffornis-major-229321.wav",
           "EdZamora"
          ],
          [
           "Schiffornis-turdina-27841.wav",
           "EdZamora"
          ],
          [
           "Schiffornis-turdina-76029.wav",
           "EdZamora"
          ],
          [
           "Sclerurus-albigularis-170550.wav",
           "EdZamora"
          ],
          [
           "Sclerurus-albigularis-475900.wav",
           "EdZamora"
          ],
          [
           "Sclerurus-albigularis-74173.wav",
           "EdZamora"
          ]
         ],
         "legendgroup": "fifth",
         "marker": {
          "color": "#636efa",
          "symbol": "circle"
         },
         "mode": "markers",
         "name": "fifth",
         "scene": "scene",
         "showlegend": true,
         "type": "scatter3d",
         "x": [
          1.8531074669558292,
          0.8563116465881185,
          0.3423953289815287,
          0.9859828532656869,
          1.7939744552895014,
          0.6816895432264787,
          1.561603240600277,
          0.7232739317394092,
          2.0227244422893653
         ],
         "y": [
          1.4139743906430968,
          0.05874015203287393,
          -0.12118821362360407,
          0.749572777512499,
          1.9704854811815817,
          0.6738198112327594,
          0.6440112947037605,
          -0.4380735937267092,
          1.7014957198285163
         ],
         "z": [
          0.3634499493515744,
          -0.013672167661933094,
          0.07519798718479705,
          -0.6481795945101751,
          0.07962895879041398,
          -0.8059722055226192,
          2.337267037190671,
          1.3261136003904517,
          1.6620988474636649
         ]
        },
        {
         "hovertemplate": "<b>%{hovertext}</b><br><br>Cluster=first<br>PCA1=%{x}<br>PCA2=%{y}<br>PCA3=%{z}<extra></extra>",
         "hovertext": [
          [
           "Ramphocaenus-melanurus-27794.wav",
           "EdZamora"
          ],
          [
           "Ramphocaenus-sticturus-91665.wav",
           "EdZamora"
          ],
          [
           "Ramphotrigon-fuscicauda-229017.wav",
           "EdZamora"
          ],
          [
           "Saltator-coerulescens-188095.wav",
           "EdZamora"
          ],
          [
           "Saltator-coerulescens-270937.wav",
           "EdZamora"
          ],
          [
           "Saltator-grossus-259800.wav",
           "EdZamora"
          ],
          [
           "Saltator-maximus-214115.wav",
           "EdZamora"
          ],
          [
           "Schiffornis-aenea-542811.wav",
           "EdZamora"
          ],
          [
           "Schiffornis-aenea-542813.wav",
           "EdZamora"
          ],
          [
           "Schiffornis-aenea-542814.wav",
           "EdZamora"
          ],
          [
           "Sclerurus-caudacutus-296569.wav",
           "EdZamora"
          ]
         ],
         "legendgroup": "first",
         "marker": {
          "color": "#EF553B",
          "symbol": "circle"
         },
         "mode": "markers",
         "name": "first",
         "scene": "scene",
         "showlegend": true,
         "type": "scatter3d",
         "x": [
          -0.171947612044069,
          -1.9212509829942712,
          -0.5312209350415945,
          -1.947784736630383,
          -1.96761215814698,
          -1.1462625130565123,
          -1.4504507352970997,
          -1.1680899996595149,
          -0.8618316197821954,
          -0.8018088402283398,
          -1.6885182360000932
         ],
         "y": [
          1.1798113928446081,
          -0.30964757448447944,
          1.0881858286296542,
          -0.4927788876598539,
          -0.6623285135006264,
          -0.43441236916854264,
          0.8988569178213235,
          -0.24412030353000713,
          -0.42713004134611154,
          -0.10565046965893608,
          -0.801549044573988
         ],
         "z": [
          1.7822618709331388,
          1.1014104350174423,
          1.9813627609633941,
          0.05583873081044187,
          0.355973069126225,
          -0.007914262367702962,
          -0.48855436982418005,
          0.7462346621042054,
          1.0126182832882515,
          1.021721526998849,
          1.3349225397942541
         ]
        },
        {
         "hovertemplate": "<b>%{hovertext}</b><br><br>Cluster=second<br>PCA1=%{x}<br>PCA2=%{y}<br>PCA3=%{z}<extra></extra>",
         "hovertext": [
          [
           "Ramphocaenus-sticturus-2312.wav",
           "EdZamora"
          ],
          [
           "Ramphotrigon-fuscicauda-102716.wav",
           "EdZamora"
          ],
          [
           "Ramphotrigon-megacephalum-206161.wav",
           "EdZamora"
          ],
          [
           "Saltator-coerulescens-259778.wav",
           "EdZamora"
          ],
          [
           "Schiffornis-major-102619.wav",
           "EdZamora"
          ],
          [
           "Schiffornis-major-296584.wav",
           "EdZamora"
          ],
          [
           "Schiffornis-turdina-151821.wav",
           "EdZamora"
          ],
          [
           "Sclerurus-albigularis-171021.wav",
           "EdZamora"
          ],
          [
           "Sclerurus-caudacutus-39129.wav",
           "EdZamora"
          ],
          [
           "Sclerurus-caudacutus-394817.wav",
           "EdZamora"
          ]
         ],
         "legendgroup": "second",
         "marker": {
          "color": "#00cc96",
          "symbol": "circle"
         },
         "mode": "markers",
         "name": "second",
         "scene": "scene",
         "showlegend": true,
         "type": "scatter3d",
         "x": [
          -0.5043450918143642,
          -0.6717096064300749,
          -1.1640129928218694,
          -0.2766421914611584,
          -1.0222782122496614,
          -1.0570414197779805,
          -0.5559848056840839,
          -0.0033644697368364154,
          0.22202867122730968,
          -1.2640088095898576
         ],
         "y": [
          -2.2346248567242557,
          -1.1078556801580022,
          -0.6806962750312842,
          -0.011782197663902677,
          -0.46399068623192163,
          -2.0700743372424077,
          -1.42575744986779,
          -0.7586633357860727,
          -0.9370259058206287,
          -1.9173094256340295
         ],
         "z": [
          -0.7989975372203401,
          -0.13239909046728998,
          -1.213944926605843,
          -1.1950604036584709,
          -0.41841753289876965,
          -0.2651480468201642,
          -0.3090418889642645,
          -0.7240261881018407,
          -0.6341986508218693,
          -1.3422260149643712
         ]
        },
        {
         "hovertemplate": "<b>%{hovertext}</b><br><br>Cluster=third<br>PCA1=%{x}<br>PCA2=%{y}<br>PCA3=%{z}<extra></extra>",
         "hovertext": [
          [
           "Ramphocaenus-sticturus-424936.wav",
           "EdZamora"
          ],
          [
           "Ramphocaenus-sticturus-91680.wav",
           "EdZamora"
          ]
         ],
         "legendgroup": "third",
         "marker": {
          "color": "#ab63fa",
          "symbol": "circle"
         },
         "mode": "markers",
         "name": "third",
         "scene": "scene",
         "showlegend": true,
         "type": "scatter3d",
         "x": [
          4.012142276200433,
          6.036602784259731
         ],
         "y": [
          -2.285057672901908,
          -2.125992796176087
         ],
         "z": [
          -0.7084931976296018,
          -0.14792833466636368
         ]
        },
        {
         "hovertemplate": "<b>%{hovertext}</b><br><br>Cluster=fourth<br>PCA1=%{x}<br>PCA2=%{y}<br>PCA3=%{z}<extra></extra>",
         "hovertext": [
          [
           "Ramphotrigon-ruficauda-27821.wav",
           "EdZamora"
          ],
          [
           "Ramphotrigon-ruficauda-76085.wav",
           "EdZamora"
          ],
          [
           "Saltator-grossus-27833.wav",
           "EdZamora"
          ],
          [
           "Sclerurus-mexicanus-534691.wav",
           "EdZamora"
          ]
         ],
         "legendgroup": "fourth",
         "marker": {
          "color": "#FFA15A",
          "symbol": "circle"
         },
         "mode": "markers",
         "name": "fourth",
         "scene": "scene",
         "showlegend": true,
         "type": "scatter3d",
         "x": [
          -0.5190261444895885,
          -0.3374902753796877,
          -1.1667958438015105,
          1.1076415914940567
         ],
         "y": [
          1.677047649455969,
          4.466768602524362,
          1.1999000403060578,
          2.333039571794086
         ],
         "z": [
          -0.6750280254199252,
          -1.6271761096897608,
          -1.0310237036689158,
          -2.0486980079233743
         ]
        },
        {
         "color": "lightblue",
         "opacity": 0.5,
         "type": "mesh3d",
         "x": [
          -0.171947612044069,
          -1.9212509829942712,
          -0.5312209350415945,
          -1.947784736630383,
          -1.96761215814698,
          -1.1462625130565123,
          -1.4504507352970997,
          -1.1680899996595149,
          -0.8618316197821954,
          -0.8018088402283398,
          -1.6885182360000932
         ],
         "y": [
          1.1798113928446081,
          -0.30964757448447944,
          1.0881858286296542,
          -0.4927788876598539,
          -0.6623285135006264,
          -0.43441236916854264,
          0.8988569178213235,
          -0.24412030353000713,
          -0.42713004134611154,
          -0.10565046965893608,
          -0.801549044573988
         ],
         "z": [
          1.7822618709331388,
          1.1014104350174423,
          1.9813627609633941,
          0.05583873081044187,
          0.355973069126225,
          -0.007914262367702962,
          -0.48855436982418005,
          0.7462346621042054,
          1.0126182832882515,
          1.021721526998849,
          1.3349225397942541
         ]
        },
        {
         "color": "lightblue",
         "opacity": 0.5,
         "type": "mesh3d",
         "x": [
          -0.5043450918143642,
          -0.6717096064300749,
          -1.1640129928218694,
          -0.2766421914611584,
          -1.0222782122496614,
          -1.0570414197779805,
          -0.5559848056840839,
          -0.0033644697368364154,
          0.22202867122730968,
          -1.2640088095898576
         ],
         "y": [
          -2.2346248567242557,
          -1.1078556801580022,
          -0.6806962750312842,
          -0.011782197663902677,
          -0.46399068623192163,
          -2.0700743372424077,
          -1.42575744986779,
          -0.7586633357860727,
          -0.9370259058206287,
          -1.9173094256340295
         ],
         "z": [
          -0.7989975372203401,
          -0.13239909046728998,
          -1.213944926605843,
          -1.1950604036584709,
          -0.41841753289876965,
          -0.2651480468201642,
          -0.3090418889642645,
          -0.7240261881018407,
          -0.6341986508218693,
          -1.3422260149643712
         ]
        },
        {
         "color": "lightblue",
         "opacity": 0.5,
         "type": "mesh3d",
         "x": [
          4.012142276200433,
          6.036602784259731
         ],
         "y": [
          -2.285057672901908,
          -2.125992796176087
         ],
         "z": [
          -0.7084931976296018,
          -0.14792833466636368
         ]
        },
        {
         "color": "lightblue",
         "opacity": 0.5,
         "type": "mesh3d",
         "x": [
          -0.5190261444895885,
          -0.3374902753796877,
          -1.1667958438015105,
          1.1076415914940567
         ],
         "y": [
          1.677047649455969,
          4.466768602524362,
          1.1999000403060578,
          2.333039571794086
         ],
         "z": [
          -0.6750280254199252,
          -1.6271761096897608,
          -1.0310237036689158,
          -2.0486980079233743
         ]
        },
        {
         "color": "lightblue",
         "opacity": 0.5,
         "type": "mesh3d",
         "x": [
          1.8531074669558292,
          0.8563116465881185,
          0.3423953289815287,
          0.9859828532656869,
          1.7939744552895014,
          0.6816895432264787,
          1.561603240600277,
          0.7232739317394092,
          2.0227244422893653
         ],
         "y": [
          1.4139743906430968,
          0.05874015203287393,
          -0.12118821362360407,
          0.749572777512499,
          1.9704854811815817,
          0.6738198112327594,
          0.6440112947037605,
          -0.4380735937267092,
          1.7014957198285163
         ],
         "z": [
          0.3634499493515744,
          -0.013672167661933094,
          0.07519798718479705,
          -0.6481795945101751,
          0.07962895879041398,
          -0.8059722055226192,
          2.337267037190671,
          1.3261136003904517,
          1.6620988474636649
         ]
        }
       ],
       "layout": {
        "legend": {
         "title": {
          "text": "Cluster"
         },
         "tracegroupgap": 0
        },
        "margin": {
         "t": 60
        },
        "scene": {
         "domain": {
          "x": [
           0,
           1
          ],
          "y": [
           0,
           1
          ]
         },
         "xaxis": {
          "title": {
           "text": "PCA1"
          }
         },
         "yaxis": {
          "title": {
           "text": "PCA2"
          }
         },
         "zaxis": {
          "title": {
           "text": "PCA3"
          }
         }
        },
        "template": {
         "data": {
          "bar": [
           {
            "error_x": {
             "color": "#2a3f5f"
            },
            "error_y": {
             "color": "#2a3f5f"
            },
            "marker": {
             "line": {
              "color": "#E5ECF6",
              "width": 0.5
             },
             "pattern": {
              "fillmode": "overlay",
              "size": 10,
              "solidity": 0.2
             }
            },
            "type": "bar"
           }
          ],
          "barpolar": [
           {
            "marker": {
             "line": {
              "color": "#E5ECF6",
              "width": 0.5
             },
             "pattern": {
              "fillmode": "overlay",
              "size": 10,
              "solidity": 0.2
             }
            },
            "type": "barpolar"
           }
          ],
          "carpet": [
           {
            "aaxis": {
             "endlinecolor": "#2a3f5f",
             "gridcolor": "white",
             "linecolor": "white",
             "minorgridcolor": "white",
             "startlinecolor": "#2a3f5f"
            },
            "baxis": {
             "endlinecolor": "#2a3f5f",
             "gridcolor": "white",
             "linecolor": "white",
             "minorgridcolor": "white",
             "startlinecolor": "#2a3f5f"
            },
            "type": "carpet"
           }
          ],
          "choropleth": [
           {
            "colorbar": {
             "outlinewidth": 0,
             "ticks": ""
            },
            "type": "choropleth"
           }
          ],
          "contour": [
           {
            "colorbar": {
             "outlinewidth": 0,
             "ticks": ""
            },
            "colorscale": [
             [
              0,
              "#0d0887"
             ],
             [
              0.1111111111111111,
              "#46039f"
             ],
             [
              0.2222222222222222,
              "#7201a8"
             ],
             [
              0.3333333333333333,
              "#9c179e"
             ],
             [
              0.4444444444444444,
              "#bd3786"
             ],
             [
              0.5555555555555556,
              "#d8576b"
             ],
             [
              0.6666666666666666,
              "#ed7953"
             ],
             [
              0.7777777777777778,
              "#fb9f3a"
             ],
             [
              0.8888888888888888,
              "#fdca26"
             ],
             [
              1,
              "#f0f921"
             ]
            ],
            "type": "contour"
           }
          ],
          "contourcarpet": [
           {
            "colorbar": {
             "outlinewidth": 0,
             "ticks": ""
            },
            "type": "contourcarpet"
           }
          ],
          "heatmap": [
           {
            "colorbar": {
             "outlinewidth": 0,
             "ticks": ""
            },
            "colorscale": [
             [
              0,
              "#0d0887"
             ],
             [
              0.1111111111111111,
              "#46039f"
             ],
             [
              0.2222222222222222,
              "#7201a8"
             ],
             [
              0.3333333333333333,
              "#9c179e"
             ],
             [
              0.4444444444444444,
              "#bd3786"
             ],
             [
              0.5555555555555556,
              "#d8576b"
             ],
             [
              0.6666666666666666,
              "#ed7953"
             ],
             [
              0.7777777777777778,
              "#fb9f3a"
             ],
             [
              0.8888888888888888,
              "#fdca26"
             ],
             [
              1,
              "#f0f921"
             ]
            ],
            "type": "heatmap"
           }
          ],
          "heatmapgl": [
           {
            "colorbar": {
             "outlinewidth": 0,
             "ticks": ""
            },
            "colorscale": [
             [
              0,
              "#0d0887"
             ],
             [
              0.1111111111111111,
              "#46039f"
             ],
             [
              0.2222222222222222,
              "#7201a8"
             ],
             [
              0.3333333333333333,
              "#9c179e"
             ],
             [
              0.4444444444444444,
              "#bd3786"
             ],
             [
              0.5555555555555556,
              "#d8576b"
             ],
             [
              0.6666666666666666,
              "#ed7953"
             ],
             [
              0.7777777777777778,
              "#fb9f3a"
             ],
             [
              0.8888888888888888,
              "#fdca26"
             ],
             [
              1,
              "#f0f921"
             ]
            ],
            "type": "heatmapgl"
           }
          ],
          "histogram": [
           {
            "marker": {
             "pattern": {
              "fillmode": "overlay",
              "size": 10,
              "solidity": 0.2
             }
            },
            "type": "histogram"
           }
          ],
          "histogram2d": [
           {
            "colorbar": {
             "outlinewidth": 0,
             "ticks": ""
            },
            "colorscale": [
             [
              0,
              "#0d0887"
             ],
             [
              0.1111111111111111,
              "#46039f"
             ],
             [
              0.2222222222222222,
              "#7201a8"
             ],
             [
              0.3333333333333333,
              "#9c179e"
             ],
             [
              0.4444444444444444,
              "#bd3786"
             ],
             [
              0.5555555555555556,
              "#d8576b"
             ],
             [
              0.6666666666666666,
              "#ed7953"
             ],
             [
              0.7777777777777778,
              "#fb9f3a"
             ],
             [
              0.8888888888888888,
              "#fdca26"
             ],
             [
              1,
              "#f0f921"
             ]
            ],
            "type": "histogram2d"
           }
          ],
          "histogram2dcontour": [
           {
            "colorbar": {
             "outlinewidth": 0,
             "ticks": ""
            },
            "colorscale": [
             [
              0,
              "#0d0887"
             ],
             [
              0.1111111111111111,
              "#46039f"
             ],
             [
              0.2222222222222222,
              "#7201a8"
             ],
             [
              0.3333333333333333,
              "#9c179e"
             ],
             [
              0.4444444444444444,
              "#bd3786"
             ],
             [
              0.5555555555555556,
              "#d8576b"
             ],
             [
              0.6666666666666666,
              "#ed7953"
             ],
             [
              0.7777777777777778,
              "#fb9f3a"
             ],
             [
              0.8888888888888888,
              "#fdca26"
             ],
             [
              1,
              "#f0f921"
             ]
            ],
            "type": "histogram2dcontour"
           }
          ],
          "mesh3d": [
           {
            "colorbar": {
             "outlinewidth": 0,
             "ticks": ""
            },
            "type": "mesh3d"
           }
          ],
          "parcoords": [
           {
            "line": {
             "colorbar": {
              "outlinewidth": 0,
              "ticks": ""
             }
            },
            "type": "parcoords"
           }
          ],
          "pie": [
           {
            "automargin": true,
            "type": "pie"
           }
          ],
          "scatter": [
           {
            "marker": {
             "colorbar": {
              "outlinewidth": 0,
              "ticks": ""
             }
            },
            "type": "scatter"
           }
          ],
          "scatter3d": [
           {
            "line": {
             "colorbar": {
              "outlinewidth": 0,
              "ticks": ""
             }
            },
            "marker": {
             "colorbar": {
              "outlinewidth": 0,
              "ticks": ""
             }
            },
            "type": "scatter3d"
           }
          ],
          "scattercarpet": [
           {
            "marker": {
             "colorbar": {
              "outlinewidth": 0,
              "ticks": ""
             }
            },
            "type": "scattercarpet"
           }
          ],
          "scattergeo": [
           {
            "marker": {
             "colorbar": {
              "outlinewidth": 0,
              "ticks": ""
             }
            },
            "type": "scattergeo"
           }
          ],
          "scattergl": [
           {
            "marker": {
             "colorbar": {
              "outlinewidth": 0,
              "ticks": ""
             }
            },
            "type": "scattergl"
           }
          ],
          "scattermapbox": [
           {
            "marker": {
             "colorbar": {
              "outlinewidth": 0,
              "ticks": ""
             }
            },
            "type": "scattermapbox"
           }
          ],
          "scatterpolar": [
           {
            "marker": {
             "colorbar": {
              "outlinewidth": 0,
              "ticks": ""
             }
            },
            "type": "scatterpolar"
           }
          ],
          "scatterpolargl": [
           {
            "marker": {
             "colorbar": {
              "outlinewidth": 0,
              "ticks": ""
             }
            },
            "type": "scatterpolargl"
           }
          ],
          "scatterternary": [
           {
            "marker": {
             "colorbar": {
              "outlinewidth": 0,
              "ticks": ""
             }
            },
            "type": "scatterternary"
           }
          ],
          "surface": [
           {
            "colorbar": {
             "outlinewidth": 0,
             "ticks": ""
            },
            "colorscale": [
             [
              0,
              "#0d0887"
             ],
             [
              0.1111111111111111,
              "#46039f"
             ],
             [
              0.2222222222222222,
              "#7201a8"
             ],
             [
              0.3333333333333333,
              "#9c179e"
             ],
             [
              0.4444444444444444,
              "#bd3786"
             ],
             [
              0.5555555555555556,
              "#d8576b"
             ],
             [
              0.6666666666666666,
              "#ed7953"
             ],
             [
              0.7777777777777778,
              "#fb9f3a"
             ],
             [
              0.8888888888888888,
              "#fdca26"
             ],
             [
              1,
              "#f0f921"
             ]
            ],
            "type": "surface"
           }
          ],
          "table": [
           {
            "cells": {
             "fill": {
              "color": "#EBF0F8"
             },
             "line": {
              "color": "white"
             }
            },
            "header": {
             "fill": {
              "color": "#C8D4E3"
             },
             "line": {
              "color": "white"
             }
            },
            "type": "table"
           }
          ]
         },
         "layout": {
          "annotationdefaults": {
           "arrowcolor": "#2a3f5f",
           "arrowhead": 0,
           "arrowwidth": 1
          },
          "autotypenumbers": "strict",
          "coloraxis": {
           "colorbar": {
            "outlinewidth": 0,
            "ticks": ""
           }
          },
          "colorscale": {
           "diverging": [
            [
             0,
             "#8e0152"
            ],
            [
             0.1,
             "#c51b7d"
            ],
            [
             0.2,
             "#de77ae"
            ],
            [
             0.3,
             "#f1b6da"
            ],
            [
             0.4,
             "#fde0ef"
            ],
            [
             0.5,
             "#f7f7f7"
            ],
            [
             0.6,
             "#e6f5d0"
            ],
            [
             0.7,
             "#b8e186"
            ],
            [
             0.8,
             "#7fbc41"
            ],
            [
             0.9,
             "#4d9221"
            ],
            [
             1,
             "#276419"
            ]
           ],
           "sequential": [
            [
             0,
             "#0d0887"
            ],
            [
             0.1111111111111111,
             "#46039f"
            ],
            [
             0.2222222222222222,
             "#7201a8"
            ],
            [
             0.3333333333333333,
             "#9c179e"
            ],
            [
             0.4444444444444444,
             "#bd3786"
            ],
            [
             0.5555555555555556,
             "#d8576b"
            ],
            [
             0.6666666666666666,
             "#ed7953"
            ],
            [
             0.7777777777777778,
             "#fb9f3a"
            ],
            [
             0.8888888888888888,
             "#fdca26"
            ],
            [
             1,
             "#f0f921"
            ]
           ],
           "sequentialminus": [
            [
             0,
             "#0d0887"
            ],
            [
             0.1111111111111111,
             "#46039f"
            ],
            [
             0.2222222222222222,
             "#7201a8"
            ],
            [
             0.3333333333333333,
             "#9c179e"
            ],
            [
             0.4444444444444444,
             "#bd3786"
            ],
            [
             0.5555555555555556,
             "#d8576b"
            ],
            [
             0.6666666666666666,
             "#ed7953"
            ],
            [
             0.7777777777777778,
             "#fb9f3a"
            ],
            [
             0.8888888888888888,
             "#fdca26"
            ],
            [
             1,
             "#f0f921"
            ]
           ]
          },
          "colorway": [
           "#636efa",
           "#EF553B",
           "#00cc96",
           "#ab63fa",
           "#FFA15A",
           "#19d3f3",
           "#FF6692",
           "#B6E880",
           "#FF97FF",
           "#FECB52"
          ],
          "font": {
           "color": "#2a3f5f"
          },
          "geo": {
           "bgcolor": "white",
           "lakecolor": "white",
           "landcolor": "#E5ECF6",
           "showlakes": true,
           "showland": true,
           "subunitcolor": "white"
          },
          "hoverlabel": {
           "align": "left"
          },
          "hovermode": "closest",
          "mapbox": {
           "style": "light"
          },
          "paper_bgcolor": "white",
          "plot_bgcolor": "#E5ECF6",
          "polar": {
           "angularaxis": {
            "gridcolor": "white",
            "linecolor": "white",
            "ticks": ""
           },
           "bgcolor": "#E5ECF6",
           "radialaxis": {
            "gridcolor": "white",
            "linecolor": "white",
            "ticks": ""
           }
          },
          "scene": {
           "xaxis": {
            "backgroundcolor": "#E5ECF6",
            "gridcolor": "white",
            "gridwidth": 2,
            "linecolor": "white",
            "showbackground": true,
            "ticks": "",
            "zerolinecolor": "white"
           },
           "yaxis": {
            "backgroundcolor": "#E5ECF6",
            "gridcolor": "white",
            "gridwidth": 2,
            "linecolor": "white",
            "showbackground": true,
            "ticks": "",
            "zerolinecolor": "white"
           },
           "zaxis": {
            "backgroundcolor": "#E5ECF6",
            "gridcolor": "white",
            "gridwidth": 2,
            "linecolor": "white",
            "showbackground": true,
            "ticks": "",
            "zerolinecolor": "white"
           }
          },
          "shapedefaults": {
           "line": {
            "color": "#2a3f5f"
           }
          },
          "ternary": {
           "aaxis": {
            "gridcolor": "white",
            "linecolor": "white",
            "ticks": ""
           },
           "baxis": {
            "gridcolor": "white",
            "linecolor": "white",
            "ticks": ""
           },
           "bgcolor": "#E5ECF6",
           "caxis": {
            "gridcolor": "white",
            "linecolor": "white",
            "ticks": ""
           }
          },
          "title": {
           "x": 0.05
          },
          "xaxis": {
           "automargin": true,
           "gridcolor": "white",
           "linecolor": "white",
           "ticks": "",
           "title": {
            "standoff": 15
           },
           "zerolinecolor": "white",
           "zerolinewidth": 2
          },
          "yaxis": {
           "automargin": true,
           "gridcolor": "white",
           "linecolor": "white",
           "ticks": "",
           "title": {
            "standoff": 15
           },
           "zerolinecolor": "white",
           "zerolinewidth": 2
          }
         }
        },
        "title": {
         "text": "EdZamora Annotations",
         "x": 0.5
        }
       }
      }
     },
     "metadata": {},
     "output_type": "display_data"
    }
   ],
   "source": [
    "import plotly.express as px \n",
    "import plotly.graph_objects as go\n",
    "import numpy as np\n",
    "\n",
    "\n",
    "fig = px.scatter_3d(df_segm_pca_kmeans, \n",
    "                    x=\"PCA1\", \n",
    "                    y=\"PCA2\", \n",
    "                    z='PCA3', \n",
    "                    color = df_segm_pca_kmeans['Cluster'],\n",
    "                    hover_name = list(tuple(zip(df_segm_pca_kmeans['IN FILE'],df_segm_pca_kmeans['LAST MOD BY'])))) \n",
    "\n",
    "\n",
    "#color = Y, color_discrete_sequence= px.colors.qualitative.G10)\n",
    "\n",
    "\n",
    "clust_1 = df_segm_pca_kmeans[df_segm_pca_kmeans['Cluster'] == 'first']\n",
    "x, y, z = clust_1['PCA1'], clust_1['PCA2'], clust_1['PCA3']\n",
    "fig.add_trace(go.Figure(data=[go.Mesh3d(x=x, y=y, z=z, color='lightblue', opacity=0.50)]).data[0])\n",
    "\n",
    "\n",
    "clust_2 = df_segm_pca_kmeans[df_segm_pca_kmeans['Cluster'] == 'second']\n",
    "x2, y2, z2 = clust_2['PCA1'], clust_2['PCA2'], clust_2['PCA3']\n",
    "fig.add_trace(go.Figure(data=[go.Mesh3d(x=x2, y=y2, z=z2, color='lightblue', opacity=0.50)]).data[0])\n",
    "\n",
    "\n",
    "clust_3 = df_segm_pca_kmeans[df_segm_pca_kmeans['Cluster'] == 'third']\n",
    "x3, y3, z3 = clust_3['PCA1'], clust_3['PCA2'], clust_3['PCA3']\n",
    "fig.add_trace(go.Figure(data=[go.Mesh3d(x=x3, y=y3, z=z3, color='lightblue', opacity=0.50)]).data[0])\n",
    "\n",
    "\n",
    "clust_4 = df_segm_pca_kmeans[df_segm_pca_kmeans['Cluster'] == 'fourth']\n",
    "x4, y4, z4 = clust_4['PCA1'], clust_4['PCA2'], clust_4['PCA3']\n",
    "fig.add_trace(go.Figure(data=[go.Mesh3d(x=x4, y=y4, z=z4, color='lightblue', opacity=0.50)]).data[0])\n",
    "\n",
    "\n",
    "clust_5 = df_segm_pca_kmeans[df_segm_pca_kmeans['Cluster'] == 'fifth']\n",
    "x5, y5, z5 = clust_5['PCA1'], clust_5['PCA2'], clust_5['PCA3']\n",
    "fig.add_trace(go.Figure(data=[go.Mesh3d(x=x5, y=y5, z=z5, color='lightblue', opacity=0.50)]).data[0])\n",
    "\n",
    "\n",
    "fig.update_layout(title_text= (' & '.join(df_segm_pca_kmeans['LAST MOD BY'].unique()) + ' Annotations'), title_x=0.5)\n",
    "fig.show()"
   ]
  },
  {
   "cell_type": "code",
   "execution_count": 33,
   "metadata": {},
   "outputs": [
    {
     "data": {
      "text/html": [
       "<div>\n",
       "<style scoped>\n",
       "    .dataframe tbody tr th:only-of-type {\n",
       "        vertical-align: middle;\n",
       "    }\n",
       "\n",
       "    .dataframe tbody tr th {\n",
       "        vertical-align: top;\n",
       "    }\n",
       "\n",
       "    .dataframe thead th {\n",
       "        text-align: right;\n",
       "    }\n",
       "</style>\n",
       "<table border=\"1\" class=\"dataframe\">\n",
       "  <thead>\n",
       "    <tr style=\"text-align: right;\">\n",
       "      <th></th>\n",
       "      <th>IN FILE</th>\n",
       "      <th>CLIP LENGTH</th>\n",
       "      <th>SUM DURATION</th>\n",
       "      <th>WHITE SPACE</th>\n",
       "      <th>OVERLAP COUNT</th>\n",
       "      <th>MEDIAN DIST B/W ANNS</th>\n",
       "      <th>MEDIAN DURATION</th>\n",
       "      <th>OFFSET COUNT</th>\n",
       "      <th>LAST MOD BY</th>\n",
       "      <th>Genus</th>\n",
       "    </tr>\n",
       "  </thead>\n",
       "  <tbody>\n",
       "    <tr>\n",
       "      <th>1810</th>\n",
       "      <td>Ramphocaenus-melanurus-149300.wav</td>\n",
       "      <td>73.61310</td>\n",
       "      <td>30.8374</td>\n",
       "      <td>42.77570</td>\n",
       "      <td>0</td>\n",
       "      <td>1.109900e+00</td>\n",
       "      <td>0.44995</td>\n",
       "      <td>28</td>\n",
       "      <td>EdZamora</td>\n",
       "      <td>Ramphocaenus</td>\n",
       "    </tr>\n",
       "    <tr>\n",
       "      <th>1811</th>\n",
       "      <td>Ramphocaenus-melanurus-27794.wav</td>\n",
       "      <td>54.04730</td>\n",
       "      <td>25.2886</td>\n",
       "      <td>28.75870</td>\n",
       "      <td>0</td>\n",
       "      <td>2.729900e+00</td>\n",
       "      <td>2.62980</td>\n",
       "      <td>11</td>\n",
       "      <td>EdZamora</td>\n",
       "      <td>Ramphocaenus</td>\n",
       "    </tr>\n",
       "    <tr>\n",
       "      <th>1812</th>\n",
       "      <td>Ramphocaenus-sticturus-2312.wav</td>\n",
       "      <td>10.10940</td>\n",
       "      <td>6.5372</td>\n",
       "      <td>3.57220</td>\n",
       "      <td>0</td>\n",
       "      <td>1.213000e-01</td>\n",
       "      <td>0.24270</td>\n",
       "      <td>27</td>\n",
       "      <td>EdZamora</td>\n",
       "      <td>Ramphocaenus</td>\n",
       "    </tr>\n",
       "    <tr>\n",
       "      <th>1813</th>\n",
       "      <td>Ramphocaenus-sticturus-424936.wav</td>\n",
       "      <td>38.83200</td>\n",
       "      <td>18.0810</td>\n",
       "      <td>20.75100</td>\n",
       "      <td>50</td>\n",
       "      <td>-1.110223e-15</td>\n",
       "      <td>0.19000</td>\n",
       "      <td>98</td>\n",
       "      <td>EdZamora</td>\n",
       "      <td>Ramphocaenus</td>\n",
       "    </tr>\n",
       "    <tr>\n",
       "      <th>1814</th>\n",
       "      <td>Ramphocaenus-sticturus-91665.wav</td>\n",
       "      <td>21.34200</td>\n",
       "      <td>8.7208</td>\n",
       "      <td>12.62120</td>\n",
       "      <td>0</td>\n",
       "      <td>3.160300e+00</td>\n",
       "      <td>2.95020</td>\n",
       "      <td>3</td>\n",
       "      <td>EdZamora</td>\n",
       "      <td>Ramphocaenus</td>\n",
       "    </tr>\n",
       "    <tr>\n",
       "      <th>1815</th>\n",
       "      <td>Ramphocaenus-sticturus-91680.wav</td>\n",
       "      <td>53.42040</td>\n",
       "      <td>29.1900</td>\n",
       "      <td>24.23040</td>\n",
       "      <td>56</td>\n",
       "      <td>0.000000e+00</td>\n",
       "      <td>0.17000</td>\n",
       "      <td>151</td>\n",
       "      <td>EdZamora</td>\n",
       "      <td>Ramphocaenus</td>\n",
       "    </tr>\n",
       "    <tr>\n",
       "      <th>1823</th>\n",
       "      <td>Ramphotrigon-fuscicauda-102716.wav</td>\n",
       "      <td>23.18400</td>\n",
       "      <td>10.5472</td>\n",
       "      <td>12.63680</td>\n",
       "      <td>0</td>\n",
       "      <td>8.728000e-01</td>\n",
       "      <td>0.95970</td>\n",
       "      <td>11</td>\n",
       "      <td>EdZamora</td>\n",
       "      <td>Ramphotrigon</td>\n",
       "    </tr>\n",
       "    <tr>\n",
       "      <th>1824</th>\n",
       "      <td>Ramphotrigon-fuscicauda-229017.wav</td>\n",
       "      <td>51.76800</td>\n",
       "      <td>20.1693</td>\n",
       "      <td>31.59870</td>\n",
       "      <td>0</td>\n",
       "      <td>1.690050e+00</td>\n",
       "      <td>3.24490</td>\n",
       "      <td>8</td>\n",
       "      <td>EdZamora</td>\n",
       "      <td>Ramphotrigon</td>\n",
       "    </tr>\n",
       "    <tr>\n",
       "      <th>1826</th>\n",
       "      <td>Ramphotrigon-megacephalum-206161.wav</td>\n",
       "      <td>21.99510</td>\n",
       "      <td>3.3693</td>\n",
       "      <td>18.62580</td>\n",
       "      <td>0</td>\n",
       "      <td>3.049350e+00</td>\n",
       "      <td>0.59485</td>\n",
       "      <td>6</td>\n",
       "      <td>EdZamora</td>\n",
       "      <td>Ramphotrigon</td>\n",
       "    </tr>\n",
       "    <tr>\n",
       "      <th>1828</th>\n",
       "      <td>Ramphotrigon-ruficauda-27821.wav</td>\n",
       "      <td>54.15180</td>\n",
       "      <td>10.9202</td>\n",
       "      <td>43.23160</td>\n",
       "      <td>0</td>\n",
       "      <td>5.195200e+00</td>\n",
       "      <td>1.35500</td>\n",
       "      <td>8</td>\n",
       "      <td>EdZamora</td>\n",
       "      <td>Ramphotrigon</td>\n",
       "    </tr>\n",
       "    <tr>\n",
       "      <th>1829</th>\n",
       "      <td>Ramphotrigon-ruficauda-76085.wav</td>\n",
       "      <td>84.50400</td>\n",
       "      <td>9.9992</td>\n",
       "      <td>74.50480</td>\n",
       "      <td>0</td>\n",
       "      <td>1.004430e+01</td>\n",
       "      <td>1.42980</td>\n",
       "      <td>7</td>\n",
       "      <td>EdZamora</td>\n",
       "      <td>Ramphotrigon</td>\n",
       "    </tr>\n",
       "    <tr>\n",
       "      <th>1862</th>\n",
       "      <td>Saltator-coerulescens-188095.wav</td>\n",
       "      <td>16.92730</td>\n",
       "      <td>5.9891</td>\n",
       "      <td>10.93820</td>\n",
       "      <td>0</td>\n",
       "      <td>4.389300e+00</td>\n",
       "      <td>1.98970</td>\n",
       "      <td>3</td>\n",
       "      <td>EdZamora</td>\n",
       "      <td>Saltator</td>\n",
       "    </tr>\n",
       "    <tr>\n",
       "      <th>1863</th>\n",
       "      <td>Saltator-coerulescens-259778.wav</td>\n",
       "      <td>38.26940</td>\n",
       "      <td>6.6798</td>\n",
       "      <td>31.58960</td>\n",
       "      <td>0</td>\n",
       "      <td>2.074950e+00</td>\n",
       "      <td>0.47000</td>\n",
       "      <td>14</td>\n",
       "      <td>EdZamora</td>\n",
       "      <td>Saltator</td>\n",
       "    </tr>\n",
       "    <tr>\n",
       "      <th>1864</th>\n",
       "      <td>Saltator-coerulescens-270937.wav</td>\n",
       "      <td>15.54290</td>\n",
       "      <td>6.4869</td>\n",
       "      <td>9.05600</td>\n",
       "      <td>0</td>\n",
       "      <td>3.743300e+00</td>\n",
       "      <td>2.20890</td>\n",
       "      <td>3</td>\n",
       "      <td>EdZamora</td>\n",
       "      <td>Saltator</td>\n",
       "    </tr>\n",
       "    <tr>\n",
       "      <th>1866</th>\n",
       "      <td>Saltator-grossus-259800.wav</td>\n",
       "      <td>26.07020</td>\n",
       "      <td>9.1801</td>\n",
       "      <td>16.89010</td>\n",
       "      <td>0</td>\n",
       "      <td>2.617500e+00</td>\n",
       "      <td>1.52500</td>\n",
       "      <td>6</td>\n",
       "      <td>EdZamora</td>\n",
       "      <td>Saltator</td>\n",
       "    </tr>\n",
       "    <tr>\n",
       "      <th>1867</th>\n",
       "      <td>Saltator-grossus-27833.wav</td>\n",
       "      <td>42.52730</td>\n",
       "      <td>5.1597</td>\n",
       "      <td>37.36760</td>\n",
       "      <td>0</td>\n",
       "      <td>5.719600e+00</td>\n",
       "      <td>1.35490</td>\n",
       "      <td>4</td>\n",
       "      <td>EdZamora</td>\n",
       "      <td>Saltator</td>\n",
       "    </tr>\n",
       "    <tr>\n",
       "      <th>1868</th>\n",
       "      <td>Saltator-maximus-214115.wav</td>\n",
       "      <td>35.84000</td>\n",
       "      <td>7.7100</td>\n",
       "      <td>28.13000</td>\n",
       "      <td>0</td>\n",
       "      <td>6.220000e+00</td>\n",
       "      <td>1.71000</td>\n",
       "      <td>5</td>\n",
       "      <td>EdZamora</td>\n",
       "      <td>Saltator</td>\n",
       "    </tr>\n",
       "    <tr>\n",
       "      <th>1869</th>\n",
       "      <td>Saltator-maximus-214117.wav</td>\n",
       "      <td>48.95350</td>\n",
       "      <td>19.7372</td>\n",
       "      <td>29.21630</td>\n",
       "      <td>0</td>\n",
       "      <td>7.299000e-01</td>\n",
       "      <td>0.64990</td>\n",
       "      <td>31</td>\n",
       "      <td>EdZamora</td>\n",
       "      <td>Saltator</td>\n",
       "    </tr>\n",
       "    <tr>\n",
       "      <th>1871</th>\n",
       "      <td>Saltator-maximus-450251.wav</td>\n",
       "      <td>42.69600</td>\n",
       "      <td>18.1782</td>\n",
       "      <td>24.51780</td>\n",
       "      <td>0</td>\n",
       "      <td>1.104900e+00</td>\n",
       "      <td>0.83490</td>\n",
       "      <td>22</td>\n",
       "      <td>EdZamora</td>\n",
       "      <td>Saltator</td>\n",
       "    </tr>\n",
       "    <tr>\n",
       "      <th>1878</th>\n",
       "      <td>Schiffornis-aenea-542811.wav</td>\n",
       "      <td>28.60800</td>\n",
       "      <td>12.7392</td>\n",
       "      <td>15.86880</td>\n",
       "      <td>0</td>\n",
       "      <td>2.509800e+00</td>\n",
       "      <td>2.13490</td>\n",
       "      <td>6</td>\n",
       "      <td>EdZamora</td>\n",
       "      <td>Schiffornis</td>\n",
       "    </tr>\n",
       "    <tr>\n",
       "      <th>1879</th>\n",
       "      <td>Schiffornis-aenea-542813.wav</td>\n",
       "      <td>29.61600</td>\n",
       "      <td>16.1878</td>\n",
       "      <td>13.42820</td>\n",
       "      <td>0</td>\n",
       "      <td>1.724800e+00</td>\n",
       "      <td>2.02975</td>\n",
       "      <td>8</td>\n",
       "      <td>EdZamora</td>\n",
       "      <td>Schiffornis</td>\n",
       "    </tr>\n",
       "    <tr>\n",
       "      <th>1880</th>\n",
       "      <td>Schiffornis-aenea-542814.wav</td>\n",
       "      <td>33.48000</td>\n",
       "      <td>16.8200</td>\n",
       "      <td>16.66000</td>\n",
       "      <td>0</td>\n",
       "      <td>2.205000e+00</td>\n",
       "      <td>2.11000</td>\n",
       "      <td>9</td>\n",
       "      <td>EdZamora</td>\n",
       "      <td>Schiffornis</td>\n",
       "    </tr>\n",
       "    <tr>\n",
       "      <th>1881</th>\n",
       "      <td>Schiffornis-major-102619.wav</td>\n",
       "      <td>27.04800</td>\n",
       "      <td>7.1194</td>\n",
       "      <td>19.92860</td>\n",
       "      <td>0</td>\n",
       "      <td>2.275350e+00</td>\n",
       "      <td>1.19990</td>\n",
       "      <td>6</td>\n",
       "      <td>EdZamora</td>\n",
       "      <td>Schiffornis</td>\n",
       "    </tr>\n",
       "    <tr>\n",
       "      <th>1882</th>\n",
       "      <td>Schiffornis-major-229321.wav</td>\n",
       "      <td>60.01200</td>\n",
       "      <td>14.0703</td>\n",
       "      <td>45.94170</td>\n",
       "      <td>0</td>\n",
       "      <td>5.500000e-02</td>\n",
       "      <td>0.55500</td>\n",
       "      <td>24</td>\n",
       "      <td>EdZamora</td>\n",
       "      <td>Schiffornis</td>\n",
       "    </tr>\n",
       "    <tr>\n",
       "      <th>1883</th>\n",
       "      <td>Schiffornis-major-296584.wav</td>\n",
       "      <td>9.14286</td>\n",
       "      <td>6.9669</td>\n",
       "      <td>2.17596</td>\n",
       "      <td>0</td>\n",
       "      <td>4.260000e-02</td>\n",
       "      <td>0.79840</td>\n",
       "      <td>9</td>\n",
       "      <td>EdZamora</td>\n",
       "      <td>Schiffornis</td>\n",
       "    </tr>\n",
       "    <tr>\n",
       "      <th>1884</th>\n",
       "      <td>Schiffornis-turdina-151821.wav</td>\n",
       "      <td>21.15920</td>\n",
       "      <td>8.5397</td>\n",
       "      <td>12.61950</td>\n",
       "      <td>3</td>\n",
       "      <td>2.000000e-02</td>\n",
       "      <td>0.82000</td>\n",
       "      <td>9</td>\n",
       "      <td>EdZamora</td>\n",
       "      <td>Schiffornis</td>\n",
       "    </tr>\n",
       "    <tr>\n",
       "      <th>1885</th>\n",
       "      <td>Schiffornis-turdina-27841.wav</td>\n",
       "      <td>82.10290</td>\n",
       "      <td>21.4982</td>\n",
       "      <td>60.60470</td>\n",
       "      <td>7</td>\n",
       "      <td>1.045000e-02</td>\n",
       "      <td>1.12990</td>\n",
       "      <td>18</td>\n",
       "      <td>EdZamora</td>\n",
       "      <td>Schiffornis</td>\n",
       "    </tr>\n",
       "    <tr>\n",
       "      <th>1886</th>\n",
       "      <td>Schiffornis-turdina-76029.wav</td>\n",
       "      <td>57.04800</td>\n",
       "      <td>11.8195</td>\n",
       "      <td>45.22850</td>\n",
       "      <td>0</td>\n",
       "      <td>1.055000e-01</td>\n",
       "      <td>0.52495</td>\n",
       "      <td>16</td>\n",
       "      <td>EdZamora</td>\n",
       "      <td>Schiffornis</td>\n",
       "    </tr>\n",
       "    <tr>\n",
       "      <th>1897</th>\n",
       "      <td>Sclerurus-albigularis-170550.wav</td>\n",
       "      <td>62.52000</td>\n",
       "      <td>40.1199</td>\n",
       "      <td>22.40010</td>\n",
       "      <td>3</td>\n",
       "      <td>5.350000e-01</td>\n",
       "      <td>1.69995</td>\n",
       "      <td>28</td>\n",
       "      <td>EdZamora</td>\n",
       "      <td>Sclerurus</td>\n",
       "    </tr>\n",
       "    <tr>\n",
       "      <th>1898</th>\n",
       "      <td>Sclerurus-albigularis-171021.wav</td>\n",
       "      <td>32.04000</td>\n",
       "      <td>10.3400</td>\n",
       "      <td>21.70000</td>\n",
       "      <td>0</td>\n",
       "      <td>8.700000e-01</td>\n",
       "      <td>0.43000</td>\n",
       "      <td>23</td>\n",
       "      <td>EdZamora</td>\n",
       "      <td>Sclerurus</td>\n",
       "    </tr>\n",
       "    <tr>\n",
       "      <th>1899</th>\n",
       "      <td>Sclerurus-albigularis-475900.wav</td>\n",
       "      <td>42.31200</td>\n",
       "      <td>28.8761</td>\n",
       "      <td>13.43590</td>\n",
       "      <td>2</td>\n",
       "      <td>5.200000e-01</td>\n",
       "      <td>1.22000</td>\n",
       "      <td>25</td>\n",
       "      <td>EdZamora</td>\n",
       "      <td>Sclerurus</td>\n",
       "    </tr>\n",
       "    <tr>\n",
       "      <th>1900</th>\n",
       "      <td>Sclerurus-albigularis-74173.wav</td>\n",
       "      <td>79.22940</td>\n",
       "      <td>37.9698</td>\n",
       "      <td>41.25960</td>\n",
       "      <td>1</td>\n",
       "      <td>6.950000e-01</td>\n",
       "      <td>1.40000</td>\n",
       "      <td>30</td>\n",
       "      <td>EdZamora</td>\n",
       "      <td>Sclerurus</td>\n",
       "    </tr>\n",
       "    <tr>\n",
       "      <th>1901</th>\n",
       "      <td>Sclerurus-caudacutus-296569.wav</td>\n",
       "      <td>18.62530</td>\n",
       "      <td>10.9773</td>\n",
       "      <td>7.64800</td>\n",
       "      <td>0</td>\n",
       "      <td>1.834550e+00</td>\n",
       "      <td>2.78930</td>\n",
       "      <td>4</td>\n",
       "      <td>EdZamora</td>\n",
       "      <td>Sclerurus</td>\n",
       "    </tr>\n",
       "    <tr>\n",
       "      <th>1902</th>\n",
       "      <td>Sclerurus-caudacutus-39129.wav</td>\n",
       "      <td>32.40000</td>\n",
       "      <td>12.1200</td>\n",
       "      <td>20.28000</td>\n",
       "      <td>0</td>\n",
       "      <td>1.700000e-01</td>\n",
       "      <td>0.27500</td>\n",
       "      <td>24</td>\n",
       "      <td>EdZamora</td>\n",
       "      <td>Sclerurus</td>\n",
       "    </tr>\n",
       "    <tr>\n",
       "      <th>1904</th>\n",
       "      <td>Sclerurus-caudacutus-394817.wav</td>\n",
       "      <td>8.09796</td>\n",
       "      <td>0.9179</td>\n",
       "      <td>7.18006</td>\n",
       "      <td>0</td>\n",
       "      <td>1.106700e+00</td>\n",
       "      <td>0.18360</td>\n",
       "      <td>5</td>\n",
       "      <td>EdZamora</td>\n",
       "      <td>Sclerurus</td>\n",
       "    </tr>\n",
       "    <tr>\n",
       "      <th>1905</th>\n",
       "      <td>Sclerurus-mexicanus-534691.wav</td>\n",
       "      <td>77.64000</td>\n",
       "      <td>6.3200</td>\n",
       "      <td>71.32000</td>\n",
       "      <td>0</td>\n",
       "      <td>2.432500e+00</td>\n",
       "      <td>0.24500</td>\n",
       "      <td>26</td>\n",
       "      <td>EdZamora</td>\n",
       "      <td>Sclerurus</td>\n",
       "    </tr>\n",
       "  </tbody>\n",
       "</table>\n",
       "</div>"
      ],
      "text/plain": [
       "                                   IN FILE  CLIP LENGTH  SUM DURATION  \\\n",
       "1810     Ramphocaenus-melanurus-149300.wav     73.61310       30.8374   \n",
       "1811      Ramphocaenus-melanurus-27794.wav     54.04730       25.2886   \n",
       "1812       Ramphocaenus-sticturus-2312.wav     10.10940        6.5372   \n",
       "1813     Ramphocaenus-sticturus-424936.wav     38.83200       18.0810   \n",
       "1814      Ramphocaenus-sticturus-91665.wav     21.34200        8.7208   \n",
       "1815      Ramphocaenus-sticturus-91680.wav     53.42040       29.1900   \n",
       "1823    Ramphotrigon-fuscicauda-102716.wav     23.18400       10.5472   \n",
       "1824    Ramphotrigon-fuscicauda-229017.wav     51.76800       20.1693   \n",
       "1826  Ramphotrigon-megacephalum-206161.wav     21.99510        3.3693   \n",
       "1828      Ramphotrigon-ruficauda-27821.wav     54.15180       10.9202   \n",
       "1829      Ramphotrigon-ruficauda-76085.wav     84.50400        9.9992   \n",
       "1862      Saltator-coerulescens-188095.wav     16.92730        5.9891   \n",
       "1863      Saltator-coerulescens-259778.wav     38.26940        6.6798   \n",
       "1864      Saltator-coerulescens-270937.wav     15.54290        6.4869   \n",
       "1866           Saltator-grossus-259800.wav     26.07020        9.1801   \n",
       "1867            Saltator-grossus-27833.wav     42.52730        5.1597   \n",
       "1868           Saltator-maximus-214115.wav     35.84000        7.7100   \n",
       "1869           Saltator-maximus-214117.wav     48.95350       19.7372   \n",
       "1871           Saltator-maximus-450251.wav     42.69600       18.1782   \n",
       "1878          Schiffornis-aenea-542811.wav     28.60800       12.7392   \n",
       "1879          Schiffornis-aenea-542813.wav     29.61600       16.1878   \n",
       "1880          Schiffornis-aenea-542814.wav     33.48000       16.8200   \n",
       "1881          Schiffornis-major-102619.wav     27.04800        7.1194   \n",
       "1882          Schiffornis-major-229321.wav     60.01200       14.0703   \n",
       "1883          Schiffornis-major-296584.wav      9.14286        6.9669   \n",
       "1884        Schiffornis-turdina-151821.wav     21.15920        8.5397   \n",
       "1885         Schiffornis-turdina-27841.wav     82.10290       21.4982   \n",
       "1886         Schiffornis-turdina-76029.wav     57.04800       11.8195   \n",
       "1897      Sclerurus-albigularis-170550.wav     62.52000       40.1199   \n",
       "1898      Sclerurus-albigularis-171021.wav     32.04000       10.3400   \n",
       "1899      Sclerurus-albigularis-475900.wav     42.31200       28.8761   \n",
       "1900       Sclerurus-albigularis-74173.wav     79.22940       37.9698   \n",
       "1901       Sclerurus-caudacutus-296569.wav     18.62530       10.9773   \n",
       "1902        Sclerurus-caudacutus-39129.wav     32.40000       12.1200   \n",
       "1904       Sclerurus-caudacutus-394817.wav      8.09796        0.9179   \n",
       "1905        Sclerurus-mexicanus-534691.wav     77.64000        6.3200   \n",
       "\n",
       "      WHITE SPACE  OVERLAP COUNT  MEDIAN DIST B/W ANNS  MEDIAN DURATION  \\\n",
       "1810     42.77570              0          1.109900e+00          0.44995   \n",
       "1811     28.75870              0          2.729900e+00          2.62980   \n",
       "1812      3.57220              0          1.213000e-01          0.24270   \n",
       "1813     20.75100             50         -1.110223e-15          0.19000   \n",
       "1814     12.62120              0          3.160300e+00          2.95020   \n",
       "1815     24.23040             56          0.000000e+00          0.17000   \n",
       "1823     12.63680              0          8.728000e-01          0.95970   \n",
       "1824     31.59870              0          1.690050e+00          3.24490   \n",
       "1826     18.62580              0          3.049350e+00          0.59485   \n",
       "1828     43.23160              0          5.195200e+00          1.35500   \n",
       "1829     74.50480              0          1.004430e+01          1.42980   \n",
       "1862     10.93820              0          4.389300e+00          1.98970   \n",
       "1863     31.58960              0          2.074950e+00          0.47000   \n",
       "1864      9.05600              0          3.743300e+00          2.20890   \n",
       "1866     16.89010              0          2.617500e+00          1.52500   \n",
       "1867     37.36760              0          5.719600e+00          1.35490   \n",
       "1868     28.13000              0          6.220000e+00          1.71000   \n",
       "1869     29.21630              0          7.299000e-01          0.64990   \n",
       "1871     24.51780              0          1.104900e+00          0.83490   \n",
       "1878     15.86880              0          2.509800e+00          2.13490   \n",
       "1879     13.42820              0          1.724800e+00          2.02975   \n",
       "1880     16.66000              0          2.205000e+00          2.11000   \n",
       "1881     19.92860              0          2.275350e+00          1.19990   \n",
       "1882     45.94170              0          5.500000e-02          0.55500   \n",
       "1883      2.17596              0          4.260000e-02          0.79840   \n",
       "1884     12.61950              3          2.000000e-02          0.82000   \n",
       "1885     60.60470              7          1.045000e-02          1.12990   \n",
       "1886     45.22850              0          1.055000e-01          0.52495   \n",
       "1897     22.40010              3          5.350000e-01          1.69995   \n",
       "1898     21.70000              0          8.700000e-01          0.43000   \n",
       "1899     13.43590              2          5.200000e-01          1.22000   \n",
       "1900     41.25960              1          6.950000e-01          1.40000   \n",
       "1901      7.64800              0          1.834550e+00          2.78930   \n",
       "1902     20.28000              0          1.700000e-01          0.27500   \n",
       "1904      7.18006              0          1.106700e+00          0.18360   \n",
       "1905     71.32000              0          2.432500e+00          0.24500   \n",
       "\n",
       "      OFFSET COUNT LAST MOD BY         Genus  \n",
       "1810            28    EdZamora  Ramphocaenus  \n",
       "1811            11    EdZamora  Ramphocaenus  \n",
       "1812            27    EdZamora  Ramphocaenus  \n",
       "1813            98    EdZamora  Ramphocaenus  \n",
       "1814             3    EdZamora  Ramphocaenus  \n",
       "1815           151    EdZamora  Ramphocaenus  \n",
       "1823            11    EdZamora  Ramphotrigon  \n",
       "1824             8    EdZamora  Ramphotrigon  \n",
       "1826             6    EdZamora  Ramphotrigon  \n",
       "1828             8    EdZamora  Ramphotrigon  \n",
       "1829             7    EdZamora  Ramphotrigon  \n",
       "1862             3    EdZamora      Saltator  \n",
       "1863            14    EdZamora      Saltator  \n",
       "1864             3    EdZamora      Saltator  \n",
       "1866             6    EdZamora      Saltator  \n",
       "1867             4    EdZamora      Saltator  \n",
       "1868             5    EdZamora      Saltator  \n",
       "1869            31    EdZamora      Saltator  \n",
       "1871            22    EdZamora      Saltator  \n",
       "1878             6    EdZamora   Schiffornis  \n",
       "1879             8    EdZamora   Schiffornis  \n",
       "1880             9    EdZamora   Schiffornis  \n",
       "1881             6    EdZamora   Schiffornis  \n",
       "1882            24    EdZamora   Schiffornis  \n",
       "1883             9    EdZamora   Schiffornis  \n",
       "1884             9    EdZamora   Schiffornis  \n",
       "1885            18    EdZamora   Schiffornis  \n",
       "1886            16    EdZamora   Schiffornis  \n",
       "1897            28    EdZamora     Sclerurus  \n",
       "1898            23    EdZamora     Sclerurus  \n",
       "1899            25    EdZamora     Sclerurus  \n",
       "1900            30    EdZamora     Sclerurus  \n",
       "1901             4    EdZamora     Sclerurus  \n",
       "1902            24    EdZamora     Sclerurus  \n",
       "1904             5    EdZamora     Sclerurus  \n",
       "1905            26    EdZamora     Sclerurus  "
      ]
     },
     "execution_count": 33,
     "metadata": {},
     "output_type": "execute_result"
    }
   ],
   "source": [
    "annotator_genus_df"
   ]
  },
  {
   "cell_type": "code",
   "execution_count": 34,
   "metadata": {},
   "outputs": [
    {
     "data": {
      "text/html": [
       "<div>\n",
       "<style scoped>\n",
       "    .dataframe tbody tr th:only-of-type {\n",
       "        vertical-align: middle;\n",
       "    }\n",
       "\n",
       "    .dataframe tbody tr th {\n",
       "        vertical-align: top;\n",
       "    }\n",
       "\n",
       "    .dataframe thead th {\n",
       "        text-align: right;\n",
       "    }\n",
       "</style>\n",
       "<table border=\"1\" class=\"dataframe\">\n",
       "  <thead>\n",
       "    <tr style=\"text-align: right;\">\n",
       "      <th></th>\n",
       "      <th>IN FILE</th>\n",
       "      <th>CLIP LENGTH</th>\n",
       "      <th>OFFSET</th>\n",
       "      <th>DURATION</th>\n",
       "      <th>MAX FREQ</th>\n",
       "      <th>MIN FREQ</th>\n",
       "      <th>SAMPLE RATE</th>\n",
       "      <th>MANUAL ID</th>\n",
       "      <th>TIME_SPENT</th>\n",
       "      <th>LAST MOD BY</th>\n",
       "      <th>LAST MOD DATE</th>\n",
       "      <th>LAST MOD TIME</th>\n",
       "    </tr>\n",
       "  </thead>\n",
       "  <tbody>\n",
       "    <tr>\n",
       "      <th>22645</th>\n",
       "      <td>Ramphocaenus-melanurus-27794.wav</td>\n",
       "      <td>54.0473</td>\n",
       "      <td>3.1902</td>\n",
       "      <td>2.4498</td>\n",
       "      <td>24000</td>\n",
       "      <td>0</td>\n",
       "      <td>44100</td>\n",
       "      <td>Ramphocaenus melanurus Trilling Gnatwren</td>\n",
       "      <td>117.773</td>\n",
       "      <td>EdZamora</td>\n",
       "      <td>11/21/2021</td>\n",
       "      <td>14:47:37</td>\n",
       "    </tr>\n",
       "    <tr>\n",
       "      <th>22646</th>\n",
       "      <td>Ramphocaenus-melanurus-27794.wav</td>\n",
       "      <td>54.0473</td>\n",
       "      <td>9.8698</td>\n",
       "      <td>2.7199</td>\n",
       "      <td>24000</td>\n",
       "      <td>0</td>\n",
       "      <td>44100</td>\n",
       "      <td>Ramphocaenus melanurus Trilling Gnatwren</td>\n",
       "      <td>117.775</td>\n",
       "      <td>EdZamora</td>\n",
       "      <td>11/21/2021</td>\n",
       "      <td>14:47:37</td>\n",
       "    </tr>\n",
       "    <tr>\n",
       "      <th>22647</th>\n",
       "      <td>Ramphocaenus-melanurus-27794.wav</td>\n",
       "      <td>54.0473</td>\n",
       "      <td>23.2392</td>\n",
       "      <td>2.6298</td>\n",
       "      <td>24000</td>\n",
       "      <td>0</td>\n",
       "      <td>44100</td>\n",
       "      <td>Ramphocaenus melanurus Trilling Gnatwren</td>\n",
       "      <td>117.777</td>\n",
       "      <td>EdZamora</td>\n",
       "      <td>11/21/2021</td>\n",
       "      <td>14:47:37</td>\n",
       "    </tr>\n",
       "    <tr>\n",
       "      <th>22648</th>\n",
       "      <td>Ramphocaenus-melanurus-27794.wav</td>\n",
       "      <td>54.0473</td>\n",
       "      <td>7.7699</td>\n",
       "      <td>1.6799</td>\n",
       "      <td>24000</td>\n",
       "      <td>0</td>\n",
       "      <td>44100</td>\n",
       "      <td>Ramphocaenus melanurus Trilling Gnatwren</td>\n",
       "      <td>117.775</td>\n",
       "      <td>EdZamora</td>\n",
       "      <td>11/21/2021</td>\n",
       "      <td>14:47:37</td>\n",
       "    </tr>\n",
       "    <tr>\n",
       "      <th>22649</th>\n",
       "      <td>Ramphocaenus-melanurus-27794.wav</td>\n",
       "      <td>54.0473</td>\n",
       "      <td>16.1795</td>\n",
       "      <td>2.6299</td>\n",
       "      <td>24000</td>\n",
       "      <td>0</td>\n",
       "      <td>44100</td>\n",
       "      <td>Ramphocaenus melanurus Trilling Gnatwren</td>\n",
       "      <td>117.776</td>\n",
       "      <td>EdZamora</td>\n",
       "      <td>11/21/2021</td>\n",
       "      <td>14:47:37</td>\n",
       "    </tr>\n",
       "    <tr>\n",
       "      <th>...</th>\n",
       "      <td>...</td>\n",
       "      <td>...</td>\n",
       "      <td>...</td>\n",
       "      <td>...</td>\n",
       "      <td>...</td>\n",
       "      <td>...</td>\n",
       "      <td>...</td>\n",
       "      <td>...</td>\n",
       "      <td>...</td>\n",
       "      <td>...</td>\n",
       "      <td>...</td>\n",
       "      <td>...</td>\n",
       "    </tr>\n",
       "    <tr>\n",
       "      <th>24643</th>\n",
       "      <td>Sclerurus-mexicanus-534691.wav</td>\n",
       "      <td>77.6400</td>\n",
       "      <td>64.9351</td>\n",
       "      <td>0.2300</td>\n",
       "      <td>24000</td>\n",
       "      <td>0</td>\n",
       "      <td>48000</td>\n",
       "      <td>Sclerurus mexicanus Tawny-throated Leaftosser</td>\n",
       "      <td>239.893</td>\n",
       "      <td>EdZamora</td>\n",
       "      <td>11/21/2021</td>\n",
       "      <td>09:02:49</td>\n",
       "    </tr>\n",
       "    <tr>\n",
       "      <th>24644</th>\n",
       "      <td>Sclerurus-mexicanus-534691.wav</td>\n",
       "      <td>77.6400</td>\n",
       "      <td>66.7951</td>\n",
       "      <td>0.2500</td>\n",
       "      <td>24000</td>\n",
       "      <td>0</td>\n",
       "      <td>48000</td>\n",
       "      <td>Sclerurus mexicanus Tawny-throated Leaftosser</td>\n",
       "      <td>239.894</td>\n",
       "      <td>EdZamora</td>\n",
       "      <td>11/21/2021</td>\n",
       "      <td>09:02:49</td>\n",
       "    </tr>\n",
       "    <tr>\n",
       "      <th>24645</th>\n",
       "      <td>Sclerurus-mexicanus-534691.wav</td>\n",
       "      <td>77.6400</td>\n",
       "      <td>70.8751</td>\n",
       "      <td>0.2300</td>\n",
       "      <td>24000</td>\n",
       "      <td>0</td>\n",
       "      <td>48000</td>\n",
       "      <td>Sclerurus mexicanus Tawny-throated Leaftosser</td>\n",
       "      <td>239.895</td>\n",
       "      <td>EdZamora</td>\n",
       "      <td>11/21/2021</td>\n",
       "      <td>09:02:49</td>\n",
       "    </tr>\n",
       "    <tr>\n",
       "      <th>24646</th>\n",
       "      <td>Sclerurus-mexicanus-534691.wav</td>\n",
       "      <td>77.6400</td>\n",
       "      <td>72.9151</td>\n",
       "      <td>0.2000</td>\n",
       "      <td>24000</td>\n",
       "      <td>0</td>\n",
       "      <td>48000</td>\n",
       "      <td>Sclerurus mexicanus Tawny-throated Leaftosser</td>\n",
       "      <td>239.895</td>\n",
       "      <td>EdZamora</td>\n",
       "      <td>11/21/2021</td>\n",
       "      <td>09:02:49</td>\n",
       "    </tr>\n",
       "    <tr>\n",
       "      <th>24647</th>\n",
       "      <td>Sclerurus-mexicanus-534691.wav</td>\n",
       "      <td>77.6400</td>\n",
       "      <td>75.3151</td>\n",
       "      <td>0.2300</td>\n",
       "      <td>24000</td>\n",
       "      <td>0</td>\n",
       "      <td>48000</td>\n",
       "      <td>Sclerurus mexicanus Tawny-throated Leaftosser</td>\n",
       "      <td>239.896</td>\n",
       "      <td>EdZamora</td>\n",
       "      <td>11/21/2021</td>\n",
       "      <td>09:02:49</td>\n",
       "    </tr>\n",
       "  </tbody>\n",
       "</table>\n",
       "<p>716 rows × 12 columns</p>\n",
       "</div>"
      ],
      "text/plain": [
       "                                IN FILE  CLIP LENGTH   OFFSET  DURATION  \\\n",
       "22645  Ramphocaenus-melanurus-27794.wav      54.0473   3.1902    2.4498   \n",
       "22646  Ramphocaenus-melanurus-27794.wav      54.0473   9.8698    2.7199   \n",
       "22647  Ramphocaenus-melanurus-27794.wav      54.0473  23.2392    2.6298   \n",
       "22648  Ramphocaenus-melanurus-27794.wav      54.0473   7.7699    1.6799   \n",
       "22649  Ramphocaenus-melanurus-27794.wav      54.0473  16.1795    2.6299   \n",
       "...                                 ...          ...      ...       ...   \n",
       "24643    Sclerurus-mexicanus-534691.wav      77.6400  64.9351    0.2300   \n",
       "24644    Sclerurus-mexicanus-534691.wav      77.6400  66.7951    0.2500   \n",
       "24645    Sclerurus-mexicanus-534691.wav      77.6400  70.8751    0.2300   \n",
       "24646    Sclerurus-mexicanus-534691.wav      77.6400  72.9151    0.2000   \n",
       "24647    Sclerurus-mexicanus-534691.wav      77.6400  75.3151    0.2300   \n",
       "\n",
       "       MAX FREQ  MIN FREQ  SAMPLE RATE  \\\n",
       "22645     24000         0        44100   \n",
       "22646     24000         0        44100   \n",
       "22647     24000         0        44100   \n",
       "22648     24000         0        44100   \n",
       "22649     24000         0        44100   \n",
       "...         ...       ...          ...   \n",
       "24643     24000         0        48000   \n",
       "24644     24000         0        48000   \n",
       "24645     24000         0        48000   \n",
       "24646     24000         0        48000   \n",
       "24647     24000         0        48000   \n",
       "\n",
       "                                           MANUAL ID  TIME_SPENT LAST MOD BY  \\\n",
       "22645       Ramphocaenus melanurus Trilling Gnatwren     117.773    EdZamora   \n",
       "22646       Ramphocaenus melanurus Trilling Gnatwren     117.775    EdZamora   \n",
       "22647       Ramphocaenus melanurus Trilling Gnatwren     117.777    EdZamora   \n",
       "22648       Ramphocaenus melanurus Trilling Gnatwren     117.775    EdZamora   \n",
       "22649       Ramphocaenus melanurus Trilling Gnatwren     117.776    EdZamora   \n",
       "...                                              ...         ...         ...   \n",
       "24643  Sclerurus mexicanus Tawny-throated Leaftosser     239.893    EdZamora   \n",
       "24644  Sclerurus mexicanus Tawny-throated Leaftosser     239.894    EdZamora   \n",
       "24645  Sclerurus mexicanus Tawny-throated Leaftosser     239.895    EdZamora   \n",
       "24646  Sclerurus mexicanus Tawny-throated Leaftosser     239.895    EdZamora   \n",
       "24647  Sclerurus mexicanus Tawny-throated Leaftosser     239.896    EdZamora   \n",
       "\n",
       "      LAST MOD DATE LAST MOD TIME  \n",
       "22645    11/21/2021      14:47:37  \n",
       "22646    11/21/2021      14:47:37  \n",
       "22647    11/21/2021      14:47:37  \n",
       "22648    11/21/2021      14:47:37  \n",
       "22649    11/21/2021      14:47:37  \n",
       "...             ...           ...  \n",
       "24643    11/21/2021      09:02:49  \n",
       "24644    11/21/2021      09:02:49  \n",
       "24645    11/21/2021      09:02:49  \n",
       "24646    11/21/2021      09:02:49  \n",
       "24647    11/21/2021      09:02:49  \n",
       "\n",
       "[716 rows x 12 columns]"
      ]
     },
     "execution_count": 34,
     "metadata": {},
     "output_type": "execute_result"
    }
   ],
   "source": [
    "kaleidoscope_format = pd.read_csv('for_data_science_newline_fixed.csv')\n",
    "for_kaleidoscope = kaleidoscope_format[kaleidoscope_format['IN FILE'].isin(df_segm_pca_kmeans['IN FILE'].to_list())] \n",
    "for_kaleidoscope"
   ]
  }
 ],
 "metadata": {
  "interpreter": {
   "hash": "d1b7c51cb1c07a1a0543a455994ca61e31e66a1747528d0d0492d9b5937ed4ce"
  },
  "kernelspec": {
   "display_name": "Python 3.8.12 ('tweety')",
   "language": "python",
   "name": "python3"
  },
  "language_info": {
   "codemirror_mode": {
    "name": "ipython",
    "version": 3
   },
   "file_extension": ".py",
   "mimetype": "text/x-python",
   "name": "python",
   "nbconvert_exporter": "python",
   "pygments_lexer": "ipython3",
   "version": "3.8.12"
  },
  "orig_nbformat": 4
 },
 "nbformat": 4,
 "nbformat_minor": 2
}
