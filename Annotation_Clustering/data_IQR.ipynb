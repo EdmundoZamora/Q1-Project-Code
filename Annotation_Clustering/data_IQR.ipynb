{
 "cells": [
  {
   "cell_type": "code",
   "execution_count": 220,
   "metadata": {},
   "outputs": [],
   "source": [
    "import pandas as pd\n",
    "import numpy as np\n",
    "import matplotlib.pyplot as plt\n",
    "from scipy import stats\n",
    "import seaborn as sns"
   ]
  },
  {
   "cell_type": "code",
   "execution_count": 221,
   "metadata": {},
   "outputs": [
    {
     "data": {
      "text/html": [
       "<div>\n",
       "<style scoped>\n",
       "    .dataframe tbody tr th:only-of-type {\n",
       "        vertical-align: middle;\n",
       "    }\n",
       "\n",
       "    .dataframe tbody tr th {\n",
       "        vertical-align: top;\n",
       "    }\n",
       "\n",
       "    .dataframe thead th {\n",
       "        text-align: right;\n",
       "    }\n",
       "</style>\n",
       "<table border=\"1\" class=\"dataframe\">\n",
       "  <thead>\n",
       "    <tr style=\"text-align: right;\">\n",
       "      <th></th>\n",
       "      <th>IN FILE</th>\n",
       "      <th>CLIP LENGTH</th>\n",
       "      <th>OFFSET</th>\n",
       "      <th>DURATION</th>\n",
       "    </tr>\n",
       "  </thead>\n",
       "  <tbody>\n",
       "    <tr>\n",
       "      <th>0</th>\n",
       "      <td>Aburria-aburri-257423.wav</td>\n",
       "      <td>24.6335</td>\n",
       "      <td>2.3614</td>\n",
       "      <td>3.3205</td>\n",
       "    </tr>\n",
       "    <tr>\n",
       "      <th>1</th>\n",
       "      <td>Aburria-aburri-257423.wav</td>\n",
       "      <td>24.6335</td>\n",
       "      <td>6.7320</td>\n",
       "      <td>2.0103</td>\n",
       "    </tr>\n",
       "    <tr>\n",
       "      <th>2</th>\n",
       "      <td>Aburria-aburri-257423.wav</td>\n",
       "      <td>24.6335</td>\n",
       "      <td>19.2438</td>\n",
       "      <td>3.4505</td>\n",
       "    </tr>\n",
       "    <tr>\n",
       "      <th>3</th>\n",
       "      <td>Aburria-aburri-387212.wav</td>\n",
       "      <td>84.4800</td>\n",
       "      <td>0.6011</td>\n",
       "      <td>3.0800</td>\n",
       "    </tr>\n",
       "    <tr>\n",
       "      <th>4</th>\n",
       "      <td>Aburria-aburri-387212.wav</td>\n",
       "      <td>84.4800</td>\n",
       "      <td>77.6811</td>\n",
       "      <td>3.1400</td>\n",
       "    </tr>\n",
       "  </tbody>\n",
       "</table>\n",
       "</div>"
      ],
      "text/plain": [
       "                     IN FILE  CLIP LENGTH   OFFSET  DURATION\n",
       "0  Aburria-aburri-257423.wav      24.6335   2.3614    3.3205\n",
       "1  Aburria-aburri-257423.wav      24.6335   6.7320    2.0103\n",
       "2  Aburria-aburri-257423.wav      24.6335  19.2438    3.4505\n",
       "3  Aburria-aburri-387212.wav      84.4800   0.6011    3.0800\n",
       "4  Aburria-aburri-387212.wav      84.4800  77.6811    3.1400"
      ]
     },
     "execution_count": 221,
     "metadata": {},
     "output_type": "execute_result"
    }
   ],
   "source": [
    "frame = pd.read_csv('for_data_science_newline_fixed.csv', usecols = [\"IN FILE\",\"CLIP LENGTH\",\"OFFSET\",\"DURATION\"])\n",
    "frame.head()"
   ]
  },
  {
   "cell_type": "code",
   "execution_count": 222,
   "metadata": {},
   "outputs": [
    {
     "data": {
      "text/html": [
       "<div>\n",
       "<style scoped>\n",
       "    .dataframe tbody tr th:only-of-type {\n",
       "        vertical-align: middle;\n",
       "    }\n",
       "\n",
       "    .dataframe tbody tr th {\n",
       "        vertical-align: top;\n",
       "    }\n",
       "\n",
       "    .dataframe thead th {\n",
       "        text-align: right;\n",
       "    }\n",
       "</style>\n",
       "<table border=\"1\" class=\"dataframe\">\n",
       "  <thead>\n",
       "    <tr style=\"text-align: right;\">\n",
       "      <th></th>\n",
       "      <th>IN FILE</th>\n",
       "      <th>CLIP LENGTH</th>\n",
       "      <th>OFFSET</th>\n",
       "      <th>DURATION</th>\n",
       "      <th>Genus</th>\n",
       "    </tr>\n",
       "  </thead>\n",
       "  <tbody>\n",
       "    <tr>\n",
       "      <th>0</th>\n",
       "      <td>Aburria-aburri-257423.wav</td>\n",
       "      <td>24.6335</td>\n",
       "      <td>2.3614</td>\n",
       "      <td>3.3205</td>\n",
       "      <td>Aburria</td>\n",
       "    </tr>\n",
       "    <tr>\n",
       "      <th>1</th>\n",
       "      <td>Aburria-aburri-257423.wav</td>\n",
       "      <td>24.6335</td>\n",
       "      <td>6.7320</td>\n",
       "      <td>2.0103</td>\n",
       "      <td>Aburria</td>\n",
       "    </tr>\n",
       "    <tr>\n",
       "      <th>2</th>\n",
       "      <td>Aburria-aburri-257423.wav</td>\n",
       "      <td>24.6335</td>\n",
       "      <td>19.2438</td>\n",
       "      <td>3.4505</td>\n",
       "      <td>Aburria</td>\n",
       "    </tr>\n",
       "    <tr>\n",
       "      <th>3</th>\n",
       "      <td>Aburria-aburri-387212.wav</td>\n",
       "      <td>84.4800</td>\n",
       "      <td>0.6011</td>\n",
       "      <td>3.0800</td>\n",
       "      <td>Aburria</td>\n",
       "    </tr>\n",
       "    <tr>\n",
       "      <th>4</th>\n",
       "      <td>Aburria-aburri-387212.wav</td>\n",
       "      <td>84.4800</td>\n",
       "      <td>77.6811</td>\n",
       "      <td>3.1400</td>\n",
       "      <td>Aburria</td>\n",
       "    </tr>\n",
       "    <tr>\n",
       "      <th>...</th>\n",
       "      <td>...</td>\n",
       "      <td>...</td>\n",
       "      <td>...</td>\n",
       "      <td>...</td>\n",
       "      <td>...</td>\n",
       "    </tr>\n",
       "    <tr>\n",
       "      <th>31360</th>\n",
       "      <td>Zonotrichia-capensis-232609.wav</td>\n",
       "      <td>98.8560</td>\n",
       "      <td>63.2772</td>\n",
       "      <td>1.8301</td>\n",
       "      <td>Zonotrichia</td>\n",
       "    </tr>\n",
       "    <tr>\n",
       "      <th>31361</th>\n",
       "      <td>Zonotrichia-capensis-232609.wav</td>\n",
       "      <td>98.8560</td>\n",
       "      <td>34.1554</td>\n",
       "      <td>2.4702</td>\n",
       "      <td>Zonotrichia</td>\n",
       "    </tr>\n",
       "    <tr>\n",
       "      <th>31362</th>\n",
       "      <td>Zonotrichia-capensis-377483.wav</td>\n",
       "      <td>18.2596</td>\n",
       "      <td>0.5762</td>\n",
       "      <td>3.2199</td>\n",
       "      <td>Zonotrichia</td>\n",
       "    </tr>\n",
       "    <tr>\n",
       "      <th>31363</th>\n",
       "      <td>Zonotrichia-capensis-377483.wav</td>\n",
       "      <td>18.2596</td>\n",
       "      <td>6.8160</td>\n",
       "      <td>2.1500</td>\n",
       "      <td>Zonotrichia</td>\n",
       "    </tr>\n",
       "    <tr>\n",
       "      <th>31364</th>\n",
       "      <td>Zonotrichia-capensis-377483.wav</td>\n",
       "      <td>18.2596</td>\n",
       "      <td>12.9559</td>\n",
       "      <td>2.3599</td>\n",
       "      <td>Zonotrichia</td>\n",
       "    </tr>\n",
       "  </tbody>\n",
       "</table>\n",
       "<p>31365 rows × 5 columns</p>\n",
       "</div>"
      ],
      "text/plain": [
       "                               IN FILE  CLIP LENGTH   OFFSET  DURATION  \\\n",
       "0            Aburria-aburri-257423.wav      24.6335   2.3614    3.3205   \n",
       "1            Aburria-aburri-257423.wav      24.6335   6.7320    2.0103   \n",
       "2            Aburria-aburri-257423.wav      24.6335  19.2438    3.4505   \n",
       "3            Aburria-aburri-387212.wav      84.4800   0.6011    3.0800   \n",
       "4            Aburria-aburri-387212.wav      84.4800  77.6811    3.1400   \n",
       "...                                ...          ...      ...       ...   \n",
       "31360  Zonotrichia-capensis-232609.wav      98.8560  63.2772    1.8301   \n",
       "31361  Zonotrichia-capensis-232609.wav      98.8560  34.1554    2.4702   \n",
       "31362  Zonotrichia-capensis-377483.wav      18.2596   0.5762    3.2199   \n",
       "31363  Zonotrichia-capensis-377483.wav      18.2596   6.8160    2.1500   \n",
       "31364  Zonotrichia-capensis-377483.wav      18.2596  12.9559    2.3599   \n",
       "\n",
       "             Genus  \n",
       "0          Aburria  \n",
       "1          Aburria  \n",
       "2          Aburria  \n",
       "3          Aburria  \n",
       "4          Aburria  \n",
       "...            ...  \n",
       "31360  Zonotrichia  \n",
       "31361  Zonotrichia  \n",
       "31362  Zonotrichia  \n",
       "31363  Zonotrichia  \n",
       "31364  Zonotrichia  \n",
       "\n",
       "[31365 rows x 5 columns]"
      ]
     },
     "execution_count": 222,
     "metadata": {},
     "output_type": "execute_result"
    }
   ],
   "source": [
    "def species(row):\n",
    "    species = row['IN FILE']\n",
    "    spec = species.split('-')\n",
    "    # print(spec)\n",
    "    # print(spec[:-1])\n",
    "    spec_to = '-'.join(spec[:-2])\n",
    "    return spec_to\n",
    "\n",
    "frame['Genus'] = frame.apply (lambda row: species(row), axis=1)\n",
    "# frame = frame[frame['Genus']== 'Piranga-leucoptera']\n",
    "frame"
   ]
  },
  {
   "cell_type": "code",
   "execution_count": 223,
   "metadata": {},
   "outputs": [],
   "source": [
    "# Function copy-pasted directly from PyHa\n",
    "def annotation_duration_statistics(df):\n",
    "    \"\"\"\n",
    "    Function that calculates basic statistics related to the duration of\n",
    "    annotations of a Pandas Dataframe compatible with PyHa.\n",
    "    Args:\n",
    "        df (Pandas Dataframe)\n",
    "            - Automated labels or manual labels.\n",
    "    Returns:\n",
    "        Pandas Dataframe containing count, mean, mode, standard deviation, and\n",
    "        IQR values based on annotation duration.\n",
    "    \"\"\"\n",
    "    # Reading in the Duration column of the passed in dataframe as a Python\n",
    "    # list\n",
    "    annotation_lengths = df[\"DURATION\"].to_list()\n",
    "    # converting to numpy array which has more readily available statistics\n",
    "    # functions\n",
    "    annotation_lengths = np.asarray(annotation_lengths)\n",
    "    # Converting the Python list to a numpy array\n",
    "    entry = {'COUNT': np.shape(annotation_lengths)[0],\n",
    "             'MODE': stats.mode(np.round(annotation_lengths, 2))[0][0],\n",
    "             'MEAN': np.mean(annotation_lengths),\n",
    "             'STANDARD DEVIATION': np.std(annotation_lengths),\n",
    "             'MIN': np.amin(annotation_lengths),\n",
    "             'Q1': np.percentile(annotation_lengths, 25),\n",
    "             'MEDIAN': np.median(annotation_lengths),\n",
    "             'Q3': np.percentile(annotation_lengths, 75),\n",
    "             'MAX': np.amax(annotation_lengths)}\n",
    "    # returning the dictionary as a pandas dataframe\n",
    "    return pd.DataFrame.from_dict([entry])"
   ]
  },
  {
   "cell_type": "code",
   "execution_count": 224,
   "metadata": {},
   "outputs": [],
   "source": [
    "def annotation_duration_histogram(\n",
    "    annotation_df,\n",
    "    n_bins = 6,\n",
    "    min_length = None,\n",
    "    max_length = None,\n",
    "    save_fig = False,\n",
    "    title = \"Annotation Length Histogram\",\n",
    "    filename = \"annotation_histogram.png\"):\n",
    "    \"\"\"\n",
    "    Function to build a histogram so a user can visually see the length of \n",
    "    the annotations they are working with. \n",
    "    Args:\n",
    "        annotation_df (Dataframe)\n",
    "            - Dataframe of automated or human labels\n",
    "        n_bins (int)\n",
    "            - number of histogram bins in the final histogram\n",
    "            - default: 6\n",
    "            \n",
    "        min_length (int)\n",
    "            - minimum length of the audio clip\n",
    "            - default: 0s\n",
    "        max_length (int)\n",
    "            - maximum length of the audio clip\n",
    "            - default: 60s\n",
    "        save_fig (boolean)\n",
    "            - Whether or not the histogram should be saved as a file.\n",
    "            - default: False\n",
    "        filename (string)\n",
    "            - Name of the file to save the histogram to.\n",
    "            - default: \"annotation_histogram.png\"\n",
    "    Returns:\n",
    "        Histogram of the length of the annotations.\n",
    "    \"\"\"\n",
    "    # Create the initial histogram\n",
    "    duration = annotation_df[\"DURATION\"].to_list()\n",
    "    sns_hist = sns.histplot(\n",
    "        data=duration,\n",
    "        bins=n_bins,\n",
    "        line_kws=dict(edgecolor=\"k\", linewidth=2),\n",
    "        stat=\"count\")\n",
    "\n",
    "    # Modify the length of the x-axis as specified\n",
    "    if max_length is not None and min_length is not None:\n",
    "        if max_length < min_length:\n",
    "            raise ValueError(\"max_length cannot be less than `min_length\")\n",
    "        plt.xlim(min_length, max_length)\n",
    "    elif max_length is not None:\n",
    "        plt.xlim(right=max_length)\n",
    "    elif min_length is not None:\n",
    "        plt.xlim(left=min_length)\n",
    "\n",
    "    # Set title and the labels\n",
    "    sns_hist.set_title(title)\n",
    "    sns_hist.set(xlabel=\"Annotation Length (s)\", ylabel = \"Count\")\n",
    "\n",
    "    # Save the histogram if specified\n",
    "    if save_fig: \n",
    "        sns_hist.get_figure().savefig(filename)"
   ]
  },
  {
   "cell_type": "code",
   "execution_count": 225,
   "metadata": {},
   "outputs": [],
   "source": [
    "# frame = frame[frame['IN FILE'] == 'Aburria-aburri-257423.wav']\n",
    "# frame"
   ]
  },
  {
   "cell_type": "code",
   "execution_count": 226,
   "metadata": {},
   "outputs": [],
   "source": [
    "# annotation_duration_statistics(frame)\n",
    "\n",
    "#Q1\n",
    "#Median\n",
    "#Q3"
   ]
  },
  {
   "cell_type": "code",
   "execution_count": 227,
   "metadata": {},
   "outputs": [],
   "source": [
    "# annotation_duration_histogram(frame,n_bins = 20,min_length=0.0,max_length=5.0)"
   ]
  },
  {
   "cell_type": "code",
   "execution_count": 228,
   "metadata": {},
   "outputs": [
    {
     "data": {
      "text/html": [
       "<div>\n",
       "<style scoped>\n",
       "    .dataframe tbody tr th:only-of-type {\n",
       "        vertical-align: middle;\n",
       "    }\n",
       "\n",
       "    .dataframe tbody tr th {\n",
       "        vertical-align: top;\n",
       "    }\n",
       "\n",
       "    .dataframe thead th {\n",
       "        text-align: right;\n",
       "    }\n",
       "</style>\n",
       "<table border=\"1\" class=\"dataframe\">\n",
       "  <thead>\n",
       "    <tr style=\"text-align: right;\">\n",
       "      <th></th>\n",
       "      <th>IN FILE</th>\n",
       "      <th>0.25</th>\n",
       "      <th>0.5</th>\n",
       "      <th>0.75</th>\n",
       "    </tr>\n",
       "  </thead>\n",
       "  <tbody>\n",
       "    <tr>\n",
       "      <th>0</th>\n",
       "      <td>Aburria-aburri-257423.wav</td>\n",
       "      <td>2.665400</td>\n",
       "      <td>3.32050</td>\n",
       "      <td>3.38550</td>\n",
       "    </tr>\n",
       "    <tr>\n",
       "      <th>1</th>\n",
       "      <td>Aburria-aburri-387212.wav</td>\n",
       "      <td>3.110000</td>\n",
       "      <td>3.14000</td>\n",
       "      <td>3.17000</td>\n",
       "    </tr>\n",
       "    <tr>\n",
       "      <th>2</th>\n",
       "      <td>Accipiter-bicolor-451839.wav</td>\n",
       "      <td>0.202975</td>\n",
       "      <td>0.21550</td>\n",
       "      <td>0.22150</td>\n",
       "    </tr>\n",
       "    <tr>\n",
       "      <th>3</th>\n",
       "      <td>Accipiter-collaris-260335.wav</td>\n",
       "      <td>0.895100</td>\n",
       "      <td>1.03010</td>\n",
       "      <td>1.08760</td>\n",
       "    </tr>\n",
       "    <tr>\n",
       "      <th>4</th>\n",
       "      <td>Accipiter-collaris-260336.wav</td>\n",
       "      <td>0.515075</td>\n",
       "      <td>0.57010</td>\n",
       "      <td>0.67000</td>\n",
       "    </tr>\n",
       "    <tr>\n",
       "      <th>...</th>\n",
       "      <td>...</td>\n",
       "      <td>...</td>\n",
       "      <td>...</td>\n",
       "      <td>...</td>\n",
       "    </tr>\n",
       "    <tr>\n",
       "      <th>2438</th>\n",
       "      <td>Zimmerius-gracilipes-258668.wav</td>\n",
       "      <td>0.795775</td>\n",
       "      <td>0.81325</td>\n",
       "      <td>0.84185</td>\n",
       "    </tr>\n",
       "    <tr>\n",
       "      <th>2439</th>\n",
       "      <td>Zimmerius-gracilipes-258669.wav</td>\n",
       "      <td>0.470000</td>\n",
       "      <td>0.52000</td>\n",
       "      <td>0.55000</td>\n",
       "    </tr>\n",
       "    <tr>\n",
       "      <th>2440</th>\n",
       "      <td>Zonotrichia-capensis-232609.wav</td>\n",
       "      <td>1.480000</td>\n",
       "      <td>1.70010</td>\n",
       "      <td>1.92010</td>\n",
       "    </tr>\n",
       "    <tr>\n",
       "      <th>2441</th>\n",
       "      <td>Zonotrichia-capensis-377483.wav</td>\n",
       "      <td>2.254950</td>\n",
       "      <td>2.35990</td>\n",
       "      <td>2.78990</td>\n",
       "    </tr>\n",
       "    <tr>\n",
       "      <th>2442</th>\n",
       "      <td>Zonotrichia-capensis-47546.wav</td>\n",
       "      <td>2.035200</td>\n",
       "      <td>2.05525</td>\n",
       "      <td>2.07780</td>\n",
       "    </tr>\n",
       "  </tbody>\n",
       "</table>\n",
       "<p>2443 rows × 4 columns</p>\n",
       "</div>"
      ],
      "text/plain": [
       "                              IN FILE      0.25      0.5     0.75\n",
       "0           Aburria-aburri-257423.wav  2.665400  3.32050  3.38550\n",
       "1           Aburria-aburri-387212.wav  3.110000  3.14000  3.17000\n",
       "2        Accipiter-bicolor-451839.wav  0.202975  0.21550  0.22150\n",
       "3       Accipiter-collaris-260335.wav  0.895100  1.03010  1.08760\n",
       "4       Accipiter-collaris-260336.wav  0.515075  0.57010  0.67000\n",
       "...                               ...       ...      ...      ...\n",
       "2438  Zimmerius-gracilipes-258668.wav  0.795775  0.81325  0.84185\n",
       "2439  Zimmerius-gracilipes-258669.wav  0.470000  0.52000  0.55000\n",
       "2440  Zonotrichia-capensis-232609.wav  1.480000  1.70010  1.92010\n",
       "2441  Zonotrichia-capensis-377483.wav  2.254950  2.35990  2.78990\n",
       "2442   Zonotrichia-capensis-47546.wav  2.035200  2.05525  2.07780\n",
       "\n",
       "[2443 rows x 4 columns]"
      ]
     },
     "execution_count": 228,
     "metadata": {},
     "output_type": "execute_result"
    }
   ],
   "source": [
    "IQR_DURATION = frame.groupby('IN FILE')[['DURATION']].quantile([.25,.5,.75])\n",
    "IQR_DURATION = IQR_DURATION.unstack(1)\n",
    "IQR_DURATION = IQR_DURATION['DURATION'].rename_axis([None], axis=1).reset_index()\n",
    "IQR_DURATION"
   ]
  },
  {
   "cell_type": "code",
   "execution_count": 229,
   "metadata": {},
   "outputs": [
    {
     "data": {
      "text/html": [
       "<div>\n",
       "<style scoped>\n",
       "    .dataframe tbody tr th:only-of-type {\n",
       "        vertical-align: middle;\n",
       "    }\n",
       "\n",
       "    .dataframe tbody tr th {\n",
       "        vertical-align: top;\n",
       "    }\n",
       "\n",
       "    .dataframe thead th {\n",
       "        text-align: right;\n",
       "    }\n",
       "</style>\n",
       "<table border=\"1\" class=\"dataframe\">\n",
       "  <thead>\n",
       "    <tr style=\"text-align: right;\">\n",
       "      <th></th>\n",
       "      <th>IN FILE</th>\n",
       "      <th>0.25</th>\n",
       "      <th>0.5</th>\n",
       "      <th>0.75</th>\n",
       "    </tr>\n",
       "  </thead>\n",
       "  <tbody>\n",
       "    <tr>\n",
       "      <th>0</th>\n",
       "      <td>Aburria-aburri-257423.wav</td>\n",
       "      <td>4.546700</td>\n",
       "      <td>6.73200</td>\n",
       "      <td>12.987900</td>\n",
       "    </tr>\n",
       "    <tr>\n",
       "      <th>1</th>\n",
       "      <td>Aburria-aburri-387212.wav</td>\n",
       "      <td>15.521100</td>\n",
       "      <td>30.44110</td>\n",
       "      <td>54.061100</td>\n",
       "    </tr>\n",
       "    <tr>\n",
       "      <th>2</th>\n",
       "      <td>Accipiter-bicolor-451839.wav</td>\n",
       "      <td>1.754000</td>\n",
       "      <td>2.75345</td>\n",
       "      <td>3.760200</td>\n",
       "    </tr>\n",
       "    <tr>\n",
       "      <th>3</th>\n",
       "      <td>Accipiter-collaris-260335.wav</td>\n",
       "      <td>6.441750</td>\n",
       "      <td>17.87295</td>\n",
       "      <td>29.574150</td>\n",
       "    </tr>\n",
       "    <tr>\n",
       "      <th>4</th>\n",
       "      <td>Accipiter-collaris-260336.wav</td>\n",
       "      <td>5.994075</td>\n",
       "      <td>8.05175</td>\n",
       "      <td>18.697625</td>\n",
       "    </tr>\n",
       "    <tr>\n",
       "      <th>...</th>\n",
       "      <td>...</td>\n",
       "      <td>...</td>\n",
       "      <td>...</td>\n",
       "      <td>...</td>\n",
       "    </tr>\n",
       "    <tr>\n",
       "      <th>2438</th>\n",
       "      <td>Zimmerius-gracilipes-258668.wav</td>\n",
       "      <td>2.885275</td>\n",
       "      <td>4.33075</td>\n",
       "      <td>6.495800</td>\n",
       "    </tr>\n",
       "    <tr>\n",
       "      <th>2439</th>\n",
       "      <td>Zimmerius-gracilipes-258669.wav</td>\n",
       "      <td>7.280900</td>\n",
       "      <td>13.83070</td>\n",
       "      <td>19.740500</td>\n",
       "    </tr>\n",
       "    <tr>\n",
       "      <th>2440</th>\n",
       "      <td>Zonotrichia-capensis-232609.wav</td>\n",
       "      <td>23.454800</td>\n",
       "      <td>45.46610</td>\n",
       "      <td>63.277200</td>\n",
       "    </tr>\n",
       "    <tr>\n",
       "      <th>2441</th>\n",
       "      <td>Zonotrichia-capensis-377483.wav</td>\n",
       "      <td>3.696100</td>\n",
       "      <td>6.81600</td>\n",
       "      <td>9.885950</td>\n",
       "    </tr>\n",
       "    <tr>\n",
       "      <th>2442</th>\n",
       "      <td>Zonotrichia-capensis-47546.wav</td>\n",
       "      <td>12.097350</td>\n",
       "      <td>22.19835</td>\n",
       "      <td>32.053675</td>\n",
       "    </tr>\n",
       "  </tbody>\n",
       "</table>\n",
       "<p>2443 rows × 4 columns</p>\n",
       "</div>"
      ],
      "text/plain": [
       "                              IN FILE       0.25       0.5       0.75\n",
       "0           Aburria-aburri-257423.wav   4.546700   6.73200  12.987900\n",
       "1           Aburria-aburri-387212.wav  15.521100  30.44110  54.061100\n",
       "2        Accipiter-bicolor-451839.wav   1.754000   2.75345   3.760200\n",
       "3       Accipiter-collaris-260335.wav   6.441750  17.87295  29.574150\n",
       "4       Accipiter-collaris-260336.wav   5.994075   8.05175  18.697625\n",
       "...                               ...        ...       ...        ...\n",
       "2438  Zimmerius-gracilipes-258668.wav   2.885275   4.33075   6.495800\n",
       "2439  Zimmerius-gracilipes-258669.wav   7.280900  13.83070  19.740500\n",
       "2440  Zonotrichia-capensis-232609.wav  23.454800  45.46610  63.277200\n",
       "2441  Zonotrichia-capensis-377483.wav   3.696100   6.81600   9.885950\n",
       "2442   Zonotrichia-capensis-47546.wav  12.097350  22.19835  32.053675\n",
       "\n",
       "[2443 rows x 4 columns]"
      ]
     },
     "execution_count": 229,
     "metadata": {},
     "output_type": "execute_result"
    }
   ],
   "source": [
    "IQR_OFFSET = frame.groupby('IN FILE')[['OFFSET']].quantile([.25,.5,.75])\n",
    "IQR_OFFSET = IQR_OFFSET.unstack(1)\n",
    "IQR_OFFSET = IQR_OFFSET['OFFSET'].rename_axis([None], axis=1).reset_index()\n",
    "IQR_OFFSET"
   ]
  },
  {
   "cell_type": "code",
   "execution_count": 230,
   "metadata": {},
   "outputs": [],
   "source": [
    "# from mpl_toolkits import mplot3d"
   ]
  },
  {
   "cell_type": "code",
   "execution_count": 231,
   "metadata": {},
   "outputs": [],
   "source": [
    "%matplotlib inline\n",
    "import numpy as np\n",
    "import matplotlib.pyplot as plt"
   ]
  },
  {
   "cell_type": "code",
   "execution_count": 232,
   "metadata": {},
   "outputs": [],
   "source": [
    "# ax = plt.axes(projection='3d')\n",
    "\n",
    "# zdata = IQR_DURATION[0.75].to_list()\n",
    "# xdata = IQR_DURATION[0.5].to_list()\n",
    "# ydata = IQR_DURATION[0.25].to_list()\n",
    "\n",
    "# ax.scatter3D(xdata, ydata, zdata, c=zdata, cmap='viridis')\n",
    "# plt.show()"
   ]
  },
  {
   "cell_type": "code",
   "execution_count": 233,
   "metadata": {},
   "outputs": [],
   "source": [
    "# ax = plt.axes(projection='3d')\n",
    "\n",
    "# zdata_OFFSET = IQR_OFFSET[0.75].to_list()\n",
    "# xdata_OFFSET = IQR_OFFSET[0.5].to_list()\n",
    "# ydata_OFFSET = IQR_OFFSET[0.25].to_list()\n",
    "\n",
    "# ax.scatter3D(xdata_OFFSET, ydata_OFFSET, zdata_OFFSET, c=zdata_OFFSET, cmap='viridis')\n",
    "# plt.show()"
   ]
  },
  {
   "cell_type": "code",
   "execution_count": 234,
   "metadata": {},
   "outputs": [],
   "source": [
    "import plotly.express as px\n",
    "df = IQR_DURATION\n",
    "zdata = IQR_DURATION[0.75].to_list()\n",
    "xdata = IQR_DURATION[0.5].to_list()\n",
    "ydata = IQR_DURATION[0.25].to_list()\n",
    "\n",
    "# fig = px.scatter_3d(df, x= .5, y= .25, z= .75,\n",
    "#                     color= 'IN FILE')\n",
    "# fig.show()"
   ]
  },
  {
   "cell_type": "code",
   "execution_count": 235,
   "metadata": {},
   "outputs": [],
   "source": [
    "df = IQR_OFFSET\n",
    "zdata_OFFSET = IQR_OFFSET[0.75].to_list()\n",
    "xdata_OFFSET = IQR_OFFSET[0.5].to_list()\n",
    "ydata_OFFSET = IQR_OFFSET[0.25].to_list()\n",
    "\n",
    "# fig = px.scatter_3d(df, x= .5, y= .25, z= .75,\n",
    "#                     color= 'IN FILE')\n",
    "# fig.show()"
   ]
  },
  {
   "cell_type": "code",
   "execution_count": 236,
   "metadata": {},
   "outputs": [
    {
     "data": {
      "text/plain": [
       "515"
      ]
     },
     "execution_count": 236,
     "metadata": {},
     "output_type": "execute_result"
    }
   ],
   "source": [
    "def species(row):\n",
    "    species = row['IN FILE']\n",
    "    spec = species.split('-')\n",
    "    # print(spec)\n",
    "    # print(spec[:-1])\n",
    "    spec_to = '-'.join(spec[:-2])\n",
    "    return spec_to\n",
    "\n",
    "# change dataframe to IQR_DURATION for getting plots for IQR_DURATION\n",
    "\n",
    "IQR_OFFSET['Genus'] = IQR_OFFSET.apply (lambda row: species(row), axis=1)\n",
    "len(IQR_OFFSET['Genus'].unique())"
   ]
  },
  {
   "cell_type": "code",
   "execution_count": 237,
   "metadata": {},
   "outputs": [
    {
     "data": {
      "text/html": [
       "<div>\n",
       "<style scoped>\n",
       "    .dataframe tbody tr th:only-of-type {\n",
       "        vertical-align: middle;\n",
       "    }\n",
       "\n",
       "    .dataframe tbody tr th {\n",
       "        vertical-align: top;\n",
       "    }\n",
       "\n",
       "    .dataframe thead th {\n",
       "        text-align: right;\n",
       "    }\n",
       "</style>\n",
       "<table border=\"1\" class=\"dataframe\">\n",
       "  <thead>\n",
       "    <tr style=\"text-align: right;\">\n",
       "      <th></th>\n",
       "      <th>0.25</th>\n",
       "      <th>0.5</th>\n",
       "      <th>0.75</th>\n",
       "    </tr>\n",
       "  </thead>\n",
       "  <tbody>\n",
       "    <tr>\n",
       "      <th>0</th>\n",
       "      <td>4.546700</td>\n",
       "      <td>6.73200</td>\n",
       "      <td>12.987900</td>\n",
       "    </tr>\n",
       "    <tr>\n",
       "      <th>1</th>\n",
       "      <td>15.521100</td>\n",
       "      <td>30.44110</td>\n",
       "      <td>54.061100</td>\n",
       "    </tr>\n",
       "    <tr>\n",
       "      <th>2</th>\n",
       "      <td>1.754000</td>\n",
       "      <td>2.75345</td>\n",
       "      <td>3.760200</td>\n",
       "    </tr>\n",
       "    <tr>\n",
       "      <th>3</th>\n",
       "      <td>6.441750</td>\n",
       "      <td>17.87295</td>\n",
       "      <td>29.574150</td>\n",
       "    </tr>\n",
       "    <tr>\n",
       "      <th>4</th>\n",
       "      <td>5.994075</td>\n",
       "      <td>8.05175</td>\n",
       "      <td>18.697625</td>\n",
       "    </tr>\n",
       "  </tbody>\n",
       "</table>\n",
       "</div>"
      ],
      "text/plain": [
       "        0.25       0.5       0.75\n",
       "0   4.546700   6.73200  12.987900\n",
       "1  15.521100  30.44110  54.061100\n",
       "2   1.754000   2.75345   3.760200\n",
       "3   6.441750  17.87295  29.574150\n",
       "4   5.994075   8.05175  18.697625"
      ]
     },
     "execution_count": 237,
     "metadata": {},
     "output_type": "execute_result"
    }
   ],
   "source": [
    "pca_data = IQR_OFFSET\n",
    "X = pca_data.drop(columns = ['IN FILE','Genus'])\n",
    "X.head()"
   ]
  },
  {
   "cell_type": "code",
   "execution_count": 238,
   "metadata": {},
   "outputs": [
    {
     "data": {
      "text/plain": [
       "array(['Aburria', 'Aburria', 'Accipiter', 'Accipiter', 'Accipiter',\n",
       "       'Accipiter', 'Accipiter', 'Accipiter', 'Accipiter', 'Accipiter'],\n",
       "      dtype=object)"
      ]
     },
     "execution_count": 238,
     "metadata": {},
     "output_type": "execute_result"
    }
   ],
   "source": [
    "Y = np.array(pca_data['Genus'])\n",
    "Y[:10]"
   ]
  },
  {
   "cell_type": "code",
   "execution_count": 239,
   "metadata": {},
   "outputs": [],
   "source": [
    "from sklearn.preprocessing import StandardScaler"
   ]
  },
  {
   "cell_type": "code",
   "execution_count": 240,
   "metadata": {},
   "outputs": [
    {
     "name": "stderr",
     "output_type": "stream",
     "text": [
      "C:\\Users\\lianl\\anaconda3\\envs\\tweety\\lib\\site-packages\\sklearn\\utils\\validation.py:1675: FutureWarning:\n",
      "\n",
      "Feature names only support names that are all strings. Got feature names with dtypes: ['float']. An error will be raised in 1.2.\n",
      "\n",
      "C:\\Users\\lianl\\anaconda3\\envs\\tweety\\lib\\site-packages\\sklearn\\utils\\validation.py:1675: FutureWarning:\n",
      "\n",
      "Feature names only support names that are all strings. Got feature names with dtypes: ['float']. An error will be raised in 1.2.\n",
      "\n"
     ]
    },
    {
     "data": {
      "text/html": [
       "<div>\n",
       "<style scoped>\n",
       "    .dataframe tbody tr th:only-of-type {\n",
       "        vertical-align: middle;\n",
       "    }\n",
       "\n",
       "    .dataframe tbody tr th {\n",
       "        vertical-align: top;\n",
       "    }\n",
       "\n",
       "    .dataframe thead th {\n",
       "        text-align: right;\n",
       "    }\n",
       "</style>\n",
       "<table border=\"1\" class=\"dataframe\">\n",
       "  <thead>\n",
       "    <tr style=\"text-align: right;\">\n",
       "      <th></th>\n",
       "      <th>0.25</th>\n",
       "      <th>0.5</th>\n",
       "      <th>0.75</th>\n",
       "    </tr>\n",
       "  </thead>\n",
       "  <tbody>\n",
       "    <tr>\n",
       "      <th>0</th>\n",
       "      <td>0.429792</td>\n",
       "      <td>0.350780</td>\n",
       "      <td>0.479345</td>\n",
       "    </tr>\n",
       "    <tr>\n",
       "      <th>1</th>\n",
       "      <td>1.467184</td>\n",
       "      <td>1.586176</td>\n",
       "      <td>1.995235</td>\n",
       "    </tr>\n",
       "    <tr>\n",
       "      <th>2</th>\n",
       "      <td>0.165803</td>\n",
       "      <td>0.143472</td>\n",
       "      <td>0.138778</td>\n",
       "    </tr>\n",
       "    <tr>\n",
       "      <th>3</th>\n",
       "      <td>0.608928</td>\n",
       "      <td>0.931295</td>\n",
       "      <td>1.091494</td>\n",
       "    </tr>\n",
       "    <tr>\n",
       "      <th>4</th>\n",
       "      <td>0.566610</td>\n",
       "      <td>0.419548</td>\n",
       "      <td>0.690074</td>\n",
       "    </tr>\n",
       "    <tr>\n",
       "      <th>...</th>\n",
       "      <td>...</td>\n",
       "      <td>...</td>\n",
       "      <td>...</td>\n",
       "    </tr>\n",
       "    <tr>\n",
       "      <th>2438</th>\n",
       "      <td>0.272740</td>\n",
       "      <td>0.225660</td>\n",
       "      <td>0.239741</td>\n",
       "    </tr>\n",
       "    <tr>\n",
       "      <th>2439</th>\n",
       "      <td>0.688252</td>\n",
       "      <td>0.720668</td>\n",
       "      <td>0.728563</td>\n",
       "    </tr>\n",
       "    <tr>\n",
       "      <th>2440</th>\n",
       "      <td>2.217144</td>\n",
       "      <td>2.369074</td>\n",
       "      <td>2.335374</td>\n",
       "    </tr>\n",
       "    <tr>\n",
       "      <th>2441</th>\n",
       "      <td>0.349386</td>\n",
       "      <td>0.355157</td>\n",
       "      <td>0.364861</td>\n",
       "    </tr>\n",
       "    <tr>\n",
       "      <th>2442</th>\n",
       "      <td>1.143543</td>\n",
       "      <td>1.156676</td>\n",
       "      <td>1.183006</td>\n",
       "    </tr>\n",
       "  </tbody>\n",
       "</table>\n",
       "<p>2443 rows × 3 columns</p>\n",
       "</div>"
      ],
      "text/plain": [
       "          0.25       0.5      0.75\n",
       "0     0.429792  0.350780  0.479345\n",
       "1     1.467184  1.586176  1.995235\n",
       "2     0.165803  0.143472  0.138778\n",
       "3     0.608928  0.931295  1.091494\n",
       "4     0.566610  0.419548  0.690074\n",
       "...        ...       ...       ...\n",
       "2438  0.272740  0.225660  0.239741\n",
       "2439  0.688252  0.720668  0.728563\n",
       "2440  2.217144  2.369074  2.335374\n",
       "2441  0.349386  0.355157  0.364861\n",
       "2442  1.143543  1.156676  1.183006\n",
       "\n",
       "[2443 rows x 3 columns]"
      ]
     },
     "execution_count": 240,
     "metadata": {},
     "output_type": "execute_result"
    }
   ],
   "source": [
    "scaler = StandardScaler(with_mean = False)\n",
    "scaler.fit(X)\n",
    "X_standardized = scaler.transform(X)\n",
    "X_standard = pd.DataFrame(X_standardized, columns = X.columns)\n",
    "X_standard"
   ]
  },
  {
   "cell_type": "code",
   "execution_count": 241,
   "metadata": {},
   "outputs": [],
   "source": [
    "from sklearn.decomposition import PCA"
   ]
  },
  {
   "cell_type": "code",
   "execution_count": 242,
   "metadata": {},
   "outputs": [],
   "source": [
    "pca = PCA(n_components = 3, random_state = 0)\n",
    "pca.fit(X_standardized)\n",
    "X_dim_reducted = pca.transform(X_standardized)\n",
    "X_dim_reducted\n",
    "result = pd.DataFrame(X_dim_reducted, columns = ['PCA1','PCA2','PCA3']) #"
   ]
  },
  {
   "cell_type": "code",
   "execution_count": 243,
   "metadata": {},
   "outputs": [],
   "source": [
    "%matplotlib inline\n",
    "import matplotlib.pyplot as plt\n",
    "import seaborn as sns"
   ]
  },
  {
   "cell_type": "code",
   "execution_count": 244,
   "metadata": {},
   "outputs": [],
   "source": [
    "import plotly.express as px"
   ]
  },
  {
   "cell_type": "code",
   "execution_count": 245,
   "metadata": {},
   "outputs": [
    {
     "data": {
      "application/vnd.plotly.v1+json": {
       "config": {
        "plotlyServerURL": "https://plot.ly"
       },
       "data": [
        {
         "hovertemplate": "color=Aburria<br>PCA1=%{x}<br>PCA2=%{y}<extra></extra>",
         "legendgroup": "Aburria",
         "marker": {
          "color": "#636efa",
          "symbol": "circle"
         },
         "mode": "markers",
         "name": "Aburria",
         "showlegend": true,
         "type": "scattergl",
         "x": [
          -0.8181175198988626,
          1.3703273563715885
         ],
         "xaxis": "x",
         "y": [
          0.021873086475787548,
          -0.28698641260999586
         ],
         "yaxis": "y"
        },
        {
         "hovertemplate": "color=Accipiter<br>PCA1=%{x}<br>PCA2=%{y}<extra></extra>",
         "legendgroup": "Accipiter",
         "marker": {
          "color": "#EF553B",
          "symbol": "circle"
         },
         "mode": "markers",
         "name": "Accipiter",
         "showlegend": true,
         "type": "scattergl",
         "x": [
          -1.2864226503544614,
          -0.023628989386319563,
          -0.5782483269170586,
          4.575390513964653,
          0.46596482671739764,
          -1.1381858357580519,
          -1.4036560181266426,
          0.5280444800202513,
          0.5227723076567578
         ],
         "xaxis": "x",
         "y": [
          0.05419883157088802,
          -0.30590537843047577,
          -0.008108512571435,
          0.8001705321397059,
          0.7991410024726323,
          0.1635365445038202,
          0.06625250812933263,
          -0.2617894153820135,
          -0.26955014859371845
         ],
         "yaxis": "y"
        },
        {
         "hovertemplate": "color=Actitis<br>PCA1=%{x}<br>PCA2=%{y}<extra></extra>",
         "legendgroup": "Actitis",
         "marker": {
          "color": "#00cc96",
          "symbol": "circle"
         },
         "mode": "markers",
         "name": "Actitis",
         "showlegend": true,
         "type": "scattergl",
         "x": [
          -0.7294730890659014,
          -0.590320988269218,
          -0.997180255335694,
          -1.3939840033484476
         ],
         "xaxis": "x",
         "y": [
          0.07026133088915214,
          0.09504141904292784,
          0.017730077897910167,
          0.04591705786546912
         ],
         "yaxis": "y"
        },
        {
         "hovertemplate": "color=Adelomyia<br>PCA1=%{x}<br>PCA2=%{y}<extra></extra>",
         "legendgroup": "Adelomyia",
         "marker": {
          "color": "#ab63fa",
          "symbol": "circle"
         },
         "mode": "markers",
         "name": "Adelomyia",
         "showlegend": true,
         "type": "scattergl",
         "x": [
          -0.25938648844713497,
          -0.614132317188236,
          -0.503274023176682
         ],
         "xaxis": "x",
         "y": [
          0.2872684864432618,
          0.06507855926639214,
          0.04045841205426908
         ],
         "yaxis": "y"
        },
        {
         "hovertemplate": "color=Aeronautes<br>PCA1=%{x}<br>PCA2=%{y}<extra></extra>",
         "legendgroup": "Aeronautes",
         "marker": {
          "color": "#FFA15A",
          "symbol": "circle"
         },
         "mode": "markers",
         "name": "Aeronautes",
         "showlegend": true,
         "type": "scattergl",
         "x": [
          -0.17068180793681745,
          -0.3133425947898951,
          0.06789736469390577,
          -1.0886194669492535,
          -0.7683927109944861,
          0.3365509358560825
         ],
         "xaxis": "x",
         "y": [
          0.23650915785635915,
          -0.03013616302409022,
          0.2537402769780805,
          0.009600077972125193,
          0.08068384521069814,
          -0.0761953867749875
         ],
         "yaxis": "y"
        },
        {
         "hovertemplate": "color=Agamia<br>PCA1=%{x}<br>PCA2=%{y}<extra></extra>",
         "legendgroup": "Agamia",
         "marker": {
          "color": "#19d3f3",
          "symbol": "circle"
         },
         "mode": "markers",
         "name": "Agamia",
         "showlegend": true,
         "type": "scattergl",
         "x": [
          -0.9691026355987526,
          -0.9420004836266946,
          -1.1052402228951699
         ],
         "xaxis": "x",
         "y": [
          0.04072904587715553,
          0.17798695435137057,
          0.09597462036440693
         ],
         "yaxis": "y"
        },
        {
         "hovertemplate": "color=Agelasticus<br>PCA1=%{x}<br>PCA2=%{y}<extra></extra>",
         "legendgroup": "Agelasticus",
         "marker": {
          "color": "#FF6692",
          "symbol": "circle"
         },
         "mode": "markers",
         "name": "Agelasticus",
         "showlegend": true,
         "type": "scattergl",
         "x": [
          -1.4354278942979826,
          -1.0816150651290266,
          -1.233266023158677
         ],
         "xaxis": "x",
         "y": [
          0.03946073744752808,
          0.16365075906279222,
          0.13009648235150098
         ],
         "yaxis": "y"
        },
        {
         "hovertemplate": "color=Aglaeactis<br>PCA1=%{x}<br>PCA2=%{y}<extra></extra>",
         "legendgroup": "Aglaeactis",
         "marker": {
          "color": "#B6E880",
          "symbol": "circle"
         },
         "mode": "markers",
         "name": "Aglaeactis",
         "showlegend": true,
         "type": "scattergl",
         "x": [
          -0.7996291592809285
         ],
         "xaxis": "x",
         "y": [
          0.18588876791336606
         ],
         "yaxis": "y"
        },
        {
         "hovertemplate": "color=Aglaiocercus<br>PCA1=%{x}<br>PCA2=%{y}<extra></extra>",
         "legendgroup": "Aglaiocercus",
         "marker": {
          "color": "#FF97FF",
          "symbol": "circle"
         },
         "mode": "markers",
         "name": "Aglaiocercus",
         "showlegend": true,
         "type": "scattergl",
         "x": [
          -0.643219743547625,
          -1.1303444864201826,
          -1.3920477086286087
         ],
         "xaxis": "x",
         "y": [
          0.018685474132181135,
          0.044068014835507055,
          0.09437959139571732
         ],
         "yaxis": "y"
        },
        {
         "hovertemplate": "color=Akletos<br>PCA1=%{x}<br>PCA2=%{y}<extra></extra>",
         "legendgroup": "Akletos",
         "marker": {
          "color": "#FECB52",
          "symbol": "circle"
         },
         "mode": "markers",
         "name": "Akletos",
         "showlegend": true,
         "type": "scattergl",
         "x": [
          0.37947698234902627,
          0.8352668625465128,
          -1.2134723649887578,
          14.096624601704486,
          2.5430056358482624
         ],
         "xaxis": "x",
         "y": [
          -0.03467329281144146,
          0.2840363923619406,
          0.04219042936115323,
          1.3842465729777755,
          -0.1703995387455308
         ],
         "yaxis": "y"
        },
        {
         "hovertemplate": "color=Alopochelidon<br>PCA1=%{x}<br>PCA2=%{y}<extra></extra>",
         "legendgroup": "Alopochelidon",
         "marker": {
          "color": "#636efa",
          "symbol": "circle"
         },
         "mode": "markers",
         "name": "Alopochelidon",
         "showlegend": true,
         "type": "scattergl",
         "x": [
          -0.8627552186535518
         ],
         "xaxis": "x",
         "y": [
          -0.09623122768468345
         ],
         "yaxis": "y"
        },
        {
         "hovertemplate": "color=Amaurolimnas<br>PCA1=%{x}<br>PCA2=%{y}<extra></extra>",
         "legendgroup": "Amaurolimnas",
         "marker": {
          "color": "#EF553B",
          "symbol": "circle"
         },
         "mode": "markers",
         "name": "Amaurolimnas",
         "showlegend": true,
         "type": "scattergl",
         "x": [
          -0.13530246666711723,
          -0.5542702470427842,
          -0.9472163698814641
         ],
         "xaxis": "x",
         "y": [
          0.14361540796835423,
          -0.11012420850213189,
          -0.04893709158661812
         ],
         "yaxis": "y"
        },
        {
         "hovertemplate": "color=Amazilia<br>PCA1=%{x}<br>PCA2=%{y}<extra></extra>",
         "legendgroup": "Amazilia",
         "marker": {
          "color": "#00cc96",
          "symbol": "circle"
         },
         "mode": "markers",
         "name": "Amazilia",
         "showlegend": true,
         "type": "scattergl",
         "x": [
          -1.3529818911938942,
          0.44609820816099754,
          -0.027669815567950243
         ],
         "xaxis": "x",
         "y": [
          0.088529501510347,
          -0.19946765487741483,
          -0.07776189787792508
         ],
         "yaxis": "y"
        },
        {
         "hovertemplate": "color=Amazona<br>PCA1=%{x}<br>PCA2=%{y}<extra></extra>",
         "legendgroup": "Amazona",
         "marker": {
          "color": "#ab63fa",
          "symbol": "circle"
         },
         "mode": "markers",
         "name": "Amazona",
         "showlegend": true,
         "type": "scattergl",
         "x": [
          -0.6377154281440329,
          -0.7502488340681444,
          -0.9526555485658731,
          -0.09814184137941959,
          -0.9176216637941856,
          -1.302297950228167,
          -0.2052005958462963,
          -1.1364896949923318,
          -0.021357593451753705,
          0.08361948691397962,
          -0.6684285728880264,
          -1.0420465722655046,
          -0.9401203622899454,
          -0.6641822522547172
         ],
         "xaxis": "x",
         "y": [
          0.15268030101932833,
          -0.04865714839588716,
          0.024640965688018806,
          0.11222364807936194,
          0.05808480012200446,
          0.10698919287658798,
          0.13003366615782058,
          0.04860963236518595,
          -0.1317977524479248,
          0.042671565921515206,
          0.01160303485266087,
          0.007331843393862674,
          -0.03517725517192373,
          -0.10550817162060283
         ],
         "yaxis": "y"
        },
        {
         "hovertemplate": "color=Amazonetta<br>PCA1=%{x}<br>PCA2=%{y}<extra></extra>",
         "legendgroup": "Amazonetta",
         "marker": {
          "color": "#FFA15A",
          "symbol": "circle"
         },
         "mode": "markers",
         "name": "Amazonetta",
         "showlegend": true,
         "type": "scattergl",
         "x": [
          -1.2271673675369728,
          -1.0729771242389556,
          -1.2841571717117515
         ],
         "xaxis": "x",
         "y": [
          0.08655273730609793,
          0.13960594367602405,
          -0.031061109922485276
         ],
         "yaxis": "y"
        },
        {
         "hovertemplate": "color=Amblycercus<br>PCA1=%{x}<br>PCA2=%{y}<extra></extra>",
         "legendgroup": "Amblycercus",
         "marker": {
          "color": "#19d3f3",
          "symbol": "circle"
         },
         "mode": "markers",
         "name": "Amblycercus",
         "showlegend": true,
         "type": "scattergl",
         "x": [
          2.8703489945906986,
          -1.0440317073048575,
          -0.8741984926386193
         ],
         "xaxis": "x",
         "y": [
          -0.27127122852358815,
          0.08577743941051151,
          0.09096069403129686
         ],
         "yaxis": "y"
        },
        {
         "hovertemplate": "color=Ammodramus<br>PCA1=%{x}<br>PCA2=%{y}<extra></extra>",
         "legendgroup": "Ammodramus",
         "marker": {
          "color": "#FF6692",
          "symbol": "circle"
         },
         "mode": "markers",
         "name": "Ammodramus",
         "showlegend": true,
         "type": "scattergl",
         "x": [
          -0.3071470800071581,
          -0.08829039573498355,
          -1.3708103098805988,
          0.5689803880181037,
          -0.8727946297846789
         ],
         "xaxis": "x",
         "y": [
          -0.07783960724036779,
          -0.33668276330734853,
          0.08505371037597671,
          0.23757166943222688,
          -0.2360754017465276
         ],
         "yaxis": "y"
        },
        {
         "hovertemplate": "color=Ampelioides<br>PCA1=%{x}<br>PCA2=%{y}<extra></extra>",
         "legendgroup": "Ampelioides",
         "marker": {
          "color": "#B6E880",
          "symbol": "circle"
         },
         "mode": "markers",
         "name": "Ampelioides",
         "showlegend": true,
         "type": "scattergl",
         "x": [
          -0.5017387950590849,
          0.7698678675699894
         ],
         "xaxis": "x",
         "y": [
          -0.008690389238533514,
          -0.18899788412469726
         ],
         "yaxis": "y"
        },
        {
         "hovertemplate": "color=Ampelion<br>PCA1=%{x}<br>PCA2=%{y}<extra></extra>",
         "legendgroup": "Ampelion",
         "marker": {
          "color": "#FF97FF",
          "symbol": "circle"
         },
         "mode": "markers",
         "name": "Ampelion",
         "showlegend": true,
         "type": "scattergl",
         "x": [
          -1.3772676917112208,
          -1.1176566164982817
         ],
         "xaxis": "x",
         "y": [
          0.08877197203431905,
          0.10819663885779023
         ],
         "yaxis": "y"
        },
        {
         "hovertemplate": "color=Anabacerthia<br>PCA1=%{x}<br>PCA2=%{y}<extra></extra>",
         "legendgroup": "Anabacerthia",
         "marker": {
          "color": "#FECB52",
          "symbol": "circle"
         },
         "mode": "markers",
         "name": "Anabacerthia",
         "showlegend": true,
         "type": "scattergl",
         "x": [
          -1.2884134741260573,
          -0.9475813146073293,
          -1.0630829491093656,
          -0.9309722369807525,
          -1.11989926037526,
          -0.7186736891774322,
          -0.9837707896873039,
          0.5197980168907266,
          -1.1635329196591593,
          -0.6229100116804857
         ],
         "xaxis": "x",
         "y": [
          0.08521910464592052,
          0.15981539267485406,
          0.05168251654881691,
          0.0613282831647627,
          0.14167379824266546,
          -0.016580126384869092,
          0.027965845061909307,
          -0.08656281160441713,
          0.059801280743365826,
          0.08515764821537604
         ],
         "yaxis": "y"
        },
        {
         "hovertemplate": "color=Anairetes<br>PCA1=%{x}<br>PCA2=%{y}<extra></extra>",
         "legendgroup": "Anairetes",
         "marker": {
          "color": "#636efa",
          "symbol": "circle"
         },
         "mode": "markers",
         "name": "Anairetes",
         "showlegend": true,
         "type": "scattergl",
         "x": [
          -1.4368378931764796,
          0.3012699598047625,
          -1.3372817392111276,
          -1.132797768886325
         ],
         "xaxis": "x",
         "y": [
          0.058478904049304226,
          0.2122451269650987,
          0.023665953476534815,
          0.022672863651910267
         ],
         "yaxis": "y"
        },
        {
         "hovertemplate": "color=Anas<br>PCA1=%{x}<br>PCA2=%{y}<extra></extra>",
         "legendgroup": "Anas",
         "marker": {
          "color": "#EF553B",
          "symbol": "circle"
         },
         "mode": "markers",
         "name": "Anas",
         "showlegend": true,
         "type": "scattergl",
         "x": [
          0.055601372120687484,
          -1.402699633833066
         ],
         "xaxis": "x",
         "y": [
          0.11017949084456398,
          0.03579952560719646
         ],
         "yaxis": "y"
        },
        {
         "hovertemplate": "color=Andigena<br>PCA1=%{x}<br>PCA2=%{y}<extra></extra>",
         "legendgroup": "Andigena",
         "marker": {
          "color": "#00cc96",
          "symbol": "circle"
         },
         "mode": "markers",
         "name": "Andigena",
         "showlegend": true,
         "type": "scattergl",
         "x": [
          -0.06004416546653182,
          -1.3498240672336594,
          -0.3369047654084581
         ],
         "xaxis": "x",
         "y": [
          -0.26244633486658775,
          0.04380905519316464,
          -0.1443014204791016
         ],
         "yaxis": "y"
        },
        {
         "hovertemplate": "color=Anhima<br>PCA1=%{x}<br>PCA2=%{y}<extra></extra>",
         "legendgroup": "Anhima",
         "marker": {
          "color": "#ab63fa",
          "symbol": "circle"
         },
         "mode": "markers",
         "name": "Anhima",
         "showlegend": true,
         "type": "scattergl",
         "x": [
          0.32397200364335516,
          -0.32972516375786637,
          -1.0063427677666743
         ],
         "xaxis": "x",
         "y": [
          -0.6122898533223303,
          -0.1718508241867601,
          -0.08244195451348482
         ],
         "yaxis": "y"
        },
        {
         "hovertemplate": "color=Anhinga<br>PCA1=%{x}<br>PCA2=%{y}<extra></extra>",
         "legendgroup": "Anhinga",
         "marker": {
          "color": "#FFA15A",
          "symbol": "circle"
         },
         "mode": "markers",
         "name": "Anhinga",
         "showlegend": true,
         "type": "scattergl",
         "x": [
          -1.3457728331627288,
          -0.47250774308300425,
          -1.0737099365228993,
          -0.7948159883803461,
          -0.7397906320830686
         ],
         "xaxis": "x",
         "y": [
          0.06132751838395608,
          -0.4927271727438025,
          0.10754315321155425,
          0.2160186440067668,
          0.007908310409713567
         ],
         "yaxis": "y"
        },
        {
         "hovertemplate": "color=Anthracothorax<br>PCA1=%{x}<br>PCA2=%{y}<extra></extra>",
         "legendgroup": "Anthracothorax",
         "marker": {
          "color": "#19d3f3",
          "symbol": "circle"
         },
         "mode": "markers",
         "name": "Anthracothorax",
         "showlegend": true,
         "type": "scattergl",
         "x": [
          -0.7567304955606758,
          -1.2043111786764222
         ],
         "xaxis": "x",
         "y": [
          -0.08772007126327845,
          0.02137154785892313
         ],
         "yaxis": "y"
        },
        {
         "hovertemplate": "color=Anthus<br>PCA1=%{x}<br>PCA2=%{y}<extra></extra>",
         "legendgroup": "Anthus",
         "marker": {
          "color": "#FF6692",
          "symbol": "circle"
         },
         "mode": "markers",
         "name": "Anthus",
         "showlegend": true,
         "type": "scattergl",
         "x": [
          -0.6611342195257435,
          -0.06406542875719803
         ],
         "xaxis": "x",
         "y": [
          0.03677603669044877,
          -0.19265621771182512
         ],
         "yaxis": "y"
        },
        {
         "hovertemplate": "color=Antrostomus<br>PCA1=%{x}<br>PCA2=%{y}<extra></extra>",
         "legendgroup": "Antrostomus",
         "marker": {
          "color": "#B6E880",
          "symbol": "circle"
         },
         "mode": "markers",
         "name": "Antrostomus",
         "showlegend": true,
         "type": "scattergl",
         "x": [
          0.9805295246791111,
          0.22203203186187595
         ],
         "xaxis": "x",
         "y": [
          -0.22253980426113862,
          -0.09793929955143077
         ],
         "yaxis": "y"
        },
        {
         "hovertemplate": "color=Ara<br>PCA1=%{x}<br>PCA2=%{y}<extra></extra>",
         "legendgroup": "Ara",
         "marker": {
          "color": "#FF97FF",
          "symbol": "circle"
         },
         "mode": "markers",
         "name": "Ara",
         "showlegend": true,
         "type": "scattergl",
         "x": [
          -0.931210263434776,
          -0.7625202540721294,
          -0.28079637916731953,
          2.8166166585229817,
          -1.092052754812503,
          1.1449808314240097,
          1.272628137389651,
          0.6002854625049657,
          -0.34669667902672247,
          -0.5381945753573032,
          -0.6593536560225625,
          -0.9394556013446692,
          1.0896047594417138,
          1.1720490502548053,
          0.5174948118687398
         ],
         "xaxis": "x",
         "y": [
          -0.0013029205785941183,
          0.030034942517344437,
          -0.1493300544003442,
          -0.8616250590966819,
          0.021292053952935597,
          -0.5407149899489512,
          -0.28274689009699444,
          -0.018722611835019342,
          0.0026334506936934623,
          -0.08816237476816914,
          -0.17494560303612086,
          -0.23278046587552498,
          -0.04791252234902548,
          0.33356632712578826,
          0.16916798613518125
         ],
         "yaxis": "y"
        },
        {
         "hovertemplate": "color=Aramides<br>PCA1=%{x}<br>PCA2=%{y}<extra></extra>",
         "legendgroup": "Aramides",
         "marker": {
          "color": "#FECB52",
          "symbol": "circle"
         },
         "mode": "markers",
         "name": "Aramides",
         "showlegend": true,
         "type": "scattergl",
         "x": [
          0.2465783748103952,
          0.0977408001025923,
          -0.7818170821036604
         ],
         "xaxis": "x",
         "y": [
          -0.1744239720500941,
          0.698059871934112,
          0.0017099511476086106
         ],
         "yaxis": "y"
        },
        {
         "hovertemplate": "color=Aramus<br>PCA1=%{x}<br>PCA2=%{y}<extra></extra>",
         "legendgroup": "Aramus",
         "marker": {
          "color": "#636efa",
          "symbol": "circle"
         },
         "mode": "markers",
         "name": "Aramus",
         "showlegend": true,
         "type": "scattergl",
         "x": [
          2.331206482649979
         ],
         "xaxis": "x",
         "y": [
          0.05498348892589352
         ],
         "yaxis": "y"
        },
        {
         "hovertemplate": "color=Aratinga<br>PCA1=%{x}<br>PCA2=%{y}<extra></extra>",
         "legendgroup": "Aratinga",
         "marker": {
          "color": "#EF553B",
          "symbol": "circle"
         },
         "mode": "markers",
         "name": "Aratinga",
         "showlegend": true,
         "type": "scattergl",
         "x": [
          0.10897052619442707
         ],
         "xaxis": "x",
         "y": [
          -0.21050276178059651
         ],
         "yaxis": "y"
        },
        {
         "hovertemplate": "color=Ardea<br>PCA1=%{x}<br>PCA2=%{y}<extra></extra>",
         "legendgroup": "Ardea",
         "marker": {
          "color": "#00cc96",
          "symbol": "circle"
         },
         "mode": "markers",
         "name": "Ardea",
         "showlegend": true,
         "type": "scattergl",
         "x": [
          -1.236484833389936,
          -0.7047197070739667,
          -1.1324689485443715,
          -1.287005954036126,
          -1.5100114082883282,
          -1.1914012508525083
         ],
         "xaxis": "x",
         "y": [
          0.04777853989294434,
          0.05251011684720067,
          0.007720353955907538,
          0.09331368386361807,
          0.04657927686343823,
          0.0558376037239028
         ],
         "yaxis": "y"
        },
        {
         "hovertemplate": "color=Arenaria<br>PCA1=%{x}<br>PCA2=%{y}<extra></extra>",
         "legendgroup": "Arenaria",
         "marker": {
          "color": "#ab63fa",
          "symbol": "circle"
         },
         "mode": "markers",
         "name": "Arenaria",
         "showlegend": true,
         "type": "scattergl",
         "x": [
          -1.1434106916551645,
          -0.4710787534269259
         ],
         "xaxis": "x",
         "y": [
          0.1157359258459401,
          0.12767551380143524
         ],
         "yaxis": "y"
        },
        {
         "hovertemplate": "color=Arremon<br>PCA1=%{x}<br>PCA2=%{y}<extra></extra>",
         "legendgroup": "Arremon",
         "marker": {
          "color": "#FFA15A",
          "symbol": "circle"
         },
         "mode": "markers",
         "name": "Arremon",
         "showlegend": true,
         "type": "scattergl",
         "x": [
          1.3590590437274521,
          -1.1150270498789616,
          -0.815846265639355,
          -0.4785494044872947,
          -0.3372050318341188,
          0.6122617141158122,
          -0.9691280597118094,
          -0.5089408881467022,
          -0.1914475374450491
         ],
         "xaxis": "x",
         "y": [
          -0.086890269084461,
          0.10510539692838358,
          0.02696063091848963,
          0.068127220700709,
          -0.9033794994843752,
          0.018444987953878667,
          -0.01853883887444979,
          -0.05446122406636113,
          0.11405459481428203
         ],
         "yaxis": "y"
        },
        {
         "hovertemplate": "color=Arundinicola<br>PCA1=%{x}<br>PCA2=%{y}<extra></extra>",
         "legendgroup": "Arundinicola",
         "marker": {
          "color": "#19d3f3",
          "symbol": "circle"
         },
         "mode": "markers",
         "name": "Arundinicola",
         "showlegend": true,
         "type": "scattergl",
         "x": [
          0.1411734014645709,
          3.5304446012616117,
          -1.0724605434355132
         ],
         "xaxis": "x",
         "y": [
          -0.7307914344989556,
          -0.3264824269200774,
          0.06777739177777373
         ],
         "yaxis": "y"
        },
        {
         "hovertemplate": "color=Asthenes<br>PCA1=%{x}<br>PCA2=%{y}<extra></extra>",
         "legendgroup": "Asthenes",
         "marker": {
          "color": "#FF6692",
          "symbol": "circle"
         },
         "mode": "markers",
         "name": "Asthenes",
         "showlegend": true,
         "type": "scattergl",
         "x": [
          -1.099838456754514,
          2.3083246840804836,
          -0.44504676567573737,
          0.5131532040745013,
          -0.31321800151878365
         ],
         "xaxis": "x",
         "y": [
          0.15412042846954438,
          -0.31120526151041583,
          0.06534816073553218,
          0.07298865323337188,
          -0.05055086190736195
         ],
         "yaxis": "y"
        },
        {
         "hovertemplate": "color=Athene<br>PCA1=%{x}<br>PCA2=%{y}<extra></extra>",
         "legendgroup": "Athene",
         "marker": {
          "color": "#B6E880",
          "symbol": "circle"
         },
         "mode": "markers",
         "name": "Athene",
         "showlegend": true,
         "type": "scattergl",
         "x": [
          -1.4181520261961094,
          -1.2644168834191571,
          -0.03193871178037578,
          -1.0080541691023284
         ],
         "xaxis": "x",
         "y": [
          0.060268096040872195,
          0.04946521127732636,
          -0.5916166161530102,
          -0.12882644594282872
         ],
         "yaxis": "y"
        },
        {
         "hovertemplate": "color=Atlapetes<br>PCA1=%{x}<br>PCA2=%{y}<extra></extra>",
         "legendgroup": "Atlapetes",
         "marker": {
          "color": "#FF97FF",
          "symbol": "circle"
         },
         "mode": "markers",
         "name": "Atlapetes",
         "showlegend": true,
         "type": "scattergl",
         "x": [
          1.685841826696273,
          -0.7911961028164125,
          -0.11234175382842454,
          0.6235182573008653
         ],
         "xaxis": "x",
         "y": [
          -0.14153959981954906,
          -0.016907808837562554,
          0.028721524331122,
          0.0012688066976454285
         ],
         "yaxis": "y"
        },
        {
         "hovertemplate": "color=Atticora<br>PCA1=%{x}<br>PCA2=%{y}<extra></extra>",
         "legendgroup": "Atticora",
         "marker": {
          "color": "#FECB52",
          "symbol": "circle"
         },
         "mode": "markers",
         "name": "Atticora",
         "showlegend": true,
         "type": "scattergl",
         "x": [
          0.7963256883142429,
          0.26533593976104436,
          -0.6719664605828797
         ],
         "xaxis": "x",
         "y": [
          -0.2089481586781747,
          0.1992310281721352,
          -0.0885375258227534
         ],
         "yaxis": "y"
        },
        {
         "hovertemplate": "color=Attila<br>PCA1=%{x}<br>PCA2=%{y}<extra></extra>",
         "legendgroup": "Attila",
         "marker": {
          "color": "#636efa",
          "symbol": "circle"
         },
         "mode": "markers",
         "name": "Attila",
         "showlegend": true,
         "type": "scattergl",
         "x": [
          -1.1021583831511383,
          3.869280235486728,
          -0.9419533664093874,
          0.904138336731905,
          0.5783315143620615,
          3.7034579767498843,
          -1.0517557913013262,
          3.3649506541149647,
          -1.115309233939529
         ],
         "xaxis": "x",
         "y": [
          0.10223493910171219,
          -0.17119588188781448,
          0.03648081361054315,
          0.22671814621097575,
          -0.02075773190816319,
          0.22541514314363972,
          0.0032801588563151156,
          -0.0705734567494115,
          -0.012577735075834807
         ],
         "yaxis": "y"
        },
        {
         "hovertemplate": "color=Aulacorhynchus<br>PCA1=%{x}<br>PCA2=%{y}<extra></extra>",
         "legendgroup": "Aulacorhynchus",
         "marker": {
          "color": "#EF553B",
          "symbol": "circle"
         },
         "mode": "markers",
         "name": "Aulacorhynchus",
         "showlegend": true,
         "type": "scattergl",
         "x": [
          -0.6421365235321408,
          0.2716032604775239,
          0.6433434370457652
         ],
         "xaxis": "x",
         "y": [
          0.1213472026146519,
          -0.07112961547197798,
          -0.06567186525955121
         ],
         "yaxis": "y"
        },
        {
         "hovertemplate": "color=Automolus<br>PCA1=%{x}<br>PCA2=%{y}<extra></extra>",
         "legendgroup": "Automolus",
         "marker": {
          "color": "#00cc96",
          "symbol": "circle"
         },
         "mode": "markers",
         "name": "Automolus",
         "showlegend": true,
         "type": "scattergl",
         "x": [
          0.29765369212201787,
          1.1325621811557156,
          0.9111733858574643,
          -0.7528393719099881,
          -0.8491543176049786,
          -1.1286098715561343,
          0.5043527414181418,
          1.6273787970597418,
          -0.9085974408231846,
          -0.11157090985303714
         ],
         "xaxis": "x",
         "y": [
          0.1603126342851864,
          -0.22069283892453773,
          -0.18966325838920914,
          0.015493460908674093,
          0.02842753188598244,
          -0.06918404630370806,
          -0.02786113794464431,
          0.34490416576062266,
          0.09283322625170094,
          0.15137209297335025
         ],
         "yaxis": "y"
        },
        {
         "hovertemplate": "color=Bartramia<br>PCA1=%{x}<br>PCA2=%{y}<extra></extra>",
         "legendgroup": "Bartramia",
         "marker": {
          "color": "#ab63fa",
          "symbol": "circle"
         },
         "mode": "markers",
         "name": "Bartramia",
         "showlegend": true,
         "type": "scattergl",
         "x": [
          -0.6572591087352845,
          -1.021280719138915,
          -1.4427900292392477
         ],
         "xaxis": "x",
         "y": [
          0.025047455654893677,
          0.07692374489103712,
          0.06362912610557628
         ],
         "yaxis": "y"
        },
        {
         "hovertemplate": "color=Baryphthengus<br>PCA1=%{x}<br>PCA2=%{y}<extra></extra>",
         "legendgroup": "Baryphthengus",
         "marker": {
          "color": "#FFA15A",
          "symbol": "circle"
         },
         "mode": "markers",
         "name": "Baryphthengus",
         "showlegend": true,
         "type": "scattergl",
         "x": [
          3.886908900127378,
          -0.12864302973690958,
          -0.44759969306653696
         ],
         "xaxis": "x",
         "y": [
          -0.49336737590961016,
          0.28711249212865214,
          0.007096369788093574
         ],
         "yaxis": "y"
        },
        {
         "hovertemplate": "color=Basileuterus<br>PCA1=%{x}<br>PCA2=%{y}<extra></extra>",
         "legendgroup": "Basileuterus",
         "marker": {
          "color": "#19d3f3",
          "symbol": "circle"
         },
         "mode": "markers",
         "name": "Basileuterus",
         "showlegend": true,
         "type": "scattergl",
         "x": [
          -0.4958849379208669,
          -0.3507809289170588
         ],
         "xaxis": "x",
         "y": [
          -0.19567271431378208,
          -0.06563083738233864
         ],
         "yaxis": "y"
        },
        {
         "hovertemplate": "color=Berlepschia<br>PCA1=%{x}<br>PCA2=%{y}<extra></extra>",
         "legendgroup": "Berlepschia",
         "marker": {
          "color": "#FF6692",
          "symbol": "circle"
         },
         "mode": "markers",
         "name": "Berlepschia",
         "showlegend": true,
         "type": "scattergl",
         "x": [
          2.5519064927413053,
          -1.3856509060901772
         ],
         "xaxis": "x",
         "y": [
          -0.20511625688314497,
          0.06846044052084876
         ],
         "yaxis": "y"
        },
        {
         "hovertemplate": "color=Bolborhynchus<br>PCA1=%{x}<br>PCA2=%{y}<extra></extra>",
         "legendgroup": "Bolborhynchus",
         "marker": {
          "color": "#B6E880",
          "symbol": "circle"
         },
         "mode": "markers",
         "name": "Bolborhynchus",
         "showlegend": true,
         "type": "scattergl",
         "x": [
          -0.8869283216200385,
          -1.136906053363557,
          -0.12331073205795128,
          1.3784730744079514,
          -1.060907299956809
         ],
         "xaxis": "x",
         "y": [
          0.0006257171985984888,
          0.04937766662595104,
          0.06396091644066071,
          0.08312256454480114,
          0.007687882563402676
         ],
         "yaxis": "y"
        },
        {
         "hovertemplate": "color=Brachygalba<br>PCA1=%{x}<br>PCA2=%{y}<extra></extra>",
         "legendgroup": "Brachygalba",
         "marker": {
          "color": "#FF97FF",
          "symbol": "circle"
         },
         "mode": "markers",
         "name": "Brachygalba",
         "showlegend": true,
         "type": "scattergl",
         "x": [
          -0.25005258653687473,
          -0.46538474099947336
         ],
         "xaxis": "x",
         "y": [
          -0.24046342506107735,
          -0.4002735843165478
         ],
         "yaxis": "y"
        },
        {
         "hovertemplate": "color=Brotogeris<br>PCA1=%{x}<br>PCA2=%{y}<extra></extra>",
         "legendgroup": "Brotogeris",
         "marker": {
          "color": "#FECB52",
          "symbol": "circle"
         },
         "mode": "markers",
         "name": "Brotogeris",
         "showlegend": true,
         "type": "scattergl",
         "x": [
          -0.9909375790808269,
          -0.7479706615381378,
          -0.5323060484624689,
          -1.2407979908060718,
          -0.5917139262731267,
          -0.47644192624893794
         ],
         "xaxis": "x",
         "y": [
          0.1136999446688431,
          0.21478942774268353,
          0.1506057069119726,
          -0.01674707451847319,
          -0.19018839397877413,
          -0.07381189907986356
         ],
         "yaxis": "y"
        },
        {
         "hovertemplate": "color=Bubo<br>PCA1=%{x}<br>PCA2=%{y}<extra></extra>",
         "legendgroup": "Bubo",
         "marker": {
          "color": "#636efa",
          "symbol": "circle"
         },
         "mode": "markers",
         "name": "Bubo",
         "showlegend": true,
         "type": "scattergl",
         "x": [
          -1.5271351711421586
         ],
         "xaxis": "x",
         "y": [
          0.03964052152810736
         ],
         "yaxis": "y"
        },
        {
         "hovertemplate": "color=Bubulcus<br>PCA1=%{x}<br>PCA2=%{y}<extra></extra>",
         "legendgroup": "Bubulcus",
         "marker": {
          "color": "#EF553B",
          "symbol": "circle"
         },
         "mode": "markers",
         "name": "Bubulcus",
         "showlegend": true,
         "type": "scattergl",
         "x": [
          -1.0756287712770314,
          -0.45246555210790756
         ],
         "xaxis": "x",
         "y": [
          0.1276906005245583,
          0.04595920149896967
         ],
         "yaxis": "y"
        },
        {
         "hovertemplate": "color=Bucco<br>PCA1=%{x}<br>PCA2=%{y}<extra></extra>",
         "legendgroup": "Bucco",
         "marker": {
          "color": "#00cc96",
          "symbol": "circle"
         },
         "mode": "markers",
         "name": "Bucco",
         "showlegend": true,
         "type": "scattergl",
         "x": [
          -0.6049221294205761,
          -0.4379267425268509,
          -0.3334798739436439,
          0.4027164836994443,
          0.3751442569552196,
          -0.2623340910412822,
          -0.8822184146937875,
          -0.1431829434957106
         ],
         "xaxis": "x",
         "y": [
          0.23751837508875945,
          0.12611638290943378,
          0.023142272537676065,
          -0.043545902345580874,
          0.07305793495308506,
          0.1382215314043195,
          0.16606486175741225,
          0.27334294943056203
         ],
         "yaxis": "y"
        },
        {
         "hovertemplate": "color=Busarellus<br>PCA1=%{x}<br>PCA2=%{y}<extra></extra>",
         "legendgroup": "Busarellus",
         "marker": {
          "color": "#ab63fa",
          "symbol": "circle"
         },
         "mode": "markers",
         "name": "Busarellus",
         "showlegend": true,
         "type": "scattergl",
         "x": [
          -0.8453447603522516,
          -0.291625703355273,
          0.12708348275180603,
          -1.1958109161678525,
          -0.7114250102387701
         ],
         "xaxis": "x",
         "y": [
          0.15629872945909234,
          0.06518467885622739,
          -0.05883605127422735,
          0.0427248028901318,
          -0.09994854124770644
         ],
         "yaxis": "y"
        },
        {
         "hovertemplate": "color=Buteo<br>PCA1=%{x}<br>PCA2=%{y}<extra></extra>",
         "legendgroup": "Buteo",
         "marker": {
          "color": "#FFA15A",
          "symbol": "circle"
         },
         "mode": "markers",
         "name": "Buteo",
         "showlegend": true,
         "type": "scattergl",
         "x": [
          3.690991523547215,
          -0.7701020525391068,
          -1.2105886734979272,
          -0.7619380961631658,
          -0.5801751114994108,
          0.5121747643927936,
          0.3356124945382962,
          0.715045429696135,
          -1.3999013850486062,
          -0.8715137568348053,
          0.11522195905178975,
          -1.427880767933846,
          1.0350924771170247,
          -0.40303351376698765,
          0.3579667709612086,
          1.0147349539813768,
          -0.7503991267948386,
          0.21242608858791678,
          -1.0084046934014825,
          -1.2565021940532601
         ],
         "xaxis": "x",
         "y": [
          -0.29961161443095075,
          0.0609332216418166,
          0.16790898203869545,
          -0.006949276877212238,
          -0.017375220945433166,
          0.1435727687865854,
          0.20729276061288057,
          0.11428379173643455,
          0.09119718694253783,
          0.09030316751854486,
          0.04379607879107431,
          0.07985960337919162,
          0.751873785667462,
          0.15271339395844988,
          0.10990869863332928,
          -0.013755231020306508,
          0.012158221077301919,
          0.2136273541280464,
          0.07812711337910269,
          0.02097543597223559
         ],
         "yaxis": "y"
        },
        {
         "hovertemplate": "color=Buteogallus<br>PCA1=%{x}<br>PCA2=%{y}<extra></extra>",
         "legendgroup": "Buteogallus",
         "marker": {
          "color": "#19d3f3",
          "symbol": "circle"
         },
         "mode": "markers",
         "name": "Buteogallus",
         "showlegend": true,
         "type": "scattergl",
         "x": [
          -0.7026580666565837,
          -0.8324485407864148,
          0.29008158931405553,
          1.2929255595553666,
          -0.3902774808386055,
          -1.0038250135961837,
          -0.9361602797944415,
          0.4220085093358455,
          -0.6354904841718894,
          -1.1377901386855573,
          -0.9611593171874411,
          -1.159793519953941,
          0.2176994391644493,
          -1.4810807052445423
         ],
         "xaxis": "x",
         "y": [
          0.0001695764900383516,
          0.07971802485875241,
          0.2140177609347407,
          -0.07445522751229565,
          0.044229299846382665,
          -0.029584402162169593,
          0.06189821294358884,
          -0.19028109462890516,
          -0.07088259009255764,
          0.08478160707746926,
          0.05714675857631848,
          0.016333708331214603,
          0.010350273165693199,
          0.05830234683430271
         ],
         "yaxis": "y"
        },
        {
         "hovertemplate": "color=Butorides<br>PCA1=%{x}<br>PCA2=%{y}<extra></extra>",
         "legendgroup": "Butorides",
         "marker": {
          "color": "#FF6692",
          "symbol": "circle"
         },
         "mode": "markers",
         "name": "Butorides",
         "showlegend": true,
         "type": "scattergl",
         "x": [
          -1.4286562732122787,
          -1.316302633078688,
          -1.0666594667357086
         ],
         "xaxis": "x",
         "y": [
          0.0019090603541469236,
          0.031065057895186626,
          0.0019957928446947483
         ],
         "yaxis": "y"
        },
        {
         "hovertemplate": "color=Cacicus<br>PCA1=%{x}<br>PCA2=%{y}<extra></extra>",
         "legendgroup": "Cacicus",
         "marker": {
          "color": "#B6E880",
          "symbol": "circle"
         },
         "mode": "markers",
         "name": "Cacicus",
         "showlegend": true,
         "type": "scattergl",
         "x": [
          0.2725212664188858,
          0.8204826767615621,
          1.8885778211485866,
          -0.6479208649841263,
          1.264340642115204,
          -1.211928015877577,
          -0.13664249413513338,
          0.3473115030341495,
          -0.7932895113105689,
          1.4956574058192158,
          -1.0454741649825006,
          -0.372159996372694,
          -1.3475433202411222
         ],
         "xaxis": "x",
         "y": [
          -0.04220078560280277,
          -0.2801664160414243,
          -0.0625440523983366,
          0.06843409018317166,
          0.4619686285120192,
          0.11001743769619564,
          -0.0513645834808867,
          -0.1252633521610975,
          0.026425789121076973,
          0.2406949964765263,
          -0.07695294801816349,
          0.06907331459418167,
          0.034036444973504346
         ],
         "yaxis": "y"
        },
        {
         "hovertemplate": "color=Calidris<br>PCA1=%{x}<br>PCA2=%{y}<extra></extra>",
         "legendgroup": "Calidris",
         "marker": {
          "color": "#FF97FF",
          "symbol": "circle"
         },
         "mode": "markers",
         "name": "Calidris",
         "showlegend": true,
         "type": "scattergl",
         "x": [
          -1.0276326984216808,
          -1.0672746352031457,
          -1.3131517529238903,
          -1.1498010922501283,
          -1.0165370299160452,
          0.29614026052284054,
          0.6453292303660326,
          0.44171840262299306,
          0.654427889483468,
          -0.9380482087868485,
          -1.013226878506796,
          1.4606628547111642,
          2.0622413312790524,
          -1.4034563688368173,
          0.13121079821619586,
          -1.1281672079158256,
          -0.8861169483537829,
          -1.1997276577310778,
          -1.1669641874210932,
          -0.867639469295504,
          0.7970578240369949,
          -0.005138331712900077,
          -1.244844081234062,
          -1.1922016278508274,
          -1.2392822677566127
         ],
         "xaxis": "x",
         "y": [
          -0.03816993757444361,
          0.11774364868043696,
          0.039680624213142925,
          0.11054837681968355,
          -0.051857368164047846,
          0.19385881519868567,
          -0.11677176404220913,
          -0.012200991809890392,
          -0.15336480807399264,
          0.08699536338597658,
          -0.10395391128148916,
          0.46927886169476885,
          0.2071591395943823,
          0.04426679000880128,
          -0.08385976814071748,
          0.05810303369312505,
          -0.043142036919463875,
          0.053893865547300114,
          0.003425108200042737,
          0.03925349994145883,
          0.0489236047078892,
          -0.07830309162082881,
          0.09156603056526155,
          0.08856612363645719,
          0.08965561047335997
         ],
         "yaxis": "y"
        },
        {
         "hovertemplate": "color=Calliphlox<br>PCA1=%{x}<br>PCA2=%{y}<extra></extra>",
         "legendgroup": "Calliphlox",
         "marker": {
          "color": "#FECB52",
          "symbol": "circle"
         },
         "mode": "markers",
         "name": "Calliphlox",
         "showlegend": true,
         "type": "scattergl",
         "x": [
          -0.7807040431132247
         ],
         "xaxis": "x",
         "y": [
          0.043798521390779346
         ],
         "yaxis": "y"
        },
        {
         "hovertemplate": "color=Campephilus<br>PCA1=%{x}<br>PCA2=%{y}<extra></extra>",
         "legendgroup": "Campephilus",
         "marker": {
          "color": "#636efa",
          "symbol": "circle"
         },
         "mode": "markers",
         "name": "Campephilus",
         "showlegend": true,
         "type": "scattergl",
         "x": [
          -1.1852307061606808,
          -1.03540835141365,
          -0.3114393095778993,
          -1.2198871043503228,
          -0.25127724324731543,
          1.4080381078749706,
          -0.5888461704352482,
          0.2506730223634362,
          -0.6014821912543451,
          -1.2632918102813826,
          -0.11780560499435727
         ],
         "xaxis": "x",
         "y": [
          0.17818433639021314,
          0.2388941623920522,
          0.08667298872702313,
          0.09898454040712573,
          0.14720994087148775,
          0.04729839468285655,
          -0.026173381300084852,
          0.042183354515332186,
          0.04260046853694552,
          0.1465530350621772,
          0.013755599703864129
         ],
         "yaxis": "y"
        },
        {
         "hovertemplate": "color=Camptostoma<br>PCA1=%{x}<br>PCA2=%{y}<extra></extra>",
         "legendgroup": "Camptostoma",
         "marker": {
          "color": "#EF553B",
          "symbol": "circle"
         },
         "mode": "markers",
         "name": "Camptostoma",
         "showlegend": true,
         "type": "scattergl",
         "x": [
          -1.0659543934799975,
          -0.26692274700172824
         ],
         "xaxis": "x",
         "y": [
          0.09664632987197526,
          -0.03433841568814645
         ],
         "yaxis": "y"
        },
        {
         "hovertemplate": "color=Campylopterus<br>PCA1=%{x}<br>PCA2=%{y}<extra></extra>",
         "legendgroup": "Campylopterus",
         "marker": {
          "color": "#00cc96",
          "symbol": "circle"
         },
         "mode": "markers",
         "name": "Campylopterus",
         "showlegend": true,
         "type": "scattergl",
         "x": [
          -1.0916324002667783,
          -1.0625210871287132,
          -1.083689046738916
         ],
         "xaxis": "x",
         "y": [
          -0.12745722803308351,
          0.005126560668108599,
          0.010256893700298317
         ],
         "yaxis": "y"
        },
        {
         "hovertemplate": "color=Campylorhamphus<br>PCA1=%{x}<br>PCA2=%{y}<extra></extra>",
         "legendgroup": "Campylorhamphus",
         "marker": {
          "color": "#ab63fa",
          "symbol": "circle"
         },
         "mode": "markers",
         "name": "Campylorhamphus",
         "showlegend": true,
         "type": "scattergl",
         "x": [
          0.8542227087077008,
          -1.1180131334954206,
          -0.9287521986233909,
          -1.0992411950884056
         ],
         "xaxis": "x",
         "y": [
          0.04055606983170381,
          0.05410105564778607,
          0.07250966080912276,
          0.08568571635822347
         ],
         "yaxis": "y"
        },
        {
         "hovertemplate": "color=Campylorhynchus<br>PCA1=%{x}<br>PCA2=%{y}<extra></extra>",
         "legendgroup": "Campylorhynchus",
         "marker": {
          "color": "#FFA15A",
          "symbol": "circle"
         },
         "mode": "markers",
         "name": "Campylorhynchus",
         "showlegend": true,
         "type": "scattergl",
         "x": [
          -1.2364218628741683,
          -1.0598260859931488,
          -1.160831987420315
         ],
         "xaxis": "x",
         "y": [
          0.0928158474386513,
          -0.19873992377546904,
          0.11422897669086592
         ],
         "yaxis": "y"
        },
        {
         "hovertemplate": "color=Cantorchilus<br>PCA1=%{x}<br>PCA2=%{y}<extra></extra>",
         "legendgroup": "Cantorchilus",
         "marker": {
          "color": "#19d3f3",
          "symbol": "circle"
         },
         "mode": "markers",
         "name": "Cantorchilus",
         "showlegend": true,
         "type": "scattergl",
         "x": [
          0.375975727287075,
          -0.23094051294152615,
          1.1764058182589192
         ],
         "xaxis": "x",
         "y": [
          0.36385694607606217,
          0.029820825489242767,
          0.1230393037905225
         ],
         "yaxis": "y"
        },
        {
         "hovertemplate": "color=Capito<br>PCA1=%{x}<br>PCA2=%{y}<extra></extra>",
         "legendgroup": "Capito",
         "marker": {
          "color": "#FF6692",
          "symbol": "circle"
         },
         "mode": "markers",
         "name": "Capito",
         "showlegend": true,
         "type": "scattergl",
         "x": [
          0.6907809422596956,
          0.1167419256341413,
          -0.8341434971719411,
          -0.8160320037701543,
          0.32182291596858575,
          -0.49578608469425217
         ],
         "xaxis": "x",
         "y": [
          0.7099419182383793,
          -0.30938881312938127,
          0.02968412866012094,
          0.04426235147737705,
          -0.02024502774533126,
          -0.07748941535889566
         ],
         "yaxis": "y"
        },
        {
         "hovertemplate": "color=Capsiempis<br>PCA1=%{x}<br>PCA2=%{y}<extra></extra>",
         "legendgroup": "Capsiempis",
         "marker": {
          "color": "#B6E880",
          "symbol": "circle"
         },
         "mode": "markers",
         "name": "Capsiempis",
         "showlegend": true,
         "type": "scattergl",
         "x": [
          -0.7193282989997182,
          0.05533672437659416
         ],
         "xaxis": "x",
         "y": [
          -0.02212076215438604,
          0.013149773113901265
         ],
         "yaxis": "y"
        },
        {
         "hovertemplate": "color=Caracara<br>PCA1=%{x}<br>PCA2=%{y}<extra></extra>",
         "legendgroup": "Caracara",
         "marker": {
          "color": "#FF97FF",
          "symbol": "circle"
         },
         "mode": "markers",
         "name": "Caracara",
         "showlegend": true,
         "type": "scattergl",
         "x": [
          -0.3387271790427436,
          -0.6456577665374454,
          -0.4064084584855831
         ],
         "xaxis": "x",
         "y": [
          -0.22961754006155316,
          0.07753014707652461,
          -0.4417161215343967
         ],
         "yaxis": "y"
        },
        {
         "hovertemplate": "color=Cardellina<br>PCA1=%{x}<br>PCA2=%{y}<extra></extra>",
         "legendgroup": "Cardellina",
         "marker": {
          "color": "#FECB52",
          "symbol": "circle"
         },
         "mode": "markers",
         "name": "Cardellina",
         "showlegend": true,
         "type": "scattergl",
         "x": [
          -0.057199835188746294,
          -0.33650115191837404,
          -0.5549810075222098
         ],
         "xaxis": "x",
         "y": [
          0.01927562005853071,
          0.1309926056852618,
          -0.08877652792528214
         ],
         "yaxis": "y"
        },
        {
         "hovertemplate": "color=Casiornis<br>PCA1=%{x}<br>PCA2=%{y}<extra></extra>",
         "legendgroup": "Casiornis",
         "marker": {
          "color": "#636efa",
          "symbol": "circle"
         },
         "mode": "markers",
         "name": "Casiornis",
         "showlegend": true,
         "type": "scattergl",
         "x": [
          -0.7486099915352697,
          0.29903444493958464,
          -1.1102115125692393,
          -1.3444603096114378
         ],
         "xaxis": "x",
         "y": [
          0.005283785585584537,
          -0.09204517864839645,
          0.03024010808853829,
          0.05086796608148241
         ],
         "yaxis": "y"
        },
        {
         "hovertemplate": "color=Catamblyrhynchus<br>PCA1=%{x}<br>PCA2=%{y}<extra></extra>",
         "legendgroup": "Catamblyrhynchus",
         "marker": {
          "color": "#EF553B",
          "symbol": "circle"
         },
         "mode": "markers",
         "name": "Catamblyrhynchus",
         "showlegend": true,
         "type": "scattergl",
         "x": [
          -0.9585810918783464,
          -0.8063550237388813,
          1.6445908283053898
         ],
         "xaxis": "x",
         "y": [
          0.011324513768455129,
          0.0003561254404696987,
          -0.1465162250811152
         ],
         "yaxis": "y"
        },
        {
         "hovertemplate": "color=Catamenia<br>PCA1=%{x}<br>PCA2=%{y}<extra></extra>",
         "legendgroup": "Catamenia",
         "marker": {
          "color": "#00cc96",
          "symbol": "circle"
         },
         "mode": "markers",
         "name": "Catamenia",
         "showlegend": true,
         "type": "scattergl",
         "x": [
          -0.528881681296212,
          3.3636698153186506,
          0.26372880376583335,
          -0.4956557284038003,
          1.3062547302681997,
          -0.1752814985586557,
          -1.0225991703639927,
          -1.0576233820495604,
          -0.9633373324127789
         ],
         "xaxis": "x",
         "y": [
          0.2599136742054758,
          0.19972142961392866,
          0.07810708358567536,
          0.03790961314115838,
          0.44672606637968415,
          -0.34883261094953094,
          0.05963215782042038,
          0.08186708850165701,
          0.08452736594146991
         ],
         "yaxis": "y"
        },
        {
         "hovertemplate": "color=Cathartes<br>PCA1=%{x}<br>PCA2=%{y}<extra></extra>",
         "legendgroup": "Cathartes",
         "marker": {
          "color": "#ab63fa",
          "symbol": "circle"
         },
         "mode": "markers",
         "name": "Cathartes",
         "showlegend": true,
         "type": "scattergl",
         "x": [
          5.951620074240652
         ],
         "xaxis": "x",
         "y": [
          0.4727864478157195
         ],
         "yaxis": "y"
        },
        {
         "hovertemplate": "color=Catharus<br>PCA1=%{x}<br>PCA2=%{y}<extra></extra>",
         "legendgroup": "Catharus",
         "marker": {
          "color": "#FFA15A",
          "symbol": "circle"
         },
         "mode": "markers",
         "name": "Catharus",
         "showlegend": true,
         "type": "scattergl",
         "x": [
          0.1332625622244209,
          -0.009627945252880205,
          0.8459657615092943,
          0.8292651230639964,
          -0.31574269086831563,
          -0.8756310583448786,
          0.08481377964983727,
          0.8905822248967087,
          0.8674115437164305,
          -0.20103556349294854,
          1.289807585604016,
          1.1327608047502185,
          -0.6370569160336391,
          -0.7705873239699872
         ],
         "xaxis": "x",
         "y": [
          -0.0076561264272187604,
          -0.1060404823006295,
          0.10282326957012898,
          0.10125438785602019,
          0.05465217206042794,
          0.05581705819903721,
          -0.05372730102868968,
          0.07331169782905249,
          -0.26544258001736915,
          0.14508487550711666,
          -0.1759778588801567,
          -0.3958693707536295,
          -0.07714890348288457,
          0.06432578420231722
         ],
         "yaxis": "y"
        },
        {
         "hovertemplate": "color=Celeus<br>PCA1=%{x}<br>PCA2=%{y}<extra></extra>",
         "legendgroup": "Celeus",
         "marker": {
          "color": "#19d3f3",
          "symbol": "circle"
         },
         "mode": "markers",
         "name": "Celeus",
         "showlegend": true,
         "type": "scattergl",
         "x": [
          -1.493923527384915,
          -0.4602072732463717,
          -0.6671915937123237,
          0.24523436823547168,
          -1.3793718598696199,
          -0.5642810256810182,
          2.6991682651088773,
          3.1837726028746807,
          0.540310800744174,
          1.0199137072833204,
          -0.18384475025401678,
          -0.42980101127491216
         ],
         "xaxis": "x",
         "y": [
          0.053098280332804615,
          0.02326440398761888,
          0.028287089150210214,
          -0.09401841643283675,
          0.05686352187270397,
          -0.2478865299171623,
          -0.7564218869216869,
          -0.342348691889917,
          -0.04170429326651665,
          -0.07499919878801989,
          -0.5437382493629179,
          0.06892667490675905
         ],
         "yaxis": "y"
        },
        {
         "hovertemplate": "color=Cephalopterus<br>PCA1=%{x}<br>PCA2=%{y}<extra></extra>",
         "legendgroup": "Cephalopterus",
         "marker": {
          "color": "#FF6692",
          "symbol": "circle"
         },
         "mode": "markers",
         "name": "Cephalopterus",
         "showlegend": true,
         "type": "scattergl",
         "x": [
          -1.1444401509055864
         ],
         "xaxis": "x",
         "y": [
          0.10035977284447167
         ],
         "yaxis": "y"
        },
        {
         "hovertemplate": "color=Ceratopipra<br>PCA1=%{x}<br>PCA2=%{y}<extra></extra>",
         "legendgroup": "Ceratopipra",
         "marker": {
          "color": "#B6E880",
          "symbol": "circle"
         },
         "mode": "markers",
         "name": "Ceratopipra",
         "showlegend": true,
         "type": "scattergl",
         "x": [
          0.04365456045134961,
          -1.34083855165888,
          1.545707517476629,
          0.7299862757553379,
          -0.531387497941454,
          -1.0049449658922063
         ],
         "xaxis": "x",
         "y": [
          0.11086004337370094,
          0.019580085471023658,
          -0.7754344754121213,
          -0.20974411303641977,
          -0.05500048332764598,
          0.2512382937972518
         ],
         "yaxis": "y"
        },
        {
         "hovertemplate": "color=Cercomacra<br>PCA1=%{x}<br>PCA2=%{y}<extra></extra>",
         "legendgroup": "Cercomacra",
         "marker": {
          "color": "#FF97FF",
          "symbol": "circle"
         },
         "mode": "markers",
         "name": "Cercomacra",
         "showlegend": true,
         "type": "scattergl",
         "x": [
          0.36541631006196246,
          0.41970765387290687,
          0.39439358811687253,
          -0.2760372311382954,
          0.3967970339498033,
          0.24965711101724605
         ],
         "xaxis": "x",
         "y": [
          -0.633745439704808,
          -0.1799441063394935,
          -0.06285514592075053,
          0.0043086847743207795,
          -0.064670281339771,
          0.05510780806301613
         ],
         "yaxis": "y"
        },
        {
         "hovertemplate": "color=Cercomacroides<br>PCA1=%{x}<br>PCA2=%{y}<extra></extra>",
         "legendgroup": "Cercomacroides",
         "marker": {
          "color": "#FECB52",
          "symbol": "circle"
         },
         "mode": "markers",
         "name": "Cercomacroides",
         "showlegend": true,
         "type": "scattergl",
         "x": [
          -0.06434210550835338,
          -1.237631730094019,
          -1.081629546300234,
          -0.9746824146264556,
          -0.5239433173407321,
          0.5113144368883155,
          0.19774568688746574,
          0.048309538745210656,
          1.3835932830373212
         ],
         "xaxis": "x",
         "y": [
          -0.06155056934768431,
          0.04946466417117664,
          0.04430340306979783,
          0.26350104473864217,
          -0.45372326371376237,
          -0.07461448573468175,
          -0.27341015902926796,
          -0.07732758984585604,
          0.11447587377160211
         ],
         "yaxis": "y"
        },
        {
         "hovertemplate": "color=Certhiaxis<br>PCA1=%{x}<br>PCA2=%{y}<extra></extra>",
         "legendgroup": "Certhiaxis",
         "marker": {
          "color": "#636efa",
          "symbol": "circle"
         },
         "mode": "markers",
         "name": "Certhiaxis",
         "showlegend": true,
         "type": "scattergl",
         "x": [
          0.5482540868025111,
          -0.8043607527050747,
          -0.6506852125988014
         ],
         "xaxis": "x",
         "y": [
          -0.16907910330974646,
          0.034978945577596066,
          0.018059994468081934
         ],
         "yaxis": "y"
        },
        {
         "hovertemplate": "color=Chaetocercus<br>PCA1=%{x}<br>PCA2=%{y}<extra></extra>",
         "legendgroup": "Chaetocercus",
         "marker": {
          "color": "#EF553B",
          "symbol": "circle"
         },
         "mode": "markers",
         "name": "Chaetocercus",
         "showlegend": true,
         "type": "scattergl",
         "x": [
          -0.8632558780050241
         ],
         "xaxis": "x",
         "y": [
          0.26548298659463254
         ],
         "yaxis": "y"
        },
        {
         "hovertemplate": "color=Chaetura<br>PCA1=%{x}<br>PCA2=%{y}<extra></extra>",
         "legendgroup": "Chaetura",
         "marker": {
          "color": "#00cc96",
          "symbol": "circle"
         },
         "mode": "markers",
         "name": "Chaetura",
         "showlegend": true,
         "type": "scattergl",
         "x": [
          0.02052936280743417,
          -0.5552442477531812,
          0.09891725696718172,
          -0.34487675771663284,
          -1.1195067306628068,
          -0.4062560580058816,
          -1.0324721505412264,
          -1.1126486093769528,
          -1.053053425615817,
          7.917280085237108,
          -0.6978325738791485,
          -1.3790596996057023
         ],
         "xaxis": "x",
         "y": [
          0.12387574894069031,
          0.15273624457863452,
          -0.284227299364119,
          0.309833176566218,
          -0.06489225262469984,
          -0.36159956536704085,
          0.13513368198641315,
          0.05540931452513256,
          0.06160493881860271,
          0.009792934592159094,
          0.04082200400428549,
          0.02379687220589824
         ],
         "yaxis": "y"
        },
        {
         "hovertemplate": "color=Chamaepetes<br>PCA1=%{x}<br>PCA2=%{y}<extra></extra>",
         "legendgroup": "Chamaepetes",
         "marker": {
          "color": "#ab63fa",
          "symbol": "circle"
         },
         "mode": "markers",
         "name": "Chamaepetes",
         "showlegend": true,
         "type": "scattergl",
         "x": [
          2.19807724320143,
          -1.1913597324462335
         ],
         "xaxis": "x",
         "y": [
          -0.7241474198817008,
          -0.012143077425742966
         ],
         "yaxis": "y"
        },
        {
         "hovertemplate": "color=Chamaeza<br>PCA1=%{x}<br>PCA2=%{y}<extra></extra>",
         "legendgroup": "Chamaeza",
         "marker": {
          "color": "#FFA15A",
          "symbol": "circle"
         },
         "mode": "markers",
         "name": "Chamaeza",
         "showlegend": true,
         "type": "scattergl",
         "x": [
          0.275842550026488,
          0.03317368565632835,
          -0.21739398160213227,
          -0.6991423881396231
         ],
         "xaxis": "x",
         "y": [
          -0.07342689858307229,
          0.02472666267667623,
          0.04568536732116847,
          0.006679167728815259
         ],
         "yaxis": "y"
        },
        {
         "hovertemplate": "color=Charadrius<br>PCA1=%{x}<br>PCA2=%{y}<extra></extra>",
         "legendgroup": "Charadrius",
         "marker": {
          "color": "#19d3f3",
          "symbol": "circle"
         },
         "mode": "markers",
         "name": "Charadrius",
         "showlegend": true,
         "type": "scattergl",
         "x": [
          -1.0425027418259487,
          -0.6171305064654254,
          -1.0703251743025208,
          -1.2357826692938747,
          -1.278611556281477
         ],
         "xaxis": "x",
         "y": [
          0.013334503096606668,
          -0.07982807173094734,
          0.07765748722413408,
          0.10370142576722793,
          0.06890119045959353
         ],
         "yaxis": "y"
        },
        {
         "hovertemplate": "color=Chauna<br>PCA1=%{x}<br>PCA2=%{y}<extra></extra>",
         "legendgroup": "Chauna",
         "marker": {
          "color": "#FF6692",
          "symbol": "circle"
         },
         "mode": "markers",
         "name": "Chauna",
         "showlegend": true,
         "type": "scattergl",
         "x": [
          -0.8236835220700689,
          -0.16827097180207637
         ],
         "xaxis": "x",
         "y": [
          0.05215688502167962,
          0.17324770284213084
         ],
         "yaxis": "y"
        },
        {
         "hovertemplate": "color=Chelidoptera<br>PCA1=%{x}<br>PCA2=%{y}<extra></extra>",
         "legendgroup": "Chelidoptera",
         "marker": {
          "color": "#B6E880",
          "symbol": "circle"
         },
         "mode": "markers",
         "name": "Chelidoptera",
         "showlegend": true,
         "type": "scattergl",
         "x": [
          -0.27557199296036977,
          -1.3655355273799552,
          -0.948676018604957
         ],
         "xaxis": "x",
         "y": [
          0.11806120753272294,
          0.042967236552394664,
          0.11802509278020457
         ],
         "yaxis": "y"
        },
        {
         "hovertemplate": "color=Chiroxiphia<br>PCA1=%{x}<br>PCA2=%{y}<extra></extra>",
         "legendgroup": "Chiroxiphia",
         "marker": {
          "color": "#FF97FF",
          "symbol": "circle"
         },
         "mode": "markers",
         "name": "Chiroxiphia",
         "showlegend": true,
         "type": "scattergl",
         "x": [
          -0.7188922252471883,
          1.676202163144113,
          -0.4738923092864001,
          12.312936874837465,
          -1.1797481413904785
         ],
         "xaxis": "x",
         "y": [
          -0.3592991014164209,
          -0.383545584786728,
          0.20304213193274756,
          2.6752965644242384,
          0.02358220538537179
         ],
         "yaxis": "y"
        },
        {
         "hovertemplate": "color=Chlorestes<br>PCA1=%{x}<br>PCA2=%{y}<extra></extra>",
         "legendgroup": "Chlorestes",
         "marker": {
          "color": "#FECB52",
          "symbol": "circle"
         },
         "mode": "markers",
         "name": "Chlorestes",
         "showlegend": true,
         "type": "scattergl",
         "x": [
          7.511753220757954
         ],
         "xaxis": "x",
         "y": [
          -0.1879336342503551
         ],
         "yaxis": "y"
        },
        {
         "hovertemplate": "color=Chloroceryle<br>PCA1=%{x}<br>PCA2=%{y}<extra></extra>",
         "legendgroup": "Chloroceryle",
         "marker": {
          "color": "#636efa",
          "symbol": "circle"
         },
         "mode": "markers",
         "name": "Chloroceryle",
         "showlegend": true,
         "type": "scattergl",
         "x": [
          0.39957538595442843,
          -0.9509681761753829,
          -0.9271445595181225,
          -1.0425755711301612,
          -1.18121925398848,
          -1.144959914068167,
          -1.1556182671154276,
          -1.0449338697354777,
          -1.442351404567731,
          0.564387139166734,
          -0.5817986310829935,
          0.564891858844197,
          -0.9470674206537991,
          -1.3146263412417436,
          -1.047085130526684
         ],
         "xaxis": "x",
         "y": [
          0.20924850515500287,
          -0.03184545381240835,
          0.038143699423481295,
          0.08691326175396123,
          0.04678425773558342,
          0.04123265470073854,
          0.013108658953893442,
          0.09850042659434734,
          0.07399592680260647,
          -0.07405209652632111,
          0.07995676832440662,
          0.6564061036698876,
          -0.023909278559994626,
          0.07154972592474353,
          -0.05516942771589941
         ],
         "yaxis": "y"
        },
        {
         "hovertemplate": "color=Chlorochrysa<br>PCA1=%{x}<br>PCA2=%{y}<extra></extra>",
         "legendgroup": "Chlorochrysa",
         "marker": {
          "color": "#EF553B",
          "symbol": "circle"
         },
         "mode": "markers",
         "name": "Chlorochrysa",
         "showlegend": true,
         "type": "scattergl",
         "x": [
          -0.29579015596977054,
          -0.8405769027992855,
          -0.3844820962041194
         ],
         "xaxis": "x",
         "y": [
          0.4120881810583861,
          0.1250300057870941,
          -0.10985027754243698
         ],
         "yaxis": "y"
        },
        {
         "hovertemplate": "color=Chlorophanes<br>PCA1=%{x}<br>PCA2=%{y}<extra></extra>",
         "legendgroup": "Chlorophanes",
         "marker": {
          "color": "#00cc96",
          "symbol": "circle"
         },
         "mode": "markers",
         "name": "Chlorophanes",
         "showlegend": true,
         "type": "scattergl",
         "x": [
          -0.6477878959186472,
          -0.19942596320568406,
          -1.5081404786431876,
          -0.7512374020017853
         ],
         "xaxis": "x",
         "y": [
          -0.0003432147666765575,
          -0.12515348024806558,
          0.0473374001315576,
          0.00868049614975749
         ],
         "yaxis": "y"
        },
        {
         "hovertemplate": "color=Chlorophonia<br>PCA1=%{x}<br>PCA2=%{y}<extra></extra>",
         "legendgroup": "Chlorophonia",
         "marker": {
          "color": "#ab63fa",
          "symbol": "circle"
         },
         "mode": "markers",
         "name": "Chlorophonia",
         "showlegend": true,
         "type": "scattergl",
         "x": [
          -0.1161918483290333,
          -0.859871654379711
         ],
         "xaxis": "x",
         "y": [
          0.03177218096429593,
          0.03919928270316866
         ],
         "yaxis": "y"
        },
        {
         "hovertemplate": "color=Chloropipo<br>PCA1=%{x}<br>PCA2=%{y}<extra></extra>",
         "legendgroup": "Chloropipo",
         "marker": {
          "color": "#FFA15A",
          "symbol": "circle"
         },
         "mode": "markers",
         "name": "Chloropipo",
         "showlegend": true,
         "type": "scattergl",
         "x": [
          -1.1965839225751125,
          -1.1674833000918037,
          0.7435385203917715
         ],
         "xaxis": "x",
         "y": [
          0.089417481942585,
          0.18537579948158373,
          -0.13865202829910814
         ],
         "yaxis": "y"
        },
        {
         "hovertemplate": "color=Chlorospingus<br>PCA1=%{x}<br>PCA2=%{y}<extra></extra>",
         "legendgroup": "Chlorospingus",
         "marker": {
          "color": "#19d3f3",
          "symbol": "circle"
         },
         "mode": "markers",
         "name": "Chlorospingus",
         "showlegend": true,
         "type": "scattergl",
         "x": [
          0.8334876181102782,
          0.8949644150014744,
          -0.3362041459982451,
          0.42505228243192683,
          1.8925425560117468,
          1.9305081404932045,
          -0.5364604329702427
         ],
         "xaxis": "x",
         "y": [
          -0.03745242766594804,
          0.09656680183165496,
          0.10542355628108799,
          -0.08433323516346014,
          -0.06615581660030434,
          0.005567725342545251,
          -0.07730236998097503
         ],
         "yaxis": "y"
        },
        {
         "hovertemplate": "color=Chlorostilbon<br>PCA1=%{x}<br>PCA2=%{y}<extra></extra>",
         "legendgroup": "Chlorostilbon",
         "marker": {
          "color": "#FF6692",
          "symbol": "circle"
         },
         "mode": "markers",
         "name": "Chlorostilbon",
         "showlegend": true,
         "type": "scattergl",
         "x": [
          -1.3079488377504207,
          -0.8936281251277903
         ],
         "xaxis": "x",
         "y": [
          0.04407811069515285,
          0.1857750591565768
         ],
         "yaxis": "y"
        },
        {
         "hovertemplate": "color=Chlorothraupis<br>PCA1=%{x}<br>PCA2=%{y}<extra></extra>",
         "legendgroup": "Chlorothraupis",
         "marker": {
          "color": "#B6E880",
          "symbol": "circle"
         },
         "mode": "markers",
         "name": "Chlorothraupis",
         "showlegend": true,
         "type": "scattergl",
         "x": [
          -0.8863838345543579,
          -0.6738549424784437,
          -1.392154249081047
         ],
         "xaxis": "x",
         "y": [
          0.02245957705909717,
          0.11354744733681377,
          0.04379299710882357
         ],
         "yaxis": "y"
        },
        {
         "hovertemplate": "color=Chondrohierax<br>PCA1=%{x}<br>PCA2=%{y}<extra></extra>",
         "legendgroup": "Chondrohierax",
         "marker": {
          "color": "#FF97FF",
          "symbol": "circle"
         },
         "mode": "markers",
         "name": "Chondrohierax",
         "showlegend": true,
         "type": "scattergl",
         "x": [
          1.487326200254206,
          -0.8513428857338676,
          -1.3838135041451927
         ],
         "xaxis": "x",
         "y": [
          0.14016317657132524,
          0.023036727352439564,
          0.0977161904119042
         ],
         "yaxis": "y"
        },
        {
         "hovertemplate": "color=Chordeiles<br>PCA1=%{x}<br>PCA2=%{y}<extra></extra>",
         "legendgroup": "Chordeiles",
         "marker": {
          "color": "#FECB52",
          "symbol": "circle"
         },
         "mode": "markers",
         "name": "Chordeiles",
         "showlegend": true,
         "type": "scattergl",
         "x": [
          -0.6562087995547543,
          -0.6399943027629819,
          -1.390715860406644,
          0.6234165565905421,
          0.9284752004345084,
          -1.4376108368917742
         ],
         "xaxis": "x",
         "y": [
          0.055928643379979326,
          0.04407136941006982,
          0.09491927236624298,
          0.5642705058024191,
          0.8694417280430822,
          0.059782451183950064
         ],
         "yaxis": "y"
        },
        {
         "hovertemplate": "color=Chroicocephalus<br>PCA1=%{x}<br>PCA2=%{y}<extra></extra>",
         "legendgroup": "Chroicocephalus",
         "marker": {
          "color": "#636efa",
          "symbol": "circle"
         },
         "mode": "markers",
         "name": "Chroicocephalus",
         "showlegend": true,
         "type": "scattergl",
         "x": [
          -0.5952215528058147,
          0.129920025350663,
          -0.6894374842630193
         ],
         "xaxis": "x",
         "y": [
          0.19061238658663504,
          -0.2052138488483706,
          -0.011016986532341592
         ],
         "yaxis": "y"
        },
        {
         "hovertemplate": "color=Chrysuronia<br>PCA1=%{x}<br>PCA2=%{y}<extra></extra>",
         "legendgroup": "Chrysuronia",
         "marker": {
          "color": "#EF553B",
          "symbol": "circle"
         },
         "mode": "markers",
         "name": "Chrysuronia",
         "showlegend": true,
         "type": "scattergl",
         "x": [
          2.0870243673339415,
          -0.2515183269456167
         ],
         "xaxis": "x",
         "y": [
          0.6013584569268632,
          0.35598987609125216
         ],
         "yaxis": "y"
        },
        {
         "hovertemplate": "color=Ciconia<br>PCA1=%{x}<br>PCA2=%{y}<extra></extra>",
         "legendgroup": "Ciconia",
         "marker": {
          "color": "#00cc96",
          "symbol": "circle"
         },
         "mode": "markers",
         "name": "Ciconia",
         "showlegend": true,
         "type": "scattergl",
         "x": [
          -1.0614562938205798
         ],
         "xaxis": "x",
         "y": [
          0.03193511572059163
         ],
         "yaxis": "y"
        },
        {
         "hovertemplate": "color=Cinclodes<br>PCA1=%{x}<br>PCA2=%{y}<extra></extra>",
         "legendgroup": "Cinclodes",
         "marker": {
          "color": "#ab63fa",
          "symbol": "circle"
         },
         "mode": "markers",
         "name": "Cinclodes",
         "showlegend": true,
         "type": "scattergl",
         "x": [
          0.08264522899526709,
          -1.2110107485857327
         ],
         "xaxis": "x",
         "y": [
          0.3292652198738374,
          -0.029486589816230067
         ],
         "yaxis": "y"
        },
        {
         "hovertemplate": "color=Cinnycerthia<br>PCA1=%{x}<br>PCA2=%{y}<extra></extra>",
         "legendgroup": "Cinnycerthia",
         "marker": {
          "color": "#FFA15A",
          "symbol": "circle"
         },
         "mode": "markers",
         "name": "Cinnycerthia",
         "showlegend": true,
         "type": "scattergl",
         "x": [
          -0.12311997125304025,
          -0.13995521442139425,
          -0.33462872938817784
         ],
         "xaxis": "x",
         "y": [
          -0.11403893365622396,
          -0.08200542172255362,
          -0.10799243940206273
         ],
         "yaxis": "y"
        },
        {
         "hovertemplate": "color=Circus<br>PCA1=%{x}<br>PCA2=%{y}<extra></extra>",
         "legendgroup": "Circus",
         "marker": {
          "color": "#19d3f3",
          "symbol": "circle"
         },
         "mode": "markers",
         "name": "Circus",
         "showlegend": true,
         "type": "scattergl",
         "x": [
          -0.2867376956182346,
          3.4737808967804438
         ],
         "xaxis": "x",
         "y": [
          0.17104492778606192,
          0.07456877606994966
         ],
         "yaxis": "y"
        },
        {
         "hovertemplate": "color=Cissopis<br>PCA1=%{x}<br>PCA2=%{y}<extra></extra>",
         "legendgroup": "Cissopis",
         "marker": {
          "color": "#FF6692",
          "symbol": "circle"
         },
         "mode": "markers",
         "name": "Cissopis",
         "showlegend": true,
         "type": "scattergl",
         "x": [
          -1.4926445302828695,
          -0.25278326375887417,
          0.007255073886373152
         ],
         "xaxis": "x",
         "y": [
          0.05361654539180144,
          -0.09647923384934753,
          0.4389437397284434
         ],
         "yaxis": "y"
        },
        {
         "hovertemplate": "color=Claravis<br>PCA1=%{x}<br>PCA2=%{y}<extra></extra>",
         "legendgroup": "Claravis",
         "marker": {
          "color": "#B6E880",
          "symbol": "circle"
         },
         "mode": "markers",
         "name": "Claravis",
         "showlegend": true,
         "type": "scattergl",
         "x": [
          -0.7570816256030011
         ],
         "xaxis": "x",
         "y": [
          -0.04178511012737469
         ],
         "yaxis": "y"
        },
        {
         "hovertemplate": "color=Clibanornis<br>PCA1=%{x}<br>PCA2=%{y}<extra></extra>",
         "legendgroup": "Clibanornis",
         "marker": {
          "color": "#FF97FF",
          "symbol": "circle"
         },
         "mode": "markers",
         "name": "Clibanornis",
         "showlegend": true,
         "type": "scattergl",
         "x": [
          4.298348843107526,
          -0.8494606316137656,
          -1.1335748872799687,
          0.8140547567514755
         ],
         "xaxis": "x",
         "y": [
          -0.19035613534919898,
          0.025874574113468305,
          -0.02678330157105957,
          -0.10692715335494272
         ],
         "yaxis": "y"
        },
        {
         "hovertemplate": "color=Cnemotriccus<br>PCA1=%{x}<br>PCA2=%{y}<extra></extra>",
         "legendgroup": "Cnemotriccus",
         "marker": {
          "color": "#FECB52",
          "symbol": "circle"
         },
         "mode": "markers",
         "name": "Cnemotriccus",
         "showlegend": true,
         "type": "scattergl",
         "x": [
          -0.4193525292713053,
          0.5235038804793313
         ],
         "xaxis": "x",
         "y": [
          -0.03289193209064047,
          0.014360174562535584
         ],
         "yaxis": "y"
        },
        {
         "hovertemplate": "color=Cnipodectes<br>PCA1=%{x}<br>PCA2=%{y}<extra></extra>",
         "legendgroup": "Cnipodectes",
         "marker": {
          "color": "#636efa",
          "symbol": "circle"
         },
         "mode": "markers",
         "name": "Cnipodectes",
         "showlegend": true,
         "type": "scattergl",
         "x": [
          1.087886027592698,
          4.6748786450628526,
          -0.7743056833028358,
          1.9381002976808703
         ],
         "xaxis": "x",
         "y": [
          0.002626463296417042,
          -0.1852720856233741,
          0.002885413299361444,
          -0.20041713230754046
         ],
         "yaxis": "y"
        },
        {
         "hovertemplate": "color=Coccycua<br>PCA1=%{x}<br>PCA2=%{y}<extra></extra>",
         "legendgroup": "Coccycua",
         "marker": {
          "color": "#EF553B",
          "symbol": "circle"
         },
         "mode": "markers",
         "name": "Coccycua",
         "showlegend": true,
         "type": "scattergl",
         "x": [
          -1.1922620680475613,
          0.5763350690159457,
          -1.2616804598376232,
          0.8976435408455957
         ],
         "xaxis": "x",
         "y": [
          0.06525722522981728,
          -0.6866215551664993,
          0.044246069190910314,
          -0.17674693632815539
         ],
         "yaxis": "y"
        },
        {
         "hovertemplate": "color=Coccyzus<br>PCA1=%{x}<br>PCA2=%{y}<extra></extra>",
         "legendgroup": "Coccyzus",
         "marker": {
          "color": "#00cc96",
          "symbol": "circle"
         },
         "mode": "markers",
         "name": "Coccyzus",
         "showlegend": true,
         "type": "scattergl",
         "x": [
          -1.5449565687789228,
          -1.1191484027473213,
          -1.1902574970414344,
          1.9756080826501008,
          0.24343183039806185,
          -0.573693243495738,
          -0.6631100904329503
         ],
         "xaxis": "x",
         "y": [
          0.032419076160596395,
          0.1404022357054925,
          0.06233582887268939,
          -0.3256138917117941,
          -0.12364044974798771,
          0.07669984855895165,
          0.016555092217087255
         ],
         "yaxis": "y"
        },
        {
         "hovertemplate": "color=Cochlearius<br>PCA1=%{x}<br>PCA2=%{y}<extra></extra>",
         "legendgroup": "Cochlearius",
         "marker": {
          "color": "#ab63fa",
          "symbol": "circle"
         },
         "mode": "markers",
         "name": "Cochlearius",
         "showlegend": true,
         "type": "scattergl",
         "x": [
          -1.2874002314505009,
          -0.7315439732316001,
          0.017744530069640514
         ],
         "xaxis": "x",
         "y": [
          -0.020752168460402308,
          0.13623683199377443,
          0.18297382607730814
         ],
         "yaxis": "y"
        },
        {
         "hovertemplate": "color=Coeligena<br>PCA1=%{x}<br>PCA2=%{y}<extra></extra>",
         "legendgroup": "Coeligena",
         "marker": {
          "color": "#FFA15A",
          "symbol": "circle"
         },
         "mode": "markers",
         "name": "Coeligena",
         "showlegend": true,
         "type": "scattergl",
         "x": [
          0.5370121568038729,
          -0.1179012334326343,
          -1.2663183802479392,
          -0.7137972537415465,
          -1.4559380372565243
         ],
         "xaxis": "x",
         "y": [
          -0.13529321664125374,
          0.015716615430276824,
          0.021399086724837084,
          0.0067728486803736295,
          0.04418850884008007
         ],
         "yaxis": "y"
        },
        {
         "hovertemplate": "color=Coereba<br>PCA1=%{x}<br>PCA2=%{y}<extra></extra>",
         "legendgroup": "Coereba",
         "marker": {
          "color": "#19d3f3",
          "symbol": "circle"
         },
         "mode": "markers",
         "name": "Coereba",
         "showlegend": true,
         "type": "scattergl",
         "x": [
          -0.17101746144805527,
          -0.6222805425141813,
          -0.5668739178306453
         ],
         "xaxis": "x",
         "y": [
          -0.05182228074558146,
          0.02471629489418844,
          0.011470742622435814
         ],
         "yaxis": "y"
        },
        {
         "hovertemplate": "color=Colaptes<br>PCA1=%{x}<br>PCA2=%{y}<extra></extra>",
         "legendgroup": "Colaptes",
         "marker": {
          "color": "#FF6692",
          "symbol": "circle"
         },
         "mode": "markers",
         "name": "Colaptes",
         "showlegend": true,
         "type": "scattergl",
         "x": [
          -1.3948171073123763,
          -1.3552803990911155,
          -1.5377159653499883,
          -1.0770138625615095,
          -1.3029195799968205,
          -1.0261227629981167,
          -0.22242016620821614,
          -0.8418619671994338,
          -1.2572514597159112,
          -1.298749707318049,
          -1.34422801532569,
          3.757095167763567,
          -1.3213646208486316,
          -1.1987821606286346,
          -1.0693103923699323,
          -1.2087639348955244
         ],
         "xaxis": "x",
         "y": [
          0.09325739763160823,
          0.022196513716439655,
          0.035353056040041755,
          -0.019428045636731825,
          0.13049538459788373,
          0.016609703760675193,
          -0.47397454899523245,
          -0.22305292536165855,
          0.1195307905629693,
          0.08805635620664001,
          0.11375670814697454,
          0.4525231911913063,
          0.12302123147433293,
          -0.009873994680218167,
          0.1051368694901706,
          0.03436164176586446
         ],
         "yaxis": "y"
        },
        {
         "hovertemplate": "color=Colibri<br>PCA1=%{x}<br>PCA2=%{y}<extra></extra>",
         "legendgroup": "Colibri",
         "marker": {
          "color": "#B6E880",
          "symbol": "circle"
         },
         "mode": "markers",
         "name": "Colibri",
         "showlegend": true,
         "type": "scattergl",
         "x": [
          -0.9280355189274382,
          1.231193868502784,
          -0.9322027744848169,
          -1.2389115783927371,
          0.24262503621482956,
          5.629871494510854
         ],
         "xaxis": "x",
         "y": [
          0.04909177787495543,
          -0.2744362932757574,
          0.02937752948868886,
          0.027882719537493005,
          -0.10211488224989153,
          -0.5884866683060166
         ],
         "yaxis": "y"
        },
        {
         "hovertemplate": "color=Colonia<br>PCA1=%{x}<br>PCA2=%{y}<extra></extra>",
         "legendgroup": "Colonia",
         "marker": {
          "color": "#FF97FF",
          "symbol": "circle"
         },
         "mode": "markers",
         "name": "Colonia",
         "showlegend": true,
         "type": "scattergl",
         "x": [
          -1.4075753676608782,
          -0.24946615628838112
         ],
         "xaxis": "x",
         "y": [
          0.08808759658855614,
          -0.1886870068313776
         ],
         "yaxis": "y"
        },
        {
         "hovertemplate": "color=Columba<br>PCA1=%{x}<br>PCA2=%{y}<extra></extra>",
         "legendgroup": "Columba",
         "marker": {
          "color": "#FECB52",
          "symbol": "circle"
         },
         "mode": "markers",
         "name": "Columba",
         "showlegend": true,
         "type": "scattergl",
         "x": [
          -0.6516247393732767,
          -0.5943169217187385
         ],
         "xaxis": "x",
         "y": [
          0.038548663041426554,
          0.09950901769575321
         ],
         "yaxis": "y"
        },
        {
         "hovertemplate": "color=Columbina<br>PCA1=%{x}<br>PCA2=%{y}<extra></extra>",
         "legendgroup": "Columbina",
         "marker": {
          "color": "#636efa",
          "symbol": "circle"
         },
         "mode": "markers",
         "name": "Columbina",
         "showlegend": true,
         "type": "scattergl",
         "x": [
          0.9125784391511973,
          -1.4080927042561555,
          -0.8675265026938843
         ],
         "xaxis": "x",
         "y": [
          -0.1305902303594278,
          0.038311133573014154,
          0.12418077338147895
         ],
         "yaxis": "y"
        },
        {
         "hovertemplate": "color=Conioptilon<br>PCA1=%{x}<br>PCA2=%{y}<extra></extra>",
         "legendgroup": "Conioptilon",
         "marker": {
          "color": "#EF553B",
          "symbol": "circle"
         },
         "mode": "markers",
         "name": "Conioptilon",
         "showlegend": true,
         "type": "scattergl",
         "x": [
          -0.6538405764274329,
          -0.6919474759838112
         ],
         "xaxis": "x",
         "y": [
          0.16427724619372097,
          -0.005396596409913981
         ],
         "yaxis": "y"
        },
        {
         "hovertemplate": "color=Conirostrum<br>PCA1=%{x}<br>PCA2=%{y}<extra></extra>",
         "legendgroup": "Conirostrum",
         "marker": {
          "color": "#00cc96",
          "symbol": "circle"
         },
         "mode": "markers",
         "name": "Conirostrum",
         "showlegend": true,
         "type": "scattergl",
         "x": [
          -1.0392098188483794,
          -0.5818061351243363,
          -1.047611031464221,
          -0.4064930936198521,
          -0.16257426113779563,
          -0.5552299909743716,
          0.28611790124955244
         ],
         "xaxis": "x",
         "y": [
          0.025608394598810306,
          0.016838514586175475,
          -0.06667839640755589,
          0.35667233073816856,
          -0.0362503368168941,
          -0.01857620926645751,
          -0.17700207469743065
         ],
         "yaxis": "y"
        },
        {
         "hovertemplate": "color=Conopias<br>PCA1=%{x}<br>PCA2=%{y}<extra></extra>",
         "legendgroup": "Conopias",
         "marker": {
          "color": "#ab63fa",
          "symbol": "circle"
         },
         "mode": "markers",
         "name": "Conopias",
         "showlegend": true,
         "type": "scattergl",
         "x": [
          -1.2331649090344323,
          -1.0035862451020627,
          -1.0230252299347173,
          -0.8699379790499325,
          -0.5751855759777722
         ],
         "xaxis": "x",
         "y": [
          -0.016626163845533563,
          0.05345609068127053,
          0.04937412028235893,
          -0.026037309475830262,
          0.03001931079955082
         ],
         "yaxis": "y"
        },
        {
         "hovertemplate": "color=Conopophaga<br>PCA1=%{x}<br>PCA2=%{y}<extra></extra>",
         "legendgroup": "Conopophaga",
         "marker": {
          "color": "#FFA15A",
          "symbol": "circle"
         },
         "mode": "markers",
         "name": "Conopophaga",
         "showlegend": true,
         "type": "scattergl",
         "x": [
          -0.5724823425877396,
          -1.0001810085692795,
          -0.506067460805169,
          0.8276204726137869,
          -0.09331329688609671
         ],
         "xaxis": "x",
         "y": [
          -0.12939682832005328,
          0.02193271897255722,
          0.005375497458758626,
          -0.6127148819113589,
          -0.024365655378009984
         ],
         "yaxis": "y"
        },
        {
         "hovertemplate": "color=Conothraupis<br>PCA1=%{x}<br>PCA2=%{y}<extra></extra>",
         "legendgroup": "Conothraupis",
         "marker": {
          "color": "#19d3f3",
          "symbol": "circle"
         },
         "mode": "markers",
         "name": "Conothraupis",
         "showlegend": true,
         "type": "scattergl",
         "x": [
          -0.8859635078691517,
          1.534149693698383
         ],
         "xaxis": "x",
         "y": [
          0.11231821256625577,
          -0.05732320050437803
         ],
         "yaxis": "y"
        },
        {
         "hovertemplate": "color=Contopus<br>PCA1=%{x}<br>PCA2=%{y}<extra></extra>",
         "legendgroup": "Contopus",
         "marker": {
          "color": "#FF6692",
          "symbol": "circle"
         },
         "mode": "markers",
         "name": "Contopus",
         "showlegend": true,
         "type": "scattergl",
         "x": [
          -0.16432626468649597,
          -0.8048013458151904,
          -0.06315839895638445,
          -0.5352455598421666,
          3.611427048639445,
          -1.1776926383834991,
          -0.3394245709560732,
          -0.3493895130796789,
          -0.9206111206196278,
          -0.7357162253324295,
          2.75001077539163
         ],
         "xaxis": "x",
         "y": [
          0.18487981230116549,
          0.024635299807585716,
          -0.24659365718598614,
          0.18520636287165945,
          -0.5755289946889454,
          0.037616926580729675,
          0.016113140225801827,
          -0.08814425502535851,
          0.04849737815209047,
          0.05482790826480143,
          -0.21370880957282695
         ],
         "yaxis": "y"
        },
        {
         "hovertemplate": "color=Coragyps<br>PCA1=%{x}<br>PCA2=%{y}<extra></extra>",
         "legendgroup": "Coragyps",
         "marker": {
          "color": "#B6E880",
          "symbol": "circle"
         },
         "mode": "markers",
         "name": "Coragyps",
         "showlegend": true,
         "type": "scattergl",
         "x": [
          -1.0842033394538075
         ],
         "xaxis": "x",
         "y": [
          0.03524198845821188
         ],
         "yaxis": "y"
        },
        {
         "hovertemplate": "color=Coryphaspiza<br>PCA1=%{x}<br>PCA2=%{y}<extra></extra>",
         "legendgroup": "Coryphaspiza",
         "marker": {
          "color": "#FF97FF",
          "symbol": "circle"
         },
         "mode": "markers",
         "name": "Coryphaspiza",
         "showlegend": true,
         "type": "scattergl",
         "x": [
          -0.6289927722928875
         ],
         "xaxis": "x",
         "y": [
          0.15791352146628346
         ],
         "yaxis": "y"
        },
        {
         "hovertemplate": "color=Corythopis<br>PCA1=%{x}<br>PCA2=%{y}<extra></extra>",
         "legendgroup": "Corythopis",
         "marker": {
          "color": "#FECB52",
          "symbol": "circle"
         },
         "mode": "markers",
         "name": "Corythopis",
         "showlegend": true,
         "type": "scattergl",
         "x": [
          3.492389671112196
         ],
         "xaxis": "x",
         "y": [
          -0.49317862544805563
         ],
         "yaxis": "y"
        },
        {
         "hovertemplate": "color=Cotinga<br>PCA1=%{x}<br>PCA2=%{y}<extra></extra>",
         "legendgroup": "Cotinga",
         "marker": {
          "color": "#636efa",
          "symbol": "circle"
         },
         "mode": "markers",
         "name": "Cotinga",
         "showlegend": true,
         "type": "scattergl",
         "x": [
          -1.276758275636802,
          -1.0442172391337958,
          -1.1088598115164412
         ],
         "xaxis": "x",
         "y": [
          0.14109626080463916,
          0.09831675954999886,
          0.10756303419895703
         ],
         "yaxis": "y"
        },
        {
         "hovertemplate": "color=Cranioleuca<br>PCA1=%{x}<br>PCA2=%{y}<extra></extra>",
         "legendgroup": "Cranioleuca",
         "marker": {
          "color": "#EF553B",
          "symbol": "circle"
         },
         "mode": "markers",
         "name": "Cranioleuca",
         "showlegend": true,
         "type": "scattergl",
         "x": [
          1.1533266793884034,
          -0.3136998200533378,
          1.2323703424498895,
          -0.5477847311729093,
          0.7056472724057575,
          0.18933162857484398,
          -0.5621899186683571,
          1.5156440282121644,
          1.485875886226569,
          -1.131961952082854
         ],
         "xaxis": "x",
         "y": [
          0.5644627840739441,
          0.09741231550368455,
          0.02049646678045361,
          -0.04706073989869755,
          -0.2137338813114165,
          -0.14250107421583544,
          0.018499465962215484,
          -0.21312074436010825,
          0.08422935562424613,
          0.028830043779793074
         ],
         "yaxis": "y"
        },
        {
         "hovertemplate": "color=Crax<br>PCA1=%{x}<br>PCA2=%{y}<extra></extra>",
         "legendgroup": "Crax",
         "marker": {
          "color": "#00cc96",
          "symbol": "circle"
         },
         "mode": "markers",
         "name": "Crax",
         "showlegend": true,
         "type": "scattergl",
         "x": [
          -0.3628730501549139
         ],
         "xaxis": "x",
         "y": [
          0.0437079344790765
         ],
         "yaxis": "y"
        },
        {
         "hovertemplate": "color=Creurgops<br>PCA1=%{x}<br>PCA2=%{y}<extra></extra>",
         "legendgroup": "Creurgops",
         "marker": {
          "color": "#ab63fa",
          "symbol": "circle"
         },
         "mode": "markers",
         "name": "Creurgops",
         "showlegend": true,
         "type": "scattergl",
         "x": [
          -0.8751287393220037
         ],
         "xaxis": "x",
         "y": [
          0.037807057815196936
         ],
         "yaxis": "y"
        },
        {
         "hovertemplate": "color=Crotophaga<br>PCA1=%{x}<br>PCA2=%{y}<extra></extra>",
         "legendgroup": "Crotophaga",
         "marker": {
          "color": "#FFA15A",
          "symbol": "circle"
         },
         "mode": "markers",
         "name": "Crotophaga",
         "showlegend": true,
         "type": "scattergl",
         "x": [
          1.6554686937730243,
          -0.24591494587556936,
          -1.3227547222070646
         ],
         "xaxis": "x",
         "y": [
          -0.011367234747546633,
          0.0001863983429994558,
          0.03572254917796009
         ],
         "yaxis": "y"
        },
        {
         "hovertemplate": "color=Cryptopipo<br>PCA1=%{x}<br>PCA2=%{y}<extra></extra>",
         "legendgroup": "Cryptopipo",
         "marker": {
          "color": "#19d3f3",
          "symbol": "circle"
         },
         "mode": "markers",
         "name": "Cryptopipo",
         "showlegend": true,
         "type": "scattergl",
         "x": [
          0.7727152849630179
         ],
         "xaxis": "x",
         "y": [
          0.07492004727459542
         ],
         "yaxis": "y"
        },
        {
         "hovertemplate": "color=Crypturellus<br>PCA1=%{x}<br>PCA2=%{y}<extra></extra>",
         "legendgroup": "Crypturellus",
         "marker": {
          "color": "#FF6692",
          "symbol": "circle"
         },
         "mode": "markers",
         "name": "Crypturellus",
         "showlegend": true,
         "type": "scattergl",
         "x": [
          3.0103098257607934,
          -0.6207680629982131,
          5.428609293288458,
          -1.1129233569701424,
          -0.6402276144178176,
          0.8817490750897514,
          2.7910747755811074,
          -0.8414836411560797,
          0.6015978577440714,
          -0.8408045279168769,
          0.30604126003788035,
          0.46546493151847773,
          3.218222969643745,
          0.6635673951189383,
          1.8102575592008947,
          -1.469030649902958,
          1.1885628475187253,
          -1.0152297938284882
         ],
         "xaxis": "x",
         "y": [
          -0.10552137935798138,
          -0.11377381021338112,
          -0.06551279051145807,
          0.024026459437073433,
          0.012734677950764137,
          0.07259488498825555,
          -0.06111236027798095,
          -0.022569156673903367,
          0.31209365549671625,
          0.11529881829643697,
          0.061704134958053235,
          0.06529792433177894,
          0.9852352000328888,
          0.2802018597589718,
          0.022939640783316364,
          0.06318517466286881,
          -0.1393763484075248,
          0.2470707574137476
         ],
         "yaxis": "y"
        },
        {
         "hovertemplate": "color=Cyanerpes<br>PCA1=%{x}<br>PCA2=%{y}<extra></extra>",
         "legendgroup": "Cyanerpes",
         "marker": {
          "color": "#B6E880",
          "symbol": "circle"
         },
         "mode": "markers",
         "name": "Cyanerpes",
         "showlegend": true,
         "type": "scattergl",
         "x": [
          0.5083720119135281,
          -0.6778890732184414,
          -0.3037550364788501,
          -0.42323565222656556
         ],
         "xaxis": "x",
         "y": [
          -0.07634512463439587,
          -0.004412133262198827,
          0.10392947363661098,
          0.029617345477560293
         ],
         "yaxis": "y"
        },
        {
         "hovertemplate": "color=Cyanocorax<br>PCA1=%{x}<br>PCA2=%{y}<extra></extra>",
         "legendgroup": "Cyanocorax",
         "marker": {
          "color": "#FF97FF",
          "symbol": "circle"
         },
         "mode": "markers",
         "name": "Cyanocorax",
         "showlegend": true,
         "type": "scattergl",
         "x": [
          1.3904784818041935,
          -0.5803692016947521,
          -0.4194336692953612,
          0.0601395805057569,
          3.362376791893906,
          -0.5557426667093411,
          0.1508582877979009,
          -0.8398333173287077
         ],
         "xaxis": "x",
         "y": [
          0.19812643429373647,
          0.2059581413065243,
          0.13227736225084694,
          -0.33966506316001266,
          -0.20568143808143657,
          -0.3463500737430311,
          -0.02776029516396322,
          0.05220585638101702
         ],
         "yaxis": "y"
        },
        {
         "hovertemplate": "color=Cyanolyca<br>PCA1=%{x}<br>PCA2=%{y}<extra></extra>",
         "legendgroup": "Cyanolyca",
         "marker": {
          "color": "#FECB52",
          "symbol": "circle"
         },
         "mode": "markers",
         "name": "Cyanolyca",
         "showlegend": true,
         "type": "scattergl",
         "x": [
          -0.8775915566127251
         ],
         "xaxis": "x",
         "y": [
          0.09690694243042144
         ],
         "yaxis": "y"
        },
        {
         "hovertemplate": "color=Cyclarhis<br>PCA1=%{x}<br>PCA2=%{y}<extra></extra>",
         "legendgroup": "Cyclarhis",
         "marker": {
          "color": "#636efa",
          "symbol": "circle"
         },
         "mode": "markers",
         "name": "Cyclarhis",
         "showlegend": true,
         "type": "scattergl",
         "x": [
          -0.4077496088918066,
          1.070914294322399,
          0.9254378828382808
         ],
         "xaxis": "x",
         "y": [
          0.012733425601345164,
          0.10943247373357472,
          0.17962936554089598
         ],
         "yaxis": "y"
        },
        {
         "hovertemplate": "color=Cymbilaimus<br>PCA1=%{x}<br>PCA2=%{y}<extra></extra>",
         "legendgroup": "Cymbilaimus",
         "marker": {
          "color": "#EF553B",
          "symbol": "circle"
         },
         "mode": "markers",
         "name": "Cymbilaimus",
         "showlegend": true,
         "type": "scattergl",
         "x": [
          -0.9598238241540055,
          -1.0932695936113463,
          -0.026889974240439738,
          2.1506851766161046,
          0.7045153575973683,
          2.1047933846748474,
          0.8131609203901736,
          0.042766505056905824
         ],
         "xaxis": "x",
         "y": [
          0.03685836449538825,
          0.07307971739928595,
          -0.21698070426846797,
          -0.1533382102737508,
          -0.09444625473777186,
          -0.41398877356856845,
          0.1288470739383706,
          0.04751697390714089
         ],
         "yaxis": "y"
        },
        {
         "hovertemplate": "color=Cyphorhinus<br>PCA1=%{x}<br>PCA2=%{y}<extra></extra>",
         "legendgroup": "Cyphorhinus",
         "marker": {
          "color": "#00cc96",
          "symbol": "circle"
         },
         "mode": "markers",
         "name": "Cyphorhinus",
         "showlegend": true,
         "type": "scattergl",
         "x": [
          0.38604329157274164
         ],
         "xaxis": "x",
         "y": [
          -0.07320962004641515
         ],
         "yaxis": "y"
        },
        {
         "hovertemplate": "color=Cypseloides<br>PCA1=%{x}<br>PCA2=%{y}<extra></extra>",
         "legendgroup": "Cypseloides",
         "marker": {
          "color": "#ab63fa",
          "symbol": "circle"
         },
         "mode": "markers",
         "name": "Cypseloides",
         "showlegend": true,
         "type": "scattergl",
         "x": [
          -0.9966803904682731
         ],
         "xaxis": "x",
         "y": [
          -0.032536395191616996
         ],
         "yaxis": "y"
        },
        {
         "hovertemplate": "color=Dacnis<br>PCA1=%{x}<br>PCA2=%{y}<extra></extra>",
         "legendgroup": "Dacnis",
         "marker": {
          "color": "#FFA15A",
          "symbol": "circle"
         },
         "mode": "markers",
         "name": "Dacnis",
         "showlegend": true,
         "type": "scattergl",
         "x": [
          0.015181136449530971,
          0.7084777890674417,
          -0.7530641779557461,
          -0.8341159714402832,
          0.8491579810679599,
          -0.9386829308862604
         ],
         "xaxis": "x",
         "y": [
          0.00016151817971679454,
          -0.05300317524896083,
          0.05372795175051533,
          0.014182521403174834,
          0.1717260100638671,
          -0.04708746470112999
         ],
         "yaxis": "y"
        },
        {
         "hovertemplate": "color=Daptrius<br>PCA1=%{x}<br>PCA2=%{y}<extra></extra>",
         "legendgroup": "Daptrius",
         "marker": {
          "color": "#19d3f3",
          "symbol": "circle"
         },
         "mode": "markers",
         "name": "Daptrius",
         "showlegend": true,
         "type": "scattergl",
         "x": [
          -0.06369512812079055,
          -0.6146653584180733,
          0.1231619707656676,
          1.4564486975313857,
          -0.4398167661493866
         ],
         "xaxis": "x",
         "y": [
          -0.4022262677288989,
          -0.11915462197676632,
          -0.12016895463277906,
          0.18119010423681498,
          0.1599035977386773
         ],
         "yaxis": "y"
        },
        {
         "hovertemplate": "color=Deconychura<br>PCA1=%{x}<br>PCA2=%{y}<extra></extra>",
         "legendgroup": "Deconychura",
         "marker": {
          "color": "#FF6692",
          "symbol": "circle"
         },
         "mode": "markers",
         "name": "Deconychura",
         "showlegend": true,
         "type": "scattergl",
         "x": [
          0.15684071111010192,
          1.3069899382743049
         ],
         "xaxis": "x",
         "y": [
          -0.2638748114574007,
          0.1985358343107452
         ],
         "yaxis": "y"
        },
        {
         "hovertemplate": "color=Dendrexetastes<br>PCA1=%{x}<br>PCA2=%{y}<extra></extra>",
         "legendgroup": "Dendrexetastes",
         "marker": {
          "color": "#B6E880",
          "symbol": "circle"
         },
         "mode": "markers",
         "name": "Dendrexetastes",
         "showlegend": true,
         "type": "scattergl",
         "x": [
          0.4121666832019675,
          2.7782019787279424
         ],
         "xaxis": "x",
         "y": [
          -0.08877113418515381,
          -0.07994019550103598
         ],
         "yaxis": "y"
        },
        {
         "hovertemplate": "color=Dendrocincla<br>PCA1=%{x}<br>PCA2=%{y}<extra></extra>",
         "legendgroup": "Dendrocincla",
         "marker": {
          "color": "#FF97FF",
          "symbol": "circle"
         },
         "mode": "markers",
         "name": "Dendrocincla",
         "showlegend": true,
         "type": "scattergl",
         "x": [
          -1.0835240109881163,
          -0.8632247085302817,
          -1.0396343957245298,
          -0.5641905191866224,
          -0.5916173821675539,
          -1.3188414541753528
         ],
         "xaxis": "x",
         "y": [
          0.21939711653623375,
          0.08220303587158934,
          0.09946580654178411,
          -0.02612778583718223,
          0.14568983554059237,
          -0.011867696086003911
         ],
         "yaxis": "y"
        },
        {
         "hovertemplate": "color=Dendrocolaptes<br>PCA1=%{x}<br>PCA2=%{y}<extra></extra>",
         "legendgroup": "Dendrocolaptes",
         "marker": {
          "color": "#FECB52",
          "symbol": "circle"
         },
         "mode": "markers",
         "name": "Dendrocolaptes",
         "showlegend": true,
         "type": "scattergl",
         "x": [
          0.4273133803895566,
          0.5282699470880236,
          0.2735778322489046,
          1.3645358181712244,
          2.389050771551166,
          -0.5005997406061664
         ],
         "xaxis": "x",
         "y": [
          -0.09186564624581535,
          -0.34080323389143524,
          -0.12835404638241255,
          -0.1206619076082785,
          -0.28279968121003735,
          0.035330684122736336
         ],
         "yaxis": "y"
        },
        {
         "hovertemplate": "color=Dendrocygna<br>PCA1=%{x}<br>PCA2=%{y}<extra></extra>",
         "legendgroup": "Dendrocygna",
         "marker": {
          "color": "#636efa",
          "symbol": "circle"
         },
         "mode": "markers",
         "name": "Dendrocygna",
         "showlegend": true,
         "type": "scattergl",
         "x": [
          -1.4085161175954406,
          -1.3642827570627296,
          -0.7678954241679036
         ],
         "xaxis": "x",
         "y": [
          0.0877063933633435,
          0.024494524405080056,
          0.10328174510959794
         ],
         "yaxis": "y"
        },
        {
         "hovertemplate": "color=Dendroplex<br>PCA1=%{x}<br>PCA2=%{y}<extra></extra>",
         "legendgroup": "Dendroplex",
         "marker": {
          "color": "#EF553B",
          "symbol": "circle"
         },
         "mode": "markers",
         "name": "Dendroplex",
         "showlegend": true,
         "type": "scattergl",
         "x": [
          -0.5559919079743069,
          -1.3778201871463522
         ],
         "xaxis": "x",
         "y": [
          0.048350702366962324,
          0.10014475477926996
         ],
         "yaxis": "y"
        },
        {
         "hovertemplate": "color=Dichrozona<br>PCA1=%{x}<br>PCA2=%{y}<extra></extra>",
         "legendgroup": "Dichrozona",
         "marker": {
          "color": "#00cc96",
          "symbol": "circle"
         },
         "mode": "markers",
         "name": "Dichrozona",
         "showlegend": true,
         "type": "scattergl",
         "x": [
          0.14423106367452732,
          -1.0089021553819875,
          1.112101472978604
         ],
         "xaxis": "x",
         "y": [
          -0.141644021644619,
          -0.003016274037555002,
          -0.7016614009526456
         ],
         "yaxis": "y"
        },
        {
         "hovertemplate": "color=Diglossa<br>PCA1=%{x}<br>PCA2=%{y}<extra></extra>",
         "legendgroup": "Diglossa",
         "marker": {
          "color": "#ab63fa",
          "symbol": "circle"
         },
         "mode": "markers",
         "name": "Diglossa",
         "showlegend": true,
         "type": "scattergl",
         "x": [
          -1.4787341155201286,
          1.356029721220616,
          -0.9877974381167465,
          -0.9247679632319766,
          -0.47993118881834007,
          -1.1296940103228834,
          0.10580527765794383
         ],
         "xaxis": "x",
         "y": [
          0.05925321330618127,
          -0.014700270811150766,
          0.07648048779527244,
          -0.005285147230208137,
          0.22606360643926324,
          0.013964860327097362,
          -0.2963103117659774
         ],
         "yaxis": "y"
        },
        {
         "hovertemplate": "color=Diopsittaca<br>PCA1=%{x}<br>PCA2=%{y}<extra></extra>",
         "legendgroup": "Diopsittaca",
         "marker": {
          "color": "#FFA15A",
          "symbol": "circle"
         },
         "mode": "markers",
         "name": "Diopsittaca",
         "showlegend": true,
         "type": "scattergl",
         "x": [
          -0.5152386887688454,
          0.959213401701757
         ],
         "xaxis": "x",
         "y": [
          -0.06209852730456582,
          0.032399883647200554
         ],
         "yaxis": "y"
        },
        {
         "hovertemplate": "color=Discosura<br>PCA1=%{x}<br>PCA2=%{y}<extra></extra>",
         "legendgroup": "Discosura",
         "marker": {
          "color": "#19d3f3",
          "symbol": "circle"
         },
         "mode": "markers",
         "name": "Discosura",
         "showlegend": true,
         "type": "scattergl",
         "x": [
          0.029661182685172444,
          -1.4443597471246619,
          -0.3947481800295352,
          -0.9875671769563239
         ],
         "xaxis": "x",
         "y": [
          -0.07324028881137522,
          0.07318212216451217,
          0.023364674103125583,
          0.03382427202816341
         ],
         "yaxis": "y"
        },
        {
         "hovertemplate": "color=Dolichonyx<br>PCA1=%{x}<br>PCA2=%{y}<extra></extra>",
         "legendgroup": "Dolichonyx",
         "marker": {
          "color": "#FF6692",
          "symbol": "circle"
         },
         "mode": "markers",
         "name": "Dolichonyx",
         "showlegend": true,
         "type": "scattergl",
         "x": [
          -1.0553019180538619
         ],
         "xaxis": "x",
         "y": [
          0.0047691279451932585
         ],
         "yaxis": "y"
        },
        {
         "hovertemplate": "color=Donacobius<br>PCA1=%{x}<br>PCA2=%{y}<extra></extra>",
         "legendgroup": "Donacobius",
         "marker": {
          "color": "#B6E880",
          "symbol": "circle"
         },
         "mode": "markers",
         "name": "Donacobius",
         "showlegend": true,
         "type": "scattergl",
         "x": [
          2.3533193021954273,
          -1.2180301111825544,
          1.8167771249108382
         ],
         "xaxis": "x",
         "y": [
          -0.5967329364942762,
          0.1648936216954405,
          0.15862674202887003
         ],
         "yaxis": "y"
        },
        {
         "hovertemplate": "color=Doryfera<br>PCA1=%{x}<br>PCA2=%{y}<extra></extra>",
         "legendgroup": "Doryfera",
         "marker": {
          "color": "#FF97FF",
          "symbol": "circle"
         },
         "mode": "markers",
         "name": "Doryfera",
         "showlegend": true,
         "type": "scattergl",
         "x": [
          -0.5475200597140215,
          0.6980115600076865,
          -0.7746216050325555,
          -1.1271602885962144,
          -0.820099366991571
         ],
         "xaxis": "x",
         "y": [
          -0.11446606260138274,
          0.16233657037715135,
          -0.029169573614281186,
          0.11815520325374824,
          -0.00873326083584245
         ],
         "yaxis": "y"
        },
        {
         "hovertemplate": "color=Dromococcyx<br>PCA1=%{x}<br>PCA2=%{y}<extra></extra>",
         "legendgroup": "Dromococcyx",
         "marker": {
          "color": "#FECB52",
          "symbol": "circle"
         },
         "mode": "markers",
         "name": "Dromococcyx",
         "showlegend": true,
         "type": "scattergl",
         "x": [
          -0.7440345306371431,
          -0.571741190111793
         ],
         "xaxis": "x",
         "y": [
          0.011523365682915477,
          0.06139117582469851
         ],
         "yaxis": "y"
        },
        {
         "hovertemplate": "color=Drymophila<br>PCA1=%{x}<br>PCA2=%{y}<extra></extra>",
         "legendgroup": "Drymophila",
         "marker": {
          "color": "#636efa",
          "symbol": "circle"
         },
         "mode": "markers",
         "name": "Drymophila",
         "showlegend": true,
         "type": "scattergl",
         "x": [
          0.7497634028558496,
          0.42436483045635426,
          0.2338998138227607,
          -0.23973403315142236,
          0.39883859750138123
         ],
         "xaxis": "x",
         "y": [
          0.17053528969996015,
          -0.26625297957460614,
          -0.056843488857309776,
          0.13840218329850584,
          -0.17542588405815202
         ],
         "yaxis": "y"
        },
        {
         "hovertemplate": "color=Dryocopus<br>PCA1=%{x}<br>PCA2=%{y}<extra></extra>",
         "legendgroup": "Dryocopus",
         "marker": {
          "color": "#EF553B",
          "symbol": "circle"
         },
         "mode": "markers",
         "name": "Dryocopus",
         "showlegend": true,
         "type": "scattergl",
         "x": [
          -1.4088400509358616,
          0.0013808520961973508,
          1.885288625675344,
          0.4077847117076276
         ],
         "xaxis": "x",
         "y": [
          0.024379541790520355,
          -0.20280802677694518,
          0.141244220027082,
          -0.20192087229520111
         ],
         "yaxis": "y"
        },
        {
         "hovertemplate": "color=Dubusia<br>PCA1=%{x}<br>PCA2=%{y}<extra></extra>",
         "legendgroup": "Dubusia",
         "marker": {
          "color": "#00cc96",
          "symbol": "circle"
         },
         "mode": "markers",
         "name": "Dubusia",
         "showlegend": true,
         "type": "scattergl",
         "x": [
          0.24399599620476065
         ],
         "xaxis": "x",
         "y": [
          0.014453296446518386
         ],
         "yaxis": "y"
        },
        {
         "hovertemplate": "color=Dysithamnus<br>PCA1=%{x}<br>PCA2=%{y}<extra></extra>",
         "legendgroup": "Dysithamnus",
         "marker": {
          "color": "#ab63fa",
          "symbol": "circle"
         },
         "mode": "markers",
         "name": "Dysithamnus",
         "showlegend": true,
         "type": "scattergl",
         "x": [
          -1.2526455468321596
         ],
         "xaxis": "x",
         "y": [
          0.07838177646237326
         ],
         "yaxis": "y"
        },
        {
         "hovertemplate": "color=Egretta<br>PCA1=%{x}<br>PCA2=%{y}<extra></extra>",
         "legendgroup": "Egretta",
         "marker": {
          "color": "#FFA15A",
          "symbol": "circle"
         },
         "mode": "markers",
         "name": "Egretta",
         "showlegend": true,
         "type": "scattergl",
         "x": [
          -1.1281293998994895,
          -0.3054934668792426,
          -1.0564579970481718,
          -1.2295373456926084,
          -1.3055389603683845
         ],
         "xaxis": "x",
         "y": [
          0.15870897424185196,
          -0.2177068263592676,
          0.10294384922369554,
          -0.017532207920467974,
          0.07693702148452397
         ],
         "yaxis": "y"
        },
        {
         "hovertemplate": "color=Elaenia<br>PCA1=%{x}<br>PCA2=%{y}<extra></extra>",
         "legendgroup": "Elaenia",
         "marker": {
          "color": "#19d3f3",
          "symbol": "circle"
         },
         "mode": "markers",
         "name": "Elaenia",
         "showlegend": true,
         "type": "scattergl",
         "x": [
          3.1285712014777953,
          -0.1304448661537469,
          0.9017127649401256,
          -0.5469104802984451,
          -1.3568445102621298,
          -0.5032306832446163,
          -1.1591198999779706,
          -0.5733580662894665,
          0.4103571348479106,
          -0.5021846024015056,
          -0.1338691585053017
         ],
         "xaxis": "x",
         "y": [
          -0.5453922368700399,
          -0.08227283704916487,
          -0.5604170395733727,
          0.12051862147091,
          0.05386848672712381,
          -0.03745723565043281,
          0.08100121082683358,
          -0.027934049281376914,
          0.08510897219812126,
          0.07372648676378578,
          -0.013140711673228687
         ],
         "yaxis": "y"
        },
        {
         "hovertemplate": "color=Elanoides<br>PCA1=%{x}<br>PCA2=%{y}<extra></extra>",
         "legendgroup": "Elanoides",
         "marker": {
          "color": "#FF6692",
          "symbol": "circle"
         },
         "mode": "markers",
         "name": "Elanoides",
         "showlegend": true,
         "type": "scattergl",
         "x": [
          -0.7427956384576953,
          -1.3635816644529661
         ],
         "xaxis": "x",
         "y": [
          0.10394190287463445,
          0.07402291353777557
         ],
         "yaxis": "y"
        },
        {
         "hovertemplate": "color=Elanus<br>PCA1=%{x}<br>PCA2=%{y}<extra></extra>",
         "legendgroup": "Elanus",
         "marker": {
          "color": "#B6E880",
          "symbol": "circle"
         },
         "mode": "markers",
         "name": "Elanus",
         "showlegend": true,
         "type": "scattergl",
         "x": [
          4.9385781295831
         ],
         "xaxis": "x",
         "y": [
          -0.4623896256455748
         ],
         "yaxis": "y"
        },
        {
         "hovertemplate": "color=Electron<br>PCA1=%{x}<br>PCA2=%{y}<extra></extra>",
         "legendgroup": "Electron",
         "marker": {
          "color": "#FF97FF",
          "symbol": "circle"
         },
         "mode": "markers",
         "name": "Electron",
         "showlegend": true,
         "type": "scattergl",
         "x": [
          -0.17716000853738006,
          -0.49857848689062345
         ],
         "xaxis": "x",
         "y": [
          -0.11073212632742349,
          -0.07109670645855427
         ],
         "yaxis": "y"
        },
        {
         "hovertemplate": "color=Emberizoides<br>PCA1=%{x}<br>PCA2=%{y}<extra></extra>",
         "legendgroup": "Emberizoides",
         "marker": {
          "color": "#FECB52",
          "symbol": "circle"
         },
         "mode": "markers",
         "name": "Emberizoides",
         "showlegend": true,
         "type": "scattergl",
         "x": [
          -0.913172272473417,
          1.6246349503655875
         ],
         "xaxis": "x",
         "y": [
          0.0018533708657446704,
          -0.2230909521551228
         ],
         "yaxis": "y"
        },
        {
         "hovertemplate": "color=Empidonax<br>PCA1=%{x}<br>PCA2=%{y}<extra></extra>",
         "legendgroup": "Empidonax",
         "marker": {
          "color": "#636efa",
          "symbol": "circle"
         },
         "mode": "markers",
         "name": "Empidonax",
         "showlegend": true,
         "type": "scattergl",
         "x": [
          -0.8690082434891327
         ],
         "xaxis": "x",
         "y": [
          0.011517936577876605
         ],
         "yaxis": "y"
        },
        {
         "hovertemplate": "color=Empidonomus<br>PCA1=%{x}<br>PCA2=%{y}<extra></extra>",
         "legendgroup": "Empidonomus",
         "marker": {
          "color": "#EF553B",
          "symbol": "circle"
         },
         "mode": "markers",
         "name": "Empidonomus",
         "showlegend": true,
         "type": "scattergl",
         "x": [
          -1.0027366150901171,
          -0.2786855120796704
         ],
         "xaxis": "x",
         "y": [
          0.05245154489643535,
          -0.10216103303633248
         ],
         "yaxis": "y"
        },
        {
         "hovertemplate": "color=Entomodestes<br>PCA1=%{x}<br>PCA2=%{y}<extra></extra>",
         "legendgroup": "Entomodestes",
         "marker": {
          "color": "#00cc96",
          "symbol": "circle"
         },
         "mode": "markers",
         "name": "Entomodestes",
         "showlegend": true,
         "type": "scattergl",
         "x": [
          -0.8553255345506354,
          -0.17718404760450432
         ],
         "xaxis": "x",
         "y": [
          0.1176505616394754,
          -0.09427893455834645
         ],
         "yaxis": "y"
        },
        {
         "hovertemplate": "color=Epinecrophylla<br>PCA1=%{x}<br>PCA2=%{y}<extra></extra>",
         "legendgroup": "Epinecrophylla",
         "marker": {
          "color": "#ab63fa",
          "symbol": "circle"
         },
         "mode": "markers",
         "name": "Epinecrophylla",
         "showlegend": true,
         "type": "scattergl",
         "x": [
          -0.19907345567857349,
          -0.0908215820576458,
          -0.21964130842652313,
          -0.1093486822398932,
          -0.23940200963277913,
          0.08465280851205056,
          -0.3714112579308153,
          -0.8205716355229442,
          -0.4401196512437265,
          0.6659906871391937
         ],
         "xaxis": "x",
         "y": [
          -0.20087510463322567,
          0.14609950326456078,
          -0.010464289467416643,
          0.24779097020554033,
          -0.08333122347646253,
          0.04941843431109846,
          -0.10564815076560247,
          -0.028006079984868572,
          0.04520568997171812,
          -0.1602415592000628
         ],
         "yaxis": "y"
        },
        {
         "hovertemplate": "color=Eubucco<br>PCA1=%{x}<br>PCA2=%{y}<extra></extra>",
         "legendgroup": "Eubucco",
         "marker": {
          "color": "#FFA15A",
          "symbol": "circle"
         },
         "mode": "markers",
         "name": "Eubucco",
         "showlegend": true,
         "type": "scattergl",
         "x": [
          -0.8450444846664331,
          0.48771123236479014
         ],
         "xaxis": "x",
         "y": [
          -0.03167904986767761,
          0.27461689801452116
         ],
         "yaxis": "y"
        },
        {
         "hovertemplate": "color=Euchrepomis<br>PCA1=%{x}<br>PCA2=%{y}<extra></extra>",
         "legendgroup": "Euchrepomis",
         "marker": {
          "color": "#19d3f3",
          "symbol": "circle"
         },
         "mode": "markers",
         "name": "Euchrepomis",
         "showlegend": true,
         "type": "scattergl",
         "x": [
          -0.22025145740725555,
          -0.5211467563068146,
          -1.1157035478327806,
          0.47150876146547005,
          0.18415107878457757
         ],
         "xaxis": "x",
         "y": [
          0.16785054101249897,
          0.12505844788316678,
          0.04253141365403205,
          -0.2553476827723624,
          0.05193626534861107
         ],
         "yaxis": "y"
        },
        {
         "hovertemplate": "color=Eucometis<br>PCA1=%{x}<br>PCA2=%{y}<extra></extra>",
         "legendgroup": "Eucometis",
         "marker": {
          "color": "#FF6692",
          "symbol": "circle"
         },
         "mode": "markers",
         "name": "Eucometis",
         "showlegend": true,
         "type": "scattergl",
         "x": [
          -0.7647664865505927,
          -0.8245261310975531
         ],
         "xaxis": "x",
         "y": [
          0.2853559170808741,
          -0.008733969299228235
         ],
         "yaxis": "y"
        },
        {
         "hovertemplate": "color=Eupetomena<br>PCA1=%{x}<br>PCA2=%{y}<extra></extra>",
         "legendgroup": "Eupetomena",
         "marker": {
          "color": "#B6E880",
          "symbol": "circle"
         },
         "mode": "markers",
         "name": "Eupetomena",
         "showlegend": true,
         "type": "scattergl",
         "x": [
          -0.790884104323561,
          -1.2460630561669603,
          -0.5687505613551571
         ],
         "xaxis": "x",
         "y": [
          0.01489101513570391,
          0.03532515381173153,
          0.03256913294925211
         ],
         "yaxis": "y"
        },
        {
         "hovertemplate": "color=Euphonia<br>PCA1=%{x}<br>PCA2=%{y}<extra></extra>",
         "legendgroup": "Euphonia",
         "marker": {
          "color": "#FF97FF",
          "symbol": "circle"
         },
         "mode": "markers",
         "name": "Euphonia",
         "showlegend": true,
         "type": "scattergl",
         "x": [
          -0.53029690535035,
          0.5769369097767815,
          -1.237467107675768,
          3.2076194010574066,
          -0.09065345245457737,
          -0.8774296760245497,
          0.6472549287032586,
          -0.684260911325591,
          -1.0707376752577387,
          0.47383312811276157,
          -0.1999608167514357,
          0.8775811423607133,
          0.011768356932503818,
          -0.9011336866800919,
          -0.1557493415278644,
          -1.0563686298941046
         ],
         "xaxis": "x",
         "y": [
          -0.014009099078220682,
          -0.04717429891404849,
          0.07076859477545895,
          -0.2529525072443798,
          0.0755127852614176,
          0.08924286381907988,
          -0.164117829375122,
          0.05125157727195295,
          0.05421653555743932,
          -0.016799741185068395,
          0.014278324964530577,
          -0.30152858148565065,
          0.01268757624580996,
          0.00801006554456678,
          0.0355202498502283,
          0.026985089128729784
         ],
         "yaxis": "y"
        },
        {
         "hovertemplate": "color=Eupsittula<br>PCA1=%{x}<br>PCA2=%{y}<extra></extra>",
         "legendgroup": "Eupsittula",
         "marker": {
          "color": "#FECB52",
          "symbol": "circle"
         },
         "mode": "markers",
         "name": "Eupsittula",
         "showlegend": true,
         "type": "scattergl",
         "x": [
          -0.7694864977269098,
          -0.3657355988014005
         ],
         "xaxis": "x",
         "y": [
          0.12851892635352907,
          -0.0836642165837644
         ],
         "yaxis": "y"
        },
        {
         "hovertemplate": "color=Eurypyga<br>PCA1=%{x}<br>PCA2=%{y}<extra></extra>",
         "legendgroup": "Eurypyga",
         "marker": {
          "color": "#636efa",
          "symbol": "circle"
         },
         "mode": "markers",
         "name": "Eurypyga",
         "showlegend": true,
         "type": "scattergl",
         "x": [
          -0.7909753776723659
         ],
         "xaxis": "x",
         "y": [
          0.16467352084004383
         ],
         "yaxis": "y"
        },
        {
         "hovertemplate": "color=Euscarthmus<br>PCA1=%{x}<br>PCA2=%{y}<extra></extra>",
         "legendgroup": "Euscarthmus",
         "marker": {
          "color": "#EF553B",
          "symbol": "circle"
         },
         "mode": "markers",
         "name": "Euscarthmus",
         "showlegend": true,
         "type": "scattergl",
         "x": [
          -0.4390461251204332,
          -0.8657218530160878
         ],
         "xaxis": "x",
         "y": [
          0.003442761851238849,
          0.016441724798996055
         ],
         "yaxis": "y"
        },
        {
         "hovertemplate": "color=Eutoxeres<br>PCA1=%{x}<br>PCA2=%{y}<extra></extra>",
         "legendgroup": "Eutoxeres",
         "marker": {
          "color": "#00cc96",
          "symbol": "circle"
         },
         "mode": "markers",
         "name": "Eutoxeres",
         "showlegend": true,
         "type": "scattergl",
         "x": [
          1.2986452557155814
         ],
         "xaxis": "x",
         "y": [
          0.03547077089016745
         ],
         "yaxis": "y"
        },
        {
         "hovertemplate": "color=Falco<br>PCA1=%{x}<br>PCA2=%{y}<extra></extra>",
         "legendgroup": "Falco",
         "marker": {
          "color": "#ab63fa",
          "symbol": "circle"
         },
         "mode": "markers",
         "name": "Falco",
         "showlegend": true,
         "type": "scattergl",
         "x": [
          -0.884827918620424,
          -0.8346142881396609,
          -0.4602602160133195,
          -1.543899546380538,
          -0.8197809423629834,
          -0.8521085041847094,
          -1.3040982529310532,
          -0.8042001099111601,
          0.6703640728197016,
          -1.0596605776855397,
          -1.3371629324868244,
          -0.7697556402406035,
          -1.022260367330781,
          2.4787773337117134
         ],
         "xaxis": "x",
         "y": [
          -0.08173030537447959,
          0.03576171846718552,
          -0.008013601116013201,
          0.03284739439117227,
          -0.18987841259135652,
          0.19210096739996257,
          0.0503787010765601,
          0.06792284890634143,
          -0.07966146435939296,
          0.04338865613596185,
          0.0850048969633835,
          -0.030250750771159834,
          -0.017130263123975423,
          -0.5471518957679018
         ],
         "yaxis": "y"
        },
        {
         "hovertemplate": "color=Florisuga<br>PCA1=%{x}<br>PCA2=%{y}<extra></extra>",
         "legendgroup": "Florisuga",
         "marker": {
          "color": "#FFA15A",
          "symbol": "circle"
         },
         "mode": "markers",
         "name": "Florisuga",
         "showlegend": true,
         "type": "scattergl",
         "x": [
          -1.2423572750797098
         ],
         "xaxis": "x",
         "y": [
          0.057474484527710305
         ],
         "yaxis": "y"
        },
        {
         "hovertemplate": "color=Fluvicola<br>PCA1=%{x}<br>PCA2=%{y}<extra></extra>",
         "legendgroup": "Fluvicola",
         "marker": {
          "color": "#19d3f3",
          "symbol": "circle"
         },
         "mode": "markers",
         "name": "Fluvicola",
         "showlegend": true,
         "type": "scattergl",
         "x": [
          1.594704779358884,
          -1.1699994485134315
         ],
         "xaxis": "x",
         "y": [
          0.9075746651502595,
          0.1186620206823346
         ],
         "yaxis": "y"
        },
        {
         "hovertemplate": "color=Formicarius<br>PCA1=%{x}<br>PCA2=%{y}<extra></extra>",
         "legendgroup": "Formicarius",
         "marker": {
          "color": "#FF6692",
          "symbol": "circle"
         },
         "mode": "markers",
         "name": "Formicarius",
         "showlegend": true,
         "type": "scattergl",
         "x": [
          -0.9718295612285088,
          -0.24648903554423213,
          -0.5730243275027677,
          3.0266100199822863,
          -0.1097316827213966,
          -0.7693980888237152,
          -1.41026907785578
         ],
         "xaxis": "x",
         "y": [
          0.08555192837251757,
          0.06738192759626915,
          0.042751869628815754,
          -0.19402888490319545,
          -0.009263686125786916,
          0.07791037007876138,
          0.07723966030554891
         ],
         "yaxis": "y"
        },
        {
         "hovertemplate": "color=Formicivora<br>PCA1=%{x}<br>PCA2=%{y}<extra></extra>",
         "legendgroup": "Formicivora",
         "marker": {
          "color": "#B6E880",
          "symbol": "circle"
         },
         "mode": "markers",
         "name": "Formicivora",
         "showlegend": true,
         "type": "scattergl",
         "x": [
          0.09566976865241009,
          -1.0524089428692993
         ],
         "xaxis": "x",
         "y": [
          0.0961230454396078,
          0.0735011567942911
         ],
         "yaxis": "y"
        },
        {
         "hovertemplate": "color=Forpus<br>PCA1=%{x}<br>PCA2=%{y}<extra></extra>",
         "legendgroup": "Forpus",
         "marker": {
          "color": "#FF97FF",
          "symbol": "circle"
         },
         "mode": "markers",
         "name": "Forpus",
         "showlegend": true,
         "type": "scattergl",
         "x": [
          -0.6651318770566789,
          3.028048619265291,
          -0.5404062693073153,
          -0.10257914406724757
         ],
         "xaxis": "x",
         "y": [
          0.060009409551634176,
          0.45436325025826774,
          -0.13567944047591912,
          -0.06749767289496171
         ],
         "yaxis": "y"
        },
        {
         "hovertemplate": "color=Furnarius<br>PCA1=%{x}<br>PCA2=%{y}<extra></extra>",
         "legendgroup": "Furnarius",
         "marker": {
          "color": "#FECB52",
          "symbol": "circle"
         },
         "mode": "markers",
         "name": "Furnarius",
         "showlegend": true,
         "type": "scattergl",
         "x": [
          -0.9059470302886978,
          -0.19211716529073788
         ],
         "xaxis": "x",
         "y": [
          0.19808700725585904,
          -0.06495281455402373
         ],
         "yaxis": "y"
        },
        {
         "hovertemplate": "color=Galbalcyrhynchus<br>PCA1=%{x}<br>PCA2=%{y}<extra></extra>",
         "legendgroup": "Galbalcyrhynchus",
         "marker": {
          "color": "#636efa",
          "symbol": "circle"
         },
         "mode": "markers",
         "name": "Galbalcyrhynchus",
         "showlegend": true,
         "type": "scattergl",
         "x": [
          -0.9386710007170476,
          -0.8620876564409364
         ],
         "xaxis": "x",
         "y": [
          0.02467292427309854,
          -0.04390359710402848
         ],
         "yaxis": "y"
        },
        {
         "hovertemplate": "color=Galbula<br>PCA1=%{x}<br>PCA2=%{y}<extra></extra>",
         "legendgroup": "Galbula",
         "marker": {
          "color": "#EF553B",
          "symbol": "circle"
         },
         "mode": "markers",
         "name": "Galbula",
         "showlegend": true,
         "type": "scattergl",
         "x": [
          -1.0800057790648767,
          -0.660149922865213,
          -0.8525827727825908,
          -0.010459039055310726,
          -0.3834422610728811,
          -0.338534880320845,
          -0.8592565313594969
         ],
         "xaxis": "x",
         "y": [
          0.19434815325182156,
          0.0019700250065378022,
          0.2327498949269913,
          -0.3732452732725922,
          -0.26039613107798565,
          -0.39968327105424356,
          -0.04710893076144627
         ],
         "yaxis": "y"
        },
        {
         "hovertemplate": "color=Gallinago<br>PCA1=%{x}<br>PCA2=%{y}<extra></extra>",
         "legendgroup": "Gallinago",
         "marker": {
          "color": "#00cc96",
          "symbol": "circle"
         },
         "mode": "markers",
         "name": "Gallinago",
         "showlegend": true,
         "type": "scattergl",
         "x": [
          -1.246994510981874
         ],
         "xaxis": "x",
         "y": [
          0.06442177796456833
         ],
         "yaxis": "y"
        },
        {
         "hovertemplate": "color=Gallinula<br>PCA1=%{x}<br>PCA2=%{y}<extra></extra>",
         "legendgroup": "Gallinula",
         "marker": {
          "color": "#ab63fa",
          "symbol": "circle"
         },
         "mode": "markers",
         "name": "Gallinula",
         "showlegend": true,
         "type": "scattergl",
         "x": [
          -1.5050434030159208
         ],
         "xaxis": "x",
         "y": [
          0.04859237254714524
         ],
         "yaxis": "y"
        },
        {
         "hovertemplate": "color=Gampsonyx<br>PCA1=%{x}<br>PCA2=%{y}<extra></extra>",
         "legendgroup": "Gampsonyx",
         "marker": {
          "color": "#FFA15A",
          "symbol": "circle"
         },
         "mode": "markers",
         "name": "Gampsonyx",
         "showlegend": true,
         "type": "scattergl",
         "x": [
          -0.8099277527904419
         ],
         "xaxis": "x",
         "y": [
          0.02909099299321666
         ],
         "yaxis": "y"
        },
        {
         "hovertemplate": "color=Geothlypis<br>PCA1=%{x}<br>PCA2=%{y}<extra></extra>",
         "legendgroup": "Geothlypis",
         "marker": {
          "color": "#19d3f3",
          "symbol": "circle"
         },
         "mode": "markers",
         "name": "Geothlypis",
         "showlegend": true,
         "type": "scattergl",
         "x": [
          1.1638644952278057,
          7.447510594652605
         ],
         "xaxis": "x",
         "y": [
          -0.08845878103981668,
          0.011122972920277677
         ],
         "yaxis": "y"
        },
        {
         "hovertemplate": "color=Geotrygon<br>PCA1=%{x}<br>PCA2=%{y}<extra></extra>",
         "legendgroup": "Geotrygon",
         "marker": {
          "color": "#FF6692",
          "symbol": "circle"
         },
         "mode": "markers",
         "name": "Geotrygon",
         "showlegend": true,
         "type": "scattergl",
         "x": [
          -0.026939529278024503,
          0.103852046760893,
          -0.3517478309686179,
          -0.24527230941646475,
          -1.1162007407777559,
          -0.23410445719738412
         ],
         "xaxis": "x",
         "y": [
          -0.218704153582534,
          0.026584177827834482,
          -0.04294159625212411,
          0.013721376957456325,
          0.01650122501951296,
          -0.14564626131897626
         ],
         "yaxis": "y"
        },
        {
         "hovertemplate": "color=Geranoaetus<br>PCA1=%{x}<br>PCA2=%{y}<extra></extra>",
         "legendgroup": "Geranoaetus",
         "marker": {
          "color": "#B6E880",
          "symbol": "circle"
         },
         "mode": "markers",
         "name": "Geranoaetus",
         "showlegend": true,
         "type": "scattergl",
         "x": [
          -1.3020523401686317
         ],
         "xaxis": "x",
         "y": [
          0.1100843599483838
         ],
         "yaxis": "y"
        },
        {
         "hovertemplate": "color=Geranospiza<br>PCA1=%{x}<br>PCA2=%{y}<extra></extra>",
         "legendgroup": "Geranospiza",
         "marker": {
          "color": "#FF97FF",
          "symbol": "circle"
         },
         "mode": "markers",
         "name": "Geranospiza",
         "showlegend": true,
         "type": "scattergl",
         "x": [
          -0.01430710124675707,
          0.15940962067242803
         ],
         "xaxis": "x",
         "y": [
          -0.08258020877015786,
          0.034764242750492856
         ],
         "yaxis": "y"
        },
        {
         "hovertemplate": "color=Glaucidium<br>PCA1=%{x}<br>PCA2=%{y}<extra></extra>",
         "legendgroup": "Glaucidium",
         "marker": {
          "color": "#FECB52",
          "symbol": "circle"
         },
         "mode": "markers",
         "name": "Glaucidium",
         "showlegend": true,
         "type": "scattergl",
         "x": [
          -0.44704801417059176,
          -1.0833112521492663,
          1.2309397667618893
         ],
         "xaxis": "x",
         "y": [
          0.03436315510233166,
          0.08078825686184087,
          -0.25521016970623184
         ],
         "yaxis": "y"
        },
        {
         "hovertemplate": "color=Glaucis<br>PCA1=%{x}<br>PCA2=%{y}<extra></extra>",
         "legendgroup": "Glaucis",
         "marker": {
          "color": "#636efa",
          "symbol": "circle"
         },
         "mode": "markers",
         "name": "Glaucis",
         "showlegend": true,
         "type": "scattergl",
         "x": [
          -0.8772856589609166
         ],
         "xaxis": "x",
         "y": [
          0.10753347023220748
         ],
         "yaxis": "y"
        },
        {
         "hovertemplate": "color=Glyphorynchus<br>PCA1=%{x}<br>PCA2=%{y}<extra></extra>",
         "legendgroup": "Glyphorynchus",
         "marker": {
          "color": "#EF553B",
          "symbol": "circle"
         },
         "mode": "markers",
         "name": "Glyphorynchus",
         "showlegend": true,
         "type": "scattergl",
         "x": [
          -0.6638601500768279,
          -0.4082789171119301
         ],
         "xaxis": "x",
         "y": [
          0.09828498895988186,
          -0.07391944298298429
         ],
         "yaxis": "y"
        },
        {
         "hovertemplate": "color=Gnorimopsar<br>PCA1=%{x}<br>PCA2=%{y}<extra></extra>",
         "legendgroup": "Gnorimopsar",
         "marker": {
          "color": "#00cc96",
          "symbol": "circle"
         },
         "mode": "markers",
         "name": "Gnorimopsar",
         "showlegend": true,
         "type": "scattergl",
         "x": [
          0.05447554403987595
         ],
         "xaxis": "x",
         "y": [
          0.16196235838096854
         ],
         "yaxis": "y"
        },
        {
         "hovertemplate": "color=Grallaria<br>PCA1=%{x}<br>PCA2=%{y}<extra></extra>",
         "legendgroup": "Grallaria",
         "marker": {
          "color": "#ab63fa",
          "symbol": "circle"
         },
         "mode": "markers",
         "name": "Grallaria",
         "showlegend": true,
         "type": "scattergl",
         "x": [
          1.9862317721053917,
          0.3762225375477313,
          0.1480274056858623,
          -1.286621142065586,
          1.5955275952493417,
          6.116428178658515
         ],
         "xaxis": "x",
         "y": [
          -0.3544094187720896,
          -0.02339771646903207,
          -0.027634241792655063,
          0.059574216128997375,
          -0.22912511842865657,
          0.7799934010344776
         ],
         "yaxis": "y"
        },
        {
         "hovertemplate": "color=Grallaricula<br>PCA1=%{x}<br>PCA2=%{y}<extra></extra>",
         "legendgroup": "Grallaricula",
         "marker": {
          "color": "#FFA15A",
          "symbol": "circle"
         },
         "mode": "markers",
         "name": "Grallaricula",
         "showlegend": true,
         "type": "scattergl",
         "x": [
          -0.7395575392045762,
          -0.3962115528066154,
          2.4861600205084207
         ],
         "xaxis": "x",
         "y": [
          0.015582618198571483,
          -0.022984903181295892,
          -0.030629121934396195
         ],
         "yaxis": "y"
        },
        {
         "hovertemplate": "color=Gymnomystax<br>PCA1=%{x}<br>PCA2=%{y}<extra></extra>",
         "legendgroup": "Gymnomystax",
         "marker": {
          "color": "#19d3f3",
          "symbol": "circle"
         },
         "mode": "markers",
         "name": "Gymnomystax",
         "showlegend": true,
         "type": "scattergl",
         "x": [
          0.10472849602913613
         ],
         "xaxis": "x",
         "y": [
          -0.3225245819884547
         ],
         "yaxis": "y"
        },
        {
         "hovertemplate": "color=Habia<br>PCA1=%{x}<br>PCA2=%{y}<extra></extra>",
         "legendgroup": "Habia",
         "marker": {
          "color": "#FF6692",
          "symbol": "circle"
         },
         "mode": "markers",
         "name": "Habia",
         "showlegend": true,
         "type": "scattergl",
         "x": [
          -0.18369060674251395,
          -1.3888766414334548
         ],
         "xaxis": "x",
         "y": [
          -0.337964130857129,
          0.0956645460874452
         ],
         "yaxis": "y"
        },
        {
         "hovertemplate": "color=Hafferia<br>PCA1=%{x}<br>PCA2=%{y}<extra></extra>",
         "legendgroup": "Hafferia",
         "marker": {
          "color": "#B6E880",
          "symbol": "circle"
         },
         "mode": "markers",
         "name": "Hafferia",
         "showlegend": true,
         "type": "scattergl",
         "x": [
          7.000261331834672,
          -0.5492496381929175
         ],
         "xaxis": "x",
         "y": [
          -0.3782663817678067,
          -0.15074360614304294
         ],
         "yaxis": "y"
        },
        {
         "hovertemplate": "color=Haplophaedia<br>PCA1=%{x}<br>PCA2=%{y}<extra></extra>",
         "legendgroup": "Haplophaedia",
         "marker": {
          "color": "#FF97FF",
          "symbol": "circle"
         },
         "mode": "markers",
         "name": "Haplophaedia",
         "showlegend": true,
         "type": "scattergl",
         "x": [
          -0.8286776236947038
         ],
         "xaxis": "x",
         "y": [
          -0.003238746730710908
         ],
         "yaxis": "y"
        },
        {
         "hovertemplate": "color=Haplospiza<br>PCA1=%{x}<br>PCA2=%{y}<extra></extra>",
         "legendgroup": "Haplospiza",
         "marker": {
          "color": "#FECB52",
          "symbol": "circle"
         },
         "mode": "markers",
         "name": "Haplospiza",
         "showlegend": true,
         "type": "scattergl",
         "x": [
          3.7915821028006014,
          3.4523150178636213,
          -0.12227525429118531,
          -0.5894893517091323,
          -0.05216147531491864
         ],
         "xaxis": "x",
         "y": [
          -0.3080267237549147,
          0.4552118844550223,
          0.09169640337394981,
          -0.0662003557456493,
          0.027662807252390943
         ],
         "yaxis": "y"
        },
        {
         "hovertemplate": "color=Harpagus<br>PCA1=%{x}<br>PCA2=%{y}<extra></extra>",
         "legendgroup": "Harpagus",
         "marker": {
          "color": "#636efa",
          "symbol": "circle"
         },
         "mode": "markers",
         "name": "Harpagus",
         "showlegend": true,
         "type": "scattergl",
         "x": [
          -0.6284996422114456,
          -0.608286504470723,
          -1.299354873646915
         ],
         "xaxis": "x",
         "y": [
          0.05361130004241731,
          -0.011623165305855287,
          0.030523254162653578
         ],
         "yaxis": "y"
        },
        {
         "hovertemplate": "color=Harpia<br>PCA1=%{x}<br>PCA2=%{y}<extra></extra>",
         "legendgroup": "Harpia",
         "marker": {
          "color": "#EF553B",
          "symbol": "circle"
         },
         "mode": "markers",
         "name": "Harpia",
         "showlegend": true,
         "type": "scattergl",
         "x": [
          0.5983662287171778
         ],
         "xaxis": "x",
         "y": [
          -0.6964102411671453
         ],
         "yaxis": "y"
        },
        {
         "hovertemplate": "color=Helicolestes<br>PCA1=%{x}<br>PCA2=%{y}<extra></extra>",
         "legendgroup": "Helicolestes",
         "marker": {
          "color": "#00cc96",
          "symbol": "circle"
         },
         "mode": "markers",
         "name": "Helicolestes",
         "showlegend": true,
         "type": "scattergl",
         "x": [
          0.7099355674810632,
          -0.10255422427557512,
          3.949793796735234
         ],
         "xaxis": "x",
         "y": [
          0.02179509225558203,
          -0.09041471653710705,
          0.016249536967952533
         ],
         "yaxis": "y"
        },
        {
         "hovertemplate": "color=Heliodoxa<br>PCA1=%{x}<br>PCA2=%{y}<extra></extra>",
         "legendgroup": "Heliodoxa",
         "marker": {
          "color": "#ab63fa",
          "symbol": "circle"
         },
         "mode": "markers",
         "name": "Heliodoxa",
         "showlegend": true,
         "type": "scattergl",
         "x": [
          -0.9062930654509729,
          -0.9897261743137553,
          1.7050397965773465,
          -1.5331707690369347,
          -0.8267563465474883,
          -0.17713066073951655,
          -0.0798741368194966,
          -0.578898133889885,
          -1.3600093597335718
         ],
         "xaxis": "x",
         "y": [
          0.29121323425690787,
          0.05478159021825661,
          -0.012477412321679527,
          0.03719482443151857,
          -0.024393841282043412,
          -0.1760481565307213,
          -0.08438601437495906,
          0.03289240524885245,
          0.10736191696447518
         ],
         "yaxis": "y"
        },
        {
         "hovertemplate": "color=Heliomaster<br>PCA1=%{x}<br>PCA2=%{y}<extra></extra>",
         "legendgroup": "Heliomaster",
         "marker": {
          "color": "#FFA15A",
          "symbol": "circle"
         },
         "mode": "markers",
         "name": "Heliomaster",
         "showlegend": true,
         "type": "scattergl",
         "x": [
          0.028840381900812173,
          -1.040244018473707
         ],
         "xaxis": "x",
         "y": [
          -0.19708407030068198,
          0.024428421671701433
         ],
         "yaxis": "y"
        },
        {
         "hovertemplate": "color=Heliornis<br>PCA1=%{x}<br>PCA2=%{y}<extra></extra>",
         "legendgroup": "Heliornis",
         "marker": {
          "color": "#19d3f3",
          "symbol": "circle"
         },
         "mode": "markers",
         "name": "Heliornis",
         "showlegend": true,
         "type": "scattergl",
         "x": [
          0.017365379984047077
         ],
         "xaxis": "x",
         "y": [
          0.04235123604413337
         ],
         "yaxis": "y"
        },
        {
         "hovertemplate": "color=Heliothryx<br>PCA1=%{x}<br>PCA2=%{y}<extra></extra>",
         "legendgroup": "Heliothryx",
         "marker": {
          "color": "#FF6692",
          "symbol": "circle"
         },
         "mode": "markers",
         "name": "Heliothryx",
         "showlegend": true,
         "type": "scattergl",
         "x": [
          -0.9401145647466059
         ],
         "xaxis": "x",
         "y": [
          0.06535498236895304
         ],
         "yaxis": "y"
        },
        {
         "hovertemplate": "color=Hemithraupis<br>PCA1=%{x}<br>PCA2=%{y}<extra></extra>",
         "legendgroup": "Hemithraupis",
         "marker": {
          "color": "#B6E880",
          "symbol": "circle"
         },
         "mode": "markers",
         "name": "Hemithraupis",
         "showlegend": true,
         "type": "scattergl",
         "x": [
          -0.3290556364554186,
          -0.7550132240100674,
          -0.63406492817625
         ],
         "xaxis": "x",
         "y": [
          0.39872789239859097,
          -0.03865296578059245,
          0.2175301378684676
         ],
         "yaxis": "y"
        },
        {
         "hovertemplate": "color=Hemitriccus<br>PCA1=%{x}<br>PCA2=%{y}<extra></extra>",
         "legendgroup": "Hemitriccus",
         "marker": {
          "color": "#FF97FF",
          "symbol": "circle"
         },
         "mode": "markers",
         "name": "Hemitriccus",
         "showlegend": true,
         "type": "scattergl",
         "x": [
          5.181225327520602,
          0.4747823728526248,
          -0.06572376329528574,
          3.955738146277247,
          -0.4112573317959354,
          0.8606869948774034,
          0.5513960875740993,
          0.021550875095621307,
          -1.1383063680250434,
          -0.7274569854086143,
          0.5141485603212906,
          2.83640608400709
         ],
         "xaxis": "x",
         "y": [
          -0.1691665764852065,
          -0.4334528267180212,
          -0.03779519732551572,
          -0.3829938126084969,
          0.05941806895015699,
          -0.37709701103357857,
          -0.06954022452653075,
          -0.026505926847105676,
          0.09836761510529832,
          0.0415910501325855,
          -0.21592359167649153,
          -0.2797081401587468
         ],
         "yaxis": "y"
        },
        {
         "hovertemplate": "color=Henicorhina<br>PCA1=%{x}<br>PCA2=%{y}<extra></extra>",
         "legendgroup": "Henicorhina",
         "marker": {
          "color": "#FECB52",
          "symbol": "circle"
         },
         "mode": "markers",
         "name": "Henicorhina",
         "showlegend": true,
         "type": "scattergl",
         "x": [
          -0.5691865688841398,
          -0.25546177566314127
         ],
         "xaxis": "x",
         "y": [
          0.07585894801351875,
          0.06281051739402727
         ],
         "yaxis": "y"
        },
        {
         "hovertemplate": "color=Herpetotheres<br>PCA1=%{x}<br>PCA2=%{y}<extra></extra>",
         "legendgroup": "Herpetotheres",
         "marker": {
          "color": "#636efa",
          "symbol": "circle"
         },
         "mode": "markers",
         "name": "Herpetotheres",
         "showlegend": true,
         "type": "scattergl",
         "x": [
          -0.8851272432256492,
          0.017509780506529987
         ],
         "xaxis": "x",
         "y": [
          0.05207301225643703,
          -0.08610712084956121
         ],
         "yaxis": "y"
        },
        {
         "hovertemplate": "color=Herpsilochmus<br>PCA1=%{x}<br>PCA2=%{y}<extra></extra>",
         "legendgroup": "Herpsilochmus",
         "marker": {
          "color": "#EF553B",
          "symbol": "circle"
         },
         "mode": "markers",
         "name": "Herpsilochmus",
         "showlegend": true,
         "type": "scattergl",
         "x": [
          -1.5199262783851757,
          0.28026538849252436,
          1.5115544758872994,
          1.483077658103892,
          -1.272952939905925,
          1.0749227973155302
         ],
         "xaxis": "x",
         "y": [
          0.04256165186063548,
          -0.0769148527519825,
          -0.21051003105400076,
          -0.001987298503353144,
          -0.07261988991832463,
          0.040040391500297895
         ],
         "yaxis": "y"
        },
        {
         "hovertemplate": "color=Heterocercus<br>PCA1=%{x}<br>PCA2=%{y}<extra></extra>",
         "legendgroup": "Heterocercus",
         "marker": {
          "color": "#00cc96",
          "symbol": "circle"
         },
         "mode": "markers",
         "name": "Heterocercus",
         "showlegend": true,
         "type": "scattergl",
         "x": [
          -0.24184979155813294
         ],
         "xaxis": "x",
         "y": [
          -0.5309573923252662
         ],
         "yaxis": "y"
        },
        {
         "hovertemplate": "color=Himantopus<br>PCA1=%{x}<br>PCA2=%{y}<extra></extra>",
         "legendgroup": "Himantopus",
         "marker": {
          "color": "#ab63fa",
          "symbol": "circle"
         },
         "mode": "markers",
         "name": "Himantopus",
         "showlegend": true,
         "type": "scattergl",
         "x": [
          0.8804997814590706,
          1.815058902237262,
          1.0989405484025025
         ],
         "xaxis": "x",
         "y": [
          0.23625365548231353,
          -0.2783949365797304,
          0.015148781414246438
         ],
         "yaxis": "y"
        },
        {
         "hovertemplate": "color=Hirundinea<br>PCA1=%{x}<br>PCA2=%{y}<extra></extra>",
         "legendgroup": "Hirundinea",
         "marker": {
          "color": "#FFA15A",
          "symbol": "circle"
         },
         "mode": "markers",
         "name": "Hirundinea",
         "showlegend": true,
         "type": "scattergl",
         "x": [
          -1.0351051474401955,
          0.636605417067539,
          -0.6410283333197361,
          -0.3622913393145002
         ],
         "xaxis": "x",
         "y": [
          0.07434756264338535,
          0.28767921902559723,
          0.16268053454344347,
          -0.008339715572558812
         ],
         "yaxis": "y"
        },
        {
         "hovertemplate": "color=Hydropsalis<br>PCA1=%{x}<br>PCA2=%{y}<extra></extra>",
         "legendgroup": "Hydropsalis",
         "marker": {
          "color": "#19d3f3",
          "symbol": "circle"
         },
         "mode": "markers",
         "name": "Hydropsalis",
         "showlegend": true,
         "type": "scattergl",
         "x": [
          -0.3337813931982383,
          -0.7465529056495457,
          -0.3480341746191254,
          -0.3772042886943299,
          5.455662607826248
         ],
         "xaxis": "x",
         "y": [
          0.05357097536933226,
          -0.020666035540741267,
          0.1154349500878241,
          -0.11365791316192649,
          -0.7020632154674916
         ],
         "yaxis": "y"
        },
        {
         "hovertemplate": "color=Hylexetastes<br>PCA1=%{x}<br>PCA2=%{y}<extra></extra>",
         "legendgroup": "Hylexetastes",
         "marker": {
          "color": "#FF6692",
          "symbol": "circle"
         },
         "mode": "markers",
         "name": "Hylexetastes",
         "showlegend": true,
         "type": "scattergl",
         "x": [
          4.377877642723104,
          -0.9424409337354458,
          -0.6796933937614507,
          1.3717370238123405
         ],
         "xaxis": "x",
         "y": [
          0.10304492206733705,
          0.1012669848110482,
          0.06825581597411885,
          0.09912555829797025
         ],
         "yaxis": "y"
        },
        {
         "hovertemplate": "color=Hylopezus<br>PCA1=%{x}<br>PCA2=%{y}<extra></extra>",
         "legendgroup": "Hylopezus",
         "marker": {
          "color": "#B6E880",
          "symbol": "circle"
         },
         "mode": "markers",
         "name": "Hylopezus",
         "showlegend": true,
         "type": "scattergl",
         "x": [
          -0.6999465860289502
         ],
         "xaxis": "x",
         "y": [
          -0.009273044244442526
         ],
         "yaxis": "y"
        },
        {
         "hovertemplate": "color=Hylophilus<br>PCA1=%{x}<br>PCA2=%{y}<extra></extra>",
         "legendgroup": "Hylophilus",
         "marker": {
          "color": "#FF97FF",
          "symbol": "circle"
         },
         "mode": "markers",
         "name": "Hylophilus",
         "showlegend": true,
         "type": "scattergl",
         "x": [
          0.26204975018270116,
          -0.9151988588581836
         ],
         "xaxis": "x",
         "y": [
          0.16274721365554462,
          0.04417524948221586
         ],
         "yaxis": "y"
        },
        {
         "hovertemplate": "color=Hylophylax<br>PCA1=%{x}<br>PCA2=%{y}<extra></extra>",
         "legendgroup": "Hylophylax",
         "marker": {
          "color": "#FECB52",
          "symbol": "circle"
         },
         "mode": "markers",
         "name": "Hylophylax",
         "showlegend": true,
         "type": "scattergl",
         "x": [
          0.9189912129534495,
          0.33817833542713693,
          0.8951826113564174
         ],
         "xaxis": "x",
         "y": [
          0.1281810127346381,
          -0.06064866194946555,
          -0.02923310398826972
         ],
         "yaxis": "y"
        },
        {
         "hovertemplate": "color=Hypocnemis<br>PCA1=%{x}<br>PCA2=%{y}<extra></extra>",
         "legendgroup": "Hypocnemis",
         "marker": {
          "color": "#636efa",
          "symbol": "circle"
         },
         "mode": "markers",
         "name": "Hypocnemis",
         "showlegend": true,
         "type": "scattergl",
         "x": [
          -1.3210580843531001,
          2.2063418449347454,
          0.5000508981884799,
          0.04866006121763986,
          -0.43732937641151637
         ],
         "xaxis": "x",
         "y": [
          0.12314544376119989,
          -0.41473043777107926,
          0.0010918034438925606,
          -0.09174603462422674,
          -0.01504567817247208
         ],
         "yaxis": "y"
        },
        {
         "hovertemplate": "color=Hypocnemoides<br>PCA1=%{x}<br>PCA2=%{y}<extra></extra>",
         "legendgroup": "Hypocnemoides",
         "marker": {
          "color": "#EF553B",
          "symbol": "circle"
         },
         "mode": "markers",
         "name": "Hypocnemoides",
         "showlegend": true,
         "type": "scattergl",
         "x": [
          2.5237499660158536,
          0.3074688935695999
         ],
         "xaxis": "x",
         "y": [
          0.05953923957326676,
          -0.267919474578915
         ],
         "yaxis": "y"
        },
        {
         "hovertemplate": "color=Ibycter<br>PCA1=%{x}<br>PCA2=%{y}<extra></extra>",
         "legendgroup": "Ibycter",
         "marker": {
          "color": "#00cc96",
          "symbol": "circle"
         },
         "mode": "markers",
         "name": "Ibycter",
         "showlegend": true,
         "type": "scattergl",
         "x": [
          1.4001447379855092
         ],
         "xaxis": "x",
         "y": [
          0.026867654803407495
         ],
         "yaxis": "y"
        },
        {
         "hovertemplate": "color=Icterus<br>PCA1=%{x}<br>PCA2=%{y}<extra></extra>",
         "legendgroup": "Icterus",
         "marker": {
          "color": "#ab63fa",
          "symbol": "circle"
         },
         "mode": "markers",
         "name": "Icterus",
         "showlegend": true,
         "type": "scattergl",
         "x": [
          0.009610941687063673,
          -1.1649599478274812,
          -1.1828227567299447
         ],
         "xaxis": "x",
         "y": [
          -0.3827888714464854,
          0.09717876789500866,
          0.009548279804170536
         ],
         "yaxis": "y"
        },
        {
         "hovertemplate": "color=Ictinia<br>PCA1=%{x}<br>PCA2=%{y}<extra></extra>",
         "legendgroup": "Ictinia",
         "marker": {
          "color": "#FFA15A",
          "symbol": "circle"
         },
         "mode": "markers",
         "name": "Ictinia",
         "showlegend": true,
         "type": "scattergl",
         "x": [
          -1.1749692687636748,
          -0.7174093323792688,
          -1.170952900009753,
          -0.5090602391344611,
          -1.1452087481806323
         ],
         "xaxis": "x",
         "y": [
          0.07171823001894377,
          0.04976644927404591,
          0.08681149254301378,
          0.038846515563007104,
          0.04096955568411749
         ],
         "yaxis": "y"
        },
        {
         "hovertemplate": "color=Inezia<br>PCA1=%{x}<br>PCA2=%{y}<extra></extra>",
         "legendgroup": "Inezia",
         "marker": {
          "color": "#19d3f3",
          "symbol": "circle"
         },
         "mode": "markers",
         "name": "Inezia",
         "showlegend": true,
         "type": "scattergl",
         "x": [
          -1.4945048897040265,
          -0.07003663382620105,
          -1.1516664899219107
         ],
         "xaxis": "x",
         "y": [
          0.052862705305987814,
          0.13126970045376218,
          0.05452861378292564
         ],
         "yaxis": "y"
        },
        {
         "hovertemplate": "color=Iodopleura<br>PCA1=%{x}<br>PCA2=%{y}<extra></extra>",
         "legendgroup": "Iodopleura",
         "marker": {
          "color": "#FF6692",
          "symbol": "circle"
         },
         "mode": "markers",
         "name": "Iodopleura",
         "showlegend": true,
         "type": "scattergl",
         "x": [
          1.3667484777723975,
          0.9091094548841372,
          0.13357835350190686
         ],
         "xaxis": "x",
         "y": [
          -0.4517442141784417,
          0.42658586901348033,
          0.022223109147285102
         ],
         "yaxis": "y"
        },
        {
         "hovertemplate": "color=Iridophanes<br>PCA1=%{x}<br>PCA2=%{y}<extra></extra>",
         "legendgroup": "Iridophanes",
         "marker": {
          "color": "#B6E880",
          "symbol": "circle"
         },
         "mode": "markers",
         "name": "Iridophanes",
         "showlegend": true,
         "type": "scattergl",
         "x": [
          0.29937497173811367
         ],
         "xaxis": "x",
         "y": [
          0.02155437237864384
         ],
         "yaxis": "y"
        },
        {
         "hovertemplate": "color=Iridosornis<br>PCA1=%{x}<br>PCA2=%{y}<extra></extra>",
         "legendgroup": "Iridosornis",
         "marker": {
          "color": "#FF97FF",
          "symbol": "circle"
         },
         "mode": "markers",
         "name": "Iridosornis",
         "showlegend": true,
         "type": "scattergl",
         "x": [
          -0.5567110906017839,
          0.28347013408113114,
          -0.890260030539236,
          4.124470269157217,
          -0.5313246219156346,
          2.5801810320025895
         ],
         "xaxis": "x",
         "y": [
          -0.055640317582337326,
          -0.16156187903728797,
          -0.07159689372008508,
          -0.10194364356827741,
          -0.010520832938141876,
          0.10719484766928863
         ],
         "yaxis": "y"
        },
        {
         "hovertemplate": "color=Isleria<br>PCA1=%{x}<br>PCA2=%{y}<extra></extra>",
         "legendgroup": "Isleria",
         "marker": {
          "color": "#FECB52",
          "symbol": "circle"
         },
         "mode": "markers",
         "name": "Isleria",
         "showlegend": true,
         "type": "scattergl",
         "x": [
          -0.9944881233274289,
          -0.19628406159849818
         ],
         "xaxis": "x",
         "y": [
          0.05131126911501975,
          0.027760869781208602
         ],
         "yaxis": "y"
        },
        {
         "hovertemplate": "color=Ixobrychus<br>PCA1=%{x}<br>PCA2=%{y}<extra></extra>",
         "legendgroup": "Ixobrychus",
         "marker": {
          "color": "#636efa",
          "symbol": "circle"
         },
         "mode": "markers",
         "name": "Ixobrychus",
         "showlegend": true,
         "type": "scattergl",
         "x": [
          -0.7742936121836388,
          -1.0538414167166854,
          -1.4519914488409986
         ],
         "xaxis": "x",
         "y": [
          0.030057058764859746,
          0.13449557008623153,
          0.07008966453975363
         ],
         "yaxis": "y"
        },
        {
         "hovertemplate": "color=Jabiru<br>PCA1=%{x}<br>PCA2=%{y}<extra></extra>",
         "legendgroup": "Jabiru",
         "marker": {
          "color": "#EF553B",
          "symbol": "circle"
         },
         "mode": "markers",
         "name": "Jabiru",
         "showlegend": true,
         "type": "scattergl",
         "x": [
          -0.9267729791181828,
          -0.6026796311044066
         ],
         "xaxis": "x",
         "y": [
          0.09137087278065818,
          -0.1216206749294837
         ],
         "yaxis": "y"
        },
        {
         "hovertemplate": "color=Jacamerops<br>PCA1=%{x}<br>PCA2=%{y}<extra></extra>",
         "legendgroup": "Jacamerops",
         "marker": {
          "color": "#00cc96",
          "symbol": "circle"
         },
         "mode": "markers",
         "name": "Jacamerops",
         "showlegend": true,
         "type": "scattergl",
         "x": [
          0.5873631990111625,
          -0.805832596996895,
          -1.3551893375969384
         ],
         "xaxis": "x",
         "y": [
          0.5652167672110329,
          0.05472754417944659,
          0.1093150480959016
         ],
         "yaxis": "y"
        },
        {
         "hovertemplate": "color=Jacana<br>PCA1=%{x}<br>PCA2=%{y}<extra></extra>",
         "legendgroup": "Jacana",
         "marker": {
          "color": "#ab63fa",
          "symbol": "circle"
         },
         "mode": "markers",
         "name": "Jacana",
         "showlegend": true,
         "type": "scattergl",
         "x": [
          -1.2184428276028103
         ],
         "xaxis": "x",
         "y": [
          -0.008625482614142506
         ],
         "yaxis": "y"
        },
        {
         "hovertemplate": "color=Klais<br>PCA1=%{x}<br>PCA2=%{y}<extra></extra>",
         "legendgroup": "Klais",
         "marker": {
          "color": "#FFA15A",
          "symbol": "circle"
         },
         "mode": "markers",
         "name": "Klais",
         "showlegend": true,
         "type": "scattergl",
         "x": [
          -0.14423122522641096
         ],
         "xaxis": "x",
         "y": [
          -0.1797316898706735
         ],
         "yaxis": "y"
        },
        {
         "hovertemplate": "color=Knipolegus<br>PCA1=%{x}<br>PCA2=%{y}<extra></extra>",
         "legendgroup": "Knipolegus",
         "marker": {
          "color": "#19d3f3",
          "symbol": "circle"
         },
         "mode": "markers",
         "name": "Knipolegus",
         "showlegend": true,
         "type": "scattergl",
         "x": [
          -1.4286418240606829,
          -1.2443358055929554,
          -1.3682232511865313,
          1.0091397493582572,
          -0.9005101573069223,
          -0.10810479268136637
         ],
         "xaxis": "x",
         "y": [
          0.079551214253177,
          -0.008109922356741225,
          0.059862269292046445,
          -1.2188598930824142,
          0.027222208009248138,
          -0.10670642915158615
         ],
         "yaxis": "y"
        },
        {
         "hovertemplate": "color=Lamprospiza<br>PCA1=%{x}<br>PCA2=%{y}<extra></extra>",
         "legendgroup": "Lamprospiza",
         "marker": {
          "color": "#FF6692",
          "symbol": "circle"
         },
         "mode": "markers",
         "name": "Lamprospiza",
         "showlegend": true,
         "type": "scattergl",
         "x": [
          2.325659533085001,
          0.46526044313833337
         ],
         "xaxis": "x",
         "y": [
          -0.4635887926988028,
          -0.1439782127255625
         ],
         "yaxis": "y"
        },
        {
         "hovertemplate": "color=Laniisoma<br>PCA1=%{x}<br>PCA2=%{y}<extra></extra>",
         "legendgroup": "Laniisoma",
         "marker": {
          "color": "#B6E880",
          "symbol": "circle"
         },
         "mode": "markers",
         "name": "Laniisoma",
         "showlegend": true,
         "type": "scattergl",
         "x": [
          2.3783916272792425,
          1.1700295625561774
         ],
         "xaxis": "x",
         "y": [
          -0.8495969442903719,
          -0.634886454143367
         ],
         "yaxis": "y"
        },
        {
         "hovertemplate": "color=Lanio<br>PCA1=%{x}<br>PCA2=%{y}<extra></extra>",
         "legendgroup": "Lanio",
         "marker": {
          "color": "#FF97FF",
          "symbol": "circle"
         },
         "mode": "markers",
         "name": "Lanio",
         "showlegend": true,
         "type": "scattergl",
         "x": [
          -0.3969742387141534,
          0.11977281577720796
         ],
         "xaxis": "x",
         "y": [
          -0.008414120272949622,
          -0.19588784931897082
         ],
         "yaxis": "y"
        },
        {
         "hovertemplate": "color=Laniocera<br>PCA1=%{x}<br>PCA2=%{y}<extra></extra>",
         "legendgroup": "Laniocera",
         "marker": {
          "color": "#FECB52",
          "symbol": "circle"
         },
         "mode": "markers",
         "name": "Laniocera",
         "showlegend": true,
         "type": "scattergl",
         "x": [
          1.2342814758964595
         ],
         "xaxis": "x",
         "y": [
          0.07328293569950509
         ],
         "yaxis": "y"
        },
        {
         "hovertemplate": "color=Laterallus<br>PCA1=%{x}<br>PCA2=%{y}<extra></extra>",
         "legendgroup": "Laterallus",
         "marker": {
          "color": "#636efa",
          "symbol": "circle"
         },
         "mode": "markers",
         "name": "Laterallus",
         "showlegend": true,
         "type": "scattergl",
         "x": [
          -1.2027562369354405,
          0.10789778238794537
         ],
         "xaxis": "x",
         "y": [
          0.09227382156639125,
          0.01135295513409296
         ],
         "yaxis": "y"
        },
        {
         "hovertemplate": "color=Lathrotriccus<br>PCA1=%{x}<br>PCA2=%{y}<extra></extra>",
         "legendgroup": "Lathrotriccus",
         "marker": {
          "color": "#EF553B",
          "symbol": "circle"
         },
         "mode": "markers",
         "name": "Lathrotriccus",
         "showlegend": true,
         "type": "scattergl",
         "x": [
          1.2793700642065997,
          0.057193790723885106
         ],
         "xaxis": "x",
         "y": [
          0.10982326284475905,
          -0.028260363389273197
         ],
         "yaxis": "y"
        },
        {
         "hovertemplate": "color=Legatus<br>PCA1=%{x}<br>PCA2=%{y}<extra></extra>",
         "legendgroup": "Legatus",
         "marker": {
          "color": "#00cc96",
          "symbol": "circle"
         },
         "mode": "markers",
         "name": "Legatus",
         "showlegend": true,
         "type": "scattergl",
         "x": [
          1.3242172846805402,
          1.1770028028846136
         ],
         "xaxis": "x",
         "y": [
          -0.376582618944362,
          0.2793899386883458
         ],
         "yaxis": "y"
        },
        {
         "hovertemplate": "color=Leistes<br>PCA1=%{x}<br>PCA2=%{y}<extra></extra>",
         "legendgroup": "Leistes",
         "marker": {
          "color": "#ab63fa",
          "symbol": "circle"
         },
         "mode": "markers",
         "name": "Leistes",
         "showlegend": true,
         "type": "scattergl",
         "x": [
          -0.9378196768092605,
          -0.5012753849065718
         ],
         "xaxis": "x",
         "y": [
          -0.058417151728917587,
          -0.018845278588636483
         ],
         "yaxis": "y"
        },
        {
         "hovertemplate": "color=Lepidocolaptes<br>PCA1=%{x}<br>PCA2=%{y}<extra></extra>",
         "legendgroup": "Lepidocolaptes",
         "marker": {
          "color": "#FFA15A",
          "symbol": "circle"
         },
         "mode": "markers",
         "name": "Lepidocolaptes",
         "showlegend": true,
         "type": "scattergl",
         "x": [
          -1.4699713998375201,
          2.858176081886699,
          0.946165494069946
         ],
         "xaxis": "x",
         "y": [
          0.06280397143765622,
          -0.01490261395084855,
          0.057244506135240195
         ],
         "yaxis": "y"
        },
        {
         "hovertemplate": "color=Lepidothrix<br>PCA1=%{x}<br>PCA2=%{y}<extra></extra>",
         "legendgroup": "Lepidothrix",
         "marker": {
          "color": "#19d3f3",
          "symbol": "circle"
         },
         "mode": "markers",
         "name": "Lepidothrix",
         "showlegend": true,
         "type": "scattergl",
         "x": [
          -0.1774743637521274,
          -1.2071363903392045,
          0.2816882204911714,
          -0.8157455086639935,
          -0.7308494259071028,
          -1.175812534962967,
          2.734940759397313
         ],
         "xaxis": "x",
         "y": [
          -0.1961846776014469,
          -0.01763216146303893,
          -0.08254488772033892,
          0.03873097311672533,
          0.2318153950839686,
          0.03789111812324464,
          0.5839382998511667
         ],
         "yaxis": "y"
        },
        {
         "hovertemplate": "color=Leptodon<br>PCA1=%{x}<br>PCA2=%{y}<extra></extra>",
         "legendgroup": "Leptodon",
         "marker": {
          "color": "#FF6692",
          "symbol": "circle"
         },
         "mode": "markers",
         "name": "Leptodon",
         "showlegend": true,
         "type": "scattergl",
         "x": [
          0.7084172260515016,
          -1.0459878060022427
         ],
         "xaxis": "x",
         "y": [
          -0.6434195186233604,
          0.09611296795092186
         ],
         "yaxis": "y"
        },
        {
         "hovertemplate": "color=Leptopogon<br>PCA1=%{x}<br>PCA2=%{y}<extra></extra>",
         "legendgroup": "Leptopogon",
         "marker": {
          "color": "#B6E880",
          "symbol": "circle"
         },
         "mode": "markers",
         "name": "Leptopogon",
         "showlegend": true,
         "type": "scattergl",
         "x": [
          -1.4127230667410111,
          -1.3967937391973555,
          -0.7725320517669609,
          -1.188015964194779,
          0.25094441231244763,
          0.2859177926862613,
          -0.7502257890204695
         ],
         "xaxis": "x",
         "y": [
          0.08600168680565115,
          0.09245644254043109,
          -0.16800752680851322,
          0.07308275670637046,
          -0.575507490643655,
          -0.05839260136822047,
          0.11761852740219883
         ],
         "yaxis": "y"
        },
        {
         "hovertemplate": "color=Leptosittaca<br>PCA1=%{x}<br>PCA2=%{y}<extra></extra>",
         "legendgroup": "Leptosittaca",
         "marker": {
          "color": "#FF97FF",
          "symbol": "circle"
         },
         "mode": "markers",
         "name": "Leptosittaca",
         "showlegend": true,
         "type": "scattergl",
         "x": [
          -1.1357234529266782,
          -1.268335987861907
         ],
         "xaxis": "x",
         "y": [
          -0.07949810978349174,
          0.0017691994612927034
         ],
         "yaxis": "y"
        },
        {
         "hovertemplate": "color=Leptotila<br>PCA1=%{x}<br>PCA2=%{y}<extra></extra>",
         "legendgroup": "Leptotila",
         "marker": {
          "color": "#FECB52",
          "symbol": "circle"
         },
         "mode": "markers",
         "name": "Leptotila",
         "showlegend": true,
         "type": "scattergl",
         "x": [
          0.6119032940434258,
          0.5812673295228178,
          -0.30184691341856895,
          -0.41098631571982597
         ],
         "xaxis": "x",
         "y": [
          -0.02644166082531348,
          -0.03256492959497557,
          -0.13487520670952255,
          0.07596701258723824
         ],
         "yaxis": "y"
        },
        {
         "hovertemplate": "color=Leucopternis<br>PCA1=%{x}<br>PCA2=%{y}<extra></extra>",
         "legendgroup": "Leucopternis",
         "marker": {
          "color": "#636efa",
          "symbol": "circle"
         },
         "mode": "markers",
         "name": "Leucopternis",
         "showlegend": true,
         "type": "scattergl",
         "x": [
          -1.2090377338339124,
          -0.9478177264673882,
          -0.7298387877583121,
          -0.7642921341334271
         ],
         "xaxis": "x",
         "y": [
          -0.05880926080662514,
          0.15006290966688143,
          -0.026575119738211635,
          -0.06044984927872263
         ],
         "yaxis": "y"
        },
        {
         "hovertemplate": "color=Limnodromus<br>PCA1=%{x}<br>PCA2=%{y}<extra></extra>",
         "legendgroup": "Limnodromus",
         "marker": {
          "color": "#EF553B",
          "symbol": "circle"
         },
         "mode": "markers",
         "name": "Limnodromus",
         "showlegend": true,
         "type": "scattergl",
         "x": [
          1.021010696053916
         ],
         "xaxis": "x",
         "y": [
          0.051795720562267875
         ],
         "yaxis": "y"
        },
        {
         "hovertemplate": "color=Limosa<br>PCA1=%{x}<br>PCA2=%{y}<extra></extra>",
         "legendgroup": "Limosa",
         "marker": {
          "color": "#00cc96",
          "symbol": "circle"
         },
         "mode": "markers",
         "name": "Limosa",
         "showlegend": true,
         "type": "scattergl",
         "x": [
          -0.5414421531685508,
          -0.22227971055363888
         ],
         "xaxis": "x",
         "y": [
          -0.06820655548566695,
          0.0010778195751705852
         ],
         "yaxis": "y"
        },
        {
         "hovertemplate": "color=Liosceles<br>PCA1=%{x}<br>PCA2=%{y}<extra></extra>",
         "legendgroup": "Liosceles",
         "marker": {
          "color": "#ab63fa",
          "symbol": "circle"
         },
         "mode": "markers",
         "name": "Liosceles",
         "showlegend": true,
         "type": "scattergl",
         "x": [
          2.5435467204422326,
          4.9764987446660855,
          -0.9023147790490726
         ],
         "xaxis": "x",
         "y": [
          -1.4827182020417446,
          -0.41754596144206035,
          0.181696094129454
         ],
         "yaxis": "y"
        },
        {
         "hovertemplate": "color=Lochmias<br>PCA1=%{x}<br>PCA2=%{y}<extra></extra>",
         "legendgroup": "Lochmias",
         "marker": {
          "color": "#FFA15A",
          "symbol": "circle"
         },
         "mode": "markers",
         "name": "Lochmias",
         "showlegend": true,
         "type": "scattergl",
         "x": [
          3.549063521801577,
          -0.5309021598129764
         ],
         "xaxis": "x",
         "y": [
          0.301305810249053,
          -0.011291840779015568
         ],
         "yaxis": "y"
        },
        {
         "hovertemplate": "color=Lophornis<br>PCA1=%{x}<br>PCA2=%{y}<extra></extra>",
         "legendgroup": "Lophornis",
         "marker": {
          "color": "#19d3f3",
          "symbol": "circle"
         },
         "mode": "markers",
         "name": "Lophornis",
         "showlegend": true,
         "type": "scattergl",
         "x": [
          -1.346881657172041,
          -1.1726388313296716
         ],
         "xaxis": "x",
         "y": [
          0.04880932682890337,
          0.035417058902227475
         ],
         "yaxis": "y"
        },
        {
         "hovertemplate": "color=Lophostrix<br>PCA1=%{x}<br>PCA2=%{y}<extra></extra>",
         "legendgroup": "Lophostrix",
         "marker": {
          "color": "#FF6692",
          "symbol": "circle"
         },
         "mode": "markers",
         "name": "Lophostrix",
         "showlegend": true,
         "type": "scattergl",
         "x": [
          -0.9978886003709465,
          4.6406543303298164
         ],
         "xaxis": "x",
         "y": [
          -0.09913129131468355,
          -0.23022233360380737
         ],
         "yaxis": "y"
        },
        {
         "hovertemplate": "color=Lophotriccus<br>PCA1=%{x}<br>PCA2=%{y}<extra></extra>",
         "legendgroup": "Lophotriccus",
         "marker": {
          "color": "#B6E880",
          "symbol": "circle"
         },
         "mode": "markers",
         "name": "Lophotriccus",
         "showlegend": true,
         "type": "scattergl",
         "x": [
          -0.7640922487484315,
          -1.3142854612175099,
          -1.3011815330473835
         ],
         "xaxis": "x",
         "y": [
          0.07140520288243574,
          0.04216864597820715,
          0.04666431612770937
         ],
         "yaxis": "y"
        },
        {
         "hovertemplate": "color=Lurocalis<br>PCA1=%{x}<br>PCA2=%{y}<extra></extra>",
         "legendgroup": "Lurocalis",
         "marker": {
          "color": "#FF97FF",
          "symbol": "circle"
         },
         "mode": "markers",
         "name": "Lurocalis",
         "showlegend": true,
         "type": "scattergl",
         "x": [
          -0.4745097854452515,
          -0.6354126094984069,
          -0.9828553753805452,
          -1.2697208458672422,
          -1.432184426205458
         ],
         "xaxis": "x",
         "y": [
          -0.037976825107984606,
          0.1440790096234071,
          0.09093113644843526,
          0.020642812138723116,
          0.04022033768893063
         ],
         "yaxis": "y"
        },
        {
         "hovertemplate": "color=Machaeropterus<br>PCA1=%{x}<br>PCA2=%{y}<extra></extra>",
         "legendgroup": "Machaeropterus",
         "marker": {
          "color": "#FECB52",
          "symbol": "circle"
         },
         "mode": "markers",
         "name": "Machaeropterus",
         "showlegend": true,
         "type": "scattergl",
         "x": [
          0.13180489632090622,
          0.7563152624034568
         ],
         "xaxis": "x",
         "y": [
          0.1231059658921057,
          -0.2962556172380223
         ],
         "yaxis": "y"
        },
        {
         "hovertemplate": "color=Malacoptila<br>PCA1=%{x}<br>PCA2=%{y}<extra></extra>",
         "legendgroup": "Malacoptila",
         "marker": {
          "color": "#636efa",
          "symbol": "circle"
         },
         "mode": "markers",
         "name": "Malacoptila",
         "showlegend": true,
         "type": "scattergl",
         "x": [
          -0.17321164863997052,
          -1.272706360702523,
          -1.3352780691267803,
          -0.4178008835534703,
          0.07644620925313102
         ],
         "xaxis": "x",
         "y": [
          0.02891841081176487,
          0.08149076006156453,
          0.09170235263828877,
          0.03817809751758771,
          0.5662463986609401
         ],
         "yaxis": "y"
        },
        {
         "hovertemplate": "color=Margarornis<br>PCA1=%{x}<br>PCA2=%{y}<extra></extra>",
         "legendgroup": "Margarornis",
         "marker": {
          "color": "#EF553B",
          "symbol": "circle"
         },
         "mode": "markers",
         "name": "Margarornis",
         "showlegend": true,
         "type": "scattergl",
         "x": [
          -0.5352140863753848,
          -0.3125051576290698
         ],
         "xaxis": "x",
         "y": [
          -0.049765660960761904,
          -0.059954417169501006
         ],
         "yaxis": "y"
        },
        {
         "hovertemplate": "color=Mazaria<br>PCA1=%{x}<br>PCA2=%{y}<extra></extra>",
         "legendgroup": "Mazaria",
         "marker": {
          "color": "#00cc96",
          "symbol": "circle"
         },
         "mode": "markers",
         "name": "Mazaria",
         "showlegend": true,
         "type": "scattergl",
         "x": [
          0.221759517242962
         ],
         "xaxis": "x",
         "y": [
          -0.04448753683332629
         ],
         "yaxis": "y"
        },
        {
         "hovertemplate": "color=Mecocerculus<br>PCA1=%{x}<br>PCA2=%{y}<extra></extra>",
         "legendgroup": "Mecocerculus",
         "marker": {
          "color": "#ab63fa",
          "symbol": "circle"
         },
         "mode": "markers",
         "name": "Mecocerculus",
         "showlegend": true,
         "type": "scattergl",
         "x": [
          5.595202481532
         ],
         "xaxis": "x",
         "y": [
          -0.29669757406839364
         ],
         "yaxis": "y"
        },
        {
         "hovertemplate": "color=Megaceryle<br>PCA1=%{x}<br>PCA2=%{y}<extra></extra>",
         "legendgroup": "Megaceryle",
         "marker": {
          "color": "#FFA15A",
          "symbol": "circle"
         },
         "mode": "markers",
         "name": "Megaceryle",
         "showlegend": true,
         "type": "scattergl",
         "x": [
          -0.7583277241921847,
          -1.139620189670386,
          -1.395039082016037
         ],
         "xaxis": "x",
         "y": [
          -0.15944565614861628,
          0.19666626803956658,
          0.09316745080318733
         ],
         "yaxis": "y"
        },
        {
         "hovertemplate": "color=Megarynchus<br>PCA1=%{x}<br>PCA2=%{y}<extra></extra>",
         "legendgroup": "Megarynchus",
         "marker": {
          "color": "#19d3f3",
          "symbol": "circle"
         },
         "mode": "markers",
         "name": "Megarynchus",
         "showlegend": true,
         "type": "scattergl",
         "x": [
          -0.5685097661250661,
          -0.8602045414389077
         ],
         "xaxis": "x",
         "y": [
          0.07143578493436652,
          0.002063879986224229
         ],
         "yaxis": "y"
        },
        {
         "hovertemplate": "color=Megascops<br>PCA1=%{x}<br>PCA2=%{y}<extra></extra>",
         "legendgroup": "Megascops",
         "marker": {
          "color": "#FF6692",
          "symbol": "circle"
         },
         "mode": "markers",
         "name": "Megascops",
         "showlegend": true,
         "type": "scattergl",
         "x": [
          -0.27111073603104324,
          -0.07059322737789114,
          1.3375850429488152,
          1.3079507305533278,
          -1.408420985579586,
          0.21378184486139545
         ],
         "xaxis": "x",
         "y": [
          0.09547114490816236,
          0.13105758300436196,
          0.18195912147006132,
          0.16622101713966528,
          0.08774494200409536,
          0.010708933251619498
         ],
         "yaxis": "y"
        },
        {
         "hovertemplate": "color=Melanerpes<br>PCA1=%{x}<br>PCA2=%{y}<extra></extra>",
         "legendgroup": "Melanerpes",
         "marker": {
          "color": "#B6E880",
          "symbol": "circle"
         },
         "mode": "markers",
         "name": "Melanerpes",
         "showlegend": true,
         "type": "scattergl",
         "x": [
          -0.27924128599167325,
          -1.3033024049975537,
          -1.4135331728386085
         ],
         "xaxis": "x",
         "y": [
          0.1839659803783189,
          0.029002757699520626,
          0.05127292010802555
         ],
         "yaxis": "y"
        },
        {
         "hovertemplate": "color=Mesembrinibis<br>PCA1=%{x}<br>PCA2=%{y}<extra></extra>",
         "legendgroup": "Mesembrinibis",
         "marker": {
          "color": "#FF97FF",
          "symbol": "circle"
         },
         "mode": "markers",
         "name": "Mesembrinibis",
         "showlegend": true,
         "type": "scattergl",
         "x": [
          0.08462677352246796,
          0.21606463658317118
         ],
         "xaxis": "x",
         "y": [
          -0.2602065253937328,
          0.19147784140713864
         ],
         "yaxis": "y"
        },
        {
         "hovertemplate": "color=Metallura<br>PCA1=%{x}<br>PCA2=%{y}<extra></extra>",
         "legendgroup": "Metallura",
         "marker": {
          "color": "#FECB52",
          "symbol": "circle"
         },
         "mode": "markers",
         "name": "Metallura",
         "showlegend": true,
         "type": "scattergl",
         "x": [
          -0.6629158844690519
         ],
         "xaxis": "x",
         "y": [
          -0.34381159560452407
         ],
         "yaxis": "y"
        },
        {
         "hovertemplate": "color=Metopothrix<br>PCA1=%{x}<br>PCA2=%{y}<extra></extra>",
         "legendgroup": "Metopothrix",
         "marker": {
          "color": "#636efa",
          "symbol": "circle"
         },
         "mode": "markers",
         "name": "Metopothrix",
         "showlegend": true,
         "type": "scattergl",
         "x": [
          -0.3513055233531557,
          -0.3731961968632381,
          0.15464989657947492
         ],
         "xaxis": "x",
         "y": [
          -0.30377141783192396,
          0.10780673767393564,
          -0.036928848011299864
         ],
         "yaxis": "y"
        },
        {
         "hovertemplate": "color=Metriopelia<br>PCA1=%{x}<br>PCA2=%{y}<extra></extra>",
         "legendgroup": "Metriopelia",
         "marker": {
          "color": "#EF553B",
          "symbol": "circle"
         },
         "mode": "markers",
         "name": "Metriopelia",
         "showlegend": true,
         "type": "scattergl",
         "x": [
          -1.3772493950512246,
          -1.0225057224641216
         ],
         "xaxis": "x",
         "y": [
          0.10037604662378095,
          -0.015090469271391772
         ],
         "yaxis": "y"
        },
        {
         "hovertemplate": "color=Micrastur<br>PCA1=%{x}<br>PCA2=%{y}<extra></extra>",
         "legendgroup": "Micrastur",
         "marker": {
          "color": "#00cc96",
          "symbol": "circle"
         },
         "mode": "markers",
         "name": "Micrastur",
         "showlegend": true,
         "type": "scattergl",
         "x": [
          -0.08192413211961504,
          0.9598804251936364,
          -0.5713318189171236,
          0.47615261498084743,
          -0.7192291983112623,
          -0.09610543597689816,
          -1.2788339712801937,
          3.4322772040521707,
          0.8078606186062521,
          3.1289410076118602,
          0.40606012824547955,
          -0.011589641165413568,
          -0.7838334511746341,
          -1.1489175297303376,
          0.570613469571558
         ],
         "xaxis": "x",
         "y": [
          0.0425965480575857,
          0.1593216724772773,
          -0.0951902808421709,
          0.04697268494924542,
          0.023290319887323364,
          0.17733169850468888,
          0.06614948780046709,
          0.3339508255265433,
          0.03413563069667526,
          -0.18390987958367053,
          -0.5679229874662101,
          0.06711137916202625,
          0.01711029082044658,
          0.03099840562457444,
          -0.0279338809148508
         ],
         "yaxis": "y"
        },
        {
         "hovertemplate": "color=Microbates<br>PCA1=%{x}<br>PCA2=%{y}<extra></extra>",
         "legendgroup": "Microbates",
         "marker": {
          "color": "#ab63fa",
          "symbol": "circle"
         },
         "mode": "markers",
         "name": "Microbates",
         "showlegend": true,
         "type": "scattergl",
         "x": [
          -0.05165918677628502,
          -0.3252592741779251
         ],
         "xaxis": "x",
         "y": [
          0.024207838810476764,
          0.07634020783210196
         ],
         "yaxis": "y"
        },
        {
         "hovertemplate": "color=Microcerculus<br>PCA1=%{x}<br>PCA2=%{y}<extra></extra>",
         "legendgroup": "Microcerculus",
         "marker": {
          "color": "#FFA15A",
          "symbol": "circle"
         },
         "mode": "markers",
         "name": "Microcerculus",
         "showlegend": true,
         "type": "scattergl",
         "x": [
          -0.759165959034853,
          -1.3341715716765112,
          -0.9941803533812574,
          -1.3923331046761724
         ],
         "xaxis": "x",
         "y": [
          0.03692201832754601,
          0.05253378995841107,
          0.034060740774042565,
          0.09426394547346173
         ],
         "yaxis": "y"
        },
        {
         "hovertemplate": "color=Micromonacha<br>PCA1=%{x}<br>PCA2=%{y}<extra></extra>",
         "legendgroup": "Micromonacha",
         "marker": {
          "color": "#19d3f3",
          "symbol": "circle"
         },
         "mode": "markers",
         "name": "Micromonacha",
         "showlegend": true,
         "type": "scattergl",
         "x": [
          -1.502147161644347,
          -1.3647236796303672
         ],
         "xaxis": "x",
         "y": [
          0.04976596449892347,
          0.10545161765610629
         ],
         "yaxis": "y"
        },
        {
         "hovertemplate": "color=Micropygia<br>PCA1=%{x}<br>PCA2=%{y}<extra></extra>",
         "legendgroup": "Micropygia",
         "marker": {
          "color": "#FF6692",
          "symbol": "circle"
         },
         "mode": "markers",
         "name": "Micropygia",
         "showlegend": true,
         "type": "scattergl",
         "x": [
          -0.9429147789238651,
          1.1698298700577954,
          1.547136690468411,
          0.4717423882350624
         ],
         "xaxis": "x",
         "y": [
          0.04220735562611984,
          -0.1976182107331238,
          -0.1524587447762267,
          0.4004262704809513
         ],
         "yaxis": "y"
        },
        {
         "hovertemplate": "color=Microrhopias<br>PCA1=%{x}<br>PCA2=%{y}<extra></extra>",
         "legendgroup": "Microrhopias",
         "marker": {
          "color": "#B6E880",
          "symbol": "circle"
         },
         "mode": "markers",
         "name": "Microrhopias",
         "showlegend": true,
         "type": "scattergl",
         "x": [
          0.9245002529917504,
          0.6390097986736866
         ],
         "xaxis": "x",
         "y": [
          -0.14511794834286343,
          0.0012117850486781318
         ],
         "yaxis": "y"
        },
        {
         "hovertemplate": "color=Microxenops<br>PCA1=%{x}<br>PCA2=%{y}<extra></extra>",
         "legendgroup": "Microxenops",
         "marker": {
          "color": "#FF97FF",
          "symbol": "circle"
         },
         "mode": "markers",
         "name": "Microxenops",
         "showlegend": true,
         "type": "scattergl",
         "x": [
          -1.497485692867471,
          -0.8138337829834063
         ],
         "xaxis": "x",
         "y": [
          0.051654847895763405,
          -0.0009856249315041876
         ],
         "yaxis": "y"
        },
        {
         "hovertemplate": "color=Milvago<br>PCA1=%{x}<br>PCA2=%{y}<extra></extra>",
         "legendgroup": "Milvago",
         "marker": {
          "color": "#FECB52",
          "symbol": "circle"
         },
         "mode": "markers",
         "name": "Milvago",
         "showlegend": true,
         "type": "scattergl",
         "x": [
          3.6906283726402127,
          0.05784052665512129,
          -1.4968197687564886,
          -1.4118880190462872,
          -1.4589889371183045
         ],
         "xaxis": "x",
         "y": [
          0.7315915762433982,
          0.11190869655004082,
          0.05192468838102632,
          0.08634005820780608,
          0.0672541978533406
         ],
         "yaxis": "y"
        },
        {
         "hovertemplate": "color=Mimus<br>PCA1=%{x}<br>PCA2=%{y}<extra></extra>",
         "legendgroup": "Mimus",
         "marker": {
          "color": "#636efa",
          "symbol": "circle"
         },
         "mode": "markers",
         "name": "Mimus",
         "showlegend": true,
         "type": "scattergl",
         "x": [
          -0.9797202534254391,
          -1.187342991344506,
          -0.18701916250211958
         ],
         "xaxis": "x",
         "y": [
          0.13168287519949912,
          0.12218284321621534,
          0.07123484047624228
         ],
         "yaxis": "y"
        },
        {
         "hovertemplate": "color=Mionectes<br>PCA1=%{x}<br>PCA2=%{y}<extra></extra>",
         "legendgroup": "Mionectes",
         "marker": {
          "color": "#EF553B",
          "symbol": "circle"
         },
         "mode": "markers",
         "name": "Mionectes",
         "showlegend": true,
         "type": "scattergl",
         "x": [
          -0.6442371134102117,
          3.0871609031425553,
          0.254827020876243,
          0.24305483298304897,
          -0.2063205787906549,
          -0.17607445022185095,
          0.38621757999793094,
          0.3823213434344322
         ],
         "xaxis": "x",
         "y": [
          0.02872330066578435,
          -0.18474530152974658,
          0.19135041054510107,
          -0.081764468723441,
          -0.020058820442771717,
          -0.1889198288474356,
          -0.1506001395907521,
          -0.5266887474092122
         ],
         "yaxis": "y"
        },
        {
         "hovertemplate": "color=Mitu<br>PCA1=%{x}<br>PCA2=%{y}<extra></extra>",
         "legendgroup": "Mitu",
         "marker": {
          "color": "#00cc96",
          "symbol": "circle"
         },
         "mode": "markers",
         "name": "Mitu",
         "showlegend": true,
         "type": "scattergl",
         "x": [
          1.331872612717837,
          2.2602680890579268
         ],
         "xaxis": "x",
         "y": [
          0.11975514982313341,
          0.8928489320056577
         ],
         "yaxis": "y"
        },
        {
         "hovertemplate": "color=Molothrus<br>PCA1=%{x}<br>PCA2=%{y}<extra></extra>",
         "legendgroup": "Molothrus",
         "marker": {
          "color": "#ab63fa",
          "symbol": "circle"
         },
         "mode": "markers",
         "name": "Molothrus",
         "showlegend": true,
         "type": "scattergl",
         "x": [
          8.499863148079946,
          0.10300442651921946,
          0.3097050576350997,
          -1.3690972988740728,
          -1.3676946984793368
         ],
         "xaxis": "x",
         "y": [
          -1.0434119233893575,
          -0.2532030187941104,
          -0.411736209771893,
          0.06323734587670897,
          0.04257148083243161
         ],
         "yaxis": "y"
        },
        {
         "hovertemplate": "color=Momotus<br>PCA1=%{x}<br>PCA2=%{y}<extra></extra>",
         "legendgroup": "Momotus",
         "marker": {
          "color": "#FFA15A",
          "symbol": "circle"
         },
         "mode": "markers",
         "name": "Momotus",
         "showlegend": true,
         "type": "scattergl",
         "x": [
          -0.6984664411137536,
          -0.6530617086173152,
          -0.8086672196883686,
          0.19157028474481613,
          -0.5554242047967126
         ],
         "xaxis": "x",
         "y": [
          -0.02252622085236284,
          -0.3519097051639841,
          0.11458260254421121,
          -0.6409150283585381,
          -0.22310123517197508
         ],
         "yaxis": "y"
        },
        {
         "hovertemplate": "color=Monasa<br>PCA1=%{x}<br>PCA2=%{y}<extra></extra>",
         "legendgroup": "Monasa",
         "marker": {
          "color": "#19d3f3",
          "symbol": "circle"
         },
         "mode": "markers",
         "name": "Monasa",
         "showlegend": true,
         "type": "scattergl",
         "x": [
          0.6349242153021036,
          -0.982106976518599,
          -1.0293741793337248,
          -0.10414560714620452,
          -1.1665888452577855,
          -1.0610643729373743
         ],
         "xaxis": "x",
         "y": [
          0.5417276311081064,
          0.017371710255816877,
          0.0024593305729546356,
          -0.07492102733733805,
          0.003447873972464758,
          0.022343163466612546
         ],
         "yaxis": "y"
        },
        {
         "hovertemplate": "color=Morphnus<br>PCA1=%{x}<br>PCA2=%{y}<extra></extra>",
         "legendgroup": "Morphnus",
         "marker": {
          "color": "#FF6692",
          "symbol": "circle"
         },
         "mode": "markers",
         "name": "Morphnus",
         "showlegend": true,
         "type": "scattergl",
         "x": [
          -1.4530307098430515
         ],
         "xaxis": "x",
         "y": [
          0.04147576164983737
         ],
         "yaxis": "y"
        },
        {
         "hovertemplate": "color=Myadestes<br>PCA1=%{x}<br>PCA2=%{y}<extra></extra>",
         "legendgroup": "Myadestes",
         "marker": {
          "color": "#B6E880",
          "symbol": "circle"
         },
         "mode": "markers",
         "name": "Myadestes",
         "showlegend": true,
         "type": "scattergl",
         "x": [
          0.37857685522228907,
          -0.38187079442404886,
          0.5751181934904258
         ],
         "xaxis": "x",
         "y": [
          -0.37554122693841957,
          -0.14439902938406426,
          -0.5793352230586066
         ],
         "yaxis": "y"
        },
        {
         "hovertemplate": "color=Mycteria<br>PCA1=%{x}<br>PCA2=%{y}<extra></extra>",
         "legendgroup": "Mycteria",
         "marker": {
          "color": "#FF97FF",
          "symbol": "circle"
         },
         "mode": "markers",
         "name": "Mycteria",
         "showlegend": true,
         "type": "scattergl",
         "x": [
          -1.205981262996022,
          -0.8663131348444206,
          10.219601030280447
         ],
         "xaxis": "x",
         "y": [
          -0.0523059508200684,
          -0.0681198823133672,
          -1.271453420020926
         ],
         "yaxis": "y"
        },
        {
         "hovertemplate": "color=Myiarchus<br>PCA1=%{x}<br>PCA2=%{y}<extra></extra>",
         "legendgroup": "Myiarchus",
         "marker": {
          "color": "#FECB52",
          "symbol": "circle"
         },
         "mode": "markers",
         "name": "Myiarchus",
         "showlegend": true,
         "type": "scattergl",
         "x": [
          -0.6439175713144994,
          -0.6386378952551485,
          -0.8737437270658819,
          0.09866104100259816,
          0.648117479150464,
          1.0657357531286078,
          -0.2606646638686163,
          -0.22841226152836938,
          0.22427106946564085,
          1.6610837976223418,
          -0.6750836922970772,
          -0.9699664384930753,
          -1.019303842996951,
          0.6032021722668252,
          0.45857024774923727,
          -0.7651099615502285
         ],
         "xaxis": "x",
         "y": [
          -0.12443747779509004,
          -0.14457000316383428,
          0.0679826477688898,
          0.05102703932469577,
          -0.04080897485834906,
          -0.14107312205029304,
          -0.029687353716469096,
          -0.23710367190289214,
          0.033467335515534956,
          0.26625681660773304,
          -0.0033060448913366037,
          0.016608359687517067,
          0.06356309262199773,
          -0.17103956547422264,
          0.18950626475249102,
          -0.06760554633818654
         ],
         "yaxis": "y"
        },
        {
         "hovertemplate": "color=Myiobius<br>PCA1=%{x}<br>PCA2=%{y}<extra></extra>",
         "legendgroup": "Myiobius",
         "marker": {
          "color": "#636efa",
          "symbol": "circle"
         },
         "mode": "markers",
         "name": "Myiobius",
         "showlegend": true,
         "type": "scattergl",
         "x": [
          0.2482595913381147,
          -1.3741840300959092,
          0.787913723430824,
          -0.44690431225498395,
          -1.1577890506624602,
          -1.3124814613506548,
          -0.9406963528817405,
          2.356366170327043,
          -0.24779209567373994,
          -0.26817449192456216,
          -1.393812936033911
         ],
         "xaxis": "x",
         "y": [
          0.07082145975838457,
          0.10161816949245125,
          -0.11878022869011073,
          -0.030690964825970987,
          0.10621537042101656,
          0.11729910487135005,
          0.06535948570417136,
          0.8789729711018195,
          0.05914088415306997,
          0.17494368009026515,
          0.09366429995065534
         ],
         "yaxis": "y"
        },
        {
         "hovertemplate": "color=Myioborus<br>PCA1=%{x}<br>PCA2=%{y}<extra></extra>",
         "legendgroup": "Myioborus",
         "marker": {
          "color": "#EF553B",
          "symbol": "circle"
         },
         "mode": "markers",
         "name": "Myioborus",
         "showlegend": true,
         "type": "scattergl",
         "x": [
          -0.5698503381939988,
          0.2969795731968696,
          0.11410272433889079,
          -0.0781234909937894,
          0.30409723160595137,
          -0.14426340939988616
         ],
         "xaxis": "x",
         "y": [
          0.07845560073523264,
          -0.06352038495596071,
          0.1794438434445499,
          0.044565417320043134,
          0.07688435089155152,
          0.044684561045943046
         ],
         "yaxis": "y"
        },
        {
         "hovertemplate": "color=Myiodynastes<br>PCA1=%{x}<br>PCA2=%{y}<extra></extra>",
         "legendgroup": "Myiodynastes",
         "marker": {
          "color": "#00cc96",
          "symbol": "circle"
         },
         "mode": "markers",
         "name": "Myiodynastes",
         "showlegend": true,
         "type": "scattergl",
         "x": [
          -0.15107610127792476,
          -0.3195002012560206,
          -1.476608282607427,
          -0.27106329592672174,
          -1.3627153370734364,
          -0.6367287295259051,
          1.8575605586586281,
          -1.2205275618809215,
          -0.7444622094451626,
          -0.10189471664386342
         ],
         "xaxis": "x",
         "y": [
          -0.17979623447768264,
          -0.1212472050767287,
          0.03906992275403269,
          -0.09320247667470503,
          0.1062654222942006,
          0.002426328388770732,
          0.0858154133430029,
          0.007768683455981743,
          -0.006250195186137606,
          0.1138246673277655
         ],
         "yaxis": "y"
        },
        {
         "hovertemplate": "color=Myiopagis<br>PCA1=%{x}<br>PCA2=%{y}<extra></extra>",
         "legendgroup": "Myiopagis",
         "marker": {
          "color": "#ab63fa",
          "symbol": "circle"
         },
         "mode": "markers",
         "name": "Myiopagis",
         "showlegend": true,
         "type": "scattergl",
         "x": [
          0.09871547312193293,
          0.8950642570386074,
          1.3130796687641881,
          -1.4395348491837927,
          -0.17958465194679837,
          -0.21452782354220967,
          1.327734428715797,
          0.005983945645069677,
          4.846072599378603,
          -1.4954139289666373,
          1.272404600156956,
          0.3577517544043422,
          -1.3891514672570349,
          0.11842421150846677
         ],
         "xaxis": "x",
         "y": [
          0.1081089965077066,
          0.03449560194319889,
          -0.15686772675402455,
          0.051273126265200926,
          0.018867380745002816,
          -0.0005054444745484357,
          -0.20195784249574397,
          0.07165616519641883,
          0.45860782246727994,
          0.05249435162769252,
          -0.23000021649989513,
          -0.32130097495758725,
          0.09555318334749549,
          0.22235455241483632
         ],
         "yaxis": "y"
        },
        {
         "hovertemplate": "color=Myiophobus<br>PCA1=%{x}<br>PCA2=%{y}<extra></extra>",
         "legendgroup": "Myiophobus",
         "marker": {
          "color": "#FFA15A",
          "symbol": "circle"
         },
         "mode": "markers",
         "name": "Myiophobus",
         "showlegend": true,
         "type": "scattergl",
         "x": [
          -0.4557681369523204,
          -1.206075742350875,
          -0.35922508969751504,
          -1.3727931195771979
         ],
         "xaxis": "x",
         "y": [
          0.07078951670086422,
          0.08673675205074878,
          0.016061583870988733,
          0.06497176638673419
         ],
         "yaxis": "y"
        },
        {
         "hovertemplate": "color=Myiornis<br>PCA1=%{x}<br>PCA2=%{y}<extra></extra>",
         "legendgroup": "Myiornis",
         "marker": {
          "color": "#19d3f3",
          "symbol": "circle"
         },
         "mode": "markers",
         "name": "Myiornis",
         "showlegend": true,
         "type": "scattergl",
         "x": [
          0.23383836662447952,
          0.1267811726098208,
          -1.3274153527114794
         ],
         "xaxis": "x",
         "y": [
          -0.14935249840482875,
          0.3791094002472121,
          0.08030996874581817
         ],
         "yaxis": "y"
        },
        {
         "hovertemplate": "color=Myiotheretes<br>PCA1=%{x}<br>PCA2=%{y}<extra></extra>",
         "legendgroup": "Myiotheretes",
         "marker": {
          "color": "#FF6692",
          "symbol": "circle"
         },
         "mode": "markers",
         "name": "Myiotheretes",
         "showlegend": true,
         "type": "scattergl",
         "x": [
          -0.32707435162864,
          0.37970548306533286,
          0.1625595472048964,
          -1.4441166319730334,
          -0.811236172575104,
          -0.36572687553060773
         ],
         "xaxis": "x",
         "y": [
          -0.07542106449748127,
          -0.5326940808134052,
          0.01569824103615877,
          0.07328063535754455,
          0.012234969126777531,
          -0.22561677797900184
         ],
         "yaxis": "y"
        },
        {
         "hovertemplate": "color=Myiothlypis<br>PCA1=%{x}<br>PCA2=%{y}<extra></extra>",
         "legendgroup": "Myiothlypis",
         "marker": {
          "color": "#B6E880",
          "symbol": "circle"
         },
         "mode": "markers",
         "name": "Myiothlypis",
         "showlegend": true,
         "type": "scattergl",
         "x": [
          -0.3756364927617764,
          -0.4964478912964657,
          -1.1119603583545852,
          -0.1198111065660617,
          -0.5803696225127993,
          2.883932334185333,
          -0.6139560541644257,
          -0.8792871230441959,
          -1.2414625970133664,
          -0.5685601982157698,
          1.4551166010697762,
          -0.7455721788847767,
          -1.1896079927494971,
          1.0387347300854477,
          -1.0872833919271803
         ],
         "xaxis": "x",
         "y": [
          -0.046168133367219914,
          0.09887263762655144,
          0.11202842985046485,
          0.15539056030371634,
          -0.02879972033128379,
          0.13318395897861965,
          -0.0064197079221149245,
          0.0007902490994623798,
          0.017922716348972762,
          -0.047444697193870886,
          -0.3876534358721826,
          0.045202246161347125,
          0.07811312450941925,
          -0.04902403658072197,
          0.032000968469160035
         ],
         "yaxis": "y"
        },
        {
         "hovertemplate": "color=Myiotriccus<br>PCA1=%{x}<br>PCA2=%{y}<extra></extra>",
         "legendgroup": "Myiotriccus",
         "marker": {
          "color": "#FF97FF",
          "symbol": "circle"
         },
         "mode": "markers",
         "name": "Myiotriccus",
         "showlegend": true,
         "type": "scattergl",
         "x": [
          1.0685641595866409,
          -0.7666560986532422,
          0.723537599761882,
          3.3575618149984594
         ],
         "xaxis": "x",
         "y": [
          0.013638578419356132,
          0.04892802001372971,
          0.08153983754131662,
          -0.040494419167579024
         ],
         "yaxis": "y"
        },
        {
         "hovertemplate": "color=Myiozetetes<br>PCA1=%{x}<br>PCA2=%{y}<extra></extra>",
         "legendgroup": "Myiozetetes",
         "marker": {
          "color": "#FECB52",
          "symbol": "circle"
         },
         "mode": "markers",
         "name": "Myiozetetes",
         "showlegend": true,
         "type": "scattergl",
         "x": [
          -0.598436789055714,
          -1.1816692681761574,
          1.3248035008675336,
          0.29608783133023775,
          0.5256572975574998,
          1.6389766023208487,
          0.7519024665931973,
          -0.9733914328306549,
          -1.1803543288014753,
          -0.8375620238266694,
          1.508175855122756
         ],
         "xaxis": "x",
         "y": [
          -0.10535102071963054,
          0.1048628295456644,
          -0.03632173312969758,
          0.030309793025488075,
          -0.05848021299677747,
          -0.037860457888136766,
          -0.62423199969356,
          -0.10232809204422096,
          0.03292624194447712,
          -0.1204454454340105,
          -0.07025007289029798
         ],
         "yaxis": "y"
        },
        {
         "hovertemplate": "color=Myrmelastes<br>PCA1=%{x}<br>PCA2=%{y}<extra></extra>",
         "legendgroup": "Myrmelastes",
         "marker": {
          "color": "#636efa",
          "symbol": "circle"
         },
         "mode": "markers",
         "name": "Myrmelastes",
         "showlegend": true,
         "type": "scattergl",
         "x": [
          0.11072586435111163,
          -1.0467973576260006,
          -0.39613182838047234,
          -0.06585970714330575,
          0.4752295738808974,
          -1.21722750102758,
          -0.9394828428880817,
          1.67465648480549,
          -1.3709706820048202,
          -1.5159835848392011
         ],
         "xaxis": "x",
         "y": [
          -0.06822039899869323,
          0.08340470706449306,
          0.36060378148993966,
          0.13062793648364132,
          -0.3327458173348883,
          0.04491156908116892,
          0.08744873495593879,
          -0.17045040751363452,
          0.10292025691340224,
          0.04415927886068385
         ],
         "yaxis": "y"
        },
        {
         "hovertemplate": "color=Myrmoborus<br>PCA1=%{x}<br>PCA2=%{y}<extra></extra>",
         "legendgroup": "Myrmoborus",
         "marker": {
          "color": "#EF553B",
          "symbol": "circle"
         },
         "mode": "markers",
         "name": "Myrmoborus",
         "showlegend": true,
         "type": "scattergl",
         "x": [
          -1.0588095650898384,
          0.9181942382882805,
          -1.1393681550038697,
          -0.11475870251867361,
          -0.013476538007679822,
          -0.7091447721038634
         ],
         "xaxis": "x",
         "y": [
          0.1278442281263598,
          0.2078946665859474,
          0.06486741326713234,
          -0.006239141967773943,
          0.0923620621279515,
          0.004070584100316031
         ],
         "yaxis": "y"
        },
        {
         "hovertemplate": "color=Myrmophylax<br>PCA1=%{x}<br>PCA2=%{y}<extra></extra>",
         "legendgroup": "Myrmophylax",
         "marker": {
          "color": "#00cc96",
          "symbol": "circle"
         },
         "mode": "markers",
         "name": "Myrmophylax",
         "showlegend": true,
         "type": "scattergl",
         "x": [
          0.20253362882314027,
          -0.9645014710658927,
          -1.2243512382480537
         ],
         "xaxis": "x",
         "y": [
          -0.010828221563021372,
          0.0992239271522714,
          0.07733016858828635
         ],
         "yaxis": "y"
        },
        {
         "hovertemplate": "color=Myrmothera<br>PCA1=%{x}<br>PCA2=%{y}<extra></extra>",
         "legendgroup": "Myrmothera",
         "marker": {
          "color": "#ab63fa",
          "symbol": "circle"
         },
         "mode": "markers",
         "name": "Myrmothera",
         "showlegend": true,
         "type": "scattergl",
         "x": [
          1.414224201308278,
          -0.2824950401557692,
          -0.5522116715636499
         ],
         "xaxis": "x",
         "y": [
          0.046522836610727536,
          0.028875368305765474,
          0.03424455770632258
         ],
         "yaxis": "y"
        },
        {
         "hovertemplate": "color=Myrmotherula<br>PCA1=%{x}<br>PCA2=%{y}<extra></extra>",
         "legendgroup": "Myrmotherula",
         "marker": {
          "color": "#FFA15A",
          "symbol": "circle"
         },
         "mode": "markers",
         "name": "Myrmotherula",
         "showlegend": true,
         "type": "scattergl",
         "x": [
          -0.9549461547181555,
          -0.258676115667357,
          0.01087374602988687,
          -0.9656322291756048,
          0.9979328083318445,
          1.80846737213175,
          0.9893847007424088,
          -0.9356785878207271,
          -0.18038881793415576,
          2.705677193285876,
          1.5369170907650886,
          2.073393877939847,
          2.6785778454945195,
          0.018664921064230285,
          0.704611374370542,
          -1.0163485865593658,
          -1.4120486211689955,
          0.4699636836023636,
          -0.9903064141226089,
          -0.5326787793997201,
          2.6473991302031465,
          -1.04002433687026,
          0.011056907779913378,
          3.4664732534459683,
          -0.4441517453494252,
          2.6508025858933926,
          -0.8292633578790328,
          -0.7753321384847219,
          0.26474580054376606,
          -0.4834388782675169,
          1.8991610461102877
         ],
         "xaxis": "x",
         "y": [
          0.004873229335265897,
          0.08280702793361597,
          0.04861233163611005,
          0.04571679524077084,
          -0.04254650045189068,
          -0.9938018338632777,
          0.09970519705562667,
          0.025988644976698033,
          0.163408494113947,
          0.5539802092591106,
          0.2044074467081929,
          0.5981629167179108,
          -0.1996532963396912,
          0.429115334543094,
          0.4377500471472006,
          0.09348955375759552,
          0.031052816616290432,
          -0.04747512675000334,
          0.05986401131143056,
          0.12463787742044581,
          -0.06142991794116308,
          0.03010206392477625,
          -0.4045544725021354,
          -0.5882774653870413,
          -0.025324341570818386,
          -0.9075568506241068,
          0.0064311115217376025,
          -0.21688210914811296,
          -0.5486067255775363,
          -0.08618689165681154,
          -0.17306549549099037
         ],
         "yaxis": "y"
        },
        {
         "hovertemplate": "color=Nannopsittaca<br>PCA1=%{x}<br>PCA2=%{y}<extra></extra>",
         "legendgroup": "Nannopsittaca",
         "marker": {
          "color": "#19d3f3",
          "symbol": "circle"
         },
         "mode": "markers",
         "name": "Nannopsittaca",
         "showlegend": true,
         "type": "scattergl",
         "x": [
          -0.5436809480904573,
          -1.5406650578414811
         ],
         "xaxis": "x",
         "y": [
          0.15280310752171328,
          0.034158048176734804
         ],
         "yaxis": "y"
        },
        {
         "hovertemplate": "color=Nasica<br>PCA1=%{x}<br>PCA2=%{y}<extra></extra>",
         "legendgroup": "Nasica",
         "marker": {
          "color": "#FF6692",
          "symbol": "circle"
         },
         "mode": "markers",
         "name": "Nasica",
         "showlegend": true,
         "type": "scattergl",
         "x": [
          -1.3550992114526725
         ],
         "xaxis": "x",
         "y": [
          0.03756299928561834
         ],
         "yaxis": "y"
        },
        {
         "hovertemplate": "color=Nemosia<br>PCA1=%{x}<br>PCA2=%{y}<extra></extra>",
         "legendgroup": "Nemosia",
         "marker": {
          "color": "#B6E880",
          "symbol": "circle"
         },
         "mode": "markers",
         "name": "Nemosia",
         "showlegend": true,
         "type": "scattergl",
         "x": [
          -1.301519318675792,
          0.2738430797089778,
          -1.2235266276541543
         ],
         "xaxis": "x",
         "y": [
          -0.04063065986197851,
          -0.07082860210675489,
          0.16266636689644542
         ],
         "yaxis": "y"
        },
        {
         "hovertemplate": "color=Neoctantes<br>PCA1=%{x}<br>PCA2=%{y}<extra></extra>",
         "legendgroup": "Neoctantes",
         "marker": {
          "color": "#FF97FF",
          "symbol": "circle"
         },
         "mode": "markers",
         "name": "Neoctantes",
         "showlegend": true,
         "type": "scattergl",
         "x": [
          -0.28927019564679807,
          -0.36406426286514504,
          0.4557247885712676,
          -1.5233933118518772
         ],
         "xaxis": "x",
         "y": [
          -0.06403297427462772,
          -0.042404264014654594,
          -0.08000216365933609,
          0.04115676806434626
         ],
         "yaxis": "y"
        },
        {
         "hovertemplate": "color=Neomorphus<br>PCA1=%{x}<br>PCA2=%{y}<extra></extra>",
         "legendgroup": "Neomorphus",
         "marker": {
          "color": "#FECB52",
          "symbol": "circle"
         },
         "mode": "markers",
         "name": "Neomorphus",
         "showlegend": true,
         "type": "scattergl",
         "x": [
          -0.7758543785479953
         ],
         "xaxis": "x",
         "y": [
          -0.05559954539082029
         ],
         "yaxis": "y"
        },
        {
         "hovertemplate": "color=Neopelma<br>PCA1=%{x}<br>PCA2=%{y}<extra></extra>",
         "legendgroup": "Neopelma",
         "marker": {
          "color": "#636efa",
          "symbol": "circle"
         },
         "mode": "markers",
         "name": "Neopelma",
         "showlegend": true,
         "type": "scattergl",
         "x": [
          -0.4331478249841486,
          0.20979537396942555,
          -0.9982506231901015
         ],
         "xaxis": "x",
         "y": [
          -0.11019547379954062,
          0.04463438748950801,
          0.01630528495920053
         ],
         "yaxis": "y"
        },
        {
         "hovertemplate": "color=Neopipo<br>PCA1=%{x}<br>PCA2=%{y}<extra></extra>",
         "legendgroup": "Neopipo",
         "marker": {
          "color": "#EF553B",
          "symbol": "circle"
         },
         "mode": "markers",
         "name": "Neopipo",
         "showlegend": true,
         "type": "scattergl",
         "x": [
          -0.8653036416980964,
          0.07574094130084613
         ],
         "xaxis": "x",
         "y": [
          0.06953060248403645,
          0.07762004854677136
         ],
         "yaxis": "y"
        },
        {
         "hovertemplate": "color=Nephelomyias<br>PCA1=%{x}<br>PCA2=%{y}<extra></extra>",
         "legendgroup": "Nephelomyias",
         "marker": {
          "color": "#00cc96",
          "symbol": "circle"
         },
         "mode": "markers",
         "name": "Nephelomyias",
         "showlegend": true,
         "type": "scattergl",
         "x": [
          -0.45446130827750636,
          -1.0949831628970246
         ],
         "xaxis": "x",
         "y": [
          0.09405725220783914,
          0.0784789506611527
         ],
         "yaxis": "y"
        },
        {
         "hovertemplate": "color=Netta<br>PCA1=%{x}<br>PCA2=%{y}<extra></extra>",
         "legendgroup": "Netta",
         "marker": {
          "color": "#ab63fa",
          "symbol": "circle"
         },
         "mode": "markers",
         "name": "Netta",
         "showlegend": true,
         "type": "scattergl",
         "x": [
          -1.3093715603017688,
          -0.8828481271071223,
          -1.3004006736578682
         ],
         "xaxis": "x",
         "y": [
          0.09971302381209048,
          0.07148272278215898,
          0.09544032811531472
         ],
         "yaxis": "y"
        },
        {
         "hovertemplate": "color=Nomonyx<br>PCA1=%{x}<br>PCA2=%{y}<extra></extra>",
         "legendgroup": "Nomonyx",
         "marker": {
          "color": "#FFA15A",
          "symbol": "circle"
         },
         "mode": "markers",
         "name": "Nomonyx",
         "showlegend": true,
         "type": "scattergl",
         "x": [
          1.9179370443579442,
          -0.8504130814505092
         ],
         "xaxis": "x",
         "y": [
          -0.4623470372408074,
          0.117840154170257
         ],
         "yaxis": "y"
        },
        {
         "hovertemplate": "color=Nonnula<br>PCA1=%{x}<br>PCA2=%{y}<extra></extra>",
         "legendgroup": "Nonnula",
         "marker": {
          "color": "#19d3f3",
          "symbol": "circle"
         },
         "mode": "markers",
         "name": "Nonnula",
         "showlegend": true,
         "type": "scattergl",
         "x": [
          -0.9053967647089677,
          -0.7573056301848189,
          -0.4705548389686467,
          -1.2792290250011398
         ],
         "xaxis": "x",
         "y": [
          0.02272961182660221,
          0.21205550393507128,
          -0.22380898201232693,
          -0.009922535326291641
         ],
         "yaxis": "y"
        },
        {
         "hovertemplate": "color=Notharchus<br>PCA1=%{x}<br>PCA2=%{y}<extra></extra>",
         "legendgroup": "Notharchus",
         "marker": {
          "color": "#FF6692",
          "symbol": "circle"
         },
         "mode": "markers",
         "name": "Notharchus",
         "showlegend": true,
         "type": "scattergl",
         "x": [
          2.679729240896486,
          -1.3363320580097573,
          0.331009411381503,
          -1.3777461955784653,
          0.14104286465644553,
          -1.2682119960733094,
          -0.7652243464347214,
          -1.006202822546284,
          0.4574097257834708
         ],
         "xaxis": "x",
         "y": [
          -0.28461952174806543,
          0.11695624532937707,
          0.2796474467004455,
          0.10017473705541027,
          0.1530093799874409,
          0.01863473190393836,
          0.08216855304254485,
          0.2507285951028665,
          -0.12172312116868998
         ],
         "yaxis": "y"
        },
        {
         "hovertemplate": "color=Nothocercus<br>PCA1=%{x}<br>PCA2=%{y}<extra></extra>",
         "legendgroup": "Nothocercus",
         "marker": {
          "color": "#B6E880",
          "symbol": "circle"
         },
         "mode": "markers",
         "name": "Nothocercus",
         "showlegend": true,
         "type": "scattergl",
         "x": [
          -0.7990768928820828,
          0.24979195578957716
         ],
         "xaxis": "x",
         "y": [
          0.0319986086916188,
          -0.5038932765874459
         ],
         "yaxis": "y"
        },
        {
         "hovertemplate": "color=Nyctibius<br>PCA1=%{x}<br>PCA2=%{y}<extra></extra>",
         "legendgroup": "Nyctibius",
         "marker": {
          "color": "#FF97FF",
          "symbol": "circle"
         },
         "mode": "markers",
         "name": "Nyctibius",
         "showlegend": true,
         "type": "scattergl",
         "x": [
          -1.1928599812977079,
          -1.0761130530837015,
          0.6842423974268202,
          -0.42782975567142706,
          1.1879904168612248,
          -0.4645850400200319,
          -0.8225826648629924,
          0.13576403195290368,
          16.706797430239913,
          4.502473662939574,
          0.5289353397192317,
          2.0062808448954748,
          -1.5199579890571273
         ],
         "xaxis": "x",
         "y": [
          0.12570632887786498,
          0.10468558437707505,
          -0.046614429025463,
          0.03905061185841295,
          0.0400551509860984,
          0.07858727062773119,
          0.18090045970436705,
          -0.0059278210660924655,
          -0.1620818922900053,
          -0.05784974538777036,
          -0.002491965198228689,
          0.22874972146277633,
          0.042548802313718305
         ],
         "yaxis": "y"
        },
        {
         "hovertemplate": "color=Nycticorax<br>PCA1=%{x}<br>PCA2=%{y}<extra></extra>",
         "legendgroup": "Nycticorax",
         "marker": {
          "color": "#FECB52",
          "symbol": "circle"
         },
         "mode": "markers",
         "name": "Nycticorax",
         "showlegend": true,
         "type": "scattergl",
         "x": [
          -1.2590288760715618,
          -0.8386490124547176
         ],
         "xaxis": "x",
         "y": [
          0.029016328039568978,
          0.043695822352077376
         ],
         "yaxis": "y"
        },
        {
         "hovertemplate": "color=Nyctidromus<br>PCA1=%{x}<br>PCA2=%{y}<extra></extra>",
         "legendgroup": "Nyctidromus",
         "marker": {
          "color": "#636efa",
          "symbol": "circle"
         },
         "mode": "markers",
         "name": "Nyctidromus",
         "showlegend": true,
         "type": "scattergl",
         "x": [
          -0.8847449077059123,
          23.41893549829882
         ],
         "xaxis": "x",
         "y": [
          -0.13903984536492706,
          2.069645631087071
         ],
         "yaxis": "y"
        },
        {
         "hovertemplate": "color=Nyctiphrynus<br>PCA1=%{x}<br>PCA2=%{y}<extra></extra>",
         "legendgroup": "Nyctiphrynus",
         "marker": {
          "color": "#EF553B",
          "symbol": "circle"
         },
         "mode": "markers",
         "name": "Nyctiphrynus",
         "showlegend": true,
         "type": "scattergl",
         "x": [
          -0.3620393465772098,
          -0.5580626870741411,
          5.02809193712542,
          -0.666816519609611
         ],
         "xaxis": "x",
         "y": [
          0.003979718996265138,
          0.011166564836056134,
          -0.3125483918200621,
          0.08225921323519007
         ],
         "yaxis": "y"
        },
        {
         "hovertemplate": "color=Nyctipolus<br>PCA1=%{x}<br>PCA2=%{y}<extra></extra>",
         "legendgroup": "Nyctipolus",
         "marker": {
          "color": "#00cc96",
          "symbol": "circle"
         },
         "mode": "markers",
         "name": "Nyctipolus",
         "showlegend": true,
         "type": "scattergl",
         "x": [
          3.2003423082923517,
          -1.2497269027061244,
          -0.8524080427320915,
          -1.180758963300775
         ],
         "xaxis": "x",
         "y": [
          0.08112885543690829,
          0.02902796374031819,
          -0.0358890929344145,
          0.07171941481988056
         ],
         "yaxis": "y"
        },
        {
         "hovertemplate": "color=Nystalus<br>PCA1=%{x}<br>PCA2=%{y}<extra></extra>",
         "legendgroup": "Nystalus",
         "marker": {
          "color": "#ab63fa",
          "symbol": "circle"
         },
         "mode": "markers",
         "name": "Nystalus",
         "showlegend": true,
         "type": "scattergl",
         "x": [
          -0.5301725123103908,
          0.1973415742046742,
          -1.1959683387340605,
          -0.6041558809173737,
          0.8084533057283095,
          0.40117505814856796
         ],
         "xaxis": "x",
         "y": [
          0.03017806056825862,
          0.3892458997398697,
          0.1607734404420361,
          -0.06427300571536775,
          -0.24694152639451125,
          -0.4707668454695691
         ],
         "yaxis": "y"
        },
        {
         "hovertemplate": "color=Ochthoeca<br>PCA1=%{x}<br>PCA2=%{y}<extra></extra>",
         "legendgroup": "Ochthoeca",
         "marker": {
          "color": "#FFA15A",
          "symbol": "circle"
         },
         "mode": "markers",
         "name": "Ochthoeca",
         "showlegend": true,
         "type": "scattergl",
         "x": [
          -0.40521756965593153,
          0.7395182302477091,
          0.08752550686221393
         ],
         "xaxis": "x",
         "y": [
          0.06365004834662061,
          0.12912668563667057,
          0.03188101333507786
         ],
         "yaxis": "y"
        },
        {
         "hovertemplate": "color=Ochthornis<br>PCA1=%{x}<br>PCA2=%{y}<extra></extra>",
         "legendgroup": "Ochthornis",
         "marker": {
          "color": "#19d3f3",
          "symbol": "circle"
         },
         "mode": "markers",
         "name": "Ochthornis",
         "showlegend": true,
         "type": "scattergl",
         "x": [
          -1.108278104668642,
          -0.07069002386441998,
          -0.3309240504737157
         ],
         "xaxis": "x",
         "y": [
          0.11943481803405427,
          0.0761370805925314,
          -0.025378982878903236
         ],
         "yaxis": "y"
        },
        {
         "hovertemplate": "color=Ocreatus<br>PCA1=%{x}<br>PCA2=%{y}<extra></extra>",
         "legendgroup": "Ocreatus",
         "marker": {
          "color": "#FF6692",
          "symbol": "circle"
         },
         "mode": "markers",
         "name": "Ocreatus",
         "showlegend": true,
         "type": "scattergl",
         "x": [
          -0.900431285944479,
          0.9432191048932794
         ],
         "xaxis": "x",
         "y": [
          0.00039635603440636073,
          0.28547982793332033
         ],
         "yaxis": "y"
        },
        {
         "hovertemplate": "color=Odontophorus<br>PCA1=%{x}<br>PCA2=%{y}<extra></extra>",
         "legendgroup": "Odontophorus",
         "marker": {
          "color": "#B6E880",
          "symbol": "circle"
         },
         "mode": "markers",
         "name": "Odontophorus",
         "showlegend": true,
         "type": "scattergl",
         "x": [
          -1.5307184770726825,
          -1.4673499842895266,
          -0.7249015445966296,
          0.9276312825287353,
          0.9436297252210639,
          -1.207489079412946,
          1.2623671986816616,
          0.2062681203447425,
          -1.2826534572648922,
          -0.8181335944529151,
          -0.8318020345960997,
          -1.426794315808797
         ],
         "xaxis": "x",
         "y": [
          0.03818852272645484,
          0.06386620064948467,
          -0.0033123894706616006,
          0.06629122020321708,
          0.4058127998016268,
          0.0213026335667149,
          0.38122667055589354,
          -0.3317550814568273,
          0.02014923268697788,
          -0.07222360721176652,
          0.0700367274195358,
          0.05496174210068926
         ],
         "yaxis": "y"
        },
        {
         "hovertemplate": "color=Odontorchilus<br>PCA1=%{x}<br>PCA2=%{y}<extra></extra>",
         "legendgroup": "Odontorchilus",
         "marker": {
          "color": "#FF97FF",
          "symbol": "circle"
         },
         "mode": "markers",
         "name": "Odontorchilus",
         "showlegend": true,
         "type": "scattergl",
         "x": [
          0.17632516529073294,
          -0.557857860541953,
          0.9105848275785746
         ],
         "xaxis": "x",
         "y": [
          0.22037628996299857,
          -0.021872020320933886,
          -0.19664841343354908
         ],
         "yaxis": "y"
        },
        {
         "hovertemplate": "color=Oneillornis<br>PCA1=%{x}<br>PCA2=%{y}<extra></extra>",
         "legendgroup": "Oneillornis",
         "marker": {
          "color": "#FECB52",
          "symbol": "circle"
         },
         "mode": "markers",
         "name": "Oneillornis",
         "showlegend": true,
         "type": "scattergl",
         "x": [
          -0.3418911814657393,
          0.08277562409520185
         ],
         "xaxis": "x",
         "y": [
          -0.03367841929920339,
          -0.42055999739411554
         ],
         "yaxis": "y"
        },
        {
         "hovertemplate": "color=Onychorhynchus<br>PCA1=%{x}<br>PCA2=%{y}<extra></extra>",
         "legendgroup": "Onychorhynchus",
         "marker": {
          "color": "#636efa",
          "symbol": "circle"
         },
         "mode": "markers",
         "name": "Onychorhynchus",
         "showlegend": true,
         "type": "scattergl",
         "x": [
          0.23460592632234326,
          -0.051668617034888294
         ],
         "xaxis": "x",
         "y": [
          -0.08573457458080924,
          0.13174225207343893
         ],
         "yaxis": "y"
        },
        {
         "hovertemplate": "color=Opisthocomus<br>PCA1=%{x}<br>PCA2=%{y}<extra></extra>",
         "legendgroup": "Opisthocomus",
         "marker": {
          "color": "#EF553B",
          "symbol": "circle"
         },
         "mode": "markers",
         "name": "Opisthocomus",
         "showlegend": true,
         "type": "scattergl",
         "x": [
          -0.7760842809870385,
          -0.804459237974528,
          0.09103422793576357
         ],
         "xaxis": "x",
         "y": [
          0.08419424777136793,
          0.003425805379455326,
          0.24774825461183525
         ],
         "yaxis": "y"
        },
        {
         "hovertemplate": "color=Oporornis<br>PCA1=%{x}<br>PCA2=%{y}<extra></extra>",
         "legendgroup": "Oporornis",
         "marker": {
          "color": "#00cc96",
          "symbol": "circle"
         },
         "mode": "markers",
         "name": "Oporornis",
         "showlegend": true,
         "type": "scattergl",
         "x": [
          3.3678532324225086,
          0.048543657632272405,
          22.48018950990934
         ],
         "xaxis": "x",
         "y": [
          0.03730367263243657,
          0.00045118484013650776,
          -1.0517905760372075
         ],
         "yaxis": "y"
        },
        {
         "hovertemplate": "color=Oreopholus<br>PCA1=%{x}<br>PCA2=%{y}<extra></extra>",
         "legendgroup": "Oreopholus",
         "marker": {
          "color": "#ab63fa",
          "symbol": "circle"
         },
         "mode": "markers",
         "name": "Oreopholus",
         "showlegend": true,
         "type": "scattergl",
         "x": [
          0.43649802052593334,
          -1.414960762676293,
          -1.132659308885512
         ],
         "xaxis": "x",
         "y": [
          -0.4297773148323655,
          0.059434523262123735,
          0.07167383893098911
         ],
         "yaxis": "y"
        },
        {
         "hovertemplate": "color=Ornithion<br>PCA1=%{x}<br>PCA2=%{y}<extra></extra>",
         "legendgroup": "Ornithion",
         "marker": {
          "color": "#FFA15A",
          "symbol": "circle"
         },
         "mode": "markers",
         "name": "Ornithion",
         "showlegend": true,
         "type": "scattergl",
         "x": [
          -1.019754013626797,
          -0.27827354266500415,
          -0.9231430281610276
         ],
         "xaxis": "x",
         "y": [
          0.032824548575238706,
          0.07815176797677416,
          0.08545724350159638
         ],
         "yaxis": "y"
        },
        {
         "hovertemplate": "color=Ortalis<br>PCA1=%{x}<br>PCA2=%{y}<extra></extra>",
         "legendgroup": "Ortalis",
         "marker": {
          "color": "#19d3f3",
          "symbol": "circle"
         },
         "mode": "markers",
         "name": "Ortalis",
         "showlegend": true,
         "type": "scattergl",
         "x": [
          -0.958843671784263,
          0.3629344185711663
         ],
         "xaxis": "x",
         "y": [
          0.16640548401070113,
          0.15868819582459395
         ],
         "yaxis": "y"
        },
        {
         "hovertemplate": "color=Orthopsittaca<br>PCA1=%{x}<br>PCA2=%{y}<extra></extra>",
         "legendgroup": "Orthopsittaca",
         "marker": {
          "color": "#FF6692",
          "symbol": "circle"
         },
         "mode": "markers",
         "name": "Orthopsittaca",
         "showlegend": true,
         "type": "scattergl",
         "x": [
          0.5196400249362609,
          -0.7037181219885686,
          -0.896139270807781,
          -0.9111528997183858,
          -0.5335085981045289
         ],
         "xaxis": "x",
         "y": [
          -0.2389997028721264,
          0.14083950263846806,
          -0.06924626464969205,
          0.06551150155541735,
          0.1713254990218818
         ],
         "yaxis": "y"
        },
        {
         "hovertemplate": "color=Oxyruncus<br>PCA1=%{x}<br>PCA2=%{y}<extra></extra>",
         "legendgroup": "Oxyruncus",
         "marker": {
          "color": "#B6E880",
          "symbol": "circle"
         },
         "mode": "markers",
         "name": "Oxyruncus",
         "showlegend": true,
         "type": "scattergl",
         "x": [
          -1.242489609481174,
          -1.472191146874128
         ],
         "xaxis": "x",
         "y": [
          0.15498233783991236,
          0.061904503153446595
         ],
         "yaxis": "y"
        },
        {
         "hovertemplate": "color=Oxyura<br>PCA1=%{x}<br>PCA2=%{y}<extra></extra>",
         "legendgroup": "Oxyura",
         "marker": {
          "color": "#FF97FF",
          "symbol": "circle"
         },
         "mode": "markers",
         "name": "Oxyura",
         "showlegend": true,
         "type": "scattergl",
         "x": [
          0.4608081280787813,
          -1.1140519782485583
         ],
         "xaxis": "x",
         "y": [
          -0.14947948502168934,
          0.08162833166952288
         ],
         "yaxis": "y"
        },
        {
         "hovertemplate": "color=Pachyramphus<br>PCA1=%{x}<br>PCA2=%{y}<extra></extra>",
         "legendgroup": "Pachyramphus",
         "marker": {
          "color": "#FECB52",
          "symbol": "circle"
         },
         "mode": "markers",
         "name": "Pachyramphus",
         "showlegend": true,
         "type": "scattergl",
         "x": [
          1.651102089388553,
          -1.3391230650368433,
          -0.6027556792794424,
          -1.3206071972482127,
          -0.07762192345041091,
          -1.4225388396779566,
          1.5508624715419086,
          -1.5055296333191777,
          -0.10921406624258514,
          -0.14369378808521177,
          -0.8866018006488637,
          0.6342237604444564,
          -0.3011615586085525,
          -1.1816501518678728,
          0.4052606404890458,
          -0.29411057555951514,
          -0.3684611569824724,
          -1.3199296627242887,
          -1.0405864548452346
         ],
         "xaxis": "x",
         "y": [
          0.01962160731227604,
          0.030160144264216218,
          0.08484618166770153,
          -0.009790972412892,
          -0.22188395178224135,
          0.04246211566094508,
          0.09610840417648893,
          0.048395346161080245,
          -0.08148504610010053,
          -0.5304846777655529,
          0.032315541290564194,
          0.22941717152647853,
          -0.09037519153857214,
          -0.07377261382020474,
          -0.17091890588195416,
          0.2549942294150897,
          -0.02859952021057872,
          0.11289817259059749,
          -0.0022043534146214496
         ],
         "yaxis": "y"
        },
        {
         "hovertemplate": "color=Panyptila<br>PCA1=%{x}<br>PCA2=%{y}<extra></extra>",
         "legendgroup": "Panyptila",
         "marker": {
          "color": "#636efa",
          "symbol": "circle"
         },
         "mode": "markers",
         "name": "Panyptila",
         "showlegend": true,
         "type": "scattergl",
         "x": [
          -0.886843648626158,
          0.1970508723986111,
          -0.5704374913682118
         ],
         "xaxis": "x",
         "y": [
          0.12855692079297673,
          -0.33784286612033604,
          -0.20760114102016486
         ],
         "yaxis": "y"
        },
        {
         "hovertemplate": "color=Parabuteo<br>PCA1=%{x}<br>PCA2=%{y}<extra></extra>",
         "legendgroup": "Parabuteo",
         "marker": {
          "color": "#EF553B",
          "symbol": "circle"
         },
         "mode": "markers",
         "name": "Parabuteo",
         "showlegend": true,
         "type": "scattergl",
         "x": [
          1.589972954927395,
          1.2732385891022795,
          -1.3673538914240533
         ],
         "xaxis": "x",
         "y": [
          0.2515905860074629,
          -0.09538471519142304,
          0.035263783964385335
         ],
         "yaxis": "y"
        },
        {
         "hovertemplate": "color=Pardirallus<br>PCA1=%{x}<br>PCA2=%{y}<extra></extra>",
         "legendgroup": "Pardirallus",
         "marker": {
          "color": "#00cc96",
          "symbol": "circle"
         },
         "mode": "markers",
         "name": "Pardirallus",
         "showlegend": true,
         "type": "scattergl",
         "x": [
          -1.232351705158005,
          0.6311690924935105,
          1.055113290960534,
          -0.7923757084978875
         ],
         "xaxis": "x",
         "y": [
          0.060039878384430034,
          -0.22131711271893467,
          -0.05093135902559902,
          -0.0938560443193937
         ],
         "yaxis": "y"
        },
        {
         "hovertemplate": "color=Parkerthraustes<br>PCA1=%{x}<br>PCA2=%{y}<extra></extra>",
         "legendgroup": "Parkerthraustes",
         "marker": {
          "color": "#ab63fa",
          "symbol": "circle"
         },
         "mode": "markers",
         "name": "Parkerthraustes",
         "showlegend": true,
         "type": "scattergl",
         "x": [
          -1.0091990297814235
         ],
         "xaxis": "x",
         "y": [
          0.09181226299061172
         ],
         "yaxis": "y"
        },
        {
         "hovertemplate": "color=Paroaria<br>PCA1=%{x}<br>PCA2=%{y}<extra></extra>",
         "legendgroup": "Paroaria",
         "marker": {
          "color": "#FFA15A",
          "symbol": "circle"
         },
         "mode": "markers",
         "name": "Paroaria",
         "showlegend": true,
         "type": "scattergl",
         "x": [
          0.13586105691273861,
          -1.2501387168810894,
          5.353880849259833
         ],
         "xaxis": "x",
         "y": [
          -0.09913744264818372,
          0.0698300119003165,
          -0.7022891943135801
         ],
         "yaxis": "y"
        },
        {
         "hovertemplate": "color=Passer<br>PCA1=%{x}<br>PCA2=%{y}<extra></extra>",
         "legendgroup": "Passer",
         "marker": {
          "color": "#19d3f3",
          "symbol": "circle"
         },
         "mode": "markers",
         "name": "Passer",
         "showlegend": true,
         "type": "scattergl",
         "x": [
          0.8462881669922656,
          0.4075582696502493
         ],
         "xaxis": "x",
         "y": [
          0.6927603167148999,
          -0.07013473743082353
         ],
         "yaxis": "y"
        },
        {
         "hovertemplate": "color=Patagioenas<br>PCA1=%{x}<br>PCA2=%{y}<extra></extra>",
         "legendgroup": "Patagioenas",
         "marker": {
          "color": "#FF6692",
          "symbol": "circle"
         },
         "mode": "markers",
         "name": "Patagioenas",
         "showlegend": true,
         "type": "scattergl",
         "x": [
          5.649703167849083,
          -1.1582076787840807,
          0.7583683650504035,
          -0.939169251394152,
          5.0377634083858895,
          1.1335670011564876,
          -0.922409905756461,
          -0.16644041912000973,
          0.9272433309936792,
          -0.7709482909882821,
          -0.49592665317169365,
          0.7806931166246416,
          0.2576698045377922,
          -1.2394930955756516,
          -0.5102426034506202,
          -1.2902187418633992,
          0.870185757968942,
          2.13655606334148,
          -0.10080572585302934
         ],
         "xaxis": "x",
         "y": [
          -0.9356389279266613,
          0.038408509371101525,
          0.6850745891976029,
          0.14665699907114652,
          0.41938377556819983,
          -0.06700852951004352,
          0.07382404452465141,
          0.03322385803807556,
          0.04798005926448642,
          0.03024268016606311,
          -0.47444212629839805,
          -0.07450947578046928,
          0.02644166214106395,
          0.11882699708117735,
          -0.0107598668086509,
          0.07766858212103865,
          0.1086823138311934,
          -0.0950568406935704,
          -0.007839314708167565
         ],
         "yaxis": "y"
        },
        {
         "hovertemplate": "color=Pauxi<br>PCA1=%{x}<br>PCA2=%{y}<extra></extra>",
         "legendgroup": "Pauxi",
         "marker": {
          "color": "#B6E880",
          "symbol": "circle"
         },
         "mode": "markers",
         "name": "Pauxi",
         "showlegend": true,
         "type": "scattergl",
         "x": [
          -1.4380810340782573
         ],
         "xaxis": "x",
         "y": [
          0.07572633245413339
         ],
         "yaxis": "y"
        },
        {
         "hovertemplate": "color=Penelope<br>PCA1=%{x}<br>PCA2=%{y}<extra></extra>",
         "legendgroup": "Penelope",
         "marker": {
          "color": "#FF97FF",
          "symbol": "circle"
         },
         "mode": "markers",
         "name": "Penelope",
         "showlegend": true,
         "type": "scattergl",
         "x": [
          5.290356411976548,
          -1.0832763338325457,
          -0.2843814355548764
         ],
         "xaxis": "x",
         "y": [
          -0.12102312171600979,
          0.1632878737864396,
          0.04273349133294491
         ],
         "yaxis": "y"
        },
        {
         "hovertemplate": "color=Petrochelidon<br>PCA1=%{x}<br>PCA2=%{y}<extra></extra>",
         "legendgroup": "Petrochelidon",
         "marker": {
          "color": "#FECB52",
          "symbol": "circle"
         },
         "mode": "markers",
         "name": "Petrochelidon",
         "showlegend": true,
         "type": "scattergl",
         "x": [
          -0.596894617955379,
          0.947105623549567,
          -0.9953057625176539
         ],
         "xaxis": "x",
         "y": [
          -0.12089345638879605,
          0.10152905010273787,
          -0.07670346573411335
         ],
         "yaxis": "y"
        },
        {
         "hovertemplate": "color=Phaeomyias<br>PCA1=%{x}<br>PCA2=%{y}<extra></extra>",
         "legendgroup": "Phaeomyias",
         "marker": {
          "color": "#636efa",
          "symbol": "circle"
         },
         "mode": "markers",
         "name": "Phaeomyias",
         "showlegend": true,
         "type": "scattergl",
         "x": [
          -0.883131592957733,
          0.5870362513219054,
          -0.8774823179137529,
          -0.2819482464130905,
          -0.5041589304000208
         ],
         "xaxis": "x",
         "y": [
          0.037278912710081845,
          0.2388967926309746,
          0.17536520101173625,
          0.0062383984783979515,
          -0.03801469438793494
         ],
         "yaxis": "y"
        },
        {
         "hovertemplate": "color=Phaethornis<br>PCA1=%{x}<br>PCA2=%{y}<extra></extra>",
         "legendgroup": "Phaethornis",
         "marker": {
          "color": "#EF553B",
          "symbol": "circle"
         },
         "mode": "markers",
         "name": "Phaethornis",
         "showlegend": true,
         "type": "scattergl",
         "x": [
          0.8191742882492947,
          -0.24978140687750522,
          -0.027892834712050396,
          -0.10975751375440634,
          -0.12602656066649842,
          -0.7440827516334808,
          -0.3502708345522152,
          -1.2916021545063343,
          11.277284470465284,
          1.7858945119699041,
          0.5709967091661435,
          -0.7890735824652703,
          -0.37608583040127314,
          1.300735175804698,
          -0.7090972076840011,
          -0.8886391823731137,
          -1.2026081543901235
         ],
         "xaxis": "x",
         "y": [
          -0.20276784355069136,
          0.014722377758725255,
          0.00784218589597001,
          -0.03709210664056628,
          -0.020660701159421285,
          0.002808838430673705,
          -0.7143091937690026,
          0.020043671146439502,
          0.1319037533327234,
          -0.23741847821641343,
          -0.06967673886894428,
          0.003038471635107722,
          -0.21275863439781167,
          0.5426845616662316,
          -0.06884844948176835,
          0.1667205268215655,
          0.17114278467954408
         ],
         "yaxis": "y"
        },
        {
         "hovertemplate": "color=Phaetusa<br>PCA1=%{x}<br>PCA2=%{y}<extra></extra>",
         "legendgroup": "Phaetusa",
         "marker": {
          "color": "#00cc96",
          "symbol": "circle"
         },
         "mode": "markers",
         "name": "Phaetusa",
         "showlegend": true,
         "type": "scattergl",
         "x": [
          -0.8681656794411984,
          1.7532857067125838
         ],
         "xaxis": "x",
         "y": [
          0.06142898974603306,
          0.5181777999222857
         ],
         "yaxis": "y"
        },
        {
         "hovertemplate": "color=Phalacrocorax<br>PCA1=%{x}<br>PCA2=%{y}<extra></extra>",
         "legendgroup": "Phalacrocorax",
         "marker": {
          "color": "#ab63fa",
          "symbol": "circle"
         },
         "mode": "markers",
         "name": "Phalacrocorax",
         "showlegend": true,
         "type": "scattergl",
         "x": [
          -1.2626305666496227,
          1.8440665872744793
         ],
         "xaxis": "x",
         "y": [
          0.017105056843210186,
          -0.6944898641085235
         ],
         "yaxis": "y"
        },
        {
         "hovertemplate": "color=Phalaropus<br>PCA1=%{x}<br>PCA2=%{y}<extra></extra>",
         "legendgroup": "Phalaropus",
         "marker": {
          "color": "#FFA15A",
          "symbol": "circle"
         },
         "mode": "markers",
         "name": "Phalaropus",
         "showlegend": true,
         "type": "scattergl",
         "x": [
          -0.5569101169889552,
          -1.1031424469219322
         ],
         "xaxis": "x",
         "y": [
          -0.07386337921974592,
          0.0848957392587335
         ],
         "yaxis": "y"
        },
        {
         "hovertemplate": "color=Pharomachrus<br>PCA1=%{x}<br>PCA2=%{y}<extra></extra>",
         "legendgroup": "Pharomachrus",
         "marker": {
          "color": "#19d3f3",
          "symbol": "circle"
         },
         "mode": "markers",
         "name": "Pharomachrus",
         "showlegend": true,
         "type": "scattergl",
         "x": [
          -0.6760723929128171,
          1.247078530879166,
          -1.4005896714233383,
          0.29505950451956386,
          1.7154568765974665,
          0.5457343851080212,
          0.7973335797555688,
          -1.2438381174892743
         ],
         "xaxis": "x",
         "y": [
          -0.11597015725017217,
          0.14320020169724182,
          0.011602413418356003,
          -0.2679099228704127,
          0.2970207235974533,
          -0.20675796316814402,
          0.2774817270830494,
          0.03629533147480362
         ],
         "yaxis": "y"
        },
        {
         "hovertemplate": "color=Pheucticus<br>PCA1=%{x}<br>PCA2=%{y}<extra></extra>",
         "legendgroup": "Pheucticus",
         "marker": {
          "color": "#FF6692",
          "symbol": "circle"
         },
         "mode": "markers",
         "name": "Pheucticus",
         "showlegend": true,
         "type": "scattergl",
         "x": [
          -0.3891820499741348,
          1.3743705784616023,
          -0.429011816105432,
          -1.1125653716035695
         ],
         "xaxis": "x",
         "y": [
          0.14615918119258225,
          -0.08251477560237197,
          0.11645956091920379,
          0.016940581802446352
         ],
         "yaxis": "y"
        },
        {
         "hovertemplate": "color=Pheugopedius<br>PCA1=%{x}<br>PCA2=%{y}<extra></extra>",
         "legendgroup": "Pheugopedius",
         "marker": {
          "color": "#B6E880",
          "symbol": "circle"
         },
         "mode": "markers",
         "name": "Pheugopedius",
         "showlegend": true,
         "type": "scattergl",
         "x": [
          2.2389662455543435,
          -1.2154914672495725,
          1.6745018381275942,
          -0.2300988536257274,
          -0.16132716115625056,
          -0.46597454168598645
         ],
         "xaxis": "x",
         "y": [
          -0.031982350073585394,
          -0.0012583850916976118,
          -0.8434364011381107,
          0.011132028535741635,
          0.05858862954159971,
          -0.12036358402716815
         ],
         "yaxis": "y"
        },
        {
         "hovertemplate": "color=Philydor<br>PCA1=%{x}<br>PCA2=%{y}<extra></extra>",
         "legendgroup": "Philydor",
         "marker": {
          "color": "#FF97FF",
          "symbol": "circle"
         },
         "mode": "markers",
         "name": "Philydor",
         "showlegend": true,
         "type": "scattergl",
         "x": [
          -0.24438856534921993,
          -1.1617763096730278,
          -1.0155084936756071,
          -0.9967008265784537,
          -0.7498754649802734,
          2.5342665519041243,
          -0.18749806569754968,
          -0.5056811492582651,
          0.4500436177695063,
          -1.4228555651138675,
          0.6504207785233234
         ],
         "xaxis": "x",
         "y": [
          0.10364673779144894,
          0.05164018219503789,
          0.02193382958624177,
          0.012353675101948963,
          0.15142242641526787,
          -0.5751346580014153,
          0.030044140056399375,
          0.08961241274482791,
          0.24126918534679986,
          0.03307655224107417,
          -0.18502245812941417
         ],
         "yaxis": "y"
        },
        {
         "hovertemplate": "color=Phlegopsis<br>PCA1=%{x}<br>PCA2=%{y}<extra></extra>",
         "legendgroup": "Phlegopsis",
         "marker": {
          "color": "#FECB52",
          "symbol": "circle"
         },
         "mode": "markers",
         "name": "Phlegopsis",
         "showlegend": true,
         "type": "scattergl",
         "x": [
          1.2465564194660976,
          -1.0599606177022187,
          -0.9641836971172763,
          -0.26510855449241444,
          -0.8871452656270592,
          -0.22793914174893287,
          0.5875007155865295,
          -0.619130862645115
         ],
         "xaxis": "x",
         "y": [
          -0.5853785588136338,
          0.09430969474787929,
          0.0017251991372732758,
          -0.4468218209204516,
          0.02281993329661306,
          0.1158947074210954,
          -0.31097320117526017,
          0.03323468068726441
         ],
         "yaxis": "y"
        },
        {
         "hovertemplate": "color=Phleocryptes<br>PCA1=%{x}<br>PCA2=%{y}<extra></extra>",
         "legendgroup": "Phleocryptes",
         "marker": {
          "color": "#636efa",
          "symbol": "circle"
         },
         "mode": "markers",
         "name": "Phleocryptes",
         "showlegend": true,
         "type": "scattergl",
         "x": [
          0.9533025033131225,
          -1.2111875490857917,
          -0.8849449573746412
         ],
         "xaxis": "x",
         "y": [
          -0.01298093842122683,
          0.11661772415867502,
          0.02193414681987199
         ],
         "yaxis": "y"
        },
        {
         "hovertemplate": "color=Phlogophilus<br>PCA1=%{x}<br>PCA2=%{y}<extra></extra>",
         "legendgroup": "Phlogophilus",
         "marker": {
          "color": "#EF553B",
          "symbol": "circle"
         },
         "mode": "markers",
         "name": "Phlogophilus",
         "showlegend": true,
         "type": "scattergl",
         "x": [
          -0.11343167266718286,
          0.14684031509551088,
          -1.4162746619995834
         ],
         "xaxis": "x",
         "y": [
          -0.26627580984208743,
          -0.005277818346738057,
          0.08456253755091592
         ],
         "yaxis": "y"
        },
        {
         "hovertemplate": "color=Phrygilus<br>PCA1=%{x}<br>PCA2=%{y}<extra></extra>",
         "legendgroup": "Phrygilus",
         "marker": {
          "color": "#00cc96",
          "symbol": "circle"
         },
         "mode": "markers",
         "name": "Phrygilus",
         "showlegend": true,
         "type": "scattergl",
         "x": [
          -0.8081155394920424,
          -0.7870332404894088,
          3.4419986835850684
         ],
         "xaxis": "x",
         "y": [
          0.08888493023638819,
          -0.11854728012419352,
          -0.18127998795590008
         ],
         "yaxis": "y"
        },
        {
         "hovertemplate": "color=Phyllomyias<br>PCA1=%{x}<br>PCA2=%{y}<extra></extra>",
         "legendgroup": "Phyllomyias",
         "marker": {
          "color": "#ab63fa",
          "symbol": "circle"
         },
         "mode": "markers",
         "name": "Phyllomyias",
         "showlegend": true,
         "type": "scattergl",
         "x": [
          1.472959191197571,
          0.18085406020616882,
          1.3255768513859627,
          -0.7675325232980305,
          -0.6039423431861435,
          2.854720356735593,
          -0.9555676583324139,
          -1.163278215378105,
          -1.408484406923489,
          0.8458874564124238,
          -1.2855533817937637,
          1.11700822099448,
          0.03201227126608054,
          -0.9577284478568447
         ],
         "xaxis": "x",
         "y": [
          0.22358641043635258,
          0.004856155879649753,
          -0.17754124040016034,
          0.09216641855523813,
          0.013915216797822217,
          -0.29653118989805827,
          0.14210445088519466,
          0.05215227243860583,
          0.08771924291026084,
          0.1330303155612964,
          0.0740525587594773,
          -0.2054402881197597,
          0.002835804050299102,
          -0.0034740903142477532
         ],
         "yaxis": "y"
        },
        {
         "hovertemplate": "color=Phylloscartes<br>PCA1=%{x}<br>PCA2=%{y}<extra></extra>",
         "legendgroup": "Phylloscartes",
         "marker": {
          "color": "#FFA15A",
          "symbol": "circle"
         },
         "mode": "markers",
         "name": "Phylloscartes",
         "showlegend": true,
         "type": "scattergl",
         "x": [
          -0.5448678233281441,
          -0.9470867155493482,
          -0.9206720781939268,
          -0.9702073602352558,
          -0.773974981904165
         ],
         "xaxis": "x",
         "y": [
          0.13226168583890954,
          0.0051400621012330835,
          -0.06984933405511423,
          0.06206678838645664,
          0.06912830157028177
         ],
         "yaxis": "y"
        },
        {
         "hovertemplate": "color=Piaya<br>PCA1=%{x}<br>PCA2=%{y}<extra></extra>",
         "legendgroup": "Piaya",
         "marker": {
          "color": "#19d3f3",
          "symbol": "circle"
         },
         "mode": "markers",
         "name": "Piaya",
         "showlegend": true,
         "type": "scattergl",
         "x": [
          -1.307536000426406,
          -1.1773217317409768,
          0.027358535522605504,
          1.8926400106045465,
          -0.3930025747373473,
          -1.2816912528793547
         ],
         "xaxis": "x",
         "y": [
          0.06420303792911387,
          0.10055148551277569,
          0.23135346867062803,
          0.46542898634974605,
          -0.038451445801754365,
          0.047245676701921716
         ],
         "yaxis": "y"
        },
        {
         "hovertemplate": "color=Piculus<br>PCA1=%{x}<br>PCA2=%{y}<extra></extra>",
         "legendgroup": "Piculus",
         "marker": {
          "color": "#FF6692",
          "symbol": "circle"
         },
         "mode": "markers",
         "name": "Piculus",
         "showlegend": true,
         "type": "scattergl",
         "x": [
          -1.4500718172734932,
          -0.8916453690941231,
          -0.8024690238473611,
          -0.5487622972946276,
          -1.4997160101280624,
          -1.1078989474948648,
          1.1771825563643423
         ],
         "xaxis": "x",
         "y": [
          0.03832130644229572,
          0.041127054350656146,
          -0.033246524876553836,
          0.07055994274955828,
          0.050751096429248084,
          0.20952009813915162,
          -0.039076456217730635
         ],
         "yaxis": "y"
        },
        {
         "hovertemplate": "color=Picumnus<br>PCA1=%{x}<br>PCA2=%{y}<extra></extra>",
         "legendgroup": "Picumnus",
         "marker": {
          "color": "#B6E880",
          "symbol": "circle"
         },
         "mode": "markers",
         "name": "Picumnus",
         "showlegend": true,
         "type": "scattergl",
         "x": [
          -0.680371462968285,
          3.623037642723406,
          1.242799929086694,
          -0.7127492313522038,
          -0.07412630387288068,
          -1.3481223675453768,
          -1.366044957628348,
          0.018871332800649347,
          0.23039375705907522,
          -0.3283631192819267,
          3.906384254107303
         ],
         "xaxis": "x",
         "y": [
          0.028698063257708524,
          0.12665042685149075,
          0.4881770056077265,
          -0.027428729648564493,
          -0.0371163446528491,
          0.02397408950350382,
          0.10491621986788627,
          -0.09506551084087547,
          0.027296581479780386,
          -0.01714797991169169,
          -0.5145056608273024
         ],
         "yaxis": "y"
        },
        {
         "hovertemplate": "color=Pilherodius<br>PCA1=%{x}<br>PCA2=%{y}<extra></extra>",
         "legendgroup": "Pilherodius",
         "marker": {
          "color": "#FF97FF",
          "symbol": "circle"
         },
         "mode": "markers",
         "name": "Pilherodius",
         "showlegend": true,
         "type": "scattergl",
         "x": [
          -1.4932470330499488,
          3.1870007217011107
         ],
         "xaxis": "x",
         "y": [
          0.05337240400037315,
          -0.9048177517806673
         ],
         "yaxis": "y"
        },
        {
         "hovertemplate": "color=Pionites<br>PCA1=%{x}<br>PCA2=%{y}<extra></extra>",
         "legendgroup": "Pionites",
         "marker": {
          "color": "#FECB52",
          "symbol": "circle"
         },
         "mode": "markers",
         "name": "Pionites",
         "showlegend": true,
         "type": "scattergl",
         "x": [
          0.4488882492798932,
          1.5685536508822842
         ],
         "xaxis": "x",
         "y": [
          -0.027891031997397453,
          -0.38507712884776135
         ],
         "yaxis": "y"
        },
        {
         "hovertemplate": "color=Pionus<br>PCA1=%{x}<br>PCA2=%{y}<extra></extra>",
         "legendgroup": "Pionus",
         "marker": {
          "color": "#636efa",
          "symbol": "circle"
         },
         "mode": "markers",
         "name": "Pionus",
         "showlegend": true,
         "type": "scattergl",
         "x": [
          -0.831505259833277,
          -0.6412482447989813,
          1.2031242177921773,
          -1.4305040621934944,
          -1.3326230978282232,
          0.13854162743644355,
          0.0878025333154282,
          -0.6642678962017143
         ],
         "xaxis": "x",
         "y": [
          -0.1969210990479662,
          -0.1182647568042653,
          -0.10679646462459422,
          0.038280603988835905,
          0.02213981733307605,
          -0.20131672842977386,
          0.16702631049036107,
          0.09451189330246954
         ],
         "yaxis": "y"
        },
        {
         "hovertemplate": "color=Pipile<br>PCA1=%{x}<br>PCA2=%{y}<extra></extra>",
         "legendgroup": "Pipile",
         "marker": {
          "color": "#EF553B",
          "symbol": "circle"
         },
         "mode": "markers",
         "name": "Pipile",
         "showlegend": true,
         "type": "scattergl",
         "x": [
          -0.520946373679736,
          -0.20923272491265482,
          -0.7984380304333433,
          -0.5532308877388974
         ],
         "xaxis": "x",
         "y": [
          0.16836024929166585,
          -0.13449255249725642,
          -0.05589574482441915,
          0.03113396384280581
         ],
         "yaxis": "y"
        },
        {
         "hovertemplate": "color=Pipra<br>PCA1=%{x}<br>PCA2=%{y}<extra></extra>",
         "legendgroup": "Pipra",
         "marker": {
          "color": "#00cc96",
          "symbol": "circle"
         },
         "mode": "markers",
         "name": "Pipra",
         "showlegend": true,
         "type": "scattergl",
         "x": [
          -0.3708481144880045,
          -1.392438806916011,
          1.9819148982685926,
          0.23560050854366804
         ],
         "xaxis": "x",
         "y": [
          -0.04945835971505864,
          0.09422111365040418,
          -0.2898556375454866,
          0.19098831342932074
         ],
         "yaxis": "y"
        },
        {
         "hovertemplate": "color=Pipraeidea<br>PCA1=%{x}<br>PCA2=%{y}<extra></extra>",
         "legendgroup": "Pipraeidea",
         "marker": {
          "color": "#ab63fa",
          "symbol": "circle"
         },
         "mode": "markers",
         "name": "Pipraeidea",
         "showlegend": true,
         "type": "scattergl",
         "x": [
          -0.9139216053930351,
          -0.29834622452060666,
          -0.02472590062197351
         ],
         "xaxis": "x",
         "y": [
          -0.044189412032703976,
          -0.06821354067470667,
          -0.13969672856747373
         ],
         "yaxis": "y"
        },
        {
         "hovertemplate": "color=Pipreola<br>PCA1=%{x}<br>PCA2=%{y}<extra></extra>",
         "legendgroup": "Pipreola",
         "marker": {
          "color": "#FFA15A",
          "symbol": "circle"
         },
         "mode": "markers",
         "name": "Pipreola",
         "showlegend": true,
         "type": "scattergl",
         "x": [
          -0.0590929165467398,
          -1.4956993250142012,
          3.7816672690721416,
          -1.095204388410492,
          2.4792352140272955,
          -0.05853033852734534,
          -0.8608088144023357,
          3.6800592881399314,
          -0.9519045380714859,
          -0.8110870580284734,
          -1.4159469850560842
         ],
         "xaxis": "x",
         "y": [
          -0.13826493474726323,
          0.052378705705436936,
          -0.5553393529979045,
          0.08784107589167811,
          0.005906901778456516,
          -0.01838043325937354,
          0.016552039390500387,
          -0.9411995798972987,
          0.003136159508394419,
          0.3297918572848862,
          0.08469531620239436
         ],
         "yaxis": "y"
        },
        {
         "hovertemplate": "color=Piprites<br>PCA1=%{x}<br>PCA2=%{y}<extra></extra>",
         "legendgroup": "Piprites",
         "marker": {
          "color": "#19d3f3",
          "symbol": "circle"
         },
         "mode": "markers",
         "name": "Piprites",
         "showlegend": true,
         "type": "scattergl",
         "x": [
          -0.5585526924195262,
          1.4497584987656655,
          -0.7413094295897938
         ],
         "xaxis": "x",
         "y": [
          0.002701115627136639,
          -0.08687254676287232,
          0.035314118098143894
         ],
         "yaxis": "y"
        },
        {
         "hovertemplate": "color=Piranga<br>PCA1=%{x}<br>PCA2=%{y}<extra></extra>",
         "legendgroup": "Piranga",
         "marker": {
          "color": "#FF6692",
          "symbol": "circle"
         },
         "mode": "markers",
         "name": "Piranga",
         "showlegend": true,
         "type": "scattergl",
         "x": [
          -0.15197237299488206,
          -1.4297362466315928,
          -1.4130733981125496,
          5.2656895051545956,
          -0.004392327106099526,
          -0.9722773797799529,
          -0.5325749296069686,
          3.3845369994565324,
          2.765921489894977,
          1.8795936734211944,
          8.823171773305729,
          0.426650056305306,
          -0.7548575097079054,
          -0.1986416592940374,
          -1.0195539801536133
         ],
         "xaxis": "x",
         "y": [
          0.13777541196963225,
          0.023428204568147638,
          0.04482489302502297,
          -0.12730184102156994,
          -0.1765003434302387,
          -0.057671206077806285,
          0.2341737818511083,
          -0.4676120916338398,
          -0.17916300344750252,
          -0.37187414428051113,
          -2.133994208967618,
          -0.03603542162185174,
          -0.02537471721370412,
          -0.08219399699813605,
          0.1037870546531169
         ],
         "yaxis": "y"
        },
        {
         "hovertemplate": "color=Pitangus<br>PCA1=%{x}<br>PCA2=%{y}<extra></extra>",
         "legendgroup": "Pitangus",
         "marker": {
          "color": "#B6E880",
          "symbol": "circle"
         },
         "mode": "markers",
         "name": "Pitangus",
         "showlegend": true,
         "type": "scattergl",
         "x": [
          -0.6057871757886714
         ],
         "xaxis": "x",
         "y": [
          -0.035443941835448765
         ],
         "yaxis": "y"
        },
        {
         "hovertemplate": "color=Platalea<br>PCA1=%{x}<br>PCA2=%{y}<extra></extra>",
         "legendgroup": "Platalea",
         "marker": {
          "color": "#FF97FF",
          "symbol": "circle"
         },
         "mode": "markers",
         "name": "Platalea",
         "showlegend": true,
         "type": "scattergl",
         "x": [
          -1.078285403441529,
          -1.3025465544571706
         ],
         "xaxis": "x",
         "y": [
          0.1281071653395115,
          0.028578907273058788
         ],
         "yaxis": "y"
        },
        {
         "hovertemplate": "color=Platyrinchus<br>PCA1=%{x}<br>PCA2=%{y}<extra></extra>",
         "legendgroup": "Platyrinchus",
         "marker": {
          "color": "#FECB52",
          "symbol": "circle"
         },
         "mode": "markers",
         "name": "Platyrinchus",
         "showlegend": true,
         "type": "scattergl",
         "x": [
          1.6963193217906916,
          -0.8641856178466374,
          -0.7087162017695425,
          0.7082611479018986,
          -0.8710067722457011,
          -0.25353648208361906,
          0.8724951812995028,
          0.5896737222367279,
          0.2110462976159042
         ],
         "xaxis": "x",
         "y": [
          -0.1915473456488124,
          -0.2812968951938935,
          0.06616214131239109,
          -0.02654288552258028,
          0.07321672398978632,
          0.049746162353637,
          -0.1512305564407118,
          -0.3192922335442006,
          -0.05454579966240395
         ],
         "yaxis": "y"
        },
        {
         "hovertemplate": "color=Plegadis<br>PCA1=%{x}<br>PCA2=%{y}<extra></extra>",
         "legendgroup": "Plegadis",
         "marker": {
          "color": "#636efa",
          "symbol": "circle"
         },
         "mode": "markers",
         "name": "Plegadis",
         "showlegend": true,
         "type": "scattergl",
         "x": [
          -1.276629156508763,
          -1.393439852852419,
          -1.227691899652551
         ],
         "xaxis": "x",
         "y": [
          0.00650882070506232,
          0.026730762689022167,
          0.12186526985189129
         ],
         "yaxis": "y"
        },
        {
         "hovertemplate": "color=Pluvialis<br>PCA1=%{x}<br>PCA2=%{y}<extra></extra>",
         "legendgroup": "Pluvialis",
         "marker": {
          "color": "#EF553B",
          "symbol": "circle"
         },
         "mode": "markers",
         "name": "Pluvialis",
         "showlegend": true,
         "type": "scattergl",
         "x": [
          -1.175990482167643,
          -1.3551132157659933,
          -0.2222995088840175
         ],
         "xaxis": "x",
         "y": [
          0.08031016400705661,
          0.030135225969456777,
          0.16753287933514371
         ],
         "yaxis": "y"
        },
        {
         "hovertemplate": "color=Podilymbus<br>PCA1=%{x}<br>PCA2=%{y}<extra></extra>",
         "legendgroup": "Podilymbus",
         "marker": {
          "color": "#00cc96",
          "symbol": "circle"
         },
         "mode": "markers",
         "name": "Podilymbus",
         "showlegend": true,
         "type": "scattergl",
         "x": [
          -0.7516733195003904,
          -1.251400308299556,
          0.18712730449438233
         ],
         "xaxis": "x",
         "y": [
          -0.14100694011486736,
          0.15137161515615694,
          -0.12323571643180241
         ],
         "yaxis": "y"
        },
        {
         "hovertemplate": "color=Poecilotriccus<br>PCA1=%{x}<br>PCA2=%{y}<extra></extra>",
         "legendgroup": "Poecilotriccus",
         "marker": {
          "color": "#ab63fa",
          "symbol": "circle"
         },
         "mode": "markers",
         "name": "Poecilotriccus",
         "showlegend": true,
         "type": "scattergl",
         "x": [
          -0.5288426060907603,
          -1.4400153850673012,
          -0.13000345021002377,
          -1.1967141421563345,
          0.7442487996540331,
          -1.3302727604030857,
          -1.4678288577967167,
          -1.2151119142527314,
          -0.29164484498645094,
          -1.313348194087316,
          -0.9958537303057802,
          -0.6777425903032712,
          -1.2310967974903189,
          -1.430751442968704,
          0.22949509593522152
         ],
         "xaxis": "x",
         "y": [
          0.07201765140147523,
          0.07494251009217946,
          0.13445715153921953,
          -0.02302324896983399,
          -0.22120426418494152,
          0.044465406472706685,
          0.00939106689293829,
          0.02790145112865837,
          -0.7701340401065869,
          0.02315647473102919,
          -0.25200366716652906,
          -0.33772973422000974,
          0.12659527241343033,
          0.048545141734302494,
          -0.2645022951286534
         ],
         "yaxis": "y"
        },
        {
         "hovertemplate": "color=Polioptila<br>PCA1=%{x}<br>PCA2=%{y}<extra></extra>",
         "legendgroup": "Polioptila",
         "marker": {
          "color": "#FFA15A",
          "symbol": "circle"
         },
         "mode": "markers",
         "name": "Polioptila",
         "showlegend": true,
         "type": "scattergl",
         "x": [
          0.8194585536495673,
          -0.6294737071559338,
          -1.1049571056966876
         ],
         "xaxis": "x",
         "y": [
          -0.2982520671252428,
          0.20008845097808114,
          -0.10693632003426044
         ],
         "yaxis": "y"
        },
        {
         "hovertemplate": "color=Polytmus<br>PCA1=%{x}<br>PCA2=%{y}<extra></extra>",
         "legendgroup": "Polytmus",
         "marker": {
          "color": "#19d3f3",
          "symbol": "circle"
         },
         "mode": "markers",
         "name": "Polytmus",
         "showlegend": true,
         "type": "scattergl",
         "x": [
          -0.7327460301217233,
          -0.32442784910492317,
          0.9760199980909919,
          -1.198980465174775
         ],
         "xaxis": "x",
         "y": [
          -0.14839975315590165,
          0.07883160885921918,
          -0.01749217601237537,
          0.04451043147505392
         ],
         "yaxis": "y"
        },
        {
         "hovertemplate": "color=Porphyrio<br>PCA1=%{x}<br>PCA2=%{y}<extra></extra>",
         "legendgroup": "Porphyrio",
         "marker": {
          "color": "#FF6692",
          "symbol": "circle"
         },
         "mode": "markers",
         "name": "Porphyrio",
         "showlegend": true,
         "type": "scattergl",
         "x": [
          -1.3213483223626215,
          0.4160376152077577,
          -0.8323739307835544,
          -1.2906696889074025
         ],
         "xaxis": "x",
         "y": [
          0.08804303427001925,
          -0.03933616403917513,
          0.06815721336972196,
          0.03327044605847898
         ],
         "yaxis": "y"
        },
        {
         "hovertemplate": "color=Porphyrolaema<br>PCA1=%{x}<br>PCA2=%{y}<extra></extra>",
         "legendgroup": "Porphyrolaema",
         "marker": {
          "color": "#B6E880",
          "symbol": "circle"
         },
         "mode": "markers",
         "name": "Porphyrolaema",
         "showlegend": true,
         "type": "scattergl",
         "x": [
          0.5150854819344304
         ],
         "xaxis": "x",
         "y": [
          -0.3254834049743828
         ],
         "yaxis": "y"
        },
        {
         "hovertemplate": "color=Premnoplex<br>PCA1=%{x}<br>PCA2=%{y}<extra></extra>",
         "legendgroup": "Premnoplex",
         "marker": {
          "color": "#FF97FF",
          "symbol": "circle"
         },
         "mode": "markers",
         "name": "Premnoplex",
         "showlegend": true,
         "type": "scattergl",
         "x": [
          0.06423104456662383,
          0.8420354806017326,
          0.14272853439461874
         ],
         "xaxis": "x",
         "y": [
          0.11021907707105051,
          -0.12274319215240528,
          -0.01026548476260406
         ],
         "yaxis": "y"
        },
        {
         "hovertemplate": "color=Premnornis<br>PCA1=%{x}<br>PCA2=%{y}<extra></extra>",
         "legendgroup": "Premnornis",
         "marker": {
          "color": "#FECB52",
          "symbol": "circle"
         },
         "mode": "markers",
         "name": "Premnornis",
         "showlegend": true,
         "type": "scattergl",
         "x": [
          0.0957199903731034,
          -0.6039798074764297,
          -0.4550759083054351,
          -0.24880364242595052
         ],
         "xaxis": "x",
         "y": [
          -0.0936635351945821,
          0.02883437278049005,
          0.2770429533361361,
          -0.12615856282518664
         ],
         "yaxis": "y"
        },
        {
         "hovertemplate": "color=Primolius<br>PCA1=%{x}<br>PCA2=%{y}<extra></extra>",
         "legendgroup": "Primolius",
         "marker": {
          "color": "#636efa",
          "symbol": "circle"
         },
         "mode": "markers",
         "name": "Primolius",
         "showlegend": true,
         "type": "scattergl",
         "x": [
          2.2084178687837968,
          -0.6878300980050704
         ],
         "xaxis": "x",
         "y": [
          0.34070704508042793,
          0.04553607639300057
         ],
         "yaxis": "y"
        },
        {
         "hovertemplate": "color=Progne<br>PCA1=%{x}<br>PCA2=%{y}<extra></extra>",
         "legendgroup": "Progne",
         "marker": {
          "color": "#EF553B",
          "symbol": "circle"
         },
         "mode": "markers",
         "name": "Progne",
         "showlegend": true,
         "type": "scattergl",
         "x": [
          -0.2932412669080488,
          -0.8066917123261574,
          4.287624001285164,
          2.3142959173586926,
          -0.7558331889444863,
          -0.9492178765541796,
          1.9277714582058172,
          0.7800044410243752,
          1.2926444247598683
         ],
         "xaxis": "x",
         "y": [
          0.156628457538923,
          -0.08306807357449976,
          -0.8342560816439419,
          -2.1529127530526315,
          -0.047584645781668086,
          0.14542848382933213,
          0.18096301504516613,
          -0.042248033573822945,
          -0.4550691242350686
         ],
         "yaxis": "y"
        },
        {
         "hovertemplate": "color=Psarocolius<br>PCA1=%{x}<br>PCA2=%{y}<extra></extra>",
         "legendgroup": "Psarocolius",
         "marker": {
          "color": "#00cc96",
          "symbol": "circle"
         },
         "mode": "markers",
         "name": "Psarocolius",
         "showlegend": true,
         "type": "scattergl",
         "x": [
          5.614580575240218,
          5.101325832631625,
          0.17556076193776857,
          0.7509679782691855,
          -0.25031445099972055,
          4.134763789396142,
          5.219006601435597,
          2.5548315517932534,
          -0.7365129411620402,
          0.9858576592104201,
          -1.0402236816961314,
          3.0348002943961507,
          -1.256400024243915,
          0.602498510244125
         ],
         "xaxis": "x",
         "y": [
          -0.43763411201050617,
          0.5404845575854542,
          -0.034004587671457615,
          -0.031101810195306806,
          0.014434922654588908,
          -0.49980737445020135,
          -0.3483290908514139,
          -0.15098007899842017,
          -0.029071331164542028,
          -0.07314601361322191,
          -0.10098730904414505,
          -0.16016206772167266,
          0.14934566992553247,
          -0.012874373883465282
         ],
         "yaxis": "y"
        },
        {
         "hovertemplate": "color=Pseudastur<br>PCA1=%{x}<br>PCA2=%{y}<extra></extra>",
         "legendgroup": "Pseudastur",
         "marker": {
          "color": "#ab63fa",
          "symbol": "circle"
         },
         "mode": "markers",
         "name": "Pseudastur",
         "showlegend": true,
         "type": "scattergl",
         "x": [
          -0.31773850112529756,
          -0.7266476794003152
         ],
         "xaxis": "x",
         "y": [
          0.0013456804263538194,
          0.08202482470019537
         ],
         "yaxis": "y"
        },
        {
         "hovertemplate": "color=Pseudocolopteryx<br>PCA1=%{x}<br>PCA2=%{y}<extra></extra>",
         "legendgroup": "Pseudocolopteryx",
         "marker": {
          "color": "#FFA15A",
          "symbol": "circle"
         },
         "mode": "markers",
         "name": "Pseudocolopteryx",
         "showlegend": true,
         "type": "scattergl",
         "x": [
          -1.4256717879584888,
          -1.4729242309634025,
          -0.8630207008164373
         ],
         "xaxis": "x",
         "y": [
          0.04158493080986591,
          0.00269478302825417,
          0.04121159935167057
         ],
         "yaxis": "y"
        },
        {
         "hovertemplate": "color=Pseudotriccus<br>PCA1=%{x}<br>PCA2=%{y}<extra></extra>",
         "legendgroup": "Pseudotriccus",
         "marker": {
          "color": "#19d3f3",
          "symbol": "circle"
         },
         "mode": "markers",
         "name": "Pseudotriccus",
         "showlegend": true,
         "type": "scattergl",
         "x": [
          0.2712957865741413,
          3.905714511474914,
          -0.012127168767795966,
          -1.4132589827849418
         ],
         "xaxis": "x",
         "y": [
          0.047291723805718465,
          -0.5899962377791368,
          0.09996293979380656,
          0.06344600683252569
         ],
         "yaxis": "y"
        },
        {
         "hovertemplate": "color=Psittacara<br>PCA1=%{x}<br>PCA2=%{y}<extra></extra>",
         "legendgroup": "Psittacara",
         "marker": {
          "color": "#FF6692",
          "symbol": "circle"
         },
         "mode": "markers",
         "name": "Psittacara",
         "showlegend": true,
         "type": "scattergl",
         "x": [
          -0.7918264309449738,
          0.02275844856327869,
          -1.237653880983597
         ],
         "xaxis": "x",
         "y": [
          -0.07761386989917755,
          -0.3957120163979295,
          -0.01699235332796704
         ],
         "yaxis": "y"
        },
        {
         "hovertemplate": "color=Psophia<br>PCA1=%{x}<br>PCA2=%{y}<extra></extra>",
         "legendgroup": "Psophia",
         "marker": {
          "color": "#B6E880",
          "symbol": "circle"
         },
         "mode": "markers",
         "name": "Psophia",
         "showlegend": true,
         "type": "scattergl",
         "x": [
          -0.03753667057766148,
          -0.6303562911114253
         ],
         "xaxis": "x",
         "y": [
          -0.08796757999073199,
          0.038857116847763024
         ],
         "yaxis": "y"
        },
        {
         "hovertemplate": "color=Pteroglossus<br>PCA1=%{x}<br>PCA2=%{y}<extra></extra>",
         "legendgroup": "Pteroglossus",
         "marker": {
          "color": "#FF97FF",
          "symbol": "circle"
         },
         "mode": "markers",
         "name": "Pteroglossus",
         "showlegend": true,
         "type": "scattergl",
         "x": [
          0.9990485917478141,
          -0.5705595531812498,
          -0.38013777583608366,
          -0.16980379788812733,
          -0.7228989286103981,
          -0.1534172335114326,
          -0.16067030306468488,
          -0.4430397264734007,
          -0.5989615099998967,
          -1.1716786717901853,
          -0.28767202812365683
         ],
         "xaxis": "x",
         "y": [
          -0.29663917203770096,
          -0.018241541455550694,
          -0.32869848216649183,
          0.22240770533365525,
          0.07097164779783884,
          0.048971840116376335,
          0.11113434043230982,
          0.0345843741763438,
          -0.04392151034294249,
          0.021623133785849506,
          0.01968217070637489
         ],
         "yaxis": "y"
        },
        {
         "hovertemplate": "color=Pulsatrix<br>PCA1=%{x}<br>PCA2=%{y}<extra></extra>",
         "legendgroup": "Pulsatrix",
         "marker": {
          "color": "#FECB52",
          "symbol": "circle"
         },
         "mode": "markers",
         "name": "Pulsatrix",
         "showlegend": true,
         "type": "scattergl",
         "x": [
          2.969421582488187,
          0.5501868421021817,
          -0.9649019577133181,
          0.7790248750142356,
          -0.3872774912226389,
          2.0463426907571147
         ],
         "xaxis": "x",
         "y": [
          0.19610920864892556,
          0.12497471952118169,
          -0.16763006987132814,
          0.00232711961090931,
          0.26724971435507766,
          -0.2642107319225918
         ],
         "yaxis": "y"
        },
        {
         "hovertemplate": "color=Pygiptila<br>PCA1=%{x}<br>PCA2=%{y}<extra></extra>",
         "legendgroup": "Pygiptila",
         "marker": {
          "color": "#636efa",
          "symbol": "circle"
         },
         "mode": "markers",
         "name": "Pygiptila",
         "showlegend": true,
         "type": "scattergl",
         "x": [
          0.2843599067013895,
          -0.4589280269042657
         ],
         "xaxis": "x",
         "y": [
          -0.21011157339940842,
          -0.014860700205018826
         ],
         "yaxis": "y"
        },
        {
         "hovertemplate": "color=Pyrilia<br>PCA1=%{x}<br>PCA2=%{y}<extra></extra>",
         "legendgroup": "Pyrilia",
         "marker": {
          "color": "#EF553B",
          "symbol": "circle"
         },
         "mode": "markers",
         "name": "Pyrilia",
         "showlegend": true,
         "type": "scattergl",
         "x": [
          2.3274678723441498,
          -1.5161738488709104
         ],
         "xaxis": "x",
         "y": [
          0.3644502780693115,
          0.04408218157918012
         ],
         "yaxis": "y"
        },
        {
         "hovertemplate": "color=Pyrocephalus<br>PCA1=%{x}<br>PCA2=%{y}<extra></extra>",
         "legendgroup": "Pyrocephalus",
         "marker": {
          "color": "#00cc96",
          "symbol": "circle"
         },
         "mode": "markers",
         "name": "Pyrocephalus",
         "showlegend": true,
         "type": "scattergl",
         "x": [
          0.3227317669357865,
          1.1549423954272475
         ],
         "xaxis": "x",
         "y": [
          -0.3390814913144227,
          -0.008955184014837409
         ],
         "yaxis": "y"
        },
        {
         "hovertemplate": "color=Pyrrhomyias<br>PCA1=%{x}<br>PCA2=%{y}<extra></extra>",
         "legendgroup": "Pyrrhomyias",
         "marker": {
          "color": "#ab63fa",
          "symbol": "circle"
         },
         "mode": "markers",
         "name": "Pyrrhomyias",
         "showlegend": true,
         "type": "scattergl",
         "x": [
          -0.7399859538430726,
          2.447021158583603
         ],
         "xaxis": "x",
         "y": [
          0.0991455639106578,
          -0.0790584095020853
         ],
         "yaxis": "y"
        },
        {
         "hovertemplate": "color=Pyrrhura<br>PCA1=%{x}<br>PCA2=%{y}<extra></extra>",
         "legendgroup": "Pyrrhura",
         "marker": {
          "color": "#FFA15A",
          "symbol": "circle"
         },
         "mode": "markers",
         "name": "Pyrrhura",
         "showlegend": true,
         "type": "scattergl",
         "x": [
          -0.6738626352913348,
          0.20175182565699176,
          -1.1319398502676683
         ],
         "xaxis": "x",
         "y": [
          -0.0668744334443241,
          -0.13762245836125273,
          -0.015846811562807647
         ],
         "yaxis": "y"
        },
        {
         "hovertemplate": "color=Querula<br>PCA1=%{x}<br>PCA2=%{y}<extra></extra>",
         "legendgroup": "Querula",
         "marker": {
          "color": "#19d3f3",
          "symbol": "circle"
         },
         "mode": "markers",
         "name": "Querula",
         "showlegend": true,
         "type": "scattergl",
         "x": [
          -0.7183025077637294,
          -1.1371460119160428
         ],
         "xaxis": "x",
         "y": [
          0.14311839826384873,
          0.07299026748189179
         ],
         "yaxis": "y"
        },
        {
         "hovertemplate": "color=Ramphastos<br>PCA1=%{x}<br>PCA2=%{y}<extra></extra>",
         "legendgroup": "Ramphastos",
         "marker": {
          "color": "#FF6692",
          "symbol": "circle"
         },
         "mode": "markers",
         "name": "Ramphastos",
         "showlegend": true,
         "type": "scattergl",
         "x": [
          -1.1197035422965036,
          -1.1145102352996583,
          -0.8143700422033991,
          2.2497303273736287,
          3.8569659280104927,
          0.9842749202037863,
          0.05428623006955479,
          -0.4500450622703301
         ],
         "xaxis": "x",
         "y": [
          0.013059446238596185,
          0.02637735001312265,
          -0.07565351435577931,
          -0.3817110366894814,
          -0.07771674312728462,
          0.02358393697805266,
          0.006798959063229686,
          -0.0035045401528291356
         ],
         "yaxis": "y"
        },
        {
         "hovertemplate": "color=Ramphocaenus<br>PCA1=%{x}<br>PCA2=%{y}<extra></extra>",
         "legendgroup": "Ramphocaenus",
         "marker": {
          "color": "#B6E880",
          "symbol": "circle"
         },
         "mode": "markers",
         "name": "Ramphocaenus",
         "showlegend": true,
         "type": "scattergl",
         "x": [
          0.94906434331656,
          0.9829885620019945,
          -1.117790024294217,
          0.36381131160889596,
          -0.7946322260133094,
          0.3839652381683016
         ],
         "xaxis": "x",
         "y": [
          -0.24091791999981085,
          -0.2226957184790419,
          0.005063527341027649,
          -0.03426178577518499,
          0.06139239196089751,
          -0.24467326383475438
         ],
         "yaxis": "y"
        },
        {
         "hovertemplate": "color=Ramphocelus<br>PCA1=%{x}<br>PCA2=%{y}<extra></extra>",
         "legendgroup": "Ramphocelus",
         "marker": {
          "color": "#FF97FF",
          "symbol": "circle"
         },
         "mode": "markers",
         "name": "Ramphocelus",
         "showlegend": true,
         "type": "scattergl",
         "x": [
          -0.4662763558804799,
          2.41957506369748,
          1.1458781771700541,
          1.3341204371282194,
          0.268560760463962,
          -0.9112777607084229,
          0.8853992047336947
         ],
         "xaxis": "x",
         "y": [
          -0.4294104393989582,
          -0.6949591968717723,
          -0.11623885970232364,
          -0.22217924721130922,
          0.22849956704479712,
          -0.05130721630677716,
          -0.061678329775322144
         ],
         "yaxis": "y"
        },
        {
         "hovertemplate": "color=Ramphotrigon<br>PCA1=%{x}<br>PCA2=%{y}<extra></extra>",
         "legendgroup": "Ramphotrigon",
         "marker": {
          "color": "#FECB52",
          "symbol": "circle"
         },
         "mode": "markers",
         "name": "Ramphotrigon",
         "showlegend": true,
         "type": "scattergl",
         "x": [
          -0.6038578913116238,
          1.654712141401449,
          0.9438156358522808,
          -0.4922693815181436,
          -0.45480218867172806,
          0.9177971857283901,
          1.5521749818675012
         ],
         "xaxis": "x",
         "y": [
          -0.030865038690839404,
          0.8104038778945208,
          -0.04570603148171219,
          0.03547188380755204,
          0.12616899046776722,
          0.08194890210416711,
          -0.36223544624747916
         ],
         "yaxis": "y"
        },
        {
         "hovertemplate": "color=Rhegmatorhina<br>PCA1=%{x}<br>PCA2=%{y}<extra></extra>",
         "legendgroup": "Rhegmatorhina",
         "marker": {
          "color": "#636efa",
          "symbol": "circle"
         },
         "mode": "markers",
         "name": "Rhegmatorhina",
         "showlegend": true,
         "type": "scattergl",
         "x": [
          1.0885389085619177,
          -0.014725803125361515
         ],
         "xaxis": "x",
         "y": [
          -0.06607551192876447,
          0.36090635508046437
         ],
         "yaxis": "y"
        },
        {
         "hovertemplate": "color=Rhynchocyclus<br>PCA1=%{x}<br>PCA2=%{y}<extra></extra>",
         "legendgroup": "Rhynchocyclus",
         "marker": {
          "color": "#EF553B",
          "symbol": "circle"
         },
         "mode": "markers",
         "name": "Rhynchocyclus",
         "showlegend": true,
         "type": "scattergl",
         "x": [
          -0.9666872771964171,
          -1.0277118262868388,
          -0.5789608019729529,
          -0.32722017434274503,
          2.344312316999723
         ],
         "xaxis": "x",
         "y": [
          0.07650418463899798,
          -0.028714561000565405,
          -0.3797625313888224,
          -0.12086988561840252,
          0.022294078283813967
         ],
         "yaxis": "y"
        },
        {
         "hovertemplate": "color=Rhynchotus<br>PCA1=%{x}<br>PCA2=%{y}<extra></extra>",
         "legendgroup": "Rhynchotus",
         "marker": {
          "color": "#00cc96",
          "symbol": "circle"
         },
         "mode": "markers",
         "name": "Rhynchotus",
         "showlegend": true,
         "type": "scattergl",
         "x": [
          0.26587290549592785,
          1.297778170396894
         ],
         "xaxis": "x",
         "y": [
          0.37568170747766044,
          -0.8922007150782317
         ],
         "yaxis": "y"
        },
        {
         "hovertemplate": "color=Rhytipterna<br>PCA1=%{x}<br>PCA2=%{y}<extra></extra>",
         "legendgroup": "Rhytipterna",
         "marker": {
          "color": "#ab63fa",
          "symbol": "circle"
         },
         "mode": "markers",
         "name": "Rhytipterna",
         "showlegend": true,
         "type": "scattergl",
         "x": [
          -1.3229385910481712,
          -1.2384245448196436,
          -1.3660978087482671,
          -0.8387103296743768,
          5.529148174154151
         ],
         "xaxis": "x",
         "y": [
          0.042050883020032515,
          0.07057935992531598,
          0.10489480395635761,
          0.06070583556631926,
          0.08940254186027259
         ],
         "yaxis": "y"
        },
        {
         "hovertemplate": "color=Riparia<br>PCA1=%{x}<br>PCA2=%{y}<extra></extra>",
         "legendgroup": "Riparia",
         "marker": {
          "color": "#FFA15A",
          "symbol": "circle"
         },
         "mode": "markers",
         "name": "Riparia",
         "showlegend": true,
         "type": "scattergl",
         "x": [
          -0.0417137359917781,
          -0.29245811022209656
         ],
         "xaxis": "x",
         "y": [
          -0.1189199736349418,
          0.028145934797520405
         ],
         "yaxis": "y"
        },
        {
         "hovertemplate": "color=Rollandia<br>PCA1=%{x}<br>PCA2=%{y}<extra></extra>",
         "legendgroup": "Rollandia",
         "marker": {
          "color": "#19d3f3",
          "symbol": "circle"
         },
         "mode": "markers",
         "name": "Rollandia",
         "showlegend": true,
         "type": "scattergl",
         "x": [
          -0.43922043481712375,
          -1.0896547408987467,
          -0.44884931866020494
         ],
         "xaxis": "x",
         "y": [
          0.13764517988983527,
          0.21691287079889304,
          0.00605488813069067
         ],
         "yaxis": "y"
        },
        {
         "hovertemplate": "color=Rostrhamus<br>PCA1=%{x}<br>PCA2=%{y}<extra></extra>",
         "legendgroup": "Rostrhamus",
         "marker": {
          "color": "#FF6692",
          "symbol": "circle"
         },
         "mode": "markers",
         "name": "Rostrhamus",
         "showlegend": true,
         "type": "scattergl",
         "x": [
          0.20826810087308112
         ],
         "xaxis": "x",
         "y": [
          0.4029193796928056
         ],
         "yaxis": "y"
        },
        {
         "hovertemplate": "color=Rupicola<br>PCA1=%{x}<br>PCA2=%{y}<extra></extra>",
         "legendgroup": "Rupicola",
         "marker": {
          "color": "#B6E880",
          "symbol": "circle"
         },
         "mode": "markers",
         "name": "Rupicola",
         "showlegend": true,
         "type": "scattergl",
         "x": [
          0.5623873129129648,
          -0.18000424582906496,
          6.219939263144633,
          1.6678900887115213,
          -0.8812920703832162
         ],
         "xaxis": "x",
         "y": [
          -0.16815593720666047,
          -0.12465343301109245,
          1.5566696685530306,
          1.0538457462558573,
          0.10184201294501585
         ],
         "yaxis": "y"
        },
        {
         "hovertemplate": "color=Rupornis<br>PCA1=%{x}<br>PCA2=%{y}<extra></extra>",
         "legendgroup": "Rupornis",
         "marker": {
          "color": "#FF97FF",
          "symbol": "circle"
         },
         "mode": "markers",
         "name": "Rupornis",
         "showlegend": true,
         "type": "scattergl",
         "x": [
          -0.4947877189259806,
          -0.2033290773380073,
          0.4789763987629858
         ],
         "xaxis": "x",
         "y": [
          -0.19838818098582636,
          0.025738210592355742,
          -0.057340229333860425
         ],
         "yaxis": "y"
        },
        {
         "hovertemplate": "color=Rynchops<br>PCA1=%{x}<br>PCA2=%{y}<extra></extra>",
         "legendgroup": "Rynchops",
         "marker": {
          "color": "#FECB52",
          "symbol": "circle"
         },
         "mode": "markers",
         "name": "Rynchops",
         "showlegend": true,
         "type": "scattergl",
         "x": [
          1.159300293570226,
          -1.2542106575966254,
          -0.4750705182653119,
          -0.7310079370855905
         ],
         "xaxis": "x",
         "y": [
          -0.06439771900774387,
          0.11043685589019471,
          0.024202355570314492,
          -0.0834499304704315
         ],
         "yaxis": "y"
        },
        {
         "hovertemplate": "color=Saltator<br>PCA1=%{x}<br>PCA2=%{y}<extra></extra>",
         "legendgroup": "Saltator",
         "marker": {
          "color": "#636efa",
          "symbol": "circle"
         },
         "mode": "markers",
         "name": "Saltator",
         "showlegend": true,
         "type": "scattergl",
         "x": [
          -0.8087111993799234,
          0.23988188990038617,
          -0.9343211695322482,
          -0.5823759115410453,
          -0.5441021447529905,
          -0.10124004347814577,
          -0.15949870860666357,
          0.518645315778685,
          -1.2979372015717083,
          0.4750084466853359
         ],
         "xaxis": "x",
         "y": [
          0.05670788544900056,
          0.022227138250887943,
          0.03433499978926491,
          0.03510554454802117,
          -0.0008076572973915328,
          0.10393149416878564,
          -0.0860124842508867,
          -0.09346081040976577,
          0.05695541354027529,
          0.05630462861943803
         ],
         "yaxis": "y"
        },
        {
         "hovertemplate": "color=Sarcoramphus<br>PCA1=%{x}<br>PCA2=%{y}<extra></extra>",
         "legendgroup": "Sarcoramphus",
         "marker": {
          "color": "#EF553B",
          "symbol": "circle"
         },
         "mode": "markers",
         "name": "Sarcoramphus",
         "showlegend": true,
         "type": "scattergl",
         "x": [
          0.24921210979110325,
          -1.1899622109866717
         ],
         "xaxis": "x",
         "y": [
          0.7594378743756498,
          0.0002712483097558343
         ],
         "yaxis": "y"
        },
        {
         "hovertemplate": "color=Satrapa<br>PCA1=%{x}<br>PCA2=%{y}<extra></extra>",
         "legendgroup": "Satrapa",
         "marker": {
          "color": "#00cc96",
          "symbol": "circle"
         },
         "mode": "markers",
         "name": "Satrapa",
         "showlegend": true,
         "type": "scattergl",
         "x": [
          -1.1454126724135336
         ],
         "xaxis": "x",
         "y": [
          0.1943190841360103
         ],
         "yaxis": "y"
        },
        {
         "hovertemplate": "color=Sayornis<br>PCA1=%{x}<br>PCA2=%{y}<extra></extra>",
         "legendgroup": "Sayornis",
         "marker": {
          "color": "#ab63fa",
          "symbol": "circle"
         },
         "mode": "markers",
         "name": "Sayornis",
         "showlegend": true,
         "type": "scattergl",
         "x": [
          -0.7797129793352717,
          3.805000247475656,
          -1.2675205218066856
         ],
         "xaxis": "x",
         "y": [
          -0.014964643883726987,
          -0.2326862598964319,
          -0.043027297862877664
         ],
         "yaxis": "y"
        },
        {
         "hovertemplate": "color=Schiffornis<br>PCA1=%{x}<br>PCA2=%{y}<extra></extra>",
         "legendgroup": "Schiffornis",
         "marker": {
          "color": "#FFA15A",
          "symbol": "circle"
         },
         "mode": "markers",
         "name": "Schiffornis",
         "showlegend": true,
         "type": "scattergl",
         "x": [
          -0.29218731682124155,
          -0.41957966254156737,
          0.06210395662743962,
          -0.28916022700339866,
          0.8886643081726681,
          -1.256272048181464,
          -0.6782739288513093,
          2.403184413202127,
          1.1105483165582632
         ],
         "xaxis": "x",
         "y": [
          0.06198888268057885,
          -0.052090053316486334,
          0.11879259427188757,
          -0.018254761264177636,
          -0.05344003644068213,
          -0.006153837332883631,
          -0.16306465017635527,
          0.24517218904601926,
          0.045133449221929314
         ],
         "yaxis": "y"
        },
        {
         "hovertemplate": "color=Schistes<br>PCA1=%{x}<br>PCA2=%{y}<extra></extra>",
         "legendgroup": "Schistes",
         "marker": {
          "color": "#19d3f3",
          "symbol": "circle"
         },
         "mode": "markers",
         "name": "Schistes",
         "showlegend": true,
         "type": "scattergl",
         "x": [
          -0.5663525289804527,
          -0.37281463349644134
         ],
         "xaxis": "x",
         "y": [
          -0.02041001580748857,
          -0.09169533893669987
         ],
         "yaxis": "y"
        },
        {
         "hovertemplate": "color=Schistochlamys<br>PCA1=%{x}<br>PCA2=%{y}<extra></extra>",
         "legendgroup": "Schistochlamys",
         "marker": {
          "color": "#FF6692",
          "symbol": "circle"
         },
         "mode": "markers",
         "name": "Schistochlamys",
         "showlegend": true,
         "type": "scattergl",
         "x": [
          1.1030293771862998,
          -1.215013481707525
         ],
         "xaxis": "x",
         "y": [
          0.036871949382938723,
          0.0180037294768503
         ],
         "yaxis": "y"
        },
        {
         "hovertemplate": "color=Sciaphylax<br>PCA1=%{x}<br>PCA2=%{y}<extra></extra>",
         "legendgroup": "Sciaphylax",
         "marker": {
          "color": "#B6E880",
          "symbol": "circle"
         },
         "mode": "markers",
         "name": "Sciaphylax",
         "showlegend": true,
         "type": "scattergl",
         "x": [
          1.1762628753344921,
          1.0262237566390373,
          -1.4442117639888878
         ],
         "xaxis": "x",
         "y": [
          -0.10037146024619605,
          -0.1259815386996757,
          0.07324208671679285
         ],
         "yaxis": "y"
        },
        {
         "hovertemplate": "color=Sclateria<br>PCA1=%{x}<br>PCA2=%{y}<extra></extra>",
         "legendgroup": "Sclateria",
         "marker": {
          "color": "#FF97FF",
          "symbol": "circle"
         },
         "mode": "markers",
         "name": "Sclateria",
         "showlegend": true,
         "type": "scattergl",
         "x": [
          0.5769868660601252,
          0.7332521309880683,
          0.8233803770959021
         ],
         "xaxis": "x",
         "y": [
          0.20272289306893343,
          -0.15570909604800662,
          -0.022835859818908247
         ],
         "yaxis": "y"
        },
        {
         "hovertemplate": "color=Sclerurus<br>PCA1=%{x}<br>PCA2=%{y}<extra></extra>",
         "legendgroup": "Sclerurus",
         "marker": {
          "color": "#FECB52",
          "symbol": "circle"
         },
         "mode": "markers",
         "name": "Sclerurus",
         "showlegend": true,
         "type": "scattergl",
         "x": [
          1.3739756268587164,
          -0.261834658377053,
          0.3569395611029202,
          2.2986514483653036,
          -0.7971286321449902,
          -0.04486093708381599,
          4.442357506253776,
          -1.2101831652503634,
          2.171783283342343
         ],
         "xaxis": "x",
         "y": [
          -0.2413936286692466,
          -0.07755848726232059,
          -0.05798035681184572,
          -0.23023398837586107,
          0.051833789345957705,
          0.058734171073536665,
          -0.5286320123005195,
          0.05490298215730282,
          0.07907248321692095
         ],
         "yaxis": "y"
        },
        {
         "hovertemplate": "color=Scytalopus<br>PCA1=%{x}<br>PCA2=%{y}<extra></extra>",
         "legendgroup": "Scytalopus",
         "marker": {
          "color": "#636efa",
          "symbol": "circle"
         },
         "mode": "markers",
         "name": "Scytalopus",
         "showlegend": true,
         "type": "scattergl",
         "x": [
          0.6766045310703872,
          -0.653341874436413,
          0.958681645554349,
          0.6470374229362169,
          4.890560083353873,
          -0.6590707548189353,
          1.8304180754395025,
          -0.6606295442298984,
          -0.2771584757617644,
          -1.0785359167588373,
          -1.5247568707457932,
          -1.5363841171280237
         ],
         "xaxis": "x",
         "y": [
          0.02163290116001601,
          -0.010820386244957974,
          0.556161645878097,
          -0.3847734052091191,
          0.5154079339065498,
          0.06462362420944893,
          0.016784686135757492,
          -0.012547390926346156,
          0.1957973047233064,
          0.0403362489774615,
          0.04060423754690326,
          0.03589273701056752
         ],
         "yaxis": "y"
        },
        {
         "hovertemplate": "color=Selenidera<br>PCA1=%{x}<br>PCA2=%{y}<extra></extra>",
         "legendgroup": "Selenidera",
         "marker": {
          "color": "#EF553B",
          "symbol": "circle"
         },
         "mode": "markers",
         "name": "Selenidera",
         "showlegend": true,
         "type": "scattergl",
         "x": [
          -0.8771922362684548,
          -0.8284891882146057
         ],
         "xaxis": "x",
         "y": [
          0.06370298848724945,
          0.1404168189977257
         ],
         "yaxis": "y"
        },
        {
         "hovertemplate": "color=Serpophaga<br>PCA1=%{x}<br>PCA2=%{y}<extra></extra>",
         "legendgroup": "Serpophaga",
         "marker": {
          "color": "#00cc96",
          "symbol": "circle"
         },
         "mode": "markers",
         "name": "Serpophaga",
         "showlegend": true,
         "type": "scattergl",
         "x": [
          -0.05063951472141337,
          -0.6616296416951802,
          -0.5506792101314321,
          -0.7691841065938253,
          -0.35471147795982094,
          -1.0513144003787,
          -1.3557178284830564
         ],
         "xaxis": "x",
         "y": [
          -0.03446741429731187,
          0.2064763045902447,
          0.19137491360014502,
          -0.02672260498553541,
          0.06895110418438555,
          0.06280133907674115,
          0.065773566064411
         ],
         "yaxis": "y"
        },
        {
         "hovertemplate": "color=Setopagis<br>PCA1=%{x}<br>PCA2=%{y}<extra></extra>",
         "legendgroup": "Setopagis",
         "marker": {
          "color": "#ab63fa",
          "symbol": "circle"
         },
         "mode": "markers",
         "name": "Setopagis",
         "showlegend": true,
         "type": "scattergl",
         "x": [
          -0.5936650933032592,
          0.4033667446060736,
          -0.14017042695106302
         ],
         "xaxis": "x",
         "y": [
          0.11095243330617598,
          0.2919478815121105,
          0.22011343256446195
         ],
         "yaxis": "y"
        },
        {
         "hovertemplate": "color=Setophaga<br>PCA1=%{x}<br>PCA2=%{y}<extra></extra>",
         "legendgroup": "Setophaga",
         "marker": {
          "color": "#FFA15A",
          "symbol": "circle"
         },
         "mode": "markers",
         "name": "Setophaga",
         "showlegend": true,
         "type": "scattergl",
         "x": [
          -1.4711024138037918,
          -1.4215386335435387,
          13.0103997850135,
          -0.5893736444131344,
          -0.03373419683821862,
          -0.23925937349898982,
          0.18127041628938406,
          -0.8353173846486439,
          -1.0556523694667734,
          0.6176997443186211,
          -0.224782542370862,
          0.8937713479460316,
          -0.16213686462147672,
          0.3268589968427719,
          2.427153675053793,
          4.1552966267517535,
          -0.9760470005837276
         ],
         "xaxis": "x",
         "y": [
          0.06234567093093992,
          0.08242951276264752,
          -1.371941584060061,
          -0.03270679745701263,
          0.38016319913538277,
          0.10647495520277905,
          -0.1629031839094379,
          -0.07383774059883749,
          -0.00774584292721991,
          -0.04566362886912132,
          0.04318845932169834,
          -0.07144648546489467,
          -0.11609510188653883,
          -0.10292109318558493,
          0.3755290363966086,
          -0.19620720352826,
          -0.029519727986760707
         ],
         "yaxis": "y"
        },
        {
         "hovertemplate": "color=Sicalis<br>PCA1=%{x}<br>PCA2=%{y}<extra></extra>",
         "legendgroup": "Sicalis",
         "marker": {
          "color": "#19d3f3",
          "symbol": "circle"
         },
         "mode": "markers",
         "name": "Sicalis",
         "showlegend": true,
         "type": "scattergl",
         "x": [
          -0.7265830510382258,
          -1.3571835928462521,
          -0.932633571172184,
          -0.10145103903735685,
          -0.1269200234578085,
          -1.2342634747609866
         ],
         "xaxis": "x",
         "y": [
          0.014497318726440332,
          -0.034053256096217274,
          0.08465603394894422,
          -0.10275925031674653,
          -0.2662022657039783,
          0.01802101983993071
         ],
         "yaxis": "y"
        },
        {
         "hovertemplate": "color=Sirystes<br>PCA1=%{x}<br>PCA2=%{y}<extra></extra>",
         "legendgroup": "Sirystes",
         "marker": {
          "color": "#FF6692",
          "symbol": "circle"
         },
         "mode": "markers",
         "name": "Sirystes",
         "showlegend": true,
         "type": "scattergl",
         "x": [
          -0.4410502905024857,
          0.5814063312953143,
          -1.020510036017956,
          1.9260387673497574
         ],
         "xaxis": "x",
         "y": [
          0.026899258172298508,
          -0.16709187517532278,
          0.08803569020928861,
          0.17568927910376508
         ],
         "yaxis": "y"
        },
        {
         "hovertemplate": "color=Sittasomus<br>PCA1=%{x}<br>PCA2=%{y}<extra></extra>",
         "legendgroup": "Sittasomus",
         "marker": {
          "color": "#B6E880",
          "symbol": "circle"
         },
         "mode": "markers",
         "name": "Sittasomus",
         "showlegend": true,
         "type": "scattergl",
         "x": [
          -1.1137250469302586,
          -0.9449088018325451,
          -0.5329710824349424
         ],
         "xaxis": "x",
         "y": [
          0.014936638520224421,
          0.04528554771124243,
          -0.02968773208444423
         ],
         "yaxis": "y"
        },
        {
         "hovertemplate": "color=Snowornis<br>PCA1=%{x}<br>PCA2=%{y}<extra></extra>",
         "legendgroup": "Snowornis",
         "marker": {
          "color": "#FF97FF",
          "symbol": "circle"
         },
         "mode": "markers",
         "name": "Snowornis",
         "showlegend": true,
         "type": "scattergl",
         "x": [
          -1.3992037502656722,
          -1.3751898411135441,
          -0.43436130801808703
         ],
         "xaxis": "x",
         "y": [
          0.09147987697471796,
          0.049323380791162705,
          0.08814144208427058
         ],
         "yaxis": "y"
        },
        {
         "hovertemplate": "color=Spatula<br>PCA1=%{x}<br>PCA2=%{y}<extra></extra>",
         "legendgroup": "Spatula",
         "marker": {
          "color": "#FECB52",
          "symbol": "circle"
         },
         "mode": "markers",
         "name": "Spatula",
         "showlegend": true,
         "type": "scattergl",
         "x": [
          -1.29758804216101,
          -1.205163852322991,
          -1.210517426277475,
          1.625464485604835,
          -1.103166221959767,
          -0.42082719410971203,
          -1.3186688504181319,
          0.5913385494762416
         ],
         "xaxis": "x",
         "y": [
          0.032883458841278086,
          0.08839147532990961,
          0.11644288994482854,
          0.04415820318738786,
          0.13856837751216902,
          0.2918632346810917,
          0.03538886456955837,
          0.8980716360661763
         ],
         "yaxis": "y"
        },
        {
         "hovertemplate": "color=Spinus<br>PCA1=%{x}<br>PCA2=%{y}<extra></extra>",
         "legendgroup": "Spinus",
         "marker": {
          "color": "#636efa",
          "symbol": "circle"
         },
         "mode": "markers",
         "name": "Spinus",
         "showlegend": true,
         "type": "scattergl",
         "x": [
          0.06423372314674093,
          -0.05515628133778154,
          0.8798610012630278,
          -1.1878641816843667,
          -0.6171179784698094,
          -1.335672895489697,
          0.9875173043688548
         ],
         "xaxis": "x",
         "y": [
          -0.6110606116049706,
          -0.07842444708056139,
          0.16863518496095012,
          0.09923434628996138,
          0.09718238581193704,
          0.025288101989413583,
          0.17005044494868868
         ],
         "yaxis": "y"
        },
        {
         "hovertemplate": "color=Spizaetus<br>PCA1=%{x}<br>PCA2=%{y}<extra></extra>",
         "legendgroup": "Spizaetus",
         "marker": {
          "color": "#EF553B",
          "symbol": "circle"
         },
         "mode": "markers",
         "name": "Spizaetus",
         "showlegend": true,
         "type": "scattergl",
         "x": [
          -0.8701376865442507,
          3.410832313720011,
          -0.9734547485134869,
          1.7985295525988054,
          -0.7969644033051599,
          0.40925335629776055,
          -0.11878246637642723,
          -0.30825295381583223,
          -0.24843675951922928,
          -1.1249825204829909,
          -0.9245846787619252
         ],
         "xaxis": "x",
         "y": [
          0.05565743507320524,
          -1.5732781121600738,
          -0.08414055238279003,
          -1.3587320543294472,
          0.20292081119286295,
          -0.14810256409142164,
          -0.040642956694559855,
          -0.1460286868507151,
          0.40072253810010044,
          0.011219648436086839,
          0.09318900357795531
         ],
         "yaxis": "y"
        },
        {
         "hovertemplate": "color=Sporophila<br>PCA1=%{x}<br>PCA2=%{y}<extra></extra>",
         "legendgroup": "Sporophila",
         "marker": {
          "color": "#00cc96",
          "symbol": "circle"
         },
         "mode": "markers",
         "name": "Sporophila",
         "showlegend": true,
         "type": "scattergl",
         "x": [
          -0.5918344346296431,
          0.08912734098213135,
          0.595353490998809,
          -0.3344157816250315,
          0.5578669653199075,
          -0.5800229582951775,
          -0.2080022074404943,
          0.8355667194203336,
          -1.1927075883964402,
          0.929633940290595,
          0.454969172083517,
          -0.9946594938764204,
          -0.7079509585526181,
          -0.8783567342660095,
          -0.14271804865323862,
          -0.9239189128283326,
          -1.483777248943158,
          0.011876939033579113,
          -1.4281873044293778,
          -0.45388708358117524,
          -1.306468187851719,
          -0.8427544153085844,
          0.0707546999331207,
          -0.1782805662330423,
          -1.2958844510378327,
          0.355426297982995,
          -0.9797110644986486,
          -1.3719824496842117,
          -0.8752879431948236,
          -1.4105496462247067,
          -0.054354980648536846,
          1.653416503541457,
          -0.7404496778079934,
          -0.21737825064211805,
          0.9027727403368188,
          4.367602045597947,
          1.0450865339800806,
          -0.19300555876790715,
          -1.3138706231231838
         ],
         "xaxis": "x",
         "y": [
          0.0808804829471759,
          0.1422397577665006,
          -0.06703291793765391,
          -0.04027945806801127,
          0.14012590669434233,
          0.21580668750147228,
          -0.21184327133760378,
          -0.15258923857277418,
          0.016638132451219576,
          0.12373108770903715,
          0.06578029705448091,
          -0.04272322322317804,
          0.05381981241493533,
          0.019835536732187072,
          -0.04006834055624778,
          0.10071961650617169,
          0.021424444348572998,
          0.15329076500457983,
          0.0797353910923246,
          0.040615337675244195,
          0.00019175533220130148,
          0.10584231797773201,
          0.22618664718350243,
          -0.33099099278249244,
          0.027343614898506906,
          0.02345709418797764,
          0.12120537252479983,
          0.02340115270504627,
          -0.014002821888369684,
          0.06705146704009311,
          0.16633029108789144,
          -0.1606930294426319,
          0.05475310899623792,
          0.08383788583906505,
          -0.31465183968909616,
          0.2716610703197399,
          -0.19795339304856457,
          -0.21398710187638012,
          0.09736414219159092
         ],
         "yaxis": "y"
        },
        {
         "hovertemplate": "color=Steatornis<br>PCA1=%{x}<br>PCA2=%{y}<extra></extra>",
         "legendgroup": "Steatornis",
         "marker": {
          "color": "#ab63fa",
          "symbol": "circle"
         },
         "mode": "markers",
         "name": "Steatornis",
         "showlegend": true,
         "type": "scattergl",
         "x": [
          0.20602725273832537,
          -0.19062425662891935
         ],
         "xaxis": "x",
         "y": [
          -0.2435638433957262,
          0.14016527488013045
         ],
         "yaxis": "y"
        },
        {
         "hovertemplate": "color=Stelgidopteryx<br>PCA1=%{x}<br>PCA2=%{y}<extra></extra>",
         "legendgroup": "Stelgidopteryx",
         "marker": {
          "color": "#FFA15A",
          "symbol": "circle"
         },
         "mode": "markers",
         "name": "Stelgidopteryx",
         "showlegend": true,
         "type": "scattergl",
         "x": [
          -1.285882217328809,
          -1.2936384409363264
         ],
         "xaxis": "x",
         "y": [
          0.01951204344643555,
          0.04045177423045063
         ],
         "yaxis": "y"
        },
        {
         "hovertemplate": "color=Sterna<br>PCA1=%{x}<br>PCA2=%{y}<extra></extra>",
         "legendgroup": "Sterna",
         "marker": {
          "color": "#19d3f3",
          "symbol": "circle"
         },
         "mode": "markers",
         "name": "Sterna",
         "showlegend": true,
         "type": "scattergl",
         "x": [
          1.4668019173301672,
          0.3849976418621602,
          -1.4564977801779349
         ],
         "xaxis": "x",
         "y": [
          0.07275134983615532,
          0.17983790113961495,
          0.019769843580788232
         ],
         "yaxis": "y"
        },
        {
         "hovertemplate": "color=Sternula<br>PCA1=%{x}<br>PCA2=%{y}<extra></extra>",
         "legendgroup": "Sternula",
         "marker": {
          "color": "#FF6692",
          "symbol": "circle"
         },
         "mode": "markers",
         "name": "Sternula",
         "showlegend": true,
         "type": "scattergl",
         "x": [
          -0.7693293036973715,
          -1.5328959432133547,
          -0.6111594917690406,
          -1.3502732055622535,
          0.23255850471385073
         ],
         "xaxis": "x",
         "y": [
          -0.02184960935517885,
          0.03730618717146823,
          -0.14682160640564143,
          0.03938494757481605,
          0.21466917809808084
         ],
         "yaxis": "y"
        },
        {
         "hovertemplate": "color=Streptoprocne<br>PCA1=%{x}<br>PCA2=%{y}<extra></extra>",
         "legendgroup": "Streptoprocne",
         "marker": {
          "color": "#B6E880",
          "symbol": "circle"
         },
         "mode": "markers",
         "name": "Streptoprocne",
         "showlegend": true,
         "type": "scattergl",
         "x": [
          -0.577219446035569,
          -1.1529397866832356,
          -1.4567374794097452,
          -0.5795576948556213,
          -1.4744108939107357,
          -1.2318813144988379,
          -1.3139670797916037,
          -0.5320990928764152,
          -1.162531769995694
         ],
         "xaxis": "x",
         "y": [
          0.04336080830102515,
          0.01218804908549999,
          0.0681665156844674,
          -0.21376826277359195,
          0.06100503486923719,
          0.031068894675114957,
          0.021846900026825107,
          -0.06514869374113401,
          0.04663360135422586
         ],
         "yaxis": "y"
        },
        {
         "hovertemplate": "color=Sublegatus<br>PCA1=%{x}<br>PCA2=%{y}<extra></extra>",
         "legendgroup": "Sublegatus",
         "marker": {
          "color": "#FF97FF",
          "symbol": "circle"
         },
         "mode": "markers",
         "name": "Sublegatus",
         "showlegend": true,
         "type": "scattergl",
         "x": [
          -0.08141717475105796,
          1.9809089526038959,
          -1.387508978612096,
          -1.3893205908407764,
          -0.7894731775029087
         ],
         "xaxis": "x",
         "y": [
          0.19699405229717631,
          0.4278736660472397,
          0.000005416370171261417,
          0.09548465243060332,
          0.0349102608528646
         ],
         "yaxis": "y"
        },
        {
         "hovertemplate": "color=Synallaxis<br>PCA1=%{x}<br>PCA2=%{y}<extra></extra>",
         "legendgroup": "Synallaxis",
         "marker": {
          "color": "#FECB52",
          "symbol": "circle"
         },
         "mode": "markers",
         "name": "Synallaxis",
         "showlegend": true,
         "type": "scattergl",
         "x": [
          2.9450401390586194,
          -0.15523209198852064,
          2.6291253222604776,
          1.4452883282577227,
          -0.20768611151639146,
          1.1949742145458149,
          -0.007228791428972668,
          -1.0214465402233608,
          -1.0160532727779088,
          0.6828842138130145,
          -0.28159697859589683,
          1.7609384148663059,
          -0.6967947740286708,
          1.6894630929411092,
          0.5859391566631555,
          -0.10802364691274247,
          1.1656012164640277,
          -0.27236813883337696
         ],
         "xaxis": "x",
         "y": [
          -0.06662815467306163,
          -0.060666983095859744,
          -0.3125452491497772,
          0.03782727185649641,
          -0.05838567341873049,
          0.05989912502845096,
          0.011237688660383001,
          0.04575395670566264,
          0.038239937833163415,
          -0.09301397203507496,
          -0.07062389589782728,
          -0.01609268440505393,
          0.01494244876533962,
          0.21247569785809112,
          0.2521097427595268,
          0.18475719685264305,
          -0.20314423878206575,
          -0.15751491690331892
         ],
         "yaxis": "y"
        },
        {
         "hovertemplate": "color=Syndactyla<br>PCA1=%{x}<br>PCA2=%{y}<extra></extra>",
         "legendgroup": "Syndactyla",
         "marker": {
          "color": "#636efa",
          "symbol": "circle"
         },
         "mode": "markers",
         "name": "Syndactyla",
         "showlegend": true,
         "type": "scattergl",
         "x": [
          0.08406678962344763,
          -0.0006572745536162761,
          3.732688065210732,
          -1.1335219678169002,
          -0.2644365657069763,
          1.8734409863786985
         ],
         "xaxis": "x",
         "y": [
          -0.1694825212266934,
          -0.16441134073017682,
          -0.8189304369098506,
          -0.03929043158062086,
          -0.08363946604318209,
          -0.36503955687314277
         ],
         "yaxis": "y"
        },
        {
         "hovertemplate": "color=Tachornis<br>PCA1=%{x}<br>PCA2=%{y}<extra></extra>",
         "legendgroup": "Tachornis",
         "marker": {
          "color": "#EF553B",
          "symbol": "circle"
         },
         "mode": "markers",
         "name": "Tachornis",
         "showlegend": true,
         "type": "scattergl",
         "x": [
          -1.1933663239100438,
          -0.7897311327974736,
          -0.38135681539625904
         ],
         "xaxis": "x",
         "y": [
          0.08477387548432536,
          -0.10002069770661542,
          0.005721558586125674
         ],
         "yaxis": "y"
        },
        {
         "hovertemplate": "color=Tachybaptus<br>PCA1=%{x}<br>PCA2=%{y}<extra></extra>",
         "legendgroup": "Tachybaptus",
         "marker": {
          "color": "#00cc96",
          "symbol": "circle"
         },
         "mode": "markers",
         "name": "Tachybaptus",
         "showlegend": true,
         "type": "scattergl",
         "x": [
          -1.5297248760182007,
          -1.3253457315611585,
          -0.17821201130557945,
          -0.279179889119564,
          0.6257479136672885
         ],
         "xaxis": "x",
         "y": [
          0.038591141863196246,
          0.04650537025094316,
          0.08217236454044866,
          -0.07902742407842217,
          -0.2942676589021451
         ],
         "yaxis": "y"
        },
        {
         "hovertemplate": "color=Tachycineta<br>PCA1=%{x}<br>PCA2=%{y}<extra></extra>",
         "legendgroup": "Tachycineta",
         "marker": {
          "color": "#ab63fa",
          "symbol": "circle"
         },
         "mode": "markers",
         "name": "Tachycineta",
         "showlegend": true,
         "type": "scattergl",
         "x": [
          -0.9028912499296676,
          -1.2228088112831053,
          -0.033271259302794995,
          -1.3044279799192957,
          -1.1459416886421894
         ],
         "xaxis": "x",
         "y": [
          0.015210813282734086,
          -0.04140720579202582,
          0.19805228737183037,
          0.07919531534918314,
          -0.058498808899319306
         ],
         "yaxis": "y"
        },
        {
         "hovertemplate": "color=Tachyphonus<br>PCA1=%{x}<br>PCA2=%{y}<extra></extra>",
         "legendgroup": "Tachyphonus",
         "marker": {
          "color": "#FFA15A",
          "symbol": "circle"
         },
         "mode": "markers",
         "name": "Tachyphonus",
         "showlegend": true,
         "type": "scattergl",
         "x": [
          2.3855566278839357,
          0.6412572407465527,
          0.5284426163317779,
          -0.30543491898054803,
          -1.3284033516154907
         ],
         "xaxis": "x",
         "y": [
          -0.4458774356105111,
          -0.5281492309534046,
          -0.028715769497148498,
          -0.08086310442523924,
          0.06389914056439368
         ],
         "yaxis": "y"
        },
        {
         "hovertemplate": "color=Tangara<br>PCA1=%{x}<br>PCA2=%{y}<extra></extra>",
         "legendgroup": "Tangara",
         "marker": {
          "color": "#19d3f3",
          "symbol": "circle"
         },
         "mode": "markers",
         "name": "Tangara",
         "showlegend": true,
         "type": "scattergl",
         "x": [
          -1.3507287030757553,
          -1.0900312198500839,
          -0.6416906521683096,
          -1.17130767577923,
          -0.6471772976788045,
          -0.02620494706894055,
          -1.1923643729310205,
          1.760088719641406,
          -1.1760173747534293,
          -0.7384269593544637,
          0.671681179426113,
          -0.27122720955760343,
          0.8968489102575198,
          -0.20339718992821224,
          -1.1118439053045013,
          -1.1906392687511946,
          -0.3661255764736884,
          0.28872704276889444,
          4.297583777911434,
          -1.0697887066151504,
          -1.3509689031773804,
          -1.341152080146391,
          -1.2358593783257985,
          0.7246983268643304,
          -0.962384937837544,
          -0.9145771039119609,
          0.07620355434931228,
          -1.2594778213767566,
          -0.72651450212477,
          -0.7619735950299055,
          -1.4519213484298814,
          2.0027594090088456,
          -0.37270417055697946,
          1.7234486132711009,
          1.5485226026433747,
          -0.605968978733214
         ],
         "xaxis": "x",
         "y": [
          0.11112255102893236,
          0.051832637343247494,
          0.045792680222715,
          0.07432706171635803,
          -0.06860843082500218,
          -0.22937617385731948,
          0.10831629854024047,
          0.3502624669530197,
          0.0046986196027398106,
          -0.013036190517345805,
          0.33280591685627614,
          -0.04832070646413694,
          0.3291335844382752,
          -0.06957655138437026,
          0.0888324611217687,
          0.07188706062878669,
          -0.06531241258335935,
          0.19353651699652283,
          0.2718591979488868,
          -0.15103185876262948,
          0.0009793258284330713,
          0.1150031141979507,
          0.05305616084873969,
          -0.14180191760776506,
          0.05291699259436604,
          0.08446459856488583,
          0.0027495060530516127,
          0.007925233985903897,
          -0.17191113950029893,
          -0.2315698442015976,
          0.017290512027564185,
          -0.17917217285792078,
          -0.10008659441441346,
          0.3784282881000188,
          -0.18085952818875506,
          -0.15060919701256092
         ],
         "yaxis": "y"
        },
        {
         "hovertemplate": "color=Tapera<br>PCA1=%{x}<br>PCA2=%{y}<extra></extra>",
         "legendgroup": "Tapera",
         "marker": {
          "color": "#FF6692",
          "symbol": "circle"
         },
         "mode": "markers",
         "name": "Tapera",
         "showlegend": true,
         "type": "scattergl",
         "x": [
          3.584515030678317,
          0.2881865242765404
         ],
         "xaxis": "x",
         "y": [
          0.15746474072846767,
          -0.06232266596925907
         ],
         "yaxis": "y"
        },
        {
         "hovertemplate": "color=Taphrospilus<br>PCA1=%{x}<br>PCA2=%{y}<extra></extra>",
         "legendgroup": "Taphrospilus",
         "marker": {
          "color": "#B6E880",
          "symbol": "circle"
         },
         "mode": "markers",
         "name": "Taphrospilus",
         "showlegend": true,
         "type": "scattergl",
         "x": [
          -1.001173451165199,
          -0.9732711137675032,
          -0.8538338701815625
         ],
         "xaxis": "x",
         "y": [
          0.04162668666872097,
          0.04311809196381501,
          0.0511176645877813
         ],
         "yaxis": "y"
        },
        {
         "hovertemplate": "color=Taraba<br>PCA1=%{x}<br>PCA2=%{y}<extra></extra>",
         "legendgroup": "Taraba",
         "marker": {
          "color": "#FF97FF",
          "symbol": "circle"
         },
         "mode": "markers",
         "name": "Taraba",
         "showlegend": true,
         "type": "scattergl",
         "x": [
          -1.1722821817804698,
          2.1441914156783826,
          -1.3299370724995305
         ],
         "xaxis": "x",
         "y": [
          0.18343123471476885,
          0.06919789232340161,
          0.11954757062436176
         ],
         "yaxis": "y"
        },
        {
         "hovertemplate": "color=Terenotriccus<br>PCA1=%{x}<br>PCA2=%{y}<extra></extra>",
         "legendgroup": "Terenotriccus",
         "marker": {
          "color": "#FECB52",
          "symbol": "circle"
         },
         "mode": "markers",
         "name": "Terenotriccus",
         "showlegend": true,
         "type": "scattergl",
         "x": [
          1.5123961715005276,
          2.0066213815389413,
          -1.1218685126010874,
          0.5086630151307701
         ],
         "xaxis": "x",
         "y": [
          -0.011822796044365294,
          0.12692261025976975,
          0.04769890028070639,
          -0.04974526181569133
         ],
         "yaxis": "y"
        },
        {
         "hovertemplate": "color=Tersina<br>PCA1=%{x}<br>PCA2=%{y}<extra></extra>",
         "legendgroup": "Tersina",
         "marker": {
          "color": "#636efa",
          "symbol": "circle"
         },
         "mode": "markers",
         "name": "Tersina",
         "showlegend": true,
         "type": "scattergl",
         "x": [
          -0.1869725325441296,
          -0.5563897487051458,
          1.007129661739081,
          -0.8678487216991836
         ],
         "xaxis": "x",
         "y": [
          0.12877178603964,
          0.05807226512273185,
          -0.2191039741972031,
          0.009144484933924365
         ],
         "yaxis": "y"
        },
        {
         "hovertemplate": "color=Thalurania<br>PCA1=%{x}<br>PCA2=%{y}<extra></extra>",
         "legendgroup": "Thalurania",
         "marker": {
          "color": "#EF553B",
          "symbol": "circle"
         },
         "mode": "markers",
         "name": "Thalurania",
         "showlegend": true,
         "type": "scattergl",
         "x": [
          -0.22657170512979233,
          -1.3631618464835045,
          0.020361341750262545
         ],
         "xaxis": "x",
         "y": [
          -0.07138720915133556,
          0.035217239971059966,
          -0.09238879240495021
         ],
         "yaxis": "y"
        },
        {
         "hovertemplate": "color=Thamnistes<br>PCA1=%{x}<br>PCA2=%{y}<extra></extra>",
         "legendgroup": "Thamnistes",
         "marker": {
          "color": "#00cc96",
          "symbol": "circle"
         },
         "mode": "markers",
         "name": "Thamnistes",
         "showlegend": true,
         "type": "scattergl",
         "x": [
          -0.7449693774250905,
          -0.9109808007049613,
          -1.0700466546481988
         ],
         "xaxis": "x",
         "y": [
          0.052726532780207745,
          0.08266835780624249,
          0.06313122579237423
         ],
         "yaxis": "y"
        },
        {
         "hovertemplate": "color=Thamnomanes<br>PCA1=%{x}<br>PCA2=%{y}<extra></extra>",
         "legendgroup": "Thamnomanes",
         "marker": {
          "color": "#ab63fa",
          "symbol": "circle"
         },
         "mode": "markers",
         "name": "Thamnomanes",
         "showlegend": true,
         "type": "scattergl",
         "x": [
          -1.2317836667022763,
          -1.314033919588659,
          0.9773171296052018
         ],
         "xaxis": "x",
         "y": [
          0.01935915173774099,
          -0.001711167907208056,
          0.2736691658933521
         ],
         "yaxis": "y"
        },
        {
         "hovertemplate": "color=Thamnophilus<br>PCA1=%{x}<br>PCA2=%{y}<extra></extra>",
         "legendgroup": "Thamnophilus",
         "marker": {
          "color": "#FFA15A",
          "symbol": "circle"
         },
         "mode": "markers",
         "name": "Thamnophilus",
         "showlegend": true,
         "type": "scattergl",
         "x": [
          -0.6638884104423354,
          -0.20881184790108723,
          -1.0320613509253402,
          0.5839765443116421,
          -0.10990341565774148,
          -1.199535062171924,
          -0.6708855633829448,
          -0.3924410412183635,
          -0.21299313312072357,
          -0.6878056158749466,
          -0.10054882910424423,
          1.0322168341089708,
          0.6899753969768414,
          0.003206796253154494,
          -1.3672837359153969,
          2.351199594180841,
          -0.9772189346537857,
          -0.5431123546699559,
          0.2999277393053063,
          -0.8319487482002366,
          2.485997108757559,
          -1.1383100429315491,
          -0.212939550916408,
          -0.04030757082891562,
          2.0181248368542706,
          0.7379917726811744,
          -0.12218257576634688
         ],
         "xaxis": "x",
         "y": [
          -0.0009421772261437778,
          -0.06918512336717132,
          0.040058474016267186,
          0.043955677582931466,
          -0.02796552519490525,
          0.022673765259048996,
          -0.011314766162299632,
          -0.05998658453809957,
          -0.0010254477171192358,
          0.006699519000676595,
          0.1464231517632848,
          0.42129958125239686,
          -0.018490228426292634,
          -0.14141157753055275,
          0.044311778143819355,
          -0.25710336347068724,
          -0.04835927679685134,
          0.0410155326010736,
          -0.1452538023954665,
          -0.13525596730021805,
          -0.3430128448781306,
          0.012550576595504058,
          0.14864248702941069,
          -0.08461800641438666,
          -0.32098251499839264,
          0.11392065193347725,
          0.12133893697879594
         ],
         "yaxis": "y"
        },
        {
         "hovertemplate": "color=Theristicus<br>PCA1=%{x}<br>PCA2=%{y}<extra></extra>",
         "legendgroup": "Theristicus",
         "marker": {
          "color": "#19d3f3",
          "symbol": "circle"
         },
         "mode": "markers",
         "name": "Theristicus",
         "showlegend": true,
         "type": "scattergl",
         "x": [
          -0.8195135527605926,
          -1.1733873373195831,
          -1.2086946725190706,
          -1.029269627645946,
          -0.7227514676893863,
          -1.3097072157602367
         ],
         "xaxis": "x",
         "y": [
          -0.10816637370019773,
          -0.07751976616657456,
          -0.006326711887949702,
          -0.002398139380887767,
          -0.09570884345890467,
          0.038920066046474584
         ],
         "yaxis": "y"
        },
        {
         "hovertemplate": "color=Thlypopsis<br>PCA1=%{x}<br>PCA2=%{y}<extra></extra>",
         "legendgroup": "Thlypopsis",
         "marker": {
          "color": "#FF6692",
          "symbol": "circle"
         },
         "mode": "markers",
         "name": "Thlypopsis",
         "showlegend": true,
         "type": "scattergl",
         "x": [
          -0.642422150503462,
          -1.1897577982384757,
          -0.49326822045704605,
          -1.3606197997610263,
          0.17817411383417592
         ],
         "xaxis": "x",
         "y": [
          0.013890133522178667,
          0.015819347508644263,
          -0.08420249350045637,
          0.031164418235654787,
          -0.22811382654709675
         ],
         "yaxis": "y"
        },
        {
         "hovertemplate": "color=Thraupis<br>PCA1=%{x}<br>PCA2=%{y}<extra></extra>",
         "legendgroup": "Thraupis",
         "marker": {
          "color": "#B6E880",
          "symbol": "circle"
         },
         "mode": "markers",
         "name": "Thraupis",
         "showlegend": true,
         "type": "scattergl",
         "x": [
          0.8451716852540987,
          -1.0236774956105867,
          0.4935250963383258,
          -1.3831264395862428,
          -0.25118064999657974,
          -1.4988915326573227,
          -1.3540054725107473
         ],
         "xaxis": "x",
         "y": [
          0.324952788479861,
          0.03463726369544212,
          -0.06429144439624146,
          0.09799459726177855,
          -0.3567500338038241,
          0.05108518464909744,
          0.10979476451414674
         ],
         "yaxis": "y"
        },
        {
         "hovertemplate": "color=Threnetes<br>PCA1=%{x}<br>PCA2=%{y}<extra></extra>",
         "legendgroup": "Threnetes",
         "marker": {
          "color": "#FF97FF",
          "symbol": "circle"
         },
         "mode": "markers",
         "name": "Threnetes",
         "showlegend": true,
         "type": "scattergl",
         "x": [
          4.567341224917617,
          1.488371582984478,
          1.1897666792363961,
          0.04898555913311037
         ],
         "xaxis": "x",
         "y": [
          0.4695717963449126,
          -0.09485407751083494,
          -0.15416959417134257,
          -0.3407749551000098
         ],
         "yaxis": "y"
        },
        {
         "hovertemplate": "color=Thripadectes<br>PCA1=%{x}<br>PCA2=%{y}<extra></extra>",
         "legendgroup": "Thripadectes",
         "marker": {
          "color": "#FECB52",
          "symbol": "circle"
         },
         "mode": "markers",
         "name": "Thripadectes",
         "showlegend": true,
         "type": "scattergl",
         "x": [
          -0.8523598685145686,
          0.23178602623716943,
          -0.3511324369154885,
          -0.219299335265731,
          -0.654391298557699,
          -0.10417360801938193,
          -0.2887474263320541,
          0.3636309492097079
         ],
         "xaxis": "x",
         "y": [
          0.03911302678016852,
          0.0785150167427198,
          -0.08746799103293716,
          -0.16202086947384317,
          -0.005821375999198073,
          -0.17413943702565687,
          0.05904040898134911,
          -0.03814242625193088
         ],
         "yaxis": "y"
        },
        {
         "hovertemplate": "color=Thripophaga<br>PCA1=%{x}<br>PCA2=%{y}<extra></extra>",
         "legendgroup": "Thripophaga",
         "marker": {
          "color": "#636efa",
          "symbol": "circle"
         },
         "mode": "markers",
         "name": "Thripophaga",
         "showlegend": true,
         "type": "scattergl",
         "x": [
          -0.8831686467746642,
          -0.2401652948874391
         ],
         "xaxis": "x",
         "y": [
          0.032858711210598836,
          -0.09447370921270846
         ],
         "yaxis": "y"
        },
        {
         "hovertemplate": "color=Tigrisoma<br>PCA1=%{x}<br>PCA2=%{y}<extra></extra>",
         "legendgroup": "Tigrisoma",
         "marker": {
          "color": "#EF553B",
          "symbol": "circle"
         },
         "mode": "markers",
         "name": "Tigrisoma",
         "showlegend": true,
         "type": "scattergl",
         "x": [
          -1.4283141471171839,
          1.988154535373853,
          -1.5374834204223438,
          -1.0704063630241636
         ],
         "xaxis": "x",
         "y": [
          0.07968399290465551,
          -0.00860988739711599,
          0.03544728605076862,
          0.2247125457776816
         ],
         "yaxis": "y"
        },
        {
         "hovertemplate": "color=Tinamus<br>PCA1=%{x}<br>PCA2=%{y}<extra></extra>",
         "legendgroup": "Tinamus",
         "marker": {
          "color": "#00cc96",
          "symbol": "circle"
         },
         "mode": "markers",
         "name": "Tinamus",
         "showlegend": true,
         "type": "scattergl",
         "x": [
          -0.9964496031646429,
          -1.278162997540182,
          -0.8643511430304188,
          2.469914741766933,
          -0.6972362881306158,
          4.826398636677002,
          -0.3333816942578358,
          -0.9237768127931951,
          0.5181810571652099,
          -0.12098599404983715,
          8.435917401944899,
          -1.465199342717653,
          1.6661012163650362
         ],
         "xaxis": "x",
         "y": [
          0.09511488854160395,
          0.013818142552447727,
          0.11476677206784884,
          0.4319973520553816,
          0.1713762597517227,
          -2.2089246613113387,
          -0.15568683220075244,
          0.20318951089228005,
          -0.0885801703148918,
          0.12452941503451043,
          -0.7685158223095946,
          0.023970467397100154,
          -0.28284403468568764
         ],
         "yaxis": "y"
        },
        {
         "hovertemplate": "color=Tityra<br>PCA1=%{x}<br>PCA2=%{y}<extra></extra>",
         "legendgroup": "Tityra",
         "marker": {
          "color": "#ab63fa",
          "symbol": "circle"
         },
         "mode": "markers",
         "name": "Tityra",
         "showlegend": true,
         "type": "scattergl",
         "x": [
          -0.3955623023305233,
          -0.9675024496025832,
          -1.2450370334612806,
          0.05667006367141998,
          -1.4959001592698942,
          0.27652781062968435,
          -1.2014207203591147,
          -1.3733047549601063,
          -1.0785125669181397,
          0.5015071077596993,
          -0.6729440570449248
         ],
         "xaxis": "x",
         "y": [
          -0.046857834636967875,
          -0.058561083414935725,
          0.15395009090422432,
          -0.39517326174039136,
          0.052297325241627474,
          -0.17609222528335627,
          0.0860369291409492,
          0.07774256178050952,
          0.06891620691634415,
          -0.33494544883188854,
          0.12025819627253063
         ],
         "yaxis": "y"
        },
        {
         "hovertemplate": "color=Todirostrum<br>PCA1=%{x}<br>PCA2=%{y}<extra></extra>",
         "legendgroup": "Todirostrum",
         "marker": {
          "color": "#FFA15A",
          "symbol": "circle"
         },
         "mode": "markers",
         "name": "Todirostrum",
         "showlegend": true,
         "type": "scattergl",
         "x": [
          -1.0137682407996262,
          2.6085428595814464,
          -0.9364677566857107,
          -0.6292711769555183,
          0.5660266433093453,
          -0.016110841737434205,
          -0.5708000766051807,
          -0.8756483272137622,
          -1.0454219663336008,
          -1.3932370863249575,
          0.6571642287519716,
          -1.1879523941575043
         ],
         "xaxis": "x",
         "y": [
          0.10184135134397738,
          0.22972005373813303,
          -0.019429324195131017,
          0.1263979277197351,
          0.25064376658960363,
          -0.3885976968015237,
          -0.10990309443398147,
          -0.22212206887933952,
          0.1918137051922555,
          0.05023495278473989,
          -0.05334382156209704,
          0.05834691185728029
         ],
         "yaxis": "y"
        },
        {
         "hovertemplate": "color=Tolmomyias<br>PCA1=%{x}<br>PCA2=%{y}<extra></extra>",
         "legendgroup": "Tolmomyias",
         "marker": {
          "color": "#19d3f3",
          "symbol": "circle"
         },
         "mode": "markers",
         "name": "Tolmomyias",
         "showlegend": true,
         "type": "scattergl",
         "x": [
          2.0839139631309225,
          -0.38666958662039524,
          1.6909177186534095,
          -1.0435942795919322,
          1.2427054607989287,
          -1.1994108540423765,
          -1.0059625063119992,
          -0.5569809001126956,
          -0.7135924240794537,
          -0.9393755023419793,
          0.4675505696035973,
          -1.379222831119998,
          6.682009721465061,
          0.3021607270438217
         ],
         "xaxis": "x",
         "y": [
          0.08577155953880658,
          -0.36929256094755375,
          -0.15587853152678918,
          0.2103135445654143,
          0.1156664512810017,
          0.04961894475687199,
          0.0608279703540255,
          0.2875276842233457,
          0.05110857037208185,
          0.04245251456283616,
          -0.4341843796230768,
          0.030343447221249795,
          0.17870289339805762,
          -0.2825494879434325
         ],
         "yaxis": "y"
        },
        {
         "hovertemplate": "color=Touit<br>PCA1=%{x}<br>PCA2=%{y}<extra></extra>",
         "legendgroup": "Touit",
         "marker": {
          "color": "#FF6692",
          "symbol": "circle"
         },
         "mode": "markers",
         "name": "Touit",
         "showlegend": true,
         "type": "scattergl",
         "x": [
          -0.26548340660540876,
          -1.1826037922580916,
          0.1420737733526686
         ],
         "xaxis": "x",
         "y": [
          0.018026675993150627,
          0.08773831217488022,
          -0.515772956177988
         ],
         "yaxis": "y"
        },
        {
         "hovertemplate": "color=Trichothraupis<br>PCA1=%{x}<br>PCA2=%{y}<extra></extra>",
         "legendgroup": "Trichothraupis",
         "marker": {
          "color": "#B6E880",
          "symbol": "circle"
         },
         "mode": "markers",
         "name": "Trichothraupis",
         "showlegend": true,
         "type": "scattergl",
         "x": [
          8.872165712431237,
          0.029382169456254104,
          -0.22591150046349184
         ],
         "xaxis": "x",
         "y": [
          2.0989205911537963,
          -0.06494509942788851,
          0.05394076066854008
         ],
         "yaxis": "y"
        },
        {
         "hovertemplate": "color=Tringa<br>PCA1=%{x}<br>PCA2=%{y}<extra></extra>",
         "legendgroup": "Tringa",
         "marker": {
          "color": "#FF97FF",
          "symbol": "circle"
         },
         "mode": "markers",
         "name": "Tringa",
         "showlegend": true,
         "type": "scattergl",
         "x": [
          -0.8272012709244534,
          -1.0783229646109755,
          -1.0575964629925234,
          -0.9078815660052628,
          -0.3570439240332297,
          -0.3186838358164441,
          -0.9338468733858067,
          -1.200229225674063,
          -1.1287748449464157,
          -0.5849588009314602,
          -1.225988775951866,
          -1.0716510295637496,
          1.2096374596285049
         ],
         "xaxis": "x",
         "y": [
          0.12822684307667287,
          0.10282965942903849,
          0.01521967421510475,
          -0.018154869656218268,
          0.4137761501338571,
          -0.3638330509144415,
          0.08043205126729329,
          0.13534166207716622,
          0.08318694277645514,
          -0.20889696361031712,
          0.09335449868569179,
          -0.03940057875464461,
          -0.4915624749138359
         ],
         "yaxis": "y"
        },
        {
         "hovertemplate": "color=Troglodytes<br>PCA1=%{x}<br>PCA2=%{y}<extra></extra>",
         "legendgroup": "Troglodytes",
         "marker": {
          "color": "#FECB52",
          "symbol": "circle"
         },
         "mode": "markers",
         "name": "Troglodytes",
         "showlegend": true,
         "type": "scattergl",
         "x": [
          0.6307701512556328,
          0.08888304287455681,
          -0.05484568552134727,
          1.635585209121803
         ],
         "xaxis": "x",
         "y": [
          0.2267532292669211,
          0.1007697169391154,
          -0.08814931667997387,
          0.4302075444705046
         ],
         "yaxis": "y"
        },
        {
         "hovertemplate": "color=Trogon<br>PCA1=%{x}<br>PCA2=%{y}<extra></extra>",
         "legendgroup": "Trogon",
         "marker": {
          "color": "#636efa",
          "symbol": "circle"
         },
         "mode": "markers",
         "name": "Trogon",
         "showlegend": true,
         "type": "scattergl",
         "x": [
          -0.91651195507014,
          0.2757438699626604,
          3.565473815306111,
          -0.8796671148112808,
          -0.03193055053981672,
          0.5105800744532416,
          1.0262838047351797,
          -0.5282366069930031,
          1.3856231055366013,
          -0.2934337927562514,
          1.72326618347126,
          -0.6102664435605805,
          3.452759753378245,
          2.2246293584009265,
          0.71532656855868,
          0.9673213590994083,
          -0.13917697564876153,
          -1.17444678939566,
          -0.09013436098628375
         ],
         "xaxis": "x",
         "y": [
          0.13105469271944734,
          0.0633468198607601,
          -0.16474425024368453,
          0.0014505220117388806,
          0.09014812867874021,
          -0.11285217729738953,
          -0.04817117670852682,
          -0.06996159772043802,
          0.11055901135565459,
          -0.43844977406408797,
          -0.05320468515808931,
          0.0447641355463835,
          -0.09198340063155068,
          0.2732378050382393,
          -0.25157843754465153,
          0.13321395460512991,
          0.08426252303863448,
          0.04458170456887695,
          0.6219305896315377
         ],
         "yaxis": "y"
        },
        {
         "hovertemplate": "color=Turdus<br>PCA1=%{x}<br>PCA2=%{y}<extra></extra>",
         "legendgroup": "Turdus",
         "marker": {
          "color": "#EF553B",
          "symbol": "circle"
         },
         "mode": "markers",
         "name": "Turdus",
         "showlegend": true,
         "type": "scattergl",
         "x": [
          0.5820302406266901,
          0.7122249081026277,
          1.427718092422028,
          17.023650201403235,
          0.7673021713851113,
          -0.9864365036964922,
          -0.4964537709253181,
          -0.13844028459245936,
          2.5946071161774764,
          3.3281880153380246,
          8.737843727183003,
          -1.2534607777778455,
          5.2986684708748015,
          2.8273501226592552,
          1.5797594569833253,
          2.6375207921434356,
          -0.23893566195298013,
          -1.09154567270707,
          1.604508230695001,
          -0.7441259413079898,
          -1.093315446030647,
          -0.3316549758040529,
          -0.39821839646553864,
          0.4885934862170213,
          -1.3843873780853495
         ],
         "xaxis": "x",
         "y": [
          -0.41447624226490337,
          -0.22683236956968864,
          1.2369827191917249,
          7.556642600865743,
          -0.8890116626322216,
          0.25873814601463724,
          0.4572850617981318,
          0.6023564464942155,
          -0.3156181832938466,
          -0.1378988699193413,
          -0.22267649093877717,
          0.047147284007924284,
          -0.787351998143978,
          -0.09971219168445561,
          0.14919418552758928,
          -0.3169033874189299,
          -0.22297082584012373,
          0.021973178380463407,
          0.1707172653528916,
          0.044775153600232376,
          0.1150130572088778,
          -0.059001266447107736,
          0.05073977453849645,
          0.3583340281256597,
          0.04822858591674314
         ],
         "yaxis": "y"
        },
        {
         "hovertemplate": "color=Tyranneutes<br>PCA1=%{x}<br>PCA2=%{y}<extra></extra>",
         "legendgroup": "Tyranneutes",
         "marker": {
          "color": "#00cc96",
          "symbol": "circle"
         },
         "mode": "markers",
         "name": "Tyranneutes",
         "showlegend": true,
         "type": "scattergl",
         "x": [
          -0.997451474129084,
          -0.3164381673358998
         ],
         "xaxis": "x",
         "y": [
          -0.1492839016504433,
          -0.1492674139796453
         ],
         "yaxis": "y"
        },
        {
         "hovertemplate": "color=Tyrannopsis<br>PCA1=%{x}<br>PCA2=%{y}<extra></extra>",
         "legendgroup": "Tyrannopsis",
         "marker": {
          "color": "#ab63fa",
          "symbol": "circle"
         },
         "mode": "markers",
         "name": "Tyrannopsis",
         "showlegend": true,
         "type": "scattergl",
         "x": [
          2.2895299136492047,
          2.1471779563176288
         ],
         "xaxis": "x",
         "y": [
          -0.4493225710626423,
          0.22586002140184197
         ],
         "yaxis": "y"
        },
        {
         "hovertemplate": "color=Tyrannulus<br>PCA1=%{x}<br>PCA2=%{y}<extra></extra>",
         "legendgroup": "Tyrannulus",
         "marker": {
          "color": "#FFA15A",
          "symbol": "circle"
         },
         "mode": "markers",
         "name": "Tyrannulus",
         "showlegend": true,
         "type": "scattergl",
         "x": [
          -0.785360761077529,
          -1.2058892750993686,
          -1.4278608711380751,
          -0.46920800207503205
         ],
         "xaxis": "x",
         "y": [
          -0.032675166715404956,
          0.03218000357935494,
          0.06860421578790725,
          0.07964009069615144
         ],
         "yaxis": "y"
        },
        {
         "hovertemplate": "color=Tyrannus<br>PCA1=%{x}<br>PCA2=%{y}<extra></extra>",
         "legendgroup": "Tyrannus",
         "marker": {
          "color": "#19d3f3",
          "symbol": "circle"
         },
         "mode": "markers",
         "name": "Tyrannus",
         "showlegend": true,
         "type": "scattergl",
         "x": [
          -0.6610149173810691,
          -0.7942291441536449,
          -1.2815698987167974,
          0.7192091808824543,
          -1.3944838001174864,
          -0.6335211417427101,
          -0.5938904360414959,
          6.384618105917676,
          -0.3348199762871554
         ],
         "xaxis": "x",
         "y": [
          0.21817426089264294,
          -0.14570640424470602,
          -0.003704545723975038,
          0.24619685913488257,
          0.07141543744635558,
          0.11461294334117086,
          0.1424333777893225,
          -0.9537715674388983,
          0.14118675133139733
         ],
         "yaxis": "y"
        },
        {
         "hovertemplate": "color=Tyto<br>PCA1=%{x}<br>PCA2=%{y}<extra></extra>",
         "legendgroup": "Tyto",
         "marker": {
          "color": "#FF6692",
          "symbol": "circle"
         },
         "mode": "markers",
         "name": "Tyto",
         "showlegend": true,
         "type": "scattergl",
         "x": [
          -1.4206084538329602,
          -0.20704469058202385,
          -1.4646017260537265
         ],
         "xaxis": "x",
         "y": [
          0.08280643280555432,
          0.07175597990403146,
          0.06497982804898216
         ],
         "yaxis": "y"
        },
        {
         "hovertemplate": "color=Uropsalis<br>PCA1=%{x}<br>PCA2=%{y}<extra></extra>",
         "legendgroup": "Uropsalis",
         "marker": {
          "color": "#B6E880",
          "symbol": "circle"
         },
         "mode": "markers",
         "name": "Uropsalis",
         "showlegend": true,
         "type": "scattergl",
         "x": [
          2.3659157292982433,
          0.6665051882912237,
          -0.6382424842377268,
          1.4458362186333023
         ],
         "xaxis": "x",
         "y": [
          -0.017336101628622078,
          0.31096781435996895,
          0.05618458814477377,
          -0.34303658631298595
         ],
         "yaxis": "y"
        },
        {
         "hovertemplate": "color=Vanellus<br>PCA1=%{x}<br>PCA2=%{y}<extra></extra>",
         "legendgroup": "Vanellus",
         "marker": {
          "color": "#FF97FF",
          "symbol": "circle"
         },
         "mode": "markers",
         "name": "Vanellus",
         "showlegend": true,
         "type": "scattergl",
         "x": [
          -1.156815858933266,
          -1.0921905704982042,
          -1.223166687136423
         ],
         "xaxis": "x",
         "y": [
          -0.002914027257432697,
          -0.027420501244078,
          0.07011248116760133
         ],
         "yaxis": "y"
        },
        {
         "hovertemplate": "color=Veniliornis<br>PCA1=%{x}<br>PCA2=%{y}<extra></extra>",
         "legendgroup": "Veniliornis",
         "marker": {
          "color": "#FECB52",
          "symbol": "circle"
         },
         "mode": "markers",
         "name": "Veniliornis",
         "showlegend": true,
         "type": "scattergl",
         "x": [
          -0.8285093281300004,
          0.2033581247074963,
          1.8029994231097823,
          -0.9710308748195579,
          -1.0031582532042453
         ],
         "xaxis": "x",
         "y": [
          0.19590923112799574,
          0.10959135898650577,
          0.0351604689754435,
          0.2528622886913551,
          -0.019362340815673614
         ],
         "yaxis": "y"
        },
        {
         "hovertemplate": "color=Vireo<br>PCA1=%{x}<br>PCA2=%{y}<extra></extra>",
         "legendgroup": "Vireo",
         "marker": {
          "color": "#636efa",
          "symbol": "circle"
         },
         "mode": "markers",
         "name": "Vireo",
         "showlegend": true,
         "type": "scattergl",
         "x": [
          0.16676820070648,
          3.6591455671768545,
          1.0677702551001254,
          -0.6910722614286507,
          -0.23769738379634037,
          -0.9751165878241731,
          -0.606199158660994,
          -0.6586227860696371,
          -0.4800219339698285,
          1.3461815440720835,
          7.104775044942542,
          0.24975356690716782,
          -1.0010199675195117
         ],
         "xaxis": "x",
         "y": [
          0.09200008199707402,
          -0.314437373146921,
          1.091127512133687,
          -0.10287782102859927,
          0.09086744791568861,
          0.07037664062079556,
          0.029594578631966763,
          0.0578703811294554,
          0.04464614442868055,
          -0.10591476364204379,
          -0.3032521317039411,
          0.003409746021317005,
          0.07075988952177611
         ],
         "yaxis": "y"
        },
        {
         "hovertemplate": "color=Vireolanius<br>PCA1=%{x}<br>PCA2=%{y}<extra></extra>",
         "legendgroup": "Vireolanius",
         "marker": {
          "color": "#EF553B",
          "symbol": "circle"
         },
         "mode": "markers",
         "name": "Vireolanius",
         "showlegend": true,
         "type": "scattergl",
         "x": [
          -0.7747356745774302,
          3.5538585419868336,
          0.04468002507702976,
          0.07860125834651426
         ],
         "xaxis": "x",
         "y": [
          0.014488307845321792,
          0.5195548274866972,
          -0.07645861996341058,
          0.07694985990715371
         ],
         "yaxis": "y"
        },
        {
         "hovertemplate": "color=Volatinia<br>PCA1=%{x}<br>PCA2=%{y}<extra></extra>",
         "legendgroup": "Volatinia",
         "marker": {
          "color": "#00cc96",
          "symbol": "circle"
         },
         "mode": "markers",
         "name": "Volatinia",
         "showlegend": true,
         "type": "scattergl",
         "x": [
          0.36732831560289225
         ],
         "xaxis": "x",
         "y": [
          0.16427854198447425
         ],
         "yaxis": "y"
        },
        {
         "hovertemplate": "color=Willisornis<br>PCA1=%{x}<br>PCA2=%{y}<extra></extra>",
         "legendgroup": "Willisornis",
         "marker": {
          "color": "#ab63fa",
          "symbol": "circle"
         },
         "mode": "markers",
         "name": "Willisornis",
         "showlegend": true,
         "type": "scattergl",
         "x": [
          1.1797908711875271,
          -0.36523934172603073
         ],
         "xaxis": "x",
         "y": [
          -0.538901870356148,
          -0.07499927267687886
         ],
         "yaxis": "y"
        },
        {
         "hovertemplate": "color=Xenopipo<br>PCA1=%{x}<br>PCA2=%{y}<extra></extra>",
         "legendgroup": "Xenopipo",
         "marker": {
          "color": "#FFA15A",
          "symbol": "circle"
         },
         "mode": "markers",
         "name": "Xenopipo",
         "showlegend": true,
         "type": "scattergl",
         "x": [
          0.07618830575771701,
          -0.4009084675306726,
          -1.1995427894348083
         ],
         "xaxis": "x",
         "y": [
          0.25768599598297426,
          0.07941291937472898,
          0.1723849075482144
         ],
         "yaxis": "y"
        },
        {
         "hovertemplate": "color=Xenops<br>PCA1=%{x}<br>PCA2=%{y}<extra></extra>",
         "legendgroup": "Xenops",
         "marker": {
          "color": "#19d3f3",
          "symbol": "circle"
         },
         "mode": "markers",
         "name": "Xenops",
         "showlegend": true,
         "type": "scattergl",
         "x": [
          -0.5715726074449947,
          -0.8353096182104868,
          0.12104327438606,
          0.23154811803960784,
          -0.8617074088074027,
          -0.20086115809973729,
          1.0107544669312607,
          -0.9903263461225474
         ],
         "xaxis": "x",
         "y": [
          -0.0008263769448885104,
          0.2169171523037663,
          0.6743785399835487,
          0.37712496920923977,
          -0.10165825256907261,
          0.05627566354654759,
          1.0680240267764185,
          0.25716193492611766
         ],
         "yaxis": "y"
        },
        {
         "hovertemplate": "color=Xenopsaris<br>PCA1=%{x}<br>PCA2=%{y}<extra></extra>",
         "legendgroup": "Xenopsaris",
         "marker": {
          "color": "#FF6692",
          "symbol": "circle"
         },
         "mode": "markers",
         "name": "Xenopsaris",
         "showlegend": true,
         "type": "scattergl",
         "x": [
          1.388196024946428,
          -1.361278600964764
         ],
         "xaxis": "x",
         "y": [
          1.2209679005504885,
          0.09122037037531273
         ],
         "yaxis": "y"
        },
        {
         "hovertemplate": "color=Xiphocolaptes<br>PCA1=%{x}<br>PCA2=%{y}<extra></extra>",
         "legendgroup": "Xiphocolaptes",
         "marker": {
          "color": "#B6E880",
          "symbol": "circle"
         },
         "mode": "markers",
         "name": "Xiphocolaptes",
         "showlegend": true,
         "type": "scattergl",
         "x": [
          -1.1289241001408004,
          -1.0974489767364097,
          -0.2752002806269408,
          0.6865397098228102,
          1.0779765522289597
         ],
         "xaxis": "x",
         "y": [
          0.04534112456964133,
          0.03933016431512416,
          0.048830923351604195,
          -1.0415276086841805,
          -0.49186893263970904
         ],
         "yaxis": "y"
        },
        {
         "hovertemplate": "color=Xiphorhynchus<br>PCA1=%{x}<br>PCA2=%{y}<extra></extra>",
         "legendgroup": "Xiphorhynchus",
         "marker": {
          "color": "#FF97FF",
          "symbol": "circle"
         },
         "mode": "markers",
         "name": "Xiphorhynchus",
         "showlegend": true,
         "type": "scattergl",
         "x": [
          -1.1130147412890368,
          1.0375036204494956,
          -0.2715314974797875,
          0.2051523812124969,
          -0.2453661563561807,
          0.2648041122272685,
          -1.4665149365948027,
          1.461783547694734,
          -1.3460249534029438,
          4.106355663111868,
          -1.3414235261854823,
          0.2574643321556008,
          5.568362616356164,
          -0.6834101947353465,
          -0.7852227527052886,
          -1.2683523258904086
         ],
         "xaxis": "x",
         "y": [
          0.0358322302809925,
          0.04044797088770853,
          0.06454145612336543,
          -0.04254173848903216,
          -0.4280924995477954,
          0.1662912610639698,
          0.06420457205163971,
          -0.016657059811177505,
          0.11302856715499533,
          0.16668707721636983,
          0.07441234612044755,
          0.08653957754814852,
          0.2804148128197489,
          0.10593401646555979,
          -0.07324031993405163,
          0.07189661983823353
         ],
         "yaxis": "y"
        },
        {
         "hovertemplate": "color=Xolmis<br>PCA1=%{x}<br>PCA2=%{y}<extra></extra>",
         "legendgroup": "Xolmis",
         "marker": {
          "color": "#FECB52",
          "symbol": "circle"
         },
         "mode": "markers",
         "name": "Xolmis",
         "showlegend": true,
         "type": "scattergl",
         "x": [
          0.9753455839839711,
          -0.3791111321474587
         ],
         "xaxis": "x",
         "y": [
          -0.04251212356564205,
          -0.08100030664081277
         ],
         "yaxis": "y"
        },
        {
         "hovertemplate": "color=Zebrilus<br>PCA1=%{x}<br>PCA2=%{y}<extra></extra>",
         "legendgroup": "Zebrilus",
         "marker": {
          "color": "#636efa",
          "symbol": "circle"
         },
         "mode": "markers",
         "name": "Zebrilus",
         "showlegend": true,
         "type": "scattergl",
         "x": [
          0.0028388641958606367,
          2.3331923903531084,
          3.3019547674692755
         ],
         "xaxis": "x",
         "y": [
          -0.07102687611663304,
          -0.5012999466074863,
          -1.0860924853796374
         ],
         "yaxis": "y"
        },
        {
         "hovertemplate": "color=Zenaida<br>PCA1=%{x}<br>PCA2=%{y}<extra></extra>",
         "legendgroup": "Zenaida",
         "marker": {
          "color": "#EF553B",
          "symbol": "circle"
         },
         "mode": "markers",
         "name": "Zenaida",
         "showlegend": true,
         "type": "scattergl",
         "x": [
          1.555187149363029,
          0.8255375731165564,
          0.45368347904216955
         ],
         "xaxis": "x",
         "y": [
          -0.24868614360847732,
          -0.13471520058286243,
          0.036222948380361275
         ],
         "yaxis": "y"
        },
        {
         "hovertemplate": "color=Zentrygon<br>PCA1=%{x}<br>PCA2=%{y}<extra></extra>",
         "legendgroup": "Zentrygon",
         "marker": {
          "color": "#00cc96",
          "symbol": "circle"
         },
         "mode": "markers",
         "name": "Zentrygon",
         "showlegend": true,
         "type": "scattergl",
         "x": [
          0.9443992598486869,
          0.6359079624777765
         ],
         "xaxis": "x",
         "y": [
          -0.07369691034842252,
          -0.08782369718827339
         ],
         "yaxis": "y"
        },
        {
         "hovertemplate": "color=Zimmerius<br>PCA1=%{x}<br>PCA2=%{y}<extra></extra>",
         "legendgroup": "Zimmerius",
         "marker": {
          "color": "#ab63fa",
          "symbol": "circle"
         },
         "mode": "markers",
         "name": "Zimmerius",
         "showlegend": true,
         "type": "scattergl",
         "x": [
          -0.033576662843584515,
          -0.4379247551047187,
          -0.6289561024123681,
          -0.3594457537698408,
          -1.2061747610601905,
          -1.1191098918266968,
          -0.3107310924140651
         ],
         "xaxis": "x",
         "y": [
          -0.232150236533418,
          -0.028504117718838456,
          0.04158687599827935,
          -0.003317101397782341,
          0.13487641469097722,
          0.06334503536256451,
          0.009705179825738248
         ],
         "yaxis": "y"
        },
        {
         "hovertemplate": "color=Zonotrichia<br>PCA1=%{x}<br>PCA2=%{y}<extra></extra>",
         "legendgroup": "Zonotrichia",
         "marker": {
          "color": "#FFA15A",
          "symbol": "circle"
         },
         "mode": "markers",
         "name": "Zonotrichia",
         "showlegend": true,
         "type": "scattergl",
         "x": [
          2.4520267793662427,
          -0.9275287109140812,
          0.4660727954164139
         ],
         "xaxis": "x",
         "y": [
          -0.04251508350087603,
          0.025790310356692624,
          0.01839751416075368
         ],
         "yaxis": "y"
        }
       ],
       "layout": {
        "legend": {
         "title": {
          "text": "color"
         },
         "tracegroupgap": 0
        },
        "margin": {
         "t": 60
        },
        "template": {
         "data": {
          "bar": [
           {
            "error_x": {
             "color": "#2a3f5f"
            },
            "error_y": {
             "color": "#2a3f5f"
            },
            "marker": {
             "line": {
              "color": "#E5ECF6",
              "width": 0.5
             },
             "pattern": {
              "fillmode": "overlay",
              "size": 10,
              "solidity": 0.2
             }
            },
            "type": "bar"
           }
          ],
          "barpolar": [
           {
            "marker": {
             "line": {
              "color": "#E5ECF6",
              "width": 0.5
             },
             "pattern": {
              "fillmode": "overlay",
              "size": 10,
              "solidity": 0.2
             }
            },
            "type": "barpolar"
           }
          ],
          "carpet": [
           {
            "aaxis": {
             "endlinecolor": "#2a3f5f",
             "gridcolor": "white",
             "linecolor": "white",
             "minorgridcolor": "white",
             "startlinecolor": "#2a3f5f"
            },
            "baxis": {
             "endlinecolor": "#2a3f5f",
             "gridcolor": "white",
             "linecolor": "white",
             "minorgridcolor": "white",
             "startlinecolor": "#2a3f5f"
            },
            "type": "carpet"
           }
          ],
          "choropleth": [
           {
            "colorbar": {
             "outlinewidth": 0,
             "ticks": ""
            },
            "type": "choropleth"
           }
          ],
          "contour": [
           {
            "colorbar": {
             "outlinewidth": 0,
             "ticks": ""
            },
            "colorscale": [
             [
              0,
              "#0d0887"
             ],
             [
              0.1111111111111111,
              "#46039f"
             ],
             [
              0.2222222222222222,
              "#7201a8"
             ],
             [
              0.3333333333333333,
              "#9c179e"
             ],
             [
              0.4444444444444444,
              "#bd3786"
             ],
             [
              0.5555555555555556,
              "#d8576b"
             ],
             [
              0.6666666666666666,
              "#ed7953"
             ],
             [
              0.7777777777777778,
              "#fb9f3a"
             ],
             [
              0.8888888888888888,
              "#fdca26"
             ],
             [
              1,
              "#f0f921"
             ]
            ],
            "type": "contour"
           }
          ],
          "contourcarpet": [
           {
            "colorbar": {
             "outlinewidth": 0,
             "ticks": ""
            },
            "type": "contourcarpet"
           }
          ],
          "heatmap": [
           {
            "colorbar": {
             "outlinewidth": 0,
             "ticks": ""
            },
            "colorscale": [
             [
              0,
              "#0d0887"
             ],
             [
              0.1111111111111111,
              "#46039f"
             ],
             [
              0.2222222222222222,
              "#7201a8"
             ],
             [
              0.3333333333333333,
              "#9c179e"
             ],
             [
              0.4444444444444444,
              "#bd3786"
             ],
             [
              0.5555555555555556,
              "#d8576b"
             ],
             [
              0.6666666666666666,
              "#ed7953"
             ],
             [
              0.7777777777777778,
              "#fb9f3a"
             ],
             [
              0.8888888888888888,
              "#fdca26"
             ],
             [
              1,
              "#f0f921"
             ]
            ],
            "type": "heatmap"
           }
          ],
          "heatmapgl": [
           {
            "colorbar": {
             "outlinewidth": 0,
             "ticks": ""
            },
            "colorscale": [
             [
              0,
              "#0d0887"
             ],
             [
              0.1111111111111111,
              "#46039f"
             ],
             [
              0.2222222222222222,
              "#7201a8"
             ],
             [
              0.3333333333333333,
              "#9c179e"
             ],
             [
              0.4444444444444444,
              "#bd3786"
             ],
             [
              0.5555555555555556,
              "#d8576b"
             ],
             [
              0.6666666666666666,
              "#ed7953"
             ],
             [
              0.7777777777777778,
              "#fb9f3a"
             ],
             [
              0.8888888888888888,
              "#fdca26"
             ],
             [
              1,
              "#f0f921"
             ]
            ],
            "type": "heatmapgl"
           }
          ],
          "histogram": [
           {
            "marker": {
             "pattern": {
              "fillmode": "overlay",
              "size": 10,
              "solidity": 0.2
             }
            },
            "type": "histogram"
           }
          ],
          "histogram2d": [
           {
            "colorbar": {
             "outlinewidth": 0,
             "ticks": ""
            },
            "colorscale": [
             [
              0,
              "#0d0887"
             ],
             [
              0.1111111111111111,
              "#46039f"
             ],
             [
              0.2222222222222222,
              "#7201a8"
             ],
             [
              0.3333333333333333,
              "#9c179e"
             ],
             [
              0.4444444444444444,
              "#bd3786"
             ],
             [
              0.5555555555555556,
              "#d8576b"
             ],
             [
              0.6666666666666666,
              "#ed7953"
             ],
             [
              0.7777777777777778,
              "#fb9f3a"
             ],
             [
              0.8888888888888888,
              "#fdca26"
             ],
             [
              1,
              "#f0f921"
             ]
            ],
            "type": "histogram2d"
           }
          ],
          "histogram2dcontour": [
           {
            "colorbar": {
             "outlinewidth": 0,
             "ticks": ""
            },
            "colorscale": [
             [
              0,
              "#0d0887"
             ],
             [
              0.1111111111111111,
              "#46039f"
             ],
             [
              0.2222222222222222,
              "#7201a8"
             ],
             [
              0.3333333333333333,
              "#9c179e"
             ],
             [
              0.4444444444444444,
              "#bd3786"
             ],
             [
              0.5555555555555556,
              "#d8576b"
             ],
             [
              0.6666666666666666,
              "#ed7953"
             ],
             [
              0.7777777777777778,
              "#fb9f3a"
             ],
             [
              0.8888888888888888,
              "#fdca26"
             ],
             [
              1,
              "#f0f921"
             ]
            ],
            "type": "histogram2dcontour"
           }
          ],
          "mesh3d": [
           {
            "colorbar": {
             "outlinewidth": 0,
             "ticks": ""
            },
            "type": "mesh3d"
           }
          ],
          "parcoords": [
           {
            "line": {
             "colorbar": {
              "outlinewidth": 0,
              "ticks": ""
             }
            },
            "type": "parcoords"
           }
          ],
          "pie": [
           {
            "automargin": true,
            "type": "pie"
           }
          ],
          "scatter": [
           {
            "marker": {
             "colorbar": {
              "outlinewidth": 0,
              "ticks": ""
             }
            },
            "type": "scatter"
           }
          ],
          "scatter3d": [
           {
            "line": {
             "colorbar": {
              "outlinewidth": 0,
              "ticks": ""
             }
            },
            "marker": {
             "colorbar": {
              "outlinewidth": 0,
              "ticks": ""
             }
            },
            "type": "scatter3d"
           }
          ],
          "scattercarpet": [
           {
            "marker": {
             "colorbar": {
              "outlinewidth": 0,
              "ticks": ""
             }
            },
            "type": "scattercarpet"
           }
          ],
          "scattergeo": [
           {
            "marker": {
             "colorbar": {
              "outlinewidth": 0,
              "ticks": ""
             }
            },
            "type": "scattergeo"
           }
          ],
          "scattergl": [
           {
            "marker": {
             "colorbar": {
              "outlinewidth": 0,
              "ticks": ""
             }
            },
            "type": "scattergl"
           }
          ],
          "scattermapbox": [
           {
            "marker": {
             "colorbar": {
              "outlinewidth": 0,
              "ticks": ""
             }
            },
            "type": "scattermapbox"
           }
          ],
          "scatterpolar": [
           {
            "marker": {
             "colorbar": {
              "outlinewidth": 0,
              "ticks": ""
             }
            },
            "type": "scatterpolar"
           }
          ],
          "scatterpolargl": [
           {
            "marker": {
             "colorbar": {
              "outlinewidth": 0,
              "ticks": ""
             }
            },
            "type": "scatterpolargl"
           }
          ],
          "scatterternary": [
           {
            "marker": {
             "colorbar": {
              "outlinewidth": 0,
              "ticks": ""
             }
            },
            "type": "scatterternary"
           }
          ],
          "surface": [
           {
            "colorbar": {
             "outlinewidth": 0,
             "ticks": ""
            },
            "colorscale": [
             [
              0,
              "#0d0887"
             ],
             [
              0.1111111111111111,
              "#46039f"
             ],
             [
              0.2222222222222222,
              "#7201a8"
             ],
             [
              0.3333333333333333,
              "#9c179e"
             ],
             [
              0.4444444444444444,
              "#bd3786"
             ],
             [
              0.5555555555555556,
              "#d8576b"
             ],
             [
              0.6666666666666666,
              "#ed7953"
             ],
             [
              0.7777777777777778,
              "#fb9f3a"
             ],
             [
              0.8888888888888888,
              "#fdca26"
             ],
             [
              1,
              "#f0f921"
             ]
            ],
            "type": "surface"
           }
          ],
          "table": [
           {
            "cells": {
             "fill": {
              "color": "#EBF0F8"
             },
             "line": {
              "color": "white"
             }
            },
            "header": {
             "fill": {
              "color": "#C8D4E3"
             },
             "line": {
              "color": "white"
             }
            },
            "type": "table"
           }
          ]
         },
         "layout": {
          "annotationdefaults": {
           "arrowcolor": "#2a3f5f",
           "arrowhead": 0,
           "arrowwidth": 1
          },
          "autotypenumbers": "strict",
          "coloraxis": {
           "colorbar": {
            "outlinewidth": 0,
            "ticks": ""
           }
          },
          "colorscale": {
           "diverging": [
            [
             0,
             "#8e0152"
            ],
            [
             0.1,
             "#c51b7d"
            ],
            [
             0.2,
             "#de77ae"
            ],
            [
             0.3,
             "#f1b6da"
            ],
            [
             0.4,
             "#fde0ef"
            ],
            [
             0.5,
             "#f7f7f7"
            ],
            [
             0.6,
             "#e6f5d0"
            ],
            [
             0.7,
             "#b8e186"
            ],
            [
             0.8,
             "#7fbc41"
            ],
            [
             0.9,
             "#4d9221"
            ],
            [
             1,
             "#276419"
            ]
           ],
           "sequential": [
            [
             0,
             "#0d0887"
            ],
            [
             0.1111111111111111,
             "#46039f"
            ],
            [
             0.2222222222222222,
             "#7201a8"
            ],
            [
             0.3333333333333333,
             "#9c179e"
            ],
            [
             0.4444444444444444,
             "#bd3786"
            ],
            [
             0.5555555555555556,
             "#d8576b"
            ],
            [
             0.6666666666666666,
             "#ed7953"
            ],
            [
             0.7777777777777778,
             "#fb9f3a"
            ],
            [
             0.8888888888888888,
             "#fdca26"
            ],
            [
             1,
             "#f0f921"
            ]
           ],
           "sequentialminus": [
            [
             0,
             "#0d0887"
            ],
            [
             0.1111111111111111,
             "#46039f"
            ],
            [
             0.2222222222222222,
             "#7201a8"
            ],
            [
             0.3333333333333333,
             "#9c179e"
            ],
            [
             0.4444444444444444,
             "#bd3786"
            ],
            [
             0.5555555555555556,
             "#d8576b"
            ],
            [
             0.6666666666666666,
             "#ed7953"
            ],
            [
             0.7777777777777778,
             "#fb9f3a"
            ],
            [
             0.8888888888888888,
             "#fdca26"
            ],
            [
             1,
             "#f0f921"
            ]
           ]
          },
          "colorway": [
           "#636efa",
           "#EF553B",
           "#00cc96",
           "#ab63fa",
           "#FFA15A",
           "#19d3f3",
           "#FF6692",
           "#B6E880",
           "#FF97FF",
           "#FECB52"
          ],
          "font": {
           "color": "#2a3f5f"
          },
          "geo": {
           "bgcolor": "white",
           "lakecolor": "white",
           "landcolor": "#E5ECF6",
           "showlakes": true,
           "showland": true,
           "subunitcolor": "white"
          },
          "hoverlabel": {
           "align": "left"
          },
          "hovermode": "closest",
          "mapbox": {
           "style": "light"
          },
          "paper_bgcolor": "white",
          "plot_bgcolor": "#E5ECF6",
          "polar": {
           "angularaxis": {
            "gridcolor": "white",
            "linecolor": "white",
            "ticks": ""
           },
           "bgcolor": "#E5ECF6",
           "radialaxis": {
            "gridcolor": "white",
            "linecolor": "white",
            "ticks": ""
           }
          },
          "scene": {
           "xaxis": {
            "backgroundcolor": "#E5ECF6",
            "gridcolor": "white",
            "gridwidth": 2,
            "linecolor": "white",
            "showbackground": true,
            "ticks": "",
            "zerolinecolor": "white"
           },
           "yaxis": {
            "backgroundcolor": "#E5ECF6",
            "gridcolor": "white",
            "gridwidth": 2,
            "linecolor": "white",
            "showbackground": true,
            "ticks": "",
            "zerolinecolor": "white"
           },
           "zaxis": {
            "backgroundcolor": "#E5ECF6",
            "gridcolor": "white",
            "gridwidth": 2,
            "linecolor": "white",
            "showbackground": true,
            "ticks": "",
            "zerolinecolor": "white"
           }
          },
          "shapedefaults": {
           "line": {
            "color": "#2a3f5f"
           }
          },
          "ternary": {
           "aaxis": {
            "gridcolor": "white",
            "linecolor": "white",
            "ticks": ""
           },
           "baxis": {
            "gridcolor": "white",
            "linecolor": "white",
            "ticks": ""
           },
           "bgcolor": "#E5ECF6",
           "caxis": {
            "gridcolor": "white",
            "linecolor": "white",
            "ticks": ""
           }
          },
          "title": {
           "x": 0.05
          },
          "xaxis": {
           "automargin": true,
           "gridcolor": "white",
           "linecolor": "white",
           "ticks": "",
           "title": {
            "standoff": 15
           },
           "zerolinecolor": "white",
           "zerolinewidth": 2
          },
          "yaxis": {
           "automargin": true,
           "gridcolor": "white",
           "linecolor": "white",
           "ticks": "",
           "title": {
            "standoff": 15
           },
           "zerolinecolor": "white",
           "zerolinewidth": 2
          }
         }
        },
        "xaxis": {
         "anchor": "y",
         "domain": [
          0,
          1
         ],
         "title": {
          "text": "PCA1"
         }
        },
        "yaxis": {
         "anchor": "x",
         "domain": [
          0,
          1
         ],
         "title": {
          "text": "PCA2"
         }
        }
       }
      }
     },
     "metadata": {},
     "output_type": "display_data"
    }
   ],
   "source": [
    "fig = px.scatter(result, x='PCA1', y='PCA2',color=Y)\n",
    "fig.show()\n",
    "\n",
    "# fig = px.scatter_3d(result, x='PCA1', y='PCA2',z = 'PCA3',color=Y)\n",
    "# fig.show()"
   ]
  },
  {
   "cell_type": "code",
   "execution_count": 246,
   "metadata": {},
   "outputs": [],
   "source": [
    "from sklearn.manifold import TSNE"
   ]
  },
  {
   "cell_type": "code",
   "execution_count": 247,
   "metadata": {},
   "outputs": [
    {
     "name": "stderr",
     "output_type": "stream",
     "text": [
      "C:\\Users\\lianl\\anaconda3\\envs\\tweety\\lib\\site-packages\\sklearn\\manifold\\_t_sne.py:780: FutureWarning:\n",
      "\n",
      "The default initialization in TSNE will change from 'random' to 'pca' in 1.2.\n",
      "\n",
      "C:\\Users\\lianl\\anaconda3\\envs\\tweety\\lib\\site-packages\\sklearn\\manifold\\_t_sne.py:790: FutureWarning:\n",
      "\n",
      "The default learning rate in TSNE will change from 200.0 to 'auto' in 1.2.\n",
      "\n"
     ]
    },
    {
     "name": "stdout",
     "output_type": "stream",
     "text": [
      "[t-SNE] Computing 121 nearest neighbors...\n",
      "[t-SNE] Indexed 2443 samples in 0.004s...\n",
      "[t-SNE] Computed neighbors for 2443 samples in 0.116s...\n",
      "[t-SNE] Computed conditional probabilities for sample 1000 / 2443\n",
      "[t-SNE] Computed conditional probabilities for sample 2000 / 2443\n",
      "[t-SNE] Computed conditional probabilities for sample 2443 / 2443\n",
      "[t-SNE] Mean sigma: 0.043289\n",
      "[t-SNE] KL divergence after 250 iterations with early exaggeration: 58.977364\n",
      "[t-SNE] KL divergence after 300 iterations: 0.723199\n"
     ]
    }
   ],
   "source": [
    "tsne = TSNE(n_components=3, verbose=1, perplexity=40, n_iter=300)\n",
    "tsne_results = tsne.fit_transform(X_standardized) "
   ]
  },
  {
   "cell_type": "code",
   "execution_count": 248,
   "metadata": {},
   "outputs": [
    {
     "data": {
      "text/html": [
       "<div>\n",
       "<style scoped>\n",
       "    .dataframe tbody tr th:only-of-type {\n",
       "        vertical-align: middle;\n",
       "    }\n",
       "\n",
       "    .dataframe tbody tr th {\n",
       "        vertical-align: top;\n",
       "    }\n",
       "\n",
       "    .dataframe thead th {\n",
       "        text-align: right;\n",
       "    }\n",
       "</style>\n",
       "<table border=\"1\" class=\"dataframe\">\n",
       "  <thead>\n",
       "    <tr style=\"text-align: right;\">\n",
       "      <th></th>\n",
       "      <th>TSNE1</th>\n",
       "      <th>TSNE2</th>\n",
       "      <th>TSNE3</th>\n",
       "    </tr>\n",
       "  </thead>\n",
       "  <tbody>\n",
       "    <tr>\n",
       "      <th>0</th>\n",
       "      <td>-3.805253</td>\n",
       "      <td>3.285165</td>\n",
       "      <td>-3.716061</td>\n",
       "    </tr>\n",
       "    <tr>\n",
       "      <th>1</th>\n",
       "      <td>5.786346</td>\n",
       "      <td>-4.224435</td>\n",
       "      <td>2.445219</td>\n",
       "    </tr>\n",
       "    <tr>\n",
       "      <th>2</th>\n",
       "      <td>2.599672</td>\n",
       "      <td>-5.072584</td>\n",
       "      <td>-4.209442</td>\n",
       "    </tr>\n",
       "    <tr>\n",
       "      <th>3</th>\n",
       "      <td>-2.233670</td>\n",
       "      <td>-1.605731</td>\n",
       "      <td>2.702690</td>\n",
       "    </tr>\n",
       "    <tr>\n",
       "      <th>4</th>\n",
       "      <td>-1.887503</td>\n",
       "      <td>4.958175</td>\n",
       "      <td>0.402364</td>\n",
       "    </tr>\n",
       "    <tr>\n",
       "      <th>...</th>\n",
       "      <td>...</td>\n",
       "      <td>...</td>\n",
       "      <td>...</td>\n",
       "    </tr>\n",
       "    <tr>\n",
       "      <th>2438</th>\n",
       "      <td>-3.534248</td>\n",
       "      <td>-3.987530</td>\n",
       "      <td>-5.202440</td>\n",
       "    </tr>\n",
       "    <tr>\n",
       "      <th>2439</th>\n",
       "      <td>-5.738752</td>\n",
       "      <td>3.048675</td>\n",
       "      <td>3.332662</td>\n",
       "    </tr>\n",
       "    <tr>\n",
       "      <th>2440</th>\n",
       "      <td>5.932861</td>\n",
       "      <td>1.155178</td>\n",
       "      <td>0.186091</td>\n",
       "    </tr>\n",
       "    <tr>\n",
       "      <th>2441</th>\n",
       "      <td>-1.824432</td>\n",
       "      <td>2.522704</td>\n",
       "      <td>-7.765113</td>\n",
       "    </tr>\n",
       "    <tr>\n",
       "      <th>2442</th>\n",
       "      <td>-0.398845</td>\n",
       "      <td>-4.636742</td>\n",
       "      <td>8.139809</td>\n",
       "    </tr>\n",
       "  </tbody>\n",
       "</table>\n",
       "<p>2443 rows × 3 columns</p>\n",
       "</div>"
      ],
      "text/plain": [
       "         TSNE1     TSNE2     TSNE3\n",
       "0    -3.805253  3.285165 -3.716061\n",
       "1     5.786346 -4.224435  2.445219\n",
       "2     2.599672 -5.072584 -4.209442\n",
       "3    -2.233670 -1.605731  2.702690\n",
       "4    -1.887503  4.958175  0.402364\n",
       "...        ...       ...       ...\n",
       "2438 -3.534248 -3.987530 -5.202440\n",
       "2439 -5.738752  3.048675  3.332662\n",
       "2440  5.932861  1.155178  0.186091\n",
       "2441 -1.824432  2.522704 -7.765113\n",
       "2442 -0.398845 -4.636742  8.139809\n",
       "\n",
       "[2443 rows x 3 columns]"
      ]
     },
     "execution_count": 248,
     "metadata": {},
     "output_type": "execute_result"
    }
   ],
   "source": [
    "tsneed = pd.DataFrame(tsne_results, columns = ['TSNE1','TSNE2','TSNE3']) # \n",
    "tsneed"
   ]
  },
  {
   "cell_type": "code",
   "execution_count": 249,
   "metadata": {},
   "outputs": [
    {
     "data": {
      "text/plain": [
       "array(['Aburria', 'Aburria', 'Accipiter', ..., 'Zonotrichia',\n",
       "       'Zonotrichia', 'Zonotrichia'], dtype=object)"
      ]
     },
     "execution_count": 249,
     "metadata": {},
     "output_type": "execute_result"
    }
   ],
   "source": [
    "Y"
   ]
  },
  {
   "cell_type": "code",
   "execution_count": 250,
   "metadata": {},
   "outputs": [],
   "source": [
    "# plt.figure(figsize=(16,10))\n",
    "\n",
    "# sns.scatterplot(x=\"TSNE1\", y=\"TSNE2\",hue = Y,palette=sns.color_palette(\"hls\", 515),data=tsneed,legend = False,alpha=0.3) #legend = \"Full\"\n",
    "# plt.show()"
   ]
  },
  {
   "cell_type": "code",
   "execution_count": 251,
   "metadata": {},
   "outputs": [
    {
     "data": {
      "application/vnd.plotly.v1+json": {
       "config": {
        "plotlyServerURL": "https://plot.ly"
       },
       "data": [
        {
         "hovertemplate": "color=Aburria<br>TSNE1=%{x}<br>TSNE2=%{y}<br>TSNE3=%{z}<extra></extra>",
         "legendgroup": "Aburria",
         "marker": {
          "color": "#636efa",
          "symbol": "circle"
         },
         "mode": "markers",
         "name": "Aburria",
         "scene": "scene",
         "showlegend": true,
         "type": "scatter3d",
         "x": [
          -3.805253028869629,
          5.786346435546875
         ],
         "y": [
          3.2851650714874268,
          -4.224435329437256
         ],
         "z": [
          -3.7160611152648926,
          2.4452192783355713
         ]
        },
        {
         "hovertemplate": "color=Accipiter<br>TSNE1=%{x}<br>TSNE2=%{y}<br>TSNE3=%{z}<extra></extra>",
         "legendgroup": "Accipiter",
         "marker": {
          "color": "#EF553B",
          "symbol": "circle"
         },
         "mode": "markers",
         "name": "Accipiter",
         "scene": "scene",
         "showlegend": true,
         "type": "scatter3d",
         "x": [
          2.599672317504883,
          -2.2336695194244385,
          -1.8875030279159546,
          10.56586742401123,
          4.539207458496094,
          -2.2798211574554443,
          5.403959274291992,
          -1.2851133346557617,
          -1.2848913669586182
         ],
         "y": [
          -5.07258415222168,
          -1.60573148727417,
          4.958175182342529,
          -1.6396071910858154,
          1.8558095693588257,
          -4.24659538269043,
          -7.072003364562988,
          -6.01303768157959,
          -5.988744735717773
         ],
         "z": [
          -4.209441661834717,
          2.7026901245117188,
          0.40236416459083557,
          -1.3691316843032837,
          6.326817989349365,
          -8.794347763061523,
          -2.1604843139648438,
          4.399090766906738,
          4.379265785217285
         ]
        },
        {
         "hovertemplate": "color=Actitis<br>TSNE1=%{x}<br>TSNE2=%{y}<br>TSNE3=%{z}<extra></extra>",
         "legendgroup": "Actitis",
         "marker": {
          "color": "#00cc96",
          "symbol": "circle"
         },
         "mode": "markers",
         "name": "Actitis",
         "scene": "scene",
         "showlegend": true,
         "type": "scatter3d",
         "x": [
          -5.938490390777588,
          -5.250341415405273,
          -1.946552038192749,
          5.991800785064697
         ],
         "y": [
          5.5058441162109375,
          8.428169250488281,
          0.3629579544067383,
          -5.467523574829102
         ],
         "z": [
          -2.7256407737731934,
          0.1633606106042862,
          -6.184225082397461,
          -2.4201748371124268
         ]
        },
        {
         "hovertemplate": "color=Adelomyia<br>TSNE1=%{x}<br>TSNE2=%{y}<br>TSNE3=%{z}<extra></extra>",
         "legendgroup": "Adelomyia",
         "marker": {
          "color": "#ab63fa",
          "symbol": "circle"
         },
         "mode": "markers",
         "name": "Adelomyia",
         "scene": "scene",
         "showlegend": true,
         "type": "scatter3d",
         "x": [
          -4.461272716522217,
          -4.495465278625488,
          -4.265826225280762
         ],
         "y": [
          7.030515670776367,
          8.802010536193848,
          6.59387731552124
         ],
         "z": [
          5.394036769866943,
          -0.5282542109489441,
          1.4693231582641602
         ]
        },
        {
         "hovertemplate": "color=Aeronautes<br>TSNE1=%{x}<br>TSNE2=%{y}<br>TSNE3=%{z}<extra></extra>",
         "legendgroup": "Aeronautes",
         "marker": {
          "color": "#FFA15A",
          "symbol": "circle"
         },
         "mode": "markers",
         "name": "Aeronautes",
         "scene": "scene",
         "showlegend": true,
         "type": "scatter3d",
         "x": [
          -3.691040277481079,
          -4.947073936462402,
          -0.2651163339614868,
          -1.610156536102295,
          -6.06911039352417,
          -1.2721052169799805
         ],
         "y": [
          5.971569061279297,
          2.416266679763794,
          3.3650286197662354,
          -1.7975211143493652,
          4.988711357116699,
          -2.913529634475708
         ],
         "z": [
          7.109476089477539,
          2.588181495666504,
          8.13196086883545,
          -5.149683952331543,
          -3.839179277420044,
          6.9868879318237305
         ]
        },
        {
         "hovertemplate": "color=Agamia<br>TSNE1=%{x}<br>TSNE2=%{y}<br>TSNE3=%{z}<extra></extra>",
         "legendgroup": "Agamia",
         "marker": {
          "color": "#19d3f3",
          "symbol": "circle"
         },
         "mode": "markers",
         "name": "Agamia",
         "scene": "scene",
         "showlegend": true,
         "type": "scatter3d",
         "x": [
          -1.9984984397888184,
          -5.803840160369873,
          -3.5176377296447754
         ],
         "y": [
          1.0295817852020264,
          0.850071370601654,
          -3.861189365386963
         ],
         "z": [
          -7.495351314544678,
          -7.851253986358643,
          -7.234917163848877
         ]
        },
        {
         "hovertemplate": "color=Agelasticus<br>TSNE1=%{x}<br>TSNE2=%{y}<br>TSNE3=%{z}<extra></extra>",
         "legendgroup": "Agelasticus",
         "marker": {
          "color": "#FF6692",
          "symbol": "circle"
         },
         "mode": "markers",
         "name": "Agelasticus",
         "scene": "scene",
         "showlegend": true,
         "type": "scatter3d",
         "x": [
          6.84618616104126,
          -4.074204921722412,
          0.853294849395752
         ],
         "y": [
          -6.378218173980713,
          -3.0729660987854004,
          -5.552884101867676
         ],
         "z": [
          -1.299870491027832,
          -8.815299034118652,
          -7.853177070617676
         ]
        },
        {
         "hovertemplate": "color=Aglaeactis<br>TSNE1=%{x}<br>TSNE2=%{y}<br>TSNE3=%{z}<extra></extra>",
         "legendgroup": "Aglaeactis",
         "marker": {
          "color": "#B6E880",
          "symbol": "circle"
         },
         "mode": "markers",
         "name": "Aglaeactis",
         "scene": "scene",
         "showlegend": true,
         "type": "scatter3d",
         "x": [
          -6.903061389923096
         ],
         "y": [
          2.116987943649292
         ],
         "z": [
          -5.932769298553467
         ]
        },
        {
         "hovertemplate": "color=Aglaiocercus<br>TSNE1=%{x}<br>TSNE2=%{y}<br>TSNE3=%{z}<extra></extra>",
         "legendgroup": "Aglaiocercus",
         "marker": {
          "color": "#FF97FF",
          "symbol": "circle"
         },
         "mode": "markers",
         "name": "Aglaiocercus",
         "scene": "scene",
         "showlegend": true,
         "type": "scatter3d",
         "x": [
          -3.863478183746338,
          -3.34957218170166,
          4.319867134094238
         ],
         "y": [
          8.538444519042969,
          -3.9221017360687256,
          -8.436798095703125
         ],
         "z": [
          -1.775710105895996,
          -4.68725061416626,
          -2.7570624351501465
         ]
        },
        {
         "hovertemplate": "color=Akletos<br>TSNE1=%{x}<br>TSNE2=%{y}<br>TSNE3=%{z}<extra></extra>",
         "legendgroup": "Akletos",
         "marker": {
          "color": "#FECB52",
          "symbol": "circle"
         },
         "mode": "markers",
         "name": "Akletos",
         "scene": "scene",
         "showlegend": true,
         "type": "scatter3d",
         "x": [
          -0.939663290977478,
          4.391120910644531,
          -0.13228335976600647,
          12.362404823303223,
          5.9629621505737305
         ],
         "y": [
          -3.5281832218170166,
          -0.7980880737304688,
          -4.846804141998291,
          -2.568049669265747,
          1.117560863494873
         ],
         "z": [
          7.227652549743652,
          6.529956817626953,
          -4.416543483734131,
          -4.009934902191162,
          -0.4113582968711853
         ]
        },
        {
         "hovertemplate": "color=Alopochelidon<br>TSNE1=%{x}<br>TSNE2=%{y}<br>TSNE3=%{z}<extra></extra>",
         "legendgroup": "Alopochelidon",
         "marker": {
          "color": "#636efa",
          "symbol": "circle"
         },
         "mode": "markers",
         "name": "Alopochelidon",
         "scene": "scene",
         "showlegend": true,
         "type": "scatter3d",
         "x": [
          -1.0736830234527588
         ],
         "y": [
          3.727025032043457
         ],
         "z": [
          -4.0718231201171875
         ]
        },
        {
         "hovertemplate": "color=Amaurolimnas<br>TSNE1=%{x}<br>TSNE2=%{y}<br>TSNE3=%{z}<extra></extra>",
         "legendgroup": "Amaurolimnas",
         "marker": {
          "color": "#EF553B",
          "symbol": "circle"
         },
         "mode": "markers",
         "name": "Amaurolimnas",
         "scene": "scene",
         "showlegend": true,
         "type": "scatter3d",
         "x": [
          -3.284012794494629,
          0.04896821454167366,
          -0.8418971300125122
         ],
         "y": [
          4.927798271179199,
          6.028087615966797,
          1.868798017501831
         ],
         "z": [
          6.85977029800415,
          0.21227504312992096,
          -5.116105079650879
         ]
        },
        {
         "hovertemplate": "color=Amazilia<br>TSNE1=%{x}<br>TSNE2=%{y}<br>TSNE3=%{z}<extra></extra>",
         "legendgroup": "Amazilia",
         "marker": {
          "color": "#00cc96",
          "symbol": "circle"
         },
         "mode": "markers",
         "name": "Amazilia",
         "scene": "scene",
         "showlegend": true,
         "type": "scatter3d",
         "x": [
          3.87516713142395,
          -2.404710292816162,
          -3.706493854522705
         ],
         "y": [
          -7.715925693511963,
          -5.827300071716309,
          -0.45569610595703125
         ],
         "z": [
          -4.154999256134033,
          4.318532943725586,
          4.382603168487549
         ]
        },
        {
         "hovertemplate": "color=Amazona<br>TSNE1=%{x}<br>TSNE2=%{y}<br>TSNE3=%{z}<extra></extra>",
         "legendgroup": "Amazona",
         "marker": {
          "color": "#ab63fa",
          "symbol": "circle"
         },
         "mode": "markers",
         "name": "Amazona",
         "scene": "scene",
         "showlegend": true,
         "type": "scatter3d",
         "x": [
          -6.863559246063232,
          -2.7842159271240234,
          -0.7662371397018433,
          -2.950939893722534,
          -2.917433738708496,
          3.1076583862304688,
          -4.291021347045898,
          -3.081865072250366,
          -3.3043925762176514,
          -2.2637360095977783,
          -3.9352662563323975,
          -2.749148368835449,
          -0.6406787037849426,
          -0.7854903340339661
         ],
         "y": [
          8.180032730102539,
          4.9319233894348145,
          1.6136314868927002,
          4.318676471710205,
          2.4391658306121826,
          -6.796606540679932,
          5.293146133422852,
          -4.629110813140869,
          -0.6490896344184875,
          1.2715084552764893,
          7.823738098144531,
          -0.3413977324962616,
          2.285353422164917,
          5.005191802978516
         ],
         "z": [
          -0.6078895330429077,
          -2.774756669998169,
          -6.830434799194336,
          7.345498561859131,
          -8.387598037719727,
          -5.290844440460205,
          6.063831806182861,
          -4.049219608306885,
          4.3369140625,
          8.521065711975098,
          -2.3033199310302734,
          -4.801778793334961,
          -5.673036098480225,
          -0.1834326684474945
         ]
        },
        {
         "hovertemplate": "color=Amazonetta<br>TSNE1=%{x}<br>TSNE2=%{y}<br>TSNE3=%{z}<extra></extra>",
         "legendgroup": "Amazonetta",
         "marker": {
          "color": "#FFA15A",
          "symbol": "circle"
         },
         "mode": "markers",
         "name": "Amazonetta",
         "scene": "scene",
         "showlegend": true,
         "type": "scatter3d",
         "x": [
          0.8510109186172485,
          -3.8866021633148193,
          1.7098215818405151
         ],
         "y": [
          -5.445943832397461,
          -2.983332872390747,
          -3.0244767665863037
         ],
         "z": [
          -6.341579437255859,
          -8.39962387084961,
          -2.0490479469299316
         ]
        },
        {
         "hovertemplate": "color=Amblycercus<br>TSNE1=%{x}<br>TSNE2=%{y}<br>TSNE3=%{z}<extra></extra>",
         "legendgroup": "Amblycercus",
         "marker": {
          "color": "#19d3f3",
          "symbol": "circle"
         },
         "mode": "markers",
         "name": "Amblycercus",
         "scene": "scene",
         "showlegend": true,
         "type": "scatter3d",
         "x": [
          6.771908283233643,
          -3.7617642879486084,
          -5.11472749710083
         ],
         "y": [
          0.9785618185997009,
          -1.7259124517440796,
          3.2928993701934814
         ],
         "z": [
          -1.1799591779708862,
          -7.229189872741699,
          -7.4526872634887695
         ]
        },
        {
         "hovertemplate": "color=Ammodramus<br>TSNE1=%{x}<br>TSNE2=%{y}<br>TSNE3=%{z}<extra></extra>",
         "legendgroup": "Ammodramus",
         "marker": {
          "color": "#FF6692",
          "symbol": "circle"
         },
         "mode": "markers",
         "name": "Ammodramus",
         "scene": "scene",
         "showlegend": true,
         "type": "scatter3d",
         "x": [
          -4.512754440307617,
          -1.8225958347320557,
          4.115866661071777,
          3.2494423389434814,
          -0.18408247828483582
         ],
         "y": [
          1.7361582517623901,
          -1.3759719133377075,
          -7.997119426727295,
          0.9422727823257446,
          3.434622049331665
         ],
         "z": [
          2.5514791011810303,
          2.438098669052124,
          -3.5310027599334717,
          7.325979232788086,
          -2.516347885131836
         ]
        },
        {
         "hovertemplate": "color=Ampelioides<br>TSNE1=%{x}<br>TSNE2=%{y}<br>TSNE3=%{z}<extra></extra>",
         "legendgroup": "Ampelioides",
         "marker": {
          "color": "#B6E880",
          "symbol": "circle"
         },
         "mode": "markers",
         "name": "Ampelioides",
         "scene": "scene",
         "showlegend": true,
         "type": "scatter3d",
         "x": [
          -2.787930727005005,
          1.6778454780578613
         ],
         "y": [
          6.233852863311768,
          -5.9099202156066895
         ],
         "z": [
          1.3791258335113525,
          5.104878902435303
         ]
        },
        {
         "hovertemplate": "color=Ampelion<br>TSNE1=%{x}<br>TSNE2=%{y}<br>TSNE3=%{z}<extra></extra>",
         "legendgroup": "Ampelion",
         "marker": {
          "color": "#FF97FF",
          "symbol": "circle"
         },
         "mode": "markers",
         "name": "Ampelion",
         "scene": "scene",
         "showlegend": true,
         "type": "scatter3d",
         "x": [
          4.098555088043213,
          -3.2514045238494873
         ],
         "y": [
          -8.25777816772461,
          -4.134383201599121
         ],
         "z": [
          -3.2799875736236572,
          -7.5507073402404785
         ]
        },
        {
         "hovertemplate": "color=Anabacerthia<br>TSNE1=%{x}<br>TSNE2=%{y}<br>TSNE3=%{z}<extra></extra>",
         "legendgroup": "Anabacerthia",
         "marker": {
          "color": "#FECB52",
          "symbol": "circle"
         },
         "mode": "markers",
         "name": "Anabacerthia",
         "scene": "scene",
         "showlegend": true,
         "type": "scatter3d",
         "x": [
          2.7910492420196533,
          -5.5666184425354,
          -3.5301907062530518,
          -2.9132542610168457,
          -3.0914952754974365,
          -3.492276668548584,
          -1.9438982009887695,
          -1.2923177480697632,
          -2.237053871154785,
          -3.578888177871704
         ],
         "y": [
          -5.966550827026367,
          0.8212056159973145,
          -1.8274784088134766,
          2.1453723907470703,
          -3.992255687713623,
          6.090030193328857,
          0.6247345209121704,
          -5.922519207000732,
          -5.2579851150512695,
          9.705825805664062
         ],
         "z": [
          -5.0636725425720215,
          -8.000926971435547,
          -5.604969024658203,
          -8.430909156799316,
          -8.435253143310547,
          -2.4326016902923584,
          -6.795024871826172,
          7.482474327087402,
          -5.4298787117004395,
          -0.46135860681533813
         ]
        },
        {
         "hovertemplate": "color=Anairetes<br>TSNE1=%{x}<br>TSNE2=%{y}<br>TSNE3=%{z}<extra></extra>",
         "legendgroup": "Anairetes",
         "marker": {
          "color": "#636efa",
          "symbol": "circle"
         },
         "mode": "markers",
         "name": "Anairetes",
         "scene": "scene",
         "showlegend": true,
         "type": "scatter3d",
         "x": [
          6.5634870529174805,
          0.6423538327217102,
          4.36358118057251,
          -3.0793886184692383
         ],
         "y": [
          -7.226597785949707,
          1.4217519760131836,
          -3.7535977363586426,
          -4.288650035858154
         ],
         "z": [
          -1.2715935707092285,
          7.034668445587158,
          -3.425502061843872,
          -3.4420993328094482
         ]
        },
        {
         "hovertemplate": "color=Anas<br>TSNE1=%{x}<br>TSNE2=%{y}<br>TSNE3=%{z}<extra></extra>",
         "legendgroup": "Anas",
         "marker": {
          "color": "#EF553B",
          "symbol": "circle"
         },
         "mode": "markers",
         "name": "Anas",
         "scene": "scene",
         "showlegend": true,
         "type": "scatter3d",
         "x": [
          -1.4333233833312988,
          6.222363471984863
         ],
         "y": [
          2.4132134914398193,
          -5.510671615600586
         ],
         "z": [
          8.443378448486328,
          -2.0377037525177
         ]
        },
        {
         "hovertemplate": "color=Andigena<br>TSNE1=%{x}<br>TSNE2=%{y}<br>TSNE3=%{z}<extra></extra>",
         "legendgroup": "Andigena",
         "marker": {
          "color": "#00cc96",
          "symbol": "circle"
         },
         "mode": "markers",
         "name": "Andigena",
         "scene": "scene",
         "showlegend": true,
         "type": "scatter3d",
         "x": [
          -1.7444615364074707,
          5.011372089385986,
          -3.1854915618896484
         ],
         "y": [
          -1.2543482780456543,
          -4.290961742401123,
          1.3236377239227295
         ],
         "z": [
          2.843325614929199,
          -3.602252721786499,
          0.5630611181259155
         ]
        },
        {
         "hovertemplate": "color=Anhima<br>TSNE1=%{x}<br>TSNE2=%{y}<br>TSNE3=%{z}<extra></extra>",
         "legendgroup": "Anhima",
         "marker": {
          "color": "#ab63fa",
          "symbol": "circle"
         },
         "mode": "markers",
         "name": "Anhima",
         "scene": "scene",
         "showlegend": true,
         "type": "scatter3d",
         "x": [
          -0.6246926784515381,
          -2.0634958744049072,
          -0.2311907261610031
         ],
         "y": [
          -4.249574184417725,
          1.739828109741211,
          0.5959826111793518
         ],
         "z": [
          2.3490090370178223,
          1.437990427017212,
          -4.201571941375732
         ]
        },
        {
         "hovertemplate": "color=Anhinga<br>TSNE1=%{x}<br>TSNE2=%{y}<br>TSNE3=%{z}<extra></extra>",
         "legendgroup": "Anhinga",
         "marker": {
          "color": "#FFA15A",
          "symbol": "circle"
         },
         "mode": "markers",
         "name": "Anhinga",
         "scene": "scene",
         "showlegend": true,
         "type": "scatter3d",
         "x": [
          4.8068647384643555,
          0.3357749879360199,
          -3.797210454940796,
          -6.97475528717041,
          -2.434117555618286
         ],
         "y": [
          -4.987160682678223,
          1.0285778045654297,
          -2.784371852874756,
          1.94243586063385,
          6.748443126678467
         ],
         "z": [
          -4.023191928863525,
          0.9106040596961975,
          -7.650083065032959,
          -5.864443302154541,
          -4.108022689819336
         ]
        },
        {
         "hovertemplate": "color=Anthracothorax<br>TSNE1=%{x}<br>TSNE2=%{y}<br>TSNE3=%{z}<extra></extra>",
         "legendgroup": "Anthracothorax",
         "marker": {
          "color": "#19d3f3",
          "symbol": "circle"
         },
         "mode": "markers",
         "name": "Anthracothorax",
         "scene": "scene",
         "showlegend": true,
         "type": "scatter3d",
         "x": [
          -2.1619112491607666,
          -0.5077587366104126
         ],
         "y": [
          4.3829026222229,
          -4.376319408416748
         ],
         "z": [
          -2.6719858646392822,
          -3.8048791885375977
         ]
        },
        {
         "hovertemplate": "color=Anthus<br>TSNE1=%{x}<br>TSNE2=%{y}<br>TSNE3=%{z}<extra></extra>",
         "legendgroup": "Anthus",
         "marker": {
          "color": "#FF6692",
          "symbol": "circle"
         },
         "mode": "markers",
         "name": "Anthus",
         "scene": "scene",
         "showlegend": true,
         "type": "scatter3d",
         "x": [
          -4.563381671905518,
          -0.8510933518409729
         ],
         "y": [
          8.239350318908691,
          -1.134266972541809
         ],
         "z": [
          -2.045764684677124,
          2.7898354530334473
         ]
        },
        {
         "hovertemplate": "color=Antrostomus<br>TSNE1=%{x}<br>TSNE2=%{y}<br>TSNE3=%{z}<extra></extra>",
         "legendgroup": "Antrostomus",
         "marker": {
          "color": "#B6E880",
          "symbol": "circle"
         },
         "mode": "markers",
         "name": "Antrostomus",
         "scene": "scene",
         "showlegend": true,
         "type": "scatter3d",
         "x": [
          3.1872751712799072,
          -1.8098939657211304
         ],
         "y": [
          -5.155767440795898,
          -1.9863628149032593
         ],
         "z": [
          4.5143537521362305,
          7.016633987426758
         ]
        },
        {
         "hovertemplate": "color=Ara<br>TSNE1=%{x}<br>TSNE2=%{y}<br>TSNE3=%{z}<extra></extra>",
         "legendgroup": "Ara",
         "marker": {
          "color": "#FF97FF",
          "symbol": "circle"
         },
         "mode": "markers",
         "name": "Ara",
         "scene": "scene",
         "showlegend": true,
         "type": "scatter3d",
         "x": [
          -1.2325356006622314,
          -4.8282952308654785,
          -2.6065585613250732,
          5.357038497924805,
          -3.510603427886963,
          2.974926233291626,
          4.626749038696289,
          -0.07918751984834671,
          -5.668558120727539,
          0.09699373692274094,
          0.048057712614536285,
          0.5015156865119934,
          4.959277153015137,
          5.995630264282227,
          2.777656316757202
         ],
         "y": [
          2.5363736152648926,
          4.329656600952148,
          1.220876693725586,
          0.12808653712272644,
          -2.4284191131591797,
          -4.5787177085876465,
          -4.452889919281006,
          -6.3364386558532715,
          3.1140966415405273,
          7.109321117401123,
          5.042847633361816,
          1.0330219268798828,
          -3.904053211212158,
          -0.6904699206352234,
          0.7309433221817017
         ],
         "z": [
          -6.9748854637146,
          -2.9406542778015137,
          1.3207643032073975,
          -1.5941122770309448,
          -4.30290412902832,
          2.034240484237671,
          2.7731821537017822,
          7.5759735107421875,
          2.3925583362579346,
          0.2974502146244049,
          -1.0396332740783691,
          -3.8206803798675537,
          5.367308616638184,
          5.491657257080078,
          7.5602827072143555
         ]
        },
        {
         "hovertemplate": "color=Aramides<br>TSNE1=%{x}<br>TSNE2=%{y}<br>TSNE3=%{z}<extra></extra>",
         "legendgroup": "Aramides",
         "marker": {
          "color": "#FECB52",
          "symbol": "circle"
         },
         "mode": "markers",
         "name": "Aramides",
         "scene": "scene",
         "showlegend": true,
         "type": "scatter3d",
         "x": [
          -1.8481853008270264,
          0.991184651851654,
          -3.6446304321289062
         ],
         "y": [
          -2.4968953132629395,
          4.387451171875,
          5.2534403800964355
         ],
         "z": [
          6.009223461151123,
          7.313069820404053,
          -4.269845008850098
         ]
        },
        {
         "hovertemplate": "color=Aramus<br>TSNE1=%{x}<br>TSNE2=%{y}<br>TSNE3=%{z}<extra></extra>",
         "legendgroup": "Aramus",
         "marker": {
          "color": "#636efa",
          "symbol": "circle"
         },
         "mode": "markers",
         "name": "Aramus",
         "scene": "scene",
         "showlegend": true,
         "type": "scatter3d",
         "x": [
          6.006192207336426
         ],
         "y": [
          1.038604736328125
         ],
         "z": [
          0.77574223279953
         ]
        },
        {
         "hovertemplate": "color=Aratinga<br>TSNE1=%{x}<br>TSNE2=%{y}<br>TSNE3=%{z}<extra></extra>",
         "legendgroup": "Aratinga",
         "marker": {
          "color": "#EF553B",
          "symbol": "circle"
         },
         "mode": "markers",
         "name": "Aratinga",
         "scene": "scene",
         "showlegend": true,
         "type": "scatter3d",
         "x": [
          -2.445479393005371
         ],
         "y": [
          -2.019285202026367
         ],
         "z": [
          3.835064172744751
         ]
        },
        {
         "hovertemplate": "color=Ardea<br>TSNE1=%{x}<br>TSNE2=%{y}<br>TSNE3=%{z}<extra></extra>",
         "legendgroup": "Ardea",
         "marker": {
          "color": "#00cc96",
          "symbol": "circle"
         },
         "mode": "markers",
         "name": "Ardea",
         "scene": "scene",
         "showlegend": true,
         "type": "scatter3d",
         "x": [
          0.8351957201957703,
          -5.810022354125977,
          -2.952512264251709,
          2.8146896362304688,
          9.33398151397705,
          -0.8666747808456421
         ],
         "y": [
          -5.12449836730957,
          5.831933498382568,
          -3.1140971183776855,
          -6.148375034332275,
          -8.37697696685791,
          -4.987389087677002
         ],
         "z": [
          -4.348952293395996,
          -2.270411729812622,
          -3.6405022144317627,
          -5.200509548187256,
          -0.6134949922561646,
          -5.199087142944336
         ]
        },
        {
         "hovertemplate": "color=Arenaria<br>TSNE1=%{x}<br>TSNE2=%{y}<br>TSNE3=%{z}<extra></extra>",
         "legendgroup": "Arenaria",
         "marker": {
          "color": "#ab63fa",
          "symbol": "circle"
         },
         "mode": "markers",
         "name": "Arenaria",
         "scene": "scene",
         "showlegend": true,
         "type": "scatter3d",
         "x": [
          -2.3937292098999023,
          -6.110668659210205
         ],
         "y": [
          -4.699887275695801,
          6.7107462882995605
         ],
         "z": [
          -7.545762062072754,
          2.129124402999878
         ]
        },
        {
         "hovertemplate": "color=Arremon<br>TSNE1=%{x}<br>TSNE2=%{y}<br>TSNE3=%{z}<extra></extra>",
         "legendgroup": "Arremon",
         "marker": {
          "color": "#FFA15A",
          "symbol": "circle"
         },
         "mode": "markers",
         "name": "Arremon",
         "scene": "scene",
         "showlegend": true,
         "type": "scatter3d",
         "x": [
          5.939523220062256,
          -3.315584659576416,
          -4.1082940101623535,
          -5.133878231048584,
          0.5886362195014954,
          0.8035848736763,
          -0.7547100782394409,
          -1.8381404876708984,
          -4.423830986022949
         ],
         "y": [
          -3.6991066932678223,
          -4.083755016326904,
          5.005662441253662,
          6.371281623840332,
          0.42526063323020935,
          -5.860846042633057,
          1.7184619903564453,
          6.115687847137451,
          4.83765983581543
         ],
         "z": [
          3.3174490928649902,
          -7.476973056793213,
          -5.482841491699219,
          1.7371280193328857,
          0.3622494041919708,
          7.621614933013916,
          -5.916769504547119,
          1.2999497652053833,
          6.2577385902404785
         ]
        },
        {
         "hovertemplate": "color=Arundinicola<br>TSNE1=%{x}<br>TSNE2=%{y}<br>TSNE3=%{z}<extra></extra>",
         "legendgroup": "Arundinicola",
         "marker": {
          "color": "#19d3f3",
          "symbol": "circle"
         },
         "mode": "markers",
         "name": "Arundinicola",
         "scene": "scene",
         "showlegend": true,
         "type": "scatter3d",
         "x": [
          -1.8819044828414917,
          8.475737571716309,
          -3.769998788833618
         ],
         "y": [
          -4.105299472808838,
          -0.2262677252292633,
          -2.3343169689178467
         ],
         "z": [
          2.2072904109954834,
          -1.9395711421966553,
          -6.240735054016113
         ]
        },
        {
         "hovertemplate": "color=Asthenes<br>TSNE1=%{x}<br>TSNE2=%{y}<br>TSNE3=%{z}<extra></extra>",
         "legendgroup": "Asthenes",
         "marker": {
          "color": "#FF6692",
          "symbol": "circle"
         },
         "mode": "markers",
         "name": "Asthenes",
         "scene": "scene",
         "showlegend": true,
         "type": "scatter3d",
         "x": [
          -3.574162006378174,
          5.07675838470459,
          -5.5358099937438965,
          0.05122784525156021,
          -3.856321334838867
         ],
         "y": [
          -3.528351306915283,
          0.4833301603794098,
          5.80720329284668,
          -4.609462738037109,
          1.3934069871902466
         ],
         "z": [
          -8.671480178833008,
          -0.13024672865867615,
          1.8883638381958008,
          8.41797161102295,
          0.7431142330169678
         ]
        },
        {
         "hovertemplate": "color=Athene<br>TSNE1=%{x}<br>TSNE2=%{y}<br>TSNE3=%{z}<extra></extra>",
         "legendgroup": "Athene",
         "marker": {
          "color": "#B6E880",
          "symbol": "circle"
         },
         "mode": "markers",
         "name": "Athene",
         "scene": "scene",
         "showlegend": true,
         "type": "scatter3d",
         "x": [
          5.927268028259277,
          1.6278716325759888,
          -0.7011256814002991,
          0.43166911602020264
         ],
         "y": [
          -6.8919243812561035,
          -5.154086589813232,
          -2.228105306625366,
          0.89313805103302
         ],
         "z": [
          -1.6919732093811035,
          -4.044460296630859,
          2.1698355674743652,
          -3.88700008392334
         ]
        },
        {
         "hovertemplate": "color=Atlapetes<br>TSNE1=%{x}<br>TSNE2=%{y}<br>TSNE3=%{z}<extra></extra>",
         "legendgroup": "Atlapetes",
         "marker": {
          "color": "#FF97FF",
          "symbol": "circle"
         },
         "mode": "markers",
         "name": "Atlapetes",
         "scene": "scene",
         "showlegend": true,
         "type": "scatter3d",
         "x": [
          5.504402160644531,
          -3.56717848777771,
          -3.1815836429595947,
          0.8993642926216125
         ],
         "y": [
          -2.2463467121124268,
          4.0101847648620605,
          2.759610652923584,
          -5.910863876342773
         ],
         "z": [
          1.6943833827972412,
          -3.399888753890991,
          5.929177761077881,
          7.471828937530518
         ]
        },
        {
         "hovertemplate": "color=Atticora<br>TSNE1=%{x}<br>TSNE2=%{y}<br>TSNE3=%{z}<extra></extra>",
         "legendgroup": "Atticora",
         "marker": {
          "color": "#FECB52",
          "symbol": "circle"
         },
         "mode": "markers",
         "name": "Atticora",
         "scene": "scene",
         "showlegend": true,
         "type": "scatter3d",
         "x": [
          1.6214148998260498,
          1.0645813941955566,
          -0.3186905086040497
         ],
         "y": [
          -5.25200891494751,
          1.4501264095306396,
          5.675948619842529
         ],
         "z": [
          4.017180442810059,
          8.092540740966797,
          -1.5217194557189941
         ]
        },
        {
         "hovertemplate": "color=Attila<br>TSNE1=%{x}<br>TSNE2=%{y}<br>TSNE3=%{z}<extra></extra>",
         "legendgroup": "Attila",
         "marker": {
          "color": "#636efa",
          "symbol": "circle"
         },
         "mode": "markers",
         "name": "Attila",
         "scene": "scene",
         "showlegend": true,
         "type": "scatter3d",
         "x": [
          -3.5226962566375732,
          9.146991729736328,
          -1.9893162250518799,
          4.391446113586426,
          0.4129049479961395,
          9.162243843078613,
          -2.5904996395111084,
          8.437459945678711,
          -3.1524622440338135
         ],
         "y": [
          -3.797412872314453,
          -0.6893224716186523,
          2.0993335247039795,
          -1.402609944343567,
          -5.785183906555176,
          -0.11340813338756561,
          -0.6307055354118347,
          0.22086577117443085,
          -3.107508897781372
         ],
         "z": [
          -7.412128925323486,
          -1.7583917379379272,
          -7.938056945800781,
          6.62430477142334,
          7.577315330505371,
          -1.0159751176834106,
          -4.585155010223389,
          -1.4335291385650635,
          -3.030301570892334
         ]
        },
        {
         "hovertemplate": "color=Aulacorhynchus<br>TSNE1=%{x}<br>TSNE2=%{y}<br>TSNE3=%{z}<extra></extra>",
         "legendgroup": "Aulacorhynchus",
         "marker": {
          "color": "#EF553B",
          "symbol": "circle"
         },
         "mode": "markers",
         "name": "Aulacorhynchus",
         "scene": "scene",
         "showlegend": true,
         "type": "scatter3d",
         "x": [
          -6.393014430999756,
          -1.5374399423599243,
          0.868141770362854
         ],
         "y": [
          8.453953742980957,
          -2.1889567375183105,
          -6.08900260925293
         ],
         "z": [
          -0.9427830576896667,
          7.044429779052734,
          6.9627685546875
         ]
        },
        {
         "hovertemplate": "color=Automolus<br>TSNE1=%{x}<br>TSNE2=%{y}<br>TSNE3=%{z}<extra></extra>",
         "legendgroup": "Automolus",
         "marker": {
          "color": "#00cc96",
          "symbol": "circle"
         },
         "mode": "markers",
         "name": "Automolus",
         "scene": "scene",
         "showlegend": true,
         "type": "scatter3d",
         "x": [
          0.9997390508651733,
          4.326781272888184,
          2.750208854675293,
          -4.326510429382324,
          -3.351762294769287,
          -1.4854718446731567,
          -0.6395768523216248,
          6.878739356994629,
          -4.207707405090332,
          -3.0403802394866943
         ],
         "y": [
          1.2257378101348877,
          -4.7943267822265625,
          -5.151471138000488,
          5.323591709136963,
          4.517444610595703,
          -1.8285975456237793,
          -5.286989688873291,
          -0.7083590030670166,
          2.3515515327453613,
          4.9033894538879395
         ],
         "z": [
          7.98948860168457,
          3.997164011001587,
          4.770401954650879,
          -3.235952138900757,
          -6.457907676696777,
          -2.958637237548828,
          7.684731960296631,
          3.5322723388671875,
          -8.404675483703613,
          6.947291851043701
         ]
        },
        {
         "hovertemplate": "color=Bartramia<br>TSNE1=%{x}<br>TSNE2=%{y}<br>TSNE3=%{z}<extra></extra>",
         "legendgroup": "Bartramia",
         "marker": {
          "color": "#ab63fa",
          "symbol": "circle"
         },
         "mode": "markers",
         "name": "Bartramia",
         "scene": "scene",
         "showlegend": true,
         "type": "scatter3d",
         "x": [
          -4.170919418334961,
          -2.9120774269104004,
          6.671002388000488
         ],
         "y": [
          8.249375343322754,
          -1.0398223400115967,
          -7.595727920532227
         ],
         "z": [
          -2.0607352256774902,
          -7.0927228927612305,
          -1.19027841091156
         ]
        },
        {
         "hovertemplate": "color=Baryphthengus<br>TSNE1=%{x}<br>TSNE2=%{y}<br>TSNE3=%{z}<extra></extra>",
         "legendgroup": "Baryphthengus",
         "marker": {
          "color": "#FFA15A",
          "symbol": "circle"
         },
         "mode": "markers",
         "name": "Baryphthengus",
         "scene": "scene",
         "showlegend": true,
         "type": "scatter3d",
         "x": [
          8.865907669067383,
          -2.9464519023895264,
          -4.579052925109863
         ],
         "y": [
          -0.9252583980560303,
          5.9611382484436035,
          4.982865810394287
         ],
         "z": [
          -2.210083246231079,
          6.762583255767822,
          1.3789929151535034
         ]
        },
        {
         "hovertemplate": "color=Basileuterus<br>TSNE1=%{x}<br>TSNE2=%{y}<br>TSNE3=%{z}<extra></extra>",
         "legendgroup": "Basileuterus",
         "marker": {
          "color": "#19d3f3",
          "symbol": "circle"
         },
         "mode": "markers",
         "name": "Basileuterus",
         "scene": "scene",
         "showlegend": true,
         "type": "scatter3d",
         "x": [
          1.2000625133514404,
          -4.53006649017334
         ],
         "y": [
          4.833664894104004,
          2.308375835418701
         ],
         "z": [
          -0.026722118258476257,
          1.5625001192092896
         ]
        },
        {
         "hovertemplate": "color=Berlepschia<br>TSNE1=%{x}<br>TSNE2=%{y}<br>TSNE3=%{z}<extra></extra>",
         "legendgroup": "Berlepschia",
         "marker": {
          "color": "#FF6692",
          "symbol": "circle"
         },
         "mode": "markers",
         "name": "Berlepschia",
         "scene": "scene",
         "showlegend": true,
         "type": "scatter3d",
         "x": [
          5.8086137771606445,
          5.187701225280762
         ],
         "y": [
          1.0631556510925293,
          -6.538183212280273
         ],
         "z": [
          -0.5056883692741394,
          -3.0702338218688965
         ]
        },
        {
         "hovertemplate": "color=Bolborhynchus<br>TSNE1=%{x}<br>TSNE2=%{y}<br>TSNE3=%{z}<extra></extra>",
         "legendgroup": "Bolborhynchus",
         "marker": {
          "color": "#B6E880",
          "symbol": "circle"
         },
         "mode": "markers",
         "name": "Bolborhynchus",
         "scene": "scene",
         "showlegend": true,
         "type": "scatter3d",
         "x": [
          -2.004408597946167,
          -3.1528451442718506,
          -2.889296531677246,
          6.958695888519287,
          -2.775190591812134
         ],
         "y": [
          4.039402961730957,
          -4.158224105834961,
          3.781095027923584,
          -2.790154218673706,
          -0.7839891910552979
         ],
         "z": [
          -6.370903015136719,
          -4.814119338989258,
          5.623912811279297,
          3.831345319747925,
          -4.529025554656982
         ]
        },
        {
         "hovertemplate": "color=Brachygalba<br>TSNE1=%{x}<br>TSNE2=%{y}<br>TSNE3=%{z}<extra></extra>",
         "legendgroup": "Brachygalba",
         "marker": {
          "color": "#FF97FF",
          "symbol": "circle"
         },
         "mode": "markers",
         "name": "Brachygalba",
         "scene": "scene",
         "showlegend": true,
         "type": "scatter3d",
         "x": [
          -1.7966535091400146,
          0.2724534869194031
         ],
         "y": [
          0.6905546188354492,
          1.144261360168457
         ],
         "z": [
          1.7469336986541748,
          0.8848217725753784
         ]
        },
        {
         "hovertemplate": "color=Brotogeris<br>TSNE1=%{x}<br>TSNE2=%{y}<br>TSNE3=%{z}<extra></extra>",
         "legendgroup": "Brotogeris",
         "marker": {
          "color": "#FECB52",
          "symbol": "circle"
         },
         "mode": "markers",
         "name": "Brotogeris",
         "scene": "scene",
         "showlegend": true,
         "type": "scatter3d",
         "x": [
          -4.290709495544434,
          -7.079187393188477,
          -6.792555809020996,
          0.5629650354385376,
          -0.10110675543546677,
          -2.059692859649658
         ],
         "y": [
          0.07204838842153549,
          2.064753770828247,
          7.583636283874512,
          -3.5654871463775635,
          4.801143169403076,
          5.281177520751953
         ],
         "z": [
          -8.061806678771973,
          -5.4364752769470215,
          0.7169609069824219,
          -2.433525323867798,
          0.4054655134677887,
          1.4828898906707764
         ]
        },
        {
         "hovertemplate": "color=Bubo<br>TSNE1=%{x}<br>TSNE2=%{y}<br>TSNE3=%{z}<extra></extra>",
         "legendgroup": "Bubo",
         "marker": {
          "color": "#636efa",
          "symbol": "circle"
         },
         "mode": "markers",
         "name": "Bubo",
         "scene": "scene",
         "showlegend": true,
         "type": "scatter3d",
         "x": [
          9.717257499694824
         ],
         "y": [
          -8.584421157836914
         ],
         "z": [
          -0.5236430764198303
         ]
        },
        {
         "hovertemplate": "color=Bubulcus<br>TSNE1=%{x}<br>TSNE2=%{y}<br>TSNE3=%{z}<extra></extra>",
         "legendgroup": "Bubulcus",
         "marker": {
          "color": "#EF553B",
          "symbol": "circle"
         },
         "mode": "markers",
         "name": "Bubulcus",
         "scene": "scene",
         "showlegend": true,
         "type": "scatter3d",
         "x": [
          -3.819652557373047,
          -6.3499298095703125
         ],
         "y": [
          -2.9697916507720947,
          5.0883564949035645
         ],
         "z": [
          -8.15244197845459,
          1.4460186958312988
         ]
        },
        {
         "hovertemplate": "color=Bucco<br>TSNE1=%{x}<br>TSNE2=%{y}<br>TSNE3=%{z}<extra></extra>",
         "legendgroup": "Bucco",
         "marker": {
          "color": "#00cc96",
          "symbol": "circle"
         },
         "mode": "markers",
         "name": "Bucco",
         "scene": "scene",
         "showlegend": true,
         "type": "scatter3d",
         "x": [
          -7.359415054321289,
          -6.187405109405518,
          -5.925441265106201,
          -1.3090684413909912,
          1.0106314420700073,
          -5.262991428375244,
          -6.292818069458008,
          -3.0531930923461914
         ],
         "y": [
          8.085693359375,
          6.4048848152160645,
          3.39662766456604,
          -4.133133411407471,
          0.0780300498008728,
          5.531108379364014,
          1.6218323707580566,
          5.948654651641846
         ],
         "z": [
          0.19733190536499023,
          2.4648139476776123,
          2.947303295135498,
          7.377313613891602,
          8.161181449890137,
          5.3784966468811035,
          -7.170106887817383,
          6.788334846496582
         ]
        },
        {
         "hovertemplate": "color=Busarellus<br>TSNE1=%{x}<br>TSNE2=%{y}<br>TSNE3=%{z}<extra></extra>",
         "legendgroup": "Busarellus",
         "marker": {
          "color": "#ab63fa",
          "symbol": "circle"
         },
         "mode": "markers",
         "name": "Busarellus",
         "scene": "scene",
         "showlegend": true,
         "type": "scatter3d",
         "x": [
          -6.470683574676514,
          -6.310872554779053,
          -3.0355045795440674,
          -0.7461283206939697,
          -0.7964321970939636
         ],
         "y": [
          2.2717108726501465,
          4.403097152709961,
          -2.321146011352539,
          -4.806036949157715,
          5.1675214767456055
         ],
         "z": [
          -6.640687465667725,
          4.983180999755859,
          5.542516708374023,
          -4.635144233703613,
          -1.915644645690918
         ]
        },
        {
         "hovertemplate": "color=Buteo<br>TSNE1=%{x}<br>TSNE2=%{y}<br>TSNE3=%{z}<extra></extra>",
         "legendgroup": "Buteo",
         "marker": {
          "color": "#FFA15A",
          "symbol": "circle"
         },
         "mode": "markers",
         "name": "Buteo",
         "scene": "scene",
         "showlegend": true,
         "type": "scatter3d",
         "x": [
          8.782123565673828,
          -5.2375569343566895,
          0.18899908661842346,
          -2.9351134300231934,
          -1.901315450668335,
          2.7003514766693115,
          1.3650455474853516,
          3.054842710494995,
          4.572441101074219,
          -5.1229777336120605,
          -1.9082527160644531,
          5.782136917114258,
          5.388776779174805,
          -6.391418933868408,
          1.1542311906814575,
          4.335086345672607,
          -3.882776975631714,
          0.5178062319755554,
          -3.3011817932128906,
          1.2639555931091309
         ],
         "y": [
          -0.5478793382644653,
          6.0667314529418945,
          -5.27250337600708,
          6.006350994110107,
          7.429229736328125,
          0.6568451523780823,
          1.3283427953720093,
          -1.2970855236053467,
          -8.361125946044922,
          3.3328115940093994,
          0.898300290107727,
          -7.948427200317383,
          0.9265156984329224,
          6.307185173034668,
          0.547667920589447,
          -3.7997617721557617,
          5.907336711883545,
          1.9633047580718994,
          -0.33721858263015747,
          -3.749786138534546
         ],
         "z": [
          -1.920132040977478,
          -4.758184909820557,
          -8.612483024597168,
          -3.840782642364502,
          0.27574047446250916,
          7.622380256652832,
          7.996709823608398,
          7.299812316894531,
          -2.460235834121704,
          -7.431632995605469,
          8.430946350097656,
          -1.5407153367996216,
          5.770564556121826,
          2.782254219055176,
          8.16184139251709,
          5.701238632202148,
          -3.6646952629089355,
          7.712148189544678,
          -7.753847599029541,
          -2.3821120262145996
         ]
        },
        {
         "hovertemplate": "color=Buteogallus<br>TSNE1=%{x}<br>TSNE2=%{y}<br>TSNE3=%{z}<extra></extra>",
         "legendgroup": "Buteogallus",
         "marker": {
          "color": "#19d3f3",
          "symbol": "circle"
         },
         "mode": "markers",
         "name": "Buteogallus",
         "scene": "scene",
         "showlegend": true,
         "type": "scatter3d",
         "x": [
          -3.7228991985321045,
          -5.177180290222168,
          1.2500849962234497,
          5.713030815124512,
          -5.724801540374756,
          -0.8157565593719482,
          -2.9015817642211914,
          -1.4974234104156494,
          -0.85265052318573,
          -2.8528571128845215,
          -2.5040977001190186,
          -1.9463096857070923,
          -0.9920475482940674,
          8.331080436706543
         ],
         "y": [
          6.964709758758545,
          4.254223346710205,
          1.4224522113800049,
          -3.9205968379974365,
          4.734127521514893,
          0.40144577622413635,
          2.067657470703125,
          -5.041195869445801,
          5.470495223999023,
          -4.596432209014893,
          1.2023178339004517,
          -4.239530563354492,
          -0.6173141002655029,
          -8.058867454528809
         ],
         "z": [
          -2.7285327911376953,
          -6.437470436096191,
          8.161688804626465,
          3.638392686843872,
          2.277595281600952,
          -4.772620677947998,
          -8.446789741516113,
          5.14008092880249,
          -0.19960317015647888,
          -6.638023376464844,
          -7.99985408782959,
          -3.935399055480957,
          8.02509880065918,
          -0.812183678150177
         ]
        },
        {
         "hovertemplate": "color=Butorides<br>TSNE1=%{x}<br>TSNE2=%{y}<br>TSNE3=%{z}<extra></extra>",
         "legendgroup": "Butorides",
         "marker": {
          "color": "#FF6692",
          "symbol": "circle"
         },
         "mode": "markers",
         "name": "Butorides",
         "scene": "scene",
         "showlegend": true,
         "type": "scatter3d",
         "x": [
          7.171327590942383,
          3.425337314605713,
          -2.6428439617156982
         ],
         "y": [
          -5.50642728805542,
          -4.042384147644043,
          -0.8709807991981506
         ],
         "z": [
          -1.3224273920059204,
          -3.5509464740753174,
          -4.3932318687438965
         ]
        },
        {
         "hovertemplate": "color=Cacicus<br>TSNE1=%{x}<br>TSNE2=%{y}<br>TSNE3=%{z}<extra></extra>",
         "legendgroup": "Cacicus",
         "marker": {
          "color": "#B6E880",
          "symbol": "circle"
         },
         "mode": "markers",
         "name": "Cacicus",
         "scene": "scene",
         "showlegend": true,
         "type": "scatter3d",
         "x": [
          -1.536397099494934,
          1.8361144065856934,
          5.660488605499268,
          -5.187136650085449,
          6.123018264770508,
          0.2760773301124573,
          -2.7616498470306396,
          -2.591693878173828,
          -4.34953498840332,
          7.100146293640137,
          -1.2139718532562256,
          -6.07317590713501,
          4.879333972930908
         ],
         "y": [
          -2.032660722732544,
          -5.3869524002075195,
          -0.8977708220481873,
          8.467378616333008,
          -0.39402228593826294,
          -5.425852298736572,
          1.5628094673156738,
          -4.288388252258301,
          4.918384552001953,
          -1.6524006128311157,
          0.2633720934391022,
          4.81615686416626,
          -3.67730975151062
         ],
         "z": [
          7.54188346862793,
          4.166540145874023,
          1.6509629487991333,
          -1.6348861455917358,
          5.320441246032715,
          -7.302163600921631,
          4.743452548980713,
          6.8165059089660645,
          -4.764689922332764,
          3.6487441062927246,
          -3.875781297683716,
          2.8786635398864746,
          -3.212924003601074
         ]
        },
        {
         "hovertemplate": "color=Calidris<br>TSNE1=%{x}<br>TSNE2=%{y}<br>TSNE3=%{z}<extra></extra>",
         "legendgroup": "Calidris",
         "marker": {
          "color": "#FF97FF",
          "symbol": "circle"
         },
         "mode": "markers",
         "name": "Calidris",
         "scene": "scene",
         "showlegend": true,
         "type": "scatter3d",
         "x": [
          -1.3028395175933838,
          -3.8405404090881348,
          3.3401365280151367,
          -2.221607208251953,
          -1.0700013637542725,
          1.0690327882766724,
          0.18244288861751556,
          -1.4790465831756592,
          0.6870883703231812,
          -3.7693493366241455,
          -1.1485463380813599,
          6.484539031982422,
          6.199714660644531,
          6.136220932006836,
          -3.2718727588653564,
          -3.3875722885131836,
          -1.069183111190796,
          -0.6372137665748596,
          -1.6219782829284668,
          -3.2978930473327637,
          2.8428432941436768,
          -3.569256067276001,
          1.2116690874099731,
          -1.0299309492111206,
          1.0963451862335205
         ],
         "y": [
          0.2777719497680664,
          -2.69215989112854,
          -4.20343017578125,
          -4.814081192016602,
          0.5207253694534302,
          1.4094998836517334,
          -6.543697834014893,
          -4.737537384033203,
          -6.150310516357422,
          1.7512024641036987,
          1.1630818843841553,
          -0.4380972683429718,
          0.31642040610313416,
          -5.705982685089111,
          -0.7142754197120667,
          -4.078444480895996,
          3.6606998443603516,
          -4.966843605041504,
          -3.3891496658325195,
          4.245795726776123,
          -2.9288454055786133,
          -0.30867281556129456,
          -5.522159099578857,
          -5.814404487609863,
          -5.492047309875488
         ],
         "z": [
          -4.449219226837158,
          -7.902285575866699,
          -3.666776418685913,
          -7.400054931640625,
          -4.452868461608887,
          7.945192813873291,
          6.519054889678955,
          7.751112461090088,
          5.743896484375,
          -8.578925132751465,
          -4.0753984451293945,
          4.671749114990234,
          1.9102084636688232,
          -2.0571725368499756,
          7.929011821746826,
          -5.044793605804443,
          -5.061058521270752,
          -5.235286235809326,
          -3.48793625831604,
          -7.030331611633301,
          6.797226428985596,
          5.436474323272705,
          -6.349984169006348,
          -6.6022562980651855,
          -6.349965572357178
         ]
        },
        {
         "hovertemplate": "color=Calliphlox<br>TSNE1=%{x}<br>TSNE2=%{y}<br>TSNE3=%{z}<extra></extra>",
         "legendgroup": "Calliphlox",
         "marker": {
          "color": "#FECB52",
          "symbol": "circle"
         },
         "mode": "markers",
         "name": "Calliphlox",
         "scene": "scene",
         "showlegend": true,
         "type": "scatter3d",
         "x": [
          -4.913882732391357
         ],
         "y": [
          5.201506614685059
         ],
         "z": [
          -4.671414375305176
         ]
        },
        {
         "hovertemplate": "color=Campephilus<br>TSNE1=%{x}<br>TSNE2=%{y}<br>TSNE3=%{z}<extra></extra>",
         "legendgroup": "Campephilus",
         "marker": {
          "color": "#636efa",
          "symbol": "circle"
         },
         "mode": "markers",
         "name": "Campephilus",
         "scene": "scene",
         "showlegend": true,
         "type": "scatter3d",
         "x": [
          -0.3069787323474884,
          -5.3430914878845215,
          -6.263899803161621,
          0.5717028379440308,
          -5.248922824859619,
          6.619265556335449,
          -1.722886562347412,
          -0.41453468799591064,
          -3.838982343673706,
          1.237534999847412,
          -3.5158491134643555
         ],
         "y": [
          -5.047002792358398,
          -1.8837602138519287,
          4.73114538192749,
          -5.45028018951416,
          5.422708511352539,
          -2.8590662479400635,
          7.058945655822754,
          -0.5193576812744141,
          8.675583839416504,
          -5.719604015350342,
          2.3388686180114746
         ],
         "z": [
          -8.810590744018555,
          -9.188645362854004,
          4.2494096755981445,
          -6.870412349700928,
          5.961566925048828,
          3.6648495197296143,
          0.16920652985572815,
          7.915192127227783,
          -0.27211347222328186,
          -8.11373233795166,
          5.862202167510986
         ]
        },
        {
         "hovertemplate": "color=Camptostoma<br>TSNE1=%{x}<br>TSNE2=%{y}<br>TSNE3=%{z}<extra></extra>",
         "legendgroup": "Camptostoma",
         "marker": {
          "color": "#EF553B",
          "symbol": "circle"
         },
         "mode": "markers",
         "name": "Camptostoma",
         "scene": "scene",
         "showlegend": true,
         "type": "scatter3d",
         "x": [
          -3.8069887161254883,
          -4.3102803230285645
         ],
         "y": [
          -2.4441120624542236,
          2.2022271156311035
         ],
         "z": [
          -7.3555097579956055,
          3.1969399452209473
         ]
        },
        {
         "hovertemplate": "color=Campylopterus<br>TSNE1=%{x}<br>TSNE2=%{y}<br>TSNE3=%{z}<extra></extra>",
         "legendgroup": "Campylopterus",
         "marker": {
          "color": "#00cc96",
          "symbol": "circle"
         },
         "mode": "markers",
         "name": "Campylopterus",
         "scene": "scene",
         "showlegend": true,
         "type": "scatter3d",
         "x": [
          -0.5209646224975586,
          -2.606698989868164,
          -1.7274142503738403
         ],
         "y": [
          -0.16164568066596985,
          -0.8578976988792419,
          -1.7603883743286133
         ],
         "z": [
          -3.428809881210327,
          -4.490364074707031,
          -5.135472297668457
         ]
        },
        {
         "hovertemplate": "color=Campylorhamphus<br>TSNE1=%{x}<br>TSNE2=%{y}<br>TSNE3=%{z}<extra></extra>",
         "legendgroup": "Campylorhamphus",
         "marker": {
          "color": "#ab63fa",
          "symbol": "circle"
         },
         "mode": "markers",
         "name": "Campylorhamphus",
         "scene": "scene",
         "showlegend": true,
         "type": "scatter3d",
         "x": [
          3.391824245452881,
          -3.5092337131500244,
          -3.4409265518188477,
          -3.637070417404175
         ],
         "y": [
          -2.761099100112915,
          -3.797417640686035,
          2.301079511642456,
          -3.6631855964660645
         ],
         "z": [
          6.703520774841309,
          -4.921230792999268,
          -8.70944881439209,
          -6.970401763916016
         ]
        },
        {
         "hovertemplate": "color=Campylorhynchus<br>TSNE1=%{x}<br>TSNE2=%{y}<br>TSNE3=%{z}<extra></extra>",
         "legendgroup": "Campylorhynchus",
         "marker": {
          "color": "#FFA15A",
          "symbol": "circle"
         },
         "mode": "markers",
         "name": "Campylorhynchus",
         "scene": "scene",
         "showlegend": true,
         "type": "scatter3d",
         "x": [
          1.0357435941696167,
          0.43091660737991333,
          -1.6813162565231323
         ],
         "y": [
          -5.497915744781494,
          0.8666083216667175,
          -5.016698837280273
         ],
         "z": [
          -6.514655113220215,
          -3.837869882583618,
          -7.421112537384033
         ]
        },
        {
         "hovertemplate": "color=Cantorchilus<br>TSNE1=%{x}<br>TSNE2=%{y}<br>TSNE3=%{z}<extra></extra>",
         "legendgroup": "Cantorchilus",
         "marker": {
          "color": "#19d3f3",
          "symbol": "circle"
         },
         "mode": "markers",
         "name": "Cantorchilus",
         "scene": "scene",
         "showlegend": true,
         "type": "scatter3d",
         "x": [
          2.14212703704834,
          -5.526317596435547,
          5.871188163757324
         ],
         "y": [
          1.950075387954712,
          3.2271740436553955,
          -3.1752824783325195
         ],
         "z": [
          7.619791507720947,
          5.341207504272461,
          5.182499408721924
         ]
        },
        {
         "hovertemplate": "color=Capito<br>TSNE1=%{x}<br>TSNE2=%{y}<br>TSNE3=%{z}<extra></extra>",
         "legendgroup": "Capito",
         "marker": {
          "color": "#FF6692",
          "symbol": "circle"
         },
         "mode": "markers",
         "name": "Capito",
         "scene": "scene",
         "showlegend": true,
         "type": "scatter3d",
         "x": [
          4.698878288269043,
          -2.7555840015411377,
          -3.9048852920532227,
          -4.550440311431885,
          -0.4723554253578186,
          -1.8096219301223755
         ],
         "y": [
          1.5343246459960938,
          -2.89449405670166,
          4.758382797241211,
          4.85105037689209,
          -1.9265121221542358,
          5.1758012771606445
         ],
         "z": [
          6.268091201782227,
          3.158552408218384,
          -6.046182155609131,
          -5.596184253692627,
          6.725710391998291,
          1.375825047492981
         ]
        },
        {
         "hovertemplate": "color=Capsiempis<br>TSNE1=%{x}<br>TSNE2=%{y}<br>TSNE3=%{z}<extra></extra>",
         "legendgroup": "Capsiempis",
         "marker": {
          "color": "#B6E880",
          "symbol": "circle"
         },
         "mode": "markers",
         "name": "Capsiempis",
         "scene": "scene",
         "showlegend": true,
         "type": "scatter3d",
         "x": [
          -3.3707642555236816,
          -2.6744329929351807
         ],
         "y": [
          6.100030899047852,
          1.2111433744430542
         ],
         "z": [
          -2.536555051803589,
          8.050704002380371
         ]
        },
        {
         "hovertemplate": "color=Caracara<br>TSNE1=%{x}<br>TSNE2=%{y}<br>TSNE3=%{z}<extra></extra>",
         "legendgroup": "Caracara",
         "marker": {
          "color": "#FF97FF",
          "symbol": "circle"
         },
         "mode": "markers",
         "name": "Caracara",
         "scene": "scene",
         "showlegend": true,
         "type": "scatter3d",
         "x": [
          -1.386245846748352,
          -5.3758368492126465,
          0.1864786446094513
         ],
         "y": [
          1.5010991096496582,
          8.460869789123535,
          0.9248701333999634
         ],
         "z": [
          1.446299433708191,
          -1.5269330739974976,
          1.174278736114502
         ]
        },
        {
         "hovertemplate": "color=Cardellina<br>TSNE1=%{x}<br>TSNE2=%{y}<br>TSNE3=%{z}<extra></extra>",
         "legendgroup": "Cardellina",
         "marker": {
          "color": "#FECB52",
          "symbol": "circle"
         },
         "mode": "markers",
         "name": "Cardellina",
         "scene": "scene",
         "showlegend": true,
         "type": "scatter3d",
         "x": [
          -3.214958667755127,
          -6.3154120445251465,
          -0.8820549845695496
         ],
         "y": [
          2.167400598526001,
          5.32305383682251,
          5.923932075500488
         ],
         "z": [
          6.88468074798584,
          4.003452777862549,
          0.7467781901359558
         ]
        },
        {
         "hovertemplate": "color=Casiornis<br>TSNE1=%{x}<br>TSNE2=%{y}<br>TSNE3=%{z}<extra></extra>",
         "legendgroup": "Casiornis",
         "marker": {
          "color": "#636efa",
          "symbol": "circle"
         },
         "mode": "markers",
         "name": "Casiornis",
         "scene": "scene",
         "showlegend": true,
         "type": "scatter3d",
         "x": [
          -3.8937737941741943,
          -1.4193189144134521,
          -3.4837186336517334,
          4.800185203552246
         ],
         "y": [
          5.612018585205078,
          -2.462737798690796,
          -3.099515438079834,
          -4.477499008178711
         ],
         "z": [
          -3.2619898319244385,
          6.736220836639404,
          -4.228154182434082,
          -3.8230504989624023
         ]
        },
        {
         "hovertemplate": "color=Catamblyrhynchus<br>TSNE1=%{x}<br>TSNE2=%{y}<br>TSNE3=%{z}<extra></extra>",
         "legendgroup": "Catamblyrhynchus",
         "marker": {
          "color": "#EF553B",
          "symbol": "circle"
         },
         "mode": "markers",
         "name": "Catamblyrhynchus",
         "scene": "scene",
         "showlegend": true,
         "type": "scatter3d",
         "x": [
          -1.340090274810791,
          -3.7183115482330322,
          5.648423194885254
         ],
         "y": [
          1.82449471950531,
          3.8580734729766846,
          -2.3935580253601074
         ],
         "z": [
          -7.067923545837402,
          -3.8472518920898438,
          1.800963282585144
         ]
        },
        {
         "hovertemplate": "color=Catamenia<br>TSNE1=%{x}<br>TSNE2=%{y}<br>TSNE3=%{z}<extra></extra>",
         "legendgroup": "Catamenia",
         "marker": {
          "color": "#00cc96",
          "symbol": "circle"
         },
         "mode": "markers",
         "name": "Catamenia",
         "scene": "scene",
         "showlegend": true,
         "type": "scatter3d",
         "x": [
          -7.305959701538086,
          8.712075233459473,
          -0.19466575980186462,
          -4.2300286293029785,
          6.186880111694336,
          -0.7593322992324829,
          -2.9984822273254395,
          -3.8145697116851807,
          -3.4561400413513184
         ],
         "y": [
          7.911400318145752,
          0.33036914467811584,
          -0.26005828380584717,
          6.4101691246032715,
          -0.43089351058006287,
          -0.5704725980758667,
          -0.4753072261810303,
          -2.0511348247528076,
          0.9138034582138062
         ],
         "z": [
          1.0639288425445557,
          -0.9264423847198486,
          8.08712387084961,
          1.498185396194458,
          5.240042209625244,
          2.130438804626465,
          -6.721995830535889,
          -6.979193210601807,
          -8.287805557250977
         ]
        },
        {
         "hovertemplate": "color=Cathartes<br>TSNE1=%{x}<br>TSNE2=%{y}<br>TSNE3=%{z}<extra></extra>",
         "legendgroup": "Cathartes",
         "marker": {
          "color": "#ab63fa",
          "symbol": "circle"
         },
         "mode": "markers",
         "name": "Cathartes",
         "scene": "scene",
         "showlegend": true,
         "type": "scatter3d",
         "x": [
          11.459835052490234
         ],
         "y": [
          -2.1979472637176514
         ],
         "z": [
          -2.3310129642486572
         ]
        },
        {
         "hovertemplate": "color=Catharus<br>TSNE1=%{x}<br>TSNE2=%{y}<br>TSNE3=%{z}<extra></extra>",
         "legendgroup": "Catharus",
         "marker": {
          "color": "#FFA15A",
          "symbol": "circle"
         },
         "mode": "markers",
         "name": "Catharus",
         "scene": "scene",
         "showlegend": true,
         "type": "scatter3d",
         "x": [
          -2.0869030952453613,
          -3.500422716140747,
          3.5903401374816895,
          3.477067708969116,
          -6.244185447692871,
          -3.8915491104125977,
          -3.3100504875183105,
          3.776512384414673,
          2.063236713409424,
          -4.2463154792785645,
          5.290079593658447,
          3.9130144119262695,
          -0.24372391402721405,
          -5.788444519042969
         ],
         "y": [
          0.0812077671289444,
          -0.3539590537548065,
          -2.2382335662841797,
          -2.16945219039917,
          4.244025707244873,
          3.963224411010742,
          -0.3802303671836853,
          -2.637524366378784,
          -5.2467570304870605,
          5.33195686340332,
          -4.234631538391113,
          -4.67233943939209,
          5.888316631317139,
          5.126527786254883
         ],
         "z": [
          8.19511604309082,
          5.221270561218262,
          6.836892127990723,
          6.906078338623047,
          3.974308490753174,
          -7.380424976348877,
          7.709899425506592,
          6.552999019622803,
          4.09968376159668,
          6.197196006774902,
          3.221665382385254,
          2.560044765472412,
          -1.016523838043213,
          -3.9861221313476562
         ]
        },
        {
         "hovertemplate": "color=Celeus<br>TSNE1=%{x}<br>TSNE2=%{y}<br>TSNE3=%{z}<extra></extra>",
         "legendgroup": "Celeus",
         "marker": {
          "color": "#19d3f3",
          "symbol": "circle"
         },
         "mode": "markers",
         "name": "Celeus",
         "scene": "scene",
         "showlegend": true,
         "type": "scatter3d",
         "x": [
          8.852208137512207,
          -4.4490156173706055,
          -4.256776809692383,
          -1.6903791427612305,
          5.580095291137695,
          1.2325125932693481,
          5.198946952819824,
          7.655749320983887,
          0.1539257913827896,
          4.092170715332031,
          -0.24560946226119995,
          -5.579406261444092
         ],
         "y": [
          -8.170478820800781,
          5.365975856781006,
          8.214942932128906,
          -2.118051052093506,
          -5.434472560882568,
          4.610877513885498,
          0.1663738638162613,
          0.4407028257846832,
          -5.417619705200195,
          -4.306931495666504,
          -0.4323152005672455,
          5.5748491287231445
         ],
         "z": [
          -0.7156731486320496,
          1.565401554107666,
          -2.1678109169006348,
          6.923079013824463,
          -3.2017600536346436,
          -0.23333600163459778,
          -1.4211463928222656,
          -1.626708984375,
          7.76041841506958,
          5.35023832321167,
          1.8119593858718872,
          2.0389716625213623
         ]
        },
        {
         "hovertemplate": "color=Cephalopterus<br>TSNE1=%{x}<br>TSNE2=%{y}<br>TSNE3=%{z}<extra></extra>",
         "legendgroup": "Cephalopterus",
         "marker": {
          "color": "#FF6692",
          "symbol": "circle"
         },
         "mode": "markers",
         "name": "Cephalopterus",
         "scene": "scene",
         "showlegend": true,
         "type": "scatter3d",
         "x": [
          -2.415078639984131
         ],
         "y": [
          -4.752354621887207
         ],
         "z": [
          -7.22226619720459
         ]
        },
        {
         "hovertemplate": "color=Ceratopipra<br>TSNE1=%{x}<br>TSNE2=%{y}<br>TSNE3=%{z}<extra></extra>",
         "legendgroup": "Ceratopipra",
         "marker": {
          "color": "#B6E880",
          "symbol": "circle"
         },
         "mode": "markers",
         "name": "Ceratopipra",
         "scene": "scene",
         "showlegend": true,
         "type": "scatter3d",
         "x": [
          -2.365877389907837,
          3.725939989089966,
          3.8308727741241455,
          1.3391625881195068,
          -1.662558913230896,
          -5.471561431884766
         ],
         "y": [
          2.4974875450134277,
          -3.0168416500091553,
          -3.7762045860290527,
          -6.180783748626709,
          5.95844030380249,
          -1.666641354560852
         ],
         "z": [
          8.921392440795898,
          -2.3977603912353516,
          1.4616256952285767,
          5.0650634765625,
          1.1635243892669678,
          -9.167672157287598
         ]
        },
        {
         "hovertemplate": "color=Cercomacra<br>TSNE1=%{x}<br>TSNE2=%{y}<br>TSNE3=%{z}<extra></extra>",
         "legendgroup": "Cercomacra",
         "marker": {
          "color": "#FF97FF",
          "symbol": "circle"
         },
         "mode": "markers",
         "name": "Cercomacra",
         "scene": "scene",
         "showlegend": true,
         "type": "scatter3d",
         "x": [
          -1.229840874671936,
          -1.476373314857483,
          -1.4782357215881348,
          -5.773733615875244,
          -1.4710503816604614,
          -0.38242655992507935
         ],
         "y": [
          -4.4775872230529785,
          -4.720648765563965,
          -4.13031005859375,
          2.9941165447235107,
          -4.155220031738281,
          -0.4100310504436493
         ],
         "z": [
          2.4800302982330322,
          5.818517208099365,
          7.306402683258057,
          4.2189435958862305,
          7.295459747314453,
          8.013970375061035
         ]
        },
        {
         "hovertemplate": "color=Cercomacroides<br>TSNE1=%{x}<br>TSNE2=%{y}<br>TSNE3=%{z}<extra></extra>",
         "legendgroup": "Cercomacroides",
         "marker": {
          "color": "#FECB52",
          "symbol": "circle"
         },
         "mode": "markers",
         "name": "Cercomacroides",
         "scene": "scene",
         "showlegend": true,
         "type": "scatter3d",
         "x": [
          -3.142313003540039,
          0.8769751191139221,
          -3.6628596782684326,
          -5.579999923706055,
          0.32268524169921875,
          -0.6005216836929321,
          -2.3532896041870117,
          -3.616116762161255,
          6.83113431930542
         ],
         "y": [
          0.7837350368499756,
          -5.151978015899658,
          -2.1924808025360107,
          -1.505304217338562,
          1.2947444915771484,
          -5.37607479095459,
          -3.0366079807281494,
          -0.47510966658592224,
          -2.688690423965454
         ],
         "z": [
          5.287370681762695,
          -4.421619415283203,
          -4.979745864868164,
          -9.130341529846191,
          1.1288315057754517,
          7.226193904876709,
          3.7495322227478027,
          6.204449653625488,
          3.9464094638824463
         ]
        },
        {
         "hovertemplate": "color=Certhiaxis<br>TSNE1=%{x}<br>TSNE2=%{y}<br>TSNE3=%{z}<extra></extra>",
         "legendgroup": "Certhiaxis",
         "marker": {
          "color": "#636efa",
          "symbol": "circle"
         },
         "mode": "markers",
         "name": "Certhiaxis",
         "scene": "scene",
         "showlegend": true,
         "type": "scatter3d",
         "x": [
          -0.48173558712005615,
          -4.461208343505859,
          -3.958801746368408
         ],
         "y": [
          -5.8439226150512695,
          4.977019309997559,
          8.326464653015137
         ],
         "z": [
          6.005777835845947,
          -5.232544422149658,
          -1.9839372634887695
         ]
        },
        {
         "hovertemplate": "color=Chaetocercus<br>TSNE1=%{x}<br>TSNE2=%{y}<br>TSNE3=%{z}<extra></extra>",
         "legendgroup": "Chaetocercus",
         "marker": {
          "color": "#EF553B",
          "symbol": "circle"
         },
         "mode": "markers",
         "name": "Chaetocercus",
         "scene": "scene",
         "showlegend": true,
         "type": "scatter3d",
         "x": [
          -6.886952877044678
         ],
         "y": [
          1.3073426485061646
         ],
         "z": [
          -6.380643367767334
         ]
        },
        {
         "hovertemplate": "color=Chaetura<br>TSNE1=%{x}<br>TSNE2=%{y}<br>TSNE3=%{z}<extra></extra>",
         "legendgroup": "Chaetura",
         "marker": {
          "color": "#00cc96",
          "symbol": "circle"
         },
         "mode": "markers",
         "name": "Chaetura",
         "scene": "scene",
         "showlegend": true,
         "type": "scatter3d",
         "x": [
          -2.5827267169952393,
          -6.675655364990234,
          -2.213688611984253,
          -4.570937633514404,
          -1.8294538259506226,
          -0.05587261542677879,
          -3.9440605640411377,
          -3.6607143878936768,
          -4.141067028045654,
          11.996281623840332,
          -4.817595481872559,
          5.835348129272461
         ],
         "y": [
          2.7530152797698975,
          7.861576080322266,
          -2.0985403060913086,
          7.543060779571533,
          -1.7330421209335327,
          1.0561054944992065,
          -2.00844669342041,
          -3.829246759414673,
          -1.2713912725448608,
          -2.455670118331909,
          7.3557963371276855,
          -4.462137222290039
         ],
         "z": [
          9.038193702697754,
          0.7148706912994385,
          3.4824748039245605,
          4.925477027893066,
          -2.9766125679016113,
          1.3951956033706665,
          -8.198843002319336,
          -4.96678352355957,
          -5.781750679016113,
          -3.162651777267456,
          -2.7891640663146973,
          -2.757701873779297
         ]
        },
        {
         "hovertemplate": "color=Chamaepetes<br>TSNE1=%{x}<br>TSNE2=%{y}<br>TSNE3=%{z}<extra></extra>",
         "legendgroup": "Chamaepetes",
         "marker": {
          "color": "#ab63fa",
          "symbol": "circle"
         },
         "mode": "markers",
         "name": "Chamaepetes",
         "scene": "scene",
         "showlegend": true,
         "type": "scatter3d",
         "x": [
          4.4526143074035645,
          -0.7430631518363953
         ],
         "y": [
          -0.46038949489593506,
          -3.814624071121216
         ],
         "z": [
          -0.47858768701553345,
          -3.1742444038391113
         ]
        },
        {
         "hovertemplate": "color=Chamaeza<br>TSNE1=%{x}<br>TSNE2=%{y}<br>TSNE3=%{z}<extra></extra>",
         "legendgroup": "Chamaeza",
         "marker": {
          "color": "#FFA15A",
          "symbol": "circle"
         },
         "mode": "markers",
         "name": "Chamaeza",
         "scene": "scene",
         "showlegend": true,
         "type": "scatter3d",
         "x": [
          -1.4889508485794067,
          -2.470552444458008,
          -5.365536689758301,
          -3.882124423980713
         ],
         "y": [
          -2.2392966747283936,
          1.6635828018188477,
          3.4104573726654053,
          6.955516338348389
         ],
         "z": [
          6.916599273681641,
          7.99286413192749,
          5.652243137359619,
          -2.5316901206970215
         ]
        },
        {
         "hovertemplate": "color=Charadrius<br>TSNE1=%{x}<br>TSNE2=%{y}<br>TSNE3=%{z}<extra></extra>",
         "legendgroup": "Charadrius",
         "marker": {
          "color": "#19d3f3",
          "symbol": "circle"
         },
         "mode": "markers",
         "name": "Charadrius",
         "scene": "scene",
         "showlegend": true,
         "type": "scatter3d",
         "x": [
          -3.077563762664795,
          -0.255838006734848,
          -3.7148919105529785,
          0.9862629175186157,
          2.426636219024658
         ],
         "y": [
          -0.31877273321151733,
          5.946781158447266,
          -2.361525058746338,
          -5.534073352813721,
          -5.503976821899414
         ],
         "z": [
          -4.837717533111572,
          -0.6556567549705505,
          -6.58823823928833,
          -6.9913554191589355,
          -4.748024940490723
         ]
        },
        {
         "hovertemplate": "color=Chauna<br>TSNE1=%{x}<br>TSNE2=%{y}<br>TSNE3=%{z}<extra></extra>",
         "legendgroup": "Chauna",
         "marker": {
          "color": "#FF6692",
          "symbol": "circle"
         },
         "mode": "markers",
         "name": "Chauna",
         "scene": "scene",
         "showlegend": true,
         "type": "scatter3d",
         "x": [
          -4.630272388458252,
          -3.6699295043945312
         ],
         "y": [
          4.760206699371338,
          5.391817092895508
         ],
         "z": [
          -5.911456108093262,
          6.536620616912842
         ]
        },
        {
         "hovertemplate": "color=Chelidoptera<br>TSNE1=%{x}<br>TSNE2=%{y}<br>TSNE3=%{z}<extra></extra>",
         "legendgroup": "Chelidoptera",
         "marker": {
          "color": "#B6E880",
          "symbol": "circle"
         },
         "mode": "markers",
         "name": "Chelidoptera",
         "scene": "scene",
         "showlegend": true,
         "type": "scatter3d",
         "x": [
          -5.653153419494629,
          5.4516472816467285,
          -4.742641448974609
         ],
         "y": [
          5.223664283752441,
          -4.455563545227051,
          1.0392190217971802
         ],
         "z": [
          5.086071014404297,
          -3.2947335243225098,
          -8.329154014587402
         ]
        },
        {
         "hovertemplate": "color=Chiroxiphia<br>TSNE1=%{x}<br>TSNE2=%{y}<br>TSNE3=%{z}<extra></extra>",
         "legendgroup": "Chiroxiphia",
         "marker": {
          "color": "#FF97FF",
          "symbol": "circle"
         },
         "mode": "markers",
         "name": "Chiroxiphia",
         "scene": "scene",
         "showlegend": true,
         "type": "scatter3d",
         "x": [
          0.4003468453884125,
          5.000674247741699,
          -6.888190269470215,
          12.339258193969727,
          -1.3194198608398438
         ],
         "y": [
          3.778404474258423,
          -2.6346940994262695,
          7.48168420791626,
          -2.558899402618408,
          -4.425113201141357
         ],
         "z": [
          -1.1350528001785278,
          1.3044217824935913,
          1.728887677192688,
          -3.918008327484131,
          -4.060101509094238
         ]
        },
        {
         "hovertemplate": "color=Chlorestes<br>TSNE1=%{x}<br>TSNE2=%{y}<br>TSNE3=%{z}<extra></extra>",
         "legendgroup": "Chlorestes",
         "marker": {
          "color": "#FECB52",
          "symbol": "circle"
         },
         "mode": "markers",
         "name": "Chlorestes",
         "scene": "scene",
         "showlegend": true,
         "type": "scatter3d",
         "x": [
          11.926202774047852
         ],
         "y": [
          -2.4343926906585693
         ],
         "z": [
          -3.092481851577759
         ]
        },
        {
         "hovertemplate": "color=Chloroceryle<br>TSNE1=%{x}<br>TSNE2=%{y}<br>TSNE3=%{z}<extra></extra>",
         "legendgroup": "Chloroceryle",
         "marker": {
          "color": "#636efa",
          "symbol": "circle"
         },
         "mode": "markers",
         "name": "Chloroceryle",
         "scene": "scene",
         "showlegend": true,
         "type": "scatter3d",
         "x": [
          1.816516637802124,
          -0.7924562692642212,
          -2.130099296569824,
          -3.713442325592041,
          -1.3001470565795898,
          -2.822016716003418,
          -2.734734535217285,
          -3.7642831802368164,
          6.483225345611572,
          -0.09850175678730011,
          -4.813145160675049,
          4.514900207519531,
          -0.6656018495559692,
          3.431783437728882,
          -0.7511225342750549
         ],
         "y": [
          1.2474510669708252,
          1.9088445901870728,
          2.4295644760131836,
          -1.6957751512527466,
          -4.832763195037842,
          -4.2692461013793945,
          -4.436182022094727,
          -1.8686789274215698,
          -7.8612775802612305,
          -5.827173233032227,
          8.452740669250488,
          1.6539759635925293,
          2.1574199199676514,
          -5.782305717468262,
          0.10373426973819733
         ],
         "z": [
          7.818892478942871,
          -5.535938262939453,
          -8.029706954956055,
          -7.28693151473999,
          -4.812535285949707,
          -4.606851577758789,
          -3.436659574508667,
          -7.474575042724609,
          -1.2285172939300537,
          7.2148871421813965,
          0.31979241967201233,
          6.389096736907959,
          -5.900913715362549,
          -4.720109939575195,
          -4.235206127166748
         ]
        },
        {
         "hovertemplate": "color=Chlorochrysa<br>TSNE1=%{x}<br>TSNE2=%{y}<br>TSNE3=%{z}<extra></extra>",
         "legendgroup": "Chlorochrysa",
         "marker": {
          "color": "#EF553B",
          "symbol": "circle"
         },
         "mode": "markers",
         "name": "Chlorochrysa",
         "scene": "scene",
         "showlegend": true,
         "type": "scatter3d",
         "x": [
          -4.40575647354126,
          -6.064882278442383,
          -3.7118849754333496
         ],
         "y": [
          7.525153160095215,
          3.3539462089538574,
          1.6317952871322632
         ],
         "z": [
          5.106945037841797,
          -6.672245979309082,
          0.42065826058387756
         ]
        },
        {
         "hovertemplate": "color=Chlorophanes<br>TSNE1=%{x}<br>TSNE2=%{y}<br>TSNE3=%{z}<extra></extra>",
         "legendgroup": "Chlorophanes",
         "marker": {
          "color": "#00cc96",
          "symbol": "circle"
         },
         "mode": "markers",
         "name": "Chlorophanes",
         "scene": "scene",
         "showlegend": true,
         "type": "scatter3d",
         "x": [
          -3.624216318130493,
          -2.342456579208374,
          9.279324531555176,
          -3.75400447845459
         ],
         "y": [
          8.146387100219727,
          1.28214693069458,
          -8.348560333251953,
          5.919760227203369
         ],
         "z": [
          -2.0649971961975098,
          2.962700128555298,
          -0.6256443858146667,
          -3.6727094650268555
         ]
        },
        {
         "hovertemplate": "color=Chlorophonia<br>TSNE1=%{x}<br>TSNE2=%{y}<br>TSNE3=%{z}<extra></extra>",
         "legendgroup": "Chlorophonia",
         "marker": {
          "color": "#ab63fa",
          "symbol": "circle"
         },
         "mode": "markers",
         "name": "Chlorophonia",
         "scene": "scene",
         "showlegend": true,
         "type": "scatter3d",
         "x": [
          -2.954071283340454,
          -3.475508689880371
         ],
         "y": [
          3.3388559818267822,
          4.3722405433654785
         ],
         "z": [
          5.734947204589844,
          -6.8527374267578125
         ]
        },
        {
         "hovertemplate": "color=Chloropipo<br>TSNE1=%{x}<br>TSNE2=%{y}<br>TSNE3=%{z}<extra></extra>",
         "legendgroup": "Chloropipo",
         "marker": {
          "color": "#FFA15A",
          "symbol": "circle"
         },
         "mode": "markers",
         "name": "Chloropipo",
         "scene": "scene",
         "showlegend": true,
         "type": "scatter3d",
         "x": [
          -0.4569433033466339,
          -0.8205612301826477,
          1.6346696615219116
         ],
         "y": [
          -5.320903778076172,
          -4.817295074462891,
          -6.27498722076416
         ],
         "z": [
          -6.667227745056152,
          -8.918362617492676,
          5.315779685974121
         ]
        },
        {
         "hovertemplate": "color=Chlorospingus<br>TSNE1=%{x}<br>TSNE2=%{y}<br>TSNE3=%{z}<extra></extra>",
         "legendgroup": "Chlorospingus",
         "marker": {
          "color": "#19d3f3",
          "symbol": "circle"
         },
         "mode": "markers",
         "name": "Chlorospingus",
         "scene": "scene",
         "showlegend": true,
         "type": "scatter3d",
         "x": [
          2.7477993965148926,
          3.889617681503296,
          -6.293841361999512,
          -1.1377085447311401,
          5.62047004699707,
          5.823751449584961,
          -0.0027081663720309734
         ],
         "y": [
          -3.676865816116333,
          -2.4944307804107666,
          5.061906337738037,
          -4.363025665283203,
          -0.8339241743087769,
          -0.5126724243164062,
          7.135190963745117
         ],
         "z": [
          6.3924665451049805,
          6.53001070022583,
          4.000484466552734,
          7.030179500579834,
          1.6643669605255127,
          1.8052529096603394,
          0.3299572765827179
         ]
        },
        {
         "hovertemplate": "color=Chlorostilbon<br>TSNE1=%{x}<br>TSNE2=%{y}<br>TSNE3=%{z}<extra></extra>",
         "legendgroup": "Chlorostilbon",
         "marker": {
          "color": "#FF6692",
          "symbol": "circle"
         },
         "mode": "markers",
         "name": "Chlorostilbon",
         "scene": "scene",
         "showlegend": true,
         "type": "scatter3d",
         "x": [
          3.193530321121216,
          -6.332071781158447
         ],
         "y": [
          -4.37186861038208,
          1.3545148372650146
         ],
         "z": [
          -3.7589616775512695,
          -7.21640682220459
         ]
        },
        {
         "hovertemplate": "color=Chlorothraupis<br>TSNE1=%{x}<br>TSNE2=%{y}<br>TSNE3=%{z}<extra></extra>",
         "legendgroup": "Chlorothraupis",
         "marker": {
          "color": "#B6E880",
          "symbol": "circle"
         },
         "mode": "markers",
         "name": "Chlorothraupis",
         "scene": "scene",
         "showlegend": true,
         "type": "scatter3d",
         "x": [
          -2.3234763145446777,
          -6.348489761352539,
          5.990525245666504
         ],
         "y": [
          3.9848406314849854,
          8.393424987792969,
          -5.315471649169922
         ],
         "z": [
          -7.232017993927002,
          -1.4086275100708008,
          -2.469514846801758
         ]
        },
        {
         "hovertemplate": "color=Chondrohierax<br>TSNE1=%{x}<br>TSNE2=%{y}<br>TSNE3=%{z}<extra></extra>",
         "legendgroup": "Chondrohierax",
         "marker": {
          "color": "#FF97FF",
          "symbol": "circle"
         },
         "mode": "markers",
         "name": "Chondrohierax",
         "scene": "scene",
         "showlegend": true,
         "type": "scatter3d",
         "x": [
          7.130694389343262,
          -3.2901830673217773,
          4.108215808868408
         ],
         "y": [
          -2.1005094051361084,
          4.555210113525391,
          -8.441452026367188
         ],
         "z": [
          3.4968388080596924,
          -6.448200702667236,
          -3.08447265625
         ]
        },
        {
         "hovertemplate": "color=Chordeiles<br>TSNE1=%{x}<br>TSNE2=%{y}<br>TSNE3=%{z}<extra></extra>",
         "legendgroup": "Chordeiles",
         "marker": {
          "color": "#FECB52",
          "symbol": "circle"
         },
         "mode": "markers",
         "name": "Chordeiles",
         "scene": "scene",
         "showlegend": true,
         "type": "scatter3d",
         "x": [
          -4.958828926086426,
          -4.586977005004883,
          4.283166885375977,
          4.421884059906006,
          5.264021873474121,
          6.562309265136719
         ],
         "y": [
          8.436997413635254,
          8.511585235595703,
          -8.442337036132812,
          1.5561320781707764,
          1.2576589584350586,
          -7.316090106964111
         ],
         "z": [
          -1.8076874017715454,
          -1.6252555847167969,
          -2.808138370513916,
          6.474801540374756,
          5.816938877105713,
          -1.2595144510269165
         ]
        },
        {
         "hovertemplate": "color=Chroicocephalus<br>TSNE1=%{x}<br>TSNE2=%{y}<br>TSNE3=%{z}<extra></extra>",
         "legendgroup": "Chroicocephalus",
         "marker": {
          "color": "#636efa",
          "symbol": "circle"
         },
         "mode": "markers",
         "name": "Chroicocephalus",
         "scene": "scene",
         "showlegend": true,
         "type": "scatter3d",
         "x": [
          -7.122656345367432,
          -3.0501067638397217,
          -3.608797073364258
         ],
         "y": [
          8.018701553344727,
          -2.869717836380005,
          7.234163284301758
         ],
         "z": [
          0.1296999156475067,
          4.58541202545166,
          -2.5147814750671387
         ]
        },
        {
         "hovertemplate": "color=Chrysuronia<br>TSNE1=%{x}<br>TSNE2=%{y}<br>TSNE3=%{z}<extra></extra>",
         "legendgroup": "Chrysuronia",
         "marker": {
          "color": "#EF553B",
          "symbol": "circle"
         },
         "mode": "markers",
         "name": "Chrysuronia",
         "scene": "scene",
         "showlegend": true,
         "type": "scatter3d",
         "x": [
          6.893086910247803,
          -4.359490394592285
         ],
         "y": [
          0.8710629940032959,
          7.319528579711914
         ],
         "z": [
          2.3734707832336426,
          5.279674530029297
         ]
        },
        {
         "hovertemplate": "color=Ciconia<br>TSNE1=%{x}<br>TSNE2=%{y}<br>TSNE3=%{z}<extra></extra>",
         "legendgroup": "Ciconia",
         "marker": {
          "color": "#00cc96",
          "symbol": "circle"
         },
         "mode": "markers",
         "name": "Ciconia",
         "scene": "scene",
         "showlegend": true,
         "type": "scatter3d",
         "x": [
          -3.160238742828369
         ],
         "y": [
          -1.2796902656555176
         ],
         "z": [
          -4.931312084197998
         ]
        },
        {
         "hovertemplate": "color=Cinclodes<br>TSNE1=%{x}<br>TSNE2=%{y}<br>TSNE3=%{z}<extra></extra>",
         "legendgroup": "Cinclodes",
         "marker": {
          "color": "#ab63fa",
          "symbol": "circle"
         },
         "mode": "markers",
         "name": "Cinclodes",
         "scene": "scene",
         "showlegend": true,
         "type": "scatter3d",
         "x": [
          0.22338970005512238,
          -0.1902155876159668
         ],
         "y": [
          3.6759941577911377,
          -3.508023262023926
         ],
         "z": [
          7.873266696929932,
          -2.7628369331359863
         ]
        },
        {
         "hovertemplate": "color=Cinnycerthia<br>TSNE1=%{x}<br>TSNE2=%{y}<br>TSNE3=%{z}<extra></extra>",
         "legendgroup": "Cinnycerthia",
         "marker": {
          "color": "#FFA15A",
          "symbol": "circle"
         },
         "mode": "markers",
         "name": "Cinnycerthia",
         "scene": "scene",
         "showlegend": true,
         "type": "scatter3d",
         "x": [
          -2.6241631507873535,
          -2.638259172439575,
          -3.659252405166626
         ],
         "y": [
          0.9528109431266785,
          1.3255194425582886,
          2.0631027221679688
         ],
         "z": [
          4.41920280456543,
          4.468086242675781,
          1.444536805152893
         ]
        },
        {
         "hovertemplate": "color=Circus<br>TSNE1=%{x}<br>TSNE2=%{y}<br>TSNE3=%{z}<extra></extra>",
         "legendgroup": "Circus",
         "marker": {
          "color": "#19d3f3",
          "symbol": "circle"
         },
         "mode": "markers",
         "name": "Circus",
         "scene": "scene",
         "showlegend": true,
         "type": "scatter3d",
         "x": [
          -5.272130966186523,
          8.745134353637695
         ],
         "y": [
          5.914920330047607,
          0.18910951912403107
         ],
         "z": [
          5.258878707885742,
          -1.096623420715332
         ]
        },
        {
         "hovertemplate": "color=Cissopis<br>TSNE1=%{x}<br>TSNE2=%{y}<br>TSNE3=%{z}<extra></extra>",
         "legendgroup": "Cissopis",
         "marker": {
          "color": "#FF6692",
          "symbol": "circle"
         },
         "mode": "markers",
         "name": "Cissopis",
         "scene": "scene",
         "showlegend": true,
         "type": "scatter3d",
         "x": [
          8.808821678161621,
          -3.0343921184539795,
          0.41016387939453125
         ],
         "y": [
          -8.157546997070312,
          1.8273954391479492,
          4.271565914154053
         ],
         "z": [
          -0.7241093516349792,
          2.6917049884796143,
          7.582137107849121
         ]
        },
        {
         "hovertemplate": "color=Claravis<br>TSNE1=%{x}<br>TSNE2=%{y}<br>TSNE3=%{z}<extra></extra>",
         "legendgroup": "Claravis",
         "marker": {
          "color": "#B6E880",
          "symbol": "circle"
         },
         "mode": "markers",
         "name": "Claravis",
         "scene": "scene",
         "showlegend": true,
         "type": "scatter3d",
         "x": [
          -2.3999876976013184
         ],
         "y": [
          5.777892112731934
         ],
         "z": [
          -3.540578603744507
         ]
        },
        {
         "hovertemplate": "color=Clibanornis<br>TSNE1=%{x}<br>TSNE2=%{y}<br>TSNE3=%{z}<extra></extra>",
         "legendgroup": "Clibanornis",
         "marker": {
          "color": "#FF97FF",
          "symbol": "circle"
         },
         "mode": "markers",
         "name": "Clibanornis",
         "scene": "scene",
         "showlegend": true,
         "type": "scatter3d",
         "x": [
          9.751924514770508,
          -3.6376564502716064,
          -2.286553144454956,
          2.27579402923584
         ],
         "y": [
          -1.3285857439041138,
          4.768895626068115,
          -2.3435683250427246,
          -5.146790981292725
         ],
         "z": [
          -1.9207886457443237,
          -6.469930171966553,
          -3.1042652130126953,
          5.57436466217041
         ]
        },
        {
         "hovertemplate": "color=Cnemotriccus<br>TSNE1=%{x}<br>TSNE2=%{y}<br>TSNE3=%{z}<extra></extra>",
         "legendgroup": "Cnemotriccus",
         "marker": {
          "color": "#FECB52",
          "symbol": "circle"
         },
         "mode": "markers",
         "name": "Cnemotriccus",
         "scene": "scene",
         "showlegend": true,
         "type": "scatter3d",
         "x": [
          -4.481160640716553,
          -0.1207420751452446
         ],
         "y": [
          3.899264097213745,
          -5.129673004150391
         ],
         "z": [
          1.096038818359375,
          8.042155265808105
         ]
        },
        {
         "hovertemplate": "color=Cnipodectes<br>TSNE1=%{x}<br>TSNE2=%{y}<br>TSNE3=%{z}<extra></extra>",
         "legendgroup": "Cnipodectes",
         "marker": {
          "color": "#636efa",
          "symbol": "circle"
         },
         "mode": "markers",
         "name": "Cnipodectes",
         "scene": "scene",
         "showlegend": true,
         "type": "scatter3d",
         "x": [
          4.960388660430908,
          10.286273956298828,
          -3.954320192337036,
          5.043105602264404
         ],
         "y": [
          -3.7532145977020264,
          -1.7142375707626343,
          4.059530258178711,
          -0.9621452689170837
         ],
         "z": [
          5.425774097442627,
          -2.1034154891967773,
          -3.2092747688293457,
          1.0832107067108154
         ]
        },
        {
         "hovertemplate": "color=Coccycua<br>TSNE1=%{x}<br>TSNE2=%{y}<br>TSNE3=%{z}<extra></extra>",
         "legendgroup": "Coccycua",
         "marker": {
          "color": "#EF553B",
          "symbol": "circle"
         },
         "mode": "markers",
         "name": "Coccycua",
         "scene": "scene",
         "showlegend": true,
         "type": "scatter3d",
         "x": [
          -0.8103049993515015,
          -0.03498542681336403,
          1.468511939048767,
          2.6291661262512207
         ],
         "y": [
          -5.102766036987305,
          -4.684414863586426,
          -5.06935453414917,
          -5.075724124908447
         ],
         "z": [
          -5.649056911468506,
          2.266573905944824,
          -3.8111319541931152,
          4.7840704917907715
         ]
        },
        {
         "hovertemplate": "color=Coccyzus<br>TSNE1=%{x}<br>TSNE2=%{y}<br>TSNE3=%{z}<extra></extra>",
         "legendgroup": "Coccyzus",
         "marker": {
          "color": "#00cc96",
          "symbol": "circle"
         },
         "mode": "markers",
         "name": "Coccyzus",
         "scene": "scene",
         "showlegend": true,
         "type": "scatter3d",
         "x": [
          9.896556854248047,
          -3.1051852703094482,
          -0.856826901435852,
          4.756821632385254,
          -1.7792013883590698,
          -4.709073066711426,
          -3.9872939586639404
         ],
         "y": [
          -8.688846588134766,
          -3.9970130920410156,
          -5.040985584259033,
          -0.9153843522071838,
          -2.230252504348755,
          8.360727310180664,
          8.082201957702637
         ],
         "z": [
          -0.47922682762145996,
          -8.401700973510742,
          -5.5346245765686035,
          0.7413297891616821,
          6.669817924499512,
          0.44283661246299744,
          -2.1993160247802734
         ]
        },
        {
         "hovertemplate": "color=Cochlearius<br>TSNE1=%{x}<br>TSNE2=%{y}<br>TSNE3=%{z}<extra></extra>",
         "legendgroup": "Cochlearius",
         "marker": {
          "color": "#ab63fa",
          "symbol": "circle"
         },
         "mode": "markers",
         "name": "Cochlearius",
         "scene": "scene",
         "showlegend": true,
         "type": "scatter3d",
         "x": [
          1.877234935760498,
          -7.022202491760254,
          -0.8500844836235046
         ],
         "y": [
          -3.454139232635498,
          3.814284563064575,
          3.234342098236084
         ],
         "z": [
          -2.100069522857666,
          -4.469489574432373,
          8.292141914367676
         ]
        },
        {
         "hovertemplate": "color=Coeligena<br>TSNE1=%{x}<br>TSNE2=%{y}<br>TSNE3=%{z}<extra></extra>",
         "legendgroup": "Coeligena",
         "marker": {
          "color": "#FFA15A",
          "symbol": "circle"
         },
         "mode": "markers",
         "name": "Coeligena",
         "scene": "scene",
         "showlegend": true,
         "type": "scatter3d",
         "x": [
          -0.5930061340332031,
          -3.546491861343384,
          1.5463095903396606,
          -3.7717292308807373,
          7.535645484924316
         ],
         "y": [
          -5.7013163566589355,
          2.363121271133423,
          -4.56131649017334,
          6.714422225952148,
          -7.068920135498047
         ],
         "z": [
          6.47617244720459,
          5.8904852867126465,
          -2.8379805088043213,
          -3.0817062854766846,
          -1.0251234769821167
         ]
        },
        {
         "hovertemplate": "color=Coereba<br>TSNE1=%{x}<br>TSNE2=%{y}<br>TSNE3=%{z}<extra></extra>",
         "legendgroup": "Coereba",
         "marker": {
          "color": "#19d3f3",
          "symbol": "circle"
         },
         "mode": "markers",
         "name": "Coereba",
         "scene": "scene",
         "showlegend": true,
         "type": "scatter3d",
         "x": [
          -2.63966703414917,
          -3.8473708629608154,
          -2.7510316371917725
         ],
         "y": [
          1.806242823600769,
          8.502287864685059,
          8.459452629089355
         ],
         "z": [
          4.248261451721191,
          -1.1818660497665405,
          0.36991626024246216
         ]
        },
        {
         "hovertemplate": "color=Colaptes<br>TSNE1=%{x}<br>TSNE2=%{y}<br>TSNE3=%{z}<extra></extra>",
         "legendgroup": "Colaptes",
         "marker": {
          "color": "#FF6692",
          "symbol": "circle"
         },
         "mode": "markers",
         "name": "Colaptes",
         "scene": "scene",
         "showlegend": true,
         "type": "scatter3d",
         "x": [
          4.400869846343994,
          5.146584510803223,
          9.838464736938477,
          -2.525620937347412,
          3.0836703777313232,
          -2.515190362930298,
          -0.2210000455379486,
          -0.06530426442623138,
          1.2921310663223267,
          3.0189712047576904,
          3.4629950523376465,
          9.3805513381958,
          3.2395966053009033,
          -0.602715790271759,
          -3.8116376399993896,
          -0.339134156703949
         ],
         "y": [
          -8.420539855957031,
          -3.9165616035461426,
          -8.65434741973877,
          -0.9132215976715088,
          -7.214202880859375,
          -0.17404629290103912,
          -0.1858619898557663,
          3.5063681602478027,
          -5.69317626953125,
          -6.2008748054504395,
          -7.900742053985596,
          -0.1361493021249771,
          -7.426262378692627,
          -3.8721659183502197,
          -2.6346075534820557,
          -4.712449073791504
         ],
         "z": [
          -2.655993938446045,
          -3.221970796585083,
          -0.4940451383590698,
          -3.8232479095458984,
          -5.451172828674316,
          -5.340369701385498,
          1.745496392250061,
          -2.452808141708374,
          -7.61035680770874,
          -5.0884552001953125,
          -4.620857238769531,
          -0.757157564163208,
          -5.16051721572876,
          -3.1400883197784424,
          -7.597651481628418,
          -4.227488994598389
         ]
        },
        {
         "hovertemplate": "color=Colibri<br>TSNE1=%{x}<br>TSNE2=%{y}<br>TSNE3=%{z}<extra></extra>",
         "legendgroup": "Colibri",
         "marker": {
          "color": "#B6E880",
          "symbol": "circle"
         },
         "mode": "markers",
         "name": "Colibri",
         "scene": "scene",
         "showlegend": true,
         "type": "scatter3d",
         "x": [
          -2.4631850719451904,
          4.4662766456604,
          -1.8795181512832642,
          0.7335286736488342,
          -1.7266982793807983,
          10.899919509887695
         ],
         "y": [
          2.3158650398254395,
          -4.568226337432861,
          2.372056245803833,
          -4.789155006408691,
          -2.136669158935547,
          -2.1599018573760986
         ],
         "z": [
          -8.240547180175781,
          2.8995399475097656,
          -7.851315975189209,
          -3.4658241271972656,
          6.888393878936768,
          -2.7639553546905518
         ]
        },
        {
         "hovertemplate": "color=Colonia<br>TSNE1=%{x}<br>TSNE2=%{y}<br>TSNE3=%{z}<extra></extra>",
         "legendgroup": "Colonia",
         "marker": {
          "color": "#FF97FF",
          "symbol": "circle"
         },
         "mode": "markers",
         "name": "Colonia",
         "scene": "scene",
         "showlegend": true,
         "type": "scatter3d",
         "x": [
          4.885908126831055,
          -1.8494913578033447
         ],
         "y": [
          -8.2239408493042,
          0.9358814358711243
         ],
         "z": [
          -2.163588762283325,
          2.041882038116455
         ]
        },
        {
         "hovertemplate": "color=Columba<br>TSNE1=%{x}<br>TSNE2=%{y}<br>TSNE3=%{z}<extra></extra>",
         "legendgroup": "Columba",
         "marker": {
          "color": "#FECB52",
          "symbol": "circle"
         },
         "mode": "markers",
         "name": "Columba",
         "scene": "scene",
         "showlegend": true,
         "type": "scatter3d",
         "x": [
          -4.453061103820801,
          -5.349849700927734
         ],
         "y": [
          8.4727783203125,
          8.464127540588379
         ],
         "z": [
          -1.8336131572723389,
          0.10522224009037018
         ]
        },
        {
         "hovertemplate": "color=Columbina<br>TSNE1=%{x}<br>TSNE2=%{y}<br>TSNE3=%{z}<extra></extra>",
         "legendgroup": "Columbina",
         "marker": {
          "color": "#636efa",
          "symbol": "circle"
         },
         "mode": "markers",
         "name": "Columbina",
         "scene": "scene",
         "showlegend": true,
         "type": "scatter3d",
         "x": [
          2.9581472873687744,
          6.277162075042725,
          -5.763568878173828
         ],
         "y": [
          -5.015419960021973,
          -5.708077907562256,
          2.8429863452911377
         ],
         "z": [
          5.1714606285095215,
          -1.8898515701293945,
          -7.219884872436523
         ]
        },
        {
         "hovertemplate": "color=Conioptilon<br>TSNE1=%{x}<br>TSNE2=%{y}<br>TSNE3=%{z}<extra></extra>",
         "legendgroup": "Conioptilon",
         "marker": {
          "color": "#EF553B",
          "symbol": "circle"
         },
         "mode": "markers",
         "name": "Conioptilon",
         "scene": "scene",
         "showlegend": true,
         "type": "scatter3d",
         "x": [
          -6.979917049407959,
          -4.798704624176025
         ],
         "y": [
          8.288558959960938,
          6.040302276611328
         ],
         "z": [
          -0.7216153740882874,
          -1.6779963970184326
         ]
        },
        {
         "hovertemplate": "color=Conirostrum<br>TSNE1=%{x}<br>TSNE2=%{y}<br>TSNE3=%{z}<extra></extra>",
         "legendgroup": "Conirostrum",
         "marker": {
          "color": "#00cc96",
          "symbol": "circle"
         },
         "mode": "markers",
         "name": "Conirostrum",
         "scene": "scene",
         "showlegend": true,
         "type": "scatter3d",
         "x": [
          -2.2752749919891357,
          -2.8575854301452637,
          -1.2147608995437622,
          -4.581827163696289,
          -4.217957496643066,
          -1.9612246751785278,
          -2.5020899772644043
         ],
         "y": [
          -0.9140416979789734,
          9.073278427124023,
          0.16712535917758942,
          7.7091264724731445,
          1.6457654237747192,
          7.069142818450928,
          -3.904355525970459
         ],
         "z": [
          -5.366805076599121,
          0.04922656714916229,
          -3.9540767669677734,
          4.787956714630127,
          5.469874858856201,
          0.675740122795105,
          6.190403461456299
         ]
        },
        {
         "hovertemplate": "color=Conopias<br>TSNE1=%{x}<br>TSNE2=%{y}<br>TSNE3=%{z}<extra></extra>",
         "legendgroup": "Conopias",
         "marker": {
          "color": "#ab63fa",
          "symbol": "circle"
         },
         "mode": "markers",
         "name": "Conopias",
         "scene": "scene",
         "showlegend": true,
         "type": "scatter3d",
         "x": [
          0.3719709515571594,
          -2.620364189147949,
          -2.7530477046966553,
          -1.7618489265441895,
          -3.51347017288208
         ],
         "y": [
          -2.6076998710632324,
          -0.02305774949491024,
          -0.33924606442451477,
          4.039037704467773,
          8.256656646728516
         ],
         "z": [
          -2.4920830726623535,
          -6.937646865844727,
          -6.428587913513184,
          -5.630665302276611,
          0.3989122807979584
         ]
        },
        {
         "hovertemplate": "color=Conopophaga<br>TSNE1=%{x}<br>TSNE2=%{y}<br>TSNE3=%{z}<extra></extra>",
         "legendgroup": "Conopophaga",
         "marker": {
          "color": "#FFA15A",
          "symbol": "circle"
         },
         "mode": "markers",
         "name": "Conopophaga",
         "scene": "scene",
         "showlegend": true,
         "type": "scatter3d",
         "x": [
          -0.016974754631519318,
          -1.9895344972610474,
          -3.2273619174957275,
          1.0041494369506836,
          -3.1073355674743652
         ],
         "y": [
          5.566652774810791,
          0.28544777631759644,
          6.462037086486816,
          -5.357053756713867,
          1.639887809753418
         ],
         "z": [
          0.13887394964694977,
          -6.20558500289917,
          1.3676800727844238,
          2.590205192565918,
          5.52059268951416
         ]
        },
        {
         "hovertemplate": "color=Conothraupis<br>TSNE1=%{x}<br>TSNE2=%{y}<br>TSNE3=%{z}<extra></extra>",
         "legendgroup": "Conothraupis",
         "marker": {
          "color": "#19d3f3",
          "symbol": "circle"
         },
         "mode": "markers",
         "name": "Conothraupis",
         "scene": "scene",
         "showlegend": true,
         "type": "scatter3d",
         "x": [
          -5.46571159362793,
          6.086560249328613
         ],
         "y": [
          2.8068888187408447,
          -2.6469414234161377
         ],
         "z": [
          -7.492736339569092,
          2.578718423843384
         ]
        },
        {
         "hovertemplate": "color=Contopus<br>TSNE1=%{x}<br>TSNE2=%{y}<br>TSNE3=%{z}<extra></extra>",
         "legendgroup": "Contopus",
         "marker": {
          "color": "#FF6692",
          "symbol": "circle"
         },
         "mode": "markers",
         "name": "Contopus",
         "scene": "scene",
         "showlegend": true,
         "type": "scatter3d",
         "x": [
          -3.5544567108154297,
          -4.214306354522705,
          -2.6233482360839844,
          -6.870567798614502,
          8.451465606689453,
          -1.4512180089950562,
          -5.838028430938721,
          -4.116015434265137,
          -2.4836201667785645,
          -5.5238728523254395,
          6.46541690826416
         ],
         "y": [
          5.474928379058838,
          4.908365249633789,
          -0.9571670889854431,
          7.883735179901123,
          -0.6091099381446838,
          -4.679155349731445,
          3.297051429748535,
          2.210635185241699,
          2.510024309158325,
          5.782197952270508,
          1.0925407409667969
         ],
         "z": [
          6.5644402503967285,
          -5.060786724090576,
          2.6572365760803223,
          0.9718837141990662,
          -2.2370975017547607,
          -4.490651607513428,
          2.7226688861846924,
          1.2407151460647583,
          -8.215580940246582,
          -3.6985509395599365,
          -0.9371876120567322
         ]
        },
        {
         "hovertemplate": "color=Coragyps<br>TSNE1=%{x}<br>TSNE2=%{y}<br>TSNE3=%{z}<extra></extra>",
         "legendgroup": "Coragyps",
         "marker": {
          "color": "#B6E880",
          "symbol": "circle"
         },
         "mode": "markers",
         "name": "Coragyps",
         "scene": "scene",
         "showlegend": true,
         "type": "scatter3d",
         "x": [
          -3.6120638847351074
         ],
         "y": [
          -2.2176458835601807
         ],
         "z": [
          -4.706663608551025
         ]
        },
        {
         "hovertemplate": "color=Coryphaspiza<br>TSNE1=%{x}<br>TSNE2=%{y}<br>TSNE3=%{z}<extra></extra>",
         "legendgroup": "Coryphaspiza",
         "marker": {
          "color": "#FF97FF",
          "symbol": "circle"
         },
         "mode": "markers",
         "name": "Coryphaspiza",
         "scene": "scene",
         "showlegend": true,
         "type": "scatter3d",
         "x": [
          -6.86166524887085
         ],
         "y": [
          8.28576946258545
         ],
         "z": [
          -0.517876386642456
         ]
        },
        {
         "hovertemplate": "color=Corythopis<br>TSNE1=%{x}<br>TSNE2=%{y}<br>TSNE3=%{z}<extra></extra>",
         "legendgroup": "Corythopis",
         "marker": {
          "color": "#FECB52",
          "symbol": "circle"
         },
         "mode": "markers",
         "name": "Corythopis",
         "scene": "scene",
         "showlegend": true,
         "type": "scatter3d",
         "x": [
          8.306741714477539
         ],
         "y": [
          -0.2851947844028473
         ],
         "z": [
          -2.1322243213653564
         ]
        },
        {
         "hovertemplate": "color=Cotinga<br>TSNE1=%{x}<br>TSNE2=%{y}<br>TSNE3=%{z}<extra></extra>",
         "legendgroup": "Cotinga",
         "marker": {
          "color": "#636efa",
          "symbol": "circle"
         },
         "mode": "markers",
         "name": "Cotinga",
         "scene": "scene",
         "showlegend": true,
         "type": "scatter3d",
         "x": [
          1.4803380966186523,
          -3.760693311691284,
          -3.406099557876587
         ],
         "y": [
          -5.855156421661377,
          -1.8458610773086548,
          -3.950281858444214
         ],
         "z": [
          -8.009716033935547,
          -7.474689483642578,
          -7.556456565856934
         ]
        },
        {
         "hovertemplate": "color=Cranioleuca<br>TSNE1=%{x}<br>TSNE2=%{y}<br>TSNE3=%{z}<extra></extra>",
         "legendgroup": "Cranioleuca",
         "marker": {
          "color": "#EF553B",
          "symbol": "circle"
         },
         "mode": "markers",
         "name": "Cranioleuca",
         "scene": "scene",
         "showlegend": true,
         "type": "scatter3d",
         "x": [
          5.840926170349121,
          -6.289412975311279,
          5.892012596130371,
          -1.6203519105911255,
          1.0277444124221802,
          -3.091338634490967,
          -2.9931998252868652,
          5.795591354370117,
          7.196584701538086,
          -3.1977994441986084
         ],
         "y": [
          -0.10170561820268631,
          4.872786045074463,
          -3.617610216140747,
          6.560730457305908,
          -5.982259750366211,
          -3.03230357170105,
          8.296941757202148,
          -3.3025753498077393,
          -2.255802869796753,
          -3.6304407119750977
         ],
         "z": [
          5.553345203399658,
          4.254749298095703,
          4.599603652954102,
          0.8754649758338928,
          5.077960968017578,
          4.952300071716309,
          0.48049983382225037,
          1.9802101850509644,
          3.346562385559082,
          -4.036918640136719
         ]
        },
        {
         "hovertemplate": "color=Crax<br>TSNE1=%{x}<br>TSNE2=%{y}<br>TSNE3=%{z}<extra></extra>",
         "legendgroup": "Crax",
         "marker": {
          "color": "#00cc96",
          "symbol": "circle"
         },
         "mode": "markers",
         "name": "Crax",
         "scene": "scene",
         "showlegend": true,
         "type": "scatter3d",
         "x": [
          -5.980252742767334
         ],
         "y": [
          4.1983771324157715
         ],
         "z": [
          2.7680585384368896
         ]
        },
        {
         "hovertemplate": "color=Creurgops<br>TSNE1=%{x}<br>TSNE2=%{y}<br>TSNE3=%{z}<extra></extra>",
         "legendgroup": "Creurgops",
         "marker": {
          "color": "#ab63fa",
          "symbol": "circle"
         },
         "mode": "markers",
         "name": "Creurgops",
         "scene": "scene",
         "showlegend": true,
         "type": "scatter3d",
         "x": [
          -3.0558698177337646
         ],
         "y": [
          4.181837558746338
         ],
         "z": [
          -7.036305904388428
         ]
        },
        {
         "hovertemplate": "color=Crotophaga<br>TSNE1=%{x}<br>TSNE2=%{y}<br>TSNE3=%{z}<extra></extra>",
         "legendgroup": "Crotophaga",
         "marker": {
          "color": "#FFA15A",
          "symbol": "circle"
         },
         "mode": "markers",
         "name": "Crotophaga",
         "scene": "scene",
         "showlegend": true,
         "type": "scatter3d",
         "x": [
          6.103052616119385,
          -5.738677501678467,
          3.6892762184143066
         ],
         "y": [
          -1.9260647296905518,
          2.8323256969451904,
          -4.0360493659973145
         ],
         "z": [
          2.194714307785034,
          4.82448673248291,
          -3.624175786972046
         ]
        },
        {
         "hovertemplate": "color=Cryptopipo<br>TSNE1=%{x}<br>TSNE2=%{y}<br>TSNE3=%{z}<extra></extra>",
         "legendgroup": "Cryptopipo",
         "marker": {
          "color": "#19d3f3",
          "symbol": "circle"
         },
         "mode": "markers",
         "name": "Cryptopipo",
         "scene": "scene",
         "showlegend": true,
         "type": "scatter3d",
         "x": [
          3.011446714401245
         ],
         "y": [
          -2.1095662117004395
         ],
         "z": [
          7.068484306335449
         ]
        },
        {
         "hovertemplate": "color=Crypturellus<br>TSNE1=%{x}<br>TSNE2=%{y}<br>TSNE3=%{z}<extra></extra>",
         "legendgroup": "Crypturellus",
         "marker": {
          "color": "#FF6692",
          "symbol": "circle"
         },
         "mode": "markers",
         "name": "Crypturellus",
         "scene": "scene",
         "showlegend": true,
         "type": "scatter3d",
         "x": [
          7.336830139160156,
          -0.22404666244983673,
          10.94151782989502,
          -3.468295097351074,
          -4.864321708679199,
          3.7036852836608887,
          6.768836498260498,
          -2.4388084411621094,
          3.419454574584961,
          -5.8898444175720215,
          -0.0034895301796495914,
          -0.06773197650909424,
          8.847533226013184,
          4.073265075683594,
          5.9674882888793945,
          7.787708282470703,
          5.022301197052002,
          -5.440021991729736
         ],
         "y": [
          0.8931428790092468,
          5.5099287033081055,
          -2.073706865310669,
          -3.137755870819092,
          6.374661922454834,
          -2.5661895275115967,
          1.164057970046997,
          4.455680847167969,
          0.9674333930015564,
          3.138878107070923,
          -0.4819541275501251,
          -4.393060684204102,
          0.6164519190788269,
          -0.5885362029075623,
          -0.9705227017402649,
          -7.980430603027344,
          -4.49622917175293,
          -1.7330979108810425
         ],
         "z": [
          -1.1845382452011108,
          -0.3483656346797943,
          -2.3866288661956787,
          -3.8976595401763916,
          -1.4227676391601562,
          6.66534948348999,
          -0.8387922048568726,
          -5.137986183166504,
          7.2154154777526855,
          -6.895554065704346,
          7.988833427429199,
          8.426656723022461,
          0.03312448412179947,
          7.925666332244873,
          1.984178900718689,
          -0.9214553833007812,
          4.146312713623047,
          -9.176474571228027
         ]
        },
        {
         "hovertemplate": "color=Cyanerpes<br>TSNE1=%{x}<br>TSNE2=%{y}<br>TSNE3=%{z}<extra></extra>",
         "legendgroup": "Cyanerpes",
         "marker": {
          "color": "#B6E880",
          "symbol": "circle"
         },
         "mode": "markers",
         "name": "Cyanerpes",
         "scene": "scene",
         "showlegend": true,
         "type": "scatter3d",
         "x": [
          -0.8021682500839233,
          -4.754354953765869,
          -6.089987754821777,
          -5.0453314781188965
         ],
         "y": [
          -5.452821254730225,
          6.166779041290283,
          5.020832061767578,
          4.994974136352539
         ],
         "z": [
          7.287173271179199,
          -1.632554054260254,
          4.5232439041137695,
          1.7599424123764038
         ]
        },
        {
         "hovertemplate": "color=Cyanocorax<br>TSNE1=%{x}<br>TSNE2=%{y}<br>TSNE3=%{z}<extra></extra>",
         "legendgroup": "Cyanocorax",
         "marker": {
          "color": "#FF97FF",
          "symbol": "circle"
         },
         "mode": "markers",
         "name": "Cyanocorax",
         "scene": "scene",
         "showlegend": true,
         "type": "scatter3d",
         "x": [
          6.608285427093506,
          -7.186306476593018,
          -6.288724899291992,
          -0.8939690589904785,
          8.340792655944824,
          1.3071250915527344,
          -2.0456769466400146,
          -4.33065938949585
         ],
         "y": [
          -2.1676254272460938,
          8.1114501953125,
          6.313695907592773,
          -2.1381168365478516,
          0.10532271862030029,
          4.255876541137695,
          -0.24406330287456512,
          4.580082893371582
         ],
         "z": [
          4.545683860778809,
          0.47955310344696045,
          2.5840516090393066,
          2.5292630195617676,
          -1.8150309324264526,
          -0.3588201403617859,
          8.061415672302246,
          -6.395264625549316
         ]
        },
        {
         "hovertemplate": "color=Cyanolyca<br>TSNE1=%{x}<br>TSNE2=%{y}<br>TSNE3=%{z}<extra></extra>",
         "legendgroup": "Cyanolyca",
         "marker": {
          "color": "#FECB52",
          "symbol": "circle"
         },
         "mode": "markers",
         "name": "Cyanolyca",
         "scene": "scene",
         "showlegend": true,
         "type": "scatter3d",
         "x": [
          -5.205758094787598
         ],
         "y": [
          3.205474376678467
         ],
         "z": [
          -7.514664173126221
         ]
        },
        {
         "hovertemplate": "color=Cyclarhis<br>TSNE1=%{x}<br>TSNE2=%{y}<br>TSNE3=%{z}<extra></extra>",
         "legendgroup": "Cyclarhis",
         "marker": {
          "color": "#636efa",
          "symbol": "circle"
         },
         "mode": "markers",
         "name": "Cyclarhis",
         "scene": "scene",
         "showlegend": true,
         "type": "scatter3d",
         "x": [
          -5.141443252563477,
          5.0050153732299805,
          4.282719612121582
         ],
         "y": [
          4.535399436950684,
          -3.1499135494232178,
          -1.8721929788589478
         ],
         "z": [
          1.6625914573669434,
          5.802068710327148,
          6.5808892250061035
         ]
        },
        {
         "hovertemplate": "color=Cymbilaimus<br>TSNE1=%{x}<br>TSNE2=%{y}<br>TSNE3=%{z}<extra></extra>",
         "legendgroup": "Cymbilaimus",
         "marker": {
          "color": "#EF553B",
          "symbol": "circle"
         },
         "mode": "markers",
         "name": "Cymbilaimus",
         "scene": "scene",
         "showlegend": true,
         "type": "scatter3d",
         "x": [
          -1.9738668203353882,
          -3.7833352088928223,
          -2.7441632747650146,
          5.18909215927124,
          1.2965383529663086,
          4.6929731369018555,
          3.6750776767730713,
          -2.358224630355835
         ],
         "y": [
          1.4833639860153198,
          -3.4475462436676025,
          -1.099975347518921,
          -0.027740810066461563,
          -5.973133087158203,
          -0.5082086324691772,
          -1.6325174570083618,
          1.7415906190872192
         ],
         "z": [
          -7.710862159729004,
          -6.544572830200195,
          3.145336627960205,
          0.7849754095077515,
          6.313744068145752,
          0.3263796865940094,
          7.3059868812561035,
          8.110943794250488
         ]
        },
        {
         "hovertemplate": "color=Cyphorhinus<br>TSNE1=%{x}<br>TSNE2=%{y}<br>TSNE3=%{z}<extra></extra>",
         "legendgroup": "Cyphorhinus",
         "marker": {
          "color": "#00cc96",
          "symbol": "circle"
         },
         "mode": "markers",
         "name": "Cyphorhinus",
         "scene": "scene",
         "showlegend": true,
         "type": "scatter3d",
         "x": [
          -1.342330813407898
         ],
         "y": [
          -3.96905779838562
         ],
         "z": [
          7.189871788024902
         ]
        },
        {
         "hovertemplate": "color=Cypseloides<br>TSNE1=%{x}<br>TSNE2=%{y}<br>TSNE3=%{z}<extra></extra>",
         "legendgroup": "Cypseloides",
         "marker": {
          "color": "#ab63fa",
          "symbol": "circle"
         },
         "mode": "markers",
         "name": "Cypseloides",
         "scene": "scene",
         "showlegend": true,
         "type": "scatter3d",
         "x": [
          -1.2720533609390259
         ],
         "y": [
          1.1593708992004395
         ],
         "z": [
          -4.892236709594727
         ]
        },
        {
         "hovertemplate": "color=Dacnis<br>TSNE1=%{x}<br>TSNE2=%{y}<br>TSNE3=%{z}<extra></extra>",
         "legendgroup": "Dacnis",
         "marker": {
          "color": "#FFA15A",
          "symbol": "circle"
         },
         "mode": "markers",
         "name": "Dacnis",
         "scene": "scene",
         "showlegend": true,
         "type": "scatter3d",
         "x": [
          -2.991135597229004,
          1.562066674232483,
          -5.467651844024658,
          -3.6803598403930664,
          3.9796395301818848,
          -0.591910183429718
         ],
         "y": [
          1.3977795839309692,
          -5.828502178192139,
          5.581846714019775,
          3.4021642208099365,
          -1.7861016988754272,
          2.3947997093200684
         ],
         "z": [
          7.652879238128662,
          6.5915069580078125,
          -3.9526476860046387,
          -4.051016807556152,
          6.384974479675293,
          -5.50066614151001
         ]
        },
        {
         "hovertemplate": "color=Daptrius<br>TSNE1=%{x}<br>TSNE2=%{y}<br>TSNE3=%{z}<extra></extra>",
         "legendgroup": "Daptrius",
         "marker": {
          "color": "#19d3f3",
          "symbol": "circle"
         },
         "mode": "markers",
         "name": "Daptrius",
         "scene": "scene",
         "showlegend": true,
         "type": "scatter3d",
         "x": [
          -1.2172825336456299,
          0.048885028809309006,
          -2.858536958694458,
          7.414658546447754,
          -6.395303249359131
         ],
         "y": [
          -1.4734963178634644,
          5.650981426239014,
          -1.987807273864746,
          -2.0129177570343018,
          6.600937366485596
         ],
         "z": [
          2.3466079235076904,
          -0.5216124653816223,
          5.637728214263916,
          3.452474355697632,
          2.4602370262145996
         ]
        },
        {
         "hovertemplate": "color=Deconychura<br>TSNE1=%{x}<br>TSNE2=%{y}<br>TSNE3=%{z}<extra></extra>",
         "legendgroup": "Deconychura",
         "marker": {
          "color": "#FF6692",
          "symbol": "circle"
         },
         "mode": "markers",
         "name": "Deconychura",
         "scene": "scene",
         "showlegend": true,
         "type": "scatter3d",
         "x": [
          -3.1789002418518066,
          6.76995325088501
         ],
         "y": [
          -3.369337797164917,
          -2.5538928508758545
         ],
         "z": [
          4.3080058097839355,
          4.468849182128906
         ]
        },
        {
         "hovertemplate": "color=Dendrexetastes<br>TSNE1=%{x}<br>TSNE2=%{y}<br>TSNE3=%{z}<extra></extra>",
         "legendgroup": "Dendrexetastes",
         "marker": {
          "color": "#B6E880",
          "symbol": "circle"
         },
         "mode": "markers",
         "name": "Dendrexetastes",
         "scene": "scene",
         "showlegend": true,
         "type": "scatter3d",
         "x": [
          -0.9311317205429077,
          6.71248722076416
         ],
         "y": [
          -3.961472272872925,
          1.1604360342025757
         ],
         "z": [
          6.875674247741699,
          -0.8409629464149475
         ]
        },
        {
         "hovertemplate": "color=Dendrocincla<br>TSNE1=%{x}<br>TSNE2=%{y}<br>TSNE3=%{z}<extra></extra>",
         "legendgroup": "Dendrocincla",
         "marker": {
          "color": "#FF97FF",
          "symbol": "circle"
         },
         "mode": "markers",
         "name": "Dendrocincla",
         "scene": "scene",
         "showlegend": true,
         "type": "scatter3d",
         "x": [
          -4.9472270011901855,
          -4.969614028930664,
          -3.743591070175171,
          -1.8243000507354736,
          -6.772122383117676,
          2.6639559268951416
         ],
         "y": [
          -2.405219078063965,
          3.5754165649414062,
          -1.722379207611084,
          7.158114910125732,
          7.556109428405762,
          -3.075145959854126
         ],
         "z": [
          -9.184330940246582,
          -7.340973377227783,
          -7.517841815948486,
          0.5165921449661255,
          -0.003876119153574109,
          -2.143217086791992
         ]
        },
        {
         "hovertemplate": "color=Dendrocolaptes<br>TSNE1=%{x}<br>TSNE2=%{y}<br>TSNE3=%{z}<extra></extra>",
         "legendgroup": "Dendrocolaptes",
         "marker": {
          "color": "#FECB52",
          "symbol": "circle"
         },
         "mode": "markers",
         "name": "Dendrocolaptes",
         "scene": "scene",
         "showlegend": true,
         "type": "scatter3d",
         "x": [
          -1.405024766921997,
          -1.0534958839416504,
          -1.660030484199524,
          5.821350574493408,
          5.290251731872559,
          -4.237957000732422
         ],
         "y": [
          -4.529178619384766,
          -5.614779472351074,
          -2.417152166366577,
          -3.813690662384033,
          0.6848770380020142,
          6.51711893081665
         ],
         "z": [
          7.05756950378418,
          4.024118423461914,
          6.453976154327393,
          3.184739351272583,
          -0.2613743841648102,
          1.4772334098815918
         ]
        },
        {
         "hovertemplate": "color=Dendrocygna<br>TSNE1=%{x}<br>TSNE2=%{y}<br>TSNE3=%{z}<extra></extra>",
         "legendgroup": "Dendrocygna",
         "marker": {
          "color": "#636efa",
          "symbol": "circle"
         },
         "mode": "markers",
         "name": "Dendrocygna",
         "scene": "scene",
         "showlegend": true,
         "type": "scatter3d",
         "x": [
          4.924874782562256,
          5.398326396942139,
          -6.335935115814209
         ],
         "y": [
          -8.208578109741211,
          -4.064164161682129,
          4.710423946380615
         ],
         "z": [
          -2.129638910293579,
          -3.0940308570861816,
          -4.349161148071289
         ]
        },
        {
         "hovertemplate": "color=Dendroplex<br>TSNE1=%{x}<br>TSNE2=%{y}<br>TSNE3=%{z}<extra></extra>",
         "legendgroup": "Dendroplex",
         "marker": {
          "color": "#EF553B",
          "symbol": "circle"
         },
         "mode": "markers",
         "name": "Dendroplex",
         "scene": "scene",
         "showlegend": true,
         "type": "scatter3d",
         "x": [
          -3.8535752296447754,
          3.9662487506866455
         ],
         "y": [
          8.218017578125,
          -8.411444664001465
         ],
         "z": [
          0.663618803024292,
          -3.3447248935699463
         ]
        },
        {
         "hovertemplate": "color=Dichrozona<br>TSNE1=%{x}<br>TSNE2=%{y}<br>TSNE3=%{z}<extra></extra>",
         "legendgroup": "Dichrozona",
         "marker": {
          "color": "#00cc96",
          "symbol": "circle"
         },
         "mode": "markers",
         "name": "Dichrozona",
         "scene": "scene",
         "showlegend": true,
         "type": "scatter3d",
         "x": [
          -2.632345676422119,
          -1.9479913711547852,
          2.8839924335479736
         ],
         "y": [
          -1.8286705017089844,
          0.2901298701763153,
          -4.557210445404053
         ],
         "z": [
          5.6780500411987305,
          -5.277562618255615,
          1.980955719947815
         ]
        },
        {
         "hovertemplate": "color=Diglossa<br>TSNE1=%{x}<br>TSNE2=%{y}<br>TSNE3=%{z}<extra></extra>",
         "legendgroup": "Diglossa",
         "marker": {
          "color": "#ab63fa",
          "symbol": "circle"
         },
         "mode": "markers",
         "name": "Diglossa",
         "scene": "scene",
         "showlegend": true,
         "type": "scatter3d",
         "x": [
          8.219671249389648,
          6.278562545776367,
          -3.2073099613189697,
          -1.1395137310028076,
          -7.036940574645996,
          -3.1445603370666504,
          -2.370800495147705
         ],
         "y": [
          -8.042913436889648,
          -3.328258514404297,
          0.1375933289527893,
          2.6860687732696533,
          7.637477874755859,
          -3.217315912246704,
          -2.314639091491699
         ],
         "z": [
          -0.8324404954910278,
          3.6161632537841797,
          -7.9458327293396,
          -6.734737396240234,
          1.5604722499847412,
          -3.750718832015991,
          3.377715587615967
         ]
        },
        {
         "hovertemplate": "color=Diopsittaca<br>TSNE1=%{x}<br>TSNE2=%{y}<br>TSNE3=%{z}<extra></extra>",
         "legendgroup": "Diopsittaca",
         "marker": {
          "color": "#FFA15A",
          "symbol": "circle"
         },
         "mode": "markers",
         "name": "Diopsittaca",
         "scene": "scene",
         "showlegend": true,
         "type": "scatter3d",
         "x": [
          -1.687760353088379,
          4.037444114685059
         ],
         "y": [
          6.088540077209473,
          -3.205958843231201
         ],
         "z": [
          1.2515110969543457,
          6.195517063140869
         ]
        },
        {
         "hovertemplate": "color=Discosura<br>TSNE1=%{x}<br>TSNE2=%{y}<br>TSNE3=%{z}<extra></extra>",
         "legendgroup": "Discosura",
         "marker": {
          "color": "#19d3f3",
          "symbol": "circle"
         },
         "mode": "markers",
         "name": "Discosura",
         "scene": "scene",
         "showlegend": true,
         "type": "scatter3d",
         "x": [
          -3.6094658374786377,
          6.575516700744629,
          -6.28662109375,
          -2.0885915756225586
         ],
         "y": [
          -0.45958927273750305,
          -7.860190391540527,
          4.371132850646973,
          0.4796474277973175
         ],
         "z": [
          5.728389263153076,
          -1.1983206272125244,
          1.6409614086151123,
          -6.862335681915283
         ]
        },
        {
         "hovertemplate": "color=Dolichonyx<br>TSNE1=%{x}<br>TSNE2=%{y}<br>TSNE3=%{z}<extra></extra>",
         "legendgroup": "Dolichonyx",
         "marker": {
          "color": "#FF6692",
          "symbol": "circle"
         },
         "mode": "markers",
         "name": "Dolichonyx",
         "scene": "scene",
         "showlegend": true,
         "type": "scatter3d",
         "x": [
          -2.6968581676483154
         ],
         "y": [
          -0.6516369581222534
         ],
         "z": [
          -4.562273025512695
         ]
        },
        {
         "hovertemplate": "color=Donacobius<br>TSNE1=%{x}<br>TSNE2=%{y}<br>TSNE3=%{z}<extra></extra>",
         "legendgroup": "Donacobius",
         "marker": {
          "color": "#B6E880",
          "symbol": "circle"
         },
         "mode": "markers",
         "name": "Donacobius",
         "scene": "scene",
         "showlegend": true,
         "type": "scatter3d",
         "x": [
          4.778500556945801,
          0.3405793309211731,
          6.218618869781494
         ],
         "y": [
          0.5001778602600098,
          -5.337719440460205,
          -0.44540831446647644
         ],
         "z": [
          -0.7079113721847534,
          -8.542935371398926,
          2.3382277488708496
         ]
        },
        {
         "hovertemplate": "color=Doryfera<br>TSNE1=%{x}<br>TSNE2=%{y}<br>TSNE3=%{z}<extra></extra>",
         "legendgroup": "Doryfera",
         "marker": {
          "color": "#FF97FF",
          "symbol": "circle"
         },
         "mode": "markers",
         "name": "Doryfera",
         "scene": "scene",
         "showlegend": true,
         "type": "scatter3d",
         "x": [
          -0.910014808177948,
          3.150634527206421,
          -2.1862740516662598,
          -2.991191864013672,
          -3.035130739212036
         ],
         "y": [
          5.311368942260742,
          -0.7931135296821594,
          6.020253658294678,
          -4.313547611236572,
          4.7018866539001465
         ],
         "z": [
          0.8514510989189148,
          7.2767863273620605,
          -3.9001517295837402,
          -7.754527568817139,
          -4.946491718292236
         ]
        },
        {
         "hovertemplate": "color=Dromococcyx<br>TSNE1=%{x}<br>TSNE2=%{y}<br>TSNE3=%{z}<extra></extra>",
         "legendgroup": "Dromococcyx",
         "marker": {
          "color": "#FECB52",
          "symbol": "circle"
         },
         "mode": "markers",
         "name": "Dromococcyx",
         "scene": "scene",
         "showlegend": true,
         "type": "scatter3d",
         "x": [
          -3.9295647144317627,
          -4.281042575836182
         ],
         "y": [
          5.913767337799072,
          8.319546699523926
         ],
         "z": [
          -3.4732930660247803,
          0.5016337037086487
         ]
        },
        {
         "hovertemplate": "color=Drymophila<br>TSNE1=%{x}<br>TSNE2=%{y}<br>TSNE3=%{z}<extra></extra>",
         "legendgroup": "Drymophila",
         "marker": {
          "color": "#636efa",
          "symbol": "circle"
         },
         "mode": "markers",
         "name": "Drymophila",
         "scene": "scene",
         "showlegend": true,
         "type": "scatter3d",
         "x": [
          3.298442840576172,
          -1.0578542947769165,
          -1.5914568901062012,
          -5.496825218200684,
          -1.4948519468307495
         ],
         "y": [
          -1.1494866609573364,
          -4.512261390686035,
          -1.7871367931365967,
          5.202061176300049,
          -4.629739761352539
         ],
         "z": [
          7.229954242706299,
          4.301888465881348,
          7.227355480194092,
          6.240570545196533,
          5.759865760803223
         ]
        },
        {
         "hovertemplate": "color=Dryocopus<br>TSNE1=%{x}<br>TSNE2=%{y}<br>TSNE3=%{z}<extra></extra>",
         "legendgroup": "Dryocopus",
         "marker": {
          "color": "#EF553B",
          "symbol": "circle"
         },
         "mode": "markers",
         "name": "Dryocopus",
         "scene": "scene",
         "showlegend": true,
         "type": "scatter3d",
         "x": [
          6.401339054107666,
          -2.785285234451294,
          6.130788803100586,
          -1.6014755964279175
         ],
         "y": [
          -5.469063758850098,
          -1.2015483379364014,
          -0.2855115532875061,
          -5.22319221496582
         ],
         "z": [
          -1.839639663696289,
          3.649712562561035,
          2.1635565757751465,
          4.908030033111572
         ]
        },
        {
         "hovertemplate": "color=Dubusia<br>TSNE1=%{x}<br>TSNE2=%{y}<br>TSNE3=%{z}<extra></extra>",
         "legendgroup": "Dubusia",
         "marker": {
          "color": "#00cc96",
          "symbol": "circle"
         },
         "mode": "markers",
         "name": "Dubusia",
         "scene": "scene",
         "showlegend": true,
         "type": "scatter3d",
         "x": [
          -0.757817804813385
         ],
         "y": [
          -0.6994094848632812
         ],
         "z": [
          8.052420616149902
         ]
        },
        {
         "hovertemplate": "color=Dysithamnus<br>TSNE1=%{x}<br>TSNE2=%{y}<br>TSNE3=%{z}<extra></extra>",
         "legendgroup": "Dysithamnus",
         "marker": {
          "color": "#ab63fa",
          "symbol": "circle"
         },
         "mode": "markers",
         "name": "Dysithamnus",
         "scene": "scene",
         "showlegend": true,
         "type": "scatter3d",
         "x": [
          1.4206701517105103
         ],
         "y": [
          -5.485141277313232
         ],
         "z": [
          -5.599226951599121
         ]
        },
        {
         "hovertemplate": "color=Egretta<br>TSNE1=%{x}<br>TSNE2=%{y}<br>TSNE3=%{z}<extra></extra>",
         "legendgroup": "Egretta",
         "marker": {
          "color": "#FFA15A",
          "symbol": "circle"
         },
         "mode": "markers",
         "name": "Egretta",
         "scene": "scene",
         "showlegend": true,
         "type": "scatter3d",
         "x": [
          -2.712364673614502,
          -1.8722543716430664,
          -3.812490940093994,
          0.15035466849803925,
          3.1549715995788574
         ],
         "y": [
          -4.083552837371826,
          1.2153565883636475,
          -2.2384326457977295,
          -3.775385856628418,
          -5.926543712615967
         ],
         "z": [
          -8.711026191711426,
          1.4178749322891235,
          -7.53929328918457,
          -2.663081645965576,
          -4.887080192565918
         ]
        },
        {
         "hovertemplate": "color=Elaenia<br>TSNE1=%{x}<br>TSNE2=%{y}<br>TSNE3=%{z}<extra></extra>",
         "legendgroup": "Elaenia",
         "marker": {
          "color": "#19d3f3",
          "symbol": "circle"
         },
         "mode": "markers",
         "name": "Elaenia",
         "scene": "scene",
         "showlegend": true,
         "type": "scatter3d",
         "x": [
          7.331625938415527,
          -2.675525188446045,
          1.2094882726669312,
          -5.91328239440918,
          5.1999006271362305,
          -2.1069488525390625,
          -1.7871122360229492,
          -1.7726606130599976,
          1.2653721570968628,
          -5.130781173706055,
          -3.6178369522094727
         ],
         "y": [
          0.25139445066452026,
          1.2554495334625244,
          -5.334842205047607,
          8.010309219360352,
          -4.787795543670654,
          5.546801567077637,
          -5.020150661468506,
          7.265851974487305,
          0.24077925086021423,
          6.936244487762451,
          2.07421612739563
         ],
         "z": [
          -1.883613109588623,
          4.5578789710998535,
          2.675062894821167,
          0.9898764491081238,
          -3.675114154815674,
          1.3971805572509766,
          -6.524657249450684,
          0.3745407462120056,
          8.233360290527344,
          1.608803153038025,
          5.587343215942383
         ]
        },
        {
         "hovertemplate": "color=Elanoides<br>TSNE1=%{x}<br>TSNE2=%{y}<br>TSNE3=%{z}<extra></extra>",
         "legendgroup": "Elanoides",
         "marker": {
          "color": "#FF6692",
          "symbol": "circle"
         },
         "mode": "markers",
         "name": "Elanoides",
         "scene": "scene",
         "showlegend": true,
         "type": "scatter3d",
         "x": [
          -6.827085494995117,
          4.951264381408691
         ],
         "y": [
          4.108803749084473,
          -6.145908832550049
         ],
         "z": [
          -4.490610122680664,
          -3.7943360805511475
         ]
        },
        {
         "hovertemplate": "color=Elanus<br>TSNE1=%{x}<br>TSNE2=%{y}<br>TSNE3=%{z}<extra></extra>",
         "legendgroup": "Elanus",
         "marker": {
          "color": "#B6E880",
          "symbol": "circle"
         },
         "mode": "markers",
         "name": "Elanus",
         "scene": "scene",
         "showlegend": true,
         "type": "scatter3d",
         "x": [
          10.537854194641113
         ],
         "y": [
          -1.9454832077026367
         ],
         "z": [
          -2.469006299972534
         ]
        },
        {
         "hovertemplate": "color=Electron<br>TSNE1=%{x}<br>TSNE2=%{y}<br>TSNE3=%{z}<extra></extra>",
         "legendgroup": "Electron",
         "marker": {
          "color": "#FF97FF",
          "symbol": "circle"
         },
         "mode": "markers",
         "name": "Electron",
         "scene": "scene",
         "showlegend": true,
         "type": "scatter3d",
         "x": [
          -2.0948784351348877,
          0.03749968111515045
         ],
         "y": [
          1.4097298383712769,
          7.2050628662109375
         ],
         "z": [
          3.499732732772827,
          0.4185600280761719
         ]
        },
        {
         "hovertemplate": "color=Emberizoides<br>TSNE1=%{x}<br>TSNE2=%{y}<br>TSNE3=%{z}<extra></extra>",
         "legendgroup": "Emberizoides",
         "marker": {
          "color": "#FECB52",
          "symbol": "circle"
         },
         "mode": "markers",
         "name": "Emberizoides",
         "scene": "scene",
         "showlegend": true,
         "type": "scatter3d",
         "x": [
          -1.4915640354156494,
          5.459491729736328
         ],
         "y": [
          3.3264572620391846,
          -2.617196559906006
         ],
         "z": [
          -7.244157314300537,
          1.686342716217041
         ]
        },
        {
         "hovertemplate": "color=Empidonax<br>TSNE1=%{x}<br>TSNE2=%{y}<br>TSNE3=%{z}<extra></extra>",
         "legendgroup": "Empidonax",
         "marker": {
          "color": "#636efa",
          "symbol": "circle"
         },
         "mode": "markers",
         "name": "Empidonax",
         "scene": "scene",
         "showlegend": true,
         "type": "scatter3d",
         "x": [
          -2.40832257270813
         ],
         "y": [
          4.23976993560791
         ],
         "z": [
          -6.365744113922119
         ]
        },
        {
         "hovertemplate": "color=Empidonomus<br>TSNE1=%{x}<br>TSNE2=%{y}<br>TSNE3=%{z}<extra></extra>",
         "legendgroup": "Empidonomus",
         "marker": {
          "color": "#EF553B",
          "symbol": "circle"
         },
         "mode": "markers",
         "name": "Empidonomus",
         "scene": "scene",
         "showlegend": true,
         "type": "scatter3d",
         "x": [
          -2.5916130542755127,
          -3.174452304840088
         ],
         "y": [
          -0.0041900742799043655,
          1.8165940046310425
         ],
         "z": [
          -6.9251017570495605,
          2.3576266765594482
         ]
        },
        {
         "hovertemplate": "color=Entomodestes<br>TSNE1=%{x}<br>TSNE2=%{y}<br>TSNE3=%{z}<extra></extra>",
         "legendgroup": "Entomodestes",
         "marker": {
          "color": "#00cc96",
          "symbol": "circle"
         },
         "mode": "markers",
         "name": "Entomodestes",
         "scene": "scene",
         "showlegend": true,
         "type": "scatter3d",
         "x": [
          -5.7942399978637695,
          -2.319276809692383
         ],
         "y": [
          2.9802775382995605,
          1.5440431833267212
         ],
         "z": [
          -7.103381156921387,
          3.666900634765625
         ]
        },
        {
         "hovertemplate": "color=Epinecrophylla<br>TSNE1=%{x}<br>TSNE2=%{y}<br>TSNE3=%{z}<extra></extra>",
         "legendgroup": "Epinecrophylla",
         "marker": {
          "color": "#ab63fa",
          "symbol": "circle"
         },
         "mode": "markers",
         "name": "Epinecrophylla",
         "scene": "scene",
         "showlegend": true,
         "type": "scatter3d",
         "x": [
          -1.860929012298584,
          -2.8303425312042236,
          -5.229589939117432,
          -2.9045841693878174,
          -2.980119466781616,
          -1.9578977823257446,
          -3.909524917602539,
          -2.6880428791046143,
          -5.177210330963135,
          0.8551906943321228
         ],
         "y": [
          0.5262448191642761,
          4.6150593757629395,
          2.69647479057312,
          5.718746662139893,
          1.835715651512146,
          1.4554667472839355,
          2.086974620819092,
          4.532354831695557,
          5.425705909729004,
          -6.196977615356445
         ],
         "z": [
          2.234342575073242,
          7.300167560577393,
          5.073666572570801,
          6.925838947296143,
          2.8935024738311768,
          8.359465599060059,
          0.7992693781852722,
          -4.720536708831787,
          1.7708959579467773,
          5.485791206359863
         ]
        },
        {
         "hovertemplate": "color=Eubucco<br>TSNE1=%{x}<br>TSNE2=%{y}<br>TSNE3=%{z}<extra></extra>",
         "legendgroup": "Eubucco",
         "marker": {
          "color": "#FFA15A",
          "symbol": "circle"
         },
         "mode": "markers",
         "name": "Eubucco",
         "scene": "scene",
         "showlegend": true,
         "type": "scatter3d",
         "x": [
          -3.040900945663452,
          2.8140950202941895
         ],
         "y": [
          3.102959156036377,
          1.2519688606262207
         ],
         "z": [
          -3.819589853286743,
          7.454259395599365
         ]
        },
        {
         "hovertemplate": "color=Euchrepomis<br>TSNE1=%{x}<br>TSNE2=%{y}<br>TSNE3=%{z}<extra></extra>",
         "legendgroup": "Euchrepomis",
         "marker": {
          "color": "#19d3f3",
          "symbol": "circle"
         },
         "mode": "markers",
         "name": "Euchrepomis",
         "scene": "scene",
         "showlegend": true,
         "type": "scatter3d",
         "x": [
          -4.511509895324707,
          -5.865509510040283,
          -3.517005205154419,
          -1.1682124137878418,
          -1.1069443225860596
         ],
         "y": [
          5.561110973358154,
          7.701040744781494,
          -3.4565956592559814,
          -4.932196140289307,
          -0.056612640619277954
         ],
         "z": [
          6.080925941467285,
          1.4021967649459839,
          -4.502450466156006,
          4.705041885375977,
          8.32326889038086
         ]
        },
        {
         "hovertemplate": "color=Eucometis<br>TSNE1=%{x}<br>TSNE2=%{y}<br>TSNE3=%{z}<extra></extra>",
         "legendgroup": "Eucometis",
         "marker": {
          "color": "#FF6692",
          "symbol": "circle"
         },
         "mode": "markers",
         "name": "Eucometis",
         "scene": "scene",
         "showlegend": true,
         "type": "scatter3d",
         "x": [
          -7.086780071258545,
          -2.9741992950439453
         ],
         "y": [
          1.6985907554626465,
          4.655756950378418
         ],
         "z": [
          -5.5981268882751465,
          -5.00705623626709
         ]
        },
        {
         "hovertemplate": "color=Eupetomena<br>TSNE1=%{x}<br>TSNE2=%{y}<br>TSNE3=%{z}<extra></extra>",
         "legendgroup": "Eupetomena",
         "marker": {
          "color": "#B6E880",
          "symbol": "circle"
         },
         "mode": "markers",
         "name": "Eupetomena",
         "scene": "scene",
         "showlegend": true,
         "type": "scatter3d",
         "x": [
          -3.890192985534668,
          0.9737210869789124,
          -3.490129232406616
         ],
         "y": [
          5.346810817718506,
          -4.932488441467285,
          8.295839309692383
         ],
         "z": [
          -4.730317115783691,
          -3.6188535690307617,
          0.4689260721206665
         ]
        },
        {
         "hovertemplate": "color=Euphonia<br>TSNE1=%{x}<br>TSNE2=%{y}<br>TSNE3=%{z}<extra></extra>",
         "legendgroup": "Euphonia",
         "marker": {
          "color": "#FF97FF",
          "symbol": "circle"
         },
         "mode": "markers",
         "name": "Euphonia",
         "scene": "scene",
         "showlegend": true,
         "type": "scatter3d",
         "x": [
          -2.19915509223938,
          -0.5699844360351562,
          1.0488346815109253,
          7.782652854919434,
          -3.1083240509033203,
          -5.069855213165283,
          0.7668870687484741,
          -5.119368553161621,
          -2.3352532386779785,
          -0.5643439292907715,
          -5.216324806213379,
          2.4537906646728516,
          -2.989704132080078,
          -1.9175384044647217,
          -4.396319389343262,
          -3.0151495933532715
         ],
         "y": [
          6.200603008270264,
          -6.255428314208984,
          -5.377903461456299,
          0.4796372652053833,
          3.7901432514190674,
          3.314232587814331,
          -6.3641204833984375,
          7.769027233123779,
          -1.8856557607650757,
          -4.799208164215088,
          2.9250948429107666,
          -5.8405938148498535,
          1.597337007522583,
          3.7038891315460205,
          2.956228256225586,
          -1.0039094686508179
         ],
         "z": [
          1.2286931276321411,
          7.521566867828369,
          -5.490023136138916,
          -1.5152724981307983,
          7.452535629272461,
          -7.53875732421875,
          5.231110095977783,
          -2.311939001083374,
          -5.913938522338867,
          7.830502986907959,
          5.56673002243042,
          4.542342185974121,
          7.690372467041016,
          -7.068105220794678,
          6.062211513519287,
          -4.890555381774902
         ]
        },
        {
         "hovertemplate": "color=Eupsittula<br>TSNE1=%{x}<br>TSNE2=%{y}<br>TSNE3=%{z}<extra></extra>",
         "legendgroup": "Eupsittula",
         "marker": {
          "color": "#FECB52",
          "symbol": "circle"
         },
         "mode": "markers",
         "name": "Eupsittula",
         "scene": "scene",
         "showlegend": true,
         "type": "scatter3d",
         "x": [
          -6.787221431732178,
          -4.264784336090088
         ],
         "y": [
          3.8947904109954834,
          2.374037981033325
         ],
         "z": [
          -4.730437278747559,
          1.1529896259307861
         ]
        },
        {
         "hovertemplate": "color=Eurypyga<br>TSNE1=%{x}<br>TSNE2=%{y}<br>TSNE3=%{z}<extra></extra>",
         "legendgroup": "Eurypyga",
         "marker": {
          "color": "#636efa",
          "symbol": "circle"
         },
         "mode": "markers",
         "name": "Eurypyga",
         "scene": "scene",
         "showlegend": true,
         "type": "scatter3d",
         "x": [
          -6.863420009613037
         ],
         "y": [
          2.332099676132202
         ],
         "z": [
          -5.856622219085693
         ]
        },
        {
         "hovertemplate": "color=Euscarthmus<br>TSNE1=%{x}<br>TSNE2=%{y}<br>TSNE3=%{z}<extra></extra>",
         "legendgroup": "Euscarthmus",
         "marker": {
          "color": "#EF553B",
          "symbol": "circle"
         },
         "mode": "markers",
         "name": "Euscarthmus",
         "scene": "scene",
         "showlegend": true,
         "type": "scatter3d",
         "x": [
          -4.549087047576904,
          -2.564183235168457
         ],
         "y": [
          4.824921607971191,
          4.286553859710693
         ],
         "z": [
          1.3824033737182617,
          -6.450552940368652
         ]
        },
        {
         "hovertemplate": "color=Eutoxeres<br>TSNE1=%{x}<br>TSNE2=%{y}<br>TSNE3=%{z}<extra></extra>",
         "legendgroup": "Eutoxeres",
         "marker": {
          "color": "#00cc96",
          "symbol": "circle"
         },
         "mode": "markers",
         "name": "Eutoxeres",
         "scene": "scene",
         "showlegend": true,
         "type": "scatter3d",
         "x": [
          6.420607566833496
         ],
         "y": [
          -3.2710773944854736
         ],
         "z": [
          4.122706413269043
         ]
        },
        {
         "hovertemplate": "color=Falco<br>TSNE1=%{x}<br>TSNE2=%{y}<br>TSNE3=%{z}<extra></extra>",
         "legendgroup": "Falco",
         "marker": {
          "color": "#ab63fa",
          "symbol": "circle"
         },
         "mode": "markers",
         "name": "Falco",
         "scene": "scene",
         "showlegend": true,
         "type": "scatter3d",
         "x": [
          -1.0168942213058472,
          -4.01658821105957,
          -2.9760210514068604,
          9.889411926269531,
          -0.13106107711791992,
          -6.659633159637451,
          3.084120512008667,
          -5.211972236633301,
          1.2708368301391602,
          -3.4135055541992188,
          3.8784239292144775,
          -2.9131922721862793,
          -2.077603578567505,
          4.673398971557617
         ],
         "y": [
          3.413191080093384,
          4.724630832672119,
          5.1292805671691895,
          -8.684557914733887,
          3.580028533935547,
          1.7439963817596436,
          -4.637063980102539,
          4.8229875564575195,
          -6.036377429962158,
          -1.5062446594238281,
          -6.775761127471924,
          5.100147724151611,
          0.2698049545288086,
          -0.11582036316394806
         ],
         "z": [
          -4.449069023132324,
          -6.10546875,
          1.6081115007400513,
          -0.4810410737991333,
          -2.4651572704315186,
          -6.580809593200684,
          -3.9515228271484375,
          -5.567390441894531,
          6.509726047515869,
          -5.271060943603516,
          -4.600639820098877,
          -3.2106268405914307,
          -4.7658281326293945,
          -0.7185731530189514
         ]
        },
        {
         "hovertemplate": "color=Florisuga<br>TSNE1=%{x}<br>TSNE2=%{y}<br>TSNE3=%{z}<extra></extra>",
         "legendgroup": "Florisuga",
         "marker": {
          "color": "#FFA15A",
          "symbol": "circle"
         },
         "mode": "markers",
         "name": "Florisuga",
         "scene": "scene",
         "showlegend": true,
         "type": "scatter3d",
         "x": [
          1.0232828855514526
         ],
         "y": [
          -5.260164737701416
         ],
         "z": [
          -4.755819797515869
         ]
        },
        {
         "hovertemplate": "color=Fluvicola<br>TSNE1=%{x}<br>TSNE2=%{y}<br>TSNE3=%{z}<extra></extra>",
         "legendgroup": "Fluvicola",
         "marker": {
          "color": "#19d3f3",
          "symbol": "circle"
         },
         "mode": "markers",
         "name": "Fluvicola",
         "scene": "scene",
         "showlegend": true,
         "type": "scatter3d",
         "x": [
          6.298874855041504,
          -1.265694499015808
         ],
         "y": [
          0.9302459955215454,
          -5.140584945678711
         ],
         "z": [
          4.5102949142456055,
          -7.494684219360352
         ]
        },
        {
         "hovertemplate": "color=Formicarius<br>TSNE1=%{x}<br>TSNE2=%{y}<br>TSNE3=%{z}<extra></extra>",
         "legendgroup": "Formicarius",
         "marker": {
          "color": "#FF6692",
          "symbol": "circle"
         },
         "mode": "markers",
         "name": "Formicarius",
         "scene": "scene",
         "showlegend": true,
         "type": "scatter3d",
         "x": [
          -3.3905820846557617,
          -5.842543601989746,
          -3.8194310665130615,
          7.3202033042907715,
          -3.1921868324279785,
          -5.939205646514893,
          5.211239337921143
         ],
         "y": [
          0.44513633847236633,
          3.972865581512451,
          8.254087448120117,
          0.81978839635849,
          1.9774127006530762,
          5.094997406005859,
          -7.868823528289795
         ],
         "z": [
          -8.25179386138916,
          5.191969871520996,
          0.47801682353019714,
          -1.2954435348510742,
          5.582650661468506,
          -4.255161285400391,
          -1.9761956930160522
         ]
        },
        {
         "hovertemplate": "color=Formicivora<br>TSNE1=%{x}<br>TSNE2=%{y}<br>TSNE3=%{z}<extra></extra>",
         "legendgroup": "Formicivora",
         "marker": {
          "color": "#B6E880",
          "symbol": "circle"
         },
         "mode": "markers",
         "name": "Formicivora",
         "scene": "scene",
         "showlegend": true,
         "type": "scatter3d",
         "x": [
          -1.4875190258026123,
          -3.7345361709594727
         ],
         "y": [
          1.9688544273376465,
          -1.8624684810638428
         ],
         "z": [
          8.583930015563965,
          -6.775383949279785
         ]
        },
        {
         "hovertemplate": "color=Forpus<br>TSNE1=%{x}<br>TSNE2=%{y}<br>TSNE3=%{z}<extra></extra>",
         "legendgroup": "Forpus",
         "marker": {
          "color": "#FF97FF",
          "symbol": "circle"
         },
         "mode": "markers",
         "name": "Forpus",
         "scene": "scene",
         "showlegend": true,
         "type": "scatter3d",
         "x": [
          -5.158498764038086,
          8.128175735473633,
          0.31926193833351135,
          -2.9109363555908203
         ],
         "y": [
          8.255547523498535,
          1.0112698078155518,
          5.896112442016602,
          1.163482666015625
         ],
         "z": [
          -1.9405375719070435,
          -0.09561596810817719,
          0.17314475774765015,
          4.956014633178711
         ]
        },
        {
         "hovertemplate": "color=Furnarius<br>TSNE1=%{x}<br>TSNE2=%{y}<br>TSNE3=%{z}<extra></extra>",
         "legendgroup": "Furnarius",
         "marker": {
          "color": "#FECB52",
          "symbol": "circle"
         },
         "mode": "markers",
         "name": "Furnarius",
         "scene": "scene",
         "showlegend": true,
         "type": "scatter3d",
         "x": [
          -6.303478240966797,
          -2.6077239513397217
         ],
         "y": [
          1.202439785003662,
          1.799278736114502
         ],
         "z": [
          -7.298075199127197,
          3.6962592601776123
         ]
        },
        {
         "hovertemplate": "color=Galbalcyrhynchus<br>TSNE1=%{x}<br>TSNE2=%{y}<br>TSNE3=%{z}<extra></extra>",
         "legendgroup": "Galbalcyrhynchus",
         "marker": {
          "color": "#636efa",
          "symbol": "circle"
         },
         "mode": "markers",
         "name": "Galbalcyrhynchus",
         "scene": "scene",
         "showlegend": true,
         "type": "scatter3d",
         "x": [
          -1.7249419689178467,
          -1.610457181930542
         ],
         "y": [
          2.2508418560028076,
          3.631584882736206
         ],
         "z": [
          -7.696371555328369,
          -4.753805637359619
         ]
        },
        {
         "hovertemplate": "color=Galbula<br>TSNE1=%{x}<br>TSNE2=%{y}<br>TSNE3=%{z}<extra></extra>",
         "legendgroup": "Galbula",
         "marker": {
          "color": "#EF553B",
          "symbol": "circle"
         },
         "mode": "markers",
         "name": "Galbula",
         "scene": "scene",
         "showlegend": true,
         "type": "scatter3d",
         "x": [
          -4.766333103179932,
          -3.728766918182373,
          -6.824389457702637,
          -2.0791473388671875,
          -0.27819398045539856,
          0.13340291380882263,
          -1.0787932872772217
         ],
         "y": [
          -2.548645257949829,
          8.007528305053711,
          1.5351788997650146,
          -1.9217281341552734,
          1.0039242506027222,
          0.732519268989563,
          4.58241081237793
         ],
         "z": [
          -9.128727912902832,
          -2.223886013031006,
          -6.394295692443848,
          2.54134464263916,
          -0.08394458889961243,
          0.03166891634464264,
          -4.758931636810303
         ]
        },
        {
         "hovertemplate": "color=Gallinago<br>TSNE1=%{x}<br>TSNE2=%{y}<br>TSNE3=%{z}<extra></extra>",
         "legendgroup": "Gallinago",
         "marker": {
          "color": "#00cc96",
          "symbol": "circle"
         },
         "mode": "markers",
         "name": "Gallinago",
         "scene": "scene",
         "showlegend": true,
         "type": "scatter3d",
         "x": [
          1.188279390335083
         ],
         "y": [
          -5.348055839538574
         ],
         "z": [
          -5.076188087463379
         ]
        },
        {
         "hovertemplate": "color=Gallinula<br>TSNE1=%{x}<br>TSNE2=%{y}<br>TSNE3=%{z}<extra></extra>",
         "legendgroup": "Gallinula",
         "marker": {
          "color": "#ab63fa",
          "symbol": "circle"
         },
         "mode": "markers",
         "name": "Gallinula",
         "scene": "scene",
         "showlegend": true,
         "type": "scatter3d",
         "x": [
          9.190120697021484
         ],
         "y": [
          -8.305025100708008
         ],
         "z": [
          -0.645227313041687
         ]
        },
        {
         "hovertemplate": "color=Gampsonyx<br>TSNE1=%{x}<br>TSNE2=%{y}<br>TSNE3=%{z}<extra></extra>",
         "legendgroup": "Gampsonyx",
         "marker": {
          "color": "#FFA15A",
          "symbol": "circle"
         },
         "mode": "markers",
         "name": "Gampsonyx",
         "scene": "scene",
         "showlegend": true,
         "type": "scatter3d",
         "x": [
          -4.284525394439697
         ],
         "y": [
          4.904083728790283
         ],
         "z": [
          -5.258747100830078
         ]
        },
        {
         "hovertemplate": "color=Geothlypis<br>TSNE1=%{x}<br>TSNE2=%{y}<br>TSNE3=%{z}<extra></extra>",
         "legendgroup": "Geothlypis",
         "marker": {
          "color": "#19d3f3",
          "symbol": "circle"
         },
         "mode": "markers",
         "name": "Geothlypis",
         "scene": "scene",
         "showlegend": true,
         "type": "scatter3d",
         "x": [
          5.045309543609619,
          11.91141414642334
         ],
         "y": [
          -4.1813788414001465,
          -2.4273011684417725
         ],
         "z": [
          4.463779449462891,
          -3.064934492111206
         ]
        },
        {
         "hovertemplate": "color=Geotrygon<br>TSNE1=%{x}<br>TSNE2=%{y}<br>TSNE3=%{z}<extra></extra>",
         "legendgroup": "Geotrygon",
         "marker": {
          "color": "#FF6692",
          "symbol": "circle"
         },
         "mode": "markers",
         "name": "Geotrygon",
         "scene": "scene",
         "showlegend": true,
         "type": "scatter3d",
         "x": [
          -3.020995616912842,
          -2.135223865509033,
          -4.0867743492126465,
          -5.674803733825684,
          -3.3301913738250732,
          -2.438755512237549
         ],
         "y": [
          -1.1585131883621216,
          0.8321048021316528,
          1.5988508462905884,
          3.0044617652893066,
          -3.0589776039123535,
          0.8824828863143921
         ],
         "z": [
          2.4382035732269287,
          8.357015609741211,
          0.41285330057144165,
          4.881472110748291,
          -3.8711578845977783,
          1.703356146812439
         ]
        },
        {
         "hovertemplate": "color=Geranoaetus<br>TSNE1=%{x}<br>TSNE2=%{y}<br>TSNE3=%{z}<extra></extra>",
         "legendgroup": "Geranoaetus",
         "marker": {
          "color": "#B6E880",
          "symbol": "circle"
         },
         "mode": "markers",
         "name": "Geranoaetus",
         "scene": "scene",
         "showlegend": true,
         "type": "scatter3d",
         "x": [
          3.104675531387329
         ],
         "y": [
          -6.86237096786499
         ],
         "z": [
          -5.315764904022217
         ]
        },
        {
         "hovertemplate": "color=Geranospiza<br>TSNE1=%{x}<br>TSNE2=%{y}<br>TSNE3=%{z}<extra></extra>",
         "legendgroup": "Geranospiza",
         "marker": {
          "color": "#FF97FF",
          "symbol": "circle"
         },
         "mode": "markers",
         "name": "Geranospiza",
         "scene": "scene",
         "showlegend": true,
         "type": "scatter3d",
         "x": [
          -3.4934866428375244,
          -1.5813677310943604
         ],
         "y": [
          -0.1942298710346222,
          0.11799825727939606
         ],
         "z": [
          5.346371650695801,
          8.285408020019531
         ]
        },
        {
         "hovertemplate": "color=Glaucidium<br>TSNE1=%{x}<br>TSNE2=%{y}<br>TSNE3=%{z}<extra></extra>",
         "legendgroup": "Glaucidium",
         "marker": {
          "color": "#FECB52",
          "symbol": "circle"
         },
         "mode": "markers",
         "name": "Glaucidium",
         "scene": "scene",
         "showlegend": true,
         "type": "scatter3d",
         "x": [
          -4.909505844116211,
          -3.773089647293091,
          4.413517951965332
         ],
         "y": [
          5.3614912033081055,
          -2.9860568046569824,
          -4.628897666931152
         ],
         "z": [
          1.6484687328338623,
          -6.779828071594238,
          2.963578939437866
         ]
        },
        {
         "hovertemplate": "color=Glaucis<br>TSNE1=%{x}<br>TSNE2=%{y}<br>TSNE3=%{z}<extra></extra>",
         "legendgroup": "Glaucis",
         "marker": {
          "color": "#636efa",
          "symbol": "circle"
         },
         "mode": "markers",
         "name": "Glaucis",
         "scene": "scene",
         "showlegend": true,
         "type": "scatter3d",
         "x": [
          -5.522140979766846
         ],
         "y": [
          2.900892972946167
         ],
         "z": [
          -7.409071445465088
         ]
        },
        {
         "hovertemplate": "color=Glyphorynchus<br>TSNE1=%{x}<br>TSNE2=%{y}<br>TSNE3=%{z}<extra></extra>",
         "legendgroup": "Glyphorynchus",
         "marker": {
          "color": "#EF553B",
          "symbol": "circle"
         },
         "mode": "markers",
         "name": "Glyphorynchus",
         "scene": "scene",
         "showlegend": true,
         "type": "scatter3d",
         "x": [
          -6.194045543670654,
          -4.30267333984375
         ],
         "y": [
          7.175644397735596,
          3.0187108516693115
         ],
         "z": [
          -1.4829739332199097,
          0.947109580039978
         ]
        },
        {
         "hovertemplate": "color=Gnorimopsar<br>TSNE1=%{x}<br>TSNE2=%{y}<br>TSNE3=%{z}<extra></extra>",
         "legendgroup": "Gnorimopsar",
         "marker": {
          "color": "#00cc96",
          "symbol": "circle"
         },
         "mode": "markers",
         "name": "Gnorimopsar",
         "scene": "scene",
         "showlegend": true,
         "type": "scatter3d",
         "x": [
          -1.0284279584884644
         ],
         "y": [
          2.847508192062378
         ],
         "z": [
          8.394257545471191
         ]
        },
        {
         "hovertemplate": "color=Grallaria<br>TSNE1=%{x}<br>TSNE2=%{y}<br>TSNE3=%{z}<extra></extra>",
         "legendgroup": "Grallaria",
         "marker": {
          "color": "#ab63fa",
          "symbol": "circle"
         },
         "mode": "markers",
         "name": "Grallaria",
         "scene": "scene",
         "showlegend": true,
         "type": "scatter3d",
         "x": [
          4.598828315734863,
          0.1679045408964157,
          -2.067460060119629,
          2.6179380416870117,
          5.160163879394531,
          11.594073295593262
         ],
         "y": [
          -1.3157947063446045,
          -0.9984331727027893,
          -0.21631519496440887,
          -5.246363639831543,
          -2.6948914527893066,
          -2.224323272705078
         ],
         "z": [
          0.8891040682792664,
          6.1331939697265625,
          8.06864070892334,
          -4.415868282318115,
          1.6210131645202637,
          -2.3249895572662354
         ]
        },
        {
         "hovertemplate": "color=Grallaricula<br>TSNE1=%{x}<br>TSNE2=%{y}<br>TSNE3=%{z}<extra></extra>",
         "legendgroup": "Grallaricula",
         "marker": {
          "color": "#FFA15A",
          "symbol": "circle"
         },
         "mode": "markers",
         "name": "Grallaricula",
         "scene": "scene",
         "showlegend": true,
         "type": "scatter3d",
         "x": [
          -3.9067935943603516,
          -4.6489996910095215,
          6.090814113616943
         ],
         "y": [
          6.170876979827881,
          2.477224111557007,
          1.2436927556991577
         ],
         "z": [
          -3.636337995529175,
          0.4220758080482483,
          0.08046950399875641
         ]
        },
        {
         "hovertemplate": "color=Gymnomystax<br>TSNE1=%{x}<br>TSNE2=%{y}<br>TSNE3=%{z}<extra></extra>",
         "legendgroup": "Gymnomystax",
         "marker": {
          "color": "#19d3f3",
          "symbol": "circle"
         },
         "mode": "markers",
         "name": "Gymnomystax",
         "scene": "scene",
         "showlegend": true,
         "type": "scatter3d",
         "x": [
          -2.7394521236419678
         ],
         "y": [
          -2.8585972785949707
         ],
         "z": [
          3.0754659175872803
         ]
        },
        {
         "hovertemplate": "color=Habia<br>TSNE1=%{x}<br>TSNE2=%{y}<br>TSNE3=%{z}<extra></extra>",
         "legendgroup": "Habia",
         "marker": {
          "color": "#FF6692",
          "symbol": "circle"
         },
         "mode": "markers",
         "name": "Habia",
         "scene": "scene",
         "showlegend": true,
         "type": "scatter3d",
         "x": [
          -0.7548785209655762,
          4.2346906661987305
         ],
         "y": [
          -0.5658476948738098,
          -8.446555137634277
         ],
         "z": [
          2.179102897644043,
          -2.877678871154785
         ]
        },
        {
         "hovertemplate": "color=Hafferia<br>TSNE1=%{x}<br>TSNE2=%{y}<br>TSNE3=%{z}<extra></extra>",
         "legendgroup": "Hafferia",
         "marker": {
          "color": "#B6E880",
          "symbol": "circle"
         },
         "mode": "markers",
         "name": "Hafferia",
         "scene": "scene",
         "showlegend": true,
         "type": "scatter3d",
         "x": [
          11.77509593963623,
          0.16450607776641846
         ],
         "y": [
          -2.3921098709106445,
          5.49885892868042
         ],
         "z": [
          -3.0009729862213135,
          0.24304533004760742
         ]
        },
        {
         "hovertemplate": "color=Haplophaedia<br>TSNE1=%{x}<br>TSNE2=%{y}<br>TSNE3=%{z}<extra></extra>",
         "legendgroup": "Haplophaedia",
         "marker": {
          "color": "#FF97FF",
          "symbol": "circle"
         },
         "mode": "markers",
         "name": "Haplophaedia",
         "scene": "scene",
         "showlegend": true,
         "type": "scatter3d",
         "x": [
          -3.013326406478882
         ],
         "y": [
          4.6462931632995605
         ],
         "z": [
          -5.134180545806885
         ]
        },
        {
         "hovertemplate": "color=Haplospiza<br>TSNE1=%{x}<br>TSNE2=%{y}<br>TSNE3=%{z}<extra></extra>",
         "legendgroup": "Haplospiza",
         "marker": {
          "color": "#FECB52",
          "symbol": "circle"
         },
         "mode": "markers",
         "name": "Haplospiza",
         "scene": "scene",
         "showlegend": true,
         "type": "scatter3d",
         "x": [
          8.896418571472168,
          9.00546646118164,
          -3.304877996444702,
          -0.3272656798362732,
          -3.1216225624084473
         ],
         "y": [
          -0.7595436573028564,
          0.38631024956703186,
          4.184294700622559,
          7.053075313568115,
          2.2668726444244385
         ],
         "z": [
          -2.0065670013427734,
          -0.41319823265075684,
          7.043779373168945,
          -0.022002920508384705,
          6.974364280700684
         ]
        },
        {
         "hovertemplate": "color=Harpagus<br>TSNE1=%{x}<br>TSNE2=%{y}<br>TSNE3=%{z}<extra></extra>",
         "legendgroup": "Harpagus",
         "marker": {
          "color": "#636efa",
          "symbol": "circle"
         },
         "mode": "markers",
         "name": "Harpagus",
         "scene": "scene",
         "showlegend": true,
         "type": "scatter3d",
         "x": [
          -4.542985439300537,
          -2.3266923427581787,
          2.8678200244903564
         ],
         "y": [
          8.680328369140625,
          7.926819801330566,
          -4.261189937591553
         ],
         "z": [
          -1.1819416284561157,
          -0.48976755142211914,
          -3.386446714401245
         ]
        },
        {
         "hovertemplate": "color=Harpia<br>TSNE1=%{x}<br>TSNE2=%{y}<br>TSNE3=%{z}<extra></extra>",
         "legendgroup": "Harpia",
         "marker": {
          "color": "#EF553B",
          "symbol": "circle"
         },
         "mode": "markers",
         "name": "Harpia",
         "scene": "scene",
         "showlegend": true,
         "type": "scatter3d",
         "x": [
          -0.008299777284264565
         ],
         "y": [
          -4.69741153717041
         ],
         "z": [
          2.257848024368286
         ]
        },
        {
         "hovertemplate": "color=Helicolestes<br>TSNE1=%{x}<br>TSNE2=%{y}<br>TSNE3=%{z}<extra></extra>",
         "legendgroup": "Helicolestes",
         "marker": {
          "color": "#00cc96",
          "symbol": "circle"
         },
         "mode": "markers",
         "name": "Helicolestes",
         "scene": "scene",
         "showlegend": true,
         "type": "scatter3d",
         "x": [
          1.6659133434295654,
          -2.8150885105133057,
          9.421304702758789
         ],
         "y": [
          -5.5686116218566895,
          0.9489073157310486,
          -0.8209145069122314
         ],
         "z": [
          7.226021766662598,
          4.732508659362793,
          -1.5832953453063965
         ]
        },
        {
         "hovertemplate": "color=Heliodoxa<br>TSNE1=%{x}<br>TSNE2=%{y}<br>TSNE3=%{z}<extra></extra>",
         "legendgroup": "Heliodoxa",
         "marker": {
          "color": "#ab63fa",
          "symbol": "circle"
         },
         "mode": "markers",
         "name": "Heliodoxa",
         "scene": "scene",
         "showlegend": true,
         "type": "scatter3d",
         "x": [
          -6.843841552734375,
          -2.53702974319458,
          6.028992652893066,
          9.794025421142578,
          -3.4502742290496826,
          -2.342130422592163,
          -2.997859239578247,
          -3.6390459537506104,
          3.6452038288116455
         ],
         "y": [
          0.8441479206085205,
          0.2911677956581116,
          -1.6908148527145386,
          -8.628349304199219,
          2.855376720428467,
          -0.08466504514217377,
          0.6070713996887207,
          8.21353816986084,
          -8.21428108215332
         ],
         "z": [
          -6.652316570281982,
          -7.27944803237915,
          2.073777914047241,
          -0.5049934983253479,
          -3.2334463596343994,
          1.6656996011734009,
          4.942801475524902,
          0.38004302978515625,
          -4.084619522094727
         ]
        },
        {
         "hovertemplate": "color=Heliomaster<br>TSNE1=%{x}<br>TSNE2=%{y}<br>TSNE3=%{z}<extra></extra>",
         "legendgroup": "Heliomaster",
         "marker": {
          "color": "#FFA15A",
          "symbol": "circle"
         },
         "mode": "markers",
         "name": "Heliomaster",
         "scene": "scene",
         "showlegend": true,
         "type": "scatter3d",
         "x": [
          -2.8046348094940186,
          -2.924558162689209
         ],
         "y": [
          -1.3363310098648071,
          -0.42509913444519043
         ],
         "z": [
          3.7449097633361816,
          -5.1283278465271
         ]
        },
        {
         "hovertemplate": "color=Heliornis<br>TSNE1=%{x}<br>TSNE2=%{y}<br>TSNE3=%{z}<extra></extra>",
         "legendgroup": "Heliornis",
         "marker": {
          "color": "#19d3f3",
          "symbol": "circle"
         },
         "mode": "markers",
         "name": "Heliornis",
         "scene": "scene",
         "showlegend": true,
         "type": "scatter3d",
         "x": [
          -2.854010581970215
         ],
         "y": [
          2.1763551235198975
         ],
         "z": [
          8.622417449951172
         ]
        },
        {
         "hovertemplate": "color=Heliothryx<br>TSNE1=%{x}<br>TSNE2=%{y}<br>TSNE3=%{z}<extra></extra>",
         "legendgroup": "Heliothryx",
         "marker": {
          "color": "#FF6692",
          "symbol": "circle"
         },
         "mode": "markers",
         "name": "Heliothryx",
         "scene": "scene",
         "showlegend": true,
         "type": "scatter3d",
         "x": [
          -3.000440835952759
         ],
         "y": [
          1.9012932777404785
         ],
         "z": [
          -8.444725036621094
         ]
        },
        {
         "hovertemplate": "color=Hemithraupis<br>TSNE1=%{x}<br>TSNE2=%{y}<br>TSNE3=%{z}<extra></extra>",
         "legendgroup": "Hemithraupis",
         "marker": {
          "color": "#B6E880",
          "symbol": "circle"
         },
         "mode": "markers",
         "name": "Hemithraupis",
         "scene": "scene",
         "showlegend": true,
         "type": "scatter3d",
         "x": [
          -4.454648971557617,
          -2.3374853134155273,
          -7.324763774871826
         ],
         "y": [
          7.568917274475098,
          5.945974349975586,
          7.71934175491333
         ],
         "z": [
          5.030378818511963,
          -3.672398805618286,
          -0.29069170355796814
         ]
        },
        {
         "hovertemplate": "color=Hemitriccus<br>TSNE1=%{x}<br>TSNE2=%{y}<br>TSNE3=%{z}<extra></extra>",
         "legendgroup": "Hemitriccus",
         "marker": {
          "color": "#FF97FF",
          "symbol": "circle"
         },
         "mode": "markers",
         "name": "Hemitriccus",
         "scene": "scene",
         "showlegend": true,
         "type": "scatter3d",
         "x": [
          10.77263069152832,
          -1.3451744318008423,
          -3.1684458255767822,
          9.06909465789795,
          -5.510498523712158,
          1.6937942504882812,
          -0.169891819357872,
          -3.1197054386138916,
          -2.6700518131256104,
          -5.602568626403809,
          -1.2127528190612793,
          6.6548991203308105
         ],
         "y": [
          -2.0077333450317383,
          -5.538525104522705,
          1.2167229652404785,
          -0.9310979247093201,
          5.107460021972656,
          -5.280213356018066,
          -5.714324951171875,
          0.9772854447364807,
          -4.625739097595215,
          5.73280668258667,
          -5.851230144500732,
          0.9999866485595703
         ],
         "z": [
          -2.357098340988159,
          3.692709445953369,
          5.644056797027588,
          -2.0663716793060303,
          2.1834094524383545,
          3.65781569480896,
          7.269845485687256,
          7.395148277282715,
          -7.180903434753418,
          -2.8978397846221924,
          4.657966613769531,
          -1.1361602544784546
         ]
        },
        {
         "hovertemplate": "color=Henicorhina<br>TSNE1=%{x}<br>TSNE2=%{y}<br>TSNE3=%{z}<extra></extra>",
         "legendgroup": "Henicorhina",
         "marker": {
          "color": "#FECB52",
          "symbol": "circle"
         },
         "mode": "markers",
         "name": "Henicorhina",
         "scene": "scene",
         "showlegend": true,
         "type": "scatter3d",
         "x": [
          -3.443349838256836,
          -6.016953945159912
         ],
         "y": [
          9.544687271118164,
          4.219302177429199
         ],
         "z": [
          -0.05335521697998047,
          5.60951566696167
         ]
        },
        {
         "hovertemplate": "color=Herpetotheres<br>TSNE1=%{x}<br>TSNE2=%{y}<br>TSNE3=%{z}<extra></extra>",
         "legendgroup": "Herpetotheres",
         "marker": {
          "color": "#636efa",
          "symbol": "circle"
         },
         "mode": "markers",
         "name": "Herpetotheres",
         "scene": "scene",
         "showlegend": true,
         "type": "scatter3d",
         "x": [
          -3.4349172115325928,
          -3.591991662979126
         ],
         "y": [
          3.9250547885894775,
          -0.4340769052505493
         ],
         "z": [
          -7.454511642456055,
          5.585091590881348
         ]
        },
        {
         "hovertemplate": "color=Herpsilochmus<br>TSNE1=%{x}<br>TSNE2=%{y}<br>TSNE3=%{z}<extra></extra>",
         "legendgroup": "Herpsilochmus",
         "marker": {
          "color": "#EF553B",
          "symbol": "circle"
         },
         "mode": "markers",
         "name": "Herpsilochmus",
         "scene": "scene",
         "showlegend": true,
         "type": "scatter3d",
         "x": [
          9.590170860290527,
          -1.65947687625885,
          5.902270793914795,
          6.273672580718994,
          1.385718584060669,
          4.961320877075195
         ],
         "y": [
          -8.515082359313965,
          -2.3206613063812256,
          -3.42783522605896,
          -2.6615054607391357,
          -3.07165789604187,
          -3.561922550201416
         ],
         "z": [
          -0.5540328025817871,
          7.251474857330322,
          1.9712668657302856,
          3.149677276611328,
          -1.9090170860290527,
          5.625043869018555
         ]
        },
        {
         "hovertemplate": "color=Heterocercus<br>TSNE1=%{x}<br>TSNE2=%{y}<br>TSNE3=%{z}<extra></extra>",
         "legendgroup": "Heterocercus",
         "marker": {
          "color": "#00cc96",
          "symbol": "circle"
         },
         "mode": "markers",
         "name": "Heterocercus",
         "scene": "scene",
         "showlegend": true,
         "type": "scatter3d",
         "x": [
          -0.04822130128741264
         ],
         "y": [
          -0.021226201206445694
         ],
         "z": [
          1.5585383176803589
         ]
        },
        {
         "hovertemplate": "color=Himantopus<br>TSNE1=%{x}<br>TSNE2=%{y}<br>TSNE3=%{z}<extra></extra>",
         "legendgroup": "Himantopus",
         "marker": {
          "color": "#ab63fa",
          "symbol": "circle"
         },
         "mode": "markers",
         "name": "Himantopus",
         "scene": "scene",
         "showlegend": true,
         "type": "scatter3d",
         "x": [
          4.23014497756958,
          4.921011447906494,
          5.045425891876221
         ],
         "y": [
          -0.9184359312057495,
          -1.8125731945037842,
          -3.7826147079467773
         ],
         "z": [
          7.868987083435059,
          1.2056070566177368,
          5.345119953155518
         ]
        },
        {
         "hovertemplate": "color=Hirundinea<br>TSNE1=%{x}<br>TSNE2=%{y}<br>TSNE3=%{z}<extra></extra>",
         "legendgroup": "Hirundinea",
         "marker": {
          "color": "#FFA15A",
          "symbol": "circle"
         },
         "mode": "markers",
         "name": "Hirundinea",
         "scene": "scene",
         "showlegend": true,
         "type": "scatter3d",
         "x": [
          -3.463984966278076,
          3.4674408435821533,
          -6.915670394897461,
          -5.5334978103637695
         ],
         "y": [
          -1.2966206073760986,
          0.7838871479034424,
          8.340452194213867,
          3.1494150161743164
         ],
         "z": [
          -7.102623462677002,
          7.206132888793945,
          -0.6445152759552002,
          2.0493454933166504
         ]
        },
        {
         "hovertemplate": "color=Hydropsalis<br>TSNE1=%{x}<br>TSNE2=%{y}<br>TSNE3=%{z}<extra></extra>",
         "legendgroup": "Hydropsalis",
         "marker": {
          "color": "#19d3f3",
          "symbol": "circle"
         },
         "mode": "markers",
         "name": "Hydropsalis",
         "scene": "scene",
         "showlegend": true,
         "type": "scatter3d",
         "x": [
          -6.228736877441406,
          -2.84706449508667,
          -6.331027030944824,
          -3.955691337585449,
          10.806673049926758
         ],
         "y": [
          4.226831436157227,
          6.005844593048096,
          5.240334987640381,
          2.379232883453369,
          -2.105776071548462
         ],
         "z": [
          3.556074857711792,
          -3.563920736312866,
          3.827214002609253,
          1.0703349113464355,
          -2.6793124675750732
         ]
        },
        {
         "hovertemplate": "color=Hylexetastes<br>TSNE1=%{x}<br>TSNE2=%{y}<br>TSNE3=%{z}<extra></extra>",
         "legendgroup": "Hylexetastes",
         "marker": {
          "color": "#FF6692",
          "symbol": "circle"
         },
         "mode": "markers",
         "name": "Hylexetastes",
         "scene": "scene",
         "showlegend": true,
         "type": "scatter3d",
         "x": [
          10.053122520446777,
          -4.10825777053833,
          -5.387475490570068,
          6.6622090339660645
         ],
         "y": [
          -1.412645697593689,
          1.4996836185455322,
          8.166528701782227,
          -2.734966278076172
         ],
         "z": [
          -1.6979016065597534,
          -8.521273612976074,
          -2.035489082336426,
          4.0433735847473145
         ]
        },
        {
         "hovertemplate": "color=Hylopezus<br>TSNE1=%{x}<br>TSNE2=%{y}<br>TSNE3=%{z}<extra></extra>",
         "legendgroup": "Hylopezus",
         "marker": {
          "color": "#B6E880",
          "symbol": "circle"
         },
         "mode": "markers",
         "name": "Hylopezus",
         "scene": "scene",
         "showlegend": true,
         "type": "scatter3d",
         "x": [
          -2.6977803707122803
         ],
         "y": [
          6.942572116851807
         ],
         "z": [
          -3.827758550643921
         ]
        },
        {
         "hovertemplate": "color=Hylophilus<br>TSNE1=%{x}<br>TSNE2=%{y}<br>TSNE3=%{z}<extra></extra>",
         "legendgroup": "Hylophilus",
         "marker": {
          "color": "#FF97FF",
          "symbol": "circle"
         },
         "mode": "markers",
         "name": "Hylophilus",
         "scene": "scene",
         "showlegend": true,
         "type": "scatter3d",
         "x": [
          0.6252323389053345,
          -2.4233834743499756
         ],
         "y": [
          1.501128911972046,
          2.691132068634033
         ],
         "z": [
          7.723626613616943,
          -8.115530967712402
         ]
        },
        {
         "hovertemplate": "color=Hylophylax<br>TSNE1=%{x}<br>TSNE2=%{y}<br>TSNE3=%{z}<extra></extra>",
         "legendgroup": "Hylophylax",
         "marker": {
          "color": "#FECB52",
          "symbol": "circle"
         },
         "mode": "markers",
         "name": "Hylophylax",
         "scene": "scene",
         "showlegend": true,
         "type": "scatter3d",
         "x": [
          4.089553356170654,
          -1.0993908643722534,
          3.2445180416107178
         ],
         "y": [
          -2.3055293560028076,
          -2.829519033432007,
          -4.050604820251465
         ],
         "z": [
          6.524590492248535,
          6.9555439949035645,
          5.976527690887451
         ]
        },
        {
         "hovertemplate": "color=Hypocnemis<br>TSNE1=%{x}<br>TSNE2=%{y}<br>TSNE3=%{z}<extra></extra>",
         "legendgroup": "Hypocnemis",
         "marker": {
          "color": "#636efa",
          "symbol": "circle"
         },
         "mode": "markers",
         "name": "Hypocnemis",
         "scene": "scene",
         "showlegend": true,
         "type": "scatter3d",
         "x": [
          3.2370948791503906,
          4.690332889556885,
          -0.6344103217124939,
          -3.5753138065338135,
          -4.428596019744873
         ],
         "y": [
          -7.421195030212402,
          -0.19474084675312042,
          -5.198317527770996,
          -0.6281275153160095,
          4.538333892822266
         ],
         "z": [
          -5.165537357330322,
          -0.06554757058620453,
          7.925033092498779,
          5.747594356536865,
          1.2114111185073853
         ]
        },
        {
         "hovertemplate": "color=Hypocnemoides<br>TSNE1=%{x}<br>TSNE2=%{y}<br>TSNE3=%{z}<extra></extra>",
         "legendgroup": "Hypocnemoides",
         "marker": {
          "color": "#EF553B",
          "symbol": "circle"
         },
         "mode": "markers",
         "name": "Hypocnemoides",
         "scene": "scene",
         "showlegend": true,
         "type": "scatter3d",
         "x": [
          6.297897815704346,
          -1.965436339378357
         ],
         "y": [
          1.3556196689605713,
          -3.9981558322906494
         ],
         "z": [
          0.19116051495075226,
          4.442789077758789
         ]
        },
        {
         "hovertemplate": "color=Ibycter<br>TSNE1=%{x}<br>TSNE2=%{y}<br>TSNE3=%{z}<extra></extra>",
         "legendgroup": "Ibycter",
         "marker": {
          "color": "#00cc96",
          "symbol": "circle"
         },
         "mode": "markers",
         "name": "Ibycter",
         "scene": "scene",
         "showlegend": true,
         "type": "scatter3d",
         "x": [
          6.542366027832031
         ],
         "y": [
          -2.9636929035186768
         ],
         "z": [
          3.614502429962158
         ]
        },
        {
         "hovertemplate": "color=Icterus<br>TSNE1=%{x}<br>TSNE2=%{y}<br>TSNE3=%{z}<extra></extra>",
         "legendgroup": "Icterus",
         "marker": {
          "color": "#ab63fa",
          "symbol": "circle"
         },
         "mode": "markers",
         "name": "Icterus",
         "scene": "scene",
         "showlegend": true,
         "type": "scatter3d",
         "x": [
          -1.6350431442260742,
          -1.512142300605774,
          -1.1125457286834717
         ],
         "y": [
          -1.8307615518569946,
          -5.098348140716553,
          -4.138359546661377
         ],
         "z": [
          2.5215961933135986,
          -7.041863918304443,
          -3.6592493057250977
         ]
        },
        {
         "hovertemplate": "color=Ictinia<br>TSNE1=%{x}<br>TSNE2=%{y}<br>TSNE3=%{z}<extra></extra>",
         "legendgroup": "Ictinia",
         "marker": {
          "color": "#FFA15A",
          "symbol": "circle"
         },
         "mode": "markers",
         "name": "Ictinia",
         "scene": "scene",
         "showlegend": true,
         "type": "scatter3d",
         "x": [
          -1.2350785732269287,
          -4.58799409866333,
          -1.2934441566467285,
          -3.935640811920166,
          -2.7667224407196045
         ],
         "y": [
          -5.113897323608398,
          6.855668067932129,
          -5.159486293792725,
          6.670015811920166,
          -4.303335189819336
         ],
         "z": [
          -6.03320837020874,
          -4.136694431304932,
          -6.666746616363525,
          1.3984295129776,
          -4.5752668380737305
         ]
        },
        {
         "hovertemplate": "color=Inezia<br>TSNE1=%{x}<br>TSNE2=%{y}<br>TSNE3=%{z}<extra></extra>",
         "legendgroup": "Inezia",
         "marker": {
          "color": "#19d3f3",
          "symbol": "circle"
         },
         "mode": "markers",
         "name": "Inezia",
         "scene": "scene",
         "showlegend": true,
         "type": "scatter3d",
         "x": [
          8.871343612670898,
          -2.734306573867798,
          -2.5521316528320312
         ],
         "y": [
          -8.176260948181152,
          4.330753803253174,
          -4.600921154022217
         ],
         "z": [
          -0.7118653655052185,
          7.468982219696045,
          -4.9463019371032715
         ]
        },
        {
         "hovertemplate": "color=Iodopleura<br>TSNE1=%{x}<br>TSNE2=%{y}<br>TSNE3=%{z}<extra></extra>",
         "legendgroup": "Iodopleura",
         "marker": {
          "color": "#FF6692",
          "symbol": "circle"
         },
         "mode": "markers",
         "name": "Iodopleura",
         "scene": "scene",
         "showlegend": true,
         "type": "scatter3d",
         "x": [
          4.2910990715026855,
          4.885638236999512,
          -1.8912608623504639
         ],
         "y": [
          -4.228641033172607,
          -0.2756193280220032,
          0.3326584994792938
         ],
         "z": [
          2.075543165206909,
          6.328634262084961,
          8.29504680633545
         ]
        },
        {
         "hovertemplate": "color=Iridophanes<br>TSNE1=%{x}<br>TSNE2=%{y}<br>TSNE3=%{z}<extra></extra>",
         "legendgroup": "Iridophanes",
         "marker": {
          "color": "#B6E880",
          "symbol": "circle"
         },
         "mode": "markers",
         "name": "Iridophanes",
         "scene": "scene",
         "showlegend": true,
         "type": "scatter3d",
         "x": [
          -0.2613319158554077
         ],
         "y": [
          -0.9035314917564392
         ],
         "z": [
          7.782155513763428
         ]
        },
        {
         "hovertemplate": "color=Iridosornis<br>TSNE1=%{x}<br>TSNE2=%{y}<br>TSNE3=%{z}<extra></extra>",
         "legendgroup": "Iridosornis",
         "marker": {
          "color": "#FF97FF",
          "symbol": "circle"
         },
         "mode": "markers",
         "name": "Iridosornis",
         "scene": "scene",
         "showlegend": true,
         "type": "scatter3d",
         "x": [
          -1.347865343093872,
          -1.7567476034164429,
          -0.9180801510810852,
          9.573945045471191,
          -2.2574615478515625,
          6.456444263458252
         ],
         "y": [
          5.465003490447998,
          -2.63649582862854,
          3.5544891357421875,
          -1.103801965713501,
          6.2924580574035645,
          1.4249699115753174
         ],
         "z": [
          0.9276925921440125,
          5.96414852142334,
          -4.702683925628662,
          -1.7886183261871338,
          1.2168651819229126,
          0.16106511652469635
         ]
        },
        {
         "hovertemplate": "color=Isleria<br>TSNE1=%{x}<br>TSNE2=%{y}<br>TSNE3=%{z}<extra></extra>",
         "legendgroup": "Isleria",
         "marker": {
          "color": "#FECB52",
          "symbol": "circle"
         },
         "mode": "markers",
         "name": "Isleria",
         "scene": "scene",
         "showlegend": true,
         "type": "scatter3d",
         "x": [
          -2.5021252632141113,
          -5.139536380767822
         ],
         "y": [
          0.18848128616809845,
          3.0572731494903564
         ],
         "z": [
          -7.087510108947754,
          5.694075107574463
         ]
        },
        {
         "hovertemplate": "color=Ixobrychus<br>TSNE1=%{x}<br>TSNE2=%{y}<br>TSNE3=%{z}<extra></extra>",
         "legendgroup": "Ixobrychus",
         "marker": {
          "color": "#636efa",
          "symbol": "circle"
         },
         "mode": "markers",
         "name": "Ixobrychus",
         "scene": "scene",
         "showlegend": true,
         "type": "scatter3d",
         "x": [
          -4.588285446166992,
          -3.928593397140503,
          6.957218647003174
         ],
         "y": [
          5.30682373046875,
          -2.559075355529785,
          -7.884174346923828
         ],
         "z": [
          -4.37684440612793,
          -8.225605010986328,
          -1.0950109958648682
         ]
        },
        {
         "hovertemplate": "color=Jabiru<br>TSNE1=%{x}<br>TSNE2=%{y}<br>TSNE3=%{z}<extra></extra>",
         "legendgroup": "Jabiru",
         "marker": {
          "color": "#EF553B",
          "symbol": "circle"
         },
         "mode": "markers",
         "name": "Jabiru",
         "scene": "scene",
         "showlegend": true,
         "type": "scatter3d",
         "x": [
          -4.1790056228637695,
          -0.4484126567840576
         ],
         "y": [
          1.7338829040527344,
          5.2744646072387695
         ],
         "z": [
          -9.037738800048828,
          0.2319072037935257
         ]
        },
        {
         "hovertemplate": "color=Jacamerops<br>TSNE1=%{x}<br>TSNE2=%{y}<br>TSNE3=%{z}<extra></extra>",
         "legendgroup": "Jacamerops",
         "marker": {
          "color": "#00cc96",
          "symbol": "circle"
         },
         "mode": "markers",
         "name": "Jacamerops",
         "scene": "scene",
         "showlegend": true,
         "type": "scatter3d",
         "x": [
          4.40956974029541,
          -4.881771564483643,
          3.5836524963378906
         ],
         "y": [
          1.5620598793029785,
          4.898683071136475,
          -8.130475044250488
         ],
         "z": [
          6.489699840545654,
          -5.469379425048828,
          -4.257824897766113
         ]
        },
        {
         "hovertemplate": "color=Jacana<br>TSNE1=%{x}<br>TSNE2=%{y}<br>TSNE3=%{z}<extra></extra>",
         "legendgroup": "Jacana",
         "marker": {
          "color": "#ab63fa",
          "symbol": "circle"
         },
         "mode": "markers",
         "name": "Jacana",
         "scene": "scene",
         "showlegend": true,
         "type": "scatter3d",
         "x": [
          0.25675225257873535
         ],
         "y": [
          -2.6434855461120605
         ],
         "z": [
          -2.548617362976074
         ]
        },
        {
         "hovertemplate": "color=Klais<br>TSNE1=%{x}<br>TSNE2=%{y}<br>TSNE3=%{z}<extra></extra>",
         "legendgroup": "Klais",
         "marker": {
          "color": "#FFA15A",
          "symbol": "circle"
         },
         "mode": "markers",
         "name": "Klais",
         "scene": "scene",
         "showlegend": true,
         "type": "scatter3d",
         "x": [
          -2.3899409770965576
         ],
         "y": [
          -0.1441766768693924
         ],
         "z": [
          2.2311439514160156
         ]
        },
        {
         "hovertemplate": "color=Knipolegus<br>TSNE1=%{x}<br>TSNE2=%{y}<br>TSNE3=%{z}<extra></extra>",
         "legendgroup": "Knipolegus",
         "marker": {
          "color": "#19d3f3",
          "symbol": "circle"
         },
         "mode": "markers",
         "name": "Knipolegus",
         "scene": "scene",
         "showlegend": true,
         "type": "scatter3d",
         "x": [
          5.823898792266846,
          0.6321541666984558,
          5.380529880523682,
          1.1842033863067627,
          -2.3019111156463623,
          -2.7310473918914795
         ],
         "y": [
          -7.941125869750977,
          -3.90800142288208,
          -5.327919960021973,
          -5.4929890632629395,
          3.7254045009613037,
          0.8801735639572144
         ],
         "z": [
          -1.5190731287002563,
          -2.520686149597168,
          -3.538243532180786,
          1.9954193830490112,
          -7.346804618835449,
          4.586581230163574
         ]
        },
        {
         "hovertemplate": "color=Lamprospiza<br>TSNE1=%{x}<br>TSNE2=%{y}<br>TSNE3=%{z}<extra></extra>",
         "legendgroup": "Lamprospiza",
         "marker": {
          "color": "#FF6692",
          "symbol": "circle"
         },
         "mode": "markers",
         "name": "Lamprospiza",
         "scene": "scene",
         "showlegend": true,
         "type": "scatter3d",
         "x": [
          4.404399871826172,
          -1.2112810611724854
         ],
         "y": [
          -0.3391721248626709,
          -5.00493860244751
         ],
         "z": [
          -0.5468061566352844,
          6.331855773925781
         ]
        },
        {
         "hovertemplate": "color=Laniisoma<br>TSNE1=%{x}<br>TSNE2=%{y}<br>TSNE3=%{z}<extra></extra>",
         "legendgroup": "Laniisoma",
         "marker": {
          "color": "#B6E880",
          "symbol": "circle"
         },
         "mode": "markers",
         "name": "Laniisoma",
         "scene": "scene",
         "showlegend": true,
         "type": "scatter3d",
         "x": [
          4.300419807434082,
          3.0599005222320557
         ],
         "y": [
          0.7825531959533691,
          -4.541680335998535
         ],
         "z": [
          -0.8485905528068542,
          1.9984062910079956
         ]
        },
        {
         "hovertemplate": "color=Lanio<br>TSNE1=%{x}<br>TSNE2=%{y}<br>TSNE3=%{z}<extra></extra>",
         "legendgroup": "Lanio",
         "marker": {
          "color": "#FF97FF",
          "symbol": "circle"
         },
         "mode": "markers",
         "name": "Lanio",
         "scene": "scene",
         "showlegend": true,
         "type": "scatter3d",
         "x": [
          -4.9145941734313965,
          -2.490633487701416
         ],
         "y": [
          3.5146093368530273,
          -2.0373895168304443
         ],
         "z": [
          1.2176356315612793,
          3.9541428089141846
         ]
        },
        {
         "hovertemplate": "color=Laniocera<br>TSNE1=%{x}<br>TSNE2=%{y}<br>TSNE3=%{z}<extra></extra>",
         "legendgroup": "Laniocera",
         "marker": {
          "color": "#FECB52",
          "symbol": "circle"
         },
         "mode": "markers",
         "name": "Laniocera",
         "scene": "scene",
         "showlegend": true,
         "type": "scatter3d",
         "x": [
          6.710381507873535
         ],
         "y": [
          -3.486072063446045
         ],
         "z": [
          4.5454912185668945
         ]
        },
        {
         "hovertemplate": "color=Laterallus<br>TSNE1=%{x}<br>TSNE2=%{y}<br>TSNE3=%{z}<extra></extra>",
         "legendgroup": "Laterallus",
         "marker": {
          "color": "#636efa",
          "symbol": "circle"
         },
         "mode": "markers",
         "name": "Laterallus",
         "scene": "scene",
         "showlegend": true,
         "type": "scatter3d",
         "x": [
          -0.19025808572769165,
          -2.3179612159729004
         ],
         "y": [
          -5.354576110839844,
          0.6419413089752197
         ],
         "z": [
          -6.742904186248779,
          8.3916597366333
         ]
        },
        {
         "hovertemplate": "color=Lathrotriccus<br>TSNE1=%{x}<br>TSNE2=%{y}<br>TSNE3=%{z}<extra></extra>",
         "legendgroup": "Lathrotriccus",
         "marker": {
          "color": "#EF553B",
          "symbol": "circle"
         },
         "mode": "markers",
         "name": "Lathrotriccus",
         "scene": "scene",
         "showlegend": true,
         "type": "scatter3d",
         "x": [
          6.346766948699951,
          -2.9902305603027344
         ],
         "y": [
          -2.708956241607666,
          0.7502791285514832
         ],
         "z": [
          4.876157283782959,
          7.684516906738281
         ]
        },
        {
         "hovertemplate": "color=Legatus<br>TSNE1=%{x}<br>TSNE2=%{y}<br>TSNE3=%{z}<extra></extra>",
         "legendgroup": "Legatus",
         "marker": {
          "color": "#00cc96",
          "symbol": "circle"
         },
         "mode": "markers",
         "name": "Legatus",
         "scene": "scene",
         "showlegend": true,
         "type": "scatter3d",
         "x": [
          4.4156975746154785,
          6.027603626251221
         ],
         "y": [
          -4.3297200202941895,
          -0.9994519352912903
         ],
         "z": [
          2.298137664794922,
          5.466104507446289
         ]
        },
        {
         "hovertemplate": "color=Leistes<br>TSNE1=%{x}<br>TSNE2=%{y}<br>TSNE3=%{z}<extra></extra>",
         "legendgroup": "Leistes",
         "marker": {
          "color": "#ab63fa",
          "symbol": "circle"
         },
         "mode": "markers",
         "name": "Leistes",
         "scene": "scene",
         "showlegend": true,
         "type": "scatter3d",
         "x": [
          -0.6133372187614441,
          -2.7029569149017334
         ],
         "y": [
          2.3892126083374023,
          6.3671488761901855
         ],
         "z": [
          -5.309140205383301,
          1.351147174835205
         ]
        },
        {
         "hovertemplate": "color=Lepidocolaptes<br>TSNE1=%{x}<br>TSNE2=%{y}<br>TSNE3=%{z}<extra></extra>",
         "legendgroup": "Lepidocolaptes",
         "marker": {
          "color": "#FFA15A",
          "symbol": "circle"
         },
         "mode": "markers",
         "name": "Lepidocolaptes",
         "scene": "scene",
         "showlegend": true,
         "type": "scatter3d",
         "x": [
          7.821300029754639,
          7.019826412200928,
          4.035063743591309
         ],
         "y": [
          -7.986457824707031,
          1.1338061094284058,
          -2.910628318786621
         ],
         "z": [
          -0.9064681529998779,
          -0.8863365650177002,
          6.345912933349609
         ]
        },
        {
         "hovertemplate": "color=Lepidothrix<br>TSNE1=%{x}<br>TSNE2=%{y}<br>TSNE3=%{z}<extra></extra>",
         "legendgroup": "Lepidothrix",
         "marker": {
          "color": "#19d3f3",
          "symbol": "circle"
         },
         "mode": "markers",
         "name": "Lepidothrix",
         "scene": "scene",
         "showlegend": true,
         "type": "scatter3d",
         "x": [
          -1.9204427003860474,
          -0.4242236912250519,
          -2.4279119968414307,
          -4.441287040710449,
          -7.100944519042969,
          -1.5546144247055054,
          7.36327600479126
         ],
         "y": [
          0.4012676179409027,
          -3.796757698059082,
          -3.2703909873962402,
          4.878748416900635,
          1.9986625909805298,
          -4.70018196105957,
          1.4249343872070312
         ],
         "z": [
          2.334580898284912,
          -2.9698586463928223,
          7.393622398376465,
          -5.546003341674805,
          -5.267771244049072,
          -4.499302387237549,
          0.9207684993743896
         ]
        },
        {
         "hovertemplate": "color=Leptodon<br>TSNE1=%{x}<br>TSNE2=%{y}<br>TSNE3=%{z}<extra></extra>",
         "legendgroup": "Leptodon",
         "marker": {
          "color": "#FF6692",
          "symbol": "circle"
         },
         "mode": "markers",
         "name": "Leptodon",
         "scene": "scene",
         "showlegend": true,
         "type": "scatter3d",
         "x": [
          0.8104287385940552,
          -3.7614874839782715
         ],
         "y": [
          -5.367226600646973,
          -1.8733415603637695
         ],
         "z": [
          2.5374207496643066,
          -7.42823600769043
         ]
        },
        {
         "hovertemplate": "color=Leptopogon<br>TSNE1=%{x}<br>TSNE2=%{y}<br>TSNE3=%{z}<extra></extra>",
         "legendgroup": "Leptopogon",
         "marker": {
          "color": "#B6E880",
          "symbol": "circle"
         },
         "mode": "markers",
         "name": "Leptopogon",
         "scene": "scene",
         "showlegend": true,
         "type": "scatter3d",
         "x": [
          5.098726272583008,
          4.463423252105713,
          -0.9034491777420044,
          -0.7631950974464417,
          -2.0080783367156982,
          -1.9564428329467773,
          -6.445393085479736
         ],
         "y": [
          -8.138331413269043,
          -8.400480270385742,
          4.135744094848633,
          -5.066374778747559,
          -4.297674655914307,
          -2.696667432785034,
          4.740328788757324
         ],
         "z": [
          -1.9876080751419067,
          -2.579602003097534,
          -2.376640796661377,
          -5.9607744216918945,
          2.518096923828125,
          7.615633487701416,
          -3.957524061203003
         ]
        },
        {
         "hovertemplate": "color=Leptosittaca<br>TSNE1=%{x}<br>TSNE2=%{y}<br>TSNE3=%{z}<extra></extra>",
         "legendgroup": "Leptosittaca",
         "marker": {
          "color": "#FF97FF",
          "symbol": "circle"
         },
         "mode": "markers",
         "name": "Leptosittaca",
         "scene": "scene",
         "showlegend": true,
         "type": "scatter3d",
         "x": [
          -1.2486149072647095,
          1.5662873983383179
         ],
         "y": [
          -1.7863929271697998,
          -4.384276866912842
         ],
         "z": [
          -2.957287549972534,
          -2.4684689044952393
         ]
        },
        {
         "hovertemplate": "color=Leptotila<br>TSNE1=%{x}<br>TSNE2=%{y}<br>TSNE3=%{z}<extra></extra>",
         "legendgroup": "Leptotila",
         "marker": {
          "color": "#FECB52",
          "symbol": "circle"
         },
         "mode": "markers",
         "name": "Leptotila",
         "scene": "scene",
         "showlegend": true,
         "type": "scatter3d",
         "x": [
          0.6634390354156494,
          0.3791216015815735,
          -2.5352394580841064,
          -6.006863594055176
         ],
         "y": [
          -5.967381000518799,
          -5.840541839599609,
          1.9805248975753784,
          5.53249979019165
         ],
         "z": [
          7.382213115692139,
          7.485103130340576,
          1.9910980463027954,
          2.2066750526428223
         ]
        },
        {
         "hovertemplate": "color=Leucopternis<br>TSNE1=%{x}<br>TSNE2=%{y}<br>TSNE3=%{z}<extra></extra>",
         "legendgroup": "Leucopternis",
         "marker": {
          "color": "#636efa",
          "symbol": "circle"
         },
         "mode": "markers",
         "name": "Leucopternis",
         "scene": "scene",
         "showlegend": true,
         "type": "scatter3d",
         "x": [
          0.07365640997886658,
          -5.45229959487915,
          -3.116206645965576,
          -3.419006824493408
         ],
         "y": [
          -2.3685097694396973,
          0.8311131000518799,
          5.916670799255371,
          2.9251515865325928
         ],
         "z": [
          -2.5858805179595947,
          -8.056632995605469,
          -2.924774169921875,
          -2.70332670211792
         ]
        },
        {
         "hovertemplate": "color=Limnodromus<br>TSNE1=%{x}<br>TSNE2=%{y}<br>TSNE3=%{z}<extra></extra>",
         "legendgroup": "Limnodromus",
         "marker": {
          "color": "#EF553B",
          "symbol": "circle"
         },
         "mode": "markers",
         "name": "Limnodromus",
         "scene": "scene",
         "showlegend": true,
         "type": "scatter3d",
         "x": [
          4.60687780380249
         ],
         "y": [
          -3.3456242084503174
         ],
         "z": [
          5.911252021789551
         ]
        },
        {
         "hovertemplate": "color=Limosa<br>TSNE1=%{x}<br>TSNE2=%{y}<br>TSNE3=%{z}<extra></extra>",
         "legendgroup": "Limosa",
         "marker": {
          "color": "#00cc96",
          "symbol": "circle"
         },
         "mode": "markers",
         "name": "Limosa",
         "scene": "scene",
         "showlegend": true,
         "type": "scatter3d",
         "x": [
          -1.0974884033203125,
          -6.310885429382324
         ],
         "y": [
          6.584018707275391,
          2.488374948501587
         ],
         "z": [
          0.8323484659194946,
          5.258781433105469
         ]
        },
        {
         "hovertemplate": "color=Liosceles<br>TSNE1=%{x}<br>TSNE2=%{y}<br>TSNE3=%{z}<extra></extra>",
         "legendgroup": "Liosceles",
         "marker": {
          "color": "#ab63fa",
          "symbol": "circle"
         },
         "mode": "markers",
         "name": "Liosceles",
         "scene": "scene",
         "showlegend": true,
         "type": "scatter3d",
         "x": [
          4.525943756103516,
          10.580852508544922,
          -6.245648384094238
         ],
         "y": [
          -0.8495259881019592,
          -1.9519909620285034,
          1.2820806503295898
         ],
         "z": [
          -1.2804136276245117,
          -2.4283154010772705,
          -7.335232734680176
         ]
        },
        {
         "hovertemplate": "color=Lochmias<br>TSNE1=%{x}<br>TSNE2=%{y}<br>TSNE3=%{z}<extra></extra>",
         "legendgroup": "Lochmias",
         "marker": {
          "color": "#FFA15A",
          "symbol": "circle"
         },
         "mode": "markers",
         "name": "Lochmias",
         "scene": "scene",
         "showlegend": true,
         "type": "scatter3d",
         "x": [
          9.01253604888916,
          -2.344503402709961
         ],
         "y": [
          0.15055404603481293,
          7.155901908874512
         ],
         "z": [
          -0.8259482383728027,
          0.9826727509498596
         ]
        },
        {
         "hovertemplate": "color=Lophornis<br>TSNE1=%{x}<br>TSNE2=%{y}<br>TSNE3=%{z}<extra></extra>",
         "legendgroup": "Lophornis",
         "marker": {
          "color": "#19d3f3",
          "symbol": "circle"
         },
         "mode": "markers",
         "name": "Lophornis",
         "scene": "scene",
         "showlegend": true,
         "type": "scatter3d",
         "x": [
          4.8972296714782715,
          -1.6268458366394043
         ],
         "y": [
          -4.423642158508301,
          -4.636911869049072
         ],
         "z": [
          -3.7454776763916016,
          -4.432033538818359
         ]
        },
        {
         "hovertemplate": "color=Lophostrix<br>TSNE1=%{x}<br>TSNE2=%{y}<br>TSNE3=%{z}<extra></extra>",
         "legendgroup": "Lophostrix",
         "marker": {
          "color": "#FF6692",
          "symbol": "circle"
         },
         "mode": "markers",
         "name": "Lophostrix",
         "scene": "scene",
         "showlegend": true,
         "type": "scatter3d",
         "x": [
          0.39183861017227173,
          10.218865394592285
         ],
         "y": [
          0.8738803863525391,
          -1.693654179573059
         ],
         "z": [
          -3.9225363731384277,
          -2.1193604469299316
         ]
        },
        {
         "hovertemplate": "color=Lophotriccus<br>TSNE1=%{x}<br>TSNE2=%{y}<br>TSNE3=%{z}<extra></extra>",
         "legendgroup": "Lophotriccus",
         "marker": {
          "color": "#B6E880",
          "symbol": "circle"
         },
         "mode": "markers",
         "name": "Lophotriccus",
         "scene": "scene",
         "showlegend": true,
         "type": "scatter3d",
         "x": [
          -5.690607070922852,
          3.396085023880005,
          3.021498441696167
         ],
         "y": [
          5.634042739868164,
          -4.244229793548584,
          -4.5651702880859375
         ],
         "z": [
          -4.602204322814941,
          -3.7492785453796387,
          -3.8823258876800537
         ]
        },
        {
         "hovertemplate": "color=Lurocalis<br>TSNE1=%{x}<br>TSNE2=%{y}<br>TSNE3=%{z}<extra></extra>",
         "legendgroup": "Lurocalis",
         "marker": {
          "color": "#FF97FF",
          "symbol": "circle"
         },
         "mode": "markers",
         "name": "Lurocalis",
         "scene": "scene",
         "showlegend": true,
         "type": "scatter3d",
         "x": [
          -2.4558615684509277,
          -6.781846523284912,
          -3.5464234352111816,
          1.6580002307891846,
          6.738833427429199
         ],
         "y": [
          5.391589641571045,
          7.316402435302734,
          0.2614925801753998,
          -4.534951210021973,
          -6.349678039550781
         ],
         "z": [
          1.4877643585205078,
          -0.6128366589546204,
          -8.05557632446289,
          -2.8138344287872314,
          -1.3536672592163086
         ]
        },
        {
         "hovertemplate": "color=Machaeropterus<br>TSNE1=%{x}<br>TSNE2=%{y}<br>TSNE3=%{z}<extra></extra>",
         "legendgroup": "Machaeropterus",
         "marker": {
          "color": "#FECB52",
          "symbol": "circle"
         },
         "mode": "markers",
         "name": "Machaeropterus",
         "scene": "scene",
         "showlegend": true,
         "type": "scatter3d",
         "x": [
          -0.9558877944946289,
          1.4035407304763794
         ],
         "y": [
          2.0698370933532715,
          -5.387052059173584
         ],
         "z": [
          8.510505676269531,
          3.9825713634490967
         ]
        },
        {
         "hovertemplate": "color=Malacoptila<br>TSNE1=%{x}<br>TSNE2=%{y}<br>TSNE3=%{z}<extra></extra>",
         "legendgroup": "Malacoptila",
         "marker": {
          "color": "#636efa",
          "symbol": "circle"
         },
         "mode": "markers",
         "name": "Malacoptila",
         "scene": "scene",
         "showlegend": true,
         "type": "scatter3d",
         "x": [
          -4.721985816955566,
          2.267031192779541,
          3.702796220779419,
          -5.436868667602539,
          0.8253345489501953
         ],
         "y": [
          3.0382120609283447,
          -5.704904079437256,
          -7.071259021759033,
          5.096009254455566,
          4.314187049865723
         ],
         "z": [
          5.930652618408203,
          -5.179178237915039,
          -4.714078903198242,
          1.8421363830566406,
          7.405261516571045
         ]
        },
        {
         "hovertemplate": "color=Margarornis<br>TSNE1=%{x}<br>TSNE2=%{y}<br>TSNE3=%{z}<extra></extra>",
         "legendgroup": "Margarornis",
         "marker": {
          "color": "#EF553B",
          "symbol": "circle"
         },
         "mode": "markers",
         "name": "Margarornis",
         "scene": "scene",
         "showlegend": true,
         "type": "scatter3d",
         "x": [
          -1.2507411241531372,
          -4.490860462188721
         ],
         "y": [
          6.865789413452148,
          1.9167178869247437
         ],
         "z": [
          0.8486630916595459,
          2.5065951347351074
         ]
        },
        {
         "hovertemplate": "color=Mazaria<br>TSNE1=%{x}<br>TSNE2=%{y}<br>TSNE3=%{z}<extra></extra>",
         "legendgroup": "Mazaria",
         "marker": {
          "color": "#00cc96",
          "symbol": "circle"
         },
         "mode": "markers",
         "name": "Mazaria",
         "scene": "scene",
         "showlegend": true,
         "type": "scatter3d",
         "x": [
          -1.5805631875991821
         ],
         "y": [
          -1.435991644859314
         ],
         "z": [
          7.667770862579346
         ]
        },
        {
         "hovertemplate": "color=Mecocerculus<br>TSNE1=%{x}<br>TSNE2=%{y}<br>TSNE3=%{z}<extra></extra>",
         "legendgroup": "Mecocerculus",
         "marker": {
          "color": "#ab63fa",
          "symbol": "circle"
         },
         "mode": "markers",
         "name": "Mecocerculus",
         "scene": "scene",
         "showlegend": true,
         "type": "scatter3d",
         "x": [
          10.961190223693848
         ],
         "y": [
          -2.1177713871002197
         ],
         "z": [
          -2.53678297996521
         ]
        },
        {
         "hovertemplate": "color=Megaceryle<br>TSNE1=%{x}<br>TSNE2=%{y}<br>TSNE3=%{z}<extra></extra>",
         "legendgroup": "Megaceryle",
         "marker": {
          "color": "#FFA15A",
          "symbol": "circle"
         },
         "mode": "markers",
         "name": "Megaceryle",
         "scene": "scene",
         "showlegend": true,
         "type": "scatter3d",
         "x": [
          -0.9074733853340149,
          -1.7065017223358154,
          4.407734394073486
         ],
         "y": [
          4.2397918701171875,
          -4.416308879852295,
          -8.418570518493652
         ],
         "z": [
          -2.2900028228759766,
          -8.982563972473145,
          -2.6475930213928223
         ]
        },
        {
         "hovertemplate": "color=Megarynchus<br>TSNE1=%{x}<br>TSNE2=%{y}<br>TSNE3=%{z}<extra></extra>",
         "legendgroup": "Megarynchus",
         "marker": {
          "color": "#19d3f3",
          "symbol": "circle"
         },
         "mode": "markers",
         "name": "Megarynchus",
         "scene": "scene",
         "showlegend": true,
         "type": "scatter3d",
         "x": [
          -5.227179050445557,
          -2.378782272338867
         ],
         "y": [
          6.940614223480225,
          4.305812835693359
         ],
         "z": [
          -0.2519708573818207,
          -6.219587326049805
         ]
        },
        {
         "hovertemplate": "color=Megascops<br>TSNE1=%{x}<br>TSNE2=%{y}<br>TSNE3=%{z}<extra></extra>",
         "legendgroup": "Megascops",
         "marker": {
          "color": "#FF6692",
          "symbol": "circle"
         },
         "mode": "markers",
         "name": "Megascops",
         "scene": "scene",
         "showlegend": true,
         "type": "scatter3d",
         "x": [
          -5.953795909881592,
          -2.724376916885376,
          6.746220111846924,
          6.464375019073486,
          4.920896530151367,
          -1.12794029712677
         ],
         "y": [
          4.698548793792725,
          4.364727020263672,
          -2.529158592224121,
          -2.407151222229004,
          -8.210221290588379,
          -0.6268110275268555
         ],
         "z": [
          4.988791465759277,
          7.372763156890869,
          4.359057903289795,
          4.98301362991333,
          -2.133066415786743,
          8.20215892791748
         ]
        },
        {
         "hovertemplate": "color=Melanerpes<br>TSNE1=%{x}<br>TSNE2=%{y}<br>TSNE3=%{z}<extra></extra>",
         "legendgroup": "Melanerpes",
         "marker": {
          "color": "#B6E880",
          "symbol": "circle"
         },
         "mode": "markers",
         "name": "Melanerpes",
         "scene": "scene",
         "showlegend": true,
         "type": "scatter3d",
         "x": [
          -5.133764743804932,
          2.9673335552215576,
          6.116025447845459
         ],
         "y": [
          5.970441818237305,
          -4.1751275062561035,
          -6.3021626472473145
         ],
         "z": [
          5.453103065490723,
          -3.3741073608398438,
          -1.7641496658325195
         ]
        },
        {
         "hovertemplate": "color=Mesembrinibis<br>TSNE1=%{x}<br>TSNE2=%{y}<br>TSNE3=%{z}<extra></extra>",
         "legendgroup": "Mesembrinibis",
         "marker": {
          "color": "#FF97FF",
          "symbol": "circle"
         },
         "mode": "markers",
         "name": "Mesembrinibis",
         "scene": "scene",
         "showlegend": true,
         "type": "scatter3d",
         "x": [
          -2.8414082527160645,
          0.6393426656723022
         ],
         "y": [
          -2.718397617340088,
          1.6892403364181519
         ],
         "z": [
          3.2062222957611084,
          8.030672073364258
         ]
        },
        {
         "hovertemplate": "color=Metallura<br>TSNE1=%{x}<br>TSNE2=%{y}<br>TSNE3=%{z}<extra></extra>",
         "legendgroup": "Metallura",
         "marker": {
          "color": "#FECB52",
          "symbol": "circle"
         },
         "mode": "markers",
         "name": "Metallura",
         "scene": "scene",
         "showlegend": true,
         "type": "scatter3d",
         "x": [
          1.258560299873352
         ],
         "y": [
          4.183690547943115
         ],
         "z": [
          -0.48727214336395264
         ]
        },
        {
         "hovertemplate": "color=Metopothrix<br>TSNE1=%{x}<br>TSNE2=%{y}<br>TSNE3=%{z}<extra></extra>",
         "legendgroup": "Metopothrix",
         "marker": {
          "color": "#636efa",
          "symbol": "circle"
         },
         "mode": "markers",
         "name": "Metopothrix",
         "scene": "scene",
         "showlegend": true,
         "type": "scatter3d",
         "x": [
          -0.4895012080669403,
          -6.6179423332214355,
          -2.067138671875
         ],
         "y": [
          1.1132795810699463,
          5.515697956085205,
          -0.3495219945907593
         ],
         "z": [
          1.5871450901031494,
          2.862809181213379,
          7.992396831512451
         ]
        },
        {
         "hovertemplate": "color=Metriopelia<br>TSNE1=%{x}<br>TSNE2=%{y}<br>TSNE3=%{z}<extra></extra>",
         "legendgroup": "Metriopelia",
         "marker": {
          "color": "#EF553B",
          "symbol": "circle"
         },
         "mode": "markers",
         "name": "Metriopelia",
         "scene": "scene",
         "showlegend": true,
         "type": "scatter3d",
         "x": [
          3.953745126724243,
          -0.7110394239425659
         ],
         "y": [
          -8.4085111618042,
          0.006929242983460426
         ],
         "z": [
          -3.3756134510040283,
          -4.670862674713135
         ]
        },
        {
         "hovertemplate": "color=Micrastur<br>TSNE1=%{x}<br>TSNE2=%{y}<br>TSNE3=%{z}<extra></extra>",
         "legendgroup": "Micrastur",
         "marker": {
          "color": "#00cc96",
          "symbol": "circle"
         },
         "mode": "markers",
         "name": "Micrastur",
         "scene": "scene",
         "showlegend": true,
         "type": "scatter3d",
         "x": [
          -3.059025287628174,
          4.344460964202881,
          -0.9561928510665894,
          -0.16977337002754211,
          -4.257580757141113,
          -2.8786773681640625,
          2.4243688583374023,
          8.913700103759766,
          3.0265464782714844,
          7.628500461578369,
          -2.366788864135742,
          -2.6284666061401367,
          -4.025924205780029,
          -2.578991651535034,
          0.23710985481739044
         ],
         "y": [
          2.7569639682769775,
          -2.166379928588867,
          5.288650989532471,
          -4.5564680099487305,
          6.573350429534912,
          5.112058639526367,
          -5.452597618103027,
          0.30171823501586914,
          -2.7901194095611572,
          0.6539607644081116,
          -5.4547505378723145,
          2.651940107345581,
          5.331700325012207,
          -4.218790531158447,
          -5.789056777954102
         ],
         "z": [
          6.504861831665039,
          6.402266025543213,
          0.7463317513465881,
          8.330190658569336,
          -3.18664288520813,
          6.926079273223877,
          -4.688333988189697,
          -0.712723433971405,
          6.83068323135376,
          -1.3809043169021606,
          3.69779896736145,
          7.685116767883301,
          -4.573790073394775,
          -4.336551666259766,
          7.541406631469727
         ]
        },
        {
         "hovertemplate": "color=Microbates<br>TSNE1=%{x}<br>TSNE2=%{y}<br>TSNE3=%{z}<extra></extra>",
         "legendgroup": "Microbates",
         "marker": {
          "color": "#ab63fa",
          "symbol": "circle"
         },
         "mode": "markers",
         "name": "Microbates",
         "scene": "scene",
         "showlegend": true,
         "type": "scatter3d",
         "x": [
          -3.0762767791748047,
          -6.291042327880859
         ],
         "y": [
          2.257228136062622,
          4.649104118347168
         ],
         "z": [
          6.901346683502197,
          3.9897372722625732
         ]
        },
        {
         "hovertemplate": "color=Microcerculus<br>TSNE1=%{x}<br>TSNE2=%{y}<br>TSNE3=%{z}<extra></extra>",
         "legendgroup": "Microcerculus",
         "marker": {
          "color": "#FFA15A",
          "symbol": "circle"
         },
         "mode": "markers",
         "name": "Microcerculus",
         "scene": "scene",
         "showlegend": true,
         "type": "scatter3d",
         "x": [
          -4.949657917022705,
          4.336053848266602,
          -1.9041650295257568,
          4.327718257904053
         ],
         "y": [
          5.602258205413818,
          -4.475289821624756,
          0.4097294509410858,
          -8.435659408569336
         ],
         "z": [
          -4.018214702606201,
          -3.963606357574463,
          -6.806271553039551,
          -2.746370792388916
         ]
        },
        {
         "hovertemplate": "color=Micromonacha<br>TSNE1=%{x}<br>TSNE2=%{y}<br>TSNE3=%{z}<extra></extra>",
         "legendgroup": "Micromonacha",
         "marker": {
          "color": "#19d3f3",
          "symbol": "circle"
         },
         "mode": "markers",
         "name": "Micromonacha",
         "scene": "scene",
         "showlegend": true,
         "type": "scatter3d",
         "x": [
          9.102866172790527,
          3.713404655456543
         ],
         "y": [
          -8.264686584472656,
          -8.280749320983887
         ],
         "z": [
          -0.6642672419548035,
          -3.909235715866089
         ]
        },
        {
         "hovertemplate": "color=Micropygia<br>TSNE1=%{x}<br>TSNE2=%{y}<br>TSNE3=%{z}<extra></extra>",
         "legendgroup": "Micropygia",
         "marker": {
          "color": "#FF6692",
          "symbol": "circle"
         },
         "mode": "markers",
         "name": "Micropygia",
         "scene": "scene",
         "showlegend": true,
         "type": "scatter3d",
         "x": [
          -2.1357228755950928,
          4.282320499420166,
          5.798651695251465,
          2.9833285808563232
         ],
         "y": [
          2.030816078186035,
          -4.7786712646484375,
          -2.85435152053833,
          1.6411306858062744
         ],
         "z": [
          -8.038602828979492,
          3.1423797607421875,
          2.053337812423706,
          7.282320976257324
         ]
        },
        {
         "hovertemplate": "color=Microrhopias<br>TSNE1=%{x}<br>TSNE2=%{y}<br>TSNE3=%{z}<extra></extra>",
         "legendgroup": "Microrhopias",
         "marker": {
          "color": "#B6E880",
          "symbol": "circle"
         },
         "mode": "markers",
         "name": "Microrhopias",
         "scene": "scene",
         "showlegend": true,
         "type": "scatter3d",
         "x": [
          2.900148630142212,
          0.9490551948547363
         ],
         "y": [
          -4.898220539093018,
          -5.973908424377441
         ],
         "z": [
          4.978906631469727,
          7.422467231750488
         ]
        },
        {
         "hovertemplate": "color=Microxenops<br>TSNE1=%{x}<br>TSNE2=%{y}<br>TSNE3=%{z}<extra></extra>",
         "legendgroup": "Microxenops",
         "marker": {
          "color": "#FF97FF",
          "symbol": "circle"
         },
         "mode": "markers",
         "name": "Microxenops",
         "scene": "scene",
         "showlegend": true,
         "type": "scatter3d",
         "x": [
          8.964225769042969,
          -3.293084144592285
         ],
         "y": [
          -8.207889556884766,
          4.7827677726745605
         ],
         "z": [
          -0.6932600736618042,
          -4.910961151123047
         ]
        },
        {
         "hovertemplate": "color=Milvago<br>TSNE1=%{x}<br>TSNE2=%{y}<br>TSNE3=%{z}<extra></extra>",
         "legendgroup": "Milvago",
         "marker": {
          "color": "#FECB52",
          "symbol": "circle"
         },
         "mode": "markers",
         "name": "Milvago",
         "scene": "scene",
         "showlegend": true,
         "type": "scatter3d",
         "x": [
          9.19843578338623,
          -2.3423798084259033,
          8.944269180297852,
          5.06308650970459,
          7.3247857093811035
         ],
         "y": [
          0.19873544573783875,
          2.4409377574920654,
          -8.200634956359863,
          -8.152471542358398,
          -7.924294948577881
         ],
         "z": [
          -0.36191511154174805,
          8.968424797058105,
          -0.69734787940979,
          -2.015702962875366,
          -1.011391282081604
         ]
        },
        {
         "hovertemplate": "color=Mimus<br>TSNE1=%{x}<br>TSNE2=%{y}<br>TSNE3=%{z}<extra></extra>",
         "legendgroup": "Mimus",
         "marker": {
          "color": "#636efa",
          "symbol": "circle"
         },
         "mode": "markers",
         "name": "Mimus",
         "scene": "scene",
         "showlegend": true,
         "type": "scatter3d",
         "x": [
          -4.823196887969971,
          -0.451579213142395,
          -4.79080057144165
         ],
         "y": [
          0.4326656758785248,
          -5.293874740600586,
          3.7696831226348877
         ],
         "z": [
          -8.158327102661133,
          -7.634340286254883,
          6.058348178863525
         ]
        },
        {
         "hovertemplate": "color=Mionectes<br>TSNE1=%{x}<br>TSNE2=%{y}<br>TSNE3=%{z}<extra></extra>",
         "legendgroup": "Mionectes",
         "marker": {
          "color": "#EF553B",
          "symbol": "circle"
         },
         "mode": "markers",
         "name": "Mionectes",
         "scene": "scene",
         "showlegend": true,
         "type": "scatter3d",
         "x": [
          -4.160806179046631,
          7.508814334869385,
          0.6210932731628418,
          -2.908910036087036,
          -6.592347621917725,
          -1.1785527467727661,
          -2.170766592025757,
          -1.5184730291366577
         ],
         "y": [
          8.46986198425293,
          0.7177526950836182,
          1.7025914192199707,
          -2.817737340927124,
          2.195599317550659,
          0.42744532227516174,
          -4.444800853729248,
          -4.614106178283691
         ],
         "z": [
          -1.7766473293304443,
          -1.3536505699157715,
          7.61978006362915,
          5.288100242614746,
          5.306769371032715,
          2.9104297161102295,
          6.501880168914795,
          2.7963547706604004
         ]
        },
        {
         "hovertemplate": "color=Mitu<br>TSNE1=%{x}<br>TSNE2=%{y}<br>TSNE3=%{z}<extra></extra>",
         "legendgroup": "Mitu",
         "marker": {
          "color": "#00cc96",
          "symbol": "circle"
         },
         "mode": "markers",
         "name": "Mitu",
         "scene": "scene",
         "showlegend": true,
         "type": "scatter3d",
         "x": [
          6.7281270027160645,
          7.125866413116455
         ],
         "y": [
          -2.8027377128601074,
          1.20529305934906
         ],
         "z": [
          4.2011919021606445,
          2.2915477752685547
         ]
        },
        {
         "hovertemplate": "color=Molothrus<br>TSNE1=%{x}<br>TSNE2=%{y}<br>TSNE3=%{z}<extra></extra>",
         "legendgroup": "Molothrus",
         "marker": {
          "color": "#ab63fa",
          "symbol": "circle"
         },
         "mode": "markers",
         "name": "Molothrus",
         "scene": "scene",
         "showlegend": true,
         "type": "scatter3d",
         "x": [
          12.043604850769043,
          -2.325002431869507,
          -1.6266518831253052,
          5.335203170776367,
          5.509908199310303
         ],
         "y": [
          -2.481816053390503,
          -2.07234787940979,
          -4.4357452392578125,
          -5.516617774963379,
          -4.571481227874756
         ],
         "z": [
          -3.282388687133789,
          3.6421172618865967,
          3.125241994857788,
          -3.565855026245117,
          -3.281193256378174
         ]
        },
        {
         "hovertemplate": "color=Momotus<br>TSNE1=%{x}<br>TSNE2=%{y}<br>TSNE3=%{z}<extra></extra>",
         "legendgroup": "Momotus",
         "marker": {
          "color": "#FFA15A",
          "symbol": "circle"
         },
         "mode": "markers",
         "name": "Momotus",
         "scene": "scene",
         "showlegend": true,
         "type": "scatter3d",
         "x": [
          -3.4611432552337646,
          0.3058657646179199,
          -6.17264461517334,
          -1.8334096670150757,
          1.0049526691436768
         ],
         "y": [
          6.787420272827148,
          2.607733726501465,
          3.681786060333252,
          -4.193050861358643,
          4.89374303817749
         ],
         "z": [
          -2.4825515747070312,
          0.24695900082588196,
          -6.08613920211792,
          2.3307383060455322,
          -0.11232881247997284
         ]
        },
        {
         "hovertemplate": "color=Monasa<br>TSNE1=%{x}<br>TSNE2=%{y}<br>TSNE3=%{z}<extra></extra>",
         "legendgroup": "Monasa",
         "marker": {
          "color": "#19d3f3",
          "symbol": "circle"
         },
         "mode": "markers",
         "name": "Monasa",
         "scene": "scene",
         "showlegend": true,
         "type": "scatter3d",
         "x": [
          4.411339282989502,
          -1.6483899354934692,
          -2.387199878692627,
          -2.835049867630005,
          -1.6881368160247803,
          -2.9504165649414062
         ],
         "y": [
          1.4868831634521484,
          0.6984906792640686,
          -0.1674988716840744,
          1.070713996887207,
          -3.1248300075531006,
          -1.0548304319381714
         ],
         "z": [
          6.495832443237305,
          -6.725779056549072,
          -4.951913356781006,
          4.847072124481201,
          -3.411825656890869,
          -4.748235702514648
         ]
        },
        {
         "hovertemplate": "color=Morphnus<br>TSNE1=%{x}<br>TSNE2=%{y}<br>TSNE3=%{z}<extra></extra>",
         "legendgroup": "Morphnus",
         "marker": {
          "color": "#FF6692",
          "symbol": "circle"
         },
         "mode": "markers",
         "name": "Morphnus",
         "scene": "scene",
         "showlegend": true,
         "type": "scatter3d",
         "x": [
          7.472568988800049
         ],
         "y": [
          -6.892121315002441
         ],
         "z": [
          -1.0610649585723877
         ]
        },
        {
         "hovertemplate": "color=Myadestes<br>TSNE1=%{x}<br>TSNE2=%{y}<br>TSNE3=%{z}<extra></extra>",
         "legendgroup": "Myadestes",
         "marker": {
          "color": "#B6E880",
          "symbol": "circle"
         },
         "mode": "markers",
         "name": "Myadestes",
         "scene": "scene",
         "showlegend": true,
         "type": "scatter3d",
         "x": [
          -1.4223473072052002,
          -0.5654163360595703,
          -0.054858941584825516
         ],
         "y": [
          -4.579166412353516,
          1.1805118322372437,
          -4.666451930999756
         ],
         "z": [
          3.4740424156188965,
          -0.2159096896648407,
          2.325343132019043
         ]
        },
        {
         "hovertemplate": "color=Mycteria<br>TSNE1=%{x}<br>TSNE2=%{y}<br>TSNE3=%{z}<extra></extra>",
         "legendgroup": "Mycteria",
         "marker": {
          "color": "#FF97FF",
          "symbol": "circle"
         },
         "mode": "markers",
         "name": "Mycteria",
         "scene": "scene",
         "showlegend": true,
         "type": "scatter3d",
         "x": [
          0.046227797865867615,
          -1.1522624492645264,
          12.1976900100708
         ],
         "y": [
          -2.4179508686065674,
          3.658133029937744,
          -2.5257856845855713
         ],
         "z": [
          -2.587056875228882,
          -4.4412946701049805,
          -3.5585665702819824
         ]
        },
        {
         "hovertemplate": "color=Myiarchus<br>TSNE1=%{x}<br>TSNE2=%{y}<br>TSNE3=%{z}<extra></extra>",
         "legendgroup": "Myiarchus",
         "marker": {
          "color": "#FECB52",
          "symbol": "circle"
         },
         "mode": "markers",
         "name": "Myiarchus",
         "scene": "scene",
         "showlegend": true,
         "type": "scatter3d",
         "x": [
          -0.7865780591964722,
          0.8732026219367981,
          -4.3657426834106445,
          -2.2962496280670166,
          1.0014594793319702,
          4.167487144470215,
          -4.480838775634766,
          -1.7149512767791748,
          -0.6695618629455566,
          7.100609302520752,
          -3.700714588165283,
          -0.9612848162651062,
          -2.945007801055908,
          0.21638382971286774,
          1.1663944721221924,
          -2.5269219875335693
         ],
         "y": [
          4.759454727172852,
          5.3076171875,
          3.7769241333007812,
          1.372415542602539,
          -6.016109466552734,
          -4.664651870727539,
          2.2413880825042725,
          0.6032735109329224,
          -0.4894670844078064,
          -1.0069071054458618,
          7.662370204925537,
          1.4237171411514282,
          -0.5008450746536255,
          -6.136234760284424,
          -0.019931338727474213,
          4.284875392913818
         ],
         "z": [
          0.35737642645835876,
          -0.786815881729126,
          -7.441675186157227,
          8.81827449798584,
          7.089477062225342,
          4.657315254211426,
          3.358473539352417,
          2.031783103942871,
          7.948857307434082,
          3.263183355331421,
          -2.3909034729003906,
          -6.697998046875,
          -6.905674934387207,
          5.657032489776611,
          6.362954139709473,
          -2.7688920497894287
         ]
        },
        {
         "hovertemplate": "color=Myiobius<br>TSNE1=%{x}<br>TSNE2=%{y}<br>TSNE3=%{z}<extra></extra>",
         "legendgroup": "Myiobius",
         "marker": {
          "color": "#636efa",
          "symbol": "circle"
         },
         "mode": "markers",
         "name": "Myiobius",
         "scene": "scene",
         "showlegend": true,
         "type": "scatter3d",
         "x": [
          -0.33955568075180054,
          3.88344669342041,
          2.0592970848083496,
          -4.170860290527344,
          -1.778275489807129,
          3.186502456665039,
          -3.001699447631836,
          7.129486560821533,
          -6.211277008056641,
          -5.547519207000732,
          4.3691020011901855
         ],
         "y": [
          -0.2906055152416229,
          -8.384719848632812,
          -5.366292953491211,
          4.461227893829346,
          -5.094663143157959,
          -7.182984828948975,
          1.881692886352539,
          1.2564235925674438,
          3.664407968521118,
          5.467451572418213,
          -8.428140640258789
         ],
         "z": [
          8.161506652832031,
          -3.513427972793579,
          5.582719802856445,
          1.1340610980987549,
          -7.34293794631958,
          -5.256724834442139,
          -8.44467830657959,
          2.1317906379699707,
          5.059328556060791,
          6.351113796234131,
          -2.6913201808929443
         ]
        },
        {
         "hovertemplate": "color=Myioborus<br>TSNE1=%{x}<br>TSNE2=%{y}<br>TSNE3=%{z}<extra></extra>",
         "legendgroup": "Myioborus",
         "marker": {
          "color": "#EF553B",
          "symbol": "circle"
         },
         "mode": "markers",
         "name": "Myioborus",
         "scene": "scene",
         "showlegend": true,
         "type": "scatter3d",
         "x": [
          -4.706104755401611,
          -1.370976448059082,
          -0.6396894454956055,
          -2.9409289360046387,
          0.16259342432022095,
          -4.234553813934326
         ],
         "y": [
          8.355232238769531,
          -2.373281955718994,
          2.682161569595337,
          2.933624505996704,
          -0.6573905944824219,
          3.055741310119629
         ],
         "z": [
          0.4895804226398468,
          6.990664958953857,
          8.384267807006836,
          6.327606678009033,
          6.361665725708008,
          6.110079288482666
         ]
        },
        {
         "hovertemplate": "color=Myiodynastes<br>TSNE1=%{x}<br>TSNE2=%{y}<br>TSNE3=%{z}<extra></extra>",
         "legendgroup": "Myiodynastes",
         "marker": {
          "color": "#00cc96",
          "symbol": "circle"
         },
         "mode": "markers",
         "name": "Myiodynastes",
         "scene": "scene",
         "showlegend": true,
         "type": "scatter3d",
         "x": [
          -2.110976219177246,
          -3.218012809753418,
          8.418819427490234,
          -3.18701434135437,
          3.6831297874450684,
          -3.5300207138061523,
          6.0521063804626465,
          -0.04174230247735977,
          -3.2905571460723877,
          -2.958960771560669
         ],
         "y": [
          0.2066502869129181,
          1.4382766485214233,
          -7.580243110656738,
          1.7238529920578003,
          -8.253866195678711,
          8.140507698059082,
          -0.5978754758834839,
          -4.213870525360107,
          6.025801658630371,
          4.3106160163879395
         ],
         "z": [
          2.5059313774108887,
          0.903826892375946,
          -0.8191999793052673,
          2.2632250785827637,
          -3.9855146408081055,
          -1.864109992980957,
          2.05726957321167,
          -3.2081286907196045,
          -3.532886266708374,
          7.440610885620117
         ]
        },
        {
         "hovertemplate": "color=Myiopagis<br>TSNE1=%{x}<br>TSNE2=%{y}<br>TSNE3=%{z}<extra></extra>",
         "legendgroup": "Myiopagis",
         "marker": {
          "color": "#ab63fa",
          "symbol": "circle"
         },
         "mode": "markers",
         "name": "Myiopagis",
         "scene": "scene",
         "showlegend": true,
         "type": "scatter3d",
         "x": [
          -1.3019503355026245,
          3.6462604999542236,
          6.070499420166016,
          6.787586688995361,
          -4.946191787719727,
          -5.363287925720215,
          5.759690284729004,
          -2.4854609966278076,
          10.694281578063965,
          8.900673866271973,
          4.53236722946167,
          -1.628684163093567,
          4.241639137268066,
          -0.3472239077091217
         ],
         "y": [
          2.11722731590271,
          -2.93740177154541,
          -4.42085599899292,
          -6.920655250549316,
          2.9158971309661865,
          2.810558319091797,
          -4.250028133392334,
          2.524702548980713,
          -1.7833365201950073,
          -8.18577766418457,
          -4.563041687011719,
          -4.466970920562744,
          -8.446207046508789,
          2.9960827827453613
         ],
         "z": [
          8.551116943359375,
          6.495456695556641,
          2.900359630584717,
          -1.236488699913025,
          5.766274929046631,
          5.281698703765869,
          2.873424768447876,
          7.858845233917236,
          -1.675440788269043,
          -0.7060661315917969,
          2.9510982036590576,
          4.021733283996582,
          -2.8670854568481445,
          8.25352954864502
         ]
        },
        {
         "hovertemplate": "color=Myiophobus<br>TSNE1=%{x}<br>TSNE2=%{y}<br>TSNE3=%{z}<extra></extra>",
         "legendgroup": "Myiophobus",
         "marker": {
          "color": "#FFA15A",
          "symbol": "circle"
         },
         "mode": "markers",
         "name": "Myiophobus",
         "scene": "scene",
         "showlegend": true,
         "type": "scatter3d",
         "x": [
          -5.477108478546143,
          -0.07031860202550888,
          -5.772227764129639,
          5.3428239822387695
         ],
         "y": [
          6.030350685119629,
          -5.35084867477417,
          3.4477648735046387,
          -5.687994956970215
         ],
         "z": [
          1.8756331205368042,
          -6.565285682678223,
          2.334982395172119,
          -3.503295660018921
         ]
        },
        {
         "hovertemplate": "color=Myiornis<br>TSNE1=%{x}<br>TSNE2=%{y}<br>TSNE3=%{z}<extra></extra>",
         "legendgroup": "Myiornis",
         "marker": {
          "color": "#19d3f3",
          "symbol": "circle"
         },
         "mode": "markers",
         "name": "Myiornis",
         "scene": "scene",
         "showlegend": true,
         "type": "scatter3d",
         "x": [
          -1.8845442533493042,
          0.5929051041603088,
          3.7485427856445312
         ],
         "y": [
          -2.345454216003418,
          3.610609769821167,
          -6.367236614227295
         ],
         "z": [
          6.18790864944458,
          7.735404968261719,
          -4.756752967834473
         ]
        },
        {
         "hovertemplate": "color=Myiotheretes<br>TSNE1=%{x}<br>TSNE2=%{y}<br>TSNE3=%{z}<extra></extra>",
         "legendgroup": "Myiotheretes",
         "marker": {
          "color": "#FF6692",
          "symbol": "circle"
         },
         "mode": "markers",
         "name": "Myiotheretes",
         "scene": "scene",
         "showlegend": true,
         "type": "scatter3d",
         "x": [
          -4.044779300689697,
          -1.3764641284942627,
          -1.7182399034500122,
          6.5639142990112305,
          -3.805255174636841,
          -0.4639092683792114
         ],
         "y": [
          2.045314073562622,
          -4.556034564971924,
          -0.06543686985969543,
          -7.859867572784424,
          3.711897611618042,
          1.1244627237319946
         ],
         "z": [
          1.5066667795181274,
          2.7202179431915283,
          8.251089096069336,
          -1.2018229961395264,
          -3.8791348934173584,
          -0.13506413996219635
         ]
        },
        {
         "hovertemplate": "color=Myiothlypis<br>TSNE1=%{x}<br>TSNE2=%{y}<br>TSNE3=%{z}<extra></extra>",
         "legendgroup": "Myiothlypis",
         "marker": {
          "color": "#B6E880",
          "symbol": "circle"
         },
         "mode": "markers",
         "name": "Myiothlypis",
         "scene": "scene",
         "showlegend": true,
         "type": "scatter3d",
         "x": [
          -4.1897501945495605,
          -5.55183219909668,
          -3.339611530303955,
          -3.0217363834381104,
          -1.7525800466537476,
          7.321903705596924,
          -2.621788740158081,
          -2.0889744758605957,
          0.7322767972946167,
          -0.8055019974708557,
          4.482139587402344,
          -5.075486660003662,
          -1.1596814393997192,
          4.695664882659912,
          -3.589818000793457
         ],
         "y": [
          1.7622992992401123,
          7.022830486297607,
          -4.011261463165283,
          4.853394985198975,
          7.230906009674072,
          1.194663166999817,
          7.924603462219238,
          4.090986728668213,
          -4.608052730560303,
          7.330982208251953,
          -3.8970351219177246,
          6.036718368530273,
          -5.831369876861572,
          -5.542573928833008,
          -2.300607919692993
         ],
         "z": [
          0.3497440814971924,
          1.7058699131011963,
          -7.6682538986206055,
          7.147838592529297,
          0.28657692670822144,
          -0.6372031569480896,
          -0.7685678601264954,
          -6.592982769012451,
          -3.1579713821411133,
          0.2512919306755066,
          1.9743688106536865,
          -3.998422145843506,
          -6.41144323348999,
          5.301899433135986,
          -4.589865684509277
         ]
        },
        {
         "hovertemplate": "color=Myiotriccus<br>TSNE1=%{x}<br>TSNE2=%{y}<br>TSNE3=%{z}<extra></extra>",
         "legendgroup": "Myiotriccus",
         "marker": {
          "color": "#FF97FF",
          "symbol": "circle"
         },
         "mode": "markers",
         "name": "Myiotriccus",
         "scene": "scene",
         "showlegend": true,
         "type": "scatter3d",
         "x": [
          4.917898178100586,
          -5.3211164474487305,
          2.890496253967285,
          8.421162605285645
         ],
         "y": [
          -3.6575353145599365,
          5.371058940887451,
          -1.6649256944656372,
          0.3018125891685486
         ],
         "z": [
          5.625288486480713,
          -4.142116546630859,
          7.252549648284912,
          -1.2725520133972168
         ]
        },
        {
         "hovertemplate": "color=Myiozetetes<br>TSNE1=%{x}<br>TSNE2=%{y}<br>TSNE3=%{z}<extra></extra>",
         "legendgroup": "Myiozetetes",
         "marker": {
          "color": "#FECB52",
          "symbol": "circle"
         },
         "mode": "markers",
         "name": "Myiozetetes",
         "scene": "scene",
         "showlegend": true,
         "type": "scatter3d",
         "x": [
          -0.2888396084308624,
          -0.8746638298034668,
          6.329546928405762,
          0.08408722281455994,
          -1.0347633361816406,
          6.008373737335205,
          0.8310518264770508,
          -1.0997402667999268,
          -1.353999137878418,
          -1.0853285789489746,
          6.161661148071289
         ],
         "y": [
          5.572524070739746,
          -5.262925624847412,
          -3.643876075744629,
          -0.8352503776550293,
          -5.877501487731934,
          -2.0966646671295166,
          -5.307775020599365,
          1.5368804931640625,
          -4.6117634773254395,
          3.9110991954803467,
          -2.858157157897949
         ],
         "z": [
          -0.026195624843239784,
          -7.169219970703125,
          3.6081626415252686,
          6.246892929077148,
          7.539175510406494,
          2.152665853500366,
          2.5698862075805664,
          -4.305551528930664,
          -4.334576606750488,
          -3.554638624191284,
          2.6434383392333984
         ]
        },
        {
         "hovertemplate": "color=Myrmelastes<br>TSNE1=%{x}<br>TSNE2=%{y}<br>TSNE3=%{z}<extra></extra>",
         "legendgroup": "Myrmelastes",
         "marker": {
          "color": "#636efa",
          "symbol": "circle"
         },
         "mode": "markers",
         "name": "Myrmelastes",
         "scene": "scene",
         "showlegend": true,
         "type": "scatter3d",
         "x": [
          -2.947445869445801,
          -2.7031376361846924,
          -4.565609931945801,
          -2.72451114654541,
          -0.6540510654449463,
          0.09127160906791687,
          -3.778853416442871,
          5.548328399658203,
          3.821384906768799,
          9.49743938446045
         ],
         "y": [
          -0.5552171468734741,
          -1.6462808847427368,
          7.685347080230713,
          4.286159515380859,
          -4.642796993255615,
          -4.903822422027588,
          1.7095348834991455,
          -2.3234431743621826,
          -8.35460090637207,
          -8.464192390441895
         ],
         "z": [
          6.947755813598633,
          -6.805667877197266,
          4.825298309326172,
          7.555570602416992,
          3.625213146209717,
          -4.41804838180542,
          -8.578925132751465,
          1.692949891090393,
          -3.6522388458251953,
          -0.5759319067001343
         ]
        },
        {
         "hovertemplate": "color=Myrmoborus<br>TSNE1=%{x}<br>TSNE2=%{y}<br>TSNE3=%{z}<extra></extra>",
         "legendgroup": "Myrmoborus",
         "marker": {
          "color": "#EF553B",
          "symbol": "circle"
         },
         "mode": "markers",
         "name": "Myrmoborus",
         "scene": "scene",
         "showlegend": true,
         "type": "scatter3d",
         "x": [
          -3.887598752975464,
          4.336080551147461,
          -3.0494439601898193,
          -3.3294379711151123,
          -2.5222222805023193,
          -3.802259683609009
         ],
         "y": [
          -2.6053550243377686,
          -1.4804596900939941,
          -4.435177326202393,
          2.0555243492126465,
          3.0007071495056152,
          6.69048547744751
         ],
         "z": [
          -8.118463516235352,
          6.878867149353027,
          -5.413740158081055,
          5.648552894592285,
          7.7892866134643555,
          -2.607347011566162
         ]
        },
        {
         "hovertemplate": "color=Myrmophylax<br>TSNE1=%{x}<br>TSNE2=%{y}<br>TSNE3=%{z}<extra></extra>",
         "legendgroup": "Myrmophylax",
         "marker": {
          "color": "#00cc96",
          "symbol": "circle"
         },
         "mode": "markers",
         "name": "Myrmophylax",
         "scene": "scene",
         "showlegend": true,
         "type": "scatter3d",
         "x": [
          -1.400940179824829,
          -3.816770076751709,
          0.7949060201644897
         ],
         "y": [
          -0.6877445578575134,
          0.7337314486503601,
          -5.392349720001221
         ],
         "z": [
          8.013778686523438,
          -8.310141563415527,
          -5.9912309646606445
         ]
        },
        {
         "hovertemplate": "color=Myrmothera<br>TSNE1=%{x}<br>TSNE2=%{y}<br>TSNE3=%{z}<extra></extra>",
         "legendgroup": "Myrmothera",
         "marker": {
          "color": "#ab63fa",
          "symbol": "circle"
         },
         "mode": "markers",
         "name": "Myrmothera",
         "scene": "scene",
         "showlegend": true,
         "type": "scatter3d",
         "x": [
          6.5643768310546875,
          -6.00838565826416,
          -3.6471211910247803
         ],
         "y": [
          -2.8277759552001953,
          3.391726493835449,
          7.921177387237549
         ],
         "z": [
          3.6500515937805176,
          4.328506946563721,
          0.7733307480812073
         ]
        },
        {
         "hovertemplate": "color=Myrmotherula<br>TSNE1=%{x}<br>TSNE2=%{y}<br>TSNE3=%{z}<extra></extra>",
         "legendgroup": "Myrmotherula",
         "marker": {
          "color": "#FFA15A",
          "symbol": "circle"
         },
         "mode": "markers",
         "name": "Myrmotherula",
         "scene": "scene",
         "showlegend": true,
         "type": "scatter3d",
         "x": [
          -1.0515857934951782,
          -6.022298336029053,
          -2.6299245357513428,
          -2.181525468826294,
          4.928448677062988,
          4.072267055511475,
          4.3812994956970215,
          -1.7832250595092773,
          -3.814687728881836,
          7.3100457191467285,
          6.7022247314453125,
          6.831338882446289,
          6.282557010650635,
          0.4371798038482666,
          4.275145053863525,
          -3.5751335620880127,
          6.407241344451904,
          -0.7852230668067932,
          -2.644751787185669,
          -6.0669050216674805,
          6.372605323791504,
          -2.840622901916504,
          -2.965390205383301,
          8.207507133483887,
          -4.342050552368164,
          5.111876010894775,
          -3.2036750316619873,
          -0.2970907688140869,
          -1.8728625774383545,
          -1.9029957056045532,
          5.172946453094482
         ],
         "y": [
          1.9133930206298828,
          4.507510662078857,
          2.117647886276245,
          1.1346344947814941,
          -4.113285064697266,
          -1.398789405822754,
          -2.762888193130493,
          2.3155291080474854,
          5.429103374481201,
          1.420950174331665,
          -1.6128394603729248,
          0.8590185642242432,
          1.1212937831878662,
          4.119693756103516,
          0.9984968900680542,
          -0.9022353887557983,
          -5.676246166229248,
          -4.846390247344971,
          0.23908983170986176,
          7.87160062789917,
          1.2349845170974731,
          -0.5500662326812744,
          -2.994722366333008,
          -0.2402641773223877,
          4.501176834106445,
          0.0731896162033081,
          5.481537818908691,
          3.7833054065704346,
          -4.341992378234863,
          5.173383712768555,
          -1.05563485622406
         ],
         "z": [
          -6.750695705413818,
          5.824620723724365,
          7.8426408767700195,
          -7.715112686157227,
          6.364738464355469,
          -0.34070146083831787,
          6.251176834106445,
          -7.75840425491333,
          6.271883010864258,
          0.9685111045837402,
          3.7959859371185303,
          2.364635467529297,
          -0.7881547808647156,
          7.635214328765869,
          6.684793472290039,
          -7.649904727935791,
          -1.7718417644500732,
          7.4846673011779785,
          -7.368344306945801,
          1.1092612743377686,
          -0.47754591703414917,
          -5.328251838684082,
          2.760347843170166,
          -2.249971389770508,
          1.1378532648086548,
          -1.4372596740722656,
          -5.698323726654053,
          -2.2677464485168457,
          2.5611257553100586,
          1.4488110542297363,
          1.2223241329193115
         ]
        },
        {
         "hovertemplate": "color=Nannopsittaca<br>TSNE1=%{x}<br>TSNE2=%{y}<br>TSNE3=%{z}<extra></extra>",
         "legendgroup": "Nannopsittaca",
         "marker": {
          "color": "#19d3f3",
          "symbol": "circle"
         },
         "mode": "markers",
         "name": "Nannopsittaca",
         "scene": "scene",
         "showlegend": true,
         "type": "scatter3d",
         "x": [
          -6.464451789855957,
          9.863225936889648
         ],
         "y": [
          7.946482181549072,
          -8.668949127197266
         ],
         "z": [
          0.976109504699707,
          -0.48778095841407776
         ]
        },
        {
         "hovertemplate": "color=Nasica<br>TSNE1=%{x}<br>TSNE2=%{y}<br>TSNE3=%{z}<extra></extra>",
         "legendgroup": "Nasica",
         "marker": {
          "color": "#FF6692",
          "symbol": "circle"
         },
         "mode": "markers",
         "name": "Nasica",
         "scene": "scene",
         "showlegend": true,
         "type": "scatter3d",
         "x": [
          5.202492713928223
         ],
         "y": [
          -4.204308986663818
         ],
         "z": [
          -3.433884620666504
         ]
        },
        {
         "hovertemplate": "color=Nemosia<br>TSNE1=%{x}<br>TSNE2=%{y}<br>TSNE3=%{z}<extra></extra>",
         "legendgroup": "Nemosia",
         "marker": {
          "color": "#B6E880",
          "symbol": "circle"
         },
         "mode": "markers",
         "name": "Nemosia",
         "scene": "scene",
         "showlegend": true,
         "type": "scatter3d",
         "x": [
          1.9834156036376953,
          -1.410853624343872,
          0.4667367935180664
         ],
         "y": [
          -3.2276611328125,
          -2.212986707687378,
          -5.391088008880615
         ],
         "z": [
          -1.9943485260009766,
          6.705017566680908,
          -8.483833312988281
         ]
        },
        {
         "hovertemplate": "color=Neoctantes<br>TSNE1=%{x}<br>TSNE2=%{y}<br>TSNE3=%{z}<extra></extra>",
         "legendgroup": "Neoctantes",
         "marker": {
          "color": "#FF97FF",
          "symbol": "circle"
         },
         "mode": "markers",
         "name": "Neoctantes",
         "scene": "scene",
         "showlegend": true,
         "type": "scatter3d",
         "x": [
          -3.611096143722534,
          -4.837827682495117,
          -1.0714503526687622,
          9.656587600708008
         ],
         "y": [
          1.5649765729904175,
          2.680288076400757,
          -4.78875732421875,
          -8.55191707611084
         ],
         "z": [
          1.6328767538070679,
          1.4690825939178467,
          7.135656356811523,
          -0.5382381677627563
         ]
        },
        {
         "hovertemplate": "color=Neomorphus<br>TSNE1=%{x}<br>TSNE2=%{y}<br>TSNE3=%{z}<extra></extra>",
         "legendgroup": "Neomorphus",
         "marker": {
          "color": "#FECB52",
          "symbol": "circle"
         },
         "mode": "markers",
         "name": "Neomorphus",
         "scene": "scene",
         "showlegend": true,
         "type": "scatter3d",
         "x": [
          -2.4073121547698975
         ],
         "y": [
          4.8541083335876465
         ],
         "z": [
          -3.1080243587493896
         ]
        },
        {
         "hovertemplate": "color=Neopelma<br>TSNE1=%{x}<br>TSNE2=%{y}<br>TSNE3=%{z}<extra></extra>",
         "legendgroup": "Neopelma",
         "marker": {
          "color": "#636efa",
          "symbol": "circle"
         },
         "mode": "markers",
         "name": "Neopelma",
         "scene": "scene",
         "showlegend": true,
         "type": "scatter3d",
         "x": [
          -3.6476287841796875,
          -0.7947990894317627,
          -1.7812610864639282
         ],
         "y": [
          3.26137375831604,
          -0.3161265254020691,
          0.3669082224369049
         ],
         "z": [
          0.8066233992576599,
          8.140634536743164,
          -6.113465785980225
         ]
        },
        {
         "hovertemplate": "color=Neopipo<br>TSNE1=%{x}<br>TSNE2=%{y}<br>TSNE3=%{z}<extra></extra>",
         "legendgroup": "Neopipo",
         "marker": {
          "color": "#EF553B",
          "symbol": "circle"
         },
         "mode": "markers",
         "name": "Neopipo",
         "scene": "scene",
         "showlegend": true,
         "type": "scatter3d",
         "x": [
          -4.497081279754639,
          -2.023853302001953
         ],
         "y": [
          3.8285341262817383,
          1.8216874599456787
         ],
         "z": [
          -7.341364860534668,
          8.692763328552246
         ]
        },
        {
         "hovertemplate": "color=Nephelomyias<br>TSNE1=%{x}<br>TSNE2=%{y}<br>TSNE3=%{z}<extra></extra>",
         "legendgroup": "Nephelomyias",
         "marker": {
          "color": "#00cc96",
          "symbol": "circle"
         },
         "mode": "markers",
         "name": "Nephelomyias",
         "scene": "scene",
         "showlegend": true,
         "type": "scatter3d",
         "x": [
          -5.75560188293457,
          -3.776264190673828
         ],
         "y": [
          6.249464988708496,
          -3.575988531112671
         ],
         "z": [
          2.0813469886779785,
          -6.668535232543945
         ]
        },
        {
         "hovertemplate": "color=Netta<br>TSNE1=%{x}<br>TSNE2=%{y}<br>TSNE3=%{z}<extra></extra>",
         "legendgroup": "Netta",
         "marker": {
          "color": "#ab63fa",
          "symbol": "circle"
         },
         "mode": "markers",
         "name": "Netta",
         "scene": "scene",
         "showlegend": true,
         "type": "scatter3d",
         "x": [
          3.19667911529541,
          -3.9880175590515137,
          3.067502498626709
         ],
         "y": [
          -6.726421356201172,
          3.767397403717041,
          -6.4442548751831055
         ],
         "z": [
          -5.184625148773193,
          -7.659805774688721,
          -5.182591915130615
         ]
        },
        {
         "hovertemplate": "color=Nomonyx<br>TSNE1=%{x}<br>TSNE2=%{y}<br>TSNE3=%{z}<extra></extra>",
         "legendgroup": "Nomonyx",
         "marker": {
          "color": "#FFA15A",
          "symbol": "circle"
         },
         "mode": "markers",
         "name": "Nomonyx",
         "scene": "scene",
         "showlegend": true,
         "type": "scatter3d",
         "x": [
          4.575265884399414,
          -5.841715335845947
         ],
         "y": [
          -1.0800856351852417,
          3.000469923019409
         ],
         "z": [
          0.5616362690925598,
          -7.039474010467529
         ]
        },
        {
         "hovertemplate": "color=Nonnula<br>TSNE1=%{x}<br>TSNE2=%{y}<br>TSNE3=%{z}<extra></extra>",
         "legendgroup": "Nonnula",
         "marker": {
          "color": "#19d3f3",
          "symbol": "circle"
         },
         "mode": "markers",
         "name": "Nonnula",
         "scene": "scene",
         "showlegend": true,
         "type": "scatter3d",
         "x": [
          -2.091660737991333,
          -7.070616245269775,
          1.2889326810836792,
          1.7292429208755493
         ],
         "y": [
          3.550166368484497,
          2.0404114723205566,
          4.680110931396484,
          -3.1735429763793945
         ],
         "z": [
          -7.375394344329834,
          -5.46766996383667,
          -0.0467459000647068,
          -2.119997978210449
         ]
        },
        {
         "hovertemplate": "color=Notharchus<br>TSNE1=%{x}<br>TSNE2=%{y}<br>TSNE3=%{z}<extra></extra>",
         "legendgroup": "Notharchus",
         "marker": {
          "color": "#FF6692",
          "symbol": "circle"
         },
         "mode": "markers",
         "name": "Notharchus",
         "scene": "scene",
         "showlegend": true,
         "type": "scatter3d",
         "x": [
          6.165894031524658,
          3.3783860206604004,
          1.6107025146484375,
          3.964570999145508,
          -0.665058970451355,
          1.6121522188186646,
          -6.0255842208862305,
          -5.465752124786377,
          -1.136095643043518
         ],
         "y": [
          1.0431487560272217,
          -7.717550277709961,
          1.6924411058425903,
          -8.410944938659668,
          2.2834599018096924,
          -4.533490180969238,
          5.075244426727295,
          -1.674070954322815,
          -4.8872599601745605
         ],
         "z": [
          -0.8956918120384216,
          -4.837493419647217,
          7.904966354370117,
          -3.3480472564697266,
          8.432250022888184,
          -2.770150661468506,
          -4.190384387969971,
          -9.168925285339355,
          6.541318893432617
         ]
        },
        {
         "hovertemplate": "color=Nothocercus<br>TSNE1=%{x}<br>TSNE2=%{y}<br>TSNE3=%{z}<extra></extra>",
         "legendgroup": "Nothocercus",
         "marker": {
          "color": "#B6E880",
          "symbol": "circle"
         },
         "mode": "markers",
         "name": "Nothocercus",
         "scene": "scene",
         "showlegend": true,
         "type": "scatter3d",
         "x": [
          -4.423198699951172,
          -1.676313877105713
         ],
         "y": [
          5.0345869064331055,
          -4.341897487640381
         ],
         "z": [
          -5.0819411277771,
          2.627629280090332
         ]
        },
        {
         "hovertemplate": "color=Nyctibius<br>TSNE1=%{x}<br>TSNE2=%{y}<br>TSNE3=%{z}<extra></extra>",
         "legendgroup": "Nyctibius",
         "marker": {
          "color": "#FF97FF",
          "symbol": "circle"
         },
         "mode": "markers",
         "name": "Nyctibius",
         "scene": "scene",
         "showlegend": true,
         "type": "scatter3d",
         "x": [
          -0.22505244612693787,
          -3.784900188446045,
          1.2425631284713745,
          -5.217810153961182,
          5.643355369567871,
          -4.9934468269348145,
          -6.779453754425049,
          -2.046405553817749,
          12.391827583312988,
          10.107678413391113,
          0.08490011841058731,
          6.256654739379883,
          9.590831756591797
         ],
         "y": [
          -5.321294784545898,
          -2.843660354614258,
          -5.981724739074707,
          5.199131488800049,
          -3.4442429542541504,
          6.053768157958984,
          2.0581676959991455,
          0.06222967803478241,
          -2.5775160789489746,
          -1.531625747680664,
          -5.1800127029418945,
          0.27460920810699463,
          -8.515447616577148
         ],
         "z": [
          -7.7491679191589355,
          -7.5730743408203125,
          6.890657424926758,
          1.7955044507980347,
          5.204017639160156,
          2.1533477306365967,
          -6.213011264801025,
          8.189338684082031,
          -4.122912883758545,
          -1.8862557411193848,
          7.9910759925842285,
          2.079143762588501,
          -0.553878664970398
         ]
        },
        {
         "hovertemplate": "color=Nycticorax<br>TSNE1=%{x}<br>TSNE2=%{y}<br>TSNE3=%{z}<extra></extra>",
         "legendgroup": "Nycticorax",
         "marker": {
          "color": "#FECB52",
          "symbol": "circle"
         },
         "mode": "markers",
         "name": "Nycticorax",
         "scene": "scene",
         "showlegend": true,
         "type": "scatter3d",
         "x": [
          1.3227580785751343,
          -4.295783519744873
         ],
         "y": [
          -4.7502055168151855,
          4.739569664001465
         ],
         "z": [
          -3.147861957550049,
          -6.465102672576904
         ]
        },
        {
         "hovertemplate": "color=Nyctidromus<br>TSNE1=%{x}<br>TSNE2=%{y}<br>TSNE3=%{z}<extra></extra>",
         "legendgroup": "Nyctidromus",
         "marker": {
          "color": "#636efa",
          "symbol": "circle"
         },
         "mode": "markers",
         "name": "Nyctidromus",
         "scene": "scene",
         "showlegend": true,
         "type": "scatter3d",
         "x": [
          -1.0493768453598022,
          12.432056427001953
         ],
         "y": [
          3.1377506256103516,
          -2.5877153873443604
         ],
         "z": [
          -3.6579911708831787,
          -4.304428577423096
         ]
        },
        {
         "hovertemplate": "color=Nyctiphrynus<br>TSNE1=%{x}<br>TSNE2=%{y}<br>TSNE3=%{z}<extra></extra>",
         "legendgroup": "Nyctiphrynus",
         "marker": {
          "color": "#EF553B",
          "symbol": "circle"
         },
         "mode": "markers",
         "name": "Nyctiphrynus",
         "scene": "scene",
         "showlegend": true,
         "type": "scatter3d",
         "x": [
          -5.611992359161377,
          -2.642554998397827,
          10.641748428344727,
          -5.6353349685668945
         ],
         "y": [
          3.250821828842163,
          8.758626937866211,
          -1.964754343032837,
          8.412901878356934
         ],
         "z": [
          2.200578212738037,
          0.3073916435241699,
          -2.3841702938079834,
          -1.7126206159591675
         ]
        },
        {
         "hovertemplate": "color=Nyctipolus<br>TSNE1=%{x}<br>TSNE2=%{y}<br>TSNE3=%{z}<extra></extra>",
         "legendgroup": "Nyctipolus",
         "marker": {
          "color": "#00cc96",
          "symbol": "circle"
         },
         "mode": "markers",
         "name": "Nyctipolus",
         "scene": "scene",
         "showlegend": true,
         "type": "scatter3d",
         "x": [
          8.181514739990234,
          1.0524519681930542,
          -3.2042391300201416,
          -1.0765085220336914
         ],
         "y": [
          0.5997114777565002,
          -4.704397201538086,
          2.8986644744873047,
          -5.145990371704102
         ],
         "z": [
          -1.050794243812561,
          -3.1713178157806396,
          -3.602091073989868,
          -6.020823001861572
         ]
        },
        {
         "hovertemplate": "color=Nystalus<br>TSNE1=%{x}<br>TSNE2=%{y}<br>TSNE3=%{z}<extra></extra>",
         "legendgroup": "Nystalus",
         "marker": {
          "color": "#ab63fa",
          "symbol": "circle"
         },
         "mode": "markers",
         "name": "Nystalus",
         "scene": "scene",
         "showlegend": true,
         "type": "scatter3d",
         "x": [
          -3.6726109981536865,
          0.9058853387832642,
          -0.013797136023640633,
          -1.0823863744735718,
          1.9387602806091309,
          -1.3765647411346436
         ],
         "y": [
          7.347504615783691,
          3.3034353256225586,
          -5.200140476226807,
          5.191615581512451,
          -5.834586143493652,
          -4.640251159667969
         ],
         "z": [
          1.102095603942871,
          7.6838836669921875,
          -8.613337516784668,
          0.5468235611915588,
          4.783528804779053,
          2.961404323577881
         ]
        },
        {
         "hovertemplate": "color=Ochthoeca<br>TSNE1=%{x}<br>TSNE2=%{y}<br>TSNE3=%{z}<extra></extra>",
         "legendgroup": "Ochthoeca",
         "marker": {
          "color": "#FFA15A",
          "symbol": "circle"
         },
         "mode": "markers",
         "name": "Ochthoeca",
         "scene": "scene",
         "showlegend": true,
         "type": "scatter3d",
         "x": [
          -5.7026448249816895,
          3.099241018295288,
          -2.3160972595214844
         ],
         "y": [
          5.1661295890808105,
          -1.3821754455566406,
          1.1021023988723755
         ],
         "z": [
          2.240196943283081,
          7.227972984313965,
          8.468871116638184
         ]
        },
        {
         "hovertemplate": "color=Ochthornis<br>TSNE1=%{x}<br>TSNE2=%{y}<br>TSNE3=%{z}<extra></extra>",
         "legendgroup": "Ochthornis",
         "marker": {
          "color": "#19d3f3",
          "symbol": "circle"
         },
         "mode": "markers",
         "name": "Ochthornis",
         "scene": "scene",
         "showlegend": true,
         "type": "scatter3d",
         "x": [
          -3.369663953781128,
          -2.8868305683135986,
          -5.020342826843262
         ],
         "y": [
          -3.915600299835205,
          3.4239752292633057,
          1.80344557762146
         ],
         "z": [
          -7.885036945343018,
          7.2436323165893555,
          2.59614634513855
         ]
        },
        {
         "hovertemplate": "color=Ocreatus<br>TSNE1=%{x}<br>TSNE2=%{y}<br>TSNE3=%{z}<extra></extra>",
         "legendgroup": "Ocreatus",
         "marker": {
          "color": "#FF6692",
          "symbol": "circle"
         },
         "mode": "markers",
         "name": "Ocreatus",
         "scene": "scene",
         "showlegend": true,
         "type": "scatter3d",
         "x": [
          -1.8145596981048584,
          4.659456253051758
         ],
         "y": [
          3.7411997318267822,
          -0.9992170929908752
         ],
         "z": [
          -6.80980110168457,
          6.457374095916748
         ]
        },
        {
         "hovertemplate": "color=Odontophorus<br>TSNE1=%{x}<br>TSNE2=%{y}<br>TSNE3=%{z}<extra></extra>",
         "legendgroup": "Odontophorus",
         "marker": {
          "color": "#B6E880",
          "symbol": "circle"
         },
         "mode": "markers",
         "name": "Odontophorus",
         "scene": "scene",
         "showlegend": true,
         "type": "scatter3d",
         "x": [
          9.765830039978027,
          7.716904163360596,
          -3.019122362136841,
          4.092832088470459,
          4.930337429046631,
          -0.4144498109817505,
          6.162460803985596,
          -2.4609200954437256,
          2.153581142425537,
          -1.3836380243301392,
          -4.943526744842529,
          6.339838981628418
         ],
         "y": [
          -8.612173080444336,
          -7.971153736114502,
          6.570127010345459,
          -2.3573129177093506,
          -0.41046130657196045,
          -4.431798934936523,
          -0.5400776863098145,
          -3.272231101989746,
          -4.431820392608643,
          4.357186794281006,
          4.459641933441162,
          -6.778956890106201
         ],
         "z": [
          -0.511894941329956,
          -0.9387140870094299,
          -3.7233800888061523,
          7.406022071838379,
          6.289192199707031,
          -3.777714967727661,
          5.3077392578125,
          3.4454703330993652,
          -2.870206832885742,
          -3.760514736175537,
          -6.289051532745361,
          -1.4637566804885864
         ]
        },
        {
         "hovertemplate": "color=Odontorchilus<br>TSNE1=%{x}<br>TSNE2=%{y}<br>TSNE3=%{z}<extra></extra>",
         "legendgroup": "Odontorchilus",
         "marker": {
          "color": "#FF97FF",
          "symbol": "circle"
         },
         "mode": "markers",
         "name": "Odontorchilus",
         "scene": "scene",
         "showlegend": true,
         "type": "scatter3d",
         "x": [
          0.3289397358894348,
          -1.904038667678833,
          2.4874179363250732
         ],
         "y": [
          2.2686522006988525,
          7.146139621734619,
          -5.0554399490356445
         ],
         "z": [
          7.762971878051758,
          0.6082535982131958,
          4.338054180145264
         ]
        },
        {
         "hovertemplate": "color=Oneillornis<br>TSNE1=%{x}<br>TSNE2=%{y}<br>TSNE3=%{z}<extra></extra>",
         "legendgroup": "Oneillornis",
         "marker": {
          "color": "#FECB52",
          "symbol": "circle"
         },
         "mode": "markers",
         "name": "Oneillornis",
         "scene": "scene",
         "showlegend": true,
         "type": "scatter3d",
         "x": [
          -5.010211944580078,
          -2.719715118408203
         ],
         "y": [
          2.5979628562927246,
          -3.0076093673706055
         ],
         "z": [
          1.7268109321594238,
          2.791332483291626
         ]
        },
        {
         "hovertemplate": "color=Onychorhynchus<br>TSNE1=%{x}<br>TSNE2=%{y}<br>TSNE3=%{z}<extra></extra>",
         "legendgroup": "Onychorhynchus",
         "marker": {
          "color": "#636efa",
          "symbol": "circle"
         },
         "mode": "markers",
         "name": "Onychorhynchus",
         "scene": "scene",
         "showlegend": true,
         "type": "scatter3d",
         "x": [
          -1.6989425420761108,
          -2.552676200866699
         ],
         "y": [
          -2.035081624984741,
          4.169714450836182
         ],
         "z": [
          6.812713623046875,
          7.436889171600342
         ]
        },
        {
         "hovertemplate": "color=Opisthocomus<br>TSNE1=%{x}<br>TSNE2=%{y}<br>TSNE3=%{z}<extra></extra>",
         "legendgroup": "Opisthocomus",
         "marker": {
          "color": "#EF553B",
          "symbol": "circle"
         },
         "mode": "markers",
         "name": "Opisthocomus",
         "scene": "scene",
         "showlegend": true,
         "type": "scatter3d",
         "x": [
          -6.046139240264893,
          -3.547877311706543,
          -0.15267112851142883
         ],
         "y": [
          4.763815402984619,
          4.908974647521973,
          3.2101891040802
         ],
         "z": [
          -3.396719217300415,
          -4.7892351150512695,
          8.091053009033203
         ]
        },
        {
         "hovertemplate": "color=Oporornis<br>TSNE1=%{x}<br>TSNE2=%{y}<br>TSNE3=%{z}<extra></extra>",
         "legendgroup": "Oporornis",
         "marker": {
          "color": "#00cc96",
          "symbol": "circle"
         },
         "mode": "markers",
         "name": "Oporornis",
         "scene": "scene",
         "showlegend": true,
         "type": "scatter3d",
         "x": [
          8.54106616973877,
          -2.784339189529419,
          12.427154541015625
         ],
         "y": [
          0.29082608222961426,
          1.1721190214157104,
          -2.5868730545043945
         ],
         "z": [
          -1.186693787574768,
          7.9114251136779785,
          -4.292744159698486
         ]
        },
        {
         "hovertemplate": "color=Oreopholus<br>TSNE1=%{x}<br>TSNE2=%{y}<br>TSNE3=%{z}<extra></extra>",
         "legendgroup": "Oreopholus",
         "marker": {
          "color": "#ab63fa",
          "symbol": "circle"
         },
         "mode": "markers",
         "name": "Oreopholus",
         "scene": "scene",
         "showlegend": true,
         "type": "scatter3d",
         "x": [
          -0.36927250027656555,
          5.855983734130859,
          -3.1832096576690674
         ],
         "y": [
          -4.3361358642578125,
          -6.778285980224609,
          -4.3844146728515625
         ],
         "z": [
          2.633115291595459,
          -1.7711942195892334,
          -5.796402931213379
         ]
        },
        {
         "hovertemplate": "color=Ornithion<br>TSNE1=%{x}<br>TSNE2=%{y}<br>TSNE3=%{z}<extra></extra>",
         "legendgroup": "Ornithion",
         "marker": {
          "color": "#FFA15A",
          "symbol": "circle"
         },
         "mode": "markers",
         "name": "Ornithion",
         "scene": "scene",
         "showlegend": true,
         "type": "scatter3d",
         "x": [
          -2.553267478942871,
          -6.122070789337158,
          -3.817859172821045
         ],
         "y": [
          -0.14626026153564453,
          4.42194938659668,
          2.1156673431396484
         ],
         "z": [
          -5.990676403045654,
          4.804835319519043,
          -8.563376426696777
         ]
        },
        {
         "hovertemplate": "color=Ortalis<br>TSNE1=%{x}<br>TSNE2=%{y}<br>TSNE3=%{z}<extra></extra>",
         "legendgroup": "Ortalis",
         "marker": {
          "color": "#19d3f3",
          "symbol": "circle"
         },
         "mode": "markers",
         "name": "Ortalis",
         "scene": "scene",
         "showlegend": true,
         "type": "scatter3d",
         "x": [
          -5.556909084320068,
          1.3608224391937256
         ],
         "y": [
          0.7226021885871887,
          1.016958236694336
         ],
         "z": [
          -8.030824661254883,
          8.04576587677002
         ]
        },
        {
         "hovertemplate": "color=Orthopsittaca<br>TSNE1=%{x}<br>TSNE2=%{y}<br>TSNE3=%{z}<extra></extra>",
         "legendgroup": "Orthopsittaca",
         "marker": {
          "color": "#FF6692",
          "symbol": "circle"
         },
         "mode": "markers",
         "name": "Orthopsittaca",
         "scene": "scene",
         "showlegend": true,
         "type": "scatter3d",
         "x": [
          -1.4787248373031616,
          -7.119833469390869,
          -0.897846519947052,
          -3.3477060794830322,
          -6.699805736541748
         ],
         "y": [
          -6.1577982902526855,
          3.7010436058044434,
          3.437387466430664,
          2.4978222846984863,
          7.889540672302246
         ],
         "z": [
          4.413388252258301,
          -4.366682052612305,
          -4.766521453857422,
          -8.448266983032227,
          1.0324852466583252
         ]
        },
        {
         "hovertemplate": "color=Oxyruncus<br>TSNE1=%{x}<br>TSNE2=%{y}<br>TSNE3=%{z}<extra></extra>",
         "legendgroup": "Oxyruncus",
         "marker": {
          "color": "#B6E880",
          "symbol": "circle"
         },
         "mode": "markers",
         "name": "Oxyruncus",
         "scene": "scene",
         "showlegend": true,
         "type": "scatter3d",
         "x": [
          0.8944985270500183,
          7.917723655700684
         ],
         "y": [
          -5.569660663604736,
          -8.004254341125488
         ],
         "z": [
          -8.273534774780273,
          -0.8877776861190796
         ]
        },
        {
         "hovertemplate": "color=Oxyura<br>TSNE1=%{x}<br>TSNE2=%{y}<br>TSNE3=%{z}<extra></extra>",
         "legendgroup": "Oxyura",
         "marker": {
          "color": "#FF97FF",
          "symbol": "circle"
         },
         "mode": "markers",
         "name": "Oxyura",
         "scene": "scene",
         "showlegend": true,
         "type": "scatter3d",
         "x": [
          -1.4029942750930786,
          -3.479464054107666
         ],
         "y": [
          -4.963228225708008,
          -4.053966999053955
         ],
         "z": [
          6.357717037200928,
          -6.730995178222656
         ]
        },
        {
         "hovertemplate": "color=Pachyramphus<br>TSNE1=%{x}<br>TSNE2=%{y}<br>TSNE3=%{z}<extra></extra>",
         "legendgroup": "Pachyramphus",
         "marker": {
          "color": "#FECB52",
          "symbol": "circle"
         },
         "mode": "markers",
         "name": "Pachyramphus",
         "scene": "scene",
         "showlegend": true,
         "type": "scatter3d",
         "x": [
          6.167593002319336,
          4.497706890106201,
          -5.059418678283691,
          3.0848264694213867,
          -2.6786906719207764,
          6.480545520782471,
          6.488652229309082,
          9.20350170135498,
          -2.7866580486297607,
          0.05552636459469795,
          -2.688664674758911,
          3.477830648422241,
          -3.450939178466797,
          -1.212585687637329,
          -1.4420104026794434,
          -4.754842758178711,
          -5.005369663238525,
          3.259352445602417,
          -2.482231378555298
         ],
         "y": [
          -1.861401081085205,
          -3.863032341003418,
          8.582054138183594,
          -3.456156015396118,
          -0.7676330804824829,
          -6.188668251037598,
          -1.96115243434906,
          -8.311797142028809,
          1.0528396368026733,
          -0.11917731910943985,
          4.014132976531982,
          0.8348525762557983,
          1.3440310955047607,
          -2.8736932277679443,
          -4.678979396820068,
          6.7270588874816895,
          2.869809150695801,
          -7.2610273361206055,
          -0.33927300572395325
         ],
         "z": [
          2.3236241340637207,
          -3.472902536392212,
          -0.03415556252002716,
          -2.6101412773132324,
          2.519643545150757,
          -1.5212653875350952,
          3.373790979385376,
          -0.6423481106758118,
          4.756967067718506,
          1.3819040060043335,
          -7.2231245040893555,
          7.2383880615234375,
          0.868374764919281,
          -2.621367931365967,
          5.676743507385254,
          5.334564685821533,
          1.504710078239441,
          -5.145593643188477,
          -4.690842151641846
         ]
        },
        {
         "hovertemplate": "color=Panyptila<br>TSNE1=%{x}<br>TSNE2=%{y}<br>TSNE3=%{z}<extra></extra>",
         "legendgroup": "Panyptila",
         "marker": {
          "color": "#636efa",
          "symbol": "circle"
         },
         "mode": "markers",
         "name": "Panyptila",
         "scene": "scene",
         "showlegend": true,
         "type": "scatter3d",
         "x": [
          -5.6898722648620605,
          -3.0525197982788086,
          0.5317556262016296
         ],
         "y": [
          2.5156240463256836,
          -3.4365477561950684,
          5.092713832855225
         ],
         "z": [
          -7.431782245635986,
          3.878349781036377,
          0.004573173820972443
         ]
        },
        {
         "hovertemplate": "color=Parabuteo<br>TSNE1=%{x}<br>TSNE2=%{y}<br>TSNE3=%{z}<extra></extra>",
         "legendgroup": "Parabuteo",
         "marker": {
          "color": "#EF553B",
          "symbol": "circle"
         },
         "mode": "markers",
         "name": "Parabuteo",
         "scene": "scene",
         "showlegend": true,
         "type": "scatter3d",
         "x": [
          7.413798809051514,
          5.517111778259277,
          5.483582019805908
         ],
         "y": [
          -1.3490427732467651,
          -4.069533824920654,
          -4.234883785247803
         ],
         "z": [
          3.283254623413086,
          3.6532905101776123,
          -3.1326825618743896
         ]
        },
        {
         "hovertemplate": "color=Pardirallus<br>TSNE1=%{x}<br>TSNE2=%{y}<br>TSNE3=%{z}<extra></extra>",
         "legendgroup": "Pardirallus",
         "marker": {
          "color": "#00cc96",
          "symbol": "circle"
         },
         "mode": "markers",
         "name": "Pardirallus",
         "scene": "scene",
         "showlegend": true,
         "type": "scatter3d",
         "x": [
          0.8723881244659424,
          0.4797815978527069,
          4.404220104217529,
          -1.8799751996994019
         ],
         "y": [
          -5.267620086669922,
          -6.18489933013916,
          -4.562249660491943,
          4.0204620361328125
         ],
         "z": [
          -5.0190205574035645,
          5.177139759063721,
          5.235073566436768,
          -2.974745750427246
         ]
        },
        {
         "hovertemplate": "color=Parkerthraustes<br>TSNE1=%{x}<br>TSNE2=%{y}<br>TSNE3=%{z}<extra></extra>",
         "legendgroup": "Parkerthraustes",
         "marker": {
          "color": "#ab63fa",
          "symbol": "circle"
         },
         "mode": "markers",
         "name": "Parkerthraustes",
         "scene": "scene",
         "showlegend": true,
         "type": "scatter3d",
         "x": [
          -3.4759585857391357
         ],
         "y": [
          -0.725287914276123
         ],
         "z": [
          -7.632104396820068
         ]
        },
        {
         "hovertemplate": "color=Paroaria<br>TSNE1=%{x}<br>TSNE2=%{y}<br>TSNE3=%{z}<extra></extra>",
         "legendgroup": "Paroaria",
         "marker": {
          "color": "#FFA15A",
          "symbol": "circle"
         },
         "mode": "markers",
         "name": "Paroaria",
         "scene": "scene",
         "showlegend": true,
         "type": "scatter3d",
         "x": [
          -2.7518625259399414,
          1.2973276376724243,
          10.760438919067383
         ],
         "y": [
          -1.757654070854187,
          -5.403630256652832,
          -2.089836359024048
         ],
         "z": [
          5.914581775665283,
          -5.270597457885742,
          -2.669440269470215
         ]
        },
        {
         "hovertemplate": "color=Passer<br>TSNE1=%{x}<br>TSNE2=%{y}<br>TSNE3=%{z}<extra></extra>",
         "legendgroup": "Passer",
         "marker": {
          "color": "#19d3f3",
          "symbol": "circle"
         },
         "mode": "markers",
         "name": "Passer",
         "scene": "scene",
         "showlegend": true,
         "type": "scatter3d",
         "x": [
          4.972120761871338,
          -1.5567456483840942
         ],
         "y": [
          1.2404224872589111,
          -4.296154975891113
         ],
         "z": [
          6.089912414550781,
          7.28490686416626
         ]
        },
        {
         "hovertemplate": "color=Patagioenas<br>TSNE1=%{x}<br>TSNE2=%{y}<br>TSNE3=%{z}<extra></extra>",
         "legendgroup": "Patagioenas",
         "marker": {
          "color": "#FF6692",
          "symbol": "circle"
         },
         "mode": "markers",
         "name": "Patagioenas",
         "scene": "scene",
         "showlegend": true,
         "type": "scatter3d",
         "x": [
          10.794699668884277,
          -2.229109287261963,
          4.782094478607178,
          -5.478277206420898,
          10.817483901977539,
          5.011324882507324,
          -3.4947712421417236,
          -4.632431507110596,
          3.9409725666046143,
          -4.1248698234558105,
          0.24628761410713196,
          2.098487377166748,
          -0.6268926858901978,
          1.006311297416687,
          -2.7276504039764404,
          2.7875938415527344,
          3.76373028755188,
          5.406438827514648,
          -2.989992380142212
         ],
         "y": [
          -2.124192237854004,
          -4.662447929382324,
          1.4221582412719727,
          0.9154269099235535,
          -1.873551607131958,
          -4.207789421081543,
          2.165860891342163,
          3.0667829513549805,
          -2.9484047889709473,
          6.431260585784912,
          0.7749447822570801,
          -5.241611003875732,
          -0.6854901313781738,
          -5.586043834686279,
          6.511665344238281,
          -5.796246528625488,
          -2.2242438793182373,
          0.10907325148582458,
          2.0296947956085205
         ],
         "z": [
          -2.813642740249634,
          -4.376798629760742,
          6.219479560852051,
          -8.033590316772461,
          -1.7842772006988525,
          4.785401344299316,
          -8.549188613891602,
          5.9594035148620605,
          6.352591037750244,
          -4.645566940307617,
          0.09317781031131744,
          6.005819320678711,
          8.295660972595215,
          -7.544989585876465,
          1.3028775453567505,
          -4.924066543579102,
          6.821537494659424,
          1.0045959949493408,
          5.545183181762695
         ]
        },
        {
         "hovertemplate": "color=Pauxi<br>TSNE1=%{x}<br>TSNE2=%{y}<br>TSNE3=%{z}<extra></extra>",
         "legendgroup": "Pauxi",
         "marker": {
          "color": "#B6E880",
          "symbol": "circle"
         },
         "mode": "markers",
         "name": "Pauxi",
         "scene": "scene",
         "showlegend": true,
         "type": "scatter3d",
         "x": [
          6.286709785461426
         ],
         "y": [
          -7.873790264129639
         ],
         "z": [
          -1.3008477687835693
         ]
        },
        {
         "hovertemplate": "color=Penelope<br>TSNE1=%{x}<br>TSNE2=%{y}<br>TSNE3=%{z}<extra></extra>",
         "legendgroup": "Penelope",
         "marker": {
          "color": "#FF97FF",
          "symbol": "circle"
         },
         "mode": "markers",
         "name": "Penelope",
         "scene": "scene",
         "showlegend": true,
         "type": "scatter3d",
         "x": [
          10.846314430236816,
          -4.0456929206848145,
          -6.073121070861816
         ],
         "y": [
          -2.0382580757141113,
          -3.102231979370117,
          3.7511558532714844
         ],
         "z": [
          -2.370816707611084,
          -8.813398361206055,
          4.445508003234863
         ]
        },
        {
         "hovertemplate": "color=Petrochelidon<br>TSNE1=%{x}<br>TSNE2=%{y}<br>TSNE3=%{z}<extra></extra>",
         "legendgroup": "Petrochelidon",
         "marker": {
          "color": "#FECB52",
          "symbol": "circle"
         },
         "mode": "markers",
         "name": "Petrochelidon",
         "scene": "scene",
         "showlegend": true,
         "type": "scatter3d",
         "x": [
          0.09677540510892868,
          4.130311965942383,
          -0.4784435033798218
         ],
         "y": [
          5.691860198974609,
          -2.5162863731384277,
          0.7726464867591858
         ],
         "z": [
          -0.2817020118236542,
          6.502647399902344,
          -4.410153865814209
         ]
        },
        {
         "hovertemplate": "color=Phaeomyias<br>TSNE1=%{x}<br>TSNE2=%{y}<br>TSNE3=%{z}<extra></extra>",
         "legendgroup": "Phaeomyias",
         "marker": {
          "color": "#636efa",
          "symbol": "circle"
         },
         "mode": "markers",
         "name": "Phaeomyias",
         "scene": "scene",
         "showlegend": true,
         "type": "scatter3d",
         "x": [
          -2.8813462257385254,
          3.131756067276001,
          -6.38881778717041,
          -5.776101112365723,
          -2.1663529872894287
         ],
         "y": [
          4.034873008728027,
          0.6320705413818359,
          1.5555187463760376,
          3.0232651233673096,
          6.1206583976745605
         ],
         "z": [
          -7.2812299728393555,
          7.386997222900391,
          -7.101400852203369,
          4.089847087860107,
          1.3462631702423096
         ]
        },
        {
         "hovertemplate": "color=Phaethornis<br>TSNE1=%{x}<br>TSNE2=%{y}<br>TSNE3=%{z}<extra></extra>",
         "legendgroup": "Phaethornis",
         "marker": {
          "color": "#EF553B",
          "symbol": "circle"
         },
         "mode": "markers",
         "name": "Phaethornis",
         "scene": "scene",
         "showlegend": true,
         "type": "scatter3d",
         "x": [
          2.0616044998168945,
          -5.692907810211182,
          -3.141859292984009,
          -2.8875503540039062,
          -3.127326488494873,
          -3.6816225051879883,
          0.500977635383606,
          2.5066049098968506,
          12.267573356628418,
          5.177281379699707,
          0.04739256575703621,
          -3.6718900203704834,
          -1.5209776163101196,
          6.147961139678955,
          -0.9166160821914673,
          -6.269629955291748,
          0.0411725789308548
         ],
         "y": [
          -5.389134407043457,
          3.0360467433929443,
          1.9217475652694702,
          1.550063967704773,
          1.9087767601013184,
          5.912559509277344,
          0.4226195812225342,
          -4.277722358703613,
          -2.5416183471679688,
          -1.7845793962478638,
          -5.8553032875061035,
          5.118793487548828,
          1.6632329225540161,
          -0.27968937158584595,
          5.48475456237793,
          1.5552388429641724,
          -5.206018924713135
         ],
         "z": [
          4.793781280517578,
          4.806513786315918,
          7.151419162750244,
          5.148919582366943,
          5.33664083480835,
          -3.419426679611206,
          0.7831802368164062,
          -3.020052671432495,
          -3.7237026691436768,
          1.3131420612335205,
          7.240443706512451,
          -4.4578704833984375,
          1.3037992715835571,
          5.259790897369385,
          -2.0110960006713867,
          -7.224209785461426,
          -8.678751945495605
         ]
        },
        {
         "hovertemplate": "color=Phaetusa<br>TSNE1=%{x}<br>TSNE2=%{y}<br>TSNE3=%{z}<extra></extra>",
         "legendgroup": "Phaetusa",
         "marker": {
          "color": "#00cc96",
          "symbol": "circle"
         },
         "mode": "markers",
         "name": "Phaetusa",
         "scene": "scene",
         "showlegend": true,
         "type": "scatter3d",
         "x": [
          -3.8958120346069336,
          7.077554702758789
         ],
         "y": [
          3.9749152660369873,
          -0.22612397372722626
         ],
         "z": [
          -7.407872676849365,
          3.3600239753723145
         ]
        },
        {
         "hovertemplate": "color=Phalacrocorax<br>TSNE1=%{x}<br>TSNE2=%{y}<br>TSNE3=%{z}<extra></extra>",
         "legendgroup": "Phalacrocorax",
         "marker": {
          "color": "#ab63fa",
          "symbol": "circle"
         },
         "mode": "markers",
         "name": "Phalacrocorax",
         "scene": "scene",
         "showlegend": true,
         "type": "scatter3d",
         "x": [
          1.3910170793533325,
          4.236416816711426
         ],
         "y": [
          -4.450700283050537,
          -1.8798021078109741
         ],
         "z": [
          -2.7536461353302,
          0.6759245991706848
         ]
        },
        {
         "hovertemplate": "color=Phalaropus<br>TSNE1=%{x}<br>TSNE2=%{y}<br>TSNE3=%{z}<extra></extra>",
         "legendgroup": "Phalaropus",
         "marker": {
          "color": "#FFA15A",
          "symbol": "circle"
         },
         "mode": "markers",
         "name": "Phalaropus",
         "scene": "scene",
         "showlegend": true,
         "type": "scatter3d",
         "x": [
          -1.2010401487350464,
          -3.6070666313171387
         ],
         "y": [
          5.471656799316406,
          -3.7814671993255615
         ],
         "z": [
          0.9029297232627869,
          -6.923609256744385
         ]
        },
        {
         "hovertemplate": "color=Pharomachrus<br>TSNE1=%{x}<br>TSNE2=%{y}<br>TSNE3=%{z}<extra></extra>",
         "legendgroup": "Pharomachrus",
         "marker": {
          "color": "#19d3f3",
          "symbol": "circle"
         },
         "mode": "markers",
         "name": "Pharomachrus",
         "scene": "scene",
         "showlegend": true,
         "type": "scatter3d",
         "x": [
          -0.4290282428264618,
          6.312499523162842,
          6.383426666259766,
          -0.6227195858955383,
          7.58213996887207,
          -1.3064160346984863,
          4.1906890869140625,
          0.9236282110214233
         ],
         "y": [
          5.274888038635254,
          -2.754538059234619,
          -4.965337753295898,
          -3.4855334758758545,
          -0.8950440287590027,
          -6.12969446182251,
          -0.6929331421852112,
          -4.945595741271973
         ],
         "z": [
          -1.3774163722991943,
          4.911806106567383,
          -1.9780521392822266,
          3.2406368255615234,
          3.140085458755493,
          4.501946926116943,
          7.104187488555908,
          -3.663703441619873
         ]
        },
        {
         "hovertemplate": "color=Pheucticus<br>TSNE1=%{x}<br>TSNE2=%{y}<br>TSNE3=%{z}<extra></extra>",
         "legendgroup": "Pheucticus",
         "marker": {
          "color": "#FF6692",
          "symbol": "circle"
         },
         "mode": "markers",
         "name": "Pheucticus",
         "scene": "scene",
         "showlegend": true,
         "type": "scatter3d",
         "x": [
          -6.408140659332275,
          6.140321254730225,
          -6.174356460571289,
          -3.3766841888427734
         ],
         "y": [
          6.125107765197754,
          -3.6623754501342773,
          6.23769474029541,
          -3.0081615447998047
         ],
         "z": [
          2.9420294761657715,
          3.227332592010498,
          2.402045249938965,
          -3.895280122756958
         ]
        },
        {
         "hovertemplate": "color=Pheugopedius<br>TSNE1=%{x}<br>TSNE2=%{y}<br>TSNE3=%{z}<extra></extra>",
         "legendgroup": "Pheugopedius",
         "marker": {
          "color": "#B6E880",
          "symbol": "circle"
         },
         "mode": "markers",
         "name": "Pheugopedius",
         "scene": "scene",
         "showlegend": true,
         "type": "scatter3d",
         "x": [
          5.704408645629883,
          -0.23680219054222107,
          3.166222333908081,
          -6.474941730499268,
          -4.453400135040283,
          -2.023977279663086
         ],
         "y": [
          0.7329274415969849,
          -4.01324462890625,
          -3.8742763996124268,
          2.4994940757751465,
          3.4630181789398193,
          4.826738357543945
         ],
         "z": [
          0.8690668940544128,
          -3.0857579708099365,
          1.5375466346740723,
          5.227972030639648,
          6.110753536224365,
          1.4700467586517334
         ]
        },
        {
         "hovertemplate": "color=Philydor<br>TSNE1=%{x}<br>TSNE2=%{y}<br>TSNE3=%{z}<extra></extra>",
         "legendgroup": "Philydor",
         "marker": {
          "color": "#FF97FF",
          "symbol": "circle"
         },
         "mode": "markers",
         "name": "Philydor",
         "scene": "scene",
         "showlegend": true,
         "type": "scatter3d",
         "x": [
          -5.260412693023682,
          -2.0654709339141846,
          -2.315012216567993,
          -1.9037202596664429,
          -6.9038262367248535,
          5.028953552246094,
          -4.960437297821045,
          -5.418728351593018,
          2.44085693359375,
          6.595066547393799,
          0.6395885944366455
         ],
         "y": [
          5.1451334953308105,
          -4.760499000549316,
          -0.007244493812322617,
          0.40331342816352844,
          3.428184986114502,
          0.5618212819099426,
          3.10341739654541,
          7.171502113342285,
          1.1922191381454468,
          -5.983436584472656,
          -6.154576301574707
         ],
         "z": [
          5.342068195343018,
          -4.833391189575195,
          -5.843201160430908,
          -6.075680255889893,
          -4.7537617683410645,
          -0.9156030416488647,
          5.833078384399414,
          1.6138501167297363,
          7.562710285186768,
          -1.5187352895736694,
          5.438992500305176
         ]
        },
        {
         "hovertemplate": "color=Phlegopsis<br>TSNE1=%{x}<br>TSNE2=%{y}<br>TSNE3=%{z}<extra></extra>",
         "legendgroup": "Phlegopsis",
         "marker": {
          "color": "#FECB52",
          "symbol": "circle"
         },
         "mode": "markers",
         "name": "Phlegopsis",
         "scene": "scene",
         "showlegend": true,
         "type": "scatter3d",
         "x": [
          3.816692590713501,
          -3.800690174102783,
          -1.1281020641326904,
          0.1265362799167633,
          -2.4038302898406982,
          -5.463794708251953,
          -1.116862177848816,
          -3.3677103519439697
         ],
         "y": [
          -4.406983375549316,
          -2.2402405738830566,
          1.7629691362380981,
          0.3831055164337158,
          3.984959363937378,
          4.899721145629883,
          -6.021432399749756,
          9.56568431854248
         ],
         "z": [
          2.0315301418304443,
          -7.316118240356445,
          -6.668755531311035,
          1.1199100017547607,
          -7.141783237457275,
          6.131677150726318,
          4.244256973266602,
          -0.4830882251262665
         ]
        },
        {
         "hovertemplate": "color=Phleocryptes<br>TSNE1=%{x}<br>TSNE2=%{y}<br>TSNE3=%{z}<extra></extra>",
         "legendgroup": "Phleocryptes",
         "marker": {
          "color": "#636efa",
          "symbol": "circle"
         },
         "mode": "markers",
         "name": "Phleocryptes",
         "scene": "scene",
         "showlegend": true,
         "type": "scatter3d",
         "x": [
          4.045970916748047,
          0.26564130187034607,
          -2.355811834335327
         ],
         "y": [
          -3.5942766666412354,
          -5.426783561706543,
          4.00724983215332
         ],
         "z": [
          6.036377906799316,
          -7.516678333282471,
          -7.191519737243652
         ]
        },
        {
         "hovertemplate": "color=Phlogophilus<br>TSNE1=%{x}<br>TSNE2=%{y}<br>TSNE3=%{z}<extra></extra>",
         "legendgroup": "Phlogophilus",
         "marker": {
          "color": "#EF553B",
          "symbol": "circle"
         },
         "mode": "markers",
         "name": "Phlogophilus",
         "scene": "scene",
         "showlegend": true,
         "type": "scatter3d",
         "x": [
          -0.9143799543380737,
          -2.0127053260803223,
          5.245155334472656
         ],
         "y": [
          -0.994152843952179,
          -0.04455413669347763,
          -8.085548400878906
         ],
         "z": [
          2.5979909896850586,
          8.214323043823242,
          -1.8759503364562988
         ]
        },
        {
         "hovertemplate": "color=Phrygilus<br>TSNE1=%{x}<br>TSNE2=%{y}<br>TSNE3=%{z}<extra></extra>",
         "legendgroup": "Phrygilus",
         "marker": {
          "color": "#00cc96",
          "symbol": "circle"
         },
         "mode": "markers",
         "name": "Phrygilus",
         "scene": "scene",
         "showlegend": true,
         "type": "scatter3d",
         "x": [
          -5.582588195800781,
          -0.8791826367378235,
          8.463837623596191
         ],
         "y": [
          4.442709445953369,
          4.579129219055176,
          0.017375465482473373
         ],
         "z": [
          -5.817979335784912,
          -3.1092770099639893,
          -1.7339661121368408
         ]
        },
        {
         "hovertemplate": "color=Phyllomyias<br>TSNE1=%{x}<br>TSNE2=%{y}<br>TSNE3=%{z}<extra></extra>",
         "legendgroup": "Phyllomyias",
         "marker": {
          "color": "#ab63fa",
          "symbol": "circle"
         },
         "mode": "markers",
         "name": "Phyllomyias",
         "scene": "scene",
         "showlegend": true,
         "type": "scatter3d",
         "x": [
          6.744234085083008,
          -1.4615964889526367,
          5.400457859039307,
          -6.178239345550537,
          -3.223088026046753,
          6.695611953735352,
          -5.299813747406006,
          -2.0410163402557373,
          4.923538684844971,
          3.849069833755493,
          2.652074098587036,
          4.3087358474731445,
          -2.898664712905884,
          -0.6837977766990662
         ],
         "y": [
          -1.7895629405975342,
          -0.5321874618530273,
          -4.140096187591553,
          4.926096439361572,
          8.2362642288208,
          0.9715458750724792,
          0.7658296823501587,
          -4.774529933929443,
          -8.209141731262207,
          -1.7215620279312134,
          -5.663166522979736,
          -4.9230828285217285,
          1.2997111082077026,
          1.8493748903274536
         ],
         "z": [
          4.02515983581543,
          7.76754093170166,
          3.1076321601867676,
          -3.9394171237945557,
          -0.5213928818702698,
          -1.1790679693222046,
          -8.11577033996582,
          -4.9023966789245605,
          -2.1307601928710938,
          7.284151554107666,
          -4.858417510986328,
          4.29816198348999,
          7.809814453125,
          -6.335882663726807
         ]
        },
        {
         "hovertemplate": "color=Phylloscartes<br>TSNE1=%{x}<br>TSNE2=%{y}<br>TSNE3=%{z}<extra></extra>",
         "legendgroup": "Phylloscartes",
         "marker": {
          "color": "#FFA15A",
          "symbol": "circle"
         },
         "mode": "markers",
         "name": "Phylloscartes",
         "scene": "scene",
         "showlegend": true,
         "type": "scatter3d",
         "x": [
          -5.909769535064697,
          -1.2008116245269775,
          -0.6455768942832947,
          -2.5604758262634277,
          -5.500904560089111
         ],
         "y": [
          7.975210189819336,
          2.110283613204956,
          2.7899134159088135,
          0.838411271572113,
          4.308817386627197
         ],
         "z": [
          1.2050399780273438,
          -6.973167896270752,
          -5.12747049331665,
          -7.858151912689209,
          -2.8094258308410645
         ]
        },
        {
         "hovertemplate": "color=Piaya<br>TSNE1=%{x}<br>TSNE2=%{y}<br>TSNE3=%{z}<extra></extra>",
         "legendgroup": "Piaya",
         "marker": {
          "color": "#19d3f3",
          "symbol": "circle"
         },
         "mode": "markers",
         "name": "Piaya",
         "scene": "scene",
         "showlegend": true,
         "type": "scatter3d",
         "x": [
          3.208420991897583,
          -1.043209433555603,
          -0.5785056948661804,
          7.397343158721924,
          -4.697533130645752,
          2.403378963470459
         ],
         "y": [
          -5.3414998054504395,
          -5.22387170791626,
          3.4691989421844482,
          -0.29976919293403625,
          3.13403582572937,
          -4.925540447235107
         ],
         "z": [
          -4.48886251449585,
          -7.059116363525391,
          8.180157661437988,
          3.067031145095825,
          1.1603591442108154,
          -3.925391674041748
         ]
        },
        {
         "hovertemplate": "color=Piculus<br>TSNE1=%{x}<br>TSNE2=%{y}<br>TSNE3=%{z}<extra></extra>",
         "legendgroup": "Piculus",
         "marker": {
          "color": "#FF6692",
          "symbol": "circle"
         },
         "mode": "markers",
         "name": "Piculus",
         "scene": "scene",
         "showlegend": true,
         "type": "scatter3d",
         "x": [
          7.408330917358398,
          -2.874382257461548,
          -3.38651180267334,
          -4.442724227905273,
          9.029803276062012,
          -4.751521110534668,
          5.304658889770508
         ],
         "y": [
          -6.721258640289307,
          3.9042491912841797,
          3.1557116508483887,
          8.081880569458008,
          -8.233006477355957,
          -2.6449103355407715,
          -4.06343936920166
         ],
         "z": [
          -1.1012173891067505,
          -7.410490989685059,
          -3.2027335166931152,
          0.801793098449707,
          -0.6797961592674255,
          -9.228461265563965,
          4.688773155212402
         ]
        },
        {
         "hovertemplate": "color=Picumnus<br>TSNE1=%{x}<br>TSNE2=%{y}<br>TSNE3=%{z}<extra></extra>",
         "legendgroup": "Picumnus",
         "marker": {
          "color": "#B6E880",
          "symbol": "circle"
         },
         "mode": "markers",
         "name": "Picumnus",
         "scene": "scene",
         "showlegend": true,
         "type": "scatter3d",
         "x": [
          -4.541589736938477,
          8.996195793151855,
          6.076086044311523,
          -3.4404921531677246,
          -3.092238187789917,
          4.881260395050049,
          3.733889579772949,
          -3.5843307971954346,
          -0.07443656027317047,
          -5.415911674499512,
          8.894744873046875
         ],
         "y": [
          7.628129482269287,
          -0.04113215580582619,
          -0.346169650554657,
          6.05475378036499,
          1.240945816040039,
          -3.8409934043884277,
          -8.29763126373291,
          -0.47351428866386414,
          -0.694622278213501,
          2.7773072719573975,
          -0.9020414352416992
         ],
         "z": [
          -2.385648488998413,
          -1.1236121654510498,
          5.361752510070801,
          -2.3228514194488525,
          5.487087249755859,
          -3.323949098587036,
          -3.8566524982452393,
          5.527357578277588,
          5.6595540046691895,
          2.2920916080474854,
          -2.1946487426757812
         ]
        },
        {
         "hovertemplate": "color=Pilherodius<br>TSNE1=%{x}<br>TSNE2=%{y}<br>TSNE3=%{z}<extra></extra>",
         "legendgroup": "Pilherodius",
         "marker": {
          "color": "#FF97FF",
          "symbol": "circle"
         },
         "mode": "markers",
         "name": "Pilherodius",
         "scene": "scene",
         "showlegend": true,
         "type": "scatter3d",
         "x": [
          8.829773902893066,
          7.257997035980225
         ],
         "y": [
          -8.16380786895752,
          -0.3543943762779236
         ],
         "z": [
          -0.7200314998626709,
          -2.3611562252044678
         ]
        },
        {
         "hovertemplate": "color=Pionites<br>TSNE1=%{x}<br>TSNE2=%{y}<br>TSNE3=%{z}<extra></extra>",
         "legendgroup": "Pionites",
         "marker": {
          "color": "#FECB52",
          "symbol": "circle"
         },
         "mode": "markers",
         "name": "Pionites",
         "scene": "scene",
         "showlegend": true,
         "type": "scatter3d",
         "x": [
          -2.4253311157226562,
          4.897402763366699
         ],
         "y": [
          -5.0207438468933105,
          -3.1686851978302
         ],
         "z": [
          7.42019510269165,
          1.5828503370285034
         ]
        },
        {
         "hovertemplate": "color=Pionus<br>TSNE1=%{x}<br>TSNE2=%{y}<br>TSNE3=%{z}<extra></extra>",
         "legendgroup": "Pionus",
         "marker": {
          "color": "#636efa",
          "symbol": "circle"
         },
         "mode": "markers",
         "name": "Pionus",
         "scene": "scene",
         "showlegend": true,
         "type": "scatter3d",
         "x": [
          -0.16874924302101135,
          -0.1317693591117859,
          5.278122901916504,
          6.720885753631592,
          4.136544227600098,
          -2.367025852203369,
          -0.7614599466323853,
          -6.173300743103027
         ],
         "y": [
          3.5657615661621094,
          5.52617883682251,
          -5.374104022979736,
          -6.253758430480957,
          -3.742640733718872,
          -2.1268703937530518,
          2.7829596996307373,
          7.079596996307373
         ],
         "z": [
          -2.4808361530303955,
          -0.8397296667098999,
          4.64983606338501,
          -1.376997709274292,
          -3.3802928924560547,
          3.909250259399414,
          8.382340431213379,
          -1.5101840496063232
         ]
        },
        {
         "hovertemplate": "color=Pipile<br>TSNE1=%{x}<br>TSNE2=%{y}<br>TSNE3=%{z}<extra></extra>",
         "legendgroup": "Pipile",
         "marker": {
          "color": "#EF553B",
          "symbol": "circle"
         },
         "mode": "markers",
         "name": "Pipile",
         "scene": "scene",
         "showlegend": true,
         "type": "scatter3d",
         "x": [
          -6.859279155731201,
          -1.5768316984176636,
          -3.3975167274475098,
          -3.553495168685913
         ],
         "y": [
          7.611804962158203,
          1.0980740785598755,
          2.8966050148010254,
          7.979196071624756
         ],
         "z": [
          0.8346800208091736,
          3.062086343765259,
          -2.854139804840088,
          0.7287945747375488
         ]
        },
        {
         "hovertemplate": "color=Pipra<br>TSNE1=%{x}<br>TSNE2=%{y}<br>TSNE3=%{z}<extra></extra>",
         "legendgroup": "Pipra",
         "marker": {
          "color": "#00cc96",
          "symbol": "circle"
         },
         "mode": "markers",
         "name": "Pipra",
         "scene": "scene",
         "showlegend": true,
         "type": "scatter3d",
         "x": [
          -4.586624622344971,
          4.331309795379639,
          4.829209804534912,
          0.4629746973514557
         ],
         "y": [
          2.563023328781128,
          -8.435239791870117,
          -0.9240790009498596,
          0.9401655197143555
         ],
         "z": [
          1.0269598960876465,
          -2.743474245071411,
          0.8405740857124329,
          6.518208026885986
         ]
        },
        {
         "hovertemplate": "color=Pipraeidea<br>TSNE1=%{x}<br>TSNE2=%{y}<br>TSNE3=%{z}<extra></extra>",
         "legendgroup": "Pipraeidea",
         "marker": {
          "color": "#ab63fa",
          "symbol": "circle"
         },
         "mode": "markers",
         "name": "Pipraeidea",
         "scene": "scene",
         "showlegend": true,
         "type": "scatter3d",
         "x": [
          -0.6474247574806213,
          -3.8389267921447754,
          -3.3115224838256836
         ],
         "y": [
          2.9283573627471924,
          1.9588255882263184,
          -0.7004185318946838
         ],
         "z": [
          -5.467471122741699,
          2.37341046333313,
          4.148705959320068
         ]
        },
        {
         "hovertemplate": "color=Pipreola<br>TSNE1=%{x}<br>TSNE2=%{y}<br>TSNE3=%{z}<extra></extra>",
         "legendgroup": "Pipreola",
         "marker": {
          "color": "#FFA15A",
          "symbol": "circle"
         },
         "mode": "markers",
         "name": "Pipreola",
         "scene": "scene",
         "showlegend": true,
         "type": "scatter3d",
         "x": [
          -3.2869315147399902,
          8.909472465515137,
          8.663285255432129,
          -3.6657166481018066,
          6.147652626037598,
          -3.123560667037964,
          -2.6088616847991943,
          8.088889122009277,
          -1.156805157661438,
          -7.048591613769531,
          5.2314300537109375
         ],
         "y": [
          -0.5562540292739868,
          -8.188651084899902,
          -0.9077657461166382,
          -3.5479652881622314,
          1.2806378602981567,
          1.43455970287323,
          4.2971320152282715,
          -0.8948927521705627,
          2.018136501312256,
          1.3826913833618164,
          -8.090409278869629
         ],
         "z": [
          4.152009010314941,
          -0.7043196558952332,
          -2.3158304691314697,
          -7.0299458503723145,
          0.18098755180835724,
          5.9193243980407715,
          -6.343598365783691,
          -2.5677855014801025,
          -6.8702168464660645,
          -5.8799214363098145,
          -1.8859589099884033
         ]
        },
        {
         "hovertemplate": "color=Piprites<br>TSNE1=%{x}<br>TSNE2=%{y}<br>TSNE3=%{z}<extra></extra>",
         "legendgroup": "Piprites",
         "marker": {
          "color": "#19d3f3",
          "symbol": "circle"
         },
         "mode": "markers",
         "name": "Piprites",
         "scene": "scene",
         "showlegend": true,
         "type": "scatter3d",
         "x": [
          -2.555880308151245,
          6.078548908233643,
          -4.733604907989502
         ],
         "y": [
          8.066910743713379,
          -3.1757497787475586,
          6.157209396362305
         ],
         "z": [
          0.5036237835884094,
          2.9363677501678467,
          -3.866575002670288
         ]
        },
        {
         "hovertemplate": "color=Piranga<br>TSNE1=%{x}<br>TSNE2=%{y}<br>TSNE3=%{z}<extra></extra>",
         "legendgroup": "Piranga",
         "marker": {
          "color": "#FF6692",
          "symbol": "circle"
         },
         "mode": "markers",
         "name": "Piranga",
         "scene": "scene",
         "showlegend": true,
         "type": "scatter3d",
         "x": [
          -3.564846992492676,
          6.903184413909912,
          6.263214111328125,
          10.844969749450684,
          -2.9831533432006836,
          -1.076859474182129,
          -7.238326549530029,
          8.138069152832031,
          6.547443866729736,
          4.7224202156066895,
          12.092085838317871,
          -1.1296374797821045,
          -3.0359079837799072,
          -2.560478448867798,
          -3.6791412830352783
         ],
         "y": [
          5.051740646362305,
          -5.933986663818359,
          -5.97265625,
          -2.036222219467163,
          -1.0397391319274902,
          1.5285831689834595,
          7.936046600341797,
          -0.14505955576896667,
          1.1116766929626465,
          -1.2148711681365967,
          -2.5021228790283203,
          -4.364688873291016,
          5.402414798736572,
          1.738831877708435,
          -1.088469386100769
         ],
         "z": [
          6.485929012298584,
          -1.3754663467407227,
          -1.756572961807251,
          -2.3669497966766357,
          3.843616485595703,
          -4.684720039367676,
          1.070697546005249,
          -2.0385332107543945,
          -0.9528290629386902,
          0.8059902191162109,
          -3.3691508769989014,
          7.466507911682129,
          -3.1281559467315674,
          3.493720769882202,
          -7.7138447761535645
         ]
        },
        {
         "hovertemplate": "color=Pitangus<br>TSNE1=%{x}<br>TSNE2=%{y}<br>TSNE3=%{z}<extra></extra>",
         "legendgroup": "Pitangus",
         "marker": {
          "color": "#B6E880",
          "symbol": "circle"
         },
         "mode": "markers",
         "name": "Pitangus",
         "scene": "scene",
         "showlegend": true,
         "type": "scatter3d",
         "x": [
          -1.6629084348678589
         ],
         "y": [
          7.179574489593506
         ],
         "z": [
          -0.09492906928062439
         ]
        },
        {
         "hovertemplate": "color=Platalea<br>TSNE1=%{x}<br>TSNE2=%{y}<br>TSNE3=%{z}<extra></extra>",
         "legendgroup": "Platalea",
         "marker": {
          "color": "#FF97FF",
          "symbol": "circle"
         },
         "mode": "markers",
         "name": "Platalea",
         "scene": "scene",
         "showlegend": true,
         "type": "scatter3d",
         "x": [
          -3.8031206130981445,
          2.8958187103271484
         ],
         "y": [
          -3.0285229682922363,
          -4.131555557250977
         ],
         "z": [
          -8.162613868713379,
          -3.2721710205078125
         ]
        },
        {
         "hovertemplate": "color=Platyrinchus<br>TSNE1=%{x}<br>TSNE2=%{y}<br>TSNE3=%{z}<extra></extra>",
         "legendgroup": "Platyrinchus",
         "marker": {
          "color": "#FECB52",
          "symbol": "circle"
         },
         "mode": "markers",
         "name": "Platyrinchus",
         "scene": "scene",
         "showlegend": true,
         "type": "scatter3d",
         "x": [
          5.48054313659668,
          -0.7708730101585388,
          -5.892099857330322,
          1.8881043195724487,
          -4.569222927093506,
          -6.057916641235352,
          2.5989301204681396,
          -1.486173152923584,
          -1.9097189903259277
         ],
         "y": [
          -2.275509834289551,
          2.96592378616333,
          5.74245548248291,
          -5.7345404624938965,
          3.701284170150757,
          3.6038897037506104,
          -5.17948055267334,
          -6.210492134094238,
          -1.714491605758667
         ],
         "z": [
          1.6174557209014893,
          -2.8210577964782715,
          -2.273361921310425,
          6.60302209854126,
          -7.427484512329102,
          4.949953079223633,
          5.123967170715332,
          4.292110919952393,
          6.4751811027526855
         ]
        },
        {
         "hovertemplate": "color=Plegadis<br>TSNE1=%{x}<br>TSNE2=%{y}<br>TSNE3=%{z}<extra></extra>",
         "legendgroup": "Plegadis",
         "marker": {
          "color": "#636efa",
          "symbol": "circle"
         },
         "mode": "markers",
         "name": "Plegadis",
         "scene": "scene",
         "showlegend": true,
         "type": "scatter3d",
         "x": [
          1.9860810041427612,
          6.139300346374512,
          0.7500049471855164
         ],
         "y": [
          -4.721490383148193,
          -5.040839195251465,
          -5.519017219543457
         ],
         "z": [
          -2.1894097328186035,
          -2.273071765899658,
          -7.630817413330078
         ]
        },
        {
         "hovertemplate": "color=Pluvialis<br>TSNE1=%{x}<br>TSNE2=%{y}<br>TSNE3=%{z}<extra></extra>",
         "legendgroup": "Pluvialis",
         "marker": {
          "color": "#EF553B",
          "symbol": "circle"
         },
         "mode": "markers",
         "name": "Pluvialis",
         "scene": "scene",
         "showlegend": true,
         "type": "scatter3d",
         "x": [
          -1.1542013883590698,
          5.1375346183776855,
          -4.741724491119385
         ],
         "y": [
          -5.165838241577148,
          -3.9522078037261963,
          5.540962219238281
         ],
         "z": [
          -6.383190631866455,
          -3.25710129737854,
          6.149097919464111
         ]
        },
        {
         "hovertemplate": "color=Podilymbus<br>TSNE1=%{x}<br>TSNE2=%{y}<br>TSNE3=%{z}<extra></extra>",
         "legendgroup": "Podilymbus",
         "marker": {
          "color": "#00cc96",
          "symbol": "circle"
         },
         "mode": "markers",
         "name": "Podilymbus",
         "scene": "scene",
         "showlegend": true,
         "type": "scatter3d",
         "x": [
          -0.8310544490814209,
          1.0544019937515259,
          -2.5692389011383057
         ],
         "y": [
          4.424332141876221,
          -5.637130260467529,
          -2.3200125694274902
         ],
         "z": [
          -2.265002489089966,
          -8.194029808044434,
          5.697879791259766
         ]
        },
        {
         "hovertemplate": "color=Poecilotriccus<br>TSNE1=%{x}<br>TSNE2=%{y}<br>TSNE3=%{z}<extra></extra>",
         "legendgroup": "Poecilotriccus",
         "marker": {
          "color": "#ab63fa",
          "symbol": "circle"
         },
         "mode": "markers",
         "name": "Poecilotriccus",
         "scene": "scene",
         "showlegend": true,
         "type": "scatter3d",
         "x": [
          -4.564907073974609,
          6.375016689300537,
          -3.2386486530303955,
          0.07454647868871689,
          1.5726431608200073,
          4.0840935707092285,
          8.16436767578125,
          -0.14606395363807678,
          0.5535536408424377,
          3.263740062713623,
          -0.7166263461112976,
          0.3157884478569031,
          0.8164161443710327,
          6.579646110534668,
          -3.175776720046997
         ],
         "y": [
          7.6186699867248535,
          -7.866672992706299,
          4.815115451812744,
          -2.3732943534851074,
          -6.486545085906982,
          -4.179375171661377,
          -6.502660751342773,
          -4.529912948608398,
          0.40018895268440247,
          -3.9578857421875,
          1.8235210180282593,
          3.768589735031128,
          -5.5407233238220215,
          -6.582647800445557,
          -3.9791789054870605
         ],
         "z": [
          1.1467230319976807,
          -1.2660402059555054,
          6.910604953765869,
          -2.5977494716644287,
          4.944838523864746,
          -3.7903780937194824,
          -0.9035161137580872,
          -3.8603734970092773,
          0.5804851651191711,
          -3.3581459522247314,
          -3.3315794467926025,
          -0.9508612155914307,
          -7.761322021484375,
          -1.3792507648468018,
          4.330378532409668
         ]
        },
        {
         "hovertemplate": "color=Polioptila<br>TSNE1=%{x}<br>TSNE2=%{y}<br>TSNE3=%{z}<extra></extra>",
         "legendgroup": "Polioptila",
         "marker": {
          "color": "#FFA15A",
          "symbol": "circle"
         },
         "mode": "markers",
         "name": "Polioptila",
         "scene": "scene",
         "showlegend": true,
         "type": "scatter3d",
         "x": [
          1.7160372734069824,
          -7.227424144744873,
          -1.5536683797836304
         ],
         "y": [
          -5.308314323425293,
          8.194833755493164,
          -1.02415132522583
         ],
         "z": [
          3.9395029544830322,
          -0.27080583572387695,
          -3.0147039890289307
         ]
        },
        {
         "hovertemplate": "color=Polytmus<br>TSNE1=%{x}<br>TSNE2=%{y}<br>TSNE3=%{z}<extra></extra>",
         "legendgroup": "Polytmus",
         "marker": {
          "color": "#19d3f3",
          "symbol": "circle"
         },
         "mode": "markers",
         "name": "Polytmus",
         "scene": "scene",
         "showlegend": true,
         "type": "scatter3d",
         "x": [
          -0.7589269876480103,
          -6.289046287536621,
          3.921889066696167,
          -0.6345139145851135
         ],
         "y": [
          4.497213363647461,
          4.6787872314453125,
          -3.974360466003418,
          -4.835627555847168
         ],
         "z": [
          -2.0815834999084473,
          4.0232343673706055,
          5.786343097686768,
          -4.676316261291504
         ]
        },
        {
         "hovertemplate": "color=Porphyrio<br>TSNE1=%{x}<br>TSNE2=%{y}<br>TSNE3=%{z}<extra></extra>",
         "legendgroup": "Porphyrio",
         "marker": {
          "color": "#FF6692",
          "symbol": "circle"
         },
         "mode": "markers",
         "name": "Porphyrio",
         "scene": "scene",
         "showlegend": true,
         "type": "scatter3d",
         "x": [
          3.4910409450531006,
          -0.7078341245651245,
          -4.926239490509033,
          2.62213397026062
         ],
         "y": [
          -6.5764689445495605,
          -3.7962698936462402,
          4.5388288497924805,
          -4.424876689910889
         ],
         "z": [
          -4.944920539855957,
          7.253150463104248,
          -6.513374328613281,
          -3.3599209785461426
         ]
        },
        {
         "hovertemplate": "color=Porphyrolaema<br>TSNE1=%{x}<br>TSNE2=%{y}<br>TSNE3=%{z}<extra></extra>",
         "legendgroup": "Porphyrolaema",
         "marker": {
          "color": "#B6E880",
          "symbol": "circle"
         },
         "mode": "markers",
         "name": "Porphyrolaema",
         "scene": "scene",
         "showlegend": true,
         "type": "scatter3d",
         "x": [
          -1.0485671758651733
         ],
         "y": [
          -5.509964942932129
         ],
         "z": [
          4.072144508361816
         ]
        },
        {
         "hovertemplate": "color=Premnoplex<br>TSNE1=%{x}<br>TSNE2=%{y}<br>TSNE3=%{z}<extra></extra>",
         "legendgroup": "Premnoplex",
         "marker": {
          "color": "#FF97FF",
          "symbol": "circle"
         },
         "mode": "markers",
         "name": "Premnoplex",
         "scene": "scene",
         "showlegend": true,
         "type": "scatter3d",
         "x": [
          -1.161163330078125,
          2.4299752712249756,
          -2.993328809738159
         ],
         "y": [
          2.620654344558716,
          -5.047069072723389,
          -2.2300961017608643
         ],
         "z": [
          8.47362232208252,
          5.354311943054199,
          5.674761772155762
         ]
        },
        {
         "hovertemplate": "color=Premnornis<br>TSNE1=%{x}<br>TSNE2=%{y}<br>TSNE3=%{z}<extra></extra>",
         "legendgroup": "Premnornis",
         "marker": {
          "color": "#FECB52",
          "symbol": "circle"
         },
         "mode": "markers",
         "name": "Premnornis",
         "scene": "scene",
         "showlegend": true,
         "type": "scatter3d",
         "x": [
          -3.3119723796844482,
          -3.4705841541290283,
          -4.8436384201049805,
          -2.605844736099243
         ],
         "y": [
          -0.7649465203285217,
          8.821651458740234,
          7.812039375305176,
          1.3907129764556885
         ],
         "z": [
          6.322065830230713,
          -0.32089418172836304,
          4.346441745758057,
          2.144749402999878
         ]
        },
        {
         "hovertemplate": "color=Primolius<br>TSNE1=%{x}<br>TSNE2=%{y}<br>TSNE3=%{z}<extra></extra>",
         "legendgroup": "Primolius",
         "marker": {
          "color": "#636efa",
          "symbol": "circle"
         },
         "mode": "markers",
         "name": "Primolius",
         "scene": "scene",
         "showlegend": true,
         "type": "scatter3d",
         "x": [
          6.5189595222473145,
          -5.162116050720215
         ],
         "y": [
          0.9229098558425903,
          7.3635735511779785
         ],
         "z": [
          1.7656402587890625,
          -2.386211395263672
         ]
        },
        {
         "hovertemplate": "color=Progne<br>TSNE1=%{x}<br>TSNE2=%{y}<br>TSNE3=%{z}<extra></extra>",
         "legendgroup": "Progne",
         "marker": {
          "color": "#EF553B",
          "symbol": "circle"
         },
         "mode": "markers",
         "name": "Progne",
         "scene": "scene",
         "showlegend": true,
         "type": "scatter3d",
         "x": [
          -5.407458782196045,
          -1.9977349042892456,
          9.224396705627441,
          4.434879779815674,
          -2.8117997646331787,
          -5.343528747558594,
          6.196743488311768,
          2.1466386318206787,
          4.07291841506958
         ],
         "y": [
          5.9137115478515625,
          3.8434159755706787,
          -1.4023222923278809,
          -0.9967833757400513,
          4.771853923797607,
          0.8222876787185669,
          -0.1606159806251526,
          -5.239449501037598,
          -4.390493869781494
         ],
         "z": [
          5.115977764129639,
          -3.0794754028320312,
          -2.4902117252349854,
          -1.2300176620483398,
          -2.796189546585083,
          -8.190245628356934,
          2.1274471282958984,
          6.290835857391357,
          2.193775177001953
         ]
        },
        {
         "hovertemplate": "color=Psarocolius<br>TSNE1=%{x}<br>TSNE2=%{y}<br>TSNE3=%{z}<extra></extra>",
         "legendgroup": "Psarocolius",
         "marker": {
          "color": "#00cc96",
          "symbol": "circle"
         },
         "mode": "markers",
         "name": "Psarocolius",
         "scene": "scene",
         "showlegend": true,
         "type": "scatter3d",
         "x": [
          10.939322471618652,
          10.892748832702637,
          -2.7005631923675537,
          2.014199733734131,
          -5.712778091430664,
          9.240508079528809,
          10.758196830749512,
          6.047703742980957,
          -3.110677719116211,
          3.872905731201172,
          -1.0961049795150757,
          7.369187355041504,
          1.1334340572357178,
          0.5216516256332397
         ],
         "y": [
          -2.125265598297119,
          -1.9000630378723145,
          -0.7535733580589294,
          -5.517551898956299,
          3.0316812992095947,
          -1.1635397672653198,
          -2.0336294174194336,
          1.1618956327438354,
          5.63668155670166,
          -4.147021293640137,
          0.3787391781806946,
          0.8314253091812134,
          -5.671347141265869,
          -5.99070930480957
         ],
         "z": [
          -2.5955371856689453,
          -1.8302109241485596,
          8.11686897277832,
          6.4779839515686035,
          4.794929504394531,
          -2.1961262226104736,
          -2.465219497680664,
          -0.406588077545166,
          -2.7935757637023926,
          5.5451979637146,
          -3.781514883041382,
          -1.2663465738296509,
          -8.15775203704834,
          7.521924018859863
         ]
        },
        {
         "hovertemplate": "color=Pseudastur<br>TSNE1=%{x}<br>TSNE2=%{y}<br>TSNE3=%{z}<extra></extra>",
         "legendgroup": "Pseudastur",
         "marker": {
          "color": "#ab63fa",
          "symbol": "circle"
         },
         "mode": "markers",
         "name": "Pseudastur",
         "scene": "scene",
         "showlegend": true,
         "type": "scatter3d",
         "x": [
          -5.671555995941162,
          -6.017168045043945
         ],
         "y": [
          2.986330509185791,
          5.608980655670166
         ],
         "z": [
          2.9873242378234863,
          -3.7657108306884766
         ]
        },
        {
         "hovertemplate": "color=Pseudocolopteryx<br>TSNE1=%{x}<br>TSNE2=%{y}<br>TSNE3=%{z}<extra></extra>",
         "legendgroup": "Pseudocolopteryx",
         "marker": {
          "color": "#FFA15A",
          "symbol": "circle"
         },
         "mode": "markers",
         "name": "Pseudocolopteryx",
         "scene": "scene",
         "showlegend": true,
         "type": "scatter3d",
         "x": [
          6.558965682983398,
          8.247570037841797,
          -3.67166805267334
         ],
         "y": [
          -6.241087436676025,
          -6.511456489562988,
          2.559112071990967
         ],
         "z": [
          -1.4607104063034058,
          -0.8794084191322327,
          -3.780134677886963
         ]
        },
        {
         "hovertemplate": "color=Pseudotriccus<br>TSNE1=%{x}<br>TSNE2=%{y}<br>TSNE3=%{z}<extra></extra>",
         "legendgroup": "Pseudotriccus",
         "marker": {
          "color": "#19d3f3",
          "symbol": "circle"
         },
         "mode": "markers",
         "name": "Pseudotriccus",
         "scene": "scene",
         "showlegend": true,
         "type": "scatter3d",
         "x": [
          -0.32070961594581604,
          8.712658882141113,
          -2.419408082962036,
          5.698962211608887
         ],
         "y": [
          -0.5131717920303345,
          -1.056422233581543,
          3.0529277324676514,
          -7.0156569480896
         ],
         "z": [
          8.030925750732422,
          -2.4122414588928223,
          7.785353183746338,
          -1.837585210800171
         ]
        },
        {
         "hovertemplate": "color=Psittacara<br>TSNE1=%{x}<br>TSNE2=%{y}<br>TSNE3=%{z}<extra></extra>",
         "legendgroup": "Psittacara",
         "marker": {
          "color": "#FF6692",
          "symbol": "circle"
         },
         "mode": "markers",
         "name": "Psittacara",
         "scene": "scene",
         "showlegend": true,
         "type": "scatter3d",
         "x": [
          -1.4958585500717163,
          -1.0114997625350952,
          0.36740243434906006
         ],
         "y": [
          4.6365180015563965,
          -1.970450758934021,
          -3.789127826690674
         ],
         "z": [
          -3.473684310913086,
          2.4349873065948486,
          -2.5470690727233887
         ]
        },
        {
         "hovertemplate": "color=Psophia<br>TSNE1=%{x}<br>TSNE2=%{y}<br>TSNE3=%{z}<extra></extra>",
         "legendgroup": "Psophia",
         "marker": {
          "color": "#B6E880",
          "symbol": "circle"
         },
         "mode": "markers",
         "name": "Psophia",
         "scene": "scene",
         "showlegend": true,
         "type": "scatter3d",
         "x": [
          -3.3580596446990967,
          -4.312424182891846
         ],
         "y": [
          0.02141805924475193,
          8.570195198059082
         ],
         "z": [
          5.146669387817383,
          -1.3851423263549805
         ]
        },
        {
         "hovertemplate": "color=Pteroglossus<br>TSNE1=%{x}<br>TSNE2=%{y}<br>TSNE3=%{z}<extra></extra>",
         "legendgroup": "Pteroglossus",
         "marker": {
          "color": "#FF97FF",
          "symbol": "circle"
         },
         "mode": "markers",
         "name": "Pteroglossus",
         "scene": "scene",
         "showlegend": true,
         "type": "scatter3d",
         "x": [
          2.7522788047790527,
          -1.9051742553710938,
          -0.3052932322025299,
          -3.3867199420928955,
          -5.935885906219482,
          -4.383913040161133,
          -3.878650188446045,
          -4.979937553405762,
          -1.5678291320800781,
          -1.5985854864120483,
          -6.018564701080322
         ],
         "y": [
          -5.049628257751465,
          7.57672643661499,
          1.096006989479065,
          5.794135570526123,
          5.637711048126221,
          3.09264874458313,
          4.711967468261719,
          5.32277774810791,
          7.041703701019287,
          -4.43026876449585,
          3.2455947399139404
         ],
         "z": [
          3.8049135208129883,
          0.3709416687488556,
          1.5610194206237793,
          6.694133281707764,
          -2.8408894538879395,
          6.169376850128174,
          6.515727519989014,
          1.6654994487762451,
          0.012778643518686295,
          -4.049468517303467,
          4.159426689147949
         ]
        },
        {
         "hovertemplate": "color=Pulsatrix<br>TSNE1=%{x}<br>TSNE2=%{y}<br>TSNE3=%{z}<extra></extra>",
         "legendgroup": "Pulsatrix",
         "marker": {
          "color": "#FECB52",
          "symbol": "circle"
         },
         "mode": "markers",
         "name": "Pulsatrix",
         "scene": "scene",
         "showlegend": true,
         "type": "scatter3d",
         "x": [
          7.642685413360596,
          2.7966389656066895,
          -0.7761965394020081,
          2.6309409141540527,
          -4.726136207580566,
          4.844257354736328
         ],
         "y": [
          1.1409566402435303,
          0.5110763311386108,
          1.7623556852340698,
          -3.4471371173858643,
          7.655945301055908,
          -0.6783743500709534
         ],
         "z": [
          -0.5812085866928101,
          7.607367038726807,
          -3.6655924320220947,
          6.737536907196045,
          4.642328262329102,
          0.7385562062263489
         ]
        },
        {
         "hovertemplate": "color=Pygiptila<br>TSNE1=%{x}<br>TSNE2=%{y}<br>TSNE3=%{z}<extra></extra>",
         "legendgroup": "Pygiptila",
         "marker": {
          "color": "#636efa",
          "symbol": "circle"
         },
         "mode": "markers",
         "name": "Pygiptila",
         "scene": "scene",
         "showlegend": true,
         "type": "scatter3d",
         "x": [
          -2.214209794998169,
          -4.264779567718506
         ],
         "y": [
          -3.750581741333008,
          4.809182167053223
         ],
         "z": [
          5.530637741088867,
          1.1994303464889526
         ]
        },
        {
         "hovertemplate": "color=Pyrilia<br>TSNE1=%{x}<br>TSNE2=%{y}<br>TSNE3=%{z}<extra></extra>",
         "legendgroup": "Pyrilia",
         "marker": {
          "color": "#EF553B",
          "symbol": "circle"
         },
         "mode": "markers",
         "name": "Pyrilia",
         "scene": "scene",
         "showlegend": true,
         "type": "scatter3d",
         "x": [
          6.628408908843994,
          9.50273323059082
         ],
         "y": [
          1.151336669921875,
          -8.46707534790039
         ],
         "z": [
          1.5469268560409546,
          -0.5746784806251526
         ]
        },
        {
         "hovertemplate": "color=Pyrocephalus<br>TSNE1=%{x}<br>TSNE2=%{y}<br>TSNE3=%{z}<extra></extra>",
         "legendgroup": "Pyrocephalus",
         "marker": {
          "color": "#00cc96",
          "symbol": "circle"
         },
         "mode": "markers",
         "name": "Pyrocephalus",
         "scene": "scene",
         "showlegend": true,
         "type": "scatter3d",
         "x": [
          -0.624104380607605,
          5.285604953765869
         ],
         "y": [
          -3.7495667934417725,
          -3.8924648761749268
         ],
         "z": [
          3.125070095062256,
          4.980154037475586
         ]
        },
        {
         "hovertemplate": "color=Pyrrhomyias<br>TSNE1=%{x}<br>TSNE2=%{y}<br>TSNE3=%{z}<extra></extra>",
         "legendgroup": "Pyrrhomyias",
         "marker": {
          "color": "#ab63fa",
          "symbol": "circle"
         },
         "mode": "markers",
         "name": "Pyrrhomyias",
         "scene": "scene",
         "showlegend": true,
         "type": "scatter3d",
         "x": [
          -6.270622253417969,
          5.898833751678467
         ],
         "y": [
          5.052289962768555,
          1.131309986114502
         ],
         "z": [
          -3.590949058532715,
          0.0871042013168335
         ]
        },
        {
         "hovertemplate": "color=Pyrrhura<br>TSNE1=%{x}<br>TSNE2=%{y}<br>TSNE3=%{z}<extra></extra>",
         "legendgroup": "Pyrrhura",
         "marker": {
          "color": "#FFA15A",
          "symbol": "circle"
         },
         "mode": "markers",
         "name": "Pyrrhura",
         "scene": "scene",
         "showlegend": true,
         "type": "scatter3d",
         "x": [
          -0.4083861708641052,
          -2.1518170833587646,
          -2.6960906982421875
         ],
         "y": [
          5.782195568084717,
          -2.2088510990142822,
          -2.692574977874756
         ],
         "z": [
          -1.6228276491165161,
          6.027519702911377,
          -3.1864748001098633
         ]
        },
        {
         "hovertemplate": "color=Querula<br>TSNE1=%{x}<br>TSNE2=%{y}<br>TSNE3=%{z}<extra></extra>",
         "legendgroup": "Querula",
         "marker": {
          "color": "#19d3f3",
          "symbol": "circle"
         },
         "mode": "markers",
         "name": "Querula",
         "scene": "scene",
         "showlegend": true,
         "type": "scatter3d",
         "x": [
          -7.058531761169434,
          -3.065089702606201
         ],
         "y": [
          3.7521724700927734,
          -4.627615928649902
         ],
         "z": [
          -4.433859825134277,
          -6.033531188964844
         ]
        },
        {
         "hovertemplate": "color=Ramphastos<br>TSNE1=%{x}<br>TSNE2=%{y}<br>TSNE3=%{z}<extra></extra>",
         "legendgroup": "Ramphastos",
         "marker": {
          "color": "#FF6692",
          "symbol": "circle"
         },
         "mode": "markers",
         "name": "Ramphastos",
         "scene": "scene",
         "showlegend": true,
         "type": "scatter3d",
         "x": [
          -3.3036534786224365,
          -3.4322617053985596,
          -1.5137959718704224,
          4.893459320068359,
          9.199504852294922,
          4.298376083374023,
          -2.7013726234436035,
          -4.475031852722168
         ],
         "y": [
          -3.1202573776245117,
          -3.1318228244781494,
          4.1925787925720215,
          0.2523246705532074,
          -0.6907411217689514,
          -3.396826982498169,
          1.1857359409332275,
          4.850546836853027
         ],
         "z": [
          -3.723771810531616,
          -4.066049575805664,
          -3.607773780822754,
          -0.117559514939785,
          -1.6624077558517456,
          6.008638381958008,
          7.991950511932373,
          1.2680565118789673
         ]
        },
        {
         "hovertemplate": "color=Ramphocaenus<br>TSNE1=%{x}<br>TSNE2=%{y}<br>TSNE3=%{z}<extra></extra>",
         "legendgroup": "Ramphocaenus",
         "marker": {
          "color": "#B6E880",
          "symbol": "circle"
         },
         "mode": "markers",
         "name": "Ramphocaenus",
         "scene": "scene",
         "showlegend": true,
         "type": "scatter3d",
         "x": [
          2.9872236251831055,
          2.8436059951782227,
          -3.195374011993408,
          -1.5707708597183228,
          -5.186451435089111,
          -1.497728705406189
         ],
         "y": [
          -5.321877479553223,
          -5.017611026763916,
          -2.9610538482666016,
          -3.80124831199646,
          4.994901657104492,
          -4.54835844039917
         ],
         "z": [
          4.558577060699463,
          4.1176934242248535,
          -3.6611928939819336,
          7.451128959655762,
          -5.27264404296875,
          4.8168816566467285
         ]
        },
        {
         "hovertemplate": "color=Ramphocelus<br>TSNE1=%{x}<br>TSNE2=%{y}<br>TSNE3=%{z}<extra></extra>",
         "legendgroup": "Ramphocelus",
         "marker": {
          "color": "#FF97FF",
          "symbol": "circle"
         },
         "mode": "markers",
         "name": "Ramphocelus",
         "scene": "scene",
         "showlegend": true,
         "type": "scatter3d",
         "x": [
          0.19049999117851257,
          4.809543132781982,
          4.901024341583252,
          5.439992904663086,
          0.6745671629905701,
          -0.7993481755256653,
          3.015371799468994
         ],
         "y": [
          0.8545534014701843,
          0.4435955286026001,
          -5.023617744445801,
          -4.195050239562988,
          1.791593074798584,
          3.044382333755493,
          -4.417447090148926
         ],
         "z": [
          0.16561032831668854,
          -0.89580237865448,
          4.624675273895264,
          2.9060356616973877,
          7.5063300132751465,
          -5.109979629516602,
          5.758771896362305
         ]
        },
        {
         "hovertemplate": "color=Ramphotrigon<br>TSNE1=%{x}<br>TSNE2=%{y}<br>TSNE3=%{z}<extra></extra>",
         "legendgroup": "Ramphotrigon",
         "marker": {
          "color": "#FECB52",
          "symbol": "circle"
         },
         "mode": "markers",
         "name": "Ramphotrigon",
         "scene": "scene",
         "showlegend": true,
         "type": "scatter3d",
         "x": [
          -1.6802167892456055,
          6.389593601226807,
          3.6263327598571777,
          -4.309629440307617,
          -6.153704643249512,
          3.932512044906616,
          4.894529342651367
         ],
         "y": [
          7.093019008636475,
          0.8146882057189941,
          -4.021807670593262,
          6.342825412750244,
          6.523610591888428,
          -2.5929133892059326,
          -3.20609188079834
         ],
         "z": [
          -0.04880493879318237,
          4.3570756912231445,
          5.7800798416137695,
          1.5087519884109497,
          2.264714002609253,
          6.55220890045166,
          1.6398378610610962
         ]
        },
        {
         "hovertemplate": "color=Rhegmatorhina<br>TSNE1=%{x}<br>TSNE2=%{y}<br>TSNE3=%{z}<extra></extra>",
         "legendgroup": "Rhegmatorhina",
         "marker": {
          "color": "#636efa",
          "symbol": "circle"
         },
         "mode": "markers",
         "name": "Rhegmatorhina",
         "scene": "scene",
         "showlegend": true,
         "type": "scatter3d",
         "x": [
          4.85759973526001,
          0.1609341949224472
         ],
         "y": [
          -5.5032548904418945,
          4.2416462898254395
         ],
         "z": [
          5.126657962799072,
          7.673469543457031
         ]
        },
        {
         "hovertemplate": "color=Rhynchocyclus<br>TSNE1=%{x}<br>TSNE2=%{y}<br>TSNE3=%{z}<extra></extra>",
         "legendgroup": "Rhynchocyclus",
         "marker": {
          "color": "#EF553B",
          "symbol": "circle"
         },
         "mode": "markers",
         "name": "Rhynchocyclus",
         "scene": "scene",
         "showlegend": true,
         "type": "scatter3d",
         "x": [
          -3.157951593399048,
          -0.8040697574615479,
          1.2437764406204224,
          -3.3312864303588867,
          5.925677299499512
         ],
         "y": [
          0.8458619117736816,
          0.09294573217630386,
          4.204514026641846,
          1.3866101503372192,
          1.0344487428665161
         ],
         "z": [
          -8.166431427001953,
          -4.563533306121826,
          -0.38052499294281006,
          0.6902771592140198,
          0.6782795786857605
         ]
        },
        {
         "hovertemplate": "color=Rhynchotus<br>TSNE1=%{x}<br>TSNE2=%{y}<br>TSNE3=%{z}<extra></extra>",
         "legendgroup": "Rhynchotus",
         "marker": {
          "color": "#00cc96",
          "symbol": "circle"
         },
         "mode": "markers",
         "name": "Rhynchotus",
         "scene": "scene",
         "showlegend": true,
         "type": "scatter3d",
         "x": [
          1.2080270051956177,
          3.587291717529297
         ],
         "y": [
          2.949974775314331,
          -4.171987056732178
         ],
         "z": [
          7.672557353973389,
          1.6299208402633667
         ]
        },
        {
         "hovertemplate": "color=Rhytipterna<br>TSNE1=%{x}<br>TSNE2=%{y}<br>TSNE3=%{z}<extra></extra>",
         "legendgroup": "Rhytipterna",
         "marker": {
          "color": "#ab63fa",
          "symbol": "circle"
         },
         "mode": "markers",
         "name": "Rhytipterna",
         "scene": "scene",
         "showlegend": true,
         "type": "scatter3d",
         "x": [
          3.7254602909088135,
          1.0636370182037354,
          3.734736919403076,
          -4.684323787689209,
          11.274096488952637
         ],
         "y": [
          -4.15024995803833,
          -5.378467082977295,
          -8.298291206359863,
          4.550073623657227,
          -2.148923873901367
         ],
         "z": [
          -3.7399260997772217,
          -5.468120574951172,
          -3.8545498847961426,
          -6.578524112701416,
          -2.238006591796875
         ]
        },
        {
         "hovertemplate": "color=Riparia<br>TSNE1=%{x}<br>TSNE2=%{y}<br>TSNE3=%{z}<extra></extra>",
         "legendgroup": "Riparia",
         "marker": {
          "color": "#FFA15A",
          "symbol": "circle"
         },
         "mode": "markers",
         "name": "Riparia",
         "scene": "scene",
         "showlegend": true,
         "type": "scatter3d",
         "x": [
          -3.318666696548462,
          -6.6709418296813965
         ],
         "y": [
          -0.38226374983787537,
          3.2710888385772705
         ],
         "z": [
          4.548548221588135,
          4.438573837280273
         ]
        },
        {
         "hovertemplate": "color=Rollandia<br>TSNE1=%{x}<br>TSNE2=%{y}<br>TSNE3=%{z}<extra></extra>",
         "legendgroup": "Rollandia",
         "marker": {
          "color": "#19d3f3",
          "symbol": "circle"
         },
         "mode": "markers",
         "name": "Rollandia",
         "scene": "scene",
         "showlegend": true,
         "type": "scatter3d",
         "x": [
          -6.364223003387451,
          -4.8998613357543945,
          -4.530860900878906
         ],
         "y": [
          6.409097671508789,
          -2.4440321922302246,
          4.978903770446777
         ],
         "z": [
          2.3952555656433105,
          -9.202588081359863,
          1.3770737648010254
         ]
        },
        {
         "hovertemplate": "color=Rostrhamus<br>TSNE1=%{x}<br>TSNE2=%{y}<br>TSNE3=%{z}<extra></extra>",
         "legendgroup": "Rostrhamus",
         "marker": {
          "color": "#FF6692",
          "symbol": "circle"
         },
         "mode": "markers",
         "name": "Rostrhamus",
         "scene": "scene",
         "showlegend": true,
         "type": "scatter3d",
         "x": [
          1.0283344984054565
         ],
         "y": [
          3.265136241912842
         ],
         "z": [
          7.673305034637451
         ]
        },
        {
         "hovertemplate": "color=Rupicola<br>TSNE1=%{x}<br>TSNE2=%{y}<br>TSNE3=%{z}<extra></extra>",
         "legendgroup": "Rupicola",
         "marker": {
          "color": "#B6E880",
          "symbol": "circle"
         },
         "mode": "markers",
         "name": "Rupicola",
         "scene": "scene",
         "showlegend": true,
         "type": "scatter3d",
         "x": [
          -1.693931221961975,
          -1.6490060091018677,
          11.734216690063477,
          6.271936893463135,
          -5.275092601776123
         ],
         "y": [
          -6.291999816894531,
          -0.046677060425281525,
          -2.2126569747924805,
          1.0159015655517578,
          3.066758632659912
         ],
         "z": [
          4.4388580322265625,
          0.35822463035583496,
          -2.1528573036193848,
          4.5231242179870605,
          -7.515166759490967
         ]
        },
        {
         "hovertemplate": "color=Rupornis<br>TSNE1=%{x}<br>TSNE2=%{y}<br>TSNE3=%{z}<extra></extra>",
         "legendgroup": "Rupornis",
         "marker": {
          "color": "#FF97FF",
          "symbol": "circle"
         },
         "mode": "markers",
         "name": "Rupornis",
         "scene": "scene",
         "showlegend": true,
         "type": "scatter3d",
         "x": [
          -0.39684540033340454,
          -5.1966071128845215,
          -0.7815421223640442
         ],
         "y": [
          1.5014140605926514,
          3.0858707427978516,
          -4.985808849334717
         ],
         "z": [
          -0.21624687314033508,
          5.6418232917785645,
          7.395478248596191
         ]
        },
        {
         "hovertemplate": "color=Rynchops<br>TSNE1=%{x}<br>TSNE2=%{y}<br>TSNE3=%{z}<extra></extra>",
         "legendgroup": "Rynchops",
         "marker": {
          "color": "#FECB52",
          "symbol": "circle"
         },
         "mode": "markers",
         "name": "Rynchops",
         "scene": "scene",
         "showlegend": true,
         "type": "scatter3d",
         "x": [
          5.14204216003418,
          1.293894648551941,
          -4.418129920959473,
          -1.1748430728912354
         ],
         "y": [
          -4.202507019042969,
          -5.654094219207764,
          5.819197177886963,
          5.161366939544678
         ],
         "z": [
          4.655048847198486,
          -7.2815470695495605,
          1.4967678785324097,
          -2.2056796550750732
         ]
        },
        {
         "hovertemplate": "color=Saltator<br>TSNE1=%{x}<br>TSNE2=%{y}<br>TSNE3=%{z}<extra></extra>",
         "legendgroup": "Saltator",
         "marker": {
          "color": "#636efa",
          "symbol": "circle"
         },
         "mode": "markers",
         "name": "Saltator",
         "scene": "scene",
         "showlegend": true,
         "type": "scatter3d",
         "x": [
          -4.8872551918029785,
          -0.7513683438301086,
          -1.9875800609588623,
          -3.6866180896759033,
          -2.4217684268951416,
          -3.031386375427246,
          -2.554917812347412,
          -0.6315132975578308,
          2.913808822631836,
          -0.025839462876319885
         ],
         "y": [
          4.858478546142578,
          -0.6256468892097473,
          2.2895708084106445,
          8.27826976776123,
          7.181416988372803,
          4.367434024810791,
          1.4774452447891235,
          -5.4877095222473145,
          -5.0259881019592285,
          -4.396692276000977
         ],
         "z": [
          -5.544029712677002,
          8.132551193237305,
          -7.945158004760742,
          0.3007586896419525,
          0.8612775206565857,
          6.3661909103393555,
          4.150696754455566,
          7.027529716491699,
          -4.23958158493042,
          8.416353225708008
         ]
        },
        {
         "hovertemplate": "color=Sarcoramphus<br>TSNE1=%{x}<br>TSNE2=%{y}<br>TSNE3=%{z}<extra></extra>",
         "legendgroup": "Sarcoramphus",
         "marker": {
          "color": "#EF553B",
          "symbol": "circle"
         },
         "mode": "markers",
         "name": "Sarcoramphus",
         "scene": "scene",
         "showlegend": true,
         "type": "scatter3d",
         "x": [
          1.25264310836792,
          -0.8639160990715027
         ],
         "y": [
          4.273152828216553,
          -3.984600067138672
         ],
         "z": [
          7.247854232788086,
          -3.3999271392822266
         ]
        },
        {
         "hovertemplate": "color=Satrapa<br>TSNE1=%{x}<br>TSNE2=%{y}<br>TSNE3=%{z}<extra></extra>",
         "legendgroup": "Satrapa",
         "marker": {
          "color": "#00cc96",
          "symbol": "circle"
         },
         "mode": "markers",
         "name": "Satrapa",
         "scene": "scene",
         "showlegend": true,
         "type": "scatter3d",
         "x": [
          -1.556931972503662
         ],
         "y": [
          -4.490542411804199
         ],
         "z": [
          -8.975264549255371
         ]
        },
        {
         "hovertemplate": "color=Sayornis<br>TSNE1=%{x}<br>TSNE2=%{y}<br>TSNE3=%{z}<extra></extra>",
         "legendgroup": "Sayornis",
         "marker": {
          "color": "#ab63fa",
          "symbol": "circle"
         },
         "mode": "markers",
         "name": "Sayornis",
         "scene": "scene",
         "showlegend": true,
         "type": "scatter3d",
         "x": [
          -3.1751768589019775,
          8.987713813781738,
          1.3401730060577393
         ],
         "y": [
          5.199429988861084,
          -0.7013733386993408,
          -3.166888475418091
         ],
         "z": [
          -3.8262624740600586,
          -1.8785747289657593,
          -2.022376775741577
         ]
        },
        {
         "hovertemplate": "color=Schiffornis<br>TSNE1=%{x}<br>TSNE2=%{y}<br>TSNE3=%{z}<extra></extra>",
         "legendgroup": "Schiffornis",
         "marker": {
          "color": "#FFA15A",
          "symbol": "circle"
         },
         "mode": "markers",
         "name": "Schiffornis",
         "scene": "scene",
         "showlegend": true,
         "type": "scatter3d",
         "x": [
          -6.201910495758057,
          -4.3891706466674805,
          -1.3610879182815552,
          -4.8889994621276855,
          3.976274013519287,
          1.0100433826446533,
          -0.32481077313423157,
          6.514459133148193,
          5.185244560241699
         ],
         "y": [
          4.193979740142822,
          3.567345142364502,
          2.4296817779541016,
          2.3189377784729004,
          -5.576332092285156,
          -3.984686851501465,
          4.87186336517334,
          1.2644941806793213,
          -3.6280899047851562
         ],
         "z": [
          4.435263156890869,
          0.99767005443573,
          8.474342346191406,
          3.191124677658081,
          5.801584243774414,
          -2.415271043777466,
          -1.3425120115280151,
          1.0599775314331055,
          5.389584541320801
         ]
        },
        {
         "hovertemplate": "color=Schistes<br>TSNE1=%{x}<br>TSNE2=%{y}<br>TSNE3=%{z}<extra></extra>",
         "legendgroup": "Schistes",
         "marker": {
          "color": "#19d3f3",
          "symbol": "circle"
         },
         "mode": "markers",
         "name": "Schistes",
         "scene": "scene",
         "showlegend": true,
         "type": "scatter3d",
         "x": [
          -1.8817631006240845,
          -4.196237087249756
         ],
         "y": [
          7.292758464813232,
          2.398268699645996
         ],
         "z": [
          0.4722762703895569,
          1.0940608978271484
         ]
        },
        {
         "hovertemplate": "color=Schistochlamys<br>TSNE1=%{x}<br>TSNE2=%{y}<br>TSNE3=%{z}<extra></extra>",
         "legendgroup": "Schistochlamys",
         "marker": {
          "color": "#FF6692",
          "symbol": "circle"
         },
         "mode": "markers",
         "name": "Schistochlamys",
         "scene": "scene",
         "showlegend": true,
         "type": "scatter3d",
         "x": [
          5.1073503494262695,
          -0.18326783180236816
         ],
         "y": [
          -3.627829074859619,
          -4.4673919677734375
         ],
         "z": [
          5.445732116699219,
          -3.4788460731506348
         ]
        },
        {
         "hovertemplate": "color=Sciaphylax<br>TSNE1=%{x}<br>TSNE2=%{y}<br>TSNE3=%{z}<extra></extra>",
         "legendgroup": "Sciaphylax",
         "marker": {
          "color": "#B6E880",
          "symbol": "circle"
         },
         "mode": "markers",
         "name": "Sciaphylax",
         "scene": "scene",
         "showlegend": true,
         "type": "scatter3d",
         "x": [
          5.095087051391602,
          3.9965827465057373,
          6.568326950073242
         ],
         "y": [
          -4.412134170532227,
          -4.920886993408203,
          -7.859890937805176
         ],
         "z": [
          4.395371437072754,
          4.949219226837158,
          -1.2004103660583496
         ]
        },
        {
         "hovertemplate": "color=Sclateria<br>TSNE1=%{x}<br>TSNE2=%{y}<br>TSNE3=%{z}<extra></extra>",
         "legendgroup": "Sclateria",
         "marker": {
          "color": "#FF97FF",
          "symbol": "circle"
         },
         "mode": "markers",
         "name": "Sclateria",
         "scene": "scene",
         "showlegend": true,
         "type": "scatter3d",
         "x": [
          3.0017244815826416,
          1.2276555299758911,
          2.7477588653564453
         ],
         "y": [
          0.535647451877594,
          -5.620672225952148,
          -3.805800437927246
         ],
         "z": [
          7.444993019104004,
          5.258294105529785,
          6.393186092376709
         ]
        },
        {
         "hovertemplate": "color=Sclerurus<br>TSNE1=%{x}<br>TSNE2=%{y}<br>TSNE3=%{z}<extra></extra>",
         "legendgroup": "Sclerurus",
         "marker": {
          "color": "#FECB52",
          "symbol": "circle"
         },
         "mode": "markers",
         "name": "Sclerurus",
         "scene": "scene",
         "showlegend": true,
         "type": "scatter3d",
         "x": [
          4.80465030670166,
          -3.274507999420166,
          -1.7143523693084717,
          5.196096897125244,
          -4.908097743988037,
          -2.7907943725585938,
          9.722587585449219,
          -0.1968076229095459,
          5.941227436065674
         ],
         "y": [
          -4.253172397613525,
          1.8482558727264404,
          -3.802717685699463,
          0.691663384437561,
          4.99540901184082,
          2.8404886722564697,
          -1.5338120460510254,
          -5.0046820640563965,
          0.5202891230583191
         ],
         "z": [
          2.6693410873413086,
          2.602792978286743,
          7.394842624664307,
          0.05440043658018112,
          -5.234625816345215,
          7.259133815765381,
          -2.294238567352295,
          -4.930823802947998,
          1.4044256210327148
         ]
        },
        {
         "hovertemplate": "color=Scytalopus<br>TSNE1=%{x}<br>TSNE2=%{y}<br>TSNE3=%{z}<extra></extra>",
         "legendgroup": "Scytalopus",
         "marker": {
          "color": "#636efa",
          "symbol": "circle"
         },
         "mode": "markers",
         "name": "Scytalopus",
         "scene": "scene",
         "showlegend": true,
         "type": "scatter3d",
         "x": [
          1.3296406269073486,
          -3.4695239067077637,
          5.1889872550964355,
          0.26228097081184387,
          10.7252779006958,
          -5.1758198738098145,
          5.9406328201293945,
          -3.543461799621582,
          -5.06887149810791,
          -3.609959840774536,
          9.679739952087402,
          9.827242851257324
         ],
         "y": [
          -5.879003047943115,
          8.119122505187988,
          0.3122206926345825,
          -5.420628547668457,
          -1.7989554405212402,
          8.400506019592285,
          -0.9081710577011108,
          7.908430099487305,
          6.0320305824279785,
          -2.06514310836792,
          -8.564062118530273,
          -8.64754867553711
         ],
         "z": [
          7.4617109298706055,
          -2.1669087409973145,
          6.0479512214660645,
          3.670537233352661,
          -1.6891887187957764,
          -1.802269697189331,
          1.944773554801941,
          -2.2665748596191406,
          5.588225364685059,
          -4.916213035583496,
          -0.5326417684555054,
          -0.4967426061630249
         ]
        },
        {
         "hovertemplate": "color=Selenidera<br>TSNE1=%{x}<br>TSNE2=%{y}<br>TSNE3=%{z}<extra></extra>",
         "legendgroup": "Selenidera",
         "marker": {
          "color": "#EF553B",
          "symbol": "circle"
         },
         "mode": "markers",
         "name": "Selenidera",
         "scene": "scene",
         "showlegend": true,
         "type": "scatter3d",
         "x": [
          -4.170330047607422,
          -6.298567295074463
         ],
         "y": [
          3.8193955421447754,
          2.7408857345581055
         ],
         "z": [
          -7.459909915924072,
          -6.61531400680542
         ]
        },
        {
         "hovertemplate": "color=Serpophaga<br>TSNE1=%{x}<br>TSNE2=%{y}<br>TSNE3=%{z}<extra></extra>",
         "legendgroup": "Serpophaga",
         "marker": {
          "color": "#00cc96",
          "symbol": "circle"
         },
         "mode": "markers",
         "name": "Serpophaga",
         "scene": "scene",
         "showlegend": true,
         "type": "scatter3d",
         "x": [
          -3.1907107830047607,
          -7.3380913734436035,
          -6.98897647857666,
          -2.9535305500030518,
          -6.266322135925293,
          -3.826695680618286,
          5.055628776550293
         ],
         "y": [
          0.7213330268859863,
          8.092669486999512,
          7.650909900665283,
          5.193592548370361,
          4.760934829711914,
          -1.5691752433776855,
          -5.395087242126465
         ],
         "z": [
          5.502508163452148,
          -0.5098910331726074,
          0.5736013054847717,
          -3.2993316650390625,
          3.2867369651794434,
          -6.207183361053467,
          -3.8786423206329346
         ]
        },
        {
         "hovertemplate": "color=Setopagis<br>TSNE1=%{x}<br>TSNE2=%{y}<br>TSNE3=%{z}<extra></extra>",
         "legendgroup": "Setopagis",
         "marker": {
          "color": "#ab63fa",
          "symbol": "circle"
         },
         "mode": "markers",
         "name": "Setopagis",
         "scene": "scene",
         "showlegend": true,
         "type": "scatter3d",
         "x": [
          -5.580094337463379,
          2.147954225540161,
          -3.1714954376220703
         ],
         "y": [
          8.489286422729492,
          1.600318431854248,
          5.709167003631592
         ],
         "z": [
          0.10828864574432373,
          7.678886890411377,
          6.649165630340576
         ]
        },
        {
         "hovertemplate": "color=Setophaga<br>TSNE1=%{x}<br>TSNE2=%{y}<br>TSNE3=%{z}<extra></extra>",
         "legendgroup": "Setophaga",
         "marker": {
          "color": "#FFA15A",
          "symbol": "circle"
         },
         "mode": "markers",
         "name": "Setophaga",
         "scene": "scene",
         "showlegend": true,
         "type": "scatter3d",
         "x": [
          7.869023323059082,
          5.476142883300781,
          12.321537017822266,
          -1.1339623928070068,
          0.21902218461036682,
          -5.277585506439209,
          -3.0067737102508545,
          -1.294975996017456,
          -2.41670298576355,
          0.6896170377731323,
          -5.487089157104492,
          3.0540544986724854,
          -1.914184331893921,
          -1.3277629613876343,
          6.75512170791626,
          9.542789459228516,
          -0.9563151597976685
         ],
         "y": [
          -7.996869087219238,
          -8.016192436218262,
          -2.558835983276367,
          7.625449180603027,
          4.286888599395752,
          4.930682182312012,
          -2.8795244693756104,
          4.093528747558594,
          -0.6332238912582397,
          -6.009999752044678,
          3.36061692237854,
          -4.295088291168213,
          -0.13158445060253143,
          -2.730696439743042,
          1.2950553894042969,
          -1.1430366039276123,
          1.4196475744247437
         ],
         "z": [
          -0.8974645137786865,
          -1.7212023735046387,
          -3.891660451889038,
          0.048594772815704346,
          7.633563995361328,
          5.561777591705322,
          5.021513938903809,
          -3.9310390949249268,
          -4.39670467376709,
          7.238236427307129,
          5.476206302642822,
          5.723239421844482,
          0.6052970290184021,
          6.708476543426514,
          1.3038192987442017,
          -1.8763712644577026,
          -5.224267959594727
         ]
        },
        {
         "hovertemplate": "color=Sicalis<br>TSNE1=%{x}<br>TSNE2=%{y}<br>TSNE3=%{z}<extra></extra>",
         "legendgroup": "Sicalis",
         "marker": {
          "color": "#19d3f3",
          "symbol": "circle"
         },
         "mode": "markers",
         "name": "Sicalis",
         "scene": "scene",
         "showlegend": true,
         "type": "scatter3d",
         "x": [
          -2.999110221862793,
          3.2721734046936035,
          -3.838559150695801,
          -2.799982786178589,
          -2.347334623336792,
          0.5231508612632751
         ],
         "y": [
          6.800099849700928,
          -2.890500068664551,
          1.7945533990859985,
          0.733834981918335,
          -0.5508881211280823,
          -4.568943500518799
         ],
         "z": [
          -4.0113959312438965,
          -2.0887107849121094,
          -8.695815086364746,
          4.664764404296875,
          2.353562116622925,
          -3.2567481994628906
         ]
        },
        {
         "hovertemplate": "color=Sirystes<br>TSNE1=%{x}<br>TSNE2=%{y}<br>TSNE3=%{z}<extra></extra>",
         "legendgroup": "Sirystes",
         "marker": {
          "color": "#FF6692",
          "symbol": "circle"
         },
         "mode": "markers",
         "name": "Sirystes",
         "scene": "scene",
         "showlegend": true,
         "type": "scatter3d",
         "x": [
          -4.214636325836182,
          -0.22323110699653625,
          -3.5367753505706787,
          6.180069923400879
         ],
         "y": [
          5.148957252502441,
          -6.059898853302002,
          -0.9877849817276001,
          -0.16520529985427856
         ],
         "z": [
          1.8513903617858887,
          6.037674903869629,
          -7.5376410484313965,
          2.1214075088500977
         ]
        },
        {
         "hovertemplate": "color=Sittasomus<br>TSNE1=%{x}<br>TSNE2=%{y}<br>TSNE3=%{z}<extra></extra>",
         "legendgroup": "Sittasomus",
         "marker": {
          "color": "#B6E880",
          "symbol": "circle"
         },
         "mode": "markers",
         "name": "Sittasomus",
         "scene": "scene",
         "showlegend": true,
         "type": "scatter3d",
         "x": [
          -3.2880947589874268,
          -2.2382118701934814,
          -0.10760996490716934
         ],
         "y": [
          -2.987191915512085,
          1.935104489326477,
          7.440447807312012
         ],
         "z": [
          -3.8820881843566895,
          -8.13942813873291,
          0.36080294847488403
         ]
        },
        {
         "hovertemplate": "color=Snowornis<br>TSNE1=%{x}<br>TSNE2=%{y}<br>TSNE3=%{z}<extra></extra>",
         "legendgroup": "Snowornis",
         "marker": {
          "color": "#FF97FF",
          "symbol": "circle"
         },
         "mode": "markers",
         "name": "Snowornis",
         "scene": "scene",
         "showlegend": true,
         "type": "scatter3d",
         "x": [
          4.5477423667907715,
          5.617237567901611,
          -5.962417125701904
         ],
         "y": [
          -8.371245384216309,
          -5.021754741668701,
          5.9428324699401855
         ],
         "z": [
          -2.489062547683716,
          -3.200650453567505,
          2.1226847171783447
         ]
        },
        {
         "hovertemplate": "color=Spatula<br>TSNE1=%{x}<br>TSNE2=%{y}<br>TSNE3=%{z}<extra></extra>",
         "legendgroup": "Spatula",
         "marker": {
          "color": "#FECB52",
          "symbol": "circle"
         },
         "mode": "markers",
         "name": "Spatula",
         "scene": "scene",
         "showlegend": true,
         "type": "scatter3d",
         "x": [
          2.803077220916748,
          -0.08030103147029877,
          0.2443113625049591,
          6.863463401794434,
          -3.4414258003234863,
          -4.720134735107422,
          3.523263454437256,
          4.7335004806518555
         ],
         "y": [
          -4.291842937469482,
          -5.272243022918701,
          -5.422089099884033,
          -1.827258825302124,
          -3.6886909008026123,
          7.73417329788208,
          -4.073381423950195,
          1.701512098312378
         ],
         "z": [
          -3.386593818664551,
          -6.49200439453125,
          -7.5097975730896,
          2.6183788776397705,
          -8.401140213012695,
          4.591373920440674,
          -3.607640027999878,
          6.205948352813721
         ]
        },
        {
         "hovertemplate": "color=Spinus<br>TSNE1=%{x}<br>TSNE2=%{y}<br>TSNE3=%{z}<extra></extra>",
         "legendgroup": "Spinus",
         "marker": {
          "color": "#636efa",
          "symbol": "circle"
         },
         "mode": "markers",
         "name": "Spinus",
         "scene": "scene",
         "showlegend": true,
         "type": "scatter3d",
         "x": [
          -2.1057538986206055,
          -3.208002805709839,
          4.070408344268799,
          -0.6957095861434937,
          -5.852973937988281,
          4.334292888641357,
          4.481743812561035
         ],
         "y": [
          -3.8469409942626953,
          0.3125617802143097,
          -1.8852643966674805,
          -5.3030548095703125,
          7.864335060119629,
          -3.724961519241333,
          -1.9706064462661743
         ],
         "z": [
          2.2214791774749756,
          5.1209940910339355,
          6.666386127471924,
          -6.9910078048706055,
          -0.6002782583236694,
          -3.3586363792419434,
          6.569692134857178
         ]
        },
        {
         "hovertemplate": "color=Spizaetus<br>TSNE1=%{x}<br>TSNE2=%{y}<br>TSNE3=%{z}<extra></extra>",
         "legendgroup": "Spizaetus",
         "marker": {
          "color": "#EF553B",
          "symbol": "circle"
         },
         "mode": "markers",
         "name": "Spizaetus",
         "scene": "scene",
         "showlegend": true,
         "type": "scatter3d",
         "x": [
          -4.411524772644043,
          7.345913410186768,
          -0.6377999782562256,
          4.032432556152344,
          -6.94791841506958,
          -2.137742757797241,
          -4.2008538246154785,
          -2.476799964904785,
          -4.334294319152832,
          -2.9664604663848877,
          -4.002071857452393
         ],
         "y": [
          4.298740386962891,
          -0.748497486114502,
          1.4543321132659912,
          -1.4625144004821777,
          2.006307363510132,
          -4.557831764221191,
          1.5305155515670776,
          1.6832656860351562,
          7.426611423492432,
          -3.0608725547790527,
          1.9425081014633179
         ],
         "z": [
          -7.2949066162109375,
          -2.652507781982422,
          -4.676403522491455,
          -0.42062970995903015,
          -5.89583683013916,
          6.548549652099609,
          5.559188365936279,
          1.5206679105758667,
          5.231812953948975,
          -3.724246025085449,
          -8.573395729064941
         ]
        },
        {
         "hovertemplate": "color=Sporophila<br>TSNE1=%{x}<br>TSNE2=%{y}<br>TSNE3=%{z}<extra></extra>",
         "legendgroup": "Sporophila",
         "marker": {
          "color": "#00cc96",
          "symbol": "circle"
         },
         "mode": "markers",
         "name": "Sporophila",
         "scene": "scene",
         "showlegend": true,
         "type": "scatter3d",
         "x": [
          -4.908812999725342,
          -1.0478283166885376,
          0.38294893503189087,
          -4.897090911865234,
          2.824284553527832,
          -7.224264144897461,
          -1.7818900346755981,
          2.3369860649108887,
          -0.8423097133636475,
          4.1946306228637695,
          0.6534215807914734,
          -1.009067177772522,
          -5.7173075675964355,
          -3.5489392280578613,
          -2.8383166790008545,
          -4.177150249481201,
          8.56274127960205,
          -1.6299431324005127,
          5.796960830688477,
          -5.077592372894287,
          2.4215128421783447,
          -5.766223907470703,
          -0.578610897064209,
          -0.7545179128646851,
          2.7367072105407715,
          0.08530406653881073,
          -4.526392459869385,
          5.6390557289123535,
          -1.9349433183670044,
          5.518496990203857,
          -2.4627633094787598,
          5.548426628112793,
          -5.503434181213379,
          -5.178943634033203,
          2.58023738861084,
          10.131875038146973,
          3.7787349224090576,
          -1.8467278480529785,
          3.26763653755188
         ],
         "y": [
          8.51513671875,
          2.485659122467041,
          -5.975348472595215,
          2.4698402881622314,
          0.4522037208080292,
          8.049001693725586,
          0.5646546483039856,
          -5.589406490325928,
          -4.2191548347473145,
          -2.3609557151794434,
          -0.6273581385612488,
          1.0281990766525269,
          6.11482048034668,
          2.599634885787964,
          1.7234578132629395,
          1.8898541927337646,
          -6.994035243988037,
          3.263824224472046,
          -7.94552755355835,
          5.632812023162842,
          -3.1164450645446777,
          3.1934618949890137,
          3.329133987426758,
          -0.9018256068229675,
          -4.265932083129883,
          -1.4018336534500122,
          0.3812166750431061,
          -4.259444713592529,
          4.079916000366211,
          -7.199516296386719,
          4.659505844116211,
          -2.3866076469421387,
          5.737246036529541,
          4.208225727081299,
          -6.2612810134887695,
          -1.3974337577819824,
          -5.007548809051514,
          0.44723090529441833,
          -6.742578983306885
         ],
         "z": [
          0.16483348608016968,
          8.484899520874023,
          7.186372756958008,
          1.9357062578201294,
          7.53233528137207,
          0.45445457100868225,
          2.200425148010254,
          5.222607612609863,
          -3.7420997619628906,
          6.2808380126953125,
          6.136631011962891,
          -4.8736572265625,
          -2.6730828285217285,
          -3.9236197471618652,
          4.812540531158447,
          -8.531367301940918,
          -0.810814619064331,
          8.168808937072754,
          -1.53246009349823,
          1.6559621095657349,
          -2.1344125270843506,
          -6.958829879760742,
          8.29023265838623,
          2.4067208766937256,
          -3.259275197982788,
          7.886203765869141,
          -8.16077995300293,
          -2.9411094188690186,
          -6.087076663970947,
          -1.927523136138916,
          7.268499851226807,
          1.7341688871383667,
          -3.784686803817749,
          5.846367835998535,
          4.625592231750488,
          -1.5563647747039795,
          4.486974239349365,
          2.2219326496124268,
          -5.129836082458496
         ]
        },
        {
         "hovertemplate": "color=Steatornis<br>TSNE1=%{x}<br>TSNE2=%{y}<br>TSNE3=%{z}<extra></extra>",
         "legendgroup": "Steatornis",
         "marker": {
          "color": "#ab63fa",
          "symbol": "circle"
         },
         "mode": "markers",
         "name": "Steatornis",
         "scene": "scene",
         "showlegend": true,
         "type": "scatter3d",
         "x": [
          -2.1738321781158447,
          -4.236532688140869
         ],
         "y": [
          -2.7614331245422363,
          5.202199935913086
         ],
         "z": [
          4.040289402008057,
          6.329536437988281
         ]
        },
        {
         "hovertemplate": "color=Stelgidopteryx<br>TSNE1=%{x}<br>TSNE2=%{y}<br>TSNE3=%{z}<extra></extra>",
         "legendgroup": "Stelgidopteryx",
         "marker": {
          "color": "#FFA15A",
          "symbol": "circle"
         },
         "mode": "markers",
         "name": "Stelgidopteryx",
         "scene": "scene",
         "showlegend": true,
         "type": "scatter3d",
         "x": [
          1.9733948707580566,
          2.761824607849121
         ],
         "y": [
          -3.535074234008789,
          -4.5175089836120605
         ],
         "z": [
          -2.3384206295013428,
          -3.62742018699646
         ]
        },
        {
         "hovertemplate": "color=Sterna<br>TSNE1=%{x}<br>TSNE2=%{y}<br>TSNE3=%{z}<extra></extra>",
         "legendgroup": "Sterna",
         "marker": {
          "color": "#19d3f3",
          "symbol": "circle"
         },
         "mode": "markers",
         "name": "Sterna",
         "scene": "scene",
         "showlegend": true,
         "type": "scatter3d",
         "x": [
          7.323380470275879,
          1.5436854362487793,
          7.9088287353515625
         ],
         "y": [
          -2.3033299446105957,
          1.106991171836853,
          -6.471777439117432
         ],
         "z": [
          3.312756299972534,
          7.988195419311523,
          -0.9863990545272827
         ]
        },
        {
         "hovertemplate": "color=Sternula<br>TSNE1=%{x}<br>TSNE2=%{y}<br>TSNE3=%{z}<extra></extra>",
         "legendgroup": "Sternula",
         "marker": {
          "color": "#FF6692",
          "symbol": "circle"
         },
         "mode": "markers",
         "name": "Sternula",
         "scene": "scene",
         "showlegend": true,
         "type": "scatter3d",
         "x": [
          -3.4970462322235107,
          9.791015625,
          0.3688649535179138,
          5.020916938781738,
          0.5661932229995728
         ],
         "y": [
          4.207125186920166,
          -8.626617431640625,
          5.4939703941345215,
          -4.123411178588867,
          1.8769549131393433
         ],
         "z": [
          -3.0510196685791016,
          -0.5057327747344971,
          -0.5061222314834595,
          -3.4818620681762695,
          7.60023307800293
         ]
        },
        {
         "hovertemplate": "color=Streptoprocne<br>TSNE1=%{x}<br>TSNE2=%{y}<br>TSNE3=%{z}<extra></extra>",
         "legendgroup": "Streptoprocne",
         "marker": {
          "color": "#B6E880",
          "symbol": "circle"
         },
         "mode": "markers",
         "name": "Streptoprocne",
         "scene": "scene",
         "showlegend": true,
         "type": "scatter3d",
         "x": [
          -3.6705286502838135,
          -1.9584614038467407,
          7.207437038421631,
          0.07163926959037781,
          8.020090103149414,
          0.5566782355308533,
          3.274364709854126,
          -1.540705680847168,
          -2.067868709564209
         ],
         "y": [
          8.487874984741211,
          -3.1718616485595703,
          -7.911001682281494,
          4.78629207611084,
          -8.017427444458008,
          -4.812331199645996,
          -3.9280107021331787,
          5.963359832763672,
          -4.703758716583252
         ],
         "z": [
          0.3239946663379669,
          -3.5222885608673096,
          -1.0365794897079468,
          0.3404504358768463,
          -0.8707765936851501,
          -3.672804832458496,
          -3.330878734588623,
          1.1358591318130493,
          -4.738059043884277
         ]
        },
        {
         "hovertemplate": "color=Sublegatus<br>TSNE1=%{x}<br>TSNE2=%{y}<br>TSNE3=%{z}<extra></extra>",
         "legendgroup": "Sublegatus",
         "marker": {
          "color": "#FF97FF",
          "symbol": "circle"
         },
         "mode": "markers",
         "name": "Sublegatus",
         "scene": "scene",
         "showlegend": true,
         "type": "scatter3d",
         "x": [
          -2.6443276405334473,
          6.676711082458496,
          6.113003730773926,
          4.246153354644775,
          -4.5473408699035645
         ],
         "y": [
          4.947770595550537,
          0.47987326979637146,
          -4.493355751037598,
          -8.445943832397461,
          5.1631999015808105
         ],
         "z": [
          7.3513503074646,
          2.440958261489868,
          -2.287886381149292,
          -2.861319065093994,
          -4.903199195861816
         ]
        },
        {
         "hovertemplate": "color=Synallaxis<br>TSNE1=%{x}<br>TSNE2=%{y}<br>TSNE3=%{z}<extra></extra>",
         "legendgroup": "Synallaxis",
         "marker": {
          "color": "#FECB52",
          "symbol": "circle"
         },
         "mode": "markers",
         "name": "Synallaxis",
         "scene": "scene",
         "showlegend": true,
         "type": "scatter3d",
         "x": [
          7.19181489944458,
          -2.644674301147461,
          5.80077600479126,
          6.638067245483398,
          -2.7145516872406006,
          5.952386856079102,
          -3.024008274078369,
          -2.605194330215454,
          -2.5210869312286377,
          1.1138577461242676,
          -3.508615255355835,
          6.350552558898926,
          -3.952500581741333,
          6.912737846374512,
          3.321298599243164,
          -2.926093101501465,
          4.374443531036377,
          -2.3523178100585938
         ],
         "y": [
          1.0110126733779907,
          1.6131303310394287,
          0.999261200428009,
          -2.7744922637939453,
          1.8995473384857178,
          -3.544994354248047,
          1.744180679321289,
          -0.3547283709049225,
          -0.128754660487175,
          -6.072204113006592,
          1.8167964220046997,
          -1.5077183246612549,
          7.234490394592285,
          -1.0298244953155518,
          0.9278732538223267,
          5.130898952484131,
          -4.701221942901611,
          1.2883307933807373
         ],
         "z": [
          -1.0645452737808228,
          4.353215217590332,
          -0.8367968797683716,
          3.461338758468628,
          3.5376787185668945,
          4.863217353820801,
          7.465493679046631,
          -6.4045209884643555,
          -6.269558906555176,
          6.4694695472717285,
          2.280602216720581,
          1.9973111152648926,
          -2.853123188018799,
          3.097550630569458,
          7.2888665199279785,
          7.047244071960449,
          3.185598373413086,
          1.6560914516448975
         ]
        },
        {
         "hovertemplate": "color=Syndactyla<br>TSNE1=%{x}<br>TSNE2=%{y}<br>TSNE3=%{z}<extra></extra>",
         "legendgroup": "Syndactyla",
         "marker": {
          "color": "#636efa",
          "symbol": "circle"
         },
         "mode": "markers",
         "name": "Syndactyla",
         "scene": "scene",
         "showlegend": true,
         "type": "scatter3d",
         "x": [
          -2.835404872894287,
          -3.0635173320770264,
          8.400223731994629,
          -1.8508025407791138,
          -3.3100502490997314,
          4.719318866729736
         ],
         "y": [
          -1.6590850353240967,
          -0.978609561920166,
          -0.8021104335784912,
          -2.0968258380889893,
          1.889807939529419,
          -1.1986415386199951
         ],
         "z": [
          4.317096710205078,
          4.00111722946167,
          -2.4412550926208496,
          -3.0359554290771484,
          2.67044734954834,
          0.7896478772163391
         ]
        },
        {
         "hovertemplate": "color=Tachornis<br>TSNE1=%{x}<br>TSNE2=%{y}<br>TSNE3=%{z}<extra></extra>",
         "legendgroup": "Tachornis",
         "marker": {
          "color": "#EF553B",
          "symbol": "circle"
         },
         "mode": "markers",
         "name": "Tachornis",
         "scene": "scene",
         "showlegend": true,
         "type": "scatter3d",
         "x": [
          -0.606067419052124,
          -3.3070030212402344,
          -5.761012077331543
         ],
         "y": [
          -5.287448883056641,
          2.908381223678589,
          3.629281520843506
         ],
         "z": [
          -6.521498203277588,
          -2.6940553188323975,
          1.9211077690124512
         ]
        },
        {
         "hovertemplate": "color=Tachybaptus<br>TSNE1=%{x}<br>TSNE2=%{y}<br>TSNE3=%{z}<extra></extra>",
         "legendgroup": "Tachybaptus",
         "marker": {
          "color": "#00cc96",
          "symbol": "circle"
         },
         "mode": "markers",
         "name": "Tachybaptus",
         "scene": "scene",
         "showlegend": true,
         "type": "scatter3d",
         "x": [
          9.753381729125977,
          3.857820987701416,
          -4.635882377624512,
          -3.479173183441162,
          0.27587199211120605
         ],
         "y": [
          -8.605059623718262,
          -4.2433671951293945,
          3.927438735961914,
          1.8948708772659302,
          -5.355677604675293
         ],
         "z": [
          -0.5149292349815369,
          -3.8347253799438477,
          6.197160243988037,
          2.5275521278381348,
          3.862757444381714
         ]
        },
        {
         "hovertemplate": "color=Tachycineta<br>TSNE1=%{x}<br>TSNE2=%{y}<br>TSNE3=%{z}<extra></extra>",
         "legendgroup": "Tachycineta",
         "marker": {
          "color": "#ab63fa",
          "symbol": "circle"
         },
         "mode": "markers",
         "name": "Tachycineta",
         "scene": "scene",
         "showlegend": true,
         "type": "scatter3d",
         "x": [
          -1.9694383144378662,
          0.23588383197784424,
          -2.2119174003601074,
          3.1249208450317383,
          -1.4947482347488403
         ],
         "y": [
          3.6348633766174316,
          -2.5723495483398438,
          4.489842414855957,
          -5.9943695068359375,
          -1.993128776550293
         ],
         "z": [
          -7.261293888092041,
          -2.5365004539489746,
          7.76038122177124,
          -4.934398651123047,
          -2.9353978633880615
         ]
        },
        {
         "hovertemplate": "color=Tachyphonus<br>TSNE1=%{x}<br>TSNE2=%{y}<br>TSNE3=%{z}<extra></extra>",
         "legendgroup": "Tachyphonus",
         "marker": {
          "color": "#FFA15A",
          "symbol": "circle"
         },
         "mode": "markers",
         "name": "Tachyphonus",
         "scene": "scene",
         "showlegend": true,
         "type": "scatter3d",
         "x": [
          4.892766952514648,
          0.34915921092033386,
          -0.40057915449142456,
          -3.5806381702423096,
          4.054819107055664
         ],
         "y": [
          0.2359279990196228,
          -5.062839984893799,
          -5.479867935180664,
          1.570029377937317,
          -5.1950883865356445
         ],
         "z": [
          -0.4756741225719452,
          2.6389079093933105,
          7.6481733322143555,
          1.3304463624954224,
          -4.350192546844482
         ]
        },
        {
         "hovertemplate": "color=Tangara<br>TSNE1=%{x}<br>TSNE2=%{y}<br>TSNE3=%{z}<extra></extra>",
         "legendgroup": "Tangara",
         "marker": {
          "color": "#19d3f3",
          "symbol": "circle"
         },
         "mode": "markers",
         "name": "Tangara",
         "scene": "scene",
         "showlegend": true,
         "type": "scatter3d",
         "x": [
          3.5309200286865234,
          -3.792570114135742,
          -3.5611684322357178,
          -1.28971529006958,
          -0.4989127218723297,
          -2.7045724391937256,
          -0.4302394688129425,
          6.730976581573486,
          -1.2510219812393188,
          -3.2194368839263916,
          3.648965358734131,
          -3.78627872467041,
          4.6648945808410645,
          -2.6519222259521484,
          -3.464529514312744,
          -0.8117262125015259,
          -4.391019344329834,
          1.2136462926864624,
          10.082619667053223,
          -0.8899567723274231,
          4.6418986320495605,
          3.430750846862793,
          0.8699913024902344,
          1.3649678230285645,
          -2.4032163619995117,
          -3.897489547729492,
          -2.5657622814178467,
          1.2098132371902466,
          -0.6345776915550232,
          -0.35890641808509827,
          7.811240196228027,
          4.844943046569824,
          -3.7649874687194824,
          6.845587730407715,
          5.60805082321167,
          0.12379846721887589
         ],
         "y": [
          -8.04310131072998,
          -2.5201022624969482,
          9.588773727416992,
          -5.046314239501953,
          5.832140922546387,
          -1.140801191329956,
          -5.315313339233398,
          -0.3275015652179718,
          -4.021830081939697,
          6.013579845428467,
          0.8215644359588623,
          2.0080246925354004,
          -0.7058479189872742,
          1.8247777223587036,
          -4.001234531402588,
          -5.175650119781494,
          2.386882781982422,
          1.317076325416565,
          -1.3511545658111572,
          0.12021131068468094,
          -3.4382858276367188,
          -7.830373764038086,
          -5.191776752471924,
          -5.957849502563477,
          1.2298356294631958,
          2.315309524536133,
          0.9422345161437988,
          -4.0067291259765625,
          4.417556285858154,
          3.868391752243042,
          -6.387293338775635,
          -0.7462633848190308,
          1.6592152118682861,
          -0.4238003194332123,
          -2.816807985305786,
          5.419281005859375
         ],
         "z": [
          -4.406533718109131,
          -5.109222412109375,
          -0.718960165977478,
          -6.0408759117126465,
          -0.8965792655944824,
          3.027102470397949,
          -7.242428302764893,
          3.1333088874816895,
          -3.6018552780151367,
          -3.3578555583953857,
          7.097310543060303,
          2.769658088684082,
          6.469979763031006,
          3.5215117931365967,
          -7.022165298461914,
          -5.9929633140563965,
          1.0022673606872559,
          8.297967910766602,
          -1.5324400663375854,
          -3.4141385555267334,
          -2.8476884365081787,
          -4.712072849273682,
          -4.627875804901123,
          5.580414772033691,
          -8.020153045654297,
          -8.522676467895508,
          8.126200675964355,
          -2.459683895111084,
          -2.005066156387329,
          -2.1519668102264404,
          -1.016423225402832,
          0.8783623576164246,
          0.48533013463020325,
          3.3191328048706055,
          1.9385557174682617,
          -0.2428094446659088
         ]
        },
        {
         "hovertemplate": "color=Tapera<br>TSNE1=%{x}<br>TSNE2=%{y}<br>TSNE3=%{z}<extra></extra>",
         "legendgroup": "Tapera",
         "marker": {
          "color": "#FF6692",
          "symbol": "circle"
         },
         "mode": "markers",
         "name": "Tapera",
         "scene": "scene",
         "showlegend": true,
         "type": "scatter3d",
         "x": [
          9.029386520385742,
          -1.4688994884490967
         ],
         "y": [
          -0.010049965232610703,
          -2.287985324859619
         ],
         "z": [
          -1.0844584703445435,
          7.119602680206299
         ]
        },
        {
         "hovertemplate": "color=Taphrospilus<br>TSNE1=%{x}<br>TSNE2=%{y}<br>TSNE3=%{z}<extra></extra>",
         "legendgroup": "Taphrospilus",
         "marker": {
          "color": "#B6E880",
          "symbol": "circle"
         },
         "mode": "markers",
         "name": "Taphrospilus",
         "scene": "scene",
         "showlegend": true,
         "type": "scatter3d",
         "x": [
          -2.392915964126587,
          -2.14154314994812,
          -4.286761283874512
         ],
         "y": [
          0.11081527173519135,
          0.887682318687439,
          4.46964168548584
         ],
         "z": [
          -6.696605682373047,
          -7.477628231048584,
          -6.8709282875061035
         ]
        },
        {
         "hovertemplate": "color=Taraba<br>TSNE1=%{x}<br>TSNE2=%{y}<br>TSNE3=%{z}<extra></extra>",
         "legendgroup": "Taraba",
         "marker": {
          "color": "#FF97FF",
          "symbol": "circle"
         },
         "mode": "markers",
         "name": "Taraba",
         "scene": "scene",
         "showlegend": true,
         "type": "scatter3d",
         "x": [
          -0.6625983119010925,
          5.9379191398620605,
          3.316887140274048
         ],
         "y": [
          -4.8881402015686035,
          0.5126218199729919,
          -7.579514026641846
         ],
         "z": [
          -8.895634651184082,
          1.469571828842163,
          -5.001517295837402
         ]
        },
        {
         "hovertemplate": "color=Terenotriccus<br>TSNE1=%{x}<br>TSNE2=%{y}<br>TSNE3=%{z}<extra></extra>",
         "legendgroup": "Terenotriccus",
         "marker": {
          "color": "#FECB52",
          "symbol": "circle"
         },
         "mode": "markers",
         "name": "Terenotriccus",
         "scene": "scene",
         "showlegend": true,
         "type": "scatter3d",
         "x": [
          6.419987678527832,
          6.059309959411621,
          -3.4438037872314453,
          -0.7274231910705566
         ],
         "y": [
          -2.671854019165039,
          0.0018178969621658325,
          -3.7628557682037354,
          -5.4128594398498535
         ],
         "z": [
          2.9014461040496826,
          1.8981106281280518,
          -4.68942403793335,
          7.5068182945251465
         ]
        },
        {
         "hovertemplate": "color=Tersina<br>TSNE1=%{x}<br>TSNE2=%{y}<br>TSNE3=%{z}<extra></extra>",
         "legendgroup": "Tersina",
         "marker": {
          "color": "#636efa",
          "symbol": "circle"
         },
         "mode": "markers",
         "name": "Tersina",
         "scene": "scene",
         "showlegend": true,
         "type": "scatter3d",
         "x": [
          -4.109364986419678,
          -4.085386753082275,
          3.3921475410461426,
          -2.4151957035064697
         ],
         "y": [
          5.150580406188965,
          8.241247177124023,
          -5.103997707366943,
          4.263760566711426
         ],
         "z": [
          6.263455867767334,
          0.676364004611969,
          4.475510120391846,
          -6.55649471282959
         ]
        },
        {
         "hovertemplate": "color=Thalurania<br>TSNE1=%{x}<br>TSNE2=%{y}<br>TSNE3=%{z}<extra></extra>",
         "legendgroup": "Thalurania",
         "marker": {
          "color": "#EF553B",
          "symbol": "circle"
         },
         "mode": "markers",
         "name": "Thalurania",
         "scene": "scene",
         "showlegend": true,
         "type": "scatter3d",
         "x": [
          -2.825662851333618,
          5.485381126403809,
          -3.629863977432251
         ],
         "y": [
          1.8664441108703613,
          -4.264762878417969,
          -1.072819471359253
         ],
         "z": [
          3.179429054260254,
          -3.300344467163086,
          5.262353420257568
         ]
        },
        {
         "hovertemplate": "color=Thamnistes<br>TSNE1=%{x}<br>TSNE2=%{y}<br>TSNE3=%{z}<extra></extra>",
         "legendgroup": "Thamnistes",
         "marker": {
          "color": "#00cc96",
          "symbol": "circle"
         },
         "mode": "markers",
         "name": "Thamnistes",
         "scene": "scene",
         "showlegend": true,
         "type": "scatter3d",
         "x": [
          -5.558671951293945,
          -3.9204492568969727,
          -3.7574963569641113
         ],
         "y": [
          5.5847954750061035,
          2.4104671478271484,
          -2.2026591300964355
         ],
         "z": [
          -3.678711414337158,
          -8.497821807861328,
          -6.047868251800537
         ]
        },
        {
         "hovertemplate": "color=Thamnomanes<br>TSNE1=%{x}<br>TSNE2=%{y}<br>TSNE3=%{z}<extra></extra>",
         "legendgroup": "Thamnomanes",
         "marker": {
          "color": "#ab63fa",
          "symbol": "circle"
         },
         "mode": "markers",
         "name": "Thamnomanes",
         "scene": "scene",
         "showlegend": true,
         "type": "scatter3d",
         "x": [
          0.4104471206665039,
          3.017284631729126,
          4.719081878662109
         ],
         "y": [
          -4.615922451019287,
          -3.5618321895599365,
          -1.1375232934951782
         ],
         "z": [
          -3.342418909072876,
          -2.703798532485962,
          6.333644866943359
         ]
        },
        {
         "hovertemplate": "color=Thamnophilus<br>TSNE1=%{x}<br>TSNE2=%{y}<br>TSNE3=%{z}<extra></extra>",
         "legendgroup": "Thamnophilus",
         "marker": {
          "color": "#FFA15A",
          "symbol": "circle"
         },
         "mode": "markers",
         "name": "Thamnophilus",
         "scene": "scene",
         "showlegend": true,
         "type": "scatter3d",
         "x": [
          -3.696878671646118,
          -2.689401149749756,
          -2.930536985397339,
          0.5767322182655334,
          -4.107766151428223,
          -0.617291271686554,
          -3.5841023921966553,
          -4.473755836486816,
          -5.323697090148926,
          -3.847729206085205,
          -2.877192974090576,
          5.289383411407471,
          1.3148268461227417,
          -3.5306994915008545,
          5.509310722351074,
          5.252448081970215,
          -0.8459491729736328,
          -3.8065052032470703,
          -1.609561562538147,
          -1.0477913618087769,
          5.362856388092041,
          -2.2466156482696533,
          -5.568317890167236,
          -3.3218045234680176,
          4.775354862213135,
          3.117074966430664,
          -3.1963603496551514
         ],
         "y": [
          7.9301557540893555,
          1.842331051826477,
          -0.415548712015152,
          -5.683096885681152,
          1.5867925882339478,
          -4.334679126739502,
          7.739619255065918,
          2.8048043251037598,
          2.813896894454956,
          7.383109092712402,
          4.498043537139893,
          -0.3567662239074707,
          -5.936256408691406,
          -0.8233427405357361,
          -4.6220703125,
          0.7162395715713501,
          1.4157898426055908,
          7.408750534057617,
          -2.618785858154297,
          3.876207113265991,
          0.8113841414451599,
          -3.098548650741577,
          5.300458908081055,
          0.10518214106559753,
          -0.8188706636428833,
          -1.4098719358444214,
          4.669165134429932
         ],
         "z": [
          -2.275895833969116,
          3.449167013168335,
          -5.768109321594238,
          7.928056716918945,
          5.620915412902832,
          -3.8377740383148193,
          -2.365077018737793,
          0.9720773100852966,
          5.296397686004639,
          -2.530400276184082,
          7.748109817504883,
          6.022165298461914,
          7.16733980178833,
          4.963079929351807,
          -3.3266608715057373,
          -0.1178453341126442,
          -5.04045295715332,
          1.0093976259231567,
          6.387943267822266,
          -3.348910331726074,
          -0.5480653643608093,
          -3.5860254764556885,
          6.77733850479126,
          5.1732611656188965,
          0.7198997735977173,
          7.272017002105713,
          6.928203582763672
         ]
        },
        {
         "hovertemplate": "color=Theristicus<br>TSNE1=%{x}<br>TSNE2=%{y}<br>TSNE3=%{z}<extra></extra>",
         "legendgroup": "Theristicus",
         "marker": {
          "color": "#19d3f3",
          "symbol": "circle"
         },
         "mode": "markers",
         "name": "Theristicus",
         "scene": "scene",
         "showlegend": true,
         "type": "scatter3d",
         "x": [
          -1.7377185821533203,
          -1.1748058795928955,
          -0.4281458854675293,
          -2.284902811050415,
          -3.3590617179870605,
          3.2296040058135986
         ],
         "y": [
          3.6834583282470703,
          -2.093276023864746,
          -3.9509775638580322,
          -0.14538535475730896,
          2.8782267570495605,
          -4.241328716278076
         ],
         "z": [
          -3.1188206672668457,
          -2.845700740814209,
          -3.0991477966308594,
          -4.873504161834717,
          -2.4929702281951904,
          -3.6448159217834473
         ]
        },
        {
         "hovertemplate": "color=Thlypopsis<br>TSNE1=%{x}<br>TSNE2=%{y}<br>TSNE3=%{z}<extra></extra>",
         "legendgroup": "Thlypopsis",
         "marker": {
          "color": "#FF6692",
          "symbol": "circle"
         },
         "mode": "markers",
         "name": "Thlypopsis",
         "scene": "scene",
         "showlegend": true,
         "type": "scatter3d",
         "x": [
          -3.8321361541748047,
          -0.9565060138702393,
          -1.7063182592391968,
          5.3341383934021,
          -0.6562649011611938
         ],
         "y": [
          8.376325607299805,
          -4.260476589202881,
          5.758446216583252,
          -4.1486077308654785,
          -2.7943081855773926
         ],
         "z": [
          -1.8557872772216797,
          -3.7536566257476807,
          1.4240168333053589,
          -3.2509067058563232,
          2.9543440341949463
         ]
        },
        {
         "hovertemplate": "color=Thraupis<br>TSNE1=%{x}<br>TSNE2=%{y}<br>TSNE3=%{z}<extra></extra>",
         "legendgroup": "Thraupis",
         "marker": {
          "color": "#B6E880",
          "symbol": "circle"
         },
         "mode": "markers",
         "name": "Thraupis",
         "scene": "scene",
         "showlegend": true,
         "type": "scatter3d",
         "x": [
          4.486852645874023,
          -2.618558645248413,
          -1.0260487794876099,
          4.092149257659912,
          -0.04082227870821953,
          9.005376815795898,
          3.5695154666900635
         ],
         "y": [
          -0.5927346348762512,
          -0.22478145360946655,
          -5.424805164337158,
          -8.4396390914917,
          0.7167253494262695,
          -8.22343921661377,
          -8.10786247253418
         ],
         "z": [
          6.733328819274902,
          -5.950139045715332,
          7.447946548461914,
          -3.114946126937866,
          0.049017053097486496,
          -0.6848068833351135,
          -4.297661304473877
         ]
        },
        {
         "hovertemplate": "color=Threnetes<br>TSNE1=%{x}<br>TSNE2=%{y}<br>TSNE3=%{z}<extra></extra>",
         "legendgroup": "Threnetes",
         "marker": {
          "color": "#FF97FF",
          "symbol": "circle"
         },
         "mode": "markers",
         "name": "Threnetes",
         "scene": "scene",
         "showlegend": true,
         "type": "scatter3d",
         "x": [
          10.444087028503418,
          6.638978004455566,
          4.619959831237793,
          -2.627041816711426
         ],
         "y": [
          -1.6186392307281494,
          -3.8682003021240234,
          -4.562812328338623,
          -2.57491397857666
         ],
         "z": [
          -1.5397192239761353,
          1.9130932092666626,
          3.4289748668670654,
          2.8336150646209717
         ]
        },
        {
         "hovertemplate": "color=Thripadectes<br>TSNE1=%{x}<br>TSNE2=%{y}<br>TSNE3=%{z}<extra></extra>",
         "legendgroup": "Thripadectes",
         "marker": {
          "color": "#FECB52",
          "symbol": "circle"
         },
         "mode": "markers",
         "name": "Thripadectes",
         "scene": "scene",
         "showlegend": true,
         "type": "scatter3d",
         "x": [
          -3.5040712356567383,
          -0.37265852093696594,
          -3.751976728439331,
          -1.8495197296142578,
          -3.5985782146453857,
          -2.5088441371917725,
          -6.831789493560791,
          -1.9751609563827515
         ],
         "y": [
          4.444916248321533,
          -0.1581965535879135,
          1.556172490119934,
          0.9652686715126038,
          7.9274821281433105,
          -0.28191256523132324,
          3.4606335163116455,
          -3.944193124771118
         ],
         "z": [
          -6.661166191101074,
          8.119776725769043,
          0.5445680618286133,
          2.5209240913391113,
          -2.1899831295013428,
          2.7299551963806152,
          4.640191078186035,
          7.490374565124512
         ]
        },
        {
         "hovertemplate": "color=Thripophaga<br>TSNE1=%{x}<br>TSNE2=%{y}<br>TSNE3=%{z}<extra></extra>",
         "legendgroup": "Thripophaga",
         "marker": {
          "color": "#636efa",
          "symbol": "circle"
         },
         "mode": "markers",
         "name": "Thripophaga",
         "scene": "scene",
         "showlegend": true,
         "type": "scatter3d",
         "x": [
          -2.7403202056884766,
          -2.9025728702545166
         ],
         "y": [
          4.044212818145752,
          1.8125262260437012
         ],
         "z": [
          -7.227834701538086,
          2.8368074893951416
         ]
        },
        {
         "hovertemplate": "color=Tigrisoma<br>TSNE1=%{x}<br>TSNE2=%{y}<br>TSNE3=%{z}<extra></extra>",
         "legendgroup": "Tigrisoma",
         "marker": {
          "color": "#EF553B",
          "symbol": "circle"
         },
         "mode": "markers",
         "name": "Tigrisoma",
         "scene": "scene",
         "showlegend": true,
         "type": "scatter3d",
         "x": [
          5.803174018859863,
          5.7527174949646,
          9.836385726928711,
          -5.052001476287842
         ],
         "y": [
          -7.94442081451416,
          -0.33913329243659973,
          -8.653130531311035,
          -2.22639536857605
         ],
         "z": [
          -1.5286353826522827,
          1.6722642183303833,
          -0.4945693910121918,
          -9.1785306930542
         ]
        },
        {
         "hovertemplate": "color=Tinamus<br>TSNE1=%{x}<br>TSNE2=%{y}<br>TSNE3=%{z}<extra></extra>",
         "legendgroup": "Tinamus",
         "marker": {
          "color": "#00cc96",
          "symbol": "circle"
         },
         "mode": "markers",
         "name": "Tinamus",
         "scene": "scene",
         "showlegend": true,
         "type": "scatter3d",
         "x": [
          -3.545633316040039,
          1.9211013317108154,
          -5.67734956741333,
          6.880788326263428,
          -7.24429988861084,
          9.774681091308594,
          -2.427438497543335,
          -6.193270206451416,
          -0.8681747913360596,
          -3.192777395248413,
          12.043062210083008,
          8.073651313781738,
          6.362943172454834
         ],
         "y": [
          -0.20121747255325317,
          -4.451455116271973,
          2.9682602882385254,
          1.3500945568084717,
          8.168157577514648,
          -1.8006089925765991,
          1.7240701913833618,
          1.0041359663009644,
          -5.619969844818115,
          4.727967739105225,
          -2.4791259765625,
          -6.6693878173828125,
          -3.6801939010620117
         ],
         "z": [
          -7.939507007598877,
          -2.6827423572540283,
          -7.227650165557861,
          1.2785022258758545,
          -1.0458015203475952,
          -3.2247748374938965,
          1.297999620437622,
          -7.486644268035889,
          7.2425432205200195,
          6.436177730560303,
          -3.270350217819214,
          -0.9336324334144592,
          1.5701180696487427
         ]
        },
        {
         "hovertemplate": "color=Tityra<br>TSNE1=%{x}<br>TSNE2=%{y}<br>TSNE3=%{z}<extra></extra>",
         "legendgroup": "Tityra",
         "marker": {
          "color": "#ab63fa",
          "symbol": "circle"
         },
         "mode": "markers",
         "name": "Tityra",
         "scene": "scene",
         "showlegend": true,
         "type": "scatter3d",
         "x": [
          -4.58696174621582,
          -0.967559814453125,
          0.9435221552848816,
          -2.504497528076172,
          8.915771484375,
          -1.858792781829834,
          -0.2346469908952713,
          4.518538951873779,
          -3.720409870147705,
          -0.4659937620162964,
          -6.436328887939453
         ],
         "y": [
          3.0351755619049072,
          1.5664935111999512,
          -5.590832233428955,
          -2.613220453262329,
          -8.19079875946045,
          -2.711806535720825,
          -5.273118495941162,
          -7.402577877044678,
          -2.461491107940674,
          -4.633764743804932,
          8.360321044921875
         ],
         "z": [
          1.0477350950241089,
          -4.844961643218994,
          -8.248382568359375,
          2.720654010772705,
          -0.7030541896820068,
          5.7563652992248535,
          -6.480132579803467,
          -3.4678680896759033,
          -6.243539810180664,
          3.48709774017334,
          -1.3233526945114136
         ]
        },
        {
         "hovertemplate": "color=Todirostrum<br>TSNE1=%{x}<br>TSNE2=%{y}<br>TSNE3=%{z}<extra></extra>",
         "legendgroup": "Todirostrum",
         "marker": {
          "color": "#FFA15A",
          "symbol": "circle"
         },
         "mode": "markers",
         "name": "Todirostrum",
         "scene": "scene",
         "showlegend": true,
         "type": "scatter3d",
         "x": [
          -3.6250340938568115,
          6.788595199584961,
          -0.666118323802948,
          -6.422754764556885,
          3.199564218521118,
          -1.8603894710540771,
          -0.9619379043579102,
          -0.7697652578353882,
          -4.992853164672852,
          5.909643173217773,
          1.096247673034668,
          -0.9590815901756287
         ],
         "y": [
          -0.766696572303772,
          1.414620280265808,
          2.32496976852417,
          8.34090518951416,
          0.9208329916000366,
          -1.8249183893203735,
          5.060405731201172,
          2.995579481124878,
          -2.237736940383911,
          -5.5516815185546875,
          -6.021054267883301,
          -5.013127326965332
         ],
         "z": [
          -7.8445844650268555,
          0.5968021154403687,
          -5.964764595031738,
          -0.6826367378234863,
          7.339191436767578,
          2.490041732788086,
          0.7653763294219971,
          -2.9662744998931885,
          -9.104331970214844,
          -2.507896661758423,
          6.918443202972412,
          -5.337967872619629
         ]
        },
        {
         "hovertemplate": "color=Tolmomyias<br>TSNE1=%{x}<br>TSNE2=%{y}<br>TSNE3=%{z}<extra></extra>",
         "legendgroup": "Tolmomyias",
         "marker": {
          "color": "#19d3f3",
          "symbol": "circle"
         },
         "mode": "markers",
         "name": "Tolmomyias",
         "scene": "scene",
         "showlegend": true,
         "type": "scatter3d",
         "x": [
          5.943662643432617,
          -0.19674409925937653,
          5.033451557159424,
          -5.1817755699157715,
          6.746510028839111,
          -0.6204219460487366,
          -2.679330587387085,
          -7.4505228996276855,
          -5.06760835647583,
          -2.1655192375183105,
          -1.4103013277053833,
          5.795101642608643,
          11.722366333007812,
          -1.7188349962234497
         ],
         "y": [
          0.1977156102657318,
          1.015702247619629,
          -2.331874132156372,
          -2.1287970542907715,
          -3.279742956161499,
          -4.907954692840576,
          -0.4291718304157257,
          8.006721496582031,
          6.663246154785156,
          2.1185927391052246,
          -5.602224349975586,
          -4.554778575897217,
          -2.339169979095459,
          -4.00040864944458
         ],
         "z": [
          1.6647648811340332,
          1.579751968383789,
          1.4801509380340576,
          -9.161483764648438,
          4.552630424499512,
          -4.870875835418701,
          -6.996252536773682,
          0.8974509239196777,
          -3.571855306625366,
          -8.070906639099121,
          3.72576904296875,
          -2.8038253784179688,
          -2.775479793548584,
          4.231614112854004
         ]
        },
        {
         "hovertemplate": "color=Touit<br>TSNE1=%{x}<br>TSNE2=%{y}<br>TSNE3=%{z}<extra></extra>",
         "legendgroup": "Touit",
         "marker": {
          "color": "#FF6692",
          "symbol": "circle"
         },
         "mode": "markers",
         "name": "Touit",
         "scene": "scene",
         "showlegend": true,
         "type": "scatter3d",
         "x": [
          -5.781783580780029,
          -0.9492073655128479,
          -0.7644267082214355
         ],
         "y": [
          3.135331392288208,
          -5.273123264312744,
          -2.660658597946167
         ],
         "z": [
          4.5191802978515625,
          -6.658869743347168,
          2.3064301013946533
         ]
        },
        {
         "hovertemplate": "color=Trichothraupis<br>TSNE1=%{x}<br>TSNE2=%{y}<br>TSNE3=%{z}<extra></extra>",
         "legendgroup": "Trichothraupis",
         "marker": {
          "color": "#B6E880",
          "symbol": "circle"
         },
         "mode": "markers",
         "name": "Trichothraupis",
         "scene": "scene",
         "showlegend": true,
         "type": "scatter3d",
         "x": [
          12.16258430480957,
          -3.6129870414733887,
          -5.662837505340576
         ],
         "y": [
          -2.4878711700439453,
          -0.3793909549713135,
          3.8416433334350586
         ],
         "z": [
          -3.317063808441162,
          5.9462080001831055,
          5.875209331512451
         ]
        },
        {
         "hovertemplate": "color=Tringa<br>TSNE1=%{x}<br>TSNE2=%{y}<br>TSNE3=%{z}<extra></extra>",
         "legendgroup": "Tringa",
         "marker": {
          "color": "#FF97FF",
          "symbol": "circle"
         },
         "mode": "markers",
         "name": "Tringa",
         "scene": "scene",
         "showlegend": true,
         "type": "scatter3d",
         "x": [
          -6.27625846862793,
          -3.7729220390319824,
          -3.5111865997314453,
          -0.784408688545227,
          -4.474619388580322,
          0.04724152386188507,
          -3.810042381286621,
          0.06871898472309113,
          -3.1573591232299805,
          0.3029478192329407,
          0.7985109090805054,
          -1.902536153793335,
          3.9883906841278076
         ],
         "y": [
          2.770569086074829,
          -2.912013053894043,
          -0.46373119950294495,
          2.995511054992676,
          7.6309285163879395,
          0.7528144121170044,
          1.776950478553772,
          -5.333127021789551,
          -4.411266803741455,
          4.988910675048828,
          -5.463131904602051,
          -0.6173290014266968,
          -4.496484756469727
         ],
         "z": [
          -6.646336078643799,
          -7.516282558441162,
          -4.740838527679443,
          -5.7141828536987305,
          4.967055320739746,
          0.04417303204536438,
          -8.779704093933105,
          -8.03524398803711,
          -6.593093395233154,
          0.10615216940641403,
          -6.6027727127075195,
          -3.8028628826141357,
          2.204257011413574
         ]
        },
        {
         "hovertemplate": "color=Troglodytes<br>TSNE1=%{x}<br>TSNE2=%{y}<br>TSNE3=%{z}<extra></extra>",
         "legendgroup": "Troglodytes",
         "marker": {
          "color": "#FECB52",
          "symbol": "circle"
         },
         "mode": "markers",
         "name": "Troglodytes",
         "scene": "scene",
         "showlegend": true,
         "type": "scatter3d",
         "x": [
          3.2964253425598145,
          -1.3915321826934814,
          -3.2096498012542725,
          6.9462504386901855
         ],
         "y": [
          0.5476030707359314,
          2.1078784465789795,
          0.28261253237724304,
          -0.5077131986618042
         ],
         "z": [
          7.309682846069336,
          8.534812927246094,
          5.069150924682617,
          3.5761637687683105
         ]
        },
        {
         "hovertemplate": "color=Trogon<br>TSNE1=%{x}<br>TSNE2=%{y}<br>TSNE3=%{z}<extra></extra>",
         "legendgroup": "Trogon",
         "marker": {
          "color": "#636efa",
          "symbol": "circle"
         },
         "mode": "markers",
         "name": "Trogon",
         "scene": "scene",
         "showlegend": true,
         "type": "scatter3d",
         "x": [
          -5.379936218261719,
          -0.19216395914554596,
          8.695099830627441,
          -2.114269733428955,
          -2.5593178272247314,
          -0.7647936344146729,
          4.2479376792907715,
          -0.17120862007141113,
          6.711024761199951,
          -0.065277598798275,
          6.0837249755859375,
          -4.123809337615967,
          8.550105094909668,
          6.412058353424072,
          1.1804732084274292,
          4.306355953216553,
          -3.359470844268799,
          -1.6017876863479614,
          0.7608311176300049
         ],
         "y": [
          1.4800668954849243,
          -0.4217657446861267,
          -0.18879106640815735,
          4.1078691482543945,
          3.136181592941284,
          -5.441051006317139,
          -4.121416091918945,
          7.097934722900391,
          -2.6807010173797607,
          0.3228839337825775,
          -1.6798267364501953,
          8.562334060668945,
          0.13193275034427643,
          0.9032678604125977,
          -6.192214488983154,
          -2.3288354873657227,
          4.266012668609619,
          -4.784922122955322,
          4.590541362762451
         ],
         "z": [
          -7.9905524253845215,
          7.95997428894043,
          -1.6080310344696045,
          -6.477981090545654,
          7.559509754180908,
          6.790867328643799,
          5.468520641326904,
          0.4197763502597809,
          4.0013580322265625,
          1.5195568799972534,
          1.9511436223983765,
          -0.6236606240272522,
          -1.358166217803955,
          1.6372666358947754,
          4.940927028656006,
          6.4695658683776855,
          6.15594482421875,
          -4.6934967041015625,
          7.311966896057129
         ]
        },
        {
         "hovertemplate": "color=Turdus<br>TSNE1=%{x}<br>TSNE2=%{y}<br>TSNE3=%{z}<extra></extra>",
         "legendgroup": "Turdus",
         "marker": {
          "color": "#EF553B",
          "symbol": "circle"
         },
         "mode": "markers",
         "name": "Turdus",
         "scene": "scene",
         "showlegend": true,
         "type": "scatter3d",
         "x": [
          -1.053410291671753,
          1.1148827075958252,
          6.062844753265381,
          12.419394493103027,
          0.9555916786193848,
          -5.538416862487793,
          -4.552883148193359,
          0.7152379155158997,
          5.839668273925781,
          8.234301567077637,
          12.070744514465332,
          1.2297388315200806,
          10.717885971069336,
          6.793098449707031,
          6.956191062927246,
          5.961540222167969,
          -1.229710578918457,
          -3.502565860748291,
          6.771115779876709,
          -5.519364833831787,
          -3.611008882522583,
          -4.733764171600342,
          -5.552905559539795,
          2.9722769260406494,
          5.801135540008545
         ],
         "y": [
          -5.773444652557373,
          -6.078935146331787,
          1.1727584600448608,
          -2.582383394241333,
          -5.510248184204102,
          -1.5638192892074585,
          7.895144939422607,
          4.669646739959717,
          0.9309538006782532,
          0.34422767162323,
          -2.484279155731201,
          -5.132636547088623,
          -2.086665630340576,
          1.1429184675216675,
          -1.6434354782104492,
          0.9923170804977417,
          0.6486795544624329,
          -2.402945041656494,
          -1.4466031789779663,
          5.529634475708008,
          -3.5002901554107666,
          1.8410108089447021,
          4.855251789093018,
          1.5073882341384888,
          -5.222127437591553
         ],
         "z": [
          3.8646626472473145,
          5.032020092010498,
          4.844522953033447,
          -4.2046895027160645,
          2.188929319381714,
          -9.147208213806152,
          4.700250148773193,
          7.2885589599609375,
          -0.8240892887115479,
          -1.37865149974823,
          -3.296891212463379,
          -4.060536861419678,
          -2.7087490558624268,
          -0.9585458636283875,
          3.2636404037475586,
          -0.8469107151031494,
          2.5200321674346924,
          -4.329061508178711,
          3.3449904918670654,
          -3.3370206356048584,
          -7.854676246643066,
          2.445077419281006,
          2.258697271347046,
          7.343682289123535,
          -2.848501443862915
         ]
        },
        {
         "hovertemplate": "color=Tyranneutes<br>TSNE1=%{x}<br>TSNE2=%{y}<br>TSNE3=%{z}<extra></extra>",
         "legendgroup": "Tyranneutes",
         "marker": {
          "color": "#00cc96",
          "symbol": "circle"
         },
         "mode": "markers",
         "name": "Tyranneutes",
         "scene": "scene",
         "showlegend": true,
         "type": "scatter3d",
         "x": [
          0.30752044916152954,
          -2.6176319122314453
         ],
         "y": [
          0.9081125259399414,
          1.5384465456008911
         ],
         "z": [
          -3.888202667236328,
          1.2401416301727295
         ]
        },
        {
         "hovertemplate": "color=Tyrannopsis<br>TSNE1=%{x}<br>TSNE2=%{y}<br>TSNE3=%{z}<extra></extra>",
         "legendgroup": "Tyrannopsis",
         "marker": {
          "color": "#ab63fa",
          "symbol": "circle"
         },
         "mode": "markers",
         "name": "Tyrannopsis",
         "scene": "scene",
         "showlegend": true,
         "type": "scatter3d",
         "x": [
          4.712066173553467,
          6.269975662231445
         ],
         "y": [
          -0.041471488773822784,
          0.6354431509971619
         ],
         "z": [
          -0.3140099346637726,
          1.7469487190246582
         ]
        },
        {
         "hovertemplate": "color=Tyrannulus<br>TSNE1=%{x}<br>TSNE2=%{y}<br>TSNE3=%{z}<extra></extra>",
         "legendgroup": "Tyrannulus",
         "marker": {
          "color": "#FFA15A",
          "symbol": "circle"
         },
         "mode": "markers",
         "name": "Tyrannulus",
         "scene": "scene",
         "showlegend": true,
         "type": "scatter3d",
         "x": [
          -2.355515956878662,
          -0.4307316839694977,
          6.0432000160217285,
          -5.389768123626709
         ],
         "y": [
          5.582275867462158,
          -4.652481555938721,
          -7.572514057159424,
          6.2909417152404785
         ],
         "z": [
          -3.814351797103882,
          -4.17989444732666,
          -1.4642479419708252,
          1.8832793235778809
         ]
        },
        {
         "hovertemplate": "color=Tyrannus<br>TSNE1=%{x}<br>TSNE2=%{y}<br>TSNE3=%{z}<extra></extra>",
         "legendgroup": "Tyrannus",
         "marker": {
          "color": "#19d3f3",
          "symbol": "circle"
         },
         "mode": "markers",
         "name": "Tyrannus",
         "scene": "scene",
         "showlegend": true,
         "type": "scatter3d",
         "x": [
          -7.37276029586792,
          -1.4321777820587158,
          1.9930510520935059,
          3.591545820236206,
          5.066277980804443,
          -6.236786842346191,
          -6.367828845977783,
          11.325857162475586,
          -5.946932315826416
         ],
         "y": [
          8.150250434875488,
          3.8425259590148926,
          -4.602298259735107,
          0.05444538965821266,
          -7.240478038787842,
          8.473591804504395,
          8.352816581726074,
          -2.299961805343628,
          5.60227632522583
         ],
         "z": [
          -0.4757786989212036,
          -2.74859881401062,
          -2.1525192260742188,
          7.1240081787109375,
          -2.5822887420654297,
          -0.8382778763771057,
          0.06281918287277222,
          -2.985518217086792,
          4.497706413269043
         ]
        },
        {
         "hovertemplate": "color=Tyto<br>TSNE1=%{x}<br>TSNE2=%{y}<br>TSNE3=%{z}<extra></extra>",
         "legendgroup": "Tyto",
         "marker": {
          "color": "#FF6692",
          "symbol": "circle"
         },
         "mode": "markers",
         "name": "Tyto",
         "scene": "scene",
         "showlegend": true,
         "type": "scatter3d",
         "x": [
          5.431660175323486,
          -5.1090407371521,
          7.595695495605469
         ],
         "y": [
          -8.02936840057373,
          3.857937812805176,
          -7.958436965942383
         ],
         "z": [
          -1.747955322265625,
          5.912532806396484,
          -0.959339439868927
         ]
        },
        {
         "hovertemplate": "color=Uropsalis<br>TSNE1=%{x}<br>TSNE2=%{y}<br>TSNE3=%{z}<extra></extra>",
         "legendgroup": "Uropsalis",
         "marker": {
          "color": "#B6E880",
          "symbol": "circle"
         },
         "mode": "markers",
         "name": "Uropsalis",
         "scene": "scene",
         "showlegend": true,
         "type": "scatter3d",
         "x": [
          5.907032012939453,
          3.5931239128112793,
          -4.827286243438721,
          6.524248123168945
         ],
         "y": [
          1.0717753171920776,
          0.783517062664032,
          8.554644584655762,
          -4.086316108703613
         ],
         "z": [
          0.476276695728302,
          7.13509464263916,
          -1.5269895792007446,
          1.7677278518676758
         ]
        },
        {
         "hovertemplate": "color=Vanellus<br>TSNE1=%{x}<br>TSNE2=%{y}<br>TSNE3=%{z}<extra></extra>",
         "legendgroup": "Vanellus",
         "marker": {
          "color": "#FF97FF",
          "symbol": "circle"
         },
         "mode": "markers",
         "name": "Vanellus",
         "scene": "scene",
         "showlegend": true,
         "type": "scatter3d",
         "x": [
          -1.812048077583313,
          -2.2160017490386963,
          0.7381210923194885
         ],
         "y": [
          -3.0708281993865967,
          -1.232326865196228,
          -5.334444522857666
         ],
         "z": [
          -3.4088449478149414,
          -3.5282533168792725,
          -5.643559455871582
         ]
        },
        {
         "hovertemplate": "color=Veniliornis<br>TSNE1=%{x}<br>TSNE2=%{y}<br>TSNE3=%{z}<extra></extra>",
         "legendgroup": "Veniliornis",
         "marker": {
          "color": "#FECB52",
          "symbol": "circle"
         },
         "mode": "markers",
         "name": "Veniliornis",
         "scene": "scene",
         "showlegend": true,
         "type": "scatter3d",
         "x": [
          -6.826463222503662,
          -0.23108871281147003,
          6.081497669219971,
          -5.5934953689575195,
          -1.1449296474456787
         ],
         "y": [
          1.9674720764160156,
          0.6630563139915466,
          -1.076583743095398,
          -1.4772411584854126,
          0.5285214185714722
         ],
         "z": [
          -6.209513187408447,
          8.066097259521484,
          2.0265953540802,
          -9.117679595947266,
          -5.008118152618408
         ]
        },
        {
         "hovertemplate": "color=Vireo<br>TSNE1=%{x}<br>TSNE2=%{y}<br>TSNE3=%{z}<extra></extra>",
         "legendgroup": "Vireo",
         "marker": {
          "color": "#636efa",
          "symbol": "circle"
         },
         "mode": "markers",
         "name": "Vireo",
         "scene": "scene",
         "showlegend": true,
         "type": "scatter3d",
         "x": [
          -0.8753154873847961,
          8.730854034423828,
          5.6186933517456055,
          -0.5691282749176025,
          -5.749415874481201,
          -2.93684983253479,
          -3.7120511531829834,
          -5.043917179107666,
          -4.700620651245117,
          5.796008110046387,
          11.819550514221191,
          -0.7434395551681519,
          -2.980064868927002
         ],
         "y": [
          0.8660188317298889,
          -0.5231893658638,
          1.3473879098892212,
          5.323628902435303,
          4.507550239562988,
          0.6210007667541504,
          8.46273136138916,
          8.376378059387207,
          6.189846038818359,
          -3.8347036838531494,
          -2.40234637260437,
          -0.8511567711830139,
          -0.1349371373653412
         ],
         "z": [
          8.398571014404297,
          -1.930711030960083,
          5.423773765563965,
          -1.670556664466858,
          5.932657718658447,
          -7.940436363220215,
          -0.5291129350662231,
          -1.8489902019500732,
          1.5949763059616089,
          3.300771713256836,
          -3.0131773948669434,
          7.845344543457031,
          -7.4065752029418945
         ]
        },
        {
         "hovertemplate": "color=Vireolanius<br>TSNE1=%{x}<br>TSNE2=%{y}<br>TSNE3=%{z}<extra></extra>",
         "legendgroup": "Vireolanius",
         "marker": {
          "color": "#EF553B",
          "symbol": "circle"
         },
         "mode": "markers",
         "name": "Vireolanius",
         "scene": "scene",
         "showlegend": true,
         "type": "scatter3d",
         "x": [
          -4.020857334136963,
          9.096114158630371,
          -3.5914618968963623,
          -1.7331995964050293
         ],
         "y": [
          5.382473468780518,
          0.22345055639743805,
          -0.4968147575855255,
          1.845845103263855
         ],
         "z": [
          -4.26515007019043,
          -0.5680899620056152,
          5.929604530334473,
          8.502067565917969
         ]
        },
        {
         "hovertemplate": "color=Volatinia<br>TSNE1=%{x}<br>TSNE2=%{y}<br>TSNE3=%{z}<extra></extra>",
         "legendgroup": "Volatinia",
         "marker": {
          "color": "#00cc96",
          "symbol": "circle"
         },
         "mode": "markers",
         "name": "Volatinia",
         "scene": "scene",
         "showlegend": true,
         "type": "scatter3d",
         "x": [
          1.4059607982635498
         ],
         "y": [
          1.0654125213623047
         ],
         "z": [
          7.988243579864502
         ]
        },
        {
         "hovertemplate": "color=Willisornis<br>TSNE1=%{x}<br>TSNE2=%{y}<br>TSNE3=%{z}<extra></extra>",
         "legendgroup": "Willisornis",
         "marker": {
          "color": "#ab63fa",
          "symbol": "circle"
         },
         "mode": "markers",
         "name": "Willisornis",
         "scene": "scene",
         "showlegend": true,
         "type": "scatter3d",
         "x": [
          3.0033249855041504,
          -4.334861755371094
         ],
         "y": [
          -4.563600540161133,
          2.403592109680176
         ],
         "z": [
          2.0263752937316895,
          1.1265816688537598
         ]
        },
        {
         "hovertemplate": "color=Xenopipo<br>TSNE1=%{x}<br>TSNE2=%{y}<br>TSNE3=%{z}<extra></extra>",
         "legendgroup": "Xenopipo",
         "marker": {
          "color": "#FFA15A",
          "symbol": "circle"
         },
         "mode": "markers",
         "name": "Xenopipo",
         "scene": "scene",
         "showlegend": true,
         "type": "scatter3d",
         "x": [
          -0.2787778079509735,
          -5.901705265045166,
          -0.01607719622552395
         ],
         "y": [
          3.376742362976074,
          5.329880714416504,
          -5.180426120758057
         ],
         "z": [
          8.148110389709473,
          2.405029058456421,
          -8.70279312133789
         ]
        },
        {
         "hovertemplate": "color=Xenops<br>TSNE1=%{x}<br>TSNE2=%{y}<br>TSNE3=%{z}<extra></extra>",
         "legendgroup": "Xenops",
         "marker": {
          "color": "#19d3f3",
          "symbol": "circle"
         },
         "mode": "markers",
         "name": "Xenops",
         "scene": "scene",
         "showlegend": true,
         "type": "scatter3d",
         "x": [
          -2.3336944580078125,
          -6.846775054931641,
          1.0003743171691895,
          1.0766868591308594,
          -1.1576523780822754,
          -5.235058784484863,
          5.531209945678711,
          -5.5262837409973145
         ],
         "y": [
          7.713700771331787,
          1.739464521408081,
          4.35923433303833,
          3.1062233448028564,
          3.560391902923584,
          3.5983855724334717,
          1.292812705039978,
          -1.5856331586837769
         ],
         "z": [
          0.39691978693008423,
          -6.254872798919678,
          7.321080684661865,
          7.681562423706055,
          -3.9208927154541016,
          6.028277397155762,
          5.522056579589844,
          -9.151944160461426
         ]
        },
        {
         "hovertemplate": "color=Xenopsaris<br>TSNE1=%{x}<br>TSNE2=%{y}<br>TSNE3=%{z}<extra></extra>",
         "legendgroup": "Xenopsaris",
         "marker": {
          "color": "#FF6692",
          "symbol": "circle"
         },
         "mode": "markers",
         "name": "Xenopsaris",
         "scene": "scene",
         "showlegend": true,
         "type": "scatter3d",
         "x": [
          6.0318803787231445,
          3.8516781330108643
         ],
         "y": [
          1.1978256702423096,
          -8.061175346374512
         ],
         "z": [
          4.897190570831299,
          -3.892543315887451
         ]
        },
        {
         "hovertemplate": "color=Xiphocolaptes<br>TSNE1=%{x}<br>TSNE2=%{y}<br>TSNE3=%{z}<extra></extra>",
         "legendgroup": "Xiphocolaptes",
         "marker": {
          "color": "#B6E880",
          "symbol": "circle"
         },
         "mode": "markers",
         "name": "Xiphocolaptes",
         "scene": "scene",
         "showlegend": true,
         "type": "scatter3d",
         "x": [
          -3.512296438217163,
          -3.6434929370880127,
          -6.066654205322266,
          0.8548778295516968,
          2.890338897705078
         ],
         "y": [
          -3.9594764709472656,
          -2.6975691318511963,
          3.886495351791382,
          -5.443087577819824,
          -4.608096122741699
         ],
         "z": [
          -4.754560470581055,
          -4.568774223327637,
          4.717680931091309,
          2.166046619415283,
          2.053189516067505
         ]
        },
        {
         "hovertemplate": "color=Xiphorhynchus<br>TSNE1=%{x}<br>TSNE2=%{y}<br>TSNE3=%{z}<extra></extra>",
         "legendgroup": "Xiphorhynchus",
         "marker": {
          "color": "#FF97FF",
          "symbol": "circle"
         },
         "mode": "markers",
         "name": "Xiphorhynchus",
         "scene": "scene",
         "showlegend": true,
         "type": "scatter3d",
         "x": [
          -3.5081562995910645,
          4.693593502044678,
          -6.144826889038086,
          -1.6272785663604736,
          -0.2291199415922165,
          0.7494732737541199,
          7.680361270904541,
          6.412445068359375,
          3.4807024002075195,
          9.77446460723877,
          4.341414451599121,
          -0.021707765758037567,
          11.132316589355469,
          -6.223864555358887,
          -1.3587939739227295,
          2.0648787021636963
         ],
         "y": [
          -3.2575626373291016,
          -3.4727985858917236,
          4.027198314666748,
          -1.318637490272522,
          -0.027020107954740524,
          1.4203107357025146,
          -7.966397762298584,
          -2.9116647243499756,
          -7.941682815551758,
          -1.079026699066162,
          -5.968210697174072,
          -0.1160888671875,
          -2.0963046550750732,
          8.278380393981934,
          5.707024574279785,
          -5.527426719665527
         ],
         "z": [
          -4.342318058013916,
          5.786628246307373,
          4.774648189544678,
          7.269326210021973,
          1.7212358713150024,
          7.874305248260498,
          -0.9458615779876709,
          3.152923107147217,
          -4.5655741691589355,
          -1.5108295679092407,
          -4.386849880218506,
          8.475188255310059,
          -2.257747173309326,
          -1.5899137258529663,
          -3.741511106491089,
          -4.983943462371826
         ]
        },
        {
         "hovertemplate": "color=Xolmis<br>TSNE1=%{x}<br>TSNE2=%{y}<br>TSNE3=%{z}<extra></extra>",
         "legendgroup": "Xolmis",
         "marker": {
          "color": "#FECB52",
          "symbol": "circle"
         },
         "mode": "markers",
         "name": "Xolmis",
         "scene": "scene",
         "showlegend": true,
         "type": "scatter3d",
         "x": [
          4.072861194610596,
          -4.728657245635986
         ],
         "y": [
          -5.016917705535889,
          2.0381176471710205
         ],
         "z": [
          5.613038063049316,
          1.7294466495513916
         ]
        },
        {
         "hovertemplate": "color=Zebrilus<br>TSNE1=%{x}<br>TSNE2=%{y}<br>TSNE3=%{z}<extra></extra>",
         "legendgroup": "Zebrilus",
         "marker": {
          "color": "#636efa",
          "symbol": "circle"
         },
         "mode": "markers",
         "name": "Zebrilus",
         "scene": "scene",
         "showlegend": true,
         "type": "scatter3d",
         "x": [
          -3.5690271854400635,
          4.865888595581055,
          7.375387668609619
         ],
         "y": [
          -0.2937103807926178,
          0.3929724395275116,
          -0.7021971940994263
         ],
         "z": [
          5.542914867401123,
          -0.4873407185077667,
          -2.594275951385498
         ]
        },
        {
         "hovertemplate": "color=Zenaida<br>TSNE1=%{x}<br>TSNE2=%{y}<br>TSNE3=%{z}<extra></extra>",
         "legendgroup": "Zenaida",
         "marker": {
          "color": "#EF553B",
          "symbol": "circle"
         },
         "mode": "markers",
         "name": "Zenaida",
         "scene": "scene",
         "showlegend": true,
         "type": "scatter3d",
         "x": [
          6.3944878578186035,
          2.2660715579986572,
          -0.1866510808467865
         ],
         "y": [
          -3.820559501647949,
          -5.098770618438721,
          -4.404356956481934
         ],
         "z": [
          1.7342723608016968,
          5.261456489562988,
          8.31075382232666
         ]
        },
        {
         "hovertemplate": "color=Zentrygon<br>TSNE1=%{x}<br>TSNE2=%{y}<br>TSNE3=%{z}<extra></extra>",
         "legendgroup": "Zentrygon",
         "marker": {
          "color": "#00cc96",
          "symbol": "circle"
         },
         "mode": "markers",
         "name": "Zentrygon",
         "scene": "scene",
         "showlegend": true,
         "type": "scatter3d",
         "x": [
          3.4773292541503906,
          0.7953776121139526
         ],
         "y": [
          -4.279228210449219,
          -6.1092939376831055
         ],
         "z": [
          5.595844268798828,
          6.759363651275635
         ]
        },
        {
         "hovertemplate": "color=Zimmerius<br>TSNE1=%{x}<br>TSNE2=%{y}<br>TSNE3=%{z}<extra></extra>",
         "legendgroup": "Zimmerius",
         "marker": {
          "color": "#ab63fa",
          "symbol": "circle"
         },
         "mode": "markers",
         "name": "Zimmerius",
         "scene": "scene",
         "showlegend": true,
         "type": "scatter3d",
         "x": [
          -2.4766347408294678,
          -4.356966495513916,
          -5.152602672576904,
          -5.623673439025879,
          0.2191135734319687,
          -3.534247636795044,
          -5.738752365112305
         ],
         "y": [
          -1.2058100700378418,
          4.364699363708496,
          6.404617786407471,
          3.1995790004730225,
          -5.364580154418945,
          -3.987529754638672,
          3.0486745834350586
         ],
         "z": [
          3.2915642261505127,
          1.1124509572982788,
          -1.17174232006073,
          2.1206774711608887,
          -8.021707534790039,
          -5.20244026184082,
          3.332662343978882
         ]
        },
        {
         "hovertemplate": "color=Zonotrichia<br>TSNE1=%{x}<br>TSNE2=%{y}<br>TSNE3=%{z}<extra></extra>",
         "legendgroup": "Zonotrichia",
         "marker": {
          "color": "#FFA15A",
          "symbol": "circle"
         },
         "mode": "markers",
         "name": "Zonotrichia",
         "scene": "scene",
         "showlegend": true,
         "type": "scatter3d",
         "x": [
          5.932861328125,
          -1.8244315385818481,
          -0.39884495735168457
         ],
         "y": [
          1.1551780700683594,
          2.5227038860321045,
          -4.636741638183594
         ],
         "z": [
          0.18609076738357544,
          -7.765113353729248,
          8.139808654785156
         ]
        }
       ],
       "layout": {
        "legend": {
         "title": {
          "text": "color"
         },
         "tracegroupgap": 0
        },
        "margin": {
         "t": 60
        },
        "scene": {
         "domain": {
          "x": [
           0,
           1
          ],
          "y": [
           0,
           1
          ]
         },
         "xaxis": {
          "title": {
           "text": "TSNE1"
          }
         },
         "yaxis": {
          "title": {
           "text": "TSNE2"
          }
         },
         "zaxis": {
          "title": {
           "text": "TSNE3"
          }
         }
        },
        "template": {
         "data": {
          "bar": [
           {
            "error_x": {
             "color": "#2a3f5f"
            },
            "error_y": {
             "color": "#2a3f5f"
            },
            "marker": {
             "line": {
              "color": "#E5ECF6",
              "width": 0.5
             },
             "pattern": {
              "fillmode": "overlay",
              "size": 10,
              "solidity": 0.2
             }
            },
            "type": "bar"
           }
          ],
          "barpolar": [
           {
            "marker": {
             "line": {
              "color": "#E5ECF6",
              "width": 0.5
             },
             "pattern": {
              "fillmode": "overlay",
              "size": 10,
              "solidity": 0.2
             }
            },
            "type": "barpolar"
           }
          ],
          "carpet": [
           {
            "aaxis": {
             "endlinecolor": "#2a3f5f",
             "gridcolor": "white",
             "linecolor": "white",
             "minorgridcolor": "white",
             "startlinecolor": "#2a3f5f"
            },
            "baxis": {
             "endlinecolor": "#2a3f5f",
             "gridcolor": "white",
             "linecolor": "white",
             "minorgridcolor": "white",
             "startlinecolor": "#2a3f5f"
            },
            "type": "carpet"
           }
          ],
          "choropleth": [
           {
            "colorbar": {
             "outlinewidth": 0,
             "ticks": ""
            },
            "type": "choropleth"
           }
          ],
          "contour": [
           {
            "colorbar": {
             "outlinewidth": 0,
             "ticks": ""
            },
            "colorscale": [
             [
              0,
              "#0d0887"
             ],
             [
              0.1111111111111111,
              "#46039f"
             ],
             [
              0.2222222222222222,
              "#7201a8"
             ],
             [
              0.3333333333333333,
              "#9c179e"
             ],
             [
              0.4444444444444444,
              "#bd3786"
             ],
             [
              0.5555555555555556,
              "#d8576b"
             ],
             [
              0.6666666666666666,
              "#ed7953"
             ],
             [
              0.7777777777777778,
              "#fb9f3a"
             ],
             [
              0.8888888888888888,
              "#fdca26"
             ],
             [
              1,
              "#f0f921"
             ]
            ],
            "type": "contour"
           }
          ],
          "contourcarpet": [
           {
            "colorbar": {
             "outlinewidth": 0,
             "ticks": ""
            },
            "type": "contourcarpet"
           }
          ],
          "heatmap": [
           {
            "colorbar": {
             "outlinewidth": 0,
             "ticks": ""
            },
            "colorscale": [
             [
              0,
              "#0d0887"
             ],
             [
              0.1111111111111111,
              "#46039f"
             ],
             [
              0.2222222222222222,
              "#7201a8"
             ],
             [
              0.3333333333333333,
              "#9c179e"
             ],
             [
              0.4444444444444444,
              "#bd3786"
             ],
             [
              0.5555555555555556,
              "#d8576b"
             ],
             [
              0.6666666666666666,
              "#ed7953"
             ],
             [
              0.7777777777777778,
              "#fb9f3a"
             ],
             [
              0.8888888888888888,
              "#fdca26"
             ],
             [
              1,
              "#f0f921"
             ]
            ],
            "type": "heatmap"
           }
          ],
          "heatmapgl": [
           {
            "colorbar": {
             "outlinewidth": 0,
             "ticks": ""
            },
            "colorscale": [
             [
              0,
              "#0d0887"
             ],
             [
              0.1111111111111111,
              "#46039f"
             ],
             [
              0.2222222222222222,
              "#7201a8"
             ],
             [
              0.3333333333333333,
              "#9c179e"
             ],
             [
              0.4444444444444444,
              "#bd3786"
             ],
             [
              0.5555555555555556,
              "#d8576b"
             ],
             [
              0.6666666666666666,
              "#ed7953"
             ],
             [
              0.7777777777777778,
              "#fb9f3a"
             ],
             [
              0.8888888888888888,
              "#fdca26"
             ],
             [
              1,
              "#f0f921"
             ]
            ],
            "type": "heatmapgl"
           }
          ],
          "histogram": [
           {
            "marker": {
             "pattern": {
              "fillmode": "overlay",
              "size": 10,
              "solidity": 0.2
             }
            },
            "type": "histogram"
           }
          ],
          "histogram2d": [
           {
            "colorbar": {
             "outlinewidth": 0,
             "ticks": ""
            },
            "colorscale": [
             [
              0,
              "#0d0887"
             ],
             [
              0.1111111111111111,
              "#46039f"
             ],
             [
              0.2222222222222222,
              "#7201a8"
             ],
             [
              0.3333333333333333,
              "#9c179e"
             ],
             [
              0.4444444444444444,
              "#bd3786"
             ],
             [
              0.5555555555555556,
              "#d8576b"
             ],
             [
              0.6666666666666666,
              "#ed7953"
             ],
             [
              0.7777777777777778,
              "#fb9f3a"
             ],
             [
              0.8888888888888888,
              "#fdca26"
             ],
             [
              1,
              "#f0f921"
             ]
            ],
            "type": "histogram2d"
           }
          ],
          "histogram2dcontour": [
           {
            "colorbar": {
             "outlinewidth": 0,
             "ticks": ""
            },
            "colorscale": [
             [
              0,
              "#0d0887"
             ],
             [
              0.1111111111111111,
              "#46039f"
             ],
             [
              0.2222222222222222,
              "#7201a8"
             ],
             [
              0.3333333333333333,
              "#9c179e"
             ],
             [
              0.4444444444444444,
              "#bd3786"
             ],
             [
              0.5555555555555556,
              "#d8576b"
             ],
             [
              0.6666666666666666,
              "#ed7953"
             ],
             [
              0.7777777777777778,
              "#fb9f3a"
             ],
             [
              0.8888888888888888,
              "#fdca26"
             ],
             [
              1,
              "#f0f921"
             ]
            ],
            "type": "histogram2dcontour"
           }
          ],
          "mesh3d": [
           {
            "colorbar": {
             "outlinewidth": 0,
             "ticks": ""
            },
            "type": "mesh3d"
           }
          ],
          "parcoords": [
           {
            "line": {
             "colorbar": {
              "outlinewidth": 0,
              "ticks": ""
             }
            },
            "type": "parcoords"
           }
          ],
          "pie": [
           {
            "automargin": true,
            "type": "pie"
           }
          ],
          "scatter": [
           {
            "marker": {
             "colorbar": {
              "outlinewidth": 0,
              "ticks": ""
             }
            },
            "type": "scatter"
           }
          ],
          "scatter3d": [
           {
            "line": {
             "colorbar": {
              "outlinewidth": 0,
              "ticks": ""
             }
            },
            "marker": {
             "colorbar": {
              "outlinewidth": 0,
              "ticks": ""
             }
            },
            "type": "scatter3d"
           }
          ],
          "scattercarpet": [
           {
            "marker": {
             "colorbar": {
              "outlinewidth": 0,
              "ticks": ""
             }
            },
            "type": "scattercarpet"
           }
          ],
          "scattergeo": [
           {
            "marker": {
             "colorbar": {
              "outlinewidth": 0,
              "ticks": ""
             }
            },
            "type": "scattergeo"
           }
          ],
          "scattergl": [
           {
            "marker": {
             "colorbar": {
              "outlinewidth": 0,
              "ticks": ""
             }
            },
            "type": "scattergl"
           }
          ],
          "scattermapbox": [
           {
            "marker": {
             "colorbar": {
              "outlinewidth": 0,
              "ticks": ""
             }
            },
            "type": "scattermapbox"
           }
          ],
          "scatterpolar": [
           {
            "marker": {
             "colorbar": {
              "outlinewidth": 0,
              "ticks": ""
             }
            },
            "type": "scatterpolar"
           }
          ],
          "scatterpolargl": [
           {
            "marker": {
             "colorbar": {
              "outlinewidth": 0,
              "ticks": ""
             }
            },
            "type": "scatterpolargl"
           }
          ],
          "scatterternary": [
           {
            "marker": {
             "colorbar": {
              "outlinewidth": 0,
              "ticks": ""
             }
            },
            "type": "scatterternary"
           }
          ],
          "surface": [
           {
            "colorbar": {
             "outlinewidth": 0,
             "ticks": ""
            },
            "colorscale": [
             [
              0,
              "#0d0887"
             ],
             [
              0.1111111111111111,
              "#46039f"
             ],
             [
              0.2222222222222222,
              "#7201a8"
             ],
             [
              0.3333333333333333,
              "#9c179e"
             ],
             [
              0.4444444444444444,
              "#bd3786"
             ],
             [
              0.5555555555555556,
              "#d8576b"
             ],
             [
              0.6666666666666666,
              "#ed7953"
             ],
             [
              0.7777777777777778,
              "#fb9f3a"
             ],
             [
              0.8888888888888888,
              "#fdca26"
             ],
             [
              1,
              "#f0f921"
             ]
            ],
            "type": "surface"
           }
          ],
          "table": [
           {
            "cells": {
             "fill": {
              "color": "#EBF0F8"
             },
             "line": {
              "color": "white"
             }
            },
            "header": {
             "fill": {
              "color": "#C8D4E3"
             },
             "line": {
              "color": "white"
             }
            },
            "type": "table"
           }
          ]
         },
         "layout": {
          "annotationdefaults": {
           "arrowcolor": "#2a3f5f",
           "arrowhead": 0,
           "arrowwidth": 1
          },
          "autotypenumbers": "strict",
          "coloraxis": {
           "colorbar": {
            "outlinewidth": 0,
            "ticks": ""
           }
          },
          "colorscale": {
           "diverging": [
            [
             0,
             "#8e0152"
            ],
            [
             0.1,
             "#c51b7d"
            ],
            [
             0.2,
             "#de77ae"
            ],
            [
             0.3,
             "#f1b6da"
            ],
            [
             0.4,
             "#fde0ef"
            ],
            [
             0.5,
             "#f7f7f7"
            ],
            [
             0.6,
             "#e6f5d0"
            ],
            [
             0.7,
             "#b8e186"
            ],
            [
             0.8,
             "#7fbc41"
            ],
            [
             0.9,
             "#4d9221"
            ],
            [
             1,
             "#276419"
            ]
           ],
           "sequential": [
            [
             0,
             "#0d0887"
            ],
            [
             0.1111111111111111,
             "#46039f"
            ],
            [
             0.2222222222222222,
             "#7201a8"
            ],
            [
             0.3333333333333333,
             "#9c179e"
            ],
            [
             0.4444444444444444,
             "#bd3786"
            ],
            [
             0.5555555555555556,
             "#d8576b"
            ],
            [
             0.6666666666666666,
             "#ed7953"
            ],
            [
             0.7777777777777778,
             "#fb9f3a"
            ],
            [
             0.8888888888888888,
             "#fdca26"
            ],
            [
             1,
             "#f0f921"
            ]
           ],
           "sequentialminus": [
            [
             0,
             "#0d0887"
            ],
            [
             0.1111111111111111,
             "#46039f"
            ],
            [
             0.2222222222222222,
             "#7201a8"
            ],
            [
             0.3333333333333333,
             "#9c179e"
            ],
            [
             0.4444444444444444,
             "#bd3786"
            ],
            [
             0.5555555555555556,
             "#d8576b"
            ],
            [
             0.6666666666666666,
             "#ed7953"
            ],
            [
             0.7777777777777778,
             "#fb9f3a"
            ],
            [
             0.8888888888888888,
             "#fdca26"
            ],
            [
             1,
             "#f0f921"
            ]
           ]
          },
          "colorway": [
           "#636efa",
           "#EF553B",
           "#00cc96",
           "#ab63fa",
           "#FFA15A",
           "#19d3f3",
           "#FF6692",
           "#B6E880",
           "#FF97FF",
           "#FECB52"
          ],
          "font": {
           "color": "#2a3f5f"
          },
          "geo": {
           "bgcolor": "white",
           "lakecolor": "white",
           "landcolor": "#E5ECF6",
           "showlakes": true,
           "showland": true,
           "subunitcolor": "white"
          },
          "hoverlabel": {
           "align": "left"
          },
          "hovermode": "closest",
          "mapbox": {
           "style": "light"
          },
          "paper_bgcolor": "white",
          "plot_bgcolor": "#E5ECF6",
          "polar": {
           "angularaxis": {
            "gridcolor": "white",
            "linecolor": "white",
            "ticks": ""
           },
           "bgcolor": "#E5ECF6",
           "radialaxis": {
            "gridcolor": "white",
            "linecolor": "white",
            "ticks": ""
           }
          },
          "scene": {
           "xaxis": {
            "backgroundcolor": "#E5ECF6",
            "gridcolor": "white",
            "gridwidth": 2,
            "linecolor": "white",
            "showbackground": true,
            "ticks": "",
            "zerolinecolor": "white"
           },
           "yaxis": {
            "backgroundcolor": "#E5ECF6",
            "gridcolor": "white",
            "gridwidth": 2,
            "linecolor": "white",
            "showbackground": true,
            "ticks": "",
            "zerolinecolor": "white"
           },
           "zaxis": {
            "backgroundcolor": "#E5ECF6",
            "gridcolor": "white",
            "gridwidth": 2,
            "linecolor": "white",
            "showbackground": true,
            "ticks": "",
            "zerolinecolor": "white"
           }
          },
          "shapedefaults": {
           "line": {
            "color": "#2a3f5f"
           }
          },
          "ternary": {
           "aaxis": {
            "gridcolor": "white",
            "linecolor": "white",
            "ticks": ""
           },
           "baxis": {
            "gridcolor": "white",
            "linecolor": "white",
            "ticks": ""
           },
           "bgcolor": "#E5ECF6",
           "caxis": {
            "gridcolor": "white",
            "linecolor": "white",
            "ticks": ""
           }
          },
          "title": {
           "x": 0.05
          },
          "xaxis": {
           "automargin": true,
           "gridcolor": "white",
           "linecolor": "white",
           "ticks": "",
           "title": {
            "standoff": 15
           },
           "zerolinecolor": "white",
           "zerolinewidth": 2
          },
          "yaxis": {
           "automargin": true,
           "gridcolor": "white",
           "linecolor": "white",
           "ticks": "",
           "title": {
            "standoff": 15
           },
           "zerolinecolor": "white",
           "zerolinewidth": 2
          }
         }
        }
       }
      }
     },
     "metadata": {},
     "output_type": "display_data"
    }
   ],
   "source": [
    "import plotly.express as px\n",
    "\n",
    "fig = px.scatter_3d(tsneed, x=\"TSNE1\", y=\"TSNE2\", z='TSNE3',color= Y)\n",
    "fig.show()"
   ]
  }
 ],
 "metadata": {
  "interpreter": {
   "hash": "d1b7c51cb1c07a1a0543a455994ca61e31e66a1747528d0d0492d9b5937ed4ce"
  },
  "kernelspec": {
   "display_name": "Python 3.8.12 ('tweety')",
   "language": "python",
   "name": "python3"
  },
  "language_info": {
   "codemirror_mode": {
    "name": "ipython",
    "version": 3
   },
   "file_extension": ".py",
   "mimetype": "text/x-python",
   "name": "python",
   "nbconvert_exporter": "python",
   "pygments_lexer": "ipython3",
   "version": "3.8.12"
  },
  "orig_nbformat": 4
 },
 "nbformat": 4,
 "nbformat_minor": 2
}
