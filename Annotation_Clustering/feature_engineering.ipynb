{
 "cells": [
  {
   "cell_type": "code",
   "execution_count": 56,
   "metadata": {},
   "outputs": [],
   "source": [
    "import pandas as pd\n",
    "import numpy as np\n",
    "import matplotlib.pyplot as plt\n",
    "from scipy import stats\n",
    "import seaborn as sns"
   ]
  },
  {
   "cell_type": "code",
   "execution_count": 57,
   "metadata": {},
   "outputs": [],
   "source": [
    "frame = pd.read_csv('for_data_science_newline_fixed.csv', usecols = [\"IN FILE\",\"CLIP LENGTH\",\"OFFSET\",\"DURATION\",\"MAX FREQ\",\"MIN FREQ\",\"SAMPLE RATE\"])"
   ]
  },
  {
   "cell_type": "code",
   "execution_count": 58,
   "metadata": {},
   "outputs": [],
   "source": [
    "# frame"
   ]
  },
  {
   "cell_type": "code",
   "execution_count": 59,
   "metadata": {},
   "outputs": [],
   "source": [
    "# SET FEATURES TO ENGINEER\n",
    "# MEDIAN ANNOTATION DURATIONS FOR FILE\n",
    "# SUM OF ANNOTATION DURATIONS FOR FILE \n",
    "# NUMBER OF ANNOTATIONS\n",
    "# MEDIAN DISTANCE BETWEEN ANNOTATIONS FOR FILE \n",
    "\n",
    "\n",
    "# BRAINSTORM:\n",
    "# "
   ]
  },
  {
   "cell_type": "code",
   "execution_count": 60,
   "metadata": {},
   "outputs": [],
   "source": [
    "CLIP_LENGTHS = frame.groupby(\"IN FILE\")[[\"CLIP LENGTH\"]].max()"
   ]
  },
  {
   "cell_type": "code",
   "execution_count": 61,
   "metadata": {},
   "outputs": [],
   "source": [
    "# CLIP_LENGTHS"
   ]
  },
  {
   "cell_type": "code",
   "execution_count": 62,
   "metadata": {},
   "outputs": [],
   "source": [
    "SUM_DURATIONS = frame.groupby(\"IN FILE\")[[\"DURATION\"]].sum()"
   ]
  },
  {
   "cell_type": "code",
   "execution_count": 63,
   "metadata": {},
   "outputs": [],
   "source": [
    "# SUM_DURATIONS"
   ]
  },
  {
   "cell_type": "code",
   "execution_count": 64,
   "metadata": {},
   "outputs": [],
   "source": [
    "MEDIAN_DURATIONS = frame.groupby(\"IN FILE\")[[\"DURATION\"]].median()"
   ]
  },
  {
   "cell_type": "code",
   "execution_count": 65,
   "metadata": {},
   "outputs": [],
   "source": [
    "MEDIAN_DURATIONS = MEDIAN_DURATIONS.rename(columns={'DURATION': 'MEDIAN DURATION'})\n",
    "# MEDIAN_DURATIONS"
   ]
  },
  {
   "cell_type": "code",
   "execution_count": 66,
   "metadata": {},
   "outputs": [],
   "source": [
    "NUMBER_ANN = frame.groupby(\"IN FILE\")[[\"OFFSET\"]].count()"
   ]
  },
  {
   "cell_type": "code",
   "execution_count": 67,
   "metadata": {},
   "outputs": [],
   "source": [
    "NUMBER_ANN = NUMBER_ANN.rename(columns = {'OFFSET':'OFFSET COUNT'})\n",
    "# NUMBER_ANN"
   ]
  },
  {
   "cell_type": "code",
   "execution_count": 68,
   "metadata": {},
   "outputs": [],
   "source": [
    "# new column = (offset, offset+duration)\n",
    "# new column containing end = offset+duration\n",
    "\n",
    "# sort by start time, \n",
    "# groupby(\"FILE NAME\")[[\"OFFSET\"]].sort() \n",
    "\n",
    "MED_DIST_BW_ANNS = frame.copy(True)\n",
    "\n",
    "MED_DIST_BW_ANNS = MED_DIST_BW_ANNS.sort_values(['IN FILE','OFFSET'])\n",
    "MED_DIST_BW_ANNS['ENDSET'] = MED_DIST_BW_ANNS['OFFSET'] + MED_DIST_BW_ANNS['DURATION']"
   ]
  },
  {
   "cell_type": "code",
   "execution_count": 69,
   "metadata": {},
   "outputs": [],
   "source": [
    "MED_DIST_BW_ANNS = MED_DIST_BW_ANNS[['IN FILE','CLIP LENGTH','OFFSET','ENDSET']]"
   ]
  },
  {
   "cell_type": "code",
   "execution_count": 70,
   "metadata": {},
   "outputs": [],
   "source": [
    "# MED_DIST_BW_ANNS['SAME FILE'] = MED_DIST_BW_ANNS['IN FILE'].eq(MED_DIST_BW_ANNS['IN FILE'].shift())"
   ]
  },
  {
   "cell_type": "code",
   "execution_count": 71,
   "metadata": {},
   "outputs": [],
   "source": [
    "# MED_DIST_BW_ANNS"
   ]
  },
  {
   "cell_type": "code",
   "execution_count": 72,
   "metadata": {},
   "outputs": [],
   "source": [
    "MED_DIST_BW_ANNS['PREV END'] = MED_DIST_BW_ANNS.loc[MED_DIST_BW_ANNS['IN FILE'].shift(-1) == MED_DIST_BW_ANNS['IN FILE'], 'ENDSET']\n",
    "MED_DIST_BW_ANNS['PREV END'] = MED_DIST_BW_ANNS['PREV END'].shift()\n",
    "# MED_DIST_BW_ANNS"
   ]
  },
  {
   "cell_type": "code",
   "execution_count": 73,
   "metadata": {},
   "outputs": [],
   "source": [
    "MED_DIST_BW_ANNS = MED_DIST_BW_ANNS.fillna(0)\n",
    "MED_DIST_BW_ANNS['DIST BETWEEN ANN PREV'] = MED_DIST_BW_ANNS['OFFSET'] - MED_DIST_BW_ANNS['PREV END']\n",
    "# MED_DIST_BW_ANNS"
   ]
  },
  {
   "cell_type": "code",
   "execution_count": null,
   "metadata": {},
   "outputs": [],
   "source": []
  },
  {
   "cell_type": "code",
   "execution_count": 74,
   "metadata": {},
   "outputs": [],
   "source": [
    "MED_DIST_BW_ANNS['OVERLAP'] = MED_DIST_BW_ANNS['DIST BETWEEN ANN PREV'].loc[MED_DIST_BW_ANNS['DIST BETWEEN ANN PREV'] < 0]"
   ]
  },
  {
   "cell_type": "code",
   "execution_count": 75,
   "metadata": {},
   "outputs": [],
   "source": [
    "OVER_LAP = MED_DIST_BW_ANNS.groupby('IN FILE')[['OVERLAP']].count()\n",
    "OVER_LAP = OVER_LAP.rename(columns = {'OVERLAP':'OVERLAP COUNT'})\n",
    "# OVER_LAP"
   ]
  },
  {
   "cell_type": "code",
   "execution_count": 76,
   "metadata": {},
   "outputs": [],
   "source": [
    "DIST_BETWEEN_ANN_PREV = MED_DIST_BW_ANNS.groupby('IN FILE')[['DIST BETWEEN ANN PREV']].median()\n",
    "DIST_BETWEEN_ANN_PREV = DIST_BETWEEN_ANN_PREV.rename(columns={'DIST BETWEEN ANN PREV': 'MEDIAN DIST B/W ANNS'})\n",
    "# DIST_BETWEEN_ANN_PREV"
   ]
  },
  {
   "cell_type": "code",
   "execution_count": 77,
   "metadata": {},
   "outputs": [],
   "source": [
    "WHITE_SPACE = frame.copy(True)\n",
    "DUR = WHITE_SPACE.groupby(['IN FILE'])[['DURATION']].sum()\n",
    "DUR = DUR.rename(columns = {'DURATION':'SUM DURATION'})\n",
    "LEN = WHITE_SPACE.groupby(['IN FILE'])[['CLIP LENGTH']].max()\n",
    "WHITE_SPACE = LEN.join(DUR)\n",
    "WHITE_SPACE['WHITE SPACE'] = WHITE_SPACE['CLIP LENGTH'] - WHITE_SPACE['SUM DURATION']\n",
    "# WHITE_SPACE"
   ]
  },
  {
   "cell_type": "code",
   "execution_count": 78,
   "metadata": {},
   "outputs": [
    {
     "data": {
      "text/html": [
       "<div>\n",
       "<style scoped>\n",
       "    .dataframe tbody tr th:only-of-type {\n",
       "        vertical-align: middle;\n",
       "    }\n",
       "\n",
       "    .dataframe tbody tr th {\n",
       "        vertical-align: top;\n",
       "    }\n",
       "\n",
       "    .dataframe thead th {\n",
       "        text-align: right;\n",
       "    }\n",
       "</style>\n",
       "<table border=\"1\" class=\"dataframe\">\n",
       "  <thead>\n",
       "    <tr style=\"text-align: right;\">\n",
       "      <th></th>\n",
       "      <th>IN FILE</th>\n",
       "      <th>CLIP LENGTH</th>\n",
       "      <th>SUM DURATION</th>\n",
       "      <th>WHITE SPACE</th>\n",
       "      <th>OVERLAP COUNT</th>\n",
       "      <th>MEDIAN DIST B/W ANNS</th>\n",
       "      <th>MEDIAN DURATION</th>\n",
       "      <th>OFFSET COUNT</th>\n",
       "    </tr>\n",
       "  </thead>\n",
       "  <tbody>\n",
       "    <tr>\n",
       "      <th>0</th>\n",
       "      <td>Aburria-aburri-257423.wav</td>\n",
       "      <td>24.63350</td>\n",
       "      <td>8.7813</td>\n",
       "      <td>15.85220</td>\n",
       "      <td>0</td>\n",
       "      <td>2.36140</td>\n",
       "      <td>3.32050</td>\n",
       "      <td>3</td>\n",
       "    </tr>\n",
       "    <tr>\n",
       "      <th>1</th>\n",
       "      <td>Aburria-aburri-387212.wav</td>\n",
       "      <td>84.48000</td>\n",
       "      <td>9.4200</td>\n",
       "      <td>75.06000</td>\n",
       "      <td>0</td>\n",
       "      <td>26.76000</td>\n",
       "      <td>3.14000</td>\n",
       "      <td>3</td>\n",
       "    </tr>\n",
       "    <tr>\n",
       "      <th>2</th>\n",
       "      <td>Accipiter-bicolor-451839.wav</td>\n",
       "      <td>5.66857</td>\n",
       "      <td>4.6442</td>\n",
       "      <td>1.02437</td>\n",
       "      <td>3</td>\n",
       "      <td>0.00000</td>\n",
       "      <td>0.21550</td>\n",
       "      <td>20</td>\n",
       "    </tr>\n",
       "    <tr>\n",
       "      <th>3</th>\n",
       "      <td>Accipiter-collaris-260335.wav</td>\n",
       "      <td>45.37470</td>\n",
       "      <td>7.6708</td>\n",
       "      <td>37.70390</td>\n",
       "      <td>0</td>\n",
       "      <td>5.19555</td>\n",
       "      <td>1.03010</td>\n",
       "      <td>8</td>\n",
       "    </tr>\n",
       "    <tr>\n",
       "      <th>4</th>\n",
       "      <td>Accipiter-collaris-260336.wav</td>\n",
       "      <td>26.93220</td>\n",
       "      <td>4.8604</td>\n",
       "      <td>22.07180</td>\n",
       "      <td>1</td>\n",
       "      <td>1.03060</td>\n",
       "      <td>0.57010</td>\n",
       "      <td>8</td>\n",
       "    </tr>\n",
       "    <tr>\n",
       "      <th>...</th>\n",
       "      <td>...</td>\n",
       "      <td>...</td>\n",
       "      <td>...</td>\n",
       "      <td>...</td>\n",
       "      <td>...</td>\n",
       "      <td>...</td>\n",
       "      <td>...</td>\n",
       "      <td>...</td>\n",
       "    </tr>\n",
       "    <tr>\n",
       "      <th>2438</th>\n",
       "      <td>Zimmerius-gracilipes-258668.wav</td>\n",
       "      <td>12.19920</td>\n",
       "      <td>3.2975</td>\n",
       "      <td>8.90170</td>\n",
       "      <td>0</td>\n",
       "      <td>1.48075</td>\n",
       "      <td>0.81325</td>\n",
       "      <td>4</td>\n",
       "    </tr>\n",
       "    <tr>\n",
       "      <th>2439</th>\n",
       "      <td>Zimmerius-gracilipes-258669.wav</td>\n",
       "      <td>27.55920</td>\n",
       "      <td>10.8399</td>\n",
       "      <td>16.71930</td>\n",
       "      <td>0</td>\n",
       "      <td>0.68000</td>\n",
       "      <td>0.52000</td>\n",
       "      <td>21</td>\n",
       "    </tr>\n",
       "    <tr>\n",
       "      <th>2440</th>\n",
       "      <td>Zonotrichia-capensis-232609.wav</td>\n",
       "      <td>98.85600</td>\n",
       "      <td>31.5518</td>\n",
       "      <td>67.30420</td>\n",
       "      <td>0</td>\n",
       "      <td>3.73360</td>\n",
       "      <td>1.70010</td>\n",
       "      <td>17</td>\n",
       "    </tr>\n",
       "    <tr>\n",
       "      <th>2441</th>\n",
       "      <td>Zonotrichia-capensis-377483.wav</td>\n",
       "      <td>18.25960</td>\n",
       "      <td>7.7298</td>\n",
       "      <td>10.52980</td>\n",
       "      <td>0</td>\n",
       "      <td>3.01990</td>\n",
       "      <td>2.35990</td>\n",
       "      <td>3</td>\n",
       "    </tr>\n",
       "    <tr>\n",
       "      <th>2442</th>\n",
       "      <td>Zonotrichia-capensis-47546.wav</td>\n",
       "      <td>54.93550</td>\n",
       "      <td>8.2310</td>\n",
       "      <td>46.70450</td>\n",
       "      <td>0</td>\n",
       "      <td>11.16470</td>\n",
       "      <td>2.05525</td>\n",
       "      <td>4</td>\n",
       "    </tr>\n",
       "  </tbody>\n",
       "</table>\n",
       "<p>2443 rows × 8 columns</p>\n",
       "</div>"
      ],
      "text/plain": [
       "                              IN FILE  CLIP LENGTH  SUM DURATION  WHITE SPACE  \\\n",
       "0           Aburria-aburri-257423.wav     24.63350        8.7813     15.85220   \n",
       "1           Aburria-aburri-387212.wav     84.48000        9.4200     75.06000   \n",
       "2        Accipiter-bicolor-451839.wav      5.66857        4.6442      1.02437   \n",
       "3       Accipiter-collaris-260335.wav     45.37470        7.6708     37.70390   \n",
       "4       Accipiter-collaris-260336.wav     26.93220        4.8604     22.07180   \n",
       "...                               ...          ...           ...          ...   \n",
       "2438  Zimmerius-gracilipes-258668.wav     12.19920        3.2975      8.90170   \n",
       "2439  Zimmerius-gracilipes-258669.wav     27.55920       10.8399     16.71930   \n",
       "2440  Zonotrichia-capensis-232609.wav     98.85600       31.5518     67.30420   \n",
       "2441  Zonotrichia-capensis-377483.wav     18.25960        7.7298     10.52980   \n",
       "2442   Zonotrichia-capensis-47546.wav     54.93550        8.2310     46.70450   \n",
       "\n",
       "      OVERLAP COUNT  MEDIAN DIST B/W ANNS  MEDIAN DURATION  OFFSET COUNT  \n",
       "0                 0               2.36140          3.32050             3  \n",
       "1                 0              26.76000          3.14000             3  \n",
       "2                 3               0.00000          0.21550            20  \n",
       "3                 0               5.19555          1.03010             8  \n",
       "4                 1               1.03060          0.57010             8  \n",
       "...             ...                   ...              ...           ...  \n",
       "2438              0               1.48075          0.81325             4  \n",
       "2439              0               0.68000          0.52000            21  \n",
       "2440              0               3.73360          1.70010            17  \n",
       "2441              0               3.01990          2.35990             3  \n",
       "2442              0              11.16470          2.05525             4  \n",
       "\n",
       "[2443 rows x 8 columns]"
      ]
     },
     "execution_count": 78,
     "metadata": {},
     "output_type": "execute_result"
    }
   ],
   "source": [
    "WHITE_SPACE = WHITE_SPACE.join(OVER_LAP)\n",
    "WHITE_SPACE = WHITE_SPACE.join(DIST_BETWEEN_ANN_PREV)\n",
    "WHITE_SPACE = WHITE_SPACE.join(MEDIAN_DURATIONS)\n",
    "WHITE_SPACE = WHITE_SPACE.join(NUMBER_ANN)\n",
    "WHITE_SPACE.reset_index(inplace=True)\n",
    "WHITE_SPACE"
   ]
  },
  {
   "cell_type": "code",
   "execution_count": null,
   "metadata": {},
   "outputs": [],
   "source": []
  },
  {
   "cell_type": "code",
   "execution_count": 79,
   "metadata": {},
   "outputs": [],
   "source": [
    "def species(row):\n",
    "    species = row['IN FILE']\n",
    "    spec = species.split('-')\n",
    "    # print(spec)\n",
    "    # print(spec[:-1])\n",
    "    spec_to = '-'.join(spec[:-2])\n",
    "    return spec_to\n",
    "WHITE_SPACE['Genus'] = WHITE_SPACE.apply (lambda row: species(row), axis=1)"
   ]
  },
  {
   "cell_type": "code",
   "execution_count": 80,
   "metadata": {},
   "outputs": [
    {
     "data": {
      "text/html": [
       "<div>\n",
       "<style scoped>\n",
       "    .dataframe tbody tr th:only-of-type {\n",
       "        vertical-align: middle;\n",
       "    }\n",
       "\n",
       "    .dataframe tbody tr th {\n",
       "        vertical-align: top;\n",
       "    }\n",
       "\n",
       "    .dataframe thead th {\n",
       "        text-align: right;\n",
       "    }\n",
       "</style>\n",
       "<table border=\"1\" class=\"dataframe\">\n",
       "  <thead>\n",
       "    <tr style=\"text-align: right;\">\n",
       "      <th></th>\n",
       "      <th>IN FILE</th>\n",
       "      <th>CLIP LENGTH</th>\n",
       "      <th>SUM DURATION</th>\n",
       "      <th>WHITE SPACE</th>\n",
       "      <th>OVERLAP COUNT</th>\n",
       "      <th>MEDIAN DIST B/W ANNS</th>\n",
       "      <th>MEDIAN DURATION</th>\n",
       "      <th>OFFSET COUNT</th>\n",
       "      <th>Genus</th>\n",
       "    </tr>\n",
       "  </thead>\n",
       "  <tbody>\n",
       "    <tr>\n",
       "      <th>0</th>\n",
       "      <td>Aburria-aburri-257423.wav</td>\n",
       "      <td>24.63350</td>\n",
       "      <td>8.7813</td>\n",
       "      <td>15.85220</td>\n",
       "      <td>0</td>\n",
       "      <td>2.36140</td>\n",
       "      <td>3.32050</td>\n",
       "      <td>3</td>\n",
       "      <td>Aburria</td>\n",
       "    </tr>\n",
       "    <tr>\n",
       "      <th>1</th>\n",
       "      <td>Aburria-aburri-387212.wav</td>\n",
       "      <td>84.48000</td>\n",
       "      <td>9.4200</td>\n",
       "      <td>75.06000</td>\n",
       "      <td>0</td>\n",
       "      <td>26.76000</td>\n",
       "      <td>3.14000</td>\n",
       "      <td>3</td>\n",
       "      <td>Aburria</td>\n",
       "    </tr>\n",
       "    <tr>\n",
       "      <th>2</th>\n",
       "      <td>Accipiter-bicolor-451839.wav</td>\n",
       "      <td>5.66857</td>\n",
       "      <td>4.6442</td>\n",
       "      <td>1.02437</td>\n",
       "      <td>3</td>\n",
       "      <td>0.00000</td>\n",
       "      <td>0.21550</td>\n",
       "      <td>20</td>\n",
       "      <td>Accipiter</td>\n",
       "    </tr>\n",
       "    <tr>\n",
       "      <th>3</th>\n",
       "      <td>Accipiter-collaris-260335.wav</td>\n",
       "      <td>45.37470</td>\n",
       "      <td>7.6708</td>\n",
       "      <td>37.70390</td>\n",
       "      <td>0</td>\n",
       "      <td>5.19555</td>\n",
       "      <td>1.03010</td>\n",
       "      <td>8</td>\n",
       "      <td>Accipiter</td>\n",
       "    </tr>\n",
       "    <tr>\n",
       "      <th>4</th>\n",
       "      <td>Accipiter-collaris-260336.wav</td>\n",
       "      <td>26.93220</td>\n",
       "      <td>4.8604</td>\n",
       "      <td>22.07180</td>\n",
       "      <td>1</td>\n",
       "      <td>1.03060</td>\n",
       "      <td>0.57010</td>\n",
       "      <td>8</td>\n",
       "      <td>Accipiter</td>\n",
       "    </tr>\n",
       "    <tr>\n",
       "      <th>...</th>\n",
       "      <td>...</td>\n",
       "      <td>...</td>\n",
       "      <td>...</td>\n",
       "      <td>...</td>\n",
       "      <td>...</td>\n",
       "      <td>...</td>\n",
       "      <td>...</td>\n",
       "      <td>...</td>\n",
       "      <td>...</td>\n",
       "    </tr>\n",
       "    <tr>\n",
       "      <th>2438</th>\n",
       "      <td>Zimmerius-gracilipes-258668.wav</td>\n",
       "      <td>12.19920</td>\n",
       "      <td>3.2975</td>\n",
       "      <td>8.90170</td>\n",
       "      <td>0</td>\n",
       "      <td>1.48075</td>\n",
       "      <td>0.81325</td>\n",
       "      <td>4</td>\n",
       "      <td>Zimmerius</td>\n",
       "    </tr>\n",
       "    <tr>\n",
       "      <th>2439</th>\n",
       "      <td>Zimmerius-gracilipes-258669.wav</td>\n",
       "      <td>27.55920</td>\n",
       "      <td>10.8399</td>\n",
       "      <td>16.71930</td>\n",
       "      <td>0</td>\n",
       "      <td>0.68000</td>\n",
       "      <td>0.52000</td>\n",
       "      <td>21</td>\n",
       "      <td>Zimmerius</td>\n",
       "    </tr>\n",
       "    <tr>\n",
       "      <th>2440</th>\n",
       "      <td>Zonotrichia-capensis-232609.wav</td>\n",
       "      <td>98.85600</td>\n",
       "      <td>31.5518</td>\n",
       "      <td>67.30420</td>\n",
       "      <td>0</td>\n",
       "      <td>3.73360</td>\n",
       "      <td>1.70010</td>\n",
       "      <td>17</td>\n",
       "      <td>Zonotrichia</td>\n",
       "    </tr>\n",
       "    <tr>\n",
       "      <th>2441</th>\n",
       "      <td>Zonotrichia-capensis-377483.wav</td>\n",
       "      <td>18.25960</td>\n",
       "      <td>7.7298</td>\n",
       "      <td>10.52980</td>\n",
       "      <td>0</td>\n",
       "      <td>3.01990</td>\n",
       "      <td>2.35990</td>\n",
       "      <td>3</td>\n",
       "      <td>Zonotrichia</td>\n",
       "    </tr>\n",
       "    <tr>\n",
       "      <th>2442</th>\n",
       "      <td>Zonotrichia-capensis-47546.wav</td>\n",
       "      <td>54.93550</td>\n",
       "      <td>8.2310</td>\n",
       "      <td>46.70450</td>\n",
       "      <td>0</td>\n",
       "      <td>11.16470</td>\n",
       "      <td>2.05525</td>\n",
       "      <td>4</td>\n",
       "      <td>Zonotrichia</td>\n",
       "    </tr>\n",
       "  </tbody>\n",
       "</table>\n",
       "<p>2443 rows × 9 columns</p>\n",
       "</div>"
      ],
      "text/plain": [
       "                              IN FILE  CLIP LENGTH  SUM DURATION  WHITE SPACE  \\\n",
       "0           Aburria-aburri-257423.wav     24.63350        8.7813     15.85220   \n",
       "1           Aburria-aburri-387212.wav     84.48000        9.4200     75.06000   \n",
       "2        Accipiter-bicolor-451839.wav      5.66857        4.6442      1.02437   \n",
       "3       Accipiter-collaris-260335.wav     45.37470        7.6708     37.70390   \n",
       "4       Accipiter-collaris-260336.wav     26.93220        4.8604     22.07180   \n",
       "...                               ...          ...           ...          ...   \n",
       "2438  Zimmerius-gracilipes-258668.wav     12.19920        3.2975      8.90170   \n",
       "2439  Zimmerius-gracilipes-258669.wav     27.55920       10.8399     16.71930   \n",
       "2440  Zonotrichia-capensis-232609.wav     98.85600       31.5518     67.30420   \n",
       "2441  Zonotrichia-capensis-377483.wav     18.25960        7.7298     10.52980   \n",
       "2442   Zonotrichia-capensis-47546.wav     54.93550        8.2310     46.70450   \n",
       "\n",
       "      OVERLAP COUNT  MEDIAN DIST B/W ANNS  MEDIAN DURATION  OFFSET COUNT  \\\n",
       "0                 0               2.36140          3.32050             3   \n",
       "1                 0              26.76000          3.14000             3   \n",
       "2                 3               0.00000          0.21550            20   \n",
       "3                 0               5.19555          1.03010             8   \n",
       "4                 1               1.03060          0.57010             8   \n",
       "...             ...                   ...              ...           ...   \n",
       "2438              0               1.48075          0.81325             4   \n",
       "2439              0               0.68000          0.52000            21   \n",
       "2440              0               3.73360          1.70010            17   \n",
       "2441              0               3.01990          2.35990             3   \n",
       "2442              0              11.16470          2.05525             4   \n",
       "\n",
       "            Genus  \n",
       "0         Aburria  \n",
       "1         Aburria  \n",
       "2       Accipiter  \n",
       "3       Accipiter  \n",
       "4       Accipiter  \n",
       "...           ...  \n",
       "2438    Zimmerius  \n",
       "2439    Zimmerius  \n",
       "2440  Zonotrichia  \n",
       "2441  Zonotrichia  \n",
       "2442  Zonotrichia  \n",
       "\n",
       "[2443 rows x 9 columns]"
      ]
     },
     "execution_count": 80,
     "metadata": {},
     "output_type": "execute_result"
    }
   ],
   "source": [
    "WHITE_SPACE"
   ]
  },
  {
   "cell_type": "code",
   "execution_count": 81,
   "metadata": {},
   "outputs": [],
   "source": [
    "# WHITE_SPACE[['Genus']].value_counts().max\n",
    "# WHITE_SPACE = WHITE_SPACE[(WHITE_SPACE['Genus'] == 'Piranga-leucoptera') | (WHITE_SPACE['Genus'] == 'Zonotrichia-capensis')]\n",
    "# WHITE_SPACE"
   ]
  },
  {
   "cell_type": "code",
   "execution_count": 82,
   "metadata": {},
   "outputs": [],
   "source": [
    "# if the following row is of the same species, take its off set and make a column to place hold it for the previous row.\n",
    "# for the first annotation, take the distance from the start of the clip to start of annotation, for the last annotation \n",
    "# take the distance between the end of it and the end of the clip length"
   ]
  },
  {
   "cell_type": "code",
   "execution_count": 83,
   "metadata": {},
   "outputs": [],
   "source": [
    "# use group by method or lambda function, "
   ]
  },
  {
   "cell_type": "code",
   "execution_count": 84,
   "metadata": {},
   "outputs": [
    {
     "data": {
      "text/html": [
       "<div>\n",
       "<style scoped>\n",
       "    .dataframe tbody tr th:only-of-type {\n",
       "        vertical-align: middle;\n",
       "    }\n",
       "\n",
       "    .dataframe tbody tr th {\n",
       "        vertical-align: top;\n",
       "    }\n",
       "\n",
       "    .dataframe thead th {\n",
       "        text-align: right;\n",
       "    }\n",
       "</style>\n",
       "<table border=\"1\" class=\"dataframe\">\n",
       "  <thead>\n",
       "    <tr style=\"text-align: right;\">\n",
       "      <th></th>\n",
       "      <th>IN FILE</th>\n",
       "      <th>CLIP LENGTH</th>\n",
       "      <th>SUM DURATION</th>\n",
       "      <th>WHITE SPACE</th>\n",
       "      <th>OVERLAP COUNT</th>\n",
       "      <th>MEDIAN DIST B/W ANNS</th>\n",
       "      <th>MEDIAN DURATION</th>\n",
       "      <th>OFFSET COUNT</th>\n",
       "      <th>Genus</th>\n",
       "    </tr>\n",
       "  </thead>\n",
       "  <tbody>\n",
       "    <tr>\n",
       "      <th>0</th>\n",
       "      <td>Aburria-aburri-257423.wav</td>\n",
       "      <td>24.63350</td>\n",
       "      <td>8.7813</td>\n",
       "      <td>15.85220</td>\n",
       "      <td>0</td>\n",
       "      <td>2.36140</td>\n",
       "      <td>3.32050</td>\n",
       "      <td>3</td>\n",
       "      <td>Aburria</td>\n",
       "    </tr>\n",
       "    <tr>\n",
       "      <th>1</th>\n",
       "      <td>Aburria-aburri-387212.wav</td>\n",
       "      <td>84.48000</td>\n",
       "      <td>9.4200</td>\n",
       "      <td>75.06000</td>\n",
       "      <td>0</td>\n",
       "      <td>26.76000</td>\n",
       "      <td>3.14000</td>\n",
       "      <td>3</td>\n",
       "      <td>Aburria</td>\n",
       "    </tr>\n",
       "    <tr>\n",
       "      <th>2</th>\n",
       "      <td>Accipiter-bicolor-451839.wav</td>\n",
       "      <td>5.66857</td>\n",
       "      <td>4.6442</td>\n",
       "      <td>1.02437</td>\n",
       "      <td>3</td>\n",
       "      <td>0.00000</td>\n",
       "      <td>0.21550</td>\n",
       "      <td>20</td>\n",
       "      <td>Accipiter</td>\n",
       "    </tr>\n",
       "    <tr>\n",
       "      <th>3</th>\n",
       "      <td>Accipiter-collaris-260335.wav</td>\n",
       "      <td>45.37470</td>\n",
       "      <td>7.6708</td>\n",
       "      <td>37.70390</td>\n",
       "      <td>0</td>\n",
       "      <td>5.19555</td>\n",
       "      <td>1.03010</td>\n",
       "      <td>8</td>\n",
       "      <td>Accipiter</td>\n",
       "    </tr>\n",
       "    <tr>\n",
       "      <th>4</th>\n",
       "      <td>Accipiter-collaris-260336.wav</td>\n",
       "      <td>26.93220</td>\n",
       "      <td>4.8604</td>\n",
       "      <td>22.07180</td>\n",
       "      <td>1</td>\n",
       "      <td>1.03060</td>\n",
       "      <td>0.57010</td>\n",
       "      <td>8</td>\n",
       "      <td>Accipiter</td>\n",
       "    </tr>\n",
       "    <tr>\n",
       "      <th>...</th>\n",
       "      <td>...</td>\n",
       "      <td>...</td>\n",
       "      <td>...</td>\n",
       "      <td>...</td>\n",
       "      <td>...</td>\n",
       "      <td>...</td>\n",
       "      <td>...</td>\n",
       "      <td>...</td>\n",
       "      <td>...</td>\n",
       "    </tr>\n",
       "    <tr>\n",
       "      <th>2438</th>\n",
       "      <td>Zimmerius-gracilipes-258668.wav</td>\n",
       "      <td>12.19920</td>\n",
       "      <td>3.2975</td>\n",
       "      <td>8.90170</td>\n",
       "      <td>0</td>\n",
       "      <td>1.48075</td>\n",
       "      <td>0.81325</td>\n",
       "      <td>4</td>\n",
       "      <td>Zimmerius</td>\n",
       "    </tr>\n",
       "    <tr>\n",
       "      <th>2439</th>\n",
       "      <td>Zimmerius-gracilipes-258669.wav</td>\n",
       "      <td>27.55920</td>\n",
       "      <td>10.8399</td>\n",
       "      <td>16.71930</td>\n",
       "      <td>0</td>\n",
       "      <td>0.68000</td>\n",
       "      <td>0.52000</td>\n",
       "      <td>21</td>\n",
       "      <td>Zimmerius</td>\n",
       "    </tr>\n",
       "    <tr>\n",
       "      <th>2440</th>\n",
       "      <td>Zonotrichia-capensis-232609.wav</td>\n",
       "      <td>98.85600</td>\n",
       "      <td>31.5518</td>\n",
       "      <td>67.30420</td>\n",
       "      <td>0</td>\n",
       "      <td>3.73360</td>\n",
       "      <td>1.70010</td>\n",
       "      <td>17</td>\n",
       "      <td>Zonotrichia</td>\n",
       "    </tr>\n",
       "    <tr>\n",
       "      <th>2441</th>\n",
       "      <td>Zonotrichia-capensis-377483.wav</td>\n",
       "      <td>18.25960</td>\n",
       "      <td>7.7298</td>\n",
       "      <td>10.52980</td>\n",
       "      <td>0</td>\n",
       "      <td>3.01990</td>\n",
       "      <td>2.35990</td>\n",
       "      <td>3</td>\n",
       "      <td>Zonotrichia</td>\n",
       "    </tr>\n",
       "    <tr>\n",
       "      <th>2442</th>\n",
       "      <td>Zonotrichia-capensis-47546.wav</td>\n",
       "      <td>54.93550</td>\n",
       "      <td>8.2310</td>\n",
       "      <td>46.70450</td>\n",
       "      <td>0</td>\n",
       "      <td>11.16470</td>\n",
       "      <td>2.05525</td>\n",
       "      <td>4</td>\n",
       "      <td>Zonotrichia</td>\n",
       "    </tr>\n",
       "  </tbody>\n",
       "</table>\n",
       "<p>2443 rows × 9 columns</p>\n",
       "</div>"
      ],
      "text/plain": [
       "                              IN FILE  CLIP LENGTH  SUM DURATION  WHITE SPACE  \\\n",
       "0           Aburria-aburri-257423.wav     24.63350        8.7813     15.85220   \n",
       "1           Aburria-aburri-387212.wav     84.48000        9.4200     75.06000   \n",
       "2        Accipiter-bicolor-451839.wav      5.66857        4.6442      1.02437   \n",
       "3       Accipiter-collaris-260335.wav     45.37470        7.6708     37.70390   \n",
       "4       Accipiter-collaris-260336.wav     26.93220        4.8604     22.07180   \n",
       "...                               ...          ...           ...          ...   \n",
       "2438  Zimmerius-gracilipes-258668.wav     12.19920        3.2975      8.90170   \n",
       "2439  Zimmerius-gracilipes-258669.wav     27.55920       10.8399     16.71930   \n",
       "2440  Zonotrichia-capensis-232609.wav     98.85600       31.5518     67.30420   \n",
       "2441  Zonotrichia-capensis-377483.wav     18.25960        7.7298     10.52980   \n",
       "2442   Zonotrichia-capensis-47546.wav     54.93550        8.2310     46.70450   \n",
       "\n",
       "      OVERLAP COUNT  MEDIAN DIST B/W ANNS  MEDIAN DURATION  OFFSET COUNT  \\\n",
       "0                 0               2.36140          3.32050             3   \n",
       "1                 0              26.76000          3.14000             3   \n",
       "2                 3               0.00000          0.21550            20   \n",
       "3                 0               5.19555          1.03010             8   \n",
       "4                 1               1.03060          0.57010             8   \n",
       "...             ...                   ...              ...           ...   \n",
       "2438              0               1.48075          0.81325             4   \n",
       "2439              0               0.68000          0.52000            21   \n",
       "2440              0               3.73360          1.70010            17   \n",
       "2441              0               3.01990          2.35990             3   \n",
       "2442              0              11.16470          2.05525             4   \n",
       "\n",
       "            Genus  \n",
       "0         Aburria  \n",
       "1         Aburria  \n",
       "2       Accipiter  \n",
       "3       Accipiter  \n",
       "4       Accipiter  \n",
       "...           ...  \n",
       "2438    Zimmerius  \n",
       "2439    Zimmerius  \n",
       "2440  Zonotrichia  \n",
       "2441  Zonotrichia  \n",
       "2442  Zonotrichia  \n",
       "\n",
       "[2443 rows x 9 columns]"
      ]
     },
     "execution_count": 84,
     "metadata": {},
     "output_type": "execute_result"
    }
   ],
   "source": [
    "#IQR On the Generated Features\n",
    "WHITE_SPACE"
   ]
  },
  {
   "cell_type": "code",
   "execution_count": 85,
   "metadata": {},
   "outputs": [],
   "source": [
    "# how to take IQR, and know where a point lies in that range.\n",
    "# Squeeze the values? for training, val, testing? plot has multiple rows.\n",
    "# plotting in 3d.\n",
    "# plotting in 3d using PCA"
   ]
  },
  {
   "cell_type": "code",
   "execution_count": 86,
   "metadata": {},
   "outputs": [],
   "source": [
    "pca_data = WHITE_SPACE"
   ]
  },
  {
   "cell_type": "code",
   "execution_count": 87,
   "metadata": {},
   "outputs": [
    {
     "data": {
      "text/html": [
       "<div>\n",
       "<style scoped>\n",
       "    .dataframe tbody tr th:only-of-type {\n",
       "        vertical-align: middle;\n",
       "    }\n",
       "\n",
       "    .dataframe tbody tr th {\n",
       "        vertical-align: top;\n",
       "    }\n",
       "\n",
       "    .dataframe thead th {\n",
       "        text-align: right;\n",
       "    }\n",
       "</style>\n",
       "<table border=\"1\" class=\"dataframe\">\n",
       "  <thead>\n",
       "    <tr style=\"text-align: right;\">\n",
       "      <th></th>\n",
       "      <th>CLIP LENGTH</th>\n",
       "      <th>SUM DURATION</th>\n",
       "      <th>WHITE SPACE</th>\n",
       "      <th>OVERLAP COUNT</th>\n",
       "      <th>MEDIAN DIST B/W ANNS</th>\n",
       "      <th>MEDIAN DURATION</th>\n",
       "      <th>OFFSET COUNT</th>\n",
       "    </tr>\n",
       "  </thead>\n",
       "  <tbody>\n",
       "    <tr>\n",
       "      <th>0</th>\n",
       "      <td>24.63350</td>\n",
       "      <td>8.7813</td>\n",
       "      <td>15.85220</td>\n",
       "      <td>0</td>\n",
       "      <td>2.36140</td>\n",
       "      <td>3.3205</td>\n",
       "      <td>3</td>\n",
       "    </tr>\n",
       "    <tr>\n",
       "      <th>1</th>\n",
       "      <td>84.48000</td>\n",
       "      <td>9.4200</td>\n",
       "      <td>75.06000</td>\n",
       "      <td>0</td>\n",
       "      <td>26.76000</td>\n",
       "      <td>3.1400</td>\n",
       "      <td>3</td>\n",
       "    </tr>\n",
       "    <tr>\n",
       "      <th>2</th>\n",
       "      <td>5.66857</td>\n",
       "      <td>4.6442</td>\n",
       "      <td>1.02437</td>\n",
       "      <td>3</td>\n",
       "      <td>0.00000</td>\n",
       "      <td>0.2155</td>\n",
       "      <td>20</td>\n",
       "    </tr>\n",
       "    <tr>\n",
       "      <th>3</th>\n",
       "      <td>45.37470</td>\n",
       "      <td>7.6708</td>\n",
       "      <td>37.70390</td>\n",
       "      <td>0</td>\n",
       "      <td>5.19555</td>\n",
       "      <td>1.0301</td>\n",
       "      <td>8</td>\n",
       "    </tr>\n",
       "    <tr>\n",
       "      <th>4</th>\n",
       "      <td>26.93220</td>\n",
       "      <td>4.8604</td>\n",
       "      <td>22.07180</td>\n",
       "      <td>1</td>\n",
       "      <td>1.03060</td>\n",
       "      <td>0.5701</td>\n",
       "      <td>8</td>\n",
       "    </tr>\n",
       "  </tbody>\n",
       "</table>\n",
       "</div>"
      ],
      "text/plain": [
       "   CLIP LENGTH  SUM DURATION  WHITE SPACE  OVERLAP COUNT  \\\n",
       "0     24.63350        8.7813     15.85220              0   \n",
       "1     84.48000        9.4200     75.06000              0   \n",
       "2      5.66857        4.6442      1.02437              3   \n",
       "3     45.37470        7.6708     37.70390              0   \n",
       "4     26.93220        4.8604     22.07180              1   \n",
       "\n",
       "   MEDIAN DIST B/W ANNS  MEDIAN DURATION  OFFSET COUNT  \n",
       "0               2.36140           3.3205             3  \n",
       "1              26.76000           3.1400             3  \n",
       "2               0.00000           0.2155            20  \n",
       "3               5.19555           1.0301             8  \n",
       "4               1.03060           0.5701             8  "
      ]
     },
     "execution_count": 87,
     "metadata": {},
     "output_type": "execute_result"
    }
   ],
   "source": [
    "# pca_data['IN FILE']=pd.Categorical(pca_data['IN FILE'])\n",
    "# my_color=pca_data['IN FILE'].cat.codes\n",
    "\n",
    "X = pca_data.drop(columns = ['IN FILE','Genus'])\n",
    "X.head()"
   ]
  },
  {
   "cell_type": "code",
   "execution_count": 88,
   "metadata": {},
   "outputs": [
    {
     "data": {
      "text/plain": [
       "array(['Aburria', 'Aburria', 'Accipiter', 'Accipiter', 'Accipiter',\n",
       "       'Accipiter', 'Accipiter', 'Accipiter', 'Accipiter', 'Accipiter'],\n",
       "      dtype=object)"
      ]
     },
     "execution_count": 88,
     "metadata": {},
     "output_type": "execute_result"
    }
   ],
   "source": [
    "Y = np.array(pca_data['Genus'])\n",
    "Y[:10]"
   ]
  },
  {
   "cell_type": "code",
   "execution_count": 89,
   "metadata": {},
   "outputs": [],
   "source": [
    "# X"
   ]
  },
  {
   "cell_type": "code",
   "execution_count": 90,
   "metadata": {},
   "outputs": [],
   "source": [
    "from sklearn.preprocessing import StandardScaler"
   ]
  },
  {
   "cell_type": "code",
   "execution_count": 91,
   "metadata": {},
   "outputs": [
    {
     "data": {
      "text/html": [
       "<div>\n",
       "<style scoped>\n",
       "    .dataframe tbody tr th:only-of-type {\n",
       "        vertical-align: middle;\n",
       "    }\n",
       "\n",
       "    .dataframe tbody tr th {\n",
       "        vertical-align: top;\n",
       "    }\n",
       "\n",
       "    .dataframe thead th {\n",
       "        text-align: right;\n",
       "    }\n",
       "</style>\n",
       "<table border=\"1\" class=\"dataframe\">\n",
       "  <thead>\n",
       "    <tr style=\"text-align: right;\">\n",
       "      <th></th>\n",
       "      <th>CLIP LENGTH</th>\n",
       "      <th>SUM DURATION</th>\n",
       "      <th>WHITE SPACE</th>\n",
       "      <th>OVERLAP COUNT</th>\n",
       "      <th>MEDIAN DIST B/W ANNS</th>\n",
       "      <th>MEDIAN DURATION</th>\n",
       "      <th>OFFSET COUNT</th>\n",
       "    </tr>\n",
       "  </thead>\n",
       "  <tbody>\n",
       "    <tr>\n",
       "      <th>0</th>\n",
       "      <td>0.625110</td>\n",
       "      <td>0.520108</td>\n",
       "      <td>0.504117</td>\n",
       "      <td>0.000000</td>\n",
       "      <td>0.459033</td>\n",
       "      <td>1.237198</td>\n",
       "      <td>0.177582</td>\n",
       "    </tr>\n",
       "    <tr>\n",
       "      <th>1</th>\n",
       "      <td>2.143800</td>\n",
       "      <td>0.557938</td>\n",
       "      <td>2.386987</td>\n",
       "      <td>0.000000</td>\n",
       "      <td>5.201882</td>\n",
       "      <td>1.169945</td>\n",
       "      <td>0.177582</td>\n",
       "    </tr>\n",
       "    <tr>\n",
       "      <th>2</th>\n",
       "      <td>0.143848</td>\n",
       "      <td>0.275072</td>\n",
       "      <td>0.032576</td>\n",
       "      <td>0.835953</td>\n",
       "      <td>0.000000</td>\n",
       "      <td>0.080294</td>\n",
       "      <td>1.183877</td>\n",
       "    </tr>\n",
       "    <tr>\n",
       "      <th>3</th>\n",
       "      <td>1.151447</td>\n",
       "      <td>0.454334</td>\n",
       "      <td>1.199024</td>\n",
       "      <td>0.000000</td>\n",
       "      <td>1.009964</td>\n",
       "      <td>0.383809</td>\n",
       "      <td>0.473551</td>\n",
       "    </tr>\n",
       "    <tr>\n",
       "      <th>4</th>\n",
       "      <td>0.683443</td>\n",
       "      <td>0.287877</td>\n",
       "      <td>0.701907</td>\n",
       "      <td>0.278651</td>\n",
       "      <td>0.200339</td>\n",
       "      <td>0.212416</td>\n",
       "      <td>0.473551</td>\n",
       "    </tr>\n",
       "    <tr>\n",
       "      <th>...</th>\n",
       "      <td>...</td>\n",
       "      <td>...</td>\n",
       "      <td>...</td>\n",
       "      <td>...</td>\n",
       "      <td>...</td>\n",
       "      <td>...</td>\n",
       "      <td>...</td>\n",
       "    </tr>\n",
       "    <tr>\n",
       "      <th>2438</th>\n",
       "      <td>0.309572</td>\n",
       "      <td>0.195308</td>\n",
       "      <td>0.283083</td>\n",
       "      <td>0.000000</td>\n",
       "      <td>0.287843</td>\n",
       "      <td>0.303012</td>\n",
       "      <td>0.236775</td>\n",
       "    </tr>\n",
       "    <tr>\n",
       "      <th>2439</th>\n",
       "      <td>0.699354</td>\n",
       "      <td>0.642037</td>\n",
       "      <td>0.531691</td>\n",
       "      <td>0.000000</td>\n",
       "      <td>0.132185</td>\n",
       "      <td>0.193749</td>\n",
       "      <td>1.243071</td>\n",
       "    </tr>\n",
       "    <tr>\n",
       "      <th>2440</th>\n",
       "      <td>2.508611</td>\n",
       "      <td>1.868783</td>\n",
       "      <td>2.140345</td>\n",
       "      <td>0.000000</td>\n",
       "      <td>0.725775</td>\n",
       "      <td>0.633447</td>\n",
       "      <td>1.006296</td>\n",
       "    </tr>\n",
       "    <tr>\n",
       "      <th>2441</th>\n",
       "      <td>0.463363</td>\n",
       "      <td>0.457829</td>\n",
       "      <td>0.334859</td>\n",
       "      <td>0.000000</td>\n",
       "      <td>0.587039</td>\n",
       "      <td>0.879284</td>\n",
       "      <td>0.177582</td>\n",
       "    </tr>\n",
       "    <tr>\n",
       "      <th>2442</th>\n",
       "      <td>1.394066</td>\n",
       "      <td>0.487514</td>\n",
       "      <td>1.485252</td>\n",
       "      <td>0.000000</td>\n",
       "      <td>2.170309</td>\n",
       "      <td>0.765774</td>\n",
       "      <td>0.236775</td>\n",
       "    </tr>\n",
       "  </tbody>\n",
       "</table>\n",
       "<p>2443 rows × 7 columns</p>\n",
       "</div>"
      ],
      "text/plain": [
       "      CLIP LENGTH  SUM DURATION  WHITE SPACE  OVERLAP COUNT  \\\n",
       "0        0.625110      0.520108     0.504117       0.000000   \n",
       "1        2.143800      0.557938     2.386987       0.000000   \n",
       "2        0.143848      0.275072     0.032576       0.835953   \n",
       "3        1.151447      0.454334     1.199024       0.000000   \n",
       "4        0.683443      0.287877     0.701907       0.278651   \n",
       "...           ...           ...          ...            ...   \n",
       "2438     0.309572      0.195308     0.283083       0.000000   \n",
       "2439     0.699354      0.642037     0.531691       0.000000   \n",
       "2440     2.508611      1.868783     2.140345       0.000000   \n",
       "2441     0.463363      0.457829     0.334859       0.000000   \n",
       "2442     1.394066      0.487514     1.485252       0.000000   \n",
       "\n",
       "      MEDIAN DIST B/W ANNS  MEDIAN DURATION  OFFSET COUNT  \n",
       "0                 0.459033         1.237198      0.177582  \n",
       "1                 5.201882         1.169945      0.177582  \n",
       "2                 0.000000         0.080294      1.183877  \n",
       "3                 1.009964         0.383809      0.473551  \n",
       "4                 0.200339         0.212416      0.473551  \n",
       "...                    ...              ...           ...  \n",
       "2438              0.287843         0.303012      0.236775  \n",
       "2439              0.132185         0.193749      1.243071  \n",
       "2440              0.725775         0.633447      1.006296  \n",
       "2441              0.587039         0.879284      0.177582  \n",
       "2442              2.170309         0.765774      0.236775  \n",
       "\n",
       "[2443 rows x 7 columns]"
      ]
     },
     "execution_count": 91,
     "metadata": {},
     "output_type": "execute_result"
    }
   ],
   "source": [
    "scaler = StandardScaler(with_mean = False)\n",
    "scaler.fit(X)\n",
    "X_standardized = scaler.transform(X)\n",
    "X_standard = pd.DataFrame(X_standardized, columns = X.columns)\n",
    "X_standard"
   ]
  },
  {
   "cell_type": "code",
   "execution_count": 92,
   "metadata": {},
   "outputs": [],
   "source": [
    "from sklearn.decomposition import PCA"
   ]
  },
  {
   "cell_type": "code",
   "execution_count": 93,
   "metadata": {},
   "outputs": [],
   "source": [
    "\n",
    "pca = PCA(n_components = 3, random_state = 0)\n",
    "pca.fit(X_standardized)\n",
    "X_dim_reducted = pca.transform(X_standardized)\n",
    "X_dim_reducted\n",
    "result = pd.DataFrame(X_dim_reducted, columns = ['PCA1','PCA2','PCA3']) #,'PCA4','PCA5','PCA6'"
   ]
  },
  {
   "cell_type": "code",
   "execution_count": 94,
   "metadata": {},
   "outputs": [],
   "source": [
    "import matplotlib"
   ]
  },
  {
   "cell_type": "code",
   "execution_count": 95,
   "metadata": {},
   "outputs": [
    {
     "data": {
      "application/vnd.plotly.v1+json": {
       "config": {
        "plotlyServerURL": "https://plot.ly"
       },
       "data": [
        {
         "hovertemplate": "color=Aburria<br>PCA1=%{x}<br>PCA2=%{y}<extra></extra>",
         "legendgroup": "Aburria",
         "marker": {
          "color": "#636efa",
          "symbol": "circle"
         },
         "mode": "markers",
         "name": "Aburria",
         "showlegend": true,
         "type": "scattergl",
         "x": [
          -0.7129452479951326,
          1.7083185893920294
         ],
         "xaxis": "x",
         "y": [
          0.3584870661791243,
          3.802481155856545
         ],
         "yaxis": "y"
        },
        {
         "hovertemplate": "color=Accipiter<br>PCA1=%{x}<br>PCA2=%{y}<extra></extra>",
         "legendgroup": "Accipiter",
         "marker": {
          "color": "#EF553B",
          "symbol": "circle"
         },
         "mode": "markers",
         "name": "Accipiter",
         "showlegend": true,
         "type": "scattergl",
         "x": [
          -0.9191338256668785,
          0.04945409802797994,
          -0.6071518509500141,
          2.686792403503263,
          -0.7013025610559478,
          -1.3453828917639818,
          -1.5662043925235434,
          1.0095036631603738,
          1.0063058056050376
         ],
         "xaxis": "x",
         "y": [
          -1.2484228241999493,
          0.6773147766780947,
          -0.16002581128125942,
          2.939519552365911,
          -0.3459901894639621,
          -0.4797423898747551,
          -0.1613388776567486,
          -0.2649992328762956,
          -0.25293619217478547
         ],
         "yaxis": "y"
        },
        {
         "hovertemplate": "color=Actitis<br>PCA1=%{x}<br>PCA2=%{y}<extra></extra>",
         "legendgroup": "Actitis",
         "marker": {
          "color": "#00cc96",
          "symbol": "circle"
         },
         "mode": "markers",
         "name": "Actitis",
         "showlegend": true,
         "type": "scattergl",
         "x": [
          -0.8318856464912249,
          0.2642221024604632,
          -0.7747123493411268,
          -1.471860106168368
         ],
         "xaxis": "x",
         "y": [
          0.10228013943628175,
          -2.561157147616744,
          -0.5316205655550614,
          -0.34068198596641286
         ],
         "yaxis": "y"
        },
        {
         "hovertemplate": "color=Adelomyia<br>PCA1=%{x}<br>PCA2=%{y}<extra></extra>",
         "legendgroup": "Adelomyia",
         "marker": {
          "color": "#ab63fa",
          "symbol": "circle"
         },
         "mode": "markers",
         "name": "Adelomyia",
         "showlegend": true,
         "type": "scattergl",
         "x": [
          -0.6033845812740811,
          3.8530519082052392,
          -0.5509261119127213
         ],
         "xaxis": "x",
         "y": [
          -0.5595224307149217,
          -9.922130023651437,
          -0.3653863427802438
         ],
         "yaxis": "y"
        },
        {
         "hovertemplate": "color=Aeronautes<br>PCA1=%{x}<br>PCA2=%{y}<extra></extra>",
         "legendgroup": "Aeronautes",
         "marker": {
          "color": "#FFA15A",
          "symbol": "circle"
         },
         "mode": "markers",
         "name": "Aeronautes",
         "showlegend": true,
         "type": "scattergl",
         "x": [
          -0.5235884884424397,
          -0.0973270708528871,
          -0.11501595902994617,
          -0.6448183714660534,
          -0.7597699261417443,
          -0.13013462634212036
         ],
         "xaxis": "x",
         "y": [
          0.011229815582550573,
          -0.6795402714026134,
          -0.3801531283589309,
          -0.1253460013179245,
          -0.1350891786218428,
          0.43507725954531573
         ],
         "yaxis": "y"
        },
        {
         "hovertemplate": "color=Agamia<br>PCA1=%{x}<br>PCA2=%{y}<extra></extra>",
         "legendgroup": "Agamia",
         "marker": {
          "color": "#19d3f3",
          "symbol": "circle"
         },
         "mode": "markers",
         "name": "Agamia",
         "showlegend": true,
         "type": "scattergl",
         "x": [
          -0.5201417800690582,
          -0.8514642566141227,
          -1.0922123248597104
         ],
         "xaxis": "x",
         "y": [
          -0.12619361392876846,
          -0.8989566518361182,
          -0.28719773689913225
         ],
         "yaxis": "y"
        },
        {
         "hovertemplate": "color=Agelasticus<br>PCA1=%{x}<br>PCA2=%{y}<extra></extra>",
         "legendgroup": "Agelasticus",
         "marker": {
          "color": "#FF6692",
          "symbol": "circle"
         },
         "mode": "markers",
         "name": "Agelasticus",
         "showlegend": true,
         "type": "scattergl",
         "x": [
          -1.392806129356264,
          -0.15041867322844782,
          -1.40323750619425
         ],
         "xaxis": "x",
         "y": [
          -0.5249177404525106,
          -0.43727227797554047,
          -0.03642737470982877
         ],
         "yaxis": "y"
        },
        {
         "hovertemplate": "color=Aglaeactis<br>PCA1=%{x}<br>PCA2=%{y}<extra></extra>",
         "legendgroup": "Aglaeactis",
         "marker": {
          "color": "#B6E880",
          "symbol": "circle"
         },
         "mode": "markers",
         "name": "Aglaeactis",
         "showlegend": true,
         "type": "scattergl",
         "x": [
          -1.2217005109344878
         ],
         "xaxis": "x",
         "y": [
          -0.22386673561398485
         ],
         "yaxis": "y"
        },
        {
         "hovertemplate": "color=Aglaiocercus<br>PCA1=%{x}<br>PCA2=%{y}<extra></extra>",
         "legendgroup": "Aglaiocercus",
         "marker": {
          "color": "#FF97FF",
          "symbol": "circle"
         },
         "mode": "markers",
         "name": "Aglaiocercus",
         "showlegend": true,
         "type": "scattergl",
         "x": [
          -0.4754650848295447,
          -1.116916724217544,
          -1.5932009291488871
         ],
         "xaxis": "x",
         "y": [
          -0.8081994964181031,
          -0.4486766665877253,
          -0.07823256102660331
         ],
         "yaxis": "y"
        },
        {
         "hovertemplate": "color=Akletos<br>PCA1=%{x}<br>PCA2=%{y}<extra></extra>",
         "legendgroup": "Akletos",
         "marker": {
          "color": "#FECB52",
          "symbol": "circle"
         },
         "mode": "markers",
         "name": "Akletos",
         "showlegend": true,
         "type": "scattergl",
         "x": [
          0.17731396114295608,
          -0.006795363784372386,
          -1.2828528870047544,
          10.460514780566301,
          1.933721370642978
         ],
         "xaxis": "x",
         "y": [
          0.9137835666558335,
          0.6186593805757291,
          -0.1700251906954207,
          -7.131662461656706,
          1.7339208840879923
         ],
         "yaxis": "y"
        },
        {
         "hovertemplate": "color=Alopochelidon<br>PCA1=%{x}<br>PCA2=%{y}<extra></extra>",
         "legendgroup": "Alopochelidon",
         "marker": {
          "color": "#636efa",
          "symbol": "circle"
         },
         "mode": "markers",
         "name": "Alopochelidon",
         "showlegend": true,
         "type": "scattergl",
         "x": [
          -0.7042727926604101
         ],
         "xaxis": "x",
         "y": [
          -0.6929037614826619
         ],
         "yaxis": "y"
        },
        {
         "hovertemplate": "color=Amaurolimnas<br>PCA1=%{x}<br>PCA2=%{y}<extra></extra>",
         "legendgroup": "Amaurolimnas",
         "marker": {
          "color": "#EF553B",
          "symbol": "circle"
         },
         "mode": "markers",
         "name": "Amaurolimnas",
         "showlegend": true,
         "type": "scattergl",
         "x": [
          0.2932473225972019,
          -0.207319290914974,
          -0.23683037179186736
         ],
         "xaxis": "x",
         "y": [
          -1.8087761637901465,
          -1.091632547102662,
          -1.8546157631537759
         ],
         "yaxis": "y"
        },
        {
         "hovertemplate": "color=Amazilia<br>PCA1=%{x}<br>PCA2=%{y}<extra></extra>",
         "legendgroup": "Amazilia",
         "marker": {
          "color": "#00cc96",
          "symbol": "circle"
         },
         "mode": "markers",
         "name": "Amazilia",
         "showlegend": true,
         "type": "scattergl",
         "x": [
          -1.422456070881175,
          1.2576306250220493,
          0.4793212340089596
         ],
         "xaxis": "x",
         "y": [
          -0.3494657225159782,
          0.328436972022924,
          -1.1785921382492268
         ],
         "yaxis": "y"
        },
        {
         "hovertemplate": "color=Amazona<br>PCA1=%{x}<br>PCA2=%{y}<extra></extra>",
         "legendgroup": "Amazona",
         "marker": {
          "color": "#ab63fa",
          "symbol": "circle"
         },
         "mode": "markers",
         "name": "Amazona",
         "showlegend": true,
         "type": "scattergl",
         "x": [
          -0.32355644488243124,
          -0.7328349164509349,
          -0.5994781396770541,
          -0.2757836067128445,
          -1.0291065875950267,
          -1.4383901361243934,
          -0.41572033711176926,
          0.032060475918988376,
          0.2886707514757044,
          0.49666061514304083,
          -0.8523702037804004,
          -0.6479220024005802,
          -0.5877283113090275,
          -0.0531427834039382
         ],
         "xaxis": "x",
         "y": [
          -1.352824945347301,
          -0.4549154903612776,
          -0.9531554832622032,
          0.23781288632357914,
          -0.24655035375316806,
          -0.2739565103537232,
          -0.3385682271723323,
          0.48519382478890866,
          -1.0033067598143124,
          -1.236318489211,
          -0.02842213729191231,
          -0.9525025816239703,
          -0.5045656541533643,
          -0.9991391438375214
         ],
         "yaxis": "y"
        },
        {
         "hovertemplate": "color=Amazonetta<br>PCA1=%{x}<br>PCA2=%{y}<extra></extra>",
         "legendgroup": "Amazonetta",
         "marker": {
          "color": "#FFA15A",
          "symbol": "circle"
         },
         "mode": "markers",
         "name": "Amazonetta",
         "showlegend": true,
         "type": "scattergl",
         "x": [
          -1.3662820638819466,
          -1.2139390946200457,
          -1.1845558398660245
         ],
         "xaxis": "x",
         "y": [
          -0.058740757768667336,
          -0.4113576865948128,
          -0.5503851926341757
         ],
         "yaxis": "y"
        },
        {
         "hovertemplate": "color=Amblycercus<br>PCA1=%{x}<br>PCA2=%{y}<extra></extra>",
         "legendgroup": "Amblycercus",
         "marker": {
          "color": "#19d3f3",
          "symbol": "circle"
         },
         "mode": "markers",
         "name": "Amblycercus",
         "showlegend": true,
         "type": "scattergl",
         "x": [
          2.956641671230446,
          -1.0962410420699613,
          -0.8309528295532993
         ],
         "xaxis": "x",
         "y": [
          -0.461164511763448,
          -0.400395087463031,
          -0.503545991505148
         ],
         "yaxis": "y"
        },
        {
         "hovertemplate": "color=Ammodramus<br>PCA1=%{x}<br>PCA2=%{y}<extra></extra>",
         "legendgroup": "Ammodramus",
         "marker": {
          "color": "#FF6692",
          "symbol": "circle"
         },
         "mode": "markers",
         "name": "Ammodramus",
         "showlegend": true,
         "type": "scattergl",
         "x": [
          0.2942307271194935,
          -0.07613157191223428,
          -1.5226364151524052,
          -0.00574309586275232,
          -0.7663467950728239
         ],
         "xaxis": "x",
         "y": [
          -1.401769147161847,
          -0.059935464826911325,
          -0.25789805326351817,
          -0.6707881765764289,
          -0.33739358891047994
         ],
         "yaxis": "y"
        },
        {
         "hovertemplate": "color=Ampelioides<br>PCA1=%{x}<br>PCA2=%{y}<extra></extra>",
         "legendgroup": "Ampelioides",
         "marker": {
          "color": "#B6E880",
          "symbol": "circle"
         },
         "mode": "markers",
         "name": "Ampelioides",
         "showlegend": true,
         "type": "scattergl",
         "x": [
          -0.6197498530380187,
          0.39216049022433297
         ],
         "xaxis": "x",
         "y": [
          1.0378237982406997,
          1.2033186627656132
         ],
         "yaxis": "y"
        },
        {
         "hovertemplate": "color=Ampelion<br>PCA1=%{x}<br>PCA2=%{y}<extra></extra>",
         "legendgroup": "Ampelion",
         "marker": {
          "color": "#FF97FF",
          "symbol": "circle"
         },
         "mode": "markers",
         "name": "Ampelion",
         "showlegend": true,
         "type": "scattergl",
         "x": [
          -1.5557647220269095,
          -1.3215771688920708
         ],
         "xaxis": "x",
         "y": [
          -0.274039736195037,
          0.1695526830353454
         ],
         "yaxis": "y"
        },
        {
         "hovertemplate": "color=Anabacerthia<br>PCA1=%{x}<br>PCA2=%{y}<extra></extra>",
         "legendgroup": "Anabacerthia",
         "marker": {
          "color": "#FECB52",
          "symbol": "circle"
         },
         "mode": "markers",
         "name": "Anabacerthia",
         "showlegend": true,
         "type": "scattergl",
         "x": [
          -1.1902762985133273,
          -1.0982907556965096,
          -0.1867082762401,
          -0.9614602968921008,
          -1.084031083588861,
          -0.4222204173798565,
          -1.1126908437178247,
          1.0947417847942902,
          -0.8844265207882445,
          -1.1697060380637985
         ],
         "xaxis": "x",
         "y": [
          -0.6667281836675136,
          0.3182927615918233,
          -1.6695749705052945,
          0.4887202998786257,
          -0.8024891954148984,
          -0.8642238980910721,
          -0.34989217190157307,
          -1.6605624420962568,
          -0.8488739323273368,
          0.05676670479410697
         ],
         "yaxis": "y"
        },
        {
         "hovertemplate": "color=Anairetes<br>PCA1=%{x}<br>PCA2=%{y}<extra></extra>",
         "legendgroup": "Anairetes",
         "marker": {
          "color": "#636efa",
          "symbol": "circle"
         },
         "mode": "markers",
         "name": "Anairetes",
         "showlegend": true,
         "type": "scattergl",
         "x": [
          -1.5483243755207503,
          0.2686913775537774,
          -1.122163563051978,
          -1.21341990205253
         ],
         "xaxis": "x",
         "y": [
          -0.16751067703331873,
          1.2344721222265018,
          -0.7883563438887974,
          -0.2923346622147488
         ],
         "yaxis": "y"
        },
        {
         "hovertemplate": "color=Anas<br>PCA1=%{x}<br>PCA2=%{y}<extra></extra>",
         "legendgroup": "Anas",
         "marker": {
          "color": "#EF553B",
          "symbol": "circle"
         },
         "mode": "markers",
         "name": "Anas",
         "showlegend": true,
         "type": "scattergl",
         "x": [
          -0.371435248250824,
          -1.4869613272938695
         ],
         "xaxis": "x",
         "y": [
          0.08236332055733792,
          -0.30948411906678064
         ],
         "yaxis": "y"
        },
        {
         "hovertemplate": "color=Andigena<br>PCA1=%{x}<br>PCA2=%{y}<extra></extra>",
         "legendgroup": "Andigena",
         "marker": {
          "color": "#00cc96",
          "symbol": "circle"
         },
         "mode": "markers",
         "name": "Andigena",
         "showlegend": true,
         "type": "scattergl",
         "x": [
          0.8863348645721528,
          -1.4236097450627072,
          1.6586905879462925
         ],
         "xaxis": "x",
         "y": [
          -1.6471970596022925,
          -0.056259692103499855,
          -1.308918331435661
         ],
         "yaxis": "y"
        },
        {
         "hovertemplate": "color=Anhima<br>PCA1=%{x}<br>PCA2=%{y}<extra></extra>",
         "legendgroup": "Anhima",
         "marker": {
          "color": "#ab63fa",
          "symbol": "circle"
         },
         "mode": "markers",
         "name": "Anhima",
         "showlegend": true,
         "type": "scattergl",
         "x": [
          0.2160870330133229,
          0.16393620814403684,
          -0.8933430550859403
         ],
         "xaxis": "x",
         "y": [
          -0.395397451344422,
          -1.424665303737907,
          -0.3989842730949673
         ],
         "yaxis": "y"
        },
        {
         "hovertemplate": "color=Anhinga<br>PCA1=%{x}<br>PCA2=%{y}<extra></extra>",
         "legendgroup": "Anhinga",
         "marker": {
          "color": "#FFA15A",
          "symbol": "circle"
         },
         "mode": "markers",
         "name": "Anhinga",
         "showlegend": true,
         "type": "scattergl",
         "x": [
          -1.2710707511197363,
          -0.09218243340565051,
          -1.2267829159875911,
          -1.0955250325980948,
          -0.8256736106261926
         ],
         "xaxis": "x",
         "y": [
          -0.5169461935823482,
          0.4053658977366954,
          0.22977390479795967,
          -0.12106358836201962,
          0.1730949361257187
         ],
         "yaxis": "y"
        },
        {
         "hovertemplate": "color=Anthracothorax<br>PCA1=%{x}<br>PCA2=%{y}<extra></extra>",
         "legendgroup": "Anthracothorax",
         "marker": {
          "color": "#19d3f3",
          "symbol": "circle"
         },
         "mode": "markers",
         "name": "Anthracothorax",
         "showlegend": true,
         "type": "scattergl",
         "x": [
          -0.37381589113216507,
          -1.3157312114100057
         ],
         "xaxis": "x",
         "y": [
          -0.730405513107413,
          -0.18930437108802944
         ],
         "yaxis": "y"
        },
        {
         "hovertemplate": "color=Anthus<br>PCA1=%{x}<br>PCA2=%{y}<extra></extra>",
         "legendgroup": "Anthus",
         "marker": {
          "color": "#FF6692",
          "symbol": "circle"
         },
         "mode": "markers",
         "name": "Anthus",
         "showlegend": true,
         "type": "scattergl",
         "x": [
          -0.8229245670636592,
          -0.47064312539757813
         ],
         "xaxis": "x",
         "y": [
          -0.20231602118399647,
          -0.34233621302397643
         ],
         "yaxis": "y"
        },
        {
         "hovertemplate": "color=Antrostomus<br>PCA1=%{x}<br>PCA2=%{y}<extra></extra>",
         "legendgroup": "Antrostomus",
         "marker": {
          "color": "#B6E880",
          "symbol": "circle"
         },
         "mode": "markers",
         "name": "Antrostomus",
         "showlegend": true,
         "type": "scattergl",
         "x": [
          1.1977322285531284,
          0.6280107824457826
         ],
         "xaxis": "x",
         "y": [
          -0.5470800265546911,
          -0.2585304670013447
         ],
         "yaxis": "y"
        },
        {
         "hovertemplate": "color=Ara<br>PCA1=%{x}<br>PCA2=%{y}<extra></extra>",
         "legendgroup": "Ara",
         "marker": {
          "color": "#FF97FF",
          "symbol": "circle"
         },
         "mode": "markers",
         "name": "Ara",
         "showlegend": true,
         "type": "scattergl",
         "x": [
          -0.992988499105324,
          -0.653157496953969,
          -0.05936106756834946,
          2.607732870980525,
          -1.2297968153011505,
          0.5802389399959269,
          1.0713877541388148,
          0.11460806812892584,
          -0.1399975312726706,
          -0.2215010086446086,
          -0.7341458673588458,
          0.29668423326238885,
          0.5883643143134577,
          0.823105579170561,
          -0.15182104168446386
         ],
         "xaxis": "x",
         "y": [
          0.02318674445298525,
          -0.4082816250133058,
          -0.2588103364678769,
          2.9948822894778866,
          -0.0972213597144685,
          0.26779609000235644,
          0.6198553688492456,
          -0.14757247896747502,
          -0.6509330065234475,
          -1.2797501276124645,
          -0.1272661899050745,
          0.3754055707005057,
          -0.03267241380663756,
          -0.052210486945076,
          0.6193180956206672
         ],
         "yaxis": "y"
        },
        {
         "hovertemplate": "color=Aramides<br>PCA1=%{x}<br>PCA2=%{y}<extra></extra>",
         "legendgroup": "Aramides",
         "marker": {
          "color": "#FECB52",
          "symbol": "circle"
         },
         "mode": "markers",
         "name": "Aramides",
         "showlegend": true,
         "type": "scattergl",
         "x": [
          1.7333078712130292,
          -0.708600809321735,
          -0.8380743154850369
         ],
         "xaxis": "x",
         "y": [
          0.10369519344963146,
          1.729342682898126,
          -0.06275849809862437
         ],
         "yaxis": "y"
        },
        {
         "hovertemplate": "color=Aramus<br>PCA1=%{x}<br>PCA2=%{y}<extra></extra>",
         "legendgroup": "Aramus",
         "marker": {
          "color": "#636efa",
          "symbol": "circle"
         },
         "mode": "markers",
         "name": "Aramus",
         "showlegend": true,
         "type": "scattergl",
         "x": [
          1.7825523134608843
         ],
         "xaxis": "x",
         "y": [
          -0.5008198629456845
         ],
         "yaxis": "y"
        },
        {
         "hovertemplate": "color=Aratinga<br>PCA1=%{x}<br>PCA2=%{y}<extra></extra>",
         "legendgroup": "Aratinga",
         "marker": {
          "color": "#EF553B",
          "symbol": "circle"
         },
         "mode": "markers",
         "name": "Aratinga",
         "showlegend": true,
         "type": "scattergl",
         "x": [
          0.8418518680830728
         ],
         "xaxis": "x",
         "y": [
          -1.718149522656228
         ],
         "yaxis": "y"
        },
        {
         "hovertemplate": "color=Ardea<br>PCA1=%{x}<br>PCA2=%{y}<extra></extra>",
         "legendgroup": "Ardea",
         "marker": {
          "color": "#00cc96",
          "symbol": "circle"
         },
         "mode": "markers",
         "name": "Ardea",
         "showlegend": true,
         "type": "scattergl",
         "x": [
          -1.320664893581232,
          -0.702165235110354,
          -1.1715354794730097,
          -1.3272861260632913,
          -1.6389794296071987,
          -1.1426955398489351
         ],
         "xaxis": "x",
         "y": [
          -0.33417367102939477,
          -0.4035275791592927,
          -0.30164477362586634,
          -0.19730209982800845,
          -0.17155380316192959,
          -0.5159262511712742
         ],
         "yaxis": "y"
        },
        {
         "hovertemplate": "color=Arenaria<br>PCA1=%{x}<br>PCA2=%{y}<extra></extra>",
         "legendgroup": "Arenaria",
         "marker": {
          "color": "#ab63fa",
          "symbol": "circle"
         },
         "mode": "markers",
         "name": "Arenaria",
         "showlegend": true,
         "type": "scattergl",
         "x": [
          -1.1312990005146135,
          -0.6982912301431877
         ],
         "xaxis": "x",
         "y": [
          -0.4638574804819413,
          0.2059483616286453
         ],
         "yaxis": "y"
        },
        {
         "hovertemplate": "color=Arremon<br>PCA1=%{x}<br>PCA2=%{y}<extra></extra>",
         "legendgroup": "Arremon",
         "marker": {
          "color": "#FFA15A",
          "symbol": "circle"
         },
         "mode": "markers",
         "name": "Arremon",
         "showlegend": true,
         "type": "scattergl",
         "x": [
          1.1153763773395189,
          -1.1530515214990675,
          -0.9366592972958321,
          -0.7891779515354281,
          0.9009947722420479,
          0.2938232485130915,
          -0.9350378303925613,
          -0.5230694605600359,
          -0.296951698546343
         ],
         "xaxis": "x",
         "y": [
          0.21109081030109111,
          0.21460042061681742,
          0.3994966839465489,
          0.14266857994036022,
          -0.2517399012378946,
          0.2872805371464726,
          -0.13553307464009906,
          0.6331823467680445,
          0.46769495706372016
         ],
         "yaxis": "y"
        },
        {
         "hovertemplate": "color=Arundinicola<br>PCA1=%{x}<br>PCA2=%{y}<extra></extra>",
         "legendgroup": "Arundinicola",
         "marker": {
          "color": "#19d3f3",
          "symbol": "circle"
         },
         "mode": "markers",
         "name": "Arundinicola",
         "showlegend": true,
         "type": "scattergl",
         "x": [
          -0.16537002440568416,
          1.711806888507579,
          -1.3011912175245668
         ],
         "xaxis": "x",
         "y": [
          0.3844871191400165,
          1.9328166959259454,
          -0.005447739095495132
         ],
         "yaxis": "y"
        },
        {
         "hovertemplate": "color=Asthenes<br>PCA1=%{x}<br>PCA2=%{y}<extra></extra>",
         "legendgroup": "Asthenes",
         "marker": {
          "color": "#FF6692",
          "symbol": "circle"
         },
         "mode": "markers",
         "name": "Asthenes",
         "showlegend": true,
         "type": "scattergl",
         "x": [
          -1.1018688790754696,
          1.9157464417016363,
          -0.7666296974969236,
          0.2969782317482215,
          0.8814467318444879
         ],
         "xaxis": "x",
         "y": [
          -0.4206667961760267,
          0.670022521504411,
          0.18112539685342005,
          1.4525724330355714,
          -1.4043155602960753
         ],
         "yaxis": "y"
        },
        {
         "hovertemplate": "color=Athene<br>PCA1=%{x}<br>PCA2=%{y}<extra></extra>",
         "legendgroup": "Athene",
         "marker": {
          "color": "#B6E880",
          "symbol": "circle"
         },
         "mode": "markers",
         "name": "Athene",
         "showlegend": true,
         "type": "scattergl",
         "x": [
          -1.5623852955106678,
          -0.9447590458476625,
          -0.04787261221639594,
          -0.8537711486563846
         ],
         "xaxis": "x",
         "y": [
          -0.37184228548114484,
          -0.8050932607715343,
          -0.8567411271967997,
          -0.5061246956926394
         ],
         "yaxis": "y"
        },
        {
         "hovertemplate": "color=Atlapetes<br>PCA1=%{x}<br>PCA2=%{y}<extra></extra>",
         "legendgroup": "Atlapetes",
         "marker": {
          "color": "#FF97FF",
          "symbol": "circle"
         },
         "mode": "markers",
         "name": "Atlapetes",
         "showlegend": true,
         "type": "scattergl",
         "x": [
          1.8243227439936356,
          -0.10866604869136602,
          -0.4186107556823643,
          0.2637371007080324
         ],
         "xaxis": "x",
         "y": [
          0.804051594239821,
          -0.7319809675057425,
          0.39793336538792445,
          0.412001581821306
         ],
         "yaxis": "y"
        },
        {
         "hovertemplate": "color=Atticora<br>PCA1=%{x}<br>PCA2=%{y}<extra></extra>",
         "legendgroup": "Atticora",
         "marker": {
          "color": "#FECB52",
          "symbol": "circle"
         },
         "mode": "markers",
         "name": "Atticora",
         "showlegend": true,
         "type": "scattergl",
         "x": [
          0.9567027273045661,
          -0.2150208530915295,
          -0.2915390421456317
         ],
         "xaxis": "x",
         "y": [
          -0.7163759159395524,
          -0.5509955338372579,
          -1.1570761409405996
         ],
         "yaxis": "y"
        },
        {
         "hovertemplate": "color=Attila<br>PCA1=%{x}<br>PCA2=%{y}<extra></extra>",
         "legendgroup": "Attila",
         "marker": {
          "color": "#636efa",
          "symbol": "circle"
         },
         "mode": "markers",
         "name": "Attila",
         "showlegend": true,
         "type": "scattergl",
         "x": [
          -0.4218165597271546,
          3.448876560585786,
          -1.087747865771379,
          0.613721687027084,
          0.5259568205973641,
          2.2279468847881714,
          -1.1208137991813283,
          4.0195216907197935,
          -1.14197809561787
         ],
         "xaxis": "x",
         "y": [
          -0.2702828751240973,
          -1.429485737606715,
          0.12879397551913202,
          -0.8112260624136242,
          0.0929918135164892,
          0.4797825611518071,
          0.2805172446397304,
          -3.464982116405709,
          -0.5196822553512169
         ],
         "yaxis": "y"
        },
        {
         "hovertemplate": "color=Aulacorhynchus<br>PCA1=%{x}<br>PCA2=%{y}<extra></extra>",
         "legendgroup": "Aulacorhynchus",
         "marker": {
          "color": "#EF553B",
          "symbol": "circle"
         },
         "mode": "markers",
         "name": "Aulacorhynchus",
         "showlegend": true,
         "type": "scattergl",
         "x": [
          -0.582663183936244,
          1.0617850519737986,
          3.115523864436109
         ],
         "xaxis": "x",
         "y": [
          -0.6708287397795654,
          -1.1239693102611548,
          -1.6515311083294857
         ],
         "yaxis": "y"
        },
        {
         "hovertemplate": "color=Automolus<br>PCA1=%{x}<br>PCA2=%{y}<extra></extra>",
         "legendgroup": "Automolus",
         "marker": {
          "color": "#00cc96",
          "symbol": "circle"
         },
         "mode": "markers",
         "name": "Automolus",
         "showlegend": true,
         "type": "scattergl",
         "x": [
          -0.07935652507762958,
          1.7378780389218205,
          1.5529760458237172,
          -0.6930178389530851,
          -0.6212272167442724,
          -0.950270794579106,
          0.06770175319154652,
          1.2308409454093077,
          -1.1347182157200675,
          -0.4825133307364615
         ],
         "xaxis": "x",
         "y": [
          0.05692665743180753,
          -1.323016440036378,
          -1.6923812322689558,
          -0.12094909466742368,
          0.19120481158814148,
          -0.05570019872601954,
          0.5308989490622698,
          -0.8743875924554236,
          -0.019283669985496812,
          0.11393096479107873
         ],
         "yaxis": "y"
        },
        {
         "hovertemplate": "color=Bartramia<br>PCA1=%{x}<br>PCA2=%{y}<extra></extra>",
         "legendgroup": "Bartramia",
         "marker": {
          "color": "#ab63fa",
          "symbol": "circle"
         },
         "mode": "markers",
         "name": "Bartramia",
         "showlegend": true,
         "type": "scattergl",
         "x": [
          -0.7971081367836909,
          -1.157655132502582,
          -1.627510862947242
         ],
         "xaxis": "x",
         "y": [
          -0.32079450383958336,
          -0.047947497128442415,
          -0.22540393839677525
         ],
         "yaxis": "y"
        },
        {
         "hovertemplate": "color=Baryphthengus<br>PCA1=%{x}<br>PCA2=%{y}<extra></extra>",
         "legendgroup": "Baryphthengus",
         "marker": {
          "color": "#FFA15A",
          "symbol": "circle"
         },
         "mode": "markers",
         "name": "Baryphthengus",
         "showlegend": true,
         "type": "scattergl",
         "x": [
          3.615432764357071,
          -0.4265181662698835,
          -0.6591704774359826
         ],
         "xaxis": "x",
         "y": [
          1.1900508267947278,
          0.06612465536460287,
          0.01497555638016576
         ],
         "yaxis": "y"
        },
        {
         "hovertemplate": "color=Basileuterus<br>PCA1=%{x}<br>PCA2=%{y}<extra></extra>",
         "legendgroup": "Basileuterus",
         "marker": {
          "color": "#19d3f3",
          "symbol": "circle"
         },
         "mode": "markers",
         "name": "Basileuterus",
         "showlegend": true,
         "type": "scattergl",
         "x": [
          -0.786706183501183,
          -0.4300557470176362
         ],
         "xaxis": "x",
         "y": [
          -0.6164480836200448,
          0.23711650720178018
         ],
         "yaxis": "y"
        },
        {
         "hovertemplate": "color=Berlepschia<br>PCA1=%{x}<br>PCA2=%{y}<extra></extra>",
         "legendgroup": "Berlepschia",
         "marker": {
          "color": "#FF6692",
          "symbol": "circle"
         },
         "mode": "markers",
         "name": "Berlepschia",
         "showlegend": true,
         "type": "scattergl",
         "x": [
          1.819999185507989,
          -1.2973516583079325
         ],
         "xaxis": "x",
         "y": [
          2.04013503737082,
          -0.6130263319389679
         ],
         "yaxis": "y"
        },
        {
         "hovertemplate": "color=Bolborhynchus<br>PCA1=%{x}<br>PCA2=%{y}<extra></extra>",
         "legendgroup": "Bolborhynchus",
         "marker": {
          "color": "#B6E880",
          "symbol": "circle"
         },
         "mode": "markers",
         "name": "Bolborhynchus",
         "showlegend": true,
         "type": "scattergl",
         "x": [
          -0.8558212824720934,
          -0.7205942900213115,
          0.23217766637035242,
          1.1661260627862244,
          -0.7691730835225091
         ],
         "xaxis": "x",
         "y": [
          -0.18324702102587995,
          -0.9326587408638095,
          -0.6370680652191161,
          -0.49927151860423363,
          -0.6998769763437732
         ],
         "yaxis": "y"
        },
        {
         "hovertemplate": "color=Brachygalba<br>PCA1=%{x}<br>PCA2=%{y}<extra></extra>",
         "legendgroup": "Brachygalba",
         "marker": {
          "color": "#FF97FF",
          "symbol": "circle"
         },
         "mode": "markers",
         "name": "Brachygalba",
         "showlegend": true,
         "type": "scattergl",
         "x": [
          0.5473920094807084,
          -0.2995834383092811
         ],
         "xaxis": "x",
         "y": [
          -0.4966284424490007,
          -0.09758515169382613
         ],
         "yaxis": "y"
        },
        {
         "hovertemplate": "color=Brotogeris<br>PCA1=%{x}<br>PCA2=%{y}<extra></extra>",
         "legendgroup": "Brotogeris",
         "marker": {
          "color": "#FECB52",
          "symbol": "circle"
         },
         "mode": "markers",
         "name": "Brotogeris",
         "showlegend": true,
         "type": "scattergl",
         "x": [
          -1.0083610813715287,
          -1.012649267045648,
          -0.0745167859162292,
          0.13688674010012417,
          0.07937140514483583,
          -0.2860324677144727
         ],
         "xaxis": "x",
         "y": [
          -0.3050578871872687,
          0.017669752892643314,
          -0.5240774080007226,
          -0.6904567273014668,
          -0.9018694100777019,
          -0.4853213014983428
         ],
         "yaxis": "y"
        },
        {
         "hovertemplate": "color=Bubo<br>PCA1=%{x}<br>PCA2=%{y}<extra></extra>",
         "legendgroup": "Bubo",
         "marker": {
          "color": "#636efa",
          "symbol": "circle"
         },
         "mode": "markers",
         "name": "Bubo",
         "showlegend": true,
         "type": "scattergl",
         "x": [
          -1.57722414078841
         ],
         "xaxis": "x",
         "y": [
          -0.10827314449297337
         ],
         "yaxis": "y"
        },
        {
         "hovertemplate": "color=Bubulcus<br>PCA1=%{x}<br>PCA2=%{y}<extra></extra>",
         "legendgroup": "Bubulcus",
         "marker": {
          "color": "#EF553B",
          "symbol": "circle"
         },
         "mode": "markers",
         "name": "Bubulcus",
         "showlegend": true,
         "type": "scattergl",
         "x": [
          -1.1599957770314249,
          -0.5850540764272961
         ],
         "xaxis": "x",
         "y": [
          -0.3445541033783937,
          -0.7063045001139822
         ],
         "yaxis": "y"
        },
        {
         "hovertemplate": "color=Bucco<br>PCA1=%{x}<br>PCA2=%{y}<extra></extra>",
         "legendgroup": "Bucco",
         "marker": {
          "color": "#00cc96",
          "symbol": "circle"
         },
         "mode": "markers",
         "name": "Bucco",
         "showlegend": true,
         "type": "scattergl",
         "x": [
          -0.3969743259522354,
          -0.34519392532348786,
          -0.4762498468859383,
          0.18938454456434253,
          0.14375501232995194,
          0.10290140989958546,
          1.42472353865844,
          0.5247025894562596
         ],
         "xaxis": "x",
         "y": [
          -0.36818334771455763,
          -0.5179116436941692,
          0.03057842274880021,
          -0.08269215525113999,
          -0.003615124929697874,
          0.3667294963579014,
          -1.4417699175433816,
          -2.412442409937247
         ],
         "yaxis": "y"
        },
        {
         "hovertemplate": "color=Busarellus<br>PCA1=%{x}<br>PCA2=%{y}<extra></extra>",
         "legendgroup": "Busarellus",
         "marker": {
          "color": "#ab63fa",
          "symbol": "circle"
         },
         "mode": "markers",
         "name": "Busarellus",
         "showlegend": true,
         "type": "scattergl",
         "x": [
          -0.973627835452584,
          -0.4637265311634151,
          -0.04855725807744532,
          -1.2810377821616175,
          -0.7484349711680688
         ],
         "xaxis": "x",
         "y": [
          0.17973673268125595,
          -0.2649693524405301,
          0.32307209031820083,
          0.16566643006551343,
          0.4735633647397271
         ],
         "yaxis": "y"
        },
        {
         "hovertemplate": "color=Buteo<br>PCA1=%{x}<br>PCA2=%{y}<extra></extra>",
         "legendgroup": "Buteo",
         "marker": {
          "color": "#FFA15A",
          "symbol": "circle"
         },
         "mode": "markers",
         "name": "Buteo",
         "showlegend": true,
         "type": "scattergl",
         "x": [
          3.1731332821338283,
          -1.0423598247058345,
          -1.4150060512354825,
          -0.8357024203057384,
          -0.8195758160695242,
          -0.0581268627204426,
          -0.28577455298027304,
          0.2622739501505928,
          -1.5662049880114084,
          -1.1138984539334067,
          -0.13808306816113983,
          -1.5756902449187502,
          0.29673445912159113,
          -0.6865851323825058,
          -0.27849797638467644,
          0.5745510393498178,
          -0.8396905569879297,
          0.6430509748808279,
          -1.1649403986694937,
          -1.3604219160896496
         ],
         "xaxis": "x",
         "y": [
          0.9845107927768642,
          0.13544135907110208,
          0.19687925726977726,
          -0.007941206706527803,
          0.16960259159786245,
          0.8921927745945574,
          0.4232682145461728,
          1.0856300082706987,
          -0.0313230518311784,
          0.04257559977703103,
          1.1540029806798722,
          -0.0716010690094856,
          0.0022230229351551034,
          1.1000958132612189,
          0.8115029324744608,
          1.2851537447672503,
          0.6443345883060462,
          -1.4683697900576917,
          -0.03505641823559736,
          -0.26346816365575243
         ],
         "yaxis": "y"
        },
        {
         "hovertemplate": "color=Buteogallus<br>PCA1=%{x}<br>PCA2=%{y}<extra></extra>",
         "legendgroup": "Buteogallus",
         "marker": {
          "color": "#19d3f3",
          "symbol": "circle"
         },
         "mode": "markers",
         "name": "Buteogallus",
         "showlegend": true,
         "type": "scattergl",
         "x": [
          -0.8324071474918806,
          -0.9278731286171649,
          -0.5539336566486757,
          0.6932009971684243,
          -0.568334460632343,
          -0.9544210450976228,
          -1.1247458274331834,
          0.2986269363698783,
          -0.21970850039264533,
          -1.2538622698446673,
          -1.0772289076326926,
          -1.144806683735311,
          0.019391813564025716,
          -1.0957328851429444
         ],
         "xaxis": "x",
         "y": [
          0.9304994108729489,
          0.6174491130720492,
          0.7532716624358694,
          0.9781008917395215,
          1.2893507510579005,
          0.02965346745665708,
          0.12800745814503953,
          1.3529854382730875,
          0.4797782935951454,
          0.1431130447339104,
          0.4715188563666129,
          -0.02233018565782725,
          2.2009096424941164,
          0.506524160526076
         ],
         "yaxis": "y"
        },
        {
         "hovertemplate": "color=Butorides<br>PCA1=%{x}<br>PCA2=%{y}<extra></extra>",
         "legendgroup": "Butorides",
         "marker": {
          "color": "#FF6692",
          "symbol": "circle"
         },
         "mode": "markers",
         "name": "Butorides",
         "showlegend": true,
         "type": "scattergl",
         "x": [
          -1.4514123179098364,
          -1.3647077006286439,
          -0.6488135662965606
         ],
         "xaxis": "x",
         "y": [
          -0.23102511825037847,
          -0.24670005469009232,
          0.513854364144239
         ],
         "yaxis": "y"
        },
        {
         "hovertemplate": "color=Cacicus<br>PCA1=%{x}<br>PCA2=%{y}<extra></extra>",
         "legendgroup": "Cacicus",
         "marker": {
          "color": "#B6E880",
          "symbol": "circle"
         },
         "mode": "markers",
         "name": "Cacicus",
         "showlegend": true,
         "type": "scattergl",
         "x": [
          -0.2791877307913983,
          0.7695568898831344,
          7.741115841877643,
          -0.7073086816394344,
          1.227801121576696,
          -1.3775725135451178,
          -0.2297525226241619,
          -0.16432278964825595,
          -0.6449846926101241,
          0.9912930116793529,
          -1.1858521381528342,
          -0.6704013419651803,
          -1.4204514177181824
         ],
         "xaxis": "x",
         "y": [
          0.1860016781490098,
          -0.5498073406873992,
          0.47672367621206624,
          -0.5230840381998318,
          -0.9798988852543615,
          -0.38237183505501304,
          0.205885464975985,
          0.1721103265817941,
          -0.5318810290501971,
          -0.026581698397835713,
          -0.24442937137846926,
          0.6481099164638386,
          -0.1355060055515313
         ],
         "yaxis": "y"
        },
        {
         "hovertemplate": "color=Calidris<br>PCA1=%{x}<br>PCA2=%{y}<extra></extra>",
         "legendgroup": "Calidris",
         "marker": {
          "color": "#FF97FF",
          "symbol": "circle"
         },
         "mode": "markers",
         "name": "Calidris",
         "showlegend": true,
         "type": "scattergl",
         "x": [
          -1.0864545013900695,
          -1.2651213669734562,
          -1.4196508432894235,
          -1.2082456243483004,
          -0.6694706339654535,
          0.4782658795273865,
          0.7364838085503828,
          0.6381027078611317,
          1.9300449794497039,
          -0.8079084358961566,
          -1.0736774662943527,
          0.6535405795819794,
          2.3441508287804336,
          -1.5427954425663317,
          -0.058801617649049245,
          -1.1549021085068887,
          -0.49264880125146393,
          -1.4145787924286086,
          -0.9885786153302796,
          -1.1458996403718475,
          0.1750233414687593,
          0.03810907682521791,
          -1.3925123323380437,
          -1.2714839137438156,
          -1.434348761158362
         ],
         "xaxis": "x",
         "y": [
          -0.03211323655065253,
          0.032224375307164925,
          -0.33650843655430784,
          -0.45814741493473776,
          -0.7024293171543645,
          -0.9904544533392665,
          -0.7180613541181929,
          0.657990326136006,
          -0.8843045298035856,
          0.39151349560183973,
          -0.15557468163102214,
          -0.023855327616251955,
          -1.3539950414324937,
          -0.2861405382082148,
          -0.44544409471786567,
          -0.37695882710235973,
          -0.13222309419308526,
          -0.20150244177414905,
          -0.642460692447363,
          -0.16967323856948763,
          1.8178598608816847,
          1.1016546158885365,
          -0.21667343801389177,
          -0.1623099592689125,
          0.031820871208239725
         ],
         "yaxis": "y"
        },
        {
         "hovertemplate": "color=Calliphlox<br>PCA1=%{x}<br>PCA2=%{y}<extra></extra>",
         "legendgroup": "Calliphlox",
         "marker": {
          "color": "#FECB52",
          "symbol": "circle"
         },
         "mode": "markers",
         "name": "Calliphlox",
         "showlegend": true,
         "type": "scattergl",
         "x": [
          -0.8083808875480784
         ],
         "xaxis": "x",
         "y": [
          -0.3948072587827493
         ],
         "yaxis": "y"
        },
        {
         "hovertemplate": "color=Campephilus<br>PCA1=%{x}<br>PCA2=%{y}<extra></extra>",
         "legendgroup": "Campephilus",
         "marker": {
          "color": "#636efa",
          "symbol": "circle"
         },
         "mode": "markers",
         "name": "Campephilus",
         "showlegend": true,
         "type": "scattergl",
         "x": [
          -1.248189987343502,
          -1.035516383181554,
          -0.5543165458699969,
          -1.4448601829193586,
          -0.5194410999725202,
          1.8559612014494216,
          -0.5189759551701495,
          -0.03695414899169032,
          -0.8452175787829509,
          -1.4819707833551945,
          -0.25621191751926686
         ],
         "xaxis": "x",
         "y": [
          0.3624383627086656,
          0.6296067645228584,
          1.354777039740923,
          0.026157325436348793,
          -0.2144654672441591,
          -1.5678537600844569,
          0.0015768617548149856,
          1.8941821473573308,
          -0.09255199915046042,
          0.09922115582641824,
          -0.31836165375226205
         ],
         "yaxis": "y"
        },
        {
         "hovertemplate": "color=Camptostoma<br>PCA1=%{x}<br>PCA2=%{y}<extra></extra>",
         "legendgroup": "Camptostoma",
         "marker": {
          "color": "#EF553B",
          "symbol": "circle"
         },
         "mode": "markers",
         "name": "Camptostoma",
         "showlegend": true,
         "type": "scattergl",
         "x": [
          -1.1515209588444701,
          -0.4325086778762848
         ],
         "xaxis": "x",
         "y": [
          0.2657244017968931,
          -0.3849167351981138
         ],
         "yaxis": "y"
        },
        {
         "hovertemplate": "color=Campylopterus<br>PCA1=%{x}<br>PCA2=%{y}<extra></extra>",
         "legendgroup": "Campylopterus",
         "marker": {
          "color": "#00cc96",
          "symbol": "circle"
         },
         "mode": "markers",
         "name": "Campylopterus",
         "showlegend": true,
         "type": "scattergl",
         "x": [
          -1.0335489250349144,
          -0.9483577364690481,
          -0.9342144630581383
         ],
         "xaxis": "x",
         "y": [
          -0.33118174293901464,
          -0.6086885493188106,
          -0.46953527727125943
         ],
         "yaxis": "y"
        },
        {
         "hovertemplate": "color=Campylorhamphus<br>PCA1=%{x}<br>PCA2=%{y}<extra></extra>",
         "legendgroup": "Campylorhamphus",
         "marker": {
          "color": "#ab63fa",
          "symbol": "circle"
         },
         "mode": "markers",
         "name": "Campylorhamphus",
         "showlegend": true,
         "type": "scattergl",
         "x": [
          0.535490763862941,
          -1.1668442700350004,
          -1.2574446177916327,
          -1.283052144885172
         ],
         "xaxis": "x",
         "y": [
          0.6059294702206635,
          0.24231268063796632,
          -0.00509479947112391,
          0.15720627578780763
         ],
         "yaxis": "y"
        },
        {
         "hovertemplate": "color=Campylorhynchus<br>PCA1=%{x}<br>PCA2=%{y}<extra></extra>",
         "legendgroup": "Campylorhynchus",
         "marker": {
          "color": "#FFA15A",
          "symbol": "circle"
         },
         "mode": "markers",
         "name": "Campylorhynchus",
         "showlegend": true,
         "type": "scattergl",
         "x": [
          -1.3157348601921892,
          -0.6848078408815573,
          -1.3049487851642694
         ],
         "xaxis": "x",
         "y": [
          -0.3944078798264296,
          -0.4298785193882798,
          -0.2625501795649694
         ],
         "yaxis": "y"
        },
        {
         "hovertemplate": "color=Cantorchilus<br>PCA1=%{x}<br>PCA2=%{y}<extra></extra>",
         "legendgroup": "Cantorchilus",
         "marker": {
          "color": "#19d3f3",
          "symbol": "circle"
         },
         "mode": "markers",
         "name": "Cantorchilus",
         "showlegend": true,
         "type": "scattergl",
         "x": [
          -0.5833956199638525,
          -0.49839569304178793,
          0.4901722893970043
         ],
         "xaxis": "x",
         "y": [
          0.20094698074738837,
          0.21879035530539742,
          1.0681731248517636
         ],
         "yaxis": "y"
        },
        {
         "hovertemplate": "color=Capito<br>PCA1=%{x}<br>PCA2=%{y}<extra></extra>",
         "legendgroup": "Capito",
         "marker": {
          "color": "#FF6692",
          "symbol": "circle"
         },
         "mode": "markers",
         "name": "Capito",
         "showlegend": true,
         "type": "scattergl",
         "x": [
          -0.04451638427442415,
          1.569515829112947,
          -0.7840779649555675,
          -0.7573828339053533,
          0.34431969896815234,
          0.44137200893374184
         ],
         "xaxis": "x",
         "y": [
          -0.7746416438232085,
          -2.473078163738092,
          -0.4332529105877895,
          -0.4328316578747362,
          -0.8917556880467433,
          -1.2142077656355579
         ],
         "yaxis": "y"
        },
        {
         "hovertemplate": "color=Capsiempis<br>PCA1=%{x}<br>PCA2=%{y}<extra></extra>",
         "legendgroup": "Capsiempis",
         "marker": {
          "color": "#B6E880",
          "symbol": "circle"
         },
         "mode": "markers",
         "name": "Capsiempis",
         "showlegend": true,
         "type": "scattergl",
         "x": [
          -0.8405697081614418,
          -0.3487218581429803
         ],
         "xaxis": "x",
         "y": [
          0.11807548945373435,
          0.37876185561743503
         ],
         "yaxis": "y"
        },
        {
         "hovertemplate": "color=Caracara<br>PCA1=%{x}<br>PCA2=%{y}<extra></extra>",
         "legendgroup": "Caracara",
         "marker": {
          "color": "#FF97FF",
          "symbol": "circle"
         },
         "mode": "markers",
         "name": "Caracara",
         "showlegend": true,
         "type": "scattergl",
         "x": [
          0.13926361636462783,
          -0.7910679013894266,
          2.2730959591417177
         ],
         "xaxis": "x",
         "y": [
          -0.5803049218525207,
          -0.06794536046465449,
          -6.137202418124015
         ],
         "yaxis": "y"
        },
        {
         "hovertemplate": "color=Cardellina<br>PCA1=%{x}<br>PCA2=%{y}<extra></extra>",
         "legendgroup": "Cardellina",
         "marker": {
          "color": "#FECB52",
          "symbol": "circle"
         },
         "mode": "markers",
         "name": "Cardellina",
         "showlegend": true,
         "type": "scattergl",
         "x": [
          -0.09758633639122397,
          -0.41484169917087066,
          -0.49108425101228026
         ],
         "xaxis": "x",
         "y": [
          -0.6907253657757421,
          0.18260805632309063,
          -0.30279991411379326
         ],
         "yaxis": "y"
        },
        {
         "hovertemplate": "color=Casiornis<br>PCA1=%{x}<br>PCA2=%{y}<extra></extra>",
         "legendgroup": "Casiornis",
         "marker": {
          "color": "#636efa",
          "symbol": "circle"
         },
         "mode": "markers",
         "name": "Casiornis",
         "showlegend": true,
         "type": "scattergl",
         "x": [
          -0.8654848872599079,
          0.23354638229612756,
          -1.2399095698291327,
          -1.4815270097316728
         ],
         "xaxis": "x",
         "y": [
          0.7010203310513387,
          2.365503554504048,
          0.1564013287587692,
          -0.06231355638960296
         ],
         "yaxis": "y"
        },
        {
         "hovertemplate": "color=Catamblyrhynchus<br>PCA1=%{x}<br>PCA2=%{y}<extra></extra>",
         "legendgroup": "Catamblyrhynchus",
         "marker": {
          "color": "#EF553B",
          "symbol": "circle"
         },
         "mode": "markers",
         "name": "Catamblyrhynchus",
         "showlegend": true,
         "type": "scattergl",
         "x": [
          -0.7113290242383736,
          -0.5546082661861219,
          4.940177189542481
         ],
         "xaxis": "x",
         "y": [
          -0.9024532285511095,
          -0.7366242709809994,
          -4.43300301298162
         ],
         "yaxis": "y"
        },
        {
         "hovertemplate": "color=Catamenia<br>PCA1=%{x}<br>PCA2=%{y}<extra></extra>",
         "legendgroup": "Catamenia",
         "marker": {
          "color": "#00cc96",
          "symbol": "circle"
         },
         "mode": "markers",
         "name": "Catamenia",
         "showlegend": true,
         "type": "scattergl",
         "x": [
          -0.5436314589867333,
          2.0933277765609746,
          0.10116044359386223,
          -0.5692498352051931,
          0.6183440404542041,
          -0.28752831603861484,
          -0.7234377172284046,
          -1.0786125346597804,
          -1.0023997939166374
         ],
         "xaxis": "x",
         "y": [
          0.8419919519583976,
          -0.12108359671026271,
          1.0986198624980057,
          0.48573847208478604,
          -0.5460932000070184,
          -0.13555003081720565,
          -0.4526037925879657,
          -0.4185101006176279,
          0.38698289204056313
         ],
         "yaxis": "y"
        },
        {
         "hovertemplate": "color=Cathartes<br>PCA1=%{x}<br>PCA2=%{y}<extra></extra>",
         "legendgroup": "Cathartes",
         "marker": {
          "color": "#ab63fa",
          "symbol": "circle"
         },
         "mode": "markers",
         "name": "Cathartes",
         "showlegend": true,
         "type": "scattergl",
         "x": [
          5.38271039431456
         ],
         "xaxis": "x",
         "y": [
          -1.5825656037018854
         ],
         "yaxis": "y"
        },
        {
         "hovertemplate": "color=Catharus<br>PCA1=%{x}<br>PCA2=%{y}<extra></extra>",
         "legendgroup": "Catharus",
         "marker": {
          "color": "#FFA15A",
          "symbol": "circle"
         },
         "mode": "markers",
         "name": "Catharus",
         "showlegend": true,
         "type": "scattergl",
         "x": [
          0.3759050580190179,
          0.03593885746141908,
          0.4674038885436774,
          0.536338606120745,
          -0.5720950436965008,
          -1.0450784481757291,
          -0.3441586241733381,
          0.5555010715323119,
          0.9954270392468046,
          -0.44758457915246175,
          1.4416788338494881,
          1.7706346615524138,
          -0.6659854867555066,
          -0.8479778276272913
         ],
         "xaxis": "x",
         "y": [
          -0.2672428412554364,
          -0.17835926833995147,
          -0.22961584140087768,
          -0.35963325503709714,
          0.049506703344636256,
          0.44067396168840833,
          0.37667244308592485,
          0.03925968613068682,
          0.03053077347429075,
          -0.25420356035461034,
          -0.2503552178995556,
          -0.29997192769845943,
          0.07873962758611384,
          0.36340942081121563
         ],
         "yaxis": "y"
        },
        {
         "hovertemplate": "color=Celeus<br>PCA1=%{x}<br>PCA2=%{y}<extra></extra>",
         "legendgroup": "Celeus",
         "marker": {
          "color": "#19d3f3",
          "symbol": "circle"
         },
         "mode": "markers",
         "name": "Celeus",
         "showlegend": true,
         "type": "scattergl",
         "x": [
          -1.6192856340121582,
          -0.5533981162551841,
          -0.7691306198760692,
          0.17550086997746037,
          -1.5239309337547082,
          -0.7303162982105638,
          2.481677705146628,
          2.681425925905352,
          0.3615353000961108,
          1.1535319886778352,
          1.2598849274722148,
          -0.5683816769501226
         ],
         "xaxis": "x",
         "y": [
          -0.14852986586892142,
          0.9398114984177354,
          0.5976050401700075,
          -0.28973272033307607,
          -0.1704768464837858,
          0.05781052328168591,
          2.574643914202968,
          0.7384786109068546,
          1.0647253018433878,
          2.471166355879169,
          0.34336931526401043,
          1.1832179972800234
         ],
         "yaxis": "y"
        },
        {
         "hovertemplate": "color=Cephalopterus<br>PCA1=%{x}<br>PCA2=%{y}<extra></extra>",
         "legendgroup": "Cephalopterus",
         "marker": {
          "color": "#FF6692",
          "symbol": "circle"
         },
         "mode": "markers",
         "name": "Cephalopterus",
         "showlegend": true,
         "type": "scattergl",
         "x": [
          -1.3064596864694966
         ],
         "xaxis": "x",
         "y": [
          0.13575963629224858
         ],
         "yaxis": "y"
        },
        {
         "hovertemplate": "color=Ceratopipra<br>PCA1=%{x}<br>PCA2=%{y}<extra></extra>",
         "legendgroup": "Ceratopipra",
         "marker": {
          "color": "#B6E880",
          "symbol": "circle"
         },
         "mode": "markers",
         "name": "Ceratopipra",
         "showlegend": true,
         "type": "scattergl",
         "x": [
          -0.4894331732695462,
          -1.3128381230209858,
          0.8272581854102521,
          0.6945367505651296,
          -0.4330224851915056,
          -1.3705192102966341
         ],
         "xaxis": "x",
         "y": [
          0.8497775152720476,
          -0.04850010808953876,
          1.9210872199978157,
          0.10747667597378811,
          0.3571953275033647,
          0.4011401885683048
         ],
         "yaxis": "y"
        },
        {
         "hovertemplate": "color=Cercomacra<br>PCA1=%{x}<br>PCA2=%{y}<extra></extra>",
         "legendgroup": "Cercomacra",
         "marker": {
          "color": "#FF97FF",
          "symbol": "circle"
         },
         "mode": "markers",
         "name": "Cercomacra",
         "showlegend": true,
         "type": "scattergl",
         "x": [
          0.8002113569812598,
          1.4733866722556674,
          0.15805706875762118,
          -0.3518604072996419,
          0.15577166884607493,
          0.16200479432407594
         ],
         "xaxis": "x",
         "y": [
          -0.49961170252666637,
          -2.9137596854591616,
          0.9020630611344878,
          0.6856220996974339,
          0.8921850895518281,
          1.8337761968621467
         ],
         "yaxis": "y"
        },
        {
         "hovertemplate": "color=Cercomacroides<br>PCA1=%{x}<br>PCA2=%{y}<extra></extra>",
         "legendgroup": "Cercomacroides",
         "marker": {
          "color": "#FECB52",
          "symbol": "circle"
         },
         "mode": "markers",
         "name": "Cercomacroides",
         "showlegend": true,
         "type": "scattergl",
         "x": [
          -0.11032864069021804,
          -1.3538353719532474,
          -1.1908800899582015,
          -1.2321407442868266,
          0.07675924275421744,
          0.0806748819249129,
          0.7045352140445332,
          -0.10064960199631362,
          1.0960729114727108
         ],
         "xaxis": "x",
         "y": [
          0.4341592234689529,
          0.1132664063659169,
          0.16145532660243506,
          0.5123849747948792,
          -1.2187652691541744,
          0.6981854409663539,
          -0.9078056483227201,
          0.4910516568254749,
          0.12066271453537691
         ],
         "yaxis": "y"
        },
        {
         "hovertemplate": "color=Certhiaxis<br>PCA1=%{x}<br>PCA2=%{y}<extra></extra>",
         "legendgroup": "Certhiaxis",
         "marker": {
          "color": "#636efa",
          "symbol": "circle"
         },
         "mode": "markers",
         "name": "Certhiaxis",
         "showlegend": true,
         "type": "scattergl",
         "x": [
          0.613313029918085,
          -0.8421486347938067,
          -0.645723454278504
         ],
         "xaxis": "x",
         "y": [
          -0.38322937127035167,
          0.6731166101426302,
          0.21240681451459487
         ],
         "yaxis": "y"
        },
        {
         "hovertemplate": "color=Chaetocercus<br>PCA1=%{x}<br>PCA2=%{y}<extra></extra>",
         "legendgroup": "Chaetocercus",
         "marker": {
          "color": "#EF553B",
          "symbol": "circle"
         },
         "mode": "markers",
         "name": "Chaetocercus",
         "showlegend": true,
         "type": "scattergl",
         "x": [
          -1.357870756221463
         ],
         "xaxis": "x",
         "y": [
          -0.19623166213225668
         ],
         "yaxis": "y"
        },
        {
         "hovertemplate": "color=Chaetura<br>PCA1=%{x}<br>PCA2=%{y}<extra></extra>",
         "legendgroup": "Chaetura",
         "marker": {
          "color": "#00cc96",
          "symbol": "circle"
         },
         "mode": "markers",
         "name": "Chaetura",
         "showlegend": true,
         "type": "scattergl",
         "x": [
          -0.5363836355713336,
          -0.6119666217904633,
          -0.3322805152317829,
          -0.7860409630543534,
          -1.0969865403019181,
          0.14608200728001577,
          -1.2676403899758928,
          -0.9894323432640562,
          -1.2098079913534456,
          6.454262610448046,
          -0.4083583854054848,
          -1.2660843435294624
         ],
         "xaxis": "x",
         "y": [
          -0.3259135396473423,
          0.36745546959152486,
          -0.07527315612765578,
          -0.04308222294233498,
          -0.277096859850869,
          -0.9308183774132548,
          0.2363842062384989,
          -0.7641680954883842,
          -0.15321569982431238,
          -0.9435279434174064,
          -0.23207486224742915,
          -0.5601269298785673
         ],
         "yaxis": "y"
        },
        {
         "hovertemplate": "color=Chamaepetes<br>PCA1=%{x}<br>PCA2=%{y}<extra></extra>",
         "legendgroup": "Chamaepetes",
         "marker": {
          "color": "#ab63fa",
          "symbol": "circle"
         },
         "mode": "markers",
         "name": "Chamaepetes",
         "showlegend": true,
         "type": "scattergl",
         "x": [
          4.861855970418888,
          -1.3467606804433054
         ],
         "xaxis": "x",
         "y": [
          -1.005620689929458,
          -0.16306082815810213
         ],
         "yaxis": "y"
        },
        {
         "hovertemplate": "color=Chamaeza<br>PCA1=%{x}<br>PCA2=%{y}<extra></extra>",
         "legendgroup": "Chamaeza",
         "marker": {
          "color": "#FFA15A",
          "symbol": "circle"
         },
         "mode": "markers",
         "name": "Chamaeza",
         "showlegend": true,
         "type": "scattergl",
         "x": [
          0.7531375816541314,
          0.4916542002561763,
          -0.590594478319887,
          -0.4210399503502596
         ],
         "xaxis": "x",
         "y": [
          1.5339596412013623,
          1.375312525274072,
          0.32881952859323,
          0.4351395092419816
         ],
         "yaxis": "y"
        },
        {
         "hovertemplate": "color=Charadrius<br>PCA1=%{x}<br>PCA2=%{y}<extra></extra>",
         "legendgroup": "Charadrius",
         "marker": {
          "color": "#19d3f3",
          "symbol": "circle"
         },
         "mode": "markers",
         "name": "Charadrius",
         "showlegend": true,
         "type": "scattergl",
         "x": [
          -1.226219594175408,
          -0.7937520484426518,
          -1.1916223866524314,
          -1.341186395093716,
          -1.3560315637648759
         ],
         "xaxis": "x",
         "y": [
          -0.062462795186882455,
          -0.3342009201098076,
          -0.004736462683412337,
          -0.32151226937703803,
          -0.14308476664254682
         ],
         "yaxis": "y"
        },
        {
         "hovertemplate": "color=Chauna<br>PCA1=%{x}<br>PCA2=%{y}<extra></extra>",
         "legendgroup": "Chauna",
         "marker": {
          "color": "#FF6692",
          "symbol": "circle"
         },
         "mode": "markers",
         "name": "Chauna",
         "showlegend": true,
         "type": "scattergl",
         "x": [
          -1.023525983663412,
          -0.5558352021125667
         ],
         "xaxis": "x",
         "y": [
          0.27582049581614365,
          0.4175821862398734
         ],
         "yaxis": "y"
        },
        {
         "hovertemplate": "color=Chelidoptera<br>PCA1=%{x}<br>PCA2=%{y}<extra></extra>",
         "legendgroup": "Chelidoptera",
         "marker": {
          "color": "#B6E880",
          "symbol": "circle"
         },
         "mode": "markers",
         "name": "Chelidoptera",
         "showlegend": true,
         "type": "scattergl",
         "x": [
          -0.18213644159174672,
          -1.5125187126192026,
          -1.1346316836571115
         ],
         "xaxis": "x",
         "y": [
          -0.19697765660559838,
          -0.20628959586859075,
          0.09656962603884271
         ],
         "yaxis": "y"
        },
        {
         "hovertemplate": "color=Chiroxiphia<br>PCA1=%{x}<br>PCA2=%{y}<extra></extra>",
         "legendgroup": "Chiroxiphia",
         "marker": {
          "color": "#FF97FF",
          "symbol": "circle"
         },
         "mode": "markers",
         "name": "Chiroxiphia",
         "showlegend": true,
         "type": "scattergl",
         "x": [
          -0.8505191224164022,
          1.8360678002126294,
          -0.8067303900520758,
          4.701358449760554,
          -1.332005569499462
         ],
         "xaxis": "x",
         "y": [
          0.19970804076446216,
          -0.05150672296182193,
          0.5289491659410032,
          3.2642649278454443,
          -0.12573225264523696
         ],
         "yaxis": "y"
        },
        {
         "hovertemplate": "color=Chlorestes<br>PCA1=%{x}<br>PCA2=%{y}<extra></extra>",
         "legendgroup": "Chlorestes",
         "marker": {
          "color": "#FECB52",
          "symbol": "circle"
         },
         "mode": "markers",
         "name": "Chlorestes",
         "showlegend": true,
         "type": "scattergl",
         "x": [
          7.526575640027227
         ],
         "xaxis": "x",
         "y": [
          -3.935194706378305
         ],
         "yaxis": "y"
        },
        {
         "hovertemplate": "color=Chloroceryle<br>PCA1=%{x}<br>PCA2=%{y}<extra></extra>",
         "legendgroup": "Chloroceryle",
         "marker": {
          "color": "#636efa",
          "symbol": "circle"
         },
         "mode": "markers",
         "name": "Chloroceryle",
         "showlegend": true,
         "type": "scattergl",
         "x": [
          -0.015296607615415611,
          -1.1289649289801207,
          -0.8371546858460126,
          -1.2429834029461844,
          -1.2644107998524317,
          -1.2123273840955167,
          -1.0775605558230732,
          -1.1943433496305653,
          -1.2537299508103616,
          0.8931955240437414,
          -0.8901899626828029,
          -0.45576389348280183,
          -0.8585629250149529,
          -1.4742447905111276,
          -1.054771989984336
         ],
         "xaxis": "x",
         "y": [
          0.436100572300717,
          0.0886603138543937,
          -0.6099521590334231,
          0.3125340241416335,
          -0.4611913998852115,
          -0.10977390789942205,
          -0.29914941909815884,
          0.3265563556184528,
          0.2509932742152379,
          -1.0670964456011913,
          -0.2275967727148366,
          -0.20063210155046032,
          -0.4045061400554354,
          -0.23488173550351787,
          0.02841868366858642
         ],
         "yaxis": "y"
        },
        {
         "hovertemplate": "color=Chlorochrysa<br>PCA1=%{x}<br>PCA2=%{y}<extra></extra>",
         "legendgroup": "Chlorochrysa",
         "marker": {
          "color": "#EF553B",
          "symbol": "circle"
         },
         "mode": "markers",
         "name": "Chlorochrysa",
         "showlegend": true,
         "type": "scattergl",
         "x": [
          -0.9178777998391229,
          -1.061827739891256,
          0.3184862352141884
         ],
         "xaxis": "x",
         "y": [
          -0.06208567983715284,
          -0.06146147394017269,
          -1.369877723213951
         ],
         "yaxis": "y"
        },
        {
         "hovertemplate": "color=Chlorophanes<br>PCA1=%{x}<br>PCA2=%{y}<extra></extra>",
         "legendgroup": "Chlorophanes",
         "marker": {
          "color": "#00cc96",
          "symbol": "circle"
         },
         "mode": "markers",
         "name": "Chlorophanes",
         "showlegend": true,
         "type": "scattergl",
         "x": [
          -0.7582391864107292,
          0.1882896560561256,
          -1.6092010532913874,
          -0.6133261093424567
         ],
         "xaxis": "x",
         "y": [
          -0.1933259631475192,
          -1.1019058194809426,
          -0.14249712773459883,
          -0.629373285676952
         ],
         "yaxis": "y"
        },
        {
         "hovertemplate": "color=Chlorophonia<br>PCA1=%{x}<br>PCA2=%{y}<extra></extra>",
         "legendgroup": "Chlorophonia",
         "marker": {
          "color": "#ab63fa",
          "symbol": "circle"
         },
         "mode": "markers",
         "name": "Chlorophonia",
         "showlegend": true,
         "type": "scattergl",
         "x": [
          -0.3757108116732392,
          -0.8797886135492722
         ],
         "xaxis": "x",
         "y": [
          -0.02587670580153003,
          -0.017823794003939682
         ],
         "yaxis": "y"
        },
        {
         "hovertemplate": "color=Chloropipo<br>PCA1=%{x}<br>PCA2=%{y}<extra></extra>",
         "legendgroup": "Chloropipo",
         "marker": {
          "color": "#FFA15A",
          "symbol": "circle"
         },
         "mode": "markers",
         "name": "Chloropipo",
         "showlegend": true,
         "type": "scattergl",
         "x": [
          -1.3766563202190827,
          -1.3824816435669596,
          0.5676566254099363
         ],
         "xaxis": "x",
         "y": [
          0.08792761310238117,
          0.23438877532362726,
          0.5816373820480699
         ],
         "yaxis": "y"
        },
        {
         "hovertemplate": "color=Chlorospingus<br>PCA1=%{x}<br>PCA2=%{y}<extra></extra>",
         "legendgroup": "Chlorospingus",
         "marker": {
          "color": "#19d3f3",
          "symbol": "circle"
         },
         "mode": "markers",
         "name": "Chlorospingus",
         "showlegend": true,
         "type": "scattergl",
         "x": [
          0.673734384466135,
          0.7572820463046582,
          -0.6622712676144482,
          0.7727350717412316,
          3.19695406560984,
          2.7307383273940657,
          -0.3006873054962112
         ],
         "xaxis": "x",
         "y": [
          -1.2075425815500052,
          -0.5980523316163223,
          -0.02294354807559091,
          -0.9997930211137347,
          -2.4625208273188504,
          -2.224467014526695,
          -0.6000321193593051
         ],
         "yaxis": "y"
        },
        {
         "hovertemplate": "color=Chlorostilbon<br>PCA1=%{x}<br>PCA2=%{y}<extra></extra>",
         "legendgroup": "Chlorostilbon",
         "marker": {
          "color": "#FF6692",
          "symbol": "circle"
         },
         "mode": "markers",
         "name": "Chlorostilbon",
         "showlegend": true,
         "type": "scattergl",
         "x": [
          -1.3453864362844146,
          -1.2479484099263358
         ],
         "xaxis": "x",
         "y": [
          -0.19855777470604874,
          -0.15224285169320995
         ],
         "yaxis": "y"
        },
        {
         "hovertemplate": "color=Chlorothraupis<br>PCA1=%{x}<br>PCA2=%{y}<extra></extra>",
         "legendgroup": "Chlorothraupis",
         "marker": {
          "color": "#B6E880",
          "symbol": "circle"
         },
         "mode": "markers",
         "name": "Chlorothraupis",
         "showlegend": true,
         "type": "scattergl",
         "x": [
          -0.9131659075475599,
          -1.0515102785172985,
          -1.3399813102104308
         ],
         "xaxis": "x",
         "y": [
          -0.286499377732946,
          0.07566089977829264,
          -0.39939653411234727
         ],
         "yaxis": "y"
        },
        {
         "hovertemplate": "color=Chondrohierax<br>PCA1=%{x}<br>PCA2=%{y}<extra></extra>",
         "legendgroup": "Chondrohierax",
         "marker": {
          "color": "#FF97FF",
          "symbol": "circle"
         },
         "mode": "markers",
         "name": "Chondrohierax",
         "showlegend": true,
         "type": "scattergl",
         "x": [
          1.0042684103525594,
          -1.0244653724161208,
          -1.5503828225440348
         ],
         "xaxis": "x",
         "y": [
          2.2282232101201576,
          -0.27613637159061216,
          -0.015818296659995016
         ],
         "yaxis": "y"
        },
        {
         "hovertemplate": "color=Chordeiles<br>PCA1=%{x}<br>PCA2=%{y}<extra></extra>",
         "legendgroup": "Chordeiles",
         "marker": {
          "color": "#FECB52",
          "symbol": "circle"
         },
         "mode": "markers",
         "name": "Chordeiles",
         "showlegend": true,
         "type": "scattergl",
         "x": [
          -0.7741948022384647,
          -0.8373267052192422,
          -1.5712287217743848,
          -0.33754378473967983,
          0.25206369474452994,
          -1.6159741859923165
         ],
         "xaxis": "x",
         "y": [
          -0.21530919243419458,
          0.03621018626173076,
          -0.05526002933358138,
          0.49884711310269314,
          -1.2234286117250712,
          -0.21325456815531357
         ],
         "yaxis": "y"
        },
        {
         "hovertemplate": "color=Chroicocephalus<br>PCA1=%{x}<br>PCA2=%{y}<extra></extra>",
         "legendgroup": "Chroicocephalus",
         "marker": {
          "color": "#636efa",
          "symbol": "circle"
         },
         "mode": "markers",
         "name": "Chroicocephalus",
         "showlegend": true,
         "type": "scattergl",
         "x": [
          -0.42440516257866234,
          0.10335511473066891,
          -0.34264484092816466
         ],
         "xaxis": "x",
         "y": [
          -0.2883744095947297,
          -0.24023518160515328,
          -0.6829625404865186
         ],
         "yaxis": "y"
        },
        {
         "hovertemplate": "color=Chrysuronia<br>PCA1=%{x}<br>PCA2=%{y}<extra></extra>",
         "legendgroup": "Chrysuronia",
         "marker": {
          "color": "#EF553B",
          "symbol": "circle"
         },
         "mode": "markers",
         "name": "Chrysuronia",
         "showlegend": true,
         "type": "scattergl",
         "x": [
          0.48133818318976507,
          -0.5951079105698318
         ],
         "xaxis": "x",
         "y": [
          0.326547852799666,
          0.0002059399443950246
         ],
         "yaxis": "y"
        },
        {
         "hovertemplate": "color=Ciconia<br>PCA1=%{x}<br>PCA2=%{y}<extra></extra>",
         "legendgroup": "Ciconia",
         "marker": {
          "color": "#00cc96",
          "symbol": "circle"
         },
         "mode": "markers",
         "name": "Ciconia",
         "showlegend": true,
         "type": "scattergl",
         "x": [
          -1.0590982086640717
         ],
         "xaxis": "x",
         "y": [
          -0.4877511619534919
         ],
         "yaxis": "y"
        },
        {
         "hovertemplate": "color=Cinclodes<br>PCA1=%{x}<br>PCA2=%{y}<extra></extra>",
         "legendgroup": "Cinclodes",
         "marker": {
          "color": "#ab63fa",
          "symbol": "circle"
         },
         "mode": "markers",
         "name": "Cinclodes",
         "showlegend": true,
         "type": "scattergl",
         "x": [
          -0.2920052808510554,
          -1.2379522709461759
         ],
         "xaxis": "x",
         "y": [
          -0.11640605863053483,
          -0.16817245851858204
         ],
         "yaxis": "y"
        },
        {
         "hovertemplate": "color=Cinnycerthia<br>PCA1=%{x}<br>PCA2=%{y}<extra></extra>",
         "legendgroup": "Cinnycerthia",
         "marker": {
          "color": "#FFA15A",
          "symbol": "circle"
         },
         "mode": "markers",
         "name": "Cinnycerthia",
         "showlegend": true,
         "type": "scattergl",
         "x": [
          0.13017180909211937,
          1.84371518635377,
          0.1735644157641277
         ],
         "xaxis": "x",
         "y": [
          -0.2905841584802103,
          -3.5456919460968237,
          -0.9922683139098931
         ],
         "yaxis": "y"
        },
        {
         "hovertemplate": "color=Circus<br>PCA1=%{x}<br>PCA2=%{y}<extra></extra>",
         "legendgroup": "Circus",
         "marker": {
          "color": "#19d3f3",
          "symbol": "circle"
         },
         "mode": "markers",
         "name": "Circus",
         "showlegend": true,
         "type": "scattergl",
         "x": [
          -0.5231166575342312,
          2.7217599296602306
         ],
         "xaxis": "x",
         "y": [
          -0.2035385331905465,
          1.7164925534486202
         ],
         "yaxis": "y"
        },
        {
         "hovertemplate": "color=Cissopis<br>PCA1=%{x}<br>PCA2=%{y}<extra></extra>",
         "legendgroup": "Cissopis",
         "marker": {
          "color": "#FF6692",
          "symbol": "circle"
         },
         "mode": "markers",
         "name": "Cissopis",
         "showlegend": true,
         "type": "scattergl",
         "x": [
          -1.5163117099444092,
          -0.09737104498615626,
          -0.8352040457886662
         ],
         "xaxis": "x",
         "y": [
          -0.10984650767223669,
          -0.49316363762070065,
          -0.2478308833761069
         ],
         "yaxis": "y"
        },
        {
         "hovertemplate": "color=Claravis<br>PCA1=%{x}<br>PCA2=%{y}<extra></extra>",
         "legendgroup": "Claravis",
         "marker": {
          "color": "#B6E880",
          "symbol": "circle"
         },
         "mode": "markers",
         "name": "Claravis",
         "showlegend": true,
         "type": "scattergl",
         "x": [
          -0.8645509511472527
         ],
         "xaxis": "x",
         "y": [
          -0.22907365202785537
         ],
         "yaxis": "y"
        },
        {
         "hovertemplate": "color=Clibanornis<br>PCA1=%{x}<br>PCA2=%{y}<extra></extra>",
         "legendgroup": "Clibanornis",
         "marker": {
          "color": "#FF97FF",
          "symbol": "circle"
         },
         "mode": "markers",
         "name": "Clibanornis",
         "showlegend": true,
         "type": "scattergl",
         "x": [
          4.420773913385122,
          -0.9852399203737117,
          -1.204532328604287,
          0.7779359365495827
         ],
         "xaxis": "x",
         "y": [
          -1.307647020918537,
          0.043082484672292184,
          -0.09683351146030601,
          -0.32909389842609094
         ],
         "yaxis": "y"
        },
        {
         "hovertemplate": "color=Cnemotriccus<br>PCA1=%{x}<br>PCA2=%{y}<extra></extra>",
         "legendgroup": "Cnemotriccus",
         "marker": {
          "color": "#FECB52",
          "symbol": "circle"
         },
         "mode": "markers",
         "name": "Cnemotriccus",
         "showlegend": true,
         "type": "scattergl",
         "x": [
          -0.43007757259732443,
          0.12566110570186845
         ],
         "xaxis": "x",
         "y": [
          0.6844098872872073,
          1.6566813861010814
         ],
         "yaxis": "y"
        },
        {
         "hovertemplate": "color=Cnipodectes<br>PCA1=%{x}<br>PCA2=%{y}<extra></extra>",
         "legendgroup": "Cnipodectes",
         "marker": {
          "color": "#636efa",
          "symbol": "circle"
         },
         "mode": "markers",
         "name": "Cnipodectes",
         "showlegend": true,
         "type": "scattergl",
         "x": [
          0.28394215763294656,
          3.334253761023755,
          1.3812980420070975,
          1.4101085506850635
         ],
         "xaxis": "x",
         "y": [
          1.674556464191776,
          1.9701443010757567,
          -2.347249000364714,
          1.2040818614706161
         ],
         "yaxis": "y"
        },
        {
         "hovertemplate": "color=Coccycua<br>PCA1=%{x}<br>PCA2=%{y}<extra></extra>",
         "legendgroup": "Coccycua",
         "marker": {
          "color": "#EF553B",
          "symbol": "circle"
         },
         "mode": "markers",
         "name": "Coccycua",
         "showlegend": true,
         "type": "scattergl",
         "x": [
          -1.2927828487468314,
          0.6338165230652927,
          -1.3787171555922646,
          0.6448528136245663
         ],
         "xaxis": "x",
         "y": [
          0.00601649823781491,
          -0.6789527730848399,
          -0.19442789846080527,
          1.4626539910461174
         ],
         "yaxis": "y"
        },
        {
         "hovertemplate": "color=Coccyzus<br>PCA1=%{x}<br>PCA2=%{y}<extra></extra>",
         "legendgroup": "Coccyzus",
         "marker": {
          "color": "#00cc96",
          "symbol": "circle"
         },
         "mode": "markers",
         "name": "Coccyzus",
         "showlegend": true,
         "type": "scattergl",
         "x": [
          -1.3079817882406264,
          -1.324401757593361,
          -1.2551371227906267,
          2.8815913654652063,
          0.9174390335728384,
          -0.6727937700800843,
          -0.6130854676498076
         ],
         "xaxis": "x",
         "y": [
          0.18451270395750805,
          -0.23079225428495637,
          -0.11691313490611961,
          -1.1310408330295314,
          -1.3372697979482098,
          -0.32247312945823453,
          1.061304487891392
         ],
         "yaxis": "y"
        },
        {
         "hovertemplate": "color=Cochlearius<br>PCA1=%{x}<br>PCA2=%{y}<extra></extra>",
         "legendgroup": "Cochlearius",
         "marker": {
          "color": "#ab63fa",
          "symbol": "circle"
         },
         "mode": "markers",
         "name": "Cochlearius",
         "showlegend": true,
         "type": "scattergl",
         "x": [
          -1.1544842525020984,
          -1.1478116502811304,
          -0.17585140198062024
         ],
         "xaxis": "x",
         "y": [
          -0.3011019896062565,
          -0.03939440877439638,
          -0.2479013171388499
         ],
         "yaxis": "y"
        },
        {
         "hovertemplate": "color=Coeligena<br>PCA1=%{x}<br>PCA2=%{y}<extra></extra>",
         "legendgroup": "Coeligena",
         "marker": {
          "color": "#FFA15A",
          "symbol": "circle"
         },
         "mode": "markers",
         "name": "Coeligena",
         "showlegend": true,
         "type": "scattergl",
         "x": [
          1.8037011691677995,
          0.30313749005047264,
          -1.2278772933400266,
          0.03831611418341513,
          -1.5861566729009795
         ],
         "xaxis": "x",
         "y": [
          -2.213742049675214,
          -1.2712970505759482,
          -0.49291474687353243,
          -0.9448489524025506,
          -0.3484204534142991
         ],
         "yaxis": "y"
        },
        {
         "hovertemplate": "color=Coereba<br>PCA1=%{x}<br>PCA2=%{y}<extra></extra>",
         "legendgroup": "Coereba",
         "marker": {
          "color": "#19d3f3",
          "symbol": "circle"
         },
         "mode": "markers",
         "name": "Coereba",
         "showlegend": true,
         "type": "scattergl",
         "x": [
          -0.07301249092561551,
          -0.7489224094823116,
          -0.6760516091712865
         ],
         "xaxis": "x",
         "y": [
          0.1339142348827635,
          0.1765297779204148,
          -0.5761257743256996
         ],
         "yaxis": "y"
        },
        {
         "hovertemplate": "color=Colaptes<br>PCA1=%{x}<br>PCA2=%{y}<extra></extra>",
         "legendgroup": "Colaptes",
         "marker": {
          "color": "#FF6692",
          "symbol": "circle"
         },
         "mode": "markers",
         "name": "Colaptes",
         "showlegend": true,
         "type": "scattergl",
         "x": [
          -1.395996261285377,
          -1.4295625801187364,
          -1.4359487020804584,
          -1.1921728972899028,
          -1.4504953422473656,
          -1.1056714956357299,
          -0.18580726909610723,
          -1.1475140158345583,
          -1.0783337560465762,
          -1.2440687962186565,
          -1.5616010718135098,
          2.106229126039744,
          -1.465136049121118,
          -1.2593808272707443,
          -1.164028416127983,
          -1.284901040267331
         ],
         "xaxis": "x",
         "y": [
          0.18105242439504293,
          -0.3003796271937948,
          0.06485299932482003,
          -0.04314236995146935,
          0.13116013647029656,
          -0.20106465319772598,
          -0.16766309543360194,
          -0.15116615889792134,
          -1.2209053180386293,
          -0.605168665276304,
          -0.014840746632442895,
          0.6070662446154087,
          0.13391367502232113,
          -0.10513338506658802,
          -0.3100761982753797,
          -0.26400964924657516
         ],
         "yaxis": "y"
        },
        {
         "hovertemplate": "color=Colibri<br>PCA1=%{x}<br>PCA2=%{y}<extra></extra>",
         "legendgroup": "Colibri",
         "marker": {
          "color": "#B6E880",
          "symbol": "circle"
         },
         "mode": "markers",
         "name": "Colibri",
         "showlegend": true,
         "type": "scattergl",
         "x": [
          -0.9363095254044425,
          1.915744504526933,
          -0.6905515063765009,
          -1.235176083968844,
          0.18614779947753354,
          5.201659562435396
         ],
         "xaxis": "x",
         "y": [
          -0.3905682482755562,
          -1.5852699499229892,
          -0.8063615548410238,
          0.12040445367337568,
          0.16354760958835993,
          -0.28331049826503063
         ],
         "yaxis": "y"
        },
        {
         "hovertemplate": "color=Colonia<br>PCA1=%{x}<br>PCA2=%{y}<extra></extra>",
         "legendgroup": "Colonia",
         "marker": {
          "color": "#FF97FF",
          "symbol": "circle"
         },
         "mode": "markers",
         "name": "Colonia",
         "showlegend": true,
         "type": "scattergl",
         "x": [
          -1.5747176267914245,
          -0.3469269904789901
         ],
         "xaxis": "x",
         "y": [
          -0.07001315395942109,
          -0.18140508697777077
         ],
         "yaxis": "y"
        },
        {
         "hovertemplate": "color=Columba<br>PCA1=%{x}<br>PCA2=%{y}<extra></extra>",
         "legendgroup": "Columba",
         "marker": {
          "color": "#FECB52",
          "symbol": "circle"
         },
         "mode": "markers",
         "name": "Columba",
         "showlegend": true,
         "type": "scattergl",
         "x": [
          -0.8050698558350966,
          -0.6600209201213961
         ],
         "xaxis": "x",
         "y": [
          -0.3742139186050234,
          -0.557746454213353
         ],
         "yaxis": "y"
        },
        {
         "hovertemplate": "color=Columbina<br>PCA1=%{x}<br>PCA2=%{y}<extra></extra>",
         "legendgroup": "Columbina",
         "marker": {
          "color": "#636efa",
          "symbol": "circle"
         },
         "mode": "markers",
         "name": "Columbina",
         "showlegend": true,
         "type": "scattergl",
         "x": [
          1.0678749191897232,
          -1.5426609930448636,
          -1.0427774235328933
         ],
         "xaxis": "x",
         "y": [
          -0.6813202591381511,
          -0.29228362075893183,
          -0.3100726628571392
         ],
         "yaxis": "y"
        },
        {
         "hovertemplate": "color=Conioptilon<br>PCA1=%{x}<br>PCA2=%{y}<extra></extra>",
         "legendgroup": "Conioptilon",
         "marker": {
          "color": "#EF553B",
          "symbol": "circle"
         },
         "mode": "markers",
         "name": "Conioptilon",
         "showlegend": true,
         "type": "scattergl",
         "x": [
          -0.7084796626298188,
          -0.5160686715796289
         ],
         "xaxis": "x",
         "y": [
          0.0813384823775523,
          -0.3004173019834792
         ],
         "yaxis": "y"
        },
        {
         "hovertemplate": "color=Conirostrum<br>PCA1=%{x}<br>PCA2=%{y}<extra></extra>",
         "legendgroup": "Conirostrum",
         "marker": {
          "color": "#00cc96",
          "symbol": "circle"
         },
         "mode": "markers",
         "name": "Conirostrum",
         "showlegend": true,
         "type": "scattergl",
         "x": [
          -0.8820328493156997,
          -0.9531089699373381,
          -1.0907472150930897,
          -1.0932141710230134,
          -0.44329946664115566,
          -0.48287911659968885,
          0.10650322244647031
         ],
         "xaxis": "x",
         "y": [
          -0.432088302433229,
          0.008109409758372077,
          -0.19547962456223747,
          -0.11975340874678188,
          -0.1871705278624963,
          -0.5263207603644291,
          0.13060703131055712
         ],
         "yaxis": "y"
        },
        {
         "hovertemplate": "color=Conopias<br>PCA1=%{x}<br>PCA2=%{y}<extra></extra>",
         "legendgroup": "Conopias",
         "marker": {
          "color": "#ab63fa",
          "symbol": "circle"
         },
         "mode": "markers",
         "name": "Conopias",
         "showlegend": true,
         "type": "scattergl",
         "x": [
          -1.114184479627943,
          -1.1783846033303407,
          -1.009207339348646,
          -0.4875885558522666,
          -0.03125515786304683
         ],
         "xaxis": "x",
         "y": [
          -0.005414224422524548,
          0.4180701415289039,
          0.03122025958618989,
          -0.946785565821932,
          -1.6158139018734956
         ],
         "yaxis": "y"
        },
        {
         "hovertemplate": "color=Conopophaga<br>PCA1=%{x}<br>PCA2=%{y}<extra></extra>",
         "legendgroup": "Conopophaga",
         "marker": {
          "color": "#FFA15A",
          "symbol": "circle"
         },
         "mode": "markers",
         "name": "Conopophaga",
         "showlegend": true,
         "type": "scattergl",
         "x": [
          -0.4569411128699515,
          -1.0448646859203452,
          -0.6680991075816571,
          0.9035038073086848,
          -0.2376327873836908
         ],
         "xaxis": "x",
         "y": [
          -0.3306077062528033,
          0.043829486792666086,
          -0.029943399486716416,
          0.19437197640380938,
          0.6791957599519055
         ],
         "yaxis": "y"
        },
        {
         "hovertemplate": "color=Conothraupis<br>PCA1=%{x}<br>PCA2=%{y}<extra></extra>",
         "legendgroup": "Conothraupis",
         "marker": {
          "color": "#19d3f3",
          "symbol": "circle"
         },
         "mode": "markers",
         "name": "Conothraupis",
         "showlegend": true,
         "type": "scattergl",
         "x": [
          -1.0776875217347348,
          0.7160893842752826
         ],
         "xaxis": "x",
         "y": [
          -0.13966168665402767,
          1.0827449648968144
         ],
         "yaxis": "y"
        },
        {
         "hovertemplate": "color=Contopus<br>PCA1=%{x}<br>PCA2=%{y}<extra></extra>",
         "legendgroup": "Contopus",
         "marker": {
          "color": "#FF6692",
          "symbol": "circle"
         },
         "mode": "markers",
         "name": "Contopus",
         "showlegend": true,
         "type": "scattergl",
         "x": [
          -0.14000591345426425,
          -0.8488195343175704,
          0.0860096537435983,
          -0.27652636055078705,
          4.131865155119476,
          -1.275494540301686,
          -0.4794169571012005,
          -0.3459263029775995,
          -1.0269843707010369,
          -0.7298758646603255,
          2.933991710080108
         ],
         "xaxis": "x",
         "y": [
          -0.4666132038060524,
          0.22680111396143224,
          -0.2921244077096108,
          -1.1236755885167637,
          -0.9272522643054544,
          0.22609342969194837,
          0.19346971268508564,
          -0.3093101050288327,
          -0.000663631910772999,
          0.09485072730017158,
          0.8149169733605859
         ],
         "yaxis": "y"
        },
        {
         "hovertemplate": "color=Coragyps<br>PCA1=%{x}<br>PCA2=%{y}<extra></extra>",
         "legendgroup": "Coragyps",
         "marker": {
          "color": "#B6E880",
          "symbol": "circle"
         },
         "mode": "markers",
         "name": "Coragyps",
         "showlegend": true,
         "type": "scattergl",
         "x": [
          -1.1537495782077034
         ],
         "xaxis": "x",
         "y": [
          -0.04527098676390962
         ],
         "yaxis": "y"
        },
        {
         "hovertemplate": "color=Coryphaspiza<br>PCA1=%{x}<br>PCA2=%{y}<extra></extra>",
         "legendgroup": "Coryphaspiza",
         "marker": {
          "color": "#FF97FF",
          "symbol": "circle"
         },
         "mode": "markers",
         "name": "Coryphaspiza",
         "showlegend": true,
         "type": "scattergl",
         "x": [
          -0.9918647167288894
         ],
         "xaxis": "x",
         "y": [
          0.2514535889558596
         ],
         "yaxis": "y"
        },
        {
         "hovertemplate": "color=Corythopis<br>PCA1=%{x}<br>PCA2=%{y}<extra></extra>",
         "legendgroup": "Corythopis",
         "marker": {
          "color": "#FECB52",
          "symbol": "circle"
         },
         "mode": "markers",
         "name": "Corythopis",
         "showlegend": true,
         "type": "scattergl",
         "x": [
          2.6949976262051147
         ],
         "xaxis": "x",
         "y": [
          1.7425373314588761
         ],
         "yaxis": "y"
        },
        {
         "hovertemplate": "color=Cotinga<br>PCA1=%{x}<br>PCA2=%{y}<extra></extra>",
         "legendgroup": "Cotinga",
         "marker": {
          "color": "#636efa",
          "symbol": "circle"
         },
         "mode": "markers",
         "name": "Cotinga",
         "showlegend": true,
         "type": "scattergl",
         "x": [
          -1.444108504168652,
          -1.2663866200543739,
          -1.2945639310679296
         ],
         "xaxis": "x",
         "y": [
          0.10933193664600374,
          0.2913827777554976,
          0.18418136263409948
         ],
         "yaxis": "y"
        },
        {
         "hovertemplate": "color=Cranioleuca<br>PCA1=%{x}<br>PCA2=%{y}<extra></extra>",
         "legendgroup": "Cranioleuca",
         "marker": {
          "color": "#EF553B",
          "symbol": "circle"
         },
         "mode": "markers",
         "name": "Cranioleuca",
         "showlegend": true,
         "type": "scattergl",
         "x": [
          0.39867376780233815,
          -0.625965298185809,
          0.5982445978529809,
          1.5259833228910398,
          0.9270674232018954,
          -0.21003365693656584,
          -0.6856145442289626,
          2.074619099545746,
          1.7121059280474553,
          -1.0345766398728695
         ],
         "xaxis": "x",
         "y": [
          0.14851215912048094,
          -0.12417307650364244,
          1.0459298099895025,
          -4.887262231341473,
          -0.051492465572767356,
          -0.07935576053827316,
          0.2331862871328615,
          -1.1115537208208088,
          -0.7023437785610096,
          -0.11170385531255443
         ],
         "yaxis": "y"
        },
        {
         "hovertemplate": "color=Crax<br>PCA1=%{x}<br>PCA2=%{y}<extra></extra>",
         "legendgroup": "Crax",
         "marker": {
          "color": "#00cc96",
          "symbol": "circle"
         },
         "mode": "markers",
         "name": "Crax",
         "showlegend": true,
         "type": "scattergl",
         "x": [
          -0.46694648673079964
         ],
         "xaxis": "x",
         "y": [
          -0.32533397046216733
         ],
         "yaxis": "y"
        },
        {
         "hovertemplate": "color=Creurgops<br>PCA1=%{x}<br>PCA2=%{y}<extra></extra>",
         "legendgroup": "Creurgops",
         "marker": {
          "color": "#ab63fa",
          "symbol": "circle"
         },
         "mode": "markers",
         "name": "Creurgops",
         "showlegend": true,
         "type": "scattergl",
         "x": [
          0.599491538135392
         ],
         "xaxis": "x",
         "y": [
          0.023781876795854355
         ],
         "yaxis": "y"
        },
        {
         "hovertemplate": "color=Crotophaga<br>PCA1=%{x}<br>PCA2=%{y}<extra></extra>",
         "legendgroup": "Crotophaga",
         "marker": {
          "color": "#FFA15A",
          "symbol": "circle"
         },
         "mode": "markers",
         "name": "Crotophaga",
         "showlegend": true,
         "type": "scattergl",
         "x": [
          1.0766628756099845,
          -0.13399574761472546,
          1.4636279157216805
         ],
         "xaxis": "x",
         "y": [
          0.34469701186301926,
          -0.2516510127460122,
          1.5079282649641843
         ],
         "yaxis": "y"
        },
        {
         "hovertemplate": "color=Cryptopipo<br>PCA1=%{x}<br>PCA2=%{y}<extra></extra>",
         "legendgroup": "Cryptopipo",
         "marker": {
          "color": "#19d3f3",
          "symbol": "circle"
         },
         "mode": "markers",
         "name": "Cryptopipo",
         "showlegend": true,
         "type": "scattergl",
         "x": [
          0.496377197213653
         ],
         "xaxis": "x",
         "y": [
          -0.10441642446924553
         ],
         "yaxis": "y"
        },
        {
         "hovertemplate": "color=Crypturellus<br>PCA1=%{x}<br>PCA2=%{y}<extra></extra>",
         "legendgroup": "Crypturellus",
         "marker": {
          "color": "#FF6692",
          "symbol": "circle"
         },
         "mode": "markers",
         "name": "Crypturellus",
         "showlegend": true,
         "type": "scattergl",
         "x": [
          2.5661743936236747,
          -0.22719572117881937,
          5.11900797623973,
          -1.1121058529299204,
          -0.49680394420660245,
          0.5834195039193631,
          1.7919709311987837,
          -0.795164348132322,
          0.21520540859624498,
          -0.6373540808702163,
          -0.13330838732421524,
          0.07199975812892702,
          1.8885683679510177,
          1.600883557684719,
          1.6637189578538119,
          -1.3161460516102996,
          0.7248450222204904,
          -1.0867822492286006
         ],
         "xaxis": "x",
         "y": [
          6.348536472202791,
          -0.768813387068949,
          -0.351576959863018,
          -0.508812013409965,
          0.03092967773870692,
          1.9975992882868285,
          1.34418150957438,
          -0.5080896635310443,
          -0.7057646686467024,
          -0.4436160358514143,
          0.8349829697692831,
          1.0089885175308493,
          -0.5903863902565765,
          1.4037341942119623,
          3.7572790801096887,
          0.2461801153731065,
          0.8541450977804355,
          0.574207595145693
         ],
         "yaxis": "y"
        },
        {
         "hovertemplate": "color=Cyanerpes<br>PCA1=%{x}<br>PCA2=%{y}<extra></extra>",
         "legendgroup": "Cyanerpes",
         "marker": {
          "color": "#B6E880",
          "symbol": "circle"
         },
         "mode": "markers",
         "name": "Cyanerpes",
         "showlegend": true,
         "type": "scattergl",
         "x": [
          1.002551127108261,
          -0.5108179378874714,
          -0.26316628716246465,
          -0.5543940315851957
         ],
         "xaxis": "x",
         "y": [
          -1.024580522613231,
          -0.45033573968546103,
          -0.24230422227968632,
          -0.2564825325317291
         ],
         "yaxis": "y"
        },
        {
         "hovertemplate": "color=Cyanocorax<br>PCA1=%{x}<br>PCA2=%{y}<extra></extra>",
         "legendgroup": "Cyanocorax",
         "marker": {
          "color": "#FF97FF",
          "symbol": "circle"
         },
         "mode": "markers",
         "name": "Cyanocorax",
         "showlegend": true,
         "type": "scattergl",
         "x": [
          0.7880109475664838,
          -0.6966679738585021,
          -0.393527055836072,
          -0.5126991003100282,
          3.560469609070934,
          -0.8954103468793977,
          0.04607612594760028,
          -0.31876311503999005
         ],
         "xaxis": "x",
         "y": [
          -0.23517685005794176,
          -0.09172791778561072,
          -0.6011496129130959,
          0.18161225455904959,
          -2.586487596424529,
          -0.13525616894596945,
          -0.29955786153050656,
          0.5159466621377761
         ],
         "yaxis": "y"
        },
        {
         "hovertemplate": "color=Cyanolyca<br>PCA1=%{x}<br>PCA2=%{y}<extra></extra>",
         "legendgroup": "Cyanolyca",
         "marker": {
          "color": "#FECB52",
          "symbol": "circle"
         },
         "mode": "markers",
         "name": "Cyanolyca",
         "showlegend": true,
         "type": "scattergl",
         "x": [
          -1.0554369450202215
         ],
         "xaxis": "x",
         "y": [
          -0.4012783983470299
         ],
         "yaxis": "y"
        },
        {
         "hovertemplate": "color=Cyclarhis<br>PCA1=%{x}<br>PCA2=%{y}<extra></extra>",
         "legendgroup": "Cyclarhis",
         "marker": {
          "color": "#636efa",
          "symbol": "circle"
         },
         "mode": "markers",
         "name": "Cyclarhis",
         "showlegend": true,
         "type": "scattergl",
         "x": [
          -0.6163834389055921,
          0.4962747771014099,
          0.6017165307757584
         ],
         "xaxis": "x",
         "y": [
          0.5199768123816672,
          0.6122163315335265,
          -0.3515379585070974
         ],
         "yaxis": "y"
        },
        {
         "hovertemplate": "color=Cymbilaimus<br>PCA1=%{x}<br>PCA2=%{y}<extra></extra>",
         "legendgroup": "Cymbilaimus",
         "marker": {
          "color": "#EF553B",
          "symbol": "circle"
         },
         "mode": "markers",
         "name": "Cymbilaimus",
         "showlegend": true,
         "type": "scattergl",
         "x": [
          -1.1118274212871837,
          0.35153998953381393,
          0.1702410525482615,
          1.6851356276061042,
          0.5732529776932167,
          2.2454299092317673,
          0.5527477067099988,
          0.0906954185443924
         ],
         "xaxis": "x",
         "y": [
          -0.0830441092429429,
          0.36919568585445384,
          0.9181432569832436,
          1.3791500672501178,
          1.5871635150072323,
          2.254962164357251,
          0.9259243160476464,
          1.283609061613546
         ],
         "yaxis": "y"
        },
        {
         "hovertemplate": "color=Cyphorhinus<br>PCA1=%{x}<br>PCA2=%{y}<extra></extra>",
         "legendgroup": "Cyphorhinus",
         "marker": {
          "color": "#00cc96",
          "symbol": "circle"
         },
         "mode": "markers",
         "name": "Cyphorhinus",
         "showlegend": true,
         "type": "scattergl",
         "x": [
          0.19826755141960986
         ],
         "xaxis": "x",
         "y": [
          0.4472469375311069
         ],
         "yaxis": "y"
        },
        {
         "hovertemplate": "color=Cypseloides<br>PCA1=%{x}<br>PCA2=%{y}<extra></extra>",
         "legendgroup": "Cypseloides",
         "marker": {
          "color": "#ab63fa",
          "symbol": "circle"
         },
         "mode": "markers",
         "name": "Cypseloides",
         "showlegend": true,
         "type": "scattergl",
         "x": [
          -0.7959346385610934
         ],
         "xaxis": "x",
         "y": [
          -0.692253828081581
         ],
         "yaxis": "y"
        },
        {
         "hovertemplate": "color=Dacnis<br>PCA1=%{x}<br>PCA2=%{y}<extra></extra>",
         "legendgroup": "Dacnis",
         "marker": {
          "color": "#FFA15A",
          "symbol": "circle"
         },
         "mode": "markers",
         "name": "Dacnis",
         "showlegend": true,
         "type": "scattergl",
         "x": [
          0.10461468899293602,
          0.7103487517552609,
          -0.9184605251507922,
          -0.8930862763737711,
          0.6057632225419389,
          -0.861546719877247
         ],
         "xaxis": "x",
         "y": [
          -1.2369478392363153,
          -0.21440955599960532,
          0.7816932750259085,
          0.14999796991479356,
          -1.5396380698607641,
          -0.11850721350697696
         ],
         "yaxis": "y"
        },
        {
         "hovertemplate": "color=Daptrius<br>PCA1=%{x}<br>PCA2=%{y}<extra></extra>",
         "legendgroup": "Daptrius",
         "marker": {
          "color": "#19d3f3",
          "symbol": "circle"
         },
         "mode": "markers",
         "name": "Daptrius",
         "showlegend": true,
         "type": "scattergl",
         "x": [
          0.07921604357012532,
          -0.8518106581596296,
          -0.09595473916809188,
          0.8618797481248498,
          -0.8043694190938412
         ],
         "xaxis": "x",
         "y": [
          0.09073243769673588,
          0.12461350166197695,
          0.6245943437652509,
          0.39837738841397025,
          0.4014721063935176
         ],
         "yaxis": "y"
        },
        {
         "hovertemplate": "color=Deconychura<br>PCA1=%{x}<br>PCA2=%{y}<extra></extra>",
         "legendgroup": "Deconychura",
         "marker": {
          "color": "#FF6692",
          "symbol": "circle"
         },
         "mode": "markers",
         "name": "Deconychura",
         "showlegend": true,
         "type": "scattergl",
         "x": [
          1.153663407908632,
          0.5660677216579398
         ],
         "xaxis": "x",
         "y": [
          -1.1882249871151456,
          0.8459463741202896
         ],
         "yaxis": "y"
        },
        {
         "hovertemplate": "color=Dendrexetastes<br>PCA1=%{x}<br>PCA2=%{y}<extra></extra>",
         "legendgroup": "Dendrexetastes",
         "marker": {
          "color": "#B6E880",
          "symbol": "circle"
         },
         "mode": "markers",
         "name": "Dendrexetastes",
         "showlegend": true,
         "type": "scattergl",
         "x": [
          0.5827969874453361,
          2.298353150104914
         ],
         "xaxis": "x",
         "y": [
          2.1014272683980924,
          3.7173447683884895
         ],
         "yaxis": "y"
        },
        {
         "hovertemplate": "color=Dendrocincla<br>PCA1=%{x}<br>PCA2=%{y}<extra></extra>",
         "legendgroup": "Dendrocincla",
         "marker": {
          "color": "#FF97FF",
          "symbol": "circle"
         },
         "mode": "markers",
         "name": "Dendrocincla",
         "showlegend": true,
         "type": "scattergl",
         "x": [
          -1.3070583099044573,
          -1.0660386557750334,
          -1.2857271150956777,
          -0.5180415419182929,
          -0.780952329645629,
          -1.3579991194073813
         ],
         "xaxis": "x",
         "y": [
          0.3881581442288989,
          0.32110565099760285,
          0.2664672799706313,
          -0.40757371561225236,
          -0.11354993761507541,
          -0.05868855793651396
         ],
         "yaxis": "y"
        },
        {
         "hovertemplate": "color=Dendrocolaptes<br>PCA1=%{x}<br>PCA2=%{y}<extra></extra>",
         "legendgroup": "Dendrocolaptes",
         "marker": {
          "color": "#FECB52",
          "symbol": "circle"
         },
         "mode": "markers",
         "name": "Dendrocolaptes",
         "showlegend": true,
         "type": "scattergl",
         "x": [
          0.3307388103785355,
          0.6608340475448389,
          0.5761833985802591,
          0.927139502301972,
          2.084985223642746,
          -0.427040377870179
         ],
         "xaxis": "x",
         "y": [
          -0.16109062244112723,
          2.036578033069069,
          -0.5321683982252153,
          1.0104060576710268,
          1.2944798114037892,
          0.6662525946436894
         ],
         "yaxis": "y"
        },
        {
         "hovertemplate": "color=Dendrocygna<br>PCA1=%{x}<br>PCA2=%{y}<extra></extra>",
         "legendgroup": "Dendrocygna",
         "marker": {
          "color": "#636efa",
          "symbol": "circle"
         },
         "mode": "markers",
         "name": "Dendrocygna",
         "showlegend": true,
         "type": "scattergl",
         "x": [
          -1.4716832492610163,
          -1.4065997950019806,
          -1.0407836871822702
         ],
         "xaxis": "x",
         "y": [
          0.051343064414434696,
          -0.3282081066074296,
          -0.030787317323227502
         ],
         "yaxis": "y"
        },
        {
         "hovertemplate": "color=Dendroplex<br>PCA1=%{x}<br>PCA2=%{y}<extra></extra>",
         "legendgroup": "Dendroplex",
         "marker": {
          "color": "#EF553B",
          "symbol": "circle"
         },
         "mode": "markers",
         "name": "Dendroplex",
         "showlegend": true,
         "type": "scattergl",
         "x": [
          -0.5097125641376336,
          -1.3961485413023496
         ],
         "xaxis": "x",
         "y": [
          -0.02965265201910102,
          0.1402112940344827
         ],
         "yaxis": "y"
        },
        {
         "hovertemplate": "color=Dichrozona<br>PCA1=%{x}<br>PCA2=%{y}<extra></extra>",
         "legendgroup": "Dichrozona",
         "marker": {
          "color": "#00cc96",
          "symbol": "circle"
         },
         "mode": "markers",
         "name": "Dichrozona",
         "showlegend": true,
         "type": "scattergl",
         "x": [
          0.1967374970600622,
          -0.9044190583657219,
          0.9542250135750581
         ],
         "xaxis": "x",
         "y": [
          -0.6818061645920536,
          -0.4477379676445363,
          -0.6209208364050202
         ],
         "yaxis": "y"
        },
        {
         "hovertemplate": "color=Diglossa<br>PCA1=%{x}<br>PCA2=%{y}<extra></extra>",
         "legendgroup": "Diglossa",
         "marker": {
          "color": "#ab63fa",
          "symbol": "circle"
         },
         "mode": "markers",
         "name": "Diglossa",
         "showlegend": true,
         "type": "scattergl",
         "x": [
          -1.507228550435994,
          0.8464844559044348,
          -1.1881608725706017,
          -0.889919479331073,
          -0.5629854818356829,
          -1.1059453834010238,
          1.081283880130501
         ],
         "xaxis": "x",
         "y": [
          -0.048570034495285304,
          0.537140249766788,
          -0.033807692965401544,
          0.36976257895218223,
          -0.23434013550500146,
          0.36004619213179,
          -1.6910133476033793
         ],
         "yaxis": "y"
        },
        {
         "hovertemplate": "color=Diopsittaca<br>PCA1=%{x}<br>PCA2=%{y}<extra></extra>",
         "legendgroup": "Diopsittaca",
         "marker": {
          "color": "#FFA15A",
          "symbol": "circle"
         },
         "mode": "markers",
         "name": "Diopsittaca",
         "showlegend": true,
         "type": "scattergl",
         "x": [
          -0.32539473515996564,
          0.7161808111688721
         ],
         "xaxis": "x",
         "y": [
          -0.18700662394466092,
          -0.4346646065061996
         ],
         "yaxis": "y"
        },
        {
         "hovertemplate": "color=Discosura<br>PCA1=%{x}<br>PCA2=%{y}<extra></extra>",
         "legendgroup": "Discosura",
         "marker": {
          "color": "#19d3f3",
          "symbol": "circle"
         },
         "mode": "markers",
         "name": "Discosura",
         "showlegend": true,
         "type": "scattergl",
         "x": [
          -0.0317668267456633,
          -1.391937040832214,
          -0.6717425897704836,
          -1.1771436843320207
         ],
         "xaxis": "x",
         "y": [
          0.37380728687237363,
          -0.020140709949711736,
          0.006324505979282609,
          0.04296213266433589
         ],
         "yaxis": "y"
        },
        {
         "hovertemplate": "color=Dolichonyx<br>PCA1=%{x}<br>PCA2=%{y}<extra></extra>",
         "legendgroup": "Dolichonyx",
         "marker": {
          "color": "#FF6692",
          "symbol": "circle"
         },
         "mode": "markers",
         "name": "Dolichonyx",
         "showlegend": true,
         "type": "scattergl",
         "x": [
          -0.81987626805038
         ],
         "xaxis": "x",
         "y": [
          0.41958284136699686
         ],
         "yaxis": "y"
        },
        {
         "hovertemplate": "color=Donacobius<br>PCA1=%{x}<br>PCA2=%{y}<extra></extra>",
         "legendgroup": "Donacobius",
         "marker": {
          "color": "#B6E880",
          "symbol": "circle"
         },
         "mode": "markers",
         "name": "Donacobius",
         "showlegend": true,
         "type": "scattergl",
         "x": [
          2.099798297887324,
          -1.0010327298954682,
          2.5764138327600596
         ],
         "xaxis": "x",
         "y": [
          -0.26663158890652056,
          0.69629420959227,
          -3.0633808747392406
         ],
         "yaxis": "y"
        },
        {
         "hovertemplate": "color=Doryfera<br>PCA1=%{x}<br>PCA2=%{y}<extra></extra>",
         "legendgroup": "Doryfera",
         "marker": {
          "color": "#FF97FF",
          "symbol": "circle"
         },
         "mode": "markers",
         "name": "Doryfera",
         "showlegend": true,
         "type": "scattergl",
         "x": [
          -0.3065771074296585,
          1.4395288534143365,
          -0.8570882863706506,
          -1.3778262533769696,
          -0.4309950039729913
         ],
         "xaxis": "x",
         "y": [
          -0.451229282306036,
          -1.775950624012685,
          -0.19551762951806834,
          -0.013362594550742023,
          -0.6520934810958078
         ],
         "yaxis": "y"
        },
        {
         "hovertemplate": "color=Dromococcyx<br>PCA1=%{x}<br>PCA2=%{y}<extra></extra>",
         "legendgroup": "Dromococcyx",
         "marker": {
          "color": "#FECB52",
          "symbol": "circle"
         },
         "mode": "markers",
         "name": "Dromococcyx",
         "showlegend": true,
         "type": "scattergl",
         "x": [
          -0.8481815458503438,
          -0.7671129471186119
         ],
         "xaxis": "x",
         "y": [
          0.25374353218686846,
          0.3360201105643239
         ],
         "yaxis": "y"
        },
        {
         "hovertemplate": "color=Drymophila<br>PCA1=%{x}<br>PCA2=%{y}<extra></extra>",
         "legendgroup": "Drymophila",
         "marker": {
          "color": "#636efa",
          "symbol": "circle"
         },
         "mode": "markers",
         "name": "Drymophila",
         "showlegend": true,
         "type": "scattergl",
         "x": [
          0.47132785276600975,
          0.3192599131287933,
          0.20930034374325154,
          -0.4314058309159128,
          0.2594336256880665
         ],
         "xaxis": "x",
         "y": [
          0.7504759864792288,
          1.0216331144357957,
          0.8262343808781749,
          0.44427043564232205,
          0.5075807850082436
         ],
         "yaxis": "y"
        },
        {
         "hovertemplate": "color=Dryocopus<br>PCA1=%{x}<br>PCA2=%{y}<extra></extra>",
         "legendgroup": "Dryocopus",
         "marker": {
          "color": "#EF553B",
          "symbol": "circle"
         },
         "mode": "markers",
         "name": "Dryocopus",
         "showlegend": true,
         "type": "scattergl",
         "x": [
          -1.0488369853585173,
          -0.15021710888654785,
          1.0060790000319517,
          0.9604772664575233
         ],
         "xaxis": "x",
         "y": [
          -1.1963984539248322,
          -0.08922184631223244,
          2.8333271407285636,
          -0.1040601613695346
         ],
         "yaxis": "y"
        },
        {
         "hovertemplate": "color=Dubusia<br>PCA1=%{x}<br>PCA2=%{y}<extra></extra>",
         "legendgroup": "Dubusia",
         "marker": {
          "color": "#00cc96",
          "symbol": "circle"
         },
         "mode": "markers",
         "name": "Dubusia",
         "showlegend": true,
         "type": "scattergl",
         "x": [
          -0.026284417276113387
         ],
         "xaxis": "x",
         "y": [
          0.45956892691034423
         ],
         "yaxis": "y"
        },
        {
         "hovertemplate": "color=Dysithamnus<br>PCA1=%{x}<br>PCA2=%{y}<extra></extra>",
         "legendgroup": "Dysithamnus",
         "marker": {
          "color": "#ab63fa",
          "symbol": "circle"
         },
         "mode": "markers",
         "name": "Dysithamnus",
         "showlegend": true,
         "type": "scattergl",
         "x": [
          -1.289604075262501
         ],
         "xaxis": "x",
         "y": [
          -0.18525488070039475
         ],
         "yaxis": "y"
        },
        {
         "hovertemplate": "color=Egretta<br>PCA1=%{x}<br>PCA2=%{y}<extra></extra>",
         "legendgroup": "Egretta",
         "marker": {
          "color": "#FFA15A",
          "symbol": "circle"
         },
         "mode": "markers",
         "name": "Egretta",
         "showlegend": true,
         "type": "scattergl",
         "x": [
          -1.389694395144164,
          0.06312879445833003,
          -1.0698655141704576,
          -1.3136510395627727,
          -1.4770707179936153
         ],
         "xaxis": "x",
         "y": [
          -0.17822116667434568,
          0.6236426488703233,
          -0.5044911077770307,
          -0.12443202237483832,
          -0.16128059642428683
         ],
         "yaxis": "y"
        },
        {
         "hovertemplate": "color=Elaenia<br>PCA1=%{x}<br>PCA2=%{y}<extra></extra>",
         "legendgroup": "Elaenia",
         "marker": {
          "color": "#19d3f3",
          "symbol": "circle"
         },
         "mode": "markers",
         "name": "Elaenia",
         "showlegend": true,
         "type": "scattergl",
         "x": [
          2.7402501691959142,
          -0.28426845465614453,
          1.3150713770144542,
          -0.914933747932539,
          -1.2068409442456702,
          -0.5279302523945734,
          -1.3485417120966718,
          -0.5479651769240257,
          -0.21996665169793936,
          -0.8510314098788142,
          -0.3479761706549674
         ],
         "xaxis": "x",
         "y": [
          0.38468774316386933,
          0.30576111668406275,
          -0.4307809770288707,
          0.3552080888032959,
          -0.1324224061818774,
          1.0328408626483356,
          0.15681818448643936,
          -0.39306473862238606,
          0.4869499498784407,
          0.2501732964700951,
          0.5124519091811405
         ],
         "yaxis": "y"
        },
        {
         "hovertemplate": "color=Elanoides<br>PCA1=%{x}<br>PCA2=%{y}<extra></extra>",
         "legendgroup": "Elanoides",
         "marker": {
          "color": "#FF6692",
          "symbol": "circle"
         },
         "mode": "markers",
         "name": "Elanoides",
         "showlegend": true,
         "type": "scattergl",
         "x": [
          -1.0600592924459349,
          -1.5005849425462183
         ],
         "xaxis": "x",
         "y": [
          0.0645804152777912,
          -0.3129396835529739
         ],
         "yaxis": "y"
        },
        {
         "hovertemplate": "color=Elanus<br>PCA1=%{x}<br>PCA2=%{y}<extra></extra>",
         "legendgroup": "Elanus",
         "marker": {
          "color": "#B6E880",
          "symbol": "circle"
         },
         "mode": "markers",
         "name": "Elanus",
         "showlegend": true,
         "type": "scattergl",
         "x": [
          5.005926397657381
         ],
         "xaxis": "x",
         "y": [
          -0.8823426674549867
         ],
         "yaxis": "y"
        },
        {
         "hovertemplate": "color=Electron<br>PCA1=%{x}<br>PCA2=%{y}<extra></extra>",
         "legendgroup": "Electron",
         "marker": {
          "color": "#FF97FF",
          "symbol": "circle"
         },
         "mode": "markers",
         "name": "Electron",
         "showlegend": true,
         "type": "scattergl",
         "x": [
          -0.46160469940120025,
          -0.6590870433424383
         ],
         "xaxis": "x",
         "y": [
          0.4486437116266506,
          -0.24351938887982735
         ],
         "yaxis": "y"
        },
        {
         "hovertemplate": "color=Emberizoides<br>PCA1=%{x}<br>PCA2=%{y}<extra></extra>",
         "legendgroup": "Emberizoides",
         "marker": {
          "color": "#FECB52",
          "symbol": "circle"
         },
         "mode": "markers",
         "name": "Emberizoides",
         "showlegend": true,
         "type": "scattergl",
         "x": [
          -1.0173610590065936,
          1.5065288859025363
         ],
         "xaxis": "x",
         "y": [
          -0.14495005931230287,
          -0.3266764918932938
         ],
         "yaxis": "y"
        },
        {
         "hovertemplate": "color=Empidonax<br>PCA1=%{x}<br>PCA2=%{y}<extra></extra>",
         "legendgroup": "Empidonax",
         "marker": {
          "color": "#636efa",
          "symbol": "circle"
         },
         "mode": "markers",
         "name": "Empidonax",
         "showlegend": true,
         "type": "scattergl",
         "x": [
          -1.0760391768582964
         ],
         "xaxis": "x",
         "y": [
          0.07771966589527875
         ],
         "yaxis": "y"
        },
        {
         "hovertemplate": "color=Empidonomus<br>PCA1=%{x}<br>PCA2=%{y}<extra></extra>",
         "legendgroup": "Empidonomus",
         "marker": {
          "color": "#EF553B",
          "symbol": "circle"
         },
         "mode": "markers",
         "name": "Empidonomus",
         "showlegend": true,
         "type": "scattergl",
         "x": [
          -1.2362570449991543,
          -0.2880760309737057
         ],
         "xaxis": "x",
         "y": [
          0.04495457087148512,
          0.047628162857439905
         ],
         "yaxis": "y"
        },
        {
         "hovertemplate": "color=Entomodestes<br>PCA1=%{x}<br>PCA2=%{y}<extra></extra>",
         "legendgroup": "Entomodestes",
         "marker": {
          "color": "#00cc96",
          "symbol": "circle"
         },
         "mode": "markers",
         "name": "Entomodestes",
         "showlegend": true,
         "type": "scattergl",
         "x": [
          -1.0428278700792257,
          -0.33927524057713854
         ],
         "xaxis": "x",
         "y": [
          0.5364952624235856,
          0.674873213018372
         ],
         "yaxis": "y"
        },
        {
         "hovertemplate": "color=Epinecrophylla<br>PCA1=%{x}<br>PCA2=%{y}<extra></extra>",
         "legendgroup": "Epinecrophylla",
         "marker": {
          "color": "#ab63fa",
          "symbol": "circle"
         },
         "mode": "markers",
         "name": "Epinecrophylla",
         "showlegend": true,
         "type": "scattergl",
         "x": [
          -0.2193641105785406,
          -0.3714895874325836,
          -0.3024938483627444,
          -0.3671855687674236,
          0.004144167456332378,
          -0.07629868494817323,
          -0.36238292370521197,
          -0.29773491740741026,
          -0.7836453197431099,
          0.676650015709096
         ],
         "xaxis": "x",
         "y": [
          0.6913498240667757,
          0.17449697116025184,
          0.5684499657160064,
          -0.15369086466234244,
          0.013190492822421303,
          0.48147301475321214,
          0.1788551679263517,
          -1.3270019610127415,
          0.14678307967518958,
          0.23609047292792806
         ],
         "yaxis": "y"
        },
        {
         "hovertemplate": "color=Eubucco<br>PCA1=%{x}<br>PCA2=%{y}<extra></extra>",
         "legendgroup": "Eubucco",
         "marker": {
          "color": "#FFA15A",
          "symbol": "circle"
         },
         "mode": "markers",
         "name": "Eubucco",
         "showlegend": true,
         "type": "scattergl",
         "x": [
          -0.5820372182726747,
          0.09269426188187269
         ],
         "xaxis": "x",
         "y": [
          -0.8127778342439639,
          0.903056109639131
         ],
         "yaxis": "y"
        },
        {
         "hovertemplate": "color=Euchrepomis<br>PCA1=%{x}<br>PCA2=%{y}<extra></extra>",
         "legendgroup": "Euchrepomis",
         "marker": {
          "color": "#19d3f3",
          "symbol": "circle"
         },
         "mode": "markers",
         "name": "Euchrepomis",
         "showlegend": true,
         "type": "scattergl",
         "x": [
          -0.5014228173281756,
          -0.8939463847034067,
          -1.07548170772174,
          0.7414498820292117,
          -0.10073905806484232
         ],
         "xaxis": "x",
         "y": [
          0.6015461611674678,
          0.26475213751258475,
          0.2075600408160054,
          -0.07852304060167425,
          1.5233476069977199
         ],
         "yaxis": "y"
        },
        {
         "hovertemplate": "color=Eucometis<br>PCA1=%{x}<br>PCA2=%{y}<extra></extra>",
         "legendgroup": "Eucometis",
         "marker": {
          "color": "#FF6692",
          "symbol": "circle"
         },
         "mode": "markers",
         "name": "Eucometis",
         "showlegend": true,
         "type": "scattergl",
         "x": [
          -1.2446926185167275,
          -0.509227613908458
         ],
         "xaxis": "x",
         "y": [
          -0.2370900466620796,
          0.7424269375885676
         ],
         "yaxis": "y"
        },
        {
         "hovertemplate": "color=Eupetomena<br>PCA1=%{x}<br>PCA2=%{y}<extra></extra>",
         "legendgroup": "Eupetomena",
         "marker": {
          "color": "#B6E880",
          "symbol": "circle"
         },
         "mode": "markers",
         "name": "Eupetomena",
         "showlegend": true,
         "type": "scattergl",
         "x": [
          -0.40550500067254525,
          -1.1931969991082678,
          -0.6030560688930838
         ],
         "xaxis": "x",
         "y": [
          -1.0572732926643413,
          -0.6018190362935397,
          -0.4494842121705863
         ],
         "yaxis": "y"
        },
        {
         "hovertemplate": "color=Euphonia<br>PCA1=%{x}<br>PCA2=%{y}<extra></extra>",
         "legendgroup": "Euphonia",
         "marker": {
          "color": "#FF97FF",
          "symbol": "circle"
         },
         "mode": "markers",
         "name": "Euphonia",
         "showlegend": true,
         "type": "scattergl",
         "x": [
          -0.05886402643473091,
          1.4628845883561028,
          -1.3613550118259825,
          2.6076491653122966,
          -0.5738391129607159,
          -0.9242526114967899,
          0.11494781849097897,
          -0.8371225935866023,
          -1.1941612650628202,
          0.12216898268835259,
          3.1871531625879173,
          1.6974221576162867,
          -0.1545331872784279,
          -0.9243737470167663,
          -0.4648299801651694,
          -1.1648545914756738
         ],
         "xaxis": "x",
         "y": [
          -1.0718742902291551,
          -2.7618681222069217,
          0.06868508666543713,
          0.958840497672264,
          0.011408133020029987,
          0.1603261985475362,
          0.8973226691836387,
          0.36303830933611053,
          -0.1895885362886967,
          -0.2781799978089473,
          -8.686780735796612,
          -1.3985207058863705,
          0.19895957219653043,
          0.6618480426072791,
          1.181969638312491,
          0.261630730661264
         ],
         "yaxis": "y"
        },
        {
         "hovertemplate": "color=Eupsittula<br>PCA1=%{x}<br>PCA2=%{y}<extra></extra>",
         "legendgroup": "Eupsittula",
         "marker": {
          "color": "#FECB52",
          "symbol": "circle"
         },
         "mode": "markers",
         "name": "Eupsittula",
         "showlegend": true,
         "type": "scattergl",
         "x": [
          -0.5799309568585138,
          -0.24180253683144234
         ],
         "xaxis": "x",
         "y": [
          -0.3305388423827148,
          -0.4092662081683669
         ],
         "yaxis": "y"
        },
        {
         "hovertemplate": "color=Eurypyga<br>PCA1=%{x}<br>PCA2=%{y}<extra></extra>",
         "legendgroup": "Eurypyga",
         "marker": {
          "color": "#636efa",
          "symbol": "circle"
         },
         "mode": "markers",
         "name": "Eurypyga",
         "showlegend": true,
         "type": "scattergl",
         "x": [
          -0.7608144953628623
         ],
         "xaxis": "x",
         "y": [
          -0.3971853792750615
         ],
         "yaxis": "y"
        },
        {
         "hovertemplate": "color=Euscarthmus<br>PCA1=%{x}<br>PCA2=%{y}<extra></extra>",
         "legendgroup": "Euscarthmus",
         "marker": {
          "color": "#EF553B",
          "symbol": "circle"
         },
         "mode": "markers",
         "name": "Euscarthmus",
         "showlegend": true,
         "type": "scattergl",
         "x": [
          -0.5768724970283126,
          -0.8125241981270201
         ],
         "xaxis": "x",
         "y": [
          -0.2020336332185673,
          0.3437880777353871
         ],
         "yaxis": "y"
        },
        {
         "hovertemplate": "color=Eutoxeres<br>PCA1=%{x}<br>PCA2=%{y}<extra></extra>",
         "legendgroup": "Eutoxeres",
         "marker": {
          "color": "#00cc96",
          "symbol": "circle"
         },
         "mode": "markers",
         "name": "Eutoxeres",
         "showlegend": true,
         "type": "scattergl",
         "x": [
          1.4309899056140412
         ],
         "xaxis": "x",
         "y": [
          -0.21367164713899048
         ],
         "yaxis": "y"
        },
        {
         "hovertemplate": "color=Falco<br>PCA1=%{x}<br>PCA2=%{y}<extra></extra>",
         "legendgroup": "Falco",
         "marker": {
          "color": "#ab63fa",
          "symbol": "circle"
         },
         "mode": "markers",
         "name": "Falco",
         "showlegend": true,
         "type": "scattergl",
         "x": [
          -0.44845878782596926,
          -0.8595338988350596,
          -0.040478499675660626,
          0.8250512786527427,
          -0.800363637167263,
          -1.1742968331070125,
          -0.8285308624925847,
          -0.981195268201697,
          1.0716793371408984,
          -0.9954274593580176,
          -1.3833819574832371,
          -0.8447525194875994,
          -0.9144143941317896,
          2.4128662614605316
         ],
         "xaxis": "x",
         "y": [
          -0.07858268616172745,
          0.3272582478001156,
          -0.9195853016669674,
          1.7269081652063432,
          -0.5244049751830162,
          -0.24794003833237377,
          0.34628890580294486,
          0.036728807124536175,
          1.6565319286622568,
          0.33221148999053024,
          -0.06341318660835937,
          -0.13201183506361694,
          -0.6604195097719853,
          0.5502574114205361
         ],
         "yaxis": "y"
        },
        {
         "hovertemplate": "color=Florisuga<br>PCA1=%{x}<br>PCA2=%{y}<extra></extra>",
         "legendgroup": "Florisuga",
         "marker": {
          "color": "#FFA15A",
          "symbol": "circle"
         },
         "mode": "markers",
         "name": "Florisuga",
         "showlegend": true,
         "type": "scattergl",
         "x": [
          -1.3235529334036198
         ],
         "xaxis": "x",
         "y": [
          -0.364989177982402
         ],
         "yaxis": "y"
        },
        {
         "hovertemplate": "color=Fluvicola<br>PCA1=%{x}<br>PCA2=%{y}<extra></extra>",
         "legendgroup": "Fluvicola",
         "marker": {
          "color": "#19d3f3",
          "symbol": "circle"
         },
         "mode": "markers",
         "name": "Fluvicola",
         "showlegend": true,
         "type": "scattergl",
         "x": [
          0.3962716156798077,
          -1.3372436387467213
         ],
         "xaxis": "x",
         "y": [
          -0.08259331856409281,
          -0.027196308947891833
         ],
         "yaxis": "y"
        },
        {
         "hovertemplate": "color=Formicarius<br>PCA1=%{x}<br>PCA2=%{y}<extra></extra>",
         "legendgroup": "Formicarius",
         "marker": {
          "color": "#FF6692",
          "symbol": "circle"
         },
         "mode": "markers",
         "name": "Formicarius",
         "showlegend": true,
         "type": "scattergl",
         "x": [
          -1.2450871442670741,
          -0.6074660196972667,
          -0.49075159222837506,
          2.6615063907332335,
          -0.09437126767183181,
          -0.9545561772150651,
          -1.5739905162048249
         ],
         "xaxis": "x",
         "y": [
          0.03626016383826871,
          0.3776313721886104,
          1.043463166439728,
          3.2030457499480405,
          1.7687569937902634,
          0.7033347251903911,
          -0.19452895834110523
         ],
         "yaxis": "y"
        },
        {
         "hovertemplate": "color=Formicivora<br>PCA1=%{x}<br>PCA2=%{y}<extra></extra>",
         "legendgroup": "Formicivora",
         "marker": {
          "color": "#B6E880",
          "symbol": "circle"
         },
         "mode": "markers",
         "name": "Formicivora",
         "showlegend": true,
         "type": "scattergl",
         "x": [
          0.271183852993038,
          -1.0125960273983692
         ],
         "xaxis": "x",
         "y": [
          -0.8936611036744165,
          -0.5494471956304618
         ],
         "yaxis": "y"
        },
        {
         "hovertemplate": "color=Forpus<br>PCA1=%{x}<br>PCA2=%{y}<extra></extra>",
         "legendgroup": "Forpus",
         "marker": {
          "color": "#FF97FF",
          "symbol": "circle"
         },
         "mode": "markers",
         "name": "Forpus",
         "showlegend": true,
         "type": "scattergl",
         "x": [
          -0.6345881596685828,
          1.7797667295699453,
          -0.581091883624104,
          -0.10788044817400409
         ],
         "xaxis": "x",
         "y": [
          -0.5262661281534367,
          -0.24229463116717995,
          -0.2636128679879288,
          -0.37352033638406723
         ],
         "yaxis": "y"
        },
        {
         "hovertemplate": "color=Furnarius<br>PCA1=%{x}<br>PCA2=%{y}<extra></extra>",
         "legendgroup": "Furnarius",
         "marker": {
          "color": "#FECB52",
          "symbol": "circle"
         },
         "mode": "markers",
         "name": "Furnarius",
         "showlegend": true,
         "type": "scattergl",
         "x": [
          -0.8461003705359953,
          0.5752457324240593
         ],
         "xaxis": "x",
         "y": [
          -0.6512778492561693,
          -1.6103888300805678
         ],
         "yaxis": "y"
        },
        {
         "hovertemplate": "color=Galbalcyrhynchus<br>PCA1=%{x}<br>PCA2=%{y}<extra></extra>",
         "legendgroup": "Galbalcyrhynchus",
         "marker": {
          "color": "#636efa",
          "symbol": "circle"
         },
         "mode": "markers",
         "name": "Galbalcyrhynchus",
         "showlegend": true,
         "type": "scattergl",
         "x": [
          -0.49984397857595947,
          1.4525819417740469
         ],
         "xaxis": "x",
         "y": [
          0.4904911352184193,
          -1.5849513563977369
         ],
         "yaxis": "y"
        },
        {
         "hovertemplate": "color=Galbula<br>PCA1=%{x}<br>PCA2=%{y}<extra></extra>",
         "legendgroup": "Galbula",
         "marker": {
          "color": "#EF553B",
          "symbol": "circle"
         },
         "mode": "markers",
         "name": "Galbula",
         "showlegend": true,
         "type": "scattergl",
         "x": [
          -1.1253641829464744,
          -0.5163518042694771,
          -1.1049759921668805,
          0.6236430337633292,
          0.18113193293389057,
          0.3292690342886138,
          0.44617854130987994
         ],
         "xaxis": "x",
         "y": [
          0.20543551141521837,
          1.0112958294363366,
          -0.3843638748984808,
          -0.7668664144696419,
          -1.2151164472364053,
          0.26064949413758437,
          -3.353052702542537
         ],
         "yaxis": "y"
        },
        {
         "hovertemplate": "color=Gallinago<br>PCA1=%{x}<br>PCA2=%{y}<extra></extra>",
         "legendgroup": "Gallinago",
         "marker": {
          "color": "#00cc96",
          "symbol": "circle"
         },
         "mode": "markers",
         "name": "Gallinago",
         "showlegend": true,
         "type": "scattergl",
         "x": [
          -1.2689999884952508
         ],
         "xaxis": "x",
         "y": [
          0.06600862695937629
         ],
         "yaxis": "y"
        },
        {
         "hovertemplate": "color=Gallinula<br>PCA1=%{x}<br>PCA2=%{y}<extra></extra>",
         "legendgroup": "Gallinula",
         "marker": {
          "color": "#ab63fa",
          "symbol": "circle"
         },
         "mode": "markers",
         "name": "Gallinula",
         "showlegend": true,
         "type": "scattergl",
         "x": [
          -1.4054254162511581
         ],
         "xaxis": "x",
         "y": [
          0.07700095069759072
         ],
         "yaxis": "y"
        },
        {
         "hovertemplate": "color=Gampsonyx<br>PCA1=%{x}<br>PCA2=%{y}<extra></extra>",
         "legendgroup": "Gampsonyx",
         "marker": {
          "color": "#FFA15A",
          "symbol": "circle"
         },
         "mode": "markers",
         "name": "Gampsonyx",
         "showlegend": true,
         "type": "scattergl",
         "x": [
          -0.6749188923824053
         ],
         "xaxis": "x",
         "y": [
          -0.024865755237405987
         ],
         "yaxis": "y"
        },
        {
         "hovertemplate": "color=Geothlypis<br>PCA1=%{x}<br>PCA2=%{y}<extra></extra>",
         "legendgroup": "Geothlypis",
         "marker": {
          "color": "#19d3f3",
          "symbol": "circle"
         },
         "mode": "markers",
         "name": "Geothlypis",
         "showlegend": true,
         "type": "scattergl",
         "x": [
          0.6852937138135656,
          7.695698809199927
         ],
         "xaxis": "x",
         "y": [
          0.8363162192425608,
          -2.1313233472881614
         ],
         "yaxis": "y"
        },
        {
         "hovertemplate": "color=Geotrygon<br>PCA1=%{x}<br>PCA2=%{y}<extra></extra>",
         "legendgroup": "Geotrygon",
         "marker": {
          "color": "#FF6692",
          "symbol": "circle"
         },
         "mode": "markers",
         "name": "Geotrygon",
         "showlegend": true,
         "type": "scattergl",
         "x": [
          0.07662304643208202,
          -0.19704775927331616,
          -0.24649427728500062,
          -0.41599217063637695,
          -1.2511015369348688,
          -0.323191590015909
         ],
         "xaxis": "x",
         "y": [
          0.20037978531422942,
          0.15447407290085696,
          -0.2175560976097671,
          0.12504573000498795,
          0.32237799169139275,
          0.10691763449028535
         ],
         "yaxis": "y"
        },
        {
         "hovertemplate": "color=Geranoaetus<br>PCA1=%{x}<br>PCA2=%{y}<extra></extra>",
         "legendgroup": "Geranoaetus",
         "marker": {
          "color": "#B6E880",
          "symbol": "circle"
         },
         "mode": "markers",
         "name": "Geranoaetus",
         "showlegend": true,
         "type": "scattergl",
         "x": [
          -1.5226441805519155
         ],
         "xaxis": "x",
         "y": [
          -0.3248803201682559
         ],
         "yaxis": "y"
        },
        {
         "hovertemplate": "color=Geranospiza<br>PCA1=%{x}<br>PCA2=%{y}<extra></extra>",
         "legendgroup": "Geranospiza",
         "marker": {
          "color": "#FF97FF",
          "symbol": "circle"
         },
         "mode": "markers",
         "name": "Geranospiza",
         "showlegend": true,
         "type": "scattergl",
         "x": [
          -0.15860798071081145,
          -0.21194136068087785
         ],
         "xaxis": "x",
         "y": [
          1.3155877483883083,
          0.41355511636952663
         ],
         "yaxis": "y"
        },
        {
         "hovertemplate": "color=Glaucidium<br>PCA1=%{x}<br>PCA2=%{y}<extra></extra>",
         "legendgroup": "Glaucidium",
         "marker": {
          "color": "#FECB52",
          "symbol": "circle"
         },
         "mode": "markers",
         "name": "Glaucidium",
         "showlegend": true,
         "type": "scattergl",
         "x": [
          0.5756763696323105,
          -0.9225650250557985,
          0.7610698289353177
         ],
         "xaxis": "x",
         "y": [
          -2.224621155233624,
          0.25818082135756376,
          0.20421969220843253
         ],
         "yaxis": "y"
        },
        {
         "hovertemplate": "color=Glaucis<br>PCA1=%{x}<br>PCA2=%{y}<extra></extra>",
         "legendgroup": "Glaucis",
         "marker": {
          "color": "#636efa",
          "symbol": "circle"
         },
         "mode": "markers",
         "name": "Glaucis",
         "showlegend": true,
         "type": "scattergl",
         "x": [
          -1.0093014861368341
         ],
         "xaxis": "x",
         "y": [
          -0.2665711193860247
         ],
         "yaxis": "y"
        },
        {
         "hovertemplate": "color=Glyphorynchus<br>PCA1=%{x}<br>PCA2=%{y}<extra></extra>",
         "legendgroup": "Glyphorynchus",
         "marker": {
          "color": "#EF553B",
          "symbol": "circle"
         },
         "mode": "markers",
         "name": "Glyphorynchus",
         "showlegend": true,
         "type": "scattergl",
         "x": [
          -0.8188040892360388,
          -0.5442387557768714
         ],
         "xaxis": "x",
         "y": [
          -0.2985250687697236,
          0.6676504761763268
         ],
         "yaxis": "y"
        },
        {
         "hovertemplate": "color=Gnorimopsar<br>PCA1=%{x}<br>PCA2=%{y}<extra></extra>",
         "legendgroup": "Gnorimopsar",
         "marker": {
          "color": "#00cc96",
          "symbol": "circle"
         },
         "mode": "markers",
         "name": "Gnorimopsar",
         "showlegend": true,
         "type": "scattergl",
         "x": [
          -0.18780178484662005
         ],
         "xaxis": "x",
         "y": [
          0.7819244091263746
         ],
         "yaxis": "y"
        },
        {
         "hovertemplate": "color=Grallaria<br>PCA1=%{x}<br>PCA2=%{y}<extra></extra>",
         "legendgroup": "Grallaria",
         "marker": {
          "color": "#ab63fa",
          "symbol": "circle"
         },
         "mode": "markers",
         "name": "Grallaria",
         "showlegend": true,
         "type": "scattergl",
         "x": [
          1.5065521880780135,
          0.3860623953637741,
          0.2869467796066658,
          -1.4756492697433639,
          0.8906854039080903,
          5.207346799139154
         ],
         "xaxis": "x",
         "y": [
          -0.6915672857850194,
          1.3419473070173857,
          -0.15258044025825693,
          -0.0006252092108665679,
          0.7758821322828184,
          5.548521609749414
         ],
         "yaxis": "y"
        },
        {
         "hovertemplate": "color=Grallaricula<br>PCA1=%{x}<br>PCA2=%{y}<extra></extra>",
         "legendgroup": "Grallaricula",
         "marker": {
          "color": "#FFA15A",
          "symbol": "circle"
         },
         "mode": "markers",
         "name": "Grallaricula",
         "showlegend": true,
         "type": "scattergl",
         "x": [
          -0.7463623259814248,
          -0.12927825643311375,
          1.851836375898873
         ],
         "xaxis": "x",
         "y": [
          0.6796787235524894,
          0.6825635532874511,
          1.185338720658219
         ],
         "yaxis": "y"
        },
        {
         "hovertemplate": "color=Gymnomystax<br>PCA1=%{x}<br>PCA2=%{y}<extra></extra>",
         "legendgroup": "Gymnomystax",
         "marker": {
          "color": "#19d3f3",
          "symbol": "circle"
         },
         "mode": "markers",
         "name": "Gymnomystax",
         "showlegend": true,
         "type": "scattergl",
         "x": [
          0.5518422951480548
         ],
         "xaxis": "x",
         "y": [
          -0.06221649002211554
         ],
         "yaxis": "y"
        },
        {
         "hovertemplate": "color=Habia<br>PCA1=%{x}<br>PCA2=%{y}<extra></extra>",
         "legendgroup": "Habia",
         "marker": {
          "color": "#FF6692",
          "symbol": "circle"
         },
         "mode": "markers",
         "name": "Habia",
         "showlegend": true,
         "type": "scattergl",
         "x": [
          -0.3303880091641833,
          -1.556088648855868
         ],
         "xaxis": "x",
         "y": [
          0.43675928106353484,
          -0.019458245910316866
         ],
         "yaxis": "y"
        },
        {
         "hovertemplate": "color=Hafferia<br>PCA1=%{x}<br>PCA2=%{y}<extra></extra>",
         "legendgroup": "Hafferia",
         "marker": {
          "color": "#B6E880",
          "symbol": "circle"
         },
         "mode": "markers",
         "name": "Hafferia",
         "showlegend": true,
         "type": "scattergl",
         "x": [
          6.056304298029125,
          -0.40687823387123767
         ],
         "xaxis": "x",
         "y": [
          2.197780955849065,
          -0.14551675780012197
         ],
         "yaxis": "y"
        },
        {
         "hovertemplate": "color=Haplophaedia<br>PCA1=%{x}<br>PCA2=%{y}<extra></extra>",
         "legendgroup": "Haplophaedia",
         "marker": {
          "color": "#FF97FF",
          "symbol": "circle"
         },
         "mode": "markers",
         "name": "Haplophaedia",
         "showlegend": true,
         "type": "scattergl",
         "x": [
          -0.18533941749013702
         ],
         "xaxis": "x",
         "y": [
          -1.2838771188998208
         ],
         "yaxis": "y"
        },
        {
         "hovertemplate": "color=Haplospiza<br>PCA1=%{x}<br>PCA2=%{y}<extra></extra>",
         "legendgroup": "Haplospiza",
         "marker": {
          "color": "#FECB52",
          "symbol": "circle"
         },
         "mode": "markers",
         "name": "Haplospiza",
         "showlegend": true,
         "type": "scattergl",
         "x": [
          2.862676471508049,
          2.6433443136005925,
          -0.3068455851029624,
          -0.858417741362686,
          -0.33130457679991204
         ],
         "xaxis": "x",
         "y": [
          -0.011853741685193075,
          1.0888545815490736,
          1.2227956915892773,
          -0.04629274591769769,
          0.10958301580604975
         ],
         "yaxis": "y"
        },
        {
         "hovertemplate": "color=Harpagus<br>PCA1=%{x}<br>PCA2=%{y}<extra></extra>",
         "legendgroup": "Harpagus",
         "marker": {
          "color": "#636efa",
          "symbol": "circle"
         },
         "mode": "markers",
         "name": "Harpagus",
         "showlegend": true,
         "type": "scattergl",
         "x": [
          -0.6914791237503763,
          -0.6194117055987505,
          -1.3682265810984116
         ],
         "xaxis": "x",
         "y": [
          -0.49137473268314213,
          0.2765801703857755,
          0.06573836131348698
         ],
         "yaxis": "y"
        },
        {
         "hovertemplate": "color=Harpia<br>PCA1=%{x}<br>PCA2=%{y}<extra></extra>",
         "legendgroup": "Harpia",
         "marker": {
          "color": "#EF553B",
          "symbol": "circle"
         },
         "mode": "markers",
         "name": "Harpia",
         "showlegend": true,
         "type": "scattergl",
         "x": [
          0.22358181564157736
         ],
         "xaxis": "x",
         "y": [
          0.11820078599454341
         ],
         "yaxis": "y"
        },
        {
         "hovertemplate": "color=Helicolestes<br>PCA1=%{x}<br>PCA2=%{y}<extra></extra>",
         "legendgroup": "Helicolestes",
         "marker": {
          "color": "#00cc96",
          "symbol": "circle"
         },
         "mode": "markers",
         "name": "Helicolestes",
         "showlegend": true,
         "type": "scattergl",
         "x": [
          0.3502118847983785,
          -0.30443912511531857,
          4.160066778729209
         ],
         "xaxis": "x",
         "y": [
          0.6832380622852323,
          0.354793862005294,
          -2.597936128668881
         ],
         "yaxis": "y"
        },
        {
         "hovertemplate": "color=Heliodoxa<br>PCA1=%{x}<br>PCA2=%{y}<extra></extra>",
         "legendgroup": "Heliodoxa",
         "marker": {
          "color": "#ab63fa",
          "symbol": "circle"
         },
         "mode": "markers",
         "name": "Heliodoxa",
         "showlegend": true,
         "type": "scattergl",
         "x": [
          -1.2838870462870042,
          -1.2000080292218196,
          2.0727752733734093,
          -0.5182785301474561,
          -0.7918753703089536,
          0.45972833642166017,
          0.12396807589913991,
          -0.5449645838985792,
          -1.197422112595377
         ],
         "xaxis": "x",
         "y": [
          0.5483121889795548,
          0.00006107052919700257,
          -1.3892069624195738,
          1.1658888739888864,
          0.3405726283284696,
          -0.7685306231580529,
          -0.4230445629963425,
          0.36001965325154145,
          0.3975487888567193
         ],
         "yaxis": "y"
        },
        {
         "hovertemplate": "color=Heliomaster<br>PCA1=%{x}<br>PCA2=%{y}<extra></extra>",
         "legendgroup": "Heliomaster",
         "marker": {
          "color": "#FFA15A",
          "symbol": "circle"
         },
         "mode": "markers",
         "name": "Heliomaster",
         "showlegend": true,
         "type": "scattergl",
         "x": [
          0.44680184857025085,
          -1.1881842194398509
         ],
         "xaxis": "x",
         "y": [
          -0.9282482459387842,
          -0.05160141681793838
         ],
         "yaxis": "y"
        },
        {
         "hovertemplate": "color=Heliornis<br>PCA1=%{x}<br>PCA2=%{y}<extra></extra>",
         "legendgroup": "Heliornis",
         "marker": {
          "color": "#19d3f3",
          "symbol": "circle"
         },
         "mode": "markers",
         "name": "Heliornis",
         "showlegend": true,
         "type": "scattergl",
         "x": [
          -0.6152290858168201
         ],
         "xaxis": "x",
         "y": [
          0.005006030501024993
         ],
         "yaxis": "y"
        },
        {
         "hovertemplate": "color=Heliothryx<br>PCA1=%{x}<br>PCA2=%{y}<extra></extra>",
         "legendgroup": "Heliothryx",
         "marker": {
          "color": "#FF6692",
          "symbol": "circle"
         },
         "mode": "markers",
         "name": "Heliothryx",
         "showlegend": true,
         "type": "scattergl",
         "x": [
          -0.8547871593820505
         ],
         "xaxis": "x",
         "y": [
          -0.06855867947795644
         ],
         "yaxis": "y"
        },
        {
         "hovertemplate": "color=Hemithraupis<br>PCA1=%{x}<br>PCA2=%{y}<extra></extra>",
         "legendgroup": "Hemithraupis",
         "marker": {
          "color": "#B6E880",
          "symbol": "circle"
         },
         "mode": "markers",
         "name": "Hemithraupis",
         "showlegend": true,
         "type": "scattergl",
         "x": [
          -0.8455170801812609,
          -0.8688451553735611,
          -0.8871261799012006
         ],
         "xaxis": "x",
         "y": [
          -0.03262570212286869,
          -0.37496927821160875,
          0.661898267335212
         ],
         "yaxis": "y"
        },
        {
         "hovertemplate": "color=Hemitriccus<br>PCA1=%{x}<br>PCA2=%{y}<extra></extra>",
         "legendgroup": "Hemitriccus",
         "marker": {
          "color": "#FF97FF",
          "symbol": "circle"
         },
         "mode": "markers",
         "name": "Hemitriccus",
         "showlegend": true,
         "type": "scattergl",
         "x": [
          4.30811543148424,
          1.2101479391195102,
          -0.23358113521673948,
          3.3122332336685836,
          -0.13400740587231566,
          2.2330166715100668,
          0.4514197998005434,
          -0.10430528640235555,
          -1.3078061832056231,
          -0.7200789381675633,
          0.635829846648705,
          2.4532385701327386
         ],
         "xaxis": "x",
         "y": [
          -0.2888257075288388,
          1.6036245555101518,
          -0.15245252095508116,
          0.14174556403988955,
          -0.9244762378225617,
          -2.754266790601885,
          0.5630835637865986,
          2.0144401702286943,
          0.15492582334454705,
          0.32088235887041283,
          0.5086005716180304,
          0.18473800990230507
         ],
         "yaxis": "y"
        },
        {
         "hovertemplate": "color=Henicorhina<br>PCA1=%{x}<br>PCA2=%{y}<extra></extra>",
         "legendgroup": "Henicorhina",
         "marker": {
          "color": "#FECB52",
          "symbol": "circle"
         },
         "mode": "markers",
         "name": "Henicorhina",
         "showlegend": true,
         "type": "scattergl",
         "x": [
          -0.7573159855421469,
          1.5716218976932788
         ],
         "xaxis": "x",
         "y": [
          0.351014900247196,
          -5.129404141314439
         ],
         "yaxis": "y"
        },
        {
         "hovertemplate": "color=Herpetotheres<br>PCA1=%{x}<br>PCA2=%{y}<extra></extra>",
         "legendgroup": "Herpetotheres",
         "marker": {
          "color": "#636efa",
          "symbol": "circle"
         },
         "mode": "markers",
         "name": "Herpetotheres",
         "showlegend": true,
         "type": "scattergl",
         "x": [
          -0.6381879167651802,
          1.6023602742247745
         ],
         "xaxis": "x",
         "y": [
          -0.6997281746964802,
          -3.0853205659378466
         ],
         "yaxis": "y"
        },
        {
         "hovertemplate": "color=Herpsilochmus<br>PCA1=%{x}<br>PCA2=%{y}<extra></extra>",
         "legendgroup": "Herpsilochmus",
         "marker": {
          "color": "#EF553B",
          "symbol": "circle"
         },
         "mode": "markers",
         "name": "Herpsilochmus",
         "showlegend": true,
         "type": "scattergl",
         "x": [
          -1.5266349004272453,
          0.15455728232310248,
          1.2581197963496493,
          0.7722885611568089,
          -1.1575781959431701,
          0.23061564669302123
         ],
         "xaxis": "x",
         "y": [
          -0.0653878294042084,
          1.0497315282653754,
          1.5388530690115327,
          0.554092785815718,
          -0.07244850265102175,
          1.2622429078279915
         ],
         "yaxis": "y"
        },
        {
         "hovertemplate": "color=Heterocercus<br>PCA1=%{x}<br>PCA2=%{y}<extra></extra>",
         "legendgroup": "Heterocercus",
         "marker": {
          "color": "#00cc96",
          "symbol": "circle"
         },
         "mode": "markers",
         "name": "Heterocercus",
         "showlegend": true,
         "type": "scattergl",
         "x": [
          -0.45307043190856955
         ],
         "xaxis": "x",
         "y": [
          0.04532691522952962
         ],
         "yaxis": "y"
        },
        {
         "hovertemplate": "color=Himantopus<br>PCA1=%{x}<br>PCA2=%{y}<extra></extra>",
         "legendgroup": "Himantopus",
         "marker": {
          "color": "#ab63fa",
          "symbol": "circle"
         },
         "mode": "markers",
         "name": "Himantopus",
         "showlegend": true,
         "type": "scattergl",
         "x": [
          0.8308648040064089,
          4.023760085432855,
          5.073152677992375
         ],
         "xaxis": "x",
         "y": [
          -0.69145044563519,
          -4.047367618653448,
          -6.114640422398737
         ],
         "yaxis": "y"
        },
        {
         "hovertemplate": "color=Hirundinea<br>PCA1=%{x}<br>PCA2=%{y}<extra></extra>",
         "legendgroup": "Hirundinea",
         "marker": {
          "color": "#FFA15A",
          "symbol": "circle"
         },
         "mode": "markers",
         "name": "Hirundinea",
         "showlegend": true,
         "type": "scattergl",
         "x": [
          -1.193753591781404,
          0.7312187497792706,
          -1.0103302491317583,
          -0.5168124864212866
         ],
         "xaxis": "x",
         "y": [
          0.09773062120004224,
          -0.675487594133847,
          0.2857764361486065,
          0.4554577358232135
         ],
         "yaxis": "y"
        },
        {
         "hovertemplate": "color=Hydropsalis<br>PCA1=%{x}<br>PCA2=%{y}<extra></extra>",
         "legendgroup": "Hydropsalis",
         "marker": {
          "color": "#19d3f3",
          "symbol": "circle"
         },
         "mode": "markers",
         "name": "Hydropsalis",
         "showlegend": true,
         "type": "scattergl",
         "x": [
          -0.49097106333543045,
          -0.9409389315312527,
          -0.5655216905940587,
          -0.3067357127174501,
          6.911265986430819
         ],
         "xaxis": "x",
         "y": [
          0.030387591859981647,
          0.11353504889114803,
          0.6490235387030501,
          -0.34078854289497607,
          -2.4011461368576215
         ],
         "yaxis": "y"
        },
        {
         "hovertemplate": "color=Hylexetastes<br>PCA1=%{x}<br>PCA2=%{y}<extra></extra>",
         "legendgroup": "Hylexetastes",
         "marker": {
          "color": "#FF6692",
          "symbol": "circle"
         },
         "mode": "markers",
         "name": "Hylexetastes",
         "showlegend": true,
         "type": "scattergl",
         "x": [
          2.7539270633580504,
          -0.9334560399128734,
          -0.5988948731294252,
          0.9151189655497406
         ],
         "xaxis": "x",
         "y": [
          3.611730615942491,
          0.4287053220463865,
          0.999236386116071,
          3.0160609763673545
         ],
         "yaxis": "y"
        },
        {
         "hovertemplate": "color=Hylopezus<br>PCA1=%{x}<br>PCA2=%{y}<extra></extra>",
         "legendgroup": "Hylopezus",
         "marker": {
          "color": "#B6E880",
          "symbol": "circle"
         },
         "mode": "markers",
         "name": "Hylopezus",
         "showlegend": true,
         "type": "scattergl",
         "x": [
          -0.5998632294181121
         ],
         "xaxis": "x",
         "y": [
          -0.4342882800521144
         ],
         "yaxis": "y"
        },
        {
         "hovertemplate": "color=Hylophilus<br>PCA1=%{x}<br>PCA2=%{y}<extra></extra>",
         "legendgroup": "Hylophilus",
         "marker": {
          "color": "#FF97FF",
          "symbol": "circle"
         },
         "mode": "markers",
         "name": "Hylophilus",
         "showlegend": true,
         "type": "scattergl",
         "x": [
          -0.04279474889756578,
          -0.9627278233633733
         ],
         "xaxis": "x",
         "y": [
          0.3859120232422749,
          0.22563674097351805
         ],
         "yaxis": "y"
        },
        {
         "hovertemplate": "color=Hylophylax<br>PCA1=%{x}<br>PCA2=%{y}<extra></extra>",
         "legendgroup": "Hylophylax",
         "marker": {
          "color": "#FECB52",
          "symbol": "circle"
         },
         "mode": "markers",
         "name": "Hylophylax",
         "showlegend": true,
         "type": "scattergl",
         "x": [
          0.5942242420389767,
          0.4032889478500881,
          1.2080665136210513
         ],
         "xaxis": "x",
         "y": [
          0.4116228410969216,
          0.4202669968726249,
          -1.2737241282634564
         ],
         "yaxis": "y"
        },
        {
         "hovertemplate": "color=Hypocnemis<br>PCA1=%{x}<br>PCA2=%{y}<extra></extra>",
         "legendgroup": "Hypocnemis",
         "marker": {
          "color": "#636efa",
          "symbol": "circle"
         },
         "mode": "markers",
         "name": "Hypocnemis",
         "showlegend": true,
         "type": "scattergl",
         "x": [
          -1.2951636790169905,
          1.9758857729381338,
          0.7653261948441682,
          -0.08640276646457709,
          -0.43287911046365485
         ],
         "xaxis": "x",
         "y": [
          0.2776273310957934,
          2.9774658741707625,
          -1.9312116003910191,
          0.47565699294004965,
          0.5719795704254407
         ],
         "yaxis": "y"
        },
        {
         "hovertemplate": "color=Hypocnemoides<br>PCA1=%{x}<br>PCA2=%{y}<extra></extra>",
         "legendgroup": "Hypocnemoides",
         "marker": {
          "color": "#EF553B",
          "symbol": "circle"
         },
         "mode": "markers",
         "name": "Hypocnemoides",
         "showlegend": true,
         "type": "scattergl",
         "x": [
          1.846841847687165,
          1.7581851162895274
         ],
         "xaxis": "x",
         "y": [
          0.3275108839829946,
          -0.3584618501339222
         ],
         "yaxis": "y"
        },
        {
         "hovertemplate": "color=Ibycter<br>PCA1=%{x}<br>PCA2=%{y}<extra></extra>",
         "legendgroup": "Ibycter",
         "marker": {
          "color": "#00cc96",
          "symbol": "circle"
         },
         "mode": "markers",
         "name": "Ibycter",
         "showlegend": true,
         "type": "scattergl",
         "x": [
          1.0073420903016426
         ],
         "xaxis": "x",
         "y": [
          -0.2612375110385234
         ],
         "yaxis": "y"
        },
        {
         "hovertemplate": "color=Icterus<br>PCA1=%{x}<br>PCA2=%{y}<extra></extra>",
         "legendgroup": "Icterus",
         "marker": {
          "color": "#ab63fa",
          "symbol": "circle"
         },
         "mode": "markers",
         "name": "Icterus",
         "showlegend": true,
         "type": "scattergl",
         "x": [
          0.3137208693092812,
          -1.3174023720345278,
          -0.9521384740290945
         ],
         "xaxis": "x",
         "y": [
          0.0023065147971605823,
          0.102318357001627,
          -0.759614941947742
         ],
         "yaxis": "y"
        },
        {
         "hovertemplate": "color=Ictinia<br>PCA1=%{x}<br>PCA2=%{y}<extra></extra>",
         "legendgroup": "Ictinia",
         "marker": {
          "color": "#FFA15A",
          "symbol": "circle"
         },
         "mode": "markers",
         "name": "Ictinia",
         "showlegend": true,
         "type": "scattergl",
         "x": [
          -1.0080801979127398,
          -0.8945089056930312,
          -1.3418207654448988,
          -0.5709890918690738,
          -1.3201093339549268
         ],
         "xaxis": "x",
         "y": [
          -0.17342958319572138,
          0.18591027181448555,
          0.13150326080444574,
          0.5911041401907192,
          0.2139953666456742
         ],
         "yaxis": "y"
        },
        {
         "hovertemplate": "color=Inezia<br>PCA1=%{x}<br>PCA2=%{y}<extra></extra>",
         "legendgroup": "Inezia",
         "marker": {
          "color": "#19d3f3",
          "symbol": "circle"
         },
         "mode": "markers",
         "name": "Inezia",
         "showlegend": true,
         "type": "scattergl",
         "x": [
          -1.6508153060114625,
          -0.6222418174065993,
          -1.2842683422249017
         ],
         "xaxis": "x",
         "y": [
          -0.17465903096676372,
          0.3941890367245932,
          0.20861726211059714
         ],
         "yaxis": "y"
        },
        {
         "hovertemplate": "color=Iodopleura<br>PCA1=%{x}<br>PCA2=%{y}<extra></extra>",
         "legendgroup": "Iodopleura",
         "marker": {
          "color": "#FF6692",
          "symbol": "circle"
         },
         "mode": "markers",
         "name": "Iodopleura",
         "showlegend": true,
         "type": "scattergl",
         "x": [
          1.1653292030830504,
          0.28170849323168967,
          -0.21499148210482216
         ],
         "xaxis": "x",
         "y": [
          1.026545253679575,
          -0.40180461233316966,
          0.0865297978017989
         ],
         "yaxis": "y"
        },
        {
         "hovertemplate": "color=Iridophanes<br>PCA1=%{x}<br>PCA2=%{y}<extra></extra>",
         "legendgroup": "Iridophanes",
         "marker": {
          "color": "#B6E880",
          "symbol": "circle"
         },
         "mode": "markers",
         "name": "Iridophanes",
         "showlegend": true,
         "type": "scattergl",
         "x": [
          0.0017400834195095895
         ],
         "xaxis": "x",
         "y": [
          1.258514302530003
         ],
         "yaxis": "y"
        },
        {
         "hovertemplate": "color=Iridosornis<br>PCA1=%{x}<br>PCA2=%{y}<extra></extra>",
         "legendgroup": "Iridosornis",
         "marker": {
          "color": "#FF97FF",
          "symbol": "circle"
         },
         "mode": "markers",
         "name": "Iridosornis",
         "showlegend": true,
         "type": "scattergl",
         "x": [
          -0.49043613137394326,
          -0.019858413191838786,
          -0.9849312803623875,
          2.739069726399048,
          0.8984080829312369,
          1.5895401518517103
         ],
         "xaxis": "x",
         "y": [
          0.46066062286984405,
          0.26740019902658907,
          -0.4511232240950144,
          1.1265037479879674,
          -2.53977549223496,
          -0.07558558319719057
         ],
         "yaxis": "y"
        },
        {
         "hovertemplate": "color=Isleria<br>PCA1=%{x}<br>PCA2=%{y}<extra></extra>",
         "legendgroup": "Isleria",
         "marker": {
          "color": "#FECB52",
          "symbol": "circle"
         },
         "mode": "markers",
         "name": "Isleria",
         "showlegend": true,
         "type": "scattergl",
         "x": [
          -1.0079450183994727,
          -0.37305366747715374
         ],
         "xaxis": "x",
         "y": [
          0.4609951741070845,
          0.2059158296844244
         ],
         "yaxis": "y"
        },
        {
         "hovertemplate": "color=Ixobrychus<br>PCA1=%{x}<br>PCA2=%{y}<extra></extra>",
         "legendgroup": "Ixobrychus",
         "marker": {
          "color": "#636efa",
          "symbol": "circle"
         },
         "mode": "markers",
         "name": "Ixobrychus",
         "showlegend": true,
         "type": "scattergl",
         "x": [
          -0.9313734173066494,
          -1.288693462169567,
          -1.5460162967533473
         ],
         "xaxis": "x",
         "y": [
          0.3638717279160255,
          -0.21398924985023293,
          -0.07608167295417617
         ],
         "yaxis": "y"
        },
        {
         "hovertemplate": "color=Jabiru<br>PCA1=%{x}<br>PCA2=%{y}<extra></extra>",
         "legendgroup": "Jabiru",
         "marker": {
          "color": "#EF553B",
          "symbol": "circle"
         },
         "mode": "markers",
         "name": "Jabiru",
         "showlegend": true,
         "type": "scattergl",
         "x": [
          0.03054073317401532,
          0.2796340920654201
         ],
         "xaxis": "x",
         "y": [
          0.0418534048818188,
          -1.8775811037487027
         ],
         "yaxis": "y"
        },
        {
         "hovertemplate": "color=Jacamerops<br>PCA1=%{x}<br>PCA2=%{y}<extra></extra>",
         "legendgroup": "Jacamerops",
         "marker": {
          "color": "#00cc96",
          "symbol": "circle"
         },
         "mode": "markers",
         "name": "Jacamerops",
         "showlegend": true,
         "type": "scattergl",
         "x": [
          -0.0313433893958757,
          -0.8940786653729291,
          -1.4116909870994125
         ],
         "xaxis": "x",
         "y": [
          0.8299634530396657,
          0.691778637580143,
          0.12464560046685896
         ],
         "yaxis": "y"
        },
        {
         "hovertemplate": "color=Jacana<br>PCA1=%{x}<br>PCA2=%{y}<extra></extra>",
         "legendgroup": "Jacana",
         "marker": {
          "color": "#ab63fa",
          "symbol": "circle"
         },
         "mode": "markers",
         "name": "Jacana",
         "showlegend": true,
         "type": "scattergl",
         "x": [
          -1.094422988729365
         ],
         "xaxis": "x",
         "y": [
          -0.012662099619998379
         ],
         "yaxis": "y"
        },
        {
         "hovertemplate": "color=Klais<br>PCA1=%{x}<br>PCA2=%{y}<extra></extra>",
         "legendgroup": "Klais",
         "marker": {
          "color": "#FFA15A",
          "symbol": "circle"
         },
         "mode": "markers",
         "name": "Klais",
         "showlegend": true,
         "type": "scattergl",
         "x": [
          0.6333268868004143
         ],
         "xaxis": "x",
         "y": [
          -1.3912824740527985
         ],
         "yaxis": "y"
        },
        {
         "hovertemplate": "color=Knipolegus<br>PCA1=%{x}<br>PCA2=%{y}<extra></extra>",
         "legendgroup": "Knipolegus",
         "marker": {
          "color": "#19d3f3",
          "symbol": "circle"
         },
         "mode": "markers",
         "name": "Knipolegus",
         "showlegend": true,
         "type": "scattergl",
         "x": [
          -1.6236978340209969,
          -1.2325525195261573,
          -1.460942187630539,
          3.1505904528523185,
          -0.6338596694208282,
          0.6503481301494268
         ],
         "xaxis": "x",
         "y": [
          -0.12278276028077323,
          -0.4494694014777163,
          -0.39050407992042635,
          1.6204950286774602,
          -0.8544283017598016,
          -1.2918824898916281
         ],
         "yaxis": "y"
        },
        {
         "hovertemplate": "color=Lamprospiza<br>PCA1=%{x}<br>PCA2=%{y}<extra></extra>",
         "legendgroup": "Lamprospiza",
         "marker": {
          "color": "#FF6692",
          "symbol": "circle"
         },
         "mode": "markers",
         "name": "Lamprospiza",
         "showlegend": true,
         "type": "scattergl",
         "x": [
          2.555296457031033,
          0.7559650405193157
         ],
         "xaxis": "x",
         "y": [
          -0.0424991236211021,
          -0.6122391054836619
         ],
         "yaxis": "y"
        },
        {
         "hovertemplate": "color=Laniisoma<br>PCA1=%{x}<br>PCA2=%{y}<extra></extra>",
         "legendgroup": "Laniisoma",
         "marker": {
          "color": "#B6E880",
          "symbol": "circle"
         },
         "mode": "markers",
         "name": "Laniisoma",
         "showlegend": true,
         "type": "scattergl",
         "x": [
          1.0515683967380915,
          1.0237756447265527
         ],
         "xaxis": "x",
         "y": [
          0.21842464768396996,
          -0.34547108739555143
         ],
         "yaxis": "y"
        },
        {
         "hovertemplate": "color=Lanio<br>PCA1=%{x}<br>PCA2=%{y}<extra></extra>",
         "legendgroup": "Lanio",
         "marker": {
          "color": "#FF97FF",
          "symbol": "circle"
         },
         "mode": "markers",
         "name": "Lanio",
         "showlegend": true,
         "type": "scattergl",
         "x": [
          -0.4393779945876312,
          0.10424768389812768
         ],
         "xaxis": "x",
         "y": [
          0.2772302771854064,
          -0.027600726920620315
         ],
         "yaxis": "y"
        },
        {
         "hovertemplate": "color=Laniocera<br>PCA1=%{x}<br>PCA2=%{y}<extra></extra>",
         "legendgroup": "Laniocera",
         "marker": {
          "color": "#FECB52",
          "symbol": "circle"
         },
         "mode": "markers",
         "name": "Laniocera",
         "showlegend": true,
         "type": "scattergl",
         "x": [
          1.4503066832164928
         ],
         "xaxis": "x",
         "y": [
          -0.4899104433235724
         ],
         "yaxis": "y"
        },
        {
         "hovertemplate": "color=Laterallus<br>PCA1=%{x}<br>PCA2=%{y}<extra></extra>",
         "legendgroup": "Laterallus",
         "marker": {
          "color": "#636efa",
          "symbol": "circle"
         },
         "mode": "markers",
         "name": "Laterallus",
         "showlegend": true,
         "type": "scattergl",
         "x": [
          -1.137651383712327,
          0.14641214713935635
         ],
         "xaxis": "x",
         "y": [
          0.17744837999012555,
          -0.9153994429107806
         ],
         "yaxis": "y"
        },
        {
         "hovertemplate": "color=Lathrotriccus<br>PCA1=%{x}<br>PCA2=%{y}<extra></extra>",
         "legendgroup": "Lathrotriccus",
         "marker": {
          "color": "#EF553B",
          "symbol": "circle"
         },
         "mode": "markers",
         "name": "Lathrotriccus",
         "showlegend": true,
         "type": "scattergl",
         "x": [
          1.1016213472380998,
          0.13237472941319745
         ],
         "xaxis": "x",
         "y": [
          -0.48040713593115625,
          -0.466370970098052
         ],
         "yaxis": "y"
        },
        {
         "hovertemplate": "color=Legatus<br>PCA1=%{x}<br>PCA2=%{y}<extra></extra>",
         "legendgroup": "Legatus",
         "marker": {
          "color": "#00cc96",
          "symbol": "circle"
         },
         "mode": "markers",
         "name": "Legatus",
         "showlegend": true,
         "type": "scattergl",
         "x": [
          1.2868797618260708,
          1.2537323351599678
         ],
         "xaxis": "x",
         "y": [
          0.18392885893405805,
          -1.0512585296203532
         ],
         "yaxis": "y"
        },
        {
         "hovertemplate": "color=Leistes<br>PCA1=%{x}<br>PCA2=%{y}<extra></extra>",
         "legendgroup": "Leistes",
         "marker": {
          "color": "#ab63fa",
          "symbol": "circle"
         },
         "mode": "markers",
         "name": "Leistes",
         "showlegend": true,
         "type": "scattergl",
         "x": [
          -0.9199675537295781,
          -0.16622704848729183
         ],
         "xaxis": "x",
         "y": [
          0.28115306645938726,
          0.2622932315689516
         ],
         "yaxis": "y"
        },
        {
         "hovertemplate": "color=Lepidocolaptes<br>PCA1=%{x}<br>PCA2=%{y}<extra></extra>",
         "legendgroup": "Lepidocolaptes",
         "marker": {
          "color": "#FFA15A",
          "symbol": "circle"
         },
         "mode": "markers",
         "name": "Lepidocolaptes",
         "showlegend": true,
         "type": "scattergl",
         "x": [
          -1.492251087318583,
          4.203118445184521,
          0.54930392759301
         ],
         "xaxis": "x",
         "y": [
          -0.0005985463641545212,
          -0.7919837753765465,
          1.1830737856812528
         ],
         "yaxis": "y"
        },
        {
         "hovertemplate": "color=Lepidothrix<br>PCA1=%{x}<br>PCA2=%{y}<extra></extra>",
         "legendgroup": "Lepidothrix",
         "marker": {
          "color": "#19d3f3",
          "symbol": "circle"
         },
         "mode": "markers",
         "name": "Lepidothrix",
         "showlegend": true,
         "type": "scattergl",
         "x": [
          0.1896978000952638,
          -1.0454777464792062,
          -0.3808690972568226,
          -0.9688504639472155,
          -0.9193780631271407,
          -1.2665840926526217,
          1.5860286273501785
         ],
         "xaxis": "x",
         "y": [
          -0.010020759022759805,
          -0.4235468024174719,
          0.35592871324109804,
          0.16195913580272334,
          0.18911486736017039,
          -0.3534169492943872,
          0.06550475264193825
         ],
         "yaxis": "y"
        },
        {
         "hovertemplate": "color=Leptodon<br>PCA1=%{x}<br>PCA2=%{y}<extra></extra>",
         "legendgroup": "Leptodon",
         "marker": {
          "color": "#FF6692",
          "symbol": "circle"
         },
         "mode": "markers",
         "name": "Leptodon",
         "showlegend": true,
         "type": "scattergl",
         "x": [
          5.192704401418022,
          -1.1875694872642457
         ],
         "xaxis": "x",
         "y": [
          -10.205935139995237,
          0.3020871673678529
         ],
         "yaxis": "y"
        },
        {
         "hovertemplate": "color=Leptopogon<br>PCA1=%{x}<br>PCA2=%{y}<extra></extra>",
         "legendgroup": "Leptopogon",
         "marker": {
          "color": "#B6E880",
          "symbol": "circle"
         },
         "mode": "markers",
         "name": "Leptopogon",
         "showlegend": true,
         "type": "scattergl",
         "x": [
          -1.5589428938221273,
          -1.4700064292115935,
          -0.8723428678503911,
          -1.403135450829736,
          0.48680242121649797,
          0.10638884403501749,
          -0.932819037387505
         ],
         "xaxis": "x",
         "y": [
          -0.05869773543586499,
          0.05398522952523354,
          0.26446041369494694,
          -0.2237468927871747,
          -0.15937517454094743,
          -0.21894421741552142,
          -0.10603001866450543
         ],
         "yaxis": "y"
        },
        {
         "hovertemplate": "color=Leptosittaca<br>PCA1=%{x}<br>PCA2=%{y}<extra></extra>",
         "legendgroup": "Leptosittaca",
         "marker": {
          "color": "#FF97FF",
          "symbol": "circle"
         },
         "mode": "markers",
         "name": "Leptosittaca",
         "showlegend": true,
         "type": "scattergl",
         "x": [
          -0.8963076465825575,
          -1.346349951030901
         ],
         "xaxis": "x",
         "y": [
          -0.3151141400596762,
          -0.1732612896273461
         ],
         "yaxis": "y"
        },
        {
         "hovertemplate": "color=Leptotila<br>PCA1=%{x}<br>PCA2=%{y}<extra></extra>",
         "legendgroup": "Leptotila",
         "marker": {
          "color": "#FECB52",
          "symbol": "circle"
         },
         "mode": "markers",
         "name": "Leptotila",
         "showlegend": true,
         "type": "scattergl",
         "x": [
          0.3380509692320272,
          0.14105800167593932,
          -0.4445962685603476,
          -0.6566906089297463
         ],
         "xaxis": "x",
         "y": [
          0.3819828617914248,
          0.506943458586165,
          0.3959758833617513,
          0.4571745819049671
         ],
         "yaxis": "y"
        },
        {
         "hovertemplate": "color=Leucopternis<br>PCA1=%{x}<br>PCA2=%{y}<extra></extra>",
         "legendgroup": "Leucopternis",
         "marker": {
          "color": "#636efa",
          "symbol": "circle"
         },
         "mode": "markers",
         "name": "Leucopternis",
         "showlegend": true,
         "type": "scattergl",
         "x": [
          -1.0988854719996421,
          -1.1783091819766334,
          -0.8020611913326167,
          -0.30683128588276504
         ],
         "xaxis": "x",
         "y": [
          0.1034411882701176,
          0.10124841183317086,
          -0.011217944622463581,
          -1.0579140979284645
         ],
         "yaxis": "y"
        },
        {
         "hovertemplate": "color=Limnodromus<br>PCA1=%{x}<br>PCA2=%{y}<extra></extra>",
         "legendgroup": "Limnodromus",
         "marker": {
          "color": "#EF553B",
          "symbol": "circle"
         },
         "mode": "markers",
         "name": "Limnodromus",
         "showlegend": true,
         "type": "scattergl",
         "x": [
          0.9982879242376486
         ],
         "xaxis": "x",
         "y": [
          -0.48884918361524093
         ],
         "yaxis": "y"
        },
        {
         "hovertemplate": "color=Limosa<br>PCA1=%{x}<br>PCA2=%{y}<extra></extra>",
         "legendgroup": "Limosa",
         "marker": {
          "color": "#00cc96",
          "symbol": "circle"
         },
         "mode": "markers",
         "name": "Limosa",
         "showlegend": true,
         "type": "scattergl",
         "x": [
          0.07364082267078417,
          0.16432917108818343
         ],
         "xaxis": "x",
         "y": [
          -0.9654988895232606,
          -0.9498141461260977
         ],
         "yaxis": "y"
        },
        {
         "hovertemplate": "color=Liosceles<br>PCA1=%{x}<br>PCA2=%{y}<extra></extra>",
         "legendgroup": "Liosceles",
         "marker": {
          "color": "#ab63fa",
          "symbol": "circle"
         },
         "mode": "markers",
         "name": "Liosceles",
         "showlegend": true,
         "type": "scattergl",
         "x": [
          6.9407806862532375,
          4.342446647343722,
          -1.0243382260358112
         ],
         "xaxis": "x",
         "y": [
          3.345629161824616,
          5.110006635353312,
          -0.4797532467073481
         ],
         "yaxis": "y"
        },
        {
         "hovertemplate": "color=Lochmias<br>PCA1=%{x}<br>PCA2=%{y}<extra></extra>",
         "legendgroup": "Lochmias",
         "marker": {
          "color": "#FFA15A",
          "symbol": "circle"
         },
         "mode": "markers",
         "name": "Lochmias",
         "showlegend": true,
         "type": "scattergl",
         "x": [
          3.17007516941496,
          -0.044136959002911244
         ],
         "xaxis": "x",
         "y": [
          -0.303236414120123,
          0.38825496365822276
         ],
         "yaxis": "y"
        },
        {
         "hovertemplate": "color=Lophornis<br>PCA1=%{x}<br>PCA2=%{y}<extra></extra>",
         "legendgroup": "Lophornis",
         "marker": {
          "color": "#19d3f3",
          "symbol": "circle"
         },
         "mode": "markers",
         "name": "Lophornis",
         "showlegend": true,
         "type": "scattergl",
         "x": [
          -1.3371075702880917,
          -1.3622949466506433
         ],
         "xaxis": "x",
         "y": [
          -0.1402390753359607,
          -0.07683445511599742
         ],
         "yaxis": "y"
        },
        {
         "hovertemplate": "color=Lophostrix<br>PCA1=%{x}<br>PCA2=%{y}<extra></extra>",
         "legendgroup": "Lophostrix",
         "marker": {
          "color": "#FF6692",
          "symbol": "circle"
         },
         "mode": "markers",
         "name": "Lophostrix",
         "showlegend": true,
         "type": "scattergl",
         "x": [
          -0.7016073006227956,
          3.399063162694607
         ],
         "xaxis": "x",
         "y": [
          0.3145683542367612,
          1.3471560918848724
         ],
         "yaxis": "y"
        },
        {
         "hovertemplate": "color=Lophotriccus<br>PCA1=%{x}<br>PCA2=%{y}<extra></extra>",
         "legendgroup": "Lophotriccus",
         "marker": {
          "color": "#B6E880",
          "symbol": "circle"
         },
         "mode": "markers",
         "name": "Lophotriccus",
         "showlegend": true,
         "type": "scattergl",
         "x": [
          -1.0364281247686724,
          -1.3524100031107618,
          -1.2715171686746225
         ],
         "xaxis": "x",
         "y": [
          0.10492955860761767,
          -0.4996789804936632,
          -0.1812706752231486
         ],
         "yaxis": "y"
        },
        {
         "hovertemplate": "color=Lurocalis<br>PCA1=%{x}<br>PCA2=%{y}<extra></extra>",
         "legendgroup": "Lurocalis",
         "marker": {
          "color": "#FF97FF",
          "symbol": "circle"
         },
         "mode": "markers",
         "name": "Lurocalis",
         "showlegend": true,
         "type": "scattergl",
         "x": [
          -0.026075991222505944,
          -0.8583244678257033,
          -0.9640071562588907,
          -1.3644260213525585,
          -1.5617281704835557
         ],
         "xaxis": "x",
         "y": [
          -0.4038818287478387,
          -0.3751218891716686,
          0.39239913899283496,
          -0.09793214194957302,
          -0.16382812465834595
         ],
         "yaxis": "y"
        },
        {
         "hovertemplate": "color=Machaeropterus<br>PCA1=%{x}<br>PCA2=%{y}<extra></extra>",
         "legendgroup": "Machaeropterus",
         "marker": {
          "color": "#FECB52",
          "symbol": "circle"
         },
         "mode": "markers",
         "name": "Machaeropterus",
         "showlegend": true,
         "type": "scattergl",
         "x": [
          -0.10568793051646952,
          0.4736355671989862
         ],
         "xaxis": "x",
         "y": [
          0.13893883814335187,
          0.7826968932315678
         ],
         "yaxis": "y"
        },
        {
         "hovertemplate": "color=Malacoptila<br>PCA1=%{x}<br>PCA2=%{y}<extra></extra>",
         "legendgroup": "Malacoptila",
         "marker": {
          "color": "#636efa",
          "symbol": "circle"
         },
         "mode": "markers",
         "name": "Malacoptila",
         "showlegend": true,
         "type": "scattergl",
         "x": [
          -0.44159351349633674,
          -0.5274321829224513,
          -1.288181621901115,
          -0.5002132195863794,
          -0.7873588324005775
         ],
         "xaxis": "x",
         "y": [
          0.20259772456171019,
          -0.03012372819556901,
          -0.2130963496155257,
          -0.22430743402383185,
          -0.2320437201708869
         ],
         "yaxis": "y"
        },
        {
         "hovertemplate": "color=Margarornis<br>PCA1=%{x}<br>PCA2=%{y}<extra></extra>",
         "legendgroup": "Margarornis",
         "marker": {
          "color": "#EF553B",
          "symbol": "circle"
         },
         "mode": "markers",
         "name": "Margarornis",
         "showlegend": true,
         "type": "scattergl",
         "x": [
          -0.48142196730328723,
          0.20282952801328558
         ],
         "xaxis": "x",
         "y": [
          -0.5345642282974631,
          -1.3319375829124227
         ],
         "yaxis": "y"
        },
        {
         "hovertemplate": "color=Mazaria<br>PCA1=%{x}<br>PCA2=%{y}<extra></extra>",
         "legendgroup": "Mazaria",
         "marker": {
          "color": "#00cc96",
          "symbol": "circle"
         },
         "mode": "markers",
         "name": "Mazaria",
         "showlegend": true,
         "type": "scattergl",
         "x": [
          0.04290002264021614
         ],
         "xaxis": "x",
         "y": [
          0.25310824338544013
         ],
         "yaxis": "y"
        },
        {
         "hovertemplate": "color=Mecocerculus<br>PCA1=%{x}<br>PCA2=%{y}<extra></extra>",
         "legendgroup": "Mecocerculus",
         "marker": {
          "color": "#ab63fa",
          "symbol": "circle"
         },
         "mode": "markers",
         "name": "Mecocerculus",
         "showlegend": true,
         "type": "scattergl",
         "x": [
          5.914471283054189
         ],
         "xaxis": "x",
         "y": [
          -1.4413034857518425
         ],
         "yaxis": "y"
        },
        {
         "hovertemplate": "color=Megaceryle<br>PCA1=%{x}<br>PCA2=%{y}<extra></extra>",
         "legendgroup": "Megaceryle",
         "marker": {
          "color": "#FFA15A",
          "symbol": "circle"
         },
         "mode": "markers",
         "name": "Megaceryle",
         "showlegend": true,
         "type": "scattergl",
         "x": [
          -0.4115413060466449,
          -1.1767484791911147,
          -1.390134445112379
         ],
         "xaxis": "x",
         "y": [
          -0.14888308848564052,
          0.5650036633180237,
          0.16538872745519564
         ],
         "yaxis": "y"
        },
        {
         "hovertemplate": "color=Megarynchus<br>PCA1=%{x}<br>PCA2=%{y}<extra></extra>",
         "legendgroup": "Megarynchus",
         "marker": {
          "color": "#19d3f3",
          "symbol": "circle"
         },
         "mode": "markers",
         "name": "Megarynchus",
         "showlegend": true,
         "type": "scattergl",
         "x": [
          -0.6536304279586652,
          -0.9587074580492649
         ],
         "xaxis": "x",
         "y": [
          -0.4496410583954274,
          -0.12874656793447994
         ],
         "yaxis": "y"
        },
        {
         "hovertemplate": "color=Megascops<br>PCA1=%{x}<br>PCA2=%{y}<extra></extra>",
         "legendgroup": "Megascops",
         "marker": {
          "color": "#FF6692",
          "symbol": "circle"
         },
         "mode": "markers",
         "name": "Megascops",
         "showlegend": true,
         "type": "scattergl",
         "x": [
          -0.5226781380209867,
          -0.4699648162795191,
          0.8071607186350233,
          0.47895231533163,
          -1.365745253333868,
          0.08223214683383474
         ],
         "xaxis": "x",
         "y": [
          1.36830865894612,
          0.7470436561995301,
          0.5981164218059178,
          0.8293357426613397,
          0.21619523186239312,
          1.3033503570656597
         ],
         "yaxis": "y"
        },
        {
         "hovertemplate": "color=Melanerpes<br>PCA1=%{x}<br>PCA2=%{y}<extra></extra>",
         "legendgroup": "Melanerpes",
         "marker": {
          "color": "#B6E880",
          "symbol": "circle"
         },
         "mode": "markers",
         "name": "Melanerpes",
         "showlegend": true,
         "type": "scattergl",
         "x": [
          0.32303146873864114,
          -1.3575141092426175,
          -1.3577042386200133
         ],
         "xaxis": "x",
         "y": [
          -2.305186973000562,
          -0.19950204391686183,
          -0.579242931532712
         ],
         "yaxis": "y"
        },
        {
         "hovertemplate": "color=Mesembrinibis<br>PCA1=%{x}<br>PCA2=%{y}<extra></extra>",
         "legendgroup": "Mesembrinibis",
         "marker": {
          "color": "#FF97FF",
          "symbol": "circle"
         },
         "mode": "markers",
         "name": "Mesembrinibis",
         "showlegend": true,
         "type": "scattergl",
         "x": [
          1.9579136431192266,
          -0.2921833518148509
         ],
         "xaxis": "x",
         "y": [
          -3.4120492053400118,
          0.7995803366353862
         ],
         "yaxis": "y"
        },
        {
         "hovertemplate": "color=Metallura<br>PCA1=%{x}<br>PCA2=%{y}<extra></extra>",
         "legendgroup": "Metallura",
         "marker": {
          "color": "#FECB52",
          "symbol": "circle"
         },
         "mode": "markers",
         "name": "Metallura",
         "showlegend": true,
         "type": "scattergl",
         "x": [
          -0.507764326524288
         ],
         "xaxis": "x",
         "y": [
          -0.17825879084552343
         ],
         "yaxis": "y"
        },
        {
         "hovertemplate": "color=Metopothrix<br>PCA1=%{x}<br>PCA2=%{y}<extra></extra>",
         "legendgroup": "Metopothrix",
         "marker": {
          "color": "#636efa",
          "symbol": "circle"
         },
         "mode": "markers",
         "name": "Metopothrix",
         "showlegend": true,
         "type": "scattergl",
         "x": [
          0.001610583316615981,
          -0.3813588682867907,
          -0.4657210702567629
         ],
         "xaxis": "x",
         "y": [
          -0.8709779109597099,
          -0.579892649556675,
          0.16587654268047058
         ],
         "yaxis": "y"
        },
        {
         "hovertemplate": "color=Metriopelia<br>PCA1=%{x}<br>PCA2=%{y}<extra></extra>",
         "legendgroup": "Metriopelia",
         "marker": {
          "color": "#EF553B",
          "symbol": "circle"
         },
         "mode": "markers",
         "name": "Metriopelia",
         "showlegend": true,
         "type": "scattergl",
         "x": [
          -1.4963827637048193,
          -0.9627643769100226
         ],
         "xaxis": "x",
         "y": [
          0.013705912928602345,
          -0.05143270478447203
         ],
         "yaxis": "y"
        },
        {
         "hovertemplate": "color=Micrastur<br>PCA1=%{x}<br>PCA2=%{y}<extra></extra>",
         "legendgroup": "Micrastur",
         "marker": {
          "color": "#00cc96",
          "symbol": "circle"
         },
         "mode": "markers",
         "name": "Micrastur",
         "showlegend": true,
         "type": "scattergl",
         "x": [
          -0.03251991082028025,
          0.3108033228117022,
          -0.29836810740873304,
          0.36229436112328955,
          -0.71148057337471,
          -0.3276761199524131,
          -0.7333344942265045,
          2.145855012819173,
          0.7514492651350844,
          3.8742434796931446,
          0.5136294105898871,
          -0.22206263414610572,
          -0.9434242906449031,
          -1.2720791983022124,
          0.09395712390995047
         ],
         "xaxis": "x",
         "y": [
          -0.8269247294025277,
          0.18204934294730482,
          0.11633117020725792,
          -0.49467504849589766,
          -0.17893594408911778,
          -0.48146959245553567,
          0.35309795832379226,
          -0.7155186910649541,
          -0.6516385524403648,
          -2.0472280753095666,
          0.447632549657016,
          -0.23653161645579043,
          -0.151760285703735,
          -0.021144637845642536,
          0.6974942757163084
         ],
         "yaxis": "y"
        },
        {
         "hovertemplate": "color=Microbates<br>PCA1=%{x}<br>PCA2=%{y}<extra></extra>",
         "legendgroup": "Microbates",
         "marker": {
          "color": "#ab63fa",
          "symbol": "circle"
         },
         "mode": "markers",
         "name": "Microbates",
         "showlegend": true,
         "type": "scattergl",
         "x": [
          0.7016524468028064,
          -0.5755653855222561
         ],
         "xaxis": "x",
         "y": [
          -2.0422196061338296,
          0.27117602362052257
         ],
         "yaxis": "y"
        },
        {
         "hovertemplate": "color=Microcerculus<br>PCA1=%{x}<br>PCA2=%{y}<extra></extra>",
         "legendgroup": "Microcerculus",
         "marker": {
          "color": "#FFA15A",
          "symbol": "circle"
         },
         "mode": "markers",
         "name": "Microcerculus",
         "showlegend": true,
         "type": "scattergl",
         "x": [
          -0.6005733164875177,
          -1.2154717991986306,
          -1.1936376475856856,
          -0.7543535960149548
         ],
         "xaxis": "x",
         "y": [
          0.6369966428680882,
          -0.27450825445812294,
          -0.2583128170302662,
          0.9486823568789995
         ],
         "yaxis": "y"
        },
        {
         "hovertemplate": "color=Micromonacha<br>PCA1=%{x}<br>PCA2=%{y}<extra></extra>",
         "legendgroup": "Micromonacha",
         "marker": {
          "color": "#19d3f3",
          "symbol": "circle"
         },
         "mode": "markers",
         "name": "Micromonacha",
         "showlegend": true,
         "type": "scattergl",
         "x": [
          -1.2527281920176863,
          -1.193810566630458
         ],
         "xaxis": "x",
         "y": [
          0.19331533495087058,
          0.3714141463192135
         ],
         "yaxis": "y"
        },
        {
         "hovertemplate": "color=Micropygia<br>PCA1=%{x}<br>PCA2=%{y}<extra></extra>",
         "legendgroup": "Micropygia",
         "marker": {
          "color": "#FF6692",
          "symbol": "circle"
         },
         "mode": "markers",
         "name": "Micropygia",
         "showlegend": true,
         "type": "scattergl",
         "x": [
          -0.7278986923465696,
          1.9879657569565632,
          2.0165709826714293,
          0.36181429796428527
         ],
         "xaxis": "x",
         "y": [
          0.39349381372165004,
          -1.3333510441560674,
          -0.917550626982749,
          -0.6987064509220124
         ],
         "yaxis": "y"
        },
        {
         "hovertemplate": "color=Microrhopias<br>PCA1=%{x}<br>PCA2=%{y}<extra></extra>",
         "legendgroup": "Microrhopias",
         "marker": {
          "color": "#B6E880",
          "symbol": "circle"
         },
         "mode": "markers",
         "name": "Microrhopias",
         "showlegend": true,
         "type": "scattergl",
         "x": [
          0.8519612084847179,
          2.379716159901243
         ],
         "xaxis": "x",
         "y": [
          0.06611798349861475,
          1.2691649453211455
         ],
         "yaxis": "y"
        },
        {
         "hovertemplate": "color=Microxenops<br>PCA1=%{x}<br>PCA2=%{y}<extra></extra>",
         "legendgroup": "Microxenops",
         "marker": {
          "color": "#FF97FF",
          "symbol": "circle"
         },
         "mode": "markers",
         "name": "Microxenops",
         "showlegend": true,
         "type": "scattergl",
         "x": [
          -1.4059092849002768,
          -0.8070960063242957
         ],
         "xaxis": "x",
         "y": [
          0.09076852766853821,
          0.7979403909091715
         ],
         "yaxis": "y"
        },
        {
         "hovertemplate": "color=Milvago<br>PCA1=%{x}<br>PCA2=%{y}<extra></extra>",
         "legendgroup": "Milvago",
         "marker": {
          "color": "#FECB52",
          "symbol": "circle"
         },
         "mode": "markers",
         "name": "Milvago",
         "showlegend": true,
         "type": "scattergl",
         "x": [
          2.5005735293533125,
          -0.18620885253715969,
          -0.3614720530101094,
          -1.5472940005684668,
          -1.5942888248094207
         ],
         "xaxis": "x",
         "y": [
          0.9093496612423648,
          0.024000647068152657,
          1.377299660480535,
          -0.04093784923707256,
          -0.10731930861226574
         ],
         "yaxis": "y"
        },
        {
         "hovertemplate": "color=Mimus<br>PCA1=%{x}<br>PCA2=%{y}<extra></extra>",
         "legendgroup": "Mimus",
         "marker": {
          "color": "#636efa",
          "symbol": "circle"
         },
         "mode": "markers",
         "name": "Mimus",
         "showlegend": true,
         "type": "scattergl",
         "x": [
          -1.201155932388717,
          -1.3708943720099607,
          -0.5145163240770894
         ],
         "xaxis": "x",
         "y": [
          0.15504366956294371,
          0.06906554940424703,
          -0.13213715048921393
         ],
         "yaxis": "y"
        },
        {
         "hovertemplate": "color=Mionectes<br>PCA1=%{x}<br>PCA2=%{y}<extra></extra>",
         "legendgroup": "Mionectes",
         "marker": {
          "color": "#EF553B",
          "symbol": "circle"
         },
         "mode": "markers",
         "name": "Mionectes",
         "showlegend": true,
         "type": "scattergl",
         "x": [
          -0.6811635888190553,
          3.363088421870191,
          0.8544805681194837,
          0.5007300314652547,
          0.2213147733632192,
          0.2784904482391913,
          3.023090451969438,
          0.4299120108306013
         ],
         "xaxis": "x",
         "y": [
          0.7235419420753724,
          -1.2944434548856418,
          -0.8787275947275213,
          -0.5643730429689182,
          0.4369024879315228,
          -1.3557124140073191,
          -6.6764970998593025,
          -0.3205186116304317
         ],
         "yaxis": "y"
        },
        {
         "hovertemplate": "color=Mitu<br>PCA1=%{x}<br>PCA2=%{y}<extra></extra>",
         "legendgroup": "Mitu",
         "marker": {
          "color": "#00cc96",
          "symbol": "circle"
         },
         "mode": "markers",
         "name": "Mitu",
         "showlegend": true,
         "type": "scattergl",
         "x": [
          0.7752600766071155,
          1.0431294360491903
         ],
         "xaxis": "x",
         "y": [
          -0.03596526546450792,
          -0.03336344856704295
         ],
         "yaxis": "y"
        },
        {
         "hovertemplate": "color=Molothrus<br>PCA1=%{x}<br>PCA2=%{y}<extra></extra>",
         "legendgroup": "Molothrus",
         "marker": {
          "color": "#ab63fa",
          "symbol": "circle"
         },
         "mode": "markers",
         "name": "Molothrus",
         "showlegend": true,
         "type": "scattergl",
         "x": [
          5.849918113405362,
          -0.04683487642863311,
          0.7170717435421358,
          -1.4723816112760526,
          -1.4775731921646684
         ],
         "xaxis": "x",
         "y": [
          2.455935591341105,
          0.3728405817173275,
          0.13046626973678382,
          -0.2081227322888311,
          -0.22707564952976272
         ],
         "yaxis": "y"
        },
        {
         "hovertemplate": "color=Momotus<br>PCA1=%{x}<br>PCA2=%{y}<extra></extra>",
         "legendgroup": "Momotus",
         "marker": {
          "color": "#FFA15A",
          "symbol": "circle"
         },
         "mode": "markers",
         "name": "Momotus",
         "showlegend": true,
         "type": "scattergl",
         "x": [
          -0.7851660812995442,
          -0.600088485799111,
          -1.0808662683684624,
          1.0001472986134883,
          -0.429912998327903
         ],
         "xaxis": "x",
         "y": [
          -0.15571801261488258,
          -0.012689439170512627,
          -0.3183871452322594,
          1.5904566368729376,
          -0.05928890362010472
         ],
         "yaxis": "y"
        },
        {
         "hovertemplate": "color=Monasa<br>PCA1=%{x}<br>PCA2=%{y}<extra></extra>",
         "legendgroup": "Monasa",
         "marker": {
          "color": "#19d3f3",
          "symbol": "circle"
         },
         "mode": "markers",
         "name": "Monasa",
         "showlegend": true,
         "type": "scattergl",
         "x": [
          0.10655678429229755,
          -0.5287914707334459,
          -0.381172764917699,
          1.3298954562536545,
          0.4978712469963708,
          0.2644542770215548
         ],
         "xaxis": "x",
         "y": [
          -0.9081418041004035,
          -1.4525929015292274,
          0.5565399661304337,
          -2.9026257346496593,
          0.043573223718964264,
          -0.24486182121630934
         ],
         "yaxis": "y"
        },
        {
         "hovertemplate": "color=Morphnus<br>PCA1=%{x}<br>PCA2=%{y}<extra></extra>",
         "legendgroup": "Morphnus",
         "marker": {
          "color": "#FF6692",
          "symbol": "circle"
         },
         "mode": "markers",
         "name": "Morphnus",
         "showlegend": true,
         "type": "scattergl",
         "x": [
          -1.464069255000576
         ],
         "xaxis": "x",
         "y": [
          -0.13462668833624014
         ],
         "yaxis": "y"
        },
        {
         "hovertemplate": "color=Myadestes<br>PCA1=%{x}<br>PCA2=%{y}<extra></extra>",
         "legendgroup": "Myadestes",
         "marker": {
          "color": "#B6E880",
          "symbol": "circle"
         },
         "mode": "markers",
         "name": "Myadestes",
         "showlegend": true,
         "type": "scattergl",
         "x": [
          0.334394550630263,
          -0.17330693075649553,
          0.7899417650215922
         ],
         "xaxis": "x",
         "y": [
          -0.34870635617019413,
          -0.24241444707495782,
          0.21718912211967914
         ],
         "yaxis": "y"
        },
        {
         "hovertemplate": "color=Mycteria<br>PCA1=%{x}<br>PCA2=%{y}<extra></extra>",
         "legendgroup": "Mycteria",
         "marker": {
          "color": "#FF97FF",
          "symbol": "circle"
         },
         "mode": "markers",
         "name": "Mycteria",
         "showlegend": true,
         "type": "scattergl",
         "x": [
          5.076531450578424,
          -0.9970917519459345,
          9.116563698304127
         ],
         "xaxis": "x",
         "y": [
          -0.4577061013711233,
          0.05012716548715583,
          -3.3155051513201683
         ],
         "yaxis": "y"
        },
        {
         "hovertemplate": "color=Myiarchus<br>PCA1=%{x}<br>PCA2=%{y}<extra></extra>",
         "legendgroup": "Myiarchus",
         "marker": {
          "color": "#FECB52",
          "symbol": "circle"
         },
         "mode": "markers",
         "name": "Myiarchus",
         "showlegend": true,
         "type": "scattergl",
         "x": [
          -0.15371392839730624,
          -0.6790528779549603,
          -1.097030667192625,
          -0.2677175295859866,
          0.2309071330289242,
          0.851021843046648,
          -0.49414651584717834,
          -0.1258702475282727,
          0.3310656599111675,
          0.9217892197377844,
          -0.8372525039852142,
          -0.9963397868356598,
          -1.1719207573048356,
          0.6890395248023795,
          -0.035618215207617994,
          -0.7716232395848043
         ],
         "xaxis": "x",
         "y": [
          -0.44715855023019885,
          0.10010807706326917,
          0.45508647122033374,
          0.08040382353884945,
          0.2117140570151947,
          -0.3025328432840943,
          -0.06417097347698866,
          -0.209826797133552,
          -0.3020247444970534,
          1.6838421226809976,
          0.2549444303222443,
          0.26890623924858276,
          0.006421155195546161,
          -0.3443803260117432,
          0.5764418112447404,
          -0.09615980148977546
         ],
         "yaxis": "y"
        },
        {
         "hovertemplate": "color=Myiobius<br>PCA1=%{x}<br>PCA2=%{y}<extra></extra>",
         "legendgroup": "Myiobius",
         "marker": {
          "color": "#636efa",
          "symbol": "circle"
         },
         "mode": "markers",
         "name": "Myiobius",
         "showlegend": true,
         "type": "scattergl",
         "x": [
          0.05417444804372825,
          -1.5672739643894247,
          1.110773100605175,
          -0.4298924107157221,
          -1.2190147890686935,
          -1.535426125497428,
          -1.1092993254573724,
          1.854051842778849,
          -0.5266911462703923,
          -0.8561557750067647,
          -1.5013270630055568
         ],
         "xaxis": "x",
         "y": [
          -0.5675433420173303,
          -0.03299873982237773,
          -0.6735491802443649,
          -0.2546529972707777,
          -0.0631483632511524,
          -0.12955759694649716,
          0.1359682294633755,
          1.9752629228060596,
          0.609933642203801,
          0.03161595094356666,
          -0.01823085435134764
         ],
         "yaxis": "y"
        },
        {
         "hovertemplate": "color=Myioborus<br>PCA1=%{x}<br>PCA2=%{y}<extra></extra>",
         "legendgroup": "Myioborus",
         "marker": {
          "color": "#EF553B",
          "symbol": "circle"
         },
         "mode": "markers",
         "name": "Myioborus",
         "showlegend": true,
         "type": "scattergl",
         "x": [
          -0.2944645528106029,
          0.41277850639410163,
          -0.25389114054985723,
          -0.33782932564918494,
          -0.41723910801819747,
          -0.14923512698477537
         ],
         "xaxis": "x",
         "y": [
          0.9123550747195113,
          -0.05420912625901799,
          1.738610447442291,
          0.6690110044874881,
          0.22512904491492733,
          0.06992090967197255
         ],
         "yaxis": "y"
        },
        {
         "hovertemplate": "color=Myiodynastes<br>PCA1=%{x}<br>PCA2=%{y}<extra></extra>",
         "legendgroup": "Myiodynastes",
         "marker": {
          "color": "#00cc96",
          "symbol": "circle"
         },
         "mode": "markers",
         "name": "Myiodynastes",
         "showlegend": true,
         "type": "scattergl",
         "x": [
          -0.36395471883787656,
          -0.3210766212005217,
          -1.56204933172007,
          0.13481524933522157,
          12.816009308958039,
          -0.4803690246760807,
          1.562869948528225,
          -1.367039182525791,
          -0.8393932506849433,
          -0.11906636323456848
         ],
         "xaxis": "x",
         "y": [
          0.4414458029570402,
          0.049955414543266526,
          -0.19482820999563627,
          -0.692128578486626,
          7.454296579508693,
          -0.5421180655502771,
          -0.4252175297870255,
          -0.08577634302207933,
          -0.22739558222867753,
          -0.3488736060163092
         ],
         "yaxis": "y"
        },
        {
         "hovertemplate": "color=Myiopagis<br>PCA1=%{x}<br>PCA2=%{y}<extra></extra>",
         "legendgroup": "Myiopagis",
         "marker": {
          "color": "#ab63fa",
          "symbol": "circle"
         },
         "mode": "markers",
         "name": "Myiopagis",
         "showlegend": true,
         "type": "scattergl",
         "x": [
          0.010667615941703491,
          0.4098554743508911,
          1.283435163251892,
          -1.2770961023356688,
          -0.35915662757664807,
          -0.4448376967749803,
          1.1139990317089374,
          -0.2905439119087734,
          2.844660039052161,
          -1.5927154625766218,
          0.43046927775391997,
          0.5349316464126318,
          -1.1344906367035117,
          -0.32276335472727413
         ],
         "xaxis": "x",
         "y": [
          -0.03946067530236453,
          0.11288120226948553,
          0.9229398522413671,
          -0.6860811611004157,
          0.42538988530587674,
          0.9870149974540642,
          2.020150180664787,
          1.8083556329739259,
          2.860627302156678,
          -0.1467682750260873,
          1.162673635608504,
          1.9944610162280252,
          0.19092276426000038,
          1.2357073973052712
         ],
         "yaxis": "y"
        },
        {
         "hovertemplate": "color=Myiophobus<br>PCA1=%{x}<br>PCA2=%{y}<extra></extra>",
         "legendgroup": "Myiophobus",
         "marker": {
          "color": "#FFA15A",
          "symbol": "circle"
         },
         "mode": "markers",
         "name": "Myiophobus",
         "showlegend": true,
         "type": "scattergl",
         "x": [
          -0.7721666988157591,
          -1.3167982380812415,
          -0.6994716056927816,
          -1.4867243580272458
         ],
         "xaxis": "x",
         "y": [
          0.24555672674049298,
          0.10361504145398762,
          0.10526503216256256,
          -0.3614634691915659
         ],
         "yaxis": "y"
        },
        {
         "hovertemplate": "color=Myiornis<br>PCA1=%{x}<br>PCA2=%{y}<extra></extra>",
         "legendgroup": "Myiornis",
         "marker": {
          "color": "#19d3f3",
          "symbol": "circle"
         },
         "mode": "markers",
         "name": "Myiornis",
         "showlegend": true,
         "type": "scattergl",
         "x": [
          0.3351863434309969,
          -0.5123980241006312,
          -1.19075097697976
         ],
         "xaxis": "x",
         "y": [
          -0.027971165794062648,
          0.26726032579606346,
          0.11151135104420445
         ],
         "yaxis": "y"
        },
        {
         "hovertemplate": "color=Myiotheretes<br>PCA1=%{x}<br>PCA2=%{y}<extra></extra>",
         "legendgroup": "Myiotheretes",
         "marker": {
          "color": "#FF6692",
          "symbol": "circle"
         },
         "mode": "markers",
         "name": "Myiotheretes",
         "showlegend": true,
         "type": "scattergl",
         "x": [
          -0.42075567322989343,
          0.4553587999963928,
          -0.07180815279176209,
          -0.7540716132801689,
          -0.7808655762630858,
          -0.06436837011917367
         ],
         "xaxis": "x",
         "y": [
          0.2661147507066314,
          0.0972046417447923,
          -0.06582643658953731,
          0.915414629694081,
          0.140891935259422,
          0.24473757071982782
         ],
         "yaxis": "y"
        },
        {
         "hovertemplate": "color=Myiothlypis<br>PCA1=%{x}<br>PCA2=%{y}<extra></extra>",
         "legendgroup": "Myiothlypis",
         "marker": {
          "color": "#B6E880",
          "symbol": "circle"
         },
         "mode": "markers",
         "name": "Myiothlypis",
         "showlegend": true,
         "type": "scattergl",
         "x": [
          -0.32776233239147706,
          -0.4486190086496167,
          -1.2128954239620315,
          -0.399998973313736,
          -0.5861207768433342,
          2.2012574162911993,
          -0.6033719887068647,
          0.5903089320670242,
          -0.47547056300978274,
          -0.4911890509579479,
          1.1402309798743975,
          -0.7343825430872026,
          -1.070965755469662,
          1.0355346530859684,
          -0.7723775916359299
         ],
         "xaxis": "x",
         "y": [
          0.29334853023108665,
          0.010615967559873693,
          0.19339216706459517,
          0.4235617685583159,
          0.4872230888237277,
          0.6300582947080364,
          -0.022588391560238112,
          1.0311098752838026,
          0.5199275666351508,
          0.006048856530887781,
          0.2939209104929382,
          0.27890344523401944,
          -0.4357500216442717,
          0.4659392082821548,
          0.3249640719514386
         ],
         "yaxis": "y"
        },
        {
         "hovertemplate": "color=Myiotriccus<br>PCA1=%{x}<br>PCA2=%{y}<extra></extra>",
         "legendgroup": "Myiotriccus",
         "marker": {
          "color": "#FF97FF",
          "symbol": "circle"
         },
         "mode": "markers",
         "name": "Myiotriccus",
         "showlegend": true,
         "type": "scattergl",
         "x": [
          1.222169785734422,
          -0.3998702176075079,
          0.2701985928294289,
          3.6998131214809344
         ],
         "xaxis": "x",
         "y": [
          -1.9697382691351557,
          -1.2773064321423255,
          0.33107486062957786,
          -1.522449206801313
         ],
         "yaxis": "y"
        },
        {
         "hovertemplate": "color=Myiozetetes<br>PCA1=%{x}<br>PCA2=%{y}<extra></extra>",
         "legendgroup": "Myiozetetes",
         "marker": {
          "color": "#FECB52",
          "symbol": "circle"
         },
         "mode": "markers",
         "name": "Myiozetetes",
         "showlegend": true,
         "type": "scattergl",
         "x": [
          -0.32264178527537457,
          -1.2744177803874475,
          1.4283902037287042,
          -0.12872698337227945,
          0.4341599870087073,
          1.8085865302003241,
          1.3088299011919364,
          -1.1038673501442864,
          -1.321293611045192,
          -0.9937453232048424,
          1.6908114791604199
         ],
         "xaxis": "x",
         "y": [
          0.5188080903928258,
          -0.44470840982109894,
          -0.3497098884194198,
          0.8952787315601565,
          -0.3189045439006366,
          -0.8636835853316838,
          0.9921944234863007,
          -0.03356840523615799,
          -0.22968286057333326,
          0.12728894481477276,
          -0.766642640197161
         ],
         "yaxis": "y"
        },
        {
         "hovertemplate": "color=Myrmelastes<br>PCA1=%{x}<br>PCA2=%{y}<extra></extra>",
         "legendgroup": "Myrmelastes",
         "marker": {
          "color": "#636efa",
          "symbol": "circle"
         },
         "mode": "markers",
         "name": "Myrmelastes",
         "showlegend": true,
         "type": "scattergl",
         "x": [
          0.005316514972229013,
          0.3866611741011475,
          -1.0227807409251284,
          -0.28256624721006873,
          0.4501649196196726,
          -1.2963745098011958,
          -1.1129444344965482,
          1.3067295387483895,
          -1.4614503313412452,
          0.041907474646928664
         ],
         "xaxis": "x",
         "y": [
          0.25306226216981487,
          -0.34506449642249293,
          0.6941504016452077,
          0.10672990696378544,
          1.2402496842151807,
          -0.2575034776172471,
          -0.3358566251982014,
          1.552451522330255,
          0.07931556858312894,
          1.8623546512612095
         ],
         "yaxis": "y"
        },
        {
         "hovertemplate": "color=Myrmoborus<br>PCA1=%{x}<br>PCA2=%{y}<extra></extra>",
         "legendgroup": "Myrmoborus",
         "marker": {
          "color": "#EF553B",
          "symbol": "circle"
         },
         "mode": "markers",
         "name": "Myrmoborus",
         "showlegend": true,
         "type": "scattergl",
         "x": [
          -1.2956574544927018,
          0.7669993491521199,
          -1.0779174320357816,
          -0.1667108526135352,
          -0.04282407978181474,
          -0.6733171432685497
         ],
         "xaxis": "x",
         "y": [
          0.046106785957617184,
          0.5158932293248375,
          0.3004800985934405,
          0.3618785545605946,
          -0.6602024535379527,
          0.5969996894127682
         ],
         "yaxis": "y"
        },
        {
         "hovertemplate": "color=Myrmophylax<br>PCA1=%{x}<br>PCA2=%{y}<extra></extra>",
         "legendgroup": "Myrmophylax",
         "marker": {
          "color": "#00cc96",
          "symbol": "circle"
         },
         "mode": "markers",
         "name": "Myrmophylax",
         "showlegend": true,
         "type": "scattergl",
         "x": [
          0.011974793596520837,
          -1.2287144874355482,
          -1.3945682984968537
         ],
         "xaxis": "x",
         "y": [
          0.8548103222239773,
          -0.08317264812578247,
          -0.16481488800642585
         ],
         "yaxis": "y"
        },
        {
         "hovertemplate": "color=Myrmothera<br>PCA1=%{x}<br>PCA2=%{y}<extra></extra>",
         "legendgroup": "Myrmothera",
         "marker": {
          "color": "#ab63fa",
          "symbol": "circle"
         },
         "mode": "markers",
         "name": "Myrmothera",
         "showlegend": true,
         "type": "scattergl",
         "x": [
          1.0613156567003317,
          -0.3520422315359846,
          -0.7098451606490291
         ],
         "xaxis": "x",
         "y": [
          1.918420191024285,
          1.2277354648379795,
          0.8621552275529567
         ],
         "yaxis": "y"
        },
        {
         "hovertemplate": "color=Myrmotherula<br>PCA1=%{x}<br>PCA2=%{y}<extra></extra>",
         "legendgroup": "Myrmotherula",
         "marker": {
          "color": "#FFA15A",
          "symbol": "circle"
         },
         "mode": "markers",
         "name": "Myrmotherula",
         "showlegend": true,
         "type": "scattergl",
         "x": [
          -1.0014688336026376,
          -0.5893081288652308,
          -0.18234530616574998,
          -1.0776726353621398,
          0.15684217558414487,
          1.7795863590384515,
          0.5233521429179182,
          -1.0330226974945023,
          0.3874200726229347,
          1.6609317609980963,
          0.9270948663515023,
          1.687092548289099,
          2.9612829815260264,
          -0.5451141216113923,
          0.21000068211088896,
          -1.0930818397882034,
          -1.5174295113421883,
          0.6235285799829382,
          -0.9827661892590821,
          -0.5106113679026248,
          2.37939420614901,
          -1.154930162516209,
          0.7104325636930097,
          1.64335363794592,
          -0.2498489054026576,
          3.23156226795811,
          -0.8830692558433959,
          -0.9500141602484901,
          1.4808108408728993,
          0.4528556824231838,
          1.9893157445991925
         ],
         "xaxis": "x",
         "y": [
          -0.2811195770020766,
          0.4863949414084976,
          0.941453553038276,
          -0.21189914592803144,
          0.4152058029507694,
          2.0696189151187587,
          0.050064953679889175,
          0.2722429717145502,
          0.06483750049453776,
          -0.5043779558791633,
          0.35297120270546667,
          -0.07455526032890408,
          1.0939719179657794,
          0.7317402374768178,
          1.783183302588648,
          0.3344758566797674,
          -0.11709890849377541,
          -0.0761753555396757,
          0.43880393443397886,
          0.9340651243767097,
          2.467659842600567,
          0.40350692567846264,
          0.08119770746082737,
          2.811761217273132,
          -0.7752394140572708,
          0.720865254711105,
          0.02585047173609024,
          0.08317397230854594,
          -0.3278150734361717,
          -1.1324561920619232,
          -0.8984932388878377
         ],
         "yaxis": "y"
        },
        {
         "hovertemplate": "color=Nannopsittaca<br>PCA1=%{x}<br>PCA2=%{y}<extra></extra>",
         "legendgroup": "Nannopsittaca",
         "marker": {
          "color": "#19d3f3",
          "symbol": "circle"
         },
         "mode": "markers",
         "name": "Nannopsittaca",
         "showlegend": true,
         "type": "scattergl",
         "x": [
          -0.7236217753137395,
          -1.5415600957781088
         ],
         "xaxis": "x",
         "y": [
          -0.47051963318961787,
          -0.14450616921527087
         ],
         "yaxis": "y"
        },
        {
         "hovertemplate": "color=Nasica<br>PCA1=%{x}<br>PCA2=%{y}<extra></extra>",
         "legendgroup": "Nasica",
         "marker": {
          "color": "#FF6692",
          "symbol": "circle"
         },
         "mode": "markers",
         "name": "Nasica",
         "showlegend": true,
         "type": "scattergl",
         "x": [
          -1.4860939348747553
         ],
         "xaxis": "x",
         "y": [
          -0.21631782190841026
         ],
         "yaxis": "y"
        },
        {
         "hovertemplate": "color=Nemosia<br>PCA1=%{x}<br>PCA2=%{y}<extra></extra>",
         "legendgroup": "Nemosia",
         "marker": {
          "color": "#B6E880",
          "symbol": "circle"
         },
         "mode": "markers",
         "name": "Nemosia",
         "showlegend": true,
         "type": "scattergl",
         "x": [
          -0.9631945340588394,
          2.4327731206019236,
          -1.4234503711180273
         ],
         "xaxis": "x",
         "y": [
          -1.1266336026290675,
          -5.118878211166063,
          0.18278978026016815
         ],
         "yaxis": "y"
        },
        {
         "hovertemplate": "color=Neoctantes<br>PCA1=%{x}<br>PCA2=%{y}<extra></extra>",
         "legendgroup": "Neoctantes",
         "marker": {
          "color": "#FF97FF",
          "symbol": "circle"
         },
         "mode": "markers",
         "name": "Neoctantes",
         "showlegend": true,
         "type": "scattergl",
         "x": [
          0.8576058055262001,
          0.14653922653666532,
          1.4990291920794934,
          2.4214744555583834
         ],
         "xaxis": "x",
         "y": [
          -1.9857606668180228,
          -1.1938239023446995,
          -2.0104825321058923,
          4.7557748807486675
         ],
         "yaxis": "y"
        },
        {
         "hovertemplate": "color=Neomorphus<br>PCA1=%{x}<br>PCA2=%{y}<extra></extra>",
         "legendgroup": "Neomorphus",
         "marker": {
          "color": "#FECB52",
          "symbol": "circle"
         },
         "mode": "markers",
         "name": "Neomorphus",
         "showlegend": true,
         "type": "scattergl",
         "x": [
          -0.8010155347962821
         ],
         "xaxis": "x",
         "y": [
          0.3226159892889023
         ],
         "yaxis": "y"
        },
        {
         "hovertemplate": "color=Neopelma<br>PCA1=%{x}<br>PCA2=%{y}<extra></extra>",
         "legendgroup": "Neopelma",
         "marker": {
          "color": "#636efa",
          "symbol": "circle"
         },
         "mode": "markers",
         "name": "Neopelma",
         "showlegend": true,
         "type": "scattergl",
         "x": [
          -0.45370710319585683,
          -0.24485429059240973,
          -1.080139493470104
         ],
         "xaxis": "x",
         "y": [
          0.5926900676315371,
          0.9589103868341715,
          0.3191431312523335
         ],
         "yaxis": "y"
        },
        {
         "hovertemplate": "color=Neopipo<br>PCA1=%{x}<br>PCA2=%{y}<extra></extra>",
         "legendgroup": "Neopipo",
         "marker": {
          "color": "#EF553B",
          "symbol": "circle"
         },
         "mode": "markers",
         "name": "Neopipo",
         "showlegend": true,
         "type": "scattergl",
         "x": [
          -0.7102857451007506,
          -0.13268692608122987
         ],
         "xaxis": "x",
         "y": [
          0.5925011429998644,
          0.48708879825495094
         ],
         "yaxis": "y"
        },
        {
         "hovertemplate": "color=Nephelomyias<br>PCA1=%{x}<br>PCA2=%{y}<extra></extra>",
         "legendgroup": "Nephelomyias",
         "marker": {
          "color": "#00cc96",
          "symbol": "circle"
         },
         "mode": "markers",
         "name": "Nephelomyias",
         "showlegend": true,
         "type": "scattergl",
         "x": [
          -0.7049342552482917,
          -1.3543589638528317
         ],
         "xaxis": "x",
         "y": [
          0.3807838749364437,
          -0.07811561736630852
         ],
         "yaxis": "y"
        },
        {
         "hovertemplate": "color=Netta<br>PCA1=%{x}<br>PCA2=%{y}<extra></extra>",
         "legendgroup": "Netta",
         "marker": {
          "color": "#ab63fa",
          "symbol": "circle"
         },
         "mode": "markers",
         "name": "Netta",
         "showlegend": true,
         "type": "scattergl",
         "x": [
          -1.4479968324429369,
          -0.9590344065431892,
          -1.4650530626510958
         ],
         "xaxis": "x",
         "y": [
          -0.06981342191137896,
          -0.32729922918820675,
          -0.0746124009783059
         ],
         "yaxis": "y"
        },
        {
         "hovertemplate": "color=Nomonyx<br>PCA1=%{x}<br>PCA2=%{y}<extra></extra>",
         "legendgroup": "Nomonyx",
         "marker": {
          "color": "#FFA15A",
          "symbol": "circle"
         },
         "mode": "markers",
         "name": "Nomonyx",
         "showlegend": true,
         "type": "scattergl",
         "x": [
          3.290166292747272,
          -0.9188649506417422
         ],
         "xaxis": "x",
         "y": [
          0.42362312655689977,
          0.5050644191490845
         ],
         "yaxis": "y"
        },
        {
         "hovertemplate": "color=Nonnula<br>PCA1=%{x}<br>PCA2=%{y}<extra></extra>",
         "legendgroup": "Nonnula",
         "marker": {
          "color": "#19d3f3",
          "symbol": "circle"
         },
         "mode": "markers",
         "name": "Nonnula",
         "showlegend": true,
         "type": "scattergl",
         "x": [
          -0.7071979325716592,
          -0.9289789640369693,
          -0.2119933823277977,
          -1.0880725146076742
         ],
         "xaxis": "x",
         "y": [
          0.6401352716921618,
          -0.45094150310125114,
          -0.8781965848565952,
          -0.1492091359137815
         ],
         "yaxis": "y"
        },
        {
         "hovertemplate": "color=Notharchus<br>PCA1=%{x}<br>PCA2=%{y}<extra></extra>",
         "legendgroup": "Notharchus",
         "marker": {
          "color": "#FF6692",
          "symbol": "circle"
         },
         "mode": "markers",
         "name": "Notharchus",
         "showlegend": true,
         "type": "scattergl",
         "x": [
          2.3901957186830955,
          -0.9791903300784778,
          -0.44751177614720195,
          -0.8957436219932475,
          0.32182219267862955,
          -0.8407046553983845,
          -0.03471004969508185,
          -0.9142213215698197,
          -0.09378487851699065
         ],
         "xaxis": "x",
         "y": [
          2.608972858063706,
          0.49547261040415896,
          0.9710243094539296,
          0.8048071385804606,
          1.8246897663070774,
          0.3396549522184444,
          0.8662235407215607,
          0.9143029807881573,
          0.2710808731017844
         ],
         "yaxis": "y"
        },
        {
         "hovertemplate": "color=Nothocercus<br>PCA1=%{x}<br>PCA2=%{y}<extra></extra>",
         "legendgroup": "Nothocercus",
         "marker": {
          "color": "#B6E880",
          "symbol": "circle"
         },
         "mode": "markers",
         "name": "Nothocercus",
         "showlegend": true,
         "type": "scattergl",
         "x": [
          -0.9065121831306424,
          0.09614316365543417
         ],
         "xaxis": "x",
         "y": [
          -0.0019574693979446897,
          0.20757279268802464
         ],
         "yaxis": "y"
        },
        {
         "hovertemplate": "color=Nyctibius<br>PCA1=%{x}<br>PCA2=%{y}<extra></extra>",
         "legendgroup": "Nyctibius",
         "marker": {
          "color": "#FF97FF",
          "symbol": "circle"
         },
         "mode": "markers",
         "name": "Nyctibius",
         "showlegend": true,
         "type": "scattergl",
         "x": [
          -1.3206246664739758,
          -1.1977215982900804,
          0.8767648636710969,
          -0.5499682221225095,
          0.31001849084481076,
          -0.4385235067427074,
          -1.1015449838410196,
          0.126734386048078,
          10.249220709504936,
          3.413705834748789,
          0.46267843788430946,
          0.9679513585129148,
          -1.327844454743281
         ],
         "xaxis": "x",
         "y": [
          0.034863399051075765,
          0.23622521487358494,
          2.9406815323194877,
          1.263847444522405,
          0.7443472974481347,
          0.2569950257525108,
          -0.2388138508957617,
          2.1036967053948175,
          7.912663193310438,
          2.9914691655255403,
          2.122704062224213,
          2.037519138075805,
          0.16682483803002368
         ],
         "yaxis": "y"
        },
        {
         "hovertemplate": "color=Nycticorax<br>PCA1=%{x}<br>PCA2=%{y}<extra></extra>",
         "legendgroup": "Nycticorax",
         "marker": {
          "color": "#FECB52",
          "symbol": "circle"
         },
         "mode": "markers",
         "name": "Nycticorax",
         "showlegend": true,
         "type": "scattergl",
         "x": [
          -1.2038129550726187,
          -1.1350559060330199
         ],
         "xaxis": "x",
         "y": [
          -0.7644647386786262,
          0.3476659399505186
         ],
         "yaxis": "y"
        },
        {
         "hovertemplate": "color=Nyctidromus<br>PCA1=%{x}<br>PCA2=%{y}<extra></extra>",
         "legendgroup": "Nyctidromus",
         "marker": {
          "color": "#636efa",
          "symbol": "circle"
         },
         "mode": "markers",
         "name": "Nyctidromus",
         "showlegend": true,
         "type": "scattergl",
         "x": [
          -0.7948060773549444,
          18.590691474584514
         ],
         "xaxis": "x",
         "y": [
          -0.30735995509488717,
          5.130316428545947
         ],
         "yaxis": "y"
        },
        {
         "hovertemplate": "color=Nyctiphrynus<br>PCA1=%{x}<br>PCA2=%{y}<extra></extra>",
         "legendgroup": "Nyctiphrynus",
         "marker": {
          "color": "#EF553B",
          "symbol": "circle"
         },
         "mode": "markers",
         "name": "Nyctiphrynus",
         "showlegend": true,
         "type": "scattergl",
         "x": [
          -0.440319592487669,
          -0.7821521454184459,
          4.362875490831309,
          -0.7443571425845847
         ],
         "xaxis": "x",
         "y": [
          0.03201002440765745,
          -0.4842616529402545,
          0.46282546743472297,
          -0.2216322689467585
         ],
         "yaxis": "y"
        },
        {
         "hovertemplate": "color=Nyctipolus<br>PCA1=%{x}<br>PCA2=%{y}<extra></extra>",
         "legendgroup": "Nyctipolus",
         "marker": {
          "color": "#00cc96",
          "symbol": "circle"
         },
         "mode": "markers",
         "name": "Nyctipolus",
         "showlegend": true,
         "type": "scattergl",
         "x": [
          2.3307452264041095,
          -1.321423158215373,
          -0.6880548894792636,
          -1.0279126226287552
         ],
         "xaxis": "x",
         "y": [
          0.4445364277308106,
          0.02753026245717487,
          0.0242754146777818,
          0.18899138504117605
         ],
         "yaxis": "y"
        },
        {
         "hovertemplate": "color=Nystalus<br>PCA1=%{x}<br>PCA2=%{y}<extra></extra>",
         "legendgroup": "Nystalus",
         "marker": {
          "color": "#ab63fa",
          "symbol": "circle"
         },
         "mode": "markers",
         "name": "Nystalus",
         "showlegend": true,
         "type": "scattergl",
         "x": [
          -0.5155351692265613,
          -0.4040053990138226,
          -1.2612750707231384,
          -0.027234244780442916,
          0.5516029693752014,
          -0.019338204780373833
         ],
         "xaxis": "x",
         "y": [
          1.1185793122887095,
          -0.32199354576388173,
          -0.4423396336473646,
          0.6344089242301745,
          0.22305304181051278,
          0.30825923484917916
         ],
         "yaxis": "y"
        },
        {
         "hovertemplate": "color=Ochthoeca<br>PCA1=%{x}<br>PCA2=%{y}<extra></extra>",
         "legendgroup": "Ochthoeca",
         "marker": {
          "color": "#FFA15A",
          "symbol": "circle"
         },
         "mode": "markers",
         "name": "Ochthoeca",
         "showlegend": true,
         "type": "scattergl",
         "x": [
          -0.6257139660827081,
          0.10108303399357176,
          -0.27543616654284336
         ],
         "xaxis": "x",
         "y": [
          0.6653098735475588,
          0.4740354852440629,
          0.6855111369307592
         ],
         "yaxis": "y"
        },
        {
         "hovertemplate": "color=Ochthornis<br>PCA1=%{x}<br>PCA2=%{y}<extra></extra>",
         "legendgroup": "Ochthornis",
         "marker": {
          "color": "#19d3f3",
          "symbol": "circle"
         },
         "mode": "markers",
         "name": "Ochthornis",
         "showlegend": true,
         "type": "scattergl",
         "x": [
          -1.2696395638632265,
          -0.5418839472919478,
          -0.5238977173968484
         ],
         "xaxis": "x",
         "y": [
          0.1958219480093798,
          0.27426398565412835,
          0.2578412675176941
         ],
         "yaxis": "y"
        },
        {
         "hovertemplate": "color=Ocreatus<br>PCA1=%{x}<br>PCA2=%{y}<extra></extra>",
         "legendgroup": "Ocreatus",
         "marker": {
          "color": "#FF6692",
          "symbol": "circle"
         },
         "mode": "markers",
         "name": "Ocreatus",
         "showlegend": true,
         "type": "scattergl",
         "x": [
          -0.76626243537474,
          0.024232473423840148
         ],
         "xaxis": "x",
         "y": [
          -0.199415111303447,
          0.44843156344182644
         ],
         "yaxis": "y"
        },
        {
         "hovertemplate": "color=Odontophorus<br>PCA1=%{x}<br>PCA2=%{y}<extra></extra>",
         "legendgroup": "Odontophorus",
         "marker": {
          "color": "#B6E880",
          "symbol": "circle"
         },
         "mode": "markers",
         "name": "Odontophorus",
         "showlegend": true,
         "type": "scattergl",
         "x": [
          -0.9954955601561901,
          -1.0741766788599536,
          -0.8334198331891731,
          0.6226457182435473,
          0.4696369681940698,
          -1.1096774989212455,
          1.4697459218431659,
          0.8708387667064413,
          -1.2101741567065443,
          -0.6214226089756557,
          -0.8480068143966721,
          -1.2764078790974829
         ],
         "xaxis": "x",
         "y": [
          0.6073593422872345,
          0.5205906044945263,
          0.07075927847860662,
          0.18249977228894249,
          -0.23928853683492005,
          -0.5257702523787349,
          0.15591268854393964,
          -0.12411329729962897,
          -0.41461797248535825,
          -0.09276335531587014,
          -0.5335603990194374,
          -0.005845668389000364
         ],
         "yaxis": "y"
        },
        {
         "hovertemplate": "color=Odontorchilus<br>PCA1=%{x}<br>PCA2=%{y}<extra></extra>",
         "legendgroup": "Odontorchilus",
         "marker": {
          "color": "#FF97FF",
          "symbol": "circle"
         },
         "mode": "markers",
         "name": "Odontorchilus",
         "showlegend": true,
         "type": "scattergl",
         "x": [
          -0.10718920691888802,
          -0.6205489223474682,
          0.40716701486946766
         ],
         "xaxis": "x",
         "y": [
          -0.22931285266864337,
          0.4910905857194124,
          0.9051161787115076
         ],
         "yaxis": "y"
        },
        {
         "hovertemplate": "color=Oneillornis<br>PCA1=%{x}<br>PCA2=%{y}<extra></extra>",
         "legendgroup": "Oneillornis",
         "marker": {
          "color": "#FECB52",
          "symbol": "circle"
         },
         "mode": "markers",
         "name": "Oneillornis",
         "showlegend": true,
         "type": "scattergl",
         "x": [
          -0.17328650756887495,
          0.5306531761894862
         ],
         "xaxis": "x",
         "y": [
          1.066523956178828,
          0.16795852156227709
         ],
         "yaxis": "y"
        },
        {
         "hovertemplate": "color=Onychorhynchus<br>PCA1=%{x}<br>PCA2=%{y}<extra></extra>",
         "legendgroup": "Onychorhynchus",
         "marker": {
          "color": "#636efa",
          "symbol": "circle"
         },
         "mode": "markers",
         "name": "Onychorhynchus",
         "showlegend": true,
         "type": "scattergl",
         "x": [
          -0.15010442497823237,
          -0.1368927373765903
         ],
         "xaxis": "x",
         "y": [
          0.5439215750309024,
          0.6009645928431028
         ],
         "yaxis": "y"
        },
        {
         "hovertemplate": "color=Opisthocomus<br>PCA1=%{x}<br>PCA2=%{y}<extra></extra>",
         "legendgroup": "Opisthocomus",
         "marker": {
          "color": "#EF553B",
          "symbol": "circle"
         },
         "mode": "markers",
         "name": "Opisthocomus",
         "showlegend": true,
         "type": "scattergl",
         "x": [
          -0.6893542819597819,
          -0.8363702547286744,
          0.011238365607448834
         ],
         "xaxis": "x",
         "y": [
          -0.1958658257541045,
          0.2859778401638426,
          0.13518828172911473
         ],
         "yaxis": "y"
        },
        {
         "hovertemplate": "color=Oporornis<br>PCA1=%{x}<br>PCA2=%{y}<extra></extra>",
         "legendgroup": "Oporornis",
         "marker": {
          "color": "#00cc96",
          "symbol": "circle"
         },
         "mode": "markers",
         "name": "Oporornis",
         "showlegend": true,
         "type": "scattergl",
         "x": [
          2.5220021506241355,
          -0.02918500890467688,
          17.539562137169792
         ],
         "xaxis": "x",
         "y": [
          2.606170630784486,
          0.8781482903661982,
          5.762251092401811
         ],
         "yaxis": "y"
        },
        {
         "hovertemplate": "color=Oreopholus<br>PCA1=%{x}<br>PCA2=%{y}<extra></extra>",
         "legendgroup": "Oreopholus",
         "marker": {
          "color": "#ab63fa",
          "symbol": "circle"
         },
         "mode": "markers",
         "name": "Oreopholus",
         "showlegend": true,
         "type": "scattergl",
         "x": [
          0.31706026314795,
          -1.5168168790502368,
          -1.0910199773447864
         ],
         "xaxis": "x",
         "y": [
          -0.05657995983227357,
          -0.24103426824404556,
          -0.397558011736421
         ],
         "yaxis": "y"
        },
        {
         "hovertemplate": "color=Ornithion<br>PCA1=%{x}<br>PCA2=%{y}<extra></extra>",
         "legendgroup": "Ornithion",
         "marker": {
          "color": "#FFA15A",
          "symbol": "circle"
         },
         "mode": "markers",
         "name": "Ornithion",
         "showlegend": true,
         "type": "scattergl",
         "x": [
          -1.18274864853053,
          -0.5748871148987633,
          -1.1746737221347927
         ],
         "xaxis": "x",
         "y": [
          0.036787942940736715,
          -0.05025914680325292,
          0.10848557294003543
         ],
         "yaxis": "y"
        },
        {
         "hovertemplate": "color=Ortalis<br>PCA1=%{x}<br>PCA2=%{y}<extra></extra>",
         "legendgroup": "Ortalis",
         "marker": {
          "color": "#19d3f3",
          "symbol": "circle"
         },
         "mode": "markers",
         "name": "Ortalis",
         "showlegend": true,
         "type": "scattergl",
         "x": [
          -0.7757280220238877,
          0.07105372091265412
         ],
         "xaxis": "x",
         "y": [
          0.5966198229779458,
          0.6007391370403696
         ],
         "yaxis": "y"
        },
        {
         "hovertemplate": "color=Orthopsittaca<br>PCA1=%{x}<br>PCA2=%{y}<extra></extra>",
         "legendgroup": "Orthopsittaca",
         "marker": {
          "color": "#FF6692",
          "symbol": "circle"
         },
         "mode": "markers",
         "name": "Orthopsittaca",
         "showlegend": true,
         "type": "scattergl",
         "x": [
          0.42145861846661253,
          -1.181589302014583,
          -0.8813956209733353,
          -0.9964790471228291,
          -0.6164750166083481
         ],
         "xaxis": "x",
         "y": [
          0.5187538247188224,
          -0.1198987097958555,
          -0.37259431605611654,
          -0.19988150735607552,
          -0.27645469206895484
         ],
         "yaxis": "y"
        },
        {
         "hovertemplate": "color=Oxyruncus<br>PCA1=%{x}<br>PCA2=%{y}<extra></extra>",
         "legendgroup": "Oxyruncus",
         "marker": {
          "color": "#B6E880",
          "symbol": "circle"
         },
         "mode": "markers",
         "name": "Oxyruncus",
         "showlegend": true,
         "type": "scattergl",
         "x": [
          -1.3087546010111086,
          -1.387184360546214
         ],
         "xaxis": "x",
         "y": [
          0.343834262431051,
          0.12211108235044954
         ],
         "yaxis": "y"
        },
        {
         "hovertemplate": "color=Oxyura<br>PCA1=%{x}<br>PCA2=%{y}<extra></extra>",
         "legendgroup": "Oxyura",
         "marker": {
          "color": "#FF97FF",
          "symbol": "circle"
         },
         "mode": "markers",
         "name": "Oxyura",
         "showlegend": true,
         "type": "scattergl",
         "x": [
          0.5473828270345931,
          -1.2661277055369384
         ],
         "xaxis": "x",
         "y": [
          0.009390203776486607,
          -0.038901826039619176
         ],
         "yaxis": "y"
        },
        {
         "hovertemplate": "color=Pachyramphus<br>PCA1=%{x}<br>PCA2=%{y}<extra></extra>",
         "legendgroup": "Pachyramphus",
         "marker": {
          "color": "#FECB52",
          "symbol": "circle"
         },
         "mode": "markers",
         "name": "Pachyramphus",
         "showlegend": true,
         "type": "scattergl",
         "x": [
          0.8283427179879377,
          -1.4175203213272005,
          -0.9507508462644928,
          -1.3978693209455078,
          0.47466448714123644,
          -1.5310258522033293,
          1.8165120073365828,
          -1.6308275574357918,
          -0.1589450034189459,
          0.3894009829905725,
          -1.0013162679913112,
          -0.07411174760403581,
          -0.2721118335810904,
          -1.2837727224550592,
          0.4947973546412958,
          -0.7962516283729888,
          -0.16559729298492867,
          -1.4976895392713643,
          -0.9533239662555035
         ],
         "xaxis": "x",
         "y": [
          0.6442470665235646,
          -0.026820645553414964,
          0.3613307480171326,
          -0.2481996907867518,
          0.0962676222957491,
          -0.20494074982784533,
          1.220113062243717,
          -0.16254875825948023,
          0.6272169283810617,
          1.3922388080738508,
          0.408365787420558,
          1.0886528614726674,
          1.310574208937803,
          -0.2502201341196367,
          0.08612863594402112,
          0.26575907379709196,
          -0.5302877981382873,
          -0.09932427585197529,
          -0.5385233984505482
         ],
         "yaxis": "y"
        },
        {
         "hovertemplate": "color=Panyptila<br>PCA1=%{x}<br>PCA2=%{y}<extra></extra>",
         "legendgroup": "Panyptila",
         "marker": {
          "color": "#636efa",
          "symbol": "circle"
         },
         "mode": "markers",
         "name": "Panyptila",
         "showlegend": true,
         "type": "scattergl",
         "x": [
          -1.0019846121752607,
          1.0541382460438709,
          -0.35613434588834947
         ],
         "xaxis": "x",
         "y": [
          0.48325920069919287,
          0.13677796574722087,
          0.030424357196500846
         ],
         "yaxis": "y"
        },
        {
         "hovertemplate": "color=Parabuteo<br>PCA1=%{x}<br>PCA2=%{y}<extra></extra>",
         "legendgroup": "Parabuteo",
         "marker": {
          "color": "#EF553B",
          "symbol": "circle"
         },
         "mode": "markers",
         "name": "Parabuteo",
         "showlegend": true,
         "type": "scattergl",
         "x": [
          1.2944241794020162,
          0.5459931111749308,
          -1.2908079757484465
         ],
         "xaxis": "x",
         "y": [
          -0.4468993736704831,
          1.8142345174154206,
          -0.2530379576314787
         ],
         "yaxis": "y"
        },
        {
         "hovertemplate": "color=Pardirallus<br>PCA1=%{x}<br>PCA2=%{y}<extra></extra>",
         "legendgroup": "Pardirallus",
         "marker": {
          "color": "#00cc96",
          "symbol": "circle"
         },
         "mode": "markers",
         "name": "Pardirallus",
         "showlegend": true,
         "type": "scattergl",
         "x": [
          -1.199416122220067,
          0.6232929255175148,
          0.5877582635033195,
          -0.6177820241219182
         ],
         "xaxis": "x",
         "y": [
          0.09418479363172544,
          -0.14585606665244458,
          0.8067186633062652,
          -0.10248647097926987
         ],
         "yaxis": "y"
        },
        {
         "hovertemplate": "color=Parkerthraustes<br>PCA1=%{x}<br>PCA2=%{y}<extra></extra>",
         "legendgroup": "Parkerthraustes",
         "marker": {
          "color": "#ab63fa",
          "symbol": "circle"
         },
         "mode": "markers",
         "name": "Parkerthraustes",
         "showlegend": true,
         "type": "scattergl",
         "x": [
          -0.9830754353617673
         ],
         "xaxis": "x",
         "y": [
          0.11276882282653021
         ],
         "yaxis": "y"
        },
        {
         "hovertemplate": "color=Paroaria<br>PCA1=%{x}<br>PCA2=%{y}<extra></extra>",
         "legendgroup": "Paroaria",
         "marker": {
          "color": "#FFA15A",
          "symbol": "circle"
         },
         "mode": "markers",
         "name": "Paroaria",
         "showlegend": true,
         "type": "scattergl",
         "x": [
          0.3535356102487196,
          -1.45544835604874,
          5.21661350394421
         ],
         "xaxis": "x",
         "y": [
          -0.6577570796591564,
          0.03446659620555325,
          1.0790920521793528
         ],
         "yaxis": "y"
        },
        {
         "hovertemplate": "color=Passer<br>PCA1=%{x}<br>PCA2=%{y}<extra></extra>",
         "legendgroup": "Passer",
         "marker": {
          "color": "#19d3f3",
          "symbol": "circle"
         },
         "mode": "markers",
         "name": "Passer",
         "showlegend": true,
         "type": "scattergl",
         "x": [
          0.04790969063596371,
          0.2582482471771151
         ],
         "xaxis": "x",
         "y": [
          -1.2610882234154812,
          -0.23164064451036953
         ],
         "yaxis": "y"
        },
        {
         "hovertemplate": "color=Patagioenas<br>PCA1=%{x}<br>PCA2=%{y}<extra></extra>",
         "legendgroup": "Patagioenas",
         "marker": {
          "color": "#FF6692",
          "symbol": "circle"
         },
         "mode": "markers",
         "name": "Patagioenas",
         "showlegend": true,
         "type": "scattergl",
         "x": [
          6.611614156885922,
          -1.1872860810885764,
          -0.1070567392183507,
          -1.1943696082723239,
          4.089551130359473,
          1.2857576899720162,
          -0.9837173630927526,
          -0.16835588282119168,
          0.2406486204872488,
          -0.6779466171788691,
          -0.05347746797594244,
          0.9960161657460501,
          -0.1490044695018665,
          -1.504257592522713,
          -0.6143877728945538,
          -1.4307180145429361,
          0.31843644815872474,
          1.9008766020325705,
          -0.23786511491414677
         ],
         "xaxis": "x",
         "y": [
          -0.0764032738725584,
          -0.4901987498871201,
          1.8028114583674146,
          0.353965259839203,
          -0.46806089725131106,
          -0.6881811039034651,
          -0.34520709648396486,
          1.1231901299665188,
          0.28351432223127204,
          0.17822383342416362,
          0.17599626652386746,
          2.666345142343991,
          0.18716607621099907,
          -0.04268686818008117,
          -0.0400732872026347,
          -0.030636555082590396,
          0.3214771542755577,
          -0.2699010793140686,
          0.24538984577598327
         ],
         "yaxis": "y"
        },
        {
         "hovertemplate": "color=Pauxi<br>PCA1=%{x}<br>PCA2=%{y}<extra></extra>",
         "legendgroup": "Pauxi",
         "marker": {
          "color": "#B6E880",
          "symbol": "circle"
         },
         "mode": "markers",
         "name": "Pauxi",
         "showlegend": true,
         "type": "scattergl",
         "x": [
          -0.5725920854688743
         ],
         "xaxis": "x",
         "y": [
          0.4087702360148359
         ],
         "yaxis": "y"
        },
        {
         "hovertemplate": "color=Penelope<br>PCA1=%{x}<br>PCA2=%{y}<extra></extra>",
         "legendgroup": "Penelope",
         "marker": {
          "color": "#FF97FF",
          "symbol": "circle"
         },
         "mode": "markers",
         "name": "Penelope",
         "showlegend": true,
         "type": "scattergl",
         "x": [
          6.529736185582557,
          -1.1890793116949245,
          -0.5661723915141056
         ],
         "xaxis": "x",
         "y": [
          -3.3219034003177494,
          0.15910273420463128,
          -0.11054594280908889
         ],
         "yaxis": "y"
        },
        {
         "hovertemplate": "color=Petrochelidon<br>PCA1=%{x}<br>PCA2=%{y}<extra></extra>",
         "legendgroup": "Petrochelidon",
         "marker": {
          "color": "#FECB52",
          "symbol": "circle"
         },
         "mode": "markers",
         "name": "Petrochelidon",
         "showlegend": true,
         "type": "scattergl",
         "x": [
          -0.5751983543020835,
          0.6614795377861197,
          -0.7952630242569533
         ],
         "xaxis": "x",
         "y": [
          -0.42310212601686836,
          -0.25903450720445337,
          -0.5289810158486942
         ],
         "yaxis": "y"
        },
        {
         "hovertemplate": "color=Phaeomyias<br>PCA1=%{x}<br>PCA2=%{y}<extra></extra>",
         "legendgroup": "Phaeomyias",
         "marker": {
          "color": "#636efa",
          "symbol": "circle"
         },
         "mode": "markers",
         "name": "Phaeomyias",
         "showlegend": true,
         "type": "scattergl",
         "x": [
          -1.0091287399955953,
          0.48647543836206064,
          -1.2601032960940475,
          -0.39629145706026675,
          -0.6005868817538225
         ],
         "xaxis": "x",
         "y": [
          0.6403413678876863,
          0.29592531714628023,
          0.14218329002527869,
          0.009993911510699569,
          0.5144521281220713
         ],
         "yaxis": "y"
        },
        {
         "hovertemplate": "color=Phaethornis<br>PCA1=%{x}<br>PCA2=%{y}<extra></extra>",
         "legendgroup": "Phaethornis",
         "marker": {
          "color": "#EF553B",
          "symbol": "circle"
         },
         "mode": "markers",
         "name": "Phaethornis",
         "showlegend": true,
         "type": "scattergl",
         "x": [
          2.031919996645298,
          0.06765906060110466,
          0.31552955583392667,
          0.2730429166771365,
          0.45523757446553387,
          -0.39607566306977227,
          1.675420017479842,
          -1.2945516699485127,
          10.243022456425077,
          2.975714723231129,
          1.7997459805736566,
          -0.430045846364502,
          -0.419456521828919,
          0.8008065601758088,
          -0.7274968455910178,
          -0.5414015282881008,
          -1.5135768468361597
         ],
         "xaxis": "x",
         "y": [
          -2.0349810430370128,
          -1.0494683130291982,
          0.53298566553082,
          -0.9246359229208778,
          -1.3698678955629588,
          -1.0182787865240126,
          0.1780956831099111,
          -0.22062826747730718,
          -1.469457112034303,
          -2.28079962123508,
          -2.311070058014858,
          -0.8298073770659262,
          -0.1952160131832144,
          0.26965070506019484,
          -0.23196524573451216,
          0.13949150649500927,
          0.12302505093812949
         ],
         "yaxis": "y"
        },
        {
         "hovertemplate": "color=Phaetusa<br>PCA1=%{x}<br>PCA2=%{y}<extra></extra>",
         "legendgroup": "Phaetusa",
         "marker": {
          "color": "#00cc96",
          "symbol": "circle"
         },
         "mode": "markers",
         "name": "Phaetusa",
         "showlegend": true,
         "type": "scattergl",
         "x": [
          -0.8289461906188504,
          1.6484443929936334
         ],
         "xaxis": "x",
         "y": [
          -0.03912538044739946,
          -0.8670797028997175
         ],
         "yaxis": "y"
        },
        {
         "hovertemplate": "color=Phalacrocorax<br>PCA1=%{x}<br>PCA2=%{y}<extra></extra>",
         "legendgroup": "Phalacrocorax",
         "marker": {
          "color": "#ab63fa",
          "symbol": "circle"
         },
         "mode": "markers",
         "name": "Phalacrocorax",
         "showlegend": true,
         "type": "scattergl",
         "x": [
          -1.0058013783800508,
          1.7400194528156334
         ],
         "xaxis": "x",
         "y": [
          -0.1705978841515679,
          0.2162639290664532
         ],
         "yaxis": "y"
        },
        {
         "hovertemplate": "color=Phalaropus<br>PCA1=%{x}<br>PCA2=%{y}<extra></extra>",
         "legendgroup": "Phalaropus",
         "marker": {
          "color": "#FFA15A",
          "symbol": "circle"
         },
         "mode": "markers",
         "name": "Phalaropus",
         "showlegend": true,
         "type": "scattergl",
         "x": [
          2.9376976021536496,
          -1.2059575113104701
         ],
         "xaxis": "x",
         "y": [
          0.893558670849884,
          -0.29469842964666865
         ],
         "yaxis": "y"
        },
        {
         "hovertemplate": "color=Pharomachrus<br>PCA1=%{x}<br>PCA2=%{y}<extra></extra>",
         "legendgroup": "Pharomachrus",
         "marker": {
          "color": "#19d3f3",
          "symbol": "circle"
         },
         "mode": "markers",
         "name": "Pharomachrus",
         "showlegend": true,
         "type": "scattergl",
         "x": [
          -0.6195374072629473,
          0.7195649202051817,
          -1.3898133677218198,
          -0.019489501261835046,
          0.7916140149100203,
          0.8563312756455126,
          0.09100890193584894,
          -1.34530484229252
         ],
         "xaxis": "x",
         "y": [
          0.012331870968562449,
          -0.020745415097630004,
          -0.42545737607796086,
          0.41747803078509793,
          -0.08556216548195657,
          0.5095545015176925,
          0.05530775901918278,
          -0.03180094907918075
         ],
         "yaxis": "y"
        },
        {
         "hovertemplate": "color=Pheucticus<br>PCA1=%{x}<br>PCA2=%{y}<extra></extra>",
         "legendgroup": "Pheucticus",
         "marker": {
          "color": "#FF6692",
          "symbol": "circle"
         },
         "mode": "markers",
         "name": "Pheucticus",
         "showlegend": true,
         "type": "scattergl",
         "x": [
          -0.1765549856268886,
          0.8245224585759336,
          -0.7529464539053797,
          -1.2151888360662049
         ],
         "xaxis": "x",
         "y": [
          0.059993189578205916,
          1.0386729245719233,
          0.1862633182847249,
          -0.05446454042214814
         ],
         "yaxis": "y"
        },
        {
         "hovertemplate": "color=Pheugopedius<br>PCA1=%{x}<br>PCA2=%{y}<extra></extra>",
         "legendgroup": "Pheugopedius",
         "marker": {
          "color": "#B6E880",
          "symbol": "circle"
         },
         "mode": "markers",
         "name": "Pheugopedius",
         "showlegend": true,
         "type": "scattergl",
         "x": [
          1.045046381984749,
          -1.14906806457874,
          1.1797842356089114,
          -0.21676682891844362,
          -0.20650310643460748,
          0.12526191580684068
         ],
         "xaxis": "x",
         "y": [
          0.05939937435728636,
          -0.4981110450900507,
          0.9950939828496493,
          -0.4989644142434461,
          0.7467604582683711,
          -0.9644410278594219
         ],
         "yaxis": "y"
        },
        {
         "hovertemplate": "color=Philydor<br>PCA1=%{x}<br>PCA2=%{y}<extra></extra>",
         "legendgroup": "Philydor",
         "marker": {
          "color": "#FF97FF",
          "symbol": "circle"
         },
         "mode": "markers",
         "name": "Philydor",
         "showlegend": true,
         "type": "scattergl",
         "x": [
          -0.4388513254110199,
          -1.3387167593140936,
          -1.1102887139386042,
          -1.1754012982249549,
          -0.927541223113895,
          2.232742595210173,
          -0.41227612341473124,
          -0.49716600660040866,
          0.5103315169914587,
          -1.1566006454240911,
          0.716531103511377
         ],
         "xaxis": "x",
         "y": [
          -0.15589256349201658,
          0.03973258204348864,
          0.3668202893895001,
          0.4936356169101102,
          -0.6140957187482408,
          1.3920041234764502,
          -0.26987711986816515,
          0.3110562815783302,
          1.4377503525732922,
          0.09128318879621797,
          -0.5773540909288393
         ],
         "yaxis": "y"
        },
        {
         "hovertemplate": "color=Phlegopsis<br>PCA1=%{x}<br>PCA2=%{y}<extra></extra>",
         "legendgroup": "Phlegopsis",
         "marker": {
          "color": "#FECB52",
          "symbol": "circle"
         },
         "mode": "markers",
         "name": "Phlegopsis",
         "showlegend": true,
         "type": "scattergl",
         "x": [
          1.5934142316047515,
          -1.1182700468816984,
          -1.0969189841267062,
          -0.2425807343507859,
          -0.93320852598957,
          -0.5884533017504794,
          0.5901633512620532,
          -0.7316934773334833
         ],
         "xaxis": "x",
         "y": [
          0.45395302777516594,
          0.2982614084266689,
          -0.2436353089417609,
          -0.15794773664177755,
          0.6131294454608075,
          0.8098578121540007,
          0.1797099390667532,
          0.32290277719999383
         ],
         "yaxis": "y"
        },
        {
         "hovertemplate": "color=Phleocryptes<br>PCA1=%{x}<br>PCA2=%{y}<extra></extra>",
         "legendgroup": "Phleocryptes",
         "marker": {
          "color": "#636efa",
          "symbol": "circle"
         },
         "mode": "markers",
         "name": "Phleocryptes",
         "showlegend": true,
         "type": "scattergl",
         "x": [
          1.8326471690973922,
          -1.2348468102336572,
          -1.0157022054851557
         ],
         "xaxis": "x",
         "y": [
          1.36705147605336,
          -0.5623728062822941,
          -0.011728645639393543
         ],
         "yaxis": "y"
        },
        {
         "hovertemplate": "color=Phlogophilus<br>PCA1=%{x}<br>PCA2=%{y}<extra></extra>",
         "legendgroup": "Phlogophilus",
         "marker": {
          "color": "#EF553B",
          "symbol": "circle"
         },
         "mode": "markers",
         "name": "Phlogophilus",
         "showlegend": true,
         "type": "scattergl",
         "x": [
          -0.1238928441443189,
          -0.2555292451264388,
          -1.594715004445922
         ],
         "xaxis": "x",
         "y": [
          -0.58034337414992,
          0.5916194770190731,
          -0.07598730873440762
         ],
         "yaxis": "y"
        },
        {
         "hovertemplate": "color=Phrygilus<br>PCA1=%{x}<br>PCA2=%{y}<extra></extra>",
         "legendgroup": "Phrygilus",
         "marker": {
          "color": "#00cc96",
          "symbol": "circle"
         },
         "mode": "markers",
         "name": "Phrygilus",
         "showlegend": true,
         "type": "scattergl",
         "x": [
          -1.0875434172696552,
          -0.7772918646520212,
          2.94641287196407
         ],
         "xaxis": "x",
         "y": [
          0.06500226523410298,
          -0.2832824270112028,
          1.3101373403959338
         ],
         "yaxis": "y"
        },
        {
         "hovertemplate": "color=Phyllomyias<br>PCA1=%{x}<br>PCA2=%{y}<extra></extra>",
         "legendgroup": "Phyllomyias",
         "marker": {
          "color": "#ab63fa",
          "symbol": "circle"
         },
         "mode": "markers",
         "name": "Phyllomyias",
         "showlegend": true,
         "type": "scattergl",
         "x": [
          0.7904639457685142,
          0.2230704614261381,
          1.392766378926946,
          -1.0636225268403592,
          -0.7237926851205113,
          2.486119512444549,
          -0.7460918405367878,
          -1.2547670181093837,
          4.22844459108001,
          0.5681844769206923,
          -1.456741670888802,
          1.0204354655699464,
          0.042692960291295795,
          -0.960225149883289
         ],
         "xaxis": "x",
         "y": [
          -0.4287162438769285,
          -0.2830523660350494,
          -0.7227407851857964,
          -0.22218312348810793,
          1.0864828497616936,
          0.7419165378338444,
          -0.07532979495761548,
          0.20220858909622078,
          2.9334796421228346,
          0.7939639500842911,
          -0.00957047835545683,
          -0.04833085687895947,
          -0.3358927014060671,
          -0.2260100397771215
         ],
         "yaxis": "y"
        },
        {
         "hovertemplate": "color=Phylloscartes<br>PCA1=%{x}<br>PCA2=%{y}<extra></extra>",
         "legendgroup": "Phylloscartes",
         "marker": {
          "color": "#FFA15A",
          "symbol": "circle"
         },
         "mode": "markers",
         "name": "Phylloscartes",
         "showlegend": true,
         "type": "scattergl",
         "x": [
          -0.830835170062855,
          -1.1537031033644356,
          -0.9784656529295761,
          -1.1219216744705143,
          -0.7881811803093466
         ],
         "xaxis": "x",
         "y": [
          0.21838694143055382,
          0.019917160430269018,
          0.14864558724643112,
          -0.22097364056309984,
          -0.16967544192439274
         ],
         "yaxis": "y"
        },
        {
         "hovertemplate": "color=Piaya<br>PCA1=%{x}<br>PCA2=%{y}<extra></extra>",
         "legendgroup": "Piaya",
         "marker": {
          "color": "#19d3f3",
          "symbol": "circle"
         },
         "mode": "markers",
         "name": "Piaya",
         "showlegend": true,
         "type": "scattergl",
         "x": [
          -1.459845812371868,
          -1.3775729171708513,
          -0.19959614557100247,
          0.6278159555646751,
          -0.23931767660330042,
          -1.3860424961131057
         ],
         "xaxis": "x",
         "y": [
          -0.02073106442243889,
          0.09668686602608834,
          -0.5512880960890596,
          0.1562097929084263,
          -0.6895891043785779,
          -0.14648992372017622
         ],
         "yaxis": "y"
        },
        {
         "hovertemplate": "color=Piculus<br>PCA1=%{x}<br>PCA2=%{y}<extra></extra>",
         "legendgroup": "Piculus",
         "marker": {
          "color": "#FF6692",
          "symbol": "circle"
         },
         "mode": "markers",
         "name": "Piculus",
         "showlegend": true,
         "type": "scattergl",
         "x": [
          -1.5771538400413445,
          -0.9976533000092765,
          -0.7226422422907852,
          -0.6165580712495847,
          -1.6186820656183418,
          -1.3623940040201568,
          3.2853672944113543
         ],
         "xaxis": "x",
         "y": [
          -0.1961355215814457,
          0.40679165671663714,
          -0.03329335717066323,
          1.104687421449231,
          -0.155084391308707,
          0.34734904805555494,
          4.754289087653742
         ],
         "yaxis": "y"
        },
        {
         "hovertemplate": "color=Picumnus<br>PCA1=%{x}<br>PCA2=%{y}<extra></extra>",
         "legendgroup": "Picumnus",
         "marker": {
          "color": "#B6E880",
          "symbol": "circle"
         },
         "mode": "markers",
         "name": "Picumnus",
         "showlegend": true,
         "type": "scattergl",
         "x": [
          -0.6969180677096991,
          2.1339733300556216,
          0.06901448564609212,
          -0.6555214455972399,
          -0.3469252624575442,
          -0.9769279999523638,
          -1.5306237275819632,
          -0.2350345064729475,
          -0.26813900550309683,
          -0.35973846636276946,
          3.312170024269143
         ],
         "xaxis": "x",
         "y": [
          0.329245347867271,
          1.012109437748742,
          0.9059356533082,
          0.7990813313267313,
          0.16804514113139718,
          0.04343894536354206,
          -0.013299091979385173,
          0.2577767202962833,
          0.31018303123472435,
          -0.34339023073527863,
          1.589388307224546
         ],
         "yaxis": "y"
        },
        {
         "hovertemplate": "color=Pilherodius<br>PCA1=%{x}<br>PCA2=%{y}<extra></extra>",
         "legendgroup": "Pilherodius",
         "marker": {
          "color": "#FF97FF",
          "symbol": "circle"
         },
         "mode": "markers",
         "name": "Pilherodius",
         "showlegend": true,
         "type": "scattergl",
         "x": [
          -1.6048890799722113,
          3.8459415723130146
         ],
         "xaxis": "x",
         "y": [
          -0.14871669017981715,
          2.440330272055541
         ],
         "yaxis": "y"
        },
        {
         "hovertemplate": "color=Pionites<br>PCA1=%{x}<br>PCA2=%{y}<extra></extra>",
         "legendgroup": "Pionites",
         "marker": {
          "color": "#FECB52",
          "symbol": "circle"
         },
         "mode": "markers",
         "name": "Pionites",
         "showlegend": true,
         "type": "scattergl",
         "x": [
          -0.03957548560392899,
          3.430986953277987
         ],
         "xaxis": "x",
         "y": [
          1.1113658569943512,
          -4.85499340099826
         ],
         "yaxis": "y"
        },
        {
         "hovertemplate": "color=Pionus<br>PCA1=%{x}<br>PCA2=%{y}<extra></extra>",
         "legendgroup": "Pionus",
         "marker": {
          "color": "#636efa",
          "symbol": "circle"
         },
         "mode": "markers",
         "name": "Pionus",
         "showlegend": true,
         "type": "scattergl",
         "x": [
          -0.7664053478200953,
          -0.48118423250425935,
          1.8225387527123977,
          -1.4291952267674224,
          -1.3131798805615547,
          0.7729769488732131,
          -0.1837581965040622,
          -0.4700895967245627
         ],
         "xaxis": "x",
         "y": [
          -0.07073850289762783,
          -0.11534515989247016,
          -0.0867837558063419,
          -0.25790345165251444,
          -0.37519457775374615,
          -0.8243415596707174,
          0.12443846174751128,
          -0.17517293922977956
         ],
         "yaxis": "y"
        },
        {
         "hovertemplate": "color=Pipile<br>PCA1=%{x}<br>PCA2=%{y}<extra></extra>",
         "legendgroup": "Pipile",
         "marker": {
          "color": "#EF553B",
          "symbol": "circle"
         },
         "mode": "markers",
         "name": "Pipile",
         "showlegend": true,
         "type": "scattergl",
         "x": [
          -0.6904988474982617,
          -0.04159221263556122,
          -0.7498918345603005,
          0.25729728440609534
         ],
         "xaxis": "x",
         "y": [
          -0.3975699550842107,
          -1.0365177486090018,
          -0.23261264246344415,
          -2.106450698319922
         ],
         "yaxis": "y"
        },
        {
         "hovertemplate": "color=Pipra<br>PCA1=%{x}<br>PCA2=%{y}<extra></extra>",
         "legendgroup": "Pipra",
         "marker": {
          "color": "#00cc96",
          "symbol": "circle"
         },
         "mode": "markers",
         "name": "Pipra",
         "showlegend": true,
         "type": "scattergl",
         "x": [
          -0.5454434573844611,
          -1.5456504354947866,
          1.0739019937001757,
          0.40659331579487734
         ],
         "xaxis": "x",
         "y": [
          0.5171677555743621,
          -0.027236156703795315,
          2.003383252323551,
          1.0163068436981184
         ],
         "yaxis": "y"
        },
        {
         "hovertemplate": "color=Pipraeidea<br>PCA1=%{x}<br>PCA2=%{y}<extra></extra>",
         "legendgroup": "Pipraeidea",
         "marker": {
          "color": "#ab63fa",
          "symbol": "circle"
         },
         "mode": "markers",
         "name": "Pipraeidea",
         "showlegend": true,
         "type": "scattergl",
         "x": [
          -0.7886021576711273,
          -0.42780939605742646,
          -0.2999308055132413
         ],
         "xaxis": "x",
         "y": [
          -0.7728261062896009,
          0.6053553049287538,
          0.6134817421865905
         ],
         "yaxis": "y"
        },
        {
         "hovertemplate": "color=Pipreola<br>PCA1=%{x}<br>PCA2=%{y}<extra></extra>",
         "legendgroup": "Pipreola",
         "marker": {
          "color": "#FFA15A",
          "symbol": "circle"
         },
         "mode": "markers",
         "name": "Pipreola",
         "showlegend": true,
         "type": "scattergl",
         "x": [
          0.10061483626047564,
          -1.497057332751901,
          3.839375569997418,
          -1.1604197396731741,
          2.0759528915104406,
          -0.2673316104535393,
          -0.8519014260529887,
          3.111934945972997,
          -1.1216382947517833,
          -1.02227758532267,
          -1.3803115779017023
         ],
         "xaxis": "x",
         "y": [
          0.6817908448233341,
          -0.03589395139652452,
          1.5179451780829663,
          0.24559703746642034,
          0.5474904068964922,
          0.05247872751534257,
          0.3907460144860336,
          2.849125691794872,
          0.12029162719821045,
          0.8398106712493474,
          0.15220339649042222
         ],
         "yaxis": "y"
        },
        {
         "hovertemplate": "color=Piprites<br>PCA1=%{x}<br>PCA2=%{y}<extra></extra>",
         "legendgroup": "Piprites",
         "marker": {
          "color": "#19d3f3",
          "symbol": "circle"
         },
         "mode": "markers",
         "name": "Piprites",
         "showlegend": true,
         "type": "scattergl",
         "x": [
          -0.28144793296788506,
          1.101224264407555,
          -0.8360237509778131
         ],
         "xaxis": "x",
         "y": [
          -0.08900428201720872,
          2.4945535416545663,
          0.4346399760406734
         ],
         "yaxis": "y"
        },
        {
         "hovertemplate": "color=Piranga<br>PCA1=%{x}<br>PCA2=%{y}<extra></extra>",
         "legendgroup": "Piranga",
         "marker": {
          "color": "#FF6692",
          "symbol": "circle"
         },
         "mode": "markers",
         "name": "Piranga",
         "showlegend": true,
         "type": "scattergl",
         "x": [
          -0.6349078659378168,
          -1.4670846840468899,
          -1.346606944347243,
          4.2051090922590575,
          -0.044255190571059005,
          -1.0411329535318543,
          -0.999029045259563,
          2.8430424325454364,
          2.137533757245013,
          1.819977839629352,
          8.031944009280362,
          0.1477013698504093,
          -0.9153183353319778,
          -0.14080234590199456,
          -1.184572056850866
         ],
         "xaxis": "x",
         "y": [
          0.12526968359158563,
          -0.2903574976394181,
          -0.6129913264933907,
          0.6249422644200835,
          0.5815438791327487,
          -0.36765419834580865,
          -0.1730425418528568,
          0.5173067420711993,
          0.4328777568836865,
          0.07813865763982669,
          1.1758862829852528,
          1.0866657846842853,
          0.11030539841708308,
          -0.5726066990154571,
          -0.11177985062461991
         ],
         "yaxis": "y"
        },
        {
         "hovertemplate": "color=Pitangus<br>PCA1=%{x}<br>PCA2=%{y}<extra></extra>",
         "legendgroup": "Pitangus",
         "marker": {
          "color": "#B6E880",
          "symbol": "circle"
         },
         "mode": "markers",
         "name": "Pitangus",
         "showlegend": true,
         "type": "scattergl",
         "x": [
          -0.7132037563690916
         ],
         "xaxis": "x",
         "y": [
          0.15060624934652903
         ],
         "yaxis": "y"
        },
        {
         "hovertemplate": "color=Platalea<br>PCA1=%{x}<br>PCA2=%{y}<extra></extra>",
         "legendgroup": "Platalea",
         "marker": {
          "color": "#FF97FF",
          "symbol": "circle"
         },
         "mode": "markers",
         "name": "Platalea",
         "showlegend": true,
         "type": "scattergl",
         "x": [
          -1.2478607667333312,
          -1.389069395291498
         ],
         "xaxis": "x",
         "y": [
          -0.3625015034890769,
          -0.17241772010980944
         ],
         "yaxis": "y"
        },
        {
         "hovertemplate": "color=Platyrinchus<br>PCA1=%{x}<br>PCA2=%{y}<extra></extra>",
         "legendgroup": "Platyrinchus",
         "marker": {
          "color": "#FECB52",
          "symbol": "circle"
         },
         "mode": "markers",
         "name": "Platyrinchus",
         "showlegend": true,
         "type": "scattergl",
         "x": [
          1.1818924911368354,
          -0.8844867759806723,
          -0.8551438612168664,
          0.12917419526932936,
          -1.048921805240367,
          -0.488705244467135,
          0.8511569973030413,
          0.5592173196801222,
          0.2473270157560442
         ],
         "xaxis": "x",
         "y": [
          1.4420692275611582,
          -0.3438329576926573,
          -0.4030199147835878,
          0.6554471167874558,
          0.5965084643695601,
          0.8098638047217875,
          -0.6182483037835844,
          0.25574830061711334,
          1.8218413784599303
         ],
         "yaxis": "y"
        },
        {
         "hovertemplate": "color=Plegadis<br>PCA1=%{x}<br>PCA2=%{y}<extra></extra>",
         "legendgroup": "Plegadis",
         "marker": {
          "color": "#636efa",
          "symbol": "circle"
         },
         "mode": "markers",
         "name": "Plegadis",
         "showlegend": true,
         "type": "scattergl",
         "x": [
          -1.3938348583244957,
          -1.0908109910598318,
          -1.3439466461507574
         ],
         "xaxis": "x",
         "y": [
          -0.3281730646484794,
          -0.6250940365631582,
          -0.3578658063149338
         ],
         "yaxis": "y"
        },
        {
         "hovertemplate": "color=Pluvialis<br>PCA1=%{x}<br>PCA2=%{y}<extra></extra>",
         "legendgroup": "Pluvialis",
         "marker": {
          "color": "#EF553B",
          "symbol": "circle"
         },
         "mode": "markers",
         "name": "Pluvialis",
         "showlegend": true,
         "type": "scattergl",
         "x": [
          -1.2993490398141936,
          -1.295203630800381,
          -0.49450088641056894
         ],
         "xaxis": "x",
         "y": [
          -0.05838938504458397,
          -0.07780670651488288,
          0.9359569448475777
         ],
         "yaxis": "y"
        },
        {
         "hovertemplate": "color=Podilymbus<br>PCA1=%{x}<br>PCA2=%{y}<extra></extra>",
         "legendgroup": "Podilymbus",
         "marker": {
          "color": "#00cc96",
          "symbol": "circle"
         },
         "mode": "markers",
         "name": "Podilymbus",
         "showlegend": true,
         "type": "scattergl",
         "x": [
          -0.7561781079701,
          -1.3150436977094233,
          0.004576875590828068
         ],
         "xaxis": "x",
         "y": [
          -0.11419387703300167,
          0.30094314228714414,
          -0.14724380693607675
         ],
         "yaxis": "y"
        },
        {
         "hovertemplate": "color=Poecilotriccus<br>PCA1=%{x}<br>PCA2=%{y}<extra></extra>",
         "legendgroup": "Poecilotriccus",
         "marker": {
          "color": "#ab63fa",
          "symbol": "circle"
         },
         "mode": "markers",
         "name": "Poecilotriccus",
         "showlegend": true,
         "type": "scattergl",
         "x": [
          -0.6705724905867153,
          -1.4969805068188227,
          -0.6955062528966562,
          -0.8493935299812874,
          2.4597482114370552,
          -1.4922167721556645,
          -1.3429061283733197,
          -1.2223964638633535,
          -0.04285131460199533,
          -0.9770093300414036,
          -1.1112276164671044,
          -0.8933527044578999,
          -1.4744243482898627,
          -1.5159931616895004,
          0.1656409911479643
         ],
         "xaxis": "x",
         "y": [
          1.0514049732007442,
          0.020503307459335537,
          0.012771993199270611,
          0.09237941255044059,
          -0.410646013384611,
          -0.031447947537357586,
          -0.42089756182285093,
          -0.24710416608960667,
          -0.35644808865288674,
          -1.1748610150418393,
          -0.16418817820469783,
          -0.10007300205910734,
          -0.26668113921295317,
          -0.24316972881847315,
          -0.13824141067081788
         ],
         "yaxis": "y"
        },
        {
         "hovertemplate": "color=Polioptila<br>PCA1=%{x}<br>PCA2=%{y}<extra></extra>",
         "legendgroup": "Polioptila",
         "marker": {
          "color": "#FFA15A",
          "symbol": "circle"
         },
         "mode": "markers",
         "name": "Polioptila",
         "showlegend": true,
         "type": "scattergl",
         "x": [
          0.6520581482746273,
          -0.927688767300703,
          -0.9213920860908044
         ],
         "xaxis": "x",
         "y": [
          0.23103593386563118,
          -0.2386163744183996,
          -0.09837737956304037
         ],
         "yaxis": "y"
        },
        {
         "hovertemplate": "color=Polytmus<br>PCA1=%{x}<br>PCA2=%{y}<extra></extra>",
         "legendgroup": "Polytmus",
         "marker": {
          "color": "#19d3f3",
          "symbol": "circle"
         },
         "mode": "markers",
         "name": "Polytmus",
         "showlegend": true,
         "type": "scattergl",
         "x": [
          -0.6728260403586349,
          0.13092680009829236,
          0.6776992618252804,
          -1.0920751056482205
         ],
         "xaxis": "x",
         "y": [
          -0.3708587917717008,
          -1.0347727115325749,
          0.3825306906579529,
          0.17480672889560606
         ],
         "yaxis": "y"
        },
        {
         "hovertemplate": "color=Porphyrio<br>PCA1=%{x}<br>PCA2=%{y}<extra></extra>",
         "legendgroup": "Porphyrio",
         "marker": {
          "color": "#FF6692",
          "symbol": "circle"
         },
         "mode": "markers",
         "name": "Porphyrio",
         "showlegend": true,
         "type": "scattergl",
         "x": [
          -0.8430059392902074,
          0.3978790660690056,
          -1.0733307153246086,
          -1.3968467025185087
         ],
         "xaxis": "x",
         "y": [
          0.24789389937332956,
          -0.001654350722897785,
          0.2666351398649729,
          -0.08048092403366164
         ],
         "yaxis": "y"
        },
        {
         "hovertemplate": "color=Porphyrolaema<br>PCA1=%{x}<br>PCA2=%{y}<extra></extra>",
         "legendgroup": "Porphyrolaema",
         "marker": {
          "color": "#B6E880",
          "symbol": "circle"
         },
         "mode": "markers",
         "name": "Porphyrolaema",
         "showlegend": true,
         "type": "scattergl",
         "x": [
          0.5494349282003567
         ],
         "xaxis": "x",
         "y": [
          -0.12099007521939603
         ],
         "yaxis": "y"
        },
        {
         "hovertemplate": "color=Premnoplex<br>PCA1=%{x}<br>PCA2=%{y}<extra></extra>",
         "legendgroup": "Premnoplex",
         "marker": {
          "color": "#FF97FF",
          "symbol": "circle"
         },
         "mode": "markers",
         "name": "Premnoplex",
         "showlegend": true,
         "type": "scattergl",
         "x": [
          -0.1361725853773048,
          0.5204695896816062,
          0.08767290407433331
         ],
         "xaxis": "x",
         "y": [
          0.5357258795662317,
          0.9739795336962964,
          -0.2004808783230893
         ],
         "yaxis": "y"
        },
        {
         "hovertemplate": "color=Premnornis<br>PCA1=%{x}<br>PCA2=%{y}<extra></extra>",
         "legendgroup": "Premnornis",
         "marker": {
          "color": "#FECB52",
          "symbol": "circle"
         },
         "mode": "markers",
         "name": "Premnornis",
         "showlegend": true,
         "type": "scattergl",
         "x": [
          0.5698913395596146,
          -0.7728618555002016,
          -0.6868255310467147,
          0.3247112835540836
         ],
         "xaxis": "x",
         "y": [
          -1.1868515872862568,
          -0.2047091133843081,
          -0.4381961402423241,
          -0.8337793509963534
         ],
         "yaxis": "y"
        },
        {
         "hovertemplate": "color=Primolius<br>PCA1=%{x}<br>PCA2=%{y}<extra></extra>",
         "legendgroup": "Primolius",
         "marker": {
          "color": "#636efa",
          "symbol": "circle"
         },
         "mode": "markers",
         "name": "Primolius",
         "showlegend": true,
         "type": "scattergl",
         "x": [
          1.3755835101488807,
          -0.467037890090404
         ],
         "xaxis": "x",
         "y": [
          -0.7282195100960749,
          -0.5068302375571968
         ],
         "yaxis": "y"
        },
        {
         "hovertemplate": "color=Progne<br>PCA1=%{x}<br>PCA2=%{y}<extra></extra>",
         "legendgroup": "Progne",
         "marker": {
          "color": "#EF553B",
          "symbol": "circle"
         },
         "mode": "markers",
         "name": "Progne",
         "showlegend": true,
         "type": "scattergl",
         "x": [
          -0.7122564650795928,
          -0.1957450531599327,
          4.756564309671332,
          8.89009927970779,
          -0.4607509293202391,
          -0.806878988105862,
          2.073916491310271,
          1.5672755064777852,
          1.2243593631571816
         ],
         "xaxis": "x",
         "y": [
          -0.11938849124624151,
          -1.1420613159226054,
          -0.19906594066990496,
          3.1360144408020183,
          -0.7307687743990249,
          -0.3341024775076443,
          -2.0055522849374277,
          -0.3906531832299361,
          0.9378291543913692
         ],
         "yaxis": "y"
        },
        {
         "hovertemplate": "color=Psarocolius<br>PCA1=%{x}<br>PCA2=%{y}<extra></extra>",
         "legendgroup": "Psarocolius",
         "marker": {
          "color": "#00cc96",
          "symbol": "circle"
         },
         "mode": "markers",
         "name": "Psarocolius",
         "showlegend": true,
         "type": "scattergl",
         "x": [
          4.3070299536621155,
          2.3580367445549943,
          -0.10594678537450107,
          0.303548392655244,
          -0.2670546695736162,
          2.872831602007352,
          4.0620581197520576,
          2.0240398580643992,
          -0.2011400585559119,
          0.5143816302448759,
          -0.9167761921488435,
          1.9393263377357612,
          -1.2800070972596345,
          0.3697750815569041
         ],
         "xaxis": "x",
         "y": [
          2.4721057295883537,
          1.0621819409886644,
          -0.371902405859235,
          1.4900547091817298,
          0.02449972302808674,
          2.2057673172952628,
          2.317153528715731,
          2.6071372234290817,
          -1.1568987106279787,
          1.5082311680252625,
          0.05551626829116767,
          2.092800287758587,
          0.2670911630161433,
          1.222342556841408
         ],
         "yaxis": "y"
        },
        {
         "hovertemplate": "color=Pseudastur<br>PCA1=%{x}<br>PCA2=%{y}<extra></extra>",
         "legendgroup": "Pseudastur",
         "marker": {
          "color": "#ab63fa",
          "symbol": "circle"
         },
         "mode": "markers",
         "name": "Pseudastur",
         "showlegend": true,
         "type": "scattergl",
         "x": [
          -0.5509017108987251,
          -0.7668059610408516
         ],
         "xaxis": "x",
         "y": [
          0.5237747093389523,
          -0.497452327422805
         ],
         "yaxis": "y"
        },
        {
         "hovertemplate": "color=Pseudocolopteryx<br>PCA1=%{x}<br>PCA2=%{y}<extra></extra>",
         "legendgroup": "Pseudocolopteryx",
         "marker": {
          "color": "#FFA15A",
          "symbol": "circle"
         },
         "mode": "markers",
         "name": "Pseudocolopteryx",
         "showlegend": true,
         "type": "scattergl",
         "x": [
          -1.521986391547636,
          -1.4634058572957735,
          -0.8027565188131206
         ],
         "xaxis": "x",
         "y": [
          -0.3824556072354961,
          -0.49629178932414186,
          -0.2587487240730435
         ],
         "yaxis": "y"
        },
        {
         "hovertemplate": "color=Pseudotriccus<br>PCA1=%{x}<br>PCA2=%{y}<extra></extra>",
         "legendgroup": "Pseudotriccus",
         "marker": {
          "color": "#19d3f3",
          "symbol": "circle"
         },
         "mode": "markers",
         "name": "Pseudotriccus",
         "showlegend": true,
         "type": "scattergl",
         "x": [
          0.04299159424502704,
          2.4162622113568144,
          0.18700890015188618,
          -1.5079219168339744
         ],
         "xaxis": "x",
         "y": [
          2.2420823188532273,
          1.2122969743192928,
          0.887136479814332,
          -0.14917409200794385
         ],
         "yaxis": "y"
        },
        {
         "hovertemplate": "color=Psittacara<br>PCA1=%{x}<br>PCA2=%{y}<extra></extra>",
         "legendgroup": "Psittacara",
         "marker": {
          "color": "#FF6692",
          "symbol": "circle"
         },
         "mode": "markers",
         "name": "Psittacara",
         "showlegend": true,
         "type": "scattergl",
         "x": [
          -0.6223694492391175,
          -0.2176291193499008,
          -0.8802117755248188
         ],
         "xaxis": "x",
         "y": [
          -0.3925450873073594,
          0.011208612081529462,
          -0.680389378498226
         ],
         "yaxis": "y"
        },
        {
         "hovertemplate": "color=Psophia<br>PCA1=%{x}<br>PCA2=%{y}<extra></extra>",
         "legendgroup": "Psophia",
         "marker": {
          "color": "#B6E880",
          "symbol": "circle"
         },
         "mode": "markers",
         "name": "Psophia",
         "showlegend": true,
         "type": "scattergl",
         "x": [
          0.3718075365444939,
          -0.3202129459899542
         ],
         "xaxis": "x",
         "y": [
          -0.9469806925576248,
          -0.43807522103883856
         ],
         "yaxis": "y"
        },
        {
         "hovertemplate": "color=Pteroglossus<br>PCA1=%{x}<br>PCA2=%{y}<extra></extra>",
         "legendgroup": "Pteroglossus",
         "marker": {
          "color": "#FF97FF",
          "symbol": "circle"
         },
         "mode": "markers",
         "name": "Pteroglossus",
         "showlegend": true,
         "type": "scattergl",
         "x": [
          2.971078143688223,
          0.24780408241144752,
          -0.3387496788220823,
          -0.32639449393778996,
          -0.624309992251725,
          0.10425557805068267,
          -0.0627106425626907,
          -0.5564315668486002,
          0.5854772328942351,
          -0.05532153422547977,
          0.7446951232806042
         ],
         "xaxis": "x",
         "y": [
          -3.330878808167565,
          -1.5643082922698905,
          -0.2541588351164559,
          -0.4142912321906464,
          -0.5472163827831944,
          -0.8238381829948821,
          -0.7925868119808442,
          -0.22059929879327012,
          -2.415476367592927,
          -0.9610802931465666,
          -2.6746644106406876
         ],
         "yaxis": "y"
        },
        {
         "hovertemplate": "color=Pulsatrix<br>PCA1=%{x}<br>PCA2=%{y}<extra></extra>",
         "legendgroup": "Pulsatrix",
         "marker": {
          "color": "#FECB52",
          "symbol": "circle"
         },
         "mode": "markers",
         "name": "Pulsatrix",
         "showlegend": true,
         "type": "scattergl",
         "x": [
          1.6084409345680863,
          0.1997050807547352,
          -1.1224222981708045,
          0.24692656077070374,
          -0.8975951783394833,
          1.5815898878664691
         ],
         "xaxis": "x",
         "y": [
          0.9895543448914232,
          2.0867127238429215,
          -0.03400419183829269,
          1.5465915508922354,
          0.09059992627817927,
          2.4578580541952677
         ],
         "yaxis": "y"
        },
        {
         "hovertemplate": "color=Pygiptila<br>PCA1=%{x}<br>PCA2=%{y}<extra></extra>",
         "legendgroup": "Pygiptila",
         "marker": {
          "color": "#636efa",
          "symbol": "circle"
         },
         "mode": "markers",
         "name": "Pygiptila",
         "showlegend": true,
         "type": "scattergl",
         "x": [
          0.4680758738006651,
          -0.24647764739763225
         ],
         "xaxis": "x",
         "y": [
          -0.480680450293826,
          -0.7928424454660898
         ],
         "yaxis": "y"
        },
        {
         "hovertemplate": "color=Pyrilia<br>PCA1=%{x}<br>PCA2=%{y}<extra></extra>",
         "legendgroup": "Pyrilia",
         "marker": {
          "color": "#EF553B",
          "symbol": "circle"
         },
         "mode": "markers",
         "name": "Pyrilia",
         "showlegend": true,
         "type": "scattergl",
         "x": [
          0.7450489564477683,
          -1.5830507023723852
         ],
         "xaxis": "x",
         "y": [
          1.1538485210688005,
          -0.14682249646506745
         ],
         "yaxis": "y"
        },
        {
         "hovertemplate": "color=Pyrocephalus<br>PCA1=%{x}<br>PCA2=%{y}<extra></extra>",
         "legendgroup": "Pyrocephalus",
         "marker": {
          "color": "#00cc96",
          "symbol": "circle"
         },
         "mode": "markers",
         "name": "Pyrocephalus",
         "showlegend": true,
         "type": "scattergl",
         "x": [
          -0.11892227321168743,
          0.9572292004406601
         ],
         "xaxis": "x",
         "y": [
          -0.09988414726941905,
          -0.3273602710072452
         ],
         "yaxis": "y"
        },
        {
         "hovertemplate": "color=Pyrrhomyias<br>PCA1=%{x}<br>PCA2=%{y}<extra></extra>",
         "legendgroup": "Pyrrhomyias",
         "marker": {
          "color": "#ab63fa",
          "symbol": "circle"
         },
         "mode": "markers",
         "name": "Pyrrhomyias",
         "showlegend": true,
         "type": "scattergl",
         "x": [
          -0.44275088190265516,
          1.8679341977270327
         ],
         "xaxis": "x",
         "y": [
          -0.6730157223727015,
          0.41226184701417673
         ],
         "yaxis": "y"
        },
        {
         "hovertemplate": "color=Pyrrhura<br>PCA1=%{x}<br>PCA2=%{y}<extra></extra>",
         "legendgroup": "Pyrrhura",
         "marker": {
          "color": "#FFA15A",
          "symbol": "circle"
         },
         "mode": "markers",
         "name": "Pyrrhura",
         "showlegend": true,
         "type": "scattergl",
         "x": [
          -0.4938651993486637,
          0.9737107489396416,
          -1.0159153643884704
         ],
         "xaxis": "x",
         "y": [
          -0.8433795546113715,
          -0.3058774381639476,
          -0.2695890308307772
         ],
         "yaxis": "y"
        },
        {
         "hovertemplate": "color=Querula<br>PCA1=%{x}<br>PCA2=%{y}<extra></extra>",
         "legendgroup": "Querula",
         "marker": {
          "color": "#19d3f3",
          "symbol": "circle"
         },
         "mode": "markers",
         "name": "Querula",
         "showlegend": true,
         "type": "scattergl",
         "x": [
          -0.9699382425931439,
          -1.311995850082235
         ],
         "xaxis": "x",
         "y": [
          0.009938180871142333,
          -0.3046528494810966
         ],
         "yaxis": "y"
        },
        {
         "hovertemplate": "color=Ramphastos<br>PCA1=%{x}<br>PCA2=%{y}<extra></extra>",
         "legendgroup": "Ramphastos",
         "marker": {
          "color": "#FF6692",
          "symbol": "circle"
         },
         "mode": "markers",
         "name": "Ramphastos",
         "showlegend": true,
         "type": "scattergl",
         "x": [
          -1.161211464596289,
          -1.150274513358492,
          -0.8079458575457849,
          2.2015437698790667,
          7.460992086846864,
          3.074536029197425,
          0.13476320372267803,
          -0.522118663818525
         ],
         "xaxis": "x",
         "y": [
          -0.41610495971969863,
          -0.34744494799678916,
          -0.07462409805791087,
          0.04210767741930347,
          -8.193101549387762,
          1.2405274812461013,
          -0.6693102125035869,
          -0.43657169593004563
         ],
         "yaxis": "y"
        },
        {
         "hovertemplate": "color=Ramphocaenus<br>PCA1=%{x}<br>PCA2=%{y}<extra></extra>",
         "legendgroup": "Ramphocaenus",
         "marker": {
          "color": "#B6E880",
          "symbol": "circle"
         },
         "mode": "markers",
         "name": "Ramphocaenus",
         "showlegend": true,
         "type": "scattergl",
         "x": [
          1.5329419869960639,
          0.559128831101981,
          -0.7443806484538611,
          4.33669365382591,
          -0.8019471110842201,
          6.418684521453494
         ],
         "xaxis": "x",
         "y": [
          -0.4191423949253649,
          0.22170521550982394,
          -0.9892214624423928,
          -9.791365923352139,
          0.36155656106591716,
          -12.161105409464161
         ],
         "yaxis": "y"
        },
        {
         "hovertemplate": "color=Ramphocelus<br>PCA1=%{x}<br>PCA2=%{y}<extra></extra>",
         "legendgroup": "Ramphocelus",
         "marker": {
          "color": "#FF97FF",
          "symbol": "circle"
         },
         "mode": "markers",
         "name": "Ramphocelus",
         "showlegend": true,
         "type": "scattergl",
         "x": [
          -0.1892112233394124,
          3.6513753875720383,
          1.4361029862276724,
          1.4468903775606738,
          -0.10594690753332897,
          0.010757615656833605,
          0.9181719675550324
         ],
         "xaxis": "x",
         "y": [
          -0.07195431351491582,
          -1.447805895473808,
          -0.49728957250650113,
          -0.6369079528040552,
          -0.2760602261877023,
          -2.044167213699851,
          -0.5324831894644403
         ],
         "yaxis": "y"
        },
        {
         "hovertemplate": "color=Ramphotrigon<br>PCA1=%{x}<br>PCA2=%{y}<extra></extra>",
         "legendgroup": "Ramphotrigon",
         "marker": {
          "color": "#FECB52",
          "symbol": "circle"
         },
         "mode": "markers",
         "name": "Ramphotrigon",
         "showlegend": true,
         "type": "scattergl",
         "x": [
          -0.6324404055904259,
          0.3472324826225932,
          0.7894310329217025,
          -0.8214151660627543,
          -0.5983112109975124,
          0.36188886541265175,
          1.3748342690380193
         ],
         "xaxis": "x",
         "y": [
          -0.27359333002652786,
          0.3224587320517001,
          -0.48912008979541133,
          0.20198638651030343,
          -0.24435639648338617,
          0.7716445334409371,
          1.8065028065131883
         ],
         "yaxis": "y"
        },
        {
         "hovertemplate": "color=Rhegmatorhina<br>PCA1=%{x}<br>PCA2=%{y}<extra></extra>",
         "legendgroup": "Rhegmatorhina",
         "marker": {
          "color": "#636efa",
          "symbol": "circle"
         },
         "mode": "markers",
         "name": "Rhegmatorhina",
         "showlegend": true,
         "type": "scattergl",
         "x": [
          1.3539773141869131,
          1.5833879233619974
         ],
         "xaxis": "x",
         "y": [
          0.4423426910985743,
          0.6714642776287525
         ],
         "yaxis": "y"
        },
        {
         "hovertemplate": "color=Rhynchocyclus<br>PCA1=%{x}<br>PCA2=%{y}<extra></extra>",
         "legendgroup": "Rhynchocyclus",
         "marker": {
          "color": "#EF553B",
          "symbol": "circle"
         },
         "mode": "markers",
         "name": "Rhynchocyclus",
         "showlegend": true,
         "type": "scattergl",
         "x": [
          -1.1433548863171028,
          -1.048482886638053,
          -0.7537127288245111,
          0.24320905869035359,
          1.6238820815644661
         ],
         "xaxis": "x",
         "y": [
          0.41759677593240435,
          0.35483002755776083,
          0.11076975156563841,
          -0.5685853659083899,
          4.110828640664621
         ],
         "yaxis": "y"
        },
        {
         "hovertemplate": "color=Rhynchotus<br>PCA1=%{x}<br>PCA2=%{y}<extra></extra>",
         "legendgroup": "Rhynchotus",
         "marker": {
          "color": "#00cc96",
          "symbol": "circle"
         },
         "mode": "markers",
         "name": "Rhynchotus",
         "showlegend": true,
         "type": "scattergl",
         "x": [
          -0.5708187044440947,
          0.7708265292342296
         ],
         "xaxis": "x",
         "y": [
          -0.22395937087932682,
          -0.511204381677421
         ],
         "yaxis": "y"
        },
        {
         "hovertemplate": "color=Rhytipterna<br>PCA1=%{x}<br>PCA2=%{y}<extra></extra>",
         "legendgroup": "Rhytipterna",
         "marker": {
          "color": "#ab63fa",
          "symbol": "circle"
         },
         "mode": "markers",
         "name": "Rhytipterna",
         "showlegend": true,
         "type": "scattergl",
         "x": [
          -1.4382441091243878,
          -1.340668994645934,
          -1.4623255637727999,
          -0.9697985416751153,
          2.64192987901866
         ],
         "xaxis": "x",
         "y": [
          -0.005722521343505322,
          0.07633283049987127,
          0.11844476651789274,
          0.3437688694816707,
          1.534488224012779
         ],
         "yaxis": "y"
        },
        {
         "hovertemplate": "color=Riparia<br>PCA1=%{x}<br>PCA2=%{y}<extra></extra>",
         "legendgroup": "Riparia",
         "marker": {
          "color": "#FFA15A",
          "symbol": "circle"
         },
         "mode": "markers",
         "name": "Riparia",
         "showlegend": true,
         "type": "scattergl",
         "x": [
          0.8648806155797569,
          0.8251067204106101
         ],
         "xaxis": "x",
         "y": [
          -1.7999744336172232,
          -1.712453539548218
         ],
         "yaxis": "y"
        },
        {
         "hovertemplate": "color=Rollandia<br>PCA1=%{x}<br>PCA2=%{y}<extra></extra>",
         "legendgroup": "Rollandia",
         "marker": {
          "color": "#19d3f3",
          "symbol": "circle"
         },
         "mode": "markers",
         "name": "Rollandia",
         "showlegend": true,
         "type": "scattergl",
         "x": [
          -0.648574477085252,
          -1.2117873967216788,
          -0.19966643436563886
         ],
         "xaxis": "x",
         "y": [
          -0.33814254961492757,
          0.435156980982542,
          -0.8545004000326626
         ],
         "yaxis": "y"
        },
        {
         "hovertemplate": "color=Rostrhamus<br>PCA1=%{x}<br>PCA2=%{y}<extra></extra>",
         "legendgroup": "Rostrhamus",
         "marker": {
          "color": "#FF6692",
          "symbol": "circle"
         },
         "mode": "markers",
         "name": "Rostrhamus",
         "showlegend": true,
         "type": "scattergl",
         "x": [
          -0.48802970153424813
         ],
         "xaxis": "x",
         "y": [
          0.678700737022146
         ],
         "yaxis": "y"
        },
        {
         "hovertemplate": "color=Rupicola<br>PCA1=%{x}<br>PCA2=%{y}<extra></extra>",
         "legendgroup": "Rupicola",
         "marker": {
          "color": "#B6E880",
          "symbol": "circle"
         },
         "mode": "markers",
         "name": "Rupicola",
         "showlegend": true,
         "type": "scattergl",
         "x": [
          3.2837448297029073,
          0.3310200149441744,
          7.001417040587947,
          -0.06303959926220278,
          -1.1712475225966685
         ],
         "xaxis": "x",
         "y": [
          -2.6296484826749214,
          0.9776773267161528,
          -4.0496522769213446,
          -0.3490170325225437,
          0.2140197917576213
         ],
         "yaxis": "y"
        },
        {
         "hovertemplate": "color=Rupornis<br>PCA1=%{x}<br>PCA2=%{y}<extra></extra>",
         "legendgroup": "Rupornis",
         "marker": {
          "color": "#FF97FF",
          "symbol": "circle"
         },
         "mode": "markers",
         "name": "Rupornis",
         "showlegend": true,
         "type": "scattergl",
         "x": [
          1.1878987675384913,
          -0.5161687375352987,
          0.20675372534915498
         ],
         "xaxis": "x",
         "y": [
          -2.6498807198996612,
          0.5422845307410668,
          1.7129522380456974
         ],
         "yaxis": "y"
        },
        {
         "hovertemplate": "color=Rynchops<br>PCA1=%{x}<br>PCA2=%{y}<extra></extra>",
         "legendgroup": "Rynchops",
         "marker": {
          "color": "#FECB52",
          "symbol": "circle"
         },
         "mode": "markers",
         "name": "Rynchops",
         "showlegend": true,
         "type": "scattergl",
         "x": [
          2.41564752310049,
          -1.4078022360452505,
          0.1973491701665721,
          0.14798132309528728
         ],
         "xaxis": "x",
         "y": [
          -2.70669154826603,
          -0.3109819529945995,
          -1.4433092062416444,
          -1.836930436892709
         ],
         "yaxis": "y"
        },
        {
         "hovertemplate": "color=Saltator<br>PCA1=%{x}<br>PCA2=%{y}<extra></extra>",
         "legendgroup": "Saltator",
         "marker": {
          "color": "#636efa",
          "symbol": "circle"
         },
         "mode": "markers",
         "name": "Saltator",
         "showlegend": true,
         "type": "scattergl",
         "x": [
          -0.9569410897344907,
          -0.12739510789106817,
          -1.0050046588826465,
          -0.7591655902181806,
          -0.622283891339152,
          -0.1400074238404666,
          -0.2735011059835538,
          0.7119252964481195,
          -0.10607154176904737,
          0.3086987546033661
         ],
         "xaxis": "x",
         "y": [
          0.4019602372598156,
          0.04591950499962754,
          0.3198813557173784,
          0.2323663441729883,
          0.17071604716778607,
          0.881436983182973,
          0.7728877901029294,
          -0.679995678276621,
          0.44454852786116544,
          -0.4323379841017366
         ],
         "yaxis": "y"
        },
        {
         "hovertemplate": "color=Sarcoramphus<br>PCA1=%{x}<br>PCA2=%{y}<extra></extra>",
         "legendgroup": "Sarcoramphus",
         "marker": {
          "color": "#EF553B",
          "symbol": "circle"
         },
         "mode": "markers",
         "name": "Sarcoramphus",
         "showlegend": true,
         "type": "scattergl",
         "x": [
          2.901074250656225,
          -1.3656280660490296
         ],
         "xaxis": "x",
         "y": [
          3.8060621450530947,
          -0.1583531166677385
         ],
         "yaxis": "y"
        },
        {
         "hovertemplate": "color=Satrapa<br>PCA1=%{x}<br>PCA2=%{y}<extra></extra>",
         "legendgroup": "Satrapa",
         "marker": {
          "color": "#00cc96",
          "symbol": "circle"
         },
         "mode": "markers",
         "name": "Satrapa",
         "showlegend": true,
         "type": "scattergl",
         "x": [
          -1.4015230769193743
         ],
         "xaxis": "x",
         "y": [
          0.24130757342764325
         ],
         "yaxis": "y"
        },
        {
         "hovertemplate": "color=Sayornis<br>PCA1=%{x}<br>PCA2=%{y}<extra></extra>",
         "legendgroup": "Sayornis",
         "marker": {
          "color": "#ab63fa",
          "symbol": "circle"
         },
         "mode": "markers",
         "name": "Sayornis",
         "showlegend": true,
         "type": "scattergl",
         "x": [
          -0.8140619330217206,
          4.489174400919188,
          -1.1407130559900998
         ],
         "xaxis": "x",
         "y": [
          -0.3700123106175403,
          -1.363135805369711,
          -0.24120785232290187
         ],
         "yaxis": "y"
        },
        {
         "hovertemplate": "color=Schiffornis<br>PCA1=%{x}<br>PCA2=%{y}<extra></extra>",
         "legendgroup": "Schiffornis",
         "marker": {
          "color": "#FFA15A",
          "symbol": "circle"
         },
         "mode": "markers",
         "name": "Schiffornis",
         "showlegend": true,
         "type": "scattergl",
         "x": [
          -0.49453950740362157,
          -0.39843955933397884,
          -0.2369462805002705,
          -0.6305624234867462,
          0.8060734441461878,
          -1.1725370853356056,
          -0.6398114202011385,
          1.7834637330887275,
          0.5067214499331699
         ],
         "xaxis": "x",
         "y": [
          0.17166042030376238,
          -0.03350863755585068,
          0.04111699234760928,
          0.168941468462207,
          -0.2607373488053119,
          -0.45925577245076665,
          -0.7211375280578021,
          -0.830487255833811,
          -0.0259438060920549
         ],
         "yaxis": "y"
        },
        {
         "hovertemplate": "color=Schistes<br>PCA1=%{x}<br>PCA2=%{y}<extra></extra>",
         "legendgroup": "Schistes",
         "marker": {
          "color": "#19d3f3",
          "symbol": "circle"
         },
         "mode": "markers",
         "name": "Schistes",
         "showlegend": true,
         "type": "scattergl",
         "x": [
          0.13917387468849912,
          0.18030711145208222
         ],
         "xaxis": "x",
         "y": [
          -1.515675142671097,
          -1.225782941959892
         ],
         "yaxis": "y"
        },
        {
         "hovertemplate": "color=Schistochlamys<br>PCA1=%{x}<br>PCA2=%{y}<extra></extra>",
         "legendgroup": "Schistochlamys",
         "marker": {
          "color": "#FF6692",
          "symbol": "circle"
         },
         "mode": "markers",
         "name": "Schistochlamys",
         "showlegend": true,
         "type": "scattergl",
         "x": [
          0.7035304830834498,
          -1.29440696451428
         ],
         "xaxis": "x",
         "y": [
          0.12326176158508072,
          -0.4493607025430273
         ],
         "yaxis": "y"
        },
        {
         "hovertemplate": "color=Sciaphylax<br>PCA1=%{x}<br>PCA2=%{y}<extra></extra>",
         "legendgroup": "Sciaphylax",
         "marker": {
          "color": "#B6E880",
          "symbol": "circle"
         },
         "mode": "markers",
         "name": "Sciaphylax",
         "showlegend": true,
         "type": "scattergl",
         "x": [
          0.827071854553006,
          0.5940319695994016,
          -1.6038887840590499
         ],
         "xaxis": "x",
         "y": [
          1.129787459828799,
          1.6759526377124112,
          -0.09188494076649728
         ],
         "yaxis": "y"
        },
        {
         "hovertemplate": "color=Sclateria<br>PCA1=%{x}<br>PCA2=%{y}<extra></extra>",
         "legendgroup": "Sclateria",
         "marker": {
          "color": "#FF97FF",
          "symbol": "circle"
         },
         "mode": "markers",
         "name": "Sclateria",
         "showlegend": true,
         "type": "scattergl",
         "x": [
          0.7144017423432513,
          0.5699025202185817,
          0.6466230521958894
         ],
         "xaxis": "x",
         "y": [
          0.22622299548533317,
          0.4244265456362046,
          1.6192377457204337
         ],
         "yaxis": "y"
        },
        {
         "hovertemplate": "color=Sclerurus<br>PCA1=%{x}<br>PCA2=%{y}<extra></extra>",
         "legendgroup": "Sclerurus",
         "marker": {
          "color": "#FECB52",
          "symbol": "circle"
         },
         "mode": "markers",
         "name": "Sclerurus",
         "showlegend": true,
         "type": "scattergl",
         "x": [
          1.4576505290579815,
          -0.0990271837404709,
          0.5813259414877717,
          1.8901285391365505,
          -0.8706207933127497,
          -0.06398395907824132,
          4.6915044122465215,
          -1.352312974705561,
          1.35221063748981
         ],
         "xaxis": "x",
         "y": [
          -1.169511487357619,
          -0.5177143120045846,
          -1.0614041970143158,
          -0.6475930996758231,
          0.09157525612364682,
          -0.6637436807237201,
          -0.7140568425327535,
          -0.1694735751498051,
          0.3466583888203233
         ],
         "yaxis": "y"
        },
        {
         "hovertemplate": "color=Scytalopus<br>PCA1=%{x}<br>PCA2=%{y}<extra></extra>",
         "legendgroup": "Scytalopus",
         "marker": {
          "color": "#636efa",
          "symbol": "circle"
         },
         "mode": "markers",
         "name": "Scytalopus",
         "showlegend": true,
         "type": "scattergl",
         "x": [
          0.36361483845131654,
          -0.4480590457120654,
          0.2445594908752451,
          0.9260380712132348,
          3.695155274065243,
          -0.8564731850620093,
          1.6536508169041748,
          -0.26267743367033913,
          -0.29619041129487916,
          -1.023392523221211,
          0.5160049494019937,
          0.04497297584547809
         ],
         "xaxis": "x",
         "y": [
          -0.3129156530282414,
          -0.478043975867358,
          -0.49108816203246825,
          0.06584147565893725,
          -0.629228841299977,
          0.6452399885942526,
          0.20846442650672564,
          0.7052639972347235,
          -0.7469467715205415,
          -0.5838598011558932,
          2.442275898451856,
          1.8662447155395792
         ],
         "yaxis": "y"
        },
        {
         "hovertemplate": "color=Selenidera<br>PCA1=%{x}<br>PCA2=%{y}<extra></extra>",
         "legendgroup": "Selenidera",
         "marker": {
          "color": "#EF553B",
          "symbol": "circle"
         },
         "mode": "markers",
         "name": "Selenidera",
         "showlegend": true,
         "type": "scattergl",
         "x": [
          -0.7120798392721619,
          -0.9108753924602027
         ],
         "xaxis": "x",
         "y": [
          0.6095580229689695,
          -0.43199383493345817
         ],
         "yaxis": "y"
        },
        {
         "hovertemplate": "color=Serpophaga<br>PCA1=%{x}<br>PCA2=%{y}<extra></extra>",
         "legendgroup": "Serpophaga",
         "marker": {
          "color": "#00cc96",
          "symbol": "circle"
         },
         "mode": "markers",
         "name": "Serpophaga",
         "showlegend": true,
         "type": "scattergl",
         "x": [
          -0.5692326672299912,
          -0.9409451779709993,
          -0.5686004404302015,
          -0.9151507917809866,
          -0.7002189487722427,
          -1.1535588047831717,
          -1.4455941034030995
         ],
         "xaxis": "x",
         "y": [
          0.35120468781087516,
          0.09194476504973727,
          0.7219609033223524,
          0.322575103181504,
          0.03368251312747397,
          0.10672777959891812,
          -0.09873824129812142
         ],
         "yaxis": "y"
        },
        {
         "hovertemplate": "color=Setopagis<br>PCA1=%{x}<br>PCA2=%{y}<extra></extra>",
         "legendgroup": "Setopagis",
         "marker": {
          "color": "#ab63fa",
          "symbol": "circle"
         },
         "mode": "markers",
         "name": "Setopagis",
         "showlegend": true,
         "type": "scattergl",
         "x": [
          -0.8872030735715083,
          -0.39554837999818204,
          -0.6813485123729597
         ],
         "xaxis": "x",
         "y": [
          0.43339517296348085,
          0.872258751442842,
          0.19874937908056647
         ],
         "yaxis": "y"
        },
        {
         "hovertemplate": "color=Setophaga<br>PCA1=%{x}<br>PCA2=%{y}<extra></extra>",
         "legendgroup": "Setophaga",
         "marker": {
          "color": "#FFA15A",
          "symbol": "circle"
         },
         "mode": "markers",
         "name": "Setophaga",
         "showlegend": true,
         "type": "scattergl",
         "x": [
          -1.5367562475647747,
          -1.5319859582673203,
          9.438224477308324,
          -0.1851906875199568,
          -0.8378528434949268,
          -0.23843524074770198,
          0.44684628821371924,
          -0.7446182237184941,
          -0.04113251322906612,
          0.13496734548591988,
          -0.48987687856934,
          0.4090830403590814,
          0.03234260328559781,
          0.1386751732439849,
          1.3344753378716034,
          2.65289204536921,
          -0.7906070295852868
         ],
         "xaxis": "x",
         "y": [
          -0.05382101764193787,
          -0.014379464250915911,
          4.548215948742012,
          -0.7155533412520779,
          0.275924656117672,
          -0.4555340598671094,
          0.3585632864257386,
          -0.09289772199891562,
          -1.7986457210157814,
          0.8366020746581191,
          0.7725444124639873,
          1.0049583158858777,
          1.0140713009836437,
          0.9670989318586941,
          2.730543016258834,
          2.2046773297092446,
          0.08220976652257105
         ],
         "yaxis": "y"
        },
        {
         "hovertemplate": "color=Sicalis<br>PCA1=%{x}<br>PCA2=%{y}<extra></extra>",
         "legendgroup": "Sicalis",
         "marker": {
          "color": "#19d3f3",
          "symbol": "circle"
         },
         "mode": "markers",
         "name": "Sicalis",
         "showlegend": true,
         "type": "scattergl",
         "x": [
          -0.6837616401931917,
          -1.0186217749615976,
          -0.7067751506586817,
          -0.07246842814295655,
          -0.2273674711629189,
          -1.307013619569382
         ],
         "xaxis": "x",
         "y": [
          -0.11164336864335776,
          0.08184590276851429,
          0.18007374332627882,
          0.4845992706053509,
          0.5499467398393343,
          -0.26426682865349066
         ],
         "yaxis": "y"
        },
        {
         "hovertemplate": "color=Sirystes<br>PCA1=%{x}<br>PCA2=%{y}<extra></extra>",
         "legendgroup": "Sirystes",
         "marker": {
          "color": "#FF6692",
          "symbol": "circle"
         },
         "mode": "markers",
         "name": "Sirystes",
         "showlegend": true,
         "type": "scattergl",
         "x": [
          -0.547332488828826,
          0.29508574268141136,
          -1.0087613041635914,
          1.3344647455542435
         ],
         "xaxis": "x",
         "y": [
          -0.104275395969673,
          0.07307306155187995,
          0.34737000489839304,
          -0.10767961308119882
         ],
         "yaxis": "y"
        },
        {
         "hovertemplate": "color=Sittasomus<br>PCA1=%{x}<br>PCA2=%{y}<extra></extra>",
         "legendgroup": "Sittasomus",
         "marker": {
          "color": "#B6E880",
          "symbol": "circle"
         },
         "mode": "markers",
         "name": "Sittasomus",
         "showlegend": true,
         "type": "scattergl",
         "x": [
          -0.9805851586474095,
          -1.0153289751175623,
          -0.60865619208807
         ],
         "xaxis": "x",
         "y": [
          0.09512932594289354,
          0.1911128473232737,
          0.1308915836199207
         ],
         "yaxis": "y"
        },
        {
         "hovertemplate": "color=Snowornis<br>PCA1=%{x}<br>PCA2=%{y}<extra></extra>",
         "legendgroup": "Snowornis",
         "marker": {
          "color": "#FF97FF",
          "symbol": "circle"
         },
         "mode": "markers",
         "name": "Snowornis",
         "showlegend": true,
         "type": "scattergl",
         "x": [
          -1.5861049258955335,
          -1.5457301748458596,
          -0.810966412496485
         ],
         "xaxis": "x",
         "y": [
          -0.0704698284047745,
          -0.1264690093639268,
          0.6971356569688458
         ],
         "yaxis": "y"
        },
        {
         "hovertemplate": "color=Spatula<br>PCA1=%{x}<br>PCA2=%{y}<extra></extra>",
         "legendgroup": "Spatula",
         "marker": {
          "color": "#FECB52",
          "symbol": "circle"
         },
         "mode": "markers",
         "name": "Spatula",
         "showlegend": true,
         "type": "scattergl",
         "x": [
          -1.2380249856456567,
          -1.4106530828315549,
          -1.3066864321343983,
          1.9315394843680866,
          -1.1497422365901624,
          -0.6823442065839992,
          -1.3533918520944208,
          -0.5528789779711326
         ],
         "xaxis": "x",
         "y": [
          -0.34215669972669865,
          -0.13427573119435043,
          -0.3061028109693147,
          -0.36147090262777004,
          -0.23502819156381868,
          -0.49547725726778524,
          -0.17151153056913476,
          2.207257909770639
         ],
         "yaxis": "y"
        },
        {
         "hovertemplate": "color=Spinus<br>PCA1=%{x}<br>PCA2=%{y}<extra></extra>",
         "legendgroup": "Spinus",
         "marker": {
          "color": "#636efa",
          "symbol": "circle"
         },
         "mode": "markers",
         "name": "Spinus",
         "showlegend": true,
         "type": "scattergl",
         "x": [
          2.3992352836165325,
          0.42499596509325266,
          0.8026576381321853,
          -0.6011728883394291,
          -0.5885989120506,
          -1.4112793499261713,
          0.6633050811642506
         ],
         "xaxis": "x",
         "y": [
          -0.28167557407898436,
          -0.3382006933415586,
          -0.5665091662521079,
          0.2392046554246164,
          -0.1674610099814183,
          -0.193804966366925,
          -0.3134110139053224
         ],
         "yaxis": "y"
        },
        {
         "hovertemplate": "color=Spizaetus<br>PCA1=%{x}<br>PCA2=%{y}<extra></extra>",
         "legendgroup": "Spizaetus",
         "marker": {
          "color": "#EF553B",
          "symbol": "circle"
         },
         "mode": "markers",
         "name": "Spizaetus",
         "showlegend": true,
         "type": "scattergl",
         "x": [
          -0.9555595411322816,
          3.99276843967321,
          -0.8261214439130624,
          2.908156326646921,
          -0.7621357371255327,
          0.48124189654229704,
          -0.32686729121067265,
          -0.2941466411911698,
          -0.7720391026299258,
          -1.1267552662115663,
          -0.9336861358062329
         ],
         "xaxis": "x",
         "y": [
          0.2743878185902885,
          1.0463539108500526,
          -0.025628078100048458,
          0.446006671397945,
          -0.142024083163295,
          -0.6806268541605315,
          -0.5056889575016229,
          -0.3555712878005503,
          0.23358383602913557,
          -0.2560431924078923,
          -0.3112542900013694
         ],
         "yaxis": "y"
        },
        {
         "hovertemplate": "color=Sporophila<br>PCA1=%{x}<br>PCA2=%{y}<extra></extra>",
         "legendgroup": "Sporophila",
         "marker": {
          "color": "#00cc96",
          "symbol": "circle"
         },
         "mode": "markers",
         "name": "Sporophila",
         "showlegend": true,
         "type": "scattergl",
         "x": [
          -0.8269626761510064,
          -0.21793802120634698,
          0.17136492378874274,
          -0.4620085465547073,
          0.02630317836869897,
          -0.9282280606508521,
          -0.41848302229751144,
          0.4913089282664915,
          -1.1985950803894885,
          -0.051388353284533804,
          0.6346197290705039,
          -0.7383305086755481,
          -0.8922679324293051,
          -0.7414629132132625,
          -0.024083416535634547,
          -0.988394578798763,
          -1.3838886136597883,
          -0.05808165261386169,
          -1.5474617885348405,
          -0.6855628767880525,
          -1.1434950238749302,
          -1.1617539087075301,
          -0.2776179869549412,
          -0.22303510793246528,
          -1.3038374280123952,
          0.07528355415547316,
          -1.0303141394903057,
          -1.3313529984129784,
          -0.9369789944314311,
          -1.5233761111519049,
          -0.19973973942811052,
          2.395853879692249,
          -0.8030527786394477,
          -0.04339134131114738,
          2.220936459903785,
          2.335380061425141,
          1.0116837303474837,
          -0.017555325483508057,
          -1.3052045752101358
         ],
         "xaxis": "x",
         "y": [
          0.40775967591406914,
          0.529550066719204,
          0.9702392721287878,
          0.8300563624183639,
          0.3601177286058459,
          0.705894315485288,
          0.22455819354998946,
          1.0449947441379317,
          0.06859969630013758,
          0.6780860595346714,
          0.6987983145428597,
          -0.07202979288761512,
          0.614030197595102,
          0.12652821916127963,
          -0.8522340758208246,
          0.4234484522091782,
          -0.1801895934408284,
          0.4789142196920159,
          -0.01956657125840761,
          0.26265401591850585,
          -0.0032070457125568204,
          0.005974772524075173,
          -0.6210443699058563,
          -0.593051977121846,
          -0.41681302806271897,
          1.3173464315881327,
          0.3494475609922289,
          0.011455080269556822,
          0.3140810809405281,
          -0.2180352226110261,
          -0.15713737793737587,
          -1.6240568473771722,
          0.7853875157272233,
          0.4928943391891125,
          0.39092235649690704,
          1.3937084883551687,
          1.3623494564880834,
          0.6008426698926005,
          0.026650156453504374
         ],
         "yaxis": "y"
        },
        {
         "hovertemplate": "color=Steatornis<br>PCA1=%{x}<br>PCA2=%{y}<extra></extra>",
         "legendgroup": "Steatornis",
         "marker": {
          "color": "#ab63fa",
          "symbol": "circle"
         },
         "mode": "markers",
         "name": "Steatornis",
         "showlegend": true,
         "type": "scattergl",
         "x": [
          -0.3078558094109908,
          -0.09435210196067059
         ],
         "xaxis": "x",
         "y": [
          -0.11662249851647857,
          0.7945115239219321
         ],
         "yaxis": "y"
        },
        {
         "hovertemplate": "color=Stelgidopteryx<br>PCA1=%{x}<br>PCA2=%{y}<extra></extra>",
         "legendgroup": "Stelgidopteryx",
         "marker": {
          "color": "#FFA15A",
          "symbol": "circle"
         },
         "mode": "markers",
         "name": "Stelgidopteryx",
         "showlegend": true,
         "type": "scattergl",
         "x": [
          -1.2951478342767648,
          -1.4041593868109383
         ],
         "xaxis": "x",
         "y": [
          -0.07483231067526398,
          -0.19051537299679122
         ],
         "yaxis": "y"
        },
        {
         "hovertemplate": "color=Sterna<br>PCA1=%{x}<br>PCA2=%{y}<extra></extra>",
         "legendgroup": "Sterna",
         "marker": {
          "color": "#19d3f3",
          "symbol": "circle"
         },
         "mode": "markers",
         "name": "Sterna",
         "showlegend": true,
         "type": "scattergl",
         "x": [
          2.601375154913891,
          -0.03227182761477445,
          -1.5014512186727555
         ],
         "xaxis": "x",
         "y": [
          -0.27545544202244615,
          -0.4398065484944314,
          -0.21176715308519795
         ],
         "yaxis": "y"
        },
        {
         "hovertemplate": "color=Sternula<br>PCA1=%{x}<br>PCA2=%{y}<extra></extra>",
         "legendgroup": "Sternula",
         "marker": {
          "color": "#FF6692",
          "symbol": "circle"
         },
         "mode": "markers",
         "name": "Sternula",
         "showlegend": true,
         "type": "scattergl",
         "x": [
          -0.8121865169710852,
          -0.36202691852922697,
          -0.4016430871235513,
          -1.37150884457033,
          -0.05297151092647985
         ],
         "xaxis": "x",
         "y": [
          -0.4783285125266372,
          1.3702199479394852,
          -0.524750660602531,
          -0.1501427893295723,
          0.08992428014784756
         ],
         "yaxis": "y"
        },
        {
         "hovertemplate": "color=Streptoprocne<br>PCA1=%{x}<br>PCA2=%{y}<extra></extra>",
         "legendgroup": "Streptoprocne",
         "marker": {
          "color": "#B6E880",
          "symbol": "circle"
         },
         "mode": "markers",
         "name": "Streptoprocne",
         "showlegend": true,
         "type": "scattergl",
         "x": [
          -0.6461605831821184,
          -1.2061679848193159,
          -1.1091012906687798,
          0.8265243361551968,
          -1.1680641893686905,
          -1.142683038758784,
          -1.2697837751835912,
          -0.09185584017004213,
          -0.7353139937856396
         ],
         "xaxis": "x",
         "y": [
          0.07355503351973462,
          -0.2706092394087817,
          0.48391338164316183,
          0.6680929322194721,
          0.3513592319948305,
          0.15068737645460678,
          0.0343116545712524,
          1.018664473843319,
          0.380268636404667
         ],
         "yaxis": "y"
        },
        {
         "hovertemplate": "color=Sublegatus<br>PCA1=%{x}<br>PCA2=%{y}<extra></extra>",
         "legendgroup": "Sublegatus",
         "marker": {
          "color": "#FF97FF",
          "symbol": "circle"
         },
         "mode": "markers",
         "name": "Sublegatus",
         "showlegend": true,
         "type": "scattergl",
         "x": [
          -0.6394206649475523,
          0.9270921096016252,
          -1.4289155786469232,
          -1.5719748263176587,
          -0.8772335071917909
         ],
         "xaxis": "x",
         "y": [
          -0.09265419440270745,
          0.20978958901130434,
          -0.2586361972032853,
          -0.04915480859710503,
          0.038895908342091653
         ],
         "yaxis": "y"
        },
        {
         "hovertemplate": "color=Synallaxis<br>PCA1=%{x}<br>PCA2=%{y}<extra></extra>",
         "legendgroup": "Synallaxis",
         "marker": {
          "color": "#FECB52",
          "symbol": "circle"
         },
         "mode": "markers",
         "name": "Synallaxis",
         "showlegend": true,
         "type": "scattergl",
         "x": [
          3.2332973095179813,
          -0.10935846638020125,
          3.2526930429634917,
          1.3541360637994346,
          -0.11338816968808668,
          1.4128459801908073,
          0.1367353844834837,
          -1.129072852513212,
          -1.1310475486336387,
          1.2940085863471742,
          -0.19250703974150515,
          0.7377328812313931,
          -0.6300431027856014,
          1.057994777545956,
          -0.2866951598571269,
          -0.08006209372695168,
          1.0980415880652084,
          0.07353648810439274
         ],
         "xaxis": "x",
         "y": [
          -1.4679644928196014,
          -0.49111028757204844,
          -1.8422295204837111,
          -0.6611744212289222,
          -0.4324451574280736,
          -1.0527745792214074,
          -0.8305344866495894,
          -0.03919033562896333,
          -0.19510927880329187,
          -1.558394407692002,
          0.42756968086448194,
          0.4323903693194721,
          -0.36226423691287835,
          0.15609992852220533,
          0.713501245967267,
          0.30047876172986454,
          -0.8652860265362873,
          -0.887038102903773
         ],
         "yaxis": "y"
        },
        {
         "hovertemplate": "color=Syndactyla<br>PCA1=%{x}<br>PCA2=%{y}<extra></extra>",
         "legendgroup": "Syndactyla",
         "marker": {
          "color": "#636efa",
          "symbol": "circle"
         },
         "mode": "markers",
         "name": "Syndactyla",
         "showlegend": true,
         "type": "scattergl",
         "x": [
          0.009957716590547795,
          0.04682504628011039,
          3.492745188018721,
          -1.1338864437154224,
          -0.31718257912592973,
          1.4832777342960333
         ],
         "xaxis": "x",
         "y": [
          0.46290448128311995,
          -0.20063699131381002,
          1.6003824916298472,
          0.1409233825232284,
          0.14667312073539504,
          1.659199042914682
         ],
         "yaxis": "y"
        },
        {
         "hovertemplate": "color=Tachornis<br>PCA1=%{x}<br>PCA2=%{y}<extra></extra>",
         "legendgroup": "Tachornis",
         "marker": {
          "color": "#EF553B",
          "symbol": "circle"
         },
         "mode": "markers",
         "name": "Tachornis",
         "showlegend": true,
         "type": "scattergl",
         "x": [
          -1.3673788113697372,
          -0.8216808253084275,
          -0.49652695830193594
         ],
         "xaxis": "x",
         "y": [
          0.0881603456338346,
          0.019723190369279393,
          1.013614021233512
         ],
         "yaxis": "y"
        },
        {
         "hovertemplate": "color=Tachybaptus<br>PCA1=%{x}<br>PCA2=%{y}<extra></extra>",
         "legendgroup": "Tachybaptus",
         "marker": {
          "color": "#00cc96",
          "symbol": "circle"
         },
         "mode": "markers",
         "name": "Tachybaptus",
         "showlegend": true,
         "type": "scattergl",
         "x": [
          -0.5102007484511627,
          -1.4773815471017153,
          -0.39508938568049884,
          -0.15393435048662626,
          1.4486715890868496
         ],
         "xaxis": "x",
         "y": [
          1.1986098139404218,
          -0.024107924926505937,
          0.32897192986252394,
          0.050078651570381646,
          -1.102013342603647
         ],
         "yaxis": "y"
        },
        {
         "hovertemplate": "color=Tachycineta<br>PCA1=%{x}<br>PCA2=%{y}<extra></extra>",
         "legendgroup": "Tachycineta",
         "marker": {
          "color": "#ab63fa",
          "symbol": "circle"
         },
         "mode": "markers",
         "name": "Tachycineta",
         "showlegend": true,
         "type": "scattergl",
         "x": [
          -1.0469531745843166,
          -1.190794609503534,
          -0.481598978326219,
          -1.381360570563794,
          -1.0530339807859839
         ],
         "xaxis": "x",
         "y": [
          -0.1955932441028627,
          -0.32831776474391505,
          -0.38891906228303175,
          -0.43816810173261683,
          -0.4711046810195453
         ],
         "yaxis": "y"
        },
        {
         "hovertemplate": "color=Tachyphonus<br>PCA1=%{x}<br>PCA2=%{y}<extra></extra>",
         "legendgroup": "Tachyphonus",
         "marker": {
          "color": "#FFA15A",
          "symbol": "circle"
         },
         "mode": "markers",
         "name": "Tachyphonus",
         "showlegend": true,
         "type": "scattergl",
         "x": [
          3.368779548040638,
          2.1872860552399076,
          0.4196126879493206,
          0.1543457068616257,
          -1.440524122536445
         ],
         "xaxis": "x",
         "y": [
          -1.6303633394422041,
          -3.527824411184791,
          0.580430382186249,
          -0.8687139868947555,
          -0.3733934962917057
         ],
         "yaxis": "y"
        },
        {
         "hovertemplate": "color=Tangara<br>PCA1=%{x}<br>PCA2=%{y}<extra></extra>",
         "legendgroup": "Tangara",
         "marker": {
          "color": "#19d3f3",
          "symbol": "circle"
         },
         "mode": "markers",
         "name": "Tangara",
         "showlegend": true,
         "type": "scattergl",
         "x": [
          -1.5272297212564294,
          -1.0561662131415488,
          -0.9346757675662803,
          -1.3712994169551402,
          -0.6533708204211166,
          -0.047256388852900795,
          -1.3225188333500204,
          4.718251749579709,
          -1.0438564303516034,
          -0.4731316415113873,
          0.4448539918186572,
          0.06361060105810254,
          0.5750678982779899,
          0.5050924546490146,
          -1.1529187872434803,
          -1.2943441576385026,
          -0.5652848838724405,
          -0.48248324308869256,
          3.7645667609245677,
          -0.5824418290169344,
          -1.2925939546040943,
          -1.3734541581899868,
          -1.334584951682013,
          0.8385472367595007,
          -1.114030856446134,
          -1.0004005010791395,
          0.4948886285682724,
          -1.0432338753175419,
          -0.09143204788498127,
          -0.49230371023269276,
          -1.5012412487060927,
          2.3368364481810757,
          -0.08998452956539316,
          1.1198060007527157,
          1.01249740555972,
          -0.6526629439294725
         ],
         "xaxis": "x",
         "y": [
          0.012876493848467781,
          -0.40323041570535617,
          -0.4604109762273525,
          -0.1271149816049943,
          -0.26125625854780693,
          -0.44259258421900344,
          -0.4494218540210456,
          -8.480585284369047,
          -0.5767194522764257,
          -0.8693296874757828,
          -0.801856472333202,
          -0.836036373757082,
          -0.600169693048975,
          -1.1955561247252955,
          0.22546924769964813,
          0.1361988683487808,
          0.5972809783431658,
          -0.23664296025241902,
          0.9735192657070407,
          -0.45983025285772017,
          -0.39315489315176844,
          0.23331655839081478,
          -0.17150020436565128,
          -0.4539677944031792,
          -0.21921851667501535,
          0.19055493153276562,
          -1.1151568508687433,
          -0.26833589715592077,
          -0.382001023660569,
          -0.1405222422682545,
          -0.2739472498553051,
          -0.7924457282603475,
          -0.31744872137879,
          -0.6417047081601095,
          0.015011302936921924,
          -0.2157092940262129
         ],
         "yaxis": "y"
        },
        {
         "hovertemplate": "color=Tapera<br>PCA1=%{x}<br>PCA2=%{y}<extra></extra>",
         "legendgroup": "Tapera",
         "marker": {
          "color": "#FF6692",
          "symbol": "circle"
         },
         "mode": "markers",
         "name": "Tapera",
         "showlegend": true,
         "type": "scattergl",
         "x": [
          2.054992298363865,
          0.23031319553975627
         ],
         "xaxis": "x",
         "y": [
          0.37721666991101666,
          -0.29663204268232046
         ],
         "yaxis": "y"
        },
        {
         "hovertemplate": "color=Taphrospilus<br>PCA1=%{x}<br>PCA2=%{y}<extra></extra>",
         "legendgroup": "Taphrospilus",
         "marker": {
          "color": "#B6E880",
          "symbol": "circle"
         },
         "mode": "markers",
         "name": "Taphrospilus",
         "showlegend": true,
         "type": "scattergl",
         "x": [
          -0.8803658996884076,
          -1.0684804770567333,
          -1.0829738312511876
         ],
         "xaxis": "x",
         "y": [
          0.014182936558810134,
          -0.22660352310284299,
          -0.10118656557614551
         ],
         "yaxis": "y"
        },
        {
         "hovertemplate": "color=Taraba<br>PCA1=%{x}<br>PCA2=%{y}<extra></extra>",
         "legendgroup": "Taraba",
         "marker": {
          "color": "#FF97FF",
          "symbol": "circle"
         },
         "mode": "markers",
         "name": "Taraba",
         "showlegend": true,
         "type": "scattergl",
         "x": [
          -0.9938736761603109,
          1.3461918095104008,
          -1.0789203043042737
         ],
         "xaxis": "x",
         "y": [
          0.7598434076493676,
          1.0984129807679988,
          0.5600553155637464
         ],
         "yaxis": "y"
        },
        {
         "hovertemplate": "color=Terenotriccus<br>PCA1=%{x}<br>PCA2=%{y}<extra></extra>",
         "legendgroup": "Terenotriccus",
         "marker": {
          "color": "#FECB52",
          "symbol": "circle"
         },
         "mode": "markers",
         "name": "Terenotriccus",
         "showlegend": true,
         "type": "scattergl",
         "x": [
          1.4008441811417545,
          1.0318916100934328,
          -1.2108177915210823,
          0.025801596636040453
         ],
         "xaxis": "x",
         "y": [
          0.31616433079884915,
          0.551879591662339,
          0.2761236477610389,
          0.6452919281770049
         ],
         "yaxis": "y"
        },
        {
         "hovertemplate": "color=Tersina<br>PCA1=%{x}<br>PCA2=%{y}<extra></extra>",
         "legendgroup": "Tersina",
         "marker": {
          "color": "#636efa",
          "symbol": "circle"
         },
         "mode": "markers",
         "name": "Tersina",
         "showlegend": true,
         "type": "scattergl",
         "x": [
          -0.41624298474234217,
          -0.750937821320114,
          1.0805347492886583,
          -0.954171668116703
         ],
         "xaxis": "x",
         "y": [
          0.8859809844935543,
          0.17959880044901555,
          -0.3134617310024174,
          -0.0756894278611701
         ],
         "yaxis": "y"
        },
        {
         "hovertemplate": "color=Thalurania<br>PCA1=%{x}<br>PCA2=%{y}<extra></extra>",
         "legendgroup": "Thalurania",
         "marker": {
          "color": "#EF553B",
          "symbol": "circle"
         },
         "mode": "markers",
         "name": "Thalurania",
         "showlegend": true,
         "type": "scattergl",
         "x": [
          0.5515173512672943,
          -1.2917451215169675,
          0.7559721458367802
         ],
         "xaxis": "x",
         "y": [
          -1.5372105451883842,
          -0.760643277196841,
          -1.0760685962222956
         ],
         "yaxis": "y"
        },
        {
         "hovertemplate": "color=Thamnistes<br>PCA1=%{x}<br>PCA2=%{y}<extra></extra>",
         "legendgroup": "Thamnistes",
         "marker": {
          "color": "#00cc96",
          "symbol": "circle"
         },
         "mode": "markers",
         "name": "Thamnistes",
         "showlegend": true,
         "type": "scattergl",
         "x": [
          -0.8227565618863704,
          -0.9037682116343984,
          -1.0984481025731625
         ],
         "xaxis": "x",
         "y": [
          0.07790692310494277,
          0.14298981125329108,
          0.31005213361929534
         ],
         "yaxis": "y"
        },
        {
         "hovertemplate": "color=Thamnomanes<br>PCA1=%{x}<br>PCA2=%{y}<extra></extra>",
         "legendgroup": "Thamnomanes",
         "marker": {
          "color": "#ab63fa",
          "symbol": "circle"
         },
         "mode": "markers",
         "name": "Thamnomanes",
         "showlegend": true,
         "type": "scattergl",
         "x": [
          -1.2633116836701916,
          -0.9060633005870693,
          0.26171920987074654
         ],
         "xaxis": "x",
         "y": [
          -0.2433027085728804,
          -0.5134167804402212,
          0.8573388643824766
         ],
         "yaxis": "y"
        },
        {
         "hovertemplate": "color=Thamnophilus<br>PCA1=%{x}<br>PCA2=%{y}<extra></extra>",
         "legendgroup": "Thamnophilus",
         "marker": {
          "color": "#FFA15A",
          "symbol": "circle"
         },
         "mode": "markers",
         "name": "Thamnophilus",
         "showlegend": true,
         "type": "scattergl",
         "x": [
          -0.6354511383117614,
          -0.20021224093907608,
          -1.0232999819701574,
          0.2847771600348606,
          0.311785315811443,
          -1.2397993263637228,
          -0.6373324293690961,
          -0.27760873867186414,
          0.4732997781764254,
          -0.8397691555280767,
          -0.5782087459221255,
          0.0939533060243846,
          0.36763061642589906,
          0.29403742516177384,
          -1.4411289215493932,
          1.0401479681002654,
          -0.96597858252556,
          -0.5923947663538913,
          0.23699317065698527,
          -0.9050713640600582,
          1.8044585593514728,
          -1.091593424501343,
          -0.6815871369664566,
          0.19761202369745884,
          1.821332795809699,
          0.1938184344237459,
          -0.2904717132077658
         ],
         "xaxis": "x",
         "y": [
          1.008054175661874,
          0.7402468323790187,
          0.021641489843321583,
          0.6255518210712118,
          -1.8249749331093912,
          0.07138536292352375,
          0.9976954756650416,
          -0.5904191564569284,
          0.3827596219071198,
          -0.06702299657662195,
          0.2900245219422594,
          -0.14440149446927752,
          -0.04818299090954507,
          -0.2806851049308813,
          -0.31423468684087386,
          2.029988392194312,
          0.09290459317924353,
          0.6950777302624069,
          1.4751904982579906,
          -0.030394784785353637,
          0.8546532093585065,
          0.008191644712812241,
          -0.003165061753922403,
          1.5139839594631308,
          1.799935703648008,
          0.5368404034424943,
          1.5630796900646833
         ],
         "yaxis": "y"
        },
        {
         "hovertemplate": "color=Theristicus<br>PCA1=%{x}<br>PCA2=%{y}<extra></extra>",
         "legendgroup": "Theristicus",
         "marker": {
          "color": "#19d3f3",
          "symbol": "circle"
         },
         "mode": "markers",
         "name": "Theristicus",
         "showlegend": true,
         "type": "scattergl",
         "x": [
          -0.647209057389922,
          -0.9339011277124158,
          -1.2211685761205517,
          -0.9593060424745442,
          -0.8254105001165579,
          -1.4344880580621768
         ],
         "xaxis": "x",
         "y": [
          -0.3422385536258246,
          -0.6361962772346247,
          -0.3711920367356095,
          0.02087013393179109,
          0.005155701952665137,
          -0.2575827922989022
         ],
         "yaxis": "y"
        },
        {
         "hovertemplate": "color=Thlypopsis<br>PCA1=%{x}<br>PCA2=%{y}<extra></extra>",
         "legendgroup": "Thlypopsis",
         "marker": {
          "color": "#FF6692",
          "symbol": "circle"
         },
         "mode": "markers",
         "name": "Thlypopsis",
         "showlegend": true,
         "type": "scattergl",
         "x": [
          -0.22318810777150536,
          -1.1763419415879035,
          -0.4304639386830172,
          -1.346093060696239,
          -0.07044592995009342
         ],
         "xaxis": "x",
         "y": [
          -0.21833035629789332,
          0.20284336913730364,
          0.44415446946286463,
          -0.049370063491103684,
          -0.5197254541526632
         ],
         "yaxis": "y"
        },
        {
         "hovertemplate": "color=Thraupis<br>PCA1=%{x}<br>PCA2=%{y}<extra></extra>",
         "legendgroup": "Thraupis",
         "marker": {
          "color": "#B6E880",
          "symbol": "circle"
         },
         "mode": "markers",
         "name": "Thraupis",
         "showlegend": true,
         "type": "scattergl",
         "x": [
          0.7323398326301604,
          -1.0034734821060196,
          0.46231457045738256,
          -1.1730776103175657,
          0.4308780691557797,
          -1.348650382263334,
          -1.341889038600989
         ],
         "xaxis": "x",
         "y": [
          -1.145098177102569,
          0.4178194063790726,
          -0.4050887642294063,
          0.4297077995053105,
          -0.42889444213536443,
          0.1876181849284616,
          0.25103957584207437
         ],
         "yaxis": "y"
        },
        {
         "hovertemplate": "color=Threnetes<br>PCA1=%{x}<br>PCA2=%{y}<extra></extra>",
         "legendgroup": "Threnetes",
         "marker": {
          "color": "#FF97FF",
          "symbol": "circle"
         },
         "mode": "markers",
         "name": "Threnetes",
         "showlegend": true,
         "type": "scattergl",
         "x": [
          4.391462611981019,
          1.2976882429448349,
          1.3000629952677236,
          0.31488051981011217
         ],
         "xaxis": "x",
         "y": [
          -4.104423271612291,
          0.16025013345416728,
          -0.37939444252538024,
          -0.2047133107556383
         ],
         "yaxis": "y"
        },
        {
         "hovertemplate": "color=Thripadectes<br>PCA1=%{x}<br>PCA2=%{y}<extra></extra>",
         "legendgroup": "Thripadectes",
         "marker": {
          "color": "#FECB52",
          "symbol": "circle"
         },
         "mode": "markers",
         "name": "Thripadectes",
         "showlegend": true,
         "type": "scattergl",
         "x": [
          -0.9442102472300481,
          1.1410250371476165,
          0.6431523916121444,
          -0.33311451278524107,
          -0.7007032343839856,
          -0.09028375598627773,
          -0.02131662093774027,
          0.2963016436496019
         ],
         "xaxis": "x",
         "y": [
          0.44112799238294953,
          -2.9558973489507885,
          -2.4612945208370607,
          0.20364787917144667,
          0.5631365703523937,
          -0.10273444736833291,
          -0.14834044049483683,
          1.0256327187401788
         ],
         "yaxis": "y"
        },
        {
         "hovertemplate": "color=Thripophaga<br>PCA1=%{x}<br>PCA2=%{y}<extra></extra>",
         "legendgroup": "Thripophaga",
         "marker": {
          "color": "#636efa",
          "symbol": "circle"
         },
         "mode": "markers",
         "name": "Thripophaga",
         "showlegend": true,
         "type": "scattergl",
         "x": [
          -0.3697174735499648,
          -0.17509455503844681
         ],
         "xaxis": "x",
         "y": [
          0.639577662610397,
          0.17985702529406958
         ],
         "yaxis": "y"
        },
        {
         "hovertemplate": "color=Tigrisoma<br>PCA1=%{x}<br>PCA2=%{y}<extra></extra>",
         "legendgroup": "Tigrisoma",
         "marker": {
          "color": "#EF553B",
          "symbol": "circle"
         },
         "mode": "markers",
         "name": "Tigrisoma",
         "showlegend": true,
         "type": "scattergl",
         "x": [
          -1.6007134966233552,
          1.6457328400158966,
          -1.0302153205782854,
          -1.279929438445017
         ],
         "xaxis": "x",
         "y": [
          -0.1009831772613311,
          -1.2933752059705104,
          0.4519680486461874,
          0.47364002018638696
         ],
         "yaxis": "y"
        },
        {
         "hovertemplate": "color=Tinamus<br>PCA1=%{x}<br>PCA2=%{y}<extra></extra>",
         "legendgroup": "Tinamus",
         "marker": {
          "color": "#00cc96",
          "symbol": "circle"
         },
         "mode": "markers",
         "name": "Tinamus",
         "showlegend": true,
         "type": "scattergl",
         "x": [
          -0.8943296739829331,
          -1.2496769276171915,
          -1.021527751058395,
          1.8664271600631008,
          -0.5299768627244296,
          3.6354043717582893,
          -0.3035762527765473,
          1.3338314121244095,
          0.16699423018903367,
          -0.3210799409556904,
          7.1899652440540756,
          -1.4766673570531708,
          1.994614233358584
         ],
         "xaxis": "x",
         "y": [
          -0.41504468415798434,
          -0.4426743343205074,
          -0.07684974588091932,
          1.5171483006783517,
          0.670563000906906,
          1.525002565936836,
          0.4786104844023721,
          1.495617942982076,
          1.0483718661966852,
          1.0285811267488814,
          0.6455984638625354,
          -0.31394973469530907,
          3.843918603637169
         ],
         "yaxis": "y"
        },
        {
         "hovertemplate": "color=Tityra<br>PCA1=%{x}<br>PCA2=%{y}<extra></extra>",
         "legendgroup": "Tityra",
         "marker": {
          "color": "#ab63fa",
          "symbol": "circle"
         },
         "mode": "markers",
         "name": "Tityra",
         "showlegend": true,
         "type": "scattergl",
         "x": [
          -0.5674221927906512,
          -1.1818713797494158,
          -1.449924551267805,
          0.20504507977653838,
          -1.2285852033620035,
          1.139708115072018,
          -1.2646765544851148,
          -1.4978549695123549,
          -1.1065823489764577,
          0.08668342829745086,
          -0.8134121446717707
         ],
         "xaxis": "x",
         "y": [
          0.5859344456404768,
          -0.04826142513899999,
          0.13458406237521062,
          0.5673651760643221,
          0.03672948289106264,
          0.2932364898621985,
          -0.4774604997070965,
          -0.29000955624758235,
          0.04158487227657503,
          0.2637579211135038,
          0.27097221872870964
         ],
         "yaxis": "y"
        },
        {
         "hovertemplate": "color=Todirostrum<br>PCA1=%{x}<br>PCA2=%{y}<extra></extra>",
         "legendgroup": "Todirostrum",
         "marker": {
          "color": "#FFA15A",
          "symbol": "circle"
         },
         "mode": "markers",
         "name": "Todirostrum",
         "showlegend": true,
         "type": "scattergl",
         "x": [
          -0.9537744581596149,
          2.14374371565048,
          -0.726153612068304,
          -0.8326454446077145,
          1.3721374744283963,
          2.255257410215383,
          -0.6020917260437149,
          -0.5516269747722768,
          -1.4067053595459587,
          -1.1973813742023998,
          0.8944817430020058,
          -1.2630360884420992
         ],
         "xaxis": "x",
         "y": [
          -0.1868444208704791,
          -0.7271172525479017,
          -0.42839845083167727,
          0.06591696022558853,
          -1.1909335027618222,
          -5.080512770866638,
          0.3589896072655729,
          -0.25386741414085967,
          -0.17364081035029055,
          0.025488379200300997,
          -0.7614219864659125,
          -0.3528020210525998
         ],
         "yaxis": "y"
        },
        {
         "hovertemplate": "color=Tolmomyias<br>PCA1=%{x}<br>PCA2=%{y}<extra></extra>",
         "legendgroup": "Tolmomyias",
         "marker": {
          "color": "#19d3f3",
          "symbol": "circle"
         },
         "mode": "markers",
         "name": "Tolmomyias",
         "showlegend": true,
         "type": "scattergl",
         "x": [
          1.3166377205944928,
          -0.46975576238499156,
          2.3903612227912996,
          -1.3496114370978027,
          1.0854239581556164,
          -1.3430528003136597,
          0.20955555122970454,
          -0.8327301225317887,
          -0.7320153584917154,
          -1.1015638228636992,
          1.5768990022337077,
          -1.422565746111672,
          4.376643899565015,
          0.036375261149970695
         ],
         "xaxis": "x",
         "y": [
          0.625886836088988,
          0.03248698826193223,
          0.038162046443319386,
          0.08674868589827356,
          -0.3399904333832094,
          0.1447906790961826,
          0.27781690897350775,
          -0.8677544440355115,
          -0.22047983284627135,
          0.17333571343112894,
          -0.5426719906024311,
          -0.3386638728911444,
          1.4999706601987564,
          0.2754297848281991
         ],
         "yaxis": "y"
        },
        {
         "hovertemplate": "color=Touit<br>PCA1=%{x}<br>PCA2=%{y}<extra></extra>",
         "legendgroup": "Touit",
         "marker": {
          "color": "#FF6692",
          "symbol": "circle"
         },
         "mode": "markers",
         "name": "Touit",
         "showlegend": true,
         "type": "scattergl",
         "x": [
          -0.2382513054981289,
          -1.1927205076150966,
          -0.008881003627048113
         ],
         "xaxis": "x",
         "y": [
          -0.6702036587944017,
          -0.08552842861263311,
          -0.22009753894071832
         ],
         "yaxis": "y"
        },
        {
         "hovertemplate": "color=Trichothraupis<br>PCA1=%{x}<br>PCA2=%{y}<extra></extra>",
         "legendgroup": "Trichothraupis",
         "marker": {
          "color": "#B6E880",
          "symbol": "circle"
         },
         "mode": "markers",
         "name": "Trichothraupis",
         "showlegend": true,
         "type": "scattergl",
         "x": [
          3.9664954323560657,
          -0.18172651383843225,
          -0.3922083752732132
         ],
         "xaxis": "x",
         "y": [
          2.6666680609979068,
          -0.07501017431263811,
          -0.4894361456269868
         ],
         "yaxis": "y"
        },
        {
         "hovertemplate": "color=Tringa<br>PCA1=%{x}<br>PCA2=%{y}<extra></extra>",
         "legendgroup": "Tringa",
         "marker": {
          "color": "#FF97FF",
          "symbol": "circle"
         },
         "mode": "markers",
         "name": "Tringa",
         "showlegend": true,
         "type": "scattergl",
         "x": [
          -0.5949584968533708,
          -1.340066519482855,
          -1.0646067126552226,
          -0.8668177255778129,
          -0.7191040462902138,
          -0.15129955712297746,
          -1.1094500857028475,
          -1.4035505645211446,
          -1.1977510438094439,
          -0.6729300197605972,
          -1.4551748422524224,
          -1.0704465548294986,
          1.1512122021061224
         ],
         "xaxis": "x",
         "y": [
          -0.8133122036775331,
          -0.0851120293819815,
          -0.545670288174911,
          -0.3831894799216271,
          -0.6804339997069728,
          0.3334745184472085,
          -0.07799034613347659,
          0.021646874840840095,
          -0.2611021444391411,
          0.5416554534662393,
          -0.10579545560740884,
          -0.21009944647083373,
          0.1593364546807113
         ],
         "yaxis": "y"
        },
        {
         "hovertemplate": "color=Troglodytes<br>PCA1=%{x}<br>PCA2=%{y}<extra></extra>",
         "legendgroup": "Troglodytes",
         "marker": {
          "color": "#FECB52",
          "symbol": "circle"
         },
         "mode": "markers",
         "name": "Troglodytes",
         "showlegend": true,
         "type": "scattergl",
         "x": [
          -0.038604108916017385,
          -0.29709554918084813,
          0.28128825150734105,
          4.546691685782648
         ],
         "xaxis": "x",
         "y": [
          0.5644391917441929,
          0.3419286471007649,
          -0.7939466428761202,
          -8.25768910302325
         ],
         "yaxis": "y"
        },
        {
         "hovertemplate": "color=Trogon<br>PCA1=%{x}<br>PCA2=%{y}<extra></extra>",
         "legendgroup": "Trogon",
         "marker": {
          "color": "#636efa",
          "symbol": "circle"
         },
         "mode": "markers",
         "name": "Trogon",
         "showlegend": true,
         "type": "scattergl",
         "x": [
          -1.0939932705691078,
          -0.029224677862791988,
          2.66420855267841,
          -0.8683621086866411,
          0.32467688638267944,
          0.49948092900987195,
          0.7878022665682374,
          -0.7003063202554587,
          1.2137888318555075,
          -0.1969109768876927,
          3.11901822426203,
          -0.4427811490648354,
          4.022075852115575,
          1.1332987736451279,
          0.6265665765550136,
          0.7525482017177879,
          0.002415439705814446,
          -0.6369103426545388,
          -0.3095045089688085
         ],
         "xaxis": "x",
         "y": [
          0.42744764848873346,
          0.9889435608267254,
          1.987622503412796,
          0.3108710126536034,
          0.6135624630414744,
          1.2920261230559287,
          1.4359743578707362,
          0.1808518077770055,
          2.261342772044228,
          -0.01247005587041254,
          -4.1108210321261724,
          0.8838590092639926,
          -1.5344667079627836,
          1.7123765524288184,
          1.2455384942538554,
          1.529834425707563,
          0.2173171557268325,
          -1.69985310592721,
          1.8894231596149131
         ],
         "yaxis": "y"
        },
        {
         "hovertemplate": "color=Turdus<br>PCA1=%{x}<br>PCA2=%{y}<extra></extra>",
         "legendgroup": "Turdus",
         "marker": {
          "color": "#EF553B",
          "symbol": "circle"
         },
         "mode": "markers",
         "name": "Turdus",
         "showlegend": true,
         "type": "scattergl",
         "x": [
          1.2734348072247759,
          1.4129636322148225,
          -0.04842822453303662,
          8.060480101241248,
          2.3942226215735465,
          -1.3931395678297611,
          -1.0131744080935194,
          -0.35282740618641595,
          7.1006106836814995,
          3.3715260331983017,
          8.097195301834862,
          -1.3233744851593878,
          5.775145043543713,
          2.520087374937453,
          0.8048370810750624,
          2.432606517010131,
          -0.4941570841300789,
          -0.9667718172234537,
          0.906259392684686,
          -0.7249633765088386,
          -1.2850294067615573,
          -0.3532558032634925,
          -0.564697854082534,
          -0.6418047693226652,
          -1.2811069804890096
         ],
         "xaxis": "x",
         "y": [
          0.7522388675060326,
          -1.2159191305581691,
          3.231870604889533,
          20.92742231089395,
          -0.4776784199235349,
          0.3992200454212672,
          1.1082138916649023,
          1.9040504193444152,
          3.118458327228867,
          0.0690809695927541,
          0.7983669961169428,
          0.09291663726837118,
          1.6482478946627523,
          0.4352270892513191,
          0.5639665038082503,
          -0.1621892407002116,
          0.4118045489960607,
          0.3454310486244834,
          0.06546609718276251,
          -0.40622079935620403,
          -0.07364432551019408,
          -0.046073739342598306,
          -0.03573698571225133,
          0.3508344603149156,
          -0.4544611045724051
         ],
         "yaxis": "y"
        },
        {
         "hovertemplate": "color=Tyranneutes<br>PCA1=%{x}<br>PCA2=%{y}<extra></extra>",
         "legendgroup": "Tyranneutes",
         "marker": {
          "color": "#00cc96",
          "symbol": "circle"
         },
         "mode": "markers",
         "name": "Tyranneutes",
         "showlegend": true,
         "type": "scattergl",
         "x": [
          -0.6334723733463581,
          -0.3762144507672521
         ],
         "xaxis": "x",
         "y": [
          0.010225566355235983,
          1.0679390311604084
         ],
         "yaxis": "y"
        },
        {
         "hovertemplate": "color=Tyrannopsis<br>PCA1=%{x}<br>PCA2=%{y}<extra></extra>",
         "legendgroup": "Tyrannopsis",
         "marker": {
          "color": "#ab63fa",
          "symbol": "circle"
         },
         "mode": "markers",
         "name": "Tyrannopsis",
         "showlegend": true,
         "type": "scattergl",
         "x": [
          2.566511626906508,
          1.157143716601258
         ],
         "xaxis": "x",
         "y": [
          -0.504019247185579,
          1.4181675784448802
         ],
         "yaxis": "y"
        },
        {
         "hovertemplate": "color=Tyrannulus<br>PCA1=%{x}<br>PCA2=%{y}<extra></extra>",
         "legendgroup": "Tyrannulus",
         "marker": {
          "color": "#FFA15A",
          "symbol": "circle"
         },
         "mode": "markers",
         "name": "Tyrannulus",
         "showlegend": true,
         "type": "scattergl",
         "x": [
          -0.9859145900258259,
          -1.3732640301843553,
          -1.6123462348640412,
          -0.7505482525516934
         ],
         "xaxis": "x",
         "y": [
          -0.3872294280268101,
          0.034100194019184425,
          -0.2127078724503198,
          1.1125138162433845
         ],
         "yaxis": "y"
        },
        {
         "hovertemplate": "color=Tyrannus<br>PCA1=%{x}<br>PCA2=%{y}<extra></extra>",
         "legendgroup": "Tyrannus",
         "marker": {
          "color": "#19d3f3",
          "symbol": "circle"
         },
         "mode": "markers",
         "name": "Tyrannus",
         "showlegend": true,
         "type": "scattergl",
         "x": [
          -1.1097824182932778,
          -0.2521283387750384,
          -1.371791845403324,
          0.16479861367383064,
          -1.4231662391410613,
          -0.6820559930784251,
          -0.4808403429974028,
          9.76209727840374,
          -0.13192108467029046
         ],
         "xaxis": "x",
         "y": [
          0.2866165622674108,
          -0.5012686091930553,
          -0.24956845600730432,
          -0.11151309913482706,
          -0.46736321949270754,
          -0.5626899587048442,
          0.04100855906177632,
          -5.094739793273798,
          0.3541318307016999
         ],
         "yaxis": "y"
        },
        {
         "hovertemplate": "color=Tyto<br>PCA1=%{x}<br>PCA2=%{y}<extra></extra>",
         "legendgroup": "Tyto",
         "marker": {
          "color": "#FF6692",
          "symbol": "circle"
         },
         "mode": "markers",
         "name": "Tyto",
         "showlegend": true,
         "type": "scattergl",
         "x": [
          -1.5547634499875733,
          -0.04173805035325871,
          -1.567327709804039
         ],
         "xaxis": "x",
         "y": [
          -0.036327392981158786,
          0.03496251579766402,
          -0.07540208979054874
         ],
         "yaxis": "y"
        },
        {
         "hovertemplate": "color=Uropsalis<br>PCA1=%{x}<br>PCA2=%{y}<extra></extra>",
         "legendgroup": "Uropsalis",
         "marker": {
          "color": "#B6E880",
          "symbol": "circle"
         },
         "mode": "markers",
         "name": "Uropsalis",
         "showlegend": true,
         "type": "scattergl",
         "x": [
          2.018565853806437,
          0.15068669073789015,
          -0.5544953997892287,
          2.9628078622604908
         ],
         "xaxis": "x",
         "y": [
          2.894647231571913,
          -0.40116981901702997,
          0.9486406734127867,
          0.4657083920260942
         ],
         "yaxis": "y"
        },
        {
         "hovertemplate": "color=Vanellus<br>PCA1=%{x}<br>PCA2=%{y}<extra></extra>",
         "legendgroup": "Vanellus",
         "marker": {
          "color": "#FF97FF",
          "symbol": "circle"
         },
         "mode": "markers",
         "name": "Vanellus",
         "showlegend": true,
         "type": "scattergl",
         "x": [
          -0.833981692939543,
          -0.7439072275587573,
          -0.958540968367766
         ],
         "xaxis": "x",
         "y": [
          -0.8087169519863925,
          -0.7645049164740079,
          -0.6916042460300306
         ],
         "yaxis": "y"
        },
        {
         "hovertemplate": "color=Veniliornis<br>PCA1=%{x}<br>PCA2=%{y}<extra></extra>",
         "legendgroup": "Veniliornis",
         "marker": {
          "color": "#FECB52",
          "symbol": "circle"
         },
         "mode": "markers",
         "name": "Veniliornis",
         "showlegend": true,
         "type": "scattergl",
         "x": [
          -1.0768363581141551,
          0.2628808405423837,
          2.464088749759627,
          -1.2395843193967957,
          -1.098771736407828
         ],
         "xaxis": "x",
         "y": [
          -0.17888122093915,
          0.5021733879846967,
          -0.09503717141838354,
          0.19786837463148224,
          -0.09251808953474303
         ],
         "yaxis": "y"
        },
        {
         "hovertemplate": "color=Vireo<br>PCA1=%{x}<br>PCA2=%{y}<extra></extra>",
         "legendgroup": "Vireo",
         "marker": {
          "color": "#636efa",
          "symbol": "circle"
         },
         "mode": "markers",
         "name": "Vireo",
         "showlegend": true,
         "type": "scattergl",
         "x": [
          0.20414891395209406,
          4.785086679059819,
          -0.36108843299957183,
          -0.5335264016050817,
          -0.24774189680537986,
          -0.9253165045122395,
          -0.7759196355321997,
          -0.8220247391217331,
          -0.728781265512972,
          1.7982596168764928,
          7.636512468515399,
          2.4394444814118827,
          -1.2186805704185175
         ],
         "xaxis": "x",
         "y": [
          -0.7748404351423477,
          -2.1669730385940347,
          2.6854874880846142,
          -0.10380627719945842,
          -0.6993565422944432,
          -0.13305590281042934,
          0.36237648168285497,
          0.5608438018707157,
          0.39084716068944675,
          -1.3585102376525493,
          -2.3784616078562735,
          -5.627845991308592,
          0.02511385608859469
         ],
         "yaxis": "y"
        },
        {
         "hovertemplate": "color=Vireolanius<br>PCA1=%{x}<br>PCA2=%{y}<extra></extra>",
         "legendgroup": "Vireolanius",
         "marker": {
          "color": "#EF553B",
          "symbol": "circle"
         },
         "mode": "markers",
         "name": "Vireolanius",
         "showlegend": true,
         "type": "scattergl",
         "x": [
          -0.7938513414804264,
          2.1788980622785132,
          -0.061312783896579674,
          -0.00633329211445312
         ],
         "xaxis": "x",
         "y": [
          -0.3634701745144817,
          0.09185221543300827,
          -0.23108399148061134,
          -0.5043933348841456
         ],
         "yaxis": "y"
        },
        {
         "hovertemplate": "color=Volatinia<br>PCA1=%{x}<br>PCA2=%{y}<extra></extra>",
         "legendgroup": "Volatinia",
         "marker": {
          "color": "#00cc96",
          "symbol": "circle"
         },
         "mode": "markers",
         "name": "Volatinia",
         "showlegend": true,
         "type": "scattergl",
         "x": [
          -0.2645215098139783
         ],
         "xaxis": "x",
         "y": [
          0.45268826344223007
         ],
         "yaxis": "y"
        },
        {
         "hovertemplate": "color=Willisornis<br>PCA1=%{x}<br>PCA2=%{y}<extra></extra>",
         "legendgroup": "Willisornis",
         "marker": {
          "color": "#ab63fa",
          "symbol": "circle"
         },
         "mode": "markers",
         "name": "Willisornis",
         "showlegend": true,
         "type": "scattergl",
         "x": [
          2.4487588225395913,
          1.7156147809237279
         ],
         "xaxis": "x",
         "y": [
          -3.828939925849399,
          -5.471563959493032
         ],
         "yaxis": "y"
        },
        {
         "hovertemplate": "color=Xenopipo<br>PCA1=%{x}<br>PCA2=%{y}<extra></extra>",
         "legendgroup": "Xenopipo",
         "marker": {
          "color": "#FFA15A",
          "symbol": "circle"
         },
         "mode": "markers",
         "name": "Xenopipo",
         "showlegend": true,
         "type": "scattergl",
         "x": [
          -0.6206528443852184,
          -0.6075333725279191,
          -1.3579187561806925
         ],
         "xaxis": "x",
         "y": [
          0.6515134938793944,
          1.2411041417073145,
          0.2609247833664849
         ],
         "yaxis": "y"
        },
        {
         "hovertemplate": "color=Xenops<br>PCA1=%{x}<br>PCA2=%{y}<extra></extra>",
         "legendgroup": "Xenops",
         "marker": {
          "color": "#19d3f3",
          "symbol": "circle"
         },
         "mode": "markers",
         "name": "Xenops",
         "showlegend": true,
         "type": "scattergl",
         "x": [
          -0.6326227735094988,
          -0.49771215106226835,
          -0.9471390539506386,
          1.4785526400749747,
          -0.6418262095076983,
          -0.546923418604853,
          -0.3002735732748137,
          -1.308925471198915
         ],
         "xaxis": "x",
         "y": [
          -0.287408728049749,
          -0.25245397491341953,
          0.8126273766332472,
          -1.342527296859003,
          0.19510261863889444,
          0.9788551021891452,
          2.7254885498118586,
          0.47318998817476127
         ],
         "yaxis": "y"
        },
        {
         "hovertemplate": "color=Xenopsaris<br>PCA1=%{x}<br>PCA2=%{y}<extra></extra>",
         "legendgroup": "Xenopsaris",
         "marker": {
          "color": "#FF6692",
          "symbol": "circle"
         },
         "mode": "markers",
         "name": "Xenopsaris",
         "showlegend": true,
         "type": "scattergl",
         "x": [
          0.0758104799211201,
          -1.4881989052490203
         ],
         "xaxis": "x",
         "y": [
          3.3098422529644123,
          -0.1238373153801125
         ],
         "yaxis": "y"
        },
        {
         "hovertemplate": "color=Xiphocolaptes<br>PCA1=%{x}<br>PCA2=%{y}<extra></extra>",
         "legendgroup": "Xiphocolaptes",
         "marker": {
          "color": "#B6E880",
          "symbol": "circle"
         },
         "mode": "markers",
         "name": "Xiphocolaptes",
         "showlegend": true,
         "type": "scattergl",
         "x": [
          -0.43007431456121337,
          -0.4302361120763644,
          0.7510755775745096,
          2.1054365235620476,
          1.304588278969535
         ],
         "xaxis": "x",
         "y": [
          -2.097022291831633,
          -2.0037920108235485,
          -3.3244187685014683,
          -3.8844616579952116,
          -2.4477431734960926
         ],
         "yaxis": "y"
        },
        {
         "hovertemplate": "color=Xiphorhynchus<br>PCA1=%{x}<br>PCA2=%{y}<extra></extra>",
         "legendgroup": "Xiphorhynchus",
         "marker": {
          "color": "#FF97FF",
          "symbol": "circle"
         },
         "mode": "markers",
         "name": "Xiphorhynchus",
         "showlegend": true,
         "type": "scattergl",
         "x": [
          -1.2279535677019795,
          5.6464688124203235,
          -0.353852544464211,
          0.3594143444481942,
          1.9369454013498857,
          0.4748540165786466,
          -1.4540728436026737,
          1.1963425984978733,
          -1.41205355653852,
          3.563895769429712,
          -1.467117739653198,
          -0.41472887164362204,
          3.4045241202911694,
          -0.8983847130668723,
          -0.6629933885993935,
          -1.4094658203313597
         ],
         "xaxis": "x",
         "y": [
          0.027673414774294483,
          -9.43395995159672,
          0.9442870518175382,
          1.1512379216937767,
          -0.34399271252314667,
          1.5929046258542827,
          0.02328977733443832,
          1.4889666580508398,
          0.11125272378481829,
          -0.4549016032381484,
          -0.1632661910884059,
          1.0496843646653782,
          3.634501497348605,
          0.26340367982416846,
          0.3108054794900887,
          -0.298153787301232
         ],
         "yaxis": "y"
        },
        {
         "hovertemplate": "color=Xolmis<br>PCA1=%{x}<br>PCA2=%{y}<extra></extra>",
         "legendgroup": "Xolmis",
         "marker": {
          "color": "#FECB52",
          "symbol": "circle"
         },
         "mode": "markers",
         "name": "Xolmis",
         "showlegend": true,
         "type": "scattergl",
         "x": [
          1.2090102022582723,
          -0.6716517413994643
         ],
         "xaxis": "x",
         "y": [
          1.0779216324197145,
          0.2321768573294707
         ],
         "yaxis": "y"
        },
        {
         "hovertemplate": "color=Zebrilus<br>PCA1=%{x}<br>PCA2=%{y}<extra></extra>",
         "legendgroup": "Zebrilus",
         "marker": {
          "color": "#636efa",
          "symbol": "circle"
         },
         "mode": "markers",
         "name": "Zebrilus",
         "showlegend": true,
         "type": "scattergl",
         "x": [
          -0.26522351225998364,
          2.118668081588241,
          3.1028571996665955
         ],
         "xaxis": "x",
         "y": [
          0.6899655379407785,
          1.058148925206913,
          4.446196761599708
         ],
         "yaxis": "y"
        },
        {
         "hovertemplate": "color=Zenaida<br>PCA1=%{x}<br>PCA2=%{y}<extra></extra>",
         "legendgroup": "Zenaida",
         "marker": {
          "color": "#EF553B",
          "symbol": "circle"
         },
         "mode": "markers",
         "name": "Zenaida",
         "showlegend": true,
         "type": "scattergl",
         "x": [
          1.5325216428051016,
          0.6771968246707798,
          0.2540647819361273
         ],
         "xaxis": "x",
         "y": [
          0.09214934926619477,
          -0.17028485439872743,
          -0.0997185680023627
         ],
         "yaxis": "y"
        },
        {
         "hovertemplate": "color=Zentrygon<br>PCA1=%{x}<br>PCA2=%{y}<extra></extra>",
         "legendgroup": "Zentrygon",
         "marker": {
          "color": "#00cc96",
          "symbol": "circle"
         },
         "mode": "markers",
         "name": "Zentrygon",
         "showlegend": true,
         "type": "scattergl",
         "x": [
          0.7166620299599707,
          0.2937275048896432
         ],
         "xaxis": "x",
         "y": [
          -0.05894646876980831,
          0.29268705857007865
         ],
         "yaxis": "y"
        },
        {
         "hovertemplate": "color=Zimmerius<br>PCA1=%{x}<br>PCA2=%{y}<extra></extra>",
         "legendgroup": "Zimmerius",
         "marker": {
          "color": "#ab63fa",
          "symbol": "circle"
         },
         "mode": "markers",
         "name": "Zimmerius",
         "showlegend": true,
         "type": "scattergl",
         "x": [
          -0.533670883418113,
          2.4622699726705037,
          0.3618970586288056,
          -0.6571769359351961,
          -1.3038730547603092,
          -1.2014496944786215,
          -0.27898690803339016
         ],
         "xaxis": "x",
         "y": [
          0.665113987007447,
          -4.892838570948493,
          -1.0952956970645749,
          0.5173751889670694,
          -0.5461786441036757,
          -0.03839531955357868,
          -0.553866847520676
         ],
         "yaxis": "y"
        },
        {
         "hovertemplate": "color=Zonotrichia<br>PCA1=%{x}<br>PCA2=%{y}<extra></extra>",
         "legendgroup": "Zonotrichia",
         "marker": {
          "color": "#FFA15A",
          "symbol": "circle"
         },
         "mode": "markers",
         "name": "Zonotrichia",
         "showlegend": true,
         "type": "scattergl",
         "x": [
          2.1478392371990647,
          -0.9219759471627395,
          0.4190437072142488
         ],
         "xaxis": "x",
         "y": [
          0.6506354461808627,
          0.2729908952072417,
          1.631116390888448
         ],
         "yaxis": "y"
        }
       ],
       "layout": {
        "legend": {
         "title": {
          "text": "color"
         },
         "tracegroupgap": 0
        },
        "margin": {
         "t": 60
        },
        "template": {
         "data": {
          "bar": [
           {
            "error_x": {
             "color": "#2a3f5f"
            },
            "error_y": {
             "color": "#2a3f5f"
            },
            "marker": {
             "line": {
              "color": "#E5ECF6",
              "width": 0.5
             },
             "pattern": {
              "fillmode": "overlay",
              "size": 10,
              "solidity": 0.2
             }
            },
            "type": "bar"
           }
          ],
          "barpolar": [
           {
            "marker": {
             "line": {
              "color": "#E5ECF6",
              "width": 0.5
             },
             "pattern": {
              "fillmode": "overlay",
              "size": 10,
              "solidity": 0.2
             }
            },
            "type": "barpolar"
           }
          ],
          "carpet": [
           {
            "aaxis": {
             "endlinecolor": "#2a3f5f",
             "gridcolor": "white",
             "linecolor": "white",
             "minorgridcolor": "white",
             "startlinecolor": "#2a3f5f"
            },
            "baxis": {
             "endlinecolor": "#2a3f5f",
             "gridcolor": "white",
             "linecolor": "white",
             "minorgridcolor": "white",
             "startlinecolor": "#2a3f5f"
            },
            "type": "carpet"
           }
          ],
          "choropleth": [
           {
            "colorbar": {
             "outlinewidth": 0,
             "ticks": ""
            },
            "type": "choropleth"
           }
          ],
          "contour": [
           {
            "colorbar": {
             "outlinewidth": 0,
             "ticks": ""
            },
            "colorscale": [
             [
              0,
              "#0d0887"
             ],
             [
              0.1111111111111111,
              "#46039f"
             ],
             [
              0.2222222222222222,
              "#7201a8"
             ],
             [
              0.3333333333333333,
              "#9c179e"
             ],
             [
              0.4444444444444444,
              "#bd3786"
             ],
             [
              0.5555555555555556,
              "#d8576b"
             ],
             [
              0.6666666666666666,
              "#ed7953"
             ],
             [
              0.7777777777777778,
              "#fb9f3a"
             ],
             [
              0.8888888888888888,
              "#fdca26"
             ],
             [
              1,
              "#f0f921"
             ]
            ],
            "type": "contour"
           }
          ],
          "contourcarpet": [
           {
            "colorbar": {
             "outlinewidth": 0,
             "ticks": ""
            },
            "type": "contourcarpet"
           }
          ],
          "heatmap": [
           {
            "colorbar": {
             "outlinewidth": 0,
             "ticks": ""
            },
            "colorscale": [
             [
              0,
              "#0d0887"
             ],
             [
              0.1111111111111111,
              "#46039f"
             ],
             [
              0.2222222222222222,
              "#7201a8"
             ],
             [
              0.3333333333333333,
              "#9c179e"
             ],
             [
              0.4444444444444444,
              "#bd3786"
             ],
             [
              0.5555555555555556,
              "#d8576b"
             ],
             [
              0.6666666666666666,
              "#ed7953"
             ],
             [
              0.7777777777777778,
              "#fb9f3a"
             ],
             [
              0.8888888888888888,
              "#fdca26"
             ],
             [
              1,
              "#f0f921"
             ]
            ],
            "type": "heatmap"
           }
          ],
          "heatmapgl": [
           {
            "colorbar": {
             "outlinewidth": 0,
             "ticks": ""
            },
            "colorscale": [
             [
              0,
              "#0d0887"
             ],
             [
              0.1111111111111111,
              "#46039f"
             ],
             [
              0.2222222222222222,
              "#7201a8"
             ],
             [
              0.3333333333333333,
              "#9c179e"
             ],
             [
              0.4444444444444444,
              "#bd3786"
             ],
             [
              0.5555555555555556,
              "#d8576b"
             ],
             [
              0.6666666666666666,
              "#ed7953"
             ],
             [
              0.7777777777777778,
              "#fb9f3a"
             ],
             [
              0.8888888888888888,
              "#fdca26"
             ],
             [
              1,
              "#f0f921"
             ]
            ],
            "type": "heatmapgl"
           }
          ],
          "histogram": [
           {
            "marker": {
             "pattern": {
              "fillmode": "overlay",
              "size": 10,
              "solidity": 0.2
             }
            },
            "type": "histogram"
           }
          ],
          "histogram2d": [
           {
            "colorbar": {
             "outlinewidth": 0,
             "ticks": ""
            },
            "colorscale": [
             [
              0,
              "#0d0887"
             ],
             [
              0.1111111111111111,
              "#46039f"
             ],
             [
              0.2222222222222222,
              "#7201a8"
             ],
             [
              0.3333333333333333,
              "#9c179e"
             ],
             [
              0.4444444444444444,
              "#bd3786"
             ],
             [
              0.5555555555555556,
              "#d8576b"
             ],
             [
              0.6666666666666666,
              "#ed7953"
             ],
             [
              0.7777777777777778,
              "#fb9f3a"
             ],
             [
              0.8888888888888888,
              "#fdca26"
             ],
             [
              1,
              "#f0f921"
             ]
            ],
            "type": "histogram2d"
           }
          ],
          "histogram2dcontour": [
           {
            "colorbar": {
             "outlinewidth": 0,
             "ticks": ""
            },
            "colorscale": [
             [
              0,
              "#0d0887"
             ],
             [
              0.1111111111111111,
              "#46039f"
             ],
             [
              0.2222222222222222,
              "#7201a8"
             ],
             [
              0.3333333333333333,
              "#9c179e"
             ],
             [
              0.4444444444444444,
              "#bd3786"
             ],
             [
              0.5555555555555556,
              "#d8576b"
             ],
             [
              0.6666666666666666,
              "#ed7953"
             ],
             [
              0.7777777777777778,
              "#fb9f3a"
             ],
             [
              0.8888888888888888,
              "#fdca26"
             ],
             [
              1,
              "#f0f921"
             ]
            ],
            "type": "histogram2dcontour"
           }
          ],
          "mesh3d": [
           {
            "colorbar": {
             "outlinewidth": 0,
             "ticks": ""
            },
            "type": "mesh3d"
           }
          ],
          "parcoords": [
           {
            "line": {
             "colorbar": {
              "outlinewidth": 0,
              "ticks": ""
             }
            },
            "type": "parcoords"
           }
          ],
          "pie": [
           {
            "automargin": true,
            "type": "pie"
           }
          ],
          "scatter": [
           {
            "marker": {
             "colorbar": {
              "outlinewidth": 0,
              "ticks": ""
             }
            },
            "type": "scatter"
           }
          ],
          "scatter3d": [
           {
            "line": {
             "colorbar": {
              "outlinewidth": 0,
              "ticks": ""
             }
            },
            "marker": {
             "colorbar": {
              "outlinewidth": 0,
              "ticks": ""
             }
            },
            "type": "scatter3d"
           }
          ],
          "scattercarpet": [
           {
            "marker": {
             "colorbar": {
              "outlinewidth": 0,
              "ticks": ""
             }
            },
            "type": "scattercarpet"
           }
          ],
          "scattergeo": [
           {
            "marker": {
             "colorbar": {
              "outlinewidth": 0,
              "ticks": ""
             }
            },
            "type": "scattergeo"
           }
          ],
          "scattergl": [
           {
            "marker": {
             "colorbar": {
              "outlinewidth": 0,
              "ticks": ""
             }
            },
            "type": "scattergl"
           }
          ],
          "scattermapbox": [
           {
            "marker": {
             "colorbar": {
              "outlinewidth": 0,
              "ticks": ""
             }
            },
            "type": "scattermapbox"
           }
          ],
          "scatterpolar": [
           {
            "marker": {
             "colorbar": {
              "outlinewidth": 0,
              "ticks": ""
             }
            },
            "type": "scatterpolar"
           }
          ],
          "scatterpolargl": [
           {
            "marker": {
             "colorbar": {
              "outlinewidth": 0,
              "ticks": ""
             }
            },
            "type": "scatterpolargl"
           }
          ],
          "scatterternary": [
           {
            "marker": {
             "colorbar": {
              "outlinewidth": 0,
              "ticks": ""
             }
            },
            "type": "scatterternary"
           }
          ],
          "surface": [
           {
            "colorbar": {
             "outlinewidth": 0,
             "ticks": ""
            },
            "colorscale": [
             [
              0,
              "#0d0887"
             ],
             [
              0.1111111111111111,
              "#46039f"
             ],
             [
              0.2222222222222222,
              "#7201a8"
             ],
             [
              0.3333333333333333,
              "#9c179e"
             ],
             [
              0.4444444444444444,
              "#bd3786"
             ],
             [
              0.5555555555555556,
              "#d8576b"
             ],
             [
              0.6666666666666666,
              "#ed7953"
             ],
             [
              0.7777777777777778,
              "#fb9f3a"
             ],
             [
              0.8888888888888888,
              "#fdca26"
             ],
             [
              1,
              "#f0f921"
             ]
            ],
            "type": "surface"
           }
          ],
          "table": [
           {
            "cells": {
             "fill": {
              "color": "#EBF0F8"
             },
             "line": {
              "color": "white"
             }
            },
            "header": {
             "fill": {
              "color": "#C8D4E3"
             },
             "line": {
              "color": "white"
             }
            },
            "type": "table"
           }
          ]
         },
         "layout": {
          "annotationdefaults": {
           "arrowcolor": "#2a3f5f",
           "arrowhead": 0,
           "arrowwidth": 1
          },
          "autotypenumbers": "strict",
          "coloraxis": {
           "colorbar": {
            "outlinewidth": 0,
            "ticks": ""
           }
          },
          "colorscale": {
           "diverging": [
            [
             0,
             "#8e0152"
            ],
            [
             0.1,
             "#c51b7d"
            ],
            [
             0.2,
             "#de77ae"
            ],
            [
             0.3,
             "#f1b6da"
            ],
            [
             0.4,
             "#fde0ef"
            ],
            [
             0.5,
             "#f7f7f7"
            ],
            [
             0.6,
             "#e6f5d0"
            ],
            [
             0.7,
             "#b8e186"
            ],
            [
             0.8,
             "#7fbc41"
            ],
            [
             0.9,
             "#4d9221"
            ],
            [
             1,
             "#276419"
            ]
           ],
           "sequential": [
            [
             0,
             "#0d0887"
            ],
            [
             0.1111111111111111,
             "#46039f"
            ],
            [
             0.2222222222222222,
             "#7201a8"
            ],
            [
             0.3333333333333333,
             "#9c179e"
            ],
            [
             0.4444444444444444,
             "#bd3786"
            ],
            [
             0.5555555555555556,
             "#d8576b"
            ],
            [
             0.6666666666666666,
             "#ed7953"
            ],
            [
             0.7777777777777778,
             "#fb9f3a"
            ],
            [
             0.8888888888888888,
             "#fdca26"
            ],
            [
             1,
             "#f0f921"
            ]
           ],
           "sequentialminus": [
            [
             0,
             "#0d0887"
            ],
            [
             0.1111111111111111,
             "#46039f"
            ],
            [
             0.2222222222222222,
             "#7201a8"
            ],
            [
             0.3333333333333333,
             "#9c179e"
            ],
            [
             0.4444444444444444,
             "#bd3786"
            ],
            [
             0.5555555555555556,
             "#d8576b"
            ],
            [
             0.6666666666666666,
             "#ed7953"
            ],
            [
             0.7777777777777778,
             "#fb9f3a"
            ],
            [
             0.8888888888888888,
             "#fdca26"
            ],
            [
             1,
             "#f0f921"
            ]
           ]
          },
          "colorway": [
           "#636efa",
           "#EF553B",
           "#00cc96",
           "#ab63fa",
           "#FFA15A",
           "#19d3f3",
           "#FF6692",
           "#B6E880",
           "#FF97FF",
           "#FECB52"
          ],
          "font": {
           "color": "#2a3f5f"
          },
          "geo": {
           "bgcolor": "white",
           "lakecolor": "white",
           "landcolor": "#E5ECF6",
           "showlakes": true,
           "showland": true,
           "subunitcolor": "white"
          },
          "hoverlabel": {
           "align": "left"
          },
          "hovermode": "closest",
          "mapbox": {
           "style": "light"
          },
          "paper_bgcolor": "white",
          "plot_bgcolor": "#E5ECF6",
          "polar": {
           "angularaxis": {
            "gridcolor": "white",
            "linecolor": "white",
            "ticks": ""
           },
           "bgcolor": "#E5ECF6",
           "radialaxis": {
            "gridcolor": "white",
            "linecolor": "white",
            "ticks": ""
           }
          },
          "scene": {
           "xaxis": {
            "backgroundcolor": "#E5ECF6",
            "gridcolor": "white",
            "gridwidth": 2,
            "linecolor": "white",
            "showbackground": true,
            "ticks": "",
            "zerolinecolor": "white"
           },
           "yaxis": {
            "backgroundcolor": "#E5ECF6",
            "gridcolor": "white",
            "gridwidth": 2,
            "linecolor": "white",
            "showbackground": true,
            "ticks": "",
            "zerolinecolor": "white"
           },
           "zaxis": {
            "backgroundcolor": "#E5ECF6",
            "gridcolor": "white",
            "gridwidth": 2,
            "linecolor": "white",
            "showbackground": true,
            "ticks": "",
            "zerolinecolor": "white"
           }
          },
          "shapedefaults": {
           "line": {
            "color": "#2a3f5f"
           }
          },
          "ternary": {
           "aaxis": {
            "gridcolor": "white",
            "linecolor": "white",
            "ticks": ""
           },
           "baxis": {
            "gridcolor": "white",
            "linecolor": "white",
            "ticks": ""
           },
           "bgcolor": "#E5ECF6",
           "caxis": {
            "gridcolor": "white",
            "linecolor": "white",
            "ticks": ""
           }
          },
          "title": {
           "x": 0.05
          },
          "xaxis": {
           "automargin": true,
           "gridcolor": "white",
           "linecolor": "white",
           "ticks": "",
           "title": {
            "standoff": 15
           },
           "zerolinecolor": "white",
           "zerolinewidth": 2
          },
          "yaxis": {
           "automargin": true,
           "gridcolor": "white",
           "linecolor": "white",
           "ticks": "",
           "title": {
            "standoff": 15
           },
           "zerolinecolor": "white",
           "zerolinewidth": 2
          }
         }
        },
        "xaxis": {
         "anchor": "y",
         "domain": [
          0,
          1
         ],
         "title": {
          "text": "PCA1"
         }
        },
        "yaxis": {
         "anchor": "x",
         "domain": [
          0,
          1
         ],
         "title": {
          "text": "PCA2"
         }
        }
       }
      }
     },
     "metadata": {},
     "output_type": "display_data"
    }
   ],
   "source": [
    "%matplotlib inline\n",
    "import matplotlib.pyplot as plt\n",
    "import seaborn as sns\n",
    "\n",
    "# pca = PCA(n_components = 3)\n",
    "\n",
    "# sns.scatterplot(x = 'PCA1', y = 'PCA2', hue = Y, palette = \"Paired\", data = result)\n",
    "\n",
    "import plotly.express as px\n",
    "\n",
    "# plt.figure(figsize=(16,10))\n",
    "# ['Alphabet',\n",
    "#  'Antique',\n",
    "#  'Bold',\n",
    "#  'D3',\n",
    "#  'Dark2',\n",
    "#  'Dark24',\n",
    "#  'G10',......]\n",
    "\n",
    "fig = px.scatter(result,x=\"PCA1\", y=\"PCA2\",color = Y) #legend = \"Full\", palette=sns.color_palette(\"hls\", 947),,color_discrete_sequence= px.colors.qualitative.G10\n",
    "fig.show() "
   ]
  },
  {
   "cell_type": "code",
   "execution_count": 96,
   "metadata": {},
   "outputs": [],
   "source": [
    "%matplotlib inline\n",
    "# my_dpi=96\n",
    "# plt.figure(figsize=(480/my_dpi, 480/my_dpi), dpi=my_dpi)\n",
    "\n",
    "# fig = plt.figure()\n",
    "# ax = fig.add_subplot(111, projection='3d')\n",
    "\n",
    "# ax.scatter(result['PCA1'], result['PCA2'], result['PCA3'], c=my_color, cmap=\"Set2_r\", s=60)\n",
    "\n",
    "# xAxisLine = ((min(result['PCA1']), max(result['PCA2'])), (0, 0), (0,0))\n",
    "# ax.plot(xAxisLine[0], xAxisLine[1], xAxisLine[2], 'r')\n",
    "\n",
    "# yAxisLine = ((0, 0), (min(result['PCA2']), max(result['PCA2'])), (0,0))\n",
    "# ax.plot(yAxisLine[0], yAxisLine[1], yAxisLine[2], 'r')\n",
    "\n",
    "# zAxisLine = ((0, 0), (0,0), (min(result['PCA3']), max(result['PCA3'])))\n",
    "# ax.plot(zAxisLine[0], zAxisLine[1], zAxisLine[2], 'r')\n",
    "\n",
    "# ax.set_xlabel(\"PC1\")\n",
    "# ax.set_ylabel(\"PC2\")\n",
    "# ax.set_zlabel(\"PC3\")\n",
    "# ax.set_title(\"PCA on Pyrenote Annotation Features\")\n",
    "# plt.show()"
   ]
  },
  {
   "cell_type": "code",
   "execution_count": 97,
   "metadata": {},
   "outputs": [],
   "source": [
    "import plotly.express as px"
   ]
  },
  {
   "cell_type": "code",
   "execution_count": 98,
   "metadata": {},
   "outputs": [
    {
     "data": {
      "application/vnd.plotly.v1+json": {
       "config": {
        "plotlyServerURL": "https://plot.ly"
       },
       "data": [
        {
         "hovertemplate": "color=Aburria<br>PCA1=%{x}<br>PCA2=%{y}<br>PCA3=%{z}<extra></extra>",
         "legendgroup": "Aburria",
         "marker": {
          "color": "#636efa",
          "symbol": "circle"
         },
         "mode": "markers",
         "name": "Aburria",
         "scene": "scene",
         "showlegend": true,
         "type": "scatter3d",
         "x": [
          -0.7129452479951326,
          1.7083185893920294
         ],
         "y": [
          0.3584870661791243,
          3.802481155856545
         ],
         "z": [
          0.5669414308625608,
          -0.8566543004399029
         ]
        },
        {
         "hovertemplate": "color=Accipiter<br>PCA1=%{x}<br>PCA2=%{y}<br>PCA3=%{z}<extra></extra>",
         "legendgroup": "Accipiter",
         "marker": {
          "color": "#EF553B",
          "symbol": "circle"
         },
         "mode": "markers",
         "name": "Accipiter",
         "scene": "scene",
         "showlegend": true,
         "type": "scatter3d",
         "x": [
          -0.9191338256668785,
          0.04945409802797994,
          -0.6071518509500141,
          2.686792403503263,
          -0.7013025610559478,
          -1.3453828917639818,
          -1.5662043925235434,
          1.0095036631603738,
          1.0063058056050376
         ],
         "y": [
          -1.2484228241999493,
          0.6773147766780947,
          -0.16002581128125942,
          2.939519552365911,
          -0.3459901894639621,
          -0.4797423898747551,
          -0.1613388776567486,
          -0.2649992328762956,
          -0.25293619217478547
         ],
         "z": [
          -0.45416329792524057,
          -0.5155888438182716,
          -0.4503420345443062,
          -0.9198950697387654,
          -0.3617978393009521,
          -0.32011790113071,
          -0.4364144766548168,
          0.9561135019915724,
          0.9695935825028409
         ]
        },
        {
         "hovertemplate": "color=Actitis<br>PCA1=%{x}<br>PCA2=%{y}<br>PCA3=%{z}<extra></extra>",
         "legendgroup": "Actitis",
         "marker": {
          "color": "#00cc96",
          "symbol": "circle"
         },
         "mode": "markers",
         "name": "Actitis",
         "scene": "scene",
         "showlegend": true,
         "type": "scatter3d",
         "x": [
          -0.8318856464912249,
          0.2642221024604632,
          -0.7747123493411268,
          -1.471860106168368
         ],
         "y": [
          0.10228013943628175,
          -2.561157147616744,
          -0.5316205655550614,
          -0.34068198596641286
         ],
         "z": [
          -0.37650957740793073,
          -0.22624319782762545,
          -0.4689180090230216,
          -0.3622766770258838
         ]
        },
        {
         "hovertemplate": "color=Adelomyia<br>PCA1=%{x}<br>PCA2=%{y}<br>PCA3=%{z}<extra></extra>",
         "legendgroup": "Adelomyia",
         "marker": {
          "color": "#ab63fa",
          "symbol": "circle"
         },
         "mode": "markers",
         "name": "Adelomyia",
         "scene": "scene",
         "showlegend": true,
         "type": "scatter3d",
         "x": [
          -0.6033845812740811,
          3.8530519082052392,
          -0.5509261119127213
         ],
         "y": [
          -0.5595224307149217,
          -9.922130023651437,
          -0.3653863427802438
         ],
         "z": [
          -0.26771691568855077,
          -1.2715980972835448,
          -0.45171439304456446
         ]
        },
        {
         "hovertemplate": "color=Aeronautes<br>PCA1=%{x}<br>PCA2=%{y}<br>PCA3=%{z}<extra></extra>",
         "legendgroup": "Aeronautes",
         "marker": {
          "color": "#FFA15A",
          "symbol": "circle"
         },
         "mode": "markers",
         "name": "Aeronautes",
         "scene": "scene",
         "showlegend": true,
         "type": "scatter3d",
         "x": [
          -0.5235884884424397,
          -0.0973270708528871,
          -0.11501595902994617,
          -0.6448183714660534,
          -0.7597699261417443,
          -0.13013462634212036
         ],
         "y": [
          0.011229815582550573,
          -0.6795402714026134,
          -0.3801531283589309,
          -0.1253460013179245,
          -0.1350891786218428,
          0.43507725954531573
         ],
         "z": [
          -0.34027065447413013,
          1.2503879541537293,
          0.9355252728340487,
          -0.6451017005732058,
          0.28067095115665114,
          -0.08034996721817639
         ]
        },
        {
         "hovertemplate": "color=Agamia<br>PCA1=%{x}<br>PCA2=%{y}<br>PCA3=%{z}<extra></extra>",
         "legendgroup": "Agamia",
         "marker": {
          "color": "#19d3f3",
          "symbol": "circle"
         },
         "mode": "markers",
         "name": "Agamia",
         "scene": "scene",
         "showlegend": true,
         "type": "scatter3d",
         "x": [
          -0.5201417800690582,
          -0.8514642566141227,
          -1.0922123248597104
         ],
         "y": [
          -0.12619361392876846,
          -0.8989566518361182,
          -0.28719773689913225
         ],
         "z": [
          -0.3286154243770151,
          -0.5480304480471229,
          -0.15312689699636836
         ]
        },
        {
         "hovertemplate": "color=Agelasticus<br>PCA1=%{x}<br>PCA2=%{y}<br>PCA3=%{z}<extra></extra>",
         "legendgroup": "Agelasticus",
         "marker": {
          "color": "#FF6692",
          "symbol": "circle"
         },
         "mode": "markers",
         "name": "Agelasticus",
         "scene": "scene",
         "showlegend": true,
         "type": "scatter3d",
         "x": [
          -1.392806129356264,
          -0.15041867322844782,
          -1.40323750619425
         ],
         "y": [
          -0.5249177404525106,
          -0.43727227797554047,
          -0.03642737470982877
         ],
         "z": [
          -0.41964194274462546,
          -0.574771339830169,
          -0.08819170252364048
         ]
        },
        {
         "hovertemplate": "color=Aglaeactis<br>PCA1=%{x}<br>PCA2=%{y}<br>PCA3=%{z}<extra></extra>",
         "legendgroup": "Aglaeactis",
         "marker": {
          "color": "#B6E880",
          "symbol": "circle"
         },
         "mode": "markers",
         "name": "Aglaeactis",
         "scene": "scene",
         "showlegend": true,
         "type": "scatter3d",
         "x": [
          -1.2217005109344878
         ],
         "y": [
          -0.22386673561398485
         ],
         "z": [
          -0.44110796616629944
         ]
        },
        {
         "hovertemplate": "color=Aglaiocercus<br>PCA1=%{x}<br>PCA2=%{y}<br>PCA3=%{z}<extra></extra>",
         "legendgroup": "Aglaiocercus",
         "marker": {
          "color": "#FF97FF",
          "symbol": "circle"
         },
         "mode": "markers",
         "name": "Aglaiocercus",
         "scene": "scene",
         "showlegend": true,
         "type": "scatter3d",
         "x": [
          -0.4754650848295447,
          -1.116916724217544,
          -1.5932009291488871
         ],
         "y": [
          -0.8081994964181031,
          -0.4486766665877253,
          -0.07823256102660331
         ],
         "z": [
          -0.5002938529173796,
          -0.37607237963960083,
          -0.43492702139345385
         ]
        },
        {
         "hovertemplate": "color=Akletos<br>PCA1=%{x}<br>PCA2=%{y}<br>PCA3=%{z}<extra></extra>",
         "legendgroup": "Akletos",
         "marker": {
          "color": "#FECB52",
          "symbol": "circle"
         },
         "mode": "markers",
         "name": "Akletos",
         "scene": "scene",
         "showlegend": true,
         "type": "scatter3d",
         "x": [
          0.17731396114295608,
          -0.006795363784372386,
          -1.2828528870047544,
          10.460514780566301,
          1.933721370642978
         ],
         "y": [
          0.9137835666558335,
          0.6186593805757291,
          -0.1700251906954207,
          -7.131662461656706,
          1.7339208840879923
         ],
         "z": [
          0.42293327843978,
          0.15411468474778614,
          -0.3205169177844289,
          0.9219146113842835,
          -0.012033757890001497
         ]
        },
        {
         "hovertemplate": "color=Alopochelidon<br>PCA1=%{x}<br>PCA2=%{y}<br>PCA3=%{z}<extra></extra>",
         "legendgroup": "Alopochelidon",
         "marker": {
          "color": "#636efa",
          "symbol": "circle"
         },
         "mode": "markers",
         "name": "Alopochelidon",
         "scene": "scene",
         "showlegend": true,
         "type": "scatter3d",
         "x": [
          -0.7042727926604101
         ],
         "y": [
          -0.6929037614826619
         ],
         "z": [
          -0.26266388310052985
         ]
        },
        {
         "hovertemplate": "color=Amaurolimnas<br>PCA1=%{x}<br>PCA2=%{y}<br>PCA3=%{z}<extra></extra>",
         "legendgroup": "Amaurolimnas",
         "marker": {
          "color": "#EF553B",
          "symbol": "circle"
         },
         "mode": "markers",
         "name": "Amaurolimnas",
         "scene": "scene",
         "showlegend": true,
         "type": "scatter3d",
         "x": [
          0.2932473225972019,
          -0.207319290914974,
          -0.23683037179186736
         ],
         "y": [
          -1.8087761637901465,
          -1.091632547102662,
          -1.8546157631537759
         ],
         "z": [
          0.0025384464098596625,
          0.0404823346915145,
          -0.06637239391799078
         ]
        },
        {
         "hovertemplate": "color=Amazilia<br>PCA1=%{x}<br>PCA2=%{y}<br>PCA3=%{z}<extra></extra>",
         "legendgroup": "Amazilia",
         "marker": {
          "color": "#00cc96",
          "symbol": "circle"
         },
         "mode": "markers",
         "name": "Amazilia",
         "scene": "scene",
         "showlegend": true,
         "type": "scatter3d",
         "x": [
          -1.422456070881175,
          1.2576306250220493,
          0.4793212340089596
         ],
         "y": [
          -0.3494657225159782,
          0.328436972022924,
          -1.1785921382492268
         ],
         "z": [
          -0.4165862485790568,
          -0.6675562582741086,
          -0.5861352373997326
         ]
        },
        {
         "hovertemplate": "color=Amazona<br>PCA1=%{x}<br>PCA2=%{y}<br>PCA3=%{z}<extra></extra>",
         "legendgroup": "Amazona",
         "marker": {
          "color": "#ab63fa",
          "symbol": "circle"
         },
         "mode": "markers",
         "name": "Amazona",
         "scene": "scene",
         "showlegend": true,
         "type": "scatter3d",
         "x": [
          -0.32355644488243124,
          -0.7328349164509349,
          -0.5994781396770541,
          -0.2757836067128445,
          -1.0291065875950267,
          -1.4383901361243934,
          -0.41572033711176926,
          0.032060475918988376,
          0.2886707514757044,
          0.49666061514304083,
          -0.8523702037804004,
          -0.6479220024005802,
          -0.5877283113090275,
          -0.0531427834039382
         ],
         "y": [
          -1.352824945347301,
          -0.4549154903612776,
          -0.9531554832622032,
          0.23781288632357914,
          -0.24655035375316806,
          -0.2739565103537232,
          -0.3385682271723323,
          0.48519382478890866,
          -1.0033067598143124,
          -1.236318489211,
          -0.02842213729191231,
          -0.9525025816239703,
          -0.5045656541533643,
          -0.9991391438375214
         ],
         "z": [
          -0.19684917545400815,
          0.14352289495682224,
          -0.3363212029163217,
          1.1822895914909828,
          -0.02545199470242327,
          -0.3381317986188451,
          -0.3466830248075825,
          -0.11783418732691313,
          -0.08113812052050644,
          -0.06479512345111255,
          -0.3907644914721476,
          -0.2209810157757494,
          -0.2764498717416733,
          -0.10117339449944926
         ]
        },
        {
         "hovertemplate": "color=Amazonetta<br>PCA1=%{x}<br>PCA2=%{y}<br>PCA3=%{z}<extra></extra>",
         "legendgroup": "Amazonetta",
         "marker": {
          "color": "#FFA15A",
          "symbol": "circle"
         },
         "mode": "markers",
         "name": "Amazonetta",
         "scene": "scene",
         "showlegend": true,
         "type": "scatter3d",
         "x": [
          -1.3662820638819466,
          -1.2139390946200457,
          -1.1845558398660245
         ],
         "y": [
          -0.058740757768667336,
          -0.4113576865948128,
          -0.5503851926341757
         ],
         "z": [
          -0.46611123507631963,
          -0.18850133416385412,
          -0.4431262747653329
         ]
        },
        {
         "hovertemplate": "color=Amblycercus<br>PCA1=%{x}<br>PCA2=%{y}<br>PCA3=%{z}<extra></extra>",
         "legendgroup": "Amblycercus",
         "marker": {
          "color": "#19d3f3",
          "symbol": "circle"
         },
         "mode": "markers",
         "name": "Amblycercus",
         "scene": "scene",
         "showlegend": true,
         "type": "scatter3d",
         "x": [
          2.956641671230446,
          -1.0962410420699613,
          -0.8309528295532993
         ],
         "y": [
          -0.461164511763448,
          -0.400395087463031,
          -0.503545991505148
         ],
         "z": [
          1.7884376700177278,
          -0.18028751393000642,
          -0.16013562516384902
         ]
        },
        {
         "hovertemplate": "color=Ammodramus<br>PCA1=%{x}<br>PCA2=%{y}<br>PCA3=%{z}<extra></extra>",
         "legendgroup": "Ammodramus",
         "marker": {
          "color": "#FF6692",
          "symbol": "circle"
         },
         "mode": "markers",
         "name": "Ammodramus",
         "scene": "scene",
         "showlegend": true,
         "type": "scatter3d",
         "x": [
          0.2942307271194935,
          -0.07613157191223428,
          -1.5226364151524052,
          -0.00574309586275232,
          -0.7663467950728239
         ],
         "y": [
          -1.401769147161847,
          -0.059935464826911325,
          -0.25789805326351817,
          -0.6707881765764289,
          -0.33739358891047994
         ],
         "z": [
          -0.545737780137615,
          -0.3281902792546013,
          -0.2404031320948309,
          -0.559112052481163,
          -0.28896997927050216
         ]
        },
        {
         "hovertemplate": "color=Ampelioides<br>PCA1=%{x}<br>PCA2=%{y}<br>PCA3=%{z}<extra></extra>",
         "legendgroup": "Ampelioides",
         "marker": {
          "color": "#B6E880",
          "symbol": "circle"
         },
         "mode": "markers",
         "name": "Ampelioides",
         "scene": "scene",
         "showlegend": true,
         "type": "scatter3d",
         "x": [
          -0.6197498530380187,
          0.39216049022433297
         ],
         "y": [
          1.0378237982406997,
          1.2033186627656132
         ],
         "z": [
          -0.616668364903273,
          -0.5667913414298306
         ]
        },
        {
         "hovertemplate": "color=Ampelion<br>PCA1=%{x}<br>PCA2=%{y}<br>PCA3=%{z}<extra></extra>",
         "legendgroup": "Ampelion",
         "marker": {
          "color": "#FF97FF",
          "symbol": "circle"
         },
         "mode": "markers",
         "name": "Ampelion",
         "scene": "scene",
         "showlegend": true,
         "type": "scatter3d",
         "x": [
          -1.5557647220269095,
          -1.3215771688920708
         ],
         "y": [
          -0.274039736195037,
          0.1695526830353454
         ],
         "z": [
          -0.38452572102086113,
          -0.41144789150969496
         ]
        },
        {
         "hovertemplate": "color=Anabacerthia<br>PCA1=%{x}<br>PCA2=%{y}<br>PCA3=%{z}<extra></extra>",
         "legendgroup": "Anabacerthia",
         "marker": {
          "color": "#FECB52",
          "symbol": "circle"
         },
         "mode": "markers",
         "name": "Anabacerthia",
         "scene": "scene",
         "showlegend": true,
         "type": "scatter3d",
         "x": [
          -1.1902762985133273,
          -1.0982907556965096,
          -0.1867082762401,
          -0.9614602968921008,
          -1.084031083588861,
          -0.4222204173798565,
          -1.1126908437178247,
          1.0947417847942902,
          -0.8844265207882445,
          -1.1697060380637985
         ],
         "y": [
          -0.6667281836675136,
          0.3182927615918233,
          -1.6695749705052945,
          0.4887202998786257,
          -0.8024891954148984,
          -0.8642238980910721,
          -0.34989217190157307,
          -1.6605624420962568,
          -0.8488739323273368,
          0.05676670479410697
         ],
         "z": [
          -0.4995801551641676,
          0.4014668484486478,
          -0.524504488981036,
          0.48386092971075506,
          -0.4236019695701926,
          -0.18347794615905294,
          -0.4620876518841935,
          -0.42827134302948283,
          -0.3405755827018294,
          -0.4929411510583381
         ]
        },
        {
         "hovertemplate": "color=Anairetes<br>PCA1=%{x}<br>PCA2=%{y}<br>PCA3=%{z}<extra></extra>",
         "legendgroup": "Anairetes",
         "marker": {
          "color": "#636efa",
          "symbol": "circle"
         },
         "mode": "markers",
         "name": "Anairetes",
         "scene": "scene",
         "showlegend": true,
         "type": "scatter3d",
         "x": [
          -1.5483243755207503,
          0.2686913775537774,
          -1.122163563051978,
          -1.21341990205253
         ],
         "y": [
          -0.16751067703331873,
          1.2344721222265018,
          -0.7883563438887974,
          -0.2923346622147488
         ],
         "z": [
          -0.3213990583446116,
          -0.4855053103494024,
          -0.41310378148065746,
          -0.20253633090091178
         ]
        },
        {
         "hovertemplate": "color=Anas<br>PCA1=%{x}<br>PCA2=%{y}<br>PCA3=%{z}<extra></extra>",
         "legendgroup": "Anas",
         "marker": {
          "color": "#EF553B",
          "symbol": "circle"
         },
         "mode": "markers",
         "name": "Anas",
         "scene": "scene",
         "showlegend": true,
         "type": "scatter3d",
         "x": [
          -0.371435248250824,
          -1.4869613272938695
         ],
         "y": [
          0.08236332055733792,
          -0.30948411906678064
         ],
         "z": [
          -0.4731877030564167,
          -0.3963798000735925
         ]
        },
        {
         "hovertemplate": "color=Andigena<br>PCA1=%{x}<br>PCA2=%{y}<br>PCA3=%{z}<extra></extra>",
         "legendgroup": "Andigena",
         "marker": {
          "color": "#00cc96",
          "symbol": "circle"
         },
         "mode": "markers",
         "name": "Andigena",
         "scene": "scene",
         "showlegend": true,
         "type": "scatter3d",
         "x": [
          0.8863348645721528,
          -1.4236097450627072,
          1.6586905879462925
         ],
         "y": [
          -1.6471970596022925,
          -0.056259692103499855,
          -1.308918331435661
         ],
         "z": [
          -0.6170828764296904,
          0.07206312931855782,
          -0.06363767696606745
         ]
        },
        {
         "hovertemplate": "color=Anhima<br>PCA1=%{x}<br>PCA2=%{y}<br>PCA3=%{z}<extra></extra>",
         "legendgroup": "Anhima",
         "marker": {
          "color": "#ab63fa",
          "symbol": "circle"
         },
         "mode": "markers",
         "name": "Anhima",
         "scene": "scene",
         "showlegend": true,
         "type": "scatter3d",
         "x": [
          0.2160870330133229,
          0.16393620814403684,
          -0.8933430550859403
         ],
         "y": [
          -0.395397451344422,
          -1.424665303737907,
          -0.3989842730949673
         ],
         "z": [
          -0.05589496832770185,
          0.18645356611474304,
          -0.19792211559940034
         ]
        },
        {
         "hovertemplate": "color=Anhinga<br>PCA1=%{x}<br>PCA2=%{y}<br>PCA3=%{z}<extra></extra>",
         "legendgroup": "Anhinga",
         "marker": {
          "color": "#FFA15A",
          "symbol": "circle"
         },
         "mode": "markers",
         "name": "Anhinga",
         "scene": "scene",
         "showlegend": true,
         "type": "scatter3d",
         "x": [
          -1.2710707511197363,
          -0.09218243340565051,
          -1.2267829159875911,
          -1.0955250325980948,
          -0.8256736106261926
         ],
         "y": [
          -0.5169461935823482,
          0.4053658977366954,
          0.22977390479795967,
          -0.12106358836201962,
          0.1730949361257187
         ],
         "z": [
          -0.34221895398450364,
          -0.5816282692432253,
          -0.06768896419428996,
          -0.22449795839860665,
          -0.3574449931744876
         ]
        },
        {
         "hovertemplate": "color=Anthracothorax<br>PCA1=%{x}<br>PCA2=%{y}<br>PCA3=%{z}<extra></extra>",
         "legendgroup": "Anthracothorax",
         "marker": {
          "color": "#19d3f3",
          "symbol": "circle"
         },
         "mode": "markers",
         "name": "Anthracothorax",
         "scene": "scene",
         "showlegend": true,
         "type": "scatter3d",
         "x": [
          -0.37381589113216507,
          -1.3157312114100057
         ],
         "y": [
          -0.730405513107413,
          -0.18930437108802944
         ],
         "z": [
          -0.492927940379519,
          -0.5043996492907947
         ]
        },
        {
         "hovertemplate": "color=Anthus<br>PCA1=%{x}<br>PCA2=%{y}<br>PCA3=%{z}<extra></extra>",
         "legendgroup": "Anthus",
         "marker": {
          "color": "#FF6692",
          "symbol": "circle"
         },
         "mode": "markers",
         "name": "Anthus",
         "scene": "scene",
         "showlegend": true,
         "type": "scatter3d",
         "x": [
          -0.8229245670636592,
          -0.47064312539757813
         ],
         "y": [
          -0.20231602118399647,
          -0.34233621302397643
         ],
         "z": [
          -0.3295520033710336,
          -0.5887849734356553
         ]
        },
        {
         "hovertemplate": "color=Antrostomus<br>PCA1=%{x}<br>PCA2=%{y}<br>PCA3=%{z}<extra></extra>",
         "legendgroup": "Antrostomus",
         "marker": {
          "color": "#B6E880",
          "symbol": "circle"
         },
         "mode": "markers",
         "name": "Antrostomus",
         "scene": "scene",
         "showlegend": true,
         "type": "scatter3d",
         "x": [
          1.1977322285531284,
          0.6280107824457826
         ],
         "y": [
          -0.5470800265546911,
          -0.2585304670013447
         ],
         "z": [
          0.6263351125503334,
          0.26121999624153003
         ]
        },
        {
         "hovertemplate": "color=Ara<br>PCA1=%{x}<br>PCA2=%{y}<br>PCA3=%{z}<extra></extra>",
         "legendgroup": "Ara",
         "marker": {
          "color": "#FF97FF",
          "symbol": "circle"
         },
         "mode": "markers",
         "name": "Ara",
         "scene": "scene",
         "showlegend": true,
         "type": "scatter3d",
         "x": [
          -0.992988499105324,
          -0.653157496953969,
          -0.05936106756834946,
          2.607732870980525,
          -1.2297968153011505,
          0.5802389399959269,
          1.0713877541388148,
          0.11460806812892584,
          -0.1399975312726706,
          -0.2215010086446086,
          -0.7341458673588458,
          0.29668423326238885,
          0.5883643143134577,
          0.823105579170561,
          -0.15182104168446386
         ],
         "y": [
          0.02318674445298525,
          -0.4082816250133058,
          -0.2588103364678769,
          2.9948822894778866,
          -0.0972213597144685,
          0.26779609000235644,
          0.6198553688492456,
          -0.14757247896747502,
          -0.6509330065234475,
          -1.2797501276124645,
          -0.1272661899050745,
          0.3754055707005057,
          -0.03267241380663756,
          -0.052210486945076,
          0.6193180956206672
         ],
         "z": [
          -0.43761310362475675,
          -0.25818853000554737,
          -0.2845694863472627,
          -1.5807259985077413,
          -0.19176623454397154,
          -0.5805976020966701,
          -0.5899237631970106,
          -0.3775195662759986,
          0.4647597050124356,
          0.40248560203593314,
          -0.13259657701017089,
          -0.6512967014200043,
          0.6158687370959841,
          0.534542300818442,
          -0.08846408971042907
         ]
        },
        {
         "hovertemplate": "color=Aramides<br>PCA1=%{x}<br>PCA2=%{y}<br>PCA3=%{z}<extra></extra>",
         "legendgroup": "Aramides",
         "marker": {
          "color": "#FECB52",
          "symbol": "circle"
         },
         "mode": "markers",
         "name": "Aramides",
         "scene": "scene",
         "showlegend": true,
         "type": "scatter3d",
         "x": [
          1.7333078712130292,
          -0.708600809321735,
          -0.8380743154850369
         ],
         "y": [
          0.10369519344963146,
          1.729342682898126,
          -0.06275849809862437
         ],
         "z": [
          0.5151611493188342,
          -0.5349908067930155,
          0.14709670255827134
         ]
        },
        {
         "hovertemplate": "color=Aramus<br>PCA1=%{x}<br>PCA2=%{y}<br>PCA3=%{z}<extra></extra>",
         "legendgroup": "Aramus",
         "marker": {
          "color": "#636efa",
          "symbol": "circle"
         },
         "mode": "markers",
         "name": "Aramus",
         "scene": "scene",
         "showlegend": true,
         "type": "scatter3d",
         "x": [
          1.7825523134608843
         ],
         "y": [
          -0.5008198629456845
         ],
         "z": [
          -0.8719694549503186
         ]
        },
        {
         "hovertemplate": "color=Aratinga<br>PCA1=%{x}<br>PCA2=%{y}<br>PCA3=%{z}<extra></extra>",
         "legendgroup": "Aratinga",
         "marker": {
          "color": "#EF553B",
          "symbol": "circle"
         },
         "mode": "markers",
         "name": "Aratinga",
         "scene": "scene",
         "showlegend": true,
         "type": "scatter3d",
         "x": [
          0.8418518680830728
         ],
         "y": [
          -1.718149522656228
         ],
         "z": [
          0.360345960286899
         ]
        },
        {
         "hovertemplate": "color=Ardea<br>PCA1=%{x}<br>PCA2=%{y}<br>PCA3=%{z}<extra></extra>",
         "legendgroup": "Ardea",
         "marker": {
          "color": "#00cc96",
          "symbol": "circle"
         },
         "mode": "markers",
         "name": "Ardea",
         "scene": "scene",
         "showlegend": true,
         "type": "scatter3d",
         "x": [
          -1.320664893581232,
          -0.702165235110354,
          -1.1715354794730097,
          -1.3272861260632913,
          -1.6389794296071987,
          -1.1426955398489351
         ],
         "y": [
          -0.33417367102939477,
          -0.4035275791592927,
          -0.30164477362586634,
          -0.19730209982800845,
          -0.17155380316192959,
          -0.5159262511712742
         ],
         "z": [
          -0.3180863447317385,
          -0.3607934840898886,
          -0.11226222146228582,
          -0.2979083762568316,
          -0.12216894138437225,
          -0.35616890675113994
         ]
        },
        {
         "hovertemplate": "color=Arenaria<br>PCA1=%{x}<br>PCA2=%{y}<br>PCA3=%{z}<extra></extra>",
         "legendgroup": "Arenaria",
         "marker": {
          "color": "#ab63fa",
          "symbol": "circle"
         },
         "mode": "markers",
         "name": "Arenaria",
         "scene": "scene",
         "showlegend": true,
         "type": "scatter3d",
         "x": [
          -1.1312990005146135,
          -0.6982912301431877
         ],
         "y": [
          -0.4638574804819413,
          0.2059483616286453
         ],
         "z": [
          -0.39744518113854477,
          0.6380060778763964
         ]
        },
        {
         "hovertemplate": "color=Arremon<br>PCA1=%{x}<br>PCA2=%{y}<br>PCA3=%{z}<extra></extra>",
         "legendgroup": "Arremon",
         "marker": {
          "color": "#FFA15A",
          "symbol": "circle"
         },
         "mode": "markers",
         "name": "Arremon",
         "scene": "scene",
         "showlegend": true,
         "type": "scatter3d",
         "x": [
          1.1153763773395189,
          -1.1530515214990675,
          -0.9366592972958321,
          -0.7891779515354281,
          0.9009947722420479,
          0.2938232485130915,
          -0.9350378303925613,
          -0.5230694605600359,
          -0.296951698546343
         ],
         "y": [
          0.21109081030109111,
          0.21460042061681742,
          0.3994966839465489,
          0.14266857994036022,
          -0.2517399012378946,
          0.2872805371464726,
          -0.13553307464009906,
          0.6331823467680445,
          0.46769495706372016
         ],
         "z": [
          0.24807966290022276,
          0.21618526932987356,
          0.02714747564939463,
          -0.30336065125293493,
          2.4280550182099834,
          -0.47521916177060664,
          0.20666861422768426,
          -0.04971122910507353,
          0.1908851990683361
         ]
        },
        {
         "hovertemplate": "color=Arundinicola<br>PCA1=%{x}<br>PCA2=%{y}<br>PCA3=%{z}<extra></extra>",
         "legendgroup": "Arundinicola",
         "marker": {
          "color": "#19d3f3",
          "symbol": "circle"
         },
         "mode": "markers",
         "name": "Arundinicola",
         "scene": "scene",
         "showlegend": true,
         "type": "scatter3d",
         "x": [
          -0.16537002440568416,
          1.711806888507579,
          -1.3011912175245668
         ],
         "y": [
          0.3844871191400165,
          1.9328166959259454,
          -0.005447739095495132
         ],
         "z": [
          -0.6289839803785989,
          -1.3430928000832774,
          -0.48745693773433707
         ]
        },
        {
         "hovertemplate": "color=Asthenes<br>PCA1=%{x}<br>PCA2=%{y}<br>PCA3=%{z}<extra></extra>",
         "legendgroup": "Asthenes",
         "marker": {
          "color": "#FF6692",
          "symbol": "circle"
         },
         "mode": "markers",
         "name": "Asthenes",
         "scene": "scene",
         "showlegend": true,
         "type": "scatter3d",
         "x": [
          -1.1018688790754696,
          1.9157464417016363,
          -0.7666296974969236,
          0.2969782317482215,
          0.8814467318444879
         ],
         "y": [
          -0.4206667961760267,
          0.670022521504411,
          0.18112539685342005,
          1.4525724330355714,
          -1.4043155602960753
         ],
         "z": [
          -0.4665507386445192,
          0.2003718844549841,
          -0.6043657393587405,
          -0.004492002129062128,
          0.005763760554881252
         ]
        },
        {
         "hovertemplate": "color=Athene<br>PCA1=%{x}<br>PCA2=%{y}<br>PCA3=%{z}<extra></extra>",
         "legendgroup": "Athene",
         "marker": {
          "color": "#B6E880",
          "symbol": "circle"
         },
         "mode": "markers",
         "name": "Athene",
         "scene": "scene",
         "showlegend": true,
         "type": "scatter3d",
         "x": [
          -1.5623852955106678,
          -0.9447590458476625,
          -0.04787261221639594,
          -0.8537711486563846
         ],
         "y": [
          -0.37184228548114484,
          -0.8050932607715343,
          -0.8567411271967997,
          -0.5061246956926394
         ],
         "z": [
          -0.4043855079903402,
          -0.47253372868184024,
          -0.5022806798101918,
          -0.5104362420270684
         ]
        },
        {
         "hovertemplate": "color=Atlapetes<br>PCA1=%{x}<br>PCA2=%{y}<br>PCA3=%{z}<extra></extra>",
         "legendgroup": "Atlapetes",
         "marker": {
          "color": "#FF97FF",
          "symbol": "circle"
         },
         "mode": "markers",
         "name": "Atlapetes",
         "scene": "scene",
         "showlegend": true,
         "type": "scatter3d",
         "x": [
          1.8243227439936356,
          -0.10866604869136602,
          -0.4186107556823643,
          0.2637371007080324
         ],
         "y": [
          0.804051594239821,
          -0.7319809675057425,
          0.39793336538792445,
          0.412001581821306
         ],
         "z": [
          2.072935026613082,
          0.705637331123861,
          -0.43171372305380373,
          -0.38977855075119
         ]
        },
        {
         "hovertemplate": "color=Atticora<br>PCA1=%{x}<br>PCA2=%{y}<br>PCA3=%{z}<extra></extra>",
         "legendgroup": "Atticora",
         "marker": {
          "color": "#FECB52",
          "symbol": "circle"
         },
         "mode": "markers",
         "name": "Atticora",
         "scene": "scene",
         "showlegend": true,
         "type": "scatter3d",
         "x": [
          0.9567027273045661,
          -0.2150208530915295,
          -0.2915390421456317
         ],
         "y": [
          -0.7163759159395524,
          -0.5509955338372579,
          -1.1570761409405996
         ],
         "z": [
          -0.3430206835448973,
          -0.3643806265374404,
          -0.31578643597351386
         ]
        },
        {
         "hovertemplate": "color=Attila<br>PCA1=%{x}<br>PCA2=%{y}<br>PCA3=%{z}<extra></extra>",
         "legendgroup": "Attila",
         "marker": {
          "color": "#636efa",
          "symbol": "circle"
         },
         "mode": "markers",
         "name": "Attila",
         "scene": "scene",
         "showlegend": true,
         "type": "scatter3d",
         "x": [
          -0.4218165597271546,
          3.448876560585786,
          -1.087747865771379,
          0.613721687027084,
          0.5259568205973641,
          2.2279468847881714,
          -1.1208137991813283,
          4.0195216907197935,
          -1.14197809561787
         ],
         "y": [
          -0.2702828751240973,
          -1.429485737606715,
          0.12879397551913202,
          -0.8112260624136242,
          0.0929918135164892,
          0.4797825611518071,
          0.2805172446397304,
          -3.464982116405709,
          -0.5196822553512169
         ],
         "z": [
          -0.12992804989749365,
          0.6291184997333311,
          -0.2586374537857157,
          0.1261972039729719,
          -0.07141314843523082,
          -0.13341958460735054,
          -0.17058459127193662,
          -0.043797285568652616,
          -0.2579162770033804
         ]
        },
        {
         "hovertemplate": "color=Aulacorhynchus<br>PCA1=%{x}<br>PCA2=%{y}<br>PCA3=%{z}<extra></extra>",
         "legendgroup": "Aulacorhynchus",
         "marker": {
          "color": "#EF553B",
          "symbol": "circle"
         },
         "mode": "markers",
         "name": "Aulacorhynchus",
         "scene": "scene",
         "showlegend": true,
         "type": "scatter3d",
         "x": [
          -0.582663183936244,
          1.0617850519737986,
          3.115523864436109
         ],
         "y": [
          -0.6708287397795654,
          -1.1239693102611548,
          -1.6515311083294857
         ],
         "z": [
          -0.20539246893269741,
          -0.45726601789589905,
          -0.5943188691686191
         ]
        },
        {
         "hovertemplate": "color=Automolus<br>PCA1=%{x}<br>PCA2=%{y}<br>PCA3=%{z}<extra></extra>",
         "legendgroup": "Automolus",
         "marker": {
          "color": "#00cc96",
          "symbol": "circle"
         },
         "mode": "markers",
         "name": "Automolus",
         "scene": "scene",
         "showlegend": true,
         "type": "scatter3d",
         "x": [
          -0.07935652507762958,
          1.7378780389218205,
          1.5529760458237172,
          -0.6930178389530851,
          -0.6212272167442724,
          -0.950270794579106,
          0.06770175319154652,
          1.2308409454093077,
          -1.1347182157200675,
          -0.4825133307364615
         ],
         "y": [
          0.05692665743180753,
          -1.323016440036378,
          -1.6923812322689558,
          -0.12094909466742368,
          0.19120481158814148,
          -0.05570019872601954,
          0.5308989490622698,
          -0.8743875924554236,
          -0.019283669985496812,
          0.11393096479107873
         ],
         "z": [
          -0.6172163673953835,
          0.3105232775402822,
          -0.3438655246302323,
          0.14310689191969317,
          -0.035086173212132137,
          -0.1764626013283491,
          -0.24796875388520537,
          -0.35089612836801537,
          -0.13033391907905073,
          -0.06812530220007927
         ]
        },
        {
         "hovertemplate": "color=Bartramia<br>PCA1=%{x}<br>PCA2=%{y}<br>PCA3=%{z}<extra></extra>",
         "legendgroup": "Bartramia",
         "marker": {
          "color": "#ab63fa",
          "symbol": "circle"
         },
         "mode": "markers",
         "name": "Bartramia",
         "scene": "scene",
         "showlegend": true,
         "type": "scatter3d",
         "x": [
          -0.7971081367836909,
          -1.157655132502582,
          -1.627510862947242
         ],
         "y": [
          -0.32079450383958336,
          -0.047947497128442415,
          -0.22540393839677525
         ],
         "z": [
          -0.3705215931482637,
          -0.3780516498926828,
          -0.3626925373859713
         ]
        },
        {
         "hovertemplate": "color=Baryphthengus<br>PCA1=%{x}<br>PCA2=%{y}<br>PCA3=%{z}<extra></extra>",
         "legendgroup": "Baryphthengus",
         "marker": {
          "color": "#FFA15A",
          "symbol": "circle"
         },
         "mode": "markers",
         "name": "Baryphthengus",
         "scene": "scene",
         "showlegend": true,
         "type": "scatter3d",
         "x": [
          3.615432764357071,
          -0.4265181662698835,
          -0.6591704774359826
         ],
         "y": [
          1.1900508267947278,
          0.06612465536460287,
          0.01497555638016576
         ],
         "z": [
          -1.5273679306324113,
          0.5910239891488407,
          -0.39449031801852974
         ]
        },
        {
         "hovertemplate": "color=Basileuterus<br>PCA1=%{x}<br>PCA2=%{y}<br>PCA3=%{z}<extra></extra>",
         "legendgroup": "Basileuterus",
         "marker": {
          "color": "#19d3f3",
          "symbol": "circle"
         },
         "mode": "markers",
         "name": "Basileuterus",
         "scene": "scene",
         "showlegend": true,
         "type": "scatter3d",
         "x": [
          -0.786706183501183,
          -0.4300557470176362
         ],
         "y": [
          -0.6164480836200448,
          0.23711650720178018
         ],
         "z": [
          -0.2849361765002789,
          1.3698557780971798
         ]
        },
        {
         "hovertemplate": "color=Berlepschia<br>PCA1=%{x}<br>PCA2=%{y}<br>PCA3=%{z}<extra></extra>",
         "legendgroup": "Berlepschia",
         "marker": {
          "color": "#FF6692",
          "symbol": "circle"
         },
         "mode": "markers",
         "name": "Berlepschia",
         "scene": "scene",
         "showlegend": true,
         "type": "scatter3d",
         "x": [
          1.819999185507989,
          -1.2973516583079325
         ],
         "y": [
          2.04013503737082,
          -0.6130263319389679
         ],
         "z": [
          0.15220887345664405,
          -0.4558776373541066
         ]
        },
        {
         "hovertemplate": "color=Bolborhynchus<br>PCA1=%{x}<br>PCA2=%{y}<br>PCA3=%{z}<extra></extra>",
         "legendgroup": "Bolborhynchus",
         "marker": {
          "color": "#B6E880",
          "symbol": "circle"
         },
         "mode": "markers",
         "name": "Bolborhynchus",
         "scene": "scene",
         "showlegend": true,
         "type": "scatter3d",
         "x": [
          -0.8558212824720934,
          -0.7205942900213115,
          0.23217766637035242,
          1.1661260627862244,
          -0.7691730835225091
         ],
         "y": [
          -0.18324702102587995,
          -0.9326587408638095,
          -0.6370680652191161,
          -0.49927151860423363,
          -0.6998769763437732
         ],
         "z": [
          -0.1953597210643289,
          0.008012572494524788,
          0.7477031297149723,
          -0.6622370221103062,
          -0.07746536805324072
         ]
        },
        {
         "hovertemplate": "color=Brachygalba<br>PCA1=%{x}<br>PCA2=%{y}<br>PCA3=%{z}<extra></extra>",
         "legendgroup": "Brachygalba",
         "marker": {
          "color": "#FF97FF",
          "symbol": "circle"
         },
         "mode": "markers",
         "name": "Brachygalba",
         "scene": "scene",
         "showlegend": true,
         "type": "scatter3d",
         "x": [
          0.5473920094807084,
          -0.2995834383092811
         ],
         "y": [
          -0.4966284424490007,
          -0.09758515169382613
         ],
         "z": [
          1.0481785521610885,
          0.13536879981129216
         ]
        },
        {
         "hovertemplate": "color=Brotogeris<br>PCA1=%{x}<br>PCA2=%{y}<br>PCA3=%{z}<extra></extra>",
         "legendgroup": "Brotogeris",
         "marker": {
          "color": "#FECB52",
          "symbol": "circle"
         },
         "mode": "markers",
         "name": "Brotogeris",
         "scene": "scene",
         "showlegend": true,
         "type": "scatter3d",
         "x": [
          -1.0083610813715287,
          -1.012649267045648,
          -0.0745167859162292,
          0.13688674010012417,
          0.07937140514483583,
          -0.2860324677144727
         ],
         "y": [
          -0.3050578871872687,
          0.017669752892643314,
          -0.5240774080007226,
          -0.6904567273014668,
          -0.9018694100777019,
          -0.4853213014983428
         ],
         "z": [
          0.2443818442719375,
          -0.34898884107509204,
          1.1733850117274114,
          0.7596430374142095,
          -0.17154188059584125,
          0.05504033191015224
         ]
        },
        {
         "hovertemplate": "color=Bubo<br>PCA1=%{x}<br>PCA2=%{y}<br>PCA3=%{z}<extra></extra>",
         "legendgroup": "Bubo",
         "marker": {
          "color": "#636efa",
          "symbol": "circle"
         },
         "mode": "markers",
         "name": "Bubo",
         "scene": "scene",
         "showlegend": true,
         "type": "scatter3d",
         "x": [
          -1.57722414078841
         ],
         "y": [
          -0.10827314449297337
         ],
         "z": [
          0.25067383708056196
         ]
        },
        {
         "hovertemplate": "color=Bubulcus<br>PCA1=%{x}<br>PCA2=%{y}<br>PCA3=%{z}<extra></extra>",
         "legendgroup": "Bubulcus",
         "marker": {
          "color": "#EF553B",
          "symbol": "circle"
         },
         "mode": "markers",
         "name": "Bubulcus",
         "scene": "scene",
         "showlegend": true,
         "type": "scatter3d",
         "x": [
          -1.1599957770314249,
          -0.5850540764272961
         ],
         "y": [
          -0.3445541033783937,
          -0.7063045001139822
         ],
         "z": [
          -0.30023529640613666,
          0.2905416575305056
         ]
        },
        {
         "hovertemplate": "color=Bucco<br>PCA1=%{x}<br>PCA2=%{y}<br>PCA3=%{z}<extra></extra>",
         "legendgroup": "Bucco",
         "marker": {
          "color": "#00cc96",
          "symbol": "circle"
         },
         "mode": "markers",
         "name": "Bucco",
         "scene": "scene",
         "showlegend": true,
         "type": "scatter3d",
         "x": [
          -0.3969743259522354,
          -0.34519392532348786,
          -0.4762498468859383,
          0.18938454456434253,
          0.14375501232995194,
          0.10290140989958546,
          1.42472353865844,
          0.5247025894562596
         ],
         "y": [
          -0.36818334771455763,
          -0.5179116436941692,
          0.03057842274880021,
          -0.08269215525113999,
          -0.003615124929697874,
          0.3667294963579014,
          -1.4417699175433816,
          -2.412442409937247
         ],
         "z": [
          -0.010589530044078789,
          0.20272443978134896,
          -0.22595725460692515,
          -0.49078200830923036,
          -0.14431649082530573,
          2.1232370464074664,
          0.5199031644155869,
          -0.3719618034099909
         ]
        },
        {
         "hovertemplate": "color=Busarellus<br>PCA1=%{x}<br>PCA2=%{y}<br>PCA3=%{z}<extra></extra>",
         "legendgroup": "Busarellus",
         "marker": {
          "color": "#ab63fa",
          "symbol": "circle"
         },
         "mode": "markers",
         "name": "Busarellus",
         "scene": "scene",
         "showlegend": true,
         "type": "scatter3d",
         "x": [
          -0.973627835452584,
          -0.4637265311634151,
          -0.04855725807744532,
          -1.2810377821616175,
          -0.7484349711680688
         ],
         "y": [
          0.17973673268125595,
          -0.2649693524405301,
          0.32307209031820083,
          0.16566643006551343,
          0.4735633647397271
         ],
         "z": [
          -0.34791726188483296,
          -0.2677407021512623,
          0.09183772996575712,
          0.08570696358169073,
          -0.6102278870225789
         ]
        },
        {
         "hovertemplate": "color=Buteo<br>PCA1=%{x}<br>PCA2=%{y}<br>PCA3=%{z}<extra></extra>",
         "legendgroup": "Buteo",
         "marker": {
          "color": "#FFA15A",
          "symbol": "circle"
         },
         "mode": "markers",
         "name": "Buteo",
         "scene": "scene",
         "showlegend": true,
         "type": "scatter3d",
         "x": [
          3.1731332821338283,
          -1.0423598247058345,
          -1.4150060512354825,
          -0.8357024203057384,
          -0.8195758160695242,
          -0.0581268627204426,
          -0.28577455298027304,
          0.2622739501505928,
          -1.5662049880114084,
          -1.1138984539334067,
          -0.13808306816113983,
          -1.5756902449187502,
          0.29673445912159113,
          -0.6865851323825058,
          -0.27849797638467644,
          0.5745510393498178,
          -0.8396905569879297,
          0.6430509748808279,
          -1.1649403986694937,
          -1.3604219160896496
         ],
         "y": [
          0.9845107927768642,
          0.13544135907110208,
          0.19687925726977726,
          -0.007941206706527803,
          0.16960259159786245,
          0.8921927745945574,
          0.4232682145461728,
          1.0856300082706987,
          -0.0313230518311784,
          0.04257559977703103,
          1.1540029806798722,
          -0.0716010690094856,
          0.0022230229351551034,
          1.1000958132612189,
          0.8115029324744608,
          1.2851537447672503,
          0.6443345883060462,
          -1.4683697900576917,
          -0.03505641823559736,
          -0.26346816365575243
         ],
         "z": [
          -0.6553780567386936,
          -0.065532792826604,
          -0.31219297489505127,
          0.2847879550220156,
          0.18040664346695615,
          -0.2459115371607804,
          -0.21349223731520262,
          -0.5632773739700307,
          -0.10815474955205344,
          -0.12028748141518074,
          -0.26580026467783696,
          -0.1921033644505911,
          -0.5119482361488648,
          -0.5733345050996048,
          -0.16885521376090212,
          -0.2527175692034346,
          -0.2858726339162893,
          -0.13029392128028924,
          0.1222514410202946,
          -0.32428631081592785
         ]
        },
        {
         "hovertemplate": "color=Buteogallus<br>PCA1=%{x}<br>PCA2=%{y}<br>PCA3=%{z}<extra></extra>",
         "legendgroup": "Buteogallus",
         "marker": {
          "color": "#19d3f3",
          "symbol": "circle"
         },
         "mode": "markers",
         "name": "Buteogallus",
         "scene": "scene",
         "showlegend": true,
         "type": "scatter3d",
         "x": [
          -0.8324071474918806,
          -0.9278731286171649,
          -0.5539336566486757,
          0.6932009971684243,
          -0.568334460632343,
          -0.9544210450976228,
          -1.1247458274331834,
          0.2986269363698783,
          -0.21970850039264533,
          -1.2538622698446673,
          -1.0772289076326926,
          -1.144806683735311,
          0.019391813564025716,
          -1.0957328851429444
         ],
         "y": [
          0.9304994108729489,
          0.6174491130720492,
          0.7532716624358694,
          0.9781008917395215,
          1.2893507510579005,
          0.02965346745665708,
          0.12800745814503953,
          1.3529854382730875,
          0.4797782935951454,
          0.1431130447339104,
          0.4715188563666129,
          -0.02233018565782725,
          2.2009096424941164,
          0.506524160526076
         ],
         "z": [
          -0.40997141250424773,
          0.18418475092566383,
          -0.3373839603126758,
          -0.8065924832465351,
          -0.31854139618834204,
          0.2231045585771674,
          0.0670657986567873,
          -0.6829908104291922,
          2.3171207589990273,
          0.11309281416859265,
          -0.05307163770872834,
          0.45746512856159893,
          -0.6124969469240412,
          2.8301339173564672
         ]
        },
        {
         "hovertemplate": "color=Butorides<br>PCA1=%{x}<br>PCA2=%{y}<br>PCA3=%{z}<extra></extra>",
         "legendgroup": "Butorides",
         "marker": {
          "color": "#FF6692",
          "symbol": "circle"
         },
         "mode": "markers",
         "name": "Butorides",
         "scene": "scene",
         "showlegend": true,
         "type": "scatter3d",
         "x": [
          -1.4514123179098364,
          -1.3647077006286439,
          -0.6488135662965606
         ],
         "y": [
          -0.23102511825037847,
          -0.24670005469009232,
          0.513854364144239
         ],
         "z": [
          -0.27519953786789475,
          -0.30513272483992104,
          0.08611126547175504
         ]
        },
        {
         "hovertemplate": "color=Cacicus<br>PCA1=%{x}<br>PCA2=%{y}<br>PCA3=%{z}<extra></extra>",
         "legendgroup": "Cacicus",
         "marker": {
          "color": "#B6E880",
          "symbol": "circle"
         },
         "mode": "markers",
         "name": "Cacicus",
         "scene": "scene",
         "showlegend": true,
         "type": "scatter3d",
         "x": [
          -0.2791877307913983,
          0.7695568898831344,
          7.741115841877643,
          -0.7073086816394344,
          1.227801121576696,
          -1.3775725135451178,
          -0.2297525226241619,
          -0.16432278964825595,
          -0.6449846926101241,
          0.9912930116793529,
          -1.1858521381528342,
          -0.6704013419651803,
          -1.4204514177181824
         ],
         "y": [
          0.1860016781490098,
          -0.5498073406873992,
          0.47672367621206624,
          -0.5230840381998318,
          -0.9798988852543615,
          -0.38237183505501304,
          0.205885464975985,
          0.1721103265817941,
          -0.5318810290501971,
          -0.026581698397835713,
          -0.24442937137846926,
          0.6481099164638386,
          -0.1355060055515313
         ],
         "z": [
          -0.11886631040560584,
          0.8446908042641854,
          -1.0011395787369386,
          -0.39892518696350765,
          -0.11866312746136563,
          -0.32205063984750054,
          -0.41351994310636,
          -0.4775765089152827,
          -0.2435854876664841,
          -0.4448605033371026,
          -0.39859708062854554,
          -0.4587817403031399,
          -0.14850370467823354
         ]
        },
        {
         "hovertemplate": "color=Calidris<br>PCA1=%{x}<br>PCA2=%{y}<br>PCA3=%{z}<extra></extra>",
         "legendgroup": "Calidris",
         "marker": {
          "color": "#FF97FF",
          "symbol": "circle"
         },
         "mode": "markers",
         "name": "Calidris",
         "scene": "scene",
         "showlegend": true,
         "type": "scatter3d",
         "x": [
          -1.0864545013900695,
          -1.2651213669734562,
          -1.4196508432894235,
          -1.2082456243483004,
          -0.6694706339654535,
          0.4782658795273865,
          0.7364838085503828,
          0.6381027078611317,
          1.9300449794497039,
          -0.8079084358961566,
          -1.0736774662943527,
          0.6535405795819794,
          2.3441508287804336,
          -1.5427954425663317,
          -0.058801617649049245,
          -1.1549021085068887,
          -0.49264880125146393,
          -1.4145787924286086,
          -0.9885786153302796,
          -1.1458996403718475,
          0.1750233414687593,
          0.03810907682521791,
          -1.3925123323380437,
          -1.2714839137438156,
          -1.434348761158362
         ],
         "y": [
          -0.03211323655065253,
          0.032224375307164925,
          -0.33650843655430784,
          -0.45814741493473776,
          -0.7024293171543645,
          -0.9904544533392665,
          -0.7180613541181929,
          0.657990326136006,
          -0.8843045298035856,
          0.39151349560183973,
          -0.15557468163102214,
          -0.023855327616251955,
          -1.3539950414324937,
          -0.2861405382082148,
          -0.44544409471786567,
          -0.37695882710235973,
          -0.13222309419308526,
          -0.20150244177414905,
          -0.642460692447363,
          -0.16967323856948763,
          1.8178598608816847,
          1.1016546158885365,
          -0.21667343801389177,
          -0.1623099592689125,
          0.031820871208239725
         ],
         "z": [
          0.1880739544139049,
          -0.13395455190446942,
          -0.4939085367995962,
          -0.47794196214270823,
          -0.4469062677637179,
          -0.2202497035162922,
          1.053340703683374,
          -0.8265350613130992,
          0.6811616624890402,
          2.1311288039463223,
          -0.4748744108591099,
          -0.34683563558444247,
          -0.4876998918201095,
          -0.44994166198964547,
          -0.19355271848988945,
          -0.2920628177760267,
          -0.5849076105876204,
          -0.3862589337128582,
          -0.46330601423433293,
          -0.39635379290133466,
          -0.375221079620533,
          -0.8778353080118338,
          -0.3950654898649226,
          -0.5112367247298283,
          -0.5120317584056783
         ]
        },
        {
         "hovertemplate": "color=Calliphlox<br>PCA1=%{x}<br>PCA2=%{y}<br>PCA3=%{z}<extra></extra>",
         "legendgroup": "Calliphlox",
         "marker": {
          "color": "#FECB52",
          "symbol": "circle"
         },
         "mode": "markers",
         "name": "Calliphlox",
         "scene": "scene",
         "showlegend": true,
         "type": "scatter3d",
         "x": [
          -0.8083808875480784
         ],
         "y": [
          -0.3948072587827493
         ],
         "z": [
          -0.06827099555111443
         ]
        },
        {
         "hovertemplate": "color=Campephilus<br>PCA1=%{x}<br>PCA2=%{y}<br>PCA3=%{z}<extra></extra>",
         "legendgroup": "Campephilus",
         "marker": {
          "color": "#636efa",
          "symbol": "circle"
         },
         "mode": "markers",
         "name": "Campephilus",
         "scene": "scene",
         "showlegend": true,
         "type": "scatter3d",
         "x": [
          -1.248189987343502,
          -1.035516383181554,
          -0.5543165458699969,
          -1.4448601829193586,
          -0.5194410999725202,
          1.8559612014494216,
          -0.5189759551701495,
          -0.03695414899169032,
          -0.8452175787829509,
          -1.4819707833551945,
          -0.25621191751926686
         ],
         "y": [
          0.3624383627086656,
          0.6296067645228584,
          1.354777039740923,
          0.026157325436348793,
          -0.2144654672441591,
          -1.5678537600844569,
          0.0015768617548149856,
          1.8941821473573308,
          -0.09255199915046042,
          0.09922115582641824,
          -0.31836165375226205
         ],
         "z": [
          0.11420924947499672,
          0.24820066596743348,
          -0.8815787715094011,
          -0.40010243396109896,
          -0.5220338116644965,
          -0.16657433097057406,
          -0.5062731562880721,
          -1.107161659080719,
          -0.31315954650108757,
          -0.426264075045533,
          -0.4599803583076235
         ]
        },
        {
         "hovertemplate": "color=Camptostoma<br>PCA1=%{x}<br>PCA2=%{y}<br>PCA3=%{z}<extra></extra>",
         "legendgroup": "Camptostoma",
         "marker": {
          "color": "#EF553B",
          "symbol": "circle"
         },
         "mode": "markers",
         "name": "Camptostoma",
         "scene": "scene",
         "showlegend": true,
         "type": "scatter3d",
         "x": [
          -1.1515209588444701,
          -0.4325086778762848
         ],
         "y": [
          0.2657244017968931,
          -0.3849167351981138
         ],
         "z": [
          0.2798507143189076,
          -0.44222391160578295
         ]
        },
        {
         "hovertemplate": "color=Campylopterus<br>PCA1=%{x}<br>PCA2=%{y}<br>PCA3=%{z}<extra></extra>",
         "legendgroup": "Campylopterus",
         "marker": {
          "color": "#00cc96",
          "symbol": "circle"
         },
         "mode": "markers",
         "name": "Campylopterus",
         "scene": "scene",
         "showlegend": true,
         "type": "scatter3d",
         "x": [
          -1.0335489250349144,
          -0.9483577364690481,
          -0.9342144630581383
         ],
         "y": [
          -0.33118174293901464,
          -0.6086885493188106,
          -0.46953527727125943
         ],
         "z": [
          -0.44673979250689144,
          -0.4440093830043825,
          -0.2584120747831776
         ]
        },
        {
         "hovertemplate": "color=Campylorhamphus<br>PCA1=%{x}<br>PCA2=%{y}<br>PCA3=%{z}<extra></extra>",
         "legendgroup": "Campylorhamphus",
         "marker": {
          "color": "#ab63fa",
          "symbol": "circle"
         },
         "mode": "markers",
         "name": "Campylorhamphus",
         "scene": "scene",
         "showlegend": true,
         "type": "scatter3d",
         "x": [
          0.535490763862941,
          -1.1668442700350004,
          -1.2574446177916327,
          -1.283052144885172
         ],
         "y": [
          0.6059294702206635,
          0.24231268063796632,
          -0.00509479947112391,
          0.15720627578780763
         ],
         "z": [
          0.7698639344531663,
          0.48164625015438256,
          -0.28383911977788767,
          0.01223197231456468
         ]
        },
        {
         "hovertemplate": "color=Campylorhynchus<br>PCA1=%{x}<br>PCA2=%{y}<br>PCA3=%{z}<extra></extra>",
         "legendgroup": "Campylorhynchus",
         "marker": {
          "color": "#FFA15A",
          "symbol": "circle"
         },
         "mode": "markers",
         "name": "Campylorhynchus",
         "scene": "scene",
         "showlegend": true,
         "type": "scatter3d",
         "x": [
          -1.3157348601921892,
          -0.6848078408815573,
          -1.3049487851642694
         ],
         "y": [
          -0.3944078798264296,
          -0.4298785193882798,
          -0.2625501795649694
         ],
         "z": [
          -0.3950211386207917,
          -0.41292373892496337,
          -0.21878439382738912
         ]
        },
        {
         "hovertemplate": "color=Cantorchilus<br>PCA1=%{x}<br>PCA2=%{y}<br>PCA3=%{z}<extra></extra>",
         "legendgroup": "Cantorchilus",
         "marker": {
          "color": "#19d3f3",
          "symbol": "circle"
         },
         "mode": "markers",
         "name": "Cantorchilus",
         "scene": "scene",
         "showlegend": true,
         "type": "scatter3d",
         "x": [
          -0.5833956199638525,
          -0.49839569304178793,
          0.4901722893970043
         ],
         "y": [
          0.20094698074738837,
          0.21879035530539742,
          1.0681731248517636
         ],
         "z": [
          -0.3197073499128823,
          -0.20640225698657744,
          -0.09876229285882235
         ]
        },
        {
         "hovertemplate": "color=Capito<br>PCA1=%{x}<br>PCA2=%{y}<br>PCA3=%{z}<extra></extra>",
         "legendgroup": "Capito",
         "marker": {
          "color": "#FF6692",
          "symbol": "circle"
         },
         "mode": "markers",
         "name": "Capito",
         "scene": "scene",
         "showlegend": true,
         "type": "scatter3d",
         "x": [
          -0.04451638427442415,
          1.569515829112947,
          -0.7840779649555675,
          -0.7573828339053533,
          0.34431969896815234,
          0.44137200893374184
         ],
         "y": [
          -0.7746416438232085,
          -2.473078163738092,
          -0.4332529105877895,
          -0.4328316578747362,
          -0.8917556880467433,
          -1.2142077656355579
         ],
         "z": [
          -0.23995967920686442,
          -0.15700492401455943,
          0.442986635139518,
          0.5952838742181327,
          0.21319319628389366,
          0.07872815839648496
         ]
        },
        {
         "hovertemplate": "color=Capsiempis<br>PCA1=%{x}<br>PCA2=%{y}<br>PCA3=%{z}<extra></extra>",
         "legendgroup": "Capsiempis",
         "marker": {
          "color": "#B6E880",
          "symbol": "circle"
         },
         "mode": "markers",
         "name": "Capsiempis",
         "scene": "scene",
         "showlegend": true,
         "type": "scatter3d",
         "x": [
          -0.8405697081614418,
          -0.3487218581429803
         ],
         "y": [
          0.11807548945373435,
          0.37876185561743503
         ],
         "z": [
          -0.19363355199695592,
          -0.3383074594274745
         ]
        },
        {
         "hovertemplate": "color=Caracara<br>PCA1=%{x}<br>PCA2=%{y}<br>PCA3=%{z}<extra></extra>",
         "legendgroup": "Caracara",
         "marker": {
          "color": "#FF97FF",
          "symbol": "circle"
         },
         "mode": "markers",
         "name": "Caracara",
         "scene": "scene",
         "showlegend": true,
         "type": "scatter3d",
         "x": [
          0.13926361636462783,
          -0.7910679013894266,
          2.2730959591417177
         ],
         "y": [
          -0.5803049218525207,
          -0.06794536046465449,
          -6.137202418124015
         ],
         "z": [
          -0.3950725541131402,
          -0.06007734096682262,
          -0.8418702153433126
         ]
        },
        {
         "hovertemplate": "color=Cardellina<br>PCA1=%{x}<br>PCA2=%{y}<br>PCA3=%{z}<extra></extra>",
         "legendgroup": "Cardellina",
         "marker": {
          "color": "#FECB52",
          "symbol": "circle"
         },
         "mode": "markers",
         "name": "Cardellina",
         "scene": "scene",
         "showlegend": true,
         "type": "scatter3d",
         "x": [
          -0.09758633639122397,
          -0.41484169917087066,
          -0.49108425101228026
         ],
         "y": [
          -0.6907253657757421,
          0.18260805632309063,
          -0.30279991411379326
         ],
         "z": [
          -0.5151605397307897,
          0.09599261884566176,
          -0.5957287636000477
         ]
        },
        {
         "hovertemplate": "color=Casiornis<br>PCA1=%{x}<br>PCA2=%{y}<br>PCA3=%{z}<extra></extra>",
         "legendgroup": "Casiornis",
         "marker": {
          "color": "#636efa",
          "symbol": "circle"
         },
         "mode": "markers",
         "name": "Casiornis",
         "scene": "scene",
         "showlegend": true,
         "type": "scatter3d",
         "x": [
          -0.8654848872599079,
          0.23354638229612756,
          -1.2399095698291327,
          -1.4815270097316728
         ],
         "y": [
          0.7010203310513387,
          2.365503554504048,
          0.1564013287587692,
          -0.06231355638960296
         ],
         "z": [
          -0.5517642898941112,
          -1.344263720874701,
          -0.34513564642645767,
          -0.2929916953038263
         ]
        },
        {
         "hovertemplate": "color=Catamblyrhynchus<br>PCA1=%{x}<br>PCA2=%{y}<br>PCA3=%{z}<extra></extra>",
         "legendgroup": "Catamblyrhynchus",
         "marker": {
          "color": "#EF553B",
          "symbol": "circle"
         },
         "mode": "markers",
         "name": "Catamblyrhynchus",
         "scene": "scene",
         "showlegend": true,
         "type": "scatter3d",
         "x": [
          -0.7113290242383736,
          -0.5546082661861219,
          4.940177189542481
         ],
         "y": [
          -0.9024532285511095,
          -0.7366242709809994,
          -4.43300301298162
         ],
         "z": [
          -0.3734426211379603,
          -0.1793251838797952,
          -0.5574906048922547
         ]
        },
        {
         "hovertemplate": "color=Catamenia<br>PCA1=%{x}<br>PCA2=%{y}<br>PCA3=%{z}<extra></extra>",
         "legendgroup": "Catamenia",
         "marker": {
          "color": "#00cc96",
          "symbol": "circle"
         },
         "mode": "markers",
         "name": "Catamenia",
         "scene": "scene",
         "showlegend": true,
         "type": "scatter3d",
         "x": [
          -0.5436314589867333,
          2.0933277765609746,
          0.10116044359386223,
          -0.5692498352051931,
          0.6183440404542041,
          -0.28752831603861484,
          -0.7234377172284046,
          -1.0786125346597804,
          -1.0023997939166374
         ],
         "y": [
          0.8419919519583976,
          -0.12108359671026271,
          1.0986198624980057,
          0.48573847208478604,
          -0.5460932000070184,
          -0.13555003081720565,
          -0.4526037925879657,
          -0.4185101006176279,
          0.38698289204056313
         ],
         "z": [
          0.7617721551696641,
          -1.0593027827379298,
          0.36509207677486805,
          0.03450828949061086,
          1.122415251768913,
          -0.6318647802971432,
          -0.30510952998036983,
          -0.032501471421110414,
          0.7743073949031466
         ]
        },
        {
         "hovertemplate": "color=Cathartes<br>PCA1=%{x}<br>PCA2=%{y}<br>PCA3=%{z}<extra></extra>",
         "legendgroup": "Cathartes",
         "marker": {
          "color": "#ab63fa",
          "symbol": "circle"
         },
         "mode": "markers",
         "name": "Cathartes",
         "scene": "scene",
         "showlegend": true,
         "type": "scatter3d",
         "x": [
          5.38271039431456
         ],
         "y": [
          -1.5825656037018854
         ],
         "z": [
          4.429077259981293
         ]
        },
        {
         "hovertemplate": "color=Catharus<br>PCA1=%{x}<br>PCA2=%{y}<br>PCA3=%{z}<extra></extra>",
         "legendgroup": "Catharus",
         "marker": {
          "color": "#FFA15A",
          "symbol": "circle"
         },
         "mode": "markers",
         "name": "Catharus",
         "scene": "scene",
         "showlegend": true,
         "type": "scatter3d",
         "x": [
          0.3759050580190179,
          0.03593885746141908,
          0.4674038885436774,
          0.536338606120745,
          -0.5720950436965008,
          -1.0450784481757291,
          -0.3441586241733381,
          0.5555010715323119,
          0.9954270392468046,
          -0.44758457915246175,
          1.4416788338494881,
          1.7706346615524138,
          -0.6659854867555066,
          -0.8479778276272913
         ],
         "y": [
          -0.2672428412554364,
          -0.17835926833995147,
          -0.22961584140087768,
          -0.35963325503709714,
          0.049506703344636256,
          0.44067396168840833,
          0.37667244308592485,
          0.03925968613068682,
          0.03053077347429075,
          -0.25420356035461034,
          -0.2503552178995556,
          -0.29997192769845943,
          0.07873962758611384,
          0.36340942081121563
         ],
         "z": [
          -0.042169462770080414,
          0.03396011899016806,
          -0.22257629406186424,
          0.09230582651603365,
          0.10017266042728935,
          -0.4778640151295161,
          0.2848650004574942,
          -0.275290505339099,
          -0.2173137634690855,
          -0.05602271981921081,
          -0.230451128203749,
          0.4869660583326319,
          -0.32370020134136235,
          -0.6041201106754484
         ]
        },
        {
         "hovertemplate": "color=Celeus<br>PCA1=%{x}<br>PCA2=%{y}<br>PCA3=%{z}<extra></extra>",
         "legendgroup": "Celeus",
         "marker": {
          "color": "#19d3f3",
          "symbol": "circle"
         },
         "mode": "markers",
         "name": "Celeus",
         "scene": "scene",
         "showlegend": true,
         "type": "scatter3d",
         "x": [
          -1.6192856340121582,
          -0.5533981162551841,
          -0.7691306198760692,
          0.17550086997746037,
          -1.5239309337547082,
          -0.7303162982105638,
          2.481677705146628,
          2.681425925905352,
          0.3615353000961108,
          1.1535319886778352,
          1.2598849274722148,
          -0.5683816769501226
         ],
         "y": [
          -0.14852986586892142,
          0.9398114984177354,
          0.5976050401700075,
          -0.28973272033307607,
          -0.1704768464837858,
          0.05781052328168591,
          2.574643914202968,
          0.7384786109068546,
          1.0647253018433878,
          2.471166355879169,
          0.34336931526401043,
          1.1832179972800234
         ],
         "z": [
          -0.14068404603586987,
          -0.2535665013047415,
          0.09268763291624418,
          -0.5737835349574877,
          -0.00019864192508033766,
          0.1662989443695851,
          -1.4010299793131216,
          -0.5505733885779678,
          -0.2796417618993632,
          -0.8108842913650701,
          -0.6307494211954515,
          0.0347322695025683
         ]
        },
        {
         "hovertemplate": "color=Cephalopterus<br>PCA1=%{x}<br>PCA2=%{y}<br>PCA3=%{z}<extra></extra>",
         "legendgroup": "Cephalopterus",
         "marker": {
          "color": "#FF6692",
          "symbol": "circle"
         },
         "mode": "markers",
         "name": "Cephalopterus",
         "scene": "scene",
         "showlegend": true,
         "type": "scatter3d",
         "x": [
          -1.3064596864694966
         ],
         "y": [
          0.13575963629224858
         ],
         "z": [
          -0.12216664617656736
         ]
        },
        {
         "hovertemplate": "color=Ceratopipra<br>PCA1=%{x}<br>PCA2=%{y}<br>PCA3=%{z}<extra></extra>",
         "legendgroup": "Ceratopipra",
         "marker": {
          "color": "#B6E880",
          "symbol": "circle"
         },
         "mode": "markers",
         "name": "Ceratopipra",
         "scene": "scene",
         "showlegend": true,
         "type": "scatter3d",
         "x": [
          -0.4894331732695462,
          -1.3128381230209858,
          0.8272581854102521,
          0.6945367505651296,
          -0.4330224851915056,
          -1.3705192102966341
         ],
         "y": [
          0.8497775152720476,
          -0.04850010808953876,
          1.9210872199978157,
          0.10747667597378811,
          0.3571953275033647,
          0.4011401885683048
         ],
         "z": [
          -0.015993800633091564,
          -0.3074386908539591,
          -1.2447796429005522,
          -0.7005636009575577,
          -0.19266050252077532,
          -0.34673577367398895
         ]
        },
        {
         "hovertemplate": "color=Cercomacra<br>PCA1=%{x}<br>PCA2=%{y}<br>PCA3=%{z}<extra></extra>",
         "legendgroup": "Cercomacra",
         "marker": {
          "color": "#FF97FF",
          "symbol": "circle"
         },
         "mode": "markers",
         "name": "Cercomacra",
         "scene": "scene",
         "showlegend": true,
         "type": "scatter3d",
         "x": [
          0.8002113569812598,
          1.4733866722556674,
          0.15805706875762118,
          -0.3518604072996419,
          0.15577166884607493,
          0.16200479432407594
         ],
         "y": [
          -0.49961170252666637,
          -2.9137596854591616,
          0.9020630611344878,
          0.6856220996974339,
          0.8921850895518281,
          1.8337761968621467
         ],
         "z": [
          -0.42353393886479873,
          -0.015448254097927053,
          0.3105152580825334,
          0.37547379339738185,
          0.30698767524608445,
          -0.31811478417691
         ]
        },
        {
         "hovertemplate": "color=Cercomacroides<br>PCA1=%{x}<br>PCA2=%{y}<br>PCA3=%{z}<extra></extra>",
         "legendgroup": "Cercomacroides",
         "marker": {
          "color": "#FECB52",
          "symbol": "circle"
         },
         "mode": "markers",
         "name": "Cercomacroides",
         "scene": "scene",
         "showlegend": true,
         "type": "scatter3d",
         "x": [
          -0.11032864069021804,
          -1.3538353719532474,
          -1.1908800899582015,
          -1.2321407442868266,
          0.07675924275421744,
          0.0806748819249129,
          0.7045352140445332,
          -0.10064960199631362,
          1.0960729114727108
         ],
         "y": [
          0.4341592234689529,
          0.1132664063659169,
          0.16145532660243506,
          0.5123849747948792,
          -1.2187652691541744,
          0.6981854409663539,
          -0.9078056483227201,
          0.4910516568254749,
          0.12066271453537691
         ],
         "z": [
          0.017831091560965944,
          -0.27503842255043603,
          -0.23766234424818602,
          -0.2803508775698195,
          -0.45406789593337793,
          -0.3173454358945584,
          -0.5572381022669826,
          0.6251799930926641,
          1.2178698582321579
         ]
        },
        {
         "hovertemplate": "color=Certhiaxis<br>PCA1=%{x}<br>PCA2=%{y}<br>PCA3=%{z}<extra></extra>",
         "legendgroup": "Certhiaxis",
         "marker": {
          "color": "#636efa",
          "symbol": "circle"
         },
         "mode": "markers",
         "name": "Certhiaxis",
         "scene": "scene",
         "showlegend": true,
         "type": "scatter3d",
         "x": [
          0.613313029918085,
          -0.8421486347938067,
          -0.645723454278504
         ],
         "y": [
          -0.38322937127035167,
          0.6731166101426302,
          0.21240681451459487
         ],
         "z": [
          0.31752647029727266,
          0.26720099300508204,
          1.1148104823405875
         ]
        },
        {
         "hovertemplate": "color=Chaetocercus<br>PCA1=%{x}<br>PCA2=%{y}<br>PCA3=%{z}<extra></extra>",
         "legendgroup": "Chaetocercus",
         "marker": {
          "color": "#EF553B",
          "symbol": "circle"
         },
         "mode": "markers",
         "name": "Chaetocercus",
         "scene": "scene",
         "showlegend": true,
         "type": "scatter3d",
         "x": [
          -1.357870756221463
         ],
         "y": [
          -0.19623166213225668
         ],
         "z": [
          -0.42778530385263097
         ]
        },
        {
         "hovertemplate": "color=Chaetura<br>PCA1=%{x}<br>PCA2=%{y}<br>PCA3=%{z}<extra></extra>",
         "legendgroup": "Chaetura",
         "marker": {
          "color": "#00cc96",
          "symbol": "circle"
         },
         "mode": "markers",
         "name": "Chaetura",
         "scene": "scene",
         "showlegend": true,
         "type": "scatter3d",
         "x": [
          -0.5363836355713336,
          -0.6119666217904633,
          -0.3322805152317829,
          -0.7860409630543534,
          -1.0969865403019181,
          0.14608200728001577,
          -1.2676403899758928,
          -0.9894323432640562,
          -1.2098079913534456,
          6.454262610448046,
          -0.4083583854054848,
          -1.2660843435294624
         ],
         "y": [
          -0.3259135396473423,
          0.36745546959152486,
          -0.07527315612765578,
          -0.04308222294233498,
          -0.277096859850869,
          -0.9308183774132548,
          0.2363842062384989,
          -0.7641680954883842,
          -0.15321569982431238,
          -0.9435279434174064,
          -0.23207486224742915,
          -0.5601269298785673
         ],
         "z": [
          0.04754601185132822,
          0.06685934948524724,
          -0.14650373497516045,
          0.5027087089194521,
          0.06387930924625626,
          0.2046830160678194,
          -0.07307669920701027,
          -0.5672353057967835,
          0.7594663456030312,
          3.1282330856133087,
          0.3378475330823374,
          -0.44656417852208924
         ]
        },
        {
         "hovertemplate": "color=Chamaepetes<br>PCA1=%{x}<br>PCA2=%{y}<br>PCA3=%{z}<extra></extra>",
         "legendgroup": "Chamaepetes",
         "marker": {
          "color": "#ab63fa",
          "symbol": "circle"
         },
         "mode": "markers",
         "name": "Chamaepetes",
         "scene": "scene",
         "showlegend": true,
         "type": "scatter3d",
         "x": [
          4.861855970418888,
          -1.3467606804433054
         ],
         "y": [
          -1.005620689929458,
          -0.16306082815810213
         ],
         "z": [
          0.5539423944468536,
          -0.3754255813352788
         ]
        },
        {
         "hovertemplate": "color=Chamaeza<br>PCA1=%{x}<br>PCA2=%{y}<br>PCA3=%{z}<extra></extra>",
         "legendgroup": "Chamaeza",
         "marker": {
          "color": "#FFA15A",
          "symbol": "circle"
         },
         "mode": "markers",
         "name": "Chamaeza",
         "scene": "scene",
         "showlegend": true,
         "type": "scatter3d",
         "x": [
          0.7531375816541314,
          0.4916542002561763,
          -0.590594478319887,
          -0.4210399503502596
         ],
         "y": [
          1.5339596412013623,
          1.375312525274072,
          0.32881952859323,
          0.4351395092419816
         ],
         "z": [
          3.4026633207423926,
          2.8756702852546416,
          -0.5700986636695918,
          2.4031315795481927
         ]
        },
        {
         "hovertemplate": "color=Charadrius<br>PCA1=%{x}<br>PCA2=%{y}<br>PCA3=%{z}<extra></extra>",
         "legendgroup": "Charadrius",
         "marker": {
          "color": "#19d3f3",
          "symbol": "circle"
         },
         "mode": "markers",
         "name": "Charadrius",
         "scene": "scene",
         "showlegend": true,
         "type": "scatter3d",
         "x": [
          -1.226219594175408,
          -0.7937520484426518,
          -1.1916223866524314,
          -1.341186395093716,
          -1.3560315637648759
         ],
         "y": [
          -0.062462795186882455,
          -0.3342009201098076,
          -0.004736462683412337,
          -0.32151226937703803,
          -0.14308476664254682
         ],
         "z": [
          -0.5083717073815663,
          0.22537240269162556,
          -0.46731884462377327,
          -0.39298317472702804,
          -0.4824099684588872
         ]
        },
        {
         "hovertemplate": "color=Chauna<br>PCA1=%{x}<br>PCA2=%{y}<br>PCA3=%{z}<extra></extra>",
         "legendgroup": "Chauna",
         "marker": {
          "color": "#FF6692",
          "symbol": "circle"
         },
         "mode": "markers",
         "name": "Chauna",
         "scene": "scene",
         "showlegend": true,
         "type": "scatter3d",
         "x": [
          -1.023525983663412,
          -0.5558352021125667
         ],
         "y": [
          0.27582049581614365,
          0.4175821862398734
         ],
         "z": [
          -0.5032331041635317,
          -0.528051825239505
         ]
        },
        {
         "hovertemplate": "color=Chelidoptera<br>PCA1=%{x}<br>PCA2=%{y}<br>PCA3=%{z}<extra></extra>",
         "legendgroup": "Chelidoptera",
         "marker": {
          "color": "#B6E880",
          "symbol": "circle"
         },
         "mode": "markers",
         "name": "Chelidoptera",
         "scene": "scene",
         "showlegend": true,
         "type": "scatter3d",
         "x": [
          -0.18213644159174672,
          -1.5125187126192026,
          -1.1346316836571115
         ],
         "y": [
          -0.19697765660559838,
          -0.20628959586859075,
          0.09656962603884271
         ],
         "z": [
          0.6601414590809738,
          -0.35687497410513036,
          -0.4454369046402419
         ]
        },
        {
         "hovertemplate": "color=Chiroxiphia<br>PCA1=%{x}<br>PCA2=%{y}<br>PCA3=%{z}<extra></extra>",
         "legendgroup": "Chiroxiphia",
         "marker": {
          "color": "#FF97FF",
          "symbol": "circle"
         },
         "mode": "markers",
         "name": "Chiroxiphia",
         "scene": "scene",
         "showlegend": true,
         "type": "scatter3d",
         "x": [
          -0.8505191224164022,
          1.8360678002126294,
          -0.8067303900520758,
          4.701358449760554,
          -1.332005569499462
         ],
         "y": [
          0.19970804076446216,
          -0.05150672296182193,
          0.5289491659410032,
          3.2642649278454443,
          -0.12573225264523696
         ],
         "z": [
          -0.5546339042477982,
          -0.14261537338124947,
          -0.621013650398074,
          -2.262742693978838,
          -0.218719628926518
         ]
        },
        {
         "hovertemplate": "color=Chlorestes<br>PCA1=%{x}<br>PCA2=%{y}<br>PCA3=%{z}<extra></extra>",
         "legendgroup": "Chlorestes",
         "marker": {
          "color": "#FECB52",
          "symbol": "circle"
         },
         "mode": "markers",
         "name": "Chlorestes",
         "scene": "scene",
         "showlegend": true,
         "type": "scatter3d",
         "x": [
          7.526575640027227
         ],
         "y": [
          -3.935194706378305
         ],
         "z": [
          5.258735828139109
         ]
        },
        {
         "hovertemplate": "color=Chloroceryle<br>PCA1=%{x}<br>PCA2=%{y}<br>PCA3=%{z}<extra></extra>",
         "legendgroup": "Chloroceryle",
         "marker": {
          "color": "#636efa",
          "symbol": "circle"
         },
         "mode": "markers",
         "name": "Chloroceryle",
         "scene": "scene",
         "showlegend": true,
         "type": "scatter3d",
         "x": [
          -0.015296607615415611,
          -1.1289649289801207,
          -0.8371546858460126,
          -1.2429834029461844,
          -1.2644107998524317,
          -1.2123273840955167,
          -1.0775605558230732,
          -1.1943433496305653,
          -1.2537299508103616,
          0.8931955240437414,
          -0.8901899626828029,
          -0.45576389348280183,
          -0.8585629250149529,
          -1.4742447905111276,
          -1.054771989984336
         ],
         "y": [
          0.436100572300717,
          0.0886603138543937,
          -0.6099521590334231,
          0.3125340241416335,
          -0.4611913998852115,
          -0.10977390789942205,
          -0.29914941909815884,
          0.3265563556184528,
          0.2509932742152379,
          -1.0670964456011913,
          -0.2275967727148366,
          -0.20063210155046032,
          -0.4045061400554354,
          -0.23488173550351787,
          0.02841868366858642
         ],
         "z": [
          -0.6648995612310641,
          -0.27568071451714804,
          -0.36824829696413797,
          -0.46024891514958044,
          -0.4759617523983323,
          -0.008414057380058359,
          -0.15304800507016653,
          -0.3002680360533911,
          1.130861683720788,
          -0.6689910712750107,
          0.05935966782897962,
          -0.5687001457844095,
          -0.17368163595602662,
          -0.39374302007515805,
          -0.4024376321866094
         ]
        },
        {
         "hovertemplate": "color=Chlorochrysa<br>PCA1=%{x}<br>PCA2=%{y}<br>PCA3=%{z}<extra></extra>",
         "legendgroup": "Chlorochrysa",
         "marker": {
          "color": "#EF553B",
          "symbol": "circle"
         },
         "mode": "markers",
         "name": "Chlorochrysa",
         "scene": "scene",
         "showlegend": true,
         "type": "scatter3d",
         "x": [
          -0.9178777998391229,
          -1.061827739891256,
          0.3184862352141884
         ],
         "y": [
          -0.06208567983715284,
          -0.06146147394017269,
          -1.369877723213951
         ],
         "z": [
          0.04988933887497815,
          0.23559928898288388,
          -0.2408656617055784
         ]
        },
        {
         "hovertemplate": "color=Chlorophanes<br>PCA1=%{x}<br>PCA2=%{y}<br>PCA3=%{z}<extra></extra>",
         "legendgroup": "Chlorophanes",
         "marker": {
          "color": "#00cc96",
          "symbol": "circle"
         },
         "mode": "markers",
         "name": "Chlorophanes",
         "scene": "scene",
         "showlegend": true,
         "type": "scatter3d",
         "x": [
          -0.7582391864107292,
          0.1882896560561256,
          -1.6092010532913874,
          -0.6133261093424567
         ],
         "y": [
          -0.1933259631475192,
          -1.1019058194809426,
          -0.14249712773459883,
          -0.629373285676952
         ],
         "z": [
          -0.5259546903470955,
          -0.3009753374820477,
          -0.030345003475309485,
          -0.4960594193065176
         ]
        },
        {
         "hovertemplate": "color=Chlorophonia<br>PCA1=%{x}<br>PCA2=%{y}<br>PCA3=%{z}<extra></extra>",
         "legendgroup": "Chlorophonia",
         "marker": {
          "color": "#ab63fa",
          "symbol": "circle"
         },
         "mode": "markers",
         "name": "Chlorophonia",
         "scene": "scene",
         "showlegend": true,
         "type": "scatter3d",
         "x": [
          -0.3757108116732392,
          -0.8797886135492722
         ],
         "y": [
          -0.02587670580153003,
          -0.017823794003939682
         ],
         "z": [
          -0.3188233126149588,
          -0.43142202456757406
         ]
        },
        {
         "hovertemplate": "color=Chloropipo<br>PCA1=%{x}<br>PCA2=%{y}<br>PCA3=%{z}<extra></extra>",
         "legendgroup": "Chloropipo",
         "marker": {
          "color": "#FFA15A",
          "symbol": "circle"
         },
         "mode": "markers",
         "name": "Chloropipo",
         "scene": "scene",
         "showlegend": true,
         "type": "scatter3d",
         "x": [
          -1.3766563202190827,
          -1.3824816435669596,
          0.5676566254099363
         ],
         "y": [
          0.08792761310238117,
          0.23438877532362726,
          0.5816373820480699
         ],
         "z": [
          -0.37387650712393394,
          -0.47078494250281133,
          -0.8289340329605319
         ]
        },
        {
         "hovertemplate": "color=Chlorospingus<br>PCA1=%{x}<br>PCA2=%{y}<br>PCA3=%{z}<extra></extra>",
         "legendgroup": "Chlorospingus",
         "marker": {
          "color": "#19d3f3",
          "symbol": "circle"
         },
         "mode": "markers",
         "name": "Chlorospingus",
         "scene": "scene",
         "showlegend": true,
         "type": "scatter3d",
         "x": [
          0.673734384466135,
          0.7572820463046582,
          -0.6622712676144482,
          0.7727350717412316,
          3.19695406560984,
          2.7307383273940657,
          -0.3006873054962112
         ],
         "y": [
          -1.2075425815500052,
          -0.5980523316163223,
          -0.02294354807559091,
          -0.9997930211137347,
          -2.4625208273188504,
          -2.224467014526695,
          -0.6000321193593051
         ],
         "z": [
          -0.23734115687665594,
          0.16805092352790685,
          -0.6435923679124563,
          0.2956348763245996,
          -0.6577037131511185,
          -0.6914127906400483,
          0.36146515484223624
         ]
        },
        {
         "hovertemplate": "color=Chlorostilbon<br>PCA1=%{x}<br>PCA2=%{y}<br>PCA3=%{z}<extra></extra>",
         "legendgroup": "Chlorostilbon",
         "marker": {
          "color": "#FF6692",
          "symbol": "circle"
         },
         "mode": "markers",
         "name": "Chlorostilbon",
         "scene": "scene",
         "showlegend": true,
         "type": "scatter3d",
         "x": [
          -1.3453864362844146,
          -1.2479484099263358
         ],
         "y": [
          -0.19855777470604874,
          -0.15224285169320995
         ],
         "z": [
          -0.2051232494219715,
          -0.5262124141458763
         ]
        },
        {
         "hovertemplate": "color=Chlorothraupis<br>PCA1=%{x}<br>PCA2=%{y}<br>PCA3=%{z}<extra></extra>",
         "legendgroup": "Chlorothraupis",
         "marker": {
          "color": "#B6E880",
          "symbol": "circle"
         },
         "mode": "markers",
         "name": "Chlorothraupis",
         "scene": "scene",
         "showlegend": true,
         "type": "scatter3d",
         "x": [
          -0.9131659075475599,
          -1.0515102785172985,
          -1.3399813102104308
         ],
         "y": [
          -0.286499377732946,
          0.07566089977829264,
          -0.39939653411234727
         ],
         "z": [
          0.4640086227659766,
          -0.18533551759995195,
          -0.32735641845660685
         ]
        },
        {
         "hovertemplate": "color=Chondrohierax<br>PCA1=%{x}<br>PCA2=%{y}<br>PCA3=%{z}<extra></extra>",
         "legendgroup": "Chondrohierax",
         "marker": {
          "color": "#FF97FF",
          "symbol": "circle"
         },
         "mode": "markers",
         "name": "Chondrohierax",
         "scene": "scene",
         "showlegend": true,
         "type": "scatter3d",
         "x": [
          1.0042684103525594,
          -1.0244653724161208,
          -1.5503828225440348
         ],
         "y": [
          2.2282232101201576,
          -0.27613637159061216,
          -0.015818296659995016
         ],
         "z": [
          -0.9678132993705917,
          -0.2112130727947585,
          -0.17173121720981568
         ]
        },
        {
         "hovertemplate": "color=Chordeiles<br>PCA1=%{x}<br>PCA2=%{y}<br>PCA3=%{z}<extra></extra>",
         "legendgroup": "Chordeiles",
         "marker": {
          "color": "#FECB52",
          "symbol": "circle"
         },
         "mode": "markers",
         "name": "Chordeiles",
         "scene": "scene",
         "showlegend": true,
         "type": "scatter3d",
         "x": [
          -0.7741948022384647,
          -0.8373267052192422,
          -1.5712287217743848,
          -0.33754378473967983,
          0.25206369474452994,
          -1.6159741859923165
         ],
         "y": [
          -0.21530919243419458,
          0.03621018626173076,
          -0.05526002933358138,
          0.49884711310269314,
          -1.2234286117250712,
          -0.21325456815531357
         ],
         "z": [
          -0.24234906244465018,
          -0.4652898238591177,
          -0.3539853689540218,
          -0.7605543185285693,
          -0.14041745798259417,
          -0.34799030778121753
         ]
        },
        {
         "hovertemplate": "color=Chroicocephalus<br>PCA1=%{x}<br>PCA2=%{y}<br>PCA3=%{z}<extra></extra>",
         "legendgroup": "Chroicocephalus",
         "marker": {
          "color": "#636efa",
          "symbol": "circle"
         },
         "mode": "markers",
         "name": "Chroicocephalus",
         "scene": "scene",
         "showlegend": true,
         "type": "scatter3d",
         "x": [
          -0.42440516257866234,
          0.10335511473066891,
          -0.34264484092816466
         ],
         "y": [
          -0.2883744095947297,
          -0.24023518160515328,
          -0.6829625404865186
         ],
         "z": [
          0.516141559919651,
          -0.8225660781619246,
          -0.373162177775188
         ]
        },
        {
         "hovertemplate": "color=Chrysuronia<br>PCA1=%{x}<br>PCA2=%{y}<br>PCA3=%{z}<extra></extra>",
         "legendgroup": "Chrysuronia",
         "marker": {
          "color": "#EF553B",
          "symbol": "circle"
         },
         "mode": "markers",
         "name": "Chrysuronia",
         "scene": "scene",
         "showlegend": true,
         "type": "scatter3d",
         "x": [
          0.48133818318976507,
          -0.5951079105698318
         ],
         "y": [
          0.326547852799666,
          0.0002059399443950246
         ],
         "z": [
          0.2893803883484379,
          -0.32090550671625717
         ]
        },
        {
         "hovertemplate": "color=Ciconia<br>PCA1=%{x}<br>PCA2=%{y}<br>PCA3=%{z}<extra></extra>",
         "legendgroup": "Ciconia",
         "marker": {
          "color": "#00cc96",
          "symbol": "circle"
         },
         "mode": "markers",
         "name": "Ciconia",
         "scene": "scene",
         "showlegend": true,
         "type": "scatter3d",
         "x": [
          -1.0590982086640717
         ],
         "y": [
          -0.4877511619534919
         ],
         "z": [
          -0.511592513139896
         ]
        },
        {
         "hovertemplate": "color=Cinclodes<br>PCA1=%{x}<br>PCA2=%{y}<br>PCA3=%{z}<extra></extra>",
         "legendgroup": "Cinclodes",
         "marker": {
          "color": "#ab63fa",
          "symbol": "circle"
         },
         "mode": "markers",
         "name": "Cinclodes",
         "scene": "scene",
         "showlegend": true,
         "type": "scatter3d",
         "x": [
          -0.2920052808510554,
          -1.2379522709461759
         ],
         "y": [
          -0.11640605863053483,
          -0.16817245851858204
         ],
         "z": [
          0.7478034450201665,
          -0.2674864111891176
         ]
        },
        {
         "hovertemplate": "color=Cinnycerthia<br>PCA1=%{x}<br>PCA2=%{y}<br>PCA3=%{z}<extra></extra>",
         "legendgroup": "Cinnycerthia",
         "marker": {
          "color": "#FFA15A",
          "symbol": "circle"
         },
         "mode": "markers",
         "name": "Cinnycerthia",
         "scene": "scene",
         "showlegend": true,
         "type": "scatter3d",
         "x": [
          0.13017180909211937,
          1.84371518635377,
          0.1735644157641277
         ],
         "y": [
          -0.2905841584802103,
          -3.5456919460968237,
          -0.9922683139098931
         ],
         "z": [
          0.04599103302059798,
          -0.5396153649796961,
          -0.0319014024619249
         ]
        },
        {
         "hovertemplate": "color=Circus<br>PCA1=%{x}<br>PCA2=%{y}<br>PCA3=%{z}<extra></extra>",
         "legendgroup": "Circus",
         "marker": {
          "color": "#19d3f3",
          "symbol": "circle"
         },
         "mode": "markers",
         "name": "Circus",
         "scene": "scene",
         "showlegend": true,
         "type": "scatter3d",
         "x": [
          -0.5231166575342312,
          2.7217599296602306
         ],
         "y": [
          -0.2035385331905465,
          1.7164925534486202
         ],
         "z": [
          -0.4725404851490148,
          -0.410338928682567
         ]
        },
        {
         "hovertemplate": "color=Cissopis<br>PCA1=%{x}<br>PCA2=%{y}<br>PCA3=%{z}<extra></extra>",
         "legendgroup": "Cissopis",
         "marker": {
          "color": "#FF6692",
          "symbol": "circle"
         },
         "mode": "markers",
         "name": "Cissopis",
         "scene": "scene",
         "showlegend": true,
         "type": "scatter3d",
         "x": [
          -1.5163117099444092,
          -0.09737104498615626,
          -0.8352040457886662
         ],
         "y": [
          -0.10984650767223669,
          -0.49316363762070065,
          -0.2478308833761069
         ],
         "z": [
          -0.3013449552165483,
          -0.3982524859754188,
          -0.27809757261072715
         ]
        },
        {
         "hovertemplate": "color=Claravis<br>PCA1=%{x}<br>PCA2=%{y}<br>PCA3=%{z}<extra></extra>",
         "legendgroup": "Claravis",
         "marker": {
          "color": "#B6E880",
          "symbol": "circle"
         },
         "mode": "markers",
         "name": "Claravis",
         "scene": "scene",
         "showlegend": true,
         "type": "scatter3d",
         "x": [
          -0.8645509511472527
         ],
         "y": [
          -0.22907365202785537
         ],
         "z": [
          -0.37402793811828855
         ]
        },
        {
         "hovertemplate": "color=Clibanornis<br>PCA1=%{x}<br>PCA2=%{y}<br>PCA3=%{z}<extra></extra>",
         "legendgroup": "Clibanornis",
         "marker": {
          "color": "#FF97FF",
          "symbol": "circle"
         },
         "mode": "markers",
         "name": "Clibanornis",
         "scene": "scene",
         "showlegend": true,
         "type": "scatter3d",
         "x": [
          4.420773913385122,
          -0.9852399203737117,
          -1.204532328604287,
          0.7779359365495827
         ],
         "y": [
          -1.307647020918537,
          0.043082484672292184,
          -0.09683351146030601,
          -0.32909389842609094
         ],
         "z": [
          0.5902013555924717,
          -0.18434226976285983,
          -0.02690656465275677,
          0.007922048144192891
         ]
        },
        {
         "hovertemplate": "color=Cnemotriccus<br>PCA1=%{x}<br>PCA2=%{y}<br>PCA3=%{z}<extra></extra>",
         "legendgroup": "Cnemotriccus",
         "marker": {
          "color": "#FECB52",
          "symbol": "circle"
         },
         "mode": "markers",
         "name": "Cnemotriccus",
         "scene": "scene",
         "showlegend": true,
         "type": "scatter3d",
         "x": [
          -0.43007757259732443,
          0.12566110570186845
         ],
         "y": [
          0.6844098872872073,
          1.6566813861010814
         ],
         "z": [
          0.09942566519611366,
          -0.7533579789674781
         ]
        },
        {
         "hovertemplate": "color=Cnipodectes<br>PCA1=%{x}<br>PCA2=%{y}<br>PCA3=%{z}<extra></extra>",
         "legendgroup": "Cnipodectes",
         "marker": {
          "color": "#636efa",
          "symbol": "circle"
         },
         "mode": "markers",
         "name": "Cnipodectes",
         "scene": "scene",
         "showlegend": true,
         "type": "scatter3d",
         "x": [
          0.28394215763294656,
          3.334253761023755,
          1.3812980420070975,
          1.4101085506850635
         ],
         "y": [
          1.674556464191776,
          1.9701443010757567,
          -2.347249000364714,
          1.2040818614706161
         ],
         "z": [
          -0.8032493123826289,
          -1.0726917774403926,
          -0.515102493419556,
          -0.5110512603671954
         ]
        },
        {
         "hovertemplate": "color=Coccycua<br>PCA1=%{x}<br>PCA2=%{y}<br>PCA3=%{z}<extra></extra>",
         "legendgroup": "Coccycua",
         "marker": {
          "color": "#EF553B",
          "symbol": "circle"
         },
         "mode": "markers",
         "name": "Coccycua",
         "scene": "scene",
         "showlegend": true,
         "type": "scatter3d",
         "x": [
          -1.2927828487468314,
          0.6338165230652927,
          -1.3787171555922646,
          0.6448528136245663
         ],
         "y": [
          0.00601649823781491,
          -0.6789527730848399,
          -0.19442789846080527,
          1.4626539910461174
         ],
         "z": [
          0.5938708080232936,
          -0.44254654790838815,
          -0.17023363861489277,
          -1.1860396783934621
         ]
        },
        {
         "hovertemplate": "color=Coccyzus<br>PCA1=%{x}<br>PCA2=%{y}<br>PCA3=%{z}<extra></extra>",
         "legendgroup": "Coccyzus",
         "marker": {
          "color": "#00cc96",
          "symbol": "circle"
         },
         "mode": "markers",
         "name": "Coccyzus",
         "scene": "scene",
         "showlegend": true,
         "type": "scatter3d",
         "x": [
          -1.3079817882406264,
          -1.324401757593361,
          -1.2551371227906267,
          2.8815913654652063,
          0.9174390335728384,
          -0.6727937700800843,
          -0.6130854676498076
         ],
         "y": [
          0.18451270395750805,
          -0.23079225428495637,
          -0.11691313490611961,
          -1.1310408330295314,
          -1.3372697979482098,
          -0.32247312945823453,
          1.061304487891392
         ],
         "z": [
          1.5923548038113027,
          -0.11658025134078025,
          0.07906280061608159,
          0.14992180164545815,
          0.19888643818976093,
          -0.3050623681727396,
          0.24379692627520932
         ]
        },
        {
         "hovertemplate": "color=Cochlearius<br>PCA1=%{x}<br>PCA2=%{y}<br>PCA3=%{z}<extra></extra>",
         "legendgroup": "Cochlearius",
         "marker": {
          "color": "#ab63fa",
          "symbol": "circle"
         },
         "mode": "markers",
         "name": "Cochlearius",
         "scene": "scene",
         "showlegend": true,
         "type": "scatter3d",
         "x": [
          -1.1544842525020984,
          -1.1478116502811304,
          -0.17585140198062024
         ],
         "y": [
          -0.3011019896062565,
          -0.03939440877439638,
          -0.2479013171388499
         ],
         "z": [
          -0.44954254531761884,
          -0.22973347922167178,
          0.5057781123938938
         ]
        },
        {
         "hovertemplate": "color=Coeligena<br>PCA1=%{x}<br>PCA2=%{y}<br>PCA3=%{z}<extra></extra>",
         "legendgroup": "Coeligena",
         "marker": {
          "color": "#FFA15A",
          "symbol": "circle"
         },
         "mode": "markers",
         "name": "Coeligena",
         "scene": "scene",
         "showlegend": true,
         "type": "scatter3d",
         "x": [
          1.8037011691677995,
          0.30313749005047264,
          -1.2278772933400266,
          0.03831611418341513,
          -1.5861566729009795
         ],
         "y": [
          -2.213742049675214,
          -1.2712970505759482,
          -0.49291474687353243,
          -0.9448489524025506,
          -0.3484204534142991
         ],
         "z": [
          -0.28637303559215227,
          -0.2140741814630767,
          -0.3540193970055314,
          -0.4279084781252812,
          -0.32540969658674296
         ]
        },
        {
         "hovertemplate": "color=Coereba<br>PCA1=%{x}<br>PCA2=%{y}<br>PCA3=%{z}<extra></extra>",
         "legendgroup": "Coereba",
         "marker": {
          "color": "#19d3f3",
          "symbol": "circle"
         },
         "mode": "markers",
         "name": "Coereba",
         "scene": "scene",
         "showlegend": true,
         "type": "scatter3d",
         "x": [
          -0.07301249092561551,
          -0.7489224094823116,
          -0.6760516091712865
         ],
         "y": [
          0.1339142348827635,
          0.1765297779204148,
          -0.5761257743256996
         ],
         "z": [
          0.6186585783412061,
          0.14324409849134392,
          -0.39229166861560616
         ]
        },
        {
         "hovertemplate": "color=Colaptes<br>PCA1=%{x}<br>PCA2=%{y}<br>PCA3=%{z}<extra></extra>",
         "legendgroup": "Colaptes",
         "marker": {
          "color": "#FF6692",
          "symbol": "circle"
         },
         "mode": "markers",
         "name": "Colaptes",
         "scene": "scene",
         "showlegend": true,
         "type": "scatter3d",
         "x": [
          -1.395996261285377,
          -1.4295625801187364,
          -1.4359487020804584,
          -1.1921728972899028,
          -1.4504953422473656,
          -1.1056714956357299,
          -0.18580726909610723,
          -1.1475140158345583,
          -1.0783337560465762,
          -1.2440687962186565,
          -1.5616010718135098,
          2.106229126039744,
          -1.465136049121118,
          -1.2593808272707443,
          -1.164028416127983,
          -1.284901040267331
         ],
         "y": [
          0.18105242439504293,
          -0.3003796271937948,
          0.06485299932482003,
          -0.04314236995146935,
          0.13116013647029656,
          -0.20106465319772598,
          -0.16766309543360194,
          -0.15116615889792134,
          -1.2209053180386293,
          -0.605168665276304,
          -0.014840746632442895,
          0.6070662446154087,
          0.13391367502232113,
          -0.10513338506658802,
          -0.3100761982753797,
          -0.26400964924657516
         ],
         "z": [
          0.8459749759682248,
          0.040700997753632825,
          1.1269994624719364,
          -0.42783386724730427,
          -0.007693473542985402,
          -0.05215685194029313,
          -0.46020917499623243,
          -0.37245296986791393,
          -0.4578016299970485,
          -0.48875750234760645,
          -0.4079746722504727,
          0.19711361374174718,
          0.22083228443357786,
          -0.36318210647875365,
          -0.49619289358885305,
          -0.40247882734292856
         ]
        },
        {
         "hovertemplate": "color=Colibri<br>PCA1=%{x}<br>PCA2=%{y}<br>PCA3=%{z}<extra></extra>",
         "legendgroup": "Colibri",
         "marker": {
          "color": "#B6E880",
          "symbol": "circle"
         },
         "mode": "markers",
         "name": "Colibri",
         "scene": "scene",
         "showlegend": true,
         "type": "scatter3d",
         "x": [
          -0.9363095254044425,
          1.915744504526933,
          -0.6905515063765009,
          -1.235176083968844,
          0.18614779947753354,
          5.201659562435396
         ],
         "y": [
          -0.3905682482755562,
          -1.5852699499229892,
          -0.8063615548410238,
          0.12040445367337568,
          0.16354760958835993,
          -0.28331049826503063
         ],
         "z": [
          -0.10222398707451338,
          -0.8896903493754229,
          -0.24596065626674754,
          0.628884801160539,
          0.8474929689566437,
          2.230596013993668
         ]
        },
        {
         "hovertemplate": "color=Colonia<br>PCA1=%{x}<br>PCA2=%{y}<br>PCA3=%{z}<extra></extra>",
         "legendgroup": "Colonia",
         "marker": {
          "color": "#FF97FF",
          "symbol": "circle"
         },
         "mode": "markers",
         "name": "Colonia",
         "scene": "scene",
         "showlegend": true,
         "type": "scatter3d",
         "x": [
          -1.5747176267914245,
          -0.3469269904789901
         ],
         "y": [
          -0.07001315395942109,
          -0.18140508697777077
         ],
         "z": [
          -0.3352082364013306,
          -0.2928009319281444
         ]
        },
        {
         "hovertemplate": "color=Columba<br>PCA1=%{x}<br>PCA2=%{y}<br>PCA3=%{z}<extra></extra>",
         "legendgroup": "Columba",
         "marker": {
          "color": "#FECB52",
          "symbol": "circle"
         },
         "mode": "markers",
         "name": "Columba",
         "scene": "scene",
         "showlegend": true,
         "type": "scatter3d",
         "x": [
          -0.8050698558350966,
          -0.6600209201213961
         ],
         "y": [
          -0.3742139186050234,
          -0.557746454213353
         ],
         "z": [
          -0.11050477861179739,
          0.023394023326419166
         ]
        },
        {
         "hovertemplate": "color=Columbina<br>PCA1=%{x}<br>PCA2=%{y}<br>PCA3=%{z}<extra></extra>",
         "legendgroup": "Columbina",
         "marker": {
          "color": "#636efa",
          "symbol": "circle"
         },
         "mode": "markers",
         "name": "Columbina",
         "scene": "scene",
         "showlegend": true,
         "type": "scatter3d",
         "x": [
          1.0678749191897232,
          -1.5426609930448636,
          -1.0427774235328933
         ],
         "y": [
          -0.6813202591381511,
          -0.29228362075893183,
          -0.3100726628571392
         ],
         "z": [
          -0.4869221190552575,
          -0.3341303110475848,
          -0.295127460793182
         ]
        },
        {
         "hovertemplate": "color=Conioptilon<br>PCA1=%{x}<br>PCA2=%{y}<br>PCA3=%{z}<extra></extra>",
         "legendgroup": "Conioptilon",
         "marker": {
          "color": "#EF553B",
          "symbol": "circle"
         },
         "mode": "markers",
         "name": "Conioptilon",
         "scene": "scene",
         "showlegend": true,
         "type": "scatter3d",
         "x": [
          -0.7084796626298188,
          -0.5160686715796289
         ],
         "y": [
          0.0813384823775523,
          -0.3004173019834792
         ],
         "z": [
          -0.24745599715034883,
          0.1548778358097642
         ]
        },
        {
         "hovertemplate": "color=Conirostrum<br>PCA1=%{x}<br>PCA2=%{y}<br>PCA3=%{z}<extra></extra>",
         "legendgroup": "Conirostrum",
         "marker": {
          "color": "#00cc96",
          "symbol": "circle"
         },
         "mode": "markers",
         "name": "Conirostrum",
         "scene": "scene",
         "showlegend": true,
         "type": "scatter3d",
         "x": [
          -0.8820328493156997,
          -0.9531089699373381,
          -1.0907472150930897,
          -1.0932141710230134,
          -0.44329946664115566,
          -0.48287911659968885,
          0.10650322244647031
         ],
         "y": [
          -0.432088302433229,
          0.008109409758372077,
          -0.19547962456223747,
          -0.11975340874678188,
          -0.1871705278624963,
          -0.5263207603644291,
          0.13060703131055712
         ],
         "z": [
          -0.13969353996332237,
          -0.5872325459317714,
          -0.42184131002244224,
          -0.33191538396115494,
          -0.6186235927675409,
          -0.2715053870724695,
          0.8632885771866186
         ]
        },
        {
         "hovertemplate": "color=Conopias<br>PCA1=%{x}<br>PCA2=%{y}<br>PCA3=%{z}<extra></extra>",
         "legendgroup": "Conopias",
         "marker": {
          "color": "#ab63fa",
          "symbol": "circle"
         },
         "mode": "markers",
         "name": "Conopias",
         "scene": "scene",
         "showlegend": true,
         "type": "scatter3d",
         "x": [
          -1.114184479627943,
          -1.1783846033303407,
          -1.009207339348646,
          -0.4875885558522666,
          -0.03125515786304683
         ],
         "y": [
          -0.005414224422524548,
          0.4180701415289039,
          0.03122025958618989,
          -0.946785565821932,
          -1.6158139018734956
         ],
         "z": [
          0.036444377548057315,
          -0.4839177009578698,
          0.3349105215221849,
          -0.35171656731987805,
          -0.2999584466092088
         ]
        },
        {
         "hovertemplate": "color=Conopophaga<br>PCA1=%{x}<br>PCA2=%{y}<br>PCA3=%{z}<extra></extra>",
         "legendgroup": "Conopophaga",
         "marker": {
          "color": "#FFA15A",
          "symbol": "circle"
         },
         "mode": "markers",
         "name": "Conopophaga",
         "scene": "scene",
         "showlegend": true,
         "type": "scatter3d",
         "x": [
          -0.4569411128699515,
          -1.0448646859203452,
          -0.6680991075816571,
          0.9035038073086848,
          -0.2376327873836908
         ],
         "y": [
          -0.3306077062528033,
          0.043829486792666086,
          -0.029943399486716416,
          0.19437197640380938,
          0.6791957599519055
         ],
         "z": [
          -0.28638444265661633,
          -0.35418097295682793,
          -0.5318942463459952,
          -0.6246529758671439,
          -0.672857289878869
         ]
        },
        {
         "hovertemplate": "color=Conothraupis<br>PCA1=%{x}<br>PCA2=%{y}<br>PCA3=%{z}<extra></extra>",
         "legendgroup": "Conothraupis",
         "marker": {
          "color": "#19d3f3",
          "symbol": "circle"
         },
         "mode": "markers",
         "name": "Conothraupis",
         "scene": "scene",
         "showlegend": true,
         "type": "scatter3d",
         "x": [
          -1.0776875217347348,
          0.7160893842752826
         ],
         "y": [
          -0.13966168665402767,
          1.0827449648968144
         ],
         "z": [
          -0.20777997227716227,
          -0.8789864888427555
         ]
        },
        {
         "hovertemplate": "color=Contopus<br>PCA1=%{x}<br>PCA2=%{y}<br>PCA3=%{z}<extra></extra>",
         "legendgroup": "Contopus",
         "marker": {
          "color": "#FF6692",
          "symbol": "circle"
         },
         "mode": "markers",
         "name": "Contopus",
         "scene": "scene",
         "showlegend": true,
         "type": "scatter3d",
         "x": [
          -0.14000591345426425,
          -0.8488195343175704,
          0.0860096537435983,
          -0.27652636055078705,
          4.131865155119476,
          -1.275494540301686,
          -0.4794169571012005,
          -0.3459263029775995,
          -1.0269843707010369,
          -0.7298758646603255,
          2.933991710080108
         ],
         "y": [
          -0.4666132038060524,
          0.22680111396143224,
          -0.2921244077096108,
          -1.1236755885167637,
          -0.9272522643054544,
          0.22609342969194837,
          0.19346971268508564,
          -0.3093101050288327,
          -0.000663631910772999,
          0.09485072730017158,
          0.8149169733605859
         ],
         "z": [
          -0.03217564300406962,
          0.029342607479801785,
          0.11761025253272336,
          -0.4607610322173412,
          -0.8714062144582777,
          -0.41118752989083324,
          -0.35758976247339286,
          0.21474829636578624,
          -0.184043269772666,
          -0.2431321499753495,
          -0.41905525951599687
         ]
        },
        {
         "hovertemplate": "color=Coragyps<br>PCA1=%{x}<br>PCA2=%{y}<br>PCA3=%{z}<extra></extra>",
         "legendgroup": "Coragyps",
         "marker": {
          "color": "#B6E880",
          "symbol": "circle"
         },
         "mode": "markers",
         "name": "Coragyps",
         "scene": "scene",
         "showlegend": true,
         "type": "scatter3d",
         "x": [
          -1.1537495782077034
         ],
         "y": [
          -0.04527098676390962
         ],
         "z": [
          0.18678347237282214
         ]
        },
        {
         "hovertemplate": "color=Coryphaspiza<br>PCA1=%{x}<br>PCA2=%{y}<br>PCA3=%{z}<extra></extra>",
         "legendgroup": "Coryphaspiza",
         "marker": {
          "color": "#FF97FF",
          "symbol": "circle"
         },
         "mode": "markers",
         "name": "Coryphaspiza",
         "scene": "scene",
         "showlegend": true,
         "type": "scatter3d",
         "x": [
          -0.9918647167288894
         ],
         "y": [
          0.2514535889558596
         ],
         "z": [
          -0.41115642270181363
         ]
        },
        {
         "hovertemplate": "color=Corythopis<br>PCA1=%{x}<br>PCA2=%{y}<br>PCA3=%{z}<extra></extra>",
         "legendgroup": "Corythopis",
         "marker": {
          "color": "#FECB52",
          "symbol": "circle"
         },
         "mode": "markers",
         "name": "Corythopis",
         "scene": "scene",
         "showlegend": true,
         "type": "scatter3d",
         "x": [
          2.6949976262051147
         ],
         "y": [
          1.7425373314588761
         ],
         "z": [
          -0.8919679530079712
         ]
        },
        {
         "hovertemplate": "color=Cotinga<br>PCA1=%{x}<br>PCA2=%{y}<br>PCA3=%{z}<extra></extra>",
         "legendgroup": "Cotinga",
         "marker": {
          "color": "#636efa",
          "symbol": "circle"
         },
         "mode": "markers",
         "name": "Cotinga",
         "scene": "scene",
         "showlegend": true,
         "type": "scatter3d",
         "x": [
          -1.444108504168652,
          -1.2663866200543739,
          -1.2945639310679296
         ],
         "y": [
          0.10933193664600374,
          0.2913827777554976,
          0.18418136263409948
         ],
         "z": [
          -0.4154844776366994,
          -0.6038902021308666,
          -0.29780673287368037
         ]
        },
        {
         "hovertemplate": "color=Cranioleuca<br>PCA1=%{x}<br>PCA2=%{y}<br>PCA3=%{z}<extra></extra>",
         "legendgroup": "Cranioleuca",
         "marker": {
          "color": "#EF553B",
          "symbol": "circle"
         },
         "mode": "markers",
         "name": "Cranioleuca",
         "scene": "scene",
         "showlegend": true,
         "type": "scatter3d",
         "x": [
          0.39867376780233815,
          -0.625965298185809,
          0.5982445978529809,
          1.5259833228910398,
          0.9270674232018954,
          -0.21003365693656584,
          -0.6856145442289626,
          2.074619099545746,
          1.7121059280474553,
          -1.0345766398728695
         ],
         "y": [
          0.14851215912048094,
          -0.12417307650364244,
          1.0459298099895025,
          -4.887262231341473,
          -0.051492465572767356,
          -0.07935576053827316,
          0.2331862871328615,
          -1.1115537208208088,
          -0.7023437785610096,
          -0.11170385531255443
         ],
         "z": [
          0.4357432872286645,
          -0.5579260633269055,
          -0.22012126028591777,
          -0.7261511081022854,
          0.5016934692130949,
          -0.5492844067589081,
          -0.0045278237928627965,
          0.4912188386497036,
          -0.1878089525844559,
          -0.20151399660720937
         ]
        },
        {
         "hovertemplate": "color=Crax<br>PCA1=%{x}<br>PCA2=%{y}<br>PCA3=%{z}<extra></extra>",
         "legendgroup": "Crax",
         "marker": {
          "color": "#00cc96",
          "symbol": "circle"
         },
         "mode": "markers",
         "name": "Crax",
         "scene": "scene",
         "showlegend": true,
         "type": "scatter3d",
         "x": [
          -0.46694648673079964
         ],
         "y": [
          -0.32533397046216733
         ],
         "z": [
          -0.12015941773881739
         ]
        },
        {
         "hovertemplate": "color=Creurgops<br>PCA1=%{x}<br>PCA2=%{y}<br>PCA3=%{z}<extra></extra>",
         "legendgroup": "Creurgops",
         "marker": {
          "color": "#ab63fa",
          "symbol": "circle"
         },
         "mode": "markers",
         "name": "Creurgops",
         "scene": "scene",
         "showlegend": true,
         "type": "scatter3d",
         "x": [
          0.599491538135392
         ],
         "y": [
          0.023781876795854355
         ],
         "z": [
          -0.7652717071293038
         ]
        },
        {
         "hovertemplate": "color=Crotophaga<br>PCA1=%{x}<br>PCA2=%{y}<br>PCA3=%{z}<extra></extra>",
         "legendgroup": "Crotophaga",
         "marker": {
          "color": "#FFA15A",
          "symbol": "circle"
         },
         "mode": "markers",
         "name": "Crotophaga",
         "scene": "scene",
         "showlegend": true,
         "type": "scatter3d",
         "x": [
          1.0766628756099845,
          -0.13399574761472546,
          1.4636279157216805
         ],
         "y": [
          0.34469701186301926,
          -0.2516510127460122,
          1.5079282649641843
         ],
         "z": [
          -0.3695739536290028,
          0.09173629015151236,
          0.3615123506318255
         ]
        },
        {
         "hovertemplate": "color=Cryptopipo<br>PCA1=%{x}<br>PCA2=%{y}<br>PCA3=%{z}<extra></extra>",
         "legendgroup": "Cryptopipo",
         "marker": {
          "color": "#19d3f3",
          "symbol": "circle"
         },
         "mode": "markers",
         "name": "Cryptopipo",
         "scene": "scene",
         "showlegend": true,
         "type": "scatter3d",
         "x": [
          0.496377197213653
         ],
         "y": [
          -0.10441642446924553
         ],
         "z": [
          -0.4256320080372219
         ]
        },
        {
         "hovertemplate": "color=Crypturellus<br>PCA1=%{x}<br>PCA2=%{y}<br>PCA3=%{z}<extra></extra>",
         "legendgroup": "Crypturellus",
         "marker": {
          "color": "#FF6692",
          "symbol": "circle"
         },
         "mode": "markers",
         "name": "Crypturellus",
         "scene": "scene",
         "showlegend": true,
         "type": "scatter3d",
         "x": [
          2.5661743936236747,
          -0.22719572117881937,
          5.11900797623973,
          -1.1121058529299204,
          -0.49680394420660245,
          0.5834195039193631,
          1.7919709311987837,
          -0.795164348132322,
          0.21520540859624498,
          -0.6373540808702163,
          -0.13330838732421524,
          0.07199975812892702,
          1.8885683679510177,
          1.600883557684719,
          1.6637189578538119,
          -1.3161460516102996,
          0.7248450222204904,
          -1.0867822492286006
         ],
         "y": [
          6.348536472202791,
          -0.768813387068949,
          -0.351576959863018,
          -0.508812013409965,
          0.03092967773870692,
          1.9975992882868285,
          1.34418150957438,
          -0.5080896635310443,
          -0.7057646686467024,
          -0.4436160358514143,
          0.8349829697692831,
          1.0089885175308493,
          -0.5903863902565765,
          1.4037341942119623,
          3.7572790801096887,
          0.2461801153731065,
          0.8541450977804355,
          0.574207595145693
         ],
         "z": [
          -2.747004770825401,
          0.30987300981336713,
          0.08733202299417299,
          -0.044233144003846134,
          0.046783853996238814,
          -0.9844744668519984,
          -1.0306688433260902,
          -0.3927924945432608,
          -0.3233192235425338,
          0.15804975874652832,
          -0.17351156336364898,
          -0.3236510344617218,
          0.3420956345922609,
          -0.3930471694841739,
          0.33226297480933736,
          1.5779409389861767,
          0.032027358726620186,
          -0.12991292924384318
         ]
        },
        {
         "hovertemplate": "color=Cyanerpes<br>PCA1=%{x}<br>PCA2=%{y}<br>PCA3=%{z}<extra></extra>",
         "legendgroup": "Cyanerpes",
         "marker": {
          "color": "#B6E880",
          "symbol": "circle"
         },
         "mode": "markers",
         "name": "Cyanerpes",
         "scene": "scene",
         "showlegend": true,
         "type": "scatter3d",
         "x": [
          1.002551127108261,
          -0.5108179378874714,
          -0.26316628716246465,
          -0.5543940315851957
         ],
         "y": [
          -1.024580522613231,
          -0.45033573968546103,
          -0.24230422227968632,
          -0.2564825325317291
         ],
         "z": [
          -0.19161060200638272,
          0.035293976865877985,
          -0.5090952929979302,
          -0.05128579130988299
         ]
        },
        {
         "hovertemplate": "color=Cyanocorax<br>PCA1=%{x}<br>PCA2=%{y}<br>PCA3=%{z}<extra></extra>",
         "legendgroup": "Cyanocorax",
         "marker": {
          "color": "#FF97FF",
          "symbol": "circle"
         },
         "mode": "markers",
         "name": "Cyanocorax",
         "scene": "scene",
         "showlegend": true,
         "type": "scatter3d",
         "x": [
          0.7880109475664838,
          -0.6966679738585021,
          -0.393527055836072,
          -0.5126991003100282,
          3.560469609070934,
          -0.8954103468793977,
          0.04607612594760028,
          -0.31876311503999005
         ],
         "y": [
          -0.23517685005794176,
          -0.09172791778561072,
          -0.6011496129130959,
          0.18161225455904959,
          -2.586487596424529,
          -0.13525616894596945,
          -0.29955786153050656,
          0.5159466621377761
         ],
         "z": [
          0.2545636162291957,
          0.13165154878007598,
          -0.12075468011830087,
          -0.35241422314750037,
          -0.10883466234105617,
          -0.40874422393372906,
          -0.10307367298645023,
          -0.23300170287239882
         ]
        },
        {
         "hovertemplate": "color=Cyanolyca<br>PCA1=%{x}<br>PCA2=%{y}<br>PCA3=%{z}<extra></extra>",
         "legendgroup": "Cyanolyca",
         "marker": {
          "color": "#FECB52",
          "symbol": "circle"
         },
         "mode": "markers",
         "name": "Cyanolyca",
         "scene": "scene",
         "showlegend": true,
         "type": "scatter3d",
         "x": [
          -1.0554369450202215
         ],
         "y": [
          -0.4012783983470299
         ],
         "z": [
          -0.2671282327548656
         ]
        },
        {
         "hovertemplate": "color=Cyclarhis<br>PCA1=%{x}<br>PCA2=%{y}<br>PCA3=%{z}<extra></extra>",
         "legendgroup": "Cyclarhis",
         "marker": {
          "color": "#636efa",
          "symbol": "circle"
         },
         "mode": "markers",
         "name": "Cyclarhis",
         "scene": "scene",
         "showlegend": true,
         "type": "scatter3d",
         "x": [
          -0.6163834389055921,
          0.4962747771014099,
          0.6017165307757584
         ],
         "y": [
          0.5199768123816672,
          0.6122163315335265,
          -0.3515379585070974
         ],
         "z": [
          0.047796200366667714,
          -0.11493664010554974,
          0.33043139711273695
         ]
        },
        {
         "hovertemplate": "color=Cymbilaimus<br>PCA1=%{x}<br>PCA2=%{y}<br>PCA3=%{z}<extra></extra>",
         "legendgroup": "Cymbilaimus",
         "marker": {
          "color": "#EF553B",
          "symbol": "circle"
         },
         "mode": "markers",
         "name": "Cymbilaimus",
         "scene": "scene",
         "showlegend": true,
         "type": "scatter3d",
         "x": [
          -1.1118274212871837,
          0.35153998953381393,
          0.1702410525482615,
          1.6851356276061042,
          0.5732529776932167,
          2.2454299092317673,
          0.5527477067099988,
          0.0906954185443924
         ],
         "y": [
          -0.0830441092429429,
          0.36919568585445384,
          0.9181432569832436,
          1.3791500672501178,
          1.5871635150072323,
          2.254962164357251,
          0.9259243160476464,
          1.283609061613546
         ],
         "z": [
          -0.3423528745542033,
          -0.5756248341339353,
          1.1326418972148442,
          0.48020862116095236,
          0.6208992347266624,
          0.6043187715959141,
          0.7592328474556979,
          1.2694078936187507
         ]
        },
        {
         "hovertemplate": "color=Cyphorhinus<br>PCA1=%{x}<br>PCA2=%{y}<br>PCA3=%{z}<extra></extra>",
         "legendgroup": "Cyphorhinus",
         "marker": {
          "color": "#00cc96",
          "symbol": "circle"
         },
         "mode": "markers",
         "name": "Cyphorhinus",
         "scene": "scene",
         "showlegend": true,
         "type": "scatter3d",
         "x": [
          0.19826755141960986
         ],
         "y": [
          0.4472469375311069
         ],
         "z": [
          0.5506138764144766
         ]
        },
        {
         "hovertemplate": "color=Cypseloides<br>PCA1=%{x}<br>PCA2=%{y}<br>PCA3=%{z}<extra></extra>",
         "legendgroup": "Cypseloides",
         "marker": {
          "color": "#ab63fa",
          "symbol": "circle"
         },
         "mode": "markers",
         "name": "Cypseloides",
         "scene": "scene",
         "showlegend": true,
         "type": "scatter3d",
         "x": [
          -0.7959346385610934
         ],
         "y": [
          -0.692253828081581
         ],
         "z": [
          -0.2619601156426126
         ]
        },
        {
         "hovertemplate": "color=Dacnis<br>PCA1=%{x}<br>PCA2=%{y}<br>PCA3=%{z}<extra></extra>",
         "legendgroup": "Dacnis",
         "marker": {
          "color": "#FFA15A",
          "symbol": "circle"
         },
         "mode": "markers",
         "name": "Dacnis",
         "scene": "scene",
         "showlegend": true,
         "type": "scatter3d",
         "x": [
          0.10461468899293602,
          0.7103487517552609,
          -0.9184605251507922,
          -0.8930862763737711,
          0.6057632225419389,
          -0.861546719877247
         ],
         "y": [
          -1.2369478392363153,
          -0.21440955599960532,
          0.7816932750259085,
          0.14999796991479356,
          -1.5396380698607641,
          -0.11850721350697696
         ],
         "z": [
          -0.632372197415955,
          -0.7649216296282401,
          -0.5333414643524007,
          -0.5700592116938634,
          0.1627620389578038,
          -0.4918816519357973
         ]
        },
        {
         "hovertemplate": "color=Daptrius<br>PCA1=%{x}<br>PCA2=%{y}<br>PCA3=%{z}<extra></extra>",
         "legendgroup": "Daptrius",
         "marker": {
          "color": "#19d3f3",
          "symbol": "circle"
         },
         "mode": "markers",
         "name": "Daptrius",
         "scene": "scene",
         "showlegend": true,
         "type": "scatter3d",
         "x": [
          0.07921604357012532,
          -0.8518106581596296,
          -0.09595473916809188,
          0.8618797481248498,
          -0.8043694190938412
         ],
         "y": [
          0.09073243769673588,
          0.12461350166197695,
          0.6245943437652509,
          0.39837738841397025,
          0.4014721063935176
         ],
         "z": [
          -0.13939136386835477,
          -0.18332146214463169,
          -0.3794292229046288,
          -0.14125194944724784,
          -0.2843836723980334
         ]
        },
        {
         "hovertemplate": "color=Deconychura<br>PCA1=%{x}<br>PCA2=%{y}<br>PCA3=%{z}<extra></extra>",
         "legendgroup": "Deconychura",
         "marker": {
          "color": "#FF6692",
          "symbol": "circle"
         },
         "mode": "markers",
         "name": "Deconychura",
         "scene": "scene",
         "showlegend": true,
         "type": "scatter3d",
         "x": [
          1.153663407908632,
          0.5660677216579398
         ],
         "y": [
          -1.1882249871151456,
          0.8459463741202896
         ],
         "z": [
          -0.3367338452901351,
          -0.43109709463016777
         ]
        },
        {
         "hovertemplate": "color=Dendrexetastes<br>PCA1=%{x}<br>PCA2=%{y}<br>PCA3=%{z}<extra></extra>",
         "legendgroup": "Dendrexetastes",
         "marker": {
          "color": "#B6E880",
          "symbol": "circle"
         },
         "mode": "markers",
         "name": "Dendrexetastes",
         "scene": "scene",
         "showlegend": true,
         "type": "scatter3d",
         "x": [
          0.5827969874453361,
          2.298353150104914
         ],
         "y": [
          2.1014272683980924,
          3.7173447683884895
         ],
         "z": [
          0.6029856623700547,
          -0.2785741327148077
         ]
        },
        {
         "hovertemplate": "color=Dendrocincla<br>PCA1=%{x}<br>PCA2=%{y}<br>PCA3=%{z}<extra></extra>",
         "legendgroup": "Dendrocincla",
         "marker": {
          "color": "#FF97FF",
          "symbol": "circle"
         },
         "mode": "markers",
         "name": "Dendrocincla",
         "scene": "scene",
         "showlegend": true,
         "type": "scatter3d",
         "x": [
          -1.3070583099044573,
          -1.0660386557750334,
          -1.2857271150956777,
          -0.5180415419182929,
          -0.780952329645629,
          -1.3579991194073813
         ],
         "y": [
          0.3881581442288989,
          0.32110565099760285,
          0.2664672799706313,
          -0.40757371561225236,
          -0.11354993761507541,
          -0.05868855793651396
         ],
         "z": [
          -0.1600733344972026,
          -0.3714658340119298,
          -0.41116411078984005,
          -0.3215370869806161,
          -0.6295078033442134,
          -0.3129417906435676
         ]
        },
        {
         "hovertemplate": "color=Dendrocolaptes<br>PCA1=%{x}<br>PCA2=%{y}<br>PCA3=%{z}<extra></extra>",
         "legendgroup": "Dendrocolaptes",
         "marker": {
          "color": "#FECB52",
          "symbol": "circle"
         },
         "mode": "markers",
         "name": "Dendrocolaptes",
         "scene": "scene",
         "showlegend": true,
         "type": "scatter3d",
         "x": [
          0.3307388103785355,
          0.6608340475448389,
          0.5761833985802591,
          0.927139502301972,
          2.084985223642746,
          -0.427040377870179
         ],
         "y": [
          -0.16109062244112723,
          2.036578033069069,
          -0.5321683982252153,
          1.0104060576710268,
          1.2944798114037892,
          0.6662525946436894
         ],
         "z": [
          -0.09722056065034636,
          -0.5109344923960085,
          -0.3662467829259372,
          -0.4034745748572944,
          0.7339178040673221,
          1.0487041760827946
         ]
        },
        {
         "hovertemplate": "color=Dendrocygna<br>PCA1=%{x}<br>PCA2=%{y}<br>PCA3=%{z}<extra></extra>",
         "legendgroup": "Dendrocygna",
         "marker": {
          "color": "#636efa",
          "symbol": "circle"
         },
         "mode": "markers",
         "name": "Dendrocygna",
         "scene": "scene",
         "showlegend": true,
         "type": "scatter3d",
         "x": [
          -1.4716832492610163,
          -1.4065997950019806,
          -1.0407836871822702
         ],
         "y": [
          0.051343064414434696,
          -0.3282081066074296,
          -0.030787317323227502
         ],
         "z": [
          0.21215930158164417,
          -0.32913415780020816,
          -0.4086460174568265
         ]
        },
        {
         "hovertemplate": "color=Dendroplex<br>PCA1=%{x}<br>PCA2=%{y}<br>PCA3=%{z}<extra></extra>",
         "legendgroup": "Dendroplex",
         "marker": {
          "color": "#EF553B",
          "symbol": "circle"
         },
         "mode": "markers",
         "name": "Dendroplex",
         "scene": "scene",
         "showlegend": true,
         "type": "scatter3d",
         "x": [
          -0.5097125641376336,
          -1.3961485413023496
         ],
         "y": [
          -0.02965265201910102,
          0.1402112940344827
         ],
         "z": [
          0.5840114072950847,
          0.3778151612562244
         ]
        },
        {
         "hovertemplate": "color=Dichrozona<br>PCA1=%{x}<br>PCA2=%{y}<br>PCA3=%{z}<extra></extra>",
         "legendgroup": "Dichrozona",
         "marker": {
          "color": "#00cc96",
          "symbol": "circle"
         },
         "mode": "markers",
         "name": "Dichrozona",
         "scene": "scene",
         "showlegend": true,
         "type": "scatter3d",
         "x": [
          0.1967374970600622,
          -0.9044190583657219,
          0.9542250135750581
         ],
         "y": [
          -0.6818061645920536,
          -0.4477379676445363,
          -0.6209208364050202
         ],
         "z": [
          0.09649210432596929,
          0.09576714687258525,
          -0.0829582994647958
         ]
        },
        {
         "hovertemplate": "color=Diglossa<br>PCA1=%{x}<br>PCA2=%{y}<br>PCA3=%{z}<extra></extra>",
         "legendgroup": "Diglossa",
         "marker": {
          "color": "#ab63fa",
          "symbol": "circle"
         },
         "mode": "markers",
         "name": "Diglossa",
         "scene": "scene",
         "showlegend": true,
         "type": "scatter3d",
         "x": [
          -1.507228550435994,
          0.8464844559044348,
          -1.1881608725706017,
          -0.889919479331073,
          -0.5629854818356829,
          -1.1059453834010238,
          1.081283880130501
         ],
         "y": [
          -0.048570034495285304,
          0.537140249766788,
          -0.033807692965401544,
          0.36976257895218223,
          -0.23434013550500146,
          0.36004619213179,
          -1.6910133476033793
         ],
         "z": [
          0.06539690153857529,
          -0.16391206223142996,
          0.23804738124686012,
          0.4637692942715807,
          -0.16840320830411348,
          0.058164754226409605,
          0.6926423775104373
         ]
        },
        {
         "hovertemplate": "color=Diopsittaca<br>PCA1=%{x}<br>PCA2=%{y}<br>PCA3=%{z}<extra></extra>",
         "legendgroup": "Diopsittaca",
         "marker": {
          "color": "#FFA15A",
          "symbol": "circle"
         },
         "mode": "markers",
         "name": "Diopsittaca",
         "scene": "scene",
         "showlegend": true,
         "type": "scatter3d",
         "x": [
          -0.32539473515996564,
          0.7161808111688721
         ],
         "y": [
          -0.18700662394466092,
          -0.4346646065061996
         ],
         "z": [
          1.025377056104826,
          0.42691226204725435
         ]
        },
        {
         "hovertemplate": "color=Discosura<br>PCA1=%{x}<br>PCA2=%{y}<br>PCA3=%{z}<extra></extra>",
         "legendgroup": "Discosura",
         "marker": {
          "color": "#19d3f3",
          "symbol": "circle"
         },
         "mode": "markers",
         "name": "Discosura",
         "scene": "scene",
         "showlegend": true,
         "type": "scatter3d",
         "x": [
          -0.0317668267456633,
          -1.391937040832214,
          -0.6717425897704836,
          -1.1771436843320207
         ],
         "y": [
          0.37380728687237363,
          -0.020140709949711736,
          0.006324505979282609,
          0.04296213266433589
         ],
         "z": [
          -0.3835625099318698,
          -0.4854343012433536,
          -0.5686357398749354,
          -0.5606839783920314
         ]
        },
        {
         "hovertemplate": "color=Dolichonyx<br>PCA1=%{x}<br>PCA2=%{y}<br>PCA3=%{z}<extra></extra>",
         "legendgroup": "Dolichonyx",
         "marker": {
          "color": "#FF6692",
          "symbol": "circle"
         },
         "mode": "markers",
         "name": "Dolichonyx",
         "scene": "scene",
         "showlegend": true,
         "type": "scatter3d",
         "x": [
          -0.81987626805038
         ],
         "y": [
          0.41958284136699686
         ],
         "z": [
          1.5709665000237356
         ]
        },
        {
         "hovertemplate": "color=Donacobius<br>PCA1=%{x}<br>PCA2=%{y}<br>PCA3=%{z}<extra></extra>",
         "legendgroup": "Donacobius",
         "marker": {
          "color": "#B6E880",
          "symbol": "circle"
         },
         "mode": "markers",
         "name": "Donacobius",
         "scene": "scene",
         "showlegend": true,
         "type": "scatter3d",
         "x": [
          2.099798297887324,
          -1.0010327298954682,
          2.5764138327600596
         ],
         "y": [
          -0.26663158890652056,
          0.69629420959227,
          -3.0633808747392406
         ],
         "z": [
          -0.304743371885196,
          2.013383288060562,
          -0.3942167586908971
         ]
        },
        {
         "hovertemplate": "color=Doryfera<br>PCA1=%{x}<br>PCA2=%{y}<br>PCA3=%{z}<extra></extra>",
         "legendgroup": "Doryfera",
         "marker": {
          "color": "#FF97FF",
          "symbol": "circle"
         },
         "mode": "markers",
         "name": "Doryfera",
         "scene": "scene",
         "showlegend": true,
         "type": "scatter3d",
         "x": [
          -0.3065771074296585,
          1.4395288534143365,
          -0.8570882863706506,
          -1.3778262533769696,
          -0.4309950039729913
         ],
         "y": [
          -0.451229282306036,
          -1.775950624012685,
          -0.19551762951806834,
          -0.013362594550742023,
          -0.6520934810958078
         ],
         "z": [
          -0.688995046771169,
          -0.6601405402553531,
          0.4020909784805274,
          -0.423952449352528,
          -0.5498915104946325
         ]
        },
        {
         "hovertemplate": "color=Dromococcyx<br>PCA1=%{x}<br>PCA2=%{y}<br>PCA3=%{z}<extra></extra>",
         "legendgroup": "Dromococcyx",
         "marker": {
          "color": "#FECB52",
          "symbol": "circle"
         },
         "mode": "markers",
         "name": "Dromococcyx",
         "scene": "scene",
         "showlegend": true,
         "type": "scatter3d",
         "x": [
          -0.8481815458503438,
          -0.7671129471186119
         ],
         "y": [
          0.25374353218686846,
          0.3360201105643239
         ],
         "z": [
          0.23115972593790118,
          0.14144990196110385
         ]
        },
        {
         "hovertemplate": "color=Drymophila<br>PCA1=%{x}<br>PCA2=%{y}<br>PCA3=%{z}<extra></extra>",
         "legendgroup": "Drymophila",
         "marker": {
          "color": "#636efa",
          "symbol": "circle"
         },
         "mode": "markers",
         "name": "Drymophila",
         "scene": "scene",
         "showlegend": true,
         "type": "scatter3d",
         "x": [
          0.47132785276600975,
          0.3192599131287933,
          0.20930034374325154,
          -0.4314058309159128,
          0.2594336256880665
         ],
         "y": [
          0.7504759864792288,
          1.0216331144357957,
          0.8262343808781749,
          0.44427043564232205,
          0.5075807850082436
         ],
         "z": [
          0.7249249533471689,
          0.5070749550701298,
          0.7081687255894341,
          0.13972095200902593,
          0.32879411431063654
         ]
        },
        {
         "hovertemplate": "color=Dryocopus<br>PCA1=%{x}<br>PCA2=%{y}<br>PCA3=%{z}<extra></extra>",
         "legendgroup": "Dryocopus",
         "marker": {
          "color": "#EF553B",
          "symbol": "circle"
         },
         "mode": "markers",
         "name": "Dryocopus",
         "scene": "scene",
         "showlegend": true,
         "type": "scatter3d",
         "x": [
          -1.0488369853585173,
          -0.15021710888654785,
          1.0060790000319517,
          0.9604772664575233
         ],
         "y": [
          -1.1963984539248322,
          -0.08922184631223244,
          2.8333271407285636,
          -0.1040601613695346
         ],
         "z": [
          -0.47743071983844537,
          -0.01122624288867012,
          -0.6982961475299679,
          0.227814647923399
         ]
        },
        {
         "hovertemplate": "color=Dubusia<br>PCA1=%{x}<br>PCA2=%{y}<br>PCA3=%{z}<extra></extra>",
         "legendgroup": "Dubusia",
         "marker": {
          "color": "#00cc96",
          "symbol": "circle"
         },
         "mode": "markers",
         "name": "Dubusia",
         "scene": "scene",
         "showlegend": true,
         "type": "scatter3d",
         "x": [
          -0.026284417276113387
         ],
         "y": [
          0.45956892691034423
         ],
         "z": [
          0.2490970649221592
         ]
        },
        {
         "hovertemplate": "color=Dysithamnus<br>PCA1=%{x}<br>PCA2=%{y}<br>PCA3=%{z}<extra></extra>",
         "legendgroup": "Dysithamnus",
         "marker": {
          "color": "#ab63fa",
          "symbol": "circle"
         },
         "mode": "markers",
         "name": "Dysithamnus",
         "scene": "scene",
         "showlegend": true,
         "type": "scatter3d",
         "x": [
          -1.289604075262501
         ],
         "y": [
          -0.18525488070039475
         ],
         "z": [
          0.3157333647200803
         ]
        },
        {
         "hovertemplate": "color=Egretta<br>PCA1=%{x}<br>PCA2=%{y}<br>PCA3=%{z}<extra></extra>",
         "legendgroup": "Egretta",
         "marker": {
          "color": "#FFA15A",
          "symbol": "circle"
         },
         "mode": "markers",
         "name": "Egretta",
         "scene": "scene",
         "showlegend": true,
         "type": "scatter3d",
         "x": [
          -1.389694395144164,
          0.06312879445833003,
          -1.0698655141704576,
          -1.3136510395627727,
          -1.4770707179936153
         ],
         "y": [
          -0.17822116667434568,
          0.6236426488703233,
          -0.5044911077770307,
          -0.12443202237483832,
          -0.16128059642428683
         ],
         "z": [
          -0.27683975265683436,
          -0.7752771309959268,
          -0.29816702820540464,
          -0.35362229875134077,
          -0.36736469455632426
         ]
        },
        {
         "hovertemplate": "color=Elaenia<br>PCA1=%{x}<br>PCA2=%{y}<br>PCA3=%{z}<extra></extra>",
         "legendgroup": "Elaenia",
         "marker": {
          "color": "#19d3f3",
          "symbol": "circle"
         },
         "mode": "markers",
         "name": "Elaenia",
         "scene": "scene",
         "showlegend": true,
         "type": "scatter3d",
         "x": [
          2.7402501691959142,
          -0.28426845465614453,
          1.3150713770144542,
          -0.914933747932539,
          -1.2068409442456702,
          -0.5279302523945734,
          -1.3485417120966718,
          -0.5479651769240257,
          -0.21996665169793936,
          -0.8510314098788142,
          -0.3479761706549674
         ],
         "y": [
          0.38468774316386933,
          0.30576111668406275,
          -0.4307809770288707,
          0.3552080888032959,
          -0.1324224061818774,
          1.0328408626483356,
          0.15681818448643936,
          -0.39306473862238606,
          0.4869499498784407,
          0.2501732964700951,
          0.5124519091811405
         ],
         "z": [
          -0.7986711298235875,
          -0.5160450761822524,
          -0.7980510985495761,
          -0.5127012413975449,
          -0.28514540174492414,
          -0.7401074513342837,
          -0.4883050933536218,
          -0.410378780545164,
          -0.3010244102124899,
          -0.6010590411261684,
          -0.5872969139493184
         ]
        },
        {
         "hovertemplate": "color=Elanoides<br>PCA1=%{x}<br>PCA2=%{y}<br>PCA3=%{z}<extra></extra>",
         "legendgroup": "Elanoides",
         "marker": {
          "color": "#FF6692",
          "symbol": "circle"
         },
         "mode": "markers",
         "name": "Elanoides",
         "scene": "scene",
         "showlegend": true,
         "type": "scatter3d",
         "x": [
          -1.0600592924459349,
          -1.5005849425462183
         ],
         "y": [
          0.0645804152777912,
          -0.3129396835529739
         ],
         "z": [
          0.1371896410167278,
          -0.2631976726888693
         ]
        },
        {
         "hovertemplate": "color=Elanus<br>PCA1=%{x}<br>PCA2=%{y}<br>PCA3=%{z}<extra></extra>",
         "legendgroup": "Elanus",
         "marker": {
          "color": "#B6E880",
          "symbol": "circle"
         },
         "mode": "markers",
         "name": "Elanus",
         "scene": "scene",
         "showlegend": true,
         "type": "scatter3d",
         "x": [
          5.005926397657381
         ],
         "y": [
          -0.8823426674549867
         ],
         "z": [
          -0.527767357911884
         ]
        },
        {
         "hovertemplate": "color=Electron<br>PCA1=%{x}<br>PCA2=%{y}<br>PCA3=%{z}<extra></extra>",
         "legendgroup": "Electron",
         "marker": {
          "color": "#FF97FF",
          "symbol": "circle"
         },
         "mode": "markers",
         "name": "Electron",
         "scene": "scene",
         "showlegend": true,
         "type": "scatter3d",
         "x": [
          -0.46160469940120025,
          -0.6590870433424383
         ],
         "y": [
          0.4486437116266506,
          -0.24351938887982735
         ],
         "z": [
          -0.5662736947354581,
          -0.20545631030678052
         ]
        },
        {
         "hovertemplate": "color=Emberizoides<br>PCA1=%{x}<br>PCA2=%{y}<br>PCA3=%{z}<extra></extra>",
         "legendgroup": "Emberizoides",
         "marker": {
          "color": "#FECB52",
          "symbol": "circle"
         },
         "mode": "markers",
         "name": "Emberizoides",
         "scene": "scene",
         "showlegend": true,
         "type": "scatter3d",
         "x": [
          -1.0173610590065936,
          1.5065288859025363
         ],
         "y": [
          -0.14495005931230287,
          -0.3266764918932938
         ],
         "z": [
          0.0158442576366576,
          -0.3441801014502794
         ]
        },
        {
         "hovertemplate": "color=Empidonax<br>PCA1=%{x}<br>PCA2=%{y}<br>PCA3=%{z}<extra></extra>",
         "legendgroup": "Empidonax",
         "marker": {
          "color": "#636efa",
          "symbol": "circle"
         },
         "mode": "markers",
         "name": "Empidonax",
         "scene": "scene",
         "showlegend": true,
         "type": "scatter3d",
         "x": [
          -1.0760391768582964
         ],
         "y": [
          0.07771966589527875
         ],
         "z": [
          -0.4507548345902795
         ]
        },
        {
         "hovertemplate": "color=Empidonomus<br>PCA1=%{x}<br>PCA2=%{y}<br>PCA3=%{z}<extra></extra>",
         "legendgroup": "Empidonomus",
         "marker": {
          "color": "#EF553B",
          "symbol": "circle"
         },
         "mode": "markers",
         "name": "Empidonomus",
         "scene": "scene",
         "showlegend": true,
         "type": "scatter3d",
         "x": [
          -1.2362570449991543,
          -0.2880760309737057
         ],
         "y": [
          0.04495457087148512,
          0.047628162857439905
         ],
         "z": [
          -0.45236172526784346,
          0.933184190735745
         ]
        },
        {
         "hovertemplate": "color=Entomodestes<br>PCA1=%{x}<br>PCA2=%{y}<br>PCA3=%{z}<extra></extra>",
         "legendgroup": "Entomodestes",
         "marker": {
          "color": "#00cc96",
          "symbol": "circle"
         },
         "mode": "markers",
         "name": "Entomodestes",
         "scene": "scene",
         "showlegend": true,
         "type": "scatter3d",
         "x": [
          -1.0428278700792257,
          -0.33927524057713854
         ],
         "y": [
          0.5364952624235856,
          0.674873213018372
         ],
         "z": [
          -0.4090870722147586,
          -0.307794885339325
         ]
        },
        {
         "hovertemplate": "color=Epinecrophylla<br>PCA1=%{x}<br>PCA2=%{y}<br>PCA3=%{z}<extra></extra>",
         "legendgroup": "Epinecrophylla",
         "marker": {
          "color": "#ab63fa",
          "symbol": "circle"
         },
         "mode": "markers",
         "name": "Epinecrophylla",
         "scene": "scene",
         "showlegend": true,
         "type": "scatter3d",
         "x": [
          -0.2193641105785406,
          -0.3714895874325836,
          -0.3024938483627444,
          -0.3671855687674236,
          0.004144167456332378,
          -0.07629868494817323,
          -0.36238292370521197,
          -0.29773491740741026,
          -0.7836453197431099,
          0.676650015709096
         ],
         "y": [
          0.6913498240667757,
          0.17449697116025184,
          0.5684499657160064,
          -0.15369086466234244,
          0.013190492822421303,
          0.48147301475321214,
          0.1788551679263517,
          -1.3270019610127415,
          0.14678307967518958,
          0.23609047292792806
         ],
         "z": [
          0.016810674911798607,
          0.5878101451268214,
          0.1673109385478785,
          0.9592703154446549,
          1.7720403849449646,
          0.35795054954079264,
          0.061040240011126165,
          -0.20189968846139333,
          -0.16280116076459114,
          -0.20644462123065344
         ]
        },
        {
         "hovertemplate": "color=Eubucco<br>PCA1=%{x}<br>PCA2=%{y}<br>PCA3=%{z}<extra></extra>",
         "legendgroup": "Eubucco",
         "marker": {
          "color": "#FFA15A",
          "symbol": "circle"
         },
         "mode": "markers",
         "name": "Eubucco",
         "scene": "scene",
         "showlegend": true,
         "type": "scatter3d",
         "x": [
          -0.5820372182726747,
          0.09269426188187269
         ],
         "y": [
          -0.8127778342439639,
          0.903056109639131
         ],
         "z": [
          -0.4532667740208433,
          0.4928432648601685
         ]
        },
        {
         "hovertemplate": "color=Euchrepomis<br>PCA1=%{x}<br>PCA2=%{y}<br>PCA3=%{z}<extra></extra>",
         "legendgroup": "Euchrepomis",
         "marker": {
          "color": "#19d3f3",
          "symbol": "circle"
         },
         "mode": "markers",
         "name": "Euchrepomis",
         "scene": "scene",
         "showlegend": true,
         "type": "scatter3d",
         "x": [
          -0.5014228173281756,
          -0.8939463847034067,
          -1.07548170772174,
          0.7414498820292117,
          -0.10073905806484232
         ],
         "y": [
          0.6015461611674678,
          0.26475213751258475,
          0.2075600408160054,
          -0.07852304060167425,
          1.5233476069977199
         ],
         "z": [
          0.20507754047417096,
          0.17380682633822392,
          0.9822634024850493,
          0.7490586869695719,
          -0.11538772094905332
         ]
        },
        {
         "hovertemplate": "color=Eucometis<br>PCA1=%{x}<br>PCA2=%{y}<br>PCA3=%{z}<extra></extra>",
         "legendgroup": "Eucometis",
         "marker": {
          "color": "#FF6692",
          "symbol": "circle"
         },
         "mode": "markers",
         "name": "Eucometis",
         "scene": "scene",
         "showlegend": true,
         "type": "scatter3d",
         "x": [
          -1.2446926185167275,
          -0.509227613908458
         ],
         "y": [
          -0.2370900466620796,
          0.7424269375885676
         ],
         "z": [
          -0.38153518845347356,
          2.2090175857398866
         ]
        },
        {
         "hovertemplate": "color=Eupetomena<br>PCA1=%{x}<br>PCA2=%{y}<br>PCA3=%{z}<extra></extra>",
         "legendgroup": "Eupetomena",
         "marker": {
          "color": "#B6E880",
          "symbol": "circle"
         },
         "mode": "markers",
         "name": "Eupetomena",
         "scene": "scene",
         "showlegend": true,
         "type": "scatter3d",
         "x": [
          -0.40550500067254525,
          -1.1931969991082678,
          -0.6030560688930838
         ],
         "y": [
          -1.0572732926643413,
          -0.6018190362935397,
          -0.4494842121705863
         ],
         "z": [
          -0.6358876168578431,
          -0.41689651396182453,
          -0.44003736035715435
         ]
        },
        {
         "hovertemplate": "color=Euphonia<br>PCA1=%{x}<br>PCA2=%{y}<br>PCA3=%{z}<extra></extra>",
         "legendgroup": "Euphonia",
         "marker": {
          "color": "#FF97FF",
          "symbol": "circle"
         },
         "mode": "markers",
         "name": "Euphonia",
         "scene": "scene",
         "showlegend": true,
         "type": "scatter3d",
         "x": [
          -0.05886402643473091,
          1.4628845883561028,
          -1.3613550118259825,
          2.6076491653122966,
          -0.5738391129607159,
          -0.9242526114967899,
          0.11494781849097897,
          -0.8371225935866023,
          -1.1941612650628202,
          0.12216898268835259,
          3.1871531625879173,
          1.6974221576162867,
          -0.1545331872784279,
          -0.9243737470167663,
          -0.4648299801651694,
          -1.1648545914756738
         ],
         "y": [
          -1.0718742902291551,
          -2.7618681222069217,
          0.06868508666543713,
          0.958840497672264,
          0.011408133020029987,
          0.1603261985475362,
          0.8973226691836387,
          0.36303830933611053,
          -0.1895885362886967,
          -0.2781799978089473,
          -8.686780735796612,
          -1.3985207058863705,
          0.19895957219653043,
          0.6618480426072791,
          1.181969638312491,
          0.261630730661264
         ],
         "z": [
          -0.20303037997503912,
          -0.5782371124003363,
          -0.11000717621734982,
          -0.3392283896669998,
          -0.5647837337694235,
          1.000705415296559,
          0.17338304862399576,
          -0.3288739155855207,
          -0.22124238519543987,
          -0.5288796476203138,
          -0.6965362366840111,
          -0.24821011498786433,
          -0.1837230522492466,
          0.14503597442897861,
          -0.5975677391819776,
          -0.3318101778880189
         ]
        },
        {
         "hovertemplate": "color=Eupsittula<br>PCA1=%{x}<br>PCA2=%{y}<br>PCA3=%{z}<extra></extra>",
         "legendgroup": "Eupsittula",
         "marker": {
          "color": "#FECB52",
          "symbol": "circle"
         },
         "mode": "markers",
         "name": "Eupsittula",
         "scene": "scene",
         "showlegend": true,
         "type": "scatter3d",
         "x": [
          -0.5799309568585138,
          -0.24180253683144234
         ],
         "y": [
          -0.3305388423827148,
          -0.4092662081683669
         ],
         "z": [
          -0.21255487507970464,
          0.30766785693861637
         ]
        },
        {
         "hovertemplate": "color=Eurypyga<br>PCA1=%{x}<br>PCA2=%{y}<br>PCA3=%{z}<extra></extra>",
         "legendgroup": "Eurypyga",
         "marker": {
          "color": "#636efa",
          "symbol": "circle"
         },
         "mode": "markers",
         "name": "Eurypyga",
         "scene": "scene",
         "showlegend": true,
         "type": "scatter3d",
         "x": [
          -0.7608144953628623
         ],
         "y": [
          -0.3971853792750615
         ],
         "z": [
          -0.026218850626209163
         ]
        },
        {
         "hovertemplate": "color=Euscarthmus<br>PCA1=%{x}<br>PCA2=%{y}<br>PCA3=%{z}<extra></extra>",
         "legendgroup": "Euscarthmus",
         "marker": {
          "color": "#EF553B",
          "symbol": "circle"
         },
         "mode": "markers",
         "name": "Euscarthmus",
         "scene": "scene",
         "showlegend": true,
         "type": "scatter3d",
         "x": [
          -0.5768724970283126,
          -0.8125241981270201
         ],
         "y": [
          -0.2020336332185673,
          0.3437880777353871
         ],
         "z": [
          -0.44071741751321974,
          -0.5322998577075813
         ]
        },
        {
         "hovertemplate": "color=Eutoxeres<br>PCA1=%{x}<br>PCA2=%{y}<br>PCA3=%{z}<extra></extra>",
         "legendgroup": "Eutoxeres",
         "marker": {
          "color": "#00cc96",
          "symbol": "circle"
         },
         "mode": "markers",
         "name": "Eutoxeres",
         "scene": "scene",
         "showlegend": true,
         "type": "scatter3d",
         "x": [
          1.4309899056140412
         ],
         "y": [
          -0.21367164713899048
         ],
         "z": [
          2.647925606888314
         ]
        },
        {
         "hovertemplate": "color=Falco<br>PCA1=%{x}<br>PCA2=%{y}<br>PCA3=%{z}<extra></extra>",
         "legendgroup": "Falco",
         "marker": {
          "color": "#ab63fa",
          "symbol": "circle"
         },
         "mode": "markers",
         "name": "Falco",
         "scene": "scene",
         "showlegend": true,
         "type": "scatter3d",
         "x": [
          -0.44845878782596926,
          -0.8595338988350596,
          -0.040478499675660626,
          0.8250512786527427,
          -0.800363637167263,
          -1.1742968331070125,
          -0.8285308624925847,
          -0.981195268201697,
          1.0716793371408984,
          -0.9954274593580176,
          -1.3833819574832371,
          -0.8447525194875994,
          -0.9144143941317896,
          2.4128662614605316
         ],
         "y": [
          -0.07858268616172745,
          0.3272582478001156,
          -0.9195853016669674,
          1.7269081652063432,
          -0.5244049751830162,
          -0.24794003833237377,
          0.34628890580294486,
          0.036728807124536175,
          1.6565319286622568,
          0.33221148999053024,
          -0.06341318660835937,
          -0.13201183506361694,
          -0.6604195097719853,
          0.5502574114205361
         ],
         "z": [
          -0.1007820843164413,
          0.7826440735713593,
          -0.2991248654925543,
          4.655220285254948,
          -0.22118871439565338,
          -0.1795996014637547,
          1.8101884724486823,
          0.3073884167726884,
          0.8679314542644543,
          0.9729335948168616,
          0.150526683282208,
          -0.052341917548742796,
          -0.23508682794912372,
          1.5914018440386628
         ]
        },
        {
         "hovertemplate": "color=Florisuga<br>PCA1=%{x}<br>PCA2=%{y}<br>PCA3=%{z}<extra></extra>",
         "legendgroup": "Florisuga",
         "marker": {
          "color": "#FFA15A",
          "symbol": "circle"
         },
         "mode": "markers",
         "name": "Florisuga",
         "scene": "scene",
         "showlegend": true,
         "type": "scatter3d",
         "x": [
          -1.3235529334036198
         ],
         "y": [
          -0.364989177982402
         ],
         "z": [
          -0.4421435479713985
         ]
        },
        {
         "hovertemplate": "color=Fluvicola<br>PCA1=%{x}<br>PCA2=%{y}<br>PCA3=%{z}<extra></extra>",
         "legendgroup": "Fluvicola",
         "marker": {
          "color": "#19d3f3",
          "symbol": "circle"
         },
         "mode": "markers",
         "name": "Fluvicola",
         "scene": "scene",
         "showlegend": true,
         "type": "scatter3d",
         "x": [
          0.3962716156798077,
          -1.3372436387467213
         ],
         "y": [
          -0.08259331856409281,
          -0.027196308947891833
         ],
         "z": [
          -0.9207608207617607,
          -0.4599413327741691
         ]
        },
        {
         "hovertemplate": "color=Formicarius<br>PCA1=%{x}<br>PCA2=%{y}<br>PCA3=%{z}<extra></extra>",
         "legendgroup": "Formicarius",
         "marker": {
          "color": "#FF6692",
          "symbol": "circle"
         },
         "mode": "markers",
         "name": "Formicarius",
         "scene": "scene",
         "showlegend": true,
         "type": "scatter3d",
         "x": [
          -1.2450871442670741,
          -0.6074660196972667,
          -0.49075159222837506,
          2.6615063907332335,
          -0.09437126767183181,
          -0.9545561772150651,
          -1.5739905162048249
         ],
         "y": [
          0.03626016383826871,
          0.3776313721886104,
          1.043463166439728,
          3.2030457499480405,
          1.7687569937902634,
          0.7033347251903911,
          -0.19452895834110523
         ],
         "z": [
          -0.0024058858945050863,
          -0.5389780295706993,
          1.0507350404052056,
          0.4829425433279293,
          0.6180346431624838,
          -0.36639114713668486,
          -0.3496632974635872
         ]
        },
        {
         "hovertemplate": "color=Formicivora<br>PCA1=%{x}<br>PCA2=%{y}<br>PCA3=%{z}<extra></extra>",
         "legendgroup": "Formicivora",
         "marker": {
          "color": "#B6E880",
          "symbol": "circle"
         },
         "mode": "markers",
         "name": "Formicivora",
         "scene": "scene",
         "showlegend": true,
         "type": "scatter3d",
         "x": [
          0.271183852993038,
          -1.0125960273983692
         ],
         "y": [
          -0.8936611036744165,
          -0.5494471956304618
         ],
         "z": [
          -0.08542300274493715,
          -0.34322096954654546
         ]
        },
        {
         "hovertemplate": "color=Forpus<br>PCA1=%{x}<br>PCA2=%{y}<br>PCA3=%{z}<extra></extra>",
         "legendgroup": "Forpus",
         "marker": {
          "color": "#FF97FF",
          "symbol": "circle"
         },
         "mode": "markers",
         "name": "Forpus",
         "scene": "scene",
         "showlegend": true,
         "type": "scatter3d",
         "x": [
          -0.6345881596685828,
          1.7797667295699453,
          -0.581091883624104,
          -0.10788044817400409
         ],
         "y": [
          -0.5262661281534367,
          -0.24229463116717995,
          -0.2636128679879288,
          -0.37352033638406723
         ],
         "z": [
          -0.08648757744992266,
          -0.332422266793305,
          0.18534058899164238,
          -0.14120826420965574
         ]
        },
        {
         "hovertemplate": "color=Furnarius<br>PCA1=%{x}<br>PCA2=%{y}<br>PCA3=%{z}<extra></extra>",
         "legendgroup": "Furnarius",
         "marker": {
          "color": "#FECB52",
          "symbol": "circle"
         },
         "mode": "markers",
         "name": "Furnarius",
         "scene": "scene",
         "showlegend": true,
         "type": "scatter3d",
         "x": [
          -0.8461003705359953,
          0.5752457324240593
         ],
         "y": [
          -0.6512778492561693,
          -1.6103888300805678
         ],
         "z": [
          -0.521108769430424,
          -0.16405094255462346
         ]
        },
        {
         "hovertemplate": "color=Galbalcyrhynchus<br>PCA1=%{x}<br>PCA2=%{y}<br>PCA3=%{z}<extra></extra>",
         "legendgroup": "Galbalcyrhynchus",
         "marker": {
          "color": "#636efa",
          "symbol": "circle"
         },
         "mode": "markers",
         "name": "Galbalcyrhynchus",
         "scene": "scene",
         "showlegend": true,
         "type": "scatter3d",
         "x": [
          -0.49984397857595947,
          1.4525819417740469
         ],
         "y": [
          0.4904911352184193,
          -1.5849513563977369
         ],
         "z": [
          3.285602408857267,
          -0.17068722060660388
         ]
        },
        {
         "hovertemplate": "color=Galbula<br>PCA1=%{x}<br>PCA2=%{y}<br>PCA3=%{z}<extra></extra>",
         "legendgroup": "Galbula",
         "marker": {
          "color": "#EF553B",
          "symbol": "circle"
         },
         "mode": "markers",
         "name": "Galbula",
         "scene": "scene",
         "showlegend": true,
         "type": "scatter3d",
         "x": [
          -1.1253641829464744,
          -0.5163518042694771,
          -1.1049759921668805,
          0.6236430337633292,
          0.18113193293389057,
          0.3292690342886138,
          0.44617854130987994
         ],
         "y": [
          0.20543551141521837,
          1.0112958294363366,
          -0.3843638748984808,
          -0.7668664144696419,
          -1.2151164472364053,
          0.26064949413758437,
          -3.353052702542537
         ],
         "z": [
          0.29086516700980364,
          1.2550197916791486,
          -0.26941116864873904,
          -0.29519397856494545,
          -0.353678135448177,
          0.8992419191572574,
          -0.5136654544661982
         ]
        },
        {
         "hovertemplate": "color=Gallinago<br>PCA1=%{x}<br>PCA2=%{y}<br>PCA3=%{z}<extra></extra>",
         "legendgroup": "Gallinago",
         "marker": {
          "color": "#00cc96",
          "symbol": "circle"
         },
         "mode": "markers",
         "name": "Gallinago",
         "scene": "scene",
         "showlegend": true,
         "type": "scatter3d",
         "x": [
          -1.2689999884952508
         ],
         "y": [
          0.06600862695937629
         ],
         "z": [
          0.5647777339956932
         ]
        },
        {
         "hovertemplate": "color=Gallinula<br>PCA1=%{x}<br>PCA2=%{y}<br>PCA3=%{z}<extra></extra>",
         "legendgroup": "Gallinula",
         "marker": {
          "color": "#ab63fa",
          "symbol": "circle"
         },
         "mode": "markers",
         "name": "Gallinula",
         "scene": "scene",
         "showlegend": true,
         "type": "scatter3d",
         "x": [
          -1.4054254162511581
         ],
         "y": [
          0.07700095069759072
         ],
         "z": [
          0.8434888612233613
         ]
        },
        {
         "hovertemplate": "color=Gampsonyx<br>PCA1=%{x}<br>PCA2=%{y}<br>PCA3=%{z}<extra></extra>",
         "legendgroup": "Gampsonyx",
         "marker": {
          "color": "#FFA15A",
          "symbol": "circle"
         },
         "mode": "markers",
         "name": "Gampsonyx",
         "scene": "scene",
         "showlegend": true,
         "type": "scatter3d",
         "x": [
          -0.6749188923824053
         ],
         "y": [
          -0.024865755237405987
         ],
         "z": [
          1.4644069572635134
         ]
        },
        {
         "hovertemplate": "color=Geothlypis<br>PCA1=%{x}<br>PCA2=%{y}<br>PCA3=%{z}<extra></extra>",
         "legendgroup": "Geothlypis",
         "marker": {
          "color": "#19d3f3",
          "symbol": "circle"
         },
         "mode": "markers",
         "name": "Geothlypis",
         "scene": "scene",
         "showlegend": true,
         "type": "scatter3d",
         "x": [
          0.6852937138135656,
          7.695698809199927
         ],
         "y": [
          0.8363162192425608,
          -2.1313233472881614
         ],
         "z": [
          0.36970317414414305,
          3.8604932712549997
         ]
        },
        {
         "hovertemplate": "color=Geotrygon<br>PCA1=%{x}<br>PCA2=%{y}<br>PCA3=%{z}<extra></extra>",
         "legendgroup": "Geotrygon",
         "marker": {
          "color": "#FF6692",
          "symbol": "circle"
         },
         "mode": "markers",
         "name": "Geotrygon",
         "scene": "scene",
         "showlegend": true,
         "type": "scatter3d",
         "x": [
          0.07662304643208202,
          -0.19704775927331616,
          -0.24649427728500062,
          -0.41599217063637695,
          -1.2511015369348688,
          -0.323191590015909
         ],
         "y": [
          0.20037978531422942,
          0.15447407290085696,
          -0.2175560976097671,
          0.12504573000498795,
          0.32237799169139275,
          0.10691763449028535
         ],
         "z": [
          -0.19339418146751497,
          -0.2669940385795843,
          -0.09541558391335174,
          -0.08592911940794608,
          -0.4648399501565956,
          -0.12207328443967914
         ]
        },
        {
         "hovertemplate": "color=Geranoaetus<br>PCA1=%{x}<br>PCA2=%{y}<br>PCA3=%{z}<extra></extra>",
         "legendgroup": "Geranoaetus",
         "marker": {
          "color": "#B6E880",
          "symbol": "circle"
         },
         "mode": "markers",
         "name": "Geranoaetus",
         "scene": "scene",
         "showlegend": true,
         "type": "scatter3d",
         "x": [
          -1.5226441805519155
         ],
         "y": [
          -0.3248803201682559
         ],
         "z": [
          -0.39216759997908507
         ]
        },
        {
         "hovertemplate": "color=Geranospiza<br>PCA1=%{x}<br>PCA2=%{y}<br>PCA3=%{z}<extra></extra>",
         "legendgroup": "Geranospiza",
         "marker": {
          "color": "#FF97FF",
          "symbol": "circle"
         },
         "mode": "markers",
         "name": "Geranospiza",
         "scene": "scene",
         "showlegend": true,
         "type": "scatter3d",
         "x": [
          -0.15860798071081145,
          -0.21194136068087785
         ],
         "y": [
          1.3155877483883083,
          0.41355511636952663
         ],
         "z": [
          -0.838118642368522,
          -0.4534098091626351
         ]
        },
        {
         "hovertemplate": "color=Glaucidium<br>PCA1=%{x}<br>PCA2=%{y}<br>PCA3=%{z}<extra></extra>",
         "legendgroup": "Glaucidium",
         "marker": {
          "color": "#FECB52",
          "symbol": "circle"
         },
         "mode": "markers",
         "name": "Glaucidium",
         "scene": "scene",
         "showlegend": true,
         "type": "scatter3d",
         "x": [
          0.5756763696323105,
          -0.9225650250557985,
          0.7610698289353177
         ],
         "y": [
          -2.224621155233624,
          0.25818082135756376,
          0.20421969220843253
         ],
         "z": [
          -0.3960557253641532,
          2.0054480875313976,
          0.1920540348674176
         ]
        },
        {
         "hovertemplate": "color=Glaucis<br>PCA1=%{x}<br>PCA2=%{y}<br>PCA3=%{z}<extra></extra>",
         "legendgroup": "Glaucis",
         "marker": {
          "color": "#636efa",
          "symbol": "circle"
         },
         "mode": "markers",
         "name": "Glaucis",
         "scene": "scene",
         "showlegend": true,
         "type": "scatter3d",
         "x": [
          -1.0093014861368341
         ],
         "y": [
          -0.2665711193860247
         ],
         "z": [
          -0.003747068068249536
         ]
        },
        {
         "hovertemplate": "color=Glyphorynchus<br>PCA1=%{x}<br>PCA2=%{y}<br>PCA3=%{z}<extra></extra>",
         "legendgroup": "Glyphorynchus",
         "marker": {
          "color": "#EF553B",
          "symbol": "circle"
         },
         "mode": "markers",
         "name": "Glyphorynchus",
         "scene": "scene",
         "showlegend": true,
         "type": "scatter3d",
         "x": [
          -0.8188040892360388,
          -0.5442387557768714
         ],
         "y": [
          -0.2985250687697236,
          0.6676504761763268
         ],
         "z": [
          -0.5258203524378853,
          -0.20001599342166657
         ]
        },
        {
         "hovertemplate": "color=Gnorimopsar<br>PCA1=%{x}<br>PCA2=%{y}<br>PCA3=%{z}<extra></extra>",
         "legendgroup": "Gnorimopsar",
         "marker": {
          "color": "#00cc96",
          "symbol": "circle"
         },
         "mode": "markers",
         "name": "Gnorimopsar",
         "scene": "scene",
         "showlegend": true,
         "type": "scatter3d",
         "x": [
          -0.18780178484662005
         ],
         "y": [
          0.7819244091263746
         ],
         "z": [
          0.29207545806326124
         ]
        },
        {
         "hovertemplate": "color=Grallaria<br>PCA1=%{x}<br>PCA2=%{y}<br>PCA3=%{z}<extra></extra>",
         "legendgroup": "Grallaria",
         "marker": {
          "color": "#ab63fa",
          "symbol": "circle"
         },
         "mode": "markers",
         "name": "Grallaria",
         "scene": "scene",
         "showlegend": true,
         "type": "scatter3d",
         "x": [
          1.5065521880780135,
          0.3860623953637741,
          0.2869467796066658,
          -1.4756492697433639,
          0.8906854039080903,
          5.207346799139154
         ],
         "y": [
          -0.6915672857850194,
          1.3419473070173857,
          -0.15258044025825693,
          -0.0006252092108665679,
          0.7758821322828184,
          5.548521609749414
         ],
         "z": [
          -0.2165142056593596,
          -0.492258734540364,
          -0.12824673783674143,
          -0.4203383335160984,
          -0.8715353661310467,
          -1.7763547163478821
         ]
        },
        {
         "hovertemplate": "color=Grallaricula<br>PCA1=%{x}<br>PCA2=%{y}<br>PCA3=%{z}<extra></extra>",
         "legendgroup": "Grallaricula",
         "marker": {
          "color": "#FFA15A",
          "symbol": "circle"
         },
         "mode": "markers",
         "name": "Grallaricula",
         "scene": "scene",
         "showlegend": true,
         "type": "scatter3d",
         "x": [
          -0.7463623259814248,
          -0.12927825643311375,
          1.851836375898873
         ],
         "y": [
          0.6796787235524894,
          0.6825635532874511,
          1.185338720658219
         ],
         "z": [
          -0.638629097966672,
          0.32576918137225075,
          0.6218922113812259
         ]
        },
        {
         "hovertemplate": "color=Gymnomystax<br>PCA1=%{x}<br>PCA2=%{y}<br>PCA3=%{z}<extra></extra>",
         "legendgroup": "Gymnomystax",
         "marker": {
          "color": "#19d3f3",
          "symbol": "circle"
         },
         "mode": "markers",
         "name": "Gymnomystax",
         "scene": "scene",
         "showlegend": true,
         "type": "scatter3d",
         "x": [
          0.5518422951480548
         ],
         "y": [
          -0.06221649002211554
         ],
         "z": [
          0.4566816602530762
         ]
        },
        {
         "hovertemplate": "color=Habia<br>PCA1=%{x}<br>PCA2=%{y}<br>PCA3=%{z}<extra></extra>",
         "legendgroup": "Habia",
         "marker": {
          "color": "#FF6692",
          "symbol": "circle"
         },
         "mode": "markers",
         "name": "Habia",
         "scene": "scene",
         "showlegend": true,
         "type": "scatter3d",
         "x": [
          -0.3303880091641833,
          -1.556088648855868
         ],
         "y": [
          0.43675928106353484,
          -0.019458245910316866
         ],
         "z": [
          -0.2898344227609918,
          -0.1380020678542817
         ]
        },
        {
         "hovertemplate": "color=Hafferia<br>PCA1=%{x}<br>PCA2=%{y}<br>PCA3=%{z}<extra></extra>",
         "legendgroup": "Hafferia",
         "marker": {
          "color": "#B6E880",
          "symbol": "circle"
         },
         "mode": "markers",
         "name": "Hafferia",
         "scene": "scene",
         "showlegend": true,
         "type": "scatter3d",
         "x": [
          6.056304298029125,
          -0.40687823387123767
         ],
         "y": [
          2.197780955849065,
          -0.14551675780012197
         ],
         "z": [
          1.0932924962217445,
          0.5683218885020119
         ]
        },
        {
         "hovertemplate": "color=Haplophaedia<br>PCA1=%{x}<br>PCA2=%{y}<br>PCA3=%{z}<extra></extra>",
         "legendgroup": "Haplophaedia",
         "marker": {
          "color": "#FF97FF",
          "symbol": "circle"
         },
         "mode": "markers",
         "name": "Haplophaedia",
         "scene": "scene",
         "showlegend": true,
         "type": "scatter3d",
         "x": [
          -0.18533941749013702
         ],
         "y": [
          -1.2838771188998208
         ],
         "z": [
          -0.27770542046242586
         ]
        },
        {
         "hovertemplate": "color=Haplospiza<br>PCA1=%{x}<br>PCA2=%{y}<br>PCA3=%{z}<extra></extra>",
         "legendgroup": "Haplospiza",
         "marker": {
          "color": "#FECB52",
          "symbol": "circle"
         },
         "mode": "markers",
         "name": "Haplospiza",
         "scene": "scene",
         "showlegend": true,
         "type": "scatter3d",
         "x": [
          2.862676471508049,
          2.6433443136005925,
          -0.3068455851029624,
          -0.858417741362686,
          -0.33130457679991204
         ],
         "y": [
          -0.011853741685193075,
          1.0888545815490736,
          1.2227956915892773,
          -0.04629274591769769,
          0.10958301580604975
         ],
         "z": [
          0.3665437469569914,
          -0.1931675042061609,
          -0.5171004057451263,
          -0.4538543205622344,
          -0.02848708733635929
         ]
        },
        {
         "hovertemplate": "color=Harpagus<br>PCA1=%{x}<br>PCA2=%{y}<br>PCA3=%{z}<extra></extra>",
         "legendgroup": "Harpagus",
         "marker": {
          "color": "#636efa",
          "symbol": "circle"
         },
         "mode": "markers",
         "name": "Harpagus",
         "scene": "scene",
         "showlegend": true,
         "type": "scatter3d",
         "x": [
          -0.6914791237503763,
          -0.6194117055987505,
          -1.3682265810984116
         ],
         "y": [
          -0.49137473268314213,
          0.2765801703857755,
          0.06573836131348698
         ],
         "z": [
          -0.002801139511345885,
          -0.19299182070668203,
          -0.24242228588369927
         ]
        },
        {
         "hovertemplate": "color=Harpia<br>PCA1=%{x}<br>PCA2=%{y}<br>PCA3=%{z}<extra></extra>",
         "legendgroup": "Harpia",
         "marker": {
          "color": "#EF553B",
          "symbol": "circle"
         },
         "mode": "markers",
         "name": "Harpia",
         "scene": "scene",
         "showlegend": true,
         "type": "scatter3d",
         "x": [
          0.22358181564157736
         ],
         "y": [
          0.11820078599454341
         ],
         "z": [
          0.1995920839579327
         ]
        },
        {
         "hovertemplate": "color=Helicolestes<br>PCA1=%{x}<br>PCA2=%{y}<br>PCA3=%{z}<extra></extra>",
         "legendgroup": "Helicolestes",
         "marker": {
          "color": "#00cc96",
          "symbol": "circle"
         },
         "mode": "markers",
         "name": "Helicolestes",
         "scene": "scene",
         "showlegend": true,
         "type": "scatter3d",
         "x": [
          0.3502118847983785,
          -0.30443912511531857,
          4.160066778729209
         ],
         "y": [
          0.6832380622852323,
          0.354793862005294,
          -2.597936128668881
         ],
         "z": [
          -0.19458421803326093,
          -0.17316613010669435,
          0.3956016272090657
         ]
        },
        {
         "hovertemplate": "color=Heliodoxa<br>PCA1=%{x}<br>PCA2=%{y}<br>PCA3=%{z}<extra></extra>",
         "legendgroup": "Heliodoxa",
         "marker": {
          "color": "#ab63fa",
          "symbol": "circle"
         },
         "mode": "markers",
         "name": "Heliodoxa",
         "scene": "scene",
         "showlegend": true,
         "type": "scatter3d",
         "x": [
          -1.2838870462870042,
          -1.2000080292218196,
          2.0727752733734093,
          -0.5182785301474561,
          -0.7918753703089536,
          0.45972833642166017,
          0.12396807589913991,
          -0.5449645838985792,
          -1.197422112595377
         ],
         "y": [
          0.5483121889795548,
          0.00006107052919700257,
          -1.3892069624195738,
          1.1658888739888864,
          0.3405726283284696,
          -0.7685306231580529,
          -0.4230445629963425,
          0.36001965325154145,
          0.3975487888567193
         ],
         "z": [
          -0.2528158030792423,
          -0.36936291458845677,
          -0.03540576514376255,
          6.0742814450607305,
          -0.4563265716965997,
          -0.6580485949698222,
          -0.7238182785808337,
          0.5698690135688741,
          1.481444787456605
         ]
        },
        {
         "hovertemplate": "color=Heliomaster<br>PCA1=%{x}<br>PCA2=%{y}<br>PCA3=%{z}<extra></extra>",
         "legendgroup": "Heliomaster",
         "marker": {
          "color": "#FFA15A",
          "symbol": "circle"
         },
         "mode": "markers",
         "name": "Heliomaster",
         "scene": "scene",
         "showlegend": true,
         "type": "scatter3d",
         "x": [
          0.44680184857025085,
          -1.1881842194398509
         ],
         "y": [
          -0.9282482459387842,
          -0.05160141681793838
         ],
         "z": [
          -0.29150178380377323,
          -0.34404573733685345
         ]
        },
        {
         "hovertemplate": "color=Heliornis<br>PCA1=%{x}<br>PCA2=%{y}<br>PCA3=%{z}<extra></extra>",
         "legendgroup": "Heliornis",
         "marker": {
          "color": "#19d3f3",
          "symbol": "circle"
         },
         "mode": "markers",
         "name": "Heliornis",
         "scene": "scene",
         "showlegend": true,
         "type": "scatter3d",
         "x": [
          -0.6152290858168201
         ],
         "y": [
          0.005006030501024993
         ],
         "z": [
          -0.4845736911677743
         ]
        },
        {
         "hovertemplate": "color=Heliothryx<br>PCA1=%{x}<br>PCA2=%{y}<br>PCA3=%{z}<extra></extra>",
         "legendgroup": "Heliothryx",
         "marker": {
          "color": "#FF6692",
          "symbol": "circle"
         },
         "mode": "markers",
         "name": "Heliothryx",
         "scene": "scene",
         "showlegend": true,
         "type": "scatter3d",
         "x": [
          -0.8547871593820505
         ],
         "y": [
          -0.06855867947795644
         ],
         "z": [
          -0.5333292173918858
         ]
        },
        {
         "hovertemplate": "color=Hemithraupis<br>PCA1=%{x}<br>PCA2=%{y}<br>PCA3=%{z}<extra></extra>",
         "legendgroup": "Hemithraupis",
         "marker": {
          "color": "#B6E880",
          "symbol": "circle"
         },
         "mode": "markers",
         "name": "Hemithraupis",
         "scene": "scene",
         "showlegend": true,
         "type": "scatter3d",
         "x": [
          -0.8455170801812609,
          -0.8688451553735611,
          -0.8871261799012006
         ],
         "y": [
          -0.03262570212286869,
          -0.37496927821160875,
          0.661898267335212
         ],
         "z": [
          -0.499616316861855,
          -0.49760943006225045,
          -0.42720823160662874
         ]
        },
        {
         "hovertemplate": "color=Hemitriccus<br>PCA1=%{x}<br>PCA2=%{y}<br>PCA3=%{z}<extra></extra>",
         "legendgroup": "Hemitriccus",
         "marker": {
          "color": "#FF97FF",
          "symbol": "circle"
         },
         "mode": "markers",
         "name": "Hemitriccus",
         "scene": "scene",
         "showlegend": true,
         "type": "scatter3d",
         "x": [
          4.30811543148424,
          1.2101479391195102,
          -0.23358113521673948,
          3.3122332336685836,
          -0.13400740587231566,
          2.2330166715100668,
          0.4514197998005434,
          -0.10430528640235555,
          -1.3078061832056231,
          -0.7200789381675633,
          0.635829846648705,
          2.4532385701327386
         ],
         "y": [
          -0.2888257075288388,
          1.6036245555101518,
          -0.15245252095508116,
          0.14174556403988955,
          -0.9244762378225617,
          -2.754266790601885,
          0.5630835637865986,
          2.0144401702286943,
          0.15492582334454705,
          0.32088235887041283,
          0.5086005716180304,
          0.18473800990230507
         ],
         "z": [
          -0.034265822752442526,
          -1.0913436693483547,
          -0.557204234021871,
          -1.0492473926143553,
          -0.2012254803363212,
          -0.07407152579153639,
          0.2876317593260861,
          -0.7504616373921136,
          -0.23843396607882497,
          0.6854379794371692,
          0.17406224059641642,
          -0.29024710200357073
         ]
        },
        {
         "hovertemplate": "color=Henicorhina<br>PCA1=%{x}<br>PCA2=%{y}<br>PCA3=%{z}<extra></extra>",
         "legendgroup": "Henicorhina",
         "marker": {
          "color": "#FECB52",
          "symbol": "circle"
         },
         "mode": "markers",
         "name": "Henicorhina",
         "scene": "scene",
         "showlegend": true,
         "type": "scatter3d",
         "x": [
          -0.7573159855421469,
          1.5716218976932788
         ],
         "y": [
          0.351014900247196,
          -5.129404141314439
         ],
         "z": [
          0.7485637478952335,
          -0.24944924036040922
         ]
        },
        {
         "hovertemplate": "color=Herpetotheres<br>PCA1=%{x}<br>PCA2=%{y}<br>PCA3=%{z}<extra></extra>",
         "legendgroup": "Herpetotheres",
         "marker": {
          "color": "#636efa",
          "symbol": "circle"
         },
         "mode": "markers",
         "name": "Herpetotheres",
         "scene": "scene",
         "showlegend": true,
         "type": "scatter3d",
         "x": [
          -0.6381879167651802,
          1.6023602742247745
         ],
         "y": [
          -0.6997281746964802,
          -3.0853205659378466
         ],
         "z": [
          -0.3111093914246719,
          -0.1150599938546251
         ]
        },
        {
         "hovertemplate": "color=Herpsilochmus<br>PCA1=%{x}<br>PCA2=%{y}<br>PCA3=%{z}<extra></extra>",
         "legendgroup": "Herpsilochmus",
         "marker": {
          "color": "#EF553B",
          "symbol": "circle"
         },
         "mode": "markers",
         "name": "Herpsilochmus",
         "scene": "scene",
         "showlegend": true,
         "type": "scatter3d",
         "x": [
          -1.5266349004272453,
          0.15455728232310248,
          1.2581197963496493,
          0.7722885611568089,
          -1.1575781959431701,
          0.23061564669302123
         ],
         "y": [
          -0.0653878294042084,
          1.0497315282653754,
          1.5388530690115327,
          0.554092785815718,
          -0.07244850265102175,
          1.2622429078279915
         ],
         "z": [
          0.3223191156244419,
          -0.1561827512829659,
          -0.2744525067890959,
          -0.2851088722267021,
          -0.5364441044332048,
          -0.5506046049929928
         ]
        },
        {
         "hovertemplate": "color=Heterocercus<br>PCA1=%{x}<br>PCA2=%{y}<br>PCA3=%{z}<extra></extra>",
         "legendgroup": "Heterocercus",
         "marker": {
          "color": "#00cc96",
          "symbol": "circle"
         },
         "mode": "markers",
         "name": "Heterocercus",
         "scene": "scene",
         "showlegend": true,
         "type": "scatter3d",
         "x": [
          -0.45307043190856955
         ],
         "y": [
          0.04532691522952962
         ],
         "z": [
          -0.08726327495156974
         ]
        },
        {
         "hovertemplate": "color=Himantopus<br>PCA1=%{x}<br>PCA2=%{y}<br>PCA3=%{z}<extra></extra>",
         "legendgroup": "Himantopus",
         "marker": {
          "color": "#ab63fa",
          "symbol": "circle"
         },
         "mode": "markers",
         "name": "Himantopus",
         "scene": "scene",
         "showlegend": true,
         "type": "scatter3d",
         "x": [
          0.8308648040064089,
          4.023760085432855,
          5.073152677992375
         ],
         "y": [
          -0.69145044563519,
          -4.047367618653448,
          -6.114640422398737
         ],
         "z": [
          1.1197620332588782,
          -0.7320444546474179,
          -1.3656158493608503
         ]
        },
        {
         "hovertemplate": "color=Hirundinea<br>PCA1=%{x}<br>PCA2=%{y}<br>PCA3=%{z}<extra></extra>",
         "legendgroup": "Hirundinea",
         "marker": {
          "color": "#FFA15A",
          "symbol": "circle"
         },
         "mode": "markers",
         "name": "Hirundinea",
         "scene": "scene",
         "showlegend": true,
         "type": "scatter3d",
         "x": [
          -1.193753591781404,
          0.7312187497792706,
          -1.0103302491317583,
          -0.5168124864212866
         ],
         "y": [
          0.09773062120004224,
          -0.675487594133847,
          0.2857764361486065,
          0.4554577358232135
         ],
         "z": [
          -0.013006077059959356,
          0.43495165723195695,
          -0.3167509204326891,
          -0.1645446899576015
         ]
        },
        {
         "hovertemplate": "color=Hydropsalis<br>PCA1=%{x}<br>PCA2=%{y}<br>PCA3=%{z}<extra></extra>",
         "legendgroup": "Hydropsalis",
         "marker": {
          "color": "#19d3f3",
          "symbol": "circle"
         },
         "mode": "markers",
         "name": "Hydropsalis",
         "scene": "scene",
         "showlegend": true,
         "type": "scatter3d",
         "x": [
          -0.49097106333543045,
          -0.9409389315312527,
          -0.5655216905940587,
          -0.3067357127174501,
          6.911265986430819
         ],
         "y": [
          0.030387591859981647,
          0.11353504889114803,
          0.6490235387030501,
          -0.34078854289497607,
          -2.4011461368576215
         ],
         "z": [
          -0.23384043893557008,
          -0.1877227778637352,
          -0.5554280332334065,
          -0.6596993943446404,
          -2.009952402911197
         ]
        },
        {
         "hovertemplate": "color=Hylexetastes<br>PCA1=%{x}<br>PCA2=%{y}<br>PCA3=%{z}<extra></extra>",
         "legendgroup": "Hylexetastes",
         "marker": {
          "color": "#FF6692",
          "symbol": "circle"
         },
         "mode": "markers",
         "name": "Hylexetastes",
         "scene": "scene",
         "showlegend": true,
         "type": "scatter3d",
         "x": [
          2.7539270633580504,
          -0.9334560399128734,
          -0.5988948731294252,
          0.9151189655497406
         ],
         "y": [
          3.611730615942491,
          0.4287053220463865,
          0.999236386116071,
          3.0160609763673545
         ],
         "z": [
          -0.08450991145843953,
          0.9459274663540287,
          0.4718949862302632,
          -0.6007984376546719
         ]
        },
        {
         "hovertemplate": "color=Hylopezus<br>PCA1=%{x}<br>PCA2=%{y}<br>PCA3=%{z}<extra></extra>",
         "legendgroup": "Hylopezus",
         "marker": {
          "color": "#B6E880",
          "symbol": "circle"
         },
         "mode": "markers",
         "name": "Hylopezus",
         "scene": "scene",
         "showlegend": true,
         "type": "scatter3d",
         "x": [
          -0.5998632294181121
         ],
         "y": [
          -0.4342882800521144
         ],
         "z": [
          -0.17437149665239607
         ]
        },
        {
         "hovertemplate": "color=Hylophilus<br>PCA1=%{x}<br>PCA2=%{y}<br>PCA3=%{z}<extra></extra>",
         "legendgroup": "Hylophilus",
         "marker": {
          "color": "#FF97FF",
          "symbol": "circle"
         },
         "mode": "markers",
         "name": "Hylophilus",
         "scene": "scene",
         "showlegend": true,
         "type": "scatter3d",
         "x": [
          -0.04279474889756578,
          -0.9627278233633733
         ],
         "y": [
          0.3859120232422749,
          0.22563674097351805
         ],
         "z": [
          0.20705278539545396,
          0.32370723607900664
         ]
        },
        {
         "hovertemplate": "color=Hylophylax<br>PCA1=%{x}<br>PCA2=%{y}<br>PCA3=%{z}<extra></extra>",
         "legendgroup": "Hylophylax",
         "marker": {
          "color": "#FECB52",
          "symbol": "circle"
         },
         "mode": "markers",
         "name": "Hylophylax",
         "scene": "scene",
         "showlegend": true,
         "type": "scatter3d",
         "x": [
          0.5942242420389767,
          0.4032889478500881,
          1.2080665136210513
         ],
         "y": [
          0.4116228410969216,
          0.4202669968726249,
          -1.2737241282634564
         ],
         "z": [
          1.194110020528244,
          0.8527355934472847,
          0.5199551744110675
         ]
        },
        {
         "hovertemplate": "color=Hypocnemis<br>PCA1=%{x}<br>PCA2=%{y}<br>PCA3=%{z}<extra></extra>",
         "legendgroup": "Hypocnemis",
         "marker": {
          "color": "#636efa",
          "symbol": "circle"
         },
         "mode": "markers",
         "name": "Hypocnemis",
         "scene": "scene",
         "showlegend": true,
         "type": "scatter3d",
         "x": [
          -1.2951636790169905,
          1.9758857729381338,
          0.7653261948441682,
          -0.08640276646457709,
          -0.43287911046365485
         ],
         "y": [
          0.2776273310957934,
          2.9774658741707625,
          -1.9312116003910191,
          0.47565699294004965,
          0.5719795704254407
         ],
         "z": [
          0.6373198491231631,
          -0.9127436692501156,
          -0.7635569962443655,
          0.429693087902267,
          0.4452937135470218
         ]
        },
        {
         "hovertemplate": "color=Hypocnemoides<br>PCA1=%{x}<br>PCA2=%{y}<br>PCA3=%{z}<extra></extra>",
         "legendgroup": "Hypocnemoides",
         "marker": {
          "color": "#EF553B",
          "symbol": "circle"
         },
         "mode": "markers",
         "name": "Hypocnemoides",
         "scene": "scene",
         "showlegend": true,
         "type": "scatter3d",
         "x": [
          1.846841847687165,
          1.7581851162895274
         ],
         "y": [
          0.3275108839829946,
          -0.3584618501339222
         ],
         "z": [
          0.9661095553020353,
          0.10820700744072193
         ]
        },
        {
         "hovertemplate": "color=Ibycter<br>PCA1=%{x}<br>PCA2=%{y}<br>PCA3=%{z}<extra></extra>",
         "legendgroup": "Ibycter",
         "marker": {
          "color": "#00cc96",
          "symbol": "circle"
         },
         "mode": "markers",
         "name": "Ibycter",
         "scene": "scene",
         "showlegend": true,
         "type": "scatter3d",
         "x": [
          1.0073420903016426
         ],
         "y": [
          -0.2612375110385234
         ],
         "z": [
          0.7422876080206199
         ]
        },
        {
         "hovertemplate": "color=Icterus<br>PCA1=%{x}<br>PCA2=%{y}<br>PCA3=%{z}<extra></extra>",
         "legendgroup": "Icterus",
         "marker": {
          "color": "#ab63fa",
          "symbol": "circle"
         },
         "mode": "markers",
         "name": "Icterus",
         "scene": "scene",
         "showlegend": true,
         "type": "scatter3d",
         "x": [
          0.3137208693092812,
          -1.3174023720345278,
          -0.9521384740290945
         ],
         "y": [
          0.0023065147971605823,
          0.102318357001627,
          -0.759614941947742
         ],
         "z": [
          0.5965198913237924,
          0.01060861564543849,
          -0.2056405303205991
         ]
        },
        {
         "hovertemplate": "color=Ictinia<br>PCA1=%{x}<br>PCA2=%{y}<br>PCA3=%{z}<extra></extra>",
         "legendgroup": "Ictinia",
         "marker": {
          "color": "#FFA15A",
          "symbol": "circle"
         },
         "mode": "markers",
         "name": "Ictinia",
         "scene": "scene",
         "showlegend": true,
         "type": "scatter3d",
         "x": [
          -1.0080801979127398,
          -0.8945089056930312,
          -1.3418207654448988,
          -0.5709890918690738,
          -1.3201093339549268
         ],
         "y": [
          -0.17342958319572138,
          0.18591027181448555,
          0.13150326080444574,
          0.5911041401907192,
          0.2139953666456742
         ],
         "z": [
          -0.23752925951628112,
          -0.2022796492899538,
          -0.34044711751946366,
          -0.4108479593069706,
          -0.3113721165928159
         ]
        },
        {
         "hovertemplate": "color=Inezia<br>PCA1=%{x}<br>PCA2=%{y}<br>PCA3=%{z}<extra></extra>",
         "legendgroup": "Inezia",
         "marker": {
          "color": "#19d3f3",
          "symbol": "circle"
         },
         "mode": "markers",
         "name": "Inezia",
         "scene": "scene",
         "showlegend": true,
         "type": "scatter3d",
         "x": [
          -1.6508153060114625,
          -0.6222418174065993,
          -1.2842683422249017
         ],
         "y": [
          -0.17465903096676372,
          0.3941890367245932,
          0.20861726211059714
         ],
         "z": [
          -0.2095875909389822,
          -0.3637385681091285,
          -0.2595970421692799
         ]
        },
        {
         "hovertemplate": "color=Iodopleura<br>PCA1=%{x}<br>PCA2=%{y}<br>PCA3=%{z}<extra></extra>",
         "legendgroup": "Iodopleura",
         "marker": {
          "color": "#FF6692",
          "symbol": "circle"
         },
         "mode": "markers",
         "name": "Iodopleura",
         "scene": "scene",
         "showlegend": true,
         "type": "scatter3d",
         "x": [
          1.1653292030830504,
          0.28170849323168967,
          -0.21499148210482216
         ],
         "y": [
          1.026545253679575,
          -0.40180461233316966,
          0.0865297978017989
         ],
         "z": [
          -1.007707436637361,
          -0.57636389713626,
          -0.5818063679000699
         ]
        },
        {
         "hovertemplate": "color=Iridophanes<br>PCA1=%{x}<br>PCA2=%{y}<br>PCA3=%{z}<extra></extra>",
         "legendgroup": "Iridophanes",
         "marker": {
          "color": "#B6E880",
          "symbol": "circle"
         },
         "mode": "markers",
         "name": "Iridophanes",
         "scene": "scene",
         "showlegend": true,
         "type": "scatter3d",
         "x": [
          0.0017400834195095895
         ],
         "y": [
          1.258514302530003
         ],
         "z": [
          -0.8702551218588775
         ]
        },
        {
         "hovertemplate": "color=Iridosornis<br>PCA1=%{x}<br>PCA2=%{y}<br>PCA3=%{z}<extra></extra>",
         "legendgroup": "Iridosornis",
         "marker": {
          "color": "#FF97FF",
          "symbol": "circle"
         },
         "mode": "markers",
         "name": "Iridosornis",
         "scene": "scene",
         "showlegend": true,
         "type": "scatter3d",
         "x": [
          -0.49043613137394326,
          -0.019858413191838786,
          -0.9849312803623875,
          2.739069726399048,
          0.8984080829312369,
          1.5895401518517103
         ],
         "y": [
          0.46066062286984405,
          0.26740019902658907,
          -0.4511232240950144,
          1.1265037479879674,
          -2.53977549223496,
          -0.07558558319719057
         ],
         "z": [
          -0.502544133966494,
          -0.14517419436641882,
          -0.5313221387436265,
          -0.5004248024597924,
          -0.7260267530284592,
          -1.0394605531313508
         ]
        },
        {
         "hovertemplate": "color=Isleria<br>PCA1=%{x}<br>PCA2=%{y}<br>PCA3=%{z}<extra></extra>",
         "legendgroup": "Isleria",
         "marker": {
          "color": "#FECB52",
          "symbol": "circle"
         },
         "mode": "markers",
         "name": "Isleria",
         "scene": "scene",
         "showlegend": true,
         "type": "scatter3d",
         "x": [
          -1.0079450183994727,
          -0.37305366747715374
         ],
         "y": [
          0.4609951741070845,
          0.2059158296844244
         ],
         "z": [
          0.3490689717650162,
          0.43010873157140483
         ]
        },
        {
         "hovertemplate": "color=Ixobrychus<br>PCA1=%{x}<br>PCA2=%{y}<br>PCA3=%{z}<extra></extra>",
         "legendgroup": "Ixobrychus",
         "marker": {
          "color": "#636efa",
          "symbol": "circle"
         },
         "mode": "markers",
         "name": "Ixobrychus",
         "scene": "scene",
         "showlegend": true,
         "type": "scatter3d",
         "x": [
          -0.9313734173066494,
          -1.288693462169567,
          -1.5460162967533473
         ],
         "y": [
          0.3638717279160255,
          -0.21398924985023293,
          -0.07608167295417617
         ],
         "z": [
          -0.48895454258941584,
          -0.4778101400367887,
          -0.18602453368985153
         ]
        },
        {
         "hovertemplate": "color=Jabiru<br>PCA1=%{x}<br>PCA2=%{y}<br>PCA3=%{z}<extra></extra>",
         "legendgroup": "Jabiru",
         "marker": {
          "color": "#EF553B",
          "symbol": "circle"
         },
         "mode": "markers",
         "name": "Jabiru",
         "scene": "scene",
         "showlegend": true,
         "type": "scatter3d",
         "x": [
          0.03054073317401532,
          0.2796340920654201
         ],
         "y": [
          0.0418534048818188,
          -1.8775811037487027
         ],
         "z": [
          -0.8080841692467937,
          0.1865536771780246
         ]
        },
        {
         "hovertemplate": "color=Jacamerops<br>PCA1=%{x}<br>PCA2=%{y}<br>PCA3=%{z}<extra></extra>",
         "legendgroup": "Jacamerops",
         "marker": {
          "color": "#00cc96",
          "symbol": "circle"
         },
         "mode": "markers",
         "name": "Jacamerops",
         "scene": "scene",
         "showlegend": true,
         "type": "scatter3d",
         "x": [
          -0.0313433893958757,
          -0.8940786653729291,
          -1.4116909870994125
         ],
         "y": [
          0.8299634530396657,
          0.691778637580143,
          0.12464560046685896
         ],
         "z": [
          0.14189541537083708,
          0.19557054726568665,
          0.14993408172096667
         ]
        },
        {
         "hovertemplate": "color=Jacana<br>PCA1=%{x}<br>PCA2=%{y}<br>PCA3=%{z}<extra></extra>",
         "legendgroup": "Jacana",
         "marker": {
          "color": "#ab63fa",
          "symbol": "circle"
         },
         "mode": "markers",
         "name": "Jacana",
         "scene": "scene",
         "showlegend": true,
         "type": "scatter3d",
         "x": [
          -1.094422988729365
         ],
         "y": [
          -0.012662099619998379
         ],
         "z": [
          0.19795838899026033
         ]
        },
        {
         "hovertemplate": "color=Klais<br>PCA1=%{x}<br>PCA2=%{y}<br>PCA3=%{z}<extra></extra>",
         "legendgroup": "Klais",
         "marker": {
          "color": "#FFA15A",
          "symbol": "circle"
         },
         "mode": "markers",
         "name": "Klais",
         "scene": "scene",
         "showlegend": true,
         "type": "scatter3d",
         "x": [
          0.6333268868004143
         ],
         "y": [
          -1.3912824740527985
         ],
         "z": [
          -0.7053911978474119
         ]
        },
        {
         "hovertemplate": "color=Knipolegus<br>PCA1=%{x}<br>PCA2=%{y}<br>PCA3=%{z}<extra></extra>",
         "legendgroup": "Knipolegus",
         "marker": {
          "color": "#19d3f3",
          "symbol": "circle"
         },
         "mode": "markers",
         "name": "Knipolegus",
         "scene": "scene",
         "showlegend": true,
         "type": "scatter3d",
         "x": [
          -1.6236978340209969,
          -1.2325525195261573,
          -1.460942187630539,
          3.1505904528523185,
          -0.6338596694208282,
          0.6503481301494268
         ],
         "y": [
          -0.12278276028077323,
          -0.4494694014777163,
          -0.39050407992042635,
          1.6204950286774602,
          -0.8544283017598016,
          -1.2918824898916281
         ],
         "z": [
          -0.3933012570167873,
          -0.47128556898297425,
          -0.4354715310551483,
          -1.6419907462422902,
          -0.5264193832077275,
          -0.4951614241315041
         ]
        },
        {
         "hovertemplate": "color=Lamprospiza<br>PCA1=%{x}<br>PCA2=%{y}<br>PCA3=%{z}<extra></extra>",
         "legendgroup": "Lamprospiza",
         "marker": {
          "color": "#FF6692",
          "symbol": "circle"
         },
         "mode": "markers",
         "name": "Lamprospiza",
         "scene": "scene",
         "showlegend": true,
         "type": "scatter3d",
         "x": [
          2.555296457031033,
          0.7559650405193157
         ],
         "y": [
          -0.0424991236211021,
          -0.6122391054836619
         ],
         "z": [
          -0.8114598521548011,
          -0.20323044478304514
         ]
        },
        {
         "hovertemplate": "color=Laniisoma<br>PCA1=%{x}<br>PCA2=%{y}<br>PCA3=%{z}<extra></extra>",
         "legendgroup": "Laniisoma",
         "marker": {
          "color": "#B6E880",
          "symbol": "circle"
         },
         "mode": "markers",
         "name": "Laniisoma",
         "scene": "scene",
         "showlegend": true,
         "type": "scatter3d",
         "x": [
          1.0515683967380915,
          1.0237756447265527
         ],
         "y": [
          0.21842464768396996,
          -0.34547108739555143
         ],
         "z": [
          -0.5672319804449528,
          -0.13068648957884682
         ]
        },
        {
         "hovertemplate": "color=Lanio<br>PCA1=%{x}<br>PCA2=%{y}<br>PCA3=%{z}<extra></extra>",
         "legendgroup": "Lanio",
         "marker": {
          "color": "#FF97FF",
          "symbol": "circle"
         },
         "mode": "markers",
         "name": "Lanio",
         "scene": "scene",
         "showlegend": true,
         "type": "scatter3d",
         "x": [
          -0.4393779945876312,
          0.10424768389812768
         ],
         "y": [
          0.2772302771854064,
          -0.027600726920620315
         ],
         "z": [
          -0.5284330606015616,
          -0.2380291927828884
         ]
        },
        {
         "hovertemplate": "color=Laniocera<br>PCA1=%{x}<br>PCA2=%{y}<br>PCA3=%{z}<extra></extra>",
         "legendgroup": "Laniocera",
         "marker": {
          "color": "#FECB52",
          "symbol": "circle"
         },
         "mode": "markers",
         "name": "Laniocera",
         "scene": "scene",
         "showlegend": true,
         "type": "scatter3d",
         "x": [
          1.4503066832164928
         ],
         "y": [
          -0.4899104433235724
         ],
         "z": [
          0.1097168795642462
         ]
        },
        {
         "hovertemplate": "color=Laterallus<br>PCA1=%{x}<br>PCA2=%{y}<br>PCA3=%{z}<extra></extra>",
         "legendgroup": "Laterallus",
         "marker": {
          "color": "#636efa",
          "symbol": "circle"
         },
         "mode": "markers",
         "name": "Laterallus",
         "scene": "scene",
         "showlegend": true,
         "type": "scatter3d",
         "x": [
          -1.137651383712327,
          0.14641214713935635
         ],
         "y": [
          0.17744837999012555,
          -0.9153994429107806
         ],
         "z": [
          0.2839215008472577,
          0.7251964046916816
         ]
        },
        {
         "hovertemplate": "color=Lathrotriccus<br>PCA1=%{x}<br>PCA2=%{y}<br>PCA3=%{z}<extra></extra>",
         "legendgroup": "Lathrotriccus",
         "marker": {
          "color": "#EF553B",
          "symbol": "circle"
         },
         "mode": "markers",
         "name": "Lathrotriccus",
         "scene": "scene",
         "showlegend": true,
         "type": "scatter3d",
         "x": [
          1.1016213472380998,
          0.13237472941319745
         ],
         "y": [
          -0.48040713593115625,
          -0.466370970098052
         ],
         "z": [
          0.05452837762753732,
          -0.2708991114325697
         ]
        },
        {
         "hovertemplate": "color=Legatus<br>PCA1=%{x}<br>PCA2=%{y}<br>PCA3=%{z}<extra></extra>",
         "legendgroup": "Legatus",
         "marker": {
          "color": "#00cc96",
          "symbol": "circle"
         },
         "mode": "markers",
         "name": "Legatus",
         "scene": "scene",
         "showlegend": true,
         "type": "scatter3d",
         "x": [
          1.2868797618260708,
          1.2537323351599678
         ],
         "y": [
          0.18392885893405805,
          -1.0512585296203532
         ],
         "z": [
          -0.5470950028996461,
          -0.22290240237887352
         ]
        },
        {
         "hovertemplate": "color=Leistes<br>PCA1=%{x}<br>PCA2=%{y}<br>PCA3=%{z}<extra></extra>",
         "legendgroup": "Leistes",
         "marker": {
          "color": "#ab63fa",
          "symbol": "circle"
         },
         "mode": "markers",
         "name": "Leistes",
         "scene": "scene",
         "showlegend": true,
         "type": "scatter3d",
         "x": [
          -0.9199675537295781,
          -0.16622704848729183
         ],
         "y": [
          0.28115306645938726,
          0.2622932315689516
         ],
         "z": [
          -0.18876540014027912,
          1.1631543737978347
         ]
        },
        {
         "hovertemplate": "color=Lepidocolaptes<br>PCA1=%{x}<br>PCA2=%{y}<br>PCA3=%{z}<extra></extra>",
         "legendgroup": "Lepidocolaptes",
         "marker": {
          "color": "#FFA15A",
          "symbol": "circle"
         },
         "mode": "markers",
         "name": "Lepidocolaptes",
         "scene": "scene",
         "showlegend": true,
         "type": "scatter3d",
         "x": [
          -1.492251087318583,
          4.203118445184521,
          0.54930392759301
         ],
         "y": [
          -0.0005985463641545212,
          -0.7919837753765465,
          1.1830737856812528
         ],
         "z": [
          0.33215519413161054,
          -0.6755243265326072,
          0.4348293427258538
         ]
        },
        {
         "hovertemplate": "color=Lepidothrix<br>PCA1=%{x}<br>PCA2=%{y}<br>PCA3=%{z}<extra></extra>",
         "legendgroup": "Lepidothrix",
         "marker": {
          "color": "#19d3f3",
          "symbol": "circle"
         },
         "mode": "markers",
         "name": "Lepidothrix",
         "scene": "scene",
         "showlegend": true,
         "type": "scatter3d",
         "x": [
          0.1896978000952638,
          -1.0454777464792062,
          -0.3808690972568226,
          -0.9688504639472155,
          -0.9193780631271407,
          -1.2665840926526217,
          1.5860286273501785
         ],
         "y": [
          -0.010020759022759805,
          -0.4235468024174719,
          0.35592871324109804,
          0.16195913580272334,
          0.18911486736017039,
          -0.3534169492943872,
          0.06550475264193825
         ],
         "z": [
          -0.42420816522921007,
          -0.14901795016731886,
          -0.3485080450334339,
          -0.09419790024481352,
          -0.1941458285373373,
          -0.3329144252523103,
          -0.6788043477066688
         ]
        },
        {
         "hovertemplate": "color=Leptodon<br>PCA1=%{x}<br>PCA2=%{y}<br>PCA3=%{z}<extra></extra>",
         "legendgroup": "Leptodon",
         "marker": {
          "color": "#FF6692",
          "symbol": "circle"
         },
         "mode": "markers",
         "name": "Leptodon",
         "scene": "scene",
         "showlegend": true,
         "type": "scatter3d",
         "x": [
          5.192704401418022,
          -1.1875694872642457
         ],
         "y": [
          -10.205935139995237,
          0.3020871673678529
         ],
         "z": [
          -1.2616894682592807,
          -0.22993087590173747
         ]
        },
        {
         "hovertemplate": "color=Leptopogon<br>PCA1=%{x}<br>PCA2=%{y}<br>PCA3=%{z}<extra></extra>",
         "legendgroup": "Leptopogon",
         "marker": {
          "color": "#B6E880",
          "symbol": "circle"
         },
         "mode": "markers",
         "name": "Leptopogon",
         "scene": "scene",
         "showlegend": true,
         "type": "scatter3d",
         "x": [
          -1.5589428938221273,
          -1.4700064292115935,
          -0.8723428678503911,
          -1.403135450829736,
          0.48680242121649797,
          0.10638884403501749,
          -0.932819037387505
         ],
         "y": [
          -0.05869773543586499,
          0.05398522952523354,
          0.26446041369494694,
          -0.2237468927871747,
          -0.15937517454094743,
          -0.21894421741552142,
          -0.10603001866450543
         ],
         "z": [
          -0.27475188475832824,
          0.13883874390519446,
          -0.39225415213848774,
          -0.372273474098565,
          -0.22834224501556538,
          -0.6729701120416496,
          -0.37229518998444977
         ]
        },
        {
         "hovertemplate": "color=Leptosittaca<br>PCA1=%{x}<br>PCA2=%{y}<br>PCA3=%{z}<extra></extra>",
         "legendgroup": "Leptosittaca",
         "marker": {
          "color": "#FF97FF",
          "symbol": "circle"
         },
         "mode": "markers",
         "name": "Leptosittaca",
         "scene": "scene",
         "showlegend": true,
         "type": "scatter3d",
         "x": [
          -0.8963076465825575,
          -1.346349951030901
         ],
         "y": [
          -0.3151141400596762,
          -0.1732612896273461
         ],
         "z": [
          0.2402936822550597,
          -0.4126837107582993
         ]
        },
        {
         "hovertemplate": "color=Leptotila<br>PCA1=%{x}<br>PCA2=%{y}<br>PCA3=%{z}<extra></extra>",
         "legendgroup": "Leptotila",
         "marker": {
          "color": "#FECB52",
          "symbol": "circle"
         },
         "mode": "markers",
         "name": "Leptotila",
         "scene": "scene",
         "showlegend": true,
         "type": "scatter3d",
         "x": [
          0.3380509692320272,
          0.14105800167593932,
          -0.4445962685603476,
          -0.6566906089297463
         ],
         "y": [
          0.3819828617914248,
          0.506943458586165,
          0.3959758833617513,
          0.4571745819049671
         ],
         "z": [
          -0.024726445339532686,
          -0.5465863300977053,
          -0.39688357139251096,
          -0.3323342054707086
         ]
        },
        {
         "hovertemplate": "color=Leucopternis<br>PCA1=%{x}<br>PCA2=%{y}<br>PCA3=%{z}<extra></extra>",
         "legendgroup": "Leucopternis",
         "marker": {
          "color": "#636efa",
          "symbol": "circle"
         },
         "mode": "markers",
         "name": "Leucopternis",
         "scene": "scene",
         "showlegend": true,
         "type": "scatter3d",
         "x": [
          -1.0988854719996421,
          -1.1783091819766334,
          -0.8020611913326167,
          -0.30683128588276504
         ],
         "y": [
          0.1034411882701176,
          0.10124841183317086,
          -0.011217944622463581,
          -1.0579140979284645
         ],
         "z": [
          -0.3046928162404771,
          -0.25447725354818695,
          -0.07130922402716833,
          0.13833174567691975
         ]
        },
        {
         "hovertemplate": "color=Limnodromus<br>PCA1=%{x}<br>PCA2=%{y}<br>PCA3=%{z}<extra></extra>",
         "legendgroup": "Limnodromus",
         "marker": {
          "color": "#EF553B",
          "symbol": "circle"
         },
         "mode": "markers",
         "name": "Limnodromus",
         "scene": "scene",
         "showlegend": true,
         "type": "scatter3d",
         "x": [
          0.9982879242376486
         ],
         "y": [
          -0.48884918361524093
         ],
         "z": [
          -0.19179372081318397
         ]
        },
        {
         "hovertemplate": "color=Limosa<br>PCA1=%{x}<br>PCA2=%{y}<br>PCA3=%{z}<extra></extra>",
         "legendgroup": "Limosa",
         "marker": {
          "color": "#00cc96",
          "symbol": "circle"
         },
         "mode": "markers",
         "name": "Limosa",
         "scene": "scene",
         "showlegend": true,
         "type": "scatter3d",
         "x": [
          0.07364082267078417,
          0.16432917108818343
         ],
         "y": [
          -0.9654988895232606,
          -0.9498141461260977
         ],
         "z": [
          -0.015524246240100851,
          -0.43534110173062607
         ]
        },
        {
         "hovertemplate": "color=Liosceles<br>PCA1=%{x}<br>PCA2=%{y}<br>PCA3=%{z}<extra></extra>",
         "legendgroup": "Liosceles",
         "marker": {
          "color": "#ab63fa",
          "symbol": "circle"
         },
         "mode": "markers",
         "name": "Liosceles",
         "scene": "scene",
         "showlegend": true,
         "type": "scatter3d",
         "x": [
          6.9407806862532375,
          4.342446647343722,
          -1.0243382260358112
         ],
         "y": [
          3.345629161824616,
          5.110006635353312,
          -0.4797532467073481
         ],
         "z": [
          -2.265037372226177,
          -0.5886101192289769,
          -0.342880481325502
         ]
        },
        {
         "hovertemplate": "color=Lochmias<br>PCA1=%{x}<br>PCA2=%{y}<br>PCA3=%{z}<extra></extra>",
         "legendgroup": "Lochmias",
         "marker": {
          "color": "#FFA15A",
          "symbol": "circle"
         },
         "mode": "markers",
         "name": "Lochmias",
         "scene": "scene",
         "showlegend": true,
         "type": "scatter3d",
         "x": [
          3.17007516941496,
          -0.044136959002911244
         ],
         "y": [
          -0.303236414120123,
          0.38825496365822276
         ],
         "z": [
          2.458151691539515,
          3.3183126844903663
         ]
        },
        {
         "hovertemplate": "color=Lophornis<br>PCA1=%{x}<br>PCA2=%{y}<br>PCA3=%{z}<extra></extra>",
         "legendgroup": "Lophornis",
         "marker": {
          "color": "#19d3f3",
          "symbol": "circle"
         },
         "mode": "markers",
         "name": "Lophornis",
         "scene": "scene",
         "showlegend": true,
         "type": "scatter3d",
         "x": [
          -1.3371075702880917,
          -1.3622949466506433
         ],
         "y": [
          -0.1402390753359607,
          -0.07683445511599742
         ],
         "z": [
          -0.4944715981272465,
          -0.5498522608544553
         ]
        },
        {
         "hovertemplate": "color=Lophostrix<br>PCA1=%{x}<br>PCA2=%{y}<br>PCA3=%{z}<extra></extra>",
         "legendgroup": "Lophostrix",
         "marker": {
          "color": "#FF6692",
          "symbol": "circle"
         },
         "mode": "markers",
         "name": "Lophostrix",
         "scene": "scene",
         "showlegend": true,
         "type": "scatter3d",
         "x": [
          -0.7016073006227956,
          3.399063162694607
         ],
         "y": [
          0.3145683542367612,
          1.3471560918848724
         ],
         "z": [
          -0.25297760696785676,
          -1.0429041996357462
         ]
        },
        {
         "hovertemplate": "color=Lophotriccus<br>PCA1=%{x}<br>PCA2=%{y}<br>PCA3=%{z}<extra></extra>",
         "legendgroup": "Lophotriccus",
         "marker": {
          "color": "#B6E880",
          "symbol": "circle"
         },
         "mode": "markers",
         "name": "Lophotriccus",
         "scene": "scene",
         "showlegend": true,
         "type": "scatter3d",
         "x": [
          -1.0364281247686724,
          -1.3524100031107618,
          -1.2715171686746225
         ],
         "y": [
          0.10492955860761767,
          -0.4996789804936632,
          -0.1812706752231486
         ],
         "z": [
          0.25480617918709153,
          -0.31255418883713565,
          0.01834274898824156
         ]
        },
        {
         "hovertemplate": "color=Lurocalis<br>PCA1=%{x}<br>PCA2=%{y}<br>PCA3=%{z}<extra></extra>",
         "legendgroup": "Lurocalis",
         "marker": {
          "color": "#FF97FF",
          "symbol": "circle"
         },
         "mode": "markers",
         "name": "Lurocalis",
         "scene": "scene",
         "showlegend": true,
         "type": "scatter3d",
         "x": [
          -0.026075991222505944,
          -0.8583244678257033,
          -0.9640071562588907,
          -1.3644260213525585,
          -1.5617281704835557
         ],
         "y": [
          -0.4038818287478387,
          -0.3751218891716686,
          0.39239913899283496,
          -0.09793214194957302,
          -0.16382812465834595
         ],
         "z": [
          0.25866363508617635,
          -0.4057631545163795,
          0.8987382727889669,
          -0.42038774887532304,
          -0.3391681254758428
         ]
        },
        {
         "hovertemplate": "color=Machaeropterus<br>PCA1=%{x}<br>PCA2=%{y}<br>PCA3=%{z}<extra></extra>",
         "legendgroup": "Machaeropterus",
         "marker": {
          "color": "#FECB52",
          "symbol": "circle"
         },
         "mode": "markers",
         "name": "Machaeropterus",
         "scene": "scene",
         "showlegend": true,
         "type": "scatter3d",
         "x": [
          -0.10568793051646952,
          0.4736355671989862
         ],
         "y": [
          0.13893883814335187,
          0.7826968932315678
         ],
         "z": [
          -0.5488408311840123,
          -0.8081433647593199
         ]
        },
        {
         "hovertemplate": "color=Malacoptila<br>PCA1=%{x}<br>PCA2=%{y}<br>PCA3=%{z}<extra></extra>",
         "legendgroup": "Malacoptila",
         "marker": {
          "color": "#636efa",
          "symbol": "circle"
         },
         "mode": "markers",
         "name": "Malacoptila",
         "scene": "scene",
         "showlegend": true,
         "type": "scatter3d",
         "x": [
          -0.44159351349633674,
          -0.5274321829224513,
          -1.288181621901115,
          -0.5002132195863794,
          -0.7873588324005775
         ],
         "y": [
          0.20259772456171019,
          -0.03012372819556901,
          -0.2130963496155257,
          -0.22430743402383185,
          -0.2320437201708869
         ],
         "z": [
          -0.10183528607445413,
          -0.4179090212154542,
          -0.239209881840121,
          0.3799225003644267,
          -0.12492235155797382
         ]
        },
        {
         "hovertemplate": "color=Margarornis<br>PCA1=%{x}<br>PCA2=%{y}<br>PCA3=%{z}<extra></extra>",
         "legendgroup": "Margarornis",
         "marker": {
          "color": "#EF553B",
          "symbol": "circle"
         },
         "mode": "markers",
         "name": "Margarornis",
         "scene": "scene",
         "showlegend": true,
         "type": "scatter3d",
         "x": [
          -0.48142196730328723,
          0.20282952801328558
         ],
         "y": [
          -0.5345642282974631,
          -1.3319375829124227
         ],
         "z": [
          0.5232202161989904,
          -0.45411970875889485
         ]
        },
        {
         "hovertemplate": "color=Mazaria<br>PCA1=%{x}<br>PCA2=%{y}<br>PCA3=%{z}<extra></extra>",
         "legendgroup": "Mazaria",
         "marker": {
          "color": "#00cc96",
          "symbol": "circle"
         },
         "mode": "markers",
         "name": "Mazaria",
         "scene": "scene",
         "showlegend": true,
         "type": "scatter3d",
         "x": [
          0.04290002264021614
         ],
         "y": [
          0.25310824338544013
         ],
         "z": [
          -0.3198751027347776
         ]
        },
        {
         "hovertemplate": "color=Mecocerculus<br>PCA1=%{x}<br>PCA2=%{y}<br>PCA3=%{z}<extra></extra>",
         "legendgroup": "Mecocerculus",
         "marker": {
          "color": "#ab63fa",
          "symbol": "circle"
         },
         "mode": "markers",
         "name": "Mecocerculus",
         "scene": "scene",
         "showlegend": true,
         "type": "scatter3d",
         "x": [
          5.914471283054189
         ],
         "y": [
          -1.4413034857518425
         ],
         "z": [
          0.6378527299057676
         ]
        },
        {
         "hovertemplate": "color=Megaceryle<br>PCA1=%{x}<br>PCA2=%{y}<br>PCA3=%{z}<extra></extra>",
         "legendgroup": "Megaceryle",
         "marker": {
          "color": "#FFA15A",
          "symbol": "circle"
         },
         "mode": "markers",
         "name": "Megaceryle",
         "scene": "scene",
         "showlegend": true,
         "type": "scatter3d",
         "x": [
          -0.4115413060466449,
          -1.1767484791911147,
          -1.390134445112379
         ],
         "y": [
          -0.14888308848564052,
          0.5650036633180237,
          0.16538872745519564
         ],
         "z": [
          0.4355025957249249,
          1.1384309771476049,
          0.6895567382104766
         ]
        },
        {
         "hovertemplate": "color=Megarynchus<br>PCA1=%{x}<br>PCA2=%{y}<br>PCA3=%{z}<extra></extra>",
         "legendgroup": "Megarynchus",
         "marker": {
          "color": "#19d3f3",
          "symbol": "circle"
         },
         "mode": "markers",
         "name": "Megarynchus",
         "scene": "scene",
         "showlegend": true,
         "type": "scatter3d",
         "x": [
          -0.6536304279586652,
          -0.9587074580492649
         ],
         "y": [
          -0.4496410583954274,
          -0.12874656793447994
         ],
         "z": [
          -0.07407398538615,
          -0.1793551442574003
         ]
        },
        {
         "hovertemplate": "color=Megascops<br>PCA1=%{x}<br>PCA2=%{y}<br>PCA3=%{z}<extra></extra>",
         "legendgroup": "Megascops",
         "marker": {
          "color": "#FF6692",
          "symbol": "circle"
         },
         "mode": "markers",
         "name": "Megascops",
         "scene": "scene",
         "showlegend": true,
         "type": "scatter3d",
         "x": [
          -0.5226781380209867,
          -0.4699648162795191,
          0.8071607186350233,
          0.47895231533163,
          -1.365745253333868,
          0.08223214683383474
         ],
         "y": [
          1.36830865894612,
          0.7470436561995301,
          0.5981164218059178,
          0.8293357426613397,
          0.21619523186239312,
          1.3033503570656597
         ],
         "z": [
          -0.44540387942713455,
          -0.33203221352737083,
          -0.2046185741557221,
          1.0063850007726003,
          1.1023092504269125,
          1.1757101151529095
         ]
        },
        {
         "hovertemplate": "color=Melanerpes<br>PCA1=%{x}<br>PCA2=%{y}<br>PCA3=%{z}<extra></extra>",
         "legendgroup": "Melanerpes",
         "marker": {
          "color": "#B6E880",
          "symbol": "circle"
         },
         "mode": "markers",
         "name": "Melanerpes",
         "scene": "scene",
         "showlegend": true,
         "type": "scatter3d",
         "x": [
          0.32303146873864114,
          -1.3575141092426175,
          -1.3577042386200133
         ],
         "y": [
          -2.305186973000562,
          -0.19950204391686183,
          -0.579242931532712
         ],
         "z": [
          -0.2302442096144198,
          -0.06161988568330125,
          -0.4578473782341523
         ]
        },
        {
         "hovertemplate": "color=Mesembrinibis<br>PCA1=%{x}<br>PCA2=%{y}<br>PCA3=%{z}<extra></extra>",
         "legendgroup": "Mesembrinibis",
         "marker": {
          "color": "#FF97FF",
          "symbol": "circle"
         },
         "mode": "markers",
         "name": "Mesembrinibis",
         "scene": "scene",
         "showlegend": true,
         "type": "scatter3d",
         "x": [
          1.9579136431192266,
          -0.2921833518148509
         ],
         "y": [
          -3.4120492053400118,
          0.7995803366353862
         ],
         "z": [
          -0.921127497077417,
          -0.1813165508268513
         ]
        },
        {
         "hovertemplate": "color=Metallura<br>PCA1=%{x}<br>PCA2=%{y}<br>PCA3=%{z}<extra></extra>",
         "legendgroup": "Metallura",
         "marker": {
          "color": "#FECB52",
          "symbol": "circle"
         },
         "mode": "markers",
         "name": "Metallura",
         "scene": "scene",
         "showlegend": true,
         "type": "scatter3d",
         "x": [
          -0.507764326524288
         ],
         "y": [
          -0.17825879084552343
         ],
         "z": [
          0.16909609686328522
         ]
        },
        {
         "hovertemplate": "color=Metopothrix<br>PCA1=%{x}<br>PCA2=%{y}<br>PCA3=%{z}<extra></extra>",
         "legendgroup": "Metopothrix",
         "marker": {
          "color": "#636efa",
          "symbol": "circle"
         },
         "mode": "markers",
         "name": "Metopothrix",
         "scene": "scene",
         "showlegend": true,
         "type": "scatter3d",
         "x": [
          0.001610583316615981,
          -0.3813588682867907,
          -0.4657210702567629
         ],
         "y": [
          -0.8709779109597099,
          -0.579892649556675,
          0.16587654268047058
         ],
         "z": [
          -0.4862203049127605,
          -0.5719671938952634,
          -0.5965341807119328
         ]
        },
        {
         "hovertemplate": "color=Metriopelia<br>PCA1=%{x}<br>PCA2=%{y}<br>PCA3=%{z}<extra></extra>",
         "legendgroup": "Metriopelia",
         "marker": {
          "color": "#EF553B",
          "symbol": "circle"
         },
         "mode": "markers",
         "name": "Metriopelia",
         "scene": "scene",
         "showlegend": true,
         "type": "scatter3d",
         "x": [
          -1.4963827637048193,
          -0.9627643769100226
         ],
         "y": [
          0.013705912928602345,
          -0.05143270478447203
         ],
         "z": [
          -0.22277600644789677,
          -0.15766120730801086
         ]
        },
        {
         "hovertemplate": "color=Micrastur<br>PCA1=%{x}<br>PCA2=%{y}<br>PCA3=%{z}<extra></extra>",
         "legendgroup": "Micrastur",
         "marker": {
          "color": "#00cc96",
          "symbol": "circle"
         },
         "mode": "markers",
         "name": "Micrastur",
         "scene": "scene",
         "showlegend": true,
         "type": "scatter3d",
         "x": [
          -0.03251991082028025,
          0.3108033228117022,
          -0.29836810740873304,
          0.36229436112328955,
          -0.71148057337471,
          -0.3276761199524131,
          -0.7333344942265045,
          2.145855012819173,
          0.7514492651350844,
          3.8742434796931446,
          0.5136294105898871,
          -0.22206263414610572,
          -0.9434242906449031,
          -1.2720791983022124,
          0.09395712390995047
         ],
         "y": [
          -0.8269247294025277,
          0.18204934294730482,
          0.11633117020725792,
          -0.49467504849589766,
          -0.17893594408911778,
          -0.48146959245553567,
          0.35309795832379226,
          -0.7155186910649541,
          -0.6516385524403648,
          -2.0472280753095666,
          0.447632549657016,
          -0.23653161645579043,
          -0.151760285703735,
          -0.021144637845642536,
          0.6974942757163084
         ],
         "z": [
          -0.2575228560897073,
          0.09885737654585594,
          0.3493476771501161,
          -0.43462270723267044,
          0.7339449158162418,
          -0.44985921944776974,
          -0.23949428738724995,
          -0.2276784555423367,
          0.6485702824915243,
          -0.8897709106538912,
          -0.10069797045520101,
          0.5734254663132281,
          -0.4063373168333804,
          -0.35859545987755936,
          -0.6279486529322528
         ]
        },
        {
         "hovertemplate": "color=Microbates<br>PCA1=%{x}<br>PCA2=%{y}<br>PCA3=%{z}<extra></extra>",
         "legendgroup": "Microbates",
         "marker": {
          "color": "#ab63fa",
          "symbol": "circle"
         },
         "mode": "markers",
         "name": "Microbates",
         "scene": "scene",
         "showlegend": true,
         "type": "scatter3d",
         "x": [
          0.7016524468028064,
          -0.5755653855222561
         ],
         "y": [
          -2.0422196061338296,
          0.27117602362052257
         ],
         "z": [
          -0.060601565782450996,
          0.15791641789707478
         ]
        },
        {
         "hovertemplate": "color=Microcerculus<br>PCA1=%{x}<br>PCA2=%{y}<br>PCA3=%{z}<extra></extra>",
         "legendgroup": "Microcerculus",
         "marker": {
          "color": "#FFA15A",
          "symbol": "circle"
         },
         "mode": "markers",
         "name": "Microcerculus",
         "scene": "scene",
         "showlegend": true,
         "type": "scatter3d",
         "x": [
          -0.6005733164875177,
          -1.2154717991986306,
          -1.1936376475856856,
          -0.7543535960149548
         ],
         "y": [
          0.6369966428680882,
          -0.27450825445812294,
          -0.2583128170302662,
          0.9486823568789995
         ],
         "z": [
          2.132210953344952,
          0.026801383241410615,
          0.10165679004494799,
          4.291744122678381
         ]
        },
        {
         "hovertemplate": "color=Micromonacha<br>PCA1=%{x}<br>PCA2=%{y}<br>PCA3=%{z}<extra></extra>",
         "legendgroup": "Micromonacha",
         "marker": {
          "color": "#19d3f3",
          "symbol": "circle"
         },
         "mode": "markers",
         "name": "Micromonacha",
         "scene": "scene",
         "showlegend": true,
         "type": "scatter3d",
         "x": [
          -1.2527281920176863,
          -1.193810566630458
         ],
         "y": [
          0.19331533495087058,
          0.3714141463192135
         ],
         "z": [
          1.0910049009489806,
          1.2814011746735106
         ]
        },
        {
         "hovertemplate": "color=Micropygia<br>PCA1=%{x}<br>PCA2=%{y}<br>PCA3=%{z}<extra></extra>",
         "legendgroup": "Micropygia",
         "marker": {
          "color": "#FF6692",
          "symbol": "circle"
         },
         "mode": "markers",
         "name": "Micropygia",
         "scene": "scene",
         "showlegend": true,
         "type": "scatter3d",
         "x": [
          -0.7278986923465696,
          1.9879657569565632,
          2.0165709826714293,
          0.36181429796428527
         ],
         "y": [
          0.39349381372165004,
          -1.3333510441560674,
          -0.917550626982749,
          -0.6987064509220124
         ],
         "z": [
          2.3966663416736513,
          0.3222503535758593,
          0.5436203922075383,
          0.45214645311048945
         ]
        },
        {
         "hovertemplate": "color=Microrhopias<br>PCA1=%{x}<br>PCA2=%{y}<br>PCA3=%{z}<extra></extra>",
         "legendgroup": "Microrhopias",
         "marker": {
          "color": "#B6E880",
          "symbol": "circle"
         },
         "mode": "markers",
         "name": "Microrhopias",
         "scene": "scene",
         "showlegend": true,
         "type": "scatter3d",
         "x": [
          0.8519612084847179,
          2.379716159901243
         ],
         "y": [
          0.06611798349861475,
          1.2691649453211455
         ],
         "z": [
          0.11553466330633923,
          -0.12342416746802543
         ]
        },
        {
         "hovertemplate": "color=Microxenops<br>PCA1=%{x}<br>PCA2=%{y}<br>PCA3=%{z}<extra></extra>",
         "legendgroup": "Microxenops",
         "marker": {
          "color": "#FF97FF",
          "symbol": "circle"
         },
         "mode": "markers",
         "name": "Microxenops",
         "scene": "scene",
         "showlegend": true,
         "type": "scatter3d",
         "x": [
          -1.4059092849002768,
          -0.8070960063242957
         ],
         "y": [
          0.09076852766853821,
          0.7979403909091715
         ],
         "z": [
          0.9043693205818862,
          0.08063210799679367
         ]
        },
        {
         "hovertemplate": "color=Milvago<br>PCA1=%{x}<br>PCA2=%{y}<br>PCA3=%{z}<extra></extra>",
         "legendgroup": "Milvago",
         "marker": {
          "color": "#FECB52",
          "symbol": "circle"
         },
         "mode": "markers",
         "name": "Milvago",
         "scene": "scene",
         "showlegend": true,
         "type": "scatter3d",
         "x": [
          2.5005735293533125,
          -0.18620885253715969,
          -0.3614720530101094,
          -1.5472940005684668,
          -1.5942888248094207
         ],
         "y": [
          0.9093496612423648,
          0.024000647068152657,
          1.377299660480535,
          -0.04093784923707256,
          -0.10731930861226574
         ],
         "z": [
          2.1931628958707288,
          -0.27624995796998564,
          6.848219924019322,
          -0.1861123238356396,
          -0.17247927215894096
         ]
        },
        {
         "hovertemplate": "color=Mimus<br>PCA1=%{x}<br>PCA2=%{y}<br>PCA3=%{z}<extra></extra>",
         "legendgroup": "Mimus",
         "marker": {
          "color": "#636efa",
          "symbol": "circle"
         },
         "mode": "markers",
         "name": "Mimus",
         "scene": "scene",
         "showlegend": true,
         "type": "scatter3d",
         "x": [
          -1.201155932388717,
          -1.3708943720099607,
          -0.5145163240770894
         ],
         "y": [
          0.15504366956294371,
          0.06906554940424703,
          -0.13213715048921393
         ],
         "z": [
          -0.3839854345266722,
          -0.4845309903457059,
          -0.3676956824898016
         ]
        },
        {
         "hovertemplate": "color=Mionectes<br>PCA1=%{x}<br>PCA2=%{y}<br>PCA3=%{z}<extra></extra>",
         "legendgroup": "Mionectes",
         "marker": {
          "color": "#EF553B",
          "symbol": "circle"
         },
         "mode": "markers",
         "name": "Mionectes",
         "scene": "scene",
         "showlegend": true,
         "type": "scatter3d",
         "x": [
          -0.6811635888190553,
          3.363088421870191,
          0.8544805681194837,
          0.5007300314652547,
          0.2213147733632192,
          0.2784904482391913,
          3.023090451969438,
          0.4299120108306013
         ],
         "y": [
          0.7235419420753724,
          -1.2944434548856418,
          -0.8787275947275213,
          -0.5643730429689182,
          0.4369024879315228,
          -1.3557124140073191,
          -6.6764970998593025,
          -0.3205186116304317
         ],
         "z": [
          0.02326251292345038,
          -0.2871042469131828,
          -0.0632795366068496,
          0.5547874496595476,
          0.4942281321144208,
          -0.15824856007576063,
          -0.42611814916724994,
          -0.7049092286484012
         ]
        },
        {
         "hovertemplate": "color=Mitu<br>PCA1=%{x}<br>PCA2=%{y}<br>PCA3=%{z}<extra></extra>",
         "legendgroup": "Mitu",
         "marker": {
          "color": "#00cc96",
          "symbol": "circle"
         },
         "mode": "markers",
         "name": "Mitu",
         "scene": "scene",
         "showlegend": true,
         "type": "scatter3d",
         "x": [
          0.7752600766071155,
          1.0431294360491903
         ],
         "y": [
          -0.03596526546450792,
          -0.03336344856704295
         ],
         "z": [
          -0.6400640472651967,
          1.4612072036389678
         ]
        },
        {
         "hovertemplate": "color=Molothrus<br>PCA1=%{x}<br>PCA2=%{y}<br>PCA3=%{z}<extra></extra>",
         "legendgroup": "Molothrus",
         "marker": {
          "color": "#ab63fa",
          "symbol": "circle"
         },
         "mode": "markers",
         "name": "Molothrus",
         "scene": "scene",
         "showlegend": true,
         "type": "scatter3d",
         "x": [
          5.849918113405362,
          -0.04683487642863311,
          0.7170717435421358,
          -1.4723816112760526,
          -1.4775731921646684
         ],
         "y": [
          2.455935591341105,
          0.3728405817173275,
          0.13046626973678382,
          -0.2081227322888311,
          -0.22707564952976272
         ],
         "z": [
          -0.2055300488283088,
          -0.2635516521966471,
          0.7643156121976754,
          -0.3271488152294838,
          -0.08708124074563063
         ]
        },
        {
         "hovertemplate": "color=Momotus<br>PCA1=%{x}<br>PCA2=%{y}<br>PCA3=%{z}<extra></extra>",
         "legendgroup": "Momotus",
         "marker": {
          "color": "#FFA15A",
          "symbol": "circle"
         },
         "mode": "markers",
         "name": "Momotus",
         "scene": "scene",
         "showlegend": true,
         "type": "scatter3d",
         "x": [
          -0.7851660812995442,
          -0.600088485799111,
          -1.0808662683684624,
          1.0001472986134883,
          -0.429912998327903
         ],
         "y": [
          -0.15571801261488258,
          -0.012689439170512627,
          -0.3183871452322594,
          1.5904566368729376,
          -0.05928890362010472
         ],
         "z": [
          -0.32203467446660605,
          -0.5009583771596121,
          0.2870591480022085,
          -1.0088718003544184,
          -0.10798387861946719
         ]
        },
        {
         "hovertemplate": "color=Monasa<br>PCA1=%{x}<br>PCA2=%{y}<br>PCA3=%{z}<extra></extra>",
         "legendgroup": "Monasa",
         "marker": {
          "color": "#19d3f3",
          "symbol": "circle"
         },
         "mode": "markers",
         "name": "Monasa",
         "scene": "scene",
         "showlegend": true,
         "type": "scatter3d",
         "x": [
          0.10655678429229755,
          -0.5287914707334459,
          -0.381172764917699,
          1.3298954562536545,
          0.4978712469963708,
          0.2644542770215548
         ],
         "y": [
          -0.9081418041004035,
          -1.4525929015292274,
          0.5565399661304337,
          -2.9026257346496593,
          0.043573223718964264,
          -0.24486182121630934
         ],
         "z": [
          0.858271196586982,
          0.4994619076657633,
          4.097519122935562,
          -0.34180142856836926,
          2.4471095153640845,
          1.9909330326678947
         ]
        },
        {
         "hovertemplate": "color=Morphnus<br>PCA1=%{x}<br>PCA2=%{y}<br>PCA3=%{z}<extra></extra>",
         "legendgroup": "Morphnus",
         "marker": {
          "color": "#FF6692",
          "symbol": "circle"
         },
         "mode": "markers",
         "name": "Morphnus",
         "scene": "scene",
         "showlegend": true,
         "type": "scatter3d",
         "x": [
          -1.464069255000576
         ],
         "y": [
          -0.13462668833624014
         ],
         "z": [
          -0.30381401899421373
         ]
        },
        {
         "hovertemplate": "color=Myadestes<br>PCA1=%{x}<br>PCA2=%{y}<br>PCA3=%{z}<extra></extra>",
         "legendgroup": "Myadestes",
         "marker": {
          "color": "#B6E880",
          "symbol": "circle"
         },
         "mode": "markers",
         "name": "Myadestes",
         "scene": "scene",
         "showlegend": true,
         "type": "scatter3d",
         "x": [
          0.334394550630263,
          -0.17330693075649553,
          0.7899417650215922
         ],
         "y": [
          -0.34870635617019413,
          -0.24241444707495782,
          0.21718912211967914
         ],
         "z": [
          -0.2811357511305294,
          0.29029105180386344,
          -0.2748932925365699
         ]
        },
        {
         "hovertemplate": "color=Mycteria<br>PCA1=%{x}<br>PCA2=%{y}<br>PCA3=%{z}<extra></extra>",
         "legendgroup": "Mycteria",
         "marker": {
          "color": "#FF97FF",
          "symbol": "circle"
         },
         "mode": "markers",
         "name": "Mycteria",
         "scene": "scene",
         "showlegend": true,
         "type": "scatter3d",
         "x": [
          5.076531450578424,
          -0.9970917519459345,
          9.116563698304127
         ],
         "y": [
          -0.4577061013711233,
          0.05012716548715583,
          -3.3155051513201683
         ],
         "z": [
          6.235505693864623,
          -0.32060968668962314,
          3.2616193141609884
         ]
        },
        {
         "hovertemplate": "color=Myiarchus<br>PCA1=%{x}<br>PCA2=%{y}<br>PCA3=%{z}<extra></extra>",
         "legendgroup": "Myiarchus",
         "marker": {
          "color": "#FECB52",
          "symbol": "circle"
         },
         "mode": "markers",
         "name": "Myiarchus",
         "scene": "scene",
         "showlegend": true,
         "type": "scatter3d",
         "x": [
          -0.15371392839730624,
          -0.6790528779549603,
          -1.097030667192625,
          -0.2677175295859866,
          0.2309071330289242,
          0.851021843046648,
          -0.49414651584717834,
          -0.1258702475282727,
          0.3310656599111675,
          0.9217892197377844,
          -0.8372525039852142,
          -0.9963397868356598,
          -1.1719207573048356,
          0.6890395248023795,
          -0.035618215207617994,
          -0.7716232395848043
         ],
         "y": [
          -0.44715855023019885,
          0.10010807706326917,
          0.45508647122033374,
          0.08040382353884945,
          0.2117140570151947,
          -0.3025328432840943,
          -0.06417097347698866,
          -0.209826797133552,
          -0.3020247444970534,
          1.6838421226809976,
          0.2549444303222443,
          0.26890623924858276,
          0.006421155195546161,
          -0.3443803260117432,
          0.5764418112447404,
          -0.09615980148977546
         ],
         "z": [
          -0.6506025172352224,
          -0.22687975052596,
          -0.6834634236040369,
          -0.2556221027330621,
          -0.7896689432148117,
          -0.03572352414523454,
          -0.18962167869606422,
          -0.33999712852578445,
          -0.11745941809844765,
          -0.9838766343649752,
          -0.27992920716217823,
          -0.02249236845616338,
          -0.24474811443335384,
          0.04643190456956704,
          -0.1775534539945006,
          -0.127402355753543
         ]
        },
        {
         "hovertemplate": "color=Myiobius<br>PCA1=%{x}<br>PCA2=%{y}<br>PCA3=%{z}<extra></extra>",
         "legendgroup": "Myiobius",
         "marker": {
          "color": "#636efa",
          "symbol": "circle"
         },
         "mode": "markers",
         "name": "Myiobius",
         "scene": "scene",
         "showlegend": true,
         "type": "scatter3d",
         "x": [
          0.05417444804372825,
          -1.5672739643894247,
          1.110773100605175,
          -0.4298924107157221,
          -1.2190147890686935,
          -1.535426125497428,
          -1.1092993254573724,
          1.854051842778849,
          -0.5266911462703923,
          -0.8561557750067647,
          -1.5013270630055568
         ],
         "y": [
          -0.5675433420173303,
          -0.03299873982237773,
          -0.6735491802443649,
          -0.2546529972707777,
          -0.0631483632511524,
          -0.12955759694649716,
          0.1359682294633755,
          1.9752629228060596,
          0.609933642203801,
          0.03161595094356666,
          -0.01823085435134764
         ],
         "z": [
          -0.7060184653833178,
          -0.30964011717046913,
          -0.3039899242486768,
          -0.023326185633161665,
          -0.5201447004315494,
          -0.4029458397086773,
          -0.3557891852186405,
          -0.9227631917495812,
          -0.6163819690929044,
          -0.5391500082401881,
          -0.3432739522337477
         ]
        },
        {
         "hovertemplate": "color=Myioborus<br>PCA1=%{x}<br>PCA2=%{y}<br>PCA3=%{z}<extra></extra>",
         "legendgroup": "Myioborus",
         "marker": {
          "color": "#EF553B",
          "symbol": "circle"
         },
         "mode": "markers",
         "name": "Myioborus",
         "scene": "scene",
         "showlegend": true,
         "type": "scatter3d",
         "x": [
          -0.2944645528106029,
          0.41277850639410163,
          -0.25389114054985723,
          -0.33782932564918494,
          -0.41723910801819747,
          -0.14923512698477537
         ],
         "y": [
          0.9123550747195113,
          -0.05420912625901799,
          1.738610447442291,
          0.6690110044874881,
          0.22512904491492733,
          0.06992090967197255
         ],
         "z": [
          2.795299532642813,
          -0.8790570090105284,
          -0.2513967083275712,
          -0.07608726533810281,
          -0.7211063706235039,
          0.32217809872588477
         ]
        },
        {
         "hovertemplate": "color=Myiodynastes<br>PCA1=%{x}<br>PCA2=%{y}<br>PCA3=%{z}<extra></extra>",
         "legendgroup": "Myiodynastes",
         "marker": {
          "color": "#00cc96",
          "symbol": "circle"
         },
         "mode": "markers",
         "name": "Myiodynastes",
         "scene": "scene",
         "showlegend": true,
         "type": "scatter3d",
         "x": [
          -0.36395471883787656,
          -0.3210766212005217,
          -1.56204933172007,
          0.13481524933522157,
          12.816009308958039,
          -0.4803690246760807,
          1.562869948528225,
          -1.367039182525791,
          -0.8393932506849433,
          -0.11906636323456848
         ],
         "y": [
          0.4414458029570402,
          0.049955414543266526,
          -0.19482820999563627,
          -0.692128578486626,
          7.454296579508693,
          -0.5421180655502771,
          -0.4252175297870255,
          -0.08577634302207933,
          -0.22739558222867753,
          -0.3488736060163092
         ],
         "z": [
          -0.27063924866073813,
          -0.3608070927169187,
          -0.12246890514850606,
          -0.1593683985219826,
          -4.063242469222828,
          -0.35117813426332867,
          -0.06140399146720185,
          -0.4956195779740905,
          -0.11382565762340616,
          -0.573427778646852
         ]
        },
        {
         "hovertemplate": "color=Myiopagis<br>PCA1=%{x}<br>PCA2=%{y}<br>PCA3=%{z}<extra></extra>",
         "legendgroup": "Myiopagis",
         "marker": {
          "color": "#ab63fa",
          "symbol": "circle"
         },
         "mode": "markers",
         "name": "Myiopagis",
         "scene": "scene",
         "showlegend": true,
         "type": "scatter3d",
         "x": [
          0.010667615941703491,
          0.4098554743508911,
          1.283435163251892,
          -1.2770961023356688,
          -0.35915662757664807,
          -0.4448376967749803,
          1.1139990317089374,
          -0.2905439119087734,
          2.844660039052161,
          -1.5927154625766218,
          0.43046927775391997,
          0.5349316464126318,
          -1.1344906367035117,
          -0.32276335472727413
         ],
         "y": [
          -0.03946067530236453,
          0.11288120226948553,
          0.9229398522413671,
          -0.6860811611004157,
          0.42538988530587674,
          0.9870149974540642,
          2.020150180664787,
          1.8083556329739259,
          2.860627302156678,
          -0.1467682750260873,
          1.162673635608504,
          1.9944610162280252,
          0.19092276426000038,
          1.2357073973052712
         ],
         "z": [
          0.035254501408810826,
          0.23531023027381215,
          -0.31397408065851357,
          -0.3963384564208699,
          -0.16547499929628712,
          -0.7106648022615296,
          -1.1667851622861387,
          -0.9320804133014775,
          -1.658855231119586,
          -0.23729321749406654,
          -0.6616731969710036,
          -1.0791547970563684,
          -0.31945967280525916,
          -0.6233349053184466
         ]
        },
        {
         "hovertemplate": "color=Myiophobus<br>PCA1=%{x}<br>PCA2=%{y}<br>PCA3=%{z}<extra></extra>",
         "legendgroup": "Myiophobus",
         "marker": {
          "color": "#FFA15A",
          "symbol": "circle"
         },
         "mode": "markers",
         "name": "Myiophobus",
         "scene": "scene",
         "showlegend": true,
         "type": "scatter3d",
         "x": [
          -0.7721666988157591,
          -1.3167982380812415,
          -0.6994716056927816,
          -1.4867243580272458
         ],
         "y": [
          0.24555672674049298,
          0.10361504145398762,
          0.10526503216256256,
          -0.3614634691915659
         ],
         "z": [
          -0.18097598722945404,
          -0.06149408414191918,
          -0.5354700419702018,
          -0.4611726763204502
         ]
        },
        {
         "hovertemplate": "color=Myiornis<br>PCA1=%{x}<br>PCA2=%{y}<br>PCA3=%{z}<extra></extra>",
         "legendgroup": "Myiornis",
         "marker": {
          "color": "#19d3f3",
          "symbol": "circle"
         },
         "mode": "markers",
         "name": "Myiornis",
         "scene": "scene",
         "showlegend": true,
         "type": "scatter3d",
         "x": [
          0.3351863434309969,
          -0.5123980241006312,
          -1.19075097697976
         ],
         "y": [
          -0.027971165794062648,
          0.26726032579606346,
          0.11151135104420445
         ],
         "z": [
          -0.10111650198115198,
          -0.1879609949860355,
          0.9099125211571547
         ]
        },
        {
         "hovertemplate": "color=Myiotheretes<br>PCA1=%{x}<br>PCA2=%{y}<br>PCA3=%{z}<extra></extra>",
         "legendgroup": "Myiotheretes",
         "marker": {
          "color": "#FF6692",
          "symbol": "circle"
         },
         "mode": "markers",
         "name": "Myiotheretes",
         "scene": "scene",
         "showlegend": true,
         "type": "scatter3d",
         "x": [
          -0.42075567322989343,
          0.4553587999963928,
          -0.07180815279176209,
          -0.7540716132801689,
          -0.7808655762630858,
          -0.06436837011917367
         ],
         "y": [
          0.2661147507066314,
          0.0972046417447923,
          -0.06582643658953731,
          0.915414629694081,
          0.140891935259422,
          0.24473757071982782
         ],
         "z": [
          0.15257136126820608,
          0.6060716803288771,
          0.1776173126218589,
          4.399499110626976,
          -0.16466416755685168,
          -0.3397941234538694
         ]
        },
        {
         "hovertemplate": "color=Myiothlypis<br>PCA1=%{x}<br>PCA2=%{y}<br>PCA3=%{z}<extra></extra>",
         "legendgroup": "Myiothlypis",
         "marker": {
          "color": "#B6E880",
          "symbol": "circle"
         },
         "mode": "markers",
         "name": "Myiothlypis",
         "scene": "scene",
         "showlegend": true,
         "type": "scatter3d",
         "x": [
          -0.32776233239147706,
          -0.4486190086496167,
          -1.2128954239620315,
          -0.399998973313736,
          -0.5861207768433342,
          2.2012574162911993,
          -0.6033719887068647,
          0.5903089320670242,
          -0.47547056300978274,
          -0.4911890509579479,
          1.1402309798743975,
          -0.7343825430872026,
          -1.070965755469662,
          1.0355346530859684,
          -0.7723775916359299
         ],
         "y": [
          0.29334853023108665,
          0.010615967559873693,
          0.19339216706459517,
          0.4235617685583159,
          0.4872230888237277,
          0.6300582947080364,
          -0.022588391560238112,
          1.0311098752838026,
          0.5199275666351508,
          0.006048856530887781,
          0.2939209104929382,
          0.27890344523401944,
          -0.4357500216442717,
          0.4659392082821548,
          0.3249640719514386
         ],
         "z": [
          -0.07967587886950384,
          1.9839011596683518,
          -0.05368695126615881,
          0.17275070949098906,
          0.24880367940060444,
          0.9309551268793431,
          0.5360829272455936,
          7.3944509722704055,
          3.7044028089647165,
          1.0149683866883803,
          1.4332311305610854,
          0.7355118279200258,
          -0.02413466594751691,
          0.8014069685920067,
          2.46022766727033
         ]
        },
        {
         "hovertemplate": "color=Myiotriccus<br>PCA1=%{x}<br>PCA2=%{y}<br>PCA3=%{z}<extra></extra>",
         "legendgroup": "Myiotriccus",
         "marker": {
          "color": "#FF97FF",
          "symbol": "circle"
         },
         "mode": "markers",
         "name": "Myiotriccus",
         "scene": "scene",
         "showlegend": true,
         "type": "scatter3d",
         "x": [
          1.222169785734422,
          -0.3998702176075079,
          0.2701985928294289,
          3.6998131214809344
         ],
         "y": [
          -1.9697382691351557,
          -1.2773064321423255,
          0.33107486062957786,
          -1.522449206801313
         ],
         "z": [
          -0.6920155620679227,
          -0.4936117659983736,
          -0.894221817833004,
          0.6040733063565971
         ]
        },
        {
         "hovertemplate": "color=Myiozetetes<br>PCA1=%{x}<br>PCA2=%{y}<br>PCA3=%{z}<extra></extra>",
         "legendgroup": "Myiozetetes",
         "marker": {
          "color": "#FECB52",
          "symbol": "circle"
         },
         "mode": "markers",
         "name": "Myiozetetes",
         "scene": "scene",
         "showlegend": true,
         "type": "scatter3d",
         "x": [
          -0.32264178527537457,
          -1.2744177803874475,
          1.4283902037287042,
          -0.12872698337227945,
          0.4341599870087073,
          1.8085865302003241,
          1.3088299011919364,
          -1.1038673501442864,
          -1.321293611045192,
          -0.9937453232048424,
          1.6908114791604199
         ],
         "y": [
          0.5188080903928258,
          -0.44470840982109894,
          -0.3497098884194198,
          0.8952787315601565,
          -0.3189045439006366,
          -0.8636835853316838,
          0.9921944234863007,
          -0.03356840523615799,
          -0.22968286057333326,
          0.12728894481477276,
          -0.766642640197161
         ],
         "z": [
          1.0424736896309001,
          -0.3205121078976877,
          0.25192658706401494,
          -0.6777155823457357,
          0.26532889038381646,
          0.18070093458510286,
          -0.9239630248115797,
          -0.4378397484491809,
          -0.3818886346856249,
          -0.21498103086895257,
          0.23826396726407517
         ]
        },
        {
         "hovertemplate": "color=Myrmelastes<br>PCA1=%{x}<br>PCA2=%{y}<br>PCA3=%{z}<extra></extra>",
         "legendgroup": "Myrmelastes",
         "marker": {
          "color": "#636efa",
          "symbol": "circle"
         },
         "mode": "markers",
         "name": "Myrmelastes",
         "scene": "scene",
         "showlegend": true,
         "type": "scatter3d",
         "x": [
          0.005316514972229013,
          0.3866611741011475,
          -1.0227807409251284,
          -0.28256624721006873,
          0.4501649196196726,
          -1.2963745098011958,
          -1.1129444344965482,
          1.3067295387483895,
          -1.4614503313412452,
          0.041907474646928664
         ],
         "y": [
          0.25306226216981487,
          -0.34506449642249293,
          0.6941504016452077,
          0.10672990696378544,
          1.2402496842151807,
          -0.2575034776172471,
          -0.3358566251982014,
          1.552451522330255,
          0.07931556858312894,
          1.8623546512612095
         ],
         "z": [
          0.6847613600338882,
          1.5824644369307599,
          -0.6455752936390203,
          0.9369441825826472,
          0.36700545334053475,
          -0.2987800324876191,
          -0.4353720796536039,
          0.49891423551992053,
          0.11813965504272117,
          9.190187521798007
         ]
        },
        {
         "hovertemplate": "color=Myrmoborus<br>PCA1=%{x}<br>PCA2=%{y}<br>PCA3=%{z}<extra></extra>",
         "legendgroup": "Myrmoborus",
         "marker": {
          "color": "#EF553B",
          "symbol": "circle"
         },
         "mode": "markers",
         "name": "Myrmoborus",
         "scene": "scene",
         "showlegend": true,
         "type": "scatter3d",
         "x": [
          -1.2956574544927018,
          0.7669993491521199,
          -1.0779174320357816,
          -0.1667108526135352,
          -0.04282407978181474,
          -0.6733171432685497
         ],
         "y": [
          0.046106785957617184,
          0.5158932293248375,
          0.3004800985934405,
          0.3618785545605946,
          -0.6602024535379527,
          0.5969996894127682
         ],
         "z": [
          -0.3630468908483528,
          0.7325220403731013,
          0.67028328150345,
          1.8369372949778848,
          0.15472717098616737,
          0.4792924025951117
         ]
        },
        {
         "hovertemplate": "color=Myrmophylax<br>PCA1=%{x}<br>PCA2=%{y}<br>PCA3=%{z}<extra></extra>",
         "legendgroup": "Myrmophylax",
         "marker": {
          "color": "#00cc96",
          "symbol": "circle"
         },
         "mode": "markers",
         "name": "Myrmophylax",
         "scene": "scene",
         "showlegend": true,
         "type": "scatter3d",
         "x": [
          0.011974793596520837,
          -1.2287144874355482,
          -1.3945682984968537
         ],
         "y": [
          0.8548103222239773,
          -0.08317264812578247,
          -0.16481488800642585
         ],
         "z": [
          0.04321991216694734,
          -0.23104069417198544,
          -0.3132880419506124
         ]
        },
        {
         "hovertemplate": "color=Myrmothera<br>PCA1=%{x}<br>PCA2=%{y}<br>PCA3=%{z}<extra></extra>",
         "legendgroup": "Myrmothera",
         "marker": {
          "color": "#ab63fa",
          "symbol": "circle"
         },
         "mode": "markers",
         "name": "Myrmothera",
         "scene": "scene",
         "showlegend": true,
         "type": "scatter3d",
         "x": [
          1.0613156567003317,
          -0.3520422315359846,
          -0.7098451606490291
         ],
         "y": [
          1.918420191024285,
          1.2277354648379795,
          0.8621552275529567
         ],
         "z": [
          -0.3072247259335115,
          -0.20053987270055776,
          -0.3706390246585397
         ]
        },
        {
         "hovertemplate": "color=Myrmotherula<br>PCA1=%{x}<br>PCA2=%{y}<br>PCA3=%{z}<extra></extra>",
         "legendgroup": "Myrmotherula",
         "marker": {
          "color": "#FFA15A",
          "symbol": "circle"
         },
         "mode": "markers",
         "name": "Myrmotherula",
         "scene": "scene",
         "showlegend": true,
         "type": "scatter3d",
         "x": [
          -1.0014688336026376,
          -0.5893081288652308,
          -0.18234530616574998,
          -1.0776726353621398,
          0.15684217558414487,
          1.7795863590384515,
          0.5233521429179182,
          -1.0330226974945023,
          0.3874200726229347,
          1.6609317609980963,
          0.9270948663515023,
          1.687092548289099,
          2.9612829815260264,
          -0.5451141216113923,
          0.21000068211088896,
          -1.0930818397882034,
          -1.5174295113421883,
          0.6235285799829382,
          -0.9827661892590821,
          -0.5106113679026248,
          2.37939420614901,
          -1.154930162516209,
          0.7104325636930097,
          1.64335363794592,
          -0.2498489054026576,
          3.23156226795811,
          -0.8830692558433959,
          -0.9500141602484901,
          1.4808108408728993,
          0.4528556824231838,
          1.9893157445991925
         ],
         "y": [
          -0.2811195770020766,
          0.4863949414084976,
          0.941453553038276,
          -0.21189914592803144,
          0.4152058029507694,
          2.0696189151187587,
          0.050064953679889175,
          0.2722429717145502,
          0.06483750049453776,
          -0.5043779558791633,
          0.35297120270546667,
          -0.07455526032890408,
          1.0939719179657794,
          0.7317402374768178,
          1.783183302588648,
          0.3344758566797674,
          -0.11709890849377541,
          -0.0761753555396757,
          0.43880393443397886,
          0.9340651243767097,
          2.467659842600567,
          0.40350692567846264,
          0.08119770746082737,
          2.811761217273132,
          -0.7752394140572708,
          0.720865254711105,
          0.02585047173609024,
          0.08317397230854594,
          -0.3278150734361717,
          -1.1324561920619232,
          -0.8984932388878377
         ],
         "z": [
          -0.0898764508847482,
          0.6162141025499943,
          0.15367608245419256,
          -0.07307038518368392,
          -0.23654827134118514,
          -0.29480795388353376,
          0.6418716248534465,
          0.09393076811341082,
          1.3399634623793832,
          -0.42017963590100593,
          2.644519858516362,
          2.620270812336416,
          3.053192695500521,
          -0.8885900148086406,
          0.5133787514803823,
          0.5057824730653924,
          -0.12095368096637449,
          2.3719911686593025,
          0.6793144020856302,
          1.4669730818303137,
          1.8284648012792117,
          -0.22238580338530115,
          2.710930996776377,
          -1.7249243538448458,
          -0.14016313452859192,
          -0.0925113296157976,
          -0.14703311242588687,
          -0.5195452168737,
          -0.20855611983051028,
          -0.3103608743104521,
          -0.36327077406369296
         ]
        },
        {
         "hovertemplate": "color=Nannopsittaca<br>PCA1=%{x}<br>PCA2=%{y}<br>PCA3=%{z}<extra></extra>",
         "legendgroup": "Nannopsittaca",
         "marker": {
          "color": "#19d3f3",
          "symbol": "circle"
         },
         "mode": "markers",
         "name": "Nannopsittaca",
         "scene": "scene",
         "showlegend": true,
         "type": "scatter3d",
         "x": [
          -0.7236217753137395,
          -1.5415600957781088
         ],
         "y": [
          -0.47051963318961787,
          -0.14450616921527087
         ],
         "z": [
          0.005752571981404349,
          -0.11568333335108034
         ]
        },
        {
         "hovertemplate": "color=Nasica<br>PCA1=%{x}<br>PCA2=%{y}<br>PCA3=%{z}<extra></extra>",
         "legendgroup": "Nasica",
         "marker": {
          "color": "#FF6692",
          "symbol": "circle"
         },
         "mode": "markers",
         "name": "Nasica",
         "scene": "scene",
         "showlegend": true,
         "type": "scatter3d",
         "x": [
          -1.4860939348747553
         ],
         "y": [
          -0.21631782190841026
         ],
         "z": [
          -0.1728411397910826
         ]
        },
        {
         "hovertemplate": "color=Nemosia<br>PCA1=%{x}<br>PCA2=%{y}<br>PCA3=%{z}<extra></extra>",
         "legendgroup": "Nemosia",
         "marker": {
          "color": "#B6E880",
          "symbol": "circle"
         },
         "mode": "markers",
         "name": "Nemosia",
         "scene": "scene",
         "showlegend": true,
         "type": "scatter3d",
         "x": [
          -0.9631945340588394,
          2.4327731206019236,
          -1.4234503711180273
         ],
         "y": [
          -1.1266336026290675,
          -5.118878211166063,
          0.18278978026016815
         ],
         "z": [
          -0.3209177349607985,
          -0.1724177533320402,
          -0.29435456799123694
         ]
        },
        {
         "hovertemplate": "color=Neoctantes<br>PCA1=%{x}<br>PCA2=%{y}<br>PCA3=%{z}<extra></extra>",
         "legendgroup": "Neoctantes",
         "marker": {
          "color": "#FF97FF",
          "symbol": "circle"
         },
         "mode": "markers",
         "name": "Neoctantes",
         "scene": "scene",
         "showlegend": true,
         "type": "scatter3d",
         "x": [
          0.8576058055262001,
          0.14653922653666532,
          1.4990291920794934,
          2.4214744555583834
         ],
         "y": [
          -1.9857606668180228,
          -1.1938239023446995,
          -2.0104825321058923,
          4.7557748807486675
         ],
         "z": [
          -0.24887990319824116,
          -0.4285515140984835,
          -0.22144399180061827,
          22.483438348358277
         ]
        },
        {
         "hovertemplate": "color=Neomorphus<br>PCA1=%{x}<br>PCA2=%{y}<br>PCA3=%{z}<extra></extra>",
         "legendgroup": "Neomorphus",
         "marker": {
          "color": "#FECB52",
          "symbol": "circle"
         },
         "mode": "markers",
         "name": "Neomorphus",
         "scene": "scene",
         "showlegend": true,
         "type": "scatter3d",
         "x": [
          -0.8010155347962821
         ],
         "y": [
          0.3226159892889023
         ],
         "z": [
          0.14012751609635757
         ]
        },
        {
         "hovertemplate": "color=Neopelma<br>PCA1=%{x}<br>PCA2=%{y}<br>PCA3=%{z}<extra></extra>",
         "legendgroup": "Neopelma",
         "marker": {
          "color": "#636efa",
          "symbol": "circle"
         },
         "mode": "markers",
         "name": "Neopelma",
         "scene": "scene",
         "showlegend": true,
         "type": "scatter3d",
         "x": [
          -0.45370710319585683,
          -0.24485429059240973,
          -1.080139493470104
         ],
         "y": [
          0.5926900676315371,
          0.9589103868341715,
          0.3191431312523335
         ],
         "z": [
          0.23063837898195705,
          -0.6927733294159517,
          -0.4040460220996231
         ]
        },
        {
         "hovertemplate": "color=Neopipo<br>PCA1=%{x}<br>PCA2=%{y}<br>PCA3=%{z}<extra></extra>",
         "legendgroup": "Neopipo",
         "marker": {
          "color": "#EF553B",
          "symbol": "circle"
         },
         "mode": "markers",
         "name": "Neopipo",
         "scene": "scene",
         "showlegend": true,
         "type": "scatter3d",
         "x": [
          -0.7102857451007506,
          -0.13268692608122987
         ],
         "y": [
          0.5925011429998644,
          0.48708879825495094
         ],
         "z": [
          1.6696113221335516,
          2.3374450504329305
         ]
        },
        {
         "hovertemplate": "color=Nephelomyias<br>PCA1=%{x}<br>PCA2=%{y}<br>PCA3=%{z}<extra></extra>",
         "legendgroup": "Nephelomyias",
         "marker": {
          "color": "#00cc96",
          "symbol": "circle"
         },
         "mode": "markers",
         "name": "Nephelomyias",
         "scene": "scene",
         "showlegend": true,
         "type": "scatter3d",
         "x": [
          -0.7049342552482917,
          -1.3543589638528317
         ],
         "y": [
          0.3807838749364437,
          -0.07811561736630852
         ],
         "z": [
          -0.6528905873923742,
          -0.42534816783549173
         ]
        },
        {
         "hovertemplate": "color=Netta<br>PCA1=%{x}<br>PCA2=%{y}<br>PCA3=%{z}<extra></extra>",
         "legendgroup": "Netta",
         "marker": {
          "color": "#ab63fa",
          "symbol": "circle"
         },
         "mode": "markers",
         "name": "Netta",
         "scene": "scene",
         "showlegend": true,
         "type": "scatter3d",
         "x": [
          -1.4479968324429369,
          -0.9590344065431892,
          -1.4650530626510958
         ],
         "y": [
          -0.06981342191137896,
          -0.32729922918820675,
          -0.0746124009783059
         ],
         "z": [
          -0.30464793350028235,
          -0.17177178905206866,
          -0.17924558288026624
         ]
        },
        {
         "hovertemplate": "color=Nomonyx<br>PCA1=%{x}<br>PCA2=%{y}<br>PCA3=%{z}<extra></extra>",
         "legendgroup": "Nomonyx",
         "marker": {
          "color": "#FFA15A",
          "symbol": "circle"
         },
         "mode": "markers",
         "name": "Nomonyx",
         "scene": "scene",
         "showlegend": true,
         "type": "scatter3d",
         "x": [
          3.290166292747272,
          -0.9188649506417422
         ],
         "y": [
          0.42362312655689977,
          0.5050644191490845
         ],
         "z": [
          0.4634103453136916,
          0.8595466327939144
         ]
        },
        {
         "hovertemplate": "color=Nonnula<br>PCA1=%{x}<br>PCA2=%{y}<br>PCA3=%{z}<extra></extra>",
         "legendgroup": "Nonnula",
         "marker": {
          "color": "#19d3f3",
          "symbol": "circle"
         },
         "mode": "markers",
         "name": "Nonnula",
         "scene": "scene",
         "showlegend": true,
         "type": "scatter3d",
         "x": [
          -0.7071979325716592,
          -0.9289789640369693,
          -0.2119933823277977,
          -1.0880725146076742
         ],
         "y": [
          0.6401352716921618,
          -0.45094150310125114,
          -0.8781965848565952,
          -0.1492091359137815
         ],
         "z": [
          1.6110632169228372,
          -0.3296995417876887,
          -0.3762244426322612,
          0.5267992624351188
         ]
        },
        {
         "hovertemplate": "color=Notharchus<br>PCA1=%{x}<br>PCA2=%{y}<br>PCA3=%{z}<extra></extra>",
         "legendgroup": "Notharchus",
         "marker": {
          "color": "#FF6692",
          "symbol": "circle"
         },
         "mode": "markers",
         "name": "Notharchus",
         "scene": "scene",
         "showlegend": true,
         "type": "scatter3d",
         "x": [
          2.3901957186830955,
          -0.9791903300784778,
          -0.44751177614720195,
          -0.8957436219932475,
          0.32182219267862955,
          -0.8407046553983845,
          -0.03471004969508185,
          -0.9142213215698197,
          -0.09378487851699065
         ],
         "y": [
          2.608972858063706,
          0.49547261040415896,
          0.9710243094539296,
          0.8048071385804606,
          1.8246897663070774,
          0.3396549522184444,
          0.8662235407215607,
          0.9143029807881573,
          0.2710808731017844
         ],
         "z": [
          1.1347955678326496,
          1.1174900715840341,
          -0.5180224061279125,
          3.6307111360790105,
          2.5035576466577756,
          2.1040173255286274,
          4.877920208185411,
          1.8524740025250888,
          -0.2788370030969305
         ]
        },
        {
         "hovertemplate": "color=Nothocercus<br>PCA1=%{x}<br>PCA2=%{y}<br>PCA3=%{z}<extra></extra>",
         "legendgroup": "Nothocercus",
         "marker": {
          "color": "#B6E880",
          "symbol": "circle"
         },
         "mode": "markers",
         "name": "Nothocercus",
         "scene": "scene",
         "showlegend": true,
         "type": "scatter3d",
         "x": [
          -0.9065121831306424,
          0.09614316365543417
         ],
         "y": [
          -0.0019574693979446897,
          0.20757279268802464
         ],
         "z": [
          -0.43179985919240277,
          -0.3606469063566516
         ]
        },
        {
         "hovertemplate": "color=Nyctibius<br>PCA1=%{x}<br>PCA2=%{y}<br>PCA3=%{z}<extra></extra>",
         "legendgroup": "Nyctibius",
         "marker": {
          "color": "#FF97FF",
          "symbol": "circle"
         },
         "mode": "markers",
         "name": "Nyctibius",
         "scene": "scene",
         "showlegend": true,
         "type": "scatter3d",
         "x": [
          -1.3206246664739758,
          -1.1977215982900804,
          0.8767648636710969,
          -0.5499682221225095,
          0.31001849084481076,
          -0.4385235067427074,
          -1.1015449838410196,
          0.126734386048078,
          10.249220709504936,
          3.413705834748789,
          0.46267843788430946,
          0.9679513585129148,
          -1.327844454743281
         ],
         "y": [
          0.034863399051075765,
          0.23622521487358494,
          2.9406815323194877,
          1.263847444522405,
          0.7443472974481347,
          0.2569950257525108,
          -0.2388138508957617,
          2.1036967053948175,
          7.912663193310438,
          2.9914691655255403,
          2.122704062224213,
          2.037519138075805,
          0.16682483803002368
         ],
         "z": [
          0.24555600752281084,
          0.1285768757828836,
          1.4400651833063296,
          -0.3024433578650475,
          -0.07352530990418045,
          -0.026253177379310953,
          -0.3030723631273505,
          0.244990663172616,
          -2.9346805539000287,
          -0.57494357198411,
          0.15621493186539684,
          1.1763073954175027,
          1.3489226246161823
         ]
        },
        {
         "hovertemplate": "color=Nycticorax<br>PCA1=%{x}<br>PCA2=%{y}<br>PCA3=%{z}<extra></extra>",
         "legendgroup": "Nycticorax",
         "marker": {
          "color": "#FECB52",
          "symbol": "circle"
         },
         "mode": "markers",
         "name": "Nycticorax",
         "scene": "scene",
         "showlegend": true,
         "type": "scatter3d",
         "x": [
          -1.2038129550726187,
          -1.1350559060330199
         ],
         "y": [
          -0.7644647386786262,
          0.3476659399505186
         ],
         "z": [
          -0.44310035470220166,
          -0.5276370414678688
         ]
        },
        {
         "hovertemplate": "color=Nyctidromus<br>PCA1=%{x}<br>PCA2=%{y}<br>PCA3=%{z}<extra></extra>",
         "legendgroup": "Nyctidromus",
         "marker": {
          "color": "#636efa",
          "symbol": "circle"
         },
         "mode": "markers",
         "name": "Nyctidromus",
         "scene": "scene",
         "showlegend": true,
         "type": "scatter3d",
         "x": [
          -0.7948060773549444,
          18.590691474584514
         ],
         "y": [
          -0.30735995509488717,
          5.130316428545947
         ],
         "z": [
          -0.3140299466930501,
          -3.9966685065221426
         ]
        },
        {
         "hovertemplate": "color=Nyctiphrynus<br>PCA1=%{x}<br>PCA2=%{y}<br>PCA3=%{z}<extra></extra>",
         "legendgroup": "Nyctiphrynus",
         "marker": {
          "color": "#EF553B",
          "symbol": "circle"
         },
         "mode": "markers",
         "name": "Nyctiphrynus",
         "scene": "scene",
         "showlegend": true,
         "type": "scatter3d",
         "x": [
          -0.440319592487669,
          -0.7821521454184459,
          4.362875490831309,
          -0.7443571425845847
         ],
         "y": [
          0.03201002440765745,
          -0.4842616529402545,
          0.46282546743472297,
          -0.2216322689467585
         ],
         "z": [
          -0.14468576773532527,
          -0.21899603605375334,
          -0.8498574546560425,
          -0.2504428966017952
         ]
        },
        {
         "hovertemplate": "color=Nyctipolus<br>PCA1=%{x}<br>PCA2=%{y}<br>PCA3=%{z}<extra></extra>",
         "legendgroup": "Nyctipolus",
         "marker": {
          "color": "#00cc96",
          "symbol": "circle"
         },
         "mode": "markers",
         "name": "Nyctipolus",
         "scene": "scene",
         "showlegend": true,
         "type": "scatter3d",
         "x": [
          2.3307452264041095,
          -1.321423158215373,
          -0.6880548894792636,
          -1.0279126226287552
         ],
         "y": [
          0.4445364277308106,
          0.02753026245717487,
          0.0242754146777818,
          0.18899138504117605
         ],
         "z": [
          -0.7188444208746512,
          -0.46419746555279245,
          -0.4859122522236898,
          1.4641224416862635
         ]
        },
        {
         "hovertemplate": "color=Nystalus<br>PCA1=%{x}<br>PCA2=%{y}<br>PCA3=%{z}<extra></extra>",
         "legendgroup": "Nystalus",
         "marker": {
          "color": "#ab63fa",
          "symbol": "circle"
         },
         "mode": "markers",
         "name": "Nystalus",
         "scene": "scene",
         "showlegend": true,
         "type": "scatter3d",
         "x": [
          -0.5155351692265613,
          -0.4040053990138226,
          -1.2612750707231384,
          -0.027234244780442916,
          0.5516029693752014,
          -0.019338204780373833
         ],
         "y": [
          1.1185793122887095,
          -0.32199354576388173,
          -0.4423396336473646,
          0.6344089242301745,
          0.22305304181051278,
          0.30825923484917916
         ],
         "z": [
          0.4840784968795585,
          0.03575807472931739,
          -0.362344450002193,
          1.1100452532204805,
          0.05669802376563104,
          -0.18315825064741623
         ]
        },
        {
         "hovertemplate": "color=Ochthoeca<br>PCA1=%{x}<br>PCA2=%{y}<br>PCA3=%{z}<extra></extra>",
         "legendgroup": "Ochthoeca",
         "marker": {
          "color": "#FFA15A",
          "symbol": "circle"
         },
         "mode": "markers",
         "name": "Ochthoeca",
         "scene": "scene",
         "showlegend": true,
         "type": "scatter3d",
         "x": [
          -0.6257139660827081,
          0.10108303399357176,
          -0.27543616654284336
         ],
         "y": [
          0.6653098735475588,
          0.4740354852440629,
          0.6855111369307592
         ],
         "z": [
          -0.4480814832006995,
          -0.5501591241485704,
          -0.5052363277880344
         ]
        },
        {
         "hovertemplate": "color=Ochthornis<br>PCA1=%{x}<br>PCA2=%{y}<br>PCA3=%{z}<extra></extra>",
         "legendgroup": "Ochthornis",
         "marker": {
          "color": "#19d3f3",
          "symbol": "circle"
         },
         "mode": "markers",
         "name": "Ochthornis",
         "scene": "scene",
         "showlegend": true,
         "type": "scatter3d",
         "x": [
          -1.2696395638632265,
          -0.5418839472919478,
          -0.5238977173968484
         ],
         "y": [
          0.1958219480093798,
          0.27426398565412835,
          0.2578412675176941
         ],
         "z": [
          -0.518700786836843,
          -0.5299476829119238,
          -0.47461350283044235
         ]
        },
        {
         "hovertemplate": "color=Ocreatus<br>PCA1=%{x}<br>PCA2=%{y}<br>PCA3=%{z}<extra></extra>",
         "legendgroup": "Ocreatus",
         "marker": {
          "color": "#FF6692",
          "symbol": "circle"
         },
         "mode": "markers",
         "name": "Ocreatus",
         "scene": "scene",
         "showlegend": true,
         "type": "scatter3d",
         "x": [
          -0.76626243537474,
          0.024232473423840148
         ],
         "y": [
          -0.199415111303447,
          0.44843156344182644
         ],
         "z": [
          -0.16057015813369388,
          -0.13021488649454688
         ]
        },
        {
         "hovertemplate": "color=Odontophorus<br>PCA1=%{x}<br>PCA2=%{y}<br>PCA3=%{z}<extra></extra>",
         "legendgroup": "Odontophorus",
         "marker": {
          "color": "#B6E880",
          "symbol": "circle"
         },
         "mode": "markers",
         "name": "Odontophorus",
         "scene": "scene",
         "showlegend": true,
         "type": "scatter3d",
         "x": [
          -0.9954955601561901,
          -1.0741766788599536,
          -0.8334198331891731,
          0.6226457182435473,
          0.4696369681940698,
          -1.1096774989212455,
          1.4697459218431659,
          0.8708387667064413,
          -1.2101741567065443,
          -0.6214226089756557,
          -0.8480068143966721,
          -1.2764078790974829
         ],
         "y": [
          0.6073593422872345,
          0.5205906044945263,
          0.07075927847860662,
          0.18249977228894249,
          -0.23928853683492005,
          -0.5257702523787349,
          0.15591268854393964,
          -0.12411329729962897,
          -0.41461797248535825,
          -0.09276335531587014,
          -0.5335603990194374,
          -0.005845668389000364
         ],
         "z": [
          3.5830095084037925,
          2.745721684892073,
          -0.009380715280779627,
          1.0721482946728846,
          2.0520916521390893,
          -0.26651000686688187,
          1.7665086950305426,
          2.899116659120248,
          -0.3089121961354611,
          0.16427745219030218,
          0.12134885083784522,
          0.7319903813384105
         ]
        },
        {
         "hovertemplate": "color=Odontorchilus<br>PCA1=%{x}<br>PCA2=%{y}<br>PCA3=%{z}<extra></extra>",
         "legendgroup": "Odontorchilus",
         "marker": {
          "color": "#FF97FF",
          "symbol": "circle"
         },
         "mode": "markers",
         "name": "Odontorchilus",
         "scene": "scene",
         "showlegend": true,
         "type": "scatter3d",
         "x": [
          -0.10718920691888802,
          -0.6205489223474682,
          0.40716701486946766
         ],
         "y": [
          -0.22931285266864337,
          0.4910905857194124,
          0.9051161787115076
         ],
         "z": [
          -0.7496463779332648,
          0.024395467065284785,
          -0.9339656622115514
         ]
        },
        {
         "hovertemplate": "color=Oneillornis<br>PCA1=%{x}<br>PCA2=%{y}<br>PCA3=%{z}<extra></extra>",
         "legendgroup": "Oneillornis",
         "marker": {
          "color": "#FECB52",
          "symbol": "circle"
         },
         "mode": "markers",
         "name": "Oneillornis",
         "scene": "scene",
         "showlegend": true,
         "type": "scatter3d",
         "x": [
          -0.17328650756887495,
          0.5306531761894862
         ],
         "y": [
          1.066523956178828,
          0.16795852156227709
         ],
         "z": [
          1.0563473530795724,
          0.8686951497676876
         ]
        },
        {
         "hovertemplate": "color=Onychorhynchus<br>PCA1=%{x}<br>PCA2=%{y}<br>PCA3=%{z}<extra></extra>",
         "legendgroup": "Onychorhynchus",
         "marker": {
          "color": "#636efa",
          "symbol": "circle"
         },
         "mode": "markers",
         "name": "Onychorhynchus",
         "scene": "scene",
         "showlegend": true,
         "type": "scatter3d",
         "x": [
          -0.15010442497823237,
          -0.1368927373765903
         ],
         "y": [
          0.5439215750309024,
          0.6009645928431028
         ],
         "z": [
          -0.6697229160200001,
          -0.6783434732796711
         ]
        },
        {
         "hovertemplate": "color=Opisthocomus<br>PCA1=%{x}<br>PCA2=%{y}<br>PCA3=%{z}<extra></extra>",
         "legendgroup": "Opisthocomus",
         "marker": {
          "color": "#EF553B",
          "symbol": "circle"
         },
         "mode": "markers",
         "name": "Opisthocomus",
         "scene": "scene",
         "showlegend": true,
         "type": "scatter3d",
         "x": [
          -0.6893542819597819,
          -0.8363702547286744,
          0.011238365607448834
         ],
         "y": [
          -0.1958658257541045,
          0.2859778401638426,
          0.13518828172911473
         ],
         "z": [
          0.6709277728017438,
          2.4729683688620248,
          2.838927940504433
         ]
        },
        {
         "hovertemplate": "color=Oporornis<br>PCA1=%{x}<br>PCA2=%{y}<br>PCA3=%{z}<extra></extra>",
         "legendgroup": "Oporornis",
         "marker": {
          "color": "#00cc96",
          "symbol": "circle"
         },
         "mode": "markers",
         "name": "Oporornis",
         "scene": "scene",
         "showlegend": true,
         "type": "scatter3d",
         "x": [
          2.5220021506241355,
          -0.02918500890467688,
          17.539562137169792
         ],
         "y": [
          2.606170630784486,
          0.8781482903661982,
          5.762251092401811
         ],
         "z": [
          -1.1521000916975166,
          -0.17362177256347683,
          -2.496721960784349
         ]
        },
        {
         "hovertemplate": "color=Oreopholus<br>PCA1=%{x}<br>PCA2=%{y}<br>PCA3=%{z}<extra></extra>",
         "legendgroup": "Oreopholus",
         "marker": {
          "color": "#ab63fa",
          "symbol": "circle"
         },
         "mode": "markers",
         "name": "Oreopholus",
         "scene": "scene",
         "showlegend": true,
         "type": "scatter3d",
         "x": [
          0.31706026314795,
          -1.5168168790502368,
          -1.0910199773447864
         ],
         "y": [
          -0.05657995983227357,
          -0.24103426824404556,
          -0.397558011736421
         ],
         "z": [
          0.1723653218470376,
          -0.34965562929546395,
          -0.38354954781562256
         ]
        },
        {
         "hovertemplate": "color=Ornithion<br>PCA1=%{x}<br>PCA2=%{y}<br>PCA3=%{z}<extra></extra>",
         "legendgroup": "Ornithion",
         "marker": {
          "color": "#FFA15A",
          "symbol": "circle"
         },
         "mode": "markers",
         "name": "Ornithion",
         "scene": "scene",
         "showlegend": true,
         "type": "scatter3d",
         "x": [
          -1.18274864853053,
          -0.5748871148987633,
          -1.1746737221347927
         ],
         "y": [
          0.036787942940736715,
          -0.05025914680325292,
          0.10848557294003543
         ],
         "z": [
          -0.28150163195521316,
          -0.33636413924932335,
          -0.3234304994530785
         ]
        },
        {
         "hovertemplate": "color=Ortalis<br>PCA1=%{x}<br>PCA2=%{y}<br>PCA3=%{z}<extra></extra>",
         "legendgroup": "Ortalis",
         "marker": {
          "color": "#19d3f3",
          "symbol": "circle"
         },
         "mode": "markers",
         "name": "Ortalis",
         "scene": "scene",
         "showlegend": true,
         "type": "scatter3d",
         "x": [
          -0.7757280220238877,
          0.07105372091265412
         ],
         "y": [
          0.5966198229779458,
          0.6007391370403696
         ],
         "z": [
          1.3406150106688919,
          0.17980800775892158
         ]
        },
        {
         "hovertemplate": "color=Orthopsittaca<br>PCA1=%{x}<br>PCA2=%{y}<br>PCA3=%{z}<extra></extra>",
         "legendgroup": "Orthopsittaca",
         "marker": {
          "color": "#FF6692",
          "symbol": "circle"
         },
         "mode": "markers",
         "name": "Orthopsittaca",
         "scene": "scene",
         "showlegend": true,
         "type": "scatter3d",
         "x": [
          0.42145861846661253,
          -1.181589302014583,
          -0.8813956209733353,
          -0.9964790471228291,
          -0.6164750166083481
         ],
         "y": [
          0.5187538247188224,
          -0.1198987097958555,
          -0.37259431605611654,
          -0.19988150735607552,
          -0.27645469206895484
         ],
         "z": [
          -0.4279762463774769,
          -0.1329001647410334,
          0.3920579547134642,
          -0.3382475269269244,
          0.84263419029669
         ]
        },
        {
         "hovertemplate": "color=Oxyruncus<br>PCA1=%{x}<br>PCA2=%{y}<br>PCA3=%{z}<extra></extra>",
         "legendgroup": "Oxyruncus",
         "marker": {
          "color": "#B6E880",
          "symbol": "circle"
         },
         "mode": "markers",
         "name": "Oxyruncus",
         "scene": "scene",
         "showlegend": true,
         "type": "scatter3d",
         "x": [
          -1.3087546010111086,
          -1.387184360546214
         ],
         "y": [
          0.343834262431051,
          0.12211108235044954
         ],
         "z": [
          0.6661364972592122,
          0.8910447914735092
         ]
        },
        {
         "hovertemplate": "color=Oxyura<br>PCA1=%{x}<br>PCA2=%{y}<br>PCA3=%{z}<extra></extra>",
         "legendgroup": "Oxyura",
         "marker": {
          "color": "#FF97FF",
          "symbol": "circle"
         },
         "mode": "markers",
         "name": "Oxyura",
         "scene": "scene",
         "showlegend": true,
         "type": "scatter3d",
         "x": [
          0.5473828270345931,
          -1.2661277055369384
         ],
         "y": [
          0.009390203776486607,
          -0.038901826039619176
         ],
         "z": [
          0.4175053144082127,
          -0.027235111292800925
         ]
        },
        {
         "hovertemplate": "color=Pachyramphus<br>PCA1=%{x}<br>PCA2=%{y}<br>PCA3=%{z}<extra></extra>",
         "legendgroup": "Pachyramphus",
         "marker": {
          "color": "#FECB52",
          "symbol": "circle"
         },
         "mode": "markers",
         "name": "Pachyramphus",
         "scene": "scene",
         "showlegend": true,
         "type": "scatter3d",
         "x": [
          0.8283427179879377,
          -1.4175203213272005,
          -0.9507508462644928,
          -1.3978693209455078,
          0.47466448714123644,
          -1.5310258522033293,
          1.8165120073365828,
          -1.6308275574357918,
          -0.1589450034189459,
          0.3894009829905725,
          -1.0013162679913112,
          -0.07411174760403581,
          -0.2721118335810904,
          -1.2837727224550592,
          0.4947973546412958,
          -0.7962516283729888,
          -0.16559729298492867,
          -1.4976895392713643,
          -0.9533239662555035
         ],
         "y": [
          0.6442470665235646,
          -0.026820645553414964,
          0.3613307480171326,
          -0.2481996907867518,
          0.0962676222957491,
          -0.20494074982784533,
          1.220113062243717,
          -0.16254875825948023,
          0.6272169283810617,
          1.3922388080738508,
          0.408365787420558,
          1.0886528614726674,
          1.310574208937803,
          -0.2502201341196367,
          0.08612863594402112,
          0.26575907379709196,
          -0.5302877981382873,
          -0.09932427585197529,
          -0.5385233984505482
         ],
         "z": [
          -0.02974347905084393,
          0.12504479018982523,
          -0.44354575265423934,
          -0.20053067462555388,
          0.2632550679480815,
          -0.42453840162866624,
          -1.0711832232398986,
          -0.11793771564933454,
          -0.6547129226854888,
          -0.23884632793880967,
          -0.16148515744680292,
          -0.46470126281915985,
          -0.4463312392840821,
          -0.17254519121794792,
          -0.2430371133206869,
          -0.4549306277938691,
          -0.41491069245847456,
          -0.22753114423271145,
          -0.28821773456326577
         ]
        },
        {
         "hovertemplate": "color=Panyptila<br>PCA1=%{x}<br>PCA2=%{y}<br>PCA3=%{z}<extra></extra>",
         "legendgroup": "Panyptila",
         "marker": {
          "color": "#636efa",
          "symbol": "circle"
         },
         "mode": "markers",
         "name": "Panyptila",
         "scene": "scene",
         "showlegend": true,
         "type": "scatter3d",
         "x": [
          -1.0019846121752607,
          1.0541382460438709,
          -0.35613434588834947
         ],
         "y": [
          0.48325920069919287,
          0.13677796574722087,
          0.030424357196500846
         ],
         "z": [
          0.07418611573336543,
          1.6073973356147364,
          -0.4659402242782391
         ]
        },
        {
         "hovertemplate": "color=Parabuteo<br>PCA1=%{x}<br>PCA2=%{y}<br>PCA3=%{z}<extra></extra>",
         "legendgroup": "Parabuteo",
         "marker": {
          "color": "#EF553B",
          "symbol": "circle"
         },
         "mode": "markers",
         "name": "Parabuteo",
         "scene": "scene",
         "showlegend": true,
         "type": "scatter3d",
         "x": [
          1.2944241794020162,
          0.5459931111749308,
          -1.2908079757484465
         ],
         "y": [
          -0.4468993736704831,
          1.8142345174154206,
          -0.2530379576314787
         ],
         "z": [
          -0.682420845356188,
          -0.8500717380766861,
          0.04807783043422927
         ]
        },
        {
         "hovertemplate": "color=Pardirallus<br>PCA1=%{x}<br>PCA2=%{y}<br>PCA3=%{z}<extra></extra>",
         "legendgroup": "Pardirallus",
         "marker": {
          "color": "#00cc96",
          "symbol": "circle"
         },
         "mode": "markers",
         "name": "Pardirallus",
         "scene": "scene",
         "showlegend": true,
         "type": "scatter3d",
         "x": [
          -1.199416122220067,
          0.6232929255175148,
          0.5877582635033195,
          -0.6177820241219182
         ],
         "y": [
          0.09418479363172544,
          -0.14585606665244458,
          0.8067186633062652,
          -0.10248647097926987
         ],
         "z": [
          0.8004078124422647,
          -0.7658808391261438,
          -0.6026338219451587,
          0.7226798305411563
         ]
        },
        {
         "hovertemplate": "color=Parkerthraustes<br>PCA1=%{x}<br>PCA2=%{y}<br>PCA3=%{z}<extra></extra>",
         "legendgroup": "Parkerthraustes",
         "marker": {
          "color": "#ab63fa",
          "symbol": "circle"
         },
         "mode": "markers",
         "name": "Parkerthraustes",
         "scene": "scene",
         "showlegend": true,
         "type": "scatter3d",
         "x": [
          -0.9830754353617673
         ],
         "y": [
          0.11276882282653021
         ],
         "z": [
          0.21746300728535098
         ]
        },
        {
         "hovertemplate": "color=Paroaria<br>PCA1=%{x}<br>PCA2=%{y}<br>PCA3=%{z}<extra></extra>",
         "legendgroup": "Paroaria",
         "marker": {
          "color": "#FFA15A",
          "symbol": "circle"
         },
         "mode": "markers",
         "name": "Paroaria",
         "scene": "scene",
         "showlegend": true,
         "type": "scatter3d",
         "x": [
          0.3535356102487196,
          -1.45544835604874,
          5.21661350394421
         ],
         "y": [
          -0.6577570796591564,
          0.03446659620555325,
          1.0790920521793528
         ],
         "z": [
          0.09449318929491601,
          -0.4996151651028997,
          -1.755862837826537
         ]
        },
        {
         "hovertemplate": "color=Passer<br>PCA1=%{x}<br>PCA2=%{y}<br>PCA3=%{z}<extra></extra>",
         "legendgroup": "Passer",
         "marker": {
          "color": "#19d3f3",
          "symbol": "circle"
         },
         "mode": "markers",
         "name": "Passer",
         "scene": "scene",
         "showlegend": true,
         "type": "scatter3d",
         "x": [
          0.04790969063596371,
          0.2582482471771151
         ],
         "y": [
          -1.2610882234154812,
          -0.23164064451036953
         ],
         "z": [
          0.21893081363593558,
          1.653172280701187
         ]
        },
        {
         "hovertemplate": "color=Patagioenas<br>PCA1=%{x}<br>PCA2=%{y}<br>PCA3=%{z}<extra></extra>",
         "legendgroup": "Patagioenas",
         "marker": {
          "color": "#FF6692",
          "symbol": "circle"
         },
         "mode": "markers",
         "name": "Patagioenas",
         "scene": "scene",
         "showlegend": true,
         "type": "scatter3d",
         "x": [
          6.611614156885922,
          -1.1872860810885764,
          -0.1070567392183507,
          -1.1943696082723239,
          4.089551130359473,
          1.2857576899720162,
          -0.9837173630927526,
          -0.16835588282119168,
          0.2406486204872488,
          -0.6779466171788691,
          -0.05347746797594244,
          0.9960161657460501,
          -0.1490044695018665,
          -1.504257592522713,
          -0.6143877728945538,
          -1.4307180145429361,
          0.31843644815872474,
          1.9008766020325705,
          -0.23786511491414677
         ],
         "y": [
          -0.0764032738725584,
          -0.4901987498871201,
          1.8028114583674146,
          0.353965259839203,
          -0.46806089725131106,
          -0.6881811039034651,
          -0.34520709648396486,
          1.1231901299665188,
          0.28351432223127204,
          0.17822383342416362,
          0.17599626652386746,
          2.666345142343991,
          0.18716607621099907,
          -0.04268686818008117,
          -0.0400732872026347,
          -0.030636555082590396,
          0.3214771542755577,
          -0.2699010793140686,
          0.24538984577598327
         ],
         "z": [
          4.327963537221036,
          -0.34955645535647395,
          -0.8273906385346005,
          -0.526870702720775,
          -1.141887538703412,
          -0.6332047461384587,
          -0.2505918547530276,
          1.056135483193484,
          -0.3799695102257717,
          -0.6192873645156461,
          -0.5083113630284695,
          0.6505825849585141,
          -0.3278014131702224,
          -0.46069783147093835,
          -0.018721880306407326,
          -0.08197255934111716,
          -0.28320619873820735,
          0.2034087744574304,
          -0.14341469535616921
         ]
        },
        {
         "hovertemplate": "color=Pauxi<br>PCA1=%{x}<br>PCA2=%{y}<br>PCA3=%{z}<extra></extra>",
         "legendgroup": "Pauxi",
         "marker": {
          "color": "#B6E880",
          "symbol": "circle"
         },
         "mode": "markers",
         "name": "Pauxi",
         "scene": "scene",
         "showlegend": true,
         "type": "scatter3d",
         "x": [
          -0.5725920854688743
         ],
         "y": [
          0.4087702360148359
         ],
         "z": [
          -0.7212915397414885
         ]
        },
        {
         "hovertemplate": "color=Penelope<br>PCA1=%{x}<br>PCA2=%{y}<br>PCA3=%{z}<extra></extra>",
         "legendgroup": "Penelope",
         "marker": {
          "color": "#FF97FF",
          "symbol": "circle"
         },
         "mode": "markers",
         "name": "Penelope",
         "scene": "scene",
         "showlegend": true,
         "type": "scatter3d",
         "x": [
          6.529736185582557,
          -1.1890793116949245,
          -0.5661723915141056
         ],
         "y": [
          -3.3219034003177494,
          0.15910273420463128,
          -0.11054594280908889
         ],
         "z": [
          0.49029768376329685,
          0.33062148461135754,
          -0.1565129844570768
         ]
        },
        {
         "hovertemplate": "color=Petrochelidon<br>PCA1=%{x}<br>PCA2=%{y}<br>PCA3=%{z}<extra></extra>",
         "legendgroup": "Petrochelidon",
         "marker": {
          "color": "#FECB52",
          "symbol": "circle"
         },
         "mode": "markers",
         "name": "Petrochelidon",
         "scene": "scene",
         "showlegend": true,
         "type": "scatter3d",
         "x": [
          -0.5751983543020835,
          0.6614795377861197,
          -0.7952630242569533
         ],
         "y": [
          -0.42310212601686836,
          -0.25903450720445337,
          -0.5289810158486942
         ],
         "z": [
          -0.4056964312685289,
          -0.5585946448050544,
          -0.19454295437556832
         ]
        },
        {
         "hovertemplate": "color=Phaeomyias<br>PCA1=%{x}<br>PCA2=%{y}<br>PCA3=%{z}<extra></extra>",
         "legendgroup": "Phaeomyias",
         "marker": {
          "color": "#636efa",
          "symbol": "circle"
         },
         "mode": "markers",
         "name": "Phaeomyias",
         "scene": "scene",
         "showlegend": true,
         "type": "scatter3d",
         "x": [
          -1.0091287399955953,
          0.48647543836206064,
          -1.2601032960940475,
          -0.39629145706026675,
          -0.6005868817538225
         ],
         "y": [
          0.6403413678876863,
          0.29592531714628023,
          0.14218329002527869,
          0.009993911510699569,
          0.5144521281220713
         ],
         "z": [
          -0.5308032591648728,
          0.19747975630827844,
          -0.4435480124196259,
          -0.16727916246099203,
          -0.5014699426714904
         ]
        },
        {
         "hovertemplate": "color=Phaethornis<br>PCA1=%{x}<br>PCA2=%{y}<br>PCA3=%{z}<extra></extra>",
         "legendgroup": "Phaethornis",
         "marker": {
          "color": "#EF553B",
          "symbol": "circle"
         },
         "mode": "markers",
         "name": "Phaethornis",
         "scene": "scene",
         "showlegend": true,
         "type": "scatter3d",
         "x": [
          2.031919996645298,
          0.06765906060110466,
          0.31552955583392667,
          0.2730429166771365,
          0.45523757446553387,
          -0.39607566306977227,
          1.675420017479842,
          -1.2945516699485127,
          10.243022456425077,
          2.975714723231129,
          1.7997459805736566,
          -0.430045846364502,
          -0.419456521828919,
          0.8008065601758088,
          -0.7274968455910178,
          -0.5414015282881008,
          -1.5135768468361597
         ],
         "y": [
          -2.0349810430370128,
          -1.0494683130291982,
          0.53298566553082,
          -0.9246359229208778,
          -1.3698678955629588,
          -1.0182787865240126,
          0.1780956831099111,
          -0.22062826747730718,
          -1.469457112034303,
          -2.28079962123508,
          -2.311070058014858,
          -0.8298073770659262,
          -0.1952160131832144,
          0.26965070506019484,
          -0.23196524573451216,
          0.13949150649500927,
          0.12302505093812949
         ],
         "z": [
          -0.48250669889192227,
          -0.42567096050412145,
          4.060884709730191,
          -0.6506435959464612,
          -0.5451638831506042,
          -0.23413155163012755,
          4.587353210590358,
          -0.4407576972054007,
          7.0888628512071765,
          -0.1525738807761046,
          -0.1464812461329236,
          -0.5040578994622806,
          1.3001454960495582,
          2.4504755950240975,
          0.6957484057905469,
          -0.28629272049329296,
          -0.5353680381986754
         ]
        },
        {
         "hovertemplate": "color=Phaetusa<br>PCA1=%{x}<br>PCA2=%{y}<br>PCA3=%{z}<extra></extra>",
         "legendgroup": "Phaetusa",
         "marker": {
          "color": "#00cc96",
          "symbol": "circle"
         },
         "mode": "markers",
         "name": "Phaetusa",
         "scene": "scene",
         "showlegend": true,
         "type": "scatter3d",
         "x": [
          -0.8289461906188504,
          1.6484443929936334
         ],
         "y": [
          -0.03912538044739946,
          -0.8670797028997175
         ],
         "z": [
          -0.32000662167957905,
          0.21782707190158077
         ]
        },
        {
         "hovertemplate": "color=Phalacrocorax<br>PCA1=%{x}<br>PCA2=%{y}<br>PCA3=%{z}<extra></extra>",
         "legendgroup": "Phalacrocorax",
         "marker": {
          "color": "#ab63fa",
          "symbol": "circle"
         },
         "mode": "markers",
         "name": "Phalacrocorax",
         "scene": "scene",
         "showlegend": true,
         "type": "scatter3d",
         "x": [
          -1.0058013783800508,
          1.7400194528156334
         ],
         "y": [
          -0.1705978841515679,
          0.2162639290664532
         ],
         "z": [
          -0.1254123385593174,
          -0.31450550744102673
         ]
        },
        {
         "hovertemplate": "color=Phalaropus<br>PCA1=%{x}<br>PCA2=%{y}<br>PCA3=%{z}<extra></extra>",
         "legendgroup": "Phalaropus",
         "marker": {
          "color": "#FFA15A",
          "symbol": "circle"
         },
         "mode": "markers",
         "name": "Phalaropus",
         "scene": "scene",
         "showlegend": true,
         "type": "scatter3d",
         "x": [
          2.9376976021536496,
          -1.2059575113104701
         ],
         "y": [
          0.893558670849884,
          -0.29469842964666865
         ],
         "z": [
          -1.4486114437911843,
          -0.42477536218557793
         ]
        },
        {
         "hovertemplate": "color=Pharomachrus<br>PCA1=%{x}<br>PCA2=%{y}<br>PCA3=%{z}<extra></extra>",
         "legendgroup": "Pharomachrus",
         "marker": {
          "color": "#19d3f3",
          "symbol": "circle"
         },
         "mode": "markers",
         "name": "Pharomachrus",
         "scene": "scene",
         "showlegend": true,
         "type": "scatter3d",
         "x": [
          -0.6195374072629473,
          0.7195649202051817,
          -1.3898133677218198,
          -0.019489501261835046,
          0.7916140149100203,
          0.8563312756455126,
          0.09100890193584894,
          -1.34530484229252
         ],
         "y": [
          0.012331870968562449,
          -0.020745415097630004,
          -0.42545737607796086,
          0.41747803078509793,
          -0.08556216548195657,
          0.5095545015176925,
          0.05530775901918278,
          -0.03180094907918075
         ],
         "z": [
          -0.023459003252720198,
          -0.1439011487905731,
          -0.2708149215820489,
          -0.15826592089256775,
          -0.3729653627817391,
          -0.5906704993711005,
          0.04311337961114982,
          -0.07259234774340055
         ]
        },
        {
         "hovertemplate": "color=Pheucticus<br>PCA1=%{x}<br>PCA2=%{y}<br>PCA3=%{z}<extra></extra>",
         "legendgroup": "Pheucticus",
         "marker": {
          "color": "#FF6692",
          "symbol": "circle"
         },
         "mode": "markers",
         "name": "Pheucticus",
         "scene": "scene",
         "showlegend": true,
         "type": "scatter3d",
         "x": [
          -0.1765549856268886,
          0.8245224585759336,
          -0.7529464539053797,
          -1.2151888360662049
         ],
         "y": [
          0.059993189578205916,
          1.0386729245719233,
          0.1862633182847249,
          -0.05446454042214814
         ],
         "z": [
          -0.07481214392532717,
          0.23557020729335418,
          0.3694025341173226,
          -0.4193757492318797
         ]
        },
        {
         "hovertemplate": "color=Pheugopedius<br>PCA1=%{x}<br>PCA2=%{y}<br>PCA3=%{z}<extra></extra>",
         "legendgroup": "Pheugopedius",
         "marker": {
          "color": "#B6E880",
          "symbol": "circle"
         },
         "mode": "markers",
         "name": "Pheugopedius",
         "scene": "scene",
         "showlegend": true,
         "type": "scatter3d",
         "x": [
          1.045046381984749,
          -1.14906806457874,
          1.1797842356089114,
          -0.21676682891844362,
          -0.20650310643460748,
          0.12526191580684068
         ],
         "y": [
          0.05939937435728636,
          -0.4981110450900507,
          0.9950939828496493,
          -0.4989644142434461,
          0.7467604582683711,
          -0.9644410278594219
         ],
         "z": [
          -0.5549093803095716,
          -0.47098709668401667,
          -0.780094505702336,
          -0.22979687070032745,
          -0.4182736720020053,
          -0.35923473180745025
         ]
        },
        {
         "hovertemplate": "color=Philydor<br>PCA1=%{x}<br>PCA2=%{y}<br>PCA3=%{z}<extra></extra>",
         "legendgroup": "Philydor",
         "marker": {
          "color": "#FF97FF",
          "symbol": "circle"
         },
         "mode": "markers",
         "name": "Philydor",
         "scene": "scene",
         "showlegend": true,
         "type": "scatter3d",
         "x": [
          -0.4388513254110199,
          -1.3387167593140936,
          -1.1102887139386042,
          -1.1754012982249549,
          -0.927541223113895,
          2.232742595210173,
          -0.41227612341473124,
          -0.49716600660040866,
          0.5103315169914587,
          -1.1566006454240911,
          0.716531103511377
         ],
         "y": [
          -0.15589256349201658,
          0.03973258204348864,
          0.3668202893895001,
          0.4936356169101102,
          -0.6140957187482408,
          1.3920041234764502,
          -0.26987711986816515,
          0.3110562815783302,
          1.4377503525732922,
          0.09128318879621797,
          -0.5773540909288393
         ],
         "z": [
          -0.5354963548981068,
          -0.47145593403826763,
          -0.49888747413474127,
          -0.6456410735191054,
          -0.22188562077170265,
          1.0281731821294395,
          -0.3605984807930608,
          -0.07842288876535775,
          2.1029717014173213,
          1.2049325506946253,
          -0.6183963810002738
         ]
        },
        {
         "hovertemplate": "color=Phlegopsis<br>PCA1=%{x}<br>PCA2=%{y}<br>PCA3=%{z}<extra></extra>",
         "legendgroup": "Phlegopsis",
         "marker": {
          "color": "#FECB52",
          "symbol": "circle"
         },
         "mode": "markers",
         "name": "Phlegopsis",
         "scene": "scene",
         "showlegend": true,
         "type": "scatter3d",
         "x": [
          1.5934142316047515,
          -1.1182700468816984,
          -1.0969189841267062,
          -0.2425807343507859,
          -0.93320852598957,
          -0.5884533017504794,
          0.5901633512620532,
          -0.7316934773334833
         ],
         "y": [
          0.45395302777516594,
          0.2982614084266689,
          -0.2436353089417609,
          -0.15794773664177755,
          0.6131294454608075,
          0.8098578121540007,
          0.1797099390667532,
          0.32290277719999383
         ],
         "z": [
          -0.6416086659086918,
          0.3618713057749828,
          -0.08272160163356015,
          -0.1945645676867948,
          0.2513701654156607,
          -0.17887977812933278,
          -0.4312183572525828,
          -0.2829654544129223
         ]
        },
        {
         "hovertemplate": "color=Phleocryptes<br>PCA1=%{x}<br>PCA2=%{y}<br>PCA3=%{z}<extra></extra>",
         "legendgroup": "Phleocryptes",
         "marker": {
          "color": "#636efa",
          "symbol": "circle"
         },
         "mode": "markers",
         "name": "Phleocryptes",
         "scene": "scene",
         "showlegend": true,
         "type": "scatter3d",
         "x": [
          1.8326471690973922,
          -1.2348468102336572,
          -1.0157022054851557
         ],
         "y": [
          1.36705147605336,
          -0.5623728062822941,
          -0.011728645639393543
         ],
         "z": [
          8.469149782981898,
          -0.4936228560295116,
          -0.6078167646462262
         ]
        },
        {
         "hovertemplate": "color=Phlogophilus<br>PCA1=%{x}<br>PCA2=%{y}<br>PCA3=%{z}<extra></extra>",
         "legendgroup": "Phlogophilus",
         "marker": {
          "color": "#EF553B",
          "symbol": "circle"
         },
         "mode": "markers",
         "name": "Phlogophilus",
         "scene": "scene",
         "showlegend": true,
         "type": "scatter3d",
         "x": [
          -0.1238928441443189,
          -0.2555292451264388,
          -1.594715004445922
         ],
         "y": [
          -0.58034337414992,
          0.5916194770190731,
          -0.07598730873440762
         ],
         "z": [
          -0.24763822415815898,
          -0.44972791208106166,
          -0.2279173189854449
         ]
        },
        {
         "hovertemplate": "color=Phrygilus<br>PCA1=%{x}<br>PCA2=%{y}<br>PCA3=%{z}<extra></extra>",
         "legendgroup": "Phrygilus",
         "marker": {
          "color": "#00cc96",
          "symbol": "circle"
         },
         "mode": "markers",
         "name": "Phrygilus",
         "scene": "scene",
         "showlegend": true,
         "type": "scatter3d",
         "x": [
          -1.0875434172696552,
          -0.7772918646520212,
          2.94641287196407
         ],
         "y": [
          0.06500226523410298,
          -0.2832824270112028,
          1.3101373403959338
         ],
         "z": [
          -0.0993906886950809,
          0.4267392087667827,
          -0.25293962821441707
         ]
        },
        {
         "hovertemplate": "color=Phyllomyias<br>PCA1=%{x}<br>PCA2=%{y}<br>PCA3=%{z}<extra></extra>",
         "legendgroup": "Phyllomyias",
         "marker": {
          "color": "#ab63fa",
          "symbol": "circle"
         },
         "mode": "markers",
         "name": "Phyllomyias",
         "scene": "scene",
         "showlegend": true,
         "type": "scatter3d",
         "x": [
          0.7904639457685142,
          0.2230704614261381,
          1.392766378926946,
          -1.0636225268403592,
          -0.7237926851205113,
          2.486119512444549,
          -0.7460918405367878,
          -1.2547670181093837,
          4.22844459108001,
          0.5681844769206923,
          -1.456741670888802,
          1.0204354655699464,
          0.042692960291295795,
          -0.960225149883289
         ],
         "y": [
          -0.4287162438769285,
          -0.2830523660350494,
          -0.7227407851857964,
          -0.22218312348810793,
          1.0864828497616936,
          0.7419165378338444,
          -0.07532979495761548,
          0.20220858909622078,
          2.9334796421228346,
          0.7939639500842911,
          -0.00957047835545683,
          -0.04833085687895947,
          -0.3358927014060671,
          -0.2260100397771215
         ],
         "z": [
          -0.06758732605099363,
          -0.44654159094617135,
          0.21130957084703592,
          0.1616551928414691,
          -0.52588274456774,
          1.4856287962116699,
          0.18132120044617017,
          -0.0693194448317678,
          -1.9536082018588796,
          -0.6197199465082652,
          -0.40574594640728556,
          0.5970857651206063,
          -0.22815026030024108,
          -0.23305496547831836
         ]
        },
        {
         "hovertemplate": "color=Phylloscartes<br>PCA1=%{x}<br>PCA2=%{y}<br>PCA3=%{z}<extra></extra>",
         "legendgroup": "Phylloscartes",
         "marker": {
          "color": "#FFA15A",
          "symbol": "circle"
         },
         "mode": "markers",
         "name": "Phylloscartes",
         "scene": "scene",
         "showlegend": true,
         "type": "scatter3d",
         "x": [
          -0.830835170062855,
          -1.1537031033644356,
          -0.9784656529295761,
          -1.1219216744705143,
          -0.7881811803093466
         ],
         "y": [
          0.21838694143055382,
          0.019917160430269018,
          0.14864558724643112,
          -0.22097364056309984,
          -0.16967544192439274
         ],
         "z": [
          0.08321207093558573,
          -0.5385365937026648,
          -0.4266503499310621,
          -0.4151701371038777,
          -0.5108357203335209
         ]
        },
        {
         "hovertemplate": "color=Piaya<br>PCA1=%{x}<br>PCA2=%{y}<br>PCA3=%{z}<extra></extra>",
         "legendgroup": "Piaya",
         "marker": {
          "color": "#19d3f3",
          "symbol": "circle"
         },
         "mode": "markers",
         "name": "Piaya",
         "scene": "scene",
         "showlegend": true,
         "type": "scatter3d",
         "x": [
          -1.459845812371868,
          -1.3775729171708513,
          -0.19959614557100247,
          0.6278159555646751,
          -0.23931767660330042,
          -1.3860424961131057
         ],
         "y": [
          -0.02073106442243889,
          0.09668686602608834,
          -0.5512880960890596,
          0.1562097929084263,
          -0.6895891043785779,
          -0.14648992372017622
         ],
         "z": [
          -0.3830415221721407,
          -0.43655894846206655,
          -0.04541793702009176,
          -0.7657230553529296,
          -0.28821344953269684,
          -0.44675252379390185
         ]
        },
        {
         "hovertemplate": "color=Piculus<br>PCA1=%{x}<br>PCA2=%{y}<br>PCA3=%{z}<extra></extra>",
         "legendgroup": "Piculus",
         "marker": {
          "color": "#FF6692",
          "symbol": "circle"
         },
         "mode": "markers",
         "name": "Piculus",
         "scene": "scene",
         "showlegend": true,
         "type": "scatter3d",
         "x": [
          -1.5771538400413445,
          -0.9976533000092765,
          -0.7226422422907852,
          -0.6165580712495847,
          -1.6186820656183418,
          -1.3623940040201568,
          3.2853672944113543
         ],
         "y": [
          -0.1961355215814457,
          0.40679165671663714,
          -0.03329335717066323,
          1.104687421449231,
          -0.155084391308707,
          0.34734904805555494,
          4.754289087653742
         ],
         "z": [
          -0.16182251608320586,
          -0.050667059811295996,
          -0.15724928429977403,
          -0.5780372560303457,
          -0.1549725630469542,
          -0.06404403705809385,
          -0.6928290049992796
         ]
        },
        {
         "hovertemplate": "color=Picumnus<br>PCA1=%{x}<br>PCA2=%{y}<br>PCA3=%{z}<extra></extra>",
         "legendgroup": "Picumnus",
         "marker": {
          "color": "#B6E880",
          "symbol": "circle"
         },
         "mode": "markers",
         "name": "Picumnus",
         "scene": "scene",
         "showlegend": true,
         "type": "scatter3d",
         "x": [
          -0.6969180677096991,
          2.1339733300556216,
          0.06901448564609212,
          -0.6555214455972399,
          -0.3469252624575442,
          -0.9769279999523638,
          -1.5306237275819632,
          -0.2350345064729475,
          -0.26813900550309683,
          -0.35973846636276946,
          3.312170024269143
         ],
         "y": [
          0.329245347867271,
          1.012109437748742,
          0.9059356533082,
          0.7990813313267313,
          0.16804514113139718,
          0.04343894536354206,
          -0.013299091979385173,
          0.2577767202962833,
          0.31018303123472435,
          -0.34339023073527863,
          1.589388307224546
         ],
         "z": [
          0.1531645280681251,
          -0.15384553389015315,
          -0.06403312585743179,
          -0.3467897928166799,
          0.05856074791172058,
          -0.167042486319198,
          -0.37467802435030567,
          -0.019928815918623742,
          -0.229609386541963,
          -0.1983831827330066,
          0.4633793707293061
         ]
        },
        {
         "hovertemplate": "color=Pilherodius<br>PCA1=%{x}<br>PCA2=%{y}<br>PCA3=%{z}<extra></extra>",
         "legendgroup": "Pilherodius",
         "marker": {
          "color": "#FF97FF",
          "symbol": "circle"
         },
         "mode": "markers",
         "name": "Pilherodius",
         "scene": "scene",
         "showlegend": true,
         "type": "scatter3d",
         "x": [
          -1.6048890799722113,
          3.8459415723130146
         ],
         "y": [
          -0.14871669017981715,
          2.440330272055541
         ],
         "z": [
          -0.21368118879430567,
          -0.947587561436915
         ]
        },
        {
         "hovertemplate": "color=Pionites<br>PCA1=%{x}<br>PCA2=%{y}<br>PCA3=%{z}<extra></extra>",
         "legendgroup": "Pionites",
         "marker": {
          "color": "#FECB52",
          "symbol": "circle"
         },
         "mode": "markers",
         "name": "Pionites",
         "scene": "scene",
         "showlegend": true,
         "type": "scatter3d",
         "x": [
          -0.03957548560392899,
          3.430986953277987
         ],
         "y": [
          1.1113658569943512,
          -4.85499340099826
         ],
         "z": [
          -0.6584279039436791,
          1.152852836069754
         ]
        },
        {
         "hovertemplate": "color=Pionus<br>PCA1=%{x}<br>PCA2=%{y}<br>PCA3=%{z}<extra></extra>",
         "legendgroup": "Pionus",
         "marker": {
          "color": "#636efa",
          "symbol": "circle"
         },
         "mode": "markers",
         "name": "Pionus",
         "scene": "scene",
         "showlegend": true,
         "type": "scatter3d",
         "x": [
          -0.7664053478200953,
          -0.48118423250425935,
          1.8225387527123977,
          -1.4291952267674224,
          -1.3131798805615547,
          0.7729769488732131,
          -0.1837581965040622,
          -0.4700895967245627
         ],
         "y": [
          -0.07073850289762783,
          -0.11534515989247016,
          -0.0867837558063419,
          -0.25790345165251444,
          -0.37519457775374615,
          -0.8243415596707174,
          0.12443846174751128,
          -0.17517293922977956
         ],
         "z": [
          0.2413549148712911,
          0.1386323425274291,
          0.6871403283554041,
          -0.31361208800637574,
          -0.39201261211577365,
          0.9057822669190755,
          -0.0304370610278569,
          0.15499993873401685
         ]
        },
        {
         "hovertemplate": "color=Pipile<br>PCA1=%{x}<br>PCA2=%{y}<br>PCA3=%{z}<extra></extra>",
         "legendgroup": "Pipile",
         "marker": {
          "color": "#EF553B",
          "symbol": "circle"
         },
         "mode": "markers",
         "name": "Pipile",
         "scene": "scene",
         "showlegend": true,
         "type": "scatter3d",
         "x": [
          -0.6904988474982617,
          -0.04159221263556122,
          -0.7498918345603005,
          0.25729728440609534
         ],
         "y": [
          -0.3975699550842107,
          -1.0365177486090018,
          -0.23261264246344415,
          -2.106450698319922
         ],
         "z": [
          -0.18878135513129873,
          -0.27127119154803253,
          0.7465000794455313,
          -0.23363788508465455
         ]
        },
        {
         "hovertemplate": "color=Pipra<br>PCA1=%{x}<br>PCA2=%{y}<br>PCA3=%{z}<extra></extra>",
         "legendgroup": "Pipra",
         "marker": {
          "color": "#00cc96",
          "symbol": "circle"
         },
         "mode": "markers",
         "name": "Pipra",
         "scene": "scene",
         "showlegend": true,
         "type": "scatter3d",
         "x": [
          -0.5454434573844611,
          -1.5456504354947866,
          1.0739019937001757,
          0.40659331579487734
         ],
         "y": [
          0.5171677555743621,
          -0.027236156703795315,
          2.003383252323551,
          1.0163068436981184
         ],
         "z": [
          -0.4421261716897012,
          -0.2245526402677083,
          -0.9872780621957287,
          -0.6240707793907951
         ]
        },
        {
         "hovertemplate": "color=Pipraeidea<br>PCA1=%{x}<br>PCA2=%{y}<br>PCA3=%{z}<extra></extra>",
         "legendgroup": "Pipraeidea",
         "marker": {
          "color": "#ab63fa",
          "symbol": "circle"
         },
         "mode": "markers",
         "name": "Pipraeidea",
         "scene": "scene",
         "showlegend": true,
         "type": "scatter3d",
         "x": [
          -0.7886021576711273,
          -0.42780939605742646,
          -0.2999308055132413
         ],
         "y": [
          -0.7728261062896009,
          0.6053553049287538,
          0.6134817421865905
         ],
         "z": [
          -0.30008898484351404,
          -0.11831469287759272,
          -0.08439701906694402
         ]
        },
        {
         "hovertemplate": "color=Pipreola<br>PCA1=%{x}<br>PCA2=%{y}<br>PCA3=%{z}<extra></extra>",
         "legendgroup": "Pipreola",
         "marker": {
          "color": "#FFA15A",
          "symbol": "circle"
         },
         "mode": "markers",
         "name": "Pipreola",
         "scene": "scene",
         "showlegend": true,
         "type": "scatter3d",
         "x": [
          0.10061483626047564,
          -1.497057332751901,
          3.839375569997418,
          -1.1604197396731741,
          2.0759528915104406,
          -0.2673316104535393,
          -0.8519014260529887,
          3.111934945972997,
          -1.1216382947517833,
          -1.02227758532267,
          -1.3803115779017023
         ],
         "y": [
          0.6817908448233341,
          -0.03589395139652452,
          1.5179451780829663,
          0.24559703746642034,
          0.5474904068964922,
          0.05247872751534257,
          0.3907460144860336,
          2.849125691794872,
          0.12029162719821045,
          0.8398106712493474,
          0.15220339649042222
         ],
         "z": [
          -0.219248346932938,
          0.25147950616227904,
          -0.6932020550868772,
          0.2869064283832251,
          -0.3350449212514054,
          -0.4561866043915618,
          0.2770052311148266,
          -1.2653066510508881,
          -0.36859805395855966,
          0.26771686384943716,
          0.6903656562253411
         ]
        },
        {
         "hovertemplate": "color=Piprites<br>PCA1=%{x}<br>PCA2=%{y}<br>PCA3=%{z}<extra></extra>",
         "legendgroup": "Piprites",
         "marker": {
          "color": "#19d3f3",
          "symbol": "circle"
         },
         "mode": "markers",
         "name": "Piprites",
         "scene": "scene",
         "showlegend": true,
         "type": "scatter3d",
         "x": [
          -0.28144793296788506,
          1.101224264407555,
          -0.8360237509778131
         ],
         "y": [
          -0.08900428201720872,
          2.4945535416545663,
          0.4346399760406734
         ],
         "z": [
          -0.3418987231640077,
          -0.7344051522179342,
          0.37866674066438355
         ]
        },
        {
         "hovertemplate": "color=Piranga<br>PCA1=%{x}<br>PCA2=%{y}<br>PCA3=%{z}<extra></extra>",
         "legendgroup": "Piranga",
         "marker": {
          "color": "#FF6692",
          "symbol": "circle"
         },
         "mode": "markers",
         "name": "Piranga",
         "scene": "scene",
         "showlegend": true,
         "type": "scatter3d",
         "x": [
          -0.6349078659378168,
          -1.4670846840468899,
          -1.346606944347243,
          4.2051090922590575,
          -0.044255190571059005,
          -1.0411329535318543,
          -0.999029045259563,
          2.8430424325454364,
          2.137533757245013,
          1.819977839629352,
          8.031944009280362,
          0.1477013698504093,
          -0.9153183353319778,
          -0.14080234590199456,
          -1.184572056850866
         ],
         "y": [
          0.12526968359158563,
          -0.2903574976394181,
          -0.6129913264933907,
          0.6249422644200835,
          0.5815438791327487,
          -0.36765419834580865,
          -0.1730425418528568,
          0.5173067420711993,
          0.4328777568836865,
          0.07813865763982669,
          1.1758862829852528,
          1.0866657846842853,
          0.11030539841708308,
          -0.5726066990154571,
          -0.11177985062461991
         ],
         "z": [
          -0.6232163115592501,
          -0.4595386752876471,
          -0.20918827688596486,
          -0.33920852400309826,
          -0.3186112587228251,
          -0.40089485408207853,
          -0.3553328562998695,
          -0.26604976121819385,
          -0.35398663738900826,
          -0.09568266354710114,
          1.8105426377292828,
          -0.1312375798085813,
          -0.44295718650201305,
          -0.24686390110580278,
          -0.15798484379814023
         ]
        },
        {
         "hovertemplate": "color=Pitangus<br>PCA1=%{x}<br>PCA2=%{y}<br>PCA3=%{z}<extra></extra>",
         "legendgroup": "Pitangus",
         "marker": {
          "color": "#B6E880",
          "symbol": "circle"
         },
         "mode": "markers",
         "name": "Pitangus",
         "scene": "scene",
         "showlegend": true,
         "type": "scatter3d",
         "x": [
          -0.7132037563690916
         ],
         "y": [
          0.15060624934652903
         ],
         "z": [
          -0.11604728578023774
         ]
        },
        {
         "hovertemplate": "color=Platalea<br>PCA1=%{x}<br>PCA2=%{y}<br>PCA3=%{z}<extra></extra>",
         "legendgroup": "Platalea",
         "marker": {
          "color": "#FF97FF",
          "symbol": "circle"
         },
         "mode": "markers",
         "name": "Platalea",
         "scene": "scene",
         "showlegend": true,
         "type": "scatter3d",
         "x": [
          -1.2478607667333312,
          -1.389069395291498
         ],
         "y": [
          -0.3625015034890769,
          -0.17241772010980944
         ],
         "z": [
          -0.41868901348582815,
          0.07331946056370506
         ]
        },
        {
         "hovertemplate": "color=Platyrinchus<br>PCA1=%{x}<br>PCA2=%{y}<br>PCA3=%{z}<extra></extra>",
         "legendgroup": "Platyrinchus",
         "marker": {
          "color": "#FECB52",
          "symbol": "circle"
         },
         "mode": "markers",
         "name": "Platyrinchus",
         "scene": "scene",
         "showlegend": true,
         "type": "scatter3d",
         "x": [
          1.1818924911368354,
          -0.8844867759806723,
          -0.8551438612168664,
          0.12917419526932936,
          -1.048921805240367,
          -0.488705244467135,
          0.8511569973030413,
          0.5592173196801222,
          0.2473270157560442
         ],
         "y": [
          1.4420692275611582,
          -0.3438329576926573,
          -0.4030199147835878,
          0.6554471167874558,
          0.5965084643695601,
          0.8098638047217875,
          -0.6182483037835844,
          0.25574830061711334,
          1.8218413784599303
         ],
         "z": [
          -0.9606349016472668,
          -0.45788182051693554,
          0.05643183785414718,
          -0.9311239951989619,
          -0.6805440982045226,
          -0.6817093964286517,
          -0.4724945854721643,
          -0.5545641298507508,
          -0.2501925483387463
         ]
        },
        {
         "hovertemplate": "color=Plegadis<br>PCA1=%{x}<br>PCA2=%{y}<br>PCA3=%{z}<extra></extra>",
         "legendgroup": "Plegadis",
         "marker": {
          "color": "#636efa",
          "symbol": "circle"
         },
         "mode": "markers",
         "name": "Plegadis",
         "scene": "scene",
         "showlegend": true,
         "type": "scatter3d",
         "x": [
          -1.3938348583244957,
          -1.0908109910598318,
          -1.3439466461507574
         ],
         "y": [
          -0.3281730646484794,
          -0.6250940365631582,
          -0.3578658063149338
         ],
         "z": [
          -0.398782364174713,
          -0.34032944707875673,
          -0.4080240897081096
         ]
        },
        {
         "hovertemplate": "color=Pluvialis<br>PCA1=%{x}<br>PCA2=%{y}<br>PCA3=%{z}<extra></extra>",
         "legendgroup": "Pluvialis",
         "marker": {
          "color": "#EF553B",
          "symbol": "circle"
         },
         "mode": "markers",
         "name": "Pluvialis",
         "scene": "scene",
         "showlegend": true,
         "type": "scatter3d",
         "x": [
          -1.2993490398141936,
          -1.295203630800381,
          -0.49450088641056894
         ],
         "y": [
          -0.05838938504458397,
          -0.07780670651488288,
          0.9359569448475777
         ],
         "z": [
          -0.04235178565360611,
          -0.23088154767705502,
          -0.6368291797838432
         ]
        },
        {
         "hovertemplate": "color=Podilymbus<br>PCA1=%{x}<br>PCA2=%{y}<br>PCA3=%{z}<extra></extra>",
         "legendgroup": "Podilymbus",
         "marker": {
          "color": "#00cc96",
          "symbol": "circle"
         },
         "mode": "markers",
         "name": "Podilymbus",
         "scene": "scene",
         "showlegend": true,
         "type": "scatter3d",
         "x": [
          -0.7561781079701,
          -1.3150436977094233,
          0.004576875590828068
         ],
         "y": [
          -0.11419387703300167,
          0.30094314228714414,
          -0.14724380693607675
         ],
         "z": [
          0.7875927928911921,
          0.40293492553783816,
          -0.5767778788012172
         ]
        },
        {
         "hovertemplate": "color=Poecilotriccus<br>PCA1=%{x}<br>PCA2=%{y}<br>PCA3=%{z}<extra></extra>",
         "legendgroup": "Poecilotriccus",
         "marker": {
          "color": "#ab63fa",
          "symbol": "circle"
         },
         "mode": "markers",
         "name": "Poecilotriccus",
         "scene": "scene",
         "showlegend": true,
         "type": "scatter3d",
         "x": [
          -0.6705724905867153,
          -1.4969805068188227,
          -0.6955062528966562,
          -0.8493935299812874,
          2.4597482114370552,
          -1.4922167721556645,
          -1.3429061283733197,
          -1.2223964638633535,
          -0.04285131460199533,
          -0.9770093300414036,
          -1.1112276164671044,
          -0.8933527044578999,
          -1.4744243482898627,
          -1.5159931616895004,
          0.1656409911479643
         ],
         "y": [
          1.0514049732007442,
          0.020503307459335537,
          0.012771993199270611,
          0.09237941255044059,
          -0.410646013384611,
          -0.031447947537357586,
          -0.42089756182285093,
          -0.24710416608960667,
          -0.35644808865288674,
          -1.1748610150418393,
          -0.16418817820469783,
          -0.10007300205910734,
          -0.26668113921295317,
          -0.24316972881847315,
          -0.13824141067081788
         ],
         "z": [
          -0.10914115438504021,
          0.306409388536403,
          -0.44279460089423117,
          -0.43293895843931995,
          -1.0038308269750593,
          -0.3365263860783732,
          0.04079273625395822,
          -0.25398051341017996,
          -0.6607843237219653,
          -0.36857093375044403,
          -0.46389307971449545,
          -0.46214736533118284,
          -0.38579203038752485,
          -0.3066381565106048,
          -0.3521082967951083
         ]
        },
        {
         "hovertemplate": "color=Polioptila<br>PCA1=%{x}<br>PCA2=%{y}<br>PCA3=%{z}<extra></extra>",
         "legendgroup": "Polioptila",
         "marker": {
          "color": "#FFA15A",
          "symbol": "circle"
         },
         "mode": "markers",
         "name": "Polioptila",
         "scene": "scene",
         "showlegend": true,
         "type": "scatter3d",
         "x": [
          0.6520581482746273,
          -0.927688767300703,
          -0.9213920860908044
         ],
         "y": [
          0.23103593386563118,
          -0.2386163744183996,
          -0.09837737956304037
         ],
         "z": [
          -0.011909847983254448,
          -0.17258482896162824,
          0.17010293903208665
         ]
        },
        {
         "hovertemplate": "color=Polytmus<br>PCA1=%{x}<br>PCA2=%{y}<br>PCA3=%{z}<extra></extra>",
         "legendgroup": "Polytmus",
         "marker": {
          "color": "#19d3f3",
          "symbol": "circle"
         },
         "mode": "markers",
         "name": "Polytmus",
         "scene": "scene",
         "showlegend": true,
         "type": "scatter3d",
         "x": [
          -0.6728260403586349,
          0.13092680009829236,
          0.6776992618252804,
          -1.0920751056482205
         ],
         "y": [
          -0.3708587917717008,
          -1.0347727115325749,
          0.3825306906579529,
          0.17480672889560606
         ],
         "z": [
          -0.597863470623594,
          -0.5586861881004165,
          0.12171875494456222,
          0.9070179992270195
         ]
        },
        {
         "hovertemplate": "color=Porphyrio<br>PCA1=%{x}<br>PCA2=%{y}<br>PCA3=%{z}<extra></extra>",
         "legendgroup": "Porphyrio",
         "marker": {
          "color": "#FF6692",
          "symbol": "circle"
         },
         "mode": "markers",
         "name": "Porphyrio",
         "scene": "scene",
         "showlegend": true,
         "type": "scatter3d",
         "x": [
          -0.8430059392902074,
          0.3978790660690056,
          -1.0733307153246086,
          -1.3968467025185087
         ],
         "y": [
          0.24789389937332956,
          -0.001654350722897785,
          0.2666351398649729,
          -0.08048092403366164
         ],
         "z": [
          -0.5119384404342353,
          -0.9206428995833917,
          -0.5356410170501554,
          0.45629620084950023
         ]
        },
        {
         "hovertemplate": "color=Porphyrolaema<br>PCA1=%{x}<br>PCA2=%{y}<br>PCA3=%{z}<extra></extra>",
         "legendgroup": "Porphyrolaema",
         "marker": {
          "color": "#B6E880",
          "symbol": "circle"
         },
         "mode": "markers",
         "name": "Porphyrolaema",
         "scene": "scene",
         "showlegend": true,
         "type": "scatter3d",
         "x": [
          0.5494349282003567
         ],
         "y": [
          -0.12099007521939603
         ],
         "z": [
          -0.11002198763180907
         ]
        },
        {
         "hovertemplate": "color=Premnoplex<br>PCA1=%{x}<br>PCA2=%{y}<br>PCA3=%{z}<extra></extra>",
         "legendgroup": "Premnoplex",
         "marker": {
          "color": "#FF97FF",
          "symbol": "circle"
         },
         "mode": "markers",
         "name": "Premnoplex",
         "scene": "scene",
         "showlegend": true,
         "type": "scatter3d",
         "x": [
          -0.1361725853773048,
          0.5204695896816062,
          0.08767290407433331
         ],
         "y": [
          0.5357258795662317,
          0.9739795336962964,
          -0.2004808783230893
         ],
         "z": [
          -0.3040764662610527,
          -0.5472094444568475,
          -0.3880354981587451
         ]
        },
        {
         "hovertemplate": "color=Premnornis<br>PCA1=%{x}<br>PCA2=%{y}<br>PCA3=%{z}<extra></extra>",
         "legendgroup": "Premnornis",
         "marker": {
          "color": "#FECB52",
          "symbol": "circle"
         },
         "mode": "markers",
         "name": "Premnornis",
         "scene": "scene",
         "showlegend": true,
         "type": "scatter3d",
         "x": [
          0.5698913395596146,
          -0.7728618555002016,
          -0.6868255310467147,
          0.3247112835540836
         ],
         "y": [
          -1.1868515872862568,
          -0.2047091133843081,
          -0.4381961402423241,
          -0.8337793509963534
         ],
         "z": [
          -0.2173901356132309,
          0.27344199132551195,
          -0.19693089479241627,
          -0.4740321755281113
         ]
        },
        {
         "hovertemplate": "color=Primolius<br>PCA1=%{x}<br>PCA2=%{y}<br>PCA3=%{z}<extra></extra>",
         "legendgroup": "Primolius",
         "marker": {
          "color": "#636efa",
          "symbol": "circle"
         },
         "mode": "markers",
         "name": "Primolius",
         "scene": "scene",
         "showlegend": true,
         "type": "scatter3d",
         "x": [
          1.3755835101488807,
          -0.467037890090404
         ],
         "y": [
          -0.7282195100960749,
          -0.5068302375571968
         ],
         "z": [
          -0.5609346247775869,
          -0.1793805069984521
         ]
        },
        {
         "hovertemplate": "color=Progne<br>PCA1=%{x}<br>PCA2=%{y}<br>PCA3=%{z}<extra></extra>",
         "legendgroup": "Progne",
         "marker": {
          "color": "#EF553B",
          "symbol": "circle"
         },
         "mode": "markers",
         "name": "Progne",
         "scene": "scene",
         "showlegend": true,
         "type": "scatter3d",
         "x": [
          -0.7122564650795928,
          -0.1957450531599327,
          4.756564309671332,
          8.89009927970779,
          -0.4607509293202391,
          -0.806878988105862,
          2.073916491310271,
          1.5672755064777852,
          1.2243593631571816
         ],
         "y": [
          -0.11938849124624151,
          -1.1420613159226054,
          -0.19906594066990496,
          3.1360144408020183,
          -0.7307687743990249,
          -0.3341024775076443,
          -2.0055522849374277,
          -0.3906531832299361,
          0.9378291543913692
         ],
         "z": [
          -0.1582088273202015,
          -0.5136369565643721,
          -0.34873881499095893,
          -2.246214144681088,
          -0.05805350682981262,
          0.23493554952224893,
          -0.08391459135973528,
          -0.04155032618397477,
          -0.31249937860726584
         ]
        },
        {
         "hovertemplate": "color=Psarocolius<br>PCA1=%{x}<br>PCA2=%{y}<br>PCA3=%{z}<extra></extra>",
         "legendgroup": "Psarocolius",
         "marker": {
          "color": "#00cc96",
          "symbol": "circle"
         },
         "mode": "markers",
         "name": "Psarocolius",
         "scene": "scene",
         "showlegend": true,
         "type": "scatter3d",
         "x": [
          4.3070299536621155,
          2.3580367445549943,
          -0.10594678537450107,
          0.303548392655244,
          -0.2670546695736162,
          2.872831602007352,
          4.0620581197520576,
          2.0240398580643992,
          -0.2011400585559119,
          0.5143816302448759,
          -0.9167761921488435,
          1.9393263377357612,
          -1.2800070972596345,
          0.3697750815569041
         ],
         "y": [
          2.4721057295883537,
          1.0621819409886644,
          -0.371902405859235,
          1.4900547091817298,
          0.02449972302808674,
          2.2057673172952628,
          2.317153528715731,
          2.6071372234290817,
          -1.1568987106279787,
          1.5082311680252625,
          0.05551626829116767,
          2.092800287758587,
          0.2670911630161433,
          1.222342556841408
         ],
         "z": [
          -1.1336734895241645,
          -0.8346125919923244,
          0.832900247391577,
          -0.902381032461425,
          -0.7349182827321441,
          -1.3354036787080354,
          -0.6725189220377782,
          -0.7496681512815654,
          -0.5667237720259368,
          -0.3161653574022795,
          -0.16436247014676988,
          -0.9433799538896075,
          -0.004422882540425252,
          -0.702800610461667
         ]
        },
        {
         "hovertemplate": "color=Pseudastur<br>PCA1=%{x}<br>PCA2=%{y}<br>PCA3=%{z}<extra></extra>",
         "legendgroup": "Pseudastur",
         "marker": {
          "color": "#ab63fa",
          "symbol": "circle"
         },
         "mode": "markers",
         "name": "Pseudastur",
         "scene": "scene",
         "showlegend": true,
         "type": "scatter3d",
         "x": [
          -0.5509017108987251,
          -0.7668059610408516
         ],
         "y": [
          0.5237747093389523,
          -0.497452327422805
         ],
         "z": [
          -0.414211743900887,
          -0.06770379780498614
         ]
        },
        {
         "hovertemplate": "color=Pseudocolopteryx<br>PCA1=%{x}<br>PCA2=%{y}<br>PCA3=%{z}<extra></extra>",
         "legendgroup": "Pseudocolopteryx",
         "marker": {
          "color": "#FFA15A",
          "symbol": "circle"
         },
         "mode": "markers",
         "name": "Pseudocolopteryx",
         "scene": "scene",
         "showlegend": true,
         "type": "scatter3d",
         "x": [
          -1.521986391547636,
          -1.4634058572957735,
          -0.8027565188131206
         ],
         "y": [
          -0.3824556072354961,
          -0.49629178932414186,
          -0.2587487240730435
         ],
         "z": [
          -0.4298372811148699,
          -0.3821526938258308,
          -0.46542505318036603
         ]
        },
        {
         "hovertemplate": "color=Pseudotriccus<br>PCA1=%{x}<br>PCA2=%{y}<br>PCA3=%{z}<extra></extra>",
         "legendgroup": "Pseudotriccus",
         "marker": {
          "color": "#19d3f3",
          "symbol": "circle"
         },
         "mode": "markers",
         "name": "Pseudotriccus",
         "scene": "scene",
         "showlegend": true,
         "type": "scatter3d",
         "x": [
          0.04299159424502704,
          2.4162622113568144,
          0.18700890015188618,
          -1.5079219168339744
         ],
         "y": [
          2.2420823188532273,
          1.2122969743192928,
          0.887136479814332,
          -0.14917409200794385
         ],
         "z": [
          -0.8535334605169622,
          -0.06459843298361777,
          -0.30309285300845207,
          -0.11959882997699717
         ]
        },
        {
         "hovertemplate": "color=Psittacara<br>PCA1=%{x}<br>PCA2=%{y}<br>PCA3=%{z}<extra></extra>",
         "legendgroup": "Psittacara",
         "marker": {
          "color": "#FF6692",
          "symbol": "circle"
         },
         "mode": "markers",
         "name": "Psittacara",
         "scene": "scene",
         "showlegend": true,
         "type": "scatter3d",
         "x": [
          -0.6223694492391175,
          -0.2176291193499008,
          -0.8802117755248188
         ],
         "y": [
          -0.3925450873073594,
          0.011208612081529462,
          -0.680389378498226
         ],
         "z": [
          0.3929400291003273,
          -0.29299105778374307,
          -0.2597601686120946
         ]
        },
        {
         "hovertemplate": "color=Psophia<br>PCA1=%{x}<br>PCA2=%{y}<br>PCA3=%{z}<extra></extra>",
         "legendgroup": "Psophia",
         "marker": {
          "color": "#B6E880",
          "symbol": "circle"
         },
         "mode": "markers",
         "name": "Psophia",
         "scene": "scene",
         "showlegend": true,
         "type": "scatter3d",
         "x": [
          0.3718075365444939,
          -0.3202129459899542
         ],
         "y": [
          -0.9469806925576248,
          -0.43807522103883856
         ],
         "z": [
          0.00463526413690481,
          0.8140295812117014
         ]
        },
        {
         "hovertemplate": "color=Pteroglossus<br>PCA1=%{x}<br>PCA2=%{y}<br>PCA3=%{z}<extra></extra>",
         "legendgroup": "Pteroglossus",
         "marker": {
          "color": "#FF97FF",
          "symbol": "circle"
         },
         "mode": "markers",
         "name": "Pteroglossus",
         "scene": "scene",
         "showlegend": true,
         "type": "scatter3d",
         "x": [
          2.971078143688223,
          0.24780408241144752,
          -0.3387496788220823,
          -0.32639449393778996,
          -0.624309992251725,
          0.10425557805068267,
          -0.0627106425626907,
          -0.5564315668486002,
          0.5854772328942351,
          -0.05532153422547977,
          0.7446951232806042
         ],
         "y": [
          -3.330878808167565,
          -1.5643082922698905,
          -0.2541588351164559,
          -0.4142912321906464,
          -0.5472163827831944,
          -0.8238381829948821,
          -0.7925868119808442,
          -0.22059929879327012,
          -2.415476367592927,
          -0.9610802931465666,
          -2.6746644106406876
         ],
         "z": [
          -0.6838205939393597,
          -0.5388461623738897,
          0.06805376433433694,
          0.48181289186347515,
          -0.3486736588802305,
          0.2667696965104038,
          -0.06000510996729411,
          -0.3040731440243832,
          -0.11156517655168298,
          0.003998460559646471,
          0.9372659870975076
         ]
        },
        {
         "hovertemplate": "color=Pulsatrix<br>PCA1=%{x}<br>PCA2=%{y}<br>PCA3=%{z}<extra></extra>",
         "legendgroup": "Pulsatrix",
         "marker": {
          "color": "#FECB52",
          "symbol": "circle"
         },
         "mode": "markers",
         "name": "Pulsatrix",
         "scene": "scene",
         "showlegend": true,
         "type": "scatter3d",
         "x": [
          1.6084409345680863,
          0.1997050807547352,
          -1.1224222981708045,
          0.24692656077070374,
          -0.8975951783394833,
          1.5815898878664691
         ],
         "y": [
          0.9895543448914232,
          2.0867127238429215,
          -0.03400419183829269,
          1.5465915508922354,
          0.09059992627817927,
          2.4578580541952677
         ],
         "z": [
          0.42045844831212226,
          -0.7519053583485884,
          -0.2839446898235923,
          -0.20282073826843286,
          0.3630090618603334,
          -1.0808410416101688
         ]
        },
        {
         "hovertemplate": "color=Pygiptila<br>PCA1=%{x}<br>PCA2=%{y}<br>PCA3=%{z}<extra></extra>",
         "legendgroup": "Pygiptila",
         "marker": {
          "color": "#636efa",
          "symbol": "circle"
         },
         "mode": "markers",
         "name": "Pygiptila",
         "scene": "scene",
         "showlegend": true,
         "type": "scatter3d",
         "x": [
          0.4680758738006651,
          -0.24647764739763225
         ],
         "y": [
          -0.480680450293826,
          -0.7928424454660898
         ],
         "z": [
          0.47296833213899675,
          -0.21073036275431292
         ]
        },
        {
         "hovertemplate": "color=Pyrilia<br>PCA1=%{x}<br>PCA2=%{y}<br>PCA3=%{z}<extra></extra>",
         "legendgroup": "Pyrilia",
         "marker": {
          "color": "#EF553B",
          "symbol": "circle"
         },
         "mode": "markers",
         "name": "Pyrilia",
         "scene": "scene",
         "showlegend": true,
         "type": "scatter3d",
         "x": [
          0.7450489564477683,
          -1.5830507023723852
         ],
         "y": [
          1.1538485210688005,
          -0.14682249646506745
         ],
         "z": [
          -0.8447894143399981,
          -0.12699806982505427
         ]
        },
        {
         "hovertemplate": "color=Pyrocephalus<br>PCA1=%{x}<br>PCA2=%{y}<br>PCA3=%{z}<extra></extra>",
         "legendgroup": "Pyrocephalus",
         "marker": {
          "color": "#00cc96",
          "symbol": "circle"
         },
         "mode": "markers",
         "name": "Pyrocephalus",
         "scene": "scene",
         "showlegend": true,
         "type": "scatter3d",
         "x": [
          -0.11892227321168743,
          0.9572292004406601
         ],
         "y": [
          -0.09988414726941905,
          -0.3273602710072452
         ],
         "z": [
          -0.15176246380244718,
          -0.5888113675442513
         ]
        },
        {
         "hovertemplate": "color=Pyrrhomyias<br>PCA1=%{x}<br>PCA2=%{y}<br>PCA3=%{z}<extra></extra>",
         "legendgroup": "Pyrrhomyias",
         "marker": {
          "color": "#ab63fa",
          "symbol": "circle"
         },
         "mode": "markers",
         "name": "Pyrrhomyias",
         "scene": "scene",
         "showlegend": true,
         "type": "scatter3d",
         "x": [
          -0.44275088190265516,
          1.8679341977270327
         ],
         "y": [
          -0.6730157223727015,
          0.41226184701417673
         ],
         "z": [
          -0.481925001762999,
          -0.7085552589997748
         ]
        },
        {
         "hovertemplate": "color=Pyrrhura<br>PCA1=%{x}<br>PCA2=%{y}<br>PCA3=%{z}<extra></extra>",
         "legendgroup": "Pyrrhura",
         "marker": {
          "color": "#FFA15A",
          "symbol": "circle"
         },
         "mode": "markers",
         "name": "Pyrrhura",
         "scene": "scene",
         "showlegend": true,
         "type": "scatter3d",
         "x": [
          -0.4938651993486637,
          0.9737107489396416,
          -1.0159153643884704
         ],
         "y": [
          -0.8433795546113715,
          -0.3058774381639476,
          -0.2695890308307772
         ],
         "z": [
          -0.1361265558209601,
          -0.28332052377203937,
          -0.38347330172816696
         ]
        },
        {
         "hovertemplate": "color=Querula<br>PCA1=%{x}<br>PCA2=%{y}<br>PCA3=%{z}<extra></extra>",
         "legendgroup": "Querula",
         "marker": {
          "color": "#19d3f3",
          "symbol": "circle"
         },
         "mode": "markers",
         "name": "Querula",
         "scene": "scene",
         "showlegend": true,
         "type": "scatter3d",
         "x": [
          -0.9699382425931439,
          -1.311995850082235
         ],
         "y": [
          0.009938180871142333,
          -0.3046528494810966
         ],
         "z": [
          0.611856981642746,
          -0.18034429115411157
         ]
        },
        {
         "hovertemplate": "color=Ramphastos<br>PCA1=%{x}<br>PCA2=%{y}<br>PCA3=%{z}<extra></extra>",
         "legendgroup": "Ramphastos",
         "marker": {
          "color": "#FF6692",
          "symbol": "circle"
         },
         "mode": "markers",
         "name": "Ramphastos",
         "scene": "scene",
         "showlegend": true,
         "type": "scatter3d",
         "x": [
          -1.161211464596289,
          -1.150274513358492,
          -0.8079458575457849,
          2.2015437698790667,
          7.460992086846864,
          3.074536029197425,
          0.13476320372267803,
          -0.522118663818525
         ],
         "y": [
          -0.41610495971969863,
          -0.34744494799678916,
          -0.07462409805791087,
          0.04210767741930347,
          -8.193101549387762,
          1.2405274812461013,
          -0.6693102125035869,
          -0.43657169593004563
         ],
         "z": [
          -0.3181295741977244,
          -0.46407328149560195,
          -0.43804409484907814,
          0.33415336817202296,
          -0.1912919678452995,
          9.184915173224692,
          -0.19467146180161382,
          -0.034805260261044815
         ]
        },
        {
         "hovertemplate": "color=Ramphocaenus<br>PCA1=%{x}<br>PCA2=%{y}<br>PCA3=%{z}<extra></extra>",
         "legendgroup": "Ramphocaenus",
         "marker": {
          "color": "#B6E880",
          "symbol": "circle"
         },
         "mode": "markers",
         "name": "Ramphocaenus",
         "scene": "scene",
         "showlegend": true,
         "type": "scatter3d",
         "x": [
          1.5329419869960639,
          0.559128831101981,
          -0.7443806484538611,
          4.33669365382591,
          -0.8019471110842201,
          6.418684521453494
         ],
         "y": [
          -0.4191423949253649,
          0.22170521550982394,
          -0.9892214624423928,
          -9.791365923352139,
          0.36155656106591716,
          -12.161105409464161
         ],
         "z": [
          -0.21192944658897425,
          0.5491517632581141,
          -0.44873744292658596,
          -1.527561303929317,
          0.4536278352664559,
          -1.8022033480034554
         ]
        },
        {
         "hovertemplate": "color=Ramphocelus<br>PCA1=%{x}<br>PCA2=%{y}<br>PCA3=%{z}<extra></extra>",
         "legendgroup": "Ramphocelus",
         "marker": {
          "color": "#FF97FF",
          "symbol": "circle"
         },
         "mode": "markers",
         "name": "Ramphocelus",
         "scene": "scene",
         "showlegend": true,
         "type": "scatter3d",
         "x": [
          -0.1892112233394124,
          3.6513753875720383,
          1.4361029862276724,
          1.4468903775606738,
          -0.10594690753332897,
          0.010757615656833605,
          0.9181719675550324
         ],
         "y": [
          -0.07195431351491582,
          -1.447805895473808,
          -0.49728957250650113,
          -0.6369079528040552,
          -0.2760602261877023,
          -2.044167213699851,
          -0.5324831894644403
         ],
         "z": [
          -0.3787618361575164,
          0.5104830716540019,
          -0.8944054357328055,
          -0.7529626798387429,
          -0.33805081750006183,
          -0.21923814399890415,
          -0.5060996068868456
         ]
        },
        {
         "hovertemplate": "color=Ramphotrigon<br>PCA1=%{x}<br>PCA2=%{y}<br>PCA3=%{z}<extra></extra>",
         "legendgroup": "Ramphotrigon",
         "marker": {
          "color": "#FECB52",
          "symbol": "circle"
         },
         "mode": "markers",
         "name": "Ramphotrigon",
         "scene": "scene",
         "showlegend": true,
         "type": "scatter3d",
         "x": [
          -0.6324404055904259,
          0.3472324826225932,
          0.7894310329217025,
          -0.8214151660627543,
          -0.5983112109975124,
          0.36188886541265175,
          1.3748342690380193
         ],
         "y": [
          -0.27359333002652786,
          0.3224587320517001,
          -0.48912008979541133,
          0.20198638651030343,
          -0.24435639648338617,
          0.7716445334409371,
          1.8065028065131883
         ],
         "z": [
          -0.11028400903387323,
          0.6504797908264233,
          -0.35153252725009954,
          -0.4857953713005204,
          -0.006994964546076586,
          -0.3884792133156152,
          -0.8379898881124974
         ]
        },
        {
         "hovertemplate": "color=Rhegmatorhina<br>PCA1=%{x}<br>PCA2=%{y}<br>PCA3=%{z}<extra></extra>",
         "legendgroup": "Rhegmatorhina",
         "marker": {
          "color": "#636efa",
          "symbol": "circle"
         },
         "mode": "markers",
         "name": "Rhegmatorhina",
         "scene": "scene",
         "showlegend": true,
         "type": "scatter3d",
         "x": [
          1.3539773141869131,
          1.5833879233619974
         ],
         "y": [
          0.4423426910985743,
          0.6714642776287525
         ],
         "z": [
          0.7509516324748613,
          -0.06676272576108172
         ]
        },
        {
         "hovertemplate": "color=Rhynchocyclus<br>PCA1=%{x}<br>PCA2=%{y}<br>PCA3=%{z}<extra></extra>",
         "legendgroup": "Rhynchocyclus",
         "marker": {
          "color": "#EF553B",
          "symbol": "circle"
         },
         "mode": "markers",
         "name": "Rhynchocyclus",
         "scene": "scene",
         "showlegend": true,
         "type": "scatter3d",
         "x": [
          -1.1433548863171028,
          -1.048482886638053,
          -0.7537127288245111,
          0.24320905869035359,
          1.6238820815644661
         ],
         "y": [
          0.41759677593240435,
          0.35483002755776083,
          0.11076975156563841,
          -0.5685853659083899,
          4.110828640664621
         ],
         "z": [
          -0.2635065817846133,
          -0.5758160996072901,
          -0.10471682760847659,
          -0.3856217482229152,
          -1.5832125606736307
         ]
        },
        {
         "hovertemplate": "color=Rhynchotus<br>PCA1=%{x}<br>PCA2=%{y}<br>PCA3=%{z}<extra></extra>",
         "legendgroup": "Rhynchotus",
         "marker": {
          "color": "#00cc96",
          "symbol": "circle"
         },
         "mode": "markers",
         "name": "Rhynchotus",
         "scene": "scene",
         "showlegend": true,
         "type": "scatter3d",
         "x": [
          -0.5708187044440947,
          0.7708265292342296
         ],
         "y": [
          -0.22395937087932682,
          -0.511204381677421
         ],
         "z": [
          -0.5763668041046527,
          -0.9275322395198755
         ]
        },
        {
         "hovertemplate": "color=Rhytipterna<br>PCA1=%{x}<br>PCA2=%{y}<br>PCA3=%{z}<extra></extra>",
         "legendgroup": "Rhytipterna",
         "marker": {
          "color": "#ab63fa",
          "symbol": "circle"
         },
         "mode": "markers",
         "name": "Rhytipterna",
         "scene": "scene",
         "showlegend": true,
         "type": "scatter3d",
         "x": [
          -1.4382441091243878,
          -1.340668994645934,
          -1.4623255637727999,
          -0.9697985416751153,
          2.64192987901866
         ],
         "y": [
          -0.005722521343505322,
          0.07633283049987127,
          0.11844476651789274,
          0.3437688694816707,
          1.534488224012779
         ],
         "z": [
          -0.2502529391297443,
          -0.14188320398590118,
          0.41310362403837025,
          -0.34517485990412344,
          -1.0968788318288458
         ]
        },
        {
         "hovertemplate": "color=Riparia<br>PCA1=%{x}<br>PCA2=%{y}<br>PCA3=%{z}<extra></extra>",
         "legendgroup": "Riparia",
         "marker": {
          "color": "#FFA15A",
          "symbol": "circle"
         },
         "mode": "markers",
         "name": "Riparia",
         "scene": "scene",
         "showlegend": true,
         "type": "scatter3d",
         "x": [
          0.8648806155797569,
          0.8251067204106101
         ],
         "y": [
          -1.7999744336172232,
          -1.712453539548218
         ],
         "z": [
          -0.43932446343489506,
          -0.7029299040558878
         ]
        },
        {
         "hovertemplate": "color=Rollandia<br>PCA1=%{x}<br>PCA2=%{y}<br>PCA3=%{z}<extra></extra>",
         "legendgroup": "Rollandia",
         "marker": {
          "color": "#19d3f3",
          "symbol": "circle"
         },
         "mode": "markers",
         "name": "Rollandia",
         "scene": "scene",
         "showlegend": true,
         "type": "scatter3d",
         "x": [
          -0.648574477085252,
          -1.2117873967216788,
          -0.19966643436563886
         ],
         "y": [
          -0.33814254961492757,
          0.435156980982542,
          -0.8545004000326626
         ],
         "z": [
          -0.5144495226527965,
          -0.1602145722052011,
          -0.45371296927187743
         ]
        },
        {
         "hovertemplate": "color=Rostrhamus<br>PCA1=%{x}<br>PCA2=%{y}<br>PCA3=%{z}<extra></extra>",
         "legendgroup": "Rostrhamus",
         "marker": {
          "color": "#FF6692",
          "symbol": "circle"
         },
         "mode": "markers",
         "name": "Rostrhamus",
         "scene": "scene",
         "showlegend": true,
         "type": "scatter3d",
         "x": [
          -0.48802970153424813
         ],
         "y": [
          0.678700737022146
         ],
         "z": [
          -0.45281780227743273
         ]
        },
        {
         "hovertemplate": "color=Rupicola<br>PCA1=%{x}<br>PCA2=%{y}<br>PCA3=%{z}<extra></extra>",
         "legendgroup": "Rupicola",
         "marker": {
          "color": "#B6E880",
          "symbol": "circle"
         },
         "mode": "markers",
         "name": "Rupicola",
         "scene": "scene",
         "showlegend": true,
         "type": "scatter3d",
         "x": [
          3.2837448297029073,
          0.3310200149441744,
          7.001417040587947,
          -0.06303959926220278,
          -1.1712475225966685
         ],
         "y": [
          -2.6296484826749214,
          0.9776773267161528,
          -4.0496522769213446,
          -0.3490170325225437,
          0.2140197917576213
         ],
         "z": [
          -0.44922026914603747,
          -0.8155633269659872,
          -0.46891464484922185,
          -0.48035399694144953,
          -0.4398690141713563
         ]
        },
        {
         "hovertemplate": "color=Rupornis<br>PCA1=%{x}<br>PCA2=%{y}<br>PCA3=%{z}<extra></extra>",
         "legendgroup": "Rupornis",
         "marker": {
          "color": "#FF97FF",
          "symbol": "circle"
         },
         "mode": "markers",
         "name": "Rupornis",
         "scene": "scene",
         "showlegend": true,
         "type": "scatter3d",
         "x": [
          1.1878987675384913,
          -0.5161687375352987,
          0.20675372534915498
         ],
         "y": [
          -2.6498807198996612,
          0.5422845307410668,
          1.7129522380456974
         ],
         "z": [
          -0.6951468889937126,
          -0.3617072917347721,
          -0.7805174817010353
         ]
        },
        {
         "hovertemplate": "color=Rynchops<br>PCA1=%{x}<br>PCA2=%{y}<br>PCA3=%{z}<extra></extra>",
         "legendgroup": "Rynchops",
         "marker": {
          "color": "#FECB52",
          "symbol": "circle"
         },
         "mode": "markers",
         "name": "Rynchops",
         "scene": "scene",
         "showlegend": true,
         "type": "scatter3d",
         "x": [
          2.41564752310049,
          -1.4078022360452505,
          0.1973491701665721,
          0.14798132309528728
         ],
         "y": [
          -2.70669154826603,
          -0.3109819529945995,
          -1.4433092062416444,
          -1.836930436892709
         ],
         "z": [
          -0.11469481801953336,
          -0.4334661918718708,
          -0.42447069198302106,
          -0.19407174257852364
         ]
        },
        {
         "hovertemplate": "color=Saltator<br>PCA1=%{x}<br>PCA2=%{y}<br>PCA3=%{z}<extra></extra>",
         "legendgroup": "Saltator",
         "marker": {
          "color": "#636efa",
          "symbol": "circle"
         },
         "mode": "markers",
         "name": "Saltator",
         "scene": "scene",
         "showlegend": true,
         "type": "scatter3d",
         "x": [
          -0.9569410897344907,
          -0.12739510789106817,
          -1.0050046588826465,
          -0.7591655902181806,
          -0.622283891339152,
          -0.1400074238404666,
          -0.2735011059835538,
          0.7119252964481195,
          -0.10607154176904737,
          0.3086987546033661
         ],
         "y": [
          0.4019602372598156,
          0.04591950499962754,
          0.3198813557173784,
          0.2323663441729883,
          0.17071604716778607,
          0.881436983182973,
          0.7728877901029294,
          -0.679995678276621,
          0.44454852786116544,
          -0.4323379841017366
         ],
         "z": [
          0.06318681205349183,
          -0.5994050495853557,
          0.18299974416265877,
          -0.07298971916972571,
          -0.025547810036325138,
          -0.45682014697203865,
          -0.2228364269165939,
          -0.2997848438027922,
          -0.5635819362442577,
          -0.1749871636315345
         ]
        },
        {
         "hovertemplate": "color=Sarcoramphus<br>PCA1=%{x}<br>PCA2=%{y}<br>PCA3=%{z}<extra></extra>",
         "legendgroup": "Sarcoramphus",
         "marker": {
          "color": "#EF553B",
          "symbol": "circle"
         },
         "mode": "markers",
         "name": "Sarcoramphus",
         "scene": "scene",
         "showlegend": true,
         "type": "scatter3d",
         "x": [
          2.901074250656225,
          -1.3656280660490296
         ],
         "y": [
          3.8060621450530947,
          -0.1583531166677385
         ],
         "z": [
          -0.9346790405305667,
          -0.33198022865180393
         ]
        },
        {
         "hovertemplate": "color=Satrapa<br>PCA1=%{x}<br>PCA2=%{y}<br>PCA3=%{z}<extra></extra>",
         "legendgroup": "Satrapa",
         "marker": {
          "color": "#00cc96",
          "symbol": "circle"
         },
         "mode": "markers",
         "name": "Satrapa",
         "scene": "scene",
         "showlegend": true,
         "type": "scatter3d",
         "x": [
          -1.4015230769193743
         ],
         "y": [
          0.24130757342764325
         ],
         "z": [
          -0.4902218576034776
         ]
        },
        {
         "hovertemplate": "color=Sayornis<br>PCA1=%{x}<br>PCA2=%{y}<br>PCA3=%{z}<extra></extra>",
         "legendgroup": "Sayornis",
         "marker": {
          "color": "#ab63fa",
          "symbol": "circle"
         },
         "mode": "markers",
         "name": "Sayornis",
         "scene": "scene",
         "showlegend": true,
         "type": "scatter3d",
         "x": [
          -0.8140619330217206,
          4.489174400919188,
          -1.1407130559900998
         ],
         "y": [
          -0.3700123106175403,
          -1.363135805369711,
          -0.24120785232290187
         ],
         "z": [
          -0.24310780909249502,
          -1.6397693843430279,
          -0.4458079278477113
         ]
        },
        {
         "hovertemplate": "color=Schiffornis<br>PCA1=%{x}<br>PCA2=%{y}<br>PCA3=%{z}<extra></extra>",
         "legendgroup": "Schiffornis",
         "marker": {
          "color": "#FFA15A",
          "symbol": "circle"
         },
         "mode": "markers",
         "name": "Schiffornis",
         "scene": "scene",
         "showlegend": true,
         "type": "scatter3d",
         "x": [
          -0.49453950740362157,
          -0.39843955933397884,
          -0.2369462805002705,
          -0.6305624234867462,
          0.8060734441461878,
          -1.1725370853356056,
          -0.6398114202011385,
          1.7834637330887275,
          0.5067214499331699
         ],
         "y": [
          0.17166042030376238,
          -0.03350863755585068,
          0.04111699234760928,
          0.168941468462207,
          -0.2607373488053119,
          -0.45925577245076665,
          -0.7211375280578021,
          -0.830487255833811,
          -0.0259438060920549
         ],
         "z": [
          0.2631790551991294,
          0.3465668094454249,
          0.3319340844574177,
          -0.1934067500207528,
          -0.5436559019493147,
          -0.10357542456678312,
          -0.193193422757451,
          -0.35922710645783323,
          -0.5371965682998983
         ]
        },
        {
         "hovertemplate": "color=Schistes<br>PCA1=%{x}<br>PCA2=%{y}<br>PCA3=%{z}<extra></extra>",
         "legendgroup": "Schistes",
         "marker": {
          "color": "#19d3f3",
          "symbol": "circle"
         },
         "mode": "markers",
         "name": "Schistes",
         "scene": "scene",
         "showlegend": true,
         "type": "scatter3d",
         "x": [
          0.13917387468849912,
          0.18030711145208222
         ],
         "y": [
          -1.515675142671097,
          -1.225782941959892
         ],
         "z": [
          -0.4275536623327057,
          -0.30665522506733833
         ]
        },
        {
         "hovertemplate": "color=Schistochlamys<br>PCA1=%{x}<br>PCA2=%{y}<br>PCA3=%{z}<extra></extra>",
         "legendgroup": "Schistochlamys",
         "marker": {
          "color": "#FF6692",
          "symbol": "circle"
         },
         "mode": "markers",
         "name": "Schistochlamys",
         "scene": "scene",
         "showlegend": true,
         "type": "scatter3d",
         "x": [
          0.7035304830834498,
          -1.29440696451428
         ],
         "y": [
          0.12326176158508072,
          -0.4493607025430273
         ],
         "z": [
          -0.9611007895681876,
          -0.09369805587374519
         ]
        },
        {
         "hovertemplate": "color=Sciaphylax<br>PCA1=%{x}<br>PCA2=%{y}<br>PCA3=%{z}<extra></extra>",
         "legendgroup": "Sciaphylax",
         "marker": {
          "color": "#B6E880",
          "symbol": "circle"
         },
         "mode": "markers",
         "name": "Sciaphylax",
         "scene": "scene",
         "showlegend": true,
         "type": "scatter3d",
         "x": [
          0.827071854553006,
          0.5940319695994016,
          -1.6038887840590499
         ],
         "y": [
          1.129787459828799,
          1.6759526377124112,
          -0.09188494076649728
         ],
         "z": [
          -0.42898223233376714,
          -0.6924595535975228,
          -0.1096342940708034
         ]
        },
        {
         "hovertemplate": "color=Sclateria<br>PCA1=%{x}<br>PCA2=%{y}<br>PCA3=%{z}<extra></extra>",
         "legendgroup": "Sclateria",
         "marker": {
          "color": "#FF97FF",
          "symbol": "circle"
         },
         "mode": "markers",
         "name": "Sclateria",
         "scene": "scene",
         "showlegend": true,
         "type": "scatter3d",
         "x": [
          0.7144017423432513,
          0.5699025202185817,
          0.6466230521958894
         ],
         "y": [
          0.22622299548533317,
          0.4244265456362046,
          1.6192377457204337
         ],
         "z": [
          0.8479924673714404,
          0.8179788500599482,
          0.8011653568944335
         ]
        },
        {
         "hovertemplate": "color=Sclerurus<br>PCA1=%{x}<br>PCA2=%{y}<br>PCA3=%{z}<extra></extra>",
         "legendgroup": "Sclerurus",
         "marker": {
          "color": "#FECB52",
          "symbol": "circle"
         },
         "mode": "markers",
         "name": "Sclerurus",
         "scene": "scene",
         "showlegend": true,
         "type": "scatter3d",
         "x": [
          1.4576505290579815,
          -0.0990271837404709,
          0.5813259414877717,
          1.8901285391365505,
          -0.8706207933127497,
          -0.06398395907824132,
          4.6915044122465215,
          -1.352312974705561,
          1.35221063748981
         ],
         "y": [
          -1.169511487357619,
          -0.5177143120045846,
          -1.0614041970143158,
          -0.6475930996758231,
          0.09157525612364682,
          -0.6637436807237201,
          -0.7140568425327535,
          -0.1694735751498051,
          0.3466583888203233
         ],
         "z": [
          0.5756117572009674,
          -0.4629338574146951,
          0.27760059715494856,
          0.25527493574039634,
          0.5412847751582615,
          -0.43953676012910176,
          -0.22994688475599467,
          -0.4910736812932463,
          -1.1622525577037202
         ]
        },
        {
         "hovertemplate": "color=Scytalopus<br>PCA1=%{x}<br>PCA2=%{y}<br>PCA3=%{z}<extra></extra>",
         "legendgroup": "Scytalopus",
         "marker": {
          "color": "#636efa",
          "symbol": "circle"
         },
         "mode": "markers",
         "name": "Scytalopus",
         "scene": "scene",
         "showlegend": true,
         "type": "scatter3d",
         "x": [
          0.36361483845131654,
          -0.4480590457120654,
          0.2445594908752451,
          0.9260380712132348,
          3.695155274065243,
          -0.8564731850620093,
          1.6536508169041748,
          -0.26267743367033913,
          -0.29619041129487916,
          -1.023392523221211,
          0.5160049494019937,
          0.04497297584547809
         ],
         "y": [
          -0.3129156530282414,
          -0.478043975867358,
          -0.49108816203246825,
          0.06584147565893725,
          -0.629228841299977,
          0.6452399885942526,
          0.20846442650672564,
          0.7052639972347235,
          -0.7469467715205415,
          -0.5838598011558932,
          2.442275898451856,
          1.8662447155395792
         ],
         "z": [
          -0.09264267169471653,
          0.02248103393810352,
          0.23233296875084702,
          1.951412502998163,
          3.991996871048489,
          -0.3155172833005653,
          0.05621537378268064,
          4.299088805456938,
          -0.4907833234708352,
          -0.37751587670383974,
          11.922108172318953,
          9.361219692845609
         ]
        },
        {
         "hovertemplate": "color=Selenidera<br>PCA1=%{x}<br>PCA2=%{y}<br>PCA3=%{z}<extra></extra>",
         "legendgroup": "Selenidera",
         "marker": {
          "color": "#EF553B",
          "symbol": "circle"
         },
         "mode": "markers",
         "name": "Selenidera",
         "scene": "scene",
         "showlegend": true,
         "type": "scatter3d",
         "x": [
          -0.7120798392721619,
          -0.9108753924602027
         ],
         "y": [
          0.6095580229689695,
          -0.43199383493345817
         ],
         "z": [
          1.6132760322425168,
          -0.29549671655711196
         ]
        },
        {
         "hovertemplate": "color=Serpophaga<br>PCA1=%{x}<br>PCA2=%{y}<br>PCA3=%{z}<extra></extra>",
         "legendgroup": "Serpophaga",
         "marker": {
          "color": "#00cc96",
          "symbol": "circle"
         },
         "mode": "markers",
         "name": "Serpophaga",
         "scene": "scene",
         "showlegend": true,
         "type": "scatter3d",
         "x": [
          -0.5692326672299912,
          -0.9409451779709993,
          -0.5686004404302015,
          -0.9151507917809866,
          -0.7002189487722427,
          -1.1535588047831717,
          -1.4455941034030995
         ],
         "y": [
          0.35120468781087516,
          0.09194476504973727,
          0.7219609033223524,
          0.322575103181504,
          0.03368251312747397,
          0.10672777959891812,
          -0.09873824129812142
         ],
         "z": [
          -0.6001099438222234,
          -0.5336638107399143,
          0.23986534739801016,
          -0.5143915194753769,
          -0.47740252016853546,
          -0.3452639757319419,
          -0.027912262682711235
         ]
        },
        {
         "hovertemplate": "color=Setopagis<br>PCA1=%{x}<br>PCA2=%{y}<br>PCA3=%{z}<extra></extra>",
         "legendgroup": "Setopagis",
         "marker": {
          "color": "#ab63fa",
          "symbol": "circle"
         },
         "mode": "markers",
         "name": "Setopagis",
         "scene": "scene",
         "showlegend": true,
         "type": "scatter3d",
         "x": [
          -0.8872030735715083,
          -0.39554837999818204,
          -0.6813485123729597
         ],
         "y": [
          0.43339517296348085,
          0.872258751442842,
          0.19874937908056647
         ],
         "z": [
          0.04038985353438223,
          -0.28223557211328343,
          -0.08388461975024891
         ]
        },
        {
         "hovertemplate": "color=Setophaga<br>PCA1=%{x}<br>PCA2=%{y}<br>PCA3=%{z}<extra></extra>",
         "legendgroup": "Setophaga",
         "marker": {
          "color": "#FFA15A",
          "symbol": "circle"
         },
         "mode": "markers",
         "name": "Setophaga",
         "scene": "scene",
         "showlegend": true,
         "type": "scatter3d",
         "x": [
          -1.5367562475647747,
          -1.5319859582673203,
          9.438224477308324,
          -0.1851906875199568,
          -0.8378528434949268,
          -0.23843524074770198,
          0.44684628821371924,
          -0.7446182237184941,
          -0.04113251322906612,
          0.13496734548591988,
          -0.48987687856934,
          0.4090830403590814,
          0.03234260328559781,
          0.1386751732439849,
          1.3344753378716034,
          2.65289204536921,
          -0.7906070295852868
         ],
         "y": [
          -0.05382101764193787,
          -0.014379464250915911,
          4.548215948742012,
          -0.7155533412520779,
          0.275924656117672,
          -0.4555340598671094,
          0.3585632864257386,
          -0.09289772199891562,
          -1.7986457210157814,
          0.8366020746581191,
          0.7725444124639873,
          1.0049583158858777,
          1.0140713009836437,
          0.9670989318586941,
          2.730543016258834,
          2.2046773297092446,
          0.08220976652257105
         ],
         "z": [
          0.10050292744385284,
          0.03771602493234006,
          -2.3849722103595172,
          -0.6444126505944043,
          -0.6623656279269657,
          -0.6799953915668498,
          -0.1724700790869589,
          -0.6593754498062057,
          -0.5740853932824687,
          -0.220150443285001,
          -0.3381239077717688,
          -0.2553953055116344,
          -0.2520130332771428,
          0.165162972323704,
          -0.8449714460929842,
          -0.5584225923734637,
          -0.49523234249481185
         ]
        },
        {
         "hovertemplate": "color=Sicalis<br>PCA1=%{x}<br>PCA2=%{y}<br>PCA3=%{z}<extra></extra>",
         "legendgroup": "Sicalis",
         "marker": {
          "color": "#19d3f3",
          "symbol": "circle"
         },
         "mode": "markers",
         "name": "Sicalis",
         "scene": "scene",
         "showlegend": true,
         "type": "scatter3d",
         "x": [
          -0.6837616401931917,
          -1.0186217749615976,
          -0.7067751506586817,
          -0.07246842814295655,
          -0.2273674711629189,
          -1.307013619569382
         ],
         "y": [
          -0.11164336864335776,
          0.08184590276851429,
          0.18007374332627882,
          0.4845992706053509,
          0.5499467398393343,
          -0.26426682865349066
         ],
         "z": [
          1.0888331437560481,
          1.2333679738159464,
          0.32472835452992344,
          0.8182185073764248,
          -0.8845094710173925,
          0.11409158198384659
         ]
        },
        {
         "hovertemplate": "color=Sirystes<br>PCA1=%{x}<br>PCA2=%{y}<br>PCA3=%{z}<extra></extra>",
         "legendgroup": "Sirystes",
         "marker": {
          "color": "#FF6692",
          "symbol": "circle"
         },
         "mode": "markers",
         "name": "Sirystes",
         "scene": "scene",
         "showlegend": true,
         "type": "scatter3d",
         "x": [
          -0.547332488828826,
          0.29508574268141136,
          -1.0087613041635914,
          1.3344647455542435
         ],
         "y": [
          -0.104275395969673,
          0.07307306155187995,
          0.34737000489839304,
          -0.10767961308119882
         ],
         "z": [
          -0.14027065545203085,
          -0.3241015435764987,
          0.837034997498493,
          -0.07943641568148622
         ]
        },
        {
         "hovertemplate": "color=Sittasomus<br>PCA1=%{x}<br>PCA2=%{y}<br>PCA3=%{z}<extra></extra>",
         "legendgroup": "Sittasomus",
         "marker": {
          "color": "#B6E880",
          "symbol": "circle"
         },
         "mode": "markers",
         "name": "Sittasomus",
         "scene": "scene",
         "showlegend": true,
         "type": "scatter3d",
         "x": [
          -0.9805851586474095,
          -1.0153289751175623,
          -0.60865619208807
         ],
         "y": [
          0.09512932594289354,
          0.1911128473232737,
          0.1308915836199207
         ],
         "z": [
          0.4383103768051315,
          0.4066777095424553,
          0.5280799705473236
         ]
        },
        {
         "hovertemplate": "color=Snowornis<br>PCA1=%{x}<br>PCA2=%{y}<br>PCA3=%{z}<extra></extra>",
         "legendgroup": "Snowornis",
         "marker": {
          "color": "#FF97FF",
          "symbol": "circle"
         },
         "mode": "markers",
         "name": "Snowornis",
         "scene": "scene",
         "showlegend": true,
         "type": "scatter3d",
         "x": [
          -1.5861049258955335,
          -1.5457301748458596,
          -0.810966412496485
         ],
         "y": [
          -0.0704698284047745,
          -0.1264690093639268,
          0.6971356569688458
         ],
         "z": [
          -0.3491584697244119,
          -0.2648806637585533,
          -0.7537099244519276
         ]
        },
        {
         "hovertemplate": "color=Spatula<br>PCA1=%{x}<br>PCA2=%{y}<br>PCA3=%{z}<extra></extra>",
         "legendgroup": "Spatula",
         "marker": {
          "color": "#FECB52",
          "symbol": "circle"
         },
         "mode": "markers",
         "name": "Spatula",
         "scene": "scene",
         "showlegend": true,
         "type": "scatter3d",
         "x": [
          -1.2380249856456567,
          -1.4106530828315549,
          -1.3066864321343983,
          1.9315394843680866,
          -1.1497422365901624,
          -0.6823442065839992,
          -1.3533918520944208,
          -0.5528789779711326
         ],
         "y": [
          -0.34215669972669865,
          -0.13427573119435043,
          -0.3061028109693147,
          -0.36147090262777004,
          -0.23502819156381868,
          -0.49547725726778524,
          -0.17151153056913476,
          2.207257909770639
         ],
         "z": [
          -0.40035457664108975,
          -0.4031977780113218,
          -0.35042063255176087,
          2.0017484710612683,
          -0.4889969805344508,
          -0.3720418766922792,
          -0.3305223793996839,
          -0.9469839916553255
         ]
        },
        {
         "hovertemplate": "color=Spinus<br>PCA1=%{x}<br>PCA2=%{y}<br>PCA3=%{z}<extra></extra>",
         "legendgroup": "Spinus",
         "marker": {
          "color": "#636efa",
          "symbol": "circle"
         },
         "mode": "markers",
         "name": "Spinus",
         "scene": "scene",
         "showlegend": true,
         "type": "scatter3d",
         "x": [
          2.3992352836165325,
          0.42499596509325266,
          0.8026576381321853,
          -0.6011728883394291,
          -0.5885989120506,
          -1.4112793499261713,
          0.6633050811642506
         ],
         "y": [
          -0.28167557407898436,
          -0.3382006933415586,
          -0.5665091662521079,
          0.2392046554246164,
          -0.1674610099814183,
          -0.193804966366925,
          -0.3134110139053224
         ],
         "z": [
          2.521815386772508,
          -0.68857365975072,
          1.4502486058318973,
          -0.6186386254068112,
          0.8921219590204622,
          -0.4496314667275241,
          -0.7800237378661135
         ]
        },
        {
         "hovertemplate": "color=Spizaetus<br>PCA1=%{x}<br>PCA2=%{y}<br>PCA3=%{z}<extra></extra>",
         "legendgroup": "Spizaetus",
         "marker": {
          "color": "#EF553B",
          "symbol": "circle"
         },
         "mode": "markers",
         "name": "Spizaetus",
         "scene": "scene",
         "showlegend": true,
         "type": "scatter3d",
         "x": [
          -0.9555595411322816,
          3.99276843967321,
          -0.8261214439130624,
          2.908156326646921,
          -0.7621357371255327,
          0.48124189654229704,
          -0.32686729121067265,
          -0.2941466411911698,
          -0.7720391026299258,
          -1.1267552662115663,
          -0.9336861358062329
         ],
         "y": [
          0.2743878185902885,
          1.0463539108500526,
          -0.025628078100048458,
          0.446006671397945,
          -0.142024083163295,
          -0.6806268541605315,
          -0.5056889575016229,
          -0.3555712878005503,
          0.23358383602913557,
          -0.2560431924078923,
          -0.3112542900013694
         ],
         "z": [
          0.6909271748969591,
          1.5923397604718317,
          0.8128221380772699,
          -0.22257895926771265,
          0.7281014141754037,
          -0.2800335644292655,
          -0.33611454046468575,
          -0.47639595841545,
          -0.38549042604309314,
          -0.20274561853759165,
          -0.005802137006273253
         ]
        },
        {
         "hovertemplate": "color=Sporophila<br>PCA1=%{x}<br>PCA2=%{y}<br>PCA3=%{z}<extra></extra>",
         "legendgroup": "Sporophila",
         "marker": {
          "color": "#00cc96",
          "symbol": "circle"
         },
         "mode": "markers",
         "name": "Sporophila",
         "scene": "scene",
         "showlegend": true,
         "type": "scatter3d",
         "x": [
          -0.8269626761510064,
          -0.21793802120634698,
          0.17136492378874274,
          -0.4620085465547073,
          0.02630317836869897,
          -0.9282280606508521,
          -0.41848302229751144,
          0.4913089282664915,
          -1.1985950803894885,
          -0.051388353284533804,
          0.6346197290705039,
          -0.7383305086755481,
          -0.8922679324293051,
          -0.7414629132132625,
          -0.024083416535634547,
          -0.988394578798763,
          -1.3838886136597883,
          -0.05808165261386169,
          -1.5474617885348405,
          -0.6855628767880525,
          -1.1434950238749302,
          -1.1617539087075301,
          -0.2776179869549412,
          -0.22303510793246528,
          -1.3038374280123952,
          0.07528355415547316,
          -1.0303141394903057,
          -1.3313529984129784,
          -0.9369789944314311,
          -1.5233761111519049,
          -0.19973973942811052,
          2.395853879692249,
          -0.8030527786394477,
          -0.04339134131114738,
          2.220936459903785,
          2.335380061425141,
          1.0116837303474837,
          -0.017555325483508057,
          -1.3052045752101358
         ],
         "y": [
          0.40775967591406914,
          0.529550066719204,
          0.9702392721287878,
          0.8300563624183639,
          0.3601177286058459,
          0.705894315485288,
          0.22455819354998946,
          1.0449947441379317,
          0.06859969630013758,
          0.6780860595346714,
          0.6987983145428597,
          -0.07202979288761512,
          0.614030197595102,
          0.12652821916127963,
          -0.8522340758208246,
          0.4234484522091782,
          -0.1801895934408284,
          0.4789142196920159,
          -0.01956657125840761,
          0.26265401591850585,
          -0.0032070457125568204,
          0.005974772524075173,
          -0.6210443699058563,
          -0.593051977121846,
          -0.41681302806271897,
          1.3173464315881327,
          0.3494475609922289,
          0.011455080269556822,
          0.3140810809405281,
          -0.2180352226110261,
          -0.15713737793737587,
          -1.6240568473771722,
          0.7853875157272233,
          0.4928943391891125,
          0.39092235649690704,
          1.3937084883551687,
          1.3623494564880834,
          0.6008426698926005,
          0.026650156453504374
         ],
         "z": [
          0.11493516843601216,
          -0.14304781567349859,
          -0.3319539541951846,
          -0.2485939995359481,
          -0.0292676706634954,
          -0.14843201609849194,
          -0.42752652728796864,
          -0.48037287202326134,
          -0.07180722505779259,
          -0.8291111909907382,
          2.1542505333158686,
          0.9228692595080938,
          -0.7092674013581566,
          -0.6273652295002745,
          -0.6505574833953711,
          0.735493946772305,
          -0.3806361592011082,
          1.6561465697772892,
          0.1154051602825422,
          -0.627254312989999,
          -0.4439894618579929,
          -0.4808847189468816,
          -0.13153085707407602,
          -0.21566967669233997,
          -0.22823029384310664,
          -0.14137534447249667,
          0.6275544980435488,
          0.45102662354247963,
          -0.42839605500644184,
          -0.3916652657177405,
          -0.4479522613455059,
          -1.063982543171608,
          0.24204313825518453,
          1.8037983295954167,
          1.3789973224570533,
          -1.4114440558724686,
          0.35567516281966355,
          0.8004085697581446,
          0.04055590197215106
         ]
        },
        {
         "hovertemplate": "color=Steatornis<br>PCA1=%{x}<br>PCA2=%{y}<br>PCA3=%{z}<extra></extra>",
         "legendgroup": "Steatornis",
         "marker": {
          "color": "#ab63fa",
          "symbol": "circle"
         },
         "mode": "markers",
         "name": "Steatornis",
         "scene": "scene",
         "showlegend": true,
         "type": "scatter3d",
         "x": [
          -0.3078558094109908,
          -0.09435210196067059
         ],
         "y": [
          -0.11662249851647857,
          0.7945115239219321
         ],
         "z": [
          -0.18904615488792886,
          -0.6653254831201557
         ]
        },
        {
         "hovertemplate": "color=Stelgidopteryx<br>PCA1=%{x}<br>PCA2=%{y}<br>PCA3=%{z}<extra></extra>",
         "legendgroup": "Stelgidopteryx",
         "marker": {
          "color": "#FFA15A",
          "symbol": "circle"
         },
         "mode": "markers",
         "name": "Stelgidopteryx",
         "scene": "scene",
         "showlegend": true,
         "type": "scatter3d",
         "x": [
          -1.2951478342767648,
          -1.4041593868109383
         ],
         "y": [
          -0.07483231067526398,
          -0.19051537299679122
         ],
         "z": [
          -0.16403212378880622,
          -0.27685032208971583
         ]
        },
        {
         "hovertemplate": "color=Sterna<br>PCA1=%{x}<br>PCA2=%{y}<br>PCA3=%{z}<extra></extra>",
         "legendgroup": "Sterna",
         "marker": {
          "color": "#19d3f3",
          "symbol": "circle"
         },
         "mode": "markers",
         "name": "Sterna",
         "scene": "scene",
         "showlegend": true,
         "type": "scatter3d",
         "x": [
          2.601375154913891,
          -0.03227182761477445,
          -1.5014512186727555
         ],
         "y": [
          -0.27545544202244615,
          -0.4398065484944314,
          -0.21176715308519795
         ],
         "z": [
          -0.32567672374976564,
          -0.12129273972474507,
          -0.18728524482774225
         ]
        },
        {
         "hovertemplate": "color=Sternula<br>PCA1=%{x}<br>PCA2=%{y}<br>PCA3=%{z}<extra></extra>",
         "legendgroup": "Sternula",
         "marker": {
          "color": "#FF6692",
          "symbol": "circle"
         },
         "mode": "markers",
         "name": "Sternula",
         "scene": "scene",
         "showlegend": true,
         "type": "scatter3d",
         "x": [
          -0.8121865169710852,
          -0.36202691852922697,
          -0.4016430871235513,
          -1.37150884457033,
          -0.05297151092647985
         ],
         "y": [
          -0.4783285125266372,
          1.3702199479394852,
          -0.524750660602531,
          -0.1501427893295723,
          0.08992428014784756
         ],
         "z": [
          -0.22314186920848017,
          7.061432946017065,
          0.3857030603372641,
          0.12727362024907685,
          0.7491395888348923
         ]
        },
        {
         "hovertemplate": "color=Streptoprocne<br>PCA1=%{x}<br>PCA2=%{y}<br>PCA3=%{z}<extra></extra>",
         "legendgroup": "Streptoprocne",
         "marker": {
          "color": "#B6E880",
          "symbol": "circle"
         },
         "mode": "markers",
         "name": "Streptoprocne",
         "scene": "scene",
         "showlegend": true,
         "type": "scatter3d",
         "x": [
          -0.6461605831821184,
          -1.2061679848193159,
          -1.1091012906687798,
          0.8265243361551968,
          -1.1680641893686905,
          -1.142683038758784,
          -1.2697837751835912,
          -0.09185584017004213,
          -0.7353139937856396
         ],
         "y": [
          0.07355503351973462,
          -0.2706092394087817,
          0.48391338164316183,
          0.6680929322194721,
          0.3513592319948305,
          0.15068737645460678,
          0.0343116545712524,
          1.018664473843319,
          0.380268636404667
         ],
         "z": [
          0.783286746040978,
          -0.19122901980170443,
          2.520475036389398,
          2.251053362112797,
          1.815486772243424,
          0.7345840683657141,
          0.8031902059409224,
          2.0777923644971836,
          2.4673093417042606
         ]
        },
        {
         "hovertemplate": "color=Sublegatus<br>PCA1=%{x}<br>PCA2=%{y}<br>PCA3=%{z}<extra></extra>",
         "legendgroup": "Sublegatus",
         "marker": {
          "color": "#FF97FF",
          "symbol": "circle"
         },
         "mode": "markers",
         "name": "Sublegatus",
         "scene": "scene",
         "showlegend": true,
         "type": "scatter3d",
         "x": [
          -0.6394206649475523,
          0.9270921096016252,
          -1.4289155786469232,
          -1.5719748263176587,
          -0.8772335071917909
         ],
         "y": [
          -0.09265419440270745,
          0.20978958901130434,
          -0.2586361972032853,
          -0.04915480859710503,
          0.038895908342091653
         ],
         "z": [
          -0.05026046375238727,
          -0.22752637517579957,
          -0.1908832727860594,
          -0.30990299679117767,
          0.673625729397829
         ]
        },
        {
         "hovertemplate": "color=Synallaxis<br>PCA1=%{x}<br>PCA2=%{y}<br>PCA3=%{z}<extra></extra>",
         "legendgroup": "Synallaxis",
         "marker": {
          "color": "#FECB52",
          "symbol": "circle"
         },
         "mode": "markers",
         "name": "Synallaxis",
         "scene": "scene",
         "showlegend": true,
         "type": "scatter3d",
         "x": [
          3.2332973095179813,
          -0.10935846638020125,
          3.2526930429634917,
          1.3541360637994346,
          -0.11338816968808668,
          1.4128459801908073,
          0.1367353844834837,
          -1.129072852513212,
          -1.1310475486336387,
          1.2940085863471742,
          -0.19250703974150515,
          0.7377328812313931,
          -0.6300431027856014,
          1.057994777545956,
          -0.2866951598571269,
          -0.08006209372695168,
          1.0980415880652084,
          0.07353648810439274
         ],
         "y": [
          -1.4679644928196014,
          -0.49111028757204844,
          -1.8422295204837111,
          -0.6611744212289222,
          -0.4324451574280736,
          -1.0527745792214074,
          -0.8305344866495894,
          -0.03919033562896333,
          -0.19510927880329187,
          -1.558394407692002,
          0.42756968086448194,
          0.4323903693194721,
          -0.36226423691287835,
          0.15609992852220533,
          0.713501245967267,
          0.30047876172986454,
          -0.8652860265362873,
          -0.887038102903773
         ],
         "z": [
          -0.6126352555605037,
          -0.13135357886505183,
          0.368410508732299,
          0.3114368295709521,
          0.22166286929604387,
          0.2856121155590483,
          0.07105676385109158,
          -0.1391303637067551,
          -0.041483083084067694,
          0.28228274029928857,
          0.009474167368522452,
          -0.8347019221668335,
          -0.014010437430261468,
          0.837269602453231,
          -0.09702790574600352,
          -0.3876215598093776,
          0.21170031846199058,
          0.18805658546030163
         ]
        },
        {
         "hovertemplate": "color=Syndactyla<br>PCA1=%{x}<br>PCA2=%{y}<br>PCA3=%{z}<extra></extra>",
         "legendgroup": "Syndactyla",
         "marker": {
          "color": "#636efa",
          "symbol": "circle"
         },
         "mode": "markers",
         "name": "Syndactyla",
         "scene": "scene",
         "showlegend": true,
         "type": "scatter3d",
         "x": [
          0.009957716590547795,
          0.04682504628011039,
          3.492745188018721,
          -1.1338864437154224,
          -0.31718257912592973,
          1.4832777342960333
         ],
         "y": [
          0.46290448128311995,
          -0.20063699131381002,
          1.6003824916298472,
          0.1409233825232284,
          0.14667312073539504,
          1.659199042914682
         ],
         "z": [
          0.4700620507576967,
          -0.16133051783958527,
          0.4921008086676777,
          -0.4457538969125602,
          -0.5148068601392917,
          0.15728256335408014
         ]
        },
        {
         "hovertemplate": "color=Tachornis<br>PCA1=%{x}<br>PCA2=%{y}<br>PCA3=%{z}<extra></extra>",
         "legendgroup": "Tachornis",
         "marker": {
          "color": "#EF553B",
          "symbol": "circle"
         },
         "mode": "markers",
         "name": "Tachornis",
         "scene": "scene",
         "showlegend": true,
         "type": "scatter3d",
         "x": [
          -1.3673788113697372,
          -0.8216808253084275,
          -0.49652695830193594
         ],
         "y": [
          0.0881603456338346,
          0.019723190369279393,
          1.013614021233512
         ],
         "z": [
          -0.2822375337359784,
          -0.4413450786757976,
          -0.4499172839146011
         ]
        },
        {
         "hovertemplate": "color=Tachybaptus<br>PCA1=%{x}<br>PCA2=%{y}<br>PCA3=%{z}<extra></extra>",
         "legendgroup": "Tachybaptus",
         "marker": {
          "color": "#00cc96",
          "symbol": "circle"
         },
         "mode": "markers",
         "name": "Tachybaptus",
         "scene": "scene",
         "showlegend": true,
         "type": "scatter3d",
         "x": [
          -0.5102007484511627,
          -1.4773815471017153,
          -0.39508938568049884,
          -0.15393435048662626,
          1.4486715890868496
         ],
         "y": [
          1.1986098139404218,
          -0.024107924926505937,
          0.32897192986252394,
          0.050078651570381646,
          -1.102013342603647
         ],
         "z": [
          6.285028133799753,
          -0.34392338886848534,
          0.4002382847949334,
          -0.07059591780807521,
          0.7406231381510434
         ]
        },
        {
         "hovertemplate": "color=Tachycineta<br>PCA1=%{x}<br>PCA2=%{y}<br>PCA3=%{z}<extra></extra>",
         "legendgroup": "Tachycineta",
         "marker": {
          "color": "#ab63fa",
          "symbol": "circle"
         },
         "mode": "markers",
         "name": "Tachycineta",
         "scene": "scene",
         "showlegend": true,
         "type": "scatter3d",
         "x": [
          -1.0469531745843166,
          -1.190794609503534,
          -0.481598978326219,
          -1.381360570563794,
          -1.0530339807859839
         ],
         "y": [
          -0.1955932441028627,
          -0.32831776474391505,
          -0.38891906228303175,
          -0.43816810173261683,
          -0.4711046810195453
         ],
         "z": [
          -0.2520729548547859,
          -0.19858865565994221,
          -0.26191377827761286,
          -0.3608935499063967,
          -0.23802004995910456
         ]
        },
        {
         "hovertemplate": "color=Tachyphonus<br>PCA1=%{x}<br>PCA2=%{y}<br>PCA3=%{z}<extra></extra>",
         "legendgroup": "Tachyphonus",
         "marker": {
          "color": "#FFA15A",
          "symbol": "circle"
         },
         "mode": "markers",
         "name": "Tachyphonus",
         "scene": "scene",
         "showlegend": true,
         "type": "scatter3d",
         "x": [
          3.368779548040638,
          2.1872860552399076,
          0.4196126879493206,
          0.1543457068616257,
          -1.440524122536445
         ],
         "y": [
          -1.6303633394422041,
          -3.527824411184791,
          0.580430382186249,
          -0.8687139868947555,
          -0.3733934962917057
         ],
         "z": [
          0.3145516657448313,
          0.9551263255938666,
          1.102473278163559,
          -0.35766819820192874,
          -0.3181216777391078
         ]
        },
        {
         "hovertemplate": "color=Tangara<br>PCA1=%{x}<br>PCA2=%{y}<br>PCA3=%{z}<extra></extra>",
         "legendgroup": "Tangara",
         "marker": {
          "color": "#19d3f3",
          "symbol": "circle"
         },
         "mode": "markers",
         "name": "Tangara",
         "scene": "scene",
         "showlegend": true,
         "type": "scatter3d",
         "x": [
          -1.5272297212564294,
          -1.0561662131415488,
          -0.9346757675662803,
          -1.3712994169551402,
          -0.6533708204211166,
          -0.047256388852900795,
          -1.3225188333500204,
          4.718251749579709,
          -1.0438564303516034,
          -0.4731316415113873,
          0.4448539918186572,
          0.06361060105810254,
          0.5750678982779899,
          0.5050924546490146,
          -1.1529187872434803,
          -1.2943441576385026,
          -0.5652848838724405,
          -0.48248324308869256,
          3.7645667609245677,
          -0.5824418290169344,
          -1.2925939546040943,
          -1.3734541581899868,
          -1.334584951682013,
          0.8385472367595007,
          -1.114030856446134,
          -1.0004005010791395,
          0.4948886285682724,
          -1.0432338753175419,
          -0.09143204788498127,
          -0.49230371023269276,
          -1.5012412487060927,
          2.3368364481810757,
          -0.08998452956539316,
          1.1198060007527157,
          1.01249740555972,
          -0.6526629439294725
         ],
         "y": [
          0.012876493848467781,
          -0.40323041570535617,
          -0.4604109762273525,
          -0.1271149816049943,
          -0.26125625854780693,
          -0.44259258421900344,
          -0.4494218540210456,
          -8.480585284369047,
          -0.5767194522764257,
          -0.8693296874757828,
          -0.801856472333202,
          -0.836036373757082,
          -0.600169693048975,
          -1.1955561247252955,
          0.22546924769964813,
          0.1361988683487808,
          0.5972809783431658,
          -0.23664296025241902,
          0.9735192657070407,
          -0.45983025285772017,
          -0.39315489315176844,
          0.23331655839081478,
          -0.17150020436565128,
          -0.4539677944031792,
          -0.21921851667501535,
          0.19055493153276562,
          -1.1151568508687433,
          -0.26833589715592077,
          -0.382001023660569,
          -0.1405222422682545,
          -0.2739472498553051,
          -0.7924457282603475,
          -0.31744872137879,
          -0.6417047081601095,
          0.015011302936921924,
          -0.2157092940262129
         ],
         "z": [
          -0.28590385144253566,
          -0.23770013448007363,
          -0.285306774394419,
          -0.16844164454043978,
          -0.28082501688491057,
          0.03156367233299988,
          -0.37243249344166995,
          -0.8676863442372641,
          -0.3158715376173711,
          -0.132467744189506,
          0.024263123924539467,
          -0.2599927025762015,
          -0.23720908867894647,
          0.0412134855128683,
          0.5120911478842339,
          -0.05655288830407668,
          -0.634102351698981,
          -0.4585395213931016,
          -0.7973533864268794,
          0.37499270677498425,
          -0.04900181029800058,
          0.7778550525808579,
          -0.24370052282274515,
          1.684077070291582,
          -0.07044608358964535,
          -0.326917479510464,
          -0.2737398300723238,
          -0.04012330600106626,
          0.4847395137296498,
          1.0447451581807987,
          -0.4083359597063012,
          2.0134765187304833,
          0.25911146581193467,
          0.29532961688093823,
          -0.2617580946724898,
          -0.2733190045064606
         ]
        },
        {
         "hovertemplate": "color=Tapera<br>PCA1=%{x}<br>PCA2=%{y}<br>PCA3=%{z}<extra></extra>",
         "legendgroup": "Tapera",
         "marker": {
          "color": "#FF6692",
          "symbol": "circle"
         },
         "mode": "markers",
         "name": "Tapera",
         "scene": "scene",
         "showlegend": true,
         "type": "scatter3d",
         "x": [
          2.054992298363865,
          0.23031319553975627
         ],
         "y": [
          0.37721666991101666,
          -0.29663204268232046
         ],
         "z": [
          0.5270836310931621,
          0.4775090586713839
         ]
        },
        {
         "hovertemplate": "color=Taphrospilus<br>PCA1=%{x}<br>PCA2=%{y}<br>PCA3=%{z}<extra></extra>",
         "legendgroup": "Taphrospilus",
         "marker": {
          "color": "#B6E880",
          "symbol": "circle"
         },
         "mode": "markers",
         "name": "Taphrospilus",
         "scene": "scene",
         "showlegend": true,
         "type": "scatter3d",
         "x": [
          -0.8803658996884076,
          -1.0684804770567333,
          -1.0829738312511876
         ],
         "y": [
          0.014182936558810134,
          -0.22660352310284299,
          -0.10118656557614551
         ],
         "z": [
          1.4881752203624374,
          0.08099473943251277,
          -0.3117781614054997
         ]
        },
        {
         "hovertemplate": "color=Taraba<br>PCA1=%{x}<br>PCA2=%{y}<br>PCA3=%{z}<extra></extra>",
         "legendgroup": "Taraba",
         "marker": {
          "color": "#FF97FF",
          "symbol": "circle"
         },
         "mode": "markers",
         "name": "Taraba",
         "scene": "scene",
         "showlegend": true,
         "type": "scatter3d",
         "x": [
          -0.9938736761603109,
          1.3461918095104008,
          -1.0789203043042737
         ],
         "y": [
          0.7598434076493676,
          1.0984129807679988,
          0.5600553155637464
         ],
         "z": [
          2.1698320732717318,
          2.3138036534897704,
          2.0697842333729395
         ]
        },
        {
         "hovertemplate": "color=Terenotriccus<br>PCA1=%{x}<br>PCA2=%{y}<br>PCA3=%{z}<extra></extra>",
         "legendgroup": "Terenotriccus",
         "marker": {
          "color": "#FECB52",
          "symbol": "circle"
         },
         "mode": "markers",
         "name": "Terenotriccus",
         "scene": "scene",
         "showlegend": true,
         "type": "scatter3d",
         "x": [
          1.4008441811417545,
          1.0318916100934328,
          -1.2108177915210823,
          0.025801596636040453
         ],
         "y": [
          0.31616433079884915,
          0.551879591662339,
          0.2761236477610389,
          0.6452919281770049
         ],
         "z": [
          -0.7274772352161321,
          -0.06786404213802712,
          0.020778427944467638,
          -0.369415470280567
         ]
        },
        {
         "hovertemplate": "color=Tersina<br>PCA1=%{x}<br>PCA2=%{y}<br>PCA3=%{z}<extra></extra>",
         "legendgroup": "Tersina",
         "marker": {
          "color": "#636efa",
          "symbol": "circle"
         },
         "mode": "markers",
         "name": "Tersina",
         "scene": "scene",
         "showlegend": true,
         "type": "scatter3d",
         "x": [
          -0.41624298474234217,
          -0.750937821320114,
          1.0805347492886583,
          -0.954171668116703
         ],
         "y": [
          0.8859809844935543,
          0.17959880044901555,
          -0.3134617310024174,
          -0.0756894278611701
         ],
         "z": [
          0.25671730928242,
          -0.24199294815040656,
          -0.36469560234997894,
          -0.05333110748474889
         ]
        },
        {
         "hovertemplate": "color=Thalurania<br>PCA1=%{x}<br>PCA2=%{y}<br>PCA3=%{z}<extra></extra>",
         "legendgroup": "Thalurania",
         "marker": {
          "color": "#EF553B",
          "symbol": "circle"
         },
         "mode": "markers",
         "name": "Thalurania",
         "scene": "scene",
         "showlegend": true,
         "type": "scatter3d",
         "x": [
          0.5515173512672943,
          -1.2917451215169675,
          0.7559721458367802
         ],
         "y": [
          -1.5372105451883842,
          -0.760643277196841,
          -1.0760685962222956
         ],
         "z": [
          -0.47043936942217257,
          -0.3897034521146642,
          -0.022204124357639157
         ]
        },
        {
         "hovertemplate": "color=Thamnistes<br>PCA1=%{x}<br>PCA2=%{y}<br>PCA3=%{z}<extra></extra>",
         "legendgroup": "Thamnistes",
         "marker": {
          "color": "#00cc96",
          "symbol": "circle"
         },
         "mode": "markers",
         "name": "Thamnistes",
         "scene": "scene",
         "showlegend": true,
         "type": "scatter3d",
         "x": [
          -0.8227565618863704,
          -0.9037682116343984,
          -1.0984481025731625
         ],
         "y": [
          0.07790692310494277,
          0.14298981125329108,
          0.31005213361929534
         ],
         "z": [
          -0.13643140579052213,
          1.0886646867019734,
          0.5339042972156195
         ]
        },
        {
         "hovertemplate": "color=Thamnomanes<br>PCA1=%{x}<br>PCA2=%{y}<br>PCA3=%{z}<extra></extra>",
         "legendgroup": "Thamnomanes",
         "marker": {
          "color": "#ab63fa",
          "symbol": "circle"
         },
         "mode": "markers",
         "name": "Thamnomanes",
         "scene": "scene",
         "showlegend": true,
         "type": "scatter3d",
         "x": [
          -1.2633116836701916,
          -0.9060633005870693,
          0.26171920987074654
         ],
         "y": [
          -0.2433027085728804,
          -0.5134167804402212,
          0.8573388643824766
         ],
         "z": [
          -0.3205927191113211,
          -0.026984125606313056,
          -0.10959840223622486
         ]
        },
        {
         "hovertemplate": "color=Thamnophilus<br>PCA1=%{x}<br>PCA2=%{y}<br>PCA3=%{z}<extra></extra>",
         "legendgroup": "Thamnophilus",
         "marker": {
          "color": "#FFA15A",
          "symbol": "circle"
         },
         "mode": "markers",
         "name": "Thamnophilus",
         "scene": "scene",
         "showlegend": true,
         "type": "scatter3d",
         "x": [
          -0.6354511383117614,
          -0.20021224093907608,
          -1.0232999819701574,
          0.2847771600348606,
          0.311785315811443,
          -1.2397993263637228,
          -0.6373324293690961,
          -0.27760873867186414,
          0.4732997781764254,
          -0.8397691555280767,
          -0.5782087459221255,
          0.0939533060243846,
          0.36763061642589906,
          0.29403742516177384,
          -1.4411289215493932,
          1.0401479681002654,
          -0.96597858252556,
          -0.5923947663538913,
          0.23699317065698527,
          -0.9050713640600582,
          1.8044585593514728,
          -1.091593424501343,
          -0.6815871369664566,
          0.19761202369745884,
          1.821332795809699,
          0.1938184344237459,
          -0.2904717132077658
         ],
         "y": [
          1.008054175661874,
          0.7402468323790187,
          0.021641489843321583,
          0.6255518210712118,
          -1.8249749331093912,
          0.07138536292352375,
          0.9976954756650416,
          -0.5904191564569284,
          0.3827596219071198,
          -0.06702299657662195,
          0.2900245219422594,
          -0.14440149446927752,
          -0.04818299090954507,
          -0.2806851049308813,
          -0.31423468684087386,
          2.029988392194312,
          0.09290459317924353,
          0.6950777302624069,
          1.4751904982579906,
          -0.030394784785353637,
          0.8546532093585065,
          0.008191644712812241,
          -0.003165061753922403,
          1.5139839594631308,
          1.799935703648008,
          0.5368404034424943,
          1.5630796900646833
         ],
         "z": [
          0.4362095065283016,
          0.7944698369609472,
          0.6355938336599842,
          0.6965263944077896,
          -0.0744094993279722,
          -0.3467412589659541,
          0.4274373444216649,
          -0.08253278334829496,
          -0.38751129291845515,
          -0.17062344780335936,
          0.7447314161751598,
          0.7222778127054362,
          -0.8521565271625356,
          0.044554603994176684,
          -0.36325030188275226,
          -0.23284478143681867,
          -0.1452280088550746,
          0.15715669252901424,
          -0.1386659542643025,
          0.4156975348318455,
          0.3199787667868546,
          0.4742188303119276,
          1.242916989775067,
          1.0390780790585856,
          1.0321013758139872,
          0.5438766175723012,
          -0.12970182560718552
         ]
        },
        {
         "hovertemplate": "color=Theristicus<br>PCA1=%{x}<br>PCA2=%{y}<br>PCA3=%{z}<extra></extra>",
         "legendgroup": "Theristicus",
         "marker": {
          "color": "#19d3f3",
          "symbol": "circle"
         },
         "mode": "markers",
         "name": "Theristicus",
         "scene": "scene",
         "showlegend": true,
         "type": "scatter3d",
         "x": [
          -0.647209057389922,
          -0.9339011277124158,
          -1.2211685761205517,
          -0.9593060424745442,
          -0.8254105001165579,
          -1.4344880580621768
         ],
         "y": [
          -0.3422385536258246,
          -0.6361962772346247,
          -0.3711920367356095,
          0.02087013393179109,
          0.005155701952665137,
          -0.2575827922989022
         ],
         "z": [
          -0.41435271184517114,
          -0.5273353138809332,
          -0.5009572754209084,
          1.1096855224300437,
          -0.07524258294099415,
          -0.1285811312538691
         ]
        },
        {
         "hovertemplate": "color=Thlypopsis<br>PCA1=%{x}<br>PCA2=%{y}<br>PCA3=%{z}<extra></extra>",
         "legendgroup": "Thlypopsis",
         "marker": {
          "color": "#FF6692",
          "symbol": "circle"
         },
         "mode": "markers",
         "name": "Thlypopsis",
         "scene": "scene",
         "showlegend": true,
         "type": "scatter3d",
         "x": [
          -0.22318810777150536,
          -1.1763419415879035,
          -0.4304639386830172,
          -1.346093060696239,
          -0.07044592995009342
         ],
         "y": [
          -0.21833035629789332,
          0.20284336913730364,
          0.44415446946286463,
          -0.049370063491103684,
          -0.5197254541526632
         ],
         "z": [
          1.407757695936051,
          0.6245935163892226,
          0.8567410973861255,
          0.5554518054162979,
          1.1078760427625527
         ]
        },
        {
         "hovertemplate": "color=Thraupis<br>PCA1=%{x}<br>PCA2=%{y}<br>PCA3=%{z}<extra></extra>",
         "legendgroup": "Thraupis",
         "marker": {
          "color": "#B6E880",
          "symbol": "circle"
         },
         "mode": "markers",
         "name": "Thraupis",
         "scene": "scene",
         "showlegend": true,
         "type": "scatter3d",
         "x": [
          0.7323398326301604,
          -1.0034734821060196,
          0.46231457045738256,
          -1.1730776103175657,
          0.4308780691557797,
          -1.348650382263334,
          -1.341889038600989
         ],
         "y": [
          -1.145098177102569,
          0.4178194063790726,
          -0.4050887642294063,
          0.4297077995053105,
          -0.42889444213536443,
          0.1876181849284616,
          0.25103957584207437
         ],
         "z": [
          1.249988771877233,
          0.75161228866301,
          1.3286664821838712,
          1.8112145658330696,
          1.8264933484589712,
          1.4612174588597269,
          0.8767697830243009
         ]
        },
        {
         "hovertemplate": "color=Threnetes<br>PCA1=%{x}<br>PCA2=%{y}<br>PCA3=%{z}<extra></extra>",
         "legendgroup": "Threnetes",
         "marker": {
          "color": "#FF97FF",
          "symbol": "circle"
         },
         "mode": "markers",
         "name": "Threnetes",
         "scene": "scene",
         "showlegend": true,
         "type": "scatter3d",
         "x": [
          4.391462611981019,
          1.2976882429448349,
          1.3000629952677236,
          0.31488051981011217
         ],
         "y": [
          -4.104423271612291,
          0.16025013345416728,
          -0.37939444252538024,
          -0.2047133107556383
         ],
         "z": [
          2.168645295518056,
          0.20021801526866895,
          0.526749933404112,
          0.33196796256456684
         ]
        },
        {
         "hovertemplate": "color=Thripadectes<br>PCA1=%{x}<br>PCA2=%{y}<br>PCA3=%{z}<extra></extra>",
         "legendgroup": "Thripadectes",
         "marker": {
          "color": "#FECB52",
          "symbol": "circle"
         },
         "mode": "markers",
         "name": "Thripadectes",
         "scene": "scene",
         "showlegend": true,
         "type": "scatter3d",
         "x": [
          -0.9442102472300481,
          1.1410250371476165,
          0.6431523916121444,
          -0.33311451278524107,
          -0.7007032343839856,
          -0.09028375598627773,
          -0.02131662093774027,
          0.2963016436496019
         ],
         "y": [
          0.44112799238294953,
          -2.9558973489507885,
          -2.4612945208370607,
          0.20364787917144667,
          0.5631365703523937,
          -0.10273444736833291,
          -0.14834044049483683,
          1.0256327187401788
         ],
         "z": [
          -0.17985442175216051,
          1.1172641723604668,
          -0.14141896668582288,
          0.16697646372303335,
          -0.5762394220852702,
          -0.2405910996509497,
          1.0068186879252525,
          0.16415128812067767
         ]
        },
        {
         "hovertemplate": "color=Thripophaga<br>PCA1=%{x}<br>PCA2=%{y}<br>PCA3=%{z}<extra></extra>",
         "legendgroup": "Thripophaga",
         "marker": {
          "color": "#636efa",
          "symbol": "circle"
         },
         "mode": "markers",
         "name": "Thripophaga",
         "scene": "scene",
         "showlegend": true,
         "type": "scatter3d",
         "x": [
          -0.3697174735499648,
          -0.17509455503844681
         ],
         "y": [
          0.639577662610397,
          0.17985702529406958
         ],
         "z": [
          3.7600874470315757,
          1.7141824280202118
         ]
        },
        {
         "hovertemplate": "color=Tigrisoma<br>PCA1=%{x}<br>PCA2=%{y}<br>PCA3=%{z}<extra></extra>",
         "legendgroup": "Tigrisoma",
         "marker": {
          "color": "#EF553B",
          "symbol": "circle"
         },
         "mode": "markers",
         "name": "Tigrisoma",
         "scene": "scene",
         "showlegend": true,
         "type": "scatter3d",
         "x": [
          -1.6007134966233552,
          1.6457328400158966,
          -1.0302153205782854,
          -1.279929438445017
         ],
         "y": [
          -0.1009831772613311,
          -1.2933752059705104,
          0.4519680486461874,
          0.47364002018638696
         ],
         "z": [
          -0.31932732458437824,
          0.5468795191815581,
          2.4935726558539404,
          0.3319222018467107
         ]
        },
        {
         "hovertemplate": "color=Tinamus<br>PCA1=%{x}<br>PCA2=%{y}<br>PCA3=%{z}<extra></extra>",
         "legendgroup": "Tinamus",
         "marker": {
          "color": "#00cc96",
          "symbol": "circle"
         },
         "mode": "markers",
         "name": "Tinamus",
         "scene": "scene",
         "showlegend": true,
         "type": "scatter3d",
         "x": [
          -0.8943296739829331,
          -1.2496769276171915,
          -1.021527751058395,
          1.8664271600631008,
          -0.5299768627244296,
          3.6354043717582893,
          -0.3035762527765473,
          1.3338314121244095,
          0.16699423018903367,
          -0.3210799409556904,
          7.1899652440540756,
          -1.4766673570531708,
          1.994614233358584
         ],
         "y": [
          -0.41504468415798434,
          -0.4426743343205074,
          -0.07684974588091932,
          1.5171483006783517,
          0.670563000906906,
          1.525002565936836,
          0.4786104844023721,
          1.495617942982076,
          1.0483718661966852,
          1.0285811267488814,
          0.6455984638625354,
          -0.31394973469530907,
          3.843918603637169
         ],
         "z": [
          0.0850015198877214,
          -0.25124546934472675,
          0.5764211860486826,
          1.7433483421960838,
          1.8613187173901766,
          -0.015569366755036755,
          0.6709683029438306,
          -0.19563377788474398,
          -0.056976717004478004,
          0.0888779795773989,
          0.6919795625197356,
          -0.4184061658896293,
          -1.3956652775927159
         ]
        },
        {
         "hovertemplate": "color=Tityra<br>PCA1=%{x}<br>PCA2=%{y}<br>PCA3=%{z}<extra></extra>",
         "legendgroup": "Tityra",
         "marker": {
          "color": "#ab63fa",
          "symbol": "circle"
         },
         "mode": "markers",
         "name": "Tityra",
         "scene": "scene",
         "showlegend": true,
         "type": "scatter3d",
         "x": [
          -0.5674221927906512,
          -1.1818713797494158,
          -1.449924551267805,
          0.20504507977653838,
          -1.2285852033620035,
          1.139708115072018,
          -1.2646765544851148,
          -1.4978549695123549,
          -1.1065823489764577,
          0.08668342829745086,
          -0.8134121446717707
         ],
         "y": [
          0.5859344456404768,
          -0.04826142513899999,
          0.13458406237521062,
          0.5673651760643221,
          0.03672948289106264,
          0.2932364898621985,
          -0.4774604997070965,
          -0.29000955624758235,
          0.04158487227657503,
          0.2637579211135038,
          0.27097221872870964
         ],
         "z": [
          -0.5226964238142087,
          -0.32534560294127274,
          -0.414702185334043,
          -0.3558103333004952,
          -0.37714771315476303,
          1.2667962018030234,
          -0.38699466380182757,
          -0.37198741132227126,
          0.3527836183204716,
          1.2498747245196804,
          0.8720492059980233
         ]
        },
        {
         "hovertemplate": "color=Todirostrum<br>PCA1=%{x}<br>PCA2=%{y}<br>PCA3=%{z}<extra></extra>",
         "legendgroup": "Todirostrum",
         "marker": {
          "color": "#FFA15A",
          "symbol": "circle"
         },
         "mode": "markers",
         "name": "Todirostrum",
         "scene": "scene",
         "showlegend": true,
         "type": "scatter3d",
         "x": [
          -0.9537744581596149,
          2.14374371565048,
          -0.726153612068304,
          -0.8326454446077145,
          1.3721374744283963,
          2.255257410215383,
          -0.6020917260437149,
          -0.5516269747722768,
          -1.4067053595459587,
          -1.1973813742023998,
          0.8944817430020058,
          -1.2630360884420992
         ],
         "y": [
          -0.1868444208704791,
          -0.7271172525479017,
          -0.42839845083167727,
          0.06591696022558853,
          -1.1909335027618222,
          -5.080512770866638,
          0.3589896072655729,
          -0.25386741414085967,
          -0.17364081035029055,
          0.025488379200300997,
          -0.7614219864659125,
          -0.3528020210525998
         ],
         "z": [
          0.7999316778341343,
          2.7206480379367033,
          0.35687666975464827,
          -0.4327365106606566,
          -0.4687573751061039,
          -0.691400022848709,
          -0.4016854067992792,
          0.5749176792323217,
          -0.28804232465598273,
          -0.14012822797492666,
          -0.2897074934056236,
          -0.3426835829646087
         ]
        },
        {
         "hovertemplate": "color=Tolmomyias<br>PCA1=%{x}<br>PCA2=%{y}<br>PCA3=%{z}<extra></extra>",
         "legendgroup": "Tolmomyias",
         "marker": {
          "color": "#19d3f3",
          "symbol": "circle"
         },
         "mode": "markers",
         "name": "Tolmomyias",
         "scene": "scene",
         "showlegend": true,
         "type": "scatter3d",
         "x": [
          1.3166377205944928,
          -0.46975576238499156,
          2.3903612227912996,
          -1.3496114370978027,
          1.0854239581556164,
          -1.3430528003136597,
          0.20955555122970454,
          -0.8327301225317887,
          -0.7320153584917154,
          -1.1015638228636992,
          1.5768990022337077,
          -1.422565746111672,
          4.376643899565015,
          0.036375261149970695
         ],
         "y": [
          0.625886836088988,
          0.03248698826193223,
          0.038162046443319386,
          0.08674868589827356,
          -0.3399904333832094,
          0.1447906790961826,
          0.27781690897350775,
          -0.8677544440355115,
          -0.22047983284627135,
          0.17333571343112894,
          -0.5426719906024311,
          -0.3386638728911444,
          1.4999706601987564,
          0.2754297848281991
         ],
         "z": [
          -0.7398935554792655,
          -0.28745050184040644,
          -1.0459721737154497,
          -0.3460165249552777,
          0.14518867721860548,
          -0.3030896674824608,
          -0.6069171874502497,
          -0.2929169675469612,
          -0.2540961999220896,
          -0.41543153992410686,
          0.15433038115010964,
          -0.322592465000827,
          -0.7408043271072634,
          -0.5878792867595368
         ]
        },
        {
         "hovertemplate": "color=Touit<br>PCA1=%{x}<br>PCA2=%{y}<br>PCA3=%{z}<extra></extra>",
         "legendgroup": "Touit",
         "marker": {
          "color": "#FF6692",
          "symbol": "circle"
         },
         "mode": "markers",
         "name": "Touit",
         "scene": "scene",
         "showlegend": true,
         "type": "scatter3d",
         "x": [
          -0.2382513054981289,
          -1.1927205076150966,
          -0.008881003627048113
         ],
         "y": [
          -0.6702036587944017,
          -0.08552842861263311,
          -0.22009753894071832
         ],
         "z": [
          -0.0919414238242321,
          0.24001047975435222,
          1.7452436659265833
         ]
        },
        {
         "hovertemplate": "color=Trichothraupis<br>PCA1=%{x}<br>PCA2=%{y}<br>PCA3=%{z}<extra></extra>",
         "legendgroup": "Trichothraupis",
         "marker": {
          "color": "#B6E880",
          "symbol": "circle"
         },
         "mode": "markers",
         "name": "Trichothraupis",
         "scene": "scene",
         "showlegend": true,
         "type": "scatter3d",
         "x": [
          3.9664954323560657,
          -0.18172651383843225,
          -0.3922083752732132
         ],
         "y": [
          2.6666680609979068,
          -0.07501017431263811,
          -0.4894361456269868
         ],
         "z": [
          -2.090499860623566,
          -0.5423699058729824,
          -0.4804079119220958
         ]
        },
        {
         "hovertemplate": "color=Tringa<br>PCA1=%{x}<br>PCA2=%{y}<br>PCA3=%{z}<extra></extra>",
         "legendgroup": "Tringa",
         "marker": {
          "color": "#FF97FF",
          "symbol": "circle"
         },
         "mode": "markers",
         "name": "Tringa",
         "scene": "scene",
         "showlegend": true,
         "type": "scatter3d",
         "x": [
          -0.5949584968533708,
          -1.340066519482855,
          -1.0646067126552226,
          -0.8668177255778129,
          -0.7191040462902138,
          -0.15129955712297746,
          -1.1094500857028475,
          -1.4035505645211446,
          -1.1977510438094439,
          -0.6729300197605972,
          -1.4551748422524224,
          -1.0704465548294986,
          1.1512122021061224
         ],
         "y": [
          -0.8133122036775331,
          -0.0851120293819815,
          -0.545670288174911,
          -0.3831894799216271,
          -0.6804339997069728,
          0.3334745184472085,
          -0.07799034613347659,
          0.021646874840840095,
          -0.2611021444391411,
          0.5416554534662393,
          -0.10579545560740884,
          -0.21009944647083373,
          0.1593364546807113
         ],
         "z": [
          -0.6724842421843437,
          -0.532369039388525,
          -0.26983906967931187,
          0.270414876514724,
          -0.30375599415383375,
          -0.5997190759785282,
          -0.40193288828577917,
          -0.3622077309741701,
          0.02089055705696302,
          -0.4531988776044905,
          -0.38821329331872434,
          0.21167191002305494,
          -0.7827629759730513
         ]
        },
        {
         "hovertemplate": "color=Troglodytes<br>PCA1=%{x}<br>PCA2=%{y}<br>PCA3=%{z}<extra></extra>",
         "legendgroup": "Troglodytes",
         "marker": {
          "color": "#FECB52",
          "symbol": "circle"
         },
         "mode": "markers",
         "name": "Troglodytes",
         "scene": "scene",
         "showlegend": true,
         "type": "scatter3d",
         "x": [
          -0.038604108916017385,
          -0.29709554918084813,
          0.28128825150734105,
          4.546691685782648
         ],
         "y": [
          0.5644391917441929,
          0.3419286471007649,
          -0.7939466428761202,
          -8.25768910302325
         ],
         "z": [
          0.03088143694751166,
          0.31760613943908456,
          -0.22139562962011053,
          -0.3845559175349937
         ]
        },
        {
         "hovertemplate": "color=Trogon<br>PCA1=%{x}<br>PCA2=%{y}<br>PCA3=%{z}<extra></extra>",
         "legendgroup": "Trogon",
         "marker": {
          "color": "#636efa",
          "symbol": "circle"
         },
         "mode": "markers",
         "name": "Trogon",
         "scene": "scene",
         "showlegend": true,
         "type": "scatter3d",
         "x": [
          -1.0939932705691078,
          -0.029224677862791988,
          2.66420855267841,
          -0.8683621086866411,
          0.32467688638267944,
          0.49948092900987195,
          0.7878022665682374,
          -0.7003063202554587,
          1.2137888318555075,
          -0.1969109768876927,
          3.11901822426203,
          -0.4427811490648354,
          4.022075852115575,
          1.1332987736451279,
          0.6265665765550136,
          0.7525482017177879,
          0.002415439705814446,
          -0.6369103426545388,
          -0.3095045089688085
         ],
         "y": [
          0.42744764848873346,
          0.9889435608267254,
          1.987622503412796,
          0.3108710126536034,
          0.6135624630414744,
          1.2920261230559287,
          1.4359743578707362,
          0.1808518077770055,
          2.261342772044228,
          -0.01247005587041254,
          -4.1108210321261724,
          0.8838590092639926,
          -1.5344667079627836,
          1.7123765524288184,
          1.2455384942538554,
          1.529834425707563,
          0.2173171557268325,
          -1.69985310592721,
          1.8894231596149131
         ],
         "z": [
          -0.23689926087675503,
          -0.23148272895054922,
          -0.7757649400824335,
          -0.3092487788403848,
          2.07293237117406,
          1.2197292050603494,
          0.6003692631200472,
          -0.2682419465216148,
          1.6955796982378624,
          -0.6262686341860809,
          -0.1652244056755485,
          2.038841264906787,
          -1.2418518557387221,
          1.1823473838596146,
          -0.18610584974589328,
          1.0634297572431861,
          1.3572471190210227,
          -0.4974664156461816,
          0.36989553217906224
         ]
        },
        {
         "hovertemplate": "color=Turdus<br>PCA1=%{x}<br>PCA2=%{y}<br>PCA3=%{z}<extra></extra>",
         "legendgroup": "Turdus",
         "marker": {
          "color": "#EF553B",
          "symbol": "circle"
         },
         "mode": "markers",
         "name": "Turdus",
         "scene": "scene",
         "showlegend": true,
         "type": "scatter3d",
         "x": [
          1.2734348072247759,
          1.4129636322148225,
          -0.04842822453303662,
          8.060480101241248,
          2.3942226215735465,
          -1.3931395678297611,
          -1.0131744080935194,
          -0.35282740618641595,
          7.1006106836814995,
          3.3715260331983017,
          8.097195301834862,
          -1.3233744851593878,
          5.775145043543713,
          2.520087374937453,
          0.8048370810750624,
          2.432606517010131,
          -0.4941570841300789,
          -0.9667718172234537,
          0.906259392684686,
          -0.7249633765088386,
          -1.2850294067615573,
          -0.3532558032634925,
          -0.564697854082534,
          -0.6418047693226652,
          -1.2811069804890096
         ],
         "y": [
          0.7522388675060326,
          -1.2159191305581691,
          3.231870604889533,
          20.92742231089395,
          -0.4776784199235349,
          0.3992200454212672,
          1.1082138916649023,
          1.9040504193444152,
          3.118458327228867,
          0.0690809695927541,
          0.7983669961169428,
          0.09291663726837118,
          1.6482478946627523,
          0.4352270892513191,
          0.5639665038082503,
          -0.1621892407002116,
          0.4118045489960607,
          0.3454310486244834,
          0.06546609718276251,
          -0.40622079935620403,
          -0.07364432551019408,
          -0.046073739342598306,
          -0.03573698571225133,
          0.3508344603149156,
          -0.4544611045724051
         ],
         "z": [
          1.029307193723277,
          -0.1550978831606748,
          -0.9570512692444728,
          -6.9626178926783995,
          0.19766881549162388,
          -0.39697672873661677,
          0.11760569477360977,
          1.0533921045169594,
          -2.252757397211139,
          -0.6126915000350638,
          0.3401421099719256,
          0.06138607563021454,
          -0.24350340591296699,
          0.12603238727068072,
          -0.747475417662106,
          0.02145244541561033,
          -0.061963242682571716,
          -0.5236726107719974,
          -0.4344540295224608,
          -0.5516086957589271,
          -0.29744749114872865,
          1.2833391977752846,
          -0.39630213817350723,
          -0.7211549240055398,
          -0.4761957840595025
         ]
        },
        {
         "hovertemplate": "color=Tyranneutes<br>PCA1=%{x}<br>PCA2=%{y}<br>PCA3=%{z}<extra></extra>",
         "legendgroup": "Tyranneutes",
         "marker": {
          "color": "#00cc96",
          "symbol": "circle"
         },
         "mode": "markers",
         "name": "Tyranneutes",
         "scene": "scene",
         "showlegend": true,
         "type": "scatter3d",
         "x": [
          -0.6334723733463581,
          -0.3762144507672521
         ],
         "y": [
          0.010225566355235983,
          1.0679390311604084
         ],
         "z": [
          -0.5888814871174265,
          -0.845213553835785
         ]
        },
        {
         "hovertemplate": "color=Tyrannopsis<br>PCA1=%{x}<br>PCA2=%{y}<br>PCA3=%{z}<extra></extra>",
         "legendgroup": "Tyrannopsis",
         "marker": {
          "color": "#ab63fa",
          "symbol": "circle"
         },
         "mode": "markers",
         "name": "Tyrannopsis",
         "scene": "scene",
         "showlegend": true,
         "type": "scatter3d",
         "x": [
          2.566511626906508,
          1.157143716601258
         ],
         "y": [
          -0.504019247185579,
          1.4181675784448802
         ],
         "z": [
          -1.0396653443270338,
          -1.2712489390147323
         ]
        },
        {
         "hovertemplate": "color=Tyrannulus<br>PCA1=%{x}<br>PCA2=%{y}<br>PCA3=%{z}<extra></extra>",
         "legendgroup": "Tyrannulus",
         "marker": {
          "color": "#FFA15A",
          "symbol": "circle"
         },
         "mode": "markers",
         "name": "Tyrannulus",
         "scene": "scene",
         "showlegend": true,
         "type": "scatter3d",
         "x": [
          -0.9859145900258259,
          -1.3732640301843553,
          -1.6123462348640412,
          -0.7505482525516934
         ],
         "y": [
          -0.3872294280268101,
          0.034100194019184425,
          -0.2127078724503198,
          1.1125138162433845
         ],
         "z": [
          -0.35305790730867326,
          -0.3867604237957841,
          -0.424532497942841,
          -0.7507041997512788
         ]
        },
        {
         "hovertemplate": "color=Tyrannus<br>PCA1=%{x}<br>PCA2=%{y}<br>PCA3=%{z}<extra></extra>",
         "legendgroup": "Tyrannus",
         "marker": {
          "color": "#19d3f3",
          "symbol": "circle"
         },
         "mode": "markers",
         "name": "Tyrannus",
         "scene": "scene",
         "showlegend": true,
         "type": "scatter3d",
         "x": [
          -1.1097824182932778,
          -0.2521283387750384,
          -1.371791845403324,
          0.16479861367383064,
          -1.4231662391410613,
          -0.6820559930784251,
          -0.4808403429974028,
          9.76209727840374,
          -0.13192108467029046
         ],
         "y": [
          0.2866165622674108,
          -0.5012686091930553,
          -0.24956845600730432,
          -0.11151309913482706,
          -0.46736321949270754,
          -0.5626899587048442,
          0.04100855906177632,
          -5.094739793273798,
          0.3541318307016999
         ],
         "z": [
          -0.5283278946586049,
          -0.6303929728157865,
          -0.35923249670364726,
          0.02343669402923759,
          -0.4886187400576885,
          -0.4577030285349564,
          1.4869098055305583,
          2.541948176156426,
          -0.8134010682320117
         ]
        },
        {
         "hovertemplate": "color=Tyto<br>PCA1=%{x}<br>PCA2=%{y}<br>PCA3=%{z}<extra></extra>",
         "legendgroup": "Tyto",
         "marker": {
          "color": "#FF6692",
          "symbol": "circle"
         },
         "mode": "markers",
         "name": "Tyto",
         "scene": "scene",
         "showlegend": true,
         "type": "scatter3d",
         "x": [
          -1.5547634499875733,
          -0.04173805035325871,
          -1.567327709804039
         ],
         "y": [
          -0.036327392981158786,
          0.03496251579766402,
          -0.07540208979054874
         ],
         "z": [
          -0.047862837441131414,
          -0.0004411110273914719,
          0.012252929008498805
         ]
        },
        {
         "hovertemplate": "color=Uropsalis<br>PCA1=%{x}<br>PCA2=%{y}<br>PCA3=%{z}<extra></extra>",
         "legendgroup": "Uropsalis",
         "marker": {
          "color": "#B6E880",
          "symbol": "circle"
         },
         "mode": "markers",
         "name": "Uropsalis",
         "scene": "scene",
         "showlegend": true,
         "type": "scatter3d",
         "x": [
          2.018565853806437,
          0.15068669073789015,
          -0.5544953997892287,
          2.9628078622604908
         ],
         "y": [
          2.894647231571913,
          -0.40116981901702997,
          0.9486406734127867,
          0.4657083920260942
         ],
         "z": [
          1.2547538742650826,
          0.6253833676686633,
          1.0057320090028865,
          -0.59228411484634
         ]
        },
        {
         "hovertemplate": "color=Vanellus<br>PCA1=%{x}<br>PCA2=%{y}<br>PCA3=%{z}<extra></extra>",
         "legendgroup": "Vanellus",
         "marker": {
          "color": "#FF97FF",
          "symbol": "circle"
         },
         "mode": "markers",
         "name": "Vanellus",
         "scene": "scene",
         "showlegend": true,
         "type": "scatter3d",
         "x": [
          -0.833981692939543,
          -0.7439072275587573,
          -0.958540968367766
         ],
         "y": [
          -0.8087169519863925,
          -0.7645049164740079,
          -0.6916042460300306
         ],
         "z": [
          -0.5275177147905805,
          -0.339828002423888,
          -0.5211393368943649
         ]
        },
        {
         "hovertemplate": "color=Veniliornis<br>PCA1=%{x}<br>PCA2=%{y}<br>PCA3=%{z}<extra></extra>",
         "legendgroup": "Veniliornis",
         "marker": {
          "color": "#FECB52",
          "symbol": "circle"
         },
         "mode": "markers",
         "name": "Veniliornis",
         "scene": "scene",
         "showlegend": true,
         "type": "scatter3d",
         "x": [
          -1.0768363581141551,
          0.2628808405423837,
          2.464088749759627,
          -1.2395843193967957,
          -1.098771736407828
         ],
         "y": [
          -0.17888122093915,
          0.5021733879846967,
          -0.09503717141838354,
          0.19786837463148224,
          -0.09251808953474303
         ],
         "z": [
          0.07594415994210983,
          0.36758366124414027,
          -0.8783528883326721,
          -0.0706304787659641,
          -0.5488922804301521
         ]
        },
        {
         "hovertemplate": "color=Vireo<br>PCA1=%{x}<br>PCA2=%{y}<br>PCA3=%{z}<extra></extra>",
         "legendgroup": "Vireo",
         "marker": {
          "color": "#636efa",
          "symbol": "circle"
         },
         "mode": "markers",
         "name": "Vireo",
         "scene": "scene",
         "showlegend": true,
         "type": "scatter3d",
         "x": [
          0.20414891395209406,
          4.785086679059819,
          -0.36108843299957183,
          -0.5335264016050817,
          -0.24774189680537986,
          -0.9253165045122395,
          -0.7759196355321997,
          -0.8220247391217331,
          -0.728781265512972,
          1.7982596168764928,
          7.636512468515399,
          2.4394444814118827,
          -1.2186805704185175
         ],
         "y": [
          -0.7748404351423477,
          -2.1669730385940347,
          2.6854874880846142,
          -0.10380627719945842,
          -0.6993565422944432,
          -0.13305590281042934,
          0.36237648168285497,
          0.5608438018707157,
          0.39084716068944675,
          -1.3585102376525493,
          -2.3784616078562735,
          -5.627845991308592,
          0.02511385608859469
         ],
         "z": [
          -0.20987234900909937,
          -0.9013158539025917,
          -1.394215785364424,
          -0.5388935343084119,
          -0.32457175787618564,
          0.20304073606878628,
          0.08047726052294715,
          -0.001376496997055563,
          0.08918985894746666,
          0.115203872273176,
          -0.283205815960846,
          0.17132411503169126,
          -0.34449048708924135
         ]
        },
        {
         "hovertemplate": "color=Vireolanius<br>PCA1=%{x}<br>PCA2=%{y}<br>PCA3=%{z}<extra></extra>",
         "legendgroup": "Vireolanius",
         "marker": {
          "color": "#EF553B",
          "symbol": "circle"
         },
         "mode": "markers",
         "name": "Vireolanius",
         "scene": "scene",
         "showlegend": true,
         "type": "scatter3d",
         "x": [
          -0.7938513414804264,
          2.1788980622785132,
          -0.061312783896579674,
          -0.00633329211445312
         ],
         "y": [
          -0.3634701745144817,
          0.09185221543300827,
          -0.23108399148061134,
          -0.5043933348841456
         ],
         "z": [
          -0.24226906774986517,
          -0.4713839824008027,
          -0.4368854323373381,
          -0.22148876133757425
         ]
        },
        {
         "hovertemplate": "color=Volatinia<br>PCA1=%{x}<br>PCA2=%{y}<br>PCA3=%{z}<extra></extra>",
         "legendgroup": "Volatinia",
         "marker": {
          "color": "#00cc96",
          "symbol": "circle"
         },
         "mode": "markers",
         "name": "Volatinia",
         "scene": "scene",
         "showlegend": true,
         "type": "scatter3d",
         "x": [
          -0.2645215098139783
         ],
         "y": [
          0.45268826344223007
         ],
         "z": [
          -0.6997609273101418
         ]
        },
        {
         "hovertemplate": "color=Willisornis<br>PCA1=%{x}<br>PCA2=%{y}<br>PCA3=%{z}<extra></extra>",
         "legendgroup": "Willisornis",
         "marker": {
          "color": "#ab63fa",
          "symbol": "circle"
         },
         "mode": "markers",
         "name": "Willisornis",
         "scene": "scene",
         "showlegend": true,
         "type": "scatter3d",
         "x": [
          2.4487588225395913,
          1.7156147809237279
         ],
         "y": [
          -3.828939925849399,
          -5.471563959493032
         ],
         "z": [
          -0.286623197741149,
          -0.38226106039697527
         ]
        },
        {
         "hovertemplate": "color=Xenopipo<br>PCA1=%{x}<br>PCA2=%{y}<br>PCA3=%{z}<extra></extra>",
         "legendgroup": "Xenopipo",
         "marker": {
          "color": "#FFA15A",
          "symbol": "circle"
         },
         "mode": "markers",
         "name": "Xenopipo",
         "scene": "scene",
         "showlegend": true,
         "type": "scatter3d",
         "x": [
          -0.6206528443852184,
          -0.6075333725279191,
          -1.3579187561806925
         ],
         "y": [
          0.6515134938793944,
          1.2411041417073145,
          0.2609247833664849
         ],
         "z": [
          -0.5465013620724463,
          -0.5435599870576457,
          -0.12216918963420255
         ]
        },
        {
         "hovertemplate": "color=Xenops<br>PCA1=%{x}<br>PCA2=%{y}<br>PCA3=%{z}<extra></extra>",
         "legendgroup": "Xenops",
         "marker": {
          "color": "#19d3f3",
          "symbol": "circle"
         },
         "mode": "markers",
         "name": "Xenops",
         "scene": "scene",
         "showlegend": true,
         "type": "scatter3d",
         "x": [
          -0.6326227735094988,
          -0.49771215106226835,
          -0.9471390539506386,
          1.4785526400749747,
          -0.6418262095076983,
          -0.546923418604853,
          -0.3002735732748137,
          -1.308925471198915
         ],
         "y": [
          -0.287408728049749,
          -0.25245397491341953,
          0.8126273766332472,
          -1.342527296859003,
          0.19510261863889444,
          0.9788551021891452,
          2.7254885498118586,
          0.47318998817476127
         ],
         "z": [
          -0.3074571420295917,
          -0.26641381933273245,
          -0.6207742026963805,
          0.8236013263648312,
          0.18856194305696589,
          -0.3951093473634993,
          -0.913375670164176,
          -0.13724664955771954
         ]
        },
        {
         "hovertemplate": "color=Xenopsaris<br>PCA1=%{x}<br>PCA2=%{y}<br>PCA3=%{z}<extra></extra>",
         "legendgroup": "Xenopsaris",
         "marker": {
          "color": "#FF6692",
          "symbol": "circle"
         },
         "mode": "markers",
         "name": "Xenopsaris",
         "scene": "scene",
         "showlegend": true,
         "type": "scatter3d",
         "x": [
          0.0758104799211201,
          -1.4881989052490203
         ],
         "y": [
          3.3098422529644123,
          -0.1238373153801125
         ],
         "z": [
          -0.5817997143792871,
          -0.15029796679617655
         ]
        },
        {
         "hovertemplate": "color=Xiphocolaptes<br>PCA1=%{x}<br>PCA2=%{y}<br>PCA3=%{z}<extra></extra>",
         "legendgroup": "Xiphocolaptes",
         "marker": {
          "color": "#B6E880",
          "symbol": "circle"
         },
         "mode": "markers",
         "name": "Xiphocolaptes",
         "scene": "scene",
         "showlegend": true,
         "type": "scatter3d",
         "x": [
          -0.43007431456121337,
          -0.4302361120763644,
          0.7510755775745096,
          2.1054365235620476,
          1.304588278969535
         ],
         "y": [
          -2.097022291831633,
          -2.0037920108235485,
          -3.3244187685014683,
          -3.8844616579952116,
          -2.4477431734960926
         ],
         "z": [
          -0.18922828200667088,
          -0.00036759302836405117,
          -0.05009325534757488,
          -0.7314235348240143,
          -0.35532768344174226
         ]
        },
        {
         "hovertemplate": "color=Xiphorhynchus<br>PCA1=%{x}<br>PCA2=%{y}<br>PCA3=%{z}<extra></extra>",
         "legendgroup": "Xiphorhynchus",
         "marker": {
          "color": "#FF97FF",
          "symbol": "circle"
         },
         "mode": "markers",
         "name": "Xiphorhynchus",
         "scene": "scene",
         "showlegend": true,
         "type": "scatter3d",
         "x": [
          -1.2279535677019795,
          5.6464688124203235,
          -0.353852544464211,
          0.3594143444481942,
          1.9369454013498857,
          0.4748540165786466,
          -1.4540728436026737,
          1.1963425984978733,
          -1.41205355653852,
          3.563895769429712,
          -1.467117739653198,
          -0.41472887164362204,
          3.4045241202911694,
          -0.8983847130668723,
          -0.6629933885993935,
          -1.4094658203313597
         ],
         "y": [
          0.027673414774294483,
          -9.43395995159672,
          0.9442870518175382,
          1.1512379216937767,
          -0.34399271252314667,
          1.5929046258542827,
          0.02328977733443832,
          1.4889666580508398,
          0.11125272378481829,
          -0.4549016032381484,
          -0.1632661910884059,
          1.0496843646653782,
          3.634501497348605,
          0.26340367982416846,
          0.3108054794900887,
          -0.298153787301232
         ],
         "z": [
          -0.4366309421776834,
          -1.4621353531863097,
          0.5549605292913938,
          0.8134524911515489,
          -0.8684885750387951,
          0.40566928469325436,
          0.3301491346893882,
          0.3565303180934356,
          -0.029008387244055096,
          -1.0148808384810295,
          -0.3781457026650638,
          -0.5274021557802473,
          -2.080603954519762,
          -0.22588352209281962,
          -0.5448234506942691,
          -0.32227032161106617
         ]
        },
        {
         "hovertemplate": "color=Xolmis<br>PCA1=%{x}<br>PCA2=%{y}<br>PCA3=%{z}<extra></extra>",
         "legendgroup": "Xolmis",
         "marker": {
          "color": "#FECB52",
          "symbol": "circle"
         },
         "mode": "markers",
         "name": "Xolmis",
         "scene": "scene",
         "showlegend": true,
         "type": "scatter3d",
         "x": [
          1.2090102022582723,
          -0.6716517413994643
         ],
         "y": [
          1.0779216324197145,
          0.2321768573294707
         ],
         "z": [
          -1.0798238293432176,
          -0.3327139008396088
         ]
        },
        {
         "hovertemplate": "color=Zebrilus<br>PCA1=%{x}<br>PCA2=%{y}<br>PCA3=%{z}<extra></extra>",
         "legendgroup": "Zebrilus",
         "marker": {
          "color": "#636efa",
          "symbol": "circle"
         },
         "mode": "markers",
         "name": "Zebrilus",
         "scene": "scene",
         "showlegend": true,
         "type": "scatter3d",
         "x": [
          -0.26522351225998364,
          2.118668081588241,
          3.1028571996665955
         ],
         "y": [
          0.6899655379407785,
          1.058148925206913,
          4.446196761599708
         ],
         "z": [
          -0.8434541883623019,
          -1.0399586096857099,
          -2.318359370585939
         ]
        },
        {
         "hovertemplate": "color=Zenaida<br>PCA1=%{x}<br>PCA2=%{y}<br>PCA3=%{z}<extra></extra>",
         "legendgroup": "Zenaida",
         "marker": {
          "color": "#EF553B",
          "symbol": "circle"
         },
         "mode": "markers",
         "name": "Zenaida",
         "scene": "scene",
         "showlegend": true,
         "type": "scatter3d",
         "x": [
          1.5325216428051016,
          0.6771968246707798,
          0.2540647819361273
         ],
         "y": [
          0.09214934926619477,
          -0.17028485439872743,
          -0.0997185680023627
         ],
         "z": [
          -0.5936661944766365,
          -0.39079238895347806,
          -0.4360106055342587
         ]
        },
        {
         "hovertemplate": "color=Zentrygon<br>PCA1=%{x}<br>PCA2=%{y}<br>PCA3=%{z}<extra></extra>",
         "legendgroup": "Zentrygon",
         "marker": {
          "color": "#00cc96",
          "symbol": "circle"
         },
         "mode": "markers",
         "name": "Zentrygon",
         "scene": "scene",
         "showlegend": true,
         "type": "scatter3d",
         "x": [
          0.7166620299599707,
          0.2937275048896432
         ],
         "y": [
          -0.05894646876980831,
          0.29268705857007865
         ],
         "z": [
          -0.3142699537647326,
          -0.6117698768505191
         ]
        },
        {
         "hovertemplate": "color=Zimmerius<br>PCA1=%{x}<br>PCA2=%{y}<br>PCA3=%{z}<extra></extra>",
         "legendgroup": "Zimmerius",
         "marker": {
          "color": "#ab63fa",
          "symbol": "circle"
         },
         "mode": "markers",
         "name": "Zimmerius",
         "scene": "scene",
         "showlegend": true,
         "type": "scatter3d",
         "x": [
          -0.533670883418113,
          2.4622699726705037,
          0.3618970586288056,
          -0.6571769359351961,
          -1.3038730547603092,
          -1.2014496944786215,
          -0.27898690803339016
         ],
         "y": [
          0.665113987007447,
          -4.892838570948493,
          -1.0952956970645749,
          0.5173751889670694,
          -0.5461786441036757,
          -0.03839531955357868,
          -0.553866847520676
         ],
         "z": [
          -0.8177594007564528,
          -0.9805600029206214,
          -0.2233119709803883,
          -0.6663216746408536,
          -0.49394886508106367,
          -0.2585605757832343,
          -0.3532814312361089
         ]
        },
        {
         "hovertemplate": "color=Zonotrichia<br>PCA1=%{x}<br>PCA2=%{y}<br>PCA3=%{z}<extra></extra>",
         "legendgroup": "Zonotrichia",
         "marker": {
          "color": "#FFA15A",
          "symbol": "circle"
         },
         "mode": "markers",
         "name": "Zonotrichia",
         "scene": "scene",
         "showlegend": true,
         "type": "scatter3d",
         "x": [
          2.1478392371990647,
          -0.9219759471627395,
          0.4190437072142488
         ],
         "y": [
          0.6506354461808627,
          0.2729908952072417,
          1.631116390888448
         ],
         "z": [
          -0.036181338070296054,
          0.270419414676753,
          -0.4369185650313767
         ]
        }
       ],
       "layout": {
        "legend": {
         "title": {
          "text": "color"
         },
         "tracegroupgap": 0
        },
        "margin": {
         "t": 60
        },
        "scene": {
         "domain": {
          "x": [
           0,
           1
          ],
          "y": [
           0,
           1
          ]
         },
         "xaxis": {
          "title": {
           "text": "PCA1"
          }
         },
         "yaxis": {
          "title": {
           "text": "PCA2"
          }
         },
         "zaxis": {
          "title": {
           "text": "PCA3"
          }
         }
        },
        "template": {
         "data": {
          "bar": [
           {
            "error_x": {
             "color": "#2a3f5f"
            },
            "error_y": {
             "color": "#2a3f5f"
            },
            "marker": {
             "line": {
              "color": "#E5ECF6",
              "width": 0.5
             },
             "pattern": {
              "fillmode": "overlay",
              "size": 10,
              "solidity": 0.2
             }
            },
            "type": "bar"
           }
          ],
          "barpolar": [
           {
            "marker": {
             "line": {
              "color": "#E5ECF6",
              "width": 0.5
             },
             "pattern": {
              "fillmode": "overlay",
              "size": 10,
              "solidity": 0.2
             }
            },
            "type": "barpolar"
           }
          ],
          "carpet": [
           {
            "aaxis": {
             "endlinecolor": "#2a3f5f",
             "gridcolor": "white",
             "linecolor": "white",
             "minorgridcolor": "white",
             "startlinecolor": "#2a3f5f"
            },
            "baxis": {
             "endlinecolor": "#2a3f5f",
             "gridcolor": "white",
             "linecolor": "white",
             "minorgridcolor": "white",
             "startlinecolor": "#2a3f5f"
            },
            "type": "carpet"
           }
          ],
          "choropleth": [
           {
            "colorbar": {
             "outlinewidth": 0,
             "ticks": ""
            },
            "type": "choropleth"
           }
          ],
          "contour": [
           {
            "colorbar": {
             "outlinewidth": 0,
             "ticks": ""
            },
            "colorscale": [
             [
              0,
              "#0d0887"
             ],
             [
              0.1111111111111111,
              "#46039f"
             ],
             [
              0.2222222222222222,
              "#7201a8"
             ],
             [
              0.3333333333333333,
              "#9c179e"
             ],
             [
              0.4444444444444444,
              "#bd3786"
             ],
             [
              0.5555555555555556,
              "#d8576b"
             ],
             [
              0.6666666666666666,
              "#ed7953"
             ],
             [
              0.7777777777777778,
              "#fb9f3a"
             ],
             [
              0.8888888888888888,
              "#fdca26"
             ],
             [
              1,
              "#f0f921"
             ]
            ],
            "type": "contour"
           }
          ],
          "contourcarpet": [
           {
            "colorbar": {
             "outlinewidth": 0,
             "ticks": ""
            },
            "type": "contourcarpet"
           }
          ],
          "heatmap": [
           {
            "colorbar": {
             "outlinewidth": 0,
             "ticks": ""
            },
            "colorscale": [
             [
              0,
              "#0d0887"
             ],
             [
              0.1111111111111111,
              "#46039f"
             ],
             [
              0.2222222222222222,
              "#7201a8"
             ],
             [
              0.3333333333333333,
              "#9c179e"
             ],
             [
              0.4444444444444444,
              "#bd3786"
             ],
             [
              0.5555555555555556,
              "#d8576b"
             ],
             [
              0.6666666666666666,
              "#ed7953"
             ],
             [
              0.7777777777777778,
              "#fb9f3a"
             ],
             [
              0.8888888888888888,
              "#fdca26"
             ],
             [
              1,
              "#f0f921"
             ]
            ],
            "type": "heatmap"
           }
          ],
          "heatmapgl": [
           {
            "colorbar": {
             "outlinewidth": 0,
             "ticks": ""
            },
            "colorscale": [
             [
              0,
              "#0d0887"
             ],
             [
              0.1111111111111111,
              "#46039f"
             ],
             [
              0.2222222222222222,
              "#7201a8"
             ],
             [
              0.3333333333333333,
              "#9c179e"
             ],
             [
              0.4444444444444444,
              "#bd3786"
             ],
             [
              0.5555555555555556,
              "#d8576b"
             ],
             [
              0.6666666666666666,
              "#ed7953"
             ],
             [
              0.7777777777777778,
              "#fb9f3a"
             ],
             [
              0.8888888888888888,
              "#fdca26"
             ],
             [
              1,
              "#f0f921"
             ]
            ],
            "type": "heatmapgl"
           }
          ],
          "histogram": [
           {
            "marker": {
             "pattern": {
              "fillmode": "overlay",
              "size": 10,
              "solidity": 0.2
             }
            },
            "type": "histogram"
           }
          ],
          "histogram2d": [
           {
            "colorbar": {
             "outlinewidth": 0,
             "ticks": ""
            },
            "colorscale": [
             [
              0,
              "#0d0887"
             ],
             [
              0.1111111111111111,
              "#46039f"
             ],
             [
              0.2222222222222222,
              "#7201a8"
             ],
             [
              0.3333333333333333,
              "#9c179e"
             ],
             [
              0.4444444444444444,
              "#bd3786"
             ],
             [
              0.5555555555555556,
              "#d8576b"
             ],
             [
              0.6666666666666666,
              "#ed7953"
             ],
             [
              0.7777777777777778,
              "#fb9f3a"
             ],
             [
              0.8888888888888888,
              "#fdca26"
             ],
             [
              1,
              "#f0f921"
             ]
            ],
            "type": "histogram2d"
           }
          ],
          "histogram2dcontour": [
           {
            "colorbar": {
             "outlinewidth": 0,
             "ticks": ""
            },
            "colorscale": [
             [
              0,
              "#0d0887"
             ],
             [
              0.1111111111111111,
              "#46039f"
             ],
             [
              0.2222222222222222,
              "#7201a8"
             ],
             [
              0.3333333333333333,
              "#9c179e"
             ],
             [
              0.4444444444444444,
              "#bd3786"
             ],
             [
              0.5555555555555556,
              "#d8576b"
             ],
             [
              0.6666666666666666,
              "#ed7953"
             ],
             [
              0.7777777777777778,
              "#fb9f3a"
             ],
             [
              0.8888888888888888,
              "#fdca26"
             ],
             [
              1,
              "#f0f921"
             ]
            ],
            "type": "histogram2dcontour"
           }
          ],
          "mesh3d": [
           {
            "colorbar": {
             "outlinewidth": 0,
             "ticks": ""
            },
            "type": "mesh3d"
           }
          ],
          "parcoords": [
           {
            "line": {
             "colorbar": {
              "outlinewidth": 0,
              "ticks": ""
             }
            },
            "type": "parcoords"
           }
          ],
          "pie": [
           {
            "automargin": true,
            "type": "pie"
           }
          ],
          "scatter": [
           {
            "marker": {
             "colorbar": {
              "outlinewidth": 0,
              "ticks": ""
             }
            },
            "type": "scatter"
           }
          ],
          "scatter3d": [
           {
            "line": {
             "colorbar": {
              "outlinewidth": 0,
              "ticks": ""
             }
            },
            "marker": {
             "colorbar": {
              "outlinewidth": 0,
              "ticks": ""
             }
            },
            "type": "scatter3d"
           }
          ],
          "scattercarpet": [
           {
            "marker": {
             "colorbar": {
              "outlinewidth": 0,
              "ticks": ""
             }
            },
            "type": "scattercarpet"
           }
          ],
          "scattergeo": [
           {
            "marker": {
             "colorbar": {
              "outlinewidth": 0,
              "ticks": ""
             }
            },
            "type": "scattergeo"
           }
          ],
          "scattergl": [
           {
            "marker": {
             "colorbar": {
              "outlinewidth": 0,
              "ticks": ""
             }
            },
            "type": "scattergl"
           }
          ],
          "scattermapbox": [
           {
            "marker": {
             "colorbar": {
              "outlinewidth": 0,
              "ticks": ""
             }
            },
            "type": "scattermapbox"
           }
          ],
          "scatterpolar": [
           {
            "marker": {
             "colorbar": {
              "outlinewidth": 0,
              "ticks": ""
             }
            },
            "type": "scatterpolar"
           }
          ],
          "scatterpolargl": [
           {
            "marker": {
             "colorbar": {
              "outlinewidth": 0,
              "ticks": ""
             }
            },
            "type": "scatterpolargl"
           }
          ],
          "scatterternary": [
           {
            "marker": {
             "colorbar": {
              "outlinewidth": 0,
              "ticks": ""
             }
            },
            "type": "scatterternary"
           }
          ],
          "surface": [
           {
            "colorbar": {
             "outlinewidth": 0,
             "ticks": ""
            },
            "colorscale": [
             [
              0,
              "#0d0887"
             ],
             [
              0.1111111111111111,
              "#46039f"
             ],
             [
              0.2222222222222222,
              "#7201a8"
             ],
             [
              0.3333333333333333,
              "#9c179e"
             ],
             [
              0.4444444444444444,
              "#bd3786"
             ],
             [
              0.5555555555555556,
              "#d8576b"
             ],
             [
              0.6666666666666666,
              "#ed7953"
             ],
             [
              0.7777777777777778,
              "#fb9f3a"
             ],
             [
              0.8888888888888888,
              "#fdca26"
             ],
             [
              1,
              "#f0f921"
             ]
            ],
            "type": "surface"
           }
          ],
          "table": [
           {
            "cells": {
             "fill": {
              "color": "#EBF0F8"
             },
             "line": {
              "color": "white"
             }
            },
            "header": {
             "fill": {
              "color": "#C8D4E3"
             },
             "line": {
              "color": "white"
             }
            },
            "type": "table"
           }
          ]
         },
         "layout": {
          "annotationdefaults": {
           "arrowcolor": "#2a3f5f",
           "arrowhead": 0,
           "arrowwidth": 1
          },
          "autotypenumbers": "strict",
          "coloraxis": {
           "colorbar": {
            "outlinewidth": 0,
            "ticks": ""
           }
          },
          "colorscale": {
           "diverging": [
            [
             0,
             "#8e0152"
            ],
            [
             0.1,
             "#c51b7d"
            ],
            [
             0.2,
             "#de77ae"
            ],
            [
             0.3,
             "#f1b6da"
            ],
            [
             0.4,
             "#fde0ef"
            ],
            [
             0.5,
             "#f7f7f7"
            ],
            [
             0.6,
             "#e6f5d0"
            ],
            [
             0.7,
             "#b8e186"
            ],
            [
             0.8,
             "#7fbc41"
            ],
            [
             0.9,
             "#4d9221"
            ],
            [
             1,
             "#276419"
            ]
           ],
           "sequential": [
            [
             0,
             "#0d0887"
            ],
            [
             0.1111111111111111,
             "#46039f"
            ],
            [
             0.2222222222222222,
             "#7201a8"
            ],
            [
             0.3333333333333333,
             "#9c179e"
            ],
            [
             0.4444444444444444,
             "#bd3786"
            ],
            [
             0.5555555555555556,
             "#d8576b"
            ],
            [
             0.6666666666666666,
             "#ed7953"
            ],
            [
             0.7777777777777778,
             "#fb9f3a"
            ],
            [
             0.8888888888888888,
             "#fdca26"
            ],
            [
             1,
             "#f0f921"
            ]
           ],
           "sequentialminus": [
            [
             0,
             "#0d0887"
            ],
            [
             0.1111111111111111,
             "#46039f"
            ],
            [
             0.2222222222222222,
             "#7201a8"
            ],
            [
             0.3333333333333333,
             "#9c179e"
            ],
            [
             0.4444444444444444,
             "#bd3786"
            ],
            [
             0.5555555555555556,
             "#d8576b"
            ],
            [
             0.6666666666666666,
             "#ed7953"
            ],
            [
             0.7777777777777778,
             "#fb9f3a"
            ],
            [
             0.8888888888888888,
             "#fdca26"
            ],
            [
             1,
             "#f0f921"
            ]
           ]
          },
          "colorway": [
           "#636efa",
           "#EF553B",
           "#00cc96",
           "#ab63fa",
           "#FFA15A",
           "#19d3f3",
           "#FF6692",
           "#B6E880",
           "#FF97FF",
           "#FECB52"
          ],
          "font": {
           "color": "#2a3f5f"
          },
          "geo": {
           "bgcolor": "white",
           "lakecolor": "white",
           "landcolor": "#E5ECF6",
           "showlakes": true,
           "showland": true,
           "subunitcolor": "white"
          },
          "hoverlabel": {
           "align": "left"
          },
          "hovermode": "closest",
          "mapbox": {
           "style": "light"
          },
          "paper_bgcolor": "white",
          "plot_bgcolor": "#E5ECF6",
          "polar": {
           "angularaxis": {
            "gridcolor": "white",
            "linecolor": "white",
            "ticks": ""
           },
           "bgcolor": "#E5ECF6",
           "radialaxis": {
            "gridcolor": "white",
            "linecolor": "white",
            "ticks": ""
           }
          },
          "scene": {
           "xaxis": {
            "backgroundcolor": "#E5ECF6",
            "gridcolor": "white",
            "gridwidth": 2,
            "linecolor": "white",
            "showbackground": true,
            "ticks": "",
            "zerolinecolor": "white"
           },
           "yaxis": {
            "backgroundcolor": "#E5ECF6",
            "gridcolor": "white",
            "gridwidth": 2,
            "linecolor": "white",
            "showbackground": true,
            "ticks": "",
            "zerolinecolor": "white"
           },
           "zaxis": {
            "backgroundcolor": "#E5ECF6",
            "gridcolor": "white",
            "gridwidth": 2,
            "linecolor": "white",
            "showbackground": true,
            "ticks": "",
            "zerolinecolor": "white"
           }
          },
          "shapedefaults": {
           "line": {
            "color": "#2a3f5f"
           }
          },
          "ternary": {
           "aaxis": {
            "gridcolor": "white",
            "linecolor": "white",
            "ticks": ""
           },
           "baxis": {
            "gridcolor": "white",
            "linecolor": "white",
            "ticks": ""
           },
           "bgcolor": "#E5ECF6",
           "caxis": {
            "gridcolor": "white",
            "linecolor": "white",
            "ticks": ""
           }
          },
          "title": {
           "x": 0.05
          },
          "xaxis": {
           "automargin": true,
           "gridcolor": "white",
           "linecolor": "white",
           "ticks": "",
           "title": {
            "standoff": 15
           },
           "zerolinecolor": "white",
           "zerolinewidth": 2
          },
          "yaxis": {
           "automargin": true,
           "gridcolor": "white",
           "linecolor": "white",
           "ticks": "",
           "title": {
            "standoff": 15
           },
           "zerolinecolor": "white",
           "zerolinewidth": 2
          }
         }
        }
       }
      }
     },
     "metadata": {},
     "output_type": "display_data"
    }
   ],
   "source": [
    "\n",
    "fig = px.scatter_3d(result, x='PCA1', y='PCA2', z='PCA3',\n",
    "                    color=Y)\n",
    "fig.show()"
   ]
  },
  {
   "cell_type": "code",
   "execution_count": 99,
   "metadata": {},
   "outputs": [],
   "source": [
    "import plotly.graph_objects as go\n",
    "import numpy as np\n",
    "\n",
    "# Helix equation\n",
    "# t = np.linspace(0, 10, 50)\n",
    "# x, y, z = result['PCA1'], result['PCA2'], result['PCA3']\n",
    "\n",
    "# fig = go.Figure(data=[go.Scatter3d(text = Y, x=x, y=y, z=z,\n",
    "#                                    mode='markers')])\n",
    "# fig.show()"
   ]
  },
  {
   "cell_type": "code",
   "execution_count": 100,
   "metadata": {},
   "outputs": [],
   "source": [
    "# import plotly.graph_objects as go\n",
    "# import numpy as np\n",
    "\n",
    "# # Helix equation\n",
    "# # t = np.linspace(0, 20, 100)\n",
    "# x, y, z = result['PCA1'], result['PCA2'], result['PCA3']#np.cos(t), np.sin(t), t\n",
    "\n",
    "# fig = go.Figure(data=[go.Scatter3d(\n",
    "#     text = Y,\n",
    "#     x=x,\n",
    "#     y=y,\n",
    "#     z=z,\n",
    "#     mode='markers',\n",
    "#     marker=dict(\n",
    "#         size=12,\n",
    "#         color=z,                # set color to an array/list of desired values\n",
    "#         colorscale='Viridis',   # choose a colorscale\n",
    "#         opacity=0.8\n",
    "#     )\n",
    "# )])\n",
    "\n",
    "# # tight layout\n",
    "# fig.update_layout(margin=dict(l=0, r=0, b=0, t=0))\n",
    "# fig.show()"
   ]
  },
  {
   "cell_type": "code",
   "execution_count": 101,
   "metadata": {},
   "outputs": [],
   "source": [
    "# from sklearn.mixture import GaussianMixture"
   ]
  },
  {
   "cell_type": "code",
   "execution_count": 102,
   "metadata": {},
   "outputs": [],
   "source": [
    "# gm = GaussianMixture(n_components = 3)\n",
    "# gm.fit(X_standard)"
   ]
  },
  {
   "cell_type": "code",
   "execution_count": 103,
   "metadata": {},
   "outputs": [],
   "source": [
    "# y_cluster_gmm = gm.predict(X_standard)\n",
    "# y_cluster_gmm"
   ]
  },
  {
   "cell_type": "code",
   "execution_count": 104,
   "metadata": {},
   "outputs": [],
   "source": [
    "# from sklearn.metrics.cluster import adjusted_rand_score"
   ]
  },
  {
   "cell_type": "code",
   "execution_count": 105,
   "metadata": {},
   "outputs": [],
   "source": [
    "# score = adjusted_rand_score(Y, y_cluster_gmm)\n",
    "# score"
   ]
  },
  {
   "cell_type": "code",
   "execution_count": 106,
   "metadata": {},
   "outputs": [],
   "source": [
    "# from sklearn.cluster import KMeans"
   ]
  },
  {
   "cell_type": "code",
   "execution_count": 107,
   "metadata": {},
   "outputs": [],
   "source": [
    "# kmeans = KMeans(n_clusters = 3)\n",
    "# kmeans.fit(X_standard)"
   ]
  },
  {
   "cell_type": "code",
   "execution_count": 108,
   "metadata": {},
   "outputs": [],
   "source": [
    "# y_cluster_kmeans = kmeans.predict(X_standard)\n",
    "# y_cluster_kmeans"
   ]
  },
  {
   "cell_type": "code",
   "execution_count": 109,
   "metadata": {},
   "outputs": [],
   "source": [
    "# score = adjusted_rand_score(Y, y_cluster_kmeans)\n",
    "# score"
   ]
  }
 ],
 "metadata": {
  "interpreter": {
   "hash": "d1b7c51cb1c07a1a0543a455994ca61e31e66a1747528d0d0492d9b5937ed4ce"
  },
  "kernelspec": {
   "display_name": "Python 3.8.12 ('tweety')",
   "language": "python",
   "name": "python3"
  },
  "language_info": {
   "codemirror_mode": {
    "name": "ipython",
    "version": 3
   },
   "file_extension": ".py",
   "mimetype": "text/x-python",
   "name": "python",
   "nbconvert_exporter": "python",
   "pygments_lexer": "ipython3",
   "version": "3.8.12"
  },
  "orig_nbformat": 4
 },
 "nbformat": 4,
 "nbformat_minor": 2
}
