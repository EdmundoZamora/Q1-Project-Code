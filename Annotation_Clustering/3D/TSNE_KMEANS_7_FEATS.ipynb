{
 "cells": [
  {
   "cell_type": "code",
   "execution_count": 1,
   "metadata": {},
   "outputs": [],
   "source": [
    "import numpy as np\n",
    "import pandas as pd\n",
    "import matplotlib.pyplot as plt\n",
    "import seaborn as sns\n",
    "import random\n",
    "sns.set()\n",
    "\n",
    "from sklearn.preprocessing import StandardScaler\n",
    "\n",
    "from sklearn.cluster import KMeans\n",
    "from sklearn.decomposition import PCA\n",
    "from sklearn.manifold import TSNE"
   ]
  },
  {
   "cell_type": "code",
   "execution_count": 2,
   "metadata": {},
   "outputs": [],
   "source": [
    "frame = pd.read_csv('for_data_science_newline_fixed.csv', usecols = [\"IN FILE\",\"CLIP LENGTH\",\"OFFSET\",\"DURATION\",\"MAX FREQ\",\"MIN FREQ\",\"SAMPLE RATE\",\"LAST MOD BY\"])\n",
    "# frame.head(10)"
   ]
  },
  {
   "cell_type": "code",
   "execution_count": 3,
   "metadata": {},
   "outputs": [],
   "source": [
    "CLIP_LENGTHS = frame.groupby(\"IN FILE\")[[\"CLIP LENGTH\"]].max()\n",
    "SUM_DURATIONS = frame.groupby(\"IN FILE\")[[\"DURATION\"]].sum()\n",
    "\n",
    "MEDIAN_DURATIONS = frame.groupby(\"IN FILE\")[[\"DURATION\"]].median()\n",
    "MEDIAN_DURATIONS = MEDIAN_DURATIONS.rename(columns={'DURATION': 'MEDIAN DURATION'})\n",
    "\n",
    "NUMBER_ANN = frame.groupby(\"IN FILE\")[[\"OFFSET\"]].count()\n",
    "NUMBER_ANN = NUMBER_ANN.rename(columns = {'OFFSET':'OFFSET COUNT'})\n",
    "\n",
    "MED_DIST_BW_ANNS = frame.copy(True)\n",
    "\n",
    "MED_DIST_BW_ANNS = MED_DIST_BW_ANNS.sort_values(['IN FILE','OFFSET'])\n",
    "MED_DIST_BW_ANNS['ENDSET'] = MED_DIST_BW_ANNS['OFFSET'] + MED_DIST_BW_ANNS['DURATION']\n",
    "\n",
    "MED_DIST_BW_ANNS = MED_DIST_BW_ANNS[['IN FILE','CLIP LENGTH','OFFSET','ENDSET','LAST MOD BY']]\n",
    "\n",
    "MED_DIST_BW_ANNS['PREV END'] = MED_DIST_BW_ANNS.loc[MED_DIST_BW_ANNS['IN FILE'].shift(-1) == MED_DIST_BW_ANNS['IN FILE'], 'ENDSET']\n",
    "MED_DIST_BW_ANNS['PREV END'] = MED_DIST_BW_ANNS['PREV END'].shift()\n",
    "\n",
    "MED_DIST_BW_ANNS = MED_DIST_BW_ANNS.fillna(0)\n",
    "MED_DIST_BW_ANNS['DIST BETWEEN ANN PREV'] = MED_DIST_BW_ANNS['OFFSET'] - MED_DIST_BW_ANNS['PREV END']\n",
    "\n",
    "MED_DIST_BW_ANNS['OVERLAP'] = MED_DIST_BW_ANNS['DIST BETWEEN ANN PREV'].loc[MED_DIST_BW_ANNS['DIST BETWEEN ANN PREV'] < 0]\n",
    "\n",
    "OVER_LAP = MED_DIST_BW_ANNS.groupby('IN FILE')[['OVERLAP']].count()\n",
    "OVER_LAP = OVER_LAP.rename(columns = {'OVERLAP':'OVERLAP COUNT'})\n",
    "\n",
    "DIST_BETWEEN_ANN_PREV = MED_DIST_BW_ANNS.groupby('IN FILE')[['DIST BETWEEN ANN PREV']].median()\n",
    "DIST_BETWEEN_ANN_PREV = DIST_BETWEEN_ANN_PREV.rename(columns={'DIST BETWEEN ANN PREV': 'MEDIAN DIST B/W ANNS'})\n",
    "\n",
    "LAST_MOD_BY = MED_DIST_BW_ANNS.groupby('IN FILE')[['LAST MOD BY']].max()\n",
    "\n",
    "WHITE_SPACE = frame.copy(True)\n",
    "DUR = WHITE_SPACE.groupby(['IN FILE'])[['DURATION']].sum()\n",
    "DUR = DUR.rename(columns = {'DURATION':'SUM DURATION'})\n",
    "LEN = WHITE_SPACE.groupby(['IN FILE'])[['CLIP LENGTH']].max()\n",
    "WHITE_SPACE = LEN.join(DUR)\n",
    "WHITE_SPACE['WHITE SPACE'] = WHITE_SPACE['CLIP LENGTH'] - WHITE_SPACE['SUM DURATION']\n",
    "\n",
    "WHITE_SPACE = WHITE_SPACE.join(OVER_LAP)\n",
    "WHITE_SPACE = WHITE_SPACE.join(DIST_BETWEEN_ANN_PREV)\n",
    "WHITE_SPACE = WHITE_SPACE.join(MEDIAN_DURATIONS)\n",
    "WHITE_SPACE = WHITE_SPACE.join(NUMBER_ANN)\n",
    "WHITE_SPACE = WHITE_SPACE.join(LAST_MOD_BY)\n",
    "WHITE_SPACE.reset_index(inplace=True)\n",
    "# WHITE_SPACE.head(10)\n",
    "# MED_DIST_BW_ANNS"
   ]
  },
  {
   "cell_type": "code",
   "execution_count": 4,
   "metadata": {},
   "outputs": [
    {
     "data": {
      "text/plain": [
       "515"
      ]
     },
     "execution_count": 4,
     "metadata": {},
     "output_type": "execute_result"
    }
   ],
   "source": [
    "def species(row):\n",
    "    species = row['IN FILE']\n",
    "    spec = species.split('-')\n",
    "    spec_to = '-'.join(spec[:-2])\n",
    "    return spec_to\n",
    "\n",
    "WHITE_SPACE['GENUS'] = WHITE_SPACE.apply(lambda row: species(row), axis=1)\n",
    "len(WHITE_SPACE['GENUS'].unique())\n",
    "# WHITE_SPACE.head(10)"
   ]
  },
  {
   "cell_type": "code",
   "execution_count": 5,
   "metadata": {},
   "outputs": [],
   "source": [
    "# # resample if sampled is admin user\n",
    "# annotator = WHITE_SPACE['LAST MOD BY'].unique()\n",
    "# sampled_annotator = ['EdZamora'] #random.sample(list(annotator),1) #['kkong', 'JacobGlennAyers']  \n",
    "# # ['EdZamora'], ['kkong', 'sunqiaochen'], ['kkong', 'JacobGlennAyers'], ['kushagra1067', 'EdZamora'], ['hjagarla', 'alarce'], ['dnelson', 'sunqiaochen'], ['sunqiaochen', 'j4yang'](not gud), ['dnelson', 'hjagarla']\n",
    "# # ['weszhen', 'JacobGlennAyers', 'dnelson']\n",
    "# sampled_annotator "
   ]
  },
  {
   "cell_type": "code",
   "execution_count": 6,
   "metadata": {},
   "outputs": [
    {
     "name": "stdout",
     "output_type": "stream",
     "text": [
      "['EdZamora', 'kkong']\n",
      "Index(['Tangara', 'Psarocolius', 'Schiffornis', 'Saltator', 'Euphonia'], dtype='object')\n"
     ]
    },
    {
     "data": {
      "text/html": [
       "<div>\n",
       "<style scoped>\n",
       "    .dataframe tbody tr th:only-of-type {\n",
       "        vertical-align: middle;\n",
       "    }\n",
       "\n",
       "    .dataframe tbody tr th {\n",
       "        vertical-align: top;\n",
       "    }\n",
       "\n",
       "    .dataframe thead th {\n",
       "        text-align: right;\n",
       "    }\n",
       "</style>\n",
       "<table border=\"1\" class=\"dataframe\">\n",
       "  <thead>\n",
       "    <tr style=\"text-align: right;\">\n",
       "      <th></th>\n",
       "      <th>IN FILE</th>\n",
       "      <th>CLIP LENGTH</th>\n",
       "      <th>SUM DURATION</th>\n",
       "      <th>WHITE SPACE</th>\n",
       "      <th>OVERLAP COUNT</th>\n",
       "      <th>MEDIAN DIST B/W ANNS</th>\n",
       "      <th>MEDIAN DURATION</th>\n",
       "      <th>OFFSET COUNT</th>\n",
       "      <th>LAST MOD BY</th>\n",
       "      <th>GENUS</th>\n",
       "    </tr>\n",
       "  </thead>\n",
       "  <tbody>\n",
       "    <tr>\n",
       "      <th>788</th>\n",
       "      <td>Euphonia-chlorotica-264822.wav</td>\n",
       "      <td>27.7420</td>\n",
       "      <td>15.9111</td>\n",
       "      <td>11.8309</td>\n",
       "      <td>2</td>\n",
       "      <td>0.180</td>\n",
       "      <td>0.56505</td>\n",
       "      <td>24</td>\n",
       "      <td>EdZamora</td>\n",
       "      <td>Euphonia</td>\n",
       "    </tr>\n",
       "    <tr>\n",
       "      <th>789</th>\n",
       "      <td>Euphonia-chlorotica-392016.wav</td>\n",
       "      <td>42.8880</td>\n",
       "      <td>20.7294</td>\n",
       "      <td>22.1586</td>\n",
       "      <td>9</td>\n",
       "      <td>0.190</td>\n",
       "      <td>0.33000</td>\n",
       "      <td>53</td>\n",
       "      <td>EdZamora</td>\n",
       "      <td>Euphonia</td>\n",
       "    </tr>\n",
       "    <tr>\n",
       "      <th>791</th>\n",
       "      <td>Euphonia-chrysopasta-171246.wav</td>\n",
       "      <td>113.1600</td>\n",
       "      <td>29.9445</td>\n",
       "      <td>83.2155</td>\n",
       "      <td>0</td>\n",
       "      <td>4.665</td>\n",
       "      <td>1.46000</td>\n",
       "      <td>18</td>\n",
       "      <td>kkong</td>\n",
       "      <td>Euphonia</td>\n",
       "    </tr>\n",
       "    <tr>\n",
       "      <th>793</th>\n",
       "      <td>Euphonia-cyanocephala-275607.wav</td>\n",
       "      <td>17.0841</td>\n",
       "      <td>11.0761</td>\n",
       "      <td>6.0080</td>\n",
       "      <td>0</td>\n",
       "      <td>1.445</td>\n",
       "      <td>4.13860</td>\n",
       "      <td>3</td>\n",
       "      <td>kkong</td>\n",
       "      <td>Euphonia</td>\n",
       "    </tr>\n",
       "    <tr>\n",
       "      <th>798</th>\n",
       "      <td>Euphonia-laniirostris-45661.wav</td>\n",
       "      <td>30.4849</td>\n",
       "      <td>27.9454</td>\n",
       "      <td>2.5395</td>\n",
       "      <td>48</td>\n",
       "      <td>-0.020</td>\n",
       "      <td>0.42495</td>\n",
       "      <td>58</td>\n",
       "      <td>EdZamora</td>\n",
       "      <td>Euphonia</td>\n",
       "    </tr>\n",
       "  </tbody>\n",
       "</table>\n",
       "</div>"
      ],
      "text/plain": [
       "                              IN FILE  CLIP LENGTH  SUM DURATION  WHITE SPACE  \\\n",
       "788    Euphonia-chlorotica-264822.wav      27.7420       15.9111      11.8309   \n",
       "789    Euphonia-chlorotica-392016.wav      42.8880       20.7294      22.1586   \n",
       "791   Euphonia-chrysopasta-171246.wav     113.1600       29.9445      83.2155   \n",
       "793  Euphonia-cyanocephala-275607.wav      17.0841       11.0761       6.0080   \n",
       "798   Euphonia-laniirostris-45661.wav      30.4849       27.9454       2.5395   \n",
       "\n",
       "     OVERLAP COUNT  MEDIAN DIST B/W ANNS  MEDIAN DURATION  OFFSET COUNT  \\\n",
       "788              2                 0.180          0.56505            24   \n",
       "789              9                 0.190          0.33000            53   \n",
       "791              0                 4.665          1.46000            18   \n",
       "793              0                 1.445          4.13860             3   \n",
       "798             48                -0.020          0.42495            58   \n",
       "\n",
       "    LAST MOD BY     GENUS  \n",
       "788    EdZamora  Euphonia  \n",
       "789    EdZamora  Euphonia  \n",
       "791       kkong  Euphonia  \n",
       "793       kkong  Euphonia  \n",
       "798    EdZamora  Euphonia  "
      ]
     },
     "execution_count": 6,
     "metadata": {},
     "output_type": "execute_result"
    }
   ],
   "source": [
    "annotator = WHITE_SPACE['LAST MOD BY'].unique()\n",
    "sampled_annotator = ['EdZamora','kkong'] #random.sample(list(annotator),1)\n",
    "print(sampled_annotator)\n",
    "\n",
    "annotator_df = WHITE_SPACE[WHITE_SPACE['LAST MOD BY'].isin(sampled_annotator)]\n",
    "\n",
    "genus_counts = annotator_df['GENUS'].value_counts()\n",
    "sampled_genus = genus_counts.index[:5]#random.sample(list(genus)counts),1)\n",
    "print(sampled_genus)\n",
    "\n",
    "# genus = annotator_df[['LAST MOD BY','GENUS']].groupby(['GENUS','LAST MOD BY'])[['LAST MOD BY']].count().rename(columns = {\"LAST MOD BY\":'COUNT'}).reset_index()\n",
    "# genus['LAST MOD BY'] = (genus['LAST MOD BY']+' '+genus['COUNT'].astype(str))\n",
    "# genus = genus.drop(columns = ['COUNT']).groupby('GENUS')['LAST MOD BY'].apply(list).to_dict()\n",
    "# shared_genus_anns = [i for i in genus if len(genus.get(i)) == 2]\n",
    "# print(shared_genus_anns)\n",
    "\n",
    "WHITE_SPACE = annotator_df[annotator_df['GENUS'].isin(sampled_genus)] # shared_genus_anns\n",
    "WHITE_SPACE.head()"
   ]
  },
  {
   "cell_type": "code",
   "execution_count": 7,
   "metadata": {},
   "outputs": [],
   "source": [
    "X = WHITE_SPACE.drop(columns = ['IN FILE','GENUS','LAST MOD BY']) # expand to taxa rather than species\n",
    "\n",
    "Y = np.array(WHITE_SPACE['GENUS'])\n",
    "Y_2 = np.array(WHITE_SPACE['LAST MOD BY'])\n",
    "Y_3 = np.array(WHITE_SPACE['IN FILE'])"
   ]
  },
  {
   "cell_type": "code",
   "execution_count": 8,
   "metadata": {},
   "outputs": [
    {
     "data": {
      "text/plain": [
       "array([[-5.13176831e-01,  1.43237709e-02, -5.69571367e-01,\n",
       "         8.54635864e-02, -8.03878842e-01, -9.50575313e-01,\n",
       "         9.04773535e-01],\n",
       "       [-1.13182164e-01,  3.98452788e-01, -2.69624834e-01,\n",
       "         1.09629152e+00, -8.01263583e-01, -1.21184651e+00,\n",
       "         3.24663727e+00],\n",
       "       [ 1.74264942e+00,  1.13310761e+00,  1.50364565e+00,\n",
       "        -2.03344395e-01,  3.69064815e-01,  4.42115655e-02,\n",
       "         4.20250002e-01],\n",
       "       [-7.94644094e-01, -3.71136619e-01, -7.38685369e-01,\n",
       "        -2.03344395e-01, -4.73048580e-01,  3.02162498e+00,\n",
       "        -7.91058828e-01],\n",
       "       [-4.40738869e-01,  9.73733486e-01, -8.39420726e-01,\n",
       "         6.72804716e+00, -8.56184021e-01, -1.10630428e+00,\n",
       "         3.65040688e+00],\n",
       "       [ 3.88805068e-01,  1.33585897e+00, -5.90723982e-02,\n",
       "        -2.03344395e-01, -7.77726252e-01, -1.23407762e+00,\n",
       "         3.08512943e+00],\n",
       "       [-7.81230830e-01, -8.53101622e-01, -5.48355517e-01,\n",
       "        -2.03344395e-01,  6.96861376e-01,  1.21723642e+00,\n",
       "        -8.71812750e-01],\n",
       "       [-4.52467222e-01, -9.78314464e-01, -1.41191246e-01,\n",
       "        -2.03344395e-01,  1.77484498e+00, -3.00370738e-01,\n",
       "        -7.91058828e-01],\n",
       "       [ 3.20234210e+00,  7.40440262e-01,  3.25195374e+00,\n",
       "        -2.03344395e-01,  1.56242057e+00,  1.49809368e-01,\n",
       "         2.58742158e-01],\n",
       "       [ 1.66751508e+00,  1.88765525e-01,  1.76504061e+00,\n",
       "        -2.03344395e-01,  1.99033752e-01, -4.83888603e-01,\n",
       "         4.20250002e-01],\n",
       "       [-3.19319651e-01,  9.66646118e-01, -7.03311096e-01,\n",
       "        -2.03344395e-01, -8.32646690e-01,  1.03371855e+00,\n",
       "        -3.06535296e-01],\n",
       "       [ 1.55558475e-01, -8.95442473e-01,  4.97279528e-01,\n",
       "        -2.03344395e-01,  1.89739601e+00, -6.22833080e-01,\n",
       "        -6.29550984e-01],\n",
       "       [ 2.16984563e+00, -2.20978471e-01,  2.46673491e+00,\n",
       "        -2.03344395e-01,  1.62431067e+00, -5.33853037e-01,\n",
       "        -6.42735298e-02],\n",
       "       [ 2.97289844e+00,  1.14457176e+00,  2.85240452e+00,\n",
       "        -2.03344395e-01,  1.52361012e+00,  8.22189481e-01,\n",
       "         9.72343143e-02],\n",
       "       [ 1.40675003e+00, -1.50782427e-01,  1.60196754e+00,\n",
       "        -2.03344395e-01,  3.12035650e+00,  9.94591789e-01,\n",
       "        -5.48797062e-01],\n",
       "       [ 2.51894178e-01, -3.75593131e-01,  4.13842132e-01,\n",
       "        -2.03344395e-01,  1.89255779e+00,  8.11296234e-01,\n",
       "        -6.29550984e-01],\n",
       "       [ 1.41242802e+00, -2.97536406e-01,  1.66167397e+00,\n",
       "        -2.03344395e-01,  2.02441914e+00,  8.30048635e-02,\n",
       "        -3.87289218e-01],\n",
       "       [ 2.17039235e-01, -7.23185128e-01,  5.02138408e-01,\n",
       "        -2.03344395e-01,  1.27009999e+00, -3.50390749e-01,\n",
       "        -5.48797062e-01],\n",
       "       [-7.98785066e-01, -7.76687189e-01, -5.95497979e-01,\n",
       "        -2.03344395e-01,  2.96962124e-01,  6.33002681e-01,\n",
       "        -7.91058828e-01],\n",
       "       [-2.35155977e-01, -7.21622558e-01,  4.27891667e-03,\n",
       "        -2.03344395e-01, -3.08300340e-01, -1.05622869e+00,\n",
       "         9.72343143e-02],\n",
       "       [-8.35346047e-01, -7.37001112e-01, -6.50162558e-01,\n",
       "        -2.03344395e-01,  1.28016394e-01,  8.76655716e-01,\n",
       "        -7.91058828e-01],\n",
       "       [-6.49081529e-01, -6.56345419e-01, -4.74705583e-01,\n",
       "        -2.03344395e-01, -2.73038376e-02,  6.61092151e-02,\n",
       "        -6.29550984e-01],\n",
       "       [-5.57327834e-01, -5.22291304e-01, -4.22637442e-01,\n",
       "        -2.03344395e-01, -1.66409463e-01,  1.16462694e-01,\n",
       "        -5.48797062e-01],\n",
       "       [-1.22707985e-01, -8.42809391e-01,  1.72088891e-01,\n",
       "        -2.03344395e-01,  6.44870028e-01, -7.26129508e-02,\n",
       "        -7.10304906e-01],\n",
       "       [-2.99314636e-01, -6.39491991e-01, -9.61979590e-02,\n",
       "        -2.03344395e-01,  7.75737587e-01,  3.22100520e-01,\n",
       "        -6.29550984e-01],\n",
       "       [ 4.70032081e-02,  3.19351692e-01, -6.46486382e-02,\n",
       "        -2.03344395e-01, -6.60065750e-01, -8.56259801e-01,\n",
       "         1.47005099e+00],\n",
       "       [-1.18252743e-01,  1.95063637e-01, -2.01106784e-01,\n",
       "        -2.03344395e-01, -5.61993538e-01, -6.50621975e-01,\n",
       "         7.43265691e-01],\n",
       "       [-4.90306411e-01, -2.38549406e-01, -4.52298973e-01,\n",
       "        -2.03344395e-01, -1.94575802e-01,  7.94400586e-01,\n",
       "        -5.48797062e-01],\n",
       "       [-4.63685876e-01,  3.63831070e-02, -5.23181116e-01,\n",
       "        -2.03344395e-01, -3.99873633e-01,  6.77520492e-01,\n",
       "        -3.87289218e-01],\n",
       "       [-3.61640492e-01,  8.67839464e-02, -4.29320217e-01,\n",
       "        -2.03344395e-01, -2.74288896e-01,  7.66722846e-01,\n",
       "        -3.06535296e-01],\n",
       "       [-5.31504859e-01, -6.86576356e-01, -3.34390538e-01,\n",
       "        -2.03344395e-01, -2.55890549e-01, -2.44904102e-01,\n",
       "        -5.48797062e-01],\n",
       "       [ 3.39050021e-01, -1.32430208e-01,  4.21105766e-01,\n",
       "        -2.03344395e-01, -8.36569579e-01, -9.61746448e-01,\n",
       "         9.04773535e-01],\n",
       "       [-1.00436637e+00, -6.98734103e-01, -8.49978989e-01,\n",
       "        -2.03344395e-01, -8.39812500e-01, -6.91193763e-01,\n",
       "        -3.06535296e-01],\n",
       "       [-6.87023715e-01, -5.73345871e-01, -5.46668123e-01,\n",
       "         2.29867577e-01, -8.45722985e-01, -6.67184157e-01,\n",
       "        -3.06535296e-01],\n",
       "       [ 9.22454364e-01,  4.59743781e-01,  8.46962058e-01,\n",
       "         8.07483540e-01, -8.48220558e-01, -3.22713010e-01,\n",
       "         4.20250002e-01],\n",
       "       [ 2.60772971e-01, -3.11870590e-01,  4.00392357e-01,\n",
       "        -2.03344395e-01, -8.23362521e-01, -9.95148701e-01,\n",
       "         2.58742158e-01],\n",
       "       [-6.40802226e-01, -4.92028478e-01, -5.25460985e-01,\n",
       "        -2.03344395e-01, -5.50198720e-01, -9.78419786e-01,\n",
       "        -1.45027452e-01],\n",
       "       [-6.42183430e-01,  3.59213160e-01, -8.37085676e-01,\n",
       "        -2.03344395e-01, -7.80341511e-01, -7.82818855e-02,\n",
       "        -3.06535296e-01],\n",
       "       [-1.04997147e+00, -6.99475527e-01, -8.99861941e-01,\n",
       "        -2.03344395e-01, -8.32777453e-01, -6.37005417e-01,\n",
       "        -5.48797062e-01],\n",
       "       [ 2.04294126e-01,  2.59961099e+00, -7.22366154e-01,\n",
       "        -2.03344395e-01, -7.52881291e-01,  2.41727208e+00,\n",
       "        -6.42735298e-02],\n",
       "       [-9.15371390e-01, -6.95106710e-01, -7.53430458e-01,\n",
       "        -2.03344395e-01, -6.26368138e-01, -4.53376396e-01,\n",
       "        -5.48797062e-01],\n",
       "       [-7.91884326e-01, -7.84627594e-01, -5.85016391e-01,\n",
       "        -2.03344395e-01,  1.72601756e-02, -8.67264204e-01,\n",
       "        -7.91058828e-01],\n",
       "       [-8.56042985e-01, -4.49799239e-01, -7.77550600e-01,\n",
       "        -2.03344395e-01, -7.01883741e-01, -7.00530832e-01,\n",
       "        -6.29550984e-01],\n",
       "       [-3.35019957e-01,  6.98928530e-01, -6.23048091e-01,\n",
       "        -2.03344395e-01, -6.71808263e-01,  3.33049344e-01,\n",
       "        -6.42735298e-02],\n",
       "       [-5.40079946e-01,  3.63007971e-01, -7.26182393e-01,\n",
       "        -2.03344395e-01, -7.79504628e-01,  2.34968948e+00,\n",
       "        -5.48797062e-01],\n",
       "       [-1.13130328e+00, -1.15116973e+00, -8.24753182e-01,\n",
       "        -2.03344395e-01, -7.31253099e-01, -1.35773821e+00,\n",
       "        -7.10304906e-01],\n",
       "       [ 1.06192431e+00,  4.68720388e+00, -5.39715249e-01,\n",
       "        -2.03344395e-01, -7.25447224e-01,  1.83348296e+00,\n",
       "         6.62511769e-01],\n",
       "       [-3.23460623e-01,  4.35755149e-01, -5.14462432e-01,\n",
       "        -2.03344395e-01, -5.73788356e-01,  1.07537354e-02,\n",
       "         1.64803923e-02],\n",
       "       [-6.27845843e-01, -4.60912616e-01, -5.22547981e-01,\n",
       "        -2.03344395e-01, -5.04431687e-01, -9.89535344e-01,\n",
       "        -2.25781374e-01]])"
      ]
     },
     "execution_count": 8,
     "metadata": {},
     "output_type": "execute_result"
    }
   ],
   "source": [
    "scaler = StandardScaler()\n",
    "X_std = scaler.fit_transform(X)\n",
    "X_std"
   ]
  },
  {
   "cell_type": "code",
   "execution_count": 9,
   "metadata": {},
   "outputs": [
    {
     "name": "stderr",
     "output_type": "stream",
     "text": [
      "C:\\Users\\lianl\\anaconda3\\envs\\tweety\\lib\\site-packages\\sklearn\\manifold\\_t_sne.py:780: FutureWarning: The default initialization in TSNE will change from 'random' to 'pca' in 1.2.\n",
      "  warnings.warn(\n",
      "C:\\Users\\lianl\\anaconda3\\envs\\tweety\\lib\\site-packages\\sklearn\\manifold\\_t_sne.py:790: FutureWarning: The default learning rate in TSNE will change from 200.0 to 'auto' in 1.2.\n",
      "  warnings.warn(\n"
     ]
    },
    {
     "name": "stdout",
     "output_type": "stream",
     "text": [
      "[t-SNE] Computing 48 nearest neighbors...\n",
      "[t-SNE] Indexed 49 samples in 0.000s...\n",
      "[t-SNE] Computed neighbors for 49 samples in 0.007s...\n",
      "[t-SNE] Computed conditional probabilities for sample 49 / 49\n",
      "[t-SNE] Mean sigma: 3.226858\n",
      "[t-SNE] KL divergence after 250 iterations with early exaggeration: 82.035881\n",
      "[t-SNE] KL divergence after 300 iterations: 1.099998\n"
     ]
    },
    {
     "data": {
      "text/html": [
       "<div>\n",
       "<style scoped>\n",
       "    .dataframe tbody tr th:only-of-type {\n",
       "        vertical-align: middle;\n",
       "    }\n",
       "\n",
       "    .dataframe tbody tr th {\n",
       "        vertical-align: top;\n",
       "    }\n",
       "\n",
       "    .dataframe thead th {\n",
       "        text-align: right;\n",
       "    }\n",
       "</style>\n",
       "<table border=\"1\" class=\"dataframe\">\n",
       "  <thead>\n",
       "    <tr style=\"text-align: right;\">\n",
       "      <th></th>\n",
       "      <th>TSNE1</th>\n",
       "      <th>TSNE2</th>\n",
       "      <th>TSNE3</th>\n",
       "    </tr>\n",
       "  </thead>\n",
       "  <tbody>\n",
       "    <tr>\n",
       "      <th>0</th>\n",
       "      <td>-2.430069</td>\n",
       "      <td>-54.318878</td>\n",
       "      <td>-20.997787</td>\n",
       "    </tr>\n",
       "    <tr>\n",
       "      <th>1</th>\n",
       "      <td>-14.617945</td>\n",
       "      <td>-31.415937</td>\n",
       "      <td>-33.224010</td>\n",
       "    </tr>\n",
       "    <tr>\n",
       "      <th>2</th>\n",
       "      <td>-7.414075</td>\n",
       "      <td>27.425514</td>\n",
       "      <td>8.707233</td>\n",
       "    </tr>\n",
       "    <tr>\n",
       "      <th>3</th>\n",
       "      <td>-6.623138</td>\n",
       "      <td>-13.600827</td>\n",
       "      <td>11.054681</td>\n",
       "    </tr>\n",
       "    <tr>\n",
       "      <th>4</th>\n",
       "      <td>14.856796</td>\n",
       "      <td>-31.604530</td>\n",
       "      <td>21.588289</td>\n",
       "    </tr>\n",
       "    <tr>\n",
       "      <th>5</th>\n",
       "      <td>-1.923040</td>\n",
       "      <td>8.052958</td>\n",
       "      <td>26.414648</td>\n",
       "    </tr>\n",
       "    <tr>\n",
       "      <th>6</th>\n",
       "      <td>-29.771717</td>\n",
       "      <td>-4.663214</td>\n",
       "      <td>-4.026187</td>\n",
       "    </tr>\n",
       "    <tr>\n",
       "      <th>7</th>\n",
       "      <td>38.007084</td>\n",
       "      <td>-39.208954</td>\n",
       "      <td>20.209974</td>\n",
       "    </tr>\n",
       "    <tr>\n",
       "      <th>8</th>\n",
       "      <td>-9.427572</td>\n",
       "      <td>-4.387982</td>\n",
       "      <td>-50.645432</td>\n",
       "    </tr>\n",
       "    <tr>\n",
       "      <th>9</th>\n",
       "      <td>-2.219666</td>\n",
       "      <td>6.523316</td>\n",
       "      <td>-1.486369</td>\n",
       "    </tr>\n",
       "    <tr>\n",
       "      <th>10</th>\n",
       "      <td>30.151955</td>\n",
       "      <td>21.980419</td>\n",
       "      <td>10.506013</td>\n",
       "    </tr>\n",
       "    <tr>\n",
       "      <th>11</th>\n",
       "      <td>47.120090</td>\n",
       "      <td>-6.097377</td>\n",
       "      <td>31.181498</td>\n",
       "    </tr>\n",
       "    <tr>\n",
       "      <th>12</th>\n",
       "      <td>-51.774292</td>\n",
       "      <td>-10.370967</td>\n",
       "      <td>21.012413</td>\n",
       "    </tr>\n",
       "    <tr>\n",
       "      <th>13</th>\n",
       "      <td>-15.639771</td>\n",
       "      <td>-8.955326</td>\n",
       "      <td>-23.945787</td>\n",
       "    </tr>\n",
       "    <tr>\n",
       "      <th>14</th>\n",
       "      <td>-35.307922</td>\n",
       "      <td>33.190342</td>\n",
       "      <td>4.411387</td>\n",
       "    </tr>\n",
       "    <tr>\n",
       "      <th>15</th>\n",
       "      <td>76.348022</td>\n",
       "      <td>41.078957</td>\n",
       "      <td>-12.237507</td>\n",
       "    </tr>\n",
       "    <tr>\n",
       "      <th>16</th>\n",
       "      <td>-8.230289</td>\n",
       "      <td>56.654797</td>\n",
       "      <td>-11.373225</td>\n",
       "    </tr>\n",
       "    <tr>\n",
       "      <th>17</th>\n",
       "      <td>-49.683685</td>\n",
       "      <td>-18.816946</td>\n",
       "      <td>-2.972839</td>\n",
       "    </tr>\n",
       "    <tr>\n",
       "      <th>18</th>\n",
       "      <td>25.789276</td>\n",
       "      <td>1.004016</td>\n",
       "      <td>-9.562243</td>\n",
       "    </tr>\n",
       "    <tr>\n",
       "      <th>19</th>\n",
       "      <td>9.581394</td>\n",
       "      <td>44.580124</td>\n",
       "      <td>9.519279</td>\n",
       "    </tr>\n",
       "    <tr>\n",
       "      <th>20</th>\n",
       "      <td>7.689764</td>\n",
       "      <td>-15.858853</td>\n",
       "      <td>-151.066483</td>\n",
       "    </tr>\n",
       "    <tr>\n",
       "      <th>21</th>\n",
       "      <td>11.493751</td>\n",
       "      <td>27.488855</td>\n",
       "      <td>36.307091</td>\n",
       "    </tr>\n",
       "    <tr>\n",
       "      <th>22</th>\n",
       "      <td>2.010095</td>\n",
       "      <td>-37.886101</td>\n",
       "      <td>42.964092</td>\n",
       "    </tr>\n",
       "    <tr>\n",
       "      <th>23</th>\n",
       "      <td>-28.386463</td>\n",
       "      <td>10.676914</td>\n",
       "      <td>-36.188683</td>\n",
       "    </tr>\n",
       "    <tr>\n",
       "      <th>24</th>\n",
       "      <td>11.242405</td>\n",
       "      <td>-19.214272</td>\n",
       "      <td>-42.013832</td>\n",
       "    </tr>\n",
       "    <tr>\n",
       "      <th>25</th>\n",
       "      <td>41.790218</td>\n",
       "      <td>-16.872221</td>\n",
       "      <td>-19.906174</td>\n",
       "    </tr>\n",
       "    <tr>\n",
       "      <th>26</th>\n",
       "      <td>-24.271967</td>\n",
       "      <td>-26.974092</td>\n",
       "      <td>22.046507</td>\n",
       "    </tr>\n",
       "    <tr>\n",
       "      <th>27</th>\n",
       "      <td>19.885790</td>\n",
       "      <td>1.626473</td>\n",
       "      <td>16.918575</td>\n",
       "    </tr>\n",
       "    <tr>\n",
       "      <th>28</th>\n",
       "      <td>49.078468</td>\n",
       "      <td>34.260857</td>\n",
       "      <td>4.731239</td>\n",
       "    </tr>\n",
       "    <tr>\n",
       "      <th>29</th>\n",
       "      <td>14.100291</td>\n",
       "      <td>-17.244024</td>\n",
       "      <td>0.034892</td>\n",
       "    </tr>\n",
       "    <tr>\n",
       "      <th>30</th>\n",
       "      <td>59.017578</td>\n",
       "      <td>115.277916</td>\n",
       "      <td>22.573622</td>\n",
       "    </tr>\n",
       "    <tr>\n",
       "      <th>31</th>\n",
       "      <td>-26.166168</td>\n",
       "      <td>9.475690</td>\n",
       "      <td>20.096697</td>\n",
       "    </tr>\n",
       "    <tr>\n",
       "      <th>32</th>\n",
       "      <td>-22.222717</td>\n",
       "      <td>16.991756</td>\n",
       "      <td>-12.805228</td>\n",
       "    </tr>\n",
       "    <tr>\n",
       "      <th>33</th>\n",
       "      <td>20.362335</td>\n",
       "      <td>-32.303032</td>\n",
       "      <td>-20.002846</td>\n",
       "    </tr>\n",
       "    <tr>\n",
       "      <th>34</th>\n",
       "      <td>0.866212</td>\n",
       "      <td>-50.756485</td>\n",
       "      <td>11.771061</td>\n",
       "    </tr>\n",
       "    <tr>\n",
       "      <th>35</th>\n",
       "      <td>-31.897400</td>\n",
       "      <td>61.316692</td>\n",
       "      <td>-37.145042</td>\n",
       "    </tr>\n",
       "    <tr>\n",
       "      <th>36</th>\n",
       "      <td>12.820642</td>\n",
       "      <td>23.464737</td>\n",
       "      <td>-13.644079</td>\n",
       "    </tr>\n",
       "    <tr>\n",
       "      <th>37</th>\n",
       "      <td>19.751003</td>\n",
       "      <td>-10.218676</td>\n",
       "      <td>41.415993</td>\n",
       "    </tr>\n",
       "    <tr>\n",
       "      <th>38</th>\n",
       "      <td>-10.180443</td>\n",
       "      <td>34.159737</td>\n",
       "      <td>-25.950603</td>\n",
       "    </tr>\n",
       "    <tr>\n",
       "      <th>39</th>\n",
       "      <td>38.195194</td>\n",
       "      <td>-16.263180</td>\n",
       "      <td>10.395632</td>\n",
       "    </tr>\n",
       "    <tr>\n",
       "      <th>40</th>\n",
       "      <td>-11.697529</td>\n",
       "      <td>38.005699</td>\n",
       "      <td>68.745193</td>\n",
       "    </tr>\n",
       "    <tr>\n",
       "      <th>41</th>\n",
       "      <td>-27.325377</td>\n",
       "      <td>-34.915459</td>\n",
       "      <td>-2.407967</td>\n",
       "    </tr>\n",
       "    <tr>\n",
       "      <th>42</th>\n",
       "      <td>-6.225386</td>\n",
       "      <td>-13.460752</td>\n",
       "      <td>38.746437</td>\n",
       "    </tr>\n",
       "    <tr>\n",
       "      <th>43</th>\n",
       "      <td>26.318979</td>\n",
       "      <td>41.641289</td>\n",
       "      <td>-18.352671</td>\n",
       "    </tr>\n",
       "    <tr>\n",
       "      <th>44</th>\n",
       "      <td>-51.263283</td>\n",
       "      <td>-51.928505</td>\n",
       "      <td>-28.728012</td>\n",
       "    </tr>\n",
       "    <tr>\n",
       "      <th>45</th>\n",
       "      <td>-2.913894</td>\n",
       "      <td>-32.462746</td>\n",
       "      <td>-7.301229</td>\n",
       "    </tr>\n",
       "    <tr>\n",
       "      <th>46</th>\n",
       "      <td>7.763258</td>\n",
       "      <td>2.114287</td>\n",
       "      <td>-27.462330</td>\n",
       "    </tr>\n",
       "    <tr>\n",
       "      <th>47</th>\n",
       "      <td>-31.307178</td>\n",
       "      <td>-7.992929</td>\n",
       "      <td>40.362785</td>\n",
       "    </tr>\n",
       "    <tr>\n",
       "      <th>48</th>\n",
       "      <td>49.802673</td>\n",
       "      <td>5.672787</td>\n",
       "      <td>-0.577978</td>\n",
       "    </tr>\n",
       "  </tbody>\n",
       "</table>\n",
       "</div>"
      ],
      "text/plain": [
       "        TSNE1       TSNE2       TSNE3\n",
       "0   -2.430069  -54.318878  -20.997787\n",
       "1  -14.617945  -31.415937  -33.224010\n",
       "2   -7.414075   27.425514    8.707233\n",
       "3   -6.623138  -13.600827   11.054681\n",
       "4   14.856796  -31.604530   21.588289\n",
       "5   -1.923040    8.052958   26.414648\n",
       "6  -29.771717   -4.663214   -4.026187\n",
       "7   38.007084  -39.208954   20.209974\n",
       "8   -9.427572   -4.387982  -50.645432\n",
       "9   -2.219666    6.523316   -1.486369\n",
       "10  30.151955   21.980419   10.506013\n",
       "11  47.120090   -6.097377   31.181498\n",
       "12 -51.774292  -10.370967   21.012413\n",
       "13 -15.639771   -8.955326  -23.945787\n",
       "14 -35.307922   33.190342    4.411387\n",
       "15  76.348022   41.078957  -12.237507\n",
       "16  -8.230289   56.654797  -11.373225\n",
       "17 -49.683685  -18.816946   -2.972839\n",
       "18  25.789276    1.004016   -9.562243\n",
       "19   9.581394   44.580124    9.519279\n",
       "20   7.689764  -15.858853 -151.066483\n",
       "21  11.493751   27.488855   36.307091\n",
       "22   2.010095  -37.886101   42.964092\n",
       "23 -28.386463   10.676914  -36.188683\n",
       "24  11.242405  -19.214272  -42.013832\n",
       "25  41.790218  -16.872221  -19.906174\n",
       "26 -24.271967  -26.974092   22.046507\n",
       "27  19.885790    1.626473   16.918575\n",
       "28  49.078468   34.260857    4.731239\n",
       "29  14.100291  -17.244024    0.034892\n",
       "30  59.017578  115.277916   22.573622\n",
       "31 -26.166168    9.475690   20.096697\n",
       "32 -22.222717   16.991756  -12.805228\n",
       "33  20.362335  -32.303032  -20.002846\n",
       "34   0.866212  -50.756485   11.771061\n",
       "35 -31.897400   61.316692  -37.145042\n",
       "36  12.820642   23.464737  -13.644079\n",
       "37  19.751003  -10.218676   41.415993\n",
       "38 -10.180443   34.159737  -25.950603\n",
       "39  38.195194  -16.263180   10.395632\n",
       "40 -11.697529   38.005699   68.745193\n",
       "41 -27.325377  -34.915459   -2.407967\n",
       "42  -6.225386  -13.460752   38.746437\n",
       "43  26.318979   41.641289  -18.352671\n",
       "44 -51.263283  -51.928505  -28.728012\n",
       "45  -2.913894  -32.462746   -7.301229\n",
       "46   7.763258    2.114287  -27.462330\n",
       "47 -31.307178   -7.992929   40.362785\n",
       "48  49.802673    5.672787   -0.577978"
      ]
     },
     "execution_count": 9,
     "metadata": {},
     "output_type": "execute_result"
    }
   ],
   "source": [
    "tsne = TSNE(n_components=3, verbose=1, perplexity=40, n_iter=300)\n",
    "tsne_results = tsne.fit_transform(X_std) \n",
    "\n",
    "tsneed = pd.DataFrame(tsne_results, columns = ['TSNE1','TSNE2','TSNE3']) # ,'TSNE4','TSNE5','TSNE6'\n",
    "tsneed"
   ]
  },
  {
   "cell_type": "code",
   "execution_count": 10,
   "metadata": {},
   "outputs": [],
   "source": [
    "wcss = []\n",
    "for i in range(1,21):\n",
    "    kmeans_iqr = KMeans(n_clusters = i, init = 'k-means++', random_state = 42)\n",
    "    kmeans_iqr.fit(tsne_results)\n",
    "    wcss.append(kmeans_iqr.inertia_)"
   ]
  },
  {
   "cell_type": "code",
   "execution_count": 11,
   "metadata": {},
   "outputs": [
    {
     "data": {
      "image/png": "[encoded data removed]",
      "text/plain": [
       "<Figure size 720x576 with 1 Axes>"
      ]
     },
     "metadata": {},
     "output_type": "display_data"
    }
   ],
   "source": [
    "plt.figure(figsize = (10,8))\n",
    "plt.plot(range(1,21),wcss,marker = 'o', linestyle = '--')\n",
    "plt.xlabel('Number of Clusters')\n",
    "plt.ylabel('WCSS')\n",
    "plt.title('K-means with 7 Feat TSNE Clustering')\n",
    "plt.show()"
   ]
  },
  {
   "cell_type": "code",
   "execution_count": 12,
   "metadata": {},
   "outputs": [
    {
     "data": {
      "text/plain": [
       "KMeans(n_clusters=5, random_state=42)"
      ]
     },
     "execution_count": 12,
     "metadata": {},
     "output_type": "execute_result"
    }
   ],
   "source": [
    "kmeans_iqr = KMeans(n_clusters = 5, init = 'k-means++',random_state = 42)\n",
    "kmeans_iqr.fit(tsne_results)"
   ]
  },
  {
   "cell_type": "code",
   "execution_count": 13,
   "metadata": {},
   "outputs": [],
   "source": [
    "df_segm_iqr_kmeans = pd.concat([X.reset_index(drop = True), pd.DataFrame(tsne_results,columns = tsneed.columns)], axis = 1)\n",
    "\n",
    "df_segm_iqr_kmeans['Segment K-means IQR'] = kmeans_iqr.labels_\n",
    "df_segm_iqr_kmeans['Cluster'] = df_segm_iqr_kmeans['Segment K-means IQR'].map({0:'first',1:'second',2:'third',3:'fourth',4:'fifth'})\n",
    "df_segm_iqr_kmeans['IN FILE'],df_segm_iqr_kmeans['LAST MOD BY'], df_segm_iqr_kmeans['Genus'] = Y_3,Y_2, Y"
   ]
  },
  {
   "cell_type": "code",
   "execution_count": 17,
   "metadata": {},
   "outputs": [
    {
     "data": {
      "text/html": [
       "<div>\n",
       "<style scoped>\n",
       "    .dataframe tbody tr th:only-of-type {\n",
       "        vertical-align: middle;\n",
       "    }\n",
       "\n",
       "    .dataframe tbody tr th {\n",
       "        vertical-align: top;\n",
       "    }\n",
       "\n",
       "    .dataframe thead th {\n",
       "        text-align: right;\n",
       "    }\n",
       "</style>\n",
       "<table border=\"1\" class=\"dataframe\">\n",
       "  <thead>\n",
       "    <tr style=\"text-align: right;\">\n",
       "      <th></th>\n",
       "      <th>CLIP LENGTH</th>\n",
       "      <th>SUM DURATION</th>\n",
       "      <th>WHITE SPACE</th>\n",
       "      <th>OVERLAP COUNT</th>\n",
       "      <th>MEDIAN DIST B/W ANNS</th>\n",
       "      <th>MEDIAN DURATION</th>\n",
       "      <th>OFFSET COUNT</th>\n",
       "      <th>TSNE1</th>\n",
       "      <th>TSNE2</th>\n",
       "      <th>TSNE3</th>\n",
       "      <th>Segment K-means IQR</th>\n",
       "      <th>Cluster</th>\n",
       "      <th>IN FILE</th>\n",
       "      <th>LAST MOD BY</th>\n",
       "      <th>Genus</th>\n",
       "    </tr>\n",
       "  </thead>\n",
       "  <tbody>\n",
       "    <tr>\n",
       "      <th>0</th>\n",
       "      <td>27.7420</td>\n",
       "      <td>15.9111</td>\n",
       "      <td>11.8309</td>\n",
       "      <td>2</td>\n",
       "      <td>0.180</td>\n",
       "      <td>0.56505</td>\n",
       "      <td>24</td>\n",
       "      <td>-2.430069</td>\n",
       "      <td>-54.318878</td>\n",
       "      <td>-20.997787</td>\n",
       "      <td>4</td>\n",
       "      <td>fifth</td>\n",
       "      <td>Euphonia-chlorotica-264822.wav</td>\n",
       "      <td>EdZamora</td>\n",
       "      <td>Euphonia</td>\n",
       "    </tr>\n",
       "    <tr>\n",
       "      <th>1</th>\n",
       "      <td>42.8880</td>\n",
       "      <td>20.7294</td>\n",
       "      <td>22.1586</td>\n",
       "      <td>9</td>\n",
       "      <td>0.190</td>\n",
       "      <td>0.33000</td>\n",
       "      <td>53</td>\n",
       "      <td>-14.617945</td>\n",
       "      <td>-31.415937</td>\n",
       "      <td>-33.224010</td>\n",
       "      <td>4</td>\n",
       "      <td>fifth</td>\n",
       "      <td>Euphonia-chlorotica-392016.wav</td>\n",
       "      <td>EdZamora</td>\n",
       "      <td>Euphonia</td>\n",
       "    </tr>\n",
       "    <tr>\n",
       "      <th>2</th>\n",
       "      <td>113.1600</td>\n",
       "      <td>29.9445</td>\n",
       "      <td>83.2155</td>\n",
       "      <td>0</td>\n",
       "      <td>4.665</td>\n",
       "      <td>1.46000</td>\n",
       "      <td>18</td>\n",
       "      <td>-7.414075</td>\n",
       "      <td>27.425514</td>\n",
       "      <td>8.707233</td>\n",
       "      <td>0</td>\n",
       "      <td>first</td>\n",
       "      <td>Euphonia-chrysopasta-171246.wav</td>\n",
       "      <td>kkong</td>\n",
       "      <td>Euphonia</td>\n",
       "    </tr>\n",
       "    <tr>\n",
       "      <th>3</th>\n",
       "      <td>17.0841</td>\n",
       "      <td>11.0761</td>\n",
       "      <td>6.0080</td>\n",
       "      <td>0</td>\n",
       "      <td>1.445</td>\n",
       "      <td>4.13860</td>\n",
       "      <td>3</td>\n",
       "      <td>-6.623138</td>\n",
       "      <td>-13.600827</td>\n",
       "      <td>11.054681</td>\n",
       "      <td>2</td>\n",
       "      <td>third</td>\n",
       "      <td>Euphonia-cyanocephala-275607.wav</td>\n",
       "      <td>kkong</td>\n",
       "      <td>Euphonia</td>\n",
       "    </tr>\n",
       "    <tr>\n",
       "      <th>4</th>\n",
       "      <td>30.4849</td>\n",
       "      <td>27.9454</td>\n",
       "      <td>2.5395</td>\n",
       "      <td>48</td>\n",
       "      <td>-0.020</td>\n",
       "      <td>0.42495</td>\n",
       "      <td>58</td>\n",
       "      <td>14.856796</td>\n",
       "      <td>-31.604530</td>\n",
       "      <td>21.588289</td>\n",
       "      <td>2</td>\n",
       "      <td>third</td>\n",
       "      <td>Euphonia-laniirostris-45661.wav</td>\n",
       "      <td>EdZamora</td>\n",
       "      <td>Euphonia</td>\n",
       "    </tr>\n",
       "  </tbody>\n",
       "</table>\n",
       "</div>"
      ],
      "text/plain": [
       "   CLIP LENGTH  SUM DURATION  WHITE SPACE  OVERLAP COUNT  \\\n",
       "0      27.7420       15.9111      11.8309              2   \n",
       "1      42.8880       20.7294      22.1586              9   \n",
       "2     113.1600       29.9445      83.2155              0   \n",
       "3      17.0841       11.0761       6.0080              0   \n",
       "4      30.4849       27.9454       2.5395             48   \n",
       "\n",
       "   MEDIAN DIST B/W ANNS  MEDIAN DURATION  OFFSET COUNT      TSNE1      TSNE2  \\\n",
       "0                 0.180          0.56505            24  -2.430069 -54.318878   \n",
       "1                 0.190          0.33000            53 -14.617945 -31.415937   \n",
       "2                 4.665          1.46000            18  -7.414075  27.425514   \n",
       "3                 1.445          4.13860             3  -6.623138 -13.600827   \n",
       "4                -0.020          0.42495            58  14.856796 -31.604530   \n",
       "\n",
       "       TSNE3  Segment K-means IQR Cluster                           IN FILE  \\\n",
       "0 -20.997787                    4   fifth    Euphonia-chlorotica-264822.wav   \n",
       "1 -33.224010                    4   fifth    Euphonia-chlorotica-392016.wav   \n",
       "2   8.707233                    0   first   Euphonia-chrysopasta-171246.wav   \n",
       "3  11.054681                    2   third  Euphonia-cyanocephala-275607.wav   \n",
       "4  21.588289                    2   third   Euphonia-laniirostris-45661.wav   \n",
       "\n",
       "  LAST MOD BY     Genus  \n",
       "0    EdZamora  Euphonia  \n",
       "1    EdZamora  Euphonia  \n",
       "2       kkong  Euphonia  \n",
       "3       kkong  Euphonia  \n",
       "4    EdZamora  Euphonia  "
      ]
     },
     "execution_count": 17,
     "metadata": {},
     "output_type": "execute_result"
    }
   ],
   "source": [
    "df_segm_iqr_kmeans.head()"
   ]
  },
  {
   "cell_type": "code",
   "execution_count": 15,
   "metadata": {},
   "outputs": [
    {
     "data": {
      "application/vnd.plotly.v1+json": {
       "config": {
        "plotlyServerURL": "https://plot.ly"
       },
       "data": [
        {
         "hovertemplate": "<b>%{hovertext}</b><br><br>Cluster=fifth<br>TSNE1=%{x}<br>TSNE2=%{y}<br>TSNE3=%{z}<extra></extra>",
         "hovertext": [
          [
           "Euphonia-chlorotica-264822.wav",
           "EdZamora"
          ],
          [
           "Euphonia-chlorotica-392016.wav",
           "EdZamora"
          ],
          [
           "Euphonia-rufiventris-427361.wav",
           "kkong"
          ],
          [
           "Psarocolius-angustifrons-122307.wav",
           "EdZamora"
          ],
          [
           "Psarocolius-bifasciatus-128985.wav",
           "kkong"
          ],
          [
           "Psarocolius-decumanus-76074.wav",
           "kkong"
          ],
          [
           "Saltator-grossus-27833.wav",
           "EdZamora"
          ],
          [
           "Saltator-maximus-214115.wav",
           "EdZamora"
          ],
          [
           "Schiffornis-turdina-151821.wav",
           "EdZamora"
          ],
          [
           "Schiffornis-turdina-27841.wav",
           "EdZamora"
          ],
          [
           "Tangara-nigroviridis-262564.wav",
           "kkong"
          ],
          [
           "Tangara-schrankii-436529.wav",
           "kkong"
          ],
          [
           "Tangara-velia-206320.wav",
           "kkong"
          ],
          [
           "Tangara-velia-499792.wav",
           "kkong"
          ]
         ],
         "legendgroup": "fifth",
         "marker": {
          "color": "#636efa",
          "symbol": "circle"
         },
         "mode": "markers",
         "name": "fifth",
         "scene": "scene",
         "showlegend": true,
         "type": "scatter3d",
         "x": [
          -2.4300692081451416,
          -14.617944717407227,
          -29.771717071533203,
          -9.427572250366211,
          -15.6397705078125,
          -49.683685302734375,
          -28.386463165283203,
          11.24240493774414,
          20.362335205078125,
          0.8662118315696716,
          -27.325376510620117,
          -51.263282775878906,
          -2.9138944149017334,
          7.76325798034668
         ],
         "y": [
          -54.318878173828125,
          -31.415937423706055,
          -4.663213729858398,
          -4.38798189163208,
          -8.955326080322266,
          -18.816946029663086,
          10.67691421508789,
          -19.214271545410156,
          -32.30303192138672,
          -50.75648498535156,
          -34.91545867919922,
          -51.928504943847656,
          -32.462745666503906,
          2.1142873764038086
         ],
         "z": [
          -20.997787475585938,
          -33.2240104675293,
          -4.026187419891357,
          -50.64543151855469,
          -23.94578742980957,
          -2.9728386402130127,
          -36.188682556152344,
          -42.013832092285156,
          -20.002845764160156,
          11.771060943603516,
          -2.4079673290252686,
          -28.728012084960938,
          -7.3012285232543945,
          -27.462329864501953
         ]
        },
        {
         "hovertemplate": "<b>%{hovertext}</b><br><br>Cluster=first<br>TSNE1=%{x}<br>TSNE2=%{y}<br>TSNE3=%{z}<extra></extra>",
         "hovertext": [
          [
           "Euphonia-chrysopasta-171246.wav",
           "kkong"
          ],
          [
           "Psarocolius-bifasciatus-146525.wav",
           "kkong"
          ],
          [
           "Psarocolius-decumanus-122330.wav",
           "kkong"
          ],
          [
           "Saltator-coerulescens-259778.wav",
           "EdZamora"
          ],
          [
           "Schiffornis-major-102619.wav",
           "EdZamora"
          ],
          [
           "Schiffornis-major-296584.wav",
           "EdZamora"
          ],
          [
           "Schiffornis-turdina-76029.wav",
           "EdZamora"
          ],
          [
           "Tangara-callophrys-296563.wav",
           "kkong"
          ],
          [
           "Tangara-mexicana-428038.wav",
           "kkong"
          ],
          [
           "Tangara-schrankii-230521.wav",
           "kkong"
          ]
         ],
         "legendgroup": "first",
         "marker": {
          "color": "#EF553B",
          "symbol": "circle"
         },
         "mode": "markers",
         "name": "first",
         "scene": "scene",
         "showlegend": true,
         "type": "scatter3d",
         "x": [
          -7.414074897766113,
          -35.30792236328125,
          -8.2302885055542,
          9.58139419555664,
          59.017578125,
          -22.22271728515625,
          -31.89739990234375,
          12.82064151763916,
          -10.180442810058594,
          26.318979263305664
         ],
         "y": [
          27.425514221191406,
          33.19034194946289,
          56.6547966003418,
          44.58012390136719,
          115.27791595458984,
          16.991756439208984,
          61.31669235229492,
          23.464736938476562,
          34.15973663330078,
          41.64128875732422
         ],
         "z": [
          8.707233428955078,
          4.4113874435424805,
          -11.373225212097168,
          9.519279479980469,
          22.57362174987793,
          -12.805228233337402,
          -37.145042419433594,
          -13.644079208374023,
          -25.950603485107422,
          -18.352670669555664
         ]
        },
        {
         "hovertemplate": "<b>%{hovertext}</b><br><br>Cluster=third<br>TSNE1=%{x}<br>TSNE2=%{y}<br>TSNE3=%{z}<extra></extra>",
         "hovertext": [
          [
           "Euphonia-cyanocephala-275607.wav",
           "kkong"
          ],
          [
           "Euphonia-laniirostris-45661.wav",
           "EdZamora"
          ],
          [
           "Euphonia-mesochrysa-468090.wav",
           "EdZamora"
          ],
          [
           "Psarocolius-angustifrons-27823.wav",
           "kkong"
          ],
          [
           "Psarocolius-atrovirens-97799.wav",
           "kkong"
          ],
          [
           "Saltator-grossus-151795.wav",
           "kkong"
          ],
          [
           "Saltator-grossus-259800.wav",
           "EdZamora"
          ],
          [
           "Saltator-maximus-450251.wav",
           "EdZamora"
          ],
          [
           "Schiffornis-major-229321.wav",
           "EdZamora"
          ],
          [
           "Tangara-mexicana-297052.wav",
           "kkong"
          ],
          [
           "Tangara-nigroviridis-261185.wav",
           "kkong"
          ],
          [
           "Tangara-schrankii-150598.wav",
           "kkong"
          ],
          [
           "Tangara-velia-9654.wav",
           "kkong"
          ]
         ],
         "legendgroup": "third",
         "marker": {
          "color": "#00cc96",
          "symbol": "circle"
         },
         "mode": "markers",
         "name": "third",
         "scene": "scene",
         "showlegend": true,
         "type": "scatter3d",
         "x": [
          -6.623138427734375,
          14.856796264648438,
          -1.9230395555496216,
          -2.219666004180908,
          -51.7742919921875,
          11.49375057220459,
          2.0100953578948975,
          -24.2719669342041,
          -26.166168212890625,
          19.75100326538086,
          -11.697528839111328,
          -6.225386142730713,
          -31.307178497314453
         ],
         "y": [
          -13.60082721710205,
          -31.604530334472656,
          8.052957534790039,
          6.523315906524658,
          -10.370966911315918,
          27.488855361938477,
          -37.88610076904297,
          -26.974092483520508,
          9.475689888000488,
          -10.21867561340332,
          38.005699157714844,
          -13.460752487182617,
          -7.992928504943848
         ],
         "z": [
          11.054680824279785,
          21.588289260864258,
          26.414648056030273,
          -1.4863694906234741,
          21.012413024902344,
          36.307090759277344,
          42.96409225463867,
          22.046506881713867,
          20.096696853637695,
          41.415992736816406,
          68.74519348144531,
          38.746437072753906,
          40.36278533935547
         ]
        },
        {
         "hovertemplate": "<b>%{hovertext}</b><br><br>Cluster=second<br>TSNE1=%{x}<br>TSNE2=%{y}<br>TSNE3=%{z}<extra></extra>",
         "hovertext": [
          [
           "Euphonia-rufiventris-65575.wav",
           "kkong"
          ],
          [
           "Psarocolius-angustifrons-45659.wav",
           "kkong"
          ],
          [
           "Psarocolius-atrovirens-228641.wav",
           "kkong"
          ],
          [
           "Psarocolius-bifasciatus-38449.wav",
           "kkong"
          ],
          [
           "Saltator-coerulescens-188095.wav",
           "EdZamora"
          ],
          [
           "Saltator-maximus-214117.wav",
           "EdZamora"
          ],
          [
           "Schiffornis-aenea-542811.wav",
           "EdZamora"
          ],
          [
           "Schiffornis-aenea-542813.wav",
           "EdZamora"
          ],
          [
           "Schiffornis-aenea-542814.wav",
           "EdZamora"
          ],
          [
           "Tangara-nigroviridis-261182.wav",
           "kkong"
          ],
          [
           "Tangara-xanthocephala-45830.wav",
           "kkong"
          ]
         ],
         "legendgroup": "second",
         "marker": {
          "color": "#ab63fa",
          "symbol": "circle"
         },
         "mode": "markers",
         "name": "second",
         "scene": "scene",
         "showlegend": true,
         "type": "scatter3d",
         "x": [
          38.007083892822266,
          30.151954650878906,
          47.12009048461914,
          76.3480224609375,
          25.789276123046875,
          41.790218353271484,
          19.88578987121582,
          49.078468322753906,
          14.10029125213623,
          38.195194244384766,
          49.80267333984375
         ],
         "y": [
          -39.208953857421875,
          21.980419158935547,
          -6.097376823425293,
          41.078956604003906,
          1.004015564918518,
          -16.872220993041992,
          1.6264728307724,
          34.26085662841797,
          -17.2440242767334,
          -16.263179779052734,
          5.672787189483643
         ],
         "z": [
          20.20997428894043,
          10.506012916564941,
          31.18149757385254,
          -12.237506866455078,
          -9.56224250793457,
          -19.906173706054688,
          16.918575286865234,
          4.731238842010498,
          0.03489184007048607,
          10.395631790161133,
          -0.5779781341552734
         ]
        },
        {
         "hovertemplate": "<b>%{hovertext}</b><br><br>Cluster=fourth<br>TSNE1=%{x}<br>TSNE2=%{y}<br>TSNE3=%{z}<extra></extra>",
         "hovertext": [
          [
           "Saltator-coerulescens-270937.wav",
           "EdZamora"
          ]
         ],
         "legendgroup": "fourth",
         "marker": {
          "color": "#FFA15A",
          "symbol": "circle"
         },
         "mode": "markers",
         "name": "fourth",
         "scene": "scene",
         "showlegend": true,
         "type": "scatter3d",
         "x": [
          7.689764022827148
         ],
         "y": [
          -15.858853340148926
         ],
         "z": [
          -151.0664825439453
         ]
        },
        {
         "color": "lightblue",
         "opacity": 0.5,
         "type": "mesh3d",
         "x": [
          -7.414074897766113,
          -35.30792236328125,
          -8.2302885055542,
          9.58139419555664,
          59.017578125,
          -22.22271728515625,
          -31.89739990234375,
          12.82064151763916,
          -10.180442810058594,
          26.318979263305664
         ],
         "y": [
          27.425514221191406,
          33.19034194946289,
          56.6547966003418,
          44.58012390136719,
          115.27791595458984,
          16.991756439208984,
          61.31669235229492,
          23.464736938476562,
          34.15973663330078,
          41.64128875732422
         ],
         "z": [
          8.707233428955078,
          4.4113874435424805,
          -11.373225212097168,
          9.519279479980469,
          22.57362174987793,
          -12.805228233337402,
          -37.145042419433594,
          -13.644079208374023,
          -25.950603485107422,
          -18.352670669555664
         ]
        },
        {
         "color": "lightblue",
         "opacity": 0.5,
         "type": "mesh3d",
         "x": [
          38.007083892822266,
          30.151954650878906,
          47.12009048461914,
          76.3480224609375,
          25.789276123046875,
          41.790218353271484,
          19.88578987121582,
          49.078468322753906,
          14.10029125213623,
          38.195194244384766,
          49.80267333984375
         ],
         "y": [
          -39.208953857421875,
          21.980419158935547,
          -6.097376823425293,
          41.078956604003906,
          1.004015564918518,
          -16.872220993041992,
          1.6264728307724,
          34.26085662841797,
          -17.2440242767334,
          -16.263179779052734,
          5.672787189483643
         ],
         "z": [
          20.20997428894043,
          10.506012916564941,
          31.18149757385254,
          -12.237506866455078,
          -9.56224250793457,
          -19.906173706054688,
          16.918575286865234,
          4.731238842010498,
          0.03489184007048607,
          10.395631790161133,
          -0.5779781341552734
         ]
        },
        {
         "color": "lightblue",
         "opacity": 0.5,
         "type": "mesh3d",
         "x": [
          -6.623138427734375,
          14.856796264648438,
          -1.9230395555496216,
          -2.219666004180908,
          -51.7742919921875,
          11.49375057220459,
          2.0100953578948975,
          -24.2719669342041,
          -26.166168212890625,
          19.75100326538086,
          -11.697528839111328,
          -6.225386142730713,
          -31.307178497314453
         ],
         "y": [
          -13.60082721710205,
          -31.604530334472656,
          8.052957534790039,
          6.523315906524658,
          -10.370966911315918,
          27.488855361938477,
          -37.88610076904297,
          -26.974092483520508,
          9.475689888000488,
          -10.21867561340332,
          38.005699157714844,
          -13.460752487182617,
          -7.992928504943848
         ],
         "z": [
          11.054680824279785,
          21.588289260864258,
          26.414648056030273,
          -1.4863694906234741,
          21.012413024902344,
          36.307090759277344,
          42.96409225463867,
          22.046506881713867,
          20.096696853637695,
          41.415992736816406,
          68.74519348144531,
          38.746437072753906,
          40.36278533935547
         ]
        },
        {
         "color": "lightblue",
         "opacity": 0.5,
         "type": "mesh3d",
         "x": [
          7.689764022827148
         ],
         "y": [
          -15.858853340148926
         ],
         "z": [
          -151.0664825439453
         ]
        },
        {
         "color": "lightblue",
         "opacity": 0.5,
         "type": "mesh3d",
         "x": [
          -2.4300692081451416,
          -14.617944717407227,
          -29.771717071533203,
          -9.427572250366211,
          -15.6397705078125,
          -49.683685302734375,
          -28.386463165283203,
          11.24240493774414,
          20.362335205078125,
          0.8662118315696716,
          -27.325376510620117,
          -51.263282775878906,
          -2.9138944149017334,
          7.76325798034668
         ],
         "y": [
          -54.318878173828125,
          -31.415937423706055,
          -4.663213729858398,
          -4.38798189163208,
          -8.955326080322266,
          -18.816946029663086,
          10.67691421508789,
          -19.214271545410156,
          -32.30303192138672,
          -50.75648498535156,
          -34.91545867919922,
          -51.928504943847656,
          -32.462745666503906,
          2.1142873764038086
         ],
         "z": [
          -20.997787475585938,
          -33.2240104675293,
          -4.026187419891357,
          -50.64543151855469,
          -23.94578742980957,
          -2.9728386402130127,
          -36.188682556152344,
          -42.013832092285156,
          -20.002845764160156,
          11.771060943603516,
          -2.4079673290252686,
          -28.728012084960938,
          -7.3012285232543945,
          -27.462329864501953
         ]
        }
       ],
       "layout": {
        "legend": {
         "title": {
          "text": "Cluster"
         },
         "tracegroupgap": 0
        },
        "margin": {
         "t": 60
        },
        "scene": {
         "domain": {
          "x": [
           0,
           1
          ],
          "y": [
           0,
           1
          ]
         },
         "xaxis": {
          "title": {
           "text": "TSNE1"
          }
         },
         "yaxis": {
          "title": {
           "text": "TSNE2"
          }
         },
         "zaxis": {
          "title": {
           "text": "TSNE3"
          }
         }
        },
        "template": {
         "data": {
          "bar": [
           {
            "error_x": {
             "color": "#2a3f5f"
            },
            "error_y": {
             "color": "#2a3f5f"
            },
            "marker": {
             "line": {
              "color": "#E5ECF6",
              "width": 0.5
             },
             "pattern": {
              "fillmode": "overlay",
              "size": 10,
              "solidity": 0.2
             }
            },
            "type": "bar"
           }
          ],
          "barpolar": [
           {
            "marker": {
             "line": {
              "color": "#E5ECF6",
              "width": 0.5
             },
             "pattern": {
              "fillmode": "overlay",
              "size": 10,
              "solidity": 0.2
             }
            },
            "type": "barpolar"
           }
          ],
          "carpet": [
           {
            "aaxis": {
             "endlinecolor": "#2a3f5f",
             "gridcolor": "white",
             "linecolor": "white",
             "minorgridcolor": "white",
             "startlinecolor": "#2a3f5f"
            },
            "baxis": {
             "endlinecolor": "#2a3f5f",
             "gridcolor": "white",
             "linecolor": "white",
             "minorgridcolor": "white",
             "startlinecolor": "#2a3f5f"
            },
            "type": "carpet"
           }
          ],
          "choropleth": [
           {
            "colorbar": {
             "outlinewidth": 0,
             "ticks": ""
            },
            "type": "choropleth"
           }
          ],
          "contour": [
           {
            "colorbar": {
             "outlinewidth": 0,
             "ticks": ""
            },
            "colorscale": [
             [
              0,
              "#0d0887"
             ],
             [
              0.1111111111111111,
              "#46039f"
             ],
             [
              0.2222222222222222,
              "#7201a8"
             ],
             [
              0.3333333333333333,
              "#9c179e"
             ],
             [
              0.4444444444444444,
              "#bd3786"
             ],
             [
              0.5555555555555556,
              "#d8576b"
             ],
             [
              0.6666666666666666,
              "#ed7953"
             ],
             [
              0.7777777777777778,
              "#fb9f3a"
             ],
             [
              0.8888888888888888,
              "#fdca26"
             ],
             [
              1,
              "#f0f921"
             ]
            ],
            "type": "contour"
           }
          ],
          "contourcarpet": [
           {
            "colorbar": {
             "outlinewidth": 0,
             "ticks": ""
            },
            "type": "contourcarpet"
           }
          ],
          "heatmap": [
           {
            "colorbar": {
             "outlinewidth": 0,
             "ticks": ""
            },
            "colorscale": [
             [
              0,
              "#0d0887"
             ],
             [
              0.1111111111111111,
              "#46039f"
             ],
             [
              0.2222222222222222,
              "#7201a8"
             ],
             [
              0.3333333333333333,
              "#9c179e"
             ],
             [
              0.4444444444444444,
              "#bd3786"
             ],
             [
              0.5555555555555556,
              "#d8576b"
             ],
             [
              0.6666666666666666,
              "#ed7953"
             ],
             [
              0.7777777777777778,
              "#fb9f3a"
             ],
             [
              0.8888888888888888,
              "#fdca26"
             ],
             [
              1,
              "#f0f921"
             ]
            ],
            "type": "heatmap"
           }
          ],
          "heatmapgl": [
           {
            "colorbar": {
             "outlinewidth": 0,
             "ticks": ""
            },
            "colorscale": [
             [
              0,
              "#0d0887"
             ],
             [
              0.1111111111111111,
              "#46039f"
             ],
             [
              0.2222222222222222,
              "#7201a8"
             ],
             [
              0.3333333333333333,
              "#9c179e"
             ],
             [
              0.4444444444444444,
              "#bd3786"
             ],
             [
              0.5555555555555556,
              "#d8576b"
             ],
             [
              0.6666666666666666,
              "#ed7953"
             ],
             [
              0.7777777777777778,
              "#fb9f3a"
             ],
             [
              0.8888888888888888,
              "#fdca26"
             ],
             [
              1,
              "#f0f921"
             ]
            ],
            "type": "heatmapgl"
           }
          ],
          "histogram": [
           {
            "marker": {
             "pattern": {
              "fillmode": "overlay",
              "size": 10,
              "solidity": 0.2
             }
            },
            "type": "histogram"
           }
          ],
          "histogram2d": [
           {
            "colorbar": {
             "outlinewidth": 0,
             "ticks": ""
            },
            "colorscale": [
             [
              0,
              "#0d0887"
             ],
             [
              0.1111111111111111,
              "#46039f"
             ],
             [
              0.2222222222222222,
              "#7201a8"
             ],
             [
              0.3333333333333333,
              "#9c179e"
             ],
             [
              0.4444444444444444,
              "#bd3786"
             ],
             [
              0.5555555555555556,
              "#d8576b"
             ],
             [
              0.6666666666666666,
              "#ed7953"
             ],
             [
              0.7777777777777778,
              "#fb9f3a"
             ],
             [
              0.8888888888888888,
              "#fdca26"
             ],
             [
              1,
              "#f0f921"
             ]
            ],
            "type": "histogram2d"
           }
          ],
          "histogram2dcontour": [
           {
            "colorbar": {
             "outlinewidth": 0,
             "ticks": ""
            },
            "colorscale": [
             [
              0,
              "#0d0887"
             ],
             [
              0.1111111111111111,
              "#46039f"
             ],
             [
              0.2222222222222222,
              "#7201a8"
             ],
             [
              0.3333333333333333,
              "#9c179e"
             ],
             [
              0.4444444444444444,
              "#bd3786"
             ],
             [
              0.5555555555555556,
              "#d8576b"
             ],
             [
              0.6666666666666666,
              "#ed7953"
             ],
             [
              0.7777777777777778,
              "#fb9f3a"
             ],
             [
              0.8888888888888888,
              "#fdca26"
             ],
             [
              1,
              "#f0f921"
             ]
            ],
            "type": "histogram2dcontour"
           }
          ],
          "mesh3d": [
           {
            "colorbar": {
             "outlinewidth": 0,
             "ticks": ""
            },
            "type": "mesh3d"
           }
          ],
          "parcoords": [
           {
            "line": {
             "colorbar": {
              "outlinewidth": 0,
              "ticks": ""
             }
            },
            "type": "parcoords"
           }
          ],
          "pie": [
           {
            "automargin": true,
            "type": "pie"
           }
          ],
          "scatter": [
           {
            "marker": {
             "colorbar": {
              "outlinewidth": 0,
              "ticks": ""
             }
            },
            "type": "scatter"
           }
          ],
          "scatter3d": [
           {
            "line": {
             "colorbar": {
              "outlinewidth": 0,
              "ticks": ""
             }
            },
            "marker": {
             "colorbar": {
              "outlinewidth": 0,
              "ticks": ""
             }
            },
            "type": "scatter3d"
           }
          ],
          "scattercarpet": [
           {
            "marker": {
             "colorbar": {
              "outlinewidth": 0,
              "ticks": ""
             }
            },
            "type": "scattercarpet"
           }
          ],
          "scattergeo": [
           {
            "marker": {
             "colorbar": {
              "outlinewidth": 0,
              "ticks": ""
             }
            },
            "type": "scattergeo"
           }
          ],
          "scattergl": [
           {
            "marker": {
             "colorbar": {
              "outlinewidth": 0,
              "ticks": ""
             }
            },
            "type": "scattergl"
           }
          ],
          "scattermapbox": [
           {
            "marker": {
             "colorbar": {
              "outlinewidth": 0,
              "ticks": ""
             }
            },
            "type": "scattermapbox"
           }
          ],
          "scatterpolar": [
           {
            "marker": {
             "colorbar": {
              "outlinewidth": 0,
              "ticks": ""
             }
            },
            "type": "scatterpolar"
           }
          ],
          "scatterpolargl": [
           {
            "marker": {
             "colorbar": {
              "outlinewidth": 0,
              "ticks": ""
             }
            },
            "type": "scatterpolargl"
           }
          ],
          "scatterternary": [
           {
            "marker": {
             "colorbar": {
              "outlinewidth": 0,
              "ticks": ""
             }
            },
            "type": "scatterternary"
           }
          ],
          "surface": [
           {
            "colorbar": {
             "outlinewidth": 0,
             "ticks": ""
            },
            "colorscale": [
             [
              0,
              "#0d0887"
             ],
             [
              0.1111111111111111,
              "#46039f"
             ],
             [
              0.2222222222222222,
              "#7201a8"
             ],
             [
              0.3333333333333333,
              "#9c179e"
             ],
             [
              0.4444444444444444,
              "#bd3786"
             ],
             [
              0.5555555555555556,
              "#d8576b"
             ],
             [
              0.6666666666666666,
              "#ed7953"
             ],
             [
              0.7777777777777778,
              "#fb9f3a"
             ],
             [
              0.8888888888888888,
              "#fdca26"
             ],
             [
              1,
              "#f0f921"
             ]
            ],
            "type": "surface"
           }
          ],
          "table": [
           {
            "cells": {
             "fill": {
              "color": "#EBF0F8"
             },
             "line": {
              "color": "white"
             }
            },
            "header": {
             "fill": {
              "color": "#C8D4E3"
             },
             "line": {
              "color": "white"
             }
            },
            "type": "table"
           }
          ]
         },
         "layout": {
          "annotationdefaults": {
           "arrowcolor": "#2a3f5f",
           "arrowhead": 0,
           "arrowwidth": 1
          },
          "autotypenumbers": "strict",
          "coloraxis": {
           "colorbar": {
            "outlinewidth": 0,
            "ticks": ""
           }
          },
          "colorscale": {
           "diverging": [
            [
             0,
             "#8e0152"
            ],
            [
             0.1,
             "#c51b7d"
            ],
            [
             0.2,
             "#de77ae"
            ],
            [
             0.3,
             "#f1b6da"
            ],
            [
             0.4,
             "#fde0ef"
            ],
            [
             0.5,
             "#f7f7f7"
            ],
            [
             0.6,
             "#e6f5d0"
            ],
            [
             0.7,
             "#b8e186"
            ],
            [
             0.8,
             "#7fbc41"
            ],
            [
             0.9,
             "#4d9221"
            ],
            [
             1,
             "#276419"
            ]
           ],
           "sequential": [
            [
             0,
             "#0d0887"
            ],
            [
             0.1111111111111111,
             "#46039f"
            ],
            [
             0.2222222222222222,
             "#7201a8"
            ],
            [
             0.3333333333333333,
             "#9c179e"
            ],
            [
             0.4444444444444444,
             "#bd3786"
            ],
            [
             0.5555555555555556,
             "#d8576b"
            ],
            [
             0.6666666666666666,
             "#ed7953"
            ],
            [
             0.7777777777777778,
             "#fb9f3a"
            ],
            [
             0.8888888888888888,
             "#fdca26"
            ],
            [
             1,
             "#f0f921"
            ]
           ],
           "sequentialminus": [
            [
             0,
             "#0d0887"
            ],
            [
             0.1111111111111111,
             "#46039f"
            ],
            [
             0.2222222222222222,
             "#7201a8"
            ],
            [
             0.3333333333333333,
             "#9c179e"
            ],
            [
             0.4444444444444444,
             "#bd3786"
            ],
            [
             0.5555555555555556,
             "#d8576b"
            ],
            [
             0.6666666666666666,
             "#ed7953"
            ],
            [
             0.7777777777777778,
             "#fb9f3a"
            ],
            [
             0.8888888888888888,
             "#fdca26"
            ],
            [
             1,
             "#f0f921"
            ]
           ]
          },
          "colorway": [
           "#636efa",
           "#EF553B",
           "#00cc96",
           "#ab63fa",
           "#FFA15A",
           "#19d3f3",
           "#FF6692",
           "#B6E880",
           "#FF97FF",
           "#FECB52"
          ],
          "font": {
           "color": "#2a3f5f"
          },
          "geo": {
           "bgcolor": "white",
           "lakecolor": "white",
           "landcolor": "#E5ECF6",
           "showlakes": true,
           "showland": true,
           "subunitcolor": "white"
          },
          "hoverlabel": {
           "align": "left"
          },
          "hovermode": "closest",
          "mapbox": {
           "style": "light"
          },
          "paper_bgcolor": "white",
          "plot_bgcolor": "#E5ECF6",
          "polar": {
           "angularaxis": {
            "gridcolor": "white",
            "linecolor": "white",
            "ticks": ""
           },
           "bgcolor": "#E5ECF6",
           "radialaxis": {
            "gridcolor": "white",
            "linecolor": "white",
            "ticks": ""
           }
          },
          "scene": {
           "xaxis": {
            "backgroundcolor": "#E5ECF6",
            "gridcolor": "white",
            "gridwidth": 2,
            "linecolor": "white",
            "showbackground": true,
            "ticks": "",
            "zerolinecolor": "white"
           },
           "yaxis": {
            "backgroundcolor": "#E5ECF6",
            "gridcolor": "white",
            "gridwidth": 2,
            "linecolor": "white",
            "showbackground": true,
            "ticks": "",
            "zerolinecolor": "white"
           },
           "zaxis": {
            "backgroundcolor": "#E5ECF6",
            "gridcolor": "white",
            "gridwidth": 2,
            "linecolor": "white",
            "showbackground": true,
            "ticks": "",
            "zerolinecolor": "white"
           }
          },
          "shapedefaults": {
           "line": {
            "color": "#2a3f5f"
           }
          },
          "ternary": {
           "aaxis": {
            "gridcolor": "white",
            "linecolor": "white",
            "ticks": ""
           },
           "baxis": {
            "gridcolor": "white",
            "linecolor": "white",
            "ticks": ""
           },
           "bgcolor": "#E5ECF6",
           "caxis": {
            "gridcolor": "white",
            "linecolor": "white",
            "ticks": ""
           }
          },
          "title": {
           "x": 0.05
          },
          "xaxis": {
           "automargin": true,
           "gridcolor": "white",
           "linecolor": "white",
           "ticks": "",
           "title": {
            "standoff": 15
           },
           "zerolinecolor": "white",
           "zerolinewidth": 2
          },
          "yaxis": {
           "automargin": true,
           "gridcolor": "white",
           "linecolor": "white",
           "ticks": "",
           "title": {
            "standoff": 15
           },
           "zerolinecolor": "white",
           "zerolinewidth": 2
          }
         }
        },
        "title": {
         "text": "EdZamora & kkong Annotations",
         "x": 0.5
        }
       }
      }
     },
     "metadata": {},
     "output_type": "display_data"
    }
   ],
   "source": [
    "import plotly.express as px \n",
    "import plotly.graph_objects as go\n",
    "import numpy as np\n",
    "\n",
    "\n",
    "fig = px.scatter_3d(df_segm_iqr_kmeans, \n",
    "                    x='TSNE1',\n",
    "                    y='TSNE2',\n",
    "                    z='TSNE3' , \n",
    "                    color = df_segm_iqr_kmeans['Cluster'],\n",
    "                    hover_name = list(tuple(zip(df_segm_iqr_kmeans['IN FILE'],df_segm_iqr_kmeans['LAST MOD BY'])))) \n",
    "\n",
    "\n",
    "#color = Y, color_discrete_sequence= px.colors.qualitative.G10)\n",
    "\n",
    "\n",
    "clust_1 = df_segm_iqr_kmeans[df_segm_iqr_kmeans['Cluster'] == 'first']\n",
    "x, y, z = clust_1['TSNE1'], clust_1['TSNE2'], clust_1['TSNE3']\n",
    "fig.add_trace(go.Figure(data=[go.Mesh3d(x=x, y=y, z=z, color='lightblue', opacity=0.50)]).data[0])\n",
    "\n",
    "\n",
    "clust_2 = df_segm_iqr_kmeans[df_segm_iqr_kmeans['Cluster'] == 'second']\n",
    "x2, y2, z2 = clust_2['TSNE1'], clust_2['TSNE2'], clust_2['TSNE3']\n",
    "fig.add_trace(go.Figure(data=[go.Mesh3d(x=x2, y=y2, z=z2, color='lightblue', opacity=0.50)]).data[0])\n",
    "\n",
    "\n",
    "clust_3 = df_segm_iqr_kmeans[df_segm_iqr_kmeans['Cluster'] == 'third']\n",
    "x3, y3, z3 = clust_3['TSNE1'], clust_3['TSNE2'], clust_3['TSNE3']\n",
    "fig.add_trace(go.Figure(data=[go.Mesh3d(x=x3, y=y3, z=z3, color='lightblue', opacity=0.50)]).data[0])\n",
    "\n",
    "\n",
    "clust_4 = df_segm_iqr_kmeans[df_segm_iqr_kmeans['Cluster'] == 'fourth']\n",
    "x4, y4, z4 = clust_4['TSNE1'], clust_4['TSNE2'], clust_4['TSNE3']\n",
    "fig.add_trace(go.Figure(data=[go.Mesh3d(x=x4, y=y4, z=z4, color='lightblue', opacity=0.50)]).data[0])\n",
    "\n",
    "\n",
    "clust_5 = df_segm_iqr_kmeans[df_segm_iqr_kmeans['Cluster'] == 'fifth']\n",
    "x5, y5, z5 = clust_5['TSNE1'], clust_5['TSNE2'], clust_5['TSNE3']\n",
    "fig.add_trace(go.Figure(data=[go.Mesh3d(x=x5, y=y5, z=z5, color='lightblue', opacity=0.50)]).data[0])\n",
    "\n",
    "\n",
    "fig.update_layout(title_text= (' & '.join(df_segm_iqr_kmeans['LAST MOD BY'].unique()) + ' Annotations'), title_x=0.5)\n",
    "fig.show()"
   ]
  },
  {
   "cell_type": "code",
   "execution_count": 16,
   "metadata": {},
   "outputs": [
    {
     "data": {
      "text/html": [
       "<div>\n",
       "<style scoped>\n",
       "    .dataframe tbody tr th:only-of-type {\n",
       "        vertical-align: middle;\n",
       "    }\n",
       "\n",
       "    .dataframe tbody tr th {\n",
       "        vertical-align: top;\n",
       "    }\n",
       "\n",
       "    .dataframe thead th {\n",
       "        text-align: right;\n",
       "    }\n",
       "</style>\n",
       "<table border=\"1\" class=\"dataframe\">\n",
       "  <thead>\n",
       "    <tr style=\"text-align: right;\">\n",
       "      <th></th>\n",
       "      <th>IN FILE</th>\n",
       "      <th>CLIP LENGTH</th>\n",
       "      <th>OFFSET</th>\n",
       "      <th>DURATION</th>\n",
       "      <th>MAX FREQ</th>\n",
       "      <th>MIN FREQ</th>\n",
       "      <th>SAMPLE RATE</th>\n",
       "      <th>MANUAL ID</th>\n",
       "      <th>TIME_SPENT</th>\n",
       "      <th>LAST MOD BY</th>\n",
       "      <th>LAST MOD DATE</th>\n",
       "      <th>LAST MOD TIME</th>\n",
       "    </tr>\n",
       "  </thead>\n",
       "  <tbody>\n",
       "    <tr>\n",
       "      <th>10032</th>\n",
       "      <td>Euphonia-chlorotica-264822.wav</td>\n",
       "      <td>27.742</td>\n",
       "      <td>0.8974</td>\n",
       "      <td>0.5000</td>\n",
       "      <td>24000</td>\n",
       "      <td>0</td>\n",
       "      <td>44100</td>\n",
       "      <td>Euphonia chlorotica Purple-throated Euphonia</td>\n",
       "      <td>84.003</td>\n",
       "      <td>EdZamora</td>\n",
       "      <td>11/21/2021</td>\n",
       "      <td>15:28:43</td>\n",
       "    </tr>\n",
       "    <tr>\n",
       "      <th>10033</th>\n",
       "      <td>Euphonia-chlorotica-264822.wav</td>\n",
       "      <td>27.742</td>\n",
       "      <td>1.7304</td>\n",
       "      <td>0.5601</td>\n",
       "      <td>24000</td>\n",
       "      <td>0</td>\n",
       "      <td>44100</td>\n",
       "      <td>Euphonia chlorotica Purple-throated Euphonia</td>\n",
       "      <td>84.008</td>\n",
       "      <td>EdZamora</td>\n",
       "      <td>11/21/2021</td>\n",
       "      <td>15:28:43</td>\n",
       "    </tr>\n",
       "    <tr>\n",
       "      <th>10034</th>\n",
       "      <td>Euphonia-chlorotica-264822.wav</td>\n",
       "      <td>27.742</td>\n",
       "      <td>2.1405</td>\n",
       "      <td>0.4100</td>\n",
       "      <td>24000</td>\n",
       "      <td>0</td>\n",
       "      <td>44100</td>\n",
       "      <td>Euphonia chlorotica Purple-throated Euphonia</td>\n",
       "      <td>84.009</td>\n",
       "      <td>EdZamora</td>\n",
       "      <td>11/21/2021</td>\n",
       "      <td>15:28:43</td>\n",
       "    </tr>\n",
       "    <tr>\n",
       "      <th>10035</th>\n",
       "      <td>Euphonia-chlorotica-264822.wav</td>\n",
       "      <td>27.742</td>\n",
       "      <td>4.8907</td>\n",
       "      <td>0.5700</td>\n",
       "      <td>24000</td>\n",
       "      <td>0</td>\n",
       "      <td>44100</td>\n",
       "      <td>Euphonia chlorotica Purple-throated Euphonia</td>\n",
       "      <td>84.011</td>\n",
       "      <td>EdZamora</td>\n",
       "      <td>11/21/2021</td>\n",
       "      <td>15:28:43</td>\n",
       "    </tr>\n",
       "    <tr>\n",
       "      <th>10036</th>\n",
       "      <td>Euphonia-chlorotica-264822.wav</td>\n",
       "      <td>27.742</td>\n",
       "      <td>5.4707</td>\n",
       "      <td>0.6001</td>\n",
       "      <td>24000</td>\n",
       "      <td>0</td>\n",
       "      <td>44100</td>\n",
       "      <td>Euphonia chlorotica Purple-throated Euphonia</td>\n",
       "      <td>84.011</td>\n",
       "      <td>EdZamora</td>\n",
       "      <td>11/21/2021</td>\n",
       "      <td>15:28:43</td>\n",
       "    </tr>\n",
       "    <tr>\n",
       "      <th>...</th>\n",
       "      <td>...</td>\n",
       "      <td>...</td>\n",
       "      <td>...</td>\n",
       "      <td>...</td>\n",
       "      <td>...</td>\n",
       "      <td>...</td>\n",
       "      <td>...</td>\n",
       "      <td>...</td>\n",
       "      <td>...</td>\n",
       "      <td>...</td>\n",
       "      <td>...</td>\n",
       "      <td>...</td>\n",
       "    </tr>\n",
       "    <tr>\n",
       "      <th>27184</th>\n",
       "      <td>Tangara-xanthocephala-45830.wav</td>\n",
       "      <td>23.400</td>\n",
       "      <td>13.9866</td>\n",
       "      <td>0.5300</td>\n",
       "      <td>24000</td>\n",
       "      <td>0</td>\n",
       "      <td>48000</td>\n",
       "      <td>Tangara xanthocephala Saffron-crowned Tanager</td>\n",
       "      <td>28.786</td>\n",
       "      <td>kkong</td>\n",
       "      <td>11/19/2021</td>\n",
       "      <td>04:19:18</td>\n",
       "    </tr>\n",
       "    <tr>\n",
       "      <th>27185</th>\n",
       "      <td>Tangara-xanthocephala-45830.wav</td>\n",
       "      <td>23.400</td>\n",
       "      <td>15.8166</td>\n",
       "      <td>0.7500</td>\n",
       "      <td>24000</td>\n",
       "      <td>0</td>\n",
       "      <td>48000</td>\n",
       "      <td>Tangara xanthocephala Saffron-crowned Tanager</td>\n",
       "      <td>28.788</td>\n",
       "      <td>kkong</td>\n",
       "      <td>11/19/2021</td>\n",
       "      <td>04:19:18</td>\n",
       "    </tr>\n",
       "    <tr>\n",
       "      <th>27186</th>\n",
       "      <td>Tangara-xanthocephala-45830.wav</td>\n",
       "      <td>23.400</td>\n",
       "      <td>18.4066</td>\n",
       "      <td>0.7200</td>\n",
       "      <td>24000</td>\n",
       "      <td>0</td>\n",
       "      <td>48000</td>\n",
       "      <td>Tangara xanthocephala Saffron-crowned Tanager</td>\n",
       "      <td>28.791</td>\n",
       "      <td>kkong</td>\n",
       "      <td>11/19/2021</td>\n",
       "      <td>04:19:18</td>\n",
       "    </tr>\n",
       "    <tr>\n",
       "      <th>27187</th>\n",
       "      <td>Tangara-xanthocephala-45830.wav</td>\n",
       "      <td>23.400</td>\n",
       "      <td>20.4766</td>\n",
       "      <td>0.4900</td>\n",
       "      <td>24000</td>\n",
       "      <td>0</td>\n",
       "      <td>48000</td>\n",
       "      <td>Tangara xanthocephala Saffron-crowned Tanager</td>\n",
       "      <td>28.794</td>\n",
       "      <td>kkong</td>\n",
       "      <td>11/19/2021</td>\n",
       "      <td>04:19:18</td>\n",
       "    </tr>\n",
       "    <tr>\n",
       "      <th>27188</th>\n",
       "      <td>Tangara-xanthocephala-45830.wav</td>\n",
       "      <td>23.400</td>\n",
       "      <td>22.7166</td>\n",
       "      <td>0.5300</td>\n",
       "      <td>24000</td>\n",
       "      <td>0</td>\n",
       "      <td>48000</td>\n",
       "      <td>Tangara xanthocephala Saffron-crowned Tanager</td>\n",
       "      <td>28.795</td>\n",
       "      <td>kkong</td>\n",
       "      <td>11/19/2021</td>\n",
       "      <td>04:19:18</td>\n",
       "    </tr>\n",
       "  </tbody>\n",
       "</table>\n",
       "<p>627 rows × 12 columns</p>\n",
       "</div>"
      ],
      "text/plain": [
       "                               IN FILE  CLIP LENGTH   OFFSET  DURATION  \\\n",
       "10032   Euphonia-chlorotica-264822.wav       27.742   0.8974    0.5000   \n",
       "10033   Euphonia-chlorotica-264822.wav       27.742   1.7304    0.5601   \n",
       "10034   Euphonia-chlorotica-264822.wav       27.742   2.1405    0.4100   \n",
       "10035   Euphonia-chlorotica-264822.wav       27.742   4.8907    0.5700   \n",
       "10036   Euphonia-chlorotica-264822.wav       27.742   5.4707    0.6001   \n",
       "...                                ...          ...      ...       ...   \n",
       "27184  Tangara-xanthocephala-45830.wav       23.400  13.9866    0.5300   \n",
       "27185  Tangara-xanthocephala-45830.wav       23.400  15.8166    0.7500   \n",
       "27186  Tangara-xanthocephala-45830.wav       23.400  18.4066    0.7200   \n",
       "27187  Tangara-xanthocephala-45830.wav       23.400  20.4766    0.4900   \n",
       "27188  Tangara-xanthocephala-45830.wav       23.400  22.7166    0.5300   \n",
       "\n",
       "       MAX FREQ  MIN FREQ  SAMPLE RATE  \\\n",
       "10032     24000         0        44100   \n",
       "10033     24000         0        44100   \n",
       "10034     24000         0        44100   \n",
       "10035     24000         0        44100   \n",
       "10036     24000         0        44100   \n",
       "...         ...       ...          ...   \n",
       "27184     24000         0        48000   \n",
       "27185     24000         0        48000   \n",
       "27186     24000         0        48000   \n",
       "27187     24000         0        48000   \n",
       "27188     24000         0        48000   \n",
       "\n",
       "                                           MANUAL ID  TIME_SPENT LAST MOD BY  \\\n",
       "10032   Euphonia chlorotica Purple-throated Euphonia      84.003    EdZamora   \n",
       "10033   Euphonia chlorotica Purple-throated Euphonia      84.008    EdZamora   \n",
       "10034   Euphonia chlorotica Purple-throated Euphonia      84.009    EdZamora   \n",
       "10035   Euphonia chlorotica Purple-throated Euphonia      84.011    EdZamora   \n",
       "10036   Euphonia chlorotica Purple-throated Euphonia      84.011    EdZamora   \n",
       "...                                              ...         ...         ...   \n",
       "27184  Tangara xanthocephala Saffron-crowned Tanager      28.786       kkong   \n",
       "27185  Tangara xanthocephala Saffron-crowned Tanager      28.788       kkong   \n",
       "27186  Tangara xanthocephala Saffron-crowned Tanager      28.791       kkong   \n",
       "27187  Tangara xanthocephala Saffron-crowned Tanager      28.794       kkong   \n",
       "27188  Tangara xanthocephala Saffron-crowned Tanager      28.795       kkong   \n",
       "\n",
       "      LAST MOD DATE LAST MOD TIME  \n",
       "10032    11/21/2021      15:28:43  \n",
       "10033    11/21/2021      15:28:43  \n",
       "10034    11/21/2021      15:28:43  \n",
       "10035    11/21/2021      15:28:43  \n",
       "10036    11/21/2021      15:28:43  \n",
       "...             ...           ...  \n",
       "27184    11/19/2021      04:19:18  \n",
       "27185    11/19/2021      04:19:18  \n",
       "27186    11/19/2021      04:19:18  \n",
       "27187    11/19/2021      04:19:18  \n",
       "27188    11/19/2021      04:19:18  \n",
       "\n",
       "[627 rows x 12 columns]"
      ]
     },
     "execution_count": 16,
     "metadata": {},
     "output_type": "execute_result"
    }
   ],
   "source": [
    "kaleidoscope_format = pd.read_csv('for_data_science_newline_fixed.csv')\n",
    "for_kaleidoscope = kaleidoscope_format[kaleidoscope_format['IN FILE'].isin(df_segm_iqr_kmeans['IN FILE'].to_list())] \n",
    "for_kaleidoscope"
   ]
  }
 ],
 "metadata": {
  "interpreter": {
   "hash": "d1b7c51cb1c07a1a0543a455994ca61e31e66a1747528d0d0492d9b5937ed4ce"
  },
  "kernelspec": {
   "display_name": "Python 3.8.12 ('tweety')",
   "language": "python",
   "name": "python3"
  },
  "language_info": {
   "codemirror_mode": {
    "name": "ipython",
    "version": 3
   },
   "file_extension": ".py",
   "mimetype": "text/x-python",
   "name": "python",
   "nbconvert_exporter": "python",
   "pygments_lexer": "ipython3",
   "version": "3.8.12"
  },
  "orig_nbformat": 4
 },
 "nbformat": 4,
 "nbformat_minor": 2
}
