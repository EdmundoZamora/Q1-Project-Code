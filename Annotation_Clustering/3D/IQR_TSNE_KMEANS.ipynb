{
 "cells": [
  {
   "cell_type": "code",
   "execution_count": 50,
   "metadata": {},
   "outputs": [],
   "source": [
    "import numpy as np\n",
    "import pandas as pd\n",
    "import matplotlib.pyplot as plt\n",
    "import seaborn as sns\n",
    "import random\n",
    "from scipy import stats\n",
    "sns.set()\n",
    "\n",
    "from sklearn.preprocessing import StandardScaler\n",
    "\n",
    "from sklearn.cluster import KMeans\n",
    "from sklearn.decomposition import PCA\n",
    "from sklearn.manifold import TSNE"
   ]
  },
  {
   "cell_type": "code",
   "execution_count": null,
   "metadata": {},
   "outputs": [],
   "source": [
    "#verify implementation of TSNE"
   ]
  },
  {
   "cell_type": "code",
   "execution_count": 51,
   "metadata": {},
   "outputs": [
    {
     "data": {
      "text/html": [
       "<div>\n",
       "<style scoped>\n",
       "    .dataframe tbody tr th:only-of-type {\n",
       "        vertical-align: middle;\n",
       "    }\n",
       "\n",
       "    .dataframe tbody tr th {\n",
       "        vertical-align: top;\n",
       "    }\n",
       "\n",
       "    .dataframe thead th {\n",
       "        text-align: right;\n",
       "    }\n",
       "</style>\n",
       "<table border=\"1\" class=\"dataframe\">\n",
       "  <thead>\n",
       "    <tr style=\"text-align: right;\">\n",
       "      <th></th>\n",
       "      <th>IN FILE</th>\n",
       "      <th>CLIP LENGTH</th>\n",
       "      <th>OFFSET</th>\n",
       "      <th>DURATION</th>\n",
       "      <th>LAST MOD BY</th>\n",
       "    </tr>\n",
       "  </thead>\n",
       "  <tbody>\n",
       "    <tr>\n",
       "      <th>0</th>\n",
       "      <td>Aburria-aburri-257423.wav</td>\n",
       "      <td>24.6335</td>\n",
       "      <td>2.3614</td>\n",
       "      <td>3.3205</td>\n",
       "      <td>alarce</td>\n",
       "    </tr>\n",
       "    <tr>\n",
       "      <th>1</th>\n",
       "      <td>Aburria-aburri-257423.wav</td>\n",
       "      <td>24.6335</td>\n",
       "      <td>6.7320</td>\n",
       "      <td>2.0103</td>\n",
       "      <td>alarce</td>\n",
       "    </tr>\n",
       "    <tr>\n",
       "      <th>2</th>\n",
       "      <td>Aburria-aburri-257423.wav</td>\n",
       "      <td>24.6335</td>\n",
       "      <td>19.2438</td>\n",
       "      <td>3.4505</td>\n",
       "      <td>alarce</td>\n",
       "    </tr>\n",
       "    <tr>\n",
       "      <th>3</th>\n",
       "      <td>Aburria-aburri-387212.wav</td>\n",
       "      <td>84.4800</td>\n",
       "      <td>0.6011</td>\n",
       "      <td>3.0800</td>\n",
       "      <td>alarce</td>\n",
       "    </tr>\n",
       "    <tr>\n",
       "      <th>4</th>\n",
       "      <td>Aburria-aburri-387212.wav</td>\n",
       "      <td>84.4800</td>\n",
       "      <td>77.6811</td>\n",
       "      <td>3.1400</td>\n",
       "      <td>alarce</td>\n",
       "    </tr>\n",
       "  </tbody>\n",
       "</table>\n",
       "</div>"
      ],
      "text/plain": [
       "                     IN FILE  CLIP LENGTH   OFFSET  DURATION LAST MOD BY\n",
       "0  Aburria-aburri-257423.wav      24.6335   2.3614    3.3205      alarce\n",
       "1  Aburria-aburri-257423.wav      24.6335   6.7320    2.0103      alarce\n",
       "2  Aburria-aburri-257423.wav      24.6335  19.2438    3.4505      alarce\n",
       "3  Aburria-aburri-387212.wav      84.4800   0.6011    3.0800      alarce\n",
       "4  Aburria-aburri-387212.wav      84.4800  77.6811    3.1400      alarce"
      ]
     },
     "execution_count": 51,
     "metadata": {},
     "output_type": "execute_result"
    }
   ],
   "source": [
    "frame = pd.read_csv('for_data_science_newline_fixed.csv', usecols = [\"IN FILE\",\"LAST MOD BY\",\"CLIP LENGTH\",\"OFFSET\",\"DURATION\"])\n",
    "frame.head()"
   ]
  },
  {
   "cell_type": "code",
   "execution_count": 52,
   "metadata": {},
   "outputs": [
    {
     "data": {
      "text/html": [
       "<div>\n",
       "<style scoped>\n",
       "    .dataframe tbody tr th:only-of-type {\n",
       "        vertical-align: middle;\n",
       "    }\n",
       "\n",
       "    .dataframe tbody tr th {\n",
       "        vertical-align: top;\n",
       "    }\n",
       "\n",
       "    .dataframe thead th {\n",
       "        text-align: right;\n",
       "    }\n",
       "</style>\n",
       "<table border=\"1\" class=\"dataframe\">\n",
       "  <thead>\n",
       "    <tr style=\"text-align: right;\">\n",
       "      <th></th>\n",
       "      <th>IN FILE</th>\n",
       "      <th>CLIP LENGTH</th>\n",
       "      <th>OFFSET</th>\n",
       "      <th>DURATION</th>\n",
       "      <th>LAST MOD BY</th>\n",
       "      <th>GENUS</th>\n",
       "    </tr>\n",
       "  </thead>\n",
       "  <tbody>\n",
       "    <tr>\n",
       "      <th>0</th>\n",
       "      <td>Aburria-aburri-257423.wav</td>\n",
       "      <td>24.6335</td>\n",
       "      <td>2.3614</td>\n",
       "      <td>3.3205</td>\n",
       "      <td>alarce</td>\n",
       "      <td>Aburria</td>\n",
       "    </tr>\n",
       "    <tr>\n",
       "      <th>1</th>\n",
       "      <td>Aburria-aburri-257423.wav</td>\n",
       "      <td>24.6335</td>\n",
       "      <td>6.7320</td>\n",
       "      <td>2.0103</td>\n",
       "      <td>alarce</td>\n",
       "      <td>Aburria</td>\n",
       "    </tr>\n",
       "    <tr>\n",
       "      <th>2</th>\n",
       "      <td>Aburria-aburri-257423.wav</td>\n",
       "      <td>24.6335</td>\n",
       "      <td>19.2438</td>\n",
       "      <td>3.4505</td>\n",
       "      <td>alarce</td>\n",
       "      <td>Aburria</td>\n",
       "    </tr>\n",
       "    <tr>\n",
       "      <th>3</th>\n",
       "      <td>Aburria-aburri-387212.wav</td>\n",
       "      <td>84.4800</td>\n",
       "      <td>0.6011</td>\n",
       "      <td>3.0800</td>\n",
       "      <td>alarce</td>\n",
       "      <td>Aburria</td>\n",
       "    </tr>\n",
       "    <tr>\n",
       "      <th>4</th>\n",
       "      <td>Aburria-aburri-387212.wav</td>\n",
       "      <td>84.4800</td>\n",
       "      <td>77.6811</td>\n",
       "      <td>3.1400</td>\n",
       "      <td>alarce</td>\n",
       "      <td>Aburria</td>\n",
       "    </tr>\n",
       "  </tbody>\n",
       "</table>\n",
       "</div>"
      ],
      "text/plain": [
       "                     IN FILE  CLIP LENGTH   OFFSET  DURATION LAST MOD BY  \\\n",
       "0  Aburria-aburri-257423.wav      24.6335   2.3614    3.3205      alarce   \n",
       "1  Aburria-aburri-257423.wav      24.6335   6.7320    2.0103      alarce   \n",
       "2  Aburria-aburri-257423.wav      24.6335  19.2438    3.4505      alarce   \n",
       "3  Aburria-aburri-387212.wav      84.4800   0.6011    3.0800      alarce   \n",
       "4  Aburria-aburri-387212.wav      84.4800  77.6811    3.1400      alarce   \n",
       "\n",
       "     GENUS  \n",
       "0  Aburria  \n",
       "1  Aburria  \n",
       "2  Aburria  \n",
       "3  Aburria  \n",
       "4  Aburria  "
      ]
     },
     "execution_count": 52,
     "metadata": {},
     "output_type": "execute_result"
    }
   ],
   "source": [
    "def species(row):\n",
    "    species = row['IN FILE']\n",
    "    spec = species.split('-')\n",
    "    spec_to = '-'.join(spec[:-2])\n",
    "    return spec_to\n",
    "\n",
    "frame['GENUS'] = frame.apply (lambda row: species(row), axis=1)\n",
    "frame.head()"
   ]
  },
  {
   "cell_type": "code",
   "execution_count": 53,
   "metadata": {},
   "outputs": [],
   "source": [
    "LAST_MOD_BY = frame.groupby('IN FILE')[['LAST MOD BY']].max()\n",
    "GENUS = frame.groupby('IN FILE')[['GENUS']].max()"
   ]
  },
  {
   "cell_type": "code",
   "execution_count": 54,
   "metadata": {},
   "outputs": [
    {
     "data": {
      "text/html": [
       "<div>\n",
       "<style scoped>\n",
       "    .dataframe tbody tr th:only-of-type {\n",
       "        vertical-align: middle;\n",
       "    }\n",
       "\n",
       "    .dataframe tbody tr th {\n",
       "        vertical-align: top;\n",
       "    }\n",
       "\n",
       "    .dataframe thead th {\n",
       "        text-align: right;\n",
       "    }\n",
       "</style>\n",
       "<table border=\"1\" class=\"dataframe\">\n",
       "  <thead>\n",
       "    <tr style=\"text-align: right;\">\n",
       "      <th></th>\n",
       "      <th>IN FILE</th>\n",
       "      <th>0.25</th>\n",
       "      <th>0.5</th>\n",
       "      <th>0.75</th>\n",
       "      <th>LAST MOD BY</th>\n",
       "      <th>GENUS</th>\n",
       "    </tr>\n",
       "  </thead>\n",
       "  <tbody>\n",
       "    <tr>\n",
       "      <th>0</th>\n",
       "      <td>Aburria-aburri-257423.wav</td>\n",
       "      <td>2.665400</td>\n",
       "      <td>3.3205</td>\n",
       "      <td>3.3855</td>\n",
       "      <td>alarce</td>\n",
       "      <td>Aburria</td>\n",
       "    </tr>\n",
       "    <tr>\n",
       "      <th>1</th>\n",
       "      <td>Aburria-aburri-387212.wav</td>\n",
       "      <td>3.110000</td>\n",
       "      <td>3.1400</td>\n",
       "      <td>3.1700</td>\n",
       "      <td>alarce</td>\n",
       "      <td>Aburria</td>\n",
       "    </tr>\n",
       "    <tr>\n",
       "      <th>2</th>\n",
       "      <td>Accipiter-bicolor-451839.wav</td>\n",
       "      <td>0.202975</td>\n",
       "      <td>0.2155</td>\n",
       "      <td>0.2215</td>\n",
       "      <td>alarce</td>\n",
       "      <td>Accipiter</td>\n",
       "    </tr>\n",
       "    <tr>\n",
       "      <th>3</th>\n",
       "      <td>Accipiter-collaris-260335.wav</td>\n",
       "      <td>0.895100</td>\n",
       "      <td>1.0301</td>\n",
       "      <td>1.0876</td>\n",
       "      <td>alarce</td>\n",
       "      <td>Accipiter</td>\n",
       "    </tr>\n",
       "    <tr>\n",
       "      <th>4</th>\n",
       "      <td>Accipiter-collaris-260336.wav</td>\n",
       "      <td>0.515075</td>\n",
       "      <td>0.5701</td>\n",
       "      <td>0.6700</td>\n",
       "      <td>alarce</td>\n",
       "      <td>Accipiter</td>\n",
       "    </tr>\n",
       "  </tbody>\n",
       "</table>\n",
       "</div>"
      ],
      "text/plain": [
       "                         IN FILE      0.25     0.5    0.75 LAST MOD BY  \\\n",
       "0      Aburria-aburri-257423.wav  2.665400  3.3205  3.3855      alarce   \n",
       "1      Aburria-aburri-387212.wav  3.110000  3.1400  3.1700      alarce   \n",
       "2   Accipiter-bicolor-451839.wav  0.202975  0.2155  0.2215      alarce   \n",
       "3  Accipiter-collaris-260335.wav  0.895100  1.0301  1.0876      alarce   \n",
       "4  Accipiter-collaris-260336.wav  0.515075  0.5701  0.6700      alarce   \n",
       "\n",
       "       GENUS  \n",
       "0    Aburria  \n",
       "1    Aburria  \n",
       "2  Accipiter  \n",
       "3  Accipiter  \n",
       "4  Accipiter  "
      ]
     },
     "execution_count": 54,
     "metadata": {},
     "output_type": "execute_result"
    }
   ],
   "source": [
    "IQR_DURATION = frame.groupby('IN FILE')[['DURATION']].quantile([.25,.5,.75])\n",
    "IQR_DURATION = IQR_DURATION.unstack(1)\n",
    "IQR_DURATION = IQR_DURATION['DURATION'].rename_axis([None], axis=1)\n",
    "IQR_DURATION = IQR_DURATION.join(LAST_MOD_BY)\n",
    "IQR_DURATION = IQR_DURATION.join(GENUS).reset_index()\n",
    "IQR_DURATION = IQR_DURATION.rename(columns = {.25:'0.25',.5:'0.5',.75:'0.75'})\n",
    "IQR_DURATION.head()"
   ]
  },
  {
   "cell_type": "code",
   "execution_count": 55,
   "metadata": {},
   "outputs": [
    {
     "name": "stdout",
     "output_type": "stream",
     "text": [
      "['EdZamora', 'kkong']\n",
      "['Arremon', 'Automolus', 'Bolborhynchus', 'Brotogeris', 'Buteo', 'Campephilus', 'Catamenia', 'Catharus', 'Cercomacroides', 'Coccyzus', 'Coeligena', 'Coereba', 'Colaptes', 'Conopophaga', 'Contopus', 'Cranioleuca', 'Crotophaga', 'Crypturellus', 'Dacnis', 'Daptrius', 'Dendrocincla', 'Diglossa', 'Dryocopus', 'Elaenia', 'Epinecrophylla', 'Euchrepomis', 'Euphonia', 'Falco', 'Furnarius', 'Galbula', 'Glaucidium', 'Hafferia', 'Helicolestes', 'Heliodoxa', 'Hemitriccus', 'Henicorhina', 'Hirundinea', 'Ictinia', 'Iridosornis', 'Leptopogon', 'Leptotila', 'Lurocalis', 'Micrastur', 'Micropygia', 'Mimus', 'Mionectes', 'Molothrus', 'Myadestes', 'Myiarchus', 'Myiophobus', 'Myiothlypis', 'Neopelma', 'Pachyramphus', 'Phrygilus', 'Phyllomyias', 'Picumnus', 'Pipile', 'Piprites', 'Platyrinchus', 'Psarocolius', 'Pyrilia', 'Pyrrhomyias', 'Ramphastos', 'Ramphocelus', 'Rhynchocyclus', 'Saltator', 'Sarcoramphus', 'Setophaga', 'Sporophila', 'Tachyphonus']\n",
      "['Rhynchocyclus', 'Phrygilus', 'Dendrocincla', 'Micrastur', 'Myiophobus']\n"
     ]
    },
    {
     "data": {
      "text/html": [
       "<div>\n",
       "<style scoped>\n",
       "    .dataframe tbody tr th:only-of-type {\n",
       "        vertical-align: middle;\n",
       "    }\n",
       "\n",
       "    .dataframe tbody tr th {\n",
       "        vertical-align: top;\n",
       "    }\n",
       "\n",
       "    .dataframe thead th {\n",
       "        text-align: right;\n",
       "    }\n",
       "</style>\n",
       "<table border=\"1\" class=\"dataframe\">\n",
       "  <thead>\n",
       "    <tr style=\"text-align: right;\">\n",
       "      <th></th>\n",
       "      <th>IN FILE</th>\n",
       "      <th>0.25</th>\n",
       "      <th>0.5</th>\n",
       "      <th>0.75</th>\n",
       "      <th>LAST MOD BY</th>\n",
       "      <th>GENUS</th>\n",
       "    </tr>\n",
       "  </thead>\n",
       "  <tbody>\n",
       "    <tr>\n",
       "      <th>138</th>\n",
       "      <td>Arremon-brunneinucha-297000.wav</td>\n",
       "      <td>1.8751</td>\n",
       "      <td>1.91010</td>\n",
       "      <td>1.96015</td>\n",
       "      <td>kkong</td>\n",
       "      <td>Arremon</td>\n",
       "    </tr>\n",
       "    <tr>\n",
       "      <th>139</th>\n",
       "      <td>Arremon-castaneiceps-261298.wav</td>\n",
       "      <td>0.8323</td>\n",
       "      <td>0.91975</td>\n",
       "      <td>0.96220</td>\n",
       "      <td>EdZamora</td>\n",
       "      <td>Arremon</td>\n",
       "    </tr>\n",
       "    <tr>\n",
       "      <th>177</th>\n",
       "      <td>Automolus-infuscatus-270606.wav</td>\n",
       "      <td>0.8399</td>\n",
       "      <td>0.89995</td>\n",
       "      <td>1.00490</td>\n",
       "      <td>kkong</td>\n",
       "      <td>Automolus</td>\n",
       "    </tr>\n",
       "    <tr>\n",
       "      <th>181</th>\n",
       "      <td>Automolus-rufipileatus-47553.wav</td>\n",
       "      <td>1.1098</td>\n",
       "      <td>1.17990</td>\n",
       "      <td>1.19980</td>\n",
       "      <td>EdZamora</td>\n",
       "      <td>Automolus</td>\n",
       "    </tr>\n",
       "    <tr>\n",
       "      <th>197</th>\n",
       "      <td>Bolborhynchus-lineola-260395.wav</td>\n",
       "      <td>0.7901</td>\n",
       "      <td>0.94010</td>\n",
       "      <td>1.62020</td>\n",
       "      <td>EdZamora</td>\n",
       "      <td>Bolborhynchus</td>\n",
       "    </tr>\n",
       "    <tr>\n",
       "      <th>...</th>\n",
       "      <td>...</td>\n",
       "      <td>...</td>\n",
       "      <td>...</td>\n",
       "      <td>...</td>\n",
       "      <td>...</td>\n",
       "      <td>...</td>\n",
       "    </tr>\n",
       "    <tr>\n",
       "      <th>2017</th>\n",
       "      <td>Sporophila-luctuosa-10617.wav</td>\n",
       "      <td>0.6274</td>\n",
       "      <td>0.75990</td>\n",
       "      <td>0.88990</td>\n",
       "      <td>EdZamora</td>\n",
       "      <td>Sporophila</td>\n",
       "    </tr>\n",
       "    <tr>\n",
       "      <th>2023</th>\n",
       "      <td>Sporophila-plumbea-84743.wav</td>\n",
       "      <td>1.3500</td>\n",
       "      <td>4.16000</td>\n",
       "      <td>4.86000</td>\n",
       "      <td>kkong</td>\n",
       "      <td>Sporophila</td>\n",
       "    </tr>\n",
       "    <tr>\n",
       "      <th>2025</th>\n",
       "      <td>Sporophila-schistacea-371548.wav</td>\n",
       "      <td>3.1501</td>\n",
       "      <td>3.39840</td>\n",
       "      <td>3.91175</td>\n",
       "      <td>kkong</td>\n",
       "      <td>Sporophila</td>\n",
       "    </tr>\n",
       "    <tr>\n",
       "      <th>2091</th>\n",
       "      <td>Tachyphonus-phoenicius-357433.wav</td>\n",
       "      <td>0.5950</td>\n",
       "      <td>0.93000</td>\n",
       "      <td>1.14500</td>\n",
       "      <td>EdZamora</td>\n",
       "      <td>Tachyphonus</td>\n",
       "    </tr>\n",
       "    <tr>\n",
       "      <th>2092</th>\n",
       "      <td>Tachyphonus-phoenicius-401522.wav</td>\n",
       "      <td>0.9201</td>\n",
       "      <td>1.38000</td>\n",
       "      <td>1.47000</td>\n",
       "      <td>kkong</td>\n",
       "      <td>Tachyphonus</td>\n",
       "    </tr>\n",
       "  </tbody>\n",
       "</table>\n",
       "<p>230 rows × 6 columns</p>\n",
       "</div>"
      ],
      "text/plain": [
       "                                IN FILE    0.25      0.5     0.75 LAST MOD BY  \\\n",
       "138     Arremon-brunneinucha-297000.wav  1.8751  1.91010  1.96015       kkong   \n",
       "139     Arremon-castaneiceps-261298.wav  0.8323  0.91975  0.96220    EdZamora   \n",
       "177     Automolus-infuscatus-270606.wav  0.8399  0.89995  1.00490       kkong   \n",
       "181    Automolus-rufipileatus-47553.wav  1.1098  1.17990  1.19980    EdZamora   \n",
       "197    Bolborhynchus-lineola-260395.wav  0.7901  0.94010  1.62020    EdZamora   \n",
       "...                                 ...     ...      ...      ...         ...   \n",
       "2017      Sporophila-luctuosa-10617.wav  0.6274  0.75990  0.88990    EdZamora   \n",
       "2023       Sporophila-plumbea-84743.wav  1.3500  4.16000  4.86000       kkong   \n",
       "2025   Sporophila-schistacea-371548.wav  3.1501  3.39840  3.91175       kkong   \n",
       "2091  Tachyphonus-phoenicius-357433.wav  0.5950  0.93000  1.14500    EdZamora   \n",
       "2092  Tachyphonus-phoenicius-401522.wav  0.9201  1.38000  1.47000       kkong   \n",
       "\n",
       "              GENUS  \n",
       "138         Arremon  \n",
       "139         Arremon  \n",
       "177       Automolus  \n",
       "181       Automolus  \n",
       "197   Bolborhynchus  \n",
       "...             ...  \n",
       "2017     Sporophila  \n",
       "2023     Sporophila  \n",
       "2025     Sporophila  \n",
       "2091    Tachyphonus  \n",
       "2092    Tachyphonus  \n",
       "\n",
       "[230 rows x 6 columns]"
      ]
     },
     "execution_count": 55,
     "metadata": {},
     "output_type": "execute_result"
    }
   ],
   "source": [
    "annotator = IQR_DURATION['LAST MOD BY'].unique()\n",
    "sampled_annotator = ['EdZamora','kkong'] #random.sample(list(annotator),1)\n",
    "print(sampled_annotator)\n",
    "annotator_df = IQR_DURATION[IQR_DURATION['LAST MOD BY'].isin(sampled_annotator)]\n",
    "\n",
    "# genus_counts = annotator_df['GENUS'].value_counts()\n",
    "# sampled_genus = genus_counts.index[:5]#random.sample(list(genus),1)\n",
    "# print(sampled_genus)\n",
    "\n",
    "genus = annotator_df[['LAST MOD BY','GENUS']].groupby(['GENUS','LAST MOD BY'])[['LAST MOD BY']].count().rename(columns = {\"LAST MOD BY\":'COUNT'}).reset_index()\n",
    "genus['LAST MOD BY'] = (genus['LAST MOD BY']+' '+genus['COUNT'].astype(str))\n",
    "genus = genus.drop(columns = ['COUNT']).groupby('GENUS')['LAST MOD BY'].apply(list).to_dict()\n",
    "shared_genus_anns = [i for i in genus if len(genus.get(i)) == 2]\n",
    "rand_shared_genus_anns = random.sample(list(shared_genus_anns),5)\n",
    "print(shared_genus_anns)\n",
    "print(rand_shared_genus_anns)\n",
    "\n",
    "IQR_DURATION = annotator_df[annotator_df['GENUS'].isin(shared_genus_anns)] # shared_genus_anns\n",
    "IQR_DURATION"
   ]
  },
  {
   "cell_type": "code",
   "execution_count": 56,
   "metadata": {},
   "outputs": [
    {
     "data": {
      "text/html": [
       "<div>\n",
       "<style scoped>\n",
       "    .dataframe tbody tr th:only-of-type {\n",
       "        vertical-align: middle;\n",
       "    }\n",
       "\n",
       "    .dataframe tbody tr th {\n",
       "        vertical-align: top;\n",
       "    }\n",
       "\n",
       "    .dataframe thead th {\n",
       "        text-align: right;\n",
       "    }\n",
       "</style>\n",
       "<table border=\"1\" class=\"dataframe\">\n",
       "  <thead>\n",
       "    <tr style=\"text-align: right;\">\n",
       "      <th></th>\n",
       "      <th>IN FILE</th>\n",
       "      <th>0.25</th>\n",
       "      <th>0.5</th>\n",
       "      <th>0.75</th>\n",
       "      <th>LAST MOD BY</th>\n",
       "      <th>GENUS</th>\n",
       "    </tr>\n",
       "  </thead>\n",
       "  <tbody>\n",
       "    <tr>\n",
       "      <th>0</th>\n",
       "      <td>Aburria-aburri-257423.wav</td>\n",
       "      <td>4.546700</td>\n",
       "      <td>6.73200</td>\n",
       "      <td>12.987900</td>\n",
       "      <td>alarce</td>\n",
       "      <td>Aburria</td>\n",
       "    </tr>\n",
       "    <tr>\n",
       "      <th>1</th>\n",
       "      <td>Aburria-aburri-387212.wav</td>\n",
       "      <td>15.521100</td>\n",
       "      <td>30.44110</td>\n",
       "      <td>54.061100</td>\n",
       "      <td>alarce</td>\n",
       "      <td>Aburria</td>\n",
       "    </tr>\n",
       "    <tr>\n",
       "      <th>2</th>\n",
       "      <td>Accipiter-bicolor-451839.wav</td>\n",
       "      <td>1.754000</td>\n",
       "      <td>2.75345</td>\n",
       "      <td>3.760200</td>\n",
       "      <td>alarce</td>\n",
       "      <td>Accipiter</td>\n",
       "    </tr>\n",
       "    <tr>\n",
       "      <th>3</th>\n",
       "      <td>Accipiter-collaris-260335.wav</td>\n",
       "      <td>6.441750</td>\n",
       "      <td>17.87295</td>\n",
       "      <td>29.574150</td>\n",
       "      <td>alarce</td>\n",
       "      <td>Accipiter</td>\n",
       "    </tr>\n",
       "    <tr>\n",
       "      <th>4</th>\n",
       "      <td>Accipiter-collaris-260336.wav</td>\n",
       "      <td>5.994075</td>\n",
       "      <td>8.05175</td>\n",
       "      <td>18.697625</td>\n",
       "      <td>alarce</td>\n",
       "      <td>Accipiter</td>\n",
       "    </tr>\n",
       "  </tbody>\n",
       "</table>\n",
       "</div>"
      ],
      "text/plain": [
       "                         IN FILE       0.25       0.5       0.75 LAST MOD BY  \\\n",
       "0      Aburria-aburri-257423.wav   4.546700   6.73200  12.987900      alarce   \n",
       "1      Aburria-aburri-387212.wav  15.521100  30.44110  54.061100      alarce   \n",
       "2   Accipiter-bicolor-451839.wav   1.754000   2.75345   3.760200      alarce   \n",
       "3  Accipiter-collaris-260335.wav   6.441750  17.87295  29.574150      alarce   \n",
       "4  Accipiter-collaris-260336.wav   5.994075   8.05175  18.697625      alarce   \n",
       "\n",
       "       GENUS  \n",
       "0    Aburria  \n",
       "1    Aburria  \n",
       "2  Accipiter  \n",
       "3  Accipiter  \n",
       "4  Accipiter  "
      ]
     },
     "execution_count": 56,
     "metadata": {},
     "output_type": "execute_result"
    }
   ],
   "source": [
    "IQR_OFFSET = frame.groupby('IN FILE')[['OFFSET']].quantile([.25,.5,.75])\n",
    "IQR_OFFSET = IQR_OFFSET.unstack(1)\n",
    "IQR_OFFSET = IQR_OFFSET['OFFSET'].rename_axis([None], axis=1)\n",
    "IQR_OFFSET = IQR_OFFSET.join(LAST_MOD_BY)\n",
    "IQR_OFFSET = IQR_OFFSET.join(GENUS).reset_index()\n",
    "IQR_OFFSET = IQR_OFFSET.rename(columns = {.25:'0.25',.5:'0.5',.75:'0.75'})\n",
    "IQR_OFFSET.head()"
   ]
  },
  {
   "cell_type": "code",
   "execution_count": 57,
   "metadata": {},
   "outputs": [],
   "source": [
    "X = IQR_DURATION.drop(columns = ['IN FILE','GENUS','LAST MOD BY']) # expand to taxa rather than species\n",
    "\n",
    "Y = np.array(IQR_DURATION['GENUS'])\n",
    "Y_2 = np.array(IQR_DURATION['LAST MOD BY'])\n",
    "Y_3 = np.array(IQR_DURATION['IN FILE'])"
   ]
  },
  {
   "cell_type": "code",
   "execution_count": 58,
   "metadata": {},
   "outputs": [
    {
     "data": {
      "text/plain": [
       "array([[ 4.99517169e-01,  3.56763059e-01,  2.12385409e-01],\n",
       "       [-3.81630867e-01, -4.13044237e-01, -4.99749811e-01],\n",
       "       [-3.75208998e-01, -4.28434942e-01, -4.69279172e-01],\n",
       "       [-1.47148147e-01, -2.10827477e-01, -3.30198903e-01],\n",
       "       [-4.17289140e-01, -3.97226013e-01, -3.02022638e-02],\n",
       "       [-6.22450957e-01, -6.34538244e-01, -6.38901440e-01],\n",
       "       [ 2.15104142e-02, -4.80591148e-02,  1.28859838e+00],\n",
       "       [-6.96217953e-01, -6.15027805e-01, -6.22702763e-01],\n",
       "       [ 4.77970108e-01,  4.10747122e-01,  5.15147241e-01],\n",
       "       [ 2.92327393e-01,  2.16769831e-01,  1.19510617e-01],\n",
       "       [ 7.20908074e-03, -3.20076979e-02, -1.49872664e-01],\n",
       "       [ 1.48659197e-01,  3.29324076e-01,  6.09895228e-01],\n",
       "       [-6.28619331e-01, -6.69361657e-01, -6.86855232e-01],\n",
       "       [-5.46318009e-01, -5.76162389e-01, -6.31622739e-01],\n",
       "       [-6.94105496e-01, -7.47092489e-01, -8.29592691e-01],\n",
       "       [ 6.02710690e-01,  4.38108375e-01,  2.72773648e-01],\n",
       "       [-7.44888961e-01, -6.77134740e-01, -4.63945027e-01],\n",
       "       [ 1.97952562e+00,  1.88335774e+00,  1.75470281e+00],\n",
       "       [-1.46979151e-01, -1.56338164e-01, -8.92168263e-02],\n",
       "       [ 2.45937839e-01,  1.54585165e-01,  3.38431654e-02],\n",
       "       [-7.32214219e-01, -7.86035636e-01, -8.70660261e-01],\n",
       "       [-8.56806929e-01, -8.79234903e-01, -9.15242303e-01],\n",
       "       [-7.80716230e-01, -8.24823321e-01, -8.93798680e-01],\n",
       "       [ 1.71189845e+00,  1.44483925e+00,  1.18262906e+00],\n",
       "       [ 4.05866910e+00,  3.60365765e+00,  3.15744043e+00],\n",
       "       [-3.58224844e-01, -3.97303744e-01, -4.62071832e-01],\n",
       "       [-4.02586439e-01, -4.71148034e-01, -5.56641419e-01],\n",
       "       [-7.38467091e-01, -7.86035636e-01, -8.58118775e-01],\n",
       "       [-8.49307707e-01, -8.65787470e-01, -9.07285684e-01],\n",
       "       [ 1.07380971e+00,  9.54979544e-01,  9.64910281e-01],\n",
       "       [-8.10375125e-01, -8.24939917e-01, -8.76083607e-01],\n",
       "       [ 2.80582132e-01,  1.28156682e-01, -3.31993758e-02],\n",
       "       [-8.73960079e-01, -9.10871352e-01, -9.49316612e-01],\n",
       "       [-4.21598552e-01,  5.35466243e-01,  1.18637545e+00],\n",
       "       [ 8.04048960e-01,  6.09699187e-01,  4.08874645e-01],\n",
       "       [-6.69178504e-01, -7.24006432e-01, -8.05597955e-01],\n",
       "       [-8.75227553e-01, -9.27700077e-01, -8.04081559e-01],\n",
       "       [-5.10406241e-01, -5.83935472e-01, -6.65518649e-01],\n",
       "       [-6.07494762e-01, -6.30496240e-01, -6.51175327e-01],\n",
       "       [-5.44121054e-01, -6.07176991e-01, -6.92260737e-01],\n",
       "       [-8.48378226e-01, -9.02593019e-01, -9.72294470e-01],\n",
       "       [ 1.08607013e-01,  2.24038846e-02, -1.00741436e-01],\n",
       "       [-6.88393688e-02, -5.14015406e-02, -8.21343652e-02],\n",
       "       [-8.50406184e-01, -8.98628746e-01, -9.63320974e-01],\n",
       "       [ 4.72823887e-02,  3.95395283e-01,  8.36462624e-01],\n",
       "       [-2.84288851e-01, -2.72934412e-01, -2.92592284e-01],\n",
       "       [-2.23027600e-01, -2.80785226e-01, -3.65807448e-01],\n",
       "       [-4.56657163e-02, -1.17550479e-01, -1.44592039e-01],\n",
       "       [-2.18971683e-01, -1.64344440e-01, -2.08958587e-01],\n",
       "       [-5.56394429e-01, -4.68038801e-01, -4.21004261e-01],\n",
       "       [-4.42807619e-01, -4.90580742e-01, -5.65543556e-01],\n",
       "       [-4.25823466e-01, -4.05076827e-01,  6.96301099e-02],\n",
       "       [ 4.18905812e-01,  2.86416656e-01,  1.69177044e-01],\n",
       "       [-2.82176394e-01, -1.64188978e-01, -1.44520679e-01],\n",
       "       [ 3.80297732e+00,  3.45783461e+00,  3.06638531e+00],\n",
       "       [-8.48357101e-01, -8.94781070e-01, -9.58093868e-01],\n",
       "       [-8.18740455e-01, -8.55915654e-01, -8.61722445e-01],\n",
       "       [-3.45465604e-01, -4.36091429e-01, -5.40496262e-01],\n",
       "       [-7.17342522e-01, -5.37219242e-01,  2.05142388e-01],\n",
       "       [-7.80716230e-01, -8.24823321e-01, -9.00934661e-01],\n",
       "       [-1.99727200e-01, -1.52412757e-01, -2.24746945e-01],\n",
       "       [ 8.95315274e-02, -1.64226661e-02, -3.03449834e-02],\n",
       "       [-4.17458136e-01, -4.59566140e-01, -4.62143191e-01],\n",
       "       [-6.20169503e-01, -6.81021281e-01, -7.51061221e-01],\n",
       "       [ 3.23887499e-01,  4.20735534e-01,  6.08503712e-01],\n",
       "       [ 1.27229616e+00,  1.17254814e+00,  9.32762687e-01],\n",
       "       [-6.70868470e-01, -6.77134740e-01, -6.86855232e-01],\n",
       "       [ 6.21540855e-02,  2.55596381e-01,  6.06541317e-01],\n",
       "       [-9.38474514e-01, -9.88291261e-01, -1.05186066e+00],\n",
       "       [-2.48546080e-01, -1.79812875e-01, -1.05486863e-01],\n",
       "       [-8.50427309e-01, -8.90933394e-01, -8.01084447e-01],\n",
       "       [-7.79216386e-01, -8.37221389e-01, -9.10693115e-01],\n",
       "       [-9.62801843e-02, -1.87430497e-01, -2.08744507e-01],\n",
       "       [-5.48388217e-01, -5.83857741e-01, -6.79754931e-01],\n",
       "       [ 7.23184108e-01,  1.10663240e+00,  1.03634145e+00],\n",
       "       [ 2.50379518e+00,  2.88250986e+00,  3.26961805e+00],\n",
       "       [ 8.50185019e-01,  8.93105802e-01,  1.05077397e+00],\n",
       "       [-6.03269848e-01, -6.46042407e-01, -7.22535137e-01],\n",
       "       [-1.04814510e-01, -1.79735145e-01, -2.83797187e-01],\n",
       "       [ 6.59916023e-01,  8.38538757e-01,  8.43741325e-01],\n",
       "       [ 6.43164240e-01,  5.35543973e-01,  6.26236625e-01],\n",
       "       [ 6.89553794e-01,  1.00185124e+00,  8.99116537e-01],\n",
       "       [ 1.04410857e+00,  9.47128730e-01,  7.50723813e-01],\n",
       "       [-6.77205840e-01, -6.88755499e-01, -5.92232124e-01],\n",
       "       [-8.90563991e-01, -8.71461820e-01, -8.01030927e-01],\n",
       "       [ 2.41298608e-02,  6.89658360e-03,  2.29964743e-02],\n",
       "       [ 1.79546725e+00,  2.08899465e+00,  1.80970339e+00],\n",
       "       [-8.06129087e-01, -7.97656395e-01, -7.52934416e-01],\n",
       "       [-8.94788904e-01, -8.87007987e-01, -8.22438870e-01],\n",
       "       [ 9.11615267e-01,  8.27190056e-01,  7.17363102e-01],\n",
       "       [-1.21629668e-01, -2.34068996e-01, -3.55032117e-01],\n",
       "       [-9.24278803e-01, -8.24745590e-01, -6.36903365e-01],\n",
       "       [-6.09522720e-01, -6.46003541e-01, -7.15327796e-01],\n",
       "       [ 1.96949962e-01,  5.77674084e-01,  8.46738437e-01],\n",
       "       [ 2.78056929e+00,  2.75048404e+00,  3.19119362e+00],\n",
       "       [ 3.28323659e-01,  2.63031217e+00,  3.05418279e+00],\n",
       "       [-9.28334720e-01, -9.69558130e-01, -1.02766968e+00],\n",
       "       [-6.87768125e-01, -7.39319406e-01, -8.15302889e-01],\n",
       "       [-6.40005474e-01, -5.90309400e-01, -6.26770272e-01],\n",
       "       [-6.22303085e-01, -6.38308189e-01, -7.22535137e-01],\n",
       "       [-7.13117608e-01, -7.54865572e-01, -7.26067447e-01],\n",
       "       [-9.07463646e-01, -9.10327236e-01, -7.65351022e-01],\n",
       "       [-8.20874036e-01, -8.52106843e-01, -9.08142001e-01],\n",
       "       [ 4.67142949e+00,  4.25476997e+00,  3.83544782e+00],\n",
       "       [ 4.02259651e-01,  3.10046829e-01,  1.76598465e-01],\n",
       "       [ 2.63935154e+00,  2.42428660e+00,  2.27630734e+00],\n",
       "       [ 8.68922512e-01,  9.93844960e-01,  8.29326643e-01],\n",
       "       [ 2.73294156e-01,  1.31149319e-01, -1.94377916e-03],\n",
       "       [ 6.81588821e-04, -3.98973774e-02, -1.66107021e-01],\n",
       "       [-5.27221398e-01, -5.76084658e-01, -6.44110706e-01],\n",
       "       [-8.31415196e-01, -8.67575279e-01, -9.15206623e-01],\n",
       "       [ 3.98549360e+00,  3.53634275e+00,  3.09564284e+00],\n",
       "       [-3.58224844e-01, -3.54551786e-01, -3.58778507e-01],\n",
       "       [-6.45518986e-01, -6.84946688e-01, -7.56448886e-01],\n",
       "       [-6.53968814e-01, -6.77134740e-01, -7.08298855e-01],\n",
       "       [ 8.60662806e-01,  7.92055720e-01,  6.97525075e-01],\n",
       "       [ 2.12138528e-01,  9.24004990e-02, -4.10489548e-02],\n",
       "       [ 9.13305232e-01,  1.84111103e+00,  1.67133672e+00],\n",
       "       [-6.43427654e-01, -6.77134740e-01, -6.47625177e-01],\n",
       "       [-9.84771395e-02, -1.13702803e-01,  3.46172642e-03],\n",
       "       [-2.78120477e-01, -3.58593789e-01, -4.15866355e-01],\n",
       "       [ 1.57214647e-01,  3.80666473e-02, -8.74328311e-02],\n",
       "       [-1.64132301e-01, -2.34302189e-01, -3.44470865e-01],\n",
       "       [-4.68790840e-01, -5.58906144e-01, -6.61843619e-01],\n",
       "       [-4.14120454e-01, -4.48139708e-01, -5.04637958e-01],\n",
       "       [-1.17819071e-02, -8.63026842e-02, -2.32090024e-02],\n",
       "       [ 3.68046023e-02,  1.46308014e-02,  7.11891666e-03],\n",
       "       [-9.32897627e-01, -9.57043467e-01, -1.00804573e+00],\n",
       "       [-7.38467091e-01, -7.78184822e-01, -8.29574851e-01],\n",
       "       [-5.01702919e-01, -5.91475363e-01, -6.93848493e-01],\n",
       "       [-4.09008308e-01, -4.20622994e-01, -4.37167258e-01],\n",
       "       [-6.37111408e-01, -7.00531720e-01, -6.36939045e-01],\n",
       "       [ 1.82395134e-01,  1.77748953e-01,  5.51440685e-02],\n",
       "       [-3.81482995e-01, -4.71148034e-01, -5.74463532e-01],\n",
       "       [-1.97678117e-01, -2.41842079e-01, -3.58671467e-01],\n",
       "       [-7.32121546e-02, -7.10285757e-02,  1.33568499e-01],\n",
       "       [-7.59676159e-01, -7.97617530e-01, -8.58190135e-01],\n",
       "       [ 2.47086198e+00,  2.14301758e+00,  1.81651825e+00],\n",
       "       [-5.92792061e-01, -5.87860879e-01, -6.56598673e-01],\n",
       "       [ 1.17685536e+00,  1.05171556e+00,  8.36034465e-01],\n",
       "       [ 4.93948457e-02, -4.37061882e-02, -1.53512015e-01],\n",
       "       [-4.00558481e-01, -4.67261493e-01, -5.44206972e-01],\n",
       "       [ 2.92411891e-01,  4.96523096e-01,  1.47534700e+00],\n",
       "       [-8.16627998e-01, -8.20897914e-01, -4.44160519e-01],\n",
       "       [-6.58193728e-01, -3.04026745e-01, -3.94280012e-01],\n",
       "       [-1.89186040e-01, -1.79579683e-01, -2.65832355e-01],\n",
       "       [-1.51288563e-01, -1.48642812e-01, -1.51763699e-01],\n",
       "       [-5.62710675e-01, -6.07565645e-01, -6.25913954e-01],\n",
       "       [-5.54767837e-01, -6.18953212e-01, -7.08388054e-01],\n",
       "       [ 4.86377686e-01,  5.42850672e-01,  9.18240966e-01],\n",
       "       [-6.20169503e-01, -6.34421647e-01, -6.65500809e-01],\n",
       "       [-6.20254002e-01, -6.92680906e-01, -7.79676504e-01],\n",
       "       [-6.45561236e-01, -7.08304803e-01, -7.86830325e-01],\n",
       "       [-4.34231044e-01, -4.67261493e-01,  4.62109063e-01],\n",
       "       [ 1.22180844e+00,  1.04841200e+00,  1.26119621e+00],\n",
       "       [-5.52655380e-01, -5.13977723e-01, -5.94158839e-01],\n",
       "       [-1.17819071e-02, -1.64226661e-02,  1.32549140e+00],\n",
       "       [-8.82114163e-01, -9.25873403e-01, -9.47318537e-01],\n",
       "       [-5.25108941e-01, -5.83857741e-01, -6.63663294e-01],\n",
       "       [-4.57502145e-02, -1.64266709e-01, -2.23230549e-01],\n",
       "       [-4.26156040e-03, -1.86768602e-02, -6.22428183e-02],\n",
       "       [ 7.82586397e-01,  6.05501722e-01,  4.12228556e-01],\n",
       "       [ 2.51454759e+00,  2.22206984e+00,  2.05329010e+00],\n",
       "       [ 5.64670860e+00,  5.23355661e+00,  4.80893835e+00],\n",
       "       [ 8.52360850e-01,  8.81523908e-01,  7.94003537e-01],\n",
       "       [-4.25823466e-01, -4.98353826e-01, -5.94087479e-01],\n",
       "       [-2.35702342e-01, -3.46778703e-01, -4.69207813e-01],\n",
       "       [-5.69512786e-01, -5.83857741e-01, -6.33335375e-01],\n",
       "       [-3.75208998e-01, -3.42969892e-01, -3.44399506e-01],\n",
       "       [-4.75669275e-02, -1.34340339e-01, -2.53504948e-01],\n",
       "       [ 3.47124526e-01,  4.10863719e-01,  5.22443782e-01],\n",
       "       [-6.28619331e-01, -6.61588573e-01, -7.36807099e-01],\n",
       "       [ 9.17656894e-01,  2.38538232e+00,  2.95599169e+00],\n",
       "       [ 3.76783421e-01,  6.05346261e-01,  5.68934698e-01],\n",
       "       [ 6.04971019e-01,  5.31501970e-01,  4.33422419e-01],\n",
       "       [ 9.81503516e-02,  8.47051466e-02,  5.53581480e-02],\n",
       "       [ 1.59368536e+00,  1.54208052e+00,  1.62698659e+00],\n",
       "       [-6.87768125e-01, -6.61588573e-01, -5.36999632e-01],\n",
       "       [ 3.67953351e-01,  8.84555410e-01,  1.16771486e+00],\n",
       "       [-7.27925931e-01, -7.70450604e-01,  1.94206498e-01],\n",
       "       [ 7.12621824e-01,  5.70289655e-01,  4.27999074e-01],\n",
       "       [-8.06044589e-01, -8.71422955e-01, -9.50833008e-01],\n",
       "       [-5.22996484e-01, -5.44992325e-01, -6.19063413e-01],\n",
       "       [ 1.13283176e+00,  9.47128730e-01,  7.61499144e-01],\n",
       "       [ 1.95302246e-01,  8.07408742e-02, -4.28329501e-02],\n",
       "       [-4.06811353e-01, -3.62402600e-01, -3.17568217e-01],\n",
       "       [ 5.12191910e-01,  6.98856452e-01,  1.42882040e+00],\n",
       "       [-3.66759170e-01, -4.59566140e-01, -5.58478934e-01],\n",
       "       [-3.18151536e-01, -3.97342609e-01, -3.38976160e-01],\n",
       "       [ 5.45822225e-01,  5.50934678e-01,  5.33219113e-01],\n",
       "       [ 8.14188753e-01,  6.71495199e-01,  4.76309665e-01],\n",
       "       [ 7.31802933e-01,  5.43317057e-01,  3.76405931e-01],\n",
       "       [ 1.55017692e-01,  3.40246440e-02, -1.03542308e-01],\n",
       "       [-2.35702342e-01, -2.69047871e-01, -3.21136208e-01],\n",
       "       [-4.42807619e-01, -4.75112307e-01, -5.44206972e-01],\n",
       "       [-2.28519988e-01, -3.40171582e-01, -4.63142229e-01],\n",
       "       [-8.60989593e-01, -8.79234903e-01, -7.76126354e-01],\n",
       "       [-5.25045568e-01, -5.72198116e-01, -6.13657907e-01],\n",
       "       [-7.21482938e-01, -7.23695508e-01, -7.72487003e-01],\n",
       "       [-6.53968814e-01, -7.08227073e-01, -7.58215041e-01],\n",
       "       [-5.35671226e-01, -5.99403908e-01, -6.65518649e-01],\n",
       "       [-3.05413421e-01, -3.77871036e-01, -4.67423817e-01],\n",
       "       [-5.69470537e-01, -5.56651950e-01, -6.06907424e-02],\n",
       "       [-8.58877137e-01, -9.06440695e-01, -9.54400998e-01],\n",
       "       [-7.87053601e-01, -8.24823321e-01, -8.86591339e-01],\n",
       "       [-7.15314563e-01, -7.43283678e-01, -6.63734654e-01],\n",
       "       [-1.33734046e-01, -1.83038705e-01, -2.54682385e-01],\n",
       "       [-7.55408996e-01, -8.01581802e-01, -8.65290436e-01],\n",
       "       [-7.13117608e-01, -7.47170220e-01, -7.43943080e-01],\n",
       "       [ 2.20588355e-01,  9.24004990e-02,  1.44450870e-01],\n",
       "       [ 5.71002711e-01,  4.18636802e-01,  2.62016157e-01],\n",
       "       [-7.32129721e-01, -7.62638655e-01, -8.20654875e-01],\n",
       "       [ 7.22465873e-01,  5.89022786e-01,  3.89928615e-01],\n",
       "       [ 1.56961153e-01,  2.22095575e-02, -8.75755507e-02],\n",
       "       [ 1.74114303e-01,  5.74216245e-02, -8.92168263e-02],\n",
       "       [-6.67691610e-02, -7.47985210e-02, -1.58864001e-01],\n",
       "       [-7.93805289e-02,  2.01223664e-01,  9.81026739e-02],\n",
       "       [-5.82229777e-01, -6.22800888e-01, -6.86926592e-01],\n",
       "       [-4.34336667e-01, -4.78998848e-01, -5.44206972e-01],\n",
       "       [ 2.19345413e+00,  1.88782726e+00,  1.58224399e+00],\n",
       "       [-6.71713452e-01, -7.30652418e-01, -7.80675542e-01],\n",
       "       [-9.26475758e-01, -9.56926870e-01, -9.99054399e-01],\n",
       "       [-9.68809395e-01, -1.00686893e+00, -1.05564273e+00],\n",
       "       [ 1.18809363e+00,  9.70836634e-01,  7.76020865e-01],\n",
       "       [ 4.28369619e-01,  2.64107907e-01,  9.16089312e-02],\n",
       "       [-5.54767837e-01, -5.37296973e-01, -5.51342953e-01],\n",
       "       [ 5.58167147e-02,  2.10562905e+00,  2.28171285e+00],\n",
       "       [ 1.57687020e+00,  1.51363103e+00,  1.60504345e+00],\n",
       "       [-5.82145279e-01, -4.05076827e-01, -3.69304079e-01],\n",
       "       [-3.07441379e-01, -5.52880822e-02, -1.37384698e-01]])"
      ]
     },
     "execution_count": 58,
     "metadata": {},
     "output_type": "execute_result"
    }
   ],
   "source": [
    "scaler = StandardScaler()\n",
    "X_std = scaler.fit_transform(X)\n",
    "X_std"
   ]
  },
  {
   "cell_type": "code",
   "execution_count": 59,
   "metadata": {},
   "outputs": [
    {
     "name": "stderr",
     "output_type": "stream",
     "text": [
      "C:\\Users\\lianl\\anaconda3\\envs\\tweety\\lib\\site-packages\\sklearn\\manifold\\_t_sne.py:780: FutureWarning:\n",
      "\n",
      "The default initialization in TSNE will change from 'random' to 'pca' in 1.2.\n",
      "\n",
      "C:\\Users\\lianl\\anaconda3\\envs\\tweety\\lib\\site-packages\\sklearn\\manifold\\_t_sne.py:790: FutureWarning:\n",
      "\n",
      "The default learning rate in TSNE will change from 200.0 to 'auto' in 1.2.\n",
      "\n"
     ]
    },
    {
     "name": "stdout",
     "output_type": "stream",
     "text": [
      "[t-SNE] Computing 121 nearest neighbors...\n",
      "[t-SNE] Indexed 230 samples in 0.001s...\n",
      "[t-SNE] Computed neighbors for 230 samples in 0.015s...\n",
      "[t-SNE] Computed conditional probabilities for sample 230 / 230\n",
      "[t-SNE] Mean sigma: 0.202770\n",
      "[t-SNE] KL divergence after 250 iterations with early exaggeration: 104.075172\n",
      "[t-SNE] KL divergence after 300 iterations: 2.646642\n"
     ]
    },
    {
     "data": {
      "text/html": [
       "<div>\n",
       "<style scoped>\n",
       "    .dataframe tbody tr th:only-of-type {\n",
       "        vertical-align: middle;\n",
       "    }\n",
       "\n",
       "    .dataframe tbody tr th {\n",
       "        vertical-align: top;\n",
       "    }\n",
       "\n",
       "    .dataframe thead th {\n",
       "        text-align: right;\n",
       "    }\n",
       "</style>\n",
       "<table border=\"1\" class=\"dataframe\">\n",
       "  <thead>\n",
       "    <tr style=\"text-align: right;\">\n",
       "      <th></th>\n",
       "      <th>TSNE1</th>\n",
       "      <th>TSNE2</th>\n",
       "      <th>TSNE3</th>\n",
       "    </tr>\n",
       "  </thead>\n",
       "  <tbody>\n",
       "    <tr>\n",
       "      <th>0</th>\n",
       "      <td>-4.793036</td>\n",
       "      <td>21.438496</td>\n",
       "      <td>-27.378454</td>\n",
       "    </tr>\n",
       "    <tr>\n",
       "      <th>1</th>\n",
       "      <td>-3.234881</td>\n",
       "      <td>25.109409</td>\n",
       "      <td>-10.347363</td>\n",
       "    </tr>\n",
       "    <tr>\n",
       "      <th>2</th>\n",
       "      <td>-11.868632</td>\n",
       "      <td>31.074387</td>\n",
       "      <td>8.097863</td>\n",
       "    </tr>\n",
       "    <tr>\n",
       "      <th>3</th>\n",
       "      <td>-20.205452</td>\n",
       "      <td>-18.086123</td>\n",
       "      <td>15.336816</td>\n",
       "    </tr>\n",
       "    <tr>\n",
       "      <th>4</th>\n",
       "      <td>60.378315</td>\n",
       "      <td>-4.587010</td>\n",
       "      <td>-32.843533</td>\n",
       "    </tr>\n",
       "    <tr>\n",
       "      <th>...</th>\n",
       "      <td>...</td>\n",
       "      <td>...</td>\n",
       "      <td>...</td>\n",
       "    </tr>\n",
       "    <tr>\n",
       "      <th>225</th>\n",
       "      <td>2.737564</td>\n",
       "      <td>11.904365</td>\n",
       "      <td>-2.744944</td>\n",
       "    </tr>\n",
       "    <tr>\n",
       "      <th>226</th>\n",
       "      <td>-1.583090</td>\n",
       "      <td>-9.935959</td>\n",
       "      <td>-19.172449</td>\n",
       "    </tr>\n",
       "    <tr>\n",
       "      <th>227</th>\n",
       "      <td>19.880718</td>\n",
       "      <td>-10.069228</td>\n",
       "      <td>-21.564419</td>\n",
       "    </tr>\n",
       "    <tr>\n",
       "      <th>228</th>\n",
       "      <td>8.910795</td>\n",
       "      <td>6.025363</td>\n",
       "      <td>0.981416</td>\n",
       "    </tr>\n",
       "    <tr>\n",
       "      <th>229</th>\n",
       "      <td>-23.228128</td>\n",
       "      <td>2.852106</td>\n",
       "      <td>-13.067237</td>\n",
       "    </tr>\n",
       "  </tbody>\n",
       "</table>\n",
       "<p>230 rows × 3 columns</p>\n",
       "</div>"
      ],
      "text/plain": [
       "         TSNE1      TSNE2      TSNE3\n",
       "0    -4.793036  21.438496 -27.378454\n",
       "1    -3.234881  25.109409 -10.347363\n",
       "2   -11.868632  31.074387   8.097863\n",
       "3   -20.205452 -18.086123  15.336816\n",
       "4    60.378315  -4.587010 -32.843533\n",
       "..         ...        ...        ...\n",
       "225   2.737564  11.904365  -2.744944\n",
       "226  -1.583090  -9.935959 -19.172449\n",
       "227  19.880718 -10.069228 -21.564419\n",
       "228   8.910795   6.025363   0.981416\n",
       "229 -23.228128   2.852106 -13.067237\n",
       "\n",
       "[230 rows x 3 columns]"
      ]
     },
     "execution_count": 59,
     "metadata": {},
     "output_type": "execute_result"
    }
   ],
   "source": [
    "tsne = TSNE(n_components=3, verbose=1, perplexity=40, n_iter=300)\n",
    "tsne_results = tsne.fit_transform(X_std) \n",
    "\n",
    "tsneed = pd.DataFrame(tsne_results, columns = ['TSNE1','TSNE2','TSNE3']) # ,'TSNE4','TSNE5','TSNE6'\n",
    "tsneed"
   ]
  },
  {
   "cell_type": "code",
   "execution_count": 60,
   "metadata": {},
   "outputs": [],
   "source": [
    "wcss = []\n",
    "for i in range(1,21):\n",
    "    kmeans_iqr = KMeans(n_clusters = i, init = 'k-means++', random_state = 42)\n",
    "    kmeans_iqr.fit(tsne_results)\n",
    "    wcss.append(kmeans_iqr.inertia_)"
   ]
  },
  {
   "cell_type": "code",
   "execution_count": 61,
   "metadata": {},
   "outputs": [
    {
     "data": {
      "image/png": "[encoded data removed]",
      "text/plain": [
       "<Figure size 720x576 with 1 Axes>"
      ]
     },
     "metadata": {},
     "output_type": "display_data"
    }
   ],
   "source": [
    "plt.figure(figsize = (10,8))\n",
    "plt.plot(range(1,21),wcss,marker = 'o', linestyle = '--')\n",
    "plt.xlabel('Number of Clusters')\n",
    "plt.ylabel('WCSS')\n",
    "plt.title('K-means with IQR TSNE Clustering')\n",
    "plt.show()"
   ]
  },
  {
   "cell_type": "code",
   "execution_count": 62,
   "metadata": {},
   "outputs": [
    {
     "data": {
      "text/plain": [
       "KMeans(n_clusters=5, random_state=42)"
      ]
     },
     "execution_count": 62,
     "metadata": {},
     "output_type": "execute_result"
    }
   ],
   "source": [
    "kmeans_iqr = KMeans(n_clusters = 5, init = 'k-means++',random_state = 42)\n",
    "kmeans_iqr.fit(tsne_results)"
   ]
  },
  {
   "cell_type": "code",
   "execution_count": 63,
   "metadata": {},
   "outputs": [],
   "source": [
    "df_segm_iqr_kmeans = pd.concat([X.reset_index(drop = True), pd.DataFrame(tsne_results,columns = tsneed.columns)], axis = 1)\n",
    "\n",
    "df_segm_iqr_kmeans['Segment K-means IQR'] = kmeans_iqr.labels_\n",
    "df_segm_iqr_kmeans['Cluster'] = df_segm_iqr_kmeans['Segment K-means IQR'].map({0:'first',1:'second',2:'third',3:'fourth',4:'fifth'})\n",
    "df_segm_iqr_kmeans['IN FILE'],df_segm_iqr_kmeans['LAST MOD BY'], df_segm_iqr_kmeans['Genus'] = Y_3,Y_2, Y"
   ]
  },
  {
   "cell_type": "code",
   "execution_count": 64,
   "metadata": {},
   "outputs": [
    {
     "data": {
      "text/html": [
       "<div>\n",
       "<style scoped>\n",
       "    .dataframe tbody tr th:only-of-type {\n",
       "        vertical-align: middle;\n",
       "    }\n",
       "\n",
       "    .dataframe tbody tr th {\n",
       "        vertical-align: top;\n",
       "    }\n",
       "\n",
       "    .dataframe thead th {\n",
       "        text-align: right;\n",
       "    }\n",
       "</style>\n",
       "<table border=\"1\" class=\"dataframe\">\n",
       "  <thead>\n",
       "    <tr style=\"text-align: right;\">\n",
       "      <th></th>\n",
       "      <th>0.25</th>\n",
       "      <th>0.5</th>\n",
       "      <th>0.75</th>\n",
       "      <th>TSNE1</th>\n",
       "      <th>TSNE2</th>\n",
       "      <th>TSNE3</th>\n",
       "      <th>Segment K-means IQR</th>\n",
       "      <th>Cluster</th>\n",
       "      <th>IN FILE</th>\n",
       "      <th>LAST MOD BY</th>\n",
       "      <th>Genus</th>\n",
       "    </tr>\n",
       "  </thead>\n",
       "  <tbody>\n",
       "    <tr>\n",
       "      <th>0</th>\n",
       "      <td>1.8751</td>\n",
       "      <td>1.91010</td>\n",
       "      <td>1.96015</td>\n",
       "      <td>-4.793036</td>\n",
       "      <td>21.438496</td>\n",
       "      <td>-27.378454</td>\n",
       "      <td>2</td>\n",
       "      <td>third</td>\n",
       "      <td>Arremon-brunneinucha-297000.wav</td>\n",
       "      <td>kkong</td>\n",
       "      <td>Arremon</td>\n",
       "    </tr>\n",
       "    <tr>\n",
       "      <th>1</th>\n",
       "      <td>0.8323</td>\n",
       "      <td>0.91975</td>\n",
       "      <td>0.96220</td>\n",
       "      <td>-3.234881</td>\n",
       "      <td>25.109409</td>\n",
       "      <td>-10.347363</td>\n",
       "      <td>2</td>\n",
       "      <td>third</td>\n",
       "      <td>Arremon-castaneiceps-261298.wav</td>\n",
       "      <td>EdZamora</td>\n",
       "      <td>Arremon</td>\n",
       "    </tr>\n",
       "    <tr>\n",
       "      <th>2</th>\n",
       "      <td>0.8399</td>\n",
       "      <td>0.89995</td>\n",
       "      <td>1.00490</td>\n",
       "      <td>-11.868632</td>\n",
       "      <td>31.074387</td>\n",
       "      <td>8.097863</td>\n",
       "      <td>2</td>\n",
       "      <td>third</td>\n",
       "      <td>Automolus-infuscatus-270606.wav</td>\n",
       "      <td>kkong</td>\n",
       "      <td>Automolus</td>\n",
       "    </tr>\n",
       "    <tr>\n",
       "      <th>3</th>\n",
       "      <td>1.1098</td>\n",
       "      <td>1.17990</td>\n",
       "      <td>1.19980</td>\n",
       "      <td>-20.205452</td>\n",
       "      <td>-18.086123</td>\n",
       "      <td>15.336816</td>\n",
       "      <td>3</td>\n",
       "      <td>fourth</td>\n",
       "      <td>Automolus-rufipileatus-47553.wav</td>\n",
       "      <td>EdZamora</td>\n",
       "      <td>Automolus</td>\n",
       "    </tr>\n",
       "    <tr>\n",
       "      <th>4</th>\n",
       "      <td>0.7901</td>\n",
       "      <td>0.94010</td>\n",
       "      <td>1.62020</td>\n",
       "      <td>60.378315</td>\n",
       "      <td>-4.587010</td>\n",
       "      <td>-32.843533</td>\n",
       "      <td>1</td>\n",
       "      <td>second</td>\n",
       "      <td>Bolborhynchus-lineola-260395.wav</td>\n",
       "      <td>EdZamora</td>\n",
       "      <td>Bolborhynchus</td>\n",
       "    </tr>\n",
       "    <tr>\n",
       "      <th>...</th>\n",
       "      <td>...</td>\n",
       "      <td>...</td>\n",
       "      <td>...</td>\n",
       "      <td>...</td>\n",
       "      <td>...</td>\n",
       "      <td>...</td>\n",
       "      <td>...</td>\n",
       "      <td>...</td>\n",
       "      <td>...</td>\n",
       "      <td>...</td>\n",
       "      <td>...</td>\n",
       "    </tr>\n",
       "    <tr>\n",
       "      <th>225</th>\n",
       "      <td>0.6274</td>\n",
       "      <td>0.75990</td>\n",
       "      <td>0.88990</td>\n",
       "      <td>2.737564</td>\n",
       "      <td>11.904365</td>\n",
       "      <td>-2.744944</td>\n",
       "      <td>2</td>\n",
       "      <td>third</td>\n",
       "      <td>Sporophila-luctuosa-10617.wav</td>\n",
       "      <td>EdZamora</td>\n",
       "      <td>Sporophila</td>\n",
       "    </tr>\n",
       "    <tr>\n",
       "      <th>226</th>\n",
       "      <td>1.3500</td>\n",
       "      <td>4.16000</td>\n",
       "      <td>4.86000</td>\n",
       "      <td>-1.583090</td>\n",
       "      <td>-9.935959</td>\n",
       "      <td>-19.172449</td>\n",
       "      <td>3</td>\n",
       "      <td>fourth</td>\n",
       "      <td>Sporophila-plumbea-84743.wav</td>\n",
       "      <td>kkong</td>\n",
       "      <td>Sporophila</td>\n",
       "    </tr>\n",
       "    <tr>\n",
       "      <th>227</th>\n",
       "      <td>3.1501</td>\n",
       "      <td>3.39840</td>\n",
       "      <td>3.91175</td>\n",
       "      <td>19.880718</td>\n",
       "      <td>-10.069228</td>\n",
       "      <td>-21.564419</td>\n",
       "      <td>1</td>\n",
       "      <td>second</td>\n",
       "      <td>Sporophila-schistacea-371548.wav</td>\n",
       "      <td>kkong</td>\n",
       "      <td>Sporophila</td>\n",
       "    </tr>\n",
       "    <tr>\n",
       "      <th>228</th>\n",
       "      <td>0.5950</td>\n",
       "      <td>0.93000</td>\n",
       "      <td>1.14500</td>\n",
       "      <td>8.910795</td>\n",
       "      <td>6.025363</td>\n",
       "      <td>0.981416</td>\n",
       "      <td>2</td>\n",
       "      <td>third</td>\n",
       "      <td>Tachyphonus-phoenicius-357433.wav</td>\n",
       "      <td>EdZamora</td>\n",
       "      <td>Tachyphonus</td>\n",
       "    </tr>\n",
       "    <tr>\n",
       "      <th>229</th>\n",
       "      <td>0.9201</td>\n",
       "      <td>1.38000</td>\n",
       "      <td>1.47000</td>\n",
       "      <td>-23.228128</td>\n",
       "      <td>2.852106</td>\n",
       "      <td>-13.067237</td>\n",
       "      <td>3</td>\n",
       "      <td>fourth</td>\n",
       "      <td>Tachyphonus-phoenicius-401522.wav</td>\n",
       "      <td>kkong</td>\n",
       "      <td>Tachyphonus</td>\n",
       "    </tr>\n",
       "  </tbody>\n",
       "</table>\n",
       "<p>230 rows × 11 columns</p>\n",
       "</div>"
      ],
      "text/plain": [
       "       0.25      0.5     0.75      TSNE1      TSNE2      TSNE3  \\\n",
       "0    1.8751  1.91010  1.96015  -4.793036  21.438496 -27.378454   \n",
       "1    0.8323  0.91975  0.96220  -3.234881  25.109409 -10.347363   \n",
       "2    0.8399  0.89995  1.00490 -11.868632  31.074387   8.097863   \n",
       "3    1.1098  1.17990  1.19980 -20.205452 -18.086123  15.336816   \n",
       "4    0.7901  0.94010  1.62020  60.378315  -4.587010 -32.843533   \n",
       "..      ...      ...      ...        ...        ...        ...   \n",
       "225  0.6274  0.75990  0.88990   2.737564  11.904365  -2.744944   \n",
       "226  1.3500  4.16000  4.86000  -1.583090  -9.935959 -19.172449   \n",
       "227  3.1501  3.39840  3.91175  19.880718 -10.069228 -21.564419   \n",
       "228  0.5950  0.93000  1.14500   8.910795   6.025363   0.981416   \n",
       "229  0.9201  1.38000  1.47000 -23.228128   2.852106 -13.067237   \n",
       "\n",
       "     Segment K-means IQR Cluster                            IN FILE  \\\n",
       "0                      2   third    Arremon-brunneinucha-297000.wav   \n",
       "1                      2   third    Arremon-castaneiceps-261298.wav   \n",
       "2                      2   third    Automolus-infuscatus-270606.wav   \n",
       "3                      3  fourth   Automolus-rufipileatus-47553.wav   \n",
       "4                      1  second   Bolborhynchus-lineola-260395.wav   \n",
       "..                   ...     ...                                ...   \n",
       "225                    2   third      Sporophila-luctuosa-10617.wav   \n",
       "226                    3  fourth       Sporophila-plumbea-84743.wav   \n",
       "227                    1  second   Sporophila-schistacea-371548.wav   \n",
       "228                    2   third  Tachyphonus-phoenicius-357433.wav   \n",
       "229                    3  fourth  Tachyphonus-phoenicius-401522.wav   \n",
       "\n",
       "    LAST MOD BY          Genus  \n",
       "0         kkong        Arremon  \n",
       "1      EdZamora        Arremon  \n",
       "2         kkong      Automolus  \n",
       "3      EdZamora      Automolus  \n",
       "4      EdZamora  Bolborhynchus  \n",
       "..          ...            ...  \n",
       "225    EdZamora     Sporophila  \n",
       "226       kkong     Sporophila  \n",
       "227       kkong     Sporophila  \n",
       "228    EdZamora    Tachyphonus  \n",
       "229       kkong    Tachyphonus  \n",
       "\n",
       "[230 rows x 11 columns]"
      ]
     },
     "execution_count": 64,
     "metadata": {},
     "output_type": "execute_result"
    }
   ],
   "source": [
    "df_segm_iqr_kmeans"
   ]
  },
  {
   "cell_type": "code",
   "execution_count": 65,
   "metadata": {},
   "outputs": [
    {
     "data": {
      "application/vnd.plotly.v1+json": {
       "config": {
        "plotlyServerURL": "https://plot.ly"
       },
       "data": [
        {
         "hovertemplate": "<b>%{hovertext}</b><br><br>Cluster=third<br>TSNE1=%{x}<br>TSNE2=%{y}<br>TSNE3=%{z}<extra></extra>",
         "hovertext": [
          [
           "Arremon-brunneinucha-297000.wav",
           "kkong"
          ],
          [
           "Arremon-castaneiceps-261298.wav",
           "EdZamora"
          ],
          [
           "Automolus-infuscatus-270606.wav",
           "kkong"
          ],
          [
           "Bolborhynchus-orbygnesius-296534.wav",
           "kkong"
          ],
          [
           "Brotogeris-versicolurus-187532.wav",
           "EdZamora"
          ],
          [
           "Buteo-albonotatus-521956.wav",
           "EdZamora"
          ],
          [
           "Catamenia-inornata-105203.wav",
           "EdZamora"
          ],
          [
           "Coccyzus-americanus-100136.wav",
           "kkong"
          ],
          [
           "Coeligena-coeligena-20778.wav",
           "EdZamora"
          ],
          [
           "Colaptes-rupicola-18413.wav",
           "kkong"
          ],
          [
           "Conopophaga-peruviana-474787.wav",
           "kkong"
          ],
          [
           "Conopophaga-peruviana-6440.wav",
           "EdZamora"
          ],
          [
           "Crypturellus-bartletti-75993.wav",
           "EdZamora"
          ],
          [
           "Crypturellus-cinereus-29550.wav",
           "EdZamora"
          ],
          [
           "Crypturellus-soui-12055.wav",
           "EdZamora"
          ],
          [
           "Crypturellus-soui-221889.wav",
           "EdZamora"
          ],
          [
           "Dacnis-cayana-278933.wav",
           "EdZamora"
          ],
          [
           "Dendrocincla-fuliginosa-427299.wav",
           "EdZamora"
          ],
          [
           "Dryocopus-lineatus-152686.wav",
           "EdZamora"
          ],
          [
           "Elaenia-chiriquensis-494713.wav",
           "EdZamora"
          ],
          [
           "Elaenia-parvirostris-348111.wav",
           "kkong"
          ],
          [
           "Epinecrophylla-ornata-3901.wav",
           "EdZamora"
          ],
          [
           "Euchrepomis-humeralis-152502.wav",
           "kkong"
          ],
          [
           "Euphonia-chlorotica-264822.wav",
           "EdZamora"
          ],
          [
           "Euphonia-chlorotica-392016.wav",
           "EdZamora"
          ],
          [
           "Furnarius-leucopus-27804.wav",
           "EdZamora"
          ],
          [
           "Furnarius-leucopus-47719.wav",
           "kkong"
          ],
          [
           "Galbula-cyanicollis-504737.wav",
           "EdZamora"
          ],
          [
           "Helicolestes-hamatus-307915.wav",
           "EdZamora"
          ],
          [
           "Hemitriccus-griseipectus-284279.wav",
           "EdZamora"
          ],
          [
           "Hemitriccus-griseipectus-284293.wav",
           "EdZamora"
          ],
          [
           "Ictinia-mississippiensis-424385.wav",
           "EdZamora"
          ],
          [
           "Ictinia-plumbea-260333.wav",
           "EdZamora"
          ],
          [
           "Leptopogon-amaurocephalus-123230.wav",
           "kkong"
          ],
          [
           "Leptopogon-taczanowskii-3817.wav",
           "EdZamora"
          ],
          [
           "Leptotila-verreauxi-83049.wav",
           "EdZamora"
          ],
          [
           "Lurocalis-rufiventris-260439.wav",
           "EdZamora"
          ],
          [
           "Lurocalis-semitorquatus-257043.wav",
           "EdZamora"
          ],
          [
           "Micropygia-schomburgkii-278963.wav",
           "EdZamora"
          ],
          [
           "Mimus-triurus-22301.wav",
           "kkong"
          ],
          [
           "Mionectes-macconnelli-103176.wav",
           "kkong"
          ],
          [
           "Myadestes-ralloides-225872.wav",
           "kkong"
          ],
          [
           "Myiarchus-ferox-443445.wav",
           "kkong"
          ],
          [
           "Myiophobus-fasciatus-226134.wav",
           "kkong"
          ],
          [
           "Neopelma-sulphureiventer-30498.wav",
           "EdZamora"
          ],
          [
           "Pachyramphus-validus-284497.wav",
           "kkong"
          ],
          [
           "Pipile-cumanensis-257419.wav",
           "EdZamora"
          ],
          [
           "Piprites-chloris-11896.wav",
           "EdZamora"
          ],
          [
           "Psarocolius-atrovirens-228641.wav",
           "kkong"
          ],
          [
           "Psarocolius-atrovirens-97799.wav",
           "kkong"
          ],
          [
           "Pyrilia-barrabandi-117995.wav",
           "kkong"
          ],
          [
           "Pyrrhomyias-cinnamomeus-228807.wav",
           "EdZamora"
          ],
          [
           "Pyrrhomyias-cinnamomeus-97825.wav",
           "kkong"
          ],
          [
           "Ramphastos-tucanus-123206.wav",
           "EdZamora"
          ],
          [
           "Ramphocelus-carbo-59811.wav",
           "EdZamora"
          ],
          [
           "Saltator-grossus-259800.wav",
           "EdZamora"
          ],
          [
           "Setophaga-fusca-17515.wav",
           "EdZamora"
          ],
          [
           "Setophaga-petechia-243089.wav",
           "EdZamora"
          ],
          [
           "Sporophila-luctuosa-10617.wav",
           "EdZamora"
          ],
          [
           "Tachyphonus-phoenicius-357433.wav",
           "EdZamora"
          ]
         ],
         "legendgroup": "third",
         "marker": {
          "color": "#636efa",
          "symbol": "circle"
         },
         "mode": "markers",
         "name": "third",
         "scene": "scene",
         "showlegend": true,
         "type": "scatter3d",
         "x": [
          -4.793036460876465,
          -3.2348809242248535,
          -11.868632316589355,
          -9.717061042785645,
          18.213764190673828,
          8.648974418640137,
          5.523693084716797,
          -22.36310386657715,
          10.888326644897461,
          -9.780875205993652,
          -20.027801513671875,
          -16.939992904663086,
          15.203214645385742,
          22.11240577697754,
          13.65853214263916,
          4.2431111335754395,
          -25.35641860961914,
          -18.748306274414062,
          -1.622182011604309,
          2.7123141288757324,
          -9.374340057373047,
          -3.4033925533294678,
          -0.574819803237915,
          -2.8049111366271973,
          -9.534841537475586,
          -9.30342960357666,
          -1.9397386312484741,
          -15.310983657836914,
          31.44561195373535,
          -15.544410705566406,
          1.6615041494369507,
          1.3761687278747559,
          -4.850140571594238,
          -13.280570030212402,
          -26.908714294433594,
          -5.3338212966918945,
          16.877429962158203,
          2.0211830139160156,
          13.860566139221191,
          -8.208038330078125,
          11.380498886108398,
          11.674010276794434,
          -22.47553253173828,
          10.49206256866455,
          -1.7103897333145142,
          -18.00362205505371,
          -14.550528526306152,
          24.607046127319336,
          -2.3401339054107666,
          -11.451186180114746,
          12.436980247497559,
          3.5511207580566406,
          8.162369728088379,
          3.9512722492218018,
          -10.932750701904297,
          12.797640800476074,
          0.13473224639892578,
          1.0655615329742432,
          2.7375643253326416,
          8.910795211791992
         ],
         "y": [
          21.438495635986328,
          25.10940933227539,
          31.074386596679688,
          13.67707633972168,
          26.548498153686523,
          23.697315216064453,
          29.30152702331543,
          22.812753677368164,
          17.42315101623535,
          13.82036304473877,
          13.05428695678711,
          11.301836967468262,
          42.01863098144531,
          13.915221214294434,
          11.978541374206543,
          -2.649226188659668,
          21.271154403686523,
          11.283896446228027,
          26.181955337524414,
          9.300070762634277,
          47.0557975769043,
          -2.142432451248169,
          6.172600269317627,
          18.85835075378418,
          27.6175594329834,
          25.605548858642578,
          15.681746482849121,
          10.602646827697754,
          25.740671157836914,
          19.210338592529297,
          32.355316162109375,
          4.591322422027588,
          6.209957122802734,
          4.364343643188477,
          19.03683853149414,
          7.610172748565674,
          26.95963478088379,
          50.44928741455078,
          12.623148918151855,
          12.279109001159668,
          10.164647102355957,
          52.21674728393555,
          16.584064483642578,
          16.425643920898438,
          16.481306076049805,
          39.62089538574219,
          23.6915340423584,
          20.473819732666016,
          34.32704162597656,
          21.389738082885742,
          25.350183486938477,
          22.989290237426758,
          21.6979923248291,
          9.757302284240723,
          21.701696395874023,
          6.868043422698975,
          17.18993377685547,
          30.73312759399414,
          11.904364585876465,
          6.025362968444824
         ],
         "z": [
          -27.378454208374023,
          -10.347362518310547,
          8.09786319732666,
          -3.341731548309326,
          3.9383976459503174,
          3.5129554271698,
          -3.705354928970337,
          16.428272247314453,
          11.15494155883789,
          7.389169692993164,
          -14.588921546936035,
          -25.628931045532227,
          -0.3341321349143982,
          6.3673882484436035,
          -16.782258987426758,
          -0.9231931567192078,
          6.08559513092041,
          5.3427534103393555,
          8.046273231506348,
          -21.264949798583984,
          4.3485188484191895,
          -6.469852447509766,
          -31.210952758789062,
          0.884782612323761,
          -0.06210661679506302,
          22.16209602355957,
          11.348518371582031,
          -8.365407943725586,
          4.861658096313477,
          1.745752215385437,
          -15.26235580444336,
          -8.577058792114258,
          -0.12052415311336517,
          0.07718577980995178,
          -14.118593215942383,
          -13.098880767822266,
          -23.976938247680664,
          15.065299987792969,
          2.287489891052246,
          -21.71485710144043,
          -27.77057647705078,
          6.864317893981934,
          -5.474568843841553,
          -5.929001331329346,
          -8.762042999267578,
          30.629262924194336,
          -7.764688491821289,
          -4.936547756195068,
          -2.2394955158233643,
          -17.330032348632812,
          -9.627093315124512,
          15.79872989654541,
          -17.897066116333008,
          9.340253829956055,
          13.791715621948242,
          -8.092425346374512,
          -18.076711654663086,
          20.996417999267578,
          -2.7449440956115723,
          0.9814159870147705
         ]
        },
        {
         "hovertemplate": "<b>%{hovertext}</b><br><br>Cluster=fourth<br>TSNE1=%{x}<br>TSNE2=%{y}<br>TSNE3=%{z}<extra></extra>",
         "hovertext": [
          [
           "Automolus-rufipileatus-47553.wav",
           "EdZamora"
          ],
          [
           "Buteo-albonotatus-38891.wav",
           "kkong"
          ],
          [
           "Buteo-nitidus-47556.wav",
           "kkong"
          ],
          [
           "Campephilus-melanoleucos-453548.wav",
           "EdZamora"
          ],
          [
           "Catamenia-homochroa-261277.wav",
           "kkong"
          ],
          [
           "Catharus-dryas-510526.wav",
           "EdZamora"
          ],
          [
           "Catharus-fuscater-30494.wav",
           "kkong"
          ],
          [
           "Coccyzus-erythropthalmus-179829.wav",
           "kkong"
          ],
          [
           "Coccyzus-erythropthalmus-21096.wav",
           "EdZamora"
          ],
          [
           "Coeligena-violifer-2065.wav",
           "kkong"
          ],
          [
           "Coereba-flaveola-120284.wav",
           "kkong"
          ],
          [
           "Conopophaga-ardesiaca-6443.wav",
           "EdZamora"
          ],
          [
           "Contopus-virens-258860.wav",
           "kkong"
          ],
          [
           "Contopus-virens-475428.wav",
           "kkong"
          ],
          [
           "Crotophaga-ani-122247.wav",
           "kkong"
          ],
          [
           "Crypturellus-obsoletus-93395.wav",
           "EdZamora"
          ],
          [
           "Dacnis-cayana-257135.wav",
           "EdZamora"
          ],
          [
           "Daptrius-ater-20913.wav",
           "kkong"
          ],
          [
           "Dryocopus-lineatus-234589.wav",
           "kkong"
          ],
          [
           "Elaenia-gigas-347746.wav",
           "kkong"
          ],
          [
           "Elaenia-spectabilis-344852.wav",
           "kkong"
          ],
          [
           "Epinecrophylla-haematonota-298880.wav",
           "kkong"
          ],
          [
           "Euphonia-chrysopasta-171246.wav",
           "kkong"
          ],
          [
           "Euphonia-cyanocephala-275607.wav",
           "kkong"
          ],
          [
           "Falco-femoralis-414201.wav",
           "EdZamora"
          ],
          [
           "Glaucidium-brasilianum-38219.wav",
           "EdZamora"
          ],
          [
           "Glaucidium-brasilianum-410051.wav",
           "kkong"
          ],
          [
           "Glaucidium-parkeri-62899.wav",
           "kkong"
          ],
          [
           "Helicolestes-hamatus-188118.wav",
           "kkong"
          ],
          [
           "Heliodoxa-aurescens-4072.wav",
           "kkong"
          ],
          [
           "Hemitriccus-iohannis-47557.wav",
           "kkong"
          ],
          [
           "Henicorhina-leucophrys-224039.wav",
           "kkong"
          ],
          [
           "Hirundinea-ferruginea-297006.wav",
           "kkong"
          ],
          [
           "Iridosornis-analis-46899.wav",
           "kkong"
          ],
          [
           "Leptotila-rufaxilla-514683.wav",
           "EdZamora"
          ],
          [
           "Lurocalis-rufiventris-238436.wav",
           "kkong"
          ],
          [
           "Micrastur-buckleyi-260360.wav",
           "EdZamora"
          ],
          [
           "Micrastur-gilvicollis-504935.wav",
           "kkong"
          ],
          [
           "Micrastur-mirandollei-370558.wav",
           "kkong"
          ],
          [
           "Micropygia-schomburgkii-383545.wav",
           "kkong"
          ],
          [
           "Myiarchus-cephalotes-17857.wav",
           "EdZamora"
          ],
          [
           "Myiophobus-fasciatus-73123.wav",
           "EdZamora"
          ],
          [
           "Neopelma-sulphureiventer-151881.wav",
           "kkong"
          ],
          [
           "Phrygilus-fruticeti-112862.wav",
           "EdZamora"
          ],
          [
           "Phyllomyias-burmeisteri-334789.wav",
           "EdZamora"
          ],
          [
           "Picumnus-aurifrons-3174.wav",
           "EdZamora"
          ],
          [
           "Picumnus-subtilis-40307.wav",
           "kkong"
          ],
          [
           "Psarocolius-angustifrons-45659.wav",
           "kkong"
          ],
          [
           "Psarocolius-bifasciatus-146525.wav",
           "kkong"
          ],
          [
           "Psarocolius-bifasciatus-38449.wav",
           "kkong"
          ],
          [
           "Ramphastos-vitellinus-130215.wav",
           "EdZamora"
          ],
          [
           "Ramphocelus-nigrogularis-216612.wav",
           "EdZamora"
          ],
          [
           "Saltator-maximus-214117.wav",
           "EdZamora"
          ],
          [
           "Sarcoramphus-papa-488986.wav",
           "kkong"
          ],
          [
           "Setophaga-pitiayumi-8391.wav",
           "kkong"
          ],
          [
           "Sporophila-plumbea-84743.wav",
           "kkong"
          ],
          [
           "Tachyphonus-phoenicius-401522.wav",
           "kkong"
          ]
         ],
         "legendgroup": "fourth",
         "marker": {
          "color": "#EF553B",
          "symbol": "circle"
         },
         "mode": "markers",
         "name": "fourth",
         "scene": "scene",
         "showlegend": true,
         "type": "scatter3d",
         "x": [
          -20.20545196533203,
          -2.37756609916687,
          -87.52072143554688,
          -26.869342803955078,
          -8.102517127990723,
          -12.394735336303711,
          -6.568265914916992,
          -80.02313995361328,
          -35.41898727416992,
          -21.014116287231445,
          -13.690658569335938,
          -21.226430892944336,
          -11.277884483337402,
          -45.45962905883789,
          -42.72334671020508,
          -25.027076721191406,
          -17.937223434448242,
          -9.086901664733887,
          -19.448041915893555,
          -11.096339225769043,
          -19.62148666381836,
          -30.44919204711914,
          -90.72042083740234,
          -3.2679975032806396,
          -30.77954864501953,
          -13.229846954345703,
          0.33293765783309937,
          -13.466415405273438,
          -54.14080047607422,
          -26.315914154052734,
          -4.353374004364014,
          -10.037482261657715,
          -5.472190856933594,
          -14.35905647277832,
          -35.83168411254883,
          -12.490640640258789,
          -27.456392288208008,
          -8.519377708435059,
          -14.4629487991333,
          -5.781253337860107,
          -56.1788215637207,
          -25.312145233154297,
          -11.964484214782715,
          -22.938671112060547,
          -12.557428359985352,
          -3.469731569290161,
          -17.98567771911621,
          -14.41445255279541,
          -13.349841117858887,
          -5.261967182159424,
          -28.88458824157715,
          -38.245975494384766,
          -22.85674285888672,
          -4.921940326690674,
          -2.2007651329040527,
          -1.58309006690979,
          -23.22812843322754
         ],
         "y": [
          -18.086122512817383,
          -28.227548599243164,
          -8.105573654174805,
          -9.339033126831055,
          -6.203577518463135,
          1.489562749862671,
          -62.680931091308594,
          -62.881351470947266,
          4.89482307434082,
          -24.46651268005371,
          -48.72035217285156,
          3.3708102703094482,
          -6.455442905426025,
          11.697203636169434,
          2.896411895751953,
          -6.5316009521484375,
          -30.40764808654785,
          -40.92632293701172,
          -6.185470104217529,
          -24.345413208007812,
          0.9967188239097595,
          -4.4048848152160645,
          35.07384490966797,
          -8.461023330688477,
          9.7249116897583,
          -32.301143646240234,
          -20.04893684387207,
          -15.691305160522461,
          -107.47515869140625,
          9.892088890075684,
          -11.539986610412598,
          -11.600419998168945,
          -16.251272201538086,
          -13.091292381286621,
          -6.066052436828613,
          -21.02775001525879,
          0.8271762132644653,
          -29.120615005493164,
          -10.339546203613281,
          0.20060719549655914,
          -7.223008632659912,
          2.6873319149017334,
          -21.045522689819336,
          -19.009267807006836,
          -16.790603637695312,
          -34.071712493896484,
          -7.510422706604004,
          4.076210975646973,
          -1.759395956993103,
          -18.603899002075195,
          -5.498484134674072,
          -11.897527694702148,
          -9.555026054382324,
          -18.10121726989746,
          -30.056203842163086,
          -9.935958862304688,
          2.8521060943603516
         ],
         "z": [
          15.33681583404541,
          0.5001387000083923,
          7.717833042144775,
          2.1246349811553955,
          -14.145155906677246,
          -9.9633207321167,
          -4.825998783111572,
          -114.83777618408203,
          2.9918839931488037,
          -7.719557762145996,
          -13.438055038452148,
          -3.646441698074341,
          -4.915404319763184,
          -48.802005767822266,
          -5.618765354156494,
          -32.43442153930664,
          4.62246561050415,
          -3.389756679534912,
          -2.5671300888061523,
          -3.409073829650879,
          5.374420642852783,
          -13.643095016479492,
          -34.81362533569336,
          -30.83623695373535,
          -8.797538757324219,
          -5.635438919067383,
          -20.189802169799805,
          -3.069279670715332,
          -36.17300033569336,
          -0.7172612547874451,
          -3.8042140007019043,
          -24.087371826171875,
          4.093563556671143,
          -12.430469512939453,
          0.9818531274795532,
          7.309176921844482,
          3.8866305351257324,
          -21.98383140563965,
          6.349841594696045,
          -20.67171287536621,
          28.12159538269043,
          -23.14105987548828,
          -17.6083927154541,
          2.978367805480957,
          -40.50270462036133,
          7.831409931182861,
          -21.63307762145996,
          -19.474212646484375,
          -30.727609634399414,
          -10.295816421508789,
          11.855429649353027,
          -9.732922554016113,
          -10.148604393005371,
          -29.40963363647461,
          -12.377025604248047,
          -19.172449111938477,
          -13.06723690032959
         ]
        },
        {
         "hovertemplate": "<b>%{hovertext}</b><br><br>Cluster=second<br>TSNE1=%{x}<br>TSNE2=%{y}<br>TSNE3=%{z}<extra></extra>",
         "hovertext": [
          [
           "Bolborhynchus-lineola-260395.wav",
           "EdZamora"
          ],
          [
           "Brotogeris-cyanoptera-270616.wav",
           "kkong"
          ],
          [
           "Buteo-brachyurus-153385.wav",
           "kkong"
          ],
          [
           "Catamenia-inornata-259874.wav",
           "kkong"
          ],
          [
           "Cercomacroides-serva-39346.wav",
           "kkong"
          ],
          [
           "Colaptes-rivolii-228004.wav",
           "kkong"
          ],
          [
           "Colaptes-rubiginosus-437445.wav",
           "EdZamora"
          ],
          [
           "Cranioleuca-gutturata-38582.wav",
           "kkong"
          ],
          [
           "Crypturellus-parvirostris-415352.wav",
           "kkong"
          ],
          [
           "Crypturellus-strigulosus-221914.wav",
           "kkong"
          ],
          [
           "Daptrius-ater-145802.wav",
           "EdZamora"
          ],
          [
           "Diglossa-caerulescens-222422.wav",
           "kkong"
          ],
          [
           "Diglossa-glauca-275945.wav",
           "EdZamora"
          ],
          [
           "Epinecrophylla-amazonica-431875.wav",
           "EdZamora"
          ],
          [
           "Epinecrophylla-erythrura-61330.wav",
           "kkong"
          ],
          [
           "Euchrepomis-callinota-260793.wav",
           "EdZamora"
          ],
          [
           "Euchrepomis-humeralis-435880.wav",
           "EdZamora"
          ],
          [
           "Euchrepomis-humeralis-61311.wav",
           "EdZamora"
          ],
          [
           "Euphonia-rufiventris-427361.wav",
           "kkong"
          ],
          [
           "Falco-peregrinus-90360.wav",
           "kkong"
          ],
          [
           "Falco-rufigularis-332664.wav",
           "kkong"
          ],
          [
           "Falco-sparverius-483212.wav",
           "kkong"
          ],
          [
           "Hafferia-fortis-27835.wav",
           "kkong"
          ],
          [
           "Heliodoxa-schreibersii-257828.wav",
           "EdZamora"
          ],
          [
           "Hemitriccus-iohannis-270714.wav",
           "kkong"
          ],
          [
           "Hirundinea-ferruginea-462164.wav",
           "EdZamora"
          ],
          [
           "Hirundinea-ferruginea-81600.wav",
           "kkong"
          ],
          [
           "Ictinia-plumbea-507854.wav",
           "kkong"
          ],
          [
           "Iridosornis-analis-86306.wav",
           "kkong"
          ],
          [
           "Iridosornis-jelskii-36451.wav",
           "EdZamora"
          ],
          [
           "Iridosornis-jelskii-73743.wav",
           "EdZamora"
          ],
          [
           "Leptotila-rufaxilla-10120.wav",
           "kkong"
          ],
          [
           "Micrastur-gilvicollis-260354.wav",
           "kkong"
          ],
          [
           "Micrastur-semitorquatus-420105.wav",
           "kkong"
          ],
          [
           "Molothrus-bonariensis-476446.wav",
           "kkong"
          ],
          [
           "Molothrus-bonariensis-514653.wav",
           "EdZamora"
          ],
          [
           "Myiothlypis-fulvicauda-61021.wav",
           "kkong"
          ],
          [
           "Myiothlypis-luteoviridis-47315.wav",
           "kkong"
          ],
          [
           "Phrygilus-fruticeti-34033.wav",
           "kkong"
          ],
          [
           "Picumnus-rufiventris-228048.wav",
           "kkong"
          ],
          [
           "Pipile-cumanensis-257420.wav",
           "kkong"
          ],
          [
           "Piprites-chloris-183751.wav",
           "kkong"
          ],
          [
           "Platyrinchus-platyrhynchos-228410.wav",
           "kkong"
          ],
          [
           "Platyrinchus-platyrhynchos-483143.wav",
           "kkong"
          ],
          [
           "Psarocolius-angustifrons-122307.wav",
           "EdZamora"
          ],
          [
           "Psarocolius-bifasciatus-128985.wav",
           "kkong"
          ],
          [
           "Psarocolius-decumanus-122330.wav",
           "kkong"
          ],
          [
           "Psarocolius-decumanus-76074.wav",
           "kkong"
          ],
          [
           "Pyrilia-barrabandi-47937.wav",
           "EdZamora"
          ],
          [
           "Ramphocelus-carbo-446748.wav",
           "kkong"
          ],
          [
           "Rhynchocyclus-olivaceus-91509.wav",
           "kkong"
          ],
          [
           "Saltator-maximus-214115.wav",
           "EdZamora"
          ],
          [
           "Sporophila-schistacea-371548.wav",
           "kkong"
          ]
         ],
         "legendgroup": "second",
         "marker": {
          "color": "#00cc96",
          "symbol": "circle"
         },
         "mode": "markers",
         "name": "second",
         "scene": "scene",
         "showlegend": true,
         "type": "scatter3d",
         "x": [
          60.37831497192383,
          12.09052562713623,
          19.62165641784668,
          21.608169555664062,
          53.37879943847656,
          21.77495765686035,
          15.963689804077148,
          6.011261463165283,
          26.45780372619629,
          15.906820297241211,
          99.22865295410156,
          8.051748275756836,
          21.176204681396484,
          10.634739875793457,
          40.19072341918945,
          7.3486528396606445,
          3.3180809020996094,
          15.402519226074219,
          3.2757833003997803,
          34.17469024658203,
          5.081377983093262,
          3.1344940662384033,
          10.24609375,
          9.59831714630127,
          38.35910415649414,
          14.44835090637207,
          28.496185302734375,
          49.45013427734375,
          28.63673973083496,
          47.39158248901367,
          21.24184799194336,
          28.138431549072266,
          8.722746849060059,
          4.0453057289123535,
          30.047399520874023,
          12.851408958435059,
          52.22854232788086,
          6.758347988128662,
          12.659760475158691,
          19.24201774597168,
          7.006679058074951,
          27.79084014892578,
          76.58910369873047,
          13.635560035705566,
          7.458046913146973,
          21.13997459411621,
          19.324527740478516,
          37.9088020324707,
          29.84285545349121,
          63.743953704833984,
          20.392406463623047,
          4.088601589202881,
          19.880718231201172
         ],
         "y": [
          -4.587009906768799,
          -17.88058090209961,
          3.952260971069336,
          -16.805212020874023,
          -23.645843505859375,
          11.296334266662598,
          -0.17864073812961578,
          -3.511007070541382,
          2.330205202102661,
          -20.258909225463867,
          -33.582462310791016,
          -29.51348304748535,
          -5.128565788269043,
          -7.1323561668396,
          -22.136882781982422,
          -30.633760452270508,
          -2.4071786403656006,
          -26.294492721557617,
          -22.24750518798828,
          -45.216552734375,
          -22.362472534179688,
          -12.112960815429688,
          -18.269506454467773,
          -27.184131622314453,
          -28.04973602294922,
          -3.7615931034088135,
          8.230766296386719,
          -5.200140476226807,
          -1.3954740762710571,
          9.710628509521484,
          -23.16533851623535,
          -10.892107009887695,
          -3.907904624938965,
          -21.235267639160156,
          -3.0587847232818604,
          -17.073650360107422,
          26.73223114013672,
          -12.870034217834473,
          -7.018192291259766,
          -10.866416931152344,
          1.8281153440475464,
          -0.07287698239088058,
          -15.643354415893555,
          -0.3915504515171051,
          -16.08599090576172,
          5.052156448364258,
          -27.663293838500977,
          -14.604337692260742,
          -12.441865921020508,
          -3.734227418899536,
          -12.404666900634766,
          -11.911816596984863,
          -10.069228172302246
         ],
         "z": [
          -32.84353256225586,
          0.39129069447517395,
          -2.051184892654419,
          -15.204364776611328,
          -11.052726745605469,
          -10.97519302368164,
          -14.002400398254395,
          -10.685066223144531,
          7.714962482452393,
          -25.556364059448242,
          -23.056795120239258,
          -11.853738784790039,
          -8.301769256591797,
          -18.893428802490234,
          -13.191251754760742,
          -1.2019152641296387,
          -24.994945526123047,
          -4.3216047286987305,
          -9.060097694396973,
          16.46355438232422,
          -27.422698974609375,
          -13.117067337036133,
          -18.325408935546875,
          -21.96133804321289,
          -1.5871829986572266,
          3.0282583236694336,
          -4.5731306076049805,
          16.8880672454834,
          -1.7668861150741577,
          -34.09526443481445,
          5.945514678955078,
          4.585782527923584,
          -33.46134948730469,
          0.4643924832344055,
          14.38750171661377,
          -9.56333065032959,
          -96.13410949707031,
          -25.51683235168457,
          -6.488909721374512,
          8.120086669921875,
          -17.792057037353516,
          -16.228670120239258,
          -21.141124725341797,
          -26.373870849609375,
          -35.514156341552734,
          -21.978918075561523,
          -12.798562049865723,
          22.56798553466797,
          -6.850393772125244,
          -5.244911193847656,
          -1.2968957424163818,
          -2.2255208492279053,
          -21.56441879272461
         ]
        },
        {
         "hovertemplate": "<b>%{hovertext}</b><br><br>Cluster=fifth<br>TSNE1=%{x}<br>TSNE2=%{y}<br>TSNE3=%{z}<extra></extra>",
         "hovertext": [
          [
           "Campephilus-rubricollis-14386.wav",
           "kkong"
          ],
          [
           "Campephilus-rubricollis-464822.wav",
           "EdZamora"
          ],
          [
           "Catharus-ustulatus-259190.wav",
           "EdZamora"
          ],
          [
           "Cercomacroides-nigrescens-296738.wav",
           "EdZamora"
          ],
          [
           "Cercomacroides-serva-123310.wav",
           "EdZamora"
          ],
          [
           "Coereba-flaveola-37645.wav",
           "EdZamora"
          ],
          [
           "Colaptes-rubiginosus-238176.wav",
           "EdZamora"
          ],
          [
           "Colaptes-rubiginosus-5244.wav",
           "kkong"
          ],
          [
           "Colaptes-rupicola-74858.wav",
           "kkong"
          ],
          [
           "Contopus-fumigatus-3341.wav",
           "EdZamora"
          ],
          [
           "Cranioleuca-marcapatae-221711.wav",
           "EdZamora"
          ],
          [
           "Crotophaga-ani-122246.wav",
           "EdZamora"
          ],
          [
           "Dacnis-flaviventer-215511.wav",
           "kkong"
          ],
          [
           "Dacnis-lineata-47879.wav",
           "EdZamora"
          ],
          [
           "Dacnis-lineata-61829.wav",
           "kkong"
          ],
          [
           "Diglossa-brunneiventris-74843.wav",
           "kkong"
          ],
          [
           "Diglossa-glauca-20771.wav",
           "kkong"
          ],
          [
           "Epinecrophylla-leucophthalma-22458.wav",
           "EdZamora"
          ],
          [
           "Euphonia-laniirostris-45661.wav",
           "EdZamora"
          ],
          [
           "Euphonia-mesochrysa-468090.wav",
           "EdZamora"
          ],
          [
           "Euphonia-rufiventris-65575.wav",
           "kkong"
          ],
          [
           "Falco-femoralis-223018.wav",
           "kkong"
          ],
          [
           "Galbula-dea-388365.wav",
           "kkong"
          ],
          [
           "Galbula-leucogastra-352108.wav",
           "EdZamora"
          ],
          [
           "Galbula-leucogastra-47900.wav",
           "EdZamora"
          ],
          [
           "Hafferia-fortis-73866.wav",
           "EdZamora"
          ],
          [
           "Heliodoxa-leadbeateri-238365.wav",
           "EdZamora"
          ],
          [
           "Hemitriccus-cohnhafti-97441.wav",
           "kkong"
          ],
          [
           "Henicorhina-leucophrys-47403.wav",
           "EdZamora"
          ],
          [
           "Leptopogon-taczanowskii-105218.wav",
           "kkong"
          ],
          [
           "Micrastur-semitorquatus-453544.wav",
           "EdZamora"
          ],
          [
           "Micropygia-schomburgkii-279033.wav",
           "kkong"
          ],
          [
           "Mimus-triurus-306031.wav",
           "EdZamora"
          ],
          [
           "Mionectes-macconnelli-4083.wav",
           "kkong"
          ],
          [
           "Mionectes-olivaceus-108603.wav",
           "EdZamora"
          ],
          [
           "Mionectes-olivaceus-275426.wav",
           "EdZamora"
          ],
          [
           "Myadestes-ralloides-102655.wav",
           "EdZamora"
          ],
          [
           "Myiothlypis-bivittata-99606.wav",
           "EdZamora"
          ],
          [
           "Pachyramphus-minor-102547.wav",
           "EdZamora"
          ],
          [
           "Pachyramphus-minor-118916.wav",
           "EdZamora"
          ],
          [
           "Phyllomyias-uropygialis-3395.wav",
           "kkong"
          ],
          [
           "Platyrinchus-mystaceus-47831.wav",
           "EdZamora"
          ],
          [
           "Psarocolius-angustifrons-27823.wav",
           "kkong"
          ],
          [
           "Ramphastos-toco-52767.wav",
           "EdZamora"
          ],
          [
           "Ramphastos-vitellinus-665.wav",
           "kkong"
          ],
          [
           "Ramphocelus-nigrogularis-259704.wav",
           "EdZamora"
          ],
          [
           "Rhynchocyclus-fulvipectus-264697.wav",
           "EdZamora"
          ],
          [
           "Rhynchocyclus-fulvipectus-354301.wav",
           "EdZamora"
          ],
          [
           "Rhynchocyclus-olivaceus-525963.wav",
           "EdZamora"
          ],
          [
           "Saltator-coerulescens-188095.wav",
           "EdZamora"
          ],
          [
           "Saltator-coerulescens-259778.wav",
           "EdZamora"
          ],
          [
           "Saltator-coerulescens-270937.wav",
           "EdZamora"
          ],
          [
           "Saltator-grossus-151795.wav",
           "kkong"
          ],
          [
           "Saltator-grossus-27833.wav",
           "EdZamora"
          ],
          [
           "Saltator-maximus-450251.wav",
           "EdZamora"
          ],
          [
           "Sarcoramphus-papa-488987.wav",
           "EdZamora"
          ],
          [
           "Sporophila-hypochroma-51941.wav",
           "EdZamora"
          ]
         ],
         "legendgroup": "fifth",
         "marker": {
          "color": "#ab63fa",
          "symbol": "circle"
         },
         "mode": "markers",
         "name": "fifth",
         "scene": "scene",
         "showlegend": true,
         "type": "scatter3d",
         "x": [
          -19.933101654052734,
          -19.351343154907227,
          -19.978302001953125,
          -10.87279224395752,
          -26.461429595947266,
          43.91087341308594,
          -15.36722183227539,
          -2.823054075241089,
          11.882858276367188,
          -0.7580060958862305,
          37.58749771118164,
          -30.38591194152832,
          3.1597824096679688,
          24.206575393676758,
          -16.46561050415039,
          6.541515350341797,
          -2.530888795852661,
          -2.4491488933563232,
          -9.740635871887207,
          -15.079404830932617,
          -9.827494621276855,
          -0.12961481511592865,
          -13.253125190734863,
          -10.191701889038086,
          5.054624557495117,
          12.87289810180664,
          -8.910295486450195,
          -0.49821019172668457,
          -13.1893892288208,
          12.823430061340332,
          -2.746926784515381,
          2.7647287845611572,
          0.6253286004066467,
          -7.569482326507568,
          11.686676025390625,
          14.362156867980957,
          15.008727073669434,
          9.546021461486816,
          6.703719139099121,
          33.72467041015625,
          -1.5660560131072998,
          -5.763076305389404,
          -6.827578067779541,
          -8.373945236206055,
          15.975689888000488,
          -5.2721076011657715,
          8.346456527709961,
          17.142168045043945,
          0.6572298407554626,
          -9.892677307128906,
          11.687308311462402,
          -5.579450607299805,
          20.7783203125,
          1.3181270360946655,
          9.384150505065918,
          6.753599643707275,
          -2.0666399002075195
         ],
         "y": [
          -5.493244171142578,
          3.8595218658447266,
          2.5226171016693115,
          9.448439598083496,
          10.751138687133789,
          5.5592942237854,
          15.025776863098145,
          -31.748830795288086,
          21.899730682373047,
          9.480663299560547,
          -32.38089370727539,
          -7.390308856964111,
          -14.837067604064941,
          3.2434849739074707,
          12.831774711608887,
          3.8325982093811035,
          -3.738196611404419,
          11.466937065124512,
          -0.7257086634635925,
          -30.895469665527344,
          -23.505477905273438,
          -0.30594906210899353,
          3.219282388687134,
          38.947792053222656,
          14.845824241638184,
          -1.6526257991790771,
          -12.871186256408691,
          -7.719593048095703,
          -4.191601753234863,
          -12.03568172454834,
          -9.2315673828125,
          -24.10699462890625,
          1.5296369791030884,
          -2.706408739089966,
          7.94023323059082,
          -22.88951301574707,
          5.066331386566162,
          14.106351852416992,
          -9.931791305541992,
          29.279233932495117,
          21.533422470092773,
          16.17784881591797,
          -4.064777851104736,
          5.982077598571777,
          -6.3993706703186035,
          7.091238498687744,
          -11.392354011535645,
          9.578993797302246,
          4.984457969665527,
          -18.67320442199707,
          -22.961034774780273,
          -21.142988204956055,
          -17.366933822631836,
          -16.620473861694336,
          -2.0943470001220703,
          0.9518659114837646,
          -25.231307983398438
         ],
         "z": [
          12.108595848083496,
          18.3972110748291,
          27.56812286376953,
          29.526329040527344,
          15.744346618652344,
          62.674957275390625,
          24.102079391479492,
          31.95956802368164,
          21.040456771850586,
          25.357881546020508,
          61.545719146728516,
          23.45183563232422,
          24.0687198638916,
          16.413206100463867,
          15.198391914367676,
          36.70241165161133,
          20.109699249267578,
          34.65960693359375,
          28.797908782958984,
          37.987396240234375,
          17.93561363220215,
          30.392616271972656,
          10.03317928314209,
          53.95652389526367,
          19.91225242614746,
          29.602413177490234,
          16.98130989074707,
          8.302666664123535,
          19.63993263244629,
          25.44953727722168,
          31.35647964477539,
          18.783414840698242,
          6.484034538269043,
          12.522953987121582,
          16.290311813354492,
          34.90761947631836,
          8.007301330566406,
          31.02256202697754,
          16.703529357910156,
          50.04307174682617,
          29.72022819519043,
          20.668317794799805,
          3.2450480461120605,
          19.129955291748047,
          17.814950942993164,
          10.453490257263184,
          6.703352928161621,
          24.58757209777832,
          16.505733489990234,
          27.523820877075195,
          11.341874122619629,
          51.218326568603516,
          15.744921684265137,
          10.890021324157715,
          10.667993545532227,
          20.550268173217773,
          9.846529960632324
         ]
        },
        {
         "hovertemplate": "<b>%{hovertext}</b><br><br>Cluster=first<br>TSNE1=%{x}<br>TSNE2=%{y}<br>TSNE3=%{z}<extra></extra>",
         "hovertext": [
          [
           "Cranioleuca-gutturata-38441.wav",
           "EdZamora"
          ],
          [
           "Dendrocincla-fuliginosa-257073.wav",
           "kkong"
          ],
          [
           "Phyllomyias-plumbeiceps-70748.wav",
           "kkong"
          ]
         ],
         "legendgroup": "first",
         "marker": {
          "color": "#FFA15A",
          "symbol": "circle"
         },
         "mode": "markers",
         "name": "first",
         "scene": "scene",
         "showlegend": true,
         "type": "scatter3d",
         "x": [
          19.40850257873535,
          -55.055908203125,
          -22.767086029052734
         ],
         "y": [
          108.73361206054688,
          127.6928939819336,
          74.8462905883789
         ],
         "z": [
          -124.4551773071289,
          -6.578655242919922,
          -45.79472732543945
         ]
        }
       ],
       "layout": {
        "legend": {
         "title": {
          "text": "Cluster"
         },
         "tracegroupgap": 0
        },
        "margin": {
         "t": 60
        },
        "scene": {
         "domain": {
          "x": [
           0,
           1
          ],
          "y": [
           0,
           1
          ]
         },
         "xaxis": {
          "title": {
           "text": "TSNE1"
          }
         },
         "yaxis": {
          "title": {
           "text": "TSNE2"
          }
         },
         "zaxis": {
          "title": {
           "text": "TSNE3"
          }
         }
        },
        "template": {
         "data": {
          "bar": [
           {
            "error_x": {
             "color": "#2a3f5f"
            },
            "error_y": {
             "color": "#2a3f5f"
            },
            "marker": {
             "line": {
              "color": "#E5ECF6",
              "width": 0.5
             },
             "pattern": {
              "fillmode": "overlay",
              "size": 10,
              "solidity": 0.2
             }
            },
            "type": "bar"
           }
          ],
          "barpolar": [
           {
            "marker": {
             "line": {
              "color": "#E5ECF6",
              "width": 0.5
             },
             "pattern": {
              "fillmode": "overlay",
              "size": 10,
              "solidity": 0.2
             }
            },
            "type": "barpolar"
           }
          ],
          "carpet": [
           {
            "aaxis": {
             "endlinecolor": "#2a3f5f",
             "gridcolor": "white",
             "linecolor": "white",
             "minorgridcolor": "white",
             "startlinecolor": "#2a3f5f"
            },
            "baxis": {
             "endlinecolor": "#2a3f5f",
             "gridcolor": "white",
             "linecolor": "white",
             "minorgridcolor": "white",
             "startlinecolor": "#2a3f5f"
            },
            "type": "carpet"
           }
          ],
          "choropleth": [
           {
            "colorbar": {
             "outlinewidth": 0,
             "ticks": ""
            },
            "type": "choropleth"
           }
          ],
          "contour": [
           {
            "colorbar": {
             "outlinewidth": 0,
             "ticks": ""
            },
            "colorscale": [
             [
              0,
              "#0d0887"
             ],
             [
              0.1111111111111111,
              "#46039f"
             ],
             [
              0.2222222222222222,
              "#7201a8"
             ],
             [
              0.3333333333333333,
              "#9c179e"
             ],
             [
              0.4444444444444444,
              "#bd3786"
             ],
             [
              0.5555555555555556,
              "#d8576b"
             ],
             [
              0.6666666666666666,
              "#ed7953"
             ],
             [
              0.7777777777777778,
              "#fb9f3a"
             ],
             [
              0.8888888888888888,
              "#fdca26"
             ],
             [
              1,
              "#f0f921"
             ]
            ],
            "type": "contour"
           }
          ],
          "contourcarpet": [
           {
            "colorbar": {
             "outlinewidth": 0,
             "ticks": ""
            },
            "type": "contourcarpet"
           }
          ],
          "heatmap": [
           {
            "colorbar": {
             "outlinewidth": 0,
             "ticks": ""
            },
            "colorscale": [
             [
              0,
              "#0d0887"
             ],
             [
              0.1111111111111111,
              "#46039f"
             ],
             [
              0.2222222222222222,
              "#7201a8"
             ],
             [
              0.3333333333333333,
              "#9c179e"
             ],
             [
              0.4444444444444444,
              "#bd3786"
             ],
             [
              0.5555555555555556,
              "#d8576b"
             ],
             [
              0.6666666666666666,
              "#ed7953"
             ],
             [
              0.7777777777777778,
              "#fb9f3a"
             ],
             [
              0.8888888888888888,
              "#fdca26"
             ],
             [
              1,
              "#f0f921"
             ]
            ],
            "type": "heatmap"
           }
          ],
          "heatmapgl": [
           {
            "colorbar": {
             "outlinewidth": 0,
             "ticks": ""
            },
            "colorscale": [
             [
              0,
              "#0d0887"
             ],
             [
              0.1111111111111111,
              "#46039f"
             ],
             [
              0.2222222222222222,
              "#7201a8"
             ],
             [
              0.3333333333333333,
              "#9c179e"
             ],
             [
              0.4444444444444444,
              "#bd3786"
             ],
             [
              0.5555555555555556,
              "#d8576b"
             ],
             [
              0.6666666666666666,
              "#ed7953"
             ],
             [
              0.7777777777777778,
              "#fb9f3a"
             ],
             [
              0.8888888888888888,
              "#fdca26"
             ],
             [
              1,
              "#f0f921"
             ]
            ],
            "type": "heatmapgl"
           }
          ],
          "histogram": [
           {
            "marker": {
             "pattern": {
              "fillmode": "overlay",
              "size": 10,
              "solidity": 0.2
             }
            },
            "type": "histogram"
           }
          ],
          "histogram2d": [
           {
            "colorbar": {
             "outlinewidth": 0,
             "ticks": ""
            },
            "colorscale": [
             [
              0,
              "#0d0887"
             ],
             [
              0.1111111111111111,
              "#46039f"
             ],
             [
              0.2222222222222222,
              "#7201a8"
             ],
             [
              0.3333333333333333,
              "#9c179e"
             ],
             [
              0.4444444444444444,
              "#bd3786"
             ],
             [
              0.5555555555555556,
              "#d8576b"
             ],
             [
              0.6666666666666666,
              "#ed7953"
             ],
             [
              0.7777777777777778,
              "#fb9f3a"
             ],
             [
              0.8888888888888888,
              "#fdca26"
             ],
             [
              1,
              "#f0f921"
             ]
            ],
            "type": "histogram2d"
           }
          ],
          "histogram2dcontour": [
           {
            "colorbar": {
             "outlinewidth": 0,
             "ticks": ""
            },
            "colorscale": [
             [
              0,
              "#0d0887"
             ],
             [
              0.1111111111111111,
              "#46039f"
             ],
             [
              0.2222222222222222,
              "#7201a8"
             ],
             [
              0.3333333333333333,
              "#9c179e"
             ],
             [
              0.4444444444444444,
              "#bd3786"
             ],
             [
              0.5555555555555556,
              "#d8576b"
             ],
             [
              0.6666666666666666,
              "#ed7953"
             ],
             [
              0.7777777777777778,
              "#fb9f3a"
             ],
             [
              0.8888888888888888,
              "#fdca26"
             ],
             [
              1,
              "#f0f921"
             ]
            ],
            "type": "histogram2dcontour"
           }
          ],
          "mesh3d": [
           {
            "colorbar": {
             "outlinewidth": 0,
             "ticks": ""
            },
            "type": "mesh3d"
           }
          ],
          "parcoords": [
           {
            "line": {
             "colorbar": {
              "outlinewidth": 0,
              "ticks": ""
             }
            },
            "type": "parcoords"
           }
          ],
          "pie": [
           {
            "automargin": true,
            "type": "pie"
           }
          ],
          "scatter": [
           {
            "marker": {
             "colorbar": {
              "outlinewidth": 0,
              "ticks": ""
             }
            },
            "type": "scatter"
           }
          ],
          "scatter3d": [
           {
            "line": {
             "colorbar": {
              "outlinewidth": 0,
              "ticks": ""
             }
            },
            "marker": {
             "colorbar": {
              "outlinewidth": 0,
              "ticks": ""
             }
            },
            "type": "scatter3d"
           }
          ],
          "scattercarpet": [
           {
            "marker": {
             "colorbar": {
              "outlinewidth": 0,
              "ticks": ""
             }
            },
            "type": "scattercarpet"
           }
          ],
          "scattergeo": [
           {
            "marker": {
             "colorbar": {
              "outlinewidth": 0,
              "ticks": ""
             }
            },
            "type": "scattergeo"
           }
          ],
          "scattergl": [
           {
            "marker": {
             "colorbar": {
              "outlinewidth": 0,
              "ticks": ""
             }
            },
            "type": "scattergl"
           }
          ],
          "scattermapbox": [
           {
            "marker": {
             "colorbar": {
              "outlinewidth": 0,
              "ticks": ""
             }
            },
            "type": "scattermapbox"
           }
          ],
          "scatterpolar": [
           {
            "marker": {
             "colorbar": {
              "outlinewidth": 0,
              "ticks": ""
             }
            },
            "type": "scatterpolar"
           }
          ],
          "scatterpolargl": [
           {
            "marker": {
             "colorbar": {
              "outlinewidth": 0,
              "ticks": ""
             }
            },
            "type": "scatterpolargl"
           }
          ],
          "scatterternary": [
           {
            "marker": {
             "colorbar": {
              "outlinewidth": 0,
              "ticks": ""
             }
            },
            "type": "scatterternary"
           }
          ],
          "surface": [
           {
            "colorbar": {
             "outlinewidth": 0,
             "ticks": ""
            },
            "colorscale": [
             [
              0,
              "#0d0887"
             ],
             [
              0.1111111111111111,
              "#46039f"
             ],
             [
              0.2222222222222222,
              "#7201a8"
             ],
             [
              0.3333333333333333,
              "#9c179e"
             ],
             [
              0.4444444444444444,
              "#bd3786"
             ],
             [
              0.5555555555555556,
              "#d8576b"
             ],
             [
              0.6666666666666666,
              "#ed7953"
             ],
             [
              0.7777777777777778,
              "#fb9f3a"
             ],
             [
              0.8888888888888888,
              "#fdca26"
             ],
             [
              1,
              "#f0f921"
             ]
            ],
            "type": "surface"
           }
          ],
          "table": [
           {
            "cells": {
             "fill": {
              "color": "#EBF0F8"
             },
             "line": {
              "color": "white"
             }
            },
            "header": {
             "fill": {
              "color": "#C8D4E3"
             },
             "line": {
              "color": "white"
             }
            },
            "type": "table"
           }
          ]
         },
         "layout": {
          "annotationdefaults": {
           "arrowcolor": "#2a3f5f",
           "arrowhead": 0,
           "arrowwidth": 1
          },
          "autotypenumbers": "strict",
          "coloraxis": {
           "colorbar": {
            "outlinewidth": 0,
            "ticks": ""
           }
          },
          "colorscale": {
           "diverging": [
            [
             0,
             "#8e0152"
            ],
            [
             0.1,
             "#c51b7d"
            ],
            [
             0.2,
             "#de77ae"
            ],
            [
             0.3,
             "#f1b6da"
            ],
            [
             0.4,
             "#fde0ef"
            ],
            [
             0.5,
             "#f7f7f7"
            ],
            [
             0.6,
             "#e6f5d0"
            ],
            [
             0.7,
             "#b8e186"
            ],
            [
             0.8,
             "#7fbc41"
            ],
            [
             0.9,
             "#4d9221"
            ],
            [
             1,
             "#276419"
            ]
           ],
           "sequential": [
            [
             0,
             "#0d0887"
            ],
            [
             0.1111111111111111,
             "#46039f"
            ],
            [
             0.2222222222222222,
             "#7201a8"
            ],
            [
             0.3333333333333333,
             "#9c179e"
            ],
            [
             0.4444444444444444,
             "#bd3786"
            ],
            [
             0.5555555555555556,
             "#d8576b"
            ],
            [
             0.6666666666666666,
             "#ed7953"
            ],
            [
             0.7777777777777778,
             "#fb9f3a"
            ],
            [
             0.8888888888888888,
             "#fdca26"
            ],
            [
             1,
             "#f0f921"
            ]
           ],
           "sequentialminus": [
            [
             0,
             "#0d0887"
            ],
            [
             0.1111111111111111,
             "#46039f"
            ],
            [
             0.2222222222222222,
             "#7201a8"
            ],
            [
             0.3333333333333333,
             "#9c179e"
            ],
            [
             0.4444444444444444,
             "#bd3786"
            ],
            [
             0.5555555555555556,
             "#d8576b"
            ],
            [
             0.6666666666666666,
             "#ed7953"
            ],
            [
             0.7777777777777778,
             "#fb9f3a"
            ],
            [
             0.8888888888888888,
             "#fdca26"
            ],
            [
             1,
             "#f0f921"
            ]
           ]
          },
          "colorway": [
           "#636efa",
           "#EF553B",
           "#00cc96",
           "#ab63fa",
           "#FFA15A",
           "#19d3f3",
           "#FF6692",
           "#B6E880",
           "#FF97FF",
           "#FECB52"
          ],
          "font": {
           "color": "#2a3f5f"
          },
          "geo": {
           "bgcolor": "white",
           "lakecolor": "white",
           "landcolor": "#E5ECF6",
           "showlakes": true,
           "showland": true,
           "subunitcolor": "white"
          },
          "hoverlabel": {
           "align": "left"
          },
          "hovermode": "closest",
          "mapbox": {
           "style": "light"
          },
          "paper_bgcolor": "white",
          "plot_bgcolor": "#E5ECF6",
          "polar": {
           "angularaxis": {
            "gridcolor": "white",
            "linecolor": "white",
            "ticks": ""
           },
           "bgcolor": "#E5ECF6",
           "radialaxis": {
            "gridcolor": "white",
            "linecolor": "white",
            "ticks": ""
           }
          },
          "scene": {
           "xaxis": {
            "backgroundcolor": "#E5ECF6",
            "gridcolor": "white",
            "gridwidth": 2,
            "linecolor": "white",
            "showbackground": true,
            "ticks": "",
            "zerolinecolor": "white"
           },
           "yaxis": {
            "backgroundcolor": "#E5ECF6",
            "gridcolor": "white",
            "gridwidth": 2,
            "linecolor": "white",
            "showbackground": true,
            "ticks": "",
            "zerolinecolor": "white"
           },
           "zaxis": {
            "backgroundcolor": "#E5ECF6",
            "gridcolor": "white",
            "gridwidth": 2,
            "linecolor": "white",
            "showbackground": true,
            "ticks": "",
            "zerolinecolor": "white"
           }
          },
          "shapedefaults": {
           "line": {
            "color": "#2a3f5f"
           }
          },
          "ternary": {
           "aaxis": {
            "gridcolor": "white",
            "linecolor": "white",
            "ticks": ""
           },
           "baxis": {
            "gridcolor": "white",
            "linecolor": "white",
            "ticks": ""
           },
           "bgcolor": "#E5ECF6",
           "caxis": {
            "gridcolor": "white",
            "linecolor": "white",
            "ticks": ""
           }
          },
          "title": {
           "x": 0.05
          },
          "xaxis": {
           "automargin": true,
           "gridcolor": "white",
           "linecolor": "white",
           "ticks": "",
           "title": {
            "standoff": 15
           },
           "zerolinecolor": "white",
           "zerolinewidth": 2
          },
          "yaxis": {
           "automargin": true,
           "gridcolor": "white",
           "linecolor": "white",
           "ticks": "",
           "title": {
            "standoff": 15
           },
           "zerolinecolor": "white",
           "zerolinewidth": 2
          }
         }
        },
        "title": {
         "text": "kkong & EdZamora Annotations",
         "x": 0.5
        }
       }
      }
     },
     "metadata": {},
     "output_type": "display_data"
    }
   ],
   "source": [
    "import plotly.express as px \n",
    "import plotly.graph_objects as go\n",
    "import numpy as np\n",
    "\n",
    "\n",
    "fig = px.scatter_3d(df_segm_iqr_kmeans, \n",
    "                    x='TSNE1',\n",
    "                    y='TSNE2',\n",
    "                    z='TSNE3' , \n",
    "                    color = df_segm_iqr_kmeans['Cluster'],\n",
    "                    hover_name = list(tuple(zip(df_segm_iqr_kmeans['IN FILE'],df_segm_iqr_kmeans['LAST MOD BY'])))) \n",
    "\n",
    "\n",
    "#color = Y, color_discrete_sequence= px.colors.qualitative.G10)\n",
    "\n",
    "\n",
    "# clust_1 = df_segm_iqr_kmeans[df_segm_iqr_kmeans['Cluster'] == 'first']\n",
    "# x, y, z = clust_1['TSNE1'], clust_1['TSNE2'], clust_1['TSNE3']\n",
    "# fig.add_trace(go.Figure(data=[go.Mesh3d(x=x, y=y, z=z, color='lightblue', opacity=0.50)]).data[0])\n",
    "\n",
    "\n",
    "# clust_2 = df_segm_iqr_kmeans[df_segm_iqr_kmeans['Cluster'] == 'second']\n",
    "# x2, y2, z2 = clust_2['TSNE1'], clust_2['TSNE2'], clust_2['TSNE3']\n",
    "# fig.add_trace(go.Figure(data=[go.Mesh3d(x=x2, y=y2, z=z2, color='lightblue', opacity=0.50)]).data[0])\n",
    "\n",
    "\n",
    "# clust_3 = df_segm_iqr_kmeans[df_segm_iqr_kmeans['Cluster'] == 'third']\n",
    "# x3, y3, z3 = clust_3['TSNE1'], clust_3['TSNE2'], clust_3['TSNE3']\n",
    "# fig.add_trace(go.Figure(data=[go.Mesh3d(x=x3, y=y3, z=z3, color='lightblue', opacity=0.50)]).data[0])\n",
    "\n",
    "\n",
    "# clust_4 = df_segm_iqr_kmeans[df_segm_iqr_kmeans['Cluster'] == 'fourth']\n",
    "# x4, y4, z4 = clust_4['TSNE1'], clust_4['TSNE2'], clust_4['TSNE3']\n",
    "# fig.add_trace(go.Figure(data=[go.Mesh3d(x=x4, y=y4, z=z4, color='lightblue', opacity=0.50)]).data[0])\n",
    "\n",
    "\n",
    "# clust_5 = df_segm_iqr_kmeans[df_segm_iqr_kmeans['Cluster'] == 'fifth']\n",
    "# x5, y5, z5 = clust_5['TSNE1'], clust_5['TSNE2'], clust_5['TSNE3']\n",
    "# fig.add_trace(go.Figure(data=[go.Mesh3d(x=x5, y=y5, z=z5, color='lightblue', opacity=0.50)]).data[0])\n",
    "\n",
    "\n",
    "fig.update_layout(title_text= (' & '.join(df_segm_iqr_kmeans['LAST MOD BY'].unique()) + ' Annotations'), title_x=0.5)\n",
    "fig.show()"
   ]
  },
  {
   "cell_type": "code",
   "execution_count": 66,
   "metadata": {},
   "outputs": [
    {
     "data": {
      "text/html": [
       "<div>\n",
       "<style scoped>\n",
       "    .dataframe tbody tr th:only-of-type {\n",
       "        vertical-align: middle;\n",
       "    }\n",
       "\n",
       "    .dataframe tbody tr th {\n",
       "        vertical-align: top;\n",
       "    }\n",
       "\n",
       "    .dataframe thead th {\n",
       "        text-align: right;\n",
       "    }\n",
       "</style>\n",
       "<table border=\"1\" class=\"dataframe\">\n",
       "  <thead>\n",
       "    <tr style=\"text-align: right;\">\n",
       "      <th></th>\n",
       "      <th>IN FILE</th>\n",
       "      <th>CLIP LENGTH</th>\n",
       "      <th>OFFSET</th>\n",
       "      <th>DURATION</th>\n",
       "      <th>MAX FREQ</th>\n",
       "      <th>MIN FREQ</th>\n",
       "      <th>SAMPLE RATE</th>\n",
       "      <th>MANUAL ID</th>\n",
       "      <th>TIME_SPENT</th>\n",
       "      <th>LAST MOD BY</th>\n",
       "      <th>LAST MOD DATE</th>\n",
       "      <th>LAST MOD TIME</th>\n",
       "    </tr>\n",
       "  </thead>\n",
       "  <tbody>\n",
       "    <tr>\n",
       "      <th>1890</th>\n",
       "      <td>Arremon-brunneinucha-297000.wav</td>\n",
       "      <td>17.8416</td>\n",
       "      <td>8.2753</td>\n",
       "      <td>2.0102</td>\n",
       "      <td>24000</td>\n",
       "      <td>0</td>\n",
       "      <td>44100</td>\n",
       "      <td>Arremon brunneinucha Chestnut-capped Brushfinch</td>\n",
       "      <td>16.952</td>\n",
       "      <td>kkong</td>\n",
       "      <td>11/09/2021</td>\n",
       "      <td>03:55:24</td>\n",
       "    </tr>\n",
       "    <tr>\n",
       "      <th>1891</th>\n",
       "      <td>Arremon-brunneinucha-297000.wav</td>\n",
       "      <td>17.8416</td>\n",
       "      <td>14.5259</td>\n",
       "      <td>1.9101</td>\n",
       "      <td>24000</td>\n",
       "      <td>0</td>\n",
       "      <td>44100</td>\n",
       "      <td>Arremon brunneinucha Chestnut-capped Brushfinch</td>\n",
       "      <td>16.953</td>\n",
       "      <td>kkong</td>\n",
       "      <td>11/09/2021</td>\n",
       "      <td>03:55:24</td>\n",
       "    </tr>\n",
       "    <tr>\n",
       "      <th>1892</th>\n",
       "      <td>Arremon-brunneinucha-297000.wav</td>\n",
       "      <td>17.8416</td>\n",
       "      <td>0.4146</td>\n",
       "      <td>1.8401</td>\n",
       "      <td>24000</td>\n",
       "      <td>0</td>\n",
       "      <td>44100</td>\n",
       "      <td>Arremon brunneinucha Chestnut-capped Brushfinch</td>\n",
       "      <td>16.951</td>\n",
       "      <td>kkong</td>\n",
       "      <td>11/09/2021</td>\n",
       "      <td>03:55:24</td>\n",
       "    </tr>\n",
       "    <tr>\n",
       "      <th>1911</th>\n",
       "      <td>Arremon-castaneiceps-261298.wav</td>\n",
       "      <td>22.4131</td>\n",
       "      <td>5.8007</td>\n",
       "      <td>0.8098</td>\n",
       "      <td>24000</td>\n",
       "      <td>0</td>\n",
       "      <td>44100</td>\n",
       "      <td>Arremon castaneiceps Olive Finch</td>\n",
       "      <td>728.701</td>\n",
       "      <td>EdZamora</td>\n",
       "      <td>10/26/2021</td>\n",
       "      <td>09:58:56</td>\n",
       "    </tr>\n",
       "    <tr>\n",
       "      <th>1912</th>\n",
       "      <td>Arremon-castaneiceps-261298.wav</td>\n",
       "      <td>22.4131</td>\n",
       "      <td>1.8319</td>\n",
       "      <td>0.6898</td>\n",
       "      <td>24000</td>\n",
       "      <td>0</td>\n",
       "      <td>44100</td>\n",
       "      <td>Arremon castaneiceps Olive Finch</td>\n",
       "      <td>728.700</td>\n",
       "      <td>EdZamora</td>\n",
       "      <td>10/26/2021</td>\n",
       "      <td>09:58:56</td>\n",
       "    </tr>\n",
       "    <tr>\n",
       "      <th>...</th>\n",
       "      <td>...</td>\n",
       "      <td>...</td>\n",
       "      <td>...</td>\n",
       "      <td>...</td>\n",
       "      <td>...</td>\n",
       "      <td>...</td>\n",
       "      <td>...</td>\n",
       "      <td>...</td>\n",
       "      <td>...</td>\n",
       "      <td>...</td>\n",
       "      <td>...</td>\n",
       "      <td>...</td>\n",
       "    </tr>\n",
       "    <tr>\n",
       "      <th>26612</th>\n",
       "      <td>Tachyphonus-phoenicius-401522.wav</td>\n",
       "      <td>51.1920</td>\n",
       "      <td>45.2183</td>\n",
       "      <td>1.4901</td>\n",
       "      <td>24000</td>\n",
       "      <td>0</td>\n",
       "      <td>48000</td>\n",
       "      <td>Tachyphonus phoenicius Red-shouldered Tanager</td>\n",
       "      <td>1.565</td>\n",
       "      <td>kkong</td>\n",
       "      <td>11/19/2021</td>\n",
       "      <td>09:52:38</td>\n",
       "    </tr>\n",
       "    <tr>\n",
       "      <th>26613</th>\n",
       "      <td>Tachyphonus-phoenicius-401522.wav</td>\n",
       "      <td>51.1920</td>\n",
       "      <td>43.6983</td>\n",
       "      <td>1.3300</td>\n",
       "      <td>24000</td>\n",
       "      <td>0</td>\n",
       "      <td>48000</td>\n",
       "      <td>Tachyphonus phoenicius Red-shouldered Tanager</td>\n",
       "      <td>1.562</td>\n",
       "      <td>kkong</td>\n",
       "      <td>11/19/2021</td>\n",
       "      <td>09:52:38</td>\n",
       "    </tr>\n",
       "    <tr>\n",
       "      <th>26614</th>\n",
       "      <td>Tachyphonus-phoenicius-401522.wav</td>\n",
       "      <td>51.1920</td>\n",
       "      <td>46.9084</td>\n",
       "      <td>1.4801</td>\n",
       "      <td>24000</td>\n",
       "      <td>0</td>\n",
       "      <td>48000</td>\n",
       "      <td>Tachyphonus phoenicius Red-shouldered Tanager</td>\n",
       "      <td>1.564</td>\n",
       "      <td>kkong</td>\n",
       "      <td>11/19/2021</td>\n",
       "      <td>09:52:38</td>\n",
       "    </tr>\n",
       "    <tr>\n",
       "      <th>26615</th>\n",
       "      <td>Tachyphonus-phoenicius-401522.wav</td>\n",
       "      <td>51.1920</td>\n",
       "      <td>48.5385</td>\n",
       "      <td>1.3800</td>\n",
       "      <td>24000</td>\n",
       "      <td>0</td>\n",
       "      <td>48000</td>\n",
       "      <td>Tachyphonus phoenicius Red-shouldered Tanager</td>\n",
       "      <td>1.568</td>\n",
       "      <td>kkong</td>\n",
       "      <td>11/19/2021</td>\n",
       "      <td>09:52:38</td>\n",
       "    </tr>\n",
       "    <tr>\n",
       "      <th>26616</th>\n",
       "      <td>Tachyphonus-phoenicius-401522.wav</td>\n",
       "      <td>51.1920</td>\n",
       "      <td>50.1385</td>\n",
       "      <td>0.8401</td>\n",
       "      <td>24000</td>\n",
       "      <td>0</td>\n",
       "      <td>48000</td>\n",
       "      <td>Tachyphonus phoenicius Red-shouldered Tanager</td>\n",
       "      <td>1.577</td>\n",
       "      <td>kkong</td>\n",
       "      <td>11/19/2021</td>\n",
       "      <td>09:52:38</td>\n",
       "    </tr>\n",
       "  </tbody>\n",
       "</table>\n",
       "<p>3720 rows × 12 columns</p>\n",
       "</div>"
      ],
      "text/plain": [
       "                                 IN FILE  CLIP LENGTH   OFFSET  DURATION  \\\n",
       "1890     Arremon-brunneinucha-297000.wav      17.8416   8.2753    2.0102   \n",
       "1891     Arremon-brunneinucha-297000.wav      17.8416  14.5259    1.9101   \n",
       "1892     Arremon-brunneinucha-297000.wav      17.8416   0.4146    1.8401   \n",
       "1911     Arremon-castaneiceps-261298.wav      22.4131   5.8007    0.8098   \n",
       "1912     Arremon-castaneiceps-261298.wav      22.4131   1.8319    0.6898   \n",
       "...                                  ...          ...      ...       ...   \n",
       "26612  Tachyphonus-phoenicius-401522.wav      51.1920  45.2183    1.4901   \n",
       "26613  Tachyphonus-phoenicius-401522.wav      51.1920  43.6983    1.3300   \n",
       "26614  Tachyphonus-phoenicius-401522.wav      51.1920  46.9084    1.4801   \n",
       "26615  Tachyphonus-phoenicius-401522.wav      51.1920  48.5385    1.3800   \n",
       "26616  Tachyphonus-phoenicius-401522.wav      51.1920  50.1385    0.8401   \n",
       "\n",
       "       MAX FREQ  MIN FREQ  SAMPLE RATE  \\\n",
       "1890      24000         0        44100   \n",
       "1891      24000         0        44100   \n",
       "1892      24000         0        44100   \n",
       "1911      24000         0        44100   \n",
       "1912      24000         0        44100   \n",
       "...         ...       ...          ...   \n",
       "26612     24000         0        48000   \n",
       "26613     24000         0        48000   \n",
       "26614     24000         0        48000   \n",
       "26615     24000         0        48000   \n",
       "26616     24000         0        48000   \n",
       "\n",
       "                                             MANUAL ID  TIME_SPENT  \\\n",
       "1890   Arremon brunneinucha Chestnut-capped Brushfinch      16.952   \n",
       "1891   Arremon brunneinucha Chestnut-capped Brushfinch      16.953   \n",
       "1892   Arremon brunneinucha Chestnut-capped Brushfinch      16.951   \n",
       "1911                  Arremon castaneiceps Olive Finch     728.701   \n",
       "1912                  Arremon castaneiceps Olive Finch     728.700   \n",
       "...                                                ...         ...   \n",
       "26612    Tachyphonus phoenicius Red-shouldered Tanager       1.565   \n",
       "26613    Tachyphonus phoenicius Red-shouldered Tanager       1.562   \n",
       "26614    Tachyphonus phoenicius Red-shouldered Tanager       1.564   \n",
       "26615    Tachyphonus phoenicius Red-shouldered Tanager       1.568   \n",
       "26616    Tachyphonus phoenicius Red-shouldered Tanager       1.577   \n",
       "\n",
       "      LAST MOD BY LAST MOD DATE LAST MOD TIME  \n",
       "1890        kkong    11/09/2021      03:55:24  \n",
       "1891        kkong    11/09/2021      03:55:24  \n",
       "1892        kkong    11/09/2021      03:55:24  \n",
       "1911     EdZamora    10/26/2021      09:58:56  \n",
       "1912     EdZamora    10/26/2021      09:58:56  \n",
       "...           ...           ...           ...  \n",
       "26612       kkong    11/19/2021      09:52:38  \n",
       "26613       kkong    11/19/2021      09:52:38  \n",
       "26614       kkong    11/19/2021      09:52:38  \n",
       "26615       kkong    11/19/2021      09:52:38  \n",
       "26616       kkong    11/19/2021      09:52:38  \n",
       "\n",
       "[3720 rows x 12 columns]"
      ]
     },
     "execution_count": 66,
     "metadata": {},
     "output_type": "execute_result"
    }
   ],
   "source": [
    "kaleidoscope_format = pd.read_csv('for_data_science_newline_fixed.csv')\n",
    "for_kaleidoscope = kaleidoscope_format[kaleidoscope_format['IN FILE'].isin(df_segm_iqr_kmeans['IN FILE'].to_list())] \n",
    "for_kaleidoscope"
   ]
  },
  {
   "cell_type": "code",
   "execution_count": null,
   "metadata": {},
   "outputs": [],
   "source": []
  }
 ],
 "metadata": {
  "interpreter": {
   "hash": "d1b7c51cb1c07a1a0543a455994ca61e31e66a1747528d0d0492d9b5937ed4ce"
  },
  "kernelspec": {
   "display_name": "Python 3.8.12 ('tweety')",
   "language": "python",
   "name": "python3"
  },
  "language_info": {
   "codemirror_mode": {
    "name": "ipython",
    "version": 3
   },
   "file_extension": ".py",
   "mimetype": "text/x-python",
   "name": "python",
   "nbconvert_exporter": "python",
   "pygments_lexer": "ipython3",
   "version": "3.8.12"
  },
  "orig_nbformat": 4
 },
 "nbformat": 4,
 "nbformat_minor": 2
}
