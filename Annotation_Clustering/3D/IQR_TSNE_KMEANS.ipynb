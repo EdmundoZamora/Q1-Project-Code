{
 "cells": [
  {
   "cell_type": "code",
   "execution_count": 1,
   "metadata": {},
   "outputs": [],
   "source": [
    "import numpy as np\n",
    "import pandas as pd\n",
    "import matplotlib.pyplot as plt\n",
    "import seaborn as sns\n",
    "import random\n",
    "from scipy import stats\n",
    "sns.set()\n",
    "\n",
    "from sklearn.preprocessing import StandardScaler\n",
    "\n",
    "from sklearn.cluster import KMeans\n",
    "from sklearn.decomposition import PCA\n",
    "from sklearn.manifold import TSNE"
   ]
  },
  {
   "cell_type": "code",
   "execution_count": 2,
   "metadata": {},
   "outputs": [
    {
     "data": {
      "text/html": [
       "<div>\n",
       "<style scoped>\n",
       "    .dataframe tbody tr th:only-of-type {\n",
       "        vertical-align: middle;\n",
       "    }\n",
       "\n",
       "    .dataframe tbody tr th {\n",
       "        vertical-align: top;\n",
       "    }\n",
       "\n",
       "    .dataframe thead th {\n",
       "        text-align: right;\n",
       "    }\n",
       "</style>\n",
       "<table border=\"1\" class=\"dataframe\">\n",
       "  <thead>\n",
       "    <tr style=\"text-align: right;\">\n",
       "      <th></th>\n",
       "      <th>IN FILE</th>\n",
       "      <th>CLIP LENGTH</th>\n",
       "      <th>OFFSET</th>\n",
       "      <th>DURATION</th>\n",
       "      <th>LAST MOD BY</th>\n",
       "    </tr>\n",
       "  </thead>\n",
       "  <tbody>\n",
       "    <tr>\n",
       "      <th>0</th>\n",
       "      <td>Aburria-aburri-257423.wav</td>\n",
       "      <td>24.6335</td>\n",
       "      <td>2.3614</td>\n",
       "      <td>3.3205</td>\n",
       "      <td>alarce</td>\n",
       "    </tr>\n",
       "    <tr>\n",
       "      <th>1</th>\n",
       "      <td>Aburria-aburri-257423.wav</td>\n",
       "      <td>24.6335</td>\n",
       "      <td>6.7320</td>\n",
       "      <td>2.0103</td>\n",
       "      <td>alarce</td>\n",
       "    </tr>\n",
       "    <tr>\n",
       "      <th>2</th>\n",
       "      <td>Aburria-aburri-257423.wav</td>\n",
       "      <td>24.6335</td>\n",
       "      <td>19.2438</td>\n",
       "      <td>3.4505</td>\n",
       "      <td>alarce</td>\n",
       "    </tr>\n",
       "    <tr>\n",
       "      <th>3</th>\n",
       "      <td>Aburria-aburri-387212.wav</td>\n",
       "      <td>84.4800</td>\n",
       "      <td>0.6011</td>\n",
       "      <td>3.0800</td>\n",
       "      <td>alarce</td>\n",
       "    </tr>\n",
       "    <tr>\n",
       "      <th>4</th>\n",
       "      <td>Aburria-aburri-387212.wav</td>\n",
       "      <td>84.4800</td>\n",
       "      <td>77.6811</td>\n",
       "      <td>3.1400</td>\n",
       "      <td>alarce</td>\n",
       "    </tr>\n",
       "  </tbody>\n",
       "</table>\n",
       "</div>"
      ],
      "text/plain": [
       "                     IN FILE  CLIP LENGTH   OFFSET  DURATION LAST MOD BY\n",
       "0  Aburria-aburri-257423.wav      24.6335   2.3614    3.3205      alarce\n",
       "1  Aburria-aburri-257423.wav      24.6335   6.7320    2.0103      alarce\n",
       "2  Aburria-aburri-257423.wav      24.6335  19.2438    3.4505      alarce\n",
       "3  Aburria-aburri-387212.wav      84.4800   0.6011    3.0800      alarce\n",
       "4  Aburria-aburri-387212.wav      84.4800  77.6811    3.1400      alarce"
      ]
     },
     "execution_count": 2,
     "metadata": {},
     "output_type": "execute_result"
    }
   ],
   "source": [
    "frame = pd.read_csv('for_data_science_newline_fixed.csv', usecols = [\"IN FILE\",\"LAST MOD BY\",\"CLIP LENGTH\",\"OFFSET\",\"DURATION\"])\n",
    "frame.head()"
   ]
  },
  {
   "cell_type": "code",
   "execution_count": 3,
   "metadata": {},
   "outputs": [
    {
     "data": {
      "text/html": [
       "<div>\n",
       "<style scoped>\n",
       "    .dataframe tbody tr th:only-of-type {\n",
       "        vertical-align: middle;\n",
       "    }\n",
       "\n",
       "    .dataframe tbody tr th {\n",
       "        vertical-align: top;\n",
       "    }\n",
       "\n",
       "    .dataframe thead th {\n",
       "        text-align: right;\n",
       "    }\n",
       "</style>\n",
       "<table border=\"1\" class=\"dataframe\">\n",
       "  <thead>\n",
       "    <tr style=\"text-align: right;\">\n",
       "      <th></th>\n",
       "      <th>IN FILE</th>\n",
       "      <th>CLIP LENGTH</th>\n",
       "      <th>OFFSET</th>\n",
       "      <th>DURATION</th>\n",
       "      <th>LAST MOD BY</th>\n",
       "      <th>GENUS</th>\n",
       "    </tr>\n",
       "  </thead>\n",
       "  <tbody>\n",
       "    <tr>\n",
       "      <th>0</th>\n",
       "      <td>Aburria-aburri-257423.wav</td>\n",
       "      <td>24.6335</td>\n",
       "      <td>2.3614</td>\n",
       "      <td>3.3205</td>\n",
       "      <td>alarce</td>\n",
       "      <td>Aburria</td>\n",
       "    </tr>\n",
       "    <tr>\n",
       "      <th>1</th>\n",
       "      <td>Aburria-aburri-257423.wav</td>\n",
       "      <td>24.6335</td>\n",
       "      <td>6.7320</td>\n",
       "      <td>2.0103</td>\n",
       "      <td>alarce</td>\n",
       "      <td>Aburria</td>\n",
       "    </tr>\n",
       "    <tr>\n",
       "      <th>2</th>\n",
       "      <td>Aburria-aburri-257423.wav</td>\n",
       "      <td>24.6335</td>\n",
       "      <td>19.2438</td>\n",
       "      <td>3.4505</td>\n",
       "      <td>alarce</td>\n",
       "      <td>Aburria</td>\n",
       "    </tr>\n",
       "    <tr>\n",
       "      <th>3</th>\n",
       "      <td>Aburria-aburri-387212.wav</td>\n",
       "      <td>84.4800</td>\n",
       "      <td>0.6011</td>\n",
       "      <td>3.0800</td>\n",
       "      <td>alarce</td>\n",
       "      <td>Aburria</td>\n",
       "    </tr>\n",
       "    <tr>\n",
       "      <th>4</th>\n",
       "      <td>Aburria-aburri-387212.wav</td>\n",
       "      <td>84.4800</td>\n",
       "      <td>77.6811</td>\n",
       "      <td>3.1400</td>\n",
       "      <td>alarce</td>\n",
       "      <td>Aburria</td>\n",
       "    </tr>\n",
       "  </tbody>\n",
       "</table>\n",
       "</div>"
      ],
      "text/plain": [
       "                     IN FILE  CLIP LENGTH   OFFSET  DURATION LAST MOD BY  \\\n",
       "0  Aburria-aburri-257423.wav      24.6335   2.3614    3.3205      alarce   \n",
       "1  Aburria-aburri-257423.wav      24.6335   6.7320    2.0103      alarce   \n",
       "2  Aburria-aburri-257423.wav      24.6335  19.2438    3.4505      alarce   \n",
       "3  Aburria-aburri-387212.wav      84.4800   0.6011    3.0800      alarce   \n",
       "4  Aburria-aburri-387212.wav      84.4800  77.6811    3.1400      alarce   \n",
       "\n",
       "     GENUS  \n",
       "0  Aburria  \n",
       "1  Aburria  \n",
       "2  Aburria  \n",
       "3  Aburria  \n",
       "4  Aburria  "
      ]
     },
     "execution_count": 3,
     "metadata": {},
     "output_type": "execute_result"
    }
   ],
   "source": [
    "def species(row):\n",
    "    species = row['IN FILE']\n",
    "    spec = species.split('-')\n",
    "    spec_to = '-'.join(spec[:-2])\n",
    "    return spec_to\n",
    "\n",
    "frame['GENUS'] = frame.apply (lambda row: species(row), axis=1)\n",
    "frame.head()"
   ]
  },
  {
   "cell_type": "code",
   "execution_count": 4,
   "metadata": {},
   "outputs": [],
   "source": [
    "LAST_MOD_BY = frame.groupby('IN FILE')[['LAST MOD BY']].max()\n",
    "GENUS = frame.groupby('IN FILE')[['GENUS']].max()"
   ]
  },
  {
   "cell_type": "code",
   "execution_count": 5,
   "metadata": {},
   "outputs": [
    {
     "data": {
      "text/html": [
       "<div>\n",
       "<style scoped>\n",
       "    .dataframe tbody tr th:only-of-type {\n",
       "        vertical-align: middle;\n",
       "    }\n",
       "\n",
       "    .dataframe tbody tr th {\n",
       "        vertical-align: top;\n",
       "    }\n",
       "\n",
       "    .dataframe thead th {\n",
       "        text-align: right;\n",
       "    }\n",
       "</style>\n",
       "<table border=\"1\" class=\"dataframe\">\n",
       "  <thead>\n",
       "    <tr style=\"text-align: right;\">\n",
       "      <th></th>\n",
       "      <th>IN FILE</th>\n",
       "      <th>0.25</th>\n",
       "      <th>0.5</th>\n",
       "      <th>0.75</th>\n",
       "      <th>LAST MOD BY</th>\n",
       "      <th>GENUS</th>\n",
       "    </tr>\n",
       "  </thead>\n",
       "  <tbody>\n",
       "    <tr>\n",
       "      <th>0</th>\n",
       "      <td>Aburria-aburri-257423.wav</td>\n",
       "      <td>2.665400</td>\n",
       "      <td>3.3205</td>\n",
       "      <td>3.3855</td>\n",
       "      <td>alarce</td>\n",
       "      <td>Aburria</td>\n",
       "    </tr>\n",
       "    <tr>\n",
       "      <th>1</th>\n",
       "      <td>Aburria-aburri-387212.wav</td>\n",
       "      <td>3.110000</td>\n",
       "      <td>3.1400</td>\n",
       "      <td>3.1700</td>\n",
       "      <td>alarce</td>\n",
       "      <td>Aburria</td>\n",
       "    </tr>\n",
       "    <tr>\n",
       "      <th>2</th>\n",
       "      <td>Accipiter-bicolor-451839.wav</td>\n",
       "      <td>0.202975</td>\n",
       "      <td>0.2155</td>\n",
       "      <td>0.2215</td>\n",
       "      <td>alarce</td>\n",
       "      <td>Accipiter</td>\n",
       "    </tr>\n",
       "    <tr>\n",
       "      <th>3</th>\n",
       "      <td>Accipiter-collaris-260335.wav</td>\n",
       "      <td>0.895100</td>\n",
       "      <td>1.0301</td>\n",
       "      <td>1.0876</td>\n",
       "      <td>alarce</td>\n",
       "      <td>Accipiter</td>\n",
       "    </tr>\n",
       "    <tr>\n",
       "      <th>4</th>\n",
       "      <td>Accipiter-collaris-260336.wav</td>\n",
       "      <td>0.515075</td>\n",
       "      <td>0.5701</td>\n",
       "      <td>0.6700</td>\n",
       "      <td>alarce</td>\n",
       "      <td>Accipiter</td>\n",
       "    </tr>\n",
       "  </tbody>\n",
       "</table>\n",
       "</div>"
      ],
      "text/plain": [
       "                         IN FILE      0.25     0.5    0.75 LAST MOD BY  \\\n",
       "0      Aburria-aburri-257423.wav  2.665400  3.3205  3.3855      alarce   \n",
       "1      Aburria-aburri-387212.wav  3.110000  3.1400  3.1700      alarce   \n",
       "2   Accipiter-bicolor-451839.wav  0.202975  0.2155  0.2215      alarce   \n",
       "3  Accipiter-collaris-260335.wav  0.895100  1.0301  1.0876      alarce   \n",
       "4  Accipiter-collaris-260336.wav  0.515075  0.5701  0.6700      alarce   \n",
       "\n",
       "       GENUS  \n",
       "0    Aburria  \n",
       "1    Aburria  \n",
       "2  Accipiter  \n",
       "3  Accipiter  \n",
       "4  Accipiter  "
      ]
     },
     "execution_count": 5,
     "metadata": {},
     "output_type": "execute_result"
    }
   ],
   "source": [
    "IQR_DURATION = frame.groupby('IN FILE')[['DURATION']].quantile([.25,.5,.75])\n",
    "IQR_DURATION = IQR_DURATION.unstack(1)\n",
    "IQR_DURATION = IQR_DURATION['DURATION'].rename_axis([None], axis=1)\n",
    "IQR_DURATION = IQR_DURATION.join(LAST_MOD_BY)\n",
    "IQR_DURATION = IQR_DURATION.join(GENUS).reset_index()\n",
    "IQR_DURATION = IQR_DURATION.rename(columns = {.25:'0.25',.5:'0.5',.75:'0.75'})\n",
    "IQR_DURATION.head()"
   ]
  },
  {
   "cell_type": "code",
   "execution_count": 6,
   "metadata": {},
   "outputs": [
    {
     "name": "stdout",
     "output_type": "stream",
     "text": [
      "['EdZamora', 'kkong']\n",
      "Index(['Tangara', 'Psarocolius', 'Schiffornis', 'Saltator', 'Euphonia'], dtype='object')\n"
     ]
    },
    {
     "data": {
      "text/html": [
       "<div>\n",
       "<style scoped>\n",
       "    .dataframe tbody tr th:only-of-type {\n",
       "        vertical-align: middle;\n",
       "    }\n",
       "\n",
       "    .dataframe tbody tr th {\n",
       "        vertical-align: top;\n",
       "    }\n",
       "\n",
       "    .dataframe thead th {\n",
       "        text-align: right;\n",
       "    }\n",
       "</style>\n",
       "<table border=\"1\" class=\"dataframe\">\n",
       "  <thead>\n",
       "    <tr style=\"text-align: right;\">\n",
       "      <th></th>\n",
       "      <th>IN FILE</th>\n",
       "      <th>0.25</th>\n",
       "      <th>0.5</th>\n",
       "      <th>0.75</th>\n",
       "      <th>LAST MOD BY</th>\n",
       "      <th>GENUS</th>\n",
       "    </tr>\n",
       "  </thead>\n",
       "  <tbody>\n",
       "    <tr>\n",
       "      <th>788</th>\n",
       "      <td>Euphonia-chlorotica-264822.wav</td>\n",
       "      <td>0.482500</td>\n",
       "      <td>0.56505</td>\n",
       "      <td>0.832600</td>\n",
       "      <td>EdZamora</td>\n",
       "      <td>Euphonia</td>\n",
       "    </tr>\n",
       "    <tr>\n",
       "      <th>789</th>\n",
       "      <td>Euphonia-chlorotica-392016.wav</td>\n",
       "      <td>0.230000</td>\n",
       "      <td>0.33000</td>\n",
       "      <td>0.540000</td>\n",
       "      <td>EdZamora</td>\n",
       "      <td>Euphonia</td>\n",
       "    </tr>\n",
       "    <tr>\n",
       "      <th>791</th>\n",
       "      <td>Euphonia-chrysopasta-171246.wav</td>\n",
       "      <td>1.312500</td>\n",
       "      <td>1.46000</td>\n",
       "      <td>1.694750</td>\n",
       "      <td>kkong</td>\n",
       "      <td>Euphonia</td>\n",
       "    </tr>\n",
       "    <tr>\n",
       "      <th>793</th>\n",
       "      <td>Euphonia-cyanocephala-275607.wav</td>\n",
       "      <td>3.408800</td>\n",
       "      <td>4.13860</td>\n",
       "      <td>4.198550</td>\n",
       "      <td>kkong</td>\n",
       "      <td>Euphonia</td>\n",
       "    </tr>\n",
       "    <tr>\n",
       "      <th>798</th>\n",
       "      <td>Euphonia-laniirostris-45661.wav</td>\n",
       "      <td>0.329925</td>\n",
       "      <td>0.42495</td>\n",
       "      <td>0.607400</td>\n",
       "      <td>EdZamora</td>\n",
       "      <td>Euphonia</td>\n",
       "    </tr>\n",
       "    <tr>\n",
       "      <th>799</th>\n",
       "      <td>Euphonia-mesochrysa-468090.wav</td>\n",
       "      <td>0.225000</td>\n",
       "      <td>0.31000</td>\n",
       "      <td>0.510000</td>\n",
       "      <td>EdZamora</td>\n",
       "      <td>Euphonia</td>\n",
       "    </tr>\n",
       "    <tr>\n",
       "      <th>801</th>\n",
       "      <td>Euphonia-rufiventris-427361.wav</td>\n",
       "      <td>2.362800</td>\n",
       "      <td>2.51530</td>\n",
       "      <td>2.667800</td>\n",
       "      <td>kkong</td>\n",
       "      <td>Euphonia</td>\n",
       "    </tr>\n",
       "    <tr>\n",
       "      <th>802</th>\n",
       "      <td>Euphonia-rufiventris-65575.wav</td>\n",
       "      <td>1.140000</td>\n",
       "      <td>1.15000</td>\n",
       "      <td>1.165000</td>\n",
       "      <td>kkong</td>\n",
       "      <td>Euphonia</td>\n",
       "    </tr>\n",
       "    <tr>\n",
       "      <th>1744</th>\n",
       "      <td>Psarocolius-angustifrons-122307.wav</td>\n",
       "      <td>1.515075</td>\n",
       "      <td>1.55500</td>\n",
       "      <td>1.602500</td>\n",
       "      <td>EdZamora</td>\n",
       "      <td>Psarocolius</td>\n",
       "    </tr>\n",
       "    <tr>\n",
       "      <th>1745</th>\n",
       "      <td>Psarocolius-angustifrons-27823.wav</td>\n",
       "      <td>0.802500</td>\n",
       "      <td>0.98490</td>\n",
       "      <td>1.217500</td>\n",
       "      <td>kkong</td>\n",
       "      <td>Psarocolius</td>\n",
       "    </tr>\n",
       "    <tr>\n",
       "      <th>1746</th>\n",
       "      <td>Psarocolius-angustifrons-45659.wav</td>\n",
       "      <td>1.890100</td>\n",
       "      <td>2.35020</td>\n",
       "      <td>3.664800</td>\n",
       "      <td>kkong</td>\n",
       "      <td>Psarocolius</td>\n",
       "    </tr>\n",
       "    <tr>\n",
       "      <th>1747</th>\n",
       "      <td>Psarocolius-atrovirens-228641.wav</td>\n",
       "      <td>0.849900</td>\n",
       "      <td>0.85990</td>\n",
       "      <td>0.879900</td>\n",
       "      <td>kkong</td>\n",
       "      <td>Psarocolius</td>\n",
       "    </tr>\n",
       "    <tr>\n",
       "      <th>1749</th>\n",
       "      <td>Psarocolius-atrovirens-97799.wav</td>\n",
       "      <td>0.907425</td>\n",
       "      <td>0.93995</td>\n",
       "      <td>1.187500</td>\n",
       "      <td>kkong</td>\n",
       "      <td>Psarocolius</td>\n",
       "    </tr>\n",
       "    <tr>\n",
       "      <th>1750</th>\n",
       "      <td>Psarocolius-bifasciatus-128985.wav</td>\n",
       "      <td>1.929900</td>\n",
       "      <td>2.15990</td>\n",
       "      <td>2.409750</td>\n",
       "      <td>kkong</td>\n",
       "      <td>Psarocolius</td>\n",
       "    </tr>\n",
       "    <tr>\n",
       "      <th>1751</th>\n",
       "      <td>Psarocolius-bifasciatus-146525.wav</td>\n",
       "      <td>2.247500</td>\n",
       "      <td>2.31500</td>\n",
       "      <td>2.330000</td>\n",
       "      <td>kkong</td>\n",
       "      <td>Psarocolius</td>\n",
       "    </tr>\n",
       "    <tr>\n",
       "      <th>1753</th>\n",
       "      <td>Psarocolius-bifasciatus-38449.wav</td>\n",
       "      <td>2.150000</td>\n",
       "      <td>2.15010</td>\n",
       "      <td>2.190000</td>\n",
       "      <td>kkong</td>\n",
       "      <td>Psarocolius</td>\n",
       "    </tr>\n",
       "    <tr>\n",
       "      <th>1755</th>\n",
       "      <td>Psarocolius-decumanus-122330.wav</td>\n",
       "      <td>1.467400</td>\n",
       "      <td>1.49490</td>\n",
       "      <td>1.517425</td>\n",
       "      <td>kkong</td>\n",
       "      <td>Psarocolius</td>\n",
       "    </tr>\n",
       "    <tr>\n",
       "      <th>1757</th>\n",
       "      <td>Psarocolius-decumanus-76074.wav</td>\n",
       "      <td>1.005000</td>\n",
       "      <td>1.10500</td>\n",
       "      <td>1.212500</td>\n",
       "      <td>kkong</td>\n",
       "      <td>Psarocolius</td>\n",
       "    </tr>\n",
       "    <tr>\n",
       "      <th>1862</th>\n",
       "      <td>Saltator-coerulescens-188095.wav</td>\n",
       "      <td>1.959700</td>\n",
       "      <td>1.98970</td>\n",
       "      <td>2.029700</td>\n",
       "      <td>EdZamora</td>\n",
       "      <td>Saltator</td>\n",
       "    </tr>\n",
       "    <tr>\n",
       "      <th>1863</th>\n",
       "      <td>Saltator-coerulescens-259778.wav</td>\n",
       "      <td>0.417500</td>\n",
       "      <td>0.47000</td>\n",
       "      <td>0.512500</td>\n",
       "      <td>EdZamora</td>\n",
       "      <td>Saltator</td>\n",
       "    </tr>\n",
       "    <tr>\n",
       "      <th>1864</th>\n",
       "      <td>Saltator-coerulescens-270937.wav</td>\n",
       "      <td>2.138950</td>\n",
       "      <td>2.20890</td>\n",
       "      <td>2.208950</td>\n",
       "      <td>EdZamora</td>\n",
       "      <td>Saltator</td>\n",
       "    </tr>\n",
       "    <tr>\n",
       "      <th>1865</th>\n",
       "      <td>Saltator-grossus-151795.wav</td>\n",
       "      <td>1.469700</td>\n",
       "      <td>1.47970</td>\n",
       "      <td>1.539800</td>\n",
       "      <td>kkong</td>\n",
       "      <td>Saltator</td>\n",
       "    </tr>\n",
       "    <tr>\n",
       "      <th>1866</th>\n",
       "      <td>Saltator-grossus-259800.wav</td>\n",
       "      <td>1.490000</td>\n",
       "      <td>1.52500</td>\n",
       "      <td>1.537500</td>\n",
       "      <td>EdZamora</td>\n",
       "      <td>Saltator</td>\n",
       "    </tr>\n",
       "    <tr>\n",
       "      <th>1867</th>\n",
       "      <td>Saltator-grossus-27833.wav</td>\n",
       "      <td>1.204925</td>\n",
       "      <td>1.35490</td>\n",
       "      <td>1.439900</td>\n",
       "      <td>EdZamora</td>\n",
       "      <td>Saltator</td>\n",
       "    </tr>\n",
       "    <tr>\n",
       "      <th>1868</th>\n",
       "      <td>Saltator-maximus-214115.wav</td>\n",
       "      <td>1.190000</td>\n",
       "      <td>1.71000</td>\n",
       "      <td>1.800000</td>\n",
       "      <td>EdZamora</td>\n",
       "      <td>Saltator</td>\n",
       "    </tr>\n",
       "    <tr>\n",
       "      <th>1869</th>\n",
       "      <td>Saltator-maximus-214117.wav</td>\n",
       "      <td>0.594900</td>\n",
       "      <td>0.64990</td>\n",
       "      <td>0.699900</td>\n",
       "      <td>EdZamora</td>\n",
       "      <td>Saltator</td>\n",
       "    </tr>\n",
       "    <tr>\n",
       "      <th>1871</th>\n",
       "      <td>Saltator-maximus-450251.wav</td>\n",
       "      <td>0.769925</td>\n",
       "      <td>0.83490</td>\n",
       "      <td>0.899900</td>\n",
       "      <td>EdZamora</td>\n",
       "      <td>Saltator</td>\n",
       "    </tr>\n",
       "    <tr>\n",
       "      <th>1878</th>\n",
       "      <td>Schiffornis-aenea-542811.wav</td>\n",
       "      <td>2.112325</td>\n",
       "      <td>2.13490</td>\n",
       "      <td>2.202325</td>\n",
       "      <td>EdZamora</td>\n",
       "      <td>Schiffornis</td>\n",
       "    </tr>\n",
       "    <tr>\n",
       "      <th>1879</th>\n",
       "      <td>Schiffornis-aenea-542813.wav</td>\n",
       "      <td>1.969700</td>\n",
       "      <td>2.02975</td>\n",
       "      <td>2.117200</td>\n",
       "      <td>EdZamora</td>\n",
       "      <td>Schiffornis</td>\n",
       "    </tr>\n",
       "    <tr>\n",
       "      <th>1880</th>\n",
       "      <td>Schiffornis-aenea-542814.wav</td>\n",
       "      <td>2.040000</td>\n",
       "      <td>2.11000</td>\n",
       "      <td>2.150000</td>\n",
       "      <td>EdZamora</td>\n",
       "      <td>Schiffornis</td>\n",
       "    </tr>\n",
       "    <tr>\n",
       "      <th>1881</th>\n",
       "      <td>Schiffornis-major-102619.wav</td>\n",
       "      <td>1.154900</td>\n",
       "      <td>1.19990</td>\n",
       "      <td>1.207400</td>\n",
       "      <td>EdZamora</td>\n",
       "      <td>Schiffornis</td>\n",
       "    </tr>\n",
       "    <tr>\n",
       "      <th>1882</th>\n",
       "      <td>Schiffornis-major-229321.wav</td>\n",
       "      <td>0.520000</td>\n",
       "      <td>0.55500</td>\n",
       "      <td>0.682500</td>\n",
       "      <td>EdZamora</td>\n",
       "      <td>Schiffornis</td>\n",
       "    </tr>\n",
       "    <tr>\n",
       "      <th>1883</th>\n",
       "      <td>Schiffornis-major-296584.wav</td>\n",
       "      <td>0.755800</td>\n",
       "      <td>0.79840</td>\n",
       "      <td>0.810700</td>\n",
       "      <td>EdZamora</td>\n",
       "      <td>Schiffornis</td>\n",
       "    </tr>\n",
       "    <tr>\n",
       "      <th>1884</th>\n",
       "      <td>Schiffornis-turdina-151821.wav</td>\n",
       "      <td>0.749900</td>\n",
       "      <td>0.82000</td>\n",
       "      <td>1.209900</td>\n",
       "      <td>EdZamora</td>\n",
       "      <td>Schiffornis</td>\n",
       "    </tr>\n",
       "    <tr>\n",
       "      <th>1885</th>\n",
       "      <td>Schiffornis-turdina-27841.wav</td>\n",
       "      <td>0.914900</td>\n",
       "      <td>1.12990</td>\n",
       "      <td>1.459900</td>\n",
       "      <td>EdZamora</td>\n",
       "      <td>Schiffornis</td>\n",
       "    </tr>\n",
       "    <tr>\n",
       "      <th>1886</th>\n",
       "      <td>Schiffornis-turdina-76029.wav</td>\n",
       "      <td>0.475000</td>\n",
       "      <td>0.52495</td>\n",
       "      <td>0.834975</td>\n",
       "      <td>EdZamora</td>\n",
       "      <td>Schiffornis</td>\n",
       "    </tr>\n",
       "    <tr>\n",
       "      <th>2100</th>\n",
       "      <td>Tangara-callophrys-296563.wav</td>\n",
       "      <td>0.520000</td>\n",
       "      <td>0.54000</td>\n",
       "      <td>1.159950</td>\n",
       "      <td>kkong</td>\n",
       "      <td>Tangara</td>\n",
       "    </tr>\n",
       "    <tr>\n",
       "      <th>2115</th>\n",
       "      <td>Tangara-mexicana-297052.wav</td>\n",
       "      <td>0.530000</td>\n",
       "      <td>1.34980</td>\n",
       "      <td>2.909600</td>\n",
       "      <td>kkong</td>\n",
       "      <td>Tangara</td>\n",
       "    </tr>\n",
       "    <tr>\n",
       "      <th>2116</th>\n",
       "      <td>Tangara-mexicana-428038.wav</td>\n",
       "      <td>0.740275</td>\n",
       "      <td>0.84715</td>\n",
       "      <td>1.630000</td>\n",
       "      <td>kkong</td>\n",
       "      <td>Tangara</td>\n",
       "    </tr>\n",
       "    <tr>\n",
       "      <th>2119</th>\n",
       "      <td>Tangara-nigroviridis-261182.wav</td>\n",
       "      <td>3.052500</td>\n",
       "      <td>3.59490</td>\n",
       "      <td>4.825000</td>\n",
       "      <td>kkong</td>\n",
       "      <td>Tangara</td>\n",
       "    </tr>\n",
       "    <tr>\n",
       "      <th>2120</th>\n",
       "      <td>Tangara-nigroviridis-261185.wav</td>\n",
       "      <td>0.855925</td>\n",
       "      <td>1.01235</td>\n",
       "      <td>1.514075</td>\n",
       "      <td>kkong</td>\n",
       "      <td>Tangara</td>\n",
       "    </tr>\n",
       "    <tr>\n",
       "      <th>2121</th>\n",
       "      <td>Tangara-nigroviridis-262564.wav</td>\n",
       "      <td>0.569950</td>\n",
       "      <td>0.64000</td>\n",
       "      <td>2.694800</td>\n",
       "      <td>kkong</td>\n",
       "      <td>Tangara</td>\n",
       "    </tr>\n",
       "    <tr>\n",
       "      <th>2123</th>\n",
       "      <td>Tangara-schrankii-150598.wav</td>\n",
       "      <td>0.780000</td>\n",
       "      <td>0.79000</td>\n",
       "      <td>2.949800</td>\n",
       "      <td>kkong</td>\n",
       "      <td>Tangara</td>\n",
       "    </tr>\n",
       "    <tr>\n",
       "      <th>2124</th>\n",
       "      <td>Tangara-schrankii-230521.wav</td>\n",
       "      <td>1.019975</td>\n",
       "      <td>1.71985</td>\n",
       "      <td>2.167400</td>\n",
       "      <td>kkong</td>\n",
       "      <td>Tangara</td>\n",
       "    </tr>\n",
       "    <tr>\n",
       "      <th>2125</th>\n",
       "      <td>Tangara-schrankii-436529.wav</td>\n",
       "      <td>2.141925</td>\n",
       "      <td>3.53410</td>\n",
       "      <td>4.963700</td>\n",
       "      <td>kkong</td>\n",
       "      <td>Tangara</td>\n",
       "    </tr>\n",
       "    <tr>\n",
       "      <th>2126</th>\n",
       "      <td>Tangara-velia-206320.wav</td>\n",
       "      <td>0.156600</td>\n",
       "      <td>0.19875</td>\n",
       "      <td>0.365100</td>\n",
       "      <td>kkong</td>\n",
       "      <td>Tangara</td>\n",
       "    </tr>\n",
       "    <tr>\n",
       "      <th>2127</th>\n",
       "      <td>Tangara-velia-499792.wav</td>\n",
       "      <td>2.469900</td>\n",
       "      <td>3.06970</td>\n",
       "      <td>4.369700</td>\n",
       "      <td>kkong</td>\n",
       "      <td>Tangara</td>\n",
       "    </tr>\n",
       "    <tr>\n",
       "      <th>2128</th>\n",
       "      <td>Tangara-velia-9654.wav</td>\n",
       "      <td>0.789900</td>\n",
       "      <td>1.42990</td>\n",
       "      <td>1.859800</td>\n",
       "      <td>kkong</td>\n",
       "      <td>Tangara</td>\n",
       "    </tr>\n",
       "    <tr>\n",
       "      <th>2131</th>\n",
       "      <td>Tangara-xanthocephala-45830.wav</td>\n",
       "      <td>0.452500</td>\n",
       "      <td>0.53000</td>\n",
       "      <td>0.685000</td>\n",
       "      <td>kkong</td>\n",
       "      <td>Tangara</td>\n",
       "    </tr>\n",
       "  </tbody>\n",
       "</table>\n",
       "</div>"
      ],
      "text/plain": [
       "                                  IN FILE      0.25      0.5      0.75  \\\n",
       "788        Euphonia-chlorotica-264822.wav  0.482500  0.56505  0.832600   \n",
       "789        Euphonia-chlorotica-392016.wav  0.230000  0.33000  0.540000   \n",
       "791       Euphonia-chrysopasta-171246.wav  1.312500  1.46000  1.694750   \n",
       "793      Euphonia-cyanocephala-275607.wav  3.408800  4.13860  4.198550   \n",
       "798       Euphonia-laniirostris-45661.wav  0.329925  0.42495  0.607400   \n",
       "799        Euphonia-mesochrysa-468090.wav  0.225000  0.31000  0.510000   \n",
       "801       Euphonia-rufiventris-427361.wav  2.362800  2.51530  2.667800   \n",
       "802        Euphonia-rufiventris-65575.wav  1.140000  1.15000  1.165000   \n",
       "1744  Psarocolius-angustifrons-122307.wav  1.515075  1.55500  1.602500   \n",
       "1745   Psarocolius-angustifrons-27823.wav  0.802500  0.98490  1.217500   \n",
       "1746   Psarocolius-angustifrons-45659.wav  1.890100  2.35020  3.664800   \n",
       "1747    Psarocolius-atrovirens-228641.wav  0.849900  0.85990  0.879900   \n",
       "1749     Psarocolius-atrovirens-97799.wav  0.907425  0.93995  1.187500   \n",
       "1750   Psarocolius-bifasciatus-128985.wav  1.929900  2.15990  2.409750   \n",
       "1751   Psarocolius-bifasciatus-146525.wav  2.247500  2.31500  2.330000   \n",
       "1753    Psarocolius-bifasciatus-38449.wav  2.150000  2.15010  2.190000   \n",
       "1755     Psarocolius-decumanus-122330.wav  1.467400  1.49490  1.517425   \n",
       "1757      Psarocolius-decumanus-76074.wav  1.005000  1.10500  1.212500   \n",
       "1862     Saltator-coerulescens-188095.wav  1.959700  1.98970  2.029700   \n",
       "1863     Saltator-coerulescens-259778.wav  0.417500  0.47000  0.512500   \n",
       "1864     Saltator-coerulescens-270937.wav  2.138950  2.20890  2.208950   \n",
       "1865          Saltator-grossus-151795.wav  1.469700  1.47970  1.539800   \n",
       "1866          Saltator-grossus-259800.wav  1.490000  1.52500  1.537500   \n",
       "1867           Saltator-grossus-27833.wav  1.204925  1.35490  1.439900   \n",
       "1868          Saltator-maximus-214115.wav  1.190000  1.71000  1.800000   \n",
       "1869          Saltator-maximus-214117.wav  0.594900  0.64990  0.699900   \n",
       "1871          Saltator-maximus-450251.wav  0.769925  0.83490  0.899900   \n",
       "1878         Schiffornis-aenea-542811.wav  2.112325  2.13490  2.202325   \n",
       "1879         Schiffornis-aenea-542813.wav  1.969700  2.02975  2.117200   \n",
       "1880         Schiffornis-aenea-542814.wav  2.040000  2.11000  2.150000   \n",
       "1881         Schiffornis-major-102619.wav  1.154900  1.19990  1.207400   \n",
       "1882         Schiffornis-major-229321.wav  0.520000  0.55500  0.682500   \n",
       "1883         Schiffornis-major-296584.wav  0.755800  0.79840  0.810700   \n",
       "1884       Schiffornis-turdina-151821.wav  0.749900  0.82000  1.209900   \n",
       "1885        Schiffornis-turdina-27841.wav  0.914900  1.12990  1.459900   \n",
       "1886        Schiffornis-turdina-76029.wav  0.475000  0.52495  0.834975   \n",
       "2100        Tangara-callophrys-296563.wav  0.520000  0.54000  1.159950   \n",
       "2115          Tangara-mexicana-297052.wav  0.530000  1.34980  2.909600   \n",
       "2116          Tangara-mexicana-428038.wav  0.740275  0.84715  1.630000   \n",
       "2119      Tangara-nigroviridis-261182.wav  3.052500  3.59490  4.825000   \n",
       "2120      Tangara-nigroviridis-261185.wav  0.855925  1.01235  1.514075   \n",
       "2121      Tangara-nigroviridis-262564.wav  0.569950  0.64000  2.694800   \n",
       "2123         Tangara-schrankii-150598.wav  0.780000  0.79000  2.949800   \n",
       "2124         Tangara-schrankii-230521.wav  1.019975  1.71985  2.167400   \n",
       "2125         Tangara-schrankii-436529.wav  2.141925  3.53410  4.963700   \n",
       "2126             Tangara-velia-206320.wav  0.156600  0.19875  0.365100   \n",
       "2127             Tangara-velia-499792.wav  2.469900  3.06970  4.369700   \n",
       "2128               Tangara-velia-9654.wav  0.789900  1.42990  1.859800   \n",
       "2131      Tangara-xanthocephala-45830.wav  0.452500  0.53000  0.685000   \n",
       "\n",
       "     LAST MOD BY        GENUS  \n",
       "788     EdZamora     Euphonia  \n",
       "789     EdZamora     Euphonia  \n",
       "791        kkong     Euphonia  \n",
       "793        kkong     Euphonia  \n",
       "798     EdZamora     Euphonia  \n",
       "799     EdZamora     Euphonia  \n",
       "801        kkong     Euphonia  \n",
       "802        kkong     Euphonia  \n",
       "1744    EdZamora  Psarocolius  \n",
       "1745       kkong  Psarocolius  \n",
       "1746       kkong  Psarocolius  \n",
       "1747       kkong  Psarocolius  \n",
       "1749       kkong  Psarocolius  \n",
       "1750       kkong  Psarocolius  \n",
       "1751       kkong  Psarocolius  \n",
       "1753       kkong  Psarocolius  \n",
       "1755       kkong  Psarocolius  \n",
       "1757       kkong  Psarocolius  \n",
       "1862    EdZamora     Saltator  \n",
       "1863    EdZamora     Saltator  \n",
       "1864    EdZamora     Saltator  \n",
       "1865       kkong     Saltator  \n",
       "1866    EdZamora     Saltator  \n",
       "1867    EdZamora     Saltator  \n",
       "1868    EdZamora     Saltator  \n",
       "1869    EdZamora     Saltator  \n",
       "1871    EdZamora     Saltator  \n",
       "1878    EdZamora  Schiffornis  \n",
       "1879    EdZamora  Schiffornis  \n",
       "1880    EdZamora  Schiffornis  \n",
       "1881    EdZamora  Schiffornis  \n",
       "1882    EdZamora  Schiffornis  \n",
       "1883    EdZamora  Schiffornis  \n",
       "1884    EdZamora  Schiffornis  \n",
       "1885    EdZamora  Schiffornis  \n",
       "1886    EdZamora  Schiffornis  \n",
       "2100       kkong      Tangara  \n",
       "2115       kkong      Tangara  \n",
       "2116       kkong      Tangara  \n",
       "2119       kkong      Tangara  \n",
       "2120       kkong      Tangara  \n",
       "2121       kkong      Tangara  \n",
       "2123       kkong      Tangara  \n",
       "2124       kkong      Tangara  \n",
       "2125       kkong      Tangara  \n",
       "2126       kkong      Tangara  \n",
       "2127       kkong      Tangara  \n",
       "2128       kkong      Tangara  \n",
       "2131       kkong      Tangara  "
      ]
     },
     "execution_count": 6,
     "metadata": {},
     "output_type": "execute_result"
    }
   ],
   "source": [
    "annotator = IQR_DURATION['LAST MOD BY'].unique()\n",
    "sampled_annotator = ['EdZamora','kkong'] #random.sample(list(annotator),1)\n",
    "print(sampled_annotator)\n",
    "annotator_df = IQR_DURATION[IQR_DURATION['LAST MOD BY'].isin(sampled_annotator)]\n",
    "\n",
    "# genus_counts = annotator_df['GENUS'].value_counts()\n",
    "# sampled_genus = genus_counts.index[:5]#random.sample(list(genus)counts),1)\n",
    "# print(sampled_genus)\n",
    "\n",
    "genus = annotator_df[['LAST MOD BY','GENUS']].groupby(['GENUS','LAST MOD BY'])[['LAST MOD BY']].count().rename(columns = {\"LAST MOD BY\":'COUNT'}).reset_index()\n",
    "genus['LAST MOD BY'] = (genus['LAST MOD BY']+' '+genus['COUNT'].astype(str))\n",
    "genus = genus.drop(columns = ['COUNT']).groupby('GENUS')['LAST MOD BY'].apply(list).to_dict()\n",
    "shared_genus_anns = [i for i in genus if len(genus.get(i)) == 2]\n",
    "print(shared_genus_anns)\n",
    "\n",
    "IQR_DURATION = annotator_df[annotator_df['GENUS'].isin(shared_genus_anns)] # shared_genus_anns\n",
    "IQR_DURATION"
   ]
  },
  {
   "cell_type": "code",
   "execution_count": 7,
   "metadata": {},
   "outputs": [
    {
     "data": {
      "text/html": [
       "<div>\n",
       "<style scoped>\n",
       "    .dataframe tbody tr th:only-of-type {\n",
       "        vertical-align: middle;\n",
       "    }\n",
       "\n",
       "    .dataframe tbody tr th {\n",
       "        vertical-align: top;\n",
       "    }\n",
       "\n",
       "    .dataframe thead th {\n",
       "        text-align: right;\n",
       "    }\n",
       "</style>\n",
       "<table border=\"1\" class=\"dataframe\">\n",
       "  <thead>\n",
       "    <tr style=\"text-align: right;\">\n",
       "      <th></th>\n",
       "      <th>IN FILE</th>\n",
       "      <th>0.25</th>\n",
       "      <th>0.5</th>\n",
       "      <th>0.75</th>\n",
       "      <th>LAST MOD BY</th>\n",
       "      <th>GENUS</th>\n",
       "    </tr>\n",
       "  </thead>\n",
       "  <tbody>\n",
       "    <tr>\n",
       "      <th>0</th>\n",
       "      <td>Aburria-aburri-257423.wav</td>\n",
       "      <td>4.546700</td>\n",
       "      <td>6.73200</td>\n",
       "      <td>12.987900</td>\n",
       "      <td>alarce</td>\n",
       "      <td>Aburria</td>\n",
       "    </tr>\n",
       "    <tr>\n",
       "      <th>1</th>\n",
       "      <td>Aburria-aburri-387212.wav</td>\n",
       "      <td>15.521100</td>\n",
       "      <td>30.44110</td>\n",
       "      <td>54.061100</td>\n",
       "      <td>alarce</td>\n",
       "      <td>Aburria</td>\n",
       "    </tr>\n",
       "    <tr>\n",
       "      <th>2</th>\n",
       "      <td>Accipiter-bicolor-451839.wav</td>\n",
       "      <td>1.754000</td>\n",
       "      <td>2.75345</td>\n",
       "      <td>3.760200</td>\n",
       "      <td>alarce</td>\n",
       "      <td>Accipiter</td>\n",
       "    </tr>\n",
       "    <tr>\n",
       "      <th>3</th>\n",
       "      <td>Accipiter-collaris-260335.wav</td>\n",
       "      <td>6.441750</td>\n",
       "      <td>17.87295</td>\n",
       "      <td>29.574150</td>\n",
       "      <td>alarce</td>\n",
       "      <td>Accipiter</td>\n",
       "    </tr>\n",
       "    <tr>\n",
       "      <th>4</th>\n",
       "      <td>Accipiter-collaris-260336.wav</td>\n",
       "      <td>5.994075</td>\n",
       "      <td>8.05175</td>\n",
       "      <td>18.697625</td>\n",
       "      <td>alarce</td>\n",
       "      <td>Accipiter</td>\n",
       "    </tr>\n",
       "  </tbody>\n",
       "</table>\n",
       "</div>"
      ],
      "text/plain": [
       "                         IN FILE       0.25       0.5       0.75 LAST MOD BY  \\\n",
       "0      Aburria-aburri-257423.wav   4.546700   6.73200  12.987900      alarce   \n",
       "1      Aburria-aburri-387212.wav  15.521100  30.44110  54.061100      alarce   \n",
       "2   Accipiter-bicolor-451839.wav   1.754000   2.75345   3.760200      alarce   \n",
       "3  Accipiter-collaris-260335.wav   6.441750  17.87295  29.574150      alarce   \n",
       "4  Accipiter-collaris-260336.wav   5.994075   8.05175  18.697625      alarce   \n",
       "\n",
       "       GENUS  \n",
       "0    Aburria  \n",
       "1    Aburria  \n",
       "2  Accipiter  \n",
       "3  Accipiter  \n",
       "4  Accipiter  "
      ]
     },
     "execution_count": 7,
     "metadata": {},
     "output_type": "execute_result"
    }
   ],
   "source": [
    "IQR_OFFSET = frame.groupby('IN FILE')[['OFFSET']].quantile([.25,.5,.75])\n",
    "IQR_OFFSET = IQR_OFFSET.unstack(1)\n",
    "IQR_OFFSET = IQR_OFFSET['OFFSET'].rename_axis([None], axis=1)\n",
    "IQR_OFFSET = IQR_OFFSET.join(LAST_MOD_BY)\n",
    "IQR_OFFSET = IQR_OFFSET.join(GENUS).reset_index()\n",
    "IQR_OFFSET = IQR_OFFSET.rename(columns = {.25:'0.25',.5:'0.5',.75:'0.75'})\n",
    "IQR_OFFSET.head()"
   ]
  },
  {
   "cell_type": "code",
   "execution_count": 8,
   "metadata": {},
   "outputs": [],
   "source": [
    "X = IQR_DURATION.drop(columns = ['IN FILE','GENUS','LAST MOD BY']) # expand to taxa rather than species\n",
    "\n",
    "Y = np.array(IQR_DURATION['GENUS'])\n",
    "Y_2 = np.array(IQR_DURATION['LAST MOD BY'])\n",
    "Y_3 = np.array(IQR_DURATION['IN FILE'])"
   ]
  },
  {
   "cell_type": "code",
   "execution_count": 9,
   "metadata": {},
   "outputs": [
    {
     "data": {
      "text/plain": [
       "array([[-0.97274212, -0.95057531, -0.8649164 ],\n",
       "       [-1.30138198, -1.21184651, -1.12838141],\n",
       "       [ 0.10753941,  0.04421157, -0.08861306],\n",
       "       [ 2.83596613,  3.02162498,  2.16587663],\n",
       "       [-1.1713252 , -1.10630428, -1.06769261],\n",
       "       [-1.3078897 , -1.23407762, -1.15539422],\n",
       "       [ 1.47455109,  1.21723642,  0.78754765],\n",
       "       [-0.11697693, -0.30037074, -0.56561439],\n",
       "       [ 0.37119969,  0.14980937, -0.17167748],\n",
       "       [-0.55624804, -0.4838886 , -0.51834196],\n",
       "       [ 0.85931123,  1.03371855,  1.6852736 ],\n",
       "       [-0.49455485, -0.62283308, -0.82232619],\n",
       "       [-0.41968353, -0.53385304, -0.54535478],\n",
       "       [ 0.91111268,  0.82218948,  0.5551924 ],\n",
       "       [ 1.32448306,  0.99459179,  0.48338333],\n",
       "       [ 1.19758252,  0.81129623,  0.35732352],\n",
       "       [ 0.30914858,  0.08300486, -0.24828132],\n",
       "       [-0.29268537, -0.35039075, -0.5228441 ],\n",
       "       [ 0.9498987 ,  0.63300268,  0.21298504],\n",
       "       [-1.05734248, -1.05622869, -1.15314315],\n",
       "       [ 1.18320046,  0.87665572,  0.37438662],\n",
       "       [ 0.31214213,  0.06610922, -0.22813426],\n",
       "       [ 0.33856347,  0.11646269, -0.23020525],\n",
       "       [-0.03247419, -0.07261295, -0.31808694],\n",
       "       [-0.05189973,  0.32210052,  0.0061569 ],\n",
       "       [-0.82644857, -0.8562598 , -0.98440309],\n",
       "       [-0.59864583, -0.65062198, -0.80431765],\n",
       "       [ 1.14854685,  0.79440059,  0.36842129],\n",
       "       [ 0.96291414,  0.67752049,  0.29177242],\n",
       "       [ 1.05441268,  0.76672285,  0.32130643],\n",
       "       [-0.09758393, -0.2449041 , -0.52743627],\n",
       "       [-0.92393422, -0.96174645, -1.00007053],\n",
       "       [-0.61703014, -0.69119376, -0.88463576],\n",
       "       [-0.62470925, -0.66718416, -0.52518521],\n",
       "       [-0.40995449, -0.32271301, -0.3000784 ],\n",
       "       [-0.9825037 , -0.9951487 , -0.86277788],\n",
       "       [-0.92393422, -0.97841979, -0.57016155],\n",
       "       [-0.91091878, -0.07828189,  1.00527095],\n",
       "       [-0.63723661, -0.63700542, -0.14691573],\n",
       "       [ 2.37222599,  2.41727208,  2.72994926],\n",
       "       [-0.48671305, -0.4533764 , -0.25129775],\n",
       "       [-0.8589221 , -0.8672642 ,  0.81185918],\n",
       "       [-0.58553278, -0.70053083,  1.04146813],\n",
       "       [-0.27319475,  0.33304934,  0.33697386],\n",
       "       [ 1.18707255,  2.34968948,  2.85483852],\n",
       "       [-1.39691532, -1.35773821, -1.28586613],\n",
       "       [ 1.61394645,  1.83348296,  2.31998475],\n",
       "       [-0.57264749,  0.01075374,  0.06000245],\n",
       "       [-1.01178844, -0.98953534, -0.99781946]])"
      ]
     },
     "execution_count": 9,
     "metadata": {},
     "output_type": "execute_result"
    }
   ],
   "source": [
    "scaler = StandardScaler()\n",
    "X_std = scaler.fit_transform(X)\n",
    "X_std"
   ]
  },
  {
   "cell_type": "code",
   "execution_count": 10,
   "metadata": {},
   "outputs": [
    {
     "name": "stderr",
     "output_type": "stream",
     "text": [
      "C:\\Users\\lianl\\anaconda3\\envs\\tweety\\lib\\site-packages\\sklearn\\manifold\\_t_sne.py:780: FutureWarning: The default initialization in TSNE will change from 'random' to 'pca' in 1.2.\n",
      "  warnings.warn(\n",
      "C:\\Users\\lianl\\anaconda3\\envs\\tweety\\lib\\site-packages\\sklearn\\manifold\\_t_sne.py:790: FutureWarning: The default learning rate in TSNE will change from 200.0 to 'auto' in 1.2.\n",
      "  warnings.warn(\n"
     ]
    },
    {
     "name": "stdout",
     "output_type": "stream",
     "text": [
      "[t-SNE] Computing 48 nearest neighbors...\n",
      "[t-SNE] Indexed 49 samples in 0.000s...\n",
      "[t-SNE] Computed neighbors for 49 samples in 0.003s...\n",
      "[t-SNE] Computed conditional probabilities for sample 49 / 49\n",
      "[t-SNE] Mean sigma: 2.157263\n",
      "[t-SNE] KL divergence after 250 iterations with early exaggeration: 72.394691\n",
      "[t-SNE] KL divergence after 300 iterations: 2.996577\n"
     ]
    },
    {
     "data": {
      "text/html": [
       "<div>\n",
       "<style scoped>\n",
       "    .dataframe tbody tr th:only-of-type {\n",
       "        vertical-align: middle;\n",
       "    }\n",
       "\n",
       "    .dataframe tbody tr th {\n",
       "        vertical-align: top;\n",
       "    }\n",
       "\n",
       "    .dataframe thead th {\n",
       "        text-align: right;\n",
       "    }\n",
       "</style>\n",
       "<table border=\"1\" class=\"dataframe\">\n",
       "  <thead>\n",
       "    <tr style=\"text-align: right;\">\n",
       "      <th></th>\n",
       "      <th>TSNE1</th>\n",
       "      <th>TSNE2</th>\n",
       "      <th>TSNE3</th>\n",
       "    </tr>\n",
       "  </thead>\n",
       "  <tbody>\n",
       "    <tr>\n",
       "      <th>0</th>\n",
       "      <td>-15.316580</td>\n",
       "      <td>89.409630</td>\n",
       "      <td>21.870428</td>\n",
       "    </tr>\n",
       "    <tr>\n",
       "      <th>1</th>\n",
       "      <td>195.874069</td>\n",
       "      <td>-415.110718</td>\n",
       "      <td>-241.917740</td>\n",
       "    </tr>\n",
       "    <tr>\n",
       "      <th>2</th>\n",
       "      <td>209.358170</td>\n",
       "      <td>-302.407837</td>\n",
       "      <td>-109.269524</td>\n",
       "    </tr>\n",
       "    <tr>\n",
       "      <th>3</th>\n",
       "      <td>-34.974449</td>\n",
       "      <td>63.205853</td>\n",
       "      <td>69.115265</td>\n",
       "    </tr>\n",
       "    <tr>\n",
       "      <th>4</th>\n",
       "      <td>-43.883667</td>\n",
       "      <td>85.383934</td>\n",
       "      <td>-87.980972</td>\n",
       "    </tr>\n",
       "    <tr>\n",
       "      <th>5</th>\n",
       "      <td>-138.471680</td>\n",
       "      <td>49.909786</td>\n",
       "      <td>211.897903</td>\n",
       "    </tr>\n",
       "    <tr>\n",
       "      <th>6</th>\n",
       "      <td>4.285407</td>\n",
       "      <td>-4.287515</td>\n",
       "      <td>25.389982</td>\n",
       "    </tr>\n",
       "    <tr>\n",
       "      <th>7</th>\n",
       "      <td>346.596375</td>\n",
       "      <td>48.122673</td>\n",
       "      <td>71.789688</td>\n",
       "    </tr>\n",
       "    <tr>\n",
       "      <th>8</th>\n",
       "      <td>293.999695</td>\n",
       "      <td>-661.218018</td>\n",
       "      <td>-1005.391113</td>\n",
       "    </tr>\n",
       "    <tr>\n",
       "      <th>9</th>\n",
       "      <td>-251.277100</td>\n",
       "      <td>-278.004120</td>\n",
       "      <td>-231.730011</td>\n",
       "    </tr>\n",
       "    <tr>\n",
       "      <th>10</th>\n",
       "      <td>-92.062180</td>\n",
       "      <td>-117.535194</td>\n",
       "      <td>-8.921611</td>\n",
       "    </tr>\n",
       "    <tr>\n",
       "      <th>11</th>\n",
       "      <td>88.402550</td>\n",
       "      <td>201.005341</td>\n",
       "      <td>126.850258</td>\n",
       "    </tr>\n",
       "    <tr>\n",
       "      <th>12</th>\n",
       "      <td>43.227978</td>\n",
       "      <td>11.348549</td>\n",
       "      <td>54.078587</td>\n",
       "    </tr>\n",
       "    <tr>\n",
       "      <th>13</th>\n",
       "      <td>-119.707047</td>\n",
       "      <td>379.792236</td>\n",
       "      <td>84.407936</td>\n",
       "    </tr>\n",
       "    <tr>\n",
       "      <th>14</th>\n",
       "      <td>-26.128487</td>\n",
       "      <td>33.779598</td>\n",
       "      <td>7.301736</td>\n",
       "    </tr>\n",
       "    <tr>\n",
       "      <th>15</th>\n",
       "      <td>2.413781</td>\n",
       "      <td>-50.889835</td>\n",
       "      <td>8.729355</td>\n",
       "    </tr>\n",
       "    <tr>\n",
       "      <th>16</th>\n",
       "      <td>-389.952820</td>\n",
       "      <td>737.018616</td>\n",
       "      <td>533.572998</td>\n",
       "    </tr>\n",
       "    <tr>\n",
       "      <th>17</th>\n",
       "      <td>-19.008024</td>\n",
       "      <td>90.691429</td>\n",
       "      <td>-29.775906</td>\n",
       "    </tr>\n",
       "    <tr>\n",
       "      <th>18</th>\n",
       "      <td>-43.284935</td>\n",
       "      <td>-17.073908</td>\n",
       "      <td>0.356508</td>\n",
       "    </tr>\n",
       "    <tr>\n",
       "      <th>19</th>\n",
       "      <td>-278.677185</td>\n",
       "      <td>-28.928844</td>\n",
       "      <td>-60.909245</td>\n",
       "    </tr>\n",
       "    <tr>\n",
       "      <th>20</th>\n",
       "      <td>-409.404755</td>\n",
       "      <td>151.624283</td>\n",
       "      <td>264.841431</td>\n",
       "    </tr>\n",
       "    <tr>\n",
       "      <th>21</th>\n",
       "      <td>53.950321</td>\n",
       "      <td>-34.579071</td>\n",
       "      <td>-452.957062</td>\n",
       "    </tr>\n",
       "    <tr>\n",
       "      <th>22</th>\n",
       "      <td>45.530785</td>\n",
       "      <td>-16.695263</td>\n",
       "      <td>-16.942438</td>\n",
       "    </tr>\n",
       "    <tr>\n",
       "      <th>23</th>\n",
       "      <td>51.470322</td>\n",
       "      <td>-41.774887</td>\n",
       "      <td>30.536169</td>\n",
       "    </tr>\n",
       "    <tr>\n",
       "      <th>24</th>\n",
       "      <td>66.736519</td>\n",
       "      <td>-222.196289</td>\n",
       "      <td>-140.883194</td>\n",
       "    </tr>\n",
       "    <tr>\n",
       "      <th>25</th>\n",
       "      <td>136.366013</td>\n",
       "      <td>801.473633</td>\n",
       "      <td>-672.133057</td>\n",
       "    </tr>\n",
       "    <tr>\n",
       "      <th>26</th>\n",
       "      <td>-287.394257</td>\n",
       "      <td>278.167969</td>\n",
       "      <td>242.867035</td>\n",
       "    </tr>\n",
       "    <tr>\n",
       "      <th>27</th>\n",
       "      <td>179.575562</td>\n",
       "      <td>-93.877243</td>\n",
       "      <td>-166.339645</td>\n",
       "    </tr>\n",
       "    <tr>\n",
       "      <th>28</th>\n",
       "      <td>-92.268036</td>\n",
       "      <td>73.019302</td>\n",
       "      <td>180.024750</td>\n",
       "    </tr>\n",
       "    <tr>\n",
       "      <th>29</th>\n",
       "      <td>-175.925858</td>\n",
       "      <td>-452.512543</td>\n",
       "      <td>409.414093</td>\n",
       "    </tr>\n",
       "    <tr>\n",
       "      <th>30</th>\n",
       "      <td>-12.579570</td>\n",
       "      <td>-194.490082</td>\n",
       "      <td>-48.815948</td>\n",
       "    </tr>\n",
       "    <tr>\n",
       "      <th>31</th>\n",
       "      <td>-29.672421</td>\n",
       "      <td>9.245461</td>\n",
       "      <td>64.204117</td>\n",
       "    </tr>\n",
       "    <tr>\n",
       "      <th>32</th>\n",
       "      <td>-84.680527</td>\n",
       "      <td>692.588440</td>\n",
       "      <td>490.906097</td>\n",
       "    </tr>\n",
       "    <tr>\n",
       "      <th>33</th>\n",
       "      <td>120.833801</td>\n",
       "      <td>36.733570</td>\n",
       "      <td>-17.202127</td>\n",
       "    </tr>\n",
       "    <tr>\n",
       "      <th>34</th>\n",
       "      <td>273.520264</td>\n",
       "      <td>-89.051430</td>\n",
       "      <td>-151.970810</td>\n",
       "    </tr>\n",
       "    <tr>\n",
       "      <th>35</th>\n",
       "      <td>110.791145</td>\n",
       "      <td>-785.317871</td>\n",
       "      <td>-499.087708</td>\n",
       "    </tr>\n",
       "    <tr>\n",
       "      <th>36</th>\n",
       "      <td>-75.601448</td>\n",
       "      <td>1.175791</td>\n",
       "      <td>469.942657</td>\n",
       "    </tr>\n",
       "    <tr>\n",
       "      <th>37</th>\n",
       "      <td>91.308449</td>\n",
       "      <td>-20.509480</td>\n",
       "      <td>56.088032</td>\n",
       "    </tr>\n",
       "    <tr>\n",
       "      <th>38</th>\n",
       "      <td>16.208853</td>\n",
       "      <td>51.181580</td>\n",
       "      <td>38.326107</td>\n",
       "    </tr>\n",
       "    <tr>\n",
       "      <th>39</th>\n",
       "      <td>37.858257</td>\n",
       "      <td>-61.916779</td>\n",
       "      <td>-115.060242</td>\n",
       "    </tr>\n",
       "    <tr>\n",
       "      <th>40</th>\n",
       "      <td>-77.859154</td>\n",
       "      <td>-23.542730</td>\n",
       "      <td>40.479927</td>\n",
       "    </tr>\n",
       "    <tr>\n",
       "      <th>41</th>\n",
       "      <td>-154.843079</td>\n",
       "      <td>-56.271244</td>\n",
       "      <td>40.734081</td>\n",
       "    </tr>\n",
       "    <tr>\n",
       "      <th>42</th>\n",
       "      <td>79.348717</td>\n",
       "      <td>-270.525940</td>\n",
       "      <td>3.494920</td>\n",
       "    </tr>\n",
       "    <tr>\n",
       "      <th>43</th>\n",
       "      <td>-68.640953</td>\n",
       "      <td>38.617317</td>\n",
       "      <td>-15.829931</td>\n",
       "    </tr>\n",
       "    <tr>\n",
       "      <th>44</th>\n",
       "      <td>7.444086</td>\n",
       "      <td>13.393381</td>\n",
       "      <td>-30.221800</td>\n",
       "    </tr>\n",
       "    <tr>\n",
       "      <th>45</th>\n",
       "      <td>-43.009766</td>\n",
       "      <td>-68.806183</td>\n",
       "      <td>35.529224</td>\n",
       "    </tr>\n",
       "    <tr>\n",
       "      <th>46</th>\n",
       "      <td>42.310108</td>\n",
       "      <td>-175.969574</td>\n",
       "      <td>-96.894630</td>\n",
       "    </tr>\n",
       "    <tr>\n",
       "      <th>47</th>\n",
       "      <td>-18.519962</td>\n",
       "      <td>-87.572624</td>\n",
       "      <td>-18.228973</td>\n",
       "    </tr>\n",
       "    <tr>\n",
       "      <th>48</th>\n",
       "      <td>28.349833</td>\n",
       "      <td>60.489098</td>\n",
       "      <td>-30.379866</td>\n",
       "    </tr>\n",
       "  </tbody>\n",
       "</table>\n",
       "</div>"
      ],
      "text/plain": [
       "         TSNE1       TSNE2        TSNE3\n",
       "0   -15.316580   89.409630    21.870428\n",
       "1   195.874069 -415.110718  -241.917740\n",
       "2   209.358170 -302.407837  -109.269524\n",
       "3   -34.974449   63.205853    69.115265\n",
       "4   -43.883667   85.383934   -87.980972\n",
       "5  -138.471680   49.909786   211.897903\n",
       "6     4.285407   -4.287515    25.389982\n",
       "7   346.596375   48.122673    71.789688\n",
       "8   293.999695 -661.218018 -1005.391113\n",
       "9  -251.277100 -278.004120  -231.730011\n",
       "10  -92.062180 -117.535194    -8.921611\n",
       "11   88.402550  201.005341   126.850258\n",
       "12   43.227978   11.348549    54.078587\n",
       "13 -119.707047  379.792236    84.407936\n",
       "14  -26.128487   33.779598     7.301736\n",
       "15    2.413781  -50.889835     8.729355\n",
       "16 -389.952820  737.018616   533.572998\n",
       "17  -19.008024   90.691429   -29.775906\n",
       "18  -43.284935  -17.073908     0.356508\n",
       "19 -278.677185  -28.928844   -60.909245\n",
       "20 -409.404755  151.624283   264.841431\n",
       "21   53.950321  -34.579071  -452.957062\n",
       "22   45.530785  -16.695263   -16.942438\n",
       "23   51.470322  -41.774887    30.536169\n",
       "24   66.736519 -222.196289  -140.883194\n",
       "25  136.366013  801.473633  -672.133057\n",
       "26 -287.394257  278.167969   242.867035\n",
       "27  179.575562  -93.877243  -166.339645\n",
       "28  -92.268036   73.019302   180.024750\n",
       "29 -175.925858 -452.512543   409.414093\n",
       "30  -12.579570 -194.490082   -48.815948\n",
       "31  -29.672421    9.245461    64.204117\n",
       "32  -84.680527  692.588440   490.906097\n",
       "33  120.833801   36.733570   -17.202127\n",
       "34  273.520264  -89.051430  -151.970810\n",
       "35  110.791145 -785.317871  -499.087708\n",
       "36  -75.601448    1.175791   469.942657\n",
       "37   91.308449  -20.509480    56.088032\n",
       "38   16.208853   51.181580    38.326107\n",
       "39   37.858257  -61.916779  -115.060242\n",
       "40  -77.859154  -23.542730    40.479927\n",
       "41 -154.843079  -56.271244    40.734081\n",
       "42   79.348717 -270.525940     3.494920\n",
       "43  -68.640953   38.617317   -15.829931\n",
       "44    7.444086   13.393381   -30.221800\n",
       "45  -43.009766  -68.806183    35.529224\n",
       "46   42.310108 -175.969574   -96.894630\n",
       "47  -18.519962  -87.572624   -18.228973\n",
       "48   28.349833   60.489098   -30.379866"
      ]
     },
     "execution_count": 10,
     "metadata": {},
     "output_type": "execute_result"
    }
   ],
   "source": [
    "tsne = TSNE(n_components=3, verbose=1, perplexity=40, n_iter=300)\n",
    "tsne_results = tsne.fit_transform(X_std) \n",
    "\n",
    "tsneed = pd.DataFrame(tsne_results, columns = ['TSNE1','TSNE2','TSNE3']) # ,'TSNE4','TSNE5','TSNE6'\n",
    "tsneed"
   ]
  },
  {
   "cell_type": "code",
   "execution_count": 11,
   "metadata": {},
   "outputs": [],
   "source": [
    "wcss = []\n",
    "for i in range(1,21):\n",
    "    kmeans_iqr = KMeans(n_clusters = i, init = 'k-means++', random_state = 42)\n",
    "    kmeans_iqr.fit(tsne_results)\n",
    "    wcss.append(kmeans_iqr.inertia_)"
   ]
  },
  {
   "cell_type": "code",
   "execution_count": 12,
   "metadata": {},
   "outputs": [
    {
     "data": {
      "image/png": "[encoded data removed]",
      "text/plain": [
       "<Figure size 720x576 with 1 Axes>"
      ]
     },
     "metadata": {},
     "output_type": "display_data"
    }
   ],
   "source": [
    "plt.figure(figsize = (10,8))\n",
    "plt.plot(range(1,21),wcss,marker = 'o', linestyle = '--')\n",
    "plt.xlabel('Number of Clusters')\n",
    "plt.ylabel('WCSS')\n",
    "plt.title('K-means with IQR TSNE Clustering')\n",
    "plt.show()"
   ]
  },
  {
   "cell_type": "code",
   "execution_count": 13,
   "metadata": {},
   "outputs": [
    {
     "data": {
      "text/plain": [
       "KMeans(n_clusters=5, random_state=42)"
      ]
     },
     "execution_count": 13,
     "metadata": {},
     "output_type": "execute_result"
    }
   ],
   "source": [
    "kmeans_iqr = KMeans(n_clusters = 5, init = 'k-means++',random_state = 42)\n",
    "kmeans_iqr.fit(tsne_results)"
   ]
  },
  {
   "cell_type": "code",
   "execution_count": 14,
   "metadata": {},
   "outputs": [],
   "source": [
    "df_segm_iqr_kmeans = pd.concat([X.reset_index(drop = True), pd.DataFrame(tsne_results,columns = tsneed.columns)], axis = 1)\n",
    "\n",
    "df_segm_iqr_kmeans['Segment K-means IQR'] = kmeans_iqr.labels_\n",
    "df_segm_iqr_kmeans['Cluster'] = df_segm_iqr_kmeans['Segment K-means IQR'].map({0:'first',1:'second',2:'third',3:'fourth',4:'fifth'})\n",
    "df_segm_iqr_kmeans['IN FILE'],df_segm_iqr_kmeans['LAST MOD BY'], df_segm_iqr_kmeans['Genus'] = Y_3,Y_2, Y"
   ]
  },
  {
   "cell_type": "code",
   "execution_count": 15,
   "metadata": {},
   "outputs": [
    {
     "data": {
      "text/html": [
       "<div>\n",
       "<style scoped>\n",
       "    .dataframe tbody tr th:only-of-type {\n",
       "        vertical-align: middle;\n",
       "    }\n",
       "\n",
       "    .dataframe tbody tr th {\n",
       "        vertical-align: top;\n",
       "    }\n",
       "\n",
       "    .dataframe thead th {\n",
       "        text-align: right;\n",
       "    }\n",
       "</style>\n",
       "<table border=\"1\" class=\"dataframe\">\n",
       "  <thead>\n",
       "    <tr style=\"text-align: right;\">\n",
       "      <th></th>\n",
       "      <th>0.25</th>\n",
       "      <th>0.5</th>\n",
       "      <th>0.75</th>\n",
       "      <th>TSNE1</th>\n",
       "      <th>TSNE2</th>\n",
       "      <th>TSNE3</th>\n",
       "      <th>Segment K-means IQR</th>\n",
       "      <th>Cluster</th>\n",
       "      <th>IN FILE</th>\n",
       "      <th>LAST MOD BY</th>\n",
       "      <th>Genus</th>\n",
       "    </tr>\n",
       "  </thead>\n",
       "  <tbody>\n",
       "    <tr>\n",
       "      <th>0</th>\n",
       "      <td>0.482500</td>\n",
       "      <td>0.56505</td>\n",
       "      <td>0.832600</td>\n",
       "      <td>-15.316580</td>\n",
       "      <td>89.409630</td>\n",
       "      <td>21.870428</td>\n",
       "      <td>1</td>\n",
       "      <td>second</td>\n",
       "      <td>Euphonia-chlorotica-264822.wav</td>\n",
       "      <td>EdZamora</td>\n",
       "      <td>Euphonia</td>\n",
       "    </tr>\n",
       "    <tr>\n",
       "      <th>1</th>\n",
       "      <td>0.230000</td>\n",
       "      <td>0.33000</td>\n",
       "      <td>0.540000</td>\n",
       "      <td>195.874069</td>\n",
       "      <td>-415.110718</td>\n",
       "      <td>-241.917740</td>\n",
       "      <td>0</td>\n",
       "      <td>first</td>\n",
       "      <td>Euphonia-chlorotica-392016.wav</td>\n",
       "      <td>EdZamora</td>\n",
       "      <td>Euphonia</td>\n",
       "    </tr>\n",
       "    <tr>\n",
       "      <th>2</th>\n",
       "      <td>1.312500</td>\n",
       "      <td>1.46000</td>\n",
       "      <td>1.694750</td>\n",
       "      <td>209.358170</td>\n",
       "      <td>-302.407837</td>\n",
       "      <td>-109.269524</td>\n",
       "      <td>0</td>\n",
       "      <td>first</td>\n",
       "      <td>Euphonia-chrysopasta-171246.wav</td>\n",
       "      <td>kkong</td>\n",
       "      <td>Euphonia</td>\n",
       "    </tr>\n",
       "    <tr>\n",
       "      <th>3</th>\n",
       "      <td>3.408800</td>\n",
       "      <td>4.13860</td>\n",
       "      <td>4.198550</td>\n",
       "      <td>-34.974449</td>\n",
       "      <td>63.205853</td>\n",
       "      <td>69.115265</td>\n",
       "      <td>1</td>\n",
       "      <td>second</td>\n",
       "      <td>Euphonia-cyanocephala-275607.wav</td>\n",
       "      <td>kkong</td>\n",
       "      <td>Euphonia</td>\n",
       "    </tr>\n",
       "    <tr>\n",
       "      <th>4</th>\n",
       "      <td>0.329925</td>\n",
       "      <td>0.42495</td>\n",
       "      <td>0.607400</td>\n",
       "      <td>-43.883667</td>\n",
       "      <td>85.383934</td>\n",
       "      <td>-87.980972</td>\n",
       "      <td>1</td>\n",
       "      <td>second</td>\n",
       "      <td>Euphonia-laniirostris-45661.wav</td>\n",
       "      <td>EdZamora</td>\n",
       "      <td>Euphonia</td>\n",
       "    </tr>\n",
       "    <tr>\n",
       "      <th>5</th>\n",
       "      <td>0.225000</td>\n",
       "      <td>0.31000</td>\n",
       "      <td>0.510000</td>\n",
       "      <td>-138.471680</td>\n",
       "      <td>49.909786</td>\n",
       "      <td>211.897903</td>\n",
       "      <td>1</td>\n",
       "      <td>second</td>\n",
       "      <td>Euphonia-mesochrysa-468090.wav</td>\n",
       "      <td>EdZamora</td>\n",
       "      <td>Euphonia</td>\n",
       "    </tr>\n",
       "    <tr>\n",
       "      <th>6</th>\n",
       "      <td>2.362800</td>\n",
       "      <td>2.51530</td>\n",
       "      <td>2.667800</td>\n",
       "      <td>4.285407</td>\n",
       "      <td>-4.287515</td>\n",
       "      <td>25.389982</td>\n",
       "      <td>1</td>\n",
       "      <td>second</td>\n",
       "      <td>Euphonia-rufiventris-427361.wav</td>\n",
       "      <td>kkong</td>\n",
       "      <td>Euphonia</td>\n",
       "    </tr>\n",
       "    <tr>\n",
       "      <th>7</th>\n",
       "      <td>1.140000</td>\n",
       "      <td>1.15000</td>\n",
       "      <td>1.165000</td>\n",
       "      <td>346.596375</td>\n",
       "      <td>48.122673</td>\n",
       "      <td>71.789688</td>\n",
       "      <td>1</td>\n",
       "      <td>second</td>\n",
       "      <td>Euphonia-rufiventris-65575.wav</td>\n",
       "      <td>kkong</td>\n",
       "      <td>Euphonia</td>\n",
       "    </tr>\n",
       "    <tr>\n",
       "      <th>8</th>\n",
       "      <td>1.515075</td>\n",
       "      <td>1.55500</td>\n",
       "      <td>1.602500</td>\n",
       "      <td>293.999695</td>\n",
       "      <td>-661.218018</td>\n",
       "      <td>-1005.391113</td>\n",
       "      <td>3</td>\n",
       "      <td>fourth</td>\n",
       "      <td>Psarocolius-angustifrons-122307.wav</td>\n",
       "      <td>EdZamora</td>\n",
       "      <td>Psarocolius</td>\n",
       "    </tr>\n",
       "    <tr>\n",
       "      <th>9</th>\n",
       "      <td>0.802500</td>\n",
       "      <td>0.98490</td>\n",
       "      <td>1.217500</td>\n",
       "      <td>-251.277100</td>\n",
       "      <td>-278.004120</td>\n",
       "      <td>-231.730011</td>\n",
       "      <td>0</td>\n",
       "      <td>first</td>\n",
       "      <td>Psarocolius-angustifrons-27823.wav</td>\n",
       "      <td>kkong</td>\n",
       "      <td>Psarocolius</td>\n",
       "    </tr>\n",
       "    <tr>\n",
       "      <th>10</th>\n",
       "      <td>1.890100</td>\n",
       "      <td>2.35020</td>\n",
       "      <td>3.664800</td>\n",
       "      <td>-92.062180</td>\n",
       "      <td>-117.535194</td>\n",
       "      <td>-8.921611</td>\n",
       "      <td>1</td>\n",
       "      <td>second</td>\n",
       "      <td>Psarocolius-angustifrons-45659.wav</td>\n",
       "      <td>kkong</td>\n",
       "      <td>Psarocolius</td>\n",
       "    </tr>\n",
       "    <tr>\n",
       "      <th>11</th>\n",
       "      <td>0.849900</td>\n",
       "      <td>0.85990</td>\n",
       "      <td>0.879900</td>\n",
       "      <td>88.402550</td>\n",
       "      <td>201.005341</td>\n",
       "      <td>126.850258</td>\n",
       "      <td>1</td>\n",
       "      <td>second</td>\n",
       "      <td>Psarocolius-atrovirens-228641.wav</td>\n",
       "      <td>kkong</td>\n",
       "      <td>Psarocolius</td>\n",
       "    </tr>\n",
       "    <tr>\n",
       "      <th>12</th>\n",
       "      <td>0.907425</td>\n",
       "      <td>0.93995</td>\n",
       "      <td>1.187500</td>\n",
       "      <td>43.227978</td>\n",
       "      <td>11.348549</td>\n",
       "      <td>54.078587</td>\n",
       "      <td>1</td>\n",
       "      <td>second</td>\n",
       "      <td>Psarocolius-atrovirens-97799.wav</td>\n",
       "      <td>kkong</td>\n",
       "      <td>Psarocolius</td>\n",
       "    </tr>\n",
       "    <tr>\n",
       "      <th>13</th>\n",
       "      <td>1.929900</td>\n",
       "      <td>2.15990</td>\n",
       "      <td>2.409750</td>\n",
       "      <td>-119.707047</td>\n",
       "      <td>379.792236</td>\n",
       "      <td>84.407936</td>\n",
       "      <td>2</td>\n",
       "      <td>third</td>\n",
       "      <td>Psarocolius-bifasciatus-128985.wav</td>\n",
       "      <td>kkong</td>\n",
       "      <td>Psarocolius</td>\n",
       "    </tr>\n",
       "    <tr>\n",
       "      <th>14</th>\n",
       "      <td>2.247500</td>\n",
       "      <td>2.31500</td>\n",
       "      <td>2.330000</td>\n",
       "      <td>-26.128487</td>\n",
       "      <td>33.779598</td>\n",
       "      <td>7.301736</td>\n",
       "      <td>1</td>\n",
       "      <td>second</td>\n",
       "      <td>Psarocolius-bifasciatus-146525.wav</td>\n",
       "      <td>kkong</td>\n",
       "      <td>Psarocolius</td>\n",
       "    </tr>\n",
       "    <tr>\n",
       "      <th>15</th>\n",
       "      <td>2.150000</td>\n",
       "      <td>2.15010</td>\n",
       "      <td>2.190000</td>\n",
       "      <td>2.413781</td>\n",
       "      <td>-50.889835</td>\n",
       "      <td>8.729355</td>\n",
       "      <td>1</td>\n",
       "      <td>second</td>\n",
       "      <td>Psarocolius-bifasciatus-38449.wav</td>\n",
       "      <td>kkong</td>\n",
       "      <td>Psarocolius</td>\n",
       "    </tr>\n",
       "    <tr>\n",
       "      <th>16</th>\n",
       "      <td>1.467400</td>\n",
       "      <td>1.49490</td>\n",
       "      <td>1.517425</td>\n",
       "      <td>-389.952820</td>\n",
       "      <td>737.018616</td>\n",
       "      <td>533.572998</td>\n",
       "      <td>2</td>\n",
       "      <td>third</td>\n",
       "      <td>Psarocolius-decumanus-122330.wav</td>\n",
       "      <td>kkong</td>\n",
       "      <td>Psarocolius</td>\n",
       "    </tr>\n",
       "    <tr>\n",
       "      <th>17</th>\n",
       "      <td>1.005000</td>\n",
       "      <td>1.10500</td>\n",
       "      <td>1.212500</td>\n",
       "      <td>-19.008024</td>\n",
       "      <td>90.691429</td>\n",
       "      <td>-29.775906</td>\n",
       "      <td>1</td>\n",
       "      <td>second</td>\n",
       "      <td>Psarocolius-decumanus-76074.wav</td>\n",
       "      <td>kkong</td>\n",
       "      <td>Psarocolius</td>\n",
       "    </tr>\n",
       "    <tr>\n",
       "      <th>18</th>\n",
       "      <td>1.959700</td>\n",
       "      <td>1.98970</td>\n",
       "      <td>2.029700</td>\n",
       "      <td>-43.284935</td>\n",
       "      <td>-17.073908</td>\n",
       "      <td>0.356508</td>\n",
       "      <td>1</td>\n",
       "      <td>second</td>\n",
       "      <td>Saltator-coerulescens-188095.wav</td>\n",
       "      <td>EdZamora</td>\n",
       "      <td>Saltator</td>\n",
       "    </tr>\n",
       "    <tr>\n",
       "      <th>19</th>\n",
       "      <td>0.417500</td>\n",
       "      <td>0.47000</td>\n",
       "      <td>0.512500</td>\n",
       "      <td>-278.677185</td>\n",
       "      <td>-28.928844</td>\n",
       "      <td>-60.909245</td>\n",
       "      <td>1</td>\n",
       "      <td>second</td>\n",
       "      <td>Saltator-coerulescens-259778.wav</td>\n",
       "      <td>EdZamora</td>\n",
       "      <td>Saltator</td>\n",
       "    </tr>\n",
       "    <tr>\n",
       "      <th>20</th>\n",
       "      <td>2.138950</td>\n",
       "      <td>2.20890</td>\n",
       "      <td>2.208950</td>\n",
       "      <td>-409.404755</td>\n",
       "      <td>151.624283</td>\n",
       "      <td>264.841431</td>\n",
       "      <td>2</td>\n",
       "      <td>third</td>\n",
       "      <td>Saltator-coerulescens-270937.wav</td>\n",
       "      <td>EdZamora</td>\n",
       "      <td>Saltator</td>\n",
       "    </tr>\n",
       "    <tr>\n",
       "      <th>21</th>\n",
       "      <td>1.469700</td>\n",
       "      <td>1.47970</td>\n",
       "      <td>1.539800</td>\n",
       "      <td>53.950321</td>\n",
       "      <td>-34.579071</td>\n",
       "      <td>-452.957062</td>\n",
       "      <td>0</td>\n",
       "      <td>first</td>\n",
       "      <td>Saltator-grossus-151795.wav</td>\n",
       "      <td>kkong</td>\n",
       "      <td>Saltator</td>\n",
       "    </tr>\n",
       "    <tr>\n",
       "      <th>22</th>\n",
       "      <td>1.490000</td>\n",
       "      <td>1.52500</td>\n",
       "      <td>1.537500</td>\n",
       "      <td>45.530785</td>\n",
       "      <td>-16.695263</td>\n",
       "      <td>-16.942438</td>\n",
       "      <td>1</td>\n",
       "      <td>second</td>\n",
       "      <td>Saltator-grossus-259800.wav</td>\n",
       "      <td>EdZamora</td>\n",
       "      <td>Saltator</td>\n",
       "    </tr>\n",
       "    <tr>\n",
       "      <th>23</th>\n",
       "      <td>1.204925</td>\n",
       "      <td>1.35490</td>\n",
       "      <td>1.439900</td>\n",
       "      <td>51.470322</td>\n",
       "      <td>-41.774887</td>\n",
       "      <td>30.536169</td>\n",
       "      <td>1</td>\n",
       "      <td>second</td>\n",
       "      <td>Saltator-grossus-27833.wav</td>\n",
       "      <td>EdZamora</td>\n",
       "      <td>Saltator</td>\n",
       "    </tr>\n",
       "    <tr>\n",
       "      <th>24</th>\n",
       "      <td>1.190000</td>\n",
       "      <td>1.71000</td>\n",
       "      <td>1.800000</td>\n",
       "      <td>66.736519</td>\n",
       "      <td>-222.196289</td>\n",
       "      <td>-140.883194</td>\n",
       "      <td>0</td>\n",
       "      <td>first</td>\n",
       "      <td>Saltator-maximus-214115.wav</td>\n",
       "      <td>EdZamora</td>\n",
       "      <td>Saltator</td>\n",
       "    </tr>\n",
       "    <tr>\n",
       "      <th>25</th>\n",
       "      <td>0.594900</td>\n",
       "      <td>0.64990</td>\n",
       "      <td>0.699900</td>\n",
       "      <td>136.366013</td>\n",
       "      <td>801.473633</td>\n",
       "      <td>-672.133057</td>\n",
       "      <td>4</td>\n",
       "      <td>fifth</td>\n",
       "      <td>Saltator-maximus-214117.wav</td>\n",
       "      <td>EdZamora</td>\n",
       "      <td>Saltator</td>\n",
       "    </tr>\n",
       "    <tr>\n",
       "      <th>26</th>\n",
       "      <td>0.769925</td>\n",
       "      <td>0.83490</td>\n",
       "      <td>0.899900</td>\n",
       "      <td>-287.394257</td>\n",
       "      <td>278.167969</td>\n",
       "      <td>242.867035</td>\n",
       "      <td>2</td>\n",
       "      <td>third</td>\n",
       "      <td>Saltator-maximus-450251.wav</td>\n",
       "      <td>EdZamora</td>\n",
       "      <td>Saltator</td>\n",
       "    </tr>\n",
       "    <tr>\n",
       "      <th>27</th>\n",
       "      <td>2.112325</td>\n",
       "      <td>2.13490</td>\n",
       "      <td>2.202325</td>\n",
       "      <td>179.575562</td>\n",
       "      <td>-93.877243</td>\n",
       "      <td>-166.339645</td>\n",
       "      <td>0</td>\n",
       "      <td>first</td>\n",
       "      <td>Schiffornis-aenea-542811.wav</td>\n",
       "      <td>EdZamora</td>\n",
       "      <td>Schiffornis</td>\n",
       "    </tr>\n",
       "    <tr>\n",
       "      <th>28</th>\n",
       "      <td>1.969700</td>\n",
       "      <td>2.02975</td>\n",
       "      <td>2.117200</td>\n",
       "      <td>-92.268036</td>\n",
       "      <td>73.019302</td>\n",
       "      <td>180.024750</td>\n",
       "      <td>1</td>\n",
       "      <td>second</td>\n",
       "      <td>Schiffornis-aenea-542813.wav</td>\n",
       "      <td>EdZamora</td>\n",
       "      <td>Schiffornis</td>\n",
       "    </tr>\n",
       "    <tr>\n",
       "      <th>29</th>\n",
       "      <td>2.040000</td>\n",
       "      <td>2.11000</td>\n",
       "      <td>2.150000</td>\n",
       "      <td>-175.925858</td>\n",
       "      <td>-452.512543</td>\n",
       "      <td>409.414093</td>\n",
       "      <td>1</td>\n",
       "      <td>second</td>\n",
       "      <td>Schiffornis-aenea-542814.wav</td>\n",
       "      <td>EdZamora</td>\n",
       "      <td>Schiffornis</td>\n",
       "    </tr>\n",
       "    <tr>\n",
       "      <th>30</th>\n",
       "      <td>1.154900</td>\n",
       "      <td>1.19990</td>\n",
       "      <td>1.207400</td>\n",
       "      <td>-12.579570</td>\n",
       "      <td>-194.490082</td>\n",
       "      <td>-48.815948</td>\n",
       "      <td>0</td>\n",
       "      <td>first</td>\n",
       "      <td>Schiffornis-major-102619.wav</td>\n",
       "      <td>EdZamora</td>\n",
       "      <td>Schiffornis</td>\n",
       "    </tr>\n",
       "    <tr>\n",
       "      <th>31</th>\n",
       "      <td>0.520000</td>\n",
       "      <td>0.55500</td>\n",
       "      <td>0.682500</td>\n",
       "      <td>-29.672421</td>\n",
       "      <td>9.245461</td>\n",
       "      <td>64.204117</td>\n",
       "      <td>1</td>\n",
       "      <td>second</td>\n",
       "      <td>Schiffornis-major-229321.wav</td>\n",
       "      <td>EdZamora</td>\n",
       "      <td>Schiffornis</td>\n",
       "    </tr>\n",
       "    <tr>\n",
       "      <th>32</th>\n",
       "      <td>0.755800</td>\n",
       "      <td>0.79840</td>\n",
       "      <td>0.810700</td>\n",
       "      <td>-84.680527</td>\n",
       "      <td>692.588440</td>\n",
       "      <td>490.906097</td>\n",
       "      <td>2</td>\n",
       "      <td>third</td>\n",
       "      <td>Schiffornis-major-296584.wav</td>\n",
       "      <td>EdZamora</td>\n",
       "      <td>Schiffornis</td>\n",
       "    </tr>\n",
       "    <tr>\n",
       "      <th>33</th>\n",
       "      <td>0.749900</td>\n",
       "      <td>0.82000</td>\n",
       "      <td>1.209900</td>\n",
       "      <td>120.833801</td>\n",
       "      <td>36.733570</td>\n",
       "      <td>-17.202127</td>\n",
       "      <td>1</td>\n",
       "      <td>second</td>\n",
       "      <td>Schiffornis-turdina-151821.wav</td>\n",
       "      <td>EdZamora</td>\n",
       "      <td>Schiffornis</td>\n",
       "    </tr>\n",
       "    <tr>\n",
       "      <th>34</th>\n",
       "      <td>0.914900</td>\n",
       "      <td>1.12990</td>\n",
       "      <td>1.459900</td>\n",
       "      <td>273.520264</td>\n",
       "      <td>-89.051430</td>\n",
       "      <td>-151.970810</td>\n",
       "      <td>0</td>\n",
       "      <td>first</td>\n",
       "      <td>Schiffornis-turdina-27841.wav</td>\n",
       "      <td>EdZamora</td>\n",
       "      <td>Schiffornis</td>\n",
       "    </tr>\n",
       "    <tr>\n",
       "      <th>35</th>\n",
       "      <td>0.475000</td>\n",
       "      <td>0.52495</td>\n",
       "      <td>0.834975</td>\n",
       "      <td>110.791145</td>\n",
       "      <td>-785.317871</td>\n",
       "      <td>-499.087708</td>\n",
       "      <td>3</td>\n",
       "      <td>fourth</td>\n",
       "      <td>Schiffornis-turdina-76029.wav</td>\n",
       "      <td>EdZamora</td>\n",
       "      <td>Schiffornis</td>\n",
       "    </tr>\n",
       "    <tr>\n",
       "      <th>36</th>\n",
       "      <td>0.520000</td>\n",
       "      <td>0.54000</td>\n",
       "      <td>1.159950</td>\n",
       "      <td>-75.601448</td>\n",
       "      <td>1.175791</td>\n",
       "      <td>469.942657</td>\n",
       "      <td>2</td>\n",
       "      <td>third</td>\n",
       "      <td>Tangara-callophrys-296563.wav</td>\n",
       "      <td>kkong</td>\n",
       "      <td>Tangara</td>\n",
       "    </tr>\n",
       "    <tr>\n",
       "      <th>37</th>\n",
       "      <td>0.530000</td>\n",
       "      <td>1.34980</td>\n",
       "      <td>2.909600</td>\n",
       "      <td>91.308449</td>\n",
       "      <td>-20.509480</td>\n",
       "      <td>56.088032</td>\n",
       "      <td>1</td>\n",
       "      <td>second</td>\n",
       "      <td>Tangara-mexicana-297052.wav</td>\n",
       "      <td>kkong</td>\n",
       "      <td>Tangara</td>\n",
       "    </tr>\n",
       "    <tr>\n",
       "      <th>38</th>\n",
       "      <td>0.740275</td>\n",
       "      <td>0.84715</td>\n",
       "      <td>1.630000</td>\n",
       "      <td>16.208853</td>\n",
       "      <td>51.181580</td>\n",
       "      <td>38.326107</td>\n",
       "      <td>1</td>\n",
       "      <td>second</td>\n",
       "      <td>Tangara-mexicana-428038.wav</td>\n",
       "      <td>kkong</td>\n",
       "      <td>Tangara</td>\n",
       "    </tr>\n",
       "    <tr>\n",
       "      <th>39</th>\n",
       "      <td>3.052500</td>\n",
       "      <td>3.59490</td>\n",
       "      <td>4.825000</td>\n",
       "      <td>37.858257</td>\n",
       "      <td>-61.916779</td>\n",
       "      <td>-115.060242</td>\n",
       "      <td>0</td>\n",
       "      <td>first</td>\n",
       "      <td>Tangara-nigroviridis-261182.wav</td>\n",
       "      <td>kkong</td>\n",
       "      <td>Tangara</td>\n",
       "    </tr>\n",
       "    <tr>\n",
       "      <th>40</th>\n",
       "      <td>0.855925</td>\n",
       "      <td>1.01235</td>\n",
       "      <td>1.514075</td>\n",
       "      <td>-77.859154</td>\n",
       "      <td>-23.542730</td>\n",
       "      <td>40.479927</td>\n",
       "      <td>1</td>\n",
       "      <td>second</td>\n",
       "      <td>Tangara-nigroviridis-261185.wav</td>\n",
       "      <td>kkong</td>\n",
       "      <td>Tangara</td>\n",
       "    </tr>\n",
       "    <tr>\n",
       "      <th>41</th>\n",
       "      <td>0.569950</td>\n",
       "      <td>0.64000</td>\n",
       "      <td>2.694800</td>\n",
       "      <td>-154.843079</td>\n",
       "      <td>-56.271244</td>\n",
       "      <td>40.734081</td>\n",
       "      <td>1</td>\n",
       "      <td>second</td>\n",
       "      <td>Tangara-nigroviridis-262564.wav</td>\n",
       "      <td>kkong</td>\n",
       "      <td>Tangara</td>\n",
       "    </tr>\n",
       "    <tr>\n",
       "      <th>42</th>\n",
       "      <td>0.780000</td>\n",
       "      <td>0.79000</td>\n",
       "      <td>2.949800</td>\n",
       "      <td>79.348717</td>\n",
       "      <td>-270.525940</td>\n",
       "      <td>3.494920</td>\n",
       "      <td>0</td>\n",
       "      <td>first</td>\n",
       "      <td>Tangara-schrankii-150598.wav</td>\n",
       "      <td>kkong</td>\n",
       "      <td>Tangara</td>\n",
       "    </tr>\n",
       "    <tr>\n",
       "      <th>43</th>\n",
       "      <td>1.019975</td>\n",
       "      <td>1.71985</td>\n",
       "      <td>2.167400</td>\n",
       "      <td>-68.640953</td>\n",
       "      <td>38.617317</td>\n",
       "      <td>-15.829931</td>\n",
       "      <td>1</td>\n",
       "      <td>second</td>\n",
       "      <td>Tangara-schrankii-230521.wav</td>\n",
       "      <td>kkong</td>\n",
       "      <td>Tangara</td>\n",
       "    </tr>\n",
       "    <tr>\n",
       "      <th>44</th>\n",
       "      <td>2.141925</td>\n",
       "      <td>3.53410</td>\n",
       "      <td>4.963700</td>\n",
       "      <td>7.444086</td>\n",
       "      <td>13.393381</td>\n",
       "      <td>-30.221800</td>\n",
       "      <td>1</td>\n",
       "      <td>second</td>\n",
       "      <td>Tangara-schrankii-436529.wav</td>\n",
       "      <td>kkong</td>\n",
       "      <td>Tangara</td>\n",
       "    </tr>\n",
       "    <tr>\n",
       "      <th>45</th>\n",
       "      <td>0.156600</td>\n",
       "      <td>0.19875</td>\n",
       "      <td>0.365100</td>\n",
       "      <td>-43.009766</td>\n",
       "      <td>-68.806183</td>\n",
       "      <td>35.529224</td>\n",
       "      <td>1</td>\n",
       "      <td>second</td>\n",
       "      <td>Tangara-velia-206320.wav</td>\n",
       "      <td>kkong</td>\n",
       "      <td>Tangara</td>\n",
       "    </tr>\n",
       "    <tr>\n",
       "      <th>46</th>\n",
       "      <td>2.469900</td>\n",
       "      <td>3.06970</td>\n",
       "      <td>4.369700</td>\n",
       "      <td>42.310108</td>\n",
       "      <td>-175.969574</td>\n",
       "      <td>-96.894630</td>\n",
       "      <td>0</td>\n",
       "      <td>first</td>\n",
       "      <td>Tangara-velia-499792.wav</td>\n",
       "      <td>kkong</td>\n",
       "      <td>Tangara</td>\n",
       "    </tr>\n",
       "    <tr>\n",
       "      <th>47</th>\n",
       "      <td>0.789900</td>\n",
       "      <td>1.42990</td>\n",
       "      <td>1.859800</td>\n",
       "      <td>-18.519962</td>\n",
       "      <td>-87.572624</td>\n",
       "      <td>-18.228973</td>\n",
       "      <td>1</td>\n",
       "      <td>second</td>\n",
       "      <td>Tangara-velia-9654.wav</td>\n",
       "      <td>kkong</td>\n",
       "      <td>Tangara</td>\n",
       "    </tr>\n",
       "    <tr>\n",
       "      <th>48</th>\n",
       "      <td>0.452500</td>\n",
       "      <td>0.53000</td>\n",
       "      <td>0.685000</td>\n",
       "      <td>28.349833</td>\n",
       "      <td>60.489098</td>\n",
       "      <td>-30.379866</td>\n",
       "      <td>1</td>\n",
       "      <td>second</td>\n",
       "      <td>Tangara-xanthocephala-45830.wav</td>\n",
       "      <td>kkong</td>\n",
       "      <td>Tangara</td>\n",
       "    </tr>\n",
       "  </tbody>\n",
       "</table>\n",
       "</div>"
      ],
      "text/plain": [
       "        0.25      0.5      0.75       TSNE1       TSNE2        TSNE3  \\\n",
       "0   0.482500  0.56505  0.832600  -15.316580   89.409630    21.870428   \n",
       "1   0.230000  0.33000  0.540000  195.874069 -415.110718  -241.917740   \n",
       "2   1.312500  1.46000  1.694750  209.358170 -302.407837  -109.269524   \n",
       "3   3.408800  4.13860  4.198550  -34.974449   63.205853    69.115265   \n",
       "4   0.329925  0.42495  0.607400  -43.883667   85.383934   -87.980972   \n",
       "5   0.225000  0.31000  0.510000 -138.471680   49.909786   211.897903   \n",
       "6   2.362800  2.51530  2.667800    4.285407   -4.287515    25.389982   \n",
       "7   1.140000  1.15000  1.165000  346.596375   48.122673    71.789688   \n",
       "8   1.515075  1.55500  1.602500  293.999695 -661.218018 -1005.391113   \n",
       "9   0.802500  0.98490  1.217500 -251.277100 -278.004120  -231.730011   \n",
       "10  1.890100  2.35020  3.664800  -92.062180 -117.535194    -8.921611   \n",
       "11  0.849900  0.85990  0.879900   88.402550  201.005341   126.850258   \n",
       "12  0.907425  0.93995  1.187500   43.227978   11.348549    54.078587   \n",
       "13  1.929900  2.15990  2.409750 -119.707047  379.792236    84.407936   \n",
       "14  2.247500  2.31500  2.330000  -26.128487   33.779598     7.301736   \n",
       "15  2.150000  2.15010  2.190000    2.413781  -50.889835     8.729355   \n",
       "16  1.467400  1.49490  1.517425 -389.952820  737.018616   533.572998   \n",
       "17  1.005000  1.10500  1.212500  -19.008024   90.691429   -29.775906   \n",
       "18  1.959700  1.98970  2.029700  -43.284935  -17.073908     0.356508   \n",
       "19  0.417500  0.47000  0.512500 -278.677185  -28.928844   -60.909245   \n",
       "20  2.138950  2.20890  2.208950 -409.404755  151.624283   264.841431   \n",
       "21  1.469700  1.47970  1.539800   53.950321  -34.579071  -452.957062   \n",
       "22  1.490000  1.52500  1.537500   45.530785  -16.695263   -16.942438   \n",
       "23  1.204925  1.35490  1.439900   51.470322  -41.774887    30.536169   \n",
       "24  1.190000  1.71000  1.800000   66.736519 -222.196289  -140.883194   \n",
       "25  0.594900  0.64990  0.699900  136.366013  801.473633  -672.133057   \n",
       "26  0.769925  0.83490  0.899900 -287.394257  278.167969   242.867035   \n",
       "27  2.112325  2.13490  2.202325  179.575562  -93.877243  -166.339645   \n",
       "28  1.969700  2.02975  2.117200  -92.268036   73.019302   180.024750   \n",
       "29  2.040000  2.11000  2.150000 -175.925858 -452.512543   409.414093   \n",
       "30  1.154900  1.19990  1.207400  -12.579570 -194.490082   -48.815948   \n",
       "31  0.520000  0.55500  0.682500  -29.672421    9.245461    64.204117   \n",
       "32  0.755800  0.79840  0.810700  -84.680527  692.588440   490.906097   \n",
       "33  0.749900  0.82000  1.209900  120.833801   36.733570   -17.202127   \n",
       "34  0.914900  1.12990  1.459900  273.520264  -89.051430  -151.970810   \n",
       "35  0.475000  0.52495  0.834975  110.791145 -785.317871  -499.087708   \n",
       "36  0.520000  0.54000  1.159950  -75.601448    1.175791   469.942657   \n",
       "37  0.530000  1.34980  2.909600   91.308449  -20.509480    56.088032   \n",
       "38  0.740275  0.84715  1.630000   16.208853   51.181580    38.326107   \n",
       "39  3.052500  3.59490  4.825000   37.858257  -61.916779  -115.060242   \n",
       "40  0.855925  1.01235  1.514075  -77.859154  -23.542730    40.479927   \n",
       "41  0.569950  0.64000  2.694800 -154.843079  -56.271244    40.734081   \n",
       "42  0.780000  0.79000  2.949800   79.348717 -270.525940     3.494920   \n",
       "43  1.019975  1.71985  2.167400  -68.640953   38.617317   -15.829931   \n",
       "44  2.141925  3.53410  4.963700    7.444086   13.393381   -30.221800   \n",
       "45  0.156600  0.19875  0.365100  -43.009766  -68.806183    35.529224   \n",
       "46  2.469900  3.06970  4.369700   42.310108 -175.969574   -96.894630   \n",
       "47  0.789900  1.42990  1.859800  -18.519962  -87.572624   -18.228973   \n",
       "48  0.452500  0.53000  0.685000   28.349833   60.489098   -30.379866   \n",
       "\n",
       "    Segment K-means IQR Cluster                              IN FILE  \\\n",
       "0                     1  second       Euphonia-chlorotica-264822.wav   \n",
       "1                     0   first       Euphonia-chlorotica-392016.wav   \n",
       "2                     0   first      Euphonia-chrysopasta-171246.wav   \n",
       "3                     1  second     Euphonia-cyanocephala-275607.wav   \n",
       "4                     1  second      Euphonia-laniirostris-45661.wav   \n",
       "5                     1  second       Euphonia-mesochrysa-468090.wav   \n",
       "6                     1  second      Euphonia-rufiventris-427361.wav   \n",
       "7                     1  second       Euphonia-rufiventris-65575.wav   \n",
       "8                     3  fourth  Psarocolius-angustifrons-122307.wav   \n",
       "9                     0   first   Psarocolius-angustifrons-27823.wav   \n",
       "10                    1  second   Psarocolius-angustifrons-45659.wav   \n",
       "11                    1  second    Psarocolius-atrovirens-228641.wav   \n",
       "12                    1  second     Psarocolius-atrovirens-97799.wav   \n",
       "13                    2   third   Psarocolius-bifasciatus-128985.wav   \n",
       "14                    1  second   Psarocolius-bifasciatus-146525.wav   \n",
       "15                    1  second    Psarocolius-bifasciatus-38449.wav   \n",
       "16                    2   third     Psarocolius-decumanus-122330.wav   \n",
       "17                    1  second      Psarocolius-decumanus-76074.wav   \n",
       "18                    1  second     Saltator-coerulescens-188095.wav   \n",
       "19                    1  second     Saltator-coerulescens-259778.wav   \n",
       "20                    2   third     Saltator-coerulescens-270937.wav   \n",
       "21                    0   first          Saltator-grossus-151795.wav   \n",
       "22                    1  second          Saltator-grossus-259800.wav   \n",
       "23                    1  second           Saltator-grossus-27833.wav   \n",
       "24                    0   first          Saltator-maximus-214115.wav   \n",
       "25                    4   fifth          Saltator-maximus-214117.wav   \n",
       "26                    2   third          Saltator-maximus-450251.wav   \n",
       "27                    0   first         Schiffornis-aenea-542811.wav   \n",
       "28                    1  second         Schiffornis-aenea-542813.wav   \n",
       "29                    1  second         Schiffornis-aenea-542814.wav   \n",
       "30                    0   first         Schiffornis-major-102619.wav   \n",
       "31                    1  second         Schiffornis-major-229321.wav   \n",
       "32                    2   third         Schiffornis-major-296584.wav   \n",
       "33                    1  second       Schiffornis-turdina-151821.wav   \n",
       "34                    0   first        Schiffornis-turdina-27841.wav   \n",
       "35                    3  fourth        Schiffornis-turdina-76029.wav   \n",
       "36                    2   third        Tangara-callophrys-296563.wav   \n",
       "37                    1  second          Tangara-mexicana-297052.wav   \n",
       "38                    1  second          Tangara-mexicana-428038.wav   \n",
       "39                    0   first      Tangara-nigroviridis-261182.wav   \n",
       "40                    1  second      Tangara-nigroviridis-261185.wav   \n",
       "41                    1  second      Tangara-nigroviridis-262564.wav   \n",
       "42                    0   first         Tangara-schrankii-150598.wav   \n",
       "43                    1  second         Tangara-schrankii-230521.wav   \n",
       "44                    1  second         Tangara-schrankii-436529.wav   \n",
       "45                    1  second             Tangara-velia-206320.wav   \n",
       "46                    0   first             Tangara-velia-499792.wav   \n",
       "47                    1  second               Tangara-velia-9654.wav   \n",
       "48                    1  second      Tangara-xanthocephala-45830.wav   \n",
       "\n",
       "   LAST MOD BY        Genus  \n",
       "0     EdZamora     Euphonia  \n",
       "1     EdZamora     Euphonia  \n",
       "2        kkong     Euphonia  \n",
       "3        kkong     Euphonia  \n",
       "4     EdZamora     Euphonia  \n",
       "5     EdZamora     Euphonia  \n",
       "6        kkong     Euphonia  \n",
       "7        kkong     Euphonia  \n",
       "8     EdZamora  Psarocolius  \n",
       "9        kkong  Psarocolius  \n",
       "10       kkong  Psarocolius  \n",
       "11       kkong  Psarocolius  \n",
       "12       kkong  Psarocolius  \n",
       "13       kkong  Psarocolius  \n",
       "14       kkong  Psarocolius  \n",
       "15       kkong  Psarocolius  \n",
       "16       kkong  Psarocolius  \n",
       "17       kkong  Psarocolius  \n",
       "18    EdZamora     Saltator  \n",
       "19    EdZamora     Saltator  \n",
       "20    EdZamora     Saltator  \n",
       "21       kkong     Saltator  \n",
       "22    EdZamora     Saltator  \n",
       "23    EdZamora     Saltator  \n",
       "24    EdZamora     Saltator  \n",
       "25    EdZamora     Saltator  \n",
       "26    EdZamora     Saltator  \n",
       "27    EdZamora  Schiffornis  \n",
       "28    EdZamora  Schiffornis  \n",
       "29    EdZamora  Schiffornis  \n",
       "30    EdZamora  Schiffornis  \n",
       "31    EdZamora  Schiffornis  \n",
       "32    EdZamora  Schiffornis  \n",
       "33    EdZamora  Schiffornis  \n",
       "34    EdZamora  Schiffornis  \n",
       "35    EdZamora  Schiffornis  \n",
       "36       kkong      Tangara  \n",
       "37       kkong      Tangara  \n",
       "38       kkong      Tangara  \n",
       "39       kkong      Tangara  \n",
       "40       kkong      Tangara  \n",
       "41       kkong      Tangara  \n",
       "42       kkong      Tangara  \n",
       "43       kkong      Tangara  \n",
       "44       kkong      Tangara  \n",
       "45       kkong      Tangara  \n",
       "46       kkong      Tangara  \n",
       "47       kkong      Tangara  \n",
       "48       kkong      Tangara  "
      ]
     },
     "execution_count": 15,
     "metadata": {},
     "output_type": "execute_result"
    }
   ],
   "source": [
    "df_segm_iqr_kmeans"
   ]
  },
  {
   "cell_type": "code",
   "execution_count": 17,
   "metadata": {},
   "outputs": [
    {
     "data": {
      "application/vnd.plotly.v1+json": {
       "config": {
        "plotlyServerURL": "https://plot.ly"
       },
       "data": [
        {
         "hovertemplate": "<b>%{hovertext}</b><br><br>Cluster=second<br>TSNE1=%{x}<br>TSNE2=%{y}<br>TSNE3=%{z}<extra></extra>",
         "hovertext": [
          [
           "Euphonia-chlorotica-264822.wav",
           "EdZamora"
          ],
          [
           "Euphonia-cyanocephala-275607.wav",
           "kkong"
          ],
          [
           "Euphonia-laniirostris-45661.wav",
           "EdZamora"
          ],
          [
           "Euphonia-mesochrysa-468090.wav",
           "EdZamora"
          ],
          [
           "Euphonia-rufiventris-427361.wav",
           "kkong"
          ],
          [
           "Euphonia-rufiventris-65575.wav",
           "kkong"
          ],
          [
           "Psarocolius-angustifrons-45659.wav",
           "kkong"
          ],
          [
           "Psarocolius-atrovirens-228641.wav",
           "kkong"
          ],
          [
           "Psarocolius-atrovirens-97799.wav",
           "kkong"
          ],
          [
           "Psarocolius-bifasciatus-146525.wav",
           "kkong"
          ],
          [
           "Psarocolius-bifasciatus-38449.wav",
           "kkong"
          ],
          [
           "Psarocolius-decumanus-76074.wav",
           "kkong"
          ],
          [
           "Saltator-coerulescens-188095.wav",
           "EdZamora"
          ],
          [
           "Saltator-coerulescens-259778.wav",
           "EdZamora"
          ],
          [
           "Saltator-grossus-259800.wav",
           "EdZamora"
          ],
          [
           "Saltator-grossus-27833.wav",
           "EdZamora"
          ],
          [
           "Schiffornis-aenea-542813.wav",
           "EdZamora"
          ],
          [
           "Schiffornis-aenea-542814.wav",
           "EdZamora"
          ],
          [
           "Schiffornis-major-229321.wav",
           "EdZamora"
          ],
          [
           "Schiffornis-turdina-151821.wav",
           "EdZamora"
          ],
          [
           "Tangara-mexicana-297052.wav",
           "kkong"
          ],
          [
           "Tangara-mexicana-428038.wav",
           "kkong"
          ],
          [
           "Tangara-nigroviridis-261185.wav",
           "kkong"
          ],
          [
           "Tangara-nigroviridis-262564.wav",
           "kkong"
          ],
          [
           "Tangara-schrankii-230521.wav",
           "kkong"
          ],
          [
           "Tangara-schrankii-436529.wav",
           "kkong"
          ],
          [
           "Tangara-velia-206320.wav",
           "kkong"
          ],
          [
           "Tangara-velia-9654.wav",
           "kkong"
          ],
          [
           "Tangara-xanthocephala-45830.wav",
           "kkong"
          ]
         ],
         "legendgroup": "second",
         "marker": {
          "color": "#636efa",
          "symbol": "circle"
         },
         "mode": "markers",
         "name": "second",
         "scene": "scene",
         "showlegend": true,
         "type": "scatter3d",
         "x": [
          -15.316579818725586,
          -34.974449157714844,
          -43.8836669921875,
          -138.4716796875,
          4.285407066345215,
          346.59637451171875,
          -92.06217956542969,
          88.40254974365234,
          43.22797775268555,
          -26.12848663330078,
          2.413780689239502,
          -19.008024215698242,
          -43.284934997558594,
          -278.67718505859375,
          45.530784606933594,
          51.47032165527344,
          -92.26803588867188,
          -175.9258575439453,
          -29.672420501708984,
          120.83380126953125,
          91.3084487915039,
          16.208852767944336,
          -77.8591537475586,
          -154.84307861328125,
          -68.64095306396484,
          7.444086074829102,
          -43.009765625,
          -18.519962310791016,
          28.34983253479004
         ],
         "y": [
          89.40962982177734,
          63.20585250854492,
          85.3839340209961,
          49.909786224365234,
          -4.287514686584473,
          48.12267303466797,
          -117.53519439697266,
          201.00534057617188,
          11.348548889160156,
          33.779598236083984,
          -50.889835357666016,
          90.6914291381836,
          -17.07390785217285,
          -28.928844451904297,
          -16.695262908935547,
          -41.77488708496094,
          73.01930236816406,
          -452.5125427246094,
          9.245460510253906,
          36.73357009887695,
          -20.509479522705078,
          51.18157958984375,
          -23.5427303314209,
          -56.271244049072266,
          38.61731719970703,
          13.393381118774414,
          -68.80618286132812,
          -87.57262420654297,
          60.489097595214844
         ],
         "z": [
          21.87042808532715,
          69.11526489257812,
          -87.98097229003906,
          211.8979034423828,
          25.389982223510742,
          71.78968811035156,
          -8.921610832214355,
          126.85025787353516,
          54.07858657836914,
          7.301736354827881,
          8.729354858398438,
          -29.77590560913086,
          0.35650789737701416,
          -60.909244537353516,
          -16.94243812561035,
          30.536169052124023,
          180.02474975585938,
          409.4140930175781,
          64.20411682128906,
          -17.20212745666504,
          56.08803176879883,
          38.326107025146484,
          40.47992706298828,
          40.73408126831055,
          -15.829931259155273,
          -30.221799850463867,
          35.52922439575195,
          -18.228973388671875,
          -30.379865646362305
         ]
        },
        {
         "hovertemplate": "<b>%{hovertext}</b><br><br>Cluster=first<br>TSNE1=%{x}<br>TSNE2=%{y}<br>TSNE3=%{z}<extra></extra>",
         "hovertext": [
          [
           "Euphonia-chlorotica-392016.wav",
           "EdZamora"
          ],
          [
           "Euphonia-chrysopasta-171246.wav",
           "kkong"
          ],
          [
           "Psarocolius-angustifrons-27823.wav",
           "kkong"
          ],
          [
           "Saltator-grossus-151795.wav",
           "kkong"
          ],
          [
           "Saltator-maximus-214115.wav",
           "EdZamora"
          ],
          [
           "Schiffornis-aenea-542811.wav",
           "EdZamora"
          ],
          [
           "Schiffornis-major-102619.wav",
           "EdZamora"
          ],
          [
           "Schiffornis-turdina-27841.wav",
           "EdZamora"
          ],
          [
           "Tangara-nigroviridis-261182.wav",
           "kkong"
          ],
          [
           "Tangara-schrankii-150598.wav",
           "kkong"
          ],
          [
           "Tangara-velia-499792.wav",
           "kkong"
          ]
         ],
         "legendgroup": "first",
         "marker": {
          "color": "#EF553B",
          "symbol": "circle"
         },
         "mode": "markers",
         "name": "first",
         "scene": "scene",
         "showlegend": true,
         "type": "scatter3d",
         "x": [
          195.8740692138672,
          209.35816955566406,
          -251.277099609375,
          53.950321197509766,
          66.73651885986328,
          179.5755615234375,
          -12.579569816589355,
          273.520263671875,
          37.85825729370117,
          79.34871673583984,
          42.31010818481445
         ],
         "y": [
          -415.1107177734375,
          -302.4078369140625,
          -278.0041198730469,
          -34.579071044921875,
          -222.1962890625,
          -93.87724304199219,
          -194.49008178710938,
          -89.05142974853516,
          -61.916778564453125,
          -270.52593994140625,
          -175.96957397460938
         ],
         "z": [
          -241.91773986816406,
          -109.26952362060547,
          -231.73001098632812,
          -452.9570617675781,
          -140.88319396972656,
          -166.3396453857422,
          -48.815948486328125,
          -151.97080993652344,
          -115.06024169921875,
          3.494920253753662,
          -96.8946304321289
         ]
        },
        {
         "hovertemplate": "<b>%{hovertext}</b><br><br>Cluster=fourth<br>TSNE1=%{x}<br>TSNE2=%{y}<br>TSNE3=%{z}<extra></extra>",
         "hovertext": [
          [
           "Psarocolius-angustifrons-122307.wav",
           "EdZamora"
          ],
          [
           "Schiffornis-turdina-76029.wav",
           "EdZamora"
          ]
         ],
         "legendgroup": "fourth",
         "marker": {
          "color": "#00cc96",
          "symbol": "circle"
         },
         "mode": "markers",
         "name": "fourth",
         "scene": "scene",
         "showlegend": true,
         "type": "scatter3d",
         "x": [
          293.99969482421875,
          110.79114532470703
         ],
         "y": [
          -661.218017578125,
          -785.31787109375
         ],
         "z": [
          -1005.39111328125,
          -499.08770751953125
         ]
        },
        {
         "hovertemplate": "<b>%{hovertext}</b><br><br>Cluster=third<br>TSNE1=%{x}<br>TSNE2=%{y}<br>TSNE3=%{z}<extra></extra>",
         "hovertext": [
          [
           "Psarocolius-bifasciatus-128985.wav",
           "kkong"
          ],
          [
           "Psarocolius-decumanus-122330.wav",
           "kkong"
          ],
          [
           "Saltator-coerulescens-270937.wav",
           "EdZamora"
          ],
          [
           "Saltator-maximus-450251.wav",
           "EdZamora"
          ],
          [
           "Schiffornis-major-296584.wav",
           "EdZamora"
          ],
          [
           "Tangara-callophrys-296563.wav",
           "kkong"
          ]
         ],
         "legendgroup": "third",
         "marker": {
          "color": "#ab63fa",
          "symbol": "circle"
         },
         "mode": "markers",
         "name": "third",
         "scene": "scene",
         "showlegend": true,
         "type": "scatter3d",
         "x": [
          -119.70704650878906,
          -389.95281982421875,
          -409.4047546386719,
          -287.3942565917969,
          -84.68052673339844,
          -75.60144805908203
         ],
         "y": [
          379.792236328125,
          737.0186157226562,
          151.62428283691406,
          278.16796875,
          692.5884399414062,
          1.1757906675338745
         ],
         "z": [
          84.4079360961914,
          533.572998046875,
          264.8414306640625,
          242.86703491210938,
          490.9060974121094,
          469.9426574707031
         ]
        },
        {
         "hovertemplate": "<b>%{hovertext}</b><br><br>Cluster=fifth<br>TSNE1=%{x}<br>TSNE2=%{y}<br>TSNE3=%{z}<extra></extra>",
         "hovertext": [
          [
           "Saltator-maximus-214117.wav",
           "EdZamora"
          ]
         ],
         "legendgroup": "fifth",
         "marker": {
          "color": "#FFA15A",
          "symbol": "circle"
         },
         "mode": "markers",
         "name": "fifth",
         "scene": "scene",
         "showlegend": true,
         "type": "scatter3d",
         "x": [
          136.3660125732422
         ],
         "y": [
          801.4736328125
         ],
         "z": [
          -672.133056640625
         ]
        },
        {
         "color": "lightblue",
         "opacity": 0.5,
         "type": "mesh3d",
         "x": [
          195.8740692138672,
          209.35816955566406,
          -251.277099609375,
          53.950321197509766,
          66.73651885986328,
          179.5755615234375,
          -12.579569816589355,
          273.520263671875,
          37.85825729370117,
          79.34871673583984,
          42.31010818481445
         ],
         "y": [
          -415.1107177734375,
          -302.4078369140625,
          -278.0041198730469,
          -34.579071044921875,
          -222.1962890625,
          -93.87724304199219,
          -194.49008178710938,
          -89.05142974853516,
          -61.916778564453125,
          -270.52593994140625,
          -175.96957397460938
         ],
         "z": [
          -241.91773986816406,
          -109.26952362060547,
          -231.73001098632812,
          -452.9570617675781,
          -140.88319396972656,
          -166.3396453857422,
          -48.815948486328125,
          -151.97080993652344,
          -115.06024169921875,
          3.494920253753662,
          -96.8946304321289
         ]
        },
        {
         "color": "lightblue",
         "opacity": 0.5,
         "type": "mesh3d",
         "x": [
          -15.316579818725586,
          -34.974449157714844,
          -43.8836669921875,
          -138.4716796875,
          4.285407066345215,
          346.59637451171875,
          -92.06217956542969,
          88.40254974365234,
          43.22797775268555,
          -26.12848663330078,
          2.413780689239502,
          -19.008024215698242,
          -43.284934997558594,
          -278.67718505859375,
          45.530784606933594,
          51.47032165527344,
          -92.26803588867188,
          -175.9258575439453,
          -29.672420501708984,
          120.83380126953125,
          91.3084487915039,
          16.208852767944336,
          -77.8591537475586,
          -154.84307861328125,
          -68.64095306396484,
          7.444086074829102,
          -43.009765625,
          -18.519962310791016,
          28.34983253479004
         ],
         "y": [
          89.40962982177734,
          63.20585250854492,
          85.3839340209961,
          49.909786224365234,
          -4.287514686584473,
          48.12267303466797,
          -117.53519439697266,
          201.00534057617188,
          11.348548889160156,
          33.779598236083984,
          -50.889835357666016,
          90.6914291381836,
          -17.07390785217285,
          -28.928844451904297,
          -16.695262908935547,
          -41.77488708496094,
          73.01930236816406,
          -452.5125427246094,
          9.245460510253906,
          36.73357009887695,
          -20.509479522705078,
          51.18157958984375,
          -23.5427303314209,
          -56.271244049072266,
          38.61731719970703,
          13.393381118774414,
          -68.80618286132812,
          -87.57262420654297,
          60.489097595214844
         ],
         "z": [
          21.87042808532715,
          69.11526489257812,
          -87.98097229003906,
          211.8979034423828,
          25.389982223510742,
          71.78968811035156,
          -8.921610832214355,
          126.85025787353516,
          54.07858657836914,
          7.301736354827881,
          8.729354858398438,
          -29.77590560913086,
          0.35650789737701416,
          -60.909244537353516,
          -16.94243812561035,
          30.536169052124023,
          180.02474975585938,
          409.4140930175781,
          64.20411682128906,
          -17.20212745666504,
          56.08803176879883,
          38.326107025146484,
          40.47992706298828,
          40.73408126831055,
          -15.829931259155273,
          -30.221799850463867,
          35.52922439575195,
          -18.228973388671875,
          -30.379865646362305
         ]
        },
        {
         "color": "lightblue",
         "opacity": 0.5,
         "type": "mesh3d",
         "x": [
          -119.70704650878906,
          -389.95281982421875,
          -409.4047546386719,
          -287.3942565917969,
          -84.68052673339844,
          -75.60144805908203
         ],
         "y": [
          379.792236328125,
          737.0186157226562,
          151.62428283691406,
          278.16796875,
          692.5884399414062,
          1.1757906675338745
         ],
         "z": [
          84.4079360961914,
          533.572998046875,
          264.8414306640625,
          242.86703491210938,
          490.9060974121094,
          469.9426574707031
         ]
        },
        {
         "color": "lightblue",
         "opacity": 0.5,
         "type": "mesh3d",
         "x": [
          293.99969482421875,
          110.79114532470703
         ],
         "y": [
          -661.218017578125,
          -785.31787109375
         ],
         "z": [
          -1005.39111328125,
          -499.08770751953125
         ]
        },
        {
         "color": "lightblue",
         "opacity": 0.5,
         "type": "mesh3d",
         "x": [
          136.3660125732422
         ],
         "y": [
          801.4736328125
         ],
         "z": [
          -672.133056640625
         ]
        }
       ],
       "layout": {
        "legend": {
         "title": {
          "text": "Cluster"
         },
         "tracegroupgap": 0
        },
        "margin": {
         "t": 60
        },
        "scene": {
         "domain": {
          "x": [
           0,
           1
          ],
          "y": [
           0,
           1
          ]
         },
         "xaxis": {
          "title": {
           "text": "TSNE1"
          }
         },
         "yaxis": {
          "title": {
           "text": "TSNE2"
          }
         },
         "zaxis": {
          "title": {
           "text": "TSNE3"
          }
         }
        },
        "template": {
         "data": {
          "bar": [
           {
            "error_x": {
             "color": "#2a3f5f"
            },
            "error_y": {
             "color": "#2a3f5f"
            },
            "marker": {
             "line": {
              "color": "#E5ECF6",
              "width": 0.5
             },
             "pattern": {
              "fillmode": "overlay",
              "size": 10,
              "solidity": 0.2
             }
            },
            "type": "bar"
           }
          ],
          "barpolar": [
           {
            "marker": {
             "line": {
              "color": "#E5ECF6",
              "width": 0.5
             },
             "pattern": {
              "fillmode": "overlay",
              "size": 10,
              "solidity": 0.2
             }
            },
            "type": "barpolar"
           }
          ],
          "carpet": [
           {
            "aaxis": {
             "endlinecolor": "#2a3f5f",
             "gridcolor": "white",
             "linecolor": "white",
             "minorgridcolor": "white",
             "startlinecolor": "#2a3f5f"
            },
            "baxis": {
             "endlinecolor": "#2a3f5f",
             "gridcolor": "white",
             "linecolor": "white",
             "minorgridcolor": "white",
             "startlinecolor": "#2a3f5f"
            },
            "type": "carpet"
           }
          ],
          "choropleth": [
           {
            "colorbar": {
             "outlinewidth": 0,
             "ticks": ""
            },
            "type": "choropleth"
           }
          ],
          "contour": [
           {
            "colorbar": {
             "outlinewidth": 0,
             "ticks": ""
            },
            "colorscale": [
             [
              0,
              "#0d0887"
             ],
             [
              0.1111111111111111,
              "#46039f"
             ],
             [
              0.2222222222222222,
              "#7201a8"
             ],
             [
              0.3333333333333333,
              "#9c179e"
             ],
             [
              0.4444444444444444,
              "#bd3786"
             ],
             [
              0.5555555555555556,
              "#d8576b"
             ],
             [
              0.6666666666666666,
              "#ed7953"
             ],
             [
              0.7777777777777778,
              "#fb9f3a"
             ],
             [
              0.8888888888888888,
              "#fdca26"
             ],
             [
              1,
              "#f0f921"
             ]
            ],
            "type": "contour"
           }
          ],
          "contourcarpet": [
           {
            "colorbar": {
             "outlinewidth": 0,
             "ticks": ""
            },
            "type": "contourcarpet"
           }
          ],
          "heatmap": [
           {
            "colorbar": {
             "outlinewidth": 0,
             "ticks": ""
            },
            "colorscale": [
             [
              0,
              "#0d0887"
             ],
             [
              0.1111111111111111,
              "#46039f"
             ],
             [
              0.2222222222222222,
              "#7201a8"
             ],
             [
              0.3333333333333333,
              "#9c179e"
             ],
             [
              0.4444444444444444,
              "#bd3786"
             ],
             [
              0.5555555555555556,
              "#d8576b"
             ],
             [
              0.6666666666666666,
              "#ed7953"
             ],
             [
              0.7777777777777778,
              "#fb9f3a"
             ],
             [
              0.8888888888888888,
              "#fdca26"
             ],
             [
              1,
              "#f0f921"
             ]
            ],
            "type": "heatmap"
           }
          ],
          "heatmapgl": [
           {
            "colorbar": {
             "outlinewidth": 0,
             "ticks": ""
            },
            "colorscale": [
             [
              0,
              "#0d0887"
             ],
             [
              0.1111111111111111,
              "#46039f"
             ],
             [
              0.2222222222222222,
              "#7201a8"
             ],
             [
              0.3333333333333333,
              "#9c179e"
             ],
             [
              0.4444444444444444,
              "#bd3786"
             ],
             [
              0.5555555555555556,
              "#d8576b"
             ],
             [
              0.6666666666666666,
              "#ed7953"
             ],
             [
              0.7777777777777778,
              "#fb9f3a"
             ],
             [
              0.8888888888888888,
              "#fdca26"
             ],
             [
              1,
              "#f0f921"
             ]
            ],
            "type": "heatmapgl"
           }
          ],
          "histogram": [
           {
            "marker": {
             "pattern": {
              "fillmode": "overlay",
              "size": 10,
              "solidity": 0.2
             }
            },
            "type": "histogram"
           }
          ],
          "histogram2d": [
           {
            "colorbar": {
             "outlinewidth": 0,
             "ticks": ""
            },
            "colorscale": [
             [
              0,
              "#0d0887"
             ],
             [
              0.1111111111111111,
              "#46039f"
             ],
             [
              0.2222222222222222,
              "#7201a8"
             ],
             [
              0.3333333333333333,
              "#9c179e"
             ],
             [
              0.4444444444444444,
              "#bd3786"
             ],
             [
              0.5555555555555556,
              "#d8576b"
             ],
             [
              0.6666666666666666,
              "#ed7953"
             ],
             [
              0.7777777777777778,
              "#fb9f3a"
             ],
             [
              0.8888888888888888,
              "#fdca26"
             ],
             [
              1,
              "#f0f921"
             ]
            ],
            "type": "histogram2d"
           }
          ],
          "histogram2dcontour": [
           {
            "colorbar": {
             "outlinewidth": 0,
             "ticks": ""
            },
            "colorscale": [
             [
              0,
              "#0d0887"
             ],
             [
              0.1111111111111111,
              "#46039f"
             ],
             [
              0.2222222222222222,
              "#7201a8"
             ],
             [
              0.3333333333333333,
              "#9c179e"
             ],
             [
              0.4444444444444444,
              "#bd3786"
             ],
             [
              0.5555555555555556,
              "#d8576b"
             ],
             [
              0.6666666666666666,
              "#ed7953"
             ],
             [
              0.7777777777777778,
              "#fb9f3a"
             ],
             [
              0.8888888888888888,
              "#fdca26"
             ],
             [
              1,
              "#f0f921"
             ]
            ],
            "type": "histogram2dcontour"
           }
          ],
          "mesh3d": [
           {
            "colorbar": {
             "outlinewidth": 0,
             "ticks": ""
            },
            "type": "mesh3d"
           }
          ],
          "parcoords": [
           {
            "line": {
             "colorbar": {
              "outlinewidth": 0,
              "ticks": ""
             }
            },
            "type": "parcoords"
           }
          ],
          "pie": [
           {
            "automargin": true,
            "type": "pie"
           }
          ],
          "scatter": [
           {
            "marker": {
             "colorbar": {
              "outlinewidth": 0,
              "ticks": ""
             }
            },
            "type": "scatter"
           }
          ],
          "scatter3d": [
           {
            "line": {
             "colorbar": {
              "outlinewidth": 0,
              "ticks": ""
             }
            },
            "marker": {
             "colorbar": {
              "outlinewidth": 0,
              "ticks": ""
             }
            },
            "type": "scatter3d"
           }
          ],
          "scattercarpet": [
           {
            "marker": {
             "colorbar": {
              "outlinewidth": 0,
              "ticks": ""
             }
            },
            "type": "scattercarpet"
           }
          ],
          "scattergeo": [
           {
            "marker": {
             "colorbar": {
              "outlinewidth": 0,
              "ticks": ""
             }
            },
            "type": "scattergeo"
           }
          ],
          "scattergl": [
           {
            "marker": {
             "colorbar": {
              "outlinewidth": 0,
              "ticks": ""
             }
            },
            "type": "scattergl"
           }
          ],
          "scattermapbox": [
           {
            "marker": {
             "colorbar": {
              "outlinewidth": 0,
              "ticks": ""
             }
            },
            "type": "scattermapbox"
           }
          ],
          "scatterpolar": [
           {
            "marker": {
             "colorbar": {
              "outlinewidth": 0,
              "ticks": ""
             }
            },
            "type": "scatterpolar"
           }
          ],
          "scatterpolargl": [
           {
            "marker": {
             "colorbar": {
              "outlinewidth": 0,
              "ticks": ""
             }
            },
            "type": "scatterpolargl"
           }
          ],
          "scatterternary": [
           {
            "marker": {
             "colorbar": {
              "outlinewidth": 0,
              "ticks": ""
             }
            },
            "type": "scatterternary"
           }
          ],
          "surface": [
           {
            "colorbar": {
             "outlinewidth": 0,
             "ticks": ""
            },
            "colorscale": [
             [
              0,
              "#0d0887"
             ],
             [
              0.1111111111111111,
              "#46039f"
             ],
             [
              0.2222222222222222,
              "#7201a8"
             ],
             [
              0.3333333333333333,
              "#9c179e"
             ],
             [
              0.4444444444444444,
              "#bd3786"
             ],
             [
              0.5555555555555556,
              "#d8576b"
             ],
             [
              0.6666666666666666,
              "#ed7953"
             ],
             [
              0.7777777777777778,
              "#fb9f3a"
             ],
             [
              0.8888888888888888,
              "#fdca26"
             ],
             [
              1,
              "#f0f921"
             ]
            ],
            "type": "surface"
           }
          ],
          "table": [
           {
            "cells": {
             "fill": {
              "color": "#EBF0F8"
             },
             "line": {
              "color": "white"
             }
            },
            "header": {
             "fill": {
              "color": "#C8D4E3"
             },
             "line": {
              "color": "white"
             }
            },
            "type": "table"
           }
          ]
         },
         "layout": {
          "annotationdefaults": {
           "arrowcolor": "#2a3f5f",
           "arrowhead": 0,
           "arrowwidth": 1
          },
          "autotypenumbers": "strict",
          "coloraxis": {
           "colorbar": {
            "outlinewidth": 0,
            "ticks": ""
           }
          },
          "colorscale": {
           "diverging": [
            [
             0,
             "#8e0152"
            ],
            [
             0.1,
             "#c51b7d"
            ],
            [
             0.2,
             "#de77ae"
            ],
            [
             0.3,
             "#f1b6da"
            ],
            [
             0.4,
             "#fde0ef"
            ],
            [
             0.5,
             "#f7f7f7"
            ],
            [
             0.6,
             "#e6f5d0"
            ],
            [
             0.7,
             "#b8e186"
            ],
            [
             0.8,
             "#7fbc41"
            ],
            [
             0.9,
             "#4d9221"
            ],
            [
             1,
             "#276419"
            ]
           ],
           "sequential": [
            [
             0,
             "#0d0887"
            ],
            [
             0.1111111111111111,
             "#46039f"
            ],
            [
             0.2222222222222222,
             "#7201a8"
            ],
            [
             0.3333333333333333,
             "#9c179e"
            ],
            [
             0.4444444444444444,
             "#bd3786"
            ],
            [
             0.5555555555555556,
             "#d8576b"
            ],
            [
             0.6666666666666666,
             "#ed7953"
            ],
            [
             0.7777777777777778,
             "#fb9f3a"
            ],
            [
             0.8888888888888888,
             "#fdca26"
            ],
            [
             1,
             "#f0f921"
            ]
           ],
           "sequentialminus": [
            [
             0,
             "#0d0887"
            ],
            [
             0.1111111111111111,
             "#46039f"
            ],
            [
             0.2222222222222222,
             "#7201a8"
            ],
            [
             0.3333333333333333,
             "#9c179e"
            ],
            [
             0.4444444444444444,
             "#bd3786"
            ],
            [
             0.5555555555555556,
             "#d8576b"
            ],
            [
             0.6666666666666666,
             "#ed7953"
            ],
            [
             0.7777777777777778,
             "#fb9f3a"
            ],
            [
             0.8888888888888888,
             "#fdca26"
            ],
            [
             1,
             "#f0f921"
            ]
           ]
          },
          "colorway": [
           "#636efa",
           "#EF553B",
           "#00cc96",
           "#ab63fa",
           "#FFA15A",
           "#19d3f3",
           "#FF6692",
           "#B6E880",
           "#FF97FF",
           "#FECB52"
          ],
          "font": {
           "color": "#2a3f5f"
          },
          "geo": {
           "bgcolor": "white",
           "lakecolor": "white",
           "landcolor": "#E5ECF6",
           "showlakes": true,
           "showland": true,
           "subunitcolor": "white"
          },
          "hoverlabel": {
           "align": "left"
          },
          "hovermode": "closest",
          "mapbox": {
           "style": "light"
          },
          "paper_bgcolor": "white",
          "plot_bgcolor": "#E5ECF6",
          "polar": {
           "angularaxis": {
            "gridcolor": "white",
            "linecolor": "white",
            "ticks": ""
           },
           "bgcolor": "#E5ECF6",
           "radialaxis": {
            "gridcolor": "white",
            "linecolor": "white",
            "ticks": ""
           }
          },
          "scene": {
           "xaxis": {
            "backgroundcolor": "#E5ECF6",
            "gridcolor": "white",
            "gridwidth": 2,
            "linecolor": "white",
            "showbackground": true,
            "ticks": "",
            "zerolinecolor": "white"
           },
           "yaxis": {
            "backgroundcolor": "#E5ECF6",
            "gridcolor": "white",
            "gridwidth": 2,
            "linecolor": "white",
            "showbackground": true,
            "ticks": "",
            "zerolinecolor": "white"
           },
           "zaxis": {
            "backgroundcolor": "#E5ECF6",
            "gridcolor": "white",
            "gridwidth": 2,
            "linecolor": "white",
            "showbackground": true,
            "ticks": "",
            "zerolinecolor": "white"
           }
          },
          "shapedefaults": {
           "line": {
            "color": "#2a3f5f"
           }
          },
          "ternary": {
           "aaxis": {
            "gridcolor": "white",
            "linecolor": "white",
            "ticks": ""
           },
           "baxis": {
            "gridcolor": "white",
            "linecolor": "white",
            "ticks": ""
           },
           "bgcolor": "#E5ECF6",
           "caxis": {
            "gridcolor": "white",
            "linecolor": "white",
            "ticks": ""
           }
          },
          "title": {
           "x": 0.05
          },
          "xaxis": {
           "automargin": true,
           "gridcolor": "white",
           "linecolor": "white",
           "ticks": "",
           "title": {
            "standoff": 15
           },
           "zerolinecolor": "white",
           "zerolinewidth": 2
          },
          "yaxis": {
           "automargin": true,
           "gridcolor": "white",
           "linecolor": "white",
           "ticks": "",
           "title": {
            "standoff": 15
           },
           "zerolinecolor": "white",
           "zerolinewidth": 2
          }
         }
        },
        "title": {
         "text": "EdZamora & kkong Annotations",
         "x": 0.5
        }
       }
      }
     },
     "metadata": {},
     "output_type": "display_data"
    }
   ],
   "source": [
    "import plotly.express as px \n",
    "import plotly.graph_objects as go\n",
    "import numpy as np\n",
    "\n",
    "\n",
    "fig = px.scatter_3d(df_segm_iqr_kmeans, \n",
    "                    x='TSNE1',\n",
    "                    y='TSNE2',\n",
    "                    z='TSNE3' , \n",
    "                    color = df_segm_iqr_kmeans['Cluster'],\n",
    "                    hover_name = list(tuple(zip(df_segm_iqr_kmeans['IN FILE'],df_segm_iqr_kmeans['LAST MOD BY'])))) \n",
    "\n",
    "\n",
    "#color = Y, color_discrete_sequence= px.colors.qualitative.G10)\n",
    "\n",
    "\n",
    "clust_1 = df_segm_iqr_kmeans[df_segm_iqr_kmeans['Cluster'] == 'first']\n",
    "x, y, z = clust_1['TSNE1'], clust_1['TSNE2'], clust_1['TSNE3']\n",
    "fig.add_trace(go.Figure(data=[go.Mesh3d(x=x, y=y, z=z, color='lightblue', opacity=0.50)]).data[0])\n",
    "\n",
    "\n",
    "clust_2 = df_segm_iqr_kmeans[df_segm_iqr_kmeans['Cluster'] == 'second']\n",
    "x2, y2, z2 = clust_2['TSNE1'], clust_2['TSNE2'], clust_2['TSNE3']\n",
    "fig.add_trace(go.Figure(data=[go.Mesh3d(x=x2, y=y2, z=z2, color='lightblue', opacity=0.50)]).data[0])\n",
    "\n",
    "\n",
    "clust_3 = df_segm_iqr_kmeans[df_segm_iqr_kmeans['Cluster'] == 'third']\n",
    "x3, y3, z3 = clust_3['TSNE1'], clust_3['TSNE2'], clust_3['TSNE3']\n",
    "fig.add_trace(go.Figure(data=[go.Mesh3d(x=x3, y=y3, z=z3, color='lightblue', opacity=0.50)]).data[0])\n",
    "\n",
    "\n",
    "clust_4 = df_segm_iqr_kmeans[df_segm_iqr_kmeans['Cluster'] == 'fourth']\n",
    "x4, y4, z4 = clust_4['TSNE1'], clust_4['TSNE2'], clust_4['TSNE3']\n",
    "fig.add_trace(go.Figure(data=[go.Mesh3d(x=x4, y=y4, z=z4, color='lightblue', opacity=0.50)]).data[0])\n",
    "\n",
    "\n",
    "clust_5 = df_segm_iqr_kmeans[df_segm_iqr_kmeans['Cluster'] == 'fifth']\n",
    "x5, y5, z5 = clust_5['TSNE1'], clust_5['TSNE2'], clust_5['TSNE3']\n",
    "fig.add_trace(go.Figure(data=[go.Mesh3d(x=x5, y=y5, z=z5, color='lightblue', opacity=0.50)]).data[0])\n",
    "\n",
    "\n",
    "fig.update_layout(title_text= (' & '.join(df_segm_iqr_kmeans['LAST MOD BY'].unique()) + ' Annotations'), title_x=0.5)\n",
    "fig.show()"
   ]
  },
  {
   "cell_type": "code",
   "execution_count": null,
   "metadata": {},
   "outputs": [
    {
     "data": {
      "text/html": [
       "<div>\n",
       "<style scoped>\n",
       "    .dataframe tbody tr th:only-of-type {\n",
       "        vertical-align: middle;\n",
       "    }\n",
       "\n",
       "    .dataframe tbody tr th {\n",
       "        vertical-align: top;\n",
       "    }\n",
       "\n",
       "    .dataframe thead th {\n",
       "        text-align: right;\n",
       "    }\n",
       "</style>\n",
       "<table border=\"1\" class=\"dataframe\">\n",
       "  <thead>\n",
       "    <tr style=\"text-align: right;\">\n",
       "      <th></th>\n",
       "      <th>IN FILE</th>\n",
       "      <th>CLIP LENGTH</th>\n",
       "      <th>OFFSET</th>\n",
       "      <th>DURATION</th>\n",
       "      <th>MAX FREQ</th>\n",
       "      <th>MIN FREQ</th>\n",
       "      <th>SAMPLE RATE</th>\n",
       "      <th>MANUAL ID</th>\n",
       "      <th>TIME_SPENT</th>\n",
       "      <th>LAST MOD BY</th>\n",
       "      <th>LAST MOD DATE</th>\n",
       "      <th>LAST MOD TIME</th>\n",
       "    </tr>\n",
       "  </thead>\n",
       "  <tbody>\n",
       "    <tr>\n",
       "      <th>10032</th>\n",
       "      <td>Euphonia-chlorotica-264822.wav</td>\n",
       "      <td>27.742</td>\n",
       "      <td>0.8974</td>\n",
       "      <td>0.5000</td>\n",
       "      <td>24000</td>\n",
       "      <td>0</td>\n",
       "      <td>44100</td>\n",
       "      <td>Euphonia chlorotica Purple-throated Euphonia</td>\n",
       "      <td>84.003</td>\n",
       "      <td>EdZamora</td>\n",
       "      <td>11/21/2021</td>\n",
       "      <td>15:28:43</td>\n",
       "    </tr>\n",
       "    <tr>\n",
       "      <th>10033</th>\n",
       "      <td>Euphonia-chlorotica-264822.wav</td>\n",
       "      <td>27.742</td>\n",
       "      <td>1.7304</td>\n",
       "      <td>0.5601</td>\n",
       "      <td>24000</td>\n",
       "      <td>0</td>\n",
       "      <td>44100</td>\n",
       "      <td>Euphonia chlorotica Purple-throated Euphonia</td>\n",
       "      <td>84.008</td>\n",
       "      <td>EdZamora</td>\n",
       "      <td>11/21/2021</td>\n",
       "      <td>15:28:43</td>\n",
       "    </tr>\n",
       "    <tr>\n",
       "      <th>10034</th>\n",
       "      <td>Euphonia-chlorotica-264822.wav</td>\n",
       "      <td>27.742</td>\n",
       "      <td>2.1405</td>\n",
       "      <td>0.4100</td>\n",
       "      <td>24000</td>\n",
       "      <td>0</td>\n",
       "      <td>44100</td>\n",
       "      <td>Euphonia chlorotica Purple-throated Euphonia</td>\n",
       "      <td>84.009</td>\n",
       "      <td>EdZamora</td>\n",
       "      <td>11/21/2021</td>\n",
       "      <td>15:28:43</td>\n",
       "    </tr>\n",
       "    <tr>\n",
       "      <th>10035</th>\n",
       "      <td>Euphonia-chlorotica-264822.wav</td>\n",
       "      <td>27.742</td>\n",
       "      <td>4.8907</td>\n",
       "      <td>0.5700</td>\n",
       "      <td>24000</td>\n",
       "      <td>0</td>\n",
       "      <td>44100</td>\n",
       "      <td>Euphonia chlorotica Purple-throated Euphonia</td>\n",
       "      <td>84.011</td>\n",
       "      <td>EdZamora</td>\n",
       "      <td>11/21/2021</td>\n",
       "      <td>15:28:43</td>\n",
       "    </tr>\n",
       "    <tr>\n",
       "      <th>10036</th>\n",
       "      <td>Euphonia-chlorotica-264822.wav</td>\n",
       "      <td>27.742</td>\n",
       "      <td>5.4707</td>\n",
       "      <td>0.6001</td>\n",
       "      <td>24000</td>\n",
       "      <td>0</td>\n",
       "      <td>44100</td>\n",
       "      <td>Euphonia chlorotica Purple-throated Euphonia</td>\n",
       "      <td>84.011</td>\n",
       "      <td>EdZamora</td>\n",
       "      <td>11/21/2021</td>\n",
       "      <td>15:28:43</td>\n",
       "    </tr>\n",
       "    <tr>\n",
       "      <th>...</th>\n",
       "      <td>...</td>\n",
       "      <td>...</td>\n",
       "      <td>...</td>\n",
       "      <td>...</td>\n",
       "      <td>...</td>\n",
       "      <td>...</td>\n",
       "      <td>...</td>\n",
       "      <td>...</td>\n",
       "      <td>...</td>\n",
       "      <td>...</td>\n",
       "      <td>...</td>\n",
       "      <td>...</td>\n",
       "    </tr>\n",
       "    <tr>\n",
       "      <th>27184</th>\n",
       "      <td>Tangara-xanthocephala-45830.wav</td>\n",
       "      <td>23.400</td>\n",
       "      <td>13.9866</td>\n",
       "      <td>0.5300</td>\n",
       "      <td>24000</td>\n",
       "      <td>0</td>\n",
       "      <td>48000</td>\n",
       "      <td>Tangara xanthocephala Saffron-crowned Tanager</td>\n",
       "      <td>28.786</td>\n",
       "      <td>kkong</td>\n",
       "      <td>11/19/2021</td>\n",
       "      <td>04:19:18</td>\n",
       "    </tr>\n",
       "    <tr>\n",
       "      <th>27185</th>\n",
       "      <td>Tangara-xanthocephala-45830.wav</td>\n",
       "      <td>23.400</td>\n",
       "      <td>15.8166</td>\n",
       "      <td>0.7500</td>\n",
       "      <td>24000</td>\n",
       "      <td>0</td>\n",
       "      <td>48000</td>\n",
       "      <td>Tangara xanthocephala Saffron-crowned Tanager</td>\n",
       "      <td>28.788</td>\n",
       "      <td>kkong</td>\n",
       "      <td>11/19/2021</td>\n",
       "      <td>04:19:18</td>\n",
       "    </tr>\n",
       "    <tr>\n",
       "      <th>27186</th>\n",
       "      <td>Tangara-xanthocephala-45830.wav</td>\n",
       "      <td>23.400</td>\n",
       "      <td>18.4066</td>\n",
       "      <td>0.7200</td>\n",
       "      <td>24000</td>\n",
       "      <td>0</td>\n",
       "      <td>48000</td>\n",
       "      <td>Tangara xanthocephala Saffron-crowned Tanager</td>\n",
       "      <td>28.791</td>\n",
       "      <td>kkong</td>\n",
       "      <td>11/19/2021</td>\n",
       "      <td>04:19:18</td>\n",
       "    </tr>\n",
       "    <tr>\n",
       "      <th>27187</th>\n",
       "      <td>Tangara-xanthocephala-45830.wav</td>\n",
       "      <td>23.400</td>\n",
       "      <td>20.4766</td>\n",
       "      <td>0.4900</td>\n",
       "      <td>24000</td>\n",
       "      <td>0</td>\n",
       "      <td>48000</td>\n",
       "      <td>Tangara xanthocephala Saffron-crowned Tanager</td>\n",
       "      <td>28.794</td>\n",
       "      <td>kkong</td>\n",
       "      <td>11/19/2021</td>\n",
       "      <td>04:19:18</td>\n",
       "    </tr>\n",
       "    <tr>\n",
       "      <th>27188</th>\n",
       "      <td>Tangara-xanthocephala-45830.wav</td>\n",
       "      <td>23.400</td>\n",
       "      <td>22.7166</td>\n",
       "      <td>0.5300</td>\n",
       "      <td>24000</td>\n",
       "      <td>0</td>\n",
       "      <td>48000</td>\n",
       "      <td>Tangara xanthocephala Saffron-crowned Tanager</td>\n",
       "      <td>28.795</td>\n",
       "      <td>kkong</td>\n",
       "      <td>11/19/2021</td>\n",
       "      <td>04:19:18</td>\n",
       "    </tr>\n",
       "  </tbody>\n",
       "</table>\n",
       "<p>627 rows × 12 columns</p>\n",
       "</div>"
      ],
      "text/plain": [
       "                               IN FILE  CLIP LENGTH   OFFSET  DURATION  \\\n",
       "10032   Euphonia-chlorotica-264822.wav       27.742   0.8974    0.5000   \n",
       "10033   Euphonia-chlorotica-264822.wav       27.742   1.7304    0.5601   \n",
       "10034   Euphonia-chlorotica-264822.wav       27.742   2.1405    0.4100   \n",
       "10035   Euphonia-chlorotica-264822.wav       27.742   4.8907    0.5700   \n",
       "10036   Euphonia-chlorotica-264822.wav       27.742   5.4707    0.6001   \n",
       "...                                ...          ...      ...       ...   \n",
       "27184  Tangara-xanthocephala-45830.wav       23.400  13.9866    0.5300   \n",
       "27185  Tangara-xanthocephala-45830.wav       23.400  15.8166    0.7500   \n",
       "27186  Tangara-xanthocephala-45830.wav       23.400  18.4066    0.7200   \n",
       "27187  Tangara-xanthocephala-45830.wav       23.400  20.4766    0.4900   \n",
       "27188  Tangara-xanthocephala-45830.wav       23.400  22.7166    0.5300   \n",
       "\n",
       "       MAX FREQ  MIN FREQ  SAMPLE RATE  \\\n",
       "10032     24000         0        44100   \n",
       "10033     24000         0        44100   \n",
       "10034     24000         0        44100   \n",
       "10035     24000         0        44100   \n",
       "10036     24000         0        44100   \n",
       "...         ...       ...          ...   \n",
       "27184     24000         0        48000   \n",
       "27185     24000         0        48000   \n",
       "27186     24000         0        48000   \n",
       "27187     24000         0        48000   \n",
       "27188     24000         0        48000   \n",
       "\n",
       "                                           MANUAL ID  TIME_SPENT LAST MOD BY  \\\n",
       "10032   Euphonia chlorotica Purple-throated Euphonia      84.003    EdZamora   \n",
       "10033   Euphonia chlorotica Purple-throated Euphonia      84.008    EdZamora   \n",
       "10034   Euphonia chlorotica Purple-throated Euphonia      84.009    EdZamora   \n",
       "10035   Euphonia chlorotica Purple-throated Euphonia      84.011    EdZamora   \n",
       "10036   Euphonia chlorotica Purple-throated Euphonia      84.011    EdZamora   \n",
       "...                                              ...         ...         ...   \n",
       "27184  Tangara xanthocephala Saffron-crowned Tanager      28.786       kkong   \n",
       "27185  Tangara xanthocephala Saffron-crowned Tanager      28.788       kkong   \n",
       "27186  Tangara xanthocephala Saffron-crowned Tanager      28.791       kkong   \n",
       "27187  Tangara xanthocephala Saffron-crowned Tanager      28.794       kkong   \n",
       "27188  Tangara xanthocephala Saffron-crowned Tanager      28.795       kkong   \n",
       "\n",
       "      LAST MOD DATE LAST MOD TIME  \n",
       "10032    11/21/2021      15:28:43  \n",
       "10033    11/21/2021      15:28:43  \n",
       "10034    11/21/2021      15:28:43  \n",
       "10035    11/21/2021      15:28:43  \n",
       "10036    11/21/2021      15:28:43  \n",
       "...             ...           ...  \n",
       "27184    11/19/2021      04:19:18  \n",
       "27185    11/19/2021      04:19:18  \n",
       "27186    11/19/2021      04:19:18  \n",
       "27187    11/19/2021      04:19:18  \n",
       "27188    11/19/2021      04:19:18  \n",
       "\n",
       "[627 rows x 12 columns]"
      ]
     },
     "execution_count": 17,
     "metadata": {},
     "output_type": "execute_result"
    }
   ],
   "source": [
    "kaleidoscope_format = pd.read_csv('for_data_science_newline_fixed.csv')\n",
    "for_kaleidoscope = kaleidoscope_format[kaleidoscope_format['IN FILE'].isin(df_segm_iqr_kmeans['IN FILE'].to_list())] \n",
    "for_kaleidoscope"
   ]
  },
  {
   "cell_type": "code",
   "execution_count": null,
   "metadata": {},
   "outputs": [],
   "source": []
  }
 ],
 "metadata": {
  "interpreter": {
   "hash": "d1b7c51cb1c07a1a0543a455994ca61e31e66a1747528d0d0492d9b5937ed4ce"
  },
  "kernelspec": {
   "display_name": "Python 3.8.12 ('tweety')",
   "language": "python",
   "name": "python3"
  },
  "language_info": {
   "codemirror_mode": {
    "name": "ipython",
    "version": 3
   },
   "file_extension": ".py",
   "mimetype": "text/x-python",
   "name": "python",
   "nbconvert_exporter": "python",
   "pygments_lexer": "ipython3",
   "version": "3.8.12"
  },
  "orig_nbformat": 4
 },
 "nbformat": 4,
 "nbformat_minor": 2
}
