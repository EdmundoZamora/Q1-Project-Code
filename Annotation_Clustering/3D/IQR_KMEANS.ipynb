{
 "cells": [
  {
   "cell_type": "code",
   "execution_count": 1,
   "metadata": {},
   "outputs": [],
   "source": [
    "import numpy as np\n",
    "import pandas as pd\n",
    "import matplotlib.pyplot as plt\n",
    "import seaborn as sns\n",
    "import random\n",
    "from scipy import stats\n",
    "sns.set()\n",
    "\n",
    "from sklearn.preprocessing import StandardScaler\n",
    "\n",
    "from sklearn.cluster import KMeans\n",
    "from sklearn.decomposition import PCA"
   ]
  },
  {
   "cell_type": "code",
   "execution_count": 2,
   "metadata": {},
   "outputs": [
    {
     "data": {
      "text/html": [
       "<div>\n",
       "<style scoped>\n",
       "    .dataframe tbody tr th:only-of-type {\n",
       "        vertical-align: middle;\n",
       "    }\n",
       "\n",
       "    .dataframe tbody tr th {\n",
       "        vertical-align: top;\n",
       "    }\n",
       "\n",
       "    .dataframe thead th {\n",
       "        text-align: right;\n",
       "    }\n",
       "</style>\n",
       "<table border=\"1\" class=\"dataframe\">\n",
       "  <thead>\n",
       "    <tr style=\"text-align: right;\">\n",
       "      <th></th>\n",
       "      <th>IN FILE</th>\n",
       "      <th>CLIP LENGTH</th>\n",
       "      <th>OFFSET</th>\n",
       "      <th>DURATION</th>\n",
       "      <th>LAST MOD BY</th>\n",
       "    </tr>\n",
       "  </thead>\n",
       "  <tbody>\n",
       "    <tr>\n",
       "      <th>0</th>\n",
       "      <td>Aburria-aburri-257423.wav</td>\n",
       "      <td>24.6335</td>\n",
       "      <td>2.3614</td>\n",
       "      <td>3.3205</td>\n",
       "      <td>alarce</td>\n",
       "    </tr>\n",
       "    <tr>\n",
       "      <th>1</th>\n",
       "      <td>Aburria-aburri-257423.wav</td>\n",
       "      <td>24.6335</td>\n",
       "      <td>6.7320</td>\n",
       "      <td>2.0103</td>\n",
       "      <td>alarce</td>\n",
       "    </tr>\n",
       "    <tr>\n",
       "      <th>2</th>\n",
       "      <td>Aburria-aburri-257423.wav</td>\n",
       "      <td>24.6335</td>\n",
       "      <td>19.2438</td>\n",
       "      <td>3.4505</td>\n",
       "      <td>alarce</td>\n",
       "    </tr>\n",
       "    <tr>\n",
       "      <th>3</th>\n",
       "      <td>Aburria-aburri-387212.wav</td>\n",
       "      <td>84.4800</td>\n",
       "      <td>0.6011</td>\n",
       "      <td>3.0800</td>\n",
       "      <td>alarce</td>\n",
       "    </tr>\n",
       "    <tr>\n",
       "      <th>4</th>\n",
       "      <td>Aburria-aburri-387212.wav</td>\n",
       "      <td>84.4800</td>\n",
       "      <td>77.6811</td>\n",
       "      <td>3.1400</td>\n",
       "      <td>alarce</td>\n",
       "    </tr>\n",
       "  </tbody>\n",
       "</table>\n",
       "</div>"
      ],
      "text/plain": [
       "                     IN FILE  CLIP LENGTH   OFFSET  DURATION LAST MOD BY\n",
       "0  Aburria-aburri-257423.wav      24.6335   2.3614    3.3205      alarce\n",
       "1  Aburria-aburri-257423.wav      24.6335   6.7320    2.0103      alarce\n",
       "2  Aburria-aburri-257423.wav      24.6335  19.2438    3.4505      alarce\n",
       "3  Aburria-aburri-387212.wav      84.4800   0.6011    3.0800      alarce\n",
       "4  Aburria-aburri-387212.wav      84.4800  77.6811    3.1400      alarce"
      ]
     },
     "execution_count": 2,
     "metadata": {},
     "output_type": "execute_result"
    }
   ],
   "source": [
    "frame = pd.read_csv('for_data_science_newline_fixed.csv', usecols = [\"IN FILE\",\"LAST MOD BY\",\"CLIP LENGTH\",\"OFFSET\",\"DURATION\"])\n",
    "frame.head()"
   ]
  },
  {
   "cell_type": "code",
   "execution_count": 3,
   "metadata": {},
   "outputs": [
    {
     "data": {
      "text/html": [
       "<div>\n",
       "<style scoped>\n",
       "    .dataframe tbody tr th:only-of-type {\n",
       "        vertical-align: middle;\n",
       "    }\n",
       "\n",
       "    .dataframe tbody tr th {\n",
       "        vertical-align: top;\n",
       "    }\n",
       "\n",
       "    .dataframe thead th {\n",
       "        text-align: right;\n",
       "    }\n",
       "</style>\n",
       "<table border=\"1\" class=\"dataframe\">\n",
       "  <thead>\n",
       "    <tr style=\"text-align: right;\">\n",
       "      <th></th>\n",
       "      <th>IN FILE</th>\n",
       "      <th>CLIP LENGTH</th>\n",
       "      <th>OFFSET</th>\n",
       "      <th>DURATION</th>\n",
       "      <th>LAST MOD BY</th>\n",
       "      <th>GENUS</th>\n",
       "    </tr>\n",
       "  </thead>\n",
       "  <tbody>\n",
       "    <tr>\n",
       "      <th>0</th>\n",
       "      <td>Aburria-aburri-257423.wav</td>\n",
       "      <td>24.6335</td>\n",
       "      <td>2.3614</td>\n",
       "      <td>3.3205</td>\n",
       "      <td>alarce</td>\n",
       "      <td>Aburria</td>\n",
       "    </tr>\n",
       "    <tr>\n",
       "      <th>1</th>\n",
       "      <td>Aburria-aburri-257423.wav</td>\n",
       "      <td>24.6335</td>\n",
       "      <td>6.7320</td>\n",
       "      <td>2.0103</td>\n",
       "      <td>alarce</td>\n",
       "      <td>Aburria</td>\n",
       "    </tr>\n",
       "    <tr>\n",
       "      <th>2</th>\n",
       "      <td>Aburria-aburri-257423.wav</td>\n",
       "      <td>24.6335</td>\n",
       "      <td>19.2438</td>\n",
       "      <td>3.4505</td>\n",
       "      <td>alarce</td>\n",
       "      <td>Aburria</td>\n",
       "    </tr>\n",
       "    <tr>\n",
       "      <th>3</th>\n",
       "      <td>Aburria-aburri-387212.wav</td>\n",
       "      <td>84.4800</td>\n",
       "      <td>0.6011</td>\n",
       "      <td>3.0800</td>\n",
       "      <td>alarce</td>\n",
       "      <td>Aburria</td>\n",
       "    </tr>\n",
       "    <tr>\n",
       "      <th>4</th>\n",
       "      <td>Aburria-aburri-387212.wav</td>\n",
       "      <td>84.4800</td>\n",
       "      <td>77.6811</td>\n",
       "      <td>3.1400</td>\n",
       "      <td>alarce</td>\n",
       "      <td>Aburria</td>\n",
       "    </tr>\n",
       "  </tbody>\n",
       "</table>\n",
       "</div>"
      ],
      "text/plain": [
       "                     IN FILE  CLIP LENGTH   OFFSET  DURATION LAST MOD BY  \\\n",
       "0  Aburria-aburri-257423.wav      24.6335   2.3614    3.3205      alarce   \n",
       "1  Aburria-aburri-257423.wav      24.6335   6.7320    2.0103      alarce   \n",
       "2  Aburria-aburri-257423.wav      24.6335  19.2438    3.4505      alarce   \n",
       "3  Aburria-aburri-387212.wav      84.4800   0.6011    3.0800      alarce   \n",
       "4  Aburria-aburri-387212.wav      84.4800  77.6811    3.1400      alarce   \n",
       "\n",
       "     GENUS  \n",
       "0  Aburria  \n",
       "1  Aburria  \n",
       "2  Aburria  \n",
       "3  Aburria  \n",
       "4  Aburria  "
      ]
     },
     "execution_count": 3,
     "metadata": {},
     "output_type": "execute_result"
    }
   ],
   "source": [
    "def species(row):\n",
    "    species = row['IN FILE']\n",
    "    spec = species.split('-')\n",
    "    spec_to = '-'.join(spec[:-2])\n",
    "    return spec_to\n",
    "\n",
    "frame['GENUS'] = frame.apply (lambda row: species(row), axis=1)\n",
    "frame.head()"
   ]
  },
  {
   "cell_type": "code",
   "execution_count": 4,
   "metadata": {},
   "outputs": [],
   "source": [
    "LAST_MOD_BY = frame.groupby('IN FILE')[['LAST MOD BY']].max()\n",
    "GENUS = frame.groupby('IN FILE')[['GENUS']].max()"
   ]
  },
  {
   "cell_type": "code",
   "execution_count": 5,
   "metadata": {},
   "outputs": [
    {
     "data": {
      "text/html": [
       "<div>\n",
       "<style scoped>\n",
       "    .dataframe tbody tr th:only-of-type {\n",
       "        vertical-align: middle;\n",
       "    }\n",
       "\n",
       "    .dataframe tbody tr th {\n",
       "        vertical-align: top;\n",
       "    }\n",
       "\n",
       "    .dataframe thead th {\n",
       "        text-align: right;\n",
       "    }\n",
       "</style>\n",
       "<table border=\"1\" class=\"dataframe\">\n",
       "  <thead>\n",
       "    <tr style=\"text-align: right;\">\n",
       "      <th></th>\n",
       "      <th>IN FILE</th>\n",
       "      <th>0.25</th>\n",
       "      <th>0.5</th>\n",
       "      <th>0.75</th>\n",
       "      <th>LAST MOD BY</th>\n",
       "      <th>GENUS</th>\n",
       "    </tr>\n",
       "  </thead>\n",
       "  <tbody>\n",
       "    <tr>\n",
       "      <th>0</th>\n",
       "      <td>Aburria-aburri-257423.wav</td>\n",
       "      <td>2.665400</td>\n",
       "      <td>3.3205</td>\n",
       "      <td>3.3855</td>\n",
       "      <td>alarce</td>\n",
       "      <td>Aburria</td>\n",
       "    </tr>\n",
       "    <tr>\n",
       "      <th>1</th>\n",
       "      <td>Aburria-aburri-387212.wav</td>\n",
       "      <td>3.110000</td>\n",
       "      <td>3.1400</td>\n",
       "      <td>3.1700</td>\n",
       "      <td>alarce</td>\n",
       "      <td>Aburria</td>\n",
       "    </tr>\n",
       "    <tr>\n",
       "      <th>2</th>\n",
       "      <td>Accipiter-bicolor-451839.wav</td>\n",
       "      <td>0.202975</td>\n",
       "      <td>0.2155</td>\n",
       "      <td>0.2215</td>\n",
       "      <td>alarce</td>\n",
       "      <td>Accipiter</td>\n",
       "    </tr>\n",
       "    <tr>\n",
       "      <th>3</th>\n",
       "      <td>Accipiter-collaris-260335.wav</td>\n",
       "      <td>0.895100</td>\n",
       "      <td>1.0301</td>\n",
       "      <td>1.0876</td>\n",
       "      <td>alarce</td>\n",
       "      <td>Accipiter</td>\n",
       "    </tr>\n",
       "    <tr>\n",
       "      <th>4</th>\n",
       "      <td>Accipiter-collaris-260336.wav</td>\n",
       "      <td>0.515075</td>\n",
       "      <td>0.5701</td>\n",
       "      <td>0.6700</td>\n",
       "      <td>alarce</td>\n",
       "      <td>Accipiter</td>\n",
       "    </tr>\n",
       "  </tbody>\n",
       "</table>\n",
       "</div>"
      ],
      "text/plain": [
       "                         IN FILE      0.25     0.5    0.75 LAST MOD BY  \\\n",
       "0      Aburria-aburri-257423.wav  2.665400  3.3205  3.3855      alarce   \n",
       "1      Aburria-aburri-387212.wav  3.110000  3.1400  3.1700      alarce   \n",
       "2   Accipiter-bicolor-451839.wav  0.202975  0.2155  0.2215      alarce   \n",
       "3  Accipiter-collaris-260335.wav  0.895100  1.0301  1.0876      alarce   \n",
       "4  Accipiter-collaris-260336.wav  0.515075  0.5701  0.6700      alarce   \n",
       "\n",
       "       GENUS  \n",
       "0    Aburria  \n",
       "1    Aburria  \n",
       "2  Accipiter  \n",
       "3  Accipiter  \n",
       "4  Accipiter  "
      ]
     },
     "execution_count": 5,
     "metadata": {},
     "output_type": "execute_result"
    }
   ],
   "source": [
    "IQR_DURATION = frame.groupby('IN FILE')[['DURATION']].quantile([.25,.5,.75])\n",
    "IQR_DURATION = IQR_DURATION.unstack(1)\n",
    "IQR_DURATION = IQR_DURATION['DURATION'].rename_axis([None], axis=1)\n",
    "IQR_DURATION = IQR_DURATION.join(LAST_MOD_BY)\n",
    "IQR_DURATION = IQR_DURATION.join(GENUS).reset_index()\n",
    "IQR_DURATION = IQR_DURATION.rename(columns = {.25:'0.25',.5:'0.5',.75:'0.75'})\n",
    "IQR_DURATION.head()"
   ]
  },
  {
   "cell_type": "code",
   "execution_count": 6,
   "metadata": {},
   "outputs": [
    {
     "name": "stdout",
     "output_type": "stream",
     "text": [
      "['EdZamora', 'kkong']\n",
      "['Arremon', 'Automolus', 'Bolborhynchus', 'Brotogeris', 'Buteo', 'Campephilus', 'Catamenia', 'Catharus', 'Cercomacroides', 'Coccyzus', 'Coeligena', 'Coereba', 'Colaptes', 'Conopophaga', 'Contopus', 'Cranioleuca', 'Crotophaga', 'Crypturellus', 'Dacnis', 'Daptrius', 'Dendrocincla', 'Diglossa', 'Dryocopus', 'Elaenia', 'Epinecrophylla', 'Euchrepomis', 'Euphonia', 'Falco', 'Furnarius', 'Galbula', 'Glaucidium', 'Hafferia', 'Helicolestes', 'Heliodoxa', 'Hemitriccus', 'Henicorhina', 'Hirundinea', 'Ictinia', 'Iridosornis', 'Leptopogon', 'Leptotila', 'Lurocalis', 'Micrastur', 'Micropygia', 'Mimus', 'Mionectes', 'Molothrus', 'Myadestes', 'Myiarchus', 'Myiophobus', 'Myiothlypis', 'Neopelma', 'Pachyramphus', 'Phrygilus', 'Phyllomyias', 'Picumnus', 'Pipile', 'Piprites', 'Platyrinchus', 'Psarocolius', 'Pyrilia', 'Pyrrhomyias', 'Ramphastos', 'Ramphocelus', 'Rhynchocyclus', 'Saltator', 'Sarcoramphus', 'Setophaga', 'Sporophila', 'Tachyphonus']\n"
     ]
    },
    {
     "data": {
      "text/html": [
       "<div>\n",
       "<style scoped>\n",
       "    .dataframe tbody tr th:only-of-type {\n",
       "        vertical-align: middle;\n",
       "    }\n",
       "\n",
       "    .dataframe tbody tr th {\n",
       "        vertical-align: top;\n",
       "    }\n",
       "\n",
       "    .dataframe thead th {\n",
       "        text-align: right;\n",
       "    }\n",
       "</style>\n",
       "<table border=\"1\" class=\"dataframe\">\n",
       "  <thead>\n",
       "    <tr style=\"text-align: right;\">\n",
       "      <th></th>\n",
       "      <th>IN FILE</th>\n",
       "      <th>0.25</th>\n",
       "      <th>0.5</th>\n",
       "      <th>0.75</th>\n",
       "      <th>LAST MOD BY</th>\n",
       "      <th>GENUS</th>\n",
       "    </tr>\n",
       "  </thead>\n",
       "  <tbody>\n",
       "    <tr>\n",
       "      <th>138</th>\n",
       "      <td>Arremon-brunneinucha-297000.wav</td>\n",
       "      <td>1.8751</td>\n",
       "      <td>1.91010</td>\n",
       "      <td>1.96015</td>\n",
       "      <td>kkong</td>\n",
       "      <td>Arremon</td>\n",
       "    </tr>\n",
       "    <tr>\n",
       "      <th>139</th>\n",
       "      <td>Arremon-castaneiceps-261298.wav</td>\n",
       "      <td>0.8323</td>\n",
       "      <td>0.91975</td>\n",
       "      <td>0.96220</td>\n",
       "      <td>EdZamora</td>\n",
       "      <td>Arremon</td>\n",
       "    </tr>\n",
       "    <tr>\n",
       "      <th>177</th>\n",
       "      <td>Automolus-infuscatus-270606.wav</td>\n",
       "      <td>0.8399</td>\n",
       "      <td>0.89995</td>\n",
       "      <td>1.00490</td>\n",
       "      <td>kkong</td>\n",
       "      <td>Automolus</td>\n",
       "    </tr>\n",
       "    <tr>\n",
       "      <th>181</th>\n",
       "      <td>Automolus-rufipileatus-47553.wav</td>\n",
       "      <td>1.1098</td>\n",
       "      <td>1.17990</td>\n",
       "      <td>1.19980</td>\n",
       "      <td>EdZamora</td>\n",
       "      <td>Automolus</td>\n",
       "    </tr>\n",
       "    <tr>\n",
       "      <th>197</th>\n",
       "      <td>Bolborhynchus-lineola-260395.wav</td>\n",
       "      <td>0.7901</td>\n",
       "      <td>0.94010</td>\n",
       "      <td>1.62020</td>\n",
       "      <td>EdZamora</td>\n",
       "      <td>Bolborhynchus</td>\n",
       "    </tr>\n",
       "    <tr>\n",
       "      <th>...</th>\n",
       "      <td>...</td>\n",
       "      <td>...</td>\n",
       "      <td>...</td>\n",
       "      <td>...</td>\n",
       "      <td>...</td>\n",
       "      <td>...</td>\n",
       "    </tr>\n",
       "    <tr>\n",
       "      <th>2017</th>\n",
       "      <td>Sporophila-luctuosa-10617.wav</td>\n",
       "      <td>0.6274</td>\n",
       "      <td>0.75990</td>\n",
       "      <td>0.88990</td>\n",
       "      <td>EdZamora</td>\n",
       "      <td>Sporophila</td>\n",
       "    </tr>\n",
       "    <tr>\n",
       "      <th>2023</th>\n",
       "      <td>Sporophila-plumbea-84743.wav</td>\n",
       "      <td>1.3500</td>\n",
       "      <td>4.16000</td>\n",
       "      <td>4.86000</td>\n",
       "      <td>kkong</td>\n",
       "      <td>Sporophila</td>\n",
       "    </tr>\n",
       "    <tr>\n",
       "      <th>2025</th>\n",
       "      <td>Sporophila-schistacea-371548.wav</td>\n",
       "      <td>3.1501</td>\n",
       "      <td>3.39840</td>\n",
       "      <td>3.91175</td>\n",
       "      <td>kkong</td>\n",
       "      <td>Sporophila</td>\n",
       "    </tr>\n",
       "    <tr>\n",
       "      <th>2091</th>\n",
       "      <td>Tachyphonus-phoenicius-357433.wav</td>\n",
       "      <td>0.5950</td>\n",
       "      <td>0.93000</td>\n",
       "      <td>1.14500</td>\n",
       "      <td>EdZamora</td>\n",
       "      <td>Tachyphonus</td>\n",
       "    </tr>\n",
       "    <tr>\n",
       "      <th>2092</th>\n",
       "      <td>Tachyphonus-phoenicius-401522.wav</td>\n",
       "      <td>0.9201</td>\n",
       "      <td>1.38000</td>\n",
       "      <td>1.47000</td>\n",
       "      <td>kkong</td>\n",
       "      <td>Tachyphonus</td>\n",
       "    </tr>\n",
       "  </tbody>\n",
       "</table>\n",
       "<p>230 rows × 6 columns</p>\n",
       "</div>"
      ],
      "text/plain": [
       "                                IN FILE    0.25      0.5     0.75 LAST MOD BY  \\\n",
       "138     Arremon-brunneinucha-297000.wav  1.8751  1.91010  1.96015       kkong   \n",
       "139     Arremon-castaneiceps-261298.wav  0.8323  0.91975  0.96220    EdZamora   \n",
       "177     Automolus-infuscatus-270606.wav  0.8399  0.89995  1.00490       kkong   \n",
       "181    Automolus-rufipileatus-47553.wav  1.1098  1.17990  1.19980    EdZamora   \n",
       "197    Bolborhynchus-lineola-260395.wav  0.7901  0.94010  1.62020    EdZamora   \n",
       "...                                 ...     ...      ...      ...         ...   \n",
       "2017      Sporophila-luctuosa-10617.wav  0.6274  0.75990  0.88990    EdZamora   \n",
       "2023       Sporophila-plumbea-84743.wav  1.3500  4.16000  4.86000       kkong   \n",
       "2025   Sporophila-schistacea-371548.wav  3.1501  3.39840  3.91175       kkong   \n",
       "2091  Tachyphonus-phoenicius-357433.wav  0.5950  0.93000  1.14500    EdZamora   \n",
       "2092  Tachyphonus-phoenicius-401522.wav  0.9201  1.38000  1.47000       kkong   \n",
       "\n",
       "              GENUS  \n",
       "138         Arremon  \n",
       "139         Arremon  \n",
       "177       Automolus  \n",
       "181       Automolus  \n",
       "197   Bolborhynchus  \n",
       "...             ...  \n",
       "2017     Sporophila  \n",
       "2023     Sporophila  \n",
       "2025     Sporophila  \n",
       "2091    Tachyphonus  \n",
       "2092    Tachyphonus  \n",
       "\n",
       "[230 rows x 6 columns]"
      ]
     },
     "execution_count": 6,
     "metadata": {},
     "output_type": "execute_result"
    }
   ],
   "source": [
    "annotator = IQR_DURATION['LAST MOD BY'].unique()\n",
    "sampled_annotator = ['EdZamora','kkong'] # random.sample(list(annotator),1) \n",
    "# ['EdZamora','kkong','sunqiaochen','JacobGlennAyers','hjagarla', 'alarce','dnelson','weszhen'] \n",
    "# ['EdZamora'], ['kkong', 'sunqiaochen'], ['kkong', 'JacobGlennAyers'], ['kushagra1067', 'EdZamora'], ['hjagarla', 'alarce'], ['dnelson', 'sunqiaochen'], ['sunqiaochen', 'j4yang'](not gud), ['dnelson', 'hjagarla']\n",
    "# ['weszhen', 'JacobGlennAyers', 'dnelson']\n",
    "print(sampled_annotator)\n",
    "\n",
    "\n",
    "annotator_df = IQR_DURATION[IQR_DURATION['LAST MOD BY'].isin(sampled_annotator)]\n",
    "# genus_counts = annotator_df['GENUS'].value_counts()\n",
    "# sampled_genus = genus_counts.index[:5]#random.sample(list(genus),1)\n",
    "# print(sampled_genus)\n",
    "\n",
    "\n",
    "genus = annotator_df[['LAST MOD BY','GENUS']].groupby(['GENUS','LAST MOD BY'])[['LAST MOD BY']].count().rename(columns = {\"LAST MOD BY\":'COUNT'}).reset_index()\n",
    "genus['LAST MOD BY'] = (genus['LAST MOD BY']+' '+genus['COUNT'].astype(str))\n",
    "genus = genus.drop(columns = ['COUNT']).groupby('GENUS')['LAST MOD BY'].apply(list).to_dict()\n",
    "# print(genus)\n",
    "shared_genus_anns = [i for i in genus if len(genus.get(i)) == 2]\n",
    "print(shared_genus_anns)\n",
    "\n",
    "\n",
    "# for a single genus, and possibly all annotators\n",
    "# random_genus = IQR_DURATION['GENUS'].unique()\n",
    "# random_sampled_genus = random.sample(list(random_genus),1)\n",
    "# IQR_DURATION = IQR_DURATION[IQR_DURATION['GENUS'].isin(random_sampled_genus)]\n",
    "# IQR_DURATION\n",
    "\n",
    "\n",
    "IQR_DURATION = annotator_df[annotator_df['GENUS'].isin(shared_genus_anns)]\n",
    "IQR_DURATION\n"
   ]
  },
  {
   "cell_type": "code",
   "execution_count": 7,
   "metadata": {},
   "outputs": [
    {
     "data": {
      "text/html": [
       "<div>\n",
       "<style scoped>\n",
       "    .dataframe tbody tr th:only-of-type {\n",
       "        vertical-align: middle;\n",
       "    }\n",
       "\n",
       "    .dataframe tbody tr th {\n",
       "        vertical-align: top;\n",
       "    }\n",
       "\n",
       "    .dataframe thead th {\n",
       "        text-align: right;\n",
       "    }\n",
       "</style>\n",
       "<table border=\"1\" class=\"dataframe\">\n",
       "  <thead>\n",
       "    <tr style=\"text-align: right;\">\n",
       "      <th></th>\n",
       "      <th>IN FILE</th>\n",
       "      <th>0.25</th>\n",
       "      <th>0.5</th>\n",
       "      <th>0.75</th>\n",
       "      <th>LAST MOD BY</th>\n",
       "      <th>GENUS</th>\n",
       "    </tr>\n",
       "  </thead>\n",
       "  <tbody>\n",
       "    <tr>\n",
       "      <th>0</th>\n",
       "      <td>Aburria-aburri-257423.wav</td>\n",
       "      <td>4.546700</td>\n",
       "      <td>6.73200</td>\n",
       "      <td>12.987900</td>\n",
       "      <td>alarce</td>\n",
       "      <td>Aburria</td>\n",
       "    </tr>\n",
       "    <tr>\n",
       "      <th>1</th>\n",
       "      <td>Aburria-aburri-387212.wav</td>\n",
       "      <td>15.521100</td>\n",
       "      <td>30.44110</td>\n",
       "      <td>54.061100</td>\n",
       "      <td>alarce</td>\n",
       "      <td>Aburria</td>\n",
       "    </tr>\n",
       "    <tr>\n",
       "      <th>2</th>\n",
       "      <td>Accipiter-bicolor-451839.wav</td>\n",
       "      <td>1.754000</td>\n",
       "      <td>2.75345</td>\n",
       "      <td>3.760200</td>\n",
       "      <td>alarce</td>\n",
       "      <td>Accipiter</td>\n",
       "    </tr>\n",
       "    <tr>\n",
       "      <th>3</th>\n",
       "      <td>Accipiter-collaris-260335.wav</td>\n",
       "      <td>6.441750</td>\n",
       "      <td>17.87295</td>\n",
       "      <td>29.574150</td>\n",
       "      <td>alarce</td>\n",
       "      <td>Accipiter</td>\n",
       "    </tr>\n",
       "    <tr>\n",
       "      <th>4</th>\n",
       "      <td>Accipiter-collaris-260336.wav</td>\n",
       "      <td>5.994075</td>\n",
       "      <td>8.05175</td>\n",
       "      <td>18.697625</td>\n",
       "      <td>alarce</td>\n",
       "      <td>Accipiter</td>\n",
       "    </tr>\n",
       "  </tbody>\n",
       "</table>\n",
       "</div>"
      ],
      "text/plain": [
       "                         IN FILE       0.25       0.5       0.75 LAST MOD BY  \\\n",
       "0      Aburria-aburri-257423.wav   4.546700   6.73200  12.987900      alarce   \n",
       "1      Aburria-aburri-387212.wav  15.521100  30.44110  54.061100      alarce   \n",
       "2   Accipiter-bicolor-451839.wav   1.754000   2.75345   3.760200      alarce   \n",
       "3  Accipiter-collaris-260335.wav   6.441750  17.87295  29.574150      alarce   \n",
       "4  Accipiter-collaris-260336.wav   5.994075   8.05175  18.697625      alarce   \n",
       "\n",
       "       GENUS  \n",
       "0    Aburria  \n",
       "1    Aburria  \n",
       "2  Accipiter  \n",
       "3  Accipiter  \n",
       "4  Accipiter  "
      ]
     },
     "execution_count": 7,
     "metadata": {},
     "output_type": "execute_result"
    }
   ],
   "source": [
    "IQR_OFFSET = frame.groupby('IN FILE')[['OFFSET']].quantile([.25,.5,.75])\n",
    "IQR_OFFSET = IQR_OFFSET.unstack(1)\n",
    "IQR_OFFSET = IQR_OFFSET['OFFSET'].rename_axis([None], axis=1)\n",
    "IQR_OFFSET = IQR_OFFSET.join(LAST_MOD_BY)\n",
    "IQR_OFFSET = IQR_OFFSET.join(GENUS).reset_index()\n",
    "IQR_OFFSET = IQR_OFFSET.rename(columns = {.25:'0.25',.5:'0.5',.75:'0.75'})\n",
    "IQR_OFFSET.head()"
   ]
  },
  {
   "cell_type": "code",
   "execution_count": 8,
   "metadata": {},
   "outputs": [],
   "source": [
    "X = IQR_DURATION.drop(columns = ['IN FILE','GENUS','LAST MOD BY']) # expand to taxa rather than species\n",
    "\n",
    "Y = np.array(IQR_DURATION['GENUS'])\n",
    "Y_2 = np.array(IQR_DURATION['LAST MOD BY'])\n",
    "Y_3 = np.array(IQR_DURATION['IN FILE'])"
   ]
  },
  {
   "cell_type": "code",
   "execution_count": 9,
   "metadata": {},
   "outputs": [
    {
     "data": {
      "text/plain": [
       "array([[ 4.99517169e-01,  3.56763059e-01,  2.12385409e-01],\n",
       "       [-3.81630867e-01, -4.13044237e-01, -4.99749811e-01],\n",
       "       [-3.75208998e-01, -4.28434942e-01, -4.69279172e-01],\n",
       "       [-1.47148147e-01, -2.10827477e-01, -3.30198903e-01],\n",
       "       [-4.17289140e-01, -3.97226013e-01, -3.02022638e-02],\n",
       "       [-6.22450957e-01, -6.34538244e-01, -6.38901440e-01],\n",
       "       [ 2.15104142e-02, -4.80591148e-02,  1.28859838e+00],\n",
       "       [-6.96217953e-01, -6.15027805e-01, -6.22702763e-01],\n",
       "       [ 4.77970108e-01,  4.10747122e-01,  5.15147241e-01],\n",
       "       [ 2.92327393e-01,  2.16769831e-01,  1.19510617e-01],\n",
       "       [ 7.20908074e-03, -3.20076979e-02, -1.49872664e-01],\n",
       "       [ 1.48659197e-01,  3.29324076e-01,  6.09895228e-01],\n",
       "       [-6.28619331e-01, -6.69361657e-01, -6.86855232e-01],\n",
       "       [-5.46318009e-01, -5.76162389e-01, -6.31622739e-01],\n",
       "       [-6.94105496e-01, -7.47092489e-01, -8.29592691e-01],\n",
       "       [ 6.02710690e-01,  4.38108375e-01,  2.72773648e-01],\n",
       "       [-7.44888961e-01, -6.77134740e-01, -4.63945027e-01],\n",
       "       [ 1.97952562e+00,  1.88335774e+00,  1.75470281e+00],\n",
       "       [-1.46979151e-01, -1.56338164e-01, -8.92168263e-02],\n",
       "       [ 2.45937839e-01,  1.54585165e-01,  3.38431654e-02],\n",
       "       [-7.32214219e-01, -7.86035636e-01, -8.70660261e-01],\n",
       "       [-8.56806929e-01, -8.79234903e-01, -9.15242303e-01],\n",
       "       [-7.80716230e-01, -8.24823321e-01, -8.93798680e-01],\n",
       "       [ 1.71189845e+00,  1.44483925e+00,  1.18262906e+00],\n",
       "       [ 4.05866910e+00,  3.60365765e+00,  3.15744043e+00],\n",
       "       [-3.58224844e-01, -3.97303744e-01, -4.62071832e-01],\n",
       "       [-4.02586439e-01, -4.71148034e-01, -5.56641419e-01],\n",
       "       [-7.38467091e-01, -7.86035636e-01, -8.58118775e-01],\n",
       "       [-8.49307707e-01, -8.65787470e-01, -9.07285684e-01],\n",
       "       [ 1.07380971e+00,  9.54979544e-01,  9.64910281e-01],\n",
       "       [-8.10375125e-01, -8.24939917e-01, -8.76083607e-01],\n",
       "       [ 2.80582132e-01,  1.28156682e-01, -3.31993758e-02],\n",
       "       [-8.73960079e-01, -9.10871352e-01, -9.49316612e-01],\n",
       "       [-4.21598552e-01,  5.35466243e-01,  1.18637545e+00],\n",
       "       [ 8.04048960e-01,  6.09699187e-01,  4.08874645e-01],\n",
       "       [-6.69178504e-01, -7.24006432e-01, -8.05597955e-01],\n",
       "       [-8.75227553e-01, -9.27700077e-01, -8.04081559e-01],\n",
       "       [-5.10406241e-01, -5.83935472e-01, -6.65518649e-01],\n",
       "       [-6.07494762e-01, -6.30496240e-01, -6.51175327e-01],\n",
       "       [-5.44121054e-01, -6.07176991e-01, -6.92260737e-01],\n",
       "       [-8.48378226e-01, -9.02593019e-01, -9.72294470e-01],\n",
       "       [ 1.08607013e-01,  2.24038846e-02, -1.00741436e-01],\n",
       "       [-6.88393688e-02, -5.14015406e-02, -8.21343652e-02],\n",
       "       [-8.50406184e-01, -8.98628746e-01, -9.63320974e-01],\n",
       "       [ 4.72823887e-02,  3.95395283e-01,  8.36462624e-01],\n",
       "       [-2.84288851e-01, -2.72934412e-01, -2.92592284e-01],\n",
       "       [-2.23027600e-01, -2.80785226e-01, -3.65807448e-01],\n",
       "       [-4.56657163e-02, -1.17550479e-01, -1.44592039e-01],\n",
       "       [-2.18971683e-01, -1.64344440e-01, -2.08958587e-01],\n",
       "       [-5.56394429e-01, -4.68038801e-01, -4.21004261e-01],\n",
       "       [-4.42807619e-01, -4.90580742e-01, -5.65543556e-01],\n",
       "       [-4.25823466e-01, -4.05076827e-01,  6.96301099e-02],\n",
       "       [ 4.18905812e-01,  2.86416656e-01,  1.69177044e-01],\n",
       "       [-2.82176394e-01, -1.64188978e-01, -1.44520679e-01],\n",
       "       [ 3.80297732e+00,  3.45783461e+00,  3.06638531e+00],\n",
       "       [-8.48357101e-01, -8.94781070e-01, -9.58093868e-01],\n",
       "       [-8.18740455e-01, -8.55915654e-01, -8.61722445e-01],\n",
       "       [-3.45465604e-01, -4.36091429e-01, -5.40496262e-01],\n",
       "       [-7.17342522e-01, -5.37219242e-01,  2.05142388e-01],\n",
       "       [-7.80716230e-01, -8.24823321e-01, -9.00934661e-01],\n",
       "       [-1.99727200e-01, -1.52412757e-01, -2.24746945e-01],\n",
       "       [ 8.95315274e-02, -1.64226661e-02, -3.03449834e-02],\n",
       "       [-4.17458136e-01, -4.59566140e-01, -4.62143191e-01],\n",
       "       [-6.20169503e-01, -6.81021281e-01, -7.51061221e-01],\n",
       "       [ 3.23887499e-01,  4.20735534e-01,  6.08503712e-01],\n",
       "       [ 1.27229616e+00,  1.17254814e+00,  9.32762687e-01],\n",
       "       [-6.70868470e-01, -6.77134740e-01, -6.86855232e-01],\n",
       "       [ 6.21540855e-02,  2.55596381e-01,  6.06541317e-01],\n",
       "       [-9.38474514e-01, -9.88291261e-01, -1.05186066e+00],\n",
       "       [-2.48546080e-01, -1.79812875e-01, -1.05486863e-01],\n",
       "       [-8.50427309e-01, -8.90933394e-01, -8.01084447e-01],\n",
       "       [-7.79216386e-01, -8.37221389e-01, -9.10693115e-01],\n",
       "       [-9.62801843e-02, -1.87430497e-01, -2.08744507e-01],\n",
       "       [-5.48388217e-01, -5.83857741e-01, -6.79754931e-01],\n",
       "       [ 7.23184108e-01,  1.10663240e+00,  1.03634145e+00],\n",
       "       [ 2.50379518e+00,  2.88250986e+00,  3.26961805e+00],\n",
       "       [ 8.50185019e-01,  8.93105802e-01,  1.05077397e+00],\n",
       "       [-6.03269848e-01, -6.46042407e-01, -7.22535137e-01],\n",
       "       [-1.04814510e-01, -1.79735145e-01, -2.83797187e-01],\n",
       "       [ 6.59916023e-01,  8.38538757e-01,  8.43741325e-01],\n",
       "       [ 6.43164240e-01,  5.35543973e-01,  6.26236625e-01],\n",
       "       [ 6.89553794e-01,  1.00185124e+00,  8.99116537e-01],\n",
       "       [ 1.04410857e+00,  9.47128730e-01,  7.50723813e-01],\n",
       "       [-6.77205840e-01, -6.88755499e-01, -5.92232124e-01],\n",
       "       [-8.90563991e-01, -8.71461820e-01, -8.01030927e-01],\n",
       "       [ 2.41298608e-02,  6.89658360e-03,  2.29964743e-02],\n",
       "       [ 1.79546725e+00,  2.08899465e+00,  1.80970339e+00],\n",
       "       [-8.06129087e-01, -7.97656395e-01, -7.52934416e-01],\n",
       "       [-8.94788904e-01, -8.87007987e-01, -8.22438870e-01],\n",
       "       [ 9.11615267e-01,  8.27190056e-01,  7.17363102e-01],\n",
       "       [-1.21629668e-01, -2.34068996e-01, -3.55032117e-01],\n",
       "       [-9.24278803e-01, -8.24745590e-01, -6.36903365e-01],\n",
       "       [-6.09522720e-01, -6.46003541e-01, -7.15327796e-01],\n",
       "       [ 1.96949962e-01,  5.77674084e-01,  8.46738437e-01],\n",
       "       [ 2.78056929e+00,  2.75048404e+00,  3.19119362e+00],\n",
       "       [ 3.28323659e-01,  2.63031217e+00,  3.05418279e+00],\n",
       "       [-9.28334720e-01, -9.69558130e-01, -1.02766968e+00],\n",
       "       [-6.87768125e-01, -7.39319406e-01, -8.15302889e-01],\n",
       "       [-6.40005474e-01, -5.90309400e-01, -6.26770272e-01],\n",
       "       [-6.22303085e-01, -6.38308189e-01, -7.22535137e-01],\n",
       "       [-7.13117608e-01, -7.54865572e-01, -7.26067447e-01],\n",
       "       [-9.07463646e-01, -9.10327236e-01, -7.65351022e-01],\n",
       "       [-8.20874036e-01, -8.52106843e-01, -9.08142001e-01],\n",
       "       [ 4.67142949e+00,  4.25476997e+00,  3.83544782e+00],\n",
       "       [ 4.02259651e-01,  3.10046829e-01,  1.76598465e-01],\n",
       "       [ 2.63935154e+00,  2.42428660e+00,  2.27630734e+00],\n",
       "       [ 8.68922512e-01,  9.93844960e-01,  8.29326643e-01],\n",
       "       [ 2.73294156e-01,  1.31149319e-01, -1.94377916e-03],\n",
       "       [ 6.81588821e-04, -3.98973774e-02, -1.66107021e-01],\n",
       "       [-5.27221398e-01, -5.76084658e-01, -6.44110706e-01],\n",
       "       [-8.31415196e-01, -8.67575279e-01, -9.15206623e-01],\n",
       "       [ 3.98549360e+00,  3.53634275e+00,  3.09564284e+00],\n",
       "       [-3.58224844e-01, -3.54551786e-01, -3.58778507e-01],\n",
       "       [-6.45518986e-01, -6.84946688e-01, -7.56448886e-01],\n",
       "       [-6.53968814e-01, -6.77134740e-01, -7.08298855e-01],\n",
       "       [ 8.60662806e-01,  7.92055720e-01,  6.97525075e-01],\n",
       "       [ 2.12138528e-01,  9.24004990e-02, -4.10489548e-02],\n",
       "       [ 9.13305232e-01,  1.84111103e+00,  1.67133672e+00],\n",
       "       [-6.43427654e-01, -6.77134740e-01, -6.47625177e-01],\n",
       "       [-9.84771395e-02, -1.13702803e-01,  3.46172642e-03],\n",
       "       [-2.78120477e-01, -3.58593789e-01, -4.15866355e-01],\n",
       "       [ 1.57214647e-01,  3.80666473e-02, -8.74328311e-02],\n",
       "       [-1.64132301e-01, -2.34302189e-01, -3.44470865e-01],\n",
       "       [-4.68790840e-01, -5.58906144e-01, -6.61843619e-01],\n",
       "       [-4.14120454e-01, -4.48139708e-01, -5.04637958e-01],\n",
       "       [-1.17819071e-02, -8.63026842e-02, -2.32090024e-02],\n",
       "       [ 3.68046023e-02,  1.46308014e-02,  7.11891666e-03],\n",
       "       [-9.32897627e-01, -9.57043467e-01, -1.00804573e+00],\n",
       "       [-7.38467091e-01, -7.78184822e-01, -8.29574851e-01],\n",
       "       [-5.01702919e-01, -5.91475363e-01, -6.93848493e-01],\n",
       "       [-4.09008308e-01, -4.20622994e-01, -4.37167258e-01],\n",
       "       [-6.37111408e-01, -7.00531720e-01, -6.36939045e-01],\n",
       "       [ 1.82395134e-01,  1.77748953e-01,  5.51440685e-02],\n",
       "       [-3.81482995e-01, -4.71148034e-01, -5.74463532e-01],\n",
       "       [-1.97678117e-01, -2.41842079e-01, -3.58671467e-01],\n",
       "       [-7.32121546e-02, -7.10285757e-02,  1.33568499e-01],\n",
       "       [-7.59676159e-01, -7.97617530e-01, -8.58190135e-01],\n",
       "       [ 2.47086198e+00,  2.14301758e+00,  1.81651825e+00],\n",
       "       [-5.92792061e-01, -5.87860879e-01, -6.56598673e-01],\n",
       "       [ 1.17685536e+00,  1.05171556e+00,  8.36034465e-01],\n",
       "       [ 4.93948457e-02, -4.37061882e-02, -1.53512015e-01],\n",
       "       [-4.00558481e-01, -4.67261493e-01, -5.44206972e-01],\n",
       "       [ 2.92411891e-01,  4.96523096e-01,  1.47534700e+00],\n",
       "       [-8.16627998e-01, -8.20897914e-01, -4.44160519e-01],\n",
       "       [-6.58193728e-01, -3.04026745e-01, -3.94280012e-01],\n",
       "       [-1.89186040e-01, -1.79579683e-01, -2.65832355e-01],\n",
       "       [-1.51288563e-01, -1.48642812e-01, -1.51763699e-01],\n",
       "       [-5.62710675e-01, -6.07565645e-01, -6.25913954e-01],\n",
       "       [-5.54767837e-01, -6.18953212e-01, -7.08388054e-01],\n",
       "       [ 4.86377686e-01,  5.42850672e-01,  9.18240966e-01],\n",
       "       [-6.20169503e-01, -6.34421647e-01, -6.65500809e-01],\n",
       "       [-6.20254002e-01, -6.92680906e-01, -7.79676504e-01],\n",
       "       [-6.45561236e-01, -7.08304803e-01, -7.86830325e-01],\n",
       "       [-4.34231044e-01, -4.67261493e-01,  4.62109063e-01],\n",
       "       [ 1.22180844e+00,  1.04841200e+00,  1.26119621e+00],\n",
       "       [-5.52655380e-01, -5.13977723e-01, -5.94158839e-01],\n",
       "       [-1.17819071e-02, -1.64226661e-02,  1.32549140e+00],\n",
       "       [-8.82114163e-01, -9.25873403e-01, -9.47318537e-01],\n",
       "       [-5.25108941e-01, -5.83857741e-01, -6.63663294e-01],\n",
       "       [-4.57502145e-02, -1.64266709e-01, -2.23230549e-01],\n",
       "       [-4.26156040e-03, -1.86768602e-02, -6.22428183e-02],\n",
       "       [ 7.82586397e-01,  6.05501722e-01,  4.12228556e-01],\n",
       "       [ 2.51454759e+00,  2.22206984e+00,  2.05329010e+00],\n",
       "       [ 5.64670860e+00,  5.23355661e+00,  4.80893835e+00],\n",
       "       [ 8.52360850e-01,  8.81523908e-01,  7.94003537e-01],\n",
       "       [-4.25823466e-01, -4.98353826e-01, -5.94087479e-01],\n",
       "       [-2.35702342e-01, -3.46778703e-01, -4.69207813e-01],\n",
       "       [-5.69512786e-01, -5.83857741e-01, -6.33335375e-01],\n",
       "       [-3.75208998e-01, -3.42969892e-01, -3.44399506e-01],\n",
       "       [-4.75669275e-02, -1.34340339e-01, -2.53504948e-01],\n",
       "       [ 3.47124526e-01,  4.10863719e-01,  5.22443782e-01],\n",
       "       [-6.28619331e-01, -6.61588573e-01, -7.36807099e-01],\n",
       "       [ 9.17656894e-01,  2.38538232e+00,  2.95599169e+00],\n",
       "       [ 3.76783421e-01,  6.05346261e-01,  5.68934698e-01],\n",
       "       [ 6.04971019e-01,  5.31501970e-01,  4.33422419e-01],\n",
       "       [ 9.81503516e-02,  8.47051466e-02,  5.53581480e-02],\n",
       "       [ 1.59368536e+00,  1.54208052e+00,  1.62698659e+00],\n",
       "       [-6.87768125e-01, -6.61588573e-01, -5.36999632e-01],\n",
       "       [ 3.67953351e-01,  8.84555410e-01,  1.16771486e+00],\n",
       "       [-7.27925931e-01, -7.70450604e-01,  1.94206498e-01],\n",
       "       [ 7.12621824e-01,  5.70289655e-01,  4.27999074e-01],\n",
       "       [-8.06044589e-01, -8.71422955e-01, -9.50833008e-01],\n",
       "       [-5.22996484e-01, -5.44992325e-01, -6.19063413e-01],\n",
       "       [ 1.13283176e+00,  9.47128730e-01,  7.61499144e-01],\n",
       "       [ 1.95302246e-01,  8.07408742e-02, -4.28329501e-02],\n",
       "       [-4.06811353e-01, -3.62402600e-01, -3.17568217e-01],\n",
       "       [ 5.12191910e-01,  6.98856452e-01,  1.42882040e+00],\n",
       "       [-3.66759170e-01, -4.59566140e-01, -5.58478934e-01],\n",
       "       [-3.18151536e-01, -3.97342609e-01, -3.38976160e-01],\n",
       "       [ 5.45822225e-01,  5.50934678e-01,  5.33219113e-01],\n",
       "       [ 8.14188753e-01,  6.71495199e-01,  4.76309665e-01],\n",
       "       [ 7.31802933e-01,  5.43317057e-01,  3.76405931e-01],\n",
       "       [ 1.55017692e-01,  3.40246440e-02, -1.03542308e-01],\n",
       "       [-2.35702342e-01, -2.69047871e-01, -3.21136208e-01],\n",
       "       [-4.42807619e-01, -4.75112307e-01, -5.44206972e-01],\n",
       "       [-2.28519988e-01, -3.40171582e-01, -4.63142229e-01],\n",
       "       [-8.60989593e-01, -8.79234903e-01, -7.76126354e-01],\n",
       "       [-5.25045568e-01, -5.72198116e-01, -6.13657907e-01],\n",
       "       [-7.21482938e-01, -7.23695508e-01, -7.72487003e-01],\n",
       "       [-6.53968814e-01, -7.08227073e-01, -7.58215041e-01],\n",
       "       [-5.35671226e-01, -5.99403908e-01, -6.65518649e-01],\n",
       "       [-3.05413421e-01, -3.77871036e-01, -4.67423817e-01],\n",
       "       [-5.69470537e-01, -5.56651950e-01, -6.06907424e-02],\n",
       "       [-8.58877137e-01, -9.06440695e-01, -9.54400998e-01],\n",
       "       [-7.87053601e-01, -8.24823321e-01, -8.86591339e-01],\n",
       "       [-7.15314563e-01, -7.43283678e-01, -6.63734654e-01],\n",
       "       [-1.33734046e-01, -1.83038705e-01, -2.54682385e-01],\n",
       "       [-7.55408996e-01, -8.01581802e-01, -8.65290436e-01],\n",
       "       [-7.13117608e-01, -7.47170220e-01, -7.43943080e-01],\n",
       "       [ 2.20588355e-01,  9.24004990e-02,  1.44450870e-01],\n",
       "       [ 5.71002711e-01,  4.18636802e-01,  2.62016157e-01],\n",
       "       [-7.32129721e-01, -7.62638655e-01, -8.20654875e-01],\n",
       "       [ 7.22465873e-01,  5.89022786e-01,  3.89928615e-01],\n",
       "       [ 1.56961153e-01,  2.22095575e-02, -8.75755507e-02],\n",
       "       [ 1.74114303e-01,  5.74216245e-02, -8.92168263e-02],\n",
       "       [-6.67691610e-02, -7.47985210e-02, -1.58864001e-01],\n",
       "       [-7.93805289e-02,  2.01223664e-01,  9.81026739e-02],\n",
       "       [-5.82229777e-01, -6.22800888e-01, -6.86926592e-01],\n",
       "       [-4.34336667e-01, -4.78998848e-01, -5.44206972e-01],\n",
       "       [ 2.19345413e+00,  1.88782726e+00,  1.58224399e+00],\n",
       "       [-6.71713452e-01, -7.30652418e-01, -7.80675542e-01],\n",
       "       [-9.26475758e-01, -9.56926870e-01, -9.99054399e-01],\n",
       "       [-9.68809395e-01, -1.00686893e+00, -1.05564273e+00],\n",
       "       [ 1.18809363e+00,  9.70836634e-01,  7.76020865e-01],\n",
       "       [ 4.28369619e-01,  2.64107907e-01,  9.16089312e-02],\n",
       "       [-5.54767837e-01, -5.37296973e-01, -5.51342953e-01],\n",
       "       [ 5.58167147e-02,  2.10562905e+00,  2.28171285e+00],\n",
       "       [ 1.57687020e+00,  1.51363103e+00,  1.60504345e+00],\n",
       "       [-5.82145279e-01, -4.05076827e-01, -3.69304079e-01],\n",
       "       [-3.07441379e-01, -5.52880822e-02, -1.37384698e-01]])"
      ]
     },
     "execution_count": 9,
     "metadata": {},
     "output_type": "execute_result"
    }
   ],
   "source": [
    "scaler = StandardScaler()\n",
    "X_std = scaler.fit_transform(X)\n",
    "X_std"
   ]
  },
  {
   "cell_type": "code",
   "execution_count": 10,
   "metadata": {},
   "outputs": [],
   "source": [
    "wcss = []\n",
    "for i in range(1,21):\n",
    "    kmeans_iqr = KMeans(n_clusters = i, init = 'k-means++', random_state = 42)\n",
    "    kmeans_iqr.fit(X_std)\n",
    "    wcss.append(kmeans_iqr.inertia_)"
   ]
  },
  {
   "cell_type": "code",
   "execution_count": 11,
   "metadata": {},
   "outputs": [
    {
     "data": {
      "image/png": "[encoded data removed]",
      "text/plain": [
       "<Figure size 720x576 with 1 Axes>"
      ]
     },
     "metadata": {},
     "output_type": "display_data"
    }
   ],
   "source": [
    "plt.figure(figsize = (10,8))\n",
    "plt.plot(range(1,21),wcss,marker = 'o', linestyle = '--')\n",
    "plt.xlabel('Number of Clusters')\n",
    "plt.ylabel('WCSS')\n",
    "plt.title('K-means with IQR Clustering')\n",
    "plt.show()"
   ]
  },
  {
   "cell_type": "code",
   "execution_count": 12,
   "metadata": {},
   "outputs": [
    {
     "data": {
      "text/plain": [
       "KMeans(n_clusters=5, random_state=42)"
      ]
     },
     "execution_count": 12,
     "metadata": {},
     "output_type": "execute_result"
    }
   ],
   "source": [
    "kmeans_iqr = KMeans(n_clusters = 5, init = 'k-means++',random_state = 42)\n",
    "kmeans_iqr.fit(X_std)"
   ]
  },
  {
   "cell_type": "code",
   "execution_count": 13,
   "metadata": {},
   "outputs": [],
   "source": [
    "df_segm_iqr_kmeans = pd.concat([X.reset_index(drop = True), pd.DataFrame(X_std,columns = ['0.25_IQR','0.5_IQR','0.75_IQR'])], axis = 1)\n",
    "\n",
    "df_segm_iqr_kmeans['Segment K-means IQR'] = kmeans_iqr.labels_\n",
    "\n",
    "df_segm_iqr_kmeans['Cluster'] = df_segm_iqr_kmeans['Segment K-means IQR'].map({0:'first',1:'second',2:'third',3:'fourth',4:'fifth'})\n",
    "\n",
    "df_segm_iqr_kmeans['IN FILE'],df_segm_iqr_kmeans['LAST MOD BY'], df_segm_iqr_kmeans['Genus'] = Y_3,Y_2, Y"
   ]
  },
  {
   "cell_type": "code",
   "execution_count": 14,
   "metadata": {},
   "outputs": [],
   "source": [
    "centroids = df_segm_iqr_kmeans.groupby('Segment K-means IQR')[['0.25_IQR','0.5_IQR','0.75_IQR']].mean()"
   ]
  },
  {
   "cell_type": "code",
   "execution_count": 15,
   "metadata": {},
   "outputs": [],
   "source": [
    "df_segm_iqr_kmeans['CENTROID'] = df_segm_iqr_kmeans['Segment K-means IQR'].map({i: centroids.iloc[i].values.tolist() for i in centroids.index})"
   ]
  },
  {
   "cell_type": "code",
   "execution_count": 16,
   "metadata": {},
   "outputs": [
    {
     "data": {
      "text/html": [
       "<div>\n",
       "<style scoped>\n",
       "    .dataframe tbody tr th:only-of-type {\n",
       "        vertical-align: middle;\n",
       "    }\n",
       "\n",
       "    .dataframe tbody tr th {\n",
       "        vertical-align: top;\n",
       "    }\n",
       "\n",
       "    .dataframe thead th {\n",
       "        text-align: right;\n",
       "    }\n",
       "</style>\n",
       "<table border=\"1\" class=\"dataframe\">\n",
       "  <thead>\n",
       "    <tr style=\"text-align: right;\">\n",
       "      <th></th>\n",
       "      <th>0.25</th>\n",
       "      <th>0.5</th>\n",
       "      <th>0.75</th>\n",
       "      <th>0.25_IQR</th>\n",
       "      <th>0.5_IQR</th>\n",
       "      <th>0.75_IQR</th>\n",
       "      <th>Segment K-means IQR</th>\n",
       "      <th>Cluster</th>\n",
       "      <th>IN FILE</th>\n",
       "      <th>LAST MOD BY</th>\n",
       "      <th>Genus</th>\n",
       "      <th>CENTROID</th>\n",
       "    </tr>\n",
       "  </thead>\n",
       "  <tbody>\n",
       "    <tr>\n",
       "      <th>0</th>\n",
       "      <td>1.8751</td>\n",
       "      <td>1.91010</td>\n",
       "      <td>1.96015</td>\n",
       "      <td>0.499517</td>\n",
       "      <td>0.356763</td>\n",
       "      <td>0.212385</td>\n",
       "      <td>1</td>\n",
       "      <td>second</td>\n",
       "      <td>Arremon-brunneinucha-297000.wav</td>\n",
       "      <td>kkong</td>\n",
       "      <td>Arremon</td>\n",
       "      <td>[0.6140233995153908, 0.6511371238070239, 0.759...</td>\n",
       "    </tr>\n",
       "    <tr>\n",
       "      <th>1</th>\n",
       "      <td>0.8323</td>\n",
       "      <td>0.91975</td>\n",
       "      <td>0.96220</td>\n",
       "      <td>-0.381631</td>\n",
       "      <td>-0.413044</td>\n",
       "      <td>-0.499750</td>\n",
       "      <td>0</td>\n",
       "      <td>first</td>\n",
       "      <td>Arremon-castaneiceps-261298.wav</td>\n",
       "      <td>EdZamora</td>\n",
       "      <td>Arremon</td>\n",
       "      <td>[-0.6632762994387703, -0.6899940104368311, -0....</td>\n",
       "    </tr>\n",
       "    <tr>\n",
       "      <th>2</th>\n",
       "      <td>0.8399</td>\n",
       "      <td>0.89995</td>\n",
       "      <td>1.00490</td>\n",
       "      <td>-0.375209</td>\n",
       "      <td>-0.428435</td>\n",
       "      <td>-0.469279</td>\n",
       "      <td>0</td>\n",
       "      <td>first</td>\n",
       "      <td>Automolus-infuscatus-270606.wav</td>\n",
       "      <td>kkong</td>\n",
       "      <td>Automolus</td>\n",
       "      <td>[-0.6632762994387703, -0.6899940104368311, -0....</td>\n",
       "    </tr>\n",
       "    <tr>\n",
       "      <th>3</th>\n",
       "      <td>1.1098</td>\n",
       "      <td>1.17990</td>\n",
       "      <td>1.19980</td>\n",
       "      <td>-0.147148</td>\n",
       "      <td>-0.210827</td>\n",
       "      <td>-0.330199</td>\n",
       "      <td>3</td>\n",
       "      <td>fourth</td>\n",
       "      <td>Automolus-rufipileatus-47553.wav</td>\n",
       "      <td>EdZamora</td>\n",
       "      <td>Automolus</td>\n",
       "      <td>[-0.06802188148765544, -0.10682670846854221, -...</td>\n",
       "    </tr>\n",
       "    <tr>\n",
       "      <th>4</th>\n",
       "      <td>0.7901</td>\n",
       "      <td>0.94010</td>\n",
       "      <td>1.62020</td>\n",
       "      <td>-0.417289</td>\n",
       "      <td>-0.397226</td>\n",
       "      <td>-0.030202</td>\n",
       "      <td>3</td>\n",
       "      <td>fourth</td>\n",
       "      <td>Bolborhynchus-lineola-260395.wav</td>\n",
       "      <td>EdZamora</td>\n",
       "      <td>Bolborhynchus</td>\n",
       "      <td>[-0.06802188148765544, -0.10682670846854221, -...</td>\n",
       "    </tr>\n",
       "    <tr>\n",
       "      <th>...</th>\n",
       "      <td>...</td>\n",
       "      <td>...</td>\n",
       "      <td>...</td>\n",
       "      <td>...</td>\n",
       "      <td>...</td>\n",
       "      <td>...</td>\n",
       "      <td>...</td>\n",
       "      <td>...</td>\n",
       "      <td>...</td>\n",
       "      <td>...</td>\n",
       "      <td>...</td>\n",
       "      <td>...</td>\n",
       "    </tr>\n",
       "    <tr>\n",
       "      <th>225</th>\n",
       "      <td>0.6274</td>\n",
       "      <td>0.75990</td>\n",
       "      <td>0.88990</td>\n",
       "      <td>-0.554768</td>\n",
       "      <td>-0.537297</td>\n",
       "      <td>-0.551343</td>\n",
       "      <td>0</td>\n",
       "      <td>first</td>\n",
       "      <td>Sporophila-luctuosa-10617.wav</td>\n",
       "      <td>EdZamora</td>\n",
       "      <td>Sporophila</td>\n",
       "      <td>[-0.6632762994387703, -0.6899940104368311, -0....</td>\n",
       "    </tr>\n",
       "    <tr>\n",
       "      <th>226</th>\n",
       "      <td>1.3500</td>\n",
       "      <td>4.16000</td>\n",
       "      <td>4.86000</td>\n",
       "      <td>0.055817</td>\n",
       "      <td>2.105629</td>\n",
       "      <td>2.281713</td>\n",
       "      <td>2</td>\n",
       "      <td>third</td>\n",
       "      <td>Sporophila-plumbea-84743.wav</td>\n",
       "      <td>kkong</td>\n",
       "      <td>Sporophila</td>\n",
       "      <td>[1.73167527240902, 2.1163688629795803, 2.14209...</td>\n",
       "    </tr>\n",
       "    <tr>\n",
       "      <th>227</th>\n",
       "      <td>3.1501</td>\n",
       "      <td>3.39840</td>\n",
       "      <td>3.91175</td>\n",
       "      <td>1.576870</td>\n",
       "      <td>1.513631</td>\n",
       "      <td>1.605043</td>\n",
       "      <td>2</td>\n",
       "      <td>third</td>\n",
       "      <td>Sporophila-schistacea-371548.wav</td>\n",
       "      <td>kkong</td>\n",
       "      <td>Sporophila</td>\n",
       "      <td>[1.73167527240902, 2.1163688629795803, 2.14209...</td>\n",
       "    </tr>\n",
       "    <tr>\n",
       "      <th>228</th>\n",
       "      <td>0.5950</td>\n",
       "      <td>0.93000</td>\n",
       "      <td>1.14500</td>\n",
       "      <td>-0.582145</td>\n",
       "      <td>-0.405077</td>\n",
       "      <td>-0.369304</td>\n",
       "      <td>0</td>\n",
       "      <td>first</td>\n",
       "      <td>Tachyphonus-phoenicius-357433.wav</td>\n",
       "      <td>EdZamora</td>\n",
       "      <td>Tachyphonus</td>\n",
       "      <td>[-0.6632762994387703, -0.6899940104368311, -0....</td>\n",
       "    </tr>\n",
       "    <tr>\n",
       "      <th>229</th>\n",
       "      <td>0.9201</td>\n",
       "      <td>1.38000</td>\n",
       "      <td>1.47000</td>\n",
       "      <td>-0.307441</td>\n",
       "      <td>-0.055288</td>\n",
       "      <td>-0.137385</td>\n",
       "      <td>3</td>\n",
       "      <td>fourth</td>\n",
       "      <td>Tachyphonus-phoenicius-401522.wav</td>\n",
       "      <td>kkong</td>\n",
       "      <td>Tachyphonus</td>\n",
       "      <td>[-0.06802188148765544, -0.10682670846854221, -...</td>\n",
       "    </tr>\n",
       "  </tbody>\n",
       "</table>\n",
       "<p>230 rows × 12 columns</p>\n",
       "</div>"
      ],
      "text/plain": [
       "       0.25      0.5     0.75  0.25_IQR   0.5_IQR  0.75_IQR  \\\n",
       "0    1.8751  1.91010  1.96015  0.499517  0.356763  0.212385   \n",
       "1    0.8323  0.91975  0.96220 -0.381631 -0.413044 -0.499750   \n",
       "2    0.8399  0.89995  1.00490 -0.375209 -0.428435 -0.469279   \n",
       "3    1.1098  1.17990  1.19980 -0.147148 -0.210827 -0.330199   \n",
       "4    0.7901  0.94010  1.62020 -0.417289 -0.397226 -0.030202   \n",
       "..      ...      ...      ...       ...       ...       ...   \n",
       "225  0.6274  0.75990  0.88990 -0.554768 -0.537297 -0.551343   \n",
       "226  1.3500  4.16000  4.86000  0.055817  2.105629  2.281713   \n",
       "227  3.1501  3.39840  3.91175  1.576870  1.513631  1.605043   \n",
       "228  0.5950  0.93000  1.14500 -0.582145 -0.405077 -0.369304   \n",
       "229  0.9201  1.38000  1.47000 -0.307441 -0.055288 -0.137385   \n",
       "\n",
       "     Segment K-means IQR Cluster                            IN FILE  \\\n",
       "0                      1  second    Arremon-brunneinucha-297000.wav   \n",
       "1                      0   first    Arremon-castaneiceps-261298.wav   \n",
       "2                      0   first    Automolus-infuscatus-270606.wav   \n",
       "3                      3  fourth   Automolus-rufipileatus-47553.wav   \n",
       "4                      3  fourth   Bolborhynchus-lineola-260395.wav   \n",
       "..                   ...     ...                                ...   \n",
       "225                    0   first      Sporophila-luctuosa-10617.wav   \n",
       "226                    2   third       Sporophila-plumbea-84743.wav   \n",
       "227                    2   third   Sporophila-schistacea-371548.wav   \n",
       "228                    0   first  Tachyphonus-phoenicius-357433.wav   \n",
       "229                    3  fourth  Tachyphonus-phoenicius-401522.wav   \n",
       "\n",
       "    LAST MOD BY          Genus  \\\n",
       "0         kkong        Arremon   \n",
       "1      EdZamora        Arremon   \n",
       "2         kkong      Automolus   \n",
       "3      EdZamora      Automolus   \n",
       "4      EdZamora  Bolborhynchus   \n",
       "..          ...            ...   \n",
       "225    EdZamora     Sporophila   \n",
       "226       kkong     Sporophila   \n",
       "227       kkong     Sporophila   \n",
       "228    EdZamora    Tachyphonus   \n",
       "229       kkong    Tachyphonus   \n",
       "\n",
       "                                              CENTROID  \n",
       "0    [0.6140233995153908, 0.6511371238070239, 0.759...  \n",
       "1    [-0.6632762994387703, -0.6899940104368311, -0....  \n",
       "2    [-0.6632762994387703, -0.6899940104368311, -0....  \n",
       "3    [-0.06802188148765544, -0.10682670846854221, -...  \n",
       "4    [-0.06802188148765544, -0.10682670846854221, -...  \n",
       "..                                                 ...  \n",
       "225  [-0.6632762994387703, -0.6899940104368311, -0....  \n",
       "226  [1.73167527240902, 2.1163688629795803, 2.14209...  \n",
       "227  [1.73167527240902, 2.1163688629795803, 2.14209...  \n",
       "228  [-0.6632762994387703, -0.6899940104368311, -0....  \n",
       "229  [-0.06802188148765544, -0.10682670846854221, -...  \n",
       "\n",
       "[230 rows x 12 columns]"
      ]
     },
     "execution_count": 16,
     "metadata": {},
     "output_type": "execute_result"
    }
   ],
   "source": [
    "df_segm_iqr_kmeans"
   ]
  },
  {
   "cell_type": "code",
   "execution_count": 17,
   "metadata": {},
   "outputs": [],
   "source": [
    "def EuclideanDistance(row):\n",
    "    X_1,Y_1,Z_1 = row['0.25_IQR'],row['0.5_IQR'],row['0.75_IQR']\n",
    "    X_2,Y_2,Z_2 =row['CENTROID']\n",
    "    # print(X_2)\n",
    "    Distance = (((X_2-X_1)**2)+((Y_2-Y_1)**2)+((Z_2-Z_1)**2))**.05\n",
    "    return Distance"
   ]
  },
  {
   "cell_type": "code",
   "execution_count": 18,
   "metadata": {},
   "outputs": [],
   "source": [
    "df_segm_iqr_kmeans['Distance_to_Centroid'] = df_segm_iqr_kmeans.apply (lambda row: EuclideanDistance(row), axis=1)"
   ]
  },
  {
   "cell_type": "code",
   "execution_count": 19,
   "metadata": {},
   "outputs": [
    {
     "data": {
      "text/html": [
       "<div>\n",
       "<style scoped>\n",
       "    .dataframe tbody tr th:only-of-type {\n",
       "        vertical-align: middle;\n",
       "    }\n",
       "\n",
       "    .dataframe tbody tr th {\n",
       "        vertical-align: top;\n",
       "    }\n",
       "\n",
       "    .dataframe thead th {\n",
       "        text-align: right;\n",
       "    }\n",
       "</style>\n",
       "<table border=\"1\" class=\"dataframe\">\n",
       "  <thead>\n",
       "    <tr style=\"text-align: right;\">\n",
       "      <th></th>\n",
       "      <th>0.25</th>\n",
       "      <th>0.5</th>\n",
       "      <th>0.75</th>\n",
       "      <th>0.25_IQR</th>\n",
       "      <th>0.5_IQR</th>\n",
       "      <th>0.75_IQR</th>\n",
       "      <th>Segment K-means IQR</th>\n",
       "      <th>Cluster</th>\n",
       "      <th>IN FILE</th>\n",
       "      <th>LAST MOD BY</th>\n",
       "      <th>Genus</th>\n",
       "      <th>CENTROID</th>\n",
       "      <th>Distance_to_Centroid</th>\n",
       "    </tr>\n",
       "  </thead>\n",
       "  <tbody>\n",
       "    <tr>\n",
       "      <th>0</th>\n",
       "      <td>1.8751</td>\n",
       "      <td>1.91010</td>\n",
       "      <td>1.96015</td>\n",
       "      <td>0.499517</td>\n",
       "      <td>0.356763</td>\n",
       "      <td>0.212385</td>\n",
       "      <td>1</td>\n",
       "      <td>second</td>\n",
       "      <td>Arremon-brunneinucha-297000.wav</td>\n",
       "      <td>kkong</td>\n",
       "      <td>Arremon</td>\n",
       "      <td>[0.6140233995153908, 0.6511371238070239, 0.759...</td>\n",
       "      <td>0.955079</td>\n",
       "    </tr>\n",
       "    <tr>\n",
       "      <th>1</th>\n",
       "      <td>0.8323</td>\n",
       "      <td>0.91975</td>\n",
       "      <td>0.96220</td>\n",
       "      <td>-0.381631</td>\n",
       "      <td>-0.413044</td>\n",
       "      <td>-0.499750</td>\n",
       "      <td>0</td>\n",
       "      <td>first</td>\n",
       "      <td>Arremon-castaneiceps-261298.wav</td>\n",
       "      <td>EdZamora</td>\n",
       "      <td>Arremon</td>\n",
       "      <td>[-0.6632762994387703, -0.6899940104368311, -0....</td>\n",
       "      <td>0.922365</td>\n",
       "    </tr>\n",
       "    <tr>\n",
       "      <th>2</th>\n",
       "      <td>0.8399</td>\n",
       "      <td>0.89995</td>\n",
       "      <td>1.00490</td>\n",
       "      <td>-0.375209</td>\n",
       "      <td>-0.428435</td>\n",
       "      <td>-0.469279</td>\n",
       "      <td>0</td>\n",
       "      <td>first</td>\n",
       "      <td>Automolus-infuscatus-270606.wav</td>\n",
       "      <td>kkong</td>\n",
       "      <td>Automolus</td>\n",
       "      <td>[-0.6632762994387703, -0.6899940104368311, -0....</td>\n",
       "      <td>0.924384</td>\n",
       "    </tr>\n",
       "    <tr>\n",
       "      <th>3</th>\n",
       "      <td>1.1098</td>\n",
       "      <td>1.17990</td>\n",
       "      <td>1.19980</td>\n",
       "      <td>-0.147148</td>\n",
       "      <td>-0.210827</td>\n",
       "      <td>-0.330199</td>\n",
       "      <td>3</td>\n",
       "      <td>fourth</td>\n",
       "      <td>Automolus-rufipileatus-47553.wav</td>\n",
       "      <td>EdZamora</td>\n",
       "      <td>Automolus</td>\n",
       "      <td>[-0.06802188148765544, -0.10682670846854221, -...</td>\n",
       "      <td>0.868367</td>\n",
       "    </tr>\n",
       "    <tr>\n",
       "      <th>4</th>\n",
       "      <td>0.7901</td>\n",
       "      <td>0.94010</td>\n",
       "      <td>1.62020</td>\n",
       "      <td>-0.417289</td>\n",
       "      <td>-0.397226</td>\n",
       "      <td>-0.030202</td>\n",
       "      <td>3</td>\n",
       "      <td>fourth</td>\n",
       "      <td>Bolborhynchus-lineola-260395.wav</td>\n",
       "      <td>EdZamora</td>\n",
       "      <td>Bolborhynchus</td>\n",
       "      <td>[-0.06802188148765544, -0.10682670846854221, -...</td>\n",
       "      <td>0.926064</td>\n",
       "    </tr>\n",
       "    <tr>\n",
       "      <th>...</th>\n",
       "      <td>...</td>\n",
       "      <td>...</td>\n",
       "      <td>...</td>\n",
       "      <td>...</td>\n",
       "      <td>...</td>\n",
       "      <td>...</td>\n",
       "      <td>...</td>\n",
       "      <td>...</td>\n",
       "      <td>...</td>\n",
       "      <td>...</td>\n",
       "      <td>...</td>\n",
       "      <td>...</td>\n",
       "      <td>...</td>\n",
       "    </tr>\n",
       "    <tr>\n",
       "      <th>225</th>\n",
       "      <td>0.6274</td>\n",
       "      <td>0.75990</td>\n",
       "      <td>0.88990</td>\n",
       "      <td>-0.554768</td>\n",
       "      <td>-0.537297</td>\n",
       "      <td>-0.551343</td>\n",
       "      <td>0</td>\n",
       "      <td>first</td>\n",
       "      <td>Sporophila-luctuosa-10617.wav</td>\n",
       "      <td>EdZamora</td>\n",
       "      <td>Sporophila</td>\n",
       "      <td>[-0.6632762994387703, -0.6899940104368311, -0....</td>\n",
       "      <td>0.868091</td>\n",
       "    </tr>\n",
       "    <tr>\n",
       "      <th>226</th>\n",
       "      <td>1.3500</td>\n",
       "      <td>4.16000</td>\n",
       "      <td>4.86000</td>\n",
       "      <td>0.055817</td>\n",
       "      <td>2.105629</td>\n",
       "      <td>2.281713</td>\n",
       "      <td>2</td>\n",
       "      <td>third</td>\n",
       "      <td>Sporophila-plumbea-84743.wav</td>\n",
       "      <td>kkong</td>\n",
       "      <td>Sporophila</td>\n",
       "      <td>[1.73167527240902, 2.1163688629795803, 2.14209...</td>\n",
       "      <td>1.053355</td>\n",
       "    </tr>\n",
       "    <tr>\n",
       "      <th>227</th>\n",
       "      <td>3.1501</td>\n",
       "      <td>3.39840</td>\n",
       "      <td>3.91175</td>\n",
       "      <td>1.576870</td>\n",
       "      <td>1.513631</td>\n",
       "      <td>1.605043</td>\n",
       "      <td>2</td>\n",
       "      <td>third</td>\n",
       "      <td>Sporophila-schistacea-371548.wav</td>\n",
       "      <td>kkong</td>\n",
       "      <td>Sporophila</td>\n",
       "      <td>[1.73167527240902, 2.1163688629795803, 2.14209...</td>\n",
       "      <td>0.980589</td>\n",
       "    </tr>\n",
       "    <tr>\n",
       "      <th>228</th>\n",
       "      <td>0.5950</td>\n",
       "      <td>0.93000</td>\n",
       "      <td>1.14500</td>\n",
       "      <td>-0.582145</td>\n",
       "      <td>-0.405077</td>\n",
       "      <td>-0.369304</td>\n",
       "      <td>0</td>\n",
       "      <td>first</td>\n",
       "      <td>Tachyphonus-phoenicius-357433.wav</td>\n",
       "      <td>EdZamora</td>\n",
       "      <td>Tachyphonus</td>\n",
       "      <td>[-0.6632762994387703, -0.6899940104368311, -0....</td>\n",
       "      <td>0.922966</td>\n",
       "    </tr>\n",
       "    <tr>\n",
       "      <th>229</th>\n",
       "      <td>0.9201</td>\n",
       "      <td>1.38000</td>\n",
       "      <td>1.47000</td>\n",
       "      <td>-0.307441</td>\n",
       "      <td>-0.055288</td>\n",
       "      <td>-0.137385</td>\n",
       "      <td>3</td>\n",
       "      <td>fourth</td>\n",
       "      <td>Tachyphonus-phoenicius-401522.wav</td>\n",
       "      <td>kkong</td>\n",
       "      <td>Tachyphonus</td>\n",
       "      <td>[-0.06802188148765544, -0.10682670846854221, -...</td>\n",
       "      <td>0.868882</td>\n",
       "    </tr>\n",
       "  </tbody>\n",
       "</table>\n",
       "<p>230 rows × 13 columns</p>\n",
       "</div>"
      ],
      "text/plain": [
       "       0.25      0.5     0.75  0.25_IQR   0.5_IQR  0.75_IQR  \\\n",
       "0    1.8751  1.91010  1.96015  0.499517  0.356763  0.212385   \n",
       "1    0.8323  0.91975  0.96220 -0.381631 -0.413044 -0.499750   \n",
       "2    0.8399  0.89995  1.00490 -0.375209 -0.428435 -0.469279   \n",
       "3    1.1098  1.17990  1.19980 -0.147148 -0.210827 -0.330199   \n",
       "4    0.7901  0.94010  1.62020 -0.417289 -0.397226 -0.030202   \n",
       "..      ...      ...      ...       ...       ...       ...   \n",
       "225  0.6274  0.75990  0.88990 -0.554768 -0.537297 -0.551343   \n",
       "226  1.3500  4.16000  4.86000  0.055817  2.105629  2.281713   \n",
       "227  3.1501  3.39840  3.91175  1.576870  1.513631  1.605043   \n",
       "228  0.5950  0.93000  1.14500 -0.582145 -0.405077 -0.369304   \n",
       "229  0.9201  1.38000  1.47000 -0.307441 -0.055288 -0.137385   \n",
       "\n",
       "     Segment K-means IQR Cluster                            IN FILE  \\\n",
       "0                      1  second    Arremon-brunneinucha-297000.wav   \n",
       "1                      0   first    Arremon-castaneiceps-261298.wav   \n",
       "2                      0   first    Automolus-infuscatus-270606.wav   \n",
       "3                      3  fourth   Automolus-rufipileatus-47553.wav   \n",
       "4                      3  fourth   Bolborhynchus-lineola-260395.wav   \n",
       "..                   ...     ...                                ...   \n",
       "225                    0   first      Sporophila-luctuosa-10617.wav   \n",
       "226                    2   third       Sporophila-plumbea-84743.wav   \n",
       "227                    2   third   Sporophila-schistacea-371548.wav   \n",
       "228                    0   first  Tachyphonus-phoenicius-357433.wav   \n",
       "229                    3  fourth  Tachyphonus-phoenicius-401522.wav   \n",
       "\n",
       "    LAST MOD BY          Genus  \\\n",
       "0         kkong        Arremon   \n",
       "1      EdZamora        Arremon   \n",
       "2         kkong      Automolus   \n",
       "3      EdZamora      Automolus   \n",
       "4      EdZamora  Bolborhynchus   \n",
       "..          ...            ...   \n",
       "225    EdZamora     Sporophila   \n",
       "226       kkong     Sporophila   \n",
       "227       kkong     Sporophila   \n",
       "228    EdZamora    Tachyphonus   \n",
       "229       kkong    Tachyphonus   \n",
       "\n",
       "                                              CENTROID  Distance_to_Centroid  \n",
       "0    [0.6140233995153908, 0.6511371238070239, 0.759...              0.955079  \n",
       "1    [-0.6632762994387703, -0.6899940104368311, -0....              0.922365  \n",
       "2    [-0.6632762994387703, -0.6899940104368311, -0....              0.924384  \n",
       "3    [-0.06802188148765544, -0.10682670846854221, -...              0.868367  \n",
       "4    [-0.06802188148765544, -0.10682670846854221, -...              0.926064  \n",
       "..                                                 ...                   ...  \n",
       "225  [-0.6632762994387703, -0.6899940104368311, -0....              0.868091  \n",
       "226  [1.73167527240902, 2.1163688629795803, 2.14209...              1.053355  \n",
       "227  [1.73167527240902, 2.1163688629795803, 2.14209...              0.980589  \n",
       "228  [-0.6632762994387703, -0.6899940104368311, -0....              0.922966  \n",
       "229  [-0.06802188148765544, -0.10682670846854221, -...              0.868882  \n",
       "\n",
       "[230 rows x 13 columns]"
      ]
     },
     "execution_count": 19,
     "metadata": {},
     "output_type": "execute_result"
    }
   ],
   "source": [
    "df_segm_iqr_kmeans"
   ]
  },
  {
   "cell_type": "code",
   "execution_count": 20,
   "metadata": {},
   "outputs": [
    {
     "data": {
      "application/vnd.plotly.v1+json": {
       "config": {
        "plotlyServerURL": "https://plot.ly"
       },
       "data": [
        {
         "hovertemplate": "<b>%{hovertext}</b><br><br>Cluster=second<br>0.25_IQR=%{x}<br>0.5_IQR=%{y}<br>0.75_IQR=%{z}<extra></extra>",
         "hovertext": [
          [
           "Arremon-brunneinucha-297000.wav",
           "kkong"
          ],
          [
           "Brotogeris-cyanoptera-270616.wav",
           "kkong"
          ],
          [
           "Buteo-albonotatus-38891.wav",
           "kkong"
          ],
          [
           "Buteo-nitidus-47556.wav",
           "kkong"
          ],
          [
           "Catamenia-homochroa-261277.wav",
           "kkong"
          ],
          [
           "Coereba-flaveola-120284.wav",
           "kkong"
          ],
          [
           "Colaptes-rubiginosus-437445.wav",
           "EdZamora"
          ],
          [
           "Colaptes-rubiginosus-5244.wav",
           "kkong"
          ],
          [
           "Cranioleuca-gutturata-38582.wav",
           "kkong"
          ],
          [
           "Diglossa-brunneiventris-74843.wav",
           "kkong"
          ],
          [
           "Diglossa-caerulescens-222422.wav",
           "kkong"
          ],
          [
           "Diglossa-glauca-275945.wav",
           "EdZamora"
          ],
          [
           "Epinecrophylla-amazonica-431875.wav",
           "EdZamora"
          ],
          [
           "Epinecrophylla-haematonota-298880.wav",
           "kkong"
          ],
          [
           "Euchrepomis-callinota-260793.wav",
           "EdZamora"
          ],
          [
           "Euchrepomis-humeralis-152502.wav",
           "kkong"
          ],
          [
           "Euchrepomis-humeralis-435880.wav",
           "EdZamora"
          ],
          [
           "Euchrepomis-humeralis-61311.wav",
           "EdZamora"
          ],
          [
           "Euphonia-rufiventris-427361.wav",
           "kkong"
          ],
          [
           "Falco-peregrinus-90360.wav",
           "kkong"
          ],
          [
           "Hafferia-fortis-73866.wav",
           "EdZamora"
          ],
          [
           "Hemitriccus-iohannis-270714.wav",
           "kkong"
          ],
          [
           "Micrastur-gilvicollis-260354.wav",
           "kkong"
          ],
          [
           "Micrastur-semitorquatus-420105.wav",
           "kkong"
          ],
          [
           "Mionectes-macconnelli-103176.wav",
           "kkong"
          ],
          [
           "Molothrus-bonariensis-514653.wav",
           "EdZamora"
          ],
          [
           "Myadestes-ralloides-225872.wav",
           "kkong"
          ],
          [
           "Myiothlypis-bivittata-99606.wav",
           "EdZamora"
          ],
          [
           "Neopelma-sulphureiventer-151881.wav",
           "kkong"
          ],
          [
           "Phrygilus-fruticeti-34033.wav",
           "kkong"
          ],
          [
           "Phyllomyias-uropygialis-3395.wav",
           "kkong"
          ],
          [
           "Picumnus-aurifrons-3174.wav",
           "EdZamora"
          ],
          [
           "Pipile-cumanensis-257420.wav",
           "kkong"
          ],
          [
           "Piprites-chloris-183751.wav",
           "kkong"
          ],
          [
           "Platyrinchus-platyrhynchos-483143.wav",
           "kkong"
          ],
          [
           "Psarocolius-angustifrons-45659.wav",
           "kkong"
          ],
          [
           "Psarocolius-bifasciatus-128985.wav",
           "kkong"
          ],
          [
           "Psarocolius-bifasciatus-146525.wav",
           "kkong"
          ],
          [
           "Psarocolius-bifasciatus-38449.wav",
           "kkong"
          ],
          [
           "Saltator-coerulescens-188095.wav",
           "EdZamora"
          ],
          [
           "Saltator-coerulescens-270937.wav",
           "EdZamora"
          ],
          [
           "Setophaga-pitiayumi-8391.wav",
           "kkong"
          ]
         ],
         "legendgroup": "second",
         "marker": {
          "color": "#636efa",
          "symbol": "circle"
         },
         "mode": "markers",
         "name": "second",
         "scene": "scene",
         "showlegend": true,
         "type": "scatter3d",
         "x": [
          0.4995171685864781,
          0.021510414164149158,
          0.477970107886868,
          0.14865919686116172,
          0.6027106896821595,
          1.0738097099390254,
          -0.4215985517525367,
          0.804048959807633,
          0.04728238872642797,
          0.3238874993153432,
          1.2722961632071974,
          0.062154085523021596,
          0.7231841084761556,
          0.8501850191879746,
          0.6599160233826927,
          0.6431642399172113,
          0.6895537941293132,
          1.0441085654844646,
          0.9116152667511763,
          0.1969499623114642,
          0.8689225121689099,
          0.8606628055673925,
          1.1768553590495132,
          0.29241189103846177,
          0.4863776864735787,
          1.2218084425483073,
          -0.01178190707367955,
          0.7825863973852765,
          0.8523608498272488,
          0.3471245255600206,
          0.3767834208759543,
          0.604971018598687,
          0.367953350902977,
          0.7126218238194838,
          1.132831756600506,
          0.512191910174484,
          0.5458222245213262,
          0.8141887530780377,
          0.7318029327559994,
          0.5710027111428313,
          0.7224658731195016,
          1.1880936299242115
         ],
         "y": [
          0.3567630593291723,
          -0.0480591147684986,
          0.41074712229208193,
          0.32932407556256754,
          0.43810837522648644,
          0.9549795439404771,
          0.5354662425570038,
          0.6096991873080168,
          0.3953952829325791,
          0.4207355342297835,
          1.1725481432683154,
          0.25559638122085454,
          1.1066323975627037,
          0.8931058015092666,
          0.8385387573048568,
          0.5355439733892036,
          1.0018512357570855,
          0.9471287298882758,
          0.8271900558036547,
          0.5776740844416112,
          0.9938449600404842,
          0.7920557196492486,
          1.051715564613394,
          0.4965230956247969,
          0.5428506716160051,
          1.0484120042448937,
          -0.01642266606309309,
          0.6055017223692161,
          0.8815239075114646,
          0.41086371854038184,
          0.6053462607048161,
          0.5315019701148029,
          0.884555409967265,
          0.5702896553826098,
          0.9471287298882758,
          0.6988564518414323,
          0.5509346781648067,
          0.6714951989070275,
          0.5433170566092052,
          0.4186368017603832,
          0.589022785942813,
          0.9708366337092799
         ],
         "z": [
          0.2123854090244332,
          1.2885983777719967,
          0.5151472412794295,
          0.6098952284991738,
          0.272773647913312,
          0.9649102813466445,
          1.1863754504948103,
          0.4088746448064453,
          0.8364626240349967,
          0.608503712211631,
          0.9327626871139235,
          0.6065413174471477,
          1.0363414507738442,
          1.0507739722690002,
          0.8437413246159902,
          0.6262366249016,
          0.8991165368792341,
          0.7507238127794721,
          0.7173631017832526,
          0.8467384366199286,
          0.8293266430732387,
          0.6975250747095644,
          0.8360344651772915,
          1.475346999541209,
          0.9182409658567459,
          1.261196210878845,
          1.3254913993442865,
          0.4122285558584718,
          0.7940035373125355,
          0.5224437818128274,
          0.5689346977786818,
          0.43342241931489367,
          1.1677148602798129,
          0.4279990737839571,
          0.7614991440317268,
          1.4288204036705454,
          0.5332191130650819,
          0.4763096648950604,
          0.37640593143044543,
          0.2620161566134615,
          0.38992861535297707,
          0.7760208652889049
         ]
        },
        {
         "hovertemplate": "<b>%{hovertext}</b><br><br>Cluster=first<br>0.25_IQR=%{x}<br>0.5_IQR=%{y}<br>0.75_IQR=%{z}<extra></extra>",
         "hovertext": [
          [
           "Arremon-castaneiceps-261298.wav",
           "EdZamora"
          ],
          [
           "Automolus-infuscatus-270606.wav",
           "kkong"
          ],
          [
           "Bolborhynchus-orbygnesius-296534.wav",
           "kkong"
          ],
          [
           "Brotogeris-versicolurus-187532.wav",
           "EdZamora"
          ],
          [
           "Campephilus-melanoleucos-453548.wav",
           "EdZamora"
          ],
          [
           "Campephilus-rubricollis-14386.wav",
           "kkong"
          ],
          [
           "Campephilus-rubricollis-464822.wav",
           "EdZamora"
          ],
          [
           "Catamenia-inornata-105203.wav",
           "EdZamora"
          ],
          [
           "Catharus-ustulatus-259190.wav",
           "EdZamora"
          ],
          [
           "Cercomacroides-nigrescens-296738.wav",
           "EdZamora"
          ],
          [
           "Cercomacroides-serva-123310.wav",
           "EdZamora"
          ],
          [
           "Coccyzus-erythropthalmus-179829.wav",
           "kkong"
          ],
          [
           "Coccyzus-erythropthalmus-21096.wav",
           "EdZamora"
          ],
          [
           "Coeligena-coeligena-20778.wav",
           "EdZamora"
          ],
          [
           "Coeligena-violifer-2065.wav",
           "kkong"
          ],
          [
           "Coereba-flaveola-37645.wav",
           "EdZamora"
          ],
          [
           "Colaptes-rubiginosus-238176.wav",
           "EdZamora"
          ],
          [
           "Colaptes-rupicola-18413.wav",
           "kkong"
          ],
          [
           "Colaptes-rupicola-74858.wav",
           "kkong"
          ],
          [
           "Conopophaga-ardesiaca-6443.wav",
           "EdZamora"
          ],
          [
           "Conopophaga-peruviana-474787.wav",
           "kkong"
          ],
          [
           "Conopophaga-peruviana-6440.wav",
           "EdZamora"
          ],
          [
           "Contopus-fumigatus-3341.wav",
           "EdZamora"
          ],
          [
           "Cranioleuca-gutturata-38441.wav",
           "EdZamora"
          ],
          [
           "Crypturellus-cinereus-29550.wav",
           "EdZamora"
          ],
          [
           "Crypturellus-obsoletus-93395.wav",
           "EdZamora"
          ],
          [
           "Dacnis-cayana-257135.wav",
           "EdZamora"
          ],
          [
           "Dacnis-cayana-278933.wav",
           "EdZamora"
          ],
          [
           "Dacnis-flaviventer-215511.wav",
           "kkong"
          ],
          [
           "Dacnis-lineata-61829.wav",
           "kkong"
          ],
          [
           "Dendrocincla-fuliginosa-257073.wav",
           "kkong"
          ],
          [
           "Dendrocincla-fuliginosa-427299.wav",
           "EdZamora"
          ],
          [
           "Diglossa-glauca-20771.wav",
           "kkong"
          ],
          [
           "Dryocopus-lineatus-152686.wav",
           "EdZamora"
          ],
          [
           "Elaenia-chiriquensis-494713.wav",
           "EdZamora"
          ],
          [
           "Elaenia-gigas-347746.wav",
           "kkong"
          ],
          [
           "Elaenia-spectabilis-344852.wav",
           "kkong"
          ],
          [
           "Epinecrophylla-leucophthalma-22458.wav",
           "EdZamora"
          ],
          [
           "Euphonia-chlorotica-264822.wav",
           "EdZamora"
          ],
          [
           "Euphonia-chlorotica-392016.wav",
           "EdZamora"
          ],
          [
           "Euphonia-laniirostris-45661.wav",
           "EdZamora"
          ],
          [
           "Euphonia-mesochrysa-468090.wav",
           "EdZamora"
          ],
          [
           "Falco-femoralis-223018.wav",
           "kkong"
          ],
          [
           "Falco-femoralis-414201.wav",
           "EdZamora"
          ],
          [
           "Furnarius-leucopus-27804.wav",
           "EdZamora"
          ],
          [
           "Furnarius-leucopus-47719.wav",
           "kkong"
          ],
          [
           "Galbula-cyanicollis-504737.wav",
           "EdZamora"
          ],
          [
           "Galbula-dea-388365.wav",
           "kkong"
          ],
          [
           "Galbula-leucogastra-352108.wav",
           "EdZamora"
          ],
          [
           "Galbula-leucogastra-47900.wav",
           "EdZamora"
          ],
          [
           "Glaucidium-brasilianum-38219.wav",
           "EdZamora"
          ],
          [
           "Heliodoxa-aurescens-4072.wav",
           "kkong"
          ],
          [
           "Heliodoxa-leadbeateri-238365.wav",
           "EdZamora"
          ],
          [
           "Hemitriccus-griseipectus-284279.wav",
           "EdZamora"
          ],
          [
           "Hemitriccus-griseipectus-284293.wav",
           "EdZamora"
          ],
          [
           "Henicorhina-leucophrys-47403.wav",
           "EdZamora"
          ],
          [
           "Ictinia-plumbea-260333.wav",
           "EdZamora"
          ],
          [
           "Ictinia-plumbea-507854.wav",
           "kkong"
          ],
          [
           "Iridosornis-jelskii-36451.wav",
           "EdZamora"
          ],
          [
           "Iridosornis-jelskii-73743.wav",
           "EdZamora"
          ],
          [
           "Leptopogon-amaurocephalus-123230.wav",
           "kkong"
          ],
          [
           "Leptopogon-taczanowskii-105218.wav",
           "kkong"
          ],
          [
           "Leptopogon-taczanowskii-3817.wav",
           "EdZamora"
          ],
          [
           "Leptotila-rufaxilla-514683.wav",
           "EdZamora"
          ],
          [
           "Lurocalis-rufiventris-260439.wav",
           "EdZamora"
          ],
          [
           "Micrastur-buckleyi-260360.wav",
           "EdZamora"
          ],
          [
           "Micrastur-mirandollei-370558.wav",
           "kkong"
          ],
          [
           "Micrastur-semitorquatus-453544.wav",
           "EdZamora"
          ],
          [
           "Micropygia-schomburgkii-278963.wav",
           "EdZamora"
          ],
          [
           "Mimus-triurus-22301.wav",
           "kkong"
          ],
          [
           "Mimus-triurus-306031.wav",
           "EdZamora"
          ],
          [
           "Mionectes-macconnelli-4083.wav",
           "kkong"
          ],
          [
           "Mionectes-olivaceus-108603.wav",
           "EdZamora"
          ],
          [
           "Mionectes-olivaceus-275426.wav",
           "EdZamora"
          ],
          [
           "Myadestes-ralloides-102655.wav",
           "EdZamora"
          ],
          [
           "Myiarchus-cephalotes-17857.wav",
           "EdZamora"
          ],
          [
           "Myiarchus-ferox-443445.wav",
           "kkong"
          ],
          [
           "Neopelma-sulphureiventer-30498.wav",
           "EdZamora"
          ],
          [
           "Pachyramphus-minor-118916.wav",
           "EdZamora"
          ],
          [
           "Phyllomyias-burmeisteri-334789.wav",
           "EdZamora"
          ],
          [
           "Pipile-cumanensis-257419.wav",
           "EdZamora"
          ],
          [
           "Piprites-chloris-11896.wav",
           "EdZamora"
          ],
          [
           "Platyrinchus-mystaceus-47831.wav",
           "EdZamora"
          ],
          [
           "Platyrinchus-platyrhynchos-228410.wav",
           "kkong"
          ],
          [
           "Psarocolius-atrovirens-228641.wav",
           "kkong"
          ],
          [
           "Pyrilia-barrabandi-117995.wav",
           "kkong"
          ],
          [
           "Pyrrhomyias-cinnamomeus-228807.wav",
           "EdZamora"
          ],
          [
           "Pyrrhomyias-cinnamomeus-97825.wav",
           "kkong"
          ],
          [
           "Ramphastos-toco-52767.wav",
           "EdZamora"
          ],
          [
           "Ramphastos-tucanus-123206.wav",
           "EdZamora"
          ],
          [
           "Ramphastos-vitellinus-130215.wav",
           "EdZamora"
          ],
          [
           "Ramphocelus-carbo-446748.wav",
           "kkong"
          ],
          [
           "Ramphocelus-carbo-59811.wav",
           "EdZamora"
          ],
          [
           "Ramphocelus-nigrogularis-216612.wav",
           "EdZamora"
          ],
          [
           "Ramphocelus-nigrogularis-259704.wav",
           "EdZamora"
          ],
          [
           "Rhynchocyclus-fulvipectus-354301.wav",
           "EdZamora"
          ],
          [
           "Rhynchocyclus-olivaceus-525963.wav",
           "EdZamora"
          ],
          [
           "Saltator-coerulescens-259778.wav",
           "EdZamora"
          ],
          [
           "Saltator-maximus-214117.wav",
           "EdZamora"
          ],
          [
           "Saltator-maximus-450251.wav",
           "EdZamora"
          ],
          [
           "Sarcoramphus-papa-488987.wav",
           "EdZamora"
          ],
          [
           "Setophaga-fusca-17515.wav",
           "EdZamora"
          ],
          [
           "Setophaga-petechia-243089.wav",
           "EdZamora"
          ],
          [
           "Sporophila-luctuosa-10617.wav",
           "EdZamora"
          ],
          [
           "Tachyphonus-phoenicius-357433.wav",
           "EdZamora"
          ]
         ],
         "legendgroup": "first",
         "marker": {
          "color": "#EF553B",
          "symbol": "circle"
         },
         "mode": "markers",
         "name": "first",
         "scene": "scene",
         "showlegend": true,
         "type": "scatter3d",
         "x": [
          -0.38163086661169143,
          -0.3752089975404352,
          -0.6224509567838035,
          -0.6962179528259977,
          -0.6286193310232996,
          -0.5463180089785147,
          -0.6941054958946634,
          -0.7448889605239404,
          -0.7322142189359344,
          -0.8568069287460325,
          -0.7807162300793703,
          -0.3582248438125073,
          -0.4025864393705278,
          -0.7384670914526841,
          -0.8493077066397955,
          -0.8103751253953041,
          -0.8739600790284671,
          -0.6691785041049185,
          -0.8752275531872675,
          -0.5104062411458314,
          -0.6074947617099565,
          -0.544121053769927,
          -0.8483782255900084,
          -0.8504061842440894,
          -0.5563944285409794,
          -0.44280761934313323,
          -0.848357101020695,
          -0.8187404548433881,
          -0.345465603947248,
          -0.7807162300793703,
          -0.4174581361671214,
          -0.6201695032979623,
          -0.6708684696499859,
          -0.938474513711417,
          -0.8504273088134027,
          -0.779216385658123,
          -0.5483882167712223,
          -0.6032698478472879,
          -0.6772058404439889,
          -0.8905639905087548,
          -0.8061290869633221,
          -0.8947889043714233,
          -0.9242788031328505,
          -0.6095227203640374,
          -0.9283347204410123,
          -0.6877681251006604,
          -0.6400054738831916,
          -0.62230308479861,
          -0.7131176082766723,
          -0.9074636459594293,
          -0.8208740363440357,
          -0.5272213983192525,
          -0.8314151964313938,
          -0.6455189864739741,
          -0.6539688141993114,
          -0.6434276541119531,
          -0.46879083959854534,
          -0.4141204542156133,
          -0.9328976274126944,
          -0.738467091452684,
          -0.501702918588734,
          -0.40900830844178415,
          -0.6371114078872635,
          -0.3814829946264981,
          -0.7596761590432806,
          -0.5927920614678697,
          -0.400558480716447,
          -0.8166279979120536,
          -0.6581937280619801,
          -0.562710674765669,
          -0.554767836703852,
          -0.6201695032979623,
          -0.6202540015752157,
          -0.6455612356126008,
          -0.5526553797725177,
          -0.8821141627834175,
          -0.5251089413879181,
          -0.42582346561520534,
          -0.5695127860845655,
          -0.6286193310232996,
          -0.6877681251006604,
          -0.7279259313653258,
          -0.8060445886860688,
          -0.5229964844565839,
          -0.36675916981509793,
          -0.44280761934313323,
          -0.8609895934700744,
          -0.5250455676799781,
          -0.7214829377247561,
          -0.6539688141993114,
          -0.5356712260445897,
          -0.5694705369459389,
          -0.85887713653874,
          -0.7870536008733733,
          -0.7153145634852599,
          -0.7554089960419852,
          -0.7131176082766723,
          -0.7321297206586811,
          -0.582229776811198,
          -0.43433666704848267,
          -0.6717134524225197,
          -0.9264757583414381,
          -0.9688093952453778,
          -0.5547678367038519,
          -0.5821452785339447
         ],
         "y": [
          -0.41304423736366247,
          -0.4284349421392652,
          -0.6345382437176014,
          -0.6150278048353979,
          -0.6693616565432075,
          -0.5761623887353912,
          -0.7470924887432211,
          -0.6771347397632087,
          -0.7860356356754279,
          -0.8792349034832442,
          -0.8248233209432347,
          -0.3973037438431598,
          -0.4711480344331727,
          -0.7860356356754279,
          -0.865787469512642,
          -0.8249399171915347,
          -0.9108713521886499,
          -0.724006431579817,
          -0.9277000773599527,
          -0.5839354719553925,
          -0.6304962404432006,
          -0.6071769907831965,
          -0.9025930185593484,
          -0.8986287461171476,
          -0.4680388011451722,
          -0.4905807424831762,
          -0.8947810699232469,
          -0.8559156538232402,
          -0.43609142911096654,
          -0.8248233209432347,
          -0.4595661404353707,
          -0.6810212813732095,
          -0.6771347397632088,
          -0.9882912610598633,
          -0.8909333937293462,
          -0.8372213886791369,
          -0.5838577411231926,
          -0.6460424068832034,
          -0.6887554991771108,
          -0.8714618202632428,
          -0.79765639508933,
          -0.8870079867032455,
          -0.8247455901110345,
          -0.6460035414671034,
          -0.9695581304996601,
          -0.7393194055232197,
          -0.5903094001957936,
          -0.638308189079302,
          -0.7548655719632225,
          -0.9103272363632496,
          -0.8521068430454395,
          -0.5760846579031911,
          -0.8675752786532422,
          -0.6849466883993102,
          -0.6771347397632088,
          -0.6771347397632088,
          -0.5589061439869881,
          -0.4481397081019686,
          -0.9570434665154579,
          -0.7781848216232266,
          -0.5914753626787937,
          -0.42062299350316384,
          -0.7005317202554129,
          -0.4711480344331727,
          -0.7976175296732299,
          -0.5878608789814932,
          -0.46726149282317203,
          -0.8208979139171338,
          -0.3040267452031434,
          -0.6075656449441966,
          -0.6189532118614985,
          -0.6344216474693013,
          -0.6926809062032115,
          -0.7083048034754142,
          -0.5139777229753801,
          -0.9258734028032524,
          -0.5838577411231926,
          -0.49835382570317743,
          -0.5838577411231926,
          -0.6615885733232061,
          -0.6615885733232061,
          -0.7704506038193252,
          -0.8714229548471429,
          -0.5449923250231856,
          -0.4595661404353707,
          -0.4751123068753734,
          -0.8792349034832442,
          -0.5721981162931904,
          -0.7236955082510169,
          -0.7082270726432143,
          -0.5994039075631952,
          -0.5566519498531877,
          -0.9064406947532491,
          -0.8248233209432347,
          -0.7432836779654204,
          -0.8015818021154306,
          -0.7471702195754211,
          -0.7626386551832238,
          -0.6228008880553992,
          -0.4789988484853741,
          -0.7306524177329182,
          -0.9569268702671577,
          -1.0068689299556666,
          -0.5372969726353843,
          -0.4050768270631611
         ],
         "z": [
          -0.4997498110542268,
          -0.46927917234751915,
          -0.6389014398085117,
          -0.6227027630253206,
          -0.6868552318715269,
          -0.6316227392275183,
          -0.8295926910590953,
          -0.4639450265786049,
          -0.8706602614940138,
          -0.9152423025525981,
          -0.8937986797625148,
          -0.46207183157614334,
          -0.556641419271844,
          -0.8581187749537238,
          -0.9072856837802378,
          -0.87608360702495,
          -0.9493166116449935,
          -0.8055979550751833,
          -0.8040815591208097,
          -0.6655186487958699,
          -0.6511753270627358,
          -0.6922607374500587,
          -0.9722944703418549,
          -0.963320974282444,
          -0.4210042611412249,
          -0.5655435555216374,
          -0.9580938682279561,
          -0.8617224453394117,
          -0.5404962623458661,
          -0.9009346607242729,
          -0.4621431913857611,
          -0.7510612205749463,
          -0.6868552318715269,
          -1.0518606580654588,
          -0.8010844471168713,
          -0.9106931146894772,
          -0.6797549308145775,
          -0.7225351366803178,
          -0.592232124318613,
          -0.8010309272596581,
          -0.7529344155774078,
          -0.8224388701449327,
          -0.6369033651392194,
          -0.715327795908942,
          -1.0276696826050986,
          -0.8153028891831745,
          -0.6267702721735228,
          -0.7225351366803178,
          -0.726067447256388,
          -0.7653510224508671,
          -0.9081420014956486,
          -0.6441107059105952,
          -0.9152066226477893,
          -0.7564488862010738,
          -0.7082988546616102,
          -0.6476251765342611,
          -0.6618436186005644,
          -0.5046379580130311,
          -1.0080457349602636,
          -0.8295748511066909,
          -0.6938484932140498,
          -0.43716725801960726,
          -0.6369390450440282,
          -0.5744635317238351,
          -0.8581901347633413,
          -0.6565986725936721,
          -0.5442069724459804,
          -0.4441605193621303,
          -0.39428001243944044,
          -0.6259139544581118,
          -0.7083880544236322,
          -0.6655008088434654,
          -0.7796765042315966,
          -0.7868303251457592,
          -0.5941588391782878,
          -0.9473185369757012,
          -0.6636632937458127,
          -0.5940874793686702,
          -0.6333353746583403,
          -0.7368070986038342,
          -0.5369996316746045,
          0.19420649752435423,
          -0.9508330075993671,
          -0.6190634127348239,
          -0.5584789343694967,
          -0.5442069724459804,
          -0.776126353703122,
          -0.6136579071562921,
          -0.7724870034126254,
          -0.758215041489109,
          -0.6655186487958699,
          -0.06069074242964876,
          -0.9544009980802463,
          -0.886591338991139,
          -0.6637346535554303,
          -0.8652904358202906,
          -0.7439430795655926,
          -0.8206548749044932,
          -0.6869265916811444,
          -0.5442069724459804,
          -0.7806755415662429,
          -0.9990543989484483,
          -1.0556427279751908,
          -0.5513429534077385,
          -0.3693040790732868
         ]
        },
        {
         "hovertemplate": "<b>%{hovertext}</b><br><br>Cluster=fourth<br>0.25_IQR=%{x}<br>0.5_IQR=%{y}<br>0.75_IQR=%{z}<extra></extra>",
         "hovertext": [
          [
           "Automolus-rufipileatus-47553.wav",
           "EdZamora"
          ],
          [
           "Bolborhynchus-lineola-260395.wav",
           "EdZamora"
          ],
          [
           "Buteo-albonotatus-521956.wav",
           "EdZamora"
          ],
          [
           "Buteo-brachyurus-153385.wav",
           "kkong"
          ],
          [
           "Catharus-dryas-510526.wav",
           "EdZamora"
          ],
          [
           "Catharus-fuscater-30494.wav",
           "kkong"
          ],
          [
           "Colaptes-rivolii-228004.wav",
           "kkong"
          ],
          [
           "Contopus-virens-258860.wav",
           "kkong"
          ],
          [
           "Contopus-virens-475428.wav",
           "kkong"
          ],
          [
           "Cranioleuca-marcapatae-221711.wav",
           "EdZamora"
          ],
          [
           "Crotophaga-ani-122246.wav",
           "EdZamora"
          ],
          [
           "Crotophaga-ani-122247.wav",
           "kkong"
          ],
          [
           "Crypturellus-bartletti-75993.wav",
           "EdZamora"
          ],
          [
           "Crypturellus-parvirostris-415352.wav",
           "kkong"
          ],
          [
           "Crypturellus-soui-12055.wav",
           "EdZamora"
          ],
          [
           "Crypturellus-soui-221889.wav",
           "EdZamora"
          ],
          [
           "Dacnis-lineata-47879.wav",
           "EdZamora"
          ],
          [
           "Daptrius-ater-145802.wav",
           "EdZamora"
          ],
          [
           "Daptrius-ater-20913.wav",
           "kkong"
          ],
          [
           "Dryocopus-lineatus-234589.wav",
           "kkong"
          ],
          [
           "Elaenia-parvirostris-348111.wav",
           "kkong"
          ],
          [
           "Epinecrophylla-ornata-3901.wav",
           "EdZamora"
          ],
          [
           "Euphonia-chrysopasta-171246.wav",
           "kkong"
          ],
          [
           "Euphonia-rufiventris-65575.wav",
           "kkong"
          ],
          [
           "Glaucidium-parkeri-62899.wav",
           "kkong"
          ],
          [
           "Helicolestes-hamatus-188118.wav",
           "kkong"
          ],
          [
           "Helicolestes-hamatus-307915.wav",
           "EdZamora"
          ],
          [
           "Hemitriccus-cohnhafti-97441.wav",
           "kkong"
          ],
          [
           "Hemitriccus-iohannis-47557.wav",
           "kkong"
          ],
          [
           "Hirundinea-ferruginea-297006.wav",
           "kkong"
          ],
          [
           "Hirundinea-ferruginea-462164.wav",
           "EdZamora"
          ],
          [
           "Hirundinea-ferruginea-81600.wav",
           "kkong"
          ],
          [
           "Ictinia-mississippiensis-424385.wav",
           "EdZamora"
          ],
          [
           "Iridosornis-analis-46899.wav",
           "kkong"
          ],
          [
           "Iridosornis-analis-86306.wav",
           "kkong"
          ],
          [
           "Leptotila-rufaxilla-10120.wav",
           "kkong"
          ],
          [
           "Leptotila-verreauxi-83049.wav",
           "EdZamora"
          ],
          [
           "Lurocalis-rufiventris-238436.wav",
           "kkong"
          ],
          [
           "Micrastur-gilvicollis-504935.wav",
           "kkong"
          ],
          [
           "Micropygia-schomburgkii-279033.wav",
           "kkong"
          ],
          [
           "Micropygia-schomburgkii-383545.wav",
           "kkong"
          ],
          [
           "Molothrus-bonariensis-476446.wav",
           "kkong"
          ],
          [
           "Myiophobus-fasciatus-226134.wav",
           "kkong"
          ],
          [
           "Myiophobus-fasciatus-73123.wav",
           "EdZamora"
          ],
          [
           "Pachyramphus-minor-102547.wav",
           "EdZamora"
          ],
          [
           "Pachyramphus-validus-284497.wav",
           "kkong"
          ],
          [
           "Phrygilus-fruticeti-112862.wav",
           "EdZamora"
          ],
          [
           "Picumnus-rufiventris-228048.wav",
           "kkong"
          ],
          [
           "Psarocolius-angustifrons-122307.wav",
           "EdZamora"
          ],
          [
           "Psarocolius-angustifrons-27823.wav",
           "kkong"
          ],
          [
           "Psarocolius-atrovirens-97799.wav",
           "kkong"
          ],
          [
           "Psarocolius-decumanus-122330.wav",
           "kkong"
          ],
          [
           "Psarocolius-decumanus-76074.wav",
           "kkong"
          ],
          [
           "Pyrilia-barrabandi-47937.wav",
           "EdZamora"
          ],
          [
           "Ramphastos-vitellinus-665.wav",
           "kkong"
          ],
          [
           "Rhynchocyclus-fulvipectus-264697.wav",
           "EdZamora"
          ],
          [
           "Rhynchocyclus-olivaceus-91509.wav",
           "kkong"
          ],
          [
           "Saltator-grossus-151795.wav",
           "kkong"
          ],
          [
           "Saltator-grossus-259800.wav",
           "EdZamora"
          ],
          [
           "Saltator-grossus-27833.wav",
           "EdZamora"
          ],
          [
           "Saltator-maximus-214115.wav",
           "EdZamora"
          ],
          [
           "Sporophila-hypochroma-51941.wav",
           "EdZamora"
          ],
          [
           "Tachyphonus-phoenicius-401522.wav",
           "kkong"
          ]
         ],
         "legendgroup": "fourth",
         "marker": {
          "color": "#00cc96",
          "symbol": "circle"
         },
         "mode": "markers",
         "name": "fourth",
         "scene": "scene",
         "showlegend": true,
         "type": "scatter3d",
         "x": [
          -0.14714814723358258,
          -0.4172891396126147,
          0.2923273927612084,
          0.007209080739015964,
          -0.14697915067907566,
          0.24593783854910706,
          0.2805821322229898,
          0.108607013443063,
          -0.06883936878901946,
          -0.2842888512158062,
          -0.22302760020711107,
          -0.04566571625228199,
          -0.21897168289894928,
          -0.42582346561520534,
          0.4189058120867607,
          -0.28217639428447194,
          -0.7173425221393408,
          -0.19972720025449367,
          0.08953152735311412,
          -0.24854607993762962,
          -0.09628018432705224,
          -0.10481451032964287,
          0.024129860759003797,
          -0.12162966750306405,
          0.40225965146784626,
          0.2732941558098865,
          0.0006815888211927579,
          -0.3582248438125073,
          0.21213852764775779,
          -0.09847713953563987,
          -0.27812047697631004,
          0.15721464743306562,
          -0.16413230096151046,
          -0.01178190707367955,
          0.036804602347009795,
          0.18239513405457072,
          -0.19767811703109928,
          -0.07321215463688142,
          0.04939484565776224,
          -0.18918604016713542,
          -0.15128856281899775,
          -0.43423104420191594,
          -0.04575021452953535,
          -0.004261560398129277,
          -0.23570234179511707,
          -0.3752089975404352,
          -0.047566927490482754,
          0.09815035163295831,
          0.19530224590502332,
          -0.4068113532331965,
          -0.31815153582509526,
          0.155017692224478,
          -0.23570234179511707,
          -0.22851998822858025,
          -0.3054134205291493,
          -0.1337340457196096,
          0.22058835537309507,
          0.15696115260130555,
          0.17411430288374016,
          -0.06676916099631178,
          -0.0793805288763777,
          0.4283696191391383,
          -0.30744137918323033
         ],
         "y": [
          -0.21082747739532715,
          -0.3972260130109597,
          0.21676983053694782,
          -0.032007697919195915,
          -0.15633816402311757,
          0.15458516477693685,
          0.12815668182893236,
          0.02240388462081384,
          -0.05140154055309916,
          -0.2729344123231379,
          -0.2807852263753393,
          -0.11755047875531072,
          -0.16434443973971893,
          -0.4050768270631611,
          0.2864166561881601,
          -0.16418897807531893,
          -0.5372192418031843,
          -0.15241275699701687,
          -0.01642266606309309,
          -0.17981287534752166,
          -0.18743049690312302,
          -0.17973514451532166,
          0.006896583596911018,
          -0.23406899622313124,
          0.31004682917696424,
          0.13114931886863282,
          -0.039897377387497206,
          -0.3545517861331523,
          0.0924004990169259,
          -0.11370280256141004,
          -0.358593789407553,
          0.0380666473091165,
          -0.23430218871973127,
          -0.08630268421090523,
          0.014630801400812299,
          0.17774895277254096,
          -0.2418420794431326,
          -0.0710285756836026,
          -0.043706188165297796,
          -0.17957968285092166,
          -0.1486428116353162,
          -0.46726149282317203,
          -0.16426670890751893,
          -0.018676860196893408,
          -0.346778702913151,
          -0.34296989213535023,
          -0.13434033851051372,
          0.08470514662912472,
          0.0807408741869241,
          -0.36240260018535364,
          -0.39734260925925974,
          0.034024644034715716,
          -0.2690478707131373,
          -0.34017158217614973,
          -0.3778710357931564,
          -0.18303870488382215,
          0.09240049901692608,
          0.022209557540313743,
          0.05742162452691983,
          -0.07479852104530327,
          0.20122366409694506,
          0.26410790734675604,
          -0.05528808216309993
         ],
         "z": [
          -0.33019890340285185,
          -0.0302022637705369,
          0.1195106168071502,
          -0.1498726644992221,
          -0.08921682632427724,
          0.03384316536124297,
          -0.033199375774475334,
          -0.10074143557751682,
          -0.08213436521973225,
          -0.2925922837343861,
          -0.36580744840202534,
          -0.14459203858752098,
          -0.20895858686258,
          0.0696301098844603,
          0.1691770443009872,
          -0.1445206787779034,
          0.20514238834824855,
          -0.22474694474047,
          -0.03034498338977205,
          -0.10548686291708606,
          -0.20874450743372713,
          -0.28379718719901903,
          0.022996474299370427,
          -0.35503211714977034,
          0.17659846450121572,
          -0.0019437791619745194,
          -0.16610702118722204,
          -0.35877850715469356,
          -0.041048954832409446,
          0.003461726416557398,
          -0.41586635484875906,
          -0.08743283108383773,
          -0.3444708653263683,
          -0.023209002428014,
          0.007118916659458352,
          0.05514406853209116,
          -0.3586714674402671,
          0.13356849930181372,
          -0.1535120147897187,
          -0.2658323551277928,
          -0.1517636994540879,
          0.46210906278116165,
          -0.22323054878609644,
          -0.06224281828883135,
          -0.4692078125379017,
          -0.3443995055167507,
          -0.2535049480163556,
          0.05535814796094388,
          -0.04283295007284896,
          -0.3175682171005398,
          -0.33897615998581443,
          -0.10354230810500688,
          -0.321136207581419,
          -0.4631422287204071,
          -0.467423817297462,
          -0.25468238487504563,
          0.14445087026849499,
          -0.08757555070307288,
          -0.08921682632427724,
          -0.1588640005110374,
          0.09810267392187556,
          0.09160893124667552,
          -0.1373846978161452
         ]
        },
        {
         "hovertemplate": "<b>%{hovertext}</b><br><br>Cluster=third<br>0.25_IQR=%{x}<br>0.5_IQR=%{y}<br>0.75_IQR=%{z}<extra></extra>",
         "hovertext": [
          [
           "Catamenia-inornata-259874.wav",
           "kkong"
          ],
          [
           "Cercomacroides-serva-39346.wav",
           "kkong"
          ],
          [
           "Epinecrophylla-erythrura-61330.wav",
           "kkong"
          ],
          [
           "Euphonia-cyanocephala-275607.wav",
           "kkong"
          ],
          [
           "Falco-rufigularis-332664.wav",
           "kkong"
          ],
          [
           "Falco-sparverius-483212.wav",
           "kkong"
          ],
          [
           "Hafferia-fortis-27835.wav",
           "kkong"
          ],
          [
           "Henicorhina-leucophrys-224039.wav",
           "kkong"
          ],
          [
           "Lurocalis-semitorquatus-257043.wav",
           "EdZamora"
          ],
          [
           "Myiothlypis-fulvicauda-61021.wav",
           "kkong"
          ],
          [
           "Phyllomyias-plumbeiceps-70748.wav",
           "kkong"
          ],
          [
           "Picumnus-subtilis-40307.wav",
           "kkong"
          ],
          [
           "Sarcoramphus-papa-488986.wav",
           "kkong"
          ],
          [
           "Sporophila-plumbea-84743.wav",
           "kkong"
          ],
          [
           "Sporophila-schistacea-371548.wav",
           "kkong"
          ]
         ],
         "legendgroup": "third",
         "marker": {
          "color": "#ab63fa",
          "symbol": "circle"
         },
         "mode": "markers",
         "name": "third",
         "scene": "scene",
         "showlegend": true,
         "type": "scatter3d",
         "x": [
          1.9795256192486124,
          1.711898450617868,
          2.5037951804671628,
          1.7954672468214539,
          2.780569287610585,
          0.3283236588711451,
          2.6393515417508864,
          0.9133052322962439,
          2.4708619769076607,
          2.5145475862476547,
          0.9176568935747926,
          1.5936853607404,
          2.193454132684839,
          0.0558167147290186,
          1.576870203566979
         ],
         "y": [
          1.88335773832134,
          1.4448392484649628,
          2.8825098554203143,
          2.0889946549064757,
          2.750484036928591,
          2.6303121703473704,
          2.424286599601235,
          1.8411110310206322,
          2.143017583285485,
          2.222069839632899,
          2.3853823180851275,
          1.54208051954718,
          1.8878272611728408,
          2.1056290529972785,
          1.513631034961975
         ],
         "z": [
          1.754702814241638,
          1.1826290604898873,
          3.2696180525656913,
          1.8097033875043893,
          3.1911936217959687,
          3.054182787330211,
          2.276307342641354,
          1.6713367166558974,
          1.8165182493228682,
          2.053290097634006,
          2.955991689296418,
          1.6269865949785705,
          1.5822439943483468,
          2.2817128482198856,
          1.6050434535211637
         ]
        },
        {
         "hovertemplate": "<b>%{hovertext}</b><br><br>Cluster=fifth<br>0.25_IQR=%{x}<br>0.5_IQR=%{y}<br>0.75_IQR=%{z}<extra></extra>",
         "hovertext": [
          [
           "Coccyzus-americanus-100136.wav",
           "kkong"
          ],
          [
           "Crypturellus-strigulosus-221914.wav",
           "kkong"
          ],
          [
           "Glaucidium-brasilianum-410051.wav",
           "kkong"
          ],
          [
           "Heliodoxa-schreibersii-257828.wav",
           "EdZamora"
          ],
          [
           "Myiothlypis-luteoviridis-47315.wav",
           "kkong"
          ]
         ],
         "legendgroup": "fifth",
         "marker": {
          "color": "#FFA15A",
          "symbol": "circle"
         },
         "mode": "markers",
         "name": "fifth",
         "scene": "scene",
         "showlegend": true,
         "type": "scatter3d",
         "x": [
          4.0586691047757855,
          3.8029773178070805,
          4.671429486847931,
          3.9854935966743654,
          5.646708602906358
         ],
         "y": [
          3.6036576511559413,
          3.457834609948716,
          4.254769967079356,
          3.5363427504707294,
          5.233556606141926
         ],
         "z": [
          3.1574404318468523,
          3.0663853147748177,
          3.8354478229759037,
          3.0956428367180266,
          4.808938345778957
         ]
        },
        {
         "color": "lightblue",
         "opacity": 0.5,
         "type": "mesh3d",
         "x": [
          -0.38163086661169143,
          -0.3752089975404352,
          -0.6224509567838035,
          -0.6962179528259977,
          -0.6286193310232996,
          -0.5463180089785147,
          -0.6941054958946634,
          -0.7448889605239404,
          -0.7322142189359344,
          -0.8568069287460325,
          -0.7807162300793703,
          -0.3582248438125073,
          -0.4025864393705278,
          -0.7384670914526841,
          -0.8493077066397955,
          -0.8103751253953041,
          -0.8739600790284671,
          -0.6691785041049185,
          -0.8752275531872675,
          -0.5104062411458314,
          -0.6074947617099565,
          -0.544121053769927,
          -0.8483782255900084,
          -0.8504061842440894,
          -0.5563944285409794,
          -0.44280761934313323,
          -0.848357101020695,
          -0.8187404548433881,
          -0.345465603947248,
          -0.7807162300793703,
          -0.4174581361671214,
          -0.6201695032979623,
          -0.6708684696499859,
          -0.938474513711417,
          -0.8504273088134027,
          -0.779216385658123,
          -0.5483882167712223,
          -0.6032698478472879,
          -0.6772058404439889,
          -0.8905639905087548,
          -0.8061290869633221,
          -0.8947889043714233,
          -0.9242788031328505,
          -0.6095227203640374,
          -0.9283347204410123,
          -0.6877681251006604,
          -0.6400054738831916,
          -0.62230308479861,
          -0.7131176082766723,
          -0.9074636459594293,
          -0.8208740363440357,
          -0.5272213983192525,
          -0.8314151964313938,
          -0.6455189864739741,
          -0.6539688141993114,
          -0.6434276541119531,
          -0.46879083959854534,
          -0.4141204542156133,
          -0.9328976274126944,
          -0.738467091452684,
          -0.501702918588734,
          -0.40900830844178415,
          -0.6371114078872635,
          -0.3814829946264981,
          -0.7596761590432806,
          -0.5927920614678697,
          -0.400558480716447,
          -0.8166279979120536,
          -0.6581937280619801,
          -0.562710674765669,
          -0.554767836703852,
          -0.6201695032979623,
          -0.6202540015752157,
          -0.6455612356126008,
          -0.5526553797725177,
          -0.8821141627834175,
          -0.5251089413879181,
          -0.42582346561520534,
          -0.5695127860845655,
          -0.6286193310232996,
          -0.6877681251006604,
          -0.7279259313653258,
          -0.8060445886860688,
          -0.5229964844565839,
          -0.36675916981509793,
          -0.44280761934313323,
          -0.8609895934700744,
          -0.5250455676799781,
          -0.7214829377247561,
          -0.6539688141993114,
          -0.5356712260445897,
          -0.5694705369459389,
          -0.85887713653874,
          -0.7870536008733733,
          -0.7153145634852599,
          -0.7554089960419852,
          -0.7131176082766723,
          -0.7321297206586811,
          -0.582229776811198,
          -0.43433666704848267,
          -0.6717134524225197,
          -0.9264757583414381,
          -0.9688093952453778,
          -0.5547678367038519,
          -0.5821452785339447
         ],
         "y": [
          -0.41304423736366247,
          -0.4284349421392652,
          -0.6345382437176014,
          -0.6150278048353979,
          -0.6693616565432075,
          -0.5761623887353912,
          -0.7470924887432211,
          -0.6771347397632087,
          -0.7860356356754279,
          -0.8792349034832442,
          -0.8248233209432347,
          -0.3973037438431598,
          -0.4711480344331727,
          -0.7860356356754279,
          -0.865787469512642,
          -0.8249399171915347,
          -0.9108713521886499,
          -0.724006431579817,
          -0.9277000773599527,
          -0.5839354719553925,
          -0.6304962404432006,
          -0.6071769907831965,
          -0.9025930185593484,
          -0.8986287461171476,
          -0.4680388011451722,
          -0.4905807424831762,
          -0.8947810699232469,
          -0.8559156538232402,
          -0.43609142911096654,
          -0.8248233209432347,
          -0.4595661404353707,
          -0.6810212813732095,
          -0.6771347397632088,
          -0.9882912610598633,
          -0.8909333937293462,
          -0.8372213886791369,
          -0.5838577411231926,
          -0.6460424068832034,
          -0.6887554991771108,
          -0.8714618202632428,
          -0.79765639508933,
          -0.8870079867032455,
          -0.8247455901110345,
          -0.6460035414671034,
          -0.9695581304996601,
          -0.7393194055232197,
          -0.5903094001957936,
          -0.638308189079302,
          -0.7548655719632225,
          -0.9103272363632496,
          -0.8521068430454395,
          -0.5760846579031911,
          -0.8675752786532422,
          -0.6849466883993102,
          -0.6771347397632088,
          -0.6771347397632088,
          -0.5589061439869881,
          -0.4481397081019686,
          -0.9570434665154579,
          -0.7781848216232266,
          -0.5914753626787937,
          -0.42062299350316384,
          -0.7005317202554129,
          -0.4711480344331727,
          -0.7976175296732299,
          -0.5878608789814932,
          -0.46726149282317203,
          -0.8208979139171338,
          -0.3040267452031434,
          -0.6075656449441966,
          -0.6189532118614985,
          -0.6344216474693013,
          -0.6926809062032115,
          -0.7083048034754142,
          -0.5139777229753801,
          -0.9258734028032524,
          -0.5838577411231926,
          -0.49835382570317743,
          -0.5838577411231926,
          -0.6615885733232061,
          -0.6615885733232061,
          -0.7704506038193252,
          -0.8714229548471429,
          -0.5449923250231856,
          -0.4595661404353707,
          -0.4751123068753734,
          -0.8792349034832442,
          -0.5721981162931904,
          -0.7236955082510169,
          -0.7082270726432143,
          -0.5994039075631952,
          -0.5566519498531877,
          -0.9064406947532491,
          -0.8248233209432347,
          -0.7432836779654204,
          -0.8015818021154306,
          -0.7471702195754211,
          -0.7626386551832238,
          -0.6228008880553992,
          -0.4789988484853741,
          -0.7306524177329182,
          -0.9569268702671577,
          -1.0068689299556666,
          -0.5372969726353843,
          -0.4050768270631611
         ],
         "z": [
          -0.4997498110542268,
          -0.46927917234751915,
          -0.6389014398085117,
          -0.6227027630253206,
          -0.6868552318715269,
          -0.6316227392275183,
          -0.8295926910590953,
          -0.4639450265786049,
          -0.8706602614940138,
          -0.9152423025525981,
          -0.8937986797625148,
          -0.46207183157614334,
          -0.556641419271844,
          -0.8581187749537238,
          -0.9072856837802378,
          -0.87608360702495,
          -0.9493166116449935,
          -0.8055979550751833,
          -0.8040815591208097,
          -0.6655186487958699,
          -0.6511753270627358,
          -0.6922607374500587,
          -0.9722944703418549,
          -0.963320974282444,
          -0.4210042611412249,
          -0.5655435555216374,
          -0.9580938682279561,
          -0.8617224453394117,
          -0.5404962623458661,
          -0.9009346607242729,
          -0.4621431913857611,
          -0.7510612205749463,
          -0.6868552318715269,
          -1.0518606580654588,
          -0.8010844471168713,
          -0.9106931146894772,
          -0.6797549308145775,
          -0.7225351366803178,
          -0.592232124318613,
          -0.8010309272596581,
          -0.7529344155774078,
          -0.8224388701449327,
          -0.6369033651392194,
          -0.715327795908942,
          -1.0276696826050986,
          -0.8153028891831745,
          -0.6267702721735228,
          -0.7225351366803178,
          -0.726067447256388,
          -0.7653510224508671,
          -0.9081420014956486,
          -0.6441107059105952,
          -0.9152066226477893,
          -0.7564488862010738,
          -0.7082988546616102,
          -0.6476251765342611,
          -0.6618436186005644,
          -0.5046379580130311,
          -1.0080457349602636,
          -0.8295748511066909,
          -0.6938484932140498,
          -0.43716725801960726,
          -0.6369390450440282,
          -0.5744635317238351,
          -0.8581901347633413,
          -0.6565986725936721,
          -0.5442069724459804,
          -0.4441605193621303,
          -0.39428001243944044,
          -0.6259139544581118,
          -0.7083880544236322,
          -0.6655008088434654,
          -0.7796765042315966,
          -0.7868303251457592,
          -0.5941588391782878,
          -0.9473185369757012,
          -0.6636632937458127,
          -0.5940874793686702,
          -0.6333353746583403,
          -0.7368070986038342,
          -0.5369996316746045,
          0.19420649752435423,
          -0.9508330075993671,
          -0.6190634127348239,
          -0.5584789343694967,
          -0.5442069724459804,
          -0.776126353703122,
          -0.6136579071562921,
          -0.7724870034126254,
          -0.758215041489109,
          -0.6655186487958699,
          -0.06069074242964876,
          -0.9544009980802463,
          -0.886591338991139,
          -0.6637346535554303,
          -0.8652904358202906,
          -0.7439430795655926,
          -0.8206548749044932,
          -0.6869265916811444,
          -0.5442069724459804,
          -0.7806755415662429,
          -0.9990543989484483,
          -1.0556427279751908,
          -0.5513429534077385,
          -0.3693040790732868
         ]
        },
        {
         "color": "lightblue",
         "opacity": 0.5,
         "type": "mesh3d",
         "x": [
          0.4995171685864781,
          0.021510414164149158,
          0.477970107886868,
          0.14865919686116172,
          0.6027106896821595,
          1.0738097099390254,
          -0.4215985517525367,
          0.804048959807633,
          0.04728238872642797,
          0.3238874993153432,
          1.2722961632071974,
          0.062154085523021596,
          0.7231841084761556,
          0.8501850191879746,
          0.6599160233826927,
          0.6431642399172113,
          0.6895537941293132,
          1.0441085654844646,
          0.9116152667511763,
          0.1969499623114642,
          0.8689225121689099,
          0.8606628055673925,
          1.1768553590495132,
          0.29241189103846177,
          0.4863776864735787,
          1.2218084425483073,
          -0.01178190707367955,
          0.7825863973852765,
          0.8523608498272488,
          0.3471245255600206,
          0.3767834208759543,
          0.604971018598687,
          0.367953350902977,
          0.7126218238194838,
          1.132831756600506,
          0.512191910174484,
          0.5458222245213262,
          0.8141887530780377,
          0.7318029327559994,
          0.5710027111428313,
          0.7224658731195016,
          1.1880936299242115
         ],
         "y": [
          0.3567630593291723,
          -0.0480591147684986,
          0.41074712229208193,
          0.32932407556256754,
          0.43810837522648644,
          0.9549795439404771,
          0.5354662425570038,
          0.6096991873080168,
          0.3953952829325791,
          0.4207355342297835,
          1.1725481432683154,
          0.25559638122085454,
          1.1066323975627037,
          0.8931058015092666,
          0.8385387573048568,
          0.5355439733892036,
          1.0018512357570855,
          0.9471287298882758,
          0.8271900558036547,
          0.5776740844416112,
          0.9938449600404842,
          0.7920557196492486,
          1.051715564613394,
          0.4965230956247969,
          0.5428506716160051,
          1.0484120042448937,
          -0.01642266606309309,
          0.6055017223692161,
          0.8815239075114646,
          0.41086371854038184,
          0.6053462607048161,
          0.5315019701148029,
          0.884555409967265,
          0.5702896553826098,
          0.9471287298882758,
          0.6988564518414323,
          0.5509346781648067,
          0.6714951989070275,
          0.5433170566092052,
          0.4186368017603832,
          0.589022785942813,
          0.9708366337092799
         ],
         "z": [
          0.2123854090244332,
          1.2885983777719967,
          0.5151472412794295,
          0.6098952284991738,
          0.272773647913312,
          0.9649102813466445,
          1.1863754504948103,
          0.4088746448064453,
          0.8364626240349967,
          0.608503712211631,
          0.9327626871139235,
          0.6065413174471477,
          1.0363414507738442,
          1.0507739722690002,
          0.8437413246159902,
          0.6262366249016,
          0.8991165368792341,
          0.7507238127794721,
          0.7173631017832526,
          0.8467384366199286,
          0.8293266430732387,
          0.6975250747095644,
          0.8360344651772915,
          1.475346999541209,
          0.9182409658567459,
          1.261196210878845,
          1.3254913993442865,
          0.4122285558584718,
          0.7940035373125355,
          0.5224437818128274,
          0.5689346977786818,
          0.43342241931489367,
          1.1677148602798129,
          0.4279990737839571,
          0.7614991440317268,
          1.4288204036705454,
          0.5332191130650819,
          0.4763096648950604,
          0.37640593143044543,
          0.2620161566134615,
          0.38992861535297707,
          0.7760208652889049
         ]
        },
        {
         "color": "lightblue",
         "opacity": 0.5,
         "type": "mesh3d",
         "x": [
          1.9795256192486124,
          1.711898450617868,
          2.5037951804671628,
          1.7954672468214539,
          2.780569287610585,
          0.3283236588711451,
          2.6393515417508864,
          0.9133052322962439,
          2.4708619769076607,
          2.5145475862476547,
          0.9176568935747926,
          1.5936853607404,
          2.193454132684839,
          0.0558167147290186,
          1.576870203566979
         ],
         "y": [
          1.88335773832134,
          1.4448392484649628,
          2.8825098554203143,
          2.0889946549064757,
          2.750484036928591,
          2.6303121703473704,
          2.424286599601235,
          1.8411110310206322,
          2.143017583285485,
          2.222069839632899,
          2.3853823180851275,
          1.54208051954718,
          1.8878272611728408,
          2.1056290529972785,
          1.513631034961975
         ],
         "z": [
          1.754702814241638,
          1.1826290604898873,
          3.2696180525656913,
          1.8097033875043893,
          3.1911936217959687,
          3.054182787330211,
          2.276307342641354,
          1.6713367166558974,
          1.8165182493228682,
          2.053290097634006,
          2.955991689296418,
          1.6269865949785705,
          1.5822439943483468,
          2.2817128482198856,
          1.6050434535211637
         ]
        },
        {
         "color": "lightblue",
         "opacity": 0.5,
         "type": "mesh3d",
         "x": [
          -0.14714814723358258,
          -0.4172891396126147,
          0.2923273927612084,
          0.007209080739015964,
          -0.14697915067907566,
          0.24593783854910706,
          0.2805821322229898,
          0.108607013443063,
          -0.06883936878901946,
          -0.2842888512158062,
          -0.22302760020711107,
          -0.04566571625228199,
          -0.21897168289894928,
          -0.42582346561520534,
          0.4189058120867607,
          -0.28217639428447194,
          -0.7173425221393408,
          -0.19972720025449367,
          0.08953152735311412,
          -0.24854607993762962,
          -0.09628018432705224,
          -0.10481451032964287,
          0.024129860759003797,
          -0.12162966750306405,
          0.40225965146784626,
          0.2732941558098865,
          0.0006815888211927579,
          -0.3582248438125073,
          0.21213852764775779,
          -0.09847713953563987,
          -0.27812047697631004,
          0.15721464743306562,
          -0.16413230096151046,
          -0.01178190707367955,
          0.036804602347009795,
          0.18239513405457072,
          -0.19767811703109928,
          -0.07321215463688142,
          0.04939484565776224,
          -0.18918604016713542,
          -0.15128856281899775,
          -0.43423104420191594,
          -0.04575021452953535,
          -0.004261560398129277,
          -0.23570234179511707,
          -0.3752089975404352,
          -0.047566927490482754,
          0.09815035163295831,
          0.19530224590502332,
          -0.4068113532331965,
          -0.31815153582509526,
          0.155017692224478,
          -0.23570234179511707,
          -0.22851998822858025,
          -0.3054134205291493,
          -0.1337340457196096,
          0.22058835537309507,
          0.15696115260130555,
          0.17411430288374016,
          -0.06676916099631178,
          -0.0793805288763777,
          0.4283696191391383,
          -0.30744137918323033
         ],
         "y": [
          -0.21082747739532715,
          -0.3972260130109597,
          0.21676983053694782,
          -0.032007697919195915,
          -0.15633816402311757,
          0.15458516477693685,
          0.12815668182893236,
          0.02240388462081384,
          -0.05140154055309916,
          -0.2729344123231379,
          -0.2807852263753393,
          -0.11755047875531072,
          -0.16434443973971893,
          -0.4050768270631611,
          0.2864166561881601,
          -0.16418897807531893,
          -0.5372192418031843,
          -0.15241275699701687,
          -0.01642266606309309,
          -0.17981287534752166,
          -0.18743049690312302,
          -0.17973514451532166,
          0.006896583596911018,
          -0.23406899622313124,
          0.31004682917696424,
          0.13114931886863282,
          -0.039897377387497206,
          -0.3545517861331523,
          0.0924004990169259,
          -0.11370280256141004,
          -0.358593789407553,
          0.0380666473091165,
          -0.23430218871973127,
          -0.08630268421090523,
          0.014630801400812299,
          0.17774895277254096,
          -0.2418420794431326,
          -0.0710285756836026,
          -0.043706188165297796,
          -0.17957968285092166,
          -0.1486428116353162,
          -0.46726149282317203,
          -0.16426670890751893,
          -0.018676860196893408,
          -0.346778702913151,
          -0.34296989213535023,
          -0.13434033851051372,
          0.08470514662912472,
          0.0807408741869241,
          -0.36240260018535364,
          -0.39734260925925974,
          0.034024644034715716,
          -0.2690478707131373,
          -0.34017158217614973,
          -0.3778710357931564,
          -0.18303870488382215,
          0.09240049901692608,
          0.022209557540313743,
          0.05742162452691983,
          -0.07479852104530327,
          0.20122366409694506,
          0.26410790734675604,
          -0.05528808216309993
         ],
         "z": [
          -0.33019890340285185,
          -0.0302022637705369,
          0.1195106168071502,
          -0.1498726644992221,
          -0.08921682632427724,
          0.03384316536124297,
          -0.033199375774475334,
          -0.10074143557751682,
          -0.08213436521973225,
          -0.2925922837343861,
          -0.36580744840202534,
          -0.14459203858752098,
          -0.20895858686258,
          0.0696301098844603,
          0.1691770443009872,
          -0.1445206787779034,
          0.20514238834824855,
          -0.22474694474047,
          -0.03034498338977205,
          -0.10548686291708606,
          -0.20874450743372713,
          -0.28379718719901903,
          0.022996474299370427,
          -0.35503211714977034,
          0.17659846450121572,
          -0.0019437791619745194,
          -0.16610702118722204,
          -0.35877850715469356,
          -0.041048954832409446,
          0.003461726416557398,
          -0.41586635484875906,
          -0.08743283108383773,
          -0.3444708653263683,
          -0.023209002428014,
          0.007118916659458352,
          0.05514406853209116,
          -0.3586714674402671,
          0.13356849930181372,
          -0.1535120147897187,
          -0.2658323551277928,
          -0.1517636994540879,
          0.46210906278116165,
          -0.22323054878609644,
          -0.06224281828883135,
          -0.4692078125379017,
          -0.3443995055167507,
          -0.2535049480163556,
          0.05535814796094388,
          -0.04283295007284896,
          -0.3175682171005398,
          -0.33897615998581443,
          -0.10354230810500688,
          -0.321136207581419,
          -0.4631422287204071,
          -0.467423817297462,
          -0.25468238487504563,
          0.14445087026849499,
          -0.08757555070307288,
          -0.08921682632427724,
          -0.1588640005110374,
          0.09810267392187556,
          0.09160893124667552,
          -0.1373846978161452
         ]
        },
        {
         "color": "lightblue",
         "opacity": 0.5,
         "type": "mesh3d",
         "x": [
          4.0586691047757855,
          3.8029773178070805,
          4.671429486847931,
          3.9854935966743654,
          5.646708602906358
         ],
         "y": [
          3.6036576511559413,
          3.457834609948716,
          4.254769967079356,
          3.5363427504707294,
          5.233556606141926
         ],
         "z": [
          3.1574404318468523,
          3.0663853147748177,
          3.8354478229759037,
          3.0956428367180266,
          4.808938345778957
         ]
        }
       ],
       "layout": {
        "legend": {
         "title": {
          "text": "Cluster"
         },
         "tracegroupgap": 0
        },
        "margin": {
         "t": 60
        },
        "scene": {
         "domain": {
          "x": [
           0,
           1
          ],
          "y": [
           0,
           1
          ]
         },
         "xaxis": {
          "title": {
           "text": "0.25_IQR"
          }
         },
         "yaxis": {
          "title": {
           "text": "0.5_IQR"
          }
         },
         "zaxis": {
          "title": {
           "text": "0.75_IQR"
          }
         }
        },
        "template": {
         "data": {
          "bar": [
           {
            "error_x": {
             "color": "#2a3f5f"
            },
            "error_y": {
             "color": "#2a3f5f"
            },
            "marker": {
             "line": {
              "color": "#E5ECF6",
              "width": 0.5
             },
             "pattern": {
              "fillmode": "overlay",
              "size": 10,
              "solidity": 0.2
             }
            },
            "type": "bar"
           }
          ],
          "barpolar": [
           {
            "marker": {
             "line": {
              "color": "#E5ECF6",
              "width": 0.5
             },
             "pattern": {
              "fillmode": "overlay",
              "size": 10,
              "solidity": 0.2
             }
            },
            "type": "barpolar"
           }
          ],
          "carpet": [
           {
            "aaxis": {
             "endlinecolor": "#2a3f5f",
             "gridcolor": "white",
             "linecolor": "white",
             "minorgridcolor": "white",
             "startlinecolor": "#2a3f5f"
            },
            "baxis": {
             "endlinecolor": "#2a3f5f",
             "gridcolor": "white",
             "linecolor": "white",
             "minorgridcolor": "white",
             "startlinecolor": "#2a3f5f"
            },
            "type": "carpet"
           }
          ],
          "choropleth": [
           {
            "colorbar": {
             "outlinewidth": 0,
             "ticks": ""
            },
            "type": "choropleth"
           }
          ],
          "contour": [
           {
            "colorbar": {
             "outlinewidth": 0,
             "ticks": ""
            },
            "colorscale": [
             [
              0,
              "#0d0887"
             ],
             [
              0.1111111111111111,
              "#46039f"
             ],
             [
              0.2222222222222222,
              "#7201a8"
             ],
             [
              0.3333333333333333,
              "#9c179e"
             ],
             [
              0.4444444444444444,
              "#bd3786"
             ],
             [
              0.5555555555555556,
              "#d8576b"
             ],
             [
              0.6666666666666666,
              "#ed7953"
             ],
             [
              0.7777777777777778,
              "#fb9f3a"
             ],
             [
              0.8888888888888888,
              "#fdca26"
             ],
             [
              1,
              "#f0f921"
             ]
            ],
            "type": "contour"
           }
          ],
          "contourcarpet": [
           {
            "colorbar": {
             "outlinewidth": 0,
             "ticks": ""
            },
            "type": "contourcarpet"
           }
          ],
          "heatmap": [
           {
            "colorbar": {
             "outlinewidth": 0,
             "ticks": ""
            },
            "colorscale": [
             [
              0,
              "#0d0887"
             ],
             [
              0.1111111111111111,
              "#46039f"
             ],
             [
              0.2222222222222222,
              "#7201a8"
             ],
             [
              0.3333333333333333,
              "#9c179e"
             ],
             [
              0.4444444444444444,
              "#bd3786"
             ],
             [
              0.5555555555555556,
              "#d8576b"
             ],
             [
              0.6666666666666666,
              "#ed7953"
             ],
             [
              0.7777777777777778,
              "#fb9f3a"
             ],
             [
              0.8888888888888888,
              "#fdca26"
             ],
             [
              1,
              "#f0f921"
             ]
            ],
            "type": "heatmap"
           }
          ],
          "heatmapgl": [
           {
            "colorbar": {
             "outlinewidth": 0,
             "ticks": ""
            },
            "colorscale": [
             [
              0,
              "#0d0887"
             ],
             [
              0.1111111111111111,
              "#46039f"
             ],
             [
              0.2222222222222222,
              "#7201a8"
             ],
             [
              0.3333333333333333,
              "#9c179e"
             ],
             [
              0.4444444444444444,
              "#bd3786"
             ],
             [
              0.5555555555555556,
              "#d8576b"
             ],
             [
              0.6666666666666666,
              "#ed7953"
             ],
             [
              0.7777777777777778,
              "#fb9f3a"
             ],
             [
              0.8888888888888888,
              "#fdca26"
             ],
             [
              1,
              "#f0f921"
             ]
            ],
            "type": "heatmapgl"
           }
          ],
          "histogram": [
           {
            "marker": {
             "pattern": {
              "fillmode": "overlay",
              "size": 10,
              "solidity": 0.2
             }
            },
            "type": "histogram"
           }
          ],
          "histogram2d": [
           {
            "colorbar": {
             "outlinewidth": 0,
             "ticks": ""
            },
            "colorscale": [
             [
              0,
              "#0d0887"
             ],
             [
              0.1111111111111111,
              "#46039f"
             ],
             [
              0.2222222222222222,
              "#7201a8"
             ],
             [
              0.3333333333333333,
              "#9c179e"
             ],
             [
              0.4444444444444444,
              "#bd3786"
             ],
             [
              0.5555555555555556,
              "#d8576b"
             ],
             [
              0.6666666666666666,
              "#ed7953"
             ],
             [
              0.7777777777777778,
              "#fb9f3a"
             ],
             [
              0.8888888888888888,
              "#fdca26"
             ],
             [
              1,
              "#f0f921"
             ]
            ],
            "type": "histogram2d"
           }
          ],
          "histogram2dcontour": [
           {
            "colorbar": {
             "outlinewidth": 0,
             "ticks": ""
            },
            "colorscale": [
             [
              0,
              "#0d0887"
             ],
             [
              0.1111111111111111,
              "#46039f"
             ],
             [
              0.2222222222222222,
              "#7201a8"
             ],
             [
              0.3333333333333333,
              "#9c179e"
             ],
             [
              0.4444444444444444,
              "#bd3786"
             ],
             [
              0.5555555555555556,
              "#d8576b"
             ],
             [
              0.6666666666666666,
              "#ed7953"
             ],
             [
              0.7777777777777778,
              "#fb9f3a"
             ],
             [
              0.8888888888888888,
              "#fdca26"
             ],
             [
              1,
              "#f0f921"
             ]
            ],
            "type": "histogram2dcontour"
           }
          ],
          "mesh3d": [
           {
            "colorbar": {
             "outlinewidth": 0,
             "ticks": ""
            },
            "type": "mesh3d"
           }
          ],
          "parcoords": [
           {
            "line": {
             "colorbar": {
              "outlinewidth": 0,
              "ticks": ""
             }
            },
            "type": "parcoords"
           }
          ],
          "pie": [
           {
            "automargin": true,
            "type": "pie"
           }
          ],
          "scatter": [
           {
            "marker": {
             "colorbar": {
              "outlinewidth": 0,
              "ticks": ""
             }
            },
            "type": "scatter"
           }
          ],
          "scatter3d": [
           {
            "line": {
             "colorbar": {
              "outlinewidth": 0,
              "ticks": ""
             }
            },
            "marker": {
             "colorbar": {
              "outlinewidth": 0,
              "ticks": ""
             }
            },
            "type": "scatter3d"
           }
          ],
          "scattercarpet": [
           {
            "marker": {
             "colorbar": {
              "outlinewidth": 0,
              "ticks": ""
             }
            },
            "type": "scattercarpet"
           }
          ],
          "scattergeo": [
           {
            "marker": {
             "colorbar": {
              "outlinewidth": 0,
              "ticks": ""
             }
            },
            "type": "scattergeo"
           }
          ],
          "scattergl": [
           {
            "marker": {
             "colorbar": {
              "outlinewidth": 0,
              "ticks": ""
             }
            },
            "type": "scattergl"
           }
          ],
          "scattermapbox": [
           {
            "marker": {
             "colorbar": {
              "outlinewidth": 0,
              "ticks": ""
             }
            },
            "type": "scattermapbox"
           }
          ],
          "scatterpolar": [
           {
            "marker": {
             "colorbar": {
              "outlinewidth": 0,
              "ticks": ""
             }
            },
            "type": "scatterpolar"
           }
          ],
          "scatterpolargl": [
           {
            "marker": {
             "colorbar": {
              "outlinewidth": 0,
              "ticks": ""
             }
            },
            "type": "scatterpolargl"
           }
          ],
          "scatterternary": [
           {
            "marker": {
             "colorbar": {
              "outlinewidth": 0,
              "ticks": ""
             }
            },
            "type": "scatterternary"
           }
          ],
          "surface": [
           {
            "colorbar": {
             "outlinewidth": 0,
             "ticks": ""
            },
            "colorscale": [
             [
              0,
              "#0d0887"
             ],
             [
              0.1111111111111111,
              "#46039f"
             ],
             [
              0.2222222222222222,
              "#7201a8"
             ],
             [
              0.3333333333333333,
              "#9c179e"
             ],
             [
              0.4444444444444444,
              "#bd3786"
             ],
             [
              0.5555555555555556,
              "#d8576b"
             ],
             [
              0.6666666666666666,
              "#ed7953"
             ],
             [
              0.7777777777777778,
              "#fb9f3a"
             ],
             [
              0.8888888888888888,
              "#fdca26"
             ],
             [
              1,
              "#f0f921"
             ]
            ],
            "type": "surface"
           }
          ],
          "table": [
           {
            "cells": {
             "fill": {
              "color": "#EBF0F8"
             },
             "line": {
              "color": "white"
             }
            },
            "header": {
             "fill": {
              "color": "#C8D4E3"
             },
             "line": {
              "color": "white"
             }
            },
            "type": "table"
           }
          ]
         },
         "layout": {
          "annotationdefaults": {
           "arrowcolor": "#2a3f5f",
           "arrowhead": 0,
           "arrowwidth": 1
          },
          "autotypenumbers": "strict",
          "coloraxis": {
           "colorbar": {
            "outlinewidth": 0,
            "ticks": ""
           }
          },
          "colorscale": {
           "diverging": [
            [
             0,
             "#8e0152"
            ],
            [
             0.1,
             "#c51b7d"
            ],
            [
             0.2,
             "#de77ae"
            ],
            [
             0.3,
             "#f1b6da"
            ],
            [
             0.4,
             "#fde0ef"
            ],
            [
             0.5,
             "#f7f7f7"
            ],
            [
             0.6,
             "#e6f5d0"
            ],
            [
             0.7,
             "#b8e186"
            ],
            [
             0.8,
             "#7fbc41"
            ],
            [
             0.9,
             "#4d9221"
            ],
            [
             1,
             "#276419"
            ]
           ],
           "sequential": [
            [
             0,
             "#0d0887"
            ],
            [
             0.1111111111111111,
             "#46039f"
            ],
            [
             0.2222222222222222,
             "#7201a8"
            ],
            [
             0.3333333333333333,
             "#9c179e"
            ],
            [
             0.4444444444444444,
             "#bd3786"
            ],
            [
             0.5555555555555556,
             "#d8576b"
            ],
            [
             0.6666666666666666,
             "#ed7953"
            ],
            [
             0.7777777777777778,
             "#fb9f3a"
            ],
            [
             0.8888888888888888,
             "#fdca26"
            ],
            [
             1,
             "#f0f921"
            ]
           ],
           "sequentialminus": [
            [
             0,
             "#0d0887"
            ],
            [
             0.1111111111111111,
             "#46039f"
            ],
            [
             0.2222222222222222,
             "#7201a8"
            ],
            [
             0.3333333333333333,
             "#9c179e"
            ],
            [
             0.4444444444444444,
             "#bd3786"
            ],
            [
             0.5555555555555556,
             "#d8576b"
            ],
            [
             0.6666666666666666,
             "#ed7953"
            ],
            [
             0.7777777777777778,
             "#fb9f3a"
            ],
            [
             0.8888888888888888,
             "#fdca26"
            ],
            [
             1,
             "#f0f921"
            ]
           ]
          },
          "colorway": [
           "#636efa",
           "#EF553B",
           "#00cc96",
           "#ab63fa",
           "#FFA15A",
           "#19d3f3",
           "#FF6692",
           "#B6E880",
           "#FF97FF",
           "#FECB52"
          ],
          "font": {
           "color": "#2a3f5f"
          },
          "geo": {
           "bgcolor": "white",
           "lakecolor": "white",
           "landcolor": "#E5ECF6",
           "showlakes": true,
           "showland": true,
           "subunitcolor": "white"
          },
          "hoverlabel": {
           "align": "left"
          },
          "hovermode": "closest",
          "mapbox": {
           "style": "light"
          },
          "paper_bgcolor": "white",
          "plot_bgcolor": "#E5ECF6",
          "polar": {
           "angularaxis": {
            "gridcolor": "white",
            "linecolor": "white",
            "ticks": ""
           },
           "bgcolor": "#E5ECF6",
           "radialaxis": {
            "gridcolor": "white",
            "linecolor": "white",
            "ticks": ""
           }
          },
          "scene": {
           "xaxis": {
            "backgroundcolor": "#E5ECF6",
            "gridcolor": "white",
            "gridwidth": 2,
            "linecolor": "white",
            "showbackground": true,
            "ticks": "",
            "zerolinecolor": "white"
           },
           "yaxis": {
            "backgroundcolor": "#E5ECF6",
            "gridcolor": "white",
            "gridwidth": 2,
            "linecolor": "white",
            "showbackground": true,
            "ticks": "",
            "zerolinecolor": "white"
           },
           "zaxis": {
            "backgroundcolor": "#E5ECF6",
            "gridcolor": "white",
            "gridwidth": 2,
            "linecolor": "white",
            "showbackground": true,
            "ticks": "",
            "zerolinecolor": "white"
           }
          },
          "shapedefaults": {
           "line": {
            "color": "#2a3f5f"
           }
          },
          "ternary": {
           "aaxis": {
            "gridcolor": "white",
            "linecolor": "white",
            "ticks": ""
           },
           "baxis": {
            "gridcolor": "white",
            "linecolor": "white",
            "ticks": ""
           },
           "bgcolor": "#E5ECF6",
           "caxis": {
            "gridcolor": "white",
            "linecolor": "white",
            "ticks": ""
           }
          },
          "title": {
           "x": 0.05
          },
          "xaxis": {
           "automargin": true,
           "gridcolor": "white",
           "linecolor": "white",
           "ticks": "",
           "title": {
            "standoff": 15
           },
           "zerolinecolor": "white",
           "zerolinewidth": 2
          },
          "yaxis": {
           "automargin": true,
           "gridcolor": "white",
           "linecolor": "white",
           "ticks": "",
           "title": {
            "standoff": 15
           },
           "zerolinecolor": "white",
           "zerolinewidth": 2
          }
         }
        },
        "title": {
         "text": "kkong & EdZamora Annotations",
         "x": 0.5
        }
       }
      }
     },
     "metadata": {},
     "output_type": "display_data"
    }
   ],
   "source": [
    "import plotly.express as px \n",
    "import plotly.graph_objects as go\n",
    "import numpy as np\n",
    "\n",
    "\n",
    "fig = px.scatter_3d(df_segm_iqr_kmeans, \n",
    "                    x='0.25_IQR',\n",
    "                    y='0.5_IQR',\n",
    "                    z='0.75_IQR' , \n",
    "                    color = df_segm_iqr_kmeans['Cluster'],\n",
    "                    hover_name = list(tuple(zip(df_segm_iqr_kmeans['IN FILE'],df_segm_iqr_kmeans['LAST MOD BY'])))) \n",
    "\n",
    "\n",
    "#color = Y, color_discrete_sequence= px.colors.qualitative.G10)\n",
    "\n",
    "\n",
    "clust_1 = df_segm_iqr_kmeans[df_segm_iqr_kmeans['Cluster'] == 'first']\n",
    "x, y, z = clust_1['0.25_IQR'], clust_1['0.5_IQR'], clust_1['0.75_IQR']\n",
    "fig.add_trace(go.Figure(data=[go.Mesh3d(x=x, y=y, z=z, color='lightblue', opacity=0.50)]).data[0])\n",
    "\n",
    "\n",
    "clust_2 = df_segm_iqr_kmeans[df_segm_iqr_kmeans['Cluster'] == 'second']\n",
    "x2, y2, z2 = clust_2['0.25_IQR'], clust_2['0.5_IQR'], clust_2['0.75_IQR']\n",
    "fig.add_trace(go.Figure(data=[go.Mesh3d(x=x2, y=y2, z=z2, color='lightblue', opacity=0.50)]).data[0])\n",
    "\n",
    "\n",
    "clust_3 = df_segm_iqr_kmeans[df_segm_iqr_kmeans['Cluster'] == 'third']\n",
    "x3, y3, z3 = clust_3['0.25_IQR'], clust_3['0.5_IQR'], clust_3['0.75_IQR']\n",
    "fig.add_trace(go.Figure(data=[go.Mesh3d(x=x3, y=y3, z=z3, color='lightblue', opacity=0.50)]).data[0])\n",
    "\n",
    "\n",
    "clust_4 = df_segm_iqr_kmeans[df_segm_iqr_kmeans['Cluster'] == 'fourth']\n",
    "x4, y4, z4 = clust_4['0.25_IQR'], clust_4['0.5_IQR'], clust_4['0.75_IQR']\n",
    "fig.add_trace(go.Figure(data=[go.Mesh3d(x=x4, y=y4, z=z4, color='lightblue', opacity=0.50)]).data[0])\n",
    "\n",
    "\n",
    "clust_5 = df_segm_iqr_kmeans[df_segm_iqr_kmeans['Cluster'] == 'fifth']\n",
    "x5, y5, z5 = clust_5['0.25_IQR'], clust_5['0.5_IQR'], clust_5['0.75_IQR']\n",
    "fig.add_trace(go.Figure(data=[go.Mesh3d(x=x5, y=y5, z=z5, color='lightblue', opacity=0.50)]).data[0])\n",
    "\n",
    "\n",
    "fig.update_layout(title_text= (' & '.join(df_segm_iqr_kmeans['LAST MOD BY'].unique()) + ' Annotations'), title_x=0.5)\n",
    "fig.show()"
   ]
  },
  {
   "cell_type": "code",
   "execution_count": 21,
   "metadata": {},
   "outputs": [
    {
     "data": {
      "text/html": [
       "<div>\n",
       "<style scoped>\n",
       "    .dataframe tbody tr th:only-of-type {\n",
       "        vertical-align: middle;\n",
       "    }\n",
       "\n",
       "    .dataframe tbody tr th {\n",
       "        vertical-align: top;\n",
       "    }\n",
       "\n",
       "    .dataframe thead th {\n",
       "        text-align: right;\n",
       "    }\n",
       "</style>\n",
       "<table border=\"1\" class=\"dataframe\">\n",
       "  <thead>\n",
       "    <tr style=\"text-align: right;\">\n",
       "      <th></th>\n",
       "      <th>IN FILE</th>\n",
       "      <th>CLIP LENGTH</th>\n",
       "      <th>OFFSET</th>\n",
       "      <th>DURATION</th>\n",
       "      <th>MAX FREQ</th>\n",
       "      <th>MIN FREQ</th>\n",
       "      <th>SAMPLE RATE</th>\n",
       "      <th>MANUAL ID</th>\n",
       "      <th>TIME_SPENT</th>\n",
       "      <th>LAST MOD BY</th>\n",
       "      <th>LAST MOD DATE</th>\n",
       "      <th>LAST MOD TIME</th>\n",
       "    </tr>\n",
       "  </thead>\n",
       "  <tbody>\n",
       "    <tr>\n",
       "      <th>1890</th>\n",
       "      <td>Arremon-brunneinucha-297000.wav</td>\n",
       "      <td>17.8416</td>\n",
       "      <td>8.2753</td>\n",
       "      <td>2.0102</td>\n",
       "      <td>24000</td>\n",
       "      <td>0</td>\n",
       "      <td>44100</td>\n",
       "      <td>Arremon brunneinucha Chestnut-capped Brushfinch</td>\n",
       "      <td>16.952</td>\n",
       "      <td>kkong</td>\n",
       "      <td>11/09/2021</td>\n",
       "      <td>03:55:24</td>\n",
       "    </tr>\n",
       "    <tr>\n",
       "      <th>1891</th>\n",
       "      <td>Arremon-brunneinucha-297000.wav</td>\n",
       "      <td>17.8416</td>\n",
       "      <td>14.5259</td>\n",
       "      <td>1.9101</td>\n",
       "      <td>24000</td>\n",
       "      <td>0</td>\n",
       "      <td>44100</td>\n",
       "      <td>Arremon brunneinucha Chestnut-capped Brushfinch</td>\n",
       "      <td>16.953</td>\n",
       "      <td>kkong</td>\n",
       "      <td>11/09/2021</td>\n",
       "      <td>03:55:24</td>\n",
       "    </tr>\n",
       "    <tr>\n",
       "      <th>1892</th>\n",
       "      <td>Arremon-brunneinucha-297000.wav</td>\n",
       "      <td>17.8416</td>\n",
       "      <td>0.4146</td>\n",
       "      <td>1.8401</td>\n",
       "      <td>24000</td>\n",
       "      <td>0</td>\n",
       "      <td>44100</td>\n",
       "      <td>Arremon brunneinucha Chestnut-capped Brushfinch</td>\n",
       "      <td>16.951</td>\n",
       "      <td>kkong</td>\n",
       "      <td>11/09/2021</td>\n",
       "      <td>03:55:24</td>\n",
       "    </tr>\n",
       "    <tr>\n",
       "      <th>1911</th>\n",
       "      <td>Arremon-castaneiceps-261298.wav</td>\n",
       "      <td>22.4131</td>\n",
       "      <td>5.8007</td>\n",
       "      <td>0.8098</td>\n",
       "      <td>24000</td>\n",
       "      <td>0</td>\n",
       "      <td>44100</td>\n",
       "      <td>Arremon castaneiceps Olive Finch</td>\n",
       "      <td>728.701</td>\n",
       "      <td>EdZamora</td>\n",
       "      <td>10/26/2021</td>\n",
       "      <td>09:58:56</td>\n",
       "    </tr>\n",
       "    <tr>\n",
       "      <th>1912</th>\n",
       "      <td>Arremon-castaneiceps-261298.wav</td>\n",
       "      <td>22.4131</td>\n",
       "      <td>1.8319</td>\n",
       "      <td>0.6898</td>\n",
       "      <td>24000</td>\n",
       "      <td>0</td>\n",
       "      <td>44100</td>\n",
       "      <td>Arremon castaneiceps Olive Finch</td>\n",
       "      <td>728.700</td>\n",
       "      <td>EdZamora</td>\n",
       "      <td>10/26/2021</td>\n",
       "      <td>09:58:56</td>\n",
       "    </tr>\n",
       "    <tr>\n",
       "      <th>...</th>\n",
       "      <td>...</td>\n",
       "      <td>...</td>\n",
       "      <td>...</td>\n",
       "      <td>...</td>\n",
       "      <td>...</td>\n",
       "      <td>...</td>\n",
       "      <td>...</td>\n",
       "      <td>...</td>\n",
       "      <td>...</td>\n",
       "      <td>...</td>\n",
       "      <td>...</td>\n",
       "      <td>...</td>\n",
       "    </tr>\n",
       "    <tr>\n",
       "      <th>26612</th>\n",
       "      <td>Tachyphonus-phoenicius-401522.wav</td>\n",
       "      <td>51.1920</td>\n",
       "      <td>45.2183</td>\n",
       "      <td>1.4901</td>\n",
       "      <td>24000</td>\n",
       "      <td>0</td>\n",
       "      <td>48000</td>\n",
       "      <td>Tachyphonus phoenicius Red-shouldered Tanager</td>\n",
       "      <td>1.565</td>\n",
       "      <td>kkong</td>\n",
       "      <td>11/19/2021</td>\n",
       "      <td>09:52:38</td>\n",
       "    </tr>\n",
       "    <tr>\n",
       "      <th>26613</th>\n",
       "      <td>Tachyphonus-phoenicius-401522.wav</td>\n",
       "      <td>51.1920</td>\n",
       "      <td>43.6983</td>\n",
       "      <td>1.3300</td>\n",
       "      <td>24000</td>\n",
       "      <td>0</td>\n",
       "      <td>48000</td>\n",
       "      <td>Tachyphonus phoenicius Red-shouldered Tanager</td>\n",
       "      <td>1.562</td>\n",
       "      <td>kkong</td>\n",
       "      <td>11/19/2021</td>\n",
       "      <td>09:52:38</td>\n",
       "    </tr>\n",
       "    <tr>\n",
       "      <th>26614</th>\n",
       "      <td>Tachyphonus-phoenicius-401522.wav</td>\n",
       "      <td>51.1920</td>\n",
       "      <td>46.9084</td>\n",
       "      <td>1.4801</td>\n",
       "      <td>24000</td>\n",
       "      <td>0</td>\n",
       "      <td>48000</td>\n",
       "      <td>Tachyphonus phoenicius Red-shouldered Tanager</td>\n",
       "      <td>1.564</td>\n",
       "      <td>kkong</td>\n",
       "      <td>11/19/2021</td>\n",
       "      <td>09:52:38</td>\n",
       "    </tr>\n",
       "    <tr>\n",
       "      <th>26615</th>\n",
       "      <td>Tachyphonus-phoenicius-401522.wav</td>\n",
       "      <td>51.1920</td>\n",
       "      <td>48.5385</td>\n",
       "      <td>1.3800</td>\n",
       "      <td>24000</td>\n",
       "      <td>0</td>\n",
       "      <td>48000</td>\n",
       "      <td>Tachyphonus phoenicius Red-shouldered Tanager</td>\n",
       "      <td>1.568</td>\n",
       "      <td>kkong</td>\n",
       "      <td>11/19/2021</td>\n",
       "      <td>09:52:38</td>\n",
       "    </tr>\n",
       "    <tr>\n",
       "      <th>26616</th>\n",
       "      <td>Tachyphonus-phoenicius-401522.wav</td>\n",
       "      <td>51.1920</td>\n",
       "      <td>50.1385</td>\n",
       "      <td>0.8401</td>\n",
       "      <td>24000</td>\n",
       "      <td>0</td>\n",
       "      <td>48000</td>\n",
       "      <td>Tachyphonus phoenicius Red-shouldered Tanager</td>\n",
       "      <td>1.577</td>\n",
       "      <td>kkong</td>\n",
       "      <td>11/19/2021</td>\n",
       "      <td>09:52:38</td>\n",
       "    </tr>\n",
       "  </tbody>\n",
       "</table>\n",
       "<p>3720 rows × 12 columns</p>\n",
       "</div>"
      ],
      "text/plain": [
       "                                 IN FILE  CLIP LENGTH   OFFSET  DURATION  \\\n",
       "1890     Arremon-brunneinucha-297000.wav      17.8416   8.2753    2.0102   \n",
       "1891     Arremon-brunneinucha-297000.wav      17.8416  14.5259    1.9101   \n",
       "1892     Arremon-brunneinucha-297000.wav      17.8416   0.4146    1.8401   \n",
       "1911     Arremon-castaneiceps-261298.wav      22.4131   5.8007    0.8098   \n",
       "1912     Arremon-castaneiceps-261298.wav      22.4131   1.8319    0.6898   \n",
       "...                                  ...          ...      ...       ...   \n",
       "26612  Tachyphonus-phoenicius-401522.wav      51.1920  45.2183    1.4901   \n",
       "26613  Tachyphonus-phoenicius-401522.wav      51.1920  43.6983    1.3300   \n",
       "26614  Tachyphonus-phoenicius-401522.wav      51.1920  46.9084    1.4801   \n",
       "26615  Tachyphonus-phoenicius-401522.wav      51.1920  48.5385    1.3800   \n",
       "26616  Tachyphonus-phoenicius-401522.wav      51.1920  50.1385    0.8401   \n",
       "\n",
       "       MAX FREQ  MIN FREQ  SAMPLE RATE  \\\n",
       "1890      24000         0        44100   \n",
       "1891      24000         0        44100   \n",
       "1892      24000         0        44100   \n",
       "1911      24000         0        44100   \n",
       "1912      24000         0        44100   \n",
       "...         ...       ...          ...   \n",
       "26612     24000         0        48000   \n",
       "26613     24000         0        48000   \n",
       "26614     24000         0        48000   \n",
       "26615     24000         0        48000   \n",
       "26616     24000         0        48000   \n",
       "\n",
       "                                             MANUAL ID  TIME_SPENT  \\\n",
       "1890   Arremon brunneinucha Chestnut-capped Brushfinch      16.952   \n",
       "1891   Arremon brunneinucha Chestnut-capped Brushfinch      16.953   \n",
       "1892   Arremon brunneinucha Chestnut-capped Brushfinch      16.951   \n",
       "1911                  Arremon castaneiceps Olive Finch     728.701   \n",
       "1912                  Arremon castaneiceps Olive Finch     728.700   \n",
       "...                                                ...         ...   \n",
       "26612    Tachyphonus phoenicius Red-shouldered Tanager       1.565   \n",
       "26613    Tachyphonus phoenicius Red-shouldered Tanager       1.562   \n",
       "26614    Tachyphonus phoenicius Red-shouldered Tanager       1.564   \n",
       "26615    Tachyphonus phoenicius Red-shouldered Tanager       1.568   \n",
       "26616    Tachyphonus phoenicius Red-shouldered Tanager       1.577   \n",
       "\n",
       "      LAST MOD BY LAST MOD DATE LAST MOD TIME  \n",
       "1890        kkong    11/09/2021      03:55:24  \n",
       "1891        kkong    11/09/2021      03:55:24  \n",
       "1892        kkong    11/09/2021      03:55:24  \n",
       "1911     EdZamora    10/26/2021      09:58:56  \n",
       "1912     EdZamora    10/26/2021      09:58:56  \n",
       "...           ...           ...           ...  \n",
       "26612       kkong    11/19/2021      09:52:38  \n",
       "26613       kkong    11/19/2021      09:52:38  \n",
       "26614       kkong    11/19/2021      09:52:38  \n",
       "26615       kkong    11/19/2021      09:52:38  \n",
       "26616       kkong    11/19/2021      09:52:38  \n",
       "\n",
       "[3720 rows x 12 columns]"
      ]
     },
     "execution_count": 21,
     "metadata": {},
     "output_type": "execute_result"
    }
   ],
   "source": [
    "kaleidoscope_format = pd.read_csv('for_data_science_newline_fixed.csv')\n",
    "for_kaleidoscope = kaleidoscope_format[kaleidoscope_format['IN FILE'].isin(df_segm_iqr_kmeans['IN FILE'].to_list())] \n",
    "for_kaleidoscope"
   ]
  },
  {
   "cell_type": "code",
   "execution_count": 22,
   "metadata": {},
   "outputs": [
    {
     "data": {
      "text/html": [
       "<div>\n",
       "<style scoped>\n",
       "    .dataframe tbody tr th:only-of-type {\n",
       "        vertical-align: middle;\n",
       "    }\n",
       "\n",
       "    .dataframe tbody tr th {\n",
       "        vertical-align: top;\n",
       "    }\n",
       "\n",
       "    .dataframe thead th {\n",
       "        text-align: right;\n",
       "    }\n",
       "</style>\n",
       "<table border=\"1\" class=\"dataframe\">\n",
       "  <thead>\n",
       "    <tr style=\"text-align: right;\">\n",
       "      <th></th>\n",
       "      <th>0.25</th>\n",
       "      <th>0.5</th>\n",
       "      <th>0.75</th>\n",
       "      <th>0.25_IQR</th>\n",
       "      <th>0.5_IQR</th>\n",
       "      <th>0.75_IQR</th>\n",
       "      <th>Segment K-means IQR</th>\n",
       "      <th>Cluster</th>\n",
       "      <th>IN FILE</th>\n",
       "      <th>LAST MOD BY</th>\n",
       "      <th>Genus</th>\n",
       "      <th>CENTROID</th>\n",
       "      <th>Distance_to_Centroid</th>\n",
       "    </tr>\n",
       "  </thead>\n",
       "  <tbody>\n",
       "    <tr>\n",
       "      <th>114</th>\n",
       "      <td>0.51</td>\n",
       "      <td>0.58000</td>\n",
       "      <td>0.669950</td>\n",
       "      <td>-0.653969</td>\n",
       "      <td>-0.677135</td>\n",
       "      <td>-0.708299</td>\n",
       "      <td>0</td>\n",
       "      <td>first</td>\n",
       "      <td>Hemitriccus-griseipectus-284293.wav</td>\n",
       "      <td>EdZamora</td>\n",
       "      <td>Hemitriccus</td>\n",
       "      <td>[-0.6632762994387703, -0.6899940104368311, -0....</td>\n",
       "      <td>0.661388</td>\n",
       "    </tr>\n",
       "    <tr>\n",
       "      <th>66</th>\n",
       "      <td>0.49</td>\n",
       "      <td>0.58000</td>\n",
       "      <td>0.700000</td>\n",
       "      <td>-0.670868</td>\n",
       "      <td>-0.677135</td>\n",
       "      <td>-0.686855</td>\n",
       "      <td>0</td>\n",
       "      <td>first</td>\n",
       "      <td>Diglossa-glauca-20771.wav</td>\n",
       "      <td>kkong</td>\n",
       "      <td>Diglossa</td>\n",
       "      <td>[-0.6632762994387703, -0.6899940104368311, -0....</td>\n",
       "      <td>0.689864</td>\n",
       "    </tr>\n",
       "    <tr>\n",
       "      <th>12</th>\n",
       "      <td>0.54</td>\n",
       "      <td>0.59000</td>\n",
       "      <td>0.700000</td>\n",
       "      <td>-0.628619</td>\n",
       "      <td>-0.669362</td>\n",
       "      <td>-0.686855</td>\n",
       "      <td>0</td>\n",
       "      <td>first</td>\n",
       "      <td>Campephilus-melanoleucos-453548.wav</td>\n",
       "      <td>EdZamora</td>\n",
       "      <td>Campephilus</td>\n",
       "      <td>[-0.6632762994387703, -0.6899940104368311, -0....</td>\n",
       "      <td>0.732908</td>\n",
       "    </tr>\n",
       "    <tr>\n",
       "      <th>113</th>\n",
       "      <td>0.52</td>\n",
       "      <td>0.56995</td>\n",
       "      <td>0.602475</td>\n",
       "      <td>-0.645519</td>\n",
       "      <td>-0.684947</td>\n",
       "      <td>-0.756449</td>\n",
       "      <td>0</td>\n",
       "      <td>first</td>\n",
       "      <td>Hemitriccus-griseipectus-284279.wav</td>\n",
       "      <td>EdZamora</td>\n",
       "      <td>Hemitriccus</td>\n",
       "      <td>[-0.6632762994387703, -0.6899940104368311, -0....</td>\n",
       "      <td>0.746252</td>\n",
       "    </tr>\n",
       "    <tr>\n",
       "      <th>171</th>\n",
       "      <td>0.54</td>\n",
       "      <td>0.60000</td>\n",
       "      <td>0.630000</td>\n",
       "      <td>-0.628619</td>\n",
       "      <td>-0.661589</td>\n",
       "      <td>-0.736807</td>\n",
       "      <td>0</td>\n",
       "      <td>first</td>\n",
       "      <td>Phyllomyias-burmeisteri-334789.wav</td>\n",
       "      <td>EdZamora</td>\n",
       "      <td>Phyllomyias</td>\n",
       "      <td>[-0.6632762994387703, -0.6899940104368311, -0....</td>\n",
       "      <td>0.747251</td>\n",
       "    </tr>\n",
       "  </tbody>\n",
       "</table>\n",
       "</div>"
      ],
      "text/plain": [
       "     0.25      0.5      0.75  0.25_IQR   0.5_IQR  0.75_IQR  \\\n",
       "114  0.51  0.58000  0.669950 -0.653969 -0.677135 -0.708299   \n",
       "66   0.49  0.58000  0.700000 -0.670868 -0.677135 -0.686855   \n",
       "12   0.54  0.59000  0.700000 -0.628619 -0.669362 -0.686855   \n",
       "113  0.52  0.56995  0.602475 -0.645519 -0.684947 -0.756449   \n",
       "171  0.54  0.60000  0.630000 -0.628619 -0.661589 -0.736807   \n",
       "\n",
       "     Segment K-means IQR Cluster                              IN FILE  \\\n",
       "114                    0   first  Hemitriccus-griseipectus-284293.wav   \n",
       "66                     0   first            Diglossa-glauca-20771.wav   \n",
       "12                     0   first  Campephilus-melanoleucos-453548.wav   \n",
       "113                    0   first  Hemitriccus-griseipectus-284279.wav   \n",
       "171                    0   first   Phyllomyias-burmeisteri-334789.wav   \n",
       "\n",
       "    LAST MOD BY        Genus  \\\n",
       "114    EdZamora  Hemitriccus   \n",
       "66        kkong     Diglossa   \n",
       "12     EdZamora  Campephilus   \n",
       "113    EdZamora  Hemitriccus   \n",
       "171    EdZamora  Phyllomyias   \n",
       "\n",
       "                                              CENTROID  Distance_to_Centroid  \n",
       "114  [-0.6632762994387703, -0.6899940104368311, -0....              0.661388  \n",
       "66   [-0.6632762994387703, -0.6899940104368311, -0....              0.689864  \n",
       "12   [-0.6632762994387703, -0.6899940104368311, -0....              0.732908  \n",
       "113  [-0.6632762994387703, -0.6899940104368311, -0....              0.746252  \n",
       "171  [-0.6632762994387703, -0.6899940104368311, -0....              0.747251  "
      ]
     },
     "execution_count": 22,
     "metadata": {},
     "output_type": "execute_result"
    }
   ],
   "source": [
    "clust_1 = df_segm_iqr_kmeans[df_segm_iqr_kmeans['Segment K-means IQR'] == 0].sort_values(by=['Distance_to_Centroid']).iloc[:5]\n",
    "clust_2 = df_segm_iqr_kmeans[df_segm_iqr_kmeans['Segment K-means IQR'] == 1].sort_values(by=['Distance_to_Centroid']).iloc[:5]\n",
    "clust_3 = df_segm_iqr_kmeans[df_segm_iqr_kmeans['Segment K-means IQR'] == 2].sort_values(by=['Distance_to_Centroid']).iloc[:5]\n",
    "clust_4 = df_segm_iqr_kmeans[df_segm_iqr_kmeans['Segment K-means IQR'] == 3].sort_values(by=['Distance_to_Centroid']).iloc[:5]\n",
    "clust_5 = df_segm_iqr_kmeans[df_segm_iqr_kmeans['Segment K-means IQR'] == 4].sort_values(by=['Distance_to_Centroid']).iloc[:5]\n",
    "\n",
    "clust_1"
   ]
  },
  {
   "cell_type": "code",
   "execution_count": 23,
   "metadata": {},
   "outputs": [
    {
     "data": {
      "text/html": [
       "<div>\n",
       "<style scoped>\n",
       "    .dataframe tbody tr th:only-of-type {\n",
       "        vertical-align: middle;\n",
       "    }\n",
       "\n",
       "    .dataframe tbody tr th {\n",
       "        vertical-align: top;\n",
       "    }\n",
       "\n",
       "    .dataframe thead th {\n",
       "        text-align: right;\n",
       "    }\n",
       "</style>\n",
       "<table border=\"1\" class=\"dataframe\">\n",
       "  <thead>\n",
       "    <tr style=\"text-align: right;\">\n",
       "      <th></th>\n",
       "      <th>IN FILE</th>\n",
       "      <th>CLIP LENGTH</th>\n",
       "      <th>OFFSET</th>\n",
       "      <th>DURATION</th>\n",
       "      <th>MAX FREQ</th>\n",
       "      <th>MIN FREQ</th>\n",
       "      <th>SAMPLE RATE</th>\n",
       "      <th>MANUAL ID</th>\n",
       "      <th>TIME_SPENT</th>\n",
       "      <th>LAST MOD BY</th>\n",
       "      <th>LAST MOD DATE</th>\n",
       "      <th>LAST MOD TIME</th>\n",
       "    </tr>\n",
       "  </thead>\n",
       "  <tbody>\n",
       "    <tr>\n",
       "      <th>3916</th>\n",
       "      <td>Campephilus-melanoleucos-453548.wav</td>\n",
       "      <td>63.3208</td>\n",
       "      <td>7.2804</td>\n",
       "      <td>0.5500</td>\n",
       "      <td>24000</td>\n",
       "      <td>0</td>\n",
       "      <td>44100</td>\n",
       "      <td>Campephilus melanoleucos Crimson-crested Woodp...</td>\n",
       "      <td>167.773</td>\n",
       "      <td>EdZamora</td>\n",
       "      <td>11/21/2021</td>\n",
       "      <td>15:26:18</td>\n",
       "    </tr>\n",
       "    <tr>\n",
       "      <th>3917</th>\n",
       "      <td>Campephilus-melanoleucos-453548.wav</td>\n",
       "      <td>63.3208</td>\n",
       "      <td>6.4004</td>\n",
       "      <td>0.6800</td>\n",
       "      <td>24000</td>\n",
       "      <td>0</td>\n",
       "      <td>44100</td>\n",
       "      <td>Campephilus melanoleucos Crimson-crested Woodp...</td>\n",
       "      <td>167.768</td>\n",
       "      <td>EdZamora</td>\n",
       "      <td>11/21/2021</td>\n",
       "      <td>15:26:18</td>\n",
       "    </tr>\n",
       "    <tr>\n",
       "      <th>3918</th>\n",
       "      <td>Campephilus-melanoleucos-453548.wav</td>\n",
       "      <td>63.3208</td>\n",
       "      <td>10.2904</td>\n",
       "      <td>0.6901</td>\n",
       "      <td>24000</td>\n",
       "      <td>0</td>\n",
       "      <td>44100</td>\n",
       "      <td>Campephilus melanoleucos Crimson-crested Woodp...</td>\n",
       "      <td>167.774</td>\n",
       "      <td>EdZamora</td>\n",
       "      <td>11/21/2021</td>\n",
       "      <td>15:26:18</td>\n",
       "    </tr>\n",
       "    <tr>\n",
       "      <th>3919</th>\n",
       "      <td>Campephilus-melanoleucos-453548.wav</td>\n",
       "      <td>63.3208</td>\n",
       "      <td>9.2804</td>\n",
       "      <td>0.5300</td>\n",
       "      <td>24000</td>\n",
       "      <td>0</td>\n",
       "      <td>44100</td>\n",
       "      <td>Campephilus melanoleucos Crimson-crested Woodp...</td>\n",
       "      <td>167.774</td>\n",
       "      <td>EdZamora</td>\n",
       "      <td>11/21/2021</td>\n",
       "      <td>15:26:18</td>\n",
       "    </tr>\n",
       "    <tr>\n",
       "      <th>3920</th>\n",
       "      <td>Campephilus-melanoleucos-453548.wav</td>\n",
       "      <td>63.3208</td>\n",
       "      <td>8.3804</td>\n",
       "      <td>0.5600</td>\n",
       "      <td>24000</td>\n",
       "      <td>0</td>\n",
       "      <td>44100</td>\n",
       "      <td>Campephilus melanoleucos Crimson-crested Woodp...</td>\n",
       "      <td>167.773</td>\n",
       "      <td>EdZamora</td>\n",
       "      <td>11/21/2021</td>\n",
       "      <td>15:26:18</td>\n",
       "    </tr>\n",
       "    <tr>\n",
       "      <th>...</th>\n",
       "      <td>...</td>\n",
       "      <td>...</td>\n",
       "      <td>...</td>\n",
       "      <td>...</td>\n",
       "      <td>...</td>\n",
       "      <td>...</td>\n",
       "      <td>...</td>\n",
       "      <td>...</td>\n",
       "      <td>...</td>\n",
       "      <td>...</td>\n",
       "      <td>...</td>\n",
       "      <td>...</td>\n",
       "    </tr>\n",
       "    <tr>\n",
       "      <th>19868</th>\n",
       "      <td>Phyllomyias-burmeisteri-334789.wav</td>\n",
       "      <td>43.0498</td>\n",
       "      <td>30.7124</td>\n",
       "      <td>0.6900</td>\n",
       "      <td>24000</td>\n",
       "      <td>0</td>\n",
       "      <td>44100</td>\n",
       "      <td>Phyllomyias burmeisteri Rough-legged Tyrannulet</td>\n",
       "      <td>488.430</td>\n",
       "      <td>EdZamora</td>\n",
       "      <td>11/17/2021</td>\n",
       "      <td>10:11:51</td>\n",
       "    </tr>\n",
       "    <tr>\n",
       "      <th>19869</th>\n",
       "      <td>Phyllomyias-burmeisteri-334789.wav</td>\n",
       "      <td>43.0498</td>\n",
       "      <td>32.5023</td>\n",
       "      <td>0.6200</td>\n",
       "      <td>24000</td>\n",
       "      <td>0</td>\n",
       "      <td>44100</td>\n",
       "      <td>Phyllomyias burmeisteri Rough-legged Tyrannulet</td>\n",
       "      <td>488.431</td>\n",
       "      <td>EdZamora</td>\n",
       "      <td>11/17/2021</td>\n",
       "      <td>10:11:51</td>\n",
       "    </tr>\n",
       "    <tr>\n",
       "      <th>19870</th>\n",
       "      <td>Phyllomyias-burmeisteri-334789.wav</td>\n",
       "      <td>43.0498</td>\n",
       "      <td>35.0623</td>\n",
       "      <td>0.6000</td>\n",
       "      <td>24000</td>\n",
       "      <td>0</td>\n",
       "      <td>44100</td>\n",
       "      <td>Phyllomyias burmeisteri Rough-legged Tyrannulet</td>\n",
       "      <td>488.433</td>\n",
       "      <td>EdZamora</td>\n",
       "      <td>11/17/2021</td>\n",
       "      <td>10:11:51</td>\n",
       "    </tr>\n",
       "    <tr>\n",
       "      <th>19871</th>\n",
       "      <td>Phyllomyias-burmeisteri-334789.wav</td>\n",
       "      <td>43.0498</td>\n",
       "      <td>37.1923</td>\n",
       "      <td>0.5800</td>\n",
       "      <td>24000</td>\n",
       "      <td>0</td>\n",
       "      <td>44100</td>\n",
       "      <td>Phyllomyias burmeisteri Rough-legged Tyrannulet</td>\n",
       "      <td>488.434</td>\n",
       "      <td>EdZamora</td>\n",
       "      <td>11/17/2021</td>\n",
       "      <td>10:11:51</td>\n",
       "    </tr>\n",
       "    <tr>\n",
       "      <th>19872</th>\n",
       "      <td>Phyllomyias-burmeisteri-334789.wav</td>\n",
       "      <td>43.0498</td>\n",
       "      <td>39.3923</td>\n",
       "      <td>0.6600</td>\n",
       "      <td>24000</td>\n",
       "      <td>0</td>\n",
       "      <td>44100</td>\n",
       "      <td>Phyllomyias burmeisteri Rough-legged Tyrannulet</td>\n",
       "      <td>488.435</td>\n",
       "      <td>EdZamora</td>\n",
       "      <td>11/17/2021</td>\n",
       "      <td>10:11:51</td>\n",
       "    </tr>\n",
       "  </tbody>\n",
       "</table>\n",
       "<p>166 rows × 12 columns</p>\n",
       "</div>"
      ],
      "text/plain": [
       "                                   IN FILE  CLIP LENGTH   OFFSET  DURATION  \\\n",
       "3916   Campephilus-melanoleucos-453548.wav      63.3208   7.2804    0.5500   \n",
       "3917   Campephilus-melanoleucos-453548.wav      63.3208   6.4004    0.6800   \n",
       "3918   Campephilus-melanoleucos-453548.wav      63.3208  10.2904    0.6901   \n",
       "3919   Campephilus-melanoleucos-453548.wav      63.3208   9.2804    0.5300   \n",
       "3920   Campephilus-melanoleucos-453548.wav      63.3208   8.3804    0.5600   \n",
       "...                                    ...          ...      ...       ...   \n",
       "19868   Phyllomyias-burmeisteri-334789.wav      43.0498  30.7124    0.6900   \n",
       "19869   Phyllomyias-burmeisteri-334789.wav      43.0498  32.5023    0.6200   \n",
       "19870   Phyllomyias-burmeisteri-334789.wav      43.0498  35.0623    0.6000   \n",
       "19871   Phyllomyias-burmeisteri-334789.wav      43.0498  37.1923    0.5800   \n",
       "19872   Phyllomyias-burmeisteri-334789.wav      43.0498  39.3923    0.6600   \n",
       "\n",
       "       MAX FREQ  MIN FREQ  SAMPLE RATE  \\\n",
       "3916      24000         0        44100   \n",
       "3917      24000         0        44100   \n",
       "3918      24000         0        44100   \n",
       "3919      24000         0        44100   \n",
       "3920      24000         0        44100   \n",
       "...         ...       ...          ...   \n",
       "19868     24000         0        44100   \n",
       "19869     24000         0        44100   \n",
       "19870     24000         0        44100   \n",
       "19871     24000         0        44100   \n",
       "19872     24000         0        44100   \n",
       "\n",
       "                                               MANUAL ID  TIME_SPENT  \\\n",
       "3916   Campephilus melanoleucos Crimson-crested Woodp...     167.773   \n",
       "3917   Campephilus melanoleucos Crimson-crested Woodp...     167.768   \n",
       "3918   Campephilus melanoleucos Crimson-crested Woodp...     167.774   \n",
       "3919   Campephilus melanoleucos Crimson-crested Woodp...     167.774   \n",
       "3920   Campephilus melanoleucos Crimson-crested Woodp...     167.773   \n",
       "...                                                  ...         ...   \n",
       "19868    Phyllomyias burmeisteri Rough-legged Tyrannulet     488.430   \n",
       "19869    Phyllomyias burmeisteri Rough-legged Tyrannulet     488.431   \n",
       "19870    Phyllomyias burmeisteri Rough-legged Tyrannulet     488.433   \n",
       "19871    Phyllomyias burmeisteri Rough-legged Tyrannulet     488.434   \n",
       "19872    Phyllomyias burmeisteri Rough-legged Tyrannulet     488.435   \n",
       "\n",
       "      LAST MOD BY LAST MOD DATE LAST MOD TIME  \n",
       "3916     EdZamora    11/21/2021      15:26:18  \n",
       "3917     EdZamora    11/21/2021      15:26:18  \n",
       "3918     EdZamora    11/21/2021      15:26:18  \n",
       "3919     EdZamora    11/21/2021      15:26:18  \n",
       "3920     EdZamora    11/21/2021      15:26:18  \n",
       "...           ...           ...           ...  \n",
       "19868    EdZamora    11/17/2021      10:11:51  \n",
       "19869    EdZamora    11/17/2021      10:11:51  \n",
       "19870    EdZamora    11/17/2021      10:11:51  \n",
       "19871    EdZamora    11/17/2021      10:11:51  \n",
       "19872    EdZamora    11/17/2021      10:11:51  \n",
       "\n",
       "[166 rows x 12 columns]"
      ]
     },
     "execution_count": 23,
     "metadata": {},
     "output_type": "execute_result"
    }
   ],
   "source": [
    "kaleidoscope_format = pd.read_csv('for_data_science_newline_fixed.csv')\n",
    "five_nearest_to_centroid = kaleidoscope_format[kaleidoscope_format['IN FILE'].isin(clust_1['IN FILE'].to_list())] \n",
    "five_nearest_to_centroid"
   ]
  },
  {
   "cell_type": "code",
   "execution_count": null,
   "metadata": {},
   "outputs": [],
   "source": [
    "#Cosine Similarity on annotations. gives similarity percentage. avoids dealing with high dimensionality"
   ]
  }
 ],
 "metadata": {
  "interpreter": {
   "hash": "d1b7c51cb1c07a1a0543a455994ca61e31e66a1747528d0d0492d9b5937ed4ce"
  },
  "kernelspec": {
   "display_name": "Python 3.8.12 ('tweety')",
   "language": "python",
   "name": "python3"
  },
  "language_info": {
   "codemirror_mode": {
    "name": "ipython",
    "version": 3
   },
   "file_extension": ".py",
   "mimetype": "text/x-python",
   "name": "python",
   "nbconvert_exporter": "python",
   "pygments_lexer": "ipython3",
   "version": "3.8.12"
  },
  "orig_nbformat": 4
 },
 "nbformat": 4,
 "nbformat_minor": 2
}
